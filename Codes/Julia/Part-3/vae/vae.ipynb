{
 "cells": [
  {
   "cell_type": "markdown",
   "id": "5cedd213-90cc-4106-91d3-ec0ac4c8ff65",
   "metadata": {},
   "source": [
    "# VARIATIONAL AUTOENCODER (VAE)\n",
    "---"
   ]
  },
  {
   "cell_type": "code",
   "execution_count": 1,
   "id": "beab227b-2d88-4b30-ac4d-52f0ebbaf1c3",
   "metadata": {},
   "outputs": [
    {
     "name": "stdout",
     "output_type": "stream",
     "text": [
      "Julia Version 1.11.2\n",
      "Commit 5e9a32e7af2 (2024-12-01 20:02 UTC)\n",
      "Build Info:\n",
      "  Official https://julialang.org/ release\n",
      "Platform Info:\n",
      "  OS: Linux (x86_64-linux-gnu)\n",
      "  CPU: 8 × Intel(R) Core(TM) i7-8565U CPU @ 1.80GHz\n",
      "  WORD_SIZE: 64\n",
      "  LLVM: libLLVM-16.0.6 (ORCJIT, skylake)\n",
      "Threads: 1 default, 0 interactive, 1 GC (on 8 virtual cores)\n",
      "Environment:\n",
      "  DYLD_LIBRARY_PATH = /home/mhamdi/torch/install/lib:/home/mhamdi/torch/install/lib:/home/mhamdi/torch/install/lib:\n",
      "  LD_LIBRARY_PATH = /home/mhamdi/torch/install/lib:/home/mhamdi/torch/install/lib:/home/mhamdi/torch/install/lib:\n",
      "  JULIA_NUM_THREADS = 8\n"
     ]
    }
   ],
   "source": [
    "versioninfo() # -> v\"1.11.2\""
   ]
  },
  {
   "cell_type": "markdown",
   "id": "58bdb6b7-1714-405f-8112-699ff9c37c6a",
   "metadata": {},
   "source": [
    "VAE implemented in `Julia` using the `Flux.jl` library"
   ]
  },
  {
   "cell_type": "markdown",
   "id": "09828e35-8f57-48bf-acee-2eedec9c3557",
   "metadata": {},
   "source": [
    "Import the machine learning library `Flux`"
   ]
  },
  {
   "cell_type": "code",
   "execution_count": null,
   "id": "127ab0b7-5b37-4265-a66e-4c35d7df1ba6",
   "metadata": {},
   "outputs": [],
   "source": [
    "using Flux # v\"0.16.0\"\n",
    "using Flux: @functor\n",
    "using Flux: DataLoader\n",
    "using Flux: onecold, onehotbatch"
   ]
  },
  {
   "cell_type": "code",
   "execution_count": null,
   "id": "ed08fb17-bcad-4ee8-ab55-0a11588804ea",
   "metadata": {},
   "outputs": [],
   "source": [
    "using ProgressMeter: Progress, next!"
   ]
  },
  {
   "cell_type": "code",
   "execution_count": null,
   "id": "f7c37037-9d7e-4e72-8346-f8328326c610",
   "metadata": {},
   "outputs": [],
   "source": [
    "using MLDatasets\n",
    "d = MNIST()"
   ]
  },
  {
   "cell_type": "code",
   "execution_count": null,
   "id": "74719038-eea2-4101-b795-71f3210c040c",
   "metadata": {},
   "outputs": [],
   "source": [
    "Base.@kwdef mutable struct HyperParams\n",
    "    η = 3f-3                        # Learning rate\n",
    "    λ = 1f-2                        # Regularization parameter\n",
    "    batchsize = 64                  # Batch size\n",
    "    epochs = 16                     # Number of epochs\n",
    "    split = :train                  # Split data into `train` and `test`\n",
    "    input_dim = 28*28               # Input dimension\n",
    "    hidden_dim = 512                # Hidden dimension\n",
    "    latent_dim = 2                  # Latent dimension\n",
    "    # save_path = \"Output\"          # Results folder\n",
    "end"
   ]
  },
  {
   "cell_type": "markdown",
   "id": "1d86adcb-099a-4afc-b554-0717640aae0c",
   "metadata": {},
   "source": [
    "Load the **MNIST** dataset"
   ]
  },
  {
   "cell_type": "code",
   "execution_count": null,
   "id": "bc126bdd-1dfd-44c1-b6fb-bfa019516e44",
   "metadata": {},
   "outputs": [],
   "source": [
    "function get_data(; kws...)\n",
    "    args = HyperParams(; kws...);\n",
    "    md\"Split data\"\n",
    "    data = MNIST(split=args.split);\n",
    "    X = reshape(data.features, (args.input_dim, :));\n",
    "    loader = DataLoader(X; batchsize=args.batchsize, shuffle=true);\n",
    "    return loader\n",
    "end"
   ]
  },
  {
   "cell_type": "code",
   "execution_count": null,
   "id": "5e8eeff3-a9db-42de-9005-aa5cc2adfa13",
   "metadata": {},
   "outputs": [],
   "source": [
    "train_loader = get_data();\n",
    "test_loader = get_data(split=:test);"
   ]
  },
  {
   "cell_type": "markdown",
   "id": "bc40899e-5ae7-4e21-8315-cc3c9fb71571",
   "metadata": {},
   "source": [
    "Define the `encoder` network: The encoder network should return the parameters of the _latent distribution_ (μ and σ)."
   ]
  },
  {
   "cell_type": "code",
   "execution_count": null,
   "id": "79fcdbea-c6d4-4d51-ab1f-e75fb33940ec",
   "metadata": {},
   "outputs": [],
   "source": [
    "struct Encoder\n",
    "    linear\n",
    "    μ\n",
    "    log_σ\n",
    "end"
   ]
  },
  {
   "cell_type": "code",
   "execution_count": null,
   "id": "9f1c171e-a2f6-4a65-9843-6f7f5ec3a46c",
   "metadata": {},
   "outputs": [],
   "source": [
    "@functor Encoder"
   ]
  },
  {
   "cell_type": "code",
   "execution_count": null,
   "id": "5f6dfed6-ee27-4d16-89da-510dde2e132d",
   "metadata": {},
   "outputs": [],
   "source": [
    "encoder(input_dim::Int, hidden_dim::Int, latent_dim::Int) = Encoder(\n",
    "    Dense(input_dim, hidden_dim, tanh),   # linear\n",
    "    Dense(hidden_dim, latent_dim),        # μ\n",
    "    Dense(hidden_dim, latent_dim),        # log_σ\n",
    ")"
   ]
  },
  {
   "cell_type": "code",
   "execution_count": null,
   "id": "938a17e8-4a49-46ab-815a-73fd70cd2e46",
   "metadata": {},
   "outputs": [],
   "source": [
    "function (encoder::Encoder)(x)\n",
    "    h = encoder.linear(x)\n",
    "    encoder.μ(h), encoder.log_σ(h)\n",
    "end"
   ]
  },
  {
   "cell_type": "markdown",
   "id": "2b653535-0cfb-44e7-ab0f-363638bb0cd5",
   "metadata": {},
   "source": [
    "Define the `decoder` network: The decoder network should return the reconstruction of the input data"
   ]
  },
  {
   "cell_type": "code",
   "execution_count": null,
   "id": "6bc6817b-1f4a-4d65-89ca-8d9ede2f4b11",
   "metadata": {},
   "outputs": [],
   "source": [
    "decoder(input_dim::Int, hidden_dim::Int, latent_dim::Int) = Chain(\n",
    "    Dense(latent_dim, hidden_dim, tanh),\n",
    "    Dense(hidden_dim, input_dim)\n",
    ")"
   ]
  },
  {
   "cell_type": "markdown",
   "id": "7dca5ce8-aced-43b8-9c01-75a7893153ef",
   "metadata": {},
   "source": [
    "Reconstruction of the input data"
   ]
  },
  {
   "cell_type": "code",
   "execution_count": null,
   "id": "9ae574d6-17b2-4aba-8749-09d2b84bf95c",
   "metadata": {},
   "outputs": [],
   "source": [
    "function vae(x, enc, dec)\n",
    "    # Encode `x` into the latent space\n",
    "    μ, log_σ = enc(x)\n",
    "    # `z` si a sample from the latent distribution\n",
    "    z = μ + randn(Float32, size(log_σ)) .* exp.(log_σ)\n",
    "    # Decode the latent representation into a reconstruction of `x`\n",
    "    x̂ = dec(z)\n",
    "    # Return μ, log_σ and x̂\n",
    "    μ, log_σ, x̂\n",
    "end"
   ]
  },
  {
   "cell_type": "code",
   "execution_count": null,
   "id": "99660b4d-c3ce-469c-bb9c-fdd86a3feb13",
   "metadata": {},
   "outputs": [],
   "source": [
    "function l(x, enc, dec, λ)\n",
    "    μ, log_σ, x̂ = vae(x, enc, dec)\n",
    "    len = size(x)[end]\n",
    "    # The reconstruction loss measures how well the VAE was able to reconstruct the input data\n",
    "    logp_x_z = -Flux.Losses.logitbinarycrossentropy(x̂, x, agg=sum) / len\n",
    "    # The KL divergence loss measures how close the latent distribution is to the normal distribution\n",
    "    kl_q_p = 5f-1 * sum(@. (-2f0 * log_σ - 1f0 + exp(2f0 * log_σ) + μ^2)) / len\n",
    "    # L2 Regularization\n",
    "    reg = λ * sum( θ -> sum(θ.^2), Flux.params(dec) )\n",
    "    # Sum of the reconstruction loss and the KL divergence loss\n",
    "    -logp_x_z + kl_q_p + reg\n",
    "end"
   ]
  },
  {
   "cell_type": "code",
   "execution_count": null,
   "id": "e8ace135-e555-4266-a007-ae7c91b3adc7",
   "metadata": {},
   "outputs": [],
   "source": [
    "function train(; kws...)\n",
    "    args = HyperParams(; kws...)\n",
    "    \n",
    "    # Initialize `encoder` and `decoder`\n",
    "    enc_mdl = encoder(args.input_dim, args.hidden_dim, args.latent_dim)\n",
    "    dec_mdl = decoder(args.input_dim, args.hidden_dim, args.latent_dim)\n",
    "    \n",
    "    # ADAM optimizers\n",
    "    opt_enc = Flux.setup(Adam(args.η), enc_mdl)\n",
    "    opt_dec = Flux.setup(Adam(args.η), dec_mdl)\n",
    "\n",
    "    for epoch in 1:args.epochs\n",
    "        printstyled(\"\\t***\\t === EPOCH $(epoch) === \\t*** \\n\", color=:magenta, bold=true)\n",
    "        progress = Progress(length(train_loader))\n",
    "        for X in train_loader\n",
    "                loss, back = Flux.pullback(enc_mdl, dec_mdl) do enc, dec\n",
    "                    l(X, enc, dec, args.λ)\n",
    "                end\n",
    "                grad_enc, grad_dec = back(1f0)\n",
    "                Flux.update!(opt_enc, enc_mdl, grad_enc) # Upd `encoder` params\n",
    "                Flux.update!(opt_dec, dec_mdl, grad_dec) # Upd `decoder` params\n",
    "                next!(progress; showvalues=[(:loss, loss)]) \n",
    "        end\n",
    "    end\n",
    "    \n",
    "    # Save the model\n",
    "    #=\n",
    "    using DrWatson: struct2dict\n",
    "    using BSON\n",
    "\n",
    "    mdl_path = joinpath(args.save_path, \"vae.bson\")\n",
    "    let args=struct2dict(args)\n",
    "    \tBSON.@save mdl_path encoder decoder args\n",
    "    \t@info \"Model saved to $(mdl_path)\"\n",
    "    end\n",
    "    =#\n",
    "    \n",
    "    enc_mdl, dec_mdl\n",
    "end"
   ]
  },
  {
   "cell_type": "code",
   "execution_count": null,
   "id": "94970592-419d-4779-9f21-7a7f626503f8",
   "metadata": {},
   "outputs": [],
   "source": [
    "enc_model, dec_model = train()"
   ]
  }
 ],
 "metadata": {
  "kernelspec": {
   "display_name": "IJulia 1.11.2",
   "language": "julia",
   "name": "ijulia-1.11"
  },
  "language_info": {
   "file_extension": ".jl",
   "mimetype": "application/julia",
   "name": "julia",
   "version": "1.11.2"
  }
 },
 "nbformat": 4,
 "nbformat_minor": 5
}
