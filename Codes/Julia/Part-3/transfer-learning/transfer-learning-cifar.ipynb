{
 "cells": [
  {
   "cell_type": "markdown",
   "id": "d52e9d9b-c443-4afc-9165-de5f0bbefdd8",
   "metadata": {},
   "source": [
    "# Transfer Learning (CIFAR'10 DATASET) \n",
    "---"
   ]
  },
  {
   "cell_type": "code",
   "execution_count": 1,
   "id": "15ba77ea-916a-46f0-873e-9efec3bcc889",
   "metadata": {},
   "outputs": [
    {
     "name": "stdout",
     "output_type": "stream",
     "text": [
      "Julia Version 1.11.2\n",
      "Commit 5e9a32e7af2 (2024-12-01 20:02 UTC)\n",
      "Build Info:\n",
      "  Official https://julialang.org/ release\n",
      "Platform Info:\n",
      "  OS: Linux (x86_64-linux-gnu)\n",
      "  CPU: 8 × Intel(R) Core(TM) i7-8565U CPU @ 1.80GHz\n",
      "  WORD_SIZE: 64\n",
      "  LLVM: libLLVM-16.0.6 (ORCJIT, skylake)\n",
      "Threads: 1 default, 0 interactive, 1 GC (on 8 virtual cores)\n",
      "Environment:\n",
      "  LD_LIBRARY_PATH = /home/mhamdi/torch/install/lib:/home/mhamdi/torch/install/lib:/home/mhamdi/torch/install/lib:\n",
      "  DYLD_LIBRARY_PATH = /home/mhamdi/torch/install/lib:/home/mhamdi/torch/install/lib:/home/mhamdi/torch/install/lib:\n",
      "  JULIA_NUM_THREADS = 8\n"
     ]
    }
   ],
   "source": [
    "versioninfo() # -> v\"1.11.1\""
   ]
  },
  {
   "cell_type": "code",
   "execution_count": 2,
   "id": "a4926843-683c-4c2c-a6b1-ee0dad409dcf",
   "metadata": {},
   "outputs": [
    {
     "name": "stderr",
     "output_type": "stream",
     "text": [
      "\u001b[32m\u001b[1m  Activating\u001b[22m\u001b[39m project at `~/Work/git-repos/AI-ML-DL/jlai/Codes/Julia/Part-3/transfer-learning`\n"
     ]
    },
    {
     "name": "stdout",
     "output_type": "stream",
     "text": [
      "\u001b[32m\u001b[1mStatus\u001b[22m\u001b[39m `~/Work/git-repos/AI-ML-DL/jlai/Codes/Julia/Part-3/transfer-learning/Project.toml`\n",
      "  \u001b[90m[88a5189c] \u001b[39mDataAugmentation v0.3.2\n",
      "\u001b[33m⌅\u001b[39m \u001b[90m[587475ba] \u001b[39mFlux v0.14.25\n",
      "  \u001b[90m[4e3cecfd] \u001b[39mImageShow v0.3.8\n",
      "  \u001b[90m[916415d5] \u001b[39mImages v0.26.1\n",
      "  \u001b[90m[eb30cadb] \u001b[39mMLDatasets v0.7.18\n",
      "  \u001b[90m[dbeba491] \u001b[39mMetalhead v0.9.4\n",
      "  \u001b[90m[c3e4b0f8] \u001b[39mPluto v0.20.4\n",
      "  \u001b[90m[7f904dfe] \u001b[39mPlutoUI v0.7.60\n",
      "  \u001b[90m[d6f4376e] \u001b[39mMarkdown v1.11.0\n",
      "\u001b[36m\u001b[1mInfo\u001b[22m\u001b[39m Packages marked with \u001b[33m⌅\u001b[39m have new versions available but compatibility constraints restrict them from upgrading. To see why use `status --outdated`\n"
     ]
    }
   ],
   "source": [
    "using Pkg; pkg\"activate .\"; pkg\"status\""
   ]
  },
  {
   "cell_type": "code",
   "execution_count": 3,
   "id": "affa73d1-c0f1-4bdf-b8b8-75edefa4ae0c",
   "metadata": {},
   "outputs": [],
   "source": [
    "using Metalhead"
   ]
  },
  {
   "cell_type": "markdown",
   "id": "4c1ac3cb-7258-4676-8ea4-2cab796f0150",
   "metadata": {},
   "source": [
    "Load the pre-trained model"
   ]
  },
  {
   "cell_type": "markdown",
   "id": "324af6f4-24af-47ed-8f72-48c8d7fd68f0",
   "metadata": {},
   "source": [
    "[API Reference](https://fluxml.ai/Metalhead.jl/dev/api/reference/#API-Reference)"
   ]
  },
  {
   "cell_type": "code",
   "execution_count": 4,
   "id": "f37129df-6b06-4d1b-8d1e-b4db317fafa9",
   "metadata": {},
   "outputs": [],
   "source": [
    "resnet = ResNet(18; pretrain=true).layers;"
   ]
  },
  {
   "cell_type": "code",
   "execution_count": 5,
   "id": "82a521d9-5871-4716-83d1-77b998f4d233",
   "metadata": {},
   "outputs": [],
   "source": [
    "using Flux\n",
    "using Flux: onecold, onehotbatch"
   ]
  },
  {
   "cell_type": "code",
   "execution_count": 6,
   "id": "702c366c-afbe-40af-8e49-b6ddd659d545",
   "metadata": {},
   "outputs": [
    {
     "data": {
      "text/plain": [
       "Chain(\n",
       "  Chain(\n",
       "    Chain(\n",
       "      Chain(\n",
       "        Conv((7, 7), 3 => 64, pad=3, stride=2, bias=false),  \u001b[90m# 9_408 parameters\u001b[39m\n",
       "        BatchNorm(64, relu),            \u001b[90m# 128 parameters\u001b[39m\u001b[90m, plus 128\u001b[39m\n",
       "        MaxPool((3, 3), pad=1, stride=2),\n",
       "      ),\n",
       "      Chain(\n",
       "        Parallel(\n",
       "          addact(NNlib.relu, ...),\n",
       "          identity,\n",
       "          Chain(\n",
       "            Conv((3, 3), 64 => 64, pad=1, bias=false),  \u001b[90m# 36_864 parameters\u001b[39m\n",
       "            BatchNorm(64),              \u001b[90m# 128 parameters\u001b[39m\u001b[90m, plus 128\u001b[39m\n",
       "            NNlib.relu,\n",
       "            Conv((3, 3), 64 => 64, pad=1, bias=false),  \u001b[90m# 36_864 parameters\u001b[39m\n",
       "            BatchNorm(64),              \u001b[90m# 128 parameters\u001b[39m\u001b[90m, plus 128\u001b[39m\n",
       "          ),\n",
       "        ),\n",
       "        Parallel(\n",
       "          addact(NNlib.relu, ...),\n",
       "          identity,\n",
       "          Chain(\n",
       "            Conv((3, 3), 64 => 64, pad=1, bias=false),  \u001b[90m# 36_864 parameters\u001b[39m\n",
       "            BatchNorm(64),              \u001b[90m# 128 parameters\u001b[39m\u001b[90m, plus 128\u001b[39m\n",
       "            NNlib.relu,\n",
       "            Conv((3, 3), 64 => 64, pad=1, bias=false),  \u001b[90m# 36_864 parameters\u001b[39m\n",
       "            BatchNorm(64),              \u001b[90m# 128 parameters\u001b[39m\u001b[90m, plus 128\u001b[39m\n",
       "          ),\n",
       "        ),\n",
       "      ),\n",
       "      Chain(\n",
       "        Parallel(\n",
       "          addact(NNlib.relu, ...),\n",
       "          Chain(\n",
       "            Conv((1, 1), 64 => 128, stride=2, bias=false),  \u001b[90m# 8_192 parameters\u001b[39m\n",
       "            BatchNorm(128),             \u001b[90m# 256 parameters\u001b[39m\u001b[90m, plus 256\u001b[39m\n",
       "          ),\n",
       "          Chain(\n",
       "            Conv((3, 3), 64 => 128, pad=1, stride=2, bias=false),  \u001b[90m# 73_728 parameters\u001b[39m\n",
       "            BatchNorm(128),             \u001b[90m# 256 parameters\u001b[39m\u001b[90m, plus 256\u001b[39m\n",
       "            NNlib.relu,\n",
       "            Conv((3, 3), 128 => 128, pad=1, bias=false),  \u001b[90m# 147_456 parameters\u001b[39m\n",
       "            BatchNorm(128),             \u001b[90m# 256 parameters\u001b[39m\u001b[90m, plus 256\u001b[39m\n",
       "          ),\n",
       "        ),\n",
       "        Parallel(\n",
       "          addact(NNlib.relu, ...),\n",
       "          identity,\n",
       "          Chain(\n",
       "            Conv((3, 3), 128 => 128, pad=1, bias=false),  \u001b[90m# 147_456 parameters\u001b[39m\n",
       "            BatchNorm(128),             \u001b[90m# 256 parameters\u001b[39m\u001b[90m, plus 256\u001b[39m\n",
       "            NNlib.relu,\n",
       "            Conv((3, 3), 128 => 128, pad=1, bias=false),  \u001b[90m# 147_456 parameters\u001b[39m\n",
       "            BatchNorm(128),             \u001b[90m# 256 parameters\u001b[39m\u001b[90m, plus 256\u001b[39m\n",
       "          ),\n",
       "        ),\n",
       "      ),\n",
       "      Chain(\n",
       "        Parallel(\n",
       "          addact(NNlib.relu, ...),\n",
       "          Chain(\n",
       "            Conv((1, 1), 128 => 256, stride=2, bias=false),  \u001b[90m# 32_768 parameters\u001b[39m\n",
       "            BatchNorm(256),             \u001b[90m# 512 parameters\u001b[39m\u001b[90m, plus 512\u001b[39m\n",
       "          ),\n",
       "          Chain(\n",
       "            Conv((3, 3), 128 => 256, pad=1, stride=2, bias=false),  \u001b[90m# 294_912 parameters\u001b[39m\n",
       "            BatchNorm(256),             \u001b[90m# 512 parameters\u001b[39m\u001b[90m, plus 512\u001b[39m\n",
       "            NNlib.relu,\n",
       "            Conv((3, 3), 256 => 256, pad=1, bias=false),  \u001b[90m# 589_824 parameters\u001b[39m\n",
       "            BatchNorm(256),             \u001b[90m# 512 parameters\u001b[39m\u001b[90m, plus 512\u001b[39m\n",
       "          ),\n",
       "        ),\n",
       "        Parallel(\n",
       "          addact(NNlib.relu, ...),\n",
       "          identity,\n",
       "          Chain(\n",
       "            Conv((3, 3), 256 => 256, pad=1, bias=false),  \u001b[90m# 589_824 parameters\u001b[39m\n",
       "            BatchNorm(256),             \u001b[90m# 512 parameters\u001b[39m\u001b[90m, plus 512\u001b[39m\n",
       "            NNlib.relu,\n",
       "            Conv((3, 3), 256 => 256, pad=1, bias=false),  \u001b[90m# 589_824 parameters\u001b[39m\n",
       "            BatchNorm(256),             \u001b[90m# 512 parameters\u001b[39m\u001b[90m, plus 512\u001b[39m\n",
       "          ),\n",
       "        ),\n",
       "      ),\n",
       "      Chain(\n",
       "        Parallel(\n",
       "          addact(NNlib.relu, ...),\n",
       "          Chain(\n",
       "            Conv((1, 1), 256 => 512, stride=2, bias=false),  \u001b[90m# 131_072 parameters\u001b[39m\n",
       "            BatchNorm(512),             \u001b[90m# 1_024 parameters\u001b[39m\u001b[90m, plus 1_024\u001b[39m\n",
       "          ),\n",
       "          Chain(\n",
       "            Conv((3, 3), 256 => 512, pad=1, stride=2, bias=false),  \u001b[90m# 1_179_648 parameters\u001b[39m\n",
       "            BatchNorm(512),             \u001b[90m# 1_024 parameters\u001b[39m\u001b[90m, plus 1_024\u001b[39m\n",
       "            NNlib.relu,\n",
       "            Conv((3, 3), 512 => 512, pad=1, bias=false),  \u001b[90m# 2_359_296 parameters\u001b[39m\n",
       "            BatchNorm(512),             \u001b[90m# 1_024 parameters\u001b[39m\u001b[90m, plus 1_024\u001b[39m\n",
       "          ),\n",
       "        ),\n",
       "        Parallel(\n",
       "          addact(NNlib.relu, ...),\n",
       "          identity,\n",
       "          Chain(\n",
       "            Conv((3, 3), 512 => 512, pad=1, bias=false),  \u001b[90m# 2_359_296 parameters\u001b[39m\n",
       "            BatchNorm(512),             \u001b[90m# 1_024 parameters\u001b[39m\u001b[90m, plus 1_024\u001b[39m\n",
       "            NNlib.relu,\n",
       "            Conv((3, 3), 512 => 512, pad=1, bias=false),  \u001b[90m# 2_359_296 parameters\u001b[39m\n",
       "            BatchNorm(512),             \u001b[90m# 1_024 parameters\u001b[39m\u001b[90m, plus 1_024\u001b[39m\n",
       "          ),\n",
       "        ),\n",
       "      ),\n",
       "    ),\n",
       "  ),\n",
       "  Chain(AdaptiveMeanPool((1, 1)), flatten),\n",
       "  Dense(512 => 256, relu),              \u001b[90m# 131_328 parameters\u001b[39m\n",
       "  Dense(256 => 10),                     \u001b[90m# 2_570 parameters\u001b[39m\n",
       ") \u001b[90m        # Total: 64 trainable arrays, \u001b[39m11_310_410 parameters,\n",
       "\u001b[90m          # plus 40 non-trainable, 9_600 parameters, summarysize \u001b[39m43.190 MiB."
      ]
     },
     "execution_count": 6,
     "metadata": {},
     "output_type": "execute_result"
    }
   ],
   "source": [
    "mdl = Chain(\n",
    "    resnet[1:end-1],\n",
    "    resnet[end][1:end-1],\n",
    "    # Replace the last layer\n",
    "    Dense(512 => 256, relu),\n",
    "    Dense(256 => 10)\n",
    ")"
   ]
  },
  {
   "cell_type": "markdown",
   "id": "8fb474f3-4ee9-4f03-b0b8-a8441d2052b5",
   "metadata": {},
   "source": [
    "Load the CIFAR10 dataset"
   ]
  },
  {
   "cell_type": "code",
   "execution_count": 7,
   "id": "eab2ed2e-848e-4bb8-96a9-f5bf2536b061",
   "metadata": {},
   "outputs": [],
   "source": [
    "using MLDatasets: CIFAR10"
   ]
  },
  {
   "cell_type": "code",
   "execution_count": 8,
   "id": "09099f26-d62c-415e-bfe6-0396b6c9bf12",
   "metadata": {},
   "outputs": [
    {
     "data": {
      "text/plain": [
       "dataset CIFAR10:\n",
       "  metadata  =>    Dict{String, Any} with 2 entries\n",
       "  split     =>    :train\n",
       "  features  =>    32×32×3×50000 Array{Float32, 4}\n",
       "  targets   =>    50000-element Vector{Int64}"
      ]
     },
     "execution_count": 8,
     "metadata": {},
     "output_type": "execute_result"
    }
   ],
   "source": [
    "d = CIFAR10()"
   ]
  },
  {
   "cell_type": "code",
   "execution_count": 9,
   "id": "b29feeaf-a1a0-44d0-a7d3-909b3a6b8e77",
   "metadata": {},
   "outputs": [
    {
     "data": {
      "text/plain": [
       "33582"
      ]
     },
     "execution_count": 9,
     "metadata": {},
     "output_type": "execute_result"
    }
   ],
   "source": [
    "idx = rand(1:50000)"
   ]
  },
  {
   "cell_type": "code",
   "execution_count": 10,
   "id": "a002c744-b7c7-4f1b-a9f1-b287aac2a8bd",
   "metadata": {},
   "outputs": [],
   "source": [
    "using ImageShow"
   ]
  },
  {
   "cell_type": "code",
   "execution_count": 11,
   "id": "0ff977dc-9068-4dc8-b6cd-685170e0a6ae",
   "metadata": {},
   "outputs": [],
   "source": [
    "using MLDatasets: convert2image"
   ]
  },
  {
   "cell_type": "code",
   "execution_count": 12,
   "id": "d1904947-08a8-4645-b336-f871e559b1b0",
   "metadata": {},
   "outputs": [
    {
     "data": {
      "image/png": "[encoded data removed]",
      "text/html": [
       "<img src=\"data:image/png;base64,iVBORw0KGgoAAAANSUhEUgAAAIAAAACACAIAAABMXPacAAAABGdBTUEAALGPC/xhBQAAAAFzUkdCAK7OHOkAAAAgY0hSTQAAeiYAAICEAAD6AAAAgOgAAHUwAADqYAAAOpgAABdwnLpRPAAADTtJREFUeAHtwUmvJeddx/HvM1SdOsM9d3C3O90esFsOirPJBiRYskLivfC+eAvsWQTBAokQsCzb8ZAeb9/hTDU+z5/Vr64XjaKwqU19PvGf/vkfkViskX4okPvDDjk275AieGQVL5DUXCF3tzXiLCMxeCSnAjFnyO3dW+T7H35Cvv3mNeIsIF2bkKE3xOGRal0iLpRIsg4p1wPy2Rdb5NHTCgmFQ7o+I8fjgFy/OyB3tz3StgGJzCYVmU0qMptUfPemR8ztkWQe8UWPtEdG2VWIi2vkuPPIbs/o9vodYrlBnn36CInLhNiyRvw6IX49MMoNsl5FRkNEhj4gmQIpyhWyWhbI1S8G5MvfXCJlyag+9cjNTY90zQn5i4+eII8vB+T6zQ6JzCYVmU0qMptUxB4jMZRIVRSIuQ65714ibYqIBY/s9yfkzds3yO7+HZJyg9z3N8i+vUPq7oQYCdk+CcijJyvk6uIcKamQ096QV696pG0NKZcO2Vx5ZHfYIT45xLsKqYoVcrHmQdshrh2QkHskMptUZDapyGxS8di2SOUi4kNAuj4jr1/cI8dDh5TFHskWEB8y8tHHjxCzHvnjy9dIc0hIsaiQzVmJnF9VyIefrpHoCiQ3HvHG6NknHomFRxbrBgnFEWmOCemOHum6GsnGyDtG1y/vkdt3DdJ1CYnMJhWZTSoym1S8vn+BxNMaqYozJPgbpFy0SEoBydmQbIaUVUSW52ukKAJiZYFsjmtkvVkgZ2dLZLEokGpRIrt3A3L9cofs7g7I+aMNcv50hazPloj3G2QVArJ5skG8K5GmG5Dd4R5ZLHrk0ROPpCEjkdmkIrNJRWaTim/vvkeSeUZpgVQuIN2BUddWiLkSqbYRadwReVMfEN8HJFSeBw7ZtTVyt68ZdR7Znm+Ru7sjstsfEPMDsopL5PX9HRJPjBZlgRQFoxQYLWJEjIiEckCKTY24ZUJSMiQym1RkNqnIbFLRO48stwukLEvEmogMOSFd2yNDd0KKXCGWMjIMNdKnHrHBkObYIad9jaTekEW5RPZNjRSLAlmceyQ5Q+7aWyTVmZExis4jVRmQalkjZayQ4D1i1iGH+oQcjkek73okMptUZDapyGxSMQ0VkvoSycUCiauIVN6QFBNyuMnI9etbJJQD0g0d0g8dEoJDYvRIEUtkufTIartEuq5DzHvEB49YLpDc9UjTNIhlRlVZIZtyg/TNgHQcELOMpJQRM0N8XiAFJRKZTSoym1RkNqlYrDdIcoxODaPcd0gmIBYC4gpG97c7JPJgGFpkyD0SFx4xPzAKCYkVozafkN3uiJRFhWy3l8jFxRYJMSPr5RkyDAOSkyGDMcopI957JMYCWZQRORyOSE4Z6bsOicwmFZlNKjKbVOzNI33XI33bIrnNSFFWSNMOyG7XINkHJLJGjIh0/R45NCekz0ekWkekCiViwSPOeWRRVYj3Dtkfj4iPhqwWSyQQka5tkLdvXiJlWSBFWSCr1Qo5v1ggXd8ju/t75LDbI5HZpCKzSUVmk4r7XY20/QlpmwaxNjFyHkkpI6mPyHp1yejkkLbukbZPyGJbIefnEdmcL5CiKpABQ9IwIOtqjaTekNube+T2/hY5W2+Qs7MzJISANKcOWYQlcrpvkMPuiKSckLZrkZQTEkJEIrNJRWaTiswmFY/7I5IZkOgKRmVEhiEhZVkioaiQfmfI3d0dsrs7IOYTUp2fI2VVIm3XIXd3e2R/f0JS6pEYIiPzyNBnZBgS8uhsiXgLSNu0SFF4JOeE5JSQuj4hP+52iPMOMWNUhAKJzCYVmU0qMptUtGSMzDGKjJquYWQeWYQScTxo2iPStjViqUeci0jfMLp+vWPkWqRvW+R4XyPHwwlxziGLaoGsVktkuVgibd0hKSXEBUOqRYX4YEgVSyTnAXn1xxukCAWSyYy8QyKzSUVmk4rMJhVP+yOy2ayRq8srpOlrJHUDklNGhr5FQjkw8i3ifEK8C4jLjKpyg6zOtsiQG0b+GklkJHeG5M6QQ3dE6vKEHE97pKwWyGq9QraXZ0jTnhAzQ+q6Rdo+ISEuEBcc4rwhkdmkIrNJRWaTisf7A9J3HZJSQuqmRvZ3OyRERsvNAnFWIl3fICkHJESPuOSRyp8h7fGAHJsGGYYBubhaIy4FZH9XI/e3e6QkIGaMhm5Amn2N7K7vEPOMilgiNmSk33XIoU7I5QcfIFeXl0hkNqnIbFKR2aTixcVjpK5PyIsfXiHOMXIhI84YnXY10u8apNn1SB4iI4tILHqkOSSkWG6RbbVG1uVjxKxB7u7eIX0/IM4zGpoB6eseCd4j0QVkGAbEnEMs816ucMjF4wtkebZBBmMUmU0qMptUZDapWN80yH5/QI6nE3JxuUVCyahrWuS0q5H+YEjfM7JhQEKISBEMsTwgqfNIEQtkVayRsgrI+eop0j6ukbZtkJwSMvQDkvoeScOA5DQg7dAidX1E+q5BfGFIPzTI8ZgRM0aR2aQis0lFZpOKp1d3yOG0Q5rcIX3fIzEyytmQoTMk9YY4F5FYFIj3DunampFndDrtkJwdsiiWyHpzhqw2G2RdbZGztUdS7hmZIXkYkJwGxHnPKETEUkKa0wG5vXuD3B+ukbodkJwHJDKbVGQ2qchsUnG9LZG8XCGFlUhnA5K6hGTLSPaGWGSUc0aWywpZr86R4ErkdGqRvmsZOYfYIiNGRvq+QWKMPHCMjNEw9MjQt8gw9IjxIJQrZFEtkeWyQp5+9BzZ7C+R12++Rw6HN0hkNqnIbFKR2aTi1dMPkEW3QpJLjIJDur5Duq5D+r5HhqFHcnJIQcEoD8jp2CJ93SNpGBCzhPTtATkdPOKc44FjZIyCi0jKGXHOIaGISFEukJwYDU2NHO8MSXlAsg2IxyPnl5dIZDapyGxSkdmk4t//3T8wcoxyHpBsGWm6BmnaBmnaGmmbmvfJnUNurw/IV//zB+TmWCNd3yEp9UhOA+IcIzPjfRwO8XhGPiCL5QpZLCtkUS6QoW2Ruq6RtqmRlHpks10jj55cIh88OUcis0lFZpOKzCYVf/Xpr5EYA+IwRsZoyAlJKSEpDUjOA5LygKRhQG7e3SKP1pfIv/z235HrYUCqcoWcn22Q1WqJdG2DnOoT0jYN0vcDEooSKZYLxHuP7A97pD+dkNT3iCMjy7JA/vo3v0E+//xT5PGjKyQym1RkNqnIbFKxKCISY2RkvJc3Q8wMMYyRGZLNELOMrNcXyPbsAnn15hoZvv4O2W63yN/+zV8hn3z8EXKqj8jd7Q1yd3+HHI8nxFxAjqcWeXt9g/z40wvEyIw8IzMeeEYfPnmMPH/+GXJ1cY5EZpOKzCYVmU0qEjziQuD9DAnGyPgZM8TMEG/GA0NiCIi/ukSePn2GvHh9jZyfb5Hnzz9Dnj37BeI9o5QGJKUBydl44JDd/Q755pvvkN/+a0ZevL5GjqcayXjEfEB+99XXyPbyEqnWayQym1RkNqnIbFLRcIg53svhEYchjgfGA+ccYmaImSHOM/LeI+v1ClmUJeKcZ2SekXnEsiHOBaQoIxJiRJxjtF6vkfPtFvnFh4+R3/3+K+Srr79Fbu93yGZ7jvR9Qn7/1ddInxISmU0qMptUZDap6HhgZozMkGyMvHP8OYyfcYwMh5gLyHJZIYsyIpZ75HQ68sAhzjkkJ0NyNiTlhATvEO88slpvkC9++Uvkw8dPkMvLK+S//vsrpO0T8uWXv0LevH2F/PTjD0hkNqnIbFKR2aQiP+OMn3GIWUayGeKcQ5xzvI9zjgeOB4aEGJHlaok8enSJ9P2ANM2JBxmJsUS890jOGRnSgKTEyLwh5j3iHaOz8y1yeXWJXF5dIUNKyJe/+gK5OF8ht7e3SGQ2qchsUpHZpCJmvI9zDokx8qeYGWJm/CnOOcQ5h/R9h2w2GySlhDRNw/t47xHnHOK9533MDHHOIc45xDDkcKyRY90im7Mz5C9/+QXy+OoSCc4h3gUkMptUZDapyGxSkZ9xziHOOd7HOcefI+eMGIaklJHj4Yi8fPkaydmQIhbI/f0O6fsBKYqBB46RYxRCRJxziHOMshmSUkJ+evEKcT4gz59/jnz+2SdIGQKSzSHvbu6RyGxSkdmkIrNJRf4PZoaYGf9fOWfEMORwOCF/+MNPSNsZUpZLxMyQw/6InE41EoJDQvSID4EHAfEYI3NI23XI6+tb5Nvvf0CePH6EfPLRU6SMkQcOORxrZLc/IJHZpCKzSUVmk4ree8R7j5gZ4r1HzAwxMyTnzPs45xBnjFaLEnn29AlSVgvkm+++Qw77HfLxJx8jMQYkW0ZcMkZmiCMhmQdNn5BXb2+Rf/uP/0Suthvk8QeXyLoqEcsJGbJD9oc94hyjyGxSkdmkIrNJxa7rkJwz7+O9533MDDEzxDmHWDZGlhEfHHJxuUHKVYmEwiNt0yLnmzWyXFZIiAFxPDAzJOeMmGXk5uYd8uOPPyGnwx759fOPkbNliXTNCXEhMgol8vFHz5CnT54gkdmkIrNJRWaT+l/agu8CzTRZjwAAAABJRU5ErkJg\">"
      ],
      "text/plain": [
       "32×32 reinterpret(reshape, ColorTypes.RGB{Float32}, ::Array{Float32, 3}) with eltype ColorTypes.RGB{Float32}:\n",
       " RGB{Float32}(0.658824,0.72549,0.427451)   …  RGB{Float32}(0.219608,0.333333,0.223529)\n",
       " RGB{Float32}(0.584314,0.639216,0.407843)     RGB{Float32}(0.313726,0.407843,0.25098)\n",
       " RGB{Float32}(0.584314,0.635294,0.490196)     RGB{Float32}(0.32549,0.4,0.231373)\n",
       " RGB{Float32}(0.541176,0.607843,0.462745)     RGB{Float32}(0.235294,0.294118,0.196078)\n",
       " RGB{Float32}(0.462745,0.54902,0.360784)      RGB{Float32}(0.392157,0.466667,0.356863)\n",
       " RGB{Float32}(0.380392,0.486275,0.239216)  …  RGB{Float32}(0.423529,0.541176,0.360784)\n",
       " RGB{Float32}(0.388235,0.490196,0.247059)     RGB{Float32}(0.305882,0.435294,0.247059)\n",
       " RGB{Float32}(0.376471,0.47451,0.278431)      RGB{Float32}(0.32549,0.435294,0.290196)\n",
       " RGB{Float32}(0.396078,0.517647,0.32549)      RGB{Float32}(0.305882,0.411765,0.266667)\n",
       " RGB{Float32}(0.376471,0.513726,0.333333)     RGB{Float32}(0.215686,0.32549,0.172549)\n",
       " RGB{Float32}(0.32549,0.458824,0.298039)   …  RGB{Float32}(0.227451,0.337255,0.188235)\n",
       " RGB{Float32}(0.282353,0.407843,0.254902)     RGB{Float32}(0.227451,0.317647,0.188235)\n",
       " RGB{Float32}(0.278431,0.396078,0.25098)      RGB{Float32}(0.156863,0.247059,0.12549)\n",
       " ⋮                                         ⋱  \n",
       " RGB{Float32}(0.576471,0.592157,0.537255)  …  RGB{Float32}(0.305882,0.345098,0.294118)\n",
       " RGB{Float32}(0.733333,0.709804,0.701961)     RGB{Float32}(0.576471,0.556863,0.541176)\n",
       " RGB{Float32}(0.752941,0.729412,0.717647)     RGB{Float32}(0.698039,0.67451,0.654902)\n",
       " RGB{Float32}(0.752941,0.741176,0.72549)      RGB{Float32}(0.658824,0.654902,0.639216)\n",
       " RGB{Float32}(0.74902,0.741176,0.729412)      RGB{Float32}(0.486275,0.494118,0.490196)\n",
       " RGB{Float32}(0.752941,0.741176,0.729412)  …  RGB{Float32}(0.376471,0.380392,0.372549)\n",
       " RGB{Float32}(0.752941,0.741176,0.729412)     RGB{Float32}(0.439216,0.435294,0.423529)\n",
       " RGB{Float32}(0.752941,0.737255,0.72549)      RGB{Float32}(0.513726,0.505882,0.501961)\n",
       " RGB{Float32}(0.752941,0.737255,0.72549)      RGB{Float32}(0.541176,0.533333,0.537255)\n",
       " RGB{Float32}(0.752941,0.737255,0.72549)      RGB{Float32}(0.486275,0.482353,0.490196)\n",
       " RGB{Float32}(0.760784,0.745098,0.733333)  …  RGB{Float32}(0.490196,0.486275,0.490196)\n",
       " RGB{Float32}(0.737255,0.721569,0.709804)     RGB{Float32}(0.678431,0.666667,0.666667)"
      ]
     },
     "execution_count": 12,
     "metadata": {},
     "output_type": "execute_result"
    }
   ],
   "source": [
    "convert2image(d, idx)"
   ]
  },
  {
   "cell_type": "code",
   "execution_count": 13,
   "id": "23880307-a586-473d-9d22-e00970065138",
   "metadata": {},
   "outputs": [
    {
     "name": "stdout",
     "output_type": "stream",
     "text": [
      "\u001b[31m\u001b[1mLabel is 4\u001b[22m\u001b[39m"
     ]
    }
   ],
   "source": [
    "printstyled(\"Label is $(d.targets[idx])\"; bold=true, color=:red)"
   ]
  },
  {
   "cell_type": "code",
   "execution_count": 14,
   "id": "3be51a61-659d-487d-a39d-762603d423b2",
   "metadata": {},
   "outputs": [
    {
     "data": {
      "text/plain": [
       "get_data (generic function with 2 methods)"
      ]
     },
     "execution_count": 14,
     "metadata": {},
     "output_type": "execute_result"
    }
   ],
   "source": [
    "function get_data(split, lm::Integer=1024)\n",
    "    data = CIFAR10(split)\n",
    "    X, y = data.features[:, :, :, 1:lm] ./ 255, onehotbatch(data.targets[1:lm], 0:9)\n",
    "    loader = Flux.DataLoader((X, y); batchsize=16, shuffle=true)\n",
    "    return loader\n",
    "end"
   ]
  },
  {
   "cell_type": "code",
   "execution_count": 15,
   "id": "46b2d5dd-ad56-4ac5-ad8f-a622ed4082e7",
   "metadata": {},
   "outputs": [],
   "source": [
    "train_loader = get_data(:train, 512);\n",
    "test_loader = get_data(:test, 128);"
   ]
  },
  {
   "cell_type": "markdown",
   "id": "53b8429b-3ea6-4e5b-9139-a11fac2cda72",
   "metadata": {},
   "source": [
    "Define a setup of the optimizer"
   ]
  },
  {
   "cell_type": "code",
   "execution_count": 16,
   "id": "8b6f1b33-b8b4-47a8-add8-32a48186da52",
   "metadata": {},
   "outputs": [
    {
     "data": {
      "text/plain": [
       "Params([Float32[0.062949754 -0.0015656921 … 0.077504165 -0.03588768; -0.0037537669 -0.0647934 … 0.07406734 0.058980837; … ; -0.077901356 -0.0155950505 … -0.058319192 -0.05510754; 0.07489979 0.08095779 … -0.052442648 -0.004094387], Float32[0.0, 0.0, 0.0, 0.0, 0.0, 0.0, 0.0, 0.0, 0.0, 0.0  …  0.0, 0.0, 0.0, 0.0, 0.0, 0.0, 0.0, 0.0, 0.0, 0.0], Float32[-0.026275884 -0.08689357 … -0.016626066 -0.023994584; 0.051166374 0.104917854 … -0.06314454 -0.063493095; … ; 0.08377673 -0.087479085 … -0.1303668 0.009646148; -0.10541802 -0.0024897186 … 0.079061404 -0.14347434], Float32[0.0, 0.0, 0.0, 0.0, 0.0, 0.0, 0.0, 0.0, 0.0, 0.0]])"
      ]
     },
     "execution_count": 16,
     "metadata": {},
     "output_type": "execute_result"
    }
   ],
   "source": [
    "loss(X, y) = Flux.Losses.logitcrossentropy(mdl(X), y)\n",
    "opt = Adam(3e-3)\n",
    "ps = Flux.params(mdl[3:end])"
   ]
  },
  {
   "cell_type": "code",
   "execution_count": 17,
   "id": "466739de-6abd-4257-ba46-5257d2a056a3",
   "metadata": {},
   "outputs": [
    {
     "name": "stdout",
     "output_type": "stream",
     "text": [
      "Training\n",
      "Training\n",
      "Training\n",
      "Training\n",
      "Training\n",
      "Training\n",
      "Training\n",
      "Training\n",
      "Training\n",
      "Training\n",
      "Training\n",
      "Training\n",
      "Training\n",
      "Training\n",
      "Training\n",
      "Training\n"
     ]
    }
   ],
   "source": [
    "for epoch in 1:8\n",
    "    Flux.train!(\n",
    "        loss, \n",
    "        ps, \n",
    "        train_loader, \n",
    "        opt, \n",
    "        cb = Flux.throttle(() -> println(\"Training\"), 10)\n",
    "    )\n",
    "end"
   ]
  },
  {
   "cell_type": "code",
   "execution_count": 18,
   "id": "b41ffb60-8e29-4b1d-a00a-564ba1c2179f",
   "metadata": {},
   "outputs": [
    {
     "name": "stdout",
     "output_type": "stream",
     "text": [
      "(32, 32, 3)\n",
      ", 32, 3, 1)\n"
     ]
    }
   ],
   "source": [
    "sample = d.features[:, :, :, idx]\n",
    "println(size(sample))\n",
    "mb_sample = reshape(sample, 32, 32, 3, 1)\n",
    "println(size(mb_sample))"
   ]
  },
  {
   "cell_type": "code",
   "execution_count": 19,
   "id": "2fe3fcb7-7dc1-45f5-837c-56ff6efce78c",
   "metadata": {},
   "outputs": [
    {
     "data": {
      "text/plain": [
       "1-element Vector{Int64}:\n",
       " 5"
      ]
     },
     "execution_count": 19,
     "metadata": {},
     "output_type": "execute_result"
    }
   ],
   "source": [
    "mdl(mb_sample) |> softmax |> onecold"
   ]
  },
  {
   "cell_type": "code",
   "execution_count": 20,
   "id": "ce1d6613-785b-49ba-a0cf-8847a3cc3fb7",
   "metadata": {},
   "outputs": [],
   "source": [
    "#=\n",
    "using Optimisers\n",
    "opt_state = Optimisers.setup(Adam(3e-3), mdl[3:end]) # Freeze the weights of the pre-trained layers\n",
    "using ProgressMeter\n",
    "epochs = 5\n",
    "# Fine-tune the model\n",
    "for epoch in 1:epochs\n",
    "    @showprogress for (X, y) in train_loader\n",
    "        # Compute the gradient of the loss with respect to the model's parameters\n",
    "        ∇ = Flux.gradient( m -> loss(m, X, y), mdl)\n",
    "        # Update the `mdl`'s parameters\n",
    "        Flux.update!(opt_state, mdl, ∇[1])\n",
    "    end\n",
    "    @info \"Calculate the accuracy on the test set\"\n",
    "    for (X, y) in test_loader\n",
    "        accuracy = sum(onecold(mdll(X)) .== onecold(y)) / length(y)\n",
    "        println(\"Epoch: $epoch, Accuracy: $accuracy\")\n",
    "    end\n",
    "end\n",
    "=#"
   ]
  }
 ],
 "metadata": {
  "kernelspec": {
   "display_name": "IJulia 1.11.2",
   "language": "julia",
   "name": "ijulia-1.11"
  },
  "language_info": {
   "file_extension": ".jl",
   "mimetype": "application/julia",
   "name": "julia",
   "version": "1.11.2"
  }
 },
 "nbformat": 4,
 "nbformat_minor": 5
}
