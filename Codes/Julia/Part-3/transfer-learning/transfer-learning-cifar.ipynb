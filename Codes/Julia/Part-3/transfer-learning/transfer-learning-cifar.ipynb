{
 "cells": [
  {
   "cell_type": "markdown",
   "id": "d52e9d9b-c443-4afc-9165-de5f0bbefdd8",
   "metadata": {},
   "source": [
    "# Transfer Learning (CIFAR10 DATASET) \n",
    "---"
   ]
  },
  {
   "cell_type": "code",
   "execution_count": 1,
   "id": "15ba77ea-916a-46f0-873e-9efec3bcc889",
   "metadata": {},
   "outputs": [
    {
     "name": "stdout",
     "output_type": "stream",
     "text": [
      "Julia Version 1.11.1\n",
      "Commit 8f5b7ca12ad (2024-10-16 10:53 UTC)\n",
      "Build Info:\n",
      "  Official https://julialang.org/ release\n",
      "Platform Info:\n",
      "  OS: Linux (x86_64-linux-gnu)\n",
      "  CPU: 8 × Intel(R) Core(TM) i7-8565U CPU @ 1.80GHz\n",
      "  WORD_SIZE: 64\n",
      "  LLVM: libLLVM-16.0.6 (ORCJIT, skylake)\n",
      "Threads: 1 default, 0 interactive, 1 GC (on 8 virtual cores)\n",
      "Environment:\n",
      "  LD_LIBRARY_PATH = /home/mhamdi/torch/install/lib:/home/mhamdi/torch/install/lib:/home/mhamdi/torch/install/lib:\n",
      "  DYLD_LIBRARY_PATH = /home/mhamdi/torch/install/lib:/home/mhamdi/torch/install/lib:/home/mhamdi/torch/install/lib:\n",
      "  JULIA_NUM_THREADS = 8\n"
     ]
    }
   ],
   "source": [
    "versioninfo() # -> v\"1.11.1\""
   ]
  },
  {
   "cell_type": "code",
   "execution_count": null,
   "id": "affa73d1-c0f1-4bdf-b8b8-75edefa4ae0c",
   "metadata": {},
   "outputs": [],
   "source": [
    "using Metalhead"
   ]
  },
  {
   "cell_type": "markdown",
   "id": "4c1ac3cb-7258-4676-8ea4-2cab796f0150",
   "metadata": {},
   "source": [
    "Load the pre-trained model"
   ]
  },
  {
   "cell_type": "markdown",
   "id": "324af6f4-24af-47ed-8f72-48c8d7fd68f0",
   "metadata": {},
   "source": [
    "[API Reference](https://fluxml.ai/Metalhead.jl/dev/api/reference/#API-Reference)"
   ]
  },
  {
   "cell_type": "code",
   "execution_count": null,
   "id": "f37129df-6b06-4d1b-8d1e-b4db317fafa9",
   "metadata": {},
   "outputs": [],
   "source": [
    "resnet = ResNet(18; pretrain=true).layers;"
   ]
  },
  {
   "cell_type": "code",
   "execution_count": null,
   "id": "82a521d9-5871-4716-83d1-77b998f4d233",
   "metadata": {},
   "outputs": [],
   "source": [
    "using Flux\n",
    "using Flux: onecold, onehotbatch"
   ]
  },
  {
   "cell_type": "code",
   "execution_count": null,
   "id": "702c366c-afbe-40af-8e49-b6ddd659d545",
   "metadata": {},
   "outputs": [],
   "source": [
    "mdl = Chain(\n",
    "    resnet[1:end-1],\n",
    "    resnet[end][1:end-1],\n",
    "    # Replace the last layer\n",
    "    Dense(512 => 256, relu),\n",
    "    Dense(256 => 10)\n",
    ")"
   ]
  },
  {
   "cell_type": "code",
   "execution_count": null,
   "id": "eab2ed2e-848e-4bb8-96a9-f5bf2536b061",
   "metadata": {},
   "outputs": [],
   "source": [
    "using MLDatasets: CIFAR10"
   ]
  },
  {
   "cell_type": "markdown",
   "id": "8fb474f3-4ee9-4f03-b0b8-a8441d2052b5",
   "metadata": {},
   "source": [
    "Load the CIFAR10 dataset"
   ]
  },
  {
   "cell_type": "code",
   "execution_count": null,
   "id": "3be51a61-659d-487d-a39d-762603d423b2",
   "metadata": {},
   "outputs": [],
   "source": [
    "function get_data(split, lm::Integer=1024)\n",
    "    data = CIFAR10(split)\n",
    "    X, y = data.features[:, :, :, 1:lm] ./ 255, onehotbatch(data.targets[1:lm], 0:9)\n",
    "    loader = Flux.DataLoader((X, y); batchsize=16, shuffle=true)\n",
    "    return loader\n",
    "end"
   ]
  },
  {
   "cell_type": "code",
   "execution_count": null,
   "id": "46b2d5dd-ad56-4ac5-ad8f-a622ed4082e7",
   "metadata": {},
   "outputs": [],
   "source": [
    "train_loader = get_data(:train, 512);\n",
    "test_loader = get_data(:test, 128);"
   ]
  },
  {
   "cell_type": "markdown",
   "id": "53b8429b-3ea6-4e5b-9139-a11fac2cda72",
   "metadata": {},
   "source": [
    "Define a setup of the optimizer"
   ]
  },
  {
   "cell_type": "code",
   "execution_count": null,
   "id": "8b6f1b33-b8b4-47a8-add8-32a48186da52",
   "metadata": {},
   "outputs": [],
   "source": [
    "loss(X, y) = Flux.Losses.logitcrossentropy(mdl(X), y)\n",
    "opt = Adam(3e-3)\n",
    "ps = Flux.params(mdl[3:end])"
   ]
  },
  {
   "cell_type": "code",
   "execution_count": null,
   "id": "466739de-6abd-4257-ba46-5257d2a056a3",
   "metadata": {},
   "outputs": [],
   "source": [
    "for epoch in 1:5\n",
    "    Flux.train!(loss, ps, train_loader, opt, cb=Flux.throttle(() -> println(\"Training\"), 10))\n",
    "end"
   ]
  },
  {
   "cell_type": "code",
   "execution_count": null,
   "id": "d0bcc743-9fb9-47b3-91e0-3233903810f4",
   "metadata": {},
   "outputs": [],
   "source": [
    "for epoch in 1:100\n",
    "  Flux.train!(model, train_set, opt_state) do m, x, y\n",
    "    loss(m(x), y)\n",
    "  end\n",
    "end"
   ]
  },
  {
   "cell_type": "code",
   "execution_count": null,
   "id": "3511328c-b23c-4176-a06f-65b8020cf7e7",
   "metadata": {},
   "outputs": [],
   "source": [
    "using ImageShow, ImageInTerminal"
   ]
  },
  {
   "cell_type": "code",
   "execution_count": null,
   "id": "31577d29-ae88-4aae-b6c3-c6137f2caea7",
   "metadata": {},
   "outputs": [],
   "source": [
    "idx = rand(1:50000)\n",
    "convert2image(d, idx)\n",
    "printstyled(\"Label is $(d.targets[idx])\"; bold=true, color=:red)"
   ]
  },
  {
   "cell_type": "code",
   "execution_count": null,
   "id": "ce1d6613-785b-49ba-a0cf-8847a3cc3fb7",
   "metadata": {},
   "outputs": [],
   "source": [
    "#=\n",
    "using Optimisers\n",
    "opt_state = Optimisers.setup(Adam(3e-3), mdl[3:end]) # Freeze the weights of the pre-trained layers\n",
    "using ProgressMeter\n",
    "epochs = 5\n",
    "# Fine-tune the model\n",
    "for epoch in 1:epochs\n",
    "    @showprogress for (X, y) in train_loader\n",
    "        # Compute the gradient of the loss with respect to the model's parameters\n",
    "        ∇ = Flux.gradient( m -> loss(m, X, y), mdl)\n",
    "        # Update the `mdl`'s parameters\n",
    "        Flux.update!(opt_state, mdl, ∇[1])\n",
    "    end\n",
    "    @info \"Calculate the accuracy on the test set\"\n",
    "    for (X, y) in test_loader\n",
    "        accuracy = sum(onecold(mdll(X)) .== onecold(y)) / length(y)\n",
    "        println(\"Epoch: $epoch, Accuracy: $accuracy\")\n",
    "    end\n",
    "end\n",
    "=#"
   ]
  }
 ],
 "metadata": {
  "kernelspec": {
   "display_name": "Julia 1.11.1",
   "language": "julia",
   "name": "julia-1.11"
  },
  "language_info": {
   "file_extension": ".jl",
   "mimetype": "application/julia",
   "name": "julia",
   "version": "1.11.1"
  }
 },
 "nbformat": 4,
 "nbformat_minor": 5
}
