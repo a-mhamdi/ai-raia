{
 "cells": [
  {
   "cell_type": "markdown",
   "id": "fad20012-cd54-4b2a-b425-18975bd1d0ef",
   "metadata": {},
   "source": [
    "# Transfer Learning (MNIST DATASET)\n",
    "---"
   ]
  },
  {
   "cell_type": "code",
   "execution_count": 1,
   "id": "52bd7677-35aa-42bd-88a5-5ce722b1c6a2",
   "metadata": {},
   "outputs": [],
   "source": [
    "# Gray Color Images , i.e., n° of channnels = 1"
   ]
  },
  {
   "cell_type": "code",
   "execution_count": 2,
   "id": "a8ed2021-edb4-4f5e-9525-6c1fc4fe194f",
   "metadata": {},
   "outputs": [
    {
     "name": "stdout",
     "output_type": "stream",
     "text": [
      "Julia Version 1.11.2\n",
      "Commit 5e9a32e7af2 (2024-12-01 20:02 UTC)\n",
      "Build Info:\n",
      "  Official https://julialang.org/ release\n",
      "Platform Info:\n",
      "  OS: Linux (x86_64-linux-gnu)\n",
      "  CPU: 8 × Intel(R) Core(TM) i7-8565U CPU @ 1.80GHz\n",
      "  WORD_SIZE: 64\n",
      "  LLVM: libLLVM-16.0.6 (ORCJIT, skylake)\n",
      "Threads: 1 default, 0 interactive, 1 GC (on 8 virtual cores)\n",
      "Environment:\n",
      "  LD_LIBRARY_PATH = /home/mhamdi/torch/install/lib:/home/mhamdi/torch/install/lib:/home/mhamdi/torch/install/lib:\n",
      "  DYLD_LIBRARY_PATH = /home/mhamdi/torch/install/lib:/home/mhamdi/torch/install/lib:/home/mhamdi/torch/install/lib:\n",
      "  JULIA_NUM_THREADS = 8\n"
     ]
    }
   ],
   "source": [
    "versioninfo() # -> v\"1.11.2\""
   ]
  },
  {
   "cell_type": "code",
   "execution_count": 3,
   "id": "bf4d3c37-44da-406d-b590-8ff7b84dec4d",
   "metadata": {},
   "outputs": [
    {
     "name": "stderr",
     "output_type": "stream",
     "text": [
      "\u001b[32m\u001b[1m  Activating\u001b[22m\u001b[39m project at `~/Work/git-repos/AI-ML-DL/jlai/Codes/Julia/Part-3/transfer-learning`\n"
     ]
    },
    {
     "name": "stdout",
     "output_type": "stream",
     "text": [
      "\u001b[32m\u001b[1mStatus\u001b[22m\u001b[39m `~/Work/git-repos/AI-ML-DL/jlai/Codes/Julia/Part-3/transfer-learning/Project.toml`\n",
      "  \u001b[90m[88a5189c] \u001b[39mDataAugmentation v0.3.2\n",
      "\u001b[33m⌅\u001b[39m \u001b[90m[587475ba] \u001b[39mFlux v0.14.25\n",
      "  \u001b[90m[916415d5] \u001b[39mImages v0.26.1\n",
      "  \u001b[90m[eb30cadb] \u001b[39mMLDatasets v0.7.18\n",
      "  \u001b[90m[dbeba491] \u001b[39mMetalhead v0.9.4\n",
      "  \u001b[90m[c3e4b0f8] \u001b[39mPluto v0.20.4\n",
      "  \u001b[90m[7f904dfe] \u001b[39mPlutoUI v0.7.60\n",
      "  \u001b[90m[d6f4376e] \u001b[39mMarkdown v1.11.0\n",
      "\u001b[36m\u001b[1mInfo\u001b[22m\u001b[39m Packages marked with \u001b[33m⌅\u001b[39m have new versions available but compatibility constraints restrict them from upgrading. To see why use `status --outdated`\n"
     ]
    }
   ],
   "source": [
    "using Pkg; pkg\"activate .\"; pkg\"status\""
   ]
  },
  {
   "cell_type": "code",
   "execution_count": 4,
   "id": "f8a8b799-ea33-4581-ba2f-14f4de721f3d",
   "metadata": {},
   "outputs": [],
   "source": [
    "using Metalhead"
   ]
  },
  {
   "cell_type": "markdown",
   "id": "2cbdc160-0674-4095-9380-c2447dc2e254",
   "metadata": {},
   "source": [
    "Load the pre-trained model"
   ]
  },
  {
   "cell_type": "markdown",
   "id": "dd05e920-99b2-4b90-b6a0-f4f58908ef74",
   "metadata": {},
   "source": [
    "[API Reference](https://fluxml.ai/Metalhead.jl/dev/api/reference/#API-Reference)"
   ]
  },
  {
   "cell_type": "code",
   "execution_count": 5,
   "id": "32df0d6d-d81c-4c33-8b77-94c0f2995cec",
   "metadata": {},
   "outputs": [],
   "source": [
    "vgg = VGG(16; pretrain=true).layers;"
   ]
  },
  {
   "cell_type": "code",
   "execution_count": 6,
   "id": "69369c55-a2cf-41a1-a408-72aa4538965b",
   "metadata": {},
   "outputs": [],
   "source": [
    "using DataAugmentation"
   ]
  },
  {
   "cell_type": "code",
   "execution_count": 7,
   "id": "e058f571-eedc-4d3c-906e-7c9bdc211c3b",
   "metadata": {},
   "outputs": [
    {
     "data": {
      "text/plain": [
       "Sequence{Tuple{Crop{2, DataAugmentation.FromCenter}, ImageToTensor{Float32}}}((Crop{2, DataAugmentation.FromCenter}((224, 224), DataAugmentation.FromCenter()), ImageToTensor{Float32}()))"
      ]
     },
     "execution_count": 7,
     "metadata": {},
     "output_type": "execute_result"
    }
   ],
   "source": [
    "tfm = CenterCrop((224, 224)) |> ImageToTensor()"
   ]
  },
  {
   "cell_type": "code",
   "execution_count": 8,
   "id": "9e3f43f2-e0a9-425a-901e-0c32c8e0cd6a",
   "metadata": {},
   "outputs": [],
   "source": [
    "using Flux\n",
    "using Flux: onecold, onehotbatch"
   ]
  },
  {
   "cell_type": "code",
   "execution_count": 9,
   "id": "ff2ce582-614d-4986-9f1b-f894cb2e4fbd",
   "metadata": {},
   "outputs": [
    {
     "data": {
      "text/plain": [
       "Chain(\n",
       "  Chain(\n",
       "    Chain(\n",
       "      Conv((3, 3), 3 => 64, relu, pad=1),  \u001b[90m# 1_792 parameters\u001b[39m\n",
       "      Conv((3, 3), 64 => 64, relu, pad=1),  \u001b[90m# 36_928 parameters\u001b[39m\n",
       "      MaxPool((2, 2)),\n",
       "      Conv((3, 3), 64 => 128, relu, pad=1),  \u001b[90m# 73_856 parameters\u001b[39m\n",
       "      Conv((3, 3), 128 => 128, relu, pad=1),  \u001b[90m# 147_584 parameters\u001b[39m\n",
       "      MaxPool((2, 2)),\n",
       "      Conv((3, 3), 128 => 256, relu, pad=1),  \u001b[90m# 295_168 parameters\u001b[39m\n",
       "      Conv((3, 3), 256 => 256, relu, pad=1),  \u001b[90m# 590_080 parameters\u001b[39m\n",
       "      Conv((3, 3), 256 => 256, relu, pad=1),  \u001b[90m# 590_080 parameters\u001b[39m\n",
       "      MaxPool((2, 2)),\n",
       "      Conv((3, 3), 256 => 512, relu, pad=1),  \u001b[90m# 1_180_160 parameters\u001b[39m\n",
       "      Conv((3, 3), 512 => 512, relu, pad=1),  \u001b[90m# 2_359_808 parameters\u001b[39m\n",
       "      Conv((3, 3), 512 => 512, relu, pad=1),  \u001b[90m# 2_359_808 parameters\u001b[39m\n",
       "      MaxPool((2, 2)),\n",
       "      Conv((3, 3), 512 => 512, relu, pad=1),  \u001b[90m# 2_359_808 parameters\u001b[39m\n",
       "      Conv((3, 3), 512 => 512, relu, pad=1),  \u001b[90m# 2_359_808 parameters\u001b[39m\n",
       "      Conv((3, 3), 512 => 512, relu, pad=1),  \u001b[90m# 2_359_808 parameters\u001b[39m\n",
       "      MaxPool((2, 2)),\n",
       "    ),\n",
       "  ),\n",
       "  Chain(\n",
       "    MLUtils.flatten,\n",
       "    Dense(25088 => 4096, relu),         \u001b[90m# 102_764_544 parameters\u001b[39m\n",
       "    Dropout(0.5),\n",
       "    Dense(4096 => 4096, relu),          \u001b[90m# 16_781_312 parameters\u001b[39m\n",
       "    Dropout(0.5),\n",
       "  ),\n",
       "  Dense(4096 => 256),                   \u001b[90m# 1_048_832 parameters\u001b[39m\n",
       "  Dense(256 => 10),                     \u001b[90m# 2_570 parameters\u001b[39m\n",
       ") \u001b[90m                  # Total: 34 arrays, \u001b[39m135_311_946 parameters, 516.177 MiB."
      ]
     },
     "execution_count": 9,
     "metadata": {},
     "output_type": "execute_result"
    }
   ],
   "source": [
    "model = Chain(\n",
    "    vgg[1:end-1],\n",
    "    vgg[end][1:end-1],\n",
    "    # Replace the last layer\n",
    "    Dense(4096, 256),\n",
    "    Dense(256, 10)\n",
    ")"
   ]
  },
  {
   "cell_type": "code",
   "execution_count": 10,
   "id": "fefa85dc-b5d0-4d0f-995f-32e24c2cff8e",
   "metadata": {},
   "outputs": [],
   "source": [
    "using MLDatasets"
   ]
  },
  {
   "cell_type": "markdown",
   "id": "2b081c74-e9b9-49d4-85ef-634c5d755fdf",
   "metadata": {},
   "source": [
    "Load the MNIST dataset"
   ]
  },
  {
   "cell_type": "code",
   "execution_count": 11,
   "id": "425accbf-62ff-40f4-8eac-94bfd619b6bc",
   "metadata": {},
   "outputs": [
    {
     "data": {
      "text/plain": [
       "get_data (generic function with 1 method)"
      ]
     },
     "execution_count": 11,
     "metadata": {},
     "output_type": "execute_result"
    }
   ],
   "source": [
    "function get_data(split)\n",
    "    data = MNIST(split)\n",
    "    imgs, y = data.features ./ 255, onehotbatch(data.targets, 0:9);\n",
    "    X = []\n",
    "    for i in 1:length(y)\n",
    "        img = apply(tfm, Image(RGB.(imgs[:,:,i]))) |> itemdata\n",
    "        push!(X, img)\n",
    "    end\n",
    "    loader = Flux.Data.DataLoader((X, y); batchsize=64, shuffle=true);\n",
    "    return loader\n",
    "end"
   ]
  },
  {
   "cell_type": "code",
   "execution_count": 12,
   "id": "00f2c515-22e2-4c1a-a72c-12f23aa3623e",
   "metadata": {},
   "outputs": [],
   "source": [
    "using Images"
   ]
  },
  {
   "cell_type": "code",
   "execution_count": 1,
   "id": "863ee73e-e2b7-451e-b4bf-d56a112642a4",
   "metadata": {},
   "outputs": [
    {
     "ename": "LoadError",
     "evalue": "UndefVarError: `get_data` not defined in `Main`\nSuggestion: check for spelling errors or missing imports.",
     "output_type": "error",
     "traceback": [
      "UndefVarError: `get_data` not defined in `Main`\nSuggestion: check for spelling errors or missing imports.",
      "",
      "Stacktrace:",
      " [1] top-level scope",
      "   @ In[1]:1"
     ]
    }
   ],
   "source": [
    "train_loader = get_data(:train);\n",
    "test_loader = get_data(:test);"
   ]
  },
  {
   "cell_type": "markdown",
   "id": "047f0416-f8d7-4a2f-8cdb-c75eef0cd452",
   "metadata": {},
   "source": [
    "**Define a loss function and an optimizer**"
   ]
  },
  {
   "cell_type": "code",
   "execution_count": null,
   "id": "0b4da587-d7b8-4ad5-aed3-a37c131bd6c7",
   "metadata": {},
   "outputs": [],
   "source": [
    "loss_fn = Flux.logitcrossentropy\n",
    "opt_state = Flux.setup(Adam(3e-3), model[end]) # Freeze the weights of the pre-trained layers"
   ]
  },
  {
   "cell_type": "code",
   "execution_count": null,
   "id": "511681f7-97a9-4550-bfbf-a1d425aa2a8d",
   "metadata": {},
   "outputs": [],
   "source": [
    "using ProgressMeter"
   ]
  },
  {
   "cell_type": "code",
   "execution_count": null,
   "id": "ac33cc65-7856-43a5-8c55-18010e85cb57",
   "metadata": {},
   "outputs": [],
   "source": [
    "epochs = 3"
   ]
  },
  {
   "cell_type": "markdown",
   "id": "6840ce40-8f1d-4359-9a31-292cc8a55072",
   "metadata": {},
   "source": [
    "Fine-tune the model"
   ]
  },
  {
   "cell_type": "code",
   "execution_count": null,
   "id": "c13c8019-2656-4456-90e1-1d9a9124a607",
   "metadata": {},
   "outputs": [],
   "source": [
    "for epoch in 1:epochs\n",
    "    @showprogress for (X, y) in train_loader\n",
    "        # Compute the gradient of the loss with respect to the model's parameters\n",
    "        loss, ∇ = Flux.withgradient(model) do m\n",
    "            ŷ = m(X)\n",
    "            loss_fn(ŷ, y)\n",
    "        end\n",
    "        # Update the model's parameters using the optimizer\n",
    "        Flux.update!(opt_state, model, ∇[1])\n",
    "    end\n",
    "    @info \"Calculate the accuracy on the test set\"\n",
    "    for (X, y) in test_loader\n",
    "        accuracy = sum(onecold(model(X)) .== onecold(y)) / length(y)\n",
    "        println(\"Epoch: $epoch, Accuracy: $accuracy\")\n",
    "    end\n",
    "end"
   ]
  }
 ],
 "metadata": {
  "kernelspec": {
   "display_name": "IJulia 1.11.2",
   "language": "julia",
   "name": "ijulia-1.11"
  },
  "language_info": {
   "file_extension": ".jl",
   "mimetype": "application/julia",
   "name": "julia",
   "version": "1.11.2"
  }
 },
 "nbformat": 4,
 "nbformat_minor": 5
}
