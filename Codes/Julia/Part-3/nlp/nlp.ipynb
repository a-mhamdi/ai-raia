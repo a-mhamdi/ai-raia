{
 "cells": [
  {
   "cell_type": "markdown",
   "id": "37257731-6782-49b3-a59e-5f772c9cf7d6",
   "metadata": {},
   "source": [
    "# NATURAL LANGUAGE PROCESSING\n",
    "---"
   ]
  },
  {
   "cell_type": "code",
   "execution_count": 1,
   "id": "ba106418-0a39-41e0-a2f1-cd686784d393",
   "metadata": {},
   "outputs": [
    {
     "name": "stdout",
     "output_type": "stream",
     "text": [
      "Julia Version 1.11.2\n",
      "Commit 5e9a32e7af2 (2024-12-01 20:02 UTC)\n",
      "Build Info:\n",
      "  Official https://julialang.org/ release\n",
      "Platform Info:\n",
      "  OS: Linux (x86_64-linux-gnu)\n",
      "  CPU: 8 × Intel(R) Core(TM) i7-8565U CPU @ 1.80GHz\n",
      "  WORD_SIZE: 64\n",
      "  LLVM: libLLVM-16.0.6 (ORCJIT, skylake)\n",
      "Threads: 1 default, 0 interactive, 1 GC (on 8 virtual cores)\n",
      "Environment:\n",
      "  LD_LIBRARY_PATH = /home/mhamdi/torch/install/lib:/home/mhamdi/torch/install/lib:/home/mhamdi/torch/install/lib:\n",
      "  DYLD_LIBRARY_PATH = /home/mhamdi/torch/install/lib:/home/mhamdi/torch/install/lib:/home/mhamdi/torch/install/lib:\n",
      "  JULIA_NUM_THREADS = 8\n"
     ]
    }
   ],
   "source": [
    "versioninfo() # -> v\"1.11.2\""
   ]
  },
  {
   "cell_type": "code",
   "execution_count": 2,
   "id": "84cbd531-ce8e-48a2-a2e0-0433c0de4f39",
   "metadata": {},
   "outputs": [
    {
     "name": "stderr",
     "output_type": "stream",
     "text": [
      "\u001b[32m\u001b[1m  Activating\u001b[22m\u001b[39m project at `~/Work/git-repos/AI-ML-DL/jlai/Codes/Julia/Part-3/nlp`\n"
     ]
    },
    {
     "name": "stdout",
     "output_type": "stream",
     "text": [
      "\u001b[32m\u001b[1mStatus\u001b[22m\u001b[39m `~/Work/git-repos/AI-ML-DL/jlai/Codes/Julia/Part-3/nlp/Project.toml`\n",
      "  \u001b[90m[c5bfea45] \u001b[39mEmbeddings v0.4.6\n",
      "  \u001b[90m[c3e4b0f8] \u001b[39mPluto v0.20.4\n",
      "  \u001b[90m[7f904dfe] \u001b[39mPlutoUI v0.7.60\n",
      "  \u001b[90m[a2db99b7] \u001b[39mTextAnalysis v0.8.2\n",
      "  \u001b[90m[37e2e46d] \u001b[39mLinearAlgebra v1.11.0\n",
      "  \u001b[90m[d6f4376e] \u001b[39mMarkdown v1.11.0\n"
     ]
    }
   ],
   "source": [
    "using Pkg; pkg\"activate .\"; pkg\"status\""
   ]
  },
  {
   "cell_type": "code",
   "execution_count": 3,
   "id": "111dd297-95f5-491e-bfc8-8affae6f93e3",
   "metadata": {},
   "outputs": [],
   "source": [
    "using TextAnalysis"
   ]
  },
  {
   "cell_type": "code",
   "execution_count": 4,
   "id": "1892bdb0-57a3-4089-8b38-bde59bc253d7",
   "metadata": {},
   "outputs": [
    {
     "data": {
      "text/plain": [
       "\"The quick brown fox is jumping over the lazy dog\""
      ]
     },
     "execution_count": 4,
     "metadata": {},
     "output_type": "execute_result"
    }
   ],
   "source": [
    "txt = \"The quick brown fox is jumping over the lazy dog\" # Pangram [modif.]"
   ]
  },
  {
   "cell_type": "markdown",
   "id": "a7490726-3736-4926-b02a-751b20eb0fe7",
   "metadata": {},
   "source": [
    "Create a `Corpus` using `txt`"
   ]
  },
  {
   "cell_type": "code",
   "execution_count": 5,
   "id": "b42ae757-f3e2-48de-8988-52c767880f73",
   "metadata": {},
   "outputs": [
    {
     "data": {
      "text/plain": [
       "A Corpus with 1 documents:\n",
       " * 1 StringDocument's\n",
       " * 0 FileDocument's\n",
       " * 0 TokenDocument's\n",
       " * 0 NGramDocument's\n",
       "\n",
       "Corpus's lexicon contains 0 tokens\n",
       "Corpus's index contains 0 tokens"
      ]
     },
     "execution_count": 5,
     "metadata": {},
     "output_type": "execute_result"
    }
   ],
   "source": [
    "crps = Corpus([StringDocument(txt)])"
   ]
  },
  {
   "cell_type": "code",
   "execution_count": 6,
   "id": "e32a53da-720a-4e6c-ac86-e68e8b51c9a0",
   "metadata": {},
   "outputs": [
    {
     "data": {
      "text/plain": [
       "Dict{String, Int64}()"
      ]
     },
     "execution_count": 6,
     "metadata": {},
     "output_type": "execute_result"
    }
   ],
   "source": [
    "lexicon(crps)"
   ]
  },
  {
   "cell_type": "code",
   "execution_count": 7,
   "id": "d93e49da-ce19-4753-8992-0ac9f8a46173",
   "metadata": {},
   "outputs": [],
   "source": [
    "update_lexicon!(crps)"
   ]
  },
  {
   "cell_type": "code",
   "execution_count": 8,
   "id": "edbf60d4-ae65-4cf5-8349-ea1b3e240930",
   "metadata": {},
   "outputs": [
    {
     "data": {
      "text/plain": [
       "Dict{String, Int64} with 10 entries:\n",
       "  \"brown\"   => 1\n",
       "  \"The\"     => 1\n",
       "  \"lazy\"    => 1\n",
       "  \"the\"     => 1\n",
       "  \"is\"      => 1\n",
       "  \"quick\"   => 1\n",
       "  \"fox\"     => 1\n",
       "  \"over\"    => 1\n",
       "  \"jumping\" => 1\n",
       "  \"dog\"     => 1"
      ]
     },
     "execution_count": 8,
     "metadata": {},
     "output_type": "execute_result"
    }
   ],
   "source": [
    "lexicon(crps)"
   ]
  },
  {
   "cell_type": "code",
   "execution_count": 9,
   "id": "27ba348a-30d8-4242-ae75-ec64365ced1a",
   "metadata": {},
   "outputs": [
    {
     "data": {
      "text/plain": [
       "0.1"
      ]
     },
     "execution_count": 9,
     "metadata": {},
     "output_type": "execute_result"
    }
   ],
   "source": [
    "lexical_frequency(crps, \"fox\")"
   ]
  },
  {
   "cell_type": "markdown",
   "id": "e4b0a3ec-02ac-459b-bda6-bb313bc69bc3",
   "metadata": {},
   "source": [
    "Create a `StringDocument` using `txt`"
   ]
  },
  {
   "cell_type": "code",
   "execution_count": 10,
   "id": "f22cccd7-8f7e-4bd0-b274-11c52d12ed20",
   "metadata": {},
   "outputs": [
    {
     "data": {
      "text/plain": [
       "A StringDocument{String}\n",
       " * Language: Languages.English()\n",
       " * Title: Untitled Document\n",
       " * Author: Unknown Author\n",
       " * Timestamp: Unknown Time\n",
       " * Snippet: The quick brown fox is jumping over the lazy dog"
      ]
     },
     "execution_count": 10,
     "metadata": {},
     "output_type": "execute_result"
    }
   ],
   "source": [
    "sd = StringDocument(txt)"
   ]
  },
  {
   "cell_type": "markdown",
   "id": "afeb570d-4702-44a9-9994-f72c8aa107a4",
   "metadata": {},
   "source": [
    "Get a smaller set of words `text(sd)`"
   ]
  },
  {
   "cell_type": "code",
   "execution_count": 11,
   "id": "d2d32d59-2146-4e0c-929b-fb67d0674e08",
   "metadata": {},
   "outputs": [],
   "source": [
    "prepare!(sd, strip_articles | strip_numbers | strip_punctuation | strip_case | strip_whitespace)\n",
    "stem!(sd)"
   ]
  },
  {
   "cell_type": "markdown",
   "id": "0f815bd6-dc46-459f-a8ca-8a91c2b34bf7",
   "metadata": {},
   "source": [
    "Get the tokens of `sd`"
   ]
  },
  {
   "cell_type": "code",
   "execution_count": 12,
   "id": "29357ee7-d18c-4ddc-bd47-c862e6c7a812",
   "metadata": {},
   "outputs": [
    {
     "data": {
      "text/plain": [
       "8-element Vector{String}:\n",
       " \"quick\"\n",
       " \"brown\"\n",
       " \"fox\"\n",
       " \"is\"\n",
       " \"jump\"\n",
       " \"over\"\n",
       " \"lazi\"\n",
       " \"dog\""
      ]
     },
     "execution_count": 12,
     "metadata": {},
     "output_type": "execute_result"
    }
   ],
   "source": [
    "the_tokens = tokens(sd)"
   ]
  },
  {
   "cell_type": "markdown",
   "id": "de138375-3ae6-48e7-aef9-c261f4190f1a",
   "metadata": {},
   "source": [
    "Get the stemmed tokens of `sd`"
   ]
  },
  {
   "cell_type": "code",
   "execution_count": 13,
   "id": "20f658c4-cfd2-4528-b219-229df996d33e",
   "metadata": {},
   "outputs": [
    {
     "data": {
      "text/plain": [
       "8-element Vector{String}:\n",
       " \"quick\"\n",
       " \"brown\"\n",
       " \"fox\"\n",
       " \"is\"\n",
       " \"jump\"\n",
       " \"over\"\n",
       " \"lazi\"\n",
       " \"dog\""
      ]
     },
     "execution_count": 13,
     "metadata": {},
     "output_type": "execute_result"
    }
   ],
   "source": [
    "stemmer = Stemmer(\"english\")\n",
    "stemmed_tokens = stem(stemmer, the_tokens)"
   ]
  },
  {
   "cell_type": "code",
   "execution_count": 14,
   "id": "75e7cf65-8282-468d-9a7c-66c4596c543f",
   "metadata": {},
   "outputs": [
    {
     "name": "stdout",
     "output_type": "stream",
     "text": [
      "Original tokens: [\"quick\", \"brown\", \"fox\", \"is\", \"jump\", \"over\", \"lazi\", \"dog\"]\n",
      "Stemmed tokens: [\"quick\", \"brown\", \"fox\", \"is\", \"jump\", \"over\", \"lazi\", \"dog\"]\n"
     ]
    }
   ],
   "source": [
    "println(\"Original tokens: \", the_tokens)\n",
    "println(\"Stemmed tokens: \", stemmed_tokens)"
   ]
  },
  {
   "cell_type": "markdown",
   "id": "be552738-c7a0-479b-9e61-c17e85187a52",
   "metadata": {},
   "source": [
    "**Part-of-speech tags**"
   ]
  },
  {
   "cell_type": "code",
   "execution_count": 15,
   "id": "19fb7904-54ff-4fc7-9b90-750505aa9a44",
   "metadata": {},
   "outputs": [],
   "source": [
    "#= \n",
    "Common POS tags:\n",
    "\n",
    "JJ: Adjective\n",
    "NN: Noun, singular or mass\n",
    "NNS: Noun, plural\n",
    "VB: Verb, base form\n",
    "VBZ: Verb, 3rd person singular present\n",
    "VBG: Verb, gerund or present participle\n",
    "VBD: Verb, past tense\n",
    "RB: Adverb\n",
    "IN: Preposition or subordinating conjunction\n",
    "DT: Determiner\n",
    "PRP: Personal pronoun\n",
    "CC: Coordinating conjunction\n",
    "=#\n",
    "\n",
    "#=\n",
    "using TextModels\n",
    "pos = PoSTagger()\n",
    "pos(crps)\n",
    "=#"
   ]
  },
  {
   "cell_type": "markdown",
   "id": "7c42a69e-48dd-42f1-bfde-553ea764830c",
   "metadata": {},
   "source": [
    "**Word embeddings**"
   ]
  },
  {
   "cell_type": "code",
   "execution_count": 16,
   "id": "035bb1c4-e30c-431b-b527-51fadcbe3622",
   "metadata": {},
   "outputs": [
    {
     "data": {
      "text/plain": [
       "Embeddings.EmbeddingTable{Matrix{Float32}, Vector{String}}(Float32[0.418 0.013441 … 0.70853 0.68047; 0.24968 0.23682 … 0.57088 -0.039263; … ; -0.11514 0.044691 … -0.093918 -0.064699; -0.78581 0.30392 … -0.80375 -0.26044], [\"the\", \",\", \".\", \"of\", \"to\"])"
      ]
     },
     "execution_count": 16,
     "metadata": {},
     "output_type": "execute_result"
    }
   ],
   "source": [
    "using Embeddings\n",
    "embtab = load_embeddings(GloVe{:en}, max_vocab_size=5)"
   ]
  },
  {
   "cell_type": "code",
   "execution_count": 17,
   "id": "0039ddad-3a43-49b4-8cbd-0c90371e050e",
   "metadata": {},
   "outputs": [
    {
     "data": {
      "text/plain": [
       "50×5 Matrix{Float32}:\n",
       "  0.418        0.013441   0.15164     0.70853    0.68047\n",
       "  0.24968      0.23682    0.30177     0.57088   -0.039263\n",
       " -0.41242     -0.16899   -0.16763    -0.4716     0.30186\n",
       "  0.1217       0.40951    0.17684     0.18048   -0.17792\n",
       "  0.34527      0.63812    0.31719     0.54449    0.42962\n",
       " -0.044457     0.47709    0.33973     0.72603    0.032246\n",
       " -0.49688     -0.42852   -0.43478     0.18157   -0.41376\n",
       " -0.17862     -0.55641   -0.31086    -0.52393    0.13228\n",
       " -0.00066023  -0.364     -0.44999     0.10381   -0.29847\n",
       " -0.6566      -0.23938   -0.29486    -0.17566   -0.085253\n",
       "  0.27843      0.13001    0.16608     0.078852   0.17118\n",
       " -0.14767     -0.063734   0.11963    -0.36216    0.22419\n",
       " -0.55677     -0.39575   -0.41328    -0.11829   -0.10046\n",
       "  ⋮                                             \n",
       "  0.012041     0.70358    0.41705     0.24185    0.16351\n",
       " -0.054223     0.44858    0.056763    0.36576   -0.21634\n",
       " -0.29871     -0.080262  -6.3681f-5  -0.34727   -0.094375\n",
       " -0.15749      0.63003    0.068987    0.28483    0.018324\n",
       " -0.34758      0.32111    0.087939    0.075693   0.21048\n",
       " -0.045637    -0.46765   -0.10285    -0.062178  -0.03088\n",
       " -0.44251      0.22786   -0.13931    -0.38988   -0.19722\n",
       "  0.18785      0.36034    0.22314     0.22902    0.082279\n",
       "  0.0027849   -0.37818   -0.080803   -0.21617   -0.09434\n",
       " -0.18411     -0.56657   -0.35652    -0.22562   -0.073297\n",
       " -0.11514      0.044691   0.016413   -0.093918  -0.064699\n",
       " -0.78581      0.30392    0.10216    -0.80375   -0.26044"
      ]
     },
     "execution_count": 17,
     "metadata": {},
     "output_type": "execute_result"
    }
   ],
   "source": [
    "embtab.vocab\n",
    "embtab.embeddings"
   ]
  },
  {
   "cell_type": "code",
   "execution_count": 18,
   "id": "d79009f2-81ae-46b2-b626-caf0066e474b",
   "metadata": {},
   "outputs": [
    {
     "data": {
      "text/plain": [
       "get_word_vector (generic function with 1 method)"
      ]
     },
     "execution_count": 18,
     "metadata": {},
     "output_type": "execute_result"
    }
   ],
   "source": [
    "glove = load_embeddings(GloVe{:en}, 3, max_vocab_size=10_000)\n",
    "const word_to_index = Dict(word => ii for (ii,word) in enumerate(glove.vocab))\n",
    "function get_word_vector(word)\n",
    "    idx = word_to_index[word]\n",
    "    return glove.embeddings[:, idx]\n",
    "end"
   ]
  },
  {
   "cell_type": "code",
   "execution_count": 19,
   "id": "1631eea2-6444-4692-8eba-0519ed39fae0",
   "metadata": {},
   "outputs": [
    {
     "data": {
      "text/plain": [
       "cosine_similarity (generic function with 1 method)"
      ]
     },
     "execution_count": 19,
     "metadata": {},
     "output_type": "execute_result"
    }
   ],
   "source": [
    "using LinearAlgebra\n",
    "function cosine_similarity(v1::Vector{Float32}, v2::Vector{Float32})\n",
    "    return *(v1', v2) / *(norm(v1), norm(v2))\n",
    "end"
   ]
  },
  {
   "cell_type": "markdown",
   "id": "599a450f-2966-4fa8-b728-142885060cd4",
   "metadata": {},
   "source": [
    "_e.g. - \\\"king\\\" - \\\"man\\\" + \\\"woman\\\" ≈ \\\"queen\\\"_"
   ]
  },
  {
   "cell_type": "code",
   "execution_count": 20,
   "id": "ebfda5d3-18f0-4d08-8e6a-dd0f6a22bf41",
   "metadata": {},
   "outputs": [
    {
     "data": {
      "text/plain": [
       "0.71191657f0"
      ]
     },
     "execution_count": 20,
     "metadata": {},
     "output_type": "execute_result"
    }
   ],
   "source": [
    "king = get_word_vector(\"king\")\n",
    "queen = get_word_vector(\"queen\")\n",
    "man = get_word_vector(\"man\")\n",
    "woman = get_word_vector(\"woman\")\n",
    "\n",
    "cosine_similarity(king - man + woman, queen)"
   ]
  },
  {
   "cell_type": "markdown",
   "id": "62c9d1de-1387-4be8-b75f-969926abf9b8",
   "metadata": {},
   "source": [
    "_e.g. - \\\"Madrid\\\" - \\\"Spain\\\" + \\\"France\\\" ≈ \\\"Paris\\\"_"
   ]
  },
  {
   "cell_type": "code",
   "execution_count": 21,
   "id": "478767c6-2d30-460c-8d21-025ddcad044a",
   "metadata": {},
   "outputs": [
    {
     "data": {
      "text/plain": [
       "0.8027344f0"
      ]
     },
     "execution_count": 21,
     "metadata": {},
     "output_type": "execute_result"
    }
   ],
   "source": [
    "Madrid = get_word_vector(\"madrid\")\n",
    "Spain = get_word_vector(\"spain\")\n",
    "France = get_word_vector(\"france\")\n",
    "Paris = get_word_vector(\"paris\")\n",
    "\n",
    "cosine_similarity(Madrid - Spain + France, Paris)"
   ]
  },
  {
   "cell_type": "markdown",
   "id": "efe8d363-a033-41cd-b3d6-8f8a4ce57d3b",
   "metadata": {},
   "source": [
    "**Text classification**"
   ]
  },
  {
   "cell_type": "markdown",
   "id": "920ebf8b-ed1a-4eda-8137-13235781bcbd",
   "metadata": {},
   "source": [
    "https://github.com/JuliaText/TextAnalysis.jl/blob/master/docs/src/classify.md"
   ]
  },
  {
   "cell_type": "code",
   "execution_count": 22,
   "id": "a3831c22-0a5e-45db-b84c-9bb18a465592",
   "metadata": {},
   "outputs": [
    {
     "data": {
      "text/plain": [
       "Dict{Symbol, Float64} with 2 entries:\n",
       "  :legal     => 0.666667\n",
       "  :financial => 0.333333"
      ]
     },
     "execution_count": 22,
     "metadata": {},
     "output_type": "execute_result"
    }
   ],
   "source": [
    "m = NaiveBayesClassifier([:legal, :financial])\n",
    "fit!(m, \"this is financial doc\", :financial)\n",
    "fit!(m, \"this is legal doc\", :legal)\n",
    "predict(m, \"this should be predicted as a legal document\")"
   ]
  },
  {
   "cell_type": "markdown",
   "id": "57441828-52e2-43fd-b6eb-68814d5b1193",
   "metadata": {},
   "source": [
    "**Semantic analysis**"
   ]
  },
  {
   "cell_type": "code",
   "execution_count": 23,
   "id": "e17819ce-2503-49f7-a133-f00194dae932",
   "metadata": {},
   "outputs": [
    {
     "data": {
      "text/plain": [
       "A 1 X 10 DocumentTermMatrix"
      ]
     },
     "execution_count": 23,
     "metadata": {},
     "output_type": "execute_result"
    }
   ],
   "source": [
    "m = DocumentTermMatrix(crps)"
   ]
  },
  {
   "cell_type": "markdown",
   "id": "d09f8fea-4566-4fcb-adb2-855389d8bc29",
   "metadata": {},
   "source": [
    "*Latent Semantic Analysis*"
   ]
  },
  {
   "cell_type": "code",
   "execution_count": 24,
   "id": "ff67f8c9-ce3a-43f0-aa02-a214796f8753",
   "metadata": {},
   "outputs": [
    {
     "data": {
      "text/plain": [
       "SVD{Float64, Float64, Matrix{Float64}, Vector{Float64}}\n",
       "U factor:\n",
       "1×1 Matrix{Float64}:\n",
       " 1.0\n",
       "singular values:\n",
       "1-element Vector{Float64}:\n",
       " 0.0\n",
       "Vt factor:\n",
       "1×10 Matrix{Float64}:\n",
       " 1.0  0.0  0.0  0.0  0.0  0.0  0.0  0.0  0.0  0.0"
      ]
     },
     "execution_count": 24,
     "metadata": {},
     "output_type": "execute_result"
    }
   ],
   "source": [
    "lsa(m)"
   ]
  },
  {
   "cell_type": "markdown",
   "id": "e020f95d-8aba-412e-b1ca-eb21086fcbfb",
   "metadata": {},
   "source": [
    "*Latent Dirichlet Allocation*"
   ]
  },
  {
   "cell_type": "code",
   "execution_count": 25,
   "id": "bfa9332a-e8a3-40ce-bb2a-38efc073b0ad",
   "metadata": {},
   "outputs": [
    {
     "data": {
      "text/plain": [
       "(sparse([2, 1, 1, 2, 1, 2, 2, 1, 2, 2], [1, 2, 3, 4, 5, 6, 7, 8, 9, 10], [0.16666666666666666, 0.25, 0.25, 0.16666666666666666, 0.25, 0.16666666666666666, 0.16666666666666666, 0.25, 0.16666666666666666, 0.16666666666666666], 2, 10), [0.4; 0.6;;])"
      ]
     },
     "execution_count": 25,
     "metadata": {},
     "output_type": "execute_result"
    }
   ],
   "source": [
    "k = 2              # number of topics\n",
    "iterations = 1000  # number of Gibbs sampling iterations\n",
    "α = 0.1            # hyper parameter\n",
    "β  = 0.1           # hyper parameter\n",
    "ϕ, θ  = lda(m, k, iterations, α, β) "
   ]
  }
 ],
 "metadata": {
  "kernelspec": {
   "display_name": "IJulia 1.11.2",
   "language": "julia",
   "name": "ijulia-1.11"
  },
  "language_info": {
   "file_extension": ".jl",
   "mimetype": "application/julia",
   "name": "julia",
   "version": "1.11.2"
  }
 },
 "nbformat": 4,
 "nbformat_minor": 5
}
