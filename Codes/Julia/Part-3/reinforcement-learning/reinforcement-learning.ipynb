{
 "cells": [
  {
   "cell_type": "markdown",
   "id": "30c71d27-4d63-4f11-b42f-bab31456d44d",
   "metadata": {},
   "source": [
    "# REINFORCEMENT LEARNING\n",
    "---"
   ]
  },
  {
   "cell_type": "code",
   "execution_count": 1,
   "id": "01600d4d-f9af-40ec-8bc0-3d68b175b467",
   "metadata": {},
   "outputs": [
    {
     "name": "stdout",
     "output_type": "stream",
     "text": [
      "Julia Version 1.11.1\n",
      "Commit 8f5b7ca12ad (2024-10-16 10:53 UTC)\n",
      "Build Info:\n",
      "  Official https://julialang.org/ release\n",
      "Platform Info:\n",
      "  OS: Linux (x86_64-linux-gnu)\n",
      "  CPU: 8 × Intel(R) Core(TM) i7-8565U CPU @ 1.80GHz\n",
      "  WORD_SIZE: 64\n",
      "  LLVM: libLLVM-16.0.6 (ORCJIT, skylake)\n",
      "Threads: 1 default, 0 interactive, 1 GC (on 8 virtual cores)\n",
      "Environment:\n",
      "  LD_LIBRARY_PATH = /home/mhamdi/torch/install/lib:/home/mhamdi/torch/install/lib:/home/mhamdi/torch/install/lib:\n",
      "  DYLD_LIBRARY_PATH = /home/mhamdi/torch/install/lib:/home/mhamdi/torch/install/lib:/home/mhamdi/torch/install/lib:\n",
      "  JULIA_NUM_THREADS = 8\n"
     ]
    }
   ],
   "source": [
    "versioninfo() # -> v\"1.11.1\""
   ]
  },
  {
   "cell_type": "code",
   "execution_count": null,
   "id": "2fe6c73b-75b9-4df2-870f-3dd614d84c08",
   "metadata": {},
   "outputs": [],
   "source": [
    "using ReinforcementLearning\n",
    "using Flux: Descent"
   ]
  },
  {
   "cell_type": "markdown",
   "id": "d4b7a34a-3b15-49e2-864c-706143da99bb",
   "metadata": {},
   "source": [
    "Define the environment"
   ]
  },
  {
   "cell_type": "code",
   "execution_count": null,
   "id": "38fa3de4-e9d8-4d19-90df-2095f7adc099",
   "metadata": {},
   "outputs": [],
   "source": [
    "env = RandomWalk1D()"
   ]
  },
  {
   "cell_type": "markdown",
   "id": "3a91bdaf-f09a-4056-9e00-8f63648ff1a1",
   "metadata": {},
   "source": [
    "Instantiate the agent"
   ]
  },
  {
   "cell_type": "code",
   "execution_count": null,
   "id": "6872a4e0-f0bb-4654-a0b9-223e621567a7",
   "metadata": {},
   "outputs": [],
   "source": [
    "agent = Agent(\n",
    "    policy = QBasedPolicy(\n",
    "        learner = TDLearner(\n",
    "            approximator = TabularQApproximator(\n",
    "                n_state = 11,\n",
    "                n_action = 2,\n",
    "                init = 0.0,\n",
    "                opt = Descent(0.1) # Learning rate\n",
    "            ),\n",
    "            method = :SARSA,\n",
    "            γ = 0.99\n",
    "        ),\n",
    "        explorer = EpsilonGreedyExplorer(0.1),\n",
    "    ),\n",
    "    trajectory = VectorSARTTrajectory(),\n",
    ")"
   ]
  },
  {
   "cell_type": "markdown",
   "id": "a9513fdc-2b9d-4cb2-baf9-14d524effb99",
   "metadata": {},
   "source": [
    "Run the experiment"
   ]
  },
  {
   "cell_type": "code",
   "execution_count": null,
   "id": "504285dc-be0f-476c-9af8-9cdda3885242",
   "metadata": {},
   "outputs": [],
   "source": [
    "hook = TotalRewardPerEpisode()\n",
    "run(agent, env, StopAfterEpisode(10_000), hook)"
   ]
  },
  {
   "cell_type": "markdown",
   "id": "f6f1cc3a-89a3-41c3-92b6-b5cf3a4d712e",
   "metadata": {},
   "source": [
    "Print rewards"
   ]
  },
  {
   "cell_type": "code",
   "execution_count": null,
   "id": "41c3f008-cb01-4dc1-815a-c876f3661e7e",
   "metadata": {},
   "outputs": [],
   "source": [
    "println(\"Total reward per episode:\")\n",
    "println(hook.rewards)"
   ]
  },
  {
   "cell_type": "markdown",
   "id": "3ad25ecc-e3bb-45d9-9e4e-bca59571e8e8",
   "metadata": {},
   "source": [
    "Print `Q-table`"
   ]
  },
  {
   "cell_type": "code",
   "execution_count": null,
   "id": "7691c4ba-16e7-49f9-8096-0a574e02fa5c",
   "metadata": {},
   "outputs": [],
   "source": [
    "q_table = agent.policy.learner.approximator.table\n",
    "println(\"\\nLearned Q-table:\")\n",
    "println(q_table)"
   ]
  }
 ],
 "metadata": {
  "kernelspec": {
   "display_name": "Julia 1.11.1",
   "language": "julia",
   "name": "julia-1.11"
  },
  "language_info": {
   "file_extension": ".jl",
   "mimetype": "application/julia",
   "name": "julia",
   "version": "1.11.1"
  }
 },
 "nbformat": 4,
 "nbformat_minor": 5
}
