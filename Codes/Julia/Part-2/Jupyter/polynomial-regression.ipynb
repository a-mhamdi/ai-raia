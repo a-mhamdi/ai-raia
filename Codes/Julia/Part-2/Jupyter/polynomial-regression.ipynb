{
 "cells": [
  {
   "cell_type": "markdown",
   "id": "8e73229e-1081-4adc-99e1-4ce7c593023e",
   "metadata": {},
   "source": [
    "# POLYNOMIAL REGRESSION\n",
    "---"
   ]
  },
  {
   "cell_type": "markdown",
   "id": "9dfd12cc-8bbf-4ec4-bf06-2a33576f0bf7",
   "metadata": {},
   "source": [
    "```julia\n",
    "versioninfo() # -> v\"1.11.2\"\n",
    "```"
   ]
  },
  {
   "cell_type": "code",
   "execution_count": 1,
   "id": "5d7deb29-78f8-4ff0-a2ac-54b82a999c1a",
   "metadata": {},
   "outputs": [],
   "source": [
    "cd(@__DIR__)"
   ]
  },
  {
   "cell_type": "code",
   "execution_count": 2,
   "id": "568a7f77-8f97-4d12-aaf0-2edca79a7ff7",
   "metadata": {},
   "outputs": [
    {
     "name": "stderr",
     "output_type": "stream",
     "text": [
      "\u001b[32m\u001b[1m  Activating\u001b[22m\u001b[39m project at `~/Work/git-repos/AI-ML-DL/jlai/Codes/Julia/Part-2`\n"
     ]
    }
   ],
   "source": [
    "using Pkg; pkg\"activate ..\""
   ]
  },
  {
   "cell_type": "markdown",
   "id": "dab8a446-d0c1-4e65-af6a-8292afe34321",
   "metadata": {},
   "source": [
    "Import librairies"
   ]
  },
  {
   "cell_type": "code",
   "execution_count": 3,
   "id": "37409d69-7a1d-4457-9ccd-e3cfa5754899",
   "metadata": {},
   "outputs": [],
   "source": [
    "using CSV, DataFrames\n",
    "using Plots\n",
    "using MLJ"
   ]
  },
  {
   "cell_type": "markdown",
   "id": "978e317b-d90e-46eb-b218-40e6f4b8497b",
   "metadata": {},
   "source": [
    "Read data from file"
   ]
  },
  {
   "cell_type": "code",
   "execution_count": 4,
   "id": "6f844dde-b9c1-4f54-b08d-87732ccd0266",
   "metadata": {},
   "outputs": [
    {
     "data": {
      "text/plain": [
       "┌──────────┬──────────┬──────────┐\n",
       "│\u001b[22m names    \u001b[0m│\u001b[22m scitypes \u001b[0m│\u001b[22m types    \u001b[0m│\n",
       "├──────────┼──────────┼──────────┤\n",
       "│ Position │ Textual  │ String31 │\n",
       "│ Level    │ Count    │ Int64    │\n",
       "│ Salary   │ Count    │ Int64    │\n",
       "└──────────┴──────────┴──────────┘\n"
      ]
     },
     "execution_count": 4,
     "metadata": {},
     "output_type": "execute_result"
    }
   ],
   "source": [
    "df = CSV.read(\"../../Datasets/Position_Salaries.csv\", DataFrame)\n",
    "schema(df)"
   ]
  },
  {
   "cell_type": "markdown",
   "id": "2d76fbf9-986e-4e59-88b0-03773ead306f",
   "metadata": {},
   "source": [
    "Unpack data"
   ]
  },
  {
   "cell_type": "code",
   "execution_count": 5,
   "id": "e86cf5cd-98a2-4150-8e5c-e32d2fc0c239",
   "metadata": {},
   "outputs": [
    {
     "data": {
      "text/plain": [
       "10-element Vector{Int64}:\n",
       "   45000\n",
       "   50000\n",
       "   60000\n",
       "   80000\n",
       "  110000\n",
       "  150000\n",
       "  200000\n",
       "  300000\n",
       "  500000\n",
       " 1000000"
      ]
     },
     "execution_count": 5,
     "metadata": {},
     "output_type": "execute_result"
    }
   ],
   "source": [
    "x = select(df, :Level)\n",
    "n = 4\n",
    "X = zeros(size(x)[1], n) # length(x.Level)\n",
    "y = df.Salary"
   ]
  },
  {
   "cell_type": "code",
   "execution_count": 6,
   "id": "538748b7-5557-4b4e-af7d-9a13aaa3153a",
   "metadata": {},
   "outputs": [
    {
     "data": {
      "text/plain": [
       "10×4 Matrix{Float32}:\n",
       " 2.93295f23  2.93193f23  0.0  0.0\n",
       " 4.3932f-41  4.3932f-41  0.0  0.0\n",
       " 2.93321f23  2.93374f23  0.0  0.0\n",
       " 4.3932f-41  4.3932f-41  0.0  0.0\n",
       " 2.93474f23  2.93195f23  0.0  0.0\n",
       " 4.3932f-41  4.3932f-41  0.0  0.0\n",
       " 9.77829f22  9.77846f22  0.0  0.0\n",
       " 4.3932f-41  4.3932f-41  0.0  0.0\n",
       " 2.93346f23  0.0         0.0  0.0\n",
       " 4.3932f-41  0.0         0.0  0.0"
      ]
     },
     "execution_count": 6,
     "metadata": {},
     "output_type": "execute_result"
    }
   ],
   "source": [
    "X_ = Matrix{Float32}(undef, length(x.Level), n)"
   ]
  },
  {
   "cell_type": "code",
   "execution_count": 7,
   "id": "4a65d699-47ae-4639-88fa-a179402ecdd0",
   "metadata": {},
   "outputs": [],
   "source": [
    "for i in 1:n\n",
    "    X_[:, i] = x.Level .^ i\n",
    "end"
   ]
  },
  {
   "cell_type": "code",
   "execution_count": 8,
   "id": "97a0b1d3-e849-4843-8646-8c1ef3f19fed",
   "metadata": {},
   "outputs": [
    {
     "data": {
      "text/plain": [
       "Tables.MatrixTable{Matrix{Float32}} with 10 rows, 4 columns, and schema:\n",
       " :Column1  Float32\n",
       " :Column2  Float32\n",
       " :Column3  Float32\n",
       " :Column4  Float32"
      ]
     },
     "execution_count": 8,
     "metadata": {},
     "output_type": "execute_result"
    }
   ],
   "source": [
    "X = Tables.table(X_)"
   ]
  },
  {
   "cell_type": "markdown",
   "id": "81f55c1d-29f8-4ecf-a69b-e2c705112a49",
   "metadata": {},
   "source": [
    "Partition of data"
   ]
  },
  {
   "cell_type": "code",
   "execution_count": 9,
   "id": "33b94518-0132-4772-a009-a15de082193d",
   "metadata": {},
   "outputs": [
    {
     "data": {
      "text/plain": [
       "([8, 1, 10, 6, 9, 4, 5, 7], [3, 2])"
      ]
     },
     "execution_count": 9,
     "metadata": {},
     "output_type": "execute_result"
    }
   ],
   "source": [
    "train, test = partition(eachindex(y), 0.8, shuffle=true, rng=123)"
   ]
  },
  {
   "cell_type": "markdown",
   "id": "e1bbd559-4ec2-4f38-aff2-6a36ed149876",
   "metadata": {},
   "source": [
    "Load linear regression model"
   ]
  },
  {
   "cell_type": "code",
   "execution_count": 10,
   "id": "cecb8122-a8b4-4eaf-85ae-2615356ebe14",
   "metadata": {},
   "outputs": [
    {
     "data": {
      "text/plain": [
       "Standardizer(\n",
       "  features = Symbol[], \n",
       "  ignore = false, \n",
       "  ordered_factor = false, \n",
       "  count = false)"
      ]
     },
     "execution_count": 10,
     "metadata": {},
     "output_type": "execute_result"
    }
   ],
   "source": [
    "sc_ = Standardizer()"
   ]
  },
  {
   "cell_type": "code",
   "execution_count": 11,
   "id": "d517b503-8ddd-483a-83e3-6047d333a6c5",
   "metadata": {},
   "outputs": [
    {
     "data": {
      "text/plain": [
       "untrained Machine; caches model-specific representations of data\n",
       "  model: Standardizer(features = Symbol[], …)\n",
       "  args: \n",
       "    1:\tSource @183 ⏎ Table{AbstractVector{Continuous}}\n"
      ]
     },
     "execution_count": 11,
     "metadata": {},
     "output_type": "execute_result"
    }
   ],
   "source": [
    "sc = machine(sc_, X)"
   ]
  },
  {
   "cell_type": "code",
   "execution_count": 12,
   "id": "88fab9d2-6384-48cb-a442-5cbecbf3a777",
   "metadata": {},
   "outputs": [
    {
     "name": "stderr",
     "output_type": "stream",
     "text": [
      "\u001b[36m\u001b[1m[ \u001b[22m\u001b[39m\u001b[36m\u001b[1mInfo: \u001b[22m\u001b[39mTraining machine(Standardizer(features = Symbol[], …), …).\n"
     ]
    },
    {
     "data": {
      "text/plain": [
       "trained Machine; caches model-specific representations of data\n",
       "  model: Standardizer(features = Symbol[], …)\n",
       "  args: \n",
       "    1:\tSource @183 ⏎ Table{AbstractVector{Continuous}}\n"
      ]
     },
     "execution_count": 12,
     "metadata": {},
     "output_type": "execute_result"
    }
   ],
   "source": [
    "fit!(sc, rows=train)"
   ]
  },
  {
   "cell_type": "code",
   "execution_count": 13,
   "id": "89e26c7f-aee4-4b15-ba2b-848457be23dd",
   "metadata": {},
   "outputs": [
    {
     "data": {
      "text/plain": [
       "(Column1 = Float32[0.60024506, -1.8007352, 1.2862394, -0.0857493, 0.94324225, -0.77174366, -0.4287465, 0.2572479],\n",
       " Column2 = Float32[0.51967466, -1.3511541, 1.5887196, -0.3118048, 1.0245014, -0.9057187, -0.6384574, 0.07423924],\n",
       " Column3 = Float32[0.39440262, -1.0633893, 1.7865797, -0.45003265, 1.0134649, -0.88366157, -0.70963943, -0.087724276],\n",
       " Column4 = Float32[0.26536164, -0.8888135, 1.9294031, -0.52381796, 0.96012145, -0.81694174, -0.71293914, -0.21237385],)"
      ]
     },
     "execution_count": 13,
     "metadata": {},
     "output_type": "execute_result"
    }
   ],
   "source": [
    "Xtrain = MLJ.transform(sc, rows=train)"
   ]
  },
  {
   "cell_type": "code",
   "execution_count": 14,
   "id": "a27bd9a7-eb1c-4cc1-bd4f-a2e0b68eb00f",
   "metadata": {},
   "outputs": [
    {
     "data": {
      "text/plain": [
       "(Column1 = Float32[-1.1147408, -1.457738],\n",
       " Column2 = Float32[-1.1135886, -1.262067],\n",
       " Column3 = Float32[-0.98921597, -1.0434196],\n",
       " Column4 = Float32[-0.8662655, -0.88458574],)"
      ]
     },
     "execution_count": 14,
     "metadata": {},
     "output_type": "execute_result"
    }
   ],
   "source": [
    "Xtest = MLJ.transform(sc, rows=test)"
   ]
  },
  {
   "cell_type": "code",
   "execution_count": 15,
   "id": "69f0999b-4550-43a9-8c9c-753ae6e14503",
   "metadata": {},
   "outputs": [
    {
     "name": "stderr",
     "output_type": "stream",
     "text": [
      "\u001b[36m\u001b[1m[ \u001b[22m\u001b[39m\u001b[36m\u001b[1mInfo: \u001b[22m\u001b[39mFor silent loading, specify `verbosity=0`. \n"
     ]
    },
    {
     "name": "stdout",
     "output_type": "stream",
     "text": [
      "import MLJLinearModels ✔\n"
     ]
    },
    {
     "data": {
      "text/plain": [
       "MLJLinearModels.LinearRegressor"
      ]
     },
     "execution_count": 15,
     "metadata": {},
     "output_type": "execute_result"
    }
   ],
   "source": [
    "LR = @load LinearRegressor pkg=MLJLinearModels"
   ]
  },
  {
   "cell_type": "code",
   "execution_count": 16,
   "id": "aa01e781-6f87-4419-bb96-0596fa7cc16f",
   "metadata": {},
   "outputs": [
    {
     "data": {
      "text/plain": [
       "LinearRegressor(\n",
       "  fit_intercept = true, \n",
       "  solver = nothing)"
      ]
     },
     "execution_count": 16,
     "metadata": {},
     "output_type": "execute_result"
    }
   ],
   "source": [
    "lr_ = LR()"
   ]
  },
  {
   "cell_type": "markdown",
   "id": "6e38db81-427a-437d-82d1-3fd58f9dd852",
   "metadata": {},
   "source": [
    "Add extra features & scaling"
   ]
  },
  {
   "cell_type": "markdown",
   "id": "7a9b8d2f-811e-49da-9cc0-8e7f2d28446a",
   "metadata": {},
   "source": [
    "Train & fit the regression model"
   ]
  },
  {
   "cell_type": "code",
   "execution_count": 17,
   "id": "ccb059d2-62f5-4ede-8480-796d42445bbe",
   "metadata": {},
   "outputs": [
    {
     "name": "stderr",
     "output_type": "stream",
     "text": [
      "\u001b[33m\u001b[1m┌ \u001b[22m\u001b[39m\u001b[33m\u001b[1mWarning: \u001b[22m\u001b[39mThe number and/or types of data arguments do not match what the specified model\n",
      "\u001b[33m\u001b[1m│ \u001b[22m\u001b[39msupports. Suppress this type check by specifying `scitype_check_level=0`.\n",
      "\u001b[33m\u001b[1m│ \u001b[22m\u001b[39m\n",
      "\u001b[33m\u001b[1m│ \u001b[22m\u001b[39mRun `@doc MLJLinearModels.LinearRegressor` to learn more about your model's requirements.\n",
      "\u001b[33m\u001b[1m│ \u001b[22m\u001b[39m\n",
      "\u001b[33m\u001b[1m│ \u001b[22m\u001b[39mCommonly, but non exclusively, supervised models are constructed using the syntax\n",
      "\u001b[33m\u001b[1m│ \u001b[22m\u001b[39m`machine(model, X, y)` or `machine(model, X, y, w)` while most other models are\n",
      "\u001b[33m\u001b[1m│ \u001b[22m\u001b[39mconstructed with `machine(model, X)`.  Here `X` are features, `y` a target, and `w`\n",
      "\u001b[33m\u001b[1m│ \u001b[22m\u001b[39msample or class weights.\n",
      "\u001b[33m\u001b[1m│ \u001b[22m\u001b[39m\n",
      "\u001b[33m\u001b[1m│ \u001b[22m\u001b[39mIn general, data in `machine(model, data...)` is expected to satisfy\n",
      "\u001b[33m\u001b[1m│ \u001b[22m\u001b[39m\n",
      "\u001b[33m\u001b[1m│ \u001b[22m\u001b[39m    scitype(data) <: MLJ.fit_data_scitype(model)\n",
      "\u001b[33m\u001b[1m│ \u001b[22m\u001b[39m\n",
      "\u001b[33m\u001b[1m│ \u001b[22m\u001b[39mIn the present case:\n",
      "\u001b[33m\u001b[1m│ \u001b[22m\u001b[39m\n",
      "\u001b[33m\u001b[1m│ \u001b[22m\u001b[39mscitype(data) = Tuple{Table{AbstractVector{Continuous}}, AbstractVector{Count}}\n",
      "\u001b[33m\u001b[1m│ \u001b[22m\u001b[39m\n",
      "\u001b[33m\u001b[1m│ \u001b[22m\u001b[39mfit_data_scitype(model) = Tuple{Table{<:AbstractVector{<:Continuous}}, AbstractVector{Continuous}}\n",
      "\u001b[33m\u001b[1m└ \u001b[22m\u001b[39m\u001b[90m@ MLJBase ~/.julia/packages/MLJBase/7nGJF/src/machines.jl:237\u001b[39m\n"
     ]
    },
    {
     "data": {
      "text/plain": [
       "untrained Machine; caches model-specific representations of data\n",
       "  model: LinearRegressor(fit_intercept = true, …)\n",
       "  args: \n",
       "    1:\tSource @858 ⏎ Table{AbstractVector{Continuous}}\n",
       "    2:\tSource @782 ⏎ AbstractVector{Count}\n"
      ]
     },
     "execution_count": 17,
     "metadata": {},
     "output_type": "execute_result"
    }
   ],
   "source": [
    "lr = machine(lr_, X, y)"
   ]
  },
  {
   "cell_type": "code",
   "execution_count": 18,
   "id": "d290ae66-5819-4c35-b673-2151d121eb0a",
   "metadata": {},
   "outputs": [
    {
     "name": "stderr",
     "output_type": "stream",
     "text": [
      "\u001b[36m\u001b[1m[ \u001b[22m\u001b[39m\u001b[36m\u001b[1mInfo: \u001b[22m\u001b[39mTraining machine(LinearRegressor(fit_intercept = true, …), …).\n",
      "\u001b[36m\u001b[1m┌ \u001b[22m\u001b[39m\u001b[36m\u001b[1mInfo: \u001b[22m\u001b[39mSolver: MLJLinearModels.Analytical\n",
      "\u001b[36m\u001b[1m│ \u001b[22m\u001b[39m  iterative: Bool false\n",
      "\u001b[36m\u001b[1m└ \u001b[22m\u001b[39m  max_inner: Int64 200\n"
     ]
    },
    {
     "data": {
      "text/plain": [
       "trained Machine; caches model-specific representations of data\n",
       "  model: LinearRegressor(fit_intercept = true, …)\n",
       "  args: \n",
       "    1:\tSource @858 ⏎ Table{AbstractVector{Continuous}}\n",
       "    2:\tSource @782 ⏎ AbstractVector{Count}\n"
      ]
     },
     "execution_count": 18,
     "metadata": {},
     "output_type": "execute_result"
    }
   ],
   "source": [
    "fit!(lr, rows=train)"
   ]
  },
  {
   "cell_type": "code",
   "execution_count": 19,
   "id": "f01c6433-0fce-4914-a85f-cb0c5aeb110c",
   "metadata": {},
   "outputs": [
    {
     "data": {
      "text/plain": [
       "(coefs = Pair{Symbol, Float32}[:Column1 => -390768.06, :Column2 => 157360.84, :Column3 => -23421.137, :Column4 => 1228.6157],\n",
       " intercept = 301127.3f0,)"
      ]
     },
     "execution_count": 19,
     "metadata": {},
     "output_type": "execute_result"
    }
   ],
   "source": [
    "params = fitted_params(lr)"
   ]
  },
  {
   "cell_type": "markdown",
   "id": "26d73e18-0716-4b43-ae94-576e4ba3a8ad",
   "metadata": {},
   "source": [
    "Predict & measure the error"
   ]
  },
  {
   "cell_type": "code",
   "execution_count": 20,
   "id": "1da8d6fb-3933-4992-bc9e-b49bc3123717",
   "metadata": {},
   "outputs": [
    {
     "data": {
      "text/plain": [
       "8-element Vector{Float32}:\n",
       " 286865.3\n",
       "  45527.58\n",
       " 994551.3\n",
       " 154829.81\n",
       " 517381.3\n",
       "  71401.31\n",
       " 121550.81\n",
       " 192889.31"
      ]
     },
     "execution_count": 20,
     "metadata": {},
     "output_type": "execute_result"
    }
   ],
   "source": [
    "yhat = predict(lr, rows=train)"
   ]
  },
  {
   "cell_type": "code",
   "execution_count": 21,
   "id": "95f85b91-5899-427b-b68e-365b3a685473",
   "metadata": {},
   "outputs": [
    {
     "name": "stdout",
     "output_type": "stream",
     "text": [
      "Error is 9.823052e7\n"
     ]
    }
   ],
   "source": [
    "println(\"Error is $(sum(( yhat.- y[train] ).^2) ./ length(y[train]) )\")"
   ]
  },
  {
   "cell_type": "markdown",
   "id": "069b8ec9-d086-4113-8b15-a0469f9864f5",
   "metadata": {},
   "source": [
    "Plot & compare"
   ]
  },
  {
   "cell_type": "code",
   "execution_count": 22,
   "id": "bd3b6cce-3b60-466f-9c95-75a200ef422f",
   "metadata": {},
   "outputs": [],
   "source": [
    "using LaTeXStrings"
   ]
  },
  {
   "cell_type": "code",
   "execution_count": 23,
   "id": "e050dcd4-db13-4565-ab00-e890cf18736e",
   "metadata": {},
   "outputs": [
    {
     "data": {
      "image/png": "[encoded data removed]",
      "image/svg+xml": [
       "<?xml version=\"1.0\" encoding=\"utf-8\"?>\n",
       "<svg xmlns=\"http://www.w3.org/2000/svg\" xmlns:xlink=\"http://www.w3.org/1999/xlink\" width=\"600\" height=\"400\" viewBox=\"0 0 2400 1600\">\n",
       "<defs>\n",
       "  <clipPath id=\"clip070\">\n",
       "    <rect x=\"0\" y=\"0\" width=\"2400\" height=\"1600\"/>\n",
       "  </clipPath>\n",
       "</defs>\n",
       "<path clip-path=\"url(#clip070)\" d=\"M0 1600 L2400 1600 L2400 0 L0 0  Z\" fill=\"#282a36\" fill-rule=\"evenodd\" fill-opacity=\"1\"/>\n",
       "<defs>\n",
       "  <clipPath id=\"clip071\">\n",
       "    <rect x=\"480\" y=\"0\" width=\"1681\" height=\"1600\"/>\n",
       "  </clipPath>\n",
       "</defs>\n",
       "<path clip-path=\"url(#clip070)\" d=\"M275.136 1486.45 L2352.76 1486.45 L2352.76 47.2441 L275.136 47.2441  Z\" fill=\"#30343b\" fill-rule=\"evenodd\" fill-opacity=\"1\"/>\n",
       "<defs>\n",
       "  <clipPath id=\"clip072\">\n",
       "    <rect x=\"275\" y=\"47\" width=\"2079\" height=\"1440\"/>\n",
       "  </clipPath>\n",
       "</defs>\n",
       "<polyline clip-path=\"url(#clip072)\" style=\"stroke:#f8f8f2; stroke-linecap:round; stroke-linejoin:round; stroke-width:2; stroke-opacity:0.1; fill:none\" points=\"551.717,1486.45 551.717,47.2441 \"/>\n",
       "<polyline clip-path=\"url(#clip072)\" style=\"stroke:#f8f8f2; stroke-linecap:round; stroke-linejoin:round; stroke-width:2; stroke-opacity:0.1; fill:none\" points=\"987.276,1486.45 987.276,47.2441 \"/>\n",
       "<polyline clip-path=\"url(#clip072)\" style=\"stroke:#f8f8f2; stroke-linecap:round; stroke-linejoin:round; stroke-width:2; stroke-opacity:0.1; fill:none\" points=\"1422.84,1486.45 1422.84,47.2441 \"/>\n",
       "<polyline clip-path=\"url(#clip072)\" style=\"stroke:#f8f8f2; stroke-linecap:round; stroke-linejoin:round; stroke-width:2; stroke-opacity:0.1; fill:none\" points=\"1858.4,1486.45 1858.4,47.2441 \"/>\n",
       "<polyline clip-path=\"url(#clip072)\" style=\"stroke:#f8f8f2; stroke-linecap:round; stroke-linejoin:round; stroke-width:2; stroke-opacity:0.1; fill:none\" points=\"2293.96,1486.45 2293.96,47.2441 \"/>\n",
       "<polyline clip-path=\"url(#clip072)\" style=\"stroke:#f8f8f2; stroke-linecap:round; stroke-linejoin:round; stroke-width:2; stroke-opacity:0.1; fill:none\" points=\"275.136,1225.35 2352.76,1225.35 \"/>\n",
       "<polyline clip-path=\"url(#clip072)\" style=\"stroke:#f8f8f2; stroke-linecap:round; stroke-linejoin:round; stroke-width:2; stroke-opacity:0.1; fill:none\" points=\"275.136,941.006 2352.76,941.006 \"/>\n",
       "<polyline clip-path=\"url(#clip072)\" style=\"stroke:#f8f8f2; stroke-linecap:round; stroke-linejoin:round; stroke-width:2; stroke-opacity:0.1; fill:none\" points=\"275.136,656.663 2352.76,656.663 \"/>\n",
       "<polyline clip-path=\"url(#clip072)\" style=\"stroke:#f8f8f2; stroke-linecap:round; stroke-linejoin:round; stroke-width:2; stroke-opacity:0.1; fill:none\" points=\"275.136,372.32 2352.76,372.32 \"/>\n",
       "<polyline clip-path=\"url(#clip072)\" style=\"stroke:#f8f8f2; stroke-linecap:round; stroke-linejoin:round; stroke-width:2; stroke-opacity:0.1; fill:none\" points=\"275.136,87.9763 2352.76,87.9763 \"/>\n",
       "<polyline clip-path=\"url(#clip070)\" style=\"stroke:#f8f8f2; stroke-linecap:round; stroke-linejoin:round; stroke-width:4; stroke-opacity:1; fill:none\" points=\"275.136,1486.45 2352.76,1486.45 \"/>\n",
       "<polyline clip-path=\"url(#clip070)\" style=\"stroke:#f8f8f2; stroke-linecap:round; stroke-linejoin:round; stroke-width:4; stroke-opacity:1; fill:none\" points=\"551.717,1486.45 551.717,1467.55 \"/>\n",
       "<polyline clip-path=\"url(#clip070)\" style=\"stroke:#f8f8f2; stroke-linecap:round; stroke-linejoin:round; stroke-width:4; stroke-opacity:1; fill:none\" points=\"987.276,1486.45 987.276,1467.55 \"/>\n",
       "<polyline clip-path=\"url(#clip070)\" style=\"stroke:#f8f8f2; stroke-linecap:round; stroke-linejoin:round; stroke-width:4; stroke-opacity:1; fill:none\" points=\"1422.84,1486.45 1422.84,1467.55 \"/>\n",
       "<polyline clip-path=\"url(#clip070)\" style=\"stroke:#f8f8f2; stroke-linecap:round; stroke-linejoin:round; stroke-width:4; stroke-opacity:1; fill:none\" points=\"1858.4,1486.45 1858.4,1467.55 \"/>\n",
       "<polyline clip-path=\"url(#clip070)\" style=\"stroke:#f8f8f2; stroke-linecap:round; stroke-linejoin:round; stroke-width:4; stroke-opacity:1; fill:none\" points=\"2293.96,1486.45 2293.96,1467.55 \"/>\n",
       "<path clip-path=\"url(#clip070)\" d=\"M546.37 1544.91 L562.689 1544.91 L562.689 1548.85 L540.745 1548.85 L540.745 1544.91 Q543.407 1542.16 547.99 1537.53 Q552.596 1532.88 553.777 1531.53 Q556.022 1529.01 556.902 1527.27 Q557.805 1525.51 557.805 1523.82 Q557.805 1521.07 555.86 1519.33 Q553.939 1517.6 550.837 1517.6 Q548.638 1517.6 546.184 1518.36 Q543.754 1519.13 540.976 1520.68 L540.976 1515.95 Q543.8 1514.82 546.254 1514.24 Q548.708 1513.66 550.745 1513.66 Q556.115 1513.66 559.309 1516.35 Q562.504 1519.03 562.504 1523.52 Q562.504 1525.65 561.694 1527.57 Q560.907 1529.47 558.8 1532.07 Q558.221 1532.74 555.12 1535.95 Q552.018 1539.15 546.37 1544.91 Z\" fill=\"#f8f8f2\" fill-rule=\"nonzero\" fill-opacity=\"1\" /><path clip-path=\"url(#clip070)\" d=\"M990.286 1518.36 L978.48 1536.81 L990.286 1536.81 L990.286 1518.36 M989.059 1514.29 L994.938 1514.29 L994.938 1536.81 L999.869 1536.81 L999.869 1540.7 L994.938 1540.7 L994.938 1548.85 L990.286 1548.85 L990.286 1540.7 L974.684 1540.7 L974.684 1536.19 L989.059 1514.29 Z\" fill=\"#f8f8f2\" fill-rule=\"nonzero\" fill-opacity=\"1\" /><path clip-path=\"url(#clip070)\" d=\"M1423.24 1529.7 Q1420.09 1529.7 1418.24 1531.86 Q1416.41 1534.01 1416.41 1537.76 Q1416.41 1541.49 1418.24 1543.66 Q1420.09 1545.82 1423.24 1545.82 Q1426.39 1545.82 1428.22 1543.66 Q1430.07 1541.49 1430.07 1537.76 Q1430.07 1534.01 1428.22 1531.86 Q1426.39 1529.7 1423.24 1529.7 M1432.52 1515.05 L1432.52 1519.31 Q1430.76 1518.48 1428.96 1518.04 Q1427.18 1517.6 1425.42 1517.6 Q1420.79 1517.6 1418.33 1520.72 Q1415.9 1523.85 1415.56 1530.17 Q1416.92 1528.15 1418.98 1527.09 Q1421.04 1526 1423.52 1526 Q1428.73 1526 1431.74 1529.17 Q1434.77 1532.32 1434.77 1537.76 Q1434.77 1543.08 1431.62 1546.3 Q1428.47 1549.52 1423.24 1549.52 Q1417.25 1549.52 1414.07 1544.94 Q1410.9 1540.33 1410.9 1531.6 Q1410.9 1523.41 1414.79 1518.55 Q1418.68 1513.66 1425.23 1513.66 Q1426.99 1513.66 1428.77 1514.01 Q1430.58 1514.36 1432.52 1515.05 Z\" fill=\"#f8f8f2\" fill-rule=\"nonzero\" fill-opacity=\"1\" /><path clip-path=\"url(#clip070)\" d=\"M1858.4 1532.44 Q1855.06 1532.44 1853.14 1534.22 Q1851.24 1536 1851.24 1539.13 Q1851.24 1542.25 1853.14 1544.03 Q1855.06 1545.82 1858.4 1545.82 Q1861.73 1545.82 1863.65 1544.03 Q1865.57 1542.23 1865.57 1539.13 Q1865.57 1536 1863.65 1534.22 Q1861.75 1532.44 1858.4 1532.44 M1853.72 1530.45 Q1850.71 1529.7 1849.02 1527.64 Q1847.35 1525.58 1847.35 1522.62 Q1847.35 1518.48 1850.29 1516.07 Q1853.26 1513.66 1858.4 1513.66 Q1863.56 1513.66 1866.5 1516.07 Q1869.44 1518.48 1869.44 1522.62 Q1869.44 1525.58 1867.75 1527.64 Q1866.08 1529.7 1863.09 1530.45 Q1866.47 1531.23 1868.35 1533.52 Q1870.25 1535.82 1870.25 1539.13 Q1870.25 1544.15 1867.17 1546.83 Q1864.11 1549.52 1858.4 1549.52 Q1852.68 1549.52 1849.6 1546.83 Q1846.54 1544.15 1846.54 1539.13 Q1846.54 1535.82 1848.44 1533.52 Q1850.34 1531.23 1853.72 1530.45 M1852.01 1523.06 Q1852.01 1525.75 1853.67 1527.25 Q1855.36 1528.76 1858.4 1528.76 Q1861.4 1528.76 1863.09 1527.25 Q1864.81 1525.75 1864.81 1523.06 Q1864.81 1520.38 1863.09 1518.87 Q1861.4 1517.37 1858.4 1517.37 Q1855.36 1517.37 1853.67 1518.87 Q1852.01 1520.38 1852.01 1523.06 Z\" fill=\"#f8f8f2\" fill-rule=\"nonzero\" fill-opacity=\"1\" /><path clip-path=\"url(#clip070)\" d=\"M2268.64 1544.91 L2276.28 1544.91 L2276.28 1518.55 L2267.97 1520.21 L2267.97 1515.95 L2276.24 1514.29 L2280.91 1514.29 L2280.91 1544.91 L2288.55 1544.91 L2288.55 1548.85 L2268.64 1548.85 L2268.64 1544.91 Z\" fill=\"#f8f8f2\" fill-rule=\"nonzero\" fill-opacity=\"1\" /><path clip-path=\"url(#clip070)\" d=\"M2307.99 1517.37 Q2304.38 1517.37 2302.55 1520.93 Q2300.75 1524.47 2300.75 1531.6 Q2300.75 1538.71 2302.55 1542.27 Q2304.38 1545.82 2307.99 1545.82 Q2311.63 1545.82 2313.43 1542.27 Q2315.26 1538.71 2315.26 1531.6 Q2315.26 1524.47 2313.43 1520.93 Q2311.63 1517.37 2307.99 1517.37 M2307.99 1513.66 Q2313.8 1513.66 2316.86 1518.27 Q2319.94 1522.85 2319.94 1531.6 Q2319.94 1540.33 2316.86 1544.94 Q2313.8 1549.52 2307.99 1549.52 Q2302.18 1549.52 2299.11 1544.94 Q2296.05 1540.33 2296.05 1531.6 Q2296.05 1522.85 2299.11 1518.27 Q2302.18 1513.66 2307.99 1513.66 Z\" fill=\"#f8f8f2\" fill-rule=\"nonzero\" fill-opacity=\"1\" /><polyline clip-path=\"url(#clip070)\" style=\"stroke:#f8f8f2; stroke-linecap:round; stroke-linejoin:round; stroke-width:4; stroke-opacity:1; fill:none\" points=\"275.136,1486.45 275.136,47.2441 \"/>\n",
       "<polyline clip-path=\"url(#clip070)\" style=\"stroke:#f8f8f2; stroke-linecap:round; stroke-linejoin:round; stroke-width:4; stroke-opacity:1; fill:none\" points=\"275.136,1225.35 294.034,1225.35 \"/>\n",
       "<polyline clip-path=\"url(#clip070)\" style=\"stroke:#f8f8f2; stroke-linecap:round; stroke-linejoin:round; stroke-width:4; stroke-opacity:1; fill:none\" points=\"275.136,941.006 294.034,941.006 \"/>\n",
       "<polyline clip-path=\"url(#clip070)\" style=\"stroke:#f8f8f2; stroke-linecap:round; stroke-linejoin:round; stroke-width:4; stroke-opacity:1; fill:none\" points=\"275.136,656.663 294.034,656.663 \"/>\n",
       "<polyline clip-path=\"url(#clip070)\" style=\"stroke:#f8f8f2; stroke-linecap:round; stroke-linejoin:round; stroke-width:4; stroke-opacity:1; fill:none\" points=\"275.136,372.32 294.034,372.32 \"/>\n",
       "<polyline clip-path=\"url(#clip070)\" style=\"stroke:#f8f8f2; stroke-linecap:round; stroke-linejoin:round; stroke-width:4; stroke-opacity:1; fill:none\" points=\"275.136,87.9763 294.034,87.9763 \"/>\n",
       "<path clip-path=\"url(#clip070)\" d=\"M57.7745 1245.14 L74.0939 1245.14 L74.0939 1249.08 L52.1495 1249.08 L52.1495 1245.14 Q54.8115 1242.39 59.3949 1237.76 Q64.0013 1233.11 65.1819 1231.76 Q67.4272 1229.24 68.3068 1227.5 Q69.2096 1225.74 69.2096 1224.05 Q69.2096 1221.3 67.2652 1219.56 Q65.3439 1217.83 62.2421 1217.83 Q60.043 1217.83 57.5893 1218.59 Q55.1588 1219.36 52.381 1220.91 L52.381 1216.18 Q55.2051 1215.05 57.6588 1214.47 Q60.1124 1213.89 62.1495 1213.89 Q67.5198 1213.89 70.7142 1216.58 Q73.9087 1219.26 73.9087 1223.75 Q73.9087 1225.88 73.0985 1227.8 Q72.3115 1229.7 70.205 1232.29 Q69.6263 1232.97 66.5245 1236.18 Q63.4226 1239.38 57.7745 1245.14 Z\" fill=\"#f8f8f2\" fill-rule=\"nonzero\" fill-opacity=\"1\" /><path clip-path=\"url(#clip070)\" d=\"M83.9086 1243.2 L88.7928 1243.2 L88.7928 1249.08 L83.9086 1249.08 L83.9086 1243.2 Z\" fill=\"#f8f8f2\" fill-rule=\"nonzero\" fill-opacity=\"1\" /><path clip-path=\"url(#clip070)\" d=\"M108.978 1217.6 Q105.367 1217.6 103.538 1221.16 Q101.733 1224.7 101.733 1231.83 Q101.733 1238.94 103.538 1242.5 Q105.367 1246.04 108.978 1246.04 Q112.612 1246.04 114.418 1242.5 Q116.246 1238.94 116.246 1231.83 Q116.246 1224.7 114.418 1221.16 Q112.612 1217.6 108.978 1217.6 M108.978 1213.89 Q114.788 1213.89 117.844 1218.5 Q120.922 1223.08 120.922 1231.83 Q120.922 1240.56 117.844 1245.17 Q114.788 1249.75 108.978 1249.75 Q103.168 1249.75 100.089 1245.17 Q97.0335 1240.56 97.0335 1231.83 Q97.0335 1223.08 100.089 1218.5 Q103.168 1213.89 108.978 1213.89 Z\" fill=\"#f8f8f2\" fill-rule=\"nonzero\" fill-opacity=\"1\" /><path clip-path=\"url(#clip070)\" d=\"M157.311 1223.61 L146.732 1234.24 L157.311 1244.82 L154.556 1247.62 L143.931 1236.99 L133.306 1247.62 L130.575 1244.82 L141.131 1234.24 L130.575 1223.61 L133.306 1220.81 L143.931 1231.44 L154.556 1220.81 L157.311 1223.61 Z\" fill=\"#f8f8f2\" fill-rule=\"nonzero\" fill-opacity=\"1\" /><path clip-path=\"url(#clip070)\" d=\"M169.672 1245.14 L177.311 1245.14 L177.311 1218.78 L169.001 1220.44 L169.001 1216.18 L177.265 1214.52 L181.94 1214.52 L181.94 1245.14 L189.579 1245.14 L189.579 1249.08 L169.672 1249.08 L169.672 1245.14 Z\" fill=\"#f8f8f2\" fill-rule=\"nonzero\" fill-opacity=\"1\" /><path clip-path=\"url(#clip070)\" d=\"M209.024 1217.6 Q205.413 1217.6 203.584 1221.16 Q201.778 1224.7 201.778 1231.83 Q201.778 1238.94 203.584 1242.5 Q205.413 1246.04 209.024 1246.04 Q212.658 1246.04 214.463 1242.5 Q216.292 1238.94 216.292 1231.83 Q216.292 1224.7 214.463 1221.16 Q212.658 1217.6 209.024 1217.6 M209.024 1213.89 Q214.834 1213.89 217.889 1218.5 Q220.968 1223.08 220.968 1231.83 Q220.968 1240.56 217.889 1245.17 Q214.834 1249.75 209.024 1249.75 Q203.214 1249.75 200.135 1245.17 Q197.079 1240.56 197.079 1231.83 Q197.079 1223.08 200.135 1218.5 Q203.214 1213.89 209.024 1213.89 Z\" fill=\"#f8f8f2\" fill-rule=\"nonzero\" fill-opacity=\"1\" /><path clip-path=\"url(#clip070)\" d=\"M222.153 1193.59 L237.068 1193.59 L237.068 1196.78 L225.632 1196.78 L225.632 1203.67 Q226.46 1203.39 227.287 1203.25 Q228.115 1203.1 228.943 1203.1 Q233.645 1203.1 236.39 1205.68 Q239.136 1208.26 239.136 1212.66 Q239.136 1217.19 236.315 1219.71 Q233.494 1222.21 228.36 1222.21 Q226.592 1222.21 224.748 1221.91 Q222.924 1221.61 220.968 1221.01 L220.968 1217.19 Q222.661 1218.11 224.466 1218.56 Q226.272 1219.01 228.284 1219.01 Q231.538 1219.01 233.438 1217.3 Q235.337 1215.59 235.337 1212.66 Q235.337 1209.72 233.438 1208.01 Q231.538 1206.3 228.284 1206.3 Q226.761 1206.3 225.237 1206.64 Q223.733 1206.98 222.153 1207.69 L222.153 1193.59 Z\" fill=\"#f8f8f2\" fill-rule=\"nonzero\" fill-opacity=\"1\" /><path clip-path=\"url(#clip070)\" d=\"M66.5939 934.248 L54.7884 952.697 L66.5939 952.697 L66.5939 934.248 M65.367 930.174 L71.2466 930.174 L71.2466 952.697 L76.1772 952.697 L76.1772 956.586 L71.2466 956.586 L71.2466 964.734 L66.5939 964.734 L66.5939 956.586 L50.9921 956.586 L50.9921 952.072 L65.367 930.174 Z\" fill=\"#f8f8f2\" fill-rule=\"nonzero\" fill-opacity=\"1\" /><path clip-path=\"url(#clip070)\" d=\"M83.9086 958.854 L88.7928 958.854 L88.7928 964.734 L83.9086 964.734 L83.9086 958.854 Z\" fill=\"#f8f8f2\" fill-rule=\"nonzero\" fill-opacity=\"1\" /><path clip-path=\"url(#clip070)\" d=\"M108.978 933.253 Q105.367 933.253 103.538 936.817 Q101.733 940.359 101.733 947.489 Q101.733 954.595 103.538 958.16 Q105.367 961.701 108.978 961.701 Q112.612 961.701 114.418 958.16 Q116.246 954.595 116.246 947.489 Q116.246 940.359 114.418 936.817 Q112.612 933.253 108.978 933.253 M108.978 929.549 Q114.788 929.549 117.844 934.155 Q120.922 938.739 120.922 947.489 Q120.922 956.215 117.844 960.822 Q114.788 965.405 108.978 965.405 Q103.168 965.405 100.089 960.822 Q97.0335 956.215 97.0335 947.489 Q97.0335 938.739 100.089 934.155 Q103.168 929.549 108.978 929.549 Z\" fill=\"#f8f8f2\" fill-rule=\"nonzero\" fill-opacity=\"1\" /><path clip-path=\"url(#clip070)\" d=\"M157.311 939.271 L146.732 949.896 L157.311 960.475 L154.556 963.276 L143.931 952.651 L133.306 963.276 L130.575 960.475 L141.131 949.896 L130.575 939.271 L133.306 936.47 L143.931 947.095 L154.556 936.47 L157.311 939.271 Z\" fill=\"#f8f8f2\" fill-rule=\"nonzero\" fill-opacity=\"1\" /><path clip-path=\"url(#clip070)\" d=\"M169.672 960.799 L177.311 960.799 L177.311 934.433 L169.001 936.1 L169.001 931.841 L177.265 930.174 L181.94 930.174 L181.94 960.799 L189.579 960.799 L189.579 964.734 L169.672 964.734 L169.672 960.799 Z\" fill=\"#f8f8f2\" fill-rule=\"nonzero\" fill-opacity=\"1\" /><path clip-path=\"url(#clip070)\" d=\"M209.024 933.253 Q205.413 933.253 203.584 936.817 Q201.778 940.359 201.778 947.489 Q201.778 954.595 203.584 958.16 Q205.413 961.701 209.024 961.701 Q212.658 961.701 214.463 958.16 Q216.292 954.595 216.292 947.489 Q216.292 940.359 214.463 936.817 Q212.658 933.253 209.024 933.253 M209.024 929.549 Q214.834 929.549 217.889 934.155 Q220.968 938.739 220.968 947.489 Q220.968 956.215 217.889 960.822 Q214.834 965.405 209.024 965.405 Q203.214 965.405 200.135 960.822 Q197.079 956.215 197.079 947.489 Q197.079 938.739 200.135 934.155 Q203.214 929.549 209.024 929.549 Z\" fill=\"#f8f8f2\" fill-rule=\"nonzero\" fill-opacity=\"1\" /><path clip-path=\"url(#clip070)\" d=\"M222.153 909.243 L237.068 909.243 L237.068 912.441 L225.632 912.441 L225.632 919.324 Q226.46 919.042 227.287 918.911 Q228.115 918.76 228.943 918.76 Q233.645 918.76 236.39 921.337 Q239.136 923.914 239.136 928.315 Q239.136 932.847 236.315 935.367 Q233.494 937.869 228.36 937.869 Q226.592 937.869 224.748 937.568 Q222.924 937.267 220.968 936.665 L220.968 932.847 Q222.661 933.769 224.466 934.22 Q226.272 934.672 228.284 934.672 Q231.538 934.672 233.438 932.96 Q235.337 931.249 235.337 928.315 Q235.337 925.381 233.438 923.669 Q231.538 921.958 228.284 921.958 Q226.761 921.958 225.237 922.296 Q223.733 922.635 222.153 923.349 L222.153 909.243 Z\" fill=\"#f8f8f2\" fill-rule=\"nonzero\" fill-opacity=\"1\" /><path clip-path=\"url(#clip070)\" d=\"M64.3254 661.247 Q61.1773 661.247 59.3254 663.4 Q57.4967 665.553 57.4967 669.303 Q57.4967 673.029 59.3254 675.205 Q61.1773 677.358 64.3254 677.358 Q67.4735 677.358 69.3022 675.205 Q71.1541 673.029 71.1541 669.303 Q71.1541 665.553 69.3022 663.4 Q67.4735 661.247 64.3254 661.247 M73.6077 646.594 L73.6077 650.854 Q71.8485 650.02 70.0429 649.581 Q68.2606 649.141 66.5013 649.141 Q61.8717 649.141 59.418 652.266 Q56.9875 655.391 56.6402 661.71 Q58.006 659.696 60.0662 658.631 Q62.1263 657.543 64.6032 657.543 Q69.8115 657.543 72.8207 660.715 Q75.8531 663.863 75.8531 669.303 Q75.8531 674.627 72.705 677.844 Q69.5568 681.062 64.3254 681.062 Q58.33 681.062 55.1588 676.479 Q51.9875 671.872 51.9875 663.145 Q51.9875 654.951 55.8764 650.09 Q59.7652 645.206 66.3161 645.206 Q68.0754 645.206 69.8578 645.553 Q71.6633 645.9 73.6077 646.594 Z\" fill=\"#f8f8f2\" fill-rule=\"nonzero\" fill-opacity=\"1\" /><path clip-path=\"url(#clip070)\" d=\"M83.9086 674.511 L88.7928 674.511 L88.7928 680.391 L83.9086 680.391 L83.9086 674.511 Z\" fill=\"#f8f8f2\" fill-rule=\"nonzero\" fill-opacity=\"1\" /><path clip-path=\"url(#clip070)\" d=\"M108.978 648.909 Q105.367 648.909 103.538 652.474 Q101.733 656.016 101.733 663.145 Q101.733 670.252 103.538 673.817 Q105.367 677.358 108.978 677.358 Q112.612 677.358 114.418 673.817 Q116.246 670.252 116.246 663.145 Q116.246 656.016 114.418 652.474 Q112.612 648.909 108.978 648.909 M108.978 645.206 Q114.788 645.206 117.844 649.812 Q120.922 654.395 120.922 663.145 Q120.922 671.872 117.844 676.479 Q114.788 681.062 108.978 681.062 Q103.168 681.062 100.089 676.479 Q97.0335 671.872 97.0335 663.145 Q97.0335 654.395 100.089 649.812 Q103.168 645.206 108.978 645.206 Z\" fill=\"#f8f8f2\" fill-rule=\"nonzero\" fill-opacity=\"1\" /><path clip-path=\"url(#clip070)\" d=\"M157.311 654.928 L146.732 665.553 L157.311 676.131 L154.556 678.932 L143.931 668.307 L133.306 678.932 L130.575 676.131 L141.131 665.553 L130.575 654.928 L133.306 652.127 L143.931 662.752 L154.556 652.127 L157.311 654.928 Z\" fill=\"#f8f8f2\" fill-rule=\"nonzero\" fill-opacity=\"1\" /><path clip-path=\"url(#clip070)\" d=\"M169.672 676.455 L177.311 676.455 L177.311 650.09 L169.001 651.756 L169.001 647.497 L177.265 645.831 L181.94 645.831 L181.94 676.455 L189.579 676.455 L189.579 680.391 L169.672 680.391 L169.672 676.455 Z\" fill=\"#f8f8f2\" fill-rule=\"nonzero\" fill-opacity=\"1\" /><path clip-path=\"url(#clip070)\" d=\"M209.024 648.909 Q205.413 648.909 203.584 652.474 Q201.778 656.016 201.778 663.145 Q201.778 670.252 203.584 673.817 Q205.413 677.358 209.024 677.358 Q212.658 677.358 214.463 673.817 Q216.292 670.252 216.292 663.145 Q216.292 656.016 214.463 652.474 Q212.658 648.909 209.024 648.909 M209.024 645.206 Q214.834 645.206 217.889 649.812 Q220.968 654.395 220.968 663.145 Q220.968 671.872 217.889 676.479 Q214.834 681.062 209.024 681.062 Q203.214 681.062 200.135 676.479 Q197.079 671.872 197.079 663.145 Q197.079 654.395 200.135 649.812 Q203.214 645.206 209.024 645.206 Z\" fill=\"#f8f8f2\" fill-rule=\"nonzero\" fill-opacity=\"1\" /><path clip-path=\"url(#clip070)\" d=\"M222.153 624.9 L237.068 624.9 L237.068 628.097 L225.632 628.097 L225.632 634.981 Q226.46 634.699 227.287 634.567 Q228.115 634.417 228.943 634.417 Q233.645 634.417 236.39 636.994 Q239.136 639.57 239.136 643.971 Q239.136 648.504 236.315 651.024 Q233.494 653.526 228.36 653.526 Q226.592 653.526 224.748 653.225 Q222.924 652.924 220.968 652.322 L220.968 648.504 Q222.661 649.425 224.466 649.877 Q226.272 650.328 228.284 650.328 Q231.538 650.328 233.438 648.617 Q235.337 646.905 235.337 643.971 Q235.337 641.037 233.438 639.326 Q231.538 637.614 228.284 637.614 Q226.761 637.614 225.237 637.953 Q223.733 638.291 222.153 639.006 L222.153 624.9 Z\" fill=\"#f8f8f2\" fill-rule=\"nonzero\" fill-opacity=\"1\" /><path clip-path=\"url(#clip070)\" d=\"M63.7467 379.635 Q60.4134 379.635 58.4921 381.418 Q56.5939 383.2 56.5939 386.325 Q56.5939 389.45 58.4921 391.232 Q60.4134 393.015 63.7467 393.015 Q67.08 393.015 69.0013 391.232 Q70.9226 389.427 70.9226 386.325 Q70.9226 383.2 69.0013 381.418 Q67.1032 379.635 63.7467 379.635 M59.0708 377.645 Q56.0615 376.904 54.3717 374.844 Q52.7051 372.783 52.7051 369.82 Q52.7051 365.677 55.6449 363.27 Q58.6078 360.862 63.7467 360.862 Q68.9087 360.862 71.8485 363.27 Q74.7883 365.677 74.7883 369.82 Q74.7883 372.783 73.0985 374.844 Q71.4318 376.904 68.4457 377.645 Q71.8253 378.432 73.7003 380.723 Q75.5985 383.015 75.5985 386.325 Q75.5985 391.348 72.5198 394.033 Q69.4642 396.719 63.7467 396.719 Q58.0291 396.719 54.9504 394.033 Q51.8949 391.348 51.8949 386.325 Q51.8949 383.015 53.793 380.723 Q55.6912 378.432 59.0708 377.645 M57.3578 370.26 Q57.3578 372.945 59.0245 374.45 Q60.7143 375.955 63.7467 375.955 Q66.7559 375.955 68.4457 374.45 Q70.1587 372.945 70.1587 370.26 Q70.1587 367.575 68.4457 366.071 Q66.7559 364.566 63.7467 364.566 Q60.7143 364.566 59.0245 366.071 Q57.3578 367.575 57.3578 370.26 Z\" fill=\"#f8f8f2\" fill-rule=\"nonzero\" fill-opacity=\"1\" /><path clip-path=\"url(#clip070)\" d=\"M83.9086 390.168 L88.7928 390.168 L88.7928 396.047 L83.9086 396.047 L83.9086 390.168 Z\" fill=\"#f8f8f2\" fill-rule=\"nonzero\" fill-opacity=\"1\" /><path clip-path=\"url(#clip070)\" d=\"M108.978 364.566 Q105.367 364.566 103.538 368.131 Q101.733 371.672 101.733 378.802 Q101.733 385.908 103.538 389.473 Q105.367 393.015 108.978 393.015 Q112.612 393.015 114.418 389.473 Q116.246 385.908 116.246 378.802 Q116.246 371.672 114.418 368.131 Q112.612 364.566 108.978 364.566 M108.978 360.862 Q114.788 360.862 117.844 365.469 Q120.922 370.052 120.922 378.802 Q120.922 387.529 117.844 392.135 Q114.788 396.719 108.978 396.719 Q103.168 396.719 100.089 392.135 Q97.0335 387.529 97.0335 378.802 Q97.0335 370.052 100.089 365.469 Q103.168 360.862 108.978 360.862 Z\" fill=\"#f8f8f2\" fill-rule=\"nonzero\" fill-opacity=\"1\" /><path clip-path=\"url(#clip070)\" d=\"M157.311 370.584 L146.732 381.209 L157.311 391.788 L154.556 394.589 L143.931 383.964 L133.306 394.589 L130.575 391.788 L141.131 381.209 L130.575 370.584 L133.306 367.783 L143.931 378.408 L154.556 367.783 L157.311 370.584 Z\" fill=\"#f8f8f2\" fill-rule=\"nonzero\" fill-opacity=\"1\" /><path clip-path=\"url(#clip070)\" d=\"M169.672 392.112 L177.311 392.112 L177.311 365.746 L169.001 367.413 L169.001 363.154 L177.265 361.487 L181.94 361.487 L181.94 392.112 L189.579 392.112 L189.579 396.047 L169.672 396.047 L169.672 392.112 Z\" fill=\"#f8f8f2\" fill-rule=\"nonzero\" fill-opacity=\"1\" /><path clip-path=\"url(#clip070)\" d=\"M209.024 364.566 Q205.413 364.566 203.584 368.131 Q201.778 371.672 201.778 378.802 Q201.778 385.908 203.584 389.473 Q205.413 393.015 209.024 393.015 Q212.658 393.015 214.463 389.473 Q216.292 385.908 216.292 378.802 Q216.292 371.672 214.463 368.131 Q212.658 364.566 209.024 364.566 M209.024 360.862 Q214.834 360.862 217.889 365.469 Q220.968 370.052 220.968 378.802 Q220.968 387.529 217.889 392.135 Q214.834 396.719 209.024 396.719 Q203.214 396.719 200.135 392.135 Q197.079 387.529 197.079 378.802 Q197.079 370.052 200.135 365.469 Q203.214 360.862 209.024 360.862 Z\" fill=\"#f8f8f2\" fill-rule=\"nonzero\" fill-opacity=\"1\" /><path clip-path=\"url(#clip070)\" d=\"M222.153 340.557 L237.068 340.557 L237.068 343.754 L225.632 343.754 L225.632 350.638 Q226.46 350.356 227.287 350.224 Q228.115 350.074 228.943 350.074 Q233.645 350.074 236.39 352.65 Q239.136 355.227 239.136 359.628 Q239.136 364.161 236.315 366.681 Q233.494 369.182 228.36 369.182 Q226.592 369.182 224.748 368.881 Q222.924 368.58 220.968 367.979 L220.968 364.161 Q222.661 365.082 224.466 365.534 Q226.272 365.985 228.284 365.985 Q231.538 365.985 233.438 364.273 Q235.337 362.562 235.337 359.628 Q235.337 356.694 233.438 354.982 Q231.538 353.271 228.284 353.271 Q226.761 353.271 225.237 353.609 Q223.733 353.948 222.153 354.663 L222.153 340.557 Z\" fill=\"#f8f8f2\" fill-rule=\"nonzero\" fill-opacity=\"1\" /><path clip-path=\"url(#clip070)\" d=\"M53.3344 107.769 L60.9733 107.769 L60.9733 81.4031 L52.6631 83.0698 L52.6631 78.8105 L60.927 77.1439 L65.6029 77.1439 L65.6029 107.769 L73.2417 107.769 L73.2417 111.704 L53.3344 111.704 L53.3344 107.769 Z\" fill=\"#f8f8f2\" fill-rule=\"nonzero\" fill-opacity=\"1\" /><path clip-path=\"url(#clip070)\" d=\"M82.6861 105.824 L87.5703 105.824 L87.5703 111.704 L82.6861 111.704 L82.6861 105.824 Z\" fill=\"#f8f8f2\" fill-rule=\"nonzero\" fill-opacity=\"1\" /><path clip-path=\"url(#clip070)\" d=\"M107.755 80.2226 Q104.144 80.2226 102.316 83.7874 Q100.51 87.329 100.51 94.4586 Q100.51 101.565 102.316 105.13 Q104.144 108.671 107.755 108.671 Q111.39 108.671 113.195 105.13 Q115.024 101.565 115.024 94.4586 Q115.024 87.329 113.195 83.7874 Q111.39 80.2226 107.755 80.2226 M107.755 76.5189 Q113.566 76.5189 116.621 81.1253 Q119.7 85.7086 119.7 94.4586 Q119.7 103.185 116.621 107.792 Q113.566 112.375 107.755 112.375 Q101.945 112.375 98.8666 107.792 Q95.811 103.185 95.811 94.4586 Q95.811 85.7086 98.8666 81.1253 Q101.945 76.5189 107.755 76.5189 Z\" fill=\"#f8f8f2\" fill-rule=\"nonzero\" fill-opacity=\"1\" /><path clip-path=\"url(#clip070)\" d=\"M156.088 86.2411 L145.51 96.866 L156.088 107.445 L153.334 110.246 L142.709 99.6206 L132.084 110.246 L129.353 107.445 L139.908 96.866 L129.353 86.2411 L132.084 83.4401 L142.709 94.0651 L153.334 83.4401 L156.088 86.2411 Z\" fill=\"#f8f8f2\" fill-rule=\"nonzero\" fill-opacity=\"1\" /><path clip-path=\"url(#clip070)\" d=\"M168.45 107.769 L176.088 107.769 L176.088 81.4031 L167.778 83.0698 L167.778 78.8105 L176.042 77.1439 L180.718 77.1439 L180.718 107.769 L188.357 107.769 L188.357 111.704 L168.45 111.704 L168.45 107.769 Z\" fill=\"#f8f8f2\" fill-rule=\"nonzero\" fill-opacity=\"1\" /><path clip-path=\"url(#clip070)\" d=\"M207.801 80.2226 Q204.19 80.2226 202.361 83.7874 Q200.556 87.329 200.556 94.4586 Q200.556 101.565 202.361 105.13 Q204.19 108.671 207.801 108.671 Q211.435 108.671 213.241 105.13 Q215.07 101.565 215.07 94.4586 Q215.07 87.329 213.241 83.7874 Q211.435 80.2226 207.801 80.2226 M207.801 76.5189 Q213.611 76.5189 216.667 81.1253 Q219.746 85.7086 219.746 94.4586 Q219.746 103.185 216.667 107.792 Q213.611 112.375 207.801 112.375 Q201.991 112.375 198.912 107.792 Q195.857 103.185 195.857 94.4586 Q195.857 85.7086 198.912 81.1253 Q201.991 76.5189 207.801 76.5189 Z\" fill=\"#f8f8f2\" fill-rule=\"nonzero\" fill-opacity=\"1\" /><path clip-path=\"url(#clip070)\" d=\"M229.77 68.7395 Q227.212 68.7395 225.708 70.4886 Q224.222 72.2377 224.222 75.2846 Q224.222 78.3126 225.708 80.0805 Q227.212 81.8297 229.77 81.8297 Q232.328 81.8297 233.814 80.0805 Q235.318 78.3126 235.318 75.2846 Q235.318 72.2377 233.814 70.4886 Q232.328 68.7395 229.77 68.7395 M237.312 56.8341 L237.312 60.2948 Q235.883 59.6177 234.416 59.2603 Q232.967 58.903 231.538 58.903 Q227.776 58.903 225.783 61.442 Q223.808 63.9811 223.526 69.1156 Q224.636 67.4793 226.309 66.6142 Q227.983 65.7302 229.996 65.7302 Q234.228 65.7302 236.673 68.3069 Q239.136 70.8647 239.136 75.2846 Q239.136 79.6103 236.579 82.2246 Q234.021 84.8389 229.77 84.8389 Q224.899 84.8389 222.322 81.115 Q219.746 77.3722 219.746 70.2817 Q219.746 63.6237 222.905 59.6741 Q226.065 55.7057 231.388 55.7057 Q232.817 55.7057 234.265 55.9878 Q235.732 56.2699 237.312 56.8341 Z\" fill=\"#f8f8f2\" fill-rule=\"nonzero\" fill-opacity=\"1\" /><circle clip-path=\"url(#clip072)\" cx=\"1858.4\" cy=\"1083.18\" r=\"14.4\" fill=\"#8be9fd\" fill-rule=\"evenodd\" fill-opacity=\"1\" stroke=\"#f8f8f2\" stroke-opacity=\"1\" stroke-width=\"3.2\"/>\n",
       "<circle clip-path=\"url(#clip072)\" cx=\"333.937\" cy=\"1445.72\" r=\"14.4\" fill=\"#8be9fd\" fill-rule=\"evenodd\" fill-opacity=\"1\" stroke=\"#f8f8f2\" stroke-opacity=\"1\" stroke-width=\"3.2\"/>\n",
       "<circle clip-path=\"url(#clip072)\" cx=\"2293.96\" cy=\"87.9763\" r=\"14.4\" fill=\"#8be9fd\" fill-rule=\"evenodd\" fill-opacity=\"1\" stroke=\"#f8f8f2\" stroke-opacity=\"1\" stroke-width=\"3.2\"/>\n",
       "<circle clip-path=\"url(#clip072)\" cx=\"1422.84\" cy=\"1296.44\" r=\"14.4\" fill=\"#8be9fd\" fill-rule=\"evenodd\" fill-opacity=\"1\" stroke=\"#f8f8f2\" stroke-opacity=\"1\" stroke-width=\"3.2\"/>\n",
       "<circle clip-path=\"url(#clip072)\" cx=\"2076.18\" cy=\"798.835\" r=\"14.4\" fill=\"#8be9fd\" fill-rule=\"evenodd\" fill-opacity=\"1\" stroke=\"#f8f8f2\" stroke-opacity=\"1\" stroke-width=\"3.2\"/>\n",
       "<circle clip-path=\"url(#clip072)\" cx=\"987.276\" cy=\"1395.96\" r=\"14.4\" fill=\"#8be9fd\" fill-rule=\"evenodd\" fill-opacity=\"1\" stroke=\"#f8f8f2\" stroke-opacity=\"1\" stroke-width=\"3.2\"/>\n",
       "<circle clip-path=\"url(#clip072)\" cx=\"1205.06\" cy=\"1353.3\" r=\"14.4\" fill=\"#8be9fd\" fill-rule=\"evenodd\" fill-opacity=\"1\" stroke=\"#f8f8f2\" stroke-opacity=\"1\" stroke-width=\"3.2\"/>\n",
       "<circle clip-path=\"url(#clip072)\" cx=\"1640.62\" cy=\"1225.35\" r=\"14.4\" fill=\"#8be9fd\" fill-rule=\"evenodd\" fill-opacity=\"1\" stroke=\"#f8f8f2\" stroke-opacity=\"1\" stroke-width=\"3.2\"/>\n",
       "<circle clip-path=\"url(#clip072)\" cx=\"1858.4\" cy=\"1101.85\" r=\"14.4\" fill=\"#ff79c6\" fill-rule=\"evenodd\" fill-opacity=\"1\" stroke=\"#f8f8f2\" stroke-opacity=\"1\" stroke-width=\"3.2\"/>\n",
       "<circle clip-path=\"url(#clip072)\" cx=\"333.937\" cy=\"1444.97\" r=\"14.4\" fill=\"#ff79c6\" fill-rule=\"evenodd\" fill-opacity=\"1\" stroke=\"#f8f8f2\" stroke-opacity=\"1\" stroke-width=\"3.2\"/>\n",
       "<circle clip-path=\"url(#clip072)\" cx=\"2293.96\" cy=\"95.7228\" r=\"14.4\" fill=\"#ff79c6\" fill-rule=\"evenodd\" fill-opacity=\"1\" stroke=\"#f8f8f2\" stroke-opacity=\"1\" stroke-width=\"3.2\"/>\n",
       "<circle clip-path=\"url(#clip072)\" cx=\"1422.84\" cy=\"1289.57\" r=\"14.4\" fill=\"#ff79c6\" fill-rule=\"evenodd\" fill-opacity=\"1\" stroke=\"#f8f8f2\" stroke-opacity=\"1\" stroke-width=\"3.2\"/>\n",
       "<circle clip-path=\"url(#clip072)\" cx=\"2076.18\" cy=\"774.123\" r=\"14.4\" fill=\"#ff79c6\" fill-rule=\"evenodd\" fill-opacity=\"1\" stroke=\"#f8f8f2\" stroke-opacity=\"1\" stroke-width=\"3.2\"/>\n",
       "<circle clip-path=\"url(#clip072)\" cx=\"987.276\" cy=\"1408.18\" r=\"14.4\" fill=\"#ff79c6\" fill-rule=\"evenodd\" fill-opacity=\"1\" stroke=\"#f8f8f2\" stroke-opacity=\"1\" stroke-width=\"3.2\"/>\n",
       "<circle clip-path=\"url(#clip072)\" cx=\"1205.06\" cy=\"1336.88\" r=\"14.4\" fill=\"#ff79c6\" fill-rule=\"evenodd\" fill-opacity=\"1\" stroke=\"#f8f8f2\" stroke-opacity=\"1\" stroke-width=\"3.2\"/>\n",
       "<circle clip-path=\"url(#clip072)\" cx=\"1640.62\" cy=\"1235.46\" r=\"14.4\" fill=\"#ff79c6\" fill-rule=\"evenodd\" fill-opacity=\"1\" stroke=\"#f8f8f2\" stroke-opacity=\"1\" stroke-width=\"3.2\"/>\n",
       "<path clip-path=\"url(#clip070)\" d=\"M344.39 250.738 L632.458 250.738 L632.458 95.2176 L344.39 95.2176  Z\" fill=\"#282a36\" fill-rule=\"evenodd\" fill-opacity=\"1\"/>\n",
       "<polyline clip-path=\"url(#clip070)\" style=\"stroke:#f8f8f2; stroke-linecap:round; stroke-linejoin:round; stroke-width:4; stroke-opacity:1; fill:none\" points=\"344.39,250.738 632.458,250.738 632.458,95.2176 344.39,95.2176 344.39,250.738 \"/>\n",
       "<circle clip-path=\"url(#clip070)\" cx=\"436.729\" cy=\"147.058\" r=\"20.48\" fill=\"#8be9fd\" fill-rule=\"evenodd\" fill-opacity=\"1\" stroke=\"#f8f8f2\" stroke-opacity=\"1\" stroke-width=\"4.55111\"/>\n",
       "<path clip-path=\"url(#clip070)\" d=\"M551.202 139.562 Q551.202 139.89 550.991 140.663 L546.4 158.979 Q545.393 163.055 542.114 165.912 Q538.858 168.77 535.157 168.77 Q532.932 168.77 531.504 167.575 Q530.075 166.404 530.075 164.601 Q530.075 163.008 530.918 162.235 Q531.761 161.486 532.768 161.486 Q533.096 161.486 533.448 161.579 Q533.799 161.673 534.174 162.071 Q534.549 162.469 534.549 163.149 Q534.549 164.249 533.588 165.116 Q533.12 165.514 532.675 165.608 Q532.253 165.702 531.527 165.702 Q531.808 166.357 532.323 166.802 Q532.839 167.248 533.424 167.411 Q534.01 167.599 534.385 167.646 Q534.783 167.716 535.157 167.716 Q538.156 167.716 540.451 164.694 Q541.13 163.781 541.622 162.868 Q542.137 161.977 542.512 160.877 Q542.887 159.799 543.051 159.214 Q543.238 158.628 543.566 157.293 Q541.388 159.471 538.718 159.471 Q537.593 159.471 536.586 159.167 Q535.603 158.862 534.736 158.23 Q533.869 157.574 533.354 156.426 Q532.862 155.279 532.862 153.756 Q532.862 152.14 533.494 149.938 Q534.127 147.737 535.649 143.685 Q536.469 141.413 536.469 140.312 Q536.469 139.773 536.352 139.445 Q536.235 139.094 536.001 138.977 Q535.766 138.836 535.626 138.813 Q535.509 138.789 535.275 138.789 Q533.893 138.789 532.604 140.195 Q531.316 141.6 530.426 144.739 Q530.239 145.324 530.122 145.465 Q530.005 145.605 529.653 145.605 Q529.068 145.582 529.068 145.113 Q529.068 144.926 529.278 144.2 Q529.489 143.45 529.981 142.349 Q530.496 141.225 531.199 140.218 Q531.902 139.187 533.003 138.461 Q534.127 137.735 535.415 137.735 Q537.172 137.735 538.249 138.883 Q539.35 140.007 539.35 141.67 Q539.35 142.349 539.163 142.958 Q538.999 143.544 538.39 145.113 Q535.93 151.437 535.93 154.529 Q535.93 155.279 536.048 155.911 Q536.188 156.52 536.493 157.129 Q536.797 157.715 537.406 158.066 Q538.038 158.394 538.905 158.394 Q540.006 158.394 541.037 157.879 Q542.091 157.34 542.746 156.614 Q543.426 155.888 543.824 155.279 Q544.245 154.646 544.339 154.318 L546.494 145.699 L547.454 141.858 Q547.899 139.773 548.11 139.258 Q548.391 138.766 548.883 138.508 Q549.375 138.251 549.797 138.251 Q550.382 138.251 550.78 138.602 Q551.202 138.953 551.202 139.562 Z\" fill=\"#f8f8f2\" fill-rule=\"nonzero\" fill-opacity=\"1\" /><path clip-path=\"url(#clip070)\" d=\"M557.707 146.94 Q557.707 138.836 560.728 132.301 Q562.016 129.561 563.82 127.265 Q565.623 124.97 566.818 123.963 Q568.012 122.956 568.34 122.956 Q568.809 122.956 568.832 123.424 Q568.832 123.658 568.2 124.244 Q560.47 132.114 560.494 146.94 Q560.494 161.814 568.012 169.379 Q568.832 170.199 568.832 170.456 Q568.832 170.925 568.34 170.925 Q568.012 170.925 566.865 169.965 Q565.717 169.004 563.937 166.802 Q562.157 164.601 560.869 161.907 Q557.707 155.372 557.707 146.94 Z\" fill=\"#f8f8f2\" fill-rule=\"nonzero\" fill-opacity=\"1\" /><path clip-path=\"url(#clip070)\" d=\"M587.207 138.789 Q587.207 139.445 586.902 139.609 Q586.598 139.75 585.755 139.75 L581.258 139.75 L577.697 153.897 Q577.416 155.138 577.416 156.192 Q577.416 157.363 577.768 157.879 Q578.142 158.394 578.915 158.394 Q580.438 158.394 582.077 157.012 Q583.74 155.63 585.146 152.257 Q585.333 151.812 585.427 151.718 Q585.544 151.601 585.848 151.601 Q586.434 151.601 586.434 152.07 Q586.434 152.234 586.106 152.983 Q585.801 153.733 585.122 154.834 Q584.466 155.934 583.6 156.965 Q582.757 157.996 581.468 158.745 Q580.18 159.471 578.798 159.471 Q576.854 159.471 575.613 158.23 Q574.395 156.988 574.395 155.044 Q574.395 154.412 574.887 152.398 Q575.378 150.36 578.049 139.75 L573.809 139.75 Q573.224 139.75 572.989 139.726 Q572.779 139.703 572.615 139.586 Q572.474 139.445 572.474 139.164 Q572.474 138.719 572.661 138.532 Q572.849 138.321 573.083 138.297 Q573.341 138.251 573.926 138.251 L578.423 138.251 L580.297 130.638 Q580.485 129.889 580.953 129.467 Q581.445 129.022 581.726 128.975 Q582.007 128.905 582.218 128.905 Q582.85 128.905 583.225 129.256 Q583.6 129.584 583.6 130.193 Q583.6 130.521 581.632 138.251 L585.848 138.251 Q586.387 138.251 586.598 138.274 Q586.832 138.297 587.019 138.414 Q587.207 138.532 587.207 138.789 Z\" fill=\"#f8f8f2\" fill-rule=\"nonzero\" fill-opacity=\"1\" /><path clip-path=\"url(#clip070)\" d=\"M590.958 170.456 Q590.958 170.222 591.567 169.637 Q599.296 161.767 599.296 146.94 Q599.296 132.067 591.871 124.548 Q590.958 123.682 590.958 123.424 Q590.958 122.956 591.426 122.956 Q591.754 122.956 592.902 123.916 Q594.073 124.876 595.83 127.078 Q597.61 129.28 598.922 131.973 Q602.084 138.508 602.084 146.94 Q602.084 155.044 599.062 161.579 Q597.774 164.32 595.97 166.615 Q594.167 168.911 592.972 169.918 Q591.778 170.925 591.426 170.925 Q590.958 170.925 590.958 170.456 Z\" fill=\"#f8f8f2\" fill-rule=\"nonzero\" fill-opacity=\"1\" /><circle clip-path=\"url(#clip070)\" cx=\"436.729\" cy=\"198.898\" r=\"20.48\" fill=\"#ff79c6\" fill-rule=\"evenodd\" fill-opacity=\"1\" stroke=\"#f8f8f2\" stroke-opacity=\"1\" stroke-width=\"4.55111\"/>\n",
       "<path clip-path=\"url(#clip070)\" d=\"M550.653 183.801 L550.243 184.473 Q547.702 183.375 544.538 181.62 Q541.373 183.375 538.832 184.473 L538.438 183.801 Q541.209 181.391 544.538 179.538 Q547.899 181.407 550.653 183.801 Z\" fill=\"#f8f8f2\" fill-rule=\"nonzero\" fill-opacity=\"1\" /><path clip-path=\"url(#clip070)\" d=\"M552.202 191.402 Q552.202 191.73 551.991 192.503 L547.4 210.819 Q546.393 214.895 543.114 217.752 Q539.858 220.61 536.157 220.61 Q533.932 220.61 532.504 219.415 Q531.075 218.244 531.075 216.441 Q531.075 214.848 531.918 214.075 Q532.761 213.326 533.768 213.326 Q534.096 213.326 534.448 213.419 Q534.799 213.513 535.174 213.911 Q535.549 214.309 535.549 214.989 Q535.549 216.089 534.588 216.956 Q534.12 217.354 533.675 217.448 Q533.253 217.542 532.527 217.542 Q532.808 218.197 533.323 218.642 Q533.839 219.088 534.424 219.251 Q535.01 219.439 535.385 219.486 Q535.783 219.556 536.157 219.556 Q539.156 219.556 541.451 216.534 Q542.13 215.621 542.622 214.708 Q543.137 213.817 543.512 212.717 Q543.887 211.639 544.051 211.054 Q544.238 210.468 544.566 209.133 Q542.388 211.311 539.718 211.311 Q538.593 211.311 537.586 211.007 Q536.603 210.702 535.736 210.07 Q534.869 209.414 534.354 208.266 Q533.862 207.119 533.862 205.596 Q533.862 203.98 534.494 201.778 Q535.127 199.577 536.649 195.525 Q537.469 193.253 537.469 192.152 Q537.469 191.613 537.352 191.285 Q537.235 190.934 537.001 190.817 Q536.766 190.676 536.626 190.653 Q536.509 190.629 536.275 190.629 Q534.893 190.629 533.604 192.035 Q532.316 193.44 531.426 196.579 Q531.239 197.164 531.122 197.305 Q531.005 197.445 530.653 197.445 Q530.068 197.422 530.068 196.953 Q530.068 196.766 530.278 196.04 Q530.489 195.29 530.981 194.189 Q531.496 193.065 532.199 192.058 Q532.902 191.027 534.003 190.301 Q535.127 189.575 536.415 189.575 Q538.172 189.575 539.249 190.723 Q540.35 191.847 540.35 193.51 Q540.35 194.189 540.163 194.798 Q539.999 195.384 539.39 196.953 Q536.93 203.277 536.93 206.369 Q536.93 207.119 537.048 207.751 Q537.188 208.36 537.493 208.969 Q537.797 209.555 538.406 209.906 Q539.038 210.234 539.905 210.234 Q541.006 210.234 542.037 209.719 Q543.091 209.18 543.746 208.454 Q544.426 207.728 544.824 207.119 Q545.245 206.486 545.339 206.158 L547.494 197.539 L548.454 193.698 Q548.899 191.613 549.11 191.098 Q549.391 190.606 549.883 190.348 Q550.375 190.091 550.797 190.091 Q551.382 190.091 551.78 190.442 Q552.202 190.793 552.202 191.402 Z\" fill=\"#f8f8f2\" fill-rule=\"nonzero\" fill-opacity=\"1\" /><path clip-path=\"url(#clip070)\" d=\"M553.259 198.78 Q553.259 190.676 556.28 184.141 Q557.568 181.401 559.372 179.105 Q561.175 176.81 562.37 175.803 Q563.565 174.796 563.892 174.796 Q564.361 174.796 564.384 175.264 Q564.384 175.498 563.752 176.084 Q556.023 183.954 556.046 198.78 Q556.046 213.654 563.565 221.219 Q564.384 222.039 564.384 222.296 Q564.384 222.765 563.892 222.765 Q563.565 222.765 562.417 221.805 Q561.269 220.844 559.489 218.642 Q557.709 216.441 556.421 213.747 Q553.259 207.212 553.259 198.78 Z\" fill=\"#f8f8f2\" fill-rule=\"nonzero\" fill-opacity=\"1\" /><path clip-path=\"url(#clip070)\" d=\"M582.759 190.629 Q582.759 191.285 582.454 191.449 Q582.15 191.59 581.307 191.59 L576.81 191.59 L573.249 205.737 Q572.968 206.978 572.968 208.032 Q572.968 209.203 573.32 209.719 Q573.694 210.234 574.467 210.234 Q575.99 210.234 577.629 208.852 Q579.292 207.47 580.698 204.097 Q580.885 203.652 580.979 203.558 Q581.096 203.441 581.4 203.441 Q581.986 203.441 581.986 203.91 Q581.986 204.074 581.658 204.823 Q581.354 205.573 580.674 206.674 Q580.018 207.774 579.152 208.805 Q578.309 209.836 577.02 210.585 Q575.732 211.311 574.35 211.311 Q572.406 211.311 571.165 210.07 Q569.947 208.828 569.947 206.884 Q569.947 206.252 570.439 204.238 Q570.931 202.2 573.601 191.59 L569.361 191.59 Q568.776 191.59 568.541 191.566 Q568.331 191.543 568.167 191.426 Q568.026 191.285 568.026 191.004 Q568.026 190.559 568.214 190.372 Q568.401 190.161 568.635 190.137 Q568.893 190.091 569.478 190.091 L573.975 190.091 L575.849 182.478 Q576.037 181.729 576.505 181.307 Q576.997 180.862 577.278 180.815 Q577.559 180.745 577.77 180.745 Q578.402 180.745 578.777 181.096 Q579.152 181.424 579.152 182.033 Q579.152 182.361 577.184 190.091 L581.4 190.091 Q581.939 190.091 582.15 190.114 Q582.384 190.137 582.572 190.254 Q582.759 190.372 582.759 190.629 Z\" fill=\"#f8f8f2\" fill-rule=\"nonzero\" fill-opacity=\"1\" /><path clip-path=\"url(#clip070)\" d=\"M586.51 222.296 Q586.51 222.062 587.119 221.477 Q594.848 213.607 594.848 198.78 Q594.848 183.907 587.424 176.388 Q586.51 175.522 586.51 175.264 Q586.51 174.796 586.979 174.796 Q587.306 174.796 588.454 175.756 Q589.625 176.716 591.382 178.918 Q593.162 181.12 594.474 183.813 Q597.636 190.348 597.636 198.78 Q597.636 206.884 594.614 213.419 Q593.326 216.16 591.522 218.455 Q589.719 220.751 588.524 221.758 Q587.33 222.765 586.979 222.765 Q586.51 222.765 586.51 222.296 Z\" fill=\"#f8f8f2\" fill-rule=\"nonzero\" fill-opacity=\"1\" /></svg>\n"
      ],
      "text/html": [
       "<?xml version=\"1.0\" encoding=\"utf-8\"?>\n",
       "<svg xmlns=\"http://www.w3.org/2000/svg\" xmlns:xlink=\"http://www.w3.org/1999/xlink\" width=\"600\" height=\"400\" viewBox=\"0 0 2400 1600\">\n",
       "<defs>\n",
       "  <clipPath id=\"clip120\">\n",
       "    <rect x=\"0\" y=\"0\" width=\"2400\" height=\"1600\"/>\n",
       "  </clipPath>\n",
       "</defs>\n",
       "<path clip-path=\"url(#clip120)\" d=\"M0 1600 L2400 1600 L2400 0 L0 0  Z\" fill=\"#282a36\" fill-rule=\"evenodd\" fill-opacity=\"1\"/>\n",
       "<defs>\n",
       "  <clipPath id=\"clip121\">\n",
       "    <rect x=\"480\" y=\"0\" width=\"1681\" height=\"1600\"/>\n",
       "  </clipPath>\n",
       "</defs>\n",
       "<path clip-path=\"url(#clip120)\" d=\"M275.136 1486.45 L2352.76 1486.45 L2352.76 47.2441 L275.136 47.2441  Z\" fill=\"#30343b\" fill-rule=\"evenodd\" fill-opacity=\"1\"/>\n",
       "<defs>\n",
       "  <clipPath id=\"clip122\">\n",
       "    <rect x=\"275\" y=\"47\" width=\"2079\" height=\"1440\"/>\n",
       "  </clipPath>\n",
       "</defs>\n",
       "<polyline clip-path=\"url(#clip122)\" style=\"stroke:#f8f8f2; stroke-linecap:round; stroke-linejoin:round; stroke-width:2; stroke-opacity:0.1; fill:none\" points=\"551.717,1486.45 551.717,47.2441 \"/>\n",
       "<polyline clip-path=\"url(#clip122)\" style=\"stroke:#f8f8f2; stroke-linecap:round; stroke-linejoin:round; stroke-width:2; stroke-opacity:0.1; fill:none\" points=\"987.276,1486.45 987.276,47.2441 \"/>\n",
       "<polyline clip-path=\"url(#clip122)\" style=\"stroke:#f8f8f2; stroke-linecap:round; stroke-linejoin:round; stroke-width:2; stroke-opacity:0.1; fill:none\" points=\"1422.84,1486.45 1422.84,47.2441 \"/>\n",
       "<polyline clip-path=\"url(#clip122)\" style=\"stroke:#f8f8f2; stroke-linecap:round; stroke-linejoin:round; stroke-width:2; stroke-opacity:0.1; fill:none\" points=\"1858.4,1486.45 1858.4,47.2441 \"/>\n",
       "<polyline clip-path=\"url(#clip122)\" style=\"stroke:#f8f8f2; stroke-linecap:round; stroke-linejoin:round; stroke-width:2; stroke-opacity:0.1; fill:none\" points=\"2293.96,1486.45 2293.96,47.2441 \"/>\n",
       "<polyline clip-path=\"url(#clip122)\" style=\"stroke:#f8f8f2; stroke-linecap:round; stroke-linejoin:round; stroke-width:2; stroke-opacity:0.1; fill:none\" points=\"275.136,1225.35 2352.76,1225.35 \"/>\n",
       "<polyline clip-path=\"url(#clip122)\" style=\"stroke:#f8f8f2; stroke-linecap:round; stroke-linejoin:round; stroke-width:2; stroke-opacity:0.1; fill:none\" points=\"275.136,941.006 2352.76,941.006 \"/>\n",
       "<polyline clip-path=\"url(#clip122)\" style=\"stroke:#f8f8f2; stroke-linecap:round; stroke-linejoin:round; stroke-width:2; stroke-opacity:0.1; fill:none\" points=\"275.136,656.663 2352.76,656.663 \"/>\n",
       "<polyline clip-path=\"url(#clip122)\" style=\"stroke:#f8f8f2; stroke-linecap:round; stroke-linejoin:round; stroke-width:2; stroke-opacity:0.1; fill:none\" points=\"275.136,372.32 2352.76,372.32 \"/>\n",
       "<polyline clip-path=\"url(#clip122)\" style=\"stroke:#f8f8f2; stroke-linecap:round; stroke-linejoin:round; stroke-width:2; stroke-opacity:0.1; fill:none\" points=\"275.136,87.9763 2352.76,87.9763 \"/>\n",
       "<polyline clip-path=\"url(#clip120)\" style=\"stroke:#f8f8f2; stroke-linecap:round; stroke-linejoin:round; stroke-width:4; stroke-opacity:1; fill:none\" points=\"275.136,1486.45 2352.76,1486.45 \"/>\n",
       "<polyline clip-path=\"url(#clip120)\" style=\"stroke:#f8f8f2; stroke-linecap:round; stroke-linejoin:round; stroke-width:4; stroke-opacity:1; fill:none\" points=\"551.717,1486.45 551.717,1467.55 \"/>\n",
       "<polyline clip-path=\"url(#clip120)\" style=\"stroke:#f8f8f2; stroke-linecap:round; stroke-linejoin:round; stroke-width:4; stroke-opacity:1; fill:none\" points=\"987.276,1486.45 987.276,1467.55 \"/>\n",
       "<polyline clip-path=\"url(#clip120)\" style=\"stroke:#f8f8f2; stroke-linecap:round; stroke-linejoin:round; stroke-width:4; stroke-opacity:1; fill:none\" points=\"1422.84,1486.45 1422.84,1467.55 \"/>\n",
       "<polyline clip-path=\"url(#clip120)\" style=\"stroke:#f8f8f2; stroke-linecap:round; stroke-linejoin:round; stroke-width:4; stroke-opacity:1; fill:none\" points=\"1858.4,1486.45 1858.4,1467.55 \"/>\n",
       "<polyline clip-path=\"url(#clip120)\" style=\"stroke:#f8f8f2; stroke-linecap:round; stroke-linejoin:round; stroke-width:4; stroke-opacity:1; fill:none\" points=\"2293.96,1486.45 2293.96,1467.55 \"/>\n",
       "<path clip-path=\"url(#clip120)\" d=\"M546.37 1544.91 L562.689 1544.91 L562.689 1548.85 L540.745 1548.85 L540.745 1544.91 Q543.407 1542.16 547.99 1537.53 Q552.596 1532.88 553.777 1531.53 Q556.022 1529.01 556.902 1527.27 Q557.805 1525.51 557.805 1523.82 Q557.805 1521.07 555.86 1519.33 Q553.939 1517.6 550.837 1517.6 Q548.638 1517.6 546.184 1518.36 Q543.754 1519.13 540.976 1520.68 L540.976 1515.95 Q543.8 1514.82 546.254 1514.24 Q548.708 1513.66 550.745 1513.66 Q556.115 1513.66 559.309 1516.35 Q562.504 1519.03 562.504 1523.52 Q562.504 1525.65 561.694 1527.57 Q560.907 1529.47 558.8 1532.07 Q558.221 1532.74 555.12 1535.95 Q552.018 1539.15 546.37 1544.91 Z\" fill=\"#f8f8f2\" fill-rule=\"nonzero\" fill-opacity=\"1\" /><path clip-path=\"url(#clip120)\" d=\"M990.286 1518.36 L978.48 1536.81 L990.286 1536.81 L990.286 1518.36 M989.059 1514.29 L994.938 1514.29 L994.938 1536.81 L999.869 1536.81 L999.869 1540.7 L994.938 1540.7 L994.938 1548.85 L990.286 1548.85 L990.286 1540.7 L974.684 1540.7 L974.684 1536.19 L989.059 1514.29 Z\" fill=\"#f8f8f2\" fill-rule=\"nonzero\" fill-opacity=\"1\" /><path clip-path=\"url(#clip120)\" d=\"M1423.24 1529.7 Q1420.09 1529.7 1418.24 1531.86 Q1416.41 1534.01 1416.41 1537.76 Q1416.41 1541.49 1418.24 1543.66 Q1420.09 1545.82 1423.24 1545.82 Q1426.39 1545.82 1428.22 1543.66 Q1430.07 1541.49 1430.07 1537.76 Q1430.07 1534.01 1428.22 1531.86 Q1426.39 1529.7 1423.24 1529.7 M1432.52 1515.05 L1432.52 1519.31 Q1430.76 1518.48 1428.96 1518.04 Q1427.18 1517.6 1425.42 1517.6 Q1420.79 1517.6 1418.33 1520.72 Q1415.9 1523.85 1415.56 1530.17 Q1416.92 1528.15 1418.98 1527.09 Q1421.04 1526 1423.52 1526 Q1428.73 1526 1431.74 1529.17 Q1434.77 1532.32 1434.77 1537.76 Q1434.77 1543.08 1431.62 1546.3 Q1428.47 1549.52 1423.24 1549.52 Q1417.25 1549.52 1414.07 1544.94 Q1410.9 1540.33 1410.9 1531.6 Q1410.9 1523.41 1414.79 1518.55 Q1418.68 1513.66 1425.23 1513.66 Q1426.99 1513.66 1428.77 1514.01 Q1430.58 1514.36 1432.52 1515.05 Z\" fill=\"#f8f8f2\" fill-rule=\"nonzero\" fill-opacity=\"1\" /><path clip-path=\"url(#clip120)\" d=\"M1858.4 1532.44 Q1855.06 1532.44 1853.14 1534.22 Q1851.24 1536 1851.24 1539.13 Q1851.24 1542.25 1853.14 1544.03 Q1855.06 1545.82 1858.4 1545.82 Q1861.73 1545.82 1863.65 1544.03 Q1865.57 1542.23 1865.57 1539.13 Q1865.57 1536 1863.65 1534.22 Q1861.75 1532.44 1858.4 1532.44 M1853.72 1530.45 Q1850.71 1529.7 1849.02 1527.64 Q1847.35 1525.58 1847.35 1522.62 Q1847.35 1518.48 1850.29 1516.07 Q1853.26 1513.66 1858.4 1513.66 Q1863.56 1513.66 1866.5 1516.07 Q1869.44 1518.48 1869.44 1522.62 Q1869.44 1525.58 1867.75 1527.64 Q1866.08 1529.7 1863.09 1530.45 Q1866.47 1531.23 1868.35 1533.52 Q1870.25 1535.82 1870.25 1539.13 Q1870.25 1544.15 1867.17 1546.83 Q1864.11 1549.52 1858.4 1549.52 Q1852.68 1549.52 1849.6 1546.83 Q1846.54 1544.15 1846.54 1539.13 Q1846.54 1535.82 1848.44 1533.52 Q1850.34 1531.23 1853.72 1530.45 M1852.01 1523.06 Q1852.01 1525.75 1853.67 1527.25 Q1855.36 1528.76 1858.4 1528.76 Q1861.4 1528.76 1863.09 1527.25 Q1864.81 1525.75 1864.81 1523.06 Q1864.81 1520.38 1863.09 1518.87 Q1861.4 1517.37 1858.4 1517.37 Q1855.36 1517.37 1853.67 1518.87 Q1852.01 1520.38 1852.01 1523.06 Z\" fill=\"#f8f8f2\" fill-rule=\"nonzero\" fill-opacity=\"1\" /><path clip-path=\"url(#clip120)\" d=\"M2268.64 1544.91 L2276.28 1544.91 L2276.28 1518.55 L2267.97 1520.21 L2267.97 1515.95 L2276.24 1514.29 L2280.91 1514.29 L2280.91 1544.91 L2288.55 1544.91 L2288.55 1548.85 L2268.64 1548.85 L2268.64 1544.91 Z\" fill=\"#f8f8f2\" fill-rule=\"nonzero\" fill-opacity=\"1\" /><path clip-path=\"url(#clip120)\" d=\"M2307.99 1517.37 Q2304.38 1517.37 2302.55 1520.93 Q2300.75 1524.47 2300.75 1531.6 Q2300.75 1538.71 2302.55 1542.27 Q2304.38 1545.82 2307.99 1545.82 Q2311.63 1545.82 2313.43 1542.27 Q2315.26 1538.71 2315.26 1531.6 Q2315.26 1524.47 2313.43 1520.93 Q2311.63 1517.37 2307.99 1517.37 M2307.99 1513.66 Q2313.8 1513.66 2316.86 1518.27 Q2319.94 1522.85 2319.94 1531.6 Q2319.94 1540.33 2316.86 1544.94 Q2313.8 1549.52 2307.99 1549.52 Q2302.18 1549.52 2299.11 1544.94 Q2296.05 1540.33 2296.05 1531.6 Q2296.05 1522.85 2299.11 1518.27 Q2302.18 1513.66 2307.99 1513.66 Z\" fill=\"#f8f8f2\" fill-rule=\"nonzero\" fill-opacity=\"1\" /><polyline clip-path=\"url(#clip120)\" style=\"stroke:#f8f8f2; stroke-linecap:round; stroke-linejoin:round; stroke-width:4; stroke-opacity:1; fill:none\" points=\"275.136,1486.45 275.136,47.2441 \"/>\n",
       "<polyline clip-path=\"url(#clip120)\" style=\"stroke:#f8f8f2; stroke-linecap:round; stroke-linejoin:round; stroke-width:4; stroke-opacity:1; fill:none\" points=\"275.136,1225.35 294.034,1225.35 \"/>\n",
       "<polyline clip-path=\"url(#clip120)\" style=\"stroke:#f8f8f2; stroke-linecap:round; stroke-linejoin:round; stroke-width:4; stroke-opacity:1; fill:none\" points=\"275.136,941.006 294.034,941.006 \"/>\n",
       "<polyline clip-path=\"url(#clip120)\" style=\"stroke:#f8f8f2; stroke-linecap:round; stroke-linejoin:round; stroke-width:4; stroke-opacity:1; fill:none\" points=\"275.136,656.663 294.034,656.663 \"/>\n",
       "<polyline clip-path=\"url(#clip120)\" style=\"stroke:#f8f8f2; stroke-linecap:round; stroke-linejoin:round; stroke-width:4; stroke-opacity:1; fill:none\" points=\"275.136,372.32 294.034,372.32 \"/>\n",
       "<polyline clip-path=\"url(#clip120)\" style=\"stroke:#f8f8f2; stroke-linecap:round; stroke-linejoin:round; stroke-width:4; stroke-opacity:1; fill:none\" points=\"275.136,87.9763 294.034,87.9763 \"/>\n",
       "<path clip-path=\"url(#clip120)\" d=\"M57.7745 1245.14 L74.0939 1245.14 L74.0939 1249.08 L52.1495 1249.08 L52.1495 1245.14 Q54.8115 1242.39 59.3949 1237.76 Q64.0013 1233.11 65.1819 1231.76 Q67.4272 1229.24 68.3068 1227.5 Q69.2096 1225.74 69.2096 1224.05 Q69.2096 1221.3 67.2652 1219.56 Q65.3439 1217.83 62.2421 1217.83 Q60.043 1217.83 57.5893 1218.59 Q55.1588 1219.36 52.381 1220.91 L52.381 1216.18 Q55.2051 1215.05 57.6588 1214.47 Q60.1124 1213.89 62.1495 1213.89 Q67.5198 1213.89 70.7142 1216.58 Q73.9087 1219.26 73.9087 1223.75 Q73.9087 1225.88 73.0985 1227.8 Q72.3115 1229.7 70.205 1232.29 Q69.6263 1232.97 66.5245 1236.18 Q63.4226 1239.38 57.7745 1245.14 Z\" fill=\"#f8f8f2\" fill-rule=\"nonzero\" fill-opacity=\"1\" /><path clip-path=\"url(#clip120)\" d=\"M83.9086 1243.2 L88.7928 1243.2 L88.7928 1249.08 L83.9086 1249.08 L83.9086 1243.2 Z\" fill=\"#f8f8f2\" fill-rule=\"nonzero\" fill-opacity=\"1\" /><path clip-path=\"url(#clip120)\" d=\"M108.978 1217.6 Q105.367 1217.6 103.538 1221.16 Q101.733 1224.7 101.733 1231.83 Q101.733 1238.94 103.538 1242.5 Q105.367 1246.04 108.978 1246.04 Q112.612 1246.04 114.418 1242.5 Q116.246 1238.94 116.246 1231.83 Q116.246 1224.7 114.418 1221.16 Q112.612 1217.6 108.978 1217.6 M108.978 1213.89 Q114.788 1213.89 117.844 1218.5 Q120.922 1223.08 120.922 1231.83 Q120.922 1240.56 117.844 1245.17 Q114.788 1249.75 108.978 1249.75 Q103.168 1249.75 100.089 1245.17 Q97.0335 1240.56 97.0335 1231.83 Q97.0335 1223.08 100.089 1218.5 Q103.168 1213.89 108.978 1213.89 Z\" fill=\"#f8f8f2\" fill-rule=\"nonzero\" fill-opacity=\"1\" /><path clip-path=\"url(#clip120)\" d=\"M157.311 1223.61 L146.732 1234.24 L157.311 1244.82 L154.556 1247.62 L143.931 1236.99 L133.306 1247.62 L130.575 1244.82 L141.131 1234.24 L130.575 1223.61 L133.306 1220.81 L143.931 1231.44 L154.556 1220.81 L157.311 1223.61 Z\" fill=\"#f8f8f2\" fill-rule=\"nonzero\" fill-opacity=\"1\" /><path clip-path=\"url(#clip120)\" d=\"M169.672 1245.14 L177.311 1245.14 L177.311 1218.78 L169.001 1220.44 L169.001 1216.18 L177.265 1214.52 L181.94 1214.52 L181.94 1245.14 L189.579 1245.14 L189.579 1249.08 L169.672 1249.08 L169.672 1245.14 Z\" fill=\"#f8f8f2\" fill-rule=\"nonzero\" fill-opacity=\"1\" /><path clip-path=\"url(#clip120)\" d=\"M209.024 1217.6 Q205.413 1217.6 203.584 1221.16 Q201.778 1224.7 201.778 1231.83 Q201.778 1238.94 203.584 1242.5 Q205.413 1246.04 209.024 1246.04 Q212.658 1246.04 214.463 1242.5 Q216.292 1238.94 216.292 1231.83 Q216.292 1224.7 214.463 1221.16 Q212.658 1217.6 209.024 1217.6 M209.024 1213.89 Q214.834 1213.89 217.889 1218.5 Q220.968 1223.08 220.968 1231.83 Q220.968 1240.56 217.889 1245.17 Q214.834 1249.75 209.024 1249.75 Q203.214 1249.75 200.135 1245.17 Q197.079 1240.56 197.079 1231.83 Q197.079 1223.08 200.135 1218.5 Q203.214 1213.89 209.024 1213.89 Z\" fill=\"#f8f8f2\" fill-rule=\"nonzero\" fill-opacity=\"1\" /><path clip-path=\"url(#clip120)\" d=\"M222.153 1193.59 L237.068 1193.59 L237.068 1196.78 L225.632 1196.78 L225.632 1203.67 Q226.46 1203.39 227.287 1203.25 Q228.115 1203.1 228.943 1203.1 Q233.645 1203.1 236.39 1205.68 Q239.136 1208.26 239.136 1212.66 Q239.136 1217.19 236.315 1219.71 Q233.494 1222.21 228.36 1222.21 Q226.592 1222.21 224.748 1221.91 Q222.924 1221.61 220.968 1221.01 L220.968 1217.19 Q222.661 1218.11 224.466 1218.56 Q226.272 1219.01 228.284 1219.01 Q231.538 1219.01 233.438 1217.3 Q235.337 1215.59 235.337 1212.66 Q235.337 1209.72 233.438 1208.01 Q231.538 1206.3 228.284 1206.3 Q226.761 1206.3 225.237 1206.64 Q223.733 1206.98 222.153 1207.69 L222.153 1193.59 Z\" fill=\"#f8f8f2\" fill-rule=\"nonzero\" fill-opacity=\"1\" /><path clip-path=\"url(#clip120)\" d=\"M66.5939 934.248 L54.7884 952.697 L66.5939 952.697 L66.5939 934.248 M65.367 930.174 L71.2466 930.174 L71.2466 952.697 L76.1772 952.697 L76.1772 956.586 L71.2466 956.586 L71.2466 964.734 L66.5939 964.734 L66.5939 956.586 L50.9921 956.586 L50.9921 952.072 L65.367 930.174 Z\" fill=\"#f8f8f2\" fill-rule=\"nonzero\" fill-opacity=\"1\" /><path clip-path=\"url(#clip120)\" d=\"M83.9086 958.854 L88.7928 958.854 L88.7928 964.734 L83.9086 964.734 L83.9086 958.854 Z\" fill=\"#f8f8f2\" fill-rule=\"nonzero\" fill-opacity=\"1\" /><path clip-path=\"url(#clip120)\" d=\"M108.978 933.253 Q105.367 933.253 103.538 936.817 Q101.733 940.359 101.733 947.489 Q101.733 954.595 103.538 958.16 Q105.367 961.701 108.978 961.701 Q112.612 961.701 114.418 958.16 Q116.246 954.595 116.246 947.489 Q116.246 940.359 114.418 936.817 Q112.612 933.253 108.978 933.253 M108.978 929.549 Q114.788 929.549 117.844 934.155 Q120.922 938.739 120.922 947.489 Q120.922 956.215 117.844 960.822 Q114.788 965.405 108.978 965.405 Q103.168 965.405 100.089 960.822 Q97.0335 956.215 97.0335 947.489 Q97.0335 938.739 100.089 934.155 Q103.168 929.549 108.978 929.549 Z\" fill=\"#f8f8f2\" fill-rule=\"nonzero\" fill-opacity=\"1\" /><path clip-path=\"url(#clip120)\" d=\"M157.311 939.271 L146.732 949.896 L157.311 960.475 L154.556 963.276 L143.931 952.651 L133.306 963.276 L130.575 960.475 L141.131 949.896 L130.575 939.271 L133.306 936.47 L143.931 947.095 L154.556 936.47 L157.311 939.271 Z\" fill=\"#f8f8f2\" fill-rule=\"nonzero\" fill-opacity=\"1\" /><path clip-path=\"url(#clip120)\" d=\"M169.672 960.799 L177.311 960.799 L177.311 934.433 L169.001 936.1 L169.001 931.841 L177.265 930.174 L181.94 930.174 L181.94 960.799 L189.579 960.799 L189.579 964.734 L169.672 964.734 L169.672 960.799 Z\" fill=\"#f8f8f2\" fill-rule=\"nonzero\" fill-opacity=\"1\" /><path clip-path=\"url(#clip120)\" d=\"M209.024 933.253 Q205.413 933.253 203.584 936.817 Q201.778 940.359 201.778 947.489 Q201.778 954.595 203.584 958.16 Q205.413 961.701 209.024 961.701 Q212.658 961.701 214.463 958.16 Q216.292 954.595 216.292 947.489 Q216.292 940.359 214.463 936.817 Q212.658 933.253 209.024 933.253 M209.024 929.549 Q214.834 929.549 217.889 934.155 Q220.968 938.739 220.968 947.489 Q220.968 956.215 217.889 960.822 Q214.834 965.405 209.024 965.405 Q203.214 965.405 200.135 960.822 Q197.079 956.215 197.079 947.489 Q197.079 938.739 200.135 934.155 Q203.214 929.549 209.024 929.549 Z\" fill=\"#f8f8f2\" fill-rule=\"nonzero\" fill-opacity=\"1\" /><path clip-path=\"url(#clip120)\" d=\"M222.153 909.243 L237.068 909.243 L237.068 912.441 L225.632 912.441 L225.632 919.324 Q226.46 919.042 227.287 918.911 Q228.115 918.76 228.943 918.76 Q233.645 918.76 236.39 921.337 Q239.136 923.914 239.136 928.315 Q239.136 932.847 236.315 935.367 Q233.494 937.869 228.36 937.869 Q226.592 937.869 224.748 937.568 Q222.924 937.267 220.968 936.665 L220.968 932.847 Q222.661 933.769 224.466 934.22 Q226.272 934.672 228.284 934.672 Q231.538 934.672 233.438 932.96 Q235.337 931.249 235.337 928.315 Q235.337 925.381 233.438 923.669 Q231.538 921.958 228.284 921.958 Q226.761 921.958 225.237 922.296 Q223.733 922.635 222.153 923.349 L222.153 909.243 Z\" fill=\"#f8f8f2\" fill-rule=\"nonzero\" fill-opacity=\"1\" /><path clip-path=\"url(#clip120)\" d=\"M64.3254 661.247 Q61.1773 661.247 59.3254 663.4 Q57.4967 665.553 57.4967 669.303 Q57.4967 673.029 59.3254 675.205 Q61.1773 677.358 64.3254 677.358 Q67.4735 677.358 69.3022 675.205 Q71.1541 673.029 71.1541 669.303 Q71.1541 665.553 69.3022 663.4 Q67.4735 661.247 64.3254 661.247 M73.6077 646.594 L73.6077 650.854 Q71.8485 650.02 70.0429 649.581 Q68.2606 649.141 66.5013 649.141 Q61.8717 649.141 59.418 652.266 Q56.9875 655.391 56.6402 661.71 Q58.006 659.696 60.0662 658.631 Q62.1263 657.543 64.6032 657.543 Q69.8115 657.543 72.8207 660.715 Q75.8531 663.863 75.8531 669.303 Q75.8531 674.627 72.705 677.844 Q69.5568 681.062 64.3254 681.062 Q58.33 681.062 55.1588 676.479 Q51.9875 671.872 51.9875 663.145 Q51.9875 654.951 55.8764 650.09 Q59.7652 645.206 66.3161 645.206 Q68.0754 645.206 69.8578 645.553 Q71.6633 645.9 73.6077 646.594 Z\" fill=\"#f8f8f2\" fill-rule=\"nonzero\" fill-opacity=\"1\" /><path clip-path=\"url(#clip120)\" d=\"M83.9086 674.511 L88.7928 674.511 L88.7928 680.391 L83.9086 680.391 L83.9086 674.511 Z\" fill=\"#f8f8f2\" fill-rule=\"nonzero\" fill-opacity=\"1\" /><path clip-path=\"url(#clip120)\" d=\"M108.978 648.909 Q105.367 648.909 103.538 652.474 Q101.733 656.016 101.733 663.145 Q101.733 670.252 103.538 673.817 Q105.367 677.358 108.978 677.358 Q112.612 677.358 114.418 673.817 Q116.246 670.252 116.246 663.145 Q116.246 656.016 114.418 652.474 Q112.612 648.909 108.978 648.909 M108.978 645.206 Q114.788 645.206 117.844 649.812 Q120.922 654.395 120.922 663.145 Q120.922 671.872 117.844 676.479 Q114.788 681.062 108.978 681.062 Q103.168 681.062 100.089 676.479 Q97.0335 671.872 97.0335 663.145 Q97.0335 654.395 100.089 649.812 Q103.168 645.206 108.978 645.206 Z\" fill=\"#f8f8f2\" fill-rule=\"nonzero\" fill-opacity=\"1\" /><path clip-path=\"url(#clip120)\" d=\"M157.311 654.928 L146.732 665.553 L157.311 676.131 L154.556 678.932 L143.931 668.307 L133.306 678.932 L130.575 676.131 L141.131 665.553 L130.575 654.928 L133.306 652.127 L143.931 662.752 L154.556 652.127 L157.311 654.928 Z\" fill=\"#f8f8f2\" fill-rule=\"nonzero\" fill-opacity=\"1\" /><path clip-path=\"url(#clip120)\" d=\"M169.672 676.455 L177.311 676.455 L177.311 650.09 L169.001 651.756 L169.001 647.497 L177.265 645.831 L181.94 645.831 L181.94 676.455 L189.579 676.455 L189.579 680.391 L169.672 680.391 L169.672 676.455 Z\" fill=\"#f8f8f2\" fill-rule=\"nonzero\" fill-opacity=\"1\" /><path clip-path=\"url(#clip120)\" d=\"M209.024 648.909 Q205.413 648.909 203.584 652.474 Q201.778 656.016 201.778 663.145 Q201.778 670.252 203.584 673.817 Q205.413 677.358 209.024 677.358 Q212.658 677.358 214.463 673.817 Q216.292 670.252 216.292 663.145 Q216.292 656.016 214.463 652.474 Q212.658 648.909 209.024 648.909 M209.024 645.206 Q214.834 645.206 217.889 649.812 Q220.968 654.395 220.968 663.145 Q220.968 671.872 217.889 676.479 Q214.834 681.062 209.024 681.062 Q203.214 681.062 200.135 676.479 Q197.079 671.872 197.079 663.145 Q197.079 654.395 200.135 649.812 Q203.214 645.206 209.024 645.206 Z\" fill=\"#f8f8f2\" fill-rule=\"nonzero\" fill-opacity=\"1\" /><path clip-path=\"url(#clip120)\" d=\"M222.153 624.9 L237.068 624.9 L237.068 628.097 L225.632 628.097 L225.632 634.981 Q226.46 634.699 227.287 634.567 Q228.115 634.417 228.943 634.417 Q233.645 634.417 236.39 636.994 Q239.136 639.57 239.136 643.971 Q239.136 648.504 236.315 651.024 Q233.494 653.526 228.36 653.526 Q226.592 653.526 224.748 653.225 Q222.924 652.924 220.968 652.322 L220.968 648.504 Q222.661 649.425 224.466 649.877 Q226.272 650.328 228.284 650.328 Q231.538 650.328 233.438 648.617 Q235.337 646.905 235.337 643.971 Q235.337 641.037 233.438 639.326 Q231.538 637.614 228.284 637.614 Q226.761 637.614 225.237 637.953 Q223.733 638.291 222.153 639.006 L222.153 624.9 Z\" fill=\"#f8f8f2\" fill-rule=\"nonzero\" fill-opacity=\"1\" /><path clip-path=\"url(#clip120)\" d=\"M63.7467 379.635 Q60.4134 379.635 58.4921 381.418 Q56.5939 383.2 56.5939 386.325 Q56.5939 389.45 58.4921 391.232 Q60.4134 393.015 63.7467 393.015 Q67.08 393.015 69.0013 391.232 Q70.9226 389.427 70.9226 386.325 Q70.9226 383.2 69.0013 381.418 Q67.1032 379.635 63.7467 379.635 M59.0708 377.645 Q56.0615 376.904 54.3717 374.844 Q52.7051 372.783 52.7051 369.82 Q52.7051 365.677 55.6449 363.27 Q58.6078 360.862 63.7467 360.862 Q68.9087 360.862 71.8485 363.27 Q74.7883 365.677 74.7883 369.82 Q74.7883 372.783 73.0985 374.844 Q71.4318 376.904 68.4457 377.645 Q71.8253 378.432 73.7003 380.723 Q75.5985 383.015 75.5985 386.325 Q75.5985 391.348 72.5198 394.033 Q69.4642 396.719 63.7467 396.719 Q58.0291 396.719 54.9504 394.033 Q51.8949 391.348 51.8949 386.325 Q51.8949 383.015 53.793 380.723 Q55.6912 378.432 59.0708 377.645 M57.3578 370.26 Q57.3578 372.945 59.0245 374.45 Q60.7143 375.955 63.7467 375.955 Q66.7559 375.955 68.4457 374.45 Q70.1587 372.945 70.1587 370.26 Q70.1587 367.575 68.4457 366.071 Q66.7559 364.566 63.7467 364.566 Q60.7143 364.566 59.0245 366.071 Q57.3578 367.575 57.3578 370.26 Z\" fill=\"#f8f8f2\" fill-rule=\"nonzero\" fill-opacity=\"1\" /><path clip-path=\"url(#clip120)\" d=\"M83.9086 390.168 L88.7928 390.168 L88.7928 396.047 L83.9086 396.047 L83.9086 390.168 Z\" fill=\"#f8f8f2\" fill-rule=\"nonzero\" fill-opacity=\"1\" /><path clip-path=\"url(#clip120)\" d=\"M108.978 364.566 Q105.367 364.566 103.538 368.131 Q101.733 371.672 101.733 378.802 Q101.733 385.908 103.538 389.473 Q105.367 393.015 108.978 393.015 Q112.612 393.015 114.418 389.473 Q116.246 385.908 116.246 378.802 Q116.246 371.672 114.418 368.131 Q112.612 364.566 108.978 364.566 M108.978 360.862 Q114.788 360.862 117.844 365.469 Q120.922 370.052 120.922 378.802 Q120.922 387.529 117.844 392.135 Q114.788 396.719 108.978 396.719 Q103.168 396.719 100.089 392.135 Q97.0335 387.529 97.0335 378.802 Q97.0335 370.052 100.089 365.469 Q103.168 360.862 108.978 360.862 Z\" fill=\"#f8f8f2\" fill-rule=\"nonzero\" fill-opacity=\"1\" /><path clip-path=\"url(#clip120)\" d=\"M157.311 370.584 L146.732 381.209 L157.311 391.788 L154.556 394.589 L143.931 383.964 L133.306 394.589 L130.575 391.788 L141.131 381.209 L130.575 370.584 L133.306 367.783 L143.931 378.408 L154.556 367.783 L157.311 370.584 Z\" fill=\"#f8f8f2\" fill-rule=\"nonzero\" fill-opacity=\"1\" /><path clip-path=\"url(#clip120)\" d=\"M169.672 392.112 L177.311 392.112 L177.311 365.746 L169.001 367.413 L169.001 363.154 L177.265 361.487 L181.94 361.487 L181.94 392.112 L189.579 392.112 L189.579 396.047 L169.672 396.047 L169.672 392.112 Z\" fill=\"#f8f8f2\" fill-rule=\"nonzero\" fill-opacity=\"1\" /><path clip-path=\"url(#clip120)\" d=\"M209.024 364.566 Q205.413 364.566 203.584 368.131 Q201.778 371.672 201.778 378.802 Q201.778 385.908 203.584 389.473 Q205.413 393.015 209.024 393.015 Q212.658 393.015 214.463 389.473 Q216.292 385.908 216.292 378.802 Q216.292 371.672 214.463 368.131 Q212.658 364.566 209.024 364.566 M209.024 360.862 Q214.834 360.862 217.889 365.469 Q220.968 370.052 220.968 378.802 Q220.968 387.529 217.889 392.135 Q214.834 396.719 209.024 396.719 Q203.214 396.719 200.135 392.135 Q197.079 387.529 197.079 378.802 Q197.079 370.052 200.135 365.469 Q203.214 360.862 209.024 360.862 Z\" fill=\"#f8f8f2\" fill-rule=\"nonzero\" fill-opacity=\"1\" /><path clip-path=\"url(#clip120)\" d=\"M222.153 340.557 L237.068 340.557 L237.068 343.754 L225.632 343.754 L225.632 350.638 Q226.46 350.356 227.287 350.224 Q228.115 350.074 228.943 350.074 Q233.645 350.074 236.39 352.65 Q239.136 355.227 239.136 359.628 Q239.136 364.161 236.315 366.681 Q233.494 369.182 228.36 369.182 Q226.592 369.182 224.748 368.881 Q222.924 368.58 220.968 367.979 L220.968 364.161 Q222.661 365.082 224.466 365.534 Q226.272 365.985 228.284 365.985 Q231.538 365.985 233.438 364.273 Q235.337 362.562 235.337 359.628 Q235.337 356.694 233.438 354.982 Q231.538 353.271 228.284 353.271 Q226.761 353.271 225.237 353.609 Q223.733 353.948 222.153 354.663 L222.153 340.557 Z\" fill=\"#f8f8f2\" fill-rule=\"nonzero\" fill-opacity=\"1\" /><path clip-path=\"url(#clip120)\" d=\"M53.3344 107.769 L60.9733 107.769 L60.9733 81.4031 L52.6631 83.0698 L52.6631 78.8105 L60.927 77.1439 L65.6029 77.1439 L65.6029 107.769 L73.2417 107.769 L73.2417 111.704 L53.3344 111.704 L53.3344 107.769 Z\" fill=\"#f8f8f2\" fill-rule=\"nonzero\" fill-opacity=\"1\" /><path clip-path=\"url(#clip120)\" d=\"M82.6861 105.824 L87.5703 105.824 L87.5703 111.704 L82.6861 111.704 L82.6861 105.824 Z\" fill=\"#f8f8f2\" fill-rule=\"nonzero\" fill-opacity=\"1\" /><path clip-path=\"url(#clip120)\" d=\"M107.755 80.2226 Q104.144 80.2226 102.316 83.7874 Q100.51 87.329 100.51 94.4586 Q100.51 101.565 102.316 105.13 Q104.144 108.671 107.755 108.671 Q111.39 108.671 113.195 105.13 Q115.024 101.565 115.024 94.4586 Q115.024 87.329 113.195 83.7874 Q111.39 80.2226 107.755 80.2226 M107.755 76.5189 Q113.566 76.5189 116.621 81.1253 Q119.7 85.7086 119.7 94.4586 Q119.7 103.185 116.621 107.792 Q113.566 112.375 107.755 112.375 Q101.945 112.375 98.8666 107.792 Q95.811 103.185 95.811 94.4586 Q95.811 85.7086 98.8666 81.1253 Q101.945 76.5189 107.755 76.5189 Z\" fill=\"#f8f8f2\" fill-rule=\"nonzero\" fill-opacity=\"1\" /><path clip-path=\"url(#clip120)\" d=\"M156.088 86.2411 L145.51 96.866 L156.088 107.445 L153.334 110.246 L142.709 99.6206 L132.084 110.246 L129.353 107.445 L139.908 96.866 L129.353 86.2411 L132.084 83.4401 L142.709 94.0651 L153.334 83.4401 L156.088 86.2411 Z\" fill=\"#f8f8f2\" fill-rule=\"nonzero\" fill-opacity=\"1\" /><path clip-path=\"url(#clip120)\" d=\"M168.45 107.769 L176.088 107.769 L176.088 81.4031 L167.778 83.0698 L167.778 78.8105 L176.042 77.1439 L180.718 77.1439 L180.718 107.769 L188.357 107.769 L188.357 111.704 L168.45 111.704 L168.45 107.769 Z\" fill=\"#f8f8f2\" fill-rule=\"nonzero\" fill-opacity=\"1\" /><path clip-path=\"url(#clip120)\" d=\"M207.801 80.2226 Q204.19 80.2226 202.361 83.7874 Q200.556 87.329 200.556 94.4586 Q200.556 101.565 202.361 105.13 Q204.19 108.671 207.801 108.671 Q211.435 108.671 213.241 105.13 Q215.07 101.565 215.07 94.4586 Q215.07 87.329 213.241 83.7874 Q211.435 80.2226 207.801 80.2226 M207.801 76.5189 Q213.611 76.5189 216.667 81.1253 Q219.746 85.7086 219.746 94.4586 Q219.746 103.185 216.667 107.792 Q213.611 112.375 207.801 112.375 Q201.991 112.375 198.912 107.792 Q195.857 103.185 195.857 94.4586 Q195.857 85.7086 198.912 81.1253 Q201.991 76.5189 207.801 76.5189 Z\" fill=\"#f8f8f2\" fill-rule=\"nonzero\" fill-opacity=\"1\" /><path clip-path=\"url(#clip120)\" d=\"M229.77 68.7395 Q227.212 68.7395 225.708 70.4886 Q224.222 72.2377 224.222 75.2846 Q224.222 78.3126 225.708 80.0805 Q227.212 81.8297 229.77 81.8297 Q232.328 81.8297 233.814 80.0805 Q235.318 78.3126 235.318 75.2846 Q235.318 72.2377 233.814 70.4886 Q232.328 68.7395 229.77 68.7395 M237.312 56.8341 L237.312 60.2948 Q235.883 59.6177 234.416 59.2603 Q232.967 58.903 231.538 58.903 Q227.776 58.903 225.783 61.442 Q223.808 63.9811 223.526 69.1156 Q224.636 67.4793 226.309 66.6142 Q227.983 65.7302 229.996 65.7302 Q234.228 65.7302 236.673 68.3069 Q239.136 70.8647 239.136 75.2846 Q239.136 79.6103 236.579 82.2246 Q234.021 84.8389 229.77 84.8389 Q224.899 84.8389 222.322 81.115 Q219.746 77.3722 219.746 70.2817 Q219.746 63.6237 222.905 59.6741 Q226.065 55.7057 231.388 55.7057 Q232.817 55.7057 234.265 55.9878 Q235.732 56.2699 237.312 56.8341 Z\" fill=\"#f8f8f2\" fill-rule=\"nonzero\" fill-opacity=\"1\" /><circle clip-path=\"url(#clip122)\" cx=\"1858.4\" cy=\"1083.18\" r=\"14.4\" fill=\"#8be9fd\" fill-rule=\"evenodd\" fill-opacity=\"1\" stroke=\"#f8f8f2\" stroke-opacity=\"1\" stroke-width=\"3.2\"/>\n",
       "<circle clip-path=\"url(#clip122)\" cx=\"333.937\" cy=\"1445.72\" r=\"14.4\" fill=\"#8be9fd\" fill-rule=\"evenodd\" fill-opacity=\"1\" stroke=\"#f8f8f2\" stroke-opacity=\"1\" stroke-width=\"3.2\"/>\n",
       "<circle clip-path=\"url(#clip122)\" cx=\"2293.96\" cy=\"87.9763\" r=\"14.4\" fill=\"#8be9fd\" fill-rule=\"evenodd\" fill-opacity=\"1\" stroke=\"#f8f8f2\" stroke-opacity=\"1\" stroke-width=\"3.2\"/>\n",
       "<circle clip-path=\"url(#clip122)\" cx=\"1422.84\" cy=\"1296.44\" r=\"14.4\" fill=\"#8be9fd\" fill-rule=\"evenodd\" fill-opacity=\"1\" stroke=\"#f8f8f2\" stroke-opacity=\"1\" stroke-width=\"3.2\"/>\n",
       "<circle clip-path=\"url(#clip122)\" cx=\"2076.18\" cy=\"798.835\" r=\"14.4\" fill=\"#8be9fd\" fill-rule=\"evenodd\" fill-opacity=\"1\" stroke=\"#f8f8f2\" stroke-opacity=\"1\" stroke-width=\"3.2\"/>\n",
       "<circle clip-path=\"url(#clip122)\" cx=\"987.276\" cy=\"1395.96\" r=\"14.4\" fill=\"#8be9fd\" fill-rule=\"evenodd\" fill-opacity=\"1\" stroke=\"#f8f8f2\" stroke-opacity=\"1\" stroke-width=\"3.2\"/>\n",
       "<circle clip-path=\"url(#clip122)\" cx=\"1205.06\" cy=\"1353.3\" r=\"14.4\" fill=\"#8be9fd\" fill-rule=\"evenodd\" fill-opacity=\"1\" stroke=\"#f8f8f2\" stroke-opacity=\"1\" stroke-width=\"3.2\"/>\n",
       "<circle clip-path=\"url(#clip122)\" cx=\"1640.62\" cy=\"1225.35\" r=\"14.4\" fill=\"#8be9fd\" fill-rule=\"evenodd\" fill-opacity=\"1\" stroke=\"#f8f8f2\" stroke-opacity=\"1\" stroke-width=\"3.2\"/>\n",
       "<circle clip-path=\"url(#clip122)\" cx=\"1858.4\" cy=\"1101.85\" r=\"14.4\" fill=\"#ff79c6\" fill-rule=\"evenodd\" fill-opacity=\"1\" stroke=\"#f8f8f2\" stroke-opacity=\"1\" stroke-width=\"3.2\"/>\n",
       "<circle clip-path=\"url(#clip122)\" cx=\"333.937\" cy=\"1444.97\" r=\"14.4\" fill=\"#ff79c6\" fill-rule=\"evenodd\" fill-opacity=\"1\" stroke=\"#f8f8f2\" stroke-opacity=\"1\" stroke-width=\"3.2\"/>\n",
       "<circle clip-path=\"url(#clip122)\" cx=\"2293.96\" cy=\"95.7228\" r=\"14.4\" fill=\"#ff79c6\" fill-rule=\"evenodd\" fill-opacity=\"1\" stroke=\"#f8f8f2\" stroke-opacity=\"1\" stroke-width=\"3.2\"/>\n",
       "<circle clip-path=\"url(#clip122)\" cx=\"1422.84\" cy=\"1289.57\" r=\"14.4\" fill=\"#ff79c6\" fill-rule=\"evenodd\" fill-opacity=\"1\" stroke=\"#f8f8f2\" stroke-opacity=\"1\" stroke-width=\"3.2\"/>\n",
       "<circle clip-path=\"url(#clip122)\" cx=\"2076.18\" cy=\"774.123\" r=\"14.4\" fill=\"#ff79c6\" fill-rule=\"evenodd\" fill-opacity=\"1\" stroke=\"#f8f8f2\" stroke-opacity=\"1\" stroke-width=\"3.2\"/>\n",
       "<circle clip-path=\"url(#clip122)\" cx=\"987.276\" cy=\"1408.18\" r=\"14.4\" fill=\"#ff79c6\" fill-rule=\"evenodd\" fill-opacity=\"1\" stroke=\"#f8f8f2\" stroke-opacity=\"1\" stroke-width=\"3.2\"/>\n",
       "<circle clip-path=\"url(#clip122)\" cx=\"1205.06\" cy=\"1336.88\" r=\"14.4\" fill=\"#ff79c6\" fill-rule=\"evenodd\" fill-opacity=\"1\" stroke=\"#f8f8f2\" stroke-opacity=\"1\" stroke-width=\"3.2\"/>\n",
       "<circle clip-path=\"url(#clip122)\" cx=\"1640.62\" cy=\"1235.46\" r=\"14.4\" fill=\"#ff79c6\" fill-rule=\"evenodd\" fill-opacity=\"1\" stroke=\"#f8f8f2\" stroke-opacity=\"1\" stroke-width=\"3.2\"/>\n",
       "<path clip-path=\"url(#clip120)\" d=\"M344.39 250.738 L632.458 250.738 L632.458 95.2176 L344.39 95.2176  Z\" fill=\"#282a36\" fill-rule=\"evenodd\" fill-opacity=\"1\"/>\n",
       "<polyline clip-path=\"url(#clip120)\" style=\"stroke:#f8f8f2; stroke-linecap:round; stroke-linejoin:round; stroke-width:4; stroke-opacity:1; fill:none\" points=\"344.39,250.738 632.458,250.738 632.458,95.2176 344.39,95.2176 344.39,250.738 \"/>\n",
       "<circle clip-path=\"url(#clip120)\" cx=\"436.729\" cy=\"147.058\" r=\"20.48\" fill=\"#8be9fd\" fill-rule=\"evenodd\" fill-opacity=\"1\" stroke=\"#f8f8f2\" stroke-opacity=\"1\" stroke-width=\"4.55111\"/>\n",
       "<path clip-path=\"url(#clip120)\" d=\"M551.202 139.562 Q551.202 139.89 550.991 140.663 L546.4 158.979 Q545.393 163.055 542.114 165.912 Q538.858 168.77 535.157 168.77 Q532.932 168.77 531.504 167.575 Q530.075 166.404 530.075 164.601 Q530.075 163.008 530.918 162.235 Q531.761 161.486 532.768 161.486 Q533.096 161.486 533.448 161.579 Q533.799 161.673 534.174 162.071 Q534.549 162.469 534.549 163.149 Q534.549 164.249 533.588 165.116 Q533.12 165.514 532.675 165.608 Q532.253 165.702 531.527 165.702 Q531.808 166.357 532.323 166.802 Q532.839 167.248 533.424 167.411 Q534.01 167.599 534.385 167.646 Q534.783 167.716 535.157 167.716 Q538.156 167.716 540.451 164.694 Q541.13 163.781 541.622 162.868 Q542.137 161.977 542.512 160.877 Q542.887 159.799 543.051 159.214 Q543.238 158.628 543.566 157.293 Q541.388 159.471 538.718 159.471 Q537.593 159.471 536.586 159.167 Q535.603 158.862 534.736 158.23 Q533.869 157.574 533.354 156.426 Q532.862 155.279 532.862 153.756 Q532.862 152.14 533.494 149.938 Q534.127 147.737 535.649 143.685 Q536.469 141.413 536.469 140.312 Q536.469 139.773 536.352 139.445 Q536.235 139.094 536.001 138.977 Q535.766 138.836 535.626 138.813 Q535.509 138.789 535.275 138.789 Q533.893 138.789 532.604 140.195 Q531.316 141.6 530.426 144.739 Q530.239 145.324 530.122 145.465 Q530.005 145.605 529.653 145.605 Q529.068 145.582 529.068 145.113 Q529.068 144.926 529.278 144.2 Q529.489 143.45 529.981 142.349 Q530.496 141.225 531.199 140.218 Q531.902 139.187 533.003 138.461 Q534.127 137.735 535.415 137.735 Q537.172 137.735 538.249 138.883 Q539.35 140.007 539.35 141.67 Q539.35 142.349 539.163 142.958 Q538.999 143.544 538.39 145.113 Q535.93 151.437 535.93 154.529 Q535.93 155.279 536.048 155.911 Q536.188 156.52 536.493 157.129 Q536.797 157.715 537.406 158.066 Q538.038 158.394 538.905 158.394 Q540.006 158.394 541.037 157.879 Q542.091 157.34 542.746 156.614 Q543.426 155.888 543.824 155.279 Q544.245 154.646 544.339 154.318 L546.494 145.699 L547.454 141.858 Q547.899 139.773 548.11 139.258 Q548.391 138.766 548.883 138.508 Q549.375 138.251 549.797 138.251 Q550.382 138.251 550.78 138.602 Q551.202 138.953 551.202 139.562 Z\" fill=\"#f8f8f2\" fill-rule=\"nonzero\" fill-opacity=\"1\" /><path clip-path=\"url(#clip120)\" d=\"M557.707 146.94 Q557.707 138.836 560.728 132.301 Q562.016 129.561 563.82 127.265 Q565.623 124.97 566.818 123.963 Q568.012 122.956 568.34 122.956 Q568.809 122.956 568.832 123.424 Q568.832 123.658 568.2 124.244 Q560.47 132.114 560.494 146.94 Q560.494 161.814 568.012 169.379 Q568.832 170.199 568.832 170.456 Q568.832 170.925 568.34 170.925 Q568.012 170.925 566.865 169.965 Q565.717 169.004 563.937 166.802 Q562.157 164.601 560.869 161.907 Q557.707 155.372 557.707 146.94 Z\" fill=\"#f8f8f2\" fill-rule=\"nonzero\" fill-opacity=\"1\" /><path clip-path=\"url(#clip120)\" d=\"M587.207 138.789 Q587.207 139.445 586.902 139.609 Q586.598 139.75 585.755 139.75 L581.258 139.75 L577.697 153.897 Q577.416 155.138 577.416 156.192 Q577.416 157.363 577.768 157.879 Q578.142 158.394 578.915 158.394 Q580.438 158.394 582.077 157.012 Q583.74 155.63 585.146 152.257 Q585.333 151.812 585.427 151.718 Q585.544 151.601 585.848 151.601 Q586.434 151.601 586.434 152.07 Q586.434 152.234 586.106 152.983 Q585.801 153.733 585.122 154.834 Q584.466 155.934 583.6 156.965 Q582.757 157.996 581.468 158.745 Q580.18 159.471 578.798 159.471 Q576.854 159.471 575.613 158.23 Q574.395 156.988 574.395 155.044 Q574.395 154.412 574.887 152.398 Q575.378 150.36 578.049 139.75 L573.809 139.75 Q573.224 139.75 572.989 139.726 Q572.779 139.703 572.615 139.586 Q572.474 139.445 572.474 139.164 Q572.474 138.719 572.661 138.532 Q572.849 138.321 573.083 138.297 Q573.341 138.251 573.926 138.251 L578.423 138.251 L580.297 130.638 Q580.485 129.889 580.953 129.467 Q581.445 129.022 581.726 128.975 Q582.007 128.905 582.218 128.905 Q582.85 128.905 583.225 129.256 Q583.6 129.584 583.6 130.193 Q583.6 130.521 581.632 138.251 L585.848 138.251 Q586.387 138.251 586.598 138.274 Q586.832 138.297 587.019 138.414 Q587.207 138.532 587.207 138.789 Z\" fill=\"#f8f8f2\" fill-rule=\"nonzero\" fill-opacity=\"1\" /><path clip-path=\"url(#clip120)\" d=\"M590.958 170.456 Q590.958 170.222 591.567 169.637 Q599.296 161.767 599.296 146.94 Q599.296 132.067 591.871 124.548 Q590.958 123.682 590.958 123.424 Q590.958 122.956 591.426 122.956 Q591.754 122.956 592.902 123.916 Q594.073 124.876 595.83 127.078 Q597.61 129.28 598.922 131.973 Q602.084 138.508 602.084 146.94 Q602.084 155.044 599.062 161.579 Q597.774 164.32 595.97 166.615 Q594.167 168.911 592.972 169.918 Q591.778 170.925 591.426 170.925 Q590.958 170.925 590.958 170.456 Z\" fill=\"#f8f8f2\" fill-rule=\"nonzero\" fill-opacity=\"1\" /><circle clip-path=\"url(#clip120)\" cx=\"436.729\" cy=\"198.898\" r=\"20.48\" fill=\"#ff79c6\" fill-rule=\"evenodd\" fill-opacity=\"1\" stroke=\"#f8f8f2\" stroke-opacity=\"1\" stroke-width=\"4.55111\"/>\n",
       "<path clip-path=\"url(#clip120)\" d=\"M550.653 183.801 L550.243 184.473 Q547.702 183.375 544.538 181.62 Q541.373 183.375 538.832 184.473 L538.438 183.801 Q541.209 181.391 544.538 179.538 Q547.899 181.407 550.653 183.801 Z\" fill=\"#f8f8f2\" fill-rule=\"nonzero\" fill-opacity=\"1\" /><path clip-path=\"url(#clip120)\" d=\"M552.202 191.402 Q552.202 191.73 551.991 192.503 L547.4 210.819 Q546.393 214.895 543.114 217.752 Q539.858 220.61 536.157 220.61 Q533.932 220.61 532.504 219.415 Q531.075 218.244 531.075 216.441 Q531.075 214.848 531.918 214.075 Q532.761 213.326 533.768 213.326 Q534.096 213.326 534.448 213.419 Q534.799 213.513 535.174 213.911 Q535.549 214.309 535.549 214.989 Q535.549 216.089 534.588 216.956 Q534.12 217.354 533.675 217.448 Q533.253 217.542 532.527 217.542 Q532.808 218.197 533.323 218.642 Q533.839 219.088 534.424 219.251 Q535.01 219.439 535.385 219.486 Q535.783 219.556 536.157 219.556 Q539.156 219.556 541.451 216.534 Q542.13 215.621 542.622 214.708 Q543.137 213.817 543.512 212.717 Q543.887 211.639 544.051 211.054 Q544.238 210.468 544.566 209.133 Q542.388 211.311 539.718 211.311 Q538.593 211.311 537.586 211.007 Q536.603 210.702 535.736 210.07 Q534.869 209.414 534.354 208.266 Q533.862 207.119 533.862 205.596 Q533.862 203.98 534.494 201.778 Q535.127 199.577 536.649 195.525 Q537.469 193.253 537.469 192.152 Q537.469 191.613 537.352 191.285 Q537.235 190.934 537.001 190.817 Q536.766 190.676 536.626 190.653 Q536.509 190.629 536.275 190.629 Q534.893 190.629 533.604 192.035 Q532.316 193.44 531.426 196.579 Q531.239 197.164 531.122 197.305 Q531.005 197.445 530.653 197.445 Q530.068 197.422 530.068 196.953 Q530.068 196.766 530.278 196.04 Q530.489 195.29 530.981 194.189 Q531.496 193.065 532.199 192.058 Q532.902 191.027 534.003 190.301 Q535.127 189.575 536.415 189.575 Q538.172 189.575 539.249 190.723 Q540.35 191.847 540.35 193.51 Q540.35 194.189 540.163 194.798 Q539.999 195.384 539.39 196.953 Q536.93 203.277 536.93 206.369 Q536.93 207.119 537.048 207.751 Q537.188 208.36 537.493 208.969 Q537.797 209.555 538.406 209.906 Q539.038 210.234 539.905 210.234 Q541.006 210.234 542.037 209.719 Q543.091 209.18 543.746 208.454 Q544.426 207.728 544.824 207.119 Q545.245 206.486 545.339 206.158 L547.494 197.539 L548.454 193.698 Q548.899 191.613 549.11 191.098 Q549.391 190.606 549.883 190.348 Q550.375 190.091 550.797 190.091 Q551.382 190.091 551.78 190.442 Q552.202 190.793 552.202 191.402 Z\" fill=\"#f8f8f2\" fill-rule=\"nonzero\" fill-opacity=\"1\" /><path clip-path=\"url(#clip120)\" d=\"M553.259 198.78 Q553.259 190.676 556.28 184.141 Q557.568 181.401 559.372 179.105 Q561.175 176.81 562.37 175.803 Q563.565 174.796 563.892 174.796 Q564.361 174.796 564.384 175.264 Q564.384 175.498 563.752 176.084 Q556.023 183.954 556.046 198.78 Q556.046 213.654 563.565 221.219 Q564.384 222.039 564.384 222.296 Q564.384 222.765 563.892 222.765 Q563.565 222.765 562.417 221.805 Q561.269 220.844 559.489 218.642 Q557.709 216.441 556.421 213.747 Q553.259 207.212 553.259 198.78 Z\" fill=\"#f8f8f2\" fill-rule=\"nonzero\" fill-opacity=\"1\" /><path clip-path=\"url(#clip120)\" d=\"M582.759 190.629 Q582.759 191.285 582.454 191.449 Q582.15 191.59 581.307 191.59 L576.81 191.59 L573.249 205.737 Q572.968 206.978 572.968 208.032 Q572.968 209.203 573.32 209.719 Q573.694 210.234 574.467 210.234 Q575.99 210.234 577.629 208.852 Q579.292 207.47 580.698 204.097 Q580.885 203.652 580.979 203.558 Q581.096 203.441 581.4 203.441 Q581.986 203.441 581.986 203.91 Q581.986 204.074 581.658 204.823 Q581.354 205.573 580.674 206.674 Q580.018 207.774 579.152 208.805 Q578.309 209.836 577.02 210.585 Q575.732 211.311 574.35 211.311 Q572.406 211.311 571.165 210.07 Q569.947 208.828 569.947 206.884 Q569.947 206.252 570.439 204.238 Q570.931 202.2 573.601 191.59 L569.361 191.59 Q568.776 191.59 568.541 191.566 Q568.331 191.543 568.167 191.426 Q568.026 191.285 568.026 191.004 Q568.026 190.559 568.214 190.372 Q568.401 190.161 568.635 190.137 Q568.893 190.091 569.478 190.091 L573.975 190.091 L575.849 182.478 Q576.037 181.729 576.505 181.307 Q576.997 180.862 577.278 180.815 Q577.559 180.745 577.77 180.745 Q578.402 180.745 578.777 181.096 Q579.152 181.424 579.152 182.033 Q579.152 182.361 577.184 190.091 L581.4 190.091 Q581.939 190.091 582.15 190.114 Q582.384 190.137 582.572 190.254 Q582.759 190.372 582.759 190.629 Z\" fill=\"#f8f8f2\" fill-rule=\"nonzero\" fill-opacity=\"1\" /><path clip-path=\"url(#clip120)\" d=\"M586.51 222.296 Q586.51 222.062 587.119 221.477 Q594.848 213.607 594.848 198.78 Q594.848 183.907 587.424 176.388 Q586.51 175.522 586.51 175.264 Q586.51 174.796 586.979 174.796 Q587.306 174.796 588.454 175.756 Q589.625 176.716 591.382 178.918 Q593.162 181.12 594.474 183.813 Q597.636 190.348 597.636 198.78 Q597.636 206.884 594.614 213.419 Q593.326 216.16 591.522 218.455 Q589.719 220.751 588.524 221.758 Q587.33 222.765 586.979 222.765 Q586.51 222.765 586.51 222.296 Z\" fill=\"#f8f8f2\" fill-rule=\"nonzero\" fill-opacity=\"1\" /></svg>\n"
      ]
     },
     "execution_count": 23,
     "metadata": {},
     "output_type": "execute_result"
    }
   ],
   "source": [
    "scatter(x.Level[train], y[train], label=L\"y(t)\")\n",
    "scatter!(x.Level[train], yhat, label=L\"\\hat{y}(t)\")"
   ]
  },
  {
   "cell_type": "code",
   "execution_count": null,
   "id": "c0b697f9-3718-4a11-96e8-154921267c1d",
   "metadata": {},
   "outputs": [],
   "source": []
  }
 ],
 "metadata": {
  "kernelspec": {
   "display_name": "IJulia 1.11.2",
   "language": "julia",
   "name": "ijulia-1.11"
  },
  "language_info": {
   "file_extension": ".jl",
   "mimetype": "application/julia",
   "name": "julia",
   "version": "1.11.2"
  }
 },
 "nbformat": 4,
 "nbformat_minor": 5
}
