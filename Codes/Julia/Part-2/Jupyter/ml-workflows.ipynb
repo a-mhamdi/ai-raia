{
 "cells": [
  {
   "cell_type": "markdown",
   "id": "aa91c0e6-e011-4b84-a756-46836ae9b8e1",
   "metadata": {},
   "source": [
    "# COMMON DATA PREPROCESSING `WORKFLOWS`\n",
    "---"
   ]
  },
  {
   "cell_type": "markdown",
   "id": "620d14d4-7e31-4c69-bdf6-90eb65f06271",
   "metadata": {},
   "source": [
    "```julia\n",
    "versioninfo() # -> v\"1.11.1\"\n",
    "```"
   ]
  },
  {
   "cell_type": "code",
   "execution_count": 1,
   "id": "a2db8dff-f880-4593-bee5-90e64574481f",
   "metadata": {},
   "outputs": [],
   "source": [
    "cd(@__DIR__)"
   ]
  },
  {
   "cell_type": "code",
   "execution_count": 2,
   "id": "1998d715-76fe-483e-bbef-02db27e6a0bf",
   "metadata": {},
   "outputs": [
    {
     "name": "stderr",
     "output_type": "stream",
     "text": [
      "\u001b[32m\u001b[1m  Activating\u001b[22m\u001b[39m project at `~/Work/git-repos/AI-ML-DL/jlai/Codes/Julia/Part-2`\n"
     ]
    }
   ],
   "source": [
    "using Pkg; pkg\"activate ..\""
   ]
  },
  {
   "cell_type": "markdown",
   "id": "0dabcac1-8a7b-4ebb-a347-726a42c18d4f",
   "metadata": {},
   "source": [
    "Import librairies"
   ]
  },
  {
   "cell_type": "code",
   "execution_count": 3,
   "id": "2dccb635-57f7-45a6-b8c5-4458893337eb",
   "metadata": {},
   "outputs": [],
   "source": [
    "using CSV, DataFrames\n",
    "using MLJ"
   ]
  },
  {
   "cell_type": "markdown",
   "id": "8c3506e5-819f-4ac7-bbdd-50eccb2098bf",
   "metadata": {},
   "source": [
    "Import data from CSV file"
   ]
  },
  {
   "cell_type": "code",
   "execution_count": 4,
   "id": "01ca29b5-1065-4a16-be5a-9cdaf0b865e9",
   "metadata": {},
   "outputs": [
    {
     "data": {
      "text/plain": [
       "┌───────────┬───────────────────────┬───────────────────────┐\n",
       "│\u001b[22m names     \u001b[0m│\u001b[22m scitypes              \u001b[0m│\u001b[22m types                 \u001b[0m│\n",
       "├───────────┼───────────────────────┼───────────────────────┤\n",
       "│ Country   │ Textual               │ String7               │\n",
       "│ Age       │ Union{Missing, Count} │ Union{Missing, Int64} │\n",
       "│ Salary    │ Union{Missing, Count} │ Union{Missing, Int64} │\n",
       "│ Purchased │ Textual               │ String3               │\n",
       "└───────────┴───────────────────────┴───────────────────────┘\n"
      ]
     },
     "execution_count": 4,
     "metadata": {},
     "output_type": "execute_result"
    }
   ],
   "source": [
    "df = CSV.read(\"../../Datasets/Data.csv\", DataFrame)\n",
    "describe(df)\n",
    "nrow(df), ncol(df)\n",
    "schema(df)"
   ]
  },
  {
   "cell_type": "markdown",
   "id": "d97993f7-7cd3-4ed2-9422-025948c7193c",
   "metadata": {},
   "source": [
    "Scientific type coercion"
   ]
  },
  {
   "cell_type": "code",
   "execution_count": 5,
   "id": "acd32f27-ce40-40d8-911c-38809b70cfb7",
   "metadata": {},
   "outputs": [
    {
     "name": "stderr",
     "output_type": "stream",
     "text": [
      "\u001b[36m\u001b[1m┌ \u001b[22m\u001b[39m\u001b[36m\u001b[1mInfo: \u001b[22m\u001b[39mTrying to coerce from `Union{Missing, Int64}` to `Continuous`.\n",
      "\u001b[36m\u001b[1m└ \u001b[22m\u001b[39mCoerced to `Union{Missing,Continuous}` instead.\n",
      "\u001b[36m\u001b[1m┌ \u001b[22m\u001b[39m\u001b[36m\u001b[1mInfo: \u001b[22m\u001b[39mTrying to coerce from `Union{Missing, Int64}` to `Continuous`.\n",
      "\u001b[36m\u001b[1m└ \u001b[22m\u001b[39mCoerced to `Union{Missing,Continuous}` instead.\n"
     ]
    },
    {
     "data": {
      "text/plain": [
       "┌───────────┬────────────────────────────┬───────────────────────────────────┐\n",
       "│\u001b[22m names     \u001b[0m│\u001b[22m scitypes                   \u001b[0m│\u001b[22m types                             \u001b[0m│\n",
       "├───────────┼────────────────────────────┼───────────────────────────────────┤\n",
       "│ Country   │ Multiclass{3}              │ CategoricalValue{String7, UInt32} │\n",
       "│ Age       │ Union{Missing, Continuous} │ Union{Missing, Float64}           │\n",
       "│ Salary    │ Union{Missing, Continuous} │ Union{Missing, Float64}           │\n",
       "│ Purchased │ Multiclass{2}              │ CategoricalValue{String3, UInt32} │\n",
       "└───────────┴────────────────────────────┴───────────────────────────────────┘\n"
      ]
     },
     "execution_count": 5,
     "metadata": {},
     "output_type": "execute_result"
    }
   ],
   "source": [
    "df_coerced = coerce(df,\n",
    "    :Country => Multiclass,\n",
    "    :Age => Continuous,\n",
    "    :Salary => Continuous,\n",
    "    :Purchased => Multiclass);\n",
    "schema(df_coerced)"
   ]
  },
  {
   "cell_type": "markdown",
   "id": "a6804e18-28d8-4092-9b08-b5698473223c",
   "metadata": {},
   "source": [
    "Missing values imputation"
   ]
  },
  {
   "cell_type": "code",
   "execution_count": 6,
   "id": "d84a12d1-52f5-449c-9634-606e304def89",
   "metadata": {},
   "outputs": [
    {
     "name": "stderr",
     "output_type": "stream",
     "text": [
      "\u001b[36m\u001b[1m[ \u001b[22m\u001b[39m\u001b[36m\u001b[1mInfo: \u001b[22m\u001b[39mTraining machine(FillImputer(features = Symbol[], …), …).\n"
     ]
    },
    {
     "data": {
      "text/plain": [
       "┌───────────┬───────────────┬───────────────────────────────────┐\n",
       "│\u001b[22m names     \u001b[0m│\u001b[22m scitypes      \u001b[0m│\u001b[22m types                             \u001b[0m│\n",
       "├───────────┼───────────────┼───────────────────────────────────┤\n",
       "│ Country   │ Multiclass{3} │ CategoricalValue{String7, UInt32} │\n",
       "│ Age       │ Continuous    │ Float64                           │\n",
       "│ Salary    │ Continuous    │ Float64                           │\n",
       "│ Purchased │ Multiclass{2} │ CategoricalValue{String3, UInt32} │\n",
       "└───────────┴───────────────┴───────────────────────────────────┘\n"
      ]
     },
     "execution_count": 6,
     "metadata": {},
     "output_type": "execute_result"
    }
   ],
   "source": [
    "imputer = FillImputer()\n",
    "mach = machine(imputer, df_coerced) |> fit!\n",
    "df_imputed = MLJ.transform(mach, df_coerced);\n",
    "schema(df_imputed)"
   ]
  },
  {
   "cell_type": "code",
   "execution_count": 7,
   "id": "2c4cd060-b8ad-4561-918d-ee2a39428060",
   "metadata": {},
   "outputs": [],
   "source": [
    "#= CAN BE WRITTEN THIS WAY\n",
    "df_imputed = machine(imputer, df_coerced) |> fit! |> MLJ.transform\n",
    "=#"
   ]
  },
  {
   "cell_type": "markdown",
   "id": "259035fb-837a-475c-b7e8-7b6a94770042",
   "metadata": {},
   "source": [
    "Features & target selection"
   ]
  },
  {
   "cell_type": "code",
   "execution_count": 8,
   "id": "2e766afc-73be-41f1-98dc-7ea89b47a017",
   "metadata": {},
   "outputs": [
    {
     "data": {
      "text/html": [
       "<div><div style = \"float: left;\"><span>10×1 DataFrame</span></div><div style = \"clear: both;\"></div></div><div class = \"data-frame\" style = \"overflow-x: scroll;\"><table class = \"data-frame\" style = \"margin-bottom: 6px;\"><thead><tr class = \"header\"><th class = \"rowNumber\" style = \"font-weight: bold; text-align: right;\">Row</th><th style = \"text-align: left;\">Purchased</th></tr><tr class = \"subheader headerLastRow\"><th class = \"rowNumber\" style = \"font-weight: bold; text-align: right;\"></th><th title = \"CategoricalArrays.CategoricalValue{String3, UInt32}\" style = \"text-align: left;\">Cat…</th></tr></thead><tbody><tr><td class = \"rowNumber\" style = \"font-weight: bold; text-align: right;\">1</td><td style = \"text-align: left;\">No</td></tr><tr><td class = \"rowNumber\" style = \"font-weight: bold; text-align: right;\">2</td><td style = \"text-align: left;\">Yes</td></tr><tr><td class = \"rowNumber\" style = \"font-weight: bold; text-align: right;\">3</td><td style = \"text-align: left;\">No</td></tr><tr><td class = \"rowNumber\" style = \"font-weight: bold; text-align: right;\">4</td><td style = \"text-align: left;\">No</td></tr><tr><td class = \"rowNumber\" style = \"font-weight: bold; text-align: right;\">5</td><td style = \"text-align: left;\">Yes</td></tr><tr><td class = \"rowNumber\" style = \"font-weight: bold; text-align: right;\">6</td><td style = \"text-align: left;\">Yes</td></tr><tr><td class = \"rowNumber\" style = \"font-weight: bold; text-align: right;\">7</td><td style = \"text-align: left;\">No</td></tr><tr><td class = \"rowNumber\" style = \"font-weight: bold; text-align: right;\">8</td><td style = \"text-align: left;\">Yes</td></tr><tr><td class = \"rowNumber\" style = \"font-weight: bold; text-align: right;\">9</td><td style = \"text-align: left;\">No</td></tr><tr><td class = \"rowNumber\" style = \"font-weight: bold; text-align: right;\">10</td><td style = \"text-align: left;\">Yes</td></tr></tbody></table></div>"
      ],
      "text/latex": [
       "\\begin{tabular}{r|c}\n",
       "\t& Purchased\\\\\n",
       "\t\\hline\n",
       "\t& Cat…\\\\\n",
       "\t\\hline\n",
       "\t1 & No \\\\\n",
       "\t2 & Yes \\\\\n",
       "\t3 & No \\\\\n",
       "\t4 & No \\\\\n",
       "\t5 & Yes \\\\\n",
       "\t6 & Yes \\\\\n",
       "\t7 & No \\\\\n",
       "\t8 & Yes \\\\\n",
       "\t9 & No \\\\\n",
       "\t10 & Yes \\\\\n",
       "\\end{tabular}\n"
      ],
      "text/plain": [
       "\u001b[1m10×1 DataFrame\u001b[0m\n",
       "\u001b[1m Row \u001b[0m│\u001b[1m Purchased \u001b[0m\n",
       "     │\u001b[90m Cat…      \u001b[0m\n",
       "─────┼───────────\n",
       "   1 │ No\n",
       "   2 │ Yes\n",
       "   3 │ No\n",
       "   4 │ No\n",
       "   5 │ Yes\n",
       "   6 │ Yes\n",
       "   7 │ No\n",
       "   8 │ Yes\n",
       "   9 │ No\n",
       "  10 │ Yes"
      ]
     },
     "execution_count": 8,
     "metadata": {},
     "output_type": "execute_result"
    }
   ],
   "source": [
    "X_imputed = select(df_imputed,\n",
    "    :Country, # :Country__France, :Country__Germany, :Country__Spain, # levels(df.Country)\n",
    "    :Age,\n",
    "    :Salary)\n",
    "y_imputed = select(df_imputed, :Purchased)"
   ]
  },
  {
   "cell_type": "markdown",
   "id": "611a64bf-8bd4-4472-8b24-3eb52b509aa2",
   "metadata": {},
   "source": [
    "Feature encoding"
   ]
  },
  {
   "cell_type": "code",
   "execution_count": 9,
   "id": "7fc84c6c-953e-437e-80d1-22bafb56903a",
   "metadata": {},
   "outputs": [
    {
     "data": {
      "text/plain": [
       "ContinuousEncoder(\n",
       "  drop_last = true, \n",
       "  one_hot_ordered_factors = false)"
      ]
     },
     "execution_count": 9,
     "metadata": {},
     "output_type": "execute_result"
    }
   ],
   "source": [
    "encoder_X = ContinuousEncoder()\n",
    "encoder_y = ContinuousEncoder(drop_last=true)"
   ]
  },
  {
   "cell_type": "code",
   "execution_count": 10,
   "id": "8a4f2c3d-5bf3-4ada-9e45-3211f80b4977",
   "metadata": {},
   "outputs": [],
   "source": [
    "#=\n",
    "mach_X = machine(encoder_X, X_imputed) |> fit!\n",
    "mach_y = machine(encoder_y, y_imputed) |> fit!\n",
    "X = MLJ.transform(mach_X, X_imputed);\n",
    "y = MLJ.transform(mach_y, y_imputed);\n",
    "=#"
   ]
  },
  {
   "cell_type": "code",
   "execution_count": 11,
   "id": "6015fb44-852b-4005-8d6f-08b4e1335a03",
   "metadata": {},
   "outputs": [
    {
     "name": "stderr",
     "output_type": "stream",
     "text": [
      "\u001b[36m\u001b[1m[ \u001b[22m\u001b[39m\u001b[36m\u001b[1mInfo: \u001b[22m\u001b[39mTraining machine(ContinuousEncoder(drop_last = false, …), …).\n",
      "\u001b[36m\u001b[1m[ \u001b[22m\u001b[39m\u001b[36m\u001b[1mInfo: \u001b[22m\u001b[39mTraining machine(ContinuousEncoder(drop_last = true, …), …).\n"
     ]
    },
    {
     "data": {
      "text/plain": [
       "┌───────────────┬────────────┬─────────┐\n",
       "│\u001b[22m names         \u001b[0m│\u001b[22m scitypes   \u001b[0m│\u001b[22m types   \u001b[0m│\n",
       "├───────────────┼────────────┼─────────┤\n",
       "│ Purchased__No │ Continuous │ Float64 │\n",
       "└───────────────┴────────────┴─────────┘\n"
      ]
     },
     "execution_count": 11,
     "metadata": {},
     "output_type": "execute_result"
    }
   ],
   "source": [
    "X = machine(encoder_X, X_imputed) |> fit! |> MLJ.transform\n",
    "y = machine(encoder_y, y_imputed) |> fit! |> MLJ.transform\n",
    "schema(X)\n",
    "schema(y)"
   ]
  },
  {
   "cell_type": "markdown",
   "id": "19b7efcb-7ec6-4a0a-820f-e6a413fffd8e",
   "metadata": {},
   "source": [
    "Split data to train & test sets"
   ]
  },
  {
   "cell_type": "code",
   "execution_count": 12,
   "id": "3f0ef3fd-df41-4547-96a3-fc79e8672c33",
   "metadata": {},
   "outputs": [],
   "source": [
    "(Xtrain, Xtest), (ytrain, ytest) = partition((X, y), .8, rng=123, multi=true);"
   ]
  },
  {
   "cell_type": "markdown",
   "id": "9fab99e3-7123-4bed-94e6-aa70c30c8fe7",
   "metadata": {},
   "source": [
    "Standardizer"
   ]
  },
  {
   "cell_type": "code",
   "execution_count": 13,
   "id": "b88fbcc7-b22f-49f9-b586-dfd66ea05c98",
   "metadata": {},
   "outputs": [
    {
     "data": {
      "text/plain": [
       "Standardizer(\n",
       "  features = Symbol[], \n",
       "  ignore = false, \n",
       "  ordered_factor = false, \n",
       "  count = false)"
      ]
     },
     "execution_count": 13,
     "metadata": {},
     "output_type": "execute_result"
    }
   ],
   "source": [
    "sc_ = Standardizer()"
   ]
  },
  {
   "cell_type": "code",
   "execution_count": 14,
   "id": "9f7d5e11-3bc6-4024-a673-1dee66e22be7",
   "metadata": {},
   "outputs": [
    {
     "name": "stderr",
     "output_type": "stream",
     "text": [
      "\u001b[36m\u001b[1m[ \u001b[22m\u001b[39m\u001b[36m\u001b[1mInfo: \u001b[22m\u001b[39mTraining machine(Standardizer(features = Symbol[], …), …).\n"
     ]
    },
    {
     "data": {
      "text/plain": [
       "2-element Vector{Float64}:\n",
       " -2.0564091557255306\n",
       " -2.604784930585672"
      ]
     },
     "execution_count": 14,
     "metadata": {},
     "output_type": "execute_result"
    }
   ],
   "source": [
    "sc_age = machine(sc_, Xtrain.Age) |> fit! \n",
    "Xtrain.Age = MLJ.transform(sc_age, Xtrain.Age) \n",
    "Xtest.Age = MLJ.transform(sc_age, Xtest.Age) "
   ]
  },
  {
   "cell_type": "code",
   "execution_count": 15,
   "id": "6a0c9c29-3eb1-4563-b03b-d85eb606ebb6",
   "metadata": {},
   "outputs": [
    {
     "name": "stderr",
     "output_type": "stream",
     "text": [
      "\u001b[36m\u001b[1m[ \u001b[22m\u001b[39m\u001b[36m\u001b[1mInfo: \u001b[22m\u001b[39mTraining machine(Standardizer(features = Symbol[], …), …).\n"
     ]
    },
    {
     "data": {
      "text/plain": [
       "2-element Vector{Float64}:\n",
       " -1.1795791024447642\n",
       " -1.7401711511313849"
      ]
     },
     "execution_count": 15,
     "metadata": {},
     "output_type": "execute_result"
    }
   ],
   "source": [
    "sc_salary = machine(sc_, Xtrain.Salary) |> fit! \n",
    "Xtrain.Salary = MLJ.transform(sc_salary, Xtrain.Salary) \n",
    "Xtest.Salary = MLJ.transform(sc_salary, Xtest.Salary) "
   ]
  }
 ],
 "metadata": {
  "kernelspec": {
   "display_name": "IJulia 1.11.1",
   "language": "julia",
   "name": "ijulia-1.11"
  },
  "language_info": {
   "file_extension": ".jl",
   "mimetype": "application/julia",
   "name": "julia",
   "version": "1.11.1"
  }
 },
 "nbformat": 4,
 "nbformat_minor": 5
}
