{
 "cells": [
  {
   "cell_type": "markdown",
   "id": "e9822ed8-2321-45aa-91c6-352a365ffc11",
   "metadata": {},
   "source": [
    "# MULTIVARIABLE LINEAR REGRESSION\n",
    "---"
   ]
  },
  {
   "cell_type": "markdown",
   "id": "c7a5bbd8-122b-4d2d-bf0a-4f431f47f042",
   "metadata": {},
   "source": [
    "```julia\n",
    "versioninfo() # -> v\"1.11.1\"\n",
    "```"
   ]
  },
  {
   "cell_type": "code",
   "execution_count": 27,
   "id": "5041a46a-9bad-458e-98d3-db4ac228971a",
   "metadata": {},
   "outputs": [],
   "source": [
    "cd(@__DIR__)"
   ]
  },
  {
   "cell_type": "code",
   "execution_count": 28,
   "id": "6f795c1d-81a7-4cb7-82a9-9f3128b2410e",
   "metadata": {},
   "outputs": [
    {
     "name": "stderr",
     "output_type": "stream",
     "text": [
      "\u001b[32m\u001b[1m  Activating\u001b[22m\u001b[39m project at `~/Work/git-repos/AI-ML-DL/jlai/Codes/Julia/Part-2`\n"
     ]
    }
   ],
   "source": [
    "using Pkg; pkg\"activate ..\""
   ]
  },
  {
   "cell_type": "markdown",
   "id": "6ccfc4b6-d514-40e2-a6ca-02ebeaf96b22",
   "metadata": {},
   "source": [
    "Import librairies"
   ]
  },
  {
   "cell_type": "code",
   "execution_count": 29,
   "id": "83dcd0ba-87cc-47a2-9be6-6663bf1f99f8",
   "metadata": {},
   "outputs": [],
   "source": [
    "using CSV, DataFrames\n",
    "using MLJ"
   ]
  },
  {
   "cell_type": "markdown",
   "id": "f94e53d7-8a39-4adb-b201-5d94a816fcd2",
   "metadata": {},
   "source": [
    "Load data from CSV file"
   ]
  },
  {
   "cell_type": "code",
   "execution_count": 30,
   "id": "af357be3-c9c5-463f-849d-c4246444d931",
   "metadata": {},
   "outputs": [
    {
     "data": {
      "text/plain": [
       "┌─────────────────┬────────────┬──────────┐\n",
       "│\u001b[22m names           \u001b[0m│\u001b[22m scitypes   \u001b[0m│\u001b[22m types    \u001b[0m│\n",
       "├─────────────────┼────────────┼──────────┤\n",
       "│ R&D Spend       │ Continuous │ Float64  │\n",
       "│ Administration  │ Continuous │ Float64  │\n",
       "│ Marketing Spend │ Continuous │ Float64  │\n",
       "│ State           │ Textual    │ String15 │\n",
       "│ Profit          │ Continuous │ Float64  │\n",
       "└─────────────────┴────────────┴──────────┘\n"
      ]
     },
     "execution_count": 30,
     "metadata": {},
     "output_type": "execute_result"
    }
   ],
   "source": [
    "df = CSV.read(\"../../Datasets/50_Startups.csv\", DataFrame)\n",
    "schema(df)"
   ]
  },
  {
   "cell_type": "markdown",
   "id": "cbbdf631-a8fe-4f22-8d06-ad21726c0e8b",
   "metadata": {},
   "source": [
    "Design the features"
   ]
  },
  {
   "cell_type": "code",
   "execution_count": 31,
   "id": "650b101a-f800-4eae-b38a-3e6852638fda",
   "metadata": {},
   "outputs": [
    {
     "data": {
      "text/html": [
       "<div><div style = \"float: left;\"><span>50×4 DataFrame</span></div><div style = \"float: right;\"><span style = \"font-style: italic;\">25 rows omitted</span></div><div style = \"clear: both;\"></div></div><div class = \"data-frame\" style = \"overflow-x: scroll;\"><table class = \"data-frame\" style = \"margin-bottom: 6px;\"><thead><tr class = \"header\"><th class = \"rowNumber\" style = \"font-weight: bold; text-align: right;\">Row</th><th style = \"text-align: left;\">rd</th><th style = \"text-align: left;\">admin</th><th style = \"text-align: left;\">spend</th><th style = \"text-align: left;\">state</th></tr><tr class = \"subheader headerLastRow\"><th class = \"rowNumber\" style = \"font-weight: bold; text-align: right;\"></th><th title = \"Float64\" style = \"text-align: left;\">Float64</th><th title = \"Float64\" style = \"text-align: left;\">Float64</th><th title = \"Float64\" style = \"text-align: left;\">Float64</th><th title = \"CategoricalArrays.CategoricalValue{String15, UInt32}\" style = \"text-align: left;\">Cat…</th></tr></thead><tbody><tr><td class = \"rowNumber\" style = \"font-weight: bold; text-align: right;\">1</td><td style = \"text-align: right;\">1.65349e5</td><td style = \"text-align: right;\">1.36898e5</td><td style = \"text-align: right;\">4.71784e5</td><td style = \"text-align: left;\">New York</td></tr><tr><td class = \"rowNumber\" style = \"font-weight: bold; text-align: right;\">2</td><td style = \"text-align: right;\">1.62598e5</td><td style = \"text-align: right;\">1.51378e5</td><td style = \"text-align: right;\">4.43899e5</td><td style = \"text-align: left;\">California</td></tr><tr><td class = \"rowNumber\" style = \"font-weight: bold; text-align: right;\">3</td><td style = \"text-align: right;\">1.53442e5</td><td style = \"text-align: right;\">1.01146e5</td><td style = \"text-align: right;\">4.07935e5</td><td style = \"text-align: left;\">Florida</td></tr><tr><td class = \"rowNumber\" style = \"font-weight: bold; text-align: right;\">4</td><td style = \"text-align: right;\">1.44372e5</td><td style = \"text-align: right;\">1.18672e5</td><td style = \"text-align: right;\">3.832e5</td><td style = \"text-align: left;\">New York</td></tr><tr><td class = \"rowNumber\" style = \"font-weight: bold; text-align: right;\">5</td><td style = \"text-align: right;\">1.42107e5</td><td style = \"text-align: right;\">91391.8</td><td style = \"text-align: right;\">3.66168e5</td><td style = \"text-align: left;\">Florida</td></tr><tr><td class = \"rowNumber\" style = \"font-weight: bold; text-align: right;\">6</td><td style = \"text-align: right;\">1.31877e5</td><td style = \"text-align: right;\">99814.7</td><td style = \"text-align: right;\">3.62861e5</td><td style = \"text-align: left;\">New York</td></tr><tr><td class = \"rowNumber\" style = \"font-weight: bold; text-align: right;\">7</td><td style = \"text-align: right;\">1.34615e5</td><td style = \"text-align: right;\">1.47199e5</td><td style = \"text-align: right;\">1.27717e5</td><td style = \"text-align: left;\">California</td></tr><tr><td class = \"rowNumber\" style = \"font-weight: bold; text-align: right;\">8</td><td style = \"text-align: right;\">1.30298e5</td><td style = \"text-align: right;\">1.4553e5</td><td style = \"text-align: right;\">3.23877e5</td><td style = \"text-align: left;\">Florida</td></tr><tr><td class = \"rowNumber\" style = \"font-weight: bold; text-align: right;\">9</td><td style = \"text-align: right;\">1.20543e5</td><td style = \"text-align: right;\">148719.0</td><td style = \"text-align: right;\">3.11613e5</td><td style = \"text-align: left;\">New York</td></tr><tr><td class = \"rowNumber\" style = \"font-weight: bold; text-align: right;\">10</td><td style = \"text-align: right;\">1.23335e5</td><td style = \"text-align: right;\">1.08679e5</td><td style = \"text-align: right;\">3.04982e5</td><td style = \"text-align: left;\">California</td></tr><tr><td class = \"rowNumber\" style = \"font-weight: bold; text-align: right;\">11</td><td style = \"text-align: right;\">1.01913e5</td><td style = \"text-align: right;\">1.10594e5</td><td style = \"text-align: right;\">229161.0</td><td style = \"text-align: left;\">Florida</td></tr><tr><td class = \"rowNumber\" style = \"font-weight: bold; text-align: right;\">12</td><td style = \"text-align: right;\">100672.0</td><td style = \"text-align: right;\">91790.6</td><td style = \"text-align: right;\">2.49745e5</td><td style = \"text-align: left;\">California</td></tr><tr><td class = \"rowNumber\" style = \"font-weight: bold; text-align: right;\">13</td><td style = \"text-align: right;\">93863.8</td><td style = \"text-align: right;\">1.2732e5</td><td style = \"text-align: right;\">2.49839e5</td><td style = \"text-align: left;\">Florida</td></tr><tr><td style = \"text-align: right;\">&vellip;</td><td style = \"text-align: right;\">&vellip;</td><td style = \"text-align: right;\">&vellip;</td><td style = \"text-align: right;\">&vellip;</td><td style = \"text-align: right;\">&vellip;</td></tr><tr><td class = \"rowNumber\" style = \"font-weight: bold; text-align: right;\">39</td><td style = \"text-align: right;\">20229.6</td><td style = \"text-align: right;\">65947.9</td><td style = \"text-align: right;\">1.85265e5</td><td style = \"text-align: left;\">New York</td></tr><tr><td class = \"rowNumber\" style = \"font-weight: bold; text-align: right;\">40</td><td style = \"text-align: right;\">38558.5</td><td style = \"text-align: right;\">82982.1</td><td style = \"text-align: right;\">1.74999e5</td><td style = \"text-align: left;\">California</td></tr><tr><td class = \"rowNumber\" style = \"font-weight: bold; text-align: right;\">41</td><td style = \"text-align: right;\">28754.3</td><td style = \"text-align: right;\">1.18546e5</td><td style = \"text-align: right;\">1.72796e5</td><td style = \"text-align: left;\">California</td></tr><tr><td class = \"rowNumber\" style = \"font-weight: bold; text-align: right;\">42</td><td style = \"text-align: right;\">27892.9</td><td style = \"text-align: right;\">84710.8</td><td style = \"text-align: right;\">1.64471e5</td><td style = \"text-align: left;\">Florida</td></tr><tr><td class = \"rowNumber\" style = \"font-weight: bold; text-align: right;\">43</td><td style = \"text-align: right;\">23640.9</td><td style = \"text-align: right;\">96189.6</td><td style = \"text-align: right;\">1.48001e5</td><td style = \"text-align: left;\">California</td></tr><tr><td class = \"rowNumber\" style = \"font-weight: bold; text-align: right;\">44</td><td style = \"text-align: right;\">15505.7</td><td style = \"text-align: right;\">1.27382e5</td><td style = \"text-align: right;\">35534.2</td><td style = \"text-align: left;\">New York</td></tr><tr><td class = \"rowNumber\" style = \"font-weight: bold; text-align: right;\">45</td><td style = \"text-align: right;\">22177.7</td><td style = \"text-align: right;\">1.54806e5</td><td style = \"text-align: right;\">28334.7</td><td style = \"text-align: left;\">California</td></tr><tr><td class = \"rowNumber\" style = \"font-weight: bold; text-align: right;\">46</td><td style = \"text-align: right;\">1000.23</td><td style = \"text-align: right;\">124153.0</td><td style = \"text-align: right;\">1903.93</td><td style = \"text-align: left;\">New York</td></tr><tr><td class = \"rowNumber\" style = \"font-weight: bold; text-align: right;\">47</td><td style = \"text-align: right;\">1315.46</td><td style = \"text-align: right;\">1.15816e5</td><td style = \"text-align: right;\">2.97114e5</td><td style = \"text-align: left;\">Florida</td></tr><tr><td class = \"rowNumber\" style = \"font-weight: bold; text-align: right;\">48</td><td style = \"text-align: right;\">0.0</td><td style = \"text-align: right;\">1.35427e5</td><td style = \"text-align: right;\">0.0</td><td style = \"text-align: left;\">California</td></tr><tr><td class = \"rowNumber\" style = \"font-weight: bold; text-align: right;\">49</td><td style = \"text-align: right;\">542.05</td><td style = \"text-align: right;\">51743.2</td><td style = \"text-align: right;\">0.0</td><td style = \"text-align: left;\">New York</td></tr><tr><td class = \"rowNumber\" style = \"font-weight: bold; text-align: right;\">50</td><td style = \"text-align: right;\">0.0</td><td style = \"text-align: right;\">1.16984e5</td><td style = \"text-align: right;\">45173.1</td><td style = \"text-align: left;\">California</td></tr></tbody></table></div>"
      ],
      "text/latex": [
       "\\begin{tabular}{r|cccc}\n",
       "\t& rd & admin & spend & state\\\\\n",
       "\t\\hline\n",
       "\t& Float64 & Float64 & Float64 & Cat…\\\\\n",
       "\t\\hline\n",
       "\t1 & 1.65349e5 & 1.36898e5 & 4.71784e5 & New York \\\\\n",
       "\t2 & 1.62598e5 & 1.51378e5 & 4.43899e5 & California \\\\\n",
       "\t3 & 1.53442e5 & 1.01146e5 & 4.07935e5 & Florida \\\\\n",
       "\t4 & 1.44372e5 & 1.18672e5 & 3.832e5 & New York \\\\\n",
       "\t5 & 1.42107e5 & 91391.8 & 3.66168e5 & Florida \\\\\n",
       "\t6 & 1.31877e5 & 99814.7 & 3.62861e5 & New York \\\\\n",
       "\t7 & 1.34615e5 & 1.47199e5 & 1.27717e5 & California \\\\\n",
       "\t8 & 1.30298e5 & 1.4553e5 & 3.23877e5 & Florida \\\\\n",
       "\t9 & 1.20543e5 & 148719.0 & 3.11613e5 & New York \\\\\n",
       "\t10 & 1.23335e5 & 1.08679e5 & 3.04982e5 & California \\\\\n",
       "\t11 & 1.01913e5 & 1.10594e5 & 229161.0 & Florida \\\\\n",
       "\t12 & 100672.0 & 91790.6 & 2.49745e5 & California \\\\\n",
       "\t13 & 93863.8 & 1.2732e5 & 2.49839e5 & Florida \\\\\n",
       "\t14 & 91992.4 & 1.35495e5 & 2.52665e5 & California \\\\\n",
       "\t15 & 1.19943e5 & 1.56547e5 & 2.56513e5 & Florida \\\\\n",
       "\t16 & 1.14524e5 & 1.22617e5 & 2.61776e5 & New York \\\\\n",
       "\t17 & 78013.1 & 1.21598e5 & 2.64346e5 & California \\\\\n",
       "\t18 & 94657.2 & 1.45078e5 & 2.82574e5 & New York \\\\\n",
       "\t19 & 91749.2 & 1.14176e5 & 2.9492e5 & Florida \\\\\n",
       "\t20 & 86419.7 & 1.53514e5 & 0.0 & New York \\\\\n",
       "\t21 & 76253.9 & 1.13867e5 & 2.98664e5 & California \\\\\n",
       "\t22 & 78389.5 & 1.53773e5 & 2.99737e5 & New York \\\\\n",
       "\t23 & 73994.6 & 1.22783e5 & 3.03319e5 & Florida \\\\\n",
       "\t24 & 67532.5 & 105751.0 & 3.04769e5 & Florida \\\\\n",
       "\t25 & 77044.0 & 99281.3 & 1.40575e5 & New York \\\\\n",
       "\t26 & 64664.7 & 1.39553e5 & 1.37963e5 & California \\\\\n",
       "\t27 & 75328.9 & 144136.0 & 1.3405e5 & Florida \\\\\n",
       "\t28 & 72107.6 & 1.27865e5 & 3.53184e5 & New York \\\\\n",
       "\t29 & 66051.5 & 1.82646e5 & 1.18148e5 & Florida \\\\\n",
       "\t30 & 65605.5 & 1.53032e5 & 1.07138e5 & New York \\\\\n",
       "\t$\\dots$ & $\\dots$ & $\\dots$ & $\\dots$ & $\\dots$ \\\\\n",
       "\\end{tabular}\n"
      ],
      "text/plain": [
       "\u001b[1m50×4 DataFrame\u001b[0m\n",
       "\u001b[1m Row \u001b[0m│\u001b[1m rd             \u001b[0m\u001b[1m admin          \u001b[0m\u001b[1m spend          \u001b[0m\u001b[1m state      \u001b[0m\n",
       "     │\u001b[90m Float64        \u001b[0m\u001b[90m Float64        \u001b[0m\u001b[90m Float64        \u001b[0m\u001b[90m Cat…       \u001b[0m\n",
       "─────┼────────────────────────────────────────────────────────────\n",
       "   1 │      1.65349e5       1.36898e5       4.71784e5  New York\n",
       "   2 │      1.62598e5       1.51378e5       4.43899e5  California\n",
       "   3 │      1.53442e5       1.01146e5       4.07935e5  Florida\n",
       "   4 │      1.44372e5       1.18672e5       3.832e5    New York\n",
       "   5 │      1.42107e5   91391.8             3.66168e5  Florida\n",
       "   6 │      1.31877e5   99814.7             3.62861e5  New York\n",
       "   7 │      1.34615e5       1.47199e5       1.27717e5  California\n",
       "   8 │      1.30298e5       1.4553e5        3.23877e5  Florida\n",
       "   9 │      1.20543e5  148719.0             3.11613e5  New York\n",
       "  10 │      1.23335e5       1.08679e5       3.04982e5  California\n",
       "  11 │      1.01913e5       1.10594e5  229161.0        Florida\n",
       "  ⋮  │       ⋮               ⋮               ⋮             ⋮\n",
       "  41 │  28754.3             1.18546e5       1.72796e5  California\n",
       "  42 │  27892.9         84710.8             1.64471e5  Florida\n",
       "  43 │  23640.9         96189.6             1.48001e5  California\n",
       "  44 │  15505.7             1.27382e5   35534.2        New York\n",
       "  45 │  22177.7             1.54806e5   28334.7        California\n",
       "  46 │   1000.23       124153.0          1903.93       New York\n",
       "  47 │   1315.46            1.15816e5       2.97114e5  Florida\n",
       "  48 │      0.0             1.35427e5       0.0        California\n",
       "  49 │    542.05        51743.2             0.0        New York\n",
       "  50 │      0.0             1.16984e5   45173.1        California\n",
       "\u001b[36m                                                   29 rows omitted\u001b[0m"
      ]
     },
     "execution_count": 31,
     "metadata": {},
     "output_type": "execute_result"
    }
   ],
   "source": [
    "X = df[!, 1:4]\n",
    "colnames = [\"rd\", \"admin\", \"spend\", \"state\"]\n",
    "rename!(X, Symbol.(colnames))\n",
    "coerce!(X, :state => Multiclass)"
   ]
  },
  {
   "cell_type": "markdown",
   "id": "c23400cf-addf-4b28-b739-72db97f26b07",
   "metadata": {},
   "source": [
    "Encoding the state column"
   ]
  },
  {
   "cell_type": "code",
   "execution_count": 32,
   "id": "60ce4a15-6224-4f91-97ad-a7636daa87e8",
   "metadata": {},
   "outputs": [
    {
     "name": "stderr",
     "output_type": "stream",
     "text": [
      "\u001b[36m\u001b[1m[ \u001b[22m\u001b[39m\u001b[36m\u001b[1mInfo: \u001b[22m\u001b[39mTraining machine(ContinuousEncoder(drop_last = false, …), …).\n"
     ]
    },
    {
     "data": {
      "text/html": [
       "<div><div style = \"float: left;\"><span>50×6 DataFrame</span></div><div style = \"float: right;\"><span style = \"font-style: italic;\">25 rows omitted</span></div><div style = \"clear: both;\"></div></div><div class = \"data-frame\" style = \"overflow-x: scroll;\"><table class = \"data-frame\" style = \"margin-bottom: 6px;\"><thead><tr class = \"header\"><th class = \"rowNumber\" style = \"font-weight: bold; text-align: right;\">Row</th><th style = \"text-align: left;\">rd</th><th style = \"text-align: left;\">admin</th><th style = \"text-align: left;\">spend</th><th style = \"text-align: left;\">state__California</th><th style = \"text-align: left;\">state__Florida</th><th style = \"text-align: left;\">state__New York</th></tr><tr class = \"subheader headerLastRow\"><th class = \"rowNumber\" style = \"font-weight: bold; text-align: right;\"></th><th title = \"Float64\" style = \"text-align: left;\">Float64</th><th title = \"Float64\" style = \"text-align: left;\">Float64</th><th title = \"Float64\" style = \"text-align: left;\">Float64</th><th title = \"Float64\" style = \"text-align: left;\">Float64</th><th title = \"Float64\" style = \"text-align: left;\">Float64</th><th title = \"Float64\" style = \"text-align: left;\">Float64</th></tr></thead><tbody><tr><td class = \"rowNumber\" style = \"font-weight: bold; text-align: right;\">1</td><td style = \"text-align: right;\">1.65349e5</td><td style = \"text-align: right;\">1.36898e5</td><td style = \"text-align: right;\">4.71784e5</td><td style = \"text-align: right;\">0.0</td><td style = \"text-align: right;\">0.0</td><td style = \"text-align: right;\">1.0</td></tr><tr><td class = \"rowNumber\" style = \"font-weight: bold; text-align: right;\">2</td><td style = \"text-align: right;\">1.62598e5</td><td style = \"text-align: right;\">1.51378e5</td><td style = \"text-align: right;\">4.43899e5</td><td style = \"text-align: right;\">1.0</td><td style = \"text-align: right;\">0.0</td><td style = \"text-align: right;\">0.0</td></tr><tr><td class = \"rowNumber\" style = \"font-weight: bold; text-align: right;\">3</td><td style = \"text-align: right;\">1.53442e5</td><td style = \"text-align: right;\">1.01146e5</td><td style = \"text-align: right;\">4.07935e5</td><td style = \"text-align: right;\">0.0</td><td style = \"text-align: right;\">1.0</td><td style = \"text-align: right;\">0.0</td></tr><tr><td class = \"rowNumber\" style = \"font-weight: bold; text-align: right;\">4</td><td style = \"text-align: right;\">1.44372e5</td><td style = \"text-align: right;\">1.18672e5</td><td style = \"text-align: right;\">3.832e5</td><td style = \"text-align: right;\">0.0</td><td style = \"text-align: right;\">0.0</td><td style = \"text-align: right;\">1.0</td></tr><tr><td class = \"rowNumber\" style = \"font-weight: bold; text-align: right;\">5</td><td style = \"text-align: right;\">1.42107e5</td><td style = \"text-align: right;\">91391.8</td><td style = \"text-align: right;\">3.66168e5</td><td style = \"text-align: right;\">0.0</td><td style = \"text-align: right;\">1.0</td><td style = \"text-align: right;\">0.0</td></tr><tr><td class = \"rowNumber\" style = \"font-weight: bold; text-align: right;\">6</td><td style = \"text-align: right;\">1.31877e5</td><td style = \"text-align: right;\">99814.7</td><td style = \"text-align: right;\">3.62861e5</td><td style = \"text-align: right;\">0.0</td><td style = \"text-align: right;\">0.0</td><td style = \"text-align: right;\">1.0</td></tr><tr><td class = \"rowNumber\" style = \"font-weight: bold; text-align: right;\">7</td><td style = \"text-align: right;\">1.34615e5</td><td style = \"text-align: right;\">1.47199e5</td><td style = \"text-align: right;\">1.27717e5</td><td style = \"text-align: right;\">1.0</td><td style = \"text-align: right;\">0.0</td><td style = \"text-align: right;\">0.0</td></tr><tr><td class = \"rowNumber\" style = \"font-weight: bold; text-align: right;\">8</td><td style = \"text-align: right;\">1.30298e5</td><td style = \"text-align: right;\">1.4553e5</td><td style = \"text-align: right;\">3.23877e5</td><td style = \"text-align: right;\">0.0</td><td style = \"text-align: right;\">1.0</td><td style = \"text-align: right;\">0.0</td></tr><tr><td class = \"rowNumber\" style = \"font-weight: bold; text-align: right;\">9</td><td style = \"text-align: right;\">1.20543e5</td><td style = \"text-align: right;\">148719.0</td><td style = \"text-align: right;\">3.11613e5</td><td style = \"text-align: right;\">0.0</td><td style = \"text-align: right;\">0.0</td><td style = \"text-align: right;\">1.0</td></tr><tr><td class = \"rowNumber\" style = \"font-weight: bold; text-align: right;\">10</td><td style = \"text-align: right;\">1.23335e5</td><td style = \"text-align: right;\">1.08679e5</td><td style = \"text-align: right;\">3.04982e5</td><td style = \"text-align: right;\">1.0</td><td style = \"text-align: right;\">0.0</td><td style = \"text-align: right;\">0.0</td></tr><tr><td class = \"rowNumber\" style = \"font-weight: bold; text-align: right;\">11</td><td style = \"text-align: right;\">1.01913e5</td><td style = \"text-align: right;\">1.10594e5</td><td style = \"text-align: right;\">229161.0</td><td style = \"text-align: right;\">0.0</td><td style = \"text-align: right;\">1.0</td><td style = \"text-align: right;\">0.0</td></tr><tr><td class = \"rowNumber\" style = \"font-weight: bold; text-align: right;\">12</td><td style = \"text-align: right;\">100672.0</td><td style = \"text-align: right;\">91790.6</td><td style = \"text-align: right;\">2.49745e5</td><td style = \"text-align: right;\">1.0</td><td style = \"text-align: right;\">0.0</td><td style = \"text-align: right;\">0.0</td></tr><tr><td class = \"rowNumber\" style = \"font-weight: bold; text-align: right;\">13</td><td style = \"text-align: right;\">93863.8</td><td style = \"text-align: right;\">1.2732e5</td><td style = \"text-align: right;\">2.49839e5</td><td style = \"text-align: right;\">0.0</td><td style = \"text-align: right;\">1.0</td><td style = \"text-align: right;\">0.0</td></tr><tr><td style = \"text-align: right;\">&vellip;</td><td style = \"text-align: right;\">&vellip;</td><td style = \"text-align: right;\">&vellip;</td><td style = \"text-align: right;\">&vellip;</td><td style = \"text-align: right;\">&vellip;</td><td style = \"text-align: right;\">&vellip;</td><td style = \"text-align: right;\">&vellip;</td></tr><tr><td class = \"rowNumber\" style = \"font-weight: bold; text-align: right;\">39</td><td style = \"text-align: right;\">20229.6</td><td style = \"text-align: right;\">65947.9</td><td style = \"text-align: right;\">1.85265e5</td><td style = \"text-align: right;\">0.0</td><td style = \"text-align: right;\">0.0</td><td style = \"text-align: right;\">1.0</td></tr><tr><td class = \"rowNumber\" style = \"font-weight: bold; text-align: right;\">40</td><td style = \"text-align: right;\">38558.5</td><td style = \"text-align: right;\">82982.1</td><td style = \"text-align: right;\">1.74999e5</td><td style = \"text-align: right;\">1.0</td><td style = \"text-align: right;\">0.0</td><td style = \"text-align: right;\">0.0</td></tr><tr><td class = \"rowNumber\" style = \"font-weight: bold; text-align: right;\">41</td><td style = \"text-align: right;\">28754.3</td><td style = \"text-align: right;\">1.18546e5</td><td style = \"text-align: right;\">1.72796e5</td><td style = \"text-align: right;\">1.0</td><td style = \"text-align: right;\">0.0</td><td style = \"text-align: right;\">0.0</td></tr><tr><td class = \"rowNumber\" style = \"font-weight: bold; text-align: right;\">42</td><td style = \"text-align: right;\">27892.9</td><td style = \"text-align: right;\">84710.8</td><td style = \"text-align: right;\">1.64471e5</td><td style = \"text-align: right;\">0.0</td><td style = \"text-align: right;\">1.0</td><td style = \"text-align: right;\">0.0</td></tr><tr><td class = \"rowNumber\" style = \"font-weight: bold; text-align: right;\">43</td><td style = \"text-align: right;\">23640.9</td><td style = \"text-align: right;\">96189.6</td><td style = \"text-align: right;\">1.48001e5</td><td style = \"text-align: right;\">1.0</td><td style = \"text-align: right;\">0.0</td><td style = \"text-align: right;\">0.0</td></tr><tr><td class = \"rowNumber\" style = \"font-weight: bold; text-align: right;\">44</td><td style = \"text-align: right;\">15505.7</td><td style = \"text-align: right;\">1.27382e5</td><td style = \"text-align: right;\">35534.2</td><td style = \"text-align: right;\">0.0</td><td style = \"text-align: right;\">0.0</td><td style = \"text-align: right;\">1.0</td></tr><tr><td class = \"rowNumber\" style = \"font-weight: bold; text-align: right;\">45</td><td style = \"text-align: right;\">22177.7</td><td style = \"text-align: right;\">1.54806e5</td><td style = \"text-align: right;\">28334.7</td><td style = \"text-align: right;\">1.0</td><td style = \"text-align: right;\">0.0</td><td style = \"text-align: right;\">0.0</td></tr><tr><td class = \"rowNumber\" style = \"font-weight: bold; text-align: right;\">46</td><td style = \"text-align: right;\">1000.23</td><td style = \"text-align: right;\">124153.0</td><td style = \"text-align: right;\">1903.93</td><td style = \"text-align: right;\">0.0</td><td style = \"text-align: right;\">0.0</td><td style = \"text-align: right;\">1.0</td></tr><tr><td class = \"rowNumber\" style = \"font-weight: bold; text-align: right;\">47</td><td style = \"text-align: right;\">1315.46</td><td style = \"text-align: right;\">1.15816e5</td><td style = \"text-align: right;\">2.97114e5</td><td style = \"text-align: right;\">0.0</td><td style = \"text-align: right;\">1.0</td><td style = \"text-align: right;\">0.0</td></tr><tr><td class = \"rowNumber\" style = \"font-weight: bold; text-align: right;\">48</td><td style = \"text-align: right;\">0.0</td><td style = \"text-align: right;\">1.35427e5</td><td style = \"text-align: right;\">0.0</td><td style = \"text-align: right;\">1.0</td><td style = \"text-align: right;\">0.0</td><td style = \"text-align: right;\">0.0</td></tr><tr><td class = \"rowNumber\" style = \"font-weight: bold; text-align: right;\">49</td><td style = \"text-align: right;\">542.05</td><td style = \"text-align: right;\">51743.2</td><td style = \"text-align: right;\">0.0</td><td style = \"text-align: right;\">0.0</td><td style = \"text-align: right;\">0.0</td><td style = \"text-align: right;\">1.0</td></tr><tr><td class = \"rowNumber\" style = \"font-weight: bold; text-align: right;\">50</td><td style = \"text-align: right;\">0.0</td><td style = \"text-align: right;\">1.16984e5</td><td style = \"text-align: right;\">45173.1</td><td style = \"text-align: right;\">1.0</td><td style = \"text-align: right;\">0.0</td><td style = \"text-align: right;\">0.0</td></tr></tbody></table></div>"
      ],
      "text/latex": [
       "\\begin{tabular}{r|cccccc}\n",
       "\t& rd & admin & spend & state\\_\\_California & state\\_\\_Florida & state\\_\\_New York\\\\\n",
       "\t\\hline\n",
       "\t& Float64 & Float64 & Float64 & Float64 & Float64 & Float64\\\\\n",
       "\t\\hline\n",
       "\t1 & 1.65349e5 & 1.36898e5 & 4.71784e5 & 0.0 & 0.0 & 1.0 \\\\\n",
       "\t2 & 1.62598e5 & 1.51378e5 & 4.43899e5 & 1.0 & 0.0 & 0.0 \\\\\n",
       "\t3 & 1.53442e5 & 1.01146e5 & 4.07935e5 & 0.0 & 1.0 & 0.0 \\\\\n",
       "\t4 & 1.44372e5 & 1.18672e5 & 3.832e5 & 0.0 & 0.0 & 1.0 \\\\\n",
       "\t5 & 1.42107e5 & 91391.8 & 3.66168e5 & 0.0 & 1.0 & 0.0 \\\\\n",
       "\t6 & 1.31877e5 & 99814.7 & 3.62861e5 & 0.0 & 0.0 & 1.0 \\\\\n",
       "\t7 & 1.34615e5 & 1.47199e5 & 1.27717e5 & 1.0 & 0.0 & 0.0 \\\\\n",
       "\t8 & 1.30298e5 & 1.4553e5 & 3.23877e5 & 0.0 & 1.0 & 0.0 \\\\\n",
       "\t9 & 1.20543e5 & 148719.0 & 3.11613e5 & 0.0 & 0.0 & 1.0 \\\\\n",
       "\t10 & 1.23335e5 & 1.08679e5 & 3.04982e5 & 1.0 & 0.0 & 0.0 \\\\\n",
       "\t11 & 1.01913e5 & 1.10594e5 & 229161.0 & 0.0 & 1.0 & 0.0 \\\\\n",
       "\t12 & 100672.0 & 91790.6 & 2.49745e5 & 1.0 & 0.0 & 0.0 \\\\\n",
       "\t13 & 93863.8 & 1.2732e5 & 2.49839e5 & 0.0 & 1.0 & 0.0 \\\\\n",
       "\t14 & 91992.4 & 1.35495e5 & 2.52665e5 & 1.0 & 0.0 & 0.0 \\\\\n",
       "\t15 & 1.19943e5 & 1.56547e5 & 2.56513e5 & 0.0 & 1.0 & 0.0 \\\\\n",
       "\t16 & 1.14524e5 & 1.22617e5 & 2.61776e5 & 0.0 & 0.0 & 1.0 \\\\\n",
       "\t17 & 78013.1 & 1.21598e5 & 2.64346e5 & 1.0 & 0.0 & 0.0 \\\\\n",
       "\t18 & 94657.2 & 1.45078e5 & 2.82574e5 & 0.0 & 0.0 & 1.0 \\\\\n",
       "\t19 & 91749.2 & 1.14176e5 & 2.9492e5 & 0.0 & 1.0 & 0.0 \\\\\n",
       "\t20 & 86419.7 & 1.53514e5 & 0.0 & 0.0 & 0.0 & 1.0 \\\\\n",
       "\t21 & 76253.9 & 1.13867e5 & 2.98664e5 & 1.0 & 0.0 & 0.0 \\\\\n",
       "\t22 & 78389.5 & 1.53773e5 & 2.99737e5 & 0.0 & 0.0 & 1.0 \\\\\n",
       "\t23 & 73994.6 & 1.22783e5 & 3.03319e5 & 0.0 & 1.0 & 0.0 \\\\\n",
       "\t24 & 67532.5 & 105751.0 & 3.04769e5 & 0.0 & 1.0 & 0.0 \\\\\n",
       "\t25 & 77044.0 & 99281.3 & 1.40575e5 & 0.0 & 0.0 & 1.0 \\\\\n",
       "\t26 & 64664.7 & 1.39553e5 & 1.37963e5 & 1.0 & 0.0 & 0.0 \\\\\n",
       "\t27 & 75328.9 & 144136.0 & 1.3405e5 & 0.0 & 1.0 & 0.0 \\\\\n",
       "\t28 & 72107.6 & 1.27865e5 & 3.53184e5 & 0.0 & 0.0 & 1.0 \\\\\n",
       "\t29 & 66051.5 & 1.82646e5 & 1.18148e5 & 0.0 & 1.0 & 0.0 \\\\\n",
       "\t30 & 65605.5 & 1.53032e5 & 1.07138e5 & 0.0 & 0.0 & 1.0 \\\\\n",
       "\t$\\dots$ & $\\dots$ & $\\dots$ & $\\dots$ & $\\dots$ & $\\dots$ & $\\dots$ \\\\\n",
       "\\end{tabular}\n"
      ],
      "text/plain": [
       "\u001b[1m50×6 DataFrame\u001b[0m\n",
       "\u001b[1m Row \u001b[0m│\u001b[1m rd             \u001b[0m\u001b[1m admin          \u001b[0m\u001b[1m spend          \u001b[0m\u001b[1m state__California \u001b[0m\u001b[1m stat\u001b[0m ⋯\n",
       "     │\u001b[90m Float64        \u001b[0m\u001b[90m Float64        \u001b[0m\u001b[90m Float64        \u001b[0m\u001b[90m Float64           \u001b[0m\u001b[90m Floa\u001b[0m ⋯\n",
       "─────┼──────────────────────────────────────────────────────────────────────────\n",
       "   1 │      1.65349e5       1.36898e5       4.71784e5                0.0       ⋯\n",
       "   2 │      1.62598e5       1.51378e5       4.43899e5                1.0\n",
       "   3 │      1.53442e5       1.01146e5       4.07935e5                0.0\n",
       "   4 │      1.44372e5       1.18672e5       3.832e5                  0.0\n",
       "   5 │      1.42107e5   91391.8             3.66168e5                0.0       ⋯\n",
       "   6 │      1.31877e5   99814.7             3.62861e5                0.0\n",
       "   7 │      1.34615e5       1.47199e5       1.27717e5                1.0\n",
       "   8 │      1.30298e5       1.4553e5        3.23877e5                0.0\n",
       "   9 │      1.20543e5  148719.0             3.11613e5                0.0       ⋯\n",
       "  10 │      1.23335e5       1.08679e5       3.04982e5                1.0\n",
       "  11 │      1.01913e5       1.10594e5  229161.0                      0.0\n",
       "  ⋮  │       ⋮               ⋮               ⋮                 ⋮               ⋱\n",
       "  41 │  28754.3             1.18546e5       1.72796e5                1.0\n",
       "  42 │  27892.9         84710.8             1.64471e5                0.0       ⋯\n",
       "  43 │  23640.9         96189.6             1.48001e5                1.0\n",
       "  44 │  15505.7             1.27382e5   35534.2                      0.0\n",
       "  45 │  22177.7             1.54806e5   28334.7                      1.0\n",
       "  46 │   1000.23       124153.0          1903.93                     0.0       ⋯\n",
       "  47 │   1315.46            1.15816e5       2.97114e5                0.0\n",
       "  48 │      0.0             1.35427e5       0.0                      1.0\n",
       "  49 │    542.05        51743.2             0.0                      0.0\n",
       "  50 │      0.0             1.16984e5   45173.1                      1.0       ⋯\n",
       "\u001b[36m                                                   2 columns and 29 rows omitted\u001b[0m"
      ]
     },
     "execution_count": 32,
     "metadata": {},
     "output_type": "execute_result"
    }
   ],
   "source": [
    "ce = ContinuousEncoder()\n",
    "X = machine(ce, X) |> fit! |> MLJ.transform"
   ]
  },
  {
   "cell_type": "markdown",
   "id": "b2f14d13-f165-4a81-ba59-6bac0d163218",
   "metadata": {},
   "source": [
    "Extract target vector"
   ]
  },
  {
   "cell_type": "code",
   "execution_count": 33,
   "id": "35c11590-822c-4d7b-8b20-8c0a2f00cded",
   "metadata": {},
   "outputs": [
    {
     "data": {
      "text/plain": [
       "5-element Vector{Float64}:\n",
       " 192261.83\n",
       " 191792.06\n",
       " 191050.39\n",
       " 182901.99\n",
       " 166187.94"
      ]
     },
     "execution_count": 33,
     "metadata": {},
     "output_type": "execute_result"
    }
   ],
   "source": [
    "y = df.Profit\n",
    "first(y, 5)"
   ]
  },
  {
   "cell_type": "markdown",
   "id": "fc627170-fe7e-4bfa-aed8-c462438ad15f",
   "metadata": {},
   "source": [
    "Preparing for the split"
   ]
  },
  {
   "cell_type": "code",
   "execution_count": 34,
   "id": "d9e1661b-3d17-485b-848d-c1806d3cd46e",
   "metadata": {},
   "outputs": [
    {
     "data": {
      "text/plain": [
       "([141585.52, 192261.83, 81005.76, 156991.12, 96778.92, 69758.98, 78239.91, 96712.8, 14681.4, 125370.37  …  134307.35, 182901.99, 129917.04, 71498.49, 77798.83, 191050.39, 99937.59, 108552.04, 42559.73, 132602.65], [166187.94, 35673.41, 105008.31, 107404.34, 126992.93, 118474.03, 105733.54, 124266.9, 146121.95, 96479.51])"
      ]
     },
     "execution_count": 34,
     "metadata": {},
     "output_type": "execute_result"
    }
   ],
   "source": [
    "train, test = partition(eachindex(y), 0.8, shuffle=true, rng=123)\n",
    "Xtrain, Xtest = X[train, :], X[test, :]\n",
    "ytrain, ytest = y[train], y[test]"
   ]
  },
  {
   "cell_type": "markdown",
   "id": "531123c1-98ad-4d33-833d-89ccc0fde112",
   "metadata": {},
   "source": [
    "Load & instantiate the linear regression model"
   ]
  },
  {
   "cell_type": "code",
   "execution_count": 35,
   "id": "2d04faeb-a23a-437a-8ceb-f4867e688771",
   "metadata": {},
   "outputs": [
    {
     "name": "stdout",
     "output_type": "stream",
     "text": [
      "import MLJLinearModels ✔\n"
     ]
    },
    {
     "name": "stderr",
     "output_type": "stream",
     "text": [
      "\u001b[36m\u001b[1m[ \u001b[22m\u001b[39m\u001b[36m\u001b[1mInfo: \u001b[22m\u001b[39mFor silent loading, specify `verbosity=0`. \n"
     ]
    },
    {
     "data": {
      "text/plain": [
       "LinearRegressor(\n",
       "  fit_intercept = true, \n",
       "  solver = nothing)"
      ]
     },
     "execution_count": 35,
     "metadata": {},
     "output_type": "execute_result"
    }
   ],
   "source": [
    "LR = @load LinearRegressor pkg=MLJLinearModels\n",
    "lr_ = LR()"
   ]
  },
  {
   "cell_type": "markdown",
   "id": "4f05993f-0c0e-48cc-9ebc-cb5d9714e16b",
   "metadata": {},
   "source": [
    "You may want to see [MLJLinearModels.jl](https://github.com/JuliaAI/MLJLinearModels.jl) and the unwrapped model type [`MLJLinearModels.LinearRegressor`](@ref)."
   ]
  },
  {
   "cell_type": "markdown",
   "id": "2006c83d-3502-43e5-ae02-14ea1808c663",
   "metadata": {},
   "source": [
    "Train & fit"
   ]
  },
  {
   "cell_type": "code",
   "execution_count": 36,
   "id": "8dd8c867-3509-495e-b0fd-7e0c07e2e3c5",
   "metadata": {},
   "outputs": [
    {
     "name": "stderr",
     "output_type": "stream",
     "text": [
      "\u001b[36m\u001b[1m[ \u001b[22m\u001b[39m\u001b[36m\u001b[1mInfo: \u001b[22m\u001b[39mTraining machine(LinearRegressor(fit_intercept = true, …), …).\n",
      "\u001b[36m\u001b[1m┌ \u001b[22m\u001b[39m\u001b[36m\u001b[1mInfo: \u001b[22m\u001b[39mSolver: MLJLinearModels.Analytical\n",
      "\u001b[36m\u001b[1m│ \u001b[22m\u001b[39m  iterative: Bool false\n",
      "\u001b[36m\u001b[1m└ \u001b[22m\u001b[39m  max_inner: Int64 200\n"
     ]
    },
    {
     "data": {
      "text/plain": [
       "trained Machine; caches model-specific representations of data\n",
       "  model: LinearRegressor(fit_intercept = true, …)\n",
       "  args: \n",
       "    1:\tSource @076 ⏎ Table{AbstractVector{Continuous}}\n",
       "    2:\tSource @486 ⏎ AbstractVector{Continuous}\n"
      ]
     },
     "execution_count": 36,
     "metadata": {},
     "output_type": "execute_result"
    }
   ],
   "source": [
    "lr = machine(lr_, Xtrain, ytrain) |> fit!"
   ]
  },
  {
   "cell_type": "code",
   "execution_count": 37,
   "id": "1e206d74-5061-4314-888a-cb33030f4ef7",
   "metadata": {},
   "outputs": [
    {
     "name": "stdout",
     "output_type": "stream",
     "text": [
      "Params of fitted model are (coefs = [:rd => 0.8067542137953414, :admin => -0.059568121802828326, :spend => 0.022762283966771147, :state__California => 12083.23505192103, :state__Florida => 14411.229064864907, Symbol(\"state__New York\") => 14895.729389423832], intercept = 41390.193506209755)\n"
     ]
    }
   ],
   "source": [
    "println(\"Params of fitted model are $(fitted_params(lr))\")"
   ]
  },
  {
   "cell_type": "markdown",
   "id": "1bde2ec9-ee79-44a8-a654-c93de60ff415",
   "metadata": {},
   "source": [
    "Prediction"
   ]
  },
  {
   "cell_type": "code",
   "execution_count": 38,
   "id": "00719199-35f6-4a3b-bbdc-44f7f9323ad5",
   "metadata": {},
   "outputs": [
    {
     "data": {
      "text/plain": [
       "10-element Vector{Float64}:\n",
       " 173337.91139588977\n",
       "  53640.98175555933\n",
       " 114881.65212932485\n",
       " 100469.38053487468\n",
       " 115184.61619580188\n",
       " 115006.97571245683\n",
       " 111038.68201031166\n",
       " 129732.24964730153\n",
       " 136648.57250477604\n",
       "  93019.86204121861"
      ]
     },
     "execution_count": 38,
     "metadata": {},
     "output_type": "execute_result"
    }
   ],
   "source": [
    "yhat_lr = predict(lr, Xtest)"
   ]
  },
  {
   "cell_type": "markdown",
   "id": "8cb9b527-d507-44b4-8fde-b46e6fa9a8fc",
   "metadata": {},
   "source": [
    "Results & metrics"
   ]
  },
  {
   "cell_type": "code",
   "execution_count": 39,
   "id": "52a2fb2c-2127-4f61-a27f-26d6249bbcb5",
   "metadata": {},
   "outputs": [
    {
     "name": "stdout",
     "output_type": "stream",
     "text": [
      "Error is 8.307176373525837e7\n"
     ]
    }
   ],
   "source": [
    "println(\"Error is $(sum((yhat_lr .- ytest).^2) ./ length(ytest))\")"
   ]
  },
  {
   "cell_type": "markdown",
   "id": "97933195-c0ac-4518-8634-e0ac1d0b5973",
   "metadata": {},
   "source": [
    "Using `MLJ` Builtin Methods For Evaluation"
   ]
  },
  {
   "cell_type": "code",
   "execution_count": 40,
   "id": "46a27abb-3cbd-493c-8cf4-263a61e406ce",
   "metadata": {},
   "outputs": [
    {
     "data": {
      "text/plain": [
       "PerformanceEvaluation object with these fields:\n",
       "  model, measure, operation,\n",
       "  measurement, per_fold, per_observation,\n",
       "  fitted_params_per_fold, report_per_fold,\n",
       "  train_test_rows, resampling, repeats\n",
       "Extract:\n",
       "┌───┬────────────────────────┬───────────┬─────────────┐\n",
       "│\u001b[22m   \u001b[0m│\u001b[22m measure                \u001b[0m│\u001b[22m operation \u001b[0m│\u001b[22m measurement \u001b[0m│\n",
       "├───┼────────────────────────┼───────────┼─────────────┤\n",
       "│ A │ LPLoss(                │ predict   │ 6930.0      │\n",
       "│   │   p = 1)               │           │             │\n",
       "│ B │ LPLoss(                │ predict   │ 9.7e7       │\n",
       "│   │   p = 2)               │           │             │\n",
       "│ C │ RootMeanSquaredError() │ predict   │ 9850.0      │\n",
       "└───┴────────────────────────┴───────────┴─────────────┘\n",
       "┌───┬───────────────────────────────────────────────────┬─────────┐\n",
       "│\u001b[22m   \u001b[0m│\u001b[22m per_fold                                          \u001b[0m│\u001b[22m 1.96*SE \u001b[0m│\n",
       "├───┼───────────────────────────────────────────────────┼─────────┤\n",
       "│ A │ [5980.0, 8230.0, 6430.0, 7190.0, 6880.0, 6850.0]  │ 670.0   │\n",
       "│ B │ [5.21e7, 2.04e8, 6.79e7, 8.82e7, 8.44e7, 8.13e7]  │ 4.76e7  │\n",
       "│ C │ [7220.0, 14300.0, 8240.0, 9390.0, 9190.0, 9020.0] │ 2150.0  │\n",
       "└───┴───────────────────────────────────────────────────┴─────────┘\n"
      ]
     },
     "execution_count": 40,
     "metadata": {},
     "output_type": "execute_result"
    }
   ],
   "source": [
    "MLJ.evaluate!(lr, measure=[l1, l2, rms])"
   ]
  },
  {
   "cell_type": "markdown",
   "id": "3a218fbf-fe86-40c6-8c95-df99a24da439",
   "metadata": {},
   "source": [
    "### RIDGE REGRESSOR"
   ]
  },
  {
   "cell_type": "markdown",
   "id": "086445b6-d6bc-4c1a-b502-b78c99f0e3ca",
   "metadata": {},
   "source": [
    "Load Ridge Regressor"
   ]
  },
  {
   "cell_type": "code",
   "execution_count": 41,
   "id": "de172049-78f4-4ba8-8288-04fb52f7d5a7",
   "metadata": {},
   "outputs": [
    {
     "name": "stdout",
     "output_type": "stream",
     "text": [
      "import MLJLinearModels ✔\n"
     ]
    },
    {
     "name": "stderr",
     "output_type": "stream",
     "text": [
      "\u001b[36m\u001b[1m[ \u001b[22m\u001b[39m\u001b[36m\u001b[1mInfo: \u001b[22m\u001b[39mFor silent loading, specify `verbosity=0`. \n"
     ]
    },
    {
     "data": {
      "text/plain": [
       "RidgeRegressor(\n",
       "  lambda = 1.0, \n",
       "  fit_intercept = true, \n",
       "  penalize_intercept = false, \n",
       "  scale_penalty_with_samples = true, \n",
       "  solver = nothing)"
      ]
     },
     "execution_count": 41,
     "metadata": {},
     "output_type": "execute_result"
    }
   ],
   "source": [
    "RIDGE = @load RidgeRegressor pkg=MLJLinearModels\n",
    "ridge_= RIDGE()"
   ]
  },
  {
   "cell_type": "markdown",
   "id": "3c29b95f-55d0-46af-bb4e-cb0226b18f84",
   "metadata": {},
   "source": [
    "Train & fit the model"
   ]
  },
  {
   "cell_type": "code",
   "execution_count": 42,
   "id": "10d9fca6-c0d8-4f4b-b5e6-ae1b3d91f29e",
   "metadata": {},
   "outputs": [
    {
     "name": "stderr",
     "output_type": "stream",
     "text": [
      "\u001b[36m\u001b[1m[ \u001b[22m\u001b[39m\u001b[36m\u001b[1mInfo: \u001b[22m\u001b[39mTraining machine(RidgeRegressor(lambda = 1.0, …), …).\n",
      "\u001b[36m\u001b[1m┌ \u001b[22m\u001b[39m\u001b[36m\u001b[1mInfo: \u001b[22m\u001b[39mSolver: MLJLinearModels.Analytical\n",
      "\u001b[36m\u001b[1m│ \u001b[22m\u001b[39m  iterative: Bool false\n",
      "\u001b[36m\u001b[1m└ \u001b[22m\u001b[39m  max_inner: Int64 200\n"
     ]
    },
    {
     "data": {
      "text/plain": [
       "trained Machine; caches model-specific representations of data\n",
       "  model: RidgeRegressor(lambda = 1.0, …)\n",
       "  args: \n",
       "    1:\tSource @558 ⏎ Table{AbstractVector{Continuous}}\n",
       "    2:\tSource @353 ⏎ AbstractVector{Continuous}\n"
      ]
     },
     "execution_count": 42,
     "metadata": {},
     "output_type": "execute_result"
    }
   ],
   "source": [
    "ridge = machine(ridge_, Xtrain, ytrain) |> fit!"
   ]
  },
  {
   "cell_type": "markdown",
   "id": "c45a0191-1dc3-40b6-bea0-56d884f228fb",
   "metadata": {},
   "source": [
    "Evalute the model"
   ]
  },
  {
   "cell_type": "code",
   "execution_count": 43,
   "id": "c8688385-e7de-4ba4-84b3-48040cbf3b45",
   "metadata": {},
   "outputs": [
    {
     "data": {
      "text/plain": [
       "10-element Vector{Float64}:\n",
       " 172909.65191869333\n",
       "  52126.327416694454\n",
       " 114294.63957730228\n",
       " 101709.69584437693\n",
       " 116533.43856843302\n",
       " 116372.01940383684\n",
       " 110517.84747695309\n",
       " 129314.14733884853\n",
       " 136106.22660861057\n",
       "  91989.37995523964"
      ]
     },
     "execution_count": 43,
     "metadata": {},
     "output_type": "execute_result"
    }
   ],
   "source": [
    "yhat_ridge = predict(ridge, Xtest)"
   ]
  },
  {
   "cell_type": "code",
   "execution_count": 44,
   "id": "f3a48c40-f4cd-4692-aff1-23c499237202",
   "metadata": {},
   "outputs": [
    {
     "name": "stdout",
     "output_type": "stream",
     "text": [
      "Error is 7.172044878745562e7\n"
     ]
    }
   ],
   "source": [
    "println(\"Error is $(sum((yhat_ridge .- ytest).^2) ./ length(ytest))\")"
   ]
  },
  {
   "cell_type": "markdown",
   "id": "58d63c2d-5eb1-49cb-b8f2-aebdeb78eff9",
   "metadata": {},
   "source": [
    "### LASSO REGRESSOR"
   ]
  },
  {
   "cell_type": "markdown",
   "id": "64af086a-0481-43de-adb8-753a193a1a01",
   "metadata": {},
   "source": [
    "Load Lasso Regressor"
   ]
  },
  {
   "cell_type": "code",
   "execution_count": 45,
   "id": "8d49b66b-5742-4536-8583-c0f66c6346d1",
   "metadata": {},
   "outputs": [
    {
     "name": "stdout",
     "output_type": "stream",
     "text": [
      "import MLJLinearModels ✔\n"
     ]
    },
    {
     "name": "stderr",
     "output_type": "stream",
     "text": [
      "\u001b[36m\u001b[1m[ \u001b[22m\u001b[39m\u001b[36m\u001b[1mInfo: \u001b[22m\u001b[39mFor silent loading, specify `verbosity=0`. \n"
     ]
    },
    {
     "data": {
      "text/plain": [
       "LassoRegressor(\n",
       "  lambda = 1.0, \n",
       "  fit_intercept = true, \n",
       "  penalize_intercept = false, \n",
       "  scale_penalty_with_samples = true, \n",
       "  solver = nothing)"
      ]
     },
     "execution_count": 45,
     "metadata": {},
     "output_type": "execute_result"
    }
   ],
   "source": [
    "LASSO = @load LassoRegressor pkg=MLJLinearModels\n",
    "lasso_= LASSO()"
   ]
  },
  {
   "cell_type": "markdown",
   "id": "d790c77a-29d7-4be0-a17d-ac04d4015e50",
   "metadata": {},
   "source": [
    "Train & fit the model"
   ]
  },
  {
   "cell_type": "code",
   "execution_count": 46,
   "id": "f4dcaa30-5d53-4db9-97fc-b5e5bda47e18",
   "metadata": {},
   "outputs": [
    {
     "name": "stderr",
     "output_type": "stream",
     "text": [
      "\u001b[36m\u001b[1m[ \u001b[22m\u001b[39m\u001b[36m\u001b[1mInfo: \u001b[22m\u001b[39mTraining machine(LassoRegressor(lambda = 1.0, …), …).\n",
      "\u001b[36m\u001b[1m┌ \u001b[22m\u001b[39m\u001b[36m\u001b[1mInfo: \u001b[22m\u001b[39mSolver: MLJLinearModels.ProxGrad\n",
      "\u001b[36m\u001b[1m│ \u001b[22m\u001b[39m  accel: Bool true\n",
      "\u001b[36m\u001b[1m│ \u001b[22m\u001b[39m  max_iter: Int64 1000\n",
      "\u001b[36m\u001b[1m│ \u001b[22m\u001b[39m  tol: Float64 0.0001\n",
      "\u001b[36m\u001b[1m│ \u001b[22m\u001b[39m  max_inner: Int64 100\n",
      "\u001b[36m\u001b[1m│ \u001b[22m\u001b[39m  beta: Float64 0.8\n",
      "\u001b[36m\u001b[1m└ \u001b[22m\u001b[39m  gram: Bool false\n",
      "\u001b[33m\u001b[1m┌ \u001b[22m\u001b[39m\u001b[33m\u001b[1mWarning: \u001b[22m\u001b[39mNo appropriate stepsize found via backtracking; interrupting. The reason could be input data that is not standardized.\n",
      "\u001b[33m\u001b[1m└ \u001b[22m\u001b[39m\u001b[90m@ MLJLinearModels ~/.julia/packages/MLJLinearModels/yYgtO/src/fit/proxgrad.jl:59\u001b[39m\n",
      "\u001b[33m\u001b[1m┌ \u001b[22m\u001b[39m\u001b[33m\u001b[1mWarning: \u001b[22m\u001b[39mProximal GD did not converge in 1000 iterations.\n",
      "\u001b[33m\u001b[1m└ \u001b[22m\u001b[39m\u001b[90m@ MLJLinearModels ~/.julia/packages/MLJLinearModels/yYgtO/src/fit/proxgrad.jl:73\u001b[39m\n"
     ]
    },
    {
     "data": {
      "text/plain": [
       "trained Machine; caches model-specific representations of data\n",
       "  model: LassoRegressor(lambda = 1.0, …)\n",
       "  args: \n",
       "    1:\tSource @989 ⏎ Table{AbstractVector{Continuous}}\n",
       "    2:\tSource @140 ⏎ AbstractVector{Continuous}\n"
      ]
     },
     "execution_count": 46,
     "metadata": {},
     "output_type": "execute_result"
    }
   ],
   "source": [
    "lasso = machine(lasso_, Xtrain, ytrain) |> fit!"
   ]
  },
  {
   "cell_type": "markdown",
   "id": "4cefabcb-8a43-4fd4-9c4a-eafe57e76456",
   "metadata": {},
   "source": [
    "Evalute the model"
   ]
  },
  {
   "cell_type": "code",
   "execution_count": 47,
   "id": "ceeb0812-d33d-42b5-b305-96536fc5df96",
   "metadata": {},
   "outputs": [
    {
     "data": {
      "text/plain": [
       "10-element Vector{Float64}:\n",
       " 0.0\n",
       " 0.0\n",
       " 0.0\n",
       " 0.0\n",
       " 0.0\n",
       " 0.0\n",
       " 0.0\n",
       " 0.0\n",
       " 0.0\n",
       " 0.0"
      ]
     },
     "execution_count": 47,
     "metadata": {},
     "output_type": "execute_result"
    }
   ],
   "source": [
    "yhat_lasso = predict(lasso, Xtest)"
   ]
  },
  {
   "cell_type": "code",
   "execution_count": 48,
   "id": "ecd22e6e-e47b-4b28-b00a-e5297752c0e5",
   "metadata": {},
   "outputs": [
    {
     "name": "stdout",
     "output_type": "stream",
     "text": [
      "Error is 1.388985250949734e10\n"
     ]
    }
   ],
   "source": [
    "println(\"Error is $(sum((yhat_lasso .- ytest).^2) ./ length(ytest))\")"
   ]
  },
  {
   "cell_type": "markdown",
   "id": "019901c7-454c-4f0c-81f2-fee17d5d1bca",
   "metadata": {},
   "source": [
    "### ELASTIC NET REGRESSOR"
   ]
  },
  {
   "cell_type": "markdown",
   "id": "b2f2ad08-907a-422a-b198-16230b091847",
   "metadata": {},
   "source": [
    "Load Elastic Net Regressor"
   ]
  },
  {
   "cell_type": "code",
   "execution_count": 49,
   "id": "86b6f3ee-2ed2-47ba-8e21-5fd2162384a5",
   "metadata": {},
   "outputs": [
    {
     "name": "stdout",
     "output_type": "stream",
     "text": [
      "import MLJLinearModels ✔\n"
     ]
    },
    {
     "name": "stderr",
     "output_type": "stream",
     "text": [
      "\u001b[36m\u001b[1m[ \u001b[22m\u001b[39m\u001b[36m\u001b[1mInfo: \u001b[22m\u001b[39mFor silent loading, specify `verbosity=0`. \n"
     ]
    },
    {
     "data": {
      "text/plain": [
       "ElasticNetRegressor(\n",
       "  lambda = 0.2, \n",
       "  gamma = 0.0, \n",
       "  fit_intercept = true, \n",
       "  penalize_intercept = false, \n",
       "  scale_penalty_with_samples = true, \n",
       "  solver = nothing)"
      ]
     },
     "execution_count": 49,
     "metadata": {},
     "output_type": "execute_result"
    }
   ],
   "source": [
    "EN = @load ElasticNetRegressor pkg=MLJLinearModels\n",
    "en_= EN(lambda=.2)"
   ]
  },
  {
   "cell_type": "markdown",
   "id": "d33c56be-8da4-487d-855d-5447b3228f49",
   "metadata": {},
   "source": [
    "Train & fit the model"
   ]
  },
  {
   "cell_type": "code",
   "execution_count": 50,
   "id": "c8c35683-6b10-4e4c-b64a-fd7a5312a04f",
   "metadata": {},
   "outputs": [
    {
     "name": "stderr",
     "output_type": "stream",
     "text": [
      "\u001b[36m\u001b[1m[ \u001b[22m\u001b[39m\u001b[36m\u001b[1mInfo: \u001b[22m\u001b[39mTraining machine(ElasticNetRegressor(lambda = 0.2, …), …).\n",
      "\u001b[36m\u001b[1m┌ \u001b[22m\u001b[39m\u001b[36m\u001b[1mInfo: \u001b[22m\u001b[39mSolver: MLJLinearModels.ProxGrad\n",
      "\u001b[36m\u001b[1m│ \u001b[22m\u001b[39m  accel: Bool true\n",
      "\u001b[36m\u001b[1m│ \u001b[22m\u001b[39m  max_iter: Int64 1000\n",
      "\u001b[36m\u001b[1m│ \u001b[22m\u001b[39m  tol: Float64 0.0001\n",
      "\u001b[36m\u001b[1m│ \u001b[22m\u001b[39m  max_inner: Int64 100\n",
      "\u001b[36m\u001b[1m│ \u001b[22m\u001b[39m  beta: Float64 0.8\n",
      "\u001b[36m\u001b[1m└ \u001b[22m\u001b[39m  gram: Bool false\n",
      "\u001b[33m\u001b[1m┌ \u001b[22m\u001b[39m\u001b[33m\u001b[1mWarning: \u001b[22m\u001b[39mNo appropriate stepsize found via backtracking; interrupting. The reason could be input data that is not standardized.\n",
      "\u001b[33m\u001b[1m└ \u001b[22m\u001b[39m\u001b[90m@ MLJLinearModels ~/.julia/packages/MLJLinearModels/yYgtO/src/fit/proxgrad.jl:59\u001b[39m\n",
      "\u001b[33m\u001b[1m┌ \u001b[22m\u001b[39m\u001b[33m\u001b[1mWarning: \u001b[22m\u001b[39mProximal GD did not converge in 1000 iterations.\n",
      "\u001b[33m\u001b[1m└ \u001b[22m\u001b[39m\u001b[90m@ MLJLinearModels ~/.julia/packages/MLJLinearModels/yYgtO/src/fit/proxgrad.jl:73\u001b[39m\n"
     ]
    },
    {
     "data": {
      "text/plain": [
       "trained Machine; caches model-specific representations of data\n",
       "  model: ElasticNetRegressor(lambda = 0.2, …)\n",
       "  args: \n",
       "    1:\tSource @149 ⏎ Table{AbstractVector{Continuous}}\n",
       "    2:\tSource @338 ⏎ AbstractVector{Continuous}\n"
      ]
     },
     "execution_count": 50,
     "metadata": {},
     "output_type": "execute_result"
    }
   ],
   "source": [
    "en = machine(en_, Xtrain, ytrain) |> fit!"
   ]
  },
  {
   "cell_type": "markdown",
   "id": "87823268-900b-4e6a-af0a-8bd0eecf6220",
   "metadata": {},
   "source": [
    "Evalute the model"
   ]
  },
  {
   "cell_type": "code",
   "execution_count": 51,
   "id": "5d813e89-d558-4632-8d3e-927dce03be20",
   "metadata": {},
   "outputs": [
    {
     "data": {
      "text/plain": [
       "10-element Vector{Float64}:\n",
       " 0.0\n",
       " 0.0\n",
       " 0.0\n",
       " 0.0\n",
       " 0.0\n",
       " 0.0\n",
       " 0.0\n",
       " 0.0\n",
       " 0.0\n",
       " 0.0"
      ]
     },
     "execution_count": 51,
     "metadata": {},
     "output_type": "execute_result"
    }
   ],
   "source": [
    "yhat_en = predict(en, Xtest)"
   ]
  },
  {
   "cell_type": "code",
   "execution_count": 52,
   "id": "95e9e7e0-15db-430e-98b5-5e0c3b01f90c",
   "metadata": {},
   "outputs": [
    {
     "name": "stdout",
     "output_type": "stream",
     "text": [
      "Error is 1.388985250949734e10\n"
     ]
    }
   ],
   "source": [
    "println(\"Error is $(sum((yhat_en .- ytest).^2) ./ length(ytest))\")"
   ]
  }
 ],
 "metadata": {
  "kernelspec": {
   "display_name": "IJulia 1.11.1",
   "language": "julia",
   "name": "ijulia-1.11"
  },
  "language_info": {
   "file_extension": ".jl",
   "mimetype": "application/julia",
   "name": "julia",
   "version": "1.11.1"
  }
 },
 "nbformat": 4,
 "nbformat_minor": 5
}
