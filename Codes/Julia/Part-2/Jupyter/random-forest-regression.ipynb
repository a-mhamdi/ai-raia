{
 "cells": [
  {
   "cell_type": "markdown",
   "id": "e042108d-4724-4862-ac57-7f900f9b396d",
   "metadata": {},
   "source": [
    "# RANDOM FOREST REGRESSION\n",
    "---"
   ]
  },
  {
   "cell_type": "markdown",
   "id": "727a15fd-9d19-49f6-9067-bb19526a8acb",
   "metadata": {},
   "source": [
    "```julia\n",
    "versioninfo() # -> v\"1.11.1\"\n",
    "```"
   ]
  },
  {
   "cell_type": "code",
   "execution_count": 1,
   "id": "07a2e06f-2311-4778-9e99-1382600bb010",
   "metadata": {},
   "outputs": [],
   "source": [
    "cd(@__DIR__)"
   ]
  },
  {
   "cell_type": "code",
   "execution_count": 2,
   "id": "8b70e486-a285-403f-bcf0-bc7c32f05557",
   "metadata": {},
   "outputs": [
    {
     "name": "stderr",
     "output_type": "stream",
     "text": [
      "\u001b[32m\u001b[1m  Activating\u001b[22m\u001b[39m project at `~/Work/git-repos/AI-ML-DL/jlai/Codes/Julia/Part-2`\n"
     ]
    }
   ],
   "source": [
    "using Pkg; pkg\"activate ..\""
   ]
  },
  {
   "cell_type": "markdown",
   "id": "0b1e677e-4626-4a8a-be95-834f5ed7a1ae",
   "metadata": {},
   "source": [
    "Import librairies"
   ]
  },
  {
   "cell_type": "code",
   "execution_count": 3,
   "id": "b66f9ddb-b39c-4b49-a05f-01ff5f47fdbb",
   "metadata": {},
   "outputs": [],
   "source": [
    "using CSV, DataFrames\n",
    "using MLJ"
   ]
  },
  {
   "cell_type": "markdown",
   "id": "c1f000b1-593c-4774-a411-32458c04225d",
   "metadata": {},
   "source": [
    "Load data from CSV file"
   ]
  },
  {
   "cell_type": "code",
   "execution_count": 4,
   "id": "d4214df5-8d0e-41bf-bdaf-5b1bf8c23301",
   "metadata": {},
   "outputs": [
    {
     "data": {
      "text/plain": [
       "┌─────────────────┬────────────┬──────────┐\n",
       "│\u001b[22m names           \u001b[0m│\u001b[22m scitypes   \u001b[0m│\u001b[22m types    \u001b[0m│\n",
       "├─────────────────┼────────────┼──────────┤\n",
       "│ R&D Spend       │ Continuous │ Float64  │\n",
       "│ Administration  │ Continuous │ Float64  │\n",
       "│ Marketing Spend │ Continuous │ Float64  │\n",
       "│ State           │ Textual    │ String15 │\n",
       "│ Profit          │ Continuous │ Float64  │\n",
       "└─────────────────┴────────────┴──────────┘\n"
      ]
     },
     "execution_count": 4,
     "metadata": {},
     "output_type": "execute_result"
    }
   ],
   "source": [
    "df = CSV.read(\"../../Datasets/50_Startups.csv\", DataFrame)\n",
    "schema(df)"
   ]
  },
  {
   "cell_type": "markdown",
   "id": "52d62b3f-8877-498b-a877-70e5675b18f1",
   "metadata": {},
   "source": [
    "Design the features"
   ]
  },
  {
   "cell_type": "code",
   "execution_count": 5,
   "id": "e515d877-1549-4b17-8321-ade37140a7c9",
   "metadata": {},
   "outputs": [
    {
     "data": {
      "text/html": [
       "<div><div style = \"float: left;\"><span>50×4 DataFrame</span></div><div style = \"float: right;\"><span style = \"font-style: italic;\">25 rows omitted</span></div><div style = \"clear: both;\"></div></div><div class = \"data-frame\" style = \"overflow-x: scroll;\"><table class = \"data-frame\" style = \"margin-bottom: 6px;\"><thead><tr class = \"header\"><th class = \"rowNumber\" style = \"font-weight: bold; text-align: right;\">Row</th><th style = \"text-align: left;\">rd</th><th style = \"text-align: left;\">admin</th><th style = \"text-align: left;\">spend</th><th style = \"text-align: left;\">state</th></tr><tr class = \"subheader headerLastRow\"><th class = \"rowNumber\" style = \"font-weight: bold; text-align: right;\"></th><th title = \"Float64\" style = \"text-align: left;\">Float64</th><th title = \"Float64\" style = \"text-align: left;\">Float64</th><th title = \"Float64\" style = \"text-align: left;\">Float64</th><th title = \"CategoricalArrays.CategoricalValue{String15, UInt32}\" style = \"text-align: left;\">Cat…</th></tr></thead><tbody><tr><td class = \"rowNumber\" style = \"font-weight: bold; text-align: right;\">1</td><td style = \"text-align: right;\">1.65349e5</td><td style = \"text-align: right;\">1.36898e5</td><td style = \"text-align: right;\">4.71784e5</td><td style = \"text-align: left;\">New York</td></tr><tr><td class = \"rowNumber\" style = \"font-weight: bold; text-align: right;\">2</td><td style = \"text-align: right;\">1.62598e5</td><td style = \"text-align: right;\">1.51378e5</td><td style = \"text-align: right;\">4.43899e5</td><td style = \"text-align: left;\">California</td></tr><tr><td class = \"rowNumber\" style = \"font-weight: bold; text-align: right;\">3</td><td style = \"text-align: right;\">1.53442e5</td><td style = \"text-align: right;\">1.01146e5</td><td style = \"text-align: right;\">4.07935e5</td><td style = \"text-align: left;\">Florida</td></tr><tr><td class = \"rowNumber\" style = \"font-weight: bold; text-align: right;\">4</td><td style = \"text-align: right;\">1.44372e5</td><td style = \"text-align: right;\">1.18672e5</td><td style = \"text-align: right;\">3.832e5</td><td style = \"text-align: left;\">New York</td></tr><tr><td class = \"rowNumber\" style = \"font-weight: bold; text-align: right;\">5</td><td style = \"text-align: right;\">1.42107e5</td><td style = \"text-align: right;\">91391.8</td><td style = \"text-align: right;\">3.66168e5</td><td style = \"text-align: left;\">Florida</td></tr><tr><td class = \"rowNumber\" style = \"font-weight: bold; text-align: right;\">6</td><td style = \"text-align: right;\">1.31877e5</td><td style = \"text-align: right;\">99814.7</td><td style = \"text-align: right;\">3.62861e5</td><td style = \"text-align: left;\">New York</td></tr><tr><td class = \"rowNumber\" style = \"font-weight: bold; text-align: right;\">7</td><td style = \"text-align: right;\">1.34615e5</td><td style = \"text-align: right;\">1.47199e5</td><td style = \"text-align: right;\">1.27717e5</td><td style = \"text-align: left;\">California</td></tr><tr><td class = \"rowNumber\" style = \"font-weight: bold; text-align: right;\">8</td><td style = \"text-align: right;\">1.30298e5</td><td style = \"text-align: right;\">1.4553e5</td><td style = \"text-align: right;\">3.23877e5</td><td style = \"text-align: left;\">Florida</td></tr><tr><td class = \"rowNumber\" style = \"font-weight: bold; text-align: right;\">9</td><td style = \"text-align: right;\">1.20543e5</td><td style = \"text-align: right;\">148719.0</td><td style = \"text-align: right;\">3.11613e5</td><td style = \"text-align: left;\">New York</td></tr><tr><td class = \"rowNumber\" style = \"font-weight: bold; text-align: right;\">10</td><td style = \"text-align: right;\">1.23335e5</td><td style = \"text-align: right;\">1.08679e5</td><td style = \"text-align: right;\">3.04982e5</td><td style = \"text-align: left;\">California</td></tr><tr><td class = \"rowNumber\" style = \"font-weight: bold; text-align: right;\">11</td><td style = \"text-align: right;\">1.01913e5</td><td style = \"text-align: right;\">1.10594e5</td><td style = \"text-align: right;\">229161.0</td><td style = \"text-align: left;\">Florida</td></tr><tr><td class = \"rowNumber\" style = \"font-weight: bold; text-align: right;\">12</td><td style = \"text-align: right;\">100672.0</td><td style = \"text-align: right;\">91790.6</td><td style = \"text-align: right;\">2.49745e5</td><td style = \"text-align: left;\">California</td></tr><tr><td class = \"rowNumber\" style = \"font-weight: bold; text-align: right;\">13</td><td style = \"text-align: right;\">93863.8</td><td style = \"text-align: right;\">1.2732e5</td><td style = \"text-align: right;\">2.49839e5</td><td style = \"text-align: left;\">Florida</td></tr><tr><td style = \"text-align: right;\">&vellip;</td><td style = \"text-align: right;\">&vellip;</td><td style = \"text-align: right;\">&vellip;</td><td style = \"text-align: right;\">&vellip;</td><td style = \"text-align: right;\">&vellip;</td></tr><tr><td class = \"rowNumber\" style = \"font-weight: bold; text-align: right;\">39</td><td style = \"text-align: right;\">20229.6</td><td style = \"text-align: right;\">65947.9</td><td style = \"text-align: right;\">1.85265e5</td><td style = \"text-align: left;\">New York</td></tr><tr><td class = \"rowNumber\" style = \"font-weight: bold; text-align: right;\">40</td><td style = \"text-align: right;\">38558.5</td><td style = \"text-align: right;\">82982.1</td><td style = \"text-align: right;\">1.74999e5</td><td style = \"text-align: left;\">California</td></tr><tr><td class = \"rowNumber\" style = \"font-weight: bold; text-align: right;\">41</td><td style = \"text-align: right;\">28754.3</td><td style = \"text-align: right;\">1.18546e5</td><td style = \"text-align: right;\">1.72796e5</td><td style = \"text-align: left;\">California</td></tr><tr><td class = \"rowNumber\" style = \"font-weight: bold; text-align: right;\">42</td><td style = \"text-align: right;\">27892.9</td><td style = \"text-align: right;\">84710.8</td><td style = \"text-align: right;\">1.64471e5</td><td style = \"text-align: left;\">Florida</td></tr><tr><td class = \"rowNumber\" style = \"font-weight: bold; text-align: right;\">43</td><td style = \"text-align: right;\">23640.9</td><td style = \"text-align: right;\">96189.6</td><td style = \"text-align: right;\">1.48001e5</td><td style = \"text-align: left;\">California</td></tr><tr><td class = \"rowNumber\" style = \"font-weight: bold; text-align: right;\">44</td><td style = \"text-align: right;\">15505.7</td><td style = \"text-align: right;\">1.27382e5</td><td style = \"text-align: right;\">35534.2</td><td style = \"text-align: left;\">New York</td></tr><tr><td class = \"rowNumber\" style = \"font-weight: bold; text-align: right;\">45</td><td style = \"text-align: right;\">22177.7</td><td style = \"text-align: right;\">1.54806e5</td><td style = \"text-align: right;\">28334.7</td><td style = \"text-align: left;\">California</td></tr><tr><td class = \"rowNumber\" style = \"font-weight: bold; text-align: right;\">46</td><td style = \"text-align: right;\">1000.23</td><td style = \"text-align: right;\">124153.0</td><td style = \"text-align: right;\">1903.93</td><td style = \"text-align: left;\">New York</td></tr><tr><td class = \"rowNumber\" style = \"font-weight: bold; text-align: right;\">47</td><td style = \"text-align: right;\">1315.46</td><td style = \"text-align: right;\">1.15816e5</td><td style = \"text-align: right;\">2.97114e5</td><td style = \"text-align: left;\">Florida</td></tr><tr><td class = \"rowNumber\" style = \"font-weight: bold; text-align: right;\">48</td><td style = \"text-align: right;\">0.0</td><td style = \"text-align: right;\">1.35427e5</td><td style = \"text-align: right;\">0.0</td><td style = \"text-align: left;\">California</td></tr><tr><td class = \"rowNumber\" style = \"font-weight: bold; text-align: right;\">49</td><td style = \"text-align: right;\">542.05</td><td style = \"text-align: right;\">51743.2</td><td style = \"text-align: right;\">0.0</td><td style = \"text-align: left;\">New York</td></tr><tr><td class = \"rowNumber\" style = \"font-weight: bold; text-align: right;\">50</td><td style = \"text-align: right;\">0.0</td><td style = \"text-align: right;\">1.16984e5</td><td style = \"text-align: right;\">45173.1</td><td style = \"text-align: left;\">California</td></tr></tbody></table></div>"
      ],
      "text/latex": [
       "\\begin{tabular}{r|cccc}\n",
       "\t& rd & admin & spend & state\\\\\n",
       "\t\\hline\n",
       "\t& Float64 & Float64 & Float64 & Cat…\\\\\n",
       "\t\\hline\n",
       "\t1 & 1.65349e5 & 1.36898e5 & 4.71784e5 & New York \\\\\n",
       "\t2 & 1.62598e5 & 1.51378e5 & 4.43899e5 & California \\\\\n",
       "\t3 & 1.53442e5 & 1.01146e5 & 4.07935e5 & Florida \\\\\n",
       "\t4 & 1.44372e5 & 1.18672e5 & 3.832e5 & New York \\\\\n",
       "\t5 & 1.42107e5 & 91391.8 & 3.66168e5 & Florida \\\\\n",
       "\t6 & 1.31877e5 & 99814.7 & 3.62861e5 & New York \\\\\n",
       "\t7 & 1.34615e5 & 1.47199e5 & 1.27717e5 & California \\\\\n",
       "\t8 & 1.30298e5 & 1.4553e5 & 3.23877e5 & Florida \\\\\n",
       "\t9 & 1.20543e5 & 148719.0 & 3.11613e5 & New York \\\\\n",
       "\t10 & 1.23335e5 & 1.08679e5 & 3.04982e5 & California \\\\\n",
       "\t11 & 1.01913e5 & 1.10594e5 & 229161.0 & Florida \\\\\n",
       "\t12 & 100672.0 & 91790.6 & 2.49745e5 & California \\\\\n",
       "\t13 & 93863.8 & 1.2732e5 & 2.49839e5 & Florida \\\\\n",
       "\t14 & 91992.4 & 1.35495e5 & 2.52665e5 & California \\\\\n",
       "\t15 & 1.19943e5 & 1.56547e5 & 2.56513e5 & Florida \\\\\n",
       "\t16 & 1.14524e5 & 1.22617e5 & 2.61776e5 & New York \\\\\n",
       "\t17 & 78013.1 & 1.21598e5 & 2.64346e5 & California \\\\\n",
       "\t18 & 94657.2 & 1.45078e5 & 2.82574e5 & New York \\\\\n",
       "\t19 & 91749.2 & 1.14176e5 & 2.9492e5 & Florida \\\\\n",
       "\t20 & 86419.7 & 1.53514e5 & 0.0 & New York \\\\\n",
       "\t21 & 76253.9 & 1.13867e5 & 2.98664e5 & California \\\\\n",
       "\t22 & 78389.5 & 1.53773e5 & 2.99737e5 & New York \\\\\n",
       "\t23 & 73994.6 & 1.22783e5 & 3.03319e5 & Florida \\\\\n",
       "\t24 & 67532.5 & 105751.0 & 3.04769e5 & Florida \\\\\n",
       "\t25 & 77044.0 & 99281.3 & 1.40575e5 & New York \\\\\n",
       "\t26 & 64664.7 & 1.39553e5 & 1.37963e5 & California \\\\\n",
       "\t27 & 75328.9 & 144136.0 & 1.3405e5 & Florida \\\\\n",
       "\t28 & 72107.6 & 1.27865e5 & 3.53184e5 & New York \\\\\n",
       "\t29 & 66051.5 & 1.82646e5 & 1.18148e5 & Florida \\\\\n",
       "\t30 & 65605.5 & 1.53032e5 & 1.07138e5 & New York \\\\\n",
       "\t$\\dots$ & $\\dots$ & $\\dots$ & $\\dots$ & $\\dots$ \\\\\n",
       "\\end{tabular}\n"
      ],
      "text/plain": [
       "\u001b[1m50×4 DataFrame\u001b[0m\n",
       "\u001b[1m Row \u001b[0m│\u001b[1m rd             \u001b[0m\u001b[1m admin          \u001b[0m\u001b[1m spend          \u001b[0m\u001b[1m state      \u001b[0m\n",
       "     │\u001b[90m Float64        \u001b[0m\u001b[90m Float64        \u001b[0m\u001b[90m Float64        \u001b[0m\u001b[90m Cat…       \u001b[0m\n",
       "─────┼────────────────────────────────────────────────────────────\n",
       "   1 │      1.65349e5       1.36898e5       4.71784e5  New York\n",
       "   2 │      1.62598e5       1.51378e5       4.43899e5  California\n",
       "   3 │      1.53442e5       1.01146e5       4.07935e5  Florida\n",
       "   4 │      1.44372e5       1.18672e5       3.832e5    New York\n",
       "   5 │      1.42107e5   91391.8             3.66168e5  Florida\n",
       "   6 │      1.31877e5   99814.7             3.62861e5  New York\n",
       "   7 │      1.34615e5       1.47199e5       1.27717e5  California\n",
       "   8 │      1.30298e5       1.4553e5        3.23877e5  Florida\n",
       "   9 │      1.20543e5  148719.0             3.11613e5  New York\n",
       "  10 │      1.23335e5       1.08679e5       3.04982e5  California\n",
       "  11 │      1.01913e5       1.10594e5  229161.0        Florida\n",
       "  ⋮  │       ⋮               ⋮               ⋮             ⋮\n",
       "  41 │  28754.3             1.18546e5       1.72796e5  California\n",
       "  42 │  27892.9         84710.8             1.64471e5  Florida\n",
       "  43 │  23640.9         96189.6             1.48001e5  California\n",
       "  44 │  15505.7             1.27382e5   35534.2        New York\n",
       "  45 │  22177.7             1.54806e5   28334.7        California\n",
       "  46 │   1000.23       124153.0          1903.93       New York\n",
       "  47 │   1315.46            1.15816e5       2.97114e5  Florida\n",
       "  48 │      0.0             1.35427e5       0.0        California\n",
       "  49 │    542.05        51743.2             0.0        New York\n",
       "  50 │      0.0             1.16984e5   45173.1        California\n",
       "\u001b[36m                                                   29 rows omitted\u001b[0m"
      ]
     },
     "execution_count": 5,
     "metadata": {},
     "output_type": "execute_result"
    }
   ],
   "source": [
    "X = df[!, 1:4]\n",
    "colnames = [\"rd\", \"admin\", \"spend\", \"state\"]\n",
    "rename!(X, Symbol.(colnames))\n",
    "coerce!(X, :state => Multiclass)"
   ]
  },
  {
   "cell_type": "markdown",
   "id": "6a960ded-71fc-4266-82bd-2e5d48ad910b",
   "metadata": {},
   "source": [
    "Encoding the state column"
   ]
  },
  {
   "cell_type": "code",
   "execution_count": 6,
   "id": "d03325e3-3ec1-47c0-bd2f-ec4ca1817d46",
   "metadata": {},
   "outputs": [
    {
     "name": "stderr",
     "output_type": "stream",
     "text": [
      "\u001b[36m\u001b[1m[ \u001b[22m\u001b[39m\u001b[36m\u001b[1mInfo: \u001b[22m\u001b[39mTraining machine(ContinuousEncoder(drop_last = false, …), …).\n"
     ]
    },
    {
     "data": {
      "text/html": [
       "<div><div style = \"float: left;\"><span>50×6 DataFrame</span></div><div style = \"float: right;\"><span style = \"font-style: italic;\">25 rows omitted</span></div><div style = \"clear: both;\"></div></div><div class = \"data-frame\" style = \"overflow-x: scroll;\"><table class = \"data-frame\" style = \"margin-bottom: 6px;\"><thead><tr class = \"header\"><th class = \"rowNumber\" style = \"font-weight: bold; text-align: right;\">Row</th><th style = \"text-align: left;\">rd</th><th style = \"text-align: left;\">admin</th><th style = \"text-align: left;\">spend</th><th style = \"text-align: left;\">state__California</th><th style = \"text-align: left;\">state__Florida</th><th style = \"text-align: left;\">state__New York</th></tr><tr class = \"subheader headerLastRow\"><th class = \"rowNumber\" style = \"font-weight: bold; text-align: right;\"></th><th title = \"Float64\" style = \"text-align: left;\">Float64</th><th title = \"Float64\" style = \"text-align: left;\">Float64</th><th title = \"Float64\" style = \"text-align: left;\">Float64</th><th title = \"Float64\" style = \"text-align: left;\">Float64</th><th title = \"Float64\" style = \"text-align: left;\">Float64</th><th title = \"Float64\" style = \"text-align: left;\">Float64</th></tr></thead><tbody><tr><td class = \"rowNumber\" style = \"font-weight: bold; text-align: right;\">1</td><td style = \"text-align: right;\">1.65349e5</td><td style = \"text-align: right;\">1.36898e5</td><td style = \"text-align: right;\">4.71784e5</td><td style = \"text-align: right;\">0.0</td><td style = \"text-align: right;\">0.0</td><td style = \"text-align: right;\">1.0</td></tr><tr><td class = \"rowNumber\" style = \"font-weight: bold; text-align: right;\">2</td><td style = \"text-align: right;\">1.62598e5</td><td style = \"text-align: right;\">1.51378e5</td><td style = \"text-align: right;\">4.43899e5</td><td style = \"text-align: right;\">1.0</td><td style = \"text-align: right;\">0.0</td><td style = \"text-align: right;\">0.0</td></tr><tr><td class = \"rowNumber\" style = \"font-weight: bold; text-align: right;\">3</td><td style = \"text-align: right;\">1.53442e5</td><td style = \"text-align: right;\">1.01146e5</td><td style = \"text-align: right;\">4.07935e5</td><td style = \"text-align: right;\">0.0</td><td style = \"text-align: right;\">1.0</td><td style = \"text-align: right;\">0.0</td></tr><tr><td class = \"rowNumber\" style = \"font-weight: bold; text-align: right;\">4</td><td style = \"text-align: right;\">1.44372e5</td><td style = \"text-align: right;\">1.18672e5</td><td style = \"text-align: right;\">3.832e5</td><td style = \"text-align: right;\">0.0</td><td style = \"text-align: right;\">0.0</td><td style = \"text-align: right;\">1.0</td></tr><tr><td class = \"rowNumber\" style = \"font-weight: bold; text-align: right;\">5</td><td style = \"text-align: right;\">1.42107e5</td><td style = \"text-align: right;\">91391.8</td><td style = \"text-align: right;\">3.66168e5</td><td style = \"text-align: right;\">0.0</td><td style = \"text-align: right;\">1.0</td><td style = \"text-align: right;\">0.0</td></tr><tr><td class = \"rowNumber\" style = \"font-weight: bold; text-align: right;\">6</td><td style = \"text-align: right;\">1.31877e5</td><td style = \"text-align: right;\">99814.7</td><td style = \"text-align: right;\">3.62861e5</td><td style = \"text-align: right;\">0.0</td><td style = \"text-align: right;\">0.0</td><td style = \"text-align: right;\">1.0</td></tr><tr><td class = \"rowNumber\" style = \"font-weight: bold; text-align: right;\">7</td><td style = \"text-align: right;\">1.34615e5</td><td style = \"text-align: right;\">1.47199e5</td><td style = \"text-align: right;\">1.27717e5</td><td style = \"text-align: right;\">1.0</td><td style = \"text-align: right;\">0.0</td><td style = \"text-align: right;\">0.0</td></tr><tr><td class = \"rowNumber\" style = \"font-weight: bold; text-align: right;\">8</td><td style = \"text-align: right;\">1.30298e5</td><td style = \"text-align: right;\">1.4553e5</td><td style = \"text-align: right;\">3.23877e5</td><td style = \"text-align: right;\">0.0</td><td style = \"text-align: right;\">1.0</td><td style = \"text-align: right;\">0.0</td></tr><tr><td class = \"rowNumber\" style = \"font-weight: bold; text-align: right;\">9</td><td style = \"text-align: right;\">1.20543e5</td><td style = \"text-align: right;\">148719.0</td><td style = \"text-align: right;\">3.11613e5</td><td style = \"text-align: right;\">0.0</td><td style = \"text-align: right;\">0.0</td><td style = \"text-align: right;\">1.0</td></tr><tr><td class = \"rowNumber\" style = \"font-weight: bold; text-align: right;\">10</td><td style = \"text-align: right;\">1.23335e5</td><td style = \"text-align: right;\">1.08679e5</td><td style = \"text-align: right;\">3.04982e5</td><td style = \"text-align: right;\">1.0</td><td style = \"text-align: right;\">0.0</td><td style = \"text-align: right;\">0.0</td></tr><tr><td class = \"rowNumber\" style = \"font-weight: bold; text-align: right;\">11</td><td style = \"text-align: right;\">1.01913e5</td><td style = \"text-align: right;\">1.10594e5</td><td style = \"text-align: right;\">229161.0</td><td style = \"text-align: right;\">0.0</td><td style = \"text-align: right;\">1.0</td><td style = \"text-align: right;\">0.0</td></tr><tr><td class = \"rowNumber\" style = \"font-weight: bold; text-align: right;\">12</td><td style = \"text-align: right;\">100672.0</td><td style = \"text-align: right;\">91790.6</td><td style = \"text-align: right;\">2.49745e5</td><td style = \"text-align: right;\">1.0</td><td style = \"text-align: right;\">0.0</td><td style = \"text-align: right;\">0.0</td></tr><tr><td class = \"rowNumber\" style = \"font-weight: bold; text-align: right;\">13</td><td style = \"text-align: right;\">93863.8</td><td style = \"text-align: right;\">1.2732e5</td><td style = \"text-align: right;\">2.49839e5</td><td style = \"text-align: right;\">0.0</td><td style = \"text-align: right;\">1.0</td><td style = \"text-align: right;\">0.0</td></tr><tr><td style = \"text-align: right;\">&vellip;</td><td style = \"text-align: right;\">&vellip;</td><td style = \"text-align: right;\">&vellip;</td><td style = \"text-align: right;\">&vellip;</td><td style = \"text-align: right;\">&vellip;</td><td style = \"text-align: right;\">&vellip;</td><td style = \"text-align: right;\">&vellip;</td></tr><tr><td class = \"rowNumber\" style = \"font-weight: bold; text-align: right;\">39</td><td style = \"text-align: right;\">20229.6</td><td style = \"text-align: right;\">65947.9</td><td style = \"text-align: right;\">1.85265e5</td><td style = \"text-align: right;\">0.0</td><td style = \"text-align: right;\">0.0</td><td style = \"text-align: right;\">1.0</td></tr><tr><td class = \"rowNumber\" style = \"font-weight: bold; text-align: right;\">40</td><td style = \"text-align: right;\">38558.5</td><td style = \"text-align: right;\">82982.1</td><td style = \"text-align: right;\">1.74999e5</td><td style = \"text-align: right;\">1.0</td><td style = \"text-align: right;\">0.0</td><td style = \"text-align: right;\">0.0</td></tr><tr><td class = \"rowNumber\" style = \"font-weight: bold; text-align: right;\">41</td><td style = \"text-align: right;\">28754.3</td><td style = \"text-align: right;\">1.18546e5</td><td style = \"text-align: right;\">1.72796e5</td><td style = \"text-align: right;\">1.0</td><td style = \"text-align: right;\">0.0</td><td style = \"text-align: right;\">0.0</td></tr><tr><td class = \"rowNumber\" style = \"font-weight: bold; text-align: right;\">42</td><td style = \"text-align: right;\">27892.9</td><td style = \"text-align: right;\">84710.8</td><td style = \"text-align: right;\">1.64471e5</td><td style = \"text-align: right;\">0.0</td><td style = \"text-align: right;\">1.0</td><td style = \"text-align: right;\">0.0</td></tr><tr><td class = \"rowNumber\" style = \"font-weight: bold; text-align: right;\">43</td><td style = \"text-align: right;\">23640.9</td><td style = \"text-align: right;\">96189.6</td><td style = \"text-align: right;\">1.48001e5</td><td style = \"text-align: right;\">1.0</td><td style = \"text-align: right;\">0.0</td><td style = \"text-align: right;\">0.0</td></tr><tr><td class = \"rowNumber\" style = \"font-weight: bold; text-align: right;\">44</td><td style = \"text-align: right;\">15505.7</td><td style = \"text-align: right;\">1.27382e5</td><td style = \"text-align: right;\">35534.2</td><td style = \"text-align: right;\">0.0</td><td style = \"text-align: right;\">0.0</td><td style = \"text-align: right;\">1.0</td></tr><tr><td class = \"rowNumber\" style = \"font-weight: bold; text-align: right;\">45</td><td style = \"text-align: right;\">22177.7</td><td style = \"text-align: right;\">1.54806e5</td><td style = \"text-align: right;\">28334.7</td><td style = \"text-align: right;\">1.0</td><td style = \"text-align: right;\">0.0</td><td style = \"text-align: right;\">0.0</td></tr><tr><td class = \"rowNumber\" style = \"font-weight: bold; text-align: right;\">46</td><td style = \"text-align: right;\">1000.23</td><td style = \"text-align: right;\">124153.0</td><td style = \"text-align: right;\">1903.93</td><td style = \"text-align: right;\">0.0</td><td style = \"text-align: right;\">0.0</td><td style = \"text-align: right;\">1.0</td></tr><tr><td class = \"rowNumber\" style = \"font-weight: bold; text-align: right;\">47</td><td style = \"text-align: right;\">1315.46</td><td style = \"text-align: right;\">1.15816e5</td><td style = \"text-align: right;\">2.97114e5</td><td style = \"text-align: right;\">0.0</td><td style = \"text-align: right;\">1.0</td><td style = \"text-align: right;\">0.0</td></tr><tr><td class = \"rowNumber\" style = \"font-weight: bold; text-align: right;\">48</td><td style = \"text-align: right;\">0.0</td><td style = \"text-align: right;\">1.35427e5</td><td style = \"text-align: right;\">0.0</td><td style = \"text-align: right;\">1.0</td><td style = \"text-align: right;\">0.0</td><td style = \"text-align: right;\">0.0</td></tr><tr><td class = \"rowNumber\" style = \"font-weight: bold; text-align: right;\">49</td><td style = \"text-align: right;\">542.05</td><td style = \"text-align: right;\">51743.2</td><td style = \"text-align: right;\">0.0</td><td style = \"text-align: right;\">0.0</td><td style = \"text-align: right;\">0.0</td><td style = \"text-align: right;\">1.0</td></tr><tr><td class = \"rowNumber\" style = \"font-weight: bold; text-align: right;\">50</td><td style = \"text-align: right;\">0.0</td><td style = \"text-align: right;\">1.16984e5</td><td style = \"text-align: right;\">45173.1</td><td style = \"text-align: right;\">1.0</td><td style = \"text-align: right;\">0.0</td><td style = \"text-align: right;\">0.0</td></tr></tbody></table></div>"
      ],
      "text/latex": [
       "\\begin{tabular}{r|cccccc}\n",
       "\t& rd & admin & spend & state\\_\\_California & state\\_\\_Florida & state\\_\\_New York\\\\\n",
       "\t\\hline\n",
       "\t& Float64 & Float64 & Float64 & Float64 & Float64 & Float64\\\\\n",
       "\t\\hline\n",
       "\t1 & 1.65349e5 & 1.36898e5 & 4.71784e5 & 0.0 & 0.0 & 1.0 \\\\\n",
       "\t2 & 1.62598e5 & 1.51378e5 & 4.43899e5 & 1.0 & 0.0 & 0.0 \\\\\n",
       "\t3 & 1.53442e5 & 1.01146e5 & 4.07935e5 & 0.0 & 1.0 & 0.0 \\\\\n",
       "\t4 & 1.44372e5 & 1.18672e5 & 3.832e5 & 0.0 & 0.0 & 1.0 \\\\\n",
       "\t5 & 1.42107e5 & 91391.8 & 3.66168e5 & 0.0 & 1.0 & 0.0 \\\\\n",
       "\t6 & 1.31877e5 & 99814.7 & 3.62861e5 & 0.0 & 0.0 & 1.0 \\\\\n",
       "\t7 & 1.34615e5 & 1.47199e5 & 1.27717e5 & 1.0 & 0.0 & 0.0 \\\\\n",
       "\t8 & 1.30298e5 & 1.4553e5 & 3.23877e5 & 0.0 & 1.0 & 0.0 \\\\\n",
       "\t9 & 1.20543e5 & 148719.0 & 3.11613e5 & 0.0 & 0.0 & 1.0 \\\\\n",
       "\t10 & 1.23335e5 & 1.08679e5 & 3.04982e5 & 1.0 & 0.0 & 0.0 \\\\\n",
       "\t11 & 1.01913e5 & 1.10594e5 & 229161.0 & 0.0 & 1.0 & 0.0 \\\\\n",
       "\t12 & 100672.0 & 91790.6 & 2.49745e5 & 1.0 & 0.0 & 0.0 \\\\\n",
       "\t13 & 93863.8 & 1.2732e5 & 2.49839e5 & 0.0 & 1.0 & 0.0 \\\\\n",
       "\t14 & 91992.4 & 1.35495e5 & 2.52665e5 & 1.0 & 0.0 & 0.0 \\\\\n",
       "\t15 & 1.19943e5 & 1.56547e5 & 2.56513e5 & 0.0 & 1.0 & 0.0 \\\\\n",
       "\t16 & 1.14524e5 & 1.22617e5 & 2.61776e5 & 0.0 & 0.0 & 1.0 \\\\\n",
       "\t17 & 78013.1 & 1.21598e5 & 2.64346e5 & 1.0 & 0.0 & 0.0 \\\\\n",
       "\t18 & 94657.2 & 1.45078e5 & 2.82574e5 & 0.0 & 0.0 & 1.0 \\\\\n",
       "\t19 & 91749.2 & 1.14176e5 & 2.9492e5 & 0.0 & 1.0 & 0.0 \\\\\n",
       "\t20 & 86419.7 & 1.53514e5 & 0.0 & 0.0 & 0.0 & 1.0 \\\\\n",
       "\t21 & 76253.9 & 1.13867e5 & 2.98664e5 & 1.0 & 0.0 & 0.0 \\\\\n",
       "\t22 & 78389.5 & 1.53773e5 & 2.99737e5 & 0.0 & 0.0 & 1.0 \\\\\n",
       "\t23 & 73994.6 & 1.22783e5 & 3.03319e5 & 0.0 & 1.0 & 0.0 \\\\\n",
       "\t24 & 67532.5 & 105751.0 & 3.04769e5 & 0.0 & 1.0 & 0.0 \\\\\n",
       "\t25 & 77044.0 & 99281.3 & 1.40575e5 & 0.0 & 0.0 & 1.0 \\\\\n",
       "\t26 & 64664.7 & 1.39553e5 & 1.37963e5 & 1.0 & 0.0 & 0.0 \\\\\n",
       "\t27 & 75328.9 & 144136.0 & 1.3405e5 & 0.0 & 1.0 & 0.0 \\\\\n",
       "\t28 & 72107.6 & 1.27865e5 & 3.53184e5 & 0.0 & 0.0 & 1.0 \\\\\n",
       "\t29 & 66051.5 & 1.82646e5 & 1.18148e5 & 0.0 & 1.0 & 0.0 \\\\\n",
       "\t30 & 65605.5 & 1.53032e5 & 1.07138e5 & 0.0 & 0.0 & 1.0 \\\\\n",
       "\t$\\dots$ & $\\dots$ & $\\dots$ & $\\dots$ & $\\dots$ & $\\dots$ & $\\dots$ \\\\\n",
       "\\end{tabular}\n"
      ],
      "text/plain": [
       "\u001b[1m50×6 DataFrame\u001b[0m\n",
       "\u001b[1m Row \u001b[0m│\u001b[1m rd             \u001b[0m\u001b[1m admin          \u001b[0m\u001b[1m spend          \u001b[0m\u001b[1m state__California \u001b[0m\u001b[1m stat\u001b[0m ⋯\n",
       "     │\u001b[90m Float64        \u001b[0m\u001b[90m Float64        \u001b[0m\u001b[90m Float64        \u001b[0m\u001b[90m Float64           \u001b[0m\u001b[90m Floa\u001b[0m ⋯\n",
       "─────┼──────────────────────────────────────────────────────────────────────────\n",
       "   1 │      1.65349e5       1.36898e5       4.71784e5                0.0       ⋯\n",
       "   2 │      1.62598e5       1.51378e5       4.43899e5                1.0\n",
       "   3 │      1.53442e5       1.01146e5       4.07935e5                0.0\n",
       "   4 │      1.44372e5       1.18672e5       3.832e5                  0.0\n",
       "   5 │      1.42107e5   91391.8             3.66168e5                0.0       ⋯\n",
       "   6 │      1.31877e5   99814.7             3.62861e5                0.0\n",
       "   7 │      1.34615e5       1.47199e5       1.27717e5                1.0\n",
       "   8 │      1.30298e5       1.4553e5        3.23877e5                0.0\n",
       "   9 │      1.20543e5  148719.0             3.11613e5                0.0       ⋯\n",
       "  10 │      1.23335e5       1.08679e5       3.04982e5                1.0\n",
       "  11 │      1.01913e5       1.10594e5  229161.0                      0.0\n",
       "  ⋮  │       ⋮               ⋮               ⋮                 ⋮               ⋱\n",
       "  41 │  28754.3             1.18546e5       1.72796e5                1.0\n",
       "  42 │  27892.9         84710.8             1.64471e5                0.0       ⋯\n",
       "  43 │  23640.9         96189.6             1.48001e5                1.0\n",
       "  44 │  15505.7             1.27382e5   35534.2                      0.0\n",
       "  45 │  22177.7             1.54806e5   28334.7                      1.0\n",
       "  46 │   1000.23       124153.0          1903.93                     0.0       ⋯\n",
       "  47 │   1315.46            1.15816e5       2.97114e5                0.0\n",
       "  48 │      0.0             1.35427e5       0.0                      1.0\n",
       "  49 │    542.05        51743.2             0.0                      0.0\n",
       "  50 │      0.0             1.16984e5   45173.1                      1.0       ⋯\n",
       "\u001b[36m                                                   2 columns and 29 rows omitted\u001b[0m"
      ]
     },
     "execution_count": 6,
     "metadata": {},
     "output_type": "execute_result"
    }
   ],
   "source": [
    "ce = ContinuousEncoder()\n",
    "X = machine(ce, X) |> fit! |> MLJ.transform"
   ]
  },
  {
   "cell_type": "markdown",
   "id": "8f92568a-c765-4022-859f-95e61b560f2c",
   "metadata": {},
   "source": [
    "Extract target vector"
   ]
  },
  {
   "cell_type": "code",
   "execution_count": 7,
   "id": "684d0458-7c54-4ba9-8fe3-37805916db25",
   "metadata": {},
   "outputs": [
    {
     "data": {
      "text/plain": [
       "5-element Vector{Float64}:\n",
       " 192261.83\n",
       " 191792.06\n",
       " 191050.39\n",
       " 182901.99\n",
       " 166187.94"
      ]
     },
     "execution_count": 7,
     "metadata": {},
     "output_type": "execute_result"
    }
   ],
   "source": [
    "y = df.Profit\n",
    "first(y, 5)"
   ]
  },
  {
   "cell_type": "markdown",
   "id": "6b1105c2-7ac9-4cbc-bbd8-32842451a11b",
   "metadata": {},
   "source": [
    "Preparing for the split"
   ]
  },
  {
   "cell_type": "code",
   "execution_count": 8,
   "id": "dd74e689-348d-4992-a4d1-06aed2e42291",
   "metadata": {},
   "outputs": [
    {
     "data": {
      "text/plain": [
       "([141585.52, 192261.83, 81005.76, 156991.12, 96778.92, 69758.98, 78239.91, 96712.8, 14681.4, 125370.37  …  134307.35, 182901.99, 129917.04, 71498.49, 77798.83, 191050.39, 99937.59, 108552.04, 42559.73, 132602.65], [166187.94, 35673.41, 105008.31, 107404.34, 126992.93, 118474.03, 105733.54, 124266.9, 146121.95, 96479.51])"
      ]
     },
     "execution_count": 8,
     "metadata": {},
     "output_type": "execute_result"
    }
   ],
   "source": [
    "train, test = partition(eachindex(y), 0.8, shuffle=true, rng=123)\n",
    "Xtrain, Xtest = X[train, :], X[test, :]\n",
    "ytrain, ytest = y[train], y[test]"
   ]
  },
  {
   "cell_type": "markdown",
   "id": "5929feb7-20bb-421c-9cfe-61e3e3a4cb27",
   "metadata": {},
   "source": [
    "Load & instantiate the random forest regressor model"
   ]
  },
  {
   "cell_type": "code",
   "execution_count": 9,
   "id": "db939f15-6604-4ff5-8632-19a9b1db004b",
   "metadata": {},
   "outputs": [
    {
     "name": "stderr",
     "output_type": "stream",
     "text": [
      "\u001b[36m\u001b[1m[ \u001b[22m\u001b[39m\u001b[36m\u001b[1mInfo: \u001b[22m\u001b[39mFor silent loading, specify `verbosity=0`. \n"
     ]
    },
    {
     "name": "stdout",
     "output_type": "stream",
     "text": [
      "import MLJDecisionTreeInterface ✔\n"
     ]
    },
    {
     "data": {
      "text/plain": [
       "RandomForestRegressor(\n",
       "  max_depth = 5, \n",
       "  min_samples_leaf = 1, \n",
       "  min_samples_split = 3, \n",
       "  min_purity_increase = 0.0, \n",
       "  n_subfeatures = -1, \n",
       "  n_trees = 100, \n",
       "  sampling_fraction = 0.7, \n",
       "  feature_importance = :impurity, \n",
       "  rng = Random.TaskLocalRNG())"
      ]
     },
     "execution_count": 9,
     "metadata": {},
     "output_type": "execute_result"
    }
   ],
   "source": [
    "RFR = @load RandomForestRegressor pkg=DecisionTree\n",
    "rfr_ = RFR(max_depth=5, min_samples_split=3)"
   ]
  },
  {
   "cell_type": "markdown",
   "id": "cd5ae4d6-a421-41b4-b6d9-e5577aa9f021",
   "metadata": {},
   "source": [
    "You may want to see [DecisionTree.jl](https://github.com/bensadeghi/DecisionTree.jl) and the unwrapped model type [`MLJDecisionTreeInterface.DecisionTree.RandomForestRegressor`](@ref).\""
   ]
  },
  {
   "cell_type": "markdown",
   "id": "4cde0ed3-2749-44ff-beb1-2b25a4ec4b7f",
   "metadata": {},
   "source": [
    "Train & fit"
   ]
  },
  {
   "cell_type": "code",
   "execution_count": 10,
   "id": "a85ada4e-c36e-4320-97cd-f843c0ca89d1",
   "metadata": {},
   "outputs": [
    {
     "name": "stderr",
     "output_type": "stream",
     "text": [
      "\u001b[36m\u001b[1m[ \u001b[22m\u001b[39m\u001b[36m\u001b[1mInfo: \u001b[22m\u001b[39mTraining machine(RandomForestRegressor(max_depth = 5, …), …).\n"
     ]
    },
    {
     "data": {
      "text/plain": [
       "trained Machine; caches model-specific representations of data\n",
       "  model: RandomForestRegressor(max_depth = 5, …)\n",
       "  args: \n",
       "    1:\tSource @136 ⏎ Table{AbstractVector{Continuous}}\n",
       "    2:\tSource @667 ⏎ AbstractVector{Continuous}\n"
      ]
     },
     "execution_count": 10,
     "metadata": {},
     "output_type": "execute_result"
    }
   ],
   "source": [
    "rfr = machine(rfr_, Xtrain, ytrain) |> fit!"
   ]
  },
  {
   "cell_type": "code",
   "execution_count": 11,
   "id": "fa52d8ba-baba-49ae-8d69-9bb18ab4de10",
   "metadata": {},
   "outputs": [
    {
     "name": "stdout",
     "output_type": "stream",
     "text": [
      "Params of fitted model are Ensemble of Decision Trees\n",
      "Trees:      100\n",
      "Avg Leaves: 14.45\n",
      "Avg Depth:  5.0\n"
     ]
    }
   ],
   "source": [
    "println(\"Params of fitted model are $(fitted_params(rfr).forest)\")"
   ]
  },
  {
   "cell_type": "markdown",
   "id": "efd12039-2420-4684-b527-e387a69d2c66",
   "metadata": {},
   "source": [
    "Prediction"
   ]
  },
  {
   "cell_type": "code",
   "execution_count": 12,
   "id": "69822c88-2b2a-4a46-bf81-74f86af39a19",
   "metadata": {},
   "outputs": [
    {
     "data": {
      "text/plain": [
       "10-element Vector{Float64}:\n",
       " 162705.49125\n",
       "  73360.42906000001\n",
       " 127414.921975\n",
       " 103342.95718440478\n",
       " 108690.65921666667\n",
       " 107510.81655833332\n",
       " 111457.28038833333\n",
       " 127075.41162440475\n",
       " 125462.69172690477\n",
       "  92544.26716892858"
      ]
     },
     "execution_count": 12,
     "metadata": {},
     "output_type": "execute_result"
    }
   ],
   "source": [
    "yhat_rfr = predict(rfr, Xtest)"
   ]
  },
  {
   "cell_type": "markdown",
   "id": "49bb66c1-7990-4c1b-9416-e693e3ab739e",
   "metadata": {},
   "source": [
    "Results & metrics"
   ]
  },
  {
   "cell_type": "code",
   "execution_count": 13,
   "id": "3bb932c2-fc34-48fd-b670-d16482dabb9d",
   "metadata": {},
   "outputs": [
    {
     "name": "stdout",
     "output_type": "stream",
     "text": [
      "Error is 2.8890951404036117e8\n"
     ]
    }
   ],
   "source": [
    "println(\"Error is $(sum((yhat_rfr .- ytest).^2) ./ length(ytest))\")"
   ]
  }
 ],
 "metadata": {
  "kernelspec": {
   "display_name": "IJulia 1.11.1",
   "language": "julia",
   "name": "ijulia-1.11"
  },
  "language_info": {
   "file_extension": ".jl",
   "mimetype": "application/julia",
   "name": "julia",
   "version": "1.11.1"
  }
 },
 "nbformat": 4,
 "nbformat_minor": 5
}
