{
 "cells": [
  {
   "cell_type": "markdown",
   "metadata": {},
   "source": [
    "# Lab. \\#1: ${\\tt Julia}$ Onramp\n",
    "---"
   ]
  },
  {
   "cell_type": "markdown",
   "metadata": {},
   "source": [
    "### GOALS\n",
    "- Enter commands in ${\\tt Julia}$ REPL to create variables and perform calculations;\n",
    "- Write and save programs;\n",
    "- Use indexing to extract and modify rows, columns, and elements of ${\\tt Julia}$ tensors."
   ]
  },
  {
   "cell_type": "markdown",
   "metadata": {},
   "source": [
    "${\\tt Julia}$ is a standalone program which can be downloaded from [https://julialang.org/downloads/](https://julialang.org/downloads/)"
   ]
  },
  {
   "cell_type": "markdown",
   "metadata": {
    "tags": []
   },
   "source": [
    "**Getting around**"
   ]
  },
  {
   "cell_type": "markdown",
   "metadata": {},
   "source": [
    "By default, Julia runs in an interactive terminal called the REPL. In this mode, Some useful commands are:\n",
    "1. `^C` aborts execution\n",
    "1. `^D` exits Julia\n",
    "1. `?` enters help mode\n",
    "1. `;` enters system shell mode\n",
    "1. `]` enters package manager mode\n",
    "1. `^l` clears screen"
   ]
  },
  {
   "cell_type": "markdown",
   "metadata": {},
   "source": [
    "We begin first by activating the environement within the desired folder."
   ]
  },
  {
   "cell_type": "markdown",
   "metadata": {},
   "source": [
    "From the REPL interface, either type\n",
    "```julia\n",
    "using Pkg  \n",
    "pkg\"activate .\"\n",
    "```\n",
    "or access the package mode by typing `]` and simply write\n",
    "```julia\n",
    "activate .\n",
    "```\n",
    "Always within the package mode, to see the full list of installed packages\n",
    "```julia\n",
    "st\n",
    "```"
   ]
  },
  {
   "cell_type": "code",
   "execution_count": null,
   "metadata": {
    "scrolled": true
   },
   "outputs": [],
   "source": [
    "using Pkg\n",
    "pkg\"activate .\""
   ]
  },
  {
   "cell_type": "code",
   "execution_count": null,
   "metadata": {},
   "outputs": [],
   "source": [
    "]st"
   ]
  },
  {
   "cell_type": "markdown",
   "metadata": {},
   "source": [
    "To add the **Markdown** package for instance, we write"
   ]
  },
  {
   "cell_type": "code",
   "execution_count": null,
   "metadata": {
    "tags": []
   },
   "outputs": [],
   "source": [
    "]add Markdown"
   ]
  },
  {
   "cell_type": "markdown",
   "metadata": {},
   "source": [
    "To be able to use it, we do as follows"
   ]
  },
  {
   "cell_type": "code",
   "execution_count": 4,
   "metadata": {},
   "outputs": [],
   "source": [
    "using Markdown"
   ]
  },
  {
   "cell_type": "code",
   "execution_count": 5,
   "metadata": {},
   "outputs": [
    {
     "data": {
      "text/latex": [
       "This a text inside a code cell, thanks to \\textbf{Markdown} package. I can \\emph{emphasize} anything. Make other things \\textbf{bold}\n",
       "\n"
      ],
      "text/markdown": [
       "This a text inside a code cell, thanks to **Markdown** package. I can *emphasize* anything. Make other things **bold**\n"
      ],
      "text/plain": [
       "  This a text inside a code cell, thanks to \u001b[1mMarkdown\u001b[22m package. I can \u001b[4memphasize\u001b[24m\n",
       "  anything. Make other things \u001b[1mbold\u001b[22m"
      ]
     },
     "execution_count": 5,
     "metadata": {},
     "output_type": "execute_result"
    }
   ],
   "source": [
    "md\"\"\"\n",
    "This a text inside a code cell, thanks to **Markdown** package. I can _emphasize_ anything. Make other things **bold**\n",
    "\"\"\""
   ]
  },
  {
   "cell_type": "markdown",
   "metadata": {},
   "source": [
    "Runnig `Julia` in Jupyer Notebookor Jupyter Lab is pretty handy. We only need to install the appropriate kernel. In order to add `Julia` kernel `IJulia` to Jupyter Notebook and/or `JupyterLab` IDEs, we begin by executing the following commands:\n",
    "```julia\n",
    "using Pkg  \n",
    "Pkg.add(\"IJulia\")\n",
    "```\n",
    "If we want to get `JupyterLab` instance running in current directory, we can do:\n",
    "```julia\n",
    "jupyterlab(dir=pwd(), detached=true)\n",
    "```"
   ]
  },
  {
   "cell_type": "markdown",
   "metadata": {},
   "source": [
    "In case things do not work, we run the two following commands from ${\\tt Julia}$ REPL which launch jupyter environment.\n",
    "```julia\n",
    "using IJulia  \n",
    "installkernel(\"Julia\")\n",
    "```"
   ]
  },
  {
   "cell_type": "markdown",
   "metadata": {},
   "source": [
    "The shell mode is also available through the REPL to evaluate some os commands. To do so, simply preface the regular command by semicolon. For instance, `pwd` prints the path to working directory and `ls` allows to list the content of the current directory."
   ]
  },
  {
   "cell_type": "code",
   "execution_count": 6,
   "metadata": {},
   "outputs": [
    {
     "name": "stdout",
     "output_type": "stream",
     "text": [
      "/home/mhamdi/Work/git-repos/AI-ML-DL/jlai/Codes/Julia/Part-1\n"
     ]
    }
   ],
   "source": [
    ";pwd"
   ]
  },
  {
   "cell_type": "code",
   "execution_count": null,
   "metadata": {
    "scrolled": true
   },
   "outputs": [],
   "source": [
    ";ls -la"
   ]
  },
  {
   "cell_type": "markdown",
   "metadata": {},
   "source": [
    "### Getting Help\n",
    "In order to seek help on a particular function. We just use the `?` mark. We can use the ${\\tt Julia}$ documentation to discover more pieces of information about ${\\tt Julia}$ features."
   ]
  },
  {
   "cell_type": "code",
   "execution_count": 8,
   "metadata": {},
   "outputs": [
    {
     "name": "stdout",
     "output_type": "stream",
     "text": [
      "search: \u001b[0m\u001b[1mc\u001b[22m\u001b[0m\u001b[1mo\u001b[22m\u001b[0m\u001b[1ms\u001b[22m \u001b[0m\u001b[1mc\u001b[22m\u001b[0m\u001b[1mo\u001b[22m\u001b[0m\u001b[1ms\u001b[22md a\u001b[0m\u001b[1mc\u001b[22m\u001b[0m\u001b[1mo\u001b[22m\u001b[0m\u001b[1ms\u001b[22m \u001b[0m\u001b[1mc\u001b[22m\u001b[0m\u001b[1mo\u001b[22m\u001b[0m\u001b[1ms\u001b[22mc \u001b[0m\u001b[1mc\u001b[22m\u001b[0m\u001b[1mo\u001b[22m\u001b[0m\u001b[1ms\u001b[22mh \u001b[0m\u001b[1mc\u001b[22mis \u001b[0m\u001b[1mc\u001b[22m\u001b[0m\u001b[1mo\u001b[22mt a\u001b[0m\u001b[1mc\u001b[22m\u001b[0m\u001b[1mo\u001b[22m\u001b[0m\u001b[1ms\u001b[22mh \u001b[0m\u001b[1mc\u001b[22ml\u001b[0m\u001b[1mo\u001b[22m\u001b[0m\u001b[1ms\u001b[22me \u001b[0m\u001b[1mc\u001b[22m\u001b[0m\u001b[1mo\u001b[22m\u001b[0m\u001b[1ms\u001b[22mpi a\u001b[0m\u001b[1mc\u001b[22m\u001b[0m\u001b[1mo\u001b[22m\u001b[0m\u001b[1ms\u001b[22md \u001b[0m\u001b[1mc\u001b[22m\u001b[0m\u001b[1mo\u001b[22mn\u001b[0m\u001b[1ms\u001b[22mt \u001b[0m\u001b[1mc\u001b[22m\u001b[0m\u001b[1mo\u001b[22mth \u001b[0m\u001b[1mc\u001b[22m\u001b[0m\u001b[1mo\u001b[22mpy\n",
      "\n"
     ]
    },
    {
     "data": {
      "text/latex": [
       "\\begin{verbatim}\n",
       "cos(x)\n",
       "\\end{verbatim}\n",
       "Compute cosine of \\texttt{x}, where \\texttt{x} is in radians.\n",
       "\n",
       "See also \\href{@ref}{\\texttt{cosd}}, \\href{@ref}{\\texttt{cospi}}, \\href{@ref}{\\texttt{sincos}}, \\href{@ref}{\\texttt{cis}}.\n",
       "\n",
       "\\rule{\\textwidth}{1pt}\n",
       "\\begin{verbatim}\n",
       "cos(A::AbstractMatrix)\n",
       "\\end{verbatim}\n",
       "Compute the matrix cosine of a square matrix \\texttt{A}.\n",
       "\n",
       "If \\texttt{A} is symmetric or Hermitian, its eigendecomposition (\\href{@ref}{\\texttt{eigen}}) is used to compute the cosine. Otherwise, the cosine is determined by calling \\href{@ref}{\\texttt{exp}}.\n",
       "\n",
       "\\section{Examples}\n",
       "\\begin{verbatim}\n",
       "julia> cos(fill(1.0, (2,2)))\n",
       "2×2 Matrix{Float64}:\n",
       "  0.291927  -0.708073\n",
       " -0.708073   0.291927\n",
       "\\end{verbatim}\n"
      ],
      "text/markdown": [
       "```\n",
       "cos(x)\n",
       "```\n",
       "\n",
       "Compute cosine of `x`, where `x` is in radians.\n",
       "\n",
       "See also [`cosd`](@ref), [`cospi`](@ref), [`sincos`](@ref), [`cis`](@ref).\n",
       "\n",
       "---\n",
       "\n",
       "```\n",
       "cos(A::AbstractMatrix)\n",
       "```\n",
       "\n",
       "Compute the matrix cosine of a square matrix `A`.\n",
       "\n",
       "If `A` is symmetric or Hermitian, its eigendecomposition ([`eigen`](@ref)) is used to compute the cosine. Otherwise, the cosine is determined by calling [`exp`](@ref).\n",
       "\n",
       "# Examples\n",
       "\n",
       "```jldoctest\n",
       "julia> cos(fill(1.0, (2,2)))\n",
       "2×2 Matrix{Float64}:\n",
       "  0.291927  -0.708073\n",
       " -0.708073   0.291927\n",
       "```\n"
      ],
      "text/plain": [
       "  \u001b[38;2;102;217;239mcos\u001b[0m(\u001b[0m\u001b[39mx\u001b[0m\u001b[39m)\u001b[0m\n",
       "\n",
       "  Compute cosine of \u001b[36mx\u001b[39m, where \u001b[36mx\u001b[39m is in radians.\n",
       "\n",
       "  See also \u001b[36mcosd\u001b[39m, \u001b[36mcospi\u001b[39m, \u001b[36msincos\u001b[39m, \u001b[36mcis\u001b[39m.\n",
       "\n",
       "  ────────────────────────────────────────────────────────────────────────────\n",
       "\n",
       "  \u001b[38;2;102;217;239mcos\u001b[0m(\u001b[0m\u001b[39mA\u001b[0m\u001b[38;2;102;217;239m::\u001b[0m\u001b[38;2;102;217;239mAbstractMatrix\u001b[0m\u001b[39m)\u001b[0m\n",
       "\n",
       "  Compute the matrix cosine of a square matrix \u001b[36mA\u001b[39m.\n",
       "\n",
       "  If \u001b[36mA\u001b[39m is symmetric or Hermitian, its eigendecomposition (\u001b[36meigen\u001b[39m) is used to\n",
       "  compute the cosine. Otherwise, the cosine is determined by calling \u001b[36mexp\u001b[39m.\n",
       "\n",
       "\u001b[1m  Examples\u001b[22m\n",
       "\u001b[1m  ≡≡≡≡≡≡≡≡\u001b[22m\n",
       "\n",
       "  \u001b[31;1mjulia> \u001b[0m\u001b[38;2;102;217;239mcos\u001b[0m(\u001b[0m\u001b[38;2;102;217;239mfill\u001b[0m(\u001b[0m\u001b[38;2;174;129;255m1.0\u001b[0m\u001b[39m,\u001b[0m \u001b[0m(\u001b[0m\u001b[38;2;174;129;255m2\u001b[0m\u001b[39m,\u001b[0m\u001b[38;2;174;129;255m2\u001b[0m\u001b[39m)\u001b[0m\u001b[39m)\u001b[0m\u001b[39m)\u001b[0m\n",
       "  \u001b[0m2×2 Matrix{Float64}:\n",
       "    0.291927  -0.708073\n",
       "   -0.708073   0.291927"
      ]
     },
     "execution_count": 8,
     "metadata": {},
     "output_type": "execute_result"
    }
   ],
   "source": [
    "?cos"
   ]
  },
  {
   "cell_type": "markdown",
   "metadata": {},
   "source": [
    "To print something on the standard output, it is possible to use either `print` and `println`. The last one displays the text and moves the cursor to the next line."
   ]
  },
  {
   "cell_type": "code",
   "execution_count": 9,
   "metadata": {},
   "outputs": [
    {
     "name": "stdout",
     "output_type": "stream",
     "text": [
      "Hello World"
     ]
    }
   ],
   "source": [
    "print(\"Hello\")\n",
    "print(' ')\n",
    "print(\"World\")"
   ]
  },
  {
   "cell_type": "code",
   "execution_count": 10,
   "metadata": {},
   "outputs": [
    {
     "name": "stdout",
     "output_type": "stream",
     "text": [
      "Hello\n",
      "World\n"
     ]
    }
   ],
   "source": [
    "println(\"Hello\")\n",
    "println(\"World\")"
   ]
  },
  {
   "cell_type": "markdown",
   "metadata": {},
   "source": [
    "**Data types: Dictionaries**"
   ]
  },
  {
   "cell_type": "code",
   "execution_count": 11,
   "metadata": {
    "tags": []
   },
   "outputs": [
    {
     "data": {
      "text/plain": [
       "Dict{String, Int64} with 3 entries:\n",
       "  \"Bicycle\"  => 2\n",
       "  \"Tricycle\" => 3\n",
       "  \"Unicycle\" => 1"
      ]
     },
     "execution_count": 11,
     "metadata": {},
     "output_type": "execute_result"
    }
   ],
   "source": [
    "dict = Dict(\n",
    "    # Name => # of wheels\n",
    "    \"Unicycle\" => 1,\n",
    "    \"Bicycle\" => 2,\n",
    "    \"Tricycle\" => 3\n",
    ")"
   ]
  },
  {
   "cell_type": "code",
   "execution_count": 12,
   "metadata": {
    "tags": []
   },
   "outputs": [
    {
     "data": {
      "text/plain": [
       "Dict{String, Int64}"
      ]
     },
     "execution_count": 12,
     "metadata": {},
     "output_type": "execute_result"
    }
   ],
   "source": [
    "typeof(dict)"
   ]
  },
  {
   "cell_type": "code",
   "execution_count": 13,
   "metadata": {
    "tags": []
   },
   "outputs": [
    {
     "data": {
      "text/plain": [
       "Dict{String, Int64} with 3 entries:\n",
       "  \"Bicycle\"  => 2\n",
       "  \"Tricycle\" => 3\n",
       "  \"Unicycle\" => 1"
      ]
     },
     "execution_count": 13,
     "metadata": {},
     "output_type": "execute_result"
    }
   ],
   "source": [
    "dict = Dict([(\"Unicycle\", 1), (\"Bicycle\", 2), (\"Tricycle\", 3)])"
   ]
  },
  {
   "cell_type": "code",
   "execution_count": 14,
   "metadata": {
    "tags": []
   },
   "outputs": [
    {
     "data": {
      "text/plain": [
       "2"
      ]
     },
     "execution_count": 14,
     "metadata": {},
     "output_type": "execute_result"
    }
   ],
   "source": [
    "dict[\"Bicycle\"]"
   ]
  },
  {
   "cell_type": "code",
   "execution_count": 15,
   "metadata": {
    "tags": []
   },
   "outputs": [
    {
     "data": {
      "text/plain": [
       "5-element Vector{Any}:\n",
       "    1\n",
       "     'a': ASCII/Unicode U+0061 (category Ll: Letter, lowercase)\n",
       "     \"abc\"\n",
       " true\n",
       "     ComplexF64[0.0 + 0.0im, 0.0 + 0.5im]"
      ]
     },
     "execution_count": 15,
     "metadata": {},
     "output_type": "execute_result"
    }
   ],
   "source": [
    "lst = [1, 'a', \"abc\", true, [0, .5im]]"
   ]
  },
  {
   "cell_type": "code",
   "execution_count": 16,
   "metadata": {
    "tags": []
   },
   "outputs": [
    {
     "data": {
      "text/plain": [
       "Vector{Any}\u001b[90m (alias for \u001b[39m\u001b[90mArray{Any, 1}\u001b[39m\u001b[90m)\u001b[39m"
      ]
     },
     "execution_count": 16,
     "metadata": {},
     "output_type": "execute_result"
    }
   ],
   "source": [
    "typeof(lst)"
   ]
  },
  {
   "cell_type": "code",
   "execution_count": 17,
   "metadata": {
    "tags": []
   },
   "outputs": [
    {
     "data": {
      "text/plain": [
       "2-element Vector{ComplexF64}:\n",
       " 0.0 + 0.0im\n",
       " 0.0 + 0.5im"
      ]
     },
     "execution_count": 17,
     "metadata": {},
     "output_type": "execute_result"
    }
   ],
   "source": [
    "lst[end]"
   ]
  },
  {
   "cell_type": "markdown",
   "metadata": {},
   "source": [
    "### Basic Calculations"
   ]
  },
  {
   "cell_type": "code",
   "execution_count": 18,
   "metadata": {},
   "outputs": [
    {
     "data": {
      "text/plain": [
       "(1, 1.5)"
      ]
     },
     "execution_count": 18,
     "metadata": {},
     "output_type": "execute_result"
    }
   ],
   "source": [
    "a, b = 1, 1.5"
   ]
  },
  {
   "cell_type": "code",
   "execution_count": 19,
   "metadata": {},
   "outputs": [
    {
     "name": "stdout",
     "output_type": "stream",
     "text": [
      "Int64\n",
      "Float64\n"
     ]
    }
   ],
   "source": [
    "println(typeof(a))\n",
    "println(typeof(b))"
   ]
  },
  {
   "cell_type": "code",
   "execution_count": 20,
   "metadata": {},
   "outputs": [
    {
     "data": {
      "text/latex": [
       "\\texttt{varinfo} method allows to display loaded variables.\n",
       "\n"
      ],
      "text/markdown": [
       "`varinfo` method allows to display loaded variables.\n"
      ],
      "text/plain": [
       "  \u001b[36mvarinfo\u001b[39m method allows to display loaded variables."
      ]
     },
     "execution_count": 20,
     "metadata": {},
     "output_type": "execute_result"
    }
   ],
   "source": [
    "md\"\"\"\n",
    "`varinfo` method allows to display loaded variables.\n",
    "\"\"\""
   ]
  },
  {
   "cell_type": "code",
   "execution_count": 21,
   "metadata": {},
   "outputs": [
    {
     "data": {
      "text/latex": [
       "\\begin{tabular}\n",
       "{l | r | l}\n",
       "name & size & summary \\\\\n",
       "\\hline\n",
       "Base &  & Module \\\\\n",
       "Core &  & Module \\\\\n",
       "Main &  & Module \\\\\n",
       "PLOTS\\_DEFAULTS & 384 bytes & Dict\\{Symbol, Symbol\\} with 1 entry \\\\\n",
       "a & 8 bytes & Int64 \\\\\n",
       "b & 8 bytes & Float64 \\\\\n",
       "dict & 431 bytes & Dict\\{String, Int64\\} with 3 entries \\\\\n",
       "docs & 6.466 KiB & Markdown.MD \\\\\n",
       "lst & 176 bytes & 5-element Vector\\{Any\\} \\\\\n",
       "showall & 0 bytes & showall (generic function with 1 method) \\\\\n",
       "\\end{tabular}\n"
      ],
      "text/markdown": [
       "| name           |      size | summary                                  |\n",
       "|:-------------- | ---------:|:---------------------------------------- |\n",
       "| Base           |           | Module                                   |\n",
       "| Core           |           | Module                                   |\n",
       "| Main           |           | Module                                   |\n",
       "| PLOTS_DEFAULTS | 384 bytes | Dict{Symbol, Symbol} with 1 entry        |\n",
       "| a              |   8 bytes | Int64                                    |\n",
       "| b              |   8 bytes | Float64                                  |\n",
       "| dict           | 431 bytes | Dict{String, Int64} with 3 entries       |\n",
       "| docs           | 6.466 KiB | Markdown.MD                              |\n",
       "| lst            | 176 bytes | 5-element Vector{Any}                    |\n",
       "| showall        |   0 bytes | showall (generic function with 1 method) |\n"
      ],
      "text/plain": [
       "  name                size summary                                 \n",
       "  –––––––––––––– ––––––––– ––––––––––––––––––––––––––––––––––––––––\n",
       "  Base                     Module                                  \n",
       "  Core                     Module                                  \n",
       "  Main                     Module                                  \n",
       "  PLOTS_DEFAULTS 384 bytes Dict{Symbol, Symbol} with 1 entry       \n",
       "  a                8 bytes Int64                                   \n",
       "  b                8 bytes Float64                                 \n",
       "  dict           431 bytes Dict{String, Int64} with 3 entries      \n",
       "  docs           6.466 KiB Markdown.MD                             \n",
       "  lst            176 bytes 5-element Vector{Any}                   \n",
       "  showall          0 bytes showall (generic function with 1 method)"
      ]
     },
     "execution_count": 21,
     "metadata": {},
     "output_type": "execute_result"
    }
   ],
   "source": [
    "varinfo()"
   ]
  },
  {
   "cell_type": "code",
   "execution_count": 22,
   "metadata": {},
   "outputs": [
    {
     "name": "stdout",
     "output_type": "stream",
     "text": [
      "search: \u001b[0m\u001b[1mv\u001b[22m\u001b[0m\u001b[1ma\u001b[22m\u001b[0m\u001b[1mr\u001b[22m\u001b[0m\u001b[1mi\u001b[22m\u001b[0m\u001b[1mn\u001b[22m\u001b[0m\u001b[1mf\u001b[22m\u001b[0m\u001b[1mo\u001b[22m @info \u001b[0m\u001b[1mv\u001b[22mersioninfo\n",
      "\n"
     ]
    },
    {
     "data": {
      "text/latex": [
       "\\begin{verbatim}\n",
       "varinfo(m::Module=Main, pattern::Regex=r\"\"; all=false, imported=false, recursive=false, sortby::Symbol=:name, minsize::Int=0)\n",
       "\\end{verbatim}\n",
       "Return a markdown table giving information about public global variables in a module, optionally restricted to those matching \\texttt{pattern}.\n",
       "\n",
       "The memory consumption estimate is an approximate lower bound on the size of the internal structure of the object.\n",
       "\n",
       "\\begin{itemize}\n",
       "\\item \\texttt{all} : also list non-public objects defined in the module, deprecated objects, and compiler-generated objects.\n",
       "\n",
       "\n",
       "\\item \\texttt{imported} : also list objects explicitly imported from other modules.\n",
       "\n",
       "\n",
       "\\item \\texttt{recursive} : recursively include objects in sub-modules, observing the same settings in each.\n",
       "\n",
       "\n",
       "\\item \\texttt{sortby} : the column to sort results by. Options are \\texttt{:name} (default), \\texttt{:size}, and \\texttt{:summary}.\n",
       "\n",
       "\n",
       "\\item \\texttt{minsize} : only includes objects with size at least \\texttt{minsize} bytes. Defaults to \\texttt{0}.\n",
       "\n",
       "\\end{itemize}\n",
       "The output of \\texttt{varinfo} is intended for display purposes only.  See also \\href{@ref}{\\texttt{names}} to get an array of symbols defined in a module, which is suitable for more general manipulations.\n",
       "\n"
      ],
      "text/markdown": [
       "```\n",
       "varinfo(m::Module=Main, pattern::Regex=r\"\"; all=false, imported=false, recursive=false, sortby::Symbol=:name, minsize::Int=0)\n",
       "```\n",
       "\n",
       "Return a markdown table giving information about public global variables in a module, optionally restricted to those matching `pattern`.\n",
       "\n",
       "The memory consumption estimate is an approximate lower bound on the size of the internal structure of the object.\n",
       "\n",
       "  * `all` : also list non-public objects defined in the module, deprecated objects, and compiler-generated objects.\n",
       "  * `imported` : also list objects explicitly imported from other modules.\n",
       "  * `recursive` : recursively include objects in sub-modules, observing the same settings in each.\n",
       "  * `sortby` : the column to sort results by. Options are `:name` (default), `:size`, and `:summary`.\n",
       "  * `minsize` : only includes objects with size at least `minsize` bytes. Defaults to `0`.\n",
       "\n",
       "The output of `varinfo` is intended for display purposes only.  See also [`names`](@ref) to get an array of symbols defined in a module, which is suitable for more general manipulations.\n"
      ],
      "text/plain": [
       "  \u001b[38;2;102;217;239mvarinfo\u001b[0m(\u001b[0m\u001b[39mm\u001b[0m\u001b[38;2;102;217;239m::\u001b[0m\u001b[38;2;102;217;239mModule\u001b[0m\u001b[38;2;249;38;114m=\u001b[0m\u001b[39mMain\u001b[0m\u001b[39m,\u001b[0m \u001b[0m\u001b[39mpattern\u001b[0m\u001b[38;2;102;217;239m::\u001b[0m\u001b[38;2;102;217;239mRegex\u001b[0m\u001b[38;2;249;38;114m=\u001b[0m\u001b[39mr\u001b[0m\u001b[39m\"\u001b[0m\u001b[38;2;230;219;116m\u001b[0m\u001b[39m\"\u001b[0m\u001b[39m;\u001b[0m \u001b[0m\u001b[39mall\u001b[0m\u001b[38;2;249;38;114m=\u001b[0m\u001b[38;2;249;38;114mfalse\u001b[0m\u001b[39m,\u001b[0m \u001b[0m\u001b[39mimported\u001b[0m\u001b[38;2;249;38;114m=\u001b[0m\u001b[38;2;249;38;114mfalse\u001b[0m\u001b[39m,\u001b[0m \u001b[0m\u001b[39mrecursive\u001b[0m\u001b[38;2;249;38;114m=\u001b[0m\u001b[38;2;249;38;114mfalse\u001b[0m\u001b[39m,\u001b[0m \u001b[0m\u001b[39msortby\u001b[0m\u001b[38;2;102;217;239m::\u001b[0m\u001b[38;2;102;217;239mSymbol\u001b[0m\u001b[38;2;249;38;114m=\u001b[0m\u001b[38;2;174;129;255m:\u001b[0m\u001b[38;2;174;129;255mname\u001b[0m\u001b[39m,\u001b[0m \u001b[0m\u001b[39mminsize\u001b[0m\u001b[38;2;102;217;239m::\u001b[0m\u001b[38;2;102;217;239mInt\u001b[0m\u001b[38;2;249;38;114m=\u001b[0m\u001b[38;2;174;129;255m0\u001b[0m\u001b[39m)\u001b[0m\n",
       "\n",
       "  Return a markdown table giving information about public global variables in\n",
       "  a module, optionally restricted to those matching \u001b[36mpattern\u001b[39m.\n",
       "\n",
       "  The memory consumption estimate is an approximate lower bound on the size of\n",
       "  the internal structure of the object.\n",
       "\n",
       "    •  \u001b[36mall\u001b[39m : also list non-public objects defined in the module,\n",
       "       deprecated objects, and compiler-generated objects.\n",
       "\n",
       "    •  \u001b[36mimported\u001b[39m : also list objects explicitly imported from other\n",
       "       modules.\n",
       "\n",
       "    •  \u001b[36mrecursive\u001b[39m : recursively include objects in sub-modules, observing\n",
       "       the same settings in each.\n",
       "\n",
       "    •  \u001b[36msortby\u001b[39m : the column to sort results by. Options are \u001b[36m:name\u001b[39m\n",
       "       (default), \u001b[36m:size\u001b[39m, and \u001b[36m:summary\u001b[39m.\n",
       "\n",
       "    •  \u001b[36mminsize\u001b[39m : only includes objects with size at least \u001b[36mminsize\u001b[39m bytes.\n",
       "       Defaults to \u001b[36m0\u001b[39m.\n",
       "\n",
       "  The output of \u001b[36mvarinfo\u001b[39m is intended for display purposes only. See also \u001b[36mnames\u001b[39m\n",
       "  to get an array of symbols defined in a module, which is suitable for more\n",
       "  general manipulations."
      ]
     },
     "execution_count": 22,
     "metadata": {},
     "output_type": "execute_result"
    }
   ],
   "source": [
    "?varinfo"
   ]
  },
  {
   "cell_type": "code",
   "execution_count": 23,
   "metadata": {},
   "outputs": [
    {
     "name": "stdout",
     "output_type": "stream",
     "text": [
      "Sum of 1 and 1.5 is 2.5\n"
     ]
    }
   ],
   "source": [
    "println(\"Sum of $a and $b is $(a+b)\")"
   ]
  },
  {
   "cell_type": "markdown",
   "metadata": {},
   "source": [
    "Addition, subtraction, multiplication, division, exponent"
   ]
  },
  {
   "cell_type": "code",
   "execution_count": 24,
   "metadata": {},
   "outputs": [
    {
     "data": {
      "text/plain": [
       "(2.5, -0.5, 1.5, 0.0, 1.0)"
      ]
     },
     "execution_count": 24,
     "metadata": {},
     "output_type": "execute_result"
    }
   ],
   "source": [
    "a+b, a-b, a*b, a÷b, a^b"
   ]
  },
  {
   "cell_type": "code",
   "execution_count": 25,
   "metadata": {},
   "outputs": [
    {
     "data": {
      "text/latex": [
       "\\textbf{Unicode support} \n",
       "\n",
       "\\begin{itemize}\n",
       "\\item[1. ] We can use π instead of \\texttt{pi}\n",
       "\n",
       "\n",
       "\\item[2. ] Greek letters improe comprehension: α \\emph{(alpha)}, β \\emph{(beta)}, ...\n",
       "\n",
       "\n",
       "\\item[3. ] Symbols: ≥ \\emph{(>=)}, ≤ \\emph{(<=)}, ∈ \\emph{(in)}, ... \n",
       "\n",
       "\n",
       "\\item[4. ] ...\n",
       "\n",
       "\\end{itemize}\n"
      ],
      "text/markdown": [
       "**Unicode support** \n",
       "\n",
       "1. We can use π instead of `pi`\n",
       "2. Greek letters improe comprehension: α *(alpha)*, β *(beta)*, ...\n",
       "3. Symbols: ≥ *(>=)*, ≤ *(<=)*, ∈ *(in)*, ...\n",
       "4. ...\n"
      ],
      "text/plain": [
       "  \u001b[1mUnicode support\u001b[22m\n",
       "\n",
       "    1. We can use π instead of \u001b[36mpi\u001b[39m\n",
       "\n",
       "    2. Greek letters improe comprehension: α \u001b[4m(alpha)\u001b[24m, β \u001b[4m(beta)\u001b[24m, ...\n",
       "\n",
       "    3. Symbols: ≥ \u001b[4m(>=)\u001b[24m, ≤ \u001b[4m(<=)\u001b[24m, ∈ \u001b[4m(in)\u001b[24m, ...\n",
       "\n",
       "    4. ..."
      ]
     },
     "execution_count": 25,
     "metadata": {},
     "output_type": "execute_result"
    }
   ],
   "source": [
    "md\"\"\"\n",
    "**Unicode support** \n",
    "1. We can use π instead of `pi`\n",
    "1. Greek letters improe comprehension: α _(alpha)_, β _(beta)_, ...\n",
    "1. Symbols: ≥ _(>=)_, ≤ _(<=)_, ∈ _(in)_, ... \n",
    "1. ...\n",
    "\"\"\""
   ]
  },
  {
   "cell_type": "code",
   "execution_count": 26,
   "metadata": {},
   "outputs": [
    {
     "data": {
      "text/plain": [
       "true"
      ]
     },
     "execution_count": 26,
     "metadata": {},
     "output_type": "execute_result"
    }
   ],
   "source": [
    "3 ≤ π "
   ]
  },
  {
   "cell_type": "code",
   "execution_count": 27,
   "metadata": {},
   "outputs": [
    {
     "data": {
      "text/plain": [
       "Float64"
      ]
     },
     "execution_count": 27,
     "metadata": {},
     "output_type": "execute_result"
    }
   ],
   "source": [
    "typeof(3.14)"
   ]
  },
  {
   "cell_type": "code",
   "execution_count": 28,
   "metadata": {},
   "outputs": [
    {
     "data": {
      "text/plain": [
       "Any"
      ]
     },
     "execution_count": 28,
     "metadata": {},
     "output_type": "execute_result"
    }
   ],
   "source": [
    "Float64 |> supertype |> supertype |> supertype |> supertype "
   ]
  },
  {
   "cell_type": "code",
   "execution_count": 29,
   "metadata": {},
   "outputs": [
    {
     "data": {
      "text/plain": [
       "3-element Vector{Any}:\n",
       " Bool\n",
       " Signed\n",
       " Unsigned"
      ]
     },
     "execution_count": 29,
     "metadata": {},
     "output_type": "execute_result"
    }
   ],
   "source": [
    "Integer |> subtypes"
   ]
  },
  {
   "cell_type": "code",
   "execution_count": 30,
   "metadata": {},
   "outputs": [
    {
     "data": {
      "text/plain": [
       "6-element Vector{Any}:\n",
       " BigInt\n",
       " Int128\n",
       " Int16\n",
       " Int32\n",
       " Int64\n",
       " Int8"
      ]
     },
     "execution_count": 30,
     "metadata": {},
     "output_type": "execute_result"
    }
   ],
   "source": [
    "Signed |> subtypes"
   ]
  },
  {
   "cell_type": "code",
   "execution_count": 31,
   "metadata": {},
   "outputs": [
    {
     "data": {
      "text/plain": [
       "true"
      ]
     },
     "execution_count": 31,
     "metadata": {},
     "output_type": "execute_result"
    }
   ],
   "source": [
    "UInt8 <: Unsigned # UInt8 is one subtype of Unsigned"
   ]
  },
  {
   "cell_type": "code",
   "execution_count": 32,
   "metadata": {},
   "outputs": [
    {
     "data": {
      "text/plain": [
       "true"
      ]
     },
     "execution_count": 32,
     "metadata": {},
     "output_type": "execute_result"
    }
   ],
   "source": [
    "Signed >: Int8 # Signed is supertype of Int8"
   ]
  },
  {
   "cell_type": "code",
   "execution_count": 33,
   "metadata": {},
   "outputs": [
    {
     "data": {
      "text/plain": [
       "Int64"
      ]
     },
     "execution_count": 33,
     "metadata": {},
     "output_type": "execute_result"
    }
   ],
   "source": [
    "typeof(3)"
   ]
  },
  {
   "cell_type": "code",
   "execution_count": 34,
   "metadata": {},
   "outputs": [
    {
     "data": {
      "text/plain": [
       "UInt8"
      ]
     },
     "execution_count": 34,
     "metadata": {},
     "output_type": "execute_result"
    }
   ],
   "source": [
    "tmp::UInt8 = 3\n",
    "typeof(tmp)"
   ]
  },
  {
   "cell_type": "markdown",
   "metadata": {},
   "source": [
    "### Mathematical Notation\n"
   ]
  },
  {
   "cell_type": "code",
   "execution_count": 35,
   "metadata": {},
   "outputs": [
    {
     "name": "stdout",
     "output_type": "stream",
     "text": [
      "3\n",
      "3\n"
     ]
    }
   ],
   "source": [
    "println(1+2)\n",
    "println(+(1, 2))"
   ]
  },
  {
   "cell_type": "code",
   "execution_count": 36,
   "metadata": {},
   "outputs": [
    {
     "name": "stdout",
     "output_type": "stream",
     "text": [
      "-1\n",
      "-1\n"
     ]
    }
   ],
   "source": [
    "println(1-2)\n",
    "println(-(1, 2))"
   ]
  },
  {
   "cell_type": "code",
   "execution_count": 37,
   "metadata": {},
   "outputs": [
    {
     "name": "stdout",
     "output_type": "stream",
     "text": [
      "2\n",
      "2\n"
     ]
    }
   ],
   "source": [
    "println(1*2)\n",
    "println(*(1, 2))"
   ]
  },
  {
   "cell_type": "code",
   "execution_count": 38,
   "metadata": {},
   "outputs": [
    {
     "name": "stdout",
     "output_type": "stream",
     "text": [
      "0.5\n",
      "0.5\n"
     ]
    }
   ],
   "source": [
    "println(1/2)\n",
    "println(/(1, 2))"
   ]
  },
  {
   "cell_type": "code",
   "execution_count": 39,
   "metadata": {},
   "outputs": [
    {
     "name": "stdout",
     "output_type": "stream",
     "text": [
      "2.15\n",
      "43//20\n"
     ]
    }
   ],
   "source": [
    "println(3/4+7/5)\n",
    "println(3//4+7//5)"
   ]
  },
  {
   "cell_type": "markdown",
   "metadata": {},
   "source": [
    "### Array Transformations\n",
    "Perform calculations on entire arrays at once."
   ]
  },
  {
   "cell_type": "code",
   "execution_count": 40,
   "metadata": {},
   "outputs": [
    {
     "data": {
      "text/plain": [
       "3×2 Matrix{Float64}:\n",
       " 0.0  0.0\n",
       " 0.0  0.0\n",
       " 0.0  0.0"
      ]
     },
     "execution_count": 40,
     "metadata": {},
     "output_type": "execute_result"
    }
   ],
   "source": [
    "zeros(3, 2)"
   ]
  },
  {
   "cell_type": "code",
   "execution_count": 41,
   "metadata": {},
   "outputs": [
    {
     "data": {
      "text/plain": [
       "3×3×2 Array{Float64, 3}:\n",
       "[:, :, 1] =\n",
       " 1.0  1.0  1.0\n",
       " 1.0  1.0  1.0\n",
       " 1.0  1.0  1.0\n",
       "\n",
       "[:, :, 2] =\n",
       " 1.0  1.0  1.0\n",
       " 1.0  1.0  1.0\n",
       " 1.0  1.0  1.0"
      ]
     },
     "execution_count": 41,
     "metadata": {},
     "output_type": "execute_result"
    }
   ],
   "source": [
    "ones(3, 3, 2)"
   ]
  },
  {
   "cell_type": "code",
   "execution_count": 42,
   "metadata": {},
   "outputs": [
    {
     "data": {
      "text/plain": [
       "2×2 Matrix{Irrational{:π}}:\n",
       " π  π\n",
       " π  π"
      ]
     },
     "execution_count": 42,
     "metadata": {},
     "output_type": "execute_result"
    }
   ],
   "source": [
    "fill(π, (2, 2))"
   ]
  },
  {
   "cell_type": "code",
   "execution_count": 43,
   "metadata": {},
   "outputs": [
    {
     "data": {
      "text/plain": [
       "2×2 Matrix{Float64}:\n",
       " 3.14159  3.14159\n",
       " 3.14159  3.14159"
      ]
     },
     "execution_count": 43,
     "metadata": {},
     "output_type": "execute_result"
    }
   ],
   "source": [
    "π .* ones(2, 2)"
   ]
  },
  {
   "cell_type": "code",
   "execution_count": 44,
   "metadata": {},
   "outputs": [
    {
     "data": {
      "text/latex": [
       "Creates a \\texttt{BitArray} with all values set to \\texttt{true}\n",
       "\n"
      ],
      "text/markdown": [
       "Creates a `BitArray` with all values set to `true`\n"
      ],
      "text/plain": [
       "  Creates a \u001b[36mBitArray\u001b[39m with all values set to \u001b[36mtrue\u001b[39m"
      ]
     },
     "execution_count": 44,
     "metadata": {},
     "output_type": "execute_result"
    }
   ],
   "source": [
    "md\"Creates a `BitArray` with all values set to `true`\""
   ]
  },
  {
   "cell_type": "code",
   "execution_count": 45,
   "metadata": {},
   "outputs": [
    {
     "name": "stdout",
     "output_type": "stream",
     "text": [
      "Bool[1 1 1 1; 1 1 1 1]\n"
     ]
    },
    {
     "data": {
      "text/plain": [
       "BitMatrix\u001b[90m (alias for \u001b[39m\u001b[90mBitArray{2}\u001b[39m\u001b[90m)\u001b[39m"
      ]
     },
     "execution_count": 45,
     "metadata": {},
     "output_type": "execute_result"
    }
   ],
   "source": [
    "var = trues(2, 4)\n",
    "println(var)\n",
    "typeof(var)"
   ]
  },
  {
   "cell_type": "code",
   "execution_count": 46,
   "metadata": {},
   "outputs": [
    {
     "data": {
      "text/latex": [
       "Creates a \\texttt{BitArray} with all values set to \\texttt{false}\n",
       "\n"
      ],
      "text/markdown": [
       "Creates a `BitArray` with all values set to `false`\n"
      ],
      "text/plain": [
       "  Creates a \u001b[36mBitArray\u001b[39m with all values set to \u001b[36mfalse\u001b[39m"
      ]
     },
     "execution_count": 46,
     "metadata": {},
     "output_type": "execute_result"
    }
   ],
   "source": [
    "md\"Creates a `BitArray` with all values set to `false`\""
   ]
  },
  {
   "cell_type": "code",
   "execution_count": 47,
   "metadata": {},
   "outputs": [
    {
     "name": "stdout",
     "output_type": "stream",
     "text": [
      "Bool[0 0 0 0; 0 0 0 0]\n"
     ]
    },
    {
     "data": {
      "text/plain": [
       "BitMatrix\u001b[90m (alias for \u001b[39m\u001b[90mBitArray{2}\u001b[39m\u001b[90m)\u001b[39m"
      ]
     },
     "execution_count": 47,
     "metadata": {},
     "output_type": "execute_result"
    }
   ],
   "source": [
    "var = falses(2, 4)\n",
    "println(var)\n",
    "typeof(var)"
   ]
  },
  {
   "cell_type": "code",
   "execution_count": 48,
   "metadata": {},
   "outputs": [
    {
     "data": {
      "text/latex": [
       "\\textbf{Comprehension}\n",
       "\n"
      ],
      "text/markdown": [
       "**Comprehension**\n"
      ],
      "text/plain": [
       "  \u001b[1mComprehension\u001b[22m"
      ]
     },
     "execution_count": 48,
     "metadata": {},
     "output_type": "execute_result"
    }
   ],
   "source": [
    "md\"**Comprehension**\""
   ]
  },
  {
   "cell_type": "code",
   "execution_count": 49,
   "metadata": {},
   "outputs": [
    {
     "name": "stdout",
     "output_type": "stream",
     "text": [
      "H\n",
      "e\n",
      "l\n",
      "l\n",
      "o\n",
      " \n",
      "J\n",
      "u\n",
      "l\n",
      "i\n",
      "a\n"
     ]
    }
   ],
   "source": [
    "str = \"Hello Julia\"\n",
    "[println(el) for el in str];"
   ]
  },
  {
   "cell_type": "markdown",
   "metadata": {},
   "source": [
    "### Calling Functions\n",
    "Call functions to obtain multiple outputs."
   ]
  },
  {
   "cell_type": "code",
   "execution_count": 50,
   "metadata": {},
   "outputs": [
    {
     "data": {
      "text/latex": [
       "\\href{https://docs.julialang.org/en/v1/manual/functions/}{Functions in ${\\tt Julia}$}\n",
       "\n"
      ],
      "text/markdown": [
       "[Functions in ${\\tt Julia}$](https://docs.julialang.org/en/v1/manual/functions/)\n"
      ],
      "text/plain": [
       "  Functions in \u001b[35m{\\tt Julia}\u001b[39m\n",
       "  (https://docs.julialang.org/en/v1/manual/functions/)"
      ]
     },
     "execution_count": 50,
     "metadata": {},
     "output_type": "execute_result"
    }
   ],
   "source": [
    "md\"\"\"\n",
    "[Functions in ${\\tt Julia}$](https://docs.julialang.org/en/v1/manual/functions/)\n",
    "\"\"\""
   ]
  },
  {
   "cell_type": "code",
   "execution_count": 51,
   "metadata": {},
   "outputs": [
    {
     "data": {
      "text/latex": [
       "\\textbf{Spreading Arguments}\n",
       "\n"
      ],
      "text/markdown": [
       "**Spreading Arguments**\n"
      ],
      "text/plain": [
       "  \u001b[1mSpreading Arguments\u001b[22m"
      ]
     },
     "execution_count": 51,
     "metadata": {},
     "output_type": "execute_result"
    }
   ],
   "source": [
    "md\"**Spreading Arguments**\""
   ]
  },
  {
   "cell_type": "markdown",
   "metadata": {},
   "source": [
    "_Optional positional arguments_"
   ]
  },
  {
   "cell_type": "code",
   "execution_count": 52,
   "metadata": {},
   "outputs": [
    {
     "data": {
      "text/plain": [
       "foo (generic function with 4 methods)"
      ]
     },
     "execution_count": 52,
     "metadata": {},
     "output_type": "execute_result"
    }
   ],
   "source": [
    "foo(x=0, y=0, z=0) = x+y+z"
   ]
  },
  {
   "cell_type": "code",
   "execution_count": 53,
   "metadata": {},
   "outputs": [
    {
     "data": {
      "text/plain": [
       "(0, 6)"
      ]
     },
     "execution_count": 53,
     "metadata": {},
     "output_type": "execute_result"
    }
   ],
   "source": [
    "foo(), foo(1, 2, 3)"
   ]
  },
  {
   "cell_type": "code",
   "execution_count": 54,
   "metadata": {},
   "outputs": [
    {
     "data": {
      "text/plain": [
       "6"
      ]
     },
     "execution_count": 54,
     "metadata": {},
     "output_type": "execute_result"
    }
   ],
   "source": [
    "foo([1, 2, 3]...) # Splat `...` operator"
   ]
  },
  {
   "cell_type": "markdown",
   "metadata": {},
   "source": [
    "_Keywords arguments_"
   ]
  },
  {
   "cell_type": "code",
   "execution_count": 55,
   "metadata": {},
   "outputs": [
    {
     "data": {
      "text/plain": [
       "bar (generic function with 1 method)"
      ]
     },
     "execution_count": 55,
     "metadata": {},
     "output_type": "execute_result"
    }
   ],
   "source": [
    "bar(; a::Real=0, b::Real=0, c::Real=0) = a+b+c"
   ]
  },
  {
   "cell_type": "code",
   "execution_count": 56,
   "metadata": {},
   "outputs": [
    {
     "data": {
      "text/plain": [
       "0"
      ]
     },
     "execution_count": 56,
     "metadata": {},
     "output_type": "execute_result"
    }
   ],
   "source": [
    "bar()"
   ]
  },
  {
   "cell_type": "code",
   "execution_count": 57,
   "metadata": {},
   "outputs": [
    {
     "data": {
      "text/plain": [
       "7.2"
      ]
     },
     "execution_count": 57,
     "metadata": {},
     "output_type": "execute_result"
    }
   ],
   "source": [
    "bar(; Dict(:a => 3, :b => 5.4, :c => -1.2)... ) # ; kwargs..."
   ]
  },
  {
   "cell_type": "code",
   "execution_count": 58,
   "metadata": {},
   "outputs": [
    {
     "name": "stdout",
     "output_type": "stream",
     "text": [
      "MethodError(Main.bar, (1, 2, 3), 0x000000000000683c)\n"
     ]
    }
   ],
   "source": [
    "# THROW AN ERROR \n",
    "try bar([1, 2, 3]...)\n",
    "catch error\n",
    "    println(error)\n",
    "end"
   ]
  },
  {
   "cell_type": "code",
   "execution_count": 59,
   "metadata": {},
   "outputs": [
    {
     "data": {
      "text/latex": [
       "\\textbf{Multiple Dispatch}\n",
       "\n"
      ],
      "text/markdown": [
       "**Multiple Dispatch**\n"
      ],
      "text/plain": [
       "  \u001b[1mMultiple Dispatch\u001b[22m"
      ]
     },
     "execution_count": 59,
     "metadata": {},
     "output_type": "execute_result"
    }
   ],
   "source": [
    "md\"**Multiple Dispatch**\""
   ]
  },
  {
   "cell_type": "code",
   "execution_count": 60,
   "metadata": {},
   "outputs": [
    {
     "data": {
      "text/plain": [
       "f (generic function with 1 method)"
      ]
     },
     "execution_count": 60,
     "metadata": {},
     "output_type": "execute_result"
    }
   ],
   "source": [
    "# 1st method signature\n",
    "function f(x::Int)\n",
    "    x^2\n",
    "end"
   ]
  },
  {
   "cell_type": "code",
   "execution_count": 61,
   "metadata": {},
   "outputs": [
    {
     "data": {
      "text/plain": [
       "f (generic function with 2 methods)"
      ]
     },
     "execution_count": 61,
     "metadata": {},
     "output_type": "execute_result"
    }
   ],
   "source": [
    "# 2nd method signature\n",
    "f(x::Float64) = x^2+1"
   ]
  },
  {
   "cell_type": "code",
   "execution_count": 62,
   "metadata": {},
   "outputs": [
    {
     "data": {
      "text/plain": [
       "f (generic function with 4 methods)"
      ]
     },
     "execution_count": 62,
     "metadata": {},
     "output_type": "execute_result"
    }
   ],
   "source": [
    "# 3rd method signature\n",
    "f(x::Char) = x*'y'*'z'\n",
    "# 4th mehod signature\n",
    "f(x::String) = x*x "
   ]
  },
  {
   "cell_type": "code",
   "execution_count": 63,
   "metadata": {},
   "outputs": [
    {
     "data": {
      "text/html": [
       "# 4 methods for generic function <b>f</b> from \u001b[36mMain\u001b[39m:<ul><li> f(x::<b>String</b>) in Main at In[62]:4</li> <li> f(x::<b>Char</b>) in Main at In[62]:2</li> <li> f(x::<b>Float64</b>) in Main at In[61]:2</li> <li> f(x::<b>Int64</b>) in Main at In[60]:2</li> </ul>"
      ],
      "text/plain": [
       "# 4 methods for generic function \"f\" from \u001b[36mMain\u001b[39m:\n",
       " [1] f(\u001b[90mx\u001b[39m::\u001b[1mString\u001b[22m)\n",
       "\u001b[90m     @\u001b[39m \u001b[90m\u001b[4mIn[62]:4\u001b[24m\u001b[39m\n",
       " [2] f(\u001b[90mx\u001b[39m::\u001b[1mChar\u001b[22m)\n",
       "\u001b[90m     @\u001b[39m \u001b[90m\u001b[4mIn[62]:2\u001b[24m\u001b[39m\n",
       " [3] f(\u001b[90mx\u001b[39m::\u001b[1mFloat64\u001b[22m)\n",
       "\u001b[90m     @\u001b[39m \u001b[90m\u001b[4mIn[61]:2\u001b[24m\u001b[39m\n",
       " [4] f(\u001b[90mx\u001b[39m::\u001b[1mInt64\u001b[22m)\n",
       "\u001b[90m     @\u001b[39m \u001b[90m\u001b[4mIn[60]:2\u001b[24m\u001b[39m"
      ]
     },
     "execution_count": 63,
     "metadata": {},
     "output_type": "execute_result"
    }
   ],
   "source": [
    "methods(f)"
   ]
  },
  {
   "cell_type": "code",
   "execution_count": 64,
   "metadata": {},
   "outputs": [
    {
     "data": {
      "text/plain": [
       "(1, 2.0, \"xyz\", \"abcabc\")"
      ]
     },
     "execution_count": 64,
     "metadata": {},
     "output_type": "execute_result"
    }
   ],
   "source": [
    "f(1), f(1.), f('x'), f(\"abc\")"
   ]
  },
  {
   "cell_type": "code",
   "execution_count": 65,
   "metadata": {},
   "outputs": [
    {
     "data": {
      "text/plain": [
       "mycos (generic function with 2 methods)"
      ]
     },
     "execution_count": 65,
     "metadata": {},
     "output_type": "execute_result"
    }
   ],
   "source": [
    "mycos(x) = cos(x)\n",
    "mycos(adj, hyp) = adj/hyp # Extension to `mycos` function"
   ]
  },
  {
   "cell_type": "code",
   "execution_count": 66,
   "metadata": {
    "scrolled": true
   },
   "outputs": [
    {
     "data": {
      "text/html": [
       "# 2 methods for generic function <b>mycos</b> from \u001b[36mMain\u001b[39m:<ul><li> mycos(adj, hyp) in Main at In[65]:2</li> <li> mycos(x) in Main at In[65]:1</li> </ul>"
      ],
      "text/plain": [
       "# 2 methods for generic function \"mycos\" from \u001b[36mMain\u001b[39m:\n",
       " [1] mycos(\u001b[90madj\u001b[39m, \u001b[90mhyp\u001b[39m)\n",
       "\u001b[90m     @\u001b[39m \u001b[90m\u001b[4mIn[65]:2\u001b[24m\u001b[39m\n",
       " [2] mycos(\u001b[90mx\u001b[39m)\n",
       "\u001b[90m     @\u001b[39m \u001b[90m\u001b[4mIn[65]:1\u001b[24m\u001b[39m"
      ]
     },
     "execution_count": 66,
     "metadata": {},
     "output_type": "execute_result"
    }
   ],
   "source": [
    "methods(mycos)"
   ]
  },
  {
   "cell_type": "code",
   "execution_count": 67,
   "metadata": {
    "scrolled": true
   },
   "outputs": [
    {
     "data": {
      "text/html": [
       "mycos(x) in Main at In[65]:1"
      ],
      "text/plain": [
       "mycos(\u001b[90mx\u001b[39m)\n",
       "\u001b[90m     @\u001b[39m \u001b[90mMain\u001b[39m \u001b[90m\u001b[4mIn[65]:1\u001b[24m\u001b[39m"
      ]
     },
     "execution_count": 67,
     "metadata": {},
     "output_type": "execute_result"
    }
   ],
   "source": [
    "@which mycos(π)"
   ]
  },
  {
   "cell_type": "code",
   "execution_count": 68,
   "metadata": {
    "scrolled": true
   },
   "outputs": [
    {
     "data": {
      "text/html": [
       "mycos(adj, hyp) in Main at In[65]:2"
      ],
      "text/plain": [
       "mycos(\u001b[90madj\u001b[39m, \u001b[90mhyp\u001b[39m)\n",
       "\u001b[90m     @\u001b[39m \u001b[90mMain\u001b[39m \u001b[90m\u001b[4mIn[65]:2\u001b[24m\u001b[39m"
      ]
     },
     "execution_count": 68,
     "metadata": {},
     "output_type": "execute_result"
    }
   ],
   "source": [
    "@which mycos(5, 3)"
   ]
  },
  {
   "cell_type": "code",
   "execution_count": 69,
   "metadata": {},
   "outputs": [
    {
     "data": {
      "text/plain": [
       "mycos (generic function with 2 methods)"
      ]
     },
     "execution_count": 69,
     "metadata": {},
     "output_type": "execute_result"
    }
   ],
   "source": [
    "mycos(adj, hyp=10) = adj/hyp"
   ]
  },
  {
   "cell_type": "code",
   "execution_count": 70,
   "metadata": {},
   "outputs": [
    {
     "data": {
      "text/html": [
       "mycos(adj) in Main at In[69]:1"
      ],
      "text/plain": [
       "mycos(\u001b[90madj\u001b[39m)\n",
       "\u001b[90m     @\u001b[39m \u001b[90mMain\u001b[39m \u001b[90m\u001b[4mIn[69]:1\u001b[24m\u001b[39m"
      ]
     },
     "execution_count": 70,
     "metadata": {},
     "output_type": "execute_result"
    }
   ],
   "source": [
    "@which mycos(π)"
   ]
  },
  {
   "cell_type": "markdown",
   "metadata": {},
   "source": [
    "**Function Chaining** applies a function to the preceding argument."
   ]
  },
  {
   "cell_type": "code",
   "execution_count": 71,
   "metadata": {},
   "outputs": [
    {
     "data": {
      "text/plain": [
       "9"
      ]
     },
     "execution_count": 71,
     "metadata": {},
     "output_type": "execute_result"
    }
   ],
   "source": [
    "g(x) = x+1\n",
    "h(x) = x^2\n",
    "x = 2 |> g |> h"
   ]
  },
  {
   "cell_type": "code",
   "execution_count": 72,
   "metadata": {},
   "outputs": [
    {
     "data": {
      "text/latex": [
       "Another pssible way is t use \\texttt{∘}\\emph{{\\textbackslash}circ\\{tab\\}} symbol\n",
       "\n"
      ],
      "text/markdown": [
       "Another pssible way is t use `∘`*\\circ{tab}* symbol\n"
      ],
      "text/plain": [
       "  Another pssible way is t use \u001b[36m∘\u001b[39m\u001b[4m\\circ{tab}\u001b[24m symbol"
      ]
     },
     "execution_count": 72,
     "metadata": {},
     "output_type": "execute_result"
    }
   ],
   "source": [
    "md\"Another pssible way is t use `∘`_\\circ{tab}_ symbol\""
   ]
  },
  {
   "cell_type": "code",
   "execution_count": 73,
   "metadata": {},
   "outputs": [
    {
     "data": {
      "text/plain": [
       "9"
      ]
     },
     "execution_count": 73,
     "metadata": {},
     "output_type": "execute_result"
    }
   ],
   "source": [
    "(h∘g)(2)"
   ]
  },
  {
   "cell_type": "code",
   "execution_count": 74,
   "metadata": {},
   "outputs": [
    {
     "data": {
      "text/latex": [
       "Definition of a function can be done on the fly\n",
       "\n"
      ],
      "text/markdown": [
       "Definition of a function can be done on the fly\n"
      ],
      "text/plain": [
       "  Definition of a function can be done on the fly"
      ]
     },
     "execution_count": 74,
     "metadata": {},
     "output_type": "execute_result"
    }
   ],
   "source": [
    "md\"Definition of a function can be done on the fly\""
   ]
  },
  {
   "cell_type": "code",
   "execution_count": 75,
   "metadata": {},
   "outputs": [
    {
     "data": {
      "text/plain": [
       "5.0"
      ]
     },
     "execution_count": 75,
     "metadata": {},
     "output_type": "execute_result"
    }
   ],
   "source": [
    "y = 5 |> (x->x^2) |> √"
   ]
  },
  {
   "cell_type": "code",
   "execution_count": 76,
   "metadata": {},
   "outputs": [
    {
     "data": {
      "text/latex": [
       "\\textbf{Metaprogramming:} Code is optimized by nature in ${\\tt Julia}$\n",
       "\n"
      ],
      "text/markdown": [
       "**Metaprogramming:** Code is optimized by nature in ${\\tt Julia}$\n"
      ],
      "text/plain": [
       "  \u001b[1mMetaprogramming:\u001b[22m Code is optimized by nature in \u001b[35m{\\tt Julia}\u001b[39m"
      ]
     },
     "execution_count": 76,
     "metadata": {},
     "output_type": "execute_result"
    }
   ],
   "source": [
    "md\"\"\"\n",
    "**Metaprogramming:** Code is optimized by nature in ${\\tt Julia}$\n",
    "\"\"\""
   ]
  },
  {
   "cell_type": "code",
   "execution_count": 77,
   "metadata": {},
   "outputs": [
    {
     "data": {
      "text/plain": [
       "Foo (generic function with 1 method)"
      ]
     },
     "execution_count": 77,
     "metadata": {},
     "output_type": "execute_result"
    }
   ],
   "source": [
    "function Foo(x::Integer)\n",
    "    y = x\n",
    "    for i=1:100\n",
    "        y += i^2\n",
    "    end\n",
    "    return y\n",
    "end"
   ]
  },
  {
   "cell_type": "code",
   "execution_count": 78,
   "metadata": {},
   "outputs": [
    {
     "name": "stdout",
     "output_type": "stream",
     "text": [
      "\u001b[90m; Function Signature: Foo(Int64)\u001b[39m\n",
      "\u001b[90m;  @ In[77]:1 within `Foo`\u001b[39m\n",
      "\u001b[95mdefine\u001b[39m \u001b[36mi64\u001b[39m \u001b[93m@julia_Foo_19508\u001b[39m\u001b[33m(\u001b[39m\u001b[36mi64\u001b[39m \u001b[95msignext\u001b[39m \u001b[0m%\"x::Int64\"\u001b[33m)\u001b[39m \u001b[0m#0 \u001b[33m{\u001b[39m\n",
      "\u001b[91mtop:\u001b[39m\n",
      "  \u001b[0m%0 \u001b[0m= \u001b[96m\u001b[1madd\u001b[22m\u001b[39m \u001b[36mi64\u001b[39m \u001b[0m%\"x::Int64\"\u001b[0m, \u001b[33m338350\u001b[39m\n",
      "\u001b[90m;  @ In[77]:6 within `Foo`\u001b[39m\n",
      "  \u001b[96m\u001b[1mret\u001b[22m\u001b[39m \u001b[36mi64\u001b[39m \u001b[0m%0\n",
      "\u001b[33m}\u001b[39m\n"
     ]
    }
   ],
   "source": [
    "@code_llvm Foo(3)"
   ]
  },
  {
   "cell_type": "code",
   "execution_count": 79,
   "metadata": {},
   "outputs": [
    {
     "data": {
      "text/latex": [
       "\\begin{verbatim}\n",
       "@code_llvm\n",
       "\\end{verbatim}\n",
       "Evaluates the arguments to the function or macro call, determines their types, and calls \\href{@ref}{\\texttt{code\\_llvm}} on the resulting expression. Set the optional keyword arguments \\texttt{raw}, \\texttt{dump\\_module}, \\texttt{debuginfo}, \\texttt{optimize} by putting them and their value before the function call, like this:\n",
       "\n",
       "\\begin{verbatim}\n",
       "@code_llvm raw=true dump_module=true debuginfo=:default f(x)\n",
       "@code_llvm optimize=false f(x)\n",
       "\\end{verbatim}\n",
       "\\texttt{optimize} controls whether additional optimizations, such as inlining, are also applied. \\texttt{raw} makes all metadata and dbg.* calls visible. \\texttt{debuginfo} may be one of \\texttt{:source} (default) or \\texttt{:none},  to specify the verbosity of code comments. \\texttt{dump\\_module} prints the entire module that encapsulates the function.\n",
       "\n",
       "See also: \\href{@ref}{\\texttt{code\\_llvm}}, \\href{@ref}{\\texttt{@code\\_warntype}}, \\href{@ref}{\\texttt{@code\\_typed}}, \\href{@ref}{\\texttt{@code\\_lowered}}, \\href{@ref}{\\texttt{@code\\_native}}.\n",
       "\n"
      ],
      "text/markdown": [
       "```\n",
       "@code_llvm\n",
       "```\n",
       "\n",
       "Evaluates the arguments to the function or macro call, determines their types, and calls [`code_llvm`](@ref) on the resulting expression. Set the optional keyword arguments `raw`, `dump_module`, `debuginfo`, `optimize` by putting them and their value before the function call, like this:\n",
       "\n",
       "```\n",
       "@code_llvm raw=true dump_module=true debuginfo=:default f(x)\n",
       "@code_llvm optimize=false f(x)\n",
       "```\n",
       "\n",
       "`optimize` controls whether additional optimizations, such as inlining, are also applied. `raw` makes all metadata and dbg.* calls visible. `debuginfo` may be one of `:source` (default) or `:none`,  to specify the verbosity of code comments. `dump_module` prints the entire module that encapsulates the function.\n",
       "\n",
       "See also: [`code_llvm`](@ref), [`@code_warntype`](@ref), [`@code_typed`](@ref), [`@code_lowered`](@ref), [`@code_native`](@ref).\n"
      ],
      "text/plain": [
       "  \u001b[38;2;102;217;239m@\u001b[0m\u001b[38;2;102;217;239mcode_llvm\u001b[0m\n",
       "\n",
       "  Evaluates the arguments to the function or macro call, determines their\n",
       "  types, and calls \u001b[36mcode_llvm\u001b[39m on the resulting expression. Set the optional\n",
       "  keyword arguments \u001b[36mraw\u001b[39m, \u001b[36mdump_module\u001b[39m, \u001b[36mdebuginfo\u001b[39m, \u001b[36moptimize\u001b[39m by putting them and\n",
       "  their value before the function call, like this:\n",
       "\n",
       "  \u001b[38;2;102;217;239m@\u001b[0m\u001b[38;2;102;217;239mcode_llvm\u001b[0m \u001b[0m\u001b[39mraw\u001b[0m\u001b[38;2;249;38;114m=\u001b[0m\u001b[38;2;249;38;114mtrue\u001b[0m \u001b[0m\u001b[39mdump_module\u001b[0m\u001b[38;2;249;38;114m=\u001b[0m\u001b[38;2;249;38;114mtrue\u001b[0m \u001b[0m\u001b[39mdebuginfo\u001b[0m\u001b[38;2;249;38;114m=\u001b[0m\u001b[38;2;174;129;255m:\u001b[0m\u001b[38;2;174;129;255mdefault\u001b[0m \u001b[0m\u001b[38;2;102;217;239mf\u001b[0m(\u001b[0m\u001b[39mx\u001b[0m\u001b[39m)\u001b[0m\n",
       "  \u001b[0m\u001b[38;2;102;217;239m@\u001b[0m\u001b[38;2;102;217;239mcode_llvm\u001b[0m \u001b[0m\u001b[39moptimize\u001b[0m\u001b[38;2;249;38;114m=\u001b[0m\u001b[38;2;249;38;114mfalse\u001b[0m \u001b[0m\u001b[38;2;102;217;239mf\u001b[0m(\u001b[0m\u001b[39mx\u001b[0m\u001b[39m)\u001b[0m\n",
       "\n",
       "  \u001b[36moptimize\u001b[39m controls whether additional optimizations, such as inlining, are\n",
       "  also applied. \u001b[36mraw\u001b[39m makes all metadata and dbg.* calls visible. \u001b[36mdebuginfo\u001b[39m may\n",
       "  be one of \u001b[36m:source\u001b[39m (default) or \u001b[36m:none\u001b[39m, to specify the verbosity of code\n",
       "  comments. \u001b[36mdump_module\u001b[39m prints the entire module that encapsulates the\n",
       "  function.\n",
       "\n",
       "  See also: \u001b[36mcode_llvm\u001b[39m, \u001b[36m@code_warntype\u001b[39m, \u001b[36m@code_typed\u001b[39m, \u001b[36m@code_lowered\u001b[39m,\n",
       "  \u001b[36m@code_native\u001b[39m."
      ]
     },
     "execution_count": 79,
     "metadata": {},
     "output_type": "execute_result"
    }
   ],
   "source": [
    "?@code_llvm"
   ]
  },
  {
   "cell_type": "markdown",
   "metadata": {},
   "source": [
    "### Plotting Data\n",
    "Visualize variables using ${\\tt Julia}$'s plotting functions."
   ]
  },
  {
   "cell_type": "code",
   "execution_count": null,
   "metadata": {},
   "outputs": [],
   "source": [
    "]add Plots"
   ]
  },
  {
   "cell_type": "code",
   "execution_count": 81,
   "metadata": {},
   "outputs": [
    {
     "name": "stderr",
     "output_type": "stream",
     "text": [
      "WARNING: using Plots.bar in module Main conflicts with an existing identifier.\n"
     ]
    }
   ],
   "source": [
    "using Plots # GR is the default backend"
   ]
  },
  {
   "cell_type": "code",
   "execution_count": 82,
   "metadata": {},
   "outputs": [
    {
     "data": {
      "image/png": "[encoded data removed]",
      "image/svg+xml": [
       "<?xml version=\"1.0\" encoding=\"utf-8\"?>\n",
       "<svg xmlns=\"http://www.w3.org/2000/svg\" xmlns:xlink=\"http://www.w3.org/1999/xlink\" width=\"600\" height=\"400\" viewBox=\"0 0 2400 1600\">\n",
       "<defs>\n",
       "  <clipPath id=\"clip850\">\n",
       "    <rect x=\"0\" y=\"0\" width=\"2400\" height=\"1600\"/>\n",
       "  </clipPath>\n",
       "</defs>\n",
       "<path clip-path=\"url(#clip850)\" d=\"M0 1600 L2400 1600 L2400 0 L0 0  Z\" fill=\"#282a36\" fill-rule=\"evenodd\" fill-opacity=\"1\"/>\n",
       "<defs>\n",
       "  <clipPath id=\"clip851\">\n",
       "    <rect x=\"480\" y=\"0\" width=\"1681\" height=\"1600\"/>\n",
       "  </clipPath>\n",
       "</defs>\n",
       "<path clip-path=\"url(#clip850)\" d=\"M193.936 1486.45 L2352.76 1486.45 L2352.76 47.2441 L193.936 47.2441  Z\" fill=\"#30343b\" fill-rule=\"evenodd\" fill-opacity=\"1\"/>\n",
       "<defs>\n",
       "  <clipPath id=\"clip852\">\n",
       "    <rect x=\"193\" y=\"47\" width=\"2160\" height=\"1440\"/>\n",
       "  </clipPath>\n",
       "</defs>\n",
       "<polyline clip-path=\"url(#clip852)\" style=\"stroke:#f8f8f2; stroke-linecap:round; stroke-linejoin:round; stroke-width:2; stroke-opacity:0.1; fill:none\" points=\"481.326,1486.45 481.326,47.2441 \"/>\n",
       "<polyline clip-path=\"url(#clip852)\" style=\"stroke:#f8f8f2; stroke-linecap:round; stroke-linejoin:round; stroke-width:2; stroke-opacity:0.1; fill:none\" points=\"933.909,1486.45 933.909,47.2441 \"/>\n",
       "<polyline clip-path=\"url(#clip852)\" style=\"stroke:#f8f8f2; stroke-linecap:round; stroke-linejoin:round; stroke-width:2; stroke-opacity:0.1; fill:none\" points=\"1386.49,1486.45 1386.49,47.2441 \"/>\n",
       "<polyline clip-path=\"url(#clip852)\" style=\"stroke:#f8f8f2; stroke-linecap:round; stroke-linejoin:round; stroke-width:2; stroke-opacity:0.1; fill:none\" points=\"1839.07,1486.45 1839.07,47.2441 \"/>\n",
       "<polyline clip-path=\"url(#clip852)\" style=\"stroke:#f8f8f2; stroke-linecap:round; stroke-linejoin:round; stroke-width:2; stroke-opacity:0.1; fill:none\" points=\"2291.66,1486.45 2291.66,47.2441 \"/>\n",
       "<polyline clip-path=\"url(#clip852)\" style=\"stroke:#f8f8f2; stroke-linecap:round; stroke-linejoin:round; stroke-width:2; stroke-opacity:0.1; fill:none\" points=\"193.936,1445.77 2352.76,1445.77 \"/>\n",
       "<polyline clip-path=\"url(#clip852)\" style=\"stroke:#f8f8f2; stroke-linecap:round; stroke-linejoin:round; stroke-width:2; stroke-opacity:0.1; fill:none\" points=\"193.936,1106.3 2352.76,1106.3 \"/>\n",
       "<polyline clip-path=\"url(#clip852)\" style=\"stroke:#f8f8f2; stroke-linecap:round; stroke-linejoin:round; stroke-width:2; stroke-opacity:0.1; fill:none\" points=\"193.936,766.824 2352.76,766.824 \"/>\n",
       "<polyline clip-path=\"url(#clip852)\" style=\"stroke:#f8f8f2; stroke-linecap:round; stroke-linejoin:round; stroke-width:2; stroke-opacity:0.1; fill:none\" points=\"193.936,427.352 2352.76,427.352 \"/>\n",
       "<polyline clip-path=\"url(#clip852)\" style=\"stroke:#f8f8f2; stroke-linecap:round; stroke-linejoin:round; stroke-width:2; stroke-opacity:0.1; fill:none\" points=\"193.936,87.8803 2352.76,87.8803 \"/>\n",
       "<polyline clip-path=\"url(#clip850)\" style=\"stroke:#f8f8f2; stroke-linecap:round; stroke-linejoin:round; stroke-width:4; stroke-opacity:1; fill:none\" points=\"193.936,1486.45 2352.76,1486.45 \"/>\n",
       "<polyline clip-path=\"url(#clip850)\" style=\"stroke:#f8f8f2; stroke-linecap:round; stroke-linejoin:round; stroke-width:4; stroke-opacity:1; fill:none\" points=\"481.326,1486.45 481.326,1467.55 \"/>\n",
       "<polyline clip-path=\"url(#clip850)\" style=\"stroke:#f8f8f2; stroke-linecap:round; stroke-linejoin:round; stroke-width:4; stroke-opacity:1; fill:none\" points=\"933.909,1486.45 933.909,1467.55 \"/>\n",
       "<polyline clip-path=\"url(#clip850)\" style=\"stroke:#f8f8f2; stroke-linecap:round; stroke-linejoin:round; stroke-width:4; stroke-opacity:1; fill:none\" points=\"1386.49,1486.45 1386.49,1467.55 \"/>\n",
       "<polyline clip-path=\"url(#clip850)\" style=\"stroke:#f8f8f2; stroke-linecap:round; stroke-linejoin:round; stroke-width:4; stroke-opacity:1; fill:none\" points=\"1839.07,1486.45 1839.07,1467.55 \"/>\n",
       "<polyline clip-path=\"url(#clip850)\" style=\"stroke:#f8f8f2; stroke-linecap:round; stroke-linejoin:round; stroke-width:4; stroke-opacity:1; fill:none\" points=\"2291.66,1486.45 2291.66,1467.55 \"/>\n",
       "<path clip-path=\"url(#clip850)\" d=\"M475.979 1544.91 L492.298 1544.91 L492.298 1548.85 L470.354 1548.85 L470.354 1544.91 Q473.016 1542.16 477.599 1537.53 Q482.206 1532.88 483.386 1531.53 Q485.632 1529.01 486.511 1527.27 Q487.414 1525.51 487.414 1523.82 Q487.414 1521.07 485.47 1519.33 Q483.548 1517.6 480.446 1517.6 Q478.247 1517.6 475.794 1518.36 Q473.363 1519.13 470.585 1520.68 L470.585 1515.95 Q473.409 1514.82 475.863 1514.24 Q478.317 1513.66 480.354 1513.66 Q485.724 1513.66 488.919 1516.35 Q492.113 1519.03 492.113 1523.52 Q492.113 1525.65 491.303 1527.57 Q490.516 1529.47 488.409 1532.07 Q487.831 1532.74 484.729 1535.95 Q481.627 1539.15 475.979 1544.91 Z\" fill=\"#f8f8f2\" fill-rule=\"nonzero\" fill-opacity=\"1\" /><path clip-path=\"url(#clip850)\" d=\"M936.918 1518.36 L925.113 1536.81 L936.918 1536.81 L936.918 1518.36 M935.691 1514.29 L941.571 1514.29 L941.571 1536.81 L946.501 1536.81 L946.501 1540.7 L941.571 1540.7 L941.571 1548.85 L936.918 1548.85 L936.918 1540.7 L921.316 1540.7 L921.316 1536.19 L935.691 1514.29 Z\" fill=\"#f8f8f2\" fill-rule=\"nonzero\" fill-opacity=\"1\" /><path clip-path=\"url(#clip850)\" d=\"M1386.9 1529.7 Q1383.75 1529.7 1381.9 1531.86 Q1380.07 1534.01 1380.07 1537.76 Q1380.07 1541.49 1381.9 1543.66 Q1383.75 1545.82 1386.9 1545.82 Q1390.04 1545.82 1391.87 1543.66 Q1393.73 1541.49 1393.73 1537.76 Q1393.73 1534.01 1391.87 1531.86 Q1390.04 1529.7 1386.9 1529.7 M1396.18 1515.05 L1396.18 1519.31 Q1394.42 1518.48 1392.61 1518.04 Q1390.83 1517.6 1389.07 1517.6 Q1384.44 1517.6 1381.99 1520.72 Q1379.56 1523.85 1379.21 1530.17 Q1380.58 1528.15 1382.64 1527.09 Q1384.7 1526 1387.17 1526 Q1392.38 1526 1395.39 1529.17 Q1398.42 1532.32 1398.42 1537.76 Q1398.42 1543.08 1395.28 1546.3 Q1392.13 1549.52 1386.9 1549.52 Q1380.9 1549.52 1377.73 1544.94 Q1374.56 1540.33 1374.56 1531.6 Q1374.56 1523.41 1378.45 1518.55 Q1382.34 1513.66 1388.89 1513.66 Q1390.65 1513.66 1392.43 1514.01 Q1394.23 1514.36 1396.18 1515.05 Z\" fill=\"#f8f8f2\" fill-rule=\"nonzero\" fill-opacity=\"1\" /><path clip-path=\"url(#clip850)\" d=\"M1839.07 1532.44 Q1835.74 1532.44 1833.82 1534.22 Q1831.92 1536 1831.92 1539.13 Q1831.92 1542.25 1833.82 1544.03 Q1835.74 1545.82 1839.07 1545.82 Q1842.41 1545.82 1844.33 1544.03 Q1846.25 1542.23 1846.25 1539.13 Q1846.25 1536 1844.33 1534.22 Q1842.43 1532.44 1839.07 1532.44 M1834.4 1530.45 Q1831.39 1529.7 1829.7 1527.64 Q1828.03 1525.58 1828.03 1522.62 Q1828.03 1518.48 1830.97 1516.07 Q1833.94 1513.66 1839.07 1513.66 Q1844.24 1513.66 1847.18 1516.07 Q1850.12 1518.48 1850.12 1522.62 Q1850.12 1525.58 1848.43 1527.64 Q1846.76 1529.7 1843.77 1530.45 Q1847.15 1531.23 1849.03 1533.52 Q1850.93 1535.82 1850.93 1539.13 Q1850.93 1544.15 1847.85 1546.83 Q1844.79 1549.52 1839.07 1549.52 Q1833.36 1549.52 1830.28 1546.83 Q1827.22 1544.15 1827.22 1539.13 Q1827.22 1535.82 1829.12 1533.52 Q1831.02 1531.23 1834.4 1530.45 M1832.69 1523.06 Q1832.69 1525.75 1834.35 1527.25 Q1836.04 1528.76 1839.07 1528.76 Q1842.08 1528.76 1843.77 1527.25 Q1845.49 1525.75 1845.49 1523.06 Q1845.49 1520.38 1843.77 1518.87 Q1842.08 1517.37 1839.07 1517.37 Q1836.04 1517.37 1834.35 1518.87 Q1832.69 1520.38 1832.69 1523.06 Z\" fill=\"#f8f8f2\" fill-rule=\"nonzero\" fill-opacity=\"1\" /><path clip-path=\"url(#clip850)\" d=\"M2266.34 1544.91 L2273.98 1544.91 L2273.98 1518.55 L2265.67 1520.21 L2265.67 1515.95 L2273.94 1514.29 L2278.61 1514.29 L2278.61 1544.91 L2286.25 1544.91 L2286.25 1548.85 L2266.34 1548.85 L2266.34 1544.91 Z\" fill=\"#f8f8f2\" fill-rule=\"nonzero\" fill-opacity=\"1\" /><path clip-path=\"url(#clip850)\" d=\"M2305.7 1517.37 Q2302.09 1517.37 2300.26 1520.93 Q2298.45 1524.47 2298.45 1531.6 Q2298.45 1538.71 2300.26 1542.27 Q2302.09 1545.82 2305.7 1545.82 Q2309.33 1545.82 2311.14 1542.27 Q2312.96 1538.71 2312.96 1531.6 Q2312.96 1524.47 2311.14 1520.93 Q2309.33 1517.37 2305.7 1517.37 M2305.7 1513.66 Q2311.51 1513.66 2314.56 1518.27 Q2317.64 1522.85 2317.64 1531.6 Q2317.64 1540.33 2314.56 1544.94 Q2311.51 1549.52 2305.7 1549.52 Q2299.89 1549.52 2296.81 1544.94 Q2293.75 1540.33 2293.75 1531.6 Q2293.75 1522.85 2296.81 1518.27 Q2299.89 1513.66 2305.7 1513.66 Z\" fill=\"#f8f8f2\" fill-rule=\"nonzero\" fill-opacity=\"1\" /><polyline clip-path=\"url(#clip850)\" style=\"stroke:#f8f8f2; stroke-linecap:round; stroke-linejoin:round; stroke-width:4; stroke-opacity:1; fill:none\" points=\"193.936,1486.45 193.936,47.2441 \"/>\n",
       "<polyline clip-path=\"url(#clip850)\" style=\"stroke:#f8f8f2; stroke-linecap:round; stroke-linejoin:round; stroke-width:4; stroke-opacity:1; fill:none\" points=\"193.936,1445.77 212.834,1445.77 \"/>\n",
       "<polyline clip-path=\"url(#clip850)\" style=\"stroke:#f8f8f2; stroke-linecap:round; stroke-linejoin:round; stroke-width:4; stroke-opacity:1; fill:none\" points=\"193.936,1106.3 212.834,1106.3 \"/>\n",
       "<polyline clip-path=\"url(#clip850)\" style=\"stroke:#f8f8f2; stroke-linecap:round; stroke-linejoin:round; stroke-width:4; stroke-opacity:1; fill:none\" points=\"193.936,766.824 212.834,766.824 \"/>\n",
       "<polyline clip-path=\"url(#clip850)\" style=\"stroke:#f8f8f2; stroke-linecap:round; stroke-linejoin:round; stroke-width:4; stroke-opacity:1; fill:none\" points=\"193.936,427.352 212.834,427.352 \"/>\n",
       "<polyline clip-path=\"url(#clip850)\" style=\"stroke:#f8f8f2; stroke-linecap:round; stroke-linejoin:round; stroke-width:4; stroke-opacity:1; fill:none\" points=\"193.936,87.8803 212.834,87.8803 \"/>\n",
       "<path clip-path=\"url(#clip850)\" d=\"M50.9921 1446.22 L80.6679 1446.22 L80.6679 1450.15 L50.9921 1450.15 L50.9921 1446.22 Z\" fill=\"#f8f8f2\" fill-rule=\"nonzero\" fill-opacity=\"1\" /><path clip-path=\"url(#clip850)\" d=\"M91.5706 1459.11 L99.2095 1459.11 L99.2095 1432.75 L90.8993 1434.41 L90.8993 1430.15 L99.1632 1428.49 L103.839 1428.49 L103.839 1459.11 L111.478 1459.11 L111.478 1463.05 L91.5706 1463.05 L91.5706 1459.11 Z\" fill=\"#f8f8f2\" fill-rule=\"nonzero\" fill-opacity=\"1\" /><path clip-path=\"url(#clip850)\" d=\"M120.922 1457.17 L125.807 1457.17 L125.807 1463.05 L120.922 1463.05 L120.922 1457.17 Z\" fill=\"#f8f8f2\" fill-rule=\"nonzero\" fill-opacity=\"1\" /><path clip-path=\"url(#clip850)\" d=\"M145.992 1431.57 Q142.381 1431.57 140.552 1435.13 Q138.746 1438.67 138.746 1445.8 Q138.746 1452.91 140.552 1456.47 Q142.381 1460.02 145.992 1460.02 Q149.626 1460.02 151.431 1456.47 Q153.26 1452.91 153.26 1445.8 Q153.26 1438.67 151.431 1435.13 Q149.626 1431.57 145.992 1431.57 M145.992 1427.86 Q151.802 1427.86 154.857 1432.47 Q157.936 1437.05 157.936 1445.8 Q157.936 1454.53 154.857 1459.14 Q151.802 1463.72 145.992 1463.72 Q140.181 1463.72 137.103 1459.14 Q134.047 1454.53 134.047 1445.8 Q134.047 1437.05 137.103 1432.47 Q140.181 1427.86 145.992 1427.86 Z\" fill=\"#f8f8f2\" fill-rule=\"nonzero\" fill-opacity=\"1\" /><path clip-path=\"url(#clip850)\" d=\"M51.9875 1106.75 L81.6633 1106.75 L81.6633 1110.68 L51.9875 1110.68 L51.9875 1106.75 Z\" fill=\"#f8f8f2\" fill-rule=\"nonzero\" fill-opacity=\"1\" /><path clip-path=\"url(#clip850)\" d=\"M101.756 1092.09 Q98.1447 1092.09 96.316 1095.66 Q94.5104 1099.2 94.5104 1106.33 Q94.5104 1113.44 96.316 1117 Q98.1447 1120.54 101.756 1120.54 Q105.39 1120.54 107.196 1117 Q109.024 1113.44 109.024 1106.33 Q109.024 1099.2 107.196 1095.66 Q105.39 1092.09 101.756 1092.09 M101.756 1088.39 Q107.566 1088.39 110.621 1093 Q113.7 1097.58 113.7 1106.33 Q113.7 1115.06 110.621 1119.66 Q107.566 1124.25 101.756 1124.25 Q95.9456 1124.25 92.8669 1119.66 Q89.8114 1115.06 89.8114 1106.33 Q89.8114 1097.58 92.8669 1093 Q95.9456 1088.39 101.756 1088.39 Z\" fill=\"#f8f8f2\" fill-rule=\"nonzero\" fill-opacity=\"1\" /><path clip-path=\"url(#clip850)\" d=\"M121.918 1117.7 L126.802 1117.7 L126.802 1123.58 L121.918 1123.58 L121.918 1117.7 Z\" fill=\"#f8f8f2\" fill-rule=\"nonzero\" fill-opacity=\"1\" /><path clip-path=\"url(#clip850)\" d=\"M137.033 1089.02 L155.39 1089.02 L155.39 1092.95 L141.316 1092.95 L141.316 1101.42 Q142.334 1101.08 143.353 1100.91 Q144.371 1100.73 145.39 1100.73 Q151.177 1100.73 154.556 1103.9 Q157.936 1107.07 157.936 1112.49 Q157.936 1118.07 154.464 1121.17 Q150.992 1124.25 144.672 1124.25 Q142.496 1124.25 140.228 1123.88 Q137.982 1123.51 135.575 1122.77 L135.575 1118.07 Q137.658 1119.2 139.881 1119.76 Q142.103 1120.31 144.58 1120.31 Q148.584 1120.31 150.922 1118.21 Q153.26 1116.1 153.26 1112.49 Q153.26 1108.88 150.922 1106.77 Q148.584 1104.66 144.58 1104.66 Q142.705 1104.66 140.83 1105.08 Q138.978 1105.5 137.033 1106.38 L137.033 1089.02 Z\" fill=\"#f8f8f2\" fill-rule=\"nonzero\" fill-opacity=\"1\" /><path clip-path=\"url(#clip850)\" d=\"M100.76 752.623 Q97.1493 752.623 95.3206 756.188 Q93.515 759.729 93.515 766.859 Q93.515 773.965 95.3206 777.53 Q97.1493 781.072 100.76 781.072 Q104.395 781.072 106.2 777.53 Q108.029 773.965 108.029 766.859 Q108.029 759.729 106.2 756.188 Q104.395 752.623 100.76 752.623 M100.76 748.919 Q106.571 748.919 109.626 753.526 Q112.705 758.109 112.705 766.859 Q112.705 775.586 109.626 780.192 Q106.571 784.775 100.76 784.775 Q94.9502 784.775 91.8715 780.192 Q88.816 775.586 88.816 766.859 Q88.816 758.109 91.8715 753.526 Q94.9502 748.919 100.76 748.919 Z\" fill=\"#f8f8f2\" fill-rule=\"nonzero\" fill-opacity=\"1\" /><path clip-path=\"url(#clip850)\" d=\"M120.922 778.224 L125.807 778.224 L125.807 784.104 L120.922 784.104 L120.922 778.224 Z\" fill=\"#f8f8f2\" fill-rule=\"nonzero\" fill-opacity=\"1\" /><path clip-path=\"url(#clip850)\" d=\"M145.992 752.623 Q142.381 752.623 140.552 756.188 Q138.746 759.729 138.746 766.859 Q138.746 773.965 140.552 777.53 Q142.381 781.072 145.992 781.072 Q149.626 781.072 151.431 777.53 Q153.26 773.965 153.26 766.859 Q153.26 759.729 151.431 756.188 Q149.626 752.623 145.992 752.623 M145.992 748.919 Q151.802 748.919 154.857 753.526 Q157.936 758.109 157.936 766.859 Q157.936 775.586 154.857 780.192 Q151.802 784.775 145.992 784.775 Q140.181 784.775 137.103 780.192 Q134.047 775.586 134.047 766.859 Q134.047 758.109 137.103 753.526 Q140.181 748.919 145.992 748.919 Z\" fill=\"#f8f8f2\" fill-rule=\"nonzero\" fill-opacity=\"1\" /><path clip-path=\"url(#clip850)\" d=\"M101.756 413.151 Q98.1447 413.151 96.316 416.716 Q94.5104 420.257 94.5104 427.387 Q94.5104 434.493 96.316 438.058 Q98.1447 441.6 101.756 441.6 Q105.39 441.6 107.196 438.058 Q109.024 434.493 109.024 427.387 Q109.024 420.257 107.196 416.716 Q105.39 413.151 101.756 413.151 M101.756 409.447 Q107.566 409.447 110.621 414.054 Q113.7 418.637 113.7 427.387 Q113.7 436.114 110.621 440.72 Q107.566 445.303 101.756 445.303 Q95.9456 445.303 92.8669 440.72 Q89.8114 436.114 89.8114 427.387 Q89.8114 418.637 92.8669 414.054 Q95.9456 409.447 101.756 409.447 Z\" fill=\"#f8f8f2\" fill-rule=\"nonzero\" fill-opacity=\"1\" /><path clip-path=\"url(#clip850)\" d=\"M121.918 438.753 L126.802 438.753 L126.802 444.632 L121.918 444.632 L121.918 438.753 Z\" fill=\"#f8f8f2\" fill-rule=\"nonzero\" fill-opacity=\"1\" /><path clip-path=\"url(#clip850)\" d=\"M137.033 410.072 L155.39 410.072 L155.39 414.007 L141.316 414.007 L141.316 422.48 Q142.334 422.132 143.353 421.97 Q144.371 421.785 145.39 421.785 Q151.177 421.785 154.556 424.956 Q157.936 428.128 157.936 433.544 Q157.936 439.123 154.464 442.225 Q150.992 445.303 144.672 445.303 Q142.496 445.303 140.228 444.933 Q137.982 444.563 135.575 443.822 L135.575 439.123 Q137.658 440.257 139.881 440.813 Q142.103 441.368 144.58 441.368 Q148.584 441.368 150.922 439.262 Q153.26 437.155 153.26 433.544 Q153.26 429.933 150.922 427.827 Q148.584 425.72 144.58 425.72 Q142.705 425.72 140.83 426.137 Q138.978 426.554 137.033 427.433 L137.033 410.072 Z\" fill=\"#f8f8f2\" fill-rule=\"nonzero\" fill-opacity=\"1\" /><path clip-path=\"url(#clip850)\" d=\"M91.5706 101.225 L99.2095 101.225 L99.2095 74.8595 L90.8993 76.5262 L90.8993 72.267 L99.1632 70.6003 L103.839 70.6003 L103.839 101.225 L111.478 101.225 L111.478 105.16 L91.5706 105.16 L91.5706 101.225 Z\" fill=\"#f8f8f2\" fill-rule=\"nonzero\" fill-opacity=\"1\" /><path clip-path=\"url(#clip850)\" d=\"M120.922 99.2807 L125.807 99.2807 L125.807 105.16 L120.922 105.16 L120.922 99.2807 Z\" fill=\"#f8f8f2\" fill-rule=\"nonzero\" fill-opacity=\"1\" /><path clip-path=\"url(#clip850)\" d=\"M145.992 73.679 Q142.381 73.679 140.552 77.2438 Q138.746 80.7854 138.746 87.915 Q138.746 95.0215 140.552 98.5863 Q142.381 102.128 145.992 102.128 Q149.626 102.128 151.431 98.5863 Q153.26 95.0215 153.26 87.915 Q153.26 80.7854 151.431 77.2438 Q149.626 73.679 145.992 73.679 M145.992 69.9753 Q151.802 69.9753 154.857 74.5818 Q157.936 79.1651 157.936 87.915 Q157.936 96.6418 154.857 101.248 Q151.802 105.832 145.992 105.832 Q140.181 105.832 137.103 101.248 Q134.047 96.6418 134.047 87.915 Q134.047 79.1651 137.103 74.5818 Q140.181 69.9753 145.992 69.9753 Z\" fill=\"#f8f8f2\" fill-rule=\"nonzero\" fill-opacity=\"1\" /><polyline clip-path=\"url(#clip852)\" style=\"stroke:#8be9fd; stroke-linecap:round; stroke-linejoin:round; stroke-width:4; stroke-opacity:1; fill:none\" points=\"255.035,195.513 277.664,161.744 300.293,134.022 322.922,112.622 345.551,97.7591 368.18,89.5811 390.81,88.1698 413.439,93.5394 436.068,105.636 458.697,124.34 481.326,149.462 503.955,180.753 526.584,217.9 549.213,260.532 571.843,308.223 594.472,360.495 617.101,416.828 639.73,476.657 662.359,539.386 684.988,604.387 707.617,671.011 730.247,738.593 752.876,806.457 775.505,873.925 798.134,940.322 820.763,1004.99 843.392,1067.27 866.021,1126.55 888.651,1182.24 911.28,1233.78 933.909,1280.65 956.538,1322.39 979.167,1358.57 1001.8,1388.85 1024.43,1412.91 1047.05,1430.51 1069.68,1441.48 1092.31,1445.72 1114.94,1443.16 1137.57,1433.85 1160.2,1417.88 1182.83,1395.4 1205.46,1366.64 1228.09,1331.89 1250.72,1291.49 1273.35,1245.85 1295.98,1195.42 1318.6,1140.71 1341.23,1082.26 1363.86,1020.67 1386.49,956.531 1409.12,890.502 1431.75,823.237 1454.38,755.408 1477.01,687.694 1499.64,620.77 1522.27,555.305 1544.9,491.954 1567.52,431.349 1590.15,374.096 1612.78,320.767 1635.41,271.895 1658.04,227.968 1680.67,189.425 1703.3,156.652 1725.93,129.975 1748.56,109.661 1771.19,95.9134 1793.82,88.8693 1816.45,88.5991 1839.07,95.1055 1861.7,108.323 1884.33,128.121 1906.96,154.3 1929.59,186.599 1952.22,224.696 1974.85,268.21 1997.48,316.705 2020.11,369.698 2042.74,426.659 2065.37,487.019 2087.99,550.174 2110.62,615.494 2133.25,682.326 2155.88,750.003 2178.51,817.847 2201.14,885.182 2223.77,951.334 2246.4,1015.64 2269.03,1077.47 2291.66,1136.18 \"/>\n",
       "<polyline clip-path=\"url(#clip852)\" style=\"stroke:#ff79c6; stroke-linecap:round; stroke-linejoin:round; stroke-width:4; stroke-opacity:1; fill:none\" points=\"255.035,399.989 277.664,458.858 300.293,520.804 322.922,585.207 345.551,651.426 368.18,718.797 390.81,786.649 413.439,854.302 436.068,921.081 458.697,986.319 481.326,1049.36 503.955,1109.59 526.584,1166.38 549.213,1219.19 571.843,1267.47 594.472,1310.76 617.101,1348.6 639.73,1380.64 662.359,1406.54 684.988,1426.05 707.617,1438.97 730.247,1445.18 752.876,1444.61 775.505,1437.27 798.134,1423.23 820.763,1402.63 843.392,1375.67 866.021,1342.64 888.651,1303.85 911.28,1259.69 933.909,1210.61 956.538,1157.1 979.167,1099.68 1001.8,1038.94 1024.43,975.486 1047.05,909.943 1069.68,842.969 1092.31,775.235 1114.94,707.417 1137.57,640.193 1160.2,574.233 1182.83,510.198 1205.46,448.728 1228.09,390.435 1250.72,335.903 1273.35,285.677 1295.98,240.258 1318.6,200.101 1341.23,165.606 1363.86,137.118 1386.49,114.922 1409.12,99.2401 1431.75,90.228 1454.38,87.9763 1477.01,92.5074 1499.64,103.776 1522.27,121.67 1544.9,146.009 1567.52,176.552 1590.15,212.993 1612.78,254.967 1635.41,302.055 1658.04,353.788 1680.67,409.647 1703.3,469.075 1725.93,531.478 1748.56,596.233 1771.19,662.692 1793.82,730.191 1816.45,798.057 1839.07,865.61 1861.7,932.177 1884.33,997.091 1906.96,1059.7 1929.59,1119.39 1952.22,1175.56 1974.85,1227.64 1997.48,1275.11 2020.11,1317.51 2042.74,1354.41 2065.37,1385.43 2087.99,1410.27 2110.62,1428.69 2133.25,1440.49 2155.88,1445.56 2178.51,1443.85 2201.14,1435.37 2223.77,1420.22 2246.4,1398.53 2269.03,1370.53 2291.66,1336.51 \"/>\n",
       "<path clip-path=\"url(#clip850)\" d=\"M1926.79 250.738 L2280.8 250.738 L2280.8 95.2176 L1926.79 95.2176  Z\" fill=\"#282a36\" fill-rule=\"evenodd\" fill-opacity=\"1\"/>\n",
       "<polyline clip-path=\"url(#clip850)\" style=\"stroke:#f8f8f2; stroke-linecap:round; stroke-linejoin:round; stroke-width:4; stroke-opacity:1; fill:none\" points=\"1926.79,250.738 2280.8,250.738 2280.8,95.2176 1926.79,95.2176 1926.79,250.738 \"/>\n",
       "<polyline clip-path=\"url(#clip850)\" style=\"stroke:#8be9fd; stroke-linecap:round; stroke-linejoin:round; stroke-width:4; stroke-opacity:1; fill:none\" points=\"1950.78,147.058 2094.7,147.058 \"/>\n",
       "<path clip-path=\"url(#clip850)\" d=\"M2137.11 139.176 L2137.11 143.203 Q2135.3 142.277 2133.36 141.815 Q2131.42 141.352 2129.33 141.352 Q2126.16 141.352 2124.56 142.324 Q2122.99 143.296 2122.99 145.24 Q2122.99 146.722 2124.12 147.578 Q2125.26 148.412 2128.68 149.176 L2130.14 149.5 Q2134.68 150.472 2136.58 152.254 Q2138.5 154.014 2138.5 157.185 Q2138.5 160.796 2135.63 162.902 Q2132.78 165.009 2127.78 165.009 Q2125.7 165.009 2123.43 164.592 Q2121.18 164.199 2118.68 163.388 L2118.68 158.99 Q2121.05 160.217 2123.34 160.842 Q2125.63 161.444 2127.87 161.444 Q2130.88 161.444 2132.5 160.426 Q2134.12 159.384 2134.12 157.509 Q2134.12 155.773 2132.94 154.847 Q2131.79 153.921 2127.83 153.064 L2126.35 152.717 Q2122.39 151.884 2120.63 150.171 Q2118.87 148.435 2118.87 145.426 Q2118.87 141.768 2121.46 139.778 Q2124.05 137.787 2128.82 137.787 Q2131.18 137.787 2133.27 138.134 Q2135.35 138.481 2137.11 139.176 Z\" fill=\"#f8f8f2\" fill-rule=\"nonzero\" fill-opacity=\"1\" /><path clip-path=\"url(#clip850)\" d=\"M2145.28 138.412 L2149.54 138.412 L2149.54 164.338 L2145.28 164.338 L2145.28 138.412 M2145.28 128.319 L2149.54 128.319 L2149.54 133.713 L2145.28 133.713 L2145.28 128.319 Z\" fill=\"#f8f8f2\" fill-rule=\"nonzero\" fill-opacity=\"1\" /><path clip-path=\"url(#clip850)\" d=\"M2180 148.689 L2180 164.338 L2175.74 164.338 L2175.74 148.828 Q2175.74 145.148 2174.31 143.319 Q2172.87 141.49 2170 141.49 Q2166.55 141.49 2164.56 143.69 Q2162.57 145.889 2162.57 149.685 L2162.57 164.338 L2158.29 164.338 L2158.29 138.412 L2162.57 138.412 L2162.57 142.44 Q2164.1 140.102 2166.16 138.944 Q2168.24 137.787 2170.95 137.787 Q2175.42 137.787 2177.71 140.565 Q2180 143.319 2180 148.689 Z\" fill=\"#f8f8f2\" fill-rule=\"nonzero\" fill-opacity=\"1\" /><path clip-path=\"url(#clip850)\" d=\"M2198.73 128.366 Q2195.63 133.69 2194.12 138.898 Q2192.62 144.106 2192.62 149.453 Q2192.62 154.801 2194.12 160.055 Q2195.65 165.287 2198.73 170.588 L2195.03 170.588 Q2191.55 165.148 2189.82 159.893 Q2188.11 154.639 2188.11 149.453 Q2188.11 144.291 2189.82 139.06 Q2191.53 133.828 2195.03 128.366 L2198.73 128.366 Z\" fill=\"#f8f8f2\" fill-rule=\"nonzero\" fill-opacity=\"1\" /><path clip-path=\"url(#clip850)\" d=\"M2228.54 138.412 L2219.17 151.027 L2229.03 164.338 L2224.01 164.338 L2216.46 154.152 L2208.92 164.338 L2203.89 164.338 L2213.96 150.773 L2204.75 138.412 L2209.77 138.412 L2216.65 147.648 L2223.52 138.412 L2228.54 138.412 Z\" fill=\"#f8f8f2\" fill-rule=\"nonzero\" fill-opacity=\"1\" /><path clip-path=\"url(#clip850)\" d=\"M2234.38 128.366 L2238.08 128.366 Q2241.55 133.828 2243.27 139.06 Q2245 144.291 2245 149.453 Q2245 154.639 2243.27 159.893 Q2241.55 165.148 2238.08 170.588 L2234.38 170.588 Q2237.46 165.287 2238.96 160.055 Q2240.49 154.801 2240.49 149.453 Q2240.49 144.106 2238.96 138.898 Q2237.46 133.69 2234.38 128.366 Z\" fill=\"#f8f8f2\" fill-rule=\"nonzero\" fill-opacity=\"1\" /><polyline clip-path=\"url(#clip850)\" style=\"stroke:#ff79c6; stroke-linecap:round; stroke-linejoin:round; stroke-width:4; stroke-opacity:1; fill:none\" points=\"1950.78,198.898 2094.7,198.898 \"/>\n",
       "<path clip-path=\"url(#clip850)\" d=\"M2139.19 191.247 L2139.19 195.229 Q2137.39 194.233 2135.56 193.747 Q2133.75 193.238 2131.9 193.238 Q2127.76 193.238 2125.47 195.877 Q2123.17 198.492 2123.17 203.238 Q2123.17 207.983 2125.47 210.622 Q2127.76 213.238 2131.9 213.238 Q2133.75 213.238 2135.56 212.752 Q2137.39 212.242 2139.19 211.247 L2139.19 215.182 Q2137.41 216.016 2135.49 216.432 Q2133.59 216.849 2131.44 216.849 Q2125.58 216.849 2122.13 213.168 Q2118.68 209.488 2118.68 203.238 Q2118.68 196.895 2122.16 193.261 Q2125.65 189.627 2131.72 189.627 Q2133.68 189.627 2135.56 190.043 Q2137.43 190.437 2139.19 191.247 Z\" fill=\"#f8f8f2\" fill-rule=\"nonzero\" fill-opacity=\"1\" /><path clip-path=\"url(#clip850)\" d=\"M2156.65 193.238 Q2153.22 193.238 2151.23 195.923 Q2149.24 198.585 2149.24 203.238 Q2149.24 207.891 2151.21 210.576 Q2153.2 213.238 2156.65 213.238 Q2160.05 213.238 2162.04 210.553 Q2164.03 207.867 2164.03 203.238 Q2164.03 198.631 2162.04 195.946 Q2160.05 193.238 2156.65 193.238 M2156.65 189.627 Q2162.2 189.627 2165.37 193.238 Q2168.54 196.849 2168.54 203.238 Q2168.54 209.604 2165.37 213.238 Q2162.2 216.849 2156.65 216.849 Q2151.07 216.849 2147.9 213.238 Q2144.75 209.604 2144.75 203.238 Q2144.75 196.849 2147.9 193.238 Q2151.07 189.627 2156.65 189.627 Z\" fill=\"#f8f8f2\" fill-rule=\"nonzero\" fill-opacity=\"1\" /><path clip-path=\"url(#clip850)\" d=\"M2192.13 191.016 L2192.13 195.043 Q2190.33 194.117 2188.38 193.655 Q2186.44 193.192 2184.36 193.192 Q2181.18 193.192 2179.59 194.164 Q2178.01 195.136 2178.01 197.08 Q2178.01 198.562 2179.15 199.418 Q2180.28 200.252 2183.71 201.016 L2185.17 201.34 Q2189.7 202.312 2191.6 204.094 Q2193.52 205.854 2193.52 209.025 Q2193.52 212.636 2190.65 214.742 Q2187.8 216.849 2182.8 216.849 Q2180.72 216.849 2178.45 216.432 Q2176.21 216.039 2173.71 215.228 L2173.71 210.83 Q2176.07 212.057 2178.36 212.682 Q2180.65 213.284 2182.9 213.284 Q2185.91 213.284 2187.53 212.266 Q2189.15 211.224 2189.15 209.349 Q2189.15 207.613 2187.97 206.687 Q2186.81 205.761 2182.85 204.904 L2181.37 204.557 Q2177.41 203.724 2175.65 202.011 Q2173.89 200.275 2173.89 197.266 Q2173.89 193.608 2176.48 191.618 Q2179.08 189.627 2183.85 189.627 Q2186.21 189.627 2188.29 189.974 Q2190.37 190.321 2192.13 191.016 Z\" fill=\"#f8f8f2\" fill-rule=\"nonzero\" fill-opacity=\"1\" /><path clip-path=\"url(#clip850)\" d=\"M2210.54 180.206 Q2207.43 185.53 2205.93 190.738 Q2204.42 195.946 2204.42 201.293 Q2204.42 206.641 2205.93 211.895 Q2207.46 217.127 2210.54 222.428 L2206.83 222.428 Q2203.36 216.988 2201.62 211.733 Q2199.91 206.479 2199.91 201.293 Q2199.91 196.131 2201.62 190.9 Q2203.34 185.668 2206.83 180.206 L2210.54 180.206 Z\" fill=\"#f8f8f2\" fill-rule=\"nonzero\" fill-opacity=\"1\" /><path clip-path=\"url(#clip850)\" d=\"M2240.35 190.252 L2230.98 202.867 L2240.84 216.178 L2235.81 216.178 L2228.27 205.992 L2220.72 216.178 L2215.7 216.178 L2225.77 202.613 L2216.55 190.252 L2221.58 190.252 L2228.45 199.488 L2235.33 190.252 L2240.35 190.252 Z\" fill=\"#f8f8f2\" fill-rule=\"nonzero\" fill-opacity=\"1\" /><path clip-path=\"url(#clip850)\" d=\"M2246.18 180.206 L2249.89 180.206 Q2253.36 185.668 2255.07 190.9 Q2256.81 196.131 2256.81 201.293 Q2256.81 206.479 2255.07 211.733 Q2253.36 216.988 2249.89 222.428 L2246.18 222.428 Q2249.26 217.127 2250.77 211.895 Q2252.29 206.641 2252.29 201.293 Q2252.29 195.946 2250.77 190.738 Q2249.26 185.53 2246.18 180.206 Z\" fill=\"#f8f8f2\" fill-rule=\"nonzero\" fill-opacity=\"1\" /></svg>\n"
      ],
      "text/html": [
       "<?xml version=\"1.0\" encoding=\"utf-8\"?>\n",
       "<svg xmlns=\"http://www.w3.org/2000/svg\" xmlns:xlink=\"http://www.w3.org/1999/xlink\" width=\"600\" height=\"400\" viewBox=\"0 0 2400 1600\">\n",
       "<defs>\n",
       "  <clipPath id=\"clip900\">\n",
       "    <rect x=\"0\" y=\"0\" width=\"2400\" height=\"1600\"/>\n",
       "  </clipPath>\n",
       "</defs>\n",
       "<path clip-path=\"url(#clip900)\" d=\"M0 1600 L2400 1600 L2400 0 L0 0  Z\" fill=\"#282a36\" fill-rule=\"evenodd\" fill-opacity=\"1\"/>\n",
       "<defs>\n",
       "  <clipPath id=\"clip901\">\n",
       "    <rect x=\"480\" y=\"0\" width=\"1681\" height=\"1600\"/>\n",
       "  </clipPath>\n",
       "</defs>\n",
       "<path clip-path=\"url(#clip900)\" d=\"M193.936 1486.45 L2352.76 1486.45 L2352.76 47.2441 L193.936 47.2441  Z\" fill=\"#30343b\" fill-rule=\"evenodd\" fill-opacity=\"1\"/>\n",
       "<defs>\n",
       "  <clipPath id=\"clip902\">\n",
       "    <rect x=\"193\" y=\"47\" width=\"2160\" height=\"1440\"/>\n",
       "  </clipPath>\n",
       "</defs>\n",
       "<polyline clip-path=\"url(#clip902)\" style=\"stroke:#f8f8f2; stroke-linecap:round; stroke-linejoin:round; stroke-width:2; stroke-opacity:0.1; fill:none\" points=\"481.326,1486.45 481.326,47.2441 \"/>\n",
       "<polyline clip-path=\"url(#clip902)\" style=\"stroke:#f8f8f2; stroke-linecap:round; stroke-linejoin:round; stroke-width:2; stroke-opacity:0.1; fill:none\" points=\"933.909,1486.45 933.909,47.2441 \"/>\n",
       "<polyline clip-path=\"url(#clip902)\" style=\"stroke:#f8f8f2; stroke-linecap:round; stroke-linejoin:round; stroke-width:2; stroke-opacity:0.1; fill:none\" points=\"1386.49,1486.45 1386.49,47.2441 \"/>\n",
       "<polyline clip-path=\"url(#clip902)\" style=\"stroke:#f8f8f2; stroke-linecap:round; stroke-linejoin:round; stroke-width:2; stroke-opacity:0.1; fill:none\" points=\"1839.07,1486.45 1839.07,47.2441 \"/>\n",
       "<polyline clip-path=\"url(#clip902)\" style=\"stroke:#f8f8f2; stroke-linecap:round; stroke-linejoin:round; stroke-width:2; stroke-opacity:0.1; fill:none\" points=\"2291.66,1486.45 2291.66,47.2441 \"/>\n",
       "<polyline clip-path=\"url(#clip902)\" style=\"stroke:#f8f8f2; stroke-linecap:round; stroke-linejoin:round; stroke-width:2; stroke-opacity:0.1; fill:none\" points=\"193.936,1445.77 2352.76,1445.77 \"/>\n",
       "<polyline clip-path=\"url(#clip902)\" style=\"stroke:#f8f8f2; stroke-linecap:round; stroke-linejoin:round; stroke-width:2; stroke-opacity:0.1; fill:none\" points=\"193.936,1106.3 2352.76,1106.3 \"/>\n",
       "<polyline clip-path=\"url(#clip902)\" style=\"stroke:#f8f8f2; stroke-linecap:round; stroke-linejoin:round; stroke-width:2; stroke-opacity:0.1; fill:none\" points=\"193.936,766.824 2352.76,766.824 \"/>\n",
       "<polyline clip-path=\"url(#clip902)\" style=\"stroke:#f8f8f2; stroke-linecap:round; stroke-linejoin:round; stroke-width:2; stroke-opacity:0.1; fill:none\" points=\"193.936,427.352 2352.76,427.352 \"/>\n",
       "<polyline clip-path=\"url(#clip902)\" style=\"stroke:#f8f8f2; stroke-linecap:round; stroke-linejoin:round; stroke-width:2; stroke-opacity:0.1; fill:none\" points=\"193.936,87.8803 2352.76,87.8803 \"/>\n",
       "<polyline clip-path=\"url(#clip900)\" style=\"stroke:#f8f8f2; stroke-linecap:round; stroke-linejoin:round; stroke-width:4; stroke-opacity:1; fill:none\" points=\"193.936,1486.45 2352.76,1486.45 \"/>\n",
       "<polyline clip-path=\"url(#clip900)\" style=\"stroke:#f8f8f2; stroke-linecap:round; stroke-linejoin:round; stroke-width:4; stroke-opacity:1; fill:none\" points=\"481.326,1486.45 481.326,1467.55 \"/>\n",
       "<polyline clip-path=\"url(#clip900)\" style=\"stroke:#f8f8f2; stroke-linecap:round; stroke-linejoin:round; stroke-width:4; stroke-opacity:1; fill:none\" points=\"933.909,1486.45 933.909,1467.55 \"/>\n",
       "<polyline clip-path=\"url(#clip900)\" style=\"stroke:#f8f8f2; stroke-linecap:round; stroke-linejoin:round; stroke-width:4; stroke-opacity:1; fill:none\" points=\"1386.49,1486.45 1386.49,1467.55 \"/>\n",
       "<polyline clip-path=\"url(#clip900)\" style=\"stroke:#f8f8f2; stroke-linecap:round; stroke-linejoin:round; stroke-width:4; stroke-opacity:1; fill:none\" points=\"1839.07,1486.45 1839.07,1467.55 \"/>\n",
       "<polyline clip-path=\"url(#clip900)\" style=\"stroke:#f8f8f2; stroke-linecap:round; stroke-linejoin:round; stroke-width:4; stroke-opacity:1; fill:none\" points=\"2291.66,1486.45 2291.66,1467.55 \"/>\n",
       "<path clip-path=\"url(#clip900)\" d=\"M475.979 1544.91 L492.298 1544.91 L492.298 1548.85 L470.354 1548.85 L470.354 1544.91 Q473.016 1542.16 477.599 1537.53 Q482.206 1532.88 483.386 1531.53 Q485.632 1529.01 486.511 1527.27 Q487.414 1525.51 487.414 1523.82 Q487.414 1521.07 485.47 1519.33 Q483.548 1517.6 480.446 1517.6 Q478.247 1517.6 475.794 1518.36 Q473.363 1519.13 470.585 1520.68 L470.585 1515.95 Q473.409 1514.82 475.863 1514.24 Q478.317 1513.66 480.354 1513.66 Q485.724 1513.66 488.919 1516.35 Q492.113 1519.03 492.113 1523.52 Q492.113 1525.65 491.303 1527.57 Q490.516 1529.47 488.409 1532.07 Q487.831 1532.74 484.729 1535.95 Q481.627 1539.15 475.979 1544.91 Z\" fill=\"#f8f8f2\" fill-rule=\"nonzero\" fill-opacity=\"1\" /><path clip-path=\"url(#clip900)\" d=\"M936.918 1518.36 L925.113 1536.81 L936.918 1536.81 L936.918 1518.36 M935.691 1514.29 L941.571 1514.29 L941.571 1536.81 L946.501 1536.81 L946.501 1540.7 L941.571 1540.7 L941.571 1548.85 L936.918 1548.85 L936.918 1540.7 L921.316 1540.7 L921.316 1536.19 L935.691 1514.29 Z\" fill=\"#f8f8f2\" fill-rule=\"nonzero\" fill-opacity=\"1\" /><path clip-path=\"url(#clip900)\" d=\"M1386.9 1529.7 Q1383.75 1529.7 1381.9 1531.86 Q1380.07 1534.01 1380.07 1537.76 Q1380.07 1541.49 1381.9 1543.66 Q1383.75 1545.82 1386.9 1545.82 Q1390.04 1545.82 1391.87 1543.66 Q1393.73 1541.49 1393.73 1537.76 Q1393.73 1534.01 1391.87 1531.86 Q1390.04 1529.7 1386.9 1529.7 M1396.18 1515.05 L1396.18 1519.31 Q1394.42 1518.48 1392.61 1518.04 Q1390.83 1517.6 1389.07 1517.6 Q1384.44 1517.6 1381.99 1520.72 Q1379.56 1523.85 1379.21 1530.17 Q1380.58 1528.15 1382.64 1527.09 Q1384.7 1526 1387.17 1526 Q1392.38 1526 1395.39 1529.17 Q1398.42 1532.32 1398.42 1537.76 Q1398.42 1543.08 1395.28 1546.3 Q1392.13 1549.52 1386.9 1549.52 Q1380.9 1549.52 1377.73 1544.94 Q1374.56 1540.33 1374.56 1531.6 Q1374.56 1523.41 1378.45 1518.55 Q1382.34 1513.66 1388.89 1513.66 Q1390.65 1513.66 1392.43 1514.01 Q1394.23 1514.36 1396.18 1515.05 Z\" fill=\"#f8f8f2\" fill-rule=\"nonzero\" fill-opacity=\"1\" /><path clip-path=\"url(#clip900)\" d=\"M1839.07 1532.44 Q1835.74 1532.44 1833.82 1534.22 Q1831.92 1536 1831.92 1539.13 Q1831.92 1542.25 1833.82 1544.03 Q1835.74 1545.82 1839.07 1545.82 Q1842.41 1545.82 1844.33 1544.03 Q1846.25 1542.23 1846.25 1539.13 Q1846.25 1536 1844.33 1534.22 Q1842.43 1532.44 1839.07 1532.44 M1834.4 1530.45 Q1831.39 1529.7 1829.7 1527.64 Q1828.03 1525.58 1828.03 1522.62 Q1828.03 1518.48 1830.97 1516.07 Q1833.94 1513.66 1839.07 1513.66 Q1844.24 1513.66 1847.18 1516.07 Q1850.12 1518.48 1850.12 1522.62 Q1850.12 1525.58 1848.43 1527.64 Q1846.76 1529.7 1843.77 1530.45 Q1847.15 1531.23 1849.03 1533.52 Q1850.93 1535.82 1850.93 1539.13 Q1850.93 1544.15 1847.85 1546.83 Q1844.79 1549.52 1839.07 1549.52 Q1833.36 1549.52 1830.28 1546.83 Q1827.22 1544.15 1827.22 1539.13 Q1827.22 1535.82 1829.12 1533.52 Q1831.02 1531.23 1834.4 1530.45 M1832.69 1523.06 Q1832.69 1525.75 1834.35 1527.25 Q1836.04 1528.76 1839.07 1528.76 Q1842.08 1528.76 1843.77 1527.25 Q1845.49 1525.75 1845.49 1523.06 Q1845.49 1520.38 1843.77 1518.87 Q1842.08 1517.37 1839.07 1517.37 Q1836.04 1517.37 1834.35 1518.87 Q1832.69 1520.38 1832.69 1523.06 Z\" fill=\"#f8f8f2\" fill-rule=\"nonzero\" fill-opacity=\"1\" /><path clip-path=\"url(#clip900)\" d=\"M2266.34 1544.91 L2273.98 1544.91 L2273.98 1518.55 L2265.67 1520.21 L2265.67 1515.95 L2273.94 1514.29 L2278.61 1514.29 L2278.61 1544.91 L2286.25 1544.91 L2286.25 1548.85 L2266.34 1548.85 L2266.34 1544.91 Z\" fill=\"#f8f8f2\" fill-rule=\"nonzero\" fill-opacity=\"1\" /><path clip-path=\"url(#clip900)\" d=\"M2305.7 1517.37 Q2302.09 1517.37 2300.26 1520.93 Q2298.45 1524.47 2298.45 1531.6 Q2298.45 1538.71 2300.26 1542.27 Q2302.09 1545.82 2305.7 1545.82 Q2309.33 1545.82 2311.14 1542.27 Q2312.96 1538.71 2312.96 1531.6 Q2312.96 1524.47 2311.14 1520.93 Q2309.33 1517.37 2305.7 1517.37 M2305.7 1513.66 Q2311.51 1513.66 2314.56 1518.27 Q2317.64 1522.85 2317.64 1531.6 Q2317.64 1540.33 2314.56 1544.94 Q2311.51 1549.52 2305.7 1549.52 Q2299.89 1549.52 2296.81 1544.94 Q2293.75 1540.33 2293.75 1531.6 Q2293.75 1522.85 2296.81 1518.27 Q2299.89 1513.66 2305.7 1513.66 Z\" fill=\"#f8f8f2\" fill-rule=\"nonzero\" fill-opacity=\"1\" /><polyline clip-path=\"url(#clip900)\" style=\"stroke:#f8f8f2; stroke-linecap:round; stroke-linejoin:round; stroke-width:4; stroke-opacity:1; fill:none\" points=\"193.936,1486.45 193.936,47.2441 \"/>\n",
       "<polyline clip-path=\"url(#clip900)\" style=\"stroke:#f8f8f2; stroke-linecap:round; stroke-linejoin:round; stroke-width:4; stroke-opacity:1; fill:none\" points=\"193.936,1445.77 212.834,1445.77 \"/>\n",
       "<polyline clip-path=\"url(#clip900)\" style=\"stroke:#f8f8f2; stroke-linecap:round; stroke-linejoin:round; stroke-width:4; stroke-opacity:1; fill:none\" points=\"193.936,1106.3 212.834,1106.3 \"/>\n",
       "<polyline clip-path=\"url(#clip900)\" style=\"stroke:#f8f8f2; stroke-linecap:round; stroke-linejoin:round; stroke-width:4; stroke-opacity:1; fill:none\" points=\"193.936,766.824 212.834,766.824 \"/>\n",
       "<polyline clip-path=\"url(#clip900)\" style=\"stroke:#f8f8f2; stroke-linecap:round; stroke-linejoin:round; stroke-width:4; stroke-opacity:1; fill:none\" points=\"193.936,427.352 212.834,427.352 \"/>\n",
       "<polyline clip-path=\"url(#clip900)\" style=\"stroke:#f8f8f2; stroke-linecap:round; stroke-linejoin:round; stroke-width:4; stroke-opacity:1; fill:none\" points=\"193.936,87.8803 212.834,87.8803 \"/>\n",
       "<path clip-path=\"url(#clip900)\" d=\"M50.9921 1446.22 L80.6679 1446.22 L80.6679 1450.15 L50.9921 1450.15 L50.9921 1446.22 Z\" fill=\"#f8f8f2\" fill-rule=\"nonzero\" fill-opacity=\"1\" /><path clip-path=\"url(#clip900)\" d=\"M91.5706 1459.11 L99.2095 1459.11 L99.2095 1432.75 L90.8993 1434.41 L90.8993 1430.15 L99.1632 1428.49 L103.839 1428.49 L103.839 1459.11 L111.478 1459.11 L111.478 1463.05 L91.5706 1463.05 L91.5706 1459.11 Z\" fill=\"#f8f8f2\" fill-rule=\"nonzero\" fill-opacity=\"1\" /><path clip-path=\"url(#clip900)\" d=\"M120.922 1457.17 L125.807 1457.17 L125.807 1463.05 L120.922 1463.05 L120.922 1457.17 Z\" fill=\"#f8f8f2\" fill-rule=\"nonzero\" fill-opacity=\"1\" /><path clip-path=\"url(#clip900)\" d=\"M145.992 1431.57 Q142.381 1431.57 140.552 1435.13 Q138.746 1438.67 138.746 1445.8 Q138.746 1452.91 140.552 1456.47 Q142.381 1460.02 145.992 1460.02 Q149.626 1460.02 151.431 1456.47 Q153.26 1452.91 153.26 1445.8 Q153.26 1438.67 151.431 1435.13 Q149.626 1431.57 145.992 1431.57 M145.992 1427.86 Q151.802 1427.86 154.857 1432.47 Q157.936 1437.05 157.936 1445.8 Q157.936 1454.53 154.857 1459.14 Q151.802 1463.72 145.992 1463.72 Q140.181 1463.72 137.103 1459.14 Q134.047 1454.53 134.047 1445.8 Q134.047 1437.05 137.103 1432.47 Q140.181 1427.86 145.992 1427.86 Z\" fill=\"#f8f8f2\" fill-rule=\"nonzero\" fill-opacity=\"1\" /><path clip-path=\"url(#clip900)\" d=\"M51.9875 1106.75 L81.6633 1106.75 L81.6633 1110.68 L51.9875 1110.68 L51.9875 1106.75 Z\" fill=\"#f8f8f2\" fill-rule=\"nonzero\" fill-opacity=\"1\" /><path clip-path=\"url(#clip900)\" d=\"M101.756 1092.09 Q98.1447 1092.09 96.316 1095.66 Q94.5104 1099.2 94.5104 1106.33 Q94.5104 1113.44 96.316 1117 Q98.1447 1120.54 101.756 1120.54 Q105.39 1120.54 107.196 1117 Q109.024 1113.44 109.024 1106.33 Q109.024 1099.2 107.196 1095.66 Q105.39 1092.09 101.756 1092.09 M101.756 1088.39 Q107.566 1088.39 110.621 1093 Q113.7 1097.58 113.7 1106.33 Q113.7 1115.06 110.621 1119.66 Q107.566 1124.25 101.756 1124.25 Q95.9456 1124.25 92.8669 1119.66 Q89.8114 1115.06 89.8114 1106.33 Q89.8114 1097.58 92.8669 1093 Q95.9456 1088.39 101.756 1088.39 Z\" fill=\"#f8f8f2\" fill-rule=\"nonzero\" fill-opacity=\"1\" /><path clip-path=\"url(#clip900)\" d=\"M121.918 1117.7 L126.802 1117.7 L126.802 1123.58 L121.918 1123.58 L121.918 1117.7 Z\" fill=\"#f8f8f2\" fill-rule=\"nonzero\" fill-opacity=\"1\" /><path clip-path=\"url(#clip900)\" d=\"M137.033 1089.02 L155.39 1089.02 L155.39 1092.95 L141.316 1092.95 L141.316 1101.42 Q142.334 1101.08 143.353 1100.91 Q144.371 1100.73 145.39 1100.73 Q151.177 1100.73 154.556 1103.9 Q157.936 1107.07 157.936 1112.49 Q157.936 1118.07 154.464 1121.17 Q150.992 1124.25 144.672 1124.25 Q142.496 1124.25 140.228 1123.88 Q137.982 1123.51 135.575 1122.77 L135.575 1118.07 Q137.658 1119.2 139.881 1119.76 Q142.103 1120.31 144.58 1120.31 Q148.584 1120.31 150.922 1118.21 Q153.26 1116.1 153.26 1112.49 Q153.26 1108.88 150.922 1106.77 Q148.584 1104.66 144.58 1104.66 Q142.705 1104.66 140.83 1105.08 Q138.978 1105.5 137.033 1106.38 L137.033 1089.02 Z\" fill=\"#f8f8f2\" fill-rule=\"nonzero\" fill-opacity=\"1\" /><path clip-path=\"url(#clip900)\" d=\"M100.76 752.623 Q97.1493 752.623 95.3206 756.188 Q93.515 759.729 93.515 766.859 Q93.515 773.965 95.3206 777.53 Q97.1493 781.072 100.76 781.072 Q104.395 781.072 106.2 777.53 Q108.029 773.965 108.029 766.859 Q108.029 759.729 106.2 756.188 Q104.395 752.623 100.76 752.623 M100.76 748.919 Q106.571 748.919 109.626 753.526 Q112.705 758.109 112.705 766.859 Q112.705 775.586 109.626 780.192 Q106.571 784.775 100.76 784.775 Q94.9502 784.775 91.8715 780.192 Q88.816 775.586 88.816 766.859 Q88.816 758.109 91.8715 753.526 Q94.9502 748.919 100.76 748.919 Z\" fill=\"#f8f8f2\" fill-rule=\"nonzero\" fill-opacity=\"1\" /><path clip-path=\"url(#clip900)\" d=\"M120.922 778.224 L125.807 778.224 L125.807 784.104 L120.922 784.104 L120.922 778.224 Z\" fill=\"#f8f8f2\" fill-rule=\"nonzero\" fill-opacity=\"1\" /><path clip-path=\"url(#clip900)\" d=\"M145.992 752.623 Q142.381 752.623 140.552 756.188 Q138.746 759.729 138.746 766.859 Q138.746 773.965 140.552 777.53 Q142.381 781.072 145.992 781.072 Q149.626 781.072 151.431 777.53 Q153.26 773.965 153.26 766.859 Q153.26 759.729 151.431 756.188 Q149.626 752.623 145.992 752.623 M145.992 748.919 Q151.802 748.919 154.857 753.526 Q157.936 758.109 157.936 766.859 Q157.936 775.586 154.857 780.192 Q151.802 784.775 145.992 784.775 Q140.181 784.775 137.103 780.192 Q134.047 775.586 134.047 766.859 Q134.047 758.109 137.103 753.526 Q140.181 748.919 145.992 748.919 Z\" fill=\"#f8f8f2\" fill-rule=\"nonzero\" fill-opacity=\"1\" /><path clip-path=\"url(#clip900)\" d=\"M101.756 413.151 Q98.1447 413.151 96.316 416.716 Q94.5104 420.257 94.5104 427.387 Q94.5104 434.493 96.316 438.058 Q98.1447 441.6 101.756 441.6 Q105.39 441.6 107.196 438.058 Q109.024 434.493 109.024 427.387 Q109.024 420.257 107.196 416.716 Q105.39 413.151 101.756 413.151 M101.756 409.447 Q107.566 409.447 110.621 414.054 Q113.7 418.637 113.7 427.387 Q113.7 436.114 110.621 440.72 Q107.566 445.303 101.756 445.303 Q95.9456 445.303 92.8669 440.72 Q89.8114 436.114 89.8114 427.387 Q89.8114 418.637 92.8669 414.054 Q95.9456 409.447 101.756 409.447 Z\" fill=\"#f8f8f2\" fill-rule=\"nonzero\" fill-opacity=\"1\" /><path clip-path=\"url(#clip900)\" d=\"M121.918 438.753 L126.802 438.753 L126.802 444.632 L121.918 444.632 L121.918 438.753 Z\" fill=\"#f8f8f2\" fill-rule=\"nonzero\" fill-opacity=\"1\" /><path clip-path=\"url(#clip900)\" d=\"M137.033 410.072 L155.39 410.072 L155.39 414.007 L141.316 414.007 L141.316 422.48 Q142.334 422.132 143.353 421.97 Q144.371 421.785 145.39 421.785 Q151.177 421.785 154.556 424.956 Q157.936 428.128 157.936 433.544 Q157.936 439.123 154.464 442.225 Q150.992 445.303 144.672 445.303 Q142.496 445.303 140.228 444.933 Q137.982 444.563 135.575 443.822 L135.575 439.123 Q137.658 440.257 139.881 440.813 Q142.103 441.368 144.58 441.368 Q148.584 441.368 150.922 439.262 Q153.26 437.155 153.26 433.544 Q153.26 429.933 150.922 427.827 Q148.584 425.72 144.58 425.72 Q142.705 425.72 140.83 426.137 Q138.978 426.554 137.033 427.433 L137.033 410.072 Z\" fill=\"#f8f8f2\" fill-rule=\"nonzero\" fill-opacity=\"1\" /><path clip-path=\"url(#clip900)\" d=\"M91.5706 101.225 L99.2095 101.225 L99.2095 74.8595 L90.8993 76.5262 L90.8993 72.267 L99.1632 70.6003 L103.839 70.6003 L103.839 101.225 L111.478 101.225 L111.478 105.16 L91.5706 105.16 L91.5706 101.225 Z\" fill=\"#f8f8f2\" fill-rule=\"nonzero\" fill-opacity=\"1\" /><path clip-path=\"url(#clip900)\" d=\"M120.922 99.2807 L125.807 99.2807 L125.807 105.16 L120.922 105.16 L120.922 99.2807 Z\" fill=\"#f8f8f2\" fill-rule=\"nonzero\" fill-opacity=\"1\" /><path clip-path=\"url(#clip900)\" d=\"M145.992 73.679 Q142.381 73.679 140.552 77.2438 Q138.746 80.7854 138.746 87.915 Q138.746 95.0215 140.552 98.5863 Q142.381 102.128 145.992 102.128 Q149.626 102.128 151.431 98.5863 Q153.26 95.0215 153.26 87.915 Q153.26 80.7854 151.431 77.2438 Q149.626 73.679 145.992 73.679 M145.992 69.9753 Q151.802 69.9753 154.857 74.5818 Q157.936 79.1651 157.936 87.915 Q157.936 96.6418 154.857 101.248 Q151.802 105.832 145.992 105.832 Q140.181 105.832 137.103 101.248 Q134.047 96.6418 134.047 87.915 Q134.047 79.1651 137.103 74.5818 Q140.181 69.9753 145.992 69.9753 Z\" fill=\"#f8f8f2\" fill-rule=\"nonzero\" fill-opacity=\"1\" /><polyline clip-path=\"url(#clip902)\" style=\"stroke:#8be9fd; stroke-linecap:round; stroke-linejoin:round; stroke-width:4; stroke-opacity:1; fill:none\" points=\"255.035,195.513 277.664,161.744 300.293,134.022 322.922,112.622 345.551,97.7591 368.18,89.5811 390.81,88.1698 413.439,93.5394 436.068,105.636 458.697,124.34 481.326,149.462 503.955,180.753 526.584,217.9 549.213,260.532 571.843,308.223 594.472,360.495 617.101,416.828 639.73,476.657 662.359,539.386 684.988,604.387 707.617,671.011 730.247,738.593 752.876,806.457 775.505,873.925 798.134,940.322 820.763,1004.99 843.392,1067.27 866.021,1126.55 888.651,1182.24 911.28,1233.78 933.909,1280.65 956.538,1322.39 979.167,1358.57 1001.8,1388.85 1024.43,1412.91 1047.05,1430.51 1069.68,1441.48 1092.31,1445.72 1114.94,1443.16 1137.57,1433.85 1160.2,1417.88 1182.83,1395.4 1205.46,1366.64 1228.09,1331.89 1250.72,1291.49 1273.35,1245.85 1295.98,1195.42 1318.6,1140.71 1341.23,1082.26 1363.86,1020.67 1386.49,956.531 1409.12,890.502 1431.75,823.237 1454.38,755.408 1477.01,687.694 1499.64,620.77 1522.27,555.305 1544.9,491.954 1567.52,431.349 1590.15,374.096 1612.78,320.767 1635.41,271.895 1658.04,227.968 1680.67,189.425 1703.3,156.652 1725.93,129.975 1748.56,109.661 1771.19,95.9134 1793.82,88.8693 1816.45,88.5991 1839.07,95.1055 1861.7,108.323 1884.33,128.121 1906.96,154.3 1929.59,186.599 1952.22,224.696 1974.85,268.21 1997.48,316.705 2020.11,369.698 2042.74,426.659 2065.37,487.019 2087.99,550.174 2110.62,615.494 2133.25,682.326 2155.88,750.003 2178.51,817.847 2201.14,885.182 2223.77,951.334 2246.4,1015.64 2269.03,1077.47 2291.66,1136.18 \"/>\n",
       "<polyline clip-path=\"url(#clip902)\" style=\"stroke:#ff79c6; stroke-linecap:round; stroke-linejoin:round; stroke-width:4; stroke-opacity:1; fill:none\" points=\"255.035,399.989 277.664,458.858 300.293,520.804 322.922,585.207 345.551,651.426 368.18,718.797 390.81,786.649 413.439,854.302 436.068,921.081 458.697,986.319 481.326,1049.36 503.955,1109.59 526.584,1166.38 549.213,1219.19 571.843,1267.47 594.472,1310.76 617.101,1348.6 639.73,1380.64 662.359,1406.54 684.988,1426.05 707.617,1438.97 730.247,1445.18 752.876,1444.61 775.505,1437.27 798.134,1423.23 820.763,1402.63 843.392,1375.67 866.021,1342.64 888.651,1303.85 911.28,1259.69 933.909,1210.61 956.538,1157.1 979.167,1099.68 1001.8,1038.94 1024.43,975.486 1047.05,909.943 1069.68,842.969 1092.31,775.235 1114.94,707.417 1137.57,640.193 1160.2,574.233 1182.83,510.198 1205.46,448.728 1228.09,390.435 1250.72,335.903 1273.35,285.677 1295.98,240.258 1318.6,200.101 1341.23,165.606 1363.86,137.118 1386.49,114.922 1409.12,99.2401 1431.75,90.228 1454.38,87.9763 1477.01,92.5074 1499.64,103.776 1522.27,121.67 1544.9,146.009 1567.52,176.552 1590.15,212.993 1612.78,254.967 1635.41,302.055 1658.04,353.788 1680.67,409.647 1703.3,469.075 1725.93,531.478 1748.56,596.233 1771.19,662.692 1793.82,730.191 1816.45,798.057 1839.07,865.61 1861.7,932.177 1884.33,997.091 1906.96,1059.7 1929.59,1119.39 1952.22,1175.56 1974.85,1227.64 1997.48,1275.11 2020.11,1317.51 2042.74,1354.41 2065.37,1385.43 2087.99,1410.27 2110.62,1428.69 2133.25,1440.49 2155.88,1445.56 2178.51,1443.85 2201.14,1435.37 2223.77,1420.22 2246.4,1398.53 2269.03,1370.53 2291.66,1336.51 \"/>\n",
       "<path clip-path=\"url(#clip900)\" d=\"M1926.79 250.738 L2280.8 250.738 L2280.8 95.2176 L1926.79 95.2176  Z\" fill=\"#282a36\" fill-rule=\"evenodd\" fill-opacity=\"1\"/>\n",
       "<polyline clip-path=\"url(#clip900)\" style=\"stroke:#f8f8f2; stroke-linecap:round; stroke-linejoin:round; stroke-width:4; stroke-opacity:1; fill:none\" points=\"1926.79,250.738 2280.8,250.738 2280.8,95.2176 1926.79,95.2176 1926.79,250.738 \"/>\n",
       "<polyline clip-path=\"url(#clip900)\" style=\"stroke:#8be9fd; stroke-linecap:round; stroke-linejoin:round; stroke-width:4; stroke-opacity:1; fill:none\" points=\"1950.78,147.058 2094.7,147.058 \"/>\n",
       "<path clip-path=\"url(#clip900)\" d=\"M2137.11 139.176 L2137.11 143.203 Q2135.3 142.277 2133.36 141.815 Q2131.42 141.352 2129.33 141.352 Q2126.16 141.352 2124.56 142.324 Q2122.99 143.296 2122.99 145.24 Q2122.99 146.722 2124.12 147.578 Q2125.26 148.412 2128.68 149.176 L2130.14 149.5 Q2134.68 150.472 2136.58 152.254 Q2138.5 154.014 2138.5 157.185 Q2138.5 160.796 2135.63 162.902 Q2132.78 165.009 2127.78 165.009 Q2125.7 165.009 2123.43 164.592 Q2121.18 164.199 2118.68 163.388 L2118.68 158.99 Q2121.05 160.217 2123.34 160.842 Q2125.63 161.444 2127.87 161.444 Q2130.88 161.444 2132.5 160.426 Q2134.12 159.384 2134.12 157.509 Q2134.12 155.773 2132.94 154.847 Q2131.79 153.921 2127.83 153.064 L2126.35 152.717 Q2122.39 151.884 2120.63 150.171 Q2118.87 148.435 2118.87 145.426 Q2118.87 141.768 2121.46 139.778 Q2124.05 137.787 2128.82 137.787 Q2131.18 137.787 2133.27 138.134 Q2135.35 138.481 2137.11 139.176 Z\" fill=\"#f8f8f2\" fill-rule=\"nonzero\" fill-opacity=\"1\" /><path clip-path=\"url(#clip900)\" d=\"M2145.28 138.412 L2149.54 138.412 L2149.54 164.338 L2145.28 164.338 L2145.28 138.412 M2145.28 128.319 L2149.54 128.319 L2149.54 133.713 L2145.28 133.713 L2145.28 128.319 Z\" fill=\"#f8f8f2\" fill-rule=\"nonzero\" fill-opacity=\"1\" /><path clip-path=\"url(#clip900)\" d=\"M2180 148.689 L2180 164.338 L2175.74 164.338 L2175.74 148.828 Q2175.74 145.148 2174.31 143.319 Q2172.87 141.49 2170 141.49 Q2166.55 141.49 2164.56 143.69 Q2162.57 145.889 2162.57 149.685 L2162.57 164.338 L2158.29 164.338 L2158.29 138.412 L2162.57 138.412 L2162.57 142.44 Q2164.1 140.102 2166.16 138.944 Q2168.24 137.787 2170.95 137.787 Q2175.42 137.787 2177.71 140.565 Q2180 143.319 2180 148.689 Z\" fill=\"#f8f8f2\" fill-rule=\"nonzero\" fill-opacity=\"1\" /><path clip-path=\"url(#clip900)\" d=\"M2198.73 128.366 Q2195.63 133.69 2194.12 138.898 Q2192.62 144.106 2192.62 149.453 Q2192.62 154.801 2194.12 160.055 Q2195.65 165.287 2198.73 170.588 L2195.03 170.588 Q2191.55 165.148 2189.82 159.893 Q2188.11 154.639 2188.11 149.453 Q2188.11 144.291 2189.82 139.06 Q2191.53 133.828 2195.03 128.366 L2198.73 128.366 Z\" fill=\"#f8f8f2\" fill-rule=\"nonzero\" fill-opacity=\"1\" /><path clip-path=\"url(#clip900)\" d=\"M2228.54 138.412 L2219.17 151.027 L2229.03 164.338 L2224.01 164.338 L2216.46 154.152 L2208.92 164.338 L2203.89 164.338 L2213.96 150.773 L2204.75 138.412 L2209.77 138.412 L2216.65 147.648 L2223.52 138.412 L2228.54 138.412 Z\" fill=\"#f8f8f2\" fill-rule=\"nonzero\" fill-opacity=\"1\" /><path clip-path=\"url(#clip900)\" d=\"M2234.38 128.366 L2238.08 128.366 Q2241.55 133.828 2243.27 139.06 Q2245 144.291 2245 149.453 Q2245 154.639 2243.27 159.893 Q2241.55 165.148 2238.08 170.588 L2234.38 170.588 Q2237.46 165.287 2238.96 160.055 Q2240.49 154.801 2240.49 149.453 Q2240.49 144.106 2238.96 138.898 Q2237.46 133.69 2234.38 128.366 Z\" fill=\"#f8f8f2\" fill-rule=\"nonzero\" fill-opacity=\"1\" /><polyline clip-path=\"url(#clip900)\" style=\"stroke:#ff79c6; stroke-linecap:round; stroke-linejoin:round; stroke-width:4; stroke-opacity:1; fill:none\" points=\"1950.78,198.898 2094.7,198.898 \"/>\n",
       "<path clip-path=\"url(#clip900)\" d=\"M2139.19 191.247 L2139.19 195.229 Q2137.39 194.233 2135.56 193.747 Q2133.75 193.238 2131.9 193.238 Q2127.76 193.238 2125.47 195.877 Q2123.17 198.492 2123.17 203.238 Q2123.17 207.983 2125.47 210.622 Q2127.76 213.238 2131.9 213.238 Q2133.75 213.238 2135.56 212.752 Q2137.39 212.242 2139.19 211.247 L2139.19 215.182 Q2137.41 216.016 2135.49 216.432 Q2133.59 216.849 2131.44 216.849 Q2125.58 216.849 2122.13 213.168 Q2118.68 209.488 2118.68 203.238 Q2118.68 196.895 2122.16 193.261 Q2125.65 189.627 2131.72 189.627 Q2133.68 189.627 2135.56 190.043 Q2137.43 190.437 2139.19 191.247 Z\" fill=\"#f8f8f2\" fill-rule=\"nonzero\" fill-opacity=\"1\" /><path clip-path=\"url(#clip900)\" d=\"M2156.65 193.238 Q2153.22 193.238 2151.23 195.923 Q2149.24 198.585 2149.24 203.238 Q2149.24 207.891 2151.21 210.576 Q2153.2 213.238 2156.65 213.238 Q2160.05 213.238 2162.04 210.553 Q2164.03 207.867 2164.03 203.238 Q2164.03 198.631 2162.04 195.946 Q2160.05 193.238 2156.65 193.238 M2156.65 189.627 Q2162.2 189.627 2165.37 193.238 Q2168.54 196.849 2168.54 203.238 Q2168.54 209.604 2165.37 213.238 Q2162.2 216.849 2156.65 216.849 Q2151.07 216.849 2147.9 213.238 Q2144.75 209.604 2144.75 203.238 Q2144.75 196.849 2147.9 193.238 Q2151.07 189.627 2156.65 189.627 Z\" fill=\"#f8f8f2\" fill-rule=\"nonzero\" fill-opacity=\"1\" /><path clip-path=\"url(#clip900)\" d=\"M2192.13 191.016 L2192.13 195.043 Q2190.33 194.117 2188.38 193.655 Q2186.44 193.192 2184.36 193.192 Q2181.18 193.192 2179.59 194.164 Q2178.01 195.136 2178.01 197.08 Q2178.01 198.562 2179.15 199.418 Q2180.28 200.252 2183.71 201.016 L2185.17 201.34 Q2189.7 202.312 2191.6 204.094 Q2193.52 205.854 2193.52 209.025 Q2193.52 212.636 2190.65 214.742 Q2187.8 216.849 2182.8 216.849 Q2180.72 216.849 2178.45 216.432 Q2176.21 216.039 2173.71 215.228 L2173.71 210.83 Q2176.07 212.057 2178.36 212.682 Q2180.65 213.284 2182.9 213.284 Q2185.91 213.284 2187.53 212.266 Q2189.15 211.224 2189.15 209.349 Q2189.15 207.613 2187.97 206.687 Q2186.81 205.761 2182.85 204.904 L2181.37 204.557 Q2177.41 203.724 2175.65 202.011 Q2173.89 200.275 2173.89 197.266 Q2173.89 193.608 2176.48 191.618 Q2179.08 189.627 2183.85 189.627 Q2186.21 189.627 2188.29 189.974 Q2190.37 190.321 2192.13 191.016 Z\" fill=\"#f8f8f2\" fill-rule=\"nonzero\" fill-opacity=\"1\" /><path clip-path=\"url(#clip900)\" d=\"M2210.54 180.206 Q2207.43 185.53 2205.93 190.738 Q2204.42 195.946 2204.42 201.293 Q2204.42 206.641 2205.93 211.895 Q2207.46 217.127 2210.54 222.428 L2206.83 222.428 Q2203.36 216.988 2201.62 211.733 Q2199.91 206.479 2199.91 201.293 Q2199.91 196.131 2201.62 190.9 Q2203.34 185.668 2206.83 180.206 L2210.54 180.206 Z\" fill=\"#f8f8f2\" fill-rule=\"nonzero\" fill-opacity=\"1\" /><path clip-path=\"url(#clip900)\" d=\"M2240.35 190.252 L2230.98 202.867 L2240.84 216.178 L2235.81 216.178 L2228.27 205.992 L2220.72 216.178 L2215.7 216.178 L2225.77 202.613 L2216.55 190.252 L2221.58 190.252 L2228.45 199.488 L2235.33 190.252 L2240.35 190.252 Z\" fill=\"#f8f8f2\" fill-rule=\"nonzero\" fill-opacity=\"1\" /><path clip-path=\"url(#clip900)\" d=\"M2246.18 180.206 L2249.89 180.206 Q2253.36 185.668 2255.07 190.9 Q2256.81 196.131 2256.81 201.293 Q2256.81 206.479 2255.07 211.733 Q2253.36 216.988 2249.89 222.428 L2246.18 222.428 Q2249.26 217.127 2250.77 211.895 Q2252.29 206.641 2252.29 201.293 Q2252.29 195.946 2250.77 190.738 Q2249.26 185.53 2246.18 180.206 Z\" fill=\"#f8f8f2\" fill-rule=\"nonzero\" fill-opacity=\"1\" /></svg>\n"
      ]
     },
     "execution_count": 82,
     "metadata": {},
     "output_type": "execute_result"
    }
   ],
   "source": [
    "x = 1:.1:10\n",
    "y = sin.(x)\n",
    "z = cos.(x)\n",
    "\n",
    "plot(x, y, label=\"sin(x)\")\n",
    "plot!(x, z, label=\"cos(x)\") # Hold on the previous plot"
   ]
  },
  {
   "cell_type": "code",
   "execution_count": 83,
   "metadata": {},
   "outputs": [
    {
     "data": {
      "text/latex": [
       "\\textbf{Scatter Plot}\n",
       "\n"
      ],
      "text/markdown": [
       "**Scatter Plot**\n"
      ],
      "text/plain": [
       "  \u001b[1mScatter Plot\u001b[22m"
      ]
     },
     "execution_count": 83,
     "metadata": {},
     "output_type": "execute_result"
    }
   ],
   "source": [
    "md\"**Scatter Plot**\""
   ]
  },
  {
   "cell_type": "code",
   "execution_count": 84,
   "metadata": {},
   "outputs": [
    {
     "data": {
      "image/png": "[encoded data removed]",
      "image/svg+xml": [
       "<?xml version=\"1.0\" encoding=\"utf-8\"?>\n",
       "<svg xmlns=\"http://www.w3.org/2000/svg\" xmlns:xlink=\"http://www.w3.org/1999/xlink\" width=\"600\" height=\"400\" viewBox=\"0 0 2400 1600\">\n",
       "<defs>\n",
       "  <clipPath id=\"clip940\">\n",
       "    <rect x=\"0\" y=\"0\" width=\"2400\" height=\"1600\"/>\n",
       "  </clipPath>\n",
       "</defs>\n",
       "<path clip-path=\"url(#clip940)\" d=\"M0 1600 L2400 1600 L2400 0 L0 0  Z\" fill=\"#282a36\" fill-rule=\"evenodd\" fill-opacity=\"1\"/>\n",
       "<defs>\n",
       "  <clipPath id=\"clip941\">\n",
       "    <rect x=\"480\" y=\"0\" width=\"1681\" height=\"1600\"/>\n",
       "  </clipPath>\n",
       "</defs>\n",
       "<path clip-path=\"url(#clip940)\" d=\"M193.936 1486.45 L2352.76 1486.45 L2352.76 47.2441 L193.936 47.2441  Z\" fill=\"#30343b\" fill-rule=\"evenodd\" fill-opacity=\"1\"/>\n",
       "<defs>\n",
       "  <clipPath id=\"clip942\">\n",
       "    <rect x=\"193\" y=\"47\" width=\"2160\" height=\"1440\"/>\n",
       "  </clipPath>\n",
       "</defs>\n",
       "<polyline clip-path=\"url(#clip942)\" style=\"stroke:#f8f8f2; stroke-linecap:round; stroke-linejoin:round; stroke-width:2; stroke-opacity:0.1; fill:none\" points=\"481.326,1486.45 481.326,47.2441 \"/>\n",
       "<polyline clip-path=\"url(#clip942)\" style=\"stroke:#f8f8f2; stroke-linecap:round; stroke-linejoin:round; stroke-width:2; stroke-opacity:0.1; fill:none\" points=\"933.909,1486.45 933.909,47.2441 \"/>\n",
       "<polyline clip-path=\"url(#clip942)\" style=\"stroke:#f8f8f2; stroke-linecap:round; stroke-linejoin:round; stroke-width:2; stroke-opacity:0.1; fill:none\" points=\"1386.49,1486.45 1386.49,47.2441 \"/>\n",
       "<polyline clip-path=\"url(#clip942)\" style=\"stroke:#f8f8f2; stroke-linecap:round; stroke-linejoin:round; stroke-width:2; stroke-opacity:0.1; fill:none\" points=\"1839.07,1486.45 1839.07,47.2441 \"/>\n",
       "<polyline clip-path=\"url(#clip942)\" style=\"stroke:#f8f8f2; stroke-linecap:round; stroke-linejoin:round; stroke-width:2; stroke-opacity:0.1; fill:none\" points=\"2291.66,1486.45 2291.66,47.2441 \"/>\n",
       "<polyline clip-path=\"url(#clip942)\" style=\"stroke:#f8f8f2; stroke-linecap:round; stroke-linejoin:round; stroke-width:2; stroke-opacity:0.1; fill:none\" points=\"193.936,1447.88 2352.76,1447.88 \"/>\n",
       "<polyline clip-path=\"url(#clip942)\" style=\"stroke:#f8f8f2; stroke-linecap:round; stroke-linejoin:round; stroke-width:2; stroke-opacity:0.1; fill:none\" points=\"193.936,1105.97 2352.76,1105.97 \"/>\n",
       "<polyline clip-path=\"url(#clip942)\" style=\"stroke:#f8f8f2; stroke-linecap:round; stroke-linejoin:round; stroke-width:2; stroke-opacity:0.1; fill:none\" points=\"193.936,764.064 2352.76,764.064 \"/>\n",
       "<polyline clip-path=\"url(#clip942)\" style=\"stroke:#f8f8f2; stroke-linecap:round; stroke-linejoin:round; stroke-width:2; stroke-opacity:0.1; fill:none\" points=\"193.936,422.155 2352.76,422.155 \"/>\n",
       "<polyline clip-path=\"url(#clip942)\" style=\"stroke:#f8f8f2; stroke-linecap:round; stroke-linejoin:round; stroke-width:2; stroke-opacity:0.1; fill:none\" points=\"193.936,80.2461 2352.76,80.2461 \"/>\n",
       "<polyline clip-path=\"url(#clip940)\" style=\"stroke:#f8f8f2; stroke-linecap:round; stroke-linejoin:round; stroke-width:4; stroke-opacity:1; fill:none\" points=\"193.936,1486.45 2352.76,1486.45 \"/>\n",
       "<polyline clip-path=\"url(#clip940)\" style=\"stroke:#f8f8f2; stroke-linecap:round; stroke-linejoin:round; stroke-width:4; stroke-opacity:1; fill:none\" points=\"481.326,1486.45 481.326,1467.55 \"/>\n",
       "<polyline clip-path=\"url(#clip940)\" style=\"stroke:#f8f8f2; stroke-linecap:round; stroke-linejoin:round; stroke-width:4; stroke-opacity:1; fill:none\" points=\"933.909,1486.45 933.909,1467.55 \"/>\n",
       "<polyline clip-path=\"url(#clip940)\" style=\"stroke:#f8f8f2; stroke-linecap:round; stroke-linejoin:round; stroke-width:4; stroke-opacity:1; fill:none\" points=\"1386.49,1486.45 1386.49,1467.55 \"/>\n",
       "<polyline clip-path=\"url(#clip940)\" style=\"stroke:#f8f8f2; stroke-linecap:round; stroke-linejoin:round; stroke-width:4; stroke-opacity:1; fill:none\" points=\"1839.07,1486.45 1839.07,1467.55 \"/>\n",
       "<polyline clip-path=\"url(#clip940)\" style=\"stroke:#f8f8f2; stroke-linecap:round; stroke-linejoin:round; stroke-width:4; stroke-opacity:1; fill:none\" points=\"2291.66,1486.45 2291.66,1467.55 \"/>\n",
       "<path clip-path=\"url(#clip940)\" d=\"M475.979 1544.91 L492.298 1544.91 L492.298 1548.85 L470.354 1548.85 L470.354 1544.91 Q473.016 1542.16 477.599 1537.53 Q482.206 1532.88 483.386 1531.53 Q485.632 1529.01 486.511 1527.27 Q487.414 1525.51 487.414 1523.82 Q487.414 1521.07 485.47 1519.33 Q483.548 1517.6 480.446 1517.6 Q478.247 1517.6 475.794 1518.36 Q473.363 1519.13 470.585 1520.68 L470.585 1515.95 Q473.409 1514.82 475.863 1514.24 Q478.317 1513.66 480.354 1513.66 Q485.724 1513.66 488.919 1516.35 Q492.113 1519.03 492.113 1523.52 Q492.113 1525.65 491.303 1527.57 Q490.516 1529.47 488.409 1532.07 Q487.831 1532.74 484.729 1535.95 Q481.627 1539.15 475.979 1544.91 Z\" fill=\"#f8f8f2\" fill-rule=\"nonzero\" fill-opacity=\"1\" /><path clip-path=\"url(#clip940)\" d=\"M936.918 1518.36 L925.113 1536.81 L936.918 1536.81 L936.918 1518.36 M935.691 1514.29 L941.571 1514.29 L941.571 1536.81 L946.501 1536.81 L946.501 1540.7 L941.571 1540.7 L941.571 1548.85 L936.918 1548.85 L936.918 1540.7 L921.316 1540.7 L921.316 1536.19 L935.691 1514.29 Z\" fill=\"#f8f8f2\" fill-rule=\"nonzero\" fill-opacity=\"1\" /><path clip-path=\"url(#clip940)\" d=\"M1386.9 1529.7 Q1383.75 1529.7 1381.9 1531.86 Q1380.07 1534.01 1380.07 1537.76 Q1380.07 1541.49 1381.9 1543.66 Q1383.75 1545.82 1386.9 1545.82 Q1390.04 1545.82 1391.87 1543.66 Q1393.73 1541.49 1393.73 1537.76 Q1393.73 1534.01 1391.87 1531.86 Q1390.04 1529.7 1386.9 1529.7 M1396.18 1515.05 L1396.18 1519.31 Q1394.42 1518.48 1392.61 1518.04 Q1390.83 1517.6 1389.07 1517.6 Q1384.44 1517.6 1381.99 1520.72 Q1379.56 1523.85 1379.21 1530.17 Q1380.58 1528.15 1382.64 1527.09 Q1384.7 1526 1387.17 1526 Q1392.38 1526 1395.39 1529.17 Q1398.42 1532.32 1398.42 1537.76 Q1398.42 1543.08 1395.28 1546.3 Q1392.13 1549.52 1386.9 1549.52 Q1380.9 1549.52 1377.73 1544.94 Q1374.56 1540.33 1374.56 1531.6 Q1374.56 1523.41 1378.45 1518.55 Q1382.34 1513.66 1388.89 1513.66 Q1390.65 1513.66 1392.43 1514.01 Q1394.23 1514.36 1396.18 1515.05 Z\" fill=\"#f8f8f2\" fill-rule=\"nonzero\" fill-opacity=\"1\" /><path clip-path=\"url(#clip940)\" d=\"M1839.07 1532.44 Q1835.74 1532.44 1833.82 1534.22 Q1831.92 1536 1831.92 1539.13 Q1831.92 1542.25 1833.82 1544.03 Q1835.74 1545.82 1839.07 1545.82 Q1842.41 1545.82 1844.33 1544.03 Q1846.25 1542.23 1846.25 1539.13 Q1846.25 1536 1844.33 1534.22 Q1842.43 1532.44 1839.07 1532.44 M1834.4 1530.45 Q1831.39 1529.7 1829.7 1527.64 Q1828.03 1525.58 1828.03 1522.62 Q1828.03 1518.48 1830.97 1516.07 Q1833.94 1513.66 1839.07 1513.66 Q1844.24 1513.66 1847.18 1516.07 Q1850.12 1518.48 1850.12 1522.62 Q1850.12 1525.58 1848.43 1527.64 Q1846.76 1529.7 1843.77 1530.45 Q1847.15 1531.23 1849.03 1533.52 Q1850.93 1535.82 1850.93 1539.13 Q1850.93 1544.15 1847.85 1546.83 Q1844.79 1549.52 1839.07 1549.52 Q1833.36 1549.52 1830.28 1546.83 Q1827.22 1544.15 1827.22 1539.13 Q1827.22 1535.82 1829.12 1533.52 Q1831.02 1531.23 1834.4 1530.45 M1832.69 1523.06 Q1832.69 1525.75 1834.35 1527.25 Q1836.04 1528.76 1839.07 1528.76 Q1842.08 1528.76 1843.77 1527.25 Q1845.49 1525.75 1845.49 1523.06 Q1845.49 1520.38 1843.77 1518.87 Q1842.08 1517.37 1839.07 1517.37 Q1836.04 1517.37 1834.35 1518.87 Q1832.69 1520.38 1832.69 1523.06 Z\" fill=\"#f8f8f2\" fill-rule=\"nonzero\" fill-opacity=\"1\" /><path clip-path=\"url(#clip940)\" d=\"M2266.34 1544.91 L2273.98 1544.91 L2273.98 1518.55 L2265.67 1520.21 L2265.67 1515.95 L2273.94 1514.29 L2278.61 1514.29 L2278.61 1544.91 L2286.25 1544.91 L2286.25 1548.85 L2266.34 1548.85 L2266.34 1544.91 Z\" fill=\"#f8f8f2\" fill-rule=\"nonzero\" fill-opacity=\"1\" /><path clip-path=\"url(#clip940)\" d=\"M2305.7 1517.37 Q2302.09 1517.37 2300.26 1520.93 Q2298.45 1524.47 2298.45 1531.6 Q2298.45 1538.71 2300.26 1542.27 Q2302.09 1545.82 2305.7 1545.82 Q2309.33 1545.82 2311.14 1542.27 Q2312.96 1538.71 2312.96 1531.6 Q2312.96 1524.47 2311.14 1520.93 Q2309.33 1517.37 2305.7 1517.37 M2305.7 1513.66 Q2311.51 1513.66 2314.56 1518.27 Q2317.64 1522.85 2317.64 1531.6 Q2317.64 1540.33 2314.56 1544.94 Q2311.51 1549.52 2305.7 1549.52 Q2299.89 1549.52 2296.81 1544.94 Q2293.75 1540.33 2293.75 1531.6 Q2293.75 1522.85 2296.81 1518.27 Q2299.89 1513.66 2305.7 1513.66 Z\" fill=\"#f8f8f2\" fill-rule=\"nonzero\" fill-opacity=\"1\" /><polyline clip-path=\"url(#clip940)\" style=\"stroke:#f8f8f2; stroke-linecap:round; stroke-linejoin:round; stroke-width:4; stroke-opacity:1; fill:none\" points=\"193.936,1486.45 193.936,47.2441 \"/>\n",
       "<polyline clip-path=\"url(#clip940)\" style=\"stroke:#f8f8f2; stroke-linecap:round; stroke-linejoin:round; stroke-width:4; stroke-opacity:1; fill:none\" points=\"193.936,1447.88 212.834,1447.88 \"/>\n",
       "<polyline clip-path=\"url(#clip940)\" style=\"stroke:#f8f8f2; stroke-linecap:round; stroke-linejoin:round; stroke-width:4; stroke-opacity:1; fill:none\" points=\"193.936,1105.97 212.834,1105.97 \"/>\n",
       "<polyline clip-path=\"url(#clip940)\" style=\"stroke:#f8f8f2; stroke-linecap:round; stroke-linejoin:round; stroke-width:4; stroke-opacity:1; fill:none\" points=\"193.936,764.064 212.834,764.064 \"/>\n",
       "<polyline clip-path=\"url(#clip940)\" style=\"stroke:#f8f8f2; stroke-linecap:round; stroke-linejoin:round; stroke-width:4; stroke-opacity:1; fill:none\" points=\"193.936,422.155 212.834,422.155 \"/>\n",
       "<polyline clip-path=\"url(#clip940)\" style=\"stroke:#f8f8f2; stroke-linecap:round; stroke-linejoin:round; stroke-width:4; stroke-opacity:1; fill:none\" points=\"193.936,80.2461 212.834,80.2461 \"/>\n",
       "<path clip-path=\"url(#clip940)\" d=\"M50.9921 1448.33 L80.6679 1448.33 L80.6679 1452.27 L50.9921 1452.27 L50.9921 1448.33 Z\" fill=\"#f8f8f2\" fill-rule=\"nonzero\" fill-opacity=\"1\" /><path clip-path=\"url(#clip940)\" d=\"M91.5706 1461.23 L99.2095 1461.23 L99.2095 1434.86 L90.8993 1436.53 L90.8993 1432.27 L99.1632 1430.6 L103.839 1430.6 L103.839 1461.23 L111.478 1461.23 L111.478 1465.16 L91.5706 1465.16 L91.5706 1461.23 Z\" fill=\"#f8f8f2\" fill-rule=\"nonzero\" fill-opacity=\"1\" /><path clip-path=\"url(#clip940)\" d=\"M120.922 1459.28 L125.807 1459.28 L125.807 1465.16 L120.922 1465.16 L120.922 1459.28 Z\" fill=\"#f8f8f2\" fill-rule=\"nonzero\" fill-opacity=\"1\" /><path clip-path=\"url(#clip940)\" d=\"M145.992 1433.68 Q142.381 1433.68 140.552 1437.24 Q138.746 1440.79 138.746 1447.92 Q138.746 1455.02 140.552 1458.59 Q142.381 1462.13 145.992 1462.13 Q149.626 1462.13 151.431 1458.59 Q153.26 1455.02 153.26 1447.92 Q153.26 1440.79 151.431 1437.24 Q149.626 1433.68 145.992 1433.68 M145.992 1429.98 Q151.802 1429.98 154.857 1434.58 Q157.936 1439.17 157.936 1447.92 Q157.936 1456.64 154.857 1461.25 Q151.802 1465.83 145.992 1465.83 Q140.181 1465.83 137.103 1461.25 Q134.047 1456.64 134.047 1447.92 Q134.047 1439.17 137.103 1434.58 Q140.181 1429.98 145.992 1429.98 Z\" fill=\"#f8f8f2\" fill-rule=\"nonzero\" fill-opacity=\"1\" /><path clip-path=\"url(#clip940)\" d=\"M51.9875 1106.42 L81.6633 1106.42 L81.6633 1110.36 L51.9875 1110.36 L51.9875 1106.42 Z\" fill=\"#f8f8f2\" fill-rule=\"nonzero\" fill-opacity=\"1\" /><path clip-path=\"url(#clip940)\" d=\"M101.756 1091.77 Q98.1447 1091.77 96.316 1095.34 Q94.5104 1098.88 94.5104 1106.01 Q94.5104 1113.11 96.316 1116.68 Q98.1447 1120.22 101.756 1120.22 Q105.39 1120.22 107.196 1116.68 Q109.024 1113.11 109.024 1106.01 Q109.024 1098.88 107.196 1095.34 Q105.39 1091.77 101.756 1091.77 M101.756 1088.07 Q107.566 1088.07 110.621 1092.67 Q113.7 1097.26 113.7 1106.01 Q113.7 1114.73 110.621 1119.34 Q107.566 1123.92 101.756 1123.92 Q95.9456 1123.92 92.8669 1119.34 Q89.8114 1114.73 89.8114 1106.01 Q89.8114 1097.26 92.8669 1092.67 Q95.9456 1088.07 101.756 1088.07 Z\" fill=\"#f8f8f2\" fill-rule=\"nonzero\" fill-opacity=\"1\" /><path clip-path=\"url(#clip940)\" d=\"M121.918 1117.37 L126.802 1117.37 L126.802 1123.25 L121.918 1123.25 L121.918 1117.37 Z\" fill=\"#f8f8f2\" fill-rule=\"nonzero\" fill-opacity=\"1\" /><path clip-path=\"url(#clip940)\" d=\"M137.033 1088.69 L155.39 1088.69 L155.39 1092.63 L141.316 1092.63 L141.316 1101.1 Q142.334 1100.75 143.353 1100.59 Q144.371 1100.41 145.39 1100.41 Q151.177 1100.41 154.556 1103.58 Q157.936 1106.75 157.936 1112.16 Q157.936 1117.74 154.464 1120.84 Q150.992 1123.92 144.672 1123.92 Q142.496 1123.92 140.228 1123.55 Q137.982 1123.18 135.575 1122.44 L135.575 1117.74 Q137.658 1118.88 139.881 1119.43 Q142.103 1119.99 144.58 1119.99 Q148.584 1119.99 150.922 1117.88 Q153.26 1115.78 153.26 1112.16 Q153.26 1108.55 150.922 1106.45 Q148.584 1104.34 144.58 1104.34 Q142.705 1104.34 140.83 1104.76 Q138.978 1105.17 137.033 1106.05 L137.033 1088.69 Z\" fill=\"#f8f8f2\" fill-rule=\"nonzero\" fill-opacity=\"1\" /><path clip-path=\"url(#clip940)\" d=\"M100.76 749.862 Q97.1493 749.862 95.3206 753.427 Q93.515 756.969 93.515 764.098 Q93.515 771.205 95.3206 774.77 Q97.1493 778.311 100.76 778.311 Q104.395 778.311 106.2 774.77 Q108.029 771.205 108.029 764.098 Q108.029 756.969 106.2 753.427 Q104.395 749.862 100.76 749.862 M100.76 746.159 Q106.571 746.159 109.626 750.765 Q112.705 755.348 112.705 764.098 Q112.705 772.825 109.626 777.432 Q106.571 782.015 100.76 782.015 Q94.9502 782.015 91.8715 777.432 Q88.816 772.825 88.816 764.098 Q88.816 755.348 91.8715 750.765 Q94.9502 746.159 100.76 746.159 Z\" fill=\"#f8f8f2\" fill-rule=\"nonzero\" fill-opacity=\"1\" /><path clip-path=\"url(#clip940)\" d=\"M120.922 775.464 L125.807 775.464 L125.807 781.344 L120.922 781.344 L120.922 775.464 Z\" fill=\"#f8f8f2\" fill-rule=\"nonzero\" fill-opacity=\"1\" /><path clip-path=\"url(#clip940)\" d=\"M145.992 749.862 Q142.381 749.862 140.552 753.427 Q138.746 756.969 138.746 764.098 Q138.746 771.205 140.552 774.77 Q142.381 778.311 145.992 778.311 Q149.626 778.311 151.431 774.77 Q153.26 771.205 153.26 764.098 Q153.26 756.969 151.431 753.427 Q149.626 749.862 145.992 749.862 M145.992 746.159 Q151.802 746.159 154.857 750.765 Q157.936 755.348 157.936 764.098 Q157.936 772.825 154.857 777.432 Q151.802 782.015 145.992 782.015 Q140.181 782.015 137.103 777.432 Q134.047 772.825 134.047 764.098 Q134.047 755.348 137.103 750.765 Q140.181 746.159 145.992 746.159 Z\" fill=\"#f8f8f2\" fill-rule=\"nonzero\" fill-opacity=\"1\" /><path clip-path=\"url(#clip940)\" d=\"M101.756 407.954 Q98.1447 407.954 96.316 411.518 Q94.5104 415.06 94.5104 422.19 Q94.5104 429.296 96.316 432.861 Q98.1447 436.402 101.756 436.402 Q105.39 436.402 107.196 432.861 Q109.024 429.296 109.024 422.19 Q109.024 415.06 107.196 411.518 Q105.39 407.954 101.756 407.954 M101.756 404.25 Q107.566 404.25 110.621 408.856 Q113.7 413.44 113.7 422.19 Q113.7 430.916 110.621 435.523 Q107.566 440.106 101.756 440.106 Q95.9456 440.106 92.8669 435.523 Q89.8114 430.916 89.8114 422.19 Q89.8114 413.44 92.8669 408.856 Q95.9456 404.25 101.756 404.25 Z\" fill=\"#f8f8f2\" fill-rule=\"nonzero\" fill-opacity=\"1\" /><path clip-path=\"url(#clip940)\" d=\"M121.918 433.555 L126.802 433.555 L126.802 439.435 L121.918 439.435 L121.918 433.555 Z\" fill=\"#f8f8f2\" fill-rule=\"nonzero\" fill-opacity=\"1\" /><path clip-path=\"url(#clip940)\" d=\"M137.033 404.875 L155.39 404.875 L155.39 408.81 L141.316 408.81 L141.316 417.282 Q142.334 416.935 143.353 416.773 Q144.371 416.588 145.39 416.588 Q151.177 416.588 154.556 419.759 Q157.936 422.93 157.936 428.347 Q157.936 433.926 154.464 437.027 Q150.992 440.106 144.672 440.106 Q142.496 440.106 140.228 439.736 Q137.982 439.365 135.575 438.625 L135.575 433.926 Q137.658 435.06 139.881 435.615 Q142.103 436.171 144.58 436.171 Q148.584 436.171 150.922 434.065 Q153.26 431.958 153.26 428.347 Q153.26 424.736 150.922 422.629 Q148.584 420.523 144.58 420.523 Q142.705 420.523 140.83 420.94 Q138.978 421.356 137.033 422.236 L137.033 404.875 Z\" fill=\"#f8f8f2\" fill-rule=\"nonzero\" fill-opacity=\"1\" /><path clip-path=\"url(#clip940)\" d=\"M91.5706 93.591 L99.2095 93.591 L99.2095 67.2254 L90.8993 68.892 L90.8993 64.6328 L99.1632 62.9661 L103.839 62.9661 L103.839 93.591 L111.478 93.591 L111.478 97.5261 L91.5706 97.5261 L91.5706 93.591 Z\" fill=\"#f8f8f2\" fill-rule=\"nonzero\" fill-opacity=\"1\" /><path clip-path=\"url(#clip940)\" d=\"M120.922 91.6465 L125.807 91.6465 L125.807 97.5261 L120.922 97.5261 L120.922 91.6465 Z\" fill=\"#f8f8f2\" fill-rule=\"nonzero\" fill-opacity=\"1\" /><path clip-path=\"url(#clip940)\" d=\"M145.992 66.0448 Q142.381 66.0448 140.552 69.6096 Q138.746 73.1512 138.746 80.2808 Q138.746 87.3873 140.552 90.9521 Q142.381 94.4937 145.992 94.4937 Q149.626 94.4937 151.431 90.9521 Q153.26 87.3873 153.26 80.2808 Q153.26 73.1512 151.431 69.6096 Q149.626 66.0448 145.992 66.0448 M145.992 62.3411 Q151.802 62.3411 154.857 66.9476 Q157.936 71.5309 157.936 80.2808 Q157.936 89.0076 154.857 93.6141 Q151.802 98.1974 145.992 98.1974 Q140.181 98.1974 137.103 93.6141 Q134.047 89.0076 134.047 80.2808 Q134.047 71.5309 137.103 66.9476 Q140.181 62.3411 145.992 62.3411 Z\" fill=\"#f8f8f2\" fill-rule=\"nonzero\" fill-opacity=\"1\" /><circle clip-path=\"url(#clip942)\" cx=\"255.035\" cy=\"394.595\" r=\"14.4\" fill=\"#8be9fd\" fill-rule=\"evenodd\" fill-opacity=\"1\" stroke=\"#f8f8f2\" stroke-opacity=\"1\" stroke-width=\"3.2\"/>\n",
       "<circle clip-path=\"url(#clip942)\" cx=\"481.326\" cy=\"863.559\" r=\"14.4\" fill=\"#8be9fd\" fill-rule=\"evenodd\" fill-opacity=\"1\" stroke=\"#f8f8f2\" stroke-opacity=\"1\" stroke-width=\"3.2\"/>\n",
       "<circle clip-path=\"url(#clip942)\" cx=\"707.617\" cy=\"963.833\" r=\"14.4\" fill=\"#8be9fd\" fill-rule=\"evenodd\" fill-opacity=\"1\" stroke=\"#f8f8f2\" stroke-opacity=\"1\" stroke-width=\"3.2\"/>\n",
       "<circle clip-path=\"url(#clip942)\" cx=\"933.909\" cy=\"496.105\" r=\"14.4\" fill=\"#8be9fd\" fill-rule=\"evenodd\" fill-opacity=\"1\" stroke=\"#f8f8f2\" stroke-opacity=\"1\" stroke-width=\"3.2\"/>\n",
       "<circle clip-path=\"url(#clip942)\" cx=\"1160.2\" cy=\"225.411\" r=\"14.4\" fill=\"#8be9fd\" fill-rule=\"evenodd\" fill-opacity=\"1\" stroke=\"#f8f8f2\" stroke-opacity=\"1\" stroke-width=\"3.2\"/>\n",
       "<circle clip-path=\"url(#clip942)\" cx=\"1386.49\" cy=\"1255.03\" r=\"14.4\" fill=\"#8be9fd\" fill-rule=\"evenodd\" fill-opacity=\"1\" stroke=\"#f8f8f2\" stroke-opacity=\"1\" stroke-width=\"3.2\"/>\n",
       "<circle clip-path=\"url(#clip942)\" cx=\"1612.78\" cy=\"1341.09\" r=\"14.4\" fill=\"#8be9fd\" fill-rule=\"evenodd\" fill-opacity=\"1\" stroke=\"#f8f8f2\" stroke-opacity=\"1\" stroke-width=\"3.2\"/>\n",
       "<circle clip-path=\"url(#clip942)\" cx=\"1839.07\" cy=\"1445.72\" r=\"14.4\" fill=\"#8be9fd\" fill-rule=\"evenodd\" fill-opacity=\"1\" stroke=\"#f8f8f2\" stroke-opacity=\"1\" stroke-width=\"3.2\"/>\n",
       "<circle clip-path=\"url(#clip942)\" cx=\"2065.37\" cy=\"87.9763\" r=\"14.4\" fill=\"#8be9fd\" fill-rule=\"evenodd\" fill-opacity=\"1\" stroke=\"#f8f8f2\" stroke-opacity=\"1\" stroke-width=\"3.2\"/>\n",
       "<circle clip-path=\"url(#clip942)\" cx=\"2291.66\" cy=\"379.499\" r=\"14.4\" fill=\"#8be9fd\" fill-rule=\"evenodd\" fill-opacity=\"1\" stroke=\"#f8f8f2\" stroke-opacity=\"1\" stroke-width=\"3.2\"/>\n",
       "</svg>\n"
      ],
      "text/html": [
       "<?xml version=\"1.0\" encoding=\"utf-8\"?>\n",
       "<svg xmlns=\"http://www.w3.org/2000/svg\" xmlns:xlink=\"http://www.w3.org/1999/xlink\" width=\"600\" height=\"400\" viewBox=\"0 0 2400 1600\">\n",
       "<defs>\n",
       "  <clipPath id=\"clip990\">\n",
       "    <rect x=\"0\" y=\"0\" width=\"2400\" height=\"1600\"/>\n",
       "  </clipPath>\n",
       "</defs>\n",
       "<path clip-path=\"url(#clip990)\" d=\"M0 1600 L2400 1600 L2400 0 L0 0  Z\" fill=\"#282a36\" fill-rule=\"evenodd\" fill-opacity=\"1\"/>\n",
       "<defs>\n",
       "  <clipPath id=\"clip991\">\n",
       "    <rect x=\"480\" y=\"0\" width=\"1681\" height=\"1600\"/>\n",
       "  </clipPath>\n",
       "</defs>\n",
       "<path clip-path=\"url(#clip990)\" d=\"M193.936 1486.45 L2352.76 1486.45 L2352.76 47.2441 L193.936 47.2441  Z\" fill=\"#30343b\" fill-rule=\"evenodd\" fill-opacity=\"1\"/>\n",
       "<defs>\n",
       "  <clipPath id=\"clip992\">\n",
       "    <rect x=\"193\" y=\"47\" width=\"2160\" height=\"1440\"/>\n",
       "  </clipPath>\n",
       "</defs>\n",
       "<polyline clip-path=\"url(#clip992)\" style=\"stroke:#f8f8f2; stroke-linecap:round; stroke-linejoin:round; stroke-width:2; stroke-opacity:0.1; fill:none\" points=\"481.326,1486.45 481.326,47.2441 \"/>\n",
       "<polyline clip-path=\"url(#clip992)\" style=\"stroke:#f8f8f2; stroke-linecap:round; stroke-linejoin:round; stroke-width:2; stroke-opacity:0.1; fill:none\" points=\"933.909,1486.45 933.909,47.2441 \"/>\n",
       "<polyline clip-path=\"url(#clip992)\" style=\"stroke:#f8f8f2; stroke-linecap:round; stroke-linejoin:round; stroke-width:2; stroke-opacity:0.1; fill:none\" points=\"1386.49,1486.45 1386.49,47.2441 \"/>\n",
       "<polyline clip-path=\"url(#clip992)\" style=\"stroke:#f8f8f2; stroke-linecap:round; stroke-linejoin:round; stroke-width:2; stroke-opacity:0.1; fill:none\" points=\"1839.07,1486.45 1839.07,47.2441 \"/>\n",
       "<polyline clip-path=\"url(#clip992)\" style=\"stroke:#f8f8f2; stroke-linecap:round; stroke-linejoin:round; stroke-width:2; stroke-opacity:0.1; fill:none\" points=\"2291.66,1486.45 2291.66,47.2441 \"/>\n",
       "<polyline clip-path=\"url(#clip992)\" style=\"stroke:#f8f8f2; stroke-linecap:round; stroke-linejoin:round; stroke-width:2; stroke-opacity:0.1; fill:none\" points=\"193.936,1447.88 2352.76,1447.88 \"/>\n",
       "<polyline clip-path=\"url(#clip992)\" style=\"stroke:#f8f8f2; stroke-linecap:round; stroke-linejoin:round; stroke-width:2; stroke-opacity:0.1; fill:none\" points=\"193.936,1105.97 2352.76,1105.97 \"/>\n",
       "<polyline clip-path=\"url(#clip992)\" style=\"stroke:#f8f8f2; stroke-linecap:round; stroke-linejoin:round; stroke-width:2; stroke-opacity:0.1; fill:none\" points=\"193.936,764.064 2352.76,764.064 \"/>\n",
       "<polyline clip-path=\"url(#clip992)\" style=\"stroke:#f8f8f2; stroke-linecap:round; stroke-linejoin:round; stroke-width:2; stroke-opacity:0.1; fill:none\" points=\"193.936,422.155 2352.76,422.155 \"/>\n",
       "<polyline clip-path=\"url(#clip992)\" style=\"stroke:#f8f8f2; stroke-linecap:round; stroke-linejoin:round; stroke-width:2; stroke-opacity:0.1; fill:none\" points=\"193.936,80.2461 2352.76,80.2461 \"/>\n",
       "<polyline clip-path=\"url(#clip990)\" style=\"stroke:#f8f8f2; stroke-linecap:round; stroke-linejoin:round; stroke-width:4; stroke-opacity:1; fill:none\" points=\"193.936,1486.45 2352.76,1486.45 \"/>\n",
       "<polyline clip-path=\"url(#clip990)\" style=\"stroke:#f8f8f2; stroke-linecap:round; stroke-linejoin:round; stroke-width:4; stroke-opacity:1; fill:none\" points=\"481.326,1486.45 481.326,1467.55 \"/>\n",
       "<polyline clip-path=\"url(#clip990)\" style=\"stroke:#f8f8f2; stroke-linecap:round; stroke-linejoin:round; stroke-width:4; stroke-opacity:1; fill:none\" points=\"933.909,1486.45 933.909,1467.55 \"/>\n",
       "<polyline clip-path=\"url(#clip990)\" style=\"stroke:#f8f8f2; stroke-linecap:round; stroke-linejoin:round; stroke-width:4; stroke-opacity:1; fill:none\" points=\"1386.49,1486.45 1386.49,1467.55 \"/>\n",
       "<polyline clip-path=\"url(#clip990)\" style=\"stroke:#f8f8f2; stroke-linecap:round; stroke-linejoin:round; stroke-width:4; stroke-opacity:1; fill:none\" points=\"1839.07,1486.45 1839.07,1467.55 \"/>\n",
       "<polyline clip-path=\"url(#clip990)\" style=\"stroke:#f8f8f2; stroke-linecap:round; stroke-linejoin:round; stroke-width:4; stroke-opacity:1; fill:none\" points=\"2291.66,1486.45 2291.66,1467.55 \"/>\n",
       "<path clip-path=\"url(#clip990)\" d=\"M475.979 1544.91 L492.298 1544.91 L492.298 1548.85 L470.354 1548.85 L470.354 1544.91 Q473.016 1542.16 477.599 1537.53 Q482.206 1532.88 483.386 1531.53 Q485.632 1529.01 486.511 1527.27 Q487.414 1525.51 487.414 1523.82 Q487.414 1521.07 485.47 1519.33 Q483.548 1517.6 480.446 1517.6 Q478.247 1517.6 475.794 1518.36 Q473.363 1519.13 470.585 1520.68 L470.585 1515.95 Q473.409 1514.82 475.863 1514.24 Q478.317 1513.66 480.354 1513.66 Q485.724 1513.66 488.919 1516.35 Q492.113 1519.03 492.113 1523.52 Q492.113 1525.65 491.303 1527.57 Q490.516 1529.47 488.409 1532.07 Q487.831 1532.74 484.729 1535.95 Q481.627 1539.15 475.979 1544.91 Z\" fill=\"#f8f8f2\" fill-rule=\"nonzero\" fill-opacity=\"1\" /><path clip-path=\"url(#clip990)\" d=\"M936.918 1518.36 L925.113 1536.81 L936.918 1536.81 L936.918 1518.36 M935.691 1514.29 L941.571 1514.29 L941.571 1536.81 L946.501 1536.81 L946.501 1540.7 L941.571 1540.7 L941.571 1548.85 L936.918 1548.85 L936.918 1540.7 L921.316 1540.7 L921.316 1536.19 L935.691 1514.29 Z\" fill=\"#f8f8f2\" fill-rule=\"nonzero\" fill-opacity=\"1\" /><path clip-path=\"url(#clip990)\" d=\"M1386.9 1529.7 Q1383.75 1529.7 1381.9 1531.86 Q1380.07 1534.01 1380.07 1537.76 Q1380.07 1541.49 1381.9 1543.66 Q1383.75 1545.82 1386.9 1545.82 Q1390.04 1545.82 1391.87 1543.66 Q1393.73 1541.49 1393.73 1537.76 Q1393.73 1534.01 1391.87 1531.86 Q1390.04 1529.7 1386.9 1529.7 M1396.18 1515.05 L1396.18 1519.31 Q1394.42 1518.48 1392.61 1518.04 Q1390.83 1517.6 1389.07 1517.6 Q1384.44 1517.6 1381.99 1520.72 Q1379.56 1523.85 1379.21 1530.17 Q1380.58 1528.15 1382.64 1527.09 Q1384.7 1526 1387.17 1526 Q1392.38 1526 1395.39 1529.17 Q1398.42 1532.32 1398.42 1537.76 Q1398.42 1543.08 1395.28 1546.3 Q1392.13 1549.52 1386.9 1549.52 Q1380.9 1549.52 1377.73 1544.94 Q1374.56 1540.33 1374.56 1531.6 Q1374.56 1523.41 1378.45 1518.55 Q1382.34 1513.66 1388.89 1513.66 Q1390.65 1513.66 1392.43 1514.01 Q1394.23 1514.36 1396.18 1515.05 Z\" fill=\"#f8f8f2\" fill-rule=\"nonzero\" fill-opacity=\"1\" /><path clip-path=\"url(#clip990)\" d=\"M1839.07 1532.44 Q1835.74 1532.44 1833.82 1534.22 Q1831.92 1536 1831.92 1539.13 Q1831.92 1542.25 1833.82 1544.03 Q1835.74 1545.82 1839.07 1545.82 Q1842.41 1545.82 1844.33 1544.03 Q1846.25 1542.23 1846.25 1539.13 Q1846.25 1536 1844.33 1534.22 Q1842.43 1532.44 1839.07 1532.44 M1834.4 1530.45 Q1831.39 1529.7 1829.7 1527.64 Q1828.03 1525.58 1828.03 1522.62 Q1828.03 1518.48 1830.97 1516.07 Q1833.94 1513.66 1839.07 1513.66 Q1844.24 1513.66 1847.18 1516.07 Q1850.12 1518.48 1850.12 1522.62 Q1850.12 1525.58 1848.43 1527.64 Q1846.76 1529.7 1843.77 1530.45 Q1847.15 1531.23 1849.03 1533.52 Q1850.93 1535.82 1850.93 1539.13 Q1850.93 1544.15 1847.85 1546.83 Q1844.79 1549.52 1839.07 1549.52 Q1833.36 1549.52 1830.28 1546.83 Q1827.22 1544.15 1827.22 1539.13 Q1827.22 1535.82 1829.12 1533.52 Q1831.02 1531.23 1834.4 1530.45 M1832.69 1523.06 Q1832.69 1525.75 1834.35 1527.25 Q1836.04 1528.76 1839.07 1528.76 Q1842.08 1528.76 1843.77 1527.25 Q1845.49 1525.75 1845.49 1523.06 Q1845.49 1520.38 1843.77 1518.87 Q1842.08 1517.37 1839.07 1517.37 Q1836.04 1517.37 1834.35 1518.87 Q1832.69 1520.38 1832.69 1523.06 Z\" fill=\"#f8f8f2\" fill-rule=\"nonzero\" fill-opacity=\"1\" /><path clip-path=\"url(#clip990)\" d=\"M2266.34 1544.91 L2273.98 1544.91 L2273.98 1518.55 L2265.67 1520.21 L2265.67 1515.95 L2273.94 1514.29 L2278.61 1514.29 L2278.61 1544.91 L2286.25 1544.91 L2286.25 1548.85 L2266.34 1548.85 L2266.34 1544.91 Z\" fill=\"#f8f8f2\" fill-rule=\"nonzero\" fill-opacity=\"1\" /><path clip-path=\"url(#clip990)\" d=\"M2305.7 1517.37 Q2302.09 1517.37 2300.26 1520.93 Q2298.45 1524.47 2298.45 1531.6 Q2298.45 1538.71 2300.26 1542.27 Q2302.09 1545.82 2305.7 1545.82 Q2309.33 1545.82 2311.14 1542.27 Q2312.96 1538.71 2312.96 1531.6 Q2312.96 1524.47 2311.14 1520.93 Q2309.33 1517.37 2305.7 1517.37 M2305.7 1513.66 Q2311.51 1513.66 2314.56 1518.27 Q2317.64 1522.85 2317.64 1531.6 Q2317.64 1540.33 2314.56 1544.94 Q2311.51 1549.52 2305.7 1549.52 Q2299.89 1549.52 2296.81 1544.94 Q2293.75 1540.33 2293.75 1531.6 Q2293.75 1522.85 2296.81 1518.27 Q2299.89 1513.66 2305.7 1513.66 Z\" fill=\"#f8f8f2\" fill-rule=\"nonzero\" fill-opacity=\"1\" /><polyline clip-path=\"url(#clip990)\" style=\"stroke:#f8f8f2; stroke-linecap:round; stroke-linejoin:round; stroke-width:4; stroke-opacity:1; fill:none\" points=\"193.936,1486.45 193.936,47.2441 \"/>\n",
       "<polyline clip-path=\"url(#clip990)\" style=\"stroke:#f8f8f2; stroke-linecap:round; stroke-linejoin:round; stroke-width:4; stroke-opacity:1; fill:none\" points=\"193.936,1447.88 212.834,1447.88 \"/>\n",
       "<polyline clip-path=\"url(#clip990)\" style=\"stroke:#f8f8f2; stroke-linecap:round; stroke-linejoin:round; stroke-width:4; stroke-opacity:1; fill:none\" points=\"193.936,1105.97 212.834,1105.97 \"/>\n",
       "<polyline clip-path=\"url(#clip990)\" style=\"stroke:#f8f8f2; stroke-linecap:round; stroke-linejoin:round; stroke-width:4; stroke-opacity:1; fill:none\" points=\"193.936,764.064 212.834,764.064 \"/>\n",
       "<polyline clip-path=\"url(#clip990)\" style=\"stroke:#f8f8f2; stroke-linecap:round; stroke-linejoin:round; stroke-width:4; stroke-opacity:1; fill:none\" points=\"193.936,422.155 212.834,422.155 \"/>\n",
       "<polyline clip-path=\"url(#clip990)\" style=\"stroke:#f8f8f2; stroke-linecap:round; stroke-linejoin:round; stroke-width:4; stroke-opacity:1; fill:none\" points=\"193.936,80.2461 212.834,80.2461 \"/>\n",
       "<path clip-path=\"url(#clip990)\" d=\"M50.9921 1448.33 L80.6679 1448.33 L80.6679 1452.27 L50.9921 1452.27 L50.9921 1448.33 Z\" fill=\"#f8f8f2\" fill-rule=\"nonzero\" fill-opacity=\"1\" /><path clip-path=\"url(#clip990)\" d=\"M91.5706 1461.23 L99.2095 1461.23 L99.2095 1434.86 L90.8993 1436.53 L90.8993 1432.27 L99.1632 1430.6 L103.839 1430.6 L103.839 1461.23 L111.478 1461.23 L111.478 1465.16 L91.5706 1465.16 L91.5706 1461.23 Z\" fill=\"#f8f8f2\" fill-rule=\"nonzero\" fill-opacity=\"1\" /><path clip-path=\"url(#clip990)\" d=\"M120.922 1459.28 L125.807 1459.28 L125.807 1465.16 L120.922 1465.16 L120.922 1459.28 Z\" fill=\"#f8f8f2\" fill-rule=\"nonzero\" fill-opacity=\"1\" /><path clip-path=\"url(#clip990)\" d=\"M145.992 1433.68 Q142.381 1433.68 140.552 1437.24 Q138.746 1440.79 138.746 1447.92 Q138.746 1455.02 140.552 1458.59 Q142.381 1462.13 145.992 1462.13 Q149.626 1462.13 151.431 1458.59 Q153.26 1455.02 153.26 1447.92 Q153.26 1440.79 151.431 1437.24 Q149.626 1433.68 145.992 1433.68 M145.992 1429.98 Q151.802 1429.98 154.857 1434.58 Q157.936 1439.17 157.936 1447.92 Q157.936 1456.64 154.857 1461.25 Q151.802 1465.83 145.992 1465.83 Q140.181 1465.83 137.103 1461.25 Q134.047 1456.64 134.047 1447.92 Q134.047 1439.17 137.103 1434.58 Q140.181 1429.98 145.992 1429.98 Z\" fill=\"#f8f8f2\" fill-rule=\"nonzero\" fill-opacity=\"1\" /><path clip-path=\"url(#clip990)\" d=\"M51.9875 1106.42 L81.6633 1106.42 L81.6633 1110.36 L51.9875 1110.36 L51.9875 1106.42 Z\" fill=\"#f8f8f2\" fill-rule=\"nonzero\" fill-opacity=\"1\" /><path clip-path=\"url(#clip990)\" d=\"M101.756 1091.77 Q98.1447 1091.77 96.316 1095.34 Q94.5104 1098.88 94.5104 1106.01 Q94.5104 1113.11 96.316 1116.68 Q98.1447 1120.22 101.756 1120.22 Q105.39 1120.22 107.196 1116.68 Q109.024 1113.11 109.024 1106.01 Q109.024 1098.88 107.196 1095.34 Q105.39 1091.77 101.756 1091.77 M101.756 1088.07 Q107.566 1088.07 110.621 1092.67 Q113.7 1097.26 113.7 1106.01 Q113.7 1114.73 110.621 1119.34 Q107.566 1123.92 101.756 1123.92 Q95.9456 1123.92 92.8669 1119.34 Q89.8114 1114.73 89.8114 1106.01 Q89.8114 1097.26 92.8669 1092.67 Q95.9456 1088.07 101.756 1088.07 Z\" fill=\"#f8f8f2\" fill-rule=\"nonzero\" fill-opacity=\"1\" /><path clip-path=\"url(#clip990)\" d=\"M121.918 1117.37 L126.802 1117.37 L126.802 1123.25 L121.918 1123.25 L121.918 1117.37 Z\" fill=\"#f8f8f2\" fill-rule=\"nonzero\" fill-opacity=\"1\" /><path clip-path=\"url(#clip990)\" d=\"M137.033 1088.69 L155.39 1088.69 L155.39 1092.63 L141.316 1092.63 L141.316 1101.1 Q142.334 1100.75 143.353 1100.59 Q144.371 1100.41 145.39 1100.41 Q151.177 1100.41 154.556 1103.58 Q157.936 1106.75 157.936 1112.16 Q157.936 1117.74 154.464 1120.84 Q150.992 1123.92 144.672 1123.92 Q142.496 1123.92 140.228 1123.55 Q137.982 1123.18 135.575 1122.44 L135.575 1117.74 Q137.658 1118.88 139.881 1119.43 Q142.103 1119.99 144.58 1119.99 Q148.584 1119.99 150.922 1117.88 Q153.26 1115.78 153.26 1112.16 Q153.26 1108.55 150.922 1106.45 Q148.584 1104.34 144.58 1104.34 Q142.705 1104.34 140.83 1104.76 Q138.978 1105.17 137.033 1106.05 L137.033 1088.69 Z\" fill=\"#f8f8f2\" fill-rule=\"nonzero\" fill-opacity=\"1\" /><path clip-path=\"url(#clip990)\" d=\"M100.76 749.862 Q97.1493 749.862 95.3206 753.427 Q93.515 756.969 93.515 764.098 Q93.515 771.205 95.3206 774.77 Q97.1493 778.311 100.76 778.311 Q104.395 778.311 106.2 774.77 Q108.029 771.205 108.029 764.098 Q108.029 756.969 106.2 753.427 Q104.395 749.862 100.76 749.862 M100.76 746.159 Q106.571 746.159 109.626 750.765 Q112.705 755.348 112.705 764.098 Q112.705 772.825 109.626 777.432 Q106.571 782.015 100.76 782.015 Q94.9502 782.015 91.8715 777.432 Q88.816 772.825 88.816 764.098 Q88.816 755.348 91.8715 750.765 Q94.9502 746.159 100.76 746.159 Z\" fill=\"#f8f8f2\" fill-rule=\"nonzero\" fill-opacity=\"1\" /><path clip-path=\"url(#clip990)\" d=\"M120.922 775.464 L125.807 775.464 L125.807 781.344 L120.922 781.344 L120.922 775.464 Z\" fill=\"#f8f8f2\" fill-rule=\"nonzero\" fill-opacity=\"1\" /><path clip-path=\"url(#clip990)\" d=\"M145.992 749.862 Q142.381 749.862 140.552 753.427 Q138.746 756.969 138.746 764.098 Q138.746 771.205 140.552 774.77 Q142.381 778.311 145.992 778.311 Q149.626 778.311 151.431 774.77 Q153.26 771.205 153.26 764.098 Q153.26 756.969 151.431 753.427 Q149.626 749.862 145.992 749.862 M145.992 746.159 Q151.802 746.159 154.857 750.765 Q157.936 755.348 157.936 764.098 Q157.936 772.825 154.857 777.432 Q151.802 782.015 145.992 782.015 Q140.181 782.015 137.103 777.432 Q134.047 772.825 134.047 764.098 Q134.047 755.348 137.103 750.765 Q140.181 746.159 145.992 746.159 Z\" fill=\"#f8f8f2\" fill-rule=\"nonzero\" fill-opacity=\"1\" /><path clip-path=\"url(#clip990)\" d=\"M101.756 407.954 Q98.1447 407.954 96.316 411.518 Q94.5104 415.06 94.5104 422.19 Q94.5104 429.296 96.316 432.861 Q98.1447 436.402 101.756 436.402 Q105.39 436.402 107.196 432.861 Q109.024 429.296 109.024 422.19 Q109.024 415.06 107.196 411.518 Q105.39 407.954 101.756 407.954 M101.756 404.25 Q107.566 404.25 110.621 408.856 Q113.7 413.44 113.7 422.19 Q113.7 430.916 110.621 435.523 Q107.566 440.106 101.756 440.106 Q95.9456 440.106 92.8669 435.523 Q89.8114 430.916 89.8114 422.19 Q89.8114 413.44 92.8669 408.856 Q95.9456 404.25 101.756 404.25 Z\" fill=\"#f8f8f2\" fill-rule=\"nonzero\" fill-opacity=\"1\" /><path clip-path=\"url(#clip990)\" d=\"M121.918 433.555 L126.802 433.555 L126.802 439.435 L121.918 439.435 L121.918 433.555 Z\" fill=\"#f8f8f2\" fill-rule=\"nonzero\" fill-opacity=\"1\" /><path clip-path=\"url(#clip990)\" d=\"M137.033 404.875 L155.39 404.875 L155.39 408.81 L141.316 408.81 L141.316 417.282 Q142.334 416.935 143.353 416.773 Q144.371 416.588 145.39 416.588 Q151.177 416.588 154.556 419.759 Q157.936 422.93 157.936 428.347 Q157.936 433.926 154.464 437.027 Q150.992 440.106 144.672 440.106 Q142.496 440.106 140.228 439.736 Q137.982 439.365 135.575 438.625 L135.575 433.926 Q137.658 435.06 139.881 435.615 Q142.103 436.171 144.58 436.171 Q148.584 436.171 150.922 434.065 Q153.26 431.958 153.26 428.347 Q153.26 424.736 150.922 422.629 Q148.584 420.523 144.58 420.523 Q142.705 420.523 140.83 420.94 Q138.978 421.356 137.033 422.236 L137.033 404.875 Z\" fill=\"#f8f8f2\" fill-rule=\"nonzero\" fill-opacity=\"1\" /><path clip-path=\"url(#clip990)\" d=\"M91.5706 93.591 L99.2095 93.591 L99.2095 67.2254 L90.8993 68.892 L90.8993 64.6328 L99.1632 62.9661 L103.839 62.9661 L103.839 93.591 L111.478 93.591 L111.478 97.5261 L91.5706 97.5261 L91.5706 93.591 Z\" fill=\"#f8f8f2\" fill-rule=\"nonzero\" fill-opacity=\"1\" /><path clip-path=\"url(#clip990)\" d=\"M120.922 91.6465 L125.807 91.6465 L125.807 97.5261 L120.922 97.5261 L120.922 91.6465 Z\" fill=\"#f8f8f2\" fill-rule=\"nonzero\" fill-opacity=\"1\" /><path clip-path=\"url(#clip990)\" d=\"M145.992 66.0448 Q142.381 66.0448 140.552 69.6096 Q138.746 73.1512 138.746 80.2808 Q138.746 87.3873 140.552 90.9521 Q142.381 94.4937 145.992 94.4937 Q149.626 94.4937 151.431 90.9521 Q153.26 87.3873 153.26 80.2808 Q153.26 73.1512 151.431 69.6096 Q149.626 66.0448 145.992 66.0448 M145.992 62.3411 Q151.802 62.3411 154.857 66.9476 Q157.936 71.5309 157.936 80.2808 Q157.936 89.0076 154.857 93.6141 Q151.802 98.1974 145.992 98.1974 Q140.181 98.1974 137.103 93.6141 Q134.047 89.0076 134.047 80.2808 Q134.047 71.5309 137.103 66.9476 Q140.181 62.3411 145.992 62.3411 Z\" fill=\"#f8f8f2\" fill-rule=\"nonzero\" fill-opacity=\"1\" /><circle clip-path=\"url(#clip992)\" cx=\"255.035\" cy=\"394.595\" r=\"14.4\" fill=\"#8be9fd\" fill-rule=\"evenodd\" fill-opacity=\"1\" stroke=\"#f8f8f2\" stroke-opacity=\"1\" stroke-width=\"3.2\"/>\n",
       "<circle clip-path=\"url(#clip992)\" cx=\"481.326\" cy=\"863.559\" r=\"14.4\" fill=\"#8be9fd\" fill-rule=\"evenodd\" fill-opacity=\"1\" stroke=\"#f8f8f2\" stroke-opacity=\"1\" stroke-width=\"3.2\"/>\n",
       "<circle clip-path=\"url(#clip992)\" cx=\"707.617\" cy=\"963.833\" r=\"14.4\" fill=\"#8be9fd\" fill-rule=\"evenodd\" fill-opacity=\"1\" stroke=\"#f8f8f2\" stroke-opacity=\"1\" stroke-width=\"3.2\"/>\n",
       "<circle clip-path=\"url(#clip992)\" cx=\"933.909\" cy=\"496.105\" r=\"14.4\" fill=\"#8be9fd\" fill-rule=\"evenodd\" fill-opacity=\"1\" stroke=\"#f8f8f2\" stroke-opacity=\"1\" stroke-width=\"3.2\"/>\n",
       "<circle clip-path=\"url(#clip992)\" cx=\"1160.2\" cy=\"225.411\" r=\"14.4\" fill=\"#8be9fd\" fill-rule=\"evenodd\" fill-opacity=\"1\" stroke=\"#f8f8f2\" stroke-opacity=\"1\" stroke-width=\"3.2\"/>\n",
       "<circle clip-path=\"url(#clip992)\" cx=\"1386.49\" cy=\"1255.03\" r=\"14.4\" fill=\"#8be9fd\" fill-rule=\"evenodd\" fill-opacity=\"1\" stroke=\"#f8f8f2\" stroke-opacity=\"1\" stroke-width=\"3.2\"/>\n",
       "<circle clip-path=\"url(#clip992)\" cx=\"1612.78\" cy=\"1341.09\" r=\"14.4\" fill=\"#8be9fd\" fill-rule=\"evenodd\" fill-opacity=\"1\" stroke=\"#f8f8f2\" stroke-opacity=\"1\" stroke-width=\"3.2\"/>\n",
       "<circle clip-path=\"url(#clip992)\" cx=\"1839.07\" cy=\"1445.72\" r=\"14.4\" fill=\"#8be9fd\" fill-rule=\"evenodd\" fill-opacity=\"1\" stroke=\"#f8f8f2\" stroke-opacity=\"1\" stroke-width=\"3.2\"/>\n",
       "<circle clip-path=\"url(#clip992)\" cx=\"2065.37\" cy=\"87.9763\" r=\"14.4\" fill=\"#8be9fd\" fill-rule=\"evenodd\" fill-opacity=\"1\" stroke=\"#f8f8f2\" stroke-opacity=\"1\" stroke-width=\"3.2\"/>\n",
       "<circle clip-path=\"url(#clip992)\" cx=\"2291.66\" cy=\"379.499\" r=\"14.4\" fill=\"#8be9fd\" fill-rule=\"evenodd\" fill-opacity=\"1\" stroke=\"#f8f8f2\" stroke-opacity=\"1\" stroke-width=\"3.2\"/>\n",
       "</svg>\n"
      ]
     },
     "execution_count": 84,
     "metadata": {},
     "output_type": "execute_result"
    }
   ],
   "source": [
    "x = range(1, 10)\n",
    "y = cos.(x.^3)\n",
    "scatter(x, y, legend=false)"
   ]
  },
  {
   "cell_type": "code",
   "execution_count": 85,
   "metadata": {},
   "outputs": [
    {
     "data": {
      "text/latex": [
       "\\textbf{Uniform Distribtion}\n",
       "\n"
      ],
      "text/markdown": [
       "**Uniform Distribtion**\n"
      ],
      "text/plain": [
       "  \u001b[1mUniform Distribtion\u001b[22m"
      ]
     },
     "execution_count": 85,
     "metadata": {},
     "output_type": "execute_result"
    }
   ],
   "source": [
    "md\"**Uniform Distribtion**\""
   ]
  },
  {
   "cell_type": "code",
   "execution_count": 86,
   "metadata": {},
   "outputs": [],
   "source": [
    "?rand;"
   ]
  },
  {
   "cell_type": "code",
   "execution_count": 87,
   "metadata": {},
   "outputs": [
    {
     "data": {
      "image/png": "[encoded data removed]",
      "image/svg+xml": [
       "<?xml version=\"1.0\" encoding=\"utf-8\"?>\n",
       "<svg xmlns=\"http://www.w3.org/2000/svg\" xmlns:xlink=\"http://www.w3.org/1999/xlink\" width=\"600\" height=\"400\" viewBox=\"0 0 2400 1600\">\n",
       "<defs>\n",
       "  <clipPath id=\"clip030\">\n",
       "    <rect x=\"0\" y=\"0\" width=\"2400\" height=\"1600\"/>\n",
       "  </clipPath>\n",
       "</defs>\n",
       "<path clip-path=\"url(#clip030)\" d=\"M0 1600 L2400 1600 L2400 0 L0 0  Z\" fill=\"#282a36\" fill-rule=\"evenodd\" fill-opacity=\"1\"/>\n",
       "<defs>\n",
       "  <clipPath id=\"clip031\">\n",
       "    <rect x=\"480\" y=\"0\" width=\"1681\" height=\"1600\"/>\n",
       "  </clipPath>\n",
       "</defs>\n",
       "<path clip-path=\"url(#clip030)\" d=\"M201.019 1486.45 L2352.76 1486.45 L2352.76 47.2441 L201.019 47.2441  Z\" fill=\"#30343b\" fill-rule=\"evenodd\" fill-opacity=\"1\"/>\n",
       "<defs>\n",
       "  <clipPath id=\"clip032\">\n",
       "    <rect x=\"201\" y=\"47\" width=\"2153\" height=\"1440\"/>\n",
       "  </clipPath>\n",
       "</defs>\n",
       "<polyline clip-path=\"url(#clip032)\" style=\"stroke:#f8f8f2; stroke-linecap:round; stroke-linejoin:round; stroke-width:2; stroke-opacity:0.1; fill:none\" points=\"319.369,1486.45 319.369,47.2441 \"/>\n",
       "<polyline clip-path=\"url(#clip032)\" style=\"stroke:#f8f8f2; stroke-linecap:round; stroke-linejoin:round; stroke-width:2; stroke-opacity:0.1; fill:none\" points=\"798.128,1486.45 798.128,47.2441 \"/>\n",
       "<polyline clip-path=\"url(#clip032)\" style=\"stroke:#f8f8f2; stroke-linecap:round; stroke-linejoin:round; stroke-width:2; stroke-opacity:0.1; fill:none\" points=\"1276.89,1486.45 1276.89,47.2441 \"/>\n",
       "<polyline clip-path=\"url(#clip032)\" style=\"stroke:#f8f8f2; stroke-linecap:round; stroke-linejoin:round; stroke-width:2; stroke-opacity:0.1; fill:none\" points=\"1755.65,1486.45 1755.65,47.2441 \"/>\n",
       "<polyline clip-path=\"url(#clip032)\" style=\"stroke:#f8f8f2; stroke-linecap:round; stroke-linejoin:round; stroke-width:2; stroke-opacity:0.1; fill:none\" points=\"2234.41,1486.45 2234.41,47.2441 \"/>\n",
       "<polyline clip-path=\"url(#clip032)\" style=\"stroke:#f8f8f2; stroke-linecap:round; stroke-linejoin:round; stroke-width:2; stroke-opacity:0.1; fill:none\" points=\"201.019,1486.45 2352.76,1486.45 \"/>\n",
       "<polyline clip-path=\"url(#clip032)\" style=\"stroke:#f8f8f2; stroke-linecap:round; stroke-linejoin:round; stroke-width:2; stroke-opacity:0.1; fill:none\" points=\"201.019,1143.94 2352.76,1143.94 \"/>\n",
       "<polyline clip-path=\"url(#clip032)\" style=\"stroke:#f8f8f2; stroke-linecap:round; stroke-linejoin:round; stroke-width:2; stroke-opacity:0.1; fill:none\" points=\"201.019,801.439 2352.76,801.439 \"/>\n",
       "<polyline clip-path=\"url(#clip032)\" style=\"stroke:#f8f8f2; stroke-linecap:round; stroke-linejoin:round; stroke-width:2; stroke-opacity:0.1; fill:none\" points=\"201.019,458.934 2352.76,458.934 \"/>\n",
       "<polyline clip-path=\"url(#clip032)\" style=\"stroke:#f8f8f2; stroke-linecap:round; stroke-linejoin:round; stroke-width:2; stroke-opacity:0.1; fill:none\" points=\"201.019,116.43 2352.76,116.43 \"/>\n",
       "<polyline clip-path=\"url(#clip030)\" style=\"stroke:#f8f8f2; stroke-linecap:round; stroke-linejoin:round; stroke-width:4; stroke-opacity:1; fill:none\" points=\"201.019,1486.45 2352.76,1486.45 \"/>\n",
       "<polyline clip-path=\"url(#clip030)\" style=\"stroke:#f8f8f2; stroke-linecap:round; stroke-linejoin:round; stroke-width:4; stroke-opacity:1; fill:none\" points=\"319.369,1486.45 319.369,1467.55 \"/>\n",
       "<polyline clip-path=\"url(#clip030)\" style=\"stroke:#f8f8f2; stroke-linecap:round; stroke-linejoin:round; stroke-width:4; stroke-opacity:1; fill:none\" points=\"798.128,1486.45 798.128,1467.55 \"/>\n",
       "<polyline clip-path=\"url(#clip030)\" style=\"stroke:#f8f8f2; stroke-linecap:round; stroke-linejoin:round; stroke-width:4; stroke-opacity:1; fill:none\" points=\"1276.89,1486.45 1276.89,1467.55 \"/>\n",
       "<polyline clip-path=\"url(#clip030)\" style=\"stroke:#f8f8f2; stroke-linecap:round; stroke-linejoin:round; stroke-width:4; stroke-opacity:1; fill:none\" points=\"1755.65,1486.45 1755.65,1467.55 \"/>\n",
       "<polyline clip-path=\"url(#clip030)\" style=\"stroke:#f8f8f2; stroke-linecap:round; stroke-linejoin:round; stroke-width:4; stroke-opacity:1; fill:none\" points=\"2234.41,1486.45 2234.41,1467.55 \"/>\n",
       "<path clip-path=\"url(#clip030)\" d=\"M281.672 1517.37 Q278.061 1517.37 276.232 1520.93 Q274.427 1524.47 274.427 1531.6 Q274.427 1538.71 276.232 1542.27 Q278.061 1545.82 281.672 1545.82 Q285.306 1545.82 287.112 1542.27 Q288.941 1538.71 288.941 1531.6 Q288.941 1524.47 287.112 1520.93 Q285.306 1517.37 281.672 1517.37 M281.672 1513.66 Q287.482 1513.66 290.538 1518.27 Q293.616 1522.85 293.616 1531.6 Q293.616 1540.33 290.538 1544.94 Q287.482 1549.52 281.672 1549.52 Q275.862 1549.52 272.783 1544.94 Q269.728 1540.33 269.728 1531.6 Q269.728 1522.85 272.783 1518.27 Q275.862 1513.66 281.672 1513.66 Z\" fill=\"#f8f8f2\" fill-rule=\"nonzero\" fill-opacity=\"1\" /><path clip-path=\"url(#clip030)\" d=\"M301.834 1542.97 L306.718 1542.97 L306.718 1548.85 L301.834 1548.85 L301.834 1542.97 Z\" fill=\"#f8f8f2\" fill-rule=\"nonzero\" fill-opacity=\"1\" /><path clip-path=\"url(#clip030)\" d=\"M326.903 1517.37 Q323.292 1517.37 321.464 1520.93 Q319.658 1524.47 319.658 1531.6 Q319.658 1538.71 321.464 1542.27 Q323.292 1545.82 326.903 1545.82 Q330.538 1545.82 332.343 1542.27 Q334.172 1538.71 334.172 1531.6 Q334.172 1524.47 332.343 1520.93 Q330.538 1517.37 326.903 1517.37 M326.903 1513.66 Q332.713 1513.66 335.769 1518.27 Q338.848 1522.85 338.848 1531.6 Q338.848 1540.33 335.769 1544.94 Q332.713 1549.52 326.903 1549.52 Q321.093 1549.52 318.014 1544.94 Q314.959 1540.33 314.959 1531.6 Q314.959 1522.85 318.014 1518.27 Q321.093 1513.66 326.903 1513.66 Z\" fill=\"#f8f8f2\" fill-rule=\"nonzero\" fill-opacity=\"1\" /><path clip-path=\"url(#clip030)\" d=\"M357.065 1517.37 Q353.454 1517.37 351.625 1520.93 Q349.82 1524.47 349.82 1531.6 Q349.82 1538.71 351.625 1542.27 Q353.454 1545.82 357.065 1545.82 Q360.699 1545.82 362.505 1542.27 Q364.334 1538.71 364.334 1531.6 Q364.334 1524.47 362.505 1520.93 Q360.699 1517.37 357.065 1517.37 M357.065 1513.66 Q362.875 1513.66 365.931 1518.27 Q369.01 1522.85 369.01 1531.6 Q369.01 1540.33 365.931 1544.94 Q362.875 1549.52 357.065 1549.52 Q351.255 1549.52 348.176 1544.94 Q345.121 1540.33 345.121 1531.6 Q345.121 1522.85 348.176 1518.27 Q351.255 1513.66 357.065 1513.66 Z\" fill=\"#f8f8f2\" fill-rule=\"nonzero\" fill-opacity=\"1\" /><path clip-path=\"url(#clip030)\" d=\"M760.929 1517.37 Q757.318 1517.37 755.489 1520.93 Q753.684 1524.47 753.684 1531.6 Q753.684 1538.71 755.489 1542.27 Q757.318 1545.82 760.929 1545.82 Q764.563 1545.82 766.369 1542.27 Q768.198 1538.71 768.198 1531.6 Q768.198 1524.47 766.369 1520.93 Q764.563 1517.37 760.929 1517.37 M760.929 1513.66 Q766.739 1513.66 769.795 1518.27 Q772.874 1522.85 772.874 1531.6 Q772.874 1540.33 769.795 1544.94 Q766.739 1549.52 760.929 1549.52 Q755.119 1549.52 752.04 1544.94 Q748.985 1540.33 748.985 1531.6 Q748.985 1522.85 752.04 1518.27 Q755.119 1513.66 760.929 1513.66 Z\" fill=\"#f8f8f2\" fill-rule=\"nonzero\" fill-opacity=\"1\" /><path clip-path=\"url(#clip030)\" d=\"M781.091 1542.97 L785.975 1542.97 L785.975 1548.85 L781.091 1548.85 L781.091 1542.97 Z\" fill=\"#f8f8f2\" fill-rule=\"nonzero\" fill-opacity=\"1\" /><path clip-path=\"url(#clip030)\" d=\"M800.188 1544.91 L816.508 1544.91 L816.508 1548.85 L794.563 1548.85 L794.563 1544.91 Q797.225 1542.16 801.809 1537.53 Q806.415 1532.88 807.596 1531.53 Q809.841 1529.01 810.721 1527.27 Q811.623 1525.51 811.623 1523.82 Q811.623 1521.07 809.679 1519.33 Q807.758 1517.6 804.656 1517.6 Q802.457 1517.6 800.003 1518.36 Q797.573 1519.13 794.795 1520.68 L794.795 1515.95 Q797.619 1514.82 800.073 1514.24 Q802.526 1513.66 804.563 1513.66 Q809.934 1513.66 813.128 1516.35 Q816.322 1519.03 816.322 1523.52 Q816.322 1525.65 815.512 1527.57 Q814.725 1529.47 812.619 1532.07 Q812.04 1532.74 808.938 1535.95 Q805.836 1539.15 800.188 1544.91 Z\" fill=\"#f8f8f2\" fill-rule=\"nonzero\" fill-opacity=\"1\" /><path clip-path=\"url(#clip030)\" d=\"M826.369 1514.29 L844.725 1514.29 L844.725 1518.22 L830.651 1518.22 L830.651 1526.7 Q831.67 1526.35 832.688 1526.19 Q833.707 1526 834.725 1526 Q840.512 1526 843.892 1529.17 Q847.271 1532.34 847.271 1537.76 Q847.271 1543.34 843.799 1546.44 Q840.327 1549.52 834.008 1549.52 Q831.832 1549.52 829.563 1549.15 Q827.318 1548.78 824.91 1548.04 L824.91 1543.34 Q826.994 1544.47 829.216 1545.03 Q831.438 1545.58 833.915 1545.58 Q837.92 1545.58 840.258 1543.48 Q842.595 1541.37 842.595 1537.76 Q842.595 1534.15 840.258 1532.04 Q837.92 1529.94 833.915 1529.94 Q832.04 1529.94 830.165 1530.35 Q828.313 1530.77 826.369 1531.65 L826.369 1514.29 Z\" fill=\"#f8f8f2\" fill-rule=\"nonzero\" fill-opacity=\"1\" /><path clip-path=\"url(#clip030)\" d=\"M1239.19 1517.37 Q1235.58 1517.37 1233.75 1520.93 Q1231.95 1524.47 1231.95 1531.6 Q1231.95 1538.71 1233.75 1542.27 Q1235.58 1545.82 1239.19 1545.82 Q1242.83 1545.82 1244.63 1542.27 Q1246.46 1538.71 1246.46 1531.6 Q1246.46 1524.47 1244.63 1520.93 Q1242.83 1517.37 1239.19 1517.37 M1239.19 1513.66 Q1245 1513.66 1248.06 1518.27 Q1251.14 1522.85 1251.14 1531.6 Q1251.14 1540.33 1248.06 1544.94 Q1245 1549.52 1239.19 1549.52 Q1233.38 1549.52 1230.3 1544.94 Q1227.25 1540.33 1227.25 1531.6 Q1227.25 1522.85 1230.3 1518.27 Q1233.38 1513.66 1239.19 1513.66 Z\" fill=\"#f8f8f2\" fill-rule=\"nonzero\" fill-opacity=\"1\" /><path clip-path=\"url(#clip030)\" d=\"M1259.35 1542.97 L1264.24 1542.97 L1264.24 1548.85 L1259.35 1548.85 L1259.35 1542.97 Z\" fill=\"#f8f8f2\" fill-rule=\"nonzero\" fill-opacity=\"1\" /><path clip-path=\"url(#clip030)\" d=\"M1274.47 1514.29 L1292.83 1514.29 L1292.83 1518.22 L1278.75 1518.22 L1278.75 1526.7 Q1279.77 1526.35 1280.79 1526.19 Q1281.81 1526 1282.83 1526 Q1288.61 1526 1291.99 1529.17 Q1295.37 1532.34 1295.37 1537.76 Q1295.37 1543.34 1291.9 1546.44 Q1288.43 1549.52 1282.11 1549.52 Q1279.93 1549.52 1277.66 1549.15 Q1275.42 1548.78 1273.01 1548.04 L1273.01 1543.34 Q1275.09 1544.47 1277.32 1545.03 Q1279.54 1545.58 1282.01 1545.58 Q1286.02 1545.58 1288.36 1543.48 Q1290.7 1541.37 1290.7 1537.76 Q1290.7 1534.15 1288.36 1532.04 Q1286.02 1529.94 1282.01 1529.94 Q1280.14 1529.94 1278.26 1530.35 Q1276.41 1530.77 1274.47 1531.65 L1274.47 1514.29 Z\" fill=\"#f8f8f2\" fill-rule=\"nonzero\" fill-opacity=\"1\" /><path clip-path=\"url(#clip030)\" d=\"M1314.58 1517.37 Q1310.97 1517.37 1309.14 1520.93 Q1307.34 1524.47 1307.34 1531.6 Q1307.34 1538.71 1309.14 1542.27 Q1310.97 1545.82 1314.58 1545.82 Q1318.22 1545.82 1320.02 1542.27 Q1321.85 1538.71 1321.85 1531.6 Q1321.85 1524.47 1320.02 1520.93 Q1318.22 1517.37 1314.58 1517.37 M1314.58 1513.66 Q1320.39 1513.66 1323.45 1518.27 Q1326.53 1522.85 1326.53 1531.6 Q1326.53 1540.33 1323.45 1544.94 Q1320.39 1549.52 1314.58 1549.52 Q1308.77 1549.52 1305.7 1544.94 Q1302.64 1540.33 1302.64 1531.6 Q1302.64 1522.85 1305.7 1518.27 Q1308.77 1513.66 1314.58 1513.66 Z\" fill=\"#f8f8f2\" fill-rule=\"nonzero\" fill-opacity=\"1\" /><path clip-path=\"url(#clip030)\" d=\"M1718.45 1517.37 Q1714.84 1517.37 1713.01 1520.93 Q1711.2 1524.47 1711.2 1531.6 Q1711.2 1538.71 1713.01 1542.27 Q1714.84 1545.82 1718.45 1545.82 Q1722.08 1545.82 1723.89 1542.27 Q1725.72 1538.71 1725.72 1531.6 Q1725.72 1524.47 1723.89 1520.93 Q1722.08 1517.37 1718.45 1517.37 M1718.45 1513.66 Q1724.26 1513.66 1727.31 1518.27 Q1730.39 1522.85 1730.39 1531.6 Q1730.39 1540.33 1727.31 1544.94 Q1724.26 1549.52 1718.45 1549.52 Q1712.64 1549.52 1709.56 1544.94 Q1706.5 1540.33 1706.5 1531.6 Q1706.5 1522.85 1709.56 1518.27 Q1712.64 1513.66 1718.45 1513.66 Z\" fill=\"#f8f8f2\" fill-rule=\"nonzero\" fill-opacity=\"1\" /><path clip-path=\"url(#clip030)\" d=\"M1738.61 1542.97 L1743.49 1542.97 L1743.49 1548.85 L1738.61 1548.85 L1738.61 1542.97 Z\" fill=\"#f8f8f2\" fill-rule=\"nonzero\" fill-opacity=\"1\" /><path clip-path=\"url(#clip030)\" d=\"M1752.5 1514.29 L1774.72 1514.29 L1774.72 1516.28 L1762.17 1548.85 L1757.29 1548.85 L1769.1 1518.22 L1752.5 1518.22 L1752.5 1514.29 Z\" fill=\"#f8f8f2\" fill-rule=\"nonzero\" fill-opacity=\"1\" /><path clip-path=\"url(#clip030)\" d=\"M1783.89 1514.29 L1802.24 1514.29 L1802.24 1518.22 L1788.17 1518.22 L1788.17 1526.7 Q1789.19 1526.35 1790.21 1526.19 Q1791.23 1526 1792.24 1526 Q1798.03 1526 1801.41 1529.17 Q1804.79 1532.34 1804.79 1537.76 Q1804.79 1543.34 1801.32 1546.44 Q1797.85 1549.52 1791.53 1549.52 Q1789.35 1549.52 1787.08 1549.15 Q1784.84 1548.78 1782.43 1548.04 L1782.43 1543.34 Q1784.51 1544.47 1786.73 1545.03 Q1788.96 1545.58 1791.43 1545.58 Q1795.44 1545.58 1797.78 1543.48 Q1800.11 1541.37 1800.11 1537.76 Q1800.11 1534.15 1797.78 1532.04 Q1795.44 1529.94 1791.43 1529.94 Q1789.56 1529.94 1787.68 1530.35 Q1785.83 1530.77 1783.89 1531.65 L1783.89 1514.29 Z\" fill=\"#f8f8f2\" fill-rule=\"nonzero\" fill-opacity=\"1\" /><path clip-path=\"url(#clip030)\" d=\"M2186.48 1544.91 L2194.12 1544.91 L2194.12 1518.55 L2185.81 1520.21 L2185.81 1515.95 L2194.07 1514.29 L2198.75 1514.29 L2198.75 1544.91 L2206.39 1544.91 L2206.39 1548.85 L2186.48 1548.85 L2186.48 1544.91 Z\" fill=\"#f8f8f2\" fill-rule=\"nonzero\" fill-opacity=\"1\" /><path clip-path=\"url(#clip030)\" d=\"M2215.83 1542.97 L2220.71 1542.97 L2220.71 1548.85 L2215.83 1548.85 L2215.83 1542.97 Z\" fill=\"#f8f8f2\" fill-rule=\"nonzero\" fill-opacity=\"1\" /><path clip-path=\"url(#clip030)\" d=\"M2240.9 1517.37 Q2237.29 1517.37 2235.46 1520.93 Q2233.65 1524.47 2233.65 1531.6 Q2233.65 1538.71 2235.46 1542.27 Q2237.29 1545.82 2240.9 1545.82 Q2244.53 1545.82 2246.34 1542.27 Q2248.17 1538.71 2248.17 1531.6 Q2248.17 1524.47 2246.34 1520.93 Q2244.53 1517.37 2240.9 1517.37 M2240.9 1513.66 Q2246.71 1513.66 2249.77 1518.27 Q2252.84 1522.85 2252.84 1531.6 Q2252.84 1540.33 2249.77 1544.94 Q2246.71 1549.52 2240.9 1549.52 Q2235.09 1549.52 2232.01 1544.94 Q2228.96 1540.33 2228.96 1531.6 Q2228.96 1522.85 2232.01 1518.27 Q2235.09 1513.66 2240.9 1513.66 Z\" fill=\"#f8f8f2\" fill-rule=\"nonzero\" fill-opacity=\"1\" /><path clip-path=\"url(#clip030)\" d=\"M2271.06 1517.37 Q2267.45 1517.37 2265.62 1520.93 Q2263.82 1524.47 2263.82 1531.6 Q2263.82 1538.71 2265.62 1542.27 Q2267.45 1545.82 2271.06 1545.82 Q2274.7 1545.82 2276.5 1542.27 Q2278.33 1538.71 2278.33 1531.6 Q2278.33 1524.47 2276.5 1520.93 Q2274.7 1517.37 2271.06 1517.37 M2271.06 1513.66 Q2276.87 1513.66 2279.93 1518.27 Q2283.01 1522.85 2283.01 1531.6 Q2283.01 1540.33 2279.93 1544.94 Q2276.87 1549.52 2271.06 1549.52 Q2265.25 1549.52 2262.17 1544.94 Q2259.12 1540.33 2259.12 1531.6 Q2259.12 1522.85 2262.17 1518.27 Q2265.25 1513.66 2271.06 1513.66 Z\" fill=\"#f8f8f2\" fill-rule=\"nonzero\" fill-opacity=\"1\" /><polyline clip-path=\"url(#clip030)\" style=\"stroke:#f8f8f2; stroke-linecap:round; stroke-linejoin:round; stroke-width:4; stroke-opacity:1; fill:none\" points=\"201.019,1486.45 201.019,47.2441 \"/>\n",
       "<polyline clip-path=\"url(#clip030)\" style=\"stroke:#f8f8f2; stroke-linecap:round; stroke-linejoin:round; stroke-width:4; stroke-opacity:1; fill:none\" points=\"201.019,1486.45 219.917,1486.45 \"/>\n",
       "<polyline clip-path=\"url(#clip030)\" style=\"stroke:#f8f8f2; stroke-linecap:round; stroke-linejoin:round; stroke-width:4; stroke-opacity:1; fill:none\" points=\"201.019,1143.94 219.917,1143.94 \"/>\n",
       "<polyline clip-path=\"url(#clip030)\" style=\"stroke:#f8f8f2; stroke-linecap:round; stroke-linejoin:round; stroke-width:4; stroke-opacity:1; fill:none\" points=\"201.019,801.439 219.917,801.439 \"/>\n",
       "<polyline clip-path=\"url(#clip030)\" style=\"stroke:#f8f8f2; stroke-linecap:round; stroke-linejoin:round; stroke-width:4; stroke-opacity:1; fill:none\" points=\"201.019,458.934 219.917,458.934 \"/>\n",
       "<polyline clip-path=\"url(#clip030)\" style=\"stroke:#f8f8f2; stroke-linecap:round; stroke-linejoin:round; stroke-width:4; stroke-opacity:1; fill:none\" points=\"201.019,116.43 219.917,116.43 \"/>\n",
       "<path clip-path=\"url(#clip030)\" d=\"M153.075 1472.25 Q149.464 1472.25 147.635 1475.81 Q145.83 1479.35 145.83 1486.48 Q145.83 1493.59 147.635 1497.15 Q149.464 1500.7 153.075 1500.7 Q156.709 1500.7 158.515 1497.15 Q160.343 1493.59 160.343 1486.48 Q160.343 1479.35 158.515 1475.81 Q156.709 1472.25 153.075 1472.25 M153.075 1468.54 Q158.885 1468.54 161.941 1473.15 Q165.019 1477.73 165.019 1486.48 Q165.019 1495.21 161.941 1499.82 Q158.885 1504.4 153.075 1504.4 Q147.265 1504.4 144.186 1499.82 Q141.131 1495.21 141.131 1486.48 Q141.131 1477.73 144.186 1473.15 Q147.265 1468.54 153.075 1468.54 Z\" fill=\"#f8f8f2\" fill-rule=\"nonzero\" fill-opacity=\"1\" /><path clip-path=\"url(#clip030)\" d=\"M82.7975 1126.66 L101.154 1126.66 L101.154 1130.6 L87.0799 1130.6 L87.0799 1139.07 Q88.0984 1138.72 89.1169 1138.56 Q90.1354 1138.38 91.1539 1138.38 Q96.941 1138.38 100.321 1141.55 Q103.7 1144.72 103.7 1150.14 Q103.7 1155.71 100.228 1158.82 Q96.7558 1161.89 90.4364 1161.89 Q88.2604 1161.89 85.9919 1161.52 Q83.7466 1161.15 81.3392 1160.41 L81.3392 1155.71 Q83.4225 1156.85 85.6447 1157.4 Q87.8669 1157.96 90.3438 1157.96 Q94.3484 1157.96 96.6863 1155.85 Q99.0243 1153.75 99.0243 1150.14 Q99.0243 1146.52 96.6863 1144.42 Q94.3484 1142.31 90.3438 1142.31 Q88.4688 1142.31 86.5938 1142.73 Q84.7419 1143.14 82.7975 1144.02 L82.7975 1126.66 Z\" fill=\"#f8f8f2\" fill-rule=\"nonzero\" fill-opacity=\"1\" /><path clip-path=\"url(#clip030)\" d=\"M122.913 1129.74 Q119.302 1129.74 117.473 1133.31 Q115.668 1136.85 115.668 1143.98 Q115.668 1151.08 117.473 1154.65 Q119.302 1158.19 122.913 1158.19 Q126.547 1158.19 128.353 1154.65 Q130.182 1151.08 130.182 1143.98 Q130.182 1136.85 128.353 1133.31 Q126.547 1129.74 122.913 1129.74 M122.913 1126.04 Q128.723 1126.04 131.779 1130.64 Q134.857 1135.23 134.857 1143.98 Q134.857 1152.7 131.779 1157.31 Q128.723 1161.89 122.913 1161.89 Q117.103 1161.89 114.024 1157.31 Q110.969 1152.7 110.969 1143.98 Q110.969 1135.23 114.024 1130.64 Q117.103 1126.04 122.913 1126.04 Z\" fill=\"#f8f8f2\" fill-rule=\"nonzero\" fill-opacity=\"1\" /><path clip-path=\"url(#clip030)\" d=\"M153.075 1129.74 Q149.464 1129.74 147.635 1133.31 Q145.83 1136.85 145.83 1143.98 Q145.83 1151.08 147.635 1154.65 Q149.464 1158.19 153.075 1158.19 Q156.709 1158.19 158.515 1154.65 Q160.343 1151.08 160.343 1143.98 Q160.343 1136.85 158.515 1133.31 Q156.709 1129.74 153.075 1129.74 M153.075 1126.04 Q158.885 1126.04 161.941 1130.64 Q165.019 1135.23 165.019 1143.98 Q165.019 1152.7 161.941 1157.31 Q158.885 1161.89 153.075 1161.89 Q147.265 1161.89 144.186 1157.31 Q141.131 1152.7 141.131 1143.98 Q141.131 1135.23 144.186 1130.64 Q147.265 1126.04 153.075 1126.04 Z\" fill=\"#f8f8f2\" fill-rule=\"nonzero\" fill-opacity=\"1\" /><path clip-path=\"url(#clip030)\" d=\"M53.3995 814.784 L61.0384 814.784 L61.0384 788.418 L52.7282 790.085 L52.7282 785.826 L60.9921 784.159 L65.668 784.159 L65.668 814.784 L73.3068 814.784 L73.3068 818.719 L53.3995 818.719 L53.3995 814.784 Z\" fill=\"#f8f8f2\" fill-rule=\"nonzero\" fill-opacity=\"1\" /><path clip-path=\"url(#clip030)\" d=\"M92.7512 787.238 Q89.1401 787.238 87.3114 790.802 Q85.5058 794.344 85.5058 801.474 Q85.5058 808.58 87.3114 812.145 Q89.1401 815.687 92.7512 815.687 Q96.3854 815.687 98.1909 812.145 Q100.02 808.58 100.02 801.474 Q100.02 794.344 98.1909 790.802 Q96.3854 787.238 92.7512 787.238 M92.7512 783.534 Q98.5613 783.534 101.617 788.14 Q104.696 792.724 104.696 801.474 Q104.696 810.2 101.617 814.807 Q98.5613 819.39 92.7512 819.39 Q86.941 819.39 83.8623 814.807 Q80.8068 810.2 80.8068 801.474 Q80.8068 792.724 83.8623 788.14 Q86.941 783.534 92.7512 783.534 Z\" fill=\"#f8f8f2\" fill-rule=\"nonzero\" fill-opacity=\"1\" /><path clip-path=\"url(#clip030)\" d=\"M122.913 787.238 Q119.302 787.238 117.473 790.802 Q115.668 794.344 115.668 801.474 Q115.668 808.58 117.473 812.145 Q119.302 815.687 122.913 815.687 Q126.547 815.687 128.353 812.145 Q130.182 808.58 130.182 801.474 Q130.182 794.344 128.353 790.802 Q126.547 787.238 122.913 787.238 M122.913 783.534 Q128.723 783.534 131.779 788.14 Q134.857 792.724 134.857 801.474 Q134.857 810.2 131.779 814.807 Q128.723 819.39 122.913 819.39 Q117.103 819.39 114.024 814.807 Q110.969 810.2 110.969 801.474 Q110.969 792.724 114.024 788.14 Q117.103 783.534 122.913 783.534 Z\" fill=\"#f8f8f2\" fill-rule=\"nonzero\" fill-opacity=\"1\" /><path clip-path=\"url(#clip030)\" d=\"M153.075 787.238 Q149.464 787.238 147.635 790.802 Q145.83 794.344 145.83 801.474 Q145.83 808.58 147.635 812.145 Q149.464 815.687 153.075 815.687 Q156.709 815.687 158.515 812.145 Q160.343 808.58 160.343 801.474 Q160.343 794.344 158.515 790.802 Q156.709 787.238 153.075 787.238 M153.075 783.534 Q158.885 783.534 161.941 788.14 Q165.019 792.724 165.019 801.474 Q165.019 810.2 161.941 814.807 Q158.885 819.39 153.075 819.39 Q147.265 819.39 144.186 814.807 Q141.131 810.2 141.131 801.474 Q141.131 792.724 144.186 788.14 Q147.265 783.534 153.075 783.534 Z\" fill=\"#f8f8f2\" fill-rule=\"nonzero\" fill-opacity=\"1\" /><path clip-path=\"url(#clip030)\" d=\"M53.3995 472.279 L61.0384 472.279 L61.0384 445.914 L52.7282 447.58 L52.7282 443.321 L60.9921 441.654 L65.668 441.654 L65.668 472.279 L73.3068 472.279 L73.3068 476.214 L53.3995 476.214 L53.3995 472.279 Z\" fill=\"#f8f8f2\" fill-rule=\"nonzero\" fill-opacity=\"1\" /><path clip-path=\"url(#clip030)\" d=\"M82.7975 441.654 L101.154 441.654 L101.154 445.59 L87.0799 445.59 L87.0799 454.062 Q88.0984 453.715 89.1169 453.553 Q90.1354 453.367 91.1539 453.367 Q96.941 453.367 100.321 456.539 Q103.7 459.71 103.7 465.127 Q103.7 470.705 100.228 473.807 Q96.7558 476.886 90.4364 476.886 Q88.2604 476.886 85.9919 476.515 Q83.7466 476.145 81.3392 475.404 L81.3392 470.705 Q83.4225 471.839 85.6447 472.395 Q87.8669 472.951 90.3438 472.951 Q94.3484 472.951 96.6863 470.844 Q99.0243 468.738 99.0243 465.127 Q99.0243 461.515 96.6863 459.409 Q94.3484 457.303 90.3438 457.303 Q88.4688 457.303 86.5938 457.719 Q84.7419 458.136 82.7975 459.015 L82.7975 441.654 Z\" fill=\"#f8f8f2\" fill-rule=\"nonzero\" fill-opacity=\"1\" /><path clip-path=\"url(#clip030)\" d=\"M122.913 444.733 Q119.302 444.733 117.473 448.298 Q115.668 451.84 115.668 458.969 Q115.668 466.076 117.473 469.64 Q119.302 473.182 122.913 473.182 Q126.547 473.182 128.353 469.64 Q130.182 466.076 130.182 458.969 Q130.182 451.84 128.353 448.298 Q126.547 444.733 122.913 444.733 M122.913 441.029 Q128.723 441.029 131.779 445.636 Q134.857 450.219 134.857 458.969 Q134.857 467.696 131.779 472.302 Q128.723 476.886 122.913 476.886 Q117.103 476.886 114.024 472.302 Q110.969 467.696 110.969 458.969 Q110.969 450.219 114.024 445.636 Q117.103 441.029 122.913 441.029 Z\" fill=\"#f8f8f2\" fill-rule=\"nonzero\" fill-opacity=\"1\" /><path clip-path=\"url(#clip030)\" d=\"M153.075 444.733 Q149.464 444.733 147.635 448.298 Q145.83 451.84 145.83 458.969 Q145.83 466.076 147.635 469.64 Q149.464 473.182 153.075 473.182 Q156.709 473.182 158.515 469.64 Q160.343 466.076 160.343 458.969 Q160.343 451.84 158.515 448.298 Q156.709 444.733 153.075 444.733 M153.075 441.029 Q158.885 441.029 161.941 445.636 Q165.019 450.219 165.019 458.969 Q165.019 467.696 161.941 472.302 Q158.885 476.886 153.075 476.886 Q147.265 476.886 144.186 472.302 Q141.131 467.696 141.131 458.969 Q141.131 450.219 144.186 445.636 Q147.265 441.029 153.075 441.029 Z\" fill=\"#f8f8f2\" fill-rule=\"nonzero\" fill-opacity=\"1\" /><path clip-path=\"url(#clip030)\" d=\"M56.6171 129.775 L72.9365 129.775 L72.9365 133.71 L50.9921 133.71 L50.9921 129.775 Q53.6541 127.02 58.2375 122.391 Q62.8439 117.738 64.0245 116.395 Q66.2698 113.872 67.1494 112.136 Q68.0522 110.377 68.0522 108.687 Q68.0522 105.932 66.1078 104.196 Q64.1865 102.46 61.0847 102.46 Q58.8856 102.46 56.4319 103.224 Q54.0014 103.988 51.2236 105.539 L51.2236 100.817 Q54.0477 99.6824 56.5014 99.1037 Q58.955 98.525 60.9921 98.525 Q66.3624 98.525 69.5568 101.21 Q72.7513 103.895 72.7513 108.386 Q72.7513 110.516 71.9411 112.437 Q71.1541 114.335 69.0476 116.928 Q68.4689 117.599 65.367 120.817 Q62.2652 124.011 56.6171 129.775 Z\" fill=\"#f8f8f2\" fill-rule=\"nonzero\" fill-opacity=\"1\" /><path clip-path=\"url(#clip030)\" d=\"M92.7512 102.229 Q89.1401 102.229 87.3114 105.793 Q85.5058 109.335 85.5058 116.465 Q85.5058 123.571 87.3114 127.136 Q89.1401 130.678 92.7512 130.678 Q96.3854 130.678 98.1909 127.136 Q100.02 123.571 100.02 116.465 Q100.02 109.335 98.1909 105.793 Q96.3854 102.229 92.7512 102.229 M92.7512 98.525 Q98.5613 98.525 101.617 103.131 Q104.696 107.715 104.696 116.465 Q104.696 125.192 101.617 129.798 Q98.5613 134.381 92.7512 134.381 Q86.941 134.381 83.8623 129.798 Q80.8068 125.192 80.8068 116.465 Q80.8068 107.715 83.8623 103.131 Q86.941 98.525 92.7512 98.525 Z\" fill=\"#f8f8f2\" fill-rule=\"nonzero\" fill-opacity=\"1\" /><path clip-path=\"url(#clip030)\" d=\"M122.913 102.229 Q119.302 102.229 117.473 105.793 Q115.668 109.335 115.668 116.465 Q115.668 123.571 117.473 127.136 Q119.302 130.678 122.913 130.678 Q126.547 130.678 128.353 127.136 Q130.182 123.571 130.182 116.465 Q130.182 109.335 128.353 105.793 Q126.547 102.229 122.913 102.229 M122.913 98.525 Q128.723 98.525 131.779 103.131 Q134.857 107.715 134.857 116.465 Q134.857 125.192 131.779 129.798 Q128.723 134.381 122.913 134.381 Q117.103 134.381 114.024 129.798 Q110.969 125.192 110.969 116.465 Q110.969 107.715 114.024 103.131 Q117.103 98.525 122.913 98.525 Z\" fill=\"#f8f8f2\" fill-rule=\"nonzero\" fill-opacity=\"1\" /><path clip-path=\"url(#clip030)\" d=\"M153.075 102.229 Q149.464 102.229 147.635 105.793 Q145.83 109.335 145.83 116.465 Q145.83 123.571 147.635 127.136 Q149.464 130.678 153.075 130.678 Q156.709 130.678 158.515 127.136 Q160.343 123.571 160.343 116.465 Q160.343 109.335 158.515 105.793 Q156.709 102.229 153.075 102.229 M153.075 98.525 Q158.885 98.525 161.941 103.131 Q165.019 107.715 165.019 116.465 Q165.019 125.192 161.941 129.798 Q158.885 134.381 153.075 134.381 Q147.265 134.381 144.186 129.798 Q141.131 125.192 141.131 116.465 Q141.131 107.715 144.186 103.131 Q147.265 98.525 153.075 98.525 Z\" fill=\"#f8f8f2\" fill-rule=\"nonzero\" fill-opacity=\"1\" /><path clip-path=\"url(#clip032)\" d=\"M319.369 158.901 L319.369 1486.45 L357.669 1486.45 L357.669 158.901 L319.369 158.901 L319.369 158.901  Z\" fill=\"#8be9fd\" fill-rule=\"evenodd\" fill-opacity=\"1\"/>\n",
       "<polyline clip-path=\"url(#clip032)\" style=\"stroke:#f8f8f2; stroke-linecap:round; stroke-linejoin:round; stroke-width:4; stroke-opacity:1; fill:none\" points=\"319.369,158.901 319.369,1486.45 357.669,1486.45 357.669,158.901 319.369,158.901 \"/>\n",
       "<path clip-path=\"url(#clip032)\" d=\"M357.669 153.42 L357.669 1486.45 L395.97 1486.45 L395.97 153.42 L357.669 153.42 L357.669 153.42  Z\" fill=\"#8be9fd\" fill-rule=\"evenodd\" fill-opacity=\"1\"/>\n",
       "<polyline clip-path=\"url(#clip032)\" style=\"stroke:#f8f8f2; stroke-linecap:round; stroke-linejoin:round; stroke-width:4; stroke-opacity:1; fill:none\" points=\"357.669,153.42 357.669,1486.45 395.97,1486.45 395.97,153.42 357.669,153.42 \"/>\n",
       "<path clip-path=\"url(#clip032)\" d=\"M395.97 128.075 L395.97 1486.45 L434.271 1486.45 L434.271 128.075 L395.97 128.075 L395.97 128.075  Z\" fill=\"#8be9fd\" fill-rule=\"evenodd\" fill-opacity=\"1\"/>\n",
       "<polyline clip-path=\"url(#clip032)\" style=\"stroke:#f8f8f2; stroke-linecap:round; stroke-linejoin:round; stroke-width:4; stroke-opacity:1; fill:none\" points=\"395.97,128.075 395.97,1486.45 434.271,1486.45 434.271,128.075 395.97,128.075 \"/>\n",
       "<path clip-path=\"url(#clip032)\" d=\"M434.271 150.68 L434.271 1486.45 L472.572 1486.45 L472.572 150.68 L434.271 150.68 L434.271 150.68  Z\" fill=\"#8be9fd\" fill-rule=\"evenodd\" fill-opacity=\"1\"/>\n",
       "<polyline clip-path=\"url(#clip032)\" style=\"stroke:#f8f8f2; stroke-linecap:round; stroke-linejoin:round; stroke-width:4; stroke-opacity:1; fill:none\" points=\"434.271,150.68 434.271,1486.45 472.572,1486.45 472.572,150.68 434.271,150.68 \"/>\n",
       "<path clip-path=\"url(#clip032)\" d=\"M472.572 139.035 L472.572 1486.45 L510.872 1486.45 L510.872 139.035 L472.572 139.035 L472.572 139.035  Z\" fill=\"#8be9fd\" fill-rule=\"evenodd\" fill-opacity=\"1\"/>\n",
       "<polyline clip-path=\"url(#clip032)\" style=\"stroke:#f8f8f2; stroke-linecap:round; stroke-linejoin:round; stroke-width:4; stroke-opacity:1; fill:none\" points=\"472.572,139.035 472.572,1486.45 510.872,1486.45 510.872,139.035 472.572,139.035 \"/>\n",
       "<path clip-path=\"url(#clip032)\" d=\"M510.872 69.1644 L510.872 1486.45 L549.173 1486.45 L549.173 69.1644 L510.872 69.1644 L510.872 69.1644  Z\" fill=\"#8be9fd\" fill-rule=\"evenodd\" fill-opacity=\"1\"/>\n",
       "<polyline clip-path=\"url(#clip032)\" style=\"stroke:#f8f8f2; stroke-linecap:round; stroke-linejoin:round; stroke-width:4; stroke-opacity:1; fill:none\" points=\"510.872,69.1644 510.872,1486.45 549.173,1486.45 549.173,69.1644 510.872,69.1644 \"/>\n",
       "<path clip-path=\"url(#clip032)\" d=\"M549.173 90.3997 L549.173 1486.45 L587.474 1486.45 L587.474 90.3997 L549.173 90.3997 L549.173 90.3997  Z\" fill=\"#8be9fd\" fill-rule=\"evenodd\" fill-opacity=\"1\"/>\n",
       "<polyline clip-path=\"url(#clip032)\" style=\"stroke:#f8f8f2; stroke-linecap:round; stroke-linejoin:round; stroke-width:4; stroke-opacity:1; fill:none\" points=\"549.173,90.3997 549.173,1486.45 587.474,1486.45 587.474,90.3997 549.173,90.3997 \"/>\n",
       "<path clip-path=\"url(#clip032)\" d=\"M587.474 162.326 L587.474 1486.45 L625.775 1486.45 L625.775 162.326 L587.474 162.326 L587.474 162.326  Z\" fill=\"#8be9fd\" fill-rule=\"evenodd\" fill-opacity=\"1\"/>\n",
       "<polyline clip-path=\"url(#clip032)\" style=\"stroke:#f8f8f2; stroke-linecap:round; stroke-linejoin:round; stroke-width:4; stroke-opacity:1; fill:none\" points=\"587.474,162.326 587.474,1486.45 625.775,1486.45 625.775,162.326 587.474,162.326 \"/>\n",
       "<path clip-path=\"url(#clip032)\" d=\"M625.775 97.9348 L625.775 1486.45 L664.075 1486.45 L664.075 97.9348 L625.775 97.9348 L625.775 97.9348  Z\" fill=\"#8be9fd\" fill-rule=\"evenodd\" fill-opacity=\"1\"/>\n",
       "<polyline clip-path=\"url(#clip032)\" style=\"stroke:#f8f8f2; stroke-linecap:round; stroke-linejoin:round; stroke-width:4; stroke-opacity:1; fill:none\" points=\"625.775,97.9348 625.775,1486.45 664.075,1486.45 664.075,97.9348 625.775,97.9348 \"/>\n",
       "<path clip-path=\"url(#clip032)\" d=\"M664.075 122.595 L664.075 1486.45 L702.376 1486.45 L702.376 122.595 L664.075 122.595 L664.075 122.595  Z\" fill=\"#8be9fd\" fill-rule=\"evenodd\" fill-opacity=\"1\"/>\n",
       "<polyline clip-path=\"url(#clip032)\" style=\"stroke:#f8f8f2; stroke-linecap:round; stroke-linejoin:round; stroke-width:4; stroke-opacity:1; fill:none\" points=\"664.075,122.595 664.075,1486.45 702.376,1486.45 702.376,122.595 664.075,122.595 \"/>\n",
       "<path clip-path=\"url(#clip032)\" d=\"M702.376 94.5097 L702.376 1486.45 L740.677 1486.45 L740.677 94.5097 L702.376 94.5097 L702.376 94.5097  Z\" fill=\"#8be9fd\" fill-rule=\"evenodd\" fill-opacity=\"1\"/>\n",
       "<polyline clip-path=\"url(#clip032)\" style=\"stroke:#f8f8f2; stroke-linecap:round; stroke-linejoin:round; stroke-width:4; stroke-opacity:1; fill:none\" points=\"702.376,94.5097 702.376,1486.45 740.677,1486.45 740.677,94.5097 702.376,94.5097 \"/>\n",
       "<path clip-path=\"url(#clip032)\" d=\"M740.677 118.485 L740.677 1486.45 L778.978 1486.45 L778.978 118.485 L740.677 118.485 L740.677 118.485  Z\" fill=\"#8be9fd\" fill-rule=\"evenodd\" fill-opacity=\"1\"/>\n",
       "<polyline clip-path=\"url(#clip032)\" style=\"stroke:#f8f8f2; stroke-linecap:round; stroke-linejoin:round; stroke-width:4; stroke-opacity:1; fill:none\" points=\"740.677,118.485 740.677,1486.45 778.978,1486.45 778.978,118.485 740.677,118.485 \"/>\n",
       "<path clip-path=\"url(#clip032)\" d=\"M778.978 91.0847 L778.978 1486.45 L817.278 1486.45 L817.278 91.0847 L778.978 91.0847 L778.978 91.0847  Z\" fill=\"#8be9fd\" fill-rule=\"evenodd\" fill-opacity=\"1\"/>\n",
       "<polyline clip-path=\"url(#clip032)\" style=\"stroke:#f8f8f2; stroke-linecap:round; stroke-linejoin:round; stroke-width:4; stroke-opacity:1; fill:none\" points=\"778.978,91.0847 778.978,1486.45 817.278,1486.45 817.278,91.0847 778.978,91.0847 \"/>\n",
       "<path clip-path=\"url(#clip032)\" d=\"M817.278 95.1947 L817.278 1486.45 L855.579 1486.45 L855.579 95.1947 L817.278 95.1947 L817.278 95.1947  Z\" fill=\"#8be9fd\" fill-rule=\"evenodd\" fill-opacity=\"1\"/>\n",
       "<polyline clip-path=\"url(#clip032)\" style=\"stroke:#f8f8f2; stroke-linecap:round; stroke-linejoin:round; stroke-width:4; stroke-opacity:1; fill:none\" points=\"817.278,95.1947 817.278,1486.45 855.579,1486.45 855.579,95.1947 817.278,95.1947 \"/>\n",
       "<path clip-path=\"url(#clip032)\" d=\"M855.579 89.0296 L855.579 1486.45 L893.88 1486.45 L893.88 89.0296 L855.579 89.0296 L855.579 89.0296  Z\" fill=\"#8be9fd\" fill-rule=\"evenodd\" fill-opacity=\"1\"/>\n",
       "<polyline clip-path=\"url(#clip032)\" style=\"stroke:#f8f8f2; stroke-linecap:round; stroke-linejoin:round; stroke-width:4; stroke-opacity:1; fill:none\" points=\"855.579,89.0296 855.579,1486.45 893.88,1486.45 893.88,89.0296 855.579,89.0296 \"/>\n",
       "<path clip-path=\"url(#clip032)\" d=\"M893.88 80.1245 L893.88 1486.45 L932.181 1486.45 L932.181 80.1245 L893.88 80.1245 L893.88 80.1245  Z\" fill=\"#8be9fd\" fill-rule=\"evenodd\" fill-opacity=\"1\"/>\n",
       "<polyline clip-path=\"url(#clip032)\" style=\"stroke:#f8f8f2; stroke-linecap:round; stroke-linejoin:round; stroke-width:4; stroke-opacity:1; fill:none\" points=\"893.88,80.1245 893.88,1486.45 932.181,1486.45 932.181,80.1245 893.88,80.1245 \"/>\n",
       "<path clip-path=\"url(#clip032)\" d=\"M932.181 79.4395 L932.181 1486.45 L970.482 1486.45 L970.482 79.4395 L932.181 79.4395 L932.181 79.4395  Z\" fill=\"#8be9fd\" fill-rule=\"evenodd\" fill-opacity=\"1\"/>\n",
       "<polyline clip-path=\"url(#clip032)\" style=\"stroke:#f8f8f2; stroke-linecap:round; stroke-linejoin:round; stroke-width:4; stroke-opacity:1; fill:none\" points=\"932.181,79.4395 932.181,1486.45 970.482,1486.45 970.482,79.4395 932.181,79.4395 \"/>\n",
       "<path clip-path=\"url(#clip032)\" d=\"M970.482 91.7697 L970.482 1486.45 L1008.78 1486.45 L1008.78 91.7697 L970.482 91.7697 L970.482 91.7697  Z\" fill=\"#8be9fd\" fill-rule=\"evenodd\" fill-opacity=\"1\"/>\n",
       "<polyline clip-path=\"url(#clip032)\" style=\"stroke:#f8f8f2; stroke-linecap:round; stroke-linejoin:round; stroke-width:4; stroke-opacity:1; fill:none\" points=\"970.482,91.7697 970.482,1486.45 1008.78,1486.45 1008.78,91.7697 970.482,91.7697 \"/>\n",
       "<path clip-path=\"url(#clip032)\" d=\"M1008.78 173.286 L1008.78 1486.45 L1047.08 1486.45 L1047.08 173.286 L1008.78 173.286 L1008.78 173.286  Z\" fill=\"#8be9fd\" fill-rule=\"evenodd\" fill-opacity=\"1\"/>\n",
       "<polyline clip-path=\"url(#clip032)\" style=\"stroke:#f8f8f2; stroke-linecap:round; stroke-linejoin:round; stroke-width:4; stroke-opacity:1; fill:none\" points=\"1008.78,173.286 1008.78,1486.45 1047.08,1486.45 1047.08,173.286 1008.78,173.286 \"/>\n",
       "<path clip-path=\"url(#clip032)\" d=\"M1047.08 125.335 L1047.08 1486.45 L1085.38 1486.45 L1085.38 125.335 L1047.08 125.335 L1047.08 125.335  Z\" fill=\"#8be9fd\" fill-rule=\"evenodd\" fill-opacity=\"1\"/>\n",
       "<polyline clip-path=\"url(#clip032)\" style=\"stroke:#f8f8f2; stroke-linecap:round; stroke-linejoin:round; stroke-width:4; stroke-opacity:1; fill:none\" points=\"1047.08,125.335 1047.08,1486.45 1085.38,1486.45 1085.38,125.335 1047.08,125.335 \"/>\n",
       "<path clip-path=\"url(#clip032)\" d=\"M1085.38 130.815 L1085.38 1486.45 L1123.68 1486.45 L1123.68 130.815 L1085.38 130.815 L1085.38 130.815  Z\" fill=\"#8be9fd\" fill-rule=\"evenodd\" fill-opacity=\"1\"/>\n",
       "<polyline clip-path=\"url(#clip032)\" style=\"stroke:#f8f8f2; stroke-linecap:round; stroke-linejoin:round; stroke-width:4; stroke-opacity:1; fill:none\" points=\"1085.38,130.815 1085.38,1486.45 1123.68,1486.45 1123.68,130.815 1085.38,130.815 \"/>\n",
       "<path clip-path=\"url(#clip032)\" d=\"M1123.68 83.5496 L1123.68 1486.45 L1161.99 1486.45 L1161.99 83.5496 L1123.68 83.5496 L1123.68 83.5496  Z\" fill=\"#8be9fd\" fill-rule=\"evenodd\" fill-opacity=\"1\"/>\n",
       "<polyline clip-path=\"url(#clip032)\" style=\"stroke:#f8f8f2; stroke-linecap:round; stroke-linejoin:round; stroke-width:4; stroke-opacity:1; fill:none\" points=\"1123.68,83.5496 1123.68,1486.45 1161.99,1486.45 1161.99,83.5496 1123.68,83.5496 \"/>\n",
       "<path clip-path=\"url(#clip032)\" d=\"M1161.99 123.28 L1161.99 1486.45 L1200.29 1486.45 L1200.29 123.28 L1161.99 123.28 L1161.99 123.28  Z\" fill=\"#8be9fd\" fill-rule=\"evenodd\" fill-opacity=\"1\"/>\n",
       "<polyline clip-path=\"url(#clip032)\" style=\"stroke:#f8f8f2; stroke-linecap:round; stroke-linejoin:round; stroke-width:4; stroke-opacity:1; fill:none\" points=\"1161.99,123.28 1161.99,1486.45 1200.29,1486.45 1200.29,123.28 1161.99,123.28 \"/>\n",
       "<path clip-path=\"url(#clip032)\" d=\"M1200.29 117.8 L1200.29 1486.45 L1238.59 1486.45 L1238.59 117.8 L1200.29 117.8 L1200.29 117.8  Z\" fill=\"#8be9fd\" fill-rule=\"evenodd\" fill-opacity=\"1\"/>\n",
       "<polyline clip-path=\"url(#clip032)\" style=\"stroke:#f8f8f2; stroke-linecap:round; stroke-linejoin:round; stroke-width:4; stroke-opacity:1; fill:none\" points=\"1200.29,117.8 1200.29,1486.45 1238.59,1486.45 1238.59,117.8 1200.29,117.8 \"/>\n",
       "<path clip-path=\"url(#clip032)\" d=\"M1238.59 88.3446 L1238.59 1486.45 L1276.89 1486.45 L1276.89 88.3446 L1238.59 88.3446 L1238.59 88.3446  Z\" fill=\"#8be9fd\" fill-rule=\"evenodd\" fill-opacity=\"1\"/>\n",
       "<polyline clip-path=\"url(#clip032)\" style=\"stroke:#f8f8f2; stroke-linecap:round; stroke-linejoin:round; stroke-width:4; stroke-opacity:1; fill:none\" points=\"1238.59,88.3446 1238.59,1486.45 1276.89,1486.45 1276.89,88.3446 1238.59,88.3446 \"/>\n",
       "<path clip-path=\"url(#clip032)\" d=\"M1276.89 110.95 L1276.89 1486.45 L1315.19 1486.45 L1315.19 110.95 L1276.89 110.95 L1276.89 110.95  Z\" fill=\"#8be9fd\" fill-rule=\"evenodd\" fill-opacity=\"1\"/>\n",
       "<polyline clip-path=\"url(#clip032)\" style=\"stroke:#f8f8f2; stroke-linecap:round; stroke-linejoin:round; stroke-width:4; stroke-opacity:1; fill:none\" points=\"1276.89,110.95 1276.89,1486.45 1315.19,1486.45 1315.19,110.95 1276.89,110.95 \"/>\n",
       "<path clip-path=\"url(#clip032)\" d=\"M1315.19 126.02 L1315.19 1486.45 L1353.49 1486.45 L1353.49 126.02 L1315.19 126.02 L1315.19 126.02  Z\" fill=\"#8be9fd\" fill-rule=\"evenodd\" fill-opacity=\"1\"/>\n",
       "<polyline clip-path=\"url(#clip032)\" style=\"stroke:#f8f8f2; stroke-linecap:round; stroke-linejoin:round; stroke-width:4; stroke-opacity:1; fill:none\" points=\"1315.19,126.02 1315.19,1486.45 1353.49,1486.45 1353.49,126.02 1315.19,126.02 \"/>\n",
       "<path clip-path=\"url(#clip032)\" d=\"M1353.49 154.79 L1353.49 1486.45 L1391.79 1486.45 L1391.79 154.79 L1353.49 154.79 L1353.49 154.79  Z\" fill=\"#8be9fd\" fill-rule=\"evenodd\" fill-opacity=\"1\"/>\n",
       "<polyline clip-path=\"url(#clip032)\" style=\"stroke:#f8f8f2; stroke-linecap:round; stroke-linejoin:round; stroke-width:4; stroke-opacity:1; fill:none\" points=\"1353.49,154.79 1353.49,1486.45 1391.79,1486.45 1391.79,154.79 1353.49,154.79 \"/>\n",
       "<path clip-path=\"url(#clip032)\" d=\"M1391.79 166.436 L1391.79 1486.45 L1430.09 1486.45 L1430.09 166.436 L1391.79 166.436 L1391.79 166.436  Z\" fill=\"#8be9fd\" fill-rule=\"evenodd\" fill-opacity=\"1\"/>\n",
       "<polyline clip-path=\"url(#clip032)\" style=\"stroke:#f8f8f2; stroke-linecap:round; stroke-linejoin:round; stroke-width:4; stroke-opacity:1; fill:none\" points=\"1391.79,166.436 1391.79,1486.45 1430.09,1486.45 1430.09,166.436 1391.79,166.436 \"/>\n",
       "<path clip-path=\"url(#clip032)\" d=\"M1430.09 139.035 L1430.09 1486.45 L1468.39 1486.45 L1468.39 139.035 L1430.09 139.035 L1430.09 139.035  Z\" fill=\"#8be9fd\" fill-rule=\"evenodd\" fill-opacity=\"1\"/>\n",
       "<polyline clip-path=\"url(#clip032)\" style=\"stroke:#f8f8f2; stroke-linecap:round; stroke-linejoin:round; stroke-width:4; stroke-opacity:1; fill:none\" points=\"1430.09,139.035 1430.09,1486.45 1468.39,1486.45 1468.39,139.035 1430.09,139.035 \"/>\n",
       "<path clip-path=\"url(#clip032)\" d=\"M1468.39 116.43 L1468.39 1486.45 L1506.69 1486.45 L1506.69 116.43 L1468.39 116.43 L1468.39 116.43  Z\" fill=\"#8be9fd\" fill-rule=\"evenodd\" fill-opacity=\"1\"/>\n",
       "<polyline clip-path=\"url(#clip032)\" style=\"stroke:#f8f8f2; stroke-linecap:round; stroke-linejoin:round; stroke-width:4; stroke-opacity:1; fill:none\" points=\"1468.39,116.43 1468.39,1486.45 1506.69,1486.45 1506.69,116.43 1468.39,116.43 \"/>\n",
       "<path clip-path=\"url(#clip032)\" d=\"M1506.69 149.31 L1506.69 1486.45 L1544.99 1486.45 L1544.99 149.31 L1506.69 149.31 L1506.69 149.31  Z\" fill=\"#8be9fd\" fill-rule=\"evenodd\" fill-opacity=\"1\"/>\n",
       "<polyline clip-path=\"url(#clip032)\" style=\"stroke:#f8f8f2; stroke-linecap:round; stroke-linejoin:round; stroke-width:4; stroke-opacity:1; fill:none\" points=\"1506.69,149.31 1506.69,1486.45 1544.99,1486.45 1544.99,149.31 1506.69,149.31 \"/>\n",
       "<path clip-path=\"url(#clip032)\" d=\"M1544.99 47.2441 L1544.99 1486.45 L1583.29 1486.45 L1583.29 47.2441 L1544.99 47.2441 L1544.99 47.2441  Z\" fill=\"#8be9fd\" fill-rule=\"evenodd\" fill-opacity=\"1\"/>\n",
       "<polyline clip-path=\"url(#clip032)\" style=\"stroke:#f8f8f2; stroke-linecap:round; stroke-linejoin:round; stroke-width:4; stroke-opacity:1; fill:none\" points=\"1544.99,47.2441 1544.99,1486.45 1583.29,1486.45 1583.29,47.2441 1544.99,47.2441 \"/>\n",
       "<path clip-path=\"url(#clip032)\" d=\"M1583.29 131.5 L1583.29 1486.45 L1621.59 1486.45 L1621.59 131.5 L1583.29 131.5 L1583.29 131.5  Z\" fill=\"#8be9fd\" fill-rule=\"evenodd\" fill-opacity=\"1\"/>\n",
       "<polyline clip-path=\"url(#clip032)\" style=\"stroke:#f8f8f2; stroke-linecap:round; stroke-linejoin:round; stroke-width:4; stroke-opacity:1; fill:none\" points=\"1583.29,131.5 1583.29,1486.45 1621.59,1486.45 1621.59,131.5 1583.29,131.5 \"/>\n",
       "<path clip-path=\"url(#clip032)\" d=\"M1621.59 141.09 L1621.59 1486.45 L1659.9 1486.45 L1659.9 141.09 L1621.59 141.09 L1621.59 141.09  Z\" fill=\"#8be9fd\" fill-rule=\"evenodd\" fill-opacity=\"1\"/>\n",
       "<polyline clip-path=\"url(#clip032)\" style=\"stroke:#f8f8f2; stroke-linecap:round; stroke-linejoin:round; stroke-width:4; stroke-opacity:1; fill:none\" points=\"1621.59,141.09 1621.59,1486.45 1659.9,1486.45 1659.9,141.09 1621.59,141.09 \"/>\n",
       "<path clip-path=\"url(#clip032)\" d=\"M1659.9 118.485 L1659.9 1486.45 L1698.2 1486.45 L1698.2 118.485 L1659.9 118.485 L1659.9 118.485  Z\" fill=\"#8be9fd\" fill-rule=\"evenodd\" fill-opacity=\"1\"/>\n",
       "<polyline clip-path=\"url(#clip032)\" style=\"stroke:#f8f8f2; stroke-linecap:round; stroke-linejoin:round; stroke-width:4; stroke-opacity:1; fill:none\" points=\"1659.9,118.485 1659.9,1486.45 1698.2,1486.45 1698.2,118.485 1659.9,118.485 \"/>\n",
       "<path clip-path=\"url(#clip032)\" d=\"M1698.2 97.9348 L1698.2 1486.45 L1736.5 1486.45 L1736.5 97.9348 L1698.2 97.9348 L1698.2 97.9348  Z\" fill=\"#8be9fd\" fill-rule=\"evenodd\" fill-opacity=\"1\"/>\n",
       "<polyline clip-path=\"url(#clip032)\" style=\"stroke:#f8f8f2; stroke-linecap:round; stroke-linejoin:round; stroke-width:4; stroke-opacity:1; fill:none\" points=\"1698.2,97.9348 1698.2,1486.45 1736.5,1486.45 1736.5,97.9348 1698.2,97.9348 \"/>\n",
       "<path clip-path=\"url(#clip032)\" d=\"M1736.5 115.745 L1736.5 1486.45 L1774.8 1486.45 L1774.8 115.745 L1736.5 115.745 L1736.5 115.745  Z\" fill=\"#8be9fd\" fill-rule=\"evenodd\" fill-opacity=\"1\"/>\n",
       "<polyline clip-path=\"url(#clip032)\" style=\"stroke:#f8f8f2; stroke-linecap:round; stroke-linejoin:round; stroke-width:4; stroke-opacity:1; fill:none\" points=\"1736.5,115.745 1736.5,1486.45 1774.8,1486.45 1774.8,115.745 1736.5,115.745 \"/>\n",
       "<path clip-path=\"url(#clip032)\" d=\"M1774.8 126.02 L1774.8 1486.45 L1813.1 1486.45 L1813.1 126.02 L1774.8 126.02 L1774.8 126.02  Z\" fill=\"#8be9fd\" fill-rule=\"evenodd\" fill-opacity=\"1\"/>\n",
       "<polyline clip-path=\"url(#clip032)\" style=\"stroke:#f8f8f2; stroke-linecap:round; stroke-linejoin:round; stroke-width:4; stroke-opacity:1; fill:none\" points=\"1774.8,126.02 1774.8,1486.45 1813.1,1486.45 1813.1,126.02 1774.8,126.02 \"/>\n",
       "<path clip-path=\"url(#clip032)\" d=\"M1813.1 109.58 L1813.1 1486.45 L1851.4 1486.45 L1851.4 109.58 L1813.1 109.58 L1813.1 109.58  Z\" fill=\"#8be9fd\" fill-rule=\"evenodd\" fill-opacity=\"1\"/>\n",
       "<polyline clip-path=\"url(#clip032)\" style=\"stroke:#f8f8f2; stroke-linecap:round; stroke-linejoin:round; stroke-width:4; stroke-opacity:1; fill:none\" points=\"1813.1,109.58 1813.1,1486.45 1851.4,1486.45 1851.4,109.58 1813.1,109.58 \"/>\n",
       "<path clip-path=\"url(#clip032)\" d=\"M1851.4 147.94 L1851.4 1486.45 L1889.7 1486.45 L1889.7 147.94 L1851.4 147.94 L1851.4 147.94  Z\" fill=\"#8be9fd\" fill-rule=\"evenodd\" fill-opacity=\"1\"/>\n",
       "<polyline clip-path=\"url(#clip032)\" style=\"stroke:#f8f8f2; stroke-linecap:round; stroke-linejoin:round; stroke-width:4; stroke-opacity:1; fill:none\" points=\"1851.4,147.94 1851.4,1486.45 1889.7,1486.45 1889.7,147.94 1851.4,147.94 \"/>\n",
       "<path clip-path=\"url(#clip032)\" d=\"M1889.7 69.1644 L1889.7 1486.45 L1928 1486.45 L1928 69.1644 L1889.7 69.1644 L1889.7 69.1644  Z\" fill=\"#8be9fd\" fill-rule=\"evenodd\" fill-opacity=\"1\"/>\n",
       "<polyline clip-path=\"url(#clip032)\" style=\"stroke:#f8f8f2; stroke-linecap:round; stroke-linejoin:round; stroke-width:4; stroke-opacity:1; fill:none\" points=\"1889.7,69.1644 1889.7,1486.45 1928,1486.45 1928,69.1644 1889.7,69.1644 \"/>\n",
       "<path clip-path=\"url(#clip032)\" d=\"M1928 85.6046 L1928 1486.45 L1966.3 1486.45 L1966.3 85.6046 L1928 85.6046 L1928 85.6046  Z\" fill=\"#8be9fd\" fill-rule=\"evenodd\" fill-opacity=\"1\"/>\n",
       "<polyline clip-path=\"url(#clip032)\" style=\"stroke:#f8f8f2; stroke-linecap:round; stroke-linejoin:round; stroke-width:4; stroke-opacity:1; fill:none\" points=\"1928,85.6046 1928,1486.45 1966.3,1486.45 1966.3,85.6046 1928,85.6046 \"/>\n",
       "<path clip-path=\"url(#clip032)\" d=\"M1966.3 78.7545 L1966.3 1486.45 L2004.6 1486.45 L2004.6 78.7545 L1966.3 78.7545 L1966.3 78.7545  Z\" fill=\"#8be9fd\" fill-rule=\"evenodd\" fill-opacity=\"1\"/>\n",
       "<polyline clip-path=\"url(#clip032)\" style=\"stroke:#f8f8f2; stroke-linecap:round; stroke-linejoin:round; stroke-width:4; stroke-opacity:1; fill:none\" points=\"1966.3,78.7545 1966.3,1486.45 2004.6,1486.45 2004.6,78.7545 1966.3,78.7545 \"/>\n",
       "<path clip-path=\"url(#clip032)\" d=\"M2004.6 87.6596 L2004.6 1486.45 L2042.9 1486.45 L2042.9 87.6596 L2004.6 87.6596 L2004.6 87.6596  Z\" fill=\"#8be9fd\" fill-rule=\"evenodd\" fill-opacity=\"1\"/>\n",
       "<polyline clip-path=\"url(#clip032)\" style=\"stroke:#f8f8f2; stroke-linecap:round; stroke-linejoin:round; stroke-width:4; stroke-opacity:1; fill:none\" points=\"2004.6,87.6596 2004.6,1486.45 2042.9,1486.45 2042.9,87.6596 2004.6,87.6596 \"/>\n",
       "<path clip-path=\"url(#clip032)\" d=\"M2042.9 95.1947 L2042.9 1486.45 L2081.2 1486.45 L2081.2 95.1947 L2042.9 95.1947 L2042.9 95.1947  Z\" fill=\"#8be9fd\" fill-rule=\"evenodd\" fill-opacity=\"1\"/>\n",
       "<polyline clip-path=\"url(#clip032)\" style=\"stroke:#f8f8f2; stroke-linecap:round; stroke-linejoin:round; stroke-width:4; stroke-opacity:1; fill:none\" points=\"2042.9,95.1947 2042.9,1486.45 2081.2,1486.45 2081.2,95.1947 2042.9,95.1947 \"/>\n",
       "<path clip-path=\"url(#clip032)\" d=\"M2081.2 146.57 L2081.2 1486.45 L2119.5 1486.45 L2119.5 146.57 L2081.2 146.57 L2081.2 146.57  Z\" fill=\"#8be9fd\" fill-rule=\"evenodd\" fill-opacity=\"1\"/>\n",
       "<polyline clip-path=\"url(#clip032)\" style=\"stroke:#f8f8f2; stroke-linecap:round; stroke-linejoin:round; stroke-width:4; stroke-opacity:1; fill:none\" points=\"2081.2,146.57 2081.2,1486.45 2119.5,1486.45 2119.5,146.57 2081.2,146.57 \"/>\n",
       "<path clip-path=\"url(#clip032)\" d=\"M2119.5 141.775 L2119.5 1486.45 L2157.81 1486.45 L2157.81 141.775 L2119.5 141.775 L2119.5 141.775  Z\" fill=\"#8be9fd\" fill-rule=\"evenodd\" fill-opacity=\"1\"/>\n",
       "<polyline clip-path=\"url(#clip032)\" style=\"stroke:#f8f8f2; stroke-linecap:round; stroke-linejoin:round; stroke-width:4; stroke-opacity:1; fill:none\" points=\"2119.5,141.775 2119.5,1486.45 2157.81,1486.45 2157.81,141.775 2119.5,141.775 \"/>\n",
       "<path clip-path=\"url(#clip032)\" d=\"M2157.81 173.286 L2157.81 1486.45 L2196.11 1486.45 L2196.11 173.286 L2157.81 173.286 L2157.81 173.286  Z\" fill=\"#8be9fd\" fill-rule=\"evenodd\" fill-opacity=\"1\"/>\n",
       "<polyline clip-path=\"url(#clip032)\" style=\"stroke:#f8f8f2; stroke-linecap:round; stroke-linejoin:round; stroke-width:4; stroke-opacity:1; fill:none\" points=\"2157.81,173.286 2157.81,1486.45 2196.11,1486.45 2196.11,173.286 2157.81,173.286 \"/>\n",
       "<path clip-path=\"url(#clip032)\" d=\"M2196.11 90.3997 L2196.11 1486.45 L2234.41 1486.45 L2234.41 90.3997 L2196.11 90.3997 L2196.11 90.3997  Z\" fill=\"#8be9fd\" fill-rule=\"evenodd\" fill-opacity=\"1\"/>\n",
       "<polyline clip-path=\"url(#clip032)\" style=\"stroke:#f8f8f2; stroke-linecap:round; stroke-linejoin:round; stroke-width:4; stroke-opacity:1; fill:none\" points=\"2196.11,90.3997 2196.11,1486.45 2234.41,1486.45 2234.41,90.3997 2196.11,90.3997 \"/>\n",
       "<circle clip-path=\"url(#clip032)\" style=\"fill:#8be9fd; stroke:none; fill-opacity:0\" cx=\"338.519\" cy=\"158.901\" r=\"2\"/>\n",
       "<circle clip-path=\"url(#clip032)\" style=\"fill:#8be9fd; stroke:none; fill-opacity:0\" cx=\"376.82\" cy=\"153.42\" r=\"2\"/>\n",
       "<circle clip-path=\"url(#clip032)\" style=\"fill:#8be9fd; stroke:none; fill-opacity:0\" cx=\"415.121\" cy=\"128.075\" r=\"2\"/>\n",
       "<circle clip-path=\"url(#clip032)\" style=\"fill:#8be9fd; stroke:none; fill-opacity:0\" cx=\"453.421\" cy=\"150.68\" r=\"2\"/>\n",
       "<circle clip-path=\"url(#clip032)\" style=\"fill:#8be9fd; stroke:none; fill-opacity:0\" cx=\"491.722\" cy=\"139.035\" r=\"2\"/>\n",
       "<circle clip-path=\"url(#clip032)\" style=\"fill:#8be9fd; stroke:none; fill-opacity:0\" cx=\"530.023\" cy=\"69.1644\" r=\"2\"/>\n",
       "<circle clip-path=\"url(#clip032)\" style=\"fill:#8be9fd; stroke:none; fill-opacity:0\" cx=\"568.324\" cy=\"90.3997\" r=\"2\"/>\n",
       "<circle clip-path=\"url(#clip032)\" style=\"fill:#8be9fd; stroke:none; fill-opacity:0\" cx=\"606.624\" cy=\"162.326\" r=\"2\"/>\n",
       "<circle clip-path=\"url(#clip032)\" style=\"fill:#8be9fd; stroke:none; fill-opacity:0\" cx=\"644.925\" cy=\"97.9348\" r=\"2\"/>\n",
       "<circle clip-path=\"url(#clip032)\" style=\"fill:#8be9fd; stroke:none; fill-opacity:0\" cx=\"683.226\" cy=\"122.595\" r=\"2\"/>\n",
       "<circle clip-path=\"url(#clip032)\" style=\"fill:#8be9fd; stroke:none; fill-opacity:0\" cx=\"721.527\" cy=\"94.5097\" r=\"2\"/>\n",
       "<circle clip-path=\"url(#clip032)\" style=\"fill:#8be9fd; stroke:none; fill-opacity:0\" cx=\"759.827\" cy=\"118.485\" r=\"2\"/>\n",
       "<circle clip-path=\"url(#clip032)\" style=\"fill:#8be9fd; stroke:none; fill-opacity:0\" cx=\"798.128\" cy=\"91.0847\" r=\"2\"/>\n",
       "<circle clip-path=\"url(#clip032)\" style=\"fill:#8be9fd; stroke:none; fill-opacity:0\" cx=\"836.429\" cy=\"95.1947\" r=\"2\"/>\n",
       "<circle clip-path=\"url(#clip032)\" style=\"fill:#8be9fd; stroke:none; fill-opacity:0\" cx=\"874.73\" cy=\"89.0296\" r=\"2\"/>\n",
       "<circle clip-path=\"url(#clip032)\" style=\"fill:#8be9fd; stroke:none; fill-opacity:0\" cx=\"913.03\" cy=\"80.1245\" r=\"2\"/>\n",
       "<circle clip-path=\"url(#clip032)\" style=\"fill:#8be9fd; stroke:none; fill-opacity:0\" cx=\"951.331\" cy=\"79.4395\" r=\"2\"/>\n",
       "<circle clip-path=\"url(#clip032)\" style=\"fill:#8be9fd; stroke:none; fill-opacity:0\" cx=\"989.632\" cy=\"91.7697\" r=\"2\"/>\n",
       "<circle clip-path=\"url(#clip032)\" style=\"fill:#8be9fd; stroke:none; fill-opacity:0\" cx=\"1027.93\" cy=\"173.286\" r=\"2\"/>\n",
       "<circle clip-path=\"url(#clip032)\" style=\"fill:#8be9fd; stroke:none; fill-opacity:0\" cx=\"1066.23\" cy=\"125.335\" r=\"2\"/>\n",
       "<circle clip-path=\"url(#clip032)\" style=\"fill:#8be9fd; stroke:none; fill-opacity:0\" cx=\"1104.53\" cy=\"130.815\" r=\"2\"/>\n",
       "<circle clip-path=\"url(#clip032)\" style=\"fill:#8be9fd; stroke:none; fill-opacity:0\" cx=\"1142.83\" cy=\"83.5496\" r=\"2\"/>\n",
       "<circle clip-path=\"url(#clip032)\" style=\"fill:#8be9fd; stroke:none; fill-opacity:0\" cx=\"1181.14\" cy=\"123.28\" r=\"2\"/>\n",
       "<circle clip-path=\"url(#clip032)\" style=\"fill:#8be9fd; stroke:none; fill-opacity:0\" cx=\"1219.44\" cy=\"117.8\" r=\"2\"/>\n",
       "<circle clip-path=\"url(#clip032)\" style=\"fill:#8be9fd; stroke:none; fill-opacity:0\" cx=\"1257.74\" cy=\"88.3446\" r=\"2\"/>\n",
       "<circle clip-path=\"url(#clip032)\" style=\"fill:#8be9fd; stroke:none; fill-opacity:0\" cx=\"1296.04\" cy=\"110.95\" r=\"2\"/>\n",
       "<circle clip-path=\"url(#clip032)\" style=\"fill:#8be9fd; stroke:none; fill-opacity:0\" cx=\"1334.34\" cy=\"126.02\" r=\"2\"/>\n",
       "<circle clip-path=\"url(#clip032)\" style=\"fill:#8be9fd; stroke:none; fill-opacity:0\" cx=\"1372.64\" cy=\"154.79\" r=\"2\"/>\n",
       "<circle clip-path=\"url(#clip032)\" style=\"fill:#8be9fd; stroke:none; fill-opacity:0\" cx=\"1410.94\" cy=\"166.436\" r=\"2\"/>\n",
       "<circle clip-path=\"url(#clip032)\" style=\"fill:#8be9fd; stroke:none; fill-opacity:0\" cx=\"1449.24\" cy=\"139.035\" r=\"2\"/>\n",
       "<circle clip-path=\"url(#clip032)\" style=\"fill:#8be9fd; stroke:none; fill-opacity:0\" cx=\"1487.54\" cy=\"116.43\" r=\"2\"/>\n",
       "<circle clip-path=\"url(#clip032)\" style=\"fill:#8be9fd; stroke:none; fill-opacity:0\" cx=\"1525.84\" cy=\"149.31\" r=\"2\"/>\n",
       "<circle clip-path=\"url(#clip032)\" style=\"fill:#8be9fd; stroke:none; fill-opacity:0\" cx=\"1564.14\" cy=\"47.2441\" r=\"2\"/>\n",
       "<circle clip-path=\"url(#clip032)\" style=\"fill:#8be9fd; stroke:none; fill-opacity:0\" cx=\"1602.44\" cy=\"131.5\" r=\"2\"/>\n",
       "<circle clip-path=\"url(#clip032)\" style=\"fill:#8be9fd; stroke:none; fill-opacity:0\" cx=\"1640.74\" cy=\"141.09\" r=\"2\"/>\n",
       "<circle clip-path=\"url(#clip032)\" style=\"fill:#8be9fd; stroke:none; fill-opacity:0\" cx=\"1679.05\" cy=\"118.485\" r=\"2\"/>\n",
       "<circle clip-path=\"url(#clip032)\" style=\"fill:#8be9fd; stroke:none; fill-opacity:0\" cx=\"1717.35\" cy=\"97.9348\" r=\"2\"/>\n",
       "<circle clip-path=\"url(#clip032)\" style=\"fill:#8be9fd; stroke:none; fill-opacity:0\" cx=\"1755.65\" cy=\"115.745\" r=\"2\"/>\n",
       "<circle clip-path=\"url(#clip032)\" style=\"fill:#8be9fd; stroke:none; fill-opacity:0\" cx=\"1793.95\" cy=\"126.02\" r=\"2\"/>\n",
       "<circle clip-path=\"url(#clip032)\" style=\"fill:#8be9fd; stroke:none; fill-opacity:0\" cx=\"1832.25\" cy=\"109.58\" r=\"2\"/>\n",
       "<circle clip-path=\"url(#clip032)\" style=\"fill:#8be9fd; stroke:none; fill-opacity:0\" cx=\"1870.55\" cy=\"147.94\" r=\"2\"/>\n",
       "<circle clip-path=\"url(#clip032)\" style=\"fill:#8be9fd; stroke:none; fill-opacity:0\" cx=\"1908.85\" cy=\"69.1644\" r=\"2\"/>\n",
       "<circle clip-path=\"url(#clip032)\" style=\"fill:#8be9fd; stroke:none; fill-opacity:0\" cx=\"1947.15\" cy=\"85.6046\" r=\"2\"/>\n",
       "<circle clip-path=\"url(#clip032)\" style=\"fill:#8be9fd; stroke:none; fill-opacity:0\" cx=\"1985.45\" cy=\"78.7545\" r=\"2\"/>\n",
       "<circle clip-path=\"url(#clip032)\" style=\"fill:#8be9fd; stroke:none; fill-opacity:0\" cx=\"2023.75\" cy=\"87.6596\" r=\"2\"/>\n",
       "<circle clip-path=\"url(#clip032)\" style=\"fill:#8be9fd; stroke:none; fill-opacity:0\" cx=\"2062.05\" cy=\"95.1947\" r=\"2\"/>\n",
       "<circle clip-path=\"url(#clip032)\" style=\"fill:#8be9fd; stroke:none; fill-opacity:0\" cx=\"2100.35\" cy=\"146.57\" r=\"2\"/>\n",
       "<circle clip-path=\"url(#clip032)\" style=\"fill:#8be9fd; stroke:none; fill-opacity:0\" cx=\"2138.65\" cy=\"141.775\" r=\"2\"/>\n",
       "<circle clip-path=\"url(#clip032)\" style=\"fill:#8be9fd; stroke:none; fill-opacity:0\" cx=\"2176.96\" cy=\"173.286\" r=\"2\"/>\n",
       "<circle clip-path=\"url(#clip032)\" style=\"fill:#8be9fd; stroke:none; fill-opacity:0\" cx=\"2215.26\" cy=\"90.3997\" r=\"2\"/>\n",
       "</svg>\n"
      ],
      "text/html": [
       "<?xml version=\"1.0\" encoding=\"utf-8\"?>\n",
       "<svg xmlns=\"http://www.w3.org/2000/svg\" xmlns:xlink=\"http://www.w3.org/1999/xlink\" width=\"600\" height=\"400\" viewBox=\"0 0 2400 1600\">\n",
       "<defs>\n",
       "  <clipPath id=\"clip080\">\n",
       "    <rect x=\"0\" y=\"0\" width=\"2400\" height=\"1600\"/>\n",
       "  </clipPath>\n",
       "</defs>\n",
       "<path clip-path=\"url(#clip080)\" d=\"M0 1600 L2400 1600 L2400 0 L0 0  Z\" fill=\"#282a36\" fill-rule=\"evenodd\" fill-opacity=\"1\"/>\n",
       "<defs>\n",
       "  <clipPath id=\"clip081\">\n",
       "    <rect x=\"480\" y=\"0\" width=\"1681\" height=\"1600\"/>\n",
       "  </clipPath>\n",
       "</defs>\n",
       "<path clip-path=\"url(#clip080)\" d=\"M201.019 1486.45 L2352.76 1486.45 L2352.76 47.2441 L201.019 47.2441  Z\" fill=\"#30343b\" fill-rule=\"evenodd\" fill-opacity=\"1\"/>\n",
       "<defs>\n",
       "  <clipPath id=\"clip082\">\n",
       "    <rect x=\"201\" y=\"47\" width=\"2153\" height=\"1440\"/>\n",
       "  </clipPath>\n",
       "</defs>\n",
       "<polyline clip-path=\"url(#clip082)\" style=\"stroke:#f8f8f2; stroke-linecap:round; stroke-linejoin:round; stroke-width:2; stroke-opacity:0.1; fill:none\" points=\"319.369,1486.45 319.369,47.2441 \"/>\n",
       "<polyline clip-path=\"url(#clip082)\" style=\"stroke:#f8f8f2; stroke-linecap:round; stroke-linejoin:round; stroke-width:2; stroke-opacity:0.1; fill:none\" points=\"798.128,1486.45 798.128,47.2441 \"/>\n",
       "<polyline clip-path=\"url(#clip082)\" style=\"stroke:#f8f8f2; stroke-linecap:round; stroke-linejoin:round; stroke-width:2; stroke-opacity:0.1; fill:none\" points=\"1276.89,1486.45 1276.89,47.2441 \"/>\n",
       "<polyline clip-path=\"url(#clip082)\" style=\"stroke:#f8f8f2; stroke-linecap:round; stroke-linejoin:round; stroke-width:2; stroke-opacity:0.1; fill:none\" points=\"1755.65,1486.45 1755.65,47.2441 \"/>\n",
       "<polyline clip-path=\"url(#clip082)\" style=\"stroke:#f8f8f2; stroke-linecap:round; stroke-linejoin:round; stroke-width:2; stroke-opacity:0.1; fill:none\" points=\"2234.41,1486.45 2234.41,47.2441 \"/>\n",
       "<polyline clip-path=\"url(#clip082)\" style=\"stroke:#f8f8f2; stroke-linecap:round; stroke-linejoin:round; stroke-width:2; stroke-opacity:0.1; fill:none\" points=\"201.019,1486.45 2352.76,1486.45 \"/>\n",
       "<polyline clip-path=\"url(#clip082)\" style=\"stroke:#f8f8f2; stroke-linecap:round; stroke-linejoin:round; stroke-width:2; stroke-opacity:0.1; fill:none\" points=\"201.019,1143.94 2352.76,1143.94 \"/>\n",
       "<polyline clip-path=\"url(#clip082)\" style=\"stroke:#f8f8f2; stroke-linecap:round; stroke-linejoin:round; stroke-width:2; stroke-opacity:0.1; fill:none\" points=\"201.019,801.439 2352.76,801.439 \"/>\n",
       "<polyline clip-path=\"url(#clip082)\" style=\"stroke:#f8f8f2; stroke-linecap:round; stroke-linejoin:round; stroke-width:2; stroke-opacity:0.1; fill:none\" points=\"201.019,458.934 2352.76,458.934 \"/>\n",
       "<polyline clip-path=\"url(#clip082)\" style=\"stroke:#f8f8f2; stroke-linecap:round; stroke-linejoin:round; stroke-width:2; stroke-opacity:0.1; fill:none\" points=\"201.019,116.43 2352.76,116.43 \"/>\n",
       "<polyline clip-path=\"url(#clip080)\" style=\"stroke:#f8f8f2; stroke-linecap:round; stroke-linejoin:round; stroke-width:4; stroke-opacity:1; fill:none\" points=\"201.019,1486.45 2352.76,1486.45 \"/>\n",
       "<polyline clip-path=\"url(#clip080)\" style=\"stroke:#f8f8f2; stroke-linecap:round; stroke-linejoin:round; stroke-width:4; stroke-opacity:1; fill:none\" points=\"319.369,1486.45 319.369,1467.55 \"/>\n",
       "<polyline clip-path=\"url(#clip080)\" style=\"stroke:#f8f8f2; stroke-linecap:round; stroke-linejoin:round; stroke-width:4; stroke-opacity:1; fill:none\" points=\"798.128,1486.45 798.128,1467.55 \"/>\n",
       "<polyline clip-path=\"url(#clip080)\" style=\"stroke:#f8f8f2; stroke-linecap:round; stroke-linejoin:round; stroke-width:4; stroke-opacity:1; fill:none\" points=\"1276.89,1486.45 1276.89,1467.55 \"/>\n",
       "<polyline clip-path=\"url(#clip080)\" style=\"stroke:#f8f8f2; stroke-linecap:round; stroke-linejoin:round; stroke-width:4; stroke-opacity:1; fill:none\" points=\"1755.65,1486.45 1755.65,1467.55 \"/>\n",
       "<polyline clip-path=\"url(#clip080)\" style=\"stroke:#f8f8f2; stroke-linecap:round; stroke-linejoin:round; stroke-width:4; stroke-opacity:1; fill:none\" points=\"2234.41,1486.45 2234.41,1467.55 \"/>\n",
       "<path clip-path=\"url(#clip080)\" d=\"M281.672 1517.37 Q278.061 1517.37 276.232 1520.93 Q274.427 1524.47 274.427 1531.6 Q274.427 1538.71 276.232 1542.27 Q278.061 1545.82 281.672 1545.82 Q285.306 1545.82 287.112 1542.27 Q288.941 1538.71 288.941 1531.6 Q288.941 1524.47 287.112 1520.93 Q285.306 1517.37 281.672 1517.37 M281.672 1513.66 Q287.482 1513.66 290.538 1518.27 Q293.616 1522.85 293.616 1531.6 Q293.616 1540.33 290.538 1544.94 Q287.482 1549.52 281.672 1549.52 Q275.862 1549.52 272.783 1544.94 Q269.728 1540.33 269.728 1531.6 Q269.728 1522.85 272.783 1518.27 Q275.862 1513.66 281.672 1513.66 Z\" fill=\"#f8f8f2\" fill-rule=\"nonzero\" fill-opacity=\"1\" /><path clip-path=\"url(#clip080)\" d=\"M301.834 1542.97 L306.718 1542.97 L306.718 1548.85 L301.834 1548.85 L301.834 1542.97 Z\" fill=\"#f8f8f2\" fill-rule=\"nonzero\" fill-opacity=\"1\" /><path clip-path=\"url(#clip080)\" d=\"M326.903 1517.37 Q323.292 1517.37 321.464 1520.93 Q319.658 1524.47 319.658 1531.6 Q319.658 1538.71 321.464 1542.27 Q323.292 1545.82 326.903 1545.82 Q330.538 1545.82 332.343 1542.27 Q334.172 1538.71 334.172 1531.6 Q334.172 1524.47 332.343 1520.93 Q330.538 1517.37 326.903 1517.37 M326.903 1513.66 Q332.713 1513.66 335.769 1518.27 Q338.848 1522.85 338.848 1531.6 Q338.848 1540.33 335.769 1544.94 Q332.713 1549.52 326.903 1549.52 Q321.093 1549.52 318.014 1544.94 Q314.959 1540.33 314.959 1531.6 Q314.959 1522.85 318.014 1518.27 Q321.093 1513.66 326.903 1513.66 Z\" fill=\"#f8f8f2\" fill-rule=\"nonzero\" fill-opacity=\"1\" /><path clip-path=\"url(#clip080)\" d=\"M357.065 1517.37 Q353.454 1517.37 351.625 1520.93 Q349.82 1524.47 349.82 1531.6 Q349.82 1538.71 351.625 1542.27 Q353.454 1545.82 357.065 1545.82 Q360.699 1545.82 362.505 1542.27 Q364.334 1538.71 364.334 1531.6 Q364.334 1524.47 362.505 1520.93 Q360.699 1517.37 357.065 1517.37 M357.065 1513.66 Q362.875 1513.66 365.931 1518.27 Q369.01 1522.85 369.01 1531.6 Q369.01 1540.33 365.931 1544.94 Q362.875 1549.52 357.065 1549.52 Q351.255 1549.52 348.176 1544.94 Q345.121 1540.33 345.121 1531.6 Q345.121 1522.85 348.176 1518.27 Q351.255 1513.66 357.065 1513.66 Z\" fill=\"#f8f8f2\" fill-rule=\"nonzero\" fill-opacity=\"1\" /><path clip-path=\"url(#clip080)\" d=\"M760.929 1517.37 Q757.318 1517.37 755.489 1520.93 Q753.684 1524.47 753.684 1531.6 Q753.684 1538.71 755.489 1542.27 Q757.318 1545.82 760.929 1545.82 Q764.563 1545.82 766.369 1542.27 Q768.198 1538.71 768.198 1531.6 Q768.198 1524.47 766.369 1520.93 Q764.563 1517.37 760.929 1517.37 M760.929 1513.66 Q766.739 1513.66 769.795 1518.27 Q772.874 1522.85 772.874 1531.6 Q772.874 1540.33 769.795 1544.94 Q766.739 1549.52 760.929 1549.52 Q755.119 1549.52 752.04 1544.94 Q748.985 1540.33 748.985 1531.6 Q748.985 1522.85 752.04 1518.27 Q755.119 1513.66 760.929 1513.66 Z\" fill=\"#f8f8f2\" fill-rule=\"nonzero\" fill-opacity=\"1\" /><path clip-path=\"url(#clip080)\" d=\"M781.091 1542.97 L785.975 1542.97 L785.975 1548.85 L781.091 1548.85 L781.091 1542.97 Z\" fill=\"#f8f8f2\" fill-rule=\"nonzero\" fill-opacity=\"1\" /><path clip-path=\"url(#clip080)\" d=\"M800.188 1544.91 L816.508 1544.91 L816.508 1548.85 L794.563 1548.85 L794.563 1544.91 Q797.225 1542.16 801.809 1537.53 Q806.415 1532.88 807.596 1531.53 Q809.841 1529.01 810.721 1527.27 Q811.623 1525.51 811.623 1523.82 Q811.623 1521.07 809.679 1519.33 Q807.758 1517.6 804.656 1517.6 Q802.457 1517.6 800.003 1518.36 Q797.573 1519.13 794.795 1520.68 L794.795 1515.95 Q797.619 1514.82 800.073 1514.24 Q802.526 1513.66 804.563 1513.66 Q809.934 1513.66 813.128 1516.35 Q816.322 1519.03 816.322 1523.52 Q816.322 1525.65 815.512 1527.57 Q814.725 1529.47 812.619 1532.07 Q812.04 1532.74 808.938 1535.95 Q805.836 1539.15 800.188 1544.91 Z\" fill=\"#f8f8f2\" fill-rule=\"nonzero\" fill-opacity=\"1\" /><path clip-path=\"url(#clip080)\" d=\"M826.369 1514.29 L844.725 1514.29 L844.725 1518.22 L830.651 1518.22 L830.651 1526.7 Q831.67 1526.35 832.688 1526.19 Q833.707 1526 834.725 1526 Q840.512 1526 843.892 1529.17 Q847.271 1532.34 847.271 1537.76 Q847.271 1543.34 843.799 1546.44 Q840.327 1549.52 834.008 1549.52 Q831.832 1549.52 829.563 1549.15 Q827.318 1548.78 824.91 1548.04 L824.91 1543.34 Q826.994 1544.47 829.216 1545.03 Q831.438 1545.58 833.915 1545.58 Q837.92 1545.58 840.258 1543.48 Q842.595 1541.37 842.595 1537.76 Q842.595 1534.15 840.258 1532.04 Q837.92 1529.94 833.915 1529.94 Q832.04 1529.94 830.165 1530.35 Q828.313 1530.77 826.369 1531.65 L826.369 1514.29 Z\" fill=\"#f8f8f2\" fill-rule=\"nonzero\" fill-opacity=\"1\" /><path clip-path=\"url(#clip080)\" d=\"M1239.19 1517.37 Q1235.58 1517.37 1233.75 1520.93 Q1231.95 1524.47 1231.95 1531.6 Q1231.95 1538.71 1233.75 1542.27 Q1235.58 1545.82 1239.19 1545.82 Q1242.83 1545.82 1244.63 1542.27 Q1246.46 1538.71 1246.46 1531.6 Q1246.46 1524.47 1244.63 1520.93 Q1242.83 1517.37 1239.19 1517.37 M1239.19 1513.66 Q1245 1513.66 1248.06 1518.27 Q1251.14 1522.85 1251.14 1531.6 Q1251.14 1540.33 1248.06 1544.94 Q1245 1549.52 1239.19 1549.52 Q1233.38 1549.52 1230.3 1544.94 Q1227.25 1540.33 1227.25 1531.6 Q1227.25 1522.85 1230.3 1518.27 Q1233.38 1513.66 1239.19 1513.66 Z\" fill=\"#f8f8f2\" fill-rule=\"nonzero\" fill-opacity=\"1\" /><path clip-path=\"url(#clip080)\" d=\"M1259.35 1542.97 L1264.24 1542.97 L1264.24 1548.85 L1259.35 1548.85 L1259.35 1542.97 Z\" fill=\"#f8f8f2\" fill-rule=\"nonzero\" fill-opacity=\"1\" /><path clip-path=\"url(#clip080)\" d=\"M1274.47 1514.29 L1292.83 1514.29 L1292.83 1518.22 L1278.75 1518.22 L1278.75 1526.7 Q1279.77 1526.35 1280.79 1526.19 Q1281.81 1526 1282.83 1526 Q1288.61 1526 1291.99 1529.17 Q1295.37 1532.34 1295.37 1537.76 Q1295.37 1543.34 1291.9 1546.44 Q1288.43 1549.52 1282.11 1549.52 Q1279.93 1549.52 1277.66 1549.15 Q1275.42 1548.78 1273.01 1548.04 L1273.01 1543.34 Q1275.09 1544.47 1277.32 1545.03 Q1279.54 1545.58 1282.01 1545.58 Q1286.02 1545.58 1288.36 1543.48 Q1290.7 1541.37 1290.7 1537.76 Q1290.7 1534.15 1288.36 1532.04 Q1286.02 1529.94 1282.01 1529.94 Q1280.14 1529.94 1278.26 1530.35 Q1276.41 1530.77 1274.47 1531.65 L1274.47 1514.29 Z\" fill=\"#f8f8f2\" fill-rule=\"nonzero\" fill-opacity=\"1\" /><path clip-path=\"url(#clip080)\" d=\"M1314.58 1517.37 Q1310.97 1517.37 1309.14 1520.93 Q1307.34 1524.47 1307.34 1531.6 Q1307.34 1538.71 1309.14 1542.27 Q1310.97 1545.82 1314.58 1545.82 Q1318.22 1545.82 1320.02 1542.27 Q1321.85 1538.71 1321.85 1531.6 Q1321.85 1524.47 1320.02 1520.93 Q1318.22 1517.37 1314.58 1517.37 M1314.58 1513.66 Q1320.39 1513.66 1323.45 1518.27 Q1326.53 1522.85 1326.53 1531.6 Q1326.53 1540.33 1323.45 1544.94 Q1320.39 1549.52 1314.58 1549.52 Q1308.77 1549.52 1305.7 1544.94 Q1302.64 1540.33 1302.64 1531.6 Q1302.64 1522.85 1305.7 1518.27 Q1308.77 1513.66 1314.58 1513.66 Z\" fill=\"#f8f8f2\" fill-rule=\"nonzero\" fill-opacity=\"1\" /><path clip-path=\"url(#clip080)\" d=\"M1718.45 1517.37 Q1714.84 1517.37 1713.01 1520.93 Q1711.2 1524.47 1711.2 1531.6 Q1711.2 1538.71 1713.01 1542.27 Q1714.84 1545.82 1718.45 1545.82 Q1722.08 1545.82 1723.89 1542.27 Q1725.72 1538.71 1725.72 1531.6 Q1725.72 1524.47 1723.89 1520.93 Q1722.08 1517.37 1718.45 1517.37 M1718.45 1513.66 Q1724.26 1513.66 1727.31 1518.27 Q1730.39 1522.85 1730.39 1531.6 Q1730.39 1540.33 1727.31 1544.94 Q1724.26 1549.52 1718.45 1549.52 Q1712.64 1549.52 1709.56 1544.94 Q1706.5 1540.33 1706.5 1531.6 Q1706.5 1522.85 1709.56 1518.27 Q1712.64 1513.66 1718.45 1513.66 Z\" fill=\"#f8f8f2\" fill-rule=\"nonzero\" fill-opacity=\"1\" /><path clip-path=\"url(#clip080)\" d=\"M1738.61 1542.97 L1743.49 1542.97 L1743.49 1548.85 L1738.61 1548.85 L1738.61 1542.97 Z\" fill=\"#f8f8f2\" fill-rule=\"nonzero\" fill-opacity=\"1\" /><path clip-path=\"url(#clip080)\" d=\"M1752.5 1514.29 L1774.72 1514.29 L1774.72 1516.28 L1762.17 1548.85 L1757.29 1548.85 L1769.1 1518.22 L1752.5 1518.22 L1752.5 1514.29 Z\" fill=\"#f8f8f2\" fill-rule=\"nonzero\" fill-opacity=\"1\" /><path clip-path=\"url(#clip080)\" d=\"M1783.89 1514.29 L1802.24 1514.29 L1802.24 1518.22 L1788.17 1518.22 L1788.17 1526.7 Q1789.19 1526.35 1790.21 1526.19 Q1791.23 1526 1792.24 1526 Q1798.03 1526 1801.41 1529.17 Q1804.79 1532.34 1804.79 1537.76 Q1804.79 1543.34 1801.32 1546.44 Q1797.85 1549.52 1791.53 1549.52 Q1789.35 1549.52 1787.08 1549.15 Q1784.84 1548.78 1782.43 1548.04 L1782.43 1543.34 Q1784.51 1544.47 1786.73 1545.03 Q1788.96 1545.58 1791.43 1545.58 Q1795.44 1545.58 1797.78 1543.48 Q1800.11 1541.37 1800.11 1537.76 Q1800.11 1534.15 1797.78 1532.04 Q1795.44 1529.94 1791.43 1529.94 Q1789.56 1529.94 1787.68 1530.35 Q1785.83 1530.77 1783.89 1531.65 L1783.89 1514.29 Z\" fill=\"#f8f8f2\" fill-rule=\"nonzero\" fill-opacity=\"1\" /><path clip-path=\"url(#clip080)\" d=\"M2186.48 1544.91 L2194.12 1544.91 L2194.12 1518.55 L2185.81 1520.21 L2185.81 1515.95 L2194.07 1514.29 L2198.75 1514.29 L2198.75 1544.91 L2206.39 1544.91 L2206.39 1548.85 L2186.48 1548.85 L2186.48 1544.91 Z\" fill=\"#f8f8f2\" fill-rule=\"nonzero\" fill-opacity=\"1\" /><path clip-path=\"url(#clip080)\" d=\"M2215.83 1542.97 L2220.71 1542.97 L2220.71 1548.85 L2215.83 1548.85 L2215.83 1542.97 Z\" fill=\"#f8f8f2\" fill-rule=\"nonzero\" fill-opacity=\"1\" /><path clip-path=\"url(#clip080)\" d=\"M2240.9 1517.37 Q2237.29 1517.37 2235.46 1520.93 Q2233.65 1524.47 2233.65 1531.6 Q2233.65 1538.71 2235.46 1542.27 Q2237.29 1545.82 2240.9 1545.82 Q2244.53 1545.82 2246.34 1542.27 Q2248.17 1538.71 2248.17 1531.6 Q2248.17 1524.47 2246.34 1520.93 Q2244.53 1517.37 2240.9 1517.37 M2240.9 1513.66 Q2246.71 1513.66 2249.77 1518.27 Q2252.84 1522.85 2252.84 1531.6 Q2252.84 1540.33 2249.77 1544.94 Q2246.71 1549.52 2240.9 1549.52 Q2235.09 1549.52 2232.01 1544.94 Q2228.96 1540.33 2228.96 1531.6 Q2228.96 1522.85 2232.01 1518.27 Q2235.09 1513.66 2240.9 1513.66 Z\" fill=\"#f8f8f2\" fill-rule=\"nonzero\" fill-opacity=\"1\" /><path clip-path=\"url(#clip080)\" d=\"M2271.06 1517.37 Q2267.45 1517.37 2265.62 1520.93 Q2263.82 1524.47 2263.82 1531.6 Q2263.82 1538.71 2265.62 1542.27 Q2267.45 1545.82 2271.06 1545.82 Q2274.7 1545.82 2276.5 1542.27 Q2278.33 1538.71 2278.33 1531.6 Q2278.33 1524.47 2276.5 1520.93 Q2274.7 1517.37 2271.06 1517.37 M2271.06 1513.66 Q2276.87 1513.66 2279.93 1518.27 Q2283.01 1522.85 2283.01 1531.6 Q2283.01 1540.33 2279.93 1544.94 Q2276.87 1549.52 2271.06 1549.52 Q2265.25 1549.52 2262.17 1544.94 Q2259.12 1540.33 2259.12 1531.6 Q2259.12 1522.85 2262.17 1518.27 Q2265.25 1513.66 2271.06 1513.66 Z\" fill=\"#f8f8f2\" fill-rule=\"nonzero\" fill-opacity=\"1\" /><polyline clip-path=\"url(#clip080)\" style=\"stroke:#f8f8f2; stroke-linecap:round; stroke-linejoin:round; stroke-width:4; stroke-opacity:1; fill:none\" points=\"201.019,1486.45 201.019,47.2441 \"/>\n",
       "<polyline clip-path=\"url(#clip080)\" style=\"stroke:#f8f8f2; stroke-linecap:round; stroke-linejoin:round; stroke-width:4; stroke-opacity:1; fill:none\" points=\"201.019,1486.45 219.917,1486.45 \"/>\n",
       "<polyline clip-path=\"url(#clip080)\" style=\"stroke:#f8f8f2; stroke-linecap:round; stroke-linejoin:round; stroke-width:4; stroke-opacity:1; fill:none\" points=\"201.019,1143.94 219.917,1143.94 \"/>\n",
       "<polyline clip-path=\"url(#clip080)\" style=\"stroke:#f8f8f2; stroke-linecap:round; stroke-linejoin:round; stroke-width:4; stroke-opacity:1; fill:none\" points=\"201.019,801.439 219.917,801.439 \"/>\n",
       "<polyline clip-path=\"url(#clip080)\" style=\"stroke:#f8f8f2; stroke-linecap:round; stroke-linejoin:round; stroke-width:4; stroke-opacity:1; fill:none\" points=\"201.019,458.934 219.917,458.934 \"/>\n",
       "<polyline clip-path=\"url(#clip080)\" style=\"stroke:#f8f8f2; stroke-linecap:round; stroke-linejoin:round; stroke-width:4; stroke-opacity:1; fill:none\" points=\"201.019,116.43 219.917,116.43 \"/>\n",
       "<path clip-path=\"url(#clip080)\" d=\"M153.075 1472.25 Q149.464 1472.25 147.635 1475.81 Q145.83 1479.35 145.83 1486.48 Q145.83 1493.59 147.635 1497.15 Q149.464 1500.7 153.075 1500.7 Q156.709 1500.7 158.515 1497.15 Q160.343 1493.59 160.343 1486.48 Q160.343 1479.35 158.515 1475.81 Q156.709 1472.25 153.075 1472.25 M153.075 1468.54 Q158.885 1468.54 161.941 1473.15 Q165.019 1477.73 165.019 1486.48 Q165.019 1495.21 161.941 1499.82 Q158.885 1504.4 153.075 1504.4 Q147.265 1504.4 144.186 1499.82 Q141.131 1495.21 141.131 1486.48 Q141.131 1477.73 144.186 1473.15 Q147.265 1468.54 153.075 1468.54 Z\" fill=\"#f8f8f2\" fill-rule=\"nonzero\" fill-opacity=\"1\" /><path clip-path=\"url(#clip080)\" d=\"M82.7975 1126.66 L101.154 1126.66 L101.154 1130.6 L87.0799 1130.6 L87.0799 1139.07 Q88.0984 1138.72 89.1169 1138.56 Q90.1354 1138.38 91.1539 1138.38 Q96.941 1138.38 100.321 1141.55 Q103.7 1144.72 103.7 1150.14 Q103.7 1155.71 100.228 1158.82 Q96.7558 1161.89 90.4364 1161.89 Q88.2604 1161.89 85.9919 1161.52 Q83.7466 1161.15 81.3392 1160.41 L81.3392 1155.71 Q83.4225 1156.85 85.6447 1157.4 Q87.8669 1157.96 90.3438 1157.96 Q94.3484 1157.96 96.6863 1155.85 Q99.0243 1153.75 99.0243 1150.14 Q99.0243 1146.52 96.6863 1144.42 Q94.3484 1142.31 90.3438 1142.31 Q88.4688 1142.31 86.5938 1142.73 Q84.7419 1143.14 82.7975 1144.02 L82.7975 1126.66 Z\" fill=\"#f8f8f2\" fill-rule=\"nonzero\" fill-opacity=\"1\" /><path clip-path=\"url(#clip080)\" d=\"M122.913 1129.74 Q119.302 1129.74 117.473 1133.31 Q115.668 1136.85 115.668 1143.98 Q115.668 1151.08 117.473 1154.65 Q119.302 1158.19 122.913 1158.19 Q126.547 1158.19 128.353 1154.65 Q130.182 1151.08 130.182 1143.98 Q130.182 1136.85 128.353 1133.31 Q126.547 1129.74 122.913 1129.74 M122.913 1126.04 Q128.723 1126.04 131.779 1130.64 Q134.857 1135.23 134.857 1143.98 Q134.857 1152.7 131.779 1157.31 Q128.723 1161.89 122.913 1161.89 Q117.103 1161.89 114.024 1157.31 Q110.969 1152.7 110.969 1143.98 Q110.969 1135.23 114.024 1130.64 Q117.103 1126.04 122.913 1126.04 Z\" fill=\"#f8f8f2\" fill-rule=\"nonzero\" fill-opacity=\"1\" /><path clip-path=\"url(#clip080)\" d=\"M153.075 1129.74 Q149.464 1129.74 147.635 1133.31 Q145.83 1136.85 145.83 1143.98 Q145.83 1151.08 147.635 1154.65 Q149.464 1158.19 153.075 1158.19 Q156.709 1158.19 158.515 1154.65 Q160.343 1151.08 160.343 1143.98 Q160.343 1136.85 158.515 1133.31 Q156.709 1129.74 153.075 1129.74 M153.075 1126.04 Q158.885 1126.04 161.941 1130.64 Q165.019 1135.23 165.019 1143.98 Q165.019 1152.7 161.941 1157.31 Q158.885 1161.89 153.075 1161.89 Q147.265 1161.89 144.186 1157.31 Q141.131 1152.7 141.131 1143.98 Q141.131 1135.23 144.186 1130.64 Q147.265 1126.04 153.075 1126.04 Z\" fill=\"#f8f8f2\" fill-rule=\"nonzero\" fill-opacity=\"1\" /><path clip-path=\"url(#clip080)\" d=\"M53.3995 814.784 L61.0384 814.784 L61.0384 788.418 L52.7282 790.085 L52.7282 785.826 L60.9921 784.159 L65.668 784.159 L65.668 814.784 L73.3068 814.784 L73.3068 818.719 L53.3995 818.719 L53.3995 814.784 Z\" fill=\"#f8f8f2\" fill-rule=\"nonzero\" fill-opacity=\"1\" /><path clip-path=\"url(#clip080)\" d=\"M92.7512 787.238 Q89.1401 787.238 87.3114 790.802 Q85.5058 794.344 85.5058 801.474 Q85.5058 808.58 87.3114 812.145 Q89.1401 815.687 92.7512 815.687 Q96.3854 815.687 98.1909 812.145 Q100.02 808.58 100.02 801.474 Q100.02 794.344 98.1909 790.802 Q96.3854 787.238 92.7512 787.238 M92.7512 783.534 Q98.5613 783.534 101.617 788.14 Q104.696 792.724 104.696 801.474 Q104.696 810.2 101.617 814.807 Q98.5613 819.39 92.7512 819.39 Q86.941 819.39 83.8623 814.807 Q80.8068 810.2 80.8068 801.474 Q80.8068 792.724 83.8623 788.14 Q86.941 783.534 92.7512 783.534 Z\" fill=\"#f8f8f2\" fill-rule=\"nonzero\" fill-opacity=\"1\" /><path clip-path=\"url(#clip080)\" d=\"M122.913 787.238 Q119.302 787.238 117.473 790.802 Q115.668 794.344 115.668 801.474 Q115.668 808.58 117.473 812.145 Q119.302 815.687 122.913 815.687 Q126.547 815.687 128.353 812.145 Q130.182 808.58 130.182 801.474 Q130.182 794.344 128.353 790.802 Q126.547 787.238 122.913 787.238 M122.913 783.534 Q128.723 783.534 131.779 788.14 Q134.857 792.724 134.857 801.474 Q134.857 810.2 131.779 814.807 Q128.723 819.39 122.913 819.39 Q117.103 819.39 114.024 814.807 Q110.969 810.2 110.969 801.474 Q110.969 792.724 114.024 788.14 Q117.103 783.534 122.913 783.534 Z\" fill=\"#f8f8f2\" fill-rule=\"nonzero\" fill-opacity=\"1\" /><path clip-path=\"url(#clip080)\" d=\"M153.075 787.238 Q149.464 787.238 147.635 790.802 Q145.83 794.344 145.83 801.474 Q145.83 808.58 147.635 812.145 Q149.464 815.687 153.075 815.687 Q156.709 815.687 158.515 812.145 Q160.343 808.58 160.343 801.474 Q160.343 794.344 158.515 790.802 Q156.709 787.238 153.075 787.238 M153.075 783.534 Q158.885 783.534 161.941 788.14 Q165.019 792.724 165.019 801.474 Q165.019 810.2 161.941 814.807 Q158.885 819.39 153.075 819.39 Q147.265 819.39 144.186 814.807 Q141.131 810.2 141.131 801.474 Q141.131 792.724 144.186 788.14 Q147.265 783.534 153.075 783.534 Z\" fill=\"#f8f8f2\" fill-rule=\"nonzero\" fill-opacity=\"1\" /><path clip-path=\"url(#clip080)\" d=\"M53.3995 472.279 L61.0384 472.279 L61.0384 445.914 L52.7282 447.58 L52.7282 443.321 L60.9921 441.654 L65.668 441.654 L65.668 472.279 L73.3068 472.279 L73.3068 476.214 L53.3995 476.214 L53.3995 472.279 Z\" fill=\"#f8f8f2\" fill-rule=\"nonzero\" fill-opacity=\"1\" /><path clip-path=\"url(#clip080)\" d=\"M82.7975 441.654 L101.154 441.654 L101.154 445.59 L87.0799 445.59 L87.0799 454.062 Q88.0984 453.715 89.1169 453.553 Q90.1354 453.367 91.1539 453.367 Q96.941 453.367 100.321 456.539 Q103.7 459.71 103.7 465.127 Q103.7 470.705 100.228 473.807 Q96.7558 476.886 90.4364 476.886 Q88.2604 476.886 85.9919 476.515 Q83.7466 476.145 81.3392 475.404 L81.3392 470.705 Q83.4225 471.839 85.6447 472.395 Q87.8669 472.951 90.3438 472.951 Q94.3484 472.951 96.6863 470.844 Q99.0243 468.738 99.0243 465.127 Q99.0243 461.515 96.6863 459.409 Q94.3484 457.303 90.3438 457.303 Q88.4688 457.303 86.5938 457.719 Q84.7419 458.136 82.7975 459.015 L82.7975 441.654 Z\" fill=\"#f8f8f2\" fill-rule=\"nonzero\" fill-opacity=\"1\" /><path clip-path=\"url(#clip080)\" d=\"M122.913 444.733 Q119.302 444.733 117.473 448.298 Q115.668 451.84 115.668 458.969 Q115.668 466.076 117.473 469.64 Q119.302 473.182 122.913 473.182 Q126.547 473.182 128.353 469.64 Q130.182 466.076 130.182 458.969 Q130.182 451.84 128.353 448.298 Q126.547 444.733 122.913 444.733 M122.913 441.029 Q128.723 441.029 131.779 445.636 Q134.857 450.219 134.857 458.969 Q134.857 467.696 131.779 472.302 Q128.723 476.886 122.913 476.886 Q117.103 476.886 114.024 472.302 Q110.969 467.696 110.969 458.969 Q110.969 450.219 114.024 445.636 Q117.103 441.029 122.913 441.029 Z\" fill=\"#f8f8f2\" fill-rule=\"nonzero\" fill-opacity=\"1\" /><path clip-path=\"url(#clip080)\" d=\"M153.075 444.733 Q149.464 444.733 147.635 448.298 Q145.83 451.84 145.83 458.969 Q145.83 466.076 147.635 469.64 Q149.464 473.182 153.075 473.182 Q156.709 473.182 158.515 469.64 Q160.343 466.076 160.343 458.969 Q160.343 451.84 158.515 448.298 Q156.709 444.733 153.075 444.733 M153.075 441.029 Q158.885 441.029 161.941 445.636 Q165.019 450.219 165.019 458.969 Q165.019 467.696 161.941 472.302 Q158.885 476.886 153.075 476.886 Q147.265 476.886 144.186 472.302 Q141.131 467.696 141.131 458.969 Q141.131 450.219 144.186 445.636 Q147.265 441.029 153.075 441.029 Z\" fill=\"#f8f8f2\" fill-rule=\"nonzero\" fill-opacity=\"1\" /><path clip-path=\"url(#clip080)\" d=\"M56.6171 129.775 L72.9365 129.775 L72.9365 133.71 L50.9921 133.71 L50.9921 129.775 Q53.6541 127.02 58.2375 122.391 Q62.8439 117.738 64.0245 116.395 Q66.2698 113.872 67.1494 112.136 Q68.0522 110.377 68.0522 108.687 Q68.0522 105.932 66.1078 104.196 Q64.1865 102.46 61.0847 102.46 Q58.8856 102.46 56.4319 103.224 Q54.0014 103.988 51.2236 105.539 L51.2236 100.817 Q54.0477 99.6824 56.5014 99.1037 Q58.955 98.525 60.9921 98.525 Q66.3624 98.525 69.5568 101.21 Q72.7513 103.895 72.7513 108.386 Q72.7513 110.516 71.9411 112.437 Q71.1541 114.335 69.0476 116.928 Q68.4689 117.599 65.367 120.817 Q62.2652 124.011 56.6171 129.775 Z\" fill=\"#f8f8f2\" fill-rule=\"nonzero\" fill-opacity=\"1\" /><path clip-path=\"url(#clip080)\" d=\"M92.7512 102.229 Q89.1401 102.229 87.3114 105.793 Q85.5058 109.335 85.5058 116.465 Q85.5058 123.571 87.3114 127.136 Q89.1401 130.678 92.7512 130.678 Q96.3854 130.678 98.1909 127.136 Q100.02 123.571 100.02 116.465 Q100.02 109.335 98.1909 105.793 Q96.3854 102.229 92.7512 102.229 M92.7512 98.525 Q98.5613 98.525 101.617 103.131 Q104.696 107.715 104.696 116.465 Q104.696 125.192 101.617 129.798 Q98.5613 134.381 92.7512 134.381 Q86.941 134.381 83.8623 129.798 Q80.8068 125.192 80.8068 116.465 Q80.8068 107.715 83.8623 103.131 Q86.941 98.525 92.7512 98.525 Z\" fill=\"#f8f8f2\" fill-rule=\"nonzero\" fill-opacity=\"1\" /><path clip-path=\"url(#clip080)\" d=\"M122.913 102.229 Q119.302 102.229 117.473 105.793 Q115.668 109.335 115.668 116.465 Q115.668 123.571 117.473 127.136 Q119.302 130.678 122.913 130.678 Q126.547 130.678 128.353 127.136 Q130.182 123.571 130.182 116.465 Q130.182 109.335 128.353 105.793 Q126.547 102.229 122.913 102.229 M122.913 98.525 Q128.723 98.525 131.779 103.131 Q134.857 107.715 134.857 116.465 Q134.857 125.192 131.779 129.798 Q128.723 134.381 122.913 134.381 Q117.103 134.381 114.024 129.798 Q110.969 125.192 110.969 116.465 Q110.969 107.715 114.024 103.131 Q117.103 98.525 122.913 98.525 Z\" fill=\"#f8f8f2\" fill-rule=\"nonzero\" fill-opacity=\"1\" /><path clip-path=\"url(#clip080)\" d=\"M153.075 102.229 Q149.464 102.229 147.635 105.793 Q145.83 109.335 145.83 116.465 Q145.83 123.571 147.635 127.136 Q149.464 130.678 153.075 130.678 Q156.709 130.678 158.515 127.136 Q160.343 123.571 160.343 116.465 Q160.343 109.335 158.515 105.793 Q156.709 102.229 153.075 102.229 M153.075 98.525 Q158.885 98.525 161.941 103.131 Q165.019 107.715 165.019 116.465 Q165.019 125.192 161.941 129.798 Q158.885 134.381 153.075 134.381 Q147.265 134.381 144.186 129.798 Q141.131 125.192 141.131 116.465 Q141.131 107.715 144.186 103.131 Q147.265 98.525 153.075 98.525 Z\" fill=\"#f8f8f2\" fill-rule=\"nonzero\" fill-opacity=\"1\" /><path clip-path=\"url(#clip082)\" d=\"M319.369 158.901 L319.369 1486.45 L357.669 1486.45 L357.669 158.901 L319.369 158.901 L319.369 158.901  Z\" fill=\"#8be9fd\" fill-rule=\"evenodd\" fill-opacity=\"1\"/>\n",
       "<polyline clip-path=\"url(#clip082)\" style=\"stroke:#f8f8f2; stroke-linecap:round; stroke-linejoin:round; stroke-width:4; stroke-opacity:1; fill:none\" points=\"319.369,158.901 319.369,1486.45 357.669,1486.45 357.669,158.901 319.369,158.901 \"/>\n",
       "<path clip-path=\"url(#clip082)\" d=\"M357.669 153.42 L357.669 1486.45 L395.97 1486.45 L395.97 153.42 L357.669 153.42 L357.669 153.42  Z\" fill=\"#8be9fd\" fill-rule=\"evenodd\" fill-opacity=\"1\"/>\n",
       "<polyline clip-path=\"url(#clip082)\" style=\"stroke:#f8f8f2; stroke-linecap:round; stroke-linejoin:round; stroke-width:4; stroke-opacity:1; fill:none\" points=\"357.669,153.42 357.669,1486.45 395.97,1486.45 395.97,153.42 357.669,153.42 \"/>\n",
       "<path clip-path=\"url(#clip082)\" d=\"M395.97 128.075 L395.97 1486.45 L434.271 1486.45 L434.271 128.075 L395.97 128.075 L395.97 128.075  Z\" fill=\"#8be9fd\" fill-rule=\"evenodd\" fill-opacity=\"1\"/>\n",
       "<polyline clip-path=\"url(#clip082)\" style=\"stroke:#f8f8f2; stroke-linecap:round; stroke-linejoin:round; stroke-width:4; stroke-opacity:1; fill:none\" points=\"395.97,128.075 395.97,1486.45 434.271,1486.45 434.271,128.075 395.97,128.075 \"/>\n",
       "<path clip-path=\"url(#clip082)\" d=\"M434.271 150.68 L434.271 1486.45 L472.572 1486.45 L472.572 150.68 L434.271 150.68 L434.271 150.68  Z\" fill=\"#8be9fd\" fill-rule=\"evenodd\" fill-opacity=\"1\"/>\n",
       "<polyline clip-path=\"url(#clip082)\" style=\"stroke:#f8f8f2; stroke-linecap:round; stroke-linejoin:round; stroke-width:4; stroke-opacity:1; fill:none\" points=\"434.271,150.68 434.271,1486.45 472.572,1486.45 472.572,150.68 434.271,150.68 \"/>\n",
       "<path clip-path=\"url(#clip082)\" d=\"M472.572 139.035 L472.572 1486.45 L510.872 1486.45 L510.872 139.035 L472.572 139.035 L472.572 139.035  Z\" fill=\"#8be9fd\" fill-rule=\"evenodd\" fill-opacity=\"1\"/>\n",
       "<polyline clip-path=\"url(#clip082)\" style=\"stroke:#f8f8f2; stroke-linecap:round; stroke-linejoin:round; stroke-width:4; stroke-opacity:1; fill:none\" points=\"472.572,139.035 472.572,1486.45 510.872,1486.45 510.872,139.035 472.572,139.035 \"/>\n",
       "<path clip-path=\"url(#clip082)\" d=\"M510.872 69.1644 L510.872 1486.45 L549.173 1486.45 L549.173 69.1644 L510.872 69.1644 L510.872 69.1644  Z\" fill=\"#8be9fd\" fill-rule=\"evenodd\" fill-opacity=\"1\"/>\n",
       "<polyline clip-path=\"url(#clip082)\" style=\"stroke:#f8f8f2; stroke-linecap:round; stroke-linejoin:round; stroke-width:4; stroke-opacity:1; fill:none\" points=\"510.872,69.1644 510.872,1486.45 549.173,1486.45 549.173,69.1644 510.872,69.1644 \"/>\n",
       "<path clip-path=\"url(#clip082)\" d=\"M549.173 90.3997 L549.173 1486.45 L587.474 1486.45 L587.474 90.3997 L549.173 90.3997 L549.173 90.3997  Z\" fill=\"#8be9fd\" fill-rule=\"evenodd\" fill-opacity=\"1\"/>\n",
       "<polyline clip-path=\"url(#clip082)\" style=\"stroke:#f8f8f2; stroke-linecap:round; stroke-linejoin:round; stroke-width:4; stroke-opacity:1; fill:none\" points=\"549.173,90.3997 549.173,1486.45 587.474,1486.45 587.474,90.3997 549.173,90.3997 \"/>\n",
       "<path clip-path=\"url(#clip082)\" d=\"M587.474 162.326 L587.474 1486.45 L625.775 1486.45 L625.775 162.326 L587.474 162.326 L587.474 162.326  Z\" fill=\"#8be9fd\" fill-rule=\"evenodd\" fill-opacity=\"1\"/>\n",
       "<polyline clip-path=\"url(#clip082)\" style=\"stroke:#f8f8f2; stroke-linecap:round; stroke-linejoin:round; stroke-width:4; stroke-opacity:1; fill:none\" points=\"587.474,162.326 587.474,1486.45 625.775,1486.45 625.775,162.326 587.474,162.326 \"/>\n",
       "<path clip-path=\"url(#clip082)\" d=\"M625.775 97.9348 L625.775 1486.45 L664.075 1486.45 L664.075 97.9348 L625.775 97.9348 L625.775 97.9348  Z\" fill=\"#8be9fd\" fill-rule=\"evenodd\" fill-opacity=\"1\"/>\n",
       "<polyline clip-path=\"url(#clip082)\" style=\"stroke:#f8f8f2; stroke-linecap:round; stroke-linejoin:round; stroke-width:4; stroke-opacity:1; fill:none\" points=\"625.775,97.9348 625.775,1486.45 664.075,1486.45 664.075,97.9348 625.775,97.9348 \"/>\n",
       "<path clip-path=\"url(#clip082)\" d=\"M664.075 122.595 L664.075 1486.45 L702.376 1486.45 L702.376 122.595 L664.075 122.595 L664.075 122.595  Z\" fill=\"#8be9fd\" fill-rule=\"evenodd\" fill-opacity=\"1\"/>\n",
       "<polyline clip-path=\"url(#clip082)\" style=\"stroke:#f8f8f2; stroke-linecap:round; stroke-linejoin:round; stroke-width:4; stroke-opacity:1; fill:none\" points=\"664.075,122.595 664.075,1486.45 702.376,1486.45 702.376,122.595 664.075,122.595 \"/>\n",
       "<path clip-path=\"url(#clip082)\" d=\"M702.376 94.5097 L702.376 1486.45 L740.677 1486.45 L740.677 94.5097 L702.376 94.5097 L702.376 94.5097  Z\" fill=\"#8be9fd\" fill-rule=\"evenodd\" fill-opacity=\"1\"/>\n",
       "<polyline clip-path=\"url(#clip082)\" style=\"stroke:#f8f8f2; stroke-linecap:round; stroke-linejoin:round; stroke-width:4; stroke-opacity:1; fill:none\" points=\"702.376,94.5097 702.376,1486.45 740.677,1486.45 740.677,94.5097 702.376,94.5097 \"/>\n",
       "<path clip-path=\"url(#clip082)\" d=\"M740.677 118.485 L740.677 1486.45 L778.978 1486.45 L778.978 118.485 L740.677 118.485 L740.677 118.485  Z\" fill=\"#8be9fd\" fill-rule=\"evenodd\" fill-opacity=\"1\"/>\n",
       "<polyline clip-path=\"url(#clip082)\" style=\"stroke:#f8f8f2; stroke-linecap:round; stroke-linejoin:round; stroke-width:4; stroke-opacity:1; fill:none\" points=\"740.677,118.485 740.677,1486.45 778.978,1486.45 778.978,118.485 740.677,118.485 \"/>\n",
       "<path clip-path=\"url(#clip082)\" d=\"M778.978 91.0847 L778.978 1486.45 L817.278 1486.45 L817.278 91.0847 L778.978 91.0847 L778.978 91.0847  Z\" fill=\"#8be9fd\" fill-rule=\"evenodd\" fill-opacity=\"1\"/>\n",
       "<polyline clip-path=\"url(#clip082)\" style=\"stroke:#f8f8f2; stroke-linecap:round; stroke-linejoin:round; stroke-width:4; stroke-opacity:1; fill:none\" points=\"778.978,91.0847 778.978,1486.45 817.278,1486.45 817.278,91.0847 778.978,91.0847 \"/>\n",
       "<path clip-path=\"url(#clip082)\" d=\"M817.278 95.1947 L817.278 1486.45 L855.579 1486.45 L855.579 95.1947 L817.278 95.1947 L817.278 95.1947  Z\" fill=\"#8be9fd\" fill-rule=\"evenodd\" fill-opacity=\"1\"/>\n",
       "<polyline clip-path=\"url(#clip082)\" style=\"stroke:#f8f8f2; stroke-linecap:round; stroke-linejoin:round; stroke-width:4; stroke-opacity:1; fill:none\" points=\"817.278,95.1947 817.278,1486.45 855.579,1486.45 855.579,95.1947 817.278,95.1947 \"/>\n",
       "<path clip-path=\"url(#clip082)\" d=\"M855.579 89.0296 L855.579 1486.45 L893.88 1486.45 L893.88 89.0296 L855.579 89.0296 L855.579 89.0296  Z\" fill=\"#8be9fd\" fill-rule=\"evenodd\" fill-opacity=\"1\"/>\n",
       "<polyline clip-path=\"url(#clip082)\" style=\"stroke:#f8f8f2; stroke-linecap:round; stroke-linejoin:round; stroke-width:4; stroke-opacity:1; fill:none\" points=\"855.579,89.0296 855.579,1486.45 893.88,1486.45 893.88,89.0296 855.579,89.0296 \"/>\n",
       "<path clip-path=\"url(#clip082)\" d=\"M893.88 80.1245 L893.88 1486.45 L932.181 1486.45 L932.181 80.1245 L893.88 80.1245 L893.88 80.1245  Z\" fill=\"#8be9fd\" fill-rule=\"evenodd\" fill-opacity=\"1\"/>\n",
       "<polyline clip-path=\"url(#clip082)\" style=\"stroke:#f8f8f2; stroke-linecap:round; stroke-linejoin:round; stroke-width:4; stroke-opacity:1; fill:none\" points=\"893.88,80.1245 893.88,1486.45 932.181,1486.45 932.181,80.1245 893.88,80.1245 \"/>\n",
       "<path clip-path=\"url(#clip082)\" d=\"M932.181 79.4395 L932.181 1486.45 L970.482 1486.45 L970.482 79.4395 L932.181 79.4395 L932.181 79.4395  Z\" fill=\"#8be9fd\" fill-rule=\"evenodd\" fill-opacity=\"1\"/>\n",
       "<polyline clip-path=\"url(#clip082)\" style=\"stroke:#f8f8f2; stroke-linecap:round; stroke-linejoin:round; stroke-width:4; stroke-opacity:1; fill:none\" points=\"932.181,79.4395 932.181,1486.45 970.482,1486.45 970.482,79.4395 932.181,79.4395 \"/>\n",
       "<path clip-path=\"url(#clip082)\" d=\"M970.482 91.7697 L970.482 1486.45 L1008.78 1486.45 L1008.78 91.7697 L970.482 91.7697 L970.482 91.7697  Z\" fill=\"#8be9fd\" fill-rule=\"evenodd\" fill-opacity=\"1\"/>\n",
       "<polyline clip-path=\"url(#clip082)\" style=\"stroke:#f8f8f2; stroke-linecap:round; stroke-linejoin:round; stroke-width:4; stroke-opacity:1; fill:none\" points=\"970.482,91.7697 970.482,1486.45 1008.78,1486.45 1008.78,91.7697 970.482,91.7697 \"/>\n",
       "<path clip-path=\"url(#clip082)\" d=\"M1008.78 173.286 L1008.78 1486.45 L1047.08 1486.45 L1047.08 173.286 L1008.78 173.286 L1008.78 173.286  Z\" fill=\"#8be9fd\" fill-rule=\"evenodd\" fill-opacity=\"1\"/>\n",
       "<polyline clip-path=\"url(#clip082)\" style=\"stroke:#f8f8f2; stroke-linecap:round; stroke-linejoin:round; stroke-width:4; stroke-opacity:1; fill:none\" points=\"1008.78,173.286 1008.78,1486.45 1047.08,1486.45 1047.08,173.286 1008.78,173.286 \"/>\n",
       "<path clip-path=\"url(#clip082)\" d=\"M1047.08 125.335 L1047.08 1486.45 L1085.38 1486.45 L1085.38 125.335 L1047.08 125.335 L1047.08 125.335  Z\" fill=\"#8be9fd\" fill-rule=\"evenodd\" fill-opacity=\"1\"/>\n",
       "<polyline clip-path=\"url(#clip082)\" style=\"stroke:#f8f8f2; stroke-linecap:round; stroke-linejoin:round; stroke-width:4; stroke-opacity:1; fill:none\" points=\"1047.08,125.335 1047.08,1486.45 1085.38,1486.45 1085.38,125.335 1047.08,125.335 \"/>\n",
       "<path clip-path=\"url(#clip082)\" d=\"M1085.38 130.815 L1085.38 1486.45 L1123.68 1486.45 L1123.68 130.815 L1085.38 130.815 L1085.38 130.815  Z\" fill=\"#8be9fd\" fill-rule=\"evenodd\" fill-opacity=\"1\"/>\n",
       "<polyline clip-path=\"url(#clip082)\" style=\"stroke:#f8f8f2; stroke-linecap:round; stroke-linejoin:round; stroke-width:4; stroke-opacity:1; fill:none\" points=\"1085.38,130.815 1085.38,1486.45 1123.68,1486.45 1123.68,130.815 1085.38,130.815 \"/>\n",
       "<path clip-path=\"url(#clip082)\" d=\"M1123.68 83.5496 L1123.68 1486.45 L1161.99 1486.45 L1161.99 83.5496 L1123.68 83.5496 L1123.68 83.5496  Z\" fill=\"#8be9fd\" fill-rule=\"evenodd\" fill-opacity=\"1\"/>\n",
       "<polyline clip-path=\"url(#clip082)\" style=\"stroke:#f8f8f2; stroke-linecap:round; stroke-linejoin:round; stroke-width:4; stroke-opacity:1; fill:none\" points=\"1123.68,83.5496 1123.68,1486.45 1161.99,1486.45 1161.99,83.5496 1123.68,83.5496 \"/>\n",
       "<path clip-path=\"url(#clip082)\" d=\"M1161.99 123.28 L1161.99 1486.45 L1200.29 1486.45 L1200.29 123.28 L1161.99 123.28 L1161.99 123.28  Z\" fill=\"#8be9fd\" fill-rule=\"evenodd\" fill-opacity=\"1\"/>\n",
       "<polyline clip-path=\"url(#clip082)\" style=\"stroke:#f8f8f2; stroke-linecap:round; stroke-linejoin:round; stroke-width:4; stroke-opacity:1; fill:none\" points=\"1161.99,123.28 1161.99,1486.45 1200.29,1486.45 1200.29,123.28 1161.99,123.28 \"/>\n",
       "<path clip-path=\"url(#clip082)\" d=\"M1200.29 117.8 L1200.29 1486.45 L1238.59 1486.45 L1238.59 117.8 L1200.29 117.8 L1200.29 117.8  Z\" fill=\"#8be9fd\" fill-rule=\"evenodd\" fill-opacity=\"1\"/>\n",
       "<polyline clip-path=\"url(#clip082)\" style=\"stroke:#f8f8f2; stroke-linecap:round; stroke-linejoin:round; stroke-width:4; stroke-opacity:1; fill:none\" points=\"1200.29,117.8 1200.29,1486.45 1238.59,1486.45 1238.59,117.8 1200.29,117.8 \"/>\n",
       "<path clip-path=\"url(#clip082)\" d=\"M1238.59 88.3446 L1238.59 1486.45 L1276.89 1486.45 L1276.89 88.3446 L1238.59 88.3446 L1238.59 88.3446  Z\" fill=\"#8be9fd\" fill-rule=\"evenodd\" fill-opacity=\"1\"/>\n",
       "<polyline clip-path=\"url(#clip082)\" style=\"stroke:#f8f8f2; stroke-linecap:round; stroke-linejoin:round; stroke-width:4; stroke-opacity:1; fill:none\" points=\"1238.59,88.3446 1238.59,1486.45 1276.89,1486.45 1276.89,88.3446 1238.59,88.3446 \"/>\n",
       "<path clip-path=\"url(#clip082)\" d=\"M1276.89 110.95 L1276.89 1486.45 L1315.19 1486.45 L1315.19 110.95 L1276.89 110.95 L1276.89 110.95  Z\" fill=\"#8be9fd\" fill-rule=\"evenodd\" fill-opacity=\"1\"/>\n",
       "<polyline clip-path=\"url(#clip082)\" style=\"stroke:#f8f8f2; stroke-linecap:round; stroke-linejoin:round; stroke-width:4; stroke-opacity:1; fill:none\" points=\"1276.89,110.95 1276.89,1486.45 1315.19,1486.45 1315.19,110.95 1276.89,110.95 \"/>\n",
       "<path clip-path=\"url(#clip082)\" d=\"M1315.19 126.02 L1315.19 1486.45 L1353.49 1486.45 L1353.49 126.02 L1315.19 126.02 L1315.19 126.02  Z\" fill=\"#8be9fd\" fill-rule=\"evenodd\" fill-opacity=\"1\"/>\n",
       "<polyline clip-path=\"url(#clip082)\" style=\"stroke:#f8f8f2; stroke-linecap:round; stroke-linejoin:round; stroke-width:4; stroke-opacity:1; fill:none\" points=\"1315.19,126.02 1315.19,1486.45 1353.49,1486.45 1353.49,126.02 1315.19,126.02 \"/>\n",
       "<path clip-path=\"url(#clip082)\" d=\"M1353.49 154.79 L1353.49 1486.45 L1391.79 1486.45 L1391.79 154.79 L1353.49 154.79 L1353.49 154.79  Z\" fill=\"#8be9fd\" fill-rule=\"evenodd\" fill-opacity=\"1\"/>\n",
       "<polyline clip-path=\"url(#clip082)\" style=\"stroke:#f8f8f2; stroke-linecap:round; stroke-linejoin:round; stroke-width:4; stroke-opacity:1; fill:none\" points=\"1353.49,154.79 1353.49,1486.45 1391.79,1486.45 1391.79,154.79 1353.49,154.79 \"/>\n",
       "<path clip-path=\"url(#clip082)\" d=\"M1391.79 166.436 L1391.79 1486.45 L1430.09 1486.45 L1430.09 166.436 L1391.79 166.436 L1391.79 166.436  Z\" fill=\"#8be9fd\" fill-rule=\"evenodd\" fill-opacity=\"1\"/>\n",
       "<polyline clip-path=\"url(#clip082)\" style=\"stroke:#f8f8f2; stroke-linecap:round; stroke-linejoin:round; stroke-width:4; stroke-opacity:1; fill:none\" points=\"1391.79,166.436 1391.79,1486.45 1430.09,1486.45 1430.09,166.436 1391.79,166.436 \"/>\n",
       "<path clip-path=\"url(#clip082)\" d=\"M1430.09 139.035 L1430.09 1486.45 L1468.39 1486.45 L1468.39 139.035 L1430.09 139.035 L1430.09 139.035  Z\" fill=\"#8be9fd\" fill-rule=\"evenodd\" fill-opacity=\"1\"/>\n",
       "<polyline clip-path=\"url(#clip082)\" style=\"stroke:#f8f8f2; stroke-linecap:round; stroke-linejoin:round; stroke-width:4; stroke-opacity:1; fill:none\" points=\"1430.09,139.035 1430.09,1486.45 1468.39,1486.45 1468.39,139.035 1430.09,139.035 \"/>\n",
       "<path clip-path=\"url(#clip082)\" d=\"M1468.39 116.43 L1468.39 1486.45 L1506.69 1486.45 L1506.69 116.43 L1468.39 116.43 L1468.39 116.43  Z\" fill=\"#8be9fd\" fill-rule=\"evenodd\" fill-opacity=\"1\"/>\n",
       "<polyline clip-path=\"url(#clip082)\" style=\"stroke:#f8f8f2; stroke-linecap:round; stroke-linejoin:round; stroke-width:4; stroke-opacity:1; fill:none\" points=\"1468.39,116.43 1468.39,1486.45 1506.69,1486.45 1506.69,116.43 1468.39,116.43 \"/>\n",
       "<path clip-path=\"url(#clip082)\" d=\"M1506.69 149.31 L1506.69 1486.45 L1544.99 1486.45 L1544.99 149.31 L1506.69 149.31 L1506.69 149.31  Z\" fill=\"#8be9fd\" fill-rule=\"evenodd\" fill-opacity=\"1\"/>\n",
       "<polyline clip-path=\"url(#clip082)\" style=\"stroke:#f8f8f2; stroke-linecap:round; stroke-linejoin:round; stroke-width:4; stroke-opacity:1; fill:none\" points=\"1506.69,149.31 1506.69,1486.45 1544.99,1486.45 1544.99,149.31 1506.69,149.31 \"/>\n",
       "<path clip-path=\"url(#clip082)\" d=\"M1544.99 47.2441 L1544.99 1486.45 L1583.29 1486.45 L1583.29 47.2441 L1544.99 47.2441 L1544.99 47.2441  Z\" fill=\"#8be9fd\" fill-rule=\"evenodd\" fill-opacity=\"1\"/>\n",
       "<polyline clip-path=\"url(#clip082)\" style=\"stroke:#f8f8f2; stroke-linecap:round; stroke-linejoin:round; stroke-width:4; stroke-opacity:1; fill:none\" points=\"1544.99,47.2441 1544.99,1486.45 1583.29,1486.45 1583.29,47.2441 1544.99,47.2441 \"/>\n",
       "<path clip-path=\"url(#clip082)\" d=\"M1583.29 131.5 L1583.29 1486.45 L1621.59 1486.45 L1621.59 131.5 L1583.29 131.5 L1583.29 131.5  Z\" fill=\"#8be9fd\" fill-rule=\"evenodd\" fill-opacity=\"1\"/>\n",
       "<polyline clip-path=\"url(#clip082)\" style=\"stroke:#f8f8f2; stroke-linecap:round; stroke-linejoin:round; stroke-width:4; stroke-opacity:1; fill:none\" points=\"1583.29,131.5 1583.29,1486.45 1621.59,1486.45 1621.59,131.5 1583.29,131.5 \"/>\n",
       "<path clip-path=\"url(#clip082)\" d=\"M1621.59 141.09 L1621.59 1486.45 L1659.9 1486.45 L1659.9 141.09 L1621.59 141.09 L1621.59 141.09  Z\" fill=\"#8be9fd\" fill-rule=\"evenodd\" fill-opacity=\"1\"/>\n",
       "<polyline clip-path=\"url(#clip082)\" style=\"stroke:#f8f8f2; stroke-linecap:round; stroke-linejoin:round; stroke-width:4; stroke-opacity:1; fill:none\" points=\"1621.59,141.09 1621.59,1486.45 1659.9,1486.45 1659.9,141.09 1621.59,141.09 \"/>\n",
       "<path clip-path=\"url(#clip082)\" d=\"M1659.9 118.485 L1659.9 1486.45 L1698.2 1486.45 L1698.2 118.485 L1659.9 118.485 L1659.9 118.485  Z\" fill=\"#8be9fd\" fill-rule=\"evenodd\" fill-opacity=\"1\"/>\n",
       "<polyline clip-path=\"url(#clip082)\" style=\"stroke:#f8f8f2; stroke-linecap:round; stroke-linejoin:round; stroke-width:4; stroke-opacity:1; fill:none\" points=\"1659.9,118.485 1659.9,1486.45 1698.2,1486.45 1698.2,118.485 1659.9,118.485 \"/>\n",
       "<path clip-path=\"url(#clip082)\" d=\"M1698.2 97.9348 L1698.2 1486.45 L1736.5 1486.45 L1736.5 97.9348 L1698.2 97.9348 L1698.2 97.9348  Z\" fill=\"#8be9fd\" fill-rule=\"evenodd\" fill-opacity=\"1\"/>\n",
       "<polyline clip-path=\"url(#clip082)\" style=\"stroke:#f8f8f2; stroke-linecap:round; stroke-linejoin:round; stroke-width:4; stroke-opacity:1; fill:none\" points=\"1698.2,97.9348 1698.2,1486.45 1736.5,1486.45 1736.5,97.9348 1698.2,97.9348 \"/>\n",
       "<path clip-path=\"url(#clip082)\" d=\"M1736.5 115.745 L1736.5 1486.45 L1774.8 1486.45 L1774.8 115.745 L1736.5 115.745 L1736.5 115.745  Z\" fill=\"#8be9fd\" fill-rule=\"evenodd\" fill-opacity=\"1\"/>\n",
       "<polyline clip-path=\"url(#clip082)\" style=\"stroke:#f8f8f2; stroke-linecap:round; stroke-linejoin:round; stroke-width:4; stroke-opacity:1; fill:none\" points=\"1736.5,115.745 1736.5,1486.45 1774.8,1486.45 1774.8,115.745 1736.5,115.745 \"/>\n",
       "<path clip-path=\"url(#clip082)\" d=\"M1774.8 126.02 L1774.8 1486.45 L1813.1 1486.45 L1813.1 126.02 L1774.8 126.02 L1774.8 126.02  Z\" fill=\"#8be9fd\" fill-rule=\"evenodd\" fill-opacity=\"1\"/>\n",
       "<polyline clip-path=\"url(#clip082)\" style=\"stroke:#f8f8f2; stroke-linecap:round; stroke-linejoin:round; stroke-width:4; stroke-opacity:1; fill:none\" points=\"1774.8,126.02 1774.8,1486.45 1813.1,1486.45 1813.1,126.02 1774.8,126.02 \"/>\n",
       "<path clip-path=\"url(#clip082)\" d=\"M1813.1 109.58 L1813.1 1486.45 L1851.4 1486.45 L1851.4 109.58 L1813.1 109.58 L1813.1 109.58  Z\" fill=\"#8be9fd\" fill-rule=\"evenodd\" fill-opacity=\"1\"/>\n",
       "<polyline clip-path=\"url(#clip082)\" style=\"stroke:#f8f8f2; stroke-linecap:round; stroke-linejoin:round; stroke-width:4; stroke-opacity:1; fill:none\" points=\"1813.1,109.58 1813.1,1486.45 1851.4,1486.45 1851.4,109.58 1813.1,109.58 \"/>\n",
       "<path clip-path=\"url(#clip082)\" d=\"M1851.4 147.94 L1851.4 1486.45 L1889.7 1486.45 L1889.7 147.94 L1851.4 147.94 L1851.4 147.94  Z\" fill=\"#8be9fd\" fill-rule=\"evenodd\" fill-opacity=\"1\"/>\n",
       "<polyline clip-path=\"url(#clip082)\" style=\"stroke:#f8f8f2; stroke-linecap:round; stroke-linejoin:round; stroke-width:4; stroke-opacity:1; fill:none\" points=\"1851.4,147.94 1851.4,1486.45 1889.7,1486.45 1889.7,147.94 1851.4,147.94 \"/>\n",
       "<path clip-path=\"url(#clip082)\" d=\"M1889.7 69.1644 L1889.7 1486.45 L1928 1486.45 L1928 69.1644 L1889.7 69.1644 L1889.7 69.1644  Z\" fill=\"#8be9fd\" fill-rule=\"evenodd\" fill-opacity=\"1\"/>\n",
       "<polyline clip-path=\"url(#clip082)\" style=\"stroke:#f8f8f2; stroke-linecap:round; stroke-linejoin:round; stroke-width:4; stroke-opacity:1; fill:none\" points=\"1889.7,69.1644 1889.7,1486.45 1928,1486.45 1928,69.1644 1889.7,69.1644 \"/>\n",
       "<path clip-path=\"url(#clip082)\" d=\"M1928 85.6046 L1928 1486.45 L1966.3 1486.45 L1966.3 85.6046 L1928 85.6046 L1928 85.6046  Z\" fill=\"#8be9fd\" fill-rule=\"evenodd\" fill-opacity=\"1\"/>\n",
       "<polyline clip-path=\"url(#clip082)\" style=\"stroke:#f8f8f2; stroke-linecap:round; stroke-linejoin:round; stroke-width:4; stroke-opacity:1; fill:none\" points=\"1928,85.6046 1928,1486.45 1966.3,1486.45 1966.3,85.6046 1928,85.6046 \"/>\n",
       "<path clip-path=\"url(#clip082)\" d=\"M1966.3 78.7545 L1966.3 1486.45 L2004.6 1486.45 L2004.6 78.7545 L1966.3 78.7545 L1966.3 78.7545  Z\" fill=\"#8be9fd\" fill-rule=\"evenodd\" fill-opacity=\"1\"/>\n",
       "<polyline clip-path=\"url(#clip082)\" style=\"stroke:#f8f8f2; stroke-linecap:round; stroke-linejoin:round; stroke-width:4; stroke-opacity:1; fill:none\" points=\"1966.3,78.7545 1966.3,1486.45 2004.6,1486.45 2004.6,78.7545 1966.3,78.7545 \"/>\n",
       "<path clip-path=\"url(#clip082)\" d=\"M2004.6 87.6596 L2004.6 1486.45 L2042.9 1486.45 L2042.9 87.6596 L2004.6 87.6596 L2004.6 87.6596  Z\" fill=\"#8be9fd\" fill-rule=\"evenodd\" fill-opacity=\"1\"/>\n",
       "<polyline clip-path=\"url(#clip082)\" style=\"stroke:#f8f8f2; stroke-linecap:round; stroke-linejoin:round; stroke-width:4; stroke-opacity:1; fill:none\" points=\"2004.6,87.6596 2004.6,1486.45 2042.9,1486.45 2042.9,87.6596 2004.6,87.6596 \"/>\n",
       "<path clip-path=\"url(#clip082)\" d=\"M2042.9 95.1947 L2042.9 1486.45 L2081.2 1486.45 L2081.2 95.1947 L2042.9 95.1947 L2042.9 95.1947  Z\" fill=\"#8be9fd\" fill-rule=\"evenodd\" fill-opacity=\"1\"/>\n",
       "<polyline clip-path=\"url(#clip082)\" style=\"stroke:#f8f8f2; stroke-linecap:round; stroke-linejoin:round; stroke-width:4; stroke-opacity:1; fill:none\" points=\"2042.9,95.1947 2042.9,1486.45 2081.2,1486.45 2081.2,95.1947 2042.9,95.1947 \"/>\n",
       "<path clip-path=\"url(#clip082)\" d=\"M2081.2 146.57 L2081.2 1486.45 L2119.5 1486.45 L2119.5 146.57 L2081.2 146.57 L2081.2 146.57  Z\" fill=\"#8be9fd\" fill-rule=\"evenodd\" fill-opacity=\"1\"/>\n",
       "<polyline clip-path=\"url(#clip082)\" style=\"stroke:#f8f8f2; stroke-linecap:round; stroke-linejoin:round; stroke-width:4; stroke-opacity:1; fill:none\" points=\"2081.2,146.57 2081.2,1486.45 2119.5,1486.45 2119.5,146.57 2081.2,146.57 \"/>\n",
       "<path clip-path=\"url(#clip082)\" d=\"M2119.5 141.775 L2119.5 1486.45 L2157.81 1486.45 L2157.81 141.775 L2119.5 141.775 L2119.5 141.775  Z\" fill=\"#8be9fd\" fill-rule=\"evenodd\" fill-opacity=\"1\"/>\n",
       "<polyline clip-path=\"url(#clip082)\" style=\"stroke:#f8f8f2; stroke-linecap:round; stroke-linejoin:round; stroke-width:4; stroke-opacity:1; fill:none\" points=\"2119.5,141.775 2119.5,1486.45 2157.81,1486.45 2157.81,141.775 2119.5,141.775 \"/>\n",
       "<path clip-path=\"url(#clip082)\" d=\"M2157.81 173.286 L2157.81 1486.45 L2196.11 1486.45 L2196.11 173.286 L2157.81 173.286 L2157.81 173.286  Z\" fill=\"#8be9fd\" fill-rule=\"evenodd\" fill-opacity=\"1\"/>\n",
       "<polyline clip-path=\"url(#clip082)\" style=\"stroke:#f8f8f2; stroke-linecap:round; stroke-linejoin:round; stroke-width:4; stroke-opacity:1; fill:none\" points=\"2157.81,173.286 2157.81,1486.45 2196.11,1486.45 2196.11,173.286 2157.81,173.286 \"/>\n",
       "<path clip-path=\"url(#clip082)\" d=\"M2196.11 90.3997 L2196.11 1486.45 L2234.41 1486.45 L2234.41 90.3997 L2196.11 90.3997 L2196.11 90.3997  Z\" fill=\"#8be9fd\" fill-rule=\"evenodd\" fill-opacity=\"1\"/>\n",
       "<polyline clip-path=\"url(#clip082)\" style=\"stroke:#f8f8f2; stroke-linecap:round; stroke-linejoin:round; stroke-width:4; stroke-opacity:1; fill:none\" points=\"2196.11,90.3997 2196.11,1486.45 2234.41,1486.45 2234.41,90.3997 2196.11,90.3997 \"/>\n",
       "<circle clip-path=\"url(#clip082)\" style=\"fill:#8be9fd; stroke:none; fill-opacity:0\" cx=\"338.519\" cy=\"158.901\" r=\"2\"/>\n",
       "<circle clip-path=\"url(#clip082)\" style=\"fill:#8be9fd; stroke:none; fill-opacity:0\" cx=\"376.82\" cy=\"153.42\" r=\"2\"/>\n",
       "<circle clip-path=\"url(#clip082)\" style=\"fill:#8be9fd; stroke:none; fill-opacity:0\" cx=\"415.121\" cy=\"128.075\" r=\"2\"/>\n",
       "<circle clip-path=\"url(#clip082)\" style=\"fill:#8be9fd; stroke:none; fill-opacity:0\" cx=\"453.421\" cy=\"150.68\" r=\"2\"/>\n",
       "<circle clip-path=\"url(#clip082)\" style=\"fill:#8be9fd; stroke:none; fill-opacity:0\" cx=\"491.722\" cy=\"139.035\" r=\"2\"/>\n",
       "<circle clip-path=\"url(#clip082)\" style=\"fill:#8be9fd; stroke:none; fill-opacity:0\" cx=\"530.023\" cy=\"69.1644\" r=\"2\"/>\n",
       "<circle clip-path=\"url(#clip082)\" style=\"fill:#8be9fd; stroke:none; fill-opacity:0\" cx=\"568.324\" cy=\"90.3997\" r=\"2\"/>\n",
       "<circle clip-path=\"url(#clip082)\" style=\"fill:#8be9fd; stroke:none; fill-opacity:0\" cx=\"606.624\" cy=\"162.326\" r=\"2\"/>\n",
       "<circle clip-path=\"url(#clip082)\" style=\"fill:#8be9fd; stroke:none; fill-opacity:0\" cx=\"644.925\" cy=\"97.9348\" r=\"2\"/>\n",
       "<circle clip-path=\"url(#clip082)\" style=\"fill:#8be9fd; stroke:none; fill-opacity:0\" cx=\"683.226\" cy=\"122.595\" r=\"2\"/>\n",
       "<circle clip-path=\"url(#clip082)\" style=\"fill:#8be9fd; stroke:none; fill-opacity:0\" cx=\"721.527\" cy=\"94.5097\" r=\"2\"/>\n",
       "<circle clip-path=\"url(#clip082)\" style=\"fill:#8be9fd; stroke:none; fill-opacity:0\" cx=\"759.827\" cy=\"118.485\" r=\"2\"/>\n",
       "<circle clip-path=\"url(#clip082)\" style=\"fill:#8be9fd; stroke:none; fill-opacity:0\" cx=\"798.128\" cy=\"91.0847\" r=\"2\"/>\n",
       "<circle clip-path=\"url(#clip082)\" style=\"fill:#8be9fd; stroke:none; fill-opacity:0\" cx=\"836.429\" cy=\"95.1947\" r=\"2\"/>\n",
       "<circle clip-path=\"url(#clip082)\" style=\"fill:#8be9fd; stroke:none; fill-opacity:0\" cx=\"874.73\" cy=\"89.0296\" r=\"2\"/>\n",
       "<circle clip-path=\"url(#clip082)\" style=\"fill:#8be9fd; stroke:none; fill-opacity:0\" cx=\"913.03\" cy=\"80.1245\" r=\"2\"/>\n",
       "<circle clip-path=\"url(#clip082)\" style=\"fill:#8be9fd; stroke:none; fill-opacity:0\" cx=\"951.331\" cy=\"79.4395\" r=\"2\"/>\n",
       "<circle clip-path=\"url(#clip082)\" style=\"fill:#8be9fd; stroke:none; fill-opacity:0\" cx=\"989.632\" cy=\"91.7697\" r=\"2\"/>\n",
       "<circle clip-path=\"url(#clip082)\" style=\"fill:#8be9fd; stroke:none; fill-opacity:0\" cx=\"1027.93\" cy=\"173.286\" r=\"2\"/>\n",
       "<circle clip-path=\"url(#clip082)\" style=\"fill:#8be9fd; stroke:none; fill-opacity:0\" cx=\"1066.23\" cy=\"125.335\" r=\"2\"/>\n",
       "<circle clip-path=\"url(#clip082)\" style=\"fill:#8be9fd; stroke:none; fill-opacity:0\" cx=\"1104.53\" cy=\"130.815\" r=\"2\"/>\n",
       "<circle clip-path=\"url(#clip082)\" style=\"fill:#8be9fd; stroke:none; fill-opacity:0\" cx=\"1142.83\" cy=\"83.5496\" r=\"2\"/>\n",
       "<circle clip-path=\"url(#clip082)\" style=\"fill:#8be9fd; stroke:none; fill-opacity:0\" cx=\"1181.14\" cy=\"123.28\" r=\"2\"/>\n",
       "<circle clip-path=\"url(#clip082)\" style=\"fill:#8be9fd; stroke:none; fill-opacity:0\" cx=\"1219.44\" cy=\"117.8\" r=\"2\"/>\n",
       "<circle clip-path=\"url(#clip082)\" style=\"fill:#8be9fd; stroke:none; fill-opacity:0\" cx=\"1257.74\" cy=\"88.3446\" r=\"2\"/>\n",
       "<circle clip-path=\"url(#clip082)\" style=\"fill:#8be9fd; stroke:none; fill-opacity:0\" cx=\"1296.04\" cy=\"110.95\" r=\"2\"/>\n",
       "<circle clip-path=\"url(#clip082)\" style=\"fill:#8be9fd; stroke:none; fill-opacity:0\" cx=\"1334.34\" cy=\"126.02\" r=\"2\"/>\n",
       "<circle clip-path=\"url(#clip082)\" style=\"fill:#8be9fd; stroke:none; fill-opacity:0\" cx=\"1372.64\" cy=\"154.79\" r=\"2\"/>\n",
       "<circle clip-path=\"url(#clip082)\" style=\"fill:#8be9fd; stroke:none; fill-opacity:0\" cx=\"1410.94\" cy=\"166.436\" r=\"2\"/>\n",
       "<circle clip-path=\"url(#clip082)\" style=\"fill:#8be9fd; stroke:none; fill-opacity:0\" cx=\"1449.24\" cy=\"139.035\" r=\"2\"/>\n",
       "<circle clip-path=\"url(#clip082)\" style=\"fill:#8be9fd; stroke:none; fill-opacity:0\" cx=\"1487.54\" cy=\"116.43\" r=\"2\"/>\n",
       "<circle clip-path=\"url(#clip082)\" style=\"fill:#8be9fd; stroke:none; fill-opacity:0\" cx=\"1525.84\" cy=\"149.31\" r=\"2\"/>\n",
       "<circle clip-path=\"url(#clip082)\" style=\"fill:#8be9fd; stroke:none; fill-opacity:0\" cx=\"1564.14\" cy=\"47.2441\" r=\"2\"/>\n",
       "<circle clip-path=\"url(#clip082)\" style=\"fill:#8be9fd; stroke:none; fill-opacity:0\" cx=\"1602.44\" cy=\"131.5\" r=\"2\"/>\n",
       "<circle clip-path=\"url(#clip082)\" style=\"fill:#8be9fd; stroke:none; fill-opacity:0\" cx=\"1640.74\" cy=\"141.09\" r=\"2\"/>\n",
       "<circle clip-path=\"url(#clip082)\" style=\"fill:#8be9fd; stroke:none; fill-opacity:0\" cx=\"1679.05\" cy=\"118.485\" r=\"2\"/>\n",
       "<circle clip-path=\"url(#clip082)\" style=\"fill:#8be9fd; stroke:none; fill-opacity:0\" cx=\"1717.35\" cy=\"97.9348\" r=\"2\"/>\n",
       "<circle clip-path=\"url(#clip082)\" style=\"fill:#8be9fd; stroke:none; fill-opacity:0\" cx=\"1755.65\" cy=\"115.745\" r=\"2\"/>\n",
       "<circle clip-path=\"url(#clip082)\" style=\"fill:#8be9fd; stroke:none; fill-opacity:0\" cx=\"1793.95\" cy=\"126.02\" r=\"2\"/>\n",
       "<circle clip-path=\"url(#clip082)\" style=\"fill:#8be9fd; stroke:none; fill-opacity:0\" cx=\"1832.25\" cy=\"109.58\" r=\"2\"/>\n",
       "<circle clip-path=\"url(#clip082)\" style=\"fill:#8be9fd; stroke:none; fill-opacity:0\" cx=\"1870.55\" cy=\"147.94\" r=\"2\"/>\n",
       "<circle clip-path=\"url(#clip082)\" style=\"fill:#8be9fd; stroke:none; fill-opacity:0\" cx=\"1908.85\" cy=\"69.1644\" r=\"2\"/>\n",
       "<circle clip-path=\"url(#clip082)\" style=\"fill:#8be9fd; stroke:none; fill-opacity:0\" cx=\"1947.15\" cy=\"85.6046\" r=\"2\"/>\n",
       "<circle clip-path=\"url(#clip082)\" style=\"fill:#8be9fd; stroke:none; fill-opacity:0\" cx=\"1985.45\" cy=\"78.7545\" r=\"2\"/>\n",
       "<circle clip-path=\"url(#clip082)\" style=\"fill:#8be9fd; stroke:none; fill-opacity:0\" cx=\"2023.75\" cy=\"87.6596\" r=\"2\"/>\n",
       "<circle clip-path=\"url(#clip082)\" style=\"fill:#8be9fd; stroke:none; fill-opacity:0\" cx=\"2062.05\" cy=\"95.1947\" r=\"2\"/>\n",
       "<circle clip-path=\"url(#clip082)\" style=\"fill:#8be9fd; stroke:none; fill-opacity:0\" cx=\"2100.35\" cy=\"146.57\" r=\"2\"/>\n",
       "<circle clip-path=\"url(#clip082)\" style=\"fill:#8be9fd; stroke:none; fill-opacity:0\" cx=\"2138.65\" cy=\"141.775\" r=\"2\"/>\n",
       "<circle clip-path=\"url(#clip082)\" style=\"fill:#8be9fd; stroke:none; fill-opacity:0\" cx=\"2176.96\" cy=\"173.286\" r=\"2\"/>\n",
       "<circle clip-path=\"url(#clip082)\" style=\"fill:#8be9fd; stroke:none; fill-opacity:0\" cx=\"2215.26\" cy=\"90.3997\" r=\"2\"/>\n",
       "</svg>\n"
      ]
     },
     "execution_count": 87,
     "metadata": {},
     "output_type": "execute_result"
    }
   ],
   "source": [
    "x = rand(10^5)\n",
    "histogram(x, bins=64, legend=false)"
   ]
  },
  {
   "cell_type": "code",
   "execution_count": 88,
   "metadata": {},
   "outputs": [
    {
     "data": {
      "text/latex": [
       "\\textbf{Normal Distribution}\n",
       "\n"
      ],
      "text/markdown": [
       "**Normal Distribution**\n"
      ],
      "text/plain": [
       "  \u001b[1mNormal Distribution\u001b[22m"
      ]
     },
     "execution_count": 88,
     "metadata": {},
     "output_type": "execute_result"
    }
   ],
   "source": [
    "md\"**Normal Distribution**\""
   ]
  },
  {
   "cell_type": "code",
   "execution_count": 89,
   "metadata": {},
   "outputs": [],
   "source": [
    "?randn;"
   ]
  },
  {
   "cell_type": "code",
   "execution_count": 90,
   "metadata": {},
   "outputs": [
    {
     "data": {
      "image/png": "[encoded data removed]",
      "image/svg+xml": [
       "<?xml version=\"1.0\" encoding=\"utf-8\"?>\n",
       "<svg xmlns=\"http://www.w3.org/2000/svg\" xmlns:xlink=\"http://www.w3.org/1999/xlink\" width=\"600\" height=\"400\" viewBox=\"0 0 2400 1600\">\n",
       "<defs>\n",
       "  <clipPath id=\"clip120\">\n",
       "    <rect x=\"0\" y=\"0\" width=\"2400\" height=\"1600\"/>\n",
       "  </clipPath>\n",
       "</defs>\n",
       "<path clip-path=\"url(#clip120)\" d=\"M0 1600 L2400 1600 L2400 0 L0 0  Z\" fill=\"#282a36\" fill-rule=\"evenodd\" fill-opacity=\"1\"/>\n",
       "<defs>\n",
       "  <clipPath id=\"clip121\">\n",
       "    <rect x=\"480\" y=\"0\" width=\"1681\" height=\"1600\"/>\n",
       "  </clipPath>\n",
       "</defs>\n",
       "<path clip-path=\"url(#clip120)\" d=\"M202.177 1486.45 L2352.76 1486.45 L2352.76 47.2441 L202.177 47.2441  Z\" fill=\"#30343b\" fill-rule=\"evenodd\" fill-opacity=\"1\"/>\n",
       "<defs>\n",
       "  <clipPath id=\"clip122\">\n",
       "    <rect x=\"202\" y=\"47\" width=\"2152\" height=\"1440\"/>\n",
       "  </clipPath>\n",
       "</defs>\n",
       "<polyline clip-path=\"url(#clip122)\" style=\"stroke:#f8f8f2; stroke-linecap:round; stroke-linejoin:round; stroke-width:2; stroke-opacity:0.1; fill:none\" points=\"554.831,1486.45 554.831,47.2441 \"/>\n",
       "<polyline clip-path=\"url(#clip122)\" style=\"stroke:#f8f8f2; stroke-linecap:round; stroke-linejoin:round; stroke-width:2; stroke-opacity:0.1; fill:none\" points=\"945.445,1486.45 945.445,47.2441 \"/>\n",
       "<polyline clip-path=\"url(#clip122)\" style=\"stroke:#f8f8f2; stroke-linecap:round; stroke-linejoin:round; stroke-width:2; stroke-opacity:0.1; fill:none\" points=\"1336.06,1486.45 1336.06,47.2441 \"/>\n",
       "<polyline clip-path=\"url(#clip122)\" style=\"stroke:#f8f8f2; stroke-linecap:round; stroke-linejoin:round; stroke-width:2; stroke-opacity:0.1; fill:none\" points=\"1726.67,1486.45 1726.67,47.2441 \"/>\n",
       "<polyline clip-path=\"url(#clip122)\" style=\"stroke:#f8f8f2; stroke-linecap:round; stroke-linejoin:round; stroke-width:2; stroke-opacity:0.1; fill:none\" points=\"2117.29,1486.45 2117.29,47.2441 \"/>\n",
       "<polyline clip-path=\"url(#clip122)\" style=\"stroke:#f8f8f2; stroke-linecap:round; stroke-linejoin:round; stroke-width:2; stroke-opacity:0.1; fill:none\" points=\"202.177,1486.45 2352.76,1486.45 \"/>\n",
       "<polyline clip-path=\"url(#clip122)\" style=\"stroke:#f8f8f2; stroke-linecap:round; stroke-linejoin:round; stroke-width:2; stroke-opacity:0.1; fill:none\" points=\"202.177,1121.86 2352.76,1121.86 \"/>\n",
       "<polyline clip-path=\"url(#clip122)\" style=\"stroke:#f8f8f2; stroke-linecap:round; stroke-linejoin:round; stroke-width:2; stroke-opacity:0.1; fill:none\" points=\"202.177,757.276 2352.76,757.276 \"/>\n",
       "<polyline clip-path=\"url(#clip122)\" style=\"stroke:#f8f8f2; stroke-linecap:round; stroke-linejoin:round; stroke-width:2; stroke-opacity:0.1; fill:none\" points=\"202.177,392.689 2352.76,392.689 \"/>\n",
       "<polyline clip-path=\"url(#clip120)\" style=\"stroke:#f8f8f2; stroke-linecap:round; stroke-linejoin:round; stroke-width:4; stroke-opacity:1; fill:none\" points=\"202.177,1486.45 2352.76,1486.45 \"/>\n",
       "<polyline clip-path=\"url(#clip120)\" style=\"stroke:#f8f8f2; stroke-linecap:round; stroke-linejoin:round; stroke-width:4; stroke-opacity:1; fill:none\" points=\"554.831,1486.45 554.831,1467.55 \"/>\n",
       "<polyline clip-path=\"url(#clip120)\" style=\"stroke:#f8f8f2; stroke-linecap:round; stroke-linejoin:round; stroke-width:4; stroke-opacity:1; fill:none\" points=\"945.445,1486.45 945.445,1467.55 \"/>\n",
       "<polyline clip-path=\"url(#clip120)\" style=\"stroke:#f8f8f2; stroke-linecap:round; stroke-linejoin:round; stroke-width:4; stroke-opacity:1; fill:none\" points=\"1336.06,1486.45 1336.06,1467.55 \"/>\n",
       "<polyline clip-path=\"url(#clip120)\" style=\"stroke:#f8f8f2; stroke-linecap:round; stroke-linejoin:round; stroke-width:4; stroke-opacity:1; fill:none\" points=\"1726.67,1486.45 1726.67,1467.55 \"/>\n",
       "<polyline clip-path=\"url(#clip120)\" style=\"stroke:#f8f8f2; stroke-linecap:round; stroke-linejoin:round; stroke-width:4; stroke-opacity:1; fill:none\" points=\"2117.29,1486.45 2117.29,1467.55 \"/>\n",
       "<path clip-path=\"url(#clip120)\" d=\"M523.731 1532.02 L553.407 1532.02 L553.407 1535.95 L523.731 1535.95 L523.731 1532.02 Z\" fill=\"#f8f8f2\" fill-rule=\"nonzero\" fill-opacity=\"1\" /><path clip-path=\"url(#clip120)\" d=\"M576.347 1518.36 L564.541 1536.81 L576.347 1536.81 L576.347 1518.36 M575.12 1514.29 L581 1514.29 L581 1536.81 L585.93 1536.81 L585.93 1540.7 L581 1540.7 L581 1548.85 L576.347 1548.85 L576.347 1540.7 L560.745 1540.7 L560.745 1536.19 L575.12 1514.29 Z\" fill=\"#f8f8f2\" fill-rule=\"nonzero\" fill-opacity=\"1\" /><path clip-path=\"url(#clip120)\" d=\"M915.387 1532.02 L945.063 1532.02 L945.063 1535.95 L915.387 1535.95 L915.387 1532.02 Z\" fill=\"#f8f8f2\" fill-rule=\"nonzero\" fill-opacity=\"1\" /><path clip-path=\"url(#clip120)\" d=\"M959.183 1544.91 L975.502 1544.91 L975.502 1548.85 L953.558 1548.85 L953.558 1544.91 Q956.22 1542.16 960.803 1537.53 Q965.41 1532.88 966.59 1531.53 Q968.836 1529.01 969.715 1527.27 Q970.618 1525.51 970.618 1523.82 Q970.618 1521.07 968.674 1519.33 Q966.752 1517.6 963.65 1517.6 Q961.451 1517.6 958.998 1518.36 Q956.567 1519.13 953.789 1520.68 L953.789 1515.95 Q956.613 1514.82 959.067 1514.24 Q961.521 1513.66 963.558 1513.66 Q968.928 1513.66 972.123 1516.35 Q975.317 1519.03 975.317 1523.52 Q975.317 1525.65 974.507 1527.57 Q973.72 1529.47 971.613 1532.07 Q971.035 1532.74 967.933 1535.95 Q964.831 1539.15 959.183 1544.91 Z\" fill=\"#f8f8f2\" fill-rule=\"nonzero\" fill-opacity=\"1\" /><path clip-path=\"url(#clip120)\" d=\"M1336.06 1517.37 Q1332.45 1517.37 1330.62 1520.93 Q1328.81 1524.47 1328.81 1531.6 Q1328.81 1538.71 1330.62 1542.27 Q1332.45 1545.82 1336.06 1545.82 Q1339.69 1545.82 1341.5 1542.27 Q1343.33 1538.71 1343.33 1531.6 Q1343.33 1524.47 1341.5 1520.93 Q1339.69 1517.37 1336.06 1517.37 M1336.06 1513.66 Q1341.87 1513.66 1344.92 1518.27 Q1348 1522.85 1348 1531.6 Q1348 1540.33 1344.92 1544.94 Q1341.87 1549.52 1336.06 1549.52 Q1330.25 1549.52 1327.17 1544.94 Q1324.11 1540.33 1324.11 1531.6 Q1324.11 1522.85 1327.17 1518.27 Q1330.25 1513.66 1336.06 1513.66 Z\" fill=\"#f8f8f2\" fill-rule=\"nonzero\" fill-opacity=\"1\" /><path clip-path=\"url(#clip120)\" d=\"M1721.33 1544.91 L1737.64 1544.91 L1737.64 1548.85 L1715.7 1548.85 L1715.7 1544.91 Q1718.36 1542.16 1722.95 1537.53 Q1727.55 1532.88 1728.73 1531.53 Q1730.98 1529.01 1731.86 1527.27 Q1732.76 1525.51 1732.76 1523.82 Q1732.76 1521.07 1730.82 1519.33 Q1728.89 1517.6 1725.79 1517.6 Q1723.59 1517.6 1721.14 1518.36 Q1718.71 1519.13 1715.93 1520.68 L1715.93 1515.95 Q1718.76 1514.82 1721.21 1514.24 Q1723.66 1513.66 1725.7 1513.66 Q1731.07 1513.66 1734.26 1516.35 Q1737.46 1519.03 1737.46 1523.52 Q1737.46 1525.65 1736.65 1527.57 Q1735.86 1529.47 1733.76 1532.07 Q1733.18 1532.74 1730.07 1535.95 Q1726.97 1539.15 1721.33 1544.91 Z\" fill=\"#f8f8f2\" fill-rule=\"nonzero\" fill-opacity=\"1\" /><path clip-path=\"url(#clip120)\" d=\"M2120.3 1518.36 L2108.49 1536.81 L2120.3 1536.81 L2120.3 1518.36 M2119.07 1514.29 L2124.95 1514.29 L2124.95 1536.81 L2129.88 1536.81 L2129.88 1540.7 L2124.95 1540.7 L2124.95 1548.85 L2120.3 1548.85 L2120.3 1540.7 L2104.69 1540.7 L2104.69 1536.19 L2119.07 1514.29 Z\" fill=\"#f8f8f2\" fill-rule=\"nonzero\" fill-opacity=\"1\" /><polyline clip-path=\"url(#clip120)\" style=\"stroke:#f8f8f2; stroke-linecap:round; stroke-linejoin:round; stroke-width:4; stroke-opacity:1; fill:none\" points=\"202.177,1486.45 202.177,47.2441 \"/>\n",
       "<polyline clip-path=\"url(#clip120)\" style=\"stroke:#f8f8f2; stroke-linecap:round; stroke-linejoin:round; stroke-width:4; stroke-opacity:1; fill:none\" points=\"202.177,1486.45 221.074,1486.45 \"/>\n",
       "<polyline clip-path=\"url(#clip120)\" style=\"stroke:#f8f8f2; stroke-linecap:round; stroke-linejoin:round; stroke-width:4; stroke-opacity:1; fill:none\" points=\"202.177,1121.86 221.074,1121.86 \"/>\n",
       "<polyline clip-path=\"url(#clip120)\" style=\"stroke:#f8f8f2; stroke-linecap:round; stroke-linejoin:round; stroke-width:4; stroke-opacity:1; fill:none\" points=\"202.177,757.276 221.074,757.276 \"/>\n",
       "<polyline clip-path=\"url(#clip120)\" style=\"stroke:#f8f8f2; stroke-linecap:round; stroke-linejoin:round; stroke-width:4; stroke-opacity:1; fill:none\" points=\"202.177,392.689 221.074,392.689 \"/>\n",
       "<path clip-path=\"url(#clip120)\" d=\"M154.232 1472.25 Q150.621 1472.25 148.793 1475.81 Q146.987 1479.35 146.987 1486.48 Q146.987 1493.59 148.793 1497.15 Q150.621 1500.7 154.232 1500.7 Q157.867 1500.7 159.672 1497.15 Q161.501 1493.59 161.501 1486.48 Q161.501 1479.35 159.672 1475.81 Q157.867 1472.25 154.232 1472.25 M154.232 1468.54 Q160.042 1468.54 163.098 1473.15 Q166.177 1477.73 166.177 1486.48 Q166.177 1495.21 163.098 1499.82 Q160.042 1504.4 154.232 1504.4 Q148.422 1504.4 145.343 1499.82 Q142.288 1495.21 142.288 1486.48 Q142.288 1477.73 145.343 1473.15 Q148.422 1468.54 154.232 1468.54 Z\" fill=\"#f8f8f2\" fill-rule=\"nonzero\" fill-opacity=\"1\" /><path clip-path=\"url(#clip120)\" d=\"M57.7745 1135.21 L74.0939 1135.21 L74.0939 1139.14 L52.1495 1139.14 L52.1495 1135.21 Q54.8115 1132.45 59.3949 1127.82 Q64.0013 1123.17 65.1819 1121.83 Q67.4272 1119.3 68.3068 1117.57 Q69.2096 1115.81 69.2096 1114.12 Q69.2096 1111.36 67.2652 1109.63 Q65.3439 1107.89 62.2421 1107.89 Q60.043 1107.89 57.5893 1108.66 Q55.1588 1109.42 52.381 1110.97 L52.381 1106.25 Q55.2051 1105.11 57.6588 1104.54 Q60.1124 1103.96 62.1495 1103.96 Q67.5198 1103.96 70.7142 1106.64 Q73.9087 1109.33 73.9087 1113.82 Q73.9087 1115.95 73.0985 1117.87 Q72.3115 1119.77 70.205 1122.36 Q69.6263 1123.03 66.5245 1126.25 Q63.4226 1129.44 57.7745 1135.21 Z\" fill=\"#f8f8f2\" fill-rule=\"nonzero\" fill-opacity=\"1\" /><path clip-path=\"url(#clip120)\" d=\"M93.9086 1107.66 Q90.2975 1107.66 88.4688 1111.23 Q86.6632 1114.77 86.6632 1121.9 Q86.6632 1129 88.4688 1132.57 Q90.2975 1136.11 93.9086 1136.11 Q97.5428 1136.11 99.3483 1132.57 Q101.177 1129 101.177 1121.9 Q101.177 1114.77 99.3483 1111.23 Q97.5428 1107.66 93.9086 1107.66 M93.9086 1103.96 Q99.7187 1103.96 102.774 1108.56 Q105.853 1113.15 105.853 1121.9 Q105.853 1130.62 102.774 1135.23 Q99.7187 1139.81 93.9086 1139.81 Q88.0984 1139.81 85.0197 1135.23 Q81.9642 1130.62 81.9642 1121.9 Q81.9642 1113.15 85.0197 1108.56 Q88.0984 1103.96 93.9086 1103.96 Z\" fill=\"#f8f8f2\" fill-rule=\"nonzero\" fill-opacity=\"1\" /><path clip-path=\"url(#clip120)\" d=\"M124.07 1107.66 Q120.459 1107.66 118.631 1111.23 Q116.825 1114.77 116.825 1121.9 Q116.825 1129 118.631 1132.57 Q120.459 1136.11 124.07 1136.11 Q127.705 1136.11 129.51 1132.57 Q131.339 1129 131.339 1121.9 Q131.339 1114.77 129.51 1111.23 Q127.705 1107.66 124.07 1107.66 M124.07 1103.96 Q129.881 1103.96 132.936 1108.56 Q136.015 1113.15 136.015 1121.9 Q136.015 1130.62 132.936 1135.23 Q129.881 1139.81 124.07 1139.81 Q118.26 1139.81 115.182 1135.23 Q112.126 1130.62 112.126 1121.9 Q112.126 1113.15 115.182 1108.56 Q118.26 1103.96 124.07 1103.96 Z\" fill=\"#f8f8f2\" fill-rule=\"nonzero\" fill-opacity=\"1\" /><path clip-path=\"url(#clip120)\" d=\"M154.232 1107.66 Q150.621 1107.66 148.793 1111.23 Q146.987 1114.77 146.987 1121.9 Q146.987 1129 148.793 1132.57 Q150.621 1136.11 154.232 1136.11 Q157.867 1136.11 159.672 1132.57 Q161.501 1129 161.501 1121.9 Q161.501 1114.77 159.672 1111.23 Q157.867 1107.66 154.232 1107.66 M154.232 1103.96 Q160.042 1103.96 163.098 1108.56 Q166.177 1113.15 166.177 1121.9 Q166.177 1130.62 163.098 1135.23 Q160.042 1139.81 154.232 1139.81 Q148.422 1139.81 145.343 1135.23 Q142.288 1130.62 142.288 1121.9 Q142.288 1113.15 145.343 1108.56 Q148.422 1103.96 154.232 1103.96 Z\" fill=\"#f8f8f2\" fill-rule=\"nonzero\" fill-opacity=\"1\" /><path clip-path=\"url(#clip120)\" d=\"M66.5939 744.07 L54.7884 762.519 L66.5939 762.519 L66.5939 744.07 M65.367 739.996 L71.2466 739.996 L71.2466 762.519 L76.1772 762.519 L76.1772 766.407 L71.2466 766.407 L71.2466 774.556 L66.5939 774.556 L66.5939 766.407 L50.9921 766.407 L50.9921 761.894 L65.367 739.996 Z\" fill=\"#f8f8f2\" fill-rule=\"nonzero\" fill-opacity=\"1\" /><path clip-path=\"url(#clip120)\" d=\"M93.9086 743.074 Q90.2975 743.074 88.4688 746.639 Q86.6632 750.181 86.6632 757.31 Q86.6632 764.417 88.4688 767.982 Q90.2975 771.523 93.9086 771.523 Q97.5428 771.523 99.3483 767.982 Q101.177 764.417 101.177 757.31 Q101.177 750.181 99.3483 746.639 Q97.5428 743.074 93.9086 743.074 M93.9086 739.371 Q99.7187 739.371 102.774 743.977 Q105.853 748.56 105.853 757.31 Q105.853 766.037 102.774 770.644 Q99.7187 775.227 93.9086 775.227 Q88.0984 775.227 85.0197 770.644 Q81.9642 766.037 81.9642 757.31 Q81.9642 748.56 85.0197 743.977 Q88.0984 739.371 93.9086 739.371 Z\" fill=\"#f8f8f2\" fill-rule=\"nonzero\" fill-opacity=\"1\" /><path clip-path=\"url(#clip120)\" d=\"M124.07 743.074 Q120.459 743.074 118.631 746.639 Q116.825 750.181 116.825 757.31 Q116.825 764.417 118.631 767.982 Q120.459 771.523 124.07 771.523 Q127.705 771.523 129.51 767.982 Q131.339 764.417 131.339 757.31 Q131.339 750.181 129.51 746.639 Q127.705 743.074 124.07 743.074 M124.07 739.371 Q129.881 739.371 132.936 743.977 Q136.015 748.56 136.015 757.31 Q136.015 766.037 132.936 770.644 Q129.881 775.227 124.07 775.227 Q118.26 775.227 115.182 770.644 Q112.126 766.037 112.126 757.31 Q112.126 748.56 115.182 743.977 Q118.26 739.371 124.07 739.371 Z\" fill=\"#f8f8f2\" fill-rule=\"nonzero\" fill-opacity=\"1\" /><path clip-path=\"url(#clip120)\" d=\"M154.232 743.074 Q150.621 743.074 148.793 746.639 Q146.987 750.181 146.987 757.31 Q146.987 764.417 148.793 767.982 Q150.621 771.523 154.232 771.523 Q157.867 771.523 159.672 767.982 Q161.501 764.417 161.501 757.31 Q161.501 750.181 159.672 746.639 Q157.867 743.074 154.232 743.074 M154.232 739.371 Q160.042 739.371 163.098 743.977 Q166.177 748.56 166.177 757.31 Q166.177 766.037 163.098 770.644 Q160.042 775.227 154.232 775.227 Q148.422 775.227 145.343 770.644 Q142.288 766.037 142.288 757.31 Q142.288 748.56 145.343 743.977 Q148.422 739.371 154.232 739.371 Z\" fill=\"#f8f8f2\" fill-rule=\"nonzero\" fill-opacity=\"1\" /><path clip-path=\"url(#clip120)\" d=\"M64.3254 390.826 Q61.1773 390.826 59.3254 392.979 Q57.4967 395.132 57.4967 398.882 Q57.4967 402.608 59.3254 404.784 Q61.1773 406.937 64.3254 406.937 Q67.4735 406.937 69.3022 404.784 Q71.1541 402.608 71.1541 398.882 Q71.1541 395.132 69.3022 392.979 Q67.4735 390.826 64.3254 390.826 M73.6077 376.173 L73.6077 380.433 Q71.8485 379.599 70.0429 379.159 Q68.2606 378.72 66.5013 378.72 Q61.8717 378.72 59.418 381.845 Q56.9875 384.97 56.6402 391.289 Q58.006 389.275 60.0662 388.21 Q62.1263 387.122 64.6032 387.122 Q69.8115 387.122 72.8207 390.294 Q75.8531 393.442 75.8531 398.882 Q75.8531 404.206 72.705 407.423 Q69.5568 410.641 64.3254 410.641 Q58.33 410.641 55.1588 406.057 Q51.9875 401.451 51.9875 392.724 Q51.9875 384.53 55.8764 379.669 Q59.7652 374.784 66.3161 374.784 Q68.0754 374.784 69.8578 375.132 Q71.6633 375.479 73.6077 376.173 Z\" fill=\"#f8f8f2\" fill-rule=\"nonzero\" fill-opacity=\"1\" /><path clip-path=\"url(#clip120)\" d=\"M93.9086 378.488 Q90.2975 378.488 88.4688 382.053 Q86.6632 385.595 86.6632 392.724 Q86.6632 399.831 88.4688 403.395 Q90.2975 406.937 93.9086 406.937 Q97.5428 406.937 99.3483 403.395 Q101.177 399.831 101.177 392.724 Q101.177 385.595 99.3483 382.053 Q97.5428 378.488 93.9086 378.488 M93.9086 374.784 Q99.7187 374.784 102.774 379.391 Q105.853 383.974 105.853 392.724 Q105.853 401.451 102.774 406.057 Q99.7187 410.641 93.9086 410.641 Q88.0984 410.641 85.0197 406.057 Q81.9642 401.451 81.9642 392.724 Q81.9642 383.974 85.0197 379.391 Q88.0984 374.784 93.9086 374.784 Z\" fill=\"#f8f8f2\" fill-rule=\"nonzero\" fill-opacity=\"1\" /><path clip-path=\"url(#clip120)\" d=\"M124.07 378.488 Q120.459 378.488 118.631 382.053 Q116.825 385.595 116.825 392.724 Q116.825 399.831 118.631 403.395 Q120.459 406.937 124.07 406.937 Q127.705 406.937 129.51 403.395 Q131.339 399.831 131.339 392.724 Q131.339 385.595 129.51 382.053 Q127.705 378.488 124.07 378.488 M124.07 374.784 Q129.881 374.784 132.936 379.391 Q136.015 383.974 136.015 392.724 Q136.015 401.451 132.936 406.057 Q129.881 410.641 124.07 410.641 Q118.26 410.641 115.182 406.057 Q112.126 401.451 112.126 392.724 Q112.126 383.974 115.182 379.391 Q118.26 374.784 124.07 374.784 Z\" fill=\"#f8f8f2\" fill-rule=\"nonzero\" fill-opacity=\"1\" /><path clip-path=\"url(#clip120)\" d=\"M154.232 378.488 Q150.621 378.488 148.793 382.053 Q146.987 385.595 146.987 392.724 Q146.987 399.831 148.793 403.395 Q150.621 406.937 154.232 406.937 Q157.867 406.937 159.672 403.395 Q161.501 399.831 161.501 392.724 Q161.501 385.595 159.672 382.053 Q157.867 378.488 154.232 378.488 M154.232 374.784 Q160.042 374.784 163.098 379.391 Q166.177 383.974 166.177 392.724 Q166.177 401.451 163.098 406.057 Q160.042 410.641 154.232 410.641 Q148.422 410.641 145.343 406.057 Q142.288 401.451 142.288 392.724 Q142.288 383.974 145.343 379.391 Q148.422 374.784 154.232 374.784 Z\" fill=\"#f8f8f2\" fill-rule=\"nonzero\" fill-opacity=\"1\" /><path clip-path=\"url(#clip122)\" d=\"M320.462 1486.27 L320.462 1486.45 L359.524 1486.45 L359.524 1486.27 L320.462 1486.27 L320.462 1486.27  Z\" fill=\"#8be9fd\" fill-rule=\"evenodd\" fill-opacity=\"1\"/>\n",
       "<polyline clip-path=\"url(#clip122)\" style=\"stroke:#f8f8f2; stroke-linecap:round; stroke-linejoin:round; stroke-width:4; stroke-opacity:1; fill:none\" points=\"320.462,1486.27 320.462,1486.45 359.524,1486.45 359.524,1486.27 320.462,1486.27 \"/>\n",
       "<path clip-path=\"url(#clip122)\" d=\"M359.524 1486.45 L359.524 1486.45 L398.585 1486.45 L398.585 1486.45 L359.524 1486.45 L359.524 1486.45  Z\" fill=\"#8be9fd\" fill-rule=\"evenodd\" fill-opacity=\"1\"/>\n",
       "<polyline clip-path=\"url(#clip122)\" style=\"stroke:#f8f8f2; stroke-linecap:round; stroke-linejoin:round; stroke-width:4; stroke-opacity:1; fill:none\" points=\"359.524,1486.45 359.524,1486.45 398.585,1486.45 359.524,1486.45 \"/>\n",
       "<path clip-path=\"url(#clip122)\" d=\"M398.585 1486.45 L398.585 1486.45 L437.647 1486.45 L437.647 1486.45 L398.585 1486.45 L398.585 1486.45  Z\" fill=\"#8be9fd\" fill-rule=\"evenodd\" fill-opacity=\"1\"/>\n",
       "<polyline clip-path=\"url(#clip122)\" style=\"stroke:#f8f8f2; stroke-linecap:round; stroke-linejoin:round; stroke-width:4; stroke-opacity:1; fill:none\" points=\"398.585,1486.45 398.585,1486.45 437.647,1486.45 398.585,1486.45 \"/>\n",
       "<path clip-path=\"url(#clip122)\" d=\"M437.647 1486.27 L437.647 1486.45 L476.708 1486.45 L476.708 1486.27 L437.647 1486.27 L437.647 1486.27  Z\" fill=\"#8be9fd\" fill-rule=\"evenodd\" fill-opacity=\"1\"/>\n",
       "<polyline clip-path=\"url(#clip122)\" style=\"stroke:#f8f8f2; stroke-linecap:round; stroke-linejoin:round; stroke-width:4; stroke-opacity:1; fill:none\" points=\"437.647,1486.27 437.647,1486.45 476.708,1486.45 476.708,1486.27 437.647,1486.27 \"/>\n",
       "<path clip-path=\"url(#clip122)\" d=\"M476.708 1486.45 L476.708 1486.45 L515.769 1486.45 L515.769 1486.45 L476.708 1486.45 L476.708 1486.45  Z\" fill=\"#8be9fd\" fill-rule=\"evenodd\" fill-opacity=\"1\"/>\n",
       "<polyline clip-path=\"url(#clip122)\" style=\"stroke:#f8f8f2; stroke-linecap:round; stroke-linejoin:round; stroke-width:4; stroke-opacity:1; fill:none\" points=\"476.708,1486.45 476.708,1486.45 515.769,1486.45 476.708,1486.45 \"/>\n",
       "<path clip-path=\"url(#clip122)\" d=\"M515.769 1486.27 L515.769 1486.45 L554.831 1486.45 L554.831 1486.27 L515.769 1486.27 L515.769 1486.27  Z\" fill=\"#8be9fd\" fill-rule=\"evenodd\" fill-opacity=\"1\"/>\n",
       "<polyline clip-path=\"url(#clip122)\" style=\"stroke:#f8f8f2; stroke-linecap:round; stroke-linejoin:round; stroke-width:4; stroke-opacity:1; fill:none\" points=\"515.769,1486.27 515.769,1486.45 554.831,1486.45 554.831,1486.27 515.769,1486.27 \"/>\n",
       "<path clip-path=\"url(#clip122)\" d=\"M554.831 1486.27 L554.831 1486.45 L593.892 1486.45 L593.892 1486.27 L554.831 1486.27 L554.831 1486.27  Z\" fill=\"#8be9fd\" fill-rule=\"evenodd\" fill-opacity=\"1\"/>\n",
       "<polyline clip-path=\"url(#clip122)\" style=\"stroke:#f8f8f2; stroke-linecap:round; stroke-linejoin:round; stroke-width:4; stroke-opacity:1; fill:none\" points=\"554.831,1486.27 554.831,1486.45 593.892,1486.45 593.892,1486.27 554.831,1486.27 \"/>\n",
       "<path clip-path=\"url(#clip122)\" d=\"M593.892 1484.44 L593.892 1486.45 L632.953 1486.45 L632.953 1484.44 L593.892 1484.44 L593.892 1484.44  Z\" fill=\"#8be9fd\" fill-rule=\"evenodd\" fill-opacity=\"1\"/>\n",
       "<polyline clip-path=\"url(#clip122)\" style=\"stroke:#f8f8f2; stroke-linecap:round; stroke-linejoin:round; stroke-width:4; stroke-opacity:1; fill:none\" points=\"593.892,1484.44 593.892,1486.45 632.953,1486.45 632.953,1484.44 593.892,1484.44 \"/>\n",
       "<path clip-path=\"url(#clip122)\" d=\"M632.953 1483.71 L632.953 1486.45 L672.015 1486.45 L672.015 1483.71 L632.953 1483.71 L632.953 1483.71  Z\" fill=\"#8be9fd\" fill-rule=\"evenodd\" fill-opacity=\"1\"/>\n",
       "<polyline clip-path=\"url(#clip122)\" style=\"stroke:#f8f8f2; stroke-linecap:round; stroke-linejoin:round; stroke-width:4; stroke-opacity:1; fill:none\" points=\"632.953,1483.71 632.953,1486.45 672.015,1486.45 672.015,1483.71 632.953,1483.71 \"/>\n",
       "<path clip-path=\"url(#clip122)\" d=\"M672.015 1480.43 L672.015 1486.45 L711.076 1486.45 L711.076 1480.43 L672.015 1480.43 L672.015 1480.43  Z\" fill=\"#8be9fd\" fill-rule=\"evenodd\" fill-opacity=\"1\"/>\n",
       "<polyline clip-path=\"url(#clip122)\" style=\"stroke:#f8f8f2; stroke-linecap:round; stroke-linejoin:round; stroke-width:4; stroke-opacity:1; fill:none\" points=\"672.015,1480.43 672.015,1486.45 711.076,1486.45 711.076,1480.43 672.015,1480.43 \"/>\n",
       "<path clip-path=\"url(#clip122)\" d=\"M711.076 1476.06 L711.076 1486.45 L750.138 1486.45 L750.138 1476.06 L711.076 1476.06 L711.076 1476.06  Z\" fill=\"#8be9fd\" fill-rule=\"evenodd\" fill-opacity=\"1\"/>\n",
       "<polyline clip-path=\"url(#clip122)\" style=\"stroke:#f8f8f2; stroke-linecap:round; stroke-linejoin:round; stroke-width:4; stroke-opacity:1; fill:none\" points=\"711.076,1476.06 711.076,1486.45 750.138,1486.45 750.138,1476.06 711.076,1476.06 \"/>\n",
       "<path clip-path=\"url(#clip122)\" d=\"M750.138 1465.48 L750.138 1486.45 L789.199 1486.45 L789.199 1465.48 L750.138 1465.48 L750.138 1465.48  Z\" fill=\"#8be9fd\" fill-rule=\"evenodd\" fill-opacity=\"1\"/>\n",
       "<polyline clip-path=\"url(#clip122)\" style=\"stroke:#f8f8f2; stroke-linecap:round; stroke-linejoin:round; stroke-width:4; stroke-opacity:1; fill:none\" points=\"750.138,1465.48 750.138,1486.45 789.199,1486.45 789.199,1465.48 750.138,1465.48 \"/>\n",
       "<path clip-path=\"url(#clip122)\" d=\"M789.199 1446.16 L789.199 1486.45 L828.26 1486.45 L828.26 1446.16 L789.199 1446.16 L789.199 1446.16  Z\" fill=\"#8be9fd\" fill-rule=\"evenodd\" fill-opacity=\"1\"/>\n",
       "<polyline clip-path=\"url(#clip122)\" style=\"stroke:#f8f8f2; stroke-linecap:round; stroke-linejoin:round; stroke-width:4; stroke-opacity:1; fill:none\" points=\"789.199,1446.16 789.199,1486.45 828.26,1486.45 828.26,1446.16 789.199,1446.16 \"/>\n",
       "<path clip-path=\"url(#clip122)\" d=\"M828.26 1422.46 L828.26 1486.45 L867.322 1486.45 L867.322 1422.46 L828.26 1422.46 L828.26 1422.46  Z\" fill=\"#8be9fd\" fill-rule=\"evenodd\" fill-opacity=\"1\"/>\n",
       "<polyline clip-path=\"url(#clip122)\" style=\"stroke:#f8f8f2; stroke-linecap:round; stroke-linejoin:round; stroke-width:4; stroke-opacity:1; fill:none\" points=\"828.26,1422.46 828.26,1486.45 867.322,1486.45 867.322,1422.46 828.26,1422.46 \"/>\n",
       "<path clip-path=\"url(#clip122)\" d=\"M867.322 1375.61 L867.322 1486.45 L906.383 1486.45 L906.383 1375.61 L867.322 1375.61 L867.322 1375.61  Z\" fill=\"#8be9fd\" fill-rule=\"evenodd\" fill-opacity=\"1\"/>\n",
       "<polyline clip-path=\"url(#clip122)\" style=\"stroke:#f8f8f2; stroke-linecap:round; stroke-linejoin:round; stroke-width:4; stroke-opacity:1; fill:none\" points=\"867.322,1375.61 867.322,1486.45 906.383,1486.45 906.383,1375.61 867.322,1375.61 \"/>\n",
       "<path clip-path=\"url(#clip122)\" d=\"M906.383 1322.57 L906.383 1486.45 L945.445 1486.45 L945.445 1322.57 L906.383 1322.57 L906.383 1322.57  Z\" fill=\"#8be9fd\" fill-rule=\"evenodd\" fill-opacity=\"1\"/>\n",
       "<polyline clip-path=\"url(#clip122)\" style=\"stroke:#f8f8f2; stroke-linecap:round; stroke-linejoin:round; stroke-width:4; stroke-opacity:1; fill:none\" points=\"906.383,1322.57 906.383,1486.45 945.445,1486.45 945.445,1322.57 906.383,1322.57 \"/>\n",
       "<path clip-path=\"url(#clip122)\" d=\"M945.445 1236.71 L945.445 1486.45 L984.506 1486.45 L984.506 1236.71 L945.445 1236.71 L945.445 1236.71  Z\" fill=\"#8be9fd\" fill-rule=\"evenodd\" fill-opacity=\"1\"/>\n",
       "<polyline clip-path=\"url(#clip122)\" style=\"stroke:#f8f8f2; stroke-linecap:round; stroke-linejoin:round; stroke-width:4; stroke-opacity:1; fill:none\" points=\"945.445,1236.71 945.445,1486.45 984.506,1486.45 984.506,1236.71 945.445,1236.71 \"/>\n",
       "<path clip-path=\"url(#clip122)\" d=\"M984.506 1146.47 L984.506 1486.45 L1023.57 1486.45 L1023.57 1146.47 L984.506 1146.47 L984.506 1146.47  Z\" fill=\"#8be9fd\" fill-rule=\"evenodd\" fill-opacity=\"1\"/>\n",
       "<polyline clip-path=\"url(#clip122)\" style=\"stroke:#f8f8f2; stroke-linecap:round; stroke-linejoin:round; stroke-width:4; stroke-opacity:1; fill:none\" points=\"984.506,1146.47 984.506,1486.45 1023.57,1486.45 1023.57,1146.47 984.506,1146.47 \"/>\n",
       "<path clip-path=\"url(#clip122)\" d=\"M1023.57 1001.18 L1023.57 1486.45 L1062.63 1486.45 L1062.63 1001.18 L1023.57 1001.18 L1023.57 1001.18  Z\" fill=\"#8be9fd\" fill-rule=\"evenodd\" fill-opacity=\"1\"/>\n",
       "<polyline clip-path=\"url(#clip122)\" style=\"stroke:#f8f8f2; stroke-linecap:round; stroke-linejoin:round; stroke-width:4; stroke-opacity:1; fill:none\" points=\"1023.57,1001.18 1023.57,1486.45 1062.63,1486.45 1062.63,1001.18 1023.57,1001.18 \"/>\n",
       "<path clip-path=\"url(#clip122)\" d=\"M1062.63 852.25 L1062.63 1486.45 L1101.69 1486.45 L1101.69 852.25 L1062.63 852.25 L1062.63 852.25  Z\" fill=\"#8be9fd\" fill-rule=\"evenodd\" fill-opacity=\"1\"/>\n",
       "<polyline clip-path=\"url(#clip122)\" style=\"stroke:#f8f8f2; stroke-linecap:round; stroke-linejoin:round; stroke-width:4; stroke-opacity:1; fill:none\" points=\"1062.63,852.25 1062.63,1486.45 1101.69,1486.45 1101.69,852.25 1062.63,852.25 \"/>\n",
       "<path clip-path=\"url(#clip122)\" d=\"M1101.69 681.806 L1101.69 1486.45 L1140.75 1486.45 L1140.75 681.806 L1101.69 681.806 L1101.69 681.806  Z\" fill=\"#8be9fd\" fill-rule=\"evenodd\" fill-opacity=\"1\"/>\n",
       "<polyline clip-path=\"url(#clip122)\" style=\"stroke:#f8f8f2; stroke-linecap:round; stroke-linejoin:round; stroke-width:4; stroke-opacity:1; fill:none\" points=\"1101.69,681.806 1101.69,1486.45 1140.75,1486.45 1140.75,681.806 1101.69,681.806 \"/>\n",
       "<path clip-path=\"url(#clip122)\" d=\"M1140.75 520.112 L1140.75 1486.45 L1179.81 1486.45 L1179.81 520.112 L1140.75 520.112 L1140.75 520.112  Z\" fill=\"#8be9fd\" fill-rule=\"evenodd\" fill-opacity=\"1\"/>\n",
       "<polyline clip-path=\"url(#clip122)\" style=\"stroke:#f8f8f2; stroke-linecap:round; stroke-linejoin:round; stroke-width:4; stroke-opacity:1; fill:none\" points=\"1140.75,520.112 1140.75,1486.45 1179.81,1486.45 1179.81,520.112 1140.75,520.112 \"/>\n",
       "<path clip-path=\"url(#clip122)\" d=\"M1179.81 343.653 L1179.81 1486.45 L1218.87 1486.45 L1218.87 343.653 L1179.81 343.653 L1179.81 343.653  Z\" fill=\"#8be9fd\" fill-rule=\"evenodd\" fill-opacity=\"1\"/>\n",
       "<polyline clip-path=\"url(#clip122)\" style=\"stroke:#f8f8f2; stroke-linecap:round; stroke-linejoin:round; stroke-width:4; stroke-opacity:1; fill:none\" points=\"1179.81,343.653 1179.81,1486.45 1218.87,1486.45 1218.87,343.653 1179.81,343.653 \"/>\n",
       "<path clip-path=\"url(#clip122)\" d=\"M1218.87 186.151 L1218.87 1486.45 L1257.94 1486.45 L1257.94 186.151 L1218.87 186.151 L1218.87 186.151  Z\" fill=\"#8be9fd\" fill-rule=\"evenodd\" fill-opacity=\"1\"/>\n",
       "<polyline clip-path=\"url(#clip122)\" style=\"stroke:#f8f8f2; stroke-linecap:round; stroke-linejoin:round; stroke-width:4; stroke-opacity:1; fill:none\" points=\"1218.87,186.151 1218.87,1486.45 1257.94,1486.45 1257.94,186.151 1218.87,186.151 \"/>\n",
       "<path clip-path=\"url(#clip122)\" d=\"M1257.94 89.1715 L1257.94 1486.45 L1297 1486.45 L1297 89.1715 L1257.94 89.1715 L1257.94 89.1715  Z\" fill=\"#8be9fd\" fill-rule=\"evenodd\" fill-opacity=\"1\"/>\n",
       "<polyline clip-path=\"url(#clip122)\" style=\"stroke:#f8f8f2; stroke-linecap:round; stroke-linejoin:round; stroke-width:4; stroke-opacity:1; fill:none\" points=\"1257.94,89.1715 1257.94,1486.45 1297,1486.45 1297,89.1715 1257.94,89.1715 \"/>\n",
       "<path clip-path=\"url(#clip122)\" d=\"M1297 55.8119 L1297 1486.45 L1336.06 1486.45 L1336.06 55.8119 L1297 55.8119 L1297 55.8119  Z\" fill=\"#8be9fd\" fill-rule=\"evenodd\" fill-opacity=\"1\"/>\n",
       "<polyline clip-path=\"url(#clip122)\" style=\"stroke:#f8f8f2; stroke-linecap:round; stroke-linejoin:round; stroke-width:4; stroke-opacity:1; fill:none\" points=\"1297,55.8119 1297,1486.45 1336.06,1486.45 1336.06,55.8119 1297,55.8119 \"/>\n",
       "<path clip-path=\"url(#clip122)\" d=\"M1336.06 47.2441 L1336.06 1486.45 L1375.12 1486.45 L1375.12 47.2441 L1336.06 47.2441 L1336.06 47.2441  Z\" fill=\"#8be9fd\" fill-rule=\"evenodd\" fill-opacity=\"1\"/>\n",
       "<polyline clip-path=\"url(#clip122)\" style=\"stroke:#f8f8f2; stroke-linecap:round; stroke-linejoin:round; stroke-width:4; stroke-opacity:1; fill:none\" points=\"1336.06,47.2441 1336.06,1486.45 1375.12,1486.45 1375.12,47.2441 1336.06,47.2441 \"/>\n",
       "<path clip-path=\"url(#clip122)\" d=\"M1375.12 99.0153 L1375.12 1486.45 L1414.18 1486.45 L1414.18 99.0153 L1375.12 99.0153 L1375.12 99.0153  Z\" fill=\"#8be9fd\" fill-rule=\"evenodd\" fill-opacity=\"1\"/>\n",
       "<polyline clip-path=\"url(#clip122)\" style=\"stroke:#f8f8f2; stroke-linecap:round; stroke-linejoin:round; stroke-width:4; stroke-opacity:1; fill:none\" points=\"1375.12,99.0153 1375.12,1486.45 1414.18,1486.45 1414.18,99.0153 1375.12,99.0153 \"/>\n",
       "<path clip-path=\"url(#clip122)\" d=\"M1414.18 215.318 L1414.18 1486.45 L1453.24 1486.45 L1453.24 215.318 L1414.18 215.318 L1414.18 215.318  Z\" fill=\"#8be9fd\" fill-rule=\"evenodd\" fill-opacity=\"1\"/>\n",
       "<polyline clip-path=\"url(#clip122)\" style=\"stroke:#f8f8f2; stroke-linecap:round; stroke-linejoin:round; stroke-width:4; stroke-opacity:1; fill:none\" points=\"1414.18,215.318 1414.18,1486.45 1453.24,1486.45 1453.24,215.318 1414.18,215.318 \"/>\n",
       "<path clip-path=\"url(#clip122)\" d=\"M1453.24 359.148 L1453.24 1486.45 L1492.3 1486.45 L1492.3 359.148 L1453.24 359.148 L1453.24 359.148  Z\" fill=\"#8be9fd\" fill-rule=\"evenodd\" fill-opacity=\"1\"/>\n",
       "<polyline clip-path=\"url(#clip122)\" style=\"stroke:#f8f8f2; stroke-linecap:round; stroke-linejoin:round; stroke-width:4; stroke-opacity:1; fill:none\" points=\"1453.24,359.148 1453.24,1486.45 1492.3,1486.45 1492.3,359.148 1453.24,359.148 \"/>\n",
       "<path clip-path=\"url(#clip122)\" d=\"M1492.3 543.993 L1492.3 1486.45 L1531.37 1486.45 L1531.37 543.993 L1492.3 543.993 L1492.3 543.993  Z\" fill=\"#8be9fd\" fill-rule=\"evenodd\" fill-opacity=\"1\"/>\n",
       "<polyline clip-path=\"url(#clip122)\" style=\"stroke:#f8f8f2; stroke-linecap:round; stroke-linejoin:round; stroke-width:4; stroke-opacity:1; fill:none\" points=\"1492.3,543.993 1492.3,1486.45 1531.37,1486.45 1531.37,543.993 1492.3,543.993 \"/>\n",
       "<path clip-path=\"url(#clip122)\" d=\"M1531.37 685.817 L1531.37 1486.45 L1570.43 1486.45 L1570.43 685.817 L1531.37 685.817 L1531.37 685.817  Z\" fill=\"#8be9fd\" fill-rule=\"evenodd\" fill-opacity=\"1\"/>\n",
       "<polyline clip-path=\"url(#clip122)\" style=\"stroke:#f8f8f2; stroke-linecap:round; stroke-linejoin:round; stroke-width:4; stroke-opacity:1; fill:none\" points=\"1531.37,685.817 1531.37,1486.45 1570.43,1486.45 1570.43,685.817 1531.37,685.817 \"/>\n",
       "<path clip-path=\"url(#clip122)\" d=\"M1570.43 879.594 L1570.43 1486.45 L1609.49 1486.45 L1609.49 879.594 L1570.43 879.594 L1570.43 879.594  Z\" fill=\"#8be9fd\" fill-rule=\"evenodd\" fill-opacity=\"1\"/>\n",
       "<polyline clip-path=\"url(#clip122)\" style=\"stroke:#f8f8f2; stroke-linecap:round; stroke-linejoin:round; stroke-width:4; stroke-opacity:1; fill:none\" points=\"1570.43,879.594 1570.43,1486.45 1609.49,1486.45 1609.49,879.594 1570.43,879.594 \"/>\n",
       "<path clip-path=\"url(#clip122)\" d=\"M1609.49 1013.4 L1609.49 1486.45 L1648.55 1486.45 L1648.55 1013.4 L1609.49 1013.4 L1609.49 1013.4  Z\" fill=\"#8be9fd\" fill-rule=\"evenodd\" fill-opacity=\"1\"/>\n",
       "<polyline clip-path=\"url(#clip122)\" style=\"stroke:#f8f8f2; stroke-linecap:round; stroke-linejoin:round; stroke-width:4; stroke-opacity:1; fill:none\" points=\"1609.49,1013.4 1609.49,1486.45 1648.55,1486.45 1648.55,1013.4 1609.49,1013.4 \"/>\n",
       "<path clip-path=\"url(#clip122)\" d=\"M1648.55 1126.42 L1648.55 1486.45 L1687.61 1486.45 L1687.61 1126.42 L1648.55 1126.42 L1648.55 1126.42  Z\" fill=\"#8be9fd\" fill-rule=\"evenodd\" fill-opacity=\"1\"/>\n",
       "<polyline clip-path=\"url(#clip122)\" style=\"stroke:#f8f8f2; stroke-linecap:round; stroke-linejoin:round; stroke-width:4; stroke-opacity:1; fill:none\" points=\"1648.55,1126.42 1648.55,1486.45 1687.61,1486.45 1687.61,1126.42 1648.55,1126.42 \"/>\n",
       "<path clip-path=\"url(#clip122)\" d=\"M1687.61 1247.64 L1687.61 1486.45 L1726.67 1486.45 L1726.67 1247.64 L1687.61 1247.64 L1687.61 1247.64  Z\" fill=\"#8be9fd\" fill-rule=\"evenodd\" fill-opacity=\"1\"/>\n",
       "<polyline clip-path=\"url(#clip122)\" style=\"stroke:#f8f8f2; stroke-linecap:round; stroke-linejoin:round; stroke-width:4; stroke-opacity:1; fill:none\" points=\"1687.61,1247.64 1687.61,1486.45 1726.67,1486.45 1726.67,1247.64 1687.61,1247.64 \"/>\n",
       "<path clip-path=\"url(#clip122)\" d=\"M1726.67 1336.06 L1726.67 1486.45 L1765.73 1486.45 L1765.73 1336.06 L1726.67 1336.06 L1726.67 1336.06  Z\" fill=\"#8be9fd\" fill-rule=\"evenodd\" fill-opacity=\"1\"/>\n",
       "<polyline clip-path=\"url(#clip122)\" style=\"stroke:#f8f8f2; stroke-linecap:round; stroke-linejoin:round; stroke-width:4; stroke-opacity:1; fill:none\" points=\"1726.67,1336.06 1726.67,1486.45 1765.73,1486.45 1765.73,1336.06 1726.67,1336.06 \"/>\n",
       "<path clip-path=\"url(#clip122)\" d=\"M1765.73 1378.35 L1765.73 1486.45 L1804.79 1486.45 L1804.79 1378.35 L1765.73 1378.35 L1765.73 1378.35  Z\" fill=\"#8be9fd\" fill-rule=\"evenodd\" fill-opacity=\"1\"/>\n",
       "<polyline clip-path=\"url(#clip122)\" style=\"stroke:#f8f8f2; stroke-linecap:round; stroke-linejoin:round; stroke-width:4; stroke-opacity:1; fill:none\" points=\"1765.73,1378.35 1765.73,1486.45 1804.79,1486.45 1804.79,1378.35 1765.73,1378.35 \"/>\n",
       "<path clip-path=\"url(#clip122)\" d=\"M1804.79 1423.01 L1804.79 1486.45 L1843.86 1486.45 L1843.86 1423.01 L1804.79 1423.01 L1804.79 1423.01  Z\" fill=\"#8be9fd\" fill-rule=\"evenodd\" fill-opacity=\"1\"/>\n",
       "<polyline clip-path=\"url(#clip122)\" style=\"stroke:#f8f8f2; stroke-linecap:round; stroke-linejoin:round; stroke-width:4; stroke-opacity:1; fill:none\" points=\"1804.79,1423.01 1804.79,1486.45 1843.86,1486.45 1843.86,1423.01 1804.79,1423.01 \"/>\n",
       "<path clip-path=\"url(#clip122)\" d=\"M1843.86 1444.89 L1843.86 1486.45 L1882.92 1486.45 L1882.92 1444.89 L1843.86 1444.89 L1843.86 1444.89  Z\" fill=\"#8be9fd\" fill-rule=\"evenodd\" fill-opacity=\"1\"/>\n",
       "<polyline clip-path=\"url(#clip122)\" style=\"stroke:#f8f8f2; stroke-linecap:round; stroke-linejoin:round; stroke-width:4; stroke-opacity:1; fill:none\" points=\"1843.86,1444.89 1843.86,1486.45 1882.92,1486.45 1882.92,1444.89 1843.86,1444.89 \"/>\n",
       "<path clip-path=\"url(#clip122)\" d=\"M1882.92 1463.84 L1882.92 1486.45 L1921.98 1486.45 L1921.98 1463.84 L1882.92 1463.84 L1882.92 1463.84  Z\" fill=\"#8be9fd\" fill-rule=\"evenodd\" fill-opacity=\"1\"/>\n",
       "<polyline clip-path=\"url(#clip122)\" style=\"stroke:#f8f8f2; stroke-linecap:round; stroke-linejoin:round; stroke-width:4; stroke-opacity:1; fill:none\" points=\"1882.92,1463.84 1882.92,1486.45 1921.98,1486.45 1921.98,1463.84 1882.92,1463.84 \"/>\n",
       "<path clip-path=\"url(#clip122)\" d=\"M1921.98 1474.6 L1921.98 1486.45 L1961.04 1486.45 L1961.04 1474.6 L1921.98 1474.6 L1921.98 1474.6  Z\" fill=\"#8be9fd\" fill-rule=\"evenodd\" fill-opacity=\"1\"/>\n",
       "<polyline clip-path=\"url(#clip122)\" style=\"stroke:#f8f8f2; stroke-linecap:round; stroke-linejoin:round; stroke-width:4; stroke-opacity:1; fill:none\" points=\"1921.98,1474.6 1921.98,1486.45 1961.04,1486.45 1961.04,1474.6 1921.98,1474.6 \"/>\n",
       "<path clip-path=\"url(#clip122)\" d=\"M1961.04 1480.61 L1961.04 1486.45 L2000.1 1486.45 L2000.1 1480.61 L1961.04 1480.61 L1961.04 1480.61  Z\" fill=\"#8be9fd\" fill-rule=\"evenodd\" fill-opacity=\"1\"/>\n",
       "<polyline clip-path=\"url(#clip122)\" style=\"stroke:#f8f8f2; stroke-linecap:round; stroke-linejoin:round; stroke-width:4; stroke-opacity:1; fill:none\" points=\"1961.04,1480.61 1961.04,1486.45 2000.1,1486.45 2000.1,1480.61 1961.04,1480.61 \"/>\n",
       "<path clip-path=\"url(#clip122)\" d=\"M2000.1 1483.71 L2000.1 1486.45 L2039.16 1486.45 L2039.16 1483.71 L2000.1 1483.71 L2000.1 1483.71  Z\" fill=\"#8be9fd\" fill-rule=\"evenodd\" fill-opacity=\"1\"/>\n",
       "<polyline clip-path=\"url(#clip122)\" style=\"stroke:#f8f8f2; stroke-linecap:round; stroke-linejoin:round; stroke-width:4; stroke-opacity:1; fill:none\" points=\"2000.1,1483.71 2000.1,1486.45 2039.16,1486.45 2039.16,1483.71 2000.1,1483.71 \"/>\n",
       "<path clip-path=\"url(#clip122)\" d=\"M2039.16 1484.81 L2039.16 1486.45 L2078.22 1486.45 L2078.22 1484.81 L2039.16 1484.81 L2039.16 1484.81  Z\" fill=\"#8be9fd\" fill-rule=\"evenodd\" fill-opacity=\"1\"/>\n",
       "<polyline clip-path=\"url(#clip122)\" style=\"stroke:#f8f8f2; stroke-linecap:round; stroke-linejoin:round; stroke-width:4; stroke-opacity:1; fill:none\" points=\"2039.16,1484.81 2039.16,1486.45 2078.22,1486.45 2078.22,1484.81 2039.16,1484.81 \"/>\n",
       "<path clip-path=\"url(#clip122)\" d=\"M2078.22 1485.72 L2078.22 1486.45 L2117.29 1486.45 L2117.29 1485.72 L2078.22 1485.72 L2078.22 1485.72  Z\" fill=\"#8be9fd\" fill-rule=\"evenodd\" fill-opacity=\"1\"/>\n",
       "<polyline clip-path=\"url(#clip122)\" style=\"stroke:#f8f8f2; stroke-linecap:round; stroke-linejoin:round; stroke-width:4; stroke-opacity:1; fill:none\" points=\"2078.22,1485.72 2078.22,1486.45 2117.29,1486.45 2117.29,1485.72 2078.22,1485.72 \"/>\n",
       "<path clip-path=\"url(#clip122)\" d=\"M2117.29 1486.27 L2117.29 1486.45 L2156.35 1486.45 L2156.35 1486.27 L2117.29 1486.27 L2117.29 1486.27  Z\" fill=\"#8be9fd\" fill-rule=\"evenodd\" fill-opacity=\"1\"/>\n",
       "<polyline clip-path=\"url(#clip122)\" style=\"stroke:#f8f8f2; stroke-linecap:round; stroke-linejoin:round; stroke-width:4; stroke-opacity:1; fill:none\" points=\"2117.29,1486.27 2117.29,1486.45 2156.35,1486.45 2156.35,1486.27 2117.29,1486.27 \"/>\n",
       "<path clip-path=\"url(#clip122)\" d=\"M2156.35 1486.45 L2156.35 1486.45 L2195.41 1486.45 L2195.41 1486.45 L2156.35 1486.45 L2156.35 1486.45  Z\" fill=\"#8be9fd\" fill-rule=\"evenodd\" fill-opacity=\"1\"/>\n",
       "<polyline clip-path=\"url(#clip122)\" style=\"stroke:#f8f8f2; stroke-linecap:round; stroke-linejoin:round; stroke-width:4; stroke-opacity:1; fill:none\" points=\"2156.35,1486.45 2156.35,1486.45 2195.41,1486.45 2156.35,1486.45 \"/>\n",
       "<path clip-path=\"url(#clip122)\" d=\"M2195.41 1486.08 L2195.41 1486.45 L2234.47 1486.45 L2234.47 1486.08 L2195.41 1486.08 L2195.41 1486.08  Z\" fill=\"#8be9fd\" fill-rule=\"evenodd\" fill-opacity=\"1\"/>\n",
       "<polyline clip-path=\"url(#clip122)\" style=\"stroke:#f8f8f2; stroke-linecap:round; stroke-linejoin:round; stroke-width:4; stroke-opacity:1; fill:none\" points=\"2195.41,1486.08 2195.41,1486.45 2234.47,1486.45 2234.47,1486.08 2195.41,1486.08 \"/>\n",
       "<circle clip-path=\"url(#clip122)\" style=\"fill:#8be9fd; stroke:none; fill-opacity:0\" cx=\"339.993\" cy=\"1486.27\" r=\"2\"/>\n",
       "<circle clip-path=\"url(#clip122)\" style=\"fill:#8be9fd; stroke:none; fill-opacity:0\" cx=\"379.054\" cy=\"1486.45\" r=\"2\"/>\n",
       "<circle clip-path=\"url(#clip122)\" style=\"fill:#8be9fd; stroke:none; fill-opacity:0\" cx=\"418.116\" cy=\"1486.45\" r=\"2\"/>\n",
       "<circle clip-path=\"url(#clip122)\" style=\"fill:#8be9fd; stroke:none; fill-opacity:0\" cx=\"457.177\" cy=\"1486.27\" r=\"2\"/>\n",
       "<circle clip-path=\"url(#clip122)\" style=\"fill:#8be9fd; stroke:none; fill-opacity:0\" cx=\"496.239\" cy=\"1486.45\" r=\"2\"/>\n",
       "<circle clip-path=\"url(#clip122)\" style=\"fill:#8be9fd; stroke:none; fill-opacity:0\" cx=\"535.3\" cy=\"1486.27\" r=\"2\"/>\n",
       "<circle clip-path=\"url(#clip122)\" style=\"fill:#8be9fd; stroke:none; fill-opacity:0\" cx=\"574.361\" cy=\"1486.27\" r=\"2\"/>\n",
       "<circle clip-path=\"url(#clip122)\" style=\"fill:#8be9fd; stroke:none; fill-opacity:0\" cx=\"613.423\" cy=\"1484.44\" r=\"2\"/>\n",
       "<circle clip-path=\"url(#clip122)\" style=\"fill:#8be9fd; stroke:none; fill-opacity:0\" cx=\"652.484\" cy=\"1483.71\" r=\"2\"/>\n",
       "<circle clip-path=\"url(#clip122)\" style=\"fill:#8be9fd; stroke:none; fill-opacity:0\" cx=\"691.546\" cy=\"1480.43\" r=\"2\"/>\n",
       "<circle clip-path=\"url(#clip122)\" style=\"fill:#8be9fd; stroke:none; fill-opacity:0\" cx=\"730.607\" cy=\"1476.06\" r=\"2\"/>\n",
       "<circle clip-path=\"url(#clip122)\" style=\"fill:#8be9fd; stroke:none; fill-opacity:0\" cx=\"769.668\" cy=\"1465.48\" r=\"2\"/>\n",
       "<circle clip-path=\"url(#clip122)\" style=\"fill:#8be9fd; stroke:none; fill-opacity:0\" cx=\"808.73\" cy=\"1446.16\" r=\"2\"/>\n",
       "<circle clip-path=\"url(#clip122)\" style=\"fill:#8be9fd; stroke:none; fill-opacity:0\" cx=\"847.791\" cy=\"1422.46\" r=\"2\"/>\n",
       "<circle clip-path=\"url(#clip122)\" style=\"fill:#8be9fd; stroke:none; fill-opacity:0\" cx=\"886.852\" cy=\"1375.61\" r=\"2\"/>\n",
       "<circle clip-path=\"url(#clip122)\" style=\"fill:#8be9fd; stroke:none; fill-opacity:0\" cx=\"925.914\" cy=\"1322.57\" r=\"2\"/>\n",
       "<circle clip-path=\"url(#clip122)\" style=\"fill:#8be9fd; stroke:none; fill-opacity:0\" cx=\"964.975\" cy=\"1236.71\" r=\"2\"/>\n",
       "<circle clip-path=\"url(#clip122)\" style=\"fill:#8be9fd; stroke:none; fill-opacity:0\" cx=\"1004.04\" cy=\"1146.47\" r=\"2\"/>\n",
       "<circle clip-path=\"url(#clip122)\" style=\"fill:#8be9fd; stroke:none; fill-opacity:0\" cx=\"1043.1\" cy=\"1001.18\" r=\"2\"/>\n",
       "<circle clip-path=\"url(#clip122)\" style=\"fill:#8be9fd; stroke:none; fill-opacity:0\" cx=\"1082.16\" cy=\"852.25\" r=\"2\"/>\n",
       "<circle clip-path=\"url(#clip122)\" style=\"fill:#8be9fd; stroke:none; fill-opacity:0\" cx=\"1121.22\" cy=\"681.806\" r=\"2\"/>\n",
       "<circle clip-path=\"url(#clip122)\" style=\"fill:#8be9fd; stroke:none; fill-opacity:0\" cx=\"1160.28\" cy=\"520.112\" r=\"2\"/>\n",
       "<circle clip-path=\"url(#clip122)\" style=\"fill:#8be9fd; stroke:none; fill-opacity:0\" cx=\"1199.34\" cy=\"343.653\" r=\"2\"/>\n",
       "<circle clip-path=\"url(#clip122)\" style=\"fill:#8be9fd; stroke:none; fill-opacity:0\" cx=\"1238.4\" cy=\"186.151\" r=\"2\"/>\n",
       "<circle clip-path=\"url(#clip122)\" style=\"fill:#8be9fd; stroke:none; fill-opacity:0\" cx=\"1277.47\" cy=\"89.1715\" r=\"2\"/>\n",
       "<circle clip-path=\"url(#clip122)\" style=\"fill:#8be9fd; stroke:none; fill-opacity:0\" cx=\"1316.53\" cy=\"55.8119\" r=\"2\"/>\n",
       "<circle clip-path=\"url(#clip122)\" style=\"fill:#8be9fd; stroke:none; fill-opacity:0\" cx=\"1355.59\" cy=\"47.2441\" r=\"2\"/>\n",
       "<circle clip-path=\"url(#clip122)\" style=\"fill:#8be9fd; stroke:none; fill-opacity:0\" cx=\"1394.65\" cy=\"99.0153\" r=\"2\"/>\n",
       "<circle clip-path=\"url(#clip122)\" style=\"fill:#8be9fd; stroke:none; fill-opacity:0\" cx=\"1433.71\" cy=\"215.318\" r=\"2\"/>\n",
       "<circle clip-path=\"url(#clip122)\" style=\"fill:#8be9fd; stroke:none; fill-opacity:0\" cx=\"1472.77\" cy=\"359.148\" r=\"2\"/>\n",
       "<circle clip-path=\"url(#clip122)\" style=\"fill:#8be9fd; stroke:none; fill-opacity:0\" cx=\"1511.83\" cy=\"543.993\" r=\"2\"/>\n",
       "<circle clip-path=\"url(#clip122)\" style=\"fill:#8be9fd; stroke:none; fill-opacity:0\" cx=\"1550.9\" cy=\"685.817\" r=\"2\"/>\n",
       "<circle clip-path=\"url(#clip122)\" style=\"fill:#8be9fd; stroke:none; fill-opacity:0\" cx=\"1589.96\" cy=\"879.594\" r=\"2\"/>\n",
       "<circle clip-path=\"url(#clip122)\" style=\"fill:#8be9fd; stroke:none; fill-opacity:0\" cx=\"1629.02\" cy=\"1013.4\" r=\"2\"/>\n",
       "<circle clip-path=\"url(#clip122)\" style=\"fill:#8be9fd; stroke:none; fill-opacity:0\" cx=\"1668.08\" cy=\"1126.42\" r=\"2\"/>\n",
       "<circle clip-path=\"url(#clip122)\" style=\"fill:#8be9fd; stroke:none; fill-opacity:0\" cx=\"1707.14\" cy=\"1247.64\" r=\"2\"/>\n",
       "<circle clip-path=\"url(#clip122)\" style=\"fill:#8be9fd; stroke:none; fill-opacity:0\" cx=\"1746.2\" cy=\"1336.06\" r=\"2\"/>\n",
       "<circle clip-path=\"url(#clip122)\" style=\"fill:#8be9fd; stroke:none; fill-opacity:0\" cx=\"1785.26\" cy=\"1378.35\" r=\"2\"/>\n",
       "<circle clip-path=\"url(#clip122)\" style=\"fill:#8be9fd; stroke:none; fill-opacity:0\" cx=\"1824.33\" cy=\"1423.01\" r=\"2\"/>\n",
       "<circle clip-path=\"url(#clip122)\" style=\"fill:#8be9fd; stroke:none; fill-opacity:0\" cx=\"1863.39\" cy=\"1444.89\" r=\"2\"/>\n",
       "<circle clip-path=\"url(#clip122)\" style=\"fill:#8be9fd; stroke:none; fill-opacity:0\" cx=\"1902.45\" cy=\"1463.84\" r=\"2\"/>\n",
       "<circle clip-path=\"url(#clip122)\" style=\"fill:#8be9fd; stroke:none; fill-opacity:0\" cx=\"1941.51\" cy=\"1474.6\" r=\"2\"/>\n",
       "<circle clip-path=\"url(#clip122)\" style=\"fill:#8be9fd; stroke:none; fill-opacity:0\" cx=\"1980.57\" cy=\"1480.61\" r=\"2\"/>\n",
       "<circle clip-path=\"url(#clip122)\" style=\"fill:#8be9fd; stroke:none; fill-opacity:0\" cx=\"2019.63\" cy=\"1483.71\" r=\"2\"/>\n",
       "<circle clip-path=\"url(#clip122)\" style=\"fill:#8be9fd; stroke:none; fill-opacity:0\" cx=\"2058.69\" cy=\"1484.81\" r=\"2\"/>\n",
       "<circle clip-path=\"url(#clip122)\" style=\"fill:#8be9fd; stroke:none; fill-opacity:0\" cx=\"2097.76\" cy=\"1485.72\" r=\"2\"/>\n",
       "<circle clip-path=\"url(#clip122)\" style=\"fill:#8be9fd; stroke:none; fill-opacity:0\" cx=\"2136.82\" cy=\"1486.27\" r=\"2\"/>\n",
       "<circle clip-path=\"url(#clip122)\" style=\"fill:#8be9fd; stroke:none; fill-opacity:0\" cx=\"2175.88\" cy=\"1486.45\" r=\"2\"/>\n",
       "<circle clip-path=\"url(#clip122)\" style=\"fill:#8be9fd; stroke:none; fill-opacity:0\" cx=\"2214.94\" cy=\"1486.08\" r=\"2\"/>\n",
       "</svg>\n"
      ],
      "text/html": [
       "<?xml version=\"1.0\" encoding=\"utf-8\"?>\n",
       "<svg xmlns=\"http://www.w3.org/2000/svg\" xmlns:xlink=\"http://www.w3.org/1999/xlink\" width=\"600\" height=\"400\" viewBox=\"0 0 2400 1600\">\n",
       "<defs>\n",
       "  <clipPath id=\"clip170\">\n",
       "    <rect x=\"0\" y=\"0\" width=\"2400\" height=\"1600\"/>\n",
       "  </clipPath>\n",
       "</defs>\n",
       "<path clip-path=\"url(#clip170)\" d=\"M0 1600 L2400 1600 L2400 0 L0 0  Z\" fill=\"#282a36\" fill-rule=\"evenodd\" fill-opacity=\"1\"/>\n",
       "<defs>\n",
       "  <clipPath id=\"clip171\">\n",
       "    <rect x=\"480\" y=\"0\" width=\"1681\" height=\"1600\"/>\n",
       "  </clipPath>\n",
       "</defs>\n",
       "<path clip-path=\"url(#clip170)\" d=\"M202.177 1486.45 L2352.76 1486.45 L2352.76 47.2441 L202.177 47.2441  Z\" fill=\"#30343b\" fill-rule=\"evenodd\" fill-opacity=\"1\"/>\n",
       "<defs>\n",
       "  <clipPath id=\"clip172\">\n",
       "    <rect x=\"202\" y=\"47\" width=\"2152\" height=\"1440\"/>\n",
       "  </clipPath>\n",
       "</defs>\n",
       "<polyline clip-path=\"url(#clip172)\" style=\"stroke:#f8f8f2; stroke-linecap:round; stroke-linejoin:round; stroke-width:2; stroke-opacity:0.1; fill:none\" points=\"554.831,1486.45 554.831,47.2441 \"/>\n",
       "<polyline clip-path=\"url(#clip172)\" style=\"stroke:#f8f8f2; stroke-linecap:round; stroke-linejoin:round; stroke-width:2; stroke-opacity:0.1; fill:none\" points=\"945.445,1486.45 945.445,47.2441 \"/>\n",
       "<polyline clip-path=\"url(#clip172)\" style=\"stroke:#f8f8f2; stroke-linecap:round; stroke-linejoin:round; stroke-width:2; stroke-opacity:0.1; fill:none\" points=\"1336.06,1486.45 1336.06,47.2441 \"/>\n",
       "<polyline clip-path=\"url(#clip172)\" style=\"stroke:#f8f8f2; stroke-linecap:round; stroke-linejoin:round; stroke-width:2; stroke-opacity:0.1; fill:none\" points=\"1726.67,1486.45 1726.67,47.2441 \"/>\n",
       "<polyline clip-path=\"url(#clip172)\" style=\"stroke:#f8f8f2; stroke-linecap:round; stroke-linejoin:round; stroke-width:2; stroke-opacity:0.1; fill:none\" points=\"2117.29,1486.45 2117.29,47.2441 \"/>\n",
       "<polyline clip-path=\"url(#clip172)\" style=\"stroke:#f8f8f2; stroke-linecap:round; stroke-linejoin:round; stroke-width:2; stroke-opacity:0.1; fill:none\" points=\"202.177,1486.45 2352.76,1486.45 \"/>\n",
       "<polyline clip-path=\"url(#clip172)\" style=\"stroke:#f8f8f2; stroke-linecap:round; stroke-linejoin:round; stroke-width:2; stroke-opacity:0.1; fill:none\" points=\"202.177,1121.86 2352.76,1121.86 \"/>\n",
       "<polyline clip-path=\"url(#clip172)\" style=\"stroke:#f8f8f2; stroke-linecap:round; stroke-linejoin:round; stroke-width:2; stroke-opacity:0.1; fill:none\" points=\"202.177,757.276 2352.76,757.276 \"/>\n",
       "<polyline clip-path=\"url(#clip172)\" style=\"stroke:#f8f8f2; stroke-linecap:round; stroke-linejoin:round; stroke-width:2; stroke-opacity:0.1; fill:none\" points=\"202.177,392.689 2352.76,392.689 \"/>\n",
       "<polyline clip-path=\"url(#clip170)\" style=\"stroke:#f8f8f2; stroke-linecap:round; stroke-linejoin:round; stroke-width:4; stroke-opacity:1; fill:none\" points=\"202.177,1486.45 2352.76,1486.45 \"/>\n",
       "<polyline clip-path=\"url(#clip170)\" style=\"stroke:#f8f8f2; stroke-linecap:round; stroke-linejoin:round; stroke-width:4; stroke-opacity:1; fill:none\" points=\"554.831,1486.45 554.831,1467.55 \"/>\n",
       "<polyline clip-path=\"url(#clip170)\" style=\"stroke:#f8f8f2; stroke-linecap:round; stroke-linejoin:round; stroke-width:4; stroke-opacity:1; fill:none\" points=\"945.445,1486.45 945.445,1467.55 \"/>\n",
       "<polyline clip-path=\"url(#clip170)\" style=\"stroke:#f8f8f2; stroke-linecap:round; stroke-linejoin:round; stroke-width:4; stroke-opacity:1; fill:none\" points=\"1336.06,1486.45 1336.06,1467.55 \"/>\n",
       "<polyline clip-path=\"url(#clip170)\" style=\"stroke:#f8f8f2; stroke-linecap:round; stroke-linejoin:round; stroke-width:4; stroke-opacity:1; fill:none\" points=\"1726.67,1486.45 1726.67,1467.55 \"/>\n",
       "<polyline clip-path=\"url(#clip170)\" style=\"stroke:#f8f8f2; stroke-linecap:round; stroke-linejoin:round; stroke-width:4; stroke-opacity:1; fill:none\" points=\"2117.29,1486.45 2117.29,1467.55 \"/>\n",
       "<path clip-path=\"url(#clip170)\" d=\"M523.731 1532.02 L553.407 1532.02 L553.407 1535.95 L523.731 1535.95 L523.731 1532.02 Z\" fill=\"#f8f8f2\" fill-rule=\"nonzero\" fill-opacity=\"1\" /><path clip-path=\"url(#clip170)\" d=\"M576.347 1518.36 L564.541 1536.81 L576.347 1536.81 L576.347 1518.36 M575.12 1514.29 L581 1514.29 L581 1536.81 L585.93 1536.81 L585.93 1540.7 L581 1540.7 L581 1548.85 L576.347 1548.85 L576.347 1540.7 L560.745 1540.7 L560.745 1536.19 L575.12 1514.29 Z\" fill=\"#f8f8f2\" fill-rule=\"nonzero\" fill-opacity=\"1\" /><path clip-path=\"url(#clip170)\" d=\"M915.387 1532.02 L945.063 1532.02 L945.063 1535.95 L915.387 1535.95 L915.387 1532.02 Z\" fill=\"#f8f8f2\" fill-rule=\"nonzero\" fill-opacity=\"1\" /><path clip-path=\"url(#clip170)\" d=\"M959.183 1544.91 L975.502 1544.91 L975.502 1548.85 L953.558 1548.85 L953.558 1544.91 Q956.22 1542.16 960.803 1537.53 Q965.41 1532.88 966.59 1531.53 Q968.836 1529.01 969.715 1527.27 Q970.618 1525.51 970.618 1523.82 Q970.618 1521.07 968.674 1519.33 Q966.752 1517.6 963.65 1517.6 Q961.451 1517.6 958.998 1518.36 Q956.567 1519.13 953.789 1520.68 L953.789 1515.95 Q956.613 1514.82 959.067 1514.24 Q961.521 1513.66 963.558 1513.66 Q968.928 1513.66 972.123 1516.35 Q975.317 1519.03 975.317 1523.52 Q975.317 1525.65 974.507 1527.57 Q973.72 1529.47 971.613 1532.07 Q971.035 1532.74 967.933 1535.95 Q964.831 1539.15 959.183 1544.91 Z\" fill=\"#f8f8f2\" fill-rule=\"nonzero\" fill-opacity=\"1\" /><path clip-path=\"url(#clip170)\" d=\"M1336.06 1517.37 Q1332.45 1517.37 1330.62 1520.93 Q1328.81 1524.47 1328.81 1531.6 Q1328.81 1538.71 1330.62 1542.27 Q1332.45 1545.82 1336.06 1545.82 Q1339.69 1545.82 1341.5 1542.27 Q1343.33 1538.71 1343.33 1531.6 Q1343.33 1524.47 1341.5 1520.93 Q1339.69 1517.37 1336.06 1517.37 M1336.06 1513.66 Q1341.87 1513.66 1344.92 1518.27 Q1348 1522.85 1348 1531.6 Q1348 1540.33 1344.92 1544.94 Q1341.87 1549.52 1336.06 1549.52 Q1330.25 1549.52 1327.17 1544.94 Q1324.11 1540.33 1324.11 1531.6 Q1324.11 1522.85 1327.17 1518.27 Q1330.25 1513.66 1336.06 1513.66 Z\" fill=\"#f8f8f2\" fill-rule=\"nonzero\" fill-opacity=\"1\" /><path clip-path=\"url(#clip170)\" d=\"M1721.33 1544.91 L1737.64 1544.91 L1737.64 1548.85 L1715.7 1548.85 L1715.7 1544.91 Q1718.36 1542.16 1722.95 1537.53 Q1727.55 1532.88 1728.73 1531.53 Q1730.98 1529.01 1731.86 1527.27 Q1732.76 1525.51 1732.76 1523.82 Q1732.76 1521.07 1730.82 1519.33 Q1728.89 1517.6 1725.79 1517.6 Q1723.59 1517.6 1721.14 1518.36 Q1718.71 1519.13 1715.93 1520.68 L1715.93 1515.95 Q1718.76 1514.82 1721.21 1514.24 Q1723.66 1513.66 1725.7 1513.66 Q1731.07 1513.66 1734.26 1516.35 Q1737.46 1519.03 1737.46 1523.52 Q1737.46 1525.65 1736.65 1527.57 Q1735.86 1529.47 1733.76 1532.07 Q1733.18 1532.74 1730.07 1535.95 Q1726.97 1539.15 1721.33 1544.91 Z\" fill=\"#f8f8f2\" fill-rule=\"nonzero\" fill-opacity=\"1\" /><path clip-path=\"url(#clip170)\" d=\"M2120.3 1518.36 L2108.49 1536.81 L2120.3 1536.81 L2120.3 1518.36 M2119.07 1514.29 L2124.95 1514.29 L2124.95 1536.81 L2129.88 1536.81 L2129.88 1540.7 L2124.95 1540.7 L2124.95 1548.85 L2120.3 1548.85 L2120.3 1540.7 L2104.69 1540.7 L2104.69 1536.19 L2119.07 1514.29 Z\" fill=\"#f8f8f2\" fill-rule=\"nonzero\" fill-opacity=\"1\" /><polyline clip-path=\"url(#clip170)\" style=\"stroke:#f8f8f2; stroke-linecap:round; stroke-linejoin:round; stroke-width:4; stroke-opacity:1; fill:none\" points=\"202.177,1486.45 202.177,47.2441 \"/>\n",
       "<polyline clip-path=\"url(#clip170)\" style=\"stroke:#f8f8f2; stroke-linecap:round; stroke-linejoin:round; stroke-width:4; stroke-opacity:1; fill:none\" points=\"202.177,1486.45 221.074,1486.45 \"/>\n",
       "<polyline clip-path=\"url(#clip170)\" style=\"stroke:#f8f8f2; stroke-linecap:round; stroke-linejoin:round; stroke-width:4; stroke-opacity:1; fill:none\" points=\"202.177,1121.86 221.074,1121.86 \"/>\n",
       "<polyline clip-path=\"url(#clip170)\" style=\"stroke:#f8f8f2; stroke-linecap:round; stroke-linejoin:round; stroke-width:4; stroke-opacity:1; fill:none\" points=\"202.177,757.276 221.074,757.276 \"/>\n",
       "<polyline clip-path=\"url(#clip170)\" style=\"stroke:#f8f8f2; stroke-linecap:round; stroke-linejoin:round; stroke-width:4; stroke-opacity:1; fill:none\" points=\"202.177,392.689 221.074,392.689 \"/>\n",
       "<path clip-path=\"url(#clip170)\" d=\"M154.232 1472.25 Q150.621 1472.25 148.793 1475.81 Q146.987 1479.35 146.987 1486.48 Q146.987 1493.59 148.793 1497.15 Q150.621 1500.7 154.232 1500.7 Q157.867 1500.7 159.672 1497.15 Q161.501 1493.59 161.501 1486.48 Q161.501 1479.35 159.672 1475.81 Q157.867 1472.25 154.232 1472.25 M154.232 1468.54 Q160.042 1468.54 163.098 1473.15 Q166.177 1477.73 166.177 1486.48 Q166.177 1495.21 163.098 1499.82 Q160.042 1504.4 154.232 1504.4 Q148.422 1504.4 145.343 1499.82 Q142.288 1495.21 142.288 1486.48 Q142.288 1477.73 145.343 1473.15 Q148.422 1468.54 154.232 1468.54 Z\" fill=\"#f8f8f2\" fill-rule=\"nonzero\" fill-opacity=\"1\" /><path clip-path=\"url(#clip170)\" d=\"M57.7745 1135.21 L74.0939 1135.21 L74.0939 1139.14 L52.1495 1139.14 L52.1495 1135.21 Q54.8115 1132.45 59.3949 1127.82 Q64.0013 1123.17 65.1819 1121.83 Q67.4272 1119.3 68.3068 1117.57 Q69.2096 1115.81 69.2096 1114.12 Q69.2096 1111.36 67.2652 1109.63 Q65.3439 1107.89 62.2421 1107.89 Q60.043 1107.89 57.5893 1108.66 Q55.1588 1109.42 52.381 1110.97 L52.381 1106.25 Q55.2051 1105.11 57.6588 1104.54 Q60.1124 1103.96 62.1495 1103.96 Q67.5198 1103.96 70.7142 1106.64 Q73.9087 1109.33 73.9087 1113.82 Q73.9087 1115.95 73.0985 1117.87 Q72.3115 1119.77 70.205 1122.36 Q69.6263 1123.03 66.5245 1126.25 Q63.4226 1129.44 57.7745 1135.21 Z\" fill=\"#f8f8f2\" fill-rule=\"nonzero\" fill-opacity=\"1\" /><path clip-path=\"url(#clip170)\" d=\"M93.9086 1107.66 Q90.2975 1107.66 88.4688 1111.23 Q86.6632 1114.77 86.6632 1121.9 Q86.6632 1129 88.4688 1132.57 Q90.2975 1136.11 93.9086 1136.11 Q97.5428 1136.11 99.3483 1132.57 Q101.177 1129 101.177 1121.9 Q101.177 1114.77 99.3483 1111.23 Q97.5428 1107.66 93.9086 1107.66 M93.9086 1103.96 Q99.7187 1103.96 102.774 1108.56 Q105.853 1113.15 105.853 1121.9 Q105.853 1130.62 102.774 1135.23 Q99.7187 1139.81 93.9086 1139.81 Q88.0984 1139.81 85.0197 1135.23 Q81.9642 1130.62 81.9642 1121.9 Q81.9642 1113.15 85.0197 1108.56 Q88.0984 1103.96 93.9086 1103.96 Z\" fill=\"#f8f8f2\" fill-rule=\"nonzero\" fill-opacity=\"1\" /><path clip-path=\"url(#clip170)\" d=\"M124.07 1107.66 Q120.459 1107.66 118.631 1111.23 Q116.825 1114.77 116.825 1121.9 Q116.825 1129 118.631 1132.57 Q120.459 1136.11 124.07 1136.11 Q127.705 1136.11 129.51 1132.57 Q131.339 1129 131.339 1121.9 Q131.339 1114.77 129.51 1111.23 Q127.705 1107.66 124.07 1107.66 M124.07 1103.96 Q129.881 1103.96 132.936 1108.56 Q136.015 1113.15 136.015 1121.9 Q136.015 1130.62 132.936 1135.23 Q129.881 1139.81 124.07 1139.81 Q118.26 1139.81 115.182 1135.23 Q112.126 1130.62 112.126 1121.9 Q112.126 1113.15 115.182 1108.56 Q118.26 1103.96 124.07 1103.96 Z\" fill=\"#f8f8f2\" fill-rule=\"nonzero\" fill-opacity=\"1\" /><path clip-path=\"url(#clip170)\" d=\"M154.232 1107.66 Q150.621 1107.66 148.793 1111.23 Q146.987 1114.77 146.987 1121.9 Q146.987 1129 148.793 1132.57 Q150.621 1136.11 154.232 1136.11 Q157.867 1136.11 159.672 1132.57 Q161.501 1129 161.501 1121.9 Q161.501 1114.77 159.672 1111.23 Q157.867 1107.66 154.232 1107.66 M154.232 1103.96 Q160.042 1103.96 163.098 1108.56 Q166.177 1113.15 166.177 1121.9 Q166.177 1130.62 163.098 1135.23 Q160.042 1139.81 154.232 1139.81 Q148.422 1139.81 145.343 1135.23 Q142.288 1130.62 142.288 1121.9 Q142.288 1113.15 145.343 1108.56 Q148.422 1103.96 154.232 1103.96 Z\" fill=\"#f8f8f2\" fill-rule=\"nonzero\" fill-opacity=\"1\" /><path clip-path=\"url(#clip170)\" d=\"M66.5939 744.07 L54.7884 762.519 L66.5939 762.519 L66.5939 744.07 M65.367 739.996 L71.2466 739.996 L71.2466 762.519 L76.1772 762.519 L76.1772 766.407 L71.2466 766.407 L71.2466 774.556 L66.5939 774.556 L66.5939 766.407 L50.9921 766.407 L50.9921 761.894 L65.367 739.996 Z\" fill=\"#f8f8f2\" fill-rule=\"nonzero\" fill-opacity=\"1\" /><path clip-path=\"url(#clip170)\" d=\"M93.9086 743.074 Q90.2975 743.074 88.4688 746.639 Q86.6632 750.181 86.6632 757.31 Q86.6632 764.417 88.4688 767.982 Q90.2975 771.523 93.9086 771.523 Q97.5428 771.523 99.3483 767.982 Q101.177 764.417 101.177 757.31 Q101.177 750.181 99.3483 746.639 Q97.5428 743.074 93.9086 743.074 M93.9086 739.371 Q99.7187 739.371 102.774 743.977 Q105.853 748.56 105.853 757.31 Q105.853 766.037 102.774 770.644 Q99.7187 775.227 93.9086 775.227 Q88.0984 775.227 85.0197 770.644 Q81.9642 766.037 81.9642 757.31 Q81.9642 748.56 85.0197 743.977 Q88.0984 739.371 93.9086 739.371 Z\" fill=\"#f8f8f2\" fill-rule=\"nonzero\" fill-opacity=\"1\" /><path clip-path=\"url(#clip170)\" d=\"M124.07 743.074 Q120.459 743.074 118.631 746.639 Q116.825 750.181 116.825 757.31 Q116.825 764.417 118.631 767.982 Q120.459 771.523 124.07 771.523 Q127.705 771.523 129.51 767.982 Q131.339 764.417 131.339 757.31 Q131.339 750.181 129.51 746.639 Q127.705 743.074 124.07 743.074 M124.07 739.371 Q129.881 739.371 132.936 743.977 Q136.015 748.56 136.015 757.31 Q136.015 766.037 132.936 770.644 Q129.881 775.227 124.07 775.227 Q118.26 775.227 115.182 770.644 Q112.126 766.037 112.126 757.31 Q112.126 748.56 115.182 743.977 Q118.26 739.371 124.07 739.371 Z\" fill=\"#f8f8f2\" fill-rule=\"nonzero\" fill-opacity=\"1\" /><path clip-path=\"url(#clip170)\" d=\"M154.232 743.074 Q150.621 743.074 148.793 746.639 Q146.987 750.181 146.987 757.31 Q146.987 764.417 148.793 767.982 Q150.621 771.523 154.232 771.523 Q157.867 771.523 159.672 767.982 Q161.501 764.417 161.501 757.31 Q161.501 750.181 159.672 746.639 Q157.867 743.074 154.232 743.074 M154.232 739.371 Q160.042 739.371 163.098 743.977 Q166.177 748.56 166.177 757.31 Q166.177 766.037 163.098 770.644 Q160.042 775.227 154.232 775.227 Q148.422 775.227 145.343 770.644 Q142.288 766.037 142.288 757.31 Q142.288 748.56 145.343 743.977 Q148.422 739.371 154.232 739.371 Z\" fill=\"#f8f8f2\" fill-rule=\"nonzero\" fill-opacity=\"1\" /><path clip-path=\"url(#clip170)\" d=\"M64.3254 390.826 Q61.1773 390.826 59.3254 392.979 Q57.4967 395.132 57.4967 398.882 Q57.4967 402.608 59.3254 404.784 Q61.1773 406.937 64.3254 406.937 Q67.4735 406.937 69.3022 404.784 Q71.1541 402.608 71.1541 398.882 Q71.1541 395.132 69.3022 392.979 Q67.4735 390.826 64.3254 390.826 M73.6077 376.173 L73.6077 380.433 Q71.8485 379.599 70.0429 379.159 Q68.2606 378.72 66.5013 378.72 Q61.8717 378.72 59.418 381.845 Q56.9875 384.97 56.6402 391.289 Q58.006 389.275 60.0662 388.21 Q62.1263 387.122 64.6032 387.122 Q69.8115 387.122 72.8207 390.294 Q75.8531 393.442 75.8531 398.882 Q75.8531 404.206 72.705 407.423 Q69.5568 410.641 64.3254 410.641 Q58.33 410.641 55.1588 406.057 Q51.9875 401.451 51.9875 392.724 Q51.9875 384.53 55.8764 379.669 Q59.7652 374.784 66.3161 374.784 Q68.0754 374.784 69.8578 375.132 Q71.6633 375.479 73.6077 376.173 Z\" fill=\"#f8f8f2\" fill-rule=\"nonzero\" fill-opacity=\"1\" /><path clip-path=\"url(#clip170)\" d=\"M93.9086 378.488 Q90.2975 378.488 88.4688 382.053 Q86.6632 385.595 86.6632 392.724 Q86.6632 399.831 88.4688 403.395 Q90.2975 406.937 93.9086 406.937 Q97.5428 406.937 99.3483 403.395 Q101.177 399.831 101.177 392.724 Q101.177 385.595 99.3483 382.053 Q97.5428 378.488 93.9086 378.488 M93.9086 374.784 Q99.7187 374.784 102.774 379.391 Q105.853 383.974 105.853 392.724 Q105.853 401.451 102.774 406.057 Q99.7187 410.641 93.9086 410.641 Q88.0984 410.641 85.0197 406.057 Q81.9642 401.451 81.9642 392.724 Q81.9642 383.974 85.0197 379.391 Q88.0984 374.784 93.9086 374.784 Z\" fill=\"#f8f8f2\" fill-rule=\"nonzero\" fill-opacity=\"1\" /><path clip-path=\"url(#clip170)\" d=\"M124.07 378.488 Q120.459 378.488 118.631 382.053 Q116.825 385.595 116.825 392.724 Q116.825 399.831 118.631 403.395 Q120.459 406.937 124.07 406.937 Q127.705 406.937 129.51 403.395 Q131.339 399.831 131.339 392.724 Q131.339 385.595 129.51 382.053 Q127.705 378.488 124.07 378.488 M124.07 374.784 Q129.881 374.784 132.936 379.391 Q136.015 383.974 136.015 392.724 Q136.015 401.451 132.936 406.057 Q129.881 410.641 124.07 410.641 Q118.26 410.641 115.182 406.057 Q112.126 401.451 112.126 392.724 Q112.126 383.974 115.182 379.391 Q118.26 374.784 124.07 374.784 Z\" fill=\"#f8f8f2\" fill-rule=\"nonzero\" fill-opacity=\"1\" /><path clip-path=\"url(#clip170)\" d=\"M154.232 378.488 Q150.621 378.488 148.793 382.053 Q146.987 385.595 146.987 392.724 Q146.987 399.831 148.793 403.395 Q150.621 406.937 154.232 406.937 Q157.867 406.937 159.672 403.395 Q161.501 399.831 161.501 392.724 Q161.501 385.595 159.672 382.053 Q157.867 378.488 154.232 378.488 M154.232 374.784 Q160.042 374.784 163.098 379.391 Q166.177 383.974 166.177 392.724 Q166.177 401.451 163.098 406.057 Q160.042 410.641 154.232 410.641 Q148.422 410.641 145.343 406.057 Q142.288 401.451 142.288 392.724 Q142.288 383.974 145.343 379.391 Q148.422 374.784 154.232 374.784 Z\" fill=\"#f8f8f2\" fill-rule=\"nonzero\" fill-opacity=\"1\" /><path clip-path=\"url(#clip172)\" d=\"M320.462 1486.27 L320.462 1486.45 L359.524 1486.45 L359.524 1486.27 L320.462 1486.27 L320.462 1486.27  Z\" fill=\"#8be9fd\" fill-rule=\"evenodd\" fill-opacity=\"1\"/>\n",
       "<polyline clip-path=\"url(#clip172)\" style=\"stroke:#f8f8f2; stroke-linecap:round; stroke-linejoin:round; stroke-width:4; stroke-opacity:1; fill:none\" points=\"320.462,1486.27 320.462,1486.45 359.524,1486.45 359.524,1486.27 320.462,1486.27 \"/>\n",
       "<path clip-path=\"url(#clip172)\" d=\"M359.524 1486.45 L359.524 1486.45 L398.585 1486.45 L398.585 1486.45 L359.524 1486.45 L359.524 1486.45  Z\" fill=\"#8be9fd\" fill-rule=\"evenodd\" fill-opacity=\"1\"/>\n",
       "<polyline clip-path=\"url(#clip172)\" style=\"stroke:#f8f8f2; stroke-linecap:round; stroke-linejoin:round; stroke-width:4; stroke-opacity:1; fill:none\" points=\"359.524,1486.45 359.524,1486.45 398.585,1486.45 359.524,1486.45 \"/>\n",
       "<path clip-path=\"url(#clip172)\" d=\"M398.585 1486.45 L398.585 1486.45 L437.647 1486.45 L437.647 1486.45 L398.585 1486.45 L398.585 1486.45  Z\" fill=\"#8be9fd\" fill-rule=\"evenodd\" fill-opacity=\"1\"/>\n",
       "<polyline clip-path=\"url(#clip172)\" style=\"stroke:#f8f8f2; stroke-linecap:round; stroke-linejoin:round; stroke-width:4; stroke-opacity:1; fill:none\" points=\"398.585,1486.45 398.585,1486.45 437.647,1486.45 398.585,1486.45 \"/>\n",
       "<path clip-path=\"url(#clip172)\" d=\"M437.647 1486.27 L437.647 1486.45 L476.708 1486.45 L476.708 1486.27 L437.647 1486.27 L437.647 1486.27  Z\" fill=\"#8be9fd\" fill-rule=\"evenodd\" fill-opacity=\"1\"/>\n",
       "<polyline clip-path=\"url(#clip172)\" style=\"stroke:#f8f8f2; stroke-linecap:round; stroke-linejoin:round; stroke-width:4; stroke-opacity:1; fill:none\" points=\"437.647,1486.27 437.647,1486.45 476.708,1486.45 476.708,1486.27 437.647,1486.27 \"/>\n",
       "<path clip-path=\"url(#clip172)\" d=\"M476.708 1486.45 L476.708 1486.45 L515.769 1486.45 L515.769 1486.45 L476.708 1486.45 L476.708 1486.45  Z\" fill=\"#8be9fd\" fill-rule=\"evenodd\" fill-opacity=\"1\"/>\n",
       "<polyline clip-path=\"url(#clip172)\" style=\"stroke:#f8f8f2; stroke-linecap:round; stroke-linejoin:round; stroke-width:4; stroke-opacity:1; fill:none\" points=\"476.708,1486.45 476.708,1486.45 515.769,1486.45 476.708,1486.45 \"/>\n",
       "<path clip-path=\"url(#clip172)\" d=\"M515.769 1486.27 L515.769 1486.45 L554.831 1486.45 L554.831 1486.27 L515.769 1486.27 L515.769 1486.27  Z\" fill=\"#8be9fd\" fill-rule=\"evenodd\" fill-opacity=\"1\"/>\n",
       "<polyline clip-path=\"url(#clip172)\" style=\"stroke:#f8f8f2; stroke-linecap:round; stroke-linejoin:round; stroke-width:4; stroke-opacity:1; fill:none\" points=\"515.769,1486.27 515.769,1486.45 554.831,1486.45 554.831,1486.27 515.769,1486.27 \"/>\n",
       "<path clip-path=\"url(#clip172)\" d=\"M554.831 1486.27 L554.831 1486.45 L593.892 1486.45 L593.892 1486.27 L554.831 1486.27 L554.831 1486.27  Z\" fill=\"#8be9fd\" fill-rule=\"evenodd\" fill-opacity=\"1\"/>\n",
       "<polyline clip-path=\"url(#clip172)\" style=\"stroke:#f8f8f2; stroke-linecap:round; stroke-linejoin:round; stroke-width:4; stroke-opacity:1; fill:none\" points=\"554.831,1486.27 554.831,1486.45 593.892,1486.45 593.892,1486.27 554.831,1486.27 \"/>\n",
       "<path clip-path=\"url(#clip172)\" d=\"M593.892 1484.44 L593.892 1486.45 L632.953 1486.45 L632.953 1484.44 L593.892 1484.44 L593.892 1484.44  Z\" fill=\"#8be9fd\" fill-rule=\"evenodd\" fill-opacity=\"1\"/>\n",
       "<polyline clip-path=\"url(#clip172)\" style=\"stroke:#f8f8f2; stroke-linecap:round; stroke-linejoin:round; stroke-width:4; stroke-opacity:1; fill:none\" points=\"593.892,1484.44 593.892,1486.45 632.953,1486.45 632.953,1484.44 593.892,1484.44 \"/>\n",
       "<path clip-path=\"url(#clip172)\" d=\"M632.953 1483.71 L632.953 1486.45 L672.015 1486.45 L672.015 1483.71 L632.953 1483.71 L632.953 1483.71  Z\" fill=\"#8be9fd\" fill-rule=\"evenodd\" fill-opacity=\"1\"/>\n",
       "<polyline clip-path=\"url(#clip172)\" style=\"stroke:#f8f8f2; stroke-linecap:round; stroke-linejoin:round; stroke-width:4; stroke-opacity:1; fill:none\" points=\"632.953,1483.71 632.953,1486.45 672.015,1486.45 672.015,1483.71 632.953,1483.71 \"/>\n",
       "<path clip-path=\"url(#clip172)\" d=\"M672.015 1480.43 L672.015 1486.45 L711.076 1486.45 L711.076 1480.43 L672.015 1480.43 L672.015 1480.43  Z\" fill=\"#8be9fd\" fill-rule=\"evenodd\" fill-opacity=\"1\"/>\n",
       "<polyline clip-path=\"url(#clip172)\" style=\"stroke:#f8f8f2; stroke-linecap:round; stroke-linejoin:round; stroke-width:4; stroke-opacity:1; fill:none\" points=\"672.015,1480.43 672.015,1486.45 711.076,1486.45 711.076,1480.43 672.015,1480.43 \"/>\n",
       "<path clip-path=\"url(#clip172)\" d=\"M711.076 1476.06 L711.076 1486.45 L750.138 1486.45 L750.138 1476.06 L711.076 1476.06 L711.076 1476.06  Z\" fill=\"#8be9fd\" fill-rule=\"evenodd\" fill-opacity=\"1\"/>\n",
       "<polyline clip-path=\"url(#clip172)\" style=\"stroke:#f8f8f2; stroke-linecap:round; stroke-linejoin:round; stroke-width:4; stroke-opacity:1; fill:none\" points=\"711.076,1476.06 711.076,1486.45 750.138,1486.45 750.138,1476.06 711.076,1476.06 \"/>\n",
       "<path clip-path=\"url(#clip172)\" d=\"M750.138 1465.48 L750.138 1486.45 L789.199 1486.45 L789.199 1465.48 L750.138 1465.48 L750.138 1465.48  Z\" fill=\"#8be9fd\" fill-rule=\"evenodd\" fill-opacity=\"1\"/>\n",
       "<polyline clip-path=\"url(#clip172)\" style=\"stroke:#f8f8f2; stroke-linecap:round; stroke-linejoin:round; stroke-width:4; stroke-opacity:1; fill:none\" points=\"750.138,1465.48 750.138,1486.45 789.199,1486.45 789.199,1465.48 750.138,1465.48 \"/>\n",
       "<path clip-path=\"url(#clip172)\" d=\"M789.199 1446.16 L789.199 1486.45 L828.26 1486.45 L828.26 1446.16 L789.199 1446.16 L789.199 1446.16  Z\" fill=\"#8be9fd\" fill-rule=\"evenodd\" fill-opacity=\"1\"/>\n",
       "<polyline clip-path=\"url(#clip172)\" style=\"stroke:#f8f8f2; stroke-linecap:round; stroke-linejoin:round; stroke-width:4; stroke-opacity:1; fill:none\" points=\"789.199,1446.16 789.199,1486.45 828.26,1486.45 828.26,1446.16 789.199,1446.16 \"/>\n",
       "<path clip-path=\"url(#clip172)\" d=\"M828.26 1422.46 L828.26 1486.45 L867.322 1486.45 L867.322 1422.46 L828.26 1422.46 L828.26 1422.46  Z\" fill=\"#8be9fd\" fill-rule=\"evenodd\" fill-opacity=\"1\"/>\n",
       "<polyline clip-path=\"url(#clip172)\" style=\"stroke:#f8f8f2; stroke-linecap:round; stroke-linejoin:round; stroke-width:4; stroke-opacity:1; fill:none\" points=\"828.26,1422.46 828.26,1486.45 867.322,1486.45 867.322,1422.46 828.26,1422.46 \"/>\n",
       "<path clip-path=\"url(#clip172)\" d=\"M867.322 1375.61 L867.322 1486.45 L906.383 1486.45 L906.383 1375.61 L867.322 1375.61 L867.322 1375.61  Z\" fill=\"#8be9fd\" fill-rule=\"evenodd\" fill-opacity=\"1\"/>\n",
       "<polyline clip-path=\"url(#clip172)\" style=\"stroke:#f8f8f2; stroke-linecap:round; stroke-linejoin:round; stroke-width:4; stroke-opacity:1; fill:none\" points=\"867.322,1375.61 867.322,1486.45 906.383,1486.45 906.383,1375.61 867.322,1375.61 \"/>\n",
       "<path clip-path=\"url(#clip172)\" d=\"M906.383 1322.57 L906.383 1486.45 L945.445 1486.45 L945.445 1322.57 L906.383 1322.57 L906.383 1322.57  Z\" fill=\"#8be9fd\" fill-rule=\"evenodd\" fill-opacity=\"1\"/>\n",
       "<polyline clip-path=\"url(#clip172)\" style=\"stroke:#f8f8f2; stroke-linecap:round; stroke-linejoin:round; stroke-width:4; stroke-opacity:1; fill:none\" points=\"906.383,1322.57 906.383,1486.45 945.445,1486.45 945.445,1322.57 906.383,1322.57 \"/>\n",
       "<path clip-path=\"url(#clip172)\" d=\"M945.445 1236.71 L945.445 1486.45 L984.506 1486.45 L984.506 1236.71 L945.445 1236.71 L945.445 1236.71  Z\" fill=\"#8be9fd\" fill-rule=\"evenodd\" fill-opacity=\"1\"/>\n",
       "<polyline clip-path=\"url(#clip172)\" style=\"stroke:#f8f8f2; stroke-linecap:round; stroke-linejoin:round; stroke-width:4; stroke-opacity:1; fill:none\" points=\"945.445,1236.71 945.445,1486.45 984.506,1486.45 984.506,1236.71 945.445,1236.71 \"/>\n",
       "<path clip-path=\"url(#clip172)\" d=\"M984.506 1146.47 L984.506 1486.45 L1023.57 1486.45 L1023.57 1146.47 L984.506 1146.47 L984.506 1146.47  Z\" fill=\"#8be9fd\" fill-rule=\"evenodd\" fill-opacity=\"1\"/>\n",
       "<polyline clip-path=\"url(#clip172)\" style=\"stroke:#f8f8f2; stroke-linecap:round; stroke-linejoin:round; stroke-width:4; stroke-opacity:1; fill:none\" points=\"984.506,1146.47 984.506,1486.45 1023.57,1486.45 1023.57,1146.47 984.506,1146.47 \"/>\n",
       "<path clip-path=\"url(#clip172)\" d=\"M1023.57 1001.18 L1023.57 1486.45 L1062.63 1486.45 L1062.63 1001.18 L1023.57 1001.18 L1023.57 1001.18  Z\" fill=\"#8be9fd\" fill-rule=\"evenodd\" fill-opacity=\"1\"/>\n",
       "<polyline clip-path=\"url(#clip172)\" style=\"stroke:#f8f8f2; stroke-linecap:round; stroke-linejoin:round; stroke-width:4; stroke-opacity:1; fill:none\" points=\"1023.57,1001.18 1023.57,1486.45 1062.63,1486.45 1062.63,1001.18 1023.57,1001.18 \"/>\n",
       "<path clip-path=\"url(#clip172)\" d=\"M1062.63 852.25 L1062.63 1486.45 L1101.69 1486.45 L1101.69 852.25 L1062.63 852.25 L1062.63 852.25  Z\" fill=\"#8be9fd\" fill-rule=\"evenodd\" fill-opacity=\"1\"/>\n",
       "<polyline clip-path=\"url(#clip172)\" style=\"stroke:#f8f8f2; stroke-linecap:round; stroke-linejoin:round; stroke-width:4; stroke-opacity:1; fill:none\" points=\"1062.63,852.25 1062.63,1486.45 1101.69,1486.45 1101.69,852.25 1062.63,852.25 \"/>\n",
       "<path clip-path=\"url(#clip172)\" d=\"M1101.69 681.806 L1101.69 1486.45 L1140.75 1486.45 L1140.75 681.806 L1101.69 681.806 L1101.69 681.806  Z\" fill=\"#8be9fd\" fill-rule=\"evenodd\" fill-opacity=\"1\"/>\n",
       "<polyline clip-path=\"url(#clip172)\" style=\"stroke:#f8f8f2; stroke-linecap:round; stroke-linejoin:round; stroke-width:4; stroke-opacity:1; fill:none\" points=\"1101.69,681.806 1101.69,1486.45 1140.75,1486.45 1140.75,681.806 1101.69,681.806 \"/>\n",
       "<path clip-path=\"url(#clip172)\" d=\"M1140.75 520.112 L1140.75 1486.45 L1179.81 1486.45 L1179.81 520.112 L1140.75 520.112 L1140.75 520.112  Z\" fill=\"#8be9fd\" fill-rule=\"evenodd\" fill-opacity=\"1\"/>\n",
       "<polyline clip-path=\"url(#clip172)\" style=\"stroke:#f8f8f2; stroke-linecap:round; stroke-linejoin:round; stroke-width:4; stroke-opacity:1; fill:none\" points=\"1140.75,520.112 1140.75,1486.45 1179.81,1486.45 1179.81,520.112 1140.75,520.112 \"/>\n",
       "<path clip-path=\"url(#clip172)\" d=\"M1179.81 343.653 L1179.81 1486.45 L1218.87 1486.45 L1218.87 343.653 L1179.81 343.653 L1179.81 343.653  Z\" fill=\"#8be9fd\" fill-rule=\"evenodd\" fill-opacity=\"1\"/>\n",
       "<polyline clip-path=\"url(#clip172)\" style=\"stroke:#f8f8f2; stroke-linecap:round; stroke-linejoin:round; stroke-width:4; stroke-opacity:1; fill:none\" points=\"1179.81,343.653 1179.81,1486.45 1218.87,1486.45 1218.87,343.653 1179.81,343.653 \"/>\n",
       "<path clip-path=\"url(#clip172)\" d=\"M1218.87 186.151 L1218.87 1486.45 L1257.94 1486.45 L1257.94 186.151 L1218.87 186.151 L1218.87 186.151  Z\" fill=\"#8be9fd\" fill-rule=\"evenodd\" fill-opacity=\"1\"/>\n",
       "<polyline clip-path=\"url(#clip172)\" style=\"stroke:#f8f8f2; stroke-linecap:round; stroke-linejoin:round; stroke-width:4; stroke-opacity:1; fill:none\" points=\"1218.87,186.151 1218.87,1486.45 1257.94,1486.45 1257.94,186.151 1218.87,186.151 \"/>\n",
       "<path clip-path=\"url(#clip172)\" d=\"M1257.94 89.1715 L1257.94 1486.45 L1297 1486.45 L1297 89.1715 L1257.94 89.1715 L1257.94 89.1715  Z\" fill=\"#8be9fd\" fill-rule=\"evenodd\" fill-opacity=\"1\"/>\n",
       "<polyline clip-path=\"url(#clip172)\" style=\"stroke:#f8f8f2; stroke-linecap:round; stroke-linejoin:round; stroke-width:4; stroke-opacity:1; fill:none\" points=\"1257.94,89.1715 1257.94,1486.45 1297,1486.45 1297,89.1715 1257.94,89.1715 \"/>\n",
       "<path clip-path=\"url(#clip172)\" d=\"M1297 55.8119 L1297 1486.45 L1336.06 1486.45 L1336.06 55.8119 L1297 55.8119 L1297 55.8119  Z\" fill=\"#8be9fd\" fill-rule=\"evenodd\" fill-opacity=\"1\"/>\n",
       "<polyline clip-path=\"url(#clip172)\" style=\"stroke:#f8f8f2; stroke-linecap:round; stroke-linejoin:round; stroke-width:4; stroke-opacity:1; fill:none\" points=\"1297,55.8119 1297,1486.45 1336.06,1486.45 1336.06,55.8119 1297,55.8119 \"/>\n",
       "<path clip-path=\"url(#clip172)\" d=\"M1336.06 47.2441 L1336.06 1486.45 L1375.12 1486.45 L1375.12 47.2441 L1336.06 47.2441 L1336.06 47.2441  Z\" fill=\"#8be9fd\" fill-rule=\"evenodd\" fill-opacity=\"1\"/>\n",
       "<polyline clip-path=\"url(#clip172)\" style=\"stroke:#f8f8f2; stroke-linecap:round; stroke-linejoin:round; stroke-width:4; stroke-opacity:1; fill:none\" points=\"1336.06,47.2441 1336.06,1486.45 1375.12,1486.45 1375.12,47.2441 1336.06,47.2441 \"/>\n",
       "<path clip-path=\"url(#clip172)\" d=\"M1375.12 99.0153 L1375.12 1486.45 L1414.18 1486.45 L1414.18 99.0153 L1375.12 99.0153 L1375.12 99.0153  Z\" fill=\"#8be9fd\" fill-rule=\"evenodd\" fill-opacity=\"1\"/>\n",
       "<polyline clip-path=\"url(#clip172)\" style=\"stroke:#f8f8f2; stroke-linecap:round; stroke-linejoin:round; stroke-width:4; stroke-opacity:1; fill:none\" points=\"1375.12,99.0153 1375.12,1486.45 1414.18,1486.45 1414.18,99.0153 1375.12,99.0153 \"/>\n",
       "<path clip-path=\"url(#clip172)\" d=\"M1414.18 215.318 L1414.18 1486.45 L1453.24 1486.45 L1453.24 215.318 L1414.18 215.318 L1414.18 215.318  Z\" fill=\"#8be9fd\" fill-rule=\"evenodd\" fill-opacity=\"1\"/>\n",
       "<polyline clip-path=\"url(#clip172)\" style=\"stroke:#f8f8f2; stroke-linecap:round; stroke-linejoin:round; stroke-width:4; stroke-opacity:1; fill:none\" points=\"1414.18,215.318 1414.18,1486.45 1453.24,1486.45 1453.24,215.318 1414.18,215.318 \"/>\n",
       "<path clip-path=\"url(#clip172)\" d=\"M1453.24 359.148 L1453.24 1486.45 L1492.3 1486.45 L1492.3 359.148 L1453.24 359.148 L1453.24 359.148  Z\" fill=\"#8be9fd\" fill-rule=\"evenodd\" fill-opacity=\"1\"/>\n",
       "<polyline clip-path=\"url(#clip172)\" style=\"stroke:#f8f8f2; stroke-linecap:round; stroke-linejoin:round; stroke-width:4; stroke-opacity:1; fill:none\" points=\"1453.24,359.148 1453.24,1486.45 1492.3,1486.45 1492.3,359.148 1453.24,359.148 \"/>\n",
       "<path clip-path=\"url(#clip172)\" d=\"M1492.3 543.993 L1492.3 1486.45 L1531.37 1486.45 L1531.37 543.993 L1492.3 543.993 L1492.3 543.993  Z\" fill=\"#8be9fd\" fill-rule=\"evenodd\" fill-opacity=\"1\"/>\n",
       "<polyline clip-path=\"url(#clip172)\" style=\"stroke:#f8f8f2; stroke-linecap:round; stroke-linejoin:round; stroke-width:4; stroke-opacity:1; fill:none\" points=\"1492.3,543.993 1492.3,1486.45 1531.37,1486.45 1531.37,543.993 1492.3,543.993 \"/>\n",
       "<path clip-path=\"url(#clip172)\" d=\"M1531.37 685.817 L1531.37 1486.45 L1570.43 1486.45 L1570.43 685.817 L1531.37 685.817 L1531.37 685.817  Z\" fill=\"#8be9fd\" fill-rule=\"evenodd\" fill-opacity=\"1\"/>\n",
       "<polyline clip-path=\"url(#clip172)\" style=\"stroke:#f8f8f2; stroke-linecap:round; stroke-linejoin:round; stroke-width:4; stroke-opacity:1; fill:none\" points=\"1531.37,685.817 1531.37,1486.45 1570.43,1486.45 1570.43,685.817 1531.37,685.817 \"/>\n",
       "<path clip-path=\"url(#clip172)\" d=\"M1570.43 879.594 L1570.43 1486.45 L1609.49 1486.45 L1609.49 879.594 L1570.43 879.594 L1570.43 879.594  Z\" fill=\"#8be9fd\" fill-rule=\"evenodd\" fill-opacity=\"1\"/>\n",
       "<polyline clip-path=\"url(#clip172)\" style=\"stroke:#f8f8f2; stroke-linecap:round; stroke-linejoin:round; stroke-width:4; stroke-opacity:1; fill:none\" points=\"1570.43,879.594 1570.43,1486.45 1609.49,1486.45 1609.49,879.594 1570.43,879.594 \"/>\n",
       "<path clip-path=\"url(#clip172)\" d=\"M1609.49 1013.4 L1609.49 1486.45 L1648.55 1486.45 L1648.55 1013.4 L1609.49 1013.4 L1609.49 1013.4  Z\" fill=\"#8be9fd\" fill-rule=\"evenodd\" fill-opacity=\"1\"/>\n",
       "<polyline clip-path=\"url(#clip172)\" style=\"stroke:#f8f8f2; stroke-linecap:round; stroke-linejoin:round; stroke-width:4; stroke-opacity:1; fill:none\" points=\"1609.49,1013.4 1609.49,1486.45 1648.55,1486.45 1648.55,1013.4 1609.49,1013.4 \"/>\n",
       "<path clip-path=\"url(#clip172)\" d=\"M1648.55 1126.42 L1648.55 1486.45 L1687.61 1486.45 L1687.61 1126.42 L1648.55 1126.42 L1648.55 1126.42  Z\" fill=\"#8be9fd\" fill-rule=\"evenodd\" fill-opacity=\"1\"/>\n",
       "<polyline clip-path=\"url(#clip172)\" style=\"stroke:#f8f8f2; stroke-linecap:round; stroke-linejoin:round; stroke-width:4; stroke-opacity:1; fill:none\" points=\"1648.55,1126.42 1648.55,1486.45 1687.61,1486.45 1687.61,1126.42 1648.55,1126.42 \"/>\n",
       "<path clip-path=\"url(#clip172)\" d=\"M1687.61 1247.64 L1687.61 1486.45 L1726.67 1486.45 L1726.67 1247.64 L1687.61 1247.64 L1687.61 1247.64  Z\" fill=\"#8be9fd\" fill-rule=\"evenodd\" fill-opacity=\"1\"/>\n",
       "<polyline clip-path=\"url(#clip172)\" style=\"stroke:#f8f8f2; stroke-linecap:round; stroke-linejoin:round; stroke-width:4; stroke-opacity:1; fill:none\" points=\"1687.61,1247.64 1687.61,1486.45 1726.67,1486.45 1726.67,1247.64 1687.61,1247.64 \"/>\n",
       "<path clip-path=\"url(#clip172)\" d=\"M1726.67 1336.06 L1726.67 1486.45 L1765.73 1486.45 L1765.73 1336.06 L1726.67 1336.06 L1726.67 1336.06  Z\" fill=\"#8be9fd\" fill-rule=\"evenodd\" fill-opacity=\"1\"/>\n",
       "<polyline clip-path=\"url(#clip172)\" style=\"stroke:#f8f8f2; stroke-linecap:round; stroke-linejoin:round; stroke-width:4; stroke-opacity:1; fill:none\" points=\"1726.67,1336.06 1726.67,1486.45 1765.73,1486.45 1765.73,1336.06 1726.67,1336.06 \"/>\n",
       "<path clip-path=\"url(#clip172)\" d=\"M1765.73 1378.35 L1765.73 1486.45 L1804.79 1486.45 L1804.79 1378.35 L1765.73 1378.35 L1765.73 1378.35  Z\" fill=\"#8be9fd\" fill-rule=\"evenodd\" fill-opacity=\"1\"/>\n",
       "<polyline clip-path=\"url(#clip172)\" style=\"stroke:#f8f8f2; stroke-linecap:round; stroke-linejoin:round; stroke-width:4; stroke-opacity:1; fill:none\" points=\"1765.73,1378.35 1765.73,1486.45 1804.79,1486.45 1804.79,1378.35 1765.73,1378.35 \"/>\n",
       "<path clip-path=\"url(#clip172)\" d=\"M1804.79 1423.01 L1804.79 1486.45 L1843.86 1486.45 L1843.86 1423.01 L1804.79 1423.01 L1804.79 1423.01  Z\" fill=\"#8be9fd\" fill-rule=\"evenodd\" fill-opacity=\"1\"/>\n",
       "<polyline clip-path=\"url(#clip172)\" style=\"stroke:#f8f8f2; stroke-linecap:round; stroke-linejoin:round; stroke-width:4; stroke-opacity:1; fill:none\" points=\"1804.79,1423.01 1804.79,1486.45 1843.86,1486.45 1843.86,1423.01 1804.79,1423.01 \"/>\n",
       "<path clip-path=\"url(#clip172)\" d=\"M1843.86 1444.89 L1843.86 1486.45 L1882.92 1486.45 L1882.92 1444.89 L1843.86 1444.89 L1843.86 1444.89  Z\" fill=\"#8be9fd\" fill-rule=\"evenodd\" fill-opacity=\"1\"/>\n",
       "<polyline clip-path=\"url(#clip172)\" style=\"stroke:#f8f8f2; stroke-linecap:round; stroke-linejoin:round; stroke-width:4; stroke-opacity:1; fill:none\" points=\"1843.86,1444.89 1843.86,1486.45 1882.92,1486.45 1882.92,1444.89 1843.86,1444.89 \"/>\n",
       "<path clip-path=\"url(#clip172)\" d=\"M1882.92 1463.84 L1882.92 1486.45 L1921.98 1486.45 L1921.98 1463.84 L1882.92 1463.84 L1882.92 1463.84  Z\" fill=\"#8be9fd\" fill-rule=\"evenodd\" fill-opacity=\"1\"/>\n",
       "<polyline clip-path=\"url(#clip172)\" style=\"stroke:#f8f8f2; stroke-linecap:round; stroke-linejoin:round; stroke-width:4; stroke-opacity:1; fill:none\" points=\"1882.92,1463.84 1882.92,1486.45 1921.98,1486.45 1921.98,1463.84 1882.92,1463.84 \"/>\n",
       "<path clip-path=\"url(#clip172)\" d=\"M1921.98 1474.6 L1921.98 1486.45 L1961.04 1486.45 L1961.04 1474.6 L1921.98 1474.6 L1921.98 1474.6  Z\" fill=\"#8be9fd\" fill-rule=\"evenodd\" fill-opacity=\"1\"/>\n",
       "<polyline clip-path=\"url(#clip172)\" style=\"stroke:#f8f8f2; stroke-linecap:round; stroke-linejoin:round; stroke-width:4; stroke-opacity:1; fill:none\" points=\"1921.98,1474.6 1921.98,1486.45 1961.04,1486.45 1961.04,1474.6 1921.98,1474.6 \"/>\n",
       "<path clip-path=\"url(#clip172)\" d=\"M1961.04 1480.61 L1961.04 1486.45 L2000.1 1486.45 L2000.1 1480.61 L1961.04 1480.61 L1961.04 1480.61  Z\" fill=\"#8be9fd\" fill-rule=\"evenodd\" fill-opacity=\"1\"/>\n",
       "<polyline clip-path=\"url(#clip172)\" style=\"stroke:#f8f8f2; stroke-linecap:round; stroke-linejoin:round; stroke-width:4; stroke-opacity:1; fill:none\" points=\"1961.04,1480.61 1961.04,1486.45 2000.1,1486.45 2000.1,1480.61 1961.04,1480.61 \"/>\n",
       "<path clip-path=\"url(#clip172)\" d=\"M2000.1 1483.71 L2000.1 1486.45 L2039.16 1486.45 L2039.16 1483.71 L2000.1 1483.71 L2000.1 1483.71  Z\" fill=\"#8be9fd\" fill-rule=\"evenodd\" fill-opacity=\"1\"/>\n",
       "<polyline clip-path=\"url(#clip172)\" style=\"stroke:#f8f8f2; stroke-linecap:round; stroke-linejoin:round; stroke-width:4; stroke-opacity:1; fill:none\" points=\"2000.1,1483.71 2000.1,1486.45 2039.16,1486.45 2039.16,1483.71 2000.1,1483.71 \"/>\n",
       "<path clip-path=\"url(#clip172)\" d=\"M2039.16 1484.81 L2039.16 1486.45 L2078.22 1486.45 L2078.22 1484.81 L2039.16 1484.81 L2039.16 1484.81  Z\" fill=\"#8be9fd\" fill-rule=\"evenodd\" fill-opacity=\"1\"/>\n",
       "<polyline clip-path=\"url(#clip172)\" style=\"stroke:#f8f8f2; stroke-linecap:round; stroke-linejoin:round; stroke-width:4; stroke-opacity:1; fill:none\" points=\"2039.16,1484.81 2039.16,1486.45 2078.22,1486.45 2078.22,1484.81 2039.16,1484.81 \"/>\n",
       "<path clip-path=\"url(#clip172)\" d=\"M2078.22 1485.72 L2078.22 1486.45 L2117.29 1486.45 L2117.29 1485.72 L2078.22 1485.72 L2078.22 1485.72  Z\" fill=\"#8be9fd\" fill-rule=\"evenodd\" fill-opacity=\"1\"/>\n",
       "<polyline clip-path=\"url(#clip172)\" style=\"stroke:#f8f8f2; stroke-linecap:round; stroke-linejoin:round; stroke-width:4; stroke-opacity:1; fill:none\" points=\"2078.22,1485.72 2078.22,1486.45 2117.29,1486.45 2117.29,1485.72 2078.22,1485.72 \"/>\n",
       "<path clip-path=\"url(#clip172)\" d=\"M2117.29 1486.27 L2117.29 1486.45 L2156.35 1486.45 L2156.35 1486.27 L2117.29 1486.27 L2117.29 1486.27  Z\" fill=\"#8be9fd\" fill-rule=\"evenodd\" fill-opacity=\"1\"/>\n",
       "<polyline clip-path=\"url(#clip172)\" style=\"stroke:#f8f8f2; stroke-linecap:round; stroke-linejoin:round; stroke-width:4; stroke-opacity:1; fill:none\" points=\"2117.29,1486.27 2117.29,1486.45 2156.35,1486.45 2156.35,1486.27 2117.29,1486.27 \"/>\n",
       "<path clip-path=\"url(#clip172)\" d=\"M2156.35 1486.45 L2156.35 1486.45 L2195.41 1486.45 L2195.41 1486.45 L2156.35 1486.45 L2156.35 1486.45  Z\" fill=\"#8be9fd\" fill-rule=\"evenodd\" fill-opacity=\"1\"/>\n",
       "<polyline clip-path=\"url(#clip172)\" style=\"stroke:#f8f8f2; stroke-linecap:round; stroke-linejoin:round; stroke-width:4; stroke-opacity:1; fill:none\" points=\"2156.35,1486.45 2156.35,1486.45 2195.41,1486.45 2156.35,1486.45 \"/>\n",
       "<path clip-path=\"url(#clip172)\" d=\"M2195.41 1486.08 L2195.41 1486.45 L2234.47 1486.45 L2234.47 1486.08 L2195.41 1486.08 L2195.41 1486.08  Z\" fill=\"#8be9fd\" fill-rule=\"evenodd\" fill-opacity=\"1\"/>\n",
       "<polyline clip-path=\"url(#clip172)\" style=\"stroke:#f8f8f2; stroke-linecap:round; stroke-linejoin:round; stroke-width:4; stroke-opacity:1; fill:none\" points=\"2195.41,1486.08 2195.41,1486.45 2234.47,1486.45 2234.47,1486.08 2195.41,1486.08 \"/>\n",
       "<circle clip-path=\"url(#clip172)\" style=\"fill:#8be9fd; stroke:none; fill-opacity:0\" cx=\"339.993\" cy=\"1486.27\" r=\"2\"/>\n",
       "<circle clip-path=\"url(#clip172)\" style=\"fill:#8be9fd; stroke:none; fill-opacity:0\" cx=\"379.054\" cy=\"1486.45\" r=\"2\"/>\n",
       "<circle clip-path=\"url(#clip172)\" style=\"fill:#8be9fd; stroke:none; fill-opacity:0\" cx=\"418.116\" cy=\"1486.45\" r=\"2\"/>\n",
       "<circle clip-path=\"url(#clip172)\" style=\"fill:#8be9fd; stroke:none; fill-opacity:0\" cx=\"457.177\" cy=\"1486.27\" r=\"2\"/>\n",
       "<circle clip-path=\"url(#clip172)\" style=\"fill:#8be9fd; stroke:none; fill-opacity:0\" cx=\"496.239\" cy=\"1486.45\" r=\"2\"/>\n",
       "<circle clip-path=\"url(#clip172)\" style=\"fill:#8be9fd; stroke:none; fill-opacity:0\" cx=\"535.3\" cy=\"1486.27\" r=\"2\"/>\n",
       "<circle clip-path=\"url(#clip172)\" style=\"fill:#8be9fd; stroke:none; fill-opacity:0\" cx=\"574.361\" cy=\"1486.27\" r=\"2\"/>\n",
       "<circle clip-path=\"url(#clip172)\" style=\"fill:#8be9fd; stroke:none; fill-opacity:0\" cx=\"613.423\" cy=\"1484.44\" r=\"2\"/>\n",
       "<circle clip-path=\"url(#clip172)\" style=\"fill:#8be9fd; stroke:none; fill-opacity:0\" cx=\"652.484\" cy=\"1483.71\" r=\"2\"/>\n",
       "<circle clip-path=\"url(#clip172)\" style=\"fill:#8be9fd; stroke:none; fill-opacity:0\" cx=\"691.546\" cy=\"1480.43\" r=\"2\"/>\n",
       "<circle clip-path=\"url(#clip172)\" style=\"fill:#8be9fd; stroke:none; fill-opacity:0\" cx=\"730.607\" cy=\"1476.06\" r=\"2\"/>\n",
       "<circle clip-path=\"url(#clip172)\" style=\"fill:#8be9fd; stroke:none; fill-opacity:0\" cx=\"769.668\" cy=\"1465.48\" r=\"2\"/>\n",
       "<circle clip-path=\"url(#clip172)\" style=\"fill:#8be9fd; stroke:none; fill-opacity:0\" cx=\"808.73\" cy=\"1446.16\" r=\"2\"/>\n",
       "<circle clip-path=\"url(#clip172)\" style=\"fill:#8be9fd; stroke:none; fill-opacity:0\" cx=\"847.791\" cy=\"1422.46\" r=\"2\"/>\n",
       "<circle clip-path=\"url(#clip172)\" style=\"fill:#8be9fd; stroke:none; fill-opacity:0\" cx=\"886.852\" cy=\"1375.61\" r=\"2\"/>\n",
       "<circle clip-path=\"url(#clip172)\" style=\"fill:#8be9fd; stroke:none; fill-opacity:0\" cx=\"925.914\" cy=\"1322.57\" r=\"2\"/>\n",
       "<circle clip-path=\"url(#clip172)\" style=\"fill:#8be9fd; stroke:none; fill-opacity:0\" cx=\"964.975\" cy=\"1236.71\" r=\"2\"/>\n",
       "<circle clip-path=\"url(#clip172)\" style=\"fill:#8be9fd; stroke:none; fill-opacity:0\" cx=\"1004.04\" cy=\"1146.47\" r=\"2\"/>\n",
       "<circle clip-path=\"url(#clip172)\" style=\"fill:#8be9fd; stroke:none; fill-opacity:0\" cx=\"1043.1\" cy=\"1001.18\" r=\"2\"/>\n",
       "<circle clip-path=\"url(#clip172)\" style=\"fill:#8be9fd; stroke:none; fill-opacity:0\" cx=\"1082.16\" cy=\"852.25\" r=\"2\"/>\n",
       "<circle clip-path=\"url(#clip172)\" style=\"fill:#8be9fd; stroke:none; fill-opacity:0\" cx=\"1121.22\" cy=\"681.806\" r=\"2\"/>\n",
       "<circle clip-path=\"url(#clip172)\" style=\"fill:#8be9fd; stroke:none; fill-opacity:0\" cx=\"1160.28\" cy=\"520.112\" r=\"2\"/>\n",
       "<circle clip-path=\"url(#clip172)\" style=\"fill:#8be9fd; stroke:none; fill-opacity:0\" cx=\"1199.34\" cy=\"343.653\" r=\"2\"/>\n",
       "<circle clip-path=\"url(#clip172)\" style=\"fill:#8be9fd; stroke:none; fill-opacity:0\" cx=\"1238.4\" cy=\"186.151\" r=\"2\"/>\n",
       "<circle clip-path=\"url(#clip172)\" style=\"fill:#8be9fd; stroke:none; fill-opacity:0\" cx=\"1277.47\" cy=\"89.1715\" r=\"2\"/>\n",
       "<circle clip-path=\"url(#clip172)\" style=\"fill:#8be9fd; stroke:none; fill-opacity:0\" cx=\"1316.53\" cy=\"55.8119\" r=\"2\"/>\n",
       "<circle clip-path=\"url(#clip172)\" style=\"fill:#8be9fd; stroke:none; fill-opacity:0\" cx=\"1355.59\" cy=\"47.2441\" r=\"2\"/>\n",
       "<circle clip-path=\"url(#clip172)\" style=\"fill:#8be9fd; stroke:none; fill-opacity:0\" cx=\"1394.65\" cy=\"99.0153\" r=\"2\"/>\n",
       "<circle clip-path=\"url(#clip172)\" style=\"fill:#8be9fd; stroke:none; fill-opacity:0\" cx=\"1433.71\" cy=\"215.318\" r=\"2\"/>\n",
       "<circle clip-path=\"url(#clip172)\" style=\"fill:#8be9fd; stroke:none; fill-opacity:0\" cx=\"1472.77\" cy=\"359.148\" r=\"2\"/>\n",
       "<circle clip-path=\"url(#clip172)\" style=\"fill:#8be9fd; stroke:none; fill-opacity:0\" cx=\"1511.83\" cy=\"543.993\" r=\"2\"/>\n",
       "<circle clip-path=\"url(#clip172)\" style=\"fill:#8be9fd; stroke:none; fill-opacity:0\" cx=\"1550.9\" cy=\"685.817\" r=\"2\"/>\n",
       "<circle clip-path=\"url(#clip172)\" style=\"fill:#8be9fd; stroke:none; fill-opacity:0\" cx=\"1589.96\" cy=\"879.594\" r=\"2\"/>\n",
       "<circle clip-path=\"url(#clip172)\" style=\"fill:#8be9fd; stroke:none; fill-opacity:0\" cx=\"1629.02\" cy=\"1013.4\" r=\"2\"/>\n",
       "<circle clip-path=\"url(#clip172)\" style=\"fill:#8be9fd; stroke:none; fill-opacity:0\" cx=\"1668.08\" cy=\"1126.42\" r=\"2\"/>\n",
       "<circle clip-path=\"url(#clip172)\" style=\"fill:#8be9fd; stroke:none; fill-opacity:0\" cx=\"1707.14\" cy=\"1247.64\" r=\"2\"/>\n",
       "<circle clip-path=\"url(#clip172)\" style=\"fill:#8be9fd; stroke:none; fill-opacity:0\" cx=\"1746.2\" cy=\"1336.06\" r=\"2\"/>\n",
       "<circle clip-path=\"url(#clip172)\" style=\"fill:#8be9fd; stroke:none; fill-opacity:0\" cx=\"1785.26\" cy=\"1378.35\" r=\"2\"/>\n",
       "<circle clip-path=\"url(#clip172)\" style=\"fill:#8be9fd; stroke:none; fill-opacity:0\" cx=\"1824.33\" cy=\"1423.01\" r=\"2\"/>\n",
       "<circle clip-path=\"url(#clip172)\" style=\"fill:#8be9fd; stroke:none; fill-opacity:0\" cx=\"1863.39\" cy=\"1444.89\" r=\"2\"/>\n",
       "<circle clip-path=\"url(#clip172)\" style=\"fill:#8be9fd; stroke:none; fill-opacity:0\" cx=\"1902.45\" cy=\"1463.84\" r=\"2\"/>\n",
       "<circle clip-path=\"url(#clip172)\" style=\"fill:#8be9fd; stroke:none; fill-opacity:0\" cx=\"1941.51\" cy=\"1474.6\" r=\"2\"/>\n",
       "<circle clip-path=\"url(#clip172)\" style=\"fill:#8be9fd; stroke:none; fill-opacity:0\" cx=\"1980.57\" cy=\"1480.61\" r=\"2\"/>\n",
       "<circle clip-path=\"url(#clip172)\" style=\"fill:#8be9fd; stroke:none; fill-opacity:0\" cx=\"2019.63\" cy=\"1483.71\" r=\"2\"/>\n",
       "<circle clip-path=\"url(#clip172)\" style=\"fill:#8be9fd; stroke:none; fill-opacity:0\" cx=\"2058.69\" cy=\"1484.81\" r=\"2\"/>\n",
       "<circle clip-path=\"url(#clip172)\" style=\"fill:#8be9fd; stroke:none; fill-opacity:0\" cx=\"2097.76\" cy=\"1485.72\" r=\"2\"/>\n",
       "<circle clip-path=\"url(#clip172)\" style=\"fill:#8be9fd; stroke:none; fill-opacity:0\" cx=\"2136.82\" cy=\"1486.27\" r=\"2\"/>\n",
       "<circle clip-path=\"url(#clip172)\" style=\"fill:#8be9fd; stroke:none; fill-opacity:0\" cx=\"2175.88\" cy=\"1486.45\" r=\"2\"/>\n",
       "<circle clip-path=\"url(#clip172)\" style=\"fill:#8be9fd; stroke:none; fill-opacity:0\" cx=\"2214.94\" cy=\"1486.08\" r=\"2\"/>\n",
       "</svg>\n"
      ]
     },
     "execution_count": 90,
     "metadata": {},
     "output_type": "execute_result"
    }
   ],
   "source": [
    "x = randn(10^5)\n",
    "histogram(x, bins=64, legend=false)"
   ]
  },
  {
   "cell_type": "code",
   "execution_count": 91,
   "metadata": {},
   "outputs": [
    {
     "data": {
      "text/latex": [
       "\\textbf{Histogram in 2D}\n",
       "\n"
      ],
      "text/markdown": [
       "**Histogram in 2D**\n"
      ],
      "text/plain": [
       "  \u001b[1mHistogram in 2D\u001b[22m"
      ]
     },
     "execution_count": 91,
     "metadata": {},
     "output_type": "execute_result"
    }
   ],
   "source": [
    "md\"**Histogram in 2D**\""
   ]
  },
  {
   "cell_type": "code",
   "execution_count": 92,
   "metadata": {},
   "outputs": [
    {
     "data": {
      "image/png": "[encoded data removed]",
      "image/svg+xml": [
       "<?xml version=\"1.0\" encoding=\"utf-8\"?>\n",
       "<svg xmlns=\"http://www.w3.org/2000/svg\" xmlns:xlink=\"http://www.w3.org/1999/xlink\" width=\"600\" height=\"400\" viewBox=\"0 0 2400 1600\">\n",
       "<defs>\n",
       "  <clipPath id=\"clip210\">\n",
       "    <rect x=\"0\" y=\"0\" width=\"2400\" height=\"1600\"/>\n",
       "  </clipPath>\n",
       "</defs>\n",
       "<path clip-path=\"url(#clip210)\" d=\"M0 1600 L2400 1600 L2400 0 L0 0  Z\" fill=\"#282a36\" fill-rule=\"evenodd\" fill-opacity=\"1\"/>\n",
       "<defs>\n",
       "  <clipPath id=\"clip211\">\n",
       "    <rect x=\"480\" y=\"0\" width=\"1681\" height=\"1600\"/>\n",
       "  </clipPath>\n",
       "</defs>\n",
       "<path clip-path=\"url(#clip210)\" d=\"M149.191 1486.45 L2112.76 1486.45 L2112.76 47.2441 L149.191 47.2441  Z\" fill=\"#30343b\" fill-rule=\"evenodd\" fill-opacity=\"1\"/>\n",
       "<defs>\n",
       "  <clipPath id=\"clip212\">\n",
       "    <rect x=\"149\" y=\"47\" width=\"1965\" height=\"1440\"/>\n",
       "  </clipPath>\n",
       "</defs>\n",
       "<polyline clip-path=\"url(#clip212)\" style=\"stroke:#f8f8f2; stroke-linecap:round; stroke-linejoin:round; stroke-width:2; stroke-opacity:0.1; fill:none\" points=\"238.444,1486.45 238.444,47.2441 \"/>\n",
       "<polyline clip-path=\"url(#clip212)\" style=\"stroke:#f8f8f2; stroke-linecap:round; stroke-linejoin:round; stroke-width:2; stroke-opacity:0.1; fill:none\" points=\"684.709,1486.45 684.709,47.2441 \"/>\n",
       "<polyline clip-path=\"url(#clip212)\" style=\"stroke:#f8f8f2; stroke-linecap:round; stroke-linejoin:round; stroke-width:2; stroke-opacity:0.1; fill:none\" points=\"1130.97,1486.45 1130.97,47.2441 \"/>\n",
       "<polyline clip-path=\"url(#clip212)\" style=\"stroke:#f8f8f2; stroke-linecap:round; stroke-linejoin:round; stroke-width:2; stroke-opacity:0.1; fill:none\" points=\"1577.24,1486.45 1577.24,47.2441 \"/>\n",
       "<polyline clip-path=\"url(#clip212)\" style=\"stroke:#f8f8f2; stroke-linecap:round; stroke-linejoin:round; stroke-width:2; stroke-opacity:0.1; fill:none\" points=\"2023.5,1486.45 2023.5,47.2441 \"/>\n",
       "<polyline clip-path=\"url(#clip212)\" style=\"stroke:#f8f8f2; stroke-linecap:round; stroke-linejoin:round; stroke-width:2; stroke-opacity:0.1; fill:none\" points=\"149.191,1486.45 2112.76,1486.45 \"/>\n",
       "<polyline clip-path=\"url(#clip212)\" style=\"stroke:#f8f8f2; stroke-linecap:round; stroke-linejoin:round; stroke-width:2; stroke-opacity:0.1; fill:none\" points=\"149.191,1159.36 2112.76,1159.36 \"/>\n",
       "<polyline clip-path=\"url(#clip212)\" style=\"stroke:#f8f8f2; stroke-linecap:round; stroke-linejoin:round; stroke-width:2; stroke-opacity:0.1; fill:none\" points=\"149.191,832.264 2112.76,832.264 \"/>\n",
       "<polyline clip-path=\"url(#clip212)\" style=\"stroke:#f8f8f2; stroke-linecap:round; stroke-linejoin:round; stroke-width:2; stroke-opacity:0.1; fill:none\" points=\"149.191,505.173 2112.76,505.173 \"/>\n",
       "<polyline clip-path=\"url(#clip212)\" style=\"stroke:#f8f8f2; stroke-linecap:round; stroke-linejoin:round; stroke-width:2; stroke-opacity:0.1; fill:none\" points=\"149.191,178.081 2112.76,178.081 \"/>\n",
       "<polyline clip-path=\"url(#clip210)\" style=\"stroke:#f8f8f2; stroke-linecap:round; stroke-linejoin:round; stroke-width:4; stroke-opacity:1; fill:none\" points=\"149.191,1486.45 2112.76,1486.45 \"/>\n",
       "<polyline clip-path=\"url(#clip210)\" style=\"stroke:#f8f8f2; stroke-linecap:round; stroke-linejoin:round; stroke-width:4; stroke-opacity:1; fill:none\" points=\"238.444,1486.45 238.444,1467.55 \"/>\n",
       "<polyline clip-path=\"url(#clip210)\" style=\"stroke:#f8f8f2; stroke-linecap:round; stroke-linejoin:round; stroke-width:4; stroke-opacity:1; fill:none\" points=\"684.709,1486.45 684.709,1467.55 \"/>\n",
       "<polyline clip-path=\"url(#clip210)\" style=\"stroke:#f8f8f2; stroke-linecap:round; stroke-linejoin:round; stroke-width:4; stroke-opacity:1; fill:none\" points=\"1130.97,1486.45 1130.97,1467.55 \"/>\n",
       "<polyline clip-path=\"url(#clip210)\" style=\"stroke:#f8f8f2; stroke-linecap:round; stroke-linejoin:round; stroke-width:4; stroke-opacity:1; fill:none\" points=\"1577.24,1486.45 1577.24,1467.55 \"/>\n",
       "<polyline clip-path=\"url(#clip210)\" style=\"stroke:#f8f8f2; stroke-linecap:round; stroke-linejoin:round; stroke-width:4; stroke-opacity:1; fill:none\" points=\"2023.5,1486.45 2023.5,1467.55 \"/>\n",
       "<path clip-path=\"url(#clip210)\" d=\"M207.344 1532.02 L237.02 1532.02 L237.02 1535.95 L207.344 1535.95 L207.344 1532.02 Z\" fill=\"#f8f8f2\" fill-rule=\"nonzero\" fill-opacity=\"1\" /><path clip-path=\"url(#clip210)\" d=\"M259.96 1518.36 L248.154 1536.81 L259.96 1536.81 L259.96 1518.36 M258.733 1514.29 L264.613 1514.29 L264.613 1536.81 L269.543 1536.81 L269.543 1540.7 L264.613 1540.7 L264.613 1548.85 L259.96 1548.85 L259.96 1540.7 L244.358 1540.7 L244.358 1536.19 L258.733 1514.29 Z\" fill=\"#f8f8f2\" fill-rule=\"nonzero\" fill-opacity=\"1\" /><path clip-path=\"url(#clip210)\" d=\"M654.651 1532.02 L684.327 1532.02 L684.327 1535.95 L654.651 1535.95 L654.651 1532.02 Z\" fill=\"#f8f8f2\" fill-rule=\"nonzero\" fill-opacity=\"1\" /><path clip-path=\"url(#clip210)\" d=\"M698.447 1544.91 L714.766 1544.91 L714.766 1548.85 L692.822 1548.85 L692.822 1544.91 Q695.484 1542.16 700.067 1537.53 Q704.674 1532.88 705.854 1531.53 Q708.1 1529.01 708.979 1527.27 Q709.882 1525.51 709.882 1523.82 Q709.882 1521.07 707.938 1519.33 Q706.016 1517.6 702.915 1517.6 Q700.715 1517.6 698.262 1518.36 Q695.831 1519.13 693.053 1520.68 L693.053 1515.95 Q695.878 1514.82 698.331 1514.24 Q700.785 1513.66 702.822 1513.66 Q708.192 1513.66 711.387 1516.35 Q714.581 1519.03 714.581 1523.52 Q714.581 1525.65 713.771 1527.57 Q712.984 1529.47 710.877 1532.07 Q710.299 1532.74 707.197 1535.95 Q704.095 1539.15 698.447 1544.91 Z\" fill=\"#f8f8f2\" fill-rule=\"nonzero\" fill-opacity=\"1\" /><path clip-path=\"url(#clip210)\" d=\"M1130.97 1517.37 Q1127.36 1517.37 1125.53 1520.93 Q1123.73 1524.47 1123.73 1531.6 Q1123.73 1538.71 1125.53 1542.27 Q1127.36 1545.82 1130.97 1545.82 Q1134.61 1545.82 1136.41 1542.27 Q1138.24 1538.71 1138.24 1531.6 Q1138.24 1524.47 1136.41 1520.93 Q1134.61 1517.37 1130.97 1517.37 M1130.97 1513.66 Q1136.78 1513.66 1139.84 1518.27 Q1142.92 1522.85 1142.92 1531.6 Q1142.92 1540.33 1139.84 1544.94 Q1136.78 1549.52 1130.97 1549.52 Q1125.16 1549.52 1122.08 1544.94 Q1119.03 1540.33 1119.03 1531.6 Q1119.03 1522.85 1122.08 1518.27 Q1125.16 1513.66 1130.97 1513.66 Z\" fill=\"#f8f8f2\" fill-rule=\"nonzero\" fill-opacity=\"1\" /><path clip-path=\"url(#clip210)\" d=\"M1571.89 1544.91 L1588.21 1544.91 L1588.21 1548.85 L1566.27 1548.85 L1566.27 1544.91 Q1568.93 1542.16 1573.51 1537.53 Q1578.12 1532.88 1579.3 1531.53 Q1581.54 1529.01 1582.42 1527.27 Q1583.33 1525.51 1583.33 1523.82 Q1583.33 1521.07 1581.38 1519.33 Q1579.46 1517.6 1576.36 1517.6 Q1574.16 1517.6 1571.71 1518.36 Q1569.28 1519.13 1566.5 1520.68 L1566.5 1515.95 Q1569.32 1514.82 1571.78 1514.24 Q1574.23 1513.66 1576.27 1513.66 Q1581.64 1513.66 1584.83 1516.35 Q1588.03 1519.03 1588.03 1523.52 Q1588.03 1525.65 1587.21 1527.57 Q1586.43 1529.47 1584.32 1532.07 Q1583.74 1532.74 1580.64 1535.95 Q1577.54 1539.15 1571.89 1544.91 Z\" fill=\"#f8f8f2\" fill-rule=\"nonzero\" fill-opacity=\"1\" /><path clip-path=\"url(#clip210)\" d=\"M2026.51 1518.36 L2014.71 1536.81 L2026.51 1536.81 L2026.51 1518.36 M2025.29 1514.29 L2031.16 1514.29 L2031.16 1536.81 L2036.1 1536.81 L2036.1 1540.7 L2031.16 1540.7 L2031.16 1548.85 L2026.51 1548.85 L2026.51 1540.7 L2010.91 1540.7 L2010.91 1536.19 L2025.29 1514.29 Z\" fill=\"#f8f8f2\" fill-rule=\"nonzero\" fill-opacity=\"1\" /><polyline clip-path=\"url(#clip210)\" style=\"stroke:#f8f8f2; stroke-linecap:round; stroke-linejoin:round; stroke-width:4; stroke-opacity:1; fill:none\" points=\"149.191,1486.45 149.191,47.2441 \"/>\n",
       "<polyline clip-path=\"url(#clip210)\" style=\"stroke:#f8f8f2; stroke-linecap:round; stroke-linejoin:round; stroke-width:4; stroke-opacity:1; fill:none\" points=\"149.191,1486.45 166.03,1486.45 \"/>\n",
       "<polyline clip-path=\"url(#clip210)\" style=\"stroke:#f8f8f2; stroke-linecap:round; stroke-linejoin:round; stroke-width:4; stroke-opacity:1; fill:none\" points=\"149.191,1159.36 166.03,1159.36 \"/>\n",
       "<polyline clip-path=\"url(#clip210)\" style=\"stroke:#f8f8f2; stroke-linecap:round; stroke-linejoin:round; stroke-width:4; stroke-opacity:1; fill:none\" points=\"149.191,832.264 166.03,832.264 \"/>\n",
       "<polyline clip-path=\"url(#clip210)\" style=\"stroke:#f8f8f2; stroke-linecap:round; stroke-linejoin:round; stroke-width:4; stroke-opacity:1; fill:none\" points=\"149.191,505.173 166.03,505.173 \"/>\n",
       "<polyline clip-path=\"url(#clip210)\" style=\"stroke:#f8f8f2; stroke-linecap:round; stroke-linejoin:round; stroke-width:4; stroke-opacity:1; fill:none\" points=\"149.191,178.081 166.03,178.081 \"/>\n",
       "<path clip-path=\"url(#clip210)\" d=\"M50.9921 1486.9 L80.6679 1486.9 L80.6679 1490.83 L50.9921 1490.83 L50.9921 1486.9 Z\" fill=\"#f8f8f2\" fill-rule=\"nonzero\" fill-opacity=\"1\" /><path clip-path=\"url(#clip210)\" d=\"M103.608 1473.24 L91.8021 1491.69 L103.608 1491.69 L103.608 1473.24 M102.381 1469.17 L108.26 1469.17 L108.26 1491.69 L113.191 1491.69 L113.191 1495.58 L108.26 1495.58 L108.26 1503.73 L103.608 1503.73 L103.608 1495.58 L88.0058 1495.58 L88.0058 1491.07 L102.381 1469.17 Z\" fill=\"#f8f8f2\" fill-rule=\"nonzero\" fill-opacity=\"1\" /><path clip-path=\"url(#clip210)\" d=\"M53.0754 1159.81 L82.7512 1159.81 L82.7512 1163.74 L53.0754 1163.74 L53.0754 1159.81 Z\" fill=\"#f8f8f2\" fill-rule=\"nonzero\" fill-opacity=\"1\" /><path clip-path=\"url(#clip210)\" d=\"M96.8715 1172.7 L113.191 1172.7 L113.191 1176.64 L91.2465 1176.64 L91.2465 1172.7 Q93.9086 1169.95 98.4919 1165.32 Q103.098 1160.66 104.279 1159.32 Q106.524 1156.8 107.404 1155.06 Q108.307 1153.3 108.307 1151.61 Q108.307 1148.86 106.362 1147.12 Q104.441 1145.39 101.339 1145.39 Q99.14 1145.39 96.6863 1146.15 Q94.2558 1146.91 91.478 1148.46 L91.478 1143.74 Q94.3021 1142.61 96.7558 1142.03 Q99.2095 1141.45 101.246 1141.45 Q106.617 1141.45 109.811 1144.14 Q113.006 1146.82 113.006 1151.31 Q113.006 1153.44 112.196 1155.36 Q111.408 1157.26 109.302 1159.85 Q108.723 1160.53 105.621 1163.74 Q102.52 1166.94 96.8715 1172.7 Z\" fill=\"#f8f8f2\" fill-rule=\"nonzero\" fill-opacity=\"1\" /><path clip-path=\"url(#clip210)\" d=\"M101.246 818.063 Q97.6354 818.063 95.8067 821.628 Q94.0012 825.169 94.0012 832.299 Q94.0012 839.406 95.8067 842.97 Q97.6354 846.512 101.246 846.512 Q104.881 846.512 106.686 842.97 Q108.515 839.406 108.515 832.299 Q108.515 825.169 106.686 821.628 Q104.881 818.063 101.246 818.063 M101.246 814.359 Q107.057 814.359 110.112 818.966 Q113.191 823.549 113.191 832.299 Q113.191 841.026 110.112 845.632 Q107.057 850.216 101.246 850.216 Q95.4363 850.216 92.3576 845.632 Q89.3021 841.026 89.3021 832.299 Q89.3021 823.549 92.3576 818.966 Q95.4363 814.359 101.246 814.359 Z\" fill=\"#f8f8f2\" fill-rule=\"nonzero\" fill-opacity=\"1\" /><path clip-path=\"url(#clip210)\" d=\"M96.8715 518.517 L113.191 518.517 L113.191 522.453 L91.2465 522.453 L91.2465 518.517 Q93.9086 515.763 98.4919 511.133 Q103.098 506.48 104.279 505.138 Q106.524 502.615 107.404 500.879 Q108.307 499.119 108.307 497.43 Q108.307 494.675 106.362 492.939 Q104.441 491.203 101.339 491.203 Q99.14 491.203 96.6863 491.967 Q94.2558 492.731 91.478 494.281 L91.478 489.559 Q94.3021 488.425 96.7558 487.846 Q99.2095 487.268 101.246 487.268 Q106.617 487.268 109.811 489.953 Q113.006 492.638 113.006 497.129 Q113.006 499.258 112.196 501.18 Q111.408 503.078 109.302 505.67 Q108.723 506.342 105.621 509.559 Q102.52 512.754 96.8715 518.517 Z\" fill=\"#f8f8f2\" fill-rule=\"nonzero\" fill-opacity=\"1\" /><path clip-path=\"url(#clip210)\" d=\"M103.608 164.875 L91.8021 183.324 L103.608 183.324 L103.608 164.875 M102.381 160.801 L108.26 160.801 L108.26 183.324 L113.191 183.324 L113.191 187.213 L108.26 187.213 L108.26 195.361 L103.608 195.361 L103.608 187.213 L88.0058 187.213 L88.0058 182.699 L102.381 160.801 Z\" fill=\"#f8f8f2\" fill-rule=\"nonzero\" fill-opacity=\"1\" /><g clip-path=\"url(#clip212)\">\n",
       "<image width=\"1964\" height=\"1439\" xlink:href=\"data:image/png;base64,\n",
       "iVBORw0KGgoAAAANSUhEUgAAB6wAAAWfCAYAAAAf3Aj/AAAgAElEQVR4nOzba3Ik13lF0XsL6AdF\n",
       "OUKeEzQD0J6jGzMwhqV+A5X+bzIcTlvg7g+91ghOZNzMyqoN7AUAABC52/dHveGsx+Nh1xsAAAAA\n",
       "XotLPQAAAAAAAACAn5NgDQAAAAAAAEBCsAYAAAAAAAAgIVgDAAAAAAAAkBCsAQAAAAAAAEgI1gAA\n",
       "AAAAAAAkBGsAAAAAAAAAEoI1AAAAAAAAAAnBGgAAAAAAAICEYA0AAAAAAABAQrAGAAAAAAAAICFY\n",
       "AwAAAAAAAJAQrAEAAAAAAABICNYAAAAAAAAAJARrAAAAAAAAABKCNQAAAAAAAAAJwRoAAAAAAACA\n",
       "hGANAAAAAAAAQEKwBgAAAAAAACAhWAMAAAAAAACQEKwBAAAAAAAASAjWAAAAAAAAACQEawAAAAAA\n",
       "AAASgjUAAAAAAAAACcEaAAAAAAAAgIRgDQAAAAAAAEBCsAYAAAAAAAAgIVgDAAAAAAAAkBCsAQAA\n",
       "AAAAAEgI1gAAAAAAAAAkBGsAAAAAAAAAEoI1AAAAAAAAAAAAAAAAAAAAAAAAAAAAAAAAAAAAAAAA\n",
       "AAAAAAAAAAAAAAAAAAAAAAAAAAAAAAAAAAAAAAAAAAAAAAAAAAAAAAAAAAAAAAAAAAAAAAAAAAAA\n",
       "AAAAAAAAAAAAAAAAAAAAAAAAAAAAAAAAAAAAAAAAAAAAAAAAAAAAAAAAAAAAAAAAAAAAAAAAAAAA\n",
       "AAAAAAAAAAAAAAAAAAAAAAAAAAAAAAAAAAAAAAAAAAAAAAAAAAAAAAAAAAAAAAAAAAAAAAAAAAAA\n",
       "AAAAAAAAAAAAAAAAAAAAAAAAAAAAAAAAAAAAAAAAAAAAAAAAAAAAAAAAAAAAAAAAAAAAAAAAAAAA\n",
       "/Jl2PQAAAPh53e37o95w1uPx4HsUAAAAwD/JpR4AAAAAAAAAwM9JsAYAAAAAAAAgIVgDAAAAAAAA\n",
       "kBCsAQAAAAAAAEgI1gAAAAAAAAAkBGsAAAAAAAAAEoI1AAAAAAAAAAnBGgAAAAAAAICEYA0AAAAA\n",
       "AABAQrAGAAAAAAAAICFYAwAAAAAAAJAQrAEAAAAAAABICNYAAAAAAAAAJARrAAAAAAAAABKCNQAA\n",
       "AAAAAAAJwRoAAAAAAACAhGANAAAAAAAAQEKwBgAAAAAAACAhWAMAAAAAAACQEKwBAAAAAAAASAjW\n",
       "AAAAAAAAACQEawAAAAAAAAASgjUAAAAAAAAACcEaAAAAAAAAgIRgDQAAAAAAAEBCsAYAAAAAAAAg\n",
       "IVgDAAAAAAAAkBCsAQAAAAAAAEgI1gAAAAAAAAAkBGsAAAAAAAAAEoI1AAAAAAAAAAnBGgAAAAAA\n",
       "AIDEbT0AAHh97vb9UW846/F42PUGAAAAAICfjf+wBgAAAAAAACAhWAMAAAAAAACQEKwBAAAAAAAA\n",
       "SAjWAAAAAAAAACQEawAAAAAAAAASgjUAAAAAAAAACcEaAAAAAAAAgIRgDQAAAAAAAEBCsAYAAAAA\n",
       "AAAgIVgDAAAAAAAAkBCsAQAAAAAAAEgI1gAAAAAAAAAkBGsAAAAAAAAAEoI1AAAAAAAAAAnBGgAA\n",
       "AAAAAICEYA0AAAAAAABAQrAGAAAAAAAAICFYAwAAAAAAAJAQrAEAAAAAAABICNYAAAAAAAAAJARr\n",
       "AAAAAAAAABKCNQAAAAAAAAAJwRoAAAAAAACAhGANAAAAAAAAQEKwBgAAAAAAACAhWAMAAAAAAACQ\n",
       "EKwBAAAAAAAASAjWAAAAAAAAACQEawAAAAAAAAASgjUAAAAAAAAACcEaAAAAAAAAgMSuBwAAwI/q\n",
       "bt8f9YYzHo8H7/e8Cu49aEy799Zy/wH8SKZ9jvgMAfhx+A9rAAAAAAAAABKCNQAAAAAAAAAJwRoA\n",
       "AAAAAACAhGANAAAAAAAAQEKwBgAAAAAAACAhWAMAAAAAAACQEKwBAAAAAAAASAjWAAAAAAAAACQE\n",
       "awAAAAAAAAASgjUAAAAAAAAACcEaAAAAAAAAgIRgDQAAAAAAAEBCsAYAAAAAAAAgIVgDAAAAAAAA\n",
       "kBCsAQAAAAAAAEgI1gAAAAAAAAAkBGsAAAAAAAAAEoI1AAAAAAAAAAnBGgAAAAAAAICEYA0AAAAA\n",
       "AABAQrAGAAAAAAAAICFYAwAAAAAAAJAQrAEAAAAAAABICNYAAAAAAAAAJARrAAAAAAAAABKCNQAA\n",
       "AAAAAAAJwRoAAAAAAACAhGANAAAAAAAAQEKwBgAAAAAAACAhWAMAAAAAAACQEKwBAAAAAAAASAjW\n",
       "AAAAAAAAACR2PQAAgPPu9v1Rbzjr8XgY9+458TpPM/FcTDPyHO9hx+KYd4ndewAA8HsTvz95t+c1\n",
       "8B/WAAAAAAAAACQEawAAAAAAAAASgjUAAAAAAAAACcEaAAAAAAAAgIRgDQAAAAAAAEBCsAYAAAAA\n",
       "AAAgIVgDAAAAAAAAkBCsAQAAAAAAAEgI1gAAAAAAAAAkBGsAAAAAAAAAEoI1AAAAAAAAAAnBGgAA\n",
       "AAAAAICEYA0AAAAAAABAQrAGAAAAAAAAICFYAwAAAAAAAJAQrAEAAAAAAABICNYAAAAAAAAAJARr\n",
       "AAAAAAAAABKCNQAAAAAAAAAJwRoAAAAAAACAhGANAAAAAAAAQEKwBgAAAAAAACAhWAMAAAAAAACQ\n",
       "EKwBAAAAAAAASAjWAAAAAAAAACQEawAAAAAAAAASgjUAAAAAAAAACcEaAAAAAAAAgIRgDQAAAAAA\n",
       "AEBCsAYAAAAAAAAgIVgDAAAAAAAAkBCsAQAAAAAAAEjsegAA8Prc7fuj3nDW4/HgveiFORcvb+I1\n",
       "XnvUJV5rrfV4/TBq9N9v/m3cuTiOWZP3wHM87RqvNe/eG/lMHmjcZ/Xlt3nnYuLzYti5mGjaM86Z\n",
       "AIAfm/+wBgAAAAAAACAhWAMAAAAAAACQEKwBAAAAAAAASAjWAAAAAAAAACQEawAAAAAAAAASgjUA\n",
       "AAAAAAAACcEaAAAAAAAAgIRgDQAAAAAAAEBCsAYAAAAAAAAgIVgDAAAAAAAAkBCsAQAAAAAAAEgI\n",
       "1gAAAAAAAAAkBGsAAAAAAAAAEoI1AAAAAAAAAAnBGgAAAAAAAICEYA0AAAAAAABAQrAGAAAAAAAA\n",
       "ICFYAwAAAAAAAJAQrAEAAAAAAABICNYAAAAAAAAAJARrAAAAAAAAABKCNQAAAAAAAAAJwRoAAAAA\n",
       "AACAhGANAAAAAAAAQEKwBgAAAAAAACAhWAMAAAAAAACQEKwBAAAAAAAASAjWAAAAAAAAACQEawAA\n",
       "AAAAAAASgjUAAAAAAAAACcEaAAAAAAAAgMRtPQDgJd3t+6PecNbj8bDrDfxYnOM/x7TrPPEa8/L2\n",
       "Zd7fo/7n83+MO8t3l99GPS94ecf1Wk/4Kfz99t9H3XvH83M94bw97pG87tasd7iJvHfyR6adi2nf\n",
       "99aad40B4P9j3i9aAAAAAAAAALwKgjUAAAAAAAAACcEaAAAAAAAAgIRgDQAAAAAAAEBCsAYAAAAA\n",
       "AAAgIVgDAAAAAAAAkBCsAQAAAAAAAEgI1gAAAAAAAAAkBGsAAAAAAAAAEoI1AAAAAAAAAAnBGgAA\n",
       "AAAAAICEYA0AAAAAAABAQrAGAAAAAAAAICFYAwAAAAAAAJAQrAEAAAAAAABICNYAAAAAAAAAJARr\n",
       "AAAAAAAAABKCNQAAAAAAAAAJwRoAAAAAAACAhGANAAAAAAAAQEKwBgAAAAAAACAhWAMAAAAAAACQ\n",
       "EKwBAAAAAAAASAjWAAAAAAAAACQEawAAAAAAAAASgjUAAAAAAAAACcEaAAAAAAAAgIRgDQAAAAAA\n",
       "AEBCsAYAAAAAAAAgIVgDAAAAAAAAkBCsAQAAAAAAAEgI1gAAAAAAAAAkdj0AgNnu9v1Rbzjr8Xjw\n",
       "+cfv3F1+G3WWH68fxp3jadd4rbX2Zdbfdx7Xaz3hvGPcsVhrz7r99rC9a621Ljf1gnOuz/UCfkQT\n",
       "772Jz+Rpn9XP854XI987h31P9R0VAPjZzXqrBwAAAAAAAODVEKwBAAAAAAAASAjWAAAAAAAAACQE\n",
       "awAAAAAAAAASgjUAAAAAAAAACcEaAAAAAAAAgIRgDQAAAAAAAEBCsAYAAAAAAAAgIVgDAAAAAAAA\n",
       "kBCsAQAAAAAAAEgI1gAAAAAAAAAkBGsAAAAAAAAAEoI1AAAAAAAAAAnBGgAAAAAAAICEYA0AAAAA\n",
       "AABAQrAGAAAAAAAAICFYAwAAAAAAAJAQrAEAAAAAAABICNYAAAAAAAAAJARrAAAAAAAAABKCNQAA\n",
       "AAAAAAAJwRoAAAAAAACAhGANAAAAAAAAQEKwBgAAAAAAACAhWAMAAAAAAACQEKwBAAAAAAAASAjW\n",
       "AAAAAAAAACQEawAAAAAAAAASgjUAAAAAAAAACcEaAAAAAAAAgIRgDQAAAAAAAEBCsAYAAAAAAAAg\n",
       "sesBAMD/7G7fH/WG07ZXjJe2B17j43qtJ5y2b2/rCefMe1rwZ5j3uFjTRu/LvL8FP455D4x9mXUu\n",
       "jqfnesJ5x7zP6nG8w/FHBj6Tp3k8HsbdfBN/C5h4nQH4Mcz7Vg0AAAAAAADAqyBYAwAAAAAAAJAQ\n",
       "rAEAAAAAAABICNYAAAAAAAAAJARrAAAAAAAAABKCNQAAAAAAAAAJwRoAAAAAAACAhGANAAAAAAAA\n",
       "QEKwBgAAAAAAACAhWAMAAAAAAACQEKwBAAAAAAAASAjWAAAAAAAAACQEawAAAAAAAAASgjUAAAAA\n",
       "AAAACcEaAAAAAAAAgIRgDQAAAAAAAEBCsAYAAAAAAAAgIVgDAAAAAAAAkBCsAQAAAAAAAEgI1gAA\n",
       "AAAAAAAkBGsAAAAAAAAAEoI1AAAAAAAAAAnBGgAAAAAAAICEYA0AAAAAAABAQrAGAAAAAAAAICFY\n",
       "AwAAAAAAAJAQrAEAAAAAAABICNYAAAAAAAAAJARrAAAAAAAAABKCNQAAAAAAAAAJwRoAAAAAAACA\n",
       "hGANAAAAAAAAQOK2HgAAf7a7fX/UG87Yl3l/X3Ycoy7xWmutvXc94Zw971zsm2HXeK21b27qCacc\n",
       "z8/1hPMmnuVpR3nc4LX2+/f1hFOOz5/rCadd3r6pJ5x2PA17xg18h9uXgT8THdd6wSnH86y9a621\n",
       "Br7bT/zsG2faNR54jB+Ph2EXed7vLROvMfyRaffeWu4/fm/etycAAAAAAAAAXgXBGgAAAAAAAICE\n",
       "YA0AAAAAAABAQrAGAAAAAAAAICFYAwAAAAAAAJAQrAEAAAAAAABICNYAAAAAAAAAJARrAAAAAAAA\n",
       "ABKCNQAAAAAAAAAJwRoAAAAAAACAhGANAAAAAAAAQEKwBgAAAAAAACAhWAMAAAAAAACQEKwBAAAA\n",
       "AAAASAjWAAAAAAAAACQEawAAAAAAAAASgjUAAAAAAAAACcEaAAAAAAAAgIRgDQAAAAAAAEBCsAYA\n",
       "AAAAAAAgIVgDAAAAAAAAkBCsAQAAAAAAAEgI1gAAAAAAAAAkBGsAAAAAAAAAEoI1AAAAAAAAAAnB\n",
       "GgAAAAAAAICEYA0AAAAAAABAQrAGAAAAAAAAICFYAwAAAAAAAJAQrAEAAAAAAABICNYAAAAAAAAA\n",
       "JHY9AOAl3e37o97AD2jP+vjbw/aOtYf9Hd9l2N6hLu/f1RPOuV7rBec5yy9uv31bT/g/mPUKd1xn\n",
       "7V1rrT3w3rt+/FRPOGX/8r6ecNrx5Ws94bT99k094ZTj85d6wmnH81M94bRj2DvRxGfytGs80eP1\n",
       "w7gfA8b9Djfw95aJ5wLgf2Pe2xAAAAAAAAAAr4JgDQAAAAAAAEBCsAYAAAAAAAAgIVgDAAAAAAAA\n",
       "kBCsAQAAAAAAAEgI1gAAAAAAAAAkBGsAAAAAAAAAEoI1AAAAAAAAAAnBGgAAAAAAAICEYA0AAAAA\n",
       "AABAQrAGAAAAAAAAICFYAwAAAAAAAJAQrAEAAAAAAABICNYAAAAAAAAAJARrAAAAAAAAABKCNQAA\n",
       "AAAAAAAJwRoAAAAAAACAhGANAAAAAAAAQEKwBgAAAAAAACAhWAMAAAAAAACQEKwBAAAAAAAASAjW\n",
       "AAAAAAAAACQEawAAAAAAAAASgjUAAAAAAAAACcEaAAAAAAAAgIRgDQAAAAAAAEBCsAYAAAAAAAAg\n",
       "IVgDAAAAAAAAkBCsAQAAAAAAAEgI1gAAAAAAAAAkBGsAAAAAAAAAEoI1AAAAAAAAAIldDwDmuLv8\n",
       "dtQbznq8fvCce2ETz8U0ew88xpebesFp+2bY3/FNvPNuB56Lt2/rCaccX7/VE07b79/VE07bb9/U\n",
       "E86Z+DlyM+x5MfEaH/M+SI7PX+oJ51yf6wWn7dthz7e11vH5cz3hlOP5Wk84b+BZPq7DrvPAZ/Ie\n",
       "9ll9/f69nvBT8Dscf+Ru3496yD0eD84xBIb9MgsAAAAAAADAayFYAwAAAAAAAJAQrAEAAAAAAABI\n",
       "CNYAAAAAAAAAJARrAAAAAAAAABKCNQAAAAAAAAAJwRoAAAAAAACAhGANAAAAAAAAQEKwBgAAAAAA\n",
       "ACAhWAMAAAAAAACQEKwBAAAAAAAASAjWAAAAAAAAACQEawAAAAAAAAASgjUAAAAAAAAACcEaAAAA\n",
       "AAAAgIRgDQAAAAAAAEBCsAYAAAAAAAAgIVgDAAAAAAAAkBCsAQAAAAAAAEgI1gAAAAAAAAAkBGsA\n",
       "AAAAAAAAEoI1AAAAAAAAAAnBGgAAAAAAAICEYA0AAAAAAABAQrAGAAAAAAAAICFYAwAAAAAAAJAQ\n",
       "rAEAAAAAAABICNYAAAAAAAAAJARrAAAAAAAAABKCNQAAAAAAAAAJwRoAAAAAAACAhGANAAAAAAAA\n",
       "QGLXAwBe0t2+P+oNZ+3LrL8lOo5xl3jtPevjb+I1vrx7X094/W5mPSvWWuvy/l094bw3b+oF59zc\n",
       "1AvOe36uF5z361/qBaccf5l37+2v3+sJpxwD77396XM94bxp1/n7U73gvIHvncfHT/WEkwZe489f\n",
       "6wnnXWZ955v4PnQ8DXvGTXy+Ddw87To/Hg/DHhYAr9e8XzoBAAAAAAAAeBUEawAAAAAAAAASgjUA\n",
       "AAAAAAAACcEaAAAAAAAAgIRgDQAAAAAAAEBCsAYAAAAAAAAgIVgDAAAAAAAAkBCsAQAAAAAAAEgI\n",
       "1gAAAAAAAAAkBGsAAAAAAAAAEoI1AAAAAAAAAAnBGgAAAAAAAICEYA0AAAAAAABAQrAGAAAAAAAA\n",
       "ICFYAwAAAAAAAJAQrAEAAAAAAABICNYAAAAAAAAAJARrAAAAAAAAABKCNQAAAAAAAAAJwRoAAAAA\n",
       "AACAhGANAAAAAAAAQEKwBgAAAAAAACAhWAMAAAAAAACQEKwBAAAAAAAASAjWAAAAAAAAACQEawAA\n",
       "AAAAAAASgjUAAAAAAAAACcEaAAAAAAAAgIRgDQAAAAAAAEBCsAYAAAAAAAAgIVgDAAAAAAAAkNj1\n",
       "APiZ3e37o95wyh74yDhmXeK11toXf0v04m5u6wWnTDwT++2besJ5t7POxTqu9YLT9l//Wk8475d3\n",
       "9YJzBn7ujbv31lrXd8OecQNf4dbNrM++738b9qxYa12+zfscuXz+Xk845fL1qZ5w2v7yrZ5w3j8+\n",
       "1QtevePL13rCed+GneWB3/mOadd4oOvXgffetN8OJ35/mnaN11qP1w/zRsN/M67lrLUej4dR9968\n",
       "tyEAAAAAAAAAXgXBGgAAAAAAAICEYA0AAAAAAABAQrAGAAAAAAAAICFYAwAAAAAAAJAQrAEAAAAA\n",
       "AABICNYAAAAAAAAAJARrAAAAAAAAABKCNQAAAAAAAAAJwRoAAAAAAACAhGANAAAAAAAAQEKwBgAA\n",
       "AAAAACAhWAMAAAAAAACQEKwBAAAAAAAASAjWAAAAAAAAACQEawAAAAAAAAASgjUAAAAAAAAACcEa\n",
       "AAAAAAAAgIRgDQAAAAAAAEBCsAYAAAAAAAAgIVgDAAAAAAAAkBCsAQAAAAAAAEgI1gAAAAAAAAAk\n",
       "BGsAAAAAAAAAEoI1AAAAAAAAAAnBGgAAAAAAAICEYA0AAAAAAABAQrAGAAAAAAAAICFYAwAAAAAA\n",
       "AJAQrAEAAAAAAABICNYAAAAAAAAAJARrAAAAAAAAABK7HgD/LHf7/qg3nPV4PIy6Byde433xdzkv\n",
       "bo86xmuttfbNbT3hlP3ubT3hvJt5995+/76ecM6//FovOG/g8+J4M+t58fS3X+oJpx03887F06+z\n",
       "zsXtx6d6wmnf/nXWZ99+GveavI6besF5l++zrvPNl2s94bSbL/OeFzefvtUTTtlfv9cTzvv4pV5w\n",
       "2vGPj/WEc56f6wXnXWa9wx2fB57jgedi4uZxjlnvQ2vN+w0caMz7NRkAAAAAAACAV0GwBgAAAAAA\n",
       "ACAhWAMAAAAAAACQEKwBAAAAAAAASAjWAAAAAAAAACQEawAAAAAAAAASgjUAAAAAAAAACcEaAAAA\n",
       "AAAAgIRgDQAAAAAAAEBCsAYAAAAAAAAgIVgDAAAAAAAAkBCsAQAAAAAAAEgI1gAAAAAAAAAkBGsA\n",
       "AAAAAAD4L/btZUeO+zzj8Fd9mBkOTyY0kh3bUGwjCRJnESDXML4DKrlGW7wDzTLZBMjOCWDAcmIl\n",
       "PkQwaYkm59hdlYVXTrz5C6Zefc3nuYIXhap/V/dvBogQrAEAAAAAAACIEKwBAAAAAAAAiBCsAQAA\n",
       "AAAAAIgQrAEAAAAAAACIEKwBAAAAAAAAiBCsAQAAAAAAAIgQrAEAAAAAAACIEKwBAAAAAAAAiBCs\n",
       "AQAAAAAAAIgQrAEAAAAAAACIEKwBAAAAAAAAiBCsAQAAAAAAAIgQrAEAAAAAAACIEKwBAAAAAAAA\n",
       "iBCsAQAAAAAAAIgQrAEAAAAAAACIEKwBAAAAAAAAiBCsAQAAAAAAAIjYpAcAjUxTesG4qeHf5bS7\n",
       "zO0GV219/L1p03qdnjBu0+y+aHgmLw2fvfnBcXrCkGXb73Pv7n6/++L2Ua/rfPlex2vc64xb3aUX\n",
       "jNu+XtIThs3b9IIxx5/N6QnDtpe9zreqqmnf615e3zQ8MI6bPXxVNa0epCeMeX2ZXjBsublNTxgy\n",
       "HR2lJwxbrq7SE4ZNq2a/BSz9Pqs7/hZQ+/SAw3c+Pe31QlRVF8uzVjeza/zm9fsmAgAAAAAAAMBB\n",
       "EKwBAAAAAAAAiBCsAQAAAAAAAIgQrAEAAAAAAACIEKwBAAAAAAAAiBCsAQAAAAAAAIgQrAEAAAAA\n",
       "AACIEKwBAAAAAAAAiBCsAQAAAAAAAIgQrAEAAAAAAACIEKwBAAAAAAAAiBCsAQAAAAAAAIgQrAEA\n",
       "AAAAAACIEKwBAAAAAAAAiBCsAQAAAAAAAIgQrAEAAAAAAACIEKwBAAAAAAAAiBCsAQAAAAAAAIgQ\n",
       "rAEAAAAAAACIEKwBAAAAAAAAiBCsAQAAAAAAAIgQrAEAAAAAAACIEKwBAAAAAAAAiBCsAQAAAAAA\n",
       "AIgQrAEAAAAAAACIEKwBAAAAAAAAiBCsAQAAAAAAAIgQrAEAAAAAAACIEKwBAAAAAAAAiBCsAQAA\n",
       "AAAAAIgQrAEAAAAAAACImNID4G12Pj1d0hsO3bRq+Hc5U6/N07rX3qqqabtNTxjTbW9VTY8fpieM\n",
       "W3odyfOTR+kJw/aPjtMThl1+o9fm/XG/1/ubh/023zV7/HYn6QWHb1mnF4xb36QXjFvfpheMmXbp\n",
       "BeOOP+v1PlRVde/FnJ4w5N4vL9MThk37Xte4qmq6vktPGDJ9/io9Ydyu1yE3v3qdnjBu7ncmL83u\n",
       "i2XX66zgy3Exf9jvSyocgH6VAQAAAAAAAICDIFgDAAAAAAAAECFYAwAAAAAAABAhWAMAAAAAAAAQ\n",
       "IVgDAAAAAAAAECFYAwAAAAAAABAhWAMAAAAAAAAQIVgDAAAAAAAAECFYAwAAAAAAABAhWAMAAAAA\n",
       "AAAQIVgDAAAAAAAAECFYAwAAAAAAABAhWAMAAAAAAAAQIVgDAAAAAAAAECFYAwAAAAAAABAhWAMA\n",
       "AAAAAAAQIVgDAAAAAAAAECFYAwAAAAAAABAhWAMAAAAAAAAQIVgDAAAAAAAAECFYAwAAAAAAABAh\n",
       "WAMAAAAAAAAQIVgDAAAAAAAAECFYAwAAAAAAABAhWAMAAAAAAAAQIVgDAAAAAAAAECFYAwAAAAAA\n",
       "ABAhWAMAAAAAAAAQIVgDAAAAAAAAECFYAwAAAAAAABAhWAMAAAAAAAAQIVgDAAAAAAAAELFJD4C3\n",
       "2jSlFxy+VcO/y5mabV6t0wvGdbsvuu2tanm+zV97mJ4wZPfkJD1h2NXZUXrCsN29Xvfy7YNee6uq\n",
       "rs/SC8bdvDunJwxZnV2nJwzb//Y4PYGvoPVlr3eizWW/M3m167d5fdvrvpjfP01PGHby/C49YVi3\n",
       "Hzyny26Lq9331Gnd731o2fd79mrepxcMmdYNn71m17iq6qP9j/q9YDRzPj1d0htGXSzP3Bf8gV5v\n",
       "FgAAAAAAAAAcDMEaAAAAAAAAgAjBGgAAAAAAAIAIwRoAAAAAAACACMEaAAAAAAAAgAjBGgAAAAAA\n",
       "AIAIwRoAAAAAAACACMEaAAAAAAAAgAjBGgAAAAAAAIAIwRoAAAAAAACACMEaAAAAAAAAgAjBGgAA\n",
       "AAAAAIAIwRoAAAAAAACACMEaAAAAAAAAgAjBGgAAAAAAAIAIwRoAAAAAAACACMEaAAAAAAAAgAjB\n",
       "GgAAAAAAAIAIwRoAAAAAAACACMEaAAAAAAAAgAjBGgAAAAAAAIAIwRoAAAAAAACACMEaAAAAAAAA\n",
       "gAjBGgAAAAAAAIAIwRoAAAAAAACACMEaAAAAAAAAgAjBGgAAAAAAAIAIwRoAAAAAAACACMEaAAAA\n",
       "AAAAgAjBGgAAAAAAAIAIwRoAAAAAAACACMEaAAAAAAAAgIhNegD8qZyvPljSG/gK6nhXTOkBg1bd\n",
       "BldNx0fpCWO22/SCcdt+rxjLttff8c3N9lZV7U77nRdXZ702X3293wff3PCIW+7t0xOGbLe99lZV\n",
       "vfOdF+kJQ752cpWeMOynv3wvPWHY0ddv0xOGXP/yQXrCuLnf+8W86fVZ/eiT9IJxdw/6vdtPuzk9\n",
       "Ycjq83V6wrhds/eLpd978tTxe/Vul54wZkO3ND8AACAASURBVG52H1fV0vBe9rv9m3cxf9jrhQj+\n",
       "iH7fRAAAAAAAAAA4CII1AAAAAAAAABGCNQAAAAAAAAARgjUAAAAAAAAAEYI1AAAAAAAAABGCNQAA\n",
       "AAAAAAARgjUAAAAAAAAAEYI1AAAAAAAAABGCNQAAAAAAAAARgjUAAAAAAAAAEYI1AAAAAAAAABGC\n",
       "NQAAAAAAAAARgjUAAAAAAAAAEYI1AAAAAAAAABGCNQAAAAAAAAARgjUAAAAAAAAAEYI1AAAAAAAA\n",
       "ABGCNQAAAAAAAAARgjUAAAAAAAAAEYI1AAAAAAAAABGCNQAAAAAAAAARgjUAAAAAAAAAEYI1AAAA\n",
       "AAAAABGCNQAAAAAAAAARgjUAAAAAAAAAEYI1AAAAAAAAABGCNQAAAAAAAAARgjUAAAAAAAAAEYI1\n",
       "AAAAAAAAABGCNQAAAAAAAAARgjUAAAAAAAAAEYI1AAAAAAAAABGb8+npkh7xNrhYnk3pDXwFLb0e\n",
       "v2nV8G9cpn6P3tRwczubTXrB4Wt4H+/vH6UnDLl9tE5PGDenB4y7u59eMGb3qOFFPt2lFwz7++99\n",
       "kp4w5M/vv0hPGLaZet3Ld3O/M/mvHn2anjDsn3/13fSEIbfv3KQnDLu7O0lPGLY/bvbeOfU7Lx7/\n",
       "bJ+eMGxZ9bov5sen6QnDVi963RfTk8fpCcPm579NTxg2rZudcR1/69z3evaqqpZ9r+98Ws6Xo1ub\n",
       "dF+8eQ1PZAAAAAAAAAAOgWANAAAAAAAAQIRgDQAAAAAAAECEYA0AAAAAAABAhGANAAAAAAAAQIRg\n",
       "DQAAAAAAAECEYA0AAAAAAABAhGANAAAAAAAAQIRgDQAAAAAAAECEYA0AAAAAAABAhGANAAAAAAAA\n",
       "QIRgDQAAAAAAAECEYA0AAAAAAABAhGANAAAAAAAAQIRgDQAAAAAAAECEYA0AAAAAAABAhGANAAAA\n",
       "AAAAQIRgDQAAAAAAAECEYA0AAAAAAABAhGANAAAAAAAAQIRgDQAAAAAAAECEYA0AAAAAAABAhGAN\n",
       "AAAAAAAAQIRgDQAAAAAAAECEYA0AAAAAAABAhGANAAAAAAAAQIRgDQAAAAAAAECEYA0AAAAAAABA\n",
       "hGANAAAAAAAAQIRgDQAAAAAAAECEYA0AAAAAAABAxOZieTalR7wNzqenS3rDCPfFl2Rqdpknf+Py\n",
       "pdis0wuGTNttesLhO72XXjBsPj1OTxi2bHqdyfvjfmfy5Td6XeOqquuvz+kJQ47PLtMThv3Fe79J\n",
       "Txh2dvw6PWHId076XePvHX2anjBkPfU6K6qqruaj9IRhS/X6HPmfJw/TE4b96/799IRh++fN7uWl\n",
       "3zvc3f1+m1e7Xt9T1zf79IRx+2affbtdesGwad3r96GqqlY/gFfVcnOTnjBuafbsVdW0avY50vBI\n",
       "7tafqjSoL0O3+6LZSQEAAAAAAADAoRCsAQAAAAAAAIgQrAEAAAAAAACIEKwBAAAAAAAAiBCsAQAA\n",
       "AAAAAIgQrAEAAAAAAACIEKwBAAAAAAAAiBCsAQAAAAAAAIgQrAEAAAAAAACIEKwBAAAAAAAAiBCs\n",
       "AQAAAAAAAIgQrAEAAAAAAACIEKwBAAAAAAAAiBCsAQAAAAAAAIgQrAEAAAAAAACIEKwBAAAAAAAA\n",
       "iBCsAQAAAAAAAIgQrAEAAAAAAACIEKwBAAAAAAAAiBCsAQAAAAAAAIgQrAEAAAAAAACIEKwBAAAA\n",
       "AAAAiBCsAQAAAAAAAIgQrAEAAAAAAACIEKwBAAAAAAAAiBCsAQAAAAAAAIgQrAEAAAAAAACIEKwB\n",
       "AAAAAAAAiBCsAQAAAAAAAIgQrAEAAAAAAACIEKwBAAAAAAAAiBCsAQAAAAAAAIjYpAfw1XQ+PV3S\n",
       "G94G0zSlJ4xZ5vSCcVPDv8vZN7vO2/SAL6Dbs7dqtreq5pN+rxh3D3ptnnvNraqq3b30gnGr217P\n",
       "33uPX6UnDPvbR79KTxj2/vHz9IQhf3fySXrCsO8fXacnDHm0OklPGPZ6/jw9Ydgnt5+mJwz5r8sn\n",
       "6Qnjen3sVVXV8mCfnjDk7mG/76jLb9ILxm1e97ovlk2/+6JOm332vb5KLxjX8LeA2vX6SXla9Xv2\n",
       "lo4f1nOvM7ljG7lYnjW8MeAP9TuRAQAAAAAAADgIgjUAAAAAAAAAEYI1AAAAAAAAABGCNQAAAAAA\n",
       "AAARgjUAAAAAAAAAEYI1AAAAAAAAABGCNQAAAAAAAAARgjUAAAAAAAAAEYI1AAAAAAAAABGCNQAA\n",
       "AAAAAAARgjUAAAAAAAAAEYI1AAAAAAAAABGCNQAAAAAAAAARgjUAAAAAAAAAEYI1AAAAAAAAABGC\n",
       "NQAAAAAAAAARgjUAAAAAAAAAEYI1AAAAAAAAABGCNQAAAAAAAAARgjUAAAAAAAAAEYI1AAAAAAAA\n",
       "ABGCNQAAAAAAAAARgjUAAAAAAAAAEYI1AAAAAAAAABGCNQAAAAAAAAARgjUAAAAAAAAAEYI1AAAA\n",
       "AAAAABGCNQAAAAAAAAARgjUAAAAAAAAAEYI1AAAAAAAAABGCNQAAAAAAAAARgjUAAAAAAAAAEZv0\n",
       "gLfFxfJsSm84dOf1dElvGDb1ui2WpeElnuf0hGHT6VF6wphet/Hvnd5LLxiybPt9XC/bdXrCsNVd\n",
       "r/Pi6p1+13g+Ti8YN9/rdV88OblKTxj2s9dn6QnDvra5TE8Y8mfN9lZV/feu1xm3mq7TE4Z9f9vr\n",
       "faiq6m9OfpGeMOT43bv0hGE//U2/M/ly1+sFY2n4/Wn7utf7UFXV7rTX58jmst95sRxv0xOGTC9f\n",
       "pSeM2/d79pbbZvdys99mq6pq3qcXDPto/6OGF5o37Xzq1XM6Nr5um/2HNQAAAAAAAAARgjUAAAAA\n",
       "AAAAEYI1AAAAAAAAABGCNQAAAAAAAAARgjUAAAAAAAAAEYI1AAAAAAAAABGCNQAAAAAAAAARgjUA\n",
       "AAAAAAAAEYI1AAAAAAAAABGCNQAAAAAAAAARgjUAAAAAAAAAEYI1AAAAAAAAABGCNQAAAAAAAAAR\n",
       "gjUAAAAAAAAAEYI1AAAAAAAAABGCNQAAAAAAAAARgjUAAAAAAAAAEYI1AAAAAAAAABGCNQAAAAAA\n",
       "AAARgjUAAAAAAAAAEYI1AAAAAAAAABGCNQAAAAAAAAARgjUAAAAAAAAAEYI1AAAAAAAAABGCNQAA\n",
       "AAAAAAARgjUAAAAAAAAAEYI1AAAAAAAAABGCNQAAAAAAAAARgjUAAAAAAAAAEYI1AAAAAAAAABGC\n",
       "NQAAAAAAAAARm/QA+JOZpvSCgzd1vMbrfsfccn2dnjBkOj1NTxh3eZVeMGRa9Xv21q9u0xOG3T7e\n",
       "picM2b5KLxh3+c0lPWHYsu61+ePn76QnDDt//yfpCcPOH/x7esKQ720epCcM+/W+1yH3fO73t+A/\n",
       "271OTxj2n7ffSk8Y8vHVe+kJw06O7tIThu1Oez1/y+Y4PWHY9ZN1esKwB7/ody93M133+87XzXTU\n",
       "6ztqVdV02+vZW/b79IRhy9LrO2pV1Q82/9hq9Ee7H/b7Ia6hi+WZ68wf6PVWDwAAAAAAAMDBEKwB\n",
       "AAAAAAAAiBCsAQAAAAAAAIgQrAEAAAAAAACIEKwBAAAAAAAAiBCsAQAAAAAAAIgQrAEAAAAAAACI\n",
       "EKwBAAAAAAAAiBCsAQAAAAAAAIgQrAEAAAAAAACIEKwBAAAAAAAAiBCsAQAAAAAAAIgQrAEAAAAA\n",
       "AACIEKwBAAAAAAAAiBCsAQAAAAAAAIgQrAEAAAAAAACIEKwBAAAAAAAAiBCsAQAAAAAAAIgQrAEA\n",
       "AAAAAACIEKwBAAAAAAAAiBCsAQAAAAAAAIgQrAEAAAAAAACIEKwBAAAAAAAAiBCsAQAAAAAAAIgQ\n",
       "rAEAAAAAAACIEKwBAAAAAAAAiBCsAQAAAAAAAIgQrAEAAAAAAACIEKwBAAAAAAAAiBCsAQAAAAAA\n",
       "AIgQrAEAAAAAAACIEKwBAAAAAAAAiNikB7wtzqenS3rDiIvl2ZTewFfPMs/pCcOm2qUnjNtu0wsO\n",
       "36rZ32utm+2tqqXh5qnZEdfxg/rep/1Wv3qUXjBmtWp2I1fVf7w+S08Y9uP730pPGPLX20/SE4bd\n",
       "Lq2+PtVu6fe5t6te17iq6rtHn6YnDPmXl99NTxg2Nbwvbn97kp4w5P6r9IJxq32/+2I+7nUuTzcN\n",
       "f7vo9htRt71Vtez7ba5mnyPTqt931GWfXjDuo90PW13o89UHvW7kqrqYP2x1jas0M/6/Xm9vAAAA\n",
       "AAAAABwMwRoAAAAAAACACMEaAAAAAAAAgAjBGgAAAAAAAIAIwRoAAAAAAACACMEaAAAAAAAAgAjB\n",
       "GgAAAAAAAIAIwRoAAAAAAACACMEaAAAAAAAAgAjBGgAAAAAAAIAIwRoAAAAAAACACMEaAAAAAAAA\n",
       "gAjBGgAAAAAAAIAIwRoAAAAAAACACMEaAAAAAAAAgAjBGgAAAAAAAIAIwRoAAAAAAACACMEaAAAA\n",
       "AAAAgAjBGgAAAAAAAIAIwRoAAAAAAACACMEaAAAAAAAAgAjBGgAAAAAAAIAIwRoAAAAAAACACMEa\n",
       "AAAAAAAAgAjBGgAAAAAAAIAIwRoAAAAAAACACMEaAAAAAAAAgAjBGgAAAAAAAIAIwRoAAAAAAACA\n",
       "CMEaAAAAAAAAgAjBGgAAAAAAAIAIwRoAAAAAAACAiE16AF9N59PTJb3hbbAszS7zNKUXDJs22/SE\n",
       "catef0u0XN+kJwybjprdF/s5vWDcqt95sbrtdZ2PXvbaW1W1O+l1vlVV1a7XvXx1dZyeMOz20To9\n",
       "Ydg/ff6X6QlDnu8fpCcM+/b2RXrCkB9ffTs9Ydjp6jY9Ydivbh6nJwz56cuz9IRhL148TE8YNl33\n",
       "er/YXKUXjFv3Oy5qc7VPTxgydft9qKqqer0n167XPVFVVXO/73zdLB1/b2l4XrRrDQ2vcUcXy7NW\n",
       "HyTt7uPqd417vdUDAAAAAAAAcDAEawAAAAAAAAAiBGsAAAAAAAAAIgRrAAAAAAAAACIEawAAAAAA\n",
       "AAAiBGsAAAAAAAAAIgRrAAAAAAAAACIEawAAAAAAAAAiBGsAAAAAAAAAIgRrAAAAAAAAACIEawAA\n",
       "AAAAAAAiBGsAAAAAAAAAIgRrAAAAAAAAACIEawAAAAAAAAAiBGsAAAAAAAAAIgRrAAAAAAAAACIE\n",
       "awAAAAAAAAAiBGsAAAAAAAAAIgRrAAAAAAAAACIEawAAAAAAAAAiBGsAAAAAAAAAIgRrAAAAAAAA\n",
       "ACIEawAAAAAAAAAiBGsAAAAAAAAAIgRrAAAAAAAAACIEawAAAAAAAAAiBGsAAAAAAAAAIgRrAAAA\n",
       "AAAAACIEawAAAAAAAAAiBGsAAAAAAAAAIgRrAAAAAAAAACIEawAAAAAAAAAiNukBb4uL5dmU3nDo\n",
       "zqcPlvSGg7f0u8TLfp+eMGxaNftbonWzvVVV+zm94OCtXl2nJwybHmzTE4Ys636vFlPDR+/k1+v0\n",
       "hCE3+5P0hGEfT2fpCcO23+j1fnF29DA9YdjN3Our6qr6vSf//Oqd9IRhP/n83fSEIZ/8vNfeqqrN\n",
       "i17PXlXV5lWvd6Kp10dIVVUdvew3enXdbPPc73Ok5mYv972Oit/rdo2rqt2Fnprtrapp3e+zetnv\n",
       "0hOGaDn8Me6LN69hZQAAAAAAAADgEAjWAAAAAAAAAEQI1gAAAAAAAABECNYAAAAAAAAARAjWAAAA\n",
       "AAAAAEQI1gAAAAAAAABECNYAAAAAAAAARAjWAAAAAAAAAEQI1gAAAAAAAABECNYAAAAAAAAARAjW\n",
       "AAAAAAAAAEQI1gAAAAAAAABECNYAAAAAAAAARAjWAAAAAAAAAEQI1gAAAAAAAABECNYAAAAAAAAA\n",
       "RAjWAAAAAAAAAEQI1gAAAAAAAABECNYAAAAAAAAARAjWAAAAAAAAAEQI1gAAAAAAAABECNYAAAAA\n",
       "AAAARAjWAAAAAAAAAEQI1gAAAAAAAABECNYAAAAAAAAARAjWAAAAAAAAAEQI1gAAAAAAAABECNYA\n",
       "AAAAAAAARAjWAAAAAAAAAEQI1gAAAAAAAABECNYAAAAAAAAARGzSA76I8+npkt5w6C6WZ1N6w6iL\n",
       "+cN2m89XH7S6l6dVv79xmdb9Nte8Ty8Ys2r36NWy26UnDJnueu2tqqqjbXrBsNXdnJ4w5Ohls7Oi\n",
       "qmrpdybvj3ptvnk3vWDc7cvj9IRhP779ZnrCkI/vn6UnDHty/zI9YcjS6q3+9z67vJeeMOz68ig9\n",
       "Ycj0ep2eMKzhR3VtrtILxmxfNTwwGk5e7Xq929e+2d6qqtu79IIxq35ncm36bV6umh3K1fA3rW6/\n",
       "G1bP1tBNx2bmvuD/avhVBAAAAAAAAIBDIFgDAAAAAAAAECFYAwAAAAAAABAhWAMAAAAAAAAQIVgD\n",
       "AAAAAAAAECFYAwAAAAAAABAhWAMAAAAAAAAQIVgDAAAAAAAAECFYAwAAAAAAABAhWAMAAAAAAAAQ\n",
       "IVgDAAAAAAAAECFYAwAAAAAAABAhWAMAAAAAAAAQIVgDAAAAAAAAECFYAwAAAAAAABAhWAMAAAAA\n",
       "AAAQIVgDAAAAAAAAECFYAwAAAAAAABAhWAMAAAAAAAAQIVgDAAAAAAAAECFYAwAAAAAAABAhWAMA\n",
       "AAAAAAAQIVgDAAAAAAAAECFYAwAAAAAAABAhWAMAAAAAAAAQIVgDAAAAAAAAECFYAwAAAAAAABAh\n",
       "WAMAAAAAAAAQIVgDAAAAAAAAECFYAwAAAAAAABAhWAMAAAAAAAAQIVgDAAAAAAAAELFJD/giLpZn\n",
       "U3oD/EksS3rBkI/mD9s9ez+of+h1katq2mzTE8bM7S5xTZt1esKY371OLxg2NTvfqqo2zU64/cnD\n",
       "9IRhR+kBX8DupNeNsfm3fn+Peveg3+brs15fo26nk/SEYb94eD894fAdz+kFw6bLXu9wx8/7nW9H\n",
       "L9MLxm1/l14w5vjzfs/e8We36QnDVjf79IQh0+V1esK4Zt/55t+9Sk8Y1+waV1VNm17vycuu11lR\n",
       "VTVNvb6jdnS++qDdw3fR8Hf78+lpq+usS755/b49AQAAAAAAAHAQBGsAAAAAAAAAIgRrAAAAAAAA\n",
       "ACIEawAAAAAAAAAiBGsAAAAAAAAAIgRrAAAAAAAAACIEawAAAAAAAAAiBGsAAAAAAAAAIgRrAAAA\n",
       "AAAAACIEawAAAAAAAAAiBGsAAAAAAAAAIgRrAAAAAAAAACIEawAAAAAAAAAiBGsAAAAAAAAAIgRr\n",
       "AAAAAAAAACIEawAAAAAAAAAiBGsAAAAAAAAAIgRrAAAAAAAAACIEawAAAAAAAAAiBGsAAAAAAAAA\n",
       "IgRrAAAAAAAAACIEawAAAAAAAAAiBGsAAAAAAAAAIgRrAAAAAAAAACIEawAAAAAAAAAiBGsAAAAA\n",
       "AAAAIgRrAAAAAAAAACIEawAAAAAAAAAiBGsAAAAAAAAAIgRrAAAAAAAAACIEawAAAAAAAAAiBGsA\n",
       "AAAAAAAAIqb0gP9t325z27jOMAy/h6Ss2Enapi3QDTE7kNM1FtYOwhX1A20+bFkSNac/+qtJEfQA\n",
       "kR+/9HWt4MHgcGbIW+LjdBw3M71h1WneOs/P7Lh73e5cdDT2+/SENaPf3z6NQ69rvHv1Kj1h3RcN\n",
       "N49ej5HtD79JT1j29OoqPWHZ45e9Nr//qtf9rarq/LLXZ6+q6u6P6QVrnjreks/pBWuufkgvWLf1\n",
       "ur1VVdXV2/SCNbPfa3K9+uuWnrDsxXdP6QlLxtbva/X13+/SE5btfmi2+f1DesGy+d336QlL5lOv\n",
       "e0VVVT0+phcsm93ucVu/czFns2tcVdVxM89Oz+GnGn59AgAAAAAAAOASCNYAAAAAAAAARAjWAAAA\n",
       "AAAAAEQI1gAAAAAAAABECNYAAAAAAAAARAjWAAAAAAAAAEQI1gAAAAAAAABECNYAAAAAAAAARAjW\n",
       "AAAAAAAAAEQI1gAAAAAAAABECNYAAAAAAAAARAjWAAAAAAAAAEQI1gAAAAAAAABECNYAAAAAAAAA\n",
       "RAjWAAAAAAAAAEQI1gAAAAAAAABECNYAAAAAAAAARAjWAAAAAAAAAEQI1gAAAAAAAABECNYAAAAA\n",
       "AAAARAjWAAAAAAAAAEQI1gAAAAAAAABECNYAAAAAAAAARAjWAAAAAAAAAEQI1gAAAAAAAABECNYA\n",
       "AAAAAAAARAjWAAAAAAAAAEQI1gAAAAAAAABECNYAAAAAAAAARAjWAAAAAAAAAEQI1gAAAAAAAABE\n",
       "jPQA+JQdx81Mb7h4o99tbjTc3M24/iw9Ycm4OqQnLBsve13jqqq6vk4vWHN9lV6wbH72Ij1h2dMX\n",
       "vc7F/e977a2qGlu/16F3f+p1X94O/d4tdo+9zsX+Mb1g3ePLfudi/9DrXLz4YUtPWLY797rGVVXX\n",
       "/7hPT1iye39OT1i2+/5tesK681N6wZq379ILlm1379MT1jR855yPD+kJ62az69xtb1XNrd/7Rbff\n",
       "Z0/bm16D4UL4D2sAAAAAAAAAIgRrAAAAAAAAACIEawAAAAAAAAAiBGsAAAAAAAAAIgRrAAAAAAAA\n",
       "ACIEawAAAAAAAAAiBGsAAAAAAAAAIgRrAAAAAAAAACIEawAAAAAAAAAiBGsAAAAAAAAAIgRrAAAA\n",
       "AAAAACIEawAAAAAAAAAiBGsAAAAAAAAAIgRrAAAAAAAAACIEawAAAAAAAAAiBGsAAAAAAAAAIgRr\n",
       "AAAAAAAAACIEawAAAAAAAAAiBGsAAAAAAAAAIgRrAAAAAAAAACIEawAAAAAAAAAiBGsAAAAAAAAA\n",
       "IgRrAAAAAAAAACIEawAAAAAAAAAiBGsAAAAAAAAAIgRrAAAAAAAAACIEawAAAAAAAAAiBGsAAAAA\n",
       "AAAAIgRrAAAAAAAAACIEawAAAAAAAAAiBGsAAAAAAAAAIgRrAAAAAAAAACJGegDQx3HczPSGVWPX\n",
       "8O9y2m32KHluuy8/T09YNu/u0xOW7b78Ij1hzWfX6QXL5m+bXeOqmlf79IQl89DtGdLTw1e9Pn/n\n",
       "z3ud46qqsaUXrNnfNxtcVeeX/e4X3a7z4cdzesKy/V2/zbu3vd47x/1jesK6c79zUfcP6QVLtn9+\n",
       "l56wbDT7PjLf97pXVFXNjp+92etZPWe7nzqrGm7u9vvs3Hqd46qq07z1Ay3t9bpTAAAAAAAAAHAx\n",
       "BGsAAAAAAAAAIgRrAAAAAAAAACIEawAAAAAAAAAiBGsAAAAAAAAAIgRrAAAAAAAAACIEawAAAAAA\n",
       "AAAiBGsAAAAAAAAAIgRrAAAAAAAAACIEawAAAAAAAAAiBGsAAAAAAAAAIgRrAAAAAAAAACIEawAA\n",
       "AAAAAAAiBGsAAAAAAAAAIgRrAAAAAAAAACIEawAAAAAAAAAiBGsAAAAAAAAAIgRrAAAAAAAAACIE\n",
       "awAAAAAAAAAiBGsAAAAAAAAAIgRrAAAAAAAAACIEawAAAAAAAAAiBGsAAAAAAAAAIgRrAAAAAAAA\n",
       "ACIEawAAAAAAAAAiBGsAAAAAAAAAIgRrAAAAAAAAACIEawAAAAAAAAAiBGsAAAAAAAAAIgRrAAAA\n",
       "AAAAACIEawAAAAAAAAAiBGsAAAAAAAAAIg7pAXycjuNmpjesOs3bkd6wquN17mZuW3rCuulYPLex\n",
       "6/X3WvPdXXrCumbXuKpq3jW7zk9P6QXLRrdrXFXjd79JT1iz36cXLJuHfptfNHtUX/+t3/vQ+csX\n",
       "6QlL9u/O6QnLrju+czbbvPvxfXrCsnl9lZ6wbHz/Nj1hzWj300XNt+/SE9Z1+y2g4/enh8f0hDWz\n",
       "2Zmoqup3u6jq9aiu0fCe/O32pt/oZj9f+M0eMvq9DQEAAAAAAABwEQRrAAAAAAAAACIEawAAAAAA\n",
       "AAAiBGsAAAAAAAAAIgRrAAAAAAAAACIEawAAAAAAAAAiBGsAAAAAAAAAIgRrAAAAAAAAACIEawAA\n",
       "AAAAAAAiBGsAAAAAAAAAIgRrAAAAAAAAACIEawAAAAAAAAAiBGsAAAAAAAAAIgRrAAAAAAAAACIE\n",
       "awAAAAAAAAAiBGsAAAAAAAAAIgRrAAAAAAAAACIEawAAAAAAAAAiBGsAAAAAAAAAIgRrAAAAAAAA\n",
       "ACIEawAAAAAAAAAiBGsAAAAAAAAAIgRrAAAAAAAAACIEawAAAAAAAAAiBGsAAAAAAAAAIgRrAAAA\n",
       "AAAAACIEawAAAAAAAAAiBGsAAAAAAAAAIgRrAAAAAAAAACIEawAAAAAAAAAiBGsAAAAAAAAAIkZ6\n",
       "ANDHcdzM9IZlw23uuY2G13jOXkd57PfpCcvG1Yv0hHXNzkXH+9vu1cv0hHWHZp+/wyG94NPwWbN7\n",
       "3Nbs/lZVddXsLG9besG6hu8XdX5KL1jzotk5rqr68S69YN37+/SCNVuzc1xV8/4hPWHdrtf/6Gzv\n",
       "Gn72up3l0etMVFXNbte4o26/A1TVad72+zEA4P/Q70kNAAAAAAAAwEUQrAEAAAAAAACIEKwBAAAA\n",
       "AAAAiBCsAQAAAAAAAIgQrAEAAAAAAACIEKwBAAAAAAAAiBCsAQAAAAAAAIgQrAEAAAAAAACIEKwB\n",
       "AAAAAAAAiBCsAQAAAAAAAIgQrAEAAAAAAACIEKwBAAAAAAAAiBCsAQAAAAAAAIgQrAEAAAAAAACI\n",
       "EKwBAAAAAAAAiBCsAQAAAAAAAIgQrAEAAAAAAACIEKwBAAAAAAAAiBCsAQAAAAAAAIgQrAEAAAAA\n",
       "AACIEKwBAAAAAAAAiBCsAQAAAAAAAIgQrAEAAAAAAACIEKwBAAAAAAAAiBCsAQAAAAAAAIgQrAEA\n",
       "AAAAAACIEKwBAAAAAAAAiBCsAQAAAAAAAIgQrAEAAAAAAACIEKwBAAAAAAAAiBCsAQAAAAAAAIgQ\n",
       "rAEAAAAAAACIOKQHwKfsOG5mesOSMdILlp22N/1GN/P1/pte57ijbUsvWDYfH9MTlo1ds7/jO+zT\n",
       "C5Zt796lJyzbff4qPWHJfDynJ6yb/R4j49zrOnc8F+OLXp+9un9IL1i37/ccaffs+9d36QXL5tbw\n",
       "ntzsHW57e5eesG72+z5So9e5qO0pY8M1/AAADfhJREFUvWDZOPT6WXnr+B214e9ws9vvFw2vcfV7\n",
       "VPMBtOsMVXWatw0/gDynZm9vAAAAAAAAAFwKwRoAAAAAAACACMEaAAAAAAAAgAjBGgAAAAAAAIAI\n",
       "wRoAAAAAAACACMEaAAAAAAAAgAjBGgAAAAAAAIAIwRoAAAAAAACACMEaAAAAAAAAgAjBGgAAAAAA\n",
       "AIAIwRoAAAAAAACACMEaAAAAAAAAgAjBGgAAAAAAAIAIwRoAAAAAAACACMEaAAAAAAAAgAjBGgAA\n",
       "AAAAAIAIwRoAAAAAAACACMEaAAAAAAAAgAjBGgAAAAAAAIAIwRoAAAAAAACACMEaAAAAAAAAgAjB\n",
       "GgAAAAAAAIAIwRoAAAAAAACACMEaAAAAAAAAgAjBGgAAAAAAAIAIwRoAAAAAAACACMEaAAAAAAAA\n",
       "gAjBGgAAAAAAAIAIwRoAAAAAAACACMEaAAAAAAAAgAjBGgAAAAAAAIAIwRoAAAAAAACAiJEeAMB/\n",
       "O+5ez/SGS3fa3rR6/n19+HPDM9HqEv9Hs8njcJWesG5u6QXrdvv0gjW7Zge5qsbhkJ6wbmt2lkfD\n",
       "c3HV7Vz0u8bz6ZyesGzse92T51Oze0VVzYeH9IRl8+ExPWHNbPhqv2v4/y4N73E8r9nxs9dRs+t8\n",
       "mrf9XuJ4dsdx0+sgl7PMZWj4xgkAAAAAAADAJRCsAQAAAAAAAIgQrAEAAAAAAACIEKwBAAAAAAAA\n",
       "iBCsAQAAAAAAAIgQrAEAAAAAAACIEKwBAAAAAAAAiBCsAQAAAAAAAIgQrAEAAAAAAACIEKwBAAAA\n",
       "AAAAiBCsAQAAAAAAAIgQrAEAAAAAAACIEKwBAAAAAAAAiBCsAQAAAAAAAIgQrAEAAAAAAACIEKwB\n",
       "AAAAAAAAiBCsAQAAAAAAAIgQrAEAAAAAAACIEKwBAAAAAAAAiBCsAQAAAAAAAIgQrAEAAAAAAACI\n",
       "EKwBAAAAAAAAiBCsAQAAAAAAAIgQrAEAAAAAAACIEKwBAAAAAAAAiBCsAQAAAAAAAIgQrAEAAAAA\n",
       "AACIEKwBAAAAAAAAiBCsAQAAAAAAAIgQrAEAAAAAAACIEKwBAAAAAAAAiBCsAQAAAAAAAIg4pAcA\n",
       "8BNzphfwkfn2/JeR3rDquHvtID+3lveKdke5amzpBWtms71VNUe/czGurtITFvW7xvP+IT3hE9Dv\n",
       "OTJ3vf7mfp6f0hPWNXyOtNPwuVdP5/SCdc2u89wafvaafR85zdteh6J6fq/ueJ27OY4b5wK4SL2+\n",
       "7QEAAAAAAABwMQRrAAAAAAAAACIEawAAAAAAAAAiBGsAAAAAAAAAIgRrAAAAAAAAACIEawAAAAAA\n",
       "AAAiBGsAAAAAAAAAIgRrAAAAAAAAACIEawAAAAAAAAAiBGsAAAAAAAAAIgRrAAAAAAAAACIEawAA\n",
       "AAAAAAAiBGsAAAAAAAAAIgRrAAAAAAAAACIEawAAAAAAAAAiBGsAAAAAAAAAIgRrAAAAAAAAACIE\n",
       "awAAAAAAAAAiBGsAAAAAAAAAIgRrAAAAAAAAACIEawAAAAAAAAAiBGsAAAAAAAAAIgRrAAAAAAAA\n",
       "ACIEawAAAAAAAAAiBGsAAAAAAAAAIgRrAAAAAAAAACIEawAAAAAAAAAiBGsAAAAAAAAAIgRrAAAA\n",
       "AAAAACIEawAAAAAAAAAiBGsAAAAAAAAAIkZ6AABweb7efzPTG1bN2W4yH8DY79MT1mxbesG6XbNr\n",
       "zAcxdr2+qnZ8hLS7v1W1u8fN82N6AvwqOr4nn7Y3rR4kx3HT7yKPVpe43ZkAgE+N/7AGAAAAAAAA\n",
       "IEKwBgAAAAAAACBCsAYAAAAAAAAgQrAGAAAAAAAAIEKwBgAAAAAAACBCsAYAAAAAAAAgQrAGAAAA\n",
       "AAAAIEKwBgAAAAAAACBCsAYAAAAAAAAgQrAGAAAAAAAAIEKwBgAAAAAAACBCsAYAAAAAAAAgQrAG\n",
       "AAAAAAAAIEKwBgAAAAAAACBCsAYAAAAAAAAgQrAGAAAAAAAAIEKwBgAAAAAAACBCsAYAAAAAAAAg\n",
       "QrAGAAAAAAAAIEKwBgAAAAAAACBCsAYAAAAAAAAgQrAGAAAAAAAAIEKwBgAAAAAAACBCsAYAAAAA\n",
       "AAAgQrAGAAAAAAAAIEKwBgAAAAAAACBCsAYAAAAAAAAgQrAGAAAAAAAAIEKwBgAAAAAAACBCsAYA\n",
       "AAAAAAAgQrAGAAAAAAAAIEKwBgAAAAAAACBipAcAwId2HDczvWHFad62e14fd69bXeOqqtP2ptV1\n",
       "7naOq6rGrt/fSs7Z7jK3M0arj15Pu316wSeg4b1i29ILLl/H+1vD5163Z3XH5163a1xVLc9yNx2/\n",
       "pwIAH69+vxoCAAAAAAAAcBEEawAAAAAAAAAiBGsAAAAAAAAAIgRrAAAAAAAAACIEawAAAAAAAAAi\n",
       "BGsAAAAAAAAAIgRrAAAAAAAAACIEawAAAAAAAAAiBGsAAAAAAAAAIgRrAAAAAAAAACIEawAAAAAA\n",
       "AAAiBGsAAAAAAAAAIgRrAAAAAAAAACIEawAAAAAAAAAiBGsAAAAAAAAAIgRrAAAAAAAAACIEawAA\n",
       "AAAAAAAiBGsAAAAAAAAAIgRrAAAAAAAAACIEawAAAAAAAAAiBGsAAAAAAAAAIgRrAAAAAAAAACIE\n",
       "awAAAAAAAAAiBGsAAAAAAAAAIgRrAAAAAAAAACIEawAAAAAAAAAiBGsAAAAAAAAAIgRrAAAAAAAA\n",
       "ACIEawAAAAAAAAAiBGsAAAAAAAAAIgRrAAAAAAAAACIEawAAAAAAAAAiRnoAAPDLjuNmpjesOs1b\n",
       "7xj8zHH3ut1ZrtlrcsfPXstzwbMbo9dRns3uFW01u85j1+9/BOa2pSesa3a/6Oi0vXGRn5nvfM/P\n",
       "NQaAj1u/b08AAAAAAAAAXATBGgAAAAAAAIAIwRoAAAAAAACACMEaAAAAAAAAgAjBGgAAAAAAAIAI\n",
       "wRoAAAAAAACACMEaAAAAAAAAgAjBGgAAAAAAAIAIwRoAAAAAAACACMEaAAAAAAAAgAjBGgAAAAAA\n",
       "AIAIwRoAAAAAAACACMEaAAAAAAAAgAjBGgAAAAAAAIAIwRoAAAAAAACACMEaAAAAAAAAgAjBGgAA\n",
       "AAAAAIAIwRoAAAAAAACACMEaAAAAAAAAgAjBGgAAAAAAAIAIwRoAAAAAAACACMEaAAAAAAAAgAjB\n",
       "GgAAAAAAAIAIwRoAAAAAAACACMEaAAAAAAAAgAjBGgAAAAAAAIAIwRoAAAAAAACACMEaAAAAAAAA\n",
       "gAjBGgAAAAAAAIAIwRoAAAAAAACACMEaAAAAAAAAgIhDegAA8MtO83akN8Cnqtvn77h7PdMbls1+\n",
       "k7vpdo6rGp5l5/jDGL2O8mx4LjreL6rZZT6Om2aLe+p2nVt+9ppxjQHg4+Y/rAEAAAAAAACIEKwB\n",
       "AAAAAAAAiBCsAQAAAAAAAIgQrAEAAAAAAACIEKwBAAAAAAAAiBCsAQAAAAAAAIgQrAEAAAAAAACI\n",
       "EKwBAAAAAAAAiBCsAQAAAAAAAIgQrAEAAAAAAACIEKwBAAAAAAAAiBCsAQAAAAAAAIgQrAEAAAAA\n",
       "AACIEKwBAAAAAAAAiBCsAQAAAAAAAIgQrAEAAAAAAACIEKwBAAAAAAAAiBCsAQAAAAAAAIgQrAEA\n",
       "AAAAAACIEKwBAAAAAAAAiBCsAQAAAAAAAIgQrAEAAAAAAACIEKwBAAAAAAAAiBCsAQAAAAAAAIgQ\n",
       "rAEAAAAAAACIEKwBAAAAAAAAiBCsAQAAAAAAAIgQrAEAAAAAAACIEKwBAAAAAAAAiBCsAQAAAAAA\n",
       "AIgQrAEAAAAAAACIEKwBAAAAAAAAiBjpAQDA5TmOm5nesOo0b70X8TPdzrJz/GF0Oxc1Gh6L2esS\n",
       "++x9GO0+ew05y5DR8f7mfgEA/Jr8hzUAAAAAAAAAEYI1AAAAAAAAABGCNQAAAAAAAAARgjUAAAAA\n",
       "AAAAEYI1AAAAAAAAABGCNQAAAAAAAAARgjUAAAAAAAAAEYI1AAAAAAAAABGCNQAAAAAAAAARgjUA\n",
       "AAAAAAAAEYI1AAAAAAAAABGCNQAAAAAAAAARgjUAAAAAAAAAEYI1AAAAAAAAABGCNQAAAAAAAAAR\n",
       "gjUAAAAAAAAAEYI1AAAAAAAAABGCNQAAAAAAAAARgjUAAAAAAAAAEYI1AAAAAAAAABGCNQAAAAAA\n",
       "AAARgjUAAAAAAAAAEYI1AAAAAAAAABGCNQAAAAAAAAARgjUAAAAAAAAAEYI1AAAAAAAAABGCNQAA\n",
       "AAAAAAARgjUAAAAAAAAAEYI1AAAAAAAAABGCNQAAAAAAAAARgjUAAAAAAAAAEYI1AAAAAAAAABEj\n",
       "PQAAAPh1HMfNTG/4FJzmbavvUR3PhWvM/9LuXOxetzsXp+1Nq2sMAABcBv9hDQAAAAAAAECEYA0A\n",
       "AAAAAABAhGANAAAAAAAAQIRgDQAAAAAAAECEYA0AAAAAAABAhGANAAAAAAAAQIRgDQAAAAAAAECE\n",
       "YA0AAAAAAABAhGANAAAAAAAAQIRgDQAAAAAAAECEYA0AAAAAAABAhGANAAAAAAAAQIRgDQAAAAAA\n",
       "AECEYA0AAAAAAABAhGANAAAAAAAAQIRgDQAAAAAAAECEYA0AAAAAAABAhGANAAAAAAAAQIRgDQAA\n",
       "AAAAAECEYA0AAAAAAABAhGANAAAAAAAAQIRgDQAAAAAAAECEYA0AAAAAAABAhGANAAAAAAAAQIRg\n",
       "DQAAAAAAAECEYA0AAAAAAABAhGANAAAAAAAAQIRgDQAAAAAAAECEYA0AAAAAAABAhGANAAAAAAAA\n",
       "QIRgDQAAAAAAAEDEvwGOkjRN+IQMPQAAAABJRU5ErkJggg==\n",
       "\" transform=\"translate(149, 47)\"/>\n",
       "</g>\n",
       "<defs>\n",
       "  <clipPath id=\"clip213\">\n",
       "    <rect x=\"2160\" y=\"47\" width=\"73\" height=\"1440\"/>\n",
       "  </clipPath>\n",
       "</defs>\n",
       "<g clip-path=\"url(#clip213)\">\n",
       "<image width=\"72\" height=\"1439\" xlink:href=\"data:image/png;base64,\n",
       "iVBORw0KGgoAAAANSUhEUgAAAEgAAAWfCAYAAAAI7rB3AAAMJ0lEQVR4nO3dwa3cSBAFQVIoU9Z/\n",
       "t2QFm7JgK4+cQ4QFQuJhiG7OfN3P3//ei//15+t/wK8TKAgUBAoChXne8/W/4adZUBAoCBQECgKF\n",
       "OZej2MaCgkBBoCBQmHM5amwsKAgUBAoCBYHCPK+jxsaCgkBBoCBQECg4iwULCgIFgYJAYR5vNVYW\n",
       "FAQKAgWBgkBhjguzlQUFgYJAQaDgqBEsKAgUBAoCBYHCeKexs6AgUBAoCBQECr5hFiwoCBQECgKF\n",
       "eb7+F/w4CwoCBYGCQEGg4MIsWFAQKAgUBAoChXncl60sKAgUBAoCBUeNYEFBoCBQECgIFOa57q//\n",
       "DT/NgoJAQaAgUJjn9SG9saAgUBAoCBQECnMcNVYWFAQKAgWBgkDBhVmwoCBQECgIFOa4MFtZUBAo\n",
       "CBQECgIFR41gQUGgIFAQKAgUPMWCBQWBgkBBoDDn1WijThAoCBQECgIFR41gQUGgIFAQKMyj0Uqd\n",
       "IFAQKAgUBAouzII6QaAgUBAoCBRcmAULCgIFgYJAYR5HjZU6QaAgUBAoCBTmaLRSJwgUBAoCBYGC\n",
       "C7NgQUGgIFAQKLgwC+oEgYJAQaAgUHBhFtQJAgWBgkDBUSOoEwQKAgWBgkDBW41gQUGgIFAQKAgU\n",
       "/CQzqBMECgIFgYK//hLUCQIFgYJAQaAwj/9fbGVBQaAgUBAo+AJVUCcIFAQKAgWBgm+YBXWCQEGg\n",
       "IFAQKHjtE9QJAgWBgkBhjrcaKwsKAgWBgkBBoOCoEdQJAgWBgkBBoODHLEGdIFAQKAgU/G4+WFAQ\n",
       "KAgUBAoCBUeNoE4QKAgUBAqOGsGCgkBBoCBQECg4agR1gkBBoCBQECj4SWZQJwgUBAoChTkuzFYW\n",
       "FAQKAgWBgkDBUSOoEwQKAgWBgkDBWSxYUBAoCBQECo4aQZ0gUBAoCBQECv6GWbCgIFAQKAgU/Imu\n",
       "oE4QKAgUBAoCBUeNYEFBoCBQECgIFDzFggUFgYJAQaDgwiyoEwQKAgWBgkDBUSNYUBAoCBQECgIF\n",
       "f8MsqBMECgIFgYJfHAYLCgIFgYJAQaAwjwuzlQUFgYJAQaDgPiioEwQKAgWBgkDBu/lgQUGgIFAQ\n",
       "KAgUvPYJFhQECgIFgYK3GsGCgkBBoCBQECh47RPUCQIFgYJAwVuNYEFBoCBQECgIFLzVCBYUBAoC\n",
       "BYGCQMFZLFhQECgIFAQKPqSDBQWBgkBBoCBQ8BQLFhQECgIFgYJAwTfMgjpBoCBQECh4Nx8sKAgU\n",
       "BAoCBYGCC7NgQUGgIFAQKPiQDhYUBAoCBYGCQMFTLFhQECgIFAQKAoV5PcVWFhQECgIFgYJ388GC\n",
       "gkBBoCBQECi4MAsWFAQKAgWBgkDBUyxYUBAoCBQECt5qBAsKAgWBgkBBoOCoESwoCBQECgIFH9LB\n",
       "goJAQaAgUBAozPv1v+DHWVAQKAgUBAoCBWexYEFBoCBQECh4Nx8sKAgUBAoCBYGCo0awoCBQECgI\n",
       "FAQKzmLBgoJAQaAgUJjj5fzKgoJAQaAgUBAoOGoECwoCBYGCQMGHdLCgIFAQKAgUBArezQcLCgIF\n",
       "gYJAQaDgJ5nBgoJAQaAgUHBhFiwoCBQECgIFgYKnWLCgIFAQKAgUBArzujFbWVAQKAgUBAqOGsGC\n",
       "gkBBoCBQECh4igULCgIFgYJAwX1QsKAgUBAoCBQECo4awYKCQEGgIFAQKDiLBQsKAgWBgkBhLkeN\n",
       "lQUFgYJAQaAgUHBhFiwoCBQECgIFf9wkWFAQKAgUBAoCBRdmwYKCQEGgIFAQKHg3HywoCBQECgKF\n",
       "uXxIrywoCBQECgIFgYJ388GCgkBBoCBQECg4iwULCgIFgYJAwbv5YEFBoCBQECgIFLybDxYUBAoC\n",
       "BYGCo0awoCBQECgIFAQK3moECwoCBYGCQEGg4CkWLCgIFAQKAgUXZsGCgkBBoCBQECg4agQLCgIF\n",
       "gYJAQaDgKRYsKAgUBAoCBRdmwYKCQEGgIFAQKAgUBAoCBYGCQMF9ULCgIFAQKAgUBAqeYsGCgkBB\n",
       "oCBQECjM7bXPyoKCQEGgIFBw1AgWFAQKAgWBgkDBUyxYUBAoCBQECgIFT7FgQUGgIFAQKPgxS7Cg\n",
       "IFAQKAgUBApzO2qsLCgIFAQKAgX3QcGCgkBBoCBQECh4igULCgIFgYJAQaDgwixYUBAoCBQECo4a\n",
       "wYKCQEGgIFAQKPiGWbCgIFAQKAgU3AcFCwoCBYGCQEGg4MIsWFAQKAgUBAoCBU+xYEFBoCBQECiM\n",
       "dxo7CwoCBYGCQEGg4KgRLCgIFAQKAgWBgqdYsKAgUBAoCBR8wyxYUBAoCBQECgIFR41gQUGgIFAQ\n",
       "KPiQDhYUBAoCBYGCQMGFWbCgIFAQKAgUBAr++kuwoCBQECgIFBw1ggUFgYJAQaAgUPDaJ1hQECgI\n",
       "FAQKAgVPsWBBQaAgUBAouDALFhQECgIFgYJAwVEjWFAQKAgUBAo+pIMFBYGCQEGgIFBwYRYsKAgU\n",
       "BAoCBYGCs1iwoCBQECgIFAQKAgWBgkBBoCBQcGEWLCgIFAQKAgWBgguzYEFBoCBQECg4agQLCgIF\n",
       "gYJAQaDgqBEsKAgUBAoCBR/SwYKCQEGgIFAQKLgwCxYUBAoCBYGCQMFZLFhQECgIFAQKjhrBgoJA\n",
       "QaAgUBAoOGoECwoCBYGCQMGHdLCgIFAQKAgUBAouzIIFBYGCQEGgIFBwFgsWFAQKAgWBgqNGsKAg\n",
       "UBAoCBQECo4awYKCQEGgIFAQKHiKBQsKAgWBgkBh7ten9MaCgkBBoCBQECg4agQLCgIFgYJAwbv5\n",
       "YEFBoCBQECgIFBw1ggUFgYJAQaAgUHAWCxYUBAoCBYGCo0awoCBQECgIFAQKnmLBgoJAQaAgUBAo\n",
       "uDALFhQECgIFgYKjRrCgIFAQKAgUBAqOGsGCgkBBoCBQcNQIFhQECgIFgYJAwVEjWFAQKAgUBAoC\n",
       "BWexYEFBoCBQECj4Q5PBgoJAQaAgUBAoOGoECwoCBYGCQEGg4LVPsKAgUBAoCBQcNYIFBYGCQEGg\n",
       "IFBw1AgWFAQKAgWBgqNGsKAgUBAoCBQECo4awYKCQEGgIFAQKMzle9IrCwoCBYGCQMFRI1hQECgI\n",
       "FAQKAgWvfYIFBYGCQEGgIFBwFgsWFAQKAgWBgqNGsKAgUBAoCBQECv6GWbCgIFAQKAgUHDWCBQWB\n",
       "gkBBoCBQmPt8/U/4bRYUBAoCBYGCQMFZLFhQECgIFAQK3moECwoCBYGCQEGg4KgRLCgIFAQKAgUf\n",
       "0sGCgkBBoCBQECj4xWGwoCBQECgIFAQK/tBksKAgUBAoCBQcNYIFBYGCQEGgIFCY63iMbSwoCBQE\n",
       "CgIFgYKzWLCgIFAQKAgUfMMsWFAQKAgUBAoCBT/JDBYUBAoCBYGCo0awoCBQECgIFAQKjhrBgoJA\n",
       "QaAgUBAozOXPJa8sKAgUBAoCBb84DBYUBAoCBYGCQMHXgIMFBYGCQEGgIFBwFgsWFAQKAgWBgm+Y\n",
       "BQsKAgWBgkBBoOAbZsGCgkBBoCBQ8Ce6ggUFgYJAQaAgUPBuPlhQECgIFAQKAgXv5oMFBYGCQEGg\n",
       "4EM6WFAQKAgUBAoCBb+bDxYUBAoCBYGCQME3zIIFBYGCQEGg4MIsWFAQKAgUBAoCBU+xYEFBoCBQ\n",
       "ECh4qxEsKAgUBAoCBYGCtxrBgoJAQaAgUBAouDALFhQECgIFgYIP6WBBQaAgUBAoCBT8DbNgQUGg\n",
       "IFAQKDhqBAsKAgWBgkBBoOApFiwoCBQECgIFgYKnWLCgIFAQKAgU5vZWY2VBQaAgUBAoCBQcNYIF\n",
       "BYGCQEGgIFDwFAsWFAQKAgWBgg/pYEFBoCBQECgIFPyYJVhQECgIFAQKjhrBgoJAQaAgUBAoeIoF\n",
       "CwoCBYGCQEGgMNfxV/83FhQECgIFgYKjRrCgIFAQKAgUBArzeoqtLCgIFAQKAgWBgm+YBQsKAgWB\n",
       "gkBhrtdbjY0FBYGCQEGgIFDw2idYUBAoCBQECu6DggUFgYJAQaAgUHBhFiwoCBQECgIFgYKzWLCg\n",
       "IFAQKAgUfA04WFAQKAgUBAoCBb+bDxYUBAoCBYGCQME3zIIFBYGCQEGg4KgRLCgIFAQKAgWBgtc+\n",
       "wYKCQEGgIFDwBapgQUGgIFAQKAgU/JglWFAQKAgUBAoChXmdxVYWFAQKAgWBgqNGsKAgUBAoCBQE\n",
       "Cr4GHCwoCBQECgKFf4jrjN/mS6F7AAAAAElFTkSuQmCC\n",
       "\" transform=\"translate(2161, 47)\"/>\n",
       "</g>\n",
       "<path clip-path=\"url(#clip210)\" d=\"M2269.43 1269.28 L2277.07 1269.28 L2277.07 1242.92 L2268.76 1244.58 L2268.76 1240.32 L2277.02 1238.66 L2281.7 1238.66 L2281.7 1269.28 L2289.33 1269.28 L2289.33 1273.22 L2269.43 1273.22 L2269.43 1269.28 Z\" fill=\"#f8f8f2\" fill-rule=\"nonzero\" fill-opacity=\"1\" /><path clip-path=\"url(#clip210)\" d=\"M2308.78 1241.74 Q2305.17 1241.74 2303.34 1245.3 Q2301.53 1248.84 2301.53 1255.97 Q2301.53 1263.08 2303.34 1266.64 Q2305.17 1270.19 2308.78 1270.19 Q2312.41 1270.19 2314.22 1266.64 Q2316.05 1263.08 2316.05 1255.97 Q2316.05 1248.84 2314.22 1245.3 Q2312.41 1241.74 2308.78 1241.74 M2308.78 1238.03 Q2314.59 1238.03 2317.64 1242.64 Q2320.72 1247.22 2320.72 1255.97 Q2320.72 1264.7 2317.64 1269.31 Q2314.59 1273.89 2308.78 1273.89 Q2302.97 1273.89 2299.89 1269.31 Q2296.83 1264.7 2296.83 1255.97 Q2296.83 1247.22 2299.89 1242.64 Q2302.97 1238.03 2308.78 1238.03 Z\" fill=\"#f8f8f2\" fill-rule=\"nonzero\" fill-opacity=\"1\" /><path clip-path=\"url(#clip210)\" d=\"M2338.94 1241.74 Q2335.33 1241.74 2333.5 1245.3 Q2331.7 1248.84 2331.7 1255.97 Q2331.7 1263.08 2333.5 1266.64 Q2335.33 1270.19 2338.94 1270.19 Q2342.57 1270.19 2344.38 1266.64 Q2346.21 1263.08 2346.21 1255.97 Q2346.21 1248.84 2344.38 1245.3 Q2342.57 1241.74 2338.94 1241.74 M2338.94 1238.03 Q2344.75 1238.03 2347.81 1242.64 Q2350.89 1247.22 2350.89 1255.97 Q2350.89 1264.7 2347.81 1269.31 Q2344.75 1273.89 2338.94 1273.89 Q2333.13 1273.89 2330.05 1269.31 Q2327 1264.7 2327 1255.97 Q2327 1247.22 2330.05 1242.64 Q2333.13 1238.03 2338.94 1238.03 Z\" fill=\"#f8f8f2\" fill-rule=\"nonzero\" fill-opacity=\"1\" /><polyline clip-path=\"url(#clip210)\" style=\"stroke:#000000; stroke-linecap:round; stroke-linejoin:round; stroke-width:4; stroke-opacity:1; fill:none\" points=\"2232.76,1259.57 2256.76,1259.57 \"/>\n",
       "<path clip-path=\"url(#clip210)\" d=\"M2274.38 1040.11 L2290.7 1040.11 L2290.7 1044.05 L2268.76 1044.05 L2268.76 1040.11 Q2271.42 1037.36 2276 1032.73 Q2280.61 1028.07 2281.79 1026.73 Q2284.03 1024.21 2284.91 1022.47 Q2285.82 1020.71 2285.82 1019.02 Q2285.82 1016.27 2283.87 1014.53 Q2281.95 1012.8 2278.85 1012.8 Q2276.65 1012.8 2274.2 1013.56 Q2271.77 1014.32 2268.99 1015.87 L2268.99 1011.15 Q2271.81 1010.02 2274.27 1009.44 Q2276.72 1008.86 2278.76 1008.86 Q2284.13 1008.86 2287.32 1011.55 Q2290.52 1014.23 2290.52 1018.72 Q2290.52 1020.85 2289.7 1022.77 Q2288.92 1024.67 2286.81 1027.26 Q2286.23 1027.93 2283.13 1031.15 Q2280.03 1034.35 2274.38 1040.11 Z\" fill=\"#f8f8f2\" fill-rule=\"nonzero\" fill-opacity=\"1\" /><path clip-path=\"url(#clip210)\" d=\"M2310.51 1012.56 Q2306.9 1012.56 2305.08 1016.13 Q2303.27 1019.67 2303.27 1026.8 Q2303.27 1033.91 2305.08 1037.47 Q2306.9 1041.01 2310.51 1041.01 Q2314.15 1041.01 2315.95 1037.47 Q2317.78 1033.91 2317.78 1026.8 Q2317.78 1019.67 2315.95 1016.13 Q2314.15 1012.56 2310.51 1012.56 M2310.51 1008.86 Q2316.33 1008.86 2319.38 1013.47 Q2322.46 1018.05 2322.46 1026.8 Q2322.46 1035.53 2319.38 1040.13 Q2316.33 1044.72 2310.51 1044.72 Q2304.7 1044.72 2301.63 1040.13 Q2298.57 1035.53 2298.57 1026.8 Q2298.57 1018.05 2301.63 1013.47 Q2304.7 1008.86 2310.51 1008.86 Z\" fill=\"#f8f8f2\" fill-rule=\"nonzero\" fill-opacity=\"1\" /><path clip-path=\"url(#clip210)\" d=\"M2340.68 1012.56 Q2337.07 1012.56 2335.24 1016.13 Q2333.43 1019.67 2333.43 1026.8 Q2333.43 1033.91 2335.24 1037.47 Q2337.07 1041.01 2340.68 1041.01 Q2344.31 1041.01 2346.12 1037.47 Q2347.95 1033.91 2347.95 1026.8 Q2347.95 1019.67 2346.12 1016.13 Q2344.31 1012.56 2340.68 1012.56 M2340.68 1008.86 Q2346.49 1008.86 2349.54 1013.47 Q2352.62 1018.05 2352.62 1026.8 Q2352.62 1035.53 2349.54 1040.13 Q2346.49 1044.72 2340.68 1044.72 Q2334.87 1044.72 2331.79 1040.13 Q2328.73 1035.53 2328.73 1026.8 Q2328.73 1018.05 2331.79 1013.47 Q2334.87 1008.86 2340.68 1008.86 Z\" fill=\"#f8f8f2\" fill-rule=\"nonzero\" fill-opacity=\"1\" /><polyline clip-path=\"url(#clip210)\" style=\"stroke:#000000; stroke-linecap:round; stroke-linejoin:round; stroke-width:4; stroke-opacity:1; fill:none\" points=\"2232.76,1030.39 2256.76,1030.39 \"/>\n",
       "<path clip-path=\"url(#clip210)\" d=\"M2284.38 796.239 Q2287.74 796.957 2289.61 799.225 Q2291.51 801.494 2291.51 804.827 Q2291.51 809.943 2287.99 812.743 Q2284.47 815.544 2277.99 815.544 Q2275.82 815.544 2273.5 815.105 Q2271.21 814.688 2268.76 813.831 L2268.76 809.318 Q2270.7 810.452 2273.02 811.03 Q2275.33 811.609 2277.85 811.609 Q2282.25 811.609 2284.54 809.873 Q2286.86 808.137 2286.86 804.827 Q2286.86 801.771 2284.7 800.058 Q2282.58 798.322 2278.76 798.322 L2274.73 798.322 L2274.73 794.48 L2278.94 794.48 Q2282.39 794.48 2284.22 793.114 Q2286.05 791.725 2286.05 789.132 Q2286.05 786.47 2284.15 785.058 Q2282.27 783.623 2278.76 783.623 Q2276.83 783.623 2274.64 784.04 Q2272.44 784.457 2269.8 785.336 L2269.8 781.17 Q2272.46 780.429 2274.77 780.058 Q2277.11 779.688 2279.17 779.688 Q2284.5 779.688 2287.6 782.119 Q2290.7 784.526 2290.7 788.646 Q2290.7 791.517 2289.06 793.507 Q2287.41 795.475 2284.38 796.239 Z\" fill=\"#f8f8f2\" fill-rule=\"nonzero\" fill-opacity=\"1\" /><path clip-path=\"url(#clip210)\" d=\"M2310.38 783.392 Q2306.76 783.392 2304.94 786.957 Q2303.13 790.498 2303.13 797.628 Q2303.13 804.734 2304.94 808.299 Q2306.76 811.841 2310.38 811.841 Q2314.01 811.841 2315.82 808.299 Q2317.64 804.734 2317.64 797.628 Q2317.64 790.498 2315.82 786.957 Q2314.01 783.392 2310.38 783.392 M2310.38 779.688 Q2316.19 779.688 2319.24 784.295 Q2322.32 788.878 2322.32 797.628 Q2322.32 806.355 2319.24 810.961 Q2316.19 815.544 2310.38 815.544 Q2304.57 815.544 2301.49 810.961 Q2298.43 806.355 2298.43 797.628 Q2298.43 788.878 2301.49 784.295 Q2304.57 779.688 2310.38 779.688 Z\" fill=\"#f8f8f2\" fill-rule=\"nonzero\" fill-opacity=\"1\" /><path clip-path=\"url(#clip210)\" d=\"M2340.54 783.392 Q2336.93 783.392 2335.1 786.957 Q2333.29 790.498 2333.29 797.628 Q2333.29 804.734 2335.1 808.299 Q2336.93 811.841 2340.54 811.841 Q2344.17 811.841 2345.98 808.299 Q2347.81 804.734 2347.81 797.628 Q2347.81 790.498 2345.98 786.957 Q2344.17 783.392 2340.54 783.392 M2340.54 779.688 Q2346.35 779.688 2349.4 784.295 Q2352.48 788.878 2352.48 797.628 Q2352.48 806.355 2349.4 810.961 Q2346.35 815.544 2340.54 815.544 Q2334.73 815.544 2331.65 810.961 Q2328.59 806.355 2328.59 797.628 Q2328.59 788.878 2331.65 784.295 Q2334.73 779.688 2340.54 779.688 Z\" fill=\"#f8f8f2\" fill-rule=\"nonzero\" fill-opacity=\"1\" /><polyline clip-path=\"url(#clip210)\" style=\"stroke:#000000; stroke-linecap:round; stroke-linejoin:round; stroke-width:4; stroke-opacity:1; fill:none\" points=\"2232.76,801.222 2256.76,801.222 \"/>\n",
       "<path clip-path=\"url(#clip210)\" d=\"M2284.36 555.215 L2272.55 573.664 L2284.36 573.664 L2284.36 555.215 M2283.13 551.14 L2289.01 551.14 L2289.01 573.664 L2293.94 573.664 L2293.94 577.552 L2289.01 577.552 L2289.01 585.7 L2284.36 585.7 L2284.36 577.552 L2268.76 577.552 L2268.76 573.039 L2283.13 551.14 Z\" fill=\"#f8f8f2\" fill-rule=\"nonzero\" fill-opacity=\"1\" /><path clip-path=\"url(#clip210)\" d=\"M2311.67 554.219 Q2308.06 554.219 2306.23 557.784 Q2304.43 561.326 2304.43 568.455 Q2304.43 575.562 2306.23 579.126 Q2308.06 582.668 2311.67 582.668 Q2315.31 582.668 2317.11 579.126 Q2318.94 575.562 2318.94 568.455 Q2318.94 561.326 2317.11 557.784 Q2315.31 554.219 2311.67 554.219 M2311.67 550.515 Q2317.48 550.515 2320.54 555.122 Q2323.62 559.705 2323.62 568.455 Q2323.62 577.182 2320.54 581.788 Q2317.48 586.372 2311.67 586.372 Q2305.86 586.372 2302.78 581.788 Q2299.73 577.182 2299.73 568.455 Q2299.73 559.705 2302.78 555.122 Q2305.86 550.515 2311.67 550.515 Z\" fill=\"#f8f8f2\" fill-rule=\"nonzero\" fill-opacity=\"1\" /><path clip-path=\"url(#clip210)\" d=\"M2341.83 554.219 Q2338.22 554.219 2336.39 557.784 Q2334.59 561.326 2334.59 568.455 Q2334.59 575.562 2336.39 579.126 Q2338.22 582.668 2341.83 582.668 Q2345.47 582.668 2347.27 579.126 Q2349.1 575.562 2349.1 568.455 Q2349.1 561.326 2347.27 557.784 Q2345.47 554.219 2341.83 554.219 M2341.83 550.515 Q2347.64 550.515 2350.7 555.122 Q2353.78 559.705 2353.78 568.455 Q2353.78 577.182 2350.7 581.788 Q2347.64 586.372 2341.83 586.372 Q2336.02 586.372 2332.95 581.788 Q2329.89 577.182 2329.89 568.455 Q2329.89 559.705 2332.95 555.122 Q2336.02 550.515 2341.83 550.515 Z\" fill=\"#f8f8f2\" fill-rule=\"nonzero\" fill-opacity=\"1\" /><polyline clip-path=\"url(#clip210)\" style=\"stroke:#000000; stroke-linecap:round; stroke-linejoin:round; stroke-width:4; stroke-opacity:1; fill:none\" points=\"2232.76,572.049 2256.76,572.049 \"/>\n",
       "<path clip-path=\"url(#clip210)\" d=\"M2270.21 321.968 L2288.57 321.968 L2288.57 325.903 L2274.5 325.903 L2274.5 334.375 Q2275.52 334.028 2276.53 333.866 Q2277.55 333.681 2278.57 333.681 Q2284.36 333.681 2287.74 336.852 Q2291.12 340.023 2291.12 345.44 Q2291.12 351.019 2287.64 354.121 Q2284.17 357.199 2277.85 357.199 Q2275.68 357.199 2273.41 356.829 Q2271.16 356.458 2268.76 355.718 L2268.76 351.019 Q2270.84 352.153 2273.06 352.708 Q2275.28 353.264 2277.76 353.264 Q2281.77 353.264 2284.1 351.158 Q2286.44 349.051 2286.44 345.44 Q2286.44 341.829 2284.1 339.722 Q2281.77 337.616 2277.76 337.616 Q2275.89 337.616 2274.01 338.033 Q2272.16 338.449 2270.21 339.329 L2270.21 321.968 Z\" fill=\"#f8f8f2\" fill-rule=\"nonzero\" fill-opacity=\"1\" /><path clip-path=\"url(#clip210)\" d=\"M2310.33 325.047 Q2306.72 325.047 2304.89 328.611 Q2303.08 332.153 2303.08 339.283 Q2303.08 346.389 2304.89 349.954 Q2306.72 353.496 2310.33 353.496 Q2313.96 353.496 2315.77 349.954 Q2317.6 346.389 2317.6 339.283 Q2317.6 332.153 2315.77 328.611 Q2313.96 325.047 2310.33 325.047 M2310.33 321.343 Q2316.14 321.343 2319.2 325.949 Q2322.27 330.533 2322.27 339.283 Q2322.27 348.009 2319.2 352.616 Q2316.14 357.199 2310.33 357.199 Q2304.52 357.199 2301.44 352.616 Q2298.39 348.009 2298.39 339.283 Q2298.39 330.533 2301.44 325.949 Q2304.52 321.343 2310.33 321.343 Z\" fill=\"#f8f8f2\" fill-rule=\"nonzero\" fill-opacity=\"1\" /><path clip-path=\"url(#clip210)\" d=\"M2340.49 325.047 Q2336.88 325.047 2335.05 328.611 Q2333.25 332.153 2333.25 339.283 Q2333.25 346.389 2335.05 349.954 Q2336.88 353.496 2340.49 353.496 Q2344.13 353.496 2345.93 349.954 Q2347.76 346.389 2347.76 339.283 Q2347.76 332.153 2345.93 328.611 Q2344.13 325.047 2340.49 325.047 M2340.49 321.343 Q2346.3 321.343 2349.36 325.949 Q2352.44 330.533 2352.44 339.283 Q2352.44 348.009 2349.36 352.616 Q2346.3 357.199 2340.49 357.199 Q2334.68 357.199 2331.6 352.616 Q2328.55 348.009 2328.55 339.283 Q2328.55 330.533 2331.6 325.949 Q2334.68 321.343 2340.49 321.343 Z\" fill=\"#f8f8f2\" fill-rule=\"nonzero\" fill-opacity=\"1\" /><polyline clip-path=\"url(#clip210)\" style=\"stroke:#000000; stroke-linecap:round; stroke-linejoin:round; stroke-width:4; stroke-opacity:1; fill:none\" points=\"2232.76,342.877 2256.76,342.877 \"/>\n",
       "<path clip-path=\"url(#clip210)\" d=\"M2281.09 108.212 Q2277.95 108.212 2276.09 110.365 Q2274.27 112.517 2274.27 116.267 Q2274.27 119.994 2276.09 122.17 Q2277.95 124.323 2281.09 124.323 Q2284.24 124.323 2286.07 122.17 Q2287.92 119.994 2287.92 116.267 Q2287.92 112.517 2286.07 110.365 Q2284.24 108.212 2281.09 108.212 M2290.38 93.5592 L2290.38 97.8185 Q2288.62 96.9851 2286.81 96.5453 Q2285.03 96.1055 2283.27 96.1055 Q2278.64 96.1055 2276.19 99.2305 Q2273.76 102.355 2273.41 108.675 Q2274.77 106.661 2276.83 105.596 Q2278.89 104.508 2281.37 104.508 Q2286.58 104.508 2289.59 107.68 Q2292.62 110.828 2292.62 116.267 Q2292.62 121.591 2289.47 124.809 Q2286.33 128.027 2281.09 128.027 Q2275.1 128.027 2271.93 123.443 Q2268.76 118.837 2268.76 110.11 Q2268.76 101.916 2272.64 97.0546 Q2276.53 92.1703 2283.08 92.1703 Q2284.84 92.1703 2286.63 92.5176 Q2288.43 92.8648 2290.38 93.5592 Z\" fill=\"#f8f8f2\" fill-rule=\"nonzero\" fill-opacity=\"1\" /><path clip-path=\"url(#clip210)\" d=\"M2310.68 95.874 Q2307.07 95.874 2305.24 99.4388 Q2303.43 102.98 2303.43 110.11 Q2303.43 117.217 2305.24 120.781 Q2307.07 124.323 2310.68 124.323 Q2314.31 124.323 2316.12 120.781 Q2317.95 117.217 2317.95 110.11 Q2317.95 102.98 2316.12 99.4388 Q2314.31 95.874 2310.68 95.874 M2310.68 92.1703 Q2316.49 92.1703 2319.54 96.7768 Q2322.62 101.36 2322.62 110.11 Q2322.62 118.837 2319.54 123.443 Q2316.49 128.027 2310.68 128.027 Q2304.87 128.027 2301.79 123.443 Q2298.73 118.837 2298.73 110.11 Q2298.73 101.36 2301.79 96.7768 Q2304.87 92.1703 2310.68 92.1703 Z\" fill=\"#f8f8f2\" fill-rule=\"nonzero\" fill-opacity=\"1\" /><path clip-path=\"url(#clip210)\" d=\"M2340.84 95.874 Q2337.23 95.874 2335.4 99.4388 Q2333.59 102.98 2333.59 110.11 Q2333.59 117.217 2335.4 120.781 Q2337.23 124.323 2340.84 124.323 Q2344.47 124.323 2346.28 120.781 Q2348.11 117.217 2348.11 110.11 Q2348.11 102.98 2346.28 99.4388 Q2344.47 95.874 2340.84 95.874 M2340.84 92.1703 Q2346.65 92.1703 2349.7 96.7768 Q2352.78 101.36 2352.78 110.11 Q2352.78 118.837 2349.7 123.443 Q2346.65 128.027 2340.84 128.027 Q2335.03 128.027 2331.95 123.443 Q2328.89 118.837 2328.89 110.11 Q2328.89 101.36 2331.95 96.7768 Q2335.03 92.1703 2340.84 92.1703 Z\" fill=\"#f8f8f2\" fill-rule=\"nonzero\" fill-opacity=\"1\" /><polyline clip-path=\"url(#clip210)\" style=\"stroke:#000000; stroke-linecap:round; stroke-linejoin:round; stroke-width:4; stroke-opacity:1; fill:none\" points=\"2232.76,113.704 2256.76,113.704 \"/>\n",
       "<polyline clip-path=\"url(#clip210)\" style=\"stroke:#000000; stroke-linecap:round; stroke-linejoin:round; stroke-width:4; stroke-opacity:1; fill:none\" points=\"2232.76,1486.45 2232.76,47.2441 \"/>\n",
       "</svg>\n"
      ],
      "text/html": [
       "<?xml version=\"1.0\" encoding=\"utf-8\"?>\n",
       "<svg xmlns=\"http://www.w3.org/2000/svg\" xmlns:xlink=\"http://www.w3.org/1999/xlink\" width=\"600\" height=\"400\" viewBox=\"0 0 2400 1600\">\n",
       "<defs>\n",
       "  <clipPath id=\"clip260\">\n",
       "    <rect x=\"0\" y=\"0\" width=\"2400\" height=\"1600\"/>\n",
       "  </clipPath>\n",
       "</defs>\n",
       "<path clip-path=\"url(#clip260)\" d=\"M0 1600 L2400 1600 L2400 0 L0 0  Z\" fill=\"#282a36\" fill-rule=\"evenodd\" fill-opacity=\"1\"/>\n",
       "<defs>\n",
       "  <clipPath id=\"clip261\">\n",
       "    <rect x=\"480\" y=\"0\" width=\"1681\" height=\"1600\"/>\n",
       "  </clipPath>\n",
       "</defs>\n",
       "<path clip-path=\"url(#clip260)\" d=\"M149.191 1486.45 L2112.76 1486.45 L2112.76 47.2441 L149.191 47.2441  Z\" fill=\"#30343b\" fill-rule=\"evenodd\" fill-opacity=\"1\"/>\n",
       "<defs>\n",
       "  <clipPath id=\"clip262\">\n",
       "    <rect x=\"149\" y=\"47\" width=\"1965\" height=\"1440\"/>\n",
       "  </clipPath>\n",
       "</defs>\n",
       "<polyline clip-path=\"url(#clip262)\" style=\"stroke:#f8f8f2; stroke-linecap:round; stroke-linejoin:round; stroke-width:2; stroke-opacity:0.1; fill:none\" points=\"238.444,1486.45 238.444,47.2441 \"/>\n",
       "<polyline clip-path=\"url(#clip262)\" style=\"stroke:#f8f8f2; stroke-linecap:round; stroke-linejoin:round; stroke-width:2; stroke-opacity:0.1; fill:none\" points=\"684.709,1486.45 684.709,47.2441 \"/>\n",
       "<polyline clip-path=\"url(#clip262)\" style=\"stroke:#f8f8f2; stroke-linecap:round; stroke-linejoin:round; stroke-width:2; stroke-opacity:0.1; fill:none\" points=\"1130.97,1486.45 1130.97,47.2441 \"/>\n",
       "<polyline clip-path=\"url(#clip262)\" style=\"stroke:#f8f8f2; stroke-linecap:round; stroke-linejoin:round; stroke-width:2; stroke-opacity:0.1; fill:none\" points=\"1577.24,1486.45 1577.24,47.2441 \"/>\n",
       "<polyline clip-path=\"url(#clip262)\" style=\"stroke:#f8f8f2; stroke-linecap:round; stroke-linejoin:round; stroke-width:2; stroke-opacity:0.1; fill:none\" points=\"2023.5,1486.45 2023.5,47.2441 \"/>\n",
       "<polyline clip-path=\"url(#clip262)\" style=\"stroke:#f8f8f2; stroke-linecap:round; stroke-linejoin:round; stroke-width:2; stroke-opacity:0.1; fill:none\" points=\"149.191,1486.45 2112.76,1486.45 \"/>\n",
       "<polyline clip-path=\"url(#clip262)\" style=\"stroke:#f8f8f2; stroke-linecap:round; stroke-linejoin:round; stroke-width:2; stroke-opacity:0.1; fill:none\" points=\"149.191,1159.36 2112.76,1159.36 \"/>\n",
       "<polyline clip-path=\"url(#clip262)\" style=\"stroke:#f8f8f2; stroke-linecap:round; stroke-linejoin:round; stroke-width:2; stroke-opacity:0.1; fill:none\" points=\"149.191,832.264 2112.76,832.264 \"/>\n",
       "<polyline clip-path=\"url(#clip262)\" style=\"stroke:#f8f8f2; stroke-linecap:round; stroke-linejoin:round; stroke-width:2; stroke-opacity:0.1; fill:none\" points=\"149.191,505.173 2112.76,505.173 \"/>\n",
       "<polyline clip-path=\"url(#clip262)\" style=\"stroke:#f8f8f2; stroke-linecap:round; stroke-linejoin:round; stroke-width:2; stroke-opacity:0.1; fill:none\" points=\"149.191,178.081 2112.76,178.081 \"/>\n",
       "<polyline clip-path=\"url(#clip260)\" style=\"stroke:#f8f8f2; stroke-linecap:round; stroke-linejoin:round; stroke-width:4; stroke-opacity:1; fill:none\" points=\"149.191,1486.45 2112.76,1486.45 \"/>\n",
       "<polyline clip-path=\"url(#clip260)\" style=\"stroke:#f8f8f2; stroke-linecap:round; stroke-linejoin:round; stroke-width:4; stroke-opacity:1; fill:none\" points=\"238.444,1486.45 238.444,1467.55 \"/>\n",
       "<polyline clip-path=\"url(#clip260)\" style=\"stroke:#f8f8f2; stroke-linecap:round; stroke-linejoin:round; stroke-width:4; stroke-opacity:1; fill:none\" points=\"684.709,1486.45 684.709,1467.55 \"/>\n",
       "<polyline clip-path=\"url(#clip260)\" style=\"stroke:#f8f8f2; stroke-linecap:round; stroke-linejoin:round; stroke-width:4; stroke-opacity:1; fill:none\" points=\"1130.97,1486.45 1130.97,1467.55 \"/>\n",
       "<polyline clip-path=\"url(#clip260)\" style=\"stroke:#f8f8f2; stroke-linecap:round; stroke-linejoin:round; stroke-width:4; stroke-opacity:1; fill:none\" points=\"1577.24,1486.45 1577.24,1467.55 \"/>\n",
       "<polyline clip-path=\"url(#clip260)\" style=\"stroke:#f8f8f2; stroke-linecap:round; stroke-linejoin:round; stroke-width:4; stroke-opacity:1; fill:none\" points=\"2023.5,1486.45 2023.5,1467.55 \"/>\n",
       "<path clip-path=\"url(#clip260)\" d=\"M207.344 1532.02 L237.02 1532.02 L237.02 1535.95 L207.344 1535.95 L207.344 1532.02 Z\" fill=\"#f8f8f2\" fill-rule=\"nonzero\" fill-opacity=\"1\" /><path clip-path=\"url(#clip260)\" d=\"M259.96 1518.36 L248.154 1536.81 L259.96 1536.81 L259.96 1518.36 M258.733 1514.29 L264.613 1514.29 L264.613 1536.81 L269.543 1536.81 L269.543 1540.7 L264.613 1540.7 L264.613 1548.85 L259.96 1548.85 L259.96 1540.7 L244.358 1540.7 L244.358 1536.19 L258.733 1514.29 Z\" fill=\"#f8f8f2\" fill-rule=\"nonzero\" fill-opacity=\"1\" /><path clip-path=\"url(#clip260)\" d=\"M654.651 1532.02 L684.327 1532.02 L684.327 1535.95 L654.651 1535.95 L654.651 1532.02 Z\" fill=\"#f8f8f2\" fill-rule=\"nonzero\" fill-opacity=\"1\" /><path clip-path=\"url(#clip260)\" d=\"M698.447 1544.91 L714.766 1544.91 L714.766 1548.85 L692.822 1548.85 L692.822 1544.91 Q695.484 1542.16 700.067 1537.53 Q704.674 1532.88 705.854 1531.53 Q708.1 1529.01 708.979 1527.27 Q709.882 1525.51 709.882 1523.82 Q709.882 1521.07 707.938 1519.33 Q706.016 1517.6 702.915 1517.6 Q700.715 1517.6 698.262 1518.36 Q695.831 1519.13 693.053 1520.68 L693.053 1515.95 Q695.878 1514.82 698.331 1514.24 Q700.785 1513.66 702.822 1513.66 Q708.192 1513.66 711.387 1516.35 Q714.581 1519.03 714.581 1523.52 Q714.581 1525.65 713.771 1527.57 Q712.984 1529.47 710.877 1532.07 Q710.299 1532.74 707.197 1535.95 Q704.095 1539.15 698.447 1544.91 Z\" fill=\"#f8f8f2\" fill-rule=\"nonzero\" fill-opacity=\"1\" /><path clip-path=\"url(#clip260)\" d=\"M1130.97 1517.37 Q1127.36 1517.37 1125.53 1520.93 Q1123.73 1524.47 1123.73 1531.6 Q1123.73 1538.71 1125.53 1542.27 Q1127.36 1545.82 1130.97 1545.82 Q1134.61 1545.82 1136.41 1542.27 Q1138.24 1538.71 1138.24 1531.6 Q1138.24 1524.47 1136.41 1520.93 Q1134.61 1517.37 1130.97 1517.37 M1130.97 1513.66 Q1136.78 1513.66 1139.84 1518.27 Q1142.92 1522.85 1142.92 1531.6 Q1142.92 1540.33 1139.84 1544.94 Q1136.78 1549.52 1130.97 1549.52 Q1125.16 1549.52 1122.08 1544.94 Q1119.03 1540.33 1119.03 1531.6 Q1119.03 1522.85 1122.08 1518.27 Q1125.16 1513.66 1130.97 1513.66 Z\" fill=\"#f8f8f2\" fill-rule=\"nonzero\" fill-opacity=\"1\" /><path clip-path=\"url(#clip260)\" d=\"M1571.89 1544.91 L1588.21 1544.91 L1588.21 1548.85 L1566.27 1548.85 L1566.27 1544.91 Q1568.93 1542.16 1573.51 1537.53 Q1578.12 1532.88 1579.3 1531.53 Q1581.54 1529.01 1582.42 1527.27 Q1583.33 1525.51 1583.33 1523.82 Q1583.33 1521.07 1581.38 1519.33 Q1579.46 1517.6 1576.36 1517.6 Q1574.16 1517.6 1571.71 1518.36 Q1569.28 1519.13 1566.5 1520.68 L1566.5 1515.95 Q1569.32 1514.82 1571.78 1514.24 Q1574.23 1513.66 1576.27 1513.66 Q1581.64 1513.66 1584.83 1516.35 Q1588.03 1519.03 1588.03 1523.52 Q1588.03 1525.65 1587.21 1527.57 Q1586.43 1529.47 1584.32 1532.07 Q1583.74 1532.74 1580.64 1535.95 Q1577.54 1539.15 1571.89 1544.91 Z\" fill=\"#f8f8f2\" fill-rule=\"nonzero\" fill-opacity=\"1\" /><path clip-path=\"url(#clip260)\" d=\"M2026.51 1518.36 L2014.71 1536.81 L2026.51 1536.81 L2026.51 1518.36 M2025.29 1514.29 L2031.16 1514.29 L2031.16 1536.81 L2036.1 1536.81 L2036.1 1540.7 L2031.16 1540.7 L2031.16 1548.85 L2026.51 1548.85 L2026.51 1540.7 L2010.91 1540.7 L2010.91 1536.19 L2025.29 1514.29 Z\" fill=\"#f8f8f2\" fill-rule=\"nonzero\" fill-opacity=\"1\" /><polyline clip-path=\"url(#clip260)\" style=\"stroke:#f8f8f2; stroke-linecap:round; stroke-linejoin:round; stroke-width:4; stroke-opacity:1; fill:none\" points=\"149.191,1486.45 149.191,47.2441 \"/>\n",
       "<polyline clip-path=\"url(#clip260)\" style=\"stroke:#f8f8f2; stroke-linecap:round; stroke-linejoin:round; stroke-width:4; stroke-opacity:1; fill:none\" points=\"149.191,1486.45 166.03,1486.45 \"/>\n",
       "<polyline clip-path=\"url(#clip260)\" style=\"stroke:#f8f8f2; stroke-linecap:round; stroke-linejoin:round; stroke-width:4; stroke-opacity:1; fill:none\" points=\"149.191,1159.36 166.03,1159.36 \"/>\n",
       "<polyline clip-path=\"url(#clip260)\" style=\"stroke:#f8f8f2; stroke-linecap:round; stroke-linejoin:round; stroke-width:4; stroke-opacity:1; fill:none\" points=\"149.191,832.264 166.03,832.264 \"/>\n",
       "<polyline clip-path=\"url(#clip260)\" style=\"stroke:#f8f8f2; stroke-linecap:round; stroke-linejoin:round; stroke-width:4; stroke-opacity:1; fill:none\" points=\"149.191,505.173 166.03,505.173 \"/>\n",
       "<polyline clip-path=\"url(#clip260)\" style=\"stroke:#f8f8f2; stroke-linecap:round; stroke-linejoin:round; stroke-width:4; stroke-opacity:1; fill:none\" points=\"149.191,178.081 166.03,178.081 \"/>\n",
       "<path clip-path=\"url(#clip260)\" d=\"M50.9921 1486.9 L80.6679 1486.9 L80.6679 1490.83 L50.9921 1490.83 L50.9921 1486.9 Z\" fill=\"#f8f8f2\" fill-rule=\"nonzero\" fill-opacity=\"1\" /><path clip-path=\"url(#clip260)\" d=\"M103.608 1473.24 L91.8021 1491.69 L103.608 1491.69 L103.608 1473.24 M102.381 1469.17 L108.26 1469.17 L108.26 1491.69 L113.191 1491.69 L113.191 1495.58 L108.26 1495.58 L108.26 1503.73 L103.608 1503.73 L103.608 1495.58 L88.0058 1495.58 L88.0058 1491.07 L102.381 1469.17 Z\" fill=\"#f8f8f2\" fill-rule=\"nonzero\" fill-opacity=\"1\" /><path clip-path=\"url(#clip260)\" d=\"M53.0754 1159.81 L82.7512 1159.81 L82.7512 1163.74 L53.0754 1163.74 L53.0754 1159.81 Z\" fill=\"#f8f8f2\" fill-rule=\"nonzero\" fill-opacity=\"1\" /><path clip-path=\"url(#clip260)\" d=\"M96.8715 1172.7 L113.191 1172.7 L113.191 1176.64 L91.2465 1176.64 L91.2465 1172.7 Q93.9086 1169.95 98.4919 1165.32 Q103.098 1160.66 104.279 1159.32 Q106.524 1156.8 107.404 1155.06 Q108.307 1153.3 108.307 1151.61 Q108.307 1148.86 106.362 1147.12 Q104.441 1145.39 101.339 1145.39 Q99.14 1145.39 96.6863 1146.15 Q94.2558 1146.91 91.478 1148.46 L91.478 1143.74 Q94.3021 1142.61 96.7558 1142.03 Q99.2095 1141.45 101.246 1141.45 Q106.617 1141.45 109.811 1144.14 Q113.006 1146.82 113.006 1151.31 Q113.006 1153.44 112.196 1155.36 Q111.408 1157.26 109.302 1159.85 Q108.723 1160.53 105.621 1163.74 Q102.52 1166.94 96.8715 1172.7 Z\" fill=\"#f8f8f2\" fill-rule=\"nonzero\" fill-opacity=\"1\" /><path clip-path=\"url(#clip260)\" d=\"M101.246 818.063 Q97.6354 818.063 95.8067 821.628 Q94.0012 825.169 94.0012 832.299 Q94.0012 839.406 95.8067 842.97 Q97.6354 846.512 101.246 846.512 Q104.881 846.512 106.686 842.97 Q108.515 839.406 108.515 832.299 Q108.515 825.169 106.686 821.628 Q104.881 818.063 101.246 818.063 M101.246 814.359 Q107.057 814.359 110.112 818.966 Q113.191 823.549 113.191 832.299 Q113.191 841.026 110.112 845.632 Q107.057 850.216 101.246 850.216 Q95.4363 850.216 92.3576 845.632 Q89.3021 841.026 89.3021 832.299 Q89.3021 823.549 92.3576 818.966 Q95.4363 814.359 101.246 814.359 Z\" fill=\"#f8f8f2\" fill-rule=\"nonzero\" fill-opacity=\"1\" /><path clip-path=\"url(#clip260)\" d=\"M96.8715 518.517 L113.191 518.517 L113.191 522.453 L91.2465 522.453 L91.2465 518.517 Q93.9086 515.763 98.4919 511.133 Q103.098 506.48 104.279 505.138 Q106.524 502.615 107.404 500.879 Q108.307 499.119 108.307 497.43 Q108.307 494.675 106.362 492.939 Q104.441 491.203 101.339 491.203 Q99.14 491.203 96.6863 491.967 Q94.2558 492.731 91.478 494.281 L91.478 489.559 Q94.3021 488.425 96.7558 487.846 Q99.2095 487.268 101.246 487.268 Q106.617 487.268 109.811 489.953 Q113.006 492.638 113.006 497.129 Q113.006 499.258 112.196 501.18 Q111.408 503.078 109.302 505.67 Q108.723 506.342 105.621 509.559 Q102.52 512.754 96.8715 518.517 Z\" fill=\"#f8f8f2\" fill-rule=\"nonzero\" fill-opacity=\"1\" /><path clip-path=\"url(#clip260)\" d=\"M103.608 164.875 L91.8021 183.324 L103.608 183.324 L103.608 164.875 M102.381 160.801 L108.26 160.801 L108.26 183.324 L113.191 183.324 L113.191 187.213 L108.26 187.213 L108.26 195.361 L103.608 195.361 L103.608 187.213 L88.0058 187.213 L88.0058 182.699 L102.381 160.801 Z\" fill=\"#f8f8f2\" fill-rule=\"nonzero\" fill-opacity=\"1\" /><g clip-path=\"url(#clip262)\">\n",
       "<image width=\"1964\" height=\"1439\" xlink:href=\"data:image/png;base64,\n",
       "iVBORw0KGgoAAAANSUhEUgAAB6wAAAWfCAYAAAAf3Aj/AAAgAElEQVR4nOzba3Ik13lF0XsL6AdF\n",
       "OUKeEzQD0J6jGzMwhqV+A5X+bzIcTlvg7g+91ghOZNzMyqoN7AUAABC52/dHveGsx+Nh1xsAAAAA\n",
       "XotLPQAAAAAAAACAn5NgDQAAAAAAAEBCsAYAAAAAAAAgIVgDAAAAAAAAkBCsAQAAAAAAAEgI1gAA\n",
       "AAAAAAAkBGsAAAAAAAAAEoI1AAAAAAAAAAnBGgAAAAAAAICEYA0AAAAAAABAQrAGAAAAAAAAICFY\n",
       "AwAAAAAAAJAQrAEAAAAAAABICNYAAAAAAAAAJARrAAAAAAAAABKCNQAAAAAAAAAJwRoAAAAAAACA\n",
       "hGANAAAAAAAAQEKwBgAAAAAAACAhWAMAAAAAAACQEKwBAAAAAAAASAjWAAAAAAAAACQEawAAAAAA\n",
       "AAASgjUAAAAAAAAACcEaAAAAAAAAgIRgDQAAAAAAAEBCsAYAAAAAAAAgIVgDAAAAAAAAkBCsAQAA\n",
       "AAAAAEgI1gAAAAAAAAAkBGsAAAAAAAAAEoI1AAAAAAAAAAAAAAAAAAAAAAAAAAAAAAAAAAAAAAAA\n",
       "AAAAAAAAAAAAAAAAAAAAAAAAAAAAAAAAAAAAAAAAAAAAAAAAAAAAAAAAAAAAAAAAAAAAAAAAAAAA\n",
       "AAAAAAAAAAAAAAAAAAAAAAAAAAAAAAAAAAAAAAAAAAAAAAAAAAAAAAAAAAAAAAAAAAAAAAAAAAAA\n",
       "AAAAAAAAAAAAAAAAAAAAAAAAAAAAAAAAAAAAAAAAAAAAAAAAAAAAAAAAAAAAAAAAAAAAAAAAAAAA\n",
       "AAAAAAAAAAAAAAAAAAAAAAAAAAAAAAAAAAAAAAAAAAAAAAAAAAAAAAAAAAAAAAAAAAAAAAAAAAAA\n",
       "/Jl2PQAAAPh53e37o95w1uPx4HsUAAAAwD/JpR4AAAAAAAAAwM9JsAYAAAAAAAAgIVgDAAAAAAAA\n",
       "kBCsAQAAAAAAAEgI1gAAAAAAAAAkBGsAAAAAAAAAEoI1AAAAAAAAAAnBGgAAAAAAAICEYA0AAAAA\n",
       "AABAQrAGAAAAAAAAICFYAwAAAAAAAJAQrAEAAAAAAABICNYAAAAAAAAAJARrAAAAAAAAABKCNQAA\n",
       "AAAAAAAJwRoAAAAAAACAhGANAAAAAAAAQEKwBgAAAAAAACAhWAMAAAAAAACQEKwBAAAAAAAASAjW\n",
       "AAAAAAAAACQEawAAAAAAAAASgjUAAAAAAAAACcEaAAAAAAAAgIRgDQAAAAAAAEBCsAYAAAAAAAAg\n",
       "IVgDAAAAAAAAkBCsAQAAAAAAAEgI1gAAAAAAAAAkBGsAAAAAAAAAEoI1AAAAAAAAAAnBGgAAAAAA\n",
       "AIDEbT0AAHh97vb9UW846/F42PUGAAAAAICfjf+wBgAAAAAAACAhWAMAAAAAAACQEKwBAAAAAAAA\n",
       "SAjWAAAAAAAAACQEawAAAAAAAAASgjUAAAAAAAAACcEaAAAAAAAAgIRgDQAAAAAAAEBCsAYAAAAA\n",
       "AAAgIVgDAAAAAAAAkBCsAQAAAAAAAEgI1gAAAAAAAAAkBGsAAAAAAAAAEoI1AAAAAAAAAAnBGgAA\n",
       "AAAAAICEYA0AAAAAAABAQrAGAAAAAAAAICFYAwAAAAAAAJAQrAEAAAAAAABICNYAAAAAAAAAJARr\n",
       "AAAAAAAAABKCNQAAAAAAAAAJwRoAAAAAAACAhGANAAAAAAAAQEKwBgAAAAAAACAhWAMAAAAAAACQ\n",
       "EKwBAAAAAAAASAjWAAAAAAAAACQEawAAAAAAAAASgjUAAAAAAAAACcEaAAAAAAAAgMSuBwAAwI/q\n",
       "bt8f9YYzHo8H7/e8Cu49aEy799Zy/wH8SKZ9jvgMAfhx+A9rAAAAAAAAABKCNQAAAAAAAAAJwRoA\n",
       "AAAAAACAhGANAAAAAAAAQEKwBgAAAAAAACAhWAMAAAAAAACQEKwBAAAAAAAASAjWAAAAAAAAACQE\n",
       "awAAAAAAAAASgjUAAAAAAAAACcEaAAAAAAAAgIRgDQAAAAAAAEBCsAYAAAAAAAAgIVgDAAAAAAAA\n",
       "kBCsAQAAAAAAAEgI1gAAAAAAAAAkBGsAAAAAAAAAEoI1AAAAAAAAAAnBGgAAAAAAAICEYA0AAAAA\n",
       "AABAQrAGAAAAAAAAICFYAwAAAAAAAJAQrAEAAAAAAABICNYAAAAAAAAAJARrAAAAAAAAABKCNQAA\n",
       "AAAAAAAJwRoAAAAAAACAhGANAAAAAAAAQEKwBgAAAAAAACAhWAMAAAAAAACQEKwBAAAAAAAASAjW\n",
       "AAAAAAAAACR2PQAAgPPu9v1Rbzjr8XgY9+458TpPM/FcTDPyHO9hx+KYd4ndewAA8HsTvz95t+c1\n",
       "8B/WAAAAAAAAACQEawAAAAAAAAASgjUAAAAAAAAACcEaAAAAAAAAgIRgDQAAAAAAAEBCsAYAAAAA\n",
       "AAAgIVgDAAAAAAAAkBCsAQAAAAAAAEgI1gAAAAAAAAAkBGsAAAAAAAAAEoI1AAAAAAAAAAnBGgAA\n",
       "AAAAAICEYA0AAAAAAABAQrAGAAAAAAAAICFYAwAAAAAAAJAQrAEAAAAAAABICNYAAAAAAAAAJARr\n",
       "AAAAAAAAABKCNQAAAAAAAAAJwRoAAAAAAACAhGANAAAAAAAAQEKwBgAAAAAAACAhWAMAAAAAAACQ\n",
       "EKwBAAAAAAAASAjWAAAAAAAAACQEawAAAAAAAAASgjUAAAAAAAAACcEaAAAAAAAAgIRgDQAAAAAA\n",
       "AEBCsAYAAAAAAAAgIVgDAAAAAAAAkBCsAQAAAAAAAEjsegAA8Prc7fuj3nDW4/HgveiFORcvb+I1\n",
       "XnvUJV5rrfV4/TBq9N9v/m3cuTiOWZP3wHM87RqvNe/eG/lMHmjcZ/Xlt3nnYuLzYti5mGjaM86Z\n",
       "AIAfm/+wBgAAAAAAACAhWAMAAAAAAACQEKwBAAAAAAAASAjWAAAAAAAAACQEawAAAAAAAAASgjUA\n",
       "AAAAAAAACcEaAAAAAAAAgIRgDQAAAAAAAEBCsAYAAAAAAAAgIVgDAAAAAAAAkBCsAQAAAAAAAEgI\n",
       "1gAAAAAAAAAkBGsAAAAAAAAAEoI1AAAAAAAAAAnBGgAAAAAAAICEYA0AAAAAAABAQrAGAAAAAAAA\n",
       "ICFYAwAAAAAAAJAQrAEAAAAAAABICNYAAAAAAAAAJARrAAAAAAAAABKCNQAAAAAAAAAJwRoAAAAA\n",
       "AACAhGANAAAAAAAAQEKwBgAAAAAAACAhWAMAAAAAAACQEKwBAAAAAAAASAjWAAAAAAAAACQEawAA\n",
       "AAAAAAASgjUAAAAAAAAACcEaAAAAAAAAgMRtPQDgJd3t+6PecNbj8bDrDfxYnOM/x7TrPPEa8/L2\n",
       "Zd7fo/7n83+MO8t3l99GPS94ecf1Wk/4Kfz99t9H3XvH83M94bw97pG87tasd7iJvHfyR6adi2nf\n",
       "99aad40B4P9j3i9aAAAAAAAAALwKgjUAAAAAAAAACcEaAAAAAAAAgIRgDQAAAAAAAEBCsAYAAAAA\n",
       "AAAgIVgDAAAAAAAAkBCsAQAAAAAAAEgI1gAAAAAAAAAkBGsAAAAAAAAAEoI1AAAAAAAAAAnBGgAA\n",
       "AAAAAICEYA0AAAAAAABAQrAGAAAAAAAAICFYAwAAAAAAAJAQrAEAAAAAAABICNYAAAAAAAAAJARr\n",
       "AAAAAAAAABKCNQAAAAAAAAAJwRoAAAAAAACAhGANAAAAAAAAQEKwBgAAAAAAACAhWAMAAAAAAACQ\n",
       "EKwBAAAAAAAASAjWAAAAAAAAACQEawAAAAAAAAASgjUAAAAAAAAACcEaAAAAAAAAgIRgDQAAAAAA\n",
       "AEBCsAYAAAAAAAAgIVgDAAAAAAAAkBCsAQAAAAAAAEgI1gAAAAAAAAAkdj0AgNnu9v1Rbzjr8Xjw\n",
       "+cfv3F1+G3WWH68fxp3jadd4rbX2Zdbfdx7Xaz3hvGPcsVhrz7r99rC9a621Ljf1gnOuz/UCfkQT\n",
       "772Jz+Rpn9XP854XI987h31P9R0VAPjZzXqrBwAAAAAAAODVEKwBAAAAAAAASAjWAAAAAAAAACQE\n",
       "awAAAAAAAAASgjUAAAAAAAAACcEaAAAAAAAAgIRgDQAAAAAAAEBCsAYAAAAAAAAgIVgDAAAAAAAA\n",
       "kBCsAQAAAAAAAEgI1gAAAAAAAAAkBGsAAAAAAAAAEoI1AAAAAAAAAAnBGgAAAAAAAICEYA0AAAAA\n",
       "AABAQrAGAAAAAAAAICFYAwAAAAAAAJAQrAEAAAAAAABICNYAAAAAAAAAJARrAAAAAAAAABKCNQAA\n",
       "AAAAAAAJwRoAAAAAAACAhGANAAAAAAAAQEKwBgAAAAAAACAhWAMAAAAAAACQEKwBAAAAAAAASAjW\n",
       "AAAAAAAAACQEawAAAAAAAAASgjUAAAAAAAAACcEaAAAAAAAAgIRgDQAAAAAAAEBCsAYAAAAAAAAg\n",
       "sesBAMD/7G7fH/WG07ZXjJe2B17j43qtJ5y2b2/rCefMe1rwZ5j3uFjTRu/LvL8FP455D4x9mXUu\n",
       "jqfnesJ5x7zP6nG8w/FHBj6Tp3k8HsbdfBN/C5h4nQH4Mcz7Vg0AAAAAAADAqyBYAwAAAAAAAJAQ\n",
       "rAEAAAAAAABICNYAAAAAAAAAJARrAAAAAAAAABKCNQAAAAAAAAAJwRoAAAAAAACAhGANAAAAAAAA\n",
       "QEKwBgAAAAAAACAhWAMAAAAAAACQEKwBAAAAAAAASAjWAAAAAAAAACQEawAAAAAAAAASgjUAAAAA\n",
       "AAAACcEaAAAAAAAAgIRgDQAAAAAAAEBCsAYAAAAAAAAgIVgDAAAAAAAAkBCsAQAAAAAAAEgI1gAA\n",
       "AAAAAAAkBGsAAAAAAAAAEoI1AAAAAAAAAAnBGgAAAAAAAICEYA0AAAAAAABAQrAGAAAAAAAAICFY\n",
       "AwAAAAAAAJAQrAEAAAAAAABICNYAAAAAAAAAJARrAAAAAAAAABKCNQAAAAAAAAAJwRoAAAAAAACA\n",
       "hGANAAAAAAAAQOK2HgAAf7a7fX/UG87Yl3l/X3Ycoy7xWmutvXc94Zw971zsm2HXeK21b27qCacc\n",
       "z8/1hPMmnuVpR3nc4LX2+/f1hFOOz5/rCadd3r6pJ5x2PA17xg18h9uXgT8THdd6wSnH86y9a621\n",
       "Br7bT/zsG2faNR54jB+Ph2EXed7vLROvMfyRaffeWu4/fm/etycAAAAAAAAAXgXBGgAAAAAAAICE\n",
       "YA0AAAAAAABAQrAGAAAAAAAAICFYAwAAAAAAAJAQrAEAAAAAAABICNYAAAAAAAAAJARrAAAAAAAA\n",
       "ABKCNQAAAAAAAAAJwRoAAAAAAACAhGANAAAAAAAAQEKwBgAAAAAAACAhWAMAAAAAAACQEKwBAAAA\n",
       "AAAASAjWAAAAAAAAACQEawAAAAAAAAASgjUAAAAAAAAACcEaAAAAAAAAgIRgDQAAAAAAAEBCsAYA\n",
       "AAAAAAAgIVgDAAAAAAAAkBCsAQAAAAAAAEgI1gAAAAAAAAAkBGsAAAAAAAAAEoI1AAAAAAAAAAnB\n",
       "GgAAAAAAAICEYA0AAAAAAABAQrAGAAAAAAAAICFYAwAAAAAAAJAQrAEAAAAAAABICNYAAAAAAAAA\n",
       "JHY9AOAl3e37o97AD2jP+vjbw/aOtYf9Hd9l2N6hLu/f1RPOuV7rBec5yy9uv31bT/g/mPUKd1xn\n",
       "7V1rrT3w3rt+/FRPOGX/8r6ecNrx5Ws94bT99k094ZTj85d6wmnH81M94bRj2DvRxGfytGs80eP1\n",
       "w7gfA8b9Djfw95aJ5wLgf2Pe2xAAAAAAAAAAr4JgDQAAAAAAAEBCsAYAAAAAAAAgIVgDAAAAAAAA\n",
       "kBCsAQAAAAAAAEgI1gAAAAAAAAAkBGsAAAAAAAAAEoI1AAAAAAAAAAnBGgAAAAAAAICEYA0AAAAA\n",
       "AABAQrAGAAAAAAAAICFYAwAAAAAAAJAQrAEAAAAAAABICNYAAAAAAAAAJARrAAAAAAAAABKCNQAA\n",
       "AAAAAAAJwRoAAAAAAACAhGANAAAAAAAAQEKwBgAAAAAAACAhWAMAAAAAAACQEKwBAAAAAAAASAjW\n",
       "AAAAAAAAACQEawAAAAAAAAASgjUAAAAAAAAACcEaAAAAAAAAgIRgDQAAAAAAAEBCsAYAAAAAAAAg\n",
       "IVgDAAAAAAAAkBCsAQAAAAAAAEgI1gAAAAAAAAAkBGsAAAAAAAAAEoI1AAAAAAAAAIldDwDmuLv8\n",
       "dtQbznq8fvCce2ETz8U0ew88xpebesFp+2bY3/FNvPNuB56Lt2/rCaccX7/VE07b79/VE07bb9/U\n",
       "E86Z+DlyM+x5MfEaH/M+SI7PX+oJ51yf6wWn7dthz7e11vH5cz3hlOP5Wk84b+BZPq7DrvPAZ/Ie\n",
       "9ll9/f69nvBT8Dscf+Ru3496yD0eD84xBIb9MgsAAAAAAADAayFYAwAAAAAAAJAQrAEAAAAAAABI\n",
       "CNYAAAAAAAAAJARrAAAAAAAAABKCNQAAAAAAAAAJwRoAAAAAAACAhGANAAAAAAAAQEKwBgAAAAAA\n",
       "ACAhWAMAAAAAAACQEKwBAAAAAAAASAjWAAAAAAAAACQEawAAAAAAAAASgjUAAAAAAAAACcEaAAAA\n",
       "AAAAgIRgDQAAAAAAAEBCsAYAAAAAAAAgIVgDAAAAAAAAkBCsAQAAAAAAAEgI1gAAAAAAAAAkBGsA\n",
       "AAAAAAAAEoI1AAAAAAAAAAnBGgAAAAAAAICEYA0AAAAAAABAQrAGAAAAAAAAICFYAwAAAAAAAJAQ\n",
       "rAEAAAAAAABICNYAAAAAAAAAJARrAAAAAAAAABKCNQAAAAAAAAAJwRoAAAAAAACAhGANAAAAAAAA\n",
       "QGLXAwBe0t2+P+oNZ+3LrL8lOo5xl3jtPevjb+I1vrx7X094/W5mPSvWWuvy/l094bw3b+oF59zc\n",
       "1AvOe36uF5z361/qBaccf5l37+2v3+sJpxwD77396XM94bxp1/n7U73gvIHvncfHT/WEkwZe489f\n",
       "6wnnXWZ955v4PnQ8DXvGTXy+Ddw87To/Hg/DHhYAr9e8XzoBAAAAAAAAeBUEawAAAAAAAAASgjUA\n",
       "AAAAAAAACcEaAAAAAAAAgIRgDQAAAAAAAEBCsAYAAAAAAAAgIVgDAAAAAAAAkBCsAQAAAAAAAEgI\n",
       "1gAAAAAAAAAkBGsAAAAAAAAAEoI1AAAAAAAAAAnBGgAAAAAAAICEYA0AAAAAAABAQrAGAAAAAAAA\n",
       "ICFYAwAAAAAAAJAQrAEAAAAAAABICNYAAAAAAAAAJARrAAAAAAAAABKCNQAAAAAAAAAJwRoAAAAA\n",
       "AACAhGANAAAAAAAAQEKwBgAAAAAAACAhWAMAAAAAAACQEKwBAAAAAAAASAjWAAAAAAAAACQEawAA\n",
       "AAAAAAASgjUAAAAAAAAACcEaAAAAAAAAgIRgDQAAAAAAAEBCsAYAAAAAAAAgIVgDAAAAAAAAkNj1\n",
       "APiZ3e37o95wyh74yDhmXeK11toXf0v04m5u6wWnTDwT++2besJ5t7POxTqu9YLT9l//Wk8475d3\n",
       "9YJzBn7ujbv31lrXd8OecQNf4dbNrM++738b9qxYa12+zfscuXz+Xk845fL1qZ5w2v7yrZ5w3j8+\n",
       "1QtevePL13rCed+GneWB3/mOadd4oOvXgffetN8OJ35/mnaN11qP1w/zRsN/M67lrLUej4dR9968\n",
       "tyEAAAAAAAAAXgXBGgAAAAAAAICEYA0AAAAAAABAQrAGAAAAAAAAICFYAwAAAAAAAJAQrAEAAAAA\n",
       "AABICNYAAAAAAAAAJARrAAAAAAAAABKCNQAAAAAAAAAJwRoAAAAAAACAhGANAAAAAAAAQEKwBgAA\n",
       "AAAAACAhWAMAAAAAAACQEKwBAAAAAAAASAjWAAAAAAAAACQEawAAAAAAAAASgjUAAAAAAAAACcEa\n",
       "AAAAAAAAgIRgDQAAAAAAAEBCsAYAAAAAAAAgIVgDAAAAAAAAkBCsAQAAAAAAAEgI1gAAAAAAAAAk\n",
       "BGsAAAAAAAAAEoI1AAAAAAAAAAnBGgAAAAAAAICEYA0AAAAAAABAQrAGAAAAAAAAICFYAwAAAAAA\n",
       "AJAQrAEAAAAAAABICNYAAAAAAAAAJARrAAAAAAAAABK7HgD/LHf7/qg3nPV4PIy6Byde433xdzkv\n",
       "bo86xmuttfbNbT3hlP3ubT3hvJt5995+/76ecM6//FovOG/g8+J4M+t58fS3X+oJpx03887F06+z\n",
       "zsXtx6d6wmnf/nXWZ99+GveavI6besF5l++zrvPNl2s94bSbL/OeFzefvtUTTtlfv9cTzvv4pV5w\n",
       "2vGPj/WEc56f6wXnXWa9wx2fB57jgedi4uZxjlnvQ2vN+w0caMz7NRkAAAAAAACAV0GwBgAAAAAA\n",
       "ACAhWAMAAAAAAACQEKwBAAAAAAAASAjWAAAAAAAAACQEawAAAAAAAAASgjUAAAAAAAAACcEaAAAA\n",
       "AAAAgIRgDQAAAAAAAEBCsAYAAAAAAAAgIVgDAAAAAAAAkBCsAQAAAAAAAEgI1gAAAAAAAAAkBGsA\n",
       "AAAAAAD4L/btZUeO+zzj8Fd9mBkOTyY0kh3bUGwjCRJnESDXML4DKrlGW7wDzTLZBMjOCWDAcmIl\n",
       "PkQwaYkm59hdlYVXTrz5C6Zefc3nuYIXhap/V/dvBogQrAEAAAAAAACIEKwBAAAAAAAAiBCsAQAA\n",
       "AAAAAIgQrAEAAAAAAACIEKwBAAAAAAAAiBCsAQAAAAAAAIgQrAEAAAAAAACIEKwBAAAAAAAAiBCs\n",
       "AQAAAAAAAIgQrAEAAAAAAACIEKwBAAAAAAAAiBCsAQAAAAAAAIgQrAEAAAAAAACIEKwBAAAAAAAA\n",
       "iBCsAQAAAAAAAIgQrAEAAAAAAACIEKwBAAAAAAAAiBCsAQAAAAAAAIjYpAcAjUxTesG4qeHf5bS7\n",
       "zO0GV219/L1p03qdnjBu0+y+aHgmLw2fvfnBcXrCkGXb73Pv7n6/++L2Ua/rfPlex2vc64xb3aUX\n",
       "jNu+XtIThs3b9IIxx5/N6QnDtpe9zreqqmnf615e3zQ8MI6bPXxVNa0epCeMeX2ZXjBsublNTxgy\n",
       "HR2lJwxbrq7SE4ZNq2a/BSz9Pqs7/hZQ+/SAw3c+Pe31QlRVF8uzVjeza/zm9fsmAgAAAAAAAMBB\n",
       "EKwBAAAAAAAAiBCsAQAAAAAAAIgQrAEAAAAAAACIEKwBAAAAAAAAiBCsAQAAAAAAAIgQrAEAAAAA\n",
       "AACIEKwBAAAAAAAAiBCsAQAAAAAAAIgQrAEAAAAAAACIEKwBAAAAAAAAiBCsAQAAAAAAAIgQrAEA\n",
       "AAAAAACIEKwBAAAAAAAAiBCsAQAAAAAAAIgQrAEAAAAAAACIEKwBAAAAAAAAiBCsAQAAAAAAAIgQ\n",
       "rAEAAAAAAACIEKwBAAAAAAAAiBCsAQAAAAAAAIgQrAEAAAAAAACIEKwBAAAAAAAAiBCsAQAAAAAA\n",
       "AIgQrAEAAAAAAACIEKwBAAAAAAAAiBCsAQAAAAAAAIgQrAEAAAAAAACIEKwBAAAAAAAAiBCsAQAA\n",
       "AAAAAIgQrAEAAAAAAACImNID4G12Pj1d0hsO3bRq+Hc5U6/N07rX3qqqabtNTxjTbW9VTY8fpieM\n",
       "W3odyfOTR+kJw/aPjtMThl1+o9fm/XG/1/ubh/023zV7/HYn6QWHb1mnF4xb36QXjFvfpheMmXbp\n",
       "BeOOP+v1PlRVde/FnJ4w5N4vL9MThk37Xte4qmq6vktPGDJ9/io9Ydyu1yE3v3qdnjBu7ncmL83u\n",
       "i2XX66zgy3Exf9jvSyocgH6VAQAAAAAAAICDIFgDAAAAAAAAECFYAwAAAAAAABAhWAMAAAAAAAAQ\n",
       "IVgDAAAAAAAAECFYAwAAAAAAABAhWAMAAAAAAAAQIVgDAAAAAAAAECFYAwAAAAAAABAhWAMAAAAA\n",
       "AAAQIVgDAAAAAAAAECFYAwAAAAAAABAhWAMAAAAAAAAQIVgDAAAAAAAAECFYAwAAAAAAABAhWAMA\n",
       "AAAAAAAQIVgDAAAAAAAAECFYAwAAAAAAABAhWAMAAAAAAAAQIVgDAAAAAAAAECFYAwAAAAAAABAh\n",
       "WAMAAAAAAAAQIVgDAAAAAAAAECFYAwAAAAAAABAhWAMAAAAAAAAQIVgDAAAAAAAAECFYAwAAAAAA\n",
       "ABAhWAMAAAAAAAAQIVgDAAAAAAAAECFYAwAAAAAAABAhWAMAAAAAAAAQIVgDAAAAAAAAELFJD4C3\n",
       "2jSlFxy+VcO/y5mabV6t0wvGdbsvuu2tanm+zV97mJ4wZPfkJD1h2NXZUXrCsN29Xvfy7YNee6uq\n",
       "rs/SC8bdvDunJwxZnV2nJwzb//Y4PYGvoPVlr3eizWW/M3m167d5fdvrvpjfP01PGHby/C49YVi3\n",
       "Hzyny26Lq9331Gnd731o2fd79mrepxcMmdYNn71m17iq6qP9j/q9YDRzPj1d0htGXSzP3Bf8gV5v\n",
       "FgAAAAAAAAAcDMEaAAAAAAAAgAjBGgAAAAAAAIAIwRoAAAAAAACACMEaAAAAAAAAgAjBGgAAAAAA\n",
       "AIAIwRoAAAAAAACACMEaAAAAAAAAgAjBGgAAAAAAAIAIwRoAAAAAAACACMEaAAAAAAAAgAjBGgAA\n",
       "AAAAAIAIwRoAAAAAAACACMEaAAAAAAAAgAjBGgAAAAAAAIAIwRoAAAAAAACACMEaAAAAAAAAgAjB\n",
       "GgAAAAAAAIAIwRoAAAAAAACACMEaAAAAAAAAgAjBGgAAAAAAAIAIwRoAAAAAAACACMEaAAAAAAAA\n",
       "gAjBGgAAAAAAAIAIwRoAAAAAAACACMEaAAAAAAAAgAjBGgAAAAAAAIAIwRoAAAAAAACACMEaAAAA\n",
       "AAAAgAjBGgAAAAAAAIAIwRoAAAAAAACACMEaAAAAAAAAgIhNegD8qZyvPljSG/gK6nhXTOkBg1bd\n",
       "BldNx0fpCWO22/SCcdt+rxjLttff8c3N9lZV7U77nRdXZ702X3293wff3PCIW+7t0xOGbLe99lZV\n",
       "vfOdF+kJQ752cpWeMOynv3wvPWHY0ddv0xOGXP/yQXrCuLnf+8W86fVZ/eiT9IJxdw/6vdtPuzk9\n",
       "Ycjq83V6wrhds/eLpd978tTxe/Vul54wZkO3ND8AACAASURBVG52H1fV0vBe9rv9m3cxf9jrhQj+\n",
       "iH7fRAAAAAAAAAA4CII1AAAAAAAAABGCNQAAAAAAAAARgjUAAAAAAAAAEYI1AAAAAAAAABGCNQAA\n",
       "AAAAAAARgjUAAAAAAAAAEYI1AAAAAAAAABGCNQAAAAAAAAARgjUAAAAAAAAAEYI1AAAAAAAAABGC\n",
       "NQAAAAAAAAARgjUAAAAAAAAAEYI1AAAAAAAAABGCNQAAAAAAAAARgjUAAAAAAAAAEYI1AAAAAAAA\n",
       "ABGCNQAAAAAAAAARgjUAAAAAAAAAEYI1AAAAAAAAABGCNQAAAAAAAAARgjUAAAAAAAAAEYI1AAAA\n",
       "AAAAABGCNQAAAAAAAAARgjUAAAAAAAAAEYI1AAAAAAAAABGCNQAAAAAAAAARgjUAAAAAAAAAEYI1\n",
       "AAAAAAAAABGCNQAAAAAAAAARgjUAAAAAAAAAEYI1AAAAAAAAABGb8+npkh7xNrhYnk3pDXwFLb0e\n",
       "v2nV8G9cpn6P3tRwczubTXrB4Wt4H+/vH6UnDLl9tE5PGDenB4y7u59eMGb3qOFFPt2lFwz7++99\n",
       "kp4w5M/vv0hPGLaZet3Ld3O/M/mvHn2anjDsn3/13fSEIbfv3KQnDLu7O0lPGLY/bvbeOfU7Lx7/\n",
       "bJ+eMGxZ9bov5sen6QnDVi963RfTk8fpCcPm579NTxg2rZudcR1/69z3evaqqpZ9r+98Ws6Xo1ub\n",
       "dF+8eQ1PZAAAAAAAAAAOgWANAAAAAAAAQIRgDQAAAAAAAECEYA0AAAAAAABAhGANAAAAAAAAQIRg\n",
       "DQAAAAAAAECEYA0AAAAAAABAhGANAAAAAAAAQIRgDQAAAAAAAECEYA0AAAAAAABAhGANAAAAAAAA\n",
       "QIRgDQAAAAAAAECEYA0AAAAAAABAhGANAAAAAAAAQIRgDQAAAAAAAECEYA0AAAAAAABAhGANAAAA\n",
       "AAAAQIRgDQAAAAAAAECEYA0AAAAAAABAhGANAAAAAAAAQIRgDQAAAAAAAECEYA0AAAAAAABAhGAN\n",
       "AAAAAAAAQIRgDQAAAAAAAECEYA0AAAAAAABAhGANAAAAAAAAQIRgDQAAAAAAAECEYA0AAAAAAABA\n",
       "hGANAAAAAAAAQIRgDQAAAAAAAECEYA0AAAAAAABAxOZieTalR7wNzqenS3rDCPfFl2Rqdpknf+Py\n",
       "pdis0wuGTNttesLhO72XXjBsPj1OTxi2bHqdyfvjfmfy5Td6XeOqquuvz+kJQ47PLtMThv3Fe79J\n",
       "Txh2dvw6PWHId076XePvHX2anjBkPfU6K6qqruaj9IRhS/X6HPmfJw/TE4b96/799IRh++fN7uWl\n",
       "3zvc3f1+m1e7Xt9T1zf79IRx+2affbtdesGwad3r96GqqlY/gFfVcnOTnjBuafbsVdW0avY50vBI\n",
       "7tafqjSoL0O3+6LZSQEAAAAAAADAoRCsAQAAAAAAAIgQrAEAAAAAAACIEKwBAAAAAAAAiBCsAQAA\n",
       "AAAAAIgQrAEAAAAAAACIEKwBAAAAAAAAiBCsAQAAAAAAAIgQrAEAAAAAAACIEKwBAAAAAAAAiBCs\n",
       "AQAAAAAAAIgQrAEAAAAAAACIEKwBAAAAAAAAiBCsAQAAAAAAAIgQrAEAAAAAAACIEKwBAAAAAAAA\n",
       "iBCsAQAAAAAAAIgQrAEAAAAAAACIEKwBAAAAAAAAiBCsAQAAAAAAAIgQrAEAAAAAAACIEKwBAAAA\n",
       "AAAAiBCsAQAAAAAAAIgQrAEAAAAAAACIEKwBAAAAAAAAiBCsAQAAAAAAAIgQrAEAAAAAAACIEKwB\n",
       "AAAAAAAAiBCsAQAAAAAAAIgQrAEAAAAAAACIEKwBAAAAAAAAiBCsAQAAAAAAAIjYpAfw1XQ+PV3S\n",
       "G94G0zSlJ4xZ5vSCcVPDv8vZN7vO2/SAL6Dbs7dqtreq5pN+rxh3D3ptnnvNraqq3b30gnGr217P\n",
       "33uPX6UnDPvbR79KTxj2/vHz9IQhf3fySXrCsO8fXacnDHm0OklPGPZ6/jw9Ydgnt5+mJwz5r8sn\n",
       "6Qnjen3sVVXV8mCfnjDk7mG/76jLb9ILxm1e97ovlk2/+6JOm332vb5KLxjX8LeA2vX6SXla9Xv2\n",
       "lo4f1nOvM7ljG7lYnjW8MeAP9TuRAQAAAAAAADgIgjUAAAAAAAAAEYI1AAAAAAAAABGCNQAAAAAA\n",
       "AAARgjUAAAAAAAAAEYI1AAAAAAAAABGCNQAAAAAAAAARgjUAAAAAAAAAEYI1AAAAAAAAABGCNQAA\n",
       "AAAAAAARgjUAAAAAAAAAEYI1AAAAAAAAABGCNQAAAAAAAAARgjUAAAAAAAAAEYI1AAAAAAAAABGC\n",
       "NQAAAAAAAAARgjUAAAAAAAAAEYI1AAAAAAAAABGCNQAAAAAAAAARgjUAAAAAAAAAEYI1AAAAAAAA\n",
       "ABGCNQAAAAAAAAARgjUAAAAAAAAAEYI1AAAAAAAAABGCNQAAAAAAAAARgjUAAAAAAAAAEYI1AAAA\n",
       "AAAAABGCNQAAAAAAAAARgjUAAAAAAAAAEYI1AAAAAAAAABGCNQAAAAAAAAARgjUAAAAAAAAAEZv0\n",
       "gLfFxfJsSm84dOf1dElvGDb1ui2WpeElnuf0hGHT6VF6wphet/Hvnd5LLxiybPt9XC/bdXrCsNVd\n",
       "r/Pi6p1+13g+Ti8YN9/rdV88OblKTxj2s9dn6QnDvra5TE8Y8mfN9lZV/feu1xm3mq7TE4Z9f9vr\n",
       "faiq6m9OfpGeMOT43bv0hGE//U2/M/ly1+sFY2n4/Wn7utf7UFXV7rTX58jmst95sRxv0xOGTC9f\n",
       "pSeM2/d79pbbZvdys99mq6pq3qcXDPto/6OGF5o37Xzq1XM6Nr5um/2HNQAAAAAAAAARgjUAAAAA\n",
       "AAAAEYI1AAAAAAAAABGCNQAAAAAAAAARgjUAAAAAAAAAEYI1AAAAAAAAABGCNQAAAAAAAAARgjUA\n",
       "AAAAAAAAEYI1AAAAAAAAABGCNQAAAAAAAAARgjUAAAAAAAAAEYI1AAAAAAAAABGCNQAAAAAAAAAR\n",
       "gjUAAAAAAAAAEYI1AAAAAAAAABGCNQAAAAAAAAARgjUAAAAAAAAAEYI1AAAAAAAAABGCNQAAAAAA\n",
       "AAARgjUAAAAAAAAAEYI1AAAAAAAAABGCNQAAAAAAAAARgjUAAAAAAAAAEYI1AAAAAAAAABGCNQAA\n",
       "AAAAAAARgjUAAAAAAAAAEYI1AAAAAAAAABGCNQAAAAAAAAARgjUAAAAAAAAAEYI1AAAAAAAAABGC\n",
       "NQAAAAAAAAARm/QA+JOZpvSCgzd1vMbrfsfccn2dnjBkOj1NTxh3eZVeMGRa9Xv21q9u0xOG3T7e\n",
       "picM2b5KLxh3+c0lPWHYsu61+ePn76QnDDt//yfpCcPOH/x7esKQ720epCcM+/W+1yH3fO73t+A/\n",
       "271OTxj2n7ffSk8Y8vHVe+kJw06O7tIThu1Oez1/y+Y4PWHY9ZN1esKwB7/ody93M133+87XzXTU\n",
       "6ztqVdV02+vZW/b79IRhy9LrO2pV1Q82/9hq9Ee7H/b7Ia6hi+WZ68wf6PVWDwAAAAAAAMDBEKwB\n",
       "AAAAAAAAiBCsAQAAAAAAAIgQrAEAAAAAAACIEKwBAAAAAAAAiBCsAQAAAAAAAIgQrAEAAAAAAACI\n",
       "EKwBAAAAAAAAiBCsAQAAAAAAAIgQrAEAAAAAAACIEKwBAAAAAAAAiBCsAQAAAAAAAIgQrAEAAAAA\n",
       "AACIEKwBAAAAAAAAiBCsAQAAAAAAAIgQrAEAAAAAAACIEKwBAAAAAAAAiBCsAQAAAAAAAIgQrAEA\n",
       "AAAAAACIEKwBAAAAAAAAiBCsAQAAAAAAAIgQrAEAAAAAAACIEKwBAAAAAAAAiBCsAQAAAAAAAIgQ\n",
       "rAEAAAAAAACIEKwBAAAAAAAAiBCsAQAAAAAAAIgQrAEAAAAAAACIEKwBAAAAAAAAiBCsAQAAAAAA\n",
       "AIgQrAEAAAAAAACIEKwBAAAAAAAAiNikB7wtzqenS3rDiIvl2ZTewFfPMs/pCcOm2qUnjNtu0wsO\n",
       "36rZ32utm+2tqqXh5qnZEdfxg/rep/1Wv3qUXjBmtWp2I1fVf7w+S08Y9uP730pPGPLX20/SE4bd\n",
       "Lq2+PtVu6fe5t6te17iq6rtHn6YnDPmXl99NTxg2Nbwvbn97kp4w5P6r9IJxq32/+2I+7nUuTzcN\n",
       "f7vo9htRt71Vtez7ba5mnyPTqt931GWfXjDuo90PW13o89UHvW7kqrqYP2x1jas0M/6/Xm9vAAAA\n",
       "AAAAABwMwRoAAAAAAACACMEaAAAAAAAAgAjBGgAAAAAAAIAIwRoAAAAAAACACMEaAAAAAAAAgAjB\n",
       "GgAAAAAAAIAIwRoAAAAAAACACMEaAAAAAAAAgAjBGgAAAAAAAIAIwRoAAAAAAACACMEaAAAAAAAA\n",
       "gAjBGgAAAAAAAIAIwRoAAAAAAACACMEaAAAAAAAAgAjBGgAAAAAAAIAIwRoAAAAAAACACMEaAAAA\n",
       "AAAAgAjBGgAAAAAAAIAIwRoAAAAAAACACMEaAAAAAAAAgAjBGgAAAAAAAIAIwRoAAAAAAACACMEa\n",
       "AAAAAAAAgAjBGgAAAAAAAIAIwRoAAAAAAACACMEaAAAAAAAAgAjBGgAAAAAAAIAIwRoAAAAAAACA\n",
       "CMEaAAAAAAAAgAjBGgAAAAAAAIAIwRoAAAAAAACAiE16AF9N59PTJb3hbbAszS7zNKUXDJs22/SE\n",
       "catef0u0XN+kJwybjprdF/s5vWDcqt95sbrtdZ2PXvbaW1W1O+l1vlVV1a7XvXx1dZyeMOz20To9\n",
       "Ydg/ff6X6QlDnu8fpCcM+/b2RXrCkB9ffTs9Ydjp6jY9Ydivbh6nJwz56cuz9IRhL148TE8YNl33\n",
       "er/YXKUXjFv3Oy5qc7VPTxgydft9qKqqer0n167XPVFVVXO/73zdLB1/b2l4XrRrDQ2vcUcXy7NW\n",
       "HyTt7uPqd417vdUDAAAAAAAAcDAEawAAAAAAAAAiBGsAAAAAAAAAIgRrAAAAAAAAACIEawAAAAAA\n",
       "AAAiBGsAAAAAAAAAIgRrAAAAAAAAACIEawAAAAAAAAAiBGsAAAAAAAAAIgRrAAAAAAAAACIEawAA\n",
       "AAAAAAAiBGsAAAAAAAAAIgRrAAAAAAAAACIEawAAAAAAAAAiBGsAAAAAAAAAIgRrAAAAAAAAACIE\n",
       "awAAAAAAAAAiBGsAAAAAAAAAIgRrAAAAAAAAACIEawAAAAAAAAAiBGsAAAAAAAAAIgRrAAAAAAAA\n",
       "ACIEawAAAAAAAAAiBGsAAAAAAAAAIgRrAAAAAAAAACIEawAAAAAAAAAiBGsAAAAAAAAAIgRrAAAA\n",
       "AAAAACIEawAAAAAAAAAiBGsAAAAAAAAAIgRrAAAAAAAAACIEawAAAAAAAAAiNukBb4uL5dmU3nDo\n",
       "zqcPlvSGg7f0u8TLfp+eMGxaNftbonWzvVVV+zm94OCtXl2nJwybHmzTE4Ys636vFlPDR+/k1+v0\n",
       "hCE3+5P0hGEfT2fpCcO23+j1fnF29DA9YdjN3Our6qr6vSf//Oqd9IRhP/n83fSEIZ/8vNfeqqrN\n",
       "i17PXlXV5lWvd6Kp10dIVVUdvew3enXdbPPc73Ok5mYv972Oit/rdo2rqt2Fnprtrapp3e+zetnv\n",
       "0hOGaDn8Me6LN69hZQAAAAAAAADgEAjWAAAAAAAAAEQI1gAAAAAAAABECNYAAAAAAAAARAjWAAAA\n",
       "AAAAAEQI1gAAAAAAAABECNYAAAAAAAAARAjWAAAAAAAAAEQI1gAAAAAAAABECNYAAAAAAAAARAjW\n",
       "AAAAAAAAAEQI1gAAAAAAAABECNYAAAAAAAAARAjWAAAAAAAAAEQI1gAAAAAAAABECNYAAAAAAAAA\n",
       "RAjWAAAAAAAAAEQI1gAAAAAAAABECNYAAAAAAAAARAjWAAAAAAAAAEQI1gAAAAAAAABECNYAAAAA\n",
       "AAAARAjWAAAAAAAAAEQI1gAAAAAAAABECNYAAAAAAAAARAjWAAAAAAAAAEQI1gAAAAAAAABECNYA\n",
       "AAAAAAAARAjWAAAAAAAAAEQI1gAAAAAAAABECNYAAAAAAAAARGzSA76I8+npkt5w6C6WZ1N6w6iL\n",
       "+cN2m89XH7S6l6dVv79xmdb9Nte8Ty8Ys2r36NWy26UnDJnueu2tqqqjbXrBsNXdnJ4w5Ohls7Oi\n",
       "qmrpdybvj3ptvnk3vWDc7cvj9IRhP779ZnrCkI/vn6UnDHty/zI9YcjS6q3+9z67vJeeMOz68ig9\n",
       "Ycj0ep2eMKzhR3VtrtILxmxfNTwwGk5e7Xq929e+2d6qqtu79IIxq35ncm36bV6umh3K1fA3rW6/\n",
       "G1bP1tBNx2bmvuD/avhVBAAAAAAAAIBDIFgDAAAAAAAAECFYAwAAAAAAABAhWAMAAAAAAAAQIVgD\n",
       "AAAAAAAAECFYAwAAAAAAABAhWAMAAAAAAAAQIVgDAAAAAAAAECFYAwAAAAAAABAhWAMAAAAAAAAQ\n",
       "IVgDAAAAAAAAECFYAwAAAAAAABAhWAMAAAAAAAAQIVgDAAAAAAAAECFYAwAAAAAAABAhWAMAAAAA\n",
       "AAAQIVgDAAAAAAAAECFYAwAAAAAAABAhWAMAAAAAAAAQIVgDAAAAAAAAECFYAwAAAAAAABAhWAMA\n",
       "AAAAAAAQIVgDAAAAAAAAECFYAwAAAAAAABAhWAMAAAAAAAAQIVgDAAAAAAAAECFYAwAAAAAAABAh\n",
       "WAMAAAAAAAAQIVgDAAAAAAAAECFYAwAAAAAAABAhWAMAAAAAAAAQIVgDAAAAAAAAELFJD/giLpZn\n",
       "U3oD/EksS3rBkI/mD9s9ez+of+h1katq2mzTE8bM7S5xTZt1esKY371OLxg2NTvfqqo2zU64/cnD\n",
       "9IRhR+kBX8DupNeNsfm3fn+Peveg3+brs15fo26nk/SEYb94eD894fAdz+kFw6bLXu9wx8/7nW9H\n",
       "L9MLxm1/l14w5vjzfs/e8We36QnDVjf79IQh0+V1esK4Zt/55t+9Sk8Y1+waV1VNm17vycuu11lR\n",
       "VTVNvb6jdnS++qDdw3fR8Hf78+lpq+usS755/b49AQAAAAAAAHAQBGsAAAAAAAAAIgRrAAAAAAAA\n",
       "ACIEawAAAAAAAAAiBGsAAAAAAAAAIgRrAAAAAAAAACIEawAAAAAAAAAiBGsAAAAAAAAAIgRrAAAA\n",
       "AAAAACIEawAAAAAAAAAiBGsAAAAAAAAAIgRrAAAAAAAAACIEawAAAAAAAAAiBGsAAAAAAAAAIgRr\n",
       "AAAAAAAAACIEawAAAAAAAAAiBGsAAAAAAAAAIgRrAAAAAAAAACIEawAAAAAAAAAiBGsAAAAAAAAA\n",
       "IgRrAAAAAAAAACIEawAAAAAAAAAiBGsAAAAAAAAAIgRrAAAAAAAAACIEawAAAAAAAAAiBGsAAAAA\n",
       "AAAAIgRrAAAAAAAAACIEawAAAAAAAAAiBGsAAAAAAAAAIgRrAAAAAAAAACIEawAAAAAAAAAiBGsA\n",
       "AAAAAAAAIqb0gP9t325z27jOMAy/h6Ss2Enapi3QDTE7kNM1FtYOwhX1A20+bFkSNac/+qtJEfQA\n",
       "kR+/9HWt4MHgcGbIW+LjdBw3M71h1WneOs/P7Lh73e5cdDT2+/SENaPf3z6NQ69rvHv1Kj1h3RcN\n",
       "N49ej5HtD79JT1j29OoqPWHZ45e9Nr//qtf9rarq/LLXZ6+q6u6P6QVrnjreks/pBWuufkgvWLf1\n",
       "ur1VVdXV2/SCNbPfa3K9+uuWnrDsxXdP6QlLxtbva/X13+/SE5btfmi2+f1DesGy+d336QlL5lOv\n",
       "e0VVVT0+phcsm93ucVu/czFns2tcVdVxM89Oz+GnGn59AgAAAAAAAOASCNYAAAAAAAAARAjWAAAA\n",
       "AAAAAEQI1gAAAAAAAABECNYAAAAAAAAARAjWAAAAAAAAAEQI1gAAAAAAAABECNYAAAAAAAAARAjW\n",
       "AAAAAAAAAEQI1gAAAAAAAABECNYAAAAAAAAARAjWAAAAAAAAAEQI1gAAAAAAAABECNYAAAAAAAAA\n",
       "RAjWAAAAAAAAAEQI1gAAAAAAAABECNYAAAAAAAAARAjWAAAAAAAAAEQI1gAAAAAAAABECNYAAAAA\n",
       "AAAARAjWAAAAAAAAAEQI1gAAAAAAAABECNYAAAAAAAAARAjWAAAAAAAAAEQI1gAAAAAAAABECNYA\n",
       "AAAAAAAARAjWAAAAAAAAAEQI1gAAAAAAAABECNYAAAAAAAAARAjWAAAAAAAAAEQI1gAAAAAAAABE\n",
       "jPQA+JQdx81Mb7h4o99tbjTc3M24/iw9Ycm4OqQnLBsve13jqqq6vk4vWHN9lV6wbH72Ij1h2dMX\n",
       "vc7F/e977a2qGlu/16F3f+p1X94O/d4tdo+9zsX+Mb1g3ePLfudi/9DrXLz4YUtPWLY797rGVVXX\n",
       "/7hPT1iye39OT1i2+/5tesK681N6wZq379ILlm1379MT1jR855yPD+kJ62az69xtb1XNrd/7Rbff\n",
       "Z0/bm16D4UL4D2sAAAAAAAAAIgRrAAAAAAAAACIEawAAAAAAAAAiBGsAAAAAAAAAIgRrAAAAAAAA\n",
       "ACIEawAAAAAAAAAiBGsAAAAAAAAAIgRrAAAAAAAAACIEawAAAAAAAAAiBGsAAAAAAAAAIgRrAAAA\n",
       "AAAAACIEawAAAAAAAAAiBGsAAAAAAAAAIgRrAAAAAAAAACIEawAAAAAAAAAiBGsAAAAAAAAAIgRr\n",
       "AAAAAAAAACIEawAAAAAAAAAiBGsAAAAAAAAAIgRrAAAAAAAAACIEawAAAAAAAAAiBGsAAAAAAAAA\n",
       "IgRrAAAAAAAAACIEawAAAAAAAAAiBGsAAAAAAAAAIgRrAAAAAAAAACIEawAAAAAAAAAiBGsAAAAA\n",
       "AAAAIgRrAAAAAAAAACIEawAAAAAAAAAiBGsAAAAAAAAAIgRrAAAAAAAAACJGegDQx3HczPSGVWPX\n",
       "8O9y2m32KHluuy8/T09YNu/u0xOW7b78Ij1hzWfX6QXL5m+bXeOqmlf79IQl89DtGdLTw1e9Pn/n\n",
       "z3ud46qqsaUXrNnfNxtcVeeX/e4X3a7z4cdzesKy/V2/zbu3vd47x/1jesK6c79zUfcP6QVLtn9+\n",
       "l56wbDT7PjLf97pXVFXNjp+92etZPWe7nzqrGm7u9vvs3Hqd46qq07z1Ay3t9bpTAAAAAAAAAHAx\n",
       "BGsAAAAAAAAAIgRrAAAAAAAAACIEawAAAAAAAAAiBGsAAAAAAAAAIgRrAAAAAAAAACIEawAAAAAA\n",
       "AAAiBGsAAAAAAAAAIgRrAAAAAAAAACIEawAAAAAAAAAiBGsAAAAAAAAAIgRrAAAAAAAAACIEawAA\n",
       "AAAAAAAiBGsAAAAAAAAAIgRrAAAAAAAAACIEawAAAAAAAAAiBGsAAAAAAAAAIgRrAAAAAAAAACIE\n",
       "awAAAAAAAAAiBGsAAAAAAAAAIgRrAAAAAAAAACIEawAAAAAAAAAiBGsAAAAAAAAAIgRrAAAAAAAA\n",
       "ACIEawAAAAAAAAAiBGsAAAAAAAAAIgRrAAAAAAAAACIEawAAAAAAAAAiBGsAAAAAAAAAIgRrAAAA\n",
       "AAAAACIEawAAAAAAAAAiBGsAAAAAAAAAIg7pAXycjuNmpjesOs3bkd6wquN17mZuW3rCuulYPLex\n",
       "6/X3WvPdXXrCumbXuKpq3jW7zk9P6QXLRrdrXFXjd79JT1iz36cXLJuHfptfNHtUX/+t3/vQ+csX\n",
       "6QlL9u/O6QnLrju+czbbvPvxfXrCsnl9lZ6wbHz/Nj1hzWj300XNt+/SE9Z1+y2g4/enh8f0hDWz\n",
       "2Zmoqup3u6jq9aiu0fCe/O32pt/oZj9f+M0eMvq9DQEAAAAAAABwEQRrAAAAAAAAACIEawAAAAAA\n",
       "AAAiBGsAAAAAAAAAIgRrAAAAAAAAACIEawAAAAAAAAAiBGsAAAAAAAAAIgRrAAAAAAAAACIEawAA\n",
       "AAAAAAAiBGsAAAAAAAAAIgRrAAAAAAAAACIEawAAAAAAAAAiBGsAAAAAAAAAIgRrAAAAAAAAACIE\n",
       "awAAAAAAAAAiBGsAAAAAAAAAIgRrAAAAAAAAACIEawAAAAAAAAAiBGsAAAAAAAAAIgRrAAAAAAAA\n",
       "ACIEawAAAAAAAAAiBGsAAAAAAAAAIgRrAAAAAAAAACIEawAAAAAAAAAiBGsAAAAAAAAAIgRrAAAA\n",
       "AAAAACIEawAAAAAAAAAiBGsAAAAAAAAAIgRrAAAAAAAAACIEawAAAAAAAAAiBGsAAAAAAAAAIkZ6\n",
       "ANDHcdzM9IZlw23uuY2G13jOXkd57PfpCcvG1Yv0hHXNzkXH+9vu1cv0hHWHZp+/wyG94NPwWbN7\n",
       "3Nbs/lZVddXsLG9besG6hu8XdX5KL1jzotk5rqr68S69YN37+/SCNVuzc1xV8/4hPWHdrtf/6Gzv\n",
       "Gn72up3l0etMVFXNbte4o26/A1TVad72+zEA4P/Q70kNAAAAAAAAwEUQrAEAAAAAAACIEKwBAAAA\n",
       "AAAAiBCsAQAAAAAAAIgQrAEAAAAAAACIEKwBAAAAAAAAiBCsAQAAAAAAAIgQrAEAAAAAAACIEKwB\n",
       "AAAAAAAAiBCsAQAAAAAAAIgQrAEAAAAAAACIEKwBAAAAAAAAiBCsAQAAAAAAAIgQrAEAAAAAAACI\n",
       "EKwBAAAAAAAAiBCsAQAAAAAAAIgQrAEAAAAAAACIEKwBAAAAAAAAiBCsAQAAAAAAAIgQrAEAAAAA\n",
       "AACIEKwBAAAAAAAAiBCsAQAAAAAAAIgQrAEAAAAAAACIEKwBAAAAAAAAiBCsAQAAAAAAAIgQrAEA\n",
       "AAAAAACIEKwBAAAAAAAAiBCsAQAAAAAAAIgQrAEAAAAAAACIEKwBAAAAAAAAiBCsAQAAAAAAAIgQ\n",
       "rAEAAAAAAACIOKQHwKfsOG5mesOSMdILlp22N/1GN/P1/pte57ijbUsvWDYfH9MTlo1ds7/jO+zT\n",
       "C5Zt796lJyzbff4qPWHJfDynJ6yb/R4j49zrOnc8F+OLXp+9un9IL1i37/ccaffs+9d36QXL5tbw\n",
       "ntzsHW57e5eesG72+z5So9e5qO0pY8M1/AAADfhJREFUvWDZOPT6WXnr+B214e9ws9vvFw2vcfV7\n",
       "VPMBtOsMVXWatw0/gDynZm9vAAAAAAAAAFwKwRoAAAAAAACACMEaAAAAAAAAgAjBGgAAAAAAAIAI\n",
       "wRoAAAAAAACACMEaAAAAAAAAgAjBGgAAAAAAAIAIwRoAAAAAAACACMEaAAAAAAAAgAjBGgAAAAAA\n",
       "AIAIwRoAAAAAAACACMEaAAAAAAAAgAjBGgAAAAAAAIAIwRoAAAAAAACACMEaAAAAAAAAgAjBGgAA\n",
       "AAAAAIAIwRoAAAAAAACACMEaAAAAAAAAgAjBGgAAAAAAAIAIwRoAAAAAAACACMEaAAAAAAAAgAjB\n",
       "GgAAAAAAAIAIwRoAAAAAAACACMEaAAAAAAAAgAjBGgAAAAAAAIAIwRoAAAAAAACACMEaAAAAAAAA\n",
       "gAjBGgAAAAAAAIAIwRoAAAAAAACACMEaAAAAAAAAgAjBGgAAAAAAAIAIwRoAAAAAAACAiJEeAMB/\n",
       "O+5ez/SGS3fa3rR6/n19+HPDM9HqEv9Hs8njcJWesG5u6QXrdvv0gjW7Zge5qsbhkJ6wbmt2lkfD\n",
       "c3HV7Vz0u8bz6ZyesGzse92T51Oze0VVzYeH9IRl8+ExPWHNbPhqv2v4/y4N73E8r9nxs9dRs+t8\n",
       "mrf9XuJ4dsdx0+sgl7PMZWj4xgkAAAAAAADAJRCsAQAAAAAAAIgQrAEAAAAAAACIEKwBAAAAAAAA\n",
       "iBCsAQAAAAAAAIgQrAEAAAAAAACIEKwBAAAAAAAAiBCsAQAAAAAAAIgQrAEAAAAAAACIEKwBAAAA\n",
       "AAAAiBCsAQAAAAAAAIgQrAEAAAAAAACIEKwBAAAAAAAAiBCsAQAAAAAAAIgQrAEAAAAAAACIEKwB\n",
       "AAAAAAAAiBCsAQAAAAAAAIgQrAEAAAAAAACIEKwBAAAAAAAAiBCsAQAAAAAAAIgQrAEAAAAAAACI\n",
       "EKwBAAAAAAAAiBCsAQAAAAAAAIgQrAEAAAAAAACIEKwBAAAAAAAAiBCsAQAAAAAAAIgQrAEAAAAA\n",
       "AACIEKwBAAAAAAAAiBCsAQAAAAAAAIgQrAEAAAAAAACIEKwBAAAAAAAAiBCsAQAAAAAAAIg4pAcA\n",
       "8BNzphfwkfn2/JeR3rDquHvtID+3lveKdke5amzpBWtms71VNUe/czGurtITFvW7xvP+IT3hE9Dv\n",
       "OTJ3vf7mfp6f0hPWNXyOtNPwuVdP5/SCdc2u89wafvaafR85zdteh6J6fq/ueJ27OY4b5wK4SL2+\n",
       "7QEAAAAAAABwMQRrAAAAAAAAACIEawAAAAAAAAAiBGsAAAAAAAAAIgRrAAAAAAAAACIEawAAAAAA\n",
       "AAAiBGsAAAAAAAAAIgRrAAAAAAAAACIEawAAAAAAAAAiBGsAAAAAAAAAIgRrAAAAAAAAACIEawAA\n",
       "AAAAAAAiBGsAAAAAAAAAIgRrAAAAAAAAACIEawAAAAAAAAAiBGsAAAAAAAAAIgRrAAAAAAAAACIE\n",
       "awAAAAAAAAAiBGsAAAAAAAAAIgRrAAAAAAAAACIEawAAAAAAAAAiBGsAAAAAAAAAIgRrAAAAAAAA\n",
       "ACIEawAAAAAAAAAiBGsAAAAAAAAAIgRrAAAAAAAAACIEawAAAAAAAAAiBGsAAAAAAAAAIgRrAAAA\n",
       "AAAAACIEawAAAAAAAAAiBGsAAAAAAAAAIkZ6AABweb7efzPTG1bN2W4yH8DY79MT1mxbesG6XbNr\n",
       "zAcxdr2+qnZ8hLS7v1W1u8fN82N6AvwqOr4nn7Y3rR4kx3HT7yKPVpe43ZkAgE+N/7AGAAAAAAAA\n",
       "IEKwBgAAAAAAACBCsAYAAAAAAAAgQrAGAAAAAAAAIEKwBgAAAAAAACBCsAYAAAAAAAAgQrAGAAAA\n",
       "AAAAIEKwBgAAAAAAACBCsAYAAAAAAAAgQrAGAAAAAAAAIEKwBgAAAAAAACBCsAYAAAAAAAAgQrAG\n",
       "AAAAAAAAIEKwBgAAAAAAACBCsAYAAAAAAAAgQrAGAAAAAAAAIEKwBgAAAAAAACBCsAYAAAAAAAAg\n",
       "QrAGAAAAAAAAIEKwBgAAAAAAACBCsAYAAAAAAAAgQrAGAAAAAAAAIEKwBgAAAAAAACBCsAYAAAAA\n",
       "AAAgQrAGAAAAAAAAIEKwBgAAAAAAACBCsAYAAAAAAAAgQrAGAAAAAAAAIEKwBgAAAAAAACBCsAYA\n",
       "AAAAAAAgQrAGAAAAAAAAIEKwBgAAAAAAACBipAcAwId2HDczvWHFad62e14fd69bXeOqqtP2ptV1\n",
       "7naOq6rGrt/fSs7Z7jK3M0arj15Pu316wSeg4b1i29ILLl/H+1vD5163Z3XH5163a1xVLc9yNx2/\n",
       "pwIAH69+vxoCAAAAAAAAcBEEawAAAAAAAAAiBGsAAAAAAAAAIgRrAAAAAAAAACIEawAAAAAAAAAi\n",
       "BGsAAAAAAAAAIgRrAAAAAAAAACIEawAAAAAAAAAiBGsAAAAAAAAAIgRrAAAAAAAAACIEawAAAAAA\n",
       "AAAiBGsAAAAAAAAAIgRrAAAAAAAAACIEawAAAAAAAAAiBGsAAAAAAAAAIgRrAAAAAAAAACIEawAA\n",
       "AAAAAAAiBGsAAAAAAAAAIgRrAAAAAAAAACIEawAAAAAAAAAiBGsAAAAAAAAAIgRrAAAAAAAAACIE\n",
       "awAAAAAAAAAiBGsAAAAAAAAAIgRrAAAAAAAAACIEawAAAAAAAAAiBGsAAAAAAAAAIgRrAAAAAAAA\n",
       "ACIEawAAAAAAAAAiBGsAAAAAAAAAIgRrAAAAAAAAACIEawAAAAAAAAAiRnoAAPDLjuNmpjesOs1b\n",
       "7xj8zHH3ut1ZrtlrcsfPXstzwbMbo9dRns3uFW01u85j1+9/BOa2pSesa3a/6Oi0vXGRn5nvfM/P\n",
       "NQaAj1u/b08AAAAAAAAAXATBGgAAAAAAAIAIwRoAAAAAAACACMEaAAAAAAAAgAjBGgAAAAAAAIAI\n",
       "wRoAAAAAAACACMEaAAAAAAAAgAjBGgAAAAAAAIAIwRoAAAAAAACACMEaAAAAAAAAgAjBGgAAAAAA\n",
       "AIAIwRoAAAAAAACACMEaAAAAAAAAgAjBGgAAAAAAAIAIwRoAAAAAAACACMEaAAAAAAAAgAjBGgAA\n",
       "AAAAAIAIwRoAAAAAAACACMEaAAAAAAAAgAjBGgAAAAAAAIAIwRoAAAAAAACACMEaAAAAAAAAgAjB\n",
       "GgAAAAAAAIAIwRoAAAAAAACACMEaAAAAAAAAgAjBGgAAAAAAAIAIwRoAAAAAAACACMEaAAAAAAAA\n",
       "gAjBGgAAAAAAAIAIwRoAAAAAAACACMEaAAAAAAAAgIhDegAA8MtO83akN8Cnqtvn77h7PdMbls1+\n",
       "k7vpdo6rGp5l5/jDGL2O8mx4LjreL6rZZT6Om2aLe+p2nVt+9ppxjQHg4+Y/rAEAAAAAAACIEKwB\n",
       "AAAAAAAAiBCsAQAAAAAAAIgQrAEAAAAAAACIEKwBAAAAAAAAiBCsAQAAAAAAAIgQrAEAAAAAAACI\n",
       "EKwBAAAAAAAAiBCsAQAAAAAAAIgQrAEAAAAAAACIEKwBAAAAAAAAiBCsAQAAAAAAAIgQrAEAAAAA\n",
       "AACIEKwBAAAAAAAAiBCsAQAAAAAAAIgQrAEAAAAAAACIEKwBAAAAAAAAiBCsAQAAAAAAAIgQrAEA\n",
       "AAAAAACIEKwBAAAAAAAAiBCsAQAAAAAAAIgQrAEAAAAAAACIEKwBAAAAAAAAiBCsAQAAAAAAAIgQ\n",
       "rAEAAAAAAACIEKwBAAAAAAAAiBCsAQAAAAAAAIgQrAEAAAAAAACIEKwBAAAAAAAAiBCsAQAAAAAA\n",
       "AIgQrAEAAAAAAACIEKwBAAAAAAAAiBjpAQDA5TmOm5nesOo0b70X8TPdzrJz/GF0Oxc1Gh6L2esS\n",
       "++x9GO0+ew05y5DR8f7mfgEA/Jr8hzUAAAAAAAAAEYI1AAAAAAAAABGCNQAAAAAAAAARgjUAAAAA\n",
       "AAAAEYI1AAAAAAAAABGCNQAAAAAAAAARgjUAAAAAAAAAEYI1AAAAAAAAABGCNQAAAAAAAAARgjUA\n",
       "AAAAAAAAEYI1AAAAAAAAABGCNQAAAAAAAAARgjUAAAAAAAAAEYI1AAAAAAAAABGCNQAAAAAAAAAR\n",
       "gjUAAAAAAAAAEYI1AAAAAAAAABGCNQAAAAAAAAARgjUAAAAAAAAAEYI1AAAAAAAAABGCNQAAAAAA\n",
       "AAARgjUAAAAAAAAAEYI1AAAAAAAAABGCNQAAAAAAAAARgjUAAAAAAAAAEYI1AAAAAAAAABGCNQAA\n",
       "AAAAAAARgjUAAAAAAAAAEYI1AAAAAAAAABGCNQAAAAAAAAARgjUAAAAAAAAAEYI1AAAAAAAAABEj\n",
       "PQAAAPh1HMfNTG/4FJzmbavvUR3PhWvM/9LuXOxetzsXp+1Nq2sMAABcBv9hDQAAAAAAAECEYA0A\n",
       "AAAAAABAhGANAAAAAAAAQIRgDQAAAAAAAECEYA0AAAAAAABAhGANAAAAAAAAQIRgDQAAAAAAAECE\n",
       "YA0AAAAAAABAhGANAAAAAAAAQIRgDQAAAAAAAECEYA0AAAAAAABAhGANAAAAAAAAQIRgDQAAAAAA\n",
       "AECEYA0AAAAAAABAhGANAAAAAAAAQIRgDQAAAAAAAECEYA0AAAAAAABAhGANAAAAAAAAQIRgDQAA\n",
       "AAAAAECEYA0AAAAAAABAhGANAAAAAAAAQIRgDQAAAAAAAECEYA0AAAAAAABAhGANAAAAAAAAQIRg\n",
       "DQAAAAAAAECEYA0AAAAAAABAhGANAAAAAAAAQIRgDQAAAAAAAECEYA0AAAAAAABAhGANAAAAAAAA\n",
       "QIRgDQAAAAAAAEDEvwGOkjRN+IQMPQAAAABJRU5ErkJggg==\n",
       "\" transform=\"translate(149, 47)\"/>\n",
       "</g>\n",
       "<defs>\n",
       "  <clipPath id=\"clip263\">\n",
       "    <rect x=\"2160\" y=\"47\" width=\"73\" height=\"1440\"/>\n",
       "  </clipPath>\n",
       "</defs>\n",
       "<g clip-path=\"url(#clip263)\">\n",
       "<image width=\"72\" height=\"1439\" xlink:href=\"data:image/png;base64,\n",
       "iVBORw0KGgoAAAANSUhEUgAAAEgAAAWfCAYAAAAI7rB3AAAMJ0lEQVR4nO3dwa3cSBAFQVIoU9Z/\n",
       "t2QFm7JgK4+cQ4QFQuJhiG7OfN3P3//ei//15+t/wK8TKAgUBAoChXne8/W/4adZUBAoCBQECgKF\n",
       "OZej2MaCgkBBoCBQmHM5amwsKAgUBAoCBYHCPK+jxsaCgkBBoCBQECg4iwULCgIFgYJAYR5vNVYW\n",
       "FAQKAgWBgkBhjguzlQUFgYJAQaDgqBEsKAgUBAoCBYHCeKexs6AgUBAoCBQECr5hFiwoCBQECgKF\n",
       "eb7+F/w4CwoCBYGCQEGg4MIsWFAQKAgUBAoChXncl60sKAgUBAoCBUeNYEFBoCBQECgIFOa57q//\n",
       "DT/NgoJAQaAgUJjn9SG9saAgUBAoCBQECnMcNVYWFAQKAgWBgkDBhVmwoCBQECgIFOa4MFtZUBAo\n",
       "CBQECgIFR41gQUGgIFAQKAgUPMWCBQWBgkBBoDDn1WijThAoCBQECgIFR41gQUGgIFAQKMyj0Uqd\n",
       "IFAQKAgUBAouzII6QaAgUBAoCBRcmAULCgIFgYJAYR5HjZU6QaAgUBAoCBTmaLRSJwgUBAoCBYGC\n",
       "C7NgQUGgIFAQKLgwC+oEgYJAQaAgUHBhFtQJAgWBgkDBUSOoEwQKAgWBgkDBW41gQUGgIFAQKAgU\n",
       "/CQzqBMECgIFgYK//hLUCQIFgYJAQaAwj/9fbGVBQaAgUBAo+AJVUCcIFAQKAgWBgm+YBXWCQEGg\n",
       "IFAQKHjtE9QJAgWBgkBhjrcaKwsKAgWBgkBBoOCoEdQJAgWBgkBBoODHLEGdIFAQKAgU/G4+WFAQ\n",
       "KAgUBAoCBUeNoE4QKAgUBAqOGsGCgkBBoCBQECg4agR1gkBBoCBQECj4SWZQJwgUBAoChTkuzFYW\n",
       "FAQKAgWBgkDBUSOoEwQKAgWBgkDBWSxYUBAoCBQECo4aQZ0gUBAoCBQECv6GWbCgIFAQKAgU/Imu\n",
       "oE4QKAgUBAoCBUeNYEFBoCBQECgIFDzFggUFgYJAQaDgwiyoEwQKAgWBgkDBUSNYUBAoCBQECgIF\n",
       "f8MsqBMECgIFgYJfHAYLCgIFgYJAQaAwjwuzlQUFgYJAQaDgPiioEwQKAgWBgkDBu/lgQUGgIFAQ\n",
       "KAgUvPYJFhQECgIFgYK3GsGCgkBBoCBQECh47RPUCQIFgYJAwVuNYEFBoCBQECgIFLzVCBYUBAoC\n",
       "BYGCQMFZLFhQECgIFAQKPqSDBQWBgkBBoCBQ8BQLFhQECgIFgYJAwTfMgjpBoCBQECh4Nx8sKAgU\n",
       "BAoCBYGCC7NgQUGgIFAQKPiQDhYUBAoCBYGCQMFTLFhQECgIFAQKAoV5PcVWFhQECgIFgYJ388GC\n",
       "gkBBoCBQECi4MAsWFAQKAgWBgkDBUyxYUBAoCBQECt5qBAsKAgWBgkBBoOCoESwoCBQECgIFH9LB\n",
       "goJAQaAgUBAozPv1v+DHWVAQKAgUBAoCBWexYEFBoCBQECh4Nx8sKAgUBAoCBYGCo0awoCBQECgI\n",
       "FAQKzmLBgoJAQaAgUJjj5fzKgoJAQaAgUBAoOGoECwoCBYGCQMGHdLCgIFAQKAgUBArezQcLCgIF\n",
       "gYJAQaDgJ5nBgoJAQaAgUHBhFiwoCBQECgIFgYKnWLCgIFAQKAgUBArzujFbWVAQKAgUBAqOGsGC\n",
       "gkBBoCBQECh4igULCgIFgYJAwX1QsKAgUBAoCBQECo4awYKCQEGgIFAQKDiLBQsKAgWBgkBhLkeN\n",
       "lQUFgYJAQaAgUHBhFiwoCBQECgIFf9wkWFAQKAgUBAoCBRdmwYKCQEGgIFAQKHg3HywoCBQECgKF\n",
       "uXxIrywoCBQECgIFgYJ388GCgkBBoCBQECg4iwULCgIFgYJAwbv5YEFBoCBQECgIFLybDxYUBAoC\n",
       "BYGCo0awoCBQECgIFAQK3moECwoCBYGCQEGg4CkWLCgIFAQKAgUXZsGCgkBBoCBQECg4agQLCgIF\n",
       "gYJAQaDgKRYsKAgUBAoCBRdmwYKCQEGgIFAQKAgUBAoCBYGCQMF9ULCgIFAQKAgUBAqeYsGCgkBB\n",
       "oCBQECjM7bXPyoKCQEGgIFBw1AgWFAQKAgWBgkDBUyxYUBAoCBQECgIFT7FgQUGgIFAQKPgxS7Cg\n",
       "IFAQKAgUBApzO2qsLCgIFAQKAgX3QcGCgkBBoCBQECh4igULCgIFgYJAQaDgwixYUBAoCBQECo4a\n",
       "wYKCQEGgIFAQKPiGWbCgIFAQKAgU3AcFCwoCBYGCQEGg4MIsWFAQKAgUBAoCBU+xYEFBoCBQECiM\n",
       "dxo7CwoCBYGCQEGg4KgRLCgIFAQKAgWBgqdYsKAgUBAoCBR8wyxYUBAoCBQECgIFR41gQUGgIFAQ\n",
       "KPiQDhYUBAoCBYGCQMGFWbCgIFAQKAgUBAr++kuwoCBQECgIFBw1ggUFgYJAQaAgUPDaJ1hQECgI\n",
       "FAQKAgVPsWBBQaAgUBAouDALFhQECgIFgYJAwVEjWFAQKAgUBAo+pIMFBYGCQEGgIFBwYRYsKAgU\n",
       "BAoCBYGCs1iwoCBQECgIFAQKAgWBgkBBoCBQcGEWLCgIFAQKAgWBgguzYEFBoCBQECg4agQLCgIF\n",
       "gYJAQaDgqBEsKAgUBAoCBR/SwYKCQEGgIFAQKLgwCxYUBAoCBYGCQMFZLFhQECgIFAQKjhrBgoJA\n",
       "QaAgUBAoOGoECwoCBYGCQMGHdLCgIFAQKAgUBAouzIIFBYGCQEGgIFBwFgsWFAQKAgWBgqNGsKAg\n",
       "UBAoCBQECo4awYKCQEGgIFAQKHiKBQsKAgWBgkBh7ten9MaCgkBBoCBQECg4agQLCgIFgYJAwbv5\n",
       "YEFBoCBQECgIFBw1ggUFgYJAQaAgUHAWCxYUBAoCBYGCo0awoCBQECgIFAQKnmLBgoJAQaAgUBAo\n",
       "uDALFhQECgIFgYKjRrCgIFAQKAgUBAqOGsGCgkBBoCBQcNQIFhQECgIFgYJAwVEjWFAQKAgUBAoC\n",
       "BWexYEFBoCBQECj4Q5PBgoJAQaAgUBAoOGoECwoCBYGCQEGg4LVPsKAgUBAoCBQcNYIFBYGCQEGg\n",
       "IFBw1AgWFAQKAgWBgqNGsKAgUBAoCBQECo4awYKCQEGgIFAQKMzle9IrCwoCBYGCQMFRI1hQECgI\n",
       "FAQKAgWvfYIFBYGCQEGgIFBwFgsWFAQKAgWBgqNGsKAgUBAoCBQECv6GWbCgIFAQKAgUHDWCBQWB\n",
       "gkBBoCBQmPt8/U/4bRYUBAoCBYGCQMFZLFhQECgIFAQK3moECwoCBYGCQEGg4KgRLCgIFAQKAgUf\n",
       "0sGCgkBBoCBQECj4xWGwoCBQECgIFAQK/tBksKAgUBAoCBQcNYIFBYGCQEGgIFCY63iMbSwoCBQE\n",
       "CgIFgYKzWLCgIFAQKAgUfMMsWFAQKAgUBAoCBT/JDBYUBAoCBYGCo0awoCBQECgIFAQKjhrBgoJA\n",
       "QaAgUBAozOXPJa8sKAgUBAoCBb84DBYUBAoCBYGCQMHXgIMFBYGCQEGgIFBwFgsWFAQKAgWBgm+Y\n",
       "BQsKAgWBgkBBoOAbZsGCgkBBoCBQ8Ce6ggUFgYJAQaAgUPBuPlhQECgIFAQKAgXv5oMFBYGCQEGg\n",
       "4EM6WFAQKAgUBAoCBb+bDxYUBAoCBYGCQME3zIIFBYGCQEGg4MIsWFAQKAgUBAoCBU+xYEFBoCBQ\n",
       "ECh4qxEsKAgUBAoCBYGCtxrBgoJAQaAgUBAouDALFhQECgIFgYIP6WBBQaAgUBAoCBT8DbNgQUGg\n",
       "IFAQKDhqBAsKAgWBgkBBoOApFiwoCBQECgIFgYKnWLCgIFAQKAgU5vZWY2VBQaAgUBAoCBQcNYIF\n",
       "BYGCQEGgIFDwFAsWFAQKAgWBgg/pYEFBoCBQECgIFPyYJVhQECgIFAQKjhrBgoJAQaAgUBAoeIoF\n",
       "CwoCBYGCQEGgMNfxV/83FhQECgIFgYKjRrCgIFAQKAgUBArzeoqtLCgIFAQKAgWBgm+YBQsKAgWB\n",
       "gkBhrtdbjY0FBYGCQEGgIFDw2idYUBAoCBQECu6DggUFgYJAQaAgUHBhFiwoCBQECgIFgYKzWLCg\n",
       "IFAQKAgUfA04WFAQKAgUBAoCBb+bDxYUBAoCBYGCQME3zIIFBYGCQEGg4KgRLCgIFAQKAgWBgtc+\n",
       "wYKCQEGgIFDwBapgQUGgIFAQKAgU/JglWFAQKAgUBAoChXmdxVYWFAQKAgWBgqNGsKAgUBAoCBQE\n",
       "Cr4GHCwoCBQECgKFf4jrjN/mS6F7AAAAAElFTkSuQmCC\n",
       "\" transform=\"translate(2161, 47)\"/>\n",
       "</g>\n",
       "<path clip-path=\"url(#clip260)\" d=\"M2269.43 1269.28 L2277.07 1269.28 L2277.07 1242.92 L2268.76 1244.58 L2268.76 1240.32 L2277.02 1238.66 L2281.7 1238.66 L2281.7 1269.28 L2289.33 1269.28 L2289.33 1273.22 L2269.43 1273.22 L2269.43 1269.28 Z\" fill=\"#f8f8f2\" fill-rule=\"nonzero\" fill-opacity=\"1\" /><path clip-path=\"url(#clip260)\" d=\"M2308.78 1241.74 Q2305.17 1241.74 2303.34 1245.3 Q2301.53 1248.84 2301.53 1255.97 Q2301.53 1263.08 2303.34 1266.64 Q2305.17 1270.19 2308.78 1270.19 Q2312.41 1270.19 2314.22 1266.64 Q2316.05 1263.08 2316.05 1255.97 Q2316.05 1248.84 2314.22 1245.3 Q2312.41 1241.74 2308.78 1241.74 M2308.78 1238.03 Q2314.59 1238.03 2317.64 1242.64 Q2320.72 1247.22 2320.72 1255.97 Q2320.72 1264.7 2317.64 1269.31 Q2314.59 1273.89 2308.78 1273.89 Q2302.97 1273.89 2299.89 1269.31 Q2296.83 1264.7 2296.83 1255.97 Q2296.83 1247.22 2299.89 1242.64 Q2302.97 1238.03 2308.78 1238.03 Z\" fill=\"#f8f8f2\" fill-rule=\"nonzero\" fill-opacity=\"1\" /><path clip-path=\"url(#clip260)\" d=\"M2338.94 1241.74 Q2335.33 1241.74 2333.5 1245.3 Q2331.7 1248.84 2331.7 1255.97 Q2331.7 1263.08 2333.5 1266.64 Q2335.33 1270.19 2338.94 1270.19 Q2342.57 1270.19 2344.38 1266.64 Q2346.21 1263.08 2346.21 1255.97 Q2346.21 1248.84 2344.38 1245.3 Q2342.57 1241.74 2338.94 1241.74 M2338.94 1238.03 Q2344.75 1238.03 2347.81 1242.64 Q2350.89 1247.22 2350.89 1255.97 Q2350.89 1264.7 2347.81 1269.31 Q2344.75 1273.89 2338.94 1273.89 Q2333.13 1273.89 2330.05 1269.31 Q2327 1264.7 2327 1255.97 Q2327 1247.22 2330.05 1242.64 Q2333.13 1238.03 2338.94 1238.03 Z\" fill=\"#f8f8f2\" fill-rule=\"nonzero\" fill-opacity=\"1\" /><polyline clip-path=\"url(#clip260)\" style=\"stroke:#000000; stroke-linecap:round; stroke-linejoin:round; stroke-width:4; stroke-opacity:1; fill:none\" points=\"2232.76,1259.57 2256.76,1259.57 \"/>\n",
       "<path clip-path=\"url(#clip260)\" d=\"M2274.38 1040.11 L2290.7 1040.11 L2290.7 1044.05 L2268.76 1044.05 L2268.76 1040.11 Q2271.42 1037.36 2276 1032.73 Q2280.61 1028.07 2281.79 1026.73 Q2284.03 1024.21 2284.91 1022.47 Q2285.82 1020.71 2285.82 1019.02 Q2285.82 1016.27 2283.87 1014.53 Q2281.95 1012.8 2278.85 1012.8 Q2276.65 1012.8 2274.2 1013.56 Q2271.77 1014.32 2268.99 1015.87 L2268.99 1011.15 Q2271.81 1010.02 2274.27 1009.44 Q2276.72 1008.86 2278.76 1008.86 Q2284.13 1008.86 2287.32 1011.55 Q2290.52 1014.23 2290.52 1018.72 Q2290.52 1020.85 2289.7 1022.77 Q2288.92 1024.67 2286.81 1027.26 Q2286.23 1027.93 2283.13 1031.15 Q2280.03 1034.35 2274.38 1040.11 Z\" fill=\"#f8f8f2\" fill-rule=\"nonzero\" fill-opacity=\"1\" /><path clip-path=\"url(#clip260)\" d=\"M2310.51 1012.56 Q2306.9 1012.56 2305.08 1016.13 Q2303.27 1019.67 2303.27 1026.8 Q2303.27 1033.91 2305.08 1037.47 Q2306.9 1041.01 2310.51 1041.01 Q2314.15 1041.01 2315.95 1037.47 Q2317.78 1033.91 2317.78 1026.8 Q2317.78 1019.67 2315.95 1016.13 Q2314.15 1012.56 2310.51 1012.56 M2310.51 1008.86 Q2316.33 1008.86 2319.38 1013.47 Q2322.46 1018.05 2322.46 1026.8 Q2322.46 1035.53 2319.38 1040.13 Q2316.33 1044.72 2310.51 1044.72 Q2304.7 1044.72 2301.63 1040.13 Q2298.57 1035.53 2298.57 1026.8 Q2298.57 1018.05 2301.63 1013.47 Q2304.7 1008.86 2310.51 1008.86 Z\" fill=\"#f8f8f2\" fill-rule=\"nonzero\" fill-opacity=\"1\" /><path clip-path=\"url(#clip260)\" d=\"M2340.68 1012.56 Q2337.07 1012.56 2335.24 1016.13 Q2333.43 1019.67 2333.43 1026.8 Q2333.43 1033.91 2335.24 1037.47 Q2337.07 1041.01 2340.68 1041.01 Q2344.31 1041.01 2346.12 1037.47 Q2347.95 1033.91 2347.95 1026.8 Q2347.95 1019.67 2346.12 1016.13 Q2344.31 1012.56 2340.68 1012.56 M2340.68 1008.86 Q2346.49 1008.86 2349.54 1013.47 Q2352.62 1018.05 2352.62 1026.8 Q2352.62 1035.53 2349.54 1040.13 Q2346.49 1044.72 2340.68 1044.72 Q2334.87 1044.72 2331.79 1040.13 Q2328.73 1035.53 2328.73 1026.8 Q2328.73 1018.05 2331.79 1013.47 Q2334.87 1008.86 2340.68 1008.86 Z\" fill=\"#f8f8f2\" fill-rule=\"nonzero\" fill-opacity=\"1\" /><polyline clip-path=\"url(#clip260)\" style=\"stroke:#000000; stroke-linecap:round; stroke-linejoin:round; stroke-width:4; stroke-opacity:1; fill:none\" points=\"2232.76,1030.39 2256.76,1030.39 \"/>\n",
       "<path clip-path=\"url(#clip260)\" d=\"M2284.38 796.239 Q2287.74 796.957 2289.61 799.225 Q2291.51 801.494 2291.51 804.827 Q2291.51 809.943 2287.99 812.743 Q2284.47 815.544 2277.99 815.544 Q2275.82 815.544 2273.5 815.105 Q2271.21 814.688 2268.76 813.831 L2268.76 809.318 Q2270.7 810.452 2273.02 811.03 Q2275.33 811.609 2277.85 811.609 Q2282.25 811.609 2284.54 809.873 Q2286.86 808.137 2286.86 804.827 Q2286.86 801.771 2284.7 800.058 Q2282.58 798.322 2278.76 798.322 L2274.73 798.322 L2274.73 794.48 L2278.94 794.48 Q2282.39 794.48 2284.22 793.114 Q2286.05 791.725 2286.05 789.132 Q2286.05 786.47 2284.15 785.058 Q2282.27 783.623 2278.76 783.623 Q2276.83 783.623 2274.64 784.04 Q2272.44 784.457 2269.8 785.336 L2269.8 781.17 Q2272.46 780.429 2274.77 780.058 Q2277.11 779.688 2279.17 779.688 Q2284.5 779.688 2287.6 782.119 Q2290.7 784.526 2290.7 788.646 Q2290.7 791.517 2289.06 793.507 Q2287.41 795.475 2284.38 796.239 Z\" fill=\"#f8f8f2\" fill-rule=\"nonzero\" fill-opacity=\"1\" /><path clip-path=\"url(#clip260)\" d=\"M2310.38 783.392 Q2306.76 783.392 2304.94 786.957 Q2303.13 790.498 2303.13 797.628 Q2303.13 804.734 2304.94 808.299 Q2306.76 811.841 2310.38 811.841 Q2314.01 811.841 2315.82 808.299 Q2317.64 804.734 2317.64 797.628 Q2317.64 790.498 2315.82 786.957 Q2314.01 783.392 2310.38 783.392 M2310.38 779.688 Q2316.19 779.688 2319.24 784.295 Q2322.32 788.878 2322.32 797.628 Q2322.32 806.355 2319.24 810.961 Q2316.19 815.544 2310.38 815.544 Q2304.57 815.544 2301.49 810.961 Q2298.43 806.355 2298.43 797.628 Q2298.43 788.878 2301.49 784.295 Q2304.57 779.688 2310.38 779.688 Z\" fill=\"#f8f8f2\" fill-rule=\"nonzero\" fill-opacity=\"1\" /><path clip-path=\"url(#clip260)\" d=\"M2340.54 783.392 Q2336.93 783.392 2335.1 786.957 Q2333.29 790.498 2333.29 797.628 Q2333.29 804.734 2335.1 808.299 Q2336.93 811.841 2340.54 811.841 Q2344.17 811.841 2345.98 808.299 Q2347.81 804.734 2347.81 797.628 Q2347.81 790.498 2345.98 786.957 Q2344.17 783.392 2340.54 783.392 M2340.54 779.688 Q2346.35 779.688 2349.4 784.295 Q2352.48 788.878 2352.48 797.628 Q2352.48 806.355 2349.4 810.961 Q2346.35 815.544 2340.54 815.544 Q2334.73 815.544 2331.65 810.961 Q2328.59 806.355 2328.59 797.628 Q2328.59 788.878 2331.65 784.295 Q2334.73 779.688 2340.54 779.688 Z\" fill=\"#f8f8f2\" fill-rule=\"nonzero\" fill-opacity=\"1\" /><polyline clip-path=\"url(#clip260)\" style=\"stroke:#000000; stroke-linecap:round; stroke-linejoin:round; stroke-width:4; stroke-opacity:1; fill:none\" points=\"2232.76,801.222 2256.76,801.222 \"/>\n",
       "<path clip-path=\"url(#clip260)\" d=\"M2284.36 555.215 L2272.55 573.664 L2284.36 573.664 L2284.36 555.215 M2283.13 551.14 L2289.01 551.14 L2289.01 573.664 L2293.94 573.664 L2293.94 577.552 L2289.01 577.552 L2289.01 585.7 L2284.36 585.7 L2284.36 577.552 L2268.76 577.552 L2268.76 573.039 L2283.13 551.14 Z\" fill=\"#f8f8f2\" fill-rule=\"nonzero\" fill-opacity=\"1\" /><path clip-path=\"url(#clip260)\" d=\"M2311.67 554.219 Q2308.06 554.219 2306.23 557.784 Q2304.43 561.326 2304.43 568.455 Q2304.43 575.562 2306.23 579.126 Q2308.06 582.668 2311.67 582.668 Q2315.31 582.668 2317.11 579.126 Q2318.94 575.562 2318.94 568.455 Q2318.94 561.326 2317.11 557.784 Q2315.31 554.219 2311.67 554.219 M2311.67 550.515 Q2317.48 550.515 2320.54 555.122 Q2323.62 559.705 2323.62 568.455 Q2323.62 577.182 2320.54 581.788 Q2317.48 586.372 2311.67 586.372 Q2305.86 586.372 2302.78 581.788 Q2299.73 577.182 2299.73 568.455 Q2299.73 559.705 2302.78 555.122 Q2305.86 550.515 2311.67 550.515 Z\" fill=\"#f8f8f2\" fill-rule=\"nonzero\" fill-opacity=\"1\" /><path clip-path=\"url(#clip260)\" d=\"M2341.83 554.219 Q2338.22 554.219 2336.39 557.784 Q2334.59 561.326 2334.59 568.455 Q2334.59 575.562 2336.39 579.126 Q2338.22 582.668 2341.83 582.668 Q2345.47 582.668 2347.27 579.126 Q2349.1 575.562 2349.1 568.455 Q2349.1 561.326 2347.27 557.784 Q2345.47 554.219 2341.83 554.219 M2341.83 550.515 Q2347.64 550.515 2350.7 555.122 Q2353.78 559.705 2353.78 568.455 Q2353.78 577.182 2350.7 581.788 Q2347.64 586.372 2341.83 586.372 Q2336.02 586.372 2332.95 581.788 Q2329.89 577.182 2329.89 568.455 Q2329.89 559.705 2332.95 555.122 Q2336.02 550.515 2341.83 550.515 Z\" fill=\"#f8f8f2\" fill-rule=\"nonzero\" fill-opacity=\"1\" /><polyline clip-path=\"url(#clip260)\" style=\"stroke:#000000; stroke-linecap:round; stroke-linejoin:round; stroke-width:4; stroke-opacity:1; fill:none\" points=\"2232.76,572.049 2256.76,572.049 \"/>\n",
       "<path clip-path=\"url(#clip260)\" d=\"M2270.21 321.968 L2288.57 321.968 L2288.57 325.903 L2274.5 325.903 L2274.5 334.375 Q2275.52 334.028 2276.53 333.866 Q2277.55 333.681 2278.57 333.681 Q2284.36 333.681 2287.74 336.852 Q2291.12 340.023 2291.12 345.44 Q2291.12 351.019 2287.64 354.121 Q2284.17 357.199 2277.85 357.199 Q2275.68 357.199 2273.41 356.829 Q2271.16 356.458 2268.76 355.718 L2268.76 351.019 Q2270.84 352.153 2273.06 352.708 Q2275.28 353.264 2277.76 353.264 Q2281.77 353.264 2284.1 351.158 Q2286.44 349.051 2286.44 345.44 Q2286.44 341.829 2284.1 339.722 Q2281.77 337.616 2277.76 337.616 Q2275.89 337.616 2274.01 338.033 Q2272.16 338.449 2270.21 339.329 L2270.21 321.968 Z\" fill=\"#f8f8f2\" fill-rule=\"nonzero\" fill-opacity=\"1\" /><path clip-path=\"url(#clip260)\" d=\"M2310.33 325.047 Q2306.72 325.047 2304.89 328.611 Q2303.08 332.153 2303.08 339.283 Q2303.08 346.389 2304.89 349.954 Q2306.72 353.496 2310.33 353.496 Q2313.96 353.496 2315.77 349.954 Q2317.6 346.389 2317.6 339.283 Q2317.6 332.153 2315.77 328.611 Q2313.96 325.047 2310.33 325.047 M2310.33 321.343 Q2316.14 321.343 2319.2 325.949 Q2322.27 330.533 2322.27 339.283 Q2322.27 348.009 2319.2 352.616 Q2316.14 357.199 2310.33 357.199 Q2304.52 357.199 2301.44 352.616 Q2298.39 348.009 2298.39 339.283 Q2298.39 330.533 2301.44 325.949 Q2304.52 321.343 2310.33 321.343 Z\" fill=\"#f8f8f2\" fill-rule=\"nonzero\" fill-opacity=\"1\" /><path clip-path=\"url(#clip260)\" d=\"M2340.49 325.047 Q2336.88 325.047 2335.05 328.611 Q2333.25 332.153 2333.25 339.283 Q2333.25 346.389 2335.05 349.954 Q2336.88 353.496 2340.49 353.496 Q2344.13 353.496 2345.93 349.954 Q2347.76 346.389 2347.76 339.283 Q2347.76 332.153 2345.93 328.611 Q2344.13 325.047 2340.49 325.047 M2340.49 321.343 Q2346.3 321.343 2349.36 325.949 Q2352.44 330.533 2352.44 339.283 Q2352.44 348.009 2349.36 352.616 Q2346.3 357.199 2340.49 357.199 Q2334.68 357.199 2331.6 352.616 Q2328.55 348.009 2328.55 339.283 Q2328.55 330.533 2331.6 325.949 Q2334.68 321.343 2340.49 321.343 Z\" fill=\"#f8f8f2\" fill-rule=\"nonzero\" fill-opacity=\"1\" /><polyline clip-path=\"url(#clip260)\" style=\"stroke:#000000; stroke-linecap:round; stroke-linejoin:round; stroke-width:4; stroke-opacity:1; fill:none\" points=\"2232.76,342.877 2256.76,342.877 \"/>\n",
       "<path clip-path=\"url(#clip260)\" d=\"M2281.09 108.212 Q2277.95 108.212 2276.09 110.365 Q2274.27 112.517 2274.27 116.267 Q2274.27 119.994 2276.09 122.17 Q2277.95 124.323 2281.09 124.323 Q2284.24 124.323 2286.07 122.17 Q2287.92 119.994 2287.92 116.267 Q2287.92 112.517 2286.07 110.365 Q2284.24 108.212 2281.09 108.212 M2290.38 93.5592 L2290.38 97.8185 Q2288.62 96.9851 2286.81 96.5453 Q2285.03 96.1055 2283.27 96.1055 Q2278.64 96.1055 2276.19 99.2305 Q2273.76 102.355 2273.41 108.675 Q2274.77 106.661 2276.83 105.596 Q2278.89 104.508 2281.37 104.508 Q2286.58 104.508 2289.59 107.68 Q2292.62 110.828 2292.62 116.267 Q2292.62 121.591 2289.47 124.809 Q2286.33 128.027 2281.09 128.027 Q2275.1 128.027 2271.93 123.443 Q2268.76 118.837 2268.76 110.11 Q2268.76 101.916 2272.64 97.0546 Q2276.53 92.1703 2283.08 92.1703 Q2284.84 92.1703 2286.63 92.5176 Q2288.43 92.8648 2290.38 93.5592 Z\" fill=\"#f8f8f2\" fill-rule=\"nonzero\" fill-opacity=\"1\" /><path clip-path=\"url(#clip260)\" d=\"M2310.68 95.874 Q2307.07 95.874 2305.24 99.4388 Q2303.43 102.98 2303.43 110.11 Q2303.43 117.217 2305.24 120.781 Q2307.07 124.323 2310.68 124.323 Q2314.31 124.323 2316.12 120.781 Q2317.95 117.217 2317.95 110.11 Q2317.95 102.98 2316.12 99.4388 Q2314.31 95.874 2310.68 95.874 M2310.68 92.1703 Q2316.49 92.1703 2319.54 96.7768 Q2322.62 101.36 2322.62 110.11 Q2322.62 118.837 2319.54 123.443 Q2316.49 128.027 2310.68 128.027 Q2304.87 128.027 2301.79 123.443 Q2298.73 118.837 2298.73 110.11 Q2298.73 101.36 2301.79 96.7768 Q2304.87 92.1703 2310.68 92.1703 Z\" fill=\"#f8f8f2\" fill-rule=\"nonzero\" fill-opacity=\"1\" /><path clip-path=\"url(#clip260)\" d=\"M2340.84 95.874 Q2337.23 95.874 2335.4 99.4388 Q2333.59 102.98 2333.59 110.11 Q2333.59 117.217 2335.4 120.781 Q2337.23 124.323 2340.84 124.323 Q2344.47 124.323 2346.28 120.781 Q2348.11 117.217 2348.11 110.11 Q2348.11 102.98 2346.28 99.4388 Q2344.47 95.874 2340.84 95.874 M2340.84 92.1703 Q2346.65 92.1703 2349.7 96.7768 Q2352.78 101.36 2352.78 110.11 Q2352.78 118.837 2349.7 123.443 Q2346.65 128.027 2340.84 128.027 Q2335.03 128.027 2331.95 123.443 Q2328.89 118.837 2328.89 110.11 Q2328.89 101.36 2331.95 96.7768 Q2335.03 92.1703 2340.84 92.1703 Z\" fill=\"#f8f8f2\" fill-rule=\"nonzero\" fill-opacity=\"1\" /><polyline clip-path=\"url(#clip260)\" style=\"stroke:#000000; stroke-linecap:round; stroke-linejoin:round; stroke-width:4; stroke-opacity:1; fill:none\" points=\"2232.76,113.704 2256.76,113.704 \"/>\n",
       "<polyline clip-path=\"url(#clip260)\" style=\"stroke:#000000; stroke-linecap:round; stroke-linejoin:round; stroke-width:4; stroke-opacity:1; fill:none\" points=\"2232.76,1486.45 2232.76,47.2441 \"/>\n",
       "</svg>\n"
      ]
     },
     "execution_count": 92,
     "metadata": {},
     "output_type": "execute_result"
    }
   ],
   "source": [
    "x = randn(10^5)\n",
    "y = randn(10^5)\n",
    "histogram2d(x, y, bins=(64, 64))"
   ]
  },
  {
   "cell_type": "markdown",
   "metadata": {},
   "source": [
    "### Importing Data\n",
    "Bring data from external files into ${\\tt Julia}$."
   ]
  },
  {
   "cell_type": "markdown",
   "metadata": {},
   "source": [
    "Data is typically stored in files, such as _CSV_ or _JSON_ files. In order to train and test machine learning models, the data needs to be loaded into the program. Additionally, the results of the training and testing process, such as model weights and performance metrics, also need to be saved to files. Therefore, the ability to manipulate files is essential for loading and saving data and model information in the machine learning process."
   ]
  },
  {
   "cell_type": "code",
   "execution_count": 93,
   "metadata": {},
   "outputs": [
    {
     "name": "stderr",
     "output_type": "stream",
     "text": [
      "\u001b[32m\u001b[1m    Updating\u001b[22m\u001b[39m registry at `~/.julia/registries/General.toml`\n",
      "\u001b[32m\u001b[1m   Resolving\u001b[22m\u001b[39m package versions...\n",
      "\u001b[32m\u001b[1m  No Changes\u001b[22m\u001b[39m to `~/Work/git-repos/AI-ML-DL/jlai/Codes/Julia/Part-1/Project.toml`\n",
      "\u001b[32m\u001b[1m  No Changes\u001b[22m\u001b[39m to `~/Work/git-repos/AI-ML-DL/jlai/Codes/Julia/Part-1/Manifest.toml`\n",
      "\u001b[32m\u001b[1m   Resolving\u001b[22m\u001b[39m package versions...\n",
      "\u001b[32m\u001b[1m  No Changes\u001b[22m\u001b[39m to `~/Work/git-repos/AI-ML-DL/jlai/Codes/Julia/Part-1/Project.toml`\n",
      "\u001b[32m\u001b[1m  No Changes\u001b[22m\u001b[39m to `~/Work/git-repos/AI-ML-DL/jlai/Codes/Julia/Part-1/Manifest.toml`\n"
     ]
    }
   ],
   "source": [
    "using Pkg\n",
    "Pkg.add(\"DataFrames\")\n",
    "Pkg.add(\"CSV\")"
   ]
  },
  {
   "cell_type": "code",
   "execution_count": 94,
   "metadata": {},
   "outputs": [
    {
     "data": {
      "text/latex": [
       "Create new CSV file\n",
       "\n"
      ],
      "text/markdown": [
       "Create new CSV file\n"
      ],
      "text/plain": [
       "  Create new CSV file"
      ]
     },
     "execution_count": 94,
     "metadata": {},
     "output_type": "execute_result"
    }
   ],
   "source": [
    "md\"Create new CSV file\""
   ]
  },
  {
   "cell_type": "code",
   "execution_count": 95,
   "metadata": {},
   "outputs": [],
   "source": [
    "using CSV, DataFrames"
   ]
  },
  {
   "cell_type": "code",
   "execution_count": 96,
   "metadata": {},
   "outputs": [
    {
     "data": {
      "text/latex": [
       "\\texttt{touch} command allows to create a file if it doesn't exist. Otherwise, it changes the file timestamps.\n",
       "\n"
      ],
      "text/markdown": [
       "`touch` command allows to create a file if it doesn't exist. Otherwise, it changes the file timestamps.\n"
      ],
      "text/plain": [
       "  \u001b[36mtouch\u001b[39m command allows to create a file if it doesn't exist. Otherwise, it\n",
       "  changes the file timestamps."
      ]
     },
     "execution_count": 96,
     "metadata": {},
     "output_type": "execute_result"
    }
   ],
   "source": [
    "md\"`touch` command allows to create a file if it doesn't exist. Otherwise, it changes the file timestamps.\""
   ]
  },
  {
   "cell_type": "code",
   "execution_count": 97,
   "metadata": {},
   "outputs": [
    {
     "data": {
      "text/plain": [
       "\"test-file.csv\""
      ]
     },
     "execution_count": 97,
     "metadata": {},
     "output_type": "execute_result"
    }
   ],
   "source": [
    "touch(\"test-file.csv\")"
   ]
  },
  {
   "cell_type": "code",
   "execution_count": 98,
   "metadata": {},
   "outputs": [
    {
     "name": "stdout",
     "output_type": "stream",
     "text": [
      "-rw-rw-r-- 1 mhamdi mhamdi 66 Nov  7 18:47 test-file.csv\n"
     ]
    }
   ],
   "source": [
    ";ls -la test-file.csv"
   ]
  },
  {
   "cell_type": "code",
   "execution_count": 99,
   "metadata": {},
   "outputs": [
    {
     "data": {
      "text/plain": [
       "IOStream(<file test-file.csv>)"
      ]
     },
     "execution_count": 99,
     "metadata": {},
     "output_type": "execute_result"
    }
   ],
   "source": [
    "file = open(\"test-file.csv\", \"w\")"
   ]
  },
  {
   "cell_type": "code",
   "execution_count": 100,
   "metadata": {},
   "outputs": [
    {
     "data": {
      "text/latex": [
       "Let's create some imaginary data\n",
       "\n"
      ],
      "text/markdown": [
       "Let's create some imaginary data\n"
      ],
      "text/plain": [
       "  Let's create some imaginary data"
      ]
     },
     "execution_count": 100,
     "metadata": {},
     "output_type": "execute_result"
    }
   ],
   "source": [
    "md\"Let's create some imaginary data\""
   ]
  },
  {
   "cell_type": "code",
   "execution_count": 101,
   "metadata": {},
   "outputs": [
    {
     "data": {
      "text/html": [
       "<div><div style = \"float: left;\"><span>4×3 DataFrame</span></div><div style = \"clear: both;\"></div></div><div class = \"data-frame\" style = \"overflow-x: scroll;\"><table class = \"data-frame\" style = \"margin-bottom: 6px;\"><thead><tr class = \"header\"><th class = \"rowNumber\" style = \"font-weight: bold; text-align: right;\">Row</th><th style = \"text-align: left;\">Student</th><th style = \"text-align: left;\">Id</th><th style = \"text-align: left;\">Marks</th></tr><tr class = \"subheader headerLastRow\"><th class = \"rowNumber\" style = \"font-weight: bold; text-align: right;\"></th><th title = \"String\" style = \"text-align: left;\">String</th><th title = \"Int64\" style = \"text-align: left;\">Int64</th><th title = \"Float64\" style = \"text-align: left;\">Float64</th></tr></thead><tbody><tr><td class = \"rowNumber\" style = \"font-weight: bold; text-align: right;\">1</td><td style = \"text-align: left;\">Mohamed</td><td style = \"text-align: right;\">1</td><td style = \"text-align: right;\">18.0</td></tr><tr><td class = \"rowNumber\" style = \"font-weight: bold; text-align: right;\">2</td><td style = \"text-align: left;\">Aymen</td><td style = \"text-align: right;\">2</td><td style = \"text-align: right;\">7.0</td></tr><tr><td class = \"rowNumber\" style = \"font-weight: bold; text-align: right;\">3</td><td style = \"text-align: left;\">Rami</td><td style = \"text-align: right;\">3</td><td style = \"text-align: right;\">12.0</td></tr><tr><td class = \"rowNumber\" style = \"font-weight: bold; text-align: right;\">4</td><td style = \"text-align: left;\">Ala</td><td style = \"text-align: right;\">4</td><td style = \"text-align: right;\">5.5</td></tr></tbody></table></div>"
      ],
      "text/latex": [
       "\\begin{tabular}{r|ccc}\n",
       "\t& Student & Id & Marks\\\\\n",
       "\t\\hline\n",
       "\t& String & Int64 & Float64\\\\\n",
       "\t\\hline\n",
       "\t1 & Mohamed & 1 & 18.0 \\\\\n",
       "\t2 & Aymen & 2 & 7.0 \\\\\n",
       "\t3 & Rami & 3 & 12.0 \\\\\n",
       "\t4 & Ala & 4 & 5.5 \\\\\n",
       "\\end{tabular}\n"
      ],
      "text/plain": [
       "\u001b[1m4×3 DataFrame\u001b[0m\n",
       "\u001b[1m Row \u001b[0m│\u001b[1m Student \u001b[0m\u001b[1m Id    \u001b[0m\u001b[1m Marks   \u001b[0m\n",
       "     │\u001b[90m String  \u001b[0m\u001b[90m Int64 \u001b[0m\u001b[90m Float64 \u001b[0m\n",
       "─────┼─────────────────────────\n",
       "   1 │ Mohamed      1     18.0\n",
       "   2 │ Aymen        2      7.0\n",
       "   3 │ Rami         3     12.0\n",
       "   4 │ Ala          4      5.5"
      ]
     },
     "execution_count": 101,
     "metadata": {},
     "output_type": "execute_result"
    }
   ],
   "source": [
    "df = DataFrame(\n",
    "        Student = [\"Mohamed\", \"Aymen\", \"Rami\", \"Ala\"],\n",
    "        Id = [1, 2, 3, 4],\n",
    "        Marks = [18, 7, 12, 5.5]\n",
    "        )"
   ]
  },
  {
   "cell_type": "code",
   "execution_count": 102,
   "metadata": {},
   "outputs": [
    {
     "data": {
      "text/latex": [
       "Write \\texttt{df} to file\n",
       "\n"
      ],
      "text/markdown": [
       "Write `df` to file\n"
      ],
      "text/plain": [
       "  Write \u001b[36mdf\u001b[39m to file"
      ]
     },
     "execution_count": 102,
     "metadata": {},
     "output_type": "execute_result"
    }
   ],
   "source": [
    "md\"Write `df` to file\""
   ]
  },
  {
   "cell_type": "code",
   "execution_count": 103,
   "metadata": {},
   "outputs": [
    {
     "data": {
      "text/plain": [
       "\"test-file.csv\""
      ]
     },
     "execution_count": 103,
     "metadata": {},
     "output_type": "execute_result"
    }
   ],
   "source": [
    "CSV.write(\"test-file.csv\", df)"
   ]
  },
  {
   "cell_type": "code",
   "execution_count": 104,
   "metadata": {},
   "outputs": [
    {
     "data": {
      "text/latex": [
       "Open the CSV file and add some contents. See what happens when we load it again.\n",
       "\n"
      ],
      "text/markdown": [
       "Open the CSV file and add some contents. See what happens when we load it again.\n"
      ],
      "text/plain": [
       "  Open the CSV file and add some contents. See what happens when we load it\n",
       "  again."
      ]
     },
     "execution_count": 104,
     "metadata": {},
     "output_type": "execute_result"
    }
   ],
   "source": [
    "md\"Open the CSV file and add some contents. See what happens when we load it again.\""
   ]
  },
  {
   "cell_type": "code",
   "execution_count": 105,
   "metadata": {},
   "outputs": [
    {
     "data": {
      "text/html": [
       "<div><div style = \"float: left;\"><span>4×3 DataFrame</span></div><div style = \"clear: both;\"></div></div><div class = \"data-frame\" style = \"overflow-x: scroll;\"><table class = \"data-frame\" style = \"margin-bottom: 6px;\"><thead><tr class = \"header\"><th class = \"rowNumber\" style = \"font-weight: bold; text-align: right;\">Row</th><th style = \"text-align: left;\">Student</th><th style = \"text-align: left;\">Id</th><th style = \"text-align: left;\">Marks</th></tr><tr class = \"subheader headerLastRow\"><th class = \"rowNumber\" style = \"font-weight: bold; text-align: right;\"></th><th title = \"String7\" style = \"text-align: left;\">String7</th><th title = \"Int64\" style = \"text-align: left;\">Int64</th><th title = \"Float64\" style = \"text-align: left;\">Float64</th></tr></thead><tbody><tr><td class = \"rowNumber\" style = \"font-weight: bold; text-align: right;\">1</td><td style = \"text-align: left;\">Mohamed</td><td style = \"text-align: right;\">1</td><td style = \"text-align: right;\">18.0</td></tr><tr><td class = \"rowNumber\" style = \"font-weight: bold; text-align: right;\">2</td><td style = \"text-align: left;\">Aymen</td><td style = \"text-align: right;\">2</td><td style = \"text-align: right;\">7.0</td></tr><tr><td class = \"rowNumber\" style = \"font-weight: bold; text-align: right;\">3</td><td style = \"text-align: left;\">Rami</td><td style = \"text-align: right;\">3</td><td style = \"text-align: right;\">12.0</td></tr><tr><td class = \"rowNumber\" style = \"font-weight: bold; text-align: right;\">4</td><td style = \"text-align: left;\">Ala</td><td style = \"text-align: right;\">4</td><td style = \"text-align: right;\">5.5</td></tr></tbody></table></div>"
      ],
      "text/latex": [
       "\\begin{tabular}{r|ccc}\n",
       "\t& Student & Id & Marks\\\\\n",
       "\t\\hline\n",
       "\t& String7 & Int64 & Float64\\\\\n",
       "\t\\hline\n",
       "\t1 & Mohamed & 1 & 18.0 \\\\\n",
       "\t2 & Aymen & 2 & 7.0 \\\\\n",
       "\t3 & Rami & 3 & 12.0 \\\\\n",
       "\t4 & Ala & 4 & 5.5 \\\\\n",
       "\\end{tabular}\n"
      ],
      "text/plain": [
       "\u001b[1m4×3 DataFrame\u001b[0m\n",
       "\u001b[1m Row \u001b[0m│\u001b[1m Student \u001b[0m\u001b[1m Id    \u001b[0m\u001b[1m Marks   \u001b[0m\n",
       "     │\u001b[90m String7 \u001b[0m\u001b[90m Int64 \u001b[0m\u001b[90m Float64 \u001b[0m\n",
       "─────┼─────────────────────────\n",
       "   1 │ Mohamed      1     18.0\n",
       "   2 │ Aymen        2      7.0\n",
       "   3 │ Rami         3     12.0\n",
       "   4 │ Ala          4      5.5"
      ]
     },
     "execution_count": 105,
     "metadata": {},
     "output_type": "execute_result"
    }
   ],
   "source": [
    "CSV.read(\"test-file.csv\", DataFrame)"
   ]
  },
  {
   "cell_type": "markdown",
   "metadata": {},
   "source": [
    "### Logical Arrays\n",
    "Use logical expressions to help extracting elements of interest from ${\\tt Julia}$ arrays."
   ]
  },
  {
   "cell_type": "code",
   "execution_count": 106,
   "metadata": {},
   "outputs": [
    {
     "name": "stdout",
     "output_type": "stream",
     "text": [
      "ComplexF64[1.0 + 0.0im, 2.0 + 0.0im, -5.0 + 0.0im, 7.2 + 0.0im, 0.0 + 3.0im]\n"
     ]
    },
    {
     "data": {
      "text/plain": [
       "Vector{ComplexF64}\u001b[90m (alias for \u001b[39m\u001b[90mArray{Complex{Float64}, 1}\u001b[39m\u001b[90m)\u001b[39m"
      ]
     },
     "execution_count": 106,
     "metadata": {},
     "output_type": "execute_result"
    }
   ],
   "source": [
    "x = [1, 2, -5, 7.2, 3im]\n",
    "println(x)\n",
    "typeof(x)"
   ]
  },
  {
   "cell_type": "code",
   "execution_count": 107,
   "metadata": {},
   "outputs": [
    {
     "name": "stdout",
     "output_type": "stream",
     "text": [
      "ComplexF64[2.0 + 0.0im, 0.0 + 3.0im]"
     ]
    }
   ],
   "source": [
    "idx = [false, true, false, false, true]\n",
    "print(x[idx])"
   ]
  },
  {
   "cell_type": "code",
   "execution_count": 108,
   "metadata": {},
   "outputs": [
    {
     "data": {
      "text/plain": [
       "5×4 Matrix{Float64}:\n",
       " 6.11853e-310  6.11857e-310  6.11857e-310  6.11857e-310\n",
       " 6.11857e-310  6.11857e-310  6.11857e-310  6.11857e-310\n",
       " 6.11857e-310  6.11857e-310  6.11857e-310  6.11857e-310\n",
       " 6.11857e-310  6.11857e-310  6.11857e-310  6.11857e-310\n",
       " 6.11857e-310  6.11857e-310  6.11857e-310  6.11857e-310"
      ]
     },
     "execution_count": 108,
     "metadata": {},
     "output_type": "execute_result"
    }
   ],
   "source": [
    "M = Array{Float64, 2}(undef, 5, 4)"
   ]
  },
  {
   "cell_type": "code",
   "execution_count": 109,
   "metadata": {},
   "outputs": [],
   "source": [
    "row_idx = [true, false, true, true, false];\n",
    "col_idx = [false, true, true, false];"
   ]
  },
  {
   "cell_type": "code",
   "execution_count": 110,
   "metadata": {},
   "outputs": [
    {
     "data": {
      "text/plain": [
       "3×4 Matrix{Float64}:\n",
       " 6.11853e-310  6.11857e-310  6.11857e-310  6.11857e-310\n",
       " 6.11857e-310  6.11857e-310  6.11857e-310  6.11857e-310\n",
       " 6.11857e-310  6.11857e-310  6.11857e-310  6.11857e-310"
      ]
     },
     "execution_count": 110,
     "metadata": {},
     "output_type": "execute_result"
    }
   ],
   "source": [
    "M[row_idx, :]"
   ]
  },
  {
   "cell_type": "code",
   "execution_count": 111,
   "metadata": {},
   "outputs": [
    {
     "data": {
      "text/plain": [
       "5×2 Matrix{Float64}:\n",
       " 6.11857e-310  6.11857e-310\n",
       " 6.11857e-310  6.11857e-310\n",
       " 6.11857e-310  6.11857e-310\n",
       " 6.11857e-310  6.11857e-310\n",
       " 6.11857e-310  6.11857e-310"
      ]
     },
     "execution_count": 111,
     "metadata": {},
     "output_type": "execute_result"
    }
   ],
   "source": [
    "M[:, col_idx]"
   ]
  },
  {
   "cell_type": "code",
   "execution_count": 112,
   "metadata": {},
   "outputs": [
    {
     "data": {
      "text/plain": [
       "3×2 Matrix{Float64}:\n",
       " 6.11857e-310  6.11857e-310\n",
       " 6.11857e-310  6.11857e-310\n",
       " 6.11857e-310  6.11857e-310"
      ]
     },
     "execution_count": 112,
     "metadata": {},
     "output_type": "execute_result"
    }
   ],
   "source": [
    "M[row_idx, col_idx]"
   ]
  },
  {
   "cell_type": "markdown",
   "metadata": {},
   "source": [
    "### Programming\n",
    "Write programs that execute code based on some condition."
   ]
  },
  {
   "cell_type": "code",
   "execution_count": 113,
   "metadata": {},
   "outputs": [
    {
     "data": {
      "text/latex": [
       "\\textbf{Conditional Evaluation}\n",
       "\n"
      ],
      "text/markdown": [
       "**Conditional Evaluation**\n"
      ],
      "text/plain": [
       "  \u001b[1mConditional Evaluation\u001b[22m"
      ]
     },
     "execution_count": 113,
     "metadata": {},
     "output_type": "execute_result"
    }
   ],
   "source": [
    "md\"**Conditional Evaluation**\""
   ]
  },
  {
   "cell_type": "code",
   "execution_count": 114,
   "metadata": {},
   "outputs": [
    {
     "name": "stdout",
     "output_type": "stream",
     "text": [
      "π is equal to π\n"
     ]
    }
   ],
   "source": [
    "a, b = π, π\n",
    "if a < b\n",
    "    println(\"$a is less than $b\")\n",
    "elseif a > b\n",
    "    println(\"$a is greater than $b\")\n",
    "else\n",
    "    println(\"$a is equal to $b\")\n",
    "end"
   ]
  },
  {
   "cell_type": "code",
   "execution_count": 115,
   "metadata": {},
   "outputs": [
    {
     "data": {
      "text/latex": [
       "\\textbf{\\texttt{While} Loop}\n",
       "\n"
      ],
      "text/markdown": [
       "**`While` Loop**\n"
      ],
      "text/plain": [
       "  \u001b[1m\u001b[36mWhile\u001b[39m Loop\u001b[22m"
      ]
     },
     "execution_count": 115,
     "metadata": {},
     "output_type": "execute_result"
    }
   ],
   "source": [
    "md\"**`While` Loop**\""
   ]
  },
  {
   "cell_type": "code",
   "execution_count": 116,
   "metadata": {},
   "outputs": [
    {
     "name": "stdout",
     "output_type": "stream",
     "text": [
      "Item #1 is Blueberry\n",
      "Item #2 is Orange\n",
      "Item #3 is Banana\n",
      "Item #4 is Raspberry\n",
      "Item #5 is Strawberry\n"
     ]
    }
   ],
   "source": [
    "fruits = [\"Blueberry\", \"Orange\", \"Banana\", \"Raspberry\", \"Strawberry\"]\n",
    "iter = 1\n",
    "while iter ≤ length(fruits)\n",
    "    println(\"Item #$iter is $(fruits[iter])\")\n",
    "    iter +=1\n",
    "end"
   ]
  },
  {
   "cell_type": "code",
   "execution_count": 117,
   "metadata": {},
   "outputs": [
    {
     "data": {
      "text/latex": [
       "\\textbf{\\texttt{For} Loop}\n",
       "\n"
      ],
      "text/markdown": [
       "**`For` Loop**\n"
      ],
      "text/plain": [
       "  \u001b[1m\u001b[36mFor\u001b[39m Loop\u001b[22m"
      ]
     },
     "execution_count": 117,
     "metadata": {},
     "output_type": "execute_result"
    }
   ],
   "source": [
    "md\"**`For` Loop**\""
   ]
  },
  {
   "cell_type": "code",
   "execution_count": 118,
   "metadata": {},
   "outputs": [
    {
     "name": "stdout",
     "output_type": "stream",
     "text": [
      "Item #1 is Broccoli\n",
      "Item #2 is Garlic\n",
      "Item #3 is Mushrooms\n",
      "Item #4 is Potatoes\n",
      "Item #5 is Tomatoes\n"
     ]
    }
   ],
   "source": [
    "vegetables = [\"Broccoli\", \"Garlic\", \"Mushrooms\", \"Potatoes\", \"Tomatoes\"]\n",
    "i = 1\n",
    "for item in vegetables\n",
    "    println(\"Item #$i is $item\")\n",
    "    i += 1\n",
    "end"
   ]
  },
  {
   "cell_type": "markdown",
   "metadata": {},
   "source": [
    "### Final Project\n",
    "Bring together concepts that you have learned with a project."
   ]
  },
  {
   "cell_type": "markdown",
   "metadata": {},
   "source": [
    "This simple project consists of implementing a basic calculator. This latter could have the ability to perform basic arithmetic operations like _addition_, _subtraction_, _multiplication_, and _division_.\n",
    "\n",
    "Here are the steps to be followed:\n",
    "1. Create a function called `calculator()` that takes two arguments, `x` and `y`, and a char operation that specifies which operation to perform.\n",
    "1. Use an `if-else` statement to check the value of operation. Depending on the value of operation, call the appropriate function to perform the calculation.\n",
    "1. Test the calculator function by calling it with different values for `x`, `y`, and operation and printing the result.\n",
    "1. Once the basic calculator is working, we can improve it by adding more functionality such as handling decimals and negative numbers, or implementing more advanced operations such as square root, power, trigonometry and so on.\n",
    "1. Finally, we could also experiment with different input types, such as command line arguments or a graphical user interface."
   ]
  },
  {
   "cell_type": "code",
   "execution_count": 119,
   "metadata": {},
   "outputs": [
    {
     "data": {
      "text/latex": [
       "Here is an example of how the basic calculator function could look like:\n",
       "\n"
      ],
      "text/markdown": [
       "Here is an example of how the basic calculator function could look like:\n"
      ],
      "text/plain": [
       "  Here is an example of how the basic calculator function could look like:"
      ]
     },
     "execution_count": 119,
     "metadata": {},
     "output_type": "execute_result"
    }
   ],
   "source": [
    "md\"Here is an example of how the basic calculator function could look like:\""
   ]
  },
  {
   "cell_type": "code",
   "execution_count": 120,
   "metadata": {},
   "outputs": [
    {
     "data": {
      "text/plain": [
       "calculator (generic function with 1 method)"
      ]
     },
     "execution_count": 120,
     "metadata": {},
     "output_type": "execute_result"
    }
   ],
   "source": [
    "function calculator(x::Number, y::Number, op::Char)\n",
    "    if op == '+'\n",
    "        return x + y\n",
    "    elseif op == '-'\n",
    "        return x - y\n",
    "    elseif op == '*'\n",
    "        return x * y\n",
    "    elseif op in ['/', '÷']\n",
    "        return x / y\n",
    "    else\n",
    "        return \"INVALID OPERATION\"\n",
    "    end\n",
    "end"
   ]
  },
  {
   "cell_type": "code",
   "execution_count": 121,
   "metadata": {},
   "outputs": [
    {
     "name": "stdout",
     "output_type": "stream",
     "text": [
      "Summation is 8\n",
      "Subtraction is 2\n",
      "Multiplication is 15\n",
      "Division is 1.6666666666666667\n",
      "INVALID OPERATION\n"
     ]
    }
   ],
   "source": [
    "println(\"Summation is $(calculator(5, 3, '+'))\")\n",
    "println(\"Subtraction is $(calculator(5, 3, '-'))\")\n",
    "println(\"Multiplication is $(calculator(5, 3, '*'))\")\n",
    "println(\"Division is $(calculator(5, 3, '÷'))\")\n",
    "println(calculator(5, 3, '×'))"
   ]
  },
  {
   "cell_type": "markdown",
   "metadata": {},
   "source": [
    "**Miscallenous**"
   ]
  },
  {
   "cell_type": "code",
   "execution_count": 122,
   "metadata": {
    "tags": []
   },
   "outputs": [
    {
     "name": "stdout",
     "output_type": "stream",
     "text": [
      "Julia Version 1.11.1\n",
      "Commit 8f5b7ca12ad (2024-10-16 10:53 UTC)\n",
      "Build Info:\n",
      "  Official https://julialang.org/ release\n",
      "Platform Info:\n",
      "  OS: Linux (x86_64-linux-gnu)\n",
      "  CPU: 8 × Intel(R) Core(TM) i7-8565U CPU @ 1.80GHz\n",
      "  WORD_SIZE: 64\n",
      "  LLVM: libLLVM-16.0.6 (ORCJIT, skylake)\n",
      "Threads: 1 default, 0 interactive, 1 GC (on 8 virtual cores)\n",
      "Environment:\n",
      "  LD_LIBRARY_PATH = /home/mhamdi/torch/install/lib:\n",
      "  DYLD_LIBRARY_PATH = /home/mhamdi/torch/install/lib:\n",
      "  JULIA_NUM_THREADS = 8\n"
     ]
    }
   ],
   "source": [
    "md\"Check your version of Julia\"\n",
    "versioninfo()"
   ]
  },
  {
   "cell_type": "code",
   "execution_count": 123,
   "metadata": {
    "tags": []
   },
   "outputs": [
    {
     "data": {
      "text/latex": [
       "The macro \\texttt{@edit} shows the defintion of a function when invoked with specific arguments\n",
       "\n"
      ],
      "text/markdown": [
       "The macro `@edit` shows the defintion of a function when invoked with specific arguments\n"
      ],
      "text/plain": [
       "  The macro \u001b[36m@edit\u001b[39m shows the defintion of a function when invoked with specific\n",
       "  arguments"
      ]
     },
     "execution_count": 123,
     "metadata": {},
     "output_type": "execute_result"
    }
   ],
   "source": [
    "md\"The macro `@edit` shows the defintion of a function when invoked with specific arguments\"\n",
    "# @edit maximum([-1, 0, 1])"
   ]
  },
  {
   "cell_type": "code",
   "execution_count": 124,
   "metadata": {
    "tags": []
   },
   "outputs": [
    {
     "data": {
      "text/latex": [
       "\\begin{tabular}\n",
       "{l | r | l}\n",
       "name & size & summary \\\\\n",
       "\\hline\n",
       "Base &  & Module \\\\\n",
       "Core &  & Module \\\\\n",
       "Foo & 0 bytes & Foo (generic function with 1 method) \\\\\n",
       "M & 208 bytes & 5×4 Matrix\\{Float64\\} \\\\\n",
       "Main &  & Module \\\\\n",
       "PLOTS\\_DEFAULTS & 384 bytes & Dict\\{Symbol, Symbol\\} with 1 entry \\\\\n",
       "a & 0 bytes & Irrational\\{:π\\} \\\\\n",
       "b & 0 bytes & Irrational\\{:π\\} \\\\\n",
       "bar & 0 bytes & bar (generic function with 1 method) \\\\\n",
       "calculator & 0 bytes & calculator (generic function with 1 method) \\\\\n",
       "col\\_idx & 44 bytes & 4-element Vector\\{Bool\\} \\\\\n",
       "df & 827 bytes & 4×3 DataFrame \\\\\n",
       "dict & 431 bytes & Dict\\{String, Int64\\} with 3 entries \\\\\n",
       "docs & 7.438 KiB & Markdown.MD \\\\\n",
       "f & 0 bytes & f (generic function with 4 methods) \\\\\n",
       "file & 380 bytes & IOStream \\\\\n",
       "foo & 0 bytes & foo (generic function with 4 methods) \\\\\n",
       "fruits & 160 bytes & 5-element Vector\\{String\\} \\\\\n",
       "g & 0 bytes & g (generic function with 1 method) \\\\\n",
       "h & 0 bytes & h (generic function with 1 method) \\\\\n",
       "i & 8 bytes & Int64 \\\\\n",
       "idx & 45 bytes & 5-element Vector\\{Bool\\} \\\\\n",
       "iter & 8 bytes & Int64 \\\\\n",
       "lst & 176 bytes & 5-element Vector\\{Any\\} \\\\\n",
       "mycos & 0 bytes & mycos (generic function with 2 methods) \\\\\n",
       "row\\_idx & 45 bytes & 5-element Vector\\{Bool\\} \\\\\n",
       "showall & 0 bytes & showall (generic function with 1 method) \\\\\n",
       "str & 19 bytes & 11-codeunit String \\\\\n",
       "tmp & 1 byte & UInt8 \\\\\n",
       "var & 80 bytes & 2×4 BitMatrix \\\\\n",
       "vegetables & 159 bytes & 5-element Vector\\{String\\} \\\\\n",
       "x & 120 bytes & 5-element Vector\\{ComplexF64\\} \\\\\n",
       "y & 781.289 KiB & 100000-element Vector\\{Float64\\} \\\\\n",
       "z & 768 bytes & 91-element Vector\\{Float64\\} \\\\\n",
       "\\end{tabular}\n"
      ],
      "text/markdown": [
       "| name           |        size | summary                                     |\n",
       "|:-------------- | -----------:|:------------------------------------------- |\n",
       "| Base           |             | Module                                      |\n",
       "| Core           |             | Module                                      |\n",
       "| Foo            |     0 bytes | Foo (generic function with 1 method)        |\n",
       "| M              |   208 bytes | 5×4 Matrix{Float64}                         |\n",
       "| Main           |             | Module                                      |\n",
       "| PLOTS_DEFAULTS |   384 bytes | Dict{Symbol, Symbol} with 1 entry           |\n",
       "| a              |     0 bytes | Irrational{:π}                              |\n",
       "| b              |     0 bytes | Irrational{:π}                              |\n",
       "| bar            |     0 bytes | bar (generic function with 1 method)        |\n",
       "| calculator     |     0 bytes | calculator (generic function with 1 method) |\n",
       "| col_idx        |    44 bytes | 4-element Vector{Bool}                      |\n",
       "| df             |   827 bytes | 4×3 DataFrame                               |\n",
       "| dict           |   431 bytes | Dict{String, Int64} with 3 entries          |\n",
       "| docs           |   7.438 KiB | Markdown.MD                                 |\n",
       "| f              |     0 bytes | f (generic function with 4 methods)         |\n",
       "| file           |   380 bytes | IOStream                                    |\n",
       "| foo            |     0 bytes | foo (generic function with 4 methods)       |\n",
       "| fruits         |   160 bytes | 5-element Vector{String}                    |\n",
       "| g              |     0 bytes | g (generic function with 1 method)          |\n",
       "| h              |     0 bytes | h (generic function with 1 method)          |\n",
       "| i              |     8 bytes | Int64                                       |\n",
       "| idx            |    45 bytes | 5-element Vector{Bool}                      |\n",
       "| iter           |     8 bytes | Int64                                       |\n",
       "| lst            |   176 bytes | 5-element Vector{Any}                       |\n",
       "| mycos          |     0 bytes | mycos (generic function with 2 methods)     |\n",
       "| row_idx        |    45 bytes | 5-element Vector{Bool}                      |\n",
       "| showall        |     0 bytes | showall (generic function with 1 method)    |\n",
       "| str            |    19 bytes | 11-codeunit String                          |\n",
       "| tmp            |      1 byte | UInt8                                       |\n",
       "| var            |    80 bytes | 2×4 BitMatrix                               |\n",
       "| vegetables     |   159 bytes | 5-element Vector{String}                    |\n",
       "| x              |   120 bytes | 5-element Vector{ComplexF64}                |\n",
       "| y              | 781.289 KiB | 100000-element Vector{Float64}              |\n",
       "| z              |   768 bytes | 91-element Vector{Float64}                  |\n"
      ],
      "text/plain": [
       "  name                  size summary                                    \n",
       "  –––––––––––––– ––––––––––– –––––––––––––––––––––––––––––––––––––––––––\n",
       "  Base                       Module                                     \n",
       "  Core                       Module                                     \n",
       "  Foo                0 bytes Foo (generic function with 1 method)       \n",
       "  M                208 bytes 5×4 Matrix{Float64}                        \n",
       "  Main                       Module                                     \n",
       "  PLOTS_DEFAULTS   384 bytes Dict{Symbol, Symbol} with 1 entry          \n",
       "  a                  0 bytes Irrational{:π}                             \n",
       "  b                  0 bytes Irrational{:π}                             \n",
       "  bar                0 bytes bar (generic function with 1 method)       \n",
       "  calculator         0 bytes calculator (generic function with 1 method)\n",
       "  col_idx           44 bytes 4-element Vector{Bool}                     \n",
       "  df               827 bytes 4×3 DataFrame                              \n",
       "  dict             431 bytes Dict{String, Int64} with 3 entries         \n",
       "  docs             7.438 KiB Markdown.MD                                \n",
       "  f                  0 bytes f (generic function with 4 methods)        \n",
       "  file             380 bytes IOStream                                   \n",
       "  foo                0 bytes foo (generic function with 4 methods)      \n",
       "  fruits           160 bytes 5-element Vector{String}                   \n",
       "  g                  0 bytes g (generic function with 1 method)         \n",
       "  h                  0 bytes h (generic function with 1 method)         \n",
       "  i                  8 bytes Int64                                      \n",
       "  idx               45 bytes 5-element Vector{Bool}                     \n",
       "  iter               8 bytes Int64                                      \n",
       "  lst              176 bytes 5-element Vector{Any}                      \n",
       "  mycos              0 bytes mycos (generic function with 2 methods)    \n",
       "  row_idx           45 bytes 5-element Vector{Bool}                     \n",
       "  showall            0 bytes showall (generic function with 1 method)   \n",
       "  str               19 bytes 11-codeunit String                         \n",
       "  tmp                 1 byte UInt8                                      \n",
       "  var               80 bytes 2×4 BitMatrix                              \n",
       "  vegetables       159 bytes 5-element Vector{String}                   \n",
       "  x                120 bytes 5-element Vector{ComplexF64}               \n",
       "  y              781.289 KiB 100000-element Vector{Float64}             \n",
       "  z                768 bytes 91-element Vector{Float64}                 "
      ]
     },
     "execution_count": 124,
     "metadata": {},
     "output_type": "execute_result"
    }
   ],
   "source": [
    "md\"`varinfo` lists all global variables and their corresponding types in the current scope\"\n",
    "varinfo()"
   ]
  },
  {
   "cell_type": "markdown",
   "metadata": {
    "tags": []
   },
   "source": [
    "_Modules_"
   ]
  },
  {
   "cell_type": "code",
   "execution_count": 125,
   "metadata": {
    "tags": []
   },
   "outputs": [
    {
     "data": {
      "text/plain": [
       "Main.MyModule"
      ]
     },
     "execution_count": 125,
     "metadata": {},
     "output_type": "execute_result"
    }
   ],
   "source": [
    "module MyModule\n",
    "export a\n",
    "a = 0\n",
    "b = true\n",
    "end"
   ]
  },
  {
   "cell_type": "code",
   "execution_count": 126,
   "metadata": {
    "tags": []
   },
   "outputs": [
    {
     "data": {
      "text/latex": [
       "\\begin{tabular}\n",
       "{l | r | l}\n",
       "name & size & summary \\\\\n",
       "\\hline\n",
       "MyModule & 2.234 KiB & Module \\\\\n",
       "a & 8 bytes & Int64 \\\\\n",
       "\\end{tabular}\n"
      ],
      "text/markdown": [
       "| name     |      size | summary |\n",
       "|:-------- | ---------:|:------- |\n",
       "| MyModule | 2.234 KiB | Module  |\n",
       "| a        |   8 bytes | Int64   |\n"
      ],
      "text/plain": [
       "  name          size summary\n",
       "  –––––––– ––––––––– –––––––\n",
       "  MyModule 2.234 KiB Module \n",
       "  a          8 bytes Int64  "
      ]
     },
     "execution_count": 126,
     "metadata": {},
     "output_type": "execute_result"
    }
   ],
   "source": [
    "varinfo(MyModule)"
   ]
  },
  {
   "cell_type": "code",
   "execution_count": 127,
   "metadata": {
    "tags": []
   },
   "outputs": [
    {
     "data": {
      "text/plain": [
       "π = 3.1415926535897..."
      ]
     },
     "execution_count": 127,
     "metadata": {},
     "output_type": "execute_result"
    }
   ],
   "source": [
    "a"
   ]
  },
  {
   "cell_type": "code",
   "execution_count": 128,
   "metadata": {
    "tags": []
   },
   "outputs": [
    {
     "data": {
      "text/plain": [
       "0"
      ]
     },
     "execution_count": 128,
     "metadata": {},
     "output_type": "execute_result"
    }
   ],
   "source": [
    "MyModule.a"
   ]
  },
  {
   "cell_type": "code",
   "execution_count": 129,
   "metadata": {
    "tags": []
   },
   "outputs": [
    {
     "data": {
      "text/plain": [
       "true"
      ]
     },
     "execution_count": 129,
     "metadata": {},
     "output_type": "execute_result"
    }
   ],
   "source": [
    "MyModule.b"
   ]
  },
  {
   "cell_type": "code",
   "execution_count": 130,
   "metadata": {},
   "outputs": [
    {
     "name": "stderr",
     "output_type": "stream",
     "text": [
      "WARNING: using MyModule.a in module Main conflicts with an existing identifier.\n"
     ]
    }
   ],
   "source": [
    "using .MyModule"
   ]
  },
  {
   "cell_type": "code",
   "execution_count": 131,
   "metadata": {},
   "outputs": [
    {
     "data": {
      "text/plain": [
       "(π, π)"
      ]
     },
     "execution_count": 131,
     "metadata": {},
     "output_type": "execute_result"
    }
   ],
   "source": [
    "a, b"
   ]
  },
  {
   "cell_type": "code",
   "execution_count": 132,
   "metadata": {},
   "outputs": [
    {
     "name": "stderr",
     "output_type": "stream",
     "text": [
      "WARNING: import of MyModule.b into Main conflicts with an existing identifier; ignored.\n"
     ]
    }
   ],
   "source": [
    "using .MyModule: b"
   ]
  },
  {
   "cell_type": "code",
   "execution_count": 133,
   "metadata": {},
   "outputs": [
    {
     "data": {
      "text/plain": [
       "π = 3.1415926535897..."
      ]
     },
     "execution_count": 133,
     "metadata": {},
     "output_type": "execute_result"
    }
   ],
   "source": [
    "b"
   ]
  },
  {
   "cell_type": "code",
   "execution_count": null,
   "metadata": {},
   "outputs": [],
   "source": []
  }
 ],
 "metadata": {
  "kernelspec": {
   "display_name": "Julia 1.11.1",
   "language": "julia",
   "name": "julia-1.11"
  },
  "language_info": {
   "file_extension": ".jl",
   "mimetype": "application/julia",
   "name": "julia",
   "version": "1.11.1"
  }
 },
 "nbformat": 4,
 "nbformat_minor": 4
}
