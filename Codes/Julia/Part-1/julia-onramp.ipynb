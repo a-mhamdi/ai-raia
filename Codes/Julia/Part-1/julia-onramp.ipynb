{
 "cells": [
  {
   "cell_type": "markdown",
   "metadata": {},
   "source": [
    "# Lab. \\#1: ${\\tt Julia}$ Onramp\n",
    "---"
   ]
  },
  {
   "cell_type": "markdown",
   "metadata": {},
   "source": [
    "### GOALS\n",
    "- Enter commands in ${\\tt Julia}$ REPL to create variables and perform calculations;\n",
    "- Write and save programs;\n",
    "- Use indexing to extract and modify rows, columns, and elements of ${\\tt Julia}$ tensors."
   ]
  },
  {
   "cell_type": "markdown",
   "metadata": {},
   "source": [
    "${\\tt Julia}$ is a standalone program which can be downloaded from [https://julialang.org/downloads/](https://julialang.org/downloads/)"
   ]
  },
  {
   "cell_type": "markdown",
   "metadata": {
    "tags": []
   },
   "source": [
    "**Getting around**"
   ]
  },
  {
   "cell_type": "markdown",
   "metadata": {},
   "source": [
    "By default, Julia runs in an interactive terminal called the REPL. In this mode, Some useful commands are:\n",
    "1. `^C` aborts execution\n",
    "1. `^D` exits Julia\n",
    "1. `?` enters help mode\n",
    "1. `;` enters system shell mode\n",
    "1. `]` enters package manager mode\n",
    "1. `^l` clears screen"
   ]
  },
  {
   "cell_type": "markdown",
   "metadata": {},
   "source": [
    "We begin first by activating the environement within the desired folder."
   ]
  },
  {
   "cell_type": "markdown",
   "metadata": {},
   "source": [
    "From the REPL interface, either type\n",
    "```julia\n",
    "using Pkg  \n",
    "pkg\"activate .\"\n",
    "```\n",
    "or access the package mode by typing `]` and simply write\n",
    "```julia\n",
    "activate .\n",
    "```\n",
    "Always within the package mode, to see the full list of installed packages\n",
    "```julia\n",
    "st\n",
    "```"
   ]
  },
  {
   "cell_type": "code",
   "execution_count": 2,
   "metadata": {},
   "outputs": [
    {
     "name": "stderr",
     "output_type": "stream",
     "text": [
      "\u001b[32m\u001b[1m  Activating\u001b[22m\u001b[39m project at `~/Work/git-repos/AI-ML-DL/jlai/Codes/Julia/Part-1`\n"
     ]
    }
   ],
   "source": [
    "using Pkg\n",
    "pkg\"activate .\""
   ]
  },
  {
   "cell_type": "code",
   "execution_count": 3,
   "metadata": {},
   "outputs": [
    {
     "name": "stdout",
     "output_type": "stream",
     "text": [
      "\u001b[32m\u001b[1mStatus\u001b[22m\u001b[39m `~/Work/git-repos/AI-ML-DL/jlai/Codes/Julia/Part-1/Project.toml`\n",
      "  \u001b[90m[587475ba] \u001b[39mFlux v0.14.21\n",
      "  \u001b[90m[a9166f1b] \u001b[39mFuzzy v0.3.1\n",
      "  \u001b[90m[7073ff75] \u001b[39mIJulia v1.25.0\n",
      "  \u001b[90m[d8c32880] \u001b[39mImageInTerminal v0.5.2\n",
      "  \u001b[90m[91a5bcdd] \u001b[39mPlots v1.40.8\n",
      "  \u001b[90m[92933f4c] \u001b[39mProgressMeter v1.10.2\n"
     ]
    }
   ],
   "source": [
    "]st"
   ]
  },
  {
   "cell_type": "markdown",
   "metadata": {},
   "source": [
    "To add the **Markdown** package for instance, we write"
   ]
  },
  {
   "cell_type": "code",
   "execution_count": 4,
   "metadata": {
    "tags": []
   },
   "outputs": [
    {
     "name": "stderr",
     "output_type": "stream",
     "text": [
      "\u001b[32m\u001b[1m   Resolving\u001b[22m\u001b[39m package versions...\n",
      "\u001b[32m\u001b[1m    Updating\u001b[22m\u001b[39m `~/Work/git-repos/AI-ML-DL/jlai/Codes/Julia/Part-1/Project.toml`\n",
      "  \u001b[90m[d6f4376e] \u001b[39m\u001b[92m+ Markdown\u001b[39m\n",
      "\u001b[32m\u001b[1m  No Changes\u001b[22m\u001b[39m to `~/Work/git-repos/AI-ML-DL/jlai/Codes/Julia/Part-1/Manifest.toml`\n"
     ]
    }
   ],
   "source": [
    "]add Markdown"
   ]
  },
  {
   "cell_type": "markdown",
   "metadata": {},
   "source": [
    "To be able to use it, we do as follows"
   ]
  },
  {
   "cell_type": "code",
   "execution_count": 5,
   "metadata": {},
   "outputs": [],
   "source": [
    "using Markdown"
   ]
  },
  {
   "cell_type": "code",
   "execution_count": 6,
   "metadata": {},
   "outputs": [
    {
     "data": {
      "text/latex": [
       "This a text inside a code cell, thanks to \\textbf{Markdown} package. I can \\emph{emphasize} anything. Make other things \\textbf{bold}\n",
       "\n"
      ],
      "text/markdown": [
       "This a text inside a code cell, thanks to **Markdown** package. I can *emphasize* anything. Make other things **bold**\n"
      ],
      "text/plain": [
       "  This a text inside a code cell, thanks to \u001b[1mMarkdown\u001b[22m package. I can \u001b[4memphasize\u001b[24m\n",
       "  anything. Make other things \u001b[1mbold\u001b[22m"
      ]
     },
     "execution_count": 6,
     "metadata": {},
     "output_type": "execute_result"
    }
   ],
   "source": [
    "md\"\"\"\n",
    "This a text inside a code cell, thanks to **Markdown** package. I can _emphasize_ anything. Make other things **bold**\n",
    "\"\"\""
   ]
  },
  {
   "cell_type": "markdown",
   "metadata": {},
   "source": [
    "Runnig `Julia` in Jupyer Notebookor Jupyter Lab is pretty handy. We only need to install the appropriate kernel. In order to add `Julia` kernel `IJulia` to Jupyter Notebook and/or `JupyterLab` IDEs, we begin by executing the following commands:\n",
    "```julia\n",
    "using Pkg  \n",
    "Pkg.add(\"IJulia\")\n",
    "```\n",
    "If we want to get `JupyterLab` instance running in current directory, we can do:\n",
    "```julia\n",
    "jupyterlab(dir=pwd(), detached=true)\n",
    "```"
   ]
  },
  {
   "cell_type": "markdown",
   "metadata": {},
   "source": [
    "In case things do not work, we run the two following commands from ${\\tt Julia}$ REPL which launch jupyter environment.\n",
    "```julia\n",
    "using IJulia  \n",
    "installkernel(\"Julia\")\n",
    "```"
   ]
  },
  {
   "cell_type": "markdown",
   "metadata": {},
   "source": [
    "The shell mode is also available through the REPL to evaluate some os commands. To do so, simply preface the regular command by semicolon. For instance, `pwd` prints the path to working directory and `ls` allows to list the content of the current directory."
   ]
  },
  {
   "cell_type": "code",
   "execution_count": 7,
   "metadata": {},
   "outputs": [
    {
     "name": "stdout",
     "output_type": "stream",
     "text": [
      "/home/mhamdi/Work/git-repos/AI-ML-DL/jlai/Codes/Julia/Part-1\n"
     ]
    }
   ],
   "source": [
    ";pwd"
   ]
  },
  {
   "cell_type": "code",
   "execution_count": 8,
   "metadata": {},
   "outputs": [
    {
     "name": "stdout",
     "output_type": "stream",
     "text": [
      "total 724\n",
      "drwx------ 3 mhamdi mhamdi   4096 Oct  5 16:29 .\n",
      "drwx------ 7 mhamdi mhamdi   4096 Apr 20 01:25 ..\n",
      "drwxrwxr-x 2 mhamdi mhamdi   4096 Oct  5 16:27 .ipynb_checkpoints\n",
      "-rw------- 1 mhamdi mhamdi 646953 Oct  5 16:29 julia-onramp.ipynb\n",
      "-rw-rw-r-- 1 mhamdi mhamdi  61142 Oct  5 16:31 Manifest.toml\n",
      "-rw-rw-r-- 1 mhamdi mhamdi    357 Oct  5 16:31 Project.toml\n",
      "-rw------- 1 mhamdi mhamdi   3203 Jan 22  2023 selection-process.jl\n",
      "-rw------- 1 mhamdi mhamdi   1693 Jan 22  2023 tipper.jl\n",
      "-rw-r--r-- 1 mhamdi mhamdi     18 Oct  5 15:38 .wakatime-project\n",
      "-rw------- 1 mhamdi mhamdi   2122 Jul  4  2023 xor-gate.jl\n"
     ]
    }
   ],
   "source": [
    ";ls -la"
   ]
  },
  {
   "cell_type": "markdown",
   "metadata": {},
   "source": [
    "### Getting Help\n",
    "In order to seek help on a particular function. We just use the `?` mark. We can use the ${\\tt Julia}$ documentation to discover more pieces of information about ${\\tt Julia}$ features."
   ]
  },
  {
   "cell_type": "code",
   "execution_count": 9,
   "metadata": {},
   "outputs": [
    {
     "name": "stdout",
     "output_type": "stream",
     "text": [
      "search: \u001b[0m\u001b[1mc\u001b[22m\u001b[0m\u001b[1mo\u001b[22m\u001b[0m\u001b[1ms\u001b[22m \u001b[0m\u001b[1mc\u001b[22m\u001b[0m\u001b[1mo\u001b[22m\u001b[0m\u001b[1ms\u001b[22mh \u001b[0m\u001b[1mc\u001b[22m\u001b[0m\u001b[1mo\u001b[22m\u001b[0m\u001b[1ms\u001b[22md \u001b[0m\u001b[1mc\u001b[22m\u001b[0m\u001b[1mo\u001b[22m\u001b[0m\u001b[1ms\u001b[22mc \u001b[0m\u001b[1mc\u001b[22m\u001b[0m\u001b[1mo\u001b[22m\u001b[0m\u001b[1ms\u001b[22mpi a\u001b[0m\u001b[1mc\u001b[22m\u001b[0m\u001b[1mo\u001b[22m\u001b[0m\u001b[1ms\u001b[22m a\u001b[0m\u001b[1mc\u001b[22m\u001b[0m\u001b[1mo\u001b[22m\u001b[0m\u001b[1ms\u001b[22mh a\u001b[0m\u001b[1mc\u001b[22m\u001b[0m\u001b[1mo\u001b[22m\u001b[0m\u001b[1ms\u001b[22md sin\u001b[0m\u001b[1mc\u001b[22m\u001b[0m\u001b[1mo\u001b[22m\u001b[0m\u001b[1ms\u001b[22m sin\u001b[0m\u001b[1mc\u001b[22m\u001b[0m\u001b[1mo\u001b[22m\u001b[0m\u001b[1ms\u001b[22md sin\u001b[0m\u001b[1mc\u001b[22m\u001b[0m\u001b[1mo\u001b[22m\u001b[0m\u001b[1ms\u001b[22mpi \u001b[0m\u001b[1mc\u001b[22m\u001b[0m\u001b[1mo\u001b[22mn\u001b[0m\u001b[1ms\u001b[22mt\n",
      "\n"
     ]
    },
    {
     "data": {
      "text/latex": [
       "\\begin{verbatim}\n",
       "cos(x)\n",
       "\\end{verbatim}\n",
       "Compute cosine of \\texttt{x}, where \\texttt{x} is in radians.\n",
       "\n",
       "See also \\href{@ref}{\\texttt{cosd}}, \\href{@ref}{\\texttt{cospi}}, \\href{@ref}{\\texttt{sincos}}, \\href{@ref}{\\texttt{cis}}.\n",
       "\n",
       "\\rule{\\textwidth}{1pt}\n",
       "\\begin{verbatim}\n",
       "cos(A::AbstractMatrix)\n",
       "\\end{verbatim}\n",
       "Compute the matrix cosine of a square matrix \\texttt{A}.\n",
       "\n",
       "If \\texttt{A} is symmetric or Hermitian, its eigendecomposition (\\href{@ref}{\\texttt{eigen}}) is used to compute the cosine. Otherwise, the cosine is determined by calling \\href{@ref}{\\texttt{exp}}.\n",
       "\n",
       "\\section{Examples}\n",
       "\\begin{verbatim}\n",
       "julia> cos(fill(1.0, (2,2)))\n",
       "2×2 Matrix{Float64}:\n",
       "  0.291927  -0.708073\n",
       " -0.708073   0.291927\n",
       "\\end{verbatim}\n"
      ],
      "text/markdown": [
       "```\n",
       "cos(x)\n",
       "```\n",
       "\n",
       "Compute cosine of `x`, where `x` is in radians.\n",
       "\n",
       "See also [`cosd`](@ref), [`cospi`](@ref), [`sincos`](@ref), [`cis`](@ref).\n",
       "\n",
       "---\n",
       "\n",
       "```\n",
       "cos(A::AbstractMatrix)\n",
       "```\n",
       "\n",
       "Compute the matrix cosine of a square matrix `A`.\n",
       "\n",
       "If `A` is symmetric or Hermitian, its eigendecomposition ([`eigen`](@ref)) is used to compute the cosine. Otherwise, the cosine is determined by calling [`exp`](@ref).\n",
       "\n",
       "# Examples\n",
       "\n",
       "```jldoctest\n",
       "julia> cos(fill(1.0, (2,2)))\n",
       "2×2 Matrix{Float64}:\n",
       "  0.291927  -0.708073\n",
       " -0.708073   0.291927\n",
       "```\n"
      ],
      "text/plain": [
       "  \u001b[38;2;102;217;239mcos\u001b[0m(\u001b[0m\u001b[39mx\u001b[0m\u001b[39m)\u001b[0m\n",
       "\n",
       "\n",
       "  Compute cosine of \u001b[36mx\u001b[39m, where \u001b[36mx\u001b[39m is in radians.\n",
       "\n",
       "  See also \u001b[36mcosd\u001b[39m, \u001b[36mcospi\u001b[39m, \u001b[36msincos\u001b[39m, \u001b[36mcis\u001b[39m.\n",
       "\n",
       "  ────────────────────────────────────────────────────────────────────────────\n",
       "\n",
       "  \u001b[38;2;102;217;239mcos\u001b[0m(\u001b[0m\u001b[39mA\u001b[0m\u001b[38;2;249;38;114m::\u001b[0m\u001b[39mAbstractMatrix\u001b[0m\u001b[39m)\u001b[0m\n",
       "\n",
       "\n",
       "  Compute the matrix cosine of a square matrix \u001b[36mA\u001b[39m.\n",
       "\n",
       "  If \u001b[36mA\u001b[39m is symmetric or Hermitian, its eigendecomposition (\u001b[36meigen\u001b[39m) is used to\n",
       "  compute the cosine. Otherwise, the cosine is determined by calling \u001b[36mexp\u001b[39m.\n",
       "\n",
       "\u001b[1m  Examples\u001b[22m\n",
       "\u001b[1m  ≡≡≡≡≡≡≡≡\u001b[22m\n",
       "\n",
       "  \u001b[31;1mjulia> \u001b[0m\u001b[38;2;102;217;239mcos\u001b[0m(\u001b[0m\u001b[38;2;102;217;239mfill\u001b[0m(\u001b[0m\u001b[38;2;174;129;255m1.0\u001b[0m\u001b[39m,\u001b[0m \u001b[0m(\u001b[0m\u001b[38;2;174;129;255m2\u001b[0m\u001b[39m,\u001b[0m\u001b[38;2;174;129;255m2\u001b[0m\u001b[39m)\u001b[0m\u001b[39m)\u001b[0m\u001b[39m)\u001b[0m\n",
       "  \u001b[0m2×2 Matrix{Float64}:\n",
       "    0.291927  -0.708073\n",
       "   -0.708073   0.291927\n"
      ]
     },
     "execution_count": 9,
     "metadata": {},
     "output_type": "execute_result"
    }
   ],
   "source": [
    "?cos"
   ]
  },
  {
   "cell_type": "markdown",
   "metadata": {},
   "source": [
    "To print something on the standard output, it is possible to use either `print` and `println`. The last one displays the text and moves the cursor to the next line."
   ]
  },
  {
   "cell_type": "code",
   "execution_count": 10,
   "metadata": {},
   "outputs": [
    {
     "name": "stdout",
     "output_type": "stream",
     "text": [
      "Hello World"
     ]
    }
   ],
   "source": [
    "print(\"Hello\")\n",
    "print(' ')\n",
    "print(\"World\")"
   ]
  },
  {
   "cell_type": "code",
   "execution_count": 11,
   "metadata": {},
   "outputs": [
    {
     "name": "stdout",
     "output_type": "stream",
     "text": [
      "Hello\n",
      "World\n"
     ]
    }
   ],
   "source": [
    "println(\"Hello\")\n",
    "println(\"World\")"
   ]
  },
  {
   "cell_type": "markdown",
   "metadata": {},
   "source": [
    "**Data types: Dictionaries**"
   ]
  },
  {
   "cell_type": "code",
   "execution_count": 12,
   "metadata": {
    "tags": []
   },
   "outputs": [
    {
     "data": {
      "text/plain": [
       "Dict{String, Int64} with 3 entries:\n",
       "  \"Bicycle\"  => 2\n",
       "  \"Tricycle\" => 3\n",
       "  \"Unicycle\" => 1"
      ]
     },
     "execution_count": 12,
     "metadata": {},
     "output_type": "execute_result"
    }
   ],
   "source": [
    "dict = Dict(\n",
    "    # Name => # of wheels\n",
    "    \"Unicycle\" => 1,\n",
    "    \"Bicycle\" => 2,\n",
    "    \"Tricycle\" => 3\n",
    ")"
   ]
  },
  {
   "cell_type": "code",
   "execution_count": 13,
   "metadata": {
    "tags": []
   },
   "outputs": [
    {
     "data": {
      "text/plain": [
       "Dict{String, Int64}"
      ]
     },
     "execution_count": 13,
     "metadata": {},
     "output_type": "execute_result"
    }
   ],
   "source": [
    "typeof(dict)"
   ]
  },
  {
   "cell_type": "code",
   "execution_count": 14,
   "metadata": {
    "tags": []
   },
   "outputs": [
    {
     "data": {
      "text/plain": [
       "Dict{String, Int64} with 3 entries:\n",
       "  \"Bicycle\"  => 2\n",
       "  \"Tricycle\" => 3\n",
       "  \"Unicycle\" => 1"
      ]
     },
     "execution_count": 14,
     "metadata": {},
     "output_type": "execute_result"
    }
   ],
   "source": [
    "dict = Dict([(\"Unicycle\", 1), (\"Bicycle\", 2), (\"Tricycle\", 3)])"
   ]
  },
  {
   "cell_type": "code",
   "execution_count": 15,
   "metadata": {
    "tags": []
   },
   "outputs": [
    {
     "data": {
      "text/plain": [
       "2"
      ]
     },
     "execution_count": 15,
     "metadata": {},
     "output_type": "execute_result"
    }
   ],
   "source": [
    "dict[\"Bicycle\"]"
   ]
  },
  {
   "cell_type": "code",
   "execution_count": 16,
   "metadata": {
    "tags": []
   },
   "outputs": [
    {
     "data": {
      "text/plain": [
       "5-element Vector{Any}:\n",
       "    1\n",
       "     'a': ASCII/Unicode U+0061 (category Ll: Letter, lowercase)\n",
       "     \"abc\"\n",
       " true\n",
       "     ComplexF64[0.0 + 0.0im, 0.0 + 0.5im]"
      ]
     },
     "execution_count": 16,
     "metadata": {},
     "output_type": "execute_result"
    }
   ],
   "source": [
    "lst = [1, 'a', \"abc\", true, [0, .5im]]"
   ]
  },
  {
   "cell_type": "code",
   "execution_count": 17,
   "metadata": {
    "tags": []
   },
   "outputs": [
    {
     "data": {
      "text/plain": [
       "Vector{Any}\u001b[90m (alias for \u001b[39m\u001b[90mArray{Any, 1}\u001b[39m\u001b[90m)\u001b[39m"
      ]
     },
     "execution_count": 17,
     "metadata": {},
     "output_type": "execute_result"
    }
   ],
   "source": [
    "typeof(lst)"
   ]
  },
  {
   "cell_type": "code",
   "execution_count": 18,
   "metadata": {
    "tags": []
   },
   "outputs": [
    {
     "data": {
      "text/plain": [
       "2-element Vector{ComplexF64}:\n",
       " 0.0 + 0.0im\n",
       " 0.0 + 0.5im"
      ]
     },
     "execution_count": 18,
     "metadata": {},
     "output_type": "execute_result"
    }
   ],
   "source": [
    "lst[end]"
   ]
  },
  {
   "cell_type": "markdown",
   "metadata": {},
   "source": [
    "### Basic Calculations"
   ]
  },
  {
   "cell_type": "code",
   "execution_count": 19,
   "metadata": {},
   "outputs": [
    {
     "data": {
      "text/plain": [
       "(1, 1.5)"
      ]
     },
     "execution_count": 19,
     "metadata": {},
     "output_type": "execute_result"
    }
   ],
   "source": [
    "a, b = 1, 1.5"
   ]
  },
  {
   "cell_type": "code",
   "execution_count": 20,
   "metadata": {},
   "outputs": [
    {
     "name": "stdout",
     "output_type": "stream",
     "text": [
      "Int64\n",
      "Float64\n"
     ]
    }
   ],
   "source": [
    "println(typeof(a))\n",
    "println(typeof(b))"
   ]
  },
  {
   "cell_type": "code",
   "execution_count": 21,
   "metadata": {},
   "outputs": [
    {
     "data": {
      "text/latex": [
       "\\texttt{varinfo} method allows to display loaded variables.\n",
       "\n"
      ],
      "text/markdown": [
       "`varinfo` method allows to display loaded variables.\n"
      ],
      "text/plain": [
       "  \u001b[36mvarinfo\u001b[39m method allows to display loaded variables."
      ]
     },
     "execution_count": 21,
     "metadata": {},
     "output_type": "execute_result"
    }
   ],
   "source": [
    "md\"\"\"\n",
    "`varinfo` method allows to display loaded variables.\n",
    "\"\"\""
   ]
  },
  {
   "cell_type": "code",
   "execution_count": 22,
   "metadata": {},
   "outputs": [
    {
     "data": {
      "text/latex": [
       "\\begin{tabular}\n",
       "{l | r | l}\n",
       "name & size & summary \\\\\n",
       "\\hline\n",
       "Base &  & Module \\\\\n",
       "Core &  & Module \\\\\n",
       "Main &  & Module \\\\\n",
       "PLOTS\\_DEFAULTS & 456 bytes & Dict\\{Symbol, Symbol\\} with 1 entry \\\\\n",
       "a & 8 bytes & Int64 \\\\\n",
       "b & 8 bytes & Float64 \\\\\n",
       "dict & 503 bytes & Dict\\{String, Int64\\} with 3 entries \\\\\n",
       "lst & 176 bytes & 5-element Vector\\{Any\\} \\\\\n",
       "showall & 0 bytes & showall (generic function with 1 method) \\\\\n",
       "\\end{tabular}\n"
      ],
      "text/markdown": [
       "| name           |      size | summary                                  |\n",
       "|:-------------- | ---------:|:---------------------------------------- |\n",
       "| Base           |           | Module                                   |\n",
       "| Core           |           | Module                                   |\n",
       "| Main           |           | Module                                   |\n",
       "| PLOTS_DEFAULTS | 456 bytes | Dict{Symbol, Symbol} with 1 entry        |\n",
       "| a              |   8 bytes | Int64                                    |\n",
       "| b              |   8 bytes | Float64                                  |\n",
       "| dict           | 503 bytes | Dict{String, Int64} with 3 entries       |\n",
       "| lst            | 176 bytes | 5-element Vector{Any}                    |\n",
       "| showall        |   0 bytes | showall (generic function with 1 method) |\n"
      ],
      "text/plain": [
       "  name                size summary                                 \n",
       "  –––––––––––––– ––––––––– ––––––––––––––––––––––––––––––––––––––––\n",
       "  Base                     Module                                  \n",
       "  Core                     Module                                  \n",
       "  Main                     Module                                  \n",
       "  PLOTS_DEFAULTS 456 bytes Dict{Symbol, Symbol} with 1 entry       \n",
       "  a                8 bytes Int64                                   \n",
       "  b                8 bytes Float64                                 \n",
       "  dict           503 bytes Dict{String, Int64} with 3 entries      \n",
       "  lst            176 bytes 5-element Vector{Any}                   \n",
       "  showall          0 bytes showall (generic function with 1 method)"
      ]
     },
     "execution_count": 22,
     "metadata": {},
     "output_type": "execute_result"
    }
   ],
   "source": [
    "varinfo()"
   ]
  },
  {
   "cell_type": "code",
   "execution_count": 23,
   "metadata": {},
   "outputs": [
    {
     "name": "stdout",
     "output_type": "stream",
     "text": [
      "search: \u001b[0m\u001b[1mv\u001b[22m\u001b[0m\u001b[1ma\u001b[22m\u001b[0m\u001b[1mr\u001b[22m\u001b[0m\u001b[1mi\u001b[22m\u001b[0m\u001b[1mn\u001b[22m\u001b[0m\u001b[1mf\u001b[22m\u001b[0m\u001b[1mo\u001b[22m\n",
      "\n"
     ]
    },
    {
     "data": {
      "text/latex": [
       "\\begin{verbatim}\n",
       "varinfo(m::Module=Main, pattern::Regex=r\"\"; all=false, imported=false, recursive=false, sortby::Symbol=:name, minsize::Int=0)\n",
       "\\end{verbatim}\n",
       "Return a markdown table giving information about exported global variables in a module, optionally restricted to those matching \\texttt{pattern}.\n",
       "\n",
       "The memory consumption estimate is an approximate lower bound on the size of the internal structure of the object.\n",
       "\n",
       "\\begin{itemize}\n",
       "\\item \\texttt{all} : also list non-exported objects defined in the module, deprecated objects, and compiler-generated objects.\n",
       "\n",
       "\n",
       "\\item \\texttt{imported} : also list objects explicitly imported from other modules.\n",
       "\n",
       "\n",
       "\\item \\texttt{recursive} : recursively include objects in sub-modules, observing the same settings in each.\n",
       "\n",
       "\n",
       "\\item \\texttt{sortby} : the column to sort results by. Options are \\texttt{:name} (default), \\texttt{:size}, and \\texttt{:summary}.\n",
       "\n",
       "\n",
       "\\item \\texttt{minsize} : only includes objects with size at least \\texttt{minsize} bytes. Defaults to \\texttt{0}.\n",
       "\n",
       "\\end{itemize}\n",
       "The output of \\texttt{varinfo} is intended for display purposes only.  See also \\href{@ref}{\\texttt{names}} to get an array of symbols defined in a module, which is suitable for more general manipulations.\n",
       "\n"
      ],
      "text/markdown": [
       "```\n",
       "varinfo(m::Module=Main, pattern::Regex=r\"\"; all=false, imported=false, recursive=false, sortby::Symbol=:name, minsize::Int=0)\n",
       "```\n",
       "\n",
       "Return a markdown table giving information about exported global variables in a module, optionally restricted to those matching `pattern`.\n",
       "\n",
       "The memory consumption estimate is an approximate lower bound on the size of the internal structure of the object.\n",
       "\n",
       "  * `all` : also list non-exported objects defined in the module, deprecated objects, and compiler-generated objects.\n",
       "  * `imported` : also list objects explicitly imported from other modules.\n",
       "  * `recursive` : recursively include objects in sub-modules, observing the same settings in each.\n",
       "  * `sortby` : the column to sort results by. Options are `:name` (default), `:size`, and `:summary`.\n",
       "  * `minsize` : only includes objects with size at least `minsize` bytes. Defaults to `0`.\n",
       "\n",
       "The output of `varinfo` is intended for display purposes only.  See also [`names`](@ref) to get an array of symbols defined in a module, which is suitable for more general manipulations.\n"
      ],
      "text/plain": [
       "  \u001b[38;2;102;217;239mvarinfo\u001b[0m(\u001b[0m\u001b[39mm\u001b[0m\u001b[38;2;249;38;114m::\u001b[0m\u001b[39mModule\u001b[0m\u001b[38;2;249;38;114m=\u001b[0m\u001b[39mMain\u001b[0m\u001b[39m,\u001b[0m \u001b[0m\u001b[39mpattern\u001b[0m\u001b[38;2;249;38;114m::\u001b[0m\u001b[39mRegex\u001b[0m\u001b[38;2;249;38;114m=\u001b[0m\u001b[39mr\u001b[0m\u001b[39m\"\u001b[0m\u001b[38;2;230;219;116m\u001b[0m\u001b[39m\"\u001b[0m\u001b[39m;\u001b[0m \u001b[0m\u001b[39mall\u001b[0m\u001b[38;2;249;38;114m=\u001b[0m\u001b[38;2;249;38;114mfalse\u001b[0m\u001b[39m,\u001b[0m \u001b[0m\u001b[39mimported\u001b[0m\u001b[38;2;249;38;114m=\u001b[0m\u001b[38;2;249;38;114mfalse\u001b[0m\u001b[39m,\u001b[0m \u001b[0m\u001b[39mrecursive\u001b[0m\u001b[38;2;249;38;114m=\u001b[0m\u001b[38;2;249;38;114mfalse\u001b[0m\u001b[39m,\u001b[0m \u001b[0m\u001b[39msortby\u001b[0m\u001b[38;2;249;38;114m::\u001b[0m\u001b[39mSymbol\u001b[0m\u001b[38;2;249;38;114m=\u001b[0m\u001b[38;2;174;129;255m:\u001b[0m\u001b[38;2;174;129;255mname\u001b[0m\u001b[39m,\u001b[0m \u001b[0m\u001b[39mminsize\u001b[0m\u001b[38;2;249;38;114m::\u001b[0m\u001b[39mInt\u001b[0m\u001b[38;2;249;38;114m=\u001b[0m\u001b[38;2;174;129;255m0\u001b[0m\u001b[39m)\u001b[0m\n",
       "\n",
       "\n",
       "  Return a markdown table giving information about exported global variables\n",
       "  in a module, optionally restricted to those matching \u001b[36mpattern\u001b[39m.\n",
       "\n",
       "  The memory consumption estimate is an approximate lower bound on the size of\n",
       "  the internal structure of the object.\n",
       "\n",
       "    •  \u001b[36mall\u001b[39m : also list non-exported objects defined in the module,\n",
       "       deprecated objects, and compiler-generated objects.\n",
       "\n",
       "    •  \u001b[36mimported\u001b[39m : also list objects explicitly imported from other\n",
       "       modules.\n",
       "\n",
       "    •  \u001b[36mrecursive\u001b[39m : recursively include objects in sub-modules, observing\n",
       "       the same settings in each.\n",
       "\n",
       "    •  \u001b[36msortby\u001b[39m : the column to sort results by. Options are \u001b[36m:name\u001b[39m\n",
       "       (default), \u001b[36m:size\u001b[39m, and \u001b[36m:summary\u001b[39m.\n",
       "\n",
       "    •  \u001b[36mminsize\u001b[39m : only includes objects with size at least \u001b[36mminsize\u001b[39m bytes.\n",
       "       Defaults to \u001b[36m0\u001b[39m.\n",
       "\n",
       "  The output of \u001b[36mvarinfo\u001b[39m is intended for display purposes only. See also \u001b[36mnames\u001b[39m\n",
       "  to get an array of symbols defined in a module, which is suitable for more\n",
       "  general manipulations."
      ]
     },
     "execution_count": 23,
     "metadata": {},
     "output_type": "execute_result"
    }
   ],
   "source": [
    "?varinfo"
   ]
  },
  {
   "cell_type": "code",
   "execution_count": 24,
   "metadata": {},
   "outputs": [
    {
     "name": "stdout",
     "output_type": "stream",
     "text": [
      "Sum of 1 and 1.5 is 2.5\n"
     ]
    }
   ],
   "source": [
    "println(\"Sum of $a and $b is $(a+b)\")"
   ]
  },
  {
   "cell_type": "markdown",
   "metadata": {},
   "source": [
    "Addition, subtraction, multiplication, division, exponent"
   ]
  },
  {
   "cell_type": "code",
   "execution_count": 25,
   "metadata": {},
   "outputs": [
    {
     "data": {
      "text/plain": [
       "(2.5, -0.5, 1.5, 0.0, 1.0)"
      ]
     },
     "execution_count": 25,
     "metadata": {},
     "output_type": "execute_result"
    }
   ],
   "source": [
    "a+b, a-b, a*b, a÷b, a^b"
   ]
  },
  {
   "cell_type": "code",
   "execution_count": 26,
   "metadata": {},
   "outputs": [
    {
     "data": {
      "text/latex": [
       "\\textbf{Unicode support} \n",
       "\n",
       "\\begin{itemize}\n",
       "\\item[1. ] We can use π instead of \\texttt{pi}\n",
       "\n",
       "\n",
       "\\item[2. ] Greek letters improe comprehension: α \\emph{(alpha)}, β \\emph{(beta)}, ...\n",
       "\n",
       "\n",
       "\\item[3. ] Symbols: ≥ \\emph{(>=)}, ≤ \\emph{(<=)}, ∈ \\emph{(in)}, ... \n",
       "\n",
       "\n",
       "\\item[4. ] ...\n",
       "\n",
       "\\end{itemize}\n"
      ],
      "text/markdown": [
       "**Unicode support** \n",
       "\n",
       "1. We can use π instead of `pi`\n",
       "2. Greek letters improe comprehension: α *(alpha)*, β *(beta)*, ...\n",
       "3. Symbols: ≥ *(>=)*, ≤ *(<=)*, ∈ *(in)*, ...\n",
       "4. ...\n"
      ],
      "text/plain": [
       "  \u001b[1mUnicode support\u001b[22m\n",
       "\n",
       "    1. We can use π instead of \u001b[36mpi\u001b[39m\n",
       "\n",
       "    2. Greek letters improe comprehension: α \u001b[4m(alpha)\u001b[24m, β \u001b[4m(beta)\u001b[24m, ...\n",
       "\n",
       "    3. Symbols: ≥ \u001b[4m(>=)\u001b[24m, ≤ \u001b[4m(<=)\u001b[24m, ∈ \u001b[4m(in)\u001b[24m, ...\n",
       "\n",
       "    4. ..."
      ]
     },
     "execution_count": 26,
     "metadata": {},
     "output_type": "execute_result"
    }
   ],
   "source": [
    "md\"\"\"\n",
    "**Unicode support** \n",
    "1. We can use π instead of `pi`\n",
    "1. Greek letters improe comprehension: α _(alpha)_, β _(beta)_, ...\n",
    "1. Symbols: ≥ _(>=)_, ≤ _(<=)_, ∈ _(in)_, ... \n",
    "1. ...\n",
    "\"\"\""
   ]
  },
  {
   "cell_type": "code",
   "execution_count": 27,
   "metadata": {},
   "outputs": [
    {
     "data": {
      "text/plain": [
       "true"
      ]
     },
     "execution_count": 27,
     "metadata": {},
     "output_type": "execute_result"
    }
   ],
   "source": [
    "3 ≤ π "
   ]
  },
  {
   "cell_type": "code",
   "execution_count": 28,
   "metadata": {},
   "outputs": [
    {
     "data": {
      "text/plain": [
       "Float64"
      ]
     },
     "execution_count": 28,
     "metadata": {},
     "output_type": "execute_result"
    }
   ],
   "source": [
    "typeof(3.14)"
   ]
  },
  {
   "cell_type": "code",
   "execution_count": 29,
   "metadata": {},
   "outputs": [
    {
     "data": {
      "text/plain": [
       "Any"
      ]
     },
     "execution_count": 29,
     "metadata": {},
     "output_type": "execute_result"
    }
   ],
   "source": [
    "Float64 |> supertype |> supertype |> supertype |> supertype "
   ]
  },
  {
   "cell_type": "code",
   "execution_count": 30,
   "metadata": {},
   "outputs": [
    {
     "data": {
      "text/plain": [
       "3-element Vector{Any}:\n",
       " Bool\n",
       " Signed\n",
       " Unsigned"
      ]
     },
     "execution_count": 30,
     "metadata": {},
     "output_type": "execute_result"
    }
   ],
   "source": [
    "Integer |> subtypes"
   ]
  },
  {
   "cell_type": "code",
   "execution_count": 31,
   "metadata": {},
   "outputs": [
    {
     "data": {
      "text/plain": [
       "6-element Vector{Any}:\n",
       " BigInt\n",
       " Int128\n",
       " Int16\n",
       " Int32\n",
       " Int64\n",
       " Int8"
      ]
     },
     "execution_count": 31,
     "metadata": {},
     "output_type": "execute_result"
    }
   ],
   "source": [
    "Signed |> subtypes"
   ]
  },
  {
   "cell_type": "code",
   "execution_count": 32,
   "metadata": {},
   "outputs": [
    {
     "data": {
      "text/plain": [
       "true"
      ]
     },
     "execution_count": 32,
     "metadata": {},
     "output_type": "execute_result"
    }
   ],
   "source": [
    "UInt8 <: Unsigned # UInt8 is one subtype of Unsigned"
   ]
  },
  {
   "cell_type": "code",
   "execution_count": 33,
   "metadata": {},
   "outputs": [
    {
     "data": {
      "text/plain": [
       "true"
      ]
     },
     "execution_count": 33,
     "metadata": {},
     "output_type": "execute_result"
    }
   ],
   "source": [
    "Signed >: Int8 # Signed is supertype of Int8"
   ]
  },
  {
   "cell_type": "code",
   "execution_count": 34,
   "metadata": {},
   "outputs": [
    {
     "data": {
      "text/plain": [
       "Int64"
      ]
     },
     "execution_count": 34,
     "metadata": {},
     "output_type": "execute_result"
    }
   ],
   "source": [
    "typeof(3)"
   ]
  },
  {
   "cell_type": "code",
   "execution_count": 35,
   "metadata": {},
   "outputs": [
    {
     "data": {
      "text/plain": [
       "UInt8"
      ]
     },
     "execution_count": 35,
     "metadata": {},
     "output_type": "execute_result"
    }
   ],
   "source": [
    "tmp::UInt8 = 3\n",
    "typeof(tmp)"
   ]
  },
  {
   "cell_type": "markdown",
   "metadata": {},
   "source": [
    "### Mathematical Notation\n"
   ]
  },
  {
   "cell_type": "code",
   "execution_count": 36,
   "metadata": {},
   "outputs": [
    {
     "name": "stdout",
     "output_type": "stream",
     "text": [
      "3\n",
      "3\n"
     ]
    }
   ],
   "source": [
    "println(1+2)\n",
    "println(+(1, 2))"
   ]
  },
  {
   "cell_type": "code",
   "execution_count": 37,
   "metadata": {},
   "outputs": [
    {
     "name": "stdout",
     "output_type": "stream",
     "text": [
      "-1\n",
      "-1\n"
     ]
    }
   ],
   "source": [
    "println(1-2)\n",
    "println(-(1, 2))"
   ]
  },
  {
   "cell_type": "code",
   "execution_count": 38,
   "metadata": {},
   "outputs": [
    {
     "name": "stdout",
     "output_type": "stream",
     "text": [
      "2\n",
      "2\n"
     ]
    }
   ],
   "source": [
    "println(1*2)\n",
    "println(*(1, 2))"
   ]
  },
  {
   "cell_type": "code",
   "execution_count": 39,
   "metadata": {},
   "outputs": [
    {
     "name": "stdout",
     "output_type": "stream",
     "text": [
      "0.5\n",
      "0.5\n"
     ]
    }
   ],
   "source": [
    "println(1/2)\n",
    "println(/(1, 2))"
   ]
  },
  {
   "cell_type": "code",
   "execution_count": 40,
   "metadata": {},
   "outputs": [
    {
     "name": "stdout",
     "output_type": "stream",
     "text": [
      "2.15\n",
      "43//20\n"
     ]
    }
   ],
   "source": [
    "println(3/4+7/5)\n",
    "println(3//4+7//5)"
   ]
  },
  {
   "cell_type": "markdown",
   "metadata": {},
   "source": [
    "### Array Transformations\n",
    "Perform calculations on entire arrays at once."
   ]
  },
  {
   "cell_type": "code",
   "execution_count": 41,
   "metadata": {},
   "outputs": [
    {
     "data": {
      "text/plain": [
       "3×2 Matrix{Float64}:\n",
       " 0.0  0.0\n",
       " 0.0  0.0\n",
       " 0.0  0.0"
      ]
     },
     "execution_count": 41,
     "metadata": {},
     "output_type": "execute_result"
    }
   ],
   "source": [
    "zeros(3, 2)"
   ]
  },
  {
   "cell_type": "code",
   "execution_count": 42,
   "metadata": {},
   "outputs": [
    {
     "data": {
      "text/plain": [
       "3×3×2 Array{Float64, 3}:\n",
       "[:, :, 1] =\n",
       " 1.0  1.0  1.0\n",
       " 1.0  1.0  1.0\n",
       " 1.0  1.0  1.0\n",
       "\n",
       "[:, :, 2] =\n",
       " 1.0  1.0  1.0\n",
       " 1.0  1.0  1.0\n",
       " 1.0  1.0  1.0"
      ]
     },
     "execution_count": 42,
     "metadata": {},
     "output_type": "execute_result"
    }
   ],
   "source": [
    "ones(3, 3, 2)"
   ]
  },
  {
   "cell_type": "code",
   "execution_count": 43,
   "metadata": {},
   "outputs": [
    {
     "data": {
      "text/plain": [
       "2×2 Matrix{Irrational{:π}}:\n",
       " π  π\n",
       " π  π"
      ]
     },
     "execution_count": 43,
     "metadata": {},
     "output_type": "execute_result"
    }
   ],
   "source": [
    "fill(π, (2, 2))"
   ]
  },
  {
   "cell_type": "code",
   "execution_count": 44,
   "metadata": {},
   "outputs": [
    {
     "data": {
      "text/plain": [
       "2×2 Matrix{Float64}:\n",
       " 3.14159  3.14159\n",
       " 3.14159  3.14159"
      ]
     },
     "execution_count": 44,
     "metadata": {},
     "output_type": "execute_result"
    }
   ],
   "source": [
    "π .* ones(2, 2)"
   ]
  },
  {
   "cell_type": "code",
   "execution_count": 45,
   "metadata": {},
   "outputs": [
    {
     "data": {
      "text/latex": [
       "Creates a \\texttt{BitArray} with all values set to \\texttt{true}\n",
       "\n"
      ],
      "text/markdown": [
       "Creates a `BitArray` with all values set to `true`\n"
      ],
      "text/plain": [
       "  Creates a \u001b[36mBitArray\u001b[39m with all values set to \u001b[36mtrue\u001b[39m"
      ]
     },
     "execution_count": 45,
     "metadata": {},
     "output_type": "execute_result"
    }
   ],
   "source": [
    "md\"Creates a `BitArray` with all values set to `true`\""
   ]
  },
  {
   "cell_type": "code",
   "execution_count": 46,
   "metadata": {},
   "outputs": [
    {
     "name": "stdout",
     "output_type": "stream",
     "text": [
      "Bool[1 1 1 1; 1 1 1 1]\n"
     ]
    },
    {
     "data": {
      "text/plain": [
       "BitMatrix\u001b[90m (alias for \u001b[39m\u001b[90mBitArray{2}\u001b[39m\u001b[90m)\u001b[39m"
      ]
     },
     "execution_count": 46,
     "metadata": {},
     "output_type": "execute_result"
    }
   ],
   "source": [
    "var = trues(2, 4)\n",
    "println(var)\n",
    "typeof(var)"
   ]
  },
  {
   "cell_type": "code",
   "execution_count": 47,
   "metadata": {},
   "outputs": [
    {
     "data": {
      "text/latex": [
       "Creates a \\texttt{BitArray} with all values set to \\texttt{false}\n",
       "\n"
      ],
      "text/markdown": [
       "Creates a `BitArray` with all values set to `false`\n"
      ],
      "text/plain": [
       "  Creates a \u001b[36mBitArray\u001b[39m with all values set to \u001b[36mfalse\u001b[39m"
      ]
     },
     "execution_count": 47,
     "metadata": {},
     "output_type": "execute_result"
    }
   ],
   "source": [
    "md\"Creates a `BitArray` with all values set to `false`\""
   ]
  },
  {
   "cell_type": "code",
   "execution_count": 48,
   "metadata": {},
   "outputs": [
    {
     "name": "stdout",
     "output_type": "stream",
     "text": [
      "Bool[0 0 0 0; 0 0 0 0]\n"
     ]
    },
    {
     "data": {
      "text/plain": [
       "BitMatrix\u001b[90m (alias for \u001b[39m\u001b[90mBitArray{2}\u001b[39m\u001b[90m)\u001b[39m"
      ]
     },
     "execution_count": 48,
     "metadata": {},
     "output_type": "execute_result"
    }
   ],
   "source": [
    "var = falses(2, 4)\n",
    "println(var)\n",
    "typeof(var)"
   ]
  },
  {
   "cell_type": "code",
   "execution_count": 49,
   "metadata": {},
   "outputs": [
    {
     "data": {
      "text/latex": [
       "\\textbf{Comprehension}\n",
       "\n"
      ],
      "text/markdown": [
       "**Comprehension**\n"
      ],
      "text/plain": [
       "  \u001b[1mComprehension\u001b[22m"
      ]
     },
     "execution_count": 49,
     "metadata": {},
     "output_type": "execute_result"
    }
   ],
   "source": [
    "md\"**Comprehension**\""
   ]
  },
  {
   "cell_type": "code",
   "execution_count": 50,
   "metadata": {},
   "outputs": [
    {
     "name": "stdout",
     "output_type": "stream",
     "text": [
      "H\n",
      "e\n",
      "l\n",
      "l\n",
      "o\n",
      " \n",
      "J\n",
      "u\n",
      "l\n",
      "i\n",
      "a\n"
     ]
    }
   ],
   "source": [
    "str = \"Hello Julia\"\n",
    "[println(el) for el in str];"
   ]
  },
  {
   "cell_type": "markdown",
   "metadata": {},
   "source": [
    "### Calling Functions\n",
    "Call functions to obtain multiple outputs."
   ]
  },
  {
   "cell_type": "code",
   "execution_count": 51,
   "metadata": {},
   "outputs": [
    {
     "data": {
      "text/latex": [
       "\\href{https://docs.julialang.org/en/v1/manual/functions/}{Functions in ${\\tt Julia}$}\n",
       "\n"
      ],
      "text/markdown": [
       "[Functions in ${\\tt Julia}$](https://docs.julialang.org/en/v1/manual/functions/)\n"
      ],
      "text/plain": [
       "  Functions in \u001b[35m{\\tt Julia}\u001b[39m\n",
       "  (https://docs.julialang.org/en/v1/manual/functions/)"
      ]
     },
     "execution_count": 51,
     "metadata": {},
     "output_type": "execute_result"
    }
   ],
   "source": [
    "md\"\"\"\n",
    "[Functions in ${\\tt Julia}$](https://docs.julialang.org/en/v1/manual/functions/)\n",
    "\"\"\""
   ]
  },
  {
   "cell_type": "code",
   "execution_count": 52,
   "metadata": {},
   "outputs": [
    {
     "data": {
      "text/latex": [
       "\\textbf{Spreading Arguments}\n",
       "\n"
      ],
      "text/markdown": [
       "**Spreading Arguments**\n"
      ],
      "text/plain": [
       "  \u001b[1mSpreading Arguments\u001b[22m"
      ]
     },
     "execution_count": 52,
     "metadata": {},
     "output_type": "execute_result"
    }
   ],
   "source": [
    "md\"**Spreading Arguments**\""
   ]
  },
  {
   "cell_type": "markdown",
   "metadata": {},
   "source": [
    "_Optional positional arguments_"
   ]
  },
  {
   "cell_type": "code",
   "execution_count": 53,
   "metadata": {},
   "outputs": [
    {
     "data": {
      "text/plain": [
       "foo (generic function with 4 methods)"
      ]
     },
     "execution_count": 53,
     "metadata": {},
     "output_type": "execute_result"
    }
   ],
   "source": [
    "foo(x=0, y=0, z=0) = x+y+z"
   ]
  },
  {
   "cell_type": "code",
   "execution_count": 54,
   "metadata": {},
   "outputs": [
    {
     "data": {
      "text/plain": [
       "(0, 6)"
      ]
     },
     "execution_count": 54,
     "metadata": {},
     "output_type": "execute_result"
    }
   ],
   "source": [
    "foo(), foo(1, 2, 3)"
   ]
  },
  {
   "cell_type": "code",
   "execution_count": 55,
   "metadata": {},
   "outputs": [
    {
     "data": {
      "text/plain": [
       "6"
      ]
     },
     "execution_count": 55,
     "metadata": {},
     "output_type": "execute_result"
    }
   ],
   "source": [
    "foo([1, 2, 3]...) # Splat `...` operator"
   ]
  },
  {
   "cell_type": "markdown",
   "metadata": {},
   "source": [
    "_Keywords arguments_"
   ]
  },
  {
   "cell_type": "code",
   "execution_count": 56,
   "metadata": {},
   "outputs": [
    {
     "data": {
      "text/plain": [
       "bar (generic function with 1 method)"
      ]
     },
     "execution_count": 56,
     "metadata": {},
     "output_type": "execute_result"
    }
   ],
   "source": [
    "bar(; a::Real=0, b::Real=0, c::Real=0) = a+b+c"
   ]
  },
  {
   "cell_type": "code",
   "execution_count": 57,
   "metadata": {},
   "outputs": [
    {
     "data": {
      "text/plain": [
       "0"
      ]
     },
     "execution_count": 57,
     "metadata": {},
     "output_type": "execute_result"
    }
   ],
   "source": [
    "bar()"
   ]
  },
  {
   "cell_type": "code",
   "execution_count": 58,
   "metadata": {},
   "outputs": [
    {
     "data": {
      "text/plain": [
       "7.2"
      ]
     },
     "execution_count": 58,
     "metadata": {},
     "output_type": "execute_result"
    }
   ],
   "source": [
    "bar(; Dict(:a => 3, :b => 5.4, :c => -1.2)... ) # ; kwargs..."
   ]
  },
  {
   "cell_type": "code",
   "execution_count": 59,
   "metadata": {},
   "outputs": [
    {
     "name": "stdout",
     "output_type": "stream",
     "text": [
      "MethodError(bar, (1, 2, 3), 0x0000000000007b01)\n"
     ]
    }
   ],
   "source": [
    "# THROW AN ERROR \n",
    "try bar([1, 2, 3]...)\n",
    "catch error\n",
    "    println(error)\n",
    "end"
   ]
  },
  {
   "cell_type": "code",
   "execution_count": 60,
   "metadata": {},
   "outputs": [
    {
     "data": {
      "text/latex": [
       "\\textbf{Multiple Dispatch}\n",
       "\n"
      ],
      "text/markdown": [
       "**Multiple Dispatch**\n"
      ],
      "text/plain": [
       "  \u001b[1mMultiple Dispatch\u001b[22m"
      ]
     },
     "execution_count": 60,
     "metadata": {},
     "output_type": "execute_result"
    }
   ],
   "source": [
    "md\"**Multiple Dispatch**\""
   ]
  },
  {
   "cell_type": "code",
   "execution_count": 61,
   "metadata": {},
   "outputs": [
    {
     "data": {
      "text/plain": [
       "f (generic function with 1 method)"
      ]
     },
     "execution_count": 61,
     "metadata": {},
     "output_type": "execute_result"
    }
   ],
   "source": [
    "# 1st method signature\n",
    "function f(x::Int)\n",
    "    x^2\n",
    "end"
   ]
  },
  {
   "cell_type": "code",
   "execution_count": 62,
   "metadata": {},
   "outputs": [
    {
     "data": {
      "text/plain": [
       "f (generic function with 2 methods)"
      ]
     },
     "execution_count": 62,
     "metadata": {},
     "output_type": "execute_result"
    }
   ],
   "source": [
    "# 2nd method signature\n",
    "f(x::Float64) = x^2+1"
   ]
  },
  {
   "cell_type": "code",
   "execution_count": 63,
   "metadata": {},
   "outputs": [
    {
     "data": {
      "text/plain": [
       "f (generic function with 4 methods)"
      ]
     },
     "execution_count": 63,
     "metadata": {},
     "output_type": "execute_result"
    }
   ],
   "source": [
    "# 3rd method signature\n",
    "f(x::Char) = x*'y'*'z'\n",
    "# 4th mehod signature\n",
    "f(x::String) = x*x "
   ]
  },
  {
   "cell_type": "code",
   "execution_count": 64,
   "metadata": {},
   "outputs": [
    {
     "data": {
      "text/html": [
       "# 4 methods for generic function <b>f</b> from \u001b[35mMain\u001b[39m:<ul><li> f(x::<b>String</b>) in Main at In[63]:4</li> <li> f(x::<b>Char</b>) in Main at In[63]:2</li> <li> f(x::<b>Float64</b>) in Main at In[62]:2</li> <li> f(x::<b>Int64</b>) in Main at In[61]:2</li> </ul>"
      ],
      "text/plain": [
       "# 4 methods for generic function \"f\" from \u001b[35mMain\u001b[39m:\n",
       " [1] f(\u001b[90mx\u001b[39m::\u001b[1mString\u001b[22m)\n",
       "\u001b[90m     @\u001b[39m \u001b[90m\u001b[4mIn[63]:4\u001b[24m\u001b[39m\n",
       " [2] f(\u001b[90mx\u001b[39m::\u001b[1mChar\u001b[22m)\n",
       "\u001b[90m     @\u001b[39m \u001b[90m\u001b[4mIn[63]:2\u001b[24m\u001b[39m\n",
       " [3] f(\u001b[90mx\u001b[39m::\u001b[1mFloat64\u001b[22m)\n",
       "\u001b[90m     @\u001b[39m \u001b[90m\u001b[4mIn[62]:2\u001b[24m\u001b[39m\n",
       " [4] f(\u001b[90mx\u001b[39m::\u001b[1mInt64\u001b[22m)\n",
       "\u001b[90m     @\u001b[39m \u001b[90m\u001b[4mIn[61]:2\u001b[24m\u001b[39m"
      ]
     },
     "execution_count": 64,
     "metadata": {},
     "output_type": "execute_result"
    }
   ],
   "source": [
    "methods(f)"
   ]
  },
  {
   "cell_type": "code",
   "execution_count": 65,
   "metadata": {},
   "outputs": [
    {
     "data": {
      "text/plain": [
       "(1, 2.0, \"xyz\", \"abcabc\")"
      ]
     },
     "execution_count": 65,
     "metadata": {},
     "output_type": "execute_result"
    }
   ],
   "source": [
    "f(1), f(1.), f('x'), f(\"abc\")"
   ]
  },
  {
   "cell_type": "code",
   "execution_count": 66,
   "metadata": {},
   "outputs": [
    {
     "data": {
      "text/plain": [
       "mycos (generic function with 2 methods)"
      ]
     },
     "execution_count": 66,
     "metadata": {},
     "output_type": "execute_result"
    }
   ],
   "source": [
    "mycos(x) = cos(x)\n",
    "mycos(adj, hyp) = adj/hyp # Extension to `mycos` function"
   ]
  },
  {
   "cell_type": "code",
   "execution_count": 67,
   "metadata": {
    "scrolled": true
   },
   "outputs": [
    {
     "data": {
      "text/html": [
       "# 2 methods for generic function <b>mycos</b> from \u001b[35mMain\u001b[39m:<ul><li> mycos(adj, hyp) in Main at In[66]:2</li> <li> mycos(x) in Main at In[66]:1</li> </ul>"
      ],
      "text/plain": [
       "# 2 methods for generic function \"mycos\" from \u001b[35mMain\u001b[39m:\n",
       " [1] mycos(\u001b[90madj\u001b[39m, \u001b[90mhyp\u001b[39m)\n",
       "\u001b[90m     @\u001b[39m \u001b[90m\u001b[4mIn[66]:2\u001b[24m\u001b[39m\n",
       " [2] mycos(\u001b[90mx\u001b[39m)\n",
       "\u001b[90m     @\u001b[39m \u001b[90m\u001b[4mIn[66]:1\u001b[24m\u001b[39m"
      ]
     },
     "execution_count": 67,
     "metadata": {},
     "output_type": "execute_result"
    }
   ],
   "source": [
    "methods(mycos)"
   ]
  },
  {
   "cell_type": "code",
   "execution_count": 68,
   "metadata": {
    "scrolled": true
   },
   "outputs": [
    {
     "data": {
      "text/html": [
       "mycos(x) in Main at In[66]:1"
      ],
      "text/plain": [
       "mycos(\u001b[90mx\u001b[39m)\n",
       "\u001b[90m     @\u001b[39m \u001b[90mMain\u001b[39m \u001b[90m\u001b[4mIn[66]:1\u001b[24m\u001b[39m"
      ]
     },
     "execution_count": 68,
     "metadata": {},
     "output_type": "execute_result"
    }
   ],
   "source": [
    "@which mycos(π)"
   ]
  },
  {
   "cell_type": "code",
   "execution_count": 69,
   "metadata": {
    "scrolled": true
   },
   "outputs": [
    {
     "data": {
      "text/html": [
       "mycos(adj, hyp) in Main at In[66]:2"
      ],
      "text/plain": [
       "mycos(\u001b[90madj\u001b[39m, \u001b[90mhyp\u001b[39m)\n",
       "\u001b[90m     @\u001b[39m \u001b[90mMain\u001b[39m \u001b[90m\u001b[4mIn[66]:2\u001b[24m\u001b[39m"
      ]
     },
     "execution_count": 69,
     "metadata": {},
     "output_type": "execute_result"
    }
   ],
   "source": [
    "@which mycos(5, 3)"
   ]
  },
  {
   "cell_type": "code",
   "execution_count": 70,
   "metadata": {},
   "outputs": [
    {
     "data": {
      "text/plain": [
       "mycos (generic function with 2 methods)"
      ]
     },
     "execution_count": 70,
     "metadata": {},
     "output_type": "execute_result"
    }
   ],
   "source": [
    "mycos(adj, hyp=10) = adj/hyp"
   ]
  },
  {
   "cell_type": "code",
   "execution_count": 71,
   "metadata": {},
   "outputs": [
    {
     "data": {
      "text/html": [
       "mycos(adj) in Main at In[70]:1"
      ],
      "text/plain": [
       "mycos(\u001b[90madj\u001b[39m)\n",
       "\u001b[90m     @\u001b[39m \u001b[90mMain\u001b[39m \u001b[90m\u001b[4mIn[70]:1\u001b[24m\u001b[39m"
      ]
     },
     "execution_count": 71,
     "metadata": {},
     "output_type": "execute_result"
    }
   ],
   "source": [
    "@which mycos(π)"
   ]
  },
  {
   "cell_type": "markdown",
   "metadata": {},
   "source": [
    "**Function Chaining** applies a function to the preceding argument."
   ]
  },
  {
   "cell_type": "code",
   "execution_count": 72,
   "metadata": {},
   "outputs": [
    {
     "data": {
      "text/plain": [
       "9"
      ]
     },
     "execution_count": 72,
     "metadata": {},
     "output_type": "execute_result"
    }
   ],
   "source": [
    "g(x) = x+1\n",
    "h(x) = x^2\n",
    "x = 2 |> g |> h"
   ]
  },
  {
   "cell_type": "code",
   "execution_count": 73,
   "metadata": {},
   "outputs": [
    {
     "data": {
      "text/latex": [
       "Another pssible way is t use \\texttt{∘}\\emph{{\\textbackslash}circ\\{tab\\}} symbol\n",
       "\n"
      ],
      "text/markdown": [
       "Another pssible way is t use `∘`*\\circ{tab}* symbol\n"
      ],
      "text/plain": [
       "  Another pssible way is t use \u001b[36m∘\u001b[39m\u001b[4m\\circ{tab}\u001b[24m symbol"
      ]
     },
     "execution_count": 73,
     "metadata": {},
     "output_type": "execute_result"
    }
   ],
   "source": [
    "md\"Another pssible way is t use `∘`_\\circ{tab}_ symbol\""
   ]
  },
  {
   "cell_type": "code",
   "execution_count": 74,
   "metadata": {},
   "outputs": [
    {
     "data": {
      "text/plain": [
       "9"
      ]
     },
     "execution_count": 74,
     "metadata": {},
     "output_type": "execute_result"
    }
   ],
   "source": [
    "(h∘g)(2)"
   ]
  },
  {
   "cell_type": "code",
   "execution_count": 75,
   "metadata": {},
   "outputs": [
    {
     "data": {
      "text/latex": [
       "Definition of a function can be done on the fly\n",
       "\n"
      ],
      "text/markdown": [
       "Definition of a function can be done on the fly\n"
      ],
      "text/plain": [
       "  Definition of a function can be done on the fly"
      ]
     },
     "execution_count": 75,
     "metadata": {},
     "output_type": "execute_result"
    }
   ],
   "source": [
    "md\"Definition of a function can be done on the fly\""
   ]
  },
  {
   "cell_type": "code",
   "execution_count": 76,
   "metadata": {},
   "outputs": [
    {
     "data": {
      "text/plain": [
       "5.0"
      ]
     },
     "execution_count": 76,
     "metadata": {},
     "output_type": "execute_result"
    }
   ],
   "source": [
    "y = 5 |> (x->x^2) |> √"
   ]
  },
  {
   "cell_type": "code",
   "execution_count": 77,
   "metadata": {},
   "outputs": [
    {
     "data": {
      "text/latex": [
       "\\textbf{Metaprogramming:} Code is optimized by nature in ${\\tt Julia}$\n",
       "\n"
      ],
      "text/markdown": [
       "**Metaprogramming:** Code is optimized by nature in ${\\tt Julia}$\n"
      ],
      "text/plain": [
       "  \u001b[1mMetaprogramming:\u001b[22m Code is optimized by nature in \u001b[35m{\\tt Julia}\u001b[39m"
      ]
     },
     "execution_count": 77,
     "metadata": {},
     "output_type": "execute_result"
    }
   ],
   "source": [
    "md\"\"\"\n",
    "**Metaprogramming:** Code is optimized by nature in ${\\tt Julia}$\n",
    "\"\"\""
   ]
  },
  {
   "cell_type": "code",
   "execution_count": 78,
   "metadata": {},
   "outputs": [
    {
     "data": {
      "text/plain": [
       "Foo (generic function with 1 method)"
      ]
     },
     "execution_count": 78,
     "metadata": {},
     "output_type": "execute_result"
    }
   ],
   "source": [
    "function Foo(x::Integer)\n",
    "    y = x\n",
    "    for i=1:100\n",
    "        y += i^2\n",
    "    end\n",
    "    return y\n",
    "end"
   ]
  },
  {
   "cell_type": "code",
   "execution_count": 79,
   "metadata": {},
   "outputs": [
    {
     "name": "stdout",
     "output_type": "stream",
     "text": [
      "\u001b[90m;  @ In[78]:1 within `Foo`\u001b[39m\n",
      "\u001b[95mdefine\u001b[39m \u001b[36mi64\u001b[39m \u001b[93m@julia_Foo_3998\u001b[39m\u001b[33m(\u001b[39m\u001b[36mi64\u001b[39m \u001b[95msignext\u001b[39m \u001b[0m%0\u001b[33m)\u001b[39m \u001b[0m#0 \u001b[33m{\u001b[39m\n",
      "\u001b[91mtop:\u001b[39m\n",
      "\u001b[90m;  @ In[78]:3 within `Foo`\u001b[39m\n",
      "  \u001b[0m%1 \u001b[0m= \u001b[96m\u001b[1madd\u001b[22m\u001b[39m \u001b[36mi64\u001b[39m \u001b[0m%0\u001b[0m, \u001b[33m338350\u001b[39m\n",
      "\u001b[90m;  @ In[78]:6 within `Foo`\u001b[39m\n",
      "  \u001b[96m\u001b[1mret\u001b[22m\u001b[39m \u001b[36mi64\u001b[39m \u001b[0m%1\n",
      "\u001b[33m}\u001b[39m\n"
     ]
    }
   ],
   "source": [
    "@code_llvm Foo(3)"
   ]
  },
  {
   "cell_type": "code",
   "execution_count": 80,
   "metadata": {},
   "outputs": [
    {
     "data": {
      "text/latex": [
       "\\begin{verbatim}\n",
       "@code_llvm\n",
       "\\end{verbatim}\n",
       "Evaluates the arguments to the function or macro call, determines their types, and calls \\href{@ref}{\\texttt{code\\_llvm}} on the resulting expression. Set the optional keyword arguments \\texttt{raw}, \\texttt{dump\\_module}, \\texttt{debuginfo}, \\texttt{optimize} by putting them and their value before the function call, like this:\n",
       "\n",
       "\\begin{verbatim}\n",
       "@code_llvm raw=true dump_module=true debuginfo=:default f(x)\n",
       "@code_llvm optimize=false f(x)\n",
       "\\end{verbatim}\n",
       "\\texttt{optimize} controls whether additional optimizations, such as inlining, are also applied. \\texttt{raw} makes all metadata and dbg.* calls visible. \\texttt{debuginfo} may be one of \\texttt{:source} (default) or \\texttt{:none},  to specify the verbosity of code comments. \\texttt{dump\\_module} prints the entire module that encapsulates the function.\n",
       "\n"
      ],
      "text/markdown": [
       "```\n",
       "@code_llvm\n",
       "```\n",
       "\n",
       "Evaluates the arguments to the function or macro call, determines their types, and calls [`code_llvm`](@ref) on the resulting expression. Set the optional keyword arguments `raw`, `dump_module`, `debuginfo`, `optimize` by putting them and their value before the function call, like this:\n",
       "\n",
       "```\n",
       "@code_llvm raw=true dump_module=true debuginfo=:default f(x)\n",
       "@code_llvm optimize=false f(x)\n",
       "```\n",
       "\n",
       "`optimize` controls whether additional optimizations, such as inlining, are also applied. `raw` makes all metadata and dbg.* calls visible. `debuginfo` may be one of `:source` (default) or `:none`,  to specify the verbosity of code comments. `dump_module` prints the entire module that encapsulates the function.\n"
      ],
      "text/plain": [
       "  \u001b[39m@\u001b[0m\u001b[39mcode_llvm\u001b[0m\n",
       "\n",
       "\n",
       "  Evaluates the arguments to the function or macro call, determines their\n",
       "  types, and calls \u001b[36mcode_llvm\u001b[39m on the resulting expression. Set the optional\n",
       "  keyword arguments \u001b[36mraw\u001b[39m, \u001b[36mdump_module\u001b[39m, \u001b[36mdebuginfo\u001b[39m, \u001b[36moptimize\u001b[39m by putting them and\n",
       "  their value before the function call, like this:\n",
       "\n",
       "  \u001b[39m@\u001b[0m\u001b[39mcode_llvm\u001b[0m \u001b[0m\u001b[39mraw\u001b[0m\u001b[38;2;249;38;114m=\u001b[0m\u001b[38;2;249;38;114mtrue\u001b[0m \u001b[0m\u001b[39mdump_module\u001b[0m\u001b[38;2;249;38;114m=\u001b[0m\u001b[38;2;249;38;114mtrue\u001b[0m \u001b[0m\u001b[39mdebuginfo\u001b[0m\u001b[38;2;249;38;114m=\u001b[0m\u001b[38;2;174;129;255m:\u001b[0m\u001b[38;2;174;129;255mdefault\u001b[0m \u001b[0m\u001b[38;2;102;217;239mf\u001b[0m(\u001b[0m\u001b[39mx\u001b[0m\u001b[39m)\u001b[0m\n",
       "  \u001b[0m\u001b[39m@\u001b[0m\u001b[39mcode_llvm\u001b[0m \u001b[0m\u001b[39moptimize\u001b[0m\u001b[38;2;249;38;114m=\u001b[0m\u001b[38;2;249;38;114mfalse\u001b[0m \u001b[0m\u001b[38;2;102;217;239mf\u001b[0m(\u001b[0m\u001b[39mx\u001b[0m\u001b[39m)\u001b[0m\n",
       "\n",
       "\n",
       "  \u001b[36moptimize\u001b[39m controls whether additional optimizations, such as inlining, are\n",
       "  also applied. \u001b[36mraw\u001b[39m makes all metadata and dbg.* calls visible. \u001b[36mdebuginfo\u001b[39m may\n",
       "  be one of \u001b[36m:source\u001b[39m (default) or \u001b[36m:none\u001b[39m, to specify the verbosity of code\n",
       "  comments. \u001b[36mdump_module\u001b[39m prints the entire module that encapsulates the\n",
       "  function."
      ]
     },
     "execution_count": 80,
     "metadata": {},
     "output_type": "execute_result"
    }
   ],
   "source": [
    "?@code_llvm"
   ]
  },
  {
   "cell_type": "markdown",
   "metadata": {},
   "source": [
    "### Plotting Data\n",
    "Visualize variables using ${\\tt Julia}$'s plotting functions."
   ]
  },
  {
   "cell_type": "code",
   "execution_count": 81,
   "metadata": {},
   "outputs": [
    {
     "name": "stderr",
     "output_type": "stream",
     "text": [
      "\u001b[32m\u001b[1m   Resolving\u001b[22m\u001b[39m package versions...\n",
      "\u001b[32m\u001b[1m  No Changes\u001b[22m\u001b[39m to `~/Work/git-repos/AI-ML-DL/jlai/Codes/Julia/Part-1/Project.toml`\n",
      "\u001b[32m\u001b[1m  No Changes\u001b[22m\u001b[39m to `~/Work/git-repos/AI-ML-DL/jlai/Codes/Julia/Part-1/Manifest.toml`\n"
     ]
    }
   ],
   "source": [
    "]add Plots"
   ]
  },
  {
   "cell_type": "code",
   "execution_count": 82,
   "metadata": {},
   "outputs": [
    {
     "name": "stderr",
     "output_type": "stream",
     "text": [
      "WARNING: using Plots.bar in module Main conflicts with an existing identifier.\n"
     ]
    }
   ],
   "source": [
    "using Plots # GR is the default backend"
   ]
  },
  {
   "cell_type": "code",
   "execution_count": 83,
   "metadata": {},
   "outputs": [
    {
     "data": {
      "image/png": "[encoded data removed]",
      "image/svg+xml": [
       "<?xml version=\"1.0\" encoding=\"utf-8\"?>\n",
       "<svg xmlns=\"http://www.w3.org/2000/svg\" xmlns:xlink=\"http://www.w3.org/1999/xlink\" width=\"600\" height=\"400\" viewBox=\"0 0 2400 1600\">\n",
       "<defs>\n",
       "  <clipPath id=\"clip980\">\n",
       "    <rect x=\"0\" y=\"0\" width=\"2400\" height=\"1600\"/>\n",
       "  </clipPath>\n",
       "</defs>\n",
       "<path clip-path=\"url(#clip980)\" d=\"M0 1600 L2400 1600 L2400 0 L0 0  Z\" fill=\"#282a36\" fill-rule=\"evenodd\" fill-opacity=\"1\"/>\n",
       "<defs>\n",
       "  <clipPath id=\"clip981\">\n",
       "    <rect x=\"480\" y=\"0\" width=\"1681\" height=\"1600\"/>\n",
       "  </clipPath>\n",
       "</defs>\n",
       "<path clip-path=\"url(#clip980)\" d=\"M193.936 1486.45 L2352.76 1486.45 L2352.76 47.2441 L193.936 47.2441  Z\" fill=\"#30343b\" fill-rule=\"evenodd\" fill-opacity=\"1\"/>\n",
       "<defs>\n",
       "  <clipPath id=\"clip982\">\n",
       "    <rect x=\"193\" y=\"47\" width=\"2160\" height=\"1440\"/>\n",
       "  </clipPath>\n",
       "</defs>\n",
       "<polyline clip-path=\"url(#clip982)\" style=\"stroke:#f8f8f2; stroke-linecap:round; stroke-linejoin:round; stroke-width:2; stroke-opacity:0.1; fill:none\" points=\"481.326,1486.45 481.326,47.2441 \"/>\n",
       "<polyline clip-path=\"url(#clip982)\" style=\"stroke:#f8f8f2; stroke-linecap:round; stroke-linejoin:round; stroke-width:2; stroke-opacity:0.1; fill:none\" points=\"933.909,1486.45 933.909,47.2441 \"/>\n",
       "<polyline clip-path=\"url(#clip982)\" style=\"stroke:#f8f8f2; stroke-linecap:round; stroke-linejoin:round; stroke-width:2; stroke-opacity:0.1; fill:none\" points=\"1386.49,1486.45 1386.49,47.2441 \"/>\n",
       "<polyline clip-path=\"url(#clip982)\" style=\"stroke:#f8f8f2; stroke-linecap:round; stroke-linejoin:round; stroke-width:2; stroke-opacity:0.1; fill:none\" points=\"1839.07,1486.45 1839.07,47.2441 \"/>\n",
       "<polyline clip-path=\"url(#clip982)\" style=\"stroke:#f8f8f2; stroke-linecap:round; stroke-linejoin:round; stroke-width:2; stroke-opacity:0.1; fill:none\" points=\"2291.66,1486.45 2291.66,47.2441 \"/>\n",
       "<polyline clip-path=\"url(#clip982)\" style=\"stroke:#f8f8f2; stroke-linecap:round; stroke-linejoin:round; stroke-width:2; stroke-opacity:0.1; fill:none\" points=\"193.936,1445.77 2352.76,1445.77 \"/>\n",
       "<polyline clip-path=\"url(#clip982)\" style=\"stroke:#f8f8f2; stroke-linecap:round; stroke-linejoin:round; stroke-width:2; stroke-opacity:0.1; fill:none\" points=\"193.936,1106.3 2352.76,1106.3 \"/>\n",
       "<polyline clip-path=\"url(#clip982)\" style=\"stroke:#f8f8f2; stroke-linecap:round; stroke-linejoin:round; stroke-width:2; stroke-opacity:0.1; fill:none\" points=\"193.936,766.824 2352.76,766.824 \"/>\n",
       "<polyline clip-path=\"url(#clip982)\" style=\"stroke:#f8f8f2; stroke-linecap:round; stroke-linejoin:round; stroke-width:2; stroke-opacity:0.1; fill:none\" points=\"193.936,427.352 2352.76,427.352 \"/>\n",
       "<polyline clip-path=\"url(#clip982)\" style=\"stroke:#f8f8f2; stroke-linecap:round; stroke-linejoin:round; stroke-width:2; stroke-opacity:0.1; fill:none\" points=\"193.936,87.8803 2352.76,87.8803 \"/>\n",
       "<polyline clip-path=\"url(#clip980)\" style=\"stroke:#f8f8f2; stroke-linecap:round; stroke-linejoin:round; stroke-width:4; stroke-opacity:1; fill:none\" points=\"193.936,1486.45 2352.76,1486.45 \"/>\n",
       "<polyline clip-path=\"url(#clip980)\" style=\"stroke:#f8f8f2; stroke-linecap:round; stroke-linejoin:round; stroke-width:4; stroke-opacity:1; fill:none\" points=\"481.326,1486.45 481.326,1467.55 \"/>\n",
       "<polyline clip-path=\"url(#clip980)\" style=\"stroke:#f8f8f2; stroke-linecap:round; stroke-linejoin:round; stroke-width:4; stroke-opacity:1; fill:none\" points=\"933.909,1486.45 933.909,1467.55 \"/>\n",
       "<polyline clip-path=\"url(#clip980)\" style=\"stroke:#f8f8f2; stroke-linecap:round; stroke-linejoin:round; stroke-width:4; stroke-opacity:1; fill:none\" points=\"1386.49,1486.45 1386.49,1467.55 \"/>\n",
       "<polyline clip-path=\"url(#clip980)\" style=\"stroke:#f8f8f2; stroke-linecap:round; stroke-linejoin:round; stroke-width:4; stroke-opacity:1; fill:none\" points=\"1839.07,1486.45 1839.07,1467.55 \"/>\n",
       "<polyline clip-path=\"url(#clip980)\" style=\"stroke:#f8f8f2; stroke-linecap:round; stroke-linejoin:round; stroke-width:4; stroke-opacity:1; fill:none\" points=\"2291.66,1486.45 2291.66,1467.55 \"/>\n",
       "<path clip-path=\"url(#clip980)\" d=\"M475.979 1544.91 L492.298 1544.91 L492.298 1548.85 L470.354 1548.85 L470.354 1544.91 Q473.016 1542.16 477.599 1537.53 Q482.206 1532.88 483.386 1531.53 Q485.632 1529.01 486.511 1527.27 Q487.414 1525.51 487.414 1523.82 Q487.414 1521.07 485.47 1519.33 Q483.548 1517.6 480.446 1517.6 Q478.247 1517.6 475.794 1518.36 Q473.363 1519.13 470.585 1520.68 L470.585 1515.95 Q473.409 1514.82 475.863 1514.24 Q478.317 1513.66 480.354 1513.66 Q485.724 1513.66 488.919 1516.35 Q492.113 1519.03 492.113 1523.52 Q492.113 1525.65 491.303 1527.57 Q490.516 1529.47 488.409 1532.07 Q487.831 1532.74 484.729 1535.95 Q481.627 1539.15 475.979 1544.91 Z\" fill=\"#f8f8f2\" fill-rule=\"nonzero\" fill-opacity=\"1\" /><path clip-path=\"url(#clip980)\" d=\"M936.918 1518.36 L925.113 1536.81 L936.918 1536.81 L936.918 1518.36 M935.691 1514.29 L941.571 1514.29 L941.571 1536.81 L946.501 1536.81 L946.501 1540.7 L941.571 1540.7 L941.571 1548.85 L936.918 1548.85 L936.918 1540.7 L921.316 1540.7 L921.316 1536.19 L935.691 1514.29 Z\" fill=\"#f8f8f2\" fill-rule=\"nonzero\" fill-opacity=\"1\" /><path clip-path=\"url(#clip980)\" d=\"M1386.9 1529.7 Q1383.75 1529.7 1381.9 1531.86 Q1380.07 1534.01 1380.07 1537.76 Q1380.07 1541.49 1381.9 1543.66 Q1383.75 1545.82 1386.9 1545.82 Q1390.04 1545.82 1391.87 1543.66 Q1393.73 1541.49 1393.73 1537.76 Q1393.73 1534.01 1391.87 1531.86 Q1390.04 1529.7 1386.9 1529.7 M1396.18 1515.05 L1396.18 1519.31 Q1394.42 1518.48 1392.61 1518.04 Q1390.83 1517.6 1389.07 1517.6 Q1384.44 1517.6 1381.99 1520.72 Q1379.56 1523.85 1379.21 1530.17 Q1380.58 1528.15 1382.64 1527.09 Q1384.7 1526 1387.17 1526 Q1392.38 1526 1395.39 1529.17 Q1398.42 1532.32 1398.42 1537.76 Q1398.42 1543.08 1395.28 1546.3 Q1392.13 1549.52 1386.9 1549.52 Q1380.9 1549.52 1377.73 1544.94 Q1374.56 1540.33 1374.56 1531.6 Q1374.56 1523.41 1378.45 1518.55 Q1382.34 1513.66 1388.89 1513.66 Q1390.65 1513.66 1392.43 1514.01 Q1394.23 1514.36 1396.18 1515.05 Z\" fill=\"#f8f8f2\" fill-rule=\"nonzero\" fill-opacity=\"1\" /><path clip-path=\"url(#clip980)\" d=\"M1839.07 1532.44 Q1835.74 1532.44 1833.82 1534.22 Q1831.92 1536 1831.92 1539.13 Q1831.92 1542.25 1833.82 1544.03 Q1835.74 1545.82 1839.07 1545.82 Q1842.41 1545.82 1844.33 1544.03 Q1846.25 1542.23 1846.25 1539.13 Q1846.25 1536 1844.33 1534.22 Q1842.43 1532.44 1839.07 1532.44 M1834.4 1530.45 Q1831.39 1529.7 1829.7 1527.64 Q1828.03 1525.58 1828.03 1522.62 Q1828.03 1518.48 1830.97 1516.07 Q1833.94 1513.66 1839.07 1513.66 Q1844.24 1513.66 1847.18 1516.07 Q1850.12 1518.48 1850.12 1522.62 Q1850.12 1525.58 1848.43 1527.64 Q1846.76 1529.7 1843.77 1530.45 Q1847.15 1531.23 1849.03 1533.52 Q1850.93 1535.82 1850.93 1539.13 Q1850.93 1544.15 1847.85 1546.83 Q1844.79 1549.52 1839.07 1549.52 Q1833.36 1549.52 1830.28 1546.83 Q1827.22 1544.15 1827.22 1539.13 Q1827.22 1535.82 1829.12 1533.52 Q1831.02 1531.23 1834.4 1530.45 M1832.69 1523.06 Q1832.69 1525.75 1834.35 1527.25 Q1836.04 1528.76 1839.07 1528.76 Q1842.08 1528.76 1843.77 1527.25 Q1845.49 1525.75 1845.49 1523.06 Q1845.49 1520.38 1843.77 1518.87 Q1842.08 1517.37 1839.07 1517.37 Q1836.04 1517.37 1834.35 1518.87 Q1832.69 1520.38 1832.69 1523.06 Z\" fill=\"#f8f8f2\" fill-rule=\"nonzero\" fill-opacity=\"1\" /><path clip-path=\"url(#clip980)\" d=\"M2266.34 1544.91 L2273.98 1544.91 L2273.98 1518.55 L2265.67 1520.21 L2265.67 1515.95 L2273.94 1514.29 L2278.61 1514.29 L2278.61 1544.91 L2286.25 1544.91 L2286.25 1548.85 L2266.34 1548.85 L2266.34 1544.91 Z\" fill=\"#f8f8f2\" fill-rule=\"nonzero\" fill-opacity=\"1\" /><path clip-path=\"url(#clip980)\" d=\"M2305.7 1517.37 Q2302.09 1517.37 2300.26 1520.93 Q2298.45 1524.47 2298.45 1531.6 Q2298.45 1538.71 2300.26 1542.27 Q2302.09 1545.82 2305.7 1545.82 Q2309.33 1545.82 2311.14 1542.27 Q2312.96 1538.71 2312.96 1531.6 Q2312.96 1524.47 2311.14 1520.93 Q2309.33 1517.37 2305.7 1517.37 M2305.7 1513.66 Q2311.51 1513.66 2314.56 1518.27 Q2317.64 1522.85 2317.64 1531.6 Q2317.64 1540.33 2314.56 1544.94 Q2311.51 1549.52 2305.7 1549.52 Q2299.89 1549.52 2296.81 1544.94 Q2293.75 1540.33 2293.75 1531.6 Q2293.75 1522.85 2296.81 1518.27 Q2299.89 1513.66 2305.7 1513.66 Z\" fill=\"#f8f8f2\" fill-rule=\"nonzero\" fill-opacity=\"1\" /><polyline clip-path=\"url(#clip980)\" style=\"stroke:#f8f8f2; stroke-linecap:round; stroke-linejoin:round; stroke-width:4; stroke-opacity:1; fill:none\" points=\"193.936,1486.45 193.936,47.2441 \"/>\n",
       "<polyline clip-path=\"url(#clip980)\" style=\"stroke:#f8f8f2; stroke-linecap:round; stroke-linejoin:round; stroke-width:4; stroke-opacity:1; fill:none\" points=\"193.936,1445.77 212.834,1445.77 \"/>\n",
       "<polyline clip-path=\"url(#clip980)\" style=\"stroke:#f8f8f2; stroke-linecap:round; stroke-linejoin:round; stroke-width:4; stroke-opacity:1; fill:none\" points=\"193.936,1106.3 212.834,1106.3 \"/>\n",
       "<polyline clip-path=\"url(#clip980)\" style=\"stroke:#f8f8f2; stroke-linecap:round; stroke-linejoin:round; stroke-width:4; stroke-opacity:1; fill:none\" points=\"193.936,766.824 212.834,766.824 \"/>\n",
       "<polyline clip-path=\"url(#clip980)\" style=\"stroke:#f8f8f2; stroke-linecap:round; stroke-linejoin:round; stroke-width:4; stroke-opacity:1; fill:none\" points=\"193.936,427.352 212.834,427.352 \"/>\n",
       "<polyline clip-path=\"url(#clip980)\" style=\"stroke:#f8f8f2; stroke-linecap:round; stroke-linejoin:round; stroke-width:4; stroke-opacity:1; fill:none\" points=\"193.936,87.8803 212.834,87.8803 \"/>\n",
       "<path clip-path=\"url(#clip980)\" d=\"M50.9921 1446.22 L80.6679 1446.22 L80.6679 1450.15 L50.9921 1450.15 L50.9921 1446.22 Z\" fill=\"#f8f8f2\" fill-rule=\"nonzero\" fill-opacity=\"1\" /><path clip-path=\"url(#clip980)\" d=\"M91.5706 1459.11 L99.2095 1459.11 L99.2095 1432.75 L90.8993 1434.41 L90.8993 1430.15 L99.1632 1428.49 L103.839 1428.49 L103.839 1459.11 L111.478 1459.11 L111.478 1463.05 L91.5706 1463.05 L91.5706 1459.11 Z\" fill=\"#f8f8f2\" fill-rule=\"nonzero\" fill-opacity=\"1\" /><path clip-path=\"url(#clip980)\" d=\"M120.922 1457.17 L125.807 1457.17 L125.807 1463.05 L120.922 1463.05 L120.922 1457.17 Z\" fill=\"#f8f8f2\" fill-rule=\"nonzero\" fill-opacity=\"1\" /><path clip-path=\"url(#clip980)\" d=\"M145.992 1431.57 Q142.381 1431.57 140.552 1435.13 Q138.746 1438.67 138.746 1445.8 Q138.746 1452.91 140.552 1456.47 Q142.381 1460.02 145.992 1460.02 Q149.626 1460.02 151.431 1456.47 Q153.26 1452.91 153.26 1445.8 Q153.26 1438.67 151.431 1435.13 Q149.626 1431.57 145.992 1431.57 M145.992 1427.86 Q151.802 1427.86 154.857 1432.47 Q157.936 1437.05 157.936 1445.8 Q157.936 1454.53 154.857 1459.14 Q151.802 1463.72 145.992 1463.72 Q140.181 1463.72 137.103 1459.14 Q134.047 1454.53 134.047 1445.8 Q134.047 1437.05 137.103 1432.47 Q140.181 1427.86 145.992 1427.86 Z\" fill=\"#f8f8f2\" fill-rule=\"nonzero\" fill-opacity=\"1\" /><path clip-path=\"url(#clip980)\" d=\"M51.9875 1106.75 L81.6633 1106.75 L81.6633 1110.68 L51.9875 1110.68 L51.9875 1106.75 Z\" fill=\"#f8f8f2\" fill-rule=\"nonzero\" fill-opacity=\"1\" /><path clip-path=\"url(#clip980)\" d=\"M101.756 1092.09 Q98.1447 1092.09 96.316 1095.66 Q94.5104 1099.2 94.5104 1106.33 Q94.5104 1113.44 96.316 1117 Q98.1447 1120.54 101.756 1120.54 Q105.39 1120.54 107.196 1117 Q109.024 1113.44 109.024 1106.33 Q109.024 1099.2 107.196 1095.66 Q105.39 1092.09 101.756 1092.09 M101.756 1088.39 Q107.566 1088.39 110.621 1093 Q113.7 1097.58 113.7 1106.33 Q113.7 1115.06 110.621 1119.66 Q107.566 1124.25 101.756 1124.25 Q95.9456 1124.25 92.8669 1119.66 Q89.8114 1115.06 89.8114 1106.33 Q89.8114 1097.58 92.8669 1093 Q95.9456 1088.39 101.756 1088.39 Z\" fill=\"#f8f8f2\" fill-rule=\"nonzero\" fill-opacity=\"1\" /><path clip-path=\"url(#clip980)\" d=\"M121.918 1117.7 L126.802 1117.7 L126.802 1123.58 L121.918 1123.58 L121.918 1117.7 Z\" fill=\"#f8f8f2\" fill-rule=\"nonzero\" fill-opacity=\"1\" /><path clip-path=\"url(#clip980)\" d=\"M137.033 1089.02 L155.39 1089.02 L155.39 1092.95 L141.316 1092.95 L141.316 1101.42 Q142.334 1101.08 143.353 1100.91 Q144.371 1100.73 145.39 1100.73 Q151.177 1100.73 154.556 1103.9 Q157.936 1107.07 157.936 1112.49 Q157.936 1118.07 154.464 1121.17 Q150.992 1124.25 144.672 1124.25 Q142.496 1124.25 140.228 1123.88 Q137.982 1123.51 135.575 1122.77 L135.575 1118.07 Q137.658 1119.2 139.881 1119.76 Q142.103 1120.31 144.58 1120.31 Q148.584 1120.31 150.922 1118.21 Q153.26 1116.1 153.26 1112.49 Q153.26 1108.88 150.922 1106.77 Q148.584 1104.66 144.58 1104.66 Q142.705 1104.66 140.83 1105.08 Q138.978 1105.5 137.033 1106.38 L137.033 1089.02 Z\" fill=\"#f8f8f2\" fill-rule=\"nonzero\" fill-opacity=\"1\" /><path clip-path=\"url(#clip980)\" d=\"M100.76 752.623 Q97.1493 752.623 95.3206 756.188 Q93.515 759.729 93.515 766.859 Q93.515 773.965 95.3206 777.53 Q97.1493 781.072 100.76 781.072 Q104.395 781.072 106.2 777.53 Q108.029 773.965 108.029 766.859 Q108.029 759.729 106.2 756.188 Q104.395 752.623 100.76 752.623 M100.76 748.919 Q106.571 748.919 109.626 753.526 Q112.705 758.109 112.705 766.859 Q112.705 775.586 109.626 780.192 Q106.571 784.775 100.76 784.775 Q94.9502 784.775 91.8715 780.192 Q88.816 775.586 88.816 766.859 Q88.816 758.109 91.8715 753.526 Q94.9502 748.919 100.76 748.919 Z\" fill=\"#f8f8f2\" fill-rule=\"nonzero\" fill-opacity=\"1\" /><path clip-path=\"url(#clip980)\" d=\"M120.922 778.224 L125.807 778.224 L125.807 784.104 L120.922 784.104 L120.922 778.224 Z\" fill=\"#f8f8f2\" fill-rule=\"nonzero\" fill-opacity=\"1\" /><path clip-path=\"url(#clip980)\" d=\"M145.992 752.623 Q142.381 752.623 140.552 756.188 Q138.746 759.729 138.746 766.859 Q138.746 773.965 140.552 777.53 Q142.381 781.072 145.992 781.072 Q149.626 781.072 151.431 777.53 Q153.26 773.965 153.26 766.859 Q153.26 759.729 151.431 756.188 Q149.626 752.623 145.992 752.623 M145.992 748.919 Q151.802 748.919 154.857 753.526 Q157.936 758.109 157.936 766.859 Q157.936 775.586 154.857 780.192 Q151.802 784.775 145.992 784.775 Q140.181 784.775 137.103 780.192 Q134.047 775.586 134.047 766.859 Q134.047 758.109 137.103 753.526 Q140.181 748.919 145.992 748.919 Z\" fill=\"#f8f8f2\" fill-rule=\"nonzero\" fill-opacity=\"1\" /><path clip-path=\"url(#clip980)\" d=\"M101.756 413.151 Q98.1447 413.151 96.316 416.716 Q94.5104 420.257 94.5104 427.387 Q94.5104 434.493 96.316 438.058 Q98.1447 441.6 101.756 441.6 Q105.39 441.6 107.196 438.058 Q109.024 434.493 109.024 427.387 Q109.024 420.257 107.196 416.716 Q105.39 413.151 101.756 413.151 M101.756 409.447 Q107.566 409.447 110.621 414.054 Q113.7 418.637 113.7 427.387 Q113.7 436.114 110.621 440.72 Q107.566 445.303 101.756 445.303 Q95.9456 445.303 92.8669 440.72 Q89.8114 436.114 89.8114 427.387 Q89.8114 418.637 92.8669 414.054 Q95.9456 409.447 101.756 409.447 Z\" fill=\"#f8f8f2\" fill-rule=\"nonzero\" fill-opacity=\"1\" /><path clip-path=\"url(#clip980)\" d=\"M121.918 438.753 L126.802 438.753 L126.802 444.632 L121.918 444.632 L121.918 438.753 Z\" fill=\"#f8f8f2\" fill-rule=\"nonzero\" fill-opacity=\"1\" /><path clip-path=\"url(#clip980)\" d=\"M137.033 410.072 L155.39 410.072 L155.39 414.007 L141.316 414.007 L141.316 422.48 Q142.334 422.132 143.353 421.97 Q144.371 421.785 145.39 421.785 Q151.177 421.785 154.556 424.956 Q157.936 428.128 157.936 433.544 Q157.936 439.123 154.464 442.225 Q150.992 445.303 144.672 445.303 Q142.496 445.303 140.228 444.933 Q137.982 444.563 135.575 443.822 L135.575 439.123 Q137.658 440.257 139.881 440.813 Q142.103 441.368 144.58 441.368 Q148.584 441.368 150.922 439.262 Q153.26 437.155 153.26 433.544 Q153.26 429.933 150.922 427.827 Q148.584 425.72 144.58 425.72 Q142.705 425.72 140.83 426.137 Q138.978 426.554 137.033 427.433 L137.033 410.072 Z\" fill=\"#f8f8f2\" fill-rule=\"nonzero\" fill-opacity=\"1\" /><path clip-path=\"url(#clip980)\" d=\"M91.5706 101.225 L99.2095 101.225 L99.2095 74.8595 L90.8993 76.5262 L90.8993 72.267 L99.1632 70.6003 L103.839 70.6003 L103.839 101.225 L111.478 101.225 L111.478 105.16 L91.5706 105.16 L91.5706 101.225 Z\" fill=\"#f8f8f2\" fill-rule=\"nonzero\" fill-opacity=\"1\" /><path clip-path=\"url(#clip980)\" d=\"M120.922 99.2807 L125.807 99.2807 L125.807 105.16 L120.922 105.16 L120.922 99.2807 Z\" fill=\"#f8f8f2\" fill-rule=\"nonzero\" fill-opacity=\"1\" /><path clip-path=\"url(#clip980)\" d=\"M145.992 73.679 Q142.381 73.679 140.552 77.2438 Q138.746 80.7854 138.746 87.915 Q138.746 95.0215 140.552 98.5863 Q142.381 102.128 145.992 102.128 Q149.626 102.128 151.431 98.5863 Q153.26 95.0215 153.26 87.915 Q153.26 80.7854 151.431 77.2438 Q149.626 73.679 145.992 73.679 M145.992 69.9753 Q151.802 69.9753 154.857 74.5818 Q157.936 79.1651 157.936 87.915 Q157.936 96.6418 154.857 101.248 Q151.802 105.832 145.992 105.832 Q140.181 105.832 137.103 101.248 Q134.047 96.6418 134.047 87.915 Q134.047 79.1651 137.103 74.5818 Q140.181 69.9753 145.992 69.9753 Z\" fill=\"#f8f8f2\" fill-rule=\"nonzero\" fill-opacity=\"1\" /><polyline clip-path=\"url(#clip982)\" style=\"stroke:#8be9fd; stroke-linecap:round; stroke-linejoin:round; stroke-width:4; stroke-opacity:1; fill:none\" points=\"255.035,195.513 277.664,161.744 300.293,134.022 322.922,112.622 345.551,97.7591 368.18,89.5811 390.81,88.1698 413.439,93.5394 436.068,105.636 458.697,124.34 481.326,149.462 503.955,180.753 526.584,217.9 549.213,260.532 571.843,308.223 594.472,360.495 617.101,416.828 639.73,476.657 662.359,539.386 684.988,604.387 707.617,671.011 730.247,738.593 752.876,806.457 775.505,873.925 798.134,940.322 820.763,1004.99 843.392,1067.27 866.021,1126.55 888.651,1182.24 911.28,1233.78 933.909,1280.65 956.538,1322.39 979.167,1358.57 1001.8,1388.85 1024.43,1412.91 1047.05,1430.51 1069.68,1441.48 1092.31,1445.72 1114.94,1443.16 1137.57,1433.85 1160.2,1417.88 1182.83,1395.4 1205.46,1366.64 1228.09,1331.89 1250.72,1291.49 1273.35,1245.85 1295.98,1195.42 1318.6,1140.71 1341.23,1082.26 1363.86,1020.67 1386.49,956.531 1409.12,890.502 1431.75,823.237 1454.38,755.408 1477.01,687.694 1499.64,620.77 1522.27,555.305 1544.9,491.954 1567.52,431.349 1590.15,374.096 1612.78,320.767 1635.41,271.895 1658.04,227.968 1680.67,189.425 1703.3,156.652 1725.93,129.975 1748.56,109.661 1771.19,95.9134 1793.82,88.8693 1816.45,88.5991 1839.07,95.1055 1861.7,108.323 1884.33,128.121 1906.96,154.3 1929.59,186.599 1952.22,224.696 1974.85,268.21 1997.48,316.705 2020.11,369.698 2042.74,426.659 2065.37,487.019 2087.99,550.174 2110.62,615.494 2133.25,682.326 2155.88,750.003 2178.51,817.847 2201.14,885.182 2223.77,951.334 2246.4,1015.64 2269.03,1077.47 2291.66,1136.18 \"/>\n",
       "<polyline clip-path=\"url(#clip982)\" style=\"stroke:#ff79c6; stroke-linecap:round; stroke-linejoin:round; stroke-width:4; stroke-opacity:1; fill:none\" points=\"255.035,399.989 277.664,458.858 300.293,520.804 322.922,585.207 345.551,651.426 368.18,718.797 390.81,786.649 413.439,854.302 436.068,921.081 458.697,986.319 481.326,1049.36 503.955,1109.59 526.584,1166.38 549.213,1219.19 571.843,1267.47 594.472,1310.76 617.101,1348.6 639.73,1380.64 662.359,1406.54 684.988,1426.05 707.617,1438.97 730.247,1445.18 752.876,1444.61 775.505,1437.27 798.134,1423.23 820.763,1402.63 843.392,1375.67 866.021,1342.64 888.651,1303.85 911.28,1259.69 933.909,1210.61 956.538,1157.1 979.167,1099.68 1001.8,1038.94 1024.43,975.486 1047.05,909.943 1069.68,842.969 1092.31,775.235 1114.94,707.417 1137.57,640.193 1160.2,574.233 1182.83,510.198 1205.46,448.728 1228.09,390.435 1250.72,335.903 1273.35,285.677 1295.98,240.258 1318.6,200.101 1341.23,165.606 1363.86,137.118 1386.49,114.922 1409.12,99.2401 1431.75,90.228 1454.38,87.9763 1477.01,92.5074 1499.64,103.776 1522.27,121.67 1544.9,146.009 1567.52,176.552 1590.15,212.993 1612.78,254.967 1635.41,302.055 1658.04,353.788 1680.67,409.647 1703.3,469.075 1725.93,531.478 1748.56,596.233 1771.19,662.692 1793.82,730.191 1816.45,798.057 1839.07,865.61 1861.7,932.177 1884.33,997.091 1906.96,1059.7 1929.59,1119.39 1952.22,1175.56 1974.85,1227.64 1997.48,1275.11 2020.11,1317.51 2042.74,1354.41 2065.37,1385.43 2087.99,1410.27 2110.62,1428.69 2133.25,1440.49 2155.88,1445.56 2178.51,1443.85 2201.14,1435.37 2223.77,1420.22 2246.4,1398.53 2269.03,1370.53 2291.66,1336.51 \"/>\n",
       "<path clip-path=\"url(#clip980)\" d=\"M1926.79 250.738 L2280.8 250.738 L2280.8 95.2176 L1926.79 95.2176  Z\" fill=\"#282a36\" fill-rule=\"evenodd\" fill-opacity=\"1\"/>\n",
       "<polyline clip-path=\"url(#clip980)\" style=\"stroke:#f8f8f2; stroke-linecap:round; stroke-linejoin:round; stroke-width:4; stroke-opacity:1; fill:none\" points=\"1926.79,250.738 2280.8,250.738 2280.8,95.2176 1926.79,95.2176 1926.79,250.738 \"/>\n",
       "<polyline clip-path=\"url(#clip980)\" style=\"stroke:#8be9fd; stroke-linecap:round; stroke-linejoin:round; stroke-width:4; stroke-opacity:1; fill:none\" points=\"1950.78,147.058 2094.7,147.058 \"/>\n",
       "<path clip-path=\"url(#clip980)\" d=\"M2137.11 139.176 L2137.11 143.203 Q2135.3 142.277 2133.36 141.815 Q2131.42 141.352 2129.33 141.352 Q2126.16 141.352 2124.56 142.324 Q2122.99 143.296 2122.99 145.24 Q2122.99 146.722 2124.12 147.578 Q2125.26 148.412 2128.68 149.176 L2130.14 149.5 Q2134.68 150.472 2136.58 152.254 Q2138.5 154.014 2138.5 157.185 Q2138.5 160.796 2135.63 162.902 Q2132.78 165.009 2127.78 165.009 Q2125.7 165.009 2123.43 164.592 Q2121.18 164.199 2118.68 163.388 L2118.68 158.99 Q2121.05 160.217 2123.34 160.842 Q2125.63 161.444 2127.87 161.444 Q2130.88 161.444 2132.5 160.426 Q2134.12 159.384 2134.12 157.509 Q2134.12 155.773 2132.94 154.847 Q2131.79 153.921 2127.83 153.064 L2126.35 152.717 Q2122.39 151.884 2120.63 150.171 Q2118.87 148.435 2118.87 145.426 Q2118.87 141.768 2121.46 139.778 Q2124.05 137.787 2128.82 137.787 Q2131.18 137.787 2133.27 138.134 Q2135.35 138.481 2137.11 139.176 Z\" fill=\"#f8f8f2\" fill-rule=\"nonzero\" fill-opacity=\"1\" /><path clip-path=\"url(#clip980)\" d=\"M2145.28 138.412 L2149.54 138.412 L2149.54 164.338 L2145.28 164.338 L2145.28 138.412 M2145.28 128.319 L2149.54 128.319 L2149.54 133.713 L2145.28 133.713 L2145.28 128.319 Z\" fill=\"#f8f8f2\" fill-rule=\"nonzero\" fill-opacity=\"1\" /><path clip-path=\"url(#clip980)\" d=\"M2180 148.689 L2180 164.338 L2175.74 164.338 L2175.74 148.828 Q2175.74 145.148 2174.31 143.319 Q2172.87 141.49 2170 141.49 Q2166.55 141.49 2164.56 143.69 Q2162.57 145.889 2162.57 149.685 L2162.57 164.338 L2158.29 164.338 L2158.29 138.412 L2162.57 138.412 L2162.57 142.44 Q2164.1 140.102 2166.16 138.944 Q2168.24 137.787 2170.95 137.787 Q2175.42 137.787 2177.71 140.565 Q2180 143.319 2180 148.689 Z\" fill=\"#f8f8f2\" fill-rule=\"nonzero\" fill-opacity=\"1\" /><path clip-path=\"url(#clip980)\" d=\"M2198.73 128.366 Q2195.63 133.69 2194.12 138.898 Q2192.62 144.106 2192.62 149.453 Q2192.62 154.801 2194.12 160.055 Q2195.65 165.287 2198.73 170.588 L2195.03 170.588 Q2191.55 165.148 2189.82 159.893 Q2188.11 154.639 2188.11 149.453 Q2188.11 144.291 2189.82 139.06 Q2191.53 133.828 2195.03 128.366 L2198.73 128.366 Z\" fill=\"#f8f8f2\" fill-rule=\"nonzero\" fill-opacity=\"1\" /><path clip-path=\"url(#clip980)\" d=\"M2228.54 138.412 L2219.17 151.027 L2229.03 164.338 L2224.01 164.338 L2216.46 154.152 L2208.92 164.338 L2203.89 164.338 L2213.96 150.773 L2204.75 138.412 L2209.77 138.412 L2216.65 147.648 L2223.52 138.412 L2228.54 138.412 Z\" fill=\"#f8f8f2\" fill-rule=\"nonzero\" fill-opacity=\"1\" /><path clip-path=\"url(#clip980)\" d=\"M2234.38 128.366 L2238.08 128.366 Q2241.55 133.828 2243.27 139.06 Q2245 144.291 2245 149.453 Q2245 154.639 2243.27 159.893 Q2241.55 165.148 2238.08 170.588 L2234.38 170.588 Q2237.46 165.287 2238.96 160.055 Q2240.49 154.801 2240.49 149.453 Q2240.49 144.106 2238.96 138.898 Q2237.46 133.69 2234.38 128.366 Z\" fill=\"#f8f8f2\" fill-rule=\"nonzero\" fill-opacity=\"1\" /><polyline clip-path=\"url(#clip980)\" style=\"stroke:#ff79c6; stroke-linecap:round; stroke-linejoin:round; stroke-width:4; stroke-opacity:1; fill:none\" points=\"1950.78,198.898 2094.7,198.898 \"/>\n",
       "<path clip-path=\"url(#clip980)\" d=\"M2139.19 191.247 L2139.19 195.229 Q2137.39 194.233 2135.56 193.747 Q2133.75 193.238 2131.9 193.238 Q2127.76 193.238 2125.47 195.877 Q2123.17 198.492 2123.17 203.238 Q2123.17 207.983 2125.47 210.622 Q2127.76 213.238 2131.9 213.238 Q2133.75 213.238 2135.56 212.752 Q2137.39 212.242 2139.19 211.247 L2139.19 215.182 Q2137.41 216.016 2135.49 216.432 Q2133.59 216.849 2131.44 216.849 Q2125.58 216.849 2122.13 213.168 Q2118.68 209.488 2118.68 203.238 Q2118.68 196.895 2122.16 193.261 Q2125.65 189.627 2131.72 189.627 Q2133.68 189.627 2135.56 190.043 Q2137.43 190.437 2139.19 191.247 Z\" fill=\"#f8f8f2\" fill-rule=\"nonzero\" fill-opacity=\"1\" /><path clip-path=\"url(#clip980)\" d=\"M2156.65 193.238 Q2153.22 193.238 2151.23 195.923 Q2149.24 198.585 2149.24 203.238 Q2149.24 207.891 2151.21 210.576 Q2153.2 213.238 2156.65 213.238 Q2160.05 213.238 2162.04 210.553 Q2164.03 207.867 2164.03 203.238 Q2164.03 198.631 2162.04 195.946 Q2160.05 193.238 2156.65 193.238 M2156.65 189.627 Q2162.2 189.627 2165.37 193.238 Q2168.54 196.849 2168.54 203.238 Q2168.54 209.604 2165.37 213.238 Q2162.2 216.849 2156.65 216.849 Q2151.07 216.849 2147.9 213.238 Q2144.75 209.604 2144.75 203.238 Q2144.75 196.849 2147.9 193.238 Q2151.07 189.627 2156.65 189.627 Z\" fill=\"#f8f8f2\" fill-rule=\"nonzero\" fill-opacity=\"1\" /><path clip-path=\"url(#clip980)\" d=\"M2192.13 191.016 L2192.13 195.043 Q2190.33 194.117 2188.38 193.655 Q2186.44 193.192 2184.36 193.192 Q2181.18 193.192 2179.59 194.164 Q2178.01 195.136 2178.01 197.08 Q2178.01 198.562 2179.15 199.418 Q2180.28 200.252 2183.71 201.016 L2185.17 201.34 Q2189.7 202.312 2191.6 204.094 Q2193.52 205.854 2193.52 209.025 Q2193.52 212.636 2190.65 214.742 Q2187.8 216.849 2182.8 216.849 Q2180.72 216.849 2178.45 216.432 Q2176.21 216.039 2173.71 215.228 L2173.71 210.83 Q2176.07 212.057 2178.36 212.682 Q2180.65 213.284 2182.9 213.284 Q2185.91 213.284 2187.53 212.266 Q2189.15 211.224 2189.15 209.349 Q2189.15 207.613 2187.97 206.687 Q2186.81 205.761 2182.85 204.904 L2181.37 204.557 Q2177.41 203.724 2175.65 202.011 Q2173.89 200.275 2173.89 197.266 Q2173.89 193.608 2176.48 191.618 Q2179.08 189.627 2183.85 189.627 Q2186.21 189.627 2188.29 189.974 Q2190.37 190.321 2192.13 191.016 Z\" fill=\"#f8f8f2\" fill-rule=\"nonzero\" fill-opacity=\"1\" /><path clip-path=\"url(#clip980)\" d=\"M2210.54 180.206 Q2207.43 185.53 2205.93 190.738 Q2204.42 195.946 2204.42 201.293 Q2204.42 206.641 2205.93 211.895 Q2207.46 217.127 2210.54 222.428 L2206.83 222.428 Q2203.36 216.988 2201.62 211.733 Q2199.91 206.479 2199.91 201.293 Q2199.91 196.131 2201.62 190.9 Q2203.34 185.668 2206.83 180.206 L2210.54 180.206 Z\" fill=\"#f8f8f2\" fill-rule=\"nonzero\" fill-opacity=\"1\" /><path clip-path=\"url(#clip980)\" d=\"M2240.35 190.252 L2230.98 202.867 L2240.84 216.178 L2235.81 216.178 L2228.27 205.992 L2220.72 216.178 L2215.7 216.178 L2225.77 202.613 L2216.55 190.252 L2221.58 190.252 L2228.45 199.488 L2235.33 190.252 L2240.35 190.252 Z\" fill=\"#f8f8f2\" fill-rule=\"nonzero\" fill-opacity=\"1\" /><path clip-path=\"url(#clip980)\" d=\"M2246.18 180.206 L2249.89 180.206 Q2253.36 185.668 2255.07 190.9 Q2256.81 196.131 2256.81 201.293 Q2256.81 206.479 2255.07 211.733 Q2253.36 216.988 2249.89 222.428 L2246.18 222.428 Q2249.26 217.127 2250.77 211.895 Q2252.29 206.641 2252.29 201.293 Q2252.29 195.946 2250.77 190.738 Q2249.26 185.53 2246.18 180.206 Z\" fill=\"#f8f8f2\" fill-rule=\"nonzero\" fill-opacity=\"1\" /></svg>\n"
      ],
      "text/html": [
       "<?xml version=\"1.0\" encoding=\"utf-8\"?>\n",
       "<svg xmlns=\"http://www.w3.org/2000/svg\" xmlns:xlink=\"http://www.w3.org/1999/xlink\" width=\"600\" height=\"400\" viewBox=\"0 0 2400 1600\">\n",
       "<defs>\n",
       "  <clipPath id=\"clip030\">\n",
       "    <rect x=\"0\" y=\"0\" width=\"2400\" height=\"1600\"/>\n",
       "  </clipPath>\n",
       "</defs>\n",
       "<path clip-path=\"url(#clip030)\" d=\"M0 1600 L2400 1600 L2400 0 L0 0  Z\" fill=\"#282a36\" fill-rule=\"evenodd\" fill-opacity=\"1\"/>\n",
       "<defs>\n",
       "  <clipPath id=\"clip031\">\n",
       "    <rect x=\"480\" y=\"0\" width=\"1681\" height=\"1600\"/>\n",
       "  </clipPath>\n",
       "</defs>\n",
       "<path clip-path=\"url(#clip030)\" d=\"M193.936 1486.45 L2352.76 1486.45 L2352.76 47.2441 L193.936 47.2441  Z\" fill=\"#30343b\" fill-rule=\"evenodd\" fill-opacity=\"1\"/>\n",
       "<defs>\n",
       "  <clipPath id=\"clip032\">\n",
       "    <rect x=\"193\" y=\"47\" width=\"2160\" height=\"1440\"/>\n",
       "  </clipPath>\n",
       "</defs>\n",
       "<polyline clip-path=\"url(#clip032)\" style=\"stroke:#f8f8f2; stroke-linecap:round; stroke-linejoin:round; stroke-width:2; stroke-opacity:0.1; fill:none\" points=\"481.326,1486.45 481.326,47.2441 \"/>\n",
       "<polyline clip-path=\"url(#clip032)\" style=\"stroke:#f8f8f2; stroke-linecap:round; stroke-linejoin:round; stroke-width:2; stroke-opacity:0.1; fill:none\" points=\"933.909,1486.45 933.909,47.2441 \"/>\n",
       "<polyline clip-path=\"url(#clip032)\" style=\"stroke:#f8f8f2; stroke-linecap:round; stroke-linejoin:round; stroke-width:2; stroke-opacity:0.1; fill:none\" points=\"1386.49,1486.45 1386.49,47.2441 \"/>\n",
       "<polyline clip-path=\"url(#clip032)\" style=\"stroke:#f8f8f2; stroke-linecap:round; stroke-linejoin:round; stroke-width:2; stroke-opacity:0.1; fill:none\" points=\"1839.07,1486.45 1839.07,47.2441 \"/>\n",
       "<polyline clip-path=\"url(#clip032)\" style=\"stroke:#f8f8f2; stroke-linecap:round; stroke-linejoin:round; stroke-width:2; stroke-opacity:0.1; fill:none\" points=\"2291.66,1486.45 2291.66,47.2441 \"/>\n",
       "<polyline clip-path=\"url(#clip032)\" style=\"stroke:#f8f8f2; stroke-linecap:round; stroke-linejoin:round; stroke-width:2; stroke-opacity:0.1; fill:none\" points=\"193.936,1445.77 2352.76,1445.77 \"/>\n",
       "<polyline clip-path=\"url(#clip032)\" style=\"stroke:#f8f8f2; stroke-linecap:round; stroke-linejoin:round; stroke-width:2; stroke-opacity:0.1; fill:none\" points=\"193.936,1106.3 2352.76,1106.3 \"/>\n",
       "<polyline clip-path=\"url(#clip032)\" style=\"stroke:#f8f8f2; stroke-linecap:round; stroke-linejoin:round; stroke-width:2; stroke-opacity:0.1; fill:none\" points=\"193.936,766.824 2352.76,766.824 \"/>\n",
       "<polyline clip-path=\"url(#clip032)\" style=\"stroke:#f8f8f2; stroke-linecap:round; stroke-linejoin:round; stroke-width:2; stroke-opacity:0.1; fill:none\" points=\"193.936,427.352 2352.76,427.352 \"/>\n",
       "<polyline clip-path=\"url(#clip032)\" style=\"stroke:#f8f8f2; stroke-linecap:round; stroke-linejoin:round; stroke-width:2; stroke-opacity:0.1; fill:none\" points=\"193.936,87.8803 2352.76,87.8803 \"/>\n",
       "<polyline clip-path=\"url(#clip030)\" style=\"stroke:#f8f8f2; stroke-linecap:round; stroke-linejoin:round; stroke-width:4; stroke-opacity:1; fill:none\" points=\"193.936,1486.45 2352.76,1486.45 \"/>\n",
       "<polyline clip-path=\"url(#clip030)\" style=\"stroke:#f8f8f2; stroke-linecap:round; stroke-linejoin:round; stroke-width:4; stroke-opacity:1; fill:none\" points=\"481.326,1486.45 481.326,1467.55 \"/>\n",
       "<polyline clip-path=\"url(#clip030)\" style=\"stroke:#f8f8f2; stroke-linecap:round; stroke-linejoin:round; stroke-width:4; stroke-opacity:1; fill:none\" points=\"933.909,1486.45 933.909,1467.55 \"/>\n",
       "<polyline clip-path=\"url(#clip030)\" style=\"stroke:#f8f8f2; stroke-linecap:round; stroke-linejoin:round; stroke-width:4; stroke-opacity:1; fill:none\" points=\"1386.49,1486.45 1386.49,1467.55 \"/>\n",
       "<polyline clip-path=\"url(#clip030)\" style=\"stroke:#f8f8f2; stroke-linecap:round; stroke-linejoin:round; stroke-width:4; stroke-opacity:1; fill:none\" points=\"1839.07,1486.45 1839.07,1467.55 \"/>\n",
       "<polyline clip-path=\"url(#clip030)\" style=\"stroke:#f8f8f2; stroke-linecap:round; stroke-linejoin:round; stroke-width:4; stroke-opacity:1; fill:none\" points=\"2291.66,1486.45 2291.66,1467.55 \"/>\n",
       "<path clip-path=\"url(#clip030)\" d=\"M475.979 1544.91 L492.298 1544.91 L492.298 1548.85 L470.354 1548.85 L470.354 1544.91 Q473.016 1542.16 477.599 1537.53 Q482.206 1532.88 483.386 1531.53 Q485.632 1529.01 486.511 1527.27 Q487.414 1525.51 487.414 1523.82 Q487.414 1521.07 485.47 1519.33 Q483.548 1517.6 480.446 1517.6 Q478.247 1517.6 475.794 1518.36 Q473.363 1519.13 470.585 1520.68 L470.585 1515.95 Q473.409 1514.82 475.863 1514.24 Q478.317 1513.66 480.354 1513.66 Q485.724 1513.66 488.919 1516.35 Q492.113 1519.03 492.113 1523.52 Q492.113 1525.65 491.303 1527.57 Q490.516 1529.47 488.409 1532.07 Q487.831 1532.74 484.729 1535.95 Q481.627 1539.15 475.979 1544.91 Z\" fill=\"#f8f8f2\" fill-rule=\"nonzero\" fill-opacity=\"1\" /><path clip-path=\"url(#clip030)\" d=\"M936.918 1518.36 L925.113 1536.81 L936.918 1536.81 L936.918 1518.36 M935.691 1514.29 L941.571 1514.29 L941.571 1536.81 L946.501 1536.81 L946.501 1540.7 L941.571 1540.7 L941.571 1548.85 L936.918 1548.85 L936.918 1540.7 L921.316 1540.7 L921.316 1536.19 L935.691 1514.29 Z\" fill=\"#f8f8f2\" fill-rule=\"nonzero\" fill-opacity=\"1\" /><path clip-path=\"url(#clip030)\" d=\"M1386.9 1529.7 Q1383.75 1529.7 1381.9 1531.86 Q1380.07 1534.01 1380.07 1537.76 Q1380.07 1541.49 1381.9 1543.66 Q1383.75 1545.82 1386.9 1545.82 Q1390.04 1545.82 1391.87 1543.66 Q1393.73 1541.49 1393.73 1537.76 Q1393.73 1534.01 1391.87 1531.86 Q1390.04 1529.7 1386.9 1529.7 M1396.18 1515.05 L1396.18 1519.31 Q1394.42 1518.48 1392.61 1518.04 Q1390.83 1517.6 1389.07 1517.6 Q1384.44 1517.6 1381.99 1520.72 Q1379.56 1523.85 1379.21 1530.17 Q1380.58 1528.15 1382.64 1527.09 Q1384.7 1526 1387.17 1526 Q1392.38 1526 1395.39 1529.17 Q1398.42 1532.32 1398.42 1537.76 Q1398.42 1543.08 1395.28 1546.3 Q1392.13 1549.52 1386.9 1549.52 Q1380.9 1549.52 1377.73 1544.94 Q1374.56 1540.33 1374.56 1531.6 Q1374.56 1523.41 1378.45 1518.55 Q1382.34 1513.66 1388.89 1513.66 Q1390.65 1513.66 1392.43 1514.01 Q1394.23 1514.36 1396.18 1515.05 Z\" fill=\"#f8f8f2\" fill-rule=\"nonzero\" fill-opacity=\"1\" /><path clip-path=\"url(#clip030)\" d=\"M1839.07 1532.44 Q1835.74 1532.44 1833.82 1534.22 Q1831.92 1536 1831.92 1539.13 Q1831.92 1542.25 1833.82 1544.03 Q1835.74 1545.82 1839.07 1545.82 Q1842.41 1545.82 1844.33 1544.03 Q1846.25 1542.23 1846.25 1539.13 Q1846.25 1536 1844.33 1534.22 Q1842.43 1532.44 1839.07 1532.44 M1834.4 1530.45 Q1831.39 1529.7 1829.7 1527.64 Q1828.03 1525.58 1828.03 1522.62 Q1828.03 1518.48 1830.97 1516.07 Q1833.94 1513.66 1839.07 1513.66 Q1844.24 1513.66 1847.18 1516.07 Q1850.12 1518.48 1850.12 1522.62 Q1850.12 1525.58 1848.43 1527.64 Q1846.76 1529.7 1843.77 1530.45 Q1847.15 1531.23 1849.03 1533.52 Q1850.93 1535.82 1850.93 1539.13 Q1850.93 1544.15 1847.85 1546.83 Q1844.79 1549.52 1839.07 1549.52 Q1833.36 1549.52 1830.28 1546.83 Q1827.22 1544.15 1827.22 1539.13 Q1827.22 1535.82 1829.12 1533.52 Q1831.02 1531.23 1834.4 1530.45 M1832.69 1523.06 Q1832.69 1525.75 1834.35 1527.25 Q1836.04 1528.76 1839.07 1528.76 Q1842.08 1528.76 1843.77 1527.25 Q1845.49 1525.75 1845.49 1523.06 Q1845.49 1520.38 1843.77 1518.87 Q1842.08 1517.37 1839.07 1517.37 Q1836.04 1517.37 1834.35 1518.87 Q1832.69 1520.38 1832.69 1523.06 Z\" fill=\"#f8f8f2\" fill-rule=\"nonzero\" fill-opacity=\"1\" /><path clip-path=\"url(#clip030)\" d=\"M2266.34 1544.91 L2273.98 1544.91 L2273.98 1518.55 L2265.67 1520.21 L2265.67 1515.95 L2273.94 1514.29 L2278.61 1514.29 L2278.61 1544.91 L2286.25 1544.91 L2286.25 1548.85 L2266.34 1548.85 L2266.34 1544.91 Z\" fill=\"#f8f8f2\" fill-rule=\"nonzero\" fill-opacity=\"1\" /><path clip-path=\"url(#clip030)\" d=\"M2305.7 1517.37 Q2302.09 1517.37 2300.26 1520.93 Q2298.45 1524.47 2298.45 1531.6 Q2298.45 1538.71 2300.26 1542.27 Q2302.09 1545.82 2305.7 1545.82 Q2309.33 1545.82 2311.14 1542.27 Q2312.96 1538.71 2312.96 1531.6 Q2312.96 1524.47 2311.14 1520.93 Q2309.33 1517.37 2305.7 1517.37 M2305.7 1513.66 Q2311.51 1513.66 2314.56 1518.27 Q2317.64 1522.85 2317.64 1531.6 Q2317.64 1540.33 2314.56 1544.94 Q2311.51 1549.52 2305.7 1549.52 Q2299.89 1549.52 2296.81 1544.94 Q2293.75 1540.33 2293.75 1531.6 Q2293.75 1522.85 2296.81 1518.27 Q2299.89 1513.66 2305.7 1513.66 Z\" fill=\"#f8f8f2\" fill-rule=\"nonzero\" fill-opacity=\"1\" /><polyline clip-path=\"url(#clip030)\" style=\"stroke:#f8f8f2; stroke-linecap:round; stroke-linejoin:round; stroke-width:4; stroke-opacity:1; fill:none\" points=\"193.936,1486.45 193.936,47.2441 \"/>\n",
       "<polyline clip-path=\"url(#clip030)\" style=\"stroke:#f8f8f2; stroke-linecap:round; stroke-linejoin:round; stroke-width:4; stroke-opacity:1; fill:none\" points=\"193.936,1445.77 212.834,1445.77 \"/>\n",
       "<polyline clip-path=\"url(#clip030)\" style=\"stroke:#f8f8f2; stroke-linecap:round; stroke-linejoin:round; stroke-width:4; stroke-opacity:1; fill:none\" points=\"193.936,1106.3 212.834,1106.3 \"/>\n",
       "<polyline clip-path=\"url(#clip030)\" style=\"stroke:#f8f8f2; stroke-linecap:round; stroke-linejoin:round; stroke-width:4; stroke-opacity:1; fill:none\" points=\"193.936,766.824 212.834,766.824 \"/>\n",
       "<polyline clip-path=\"url(#clip030)\" style=\"stroke:#f8f8f2; stroke-linecap:round; stroke-linejoin:round; stroke-width:4; stroke-opacity:1; fill:none\" points=\"193.936,427.352 212.834,427.352 \"/>\n",
       "<polyline clip-path=\"url(#clip030)\" style=\"stroke:#f8f8f2; stroke-linecap:round; stroke-linejoin:round; stroke-width:4; stroke-opacity:1; fill:none\" points=\"193.936,87.8803 212.834,87.8803 \"/>\n",
       "<path clip-path=\"url(#clip030)\" d=\"M50.9921 1446.22 L80.6679 1446.22 L80.6679 1450.15 L50.9921 1450.15 L50.9921 1446.22 Z\" fill=\"#f8f8f2\" fill-rule=\"nonzero\" fill-opacity=\"1\" /><path clip-path=\"url(#clip030)\" d=\"M91.5706 1459.11 L99.2095 1459.11 L99.2095 1432.75 L90.8993 1434.41 L90.8993 1430.15 L99.1632 1428.49 L103.839 1428.49 L103.839 1459.11 L111.478 1459.11 L111.478 1463.05 L91.5706 1463.05 L91.5706 1459.11 Z\" fill=\"#f8f8f2\" fill-rule=\"nonzero\" fill-opacity=\"1\" /><path clip-path=\"url(#clip030)\" d=\"M120.922 1457.17 L125.807 1457.17 L125.807 1463.05 L120.922 1463.05 L120.922 1457.17 Z\" fill=\"#f8f8f2\" fill-rule=\"nonzero\" fill-opacity=\"1\" /><path clip-path=\"url(#clip030)\" d=\"M145.992 1431.57 Q142.381 1431.57 140.552 1435.13 Q138.746 1438.67 138.746 1445.8 Q138.746 1452.91 140.552 1456.47 Q142.381 1460.02 145.992 1460.02 Q149.626 1460.02 151.431 1456.47 Q153.26 1452.91 153.26 1445.8 Q153.26 1438.67 151.431 1435.13 Q149.626 1431.57 145.992 1431.57 M145.992 1427.86 Q151.802 1427.86 154.857 1432.47 Q157.936 1437.05 157.936 1445.8 Q157.936 1454.53 154.857 1459.14 Q151.802 1463.72 145.992 1463.72 Q140.181 1463.72 137.103 1459.14 Q134.047 1454.53 134.047 1445.8 Q134.047 1437.05 137.103 1432.47 Q140.181 1427.86 145.992 1427.86 Z\" fill=\"#f8f8f2\" fill-rule=\"nonzero\" fill-opacity=\"1\" /><path clip-path=\"url(#clip030)\" d=\"M51.9875 1106.75 L81.6633 1106.75 L81.6633 1110.68 L51.9875 1110.68 L51.9875 1106.75 Z\" fill=\"#f8f8f2\" fill-rule=\"nonzero\" fill-opacity=\"1\" /><path clip-path=\"url(#clip030)\" d=\"M101.756 1092.09 Q98.1447 1092.09 96.316 1095.66 Q94.5104 1099.2 94.5104 1106.33 Q94.5104 1113.44 96.316 1117 Q98.1447 1120.54 101.756 1120.54 Q105.39 1120.54 107.196 1117 Q109.024 1113.44 109.024 1106.33 Q109.024 1099.2 107.196 1095.66 Q105.39 1092.09 101.756 1092.09 M101.756 1088.39 Q107.566 1088.39 110.621 1093 Q113.7 1097.58 113.7 1106.33 Q113.7 1115.06 110.621 1119.66 Q107.566 1124.25 101.756 1124.25 Q95.9456 1124.25 92.8669 1119.66 Q89.8114 1115.06 89.8114 1106.33 Q89.8114 1097.58 92.8669 1093 Q95.9456 1088.39 101.756 1088.39 Z\" fill=\"#f8f8f2\" fill-rule=\"nonzero\" fill-opacity=\"1\" /><path clip-path=\"url(#clip030)\" d=\"M121.918 1117.7 L126.802 1117.7 L126.802 1123.58 L121.918 1123.58 L121.918 1117.7 Z\" fill=\"#f8f8f2\" fill-rule=\"nonzero\" fill-opacity=\"1\" /><path clip-path=\"url(#clip030)\" d=\"M137.033 1089.02 L155.39 1089.02 L155.39 1092.95 L141.316 1092.95 L141.316 1101.42 Q142.334 1101.08 143.353 1100.91 Q144.371 1100.73 145.39 1100.73 Q151.177 1100.73 154.556 1103.9 Q157.936 1107.07 157.936 1112.49 Q157.936 1118.07 154.464 1121.17 Q150.992 1124.25 144.672 1124.25 Q142.496 1124.25 140.228 1123.88 Q137.982 1123.51 135.575 1122.77 L135.575 1118.07 Q137.658 1119.2 139.881 1119.76 Q142.103 1120.31 144.58 1120.31 Q148.584 1120.31 150.922 1118.21 Q153.26 1116.1 153.26 1112.49 Q153.26 1108.88 150.922 1106.77 Q148.584 1104.66 144.58 1104.66 Q142.705 1104.66 140.83 1105.08 Q138.978 1105.5 137.033 1106.38 L137.033 1089.02 Z\" fill=\"#f8f8f2\" fill-rule=\"nonzero\" fill-opacity=\"1\" /><path clip-path=\"url(#clip030)\" d=\"M100.76 752.623 Q97.1493 752.623 95.3206 756.188 Q93.515 759.729 93.515 766.859 Q93.515 773.965 95.3206 777.53 Q97.1493 781.072 100.76 781.072 Q104.395 781.072 106.2 777.53 Q108.029 773.965 108.029 766.859 Q108.029 759.729 106.2 756.188 Q104.395 752.623 100.76 752.623 M100.76 748.919 Q106.571 748.919 109.626 753.526 Q112.705 758.109 112.705 766.859 Q112.705 775.586 109.626 780.192 Q106.571 784.775 100.76 784.775 Q94.9502 784.775 91.8715 780.192 Q88.816 775.586 88.816 766.859 Q88.816 758.109 91.8715 753.526 Q94.9502 748.919 100.76 748.919 Z\" fill=\"#f8f8f2\" fill-rule=\"nonzero\" fill-opacity=\"1\" /><path clip-path=\"url(#clip030)\" d=\"M120.922 778.224 L125.807 778.224 L125.807 784.104 L120.922 784.104 L120.922 778.224 Z\" fill=\"#f8f8f2\" fill-rule=\"nonzero\" fill-opacity=\"1\" /><path clip-path=\"url(#clip030)\" d=\"M145.992 752.623 Q142.381 752.623 140.552 756.188 Q138.746 759.729 138.746 766.859 Q138.746 773.965 140.552 777.53 Q142.381 781.072 145.992 781.072 Q149.626 781.072 151.431 777.53 Q153.26 773.965 153.26 766.859 Q153.26 759.729 151.431 756.188 Q149.626 752.623 145.992 752.623 M145.992 748.919 Q151.802 748.919 154.857 753.526 Q157.936 758.109 157.936 766.859 Q157.936 775.586 154.857 780.192 Q151.802 784.775 145.992 784.775 Q140.181 784.775 137.103 780.192 Q134.047 775.586 134.047 766.859 Q134.047 758.109 137.103 753.526 Q140.181 748.919 145.992 748.919 Z\" fill=\"#f8f8f2\" fill-rule=\"nonzero\" fill-opacity=\"1\" /><path clip-path=\"url(#clip030)\" d=\"M101.756 413.151 Q98.1447 413.151 96.316 416.716 Q94.5104 420.257 94.5104 427.387 Q94.5104 434.493 96.316 438.058 Q98.1447 441.6 101.756 441.6 Q105.39 441.6 107.196 438.058 Q109.024 434.493 109.024 427.387 Q109.024 420.257 107.196 416.716 Q105.39 413.151 101.756 413.151 M101.756 409.447 Q107.566 409.447 110.621 414.054 Q113.7 418.637 113.7 427.387 Q113.7 436.114 110.621 440.72 Q107.566 445.303 101.756 445.303 Q95.9456 445.303 92.8669 440.72 Q89.8114 436.114 89.8114 427.387 Q89.8114 418.637 92.8669 414.054 Q95.9456 409.447 101.756 409.447 Z\" fill=\"#f8f8f2\" fill-rule=\"nonzero\" fill-opacity=\"1\" /><path clip-path=\"url(#clip030)\" d=\"M121.918 438.753 L126.802 438.753 L126.802 444.632 L121.918 444.632 L121.918 438.753 Z\" fill=\"#f8f8f2\" fill-rule=\"nonzero\" fill-opacity=\"1\" /><path clip-path=\"url(#clip030)\" d=\"M137.033 410.072 L155.39 410.072 L155.39 414.007 L141.316 414.007 L141.316 422.48 Q142.334 422.132 143.353 421.97 Q144.371 421.785 145.39 421.785 Q151.177 421.785 154.556 424.956 Q157.936 428.128 157.936 433.544 Q157.936 439.123 154.464 442.225 Q150.992 445.303 144.672 445.303 Q142.496 445.303 140.228 444.933 Q137.982 444.563 135.575 443.822 L135.575 439.123 Q137.658 440.257 139.881 440.813 Q142.103 441.368 144.58 441.368 Q148.584 441.368 150.922 439.262 Q153.26 437.155 153.26 433.544 Q153.26 429.933 150.922 427.827 Q148.584 425.72 144.58 425.72 Q142.705 425.72 140.83 426.137 Q138.978 426.554 137.033 427.433 L137.033 410.072 Z\" fill=\"#f8f8f2\" fill-rule=\"nonzero\" fill-opacity=\"1\" /><path clip-path=\"url(#clip030)\" d=\"M91.5706 101.225 L99.2095 101.225 L99.2095 74.8595 L90.8993 76.5262 L90.8993 72.267 L99.1632 70.6003 L103.839 70.6003 L103.839 101.225 L111.478 101.225 L111.478 105.16 L91.5706 105.16 L91.5706 101.225 Z\" fill=\"#f8f8f2\" fill-rule=\"nonzero\" fill-opacity=\"1\" /><path clip-path=\"url(#clip030)\" d=\"M120.922 99.2807 L125.807 99.2807 L125.807 105.16 L120.922 105.16 L120.922 99.2807 Z\" fill=\"#f8f8f2\" fill-rule=\"nonzero\" fill-opacity=\"1\" /><path clip-path=\"url(#clip030)\" d=\"M145.992 73.679 Q142.381 73.679 140.552 77.2438 Q138.746 80.7854 138.746 87.915 Q138.746 95.0215 140.552 98.5863 Q142.381 102.128 145.992 102.128 Q149.626 102.128 151.431 98.5863 Q153.26 95.0215 153.26 87.915 Q153.26 80.7854 151.431 77.2438 Q149.626 73.679 145.992 73.679 M145.992 69.9753 Q151.802 69.9753 154.857 74.5818 Q157.936 79.1651 157.936 87.915 Q157.936 96.6418 154.857 101.248 Q151.802 105.832 145.992 105.832 Q140.181 105.832 137.103 101.248 Q134.047 96.6418 134.047 87.915 Q134.047 79.1651 137.103 74.5818 Q140.181 69.9753 145.992 69.9753 Z\" fill=\"#f8f8f2\" fill-rule=\"nonzero\" fill-opacity=\"1\" /><polyline clip-path=\"url(#clip032)\" style=\"stroke:#8be9fd; stroke-linecap:round; stroke-linejoin:round; stroke-width:4; stroke-opacity:1; fill:none\" points=\"255.035,195.513 277.664,161.744 300.293,134.022 322.922,112.622 345.551,97.7591 368.18,89.5811 390.81,88.1698 413.439,93.5394 436.068,105.636 458.697,124.34 481.326,149.462 503.955,180.753 526.584,217.9 549.213,260.532 571.843,308.223 594.472,360.495 617.101,416.828 639.73,476.657 662.359,539.386 684.988,604.387 707.617,671.011 730.247,738.593 752.876,806.457 775.505,873.925 798.134,940.322 820.763,1004.99 843.392,1067.27 866.021,1126.55 888.651,1182.24 911.28,1233.78 933.909,1280.65 956.538,1322.39 979.167,1358.57 1001.8,1388.85 1024.43,1412.91 1047.05,1430.51 1069.68,1441.48 1092.31,1445.72 1114.94,1443.16 1137.57,1433.85 1160.2,1417.88 1182.83,1395.4 1205.46,1366.64 1228.09,1331.89 1250.72,1291.49 1273.35,1245.85 1295.98,1195.42 1318.6,1140.71 1341.23,1082.26 1363.86,1020.67 1386.49,956.531 1409.12,890.502 1431.75,823.237 1454.38,755.408 1477.01,687.694 1499.64,620.77 1522.27,555.305 1544.9,491.954 1567.52,431.349 1590.15,374.096 1612.78,320.767 1635.41,271.895 1658.04,227.968 1680.67,189.425 1703.3,156.652 1725.93,129.975 1748.56,109.661 1771.19,95.9134 1793.82,88.8693 1816.45,88.5991 1839.07,95.1055 1861.7,108.323 1884.33,128.121 1906.96,154.3 1929.59,186.599 1952.22,224.696 1974.85,268.21 1997.48,316.705 2020.11,369.698 2042.74,426.659 2065.37,487.019 2087.99,550.174 2110.62,615.494 2133.25,682.326 2155.88,750.003 2178.51,817.847 2201.14,885.182 2223.77,951.334 2246.4,1015.64 2269.03,1077.47 2291.66,1136.18 \"/>\n",
       "<polyline clip-path=\"url(#clip032)\" style=\"stroke:#ff79c6; stroke-linecap:round; stroke-linejoin:round; stroke-width:4; stroke-opacity:1; fill:none\" points=\"255.035,399.989 277.664,458.858 300.293,520.804 322.922,585.207 345.551,651.426 368.18,718.797 390.81,786.649 413.439,854.302 436.068,921.081 458.697,986.319 481.326,1049.36 503.955,1109.59 526.584,1166.38 549.213,1219.19 571.843,1267.47 594.472,1310.76 617.101,1348.6 639.73,1380.64 662.359,1406.54 684.988,1426.05 707.617,1438.97 730.247,1445.18 752.876,1444.61 775.505,1437.27 798.134,1423.23 820.763,1402.63 843.392,1375.67 866.021,1342.64 888.651,1303.85 911.28,1259.69 933.909,1210.61 956.538,1157.1 979.167,1099.68 1001.8,1038.94 1024.43,975.486 1047.05,909.943 1069.68,842.969 1092.31,775.235 1114.94,707.417 1137.57,640.193 1160.2,574.233 1182.83,510.198 1205.46,448.728 1228.09,390.435 1250.72,335.903 1273.35,285.677 1295.98,240.258 1318.6,200.101 1341.23,165.606 1363.86,137.118 1386.49,114.922 1409.12,99.2401 1431.75,90.228 1454.38,87.9763 1477.01,92.5074 1499.64,103.776 1522.27,121.67 1544.9,146.009 1567.52,176.552 1590.15,212.993 1612.78,254.967 1635.41,302.055 1658.04,353.788 1680.67,409.647 1703.3,469.075 1725.93,531.478 1748.56,596.233 1771.19,662.692 1793.82,730.191 1816.45,798.057 1839.07,865.61 1861.7,932.177 1884.33,997.091 1906.96,1059.7 1929.59,1119.39 1952.22,1175.56 1974.85,1227.64 1997.48,1275.11 2020.11,1317.51 2042.74,1354.41 2065.37,1385.43 2087.99,1410.27 2110.62,1428.69 2133.25,1440.49 2155.88,1445.56 2178.51,1443.85 2201.14,1435.37 2223.77,1420.22 2246.4,1398.53 2269.03,1370.53 2291.66,1336.51 \"/>\n",
       "<path clip-path=\"url(#clip030)\" d=\"M1926.79 250.738 L2280.8 250.738 L2280.8 95.2176 L1926.79 95.2176  Z\" fill=\"#282a36\" fill-rule=\"evenodd\" fill-opacity=\"1\"/>\n",
       "<polyline clip-path=\"url(#clip030)\" style=\"stroke:#f8f8f2; stroke-linecap:round; stroke-linejoin:round; stroke-width:4; stroke-opacity:1; fill:none\" points=\"1926.79,250.738 2280.8,250.738 2280.8,95.2176 1926.79,95.2176 1926.79,250.738 \"/>\n",
       "<polyline clip-path=\"url(#clip030)\" style=\"stroke:#8be9fd; stroke-linecap:round; stroke-linejoin:round; stroke-width:4; stroke-opacity:1; fill:none\" points=\"1950.78,147.058 2094.7,147.058 \"/>\n",
       "<path clip-path=\"url(#clip030)\" d=\"M2137.11 139.176 L2137.11 143.203 Q2135.3 142.277 2133.36 141.815 Q2131.42 141.352 2129.33 141.352 Q2126.16 141.352 2124.56 142.324 Q2122.99 143.296 2122.99 145.24 Q2122.99 146.722 2124.12 147.578 Q2125.26 148.412 2128.68 149.176 L2130.14 149.5 Q2134.68 150.472 2136.58 152.254 Q2138.5 154.014 2138.5 157.185 Q2138.5 160.796 2135.63 162.902 Q2132.78 165.009 2127.78 165.009 Q2125.7 165.009 2123.43 164.592 Q2121.18 164.199 2118.68 163.388 L2118.68 158.99 Q2121.05 160.217 2123.34 160.842 Q2125.63 161.444 2127.87 161.444 Q2130.88 161.444 2132.5 160.426 Q2134.12 159.384 2134.12 157.509 Q2134.12 155.773 2132.94 154.847 Q2131.79 153.921 2127.83 153.064 L2126.35 152.717 Q2122.39 151.884 2120.63 150.171 Q2118.87 148.435 2118.87 145.426 Q2118.87 141.768 2121.46 139.778 Q2124.05 137.787 2128.82 137.787 Q2131.18 137.787 2133.27 138.134 Q2135.35 138.481 2137.11 139.176 Z\" fill=\"#f8f8f2\" fill-rule=\"nonzero\" fill-opacity=\"1\" /><path clip-path=\"url(#clip030)\" d=\"M2145.28 138.412 L2149.54 138.412 L2149.54 164.338 L2145.28 164.338 L2145.28 138.412 M2145.28 128.319 L2149.54 128.319 L2149.54 133.713 L2145.28 133.713 L2145.28 128.319 Z\" fill=\"#f8f8f2\" fill-rule=\"nonzero\" fill-opacity=\"1\" /><path clip-path=\"url(#clip030)\" d=\"M2180 148.689 L2180 164.338 L2175.74 164.338 L2175.74 148.828 Q2175.74 145.148 2174.31 143.319 Q2172.87 141.49 2170 141.49 Q2166.55 141.49 2164.56 143.69 Q2162.57 145.889 2162.57 149.685 L2162.57 164.338 L2158.29 164.338 L2158.29 138.412 L2162.57 138.412 L2162.57 142.44 Q2164.1 140.102 2166.16 138.944 Q2168.24 137.787 2170.95 137.787 Q2175.42 137.787 2177.71 140.565 Q2180 143.319 2180 148.689 Z\" fill=\"#f8f8f2\" fill-rule=\"nonzero\" fill-opacity=\"1\" /><path clip-path=\"url(#clip030)\" d=\"M2198.73 128.366 Q2195.63 133.69 2194.12 138.898 Q2192.62 144.106 2192.62 149.453 Q2192.62 154.801 2194.12 160.055 Q2195.65 165.287 2198.73 170.588 L2195.03 170.588 Q2191.55 165.148 2189.82 159.893 Q2188.11 154.639 2188.11 149.453 Q2188.11 144.291 2189.82 139.06 Q2191.53 133.828 2195.03 128.366 L2198.73 128.366 Z\" fill=\"#f8f8f2\" fill-rule=\"nonzero\" fill-opacity=\"1\" /><path clip-path=\"url(#clip030)\" d=\"M2228.54 138.412 L2219.17 151.027 L2229.03 164.338 L2224.01 164.338 L2216.46 154.152 L2208.92 164.338 L2203.89 164.338 L2213.96 150.773 L2204.75 138.412 L2209.77 138.412 L2216.65 147.648 L2223.52 138.412 L2228.54 138.412 Z\" fill=\"#f8f8f2\" fill-rule=\"nonzero\" fill-opacity=\"1\" /><path clip-path=\"url(#clip030)\" d=\"M2234.38 128.366 L2238.08 128.366 Q2241.55 133.828 2243.27 139.06 Q2245 144.291 2245 149.453 Q2245 154.639 2243.27 159.893 Q2241.55 165.148 2238.08 170.588 L2234.38 170.588 Q2237.46 165.287 2238.96 160.055 Q2240.49 154.801 2240.49 149.453 Q2240.49 144.106 2238.96 138.898 Q2237.46 133.69 2234.38 128.366 Z\" fill=\"#f8f8f2\" fill-rule=\"nonzero\" fill-opacity=\"1\" /><polyline clip-path=\"url(#clip030)\" style=\"stroke:#ff79c6; stroke-linecap:round; stroke-linejoin:round; stroke-width:4; stroke-opacity:1; fill:none\" points=\"1950.78,198.898 2094.7,198.898 \"/>\n",
       "<path clip-path=\"url(#clip030)\" d=\"M2139.19 191.247 L2139.19 195.229 Q2137.39 194.233 2135.56 193.747 Q2133.75 193.238 2131.9 193.238 Q2127.76 193.238 2125.47 195.877 Q2123.17 198.492 2123.17 203.238 Q2123.17 207.983 2125.47 210.622 Q2127.76 213.238 2131.9 213.238 Q2133.75 213.238 2135.56 212.752 Q2137.39 212.242 2139.19 211.247 L2139.19 215.182 Q2137.41 216.016 2135.49 216.432 Q2133.59 216.849 2131.44 216.849 Q2125.58 216.849 2122.13 213.168 Q2118.68 209.488 2118.68 203.238 Q2118.68 196.895 2122.16 193.261 Q2125.65 189.627 2131.72 189.627 Q2133.68 189.627 2135.56 190.043 Q2137.43 190.437 2139.19 191.247 Z\" fill=\"#f8f8f2\" fill-rule=\"nonzero\" fill-opacity=\"1\" /><path clip-path=\"url(#clip030)\" d=\"M2156.65 193.238 Q2153.22 193.238 2151.23 195.923 Q2149.24 198.585 2149.24 203.238 Q2149.24 207.891 2151.21 210.576 Q2153.2 213.238 2156.65 213.238 Q2160.05 213.238 2162.04 210.553 Q2164.03 207.867 2164.03 203.238 Q2164.03 198.631 2162.04 195.946 Q2160.05 193.238 2156.65 193.238 M2156.65 189.627 Q2162.2 189.627 2165.37 193.238 Q2168.54 196.849 2168.54 203.238 Q2168.54 209.604 2165.37 213.238 Q2162.2 216.849 2156.65 216.849 Q2151.07 216.849 2147.9 213.238 Q2144.75 209.604 2144.75 203.238 Q2144.75 196.849 2147.9 193.238 Q2151.07 189.627 2156.65 189.627 Z\" fill=\"#f8f8f2\" fill-rule=\"nonzero\" fill-opacity=\"1\" /><path clip-path=\"url(#clip030)\" d=\"M2192.13 191.016 L2192.13 195.043 Q2190.33 194.117 2188.38 193.655 Q2186.44 193.192 2184.36 193.192 Q2181.18 193.192 2179.59 194.164 Q2178.01 195.136 2178.01 197.08 Q2178.01 198.562 2179.15 199.418 Q2180.28 200.252 2183.71 201.016 L2185.17 201.34 Q2189.7 202.312 2191.6 204.094 Q2193.52 205.854 2193.52 209.025 Q2193.52 212.636 2190.65 214.742 Q2187.8 216.849 2182.8 216.849 Q2180.72 216.849 2178.45 216.432 Q2176.21 216.039 2173.71 215.228 L2173.71 210.83 Q2176.07 212.057 2178.36 212.682 Q2180.65 213.284 2182.9 213.284 Q2185.91 213.284 2187.53 212.266 Q2189.15 211.224 2189.15 209.349 Q2189.15 207.613 2187.97 206.687 Q2186.81 205.761 2182.85 204.904 L2181.37 204.557 Q2177.41 203.724 2175.65 202.011 Q2173.89 200.275 2173.89 197.266 Q2173.89 193.608 2176.48 191.618 Q2179.08 189.627 2183.85 189.627 Q2186.21 189.627 2188.29 189.974 Q2190.37 190.321 2192.13 191.016 Z\" fill=\"#f8f8f2\" fill-rule=\"nonzero\" fill-opacity=\"1\" /><path clip-path=\"url(#clip030)\" d=\"M2210.54 180.206 Q2207.43 185.53 2205.93 190.738 Q2204.42 195.946 2204.42 201.293 Q2204.42 206.641 2205.93 211.895 Q2207.46 217.127 2210.54 222.428 L2206.83 222.428 Q2203.36 216.988 2201.62 211.733 Q2199.91 206.479 2199.91 201.293 Q2199.91 196.131 2201.62 190.9 Q2203.34 185.668 2206.83 180.206 L2210.54 180.206 Z\" fill=\"#f8f8f2\" fill-rule=\"nonzero\" fill-opacity=\"1\" /><path clip-path=\"url(#clip030)\" d=\"M2240.35 190.252 L2230.98 202.867 L2240.84 216.178 L2235.81 216.178 L2228.27 205.992 L2220.72 216.178 L2215.7 216.178 L2225.77 202.613 L2216.55 190.252 L2221.58 190.252 L2228.45 199.488 L2235.33 190.252 L2240.35 190.252 Z\" fill=\"#f8f8f2\" fill-rule=\"nonzero\" fill-opacity=\"1\" /><path clip-path=\"url(#clip030)\" d=\"M2246.18 180.206 L2249.89 180.206 Q2253.36 185.668 2255.07 190.9 Q2256.81 196.131 2256.81 201.293 Q2256.81 206.479 2255.07 211.733 Q2253.36 216.988 2249.89 222.428 L2246.18 222.428 Q2249.26 217.127 2250.77 211.895 Q2252.29 206.641 2252.29 201.293 Q2252.29 195.946 2250.77 190.738 Q2249.26 185.53 2246.18 180.206 Z\" fill=\"#f8f8f2\" fill-rule=\"nonzero\" fill-opacity=\"1\" /></svg>\n"
      ]
     },
     "execution_count": 83,
     "metadata": {},
     "output_type": "execute_result"
    }
   ],
   "source": [
    "x = 1:.1:10\n",
    "y = sin.(x)\n",
    "z = cos.(x)\n",
    "\n",
    "plot(x, y, label=\"sin(x)\")\n",
    "plot!(x, z, label=\"cos(x)\") # Hold on the previous plot"
   ]
  },
  {
   "cell_type": "code",
   "execution_count": 84,
   "metadata": {},
   "outputs": [
    {
     "data": {
      "text/latex": [
       "\\textbf{Scatter Plot}\n",
       "\n"
      ],
      "text/markdown": [
       "**Scatter Plot**\n"
      ],
      "text/plain": [
       "  \u001b[1mScatter Plot\u001b[22m"
      ]
     },
     "execution_count": 84,
     "metadata": {},
     "output_type": "execute_result"
    }
   ],
   "source": [
    "md\"**Scatter Plot**\""
   ]
  },
  {
   "cell_type": "code",
   "execution_count": 85,
   "metadata": {},
   "outputs": [
    {
     "data": {
      "image/png": "[encoded data removed]",
      "image/svg+xml": [
       "<?xml version=\"1.0\" encoding=\"utf-8\"?>\n",
       "<svg xmlns=\"http://www.w3.org/2000/svg\" xmlns:xlink=\"http://www.w3.org/1999/xlink\" width=\"600\" height=\"400\" viewBox=\"0 0 2400 1600\">\n",
       "<defs>\n",
       "  <clipPath id=\"clip070\">\n",
       "    <rect x=\"0\" y=\"0\" width=\"2400\" height=\"1600\"/>\n",
       "  </clipPath>\n",
       "</defs>\n",
       "<path clip-path=\"url(#clip070)\" d=\"M0 1600 L2400 1600 L2400 0 L0 0  Z\" fill=\"#282a36\" fill-rule=\"evenodd\" fill-opacity=\"1\"/>\n",
       "<defs>\n",
       "  <clipPath id=\"clip071\">\n",
       "    <rect x=\"480\" y=\"0\" width=\"1681\" height=\"1600\"/>\n",
       "  </clipPath>\n",
       "</defs>\n",
       "<path clip-path=\"url(#clip070)\" d=\"M193.936 1486.45 L2352.76 1486.45 L2352.76 47.2441 L193.936 47.2441  Z\" fill=\"#30343b\" fill-rule=\"evenodd\" fill-opacity=\"1\"/>\n",
       "<defs>\n",
       "  <clipPath id=\"clip072\">\n",
       "    <rect x=\"193\" y=\"47\" width=\"2160\" height=\"1440\"/>\n",
       "  </clipPath>\n",
       "</defs>\n",
       "<polyline clip-path=\"url(#clip072)\" style=\"stroke:#f8f8f2; stroke-linecap:round; stroke-linejoin:round; stroke-width:2; stroke-opacity:0.1; fill:none\" points=\"481.326,1486.45 481.326,47.2441 \"/>\n",
       "<polyline clip-path=\"url(#clip072)\" style=\"stroke:#f8f8f2; stroke-linecap:round; stroke-linejoin:round; stroke-width:2; stroke-opacity:0.1; fill:none\" points=\"933.909,1486.45 933.909,47.2441 \"/>\n",
       "<polyline clip-path=\"url(#clip072)\" style=\"stroke:#f8f8f2; stroke-linecap:round; stroke-linejoin:round; stroke-width:2; stroke-opacity:0.1; fill:none\" points=\"1386.49,1486.45 1386.49,47.2441 \"/>\n",
       "<polyline clip-path=\"url(#clip072)\" style=\"stroke:#f8f8f2; stroke-linecap:round; stroke-linejoin:round; stroke-width:2; stroke-opacity:0.1; fill:none\" points=\"1839.07,1486.45 1839.07,47.2441 \"/>\n",
       "<polyline clip-path=\"url(#clip072)\" style=\"stroke:#f8f8f2; stroke-linecap:round; stroke-linejoin:round; stroke-width:2; stroke-opacity:0.1; fill:none\" points=\"2291.66,1486.45 2291.66,47.2441 \"/>\n",
       "<polyline clip-path=\"url(#clip072)\" style=\"stroke:#f8f8f2; stroke-linecap:round; stroke-linejoin:round; stroke-width:2; stroke-opacity:0.1; fill:none\" points=\"193.936,1447.88 2352.76,1447.88 \"/>\n",
       "<polyline clip-path=\"url(#clip072)\" style=\"stroke:#f8f8f2; stroke-linecap:round; stroke-linejoin:round; stroke-width:2; stroke-opacity:0.1; fill:none\" points=\"193.936,1105.97 2352.76,1105.97 \"/>\n",
       "<polyline clip-path=\"url(#clip072)\" style=\"stroke:#f8f8f2; stroke-linecap:round; stroke-linejoin:round; stroke-width:2; stroke-opacity:0.1; fill:none\" points=\"193.936,764.064 2352.76,764.064 \"/>\n",
       "<polyline clip-path=\"url(#clip072)\" style=\"stroke:#f8f8f2; stroke-linecap:round; stroke-linejoin:round; stroke-width:2; stroke-opacity:0.1; fill:none\" points=\"193.936,422.155 2352.76,422.155 \"/>\n",
       "<polyline clip-path=\"url(#clip072)\" style=\"stroke:#f8f8f2; stroke-linecap:round; stroke-linejoin:round; stroke-width:2; stroke-opacity:0.1; fill:none\" points=\"193.936,80.2461 2352.76,80.2461 \"/>\n",
       "<polyline clip-path=\"url(#clip070)\" style=\"stroke:#f8f8f2; stroke-linecap:round; stroke-linejoin:round; stroke-width:4; stroke-opacity:1; fill:none\" points=\"193.936,1486.45 2352.76,1486.45 \"/>\n",
       "<polyline clip-path=\"url(#clip070)\" style=\"stroke:#f8f8f2; stroke-linecap:round; stroke-linejoin:round; stroke-width:4; stroke-opacity:1; fill:none\" points=\"481.326,1486.45 481.326,1467.55 \"/>\n",
       "<polyline clip-path=\"url(#clip070)\" style=\"stroke:#f8f8f2; stroke-linecap:round; stroke-linejoin:round; stroke-width:4; stroke-opacity:1; fill:none\" points=\"933.909,1486.45 933.909,1467.55 \"/>\n",
       "<polyline clip-path=\"url(#clip070)\" style=\"stroke:#f8f8f2; stroke-linecap:round; stroke-linejoin:round; stroke-width:4; stroke-opacity:1; fill:none\" points=\"1386.49,1486.45 1386.49,1467.55 \"/>\n",
       "<polyline clip-path=\"url(#clip070)\" style=\"stroke:#f8f8f2; stroke-linecap:round; stroke-linejoin:round; stroke-width:4; stroke-opacity:1; fill:none\" points=\"1839.07,1486.45 1839.07,1467.55 \"/>\n",
       "<polyline clip-path=\"url(#clip070)\" style=\"stroke:#f8f8f2; stroke-linecap:round; stroke-linejoin:round; stroke-width:4; stroke-opacity:1; fill:none\" points=\"2291.66,1486.45 2291.66,1467.55 \"/>\n",
       "<path clip-path=\"url(#clip070)\" d=\"M475.979 1544.91 L492.298 1544.91 L492.298 1548.85 L470.354 1548.85 L470.354 1544.91 Q473.016 1542.16 477.599 1537.53 Q482.206 1532.88 483.386 1531.53 Q485.632 1529.01 486.511 1527.27 Q487.414 1525.51 487.414 1523.82 Q487.414 1521.07 485.47 1519.33 Q483.548 1517.6 480.446 1517.6 Q478.247 1517.6 475.794 1518.36 Q473.363 1519.13 470.585 1520.68 L470.585 1515.95 Q473.409 1514.82 475.863 1514.24 Q478.317 1513.66 480.354 1513.66 Q485.724 1513.66 488.919 1516.35 Q492.113 1519.03 492.113 1523.52 Q492.113 1525.65 491.303 1527.57 Q490.516 1529.47 488.409 1532.07 Q487.831 1532.74 484.729 1535.95 Q481.627 1539.15 475.979 1544.91 Z\" fill=\"#f8f8f2\" fill-rule=\"nonzero\" fill-opacity=\"1\" /><path clip-path=\"url(#clip070)\" d=\"M936.918 1518.36 L925.113 1536.81 L936.918 1536.81 L936.918 1518.36 M935.691 1514.29 L941.571 1514.29 L941.571 1536.81 L946.501 1536.81 L946.501 1540.7 L941.571 1540.7 L941.571 1548.85 L936.918 1548.85 L936.918 1540.7 L921.316 1540.7 L921.316 1536.19 L935.691 1514.29 Z\" fill=\"#f8f8f2\" fill-rule=\"nonzero\" fill-opacity=\"1\" /><path clip-path=\"url(#clip070)\" d=\"M1386.9 1529.7 Q1383.75 1529.7 1381.9 1531.86 Q1380.07 1534.01 1380.07 1537.76 Q1380.07 1541.49 1381.9 1543.66 Q1383.75 1545.82 1386.9 1545.82 Q1390.04 1545.82 1391.87 1543.66 Q1393.73 1541.49 1393.73 1537.76 Q1393.73 1534.01 1391.87 1531.86 Q1390.04 1529.7 1386.9 1529.7 M1396.18 1515.05 L1396.18 1519.31 Q1394.42 1518.48 1392.61 1518.04 Q1390.83 1517.6 1389.07 1517.6 Q1384.44 1517.6 1381.99 1520.72 Q1379.56 1523.85 1379.21 1530.17 Q1380.58 1528.15 1382.64 1527.09 Q1384.7 1526 1387.17 1526 Q1392.38 1526 1395.39 1529.17 Q1398.42 1532.32 1398.42 1537.76 Q1398.42 1543.08 1395.28 1546.3 Q1392.13 1549.52 1386.9 1549.52 Q1380.9 1549.52 1377.73 1544.94 Q1374.56 1540.33 1374.56 1531.6 Q1374.56 1523.41 1378.45 1518.55 Q1382.34 1513.66 1388.89 1513.66 Q1390.65 1513.66 1392.43 1514.01 Q1394.23 1514.36 1396.18 1515.05 Z\" fill=\"#f8f8f2\" fill-rule=\"nonzero\" fill-opacity=\"1\" /><path clip-path=\"url(#clip070)\" d=\"M1839.07 1532.44 Q1835.74 1532.44 1833.82 1534.22 Q1831.92 1536 1831.92 1539.13 Q1831.92 1542.25 1833.82 1544.03 Q1835.74 1545.82 1839.07 1545.82 Q1842.41 1545.82 1844.33 1544.03 Q1846.25 1542.23 1846.25 1539.13 Q1846.25 1536 1844.33 1534.22 Q1842.43 1532.44 1839.07 1532.44 M1834.4 1530.45 Q1831.39 1529.7 1829.7 1527.64 Q1828.03 1525.58 1828.03 1522.62 Q1828.03 1518.48 1830.97 1516.07 Q1833.94 1513.66 1839.07 1513.66 Q1844.24 1513.66 1847.18 1516.07 Q1850.12 1518.48 1850.12 1522.62 Q1850.12 1525.58 1848.43 1527.64 Q1846.76 1529.7 1843.77 1530.45 Q1847.15 1531.23 1849.03 1533.52 Q1850.93 1535.82 1850.93 1539.13 Q1850.93 1544.15 1847.85 1546.83 Q1844.79 1549.52 1839.07 1549.52 Q1833.36 1549.52 1830.28 1546.83 Q1827.22 1544.15 1827.22 1539.13 Q1827.22 1535.82 1829.12 1533.52 Q1831.02 1531.23 1834.4 1530.45 M1832.69 1523.06 Q1832.69 1525.75 1834.35 1527.25 Q1836.04 1528.76 1839.07 1528.76 Q1842.08 1528.76 1843.77 1527.25 Q1845.49 1525.75 1845.49 1523.06 Q1845.49 1520.38 1843.77 1518.87 Q1842.08 1517.37 1839.07 1517.37 Q1836.04 1517.37 1834.35 1518.87 Q1832.69 1520.38 1832.69 1523.06 Z\" fill=\"#f8f8f2\" fill-rule=\"nonzero\" fill-opacity=\"1\" /><path clip-path=\"url(#clip070)\" d=\"M2266.34 1544.91 L2273.98 1544.91 L2273.98 1518.55 L2265.67 1520.21 L2265.67 1515.95 L2273.94 1514.29 L2278.61 1514.29 L2278.61 1544.91 L2286.25 1544.91 L2286.25 1548.85 L2266.34 1548.85 L2266.34 1544.91 Z\" fill=\"#f8f8f2\" fill-rule=\"nonzero\" fill-opacity=\"1\" /><path clip-path=\"url(#clip070)\" d=\"M2305.7 1517.37 Q2302.09 1517.37 2300.26 1520.93 Q2298.45 1524.47 2298.45 1531.6 Q2298.45 1538.71 2300.26 1542.27 Q2302.09 1545.82 2305.7 1545.82 Q2309.33 1545.82 2311.14 1542.27 Q2312.96 1538.71 2312.96 1531.6 Q2312.96 1524.47 2311.14 1520.93 Q2309.33 1517.37 2305.7 1517.37 M2305.7 1513.66 Q2311.51 1513.66 2314.56 1518.27 Q2317.64 1522.85 2317.64 1531.6 Q2317.64 1540.33 2314.56 1544.94 Q2311.51 1549.52 2305.7 1549.52 Q2299.89 1549.52 2296.81 1544.94 Q2293.75 1540.33 2293.75 1531.6 Q2293.75 1522.85 2296.81 1518.27 Q2299.89 1513.66 2305.7 1513.66 Z\" fill=\"#f8f8f2\" fill-rule=\"nonzero\" fill-opacity=\"1\" /><polyline clip-path=\"url(#clip070)\" style=\"stroke:#f8f8f2; stroke-linecap:round; stroke-linejoin:round; stroke-width:4; stroke-opacity:1; fill:none\" points=\"193.936,1486.45 193.936,47.2441 \"/>\n",
       "<polyline clip-path=\"url(#clip070)\" style=\"stroke:#f8f8f2; stroke-linecap:round; stroke-linejoin:round; stroke-width:4; stroke-opacity:1; fill:none\" points=\"193.936,1447.88 212.834,1447.88 \"/>\n",
       "<polyline clip-path=\"url(#clip070)\" style=\"stroke:#f8f8f2; stroke-linecap:round; stroke-linejoin:round; stroke-width:4; stroke-opacity:1; fill:none\" points=\"193.936,1105.97 212.834,1105.97 \"/>\n",
       "<polyline clip-path=\"url(#clip070)\" style=\"stroke:#f8f8f2; stroke-linecap:round; stroke-linejoin:round; stroke-width:4; stroke-opacity:1; fill:none\" points=\"193.936,764.064 212.834,764.064 \"/>\n",
       "<polyline clip-path=\"url(#clip070)\" style=\"stroke:#f8f8f2; stroke-linecap:round; stroke-linejoin:round; stroke-width:4; stroke-opacity:1; fill:none\" points=\"193.936,422.155 212.834,422.155 \"/>\n",
       "<polyline clip-path=\"url(#clip070)\" style=\"stroke:#f8f8f2; stroke-linecap:round; stroke-linejoin:round; stroke-width:4; stroke-opacity:1; fill:none\" points=\"193.936,80.2461 212.834,80.2461 \"/>\n",
       "<path clip-path=\"url(#clip070)\" d=\"M50.9921 1448.33 L80.6679 1448.33 L80.6679 1452.27 L50.9921 1452.27 L50.9921 1448.33 Z\" fill=\"#f8f8f2\" fill-rule=\"nonzero\" fill-opacity=\"1\" /><path clip-path=\"url(#clip070)\" d=\"M91.5706 1461.23 L99.2095 1461.23 L99.2095 1434.86 L90.8993 1436.53 L90.8993 1432.27 L99.1632 1430.6 L103.839 1430.6 L103.839 1461.23 L111.478 1461.23 L111.478 1465.16 L91.5706 1465.16 L91.5706 1461.23 Z\" fill=\"#f8f8f2\" fill-rule=\"nonzero\" fill-opacity=\"1\" /><path clip-path=\"url(#clip070)\" d=\"M120.922 1459.28 L125.807 1459.28 L125.807 1465.16 L120.922 1465.16 L120.922 1459.28 Z\" fill=\"#f8f8f2\" fill-rule=\"nonzero\" fill-opacity=\"1\" /><path clip-path=\"url(#clip070)\" d=\"M145.992 1433.68 Q142.381 1433.68 140.552 1437.24 Q138.746 1440.79 138.746 1447.92 Q138.746 1455.02 140.552 1458.59 Q142.381 1462.13 145.992 1462.13 Q149.626 1462.13 151.431 1458.59 Q153.26 1455.02 153.26 1447.92 Q153.26 1440.79 151.431 1437.24 Q149.626 1433.68 145.992 1433.68 M145.992 1429.98 Q151.802 1429.98 154.857 1434.58 Q157.936 1439.17 157.936 1447.92 Q157.936 1456.64 154.857 1461.25 Q151.802 1465.83 145.992 1465.83 Q140.181 1465.83 137.103 1461.25 Q134.047 1456.64 134.047 1447.92 Q134.047 1439.17 137.103 1434.58 Q140.181 1429.98 145.992 1429.98 Z\" fill=\"#f8f8f2\" fill-rule=\"nonzero\" fill-opacity=\"1\" /><path clip-path=\"url(#clip070)\" d=\"M51.9875 1106.42 L81.6633 1106.42 L81.6633 1110.36 L51.9875 1110.36 L51.9875 1106.42 Z\" fill=\"#f8f8f2\" fill-rule=\"nonzero\" fill-opacity=\"1\" /><path clip-path=\"url(#clip070)\" d=\"M101.756 1091.77 Q98.1447 1091.77 96.316 1095.34 Q94.5104 1098.88 94.5104 1106.01 Q94.5104 1113.11 96.316 1116.68 Q98.1447 1120.22 101.756 1120.22 Q105.39 1120.22 107.196 1116.68 Q109.024 1113.11 109.024 1106.01 Q109.024 1098.88 107.196 1095.34 Q105.39 1091.77 101.756 1091.77 M101.756 1088.07 Q107.566 1088.07 110.621 1092.67 Q113.7 1097.26 113.7 1106.01 Q113.7 1114.73 110.621 1119.34 Q107.566 1123.92 101.756 1123.92 Q95.9456 1123.92 92.8669 1119.34 Q89.8114 1114.73 89.8114 1106.01 Q89.8114 1097.26 92.8669 1092.67 Q95.9456 1088.07 101.756 1088.07 Z\" fill=\"#f8f8f2\" fill-rule=\"nonzero\" fill-opacity=\"1\" /><path clip-path=\"url(#clip070)\" d=\"M121.918 1117.37 L126.802 1117.37 L126.802 1123.25 L121.918 1123.25 L121.918 1117.37 Z\" fill=\"#f8f8f2\" fill-rule=\"nonzero\" fill-opacity=\"1\" /><path clip-path=\"url(#clip070)\" d=\"M137.033 1088.69 L155.39 1088.69 L155.39 1092.63 L141.316 1092.63 L141.316 1101.1 Q142.334 1100.75 143.353 1100.59 Q144.371 1100.41 145.39 1100.41 Q151.177 1100.41 154.556 1103.58 Q157.936 1106.75 157.936 1112.16 Q157.936 1117.74 154.464 1120.84 Q150.992 1123.92 144.672 1123.92 Q142.496 1123.92 140.228 1123.55 Q137.982 1123.18 135.575 1122.44 L135.575 1117.74 Q137.658 1118.88 139.881 1119.43 Q142.103 1119.99 144.58 1119.99 Q148.584 1119.99 150.922 1117.88 Q153.26 1115.78 153.26 1112.16 Q153.26 1108.55 150.922 1106.45 Q148.584 1104.34 144.58 1104.34 Q142.705 1104.34 140.83 1104.76 Q138.978 1105.17 137.033 1106.05 L137.033 1088.69 Z\" fill=\"#f8f8f2\" fill-rule=\"nonzero\" fill-opacity=\"1\" /><path clip-path=\"url(#clip070)\" d=\"M100.76 749.862 Q97.1493 749.862 95.3206 753.427 Q93.515 756.969 93.515 764.098 Q93.515 771.205 95.3206 774.77 Q97.1493 778.311 100.76 778.311 Q104.395 778.311 106.2 774.77 Q108.029 771.205 108.029 764.098 Q108.029 756.969 106.2 753.427 Q104.395 749.862 100.76 749.862 M100.76 746.159 Q106.571 746.159 109.626 750.765 Q112.705 755.348 112.705 764.098 Q112.705 772.825 109.626 777.432 Q106.571 782.015 100.76 782.015 Q94.9502 782.015 91.8715 777.432 Q88.816 772.825 88.816 764.098 Q88.816 755.348 91.8715 750.765 Q94.9502 746.159 100.76 746.159 Z\" fill=\"#f8f8f2\" fill-rule=\"nonzero\" fill-opacity=\"1\" /><path clip-path=\"url(#clip070)\" d=\"M120.922 775.464 L125.807 775.464 L125.807 781.344 L120.922 781.344 L120.922 775.464 Z\" fill=\"#f8f8f2\" fill-rule=\"nonzero\" fill-opacity=\"1\" /><path clip-path=\"url(#clip070)\" d=\"M145.992 749.862 Q142.381 749.862 140.552 753.427 Q138.746 756.969 138.746 764.098 Q138.746 771.205 140.552 774.77 Q142.381 778.311 145.992 778.311 Q149.626 778.311 151.431 774.77 Q153.26 771.205 153.26 764.098 Q153.26 756.969 151.431 753.427 Q149.626 749.862 145.992 749.862 M145.992 746.159 Q151.802 746.159 154.857 750.765 Q157.936 755.348 157.936 764.098 Q157.936 772.825 154.857 777.432 Q151.802 782.015 145.992 782.015 Q140.181 782.015 137.103 777.432 Q134.047 772.825 134.047 764.098 Q134.047 755.348 137.103 750.765 Q140.181 746.159 145.992 746.159 Z\" fill=\"#f8f8f2\" fill-rule=\"nonzero\" fill-opacity=\"1\" /><path clip-path=\"url(#clip070)\" d=\"M101.756 407.954 Q98.1447 407.954 96.316 411.518 Q94.5104 415.06 94.5104 422.19 Q94.5104 429.296 96.316 432.861 Q98.1447 436.402 101.756 436.402 Q105.39 436.402 107.196 432.861 Q109.024 429.296 109.024 422.19 Q109.024 415.06 107.196 411.518 Q105.39 407.954 101.756 407.954 M101.756 404.25 Q107.566 404.25 110.621 408.856 Q113.7 413.44 113.7 422.19 Q113.7 430.916 110.621 435.523 Q107.566 440.106 101.756 440.106 Q95.9456 440.106 92.8669 435.523 Q89.8114 430.916 89.8114 422.19 Q89.8114 413.44 92.8669 408.856 Q95.9456 404.25 101.756 404.25 Z\" fill=\"#f8f8f2\" fill-rule=\"nonzero\" fill-opacity=\"1\" /><path clip-path=\"url(#clip070)\" d=\"M121.918 433.555 L126.802 433.555 L126.802 439.435 L121.918 439.435 L121.918 433.555 Z\" fill=\"#f8f8f2\" fill-rule=\"nonzero\" fill-opacity=\"1\" /><path clip-path=\"url(#clip070)\" d=\"M137.033 404.875 L155.39 404.875 L155.39 408.81 L141.316 408.81 L141.316 417.282 Q142.334 416.935 143.353 416.773 Q144.371 416.588 145.39 416.588 Q151.177 416.588 154.556 419.759 Q157.936 422.93 157.936 428.347 Q157.936 433.926 154.464 437.027 Q150.992 440.106 144.672 440.106 Q142.496 440.106 140.228 439.736 Q137.982 439.365 135.575 438.625 L135.575 433.926 Q137.658 435.06 139.881 435.615 Q142.103 436.171 144.58 436.171 Q148.584 436.171 150.922 434.065 Q153.26 431.958 153.26 428.347 Q153.26 424.736 150.922 422.629 Q148.584 420.523 144.58 420.523 Q142.705 420.523 140.83 420.94 Q138.978 421.356 137.033 422.236 L137.033 404.875 Z\" fill=\"#f8f8f2\" fill-rule=\"nonzero\" fill-opacity=\"1\" /><path clip-path=\"url(#clip070)\" d=\"M91.5706 93.591 L99.2095 93.591 L99.2095 67.2254 L90.8993 68.892 L90.8993 64.6328 L99.1632 62.9661 L103.839 62.9661 L103.839 93.591 L111.478 93.591 L111.478 97.5261 L91.5706 97.5261 L91.5706 93.591 Z\" fill=\"#f8f8f2\" fill-rule=\"nonzero\" fill-opacity=\"1\" /><path clip-path=\"url(#clip070)\" d=\"M120.922 91.6465 L125.807 91.6465 L125.807 97.5261 L120.922 97.5261 L120.922 91.6465 Z\" fill=\"#f8f8f2\" fill-rule=\"nonzero\" fill-opacity=\"1\" /><path clip-path=\"url(#clip070)\" d=\"M145.992 66.0448 Q142.381 66.0448 140.552 69.6096 Q138.746 73.1512 138.746 80.2808 Q138.746 87.3873 140.552 90.9521 Q142.381 94.4937 145.992 94.4937 Q149.626 94.4937 151.431 90.9521 Q153.26 87.3873 153.26 80.2808 Q153.26 73.1512 151.431 69.6096 Q149.626 66.0448 145.992 66.0448 M145.992 62.3411 Q151.802 62.3411 154.857 66.9476 Q157.936 71.5309 157.936 80.2808 Q157.936 89.0076 154.857 93.6141 Q151.802 98.1974 145.992 98.1974 Q140.181 98.1974 137.103 93.6141 Q134.047 89.0076 134.047 80.2808 Q134.047 71.5309 137.103 66.9476 Q140.181 62.3411 145.992 62.3411 Z\" fill=\"#f8f8f2\" fill-rule=\"nonzero\" fill-opacity=\"1\" /><circle clip-path=\"url(#clip072)\" cx=\"255.035\" cy=\"394.595\" r=\"14.4\" fill=\"#8be9fd\" fill-rule=\"evenodd\" fill-opacity=\"1\" stroke=\"#f8f8f2\" stroke-opacity=\"1\" stroke-width=\"3.2\"/>\n",
       "<circle clip-path=\"url(#clip072)\" cx=\"481.326\" cy=\"863.559\" r=\"14.4\" fill=\"#8be9fd\" fill-rule=\"evenodd\" fill-opacity=\"1\" stroke=\"#f8f8f2\" stroke-opacity=\"1\" stroke-width=\"3.2\"/>\n",
       "<circle clip-path=\"url(#clip072)\" cx=\"707.617\" cy=\"963.833\" r=\"14.4\" fill=\"#8be9fd\" fill-rule=\"evenodd\" fill-opacity=\"1\" stroke=\"#f8f8f2\" stroke-opacity=\"1\" stroke-width=\"3.2\"/>\n",
       "<circle clip-path=\"url(#clip072)\" cx=\"933.909\" cy=\"496.105\" r=\"14.4\" fill=\"#8be9fd\" fill-rule=\"evenodd\" fill-opacity=\"1\" stroke=\"#f8f8f2\" stroke-opacity=\"1\" stroke-width=\"3.2\"/>\n",
       "<circle clip-path=\"url(#clip072)\" cx=\"1160.2\" cy=\"225.411\" r=\"14.4\" fill=\"#8be9fd\" fill-rule=\"evenodd\" fill-opacity=\"1\" stroke=\"#f8f8f2\" stroke-opacity=\"1\" stroke-width=\"3.2\"/>\n",
       "<circle clip-path=\"url(#clip072)\" cx=\"1386.49\" cy=\"1255.03\" r=\"14.4\" fill=\"#8be9fd\" fill-rule=\"evenodd\" fill-opacity=\"1\" stroke=\"#f8f8f2\" stroke-opacity=\"1\" stroke-width=\"3.2\"/>\n",
       "<circle clip-path=\"url(#clip072)\" cx=\"1612.78\" cy=\"1341.09\" r=\"14.4\" fill=\"#8be9fd\" fill-rule=\"evenodd\" fill-opacity=\"1\" stroke=\"#f8f8f2\" stroke-opacity=\"1\" stroke-width=\"3.2\"/>\n",
       "<circle clip-path=\"url(#clip072)\" cx=\"1839.07\" cy=\"1445.72\" r=\"14.4\" fill=\"#8be9fd\" fill-rule=\"evenodd\" fill-opacity=\"1\" stroke=\"#f8f8f2\" stroke-opacity=\"1\" stroke-width=\"3.2\"/>\n",
       "<circle clip-path=\"url(#clip072)\" cx=\"2065.37\" cy=\"87.9763\" r=\"14.4\" fill=\"#8be9fd\" fill-rule=\"evenodd\" fill-opacity=\"1\" stroke=\"#f8f8f2\" stroke-opacity=\"1\" stroke-width=\"3.2\"/>\n",
       "<circle clip-path=\"url(#clip072)\" cx=\"2291.66\" cy=\"379.499\" r=\"14.4\" fill=\"#8be9fd\" fill-rule=\"evenodd\" fill-opacity=\"1\" stroke=\"#f8f8f2\" stroke-opacity=\"1\" stroke-width=\"3.2\"/>\n",
       "</svg>\n"
      ],
      "text/html": [
       "<?xml version=\"1.0\" encoding=\"utf-8\"?>\n",
       "<svg xmlns=\"http://www.w3.org/2000/svg\" xmlns:xlink=\"http://www.w3.org/1999/xlink\" width=\"600\" height=\"400\" viewBox=\"0 0 2400 1600\">\n",
       "<defs>\n",
       "  <clipPath id=\"clip120\">\n",
       "    <rect x=\"0\" y=\"0\" width=\"2400\" height=\"1600\"/>\n",
       "  </clipPath>\n",
       "</defs>\n",
       "<path clip-path=\"url(#clip120)\" d=\"M0 1600 L2400 1600 L2400 0 L0 0  Z\" fill=\"#282a36\" fill-rule=\"evenodd\" fill-opacity=\"1\"/>\n",
       "<defs>\n",
       "  <clipPath id=\"clip121\">\n",
       "    <rect x=\"480\" y=\"0\" width=\"1681\" height=\"1600\"/>\n",
       "  </clipPath>\n",
       "</defs>\n",
       "<path clip-path=\"url(#clip120)\" d=\"M193.936 1486.45 L2352.76 1486.45 L2352.76 47.2441 L193.936 47.2441  Z\" fill=\"#30343b\" fill-rule=\"evenodd\" fill-opacity=\"1\"/>\n",
       "<defs>\n",
       "  <clipPath id=\"clip122\">\n",
       "    <rect x=\"193\" y=\"47\" width=\"2160\" height=\"1440\"/>\n",
       "  </clipPath>\n",
       "</defs>\n",
       "<polyline clip-path=\"url(#clip122)\" style=\"stroke:#f8f8f2; stroke-linecap:round; stroke-linejoin:round; stroke-width:2; stroke-opacity:0.1; fill:none\" points=\"481.326,1486.45 481.326,47.2441 \"/>\n",
       "<polyline clip-path=\"url(#clip122)\" style=\"stroke:#f8f8f2; stroke-linecap:round; stroke-linejoin:round; stroke-width:2; stroke-opacity:0.1; fill:none\" points=\"933.909,1486.45 933.909,47.2441 \"/>\n",
       "<polyline clip-path=\"url(#clip122)\" style=\"stroke:#f8f8f2; stroke-linecap:round; stroke-linejoin:round; stroke-width:2; stroke-opacity:0.1; fill:none\" points=\"1386.49,1486.45 1386.49,47.2441 \"/>\n",
       "<polyline clip-path=\"url(#clip122)\" style=\"stroke:#f8f8f2; stroke-linecap:round; stroke-linejoin:round; stroke-width:2; stroke-opacity:0.1; fill:none\" points=\"1839.07,1486.45 1839.07,47.2441 \"/>\n",
       "<polyline clip-path=\"url(#clip122)\" style=\"stroke:#f8f8f2; stroke-linecap:round; stroke-linejoin:round; stroke-width:2; stroke-opacity:0.1; fill:none\" points=\"2291.66,1486.45 2291.66,47.2441 \"/>\n",
       "<polyline clip-path=\"url(#clip122)\" style=\"stroke:#f8f8f2; stroke-linecap:round; stroke-linejoin:round; stroke-width:2; stroke-opacity:0.1; fill:none\" points=\"193.936,1447.88 2352.76,1447.88 \"/>\n",
       "<polyline clip-path=\"url(#clip122)\" style=\"stroke:#f8f8f2; stroke-linecap:round; stroke-linejoin:round; stroke-width:2; stroke-opacity:0.1; fill:none\" points=\"193.936,1105.97 2352.76,1105.97 \"/>\n",
       "<polyline clip-path=\"url(#clip122)\" style=\"stroke:#f8f8f2; stroke-linecap:round; stroke-linejoin:round; stroke-width:2; stroke-opacity:0.1; fill:none\" points=\"193.936,764.064 2352.76,764.064 \"/>\n",
       "<polyline clip-path=\"url(#clip122)\" style=\"stroke:#f8f8f2; stroke-linecap:round; stroke-linejoin:round; stroke-width:2; stroke-opacity:0.1; fill:none\" points=\"193.936,422.155 2352.76,422.155 \"/>\n",
       "<polyline clip-path=\"url(#clip122)\" style=\"stroke:#f8f8f2; stroke-linecap:round; stroke-linejoin:round; stroke-width:2; stroke-opacity:0.1; fill:none\" points=\"193.936,80.2461 2352.76,80.2461 \"/>\n",
       "<polyline clip-path=\"url(#clip120)\" style=\"stroke:#f8f8f2; stroke-linecap:round; stroke-linejoin:round; stroke-width:4; stroke-opacity:1; fill:none\" points=\"193.936,1486.45 2352.76,1486.45 \"/>\n",
       "<polyline clip-path=\"url(#clip120)\" style=\"stroke:#f8f8f2; stroke-linecap:round; stroke-linejoin:round; stroke-width:4; stroke-opacity:1; fill:none\" points=\"481.326,1486.45 481.326,1467.55 \"/>\n",
       "<polyline clip-path=\"url(#clip120)\" style=\"stroke:#f8f8f2; stroke-linecap:round; stroke-linejoin:round; stroke-width:4; stroke-opacity:1; fill:none\" points=\"933.909,1486.45 933.909,1467.55 \"/>\n",
       "<polyline clip-path=\"url(#clip120)\" style=\"stroke:#f8f8f2; stroke-linecap:round; stroke-linejoin:round; stroke-width:4; stroke-opacity:1; fill:none\" points=\"1386.49,1486.45 1386.49,1467.55 \"/>\n",
       "<polyline clip-path=\"url(#clip120)\" style=\"stroke:#f8f8f2; stroke-linecap:round; stroke-linejoin:round; stroke-width:4; stroke-opacity:1; fill:none\" points=\"1839.07,1486.45 1839.07,1467.55 \"/>\n",
       "<polyline clip-path=\"url(#clip120)\" style=\"stroke:#f8f8f2; stroke-linecap:round; stroke-linejoin:round; stroke-width:4; stroke-opacity:1; fill:none\" points=\"2291.66,1486.45 2291.66,1467.55 \"/>\n",
       "<path clip-path=\"url(#clip120)\" d=\"M475.979 1544.91 L492.298 1544.91 L492.298 1548.85 L470.354 1548.85 L470.354 1544.91 Q473.016 1542.16 477.599 1537.53 Q482.206 1532.88 483.386 1531.53 Q485.632 1529.01 486.511 1527.27 Q487.414 1525.51 487.414 1523.82 Q487.414 1521.07 485.47 1519.33 Q483.548 1517.6 480.446 1517.6 Q478.247 1517.6 475.794 1518.36 Q473.363 1519.13 470.585 1520.68 L470.585 1515.95 Q473.409 1514.82 475.863 1514.24 Q478.317 1513.66 480.354 1513.66 Q485.724 1513.66 488.919 1516.35 Q492.113 1519.03 492.113 1523.52 Q492.113 1525.65 491.303 1527.57 Q490.516 1529.47 488.409 1532.07 Q487.831 1532.74 484.729 1535.95 Q481.627 1539.15 475.979 1544.91 Z\" fill=\"#f8f8f2\" fill-rule=\"nonzero\" fill-opacity=\"1\" /><path clip-path=\"url(#clip120)\" d=\"M936.918 1518.36 L925.113 1536.81 L936.918 1536.81 L936.918 1518.36 M935.691 1514.29 L941.571 1514.29 L941.571 1536.81 L946.501 1536.81 L946.501 1540.7 L941.571 1540.7 L941.571 1548.85 L936.918 1548.85 L936.918 1540.7 L921.316 1540.7 L921.316 1536.19 L935.691 1514.29 Z\" fill=\"#f8f8f2\" fill-rule=\"nonzero\" fill-opacity=\"1\" /><path clip-path=\"url(#clip120)\" d=\"M1386.9 1529.7 Q1383.75 1529.7 1381.9 1531.86 Q1380.07 1534.01 1380.07 1537.76 Q1380.07 1541.49 1381.9 1543.66 Q1383.75 1545.82 1386.9 1545.82 Q1390.04 1545.82 1391.87 1543.66 Q1393.73 1541.49 1393.73 1537.76 Q1393.73 1534.01 1391.87 1531.86 Q1390.04 1529.7 1386.9 1529.7 M1396.18 1515.05 L1396.18 1519.31 Q1394.42 1518.48 1392.61 1518.04 Q1390.83 1517.6 1389.07 1517.6 Q1384.44 1517.6 1381.99 1520.72 Q1379.56 1523.85 1379.21 1530.17 Q1380.58 1528.15 1382.64 1527.09 Q1384.7 1526 1387.17 1526 Q1392.38 1526 1395.39 1529.17 Q1398.42 1532.32 1398.42 1537.76 Q1398.42 1543.08 1395.28 1546.3 Q1392.13 1549.52 1386.9 1549.52 Q1380.9 1549.52 1377.73 1544.94 Q1374.56 1540.33 1374.56 1531.6 Q1374.56 1523.41 1378.45 1518.55 Q1382.34 1513.66 1388.89 1513.66 Q1390.65 1513.66 1392.43 1514.01 Q1394.23 1514.36 1396.18 1515.05 Z\" fill=\"#f8f8f2\" fill-rule=\"nonzero\" fill-opacity=\"1\" /><path clip-path=\"url(#clip120)\" d=\"M1839.07 1532.44 Q1835.74 1532.44 1833.82 1534.22 Q1831.92 1536 1831.92 1539.13 Q1831.92 1542.25 1833.82 1544.03 Q1835.74 1545.82 1839.07 1545.82 Q1842.41 1545.82 1844.33 1544.03 Q1846.25 1542.23 1846.25 1539.13 Q1846.25 1536 1844.33 1534.22 Q1842.43 1532.44 1839.07 1532.44 M1834.4 1530.45 Q1831.39 1529.7 1829.7 1527.64 Q1828.03 1525.58 1828.03 1522.62 Q1828.03 1518.48 1830.97 1516.07 Q1833.94 1513.66 1839.07 1513.66 Q1844.24 1513.66 1847.18 1516.07 Q1850.12 1518.48 1850.12 1522.62 Q1850.12 1525.58 1848.43 1527.64 Q1846.76 1529.7 1843.77 1530.45 Q1847.15 1531.23 1849.03 1533.52 Q1850.93 1535.82 1850.93 1539.13 Q1850.93 1544.15 1847.85 1546.83 Q1844.79 1549.52 1839.07 1549.52 Q1833.36 1549.52 1830.28 1546.83 Q1827.22 1544.15 1827.22 1539.13 Q1827.22 1535.82 1829.12 1533.52 Q1831.02 1531.23 1834.4 1530.45 M1832.69 1523.06 Q1832.69 1525.75 1834.35 1527.25 Q1836.04 1528.76 1839.07 1528.76 Q1842.08 1528.76 1843.77 1527.25 Q1845.49 1525.75 1845.49 1523.06 Q1845.49 1520.38 1843.77 1518.87 Q1842.08 1517.37 1839.07 1517.37 Q1836.04 1517.37 1834.35 1518.87 Q1832.69 1520.38 1832.69 1523.06 Z\" fill=\"#f8f8f2\" fill-rule=\"nonzero\" fill-opacity=\"1\" /><path clip-path=\"url(#clip120)\" d=\"M2266.34 1544.91 L2273.98 1544.91 L2273.98 1518.55 L2265.67 1520.21 L2265.67 1515.95 L2273.94 1514.29 L2278.61 1514.29 L2278.61 1544.91 L2286.25 1544.91 L2286.25 1548.85 L2266.34 1548.85 L2266.34 1544.91 Z\" fill=\"#f8f8f2\" fill-rule=\"nonzero\" fill-opacity=\"1\" /><path clip-path=\"url(#clip120)\" d=\"M2305.7 1517.37 Q2302.09 1517.37 2300.26 1520.93 Q2298.45 1524.47 2298.45 1531.6 Q2298.45 1538.71 2300.26 1542.27 Q2302.09 1545.82 2305.7 1545.82 Q2309.33 1545.82 2311.14 1542.27 Q2312.96 1538.71 2312.96 1531.6 Q2312.96 1524.47 2311.14 1520.93 Q2309.33 1517.37 2305.7 1517.37 M2305.7 1513.66 Q2311.51 1513.66 2314.56 1518.27 Q2317.64 1522.85 2317.64 1531.6 Q2317.64 1540.33 2314.56 1544.94 Q2311.51 1549.52 2305.7 1549.52 Q2299.89 1549.52 2296.81 1544.94 Q2293.75 1540.33 2293.75 1531.6 Q2293.75 1522.85 2296.81 1518.27 Q2299.89 1513.66 2305.7 1513.66 Z\" fill=\"#f8f8f2\" fill-rule=\"nonzero\" fill-opacity=\"1\" /><polyline clip-path=\"url(#clip120)\" style=\"stroke:#f8f8f2; stroke-linecap:round; stroke-linejoin:round; stroke-width:4; stroke-opacity:1; fill:none\" points=\"193.936,1486.45 193.936,47.2441 \"/>\n",
       "<polyline clip-path=\"url(#clip120)\" style=\"stroke:#f8f8f2; stroke-linecap:round; stroke-linejoin:round; stroke-width:4; stroke-opacity:1; fill:none\" points=\"193.936,1447.88 212.834,1447.88 \"/>\n",
       "<polyline clip-path=\"url(#clip120)\" style=\"stroke:#f8f8f2; stroke-linecap:round; stroke-linejoin:round; stroke-width:4; stroke-opacity:1; fill:none\" points=\"193.936,1105.97 212.834,1105.97 \"/>\n",
       "<polyline clip-path=\"url(#clip120)\" style=\"stroke:#f8f8f2; stroke-linecap:round; stroke-linejoin:round; stroke-width:4; stroke-opacity:1; fill:none\" points=\"193.936,764.064 212.834,764.064 \"/>\n",
       "<polyline clip-path=\"url(#clip120)\" style=\"stroke:#f8f8f2; stroke-linecap:round; stroke-linejoin:round; stroke-width:4; stroke-opacity:1; fill:none\" points=\"193.936,422.155 212.834,422.155 \"/>\n",
       "<polyline clip-path=\"url(#clip120)\" style=\"stroke:#f8f8f2; stroke-linecap:round; stroke-linejoin:round; stroke-width:4; stroke-opacity:1; fill:none\" points=\"193.936,80.2461 212.834,80.2461 \"/>\n",
       "<path clip-path=\"url(#clip120)\" d=\"M50.9921 1448.33 L80.6679 1448.33 L80.6679 1452.27 L50.9921 1452.27 L50.9921 1448.33 Z\" fill=\"#f8f8f2\" fill-rule=\"nonzero\" fill-opacity=\"1\" /><path clip-path=\"url(#clip120)\" d=\"M91.5706 1461.23 L99.2095 1461.23 L99.2095 1434.86 L90.8993 1436.53 L90.8993 1432.27 L99.1632 1430.6 L103.839 1430.6 L103.839 1461.23 L111.478 1461.23 L111.478 1465.16 L91.5706 1465.16 L91.5706 1461.23 Z\" fill=\"#f8f8f2\" fill-rule=\"nonzero\" fill-opacity=\"1\" /><path clip-path=\"url(#clip120)\" d=\"M120.922 1459.28 L125.807 1459.28 L125.807 1465.16 L120.922 1465.16 L120.922 1459.28 Z\" fill=\"#f8f8f2\" fill-rule=\"nonzero\" fill-opacity=\"1\" /><path clip-path=\"url(#clip120)\" d=\"M145.992 1433.68 Q142.381 1433.68 140.552 1437.24 Q138.746 1440.79 138.746 1447.92 Q138.746 1455.02 140.552 1458.59 Q142.381 1462.13 145.992 1462.13 Q149.626 1462.13 151.431 1458.59 Q153.26 1455.02 153.26 1447.92 Q153.26 1440.79 151.431 1437.24 Q149.626 1433.68 145.992 1433.68 M145.992 1429.98 Q151.802 1429.98 154.857 1434.58 Q157.936 1439.17 157.936 1447.92 Q157.936 1456.64 154.857 1461.25 Q151.802 1465.83 145.992 1465.83 Q140.181 1465.83 137.103 1461.25 Q134.047 1456.64 134.047 1447.92 Q134.047 1439.17 137.103 1434.58 Q140.181 1429.98 145.992 1429.98 Z\" fill=\"#f8f8f2\" fill-rule=\"nonzero\" fill-opacity=\"1\" /><path clip-path=\"url(#clip120)\" d=\"M51.9875 1106.42 L81.6633 1106.42 L81.6633 1110.36 L51.9875 1110.36 L51.9875 1106.42 Z\" fill=\"#f8f8f2\" fill-rule=\"nonzero\" fill-opacity=\"1\" /><path clip-path=\"url(#clip120)\" d=\"M101.756 1091.77 Q98.1447 1091.77 96.316 1095.34 Q94.5104 1098.88 94.5104 1106.01 Q94.5104 1113.11 96.316 1116.68 Q98.1447 1120.22 101.756 1120.22 Q105.39 1120.22 107.196 1116.68 Q109.024 1113.11 109.024 1106.01 Q109.024 1098.88 107.196 1095.34 Q105.39 1091.77 101.756 1091.77 M101.756 1088.07 Q107.566 1088.07 110.621 1092.67 Q113.7 1097.26 113.7 1106.01 Q113.7 1114.73 110.621 1119.34 Q107.566 1123.92 101.756 1123.92 Q95.9456 1123.92 92.8669 1119.34 Q89.8114 1114.73 89.8114 1106.01 Q89.8114 1097.26 92.8669 1092.67 Q95.9456 1088.07 101.756 1088.07 Z\" fill=\"#f8f8f2\" fill-rule=\"nonzero\" fill-opacity=\"1\" /><path clip-path=\"url(#clip120)\" d=\"M121.918 1117.37 L126.802 1117.37 L126.802 1123.25 L121.918 1123.25 L121.918 1117.37 Z\" fill=\"#f8f8f2\" fill-rule=\"nonzero\" fill-opacity=\"1\" /><path clip-path=\"url(#clip120)\" d=\"M137.033 1088.69 L155.39 1088.69 L155.39 1092.63 L141.316 1092.63 L141.316 1101.1 Q142.334 1100.75 143.353 1100.59 Q144.371 1100.41 145.39 1100.41 Q151.177 1100.41 154.556 1103.58 Q157.936 1106.75 157.936 1112.16 Q157.936 1117.74 154.464 1120.84 Q150.992 1123.92 144.672 1123.92 Q142.496 1123.92 140.228 1123.55 Q137.982 1123.18 135.575 1122.44 L135.575 1117.74 Q137.658 1118.88 139.881 1119.43 Q142.103 1119.99 144.58 1119.99 Q148.584 1119.99 150.922 1117.88 Q153.26 1115.78 153.26 1112.16 Q153.26 1108.55 150.922 1106.45 Q148.584 1104.34 144.58 1104.34 Q142.705 1104.34 140.83 1104.76 Q138.978 1105.17 137.033 1106.05 L137.033 1088.69 Z\" fill=\"#f8f8f2\" fill-rule=\"nonzero\" fill-opacity=\"1\" /><path clip-path=\"url(#clip120)\" d=\"M100.76 749.862 Q97.1493 749.862 95.3206 753.427 Q93.515 756.969 93.515 764.098 Q93.515 771.205 95.3206 774.77 Q97.1493 778.311 100.76 778.311 Q104.395 778.311 106.2 774.77 Q108.029 771.205 108.029 764.098 Q108.029 756.969 106.2 753.427 Q104.395 749.862 100.76 749.862 M100.76 746.159 Q106.571 746.159 109.626 750.765 Q112.705 755.348 112.705 764.098 Q112.705 772.825 109.626 777.432 Q106.571 782.015 100.76 782.015 Q94.9502 782.015 91.8715 777.432 Q88.816 772.825 88.816 764.098 Q88.816 755.348 91.8715 750.765 Q94.9502 746.159 100.76 746.159 Z\" fill=\"#f8f8f2\" fill-rule=\"nonzero\" fill-opacity=\"1\" /><path clip-path=\"url(#clip120)\" d=\"M120.922 775.464 L125.807 775.464 L125.807 781.344 L120.922 781.344 L120.922 775.464 Z\" fill=\"#f8f8f2\" fill-rule=\"nonzero\" fill-opacity=\"1\" /><path clip-path=\"url(#clip120)\" d=\"M145.992 749.862 Q142.381 749.862 140.552 753.427 Q138.746 756.969 138.746 764.098 Q138.746 771.205 140.552 774.77 Q142.381 778.311 145.992 778.311 Q149.626 778.311 151.431 774.77 Q153.26 771.205 153.26 764.098 Q153.26 756.969 151.431 753.427 Q149.626 749.862 145.992 749.862 M145.992 746.159 Q151.802 746.159 154.857 750.765 Q157.936 755.348 157.936 764.098 Q157.936 772.825 154.857 777.432 Q151.802 782.015 145.992 782.015 Q140.181 782.015 137.103 777.432 Q134.047 772.825 134.047 764.098 Q134.047 755.348 137.103 750.765 Q140.181 746.159 145.992 746.159 Z\" fill=\"#f8f8f2\" fill-rule=\"nonzero\" fill-opacity=\"1\" /><path clip-path=\"url(#clip120)\" d=\"M101.756 407.954 Q98.1447 407.954 96.316 411.518 Q94.5104 415.06 94.5104 422.19 Q94.5104 429.296 96.316 432.861 Q98.1447 436.402 101.756 436.402 Q105.39 436.402 107.196 432.861 Q109.024 429.296 109.024 422.19 Q109.024 415.06 107.196 411.518 Q105.39 407.954 101.756 407.954 M101.756 404.25 Q107.566 404.25 110.621 408.856 Q113.7 413.44 113.7 422.19 Q113.7 430.916 110.621 435.523 Q107.566 440.106 101.756 440.106 Q95.9456 440.106 92.8669 435.523 Q89.8114 430.916 89.8114 422.19 Q89.8114 413.44 92.8669 408.856 Q95.9456 404.25 101.756 404.25 Z\" fill=\"#f8f8f2\" fill-rule=\"nonzero\" fill-opacity=\"1\" /><path clip-path=\"url(#clip120)\" d=\"M121.918 433.555 L126.802 433.555 L126.802 439.435 L121.918 439.435 L121.918 433.555 Z\" fill=\"#f8f8f2\" fill-rule=\"nonzero\" fill-opacity=\"1\" /><path clip-path=\"url(#clip120)\" d=\"M137.033 404.875 L155.39 404.875 L155.39 408.81 L141.316 408.81 L141.316 417.282 Q142.334 416.935 143.353 416.773 Q144.371 416.588 145.39 416.588 Q151.177 416.588 154.556 419.759 Q157.936 422.93 157.936 428.347 Q157.936 433.926 154.464 437.027 Q150.992 440.106 144.672 440.106 Q142.496 440.106 140.228 439.736 Q137.982 439.365 135.575 438.625 L135.575 433.926 Q137.658 435.06 139.881 435.615 Q142.103 436.171 144.58 436.171 Q148.584 436.171 150.922 434.065 Q153.26 431.958 153.26 428.347 Q153.26 424.736 150.922 422.629 Q148.584 420.523 144.58 420.523 Q142.705 420.523 140.83 420.94 Q138.978 421.356 137.033 422.236 L137.033 404.875 Z\" fill=\"#f8f8f2\" fill-rule=\"nonzero\" fill-opacity=\"1\" /><path clip-path=\"url(#clip120)\" d=\"M91.5706 93.591 L99.2095 93.591 L99.2095 67.2254 L90.8993 68.892 L90.8993 64.6328 L99.1632 62.9661 L103.839 62.9661 L103.839 93.591 L111.478 93.591 L111.478 97.5261 L91.5706 97.5261 L91.5706 93.591 Z\" fill=\"#f8f8f2\" fill-rule=\"nonzero\" fill-opacity=\"1\" /><path clip-path=\"url(#clip120)\" d=\"M120.922 91.6465 L125.807 91.6465 L125.807 97.5261 L120.922 97.5261 L120.922 91.6465 Z\" fill=\"#f8f8f2\" fill-rule=\"nonzero\" fill-opacity=\"1\" /><path clip-path=\"url(#clip120)\" d=\"M145.992 66.0448 Q142.381 66.0448 140.552 69.6096 Q138.746 73.1512 138.746 80.2808 Q138.746 87.3873 140.552 90.9521 Q142.381 94.4937 145.992 94.4937 Q149.626 94.4937 151.431 90.9521 Q153.26 87.3873 153.26 80.2808 Q153.26 73.1512 151.431 69.6096 Q149.626 66.0448 145.992 66.0448 M145.992 62.3411 Q151.802 62.3411 154.857 66.9476 Q157.936 71.5309 157.936 80.2808 Q157.936 89.0076 154.857 93.6141 Q151.802 98.1974 145.992 98.1974 Q140.181 98.1974 137.103 93.6141 Q134.047 89.0076 134.047 80.2808 Q134.047 71.5309 137.103 66.9476 Q140.181 62.3411 145.992 62.3411 Z\" fill=\"#f8f8f2\" fill-rule=\"nonzero\" fill-opacity=\"1\" /><circle clip-path=\"url(#clip122)\" cx=\"255.035\" cy=\"394.595\" r=\"14.4\" fill=\"#8be9fd\" fill-rule=\"evenodd\" fill-opacity=\"1\" stroke=\"#f8f8f2\" stroke-opacity=\"1\" stroke-width=\"3.2\"/>\n",
       "<circle clip-path=\"url(#clip122)\" cx=\"481.326\" cy=\"863.559\" r=\"14.4\" fill=\"#8be9fd\" fill-rule=\"evenodd\" fill-opacity=\"1\" stroke=\"#f8f8f2\" stroke-opacity=\"1\" stroke-width=\"3.2\"/>\n",
       "<circle clip-path=\"url(#clip122)\" cx=\"707.617\" cy=\"963.833\" r=\"14.4\" fill=\"#8be9fd\" fill-rule=\"evenodd\" fill-opacity=\"1\" stroke=\"#f8f8f2\" stroke-opacity=\"1\" stroke-width=\"3.2\"/>\n",
       "<circle clip-path=\"url(#clip122)\" cx=\"933.909\" cy=\"496.105\" r=\"14.4\" fill=\"#8be9fd\" fill-rule=\"evenodd\" fill-opacity=\"1\" stroke=\"#f8f8f2\" stroke-opacity=\"1\" stroke-width=\"3.2\"/>\n",
       "<circle clip-path=\"url(#clip122)\" cx=\"1160.2\" cy=\"225.411\" r=\"14.4\" fill=\"#8be9fd\" fill-rule=\"evenodd\" fill-opacity=\"1\" stroke=\"#f8f8f2\" stroke-opacity=\"1\" stroke-width=\"3.2\"/>\n",
       "<circle clip-path=\"url(#clip122)\" cx=\"1386.49\" cy=\"1255.03\" r=\"14.4\" fill=\"#8be9fd\" fill-rule=\"evenodd\" fill-opacity=\"1\" stroke=\"#f8f8f2\" stroke-opacity=\"1\" stroke-width=\"3.2\"/>\n",
       "<circle clip-path=\"url(#clip122)\" cx=\"1612.78\" cy=\"1341.09\" r=\"14.4\" fill=\"#8be9fd\" fill-rule=\"evenodd\" fill-opacity=\"1\" stroke=\"#f8f8f2\" stroke-opacity=\"1\" stroke-width=\"3.2\"/>\n",
       "<circle clip-path=\"url(#clip122)\" cx=\"1839.07\" cy=\"1445.72\" r=\"14.4\" fill=\"#8be9fd\" fill-rule=\"evenodd\" fill-opacity=\"1\" stroke=\"#f8f8f2\" stroke-opacity=\"1\" stroke-width=\"3.2\"/>\n",
       "<circle clip-path=\"url(#clip122)\" cx=\"2065.37\" cy=\"87.9763\" r=\"14.4\" fill=\"#8be9fd\" fill-rule=\"evenodd\" fill-opacity=\"1\" stroke=\"#f8f8f2\" stroke-opacity=\"1\" stroke-width=\"3.2\"/>\n",
       "<circle clip-path=\"url(#clip122)\" cx=\"2291.66\" cy=\"379.499\" r=\"14.4\" fill=\"#8be9fd\" fill-rule=\"evenodd\" fill-opacity=\"1\" stroke=\"#f8f8f2\" stroke-opacity=\"1\" stroke-width=\"3.2\"/>\n",
       "</svg>\n"
      ]
     },
     "execution_count": 85,
     "metadata": {},
     "output_type": "execute_result"
    }
   ],
   "source": [
    "x = range(1, 10)\n",
    "y = cos.(x.^3)\n",
    "scatter(x, y, legend=false)"
   ]
  },
  {
   "cell_type": "code",
   "execution_count": 86,
   "metadata": {},
   "outputs": [
    {
     "data": {
      "text/latex": [
       "\\textbf{Uniform Distribtion}\n",
       "\n"
      ],
      "text/markdown": [
       "**Uniform Distribtion**\n"
      ],
      "text/plain": [
       "  \u001b[1mUniform Distribtion\u001b[22m"
      ]
     },
     "execution_count": 86,
     "metadata": {},
     "output_type": "execute_result"
    }
   ],
   "source": [
    "md\"**Uniform Distribtion**\""
   ]
  },
  {
   "cell_type": "code",
   "execution_count": 87,
   "metadata": {},
   "outputs": [],
   "source": [
    "?rand;"
   ]
  },
  {
   "cell_type": "code",
   "execution_count": 88,
   "metadata": {},
   "outputs": [
    {
     "data": {
      "image/png": "[encoded data removed]",
      "image/svg+xml": [
       "<?xml version=\"1.0\" encoding=\"utf-8\"?>\n",
       "<svg xmlns=\"http://www.w3.org/2000/svg\" xmlns:xlink=\"http://www.w3.org/1999/xlink\" width=\"600\" height=\"400\" viewBox=\"0 0 2400 1600\">\n",
       "<defs>\n",
       "  <clipPath id=\"clip160\">\n",
       "    <rect x=\"0\" y=\"0\" width=\"2400\" height=\"1600\"/>\n",
       "  </clipPath>\n",
       "</defs>\n",
       "<path clip-path=\"url(#clip160)\" d=\"M0 1600 L2400 1600 L2400 0 L0 0  Z\" fill=\"#282a36\" fill-rule=\"evenodd\" fill-opacity=\"1\"/>\n",
       "<defs>\n",
       "  <clipPath id=\"clip161\">\n",
       "    <rect x=\"480\" y=\"0\" width=\"1681\" height=\"1600\"/>\n",
       "  </clipPath>\n",
       "</defs>\n",
       "<path clip-path=\"url(#clip160)\" d=\"M201.019 1486.45 L2352.76 1486.45 L2352.76 47.2441 L201.019 47.2441  Z\" fill=\"#30343b\" fill-rule=\"evenodd\" fill-opacity=\"1\"/>\n",
       "<defs>\n",
       "  <clipPath id=\"clip162\">\n",
       "    <rect x=\"201\" y=\"47\" width=\"2153\" height=\"1440\"/>\n",
       "  </clipPath>\n",
       "</defs>\n",
       "<polyline clip-path=\"url(#clip162)\" style=\"stroke:#f8f8f2; stroke-linecap:round; stroke-linejoin:round; stroke-width:2; stroke-opacity:0.1; fill:none\" points=\"319.369,1486.45 319.369,47.2441 \"/>\n",
       "<polyline clip-path=\"url(#clip162)\" style=\"stroke:#f8f8f2; stroke-linecap:round; stroke-linejoin:round; stroke-width:2; stroke-opacity:0.1; fill:none\" points=\"798.128,1486.45 798.128,47.2441 \"/>\n",
       "<polyline clip-path=\"url(#clip162)\" style=\"stroke:#f8f8f2; stroke-linecap:round; stroke-linejoin:round; stroke-width:2; stroke-opacity:0.1; fill:none\" points=\"1276.89,1486.45 1276.89,47.2441 \"/>\n",
       "<polyline clip-path=\"url(#clip162)\" style=\"stroke:#f8f8f2; stroke-linecap:round; stroke-linejoin:round; stroke-width:2; stroke-opacity:0.1; fill:none\" points=\"1755.65,1486.45 1755.65,47.2441 \"/>\n",
       "<polyline clip-path=\"url(#clip162)\" style=\"stroke:#f8f8f2; stroke-linecap:round; stroke-linejoin:round; stroke-width:2; stroke-opacity:0.1; fill:none\" points=\"2234.41,1486.45 2234.41,47.2441 \"/>\n",
       "<polyline clip-path=\"url(#clip162)\" style=\"stroke:#f8f8f2; stroke-linecap:round; stroke-linejoin:round; stroke-width:2; stroke-opacity:0.1; fill:none\" points=\"201.019,1486.45 2352.76,1486.45 \"/>\n",
       "<polyline clip-path=\"url(#clip162)\" style=\"stroke:#f8f8f2; stroke-linecap:round; stroke-linejoin:round; stroke-width:2; stroke-opacity:0.1; fill:none\" points=\"201.019,1139.15 2352.76,1139.15 \"/>\n",
       "<polyline clip-path=\"url(#clip162)\" style=\"stroke:#f8f8f2; stroke-linecap:round; stroke-linejoin:round; stroke-width:2; stroke-opacity:0.1; fill:none\" points=\"201.019,791.851 2352.76,791.851 \"/>\n",
       "<polyline clip-path=\"url(#clip162)\" style=\"stroke:#f8f8f2; stroke-linecap:round; stroke-linejoin:round; stroke-width:2; stroke-opacity:0.1; fill:none\" points=\"201.019,444.553 2352.76,444.553 \"/>\n",
       "<polyline clip-path=\"url(#clip162)\" style=\"stroke:#f8f8f2; stroke-linecap:round; stroke-linejoin:round; stroke-width:2; stroke-opacity:0.1; fill:none\" points=\"201.019,97.255 2352.76,97.255 \"/>\n",
       "<polyline clip-path=\"url(#clip160)\" style=\"stroke:#f8f8f2; stroke-linecap:round; stroke-linejoin:round; stroke-width:4; stroke-opacity:1; fill:none\" points=\"201.019,1486.45 2352.76,1486.45 \"/>\n",
       "<polyline clip-path=\"url(#clip160)\" style=\"stroke:#f8f8f2; stroke-linecap:round; stroke-linejoin:round; stroke-width:4; stroke-opacity:1; fill:none\" points=\"319.369,1486.45 319.369,1467.55 \"/>\n",
       "<polyline clip-path=\"url(#clip160)\" style=\"stroke:#f8f8f2; stroke-linecap:round; stroke-linejoin:round; stroke-width:4; stroke-opacity:1; fill:none\" points=\"798.128,1486.45 798.128,1467.55 \"/>\n",
       "<polyline clip-path=\"url(#clip160)\" style=\"stroke:#f8f8f2; stroke-linecap:round; stroke-linejoin:round; stroke-width:4; stroke-opacity:1; fill:none\" points=\"1276.89,1486.45 1276.89,1467.55 \"/>\n",
       "<polyline clip-path=\"url(#clip160)\" style=\"stroke:#f8f8f2; stroke-linecap:round; stroke-linejoin:round; stroke-width:4; stroke-opacity:1; fill:none\" points=\"1755.65,1486.45 1755.65,1467.55 \"/>\n",
       "<polyline clip-path=\"url(#clip160)\" style=\"stroke:#f8f8f2; stroke-linecap:round; stroke-linejoin:round; stroke-width:4; stroke-opacity:1; fill:none\" points=\"2234.41,1486.45 2234.41,1467.55 \"/>\n",
       "<path clip-path=\"url(#clip160)\" d=\"M281.672 1517.37 Q278.061 1517.37 276.232 1520.93 Q274.427 1524.47 274.427 1531.6 Q274.427 1538.71 276.232 1542.27 Q278.061 1545.82 281.672 1545.82 Q285.306 1545.82 287.112 1542.27 Q288.941 1538.71 288.941 1531.6 Q288.941 1524.47 287.112 1520.93 Q285.306 1517.37 281.672 1517.37 M281.672 1513.66 Q287.482 1513.66 290.538 1518.27 Q293.616 1522.85 293.616 1531.6 Q293.616 1540.33 290.538 1544.94 Q287.482 1549.52 281.672 1549.52 Q275.862 1549.52 272.783 1544.94 Q269.728 1540.33 269.728 1531.6 Q269.728 1522.85 272.783 1518.27 Q275.862 1513.66 281.672 1513.66 Z\" fill=\"#f8f8f2\" fill-rule=\"nonzero\" fill-opacity=\"1\" /><path clip-path=\"url(#clip160)\" d=\"M301.834 1542.97 L306.718 1542.97 L306.718 1548.85 L301.834 1548.85 L301.834 1542.97 Z\" fill=\"#f8f8f2\" fill-rule=\"nonzero\" fill-opacity=\"1\" /><path clip-path=\"url(#clip160)\" d=\"M326.903 1517.37 Q323.292 1517.37 321.464 1520.93 Q319.658 1524.47 319.658 1531.6 Q319.658 1538.71 321.464 1542.27 Q323.292 1545.82 326.903 1545.82 Q330.538 1545.82 332.343 1542.27 Q334.172 1538.71 334.172 1531.6 Q334.172 1524.47 332.343 1520.93 Q330.538 1517.37 326.903 1517.37 M326.903 1513.66 Q332.713 1513.66 335.769 1518.27 Q338.848 1522.85 338.848 1531.6 Q338.848 1540.33 335.769 1544.94 Q332.713 1549.52 326.903 1549.52 Q321.093 1549.52 318.014 1544.94 Q314.959 1540.33 314.959 1531.6 Q314.959 1522.85 318.014 1518.27 Q321.093 1513.66 326.903 1513.66 Z\" fill=\"#f8f8f2\" fill-rule=\"nonzero\" fill-opacity=\"1\" /><path clip-path=\"url(#clip160)\" d=\"M357.065 1517.37 Q353.454 1517.37 351.625 1520.93 Q349.82 1524.47 349.82 1531.6 Q349.82 1538.71 351.625 1542.27 Q353.454 1545.82 357.065 1545.82 Q360.699 1545.82 362.505 1542.27 Q364.334 1538.71 364.334 1531.6 Q364.334 1524.47 362.505 1520.93 Q360.699 1517.37 357.065 1517.37 M357.065 1513.66 Q362.875 1513.66 365.931 1518.27 Q369.01 1522.85 369.01 1531.6 Q369.01 1540.33 365.931 1544.94 Q362.875 1549.52 357.065 1549.52 Q351.255 1549.52 348.176 1544.94 Q345.121 1540.33 345.121 1531.6 Q345.121 1522.85 348.176 1518.27 Q351.255 1513.66 357.065 1513.66 Z\" fill=\"#f8f8f2\" fill-rule=\"nonzero\" fill-opacity=\"1\" /><path clip-path=\"url(#clip160)\" d=\"M760.929 1517.37 Q757.318 1517.37 755.489 1520.93 Q753.684 1524.47 753.684 1531.6 Q753.684 1538.71 755.489 1542.27 Q757.318 1545.82 760.929 1545.82 Q764.563 1545.82 766.369 1542.27 Q768.198 1538.71 768.198 1531.6 Q768.198 1524.47 766.369 1520.93 Q764.563 1517.37 760.929 1517.37 M760.929 1513.66 Q766.739 1513.66 769.795 1518.27 Q772.874 1522.85 772.874 1531.6 Q772.874 1540.33 769.795 1544.94 Q766.739 1549.52 760.929 1549.52 Q755.119 1549.52 752.04 1544.94 Q748.985 1540.33 748.985 1531.6 Q748.985 1522.85 752.04 1518.27 Q755.119 1513.66 760.929 1513.66 Z\" fill=\"#f8f8f2\" fill-rule=\"nonzero\" fill-opacity=\"1\" /><path clip-path=\"url(#clip160)\" d=\"M781.091 1542.97 L785.975 1542.97 L785.975 1548.85 L781.091 1548.85 L781.091 1542.97 Z\" fill=\"#f8f8f2\" fill-rule=\"nonzero\" fill-opacity=\"1\" /><path clip-path=\"url(#clip160)\" d=\"M800.188 1544.91 L816.508 1544.91 L816.508 1548.85 L794.563 1548.85 L794.563 1544.91 Q797.225 1542.16 801.809 1537.53 Q806.415 1532.88 807.596 1531.53 Q809.841 1529.01 810.721 1527.27 Q811.623 1525.51 811.623 1523.82 Q811.623 1521.07 809.679 1519.33 Q807.758 1517.6 804.656 1517.6 Q802.457 1517.6 800.003 1518.36 Q797.573 1519.13 794.795 1520.68 L794.795 1515.95 Q797.619 1514.82 800.073 1514.24 Q802.526 1513.66 804.563 1513.66 Q809.934 1513.66 813.128 1516.35 Q816.322 1519.03 816.322 1523.52 Q816.322 1525.65 815.512 1527.57 Q814.725 1529.47 812.619 1532.07 Q812.04 1532.74 808.938 1535.95 Q805.836 1539.15 800.188 1544.91 Z\" fill=\"#f8f8f2\" fill-rule=\"nonzero\" fill-opacity=\"1\" /><path clip-path=\"url(#clip160)\" d=\"M826.369 1514.29 L844.725 1514.29 L844.725 1518.22 L830.651 1518.22 L830.651 1526.7 Q831.67 1526.35 832.688 1526.19 Q833.707 1526 834.725 1526 Q840.512 1526 843.892 1529.17 Q847.271 1532.34 847.271 1537.76 Q847.271 1543.34 843.799 1546.44 Q840.327 1549.52 834.008 1549.52 Q831.832 1549.52 829.563 1549.15 Q827.318 1548.78 824.91 1548.04 L824.91 1543.34 Q826.994 1544.47 829.216 1545.03 Q831.438 1545.58 833.915 1545.58 Q837.92 1545.58 840.258 1543.48 Q842.595 1541.37 842.595 1537.76 Q842.595 1534.15 840.258 1532.04 Q837.92 1529.94 833.915 1529.94 Q832.04 1529.94 830.165 1530.35 Q828.313 1530.77 826.369 1531.65 L826.369 1514.29 Z\" fill=\"#f8f8f2\" fill-rule=\"nonzero\" fill-opacity=\"1\" /><path clip-path=\"url(#clip160)\" d=\"M1239.19 1517.37 Q1235.58 1517.37 1233.75 1520.93 Q1231.95 1524.47 1231.95 1531.6 Q1231.95 1538.71 1233.75 1542.27 Q1235.58 1545.82 1239.19 1545.82 Q1242.83 1545.82 1244.63 1542.27 Q1246.46 1538.71 1246.46 1531.6 Q1246.46 1524.47 1244.63 1520.93 Q1242.83 1517.37 1239.19 1517.37 M1239.19 1513.66 Q1245 1513.66 1248.06 1518.27 Q1251.14 1522.85 1251.14 1531.6 Q1251.14 1540.33 1248.06 1544.94 Q1245 1549.52 1239.19 1549.52 Q1233.38 1549.52 1230.3 1544.94 Q1227.25 1540.33 1227.25 1531.6 Q1227.25 1522.85 1230.3 1518.27 Q1233.38 1513.66 1239.19 1513.66 Z\" fill=\"#f8f8f2\" fill-rule=\"nonzero\" fill-opacity=\"1\" /><path clip-path=\"url(#clip160)\" d=\"M1259.35 1542.97 L1264.24 1542.97 L1264.24 1548.85 L1259.35 1548.85 L1259.35 1542.97 Z\" fill=\"#f8f8f2\" fill-rule=\"nonzero\" fill-opacity=\"1\" /><path clip-path=\"url(#clip160)\" d=\"M1274.47 1514.29 L1292.83 1514.29 L1292.83 1518.22 L1278.75 1518.22 L1278.75 1526.7 Q1279.77 1526.35 1280.79 1526.19 Q1281.81 1526 1282.83 1526 Q1288.61 1526 1291.99 1529.17 Q1295.37 1532.34 1295.37 1537.76 Q1295.37 1543.34 1291.9 1546.44 Q1288.43 1549.52 1282.11 1549.52 Q1279.93 1549.52 1277.66 1549.15 Q1275.42 1548.78 1273.01 1548.04 L1273.01 1543.34 Q1275.09 1544.47 1277.32 1545.03 Q1279.54 1545.58 1282.01 1545.58 Q1286.02 1545.58 1288.36 1543.48 Q1290.7 1541.37 1290.7 1537.76 Q1290.7 1534.15 1288.36 1532.04 Q1286.02 1529.94 1282.01 1529.94 Q1280.14 1529.94 1278.26 1530.35 Q1276.41 1530.77 1274.47 1531.65 L1274.47 1514.29 Z\" fill=\"#f8f8f2\" fill-rule=\"nonzero\" fill-opacity=\"1\" /><path clip-path=\"url(#clip160)\" d=\"M1314.58 1517.37 Q1310.97 1517.37 1309.14 1520.93 Q1307.34 1524.47 1307.34 1531.6 Q1307.34 1538.71 1309.14 1542.27 Q1310.97 1545.82 1314.58 1545.82 Q1318.22 1545.82 1320.02 1542.27 Q1321.85 1538.71 1321.85 1531.6 Q1321.85 1524.47 1320.02 1520.93 Q1318.22 1517.37 1314.58 1517.37 M1314.58 1513.66 Q1320.39 1513.66 1323.45 1518.27 Q1326.53 1522.85 1326.53 1531.6 Q1326.53 1540.33 1323.45 1544.94 Q1320.39 1549.52 1314.58 1549.52 Q1308.77 1549.52 1305.7 1544.94 Q1302.64 1540.33 1302.64 1531.6 Q1302.64 1522.85 1305.7 1518.27 Q1308.77 1513.66 1314.58 1513.66 Z\" fill=\"#f8f8f2\" fill-rule=\"nonzero\" fill-opacity=\"1\" /><path clip-path=\"url(#clip160)\" d=\"M1718.45 1517.37 Q1714.84 1517.37 1713.01 1520.93 Q1711.2 1524.47 1711.2 1531.6 Q1711.2 1538.71 1713.01 1542.27 Q1714.84 1545.82 1718.45 1545.82 Q1722.08 1545.82 1723.89 1542.27 Q1725.72 1538.71 1725.72 1531.6 Q1725.72 1524.47 1723.89 1520.93 Q1722.08 1517.37 1718.45 1517.37 M1718.45 1513.66 Q1724.26 1513.66 1727.31 1518.27 Q1730.39 1522.85 1730.39 1531.6 Q1730.39 1540.33 1727.31 1544.94 Q1724.26 1549.52 1718.45 1549.52 Q1712.64 1549.52 1709.56 1544.94 Q1706.5 1540.33 1706.5 1531.6 Q1706.5 1522.85 1709.56 1518.27 Q1712.64 1513.66 1718.45 1513.66 Z\" fill=\"#f8f8f2\" fill-rule=\"nonzero\" fill-opacity=\"1\" /><path clip-path=\"url(#clip160)\" d=\"M1738.61 1542.97 L1743.49 1542.97 L1743.49 1548.85 L1738.61 1548.85 L1738.61 1542.97 Z\" fill=\"#f8f8f2\" fill-rule=\"nonzero\" fill-opacity=\"1\" /><path clip-path=\"url(#clip160)\" d=\"M1752.5 1514.29 L1774.72 1514.29 L1774.72 1516.28 L1762.17 1548.85 L1757.29 1548.85 L1769.1 1518.22 L1752.5 1518.22 L1752.5 1514.29 Z\" fill=\"#f8f8f2\" fill-rule=\"nonzero\" fill-opacity=\"1\" /><path clip-path=\"url(#clip160)\" d=\"M1783.89 1514.29 L1802.24 1514.29 L1802.24 1518.22 L1788.17 1518.22 L1788.17 1526.7 Q1789.19 1526.35 1790.21 1526.19 Q1791.23 1526 1792.24 1526 Q1798.03 1526 1801.41 1529.17 Q1804.79 1532.34 1804.79 1537.76 Q1804.79 1543.34 1801.32 1546.44 Q1797.85 1549.52 1791.53 1549.52 Q1789.35 1549.52 1787.08 1549.15 Q1784.84 1548.78 1782.43 1548.04 L1782.43 1543.34 Q1784.51 1544.47 1786.73 1545.03 Q1788.96 1545.58 1791.43 1545.58 Q1795.44 1545.58 1797.78 1543.48 Q1800.11 1541.37 1800.11 1537.76 Q1800.11 1534.15 1797.78 1532.04 Q1795.44 1529.94 1791.43 1529.94 Q1789.56 1529.94 1787.68 1530.35 Q1785.83 1530.77 1783.89 1531.65 L1783.89 1514.29 Z\" fill=\"#f8f8f2\" fill-rule=\"nonzero\" fill-opacity=\"1\" /><path clip-path=\"url(#clip160)\" d=\"M2186.48 1544.91 L2194.12 1544.91 L2194.12 1518.55 L2185.81 1520.21 L2185.81 1515.95 L2194.07 1514.29 L2198.75 1514.29 L2198.75 1544.91 L2206.39 1544.91 L2206.39 1548.85 L2186.48 1548.85 L2186.48 1544.91 Z\" fill=\"#f8f8f2\" fill-rule=\"nonzero\" fill-opacity=\"1\" /><path clip-path=\"url(#clip160)\" d=\"M2215.83 1542.97 L2220.71 1542.97 L2220.71 1548.85 L2215.83 1548.85 L2215.83 1542.97 Z\" fill=\"#f8f8f2\" fill-rule=\"nonzero\" fill-opacity=\"1\" /><path clip-path=\"url(#clip160)\" d=\"M2240.9 1517.37 Q2237.29 1517.37 2235.46 1520.93 Q2233.65 1524.47 2233.65 1531.6 Q2233.65 1538.71 2235.46 1542.27 Q2237.29 1545.82 2240.9 1545.82 Q2244.53 1545.82 2246.34 1542.27 Q2248.17 1538.71 2248.17 1531.6 Q2248.17 1524.47 2246.34 1520.93 Q2244.53 1517.37 2240.9 1517.37 M2240.9 1513.66 Q2246.71 1513.66 2249.77 1518.27 Q2252.84 1522.85 2252.84 1531.6 Q2252.84 1540.33 2249.77 1544.94 Q2246.71 1549.52 2240.9 1549.52 Q2235.09 1549.52 2232.01 1544.94 Q2228.96 1540.33 2228.96 1531.6 Q2228.96 1522.85 2232.01 1518.27 Q2235.09 1513.66 2240.9 1513.66 Z\" fill=\"#f8f8f2\" fill-rule=\"nonzero\" fill-opacity=\"1\" /><path clip-path=\"url(#clip160)\" d=\"M2271.06 1517.37 Q2267.45 1517.37 2265.62 1520.93 Q2263.82 1524.47 2263.82 1531.6 Q2263.82 1538.71 2265.62 1542.27 Q2267.45 1545.82 2271.06 1545.82 Q2274.7 1545.82 2276.5 1542.27 Q2278.33 1538.71 2278.33 1531.6 Q2278.33 1524.47 2276.5 1520.93 Q2274.7 1517.37 2271.06 1517.37 M2271.06 1513.66 Q2276.87 1513.66 2279.93 1518.27 Q2283.01 1522.85 2283.01 1531.6 Q2283.01 1540.33 2279.93 1544.94 Q2276.87 1549.52 2271.06 1549.52 Q2265.25 1549.52 2262.17 1544.94 Q2259.12 1540.33 2259.12 1531.6 Q2259.12 1522.85 2262.17 1518.27 Q2265.25 1513.66 2271.06 1513.66 Z\" fill=\"#f8f8f2\" fill-rule=\"nonzero\" fill-opacity=\"1\" /><polyline clip-path=\"url(#clip160)\" style=\"stroke:#f8f8f2; stroke-linecap:round; stroke-linejoin:round; stroke-width:4; stroke-opacity:1; fill:none\" points=\"201.019,1486.45 201.019,47.2441 \"/>\n",
       "<polyline clip-path=\"url(#clip160)\" style=\"stroke:#f8f8f2; stroke-linecap:round; stroke-linejoin:round; stroke-width:4; stroke-opacity:1; fill:none\" points=\"201.019,1486.45 219.917,1486.45 \"/>\n",
       "<polyline clip-path=\"url(#clip160)\" style=\"stroke:#f8f8f2; stroke-linecap:round; stroke-linejoin:round; stroke-width:4; stroke-opacity:1; fill:none\" points=\"201.019,1139.15 219.917,1139.15 \"/>\n",
       "<polyline clip-path=\"url(#clip160)\" style=\"stroke:#f8f8f2; stroke-linecap:round; stroke-linejoin:round; stroke-width:4; stroke-opacity:1; fill:none\" points=\"201.019,791.851 219.917,791.851 \"/>\n",
       "<polyline clip-path=\"url(#clip160)\" style=\"stroke:#f8f8f2; stroke-linecap:round; stroke-linejoin:round; stroke-width:4; stroke-opacity:1; fill:none\" points=\"201.019,444.553 219.917,444.553 \"/>\n",
       "<polyline clip-path=\"url(#clip160)\" style=\"stroke:#f8f8f2; stroke-linecap:round; stroke-linejoin:round; stroke-width:4; stroke-opacity:1; fill:none\" points=\"201.019,97.255 219.917,97.255 \"/>\n",
       "<path clip-path=\"url(#clip160)\" d=\"M153.075 1472.25 Q149.464 1472.25 147.635 1475.81 Q145.83 1479.35 145.83 1486.48 Q145.83 1493.59 147.635 1497.15 Q149.464 1500.7 153.075 1500.7 Q156.709 1500.7 158.515 1497.15 Q160.343 1493.59 160.343 1486.48 Q160.343 1479.35 158.515 1475.81 Q156.709 1472.25 153.075 1472.25 M153.075 1468.54 Q158.885 1468.54 161.941 1473.15 Q165.019 1477.73 165.019 1486.48 Q165.019 1495.21 161.941 1499.82 Q158.885 1504.4 153.075 1504.4 Q147.265 1504.4 144.186 1499.82 Q141.131 1495.21 141.131 1486.48 Q141.131 1477.73 144.186 1473.15 Q147.265 1468.54 153.075 1468.54 Z\" fill=\"#f8f8f2\" fill-rule=\"nonzero\" fill-opacity=\"1\" /><path clip-path=\"url(#clip160)\" d=\"M82.7975 1121.87 L101.154 1121.87 L101.154 1125.8 L87.0799 1125.8 L87.0799 1134.28 Q88.0984 1133.93 89.1169 1133.77 Q90.1354 1133.58 91.1539 1133.58 Q96.941 1133.58 100.321 1136.75 Q103.7 1139.93 103.7 1145.34 Q103.7 1150.92 100.228 1154.02 Q96.7558 1157.1 90.4364 1157.1 Q88.2604 1157.1 85.9919 1156.73 Q83.7466 1156.36 81.3392 1155.62 L81.3392 1150.92 Q83.4225 1152.05 85.6447 1152.61 Q87.8669 1153.17 90.3438 1153.17 Q94.3484 1153.17 96.6863 1151.06 Q99.0243 1148.95 99.0243 1145.34 Q99.0243 1141.73 96.6863 1139.62 Q94.3484 1137.52 90.3438 1137.52 Q88.4688 1137.52 86.5938 1137.93 Q84.7419 1138.35 82.7975 1139.23 L82.7975 1121.87 Z\" fill=\"#f8f8f2\" fill-rule=\"nonzero\" fill-opacity=\"1\" /><path clip-path=\"url(#clip160)\" d=\"M122.913 1124.95 Q119.302 1124.95 117.473 1128.51 Q115.668 1132.05 115.668 1139.18 Q115.668 1146.29 117.473 1149.86 Q119.302 1153.4 122.913 1153.4 Q126.547 1153.4 128.353 1149.86 Q130.182 1146.29 130.182 1139.18 Q130.182 1132.05 128.353 1128.51 Q126.547 1124.95 122.913 1124.95 M122.913 1121.24 Q128.723 1121.24 131.779 1125.85 Q134.857 1130.43 134.857 1139.18 Q134.857 1147.91 131.779 1152.52 Q128.723 1157.1 122.913 1157.1 Q117.103 1157.1 114.024 1152.52 Q110.969 1147.91 110.969 1139.18 Q110.969 1130.43 114.024 1125.85 Q117.103 1121.24 122.913 1121.24 Z\" fill=\"#f8f8f2\" fill-rule=\"nonzero\" fill-opacity=\"1\" /><path clip-path=\"url(#clip160)\" d=\"M153.075 1124.95 Q149.464 1124.95 147.635 1128.51 Q145.83 1132.05 145.83 1139.18 Q145.83 1146.29 147.635 1149.86 Q149.464 1153.4 153.075 1153.4 Q156.709 1153.4 158.515 1149.86 Q160.343 1146.29 160.343 1139.18 Q160.343 1132.05 158.515 1128.51 Q156.709 1124.95 153.075 1124.95 M153.075 1121.24 Q158.885 1121.24 161.941 1125.85 Q165.019 1130.43 165.019 1139.18 Q165.019 1147.91 161.941 1152.52 Q158.885 1157.1 153.075 1157.1 Q147.265 1157.1 144.186 1152.52 Q141.131 1147.91 141.131 1139.18 Q141.131 1130.43 144.186 1125.85 Q147.265 1121.24 153.075 1121.24 Z\" fill=\"#f8f8f2\" fill-rule=\"nonzero\" fill-opacity=\"1\" /><path clip-path=\"url(#clip160)\" d=\"M53.3995 805.196 L61.0384 805.196 L61.0384 778.831 L52.7282 780.497 L52.7282 776.238 L60.9921 774.571 L65.668 774.571 L65.668 805.196 L73.3068 805.196 L73.3068 809.131 L53.3995 809.131 L53.3995 805.196 Z\" fill=\"#f8f8f2\" fill-rule=\"nonzero\" fill-opacity=\"1\" /><path clip-path=\"url(#clip160)\" d=\"M92.7512 777.65 Q89.1401 777.65 87.3114 781.215 Q85.5058 784.757 85.5058 791.886 Q85.5058 798.993 87.3114 802.557 Q89.1401 806.099 92.7512 806.099 Q96.3854 806.099 98.1909 802.557 Q100.02 798.993 100.02 791.886 Q100.02 784.757 98.1909 781.215 Q96.3854 777.65 92.7512 777.65 M92.7512 773.946 Q98.5613 773.946 101.617 778.553 Q104.696 783.136 104.696 791.886 Q104.696 800.613 101.617 805.219 Q98.5613 809.803 92.7512 809.803 Q86.941 809.803 83.8623 805.219 Q80.8068 800.613 80.8068 791.886 Q80.8068 783.136 83.8623 778.553 Q86.941 773.946 92.7512 773.946 Z\" fill=\"#f8f8f2\" fill-rule=\"nonzero\" fill-opacity=\"1\" /><path clip-path=\"url(#clip160)\" d=\"M122.913 777.65 Q119.302 777.65 117.473 781.215 Q115.668 784.757 115.668 791.886 Q115.668 798.993 117.473 802.557 Q119.302 806.099 122.913 806.099 Q126.547 806.099 128.353 802.557 Q130.182 798.993 130.182 791.886 Q130.182 784.757 128.353 781.215 Q126.547 777.65 122.913 777.65 M122.913 773.946 Q128.723 773.946 131.779 778.553 Q134.857 783.136 134.857 791.886 Q134.857 800.613 131.779 805.219 Q128.723 809.803 122.913 809.803 Q117.103 809.803 114.024 805.219 Q110.969 800.613 110.969 791.886 Q110.969 783.136 114.024 778.553 Q117.103 773.946 122.913 773.946 Z\" fill=\"#f8f8f2\" fill-rule=\"nonzero\" fill-opacity=\"1\" /><path clip-path=\"url(#clip160)\" d=\"M153.075 777.65 Q149.464 777.65 147.635 781.215 Q145.83 784.757 145.83 791.886 Q145.83 798.993 147.635 802.557 Q149.464 806.099 153.075 806.099 Q156.709 806.099 158.515 802.557 Q160.343 798.993 160.343 791.886 Q160.343 784.757 158.515 781.215 Q156.709 777.65 153.075 777.65 M153.075 773.946 Q158.885 773.946 161.941 778.553 Q165.019 783.136 165.019 791.886 Q165.019 800.613 161.941 805.219 Q158.885 809.803 153.075 809.803 Q147.265 809.803 144.186 805.219 Q141.131 800.613 141.131 791.886 Q141.131 783.136 144.186 778.553 Q147.265 773.946 153.075 773.946 Z\" fill=\"#f8f8f2\" fill-rule=\"nonzero\" fill-opacity=\"1\" /><path clip-path=\"url(#clip160)\" d=\"M53.3995 457.898 L61.0384 457.898 L61.0384 431.532 L52.7282 433.199 L52.7282 428.94 L60.9921 427.273 L65.668 427.273 L65.668 457.898 L73.3068 457.898 L73.3068 461.833 L53.3995 461.833 L53.3995 457.898 Z\" fill=\"#f8f8f2\" fill-rule=\"nonzero\" fill-opacity=\"1\" /><path clip-path=\"url(#clip160)\" d=\"M82.7975 427.273 L101.154 427.273 L101.154 431.208 L87.0799 431.208 L87.0799 439.681 Q88.0984 439.333 89.1169 439.171 Q90.1354 438.986 91.1539 438.986 Q96.941 438.986 100.321 442.157 Q103.7 445.329 103.7 450.745 Q103.7 456.324 100.228 459.426 Q96.7558 462.505 90.4364 462.505 Q88.2604 462.505 85.9919 462.134 Q83.7466 461.764 81.3392 461.023 L81.3392 456.324 Q83.4225 457.458 85.6447 458.014 Q87.8669 458.569 90.3438 458.569 Q94.3484 458.569 96.6863 456.463 Q99.0243 454.356 99.0243 450.745 Q99.0243 447.134 96.6863 445.028 Q94.3484 442.921 90.3438 442.921 Q88.4688 442.921 86.5938 443.338 Q84.7419 443.755 82.7975 444.634 L82.7975 427.273 Z\" fill=\"#f8f8f2\" fill-rule=\"nonzero\" fill-opacity=\"1\" /><path clip-path=\"url(#clip160)\" d=\"M122.913 430.352 Q119.302 430.352 117.473 433.917 Q115.668 437.458 115.668 444.588 Q115.668 451.694 117.473 455.259 Q119.302 458.801 122.913 458.801 Q126.547 458.801 128.353 455.259 Q130.182 451.694 130.182 444.588 Q130.182 437.458 128.353 433.917 Q126.547 430.352 122.913 430.352 M122.913 426.648 Q128.723 426.648 131.779 431.255 Q134.857 435.838 134.857 444.588 Q134.857 453.315 131.779 457.921 Q128.723 462.505 122.913 462.505 Q117.103 462.505 114.024 457.921 Q110.969 453.315 110.969 444.588 Q110.969 435.838 114.024 431.255 Q117.103 426.648 122.913 426.648 Z\" fill=\"#f8f8f2\" fill-rule=\"nonzero\" fill-opacity=\"1\" /><path clip-path=\"url(#clip160)\" d=\"M153.075 430.352 Q149.464 430.352 147.635 433.917 Q145.83 437.458 145.83 444.588 Q145.83 451.694 147.635 455.259 Q149.464 458.801 153.075 458.801 Q156.709 458.801 158.515 455.259 Q160.343 451.694 160.343 444.588 Q160.343 437.458 158.515 433.917 Q156.709 430.352 153.075 430.352 M153.075 426.648 Q158.885 426.648 161.941 431.255 Q165.019 435.838 165.019 444.588 Q165.019 453.315 161.941 457.921 Q158.885 462.505 153.075 462.505 Q147.265 462.505 144.186 457.921 Q141.131 453.315 141.131 444.588 Q141.131 435.838 144.186 431.255 Q147.265 426.648 153.075 426.648 Z\" fill=\"#f8f8f2\" fill-rule=\"nonzero\" fill-opacity=\"1\" /><path clip-path=\"url(#clip160)\" d=\"M56.6171 110.6 L72.9365 110.6 L72.9365 114.535 L50.9921 114.535 L50.9921 110.6 Q53.6541 107.845 58.2375 103.216 Q62.8439 98.5629 64.0245 97.2203 Q66.2698 94.6972 67.1494 92.9611 Q68.0522 91.2018 68.0522 89.512 Q68.0522 86.7574 66.1078 85.0213 Q64.1865 83.2852 61.0847 83.2852 Q58.8856 83.2852 56.4319 84.0491 Q54.0014 84.813 51.2236 86.3639 L51.2236 81.6417 Q54.0477 80.5074 56.5014 79.9287 Q58.955 79.35 60.9921 79.35 Q66.3624 79.35 69.5568 82.0352 Q72.7513 84.7204 72.7513 89.2111 Q72.7513 91.3407 71.9411 93.262 Q71.1541 95.1601 69.0476 97.7527 Q68.4689 98.424 65.367 101.642 Q62.2652 104.836 56.6171 110.6 Z\" fill=\"#f8f8f2\" fill-rule=\"nonzero\" fill-opacity=\"1\" /><path clip-path=\"url(#clip160)\" d=\"M92.7512 83.0537 Q89.1401 83.0537 87.3114 86.6185 Q85.5058 90.1602 85.5058 97.2898 Q85.5058 104.396 87.3114 107.961 Q89.1401 111.503 92.7512 111.503 Q96.3854 111.503 98.1909 107.961 Q100.02 104.396 100.02 97.2898 Q100.02 90.1602 98.1909 86.6185 Q96.3854 83.0537 92.7512 83.0537 M92.7512 79.35 Q98.5613 79.35 101.617 83.9565 Q104.696 88.5398 104.696 97.2898 Q104.696 106.017 101.617 110.623 Q98.5613 115.206 92.7512 115.206 Q86.941 115.206 83.8623 110.623 Q80.8068 106.017 80.8068 97.2898 Q80.8068 88.5398 83.8623 83.9565 Q86.941 79.35 92.7512 79.35 Z\" fill=\"#f8f8f2\" fill-rule=\"nonzero\" fill-opacity=\"1\" /><path clip-path=\"url(#clip160)\" d=\"M122.913 83.0537 Q119.302 83.0537 117.473 86.6185 Q115.668 90.1602 115.668 97.2898 Q115.668 104.396 117.473 107.961 Q119.302 111.503 122.913 111.503 Q126.547 111.503 128.353 107.961 Q130.182 104.396 130.182 97.2898 Q130.182 90.1602 128.353 86.6185 Q126.547 83.0537 122.913 83.0537 M122.913 79.35 Q128.723 79.35 131.779 83.9565 Q134.857 88.5398 134.857 97.2898 Q134.857 106.017 131.779 110.623 Q128.723 115.206 122.913 115.206 Q117.103 115.206 114.024 110.623 Q110.969 106.017 110.969 97.2898 Q110.969 88.5398 114.024 83.9565 Q117.103 79.35 122.913 79.35 Z\" fill=\"#f8f8f2\" fill-rule=\"nonzero\" fill-opacity=\"1\" /><path clip-path=\"url(#clip160)\" d=\"M153.075 83.0537 Q149.464 83.0537 147.635 86.6185 Q145.83 90.1602 145.83 97.2898 Q145.83 104.396 147.635 107.961 Q149.464 111.503 153.075 111.503 Q156.709 111.503 158.515 107.961 Q160.343 104.396 160.343 97.2898 Q160.343 90.1602 158.515 86.6185 Q156.709 83.0537 153.075 83.0537 M153.075 79.35 Q158.885 79.35 161.941 83.9565 Q165.019 88.5398 165.019 97.2898 Q165.019 106.017 161.941 110.623 Q158.885 115.206 153.075 115.206 Q147.265 115.206 144.186 110.623 Q141.131 106.017 141.131 97.2898 Q141.131 88.5398 144.186 83.9565 Q147.265 79.35 153.075 79.35 Z\" fill=\"#f8f8f2\" fill-rule=\"nonzero\" fill-opacity=\"1\" /><path clip-path=\"url(#clip162)\" d=\"M319.369 131.29 L319.369 1486.45 L357.669 1486.45 L357.669 131.29 L319.369 131.29 L319.369 131.29  Z\" fill=\"#8be9fd\" fill-rule=\"evenodd\" fill-opacity=\"1\"/>\n",
       "<polyline clip-path=\"url(#clip162)\" style=\"stroke:#f8f8f2; stroke-linecap:round; stroke-linejoin:round; stroke-width:4; stroke-opacity:1; fill:none\" points=\"319.369,131.29 319.369,1486.45 357.669,1486.45 357.669,131.29 319.369,131.29 \"/>\n",
       "<path clip-path=\"url(#clip162)\" d=\"M357.669 99.3388 L357.669 1486.45 L395.97 1486.45 L395.97 99.3388 L357.669 99.3388 L357.669 99.3388  Z\" fill=\"#8be9fd\" fill-rule=\"evenodd\" fill-opacity=\"1\"/>\n",
       "<polyline clip-path=\"url(#clip162)\" style=\"stroke:#f8f8f2; stroke-linecap:round; stroke-linejoin:round; stroke-width:4; stroke-opacity:1; fill:none\" points=\"357.669,99.3388 357.669,1486.45 395.97,1486.45 395.97,99.3388 357.669,99.3388 \"/>\n",
       "<path clip-path=\"url(#clip162)\" d=\"M395.97 139.625 L395.97 1486.45 L434.271 1486.45 L434.271 139.625 L395.97 139.625 L395.97 139.625  Z\" fill=\"#8be9fd\" fill-rule=\"evenodd\" fill-opacity=\"1\"/>\n",
       "<polyline clip-path=\"url(#clip162)\" style=\"stroke:#f8f8f2; stroke-linecap:round; stroke-linejoin:round; stroke-width:4; stroke-opacity:1; fill:none\" points=\"395.97,139.625 395.97,1486.45 434.271,1486.45 434.271,139.625 395.97,139.625 \"/>\n",
       "<path clip-path=\"url(#clip162)\" d=\"M434.271 111.842 L434.271 1486.45 L472.572 1486.45 L472.572 111.842 L434.271 111.842 L434.271 111.842  Z\" fill=\"#8be9fd\" fill-rule=\"evenodd\" fill-opacity=\"1\"/>\n",
       "<polyline clip-path=\"url(#clip162)\" style=\"stroke:#f8f8f2; stroke-linecap:round; stroke-linejoin:round; stroke-width:4; stroke-opacity:1; fill:none\" points=\"434.271,111.842 434.271,1486.45 472.572,1486.45 472.572,111.842 434.271,111.842 \"/>\n",
       "<path clip-path=\"url(#clip162)\" d=\"M472.572 47.9387 L472.572 1486.45 L510.872 1486.45 L510.872 47.9387 L472.572 47.9387 L472.572 47.9387  Z\" fill=\"#8be9fd\" fill-rule=\"evenodd\" fill-opacity=\"1\"/>\n",
       "<polyline clip-path=\"url(#clip162)\" style=\"stroke:#f8f8f2; stroke-linecap:round; stroke-linejoin:round; stroke-width:4; stroke-opacity:1; fill:none\" points=\"472.572,47.9387 472.572,1486.45 510.872,1486.45 510.872,47.9387 472.572,47.9387 \"/>\n",
       "<path clip-path=\"url(#clip162)\" d=\"M510.872 66.6928 L510.872 1486.45 L549.173 1486.45 L549.173 66.6928 L510.872 66.6928 L510.872 66.6928  Z\" fill=\"#8be9fd\" fill-rule=\"evenodd\" fill-opacity=\"1\"/>\n",
       "<polyline clip-path=\"url(#clip162)\" style=\"stroke:#f8f8f2; stroke-linecap:round; stroke-linejoin:round; stroke-width:4; stroke-opacity:1; fill:none\" points=\"510.872,66.6928 510.872,1486.45 549.173,1486.45 549.173,66.6928 510.872,66.6928 \"/>\n",
       "<path clip-path=\"url(#clip162)\" d=\"M549.173 81.2793 L549.173 1486.45 L587.474 1486.45 L587.474 81.2793 L549.173 81.2793 L549.173 81.2793  Z\" fill=\"#8be9fd\" fill-rule=\"evenodd\" fill-opacity=\"1\"/>\n",
       "<polyline clip-path=\"url(#clip162)\" style=\"stroke:#f8f8f2; stroke-linecap:round; stroke-linejoin:round; stroke-width:4; stroke-opacity:1; fill:none\" points=\"549.173,81.2793 549.173,1486.45 587.474,1486.45 587.474,81.2793 549.173,81.2793 \"/>\n",
       "<path clip-path=\"url(#clip162)\" d=\"M587.474 96.5604 L587.474 1486.45 L625.775 1486.45 L625.775 96.5604 L587.474 96.5604 L587.474 96.5604  Z\" fill=\"#8be9fd\" fill-rule=\"evenodd\" fill-opacity=\"1\"/>\n",
       "<polyline clip-path=\"url(#clip162)\" style=\"stroke:#f8f8f2; stroke-linecap:round; stroke-linejoin:round; stroke-width:4; stroke-opacity:1; fill:none\" points=\"587.474,96.5604 587.474,1486.45 625.775,1486.45 625.775,96.5604 587.474,96.5604 \"/>\n",
       "<path clip-path=\"url(#clip162)\" d=\"M625.775 78.5009 L625.775 1486.45 L664.075 1486.45 L664.075 78.5009 L625.775 78.5009 L625.775 78.5009  Z\" fill=\"#8be9fd\" fill-rule=\"evenodd\" fill-opacity=\"1\"/>\n",
       "<polyline clip-path=\"url(#clip162)\" style=\"stroke:#f8f8f2; stroke-linecap:round; stroke-linejoin:round; stroke-width:4; stroke-opacity:1; fill:none\" points=\"625.775,78.5009 625.775,1486.45 664.075,1486.45 664.075,78.5009 625.775,78.5009 \"/>\n",
       "<path clip-path=\"url(#clip162)\" d=\"M664.075 72.2496 L664.075 1486.45 L702.376 1486.45 L702.376 72.2496 L664.075 72.2496 L664.075 72.2496  Z\" fill=\"#8be9fd\" fill-rule=\"evenodd\" fill-opacity=\"1\"/>\n",
       "<polyline clip-path=\"url(#clip162)\" style=\"stroke:#f8f8f2; stroke-linecap:round; stroke-linejoin:round; stroke-width:4; stroke-opacity:1; fill:none\" points=\"664.075,72.2496 664.075,1486.45 702.376,1486.45 702.376,72.2496 664.075,72.2496 \"/>\n",
       "<path clip-path=\"url(#clip162)\" d=\"M702.376 102.117 L702.376 1486.45 L740.677 1486.45 L740.677 102.117 L702.376 102.117 L702.376 102.117  Z\" fill=\"#8be9fd\" fill-rule=\"evenodd\" fill-opacity=\"1\"/>\n",
       "<polyline clip-path=\"url(#clip162)\" style=\"stroke:#f8f8f2; stroke-linecap:round; stroke-linejoin:round; stroke-width:4; stroke-opacity:1; fill:none\" points=\"702.376,102.117 702.376,1486.45 740.677,1486.45 740.677,102.117 702.376,102.117 \"/>\n",
       "<path clip-path=\"url(#clip162)\" d=\"M740.677 171.577 L740.677 1486.45 L778.978 1486.45 L778.978 171.577 L740.677 171.577 L740.677 171.577  Z\" fill=\"#8be9fd\" fill-rule=\"evenodd\" fill-opacity=\"1\"/>\n",
       "<polyline clip-path=\"url(#clip162)\" style=\"stroke:#f8f8f2; stroke-linecap:round; stroke-linejoin:round; stroke-width:4; stroke-opacity:1; fill:none\" points=\"740.677,171.577 740.677,1486.45 778.978,1486.45 778.978,171.577 740.677,171.577 \"/>\n",
       "<path clip-path=\"url(#clip162)\" d=\"M778.978 66.6928 L778.978 1486.45 L817.278 1486.45 L817.278 66.6928 L778.978 66.6928 L778.978 66.6928  Z\" fill=\"#8be9fd\" fill-rule=\"evenodd\" fill-opacity=\"1\"/>\n",
       "<polyline clip-path=\"url(#clip162)\" style=\"stroke:#f8f8f2; stroke-linecap:round; stroke-linejoin:round; stroke-width:4; stroke-opacity:1; fill:none\" points=\"778.978,66.6928 778.978,1486.45 817.278,1486.45 817.278,66.6928 778.978,66.6928 \"/>\n",
       "<path clip-path=\"url(#clip162)\" d=\"M817.278 112.536 L817.278 1486.45 L855.579 1486.45 L855.579 112.536 L817.278 112.536 L817.278 112.536  Z\" fill=\"#8be9fd\" fill-rule=\"evenodd\" fill-opacity=\"1\"/>\n",
       "<polyline clip-path=\"url(#clip162)\" style=\"stroke:#f8f8f2; stroke-linecap:round; stroke-linejoin:round; stroke-width:4; stroke-opacity:1; fill:none\" points=\"817.278,112.536 817.278,1486.45 855.579,1486.45 855.579,112.536 817.278,112.536 \"/>\n",
       "<path clip-path=\"url(#clip162)\" d=\"M855.579 103.506 L855.579 1486.45 L893.88 1486.45 L893.88 103.506 L855.579 103.506 L855.579 103.506  Z\" fill=\"#8be9fd\" fill-rule=\"evenodd\" fill-opacity=\"1\"/>\n",
       "<polyline clip-path=\"url(#clip162)\" style=\"stroke:#f8f8f2; stroke-linecap:round; stroke-linejoin:round; stroke-width:4; stroke-opacity:1; fill:none\" points=\"855.579,103.506 855.579,1486.45 893.88,1486.45 893.88,103.506 855.579,103.506 \"/>\n",
       "<path clip-path=\"url(#clip162)\" d=\"M893.88 167.409 L893.88 1486.45 L932.181 1486.45 L932.181 167.409 L893.88 167.409 L893.88 167.409  Z\" fill=\"#8be9fd\" fill-rule=\"evenodd\" fill-opacity=\"1\"/>\n",
       "<polyline clip-path=\"url(#clip162)\" style=\"stroke:#f8f8f2; stroke-linecap:round; stroke-linejoin:round; stroke-width:4; stroke-opacity:1; fill:none\" points=\"893.88,167.409 893.88,1486.45 932.181,1486.45 932.181,167.409 893.88,167.409 \"/>\n",
       "<path clip-path=\"url(#clip162)\" d=\"M932.181 79.8901 L932.181 1486.45 L970.482 1486.45 L970.482 79.8901 L932.181 79.8901 L932.181 79.8901  Z\" fill=\"#8be9fd\" fill-rule=\"evenodd\" fill-opacity=\"1\"/>\n",
       "<polyline clip-path=\"url(#clip162)\" style=\"stroke:#f8f8f2; stroke-linecap:round; stroke-linejoin:round; stroke-width:4; stroke-opacity:1; fill:none\" points=\"932.181,79.8901 932.181,1486.45 970.482,1486.45 970.482,79.8901 932.181,79.8901 \"/>\n",
       "<path clip-path=\"url(#clip162)\" d=\"M970.482 96.5604 L970.482 1486.45 L1008.78 1486.45 L1008.78 96.5604 L970.482 96.5604 L970.482 96.5604  Z\" fill=\"#8be9fd\" fill-rule=\"evenodd\" fill-opacity=\"1\"/>\n",
       "<polyline clip-path=\"url(#clip162)\" style=\"stroke:#f8f8f2; stroke-linecap:round; stroke-linejoin:round; stroke-width:4; stroke-opacity:1; fill:none\" points=\"970.482,96.5604 970.482,1486.45 1008.78,1486.45 1008.78,96.5604 970.482,96.5604 \"/>\n",
       "<path clip-path=\"url(#clip162)\" d=\"M1008.78 75.028 L1008.78 1486.45 L1047.08 1486.45 L1047.08 75.028 L1008.78 75.028 L1008.78 75.028  Z\" fill=\"#8be9fd\" fill-rule=\"evenodd\" fill-opacity=\"1\"/>\n",
       "<polyline clip-path=\"url(#clip162)\" style=\"stroke:#f8f8f2; stroke-linecap:round; stroke-linejoin:round; stroke-width:4; stroke-opacity:1; fill:none\" points=\"1008.78,75.028 1008.78,1486.45 1047.08,1486.45 1047.08,75.028 1008.78,75.028 \"/>\n",
       "<path clip-path=\"url(#clip162)\" d=\"M1047.08 65.9982 L1047.08 1486.45 L1085.38 1486.45 L1085.38 65.9982 L1047.08 65.9982 L1047.08 65.9982  Z\" fill=\"#8be9fd\" fill-rule=\"evenodd\" fill-opacity=\"1\"/>\n",
       "<polyline clip-path=\"url(#clip162)\" style=\"stroke:#f8f8f2; stroke-linecap:round; stroke-linejoin:round; stroke-width:4; stroke-opacity:1; fill:none\" points=\"1047.08,65.9982 1047.08,1486.45 1085.38,1486.45 1085.38,65.9982 1047.08,65.9982 \"/>\n",
       "<path clip-path=\"url(#clip162)\" d=\"M1085.38 118.093 L1085.38 1486.45 L1123.68 1486.45 L1123.68 118.093 L1085.38 118.093 L1085.38 118.093  Z\" fill=\"#8be9fd\" fill-rule=\"evenodd\" fill-opacity=\"1\"/>\n",
       "<polyline clip-path=\"url(#clip162)\" style=\"stroke:#f8f8f2; stroke-linecap:round; stroke-linejoin:round; stroke-width:4; stroke-opacity:1; fill:none\" points=\"1085.38,118.093 1085.38,1486.45 1123.68,1486.45 1123.68,118.093 1085.38,118.093 \"/>\n",
       "<path clip-path=\"url(#clip162)\" d=\"M1123.68 59.7468 L1123.68 1486.45 L1161.99 1486.45 L1161.99 59.7468 L1123.68 59.7468 L1123.68 59.7468  Z\" fill=\"#8be9fd\" fill-rule=\"evenodd\" fill-opacity=\"1\"/>\n",
       "<polyline clip-path=\"url(#clip162)\" style=\"stroke:#f8f8f2; stroke-linecap:round; stroke-linejoin:round; stroke-width:4; stroke-opacity:1; fill:none\" points=\"1123.68,59.7468 1123.68,1486.45 1161.99,1486.45 1161.99,59.7468 1123.68,59.7468 \"/>\n",
       "<path clip-path=\"url(#clip162)\" d=\"M1161.99 155.601 L1161.99 1486.45 L1200.29 1486.45 L1200.29 155.601 L1161.99 155.601 L1161.99 155.601  Z\" fill=\"#8be9fd\" fill-rule=\"evenodd\" fill-opacity=\"1\"/>\n",
       "<polyline clip-path=\"url(#clip162)\" style=\"stroke:#f8f8f2; stroke-linecap:round; stroke-linejoin:round; stroke-width:4; stroke-opacity:1; fill:none\" points=\"1161.99,155.601 1161.99,1486.45 1200.29,1486.45 1200.29,155.601 1161.99,155.601 \"/>\n",
       "<path clip-path=\"url(#clip162)\" d=\"M1200.29 114.62 L1200.29 1486.45 L1238.59 1486.45 L1238.59 114.62 L1200.29 114.62 L1200.29 114.62  Z\" fill=\"#8be9fd\" fill-rule=\"evenodd\" fill-opacity=\"1\"/>\n",
       "<polyline clip-path=\"url(#clip162)\" style=\"stroke:#f8f8f2; stroke-linecap:round; stroke-linejoin:round; stroke-width:4; stroke-opacity:1; fill:none\" points=\"1200.29,114.62 1200.29,1486.45 1238.59,1486.45 1238.59,114.62 1200.29,114.62 \"/>\n",
       "<path clip-path=\"url(#clip162)\" d=\"M1238.59 93.0875 L1238.59 1486.45 L1276.89 1486.45 L1276.89 93.0875 L1238.59 93.0875 L1238.59 93.0875  Z\" fill=\"#8be9fd\" fill-rule=\"evenodd\" fill-opacity=\"1\"/>\n",
       "<polyline clip-path=\"url(#clip162)\" style=\"stroke:#f8f8f2; stroke-linecap:round; stroke-linejoin:round; stroke-width:4; stroke-opacity:1; fill:none\" points=\"1238.59,93.0875 1238.59,1486.45 1276.89,1486.45 1276.89,93.0875 1238.59,93.0875 \"/>\n",
       "<path clip-path=\"url(#clip162)\" d=\"M1276.89 47.2441 L1276.89 1486.45 L1315.19 1486.45 L1315.19 47.2441 L1276.89 47.2441 L1276.89 47.2441  Z\" fill=\"#8be9fd\" fill-rule=\"evenodd\" fill-opacity=\"1\"/>\n",
       "<polyline clip-path=\"url(#clip162)\" style=\"stroke:#f8f8f2; stroke-linecap:round; stroke-linejoin:round; stroke-width:4; stroke-opacity:1; fill:none\" points=\"1276.89,47.2441 1276.89,1486.45 1315.19,1486.45 1315.19,47.2441 1276.89,47.2441 \"/>\n",
       "<path clip-path=\"url(#clip162)\" d=\"M1315.19 85.4469 L1315.19 1486.45 L1353.49 1486.45 L1353.49 85.4469 L1315.19 85.4469 L1315.19 85.4469  Z\" fill=\"#8be9fd\" fill-rule=\"evenodd\" fill-opacity=\"1\"/>\n",
       "<polyline clip-path=\"url(#clip162)\" style=\"stroke:#f8f8f2; stroke-linecap:round; stroke-linejoin:round; stroke-width:4; stroke-opacity:1; fill:none\" points=\"1315.19,85.4469 1315.19,1486.45 1353.49,1486.45 1353.49,85.4469 1315.19,85.4469 \"/>\n",
       "<path clip-path=\"url(#clip162)\" d=\"M1353.49 64.609 L1353.49 1486.45 L1391.79 1486.45 L1391.79 64.609 L1353.49 64.609 L1353.49 64.609  Z\" fill=\"#8be9fd\" fill-rule=\"evenodd\" fill-opacity=\"1\"/>\n",
       "<polyline clip-path=\"url(#clip162)\" style=\"stroke:#f8f8f2; stroke-linecap:round; stroke-linejoin:round; stroke-width:4; stroke-opacity:1; fill:none\" points=\"1353.49,64.609 1353.49,1486.45 1391.79,1486.45 1391.79,64.609 1353.49,64.609 \"/>\n",
       "<path clip-path=\"url(#clip162)\" d=\"M1391.79 65.9982 L1391.79 1486.45 L1430.09 1486.45 L1430.09 65.9982 L1391.79 65.9982 L1391.79 65.9982  Z\" fill=\"#8be9fd\" fill-rule=\"evenodd\" fill-opacity=\"1\"/>\n",
       "<polyline clip-path=\"url(#clip162)\" style=\"stroke:#f8f8f2; stroke-linecap:round; stroke-linejoin:round; stroke-width:4; stroke-opacity:1; fill:none\" points=\"1391.79,65.9982 1391.79,1486.45 1430.09,1486.45 1430.09,65.9982 1391.79,65.9982 \"/>\n",
       "<path clip-path=\"url(#clip162)\" d=\"M1430.09 77.8063 L1430.09 1486.45 L1468.39 1486.45 L1468.39 77.8063 L1430.09 77.8063 L1430.09 77.8063  Z\" fill=\"#8be9fd\" fill-rule=\"evenodd\" fill-opacity=\"1\"/>\n",
       "<polyline clip-path=\"url(#clip162)\" style=\"stroke:#f8f8f2; stroke-linecap:round; stroke-linejoin:round; stroke-width:4; stroke-opacity:1; fill:none\" points=\"1430.09,77.8063 1430.09,1486.45 1468.39,1486.45 1468.39,77.8063 1430.09,77.8063 \"/>\n",
       "<path clip-path=\"url(#clip162)\" d=\"M1468.39 75.028 L1468.39 1486.45 L1506.69 1486.45 L1506.69 75.028 L1468.39 75.028 L1468.39 75.028  Z\" fill=\"#8be9fd\" fill-rule=\"evenodd\" fill-opacity=\"1\"/>\n",
       "<polyline clip-path=\"url(#clip162)\" style=\"stroke:#f8f8f2; stroke-linecap:round; stroke-linejoin:round; stroke-width:4; stroke-opacity:1; fill:none\" points=\"1468.39,75.028 1468.39,1486.45 1506.69,1486.45 1506.69,75.028 1468.39,75.028 \"/>\n",
       "<path clip-path=\"url(#clip162)\" d=\"M1506.69 111.842 L1506.69 1486.45 L1544.99 1486.45 L1544.99 111.842 L1506.69 111.842 L1506.69 111.842  Z\" fill=\"#8be9fd\" fill-rule=\"evenodd\" fill-opacity=\"1\"/>\n",
       "<polyline clip-path=\"url(#clip162)\" style=\"stroke:#f8f8f2; stroke-linecap:round; stroke-linejoin:round; stroke-width:4; stroke-opacity:1; fill:none\" points=\"1506.69,111.842 1506.69,1486.45 1544.99,1486.45 1544.99,111.842 1506.69,111.842 \"/>\n",
       "<path clip-path=\"url(#clip162)\" d=\"M1544.99 168.798 L1544.99 1486.45 L1583.29 1486.45 L1583.29 168.798 L1544.99 168.798 L1544.99 168.798  Z\" fill=\"#8be9fd\" fill-rule=\"evenodd\" fill-opacity=\"1\"/>\n",
       "<polyline clip-path=\"url(#clip162)\" style=\"stroke:#f8f8f2; stroke-linecap:round; stroke-linejoin:round; stroke-width:4; stroke-opacity:1; fill:none\" points=\"1544.99,168.798 1544.99,1486.45 1583.29,1486.45 1583.29,168.798 1544.99,168.798 \"/>\n",
       "<path clip-path=\"url(#clip162)\" d=\"M1583.29 47.2441 L1583.29 1486.45 L1621.59 1486.45 L1621.59 47.2441 L1583.29 47.2441 L1583.29 47.2441  Z\" fill=\"#8be9fd\" fill-rule=\"evenodd\" fill-opacity=\"1\"/>\n",
       "<polyline clip-path=\"url(#clip162)\" style=\"stroke:#f8f8f2; stroke-linecap:round; stroke-linejoin:round; stroke-width:4; stroke-opacity:1; fill:none\" points=\"1583.29,47.2441 1583.29,1486.45 1621.59,1486.45 1621.59,47.2441 1583.29,47.2441 \"/>\n",
       "<path clip-path=\"url(#clip162)\" d=\"M1621.59 102.812 L1621.59 1486.45 L1659.9 1486.45 L1659.9 102.812 L1621.59 102.812 L1621.59 102.812  Z\" fill=\"#8be9fd\" fill-rule=\"evenodd\" fill-opacity=\"1\"/>\n",
       "<polyline clip-path=\"url(#clip162)\" style=\"stroke:#f8f8f2; stroke-linecap:round; stroke-linejoin:round; stroke-width:4; stroke-opacity:1; fill:none\" points=\"1621.59,102.812 1621.59,1486.45 1659.9,1486.45 1659.9,102.812 1621.59,102.812 \"/>\n",
       "<path clip-path=\"url(#clip162)\" d=\"M1659.9 136.152 L1659.9 1486.45 L1698.2 1486.45 L1698.2 136.152 L1659.9 136.152 L1659.9 136.152  Z\" fill=\"#8be9fd\" fill-rule=\"evenodd\" fill-opacity=\"1\"/>\n",
       "<polyline clip-path=\"url(#clip162)\" style=\"stroke:#f8f8f2; stroke-linecap:round; stroke-linejoin:round; stroke-width:4; stroke-opacity:1; fill:none\" points=\"1659.9,136.152 1659.9,1486.45 1698.2,1486.45 1698.2,136.152 1659.9,136.152 \"/>\n",
       "<path clip-path=\"url(#clip162)\" d=\"M1698.2 124.344 L1698.2 1486.45 L1736.5 1486.45 L1736.5 124.344 L1698.2 124.344 L1698.2 124.344  Z\" fill=\"#8be9fd\" fill-rule=\"evenodd\" fill-opacity=\"1\"/>\n",
       "<polyline clip-path=\"url(#clip162)\" style=\"stroke:#f8f8f2; stroke-linecap:round; stroke-linejoin:round; stroke-width:4; stroke-opacity:1; fill:none\" points=\"1698.2,124.344 1698.2,1486.45 1736.5,1486.45 1736.5,124.344 1698.2,124.344 \"/>\n",
       "<path clip-path=\"url(#clip162)\" d=\"M1736.5 84.7523 L1736.5 1486.45 L1774.8 1486.45 L1774.8 84.7523 L1736.5 84.7523 L1736.5 84.7523  Z\" fill=\"#8be9fd\" fill-rule=\"evenodd\" fill-opacity=\"1\"/>\n",
       "<polyline clip-path=\"url(#clip162)\" style=\"stroke:#f8f8f2; stroke-linecap:round; stroke-linejoin:round; stroke-width:4; stroke-opacity:1; fill:none\" points=\"1736.5,84.7523 1736.5,1486.45 1774.8,1486.45 1774.8,84.7523 1736.5,84.7523 \"/>\n",
       "<path clip-path=\"url(#clip162)\" d=\"M1774.8 137.542 L1774.8 1486.45 L1813.1 1486.45 L1813.1 137.542 L1774.8 137.542 L1774.8 137.542  Z\" fill=\"#8be9fd\" fill-rule=\"evenodd\" fill-opacity=\"1\"/>\n",
       "<polyline clip-path=\"url(#clip162)\" style=\"stroke:#f8f8f2; stroke-linecap:round; stroke-linejoin:round; stroke-width:4; stroke-opacity:1; fill:none\" points=\"1774.8,137.542 1774.8,1486.45 1813.1,1486.45 1813.1,137.542 1774.8,137.542 \"/>\n",
       "<path clip-path=\"url(#clip162)\" d=\"M1813.1 99.3388 L1813.1 1486.45 L1851.4 1486.45 L1851.4 99.3388 L1813.1 99.3388 L1813.1 99.3388  Z\" fill=\"#8be9fd\" fill-rule=\"evenodd\" fill-opacity=\"1\"/>\n",
       "<polyline clip-path=\"url(#clip162)\" style=\"stroke:#f8f8f2; stroke-linecap:round; stroke-linejoin:round; stroke-width:4; stroke-opacity:1; fill:none\" points=\"1813.1,99.3388 1813.1,1486.45 1851.4,1486.45 1851.4,99.3388 1813.1,99.3388 \"/>\n",
       "<path clip-path=\"url(#clip162)\" d=\"M1851.4 120.177 L1851.4 1486.45 L1889.7 1486.45 L1889.7 120.177 L1851.4 120.177 L1851.4 120.177  Z\" fill=\"#8be9fd\" fill-rule=\"evenodd\" fill-opacity=\"1\"/>\n",
       "<polyline clip-path=\"url(#clip162)\" style=\"stroke:#f8f8f2; stroke-linecap:round; stroke-linejoin:round; stroke-width:4; stroke-opacity:1; fill:none\" points=\"1851.4,120.177 1851.4,1486.45 1889.7,1486.45 1889.7,120.177 1851.4,120.177 \"/>\n",
       "<path clip-path=\"url(#clip162)\" d=\"M1889.7 47.2441 L1889.7 1486.45 L1928 1486.45 L1928 47.2441 L1889.7 47.2441 L1889.7 47.2441  Z\" fill=\"#8be9fd\" fill-rule=\"evenodd\" fill-opacity=\"1\"/>\n",
       "<polyline clip-path=\"url(#clip162)\" style=\"stroke:#f8f8f2; stroke-linecap:round; stroke-linejoin:round; stroke-width:4; stroke-opacity:1; fill:none\" points=\"1889.7,47.2441 1889.7,1486.45 1928,1486.45 1928,47.2441 1889.7,47.2441 \"/>\n",
       "<path clip-path=\"url(#clip162)\" d=\"M1928 109.758 L1928 1486.45 L1966.3 1486.45 L1966.3 109.758 L1928 109.758 L1928 109.758  Z\" fill=\"#8be9fd\" fill-rule=\"evenodd\" fill-opacity=\"1\"/>\n",
       "<polyline clip-path=\"url(#clip162)\" style=\"stroke:#f8f8f2; stroke-linecap:round; stroke-linejoin:round; stroke-width:4; stroke-opacity:1; fill:none\" points=\"1928,109.758 1928,1486.45 1966.3,1486.45 1966.3,109.758 1928,109.758 \"/>\n",
       "<path clip-path=\"url(#clip162)\" d=\"M1966.3 75.7225 L1966.3 1486.45 L2004.6 1486.45 L2004.6 75.7225 L1966.3 75.7225 L1966.3 75.7225  Z\" fill=\"#8be9fd\" fill-rule=\"evenodd\" fill-opacity=\"1\"/>\n",
       "<polyline clip-path=\"url(#clip162)\" style=\"stroke:#f8f8f2; stroke-linecap:round; stroke-linejoin:round; stroke-width:4; stroke-opacity:1; fill:none\" points=\"1966.3,75.7225 1966.3,1486.45 2004.6,1486.45 2004.6,75.7225 1966.3,75.7225 \"/>\n",
       "<path clip-path=\"url(#clip162)\" d=\"M2004.6 69.4712 L2004.6 1486.45 L2042.9 1486.45 L2042.9 69.4712 L2004.6 69.4712 L2004.6 69.4712  Z\" fill=\"#8be9fd\" fill-rule=\"evenodd\" fill-opacity=\"1\"/>\n",
       "<polyline clip-path=\"url(#clip162)\" style=\"stroke:#f8f8f2; stroke-linecap:round; stroke-linejoin:round; stroke-width:4; stroke-opacity:1; fill:none\" points=\"2004.6,69.4712 2004.6,1486.45 2042.9,1486.45 2042.9,69.4712 2004.6,69.4712 \"/>\n",
       "<path clip-path=\"url(#clip162)\" d=\"M2042.9 108.369 L2042.9 1486.45 L2081.2 1486.45 L2081.2 108.369 L2042.9 108.369 L2042.9 108.369  Z\" fill=\"#8be9fd\" fill-rule=\"evenodd\" fill-opacity=\"1\"/>\n",
       "<polyline clip-path=\"url(#clip162)\" style=\"stroke:#f8f8f2; stroke-linecap:round; stroke-linejoin:round; stroke-width:4; stroke-opacity:1; fill:none\" points=\"2042.9,108.369 2042.9,1486.45 2081.2,1486.45 2081.2,108.369 2042.9,108.369 \"/>\n",
       "<path clip-path=\"url(#clip162)\" d=\"M2081.2 124.344 L2081.2 1486.45 L2119.5 1486.45 L2119.5 124.344 L2081.2 124.344 L2081.2 124.344  Z\" fill=\"#8be9fd\" fill-rule=\"evenodd\" fill-opacity=\"1\"/>\n",
       "<polyline clip-path=\"url(#clip162)\" style=\"stroke:#f8f8f2; stroke-linecap:round; stroke-linejoin:round; stroke-width:4; stroke-opacity:1; fill:none\" points=\"2081.2,124.344 2081.2,1486.45 2119.5,1486.45 2119.5,124.344 2081.2,124.344 \"/>\n",
       "<path clip-path=\"url(#clip162)\" d=\"M2119.5 74.3334 L2119.5 1486.45 L2157.81 1486.45 L2157.81 74.3334 L2119.5 74.3334 L2119.5 74.3334  Z\" fill=\"#8be9fd\" fill-rule=\"evenodd\" fill-opacity=\"1\"/>\n",
       "<polyline clip-path=\"url(#clip162)\" style=\"stroke:#f8f8f2; stroke-linecap:round; stroke-linejoin:round; stroke-width:4; stroke-opacity:1; fill:none\" points=\"2119.5,74.3334 2119.5,1486.45 2157.81,1486.45 2157.81,74.3334 2119.5,74.3334 \"/>\n",
       "<path clip-path=\"url(#clip162)\" d=\"M2157.81 117.398 L2157.81 1486.45 L2196.11 1486.45 L2196.11 117.398 L2157.81 117.398 L2157.81 117.398  Z\" fill=\"#8be9fd\" fill-rule=\"evenodd\" fill-opacity=\"1\"/>\n",
       "<polyline clip-path=\"url(#clip162)\" style=\"stroke:#f8f8f2; stroke-linecap:round; stroke-linejoin:round; stroke-width:4; stroke-opacity:1; fill:none\" points=\"2157.81,117.398 2157.81,1486.45 2196.11,1486.45 2196.11,117.398 2157.81,117.398 \"/>\n",
       "<path clip-path=\"url(#clip162)\" d=\"M2196.11 79.1955 L2196.11 1486.45 L2234.41 1486.45 L2234.41 79.1955 L2196.11 79.1955 L2196.11 79.1955  Z\" fill=\"#8be9fd\" fill-rule=\"evenodd\" fill-opacity=\"1\"/>\n",
       "<polyline clip-path=\"url(#clip162)\" style=\"stroke:#f8f8f2; stroke-linecap:round; stroke-linejoin:round; stroke-width:4; stroke-opacity:1; fill:none\" points=\"2196.11,79.1955 2196.11,1486.45 2234.41,1486.45 2234.41,79.1955 2196.11,79.1955 \"/>\n",
       "<circle clip-path=\"url(#clip162)\" style=\"fill:#8be9fd; stroke:none; fill-opacity:0\" cx=\"338.519\" cy=\"131.29\" r=\"2\"/>\n",
       "<circle clip-path=\"url(#clip162)\" style=\"fill:#8be9fd; stroke:none; fill-opacity:0\" cx=\"376.82\" cy=\"99.3388\" r=\"2\"/>\n",
       "<circle clip-path=\"url(#clip162)\" style=\"fill:#8be9fd; stroke:none; fill-opacity:0\" cx=\"415.121\" cy=\"139.625\" r=\"2\"/>\n",
       "<circle clip-path=\"url(#clip162)\" style=\"fill:#8be9fd; stroke:none; fill-opacity:0\" cx=\"453.421\" cy=\"111.842\" r=\"2\"/>\n",
       "<circle clip-path=\"url(#clip162)\" style=\"fill:#8be9fd; stroke:none; fill-opacity:0\" cx=\"491.722\" cy=\"47.9387\" r=\"2\"/>\n",
       "<circle clip-path=\"url(#clip162)\" style=\"fill:#8be9fd; stroke:none; fill-opacity:0\" cx=\"530.023\" cy=\"66.6928\" r=\"2\"/>\n",
       "<circle clip-path=\"url(#clip162)\" style=\"fill:#8be9fd; stroke:none; fill-opacity:0\" cx=\"568.324\" cy=\"81.2793\" r=\"2\"/>\n",
       "<circle clip-path=\"url(#clip162)\" style=\"fill:#8be9fd; stroke:none; fill-opacity:0\" cx=\"606.624\" cy=\"96.5604\" r=\"2\"/>\n",
       "<circle clip-path=\"url(#clip162)\" style=\"fill:#8be9fd; stroke:none; fill-opacity:0\" cx=\"644.925\" cy=\"78.5009\" r=\"2\"/>\n",
       "<circle clip-path=\"url(#clip162)\" style=\"fill:#8be9fd; stroke:none; fill-opacity:0\" cx=\"683.226\" cy=\"72.2496\" r=\"2\"/>\n",
       "<circle clip-path=\"url(#clip162)\" style=\"fill:#8be9fd; stroke:none; fill-opacity:0\" cx=\"721.527\" cy=\"102.117\" r=\"2\"/>\n",
       "<circle clip-path=\"url(#clip162)\" style=\"fill:#8be9fd; stroke:none; fill-opacity:0\" cx=\"759.827\" cy=\"171.577\" r=\"2\"/>\n",
       "<circle clip-path=\"url(#clip162)\" style=\"fill:#8be9fd; stroke:none; fill-opacity:0\" cx=\"798.128\" cy=\"66.6928\" r=\"2\"/>\n",
       "<circle clip-path=\"url(#clip162)\" style=\"fill:#8be9fd; stroke:none; fill-opacity:0\" cx=\"836.429\" cy=\"112.536\" r=\"2\"/>\n",
       "<circle clip-path=\"url(#clip162)\" style=\"fill:#8be9fd; stroke:none; fill-opacity:0\" cx=\"874.73\" cy=\"103.506\" r=\"2\"/>\n",
       "<circle clip-path=\"url(#clip162)\" style=\"fill:#8be9fd; stroke:none; fill-opacity:0\" cx=\"913.03\" cy=\"167.409\" r=\"2\"/>\n",
       "<circle clip-path=\"url(#clip162)\" style=\"fill:#8be9fd; stroke:none; fill-opacity:0\" cx=\"951.331\" cy=\"79.8901\" r=\"2\"/>\n",
       "<circle clip-path=\"url(#clip162)\" style=\"fill:#8be9fd; stroke:none; fill-opacity:0\" cx=\"989.632\" cy=\"96.5604\" r=\"2\"/>\n",
       "<circle clip-path=\"url(#clip162)\" style=\"fill:#8be9fd; stroke:none; fill-opacity:0\" cx=\"1027.93\" cy=\"75.028\" r=\"2\"/>\n",
       "<circle clip-path=\"url(#clip162)\" style=\"fill:#8be9fd; stroke:none; fill-opacity:0\" cx=\"1066.23\" cy=\"65.9982\" r=\"2\"/>\n",
       "<circle clip-path=\"url(#clip162)\" style=\"fill:#8be9fd; stroke:none; fill-opacity:0\" cx=\"1104.53\" cy=\"118.093\" r=\"2\"/>\n",
       "<circle clip-path=\"url(#clip162)\" style=\"fill:#8be9fd; stroke:none; fill-opacity:0\" cx=\"1142.83\" cy=\"59.7468\" r=\"2\"/>\n",
       "<circle clip-path=\"url(#clip162)\" style=\"fill:#8be9fd; stroke:none; fill-opacity:0\" cx=\"1181.14\" cy=\"155.601\" r=\"2\"/>\n",
       "<circle clip-path=\"url(#clip162)\" style=\"fill:#8be9fd; stroke:none; fill-opacity:0\" cx=\"1219.44\" cy=\"114.62\" r=\"2\"/>\n",
       "<circle clip-path=\"url(#clip162)\" style=\"fill:#8be9fd; stroke:none; fill-opacity:0\" cx=\"1257.74\" cy=\"93.0875\" r=\"2\"/>\n",
       "<circle clip-path=\"url(#clip162)\" style=\"fill:#8be9fd; stroke:none; fill-opacity:0\" cx=\"1296.04\" cy=\"47.2441\" r=\"2\"/>\n",
       "<circle clip-path=\"url(#clip162)\" style=\"fill:#8be9fd; stroke:none; fill-opacity:0\" cx=\"1334.34\" cy=\"85.4469\" r=\"2\"/>\n",
       "<circle clip-path=\"url(#clip162)\" style=\"fill:#8be9fd; stroke:none; fill-opacity:0\" cx=\"1372.64\" cy=\"64.609\" r=\"2\"/>\n",
       "<circle clip-path=\"url(#clip162)\" style=\"fill:#8be9fd; stroke:none; fill-opacity:0\" cx=\"1410.94\" cy=\"65.9982\" r=\"2\"/>\n",
       "<circle clip-path=\"url(#clip162)\" style=\"fill:#8be9fd; stroke:none; fill-opacity:0\" cx=\"1449.24\" cy=\"77.8063\" r=\"2\"/>\n",
       "<circle clip-path=\"url(#clip162)\" style=\"fill:#8be9fd; stroke:none; fill-opacity:0\" cx=\"1487.54\" cy=\"75.028\" r=\"2\"/>\n",
       "<circle clip-path=\"url(#clip162)\" style=\"fill:#8be9fd; stroke:none; fill-opacity:0\" cx=\"1525.84\" cy=\"111.842\" r=\"2\"/>\n",
       "<circle clip-path=\"url(#clip162)\" style=\"fill:#8be9fd; stroke:none; fill-opacity:0\" cx=\"1564.14\" cy=\"168.798\" r=\"2\"/>\n",
       "<circle clip-path=\"url(#clip162)\" style=\"fill:#8be9fd; stroke:none; fill-opacity:0\" cx=\"1602.44\" cy=\"47.2441\" r=\"2\"/>\n",
       "<circle clip-path=\"url(#clip162)\" style=\"fill:#8be9fd; stroke:none; fill-opacity:0\" cx=\"1640.74\" cy=\"102.812\" r=\"2\"/>\n",
       "<circle clip-path=\"url(#clip162)\" style=\"fill:#8be9fd; stroke:none; fill-opacity:0\" cx=\"1679.05\" cy=\"136.152\" r=\"2\"/>\n",
       "<circle clip-path=\"url(#clip162)\" style=\"fill:#8be9fd; stroke:none; fill-opacity:0\" cx=\"1717.35\" cy=\"124.344\" r=\"2\"/>\n",
       "<circle clip-path=\"url(#clip162)\" style=\"fill:#8be9fd; stroke:none; fill-opacity:0\" cx=\"1755.65\" cy=\"84.7523\" r=\"2\"/>\n",
       "<circle clip-path=\"url(#clip162)\" style=\"fill:#8be9fd; stroke:none; fill-opacity:0\" cx=\"1793.95\" cy=\"137.542\" r=\"2\"/>\n",
       "<circle clip-path=\"url(#clip162)\" style=\"fill:#8be9fd; stroke:none; fill-opacity:0\" cx=\"1832.25\" cy=\"99.3388\" r=\"2\"/>\n",
       "<circle clip-path=\"url(#clip162)\" style=\"fill:#8be9fd; stroke:none; fill-opacity:0\" cx=\"1870.55\" cy=\"120.177\" r=\"2\"/>\n",
       "<circle clip-path=\"url(#clip162)\" style=\"fill:#8be9fd; stroke:none; fill-opacity:0\" cx=\"1908.85\" cy=\"47.2441\" r=\"2\"/>\n",
       "<circle clip-path=\"url(#clip162)\" style=\"fill:#8be9fd; stroke:none; fill-opacity:0\" cx=\"1947.15\" cy=\"109.758\" r=\"2\"/>\n",
       "<circle clip-path=\"url(#clip162)\" style=\"fill:#8be9fd; stroke:none; fill-opacity:0\" cx=\"1985.45\" cy=\"75.7225\" r=\"2\"/>\n",
       "<circle clip-path=\"url(#clip162)\" style=\"fill:#8be9fd; stroke:none; fill-opacity:0\" cx=\"2023.75\" cy=\"69.4712\" r=\"2\"/>\n",
       "<circle clip-path=\"url(#clip162)\" style=\"fill:#8be9fd; stroke:none; fill-opacity:0\" cx=\"2062.05\" cy=\"108.369\" r=\"2\"/>\n",
       "<circle clip-path=\"url(#clip162)\" style=\"fill:#8be9fd; stroke:none; fill-opacity:0\" cx=\"2100.35\" cy=\"124.344\" r=\"2\"/>\n",
       "<circle clip-path=\"url(#clip162)\" style=\"fill:#8be9fd; stroke:none; fill-opacity:0\" cx=\"2138.65\" cy=\"74.3334\" r=\"2\"/>\n",
       "<circle clip-path=\"url(#clip162)\" style=\"fill:#8be9fd; stroke:none; fill-opacity:0\" cx=\"2176.96\" cy=\"117.398\" r=\"2\"/>\n",
       "<circle clip-path=\"url(#clip162)\" style=\"fill:#8be9fd; stroke:none; fill-opacity:0\" cx=\"2215.26\" cy=\"79.1955\" r=\"2\"/>\n",
       "</svg>\n"
      ],
      "text/html": [
       "<?xml version=\"1.0\" encoding=\"utf-8\"?>\n",
       "<svg xmlns=\"http://www.w3.org/2000/svg\" xmlns:xlink=\"http://www.w3.org/1999/xlink\" width=\"600\" height=\"400\" viewBox=\"0 0 2400 1600\">\n",
       "<defs>\n",
       "  <clipPath id=\"clip210\">\n",
       "    <rect x=\"0\" y=\"0\" width=\"2400\" height=\"1600\"/>\n",
       "  </clipPath>\n",
       "</defs>\n",
       "<path clip-path=\"url(#clip210)\" d=\"M0 1600 L2400 1600 L2400 0 L0 0  Z\" fill=\"#282a36\" fill-rule=\"evenodd\" fill-opacity=\"1\"/>\n",
       "<defs>\n",
       "  <clipPath id=\"clip211\">\n",
       "    <rect x=\"480\" y=\"0\" width=\"1681\" height=\"1600\"/>\n",
       "  </clipPath>\n",
       "</defs>\n",
       "<path clip-path=\"url(#clip210)\" d=\"M201.019 1486.45 L2352.76 1486.45 L2352.76 47.2441 L201.019 47.2441  Z\" fill=\"#30343b\" fill-rule=\"evenodd\" fill-opacity=\"1\"/>\n",
       "<defs>\n",
       "  <clipPath id=\"clip212\">\n",
       "    <rect x=\"201\" y=\"47\" width=\"2153\" height=\"1440\"/>\n",
       "  </clipPath>\n",
       "</defs>\n",
       "<polyline clip-path=\"url(#clip212)\" style=\"stroke:#f8f8f2; stroke-linecap:round; stroke-linejoin:round; stroke-width:2; stroke-opacity:0.1; fill:none\" points=\"319.369,1486.45 319.369,47.2441 \"/>\n",
       "<polyline clip-path=\"url(#clip212)\" style=\"stroke:#f8f8f2; stroke-linecap:round; stroke-linejoin:round; stroke-width:2; stroke-opacity:0.1; fill:none\" points=\"798.128,1486.45 798.128,47.2441 \"/>\n",
       "<polyline clip-path=\"url(#clip212)\" style=\"stroke:#f8f8f2; stroke-linecap:round; stroke-linejoin:round; stroke-width:2; stroke-opacity:0.1; fill:none\" points=\"1276.89,1486.45 1276.89,47.2441 \"/>\n",
       "<polyline clip-path=\"url(#clip212)\" style=\"stroke:#f8f8f2; stroke-linecap:round; stroke-linejoin:round; stroke-width:2; stroke-opacity:0.1; fill:none\" points=\"1755.65,1486.45 1755.65,47.2441 \"/>\n",
       "<polyline clip-path=\"url(#clip212)\" style=\"stroke:#f8f8f2; stroke-linecap:round; stroke-linejoin:round; stroke-width:2; stroke-opacity:0.1; fill:none\" points=\"2234.41,1486.45 2234.41,47.2441 \"/>\n",
       "<polyline clip-path=\"url(#clip212)\" style=\"stroke:#f8f8f2; stroke-linecap:round; stroke-linejoin:round; stroke-width:2; stroke-opacity:0.1; fill:none\" points=\"201.019,1486.45 2352.76,1486.45 \"/>\n",
       "<polyline clip-path=\"url(#clip212)\" style=\"stroke:#f8f8f2; stroke-linecap:round; stroke-linejoin:round; stroke-width:2; stroke-opacity:0.1; fill:none\" points=\"201.019,1139.15 2352.76,1139.15 \"/>\n",
       "<polyline clip-path=\"url(#clip212)\" style=\"stroke:#f8f8f2; stroke-linecap:round; stroke-linejoin:round; stroke-width:2; stroke-opacity:0.1; fill:none\" points=\"201.019,791.851 2352.76,791.851 \"/>\n",
       "<polyline clip-path=\"url(#clip212)\" style=\"stroke:#f8f8f2; stroke-linecap:round; stroke-linejoin:round; stroke-width:2; stroke-opacity:0.1; fill:none\" points=\"201.019,444.553 2352.76,444.553 \"/>\n",
       "<polyline clip-path=\"url(#clip212)\" style=\"stroke:#f8f8f2; stroke-linecap:round; stroke-linejoin:round; stroke-width:2; stroke-opacity:0.1; fill:none\" points=\"201.019,97.255 2352.76,97.255 \"/>\n",
       "<polyline clip-path=\"url(#clip210)\" style=\"stroke:#f8f8f2; stroke-linecap:round; stroke-linejoin:round; stroke-width:4; stroke-opacity:1; fill:none\" points=\"201.019,1486.45 2352.76,1486.45 \"/>\n",
       "<polyline clip-path=\"url(#clip210)\" style=\"stroke:#f8f8f2; stroke-linecap:round; stroke-linejoin:round; stroke-width:4; stroke-opacity:1; fill:none\" points=\"319.369,1486.45 319.369,1467.55 \"/>\n",
       "<polyline clip-path=\"url(#clip210)\" style=\"stroke:#f8f8f2; stroke-linecap:round; stroke-linejoin:round; stroke-width:4; stroke-opacity:1; fill:none\" points=\"798.128,1486.45 798.128,1467.55 \"/>\n",
       "<polyline clip-path=\"url(#clip210)\" style=\"stroke:#f8f8f2; stroke-linecap:round; stroke-linejoin:round; stroke-width:4; stroke-opacity:1; fill:none\" points=\"1276.89,1486.45 1276.89,1467.55 \"/>\n",
       "<polyline clip-path=\"url(#clip210)\" style=\"stroke:#f8f8f2; stroke-linecap:round; stroke-linejoin:round; stroke-width:4; stroke-opacity:1; fill:none\" points=\"1755.65,1486.45 1755.65,1467.55 \"/>\n",
       "<polyline clip-path=\"url(#clip210)\" style=\"stroke:#f8f8f2; stroke-linecap:round; stroke-linejoin:round; stroke-width:4; stroke-opacity:1; fill:none\" points=\"2234.41,1486.45 2234.41,1467.55 \"/>\n",
       "<path clip-path=\"url(#clip210)\" d=\"M281.672 1517.37 Q278.061 1517.37 276.232 1520.93 Q274.427 1524.47 274.427 1531.6 Q274.427 1538.71 276.232 1542.27 Q278.061 1545.82 281.672 1545.82 Q285.306 1545.82 287.112 1542.27 Q288.941 1538.71 288.941 1531.6 Q288.941 1524.47 287.112 1520.93 Q285.306 1517.37 281.672 1517.37 M281.672 1513.66 Q287.482 1513.66 290.538 1518.27 Q293.616 1522.85 293.616 1531.6 Q293.616 1540.33 290.538 1544.94 Q287.482 1549.52 281.672 1549.52 Q275.862 1549.52 272.783 1544.94 Q269.728 1540.33 269.728 1531.6 Q269.728 1522.85 272.783 1518.27 Q275.862 1513.66 281.672 1513.66 Z\" fill=\"#f8f8f2\" fill-rule=\"nonzero\" fill-opacity=\"1\" /><path clip-path=\"url(#clip210)\" d=\"M301.834 1542.97 L306.718 1542.97 L306.718 1548.85 L301.834 1548.85 L301.834 1542.97 Z\" fill=\"#f8f8f2\" fill-rule=\"nonzero\" fill-opacity=\"1\" /><path clip-path=\"url(#clip210)\" d=\"M326.903 1517.37 Q323.292 1517.37 321.464 1520.93 Q319.658 1524.47 319.658 1531.6 Q319.658 1538.71 321.464 1542.27 Q323.292 1545.82 326.903 1545.82 Q330.538 1545.82 332.343 1542.27 Q334.172 1538.71 334.172 1531.6 Q334.172 1524.47 332.343 1520.93 Q330.538 1517.37 326.903 1517.37 M326.903 1513.66 Q332.713 1513.66 335.769 1518.27 Q338.848 1522.85 338.848 1531.6 Q338.848 1540.33 335.769 1544.94 Q332.713 1549.52 326.903 1549.52 Q321.093 1549.52 318.014 1544.94 Q314.959 1540.33 314.959 1531.6 Q314.959 1522.85 318.014 1518.27 Q321.093 1513.66 326.903 1513.66 Z\" fill=\"#f8f8f2\" fill-rule=\"nonzero\" fill-opacity=\"1\" /><path clip-path=\"url(#clip210)\" d=\"M357.065 1517.37 Q353.454 1517.37 351.625 1520.93 Q349.82 1524.47 349.82 1531.6 Q349.82 1538.71 351.625 1542.27 Q353.454 1545.82 357.065 1545.82 Q360.699 1545.82 362.505 1542.27 Q364.334 1538.71 364.334 1531.6 Q364.334 1524.47 362.505 1520.93 Q360.699 1517.37 357.065 1517.37 M357.065 1513.66 Q362.875 1513.66 365.931 1518.27 Q369.01 1522.85 369.01 1531.6 Q369.01 1540.33 365.931 1544.94 Q362.875 1549.52 357.065 1549.52 Q351.255 1549.52 348.176 1544.94 Q345.121 1540.33 345.121 1531.6 Q345.121 1522.85 348.176 1518.27 Q351.255 1513.66 357.065 1513.66 Z\" fill=\"#f8f8f2\" fill-rule=\"nonzero\" fill-opacity=\"1\" /><path clip-path=\"url(#clip210)\" d=\"M760.929 1517.37 Q757.318 1517.37 755.489 1520.93 Q753.684 1524.47 753.684 1531.6 Q753.684 1538.71 755.489 1542.27 Q757.318 1545.82 760.929 1545.82 Q764.563 1545.82 766.369 1542.27 Q768.198 1538.71 768.198 1531.6 Q768.198 1524.47 766.369 1520.93 Q764.563 1517.37 760.929 1517.37 M760.929 1513.66 Q766.739 1513.66 769.795 1518.27 Q772.874 1522.85 772.874 1531.6 Q772.874 1540.33 769.795 1544.94 Q766.739 1549.52 760.929 1549.52 Q755.119 1549.52 752.04 1544.94 Q748.985 1540.33 748.985 1531.6 Q748.985 1522.85 752.04 1518.27 Q755.119 1513.66 760.929 1513.66 Z\" fill=\"#f8f8f2\" fill-rule=\"nonzero\" fill-opacity=\"1\" /><path clip-path=\"url(#clip210)\" d=\"M781.091 1542.97 L785.975 1542.97 L785.975 1548.85 L781.091 1548.85 L781.091 1542.97 Z\" fill=\"#f8f8f2\" fill-rule=\"nonzero\" fill-opacity=\"1\" /><path clip-path=\"url(#clip210)\" d=\"M800.188 1544.91 L816.508 1544.91 L816.508 1548.85 L794.563 1548.85 L794.563 1544.91 Q797.225 1542.16 801.809 1537.53 Q806.415 1532.88 807.596 1531.53 Q809.841 1529.01 810.721 1527.27 Q811.623 1525.51 811.623 1523.82 Q811.623 1521.07 809.679 1519.33 Q807.758 1517.6 804.656 1517.6 Q802.457 1517.6 800.003 1518.36 Q797.573 1519.13 794.795 1520.68 L794.795 1515.95 Q797.619 1514.82 800.073 1514.24 Q802.526 1513.66 804.563 1513.66 Q809.934 1513.66 813.128 1516.35 Q816.322 1519.03 816.322 1523.52 Q816.322 1525.65 815.512 1527.57 Q814.725 1529.47 812.619 1532.07 Q812.04 1532.74 808.938 1535.95 Q805.836 1539.15 800.188 1544.91 Z\" fill=\"#f8f8f2\" fill-rule=\"nonzero\" fill-opacity=\"1\" /><path clip-path=\"url(#clip210)\" d=\"M826.369 1514.29 L844.725 1514.29 L844.725 1518.22 L830.651 1518.22 L830.651 1526.7 Q831.67 1526.35 832.688 1526.19 Q833.707 1526 834.725 1526 Q840.512 1526 843.892 1529.17 Q847.271 1532.34 847.271 1537.76 Q847.271 1543.34 843.799 1546.44 Q840.327 1549.52 834.008 1549.52 Q831.832 1549.52 829.563 1549.15 Q827.318 1548.78 824.91 1548.04 L824.91 1543.34 Q826.994 1544.47 829.216 1545.03 Q831.438 1545.58 833.915 1545.58 Q837.92 1545.58 840.258 1543.48 Q842.595 1541.37 842.595 1537.76 Q842.595 1534.15 840.258 1532.04 Q837.92 1529.94 833.915 1529.94 Q832.04 1529.94 830.165 1530.35 Q828.313 1530.77 826.369 1531.65 L826.369 1514.29 Z\" fill=\"#f8f8f2\" fill-rule=\"nonzero\" fill-opacity=\"1\" /><path clip-path=\"url(#clip210)\" d=\"M1239.19 1517.37 Q1235.58 1517.37 1233.75 1520.93 Q1231.95 1524.47 1231.95 1531.6 Q1231.95 1538.71 1233.75 1542.27 Q1235.58 1545.82 1239.19 1545.82 Q1242.83 1545.82 1244.63 1542.27 Q1246.46 1538.71 1246.46 1531.6 Q1246.46 1524.47 1244.63 1520.93 Q1242.83 1517.37 1239.19 1517.37 M1239.19 1513.66 Q1245 1513.66 1248.06 1518.27 Q1251.14 1522.85 1251.14 1531.6 Q1251.14 1540.33 1248.06 1544.94 Q1245 1549.52 1239.19 1549.52 Q1233.38 1549.52 1230.3 1544.94 Q1227.25 1540.33 1227.25 1531.6 Q1227.25 1522.85 1230.3 1518.27 Q1233.38 1513.66 1239.19 1513.66 Z\" fill=\"#f8f8f2\" fill-rule=\"nonzero\" fill-opacity=\"1\" /><path clip-path=\"url(#clip210)\" d=\"M1259.35 1542.97 L1264.24 1542.97 L1264.24 1548.85 L1259.35 1548.85 L1259.35 1542.97 Z\" fill=\"#f8f8f2\" fill-rule=\"nonzero\" fill-opacity=\"1\" /><path clip-path=\"url(#clip210)\" d=\"M1274.47 1514.29 L1292.83 1514.29 L1292.83 1518.22 L1278.75 1518.22 L1278.75 1526.7 Q1279.77 1526.35 1280.79 1526.19 Q1281.81 1526 1282.83 1526 Q1288.61 1526 1291.99 1529.17 Q1295.37 1532.34 1295.37 1537.76 Q1295.37 1543.34 1291.9 1546.44 Q1288.43 1549.52 1282.11 1549.52 Q1279.93 1549.52 1277.66 1549.15 Q1275.42 1548.78 1273.01 1548.04 L1273.01 1543.34 Q1275.09 1544.47 1277.32 1545.03 Q1279.54 1545.58 1282.01 1545.58 Q1286.02 1545.58 1288.36 1543.48 Q1290.7 1541.37 1290.7 1537.76 Q1290.7 1534.15 1288.36 1532.04 Q1286.02 1529.94 1282.01 1529.94 Q1280.14 1529.94 1278.26 1530.35 Q1276.41 1530.77 1274.47 1531.65 L1274.47 1514.29 Z\" fill=\"#f8f8f2\" fill-rule=\"nonzero\" fill-opacity=\"1\" /><path clip-path=\"url(#clip210)\" d=\"M1314.58 1517.37 Q1310.97 1517.37 1309.14 1520.93 Q1307.34 1524.47 1307.34 1531.6 Q1307.34 1538.71 1309.14 1542.27 Q1310.97 1545.82 1314.58 1545.82 Q1318.22 1545.82 1320.02 1542.27 Q1321.85 1538.71 1321.85 1531.6 Q1321.85 1524.47 1320.02 1520.93 Q1318.22 1517.37 1314.58 1517.37 M1314.58 1513.66 Q1320.39 1513.66 1323.45 1518.27 Q1326.53 1522.85 1326.53 1531.6 Q1326.53 1540.33 1323.45 1544.94 Q1320.39 1549.52 1314.58 1549.52 Q1308.77 1549.52 1305.7 1544.94 Q1302.64 1540.33 1302.64 1531.6 Q1302.64 1522.85 1305.7 1518.27 Q1308.77 1513.66 1314.58 1513.66 Z\" fill=\"#f8f8f2\" fill-rule=\"nonzero\" fill-opacity=\"1\" /><path clip-path=\"url(#clip210)\" d=\"M1718.45 1517.37 Q1714.84 1517.37 1713.01 1520.93 Q1711.2 1524.47 1711.2 1531.6 Q1711.2 1538.71 1713.01 1542.27 Q1714.84 1545.82 1718.45 1545.82 Q1722.08 1545.82 1723.89 1542.27 Q1725.72 1538.71 1725.72 1531.6 Q1725.72 1524.47 1723.89 1520.93 Q1722.08 1517.37 1718.45 1517.37 M1718.45 1513.66 Q1724.26 1513.66 1727.31 1518.27 Q1730.39 1522.85 1730.39 1531.6 Q1730.39 1540.33 1727.31 1544.94 Q1724.26 1549.52 1718.45 1549.52 Q1712.64 1549.52 1709.56 1544.94 Q1706.5 1540.33 1706.5 1531.6 Q1706.5 1522.85 1709.56 1518.27 Q1712.64 1513.66 1718.45 1513.66 Z\" fill=\"#f8f8f2\" fill-rule=\"nonzero\" fill-opacity=\"1\" /><path clip-path=\"url(#clip210)\" d=\"M1738.61 1542.97 L1743.49 1542.97 L1743.49 1548.85 L1738.61 1548.85 L1738.61 1542.97 Z\" fill=\"#f8f8f2\" fill-rule=\"nonzero\" fill-opacity=\"1\" /><path clip-path=\"url(#clip210)\" d=\"M1752.5 1514.29 L1774.72 1514.29 L1774.72 1516.28 L1762.17 1548.85 L1757.29 1548.85 L1769.1 1518.22 L1752.5 1518.22 L1752.5 1514.29 Z\" fill=\"#f8f8f2\" fill-rule=\"nonzero\" fill-opacity=\"1\" /><path clip-path=\"url(#clip210)\" d=\"M1783.89 1514.29 L1802.24 1514.29 L1802.24 1518.22 L1788.17 1518.22 L1788.17 1526.7 Q1789.19 1526.35 1790.21 1526.19 Q1791.23 1526 1792.24 1526 Q1798.03 1526 1801.41 1529.17 Q1804.79 1532.34 1804.79 1537.76 Q1804.79 1543.34 1801.32 1546.44 Q1797.85 1549.52 1791.53 1549.52 Q1789.35 1549.52 1787.08 1549.15 Q1784.84 1548.78 1782.43 1548.04 L1782.43 1543.34 Q1784.51 1544.47 1786.73 1545.03 Q1788.96 1545.58 1791.43 1545.58 Q1795.44 1545.58 1797.78 1543.48 Q1800.11 1541.37 1800.11 1537.76 Q1800.11 1534.15 1797.78 1532.04 Q1795.44 1529.94 1791.43 1529.94 Q1789.56 1529.94 1787.68 1530.35 Q1785.83 1530.77 1783.89 1531.65 L1783.89 1514.29 Z\" fill=\"#f8f8f2\" fill-rule=\"nonzero\" fill-opacity=\"1\" /><path clip-path=\"url(#clip210)\" d=\"M2186.48 1544.91 L2194.12 1544.91 L2194.12 1518.55 L2185.81 1520.21 L2185.81 1515.95 L2194.07 1514.29 L2198.75 1514.29 L2198.75 1544.91 L2206.39 1544.91 L2206.39 1548.85 L2186.48 1548.85 L2186.48 1544.91 Z\" fill=\"#f8f8f2\" fill-rule=\"nonzero\" fill-opacity=\"1\" /><path clip-path=\"url(#clip210)\" d=\"M2215.83 1542.97 L2220.71 1542.97 L2220.71 1548.85 L2215.83 1548.85 L2215.83 1542.97 Z\" fill=\"#f8f8f2\" fill-rule=\"nonzero\" fill-opacity=\"1\" /><path clip-path=\"url(#clip210)\" d=\"M2240.9 1517.37 Q2237.29 1517.37 2235.46 1520.93 Q2233.65 1524.47 2233.65 1531.6 Q2233.65 1538.71 2235.46 1542.27 Q2237.29 1545.82 2240.9 1545.82 Q2244.53 1545.82 2246.34 1542.27 Q2248.17 1538.71 2248.17 1531.6 Q2248.17 1524.47 2246.34 1520.93 Q2244.53 1517.37 2240.9 1517.37 M2240.9 1513.66 Q2246.71 1513.66 2249.77 1518.27 Q2252.84 1522.85 2252.84 1531.6 Q2252.84 1540.33 2249.77 1544.94 Q2246.71 1549.52 2240.9 1549.52 Q2235.09 1549.52 2232.01 1544.94 Q2228.96 1540.33 2228.96 1531.6 Q2228.96 1522.85 2232.01 1518.27 Q2235.09 1513.66 2240.9 1513.66 Z\" fill=\"#f8f8f2\" fill-rule=\"nonzero\" fill-opacity=\"1\" /><path clip-path=\"url(#clip210)\" d=\"M2271.06 1517.37 Q2267.45 1517.37 2265.62 1520.93 Q2263.82 1524.47 2263.82 1531.6 Q2263.82 1538.71 2265.62 1542.27 Q2267.45 1545.82 2271.06 1545.82 Q2274.7 1545.82 2276.5 1542.27 Q2278.33 1538.71 2278.33 1531.6 Q2278.33 1524.47 2276.5 1520.93 Q2274.7 1517.37 2271.06 1517.37 M2271.06 1513.66 Q2276.87 1513.66 2279.93 1518.27 Q2283.01 1522.85 2283.01 1531.6 Q2283.01 1540.33 2279.93 1544.94 Q2276.87 1549.52 2271.06 1549.52 Q2265.25 1549.52 2262.17 1544.94 Q2259.12 1540.33 2259.12 1531.6 Q2259.12 1522.85 2262.17 1518.27 Q2265.25 1513.66 2271.06 1513.66 Z\" fill=\"#f8f8f2\" fill-rule=\"nonzero\" fill-opacity=\"1\" /><polyline clip-path=\"url(#clip210)\" style=\"stroke:#f8f8f2; stroke-linecap:round; stroke-linejoin:round; stroke-width:4; stroke-opacity:1; fill:none\" points=\"201.019,1486.45 201.019,47.2441 \"/>\n",
       "<polyline clip-path=\"url(#clip210)\" style=\"stroke:#f8f8f2; stroke-linecap:round; stroke-linejoin:round; stroke-width:4; stroke-opacity:1; fill:none\" points=\"201.019,1486.45 219.917,1486.45 \"/>\n",
       "<polyline clip-path=\"url(#clip210)\" style=\"stroke:#f8f8f2; stroke-linecap:round; stroke-linejoin:round; stroke-width:4; stroke-opacity:1; fill:none\" points=\"201.019,1139.15 219.917,1139.15 \"/>\n",
       "<polyline clip-path=\"url(#clip210)\" style=\"stroke:#f8f8f2; stroke-linecap:round; stroke-linejoin:round; stroke-width:4; stroke-opacity:1; fill:none\" points=\"201.019,791.851 219.917,791.851 \"/>\n",
       "<polyline clip-path=\"url(#clip210)\" style=\"stroke:#f8f8f2; stroke-linecap:round; stroke-linejoin:round; stroke-width:4; stroke-opacity:1; fill:none\" points=\"201.019,444.553 219.917,444.553 \"/>\n",
       "<polyline clip-path=\"url(#clip210)\" style=\"stroke:#f8f8f2; stroke-linecap:round; stroke-linejoin:round; stroke-width:4; stroke-opacity:1; fill:none\" points=\"201.019,97.255 219.917,97.255 \"/>\n",
       "<path clip-path=\"url(#clip210)\" d=\"M153.075 1472.25 Q149.464 1472.25 147.635 1475.81 Q145.83 1479.35 145.83 1486.48 Q145.83 1493.59 147.635 1497.15 Q149.464 1500.7 153.075 1500.7 Q156.709 1500.7 158.515 1497.15 Q160.343 1493.59 160.343 1486.48 Q160.343 1479.35 158.515 1475.81 Q156.709 1472.25 153.075 1472.25 M153.075 1468.54 Q158.885 1468.54 161.941 1473.15 Q165.019 1477.73 165.019 1486.48 Q165.019 1495.21 161.941 1499.82 Q158.885 1504.4 153.075 1504.4 Q147.265 1504.4 144.186 1499.82 Q141.131 1495.21 141.131 1486.48 Q141.131 1477.73 144.186 1473.15 Q147.265 1468.54 153.075 1468.54 Z\" fill=\"#f8f8f2\" fill-rule=\"nonzero\" fill-opacity=\"1\" /><path clip-path=\"url(#clip210)\" d=\"M82.7975 1121.87 L101.154 1121.87 L101.154 1125.8 L87.0799 1125.8 L87.0799 1134.28 Q88.0984 1133.93 89.1169 1133.77 Q90.1354 1133.58 91.1539 1133.58 Q96.941 1133.58 100.321 1136.75 Q103.7 1139.93 103.7 1145.34 Q103.7 1150.92 100.228 1154.02 Q96.7558 1157.1 90.4364 1157.1 Q88.2604 1157.1 85.9919 1156.73 Q83.7466 1156.36 81.3392 1155.62 L81.3392 1150.92 Q83.4225 1152.05 85.6447 1152.61 Q87.8669 1153.17 90.3438 1153.17 Q94.3484 1153.17 96.6863 1151.06 Q99.0243 1148.95 99.0243 1145.34 Q99.0243 1141.73 96.6863 1139.62 Q94.3484 1137.52 90.3438 1137.52 Q88.4688 1137.52 86.5938 1137.93 Q84.7419 1138.35 82.7975 1139.23 L82.7975 1121.87 Z\" fill=\"#f8f8f2\" fill-rule=\"nonzero\" fill-opacity=\"1\" /><path clip-path=\"url(#clip210)\" d=\"M122.913 1124.95 Q119.302 1124.95 117.473 1128.51 Q115.668 1132.05 115.668 1139.18 Q115.668 1146.29 117.473 1149.86 Q119.302 1153.4 122.913 1153.4 Q126.547 1153.4 128.353 1149.86 Q130.182 1146.29 130.182 1139.18 Q130.182 1132.05 128.353 1128.51 Q126.547 1124.95 122.913 1124.95 M122.913 1121.24 Q128.723 1121.24 131.779 1125.85 Q134.857 1130.43 134.857 1139.18 Q134.857 1147.91 131.779 1152.52 Q128.723 1157.1 122.913 1157.1 Q117.103 1157.1 114.024 1152.52 Q110.969 1147.91 110.969 1139.18 Q110.969 1130.43 114.024 1125.85 Q117.103 1121.24 122.913 1121.24 Z\" fill=\"#f8f8f2\" fill-rule=\"nonzero\" fill-opacity=\"1\" /><path clip-path=\"url(#clip210)\" d=\"M153.075 1124.95 Q149.464 1124.95 147.635 1128.51 Q145.83 1132.05 145.83 1139.18 Q145.83 1146.29 147.635 1149.86 Q149.464 1153.4 153.075 1153.4 Q156.709 1153.4 158.515 1149.86 Q160.343 1146.29 160.343 1139.18 Q160.343 1132.05 158.515 1128.51 Q156.709 1124.95 153.075 1124.95 M153.075 1121.24 Q158.885 1121.24 161.941 1125.85 Q165.019 1130.43 165.019 1139.18 Q165.019 1147.91 161.941 1152.52 Q158.885 1157.1 153.075 1157.1 Q147.265 1157.1 144.186 1152.52 Q141.131 1147.91 141.131 1139.18 Q141.131 1130.43 144.186 1125.85 Q147.265 1121.24 153.075 1121.24 Z\" fill=\"#f8f8f2\" fill-rule=\"nonzero\" fill-opacity=\"1\" /><path clip-path=\"url(#clip210)\" d=\"M53.3995 805.196 L61.0384 805.196 L61.0384 778.831 L52.7282 780.497 L52.7282 776.238 L60.9921 774.571 L65.668 774.571 L65.668 805.196 L73.3068 805.196 L73.3068 809.131 L53.3995 809.131 L53.3995 805.196 Z\" fill=\"#f8f8f2\" fill-rule=\"nonzero\" fill-opacity=\"1\" /><path clip-path=\"url(#clip210)\" d=\"M92.7512 777.65 Q89.1401 777.65 87.3114 781.215 Q85.5058 784.757 85.5058 791.886 Q85.5058 798.993 87.3114 802.557 Q89.1401 806.099 92.7512 806.099 Q96.3854 806.099 98.1909 802.557 Q100.02 798.993 100.02 791.886 Q100.02 784.757 98.1909 781.215 Q96.3854 777.65 92.7512 777.65 M92.7512 773.946 Q98.5613 773.946 101.617 778.553 Q104.696 783.136 104.696 791.886 Q104.696 800.613 101.617 805.219 Q98.5613 809.803 92.7512 809.803 Q86.941 809.803 83.8623 805.219 Q80.8068 800.613 80.8068 791.886 Q80.8068 783.136 83.8623 778.553 Q86.941 773.946 92.7512 773.946 Z\" fill=\"#f8f8f2\" fill-rule=\"nonzero\" fill-opacity=\"1\" /><path clip-path=\"url(#clip210)\" d=\"M122.913 777.65 Q119.302 777.65 117.473 781.215 Q115.668 784.757 115.668 791.886 Q115.668 798.993 117.473 802.557 Q119.302 806.099 122.913 806.099 Q126.547 806.099 128.353 802.557 Q130.182 798.993 130.182 791.886 Q130.182 784.757 128.353 781.215 Q126.547 777.65 122.913 777.65 M122.913 773.946 Q128.723 773.946 131.779 778.553 Q134.857 783.136 134.857 791.886 Q134.857 800.613 131.779 805.219 Q128.723 809.803 122.913 809.803 Q117.103 809.803 114.024 805.219 Q110.969 800.613 110.969 791.886 Q110.969 783.136 114.024 778.553 Q117.103 773.946 122.913 773.946 Z\" fill=\"#f8f8f2\" fill-rule=\"nonzero\" fill-opacity=\"1\" /><path clip-path=\"url(#clip210)\" d=\"M153.075 777.65 Q149.464 777.65 147.635 781.215 Q145.83 784.757 145.83 791.886 Q145.83 798.993 147.635 802.557 Q149.464 806.099 153.075 806.099 Q156.709 806.099 158.515 802.557 Q160.343 798.993 160.343 791.886 Q160.343 784.757 158.515 781.215 Q156.709 777.65 153.075 777.65 M153.075 773.946 Q158.885 773.946 161.941 778.553 Q165.019 783.136 165.019 791.886 Q165.019 800.613 161.941 805.219 Q158.885 809.803 153.075 809.803 Q147.265 809.803 144.186 805.219 Q141.131 800.613 141.131 791.886 Q141.131 783.136 144.186 778.553 Q147.265 773.946 153.075 773.946 Z\" fill=\"#f8f8f2\" fill-rule=\"nonzero\" fill-opacity=\"1\" /><path clip-path=\"url(#clip210)\" d=\"M53.3995 457.898 L61.0384 457.898 L61.0384 431.532 L52.7282 433.199 L52.7282 428.94 L60.9921 427.273 L65.668 427.273 L65.668 457.898 L73.3068 457.898 L73.3068 461.833 L53.3995 461.833 L53.3995 457.898 Z\" fill=\"#f8f8f2\" fill-rule=\"nonzero\" fill-opacity=\"1\" /><path clip-path=\"url(#clip210)\" d=\"M82.7975 427.273 L101.154 427.273 L101.154 431.208 L87.0799 431.208 L87.0799 439.681 Q88.0984 439.333 89.1169 439.171 Q90.1354 438.986 91.1539 438.986 Q96.941 438.986 100.321 442.157 Q103.7 445.329 103.7 450.745 Q103.7 456.324 100.228 459.426 Q96.7558 462.505 90.4364 462.505 Q88.2604 462.505 85.9919 462.134 Q83.7466 461.764 81.3392 461.023 L81.3392 456.324 Q83.4225 457.458 85.6447 458.014 Q87.8669 458.569 90.3438 458.569 Q94.3484 458.569 96.6863 456.463 Q99.0243 454.356 99.0243 450.745 Q99.0243 447.134 96.6863 445.028 Q94.3484 442.921 90.3438 442.921 Q88.4688 442.921 86.5938 443.338 Q84.7419 443.755 82.7975 444.634 L82.7975 427.273 Z\" fill=\"#f8f8f2\" fill-rule=\"nonzero\" fill-opacity=\"1\" /><path clip-path=\"url(#clip210)\" d=\"M122.913 430.352 Q119.302 430.352 117.473 433.917 Q115.668 437.458 115.668 444.588 Q115.668 451.694 117.473 455.259 Q119.302 458.801 122.913 458.801 Q126.547 458.801 128.353 455.259 Q130.182 451.694 130.182 444.588 Q130.182 437.458 128.353 433.917 Q126.547 430.352 122.913 430.352 M122.913 426.648 Q128.723 426.648 131.779 431.255 Q134.857 435.838 134.857 444.588 Q134.857 453.315 131.779 457.921 Q128.723 462.505 122.913 462.505 Q117.103 462.505 114.024 457.921 Q110.969 453.315 110.969 444.588 Q110.969 435.838 114.024 431.255 Q117.103 426.648 122.913 426.648 Z\" fill=\"#f8f8f2\" fill-rule=\"nonzero\" fill-opacity=\"1\" /><path clip-path=\"url(#clip210)\" d=\"M153.075 430.352 Q149.464 430.352 147.635 433.917 Q145.83 437.458 145.83 444.588 Q145.83 451.694 147.635 455.259 Q149.464 458.801 153.075 458.801 Q156.709 458.801 158.515 455.259 Q160.343 451.694 160.343 444.588 Q160.343 437.458 158.515 433.917 Q156.709 430.352 153.075 430.352 M153.075 426.648 Q158.885 426.648 161.941 431.255 Q165.019 435.838 165.019 444.588 Q165.019 453.315 161.941 457.921 Q158.885 462.505 153.075 462.505 Q147.265 462.505 144.186 457.921 Q141.131 453.315 141.131 444.588 Q141.131 435.838 144.186 431.255 Q147.265 426.648 153.075 426.648 Z\" fill=\"#f8f8f2\" fill-rule=\"nonzero\" fill-opacity=\"1\" /><path clip-path=\"url(#clip210)\" d=\"M56.6171 110.6 L72.9365 110.6 L72.9365 114.535 L50.9921 114.535 L50.9921 110.6 Q53.6541 107.845 58.2375 103.216 Q62.8439 98.5629 64.0245 97.2203 Q66.2698 94.6972 67.1494 92.9611 Q68.0522 91.2018 68.0522 89.512 Q68.0522 86.7574 66.1078 85.0213 Q64.1865 83.2852 61.0847 83.2852 Q58.8856 83.2852 56.4319 84.0491 Q54.0014 84.813 51.2236 86.3639 L51.2236 81.6417 Q54.0477 80.5074 56.5014 79.9287 Q58.955 79.35 60.9921 79.35 Q66.3624 79.35 69.5568 82.0352 Q72.7513 84.7204 72.7513 89.2111 Q72.7513 91.3407 71.9411 93.262 Q71.1541 95.1601 69.0476 97.7527 Q68.4689 98.424 65.367 101.642 Q62.2652 104.836 56.6171 110.6 Z\" fill=\"#f8f8f2\" fill-rule=\"nonzero\" fill-opacity=\"1\" /><path clip-path=\"url(#clip210)\" d=\"M92.7512 83.0537 Q89.1401 83.0537 87.3114 86.6185 Q85.5058 90.1602 85.5058 97.2898 Q85.5058 104.396 87.3114 107.961 Q89.1401 111.503 92.7512 111.503 Q96.3854 111.503 98.1909 107.961 Q100.02 104.396 100.02 97.2898 Q100.02 90.1602 98.1909 86.6185 Q96.3854 83.0537 92.7512 83.0537 M92.7512 79.35 Q98.5613 79.35 101.617 83.9565 Q104.696 88.5398 104.696 97.2898 Q104.696 106.017 101.617 110.623 Q98.5613 115.206 92.7512 115.206 Q86.941 115.206 83.8623 110.623 Q80.8068 106.017 80.8068 97.2898 Q80.8068 88.5398 83.8623 83.9565 Q86.941 79.35 92.7512 79.35 Z\" fill=\"#f8f8f2\" fill-rule=\"nonzero\" fill-opacity=\"1\" /><path clip-path=\"url(#clip210)\" d=\"M122.913 83.0537 Q119.302 83.0537 117.473 86.6185 Q115.668 90.1602 115.668 97.2898 Q115.668 104.396 117.473 107.961 Q119.302 111.503 122.913 111.503 Q126.547 111.503 128.353 107.961 Q130.182 104.396 130.182 97.2898 Q130.182 90.1602 128.353 86.6185 Q126.547 83.0537 122.913 83.0537 M122.913 79.35 Q128.723 79.35 131.779 83.9565 Q134.857 88.5398 134.857 97.2898 Q134.857 106.017 131.779 110.623 Q128.723 115.206 122.913 115.206 Q117.103 115.206 114.024 110.623 Q110.969 106.017 110.969 97.2898 Q110.969 88.5398 114.024 83.9565 Q117.103 79.35 122.913 79.35 Z\" fill=\"#f8f8f2\" fill-rule=\"nonzero\" fill-opacity=\"1\" /><path clip-path=\"url(#clip210)\" d=\"M153.075 83.0537 Q149.464 83.0537 147.635 86.6185 Q145.83 90.1602 145.83 97.2898 Q145.83 104.396 147.635 107.961 Q149.464 111.503 153.075 111.503 Q156.709 111.503 158.515 107.961 Q160.343 104.396 160.343 97.2898 Q160.343 90.1602 158.515 86.6185 Q156.709 83.0537 153.075 83.0537 M153.075 79.35 Q158.885 79.35 161.941 83.9565 Q165.019 88.5398 165.019 97.2898 Q165.019 106.017 161.941 110.623 Q158.885 115.206 153.075 115.206 Q147.265 115.206 144.186 110.623 Q141.131 106.017 141.131 97.2898 Q141.131 88.5398 144.186 83.9565 Q147.265 79.35 153.075 79.35 Z\" fill=\"#f8f8f2\" fill-rule=\"nonzero\" fill-opacity=\"1\" /><path clip-path=\"url(#clip212)\" d=\"M319.369 131.29 L319.369 1486.45 L357.669 1486.45 L357.669 131.29 L319.369 131.29 L319.369 131.29  Z\" fill=\"#8be9fd\" fill-rule=\"evenodd\" fill-opacity=\"1\"/>\n",
       "<polyline clip-path=\"url(#clip212)\" style=\"stroke:#f8f8f2; stroke-linecap:round; stroke-linejoin:round; stroke-width:4; stroke-opacity:1; fill:none\" points=\"319.369,131.29 319.369,1486.45 357.669,1486.45 357.669,131.29 319.369,131.29 \"/>\n",
       "<path clip-path=\"url(#clip212)\" d=\"M357.669 99.3388 L357.669 1486.45 L395.97 1486.45 L395.97 99.3388 L357.669 99.3388 L357.669 99.3388  Z\" fill=\"#8be9fd\" fill-rule=\"evenodd\" fill-opacity=\"1\"/>\n",
       "<polyline clip-path=\"url(#clip212)\" style=\"stroke:#f8f8f2; stroke-linecap:round; stroke-linejoin:round; stroke-width:4; stroke-opacity:1; fill:none\" points=\"357.669,99.3388 357.669,1486.45 395.97,1486.45 395.97,99.3388 357.669,99.3388 \"/>\n",
       "<path clip-path=\"url(#clip212)\" d=\"M395.97 139.625 L395.97 1486.45 L434.271 1486.45 L434.271 139.625 L395.97 139.625 L395.97 139.625  Z\" fill=\"#8be9fd\" fill-rule=\"evenodd\" fill-opacity=\"1\"/>\n",
       "<polyline clip-path=\"url(#clip212)\" style=\"stroke:#f8f8f2; stroke-linecap:round; stroke-linejoin:round; stroke-width:4; stroke-opacity:1; fill:none\" points=\"395.97,139.625 395.97,1486.45 434.271,1486.45 434.271,139.625 395.97,139.625 \"/>\n",
       "<path clip-path=\"url(#clip212)\" d=\"M434.271 111.842 L434.271 1486.45 L472.572 1486.45 L472.572 111.842 L434.271 111.842 L434.271 111.842  Z\" fill=\"#8be9fd\" fill-rule=\"evenodd\" fill-opacity=\"1\"/>\n",
       "<polyline clip-path=\"url(#clip212)\" style=\"stroke:#f8f8f2; stroke-linecap:round; stroke-linejoin:round; stroke-width:4; stroke-opacity:1; fill:none\" points=\"434.271,111.842 434.271,1486.45 472.572,1486.45 472.572,111.842 434.271,111.842 \"/>\n",
       "<path clip-path=\"url(#clip212)\" d=\"M472.572 47.9387 L472.572 1486.45 L510.872 1486.45 L510.872 47.9387 L472.572 47.9387 L472.572 47.9387  Z\" fill=\"#8be9fd\" fill-rule=\"evenodd\" fill-opacity=\"1\"/>\n",
       "<polyline clip-path=\"url(#clip212)\" style=\"stroke:#f8f8f2; stroke-linecap:round; stroke-linejoin:round; stroke-width:4; stroke-opacity:1; fill:none\" points=\"472.572,47.9387 472.572,1486.45 510.872,1486.45 510.872,47.9387 472.572,47.9387 \"/>\n",
       "<path clip-path=\"url(#clip212)\" d=\"M510.872 66.6928 L510.872 1486.45 L549.173 1486.45 L549.173 66.6928 L510.872 66.6928 L510.872 66.6928  Z\" fill=\"#8be9fd\" fill-rule=\"evenodd\" fill-opacity=\"1\"/>\n",
       "<polyline clip-path=\"url(#clip212)\" style=\"stroke:#f8f8f2; stroke-linecap:round; stroke-linejoin:round; stroke-width:4; stroke-opacity:1; fill:none\" points=\"510.872,66.6928 510.872,1486.45 549.173,1486.45 549.173,66.6928 510.872,66.6928 \"/>\n",
       "<path clip-path=\"url(#clip212)\" d=\"M549.173 81.2793 L549.173 1486.45 L587.474 1486.45 L587.474 81.2793 L549.173 81.2793 L549.173 81.2793  Z\" fill=\"#8be9fd\" fill-rule=\"evenodd\" fill-opacity=\"1\"/>\n",
       "<polyline clip-path=\"url(#clip212)\" style=\"stroke:#f8f8f2; stroke-linecap:round; stroke-linejoin:round; stroke-width:4; stroke-opacity:1; fill:none\" points=\"549.173,81.2793 549.173,1486.45 587.474,1486.45 587.474,81.2793 549.173,81.2793 \"/>\n",
       "<path clip-path=\"url(#clip212)\" d=\"M587.474 96.5604 L587.474 1486.45 L625.775 1486.45 L625.775 96.5604 L587.474 96.5604 L587.474 96.5604  Z\" fill=\"#8be9fd\" fill-rule=\"evenodd\" fill-opacity=\"1\"/>\n",
       "<polyline clip-path=\"url(#clip212)\" style=\"stroke:#f8f8f2; stroke-linecap:round; stroke-linejoin:round; stroke-width:4; stroke-opacity:1; fill:none\" points=\"587.474,96.5604 587.474,1486.45 625.775,1486.45 625.775,96.5604 587.474,96.5604 \"/>\n",
       "<path clip-path=\"url(#clip212)\" d=\"M625.775 78.5009 L625.775 1486.45 L664.075 1486.45 L664.075 78.5009 L625.775 78.5009 L625.775 78.5009  Z\" fill=\"#8be9fd\" fill-rule=\"evenodd\" fill-opacity=\"1\"/>\n",
       "<polyline clip-path=\"url(#clip212)\" style=\"stroke:#f8f8f2; stroke-linecap:round; stroke-linejoin:round; stroke-width:4; stroke-opacity:1; fill:none\" points=\"625.775,78.5009 625.775,1486.45 664.075,1486.45 664.075,78.5009 625.775,78.5009 \"/>\n",
       "<path clip-path=\"url(#clip212)\" d=\"M664.075 72.2496 L664.075 1486.45 L702.376 1486.45 L702.376 72.2496 L664.075 72.2496 L664.075 72.2496  Z\" fill=\"#8be9fd\" fill-rule=\"evenodd\" fill-opacity=\"1\"/>\n",
       "<polyline clip-path=\"url(#clip212)\" style=\"stroke:#f8f8f2; stroke-linecap:round; stroke-linejoin:round; stroke-width:4; stroke-opacity:1; fill:none\" points=\"664.075,72.2496 664.075,1486.45 702.376,1486.45 702.376,72.2496 664.075,72.2496 \"/>\n",
       "<path clip-path=\"url(#clip212)\" d=\"M702.376 102.117 L702.376 1486.45 L740.677 1486.45 L740.677 102.117 L702.376 102.117 L702.376 102.117  Z\" fill=\"#8be9fd\" fill-rule=\"evenodd\" fill-opacity=\"1\"/>\n",
       "<polyline clip-path=\"url(#clip212)\" style=\"stroke:#f8f8f2; stroke-linecap:round; stroke-linejoin:round; stroke-width:4; stroke-opacity:1; fill:none\" points=\"702.376,102.117 702.376,1486.45 740.677,1486.45 740.677,102.117 702.376,102.117 \"/>\n",
       "<path clip-path=\"url(#clip212)\" d=\"M740.677 171.577 L740.677 1486.45 L778.978 1486.45 L778.978 171.577 L740.677 171.577 L740.677 171.577  Z\" fill=\"#8be9fd\" fill-rule=\"evenodd\" fill-opacity=\"1\"/>\n",
       "<polyline clip-path=\"url(#clip212)\" style=\"stroke:#f8f8f2; stroke-linecap:round; stroke-linejoin:round; stroke-width:4; stroke-opacity:1; fill:none\" points=\"740.677,171.577 740.677,1486.45 778.978,1486.45 778.978,171.577 740.677,171.577 \"/>\n",
       "<path clip-path=\"url(#clip212)\" d=\"M778.978 66.6928 L778.978 1486.45 L817.278 1486.45 L817.278 66.6928 L778.978 66.6928 L778.978 66.6928  Z\" fill=\"#8be9fd\" fill-rule=\"evenodd\" fill-opacity=\"1\"/>\n",
       "<polyline clip-path=\"url(#clip212)\" style=\"stroke:#f8f8f2; stroke-linecap:round; stroke-linejoin:round; stroke-width:4; stroke-opacity:1; fill:none\" points=\"778.978,66.6928 778.978,1486.45 817.278,1486.45 817.278,66.6928 778.978,66.6928 \"/>\n",
       "<path clip-path=\"url(#clip212)\" d=\"M817.278 112.536 L817.278 1486.45 L855.579 1486.45 L855.579 112.536 L817.278 112.536 L817.278 112.536  Z\" fill=\"#8be9fd\" fill-rule=\"evenodd\" fill-opacity=\"1\"/>\n",
       "<polyline clip-path=\"url(#clip212)\" style=\"stroke:#f8f8f2; stroke-linecap:round; stroke-linejoin:round; stroke-width:4; stroke-opacity:1; fill:none\" points=\"817.278,112.536 817.278,1486.45 855.579,1486.45 855.579,112.536 817.278,112.536 \"/>\n",
       "<path clip-path=\"url(#clip212)\" d=\"M855.579 103.506 L855.579 1486.45 L893.88 1486.45 L893.88 103.506 L855.579 103.506 L855.579 103.506  Z\" fill=\"#8be9fd\" fill-rule=\"evenodd\" fill-opacity=\"1\"/>\n",
       "<polyline clip-path=\"url(#clip212)\" style=\"stroke:#f8f8f2; stroke-linecap:round; stroke-linejoin:round; stroke-width:4; stroke-opacity:1; fill:none\" points=\"855.579,103.506 855.579,1486.45 893.88,1486.45 893.88,103.506 855.579,103.506 \"/>\n",
       "<path clip-path=\"url(#clip212)\" d=\"M893.88 167.409 L893.88 1486.45 L932.181 1486.45 L932.181 167.409 L893.88 167.409 L893.88 167.409  Z\" fill=\"#8be9fd\" fill-rule=\"evenodd\" fill-opacity=\"1\"/>\n",
       "<polyline clip-path=\"url(#clip212)\" style=\"stroke:#f8f8f2; stroke-linecap:round; stroke-linejoin:round; stroke-width:4; stroke-opacity:1; fill:none\" points=\"893.88,167.409 893.88,1486.45 932.181,1486.45 932.181,167.409 893.88,167.409 \"/>\n",
       "<path clip-path=\"url(#clip212)\" d=\"M932.181 79.8901 L932.181 1486.45 L970.482 1486.45 L970.482 79.8901 L932.181 79.8901 L932.181 79.8901  Z\" fill=\"#8be9fd\" fill-rule=\"evenodd\" fill-opacity=\"1\"/>\n",
       "<polyline clip-path=\"url(#clip212)\" style=\"stroke:#f8f8f2; stroke-linecap:round; stroke-linejoin:round; stroke-width:4; stroke-opacity:1; fill:none\" points=\"932.181,79.8901 932.181,1486.45 970.482,1486.45 970.482,79.8901 932.181,79.8901 \"/>\n",
       "<path clip-path=\"url(#clip212)\" d=\"M970.482 96.5604 L970.482 1486.45 L1008.78 1486.45 L1008.78 96.5604 L970.482 96.5604 L970.482 96.5604  Z\" fill=\"#8be9fd\" fill-rule=\"evenodd\" fill-opacity=\"1\"/>\n",
       "<polyline clip-path=\"url(#clip212)\" style=\"stroke:#f8f8f2; stroke-linecap:round; stroke-linejoin:round; stroke-width:4; stroke-opacity:1; fill:none\" points=\"970.482,96.5604 970.482,1486.45 1008.78,1486.45 1008.78,96.5604 970.482,96.5604 \"/>\n",
       "<path clip-path=\"url(#clip212)\" d=\"M1008.78 75.028 L1008.78 1486.45 L1047.08 1486.45 L1047.08 75.028 L1008.78 75.028 L1008.78 75.028  Z\" fill=\"#8be9fd\" fill-rule=\"evenodd\" fill-opacity=\"1\"/>\n",
       "<polyline clip-path=\"url(#clip212)\" style=\"stroke:#f8f8f2; stroke-linecap:round; stroke-linejoin:round; stroke-width:4; stroke-opacity:1; fill:none\" points=\"1008.78,75.028 1008.78,1486.45 1047.08,1486.45 1047.08,75.028 1008.78,75.028 \"/>\n",
       "<path clip-path=\"url(#clip212)\" d=\"M1047.08 65.9982 L1047.08 1486.45 L1085.38 1486.45 L1085.38 65.9982 L1047.08 65.9982 L1047.08 65.9982  Z\" fill=\"#8be9fd\" fill-rule=\"evenodd\" fill-opacity=\"1\"/>\n",
       "<polyline clip-path=\"url(#clip212)\" style=\"stroke:#f8f8f2; stroke-linecap:round; stroke-linejoin:round; stroke-width:4; stroke-opacity:1; fill:none\" points=\"1047.08,65.9982 1047.08,1486.45 1085.38,1486.45 1085.38,65.9982 1047.08,65.9982 \"/>\n",
       "<path clip-path=\"url(#clip212)\" d=\"M1085.38 118.093 L1085.38 1486.45 L1123.68 1486.45 L1123.68 118.093 L1085.38 118.093 L1085.38 118.093  Z\" fill=\"#8be9fd\" fill-rule=\"evenodd\" fill-opacity=\"1\"/>\n",
       "<polyline clip-path=\"url(#clip212)\" style=\"stroke:#f8f8f2; stroke-linecap:round; stroke-linejoin:round; stroke-width:4; stroke-opacity:1; fill:none\" points=\"1085.38,118.093 1085.38,1486.45 1123.68,1486.45 1123.68,118.093 1085.38,118.093 \"/>\n",
       "<path clip-path=\"url(#clip212)\" d=\"M1123.68 59.7468 L1123.68 1486.45 L1161.99 1486.45 L1161.99 59.7468 L1123.68 59.7468 L1123.68 59.7468  Z\" fill=\"#8be9fd\" fill-rule=\"evenodd\" fill-opacity=\"1\"/>\n",
       "<polyline clip-path=\"url(#clip212)\" style=\"stroke:#f8f8f2; stroke-linecap:round; stroke-linejoin:round; stroke-width:4; stroke-opacity:1; fill:none\" points=\"1123.68,59.7468 1123.68,1486.45 1161.99,1486.45 1161.99,59.7468 1123.68,59.7468 \"/>\n",
       "<path clip-path=\"url(#clip212)\" d=\"M1161.99 155.601 L1161.99 1486.45 L1200.29 1486.45 L1200.29 155.601 L1161.99 155.601 L1161.99 155.601  Z\" fill=\"#8be9fd\" fill-rule=\"evenodd\" fill-opacity=\"1\"/>\n",
       "<polyline clip-path=\"url(#clip212)\" style=\"stroke:#f8f8f2; stroke-linecap:round; stroke-linejoin:round; stroke-width:4; stroke-opacity:1; fill:none\" points=\"1161.99,155.601 1161.99,1486.45 1200.29,1486.45 1200.29,155.601 1161.99,155.601 \"/>\n",
       "<path clip-path=\"url(#clip212)\" d=\"M1200.29 114.62 L1200.29 1486.45 L1238.59 1486.45 L1238.59 114.62 L1200.29 114.62 L1200.29 114.62  Z\" fill=\"#8be9fd\" fill-rule=\"evenodd\" fill-opacity=\"1\"/>\n",
       "<polyline clip-path=\"url(#clip212)\" style=\"stroke:#f8f8f2; stroke-linecap:round; stroke-linejoin:round; stroke-width:4; stroke-opacity:1; fill:none\" points=\"1200.29,114.62 1200.29,1486.45 1238.59,1486.45 1238.59,114.62 1200.29,114.62 \"/>\n",
       "<path clip-path=\"url(#clip212)\" d=\"M1238.59 93.0875 L1238.59 1486.45 L1276.89 1486.45 L1276.89 93.0875 L1238.59 93.0875 L1238.59 93.0875  Z\" fill=\"#8be9fd\" fill-rule=\"evenodd\" fill-opacity=\"1\"/>\n",
       "<polyline clip-path=\"url(#clip212)\" style=\"stroke:#f8f8f2; stroke-linecap:round; stroke-linejoin:round; stroke-width:4; stroke-opacity:1; fill:none\" points=\"1238.59,93.0875 1238.59,1486.45 1276.89,1486.45 1276.89,93.0875 1238.59,93.0875 \"/>\n",
       "<path clip-path=\"url(#clip212)\" d=\"M1276.89 47.2441 L1276.89 1486.45 L1315.19 1486.45 L1315.19 47.2441 L1276.89 47.2441 L1276.89 47.2441  Z\" fill=\"#8be9fd\" fill-rule=\"evenodd\" fill-opacity=\"1\"/>\n",
       "<polyline clip-path=\"url(#clip212)\" style=\"stroke:#f8f8f2; stroke-linecap:round; stroke-linejoin:round; stroke-width:4; stroke-opacity:1; fill:none\" points=\"1276.89,47.2441 1276.89,1486.45 1315.19,1486.45 1315.19,47.2441 1276.89,47.2441 \"/>\n",
       "<path clip-path=\"url(#clip212)\" d=\"M1315.19 85.4469 L1315.19 1486.45 L1353.49 1486.45 L1353.49 85.4469 L1315.19 85.4469 L1315.19 85.4469  Z\" fill=\"#8be9fd\" fill-rule=\"evenodd\" fill-opacity=\"1\"/>\n",
       "<polyline clip-path=\"url(#clip212)\" style=\"stroke:#f8f8f2; stroke-linecap:round; stroke-linejoin:round; stroke-width:4; stroke-opacity:1; fill:none\" points=\"1315.19,85.4469 1315.19,1486.45 1353.49,1486.45 1353.49,85.4469 1315.19,85.4469 \"/>\n",
       "<path clip-path=\"url(#clip212)\" d=\"M1353.49 64.609 L1353.49 1486.45 L1391.79 1486.45 L1391.79 64.609 L1353.49 64.609 L1353.49 64.609  Z\" fill=\"#8be9fd\" fill-rule=\"evenodd\" fill-opacity=\"1\"/>\n",
       "<polyline clip-path=\"url(#clip212)\" style=\"stroke:#f8f8f2; stroke-linecap:round; stroke-linejoin:round; stroke-width:4; stroke-opacity:1; fill:none\" points=\"1353.49,64.609 1353.49,1486.45 1391.79,1486.45 1391.79,64.609 1353.49,64.609 \"/>\n",
       "<path clip-path=\"url(#clip212)\" d=\"M1391.79 65.9982 L1391.79 1486.45 L1430.09 1486.45 L1430.09 65.9982 L1391.79 65.9982 L1391.79 65.9982  Z\" fill=\"#8be9fd\" fill-rule=\"evenodd\" fill-opacity=\"1\"/>\n",
       "<polyline clip-path=\"url(#clip212)\" style=\"stroke:#f8f8f2; stroke-linecap:round; stroke-linejoin:round; stroke-width:4; stroke-opacity:1; fill:none\" points=\"1391.79,65.9982 1391.79,1486.45 1430.09,1486.45 1430.09,65.9982 1391.79,65.9982 \"/>\n",
       "<path clip-path=\"url(#clip212)\" d=\"M1430.09 77.8063 L1430.09 1486.45 L1468.39 1486.45 L1468.39 77.8063 L1430.09 77.8063 L1430.09 77.8063  Z\" fill=\"#8be9fd\" fill-rule=\"evenodd\" fill-opacity=\"1\"/>\n",
       "<polyline clip-path=\"url(#clip212)\" style=\"stroke:#f8f8f2; stroke-linecap:round; stroke-linejoin:round; stroke-width:4; stroke-opacity:1; fill:none\" points=\"1430.09,77.8063 1430.09,1486.45 1468.39,1486.45 1468.39,77.8063 1430.09,77.8063 \"/>\n",
       "<path clip-path=\"url(#clip212)\" d=\"M1468.39 75.028 L1468.39 1486.45 L1506.69 1486.45 L1506.69 75.028 L1468.39 75.028 L1468.39 75.028  Z\" fill=\"#8be9fd\" fill-rule=\"evenodd\" fill-opacity=\"1\"/>\n",
       "<polyline clip-path=\"url(#clip212)\" style=\"stroke:#f8f8f2; stroke-linecap:round; stroke-linejoin:round; stroke-width:4; stroke-opacity:1; fill:none\" points=\"1468.39,75.028 1468.39,1486.45 1506.69,1486.45 1506.69,75.028 1468.39,75.028 \"/>\n",
       "<path clip-path=\"url(#clip212)\" d=\"M1506.69 111.842 L1506.69 1486.45 L1544.99 1486.45 L1544.99 111.842 L1506.69 111.842 L1506.69 111.842  Z\" fill=\"#8be9fd\" fill-rule=\"evenodd\" fill-opacity=\"1\"/>\n",
       "<polyline clip-path=\"url(#clip212)\" style=\"stroke:#f8f8f2; stroke-linecap:round; stroke-linejoin:round; stroke-width:4; stroke-opacity:1; fill:none\" points=\"1506.69,111.842 1506.69,1486.45 1544.99,1486.45 1544.99,111.842 1506.69,111.842 \"/>\n",
       "<path clip-path=\"url(#clip212)\" d=\"M1544.99 168.798 L1544.99 1486.45 L1583.29 1486.45 L1583.29 168.798 L1544.99 168.798 L1544.99 168.798  Z\" fill=\"#8be9fd\" fill-rule=\"evenodd\" fill-opacity=\"1\"/>\n",
       "<polyline clip-path=\"url(#clip212)\" style=\"stroke:#f8f8f2; stroke-linecap:round; stroke-linejoin:round; stroke-width:4; stroke-opacity:1; fill:none\" points=\"1544.99,168.798 1544.99,1486.45 1583.29,1486.45 1583.29,168.798 1544.99,168.798 \"/>\n",
       "<path clip-path=\"url(#clip212)\" d=\"M1583.29 47.2441 L1583.29 1486.45 L1621.59 1486.45 L1621.59 47.2441 L1583.29 47.2441 L1583.29 47.2441  Z\" fill=\"#8be9fd\" fill-rule=\"evenodd\" fill-opacity=\"1\"/>\n",
       "<polyline clip-path=\"url(#clip212)\" style=\"stroke:#f8f8f2; stroke-linecap:round; stroke-linejoin:round; stroke-width:4; stroke-opacity:1; fill:none\" points=\"1583.29,47.2441 1583.29,1486.45 1621.59,1486.45 1621.59,47.2441 1583.29,47.2441 \"/>\n",
       "<path clip-path=\"url(#clip212)\" d=\"M1621.59 102.812 L1621.59 1486.45 L1659.9 1486.45 L1659.9 102.812 L1621.59 102.812 L1621.59 102.812  Z\" fill=\"#8be9fd\" fill-rule=\"evenodd\" fill-opacity=\"1\"/>\n",
       "<polyline clip-path=\"url(#clip212)\" style=\"stroke:#f8f8f2; stroke-linecap:round; stroke-linejoin:round; stroke-width:4; stroke-opacity:1; fill:none\" points=\"1621.59,102.812 1621.59,1486.45 1659.9,1486.45 1659.9,102.812 1621.59,102.812 \"/>\n",
       "<path clip-path=\"url(#clip212)\" d=\"M1659.9 136.152 L1659.9 1486.45 L1698.2 1486.45 L1698.2 136.152 L1659.9 136.152 L1659.9 136.152  Z\" fill=\"#8be9fd\" fill-rule=\"evenodd\" fill-opacity=\"1\"/>\n",
       "<polyline clip-path=\"url(#clip212)\" style=\"stroke:#f8f8f2; stroke-linecap:round; stroke-linejoin:round; stroke-width:4; stroke-opacity:1; fill:none\" points=\"1659.9,136.152 1659.9,1486.45 1698.2,1486.45 1698.2,136.152 1659.9,136.152 \"/>\n",
       "<path clip-path=\"url(#clip212)\" d=\"M1698.2 124.344 L1698.2 1486.45 L1736.5 1486.45 L1736.5 124.344 L1698.2 124.344 L1698.2 124.344  Z\" fill=\"#8be9fd\" fill-rule=\"evenodd\" fill-opacity=\"1\"/>\n",
       "<polyline clip-path=\"url(#clip212)\" style=\"stroke:#f8f8f2; stroke-linecap:round; stroke-linejoin:round; stroke-width:4; stroke-opacity:1; fill:none\" points=\"1698.2,124.344 1698.2,1486.45 1736.5,1486.45 1736.5,124.344 1698.2,124.344 \"/>\n",
       "<path clip-path=\"url(#clip212)\" d=\"M1736.5 84.7523 L1736.5 1486.45 L1774.8 1486.45 L1774.8 84.7523 L1736.5 84.7523 L1736.5 84.7523  Z\" fill=\"#8be9fd\" fill-rule=\"evenodd\" fill-opacity=\"1\"/>\n",
       "<polyline clip-path=\"url(#clip212)\" style=\"stroke:#f8f8f2; stroke-linecap:round; stroke-linejoin:round; stroke-width:4; stroke-opacity:1; fill:none\" points=\"1736.5,84.7523 1736.5,1486.45 1774.8,1486.45 1774.8,84.7523 1736.5,84.7523 \"/>\n",
       "<path clip-path=\"url(#clip212)\" d=\"M1774.8 137.542 L1774.8 1486.45 L1813.1 1486.45 L1813.1 137.542 L1774.8 137.542 L1774.8 137.542  Z\" fill=\"#8be9fd\" fill-rule=\"evenodd\" fill-opacity=\"1\"/>\n",
       "<polyline clip-path=\"url(#clip212)\" style=\"stroke:#f8f8f2; stroke-linecap:round; stroke-linejoin:round; stroke-width:4; stroke-opacity:1; fill:none\" points=\"1774.8,137.542 1774.8,1486.45 1813.1,1486.45 1813.1,137.542 1774.8,137.542 \"/>\n",
       "<path clip-path=\"url(#clip212)\" d=\"M1813.1 99.3388 L1813.1 1486.45 L1851.4 1486.45 L1851.4 99.3388 L1813.1 99.3388 L1813.1 99.3388  Z\" fill=\"#8be9fd\" fill-rule=\"evenodd\" fill-opacity=\"1\"/>\n",
       "<polyline clip-path=\"url(#clip212)\" style=\"stroke:#f8f8f2; stroke-linecap:round; stroke-linejoin:round; stroke-width:4; stroke-opacity:1; fill:none\" points=\"1813.1,99.3388 1813.1,1486.45 1851.4,1486.45 1851.4,99.3388 1813.1,99.3388 \"/>\n",
       "<path clip-path=\"url(#clip212)\" d=\"M1851.4 120.177 L1851.4 1486.45 L1889.7 1486.45 L1889.7 120.177 L1851.4 120.177 L1851.4 120.177  Z\" fill=\"#8be9fd\" fill-rule=\"evenodd\" fill-opacity=\"1\"/>\n",
       "<polyline clip-path=\"url(#clip212)\" style=\"stroke:#f8f8f2; stroke-linecap:round; stroke-linejoin:round; stroke-width:4; stroke-opacity:1; fill:none\" points=\"1851.4,120.177 1851.4,1486.45 1889.7,1486.45 1889.7,120.177 1851.4,120.177 \"/>\n",
       "<path clip-path=\"url(#clip212)\" d=\"M1889.7 47.2441 L1889.7 1486.45 L1928 1486.45 L1928 47.2441 L1889.7 47.2441 L1889.7 47.2441  Z\" fill=\"#8be9fd\" fill-rule=\"evenodd\" fill-opacity=\"1\"/>\n",
       "<polyline clip-path=\"url(#clip212)\" style=\"stroke:#f8f8f2; stroke-linecap:round; stroke-linejoin:round; stroke-width:4; stroke-opacity:1; fill:none\" points=\"1889.7,47.2441 1889.7,1486.45 1928,1486.45 1928,47.2441 1889.7,47.2441 \"/>\n",
       "<path clip-path=\"url(#clip212)\" d=\"M1928 109.758 L1928 1486.45 L1966.3 1486.45 L1966.3 109.758 L1928 109.758 L1928 109.758  Z\" fill=\"#8be9fd\" fill-rule=\"evenodd\" fill-opacity=\"1\"/>\n",
       "<polyline clip-path=\"url(#clip212)\" style=\"stroke:#f8f8f2; stroke-linecap:round; stroke-linejoin:round; stroke-width:4; stroke-opacity:1; fill:none\" points=\"1928,109.758 1928,1486.45 1966.3,1486.45 1966.3,109.758 1928,109.758 \"/>\n",
       "<path clip-path=\"url(#clip212)\" d=\"M1966.3 75.7225 L1966.3 1486.45 L2004.6 1486.45 L2004.6 75.7225 L1966.3 75.7225 L1966.3 75.7225  Z\" fill=\"#8be9fd\" fill-rule=\"evenodd\" fill-opacity=\"1\"/>\n",
       "<polyline clip-path=\"url(#clip212)\" style=\"stroke:#f8f8f2; stroke-linecap:round; stroke-linejoin:round; stroke-width:4; stroke-opacity:1; fill:none\" points=\"1966.3,75.7225 1966.3,1486.45 2004.6,1486.45 2004.6,75.7225 1966.3,75.7225 \"/>\n",
       "<path clip-path=\"url(#clip212)\" d=\"M2004.6 69.4712 L2004.6 1486.45 L2042.9 1486.45 L2042.9 69.4712 L2004.6 69.4712 L2004.6 69.4712  Z\" fill=\"#8be9fd\" fill-rule=\"evenodd\" fill-opacity=\"1\"/>\n",
       "<polyline clip-path=\"url(#clip212)\" style=\"stroke:#f8f8f2; stroke-linecap:round; stroke-linejoin:round; stroke-width:4; stroke-opacity:1; fill:none\" points=\"2004.6,69.4712 2004.6,1486.45 2042.9,1486.45 2042.9,69.4712 2004.6,69.4712 \"/>\n",
       "<path clip-path=\"url(#clip212)\" d=\"M2042.9 108.369 L2042.9 1486.45 L2081.2 1486.45 L2081.2 108.369 L2042.9 108.369 L2042.9 108.369  Z\" fill=\"#8be9fd\" fill-rule=\"evenodd\" fill-opacity=\"1\"/>\n",
       "<polyline clip-path=\"url(#clip212)\" style=\"stroke:#f8f8f2; stroke-linecap:round; stroke-linejoin:round; stroke-width:4; stroke-opacity:1; fill:none\" points=\"2042.9,108.369 2042.9,1486.45 2081.2,1486.45 2081.2,108.369 2042.9,108.369 \"/>\n",
       "<path clip-path=\"url(#clip212)\" d=\"M2081.2 124.344 L2081.2 1486.45 L2119.5 1486.45 L2119.5 124.344 L2081.2 124.344 L2081.2 124.344  Z\" fill=\"#8be9fd\" fill-rule=\"evenodd\" fill-opacity=\"1\"/>\n",
       "<polyline clip-path=\"url(#clip212)\" style=\"stroke:#f8f8f2; stroke-linecap:round; stroke-linejoin:round; stroke-width:4; stroke-opacity:1; fill:none\" points=\"2081.2,124.344 2081.2,1486.45 2119.5,1486.45 2119.5,124.344 2081.2,124.344 \"/>\n",
       "<path clip-path=\"url(#clip212)\" d=\"M2119.5 74.3334 L2119.5 1486.45 L2157.81 1486.45 L2157.81 74.3334 L2119.5 74.3334 L2119.5 74.3334  Z\" fill=\"#8be9fd\" fill-rule=\"evenodd\" fill-opacity=\"1\"/>\n",
       "<polyline clip-path=\"url(#clip212)\" style=\"stroke:#f8f8f2; stroke-linecap:round; stroke-linejoin:round; stroke-width:4; stroke-opacity:1; fill:none\" points=\"2119.5,74.3334 2119.5,1486.45 2157.81,1486.45 2157.81,74.3334 2119.5,74.3334 \"/>\n",
       "<path clip-path=\"url(#clip212)\" d=\"M2157.81 117.398 L2157.81 1486.45 L2196.11 1486.45 L2196.11 117.398 L2157.81 117.398 L2157.81 117.398  Z\" fill=\"#8be9fd\" fill-rule=\"evenodd\" fill-opacity=\"1\"/>\n",
       "<polyline clip-path=\"url(#clip212)\" style=\"stroke:#f8f8f2; stroke-linecap:round; stroke-linejoin:round; stroke-width:4; stroke-opacity:1; fill:none\" points=\"2157.81,117.398 2157.81,1486.45 2196.11,1486.45 2196.11,117.398 2157.81,117.398 \"/>\n",
       "<path clip-path=\"url(#clip212)\" d=\"M2196.11 79.1955 L2196.11 1486.45 L2234.41 1486.45 L2234.41 79.1955 L2196.11 79.1955 L2196.11 79.1955  Z\" fill=\"#8be9fd\" fill-rule=\"evenodd\" fill-opacity=\"1\"/>\n",
       "<polyline clip-path=\"url(#clip212)\" style=\"stroke:#f8f8f2; stroke-linecap:round; stroke-linejoin:round; stroke-width:4; stroke-opacity:1; fill:none\" points=\"2196.11,79.1955 2196.11,1486.45 2234.41,1486.45 2234.41,79.1955 2196.11,79.1955 \"/>\n",
       "<circle clip-path=\"url(#clip212)\" style=\"fill:#8be9fd; stroke:none; fill-opacity:0\" cx=\"338.519\" cy=\"131.29\" r=\"2\"/>\n",
       "<circle clip-path=\"url(#clip212)\" style=\"fill:#8be9fd; stroke:none; fill-opacity:0\" cx=\"376.82\" cy=\"99.3388\" r=\"2\"/>\n",
       "<circle clip-path=\"url(#clip212)\" style=\"fill:#8be9fd; stroke:none; fill-opacity:0\" cx=\"415.121\" cy=\"139.625\" r=\"2\"/>\n",
       "<circle clip-path=\"url(#clip212)\" style=\"fill:#8be9fd; stroke:none; fill-opacity:0\" cx=\"453.421\" cy=\"111.842\" r=\"2\"/>\n",
       "<circle clip-path=\"url(#clip212)\" style=\"fill:#8be9fd; stroke:none; fill-opacity:0\" cx=\"491.722\" cy=\"47.9387\" r=\"2\"/>\n",
       "<circle clip-path=\"url(#clip212)\" style=\"fill:#8be9fd; stroke:none; fill-opacity:0\" cx=\"530.023\" cy=\"66.6928\" r=\"2\"/>\n",
       "<circle clip-path=\"url(#clip212)\" style=\"fill:#8be9fd; stroke:none; fill-opacity:0\" cx=\"568.324\" cy=\"81.2793\" r=\"2\"/>\n",
       "<circle clip-path=\"url(#clip212)\" style=\"fill:#8be9fd; stroke:none; fill-opacity:0\" cx=\"606.624\" cy=\"96.5604\" r=\"2\"/>\n",
       "<circle clip-path=\"url(#clip212)\" style=\"fill:#8be9fd; stroke:none; fill-opacity:0\" cx=\"644.925\" cy=\"78.5009\" r=\"2\"/>\n",
       "<circle clip-path=\"url(#clip212)\" style=\"fill:#8be9fd; stroke:none; fill-opacity:0\" cx=\"683.226\" cy=\"72.2496\" r=\"2\"/>\n",
       "<circle clip-path=\"url(#clip212)\" style=\"fill:#8be9fd; stroke:none; fill-opacity:0\" cx=\"721.527\" cy=\"102.117\" r=\"2\"/>\n",
       "<circle clip-path=\"url(#clip212)\" style=\"fill:#8be9fd; stroke:none; fill-opacity:0\" cx=\"759.827\" cy=\"171.577\" r=\"2\"/>\n",
       "<circle clip-path=\"url(#clip212)\" style=\"fill:#8be9fd; stroke:none; fill-opacity:0\" cx=\"798.128\" cy=\"66.6928\" r=\"2\"/>\n",
       "<circle clip-path=\"url(#clip212)\" style=\"fill:#8be9fd; stroke:none; fill-opacity:0\" cx=\"836.429\" cy=\"112.536\" r=\"2\"/>\n",
       "<circle clip-path=\"url(#clip212)\" style=\"fill:#8be9fd; stroke:none; fill-opacity:0\" cx=\"874.73\" cy=\"103.506\" r=\"2\"/>\n",
       "<circle clip-path=\"url(#clip212)\" style=\"fill:#8be9fd; stroke:none; fill-opacity:0\" cx=\"913.03\" cy=\"167.409\" r=\"2\"/>\n",
       "<circle clip-path=\"url(#clip212)\" style=\"fill:#8be9fd; stroke:none; fill-opacity:0\" cx=\"951.331\" cy=\"79.8901\" r=\"2\"/>\n",
       "<circle clip-path=\"url(#clip212)\" style=\"fill:#8be9fd; stroke:none; fill-opacity:0\" cx=\"989.632\" cy=\"96.5604\" r=\"2\"/>\n",
       "<circle clip-path=\"url(#clip212)\" style=\"fill:#8be9fd; stroke:none; fill-opacity:0\" cx=\"1027.93\" cy=\"75.028\" r=\"2\"/>\n",
       "<circle clip-path=\"url(#clip212)\" style=\"fill:#8be9fd; stroke:none; fill-opacity:0\" cx=\"1066.23\" cy=\"65.9982\" r=\"2\"/>\n",
       "<circle clip-path=\"url(#clip212)\" style=\"fill:#8be9fd; stroke:none; fill-opacity:0\" cx=\"1104.53\" cy=\"118.093\" r=\"2\"/>\n",
       "<circle clip-path=\"url(#clip212)\" style=\"fill:#8be9fd; stroke:none; fill-opacity:0\" cx=\"1142.83\" cy=\"59.7468\" r=\"2\"/>\n",
       "<circle clip-path=\"url(#clip212)\" style=\"fill:#8be9fd; stroke:none; fill-opacity:0\" cx=\"1181.14\" cy=\"155.601\" r=\"2\"/>\n",
       "<circle clip-path=\"url(#clip212)\" style=\"fill:#8be9fd; stroke:none; fill-opacity:0\" cx=\"1219.44\" cy=\"114.62\" r=\"2\"/>\n",
       "<circle clip-path=\"url(#clip212)\" style=\"fill:#8be9fd; stroke:none; fill-opacity:0\" cx=\"1257.74\" cy=\"93.0875\" r=\"2\"/>\n",
       "<circle clip-path=\"url(#clip212)\" style=\"fill:#8be9fd; stroke:none; fill-opacity:0\" cx=\"1296.04\" cy=\"47.2441\" r=\"2\"/>\n",
       "<circle clip-path=\"url(#clip212)\" style=\"fill:#8be9fd; stroke:none; fill-opacity:0\" cx=\"1334.34\" cy=\"85.4469\" r=\"2\"/>\n",
       "<circle clip-path=\"url(#clip212)\" style=\"fill:#8be9fd; stroke:none; fill-opacity:0\" cx=\"1372.64\" cy=\"64.609\" r=\"2\"/>\n",
       "<circle clip-path=\"url(#clip212)\" style=\"fill:#8be9fd; stroke:none; fill-opacity:0\" cx=\"1410.94\" cy=\"65.9982\" r=\"2\"/>\n",
       "<circle clip-path=\"url(#clip212)\" style=\"fill:#8be9fd; stroke:none; fill-opacity:0\" cx=\"1449.24\" cy=\"77.8063\" r=\"2\"/>\n",
       "<circle clip-path=\"url(#clip212)\" style=\"fill:#8be9fd; stroke:none; fill-opacity:0\" cx=\"1487.54\" cy=\"75.028\" r=\"2\"/>\n",
       "<circle clip-path=\"url(#clip212)\" style=\"fill:#8be9fd; stroke:none; fill-opacity:0\" cx=\"1525.84\" cy=\"111.842\" r=\"2\"/>\n",
       "<circle clip-path=\"url(#clip212)\" style=\"fill:#8be9fd; stroke:none; fill-opacity:0\" cx=\"1564.14\" cy=\"168.798\" r=\"2\"/>\n",
       "<circle clip-path=\"url(#clip212)\" style=\"fill:#8be9fd; stroke:none; fill-opacity:0\" cx=\"1602.44\" cy=\"47.2441\" r=\"2\"/>\n",
       "<circle clip-path=\"url(#clip212)\" style=\"fill:#8be9fd; stroke:none; fill-opacity:0\" cx=\"1640.74\" cy=\"102.812\" r=\"2\"/>\n",
       "<circle clip-path=\"url(#clip212)\" style=\"fill:#8be9fd; stroke:none; fill-opacity:0\" cx=\"1679.05\" cy=\"136.152\" r=\"2\"/>\n",
       "<circle clip-path=\"url(#clip212)\" style=\"fill:#8be9fd; stroke:none; fill-opacity:0\" cx=\"1717.35\" cy=\"124.344\" r=\"2\"/>\n",
       "<circle clip-path=\"url(#clip212)\" style=\"fill:#8be9fd; stroke:none; fill-opacity:0\" cx=\"1755.65\" cy=\"84.7523\" r=\"2\"/>\n",
       "<circle clip-path=\"url(#clip212)\" style=\"fill:#8be9fd; stroke:none; fill-opacity:0\" cx=\"1793.95\" cy=\"137.542\" r=\"2\"/>\n",
       "<circle clip-path=\"url(#clip212)\" style=\"fill:#8be9fd; stroke:none; fill-opacity:0\" cx=\"1832.25\" cy=\"99.3388\" r=\"2\"/>\n",
       "<circle clip-path=\"url(#clip212)\" style=\"fill:#8be9fd; stroke:none; fill-opacity:0\" cx=\"1870.55\" cy=\"120.177\" r=\"2\"/>\n",
       "<circle clip-path=\"url(#clip212)\" style=\"fill:#8be9fd; stroke:none; fill-opacity:0\" cx=\"1908.85\" cy=\"47.2441\" r=\"2\"/>\n",
       "<circle clip-path=\"url(#clip212)\" style=\"fill:#8be9fd; stroke:none; fill-opacity:0\" cx=\"1947.15\" cy=\"109.758\" r=\"2\"/>\n",
       "<circle clip-path=\"url(#clip212)\" style=\"fill:#8be9fd; stroke:none; fill-opacity:0\" cx=\"1985.45\" cy=\"75.7225\" r=\"2\"/>\n",
       "<circle clip-path=\"url(#clip212)\" style=\"fill:#8be9fd; stroke:none; fill-opacity:0\" cx=\"2023.75\" cy=\"69.4712\" r=\"2\"/>\n",
       "<circle clip-path=\"url(#clip212)\" style=\"fill:#8be9fd; stroke:none; fill-opacity:0\" cx=\"2062.05\" cy=\"108.369\" r=\"2\"/>\n",
       "<circle clip-path=\"url(#clip212)\" style=\"fill:#8be9fd; stroke:none; fill-opacity:0\" cx=\"2100.35\" cy=\"124.344\" r=\"2\"/>\n",
       "<circle clip-path=\"url(#clip212)\" style=\"fill:#8be9fd; stroke:none; fill-opacity:0\" cx=\"2138.65\" cy=\"74.3334\" r=\"2\"/>\n",
       "<circle clip-path=\"url(#clip212)\" style=\"fill:#8be9fd; stroke:none; fill-opacity:0\" cx=\"2176.96\" cy=\"117.398\" r=\"2\"/>\n",
       "<circle clip-path=\"url(#clip212)\" style=\"fill:#8be9fd; stroke:none; fill-opacity:0\" cx=\"2215.26\" cy=\"79.1955\" r=\"2\"/>\n",
       "</svg>\n"
      ]
     },
     "execution_count": 88,
     "metadata": {},
     "output_type": "execute_result"
    }
   ],
   "source": [
    "x = rand(10^5)\n",
    "histogram(x, bins=64, legend=false)"
   ]
  },
  {
   "cell_type": "code",
   "execution_count": 89,
   "metadata": {},
   "outputs": [
    {
     "data": {
      "text/latex": [
       "\\textbf{Normal Distribution}\n",
       "\n"
      ],
      "text/markdown": [
       "**Normal Distribution**\n"
      ],
      "text/plain": [
       "  \u001b[1mNormal Distribution\u001b[22m"
      ]
     },
     "execution_count": 89,
     "metadata": {},
     "output_type": "execute_result"
    }
   ],
   "source": [
    "md\"**Normal Distribution**\""
   ]
  },
  {
   "cell_type": "code",
   "execution_count": 90,
   "metadata": {},
   "outputs": [],
   "source": [
    "?randn;"
   ]
  },
  {
   "cell_type": "code",
   "execution_count": 91,
   "metadata": {},
   "outputs": [
    {
     "data": {
      "image/png": "[encoded data removed]",
      "image/svg+xml": [
       "<?xml version=\"1.0\" encoding=\"utf-8\"?>\n",
       "<svg xmlns=\"http://www.w3.org/2000/svg\" xmlns:xlink=\"http://www.w3.org/1999/xlink\" width=\"600\" height=\"400\" viewBox=\"0 0 2400 1600\">\n",
       "<defs>\n",
       "  <clipPath id=\"clip250\">\n",
       "    <rect x=\"0\" y=\"0\" width=\"2400\" height=\"1600\"/>\n",
       "  </clipPath>\n",
       "</defs>\n",
       "<path clip-path=\"url(#clip250)\" d=\"M0 1600 L2400 1600 L2400 0 L0 0  Z\" fill=\"#282a36\" fill-rule=\"evenodd\" fill-opacity=\"1\"/>\n",
       "<defs>\n",
       "  <clipPath id=\"clip251\">\n",
       "    <rect x=\"480\" y=\"0\" width=\"1681\" height=\"1600\"/>\n",
       "  </clipPath>\n",
       "</defs>\n",
       "<path clip-path=\"url(#clip250)\" d=\"M202.177 1486.45 L2352.76 1486.45 L2352.76 47.2441 L202.177 47.2441  Z\" fill=\"#30343b\" fill-rule=\"evenodd\" fill-opacity=\"1\"/>\n",
       "<defs>\n",
       "  <clipPath id=\"clip252\">\n",
       "    <rect x=\"202\" y=\"47\" width=\"2152\" height=\"1440\"/>\n",
       "  </clipPath>\n",
       "</defs>\n",
       "<polyline clip-path=\"url(#clip252)\" style=\"stroke:#f8f8f2; stroke-linecap:round; stroke-linejoin:round; stroke-width:2; stroke-opacity:0.1; fill:none\" points=\"528.507,1486.45 528.507,47.2441 \"/>\n",
       "<polyline clip-path=\"url(#clip252)\" style=\"stroke:#f8f8f2; stroke-linecap:round; stroke-linejoin:round; stroke-width:2; stroke-opacity:0.1; fill:none\" points=\"944.595,1486.45 944.595,47.2441 \"/>\n",
       "<polyline clip-path=\"url(#clip252)\" style=\"stroke:#f8f8f2; stroke-linecap:round; stroke-linejoin:round; stroke-width:2; stroke-opacity:0.1; fill:none\" points=\"1360.68,1486.45 1360.68,47.2441 \"/>\n",
       "<polyline clip-path=\"url(#clip252)\" style=\"stroke:#f8f8f2; stroke-linecap:round; stroke-linejoin:round; stroke-width:2; stroke-opacity:0.1; fill:none\" points=\"1776.77,1486.45 1776.77,47.2441 \"/>\n",
       "<polyline clip-path=\"url(#clip252)\" style=\"stroke:#f8f8f2; stroke-linecap:round; stroke-linejoin:round; stroke-width:2; stroke-opacity:0.1; fill:none\" points=\"2192.86,1486.45 2192.86,47.2441 \"/>\n",
       "<polyline clip-path=\"url(#clip252)\" style=\"stroke:#f8f8f2; stroke-linecap:round; stroke-linejoin:round; stroke-width:2; stroke-opacity:0.1; fill:none\" points=\"202.177,1486.45 2352.76,1486.45 \"/>\n",
       "<polyline clip-path=\"url(#clip252)\" style=\"stroke:#f8f8f2; stroke-linecap:round; stroke-linejoin:round; stroke-width:2; stroke-opacity:0.1; fill:none\" points=\"202.177,1120.05 2352.76,1120.05 \"/>\n",
       "<polyline clip-path=\"url(#clip252)\" style=\"stroke:#f8f8f2; stroke-linecap:round; stroke-linejoin:round; stroke-width:2; stroke-opacity:0.1; fill:none\" points=\"202.177,753.656 2352.76,753.656 \"/>\n",
       "<polyline clip-path=\"url(#clip252)\" style=\"stroke:#f8f8f2; stroke-linecap:round; stroke-linejoin:round; stroke-width:2; stroke-opacity:0.1; fill:none\" points=\"202.177,387.26 2352.76,387.26 \"/>\n",
       "<polyline clip-path=\"url(#clip250)\" style=\"stroke:#f8f8f2; stroke-linecap:round; stroke-linejoin:round; stroke-width:4; stroke-opacity:1; fill:none\" points=\"202.177,1486.45 2352.76,1486.45 \"/>\n",
       "<polyline clip-path=\"url(#clip250)\" style=\"stroke:#f8f8f2; stroke-linecap:round; stroke-linejoin:round; stroke-width:4; stroke-opacity:1; fill:none\" points=\"528.507,1486.45 528.507,1467.55 \"/>\n",
       "<polyline clip-path=\"url(#clip250)\" style=\"stroke:#f8f8f2; stroke-linecap:round; stroke-linejoin:round; stroke-width:4; stroke-opacity:1; fill:none\" points=\"944.595,1486.45 944.595,1467.55 \"/>\n",
       "<polyline clip-path=\"url(#clip250)\" style=\"stroke:#f8f8f2; stroke-linecap:round; stroke-linejoin:round; stroke-width:4; stroke-opacity:1; fill:none\" points=\"1360.68,1486.45 1360.68,1467.55 \"/>\n",
       "<polyline clip-path=\"url(#clip250)\" style=\"stroke:#f8f8f2; stroke-linecap:round; stroke-linejoin:round; stroke-width:4; stroke-opacity:1; fill:none\" points=\"1776.77,1486.45 1776.77,1467.55 \"/>\n",
       "<polyline clip-path=\"url(#clip250)\" style=\"stroke:#f8f8f2; stroke-linecap:round; stroke-linejoin:round; stroke-width:4; stroke-opacity:1; fill:none\" points=\"2192.86,1486.45 2192.86,1467.55 \"/>\n",
       "<path clip-path=\"url(#clip250)\" d=\"M497.407 1532.02 L527.083 1532.02 L527.083 1535.95 L497.407 1535.95 L497.407 1532.02 Z\" fill=\"#f8f8f2\" fill-rule=\"nonzero\" fill-opacity=\"1\" /><path clip-path=\"url(#clip250)\" d=\"M550.023 1518.36 L538.217 1536.81 L550.023 1536.81 L550.023 1518.36 M548.796 1514.29 L554.676 1514.29 L554.676 1536.81 L559.606 1536.81 L559.606 1540.7 L554.676 1540.7 L554.676 1548.85 L550.023 1548.85 L550.023 1540.7 L534.421 1540.7 L534.421 1536.19 L548.796 1514.29 Z\" fill=\"#f8f8f2\" fill-rule=\"nonzero\" fill-opacity=\"1\" /><path clip-path=\"url(#clip250)\" d=\"M914.538 1532.02 L944.213 1532.02 L944.213 1535.95 L914.538 1535.95 L914.538 1532.02 Z\" fill=\"#f8f8f2\" fill-rule=\"nonzero\" fill-opacity=\"1\" /><path clip-path=\"url(#clip250)\" d=\"M958.334 1544.91 L974.653 1544.91 L974.653 1548.85 L952.709 1548.85 L952.709 1544.91 Q955.371 1542.16 959.954 1537.53 Q964.561 1532.88 965.741 1531.53 Q967.986 1529.01 968.866 1527.27 Q969.769 1525.51 969.769 1523.82 Q969.769 1521.07 967.824 1519.33 Q965.903 1517.6 962.801 1517.6 Q960.602 1517.6 958.149 1518.36 Q955.718 1519.13 952.94 1520.68 L952.94 1515.95 Q955.764 1514.82 958.218 1514.24 Q960.672 1513.66 962.709 1513.66 Q968.079 1513.66 971.273 1516.35 Q974.468 1519.03 974.468 1523.52 Q974.468 1525.65 973.658 1527.57 Q972.871 1529.47 970.764 1532.07 Q970.186 1532.74 967.084 1535.95 Q963.982 1539.15 958.334 1544.91 Z\" fill=\"#f8f8f2\" fill-rule=\"nonzero\" fill-opacity=\"1\" /><path clip-path=\"url(#clip250)\" d=\"M1360.68 1517.37 Q1357.07 1517.37 1355.24 1520.93 Q1353.44 1524.47 1353.44 1531.6 Q1353.44 1538.71 1355.24 1542.27 Q1357.07 1545.82 1360.68 1545.82 Q1364.32 1545.82 1366.12 1542.27 Q1367.95 1538.71 1367.95 1531.6 Q1367.95 1524.47 1366.12 1520.93 Q1364.32 1517.37 1360.68 1517.37 M1360.68 1513.66 Q1366.49 1513.66 1369.55 1518.27 Q1372.63 1522.85 1372.63 1531.6 Q1372.63 1540.33 1369.55 1544.94 Q1366.49 1549.52 1360.68 1549.52 Q1354.87 1549.52 1351.8 1544.94 Q1348.74 1540.33 1348.74 1531.6 Q1348.74 1522.85 1351.8 1518.27 Q1354.87 1513.66 1360.68 1513.66 Z\" fill=\"#f8f8f2\" fill-rule=\"nonzero\" fill-opacity=\"1\" /><path clip-path=\"url(#clip250)\" d=\"M1771.43 1544.91 L1787.74 1544.91 L1787.74 1548.85 L1765.8 1548.85 L1765.8 1544.91 Q1768.46 1542.16 1773.05 1537.53 Q1777.65 1532.88 1778.83 1531.53 Q1781.08 1529.01 1781.96 1527.27 Q1782.86 1525.51 1782.86 1523.82 Q1782.86 1521.07 1780.92 1519.33 Q1778.99 1517.6 1775.89 1517.6 Q1773.69 1517.6 1771.24 1518.36 Q1768.81 1519.13 1766.03 1520.68 L1766.03 1515.95 Q1768.86 1514.82 1771.31 1514.24 Q1773.76 1513.66 1775.8 1513.66 Q1781.17 1513.66 1784.37 1516.35 Q1787.56 1519.03 1787.56 1523.52 Q1787.56 1525.65 1786.75 1527.57 Q1785.96 1529.47 1783.86 1532.07 Q1783.28 1532.74 1780.18 1535.95 Q1777.07 1539.15 1771.43 1544.91 Z\" fill=\"#f8f8f2\" fill-rule=\"nonzero\" fill-opacity=\"1\" /><path clip-path=\"url(#clip250)\" d=\"M2195.87 1518.36 L2184.07 1536.81 L2195.87 1536.81 L2195.87 1518.36 M2194.64 1514.29 L2200.52 1514.29 L2200.52 1536.81 L2205.45 1536.81 L2205.45 1540.7 L2200.52 1540.7 L2200.52 1548.85 L2195.87 1548.85 L2195.87 1540.7 L2180.27 1540.7 L2180.27 1536.19 L2194.64 1514.29 Z\" fill=\"#f8f8f2\" fill-rule=\"nonzero\" fill-opacity=\"1\" /><polyline clip-path=\"url(#clip250)\" style=\"stroke:#f8f8f2; stroke-linecap:round; stroke-linejoin:round; stroke-width:4; stroke-opacity:1; fill:none\" points=\"202.177,1486.45 202.177,47.2441 \"/>\n",
       "<polyline clip-path=\"url(#clip250)\" style=\"stroke:#f8f8f2; stroke-linecap:round; stroke-linejoin:round; stroke-width:4; stroke-opacity:1; fill:none\" points=\"202.177,1486.45 221.074,1486.45 \"/>\n",
       "<polyline clip-path=\"url(#clip250)\" style=\"stroke:#f8f8f2; stroke-linecap:round; stroke-linejoin:round; stroke-width:4; stroke-opacity:1; fill:none\" points=\"202.177,1120.05 221.074,1120.05 \"/>\n",
       "<polyline clip-path=\"url(#clip250)\" style=\"stroke:#f8f8f2; stroke-linecap:round; stroke-linejoin:round; stroke-width:4; stroke-opacity:1; fill:none\" points=\"202.177,753.656 221.074,753.656 \"/>\n",
       "<polyline clip-path=\"url(#clip250)\" style=\"stroke:#f8f8f2; stroke-linecap:round; stroke-linejoin:round; stroke-width:4; stroke-opacity:1; fill:none\" points=\"202.177,387.26 221.074,387.26 \"/>\n",
       "<path clip-path=\"url(#clip250)\" d=\"M154.232 1472.25 Q150.621 1472.25 148.793 1475.81 Q146.987 1479.35 146.987 1486.48 Q146.987 1493.59 148.793 1497.15 Q150.621 1500.7 154.232 1500.7 Q157.867 1500.7 159.672 1497.15 Q161.501 1493.59 161.501 1486.48 Q161.501 1479.35 159.672 1475.81 Q157.867 1472.25 154.232 1472.25 M154.232 1468.54 Q160.042 1468.54 163.098 1473.15 Q166.177 1477.73 166.177 1486.48 Q166.177 1495.21 163.098 1499.82 Q160.042 1504.4 154.232 1504.4 Q148.422 1504.4 145.343 1499.82 Q142.288 1495.21 142.288 1486.48 Q142.288 1477.73 145.343 1473.15 Q148.422 1468.54 154.232 1468.54 Z\" fill=\"#f8f8f2\" fill-rule=\"nonzero\" fill-opacity=\"1\" /><path clip-path=\"url(#clip250)\" d=\"M57.7745 1133.4 L74.0939 1133.4 L74.0939 1137.33 L52.1495 1137.33 L52.1495 1133.4 Q54.8115 1130.64 59.3949 1126.01 Q64.0013 1121.36 65.1819 1120.02 Q67.4272 1117.49 68.3068 1115.76 Q69.2096 1114 69.2096 1112.31 Q69.2096 1109.55 67.2652 1107.82 Q65.3439 1106.08 62.2421 1106.08 Q60.043 1106.08 57.5893 1106.85 Q55.1588 1107.61 52.381 1109.16 L52.381 1104.44 Q55.2051 1103.3 57.6588 1102.73 Q60.1124 1102.15 62.1495 1102.15 Q67.5198 1102.15 70.7142 1104.83 Q73.9087 1107.52 73.9087 1112.01 Q73.9087 1114.14 73.0985 1116.06 Q72.3115 1117.96 70.205 1120.55 Q69.6263 1121.22 66.5245 1124.44 Q63.4226 1127.63 57.7745 1133.4 Z\" fill=\"#f8f8f2\" fill-rule=\"nonzero\" fill-opacity=\"1\" /><path clip-path=\"url(#clip250)\" d=\"M93.9086 1105.85 Q90.2975 1105.85 88.4688 1109.42 Q86.6632 1112.96 86.6632 1120.09 Q86.6632 1127.19 88.4688 1130.76 Q90.2975 1134.3 93.9086 1134.3 Q97.5428 1134.3 99.3483 1130.76 Q101.177 1127.19 101.177 1120.09 Q101.177 1112.96 99.3483 1109.42 Q97.5428 1105.85 93.9086 1105.85 M93.9086 1102.15 Q99.7187 1102.15 102.774 1106.75 Q105.853 1111.34 105.853 1120.09 Q105.853 1128.81 102.774 1133.42 Q99.7187 1138 93.9086 1138 Q88.0984 1138 85.0197 1133.42 Q81.9642 1128.81 81.9642 1120.09 Q81.9642 1111.34 85.0197 1106.75 Q88.0984 1102.15 93.9086 1102.15 Z\" fill=\"#f8f8f2\" fill-rule=\"nonzero\" fill-opacity=\"1\" /><path clip-path=\"url(#clip250)\" d=\"M124.07 1105.85 Q120.459 1105.85 118.631 1109.42 Q116.825 1112.96 116.825 1120.09 Q116.825 1127.19 118.631 1130.76 Q120.459 1134.3 124.07 1134.3 Q127.705 1134.3 129.51 1130.76 Q131.339 1127.19 131.339 1120.09 Q131.339 1112.96 129.51 1109.42 Q127.705 1105.85 124.07 1105.85 M124.07 1102.15 Q129.881 1102.15 132.936 1106.75 Q136.015 1111.34 136.015 1120.09 Q136.015 1128.81 132.936 1133.42 Q129.881 1138 124.07 1138 Q118.26 1138 115.182 1133.42 Q112.126 1128.81 112.126 1120.09 Q112.126 1111.34 115.182 1106.75 Q118.26 1102.15 124.07 1102.15 Z\" fill=\"#f8f8f2\" fill-rule=\"nonzero\" fill-opacity=\"1\" /><path clip-path=\"url(#clip250)\" d=\"M154.232 1105.85 Q150.621 1105.85 148.793 1109.42 Q146.987 1112.96 146.987 1120.09 Q146.987 1127.19 148.793 1130.76 Q150.621 1134.3 154.232 1134.3 Q157.867 1134.3 159.672 1130.76 Q161.501 1127.19 161.501 1120.09 Q161.501 1112.96 159.672 1109.42 Q157.867 1105.85 154.232 1105.85 M154.232 1102.15 Q160.042 1102.15 163.098 1106.75 Q166.177 1111.34 166.177 1120.09 Q166.177 1128.81 163.098 1133.42 Q160.042 1138 154.232 1138 Q148.422 1138 145.343 1133.42 Q142.288 1128.81 142.288 1120.09 Q142.288 1111.34 145.343 1106.75 Q148.422 1102.15 154.232 1102.15 Z\" fill=\"#f8f8f2\" fill-rule=\"nonzero\" fill-opacity=\"1\" /><path clip-path=\"url(#clip250)\" d=\"M66.5939 740.45 L54.7884 758.899 L66.5939 758.899 L66.5939 740.45 M65.367 736.376 L71.2466 736.376 L71.2466 758.899 L76.1772 758.899 L76.1772 762.788 L71.2466 762.788 L71.2466 770.936 L66.5939 770.936 L66.5939 762.788 L50.9921 762.788 L50.9921 758.274 L65.367 736.376 Z\" fill=\"#f8f8f2\" fill-rule=\"nonzero\" fill-opacity=\"1\" /><path clip-path=\"url(#clip250)\" d=\"M93.9086 739.454 Q90.2975 739.454 88.4688 743.019 Q86.6632 746.561 86.6632 753.69 Q86.6632 760.797 88.4688 764.362 Q90.2975 767.903 93.9086 767.903 Q97.5428 767.903 99.3483 764.362 Q101.177 760.797 101.177 753.69 Q101.177 746.561 99.3483 743.019 Q97.5428 739.454 93.9086 739.454 M93.9086 735.751 Q99.7187 735.751 102.774 740.357 Q105.853 744.94 105.853 753.69 Q105.853 762.417 102.774 767.024 Q99.7187 771.607 93.9086 771.607 Q88.0984 771.607 85.0197 767.024 Q81.9642 762.417 81.9642 753.69 Q81.9642 744.94 85.0197 740.357 Q88.0984 735.751 93.9086 735.751 Z\" fill=\"#f8f8f2\" fill-rule=\"nonzero\" fill-opacity=\"1\" /><path clip-path=\"url(#clip250)\" d=\"M124.07 739.454 Q120.459 739.454 118.631 743.019 Q116.825 746.561 116.825 753.69 Q116.825 760.797 118.631 764.362 Q120.459 767.903 124.07 767.903 Q127.705 767.903 129.51 764.362 Q131.339 760.797 131.339 753.69 Q131.339 746.561 129.51 743.019 Q127.705 739.454 124.07 739.454 M124.07 735.751 Q129.881 735.751 132.936 740.357 Q136.015 744.94 136.015 753.69 Q136.015 762.417 132.936 767.024 Q129.881 771.607 124.07 771.607 Q118.26 771.607 115.182 767.024 Q112.126 762.417 112.126 753.69 Q112.126 744.94 115.182 740.357 Q118.26 735.751 124.07 735.751 Z\" fill=\"#f8f8f2\" fill-rule=\"nonzero\" fill-opacity=\"1\" /><path clip-path=\"url(#clip250)\" d=\"M154.232 739.454 Q150.621 739.454 148.793 743.019 Q146.987 746.561 146.987 753.69 Q146.987 760.797 148.793 764.362 Q150.621 767.903 154.232 767.903 Q157.867 767.903 159.672 764.362 Q161.501 760.797 161.501 753.69 Q161.501 746.561 159.672 743.019 Q157.867 739.454 154.232 739.454 M154.232 735.751 Q160.042 735.751 163.098 740.357 Q166.177 744.94 166.177 753.69 Q166.177 762.417 163.098 767.024 Q160.042 771.607 154.232 771.607 Q148.422 771.607 145.343 767.024 Q142.288 762.417 142.288 753.69 Q142.288 744.94 145.343 740.357 Q148.422 735.751 154.232 735.751 Z\" fill=\"#f8f8f2\" fill-rule=\"nonzero\" fill-opacity=\"1\" /><path clip-path=\"url(#clip250)\" d=\"M64.3254 385.396 Q61.1773 385.396 59.3254 387.549 Q57.4967 389.702 57.4967 393.452 Q57.4967 397.179 59.3254 399.354 Q61.1773 401.507 64.3254 401.507 Q67.4735 401.507 69.3022 399.354 Q71.1541 397.179 71.1541 393.452 Q71.1541 389.702 69.3022 387.549 Q67.4735 385.396 64.3254 385.396 M73.6077 370.744 L73.6077 375.003 Q71.8485 374.169 70.0429 373.73 Q68.2606 373.29 66.5013 373.29 Q61.8717 373.29 59.418 376.415 Q56.9875 379.54 56.6402 385.859 Q58.006 383.845 60.0662 382.781 Q62.1263 381.693 64.6032 381.693 Q69.8115 381.693 72.8207 384.864 Q75.8531 388.012 75.8531 393.452 Q75.8531 398.776 72.705 401.993 Q69.5568 405.211 64.3254 405.211 Q58.33 405.211 55.1588 400.628 Q51.9875 396.021 51.9875 387.294 Q51.9875 379.1 55.8764 374.239 Q59.7652 369.355 66.3161 369.355 Q68.0754 369.355 69.8578 369.702 Q71.6633 370.049 73.6077 370.744 Z\" fill=\"#f8f8f2\" fill-rule=\"nonzero\" fill-opacity=\"1\" /><path clip-path=\"url(#clip250)\" d=\"M93.9086 373.058 Q90.2975 373.058 88.4688 376.623 Q86.6632 380.165 86.6632 387.294 Q86.6632 394.401 88.4688 397.966 Q90.2975 401.507 93.9086 401.507 Q97.5428 401.507 99.3483 397.966 Q101.177 394.401 101.177 387.294 Q101.177 380.165 99.3483 376.623 Q97.5428 373.058 93.9086 373.058 M93.9086 369.355 Q99.7187 369.355 102.774 373.961 Q105.853 378.544 105.853 387.294 Q105.853 396.021 102.774 400.628 Q99.7187 405.211 93.9086 405.211 Q88.0984 405.211 85.0197 400.628 Q81.9642 396.021 81.9642 387.294 Q81.9642 378.544 85.0197 373.961 Q88.0984 369.355 93.9086 369.355 Z\" fill=\"#f8f8f2\" fill-rule=\"nonzero\" fill-opacity=\"1\" /><path clip-path=\"url(#clip250)\" d=\"M124.07 373.058 Q120.459 373.058 118.631 376.623 Q116.825 380.165 116.825 387.294 Q116.825 394.401 118.631 397.966 Q120.459 401.507 124.07 401.507 Q127.705 401.507 129.51 397.966 Q131.339 394.401 131.339 387.294 Q131.339 380.165 129.51 376.623 Q127.705 373.058 124.07 373.058 M124.07 369.355 Q129.881 369.355 132.936 373.961 Q136.015 378.544 136.015 387.294 Q136.015 396.021 132.936 400.628 Q129.881 405.211 124.07 405.211 Q118.26 405.211 115.182 400.628 Q112.126 396.021 112.126 387.294 Q112.126 378.544 115.182 373.961 Q118.26 369.355 124.07 369.355 Z\" fill=\"#f8f8f2\" fill-rule=\"nonzero\" fill-opacity=\"1\" /><path clip-path=\"url(#clip250)\" d=\"M154.232 373.058 Q150.621 373.058 148.793 376.623 Q146.987 380.165 146.987 387.294 Q146.987 394.401 148.793 397.966 Q150.621 401.507 154.232 401.507 Q157.867 401.507 159.672 397.966 Q161.501 394.401 161.501 387.294 Q161.501 380.165 159.672 376.623 Q157.867 373.058 154.232 373.058 M154.232 369.355 Q160.042 369.355 163.098 373.961 Q166.177 378.544 166.177 387.294 Q166.177 396.021 163.098 400.628 Q160.042 405.211 154.232 405.211 Q148.422 405.211 145.343 400.628 Q142.288 396.021 142.288 387.294 Q142.288 378.544 145.343 373.961 Q148.422 369.355 154.232 369.355 Z\" fill=\"#f8f8f2\" fill-rule=\"nonzero\" fill-opacity=\"1\" /><path clip-path=\"url(#clip252)\" d=\"M320.462 1486.26 L320.462 1486.45 L362.071 1486.45 L362.071 1486.26 L320.462 1486.26 L320.462 1486.26  Z\" fill=\"#8be9fd\" fill-rule=\"evenodd\" fill-opacity=\"1\"/>\n",
       "<polyline clip-path=\"url(#clip252)\" style=\"stroke:#f8f8f2; stroke-linecap:round; stroke-linejoin:round; stroke-width:4; stroke-opacity:1; fill:none\" points=\"320.462,1486.26 320.462,1486.45 362.071,1486.45 362.071,1486.26 320.462,1486.26 \"/>\n",
       "<path clip-path=\"url(#clip252)\" d=\"M362.071 1486.45 L362.071 1486.45 L403.68 1486.45 L403.68 1486.45 L362.071 1486.45 L362.071 1486.45  Z\" fill=\"#8be9fd\" fill-rule=\"evenodd\" fill-opacity=\"1\"/>\n",
       "<polyline clip-path=\"url(#clip252)\" style=\"stroke:#f8f8f2; stroke-linecap:round; stroke-linejoin:round; stroke-width:4; stroke-opacity:1; fill:none\" points=\"362.071,1486.45 362.071,1486.45 403.68,1486.45 362.071,1486.45 \"/>\n",
       "<path clip-path=\"url(#clip252)\" d=\"M403.68 1486.45 L403.68 1486.45 L445.289 1486.45 L445.289 1486.45 L403.68 1486.45 L403.68 1486.45  Z\" fill=\"#8be9fd\" fill-rule=\"evenodd\" fill-opacity=\"1\"/>\n",
       "<polyline clip-path=\"url(#clip252)\" style=\"stroke:#f8f8f2; stroke-linecap:round; stroke-linejoin:round; stroke-width:4; stroke-opacity:1; fill:none\" points=\"403.68,1486.45 403.68,1486.45 445.289,1486.45 403.68,1486.45 \"/>\n",
       "<path clip-path=\"url(#clip252)\" d=\"M445.289 1486.26 L445.289 1486.45 L486.898 1486.45 L486.898 1486.26 L445.289 1486.26 L445.289 1486.26  Z\" fill=\"#8be9fd\" fill-rule=\"evenodd\" fill-opacity=\"1\"/>\n",
       "<polyline clip-path=\"url(#clip252)\" style=\"stroke:#f8f8f2; stroke-linecap:round; stroke-linejoin:round; stroke-width:4; stroke-opacity:1; fill:none\" points=\"445.289,1486.26 445.289,1486.45 486.898,1486.45 486.898,1486.26 445.289,1486.26 \"/>\n",
       "<path clip-path=\"url(#clip252)\" d=\"M486.898 1486.08 L486.898 1486.45 L528.507 1486.45 L528.507 1486.08 L486.898 1486.08 L486.898 1486.08  Z\" fill=\"#8be9fd\" fill-rule=\"evenodd\" fill-opacity=\"1\"/>\n",
       "<polyline clip-path=\"url(#clip252)\" style=\"stroke:#f8f8f2; stroke-linecap:round; stroke-linejoin:round; stroke-width:4; stroke-opacity:1; fill:none\" points=\"486.898,1486.08 486.898,1486.45 528.507,1486.45 528.507,1486.08 486.898,1486.08 \"/>\n",
       "<path clip-path=\"url(#clip252)\" d=\"M528.507 1486.08 L528.507 1486.45 L570.116 1486.45 L570.116 1486.08 L528.507 1486.08 L528.507 1486.08  Z\" fill=\"#8be9fd\" fill-rule=\"evenodd\" fill-opacity=\"1\"/>\n",
       "<polyline clip-path=\"url(#clip252)\" style=\"stroke:#f8f8f2; stroke-linecap:round; stroke-linejoin:round; stroke-width:4; stroke-opacity:1; fill:none\" points=\"528.507,1486.08 528.507,1486.45 570.116,1486.45 570.116,1486.08 528.507,1486.08 \"/>\n",
       "<path clip-path=\"url(#clip252)\" d=\"M570.116 1484.8 L570.116 1486.45 L611.724 1486.45 L611.724 1484.8 L570.116 1484.8 L570.116 1484.8  Z\" fill=\"#8be9fd\" fill-rule=\"evenodd\" fill-opacity=\"1\"/>\n",
       "<polyline clip-path=\"url(#clip252)\" style=\"stroke:#f8f8f2; stroke-linecap:round; stroke-linejoin:round; stroke-width:4; stroke-opacity:1; fill:none\" points=\"570.116,1484.8 570.116,1486.45 611.724,1486.45 611.724,1484.8 570.116,1484.8 \"/>\n",
       "<path clip-path=\"url(#clip252)\" d=\"M611.724 1484.07 L611.724 1486.45 L653.333 1486.45 L653.333 1484.07 L611.724 1484.07 L611.724 1484.07  Z\" fill=\"#8be9fd\" fill-rule=\"evenodd\" fill-opacity=\"1\"/>\n",
       "<polyline clip-path=\"url(#clip252)\" style=\"stroke:#f8f8f2; stroke-linecap:round; stroke-linejoin:round; stroke-width:4; stroke-opacity:1; fill:none\" points=\"611.724,1484.07 611.724,1486.45 653.333,1486.45 653.333,1484.07 611.724,1484.07 \"/>\n",
       "<path clip-path=\"url(#clip252)\" d=\"M653.333 1479.12 L653.333 1486.45 L694.942 1486.45 L694.942 1479.12 L653.333 1479.12 L653.333 1479.12  Z\" fill=\"#8be9fd\" fill-rule=\"evenodd\" fill-opacity=\"1\"/>\n",
       "<polyline clip-path=\"url(#clip252)\" style=\"stroke:#f8f8f2; stroke-linecap:round; stroke-linejoin:round; stroke-width:4; stroke-opacity:1; fill:none\" points=\"653.333,1479.12 653.333,1486.45 694.942,1486.45 694.942,1479.12 653.333,1479.12 \"/>\n",
       "<path clip-path=\"url(#clip252)\" d=\"M694.942 1474.17 L694.942 1486.45 L736.551 1486.45 L736.551 1474.17 L694.942 1474.17 L694.942 1474.17  Z\" fill=\"#8be9fd\" fill-rule=\"evenodd\" fill-opacity=\"1\"/>\n",
       "<polyline clip-path=\"url(#clip252)\" style=\"stroke:#f8f8f2; stroke-linecap:round; stroke-linejoin:round; stroke-width:4; stroke-opacity:1; fill:none\" points=\"694.942,1474.17 694.942,1486.45 736.551,1486.45 736.551,1474.17 694.942,1474.17 \"/>\n",
       "<path clip-path=\"url(#clip252)\" d=\"M736.551 1466.48 L736.551 1486.45 L778.16 1486.45 L778.16 1466.48 L736.551 1466.48 L736.551 1466.48  Z\" fill=\"#8be9fd\" fill-rule=\"evenodd\" fill-opacity=\"1\"/>\n",
       "<polyline clip-path=\"url(#clip252)\" style=\"stroke:#f8f8f2; stroke-linecap:round; stroke-linejoin:round; stroke-width:4; stroke-opacity:1; fill:none\" points=\"736.551,1466.48 736.551,1486.45 778.16,1486.45 778.16,1466.48 736.551,1466.48 \"/>\n",
       "<path clip-path=\"url(#clip252)\" d=\"M778.16 1451.27 L778.16 1486.45 L819.769 1486.45 L819.769 1451.27 L778.16 1451.27 L778.16 1451.27  Z\" fill=\"#8be9fd\" fill-rule=\"evenodd\" fill-opacity=\"1\"/>\n",
       "<polyline clip-path=\"url(#clip252)\" style=\"stroke:#f8f8f2; stroke-linecap:round; stroke-linejoin:round; stroke-width:4; stroke-opacity:1; fill:none\" points=\"778.16,1451.27 778.16,1486.45 819.769,1486.45 819.769,1451.27 778.16,1451.27 \"/>\n",
       "<path clip-path=\"url(#clip252)\" d=\"M819.769 1423.24 L819.769 1486.45 L861.378 1486.45 L861.378 1423.24 L819.769 1423.24 L819.769 1423.24  Z\" fill=\"#8be9fd\" fill-rule=\"evenodd\" fill-opacity=\"1\"/>\n",
       "<polyline clip-path=\"url(#clip252)\" style=\"stroke:#f8f8f2; stroke-linecap:round; stroke-linejoin:round; stroke-width:4; stroke-opacity:1; fill:none\" points=\"819.769,1423.24 819.769,1486.45 861.378,1486.45 861.378,1423.24 819.769,1423.24 \"/>\n",
       "<path clip-path=\"url(#clip252)\" d=\"M861.378 1387.15 L861.378 1486.45 L902.987 1486.45 L902.987 1387.15 L861.378 1387.15 L861.378 1387.15  Z\" fill=\"#8be9fd\" fill-rule=\"evenodd\" fill-opacity=\"1\"/>\n",
       "<polyline clip-path=\"url(#clip252)\" style=\"stroke:#f8f8f2; stroke-linecap:round; stroke-linejoin:round; stroke-width:4; stroke-opacity:1; fill:none\" points=\"861.378,1387.15 861.378,1486.45 902.987,1486.45 902.987,1387.15 861.378,1387.15 \"/>\n",
       "<path clip-path=\"url(#clip252)\" d=\"M902.987 1321.2 L902.987 1486.45 L944.595 1486.45 L944.595 1321.2 L902.987 1321.2 L902.987 1321.2  Z\" fill=\"#8be9fd\" fill-rule=\"evenodd\" fill-opacity=\"1\"/>\n",
       "<polyline clip-path=\"url(#clip252)\" style=\"stroke:#f8f8f2; stroke-linecap:round; stroke-linejoin:round; stroke-width:4; stroke-opacity:1; fill:none\" points=\"902.987,1321.2 902.987,1486.45 944.595,1486.45 944.595,1321.2 902.987,1321.2 \"/>\n",
       "<path clip-path=\"url(#clip252)\" d=\"M944.595 1246.28 L944.595 1486.45 L986.204 1486.45 L986.204 1246.28 L944.595 1246.28 L944.595 1246.28  Z\" fill=\"#8be9fd\" fill-rule=\"evenodd\" fill-opacity=\"1\"/>\n",
       "<polyline clip-path=\"url(#clip252)\" style=\"stroke:#f8f8f2; stroke-linecap:round; stroke-linejoin:round; stroke-width:4; stroke-opacity:1; fill:none\" points=\"944.595,1246.28 944.595,1486.45 986.204,1486.45 986.204,1246.28 944.595,1246.28 \"/>\n",
       "<path clip-path=\"url(#clip252)\" d=\"M986.204 1145.88 L986.204 1486.45 L1027.81 1486.45 L1027.81 1145.88 L986.204 1145.88 L986.204 1145.88  Z\" fill=\"#8be9fd\" fill-rule=\"evenodd\" fill-opacity=\"1\"/>\n",
       "<polyline clip-path=\"url(#clip252)\" style=\"stroke:#f8f8f2; stroke-linecap:round; stroke-linejoin:round; stroke-width:4; stroke-opacity:1; fill:none\" points=\"986.204,1145.88 986.204,1486.45 1027.81,1486.45 1027.81,1145.88 986.204,1145.88 \"/>\n",
       "<path clip-path=\"url(#clip252)\" d=\"M1027.81 992.363 L1027.81 1486.45 L1069.42 1486.45 L1069.42 992.363 L1027.81 992.363 L1027.81 992.363  Z\" fill=\"#8be9fd\" fill-rule=\"evenodd\" fill-opacity=\"1\"/>\n",
       "<polyline clip-path=\"url(#clip252)\" style=\"stroke:#f8f8f2; stroke-linecap:round; stroke-linejoin:round; stroke-width:4; stroke-opacity:1; fill:none\" points=\"1027.81,992.363 1027.81,1486.45 1069.42,1486.45 1069.42,992.363 1027.81,992.363 \"/>\n",
       "<path clip-path=\"url(#clip252)\" d=\"M1069.42 849.102 L1069.42 1486.45 L1111.03 1486.45 L1111.03 849.102 L1069.42 849.102 L1069.42 849.102  Z\" fill=\"#8be9fd\" fill-rule=\"evenodd\" fill-opacity=\"1\"/>\n",
       "<polyline clip-path=\"url(#clip252)\" style=\"stroke:#f8f8f2; stroke-linecap:round; stroke-linejoin:round; stroke-width:4; stroke-opacity:1; fill:none\" points=\"1069.42,849.102 1069.42,1486.45 1111.03,1486.45 1111.03,849.102 1069.42,849.102 \"/>\n",
       "<path clip-path=\"url(#clip252)\" d=\"M1111.03 692.468 L1111.03 1486.45 L1152.64 1486.45 L1152.64 692.468 L1111.03 692.468 L1111.03 692.468  Z\" fill=\"#8be9fd\" fill-rule=\"evenodd\" fill-opacity=\"1\"/>\n",
       "<polyline clip-path=\"url(#clip252)\" style=\"stroke:#f8f8f2; stroke-linecap:round; stroke-linejoin:round; stroke-width:4; stroke-opacity:1; fill:none\" points=\"1111.03,692.468 1111.03,1486.45 1152.64,1486.45 1152.64,692.468 1111.03,692.468 \"/>\n",
       "<path clip-path=\"url(#clip252)\" d=\"M1152.64 497.178 L1152.64 1486.45 L1194.25 1486.45 L1194.25 497.178 L1152.64 497.178 L1152.64 497.178  Z\" fill=\"#8be9fd\" fill-rule=\"evenodd\" fill-opacity=\"1\"/>\n",
       "<polyline clip-path=\"url(#clip252)\" style=\"stroke:#f8f8f2; stroke-linecap:round; stroke-linejoin:round; stroke-width:4; stroke-opacity:1; fill:none\" points=\"1152.64,497.178 1152.64,1486.45 1194.25,1486.45 1194.25,497.178 1152.64,497.178 \"/>\n",
       "<path clip-path=\"url(#clip252)\" d=\"M1194.25 361.612 L1194.25 1486.45 L1235.86 1486.45 L1235.86 361.612 L1194.25 361.612 L1194.25 361.612  Z\" fill=\"#8be9fd\" fill-rule=\"evenodd\" fill-opacity=\"1\"/>\n",
       "<polyline clip-path=\"url(#clip252)\" style=\"stroke:#f8f8f2; stroke-linecap:round; stroke-linejoin:round; stroke-width:4; stroke-opacity:1; fill:none\" points=\"1194.25,361.612 1194.25,1486.45 1235.86,1486.45 1235.86,361.612 1194.25,361.612 \"/>\n",
       "<path clip-path=\"url(#clip252)\" d=\"M1235.86 179.33 L1235.86 1486.45 L1277.47 1486.45 L1277.47 179.33 L1235.86 179.33 L1235.86 179.33  Z\" fill=\"#8be9fd\" fill-rule=\"evenodd\" fill-opacity=\"1\"/>\n",
       "<polyline clip-path=\"url(#clip252)\" style=\"stroke:#f8f8f2; stroke-linecap:round; stroke-linejoin:round; stroke-width:4; stroke-opacity:1; fill:none\" points=\"1235.86,179.33 1235.86,1486.45 1277.47,1486.45 1277.47,179.33 1235.86,179.33 \"/>\n",
       "<path clip-path=\"url(#clip252)\" d=\"M1277.47 90.8452 L1277.47 1486.45 L1319.08 1486.45 L1319.08 90.8452 L1277.47 90.8452 L1277.47 90.8452  Z\" fill=\"#8be9fd\" fill-rule=\"evenodd\" fill-opacity=\"1\"/>\n",
       "<polyline clip-path=\"url(#clip252)\" style=\"stroke:#f8f8f2; stroke-linecap:round; stroke-linejoin:round; stroke-width:4; stroke-opacity:1; fill:none\" points=\"1277.47,90.8452 1277.47,1486.45 1319.08,1486.45 1319.08,90.8452 1277.47,90.8452 \"/>\n",
       "<path clip-path=\"url(#clip252)\" d=\"M1319.08 47.2441 L1319.08 1486.45 L1360.68 1486.45 L1360.68 47.2441 L1319.08 47.2441 L1319.08 47.2441  Z\" fill=\"#8be9fd\" fill-rule=\"evenodd\" fill-opacity=\"1\"/>\n",
       "<polyline clip-path=\"url(#clip252)\" style=\"stroke:#f8f8f2; stroke-linecap:round; stroke-linejoin:round; stroke-width:4; stroke-opacity:1; fill:none\" points=\"1319.08,47.2441 1319.08,1486.45 1360.68,1486.45 1360.68,47.2441 1319.08,47.2441 \"/>\n",
       "<path clip-path=\"url(#clip252)\" d=\"M1360.68 53.1064 L1360.68 1486.45 L1402.29 1486.45 L1402.29 53.1064 L1360.68 53.1064 L1360.68 53.1064  Z\" fill=\"#8be9fd\" fill-rule=\"evenodd\" fill-opacity=\"1\"/>\n",
       "<polyline clip-path=\"url(#clip252)\" style=\"stroke:#f8f8f2; stroke-linecap:round; stroke-linejoin:round; stroke-width:4; stroke-opacity:1; fill:none\" points=\"1360.68,53.1064 1360.68,1486.45 1402.29,1486.45 1402.29,53.1064 1360.68,53.1064 \"/>\n",
       "<path clip-path=\"url(#clip252)\" d=\"M1402.29 90.4788 L1402.29 1486.45 L1443.9 1486.45 L1443.9 90.4788 L1402.29 90.4788 L1402.29 90.4788  Z\" fill=\"#8be9fd\" fill-rule=\"evenodd\" fill-opacity=\"1\"/>\n",
       "<polyline clip-path=\"url(#clip252)\" style=\"stroke:#f8f8f2; stroke-linecap:round; stroke-linejoin:round; stroke-width:4; stroke-opacity:1; fill:none\" points=\"1402.29,90.4788 1402.29,1486.45 1443.9,1486.45 1443.9,90.4788 1402.29,90.4788 \"/>\n",
       "<path clip-path=\"url(#clip252)\" d=\"M1443.9 207.542 L1443.9 1486.45 L1485.51 1486.45 L1485.51 207.542 L1443.9 207.542 L1443.9 207.542  Z\" fill=\"#8be9fd\" fill-rule=\"evenodd\" fill-opacity=\"1\"/>\n",
       "<polyline clip-path=\"url(#clip252)\" style=\"stroke:#f8f8f2; stroke-linecap:round; stroke-linejoin:round; stroke-width:4; stroke-opacity:1; fill:none\" points=\"1443.9,207.542 1443.9,1486.45 1485.51,1486.45 1485.51,207.542 1443.9,207.542 \"/>\n",
       "<path clip-path=\"url(#clip252)\" d=\"M1485.51 347.506 L1485.51 1486.45 L1527.12 1486.45 L1527.12 347.506 L1485.51 347.506 L1485.51 347.506  Z\" fill=\"#8be9fd\" fill-rule=\"evenodd\" fill-opacity=\"1\"/>\n",
       "<polyline clip-path=\"url(#clip252)\" style=\"stroke:#f8f8f2; stroke-linecap:round; stroke-linejoin:round; stroke-width:4; stroke-opacity:1; fill:none\" points=\"1485.51,347.506 1485.51,1486.45 1527.12,1486.45 1527.12,347.506 1485.51,347.506 \"/>\n",
       "<path clip-path=\"url(#clip252)\" d=\"M1527.12 491.866 L1527.12 1486.45 L1568.73 1486.45 L1568.73 491.866 L1527.12 491.866 L1527.12 491.866  Z\" fill=\"#8be9fd\" fill-rule=\"evenodd\" fill-opacity=\"1\"/>\n",
       "<polyline clip-path=\"url(#clip252)\" style=\"stroke:#f8f8f2; stroke-linecap:round; stroke-linejoin:round; stroke-width:4; stroke-opacity:1; fill:none\" points=\"1527.12,491.866 1527.12,1486.45 1568.73,1486.45 1568.73,491.866 1527.12,491.866 \"/>\n",
       "<path clip-path=\"url(#clip252)\" d=\"M1568.73 686.239 L1568.73 1486.45 L1610.34 1486.45 L1610.34 686.239 L1568.73 686.239 L1568.73 686.239  Z\" fill=\"#8be9fd\" fill-rule=\"evenodd\" fill-opacity=\"1\"/>\n",
       "<polyline clip-path=\"url(#clip252)\" style=\"stroke:#f8f8f2; stroke-linecap:round; stroke-linejoin:round; stroke-width:4; stroke-opacity:1; fill:none\" points=\"1568.73,686.239 1568.73,1486.45 1610.34,1486.45 1610.34,686.239 1568.73,686.239 \"/>\n",
       "<path clip-path=\"url(#clip252)\" d=\"M1610.34 855.514 L1610.34 1486.45 L1651.95 1486.45 L1651.95 855.514 L1610.34 855.514 L1610.34 855.514  Z\" fill=\"#8be9fd\" fill-rule=\"evenodd\" fill-opacity=\"1\"/>\n",
       "<polyline clip-path=\"url(#clip252)\" style=\"stroke:#f8f8f2; stroke-linecap:round; stroke-linejoin:round; stroke-width:4; stroke-opacity:1; fill:none\" points=\"1610.34,855.514 1610.34,1486.45 1651.95,1486.45 1651.95,855.514 1610.34,855.514 \"/>\n",
       "<path clip-path=\"url(#clip252)\" d=\"M1651.95 1014.53 L1651.95 1486.45 L1693.55 1486.45 L1693.55 1014.53 L1651.95 1014.53 L1651.95 1014.53  Z\" fill=\"#8be9fd\" fill-rule=\"evenodd\" fill-opacity=\"1\"/>\n",
       "<polyline clip-path=\"url(#clip252)\" style=\"stroke:#f8f8f2; stroke-linecap:round; stroke-linejoin:round; stroke-width:4; stroke-opacity:1; fill:none\" points=\"1651.95,1014.53 1651.95,1486.45 1693.55,1486.45 1693.55,1014.53 1651.95,1014.53 \"/>\n",
       "<path clip-path=\"url(#clip252)\" d=\"M1693.55 1137.46 L1693.55 1486.45 L1735.16 1486.45 L1735.16 1137.46 L1693.55 1137.46 L1693.55 1137.46  Z\" fill=\"#8be9fd\" fill-rule=\"evenodd\" fill-opacity=\"1\"/>\n",
       "<polyline clip-path=\"url(#clip252)\" style=\"stroke:#f8f8f2; stroke-linecap:round; stroke-linejoin:round; stroke-width:4; stroke-opacity:1; fill:none\" points=\"1693.55,1137.46 1693.55,1486.45 1735.16,1486.45 1735.16,1137.46 1693.55,1137.46 \"/>\n",
       "<path clip-path=\"url(#clip252)\" d=\"M1735.16 1258.37 L1735.16 1486.45 L1776.77 1486.45 L1776.77 1258.37 L1735.16 1258.37 L1735.16 1258.37  Z\" fill=\"#8be9fd\" fill-rule=\"evenodd\" fill-opacity=\"1\"/>\n",
       "<polyline clip-path=\"url(#clip252)\" style=\"stroke:#f8f8f2; stroke-linecap:round; stroke-linejoin:round; stroke-width:4; stroke-opacity:1; fill:none\" points=\"1735.16,1258.37 1735.16,1486.45 1776.77,1486.45 1776.77,1258.37 1735.16,1258.37 \"/>\n",
       "<path clip-path=\"url(#clip252)\" d=\"M1776.77 1317.36 L1776.77 1486.45 L1818.38 1486.45 L1818.38 1317.36 L1776.77 1317.36 L1776.77 1317.36  Z\" fill=\"#8be9fd\" fill-rule=\"evenodd\" fill-opacity=\"1\"/>\n",
       "<polyline clip-path=\"url(#clip252)\" style=\"stroke:#f8f8f2; stroke-linecap:round; stroke-linejoin:round; stroke-width:4; stroke-opacity:1; fill:none\" points=\"1776.77,1317.36 1776.77,1486.45 1818.38,1486.45 1818.38,1317.36 1776.77,1317.36 \"/>\n",
       "<path clip-path=\"url(#clip252)\" d=\"M1818.38 1377.63 L1818.38 1486.45 L1859.99 1486.45 L1859.99 1377.63 L1818.38 1377.63 L1818.38 1377.63  Z\" fill=\"#8be9fd\" fill-rule=\"evenodd\" fill-opacity=\"1\"/>\n",
       "<polyline clip-path=\"url(#clip252)\" style=\"stroke:#f8f8f2; stroke-linecap:round; stroke-linejoin:round; stroke-width:4; stroke-opacity:1; fill:none\" points=\"1818.38,1377.63 1818.38,1486.45 1859.99,1486.45 1859.99,1377.63 1818.38,1377.63 \"/>\n",
       "<path clip-path=\"url(#clip252)\" d=\"M1859.99 1421.23 L1859.99 1486.45 L1901.6 1486.45 L1901.6 1421.23 L1859.99 1421.23 L1859.99 1421.23  Z\" fill=\"#8be9fd\" fill-rule=\"evenodd\" fill-opacity=\"1\"/>\n",
       "<polyline clip-path=\"url(#clip252)\" style=\"stroke:#f8f8f2; stroke-linecap:round; stroke-linejoin:round; stroke-width:4; stroke-opacity:1; fill:none\" points=\"1859.99,1421.23 1859.99,1486.45 1901.6,1486.45 1901.6,1421.23 1859.99,1421.23 \"/>\n",
       "<path clip-path=\"url(#clip252)\" d=\"M1901.6 1450.72 L1901.6 1486.45 L1943.21 1486.45 L1943.21 1450.72 L1901.6 1450.72 L1901.6 1450.72  Z\" fill=\"#8be9fd\" fill-rule=\"evenodd\" fill-opacity=\"1\"/>\n",
       "<polyline clip-path=\"url(#clip252)\" style=\"stroke:#f8f8f2; stroke-linecap:round; stroke-linejoin:round; stroke-width:4; stroke-opacity:1; fill:none\" points=\"1901.6,1450.72 1901.6,1486.45 1943.21,1486.45 1943.21,1450.72 1901.6,1450.72 \"/>\n",
       "<path clip-path=\"url(#clip252)\" d=\"M1943.21 1464.1 L1943.21 1486.45 L1984.82 1486.45 L1984.82 1464.1 L1943.21 1464.1 L1943.21 1464.1  Z\" fill=\"#8be9fd\" fill-rule=\"evenodd\" fill-opacity=\"1\"/>\n",
       "<polyline clip-path=\"url(#clip252)\" style=\"stroke:#f8f8f2; stroke-linecap:round; stroke-linejoin:round; stroke-width:4; stroke-opacity:1; fill:none\" points=\"1943.21,1464.1 1943.21,1486.45 1984.82,1486.45 1984.82,1464.1 1943.21,1464.1 \"/>\n",
       "<path clip-path=\"url(#clip252)\" d=\"M1984.82 1471.61 L1984.82 1486.45 L2026.43 1486.45 L2026.43 1471.61 L1984.82 1471.61 L1984.82 1471.61  Z\" fill=\"#8be9fd\" fill-rule=\"evenodd\" fill-opacity=\"1\"/>\n",
       "<polyline clip-path=\"url(#clip252)\" style=\"stroke:#f8f8f2; stroke-linecap:round; stroke-linejoin:round; stroke-width:4; stroke-opacity:1; fill:none\" points=\"1984.82,1471.61 1984.82,1486.45 2026.43,1486.45 2026.43,1471.61 1984.82,1471.61 \"/>\n",
       "<path clip-path=\"url(#clip252)\" d=\"M2026.43 1480.4 L2026.43 1486.45 L2068.03 1486.45 L2068.03 1480.4 L2026.43 1480.4 L2026.43 1480.4  Z\" fill=\"#8be9fd\" fill-rule=\"evenodd\" fill-opacity=\"1\"/>\n",
       "<polyline clip-path=\"url(#clip252)\" style=\"stroke:#f8f8f2; stroke-linecap:round; stroke-linejoin:round; stroke-width:4; stroke-opacity:1; fill:none\" points=\"2026.43,1480.4 2026.43,1486.45 2068.03,1486.45 2068.03,1480.4 2026.43,1480.4 \"/>\n",
       "<path clip-path=\"url(#clip252)\" d=\"M2068.03 1483.33 L2068.03 1486.45 L2109.64 1486.45 L2109.64 1483.33 L2068.03 1483.33 L2068.03 1483.33  Z\" fill=\"#8be9fd\" fill-rule=\"evenodd\" fill-opacity=\"1\"/>\n",
       "<polyline clip-path=\"url(#clip252)\" style=\"stroke:#f8f8f2; stroke-linecap:round; stroke-linejoin:round; stroke-width:4; stroke-opacity:1; fill:none\" points=\"2068.03,1483.33 2068.03,1486.45 2109.64,1486.45 2109.64,1483.33 2068.03,1483.33 \"/>\n",
       "<path clip-path=\"url(#clip252)\" d=\"M2109.64 1484.62 L2109.64 1486.45 L2151.25 1486.45 L2151.25 1484.62 L2109.64 1484.62 L2109.64 1484.62  Z\" fill=\"#8be9fd\" fill-rule=\"evenodd\" fill-opacity=\"1\"/>\n",
       "<polyline clip-path=\"url(#clip252)\" style=\"stroke:#f8f8f2; stroke-linecap:round; stroke-linejoin:round; stroke-width:4; stroke-opacity:1; fill:none\" points=\"2109.64,1484.62 2109.64,1486.45 2151.25,1486.45 2151.25,1484.62 2109.64,1484.62 \"/>\n",
       "<path clip-path=\"url(#clip252)\" d=\"M2151.25 1485.53 L2151.25 1486.45 L2192.86 1486.45 L2192.86 1485.53 L2151.25 1485.53 L2151.25 1485.53  Z\" fill=\"#8be9fd\" fill-rule=\"evenodd\" fill-opacity=\"1\"/>\n",
       "<polyline clip-path=\"url(#clip252)\" style=\"stroke:#f8f8f2; stroke-linecap:round; stroke-linejoin:round; stroke-width:4; stroke-opacity:1; fill:none\" points=\"2151.25,1485.53 2151.25,1486.45 2192.86,1486.45 2192.86,1485.53 2151.25,1485.53 \"/>\n",
       "<path clip-path=\"url(#clip252)\" d=\"M2192.86 1486.26 L2192.86 1486.45 L2234.47 1486.45 L2234.47 1486.26 L2192.86 1486.26 L2192.86 1486.26  Z\" fill=\"#8be9fd\" fill-rule=\"evenodd\" fill-opacity=\"1\"/>\n",
       "<polyline clip-path=\"url(#clip252)\" style=\"stroke:#f8f8f2; stroke-linecap:round; stroke-linejoin:round; stroke-width:4; stroke-opacity:1; fill:none\" points=\"2192.86,1486.26 2192.86,1486.45 2234.47,1486.45 2234.47,1486.26 2192.86,1486.26 \"/>\n",
       "<circle clip-path=\"url(#clip252)\" style=\"fill:#8be9fd; stroke:none; fill-opacity:0\" cx=\"341.267\" cy=\"1486.26\" r=\"2\"/>\n",
       "<circle clip-path=\"url(#clip252)\" style=\"fill:#8be9fd; stroke:none; fill-opacity:0\" cx=\"382.876\" cy=\"1486.45\" r=\"2\"/>\n",
       "<circle clip-path=\"url(#clip252)\" style=\"fill:#8be9fd; stroke:none; fill-opacity:0\" cx=\"424.485\" cy=\"1486.45\" r=\"2\"/>\n",
       "<circle clip-path=\"url(#clip252)\" style=\"fill:#8be9fd; stroke:none; fill-opacity:0\" cx=\"466.093\" cy=\"1486.26\" r=\"2\"/>\n",
       "<circle clip-path=\"url(#clip252)\" style=\"fill:#8be9fd; stroke:none; fill-opacity:0\" cx=\"507.702\" cy=\"1486.08\" r=\"2\"/>\n",
       "<circle clip-path=\"url(#clip252)\" style=\"fill:#8be9fd; stroke:none; fill-opacity:0\" cx=\"549.311\" cy=\"1486.08\" r=\"2\"/>\n",
       "<circle clip-path=\"url(#clip252)\" style=\"fill:#8be9fd; stroke:none; fill-opacity:0\" cx=\"590.92\" cy=\"1484.8\" r=\"2\"/>\n",
       "<circle clip-path=\"url(#clip252)\" style=\"fill:#8be9fd; stroke:none; fill-opacity:0\" cx=\"632.529\" cy=\"1484.07\" r=\"2\"/>\n",
       "<circle clip-path=\"url(#clip252)\" style=\"fill:#8be9fd; stroke:none; fill-opacity:0\" cx=\"674.138\" cy=\"1479.12\" r=\"2\"/>\n",
       "<circle clip-path=\"url(#clip252)\" style=\"fill:#8be9fd; stroke:none; fill-opacity:0\" cx=\"715.747\" cy=\"1474.17\" r=\"2\"/>\n",
       "<circle clip-path=\"url(#clip252)\" style=\"fill:#8be9fd; stroke:none; fill-opacity:0\" cx=\"757.355\" cy=\"1466.48\" r=\"2\"/>\n",
       "<circle clip-path=\"url(#clip252)\" style=\"fill:#8be9fd; stroke:none; fill-opacity:0\" cx=\"798.964\" cy=\"1451.27\" r=\"2\"/>\n",
       "<circle clip-path=\"url(#clip252)\" style=\"fill:#8be9fd; stroke:none; fill-opacity:0\" cx=\"840.573\" cy=\"1423.24\" r=\"2\"/>\n",
       "<circle clip-path=\"url(#clip252)\" style=\"fill:#8be9fd; stroke:none; fill-opacity:0\" cx=\"882.182\" cy=\"1387.15\" r=\"2\"/>\n",
       "<circle clip-path=\"url(#clip252)\" style=\"fill:#8be9fd; stroke:none; fill-opacity:0\" cx=\"923.791\" cy=\"1321.2\" r=\"2\"/>\n",
       "<circle clip-path=\"url(#clip252)\" style=\"fill:#8be9fd; stroke:none; fill-opacity:0\" cx=\"965.4\" cy=\"1246.28\" r=\"2\"/>\n",
       "<circle clip-path=\"url(#clip252)\" style=\"fill:#8be9fd; stroke:none; fill-opacity:0\" cx=\"1007.01\" cy=\"1145.88\" r=\"2\"/>\n",
       "<circle clip-path=\"url(#clip252)\" style=\"fill:#8be9fd; stroke:none; fill-opacity:0\" cx=\"1048.62\" cy=\"992.363\" r=\"2\"/>\n",
       "<circle clip-path=\"url(#clip252)\" style=\"fill:#8be9fd; stroke:none; fill-opacity:0\" cx=\"1090.23\" cy=\"849.102\" r=\"2\"/>\n",
       "<circle clip-path=\"url(#clip252)\" style=\"fill:#8be9fd; stroke:none; fill-opacity:0\" cx=\"1131.84\" cy=\"692.468\" r=\"2\"/>\n",
       "<circle clip-path=\"url(#clip252)\" style=\"fill:#8be9fd; stroke:none; fill-opacity:0\" cx=\"1173.44\" cy=\"497.178\" r=\"2\"/>\n",
       "<circle clip-path=\"url(#clip252)\" style=\"fill:#8be9fd; stroke:none; fill-opacity:0\" cx=\"1215.05\" cy=\"361.612\" r=\"2\"/>\n",
       "<circle clip-path=\"url(#clip252)\" style=\"fill:#8be9fd; stroke:none; fill-opacity:0\" cx=\"1256.66\" cy=\"179.33\" r=\"2\"/>\n",
       "<circle clip-path=\"url(#clip252)\" style=\"fill:#8be9fd; stroke:none; fill-opacity:0\" cx=\"1298.27\" cy=\"90.8452\" r=\"2\"/>\n",
       "<circle clip-path=\"url(#clip252)\" style=\"fill:#8be9fd; stroke:none; fill-opacity:0\" cx=\"1339.88\" cy=\"47.2441\" r=\"2\"/>\n",
       "<circle clip-path=\"url(#clip252)\" style=\"fill:#8be9fd; stroke:none; fill-opacity:0\" cx=\"1381.49\" cy=\"53.1064\" r=\"2\"/>\n",
       "<circle clip-path=\"url(#clip252)\" style=\"fill:#8be9fd; stroke:none; fill-opacity:0\" cx=\"1423.1\" cy=\"90.4788\" r=\"2\"/>\n",
       "<circle clip-path=\"url(#clip252)\" style=\"fill:#8be9fd; stroke:none; fill-opacity:0\" cx=\"1464.71\" cy=\"207.542\" r=\"2\"/>\n",
       "<circle clip-path=\"url(#clip252)\" style=\"fill:#8be9fd; stroke:none; fill-opacity:0\" cx=\"1506.32\" cy=\"347.506\" r=\"2\"/>\n",
       "<circle clip-path=\"url(#clip252)\" style=\"fill:#8be9fd; stroke:none; fill-opacity:0\" cx=\"1547.92\" cy=\"491.866\" r=\"2\"/>\n",
       "<circle clip-path=\"url(#clip252)\" style=\"fill:#8be9fd; stroke:none; fill-opacity:0\" cx=\"1589.53\" cy=\"686.239\" r=\"2\"/>\n",
       "<circle clip-path=\"url(#clip252)\" style=\"fill:#8be9fd; stroke:none; fill-opacity:0\" cx=\"1631.14\" cy=\"855.514\" r=\"2\"/>\n",
       "<circle clip-path=\"url(#clip252)\" style=\"fill:#8be9fd; stroke:none; fill-opacity:0\" cx=\"1672.75\" cy=\"1014.53\" r=\"2\"/>\n",
       "<circle clip-path=\"url(#clip252)\" style=\"fill:#8be9fd; stroke:none; fill-opacity:0\" cx=\"1714.36\" cy=\"1137.46\" r=\"2\"/>\n",
       "<circle clip-path=\"url(#clip252)\" style=\"fill:#8be9fd; stroke:none; fill-opacity:0\" cx=\"1755.97\" cy=\"1258.37\" r=\"2\"/>\n",
       "<circle clip-path=\"url(#clip252)\" style=\"fill:#8be9fd; stroke:none; fill-opacity:0\" cx=\"1797.58\" cy=\"1317.36\" r=\"2\"/>\n",
       "<circle clip-path=\"url(#clip252)\" style=\"fill:#8be9fd; stroke:none; fill-opacity:0\" cx=\"1839.19\" cy=\"1377.63\" r=\"2\"/>\n",
       "<circle clip-path=\"url(#clip252)\" style=\"fill:#8be9fd; stroke:none; fill-opacity:0\" cx=\"1880.79\" cy=\"1421.23\" r=\"2\"/>\n",
       "<circle clip-path=\"url(#clip252)\" style=\"fill:#8be9fd; stroke:none; fill-opacity:0\" cx=\"1922.4\" cy=\"1450.72\" r=\"2\"/>\n",
       "<circle clip-path=\"url(#clip252)\" style=\"fill:#8be9fd; stroke:none; fill-opacity:0\" cx=\"1964.01\" cy=\"1464.1\" r=\"2\"/>\n",
       "<circle clip-path=\"url(#clip252)\" style=\"fill:#8be9fd; stroke:none; fill-opacity:0\" cx=\"2005.62\" cy=\"1471.61\" r=\"2\"/>\n",
       "<circle clip-path=\"url(#clip252)\" style=\"fill:#8be9fd; stroke:none; fill-opacity:0\" cx=\"2047.23\" cy=\"1480.4\" r=\"2\"/>\n",
       "<circle clip-path=\"url(#clip252)\" style=\"fill:#8be9fd; stroke:none; fill-opacity:0\" cx=\"2088.84\" cy=\"1483.33\" r=\"2\"/>\n",
       "<circle clip-path=\"url(#clip252)\" style=\"fill:#8be9fd; stroke:none; fill-opacity:0\" cx=\"2130.45\" cy=\"1484.62\" r=\"2\"/>\n",
       "<circle clip-path=\"url(#clip252)\" style=\"fill:#8be9fd; stroke:none; fill-opacity:0\" cx=\"2172.06\" cy=\"1485.53\" r=\"2\"/>\n",
       "<circle clip-path=\"url(#clip252)\" style=\"fill:#8be9fd; stroke:none; fill-opacity:0\" cx=\"2213.67\" cy=\"1486.26\" r=\"2\"/>\n",
       "</svg>\n"
      ],
      "text/html": [
       "<?xml version=\"1.0\" encoding=\"utf-8\"?>\n",
       "<svg xmlns=\"http://www.w3.org/2000/svg\" xmlns:xlink=\"http://www.w3.org/1999/xlink\" width=\"600\" height=\"400\" viewBox=\"0 0 2400 1600\">\n",
       "<defs>\n",
       "  <clipPath id=\"clip300\">\n",
       "    <rect x=\"0\" y=\"0\" width=\"2400\" height=\"1600\"/>\n",
       "  </clipPath>\n",
       "</defs>\n",
       "<path clip-path=\"url(#clip300)\" d=\"M0 1600 L2400 1600 L2400 0 L0 0  Z\" fill=\"#282a36\" fill-rule=\"evenodd\" fill-opacity=\"1\"/>\n",
       "<defs>\n",
       "  <clipPath id=\"clip301\">\n",
       "    <rect x=\"480\" y=\"0\" width=\"1681\" height=\"1600\"/>\n",
       "  </clipPath>\n",
       "</defs>\n",
       "<path clip-path=\"url(#clip300)\" d=\"M202.177 1486.45 L2352.76 1486.45 L2352.76 47.2441 L202.177 47.2441  Z\" fill=\"#30343b\" fill-rule=\"evenodd\" fill-opacity=\"1\"/>\n",
       "<defs>\n",
       "  <clipPath id=\"clip302\">\n",
       "    <rect x=\"202\" y=\"47\" width=\"2152\" height=\"1440\"/>\n",
       "  </clipPath>\n",
       "</defs>\n",
       "<polyline clip-path=\"url(#clip302)\" style=\"stroke:#f8f8f2; stroke-linecap:round; stroke-linejoin:round; stroke-width:2; stroke-opacity:0.1; fill:none\" points=\"528.507,1486.45 528.507,47.2441 \"/>\n",
       "<polyline clip-path=\"url(#clip302)\" style=\"stroke:#f8f8f2; stroke-linecap:round; stroke-linejoin:round; stroke-width:2; stroke-opacity:0.1; fill:none\" points=\"944.595,1486.45 944.595,47.2441 \"/>\n",
       "<polyline clip-path=\"url(#clip302)\" style=\"stroke:#f8f8f2; stroke-linecap:round; stroke-linejoin:round; stroke-width:2; stroke-opacity:0.1; fill:none\" points=\"1360.68,1486.45 1360.68,47.2441 \"/>\n",
       "<polyline clip-path=\"url(#clip302)\" style=\"stroke:#f8f8f2; stroke-linecap:round; stroke-linejoin:round; stroke-width:2; stroke-opacity:0.1; fill:none\" points=\"1776.77,1486.45 1776.77,47.2441 \"/>\n",
       "<polyline clip-path=\"url(#clip302)\" style=\"stroke:#f8f8f2; stroke-linecap:round; stroke-linejoin:round; stroke-width:2; stroke-opacity:0.1; fill:none\" points=\"2192.86,1486.45 2192.86,47.2441 \"/>\n",
       "<polyline clip-path=\"url(#clip302)\" style=\"stroke:#f8f8f2; stroke-linecap:round; stroke-linejoin:round; stroke-width:2; stroke-opacity:0.1; fill:none\" points=\"202.177,1486.45 2352.76,1486.45 \"/>\n",
       "<polyline clip-path=\"url(#clip302)\" style=\"stroke:#f8f8f2; stroke-linecap:round; stroke-linejoin:round; stroke-width:2; stroke-opacity:0.1; fill:none\" points=\"202.177,1120.05 2352.76,1120.05 \"/>\n",
       "<polyline clip-path=\"url(#clip302)\" style=\"stroke:#f8f8f2; stroke-linecap:round; stroke-linejoin:round; stroke-width:2; stroke-opacity:0.1; fill:none\" points=\"202.177,753.656 2352.76,753.656 \"/>\n",
       "<polyline clip-path=\"url(#clip302)\" style=\"stroke:#f8f8f2; stroke-linecap:round; stroke-linejoin:round; stroke-width:2; stroke-opacity:0.1; fill:none\" points=\"202.177,387.26 2352.76,387.26 \"/>\n",
       "<polyline clip-path=\"url(#clip300)\" style=\"stroke:#f8f8f2; stroke-linecap:round; stroke-linejoin:round; stroke-width:4; stroke-opacity:1; fill:none\" points=\"202.177,1486.45 2352.76,1486.45 \"/>\n",
       "<polyline clip-path=\"url(#clip300)\" style=\"stroke:#f8f8f2; stroke-linecap:round; stroke-linejoin:round; stroke-width:4; stroke-opacity:1; fill:none\" points=\"528.507,1486.45 528.507,1467.55 \"/>\n",
       "<polyline clip-path=\"url(#clip300)\" style=\"stroke:#f8f8f2; stroke-linecap:round; stroke-linejoin:round; stroke-width:4; stroke-opacity:1; fill:none\" points=\"944.595,1486.45 944.595,1467.55 \"/>\n",
       "<polyline clip-path=\"url(#clip300)\" style=\"stroke:#f8f8f2; stroke-linecap:round; stroke-linejoin:round; stroke-width:4; stroke-opacity:1; fill:none\" points=\"1360.68,1486.45 1360.68,1467.55 \"/>\n",
       "<polyline clip-path=\"url(#clip300)\" style=\"stroke:#f8f8f2; stroke-linecap:round; stroke-linejoin:round; stroke-width:4; stroke-opacity:1; fill:none\" points=\"1776.77,1486.45 1776.77,1467.55 \"/>\n",
       "<polyline clip-path=\"url(#clip300)\" style=\"stroke:#f8f8f2; stroke-linecap:round; stroke-linejoin:round; stroke-width:4; stroke-opacity:1; fill:none\" points=\"2192.86,1486.45 2192.86,1467.55 \"/>\n",
       "<path clip-path=\"url(#clip300)\" d=\"M497.407 1532.02 L527.083 1532.02 L527.083 1535.95 L497.407 1535.95 L497.407 1532.02 Z\" fill=\"#f8f8f2\" fill-rule=\"nonzero\" fill-opacity=\"1\" /><path clip-path=\"url(#clip300)\" d=\"M550.023 1518.36 L538.217 1536.81 L550.023 1536.81 L550.023 1518.36 M548.796 1514.29 L554.676 1514.29 L554.676 1536.81 L559.606 1536.81 L559.606 1540.7 L554.676 1540.7 L554.676 1548.85 L550.023 1548.85 L550.023 1540.7 L534.421 1540.7 L534.421 1536.19 L548.796 1514.29 Z\" fill=\"#f8f8f2\" fill-rule=\"nonzero\" fill-opacity=\"1\" /><path clip-path=\"url(#clip300)\" d=\"M914.538 1532.02 L944.213 1532.02 L944.213 1535.95 L914.538 1535.95 L914.538 1532.02 Z\" fill=\"#f8f8f2\" fill-rule=\"nonzero\" fill-opacity=\"1\" /><path clip-path=\"url(#clip300)\" d=\"M958.334 1544.91 L974.653 1544.91 L974.653 1548.85 L952.709 1548.85 L952.709 1544.91 Q955.371 1542.16 959.954 1537.53 Q964.561 1532.88 965.741 1531.53 Q967.986 1529.01 968.866 1527.27 Q969.769 1525.51 969.769 1523.82 Q969.769 1521.07 967.824 1519.33 Q965.903 1517.6 962.801 1517.6 Q960.602 1517.6 958.149 1518.36 Q955.718 1519.13 952.94 1520.68 L952.94 1515.95 Q955.764 1514.82 958.218 1514.24 Q960.672 1513.66 962.709 1513.66 Q968.079 1513.66 971.273 1516.35 Q974.468 1519.03 974.468 1523.52 Q974.468 1525.65 973.658 1527.57 Q972.871 1529.47 970.764 1532.07 Q970.186 1532.74 967.084 1535.95 Q963.982 1539.15 958.334 1544.91 Z\" fill=\"#f8f8f2\" fill-rule=\"nonzero\" fill-opacity=\"1\" /><path clip-path=\"url(#clip300)\" d=\"M1360.68 1517.37 Q1357.07 1517.37 1355.24 1520.93 Q1353.44 1524.47 1353.44 1531.6 Q1353.44 1538.71 1355.24 1542.27 Q1357.07 1545.82 1360.68 1545.82 Q1364.32 1545.82 1366.12 1542.27 Q1367.95 1538.71 1367.95 1531.6 Q1367.95 1524.47 1366.12 1520.93 Q1364.32 1517.37 1360.68 1517.37 M1360.68 1513.66 Q1366.49 1513.66 1369.55 1518.27 Q1372.63 1522.85 1372.63 1531.6 Q1372.63 1540.33 1369.55 1544.94 Q1366.49 1549.52 1360.68 1549.52 Q1354.87 1549.52 1351.8 1544.94 Q1348.74 1540.33 1348.74 1531.6 Q1348.74 1522.85 1351.8 1518.27 Q1354.87 1513.66 1360.68 1513.66 Z\" fill=\"#f8f8f2\" fill-rule=\"nonzero\" fill-opacity=\"1\" /><path clip-path=\"url(#clip300)\" d=\"M1771.43 1544.91 L1787.74 1544.91 L1787.74 1548.85 L1765.8 1548.85 L1765.8 1544.91 Q1768.46 1542.16 1773.05 1537.53 Q1777.65 1532.88 1778.83 1531.53 Q1781.08 1529.01 1781.96 1527.27 Q1782.86 1525.51 1782.86 1523.82 Q1782.86 1521.07 1780.92 1519.33 Q1778.99 1517.6 1775.89 1517.6 Q1773.69 1517.6 1771.24 1518.36 Q1768.81 1519.13 1766.03 1520.68 L1766.03 1515.95 Q1768.86 1514.82 1771.31 1514.24 Q1773.76 1513.66 1775.8 1513.66 Q1781.17 1513.66 1784.37 1516.35 Q1787.56 1519.03 1787.56 1523.52 Q1787.56 1525.65 1786.75 1527.57 Q1785.96 1529.47 1783.86 1532.07 Q1783.28 1532.74 1780.18 1535.95 Q1777.07 1539.15 1771.43 1544.91 Z\" fill=\"#f8f8f2\" fill-rule=\"nonzero\" fill-opacity=\"1\" /><path clip-path=\"url(#clip300)\" d=\"M2195.87 1518.36 L2184.07 1536.81 L2195.87 1536.81 L2195.87 1518.36 M2194.64 1514.29 L2200.52 1514.29 L2200.52 1536.81 L2205.45 1536.81 L2205.45 1540.7 L2200.52 1540.7 L2200.52 1548.85 L2195.87 1548.85 L2195.87 1540.7 L2180.27 1540.7 L2180.27 1536.19 L2194.64 1514.29 Z\" fill=\"#f8f8f2\" fill-rule=\"nonzero\" fill-opacity=\"1\" /><polyline clip-path=\"url(#clip300)\" style=\"stroke:#f8f8f2; stroke-linecap:round; stroke-linejoin:round; stroke-width:4; stroke-opacity:1; fill:none\" points=\"202.177,1486.45 202.177,47.2441 \"/>\n",
       "<polyline clip-path=\"url(#clip300)\" style=\"stroke:#f8f8f2; stroke-linecap:round; stroke-linejoin:round; stroke-width:4; stroke-opacity:1; fill:none\" points=\"202.177,1486.45 221.074,1486.45 \"/>\n",
       "<polyline clip-path=\"url(#clip300)\" style=\"stroke:#f8f8f2; stroke-linecap:round; stroke-linejoin:round; stroke-width:4; stroke-opacity:1; fill:none\" points=\"202.177,1120.05 221.074,1120.05 \"/>\n",
       "<polyline clip-path=\"url(#clip300)\" style=\"stroke:#f8f8f2; stroke-linecap:round; stroke-linejoin:round; stroke-width:4; stroke-opacity:1; fill:none\" points=\"202.177,753.656 221.074,753.656 \"/>\n",
       "<polyline clip-path=\"url(#clip300)\" style=\"stroke:#f8f8f2; stroke-linecap:round; stroke-linejoin:round; stroke-width:4; stroke-opacity:1; fill:none\" points=\"202.177,387.26 221.074,387.26 \"/>\n",
       "<path clip-path=\"url(#clip300)\" d=\"M154.232 1472.25 Q150.621 1472.25 148.793 1475.81 Q146.987 1479.35 146.987 1486.48 Q146.987 1493.59 148.793 1497.15 Q150.621 1500.7 154.232 1500.7 Q157.867 1500.7 159.672 1497.15 Q161.501 1493.59 161.501 1486.48 Q161.501 1479.35 159.672 1475.81 Q157.867 1472.25 154.232 1472.25 M154.232 1468.54 Q160.042 1468.54 163.098 1473.15 Q166.177 1477.73 166.177 1486.48 Q166.177 1495.21 163.098 1499.82 Q160.042 1504.4 154.232 1504.4 Q148.422 1504.4 145.343 1499.82 Q142.288 1495.21 142.288 1486.48 Q142.288 1477.73 145.343 1473.15 Q148.422 1468.54 154.232 1468.54 Z\" fill=\"#f8f8f2\" fill-rule=\"nonzero\" fill-opacity=\"1\" /><path clip-path=\"url(#clip300)\" d=\"M57.7745 1133.4 L74.0939 1133.4 L74.0939 1137.33 L52.1495 1137.33 L52.1495 1133.4 Q54.8115 1130.64 59.3949 1126.01 Q64.0013 1121.36 65.1819 1120.02 Q67.4272 1117.49 68.3068 1115.76 Q69.2096 1114 69.2096 1112.31 Q69.2096 1109.55 67.2652 1107.82 Q65.3439 1106.08 62.2421 1106.08 Q60.043 1106.08 57.5893 1106.85 Q55.1588 1107.61 52.381 1109.16 L52.381 1104.44 Q55.2051 1103.3 57.6588 1102.73 Q60.1124 1102.15 62.1495 1102.15 Q67.5198 1102.15 70.7142 1104.83 Q73.9087 1107.52 73.9087 1112.01 Q73.9087 1114.14 73.0985 1116.06 Q72.3115 1117.96 70.205 1120.55 Q69.6263 1121.22 66.5245 1124.44 Q63.4226 1127.63 57.7745 1133.4 Z\" fill=\"#f8f8f2\" fill-rule=\"nonzero\" fill-opacity=\"1\" /><path clip-path=\"url(#clip300)\" d=\"M93.9086 1105.85 Q90.2975 1105.85 88.4688 1109.42 Q86.6632 1112.96 86.6632 1120.09 Q86.6632 1127.19 88.4688 1130.76 Q90.2975 1134.3 93.9086 1134.3 Q97.5428 1134.3 99.3483 1130.76 Q101.177 1127.19 101.177 1120.09 Q101.177 1112.96 99.3483 1109.42 Q97.5428 1105.85 93.9086 1105.85 M93.9086 1102.15 Q99.7187 1102.15 102.774 1106.75 Q105.853 1111.34 105.853 1120.09 Q105.853 1128.81 102.774 1133.42 Q99.7187 1138 93.9086 1138 Q88.0984 1138 85.0197 1133.42 Q81.9642 1128.81 81.9642 1120.09 Q81.9642 1111.34 85.0197 1106.75 Q88.0984 1102.15 93.9086 1102.15 Z\" fill=\"#f8f8f2\" fill-rule=\"nonzero\" fill-opacity=\"1\" /><path clip-path=\"url(#clip300)\" d=\"M124.07 1105.85 Q120.459 1105.85 118.631 1109.42 Q116.825 1112.96 116.825 1120.09 Q116.825 1127.19 118.631 1130.76 Q120.459 1134.3 124.07 1134.3 Q127.705 1134.3 129.51 1130.76 Q131.339 1127.19 131.339 1120.09 Q131.339 1112.96 129.51 1109.42 Q127.705 1105.85 124.07 1105.85 M124.07 1102.15 Q129.881 1102.15 132.936 1106.75 Q136.015 1111.34 136.015 1120.09 Q136.015 1128.81 132.936 1133.42 Q129.881 1138 124.07 1138 Q118.26 1138 115.182 1133.42 Q112.126 1128.81 112.126 1120.09 Q112.126 1111.34 115.182 1106.75 Q118.26 1102.15 124.07 1102.15 Z\" fill=\"#f8f8f2\" fill-rule=\"nonzero\" fill-opacity=\"1\" /><path clip-path=\"url(#clip300)\" d=\"M154.232 1105.85 Q150.621 1105.85 148.793 1109.42 Q146.987 1112.96 146.987 1120.09 Q146.987 1127.19 148.793 1130.76 Q150.621 1134.3 154.232 1134.3 Q157.867 1134.3 159.672 1130.76 Q161.501 1127.19 161.501 1120.09 Q161.501 1112.96 159.672 1109.42 Q157.867 1105.85 154.232 1105.85 M154.232 1102.15 Q160.042 1102.15 163.098 1106.75 Q166.177 1111.34 166.177 1120.09 Q166.177 1128.81 163.098 1133.42 Q160.042 1138 154.232 1138 Q148.422 1138 145.343 1133.42 Q142.288 1128.81 142.288 1120.09 Q142.288 1111.34 145.343 1106.75 Q148.422 1102.15 154.232 1102.15 Z\" fill=\"#f8f8f2\" fill-rule=\"nonzero\" fill-opacity=\"1\" /><path clip-path=\"url(#clip300)\" d=\"M66.5939 740.45 L54.7884 758.899 L66.5939 758.899 L66.5939 740.45 M65.367 736.376 L71.2466 736.376 L71.2466 758.899 L76.1772 758.899 L76.1772 762.788 L71.2466 762.788 L71.2466 770.936 L66.5939 770.936 L66.5939 762.788 L50.9921 762.788 L50.9921 758.274 L65.367 736.376 Z\" fill=\"#f8f8f2\" fill-rule=\"nonzero\" fill-opacity=\"1\" /><path clip-path=\"url(#clip300)\" d=\"M93.9086 739.454 Q90.2975 739.454 88.4688 743.019 Q86.6632 746.561 86.6632 753.69 Q86.6632 760.797 88.4688 764.362 Q90.2975 767.903 93.9086 767.903 Q97.5428 767.903 99.3483 764.362 Q101.177 760.797 101.177 753.69 Q101.177 746.561 99.3483 743.019 Q97.5428 739.454 93.9086 739.454 M93.9086 735.751 Q99.7187 735.751 102.774 740.357 Q105.853 744.94 105.853 753.69 Q105.853 762.417 102.774 767.024 Q99.7187 771.607 93.9086 771.607 Q88.0984 771.607 85.0197 767.024 Q81.9642 762.417 81.9642 753.69 Q81.9642 744.94 85.0197 740.357 Q88.0984 735.751 93.9086 735.751 Z\" fill=\"#f8f8f2\" fill-rule=\"nonzero\" fill-opacity=\"1\" /><path clip-path=\"url(#clip300)\" d=\"M124.07 739.454 Q120.459 739.454 118.631 743.019 Q116.825 746.561 116.825 753.69 Q116.825 760.797 118.631 764.362 Q120.459 767.903 124.07 767.903 Q127.705 767.903 129.51 764.362 Q131.339 760.797 131.339 753.69 Q131.339 746.561 129.51 743.019 Q127.705 739.454 124.07 739.454 M124.07 735.751 Q129.881 735.751 132.936 740.357 Q136.015 744.94 136.015 753.69 Q136.015 762.417 132.936 767.024 Q129.881 771.607 124.07 771.607 Q118.26 771.607 115.182 767.024 Q112.126 762.417 112.126 753.69 Q112.126 744.94 115.182 740.357 Q118.26 735.751 124.07 735.751 Z\" fill=\"#f8f8f2\" fill-rule=\"nonzero\" fill-opacity=\"1\" /><path clip-path=\"url(#clip300)\" d=\"M154.232 739.454 Q150.621 739.454 148.793 743.019 Q146.987 746.561 146.987 753.69 Q146.987 760.797 148.793 764.362 Q150.621 767.903 154.232 767.903 Q157.867 767.903 159.672 764.362 Q161.501 760.797 161.501 753.69 Q161.501 746.561 159.672 743.019 Q157.867 739.454 154.232 739.454 M154.232 735.751 Q160.042 735.751 163.098 740.357 Q166.177 744.94 166.177 753.69 Q166.177 762.417 163.098 767.024 Q160.042 771.607 154.232 771.607 Q148.422 771.607 145.343 767.024 Q142.288 762.417 142.288 753.69 Q142.288 744.94 145.343 740.357 Q148.422 735.751 154.232 735.751 Z\" fill=\"#f8f8f2\" fill-rule=\"nonzero\" fill-opacity=\"1\" /><path clip-path=\"url(#clip300)\" d=\"M64.3254 385.396 Q61.1773 385.396 59.3254 387.549 Q57.4967 389.702 57.4967 393.452 Q57.4967 397.179 59.3254 399.354 Q61.1773 401.507 64.3254 401.507 Q67.4735 401.507 69.3022 399.354 Q71.1541 397.179 71.1541 393.452 Q71.1541 389.702 69.3022 387.549 Q67.4735 385.396 64.3254 385.396 M73.6077 370.744 L73.6077 375.003 Q71.8485 374.169 70.0429 373.73 Q68.2606 373.29 66.5013 373.29 Q61.8717 373.29 59.418 376.415 Q56.9875 379.54 56.6402 385.859 Q58.006 383.845 60.0662 382.781 Q62.1263 381.693 64.6032 381.693 Q69.8115 381.693 72.8207 384.864 Q75.8531 388.012 75.8531 393.452 Q75.8531 398.776 72.705 401.993 Q69.5568 405.211 64.3254 405.211 Q58.33 405.211 55.1588 400.628 Q51.9875 396.021 51.9875 387.294 Q51.9875 379.1 55.8764 374.239 Q59.7652 369.355 66.3161 369.355 Q68.0754 369.355 69.8578 369.702 Q71.6633 370.049 73.6077 370.744 Z\" fill=\"#f8f8f2\" fill-rule=\"nonzero\" fill-opacity=\"1\" /><path clip-path=\"url(#clip300)\" d=\"M93.9086 373.058 Q90.2975 373.058 88.4688 376.623 Q86.6632 380.165 86.6632 387.294 Q86.6632 394.401 88.4688 397.966 Q90.2975 401.507 93.9086 401.507 Q97.5428 401.507 99.3483 397.966 Q101.177 394.401 101.177 387.294 Q101.177 380.165 99.3483 376.623 Q97.5428 373.058 93.9086 373.058 M93.9086 369.355 Q99.7187 369.355 102.774 373.961 Q105.853 378.544 105.853 387.294 Q105.853 396.021 102.774 400.628 Q99.7187 405.211 93.9086 405.211 Q88.0984 405.211 85.0197 400.628 Q81.9642 396.021 81.9642 387.294 Q81.9642 378.544 85.0197 373.961 Q88.0984 369.355 93.9086 369.355 Z\" fill=\"#f8f8f2\" fill-rule=\"nonzero\" fill-opacity=\"1\" /><path clip-path=\"url(#clip300)\" d=\"M124.07 373.058 Q120.459 373.058 118.631 376.623 Q116.825 380.165 116.825 387.294 Q116.825 394.401 118.631 397.966 Q120.459 401.507 124.07 401.507 Q127.705 401.507 129.51 397.966 Q131.339 394.401 131.339 387.294 Q131.339 380.165 129.51 376.623 Q127.705 373.058 124.07 373.058 M124.07 369.355 Q129.881 369.355 132.936 373.961 Q136.015 378.544 136.015 387.294 Q136.015 396.021 132.936 400.628 Q129.881 405.211 124.07 405.211 Q118.26 405.211 115.182 400.628 Q112.126 396.021 112.126 387.294 Q112.126 378.544 115.182 373.961 Q118.26 369.355 124.07 369.355 Z\" fill=\"#f8f8f2\" fill-rule=\"nonzero\" fill-opacity=\"1\" /><path clip-path=\"url(#clip300)\" d=\"M154.232 373.058 Q150.621 373.058 148.793 376.623 Q146.987 380.165 146.987 387.294 Q146.987 394.401 148.793 397.966 Q150.621 401.507 154.232 401.507 Q157.867 401.507 159.672 397.966 Q161.501 394.401 161.501 387.294 Q161.501 380.165 159.672 376.623 Q157.867 373.058 154.232 373.058 M154.232 369.355 Q160.042 369.355 163.098 373.961 Q166.177 378.544 166.177 387.294 Q166.177 396.021 163.098 400.628 Q160.042 405.211 154.232 405.211 Q148.422 405.211 145.343 400.628 Q142.288 396.021 142.288 387.294 Q142.288 378.544 145.343 373.961 Q148.422 369.355 154.232 369.355 Z\" fill=\"#f8f8f2\" fill-rule=\"nonzero\" fill-opacity=\"1\" /><path clip-path=\"url(#clip302)\" d=\"M320.462 1486.26 L320.462 1486.45 L362.071 1486.45 L362.071 1486.26 L320.462 1486.26 L320.462 1486.26  Z\" fill=\"#8be9fd\" fill-rule=\"evenodd\" fill-opacity=\"1\"/>\n",
       "<polyline clip-path=\"url(#clip302)\" style=\"stroke:#f8f8f2; stroke-linecap:round; stroke-linejoin:round; stroke-width:4; stroke-opacity:1; fill:none\" points=\"320.462,1486.26 320.462,1486.45 362.071,1486.45 362.071,1486.26 320.462,1486.26 \"/>\n",
       "<path clip-path=\"url(#clip302)\" d=\"M362.071 1486.45 L362.071 1486.45 L403.68 1486.45 L403.68 1486.45 L362.071 1486.45 L362.071 1486.45  Z\" fill=\"#8be9fd\" fill-rule=\"evenodd\" fill-opacity=\"1\"/>\n",
       "<polyline clip-path=\"url(#clip302)\" style=\"stroke:#f8f8f2; stroke-linecap:round; stroke-linejoin:round; stroke-width:4; stroke-opacity:1; fill:none\" points=\"362.071,1486.45 362.071,1486.45 403.68,1486.45 362.071,1486.45 \"/>\n",
       "<path clip-path=\"url(#clip302)\" d=\"M403.68 1486.45 L403.68 1486.45 L445.289 1486.45 L445.289 1486.45 L403.68 1486.45 L403.68 1486.45  Z\" fill=\"#8be9fd\" fill-rule=\"evenodd\" fill-opacity=\"1\"/>\n",
       "<polyline clip-path=\"url(#clip302)\" style=\"stroke:#f8f8f2; stroke-linecap:round; stroke-linejoin:round; stroke-width:4; stroke-opacity:1; fill:none\" points=\"403.68,1486.45 403.68,1486.45 445.289,1486.45 403.68,1486.45 \"/>\n",
       "<path clip-path=\"url(#clip302)\" d=\"M445.289 1486.26 L445.289 1486.45 L486.898 1486.45 L486.898 1486.26 L445.289 1486.26 L445.289 1486.26  Z\" fill=\"#8be9fd\" fill-rule=\"evenodd\" fill-opacity=\"1\"/>\n",
       "<polyline clip-path=\"url(#clip302)\" style=\"stroke:#f8f8f2; stroke-linecap:round; stroke-linejoin:round; stroke-width:4; stroke-opacity:1; fill:none\" points=\"445.289,1486.26 445.289,1486.45 486.898,1486.45 486.898,1486.26 445.289,1486.26 \"/>\n",
       "<path clip-path=\"url(#clip302)\" d=\"M486.898 1486.08 L486.898 1486.45 L528.507 1486.45 L528.507 1486.08 L486.898 1486.08 L486.898 1486.08  Z\" fill=\"#8be9fd\" fill-rule=\"evenodd\" fill-opacity=\"1\"/>\n",
       "<polyline clip-path=\"url(#clip302)\" style=\"stroke:#f8f8f2; stroke-linecap:round; stroke-linejoin:round; stroke-width:4; stroke-opacity:1; fill:none\" points=\"486.898,1486.08 486.898,1486.45 528.507,1486.45 528.507,1486.08 486.898,1486.08 \"/>\n",
       "<path clip-path=\"url(#clip302)\" d=\"M528.507 1486.08 L528.507 1486.45 L570.116 1486.45 L570.116 1486.08 L528.507 1486.08 L528.507 1486.08  Z\" fill=\"#8be9fd\" fill-rule=\"evenodd\" fill-opacity=\"1\"/>\n",
       "<polyline clip-path=\"url(#clip302)\" style=\"stroke:#f8f8f2; stroke-linecap:round; stroke-linejoin:round; stroke-width:4; stroke-opacity:1; fill:none\" points=\"528.507,1486.08 528.507,1486.45 570.116,1486.45 570.116,1486.08 528.507,1486.08 \"/>\n",
       "<path clip-path=\"url(#clip302)\" d=\"M570.116 1484.8 L570.116 1486.45 L611.724 1486.45 L611.724 1484.8 L570.116 1484.8 L570.116 1484.8  Z\" fill=\"#8be9fd\" fill-rule=\"evenodd\" fill-opacity=\"1\"/>\n",
       "<polyline clip-path=\"url(#clip302)\" style=\"stroke:#f8f8f2; stroke-linecap:round; stroke-linejoin:round; stroke-width:4; stroke-opacity:1; fill:none\" points=\"570.116,1484.8 570.116,1486.45 611.724,1486.45 611.724,1484.8 570.116,1484.8 \"/>\n",
       "<path clip-path=\"url(#clip302)\" d=\"M611.724 1484.07 L611.724 1486.45 L653.333 1486.45 L653.333 1484.07 L611.724 1484.07 L611.724 1484.07  Z\" fill=\"#8be9fd\" fill-rule=\"evenodd\" fill-opacity=\"1\"/>\n",
       "<polyline clip-path=\"url(#clip302)\" style=\"stroke:#f8f8f2; stroke-linecap:round; stroke-linejoin:round; stroke-width:4; stroke-opacity:1; fill:none\" points=\"611.724,1484.07 611.724,1486.45 653.333,1486.45 653.333,1484.07 611.724,1484.07 \"/>\n",
       "<path clip-path=\"url(#clip302)\" d=\"M653.333 1479.12 L653.333 1486.45 L694.942 1486.45 L694.942 1479.12 L653.333 1479.12 L653.333 1479.12  Z\" fill=\"#8be9fd\" fill-rule=\"evenodd\" fill-opacity=\"1\"/>\n",
       "<polyline clip-path=\"url(#clip302)\" style=\"stroke:#f8f8f2; stroke-linecap:round; stroke-linejoin:round; stroke-width:4; stroke-opacity:1; fill:none\" points=\"653.333,1479.12 653.333,1486.45 694.942,1486.45 694.942,1479.12 653.333,1479.12 \"/>\n",
       "<path clip-path=\"url(#clip302)\" d=\"M694.942 1474.17 L694.942 1486.45 L736.551 1486.45 L736.551 1474.17 L694.942 1474.17 L694.942 1474.17  Z\" fill=\"#8be9fd\" fill-rule=\"evenodd\" fill-opacity=\"1\"/>\n",
       "<polyline clip-path=\"url(#clip302)\" style=\"stroke:#f8f8f2; stroke-linecap:round; stroke-linejoin:round; stroke-width:4; stroke-opacity:1; fill:none\" points=\"694.942,1474.17 694.942,1486.45 736.551,1486.45 736.551,1474.17 694.942,1474.17 \"/>\n",
       "<path clip-path=\"url(#clip302)\" d=\"M736.551 1466.48 L736.551 1486.45 L778.16 1486.45 L778.16 1466.48 L736.551 1466.48 L736.551 1466.48  Z\" fill=\"#8be9fd\" fill-rule=\"evenodd\" fill-opacity=\"1\"/>\n",
       "<polyline clip-path=\"url(#clip302)\" style=\"stroke:#f8f8f2; stroke-linecap:round; stroke-linejoin:round; stroke-width:4; stroke-opacity:1; fill:none\" points=\"736.551,1466.48 736.551,1486.45 778.16,1486.45 778.16,1466.48 736.551,1466.48 \"/>\n",
       "<path clip-path=\"url(#clip302)\" d=\"M778.16 1451.27 L778.16 1486.45 L819.769 1486.45 L819.769 1451.27 L778.16 1451.27 L778.16 1451.27  Z\" fill=\"#8be9fd\" fill-rule=\"evenodd\" fill-opacity=\"1\"/>\n",
       "<polyline clip-path=\"url(#clip302)\" style=\"stroke:#f8f8f2; stroke-linecap:round; stroke-linejoin:round; stroke-width:4; stroke-opacity:1; fill:none\" points=\"778.16,1451.27 778.16,1486.45 819.769,1486.45 819.769,1451.27 778.16,1451.27 \"/>\n",
       "<path clip-path=\"url(#clip302)\" d=\"M819.769 1423.24 L819.769 1486.45 L861.378 1486.45 L861.378 1423.24 L819.769 1423.24 L819.769 1423.24  Z\" fill=\"#8be9fd\" fill-rule=\"evenodd\" fill-opacity=\"1\"/>\n",
       "<polyline clip-path=\"url(#clip302)\" style=\"stroke:#f8f8f2; stroke-linecap:round; stroke-linejoin:round; stroke-width:4; stroke-opacity:1; fill:none\" points=\"819.769,1423.24 819.769,1486.45 861.378,1486.45 861.378,1423.24 819.769,1423.24 \"/>\n",
       "<path clip-path=\"url(#clip302)\" d=\"M861.378 1387.15 L861.378 1486.45 L902.987 1486.45 L902.987 1387.15 L861.378 1387.15 L861.378 1387.15  Z\" fill=\"#8be9fd\" fill-rule=\"evenodd\" fill-opacity=\"1\"/>\n",
       "<polyline clip-path=\"url(#clip302)\" style=\"stroke:#f8f8f2; stroke-linecap:round; stroke-linejoin:round; stroke-width:4; stroke-opacity:1; fill:none\" points=\"861.378,1387.15 861.378,1486.45 902.987,1486.45 902.987,1387.15 861.378,1387.15 \"/>\n",
       "<path clip-path=\"url(#clip302)\" d=\"M902.987 1321.2 L902.987 1486.45 L944.595 1486.45 L944.595 1321.2 L902.987 1321.2 L902.987 1321.2  Z\" fill=\"#8be9fd\" fill-rule=\"evenodd\" fill-opacity=\"1\"/>\n",
       "<polyline clip-path=\"url(#clip302)\" style=\"stroke:#f8f8f2; stroke-linecap:round; stroke-linejoin:round; stroke-width:4; stroke-opacity:1; fill:none\" points=\"902.987,1321.2 902.987,1486.45 944.595,1486.45 944.595,1321.2 902.987,1321.2 \"/>\n",
       "<path clip-path=\"url(#clip302)\" d=\"M944.595 1246.28 L944.595 1486.45 L986.204 1486.45 L986.204 1246.28 L944.595 1246.28 L944.595 1246.28  Z\" fill=\"#8be9fd\" fill-rule=\"evenodd\" fill-opacity=\"1\"/>\n",
       "<polyline clip-path=\"url(#clip302)\" style=\"stroke:#f8f8f2; stroke-linecap:round; stroke-linejoin:round; stroke-width:4; stroke-opacity:1; fill:none\" points=\"944.595,1246.28 944.595,1486.45 986.204,1486.45 986.204,1246.28 944.595,1246.28 \"/>\n",
       "<path clip-path=\"url(#clip302)\" d=\"M986.204 1145.88 L986.204 1486.45 L1027.81 1486.45 L1027.81 1145.88 L986.204 1145.88 L986.204 1145.88  Z\" fill=\"#8be9fd\" fill-rule=\"evenodd\" fill-opacity=\"1\"/>\n",
       "<polyline clip-path=\"url(#clip302)\" style=\"stroke:#f8f8f2; stroke-linecap:round; stroke-linejoin:round; stroke-width:4; stroke-opacity:1; fill:none\" points=\"986.204,1145.88 986.204,1486.45 1027.81,1486.45 1027.81,1145.88 986.204,1145.88 \"/>\n",
       "<path clip-path=\"url(#clip302)\" d=\"M1027.81 992.363 L1027.81 1486.45 L1069.42 1486.45 L1069.42 992.363 L1027.81 992.363 L1027.81 992.363  Z\" fill=\"#8be9fd\" fill-rule=\"evenodd\" fill-opacity=\"1\"/>\n",
       "<polyline clip-path=\"url(#clip302)\" style=\"stroke:#f8f8f2; stroke-linecap:round; stroke-linejoin:round; stroke-width:4; stroke-opacity:1; fill:none\" points=\"1027.81,992.363 1027.81,1486.45 1069.42,1486.45 1069.42,992.363 1027.81,992.363 \"/>\n",
       "<path clip-path=\"url(#clip302)\" d=\"M1069.42 849.102 L1069.42 1486.45 L1111.03 1486.45 L1111.03 849.102 L1069.42 849.102 L1069.42 849.102  Z\" fill=\"#8be9fd\" fill-rule=\"evenodd\" fill-opacity=\"1\"/>\n",
       "<polyline clip-path=\"url(#clip302)\" style=\"stroke:#f8f8f2; stroke-linecap:round; stroke-linejoin:round; stroke-width:4; stroke-opacity:1; fill:none\" points=\"1069.42,849.102 1069.42,1486.45 1111.03,1486.45 1111.03,849.102 1069.42,849.102 \"/>\n",
       "<path clip-path=\"url(#clip302)\" d=\"M1111.03 692.468 L1111.03 1486.45 L1152.64 1486.45 L1152.64 692.468 L1111.03 692.468 L1111.03 692.468  Z\" fill=\"#8be9fd\" fill-rule=\"evenodd\" fill-opacity=\"1\"/>\n",
       "<polyline clip-path=\"url(#clip302)\" style=\"stroke:#f8f8f2; stroke-linecap:round; stroke-linejoin:round; stroke-width:4; stroke-opacity:1; fill:none\" points=\"1111.03,692.468 1111.03,1486.45 1152.64,1486.45 1152.64,692.468 1111.03,692.468 \"/>\n",
       "<path clip-path=\"url(#clip302)\" d=\"M1152.64 497.178 L1152.64 1486.45 L1194.25 1486.45 L1194.25 497.178 L1152.64 497.178 L1152.64 497.178  Z\" fill=\"#8be9fd\" fill-rule=\"evenodd\" fill-opacity=\"1\"/>\n",
       "<polyline clip-path=\"url(#clip302)\" style=\"stroke:#f8f8f2; stroke-linecap:round; stroke-linejoin:round; stroke-width:4; stroke-opacity:1; fill:none\" points=\"1152.64,497.178 1152.64,1486.45 1194.25,1486.45 1194.25,497.178 1152.64,497.178 \"/>\n",
       "<path clip-path=\"url(#clip302)\" d=\"M1194.25 361.612 L1194.25 1486.45 L1235.86 1486.45 L1235.86 361.612 L1194.25 361.612 L1194.25 361.612  Z\" fill=\"#8be9fd\" fill-rule=\"evenodd\" fill-opacity=\"1\"/>\n",
       "<polyline clip-path=\"url(#clip302)\" style=\"stroke:#f8f8f2; stroke-linecap:round; stroke-linejoin:round; stroke-width:4; stroke-opacity:1; fill:none\" points=\"1194.25,361.612 1194.25,1486.45 1235.86,1486.45 1235.86,361.612 1194.25,361.612 \"/>\n",
       "<path clip-path=\"url(#clip302)\" d=\"M1235.86 179.33 L1235.86 1486.45 L1277.47 1486.45 L1277.47 179.33 L1235.86 179.33 L1235.86 179.33  Z\" fill=\"#8be9fd\" fill-rule=\"evenodd\" fill-opacity=\"1\"/>\n",
       "<polyline clip-path=\"url(#clip302)\" style=\"stroke:#f8f8f2; stroke-linecap:round; stroke-linejoin:round; stroke-width:4; stroke-opacity:1; fill:none\" points=\"1235.86,179.33 1235.86,1486.45 1277.47,1486.45 1277.47,179.33 1235.86,179.33 \"/>\n",
       "<path clip-path=\"url(#clip302)\" d=\"M1277.47 90.8452 L1277.47 1486.45 L1319.08 1486.45 L1319.08 90.8452 L1277.47 90.8452 L1277.47 90.8452  Z\" fill=\"#8be9fd\" fill-rule=\"evenodd\" fill-opacity=\"1\"/>\n",
       "<polyline clip-path=\"url(#clip302)\" style=\"stroke:#f8f8f2; stroke-linecap:round; stroke-linejoin:round; stroke-width:4; stroke-opacity:1; fill:none\" points=\"1277.47,90.8452 1277.47,1486.45 1319.08,1486.45 1319.08,90.8452 1277.47,90.8452 \"/>\n",
       "<path clip-path=\"url(#clip302)\" d=\"M1319.08 47.2441 L1319.08 1486.45 L1360.68 1486.45 L1360.68 47.2441 L1319.08 47.2441 L1319.08 47.2441  Z\" fill=\"#8be9fd\" fill-rule=\"evenodd\" fill-opacity=\"1\"/>\n",
       "<polyline clip-path=\"url(#clip302)\" style=\"stroke:#f8f8f2; stroke-linecap:round; stroke-linejoin:round; stroke-width:4; stroke-opacity:1; fill:none\" points=\"1319.08,47.2441 1319.08,1486.45 1360.68,1486.45 1360.68,47.2441 1319.08,47.2441 \"/>\n",
       "<path clip-path=\"url(#clip302)\" d=\"M1360.68 53.1064 L1360.68 1486.45 L1402.29 1486.45 L1402.29 53.1064 L1360.68 53.1064 L1360.68 53.1064  Z\" fill=\"#8be9fd\" fill-rule=\"evenodd\" fill-opacity=\"1\"/>\n",
       "<polyline clip-path=\"url(#clip302)\" style=\"stroke:#f8f8f2; stroke-linecap:round; stroke-linejoin:round; stroke-width:4; stroke-opacity:1; fill:none\" points=\"1360.68,53.1064 1360.68,1486.45 1402.29,1486.45 1402.29,53.1064 1360.68,53.1064 \"/>\n",
       "<path clip-path=\"url(#clip302)\" d=\"M1402.29 90.4788 L1402.29 1486.45 L1443.9 1486.45 L1443.9 90.4788 L1402.29 90.4788 L1402.29 90.4788  Z\" fill=\"#8be9fd\" fill-rule=\"evenodd\" fill-opacity=\"1\"/>\n",
       "<polyline clip-path=\"url(#clip302)\" style=\"stroke:#f8f8f2; stroke-linecap:round; stroke-linejoin:round; stroke-width:4; stroke-opacity:1; fill:none\" points=\"1402.29,90.4788 1402.29,1486.45 1443.9,1486.45 1443.9,90.4788 1402.29,90.4788 \"/>\n",
       "<path clip-path=\"url(#clip302)\" d=\"M1443.9 207.542 L1443.9 1486.45 L1485.51 1486.45 L1485.51 207.542 L1443.9 207.542 L1443.9 207.542  Z\" fill=\"#8be9fd\" fill-rule=\"evenodd\" fill-opacity=\"1\"/>\n",
       "<polyline clip-path=\"url(#clip302)\" style=\"stroke:#f8f8f2; stroke-linecap:round; stroke-linejoin:round; stroke-width:4; stroke-opacity:1; fill:none\" points=\"1443.9,207.542 1443.9,1486.45 1485.51,1486.45 1485.51,207.542 1443.9,207.542 \"/>\n",
       "<path clip-path=\"url(#clip302)\" d=\"M1485.51 347.506 L1485.51 1486.45 L1527.12 1486.45 L1527.12 347.506 L1485.51 347.506 L1485.51 347.506  Z\" fill=\"#8be9fd\" fill-rule=\"evenodd\" fill-opacity=\"1\"/>\n",
       "<polyline clip-path=\"url(#clip302)\" style=\"stroke:#f8f8f2; stroke-linecap:round; stroke-linejoin:round; stroke-width:4; stroke-opacity:1; fill:none\" points=\"1485.51,347.506 1485.51,1486.45 1527.12,1486.45 1527.12,347.506 1485.51,347.506 \"/>\n",
       "<path clip-path=\"url(#clip302)\" d=\"M1527.12 491.866 L1527.12 1486.45 L1568.73 1486.45 L1568.73 491.866 L1527.12 491.866 L1527.12 491.866  Z\" fill=\"#8be9fd\" fill-rule=\"evenodd\" fill-opacity=\"1\"/>\n",
       "<polyline clip-path=\"url(#clip302)\" style=\"stroke:#f8f8f2; stroke-linecap:round; stroke-linejoin:round; stroke-width:4; stroke-opacity:1; fill:none\" points=\"1527.12,491.866 1527.12,1486.45 1568.73,1486.45 1568.73,491.866 1527.12,491.866 \"/>\n",
       "<path clip-path=\"url(#clip302)\" d=\"M1568.73 686.239 L1568.73 1486.45 L1610.34 1486.45 L1610.34 686.239 L1568.73 686.239 L1568.73 686.239  Z\" fill=\"#8be9fd\" fill-rule=\"evenodd\" fill-opacity=\"1\"/>\n",
       "<polyline clip-path=\"url(#clip302)\" style=\"stroke:#f8f8f2; stroke-linecap:round; stroke-linejoin:round; stroke-width:4; stroke-opacity:1; fill:none\" points=\"1568.73,686.239 1568.73,1486.45 1610.34,1486.45 1610.34,686.239 1568.73,686.239 \"/>\n",
       "<path clip-path=\"url(#clip302)\" d=\"M1610.34 855.514 L1610.34 1486.45 L1651.95 1486.45 L1651.95 855.514 L1610.34 855.514 L1610.34 855.514  Z\" fill=\"#8be9fd\" fill-rule=\"evenodd\" fill-opacity=\"1\"/>\n",
       "<polyline clip-path=\"url(#clip302)\" style=\"stroke:#f8f8f2; stroke-linecap:round; stroke-linejoin:round; stroke-width:4; stroke-opacity:1; fill:none\" points=\"1610.34,855.514 1610.34,1486.45 1651.95,1486.45 1651.95,855.514 1610.34,855.514 \"/>\n",
       "<path clip-path=\"url(#clip302)\" d=\"M1651.95 1014.53 L1651.95 1486.45 L1693.55 1486.45 L1693.55 1014.53 L1651.95 1014.53 L1651.95 1014.53  Z\" fill=\"#8be9fd\" fill-rule=\"evenodd\" fill-opacity=\"1\"/>\n",
       "<polyline clip-path=\"url(#clip302)\" style=\"stroke:#f8f8f2; stroke-linecap:round; stroke-linejoin:round; stroke-width:4; stroke-opacity:1; fill:none\" points=\"1651.95,1014.53 1651.95,1486.45 1693.55,1486.45 1693.55,1014.53 1651.95,1014.53 \"/>\n",
       "<path clip-path=\"url(#clip302)\" d=\"M1693.55 1137.46 L1693.55 1486.45 L1735.16 1486.45 L1735.16 1137.46 L1693.55 1137.46 L1693.55 1137.46  Z\" fill=\"#8be9fd\" fill-rule=\"evenodd\" fill-opacity=\"1\"/>\n",
       "<polyline clip-path=\"url(#clip302)\" style=\"stroke:#f8f8f2; stroke-linecap:round; stroke-linejoin:round; stroke-width:4; stroke-opacity:1; fill:none\" points=\"1693.55,1137.46 1693.55,1486.45 1735.16,1486.45 1735.16,1137.46 1693.55,1137.46 \"/>\n",
       "<path clip-path=\"url(#clip302)\" d=\"M1735.16 1258.37 L1735.16 1486.45 L1776.77 1486.45 L1776.77 1258.37 L1735.16 1258.37 L1735.16 1258.37  Z\" fill=\"#8be9fd\" fill-rule=\"evenodd\" fill-opacity=\"1\"/>\n",
       "<polyline clip-path=\"url(#clip302)\" style=\"stroke:#f8f8f2; stroke-linecap:round; stroke-linejoin:round; stroke-width:4; stroke-opacity:1; fill:none\" points=\"1735.16,1258.37 1735.16,1486.45 1776.77,1486.45 1776.77,1258.37 1735.16,1258.37 \"/>\n",
       "<path clip-path=\"url(#clip302)\" d=\"M1776.77 1317.36 L1776.77 1486.45 L1818.38 1486.45 L1818.38 1317.36 L1776.77 1317.36 L1776.77 1317.36  Z\" fill=\"#8be9fd\" fill-rule=\"evenodd\" fill-opacity=\"1\"/>\n",
       "<polyline clip-path=\"url(#clip302)\" style=\"stroke:#f8f8f2; stroke-linecap:round; stroke-linejoin:round; stroke-width:4; stroke-opacity:1; fill:none\" points=\"1776.77,1317.36 1776.77,1486.45 1818.38,1486.45 1818.38,1317.36 1776.77,1317.36 \"/>\n",
       "<path clip-path=\"url(#clip302)\" d=\"M1818.38 1377.63 L1818.38 1486.45 L1859.99 1486.45 L1859.99 1377.63 L1818.38 1377.63 L1818.38 1377.63  Z\" fill=\"#8be9fd\" fill-rule=\"evenodd\" fill-opacity=\"1\"/>\n",
       "<polyline clip-path=\"url(#clip302)\" style=\"stroke:#f8f8f2; stroke-linecap:round; stroke-linejoin:round; stroke-width:4; stroke-opacity:1; fill:none\" points=\"1818.38,1377.63 1818.38,1486.45 1859.99,1486.45 1859.99,1377.63 1818.38,1377.63 \"/>\n",
       "<path clip-path=\"url(#clip302)\" d=\"M1859.99 1421.23 L1859.99 1486.45 L1901.6 1486.45 L1901.6 1421.23 L1859.99 1421.23 L1859.99 1421.23  Z\" fill=\"#8be9fd\" fill-rule=\"evenodd\" fill-opacity=\"1\"/>\n",
       "<polyline clip-path=\"url(#clip302)\" style=\"stroke:#f8f8f2; stroke-linecap:round; stroke-linejoin:round; stroke-width:4; stroke-opacity:1; fill:none\" points=\"1859.99,1421.23 1859.99,1486.45 1901.6,1486.45 1901.6,1421.23 1859.99,1421.23 \"/>\n",
       "<path clip-path=\"url(#clip302)\" d=\"M1901.6 1450.72 L1901.6 1486.45 L1943.21 1486.45 L1943.21 1450.72 L1901.6 1450.72 L1901.6 1450.72  Z\" fill=\"#8be9fd\" fill-rule=\"evenodd\" fill-opacity=\"1\"/>\n",
       "<polyline clip-path=\"url(#clip302)\" style=\"stroke:#f8f8f2; stroke-linecap:round; stroke-linejoin:round; stroke-width:4; stroke-opacity:1; fill:none\" points=\"1901.6,1450.72 1901.6,1486.45 1943.21,1486.45 1943.21,1450.72 1901.6,1450.72 \"/>\n",
       "<path clip-path=\"url(#clip302)\" d=\"M1943.21 1464.1 L1943.21 1486.45 L1984.82 1486.45 L1984.82 1464.1 L1943.21 1464.1 L1943.21 1464.1  Z\" fill=\"#8be9fd\" fill-rule=\"evenodd\" fill-opacity=\"1\"/>\n",
       "<polyline clip-path=\"url(#clip302)\" style=\"stroke:#f8f8f2; stroke-linecap:round; stroke-linejoin:round; stroke-width:4; stroke-opacity:1; fill:none\" points=\"1943.21,1464.1 1943.21,1486.45 1984.82,1486.45 1984.82,1464.1 1943.21,1464.1 \"/>\n",
       "<path clip-path=\"url(#clip302)\" d=\"M1984.82 1471.61 L1984.82 1486.45 L2026.43 1486.45 L2026.43 1471.61 L1984.82 1471.61 L1984.82 1471.61  Z\" fill=\"#8be9fd\" fill-rule=\"evenodd\" fill-opacity=\"1\"/>\n",
       "<polyline clip-path=\"url(#clip302)\" style=\"stroke:#f8f8f2; stroke-linecap:round; stroke-linejoin:round; stroke-width:4; stroke-opacity:1; fill:none\" points=\"1984.82,1471.61 1984.82,1486.45 2026.43,1486.45 2026.43,1471.61 1984.82,1471.61 \"/>\n",
       "<path clip-path=\"url(#clip302)\" d=\"M2026.43 1480.4 L2026.43 1486.45 L2068.03 1486.45 L2068.03 1480.4 L2026.43 1480.4 L2026.43 1480.4  Z\" fill=\"#8be9fd\" fill-rule=\"evenodd\" fill-opacity=\"1\"/>\n",
       "<polyline clip-path=\"url(#clip302)\" style=\"stroke:#f8f8f2; stroke-linecap:round; stroke-linejoin:round; stroke-width:4; stroke-opacity:1; fill:none\" points=\"2026.43,1480.4 2026.43,1486.45 2068.03,1486.45 2068.03,1480.4 2026.43,1480.4 \"/>\n",
       "<path clip-path=\"url(#clip302)\" d=\"M2068.03 1483.33 L2068.03 1486.45 L2109.64 1486.45 L2109.64 1483.33 L2068.03 1483.33 L2068.03 1483.33  Z\" fill=\"#8be9fd\" fill-rule=\"evenodd\" fill-opacity=\"1\"/>\n",
       "<polyline clip-path=\"url(#clip302)\" style=\"stroke:#f8f8f2; stroke-linecap:round; stroke-linejoin:round; stroke-width:4; stroke-opacity:1; fill:none\" points=\"2068.03,1483.33 2068.03,1486.45 2109.64,1486.45 2109.64,1483.33 2068.03,1483.33 \"/>\n",
       "<path clip-path=\"url(#clip302)\" d=\"M2109.64 1484.62 L2109.64 1486.45 L2151.25 1486.45 L2151.25 1484.62 L2109.64 1484.62 L2109.64 1484.62  Z\" fill=\"#8be9fd\" fill-rule=\"evenodd\" fill-opacity=\"1\"/>\n",
       "<polyline clip-path=\"url(#clip302)\" style=\"stroke:#f8f8f2; stroke-linecap:round; stroke-linejoin:round; stroke-width:4; stroke-opacity:1; fill:none\" points=\"2109.64,1484.62 2109.64,1486.45 2151.25,1486.45 2151.25,1484.62 2109.64,1484.62 \"/>\n",
       "<path clip-path=\"url(#clip302)\" d=\"M2151.25 1485.53 L2151.25 1486.45 L2192.86 1486.45 L2192.86 1485.53 L2151.25 1485.53 L2151.25 1485.53  Z\" fill=\"#8be9fd\" fill-rule=\"evenodd\" fill-opacity=\"1\"/>\n",
       "<polyline clip-path=\"url(#clip302)\" style=\"stroke:#f8f8f2; stroke-linecap:round; stroke-linejoin:round; stroke-width:4; stroke-opacity:1; fill:none\" points=\"2151.25,1485.53 2151.25,1486.45 2192.86,1486.45 2192.86,1485.53 2151.25,1485.53 \"/>\n",
       "<path clip-path=\"url(#clip302)\" d=\"M2192.86 1486.26 L2192.86 1486.45 L2234.47 1486.45 L2234.47 1486.26 L2192.86 1486.26 L2192.86 1486.26  Z\" fill=\"#8be9fd\" fill-rule=\"evenodd\" fill-opacity=\"1\"/>\n",
       "<polyline clip-path=\"url(#clip302)\" style=\"stroke:#f8f8f2; stroke-linecap:round; stroke-linejoin:round; stroke-width:4; stroke-opacity:1; fill:none\" points=\"2192.86,1486.26 2192.86,1486.45 2234.47,1486.45 2234.47,1486.26 2192.86,1486.26 \"/>\n",
       "<circle clip-path=\"url(#clip302)\" style=\"fill:#8be9fd; stroke:none; fill-opacity:0\" cx=\"341.267\" cy=\"1486.26\" r=\"2\"/>\n",
       "<circle clip-path=\"url(#clip302)\" style=\"fill:#8be9fd; stroke:none; fill-opacity:0\" cx=\"382.876\" cy=\"1486.45\" r=\"2\"/>\n",
       "<circle clip-path=\"url(#clip302)\" style=\"fill:#8be9fd; stroke:none; fill-opacity:0\" cx=\"424.485\" cy=\"1486.45\" r=\"2\"/>\n",
       "<circle clip-path=\"url(#clip302)\" style=\"fill:#8be9fd; stroke:none; fill-opacity:0\" cx=\"466.093\" cy=\"1486.26\" r=\"2\"/>\n",
       "<circle clip-path=\"url(#clip302)\" style=\"fill:#8be9fd; stroke:none; fill-opacity:0\" cx=\"507.702\" cy=\"1486.08\" r=\"2\"/>\n",
       "<circle clip-path=\"url(#clip302)\" style=\"fill:#8be9fd; stroke:none; fill-opacity:0\" cx=\"549.311\" cy=\"1486.08\" r=\"2\"/>\n",
       "<circle clip-path=\"url(#clip302)\" style=\"fill:#8be9fd; stroke:none; fill-opacity:0\" cx=\"590.92\" cy=\"1484.8\" r=\"2\"/>\n",
       "<circle clip-path=\"url(#clip302)\" style=\"fill:#8be9fd; stroke:none; fill-opacity:0\" cx=\"632.529\" cy=\"1484.07\" r=\"2\"/>\n",
       "<circle clip-path=\"url(#clip302)\" style=\"fill:#8be9fd; stroke:none; fill-opacity:0\" cx=\"674.138\" cy=\"1479.12\" r=\"2\"/>\n",
       "<circle clip-path=\"url(#clip302)\" style=\"fill:#8be9fd; stroke:none; fill-opacity:0\" cx=\"715.747\" cy=\"1474.17\" r=\"2\"/>\n",
       "<circle clip-path=\"url(#clip302)\" style=\"fill:#8be9fd; stroke:none; fill-opacity:0\" cx=\"757.355\" cy=\"1466.48\" r=\"2\"/>\n",
       "<circle clip-path=\"url(#clip302)\" style=\"fill:#8be9fd; stroke:none; fill-opacity:0\" cx=\"798.964\" cy=\"1451.27\" r=\"2\"/>\n",
       "<circle clip-path=\"url(#clip302)\" style=\"fill:#8be9fd; stroke:none; fill-opacity:0\" cx=\"840.573\" cy=\"1423.24\" r=\"2\"/>\n",
       "<circle clip-path=\"url(#clip302)\" style=\"fill:#8be9fd; stroke:none; fill-opacity:0\" cx=\"882.182\" cy=\"1387.15\" r=\"2\"/>\n",
       "<circle clip-path=\"url(#clip302)\" style=\"fill:#8be9fd; stroke:none; fill-opacity:0\" cx=\"923.791\" cy=\"1321.2\" r=\"2\"/>\n",
       "<circle clip-path=\"url(#clip302)\" style=\"fill:#8be9fd; stroke:none; fill-opacity:0\" cx=\"965.4\" cy=\"1246.28\" r=\"2\"/>\n",
       "<circle clip-path=\"url(#clip302)\" style=\"fill:#8be9fd; stroke:none; fill-opacity:0\" cx=\"1007.01\" cy=\"1145.88\" r=\"2\"/>\n",
       "<circle clip-path=\"url(#clip302)\" style=\"fill:#8be9fd; stroke:none; fill-opacity:0\" cx=\"1048.62\" cy=\"992.363\" r=\"2\"/>\n",
       "<circle clip-path=\"url(#clip302)\" style=\"fill:#8be9fd; stroke:none; fill-opacity:0\" cx=\"1090.23\" cy=\"849.102\" r=\"2\"/>\n",
       "<circle clip-path=\"url(#clip302)\" style=\"fill:#8be9fd; stroke:none; fill-opacity:0\" cx=\"1131.84\" cy=\"692.468\" r=\"2\"/>\n",
       "<circle clip-path=\"url(#clip302)\" style=\"fill:#8be9fd; stroke:none; fill-opacity:0\" cx=\"1173.44\" cy=\"497.178\" r=\"2\"/>\n",
       "<circle clip-path=\"url(#clip302)\" style=\"fill:#8be9fd; stroke:none; fill-opacity:0\" cx=\"1215.05\" cy=\"361.612\" r=\"2\"/>\n",
       "<circle clip-path=\"url(#clip302)\" style=\"fill:#8be9fd; stroke:none; fill-opacity:0\" cx=\"1256.66\" cy=\"179.33\" r=\"2\"/>\n",
       "<circle clip-path=\"url(#clip302)\" style=\"fill:#8be9fd; stroke:none; fill-opacity:0\" cx=\"1298.27\" cy=\"90.8452\" r=\"2\"/>\n",
       "<circle clip-path=\"url(#clip302)\" style=\"fill:#8be9fd; stroke:none; fill-opacity:0\" cx=\"1339.88\" cy=\"47.2441\" r=\"2\"/>\n",
       "<circle clip-path=\"url(#clip302)\" style=\"fill:#8be9fd; stroke:none; fill-opacity:0\" cx=\"1381.49\" cy=\"53.1064\" r=\"2\"/>\n",
       "<circle clip-path=\"url(#clip302)\" style=\"fill:#8be9fd; stroke:none; fill-opacity:0\" cx=\"1423.1\" cy=\"90.4788\" r=\"2\"/>\n",
       "<circle clip-path=\"url(#clip302)\" style=\"fill:#8be9fd; stroke:none; fill-opacity:0\" cx=\"1464.71\" cy=\"207.542\" r=\"2\"/>\n",
       "<circle clip-path=\"url(#clip302)\" style=\"fill:#8be9fd; stroke:none; fill-opacity:0\" cx=\"1506.32\" cy=\"347.506\" r=\"2\"/>\n",
       "<circle clip-path=\"url(#clip302)\" style=\"fill:#8be9fd; stroke:none; fill-opacity:0\" cx=\"1547.92\" cy=\"491.866\" r=\"2\"/>\n",
       "<circle clip-path=\"url(#clip302)\" style=\"fill:#8be9fd; stroke:none; fill-opacity:0\" cx=\"1589.53\" cy=\"686.239\" r=\"2\"/>\n",
       "<circle clip-path=\"url(#clip302)\" style=\"fill:#8be9fd; stroke:none; fill-opacity:0\" cx=\"1631.14\" cy=\"855.514\" r=\"2\"/>\n",
       "<circle clip-path=\"url(#clip302)\" style=\"fill:#8be9fd; stroke:none; fill-opacity:0\" cx=\"1672.75\" cy=\"1014.53\" r=\"2\"/>\n",
       "<circle clip-path=\"url(#clip302)\" style=\"fill:#8be9fd; stroke:none; fill-opacity:0\" cx=\"1714.36\" cy=\"1137.46\" r=\"2\"/>\n",
       "<circle clip-path=\"url(#clip302)\" style=\"fill:#8be9fd; stroke:none; fill-opacity:0\" cx=\"1755.97\" cy=\"1258.37\" r=\"2\"/>\n",
       "<circle clip-path=\"url(#clip302)\" style=\"fill:#8be9fd; stroke:none; fill-opacity:0\" cx=\"1797.58\" cy=\"1317.36\" r=\"2\"/>\n",
       "<circle clip-path=\"url(#clip302)\" style=\"fill:#8be9fd; stroke:none; fill-opacity:0\" cx=\"1839.19\" cy=\"1377.63\" r=\"2\"/>\n",
       "<circle clip-path=\"url(#clip302)\" style=\"fill:#8be9fd; stroke:none; fill-opacity:0\" cx=\"1880.79\" cy=\"1421.23\" r=\"2\"/>\n",
       "<circle clip-path=\"url(#clip302)\" style=\"fill:#8be9fd; stroke:none; fill-opacity:0\" cx=\"1922.4\" cy=\"1450.72\" r=\"2\"/>\n",
       "<circle clip-path=\"url(#clip302)\" style=\"fill:#8be9fd; stroke:none; fill-opacity:0\" cx=\"1964.01\" cy=\"1464.1\" r=\"2\"/>\n",
       "<circle clip-path=\"url(#clip302)\" style=\"fill:#8be9fd; stroke:none; fill-opacity:0\" cx=\"2005.62\" cy=\"1471.61\" r=\"2\"/>\n",
       "<circle clip-path=\"url(#clip302)\" style=\"fill:#8be9fd; stroke:none; fill-opacity:0\" cx=\"2047.23\" cy=\"1480.4\" r=\"2\"/>\n",
       "<circle clip-path=\"url(#clip302)\" style=\"fill:#8be9fd; stroke:none; fill-opacity:0\" cx=\"2088.84\" cy=\"1483.33\" r=\"2\"/>\n",
       "<circle clip-path=\"url(#clip302)\" style=\"fill:#8be9fd; stroke:none; fill-opacity:0\" cx=\"2130.45\" cy=\"1484.62\" r=\"2\"/>\n",
       "<circle clip-path=\"url(#clip302)\" style=\"fill:#8be9fd; stroke:none; fill-opacity:0\" cx=\"2172.06\" cy=\"1485.53\" r=\"2\"/>\n",
       "<circle clip-path=\"url(#clip302)\" style=\"fill:#8be9fd; stroke:none; fill-opacity:0\" cx=\"2213.67\" cy=\"1486.26\" r=\"2\"/>\n",
       "</svg>\n"
      ]
     },
     "execution_count": 91,
     "metadata": {},
     "output_type": "execute_result"
    }
   ],
   "source": [
    "x = randn(10^5)\n",
    "histogram(x, bins=64, legend=false)"
   ]
  },
  {
   "cell_type": "code",
   "execution_count": 92,
   "metadata": {},
   "outputs": [
    {
     "data": {
      "text/latex": [
       "\\textbf{Histogram in 2D}\n",
       "\n"
      ],
      "text/markdown": [
       "**Histogram in 2D**\n"
      ],
      "text/plain": [
       "  \u001b[1mHistogram in 2D\u001b[22m"
      ]
     },
     "execution_count": 92,
     "metadata": {},
     "output_type": "execute_result"
    }
   ],
   "source": [
    "md\"**Histogram in 2D**\""
   ]
  },
  {
   "cell_type": "code",
   "execution_count": 93,
   "metadata": {},
   "outputs": [
    {
     "data": {
      "image/png": "[encoded data removed]",
      "image/svg+xml": [
       "<?xml version=\"1.0\" encoding=\"utf-8\"?>\n",
       "<svg xmlns=\"http://www.w3.org/2000/svg\" xmlns:xlink=\"http://www.w3.org/1999/xlink\" width=\"600\" height=\"400\" viewBox=\"0 0 2400 1600\">\n",
       "<defs>\n",
       "  <clipPath id=\"clip340\">\n",
       "    <rect x=\"0\" y=\"0\" width=\"2400\" height=\"1600\"/>\n",
       "  </clipPath>\n",
       "</defs>\n",
       "<path clip-path=\"url(#clip340)\" d=\"M0 1600 L2400 1600 L2400 0 L0 0  Z\" fill=\"#282a36\" fill-rule=\"evenodd\" fill-opacity=\"1\"/>\n",
       "<defs>\n",
       "  <clipPath id=\"clip341\">\n",
       "    <rect x=\"480\" y=\"0\" width=\"1681\" height=\"1600\"/>\n",
       "  </clipPath>\n",
       "</defs>\n",
       "<path clip-path=\"url(#clip340)\" d=\"M149.191 1486.45 L2112.76 1486.45 L2112.76 47.2441 L149.191 47.2441  Z\" fill=\"#30343b\" fill-rule=\"evenodd\" fill-opacity=\"1\"/>\n",
       "<defs>\n",
       "  <clipPath id=\"clip342\">\n",
       "    <rect x=\"149\" y=\"47\" width=\"1965\" height=\"1440\"/>\n",
       "  </clipPath>\n",
       "</defs>\n",
       "<polyline clip-path=\"url(#clip342)\" style=\"stroke:#f8f8f2; stroke-linecap:round; stroke-linejoin:round; stroke-width:2; stroke-opacity:0.1; fill:none\" points=\"192.826,1486.45 192.826,47.2441 \"/>\n",
       "<polyline clip-path=\"url(#clip342)\" style=\"stroke:#f8f8f2; stroke-linecap:round; stroke-linejoin:round; stroke-width:2; stroke-opacity:0.1; fill:none\" points=\"629.173,1486.45 629.173,47.2441 \"/>\n",
       "<polyline clip-path=\"url(#clip342)\" style=\"stroke:#f8f8f2; stroke-linecap:round; stroke-linejoin:round; stroke-width:2; stroke-opacity:0.1; fill:none\" points=\"1065.52,1486.45 1065.52,47.2441 \"/>\n",
       "<polyline clip-path=\"url(#clip342)\" style=\"stroke:#f8f8f2; stroke-linecap:round; stroke-linejoin:round; stroke-width:2; stroke-opacity:0.1; fill:none\" points=\"1501.87,1486.45 1501.87,47.2441 \"/>\n",
       "<polyline clip-path=\"url(#clip342)\" style=\"stroke:#f8f8f2; stroke-linecap:round; stroke-linejoin:round; stroke-width:2; stroke-opacity:0.1; fill:none\" points=\"1938.22,1486.45 1938.22,47.2441 \"/>\n",
       "<polyline clip-path=\"url(#clip342)\" style=\"stroke:#f8f8f2; stroke-linecap:round; stroke-linejoin:round; stroke-width:2; stroke-opacity:0.1; fill:none\" points=\"149.191,1371.31 2112.76,1371.31 \"/>\n",
       "<polyline clip-path=\"url(#clip342)\" style=\"stroke:#f8f8f2; stroke-linecap:round; stroke-linejoin:round; stroke-width:2; stroke-opacity:0.1; fill:none\" points=\"149.191,1083.47 2112.76,1083.47 \"/>\n",
       "<polyline clip-path=\"url(#clip342)\" style=\"stroke:#f8f8f2; stroke-linecap:round; stroke-linejoin:round; stroke-width:2; stroke-opacity:0.1; fill:none\" points=\"149.191,795.63 2112.76,795.63 \"/>\n",
       "<polyline clip-path=\"url(#clip342)\" style=\"stroke:#f8f8f2; stroke-linecap:round; stroke-linejoin:round; stroke-width:2; stroke-opacity:0.1; fill:none\" points=\"149.191,507.789 2112.76,507.789 \"/>\n",
       "<polyline clip-path=\"url(#clip342)\" style=\"stroke:#f8f8f2; stroke-linecap:round; stroke-linejoin:round; stroke-width:2; stroke-opacity:0.1; fill:none\" points=\"149.191,219.949 2112.76,219.949 \"/>\n",
       "<polyline clip-path=\"url(#clip340)\" style=\"stroke:#f8f8f2; stroke-linecap:round; stroke-linejoin:round; stroke-width:4; stroke-opacity:1; fill:none\" points=\"149.191,1486.45 2112.76,1486.45 \"/>\n",
       "<polyline clip-path=\"url(#clip340)\" style=\"stroke:#f8f8f2; stroke-linecap:round; stroke-linejoin:round; stroke-width:4; stroke-opacity:1; fill:none\" points=\"192.826,1486.45 192.826,1467.55 \"/>\n",
       "<polyline clip-path=\"url(#clip340)\" style=\"stroke:#f8f8f2; stroke-linecap:round; stroke-linejoin:round; stroke-width:4; stroke-opacity:1; fill:none\" points=\"629.173,1486.45 629.173,1467.55 \"/>\n",
       "<polyline clip-path=\"url(#clip340)\" style=\"stroke:#f8f8f2; stroke-linecap:round; stroke-linejoin:round; stroke-width:4; stroke-opacity:1; fill:none\" points=\"1065.52,1486.45 1065.52,1467.55 \"/>\n",
       "<polyline clip-path=\"url(#clip340)\" style=\"stroke:#f8f8f2; stroke-linecap:round; stroke-linejoin:round; stroke-width:4; stroke-opacity:1; fill:none\" points=\"1501.87,1486.45 1501.87,1467.55 \"/>\n",
       "<polyline clip-path=\"url(#clip340)\" style=\"stroke:#f8f8f2; stroke-linecap:round; stroke-linejoin:round; stroke-width:4; stroke-opacity:1; fill:none\" points=\"1938.22,1486.45 1938.22,1467.55 \"/>\n",
       "<path clip-path=\"url(#clip340)\" d=\"M161.726 1532.02 L191.402 1532.02 L191.402 1535.95 L161.726 1535.95 L161.726 1532.02 Z\" fill=\"#f8f8f2\" fill-rule=\"nonzero\" fill-opacity=\"1\" /><path clip-path=\"url(#clip340)\" d=\"M214.342 1518.36 L202.536 1536.81 L214.342 1536.81 L214.342 1518.36 M213.115 1514.29 L218.994 1514.29 L218.994 1536.81 L223.925 1536.81 L223.925 1540.7 L218.994 1540.7 L218.994 1548.85 L214.342 1548.85 L214.342 1540.7 L198.74 1540.7 L198.74 1536.19 L213.115 1514.29 Z\" fill=\"#f8f8f2\" fill-rule=\"nonzero\" fill-opacity=\"1\" /><path clip-path=\"url(#clip340)\" d=\"M599.116 1532.02 L628.791 1532.02 L628.791 1535.95 L599.116 1535.95 L599.116 1532.02 Z\" fill=\"#f8f8f2\" fill-rule=\"nonzero\" fill-opacity=\"1\" /><path clip-path=\"url(#clip340)\" d=\"M642.912 1544.91 L659.231 1544.91 L659.231 1548.85 L637.287 1548.85 L637.287 1544.91 Q639.949 1542.16 644.532 1537.53 Q649.139 1532.88 650.319 1531.53 Q652.565 1529.01 653.444 1527.27 Q654.347 1525.51 654.347 1523.82 Q654.347 1521.07 652.402 1519.33 Q650.481 1517.6 647.379 1517.6 Q645.18 1517.6 642.727 1518.36 Q640.296 1519.13 637.518 1520.68 L637.518 1515.95 Q640.342 1514.82 642.796 1514.24 Q645.25 1513.66 647.287 1513.66 Q652.657 1513.66 655.852 1516.35 Q659.046 1519.03 659.046 1523.52 Q659.046 1525.65 658.236 1527.57 Q657.449 1529.47 655.342 1532.07 Q654.764 1532.74 651.662 1535.95 Q648.56 1539.15 642.912 1544.91 Z\" fill=\"#f8f8f2\" fill-rule=\"nonzero\" fill-opacity=\"1\" /><path clip-path=\"url(#clip340)\" d=\"M1065.52 1517.37 Q1061.91 1517.37 1060.08 1520.93 Q1058.28 1524.47 1058.28 1531.6 Q1058.28 1538.71 1060.08 1542.27 Q1061.91 1545.82 1065.52 1545.82 Q1069.16 1545.82 1070.96 1542.27 Q1072.79 1538.71 1072.79 1531.6 Q1072.79 1524.47 1070.96 1520.93 Q1069.16 1517.37 1065.52 1517.37 M1065.52 1513.66 Q1071.33 1513.66 1074.39 1518.27 Q1077.47 1522.85 1077.47 1531.6 Q1077.47 1540.33 1074.39 1544.94 Q1071.33 1549.52 1065.52 1549.52 Q1059.71 1549.52 1056.63 1544.94 Q1053.58 1540.33 1053.58 1531.6 Q1053.58 1522.85 1056.63 1518.27 Q1059.71 1513.66 1065.52 1513.66 Z\" fill=\"#f8f8f2\" fill-rule=\"nonzero\" fill-opacity=\"1\" /><path clip-path=\"url(#clip340)\" d=\"M1496.52 1544.91 L1512.84 1544.91 L1512.84 1548.85 L1490.9 1548.85 L1490.9 1544.91 Q1493.56 1542.16 1498.14 1537.53 Q1502.75 1532.88 1503.93 1531.53 Q1506.17 1529.01 1507.05 1527.27 Q1507.96 1525.51 1507.96 1523.82 Q1507.96 1521.07 1506.01 1519.33 Q1504.09 1517.6 1500.99 1517.6 Q1498.79 1517.6 1496.34 1518.36 Q1493.91 1519.13 1491.13 1520.68 L1491.13 1515.95 Q1493.95 1514.82 1496.41 1514.24 Q1498.86 1513.66 1500.9 1513.66 Q1506.27 1513.66 1509.46 1516.35 Q1512.66 1519.03 1512.66 1523.52 Q1512.66 1525.65 1511.85 1527.57 Q1511.06 1529.47 1508.95 1532.07 Q1508.37 1532.74 1505.27 1535.95 Q1502.17 1539.15 1496.52 1544.91 Z\" fill=\"#f8f8f2\" fill-rule=\"nonzero\" fill-opacity=\"1\" /><path clip-path=\"url(#clip340)\" d=\"M1941.23 1518.36 L1929.42 1536.81 L1941.23 1536.81 L1941.23 1518.36 M1940 1514.29 L1945.88 1514.29 L1945.88 1536.81 L1950.81 1536.81 L1950.81 1540.7 L1945.88 1540.7 L1945.88 1548.85 L1941.23 1548.85 L1941.23 1540.7 L1925.62 1540.7 L1925.62 1536.19 L1940 1514.29 Z\" fill=\"#f8f8f2\" fill-rule=\"nonzero\" fill-opacity=\"1\" /><polyline clip-path=\"url(#clip340)\" style=\"stroke:#f8f8f2; stroke-linecap:round; stroke-linejoin:round; stroke-width:4; stroke-opacity:1; fill:none\" points=\"149.191,1486.45 149.191,47.2441 \"/>\n",
       "<polyline clip-path=\"url(#clip340)\" style=\"stroke:#f8f8f2; stroke-linecap:round; stroke-linejoin:round; stroke-width:4; stroke-opacity:1; fill:none\" points=\"149.191,1371.31 166.03,1371.31 \"/>\n",
       "<polyline clip-path=\"url(#clip340)\" style=\"stroke:#f8f8f2; stroke-linecap:round; stroke-linejoin:round; stroke-width:4; stroke-opacity:1; fill:none\" points=\"149.191,1083.47 166.03,1083.47 \"/>\n",
       "<polyline clip-path=\"url(#clip340)\" style=\"stroke:#f8f8f2; stroke-linecap:round; stroke-linejoin:round; stroke-width:4; stroke-opacity:1; fill:none\" points=\"149.191,795.63 166.03,795.63 \"/>\n",
       "<polyline clip-path=\"url(#clip340)\" style=\"stroke:#f8f8f2; stroke-linecap:round; stroke-linejoin:round; stroke-width:4; stroke-opacity:1; fill:none\" points=\"149.191,507.789 166.03,507.789 \"/>\n",
       "<polyline clip-path=\"url(#clip340)\" style=\"stroke:#f8f8f2; stroke-linecap:round; stroke-linejoin:round; stroke-width:4; stroke-opacity:1; fill:none\" points=\"149.191,219.949 166.03,219.949 \"/>\n",
       "<path clip-path=\"url(#clip340)\" d=\"M50.9921 1371.76 L80.6679 1371.76 L80.6679 1375.7 L50.9921 1375.7 L50.9921 1371.76 Z\" fill=\"#f8f8f2\" fill-rule=\"nonzero\" fill-opacity=\"1\" /><path clip-path=\"url(#clip340)\" d=\"M103.608 1358.11 L91.8021 1376.55 L103.608 1376.55 L103.608 1358.11 M102.381 1354.03 L108.26 1354.03 L108.26 1376.55 L113.191 1376.55 L113.191 1380.44 L108.26 1380.44 L108.26 1388.59 L103.608 1388.59 L103.608 1380.44 L88.0058 1380.44 L88.0058 1375.93 L102.381 1354.03 Z\" fill=\"#f8f8f2\" fill-rule=\"nonzero\" fill-opacity=\"1\" /><path clip-path=\"url(#clip340)\" d=\"M53.0754 1083.92 L82.7512 1083.92 L82.7512 1087.86 L53.0754 1087.86 L53.0754 1083.92 Z\" fill=\"#f8f8f2\" fill-rule=\"nonzero\" fill-opacity=\"1\" /><path clip-path=\"url(#clip340)\" d=\"M96.8715 1096.82 L113.191 1096.82 L113.191 1100.75 L91.2465 1100.75 L91.2465 1096.82 Q93.9086 1094.06 98.4919 1089.43 Q103.098 1084.78 104.279 1083.44 Q106.524 1080.91 107.404 1079.18 Q108.307 1077.42 108.307 1075.73 Q108.307 1072.97 106.362 1071.24 Q104.441 1069.5 101.339 1069.5 Q99.14 1069.5 96.6863 1070.26 Q94.2558 1071.03 91.478 1072.58 L91.478 1067.86 Q94.3021 1066.72 96.7558 1066.14 Q99.2095 1065.57 101.246 1065.57 Q106.617 1065.57 109.811 1068.25 Q113.006 1070.94 113.006 1075.43 Q113.006 1077.56 112.196 1079.48 Q111.408 1081.38 109.302 1083.97 Q108.723 1084.64 105.621 1087.86 Q102.52 1091.05 96.8715 1096.82 Z\" fill=\"#f8f8f2\" fill-rule=\"nonzero\" fill-opacity=\"1\" /><path clip-path=\"url(#clip340)\" d=\"M101.246 781.429 Q97.6354 781.429 95.8067 784.994 Q94.0012 788.535 94.0012 795.665 Q94.0012 802.771 95.8067 806.336 Q97.6354 809.878 101.246 809.878 Q104.881 809.878 106.686 806.336 Q108.515 802.771 108.515 795.665 Q108.515 788.535 106.686 784.994 Q104.881 781.429 101.246 781.429 M101.246 777.725 Q107.057 777.725 110.112 782.332 Q113.191 786.915 113.191 795.665 Q113.191 804.392 110.112 808.998 Q107.057 813.581 101.246 813.581 Q95.4363 813.581 92.3576 808.998 Q89.3021 804.392 89.3021 795.665 Q89.3021 786.915 92.3576 782.332 Q95.4363 777.725 101.246 777.725 Z\" fill=\"#f8f8f2\" fill-rule=\"nonzero\" fill-opacity=\"1\" /><path clip-path=\"url(#clip340)\" d=\"M96.8715 521.134 L113.191 521.134 L113.191 525.069 L91.2465 525.069 L91.2465 521.134 Q93.9086 518.38 98.4919 513.75 Q103.098 509.097 104.279 507.755 Q106.524 505.231 107.404 503.495 Q108.307 501.736 108.307 500.046 Q108.307 497.292 106.362 495.556 Q104.441 493.819 101.339 493.819 Q99.14 493.819 96.6863 494.583 Q94.2558 495.347 91.478 496.898 L91.478 492.176 Q94.3021 491.042 96.7558 490.463 Q99.2095 489.884 101.246 489.884 Q106.617 489.884 109.811 492.569 Q113.006 495.255 113.006 499.745 Q113.006 501.875 112.196 503.796 Q111.408 505.694 109.302 508.287 Q108.723 508.958 105.621 512.176 Q102.52 515.37 96.8715 521.134 Z\" fill=\"#f8f8f2\" fill-rule=\"nonzero\" fill-opacity=\"1\" /><path clip-path=\"url(#clip340)\" d=\"M103.608 206.743 L91.8021 225.192 L103.608 225.192 L103.608 206.743 M102.381 202.669 L108.26 202.669 L108.26 225.192 L113.191 225.192 L113.191 229.08 L108.26 229.08 L108.26 237.229 L103.608 237.229 L103.608 229.08 L88.0058 229.08 L88.0058 224.567 L102.381 202.669 Z\" fill=\"#f8f8f2\" fill-rule=\"nonzero\" fill-opacity=\"1\" /><g clip-path=\"url(#clip342)\">\n",
       "<image width=\"1964\" height=\"1439\" xlink:href=\"data:image/png;base64,\n",
       "iVBORw0KGgoAAAANSUhEUgAAB6wAAAWfCAYAAAAf3Aj/AAAgAElEQVR4nOzbYW4b63mG4W8oy47t\n",
       "Fs2i2B3IXWStHVSLaoEkPudI4vRPAyRAgXDSqLdf6rpW8GDwcWbIW9oWAAAAALxT5+1hrzdc62l/\n",
       "3OoNAADwj3aqBwAAAAAAAADwPgnWAAAAAAAAACQEawAAAAAAAAASgjUAAAAAAAAACcEaAAAAAAAA\n",
       "gIRgDQAAAAAAAEBCsAYAAAAAAAAgIVgDAAAAAAAAkBCsAQAAAAAAAEgI1gAAAAAAAAAkBGsAAAAA\n",
       "AAAAEoI1AAAAAAAAAAnBGgAAAAAAAICEYA0AAAAAAABAQrAGAAAAAAAAICFYAwAAAAAAAJAQrAEA\n",
       "AAAAAABICNYAAAAAAAAAJARrAAAAAAAAABKCNQAAAAAAAAAJwRoAAAAAAACAhGANAAAAAAAAQEKw\n",
       "BgAAAAAAACAhWAMAAAAAAACQEKwBAAAAAAAASAjWAAAAAAAAACQEawAAAAAAAAASgjUAAAAAAAAA\n",
       "AAAAAAAAAAAAAAAAAAAAAAAAAAAAAAAAAAAAAAAAAAAAAAAAAAAAAAAAAAAAAAAAAAAAAAAAAAAA\n",
       "AAAAAAAAAAAAAAAAAAAAAAAAAAAAAAAAAAAAAAAAAAAAAAAAAAAAAAAAAAAAAAAAAAAAAAAAAAAA\n",
       "AAAAAAAAAAAAAAAAAAAAAAAAAAAAAAAAAAAAAAAAAAAAAAAAAAAAAAAAAAAAAAAAAAAAAAAAAAAA\n",
       "AAAAAAAAAAAAAAAAAAAAAAAAAAAAAAAAAAAAAAAAAAAAAAAAAAAAAAAAAAAAAAAAAAAAAAAAAAAA\n",
       "AAAAAAAAAAAAAAAAAAAAAAAAAAAAAAAAAAAAAAAAAAAAAAAAAAAAAAAAAAAAAAAAAAAAAAAAAAAA\n",
       "AAAAAAAAAAAAAAAAAAAAAAAAAAAAAAAAAAAAAAAAAAAAAAAAAAAAAAAAAAAAAAAAAAAAAAAAAAAA\n",
       "AAAAAAAAAAAAAAAAAAAAAAAAAAAAAAAAAAAAAAAAAAAAAAAAAAAAAAAAAAAAAAAAAAAAAAAAAAAA\n",
       "AAAAAAAAAAAAAAAAAAAAAAAAAAAAAAAAAAAAAAAAAAAAAAAAAAAAAAAAAAAAAAAAAAAAAAAAAAAA\n",
       "AAAAAAAAAAAAAAAAAAAAAAAAAAAAAAAAAAAAAAAAAAAAAAAAAAAAAAAAAAAAAAAAAAAAAAAAAAAA\n",
       "AAAAAAAAAAAAAAAAAAAAAAAAAAAAAAAAAAAAAAAAAAAAAAAAAAAAAAAAAAAAAAAAAAAAAAAAAAAA\n",
       "AAAAAAAAAAAAAAAAAAAAAAAAAAAAAAAAAAAAAAAAAAAAAAAAAAAAAAAAAAAAAAAAAAAAAAAAAAAA\n",
       "AAAAAAAAAAAAAAAAAAAAAAAAAAAAAAAAAAAAAAAAAAAAAAC8H1s9AAAAAACgdN4e9nrDEU/7o991\n",
       "AYCbcaoHAAAAAAAAAPA+CdYAAAAAAAAAJARrAAAAAAAAABKCNQAAAAAAAAAJwRoAAAAAAACAhGAN\n",
       "AAAAAAAAQEKwBgAAAAAAACAhWAMAAAAAAACQEKwBAAAAAAAASAjWAAAAAAAAACQEawAAAAAAAAAS\n",
       "gjUAAAAAAAAACcEaAAAAAAAAgIRgDQAAAAAAAEBCsAYAAAAAAAAgIVgDAAAAAAAAkBCsAQAAAAAA\n",
       "AEgI1gAAAAAAAAAkBGsAAAAAAAAAEoI1AAAAAAAAAAnBGgAAAAAAAICEYA0AAAAAAABAQrAGAAAA\n",
       "AAAAICFYAwAAAAAAAJAQrAEAAAAAAABICNYAAAAAAAAAJARrAAAAAAAAABJbPQAAAN7K+fRtrzdc\n",
       "6+ny3bs5AAAAAO+O/7AGAAAAAAAAICFYAwAAAAAAAJAQrAEAAAAAAABICNYAAAAAAAAAJARrAAAA\n",
       "AAAAABKCNQAAAAAAAAAJwRoAAAAAAACAhGANAAAAAAAAQEKwBgAAAAAAACAhWAMAAAAAAACQEKwB\n",
       "AAAAAAAASAjWAAAAAAAAACQEawAAAAAAAAASgjUAAAAAAAAACcEaAAAAAAAAgIRgDQAAAAAAAEBC\n",
       "sAYAAAAAAAAgIVgDAAAAAAAAkBCsAQAAAAAAAEgI1gAAAAAAAAAkBGsAAAAAAAAAEoI1AAAAAAAA\n",
       "AAnBGgAAAAAAAICEYA0AAAAAAABAQrAGAAAAAAAAICFYAwAAAAAAAJAQrAEAAAAAAABICNYAAAAA\n",
       "AAAAJLZ6AAC8V+ftYa83XOtpf/TOwFpr1rldy9l9S84CfzbtLKxtzlF4unyfMxb+wrT7gmcEAAC0\n",
       "/Ic1AAAAAAAAAAnBGgAAAAAAAICEYA0AAAAAAABAQrAGAAAAAAAAICFYAwAAAAAAAJAQrAEAAAAA\n",
       "AABICNYAAAAAAAAAJARrAAAAAAAAABKCNQAAAAAAAAAJwRoAAAAAAACAhGANAAAAAAAAQEKwBgAA\n",
       "AAAAACAhWAMAAAAAAACQEKwBAAAAAAAASAjWAAAAAAAAACQEawAAAAAAAAASgjUAAAAAAAAACcEa\n",
       "AAAAAAAAgIRgDQAAAAAAAEBCsAYAAAAAAAAgIVgDAAAAAAAAkBCsAQAAAAAAAEgI1gAAAAAAAAAk\n",
       "BGsAAAAAAAAAEoI1AAAAAAAAAAnBGgAAAAAAAICEYA0AAAAAAABAQrAGAAAAAAAAILHVAwAA4K2c\n",
       "T9/2esOterp8913ijZy3h1Hn9ml/dBZYazm7b8m15c+cBQAAbpH/sAYAAAAAAAAgIVgDAAAAAAAA\n",
       "kBCsAQAAAAAAAEgI1gAAAAAAAAAkBGsAAAAAAAAAEoI1AAAAAAAAAAnBGgAAAAAAAICEYA0AAAAA\n",
       "AABAQrAGAAAAAAAAICFYAwAAAAAAAJAQrAEAAAAAAABICNYAAAAAAAAAJARrAAAAAAAAABKCNQAA\n",
       "AAAAAAAJwRoAAAAAAACAhGANAAAAAAAAQEKwBgAAAAAAACAhWAMAAAAAAACQEKwBAAAAAAAASAjW\n",
       "AAAAAAAAACQEawAAAAAAAAASgjUAAAAAAAAACcEaAAAAAAAAgIRgDQAAAAAAAEBCsAYAAAAAAAAg\n",
       "IVgDAAAAAAAAkBCsAQAAAAAAAEgI1gAAAAAAAAAktnoAAPDzO28Pe70Bbt7m1Zyh9mGPiEmftWnX\n",
       "dpin/XHQYQAAALhd/sMaAAAAAAAAgIRgDQAAAAAAAEBCsAYAAAAAAAAgIVgDAAAAAAAAkBCsAQAA\n",
       "AAAAAEgI1gAAAAAAAAAkBGsAAAAAAAAAEoI1AAAAAAAAAAnBGgAAAAAAAICEYA0AAAAAAABAQrAG\n",
       "AAAAAAAAICFYAwAAAAAAAJAQrAEAAAAAAABICNYAAAAAAAAAJARrAAAAAAAAABKCNQAAAAAAAAAJ\n",
       "wRoAAAAAAACAhGANAAAAAAAAQEKwBgAAAAAAACAhWAMAAAAAAACQEKwBAAAAAAAASAjWAAAAAAAA\n",
       "ACQEawAAAAAAAAASgjUAAAAAAAAACcEaAAAAAAAAgIRgDQAAAAAAAEBCsAYAAAAAAAAgIVgDAAAA\n",
       "AAAAkNjqAQDwXp23h73ecLO2Wa8426C9//H673PGrrXOp28+Z4wz6Z4w0qDru18u9QR+Fvusx9nT\n",
       "/jjng7a8l7+laWcBAICG/7AGAAAAAAAAICFYAwAAAAAAAJAQrAEAAAAAAABICNYAAAAAAAAAJARr\n",
       "AAAAAAAAABKCNQAAAAAAAAAJwRoAAAAAAACAhGANAAAAAAAAQEKwBgAAAAAAACAhWAMAAAAAAACQ\n",
       "EKwBAAAAAAAASAjWAAAAAAAAACQEawAAAAAAAAASgjUAAAAAAAAACcEaAAAAAAAAgIRgDQAAAAAA\n",
       "AEBCsAYAAAAAAAAgIVgDAAAAAAAAkBCsAQAAAAAAAEgI1gAAAAAAAAAkBGsAAAAAAAAAEoI1AAAA\n",
       "AAAAAAnBGgAAAAAAAICEYA0AAAAAAABAQrAGAAAAAAAAICFYAwAAAAAAAJAQrAEAAAAAAABIbPUA\n",
       "AH5e5+1hrzfAu7DNeSXbBm1da619dxt7M8Ou7Xbyt7oMNOyeO+2+4BkBb+/p8n3Mjex8+jbqpjDp\n",
       "2gIA/C1+tQEAAAAAAAAgIVgDAAAAAAAAkBCsAQAAAAAAAEgI1gAAAAAAAAAkBGsAAAAAAAAAEoI1\n",
       "AAAAAAAAAAnBGgAAAAAAAICEYA0AAAAAAABAQrAGAAAAAAAAICFYAwAAAAAAAJAQrAEAAAAAAABI\n",
       "CNYAAAAAAAAAJARrAAAAAAAAABKCNQAAAAAAAAAJwRoAAAAAAACAhGANAAAAAAAAQEKwBgAAAAAA\n",
       "ACAhWAMAAAAAAACQEKwBAAAAAAAASAjWAAAAAAAAACQEawAAAAAAAAASgjUAAAAAAAAACcEaAAAA\n",
       "AAAAgIRgDQAAAAAAAEBCsAYAAAAAAAAgIVgDAAAAAAAAkBCsAQAAAAAAAEgI1gAAAAAAAAAktnoA\n",
       "APyjnE/f9noDP4dt84rDQKe7esExl9d6wTF3H+oF19s9zt7SdprzjNgvw87CtPsCb2Yfdh+b9O44\n",
       "7dp6pr2dp/1xzsFda523B4fhjUw7C5NMO7fOAjCZ/7AGAAAAAAAAICFYAwAAAAAAAJAQrAEAAAAA\n",
       "AABICNYAAAAAAAAAJARrAAAAAAAAABKCNQAAAAAAAAAJwRoAAAAAAACAhGANAAAAAAAAQEKwBgAA\n",
       "AAAAACAhWAMAAAAAAACQEKwBAAAAAAAASAjWAAAAAAAAACQEawAAAAAAAAASgjUAAAAAAAAACcEa\n",
       "AAAAAAAAgIRgDQAAAAAAAEBCsAYAAAAAAAAgIVgDAAAAAAAAkBCsAQAAAAAAAEgI1gAAAAAAAAAk\n",
       "BGsAAAAAAAAAEoI1AAAAAAAAAAnBGgAAAAAAAICEYA0AAAAAAABAQrAGAAAAAAAAICFYAwAAAAAA\n",
       "AJAQrAEAAAAAAABICNYAAAAAAAAAJLZ6AMB7c94e9nrDrdpOs/4Oa9/nHIVt88rA/xh3FgbtHXZt\n",
       "tw939YRjJj0jXl/rBcfcDTsLk1zmvCustdY6zbqPTfqs7S9ztq611tov9YJjBj2D98uwazvI0+X7\n",
       "nIOwBv62MOhzNu0sAMAtGPSrDQAAAAAAAAC3RLAGAAAAAAAAICFYAwAAAAAAAJAQrAEAAAAAAABI\n",
       "CNYAAAAAAAAAJARrAAAAAAAAABKCNQAAAAAAAAAJwRoAAAAAAACAhGANAAAAAAAAQEKwBgAAAAAA\n",
       "ACAhWAMAAAAAAACQEKwBAAAAAAAASAjWAAAAAAAAACQEawAAAAAAAAASgjUAAAAAAAAACcEaAAAA\n",
       "AAAAgIRgDQAAAAAAAEBCsAYAAAAAAAAgIVgDAAAAAAAAkBCsAQAAAAAAAEgI1gAAAAAAAAAkBGsA\n",
       "AAAAAAAAEoI1AAAAAAAAAAnBGgAAAAAAAICEYA0AAAAAAABAQrAGAAAAAAAAICFYAwAAAAAAAJAQ\n",
       "rAEAAAAAAABIbPUA+Hudt4e93nCrnvbHUfcGZ+ENbaOOwjjbadDfjQ07C9vdXT3hdu2zbrnbx4/1\n",
       "hKtN2rrWWvvlUk845uWlXnC9j/f1gmOeB13btWY90ya9K6y11rT7wqBn2uWXX+sJh4x7Fxt0FvbL\n",
       "az3hmEH3hf112LWd9Dxba9TnbJppv+MBwP9m2LdfAAAAAAAAAG6FYA0AAAAAAABAQrAGAAAAAAAA\n",
       "ICFYAwAAAAAAAJAQrAEAAAAAAABICNYAAAAAAAAAJARrAAAAAAAAABKCNQAAAAAAAAAJwRoAAAAA\n",
       "AACAhGANAAAAAAAAQEKwBgAAAAAAACAhWAMAAAAAAACQEKwBAAAAAAAASAjWAAAAAAAAACQEawAA\n",
       "AAAAAAASgjUAAAAAAAAACcEaAAAAAAAAgIRgDQAAAAAAAEBCsAYAAAAAAAAgIVgDAAAAAAAAkBCs\n",
       "AQAAAAAAAEgI1gAAAAAAAAAkBGsAAAAAAAAAEoI1AAAAAAAAAAnBGgAAAAAAAICEYA0AAAAAAABA\n",
       "QrAGAAAAAAAAILHVA+C9OG8Pe73hZm1uZW9lO836u6b99bWecMh2f19PuNq0s7B9/FhPOGbS9b1c\n",
       "6gWH7C8v9YSrnT5/riccMu6e+8//VE+43o8f9YJjPn2qFxxzN+ie+zznHrbWWuv5uV5wyD7o+u6/\n",
       "zbq2a/f1963sw97F1mXQ+4Jz+6bGnd1BnvZHP4wBMN6gb+oAAAAAAAAA3BLBGgAAAAAAAICEYA0A\n",
       "AAAAAABAQrAGAAAAAAAAICFYAwAAAAAAAJAQrAEAAAAAAABICNYAAAAAAAAAJARrAAAAAAAAABKC\n",
       "NQAAAAAAAAAJwRoAAAAAAACAhGANAAAAAAAAQEKwBgAAAAAAACAhWAMAAAAAAACQEKwBAAAAAAAA\n",
       "SAjWAAAAAAAAACQEawAAAAAAAAASgjUAAAAAAAAACcEaAAAAAAAAgIRgDQAAAAAAAEBCsAYAAAAA\n",
       "AAAgIVgDAAAAAAAAkBCsAQAAAAAAAEgI1gAAAAAAAAAkBGsAAAAAAAAAEoI1AAAAAAAAAAnBGgAA\n",
       "AAAAAICEYA0AAAAAAABAQrAGAAAAAAAAILHVAwD+r86nb3u94YjtdFdPOGDUpR1nu7+vJ1zvNOtv\n",
       "3LZpez99qidc7zTs9fF3g67ty2u94Jgvn+sFx2xzzu7+adDzYa21/fZcTzhm0jPiT7/UC44Z9Dlb\n",
       "a6318lIvuFn7H/5YTzhm0H3h8sdh13aSy6zvv/tl1rvjNu0ZMch+udQTbtbT/ujgAvw/mfNGDgAA\n",
       "AAAAAMBNEawBAAAAAAAASAjWAAAAAAAAACQEawAAAAAAAAASgjUAAAAAAAAACcEaAAAAAAAAgIRg\n",
       "DQAAAAAAAEBCsAYAAAAAAAAgIVgDAAAAAAAAkBCsAQAAAAAAAEgI1gAAAAAAAAAkBGsAAAAAAAAA\n",
       "EoI1AAAAAAAAAAnBGgAAAAAAAICEYA0AAAAAAABAQrAGAAAAAAAAICFYAwAAAAAAAJAQrAEAAAAA\n",
       "AABICNYAAAAAAAAAJARrAAAAAAAAABKCNQAAAAAAAAAJwRoAAAAAAACAhGANAAAAAAAAQEKwBgAA\n",
       "AAAAACAhWAMAAAAAAACQEKwBAAAAAAAASAjWAAAAAAAAACQEawAAAAAAAAASWz0A3ovz6dteb7jW\n",
       "0+W7e8Mb+te7fxtzFvbLpZ5wyOnz53rCIdvdXT3heh8GbV1rbff39YRjXgd91r5+qRccc/+hXnC1\n",
       "/cunesIh+6dhn7N9zON3rcugrWut168f6wmHfPjDr/WEq71+GXZt//NP9YRjfn2uF1zvlznndq21\n",
       "1mnY/0f89lu94Gr7r3O2rrXW/uNHPeFq077/rmF790HvYts262excWd30vUddG7XWutpfxx0cQH+\n",
       "2rBvEAAAAAAAAADcCsEaAAAAAAAAgIRgDQAAAAAAAEBCsAYAAAAAAAAgIVgDAAAAAAAAkBCsAQAA\n",
       "AAAAAEgI1gAAAAAAAAAkBGsAAAAAAAAAEoI1AAAAAAAAAAnBGgAAAAAAAICEYA0AAAAAAABAQrAG\n",
       "AAAAAAAAICFYAwAAAAAAAJAQrAEAAAAAAABICNYAAAAAAAAAJARrAAAAAAAAABKCNQAAAAAAAAAJ\n",
       "wRoAAAAAAACAhGANAAAAAAAAQEKwBgAAAAAAACAhWAMAAAAAAACQEKwBAAAAAAAASAjWAAAAAAAA\n",
       "ACQEawAAAAAAAAASgjUAAAAAAAAACcEaAAAAAAAAgIRgDQAAAAAAAEBCsAYAAAAAAAAg8aEeAPx8\n",
       "ztvDXm84ZNvqBcec5vyt0HZ3V084xll4O9ugrWut9fFjveCYj/f1gqvtnz/VEw65fB20d9gt7Plf\n",
       "Bl3btdbrp0H3sWFnYXud9er4+nnO1+Btn3Vtt5ff1RMO2X//pZ5wtbv/+lFPOGR7fq0nHHM/576w\n",
       "np/rBYdsX7/WE673Y9bnbH9+qSccsq1LPQEOe9ofh72ZA8w16FcbAAAAAAAAAG6JYA0AAAAAAABA\n",
       "QrAGAAAAAAAAICFYAwAAAAAAAJAQrAEAAAAAAABICNYAAAAAAAAAJARrAAAAAAAAABKCNQAAAAAA\n",
       "AAAJwRoAAAAAAACAhGANAAAAAAAAQEKwBgAAAAAAACAhWAMAAAAAAACQEKwBAAAAAAAASAjWAAAA\n",
       "AAAAACQEawAAAAAAAAASgjUAAAAAAAAACcEaAAAAAAAAgIRgDQAAAAAAAEBCsP5v9u1lx7L7LOPw\n",
       "t/bedexut+3YIZYTCBJBYoIYAQNmVBBiwqQN3BtIzHHfATWBMUKIKEiREKckxLETd/pU3VW191oM\n",
       "mMBs/ZFKr7/iea7g1dLa6/SrAgAAAAAAACBCsAYAAAAAAAAgQrAGAAAAAAAAIEKwBgAAAAAAACBC\n",
       "sAYAAAAAAAAgQrAGAAAAAAAAIEKwBgAAAAAAACBCsAYAAAAAAAAgQrAGAAAAAAAAIEKwBgAAAAAA\n",
       "ACBilx4A/1cX05MlvWHE5fzplN6wVrdjO2236Qn31rTtdZuYjo/TE8a0uSpUTQ/O0xPGnPY6F+aH\n",
       "Z+kJqy1Hva65N++fpiestj/t9bek+/NGF7GqWjZ99l4/7rO1quroqtWjY02H9IL1ll6X3Dr5Ra9n\n",
       "x7PPr9MTVju82+tZbPvybXrCkOl1nwvDdNbnubGqqg59jm2rrR3Nc3rBast+n54wZur17Mjdudh8\n",
       "0urBvNP38m66fd+/XJ46F/Af1gAAAAAAAABkCNYAAAAAAAAARAjWAAAAAAAAAEQI1gAAAAAAAABE\n",
       "CNYAAAAAAAAARAjWAAAAAAAAAEQI1gAAAAAAAABECNYAAAAAAAAARAjWAAAAAAAAAEQI1gAAAAAA\n",
       "AABECNYAAAAAAAAARAjWAAAAAAAAAEQI1gAAAAAAAABECNYAAAAAAAAARAjWAAAAAAAAAEQI1gAA\n",
       "AAAAAABECNYAAAAAAAAARAjWAAAAAAAAAEQI1gAAAAAAAABECNYAAAAAAAAARAjWAAAAAAAAAEQI\n",
       "1gAAAAAAAABECNYAAAAAAAAARAjWAAAAAAAAAEQI1gAAAAAAAABECNYAAAAAAAAARAjWAAAAAAAA\n",
       "AERM6QHAV893d3+2pDcMWeb0giHTbpeesNp0fJyeMGa3TS8YMm0a7X33nfSCIfN7D9MThizbPo9k\n",
       "Vx+fpyfcW9fv9Ppb0sNJn/O2qurt++kF6y19HhWqqmo6pBfcXyfP0gvGbG7TC8bsrvu89uyuer3z\n",
       "nP7sJj1hyNHzt+kJq00v36QnjHl7nV6w2nLV69gut80uuoc+DwxLo61VVct+n54wZJr6vEf89eGv\n",
       "+oxt6GJ60uZh7HJ56lyAO9brqxgAAAAAAAAA94ZgDQAAAAAAAECEYA0AAAAAAABAhGANAAAAAAAA\n",
       "QIRgDQAAAAAAAECEYA0AAAAAAABAhGANAAAAAAAAQIRgDQAAAAAAAECEYA0AAAAAAABAhGANAAAA\n",
       "AAAAQIRgDQAAAAAAAECEYA0AAAAAAABAhGANAAAAAAAAQIRgDQAAAAAAAECEYA0AAAAAAABAhGAN\n",
       "AAAAAAAAQIRgDQAAAAAAAECEYA0AAAAAAABAhGANAAAAAAAAQIRgDQAAAAAAAECEYA0AAAAAAABA\n",
       "hGANAAAAAAAAQIRgDQAAAAAAAECEYA0AAAAAAABAhGANAAAAAAAAQIRgDQAAAAAAAECEYA0AAAAA\n",
       "AABAhGANAAAAAAAAQMQuPeC+u5ieLOkNq01TesH9tvQ5FWqZ0wvGbLfpBUOWQ5/jO3W7Lmya/R3W\n",
       "w/P0gvW2vY7t4fwoPWHI4azPdez6ca9zYWk0982Hva65+wfpBWMOx+kF691+cJueMGTzps81rKqq\n",
       "+jyK1f5Bo4tYQ6df9LnunjR7Ftve9noWmxpdF3aN3ierqqbrm/SE1abjXudtHQ7pBUPmRudC9bk9\n",
       "VFXVtGn2LNbo+F7Mjb7tV/X7vt/pezlw53q98QAAAAAAAABwbwjWAAAAAAAAAEQI1gAAAAAAAABE\n",
       "CNYAAAAAAAAARAjWAAAAAAAAAEQI1gAAAAAAAABECNYAAAAAAAAARAjWAAAAAAAAAEQI1gAAAAAA\n",
       "AABECNYAAAAAAAAARAjWAAAAAAAAAEQI1gAAAAAAAABECNYAAAAAAAAARAjWAAAAAAAAAEQI1gAA\n",
       "AAAAAABECNYAAAAAAAAARAjWAAAAAAAAAEQI1gAAAAAAAABECNYAAAAAAAAARAjWAAAAAAAAAEQI\n",
       "1gAAAAAAAABECNYAAAAAAAAARAjWAAAAAAAAAEQI1gAAAAAAAABECNYAAAAAAAAARAjWAAAAAAAA\n",
       "AEQI1gAAAAAAAABECNYAAAAAAAAAROzSA0ZdTE+W9IZ7a3Fo79K03aYnrDdN6QWDeu3dnJ2kJ6zX\n",
       "7FyYThod26pWx3f/waP0hCH7s0bX3Kp6+a3j9ITV3n4tvWDM/mF6wXr7817PYocPbtIThhyf36Yn\n",
       "rPbeWa9j+2vv/Sw9Ycjf//u30hNWu37Q65V9uun1N/H7B332Lv/R57mxqmpaej2L7V4f0hPWa/QO\n",
       "UVVVnd5/5zm9YEy3c6HT3nbnQnrAoG7Ht5HL+dNWZ4PWA/xPfd7OAAAAAAAAALhXBGsAAAAAAAAA\n",
       "IgRrAAAAAAAAACIEawAAAAAAAAAiBGsAAAAAAAAAIgRrAAAAAAAAACIEawAAAAAAAAAiBGsAAAAA\n",
       "AAAAIgRrAAAAAAAAACIEawAAAAAAAAAiBGsAAAAAAAAAIgRrAAAAAAAAACIEawAAAAAAAAAiBGsA\n",
       "AAAAAAAAIgRrAAAAAAAAACIEawAAAAAAAAAiBGsAAAAAAAAAIgRrAAAAAAAAACIEawAAAAAAAAAi\n",
       "BGsAAAAAAAAAIgRrAAAAAAAAACIEawAAAAAAAAAiBGsAAAAAAAAAIgRrAAAAAAAAACIEawAAAAAA\n",
       "AAAiBGsAAAAAAAAAIgRrAAAAAAAAACIEawAAAAAAAAAidukBoy6Xp1N6w4iLzSdLesNqS5+pVQ3P\n",
       "hbnPuTBte10aplZnQtUyz+kJq21OjtMTxhz1OneXRw/SE+6tw9k2PWHIfJResN7Nu+kFY/aP+lxz\n",
       "p/ev0xOG/NL7L9MThnz08EV6wmq3c7Nr2O0dc5YAACAASURBVNLrYex3f/Xf0hNW+8GzD9MThrx+\n",
       "c5KeMOTtF+fpCavtmz3bHI57XReWTZ+9y3Gzd55tn/+V2dwe0hOGTNc36QlDpk7v6/t9esGQZW7z\n",
       "ybGdadPnGlZVdbH0+f5cVe16BHC3el1xAQAAAAAAALg3BGsAAAAAAAAAIgRrAAAAAAAAACIEawAA\n",
       "AAAAAAAiBGsAAAAAAAAAIgRrAAAAAAAAACIEawAAAAAAAAAiBGsAAAAAAAAAIgRrAAAAAAAAACIE\n",
       "awAAAAAAAAAiBGsAAAAAAAAAIgRrAAAAAAAAACIEawAAAAAAAAAiBGsAAAAAAAAAIgRrAAAAAAAA\n",
       "ACIEawAAAAAAAAAiBGsAAAAAAAAAIgRrAAAAAAAAACIEawAAAAAAAAAiBGsAAAAAAAAAIgRrAAAA\n",
       "AAAAACIEawAAAAAAAAAiBGsAAAAAAAAAIgRrAAAAAAAAACIEawAAAAAAAAAiBGsAAAAAAAAAIgRr\n",
       "AAAAAAAAACJ26QH33rKkF6w2bXr9/cJ3pz/tc3CrWp0LVZ22Vi1zesGYzXabnrDeyUl6wZjbfXrB\n",
       "mLnPybvset0jbs+n9IQhN4/TC9bbP+hz3lZVHX3jKj1htXcf9NlaVfVnv/x36QlDnu0fpCes9uHR\n",
       "y/SEIbdLo2ebqnp/9yo9YbWjzW+kJwz58vo8PWHI9159Mz1hteWo1+/szQfpBWN2V0fpCatNc6/3\n",
       "9ZOfvEhPWG/f7H3y7DS9YMh0OKQnrLY02vrfer2jVaNv0Eu360I3U6NvN71uv3UxPWm1+HJ52uhk\n",
       "4K70uTsAAAAAAAAAcK8I1gAAAAAAAABECNYAAAAAAAAARAjWAAAAAAAAAEQI1gAAAAAAAABECNYA\n",
       "AAAAAAAARAjWAAAAAAAAAEQI1gAAAAAAAABECNYAAAAAAAAARAjWAAAAAAAAAEQI1gAAAAAAAABE\n",
       "CNYAAAAAAAAARAjWAAAAAAAAAEQI1gAAAAAAAABECNYAAAAAAAAARAjWAAAAAAAAAEQI1gAAAAAA\n",
       "AABECNYAAAAAAAAARAjWAAAAAAAAAEQI1gAAAAAAAABECNYAAAAAAAAARAjWAAAAAAAAAEQI1gAA\n",
       "AAAAAABECNYAAAAAAAAARAjWAAAAAAAAAEQI1gAAAAAAAABECNYAAAAAAAAARAjWAAAAAAAAAETs\n",
       "0gNGXUxPlvSGIdOUXrDaXx/+qs/YqrrYfNLqXJg2ff4+pNPWqqqauu1t9FO7uUkvGPPBe+kFQ+aH\n",
       "J+kJq+0f9Hpk2J81+p1V1e51esF62ze9ju3R9pCesNo3Hz1PTxjy09vH6QlDPjx6mZ6w2ndOPktP\n",
       "GPLbJ73O3b9582F6wmp/+P730hOG/MUPfy89Ycju9DY9YbXr93o9iz34Ya93tJtHfZ5vTp/1OraH\n",
       "B6fpCattOr2rV9X07EV6wph5Ti9YbZlbfXLs9Z2pqurQ5x2t2zfSpdHvrKqqlj6/tW5d6nJ52uzC\n",
       "AP7DGgAAAAAAAIAQwRoAAAAAAACACMEaAAAAAAAAgAjBGgAAAAAAAIAIwRoAAAAAAACACMEaAAAA\n",
       "AAAAgAjBGgAAAAAAAIAIwRoAAAAAAACACMEaAAAAAAAAgAjBGgAAAAAAAIAIwRoAAAAAAACACMEa\n",
       "AAAAAAAAgAjBGgAAAAAAAIAIwRoAAAAAAACACMEaAAAAAAAAgAjBGgAAAAAAAIAIwRoAAAAAAACA\n",
       "CMEaAAAAAAAAgAjBGgAAAAAAAIAIwRoAAAAAAACACMEaAAAAAAAAgAjBGgAAAAAAAIAIwRoAAAAA\n",
       "AACACMEaAAAAAAAAgAjBGgAAAAAAAIAIwRoAAAAAAACACMEaAAAAAAAAgAjBGgAAAAAAAICIXXrA\n",
       "vbcs6QWrXWw+6TO2oWWe0xPW22zTC4ZMmyk9YUyj60KdnKQXjJkbHduqWhqdu/uTXn/jtrvqdS68\n",
       "+rjPuTCf9jq2+7nPufubj3+cnjDk2ydfpCcM2S99nm/+4Ow2PWHIVaNjW1X1WyefpSes9pfPfic9\n",
       "Ycjvf/0H6QlD/vzHv5eesNpy2uh9sqrmoz7336qqzT69YL3p0OtZbD7pc4/YPm90IlRVdfrOVFW1\n",
       "63MuTEe9Ppkvt72eHWvq8/7b6nsud6vReVtVVb0eF6Cq/Ic1AAAAAAAAACGCNQAAAAAAAAARgjUA\n",
       "AAAAAAAAEYI1AAAAAAAAABGCNQAAAAAAAAARgjUAAAAAAAAAEYI1AAAAAAAAABGCNQAAAAAAAAAR\n",
       "gjUAAAAAAAAAEYI1AAAAAAAAABGCNQAAAAAAAAARgjUAAAAAAAAAEYI1AAAAAAAAABGCNQAAAAAA\n",
       "AAARgjUAAAAAAAAAEYI1AAAAAAAAABGCNQAAAAAAAAARgjUAAAAAAAAAEYI1AAAAAAAAABGCNQAA\n",
       "AAAAAAARgjUAAAAAAAAAEYI1AAAAAAAAABGCNQAAAAAAAAARgjUAAAAAAAAAEYI1AAAAAAAAABGC\n",
       "NQAAAAAAAAARgjUAAAAAAAAAEYI1AAAAAAAAABG79IBRl8vTKb3hvrqYPlnSG+6zabtNT1ht2vXZ\n",
       "WlVVs1P3zizNju08pxcMmU/63IZ3b3sd26tvHKUnDNncphcMOPR6FJsPff4+8/svP0pPGHK+uUlP\n",
       "GPJHj76XnrDav+57XXNvll7Xhf88PE5PWO3Do5fpCUO+//rj9IQhv/6tn6YnrPaD738zPWHI0uf2\n",
       "W1VVS6NX4KnXLaI2N4f0hPWavf52M20a/dAafcOrqlpu9+kJY7p9a+LOtGo9zU7bi+lJq8WtzoVm\n",
       "Op0LzV4hAAAAAAAAALgvBGsAAAAAAAAAIgRrAAAAAAAAACIEawAAAAAAAAAiBGsAAAAAAAAAIgRr\n",
       "AAAAAAAAACIEawAAAAAAAAAiBGsAAAAAAAAAIgRrAAAAAAAAACIEawAAAAAAAAAiBGsAAAAAAAAA\n",
       "IgRrAAAAAAAAACIEawAAAAAAAAAiBGsAAAAAAAAAIgRrAAAAAAAAACIEawAAAAAAAAAiBGsAAAAA\n",
       "AAAAIgRrAAAAAAAAACIEawAAAAAAAAAiBGsAAAAAAAAAIgRrAAAAAAAAACIEawAAAAAAAAAiBGsA\n",
       "AAAAAAAAIgRrAAAAAAAAACIEawAAAAAAAAAiBGsAAAAAAAAAIgRrAAAAAAAAACIEawAAAAAAAAAi\n",
       "dukBfIUsS3rBkGnj7y3uynJ9nZ4wZDo+SU8YM03pBfdXr8tYbW4O6Qn31vHzbXrCkDcf9rmnzadz\n",
       "esKQ8+Pb9ITVts0uYh/sXqYnDPnR/nF6wmqfNdpaVXU69fmdVVV95/jz9ITVjqd9esKQV/vj9IQh\n",
       "//Hle+kJ99am16lbJ8/7PN8sfR4bq6rqcH6UnrDa9rNe30Jq2+udZ3l9lZ6w2rLvdRGbNr2+My2N\n",
       "PoVMzb7h9XqjrIaD+7hcnvY6ebkznc6FZo+5AAAAAAAAANwXgjUAAAAAAAAAEYI1AAAAAAAAABGC\n",
       "NQAAAAAAAAARgjUAAAAAAAAAEYI1AAAAAAAAABGCNQAAAAAAAAARgjUAAAAAAAAAEYI1AAAAAAAA\n",
       "ABGCNQAAAAAAAAARgjUAAAAAAAAAEYI1AAAAAAAAABGCNQAAAAAAAAARgjUAAAAAAAAAEYI1AAAA\n",
       "AAAAABGCNQAAAAAAAAARgjUAAAAAAAAAEYI1AAAAAAAAABGCNQAAAAAAAAARgjUAAAAAAAAAEYI1\n",
       "AAAAAAAAABGCNQAAAAAAAAARgjUAAAAAAAAAEYI1AAAAAAAAABGCNQAAAAAAAAARgjUAAAAAAAAA\n",
       "EYI1AAAAAAAAABFTegD8X313+ydLesOIZekzd9ps0xOGTLtdesKQ6fgoPWG16ew0PWHMg/P0giHz\n",
       "+4/SE1Y7nPc5b6uqXn90kp4w5PVHff6G8NWv9LmfVVXV19+mF6y2PZrTE4Z89N7z9IQhf/zxP6Yn\n",
       "rPbu9nV6wpDjaZ+eMORfrr+enrDaPzz/VnrCkH959rX0hCGvXvd5Xpg/7/Vcfv6jPs82VVXv/vMh\n",
       "PWG145e9rrknP3mVnrDaNPd6FqsvvkwvGLJc36QnrNfoG15V1fymzztPVbUqEsuhz/2hqupy/rTR\n",
       "0QX433q9QQAAAAAAAABwbwjWAAAAAAAAAEQI1gAAAAAAAABECNYAAAAAAAAARAjWAAAAAAAAAEQI\n",
       "1gAAAAAAAABECNYAAAAAAAAARAjWAAAAAAAAAEQI1gAAAAAAAABECNYAAAAAAAAARAjWAAAAAAAA\n",
       "AEQI1gAAAAAAAABECNYAAAAAAAAARAjWAAAAAAAAAEQI1gAAAAAAAABECNYAAAAAAAAARAjWAAAA\n",
       "AAAAAEQI1gAAAAAAAABECNYAAAAAAAAARAjWAAAAAAAAAEQI1gAAAAAAAABECNYAAAAAAAAARAjW\n",
       "AAAAAAAAAEQI1gAAAAAAAABECNYAAAAAAAAARAjWAAAAAAAAAEQI1gAAAAAAAABECNYAAAAAAAAA\n",
       "ROzSA0ZdTE+W9IZ7a5rSC4Ys85yeMKbR8Z122/SEIcvhkJ4wZFoaXXoPzX5nN7fpBWMWt7S7snvb\n",
       "69gev+iz9+yzPvezqqo302l6wmrTN1+nJwz5+esH6QlD/vbn30lPWO3d4zfpCUM+Pv1FesKQf3rx\n",
       "jfSE1X7+ttfv7PnPeu1dDn3uaQ9+0uv/DR7+Z59nm6qqZdvnXNhe93pHm2726Qnr3Tba2lCrbze+\n",
       "Od6tudG54LvNnbrYfNLnADc7Fy6Xp80uDOA/rAEAAAAAAAAIEawBAAAAAAAAiBCsAQAAAAAAAIgQ\n",
       "rAEAAAAAAACIEKwBAAAAAAAAiBCsAQAAAAAAAIgQrAEAAAAAAACIEKwBAAAAAAAAiBCsAQAAAAAA\n",
       "AIgQrAEAAAAAAACIEKwBAAAAAAAAiBCsAQAAAAAAAIgQrAEAAAAAAACIEKwBAAAAAAAAiBCsAQAA\n",
       "AAAAAIgQrAEAAAAAAACIEKwBAAAAAAAAiBCsAQAAAAAAAIgQrAEAAAAAAACIEKwBAAAAAAAAiBCs\n",
       "AQAAAAAAAIgQrAEAAAAAAACIEKwBAAAAAAAAiBCsAQAAAAAAAIgQrAEAAAAAAACIEKwBAAAAAAAA\n",
       "iBCsAQAAAAAAAIgQrAEAAAAAAACI2KUH8NVxOX86pTeMuNh8sqQ33FfLPKcnDJm2vf72Zjkc0hPW\n",
       "O+zTC4ZM02l6wpi5z2Vs+/omPWHI9nybnjBkc+hzHdv0OhXq+Fmfx5v99cP0hCHzd16kJwz5wedf\n",
       "T09Yb+pzf6iqmg/fTk8YcvP6OD1hte1Jo+fGqqrbPvezqqrTn/T5JHL0Kr1gzNGrXu+Uxy/7vPdM\n",
       "+17Hdjk9Sk9YbXrZ64fW7dtNHfrsXeZm999me9udu41cTE9avUh06hHdji101OttEgAAAAAAAIB7\n",
       "Q7AGAAAAAAAAIEKwBgAAAAAAACBCsAYAAAAAAAAgQrAGAAAAAAAAIEKwBgAAAAAAACBCsAYAAAAA\n",
       "AAAgQrAGAAAAAAAAIEKwBgAAAAAAACBCsAYAAAAAAAAgQrAGAAAAAAAAIEKwBgAAAAAAACBCsAYA\n",
       "AAAAAAAgQrAGAAAAAAAAIEKwBgAAAAAAACBCsAYAAAAAAAAgQrAGAAAAAAAAIEKwBgAAAAAAACBC\n",
       "sAYAAAAAAAAgQrAGAAAAAAAAIEKwBgAAAAAAACBCsAYAAAAAAAAgQrAGAAAAAAAAIEKwBgAAAAAA\n",
       "ACBCsAYAAAAAAAAgQrAGAAAAAAAAIEKwBgAAAAAAACBCsAYAAAAAAAAgYncxPVnSI0ZcLk+n9Aa+\n",
       "IpZWp25Nmz5/H7Ls9+kJQ6bT0/SEMVOjy9jc63dWh0N6wZDN58/SE1Zb3nsnPWHI7qrXuXD2RaPr\n",
       "wrJLLxgyzX2O7fZNesGY63qUnjBk+7bPuXD7eE5PGLJs0wvGdDoXtjfH6QlDjm7SC8acfZFesN7J\n",
       "L3pdF45f9nqn3Nz0eXbc/fR5esKY20bnQqPvNlVVy5u36QmDGn1faPZtodV3pqpWey/nT/uM5U7p\n",
       "UnD3ej2JAQAAAAAAAHBvCNYAAAAAAAAARAjWAAAAAAAAAEQI1gAAAAAAAABECNYAAAAAAAAARAjW\n",
       "AAAAAAAAAEQI1gAAAAAAAABECNYAAAAAAAAARAjWAAAAAAAAAEQI1gAAAAAAAABECNYAAAAAAAAA\n",
       "RAjWAAAAAAAAAEQI1gAAAAAAAABECNYAAAAAAAAARAjWAAAAAAAAAEQI1gAAAAAAAABECNYAAAAA\n",
       "AAAARAjWAAAAAAAAAEQI1gAAAAAAAABECNYAAAAAAAAARAjWAAAAAAAAAEQI1gAAAAAAAABECNYA\n",
       "AAAAAAAARAjWAAAAAAAAAEQI1gAAAAAAAABECNYAAAAAAAAARAjWAAAAAAAAAERM6QHw/8XF9GRJ\n",
       "b1hr2m7TE+616eg4PWG16WiXnjBm6nVbmx6cpyesd3aaXjBkeXiWnjBk/7jP8T2c9rpHXH14lJ6w\n",
       "2s07va5h3dy8k16w3nRILxhz+yi9YMzubXrBeidfpheM2V63eeWpqqr5uM919+GPb9MThuyuel3I\n",
       "jr58k56w2vTiKj1hzG2jc/dtoxtEVc1veu1drq/TE1Zb5jk9Yci06fU/aZ2O7+X8aZ+Hher1/bmq\n",
       "Wn3H63YuQEe97mYAAAAAAAAA3BuCNQAAAAAAAAARgjUAAAAAAAAAEYI1AAAAAAAAABGCNQAAAAAA\n",
       "AAARgjUAAAAAAAAAEYI1AAAAAAAAABGCNQAAAAAAAAARgjUAAAAAAAAAEYI1AAAAAAAAABGCNQAA\n",
       "AAAAAAARgjUAAAAAAAAAEYI1AAAAAAAAABGCNQAAAAAAAAARgjUAAAAAAAAAEYI1AAAAAAAAABGC\n",
       "NQAAAAAAAAARgjUAAAAAAAAAEYI1AAAAAAAAABGCNQAAAAAAAAARgjUAAAAAAAAAEYI1AAAAAAAA\n",
       "ABGCNQAAAAAAAAARgjUAAAAAAAAAEYI1AAAAAAAAABGCNQAAAAAAAAARgjUAAAAAAAAAEYI1AAAA\n",
       "AAAAABG79AC+Oi6mJ0t6w5BpSi/gq2Lpdeout7fpCettmv3Omp0L036fnrDe8xfpBUOmZudupwey\n",
       "7atef++4bPucC0dXvY7tzaNeezf7PufCNPe6n539LL1gzPHrPsf36mu9fmfHL+f0hCHHLw/pCatt\n",
       "bnsd26OfX6UnDJlevE5PWG/udS7U9XV6wWrL9U16wpBpu01PGLJs+tzTpmbfFqr6POdWVV3On/Ya\n",
       "3Mjl8rTVsb2oZj0CuFN9nhQAAAAAAAAAuFcEawAAAAAAAAAiBGsAAAAAAAAAIgRrAAAAAAAAACIE\n",
       "awAAAAAAAAAiBGsAAAAAAAAAIgRrAAAAAAAAACIEawAAAAAAAAAiBGsAAAAAAAAAIgRrAAAAAAAA\n",
       "ACIEawAAAAAAAAAiBGsAAAAAAAAAIgRrAAAAAAAAACIEawAAAAAAAAAiBGsAAAAAAAAAIgRrAAAA\n",
       "AAAAACIEawAAAAAAAAAiBGsAAAAAAAAAIgRrAAAAAAAAACIEawAAAAAAAAAiBGsAAAAAAAAAIgRr\n",
       "AAAAAAAAACIEawAAAAAAAAAiBGsAAAAAAAAAIgRrAAAAAAAAACIEawAAAAAAAPiv9u02uZHzPMPo\n",
       "2yApz/izKmuid0B5kRF3EGwqFcniDAl0ftn5k1ShpdCXHs45K7jrre5GExcIJARrAAAAAAAAABKC\n",
       "NQAAAAAAAACJrR4Av9Tj6fu93nDIPmvuKNusR9l2f19PuNk27GzXoLNda416Lpz+8ud6wjGfflcv\n",
       "OOb+rl5ws/1h1n12/dOnesLNrg9zroOJvvzbd/WE251mff6eXud8nq211sN/vdYTbvb6x1nP3Eln\n",
       "u9Zadz+/1RNutv38tZ5wyPYya++6XOoFt/vxp3rBIfvrnPtsf3mpJxxzN+vdcX+d8xmxT3omrDXq\n",
       "u4VpzvvzrBfzYR63pzEXr2sB3p//sAYAAAAAAAAgIVgDAAAAAAAAkBCsAQAAAAAAAEgI1gAAAAAA\n",
       "AAAkBGsAAAAAAAAAEoI1AAAAAAAAAAnBGgAAAAAAAICEYA0AAAAAAABAQrAGAAAAAAAAICFYAwAA\n",
       "AAAAAJAQrAEAAAAAAABICNYAAAAAAAAAJARrAAAAAAAAABKCNQAAAAAAAAAJwRoAAAAAAACAhGAN\n",
       "AAAAAAAAQEKwBgAAAAAAACAhWAMAAAAAAACQEKwBAAAAAAAASAjWAAAAAAAAACQEawAAAAAAAAAS\n",
       "gjUAAAAAAAAACcEaAAAAAAAAgIRgDQAAAAAAAEBCsAYAAAAAAAAgIVgDAAAAAAAAkBCsAQAAAAAA\n",
       "AEgI1gAAAAAAAAAktnoAfCset6e93sBvw3byW6H3st3f1xMO2b77rp5ws/16rScccvrTH+sJx2yD\n",
       "XskmbV1rrT98rhfc7Prn39cTDtkf7uoJh5xeXusJN7v+btbn2eXzQz3hkPv/fKkn3Gwfdi1sX97q\n",
       "CYecfppzLay3S73gmJcv9YJD9kl7L7Ouhf11zufvuk772mbW3uvXr/WEm23D/ubZ91nXwvn6w6wD\n",
       "HmTa98/n/dm1APyTagIAAAAAAABAQrAGAAAAAAAAICFYAwAAAAAAAJAQrAEAAAAAAABICNYAAAAA\n",
       "AAAAJARrAAAAAAAAABKCNQAAAAAAAAAJwRoAAAAAAACAhGANAAAAAAAAQEKwBgAAAAAAACAhWAMA\n",
       "AAAAAACQEKwBAAAAAAAASAjWAAAAAAAAACQEawAAAAAAAAASgjUAAAAAAAAACcEaAAAAAAAAgIRg\n",
       "DQAAAAAAAEBCsAYAAAAAAAAgIVgDAAAAAAAAkBCsAQAAAAAAAEgI1gAAAAAAAAAkBGsAAAAAAAAA\n",
       "EoI1AAAAAAAAAAnBGgAAAAAAAICEYA0AAAAAAABAQrAGAAAAAAAAICFYAwAAAAAAAJAQrAEAAAAA\n",
       "AABIbPUA+KUet6e93vBRbadZv2XZd5fCuxl2ttvDQz3hmEHnO+1st7u7esIxg/Zu93O2rrVGne36\n",
       "w+/rBce8vtULjvn8qV5wu+u1XnDM19d6wTGnQX8G39/XC455u9QLjnl5qRd8WPvPs852//K1nnCz\n",
       "/TrrPpv0/cJ+mXW2494XBtmHne15fx70cjPrO91pZwsw2Zy3RgAAAAAAAAA+FMEaAAAAAAAAgIRg\n",
       "DQAAAAAAAEBCsAYAAAAAAAAgIVgDAAAAAAAAkBCsAQAAAAAAAEgI1gAAAAAAAAAkBGsAAAAAAAAA\n",
       "EoI1AAAAAAAAAAnBGgAAAAAAAICEYA0AAAAAAABAQrAGAAAAAAAAICFYAwAAAAAAAJAQrAEAAAAA\n",
       "AABICNYAAAAAAAAAJARrAAAAAAAAABKCNQAAAAAAAAAJwRoAAAAAAACAhGANAAAAAAAAQEKwBgAA\n",
       "AAAAACAhWAMAAAAAAACQEKwBAAAAAAAASAjWAAAAAAAAACQEawAAAAAAAAASgjUAAAAAAAAACcEa\n",
       "AAAAAAAAgIRgDQAAAAAAAEBiqwcA/Fp/vfvbXm84Yr9e6wm322Z9TGzD9k6yPTzUE465v68XHLPP\n",
       "eYyNuxbuBv0+c9B1sNbAa2HS5+/nz/WCYyad7Vprvb7WC2437Lmwv13qCR/Wdpr1nrtfZj0Xrj/+\n",
       "WE+42enTp3rCIdeXl3rC7YZ9nv3H5d9HPRgeT9/P+VAb9vnL+znvz6PuM4DJBn2DBwAAAAAAAMBH\n",
       "IlgDAAAAAAAAkBCsAQAAAAAAAEgI1gAAAAAAAAAkBGsAAAAAAAAAEoI1AAAAAAAAAAnBGgAAAAAA\n",
       "AICEYA0AAAAAAABAQrAGAAAAAAAAICFYAwAAAAAAAJAQrAEAAAAAAABICNYAAAAAAAAAJARrAAAA\n",
       "AAAAABKCNQAAAAAAAAAJwRoAAAAAAACAhGANAAAAAAAAQEKwBgAAAAAAACAhWAMAAAAAAACQEKwB\n",
       "AAAAAAAASAjWAAAAAAAAACQEawAAAAAAAAASgjUAAAAAAAAACcEaAAAAAAAAgIRgDQAAAAAAAEBC\n",
       "sAYAAAAAAAAgIVgDAAAAAAAAkBCsAQAAAAAAAEgI1gAAAAAAAAAk7usBAL/Wfr3WE+DDG3efffla\n",
       "Lzhorwd8WNvF7zPfy34Z9ly4v6sX3O6nn+oFh2zbtPtszjN33H329lYvOGTS+81+udQTjtnn3Gdr\n",
       "rbW2rV5ws+vf/15POGbQZ8Q+7Lp9PH0/a/Ck8x30TFhrrfP1h1GDH7enQRcDAP8qc94aAQAAAAAA\n",
       "APhQBGsAAAAAAAAAEoI1AAAAAAAAAAnBGgAAAAAAAICEYA0AAAAAAABAQrAGAAAAAAAAICFYAwAA\n",
       "AAAAAJAQrAEAAAAAAABICNYAAAAAAAAAJARrAAAAAAAAABKCNQAAAAAAAAAJwRoAAAAAAACAhGAN\n",
       "AAAAAAAAQEKwBgAAAAAAACAhWAMAAAAAAACQEKwBAAAAAAAASAjWAAAAAAAAACQEawAAAAAAAAAS\n",
       "gjUAAAAAAAAACcEaAAAAAAAAgIRgDQAAAAAAAEBCsAYAAAAAAAAgIVgDAAAAAAAAkBCsAQAAAAAA\n",
       "AEgI1gAAAAAAAAAkBGsAAAAAAAAAEoI1AAAAAAAAAAnBGgAAAAAAAIDEVg8Afnset6e93nDEeX8e\n",
       "9SybdL7O9p1to453lO10V084ZL9e6gk326Zdt4Ouhe27h3rCMfuwR+7dnGthv8x5Jqy11rrOuhZG\n",
       "ff4Ou8/267WecMh2mvMb/v3trZ5w0Kxrd9q9Nsk+6WwnbeVdTfsuhPcz7Xsm1y4w2Zy/zgAAAAAA\n",
       "AAD4UARrAAAAAAAAABKCNQAAAAAAAAAJwRoAAAAAAACAhGANAAAAAAAAQEKwBgAAAAAAACAhWAMA\n",
       "AAAAAACQEKwBAAAAAAAASAjWAAAAAAAAACQEawAAAAAAAAASgjUAAAAAAAAACcEaAAAAAAAAgIRg\n",
       "DQAAAAAAAEBCsAYAAAAAAAAgIVgDAAAAAAAAkBCsAQAAAAAAAEgI1gAAAAAAAAAkBGsAAAAAAAAA\n",
       "EoI1AAAAAAAAAAnBGgAAAAAAAICEQ/zUUgAADI1JREFUYA0AAAAAAABAQrAGAAAAAAAAICFYAwAA\n",
       "AAAAAJAQrAEAAAAAAABICNYAAAAAAAAAJARrAAAAAAAAABKCNQAAAAAAAAAJwRoAAAAAAACAxFYP\n",
       "4LfjcXva6w1HnPdn1y8jTbvXRtmGPRb2QZfCtLMdZpt0vpO2rrVmve4OeiasNesZttZa26Df6p4m\n",
       "XbcTTTrfWffZ/vZWTzhkO815LuyXSz3hkElnu9Za+7TPtEmc7fsZ9l5+vv4wazAA8C816y8IAAAA\n",
       "AAAAAD4MwRoAAAAAAACAhGANAAAAAAAAQEKwBgAAAAAAACAhWAMAAAAAAACQEKwBAAAAAAAASAjW\n",
       "AAAAAAAAACQEawAAAAAAAAASgjUAAAAAAAAACcEaAAAAAAAAgIRgDQAAAAAAAEBCsAYAAAAAAAAg\n",
       "IVgDAAAAAAAAkBCsAQAAAAAAAEgI1gAAAAAAAAAkBGsAAAAAAAAAEoI1AAAAAAAAAAnBGgAAAAAA\n",
       "AICEYA0AAAAAAABAQrAGAAAAAAAAICFYAwAAAAAAAJAQrAEAAAAAAABICNYAAAAAAAAAJARrAAAA\n",
       "AAAAABKCNQAAAAAAAAAJwRoAAAAAAACAhGANAAAAAAAAQGKrBwDA/5fH7WmvNxyyDfoY3mcd7aiz\n",
       "XWvU+Z7351GH+9e7v4053P16rSccst3d1xMO2a+XesLNttO03xWPeizMMu1ohz3H9kGfv7yzSdeC\n",
       "99x3M+09F/5h2nch7jUA/jfTvgkBAAAAAAAA4IMQrAEAAAAAAABICNYAAAAAAAAAJARrAAAAAAAA\n",
       "ABKCNQAAAAAAAAAJwRoAAAAAAACAhGANAAAAAAAAQEKwBgAAAAAAACAhWAMAAAAAAACQEKwBAAAA\n",
       "AAAASAjWAAAAAAAAACQEawAAAAAAAAASgjUAAAAAAAAACcEaAAAAAAAAgIRgDQAAAAAAAEBCsAYA\n",
       "AAAAAAAgIVgDAAAAAAAAkBCsAQAAAAAAAEgI1gAAAAAAAAAkBGsAAAAAAAAAEoI1AAAAAAAAAAnB\n",
       "GgAAAAAAAICEYA0AAAAAAABAQrAGAAAAAAAAICFYAwAAAAAAAJAQrAEAAAAAAABICNYAAAAAAAAA\n",
       "JARrAAAAAAAAABL39QAA+Fadrz9s9YZbPZ6+3+sNR0w627XWetyexpzvtGth30fNHWW/vNUTjtkG\n",
       "PRaGXbf79VJPOGQ7zfnd9n6ddS1Mu3YnPRfGvdsMe184789jzvdxzXlvhKkm/X221qxnGAD8X+b8\n",
       "pQ4AAAAAAADAhyJYAwAAAAAAAJAQrAEAAAAAAABICNYAAAAAAAAAJARrAAAAAAAAABKCNQAAAAAA\n",
       "AAAJwRoAAAAAAACAhGANAAAAAAAAQEKwBgAAAAAAACAhWAMAAAAAAACQEKwBAAAAAAAASAjWAAAA\n",
       "AAAAACQEawAAAAAAAAASgjUAAAAAAAAACcEaAAAAAAAAgIRgDQAAAAAAAEBCsAYAAAAAAAAgIVgD\n",
       "AAAAAAAAkBCsAQAAAAAAAEgI1gAAAAAAAAAkBGsAAAAAAAAAEoI1AAAAAAAAAAnBGgAAAAAAAICE\n",
       "YA0AAAAAAABAQrAGAAAAAAAAICFYAwAAAAAAAJAQrAEAAAAAAABICNYAAAAAAAAAJLZ6AMCv9bg9\n",
       "7fWGI877s2cvMJZn7vuZdrZrG3O0a621ztcfxgx2LTDVpPtsrWH32rT7bJ9ztGvNel8A3t+oz4fl\n",
       "GQbAx+A/rAEAAAAAAABICNYAAAAAAAAAJARrAAAAAAAAABKCNQAAAAAAAAAJwRoAAAAAAACAhGAN\n",
       "AAAAAAAAQEKwBgAAAAAAACAhWAMAAAAAAACQEKwBAAAAAAAASAjWAAAAAAAAACQEawAAAAAAAAAS\n",
       "gjUAAAAAAAAACcEaAAAAAAAAgIRgDQAAAAAAAEBCsAYAAAAAAAAgIVgDAAAAAAAAkBCsAQAAAAAA\n",
       "AEgI1gAAAAAAAAAkBGsAAAAAAAAAEoI1AAAAAAAAAAnBGgAAAAAAAICEYA0AAAAAAABAQrAGAAAA\n",
       "AAAAICFYAwAAAAAAAJAQrAEAAAAAAABICNYAAAAAAAAAJARrAAAAAAAAABKCNQAAAAAAAACJrR4A\n",
       "APCte9ye9nrDrc77s/dHeGeTnglreS7wP1y7AAAA/BL+wxoAAAAAAACAhGANAAAAAAAAQEKwBgAA\n",
       "AAAAACAhWAMAAAAAAACQEKwBAAAAAAAASAjWAAAAAAAAACQEawAAAAAAAAASgjUAAAAAAAAACcEa\n",
       "AAAAAAAAgIRgDQAAAAAAAEBCsAYAAAAAAAAgIVgDAAAAAAAAkBCsAQAAAAAAAEgI1gAAAAAAAAAk\n",
       "BGsAAAAAAAAAEoI1AAAAAAAAAAnBGgAAAAAAAICEYA0AAAAAAABAQrAGAAAAAAAAICFYAwAAAAAA\n",
       "AJAQrAEAAAAAAABICNYAAAAAAAAAJARrAAAAAAAAABKCNQAAAAAAAAAJwRoAAAAAAACAhGANAAAA\n",
       "AAAAQEKwBgAAAAAAACAhWAMAAAAAAACQ2OoBAADfusftaa833Oq8P3t/fCeTroO1XAvAfJOeu565\n",
       "AADAR+Y/rAEAAAAAAABICNYAAAAAAAAAJARrAAAAAAAAABKCNQAAAAAAAAAJwRoAAAAAAACAhGAN\n",
       "AAAAAAAAQEKwBgAAAAAAACAhWAMAAAAAAACQEKwBAAAAAAAASAjWAAAAAAAAACQEawAAAAAAAAAS\n",
       "gjUAAAAAAAAACcEaAAAAAAAAgIRgDQAAAAAAAEBCsAYAAAAAAAAgIVgDAAAAAAAAkBCsAQAAAAAA\n",
       "AEgI1gAAAAAAAAAkBGsAAAAAAAAAEoI1AAAAAAAAAAnBGgAAAAAAAICEYA0AAAAAAABAQrAGAAAA\n",
       "AAAAICFYAwAAAAAAAJAQrAEAAAAAAABICNYAAAAAAAAAJARrAAAAAAAAABL39QAAgG/deX/e6g0A\n",
       "AAAAAAX/YQ0AAAAAAABAQrAGAAAAAAAAICFYAwAAAAAAAJAQrAEAAAAAAABICNYAAAAAAAAAJARr\n",
       "AAAAAAAAABKCNQAAAAAAAAAJwRoAAAAAAACAhGANAAAAAAAAQEKwBgAAAAAAACAhWAMAAAAAAACQ\n",
       "EKwBAAAAAAAASAjWAAAAAAAAACQEawAAAAAAAAASgjUAAAAAAAAACcEaAAAAAAAAgIRgDQAAAAAA\n",
       "AEBCsAYAAAAAAAAgIVgDAAAAAAAAkBCsAQAAAAAAAEgI1gAAAAAAAAAkBGsAAAAAAAAAEoI1AAAA\n",
       "AAAAAAnBGgAAAAAAAICEYA0AAAAAAABAQrAGAAAAAAAAICFYAwAAAAAAAJAQrAEAAAAAAAAAAAAA\n",
       "AAAAAAAAAAAAAAAAAAAAAAAAAAAAAAAAAAAAAAAAAAAAAAAAAAAAAAAAAAAAAAAAAAAAAAAAAAAA\n",
       "AAAAAAAAAAAAAAAAAAAAAAAAAAAAAAAAAAAAAAAAAAAAAAAAAAAAAAAAAAAAAAAAAAAAAAAAAAAA\n",
       "AAAAAAAAAAAAAAAAAAAAAAAAAAAAAAAAAAAAAAAAAAAAAAAAAAAAAAAAAAAAAAAAAAAAAAAAAAAA\n",
       "AAAAAAAAAAAAAAAAAAAAAAAAAAAAAAAAAAAAAAAAAAAAAAAAAAAAAAAAAAAAAAAAAAAAAAAAAAAA\n",
       "AAAAAAAAAAAAAAAAAAAAAAAAAAAAAAAAAAAAAAAAAAAAAAAAAAAAAAAAAAAAAAAAAAAAAAAAAAAA\n",
       "AAAAAAAAAAAAAAAAAAAAAAAAAAAAAAAAAAAAAAAAAAAAAAAAAAAAAAAAAAAAAAAAAAAAAAAAAAAA\n",
       "AAAAAAAAAAAAAAAAAAAAAAAAAAAAAAAAAAAAAAAAAAAAAAAAAAAAAAAAAAAAAAAAAAAAAAAAAAAA\n",
       "AAAAAAAAAAAAAAAAAAAAAAAAAAAAAAAAAAAAAAAAAAAAAAAAAACAD2CrBwAAAADzPW5Pe73hiPP+\n",
       "7DsRAACA34BTPQAAAAAAAACAb5NgDQAAAAAAAEBCsAYAAAAAAAAgIVgDAAAAAAAAkBCsAQAAAAAA\n",
       "AEgI1gAAAAAAAAAkBGsAAAAAAAAAEoI1AAAAAAAAAAnBGgAAAAAAAICEYA0AAAAAAABAQrAGAAAA\n",
       "AAAAICFYAwAAAAAAAJAQrAEAAAAAAABICNYAAAAAAAAAJARrAAAAAAAAABKCNQAAAAAAAAAJwRoA\n",
       "AAAAAACAhGANAAAAAAAAQEKwBgAAAAAAACAhWAMAAAAAAACQEKwBAAAAAAAASAjWAAAAAAAAACQE\n",
       "awAAAAAAAAASgjUAAAAAAAAACcEaAAAAAAAAgIRgDQAAAAAAAEBCsAYAAAAAAAAg8d82w//SdyYs\n",
       "FgAAAABJRU5ErkJggg==\n",
       "\" transform=\"translate(149, 47)\"/>\n",
       "</g>\n",
       "<defs>\n",
       "  <clipPath id=\"clip343\">\n",
       "    <rect x=\"2160\" y=\"47\" width=\"73\" height=\"1440\"/>\n",
       "  </clipPath>\n",
       "</defs>\n",
       "<g clip-path=\"url(#clip343)\">\n",
       "<image width=\"72\" height=\"1439\" xlink:href=\"data:image/png;base64,\n",
       "iVBORw0KGgoAAAANSUhEUgAAAEgAAAWfCAYAAAAI7rB3AAAMJ0lEQVR4nO3dwa3cSBAFQVIoU9Z/\n",
       "t2QFm7JgK4+cQ4QFQuJhiG7OfN3P3//ei//15+t/wK8TKAgUBAoChXne8/W/4adZUBAoCBQECgKF\n",
       "OZej2MaCgkBBoCBQmHM5amwsKAgUBAoCBYHCPK+jxsaCgkBBoCBQECg4iwULCgIFgYJAYR5vNVYW\n",
       "FAQKAgWBgkBhjguzlQUFgYJAQaDgqBEsKAgUBAoCBYHCeKexs6AgUBAoCBQECr5hFiwoCBQECgKF\n",
       "eb7+F/w4CwoCBYGCQEGg4MIsWFAQKAgUBAoChXncl60sKAgUBAoCBUeNYEFBoCBQECgIFOa57q//\n",
       "DT/NgoJAQaAgUJjn9SG9saAgUBAoCBQECnMcNVYWFAQKAgWBgkDBhVmwoCBQECgIFOa4MFtZUBAo\n",
       "CBQECgIFR41gQUGgIFAQKAgUPMWCBQWBgkBBoDDn1WijThAoCBQECgIFR41gQUGgIFAQKMyj0Uqd\n",
       "IFAQKAgUBAouzII6QaAgUBAoCBRcmAULCgIFgYJAYR5HjZU6QaAgUBAoCBTmaLRSJwgUBAoCBYGC\n",
       "C7NgQUGgIFAQKLgwC+oEgYJAQaAgUHBhFtQJAgWBgkDBUSOoEwQKAgWBgkDBW41gQUGgIFAQKAgU\n",
       "/CQzqBMECgIFgYK//hLUCQIFgYJAQaAwj/9fbGVBQaAgUBAo+AJVUCcIFAQKAgWBgm+YBXWCQEGg\n",
       "IFAQKHjtE9QJAgWBgkBhjrcaKwsKAgWBgkBBoOCoEdQJAgWBgkBBoODHLEGdIFAQKAgU/G4+WFAQ\n",
       "KAgUBAoCBUeNoE4QKAgUBAqOGsGCgkBBoCBQECg4agR1gkBBoCBQECj4SWZQJwgUBAoChTkuzFYW\n",
       "FAQKAgWBgkDBUSOoEwQKAgWBgkDBWSxYUBAoCBQECo4aQZ0gUBAoCBQECv6GWbCgIFAQKAgU/Imu\n",
       "oE4QKAgUBAoCBUeNYEFBoCBQECgIFDzFggUFgYJAQaDgwiyoEwQKAgWBgkDBUSNYUBAoCBQECgIF\n",
       "f8MsqBMECgIFgYJfHAYLCgIFgYJAQaAwjwuzlQUFgYJAQaDgPiioEwQKAgWBgkDBu/lgQUGgIFAQ\n",
       "KAgUvPYJFhQECgIFgYK3GsGCgkBBoCBQECh47RPUCQIFgYJAwVuNYEFBoCBQECgIFLzVCBYUBAoC\n",
       "BYGCQMFZLFhQECgIFAQKPqSDBQWBgkBBoCBQ8BQLFhQECgIFgYJAwTfMgjpBoCBQECh4Nx8sKAgU\n",
       "BAoCBYGCC7NgQUGgIFAQKPiQDhYUBAoCBYGCQMFTLFhQECgIFAQKAoV5PcVWFhQECgIFgYJ388GC\n",
       "gkBBoCBQECi4MAsWFAQKAgWBgkDBUyxYUBAoCBQECt5qBAsKAgWBgkBBoOCoESwoCBQECgIFH9LB\n",
       "goJAQaAgUBAozPv1v+DHWVAQKAgUBAoCBWexYEFBoCBQECh4Nx8sKAgUBAoCBYGCo0awoCBQECgI\n",
       "FAQKzmLBgoJAQaAgUJjj5fzKgoJAQaAgUBAoOGoECwoCBYGCQMGHdLCgIFAQKAgUBArezQcLCgIF\n",
       "gYJAQaDgJ5nBgoJAQaAgUHBhFiwoCBQECgIFgYKnWLCgIFAQKAgUBArzujFbWVAQKAgUBAqOGsGC\n",
       "gkBBoCBQECh4igULCgIFgYJAwX1QsKAgUBAoCBQECo4awYKCQEGgIFAQKDiLBQsKAgWBgkBhLkeN\n",
       "lQUFgYJAQaAgUHBhFiwoCBQECgIFf9wkWFAQKAgUBAoCBRdmwYKCQEGgIFAQKHg3HywoCBQECgKF\n",
       "uXxIrywoCBQECgIFgYJ388GCgkBBoCBQECg4iwULCgIFgYJAwbv5YEFBoCBQECgIFLybDxYUBAoC\n",
       "BYGCo0awoCBQECgIFAQK3moECwoCBYGCQEGg4CkWLCgIFAQKAgUXZsGCgkBBoCBQECg4agQLCgIF\n",
       "gYJAQaDgKRYsKAgUBAoCBRdmwYKCQEGgIFAQKAgUBAoCBYGCQMF9ULCgIFAQKAgUBAqeYsGCgkBB\n",
       "oCBQECjM7bXPyoKCQEGgIFBw1AgWFAQKAgWBgkDBUyxYUBAoCBQECgIFT7FgQUGgIFAQKPgxS7Cg\n",
       "IFAQKAgUBApzO2qsLCgIFAQKAgX3QcGCgkBBoCBQECh4igULCgIFgYJAQaDgwixYUBAoCBQECo4a\n",
       "wYKCQEGgIFAQKPiGWbCgIFAQKAgU3AcFCwoCBYGCQEGg4MIsWFAQKAgUBAoCBU+xYEFBoCBQECiM\n",
       "dxo7CwoCBYGCQEGg4KgRLCgIFAQKAgWBgqdYsKAgUBAoCBR8wyxYUBAoCBQECgIFR41gQUGgIFAQ\n",
       "KPiQDhYUBAoCBYGCQMGFWbCgIFAQKAgUBAr++kuwoCBQECgIFBw1ggUFgYJAQaAgUPDaJ1hQECgI\n",
       "FAQKAgVPsWBBQaAgUBAouDALFhQECgIFgYJAwVEjWFAQKAgUBAo+pIMFBYGCQEGgIFBwYRYsKAgU\n",
       "BAoCBYGCs1iwoCBQECgIFAQKAgWBgkBBoCBQcGEWLCgIFAQKAgWBgguzYEFBoCBQECg4agQLCgIF\n",
       "gYJAQaDgqBEsKAgUBAoCBR/SwYKCQEGgIFAQKLgwCxYUBAoCBYGCQMFZLFhQECgIFAQKjhrBgoJA\n",
       "QaAgUBAoOGoECwoCBYGCQMGHdLCgIFAQKAgUBAouzIIFBYGCQEGgIFBwFgsWFAQKAgWBgqNGsKAg\n",
       "UBAoCBQECo4awYKCQEGgIFAQKHiKBQsKAgWBgkBh7ten9MaCgkBBoCBQECg4agQLCgIFgYJAwbv5\n",
       "YEFBoCBQECgIFBw1ggUFgYJAQaAgUHAWCxYUBAoCBYGCo0awoCBQECgIFAQKnmLBgoJAQaAgUBAo\n",
       "uDALFhQECgIFgYKjRrCgIFAQKAgUBAqOGsGCgkBBoCBQcNQIFhQECgIFgYJAwVEjWFAQKAgUBAoC\n",
       "BWexYEFBoCBQECj4Q5PBgoJAQaAgUBAoOGoECwoCBYGCQEGg4LVPsKAgUBAoCBQcNYIFBYGCQEGg\n",
       "IFBw1AgWFAQKAgWBgqNGsKAgUBAoCBQECo4awYKCQEGgIFAQKMzle9IrCwoCBYGCQMFRI1hQECgI\n",
       "FAQKAgWvfYIFBYGCQEGgIFBwFgsWFAQKAgWBgqNGsKAgUBAoCBQECv6GWbCgIFAQKAgUHDWCBQWB\n",
       "gkBBoCBQmPt8/U/4bRYUBAoCBYGCQMFZLFhQECgIFAQK3moECwoCBYGCQEGg4KgRLCgIFAQKAgUf\n",
       "0sGCgkBBoCBQECj4xWGwoCBQECgIFAQK/tBksKAgUBAoCBQcNYIFBYGCQEGgIFCY63iMbSwoCBQE\n",
       "CgIFgYKzWLCgIFAQKAgUfMMsWFAQKAgUBAoCBT/JDBYUBAoCBYGCo0awoCBQECgIFAQKjhrBgoJA\n",
       "QaAgUBAozOXPJa8sKAgUBAoCBb84DBYUBAoCBYGCQMHXgIMFBYGCQEGgIFBwFgsWFAQKAgWBgm+Y\n",
       "BQsKAgWBgkBBoOAbZsGCgkBBoCBQ8Ce6ggUFgYJAQaAgUPBuPlhQECgIFAQKAgXv5oMFBYGCQEGg\n",
       "4EM6WFAQKAgUBAoCBb+bDxYUBAoCBYGCQME3zIIFBYGCQEGg4MIsWFAQKAgUBAoCBU+xYEFBoCBQ\n",
       "ECh4qxEsKAgUBAoCBYGCtxrBgoJAQaAgUBAouDALFhQECgIFgYIP6WBBQaAgUBAoCBT8DbNgQUGg\n",
       "IFAQKDhqBAsKAgWBgkBBoOApFiwoCBQECgIFgYKnWLCgIFAQKAgU5vZWY2VBQaAgUBAoCBQcNYIF\n",
       "BYGCQEGgIFDwFAsWFAQKAgWBgg/pYEFBoCBQECgIFPyYJVhQECgIFAQKjhrBgoJAQaAgUBAoeIoF\n",
       "CwoCBYGCQEGgMNfxV/83FhQECgIFgYKjRrCgIFAQKAgUBArzeoqtLCgIFAQKAgWBgm+YBQsKAgWB\n",
       "gkBhrtdbjY0FBYGCQEGgIFDw2idYUBAoCBQECu6DggUFgYJAQaAgUHBhFiwoCBQECgIFgYKzWLCg\n",
       "IFAQKAgUfA04WFAQKAgUBAoCBb+bDxYUBAoCBYGCQME3zIIFBYGCQEGg4KgRLCgIFAQKAgWBgtc+\n",
       "wYKCQEGgIFDwBapgQUGgIFAQKAgU/JglWFAQKAgUBAoChXmdxVYWFAQKAgWBgqNGsKAgUBAoCBQE\n",
       "Cr4GHCwoCBQECgKFf4jrjN/mS6F7AAAAAElFTkSuQmCC\n",
       "\" transform=\"translate(2161, 47)\"/>\n",
       "</g>\n",
       "<path clip-path=\"url(#clip340)\" d=\"M2269.43 1278.64 L2277.07 1278.64 L2277.07 1252.27 L2268.76 1253.94 L2268.76 1249.68 L2277.02 1248.01 L2281.7 1248.01 L2281.7 1278.64 L2289.33 1278.64 L2289.33 1282.57 L2269.43 1282.57 L2269.43 1278.64 Z\" fill=\"#f8f8f2\" fill-rule=\"nonzero\" fill-opacity=\"1\" /><path clip-path=\"url(#clip340)\" d=\"M2308.78 1251.09 Q2305.17 1251.09 2303.34 1254.65 Q2301.53 1258.2 2301.53 1265.33 Q2301.53 1272.43 2303.34 1276 Q2305.17 1279.54 2308.78 1279.54 Q2312.41 1279.54 2314.22 1276 Q2316.05 1272.43 2316.05 1265.33 Q2316.05 1258.2 2314.22 1254.65 Q2312.41 1251.09 2308.78 1251.09 M2308.78 1247.39 Q2314.59 1247.39 2317.64 1251.99 Q2320.72 1256.58 2320.72 1265.33 Q2320.72 1274.05 2317.64 1278.66 Q2314.59 1283.24 2308.78 1283.24 Q2302.97 1283.24 2299.89 1278.66 Q2296.83 1274.05 2296.83 1265.33 Q2296.83 1256.58 2299.89 1251.99 Q2302.97 1247.39 2308.78 1247.39 Z\" fill=\"#f8f8f2\" fill-rule=\"nonzero\" fill-opacity=\"1\" /><path clip-path=\"url(#clip340)\" d=\"M2338.94 1251.09 Q2335.33 1251.09 2333.5 1254.65 Q2331.7 1258.2 2331.7 1265.33 Q2331.7 1272.43 2333.5 1276 Q2335.33 1279.54 2338.94 1279.54 Q2342.57 1279.54 2344.38 1276 Q2346.21 1272.43 2346.21 1265.33 Q2346.21 1258.2 2344.38 1254.65 Q2342.57 1251.09 2338.94 1251.09 M2338.94 1247.39 Q2344.75 1247.39 2347.81 1251.99 Q2350.89 1256.58 2350.89 1265.33 Q2350.89 1274.05 2347.81 1278.66 Q2344.75 1283.24 2338.94 1283.24 Q2333.13 1283.24 2330.05 1278.66 Q2327 1274.05 2327 1265.33 Q2327 1256.58 2330.05 1251.99 Q2333.13 1247.39 2338.94 1247.39 Z\" fill=\"#f8f8f2\" fill-rule=\"nonzero\" fill-opacity=\"1\" /><polyline clip-path=\"url(#clip340)\" style=\"stroke:#000000; stroke-linecap:round; stroke-linejoin:round; stroke-width:4; stroke-opacity:1; fill:none\" points=\"2232.76,1268.92 2256.76,1268.92 \"/>\n",
       "<path clip-path=\"url(#clip340)\" d=\"M2274.38 1058.91 L2290.7 1058.91 L2290.7 1062.84 L2268.76 1062.84 L2268.76 1058.91 Q2271.42 1056.16 2276 1051.53 Q2280.61 1046.87 2281.79 1045.53 Q2284.03 1043.01 2284.91 1041.27 Q2285.82 1039.51 2285.82 1037.82 Q2285.82 1035.07 2283.87 1033.33 Q2281.95 1031.59 2278.85 1031.59 Q2276.65 1031.59 2274.2 1032.36 Q2271.77 1033.12 2268.99 1034.67 L2268.99 1029.95 Q2271.81 1028.82 2274.27 1028.24 Q2276.72 1027.66 2278.76 1027.66 Q2284.13 1027.66 2287.32 1030.34 Q2290.52 1033.03 2290.52 1037.52 Q2290.52 1039.65 2289.7 1041.57 Q2288.92 1043.47 2286.81 1046.06 Q2286.23 1046.73 2283.13 1049.95 Q2280.03 1053.15 2274.38 1058.91 Z\" fill=\"#f8f8f2\" fill-rule=\"nonzero\" fill-opacity=\"1\" /><path clip-path=\"url(#clip340)\" d=\"M2310.51 1031.36 Q2306.9 1031.36 2305.08 1034.93 Q2303.27 1038.47 2303.27 1045.6 Q2303.27 1052.71 2305.08 1056.27 Q2306.9 1059.81 2310.51 1059.81 Q2314.15 1059.81 2315.95 1056.27 Q2317.78 1052.71 2317.78 1045.6 Q2317.78 1038.47 2315.95 1034.93 Q2314.15 1031.36 2310.51 1031.36 M2310.51 1027.66 Q2316.33 1027.66 2319.38 1032.27 Q2322.46 1036.85 2322.46 1045.6 Q2322.46 1054.33 2319.38 1058.93 Q2316.33 1063.52 2310.51 1063.52 Q2304.7 1063.52 2301.63 1058.93 Q2298.57 1054.33 2298.57 1045.6 Q2298.57 1036.85 2301.63 1032.27 Q2304.7 1027.66 2310.51 1027.66 Z\" fill=\"#f8f8f2\" fill-rule=\"nonzero\" fill-opacity=\"1\" /><path clip-path=\"url(#clip340)\" d=\"M2340.68 1031.36 Q2337.07 1031.36 2335.24 1034.93 Q2333.43 1038.47 2333.43 1045.6 Q2333.43 1052.71 2335.24 1056.27 Q2337.07 1059.81 2340.68 1059.81 Q2344.31 1059.81 2346.12 1056.27 Q2347.95 1052.71 2347.95 1045.6 Q2347.95 1038.47 2346.12 1034.93 Q2344.31 1031.36 2340.68 1031.36 M2340.68 1027.66 Q2346.49 1027.66 2349.54 1032.27 Q2352.62 1036.85 2352.62 1045.6 Q2352.62 1054.33 2349.54 1058.93 Q2346.49 1063.52 2340.68 1063.52 Q2334.87 1063.52 2331.79 1058.93 Q2328.73 1054.33 2328.73 1045.6 Q2328.73 1036.85 2331.79 1032.27 Q2334.87 1027.66 2340.68 1027.66 Z\" fill=\"#f8f8f2\" fill-rule=\"nonzero\" fill-opacity=\"1\" /><polyline clip-path=\"url(#clip340)\" style=\"stroke:#000000; stroke-linecap:round; stroke-linejoin:round; stroke-width:4; stroke-opacity:1; fill:none\" points=\"2232.76,1049.19 2256.76,1049.19 \"/>\n",
       "<path clip-path=\"url(#clip340)\" d=\"M2284.38 824.485 Q2287.74 825.202 2289.61 827.471 Q2291.51 829.739 2291.51 833.073 Q2291.51 838.188 2287.99 840.989 Q2284.47 843.79 2277.99 843.79 Q2275.82 843.79 2273.5 843.351 Q2271.21 842.934 2268.76 842.077 L2268.76 837.564 Q2270.7 838.698 2273.02 839.276 Q2275.33 839.855 2277.85 839.855 Q2282.25 839.855 2284.54 838.119 Q2286.86 836.383 2286.86 833.073 Q2286.86 830.017 2284.7 828.304 Q2282.58 826.568 2278.76 826.568 L2274.73 826.568 L2274.73 822.726 L2278.94 822.726 Q2282.39 822.726 2284.22 821.36 Q2286.05 819.971 2286.05 817.378 Q2286.05 814.716 2284.15 813.304 Q2282.27 811.869 2278.76 811.869 Q2276.83 811.869 2274.64 812.286 Q2272.44 812.703 2269.8 813.582 L2269.8 809.416 Q2272.46 808.675 2274.77 808.304 Q2277.11 807.934 2279.17 807.934 Q2284.5 807.934 2287.6 810.365 Q2290.7 812.772 2290.7 816.892 Q2290.7 819.763 2289.06 821.753 Q2287.41 823.721 2284.38 824.485 Z\" fill=\"#f8f8f2\" fill-rule=\"nonzero\" fill-opacity=\"1\" /><path clip-path=\"url(#clip340)\" d=\"M2310.38 811.638 Q2306.76 811.638 2304.94 815.203 Q2303.13 818.744 2303.13 825.874 Q2303.13 832.98 2304.94 836.545 Q2306.76 840.087 2310.38 840.087 Q2314.01 840.087 2315.82 836.545 Q2317.64 832.98 2317.64 825.874 Q2317.64 818.744 2315.82 815.203 Q2314.01 811.638 2310.38 811.638 M2310.38 807.934 Q2316.19 807.934 2319.24 812.54 Q2322.32 817.124 2322.32 825.874 Q2322.32 834.601 2319.24 839.207 Q2316.19 843.79 2310.38 843.79 Q2304.57 843.79 2301.49 839.207 Q2298.43 834.601 2298.43 825.874 Q2298.43 817.124 2301.49 812.54 Q2304.57 807.934 2310.38 807.934 Z\" fill=\"#f8f8f2\" fill-rule=\"nonzero\" fill-opacity=\"1\" /><path clip-path=\"url(#clip340)\" d=\"M2340.54 811.638 Q2336.93 811.638 2335.1 815.203 Q2333.29 818.744 2333.29 825.874 Q2333.29 832.98 2335.1 836.545 Q2336.93 840.087 2340.54 840.087 Q2344.17 840.087 2345.98 836.545 Q2347.81 832.98 2347.81 825.874 Q2347.81 818.744 2345.98 815.203 Q2344.17 811.638 2340.54 811.638 M2340.54 807.934 Q2346.35 807.934 2349.4 812.54 Q2352.48 817.124 2352.48 825.874 Q2352.48 834.601 2349.4 839.207 Q2346.35 843.79 2340.54 843.79 Q2334.73 843.79 2331.65 839.207 Q2328.59 834.601 2328.59 825.874 Q2328.59 817.124 2331.65 812.54 Q2334.73 807.934 2340.54 807.934 Z\" fill=\"#f8f8f2\" fill-rule=\"nonzero\" fill-opacity=\"1\" /><polyline clip-path=\"url(#clip340)\" style=\"stroke:#000000; stroke-linecap:round; stroke-linejoin:round; stroke-width:4; stroke-opacity:1; fill:none\" points=\"2232.76,829.468 2256.76,829.468 \"/>\n",
       "<path clip-path=\"url(#clip340)\" d=\"M2284.36 592.907 L2272.55 611.356 L2284.36 611.356 L2284.36 592.907 M2283.13 588.833 L2289.01 588.833 L2289.01 611.356 L2293.94 611.356 L2293.94 615.245 L2289.01 615.245 L2289.01 623.393 L2284.36 623.393 L2284.36 615.245 L2268.76 615.245 L2268.76 610.731 L2283.13 588.833 Z\" fill=\"#f8f8f2\" fill-rule=\"nonzero\" fill-opacity=\"1\" /><path clip-path=\"url(#clip340)\" d=\"M2311.67 591.912 Q2308.06 591.912 2306.23 595.477 Q2304.43 599.018 2304.43 606.148 Q2304.43 613.254 2306.23 616.819 Q2308.06 620.361 2311.67 620.361 Q2315.31 620.361 2317.11 616.819 Q2318.94 613.254 2318.94 606.148 Q2318.94 599.018 2317.11 595.477 Q2315.31 591.912 2311.67 591.912 M2311.67 588.208 Q2317.48 588.208 2320.54 592.815 Q2323.62 597.398 2323.62 606.148 Q2323.62 614.875 2320.54 619.481 Q2317.48 624.065 2311.67 624.065 Q2305.86 624.065 2302.78 619.481 Q2299.73 614.875 2299.73 606.148 Q2299.73 597.398 2302.78 592.815 Q2305.86 588.208 2311.67 588.208 Z\" fill=\"#f8f8f2\" fill-rule=\"nonzero\" fill-opacity=\"1\" /><path clip-path=\"url(#clip340)\" d=\"M2341.83 591.912 Q2338.22 591.912 2336.39 595.477 Q2334.59 599.018 2334.59 606.148 Q2334.59 613.254 2336.39 616.819 Q2338.22 620.361 2341.83 620.361 Q2345.47 620.361 2347.27 616.819 Q2349.1 613.254 2349.1 606.148 Q2349.1 599.018 2347.27 595.477 Q2345.47 591.912 2341.83 591.912 M2341.83 588.208 Q2347.64 588.208 2350.7 592.815 Q2353.78 597.398 2353.78 606.148 Q2353.78 614.875 2350.7 619.481 Q2347.64 624.065 2341.83 624.065 Q2336.02 624.065 2332.95 619.481 Q2329.89 614.875 2329.89 606.148 Q2329.89 597.398 2332.95 592.815 Q2336.02 588.208 2341.83 588.208 Z\" fill=\"#f8f8f2\" fill-rule=\"nonzero\" fill-opacity=\"1\" /><polyline clip-path=\"url(#clip340)\" style=\"stroke:#000000; stroke-linecap:round; stroke-linejoin:round; stroke-width:4; stroke-opacity:1; fill:none\" points=\"2232.76,609.742 2256.76,609.742 \"/>\n",
       "<path clip-path=\"url(#clip340)\" d=\"M2270.21 369.107 L2288.57 369.107 L2288.57 373.043 L2274.5 373.043 L2274.5 381.515 Q2275.52 381.168 2276.53 381.006 Q2277.55 380.82 2278.57 380.82 Q2284.36 380.82 2287.74 383.992 Q2291.12 387.163 2291.12 392.58 Q2291.12 398.158 2287.64 401.26 Q2284.17 404.339 2277.85 404.339 Q2275.68 404.339 2273.41 403.968 Q2271.16 403.598 2268.76 402.857 L2268.76 398.158 Q2270.84 399.293 2273.06 399.848 Q2275.28 400.404 2277.76 400.404 Q2281.77 400.404 2284.1 398.297 Q2286.44 396.191 2286.44 392.58 Q2286.44 388.968 2284.1 386.862 Q2281.77 384.756 2277.76 384.756 Q2275.89 384.756 2274.01 385.172 Q2272.16 385.589 2270.21 386.469 L2270.21 369.107 Z\" fill=\"#f8f8f2\" fill-rule=\"nonzero\" fill-opacity=\"1\" /><path clip-path=\"url(#clip340)\" d=\"M2310.33 372.186 Q2306.72 372.186 2304.89 375.751 Q2303.08 379.293 2303.08 386.422 Q2303.08 393.529 2304.89 397.093 Q2306.72 400.635 2310.33 400.635 Q2313.96 400.635 2315.77 397.093 Q2317.6 393.529 2317.6 386.422 Q2317.6 379.293 2315.77 375.751 Q2313.96 372.186 2310.33 372.186 M2310.33 368.482 Q2316.14 368.482 2319.2 373.089 Q2322.27 377.672 2322.27 386.422 Q2322.27 395.149 2319.2 399.755 Q2316.14 404.339 2310.33 404.339 Q2304.52 404.339 2301.44 399.755 Q2298.39 395.149 2298.39 386.422 Q2298.39 377.672 2301.44 373.089 Q2304.52 368.482 2310.33 368.482 Z\" fill=\"#f8f8f2\" fill-rule=\"nonzero\" fill-opacity=\"1\" /><path clip-path=\"url(#clip340)\" d=\"M2340.49 372.186 Q2336.88 372.186 2335.05 375.751 Q2333.25 379.293 2333.25 386.422 Q2333.25 393.529 2335.05 397.093 Q2336.88 400.635 2340.49 400.635 Q2344.13 400.635 2345.93 397.093 Q2347.76 393.529 2347.76 386.422 Q2347.76 379.293 2345.93 375.751 Q2344.13 372.186 2340.49 372.186 M2340.49 368.482 Q2346.3 368.482 2349.36 373.089 Q2352.44 377.672 2352.44 386.422 Q2352.44 395.149 2349.36 399.755 Q2346.3 404.339 2340.49 404.339 Q2334.68 404.339 2331.6 399.755 Q2328.55 395.149 2328.55 386.422 Q2328.55 377.672 2331.6 373.089 Q2334.68 368.482 2340.49 368.482 Z\" fill=\"#f8f8f2\" fill-rule=\"nonzero\" fill-opacity=\"1\" /><polyline clip-path=\"url(#clip340)\" style=\"stroke:#000000; stroke-linecap:round; stroke-linejoin:round; stroke-width:4; stroke-opacity:1; fill:none\" points=\"2232.76,390.016 2256.76,390.016 \"/>\n",
       "<path clip-path=\"url(#clip340)\" d=\"M2281.09 164.798 Q2277.95 164.798 2276.09 166.951 Q2274.27 169.104 2274.27 172.854 Q2274.27 176.581 2276.09 178.757 Q2277.95 180.909 2281.09 180.909 Q2284.24 180.909 2286.07 178.757 Q2287.92 176.581 2287.92 172.854 Q2287.92 169.104 2286.07 166.951 Q2284.24 164.798 2281.09 164.798 M2290.38 150.146 L2290.38 154.405 Q2288.62 153.572 2286.81 153.132 Q2285.03 152.692 2283.27 152.692 Q2278.64 152.692 2276.19 155.817 Q2273.76 158.942 2273.41 165.261 Q2274.77 163.247 2276.83 162.183 Q2278.89 161.095 2281.37 161.095 Q2286.58 161.095 2289.59 164.266 Q2292.62 167.414 2292.62 172.854 Q2292.62 178.178 2289.47 181.395 Q2286.33 184.613 2281.09 184.613 Q2275.1 184.613 2271.93 180.03 Q2268.76 175.423 2268.76 166.696 Q2268.76 158.502 2272.64 153.641 Q2276.53 148.757 2283.08 148.757 Q2284.84 148.757 2286.63 149.104 Q2288.43 149.451 2290.38 150.146 Z\" fill=\"#f8f8f2\" fill-rule=\"nonzero\" fill-opacity=\"1\" /><path clip-path=\"url(#clip340)\" d=\"M2310.68 152.46 Q2307.07 152.46 2305.24 156.025 Q2303.43 159.567 2303.43 166.696 Q2303.43 173.803 2305.24 177.368 Q2307.07 180.909 2310.68 180.909 Q2314.31 180.909 2316.12 177.368 Q2317.95 173.803 2317.95 166.696 Q2317.95 159.567 2316.12 156.025 Q2314.31 152.46 2310.68 152.46 M2310.68 148.757 Q2316.49 148.757 2319.54 153.363 Q2322.62 157.946 2322.62 166.696 Q2322.62 175.423 2319.54 180.03 Q2316.49 184.613 2310.68 184.613 Q2304.87 184.613 2301.79 180.03 Q2298.73 175.423 2298.73 166.696 Q2298.73 157.946 2301.79 153.363 Q2304.87 148.757 2310.68 148.757 Z\" fill=\"#f8f8f2\" fill-rule=\"nonzero\" fill-opacity=\"1\" /><path clip-path=\"url(#clip340)\" d=\"M2340.84 152.46 Q2337.23 152.46 2335.4 156.025 Q2333.59 159.567 2333.59 166.696 Q2333.59 173.803 2335.4 177.368 Q2337.23 180.909 2340.84 180.909 Q2344.47 180.909 2346.28 177.368 Q2348.11 173.803 2348.11 166.696 Q2348.11 159.567 2346.28 156.025 Q2344.47 152.46 2340.84 152.46 M2340.84 148.757 Q2346.65 148.757 2349.7 153.363 Q2352.78 157.946 2352.78 166.696 Q2352.78 175.423 2349.7 180.03 Q2346.65 184.613 2340.84 184.613 Q2335.03 184.613 2331.95 180.03 Q2328.89 175.423 2328.89 166.696 Q2328.89 157.946 2331.95 153.363 Q2335.03 148.757 2340.84 148.757 Z\" fill=\"#f8f8f2\" fill-rule=\"nonzero\" fill-opacity=\"1\" /><polyline clip-path=\"url(#clip340)\" style=\"stroke:#000000; stroke-linecap:round; stroke-linejoin:round; stroke-width:4; stroke-opacity:1; fill:none\" points=\"2232.76,170.291 2256.76,170.291 \"/>\n",
       "<polyline clip-path=\"url(#clip340)\" style=\"stroke:#000000; stroke-linecap:round; stroke-linejoin:round; stroke-width:4; stroke-opacity:1; fill:none\" points=\"2232.76,1486.45 2232.76,47.2441 \"/>\n",
       "</svg>\n"
      ],
      "text/html": [
       "<?xml version=\"1.0\" encoding=\"utf-8\"?>\n",
       "<svg xmlns=\"http://www.w3.org/2000/svg\" xmlns:xlink=\"http://www.w3.org/1999/xlink\" width=\"600\" height=\"400\" viewBox=\"0 0 2400 1600\">\n",
       "<defs>\n",
       "  <clipPath id=\"clip390\">\n",
       "    <rect x=\"0\" y=\"0\" width=\"2400\" height=\"1600\"/>\n",
       "  </clipPath>\n",
       "</defs>\n",
       "<path clip-path=\"url(#clip390)\" d=\"M0 1600 L2400 1600 L2400 0 L0 0  Z\" fill=\"#282a36\" fill-rule=\"evenodd\" fill-opacity=\"1\"/>\n",
       "<defs>\n",
       "  <clipPath id=\"clip391\">\n",
       "    <rect x=\"480\" y=\"0\" width=\"1681\" height=\"1600\"/>\n",
       "  </clipPath>\n",
       "</defs>\n",
       "<path clip-path=\"url(#clip390)\" d=\"M149.191 1486.45 L2112.76 1486.45 L2112.76 47.2441 L149.191 47.2441  Z\" fill=\"#30343b\" fill-rule=\"evenodd\" fill-opacity=\"1\"/>\n",
       "<defs>\n",
       "  <clipPath id=\"clip392\">\n",
       "    <rect x=\"149\" y=\"47\" width=\"1965\" height=\"1440\"/>\n",
       "  </clipPath>\n",
       "</defs>\n",
       "<polyline clip-path=\"url(#clip392)\" style=\"stroke:#f8f8f2; stroke-linecap:round; stroke-linejoin:round; stroke-width:2; stroke-opacity:0.1; fill:none\" points=\"192.826,1486.45 192.826,47.2441 \"/>\n",
       "<polyline clip-path=\"url(#clip392)\" style=\"stroke:#f8f8f2; stroke-linecap:round; stroke-linejoin:round; stroke-width:2; stroke-opacity:0.1; fill:none\" points=\"629.173,1486.45 629.173,47.2441 \"/>\n",
       "<polyline clip-path=\"url(#clip392)\" style=\"stroke:#f8f8f2; stroke-linecap:round; stroke-linejoin:round; stroke-width:2; stroke-opacity:0.1; fill:none\" points=\"1065.52,1486.45 1065.52,47.2441 \"/>\n",
       "<polyline clip-path=\"url(#clip392)\" style=\"stroke:#f8f8f2; stroke-linecap:round; stroke-linejoin:round; stroke-width:2; stroke-opacity:0.1; fill:none\" points=\"1501.87,1486.45 1501.87,47.2441 \"/>\n",
       "<polyline clip-path=\"url(#clip392)\" style=\"stroke:#f8f8f2; stroke-linecap:round; stroke-linejoin:round; stroke-width:2; stroke-opacity:0.1; fill:none\" points=\"1938.22,1486.45 1938.22,47.2441 \"/>\n",
       "<polyline clip-path=\"url(#clip392)\" style=\"stroke:#f8f8f2; stroke-linecap:round; stroke-linejoin:round; stroke-width:2; stroke-opacity:0.1; fill:none\" points=\"149.191,1371.31 2112.76,1371.31 \"/>\n",
       "<polyline clip-path=\"url(#clip392)\" style=\"stroke:#f8f8f2; stroke-linecap:round; stroke-linejoin:round; stroke-width:2; stroke-opacity:0.1; fill:none\" points=\"149.191,1083.47 2112.76,1083.47 \"/>\n",
       "<polyline clip-path=\"url(#clip392)\" style=\"stroke:#f8f8f2; stroke-linecap:round; stroke-linejoin:round; stroke-width:2; stroke-opacity:0.1; fill:none\" points=\"149.191,795.63 2112.76,795.63 \"/>\n",
       "<polyline clip-path=\"url(#clip392)\" style=\"stroke:#f8f8f2; stroke-linecap:round; stroke-linejoin:round; stroke-width:2; stroke-opacity:0.1; fill:none\" points=\"149.191,507.789 2112.76,507.789 \"/>\n",
       "<polyline clip-path=\"url(#clip392)\" style=\"stroke:#f8f8f2; stroke-linecap:round; stroke-linejoin:round; stroke-width:2; stroke-opacity:0.1; fill:none\" points=\"149.191,219.949 2112.76,219.949 \"/>\n",
       "<polyline clip-path=\"url(#clip390)\" style=\"stroke:#f8f8f2; stroke-linecap:round; stroke-linejoin:round; stroke-width:4; stroke-opacity:1; fill:none\" points=\"149.191,1486.45 2112.76,1486.45 \"/>\n",
       "<polyline clip-path=\"url(#clip390)\" style=\"stroke:#f8f8f2; stroke-linecap:round; stroke-linejoin:round; stroke-width:4; stroke-opacity:1; fill:none\" points=\"192.826,1486.45 192.826,1467.55 \"/>\n",
       "<polyline clip-path=\"url(#clip390)\" style=\"stroke:#f8f8f2; stroke-linecap:round; stroke-linejoin:round; stroke-width:4; stroke-opacity:1; fill:none\" points=\"629.173,1486.45 629.173,1467.55 \"/>\n",
       "<polyline clip-path=\"url(#clip390)\" style=\"stroke:#f8f8f2; stroke-linecap:round; stroke-linejoin:round; stroke-width:4; stroke-opacity:1; fill:none\" points=\"1065.52,1486.45 1065.52,1467.55 \"/>\n",
       "<polyline clip-path=\"url(#clip390)\" style=\"stroke:#f8f8f2; stroke-linecap:round; stroke-linejoin:round; stroke-width:4; stroke-opacity:1; fill:none\" points=\"1501.87,1486.45 1501.87,1467.55 \"/>\n",
       "<polyline clip-path=\"url(#clip390)\" style=\"stroke:#f8f8f2; stroke-linecap:round; stroke-linejoin:round; stroke-width:4; stroke-opacity:1; fill:none\" points=\"1938.22,1486.45 1938.22,1467.55 \"/>\n",
       "<path clip-path=\"url(#clip390)\" d=\"M161.726 1532.02 L191.402 1532.02 L191.402 1535.95 L161.726 1535.95 L161.726 1532.02 Z\" fill=\"#f8f8f2\" fill-rule=\"nonzero\" fill-opacity=\"1\" /><path clip-path=\"url(#clip390)\" d=\"M214.342 1518.36 L202.536 1536.81 L214.342 1536.81 L214.342 1518.36 M213.115 1514.29 L218.994 1514.29 L218.994 1536.81 L223.925 1536.81 L223.925 1540.7 L218.994 1540.7 L218.994 1548.85 L214.342 1548.85 L214.342 1540.7 L198.74 1540.7 L198.74 1536.19 L213.115 1514.29 Z\" fill=\"#f8f8f2\" fill-rule=\"nonzero\" fill-opacity=\"1\" /><path clip-path=\"url(#clip390)\" d=\"M599.116 1532.02 L628.791 1532.02 L628.791 1535.95 L599.116 1535.95 L599.116 1532.02 Z\" fill=\"#f8f8f2\" fill-rule=\"nonzero\" fill-opacity=\"1\" /><path clip-path=\"url(#clip390)\" d=\"M642.912 1544.91 L659.231 1544.91 L659.231 1548.85 L637.287 1548.85 L637.287 1544.91 Q639.949 1542.16 644.532 1537.53 Q649.139 1532.88 650.319 1531.53 Q652.565 1529.01 653.444 1527.27 Q654.347 1525.51 654.347 1523.82 Q654.347 1521.07 652.402 1519.33 Q650.481 1517.6 647.379 1517.6 Q645.18 1517.6 642.727 1518.36 Q640.296 1519.13 637.518 1520.68 L637.518 1515.95 Q640.342 1514.82 642.796 1514.24 Q645.25 1513.66 647.287 1513.66 Q652.657 1513.66 655.852 1516.35 Q659.046 1519.03 659.046 1523.52 Q659.046 1525.65 658.236 1527.57 Q657.449 1529.47 655.342 1532.07 Q654.764 1532.74 651.662 1535.95 Q648.56 1539.15 642.912 1544.91 Z\" fill=\"#f8f8f2\" fill-rule=\"nonzero\" fill-opacity=\"1\" /><path clip-path=\"url(#clip390)\" d=\"M1065.52 1517.37 Q1061.91 1517.37 1060.08 1520.93 Q1058.28 1524.47 1058.28 1531.6 Q1058.28 1538.71 1060.08 1542.27 Q1061.91 1545.82 1065.52 1545.82 Q1069.16 1545.82 1070.96 1542.27 Q1072.79 1538.71 1072.79 1531.6 Q1072.79 1524.47 1070.96 1520.93 Q1069.16 1517.37 1065.52 1517.37 M1065.52 1513.66 Q1071.33 1513.66 1074.39 1518.27 Q1077.47 1522.85 1077.47 1531.6 Q1077.47 1540.33 1074.39 1544.94 Q1071.33 1549.52 1065.52 1549.52 Q1059.71 1549.52 1056.63 1544.94 Q1053.58 1540.33 1053.58 1531.6 Q1053.58 1522.85 1056.63 1518.27 Q1059.71 1513.66 1065.52 1513.66 Z\" fill=\"#f8f8f2\" fill-rule=\"nonzero\" fill-opacity=\"1\" /><path clip-path=\"url(#clip390)\" d=\"M1496.52 1544.91 L1512.84 1544.91 L1512.84 1548.85 L1490.9 1548.85 L1490.9 1544.91 Q1493.56 1542.16 1498.14 1537.53 Q1502.75 1532.88 1503.93 1531.53 Q1506.17 1529.01 1507.05 1527.27 Q1507.96 1525.51 1507.96 1523.82 Q1507.96 1521.07 1506.01 1519.33 Q1504.09 1517.6 1500.99 1517.6 Q1498.79 1517.6 1496.34 1518.36 Q1493.91 1519.13 1491.13 1520.68 L1491.13 1515.95 Q1493.95 1514.82 1496.41 1514.24 Q1498.86 1513.66 1500.9 1513.66 Q1506.27 1513.66 1509.46 1516.35 Q1512.66 1519.03 1512.66 1523.52 Q1512.66 1525.65 1511.85 1527.57 Q1511.06 1529.47 1508.95 1532.07 Q1508.37 1532.74 1505.27 1535.95 Q1502.17 1539.15 1496.52 1544.91 Z\" fill=\"#f8f8f2\" fill-rule=\"nonzero\" fill-opacity=\"1\" /><path clip-path=\"url(#clip390)\" d=\"M1941.23 1518.36 L1929.42 1536.81 L1941.23 1536.81 L1941.23 1518.36 M1940 1514.29 L1945.88 1514.29 L1945.88 1536.81 L1950.81 1536.81 L1950.81 1540.7 L1945.88 1540.7 L1945.88 1548.85 L1941.23 1548.85 L1941.23 1540.7 L1925.62 1540.7 L1925.62 1536.19 L1940 1514.29 Z\" fill=\"#f8f8f2\" fill-rule=\"nonzero\" fill-opacity=\"1\" /><polyline clip-path=\"url(#clip390)\" style=\"stroke:#f8f8f2; stroke-linecap:round; stroke-linejoin:round; stroke-width:4; stroke-opacity:1; fill:none\" points=\"149.191,1486.45 149.191,47.2441 \"/>\n",
       "<polyline clip-path=\"url(#clip390)\" style=\"stroke:#f8f8f2; stroke-linecap:round; stroke-linejoin:round; stroke-width:4; stroke-opacity:1; fill:none\" points=\"149.191,1371.31 166.03,1371.31 \"/>\n",
       "<polyline clip-path=\"url(#clip390)\" style=\"stroke:#f8f8f2; stroke-linecap:round; stroke-linejoin:round; stroke-width:4; stroke-opacity:1; fill:none\" points=\"149.191,1083.47 166.03,1083.47 \"/>\n",
       "<polyline clip-path=\"url(#clip390)\" style=\"stroke:#f8f8f2; stroke-linecap:round; stroke-linejoin:round; stroke-width:4; stroke-opacity:1; fill:none\" points=\"149.191,795.63 166.03,795.63 \"/>\n",
       "<polyline clip-path=\"url(#clip390)\" style=\"stroke:#f8f8f2; stroke-linecap:round; stroke-linejoin:round; stroke-width:4; stroke-opacity:1; fill:none\" points=\"149.191,507.789 166.03,507.789 \"/>\n",
       "<polyline clip-path=\"url(#clip390)\" style=\"stroke:#f8f8f2; stroke-linecap:round; stroke-linejoin:round; stroke-width:4; stroke-opacity:1; fill:none\" points=\"149.191,219.949 166.03,219.949 \"/>\n",
       "<path clip-path=\"url(#clip390)\" d=\"M50.9921 1371.76 L80.6679 1371.76 L80.6679 1375.7 L50.9921 1375.7 L50.9921 1371.76 Z\" fill=\"#f8f8f2\" fill-rule=\"nonzero\" fill-opacity=\"1\" /><path clip-path=\"url(#clip390)\" d=\"M103.608 1358.11 L91.8021 1376.55 L103.608 1376.55 L103.608 1358.11 M102.381 1354.03 L108.26 1354.03 L108.26 1376.55 L113.191 1376.55 L113.191 1380.44 L108.26 1380.44 L108.26 1388.59 L103.608 1388.59 L103.608 1380.44 L88.0058 1380.44 L88.0058 1375.93 L102.381 1354.03 Z\" fill=\"#f8f8f2\" fill-rule=\"nonzero\" fill-opacity=\"1\" /><path clip-path=\"url(#clip390)\" d=\"M53.0754 1083.92 L82.7512 1083.92 L82.7512 1087.86 L53.0754 1087.86 L53.0754 1083.92 Z\" fill=\"#f8f8f2\" fill-rule=\"nonzero\" fill-opacity=\"1\" /><path clip-path=\"url(#clip390)\" d=\"M96.8715 1096.82 L113.191 1096.82 L113.191 1100.75 L91.2465 1100.75 L91.2465 1096.82 Q93.9086 1094.06 98.4919 1089.43 Q103.098 1084.78 104.279 1083.44 Q106.524 1080.91 107.404 1079.18 Q108.307 1077.42 108.307 1075.73 Q108.307 1072.97 106.362 1071.24 Q104.441 1069.5 101.339 1069.5 Q99.14 1069.5 96.6863 1070.26 Q94.2558 1071.03 91.478 1072.58 L91.478 1067.86 Q94.3021 1066.72 96.7558 1066.14 Q99.2095 1065.57 101.246 1065.57 Q106.617 1065.57 109.811 1068.25 Q113.006 1070.94 113.006 1075.43 Q113.006 1077.56 112.196 1079.48 Q111.408 1081.38 109.302 1083.97 Q108.723 1084.64 105.621 1087.86 Q102.52 1091.05 96.8715 1096.82 Z\" fill=\"#f8f8f2\" fill-rule=\"nonzero\" fill-opacity=\"1\" /><path clip-path=\"url(#clip390)\" d=\"M101.246 781.429 Q97.6354 781.429 95.8067 784.994 Q94.0012 788.535 94.0012 795.665 Q94.0012 802.771 95.8067 806.336 Q97.6354 809.878 101.246 809.878 Q104.881 809.878 106.686 806.336 Q108.515 802.771 108.515 795.665 Q108.515 788.535 106.686 784.994 Q104.881 781.429 101.246 781.429 M101.246 777.725 Q107.057 777.725 110.112 782.332 Q113.191 786.915 113.191 795.665 Q113.191 804.392 110.112 808.998 Q107.057 813.581 101.246 813.581 Q95.4363 813.581 92.3576 808.998 Q89.3021 804.392 89.3021 795.665 Q89.3021 786.915 92.3576 782.332 Q95.4363 777.725 101.246 777.725 Z\" fill=\"#f8f8f2\" fill-rule=\"nonzero\" fill-opacity=\"1\" /><path clip-path=\"url(#clip390)\" d=\"M96.8715 521.134 L113.191 521.134 L113.191 525.069 L91.2465 525.069 L91.2465 521.134 Q93.9086 518.38 98.4919 513.75 Q103.098 509.097 104.279 507.755 Q106.524 505.231 107.404 503.495 Q108.307 501.736 108.307 500.046 Q108.307 497.292 106.362 495.556 Q104.441 493.819 101.339 493.819 Q99.14 493.819 96.6863 494.583 Q94.2558 495.347 91.478 496.898 L91.478 492.176 Q94.3021 491.042 96.7558 490.463 Q99.2095 489.884 101.246 489.884 Q106.617 489.884 109.811 492.569 Q113.006 495.255 113.006 499.745 Q113.006 501.875 112.196 503.796 Q111.408 505.694 109.302 508.287 Q108.723 508.958 105.621 512.176 Q102.52 515.37 96.8715 521.134 Z\" fill=\"#f8f8f2\" fill-rule=\"nonzero\" fill-opacity=\"1\" /><path clip-path=\"url(#clip390)\" d=\"M103.608 206.743 L91.8021 225.192 L103.608 225.192 L103.608 206.743 M102.381 202.669 L108.26 202.669 L108.26 225.192 L113.191 225.192 L113.191 229.08 L108.26 229.08 L108.26 237.229 L103.608 237.229 L103.608 229.08 L88.0058 229.08 L88.0058 224.567 L102.381 202.669 Z\" fill=\"#f8f8f2\" fill-rule=\"nonzero\" fill-opacity=\"1\" /><g clip-path=\"url(#clip392)\">\n",
       "<image width=\"1964\" height=\"1439\" xlink:href=\"data:image/png;base64,\n",
       "iVBORw0KGgoAAAANSUhEUgAAB6wAAAWfCAYAAAAf3Aj/AAAgAElEQVR4nOzbYW4b63mG4W8oy47t\n",
       "Fs2i2B3IXWStHVSLaoEkPudI4vRPAyRAgXDSqLdf6rpW8GDwcWbIW9oWAAAAALxT5+1hrzdc62l/\n",
       "3OoNAADwj3aqBwAAAAAAAADwPgnWAAAAAAAAACQEawAAAAAAAAASgjUAAAAAAAAACcEaAAAAAAAA\n",
       "gIRgDQAAAAAAAEBCsAYAAAAAAAAgIVgDAAAAAAAAkBCsAQAAAAAAAEgI1gAAAAAAAAAkBGsAAAAA\n",
       "AAAAEoI1AAAAAAAAAAnBGgAAAAAAAICEYA0AAAAAAABAQrAGAAAAAAAAICFYAwAAAAAAAJAQrAEA\n",
       "AAAAAABICNYAAAAAAAAAJARrAAAAAAAAABKCNQAAAAAAAAAJwRoAAAAAAACAhGANAAAAAAAAQEKw\n",
       "BgAAAAAAACAhWAMAAAAAAACQEKwBAAAAAAAASAjWAAAAAAAAACQEawAAAAAAAAASgjUAAAAAAAAA\n",
       "AAAAAAAAAAAAAAAAAAAAAAAAAAAAAAAAAAAAAAAAAAAAAAAAAAAAAAAAAAAAAAAAAAAAAAAAAAAA\n",
       "AAAAAAAAAAAAAAAAAAAAAAAAAAAAAAAAAAAAAAAAAAAAAAAAAAAAAAAAAAAAAAAAAAAAAAAAAAAA\n",
       "AAAAAAAAAAAAAAAAAAAAAAAAAAAAAAAAAAAAAAAAAAAAAAAAAAAAAAAAAAAAAAAAAAAAAAAAAAAA\n",
       "AAAAAAAAAAAAAAAAAAAAAAAAAAAAAAAAAAAAAAAAAAAAAAAAAAAAAAAAAAAAAAAAAAAAAAAAAAAA\n",
       "AAAAAAAAAAAAAAAAAAAAAAAAAAAAAAAAAAAAAAAAAAAAAAAAAAAAAAAAAAAAAAAAAAAAAAAAAAAA\n",
       "AAAAAAAAAAAAAAAAAAAAAAAAAAAAAAAAAAAAAAAAAAAAAAAAAAAAAAAAAAAAAAAAAAAAAAAAAAAA\n",
       "AAAAAAAAAAAAAAAAAAAAAAAAAAAAAAAAAAAAAAAAAAAAAAAAAAAAAAAAAAAAAAAAAAAAAAAAAAAA\n",
       "AAAAAAAAAAAAAAAAAAAAAAAAAAAAAAAAAAAAAAAAAAAAAAAAAAAAAAAAAAAAAAAAAAAAAAAAAAAA\n",
       "AAAAAAAAAAAAAAAAAAAAAAAAAAAAAAAAAAAAAAAAAAAAAAAAAAAAAAAAAAAAAAAAAAAAAAAAAAAA\n",
       "AAAAAAAAAAAAAAAAAAAAAAAAAAAAAAAAAAAAAAAAAAAAAAAAAAAAAAAAAAAAAAAAAAAAAAAAAAAA\n",
       "AAAAAAAAAAAAAAAAAAAAAAAAAAAAAAAAAAAAAAAAAAAAAAAAAAAAAAAAAAAAAAAAAAAAAAAAAAAA\n",
       "AAAAAAAAAAAAAAAAAAAAAAAAAAAAAAAAAAAAAAAAAAAAAAC8H1s9AAAAAACgdN4e9nrDEU/7o991\n",
       "AYCbcaoHAAAAAAAAAPA+CdYAAAAAAAAAJARrAAAAAAAAABKCNQAAAAAAAAAJwRoAAAAAAACAhGAN\n",
       "AAAAAAAAQEKwBgAAAAAAACAhWAMAAAAAAACQEKwBAAAAAAAASAjWAAAAAAAAACQEawAAAAAAAAAS\n",
       "gjUAAAAAAAAACcEaAAAAAAAAgIRgDQAAAAAAAEBCsAYAAAAAAAAgIVgDAAAAAAAAkBCsAQAAAAAA\n",
       "AEgI1gAAAAAAAAAkBGsAAAAAAAAAEoI1AAAAAAAAAAnBGgAAAAAAAICEYA0AAAAAAABAQrAGAAAA\n",
       "AAAAICFYAwAAAAAAAJAQrAEAAAAAAABICNYAAAAAAAAAJARrAAAAAAAAABJbPQAAAN7K+fRtrzdc\n",
       "6+ny3bs5AAAAAO+O/7AGAAAAAAAAICFYAwAAAAAAAJAQrAEAAAAAAABICNYAAAAAAAAAJARrAAAA\n",
       "AAAAABKCNQAAAAAAAAAJwRoAAAAAAACAhGANAAAAAAAAQEKwBgAAAAAAACAhWAMAAAAAAACQEKwB\n",
       "AAAAAAAASAjWAAAAAAAAACQEawAAAAAAAAASgjUAAAAAAAAACcEaAAAAAAAAgIRgDQAAAAAAAEBC\n",
       "sAYAAAAAAAAgIVgDAAAAAAAAkBCsAQAAAAAAAEgI1gAAAAAAAAAkBGsAAAAAAAAAEoI1AAAAAAAA\n",
       "AAnBGgAAAAAAAICEYA0AAAAAAABAQrAGAAAAAAAAICFYAwAAAAAAAJAQrAEAAAAAAABICNYAAAAA\n",
       "AAAAJLZ6AAC8V+ftYa83XOtpf/TOwFpr1rldy9l9S84CfzbtLKxtzlF4unyfMxb+wrT7gmcEAAC0\n",
       "/Ic1AAAAAAAAAAnBGgAAAAAAAICEYA0AAAAAAABAQrAGAAAAAAAAICFYAwAAAAAAAJAQrAEAAAAA\n",
       "AABICNYAAAAAAAAAJARrAAAAAAAAABKCNQAAAAAAAAAJwRoAAAAAAACAhGANAAAAAAAAQEKwBgAA\n",
       "AAAAACAhWAMAAAAAAACQEKwBAAAAAAAASAjWAAAAAAAAACQEawAAAAAAAAASgjUAAAAAAAAACcEa\n",
       "AAAAAAAAgIRgDQAAAAAAAEBCsAYAAAAAAAAgIVgDAAAAAAAAkBCsAQAAAAAAAEgI1gAAAAAAAAAk\n",
       "BGsAAAAAAAAAEoI1AAAAAAAAAAnBGgAAAAAAAICEYA0AAAAAAABAQrAGAAAAAAAAILHVAwAA4K2c\n",
       "T9/2esOterp8913ijZy3h1Hn9ml/dBZYazm7b8m15c+cBQAAbpH/sAYAAAAAAAAgIVgDAAAAAAAA\n",
       "kBCsAQAAAAAAAEgI1gAAAAAAAAAkBGsAAAAAAAAAEoI1AAAAAAAAAAnBGgAAAAAAAICEYA0AAAAA\n",
       "AABAQrAGAAAAAAAAICFYAwAAAAAAAJAQrAEAAAAAAABICNYAAAAAAAAAJARrAAAAAAAAABKCNQAA\n",
       "AAAAAAAJwRoAAAAAAACAhGANAAAAAAAAQEKwBgAAAAAAACAhWAMAAAAAAACQEKwBAAAAAAAASAjW\n",
       "AAAAAAAAACQEawAAAAAAAAASgjUAAAAAAAAACcEaAAAAAAAAgIRgDQAAAAAAAEBCsAYAAAAAAAAg\n",
       "IVgDAAAAAAAAkBCsAQAAAAAAAEgI1gAAAAAAAAAktnoAAPDzO28Pe70Bbt7m1Zyh9mGPiEmftWnX\n",
       "dpin/XHQYQAAALhd/sMaAAAAAAAAgIRgDQAAAAAAAEBCsAYAAAAAAAAgIVgDAAAAAAAAkBCsAQAA\n",
       "AAAAAEgI1gAAAAAAAAAkBGsAAAAAAAAAEoI1AAAAAAAAAAnBGgAAAAAAAICEYA0AAAAAAABAQrAG\n",
       "AAAAAAAAICFYAwAAAAAAAJAQrAEAAAAAAABICNYAAAAAAAAAJARrAAAAAAAAABKCNQAAAAAAAAAJ\n",
       "wRoAAAAAAACAhGANAAAAAAAAQEKwBgAAAAAAACAhWAMAAAAAAACQEKwBAAAAAAAASAjWAAAAAAAA\n",
       "ACQEawAAAAAAAAASgjUAAAAAAAAACcEaAAAAAAAAgIRgDQAAAAAAAEBCsAYAAAAAAAAgIVgDAAAA\n",
       "AAAAkNjqAQDwXp23h73ecLO2Wa8426C9//H673PGrrXOp28+Z4wz6Z4w0qDru18u9QR+Fvusx9nT\n",
       "/jjng7a8l7+laWcBAICG/7AGAAAAAAAAICFYAwAAAAAAAJAQrAEAAAAAAABICNYAAAAAAAAAJARr\n",
       "AAAAAAAAABKCNQAAAAAAAAAJwRoAAAAAAACAhGANAAAAAAAAQEKwBgAAAAAAACAhWAMAAAAAAACQ\n",
       "EKwBAAAAAAAASAjWAAAAAAAAACQEawAAAAAAAAASgjUAAAAAAAAACcEaAAAAAAAAgIRgDQAAAAAA\n",
       "AEBCsAYAAAAAAAAgIVgDAAAAAAAAkBCsAQAAAAAAAEgI1gAAAAAAAAAkBGsAAAAAAAAAEoI1AAAA\n",
       "AAAAAAnBGgAAAAAAAICEYA0AAAAAAABAQrAGAAAAAAAAICFYAwAAAAAAAJAQrAEAAAAAAABIbPUA\n",
       "AH5e5+1hrzfAu7DNeSXbBm1da619dxt7M8Ou7Xbyt7oMNOyeO+2+4BkBb+/p8n3Mjex8+jbqpjDp\n",
       "2gIA/C1+tQEAAAAAAAAgIVgDAAAAAAAAkBCsAQAAAAAAAEgI1gAAAAAAAAAkBGsAAAAAAAAAEoI1\n",
       "AAAAAAAAAAnBGgAAAAAAAICEYA0AAAAAAABAQrAGAAAAAAAAICFYAwAAAAAAAJAQrAEAAAAAAABI\n",
       "CNYAAAAAAAAAJARrAAAAAAAAABKCNQAAAAAAAAAJwRoAAAAAAACAhGANAAAAAAAAQEKwBgAAAAAA\n",
       "ACAhWAMAAAAAAACQEKwBAAAAAAAASAjWAAAAAAAAACQEawAAAAAAAAASgjUAAAAAAAAACcEaAAAA\n",
       "AAAAgIRgDQAAAAAAAEBCsAYAAAAAAAAgIVgDAAAAAAAAkBCsAQAAAAAAAEgI1gAAAAAAAAAktnoA\n",
       "APyjnE/f9noDP4dt84rDQKe7esExl9d6wTF3H+oF19s9zt7SdprzjNgvw87CtPsCb2Yfdh+b9O44\n",
       "7dp6pr2dp/1xzsFda523B4fhjUw7C5NMO7fOAjCZ/7AGAAAAAAAAICFYAwAAAAAAAJAQrAEAAAAA\n",
       "AABICNYAAAAAAAAAJARrAAAAAAAAABKCNQAAAAAAAAAJwRoAAAAAAACAhGANAAAAAAAAQEKwBgAA\n",
       "AAAAACAhWAMAAAAAAACQEKwBAAAAAAAASAjWAAAAAAAAACQEawAAAAAAAAASgjUAAAAAAAAACcEa\n",
       "AAAAAAAAgIRgDQAAAAAAAEBCsAYAAAAAAAAgIVgDAAAAAAAAkBCsAQAAAAAAAEgI1gAAAAAAAAAk\n",
       "BGsAAAAAAAAAEoI1AAAAAAAAAAnBGgAAAAAAAICEYA0AAAAAAABAQrAGAAAAAAAAICFYAwAAAAAA\n",
       "AJAQrAEAAAAAAABICNYAAAAAAAAAJLZ6AMB7c94e9nrDrdpOs/4Oa9/nHIVt88rA/xh3FgbtHXZt\n",
       "tw939YRjJj0jXl/rBcfcDTsLk1zmvCustdY6zbqPTfqs7S9ztq611tov9YJjBj2D98uwazvI0+X7\n",
       "nIOwBv62MOhzNu0sAMAtGPSrDQAAAAAAAAC3RLAGAAAAAAAAICFYAwAAAAAAAJAQrAEAAAAAAABI\n",
       "CNYAAAAAAAAAJARrAAAAAAAAABKCNQAAAAAAAAAJwRoAAAAAAACAhGANAAAAAAAAQEKwBgAAAAAA\n",
       "ACAhWAMAAAAAAACQEKwBAAAAAAAASAjWAAAAAAAAACQEawAAAAAAAAASgjUAAAAAAAAACcEaAAAA\n",
       "AAAAgIRgDQAAAAAAAEBCsAYAAAAAAAAgIVgDAAAAAAAAkBCsAQAAAAAAAEgI1gAAAAAAAAAkBGsA\n",
       "AAAAAAAAEoI1AAAAAAAAAAnBGgAAAAAAAICEYA0AAAAAAABAQrAGAAAAAAAAICFYAwAAAAAAAJAQ\n",
       "rAEAAAAAAABIbPUA+Hudt4e93nCrnvbHUfcGZ+ENbaOOwjjbadDfjQ07C9vdXT3hdu2zbrnbx4/1\n",
       "hKtN2rrWWvvlUk845uWlXnC9j/f1gmOeB13btWY90ya9K6y11rT7wqBn2uWXX+sJh4x7Fxt0FvbL\n",
       "az3hmEH3hf112LWd9Dxba9TnbJppv+MBwP9m2LdfAAAAAAAAAG6FYA0AAAAAAABAQrAGAAAAAAAA\n",
       "ICFYAwAAAAAAAJAQrAEAAAAAAABICNYAAAAAAAAAJARrAAAAAAAAABKCNQAAAAAAAAAJwRoAAAAA\n",
       "AACAhGANAAAAAAAAQEKwBgAAAAAAACAhWAMAAAAAAACQEKwBAAAAAAAASAjWAAAAAAAAACQEawAA\n",
       "AAAAAAASgjUAAAAAAAAACcEaAAAAAAAAgIRgDQAAAAAAAEBCsAYAAAAAAAAgIVgDAAAAAAAAkBCs\n",
       "AQAAAAAAAEgI1gAAAAAAAAAkBGsAAAAAAAAAEoI1AAAAAAAAAAnBGgAAAAAAAICEYA0AAAAAAABA\n",
       "QrAGAAAAAAAAILHVA+C9OG8Pe73hZm1uZW9lO836u6b99bWecMh2f19PuNq0s7B9/FhPOGbS9b1c\n",
       "6gWH7C8v9YSrnT5/riccMu6e+8//VE+43o8f9YJjPn2qFxxzN+ie+zznHrbWWuv5uV5wyD7o+u6/\n",
       "zbq2a/f1963sw97F1mXQ+4Jz+6bGnd1BnvZHP4wBMN6gb+oAAAAAAAAA3BLBGgAAAAAAAICEYA0A\n",
       "AAAAAABAQrAGAAAAAAAAICFYAwAAAAAAAJAQrAEAAAAAAABICNYAAAAAAAAAJARrAAAAAAAAABKC\n",
       "NQAAAAAAAAAJwRoAAAAAAACAhGANAAAAAAAAQEKwBgAAAAAAACAhWAMAAAAAAACQEKwBAAAAAAAA\n",
       "SAjWAAAAAAAAACQEawAAAAAAAAASgjUAAAAAAAAACcEaAAAAAAAAgIRgDQAAAAAAAEBCsAYAAAAA\n",
       "AAAgIVgDAAAAAAAAkBCsAQAAAAAAAEgI1gAAAAAAAAAkBGsAAAAAAAAAEoI1AAAAAAAAAAnBGgAA\n",
       "AAAAAICEYA0AAAAAAABAQrAGAAAAAAAAILHVAwD+r86nb3u94YjtdFdPOGDUpR1nu7+vJ1zvNOtv\n",
       "3LZpez99qidc7zTs9fF3g67ty2u94Jgvn+sFx2xzzu7+adDzYa21/fZcTzhm0jPiT7/UC44Z9Dlb\n",
       "a6318lIvuFn7H/5YTzhm0H3h8sdh13aSy6zvv/tl1rvjNu0ZMch+udQTbtbT/ujgAvw/mfNGDgAA\n",
       "AAAAAMBNEawBAAAAAAAASAjWAAAAAAAAACQEawAAAAAAAAASgjUAAAAAAAAACcEaAAAAAAAAgIRg\n",
       "DQAAAAAAAEBCsAYAAAAAAAAgIVgDAAAAAAAAkBCsAQAAAAAAAEgI1gAAAAAAAAAkBGsAAAAAAAAA\n",
       "EoI1AAAAAAAAAAnBGgAAAAAAAICEYA0AAAAAAABAQrAGAAAAAAAAICFYAwAAAAAAAJAQrAEAAAAA\n",
       "AABICNYAAAAAAAAAJARrAAAAAAAAABKCNQAAAAAAAAAJwRoAAAAAAACAhGANAAAAAAAAQEKwBgAA\n",
       "AAAAACAhWAMAAAAAAACQEKwBAAAAAAAASAjWAAAAAAAAACQEawAAAAAAAAASWz0A3ovz6dteb7jW\n",
       "0+W7e8Mb+te7fxtzFvbLpZ5wyOnz53rCIdvdXT3heh8GbV1rbff39YRjXgd91r5+qRccc/+hXnC1\n",
       "/cunesIh+6dhn7N9zON3rcugrWut168f6wmHfPjDr/WEq71+GXZt//NP9YRjfn2uF1zvlznndq21\n",
       "1mnY/0f89lu94Gr7r3O2rrXW/uNHPeFq077/rmF790HvYts262excWd30vUddG7XWutpfxx0cQH+\n",
       "2rBvEAAAAAAAAADcCsEaAAAAAAAAgIRgDQAAAAAAAEBCsAYAAAAAAAAgIVgDAAAAAAAAkBCsAQAA\n",
       "AAAAAEgI1gAAAAAAAAAkBGsAAAAAAAAAEoI1AAAAAAAAAAnBGgAAAAAAAICEYA0AAAAAAABAQrAG\n",
       "AAAAAAAAICFYAwAAAAAAAJAQrAEAAAAAAABICNYAAAAAAAAAJARrAAAAAAAAABKCNQAAAAAAAAAJ\n",
       "wRoAAAAAAACAhGANAAAAAAAAQEKwBgAAAAAAACAhWAMAAAAAAACQEKwBAAAAAAAASAjWAAAAAAAA\n",
       "ACQEawAAAAAAAAASgjUAAAAAAAAACcEaAAAAAAAAgIRgDQAAAAAAAEBCsAYAAAAAAAAg8aEeAPx8\n",
       "ztvDXm84ZNvqBcec5vyt0HZ3V084xll4O9ugrWut9fFjveCYj/f1gqvtnz/VEw65fB20d9gt7Plf\n",
       "Bl3btdbrp0H3sWFnYXud9er4+nnO1+Btn3Vtt5ff1RMO2X//pZ5wtbv/+lFPOGR7fq0nHHM/576w\n",
       "np/rBYdsX7/WE673Y9bnbH9+qSccsq1LPQEOe9ofh72ZA8w16FcbAAAAAAAAAG6JYA0AAAAAAABA\n",
       "QrAGAAAAAAAAICFYAwAAAAAAAJAQrAEAAAAAAABICNYAAAAAAAAAJARrAAAAAAAAABKCNQAAAAAA\n",
       "AAAJwRoAAAAAAACAhGANAAAAAAAAQEKwBgAAAAAAACAhWAMAAAAAAACQEKwBAAAAAAAASAjWAAAA\n",
       "AAAAACQEawAAAAAAAAASgjUAAAAAAAAACcEaAAAAAAAAgIRgDQAAAAAAAEBCsP5v9u1lx7L7LOPw\n",
       "t/bedexut+3YIZYTCBJBYoIYAQNmVBBiwqQN3BtIzHHfATWBMUKIKEiREKckxLETd/pU3VW191oM\n",
       "mMBs/ZFKr7/iea7g1dLa6/SrAgAAAAAAACBCsAYAAAAAAAAgQrAGAAAAAAAAIEKwBgAAAAAAACBC\n",
       "sAYAAAAAAAAgQrAGAAAAAAAAIEKwBgAAAAAAACBCsAYAAAAAAAAgQrAGAAAAAAAAIEKwBgAAAAAA\n",
       "ACBilx4A/1cX05MlvWHE5fzplN6wVrdjO2236Qn31rTtdZuYjo/TE8a0uSpUTQ/O0xPGnPY6F+aH\n",
       "Z+kJqy1Hva65N++fpiestj/t9bek+/NGF7GqWjZ99l4/7rO1quroqtWjY02H9IL1ll6X3Dr5Ra9n\n",
       "x7PPr9MTVju82+tZbPvybXrCkOl1nwvDdNbnubGqqg59jm2rrR3Nc3rBast+n54wZur17Mjdudh8\n",
       "0urBvNP38m66fd+/XJ46F/Af1gAAAAAAAABkCNYAAAAAAAAARAjWAAAAAAAAAEQI1gAAAAAAAABE\n",
       "CNYAAAAAAAAARAjWAAAAAAAAAEQI1gAAAAAAAABECNYAAAAAAAAARAjWAAAAAAAAAEQI1gAAAAAA\n",
       "AABECNYAAAAAAAAARAjWAAAAAAAAAEQI1gAAAAAAAABECNYAAAAAAAAARAjWAAAAAAAAAEQI1gAA\n",
       "AAAAAABECNYAAAAAAAAARAjWAAAAAAAAAEQI1gAAAAAAAABECNYAAAAAAAAARAjWAAAAAAAAAEQI\n",
       "1gAAAAAAAABECNYAAAAAAAAARAjWAAAAAAAAAEQI1gAAAAAAAABECNYAAAAAAAAARAjWAAAAAAAA\n",
       "AERM6QHAV893d3+2pDcMWeb0giHTbpeesNp0fJyeMGa3TS8YMm0a7X33nfSCIfN7D9MThizbPo9k\n",
       "Vx+fpyfcW9fv9Ppb0sNJn/O2qurt++kF6y19HhWqqmo6pBfcXyfP0gvGbG7TC8bsrvu89uyuer3z\n",
       "nP7sJj1hyNHzt+kJq00v36QnjHl7nV6w2nLV69gut80uuoc+DwxLo61VVct+n54wZJr6vEf89eGv\n",
       "+oxt6GJ60uZh7HJ56lyAO9brqxgAAAAAAAAA94ZgDQAAAAAAAECEYA0AAAAAAABAhGANAAAAAAAA\n",
       "QIRgDQAAAAAAAECEYA0AAAAAAABAhGANAAAAAAAAQIRgDQAAAAAAAECEYA0AAAAAAABAhGANAAAA\n",
       "AAAAQIRgDQAAAAAAAECEYA0AAAAAAABAhGANAAAAAAAAQIRgDQAAAAAAAECEYA0AAAAAAABAhGAN\n",
       "AAAAAAAAQIRgDQAAAAAAAECEYA0AAAAAAABAhGANAAAAAAAAQIRgDQAAAAAAAECEYA0AAAAAAABA\n",
       "hGANAAAAAAAAQIRgDQAAAAAAAECEYA0AAAAAAABAhGANAAAAAAAAQIRgDQAAAAAAAECEYA0AAAAA\n",
       "AABAhGANAAAAAAAAQMQuPeC+u5ieLOkNq01TesH9tvQ5FWqZ0wvGbLfpBUOWQ5/jO3W7Lmya/R3W\n",
       "w/P0gvW2vY7t4fwoPWHI4azPdez6ca9zYWk0982Hva65+wfpBWMOx+kF691+cJueMGTzps81rKqq\n",
       "+jyK1f5Bo4tYQ6df9LnunjR7Ftve9noWmxpdF3aN3ierqqbrm/SE1abjXudtHQ7pBUPmRudC9bk9\n",
       "VFXVtGn2LNbo+F7Mjb7tV/X7vt/pezlw53q98QAAAAAAAABwbwjWAAAAAAAAAEQI1gAAAAAAAABE\n",
       "CNYAAAAAAAAARAjWAAAAAAAAAEQI1gAAAAAAAABECNYAAAAAAAAARAjWAAAAAAAAAEQI1gAAAAAA\n",
       "AABECNYAAAAAAAAARAjWAAAAAAAAAEQI1gAAAAAAAABECNYAAAAAAAAARAjWAAAAAAAAAEQI1gAA\n",
       "AAAAAABECNYAAAAAAAAARAjWAAAAAAAAAEQI1gAAAAAAAABECNYAAAAAAAAARAjWAAAAAAAAAEQI\n",
       "1gAAAAAAAABECNYAAAAAAAAARAjWAAAAAAAAAEQI1gAAAAAAAABECNYAAAAAAAAARAjWAAAAAAAA\n",
       "AEQI1gAAAAAAAABECNYAAAAAAAAAROzSA0ZdTE+W9IZ7a3Fo79K03aYnrDdN6QWDeu3dnJ2kJ6zX\n",
       "7FyYThod26pWx3f/waP0hCH7s0bX3Kp6+a3j9ITV3n4tvWDM/mF6wXr7817PYocPbtIThhyf36Yn\n",
       "rPbeWa9j+2vv/Sw9Ycjf//u30hNWu37Q65V9uun1N/H7B332Lv/R57mxqmpaej2L7V4f0hPWa/QO\n",
       "UVVVnd5/5zm9YEy3c6HT3nbnQnrAoG7Ht5HL+dNWZ4PWA/xPfd7OAAAAAAAAALhXBGsAAAAAAAAA\n",
       "IgRrAAAAAAAAACIEawAAAAAAAAAiBGsAAAAAAAAAIgRrAAAAAAAAACIEawAAAAAAAAAiBGsAAAAA\n",
       "AAAAIgRrAAAAAAAAACIEawAAAAAAAAAiBGsAAAAAAAAAIgRrAAAAAAAAACIEawAAAAAAAAAiBGsA\n",
       "AAAAAAAAIgRrAAAAAAAAACIEawAAAAAAAAAiBGsAAAAAAAAAIgRrAAAAAAAAACIEawAAAAAAAAAi\n",
       "BGsAAAAAAAAAIgRrAAAAAAAAACIEawAAAAAAAAAiBGsAAAAAAAAAIgRrAAAAAAAAACIEawAAAAAA\n",
       "AAAiBGsAAAAAAAAAIgRrAAAAAAAAACIEawAAAAAAAAAidukBoy6Xp1N6w4iLzSdLesNqS5+pVQ3P\n",
       "hbnPuTBte10aplZnQtUyz+kJq21OjtMTxhz1OneXRw/SE+6tw9k2PWHIfJResN7Nu+kFY/aP+lxz\n",
       "p/ev0xOG/NL7L9MThnz08EV6wmq3c7Nr2O0dc5YAACAASURBVNLrYex3f/Xf0hNW+8GzD9MThrx+\n",
       "c5KeMOTtF+fpCavtmz3bHI57XReWTZ+9y3Gzd55tn/+V2dwe0hOGTNc36QlDpk7v6/t9esGQZW7z\n",
       "ybGdadPnGlZVdbH0+f5cVe16BHC3el1xAQAAAAAAALg3BGsAAAAAAAAAIgRrAAAAAAAAACIEawAA\n",
       "AAAAAAAiBGsAAAAAAAAAIgRrAAAAAAAAACIEawAAAAAAAAAiBGsAAAAAAAAAIgRrAAAAAAAAACIE\n",
       "awAAAAAAAAAiBGsAAAAAAAAAIgRrAAAAAAAAACIEawAAAAAAAAAiBGsAAAAAAAAAIgRrAAAAAAAA\n",
       "ACIEawAAAAAAAAAiBGsAAAAAAAAAIgRrAAAAAAAAACIEawAAAAAAAAAiBGsAAAAAAAAAIgRrAAAA\n",
       "AAAAACIEawAAAAAAAAAiBGsAAAAAAAAAIgRrAAAAAAAAACIEawAAAAAAAAAiBGsAAAAAAAAAIgRr\n",
       "AAAAAAAAACJ26QH33rKkF6w2bXr9/cJ3pz/tc3CrWp0LVZ22Vi1zesGYzXabnrDeyUl6wZjbfXrB\n",
       "mLnPybvset0jbs+n9IQhN4/TC9bbP+hz3lZVHX3jKj1htXcf9NlaVfVnv/x36QlDnu0fpCes9uHR\n",
       "y/SEIbdLo2ebqnp/9yo9YbWjzW+kJwz58vo8PWHI9159Mz1hteWo1+/szQfpBWN2V0fpCatNc6/3\n",
       "9ZOfvEhPWG/f7H3y7DS9YMh0OKQnrLY02vrfer2jVaNv0Eu360I3U6NvN71uv3UxPWm1+HJ52uhk\n",
       "4K70uTsAAAAAAAAAcK8I1gAAAAAAAABECNYAAAAAAAAARAjWAAAAAAAAAEQI1gAAAAAAAABECNYA\n",
       "AAAAAAAARAjWAAAAAAAAAEQI1gAAAAAAAABECNYAAAAAAAAARAjWAAAAAAAAAEQI1gAAAAAAAABE\n",
       "CNYAAAAAAAAARAjWAAAAAAAAAEQI1gAAAAAAAABECNYAAAAAAAAARAjWAAAAAAAAAEQI1gAAAAAA\n",
       "AABECNYAAAAAAAAARAjWAAAAAAAAAEQI1gAAAAAAAABECNYAAAAAAAAARAjWAAAAAAAAAEQI1gAA\n",
       "AAAAAABECNYAAAAAAAAARAjWAAAAAAAAAEQI1gAAAAAAAABECNYAAAAAAAAARAjWAAAAAAAAAETs\n",
       "0gNGXUxPlvSGIdOUXrDaXx/+qs/YqrrYfNLqXJg2ff4+pNPWqqqauu1t9FO7uUkvGPPBe+kFQ+aH\n",
       "J+kJq+0f9Hpk2J81+p1V1e51esF62ze9ju3R9pCesNo3Hz1PTxjy09vH6QlDPjx6mZ6w2ndOPktP\n",
       "GPLbJ73O3b9582F6wmp/+P730hOG/MUPfy89Ycju9DY9YbXr93o9iz34Ya93tJtHfZ5vTp/1OraH\n",
       "B6fpCattOr2rV9X07EV6wph5Ti9YbZlbfXLs9Z2pqurQ5x2t2zfSpdHvrKqqlj6/tW5d6nJ52uzC\n",
       "AP7DGgAAAAAAAIAQwRoAAAAAAACACMEaAAAAAAAAgAjBGgAAAAAAAIAIwRoAAAAAAACACMEaAAAA\n",
       "AAAAgAjBGgAAAAAAAIAIwRoAAAAAAACACMEaAAAAAAAAgAjBGgAAAAAAAIAIwRoAAAAAAACACMEa\n",
       "AAAAAAAAgAjBGgAAAAAAAIAIwRoAAAAAAACACMEaAAAAAAAAgAjBGgAAAAAAAIAIwRoAAAAAAACA\n",
       "CMEaAAAAAAAAgAjBGgAAAAAAAIAIwRoAAAAAAACACMEaAAAAAAAAgAjBGgAAAAAAAIAIwRoAAAAA\n",
       "AACACMEaAAAAAAAAgAjBGgAAAAAAAIAIwRoAAAAAAACACMEaAAAAAAAAgAjBGgAAAAAAAICIXXrA\n",
       "vbcs6QWrXWw+6TO2oWWe0xPW22zTC4ZMmyk9YUyj60KdnKQXjJkbHduqWhqdu/uTXn/jtrvqdS68\n",
       "+rjPuTCf9jq2+7nPufubj3+cnjDk2ydfpCcM2S99nm/+4Ow2PWHIVaNjW1X1WyefpSes9pfPfic9\n",
       "Ycjvf/0H6QlD/vzHv5eesNpy2uh9sqrmoz7336qqzT69YL3p0OtZbD7pc4/YPm90IlRVdfrOVFW1\n",
       "63MuTEe9Ppkvt72eHWvq8/7b6nsud6vReVtVVb0eF6Cq/Ic1AAAAAAAAACGCNQAAAAAAAAARgjUA\n",
       "AAAAAAAAEYI1AAAAAAAAABGCNQAAAAAAAAARgjUAAAAAAAAAEYI1AAAAAAAAABGCNQAAAAAAAAAR\n",
       "gjUAAAAAAAAAEYI1AAAAAAAAABGCNQAAAAAAAAARgjUAAAAAAAAAEYI1AAAAAAAAABGCNQAAAAAA\n",
       "AAARgjUAAAAAAAAAEYI1AAAAAAAAABGCNQAAAAAAAAARgjUAAAAAAAAAEYI1AAAAAAAAABGCNQAA\n",
       "AAAAAAARgjUAAAAAAAAAEYI1AAAAAAAAABGCNQAAAAAAAAARgjUAAAAAAAAAEYI1AAAAAAAAABGC\n",
       "NQAAAAAAAAARgjUAAAAAAAAAEYI1AAAAAAAAABG79IBRl8vTKb3hvrqYPlnSG+6zabtNT1ht2vXZ\n",
       "WlVVs1P3zizNju08pxcMmU/63IZ3b3sd26tvHKUnDNncphcMOPR6FJsPff4+8/svP0pPGHK+uUlP\n",
       "GPJHj76XnrDav+57XXNvll7Xhf88PE5PWO3Do5fpCUO+//rj9IQhv/6tn6YnrPaD738zPWHI0uf2\n",
       "W1VVS6NX4KnXLaI2N4f0hPWavf52M20a/dAafcOrqlpu9+kJY7p9a+LOtGo9zU7bi+lJq8WtzoVm\n",
       "Op0LzV4hAAAAAAAAALgvBGsAAAAAAAAAIgRrAAAAAAAAACIEawAAAAAAAAAiBGsAAAAAAAAAIgRr\n",
       "AAAAAAAAACIEawAAAAAAAAAiBGsAAAAAAAAAIgRrAAAAAAAAACIEawAAAAAAAAAiBGsAAAAAAAAA\n",
       "IgRrAAAAAAAAACIEawAAAAAAAAAiBGsAAAAAAAAAIgRrAAAAAAAAACIEawAAAAAAAAAiBGsAAAAA\n",
       "AAAAIgRrAAAAAAAAACIEawAAAAAAAAAiBGsAAAAAAAAAIgRrAAAAAAAAACIEawAAAAAAAAAiBGsA\n",
       "AAAAAAAAIgRrAAAAAAAAACIEawAAAAAAAAAiBGsAAAAAAAAAIgRrAAAAAAAAACIEawAAAAAAAAAi\n",
       "dukBfIUsS3rBkGnj7y3uynJ9nZ4wZDo+SU8YM03pBfdXr8tYbW4O6Qn31vHzbXrCkDcf9rmnzadz\n",
       "esKQ8+Pb9ITVts0uYh/sXqYnDPnR/nF6wmqfNdpaVXU69fmdVVV95/jz9ITVjqd9esKQV/vj9IQh\n",
       "//Hle+kJ99am16lbJ8/7PN8sfR4bq6rqcH6UnrDa9rNe30Jq2+udZ3l9lZ6w2rLvdRGbNr2+My2N\n",
       "PoVMzb7h9XqjrIaD+7hcnvY6ebkznc6FZo+5AAAAAAAAANwXgjUAAAAAAAAAEYI1AAAAAAAAABGC\n",
       "NQAAAAAAAAARgjUAAAAAAAAAEYI1AAAAAAAAABGCNQAAAAAAAAARgjUAAAAAAAAAEYI1AAAAAAAA\n",
       "ABGCNQAAAAAAAAARgjUAAAAAAAAAEYI1AAAAAAAAABGCNQAAAAAAAAARgjUAAAAAAAAAEYI1AAAA\n",
       "AAAAABGCNQAAAAAAAAARgjUAAAAAAAAAEYI1AAAAAAAAABGCNQAAAAAAAAARgjUAAAAAAAAAEYI1\n",
       "AAAAAAAAABGCNQAAAAAAAAARgjUAAAAAAAAAEYI1AAAAAAAAABGCNQAAAAAAAAARgjUAAAAAAAAA\n",
       "EYI1AAAAAAAAABFTegD8X313+ydLesOIZekzd9ps0xOGTLtdesKQ6fgoPWG16ew0PWHMg/P0giHz\n",
       "+4/SE1Y7nPc5b6uqXn90kp4w5PVHff6G8NWv9LmfVVXV19+mF6y2PZrTE4Z89N7z9IQhf/zxP6Yn\n",
       "rPbu9nV6wpDjaZ+eMORfrr+enrDaPzz/VnrCkH959rX0hCGvXvd5Xpg/7/Vcfv6jPs82VVXv/vMh\n",
       "PWG145e9rrknP3mVnrDaNPd6FqsvvkwvGLJc36QnrNfoG15V1fymzztPVbUqEsuhz/2hqupy/rTR\n",
       "0QX433q9QQAAAAAAAABwbwjWAAAAAAAAAEQI1gAAAAAAAABECNYAAAAAAAAARAjWAAAAAAAAAEQI\n",
       "1gAAAAAAAABECNYAAAAAAAAARAjWAAAAAAAAAEQI1gAAAAAAAABECNYAAAAAAAAARAjWAAAAAAAA\n",
       "AEQI1gAAAAAAAABECNYAAAAAAAAARAjWAAAAAAAAAEQI1gAAAAAAAABECNYAAAAAAAAARAjWAAAA\n",
       "AAAAAEQI1gAAAAAAAABECNYAAAAAAAAARAjWAAAAAAAAAEQI1gAAAAAAAABECNYAAAAAAAAARAjW\n",
       "AAAAAAAAAEQI1gAAAAAAAABECNYAAAAAAAAARAjWAAAAAAAAAEQI1gAAAAAAAABECNYAAAAAAAAA\n",
       "ROzSA0ZdTE+W9IZ7a5rSC4Ys85yeMKbR8Z122/SEIcvhkJ4wZFoaXXoPzX5nN7fpBWMWt7S7snvb\n",
       "69gev+iz9+yzPvezqqo302l6wmrTN1+nJwz5+esH6QlD/vbn30lPWO3d4zfpCUM+Pv1FesKQf3rx\n",
       "jfSE1X7+ttfv7PnPeu1dDn3uaQ9+0uv/DR7+Z59nm6qqZdvnXNhe93pHm2726Qnr3Tba2lCrbze+\n",
       "Od6tudG54LvNnbrYfNLnADc7Fy6Xp80uDOA/rAEAAAAAAAAIEawBAAAAAAAAiBCsAQAAAAAAAIgQ\n",
       "rAEAAAAAAACIEKwBAAAAAAAAiBCsAQAAAAAAAIgQrAEAAAAAAACIEKwBAAAAAAAAiBCsAQAAAAAA\n",
       "AIgQrAEAAAAAAACIEKwBAAAAAAAAiBCsAQAAAAAAAIgQrAEAAAAAAACIEKwBAAAAAAAAiBCsAQAA\n",
       "AAAAAIgQrAEAAAAAAACIEKwBAAAAAAAAiBCsAQAAAAAAAIgQrAEAAAAAAACIEKwBAAAAAAAAiBCs\n",
       "AQAAAAAAAIgQrAEAAAAAAACIEKwBAAAAAAAAiBCsAQAAAAAAAIgQrAEAAAAAAACIEKwBAAAAAAAA\n",
       "iBCsAQAAAAAAAIgQrAEAAAAAAACI2KUH8NVxOX86pTeMuNh8sqQ33FfLPKcnDJm2vf72Zjkc0hPW\n",
       "O+zTC4ZM02l6wpi5z2Vs+/omPWHI9nybnjBkc+hzHdv0OhXq+Fmfx5v99cP0hCHzd16kJwz5wedf\n",
       "T09Yb+pzf6iqmg/fTk8YcvP6OD1hte1Jo+fGqqrbPvezqqrTn/T5JHL0Kr1gzNGrXu+Uxy/7vPdM\n",
       "+17Hdjk9Sk9YbXrZ64fW7dtNHfrsXeZm999me9udu41cTE9avUh06hHdji101OttEgAAAAAAAIB7\n",
       "Q7AGAAAAAAAAIEKwBgAAAAAAACBCsAYAAAAAAAAgQrAGAAAAAAAAIEKwBgAAAAAAACBCsAYAAAAA\n",
       "AAAgQrAGAAAAAAAAIEKwBgAAAAAAACBCsAYAAAAAAAAgQrAGAAAAAAAAIEKwBgAAAAAAACBCsAYA\n",
       "AAAAAAAgQrAGAAAAAAAAIEKwBgAAAAAAACBCsAYAAAAAAAAgQrAGAAAAAAAAIEKwBgAAAAAAACBC\n",
       "sAYAAAAAAAAgQrAGAAAAAAAAIEKwBgAAAAAAACBCsAYAAAAAAAAgQrAGAAAAAAAAIEKwBgAAAAAA\n",
       "ACBCsAYAAAAAAAAgQrAGAAAAAAAAIEKwBgAAAAAAACBCsAYAAAAAAAAgYncxPVnSI0ZcLk+n9Aa+\n",
       "IpZWp25Nmz5/H7Ls9+kJQ6bT0/SEMVOjy9jc63dWh0N6wZDN58/SE1Zb3nsnPWHI7qrXuXD2RaPr\n",
       "wrJLLxgyzX2O7fZNesGY63qUnjBk+7bPuXD7eE5PGLJs0wvGdDoXtjfH6QlDjm7SC8acfZFesN7J\n",
       "L3pdF45f9nqn3Nz0eXbc/fR5esKY20bnQqPvNlVVy5u36QmDGn1faPZtodV3pqpWey/nT/uM5U7p\n",
       "UnD3ej2JAQAAAAAAAHBvCNYAAAAAAAAARAjWAAAAAAAAAEQI1gAAAAAAAABECNYAAAAAAAAARAjW\n",
       "AAAAAAAAAEQI1gAAAAAAAABECNYAAAAAAAAARAjWAAAAAAAAAEQI1gAAAAAAAABECNYAAAAAAAAA\n",
       "RAjWAAAAAAAAAEQI1gAAAAAAAABECNYAAAAAAAAARAjWAAAAAAAAAEQI1gAAAAAAAABECNYAAAAA\n",
       "AAAARAjWAAAAAAAAAEQI1gAAAAAAAABECNYAAAAAAAAARAjWAAAAAAAAAEQI1gAAAAAAAABECNYA\n",
       "AAAAAAAARAjWAAAAAAAAAEQI1gAAAAAAAABECNYAAAAAAAAARAjWAAAAAAAAAERM6QHw/8XF9GRJ\n",
       "b1hr2m7TE+616eg4PWG16WiXnjBm6nVbmx6cpyesd3aaXjBkeXiWnjBk/7jP8T2c9rpHXH14lJ6w\n",
       "2s07va5h3dy8k16w3nRILxhz+yi9YMzubXrBeidfpheM2V63eeWpqqr5uM919+GPb9MThuyuel3I\n",
       "jr58k56w2vTiKj1hzG2jc/dtoxtEVc1veu1drq/TE1Zb5jk9Yci06fU/aZ2O7+X8aZ+Hher1/bmq\n",
       "Wn3H63YuQEe97mYAAAAAAAAA3BuCNQAAAAAAAAARgjUAAAAAAAAAEYI1AAAAAAAAABGCNQAAAAAA\n",
       "AAARgjUAAAAAAAAAEYI1AAAAAAAAABGCNQAAAAAAAAARgjUAAAAAAAAAEYI1AAAAAAAAABGCNQAA\n",
       "AAAAAAARgjUAAAAAAAAAEYI1AAAAAAAAABGCNQAAAAAAAAARgjUAAAAAAAAAEYI1AAAAAAAAABGC\n",
       "NQAAAAAAAAARgjUAAAAAAAAAEYI1AAAAAAAAABGCNQAAAAAAAAARgjUAAAAAAAAAEYI1AAAAAAAA\n",
       "ABGCNQAAAAAAAAARgjUAAAAAAAAAEYI1AAAAAAAAABGCNQAAAAAAAAARgjUAAAAAAAAAEYI1AAAA\n",
       "AAAAABG79AC+Oi6mJ0t6w5BpSi/gq2Lpdeout7fpCettmv3Omp0L036fnrDe8xfpBUOmZudupwey\n",
       "7atef++4bPucC0dXvY7tzaNeezf7PufCNPe6n539LL1gzPHrPsf36mu9fmfHL+f0hCHHLw/pCatt\n",
       "bnsd26OfX6UnDJlevE5PWG/udS7U9XV6wWrL9U16wpBpu01PGLJs+tzTpmbfFqr6POdWVV3On/Ya\n",
       "3Mjl8rTVsb2oZj0CuFN9nhQAAAAAAAAAuFcEawAAAAAAAAAiBGsAAAAAAAAAIgRrAAAAAAAAACIE\n",
       "awAAAAAAAAAiBGsAAAAAAAAAIgRrAAAAAAAAACIEawAAAAAAAAAiBGsAAAAAAAAAIgRrAAAAAAAA\n",
       "ACIEawAAAAAAAAAiBGsAAAAAAAAAIgRrAAAAAAAAACIEawAAAAAAAAAiBGsAAAAAAAAAIgRrAAAA\n",
       "AAAAACIEawAAAAAAAAAiBGsAAAAAAAAAIgRrAAAAAAAAACIEawAAAAAAAAAiBGsAAAAAAAAAIgRr\n",
       "AAAAAAAAACIEawAAAAAAAAAiBGsAAAAAAAAAIgRrAAAAAAAAACIEawAAAAAAAPiv9u02uZHzPMPo\n",
       "2yApz/izKmuid0B5kRF3EGwqFcniDAl0ftn5k1ShpdCXHs45K7jrre5GExcIJARrAAAAAAAAABKC\n",
       "NQAAAAAAAACJrR4Av9Tj6fu93nDIPmvuKNusR9l2f19PuNk27GzXoLNda416Lpz+8ud6wjGfflcv\n",
       "OOb+rl5ws/1h1n12/dOnesLNrg9zroOJvvzbd/WE251mff6eXud8nq211sN/vdYTbvb6x1nP3Eln\n",
       "u9Zadz+/1RNutv38tZ5wyPYya++6XOoFt/vxp3rBIfvrnPtsf3mpJxxzN+vdcX+d8xmxT3omrDXq\n",
       "u4VpzvvzrBfzYR63pzEXr2sB3p//sAYAAAAAAAAgIVgDAAAAAAAAkBCsAQAAAAAAAEgI1gAAAAAA\n",
       "AAAkBGsAAAAAAAAAEoI1AAAAAAAAAAnBGgAAAAAAAICEYA0AAAAAAABAQrAGAAAAAAAAICFYAwAA\n",
       "AAAAAJAQrAEAAAAAAABICNYAAAAAAAAAJARrAAAAAAAAABKCNQAAAAAAAAAJwRoAAAAAAACAhGAN\n",
       "AAAAAAAAQEKwBgAAAAAAACAhWAMAAAAAAACQEKwBAAAAAAAASAjWAAAAAAAAACQEawAAAAAAAAAS\n",
       "gjUAAAAAAAAACcEaAAAAAAAAgIRgDQAAAAAAAEBCsAYAAAAAAAAgIVgDAAAAAAAAkBCsAQAAAAAA\n",
       "AEgI1gAAAAAAAAAktnoAfCset6e93sBvw3byW6H3st3f1xMO2b77rp5ws/16rScccvrTH+sJx2yD\n",
       "XskmbV1rrT98rhfc7Prn39cTDtkf7uoJh5xeXusJN7v+btbn2eXzQz3hkPv/fKkn3Gwfdi1sX97q\n",
       "CYecfppzLay3S73gmJcv9YJD9kl7L7Ouhf11zufvuk772mbW3uvXr/WEm23D/ubZ91nXwvn6w6wD\n",
       "HmTa98/n/dm1APyTagIAAAAAAABAQrAGAAAAAAAAICFYAwAAAAAAAJAQrAEAAAAAAABICNYAAAAA\n",
       "AAAAJARrAAAAAAAAABKCNQAAAAAAAAAJwRoAAAAAAACAhGANAAAAAAAAQEKwBgAAAAAAACAhWAMA\n",
       "AAAAAACQEKwBAAAAAAAASAjWAAAAAAAAACQEawAAAAAAAAASgjUAAAAAAAAACcEaAAAAAAAAgIRg\n",
       "DQAAAAAAAEBCsAYAAAAAAAAgIVgDAAAAAAAAkBCsAQAAAAAAAEgI1gAAAAAAAAAkBGsAAAAAAAAA\n",
       "EoI1AAAAAAAAAAnBGgAAAAAAAICEYA0AAAAAAABAQrAGAAAAAAAAICFYAwAAAAAAAJAQrAEAAAAA\n",
       "AABIbPUA+KUet6e93vBRbadZv2XZd5fCuxl2ttvDQz3hmEHnO+1st7u7esIxg/Zu93O2rrVGne36\n",
       "w+/rBce8vtULjvn8qV5wu+u1XnDM19d6wTGnQX8G39/XC455u9QLjnl5qRd8WPvPs852//K1nnCz\n",
       "/TrrPpv0/cJ+mXW2494XBtmHne15fx70cjPrO91pZwsw2Zy3RgAAAAAAAAA+FMEaAAAAAAAAgIRg\n",
       "DQAAAAAAAEBCsAYAAAAAAAAgIVgDAAAAAAAAkBCsAQAAAAAAAEgI1gAAAAAAAAAkBGsAAAAAAAAA\n",
       "EoI1AAAAAAAAAAnBGgAAAAAAAICEYA0AAAAAAABAQrAGAAAAAAAAICFYAwAAAAAAAJAQrAEAAAAA\n",
       "AABICNYAAAAAAAAAJARrAAAAAAAAABKCNQAAAAAAAAAJwRoAAAAAAACAhGANAAAAAAAAQEKwBgAA\n",
       "AAAAACAhWAMAAAAAAACQEKwBAAAAAAAASAjWAAAAAAAAACQEawAAAAAAAAASgjUAAAAAAAAACcEa\n",
       "AAAAAAAAgIRgDQAAAAAAAEBiqwcA/Fp/vfvbXm84Yr9e6wm322Z9TGzD9k6yPTzUE465v68XHLPP\n",
       "eYyNuxbuBv0+c9B1sNbAa2HS5+/nz/WCYyad7Vprvb7WC2437Lmwv13qCR/Wdpr1nrtfZj0Xrj/+\n",
       "WE+42enTp3rCIdeXl3rC7YZ9nv3H5d9HPRgeT9/P+VAb9vnL+znvz6PuM4DJBn2DBwAAAAAAAMBH\n",
       "IlgDAAAAAAAAkBCsAQAAAAAAAEgI1gAAAAAAAAAkBGsAAAAAAAAAEoI1AAAAAAAAAAnBGgAAAAAA\n",
       "AICEYA0AAAAAAABAQrAGAAAAAAAAICFYAwAAAAAAAJAQrAEAAAAAAABICNYAAAAAAAAAJARrAAAA\n",
       "AAAAABKCNQAAAAAAAAAJwRoAAAAAAACAhGANAAAAAAAAQEKwBgAAAAAAACAhWAMAAAAAAACQEKwB\n",
       "AAAAAAAASAjWAAAAAAAAACQEawAAAAAAAAASgjUAAAAAAAAACcEaAAAAAAAAgIRgDQAAAAAAAEBC\n",
       "sAYAAAAAAAAgIVgDAAAAAAAAkBCsAQAAAAAAAEgI1gAAAAAAAAAk7usBAL/Wfr3WE+DDG3efffla\n",
       "Lzhorwd8WNvF7zPfy34Z9ly4v6sX3O6nn+oFh2zbtPtszjN33H329lYvOGTS+81+udQTjtnn3Gdr\n",
       "rbW2rV5ws+vf/15POGbQZ8Q+7Lp9PH0/a/Ck8x30TFhrrfP1h1GDH7enQRcDAP8qc94aAQAAAAAA\n",
       "APhQBGsAAAAAAAAAEoI1AAAAAAAAAAnBGgAAAAAAAICEYA0AAAAAAABAQrAGAAAAAAAAICFYAwAA\n",
       "AAAAAJAQrAEAAAAAAABICNYAAAAAAAAAJARrAAAAAAAAABKCNQAAAAAAAAAJwRoAAAAAAACAhGAN\n",
       "AAAAAAAAQEKwBgAAAAAAACAhWAMAAAAAAACQEKwBAAAAAAAASAjWAAAAAAAAACQEawAAAAAAAAAS\n",
       "gjUAAAAAAAAACcEaAAAAAAAAgIRgDQAAAAAAAEBCsAYAAAAAAAAgIVgDAAAAAAAAkBCsAQAAAAAA\n",
       "AEgI1gAAAAAAAAAkBGsAAAAAAAAAEoI1AAAAAAAAAAnBGgAAAAAAAIDEVg8Afnset6e93nDEeX8e\n",
       "9SybdL7O9p1to453lO10V084ZL9e6gk326Zdt4Ouhe27h3rCMfuwR+7dnGthv8x5Jqy11rrOuhZG\n",
       "ff4Ou8/267WecMh2mvMb/v3trZ5w0Kxrd9q9Nsk+6WwnbeVdTfsuhPcz7Xsm1y4w2Zy/zgAAAAAA\n",
       "AAD4UARrAAAAAAAAABKCNQAAAAAAAAAJwRoAAAAAAACAhGANAAAAAAAAQEKwBgAAAAAAACAhWAMA\n",
       "AAAAAACQEKwBAAAAAAAASAjWAAAAAAAAACQEawAAAAAAAAASgjUAAAAAAAAACcEaAAAAAAAAgIRg\n",
       "DQAAAAAAAEBCsAYAAAAAAAAgIVgDAAAAAAAAkBCsAQAAAAAAAEgI1gAAAAAAAAAkBGsAAAAAAAAA\n",
       "EoI1AAAAAAAAAAnBGgAAAAAAAICEQ/zUUgAADI1JREFUYA0AAAAAAABAQrAGAAAAAAAAICFYAwAA\n",
       "AAAAAJAQrAEAAAAAAABICNYAAAAAAAAAJARrAAAAAAAAABKCNQAAAAAAAAAJwRoAAAAAAACAxFYP\n",
       "4LfjcXva6w1HnPdn1y8jTbvXRtmGPRb2QZfCtLMdZpt0vpO2rrVmve4OeiasNesZttZa26Df6p4m\n",
       "XbcTTTrfWffZ/vZWTzhkO815LuyXSz3hkElnu9Za+7TPtEmc7fsZ9l5+vv4wazAA8C816y8IAAAA\n",
       "AAAAAD4MwRoAAAAAAACAhGANAAAAAAAAQEKwBgAAAAAAACAhWAMAAAAAAACQEKwBAAAAAAAASAjW\n",
       "AAAAAAAAACQEawAAAAAAAAASgjUAAAAAAAAACcEaAAAAAAAAgIRgDQAAAAAAAEBCsAYAAAAAAAAg\n",
       "IVgDAAAAAAAAkBCsAQAAAAAAAEgI1gAAAAAAAAAkBGsAAAAAAAAAEoI1AAAAAAAAAAnBGgAAAAAA\n",
       "AICEYA0AAAAAAABAQrAGAAAAAAAAICFYAwAAAAAAAJAQrAEAAAAAAABICNYAAAAAAAAAJARrAAAA\n",
       "AAAAABKCNQAAAAAAAAAJwRoAAAAAAACAhGANAAAAAAAAQGKrBwDA/5fH7WmvNxyyDfoY3mcd7aiz\n",
       "XWvU+Z7351GH+9e7v4053P16rSccst3d1xMO2a+XesLNttO03xWPeizMMu1ohz3H9kGfv7yzSdeC\n",
       "99x3M+09F/5h2nch7jUA/jfTvgkBAAAAAAAA4IMQrAEAAAAAAABICNYAAAAAAAAAJARrAAAAAAAA\n",
       "ABKCNQAAAAAAAAAJwRoAAAAAAACAhGANAAAAAAAAQEKwBgAAAAAAACAhWAMAAAAAAACQEKwBAAAA\n",
       "AAAASAjWAAAAAAAAACQEawAAAAAAAAASgjUAAAAAAAAACcEaAAAAAAAAgIRgDQAAAAAAAEBCsAYA\n",
       "AAAAAAAgIVgDAAAAAAAAkBCsAQAAAAAAAEgI1gAAAAAAAAAkBGsAAAAAAAAAEoI1AAAAAAAAAAnB\n",
       "GgAAAAAAAICEYA0AAAAAAABAQrAGAAAAAAAAICFYAwAAAAAAAJAQrAEAAAAAAABICNYAAAAAAAAA\n",
       "JARrAAAAAAAAABL39QAA+Fadrz9s9YZbPZ6+3+sNR0w627XWetyexpzvtGth30fNHWW/vNUTjtkG\n",
       "PRaGXbf79VJPOGQ7zfnd9n6ddS1Mu3YnPRfGvdsMe184789jzvdxzXlvhKkm/X221qxnGAD8X+b8\n",
       "pQ4AAAAAAADAhyJYAwAAAAAAAJAQrAEAAAAAAABICNYAAAAAAAAAJARrAAAAAAAAABKCNQAAAAAA\n",
       "AAAJwRoAAAAAAACAhGANAAAAAAAAQEKwBgAAAAAAACAhWAMAAAAAAACQEKwBAAAAAAAASAjWAAAA\n",
       "AAAAACQEawAAAAAAAAASgjUAAAAAAAAACcEaAAAAAAAAgIRgDQAAAAAAAEBCsAYAAAAAAAAgIVgD\n",
       "AAAAAAAAkBCsAQAAAAAAAEgI1gAAAAAAAAAkBGsAAAAAAAAAEoI1AAAAAAAAAAnBGgAAAAAAAICE\n",
       "YA0AAAAAAABAQrAGAAAAAAAAICFYAwAAAAAAAJAQrAEAAAAAAABICNYAAAAAAAAAJLZ6AMCv9bg9\n",
       "7fWGI877s2cvMJZn7vuZdrZrG3O0a621ztcfxgx2LTDVpPtsrWH32rT7bJ9ztGvNel8A3t+oz4fl\n",
       "GQbAx+A/rAEAAAAAAABICNYAAAAAAAAAJARrAAAAAAAAABKCNQAAAAAAAAAJwRoAAAAAAACAhGAN\n",
       "AAAAAAAAQEKwBgAAAAAAACAhWAMAAAAAAACQEKwBAAAAAAAASAjWAAAAAAAAACQEawAAAAAAAAAS\n",
       "gjUAAAAAAAAACcEaAAAAAAAAgIRgDQAAAAAAAEBCsAYAAAAAAAAgIVgDAAAAAAAAkBCsAQAAAAAA\n",
       "AEgI1gAAAAAAAAAkBGsAAAAAAAAAEoI1AAAAAAAAAAnBGgAAAAAAAICEYA0AAAAAAABAQrAGAAAA\n",
       "AAAAICFYAwAAAAAAAJAQrAEAAAAAAABICNYAAAAAAAAAJARrAAAAAAAAABKCNQAAAAAAAACJrR4A\n",
       "APCte9ye9nrDrc77s/dHeGeTnglreS7wP1y7AAAA/BL+wxoAAAAAAACAhGANAAAAAAAAQEKwBgAA\n",
       "AAAAACAhWAMAAAAAAACQEKwBAAAAAAAASAjWAAAAAAAAACQEawAAAAAAAAASgjUAAAAAAAAACcEa\n",
       "AAAAAAAAgIRgDQAAAAAAAEBCsAYAAAAAAAAgIVgDAAAAAAAAkBCsAQAAAAAAAEgI1gAAAAAAAAAk\n",
       "BGsAAAAAAAAAEoI1AAAAAAAAAAnBGgAAAAAAAICEYA0AAAAAAABAQrAGAAAAAAAAICFYAwAAAAAA\n",
       "AJAQrAEAAAAAAABICNYAAAAAAAAAJARrAAAAAAAAABKCNQAAAAAAAAAJwRoAAAAAAACAhGANAAAA\n",
       "AAAAQEKwBgAAAAAAACAhWAMAAAAAAACQ2OoBAADfusftaa833Oq8P3t/fCeTroO1XAvAfJOeu565\n",
       "AADAR+Y/rAEAAAAAAABICNYAAAAAAAAAJARrAAAAAAAAABKCNQAAAAAAAAAJwRoAAAAAAACAhGAN\n",
       "AAAAAAAAQEKwBgAAAAAAACAhWAMAAAAAAACQEKwBAAAAAAAASAjWAAAAAAAAACQEawAAAAAAAAAS\n",
       "gjUAAAAAAAAACcEaAAAAAAAAgIRgDQAAAAAAAEBCsAYAAAAAAAAgIVgDAAAAAAAAkBCsAQAAAAAA\n",
       "AEgI1gAAAAAAAAAkBGsAAAAAAAAAEoI1AAAAAAAAAAnBGgAAAAAAAICEYA0AAAAAAABAQrAGAAAA\n",
       "AAAAICFYAwAAAAAAAJAQrAEAAAAAAABICNYAAAAAAAAAJARrAAAAAAAAABL39QAAgG/deX/e6g0A\n",
       "AAAAAAX/YQ0AAAAAAABAQrAGAAAAAAAAICFYAwAAAAAAAJAQrAEAAAAAAABICNYAAAAAAAAAJARr\n",
       "AAAAAAAAABKCNQAAAAAAAAAJwRoAAAAAAACAhGANAAAAAAAAQEKwBgAAAAAAACAhWAMAAAAAAACQ\n",
       "EKwBAAAAAAAASAjWAAAAAAAAACQEawAAAAAAAAASgjUAAAAAAAAACcEaAAAAAAAAgIRgDQAAAAAA\n",
       "AEBCsAYAAAAAAAAgIVgDAAAAAAAAkBCsAQAAAAAAAEgI1gAAAAAAAAAkBGsAAAAAAAAAEoI1AAAA\n",
       "AAAAAAnBGgAAAAAAAICEYA0AAAAAAABAQrAGAAAAAAAAICFYAwAAAAAAAJAQrAEAAAAAAAAAAAAA\n",
       "AAAAAAAAAAAAAAAAAAAAAAAAAAAAAAAAAAAAAAAAAAAAAAAAAAAAAAAAAAAAAAAAAAAAAAAAAAAA\n",
       "AAAAAAAAAAAAAAAAAAAAAAAAAAAAAAAAAAAAAAAAAAAAAAAAAAAAAAAAAAAAAAAAAAAAAAAAAAAA\n",
       "AAAAAAAAAAAAAAAAAAAAAAAAAAAAAAAAAAAAAAAAAAAAAAAAAAAAAAAAAAAAAAAAAAAAAAAAAAAA\n",
       "AAAAAAAAAAAAAAAAAAAAAAAAAAAAAAAAAAAAAAAAAAAAAAAAAAAAAAAAAAAAAAAAAAAAAAAAAAAA\n",
       "AAAAAAAAAAAAAAAAAAAAAAAAAAAAAAAAAAAAAAAAAAAAAAAAAAAAAAAAAAAAAAAAAAAAAAAAAAAA\n",
       "AAAAAAAAAAAAAAAAAAAAAAAAAAAAAAAAAAAAAAAAAAAAAAAAAAAAAAAAAAAAAAAAAAAAAAAAAAAA\n",
       "AAAAAAAAAAAAAAAAAAAAAAAAAAAAAAAAAAAAAAAAAAAAAAAAAAAAAAAAAAAAAAAAAAAAAAAAAAAA\n",
       "AAAAAAAAAAAAAAAAAAAAAAAAAAAAAAAAAAAAAAAAAAAAAAAAAACAD2CrBwAAAADzPW5Pe73hiPP+\n",
       "7DsRAACA34BTPQAAAAAAAACAb5NgDQAAAAAAAEBCsAYAAAAAAAAgIVgDAAAAAAAAkBCsAQAAAAAA\n",
       "AEgI1gAAAAAAAAAkBGsAAAAAAAAAEoI1AAAAAAAAAAnBGgAAAAAAAICEYA0AAAAAAABAQrAGAAAA\n",
       "AAAAICFYAwAAAAAAAJAQrAEAAAAAAABICNYAAAAAAAAAJARrAAAAAAAAABKCNQAAAAAAAAAJwRoA\n",
       "AAAAAACAhGANAAAAAAAAQEKwBgAAAAAAACAhWAMAAAAAAACQEKwBAAAAAAAASAjWAAAAAAAAACQE\n",
       "awAAAAAAAAASgjUAAAAAAAAACcEaAAAAAAAAgIRgDQAAAAAAAEBCsAYAAAAAAAAg8d82w//SdyYs\n",
       "FgAAAABJRU5ErkJggg==\n",
       "\" transform=\"translate(149, 47)\"/>\n",
       "</g>\n",
       "<defs>\n",
       "  <clipPath id=\"clip393\">\n",
       "    <rect x=\"2160\" y=\"47\" width=\"73\" height=\"1440\"/>\n",
       "  </clipPath>\n",
       "</defs>\n",
       "<g clip-path=\"url(#clip393)\">\n",
       "<image width=\"72\" height=\"1439\" xlink:href=\"data:image/png;base64,\n",
       "iVBORw0KGgoAAAANSUhEUgAAAEgAAAWfCAYAAAAI7rB3AAAMJ0lEQVR4nO3dwa3cSBAFQVIoU9Z/\n",
       "t2QFm7JgK4+cQ4QFQuJhiG7OfN3P3//ei//15+t/wK8TKAgUBAoChXne8/W/4adZUBAoCBQECgKF\n",
       "OZej2MaCgkBBoCBQmHM5amwsKAgUBAoCBYHCPK+jxsaCgkBBoCBQECg4iwULCgIFgYJAYR5vNVYW\n",
       "FAQKAgWBgkBhjguzlQUFgYJAQaDgqBEsKAgUBAoCBYHCeKexs6AgUBAoCBQECr5hFiwoCBQECgKF\n",
       "eb7+F/w4CwoCBYGCQEGg4MIsWFAQKAgUBAoChXncl60sKAgUBAoCBUeNYEFBoCBQECgIFOa57q//\n",
       "DT/NgoJAQaAgUJjn9SG9saAgUBAoCBQECnMcNVYWFAQKAgWBgkDBhVmwoCBQECgIFOa4MFtZUBAo\n",
       "CBQECgIFR41gQUGgIFAQKAgUPMWCBQWBgkBBoDDn1WijThAoCBQECgIFR41gQUGgIFAQKMyj0Uqd\n",
       "IFAQKAgUBAouzII6QaAgUBAoCBRcmAULCgIFgYJAYR5HjZU6QaAgUBAoCBTmaLRSJwgUBAoCBYGC\n",
       "C7NgQUGgIFAQKLgwC+oEgYJAQaAgUHBhFtQJAgWBgkDBUSOoEwQKAgWBgkDBW41gQUGgIFAQKAgU\n",
       "/CQzqBMECgIFgYK//hLUCQIFgYJAQaAwj/9fbGVBQaAgUBAo+AJVUCcIFAQKAgWBgm+YBXWCQEGg\n",
       "IFAQKHjtE9QJAgWBgkBhjrcaKwsKAgWBgkBBoOCoEdQJAgWBgkBBoODHLEGdIFAQKAgU/G4+WFAQ\n",
       "KAgUBAoCBUeNoE4QKAgUBAqOGsGCgkBBoCBQECg4agR1gkBBoCBQECj4SWZQJwgUBAoChTkuzFYW\n",
       "FAQKAgWBgkDBUSOoEwQKAgWBgkDBWSxYUBAoCBQECo4aQZ0gUBAoCBQECv6GWbCgIFAQKAgU/Imu\n",
       "oE4QKAgUBAoCBUeNYEFBoCBQECgIFDzFggUFgYJAQaDgwiyoEwQKAgWBgkDBUSNYUBAoCBQECgIF\n",
       "f8MsqBMECgIFgYJfHAYLCgIFgYJAQaAwjwuzlQUFgYJAQaDgPiioEwQKAgWBgkDBu/lgQUGgIFAQ\n",
       "KAgUvPYJFhQECgIFgYK3GsGCgkBBoCBQECh47RPUCQIFgYJAwVuNYEFBoCBQECgIFLzVCBYUBAoC\n",
       "BYGCQMFZLFhQECgIFAQKPqSDBQWBgkBBoCBQ8BQLFhQECgIFgYJAwTfMgjpBoCBQECh4Nx8sKAgU\n",
       "BAoCBYGCC7NgQUGgIFAQKPiQDhYUBAoCBYGCQMFTLFhQECgIFAQKAoV5PcVWFhQECgIFgYJ388GC\n",
       "gkBBoCBQECi4MAsWFAQKAgWBgkDBUyxYUBAoCBQECt5qBAsKAgWBgkBBoOCoESwoCBQECgIFH9LB\n",
       "goJAQaAgUBAozPv1v+DHWVAQKAgUBAoCBWexYEFBoCBQECh4Nx8sKAgUBAoCBYGCo0awoCBQECgI\n",
       "FAQKzmLBgoJAQaAgUJjj5fzKgoJAQaAgUBAoOGoECwoCBYGCQMGHdLCgIFAQKAgUBArezQcLCgIF\n",
       "gYJAQaDgJ5nBgoJAQaAgUHBhFiwoCBQECgIFgYKnWLCgIFAQKAgUBArzujFbWVAQKAgUBAqOGsGC\n",
       "gkBBoCBQECh4igULCgIFgYJAwX1QsKAgUBAoCBQECo4awYKCQEGgIFAQKDiLBQsKAgWBgkBhLkeN\n",
       "lQUFgYJAQaAgUHBhFiwoCBQECgIFf9wkWFAQKAgUBAoCBRdmwYKCQEGgIFAQKHg3HywoCBQECgKF\n",
       "uXxIrywoCBQECgIFgYJ388GCgkBBoCBQECg4iwULCgIFgYJAwbv5YEFBoCBQECgIFLybDxYUBAoC\n",
       "BYGCo0awoCBQECgIFAQK3moECwoCBYGCQEGg4CkWLCgIFAQKAgUXZsGCgkBBoCBQECg4agQLCgIF\n",
       "gYJAQaDgKRYsKAgUBAoCBRdmwYKCQEGgIFAQKAgUBAoCBYGCQMF9ULCgIFAQKAgUBAqeYsGCgkBB\n",
       "oCBQECjM7bXPyoKCQEGgIFBw1AgWFAQKAgWBgkDBUyxYUBAoCBQECgIFT7FgQUGgIFAQKPgxS7Cg\n",
       "IFAQKAgUBApzO2qsLCgIFAQKAgX3QcGCgkBBoCBQECh4igULCgIFgYJAQaDgwixYUBAoCBQECo4a\n",
       "wYKCQEGgIFAQKPiGWbCgIFAQKAgU3AcFCwoCBYGCQEGg4MIsWFAQKAgUBAoCBU+xYEFBoCBQECiM\n",
       "dxo7CwoCBYGCQEGg4KgRLCgIFAQKAgWBgqdYsKAgUBAoCBR8wyxYUBAoCBQECgIFR41gQUGgIFAQ\n",
       "KPiQDhYUBAoCBYGCQMGFWbCgIFAQKAgUBAr++kuwoCBQECgIFBw1ggUFgYJAQaAgUPDaJ1hQECgI\n",
       "FAQKAgVPsWBBQaAgUBAouDALFhQECgIFgYJAwVEjWFAQKAgUBAo+pIMFBYGCQEGgIFBwYRYsKAgU\n",
       "BAoCBYGCs1iwoCBQECgIFAQKAgWBgkBBoCBQcGEWLCgIFAQKAgWBgguzYEFBoCBQECg4agQLCgIF\n",
       "gYJAQaDgqBEsKAgUBAoCBR/SwYKCQEGgIFAQKLgwCxYUBAoCBYGCQMFZLFhQECgIFAQKjhrBgoJA\n",
       "QaAgUBAoOGoECwoCBYGCQMGHdLCgIFAQKAgUBAouzIIFBYGCQEGgIFBwFgsWFAQKAgWBgqNGsKAg\n",
       "UBAoCBQECo4awYKCQEGgIFAQKHiKBQsKAgWBgkBh7ten9MaCgkBBoCBQECg4agQLCgIFgYJAwbv5\n",
       "YEFBoCBQECgIFBw1ggUFgYJAQaAgUHAWCxYUBAoCBYGCo0awoCBQECgIFAQKnmLBgoJAQaAgUBAo\n",
       "uDALFhQECgIFgYKjRrCgIFAQKAgUBAqOGsGCgkBBoCBQcNQIFhQECgIFgYJAwVEjWFAQKAgUBAoC\n",
       "BWexYEFBoCBQECj4Q5PBgoJAQaAgUBAoOGoECwoCBYGCQEGg4LVPsKAgUBAoCBQcNYIFBYGCQEGg\n",
       "IFBw1AgWFAQKAgWBgqNGsKAgUBAoCBQECo4awYKCQEGgIFAQKMzle9IrCwoCBYGCQMFRI1hQECgI\n",
       "FAQKAgWvfYIFBYGCQEGgIFBwFgsWFAQKAgWBgqNGsKAgUBAoCBQECv6GWbCgIFAQKAgUHDWCBQWB\n",
       "gkBBoCBQmPt8/U/4bRYUBAoCBYGCQMFZLFhQECgIFAQK3moECwoCBYGCQEGg4KgRLCgIFAQKAgUf\n",
       "0sGCgkBBoCBQECj4xWGwoCBQECgIFAQK/tBksKAgUBAoCBQcNYIFBYGCQEGgIFCY63iMbSwoCBQE\n",
       "CgIFgYKzWLCgIFAQKAgUfMMsWFAQKAgUBAoCBT/JDBYUBAoCBYGCo0awoCBQECgIFAQKjhrBgoJA\n",
       "QaAgUBAozOXPJa8sKAgUBAoCBb84DBYUBAoCBYGCQMHXgIMFBYGCQEGgIFBwFgsWFAQKAgWBgm+Y\n",
       "BQsKAgWBgkBBoOAbZsGCgkBBoCBQ8Ce6ggUFgYJAQaAgUPBuPlhQECgIFAQKAgXv5oMFBYGCQEGg\n",
       "4EM6WFAQKAgUBAoCBb+bDxYUBAoCBYGCQME3zIIFBYGCQEGg4MIsWFAQKAgUBAoCBU+xYEFBoCBQ\n",
       "ECh4qxEsKAgUBAoCBYGCtxrBgoJAQaAgUBAouDALFhQECgIFgYIP6WBBQaAgUBAoCBT8DbNgQUGg\n",
       "IFAQKDhqBAsKAgWBgkBBoOApFiwoCBQECgIFgYKnWLCgIFAQKAgU5vZWY2VBQaAgUBAoCBQcNYIF\n",
       "BYGCQEGgIFDwFAsWFAQKAgWBgg/pYEFBoCBQECgIFPyYJVhQECgIFAQKjhrBgoJAQaAgUBAoeIoF\n",
       "CwoCBYGCQEGgMNfxV/83FhQECgIFgYKjRrCgIFAQKAgUBArzeoqtLCgIFAQKAgWBgm+YBQsKAgWB\n",
       "gkBhrtdbjY0FBYGCQEGgIFDw2idYUBAoCBQECu6DggUFgYJAQaAgUHBhFiwoCBQECgIFgYKzWLCg\n",
       "IFAQKAgUfA04WFAQKAgUBAoCBb+bDxYUBAoCBYGCQME3zIIFBYGCQEGg4KgRLCgIFAQKAgWBgtc+\n",
       "wYKCQEGgIFDwBapgQUGgIFAQKAgU/JglWFAQKAgUBAoChXmdxVYWFAQKAgWBgqNGsKAgUBAoCBQE\n",
       "Cr4GHCwoCBQECgKFf4jrjN/mS6F7AAAAAElFTkSuQmCC\n",
       "\" transform=\"translate(2161, 47)\"/>\n",
       "</g>\n",
       "<path clip-path=\"url(#clip390)\" d=\"M2269.43 1278.64 L2277.07 1278.64 L2277.07 1252.27 L2268.76 1253.94 L2268.76 1249.68 L2277.02 1248.01 L2281.7 1248.01 L2281.7 1278.64 L2289.33 1278.64 L2289.33 1282.57 L2269.43 1282.57 L2269.43 1278.64 Z\" fill=\"#f8f8f2\" fill-rule=\"nonzero\" fill-opacity=\"1\" /><path clip-path=\"url(#clip390)\" d=\"M2308.78 1251.09 Q2305.17 1251.09 2303.34 1254.65 Q2301.53 1258.2 2301.53 1265.33 Q2301.53 1272.43 2303.34 1276 Q2305.17 1279.54 2308.78 1279.54 Q2312.41 1279.54 2314.22 1276 Q2316.05 1272.43 2316.05 1265.33 Q2316.05 1258.2 2314.22 1254.65 Q2312.41 1251.09 2308.78 1251.09 M2308.78 1247.39 Q2314.59 1247.39 2317.64 1251.99 Q2320.72 1256.58 2320.72 1265.33 Q2320.72 1274.05 2317.64 1278.66 Q2314.59 1283.24 2308.78 1283.24 Q2302.97 1283.24 2299.89 1278.66 Q2296.83 1274.05 2296.83 1265.33 Q2296.83 1256.58 2299.89 1251.99 Q2302.97 1247.39 2308.78 1247.39 Z\" fill=\"#f8f8f2\" fill-rule=\"nonzero\" fill-opacity=\"1\" /><path clip-path=\"url(#clip390)\" d=\"M2338.94 1251.09 Q2335.33 1251.09 2333.5 1254.65 Q2331.7 1258.2 2331.7 1265.33 Q2331.7 1272.43 2333.5 1276 Q2335.33 1279.54 2338.94 1279.54 Q2342.57 1279.54 2344.38 1276 Q2346.21 1272.43 2346.21 1265.33 Q2346.21 1258.2 2344.38 1254.65 Q2342.57 1251.09 2338.94 1251.09 M2338.94 1247.39 Q2344.75 1247.39 2347.81 1251.99 Q2350.89 1256.58 2350.89 1265.33 Q2350.89 1274.05 2347.81 1278.66 Q2344.75 1283.24 2338.94 1283.24 Q2333.13 1283.24 2330.05 1278.66 Q2327 1274.05 2327 1265.33 Q2327 1256.58 2330.05 1251.99 Q2333.13 1247.39 2338.94 1247.39 Z\" fill=\"#f8f8f2\" fill-rule=\"nonzero\" fill-opacity=\"1\" /><polyline clip-path=\"url(#clip390)\" style=\"stroke:#000000; stroke-linecap:round; stroke-linejoin:round; stroke-width:4; stroke-opacity:1; fill:none\" points=\"2232.76,1268.92 2256.76,1268.92 \"/>\n",
       "<path clip-path=\"url(#clip390)\" d=\"M2274.38 1058.91 L2290.7 1058.91 L2290.7 1062.84 L2268.76 1062.84 L2268.76 1058.91 Q2271.42 1056.16 2276 1051.53 Q2280.61 1046.87 2281.79 1045.53 Q2284.03 1043.01 2284.91 1041.27 Q2285.82 1039.51 2285.82 1037.82 Q2285.82 1035.07 2283.87 1033.33 Q2281.95 1031.59 2278.85 1031.59 Q2276.65 1031.59 2274.2 1032.36 Q2271.77 1033.12 2268.99 1034.67 L2268.99 1029.95 Q2271.81 1028.82 2274.27 1028.24 Q2276.72 1027.66 2278.76 1027.66 Q2284.13 1027.66 2287.32 1030.34 Q2290.52 1033.03 2290.52 1037.52 Q2290.52 1039.65 2289.7 1041.57 Q2288.92 1043.47 2286.81 1046.06 Q2286.23 1046.73 2283.13 1049.95 Q2280.03 1053.15 2274.38 1058.91 Z\" fill=\"#f8f8f2\" fill-rule=\"nonzero\" fill-opacity=\"1\" /><path clip-path=\"url(#clip390)\" d=\"M2310.51 1031.36 Q2306.9 1031.36 2305.08 1034.93 Q2303.27 1038.47 2303.27 1045.6 Q2303.27 1052.71 2305.08 1056.27 Q2306.9 1059.81 2310.51 1059.81 Q2314.15 1059.81 2315.95 1056.27 Q2317.78 1052.71 2317.78 1045.6 Q2317.78 1038.47 2315.95 1034.93 Q2314.15 1031.36 2310.51 1031.36 M2310.51 1027.66 Q2316.33 1027.66 2319.38 1032.27 Q2322.46 1036.85 2322.46 1045.6 Q2322.46 1054.33 2319.38 1058.93 Q2316.33 1063.52 2310.51 1063.52 Q2304.7 1063.52 2301.63 1058.93 Q2298.57 1054.33 2298.57 1045.6 Q2298.57 1036.85 2301.63 1032.27 Q2304.7 1027.66 2310.51 1027.66 Z\" fill=\"#f8f8f2\" fill-rule=\"nonzero\" fill-opacity=\"1\" /><path clip-path=\"url(#clip390)\" d=\"M2340.68 1031.36 Q2337.07 1031.36 2335.24 1034.93 Q2333.43 1038.47 2333.43 1045.6 Q2333.43 1052.71 2335.24 1056.27 Q2337.07 1059.81 2340.68 1059.81 Q2344.31 1059.81 2346.12 1056.27 Q2347.95 1052.71 2347.95 1045.6 Q2347.95 1038.47 2346.12 1034.93 Q2344.31 1031.36 2340.68 1031.36 M2340.68 1027.66 Q2346.49 1027.66 2349.54 1032.27 Q2352.62 1036.85 2352.62 1045.6 Q2352.62 1054.33 2349.54 1058.93 Q2346.49 1063.52 2340.68 1063.52 Q2334.87 1063.52 2331.79 1058.93 Q2328.73 1054.33 2328.73 1045.6 Q2328.73 1036.85 2331.79 1032.27 Q2334.87 1027.66 2340.68 1027.66 Z\" fill=\"#f8f8f2\" fill-rule=\"nonzero\" fill-opacity=\"1\" /><polyline clip-path=\"url(#clip390)\" style=\"stroke:#000000; stroke-linecap:round; stroke-linejoin:round; stroke-width:4; stroke-opacity:1; fill:none\" points=\"2232.76,1049.19 2256.76,1049.19 \"/>\n",
       "<path clip-path=\"url(#clip390)\" d=\"M2284.38 824.485 Q2287.74 825.202 2289.61 827.471 Q2291.51 829.739 2291.51 833.073 Q2291.51 838.188 2287.99 840.989 Q2284.47 843.79 2277.99 843.79 Q2275.82 843.79 2273.5 843.351 Q2271.21 842.934 2268.76 842.077 L2268.76 837.564 Q2270.7 838.698 2273.02 839.276 Q2275.33 839.855 2277.85 839.855 Q2282.25 839.855 2284.54 838.119 Q2286.86 836.383 2286.86 833.073 Q2286.86 830.017 2284.7 828.304 Q2282.58 826.568 2278.76 826.568 L2274.73 826.568 L2274.73 822.726 L2278.94 822.726 Q2282.39 822.726 2284.22 821.36 Q2286.05 819.971 2286.05 817.378 Q2286.05 814.716 2284.15 813.304 Q2282.27 811.869 2278.76 811.869 Q2276.83 811.869 2274.64 812.286 Q2272.44 812.703 2269.8 813.582 L2269.8 809.416 Q2272.46 808.675 2274.77 808.304 Q2277.11 807.934 2279.17 807.934 Q2284.5 807.934 2287.6 810.365 Q2290.7 812.772 2290.7 816.892 Q2290.7 819.763 2289.06 821.753 Q2287.41 823.721 2284.38 824.485 Z\" fill=\"#f8f8f2\" fill-rule=\"nonzero\" fill-opacity=\"1\" /><path clip-path=\"url(#clip390)\" d=\"M2310.38 811.638 Q2306.76 811.638 2304.94 815.203 Q2303.13 818.744 2303.13 825.874 Q2303.13 832.98 2304.94 836.545 Q2306.76 840.087 2310.38 840.087 Q2314.01 840.087 2315.82 836.545 Q2317.64 832.98 2317.64 825.874 Q2317.64 818.744 2315.82 815.203 Q2314.01 811.638 2310.38 811.638 M2310.38 807.934 Q2316.19 807.934 2319.24 812.54 Q2322.32 817.124 2322.32 825.874 Q2322.32 834.601 2319.24 839.207 Q2316.19 843.79 2310.38 843.79 Q2304.57 843.79 2301.49 839.207 Q2298.43 834.601 2298.43 825.874 Q2298.43 817.124 2301.49 812.54 Q2304.57 807.934 2310.38 807.934 Z\" fill=\"#f8f8f2\" fill-rule=\"nonzero\" fill-opacity=\"1\" /><path clip-path=\"url(#clip390)\" d=\"M2340.54 811.638 Q2336.93 811.638 2335.1 815.203 Q2333.29 818.744 2333.29 825.874 Q2333.29 832.98 2335.1 836.545 Q2336.93 840.087 2340.54 840.087 Q2344.17 840.087 2345.98 836.545 Q2347.81 832.98 2347.81 825.874 Q2347.81 818.744 2345.98 815.203 Q2344.17 811.638 2340.54 811.638 M2340.54 807.934 Q2346.35 807.934 2349.4 812.54 Q2352.48 817.124 2352.48 825.874 Q2352.48 834.601 2349.4 839.207 Q2346.35 843.79 2340.54 843.79 Q2334.73 843.79 2331.65 839.207 Q2328.59 834.601 2328.59 825.874 Q2328.59 817.124 2331.65 812.54 Q2334.73 807.934 2340.54 807.934 Z\" fill=\"#f8f8f2\" fill-rule=\"nonzero\" fill-opacity=\"1\" /><polyline clip-path=\"url(#clip390)\" style=\"stroke:#000000; stroke-linecap:round; stroke-linejoin:round; stroke-width:4; stroke-opacity:1; fill:none\" points=\"2232.76,829.468 2256.76,829.468 \"/>\n",
       "<path clip-path=\"url(#clip390)\" d=\"M2284.36 592.907 L2272.55 611.356 L2284.36 611.356 L2284.36 592.907 M2283.13 588.833 L2289.01 588.833 L2289.01 611.356 L2293.94 611.356 L2293.94 615.245 L2289.01 615.245 L2289.01 623.393 L2284.36 623.393 L2284.36 615.245 L2268.76 615.245 L2268.76 610.731 L2283.13 588.833 Z\" fill=\"#f8f8f2\" fill-rule=\"nonzero\" fill-opacity=\"1\" /><path clip-path=\"url(#clip390)\" d=\"M2311.67 591.912 Q2308.06 591.912 2306.23 595.477 Q2304.43 599.018 2304.43 606.148 Q2304.43 613.254 2306.23 616.819 Q2308.06 620.361 2311.67 620.361 Q2315.31 620.361 2317.11 616.819 Q2318.94 613.254 2318.94 606.148 Q2318.94 599.018 2317.11 595.477 Q2315.31 591.912 2311.67 591.912 M2311.67 588.208 Q2317.48 588.208 2320.54 592.815 Q2323.62 597.398 2323.62 606.148 Q2323.62 614.875 2320.54 619.481 Q2317.48 624.065 2311.67 624.065 Q2305.86 624.065 2302.78 619.481 Q2299.73 614.875 2299.73 606.148 Q2299.73 597.398 2302.78 592.815 Q2305.86 588.208 2311.67 588.208 Z\" fill=\"#f8f8f2\" fill-rule=\"nonzero\" fill-opacity=\"1\" /><path clip-path=\"url(#clip390)\" d=\"M2341.83 591.912 Q2338.22 591.912 2336.39 595.477 Q2334.59 599.018 2334.59 606.148 Q2334.59 613.254 2336.39 616.819 Q2338.22 620.361 2341.83 620.361 Q2345.47 620.361 2347.27 616.819 Q2349.1 613.254 2349.1 606.148 Q2349.1 599.018 2347.27 595.477 Q2345.47 591.912 2341.83 591.912 M2341.83 588.208 Q2347.64 588.208 2350.7 592.815 Q2353.78 597.398 2353.78 606.148 Q2353.78 614.875 2350.7 619.481 Q2347.64 624.065 2341.83 624.065 Q2336.02 624.065 2332.95 619.481 Q2329.89 614.875 2329.89 606.148 Q2329.89 597.398 2332.95 592.815 Q2336.02 588.208 2341.83 588.208 Z\" fill=\"#f8f8f2\" fill-rule=\"nonzero\" fill-opacity=\"1\" /><polyline clip-path=\"url(#clip390)\" style=\"stroke:#000000; stroke-linecap:round; stroke-linejoin:round; stroke-width:4; stroke-opacity:1; fill:none\" points=\"2232.76,609.742 2256.76,609.742 \"/>\n",
       "<path clip-path=\"url(#clip390)\" d=\"M2270.21 369.107 L2288.57 369.107 L2288.57 373.043 L2274.5 373.043 L2274.5 381.515 Q2275.52 381.168 2276.53 381.006 Q2277.55 380.82 2278.57 380.82 Q2284.36 380.82 2287.74 383.992 Q2291.12 387.163 2291.12 392.58 Q2291.12 398.158 2287.64 401.26 Q2284.17 404.339 2277.85 404.339 Q2275.68 404.339 2273.41 403.968 Q2271.16 403.598 2268.76 402.857 L2268.76 398.158 Q2270.84 399.293 2273.06 399.848 Q2275.28 400.404 2277.76 400.404 Q2281.77 400.404 2284.1 398.297 Q2286.44 396.191 2286.44 392.58 Q2286.44 388.968 2284.1 386.862 Q2281.77 384.756 2277.76 384.756 Q2275.89 384.756 2274.01 385.172 Q2272.16 385.589 2270.21 386.469 L2270.21 369.107 Z\" fill=\"#f8f8f2\" fill-rule=\"nonzero\" fill-opacity=\"1\" /><path clip-path=\"url(#clip390)\" d=\"M2310.33 372.186 Q2306.72 372.186 2304.89 375.751 Q2303.08 379.293 2303.08 386.422 Q2303.08 393.529 2304.89 397.093 Q2306.72 400.635 2310.33 400.635 Q2313.96 400.635 2315.77 397.093 Q2317.6 393.529 2317.6 386.422 Q2317.6 379.293 2315.77 375.751 Q2313.96 372.186 2310.33 372.186 M2310.33 368.482 Q2316.14 368.482 2319.2 373.089 Q2322.27 377.672 2322.27 386.422 Q2322.27 395.149 2319.2 399.755 Q2316.14 404.339 2310.33 404.339 Q2304.52 404.339 2301.44 399.755 Q2298.39 395.149 2298.39 386.422 Q2298.39 377.672 2301.44 373.089 Q2304.52 368.482 2310.33 368.482 Z\" fill=\"#f8f8f2\" fill-rule=\"nonzero\" fill-opacity=\"1\" /><path clip-path=\"url(#clip390)\" d=\"M2340.49 372.186 Q2336.88 372.186 2335.05 375.751 Q2333.25 379.293 2333.25 386.422 Q2333.25 393.529 2335.05 397.093 Q2336.88 400.635 2340.49 400.635 Q2344.13 400.635 2345.93 397.093 Q2347.76 393.529 2347.76 386.422 Q2347.76 379.293 2345.93 375.751 Q2344.13 372.186 2340.49 372.186 M2340.49 368.482 Q2346.3 368.482 2349.36 373.089 Q2352.44 377.672 2352.44 386.422 Q2352.44 395.149 2349.36 399.755 Q2346.3 404.339 2340.49 404.339 Q2334.68 404.339 2331.6 399.755 Q2328.55 395.149 2328.55 386.422 Q2328.55 377.672 2331.6 373.089 Q2334.68 368.482 2340.49 368.482 Z\" fill=\"#f8f8f2\" fill-rule=\"nonzero\" fill-opacity=\"1\" /><polyline clip-path=\"url(#clip390)\" style=\"stroke:#000000; stroke-linecap:round; stroke-linejoin:round; stroke-width:4; stroke-opacity:1; fill:none\" points=\"2232.76,390.016 2256.76,390.016 \"/>\n",
       "<path clip-path=\"url(#clip390)\" d=\"M2281.09 164.798 Q2277.95 164.798 2276.09 166.951 Q2274.27 169.104 2274.27 172.854 Q2274.27 176.581 2276.09 178.757 Q2277.95 180.909 2281.09 180.909 Q2284.24 180.909 2286.07 178.757 Q2287.92 176.581 2287.92 172.854 Q2287.92 169.104 2286.07 166.951 Q2284.24 164.798 2281.09 164.798 M2290.38 150.146 L2290.38 154.405 Q2288.62 153.572 2286.81 153.132 Q2285.03 152.692 2283.27 152.692 Q2278.64 152.692 2276.19 155.817 Q2273.76 158.942 2273.41 165.261 Q2274.77 163.247 2276.83 162.183 Q2278.89 161.095 2281.37 161.095 Q2286.58 161.095 2289.59 164.266 Q2292.62 167.414 2292.62 172.854 Q2292.62 178.178 2289.47 181.395 Q2286.33 184.613 2281.09 184.613 Q2275.1 184.613 2271.93 180.03 Q2268.76 175.423 2268.76 166.696 Q2268.76 158.502 2272.64 153.641 Q2276.53 148.757 2283.08 148.757 Q2284.84 148.757 2286.63 149.104 Q2288.43 149.451 2290.38 150.146 Z\" fill=\"#f8f8f2\" fill-rule=\"nonzero\" fill-opacity=\"1\" /><path clip-path=\"url(#clip390)\" d=\"M2310.68 152.46 Q2307.07 152.46 2305.24 156.025 Q2303.43 159.567 2303.43 166.696 Q2303.43 173.803 2305.24 177.368 Q2307.07 180.909 2310.68 180.909 Q2314.31 180.909 2316.12 177.368 Q2317.95 173.803 2317.95 166.696 Q2317.95 159.567 2316.12 156.025 Q2314.31 152.46 2310.68 152.46 M2310.68 148.757 Q2316.49 148.757 2319.54 153.363 Q2322.62 157.946 2322.62 166.696 Q2322.62 175.423 2319.54 180.03 Q2316.49 184.613 2310.68 184.613 Q2304.87 184.613 2301.79 180.03 Q2298.73 175.423 2298.73 166.696 Q2298.73 157.946 2301.79 153.363 Q2304.87 148.757 2310.68 148.757 Z\" fill=\"#f8f8f2\" fill-rule=\"nonzero\" fill-opacity=\"1\" /><path clip-path=\"url(#clip390)\" d=\"M2340.84 152.46 Q2337.23 152.46 2335.4 156.025 Q2333.59 159.567 2333.59 166.696 Q2333.59 173.803 2335.4 177.368 Q2337.23 180.909 2340.84 180.909 Q2344.47 180.909 2346.28 177.368 Q2348.11 173.803 2348.11 166.696 Q2348.11 159.567 2346.28 156.025 Q2344.47 152.46 2340.84 152.46 M2340.84 148.757 Q2346.65 148.757 2349.7 153.363 Q2352.78 157.946 2352.78 166.696 Q2352.78 175.423 2349.7 180.03 Q2346.65 184.613 2340.84 184.613 Q2335.03 184.613 2331.95 180.03 Q2328.89 175.423 2328.89 166.696 Q2328.89 157.946 2331.95 153.363 Q2335.03 148.757 2340.84 148.757 Z\" fill=\"#f8f8f2\" fill-rule=\"nonzero\" fill-opacity=\"1\" /><polyline clip-path=\"url(#clip390)\" style=\"stroke:#000000; stroke-linecap:round; stroke-linejoin:round; stroke-width:4; stroke-opacity:1; fill:none\" points=\"2232.76,170.291 2256.76,170.291 \"/>\n",
       "<polyline clip-path=\"url(#clip390)\" style=\"stroke:#000000; stroke-linecap:round; stroke-linejoin:round; stroke-width:4; stroke-opacity:1; fill:none\" points=\"2232.76,1486.45 2232.76,47.2441 \"/>\n",
       "</svg>\n"
      ]
     },
     "execution_count": 93,
     "metadata": {},
     "output_type": "execute_result"
    }
   ],
   "source": [
    "x = randn(10^5)\n",
    "y = randn(10^5)\n",
    "histogram2d(x, y, bins=(64, 64))"
   ]
  },
  {
   "cell_type": "markdown",
   "metadata": {},
   "source": [
    "### Importing Data\n",
    "Bring data from external files into ${\\tt Julia}$."
   ]
  },
  {
   "cell_type": "markdown",
   "metadata": {},
   "source": [
    "Data is typically stored in files, such as _CSV_ or _JSON_ files. In order to train and test machine learning models, the data needs to be loaded into the program. Additionally, the results of the training and testing process, such as model weights and performance metrics, also need to be saved to files. Therefore, the ability to manipulate files is essential for loading and saving data and model information in the machine learning process."
   ]
  },
  {
   "cell_type": "code",
   "execution_count": 94,
   "metadata": {},
   "outputs": [
    {
     "name": "stderr",
     "output_type": "stream",
     "text": [
      "\u001b[32m\u001b[1m   Resolving\u001b[22m\u001b[39m package versions...\n",
      "\u001b[32m\u001b[1m   Installed\u001b[22m\u001b[39m StringManipulation ─ v0.4.0\n",
      "\u001b[32m\u001b[1m   Installed\u001b[22m\u001b[39m PrettyTables ─────── v2.4.0\n",
      "\u001b[32m\u001b[1m   Installed\u001b[22m\u001b[39m DataFrames ───────── v1.7.0\n",
      "\u001b[32m\u001b[1m    Updating\u001b[22m\u001b[39m `~/Work/git-repos/AI-ML-DL/jlai/Codes/Julia/Part-1/Project.toml`\n",
      "  \u001b[90m[a93c6f00] \u001b[39m\u001b[92m+ DataFrames v1.7.0\u001b[39m\n",
      "\u001b[32m\u001b[1m    Updating\u001b[22m\u001b[39m `~/Work/git-repos/AI-ML-DL/jlai/Codes/Julia/Part-1/Manifest.toml`\n",
      "  \u001b[90m[a93c6f00] \u001b[39m\u001b[92m+ DataFrames v1.7.0\u001b[39m\n",
      "  \u001b[90m[842dd82b] \u001b[39m\u001b[92m+ InlineStrings v1.4.2\u001b[39m\n",
      "  \u001b[90m[41ab1584] \u001b[39m\u001b[92m+ InvertedIndices v1.3.0\u001b[39m\n",
      "  \u001b[90m[2dfb63ee] \u001b[39m\u001b[92m+ PooledArrays v1.4.3\u001b[39m\n",
      "  \u001b[90m[08abe8d2] \u001b[39m\u001b[92m+ PrettyTables v2.4.0\u001b[39m\n",
      "  \u001b[90m[91c51154] \u001b[39m\u001b[92m+ SentinelArrays v1.4.5\u001b[39m\n",
      "  \u001b[90m[892a3eda] \u001b[39m\u001b[92m+ StringManipulation v0.4.0\u001b[39m\n",
      "\u001b[32m\u001b[1mPrecompiling\u001b[22m\u001b[39m project...\n",
      "\u001b[32m  ✓ \u001b[39m\u001b[90mStringManipulation\u001b[39m\n",
      "\u001b[32m  ✓ \u001b[39m\u001b[90mPrettyTables\u001b[39m\n",
      "\u001b[32m  ✓ \u001b[39mDataFrames\n",
      "\u001b[32m  ✓ \u001b[39m\u001b[90mLatexify → DataFramesExt\u001b[39m\n",
      "\u001b[32m  ✓ \u001b[39m\u001b[90mBangBang → BangBangDataFramesExt\u001b[39m\n",
      "\u001b[32m  ✓ \u001b[39m\u001b[90mTransducers → TransducersDataFramesExt\u001b[39m\n",
      "  6 dependencies successfully precompiled in 72 seconds. 287 already precompiled.\n",
      "\u001b[32m\u001b[1m   Resolving\u001b[22m\u001b[39m package versions...\n",
      "\u001b[32m\u001b[1m    Updating\u001b[22m\u001b[39m `~/Work/git-repos/AI-ML-DL/jlai/Codes/Julia/Part-1/Project.toml`\n",
      "  \u001b[90m[336ed68f] \u001b[39m\u001b[92m+ CSV v0.10.14\u001b[39m\n",
      "\u001b[32m\u001b[1m    Updating\u001b[22m\u001b[39m `~/Work/git-repos/AI-ML-DL/jlai/Codes/Julia/Part-1/Manifest.toml`\n",
      "  \u001b[90m[336ed68f] \u001b[39m\u001b[92m+ CSV v0.10.14\u001b[39m\n",
      "  \u001b[90m[48062228] \u001b[39m\u001b[92m+ FilePathsBase v0.9.22\u001b[39m\n",
      "  \u001b[90m[ea10d353] \u001b[39m\u001b[92m+ WeakRefStrings v1.4.2\u001b[39m\n",
      "  \u001b[90m[76eceee3] \u001b[39m\u001b[92m+ WorkerUtilities v1.6.1\u001b[39m\n",
      "\u001b[32m\u001b[1mPrecompiling\u001b[22m\u001b[39m project...\n",
      "\u001b[32m  ✓ \u001b[39m\u001b[90mFilePathsBase → FilePathsBaseTestExt\u001b[39m\n",
      "  1 dependency successfully precompiled in 1 seconds. 298 already precompiled.\n"
     ]
    }
   ],
   "source": [
    "using Pkg\n",
    "Pkg.add(\"DataFrames\")\n",
    "Pkg.add(\"CSV\")"
   ]
  },
  {
   "cell_type": "code",
   "execution_count": 95,
   "metadata": {},
   "outputs": [
    {
     "data": {
      "text/latex": [
       "Create new CSV file\n",
       "\n"
      ],
      "text/markdown": [
       "Create new CSV file\n"
      ],
      "text/plain": [
       "  Create new CSV file"
      ]
     },
     "execution_count": 95,
     "metadata": {},
     "output_type": "execute_result"
    }
   ],
   "source": [
    "md\"Create new CSV file\""
   ]
  },
  {
   "cell_type": "code",
   "execution_count": 96,
   "metadata": {},
   "outputs": [],
   "source": [
    "using CSV, DataFrames"
   ]
  },
  {
   "cell_type": "code",
   "execution_count": 97,
   "metadata": {},
   "outputs": [
    {
     "data": {
      "text/latex": [
       "\\texttt{touch} command allows to create a file if it doesn't exist. Otherwise, it changes the file timestamps.\n",
       "\n"
      ],
      "text/markdown": [
       "`touch` command allows to create a file if it doesn't exist. Otherwise, it changes the file timestamps.\n"
      ],
      "text/plain": [
       "  \u001b[36mtouch\u001b[39m command allows to create a file if it doesn't exist. Otherwise, it\n",
       "  changes the file timestamps."
      ]
     },
     "execution_count": 97,
     "metadata": {},
     "output_type": "execute_result"
    }
   ],
   "source": [
    "md\"`touch` command allows to create a file if it doesn't exist. Otherwise, it changes the file timestamps.\""
   ]
  },
  {
   "cell_type": "code",
   "execution_count": 98,
   "metadata": {},
   "outputs": [
    {
     "data": {
      "text/plain": [
       "\"test-file.csv\""
      ]
     },
     "execution_count": 98,
     "metadata": {},
     "output_type": "execute_result"
    }
   ],
   "source": [
    "touch(\"test-file.csv\")"
   ]
  },
  {
   "cell_type": "code",
   "execution_count": 99,
   "metadata": {},
   "outputs": [
    {
     "name": "stdout",
     "output_type": "stream",
     "text": [
      "-rw-rw-r-- 1 mhamdi mhamdi 0 Oct  5 16:33 test-file.csv\n"
     ]
    }
   ],
   "source": [
    ";ls -la test-file.csv"
   ]
  },
  {
   "cell_type": "code",
   "execution_count": 100,
   "metadata": {},
   "outputs": [
    {
     "data": {
      "text/plain": [
       "IOStream(<file test-file.csv>)"
      ]
     },
     "execution_count": 100,
     "metadata": {},
     "output_type": "execute_result"
    }
   ],
   "source": [
    "file = open(\"test-file.csv\", \"w\")"
   ]
  },
  {
   "cell_type": "code",
   "execution_count": 101,
   "metadata": {},
   "outputs": [
    {
     "data": {
      "text/latex": [
       "Let's create some imaginary data\n",
       "\n"
      ],
      "text/markdown": [
       "Let's create some imaginary data\n"
      ],
      "text/plain": [
       "  Let's create some imaginary data"
      ]
     },
     "execution_count": 101,
     "metadata": {},
     "output_type": "execute_result"
    }
   ],
   "source": [
    "md\"Let's create some imaginary data\""
   ]
  },
  {
   "cell_type": "code",
   "execution_count": 102,
   "metadata": {},
   "outputs": [
    {
     "data": {
      "text/html": [
       "<div><div style = \"float: left;\"><span>4×3 DataFrame</span></div><div style = \"clear: both;\"></div></div><div class = \"data-frame\" style = \"overflow-x: scroll;\"><table class = \"data-frame\" style = \"margin-bottom: 6px;\"><thead><tr class = \"header\"><th class = \"rowNumber\" style = \"font-weight: bold; text-align: right;\">Row</th><th style = \"text-align: left;\">Student</th><th style = \"text-align: left;\">Id</th><th style = \"text-align: left;\">Marks</th></tr><tr class = \"subheader headerLastRow\"><th class = \"rowNumber\" style = \"font-weight: bold; text-align: right;\"></th><th title = \"String\" style = \"text-align: left;\">String</th><th title = \"Int64\" style = \"text-align: left;\">Int64</th><th title = \"Float64\" style = \"text-align: left;\">Float64</th></tr></thead><tbody><tr><td class = \"rowNumber\" style = \"font-weight: bold; text-align: right;\">1</td><td style = \"text-align: left;\">Mohamed</td><td style = \"text-align: right;\">1</td><td style = \"text-align: right;\">18.0</td></tr><tr><td class = \"rowNumber\" style = \"font-weight: bold; text-align: right;\">2</td><td style = \"text-align: left;\">Aymen</td><td style = \"text-align: right;\">2</td><td style = \"text-align: right;\">7.0</td></tr><tr><td class = \"rowNumber\" style = \"font-weight: bold; text-align: right;\">3</td><td style = \"text-align: left;\">Rami</td><td style = \"text-align: right;\">3</td><td style = \"text-align: right;\">12.0</td></tr><tr><td class = \"rowNumber\" style = \"font-weight: bold; text-align: right;\">4</td><td style = \"text-align: left;\">Ala</td><td style = \"text-align: right;\">4</td><td style = \"text-align: right;\">5.5</td></tr></tbody></table></div>"
      ],
      "text/latex": [
       "\\begin{tabular}{r|ccc}\n",
       "\t& Student & Id & Marks\\\\\n",
       "\t\\hline\n",
       "\t& String & Int64 & Float64\\\\\n",
       "\t\\hline\n",
       "\t1 & Mohamed & 1 & 18.0 \\\\\n",
       "\t2 & Aymen & 2 & 7.0 \\\\\n",
       "\t3 & Rami & 3 & 12.0 \\\\\n",
       "\t4 & Ala & 4 & 5.5 \\\\\n",
       "\\end{tabular}\n"
      ],
      "text/plain": [
       "\u001b[1m4×3 DataFrame\u001b[0m\n",
       "\u001b[1m Row \u001b[0m│\u001b[1m Student \u001b[0m\u001b[1m Id    \u001b[0m\u001b[1m Marks   \u001b[0m\n",
       "     │\u001b[90m String  \u001b[0m\u001b[90m Int64 \u001b[0m\u001b[90m Float64 \u001b[0m\n",
       "─────┼─────────────────────────\n",
       "   1 │ Mohamed      1     18.0\n",
       "   2 │ Aymen        2      7.0\n",
       "   3 │ Rami         3     12.0\n",
       "   4 │ Ala          4      5.5"
      ]
     },
     "execution_count": 102,
     "metadata": {},
     "output_type": "execute_result"
    }
   ],
   "source": [
    "df = DataFrame(\n",
    "        Student = [\"Mohamed\", \"Aymen\", \"Rami\", \"Ala\"],\n",
    "        Id = [1, 2, 3, 4],\n",
    "        Marks = [18, 7, 12, 5.5]\n",
    "        )"
   ]
  },
  {
   "cell_type": "code",
   "execution_count": 103,
   "metadata": {},
   "outputs": [
    {
     "data": {
      "text/latex": [
       "Write \\texttt{df} to file\n",
       "\n"
      ],
      "text/markdown": [
       "Write `df` to file\n"
      ],
      "text/plain": [
       "  Write \u001b[36mdf\u001b[39m to file"
      ]
     },
     "execution_count": 103,
     "metadata": {},
     "output_type": "execute_result"
    }
   ],
   "source": [
    "md\"Write `df` to file\""
   ]
  },
  {
   "cell_type": "code",
   "execution_count": 104,
   "metadata": {},
   "outputs": [
    {
     "data": {
      "text/plain": [
       "\"test-file.csv\""
      ]
     },
     "execution_count": 104,
     "metadata": {},
     "output_type": "execute_result"
    }
   ],
   "source": [
    "CSV.write(\"test-file.csv\", df)"
   ]
  },
  {
   "cell_type": "code",
   "execution_count": 105,
   "metadata": {},
   "outputs": [
    {
     "data": {
      "text/latex": [
       "Open the CSV file and add some contents. See what happens when we load it again.\n",
       "\n"
      ],
      "text/markdown": [
       "Open the CSV file and add some contents. See what happens when we load it again.\n"
      ],
      "text/plain": [
       "  Open the CSV file and add some contents. See what happens when we load it\n",
       "  again."
      ]
     },
     "execution_count": 105,
     "metadata": {},
     "output_type": "execute_result"
    }
   ],
   "source": [
    "md\"Open the CSV file and add some contents. See what happens when we load it again.\""
   ]
  },
  {
   "cell_type": "code",
   "execution_count": 106,
   "metadata": {},
   "outputs": [
    {
     "data": {
      "text/html": [
       "<div><div style = \"float: left;\"><span>4×3 DataFrame</span></div><div style = \"clear: both;\"></div></div><div class = \"data-frame\" style = \"overflow-x: scroll;\"><table class = \"data-frame\" style = \"margin-bottom: 6px;\"><thead><tr class = \"header\"><th class = \"rowNumber\" style = \"font-weight: bold; text-align: right;\">Row</th><th style = \"text-align: left;\">Student</th><th style = \"text-align: left;\">Id</th><th style = \"text-align: left;\">Marks</th></tr><tr class = \"subheader headerLastRow\"><th class = \"rowNumber\" style = \"font-weight: bold; text-align: right;\"></th><th title = \"String7\" style = \"text-align: left;\">String7</th><th title = \"Int64\" style = \"text-align: left;\">Int64</th><th title = \"Float64\" style = \"text-align: left;\">Float64</th></tr></thead><tbody><tr><td class = \"rowNumber\" style = \"font-weight: bold; text-align: right;\">1</td><td style = \"text-align: left;\">Mohamed</td><td style = \"text-align: right;\">1</td><td style = \"text-align: right;\">18.0</td></tr><tr><td class = \"rowNumber\" style = \"font-weight: bold; text-align: right;\">2</td><td style = \"text-align: left;\">Aymen</td><td style = \"text-align: right;\">2</td><td style = \"text-align: right;\">7.0</td></tr><tr><td class = \"rowNumber\" style = \"font-weight: bold; text-align: right;\">3</td><td style = \"text-align: left;\">Rami</td><td style = \"text-align: right;\">3</td><td style = \"text-align: right;\">12.0</td></tr><tr><td class = \"rowNumber\" style = \"font-weight: bold; text-align: right;\">4</td><td style = \"text-align: left;\">Ala</td><td style = \"text-align: right;\">4</td><td style = \"text-align: right;\">5.5</td></tr></tbody></table></div>"
      ],
      "text/latex": [
       "\\begin{tabular}{r|ccc}\n",
       "\t& Student & Id & Marks\\\\\n",
       "\t\\hline\n",
       "\t& String7 & Int64 & Float64\\\\\n",
       "\t\\hline\n",
       "\t1 & Mohamed & 1 & 18.0 \\\\\n",
       "\t2 & Aymen & 2 & 7.0 \\\\\n",
       "\t3 & Rami & 3 & 12.0 \\\\\n",
       "\t4 & Ala & 4 & 5.5 \\\\\n",
       "\\end{tabular}\n"
      ],
      "text/plain": [
       "\u001b[1m4×3 DataFrame\u001b[0m\n",
       "\u001b[1m Row \u001b[0m│\u001b[1m Student \u001b[0m\u001b[1m Id    \u001b[0m\u001b[1m Marks   \u001b[0m\n",
       "     │\u001b[90m String7 \u001b[0m\u001b[90m Int64 \u001b[0m\u001b[90m Float64 \u001b[0m\n",
       "─────┼─────────────────────────\n",
       "   1 │ Mohamed      1     18.0\n",
       "   2 │ Aymen        2      7.0\n",
       "   3 │ Rami         3     12.0\n",
       "   4 │ Ala          4      5.5"
      ]
     },
     "execution_count": 106,
     "metadata": {},
     "output_type": "execute_result"
    }
   ],
   "source": [
    "CSV.read(\"test-file.csv\", DataFrame)"
   ]
  },
  {
   "cell_type": "markdown",
   "metadata": {},
   "source": [
    "### Logical Arrays\n",
    "Use logical expressions to help extracting elements of interest from ${\\tt Julia}$ arrays."
   ]
  },
  {
   "cell_type": "code",
   "execution_count": 107,
   "metadata": {},
   "outputs": [
    {
     "name": "stdout",
     "output_type": "stream",
     "text": [
      "ComplexF64[1.0 + 0.0im, 2.0 + 0.0im, -5.0 + 0.0im, 7.2 + 0.0im, 0.0 + 3.0im]\n"
     ]
    },
    {
     "data": {
      "text/plain": [
       "Vector{ComplexF64}\u001b[90m (alias for \u001b[39m\u001b[90mArray{Complex{Float64}, 1}\u001b[39m\u001b[90m)\u001b[39m"
      ]
     },
     "execution_count": 107,
     "metadata": {},
     "output_type": "execute_result"
    }
   ],
   "source": [
    "x = [1, 2, -5, 7.2, 3im]\n",
    "println(x)\n",
    "typeof(x)"
   ]
  },
  {
   "cell_type": "code",
   "execution_count": 108,
   "metadata": {},
   "outputs": [
    {
     "name": "stdout",
     "output_type": "stream",
     "text": [
      "ComplexF64[2.0 + 0.0im, 0.0 + 3.0im]"
     ]
    }
   ],
   "source": [
    "idx = [false, true, false, false, true]\n",
    "print(x[idx])"
   ]
  },
  {
   "cell_type": "code",
   "execution_count": 109,
   "metadata": {},
   "outputs": [
    {
     "data": {
      "text/plain": [
       "5×4 Matrix{Float64}:\n",
       " 6.47602e-310  6.47602e-310  6.47602e-310  6.47602e-310\n",
       " 6.47602e-310  6.47602e-310  6.47602e-310  6.47602e-310\n",
       " 6.47602e-310  6.47602e-310  6.47602e-310  6.47602e-310\n",
       " 6.47602e-310  6.47602e-310  6.47602e-310  6.47602e-310\n",
       " 6.47602e-310  6.47602e-310  6.47602e-310  6.47602e-310"
      ]
     },
     "execution_count": 109,
     "metadata": {},
     "output_type": "execute_result"
    }
   ],
   "source": [
    "M = Array{Float64, 2}(undef, 5, 4)"
   ]
  },
  {
   "cell_type": "code",
   "execution_count": 110,
   "metadata": {},
   "outputs": [],
   "source": [
    "row_idx = [true, false, true, true, false];\n",
    "col_idx = [false, true, true, false];"
   ]
  },
  {
   "cell_type": "code",
   "execution_count": 111,
   "metadata": {},
   "outputs": [
    {
     "data": {
      "text/plain": [
       "3×4 Matrix{Float64}:\n",
       " 6.47602e-310  6.47602e-310  6.47602e-310  6.47602e-310\n",
       " 6.47602e-310  6.47602e-310  6.47602e-310  6.47602e-310\n",
       " 6.47602e-310  6.47602e-310  6.47602e-310  6.47602e-310"
      ]
     },
     "execution_count": 111,
     "metadata": {},
     "output_type": "execute_result"
    }
   ],
   "source": [
    "M[row_idx, :]"
   ]
  },
  {
   "cell_type": "code",
   "execution_count": 112,
   "metadata": {},
   "outputs": [
    {
     "data": {
      "text/plain": [
       "5×2 Matrix{Float64}:\n",
       " 6.47602e-310  6.47602e-310\n",
       " 6.47602e-310  6.47602e-310\n",
       " 6.47602e-310  6.47602e-310\n",
       " 6.47602e-310  6.47602e-310\n",
       " 6.47602e-310  6.47602e-310"
      ]
     },
     "execution_count": 112,
     "metadata": {},
     "output_type": "execute_result"
    }
   ],
   "source": [
    "M[:, col_idx]"
   ]
  },
  {
   "cell_type": "code",
   "execution_count": 113,
   "metadata": {},
   "outputs": [
    {
     "data": {
      "text/plain": [
       "3×2 Matrix{Float64}:\n",
       " 6.47602e-310  6.47602e-310\n",
       " 6.47602e-310  6.47602e-310\n",
       " 6.47602e-310  6.47602e-310"
      ]
     },
     "execution_count": 113,
     "metadata": {},
     "output_type": "execute_result"
    }
   ],
   "source": [
    "M[row_idx, col_idx]"
   ]
  },
  {
   "cell_type": "markdown",
   "metadata": {},
   "source": [
    "### Programming\n",
    "Write programs that execute code based on some condition."
   ]
  },
  {
   "cell_type": "code",
   "execution_count": 114,
   "metadata": {},
   "outputs": [
    {
     "data": {
      "text/latex": [
       "\\textbf{Conditional Evaluation}\n",
       "\n"
      ],
      "text/markdown": [
       "**Conditional Evaluation**\n"
      ],
      "text/plain": [
       "  \u001b[1mConditional Evaluation\u001b[22m"
      ]
     },
     "execution_count": 114,
     "metadata": {},
     "output_type": "execute_result"
    }
   ],
   "source": [
    "md\"**Conditional Evaluation**\""
   ]
  },
  {
   "cell_type": "code",
   "execution_count": 115,
   "metadata": {},
   "outputs": [
    {
     "name": "stdout",
     "output_type": "stream",
     "text": [
      "π is equal to π\n"
     ]
    }
   ],
   "source": [
    "a, b = π, π\n",
    "if a < b\n",
    "    println(\"$a is less than $b\")\n",
    "elseif a > b\n",
    "    println(\"$a is greater than $b\")\n",
    "else\n",
    "    println(\"$a is equal to $b\")\n",
    "end"
   ]
  },
  {
   "cell_type": "code",
   "execution_count": 116,
   "metadata": {},
   "outputs": [
    {
     "data": {
      "text/latex": [
       "\\textbf{\\texttt{While} Loop}\n",
       "\n"
      ],
      "text/markdown": [
       "**`While` Loop**\n"
      ],
      "text/plain": [
       "  \u001b[1m\u001b[36mWhile\u001b[39m Loop\u001b[22m"
      ]
     },
     "execution_count": 116,
     "metadata": {},
     "output_type": "execute_result"
    }
   ],
   "source": [
    "md\"**`While` Loop**\""
   ]
  },
  {
   "cell_type": "code",
   "execution_count": 117,
   "metadata": {},
   "outputs": [
    {
     "name": "stdout",
     "output_type": "stream",
     "text": [
      "Item #1 is Blueberry\n",
      "Item #2 is Orange\n",
      "Item #3 is Banana\n",
      "Item #4 is Raspberry\n",
      "Item #5 is Strawberry\n"
     ]
    }
   ],
   "source": [
    "fruits = [\"Blueberry\", \"Orange\", \"Banana\", \"Raspberry\", \"Strawberry\"]\n",
    "iter = 1\n",
    "while iter ≤ length(fruits)\n",
    "    println(\"Item #$iter is $(fruits[iter])\")\n",
    "    iter +=1\n",
    "end"
   ]
  },
  {
   "cell_type": "code",
   "execution_count": 118,
   "metadata": {},
   "outputs": [
    {
     "data": {
      "text/latex": [
       "\\textbf{\\texttt{For} Loop}\n",
       "\n"
      ],
      "text/markdown": [
       "**`For` Loop**\n"
      ],
      "text/plain": [
       "  \u001b[1m\u001b[36mFor\u001b[39m Loop\u001b[22m"
      ]
     },
     "execution_count": 118,
     "metadata": {},
     "output_type": "execute_result"
    }
   ],
   "source": [
    "md\"**`For` Loop**\""
   ]
  },
  {
   "cell_type": "code",
   "execution_count": 119,
   "metadata": {},
   "outputs": [
    {
     "name": "stdout",
     "output_type": "stream",
     "text": [
      "Item #1 is Broccoli\n",
      "Item #2 is Garlic\n",
      "Item #3 is Mushrooms\n",
      "Item #4 is Potatoes\n",
      "Item #5 is Tomatoes\n"
     ]
    }
   ],
   "source": [
    "vegetables = [\"Broccoli\", \"Garlic\", \"Mushrooms\", \"Potatoes\", \"Tomatoes\"]\n",
    "i = 1\n",
    "for item in vegetables\n",
    "    println(\"Item #$i is $item\")\n",
    "    i += 1\n",
    "end"
   ]
  },
  {
   "cell_type": "markdown",
   "metadata": {},
   "source": [
    "### Final Project\n",
    "Bring together concepts that you have learned with a project."
   ]
  },
  {
   "cell_type": "markdown",
   "metadata": {},
   "source": [
    "This simple project consists of implementing a basic calculator. This latter could have the ability to perform basic arithmetic operations like _addition_, _subtraction_, _multiplication_, and _division_.\n",
    "\n",
    "Here are the steps to be followed:\n",
    "1. Create a function called `calculator()` that takes two arguments, `x` and `y`, and a char operation that specifies which operation to perform.\n",
    "1. Use an `if-else` statement to check the value of operation. Depending on the value of operation, call the appropriate function to perform the calculation.\n",
    "1. Test the calculator function by calling it with different values for `x`, `y`, and operation and printing the result.\n",
    "1. Once the basic calculator is working, we can improve it by adding more functionality such as handling decimals and negative numbers, or implementing more advanced operations such as square root, power, trigonometry and so on.\n",
    "1. Finally, we could also experiment with different input types, such as command line arguments or a graphical user interface."
   ]
  },
  {
   "cell_type": "code",
   "execution_count": 120,
   "metadata": {},
   "outputs": [
    {
     "data": {
      "text/latex": [
       "Here is an example of how the basic calculator function could look like:\n",
       "\n"
      ],
      "text/markdown": [
       "Here is an example of how the basic calculator function could look like:\n"
      ],
      "text/plain": [
       "  Here is an example of how the basic calculator function could look like:"
      ]
     },
     "execution_count": 120,
     "metadata": {},
     "output_type": "execute_result"
    }
   ],
   "source": [
    "md\"Here is an example of how the basic calculator function could look like:\""
   ]
  },
  {
   "cell_type": "code",
   "execution_count": 121,
   "metadata": {},
   "outputs": [
    {
     "data": {
      "text/plain": [
       "calculator (generic function with 1 method)"
      ]
     },
     "execution_count": 121,
     "metadata": {},
     "output_type": "execute_result"
    }
   ],
   "source": [
    "function calculator(x::Number, y::Number, op::Char)\n",
    "    if op == '+'\n",
    "        return x + y\n",
    "    elseif op == '-'\n",
    "        return x - y\n",
    "    elseif op == '*'\n",
    "        return x * y\n",
    "    elseif op in ['/', '÷']\n",
    "        return x / y\n",
    "    else\n",
    "        return \"INVALID OPERATION\"\n",
    "    end\n",
    "end"
   ]
  },
  {
   "cell_type": "code",
   "execution_count": 122,
   "metadata": {},
   "outputs": [
    {
     "name": "stdout",
     "output_type": "stream",
     "text": [
      "Summation is 8\n",
      "Subtraction is 2\n",
      "Multiplication is 15\n",
      "Division is 1.6666666666666667\n",
      "INVALID OPERATION\n"
     ]
    }
   ],
   "source": [
    "println(\"Summation is $(calculator(5, 3, '+'))\")\n",
    "println(\"Subtraction is $(calculator(5, 3, '-'))\")\n",
    "println(\"Multiplication is $(calculator(5, 3, '*'))\")\n",
    "println(\"Division is $(calculator(5, 3, '÷'))\")\n",
    "println(calculator(5, 3, '×'))"
   ]
  },
  {
   "cell_type": "markdown",
   "metadata": {},
   "source": [
    "**Miscallenous**"
   ]
  },
  {
   "cell_type": "code",
   "execution_count": 123,
   "metadata": {
    "tags": []
   },
   "outputs": [
    {
     "name": "stdout",
     "output_type": "stream",
     "text": [
      "Julia Version 1.10.4\n",
      "Commit 48d4fd48430 (2024-06-04 10:41 UTC)\n",
      "Build Info:\n",
      "  Official https://julialang.org/ release\n",
      "Platform Info:\n",
      "  OS: Linux (x86_64-linux-gnu)\n",
      "  CPU: 8 × Intel(R) Core(TM) i7-8565U CPU @ 1.80GHz\n",
      "  WORD_SIZE: 64\n",
      "  LIBM: libopenlibm\n",
      "  LLVM: libLLVM-15.0.7 (ORCJIT, skylake)\n",
      "Threads: 1 default, 0 interactive, 1 GC (on 8 virtual cores)\n",
      "Environment:\n",
      "  LD_LIBRARY_PATH = /home/mhamdi/torch/install/lib:\n",
      "  DYLD_LIBRARY_PATH = /home/mhamdi/torch/install/lib:\n"
     ]
    }
   ],
   "source": [
    "md\"Check your version of Julia\"\n",
    "versioninfo()"
   ]
  },
  {
   "cell_type": "code",
   "execution_count": 124,
   "metadata": {
    "tags": []
   },
   "outputs": [
    {
     "data": {
      "text/latex": [
       "The macro \\texttt{@edit} shows the defintion of a function when invoked with specific arguments\n",
       "\n"
      ],
      "text/markdown": [
       "The macro `@edit` shows the defintion of a function when invoked with specific arguments\n"
      ],
      "text/plain": [
       "  The macro \u001b[36m@edit\u001b[39m shows the defintion of a function when invoked with specific\n",
       "  arguments"
      ]
     },
     "execution_count": 124,
     "metadata": {},
     "output_type": "execute_result"
    }
   ],
   "source": [
    "md\"The macro `@edit` shows the defintion of a function when invoked with specific arguments\"\n",
    "# @edit maximum([-1, 0, 1])"
   ]
  },
  {
   "cell_type": "code",
   "execution_count": 125,
   "metadata": {
    "tags": []
   },
   "outputs": [
    {
     "data": {
      "text/latex": [
       "\\begin{tabular}\n",
       "{l | r | l}\n",
       "name & size & summary \\\\\n",
       "\\hline\n",
       "Base &  & Module \\\\\n",
       "Core &  & Module \\\\\n",
       "Foo & 0 bytes & Foo (generic function with 1 method) \\\\\n",
       "M & 200 bytes & 5×4 Matrix\\{Float64\\} \\\\\n",
       "Main &  & Module \\\\\n",
       "PLOTS\\_DEFAULTS & 456 bytes & Dict\\{Symbol, Symbol\\} with 1 entry \\\\\n",
       "a & 0 bytes & Irrational\\{:π\\} \\\\\n",
       "b & 0 bytes & Irrational\\{:π\\} \\\\\n",
       "bar & 0 bytes & bar (generic function with 1 method) \\\\\n",
       "calculator & 0 bytes & calculator (generic function with 1 method) \\\\\n",
       "col\\_idx & 44 bytes & 4-element Vector\\{Bool\\} \\\\\n",
       "df & 915 bytes & 4×3 DataFrame \\\\\n",
       "dict & 503 bytes & Dict\\{String, Int64\\} with 3 entries \\\\\n",
       "f & 0 bytes & f (generic function with 4 methods) \\\\\n",
       "file & 396 bytes & IOStream \\\\\n",
       "foo & 0 bytes & foo (generic function with 4 methods) \\\\\n",
       "fruits & 160 bytes & 5-element Vector\\{String\\} \\\\\n",
       "g & 0 bytes & g (generic function with 1 method) \\\\\n",
       "h & 0 bytes & h (generic function with 1 method) \\\\\n",
       "i & 8 bytes & Int64 \\\\\n",
       "idx & 45 bytes & 5-element Vector\\{Bool\\} \\\\\n",
       "iter & 8 bytes & Int64 \\\\\n",
       "lst & 176 bytes & 5-element Vector\\{Any\\} \\\\\n",
       "mycos & 0 bytes & mycos (generic function with 2 methods) \\\\\n",
       "row\\_idx & 45 bytes & 5-element Vector\\{Bool\\} \\\\\n",
       "showall & 0 bytes & showall (generic function with 1 method) \\\\\n",
       "str & 19 bytes & 11-codeunit String \\\\\n",
       "tmp & 1 byte & UInt8 \\\\\n",
       "var & 80 bytes & 2×4 BitMatrix \\\\\n",
       "vegetables & 159 bytes & 5-element Vector\\{String\\} \\\\\n",
       "x & 120 bytes & 5-element Vector\\{ComplexF64\\} \\\\\n",
       "y & 781.289 KiB & 100000-element Vector\\{Float64\\} \\\\\n",
       "z & 768 bytes & 91-element Vector\\{Float64\\} \\\\\n",
       "\\end{tabular}\n"
      ],
      "text/markdown": [
       "| name           |        size | summary                                     |\n",
       "|:-------------- | -----------:|:------------------------------------------- |\n",
       "| Base           |             | Module                                      |\n",
       "| Core           |             | Module                                      |\n",
       "| Foo            |     0 bytes | Foo (generic function with 1 method)        |\n",
       "| M              |   200 bytes | 5×4 Matrix{Float64}                         |\n",
       "| Main           |             | Module                                      |\n",
       "| PLOTS_DEFAULTS |   456 bytes | Dict{Symbol, Symbol} with 1 entry           |\n",
       "| a              |     0 bytes | Irrational{:π}                              |\n",
       "| b              |     0 bytes | Irrational{:π}                              |\n",
       "| bar            |     0 bytes | bar (generic function with 1 method)        |\n",
       "| calculator     |     0 bytes | calculator (generic function with 1 method) |\n",
       "| col_idx        |    44 bytes | 4-element Vector{Bool}                      |\n",
       "| df             |   915 bytes | 4×3 DataFrame                               |\n",
       "| dict           |   503 bytes | Dict{String, Int64} with 3 entries          |\n",
       "| f              |     0 bytes | f (generic function with 4 methods)         |\n",
       "| file           |   396 bytes | IOStream                                    |\n",
       "| foo            |     0 bytes | foo (generic function with 4 methods)       |\n",
       "| fruits         |   160 bytes | 5-element Vector{String}                    |\n",
       "| g              |     0 bytes | g (generic function with 1 method)          |\n",
       "| h              |     0 bytes | h (generic function with 1 method)          |\n",
       "| i              |     8 bytes | Int64                                       |\n",
       "| idx            |    45 bytes | 5-element Vector{Bool}                      |\n",
       "| iter           |     8 bytes | Int64                                       |\n",
       "| lst            |   176 bytes | 5-element Vector{Any}                       |\n",
       "| mycos          |     0 bytes | mycos (generic function with 2 methods)     |\n",
       "| row_idx        |    45 bytes | 5-element Vector{Bool}                      |\n",
       "| showall        |     0 bytes | showall (generic function with 1 method)    |\n",
       "| str            |    19 bytes | 11-codeunit String                          |\n",
       "| tmp            |      1 byte | UInt8                                       |\n",
       "| var            |    80 bytes | 2×4 BitMatrix                               |\n",
       "| vegetables     |   159 bytes | 5-element Vector{String}                    |\n",
       "| x              |   120 bytes | 5-element Vector{ComplexF64}                |\n",
       "| y              | 781.289 KiB | 100000-element Vector{Float64}              |\n",
       "| z              |   768 bytes | 91-element Vector{Float64}                  |\n"
      ],
      "text/plain": [
       "  name                  size summary                                    \n",
       "  –––––––––––––– ––––––––––– –––––––––––––––––––––––––––––––––––––––––––\n",
       "  Base                       Module                                     \n",
       "  Core                       Module                                     \n",
       "  Foo                0 bytes Foo (generic function with 1 method)       \n",
       "  M                200 bytes 5×4 Matrix{Float64}                        \n",
       "  Main                       Module                                     \n",
       "  PLOTS_DEFAULTS   456 bytes Dict{Symbol, Symbol} with 1 entry          \n",
       "  a                  0 bytes Irrational{:π}                             \n",
       "  b                  0 bytes Irrational{:π}                             \n",
       "  bar                0 bytes bar (generic function with 1 method)       \n",
       "  calculator         0 bytes calculator (generic function with 1 method)\n",
       "  col_idx           44 bytes 4-element Vector{Bool}                     \n",
       "  df               915 bytes 4×3 DataFrame                              \n",
       "  dict             503 bytes Dict{String, Int64} with 3 entries         \n",
       "  f                  0 bytes f (generic function with 4 methods)        \n",
       "  file             396 bytes IOStream                                   \n",
       "  foo                0 bytes foo (generic function with 4 methods)      \n",
       "  fruits           160 bytes 5-element Vector{String}                   \n",
       "  g                  0 bytes g (generic function with 1 method)         \n",
       "  h                  0 bytes h (generic function with 1 method)         \n",
       "  i                  8 bytes Int64                                      \n",
       "  idx               45 bytes 5-element Vector{Bool}                     \n",
       "  iter               8 bytes Int64                                      \n",
       "  lst              176 bytes 5-element Vector{Any}                      \n",
       "  mycos              0 bytes mycos (generic function with 2 methods)    \n",
       "  row_idx           45 bytes 5-element Vector{Bool}                     \n",
       "  showall            0 bytes showall (generic function with 1 method)   \n",
       "  str               19 bytes 11-codeunit String                         \n",
       "  tmp                 1 byte UInt8                                      \n",
       "  var               80 bytes 2×4 BitMatrix                              \n",
       "  vegetables       159 bytes 5-element Vector{String}                   \n",
       "  x                120 bytes 5-element Vector{ComplexF64}               \n",
       "  y              781.289 KiB 100000-element Vector{Float64}             \n",
       "  z                768 bytes 91-element Vector{Float64}                 "
      ]
     },
     "execution_count": 125,
     "metadata": {},
     "output_type": "execute_result"
    }
   ],
   "source": [
    "md\"`varinfo` lists all global variables and their corresponding types in the current scope\"\n",
    "varinfo()"
   ]
  },
  {
   "cell_type": "markdown",
   "metadata": {
    "tags": []
   },
   "source": [
    "_Modules_"
   ]
  },
  {
   "cell_type": "code",
   "execution_count": 126,
   "metadata": {
    "tags": []
   },
   "outputs": [
    {
     "data": {
      "text/plain": [
       "Main.MyModule"
      ]
     },
     "execution_count": 126,
     "metadata": {},
     "output_type": "execute_result"
    }
   ],
   "source": [
    "module MyModule\n",
    "export a\n",
    "a = 0\n",
    "b = true\n",
    "end"
   ]
  },
  {
   "cell_type": "code",
   "execution_count": 127,
   "metadata": {
    "tags": []
   },
   "outputs": [
    {
     "data": {
      "text/latex": [
       "\\begin{tabular}\n",
       "{l | r | l}\n",
       "name & size & summary \\\\\n",
       "\\hline\n",
       "MyModule & 2.207 KiB & Module \\\\\n",
       "a & 8 bytes & Int64 \\\\\n",
       "\\end{tabular}\n"
      ],
      "text/markdown": [
       "| name     |      size | summary |\n",
       "|:-------- | ---------:|:------- |\n",
       "| MyModule | 2.207 KiB | Module  |\n",
       "| a        |   8 bytes | Int64   |\n"
      ],
      "text/plain": [
       "  name          size summary\n",
       "  –––––––– ––––––––– –––––––\n",
       "  MyModule 2.207 KiB Module \n",
       "  a          8 bytes Int64  "
      ]
     },
     "execution_count": 127,
     "metadata": {},
     "output_type": "execute_result"
    }
   ],
   "source": [
    "varinfo(MyModule)"
   ]
  },
  {
   "cell_type": "code",
   "execution_count": 128,
   "metadata": {
    "tags": []
   },
   "outputs": [
    {
     "data": {
      "text/plain": [
       "π = 3.1415926535897..."
      ]
     },
     "execution_count": 128,
     "metadata": {},
     "output_type": "execute_result"
    }
   ],
   "source": [
    "a"
   ]
  },
  {
   "cell_type": "code",
   "execution_count": 129,
   "metadata": {
    "tags": []
   },
   "outputs": [
    {
     "data": {
      "text/plain": [
       "0"
      ]
     },
     "execution_count": 129,
     "metadata": {},
     "output_type": "execute_result"
    }
   ],
   "source": [
    "MyModule.a"
   ]
  },
  {
   "cell_type": "code",
   "execution_count": 130,
   "metadata": {
    "tags": []
   },
   "outputs": [
    {
     "data": {
      "text/plain": [
       "true"
      ]
     },
     "execution_count": 130,
     "metadata": {},
     "output_type": "execute_result"
    }
   ],
   "source": [
    "MyModule.b"
   ]
  },
  {
   "cell_type": "code",
   "execution_count": null,
   "metadata": {},
   "outputs": [],
   "source": []
  }
 ],
 "metadata": {
  "kernelspec": {
   "display_name": "Julia 1.10.4",
   "language": "julia",
   "name": "julia-1.10"
  },
  "language_info": {
   "file_extension": ".jl",
   "mimetype": "application/julia",
   "name": "julia",
   "version": "1.10.4"
  }
 },
 "nbformat": 4,
 "nbformat_minor": 4
}
