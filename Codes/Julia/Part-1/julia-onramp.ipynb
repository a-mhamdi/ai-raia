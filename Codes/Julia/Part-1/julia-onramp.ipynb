{
 "cells": [
  {
   "cell_type": "markdown",
   "metadata": {},
   "source": [
    "# Lab. \\#1: ${\\tt Julia}$ Onramp\n",
    "---"
   ]
  },
  {
   "cell_type": "markdown",
   "metadata": {},
   "source": [
    "### GOALS\n",
    "- Enter commands in ${\\tt Julia}$ REPL to create variables and perform calculations;\n",
    "- Write and save programs;\n",
    "- Use indexing to extract and modify rows, columns, and elements of ${\\tt Julia}$ tensors."
   ]
  },
  {
   "cell_type": "markdown",
   "metadata": {},
   "source": [
    "${\\tt Julia}$ is a standalone program which can be downloaded from [https://julialang.org/downloads/](https://julialang.org/downloads/)"
   ]
  },
  {
   "cell_type": "markdown",
   "metadata": {
    "tags": []
   },
   "source": [
    "**Getting around**"
   ]
  },
  {
   "cell_type": "markdown",
   "metadata": {},
   "source": [
    "By default, Julia runs in an interactive terminal called the REPL. In this mode, Some useful commands are:\n",
    "1. `^C` aborts execution\n",
    "1. `^D` exits Julia\n",
    "1. `?` enters help mode\n",
    "1. `;` enters system shell mode\n",
    "1. `]` enters package manager mode\n",
    "1. `^l` clears screen"
   ]
  },
  {
   "cell_type": "markdown",
   "metadata": {},
   "source": [
    "We begin first by activating the environement within the desired folder."
   ]
  },
  {
   "cell_type": "markdown",
   "metadata": {},
   "source": [
    "From the REPL interface, either type\n",
    "```julia\n",
    "using Pkg  \n",
    "pkg\"activate .\"\n",
    "```\n",
    "or access the package mode by typing `]` and simply write\n",
    "```julia\n",
    "activate .\n",
    "```\n",
    "Always within the package mode, to see the full list of installed packages\n",
    "```julia\n",
    "st\n",
    "```"
   ]
  },
  {
   "cell_type": "code",
   "execution_count": 1,
   "metadata": {},
   "outputs": [
    {
     "name": "stderr",
     "output_type": "stream",
     "text": [
      "\u001b[32m\u001b[1m  Activating\u001b[22m\u001b[39m project at `~/MEGA/git-repos/infodev/Codes`\n"
     ]
    }
   ],
   "source": [
    "using Pkg\n",
    "pkg\"activate .\""
   ]
  },
  {
   "cell_type": "code",
   "execution_count": 2,
   "metadata": {},
   "outputs": [
    {
     "name": "stdout",
     "output_type": "stream",
     "text": [
      "\u001b[32m\u001b[1mStatus\u001b[22m\u001b[39m `~/MEGA/git-repos/infodev/Codes/Project.toml`\n",
      "  \u001b[90m[336ed68f] \u001b[39mCSV v0.10.11\n",
      "  \u001b[90m[a93c6f00] \u001b[39mDataFrames v1.6.1\n",
      "  \u001b[90m[7073ff75] \u001b[39mIJulia v1.24.2\n",
      "\u001b[32m⌃\u001b[39m \u001b[90m[ee78f7c6] \u001b[39mMakie v0.19.12\n",
      "  \u001b[90m[5deeb4b9] \u001b[39mMousetrap v0.3.1 `https://github.com/clemapfel/mousetrap.jl#main`\n",
      "  \u001b[90m[5fb14364] \u001b[39mOhMyREPL v0.5.23\n",
      "  \u001b[90m[91a5bcdd] \u001b[39mPlots v1.39.0\n",
      "  \u001b[90m[c3e4b0f8] \u001b[39mPluto v0.19.32\n",
      "  \u001b[90m[d6f4376e] \u001b[39mMarkdown\n",
      "\u001b[36m\u001b[1mInfo\u001b[22m\u001b[39m Packages marked with \u001b[32m⌃\u001b[39m have new versions available and may be upgradable.\n"
     ]
    }
   ],
   "source": [
    "]st"
   ]
  },
  {
   "cell_type": "markdown",
   "metadata": {},
   "source": [
    "To add the **Markdown** package for instance, we write"
   ]
  },
  {
   "cell_type": "code",
   "execution_count": 3,
   "metadata": {
    "tags": []
   },
   "outputs": [
    {
     "name": "stderr",
     "output_type": "stream",
     "text": [
      "\u001b[32m\u001b[1m   Resolving\u001b[22m\u001b[39m package versions...\n",
      "\u001b[32m\u001b[1m  No Changes\u001b[22m\u001b[39m to `~/MEGA/git-repos/infodev/Codes/Project.toml`\n",
      "\u001b[32m\u001b[1m  No Changes\u001b[22m\u001b[39m to `~/MEGA/git-repos/infodev/Codes/Manifest.toml`\n"
     ]
    }
   ],
   "source": [
    "]add Markdown"
   ]
  },
  {
   "cell_type": "markdown",
   "metadata": {},
   "source": [
    "To be able to use it, we do as follows"
   ]
  },
  {
   "cell_type": "code",
   "execution_count": 4,
   "metadata": {},
   "outputs": [],
   "source": [
    "using Markdown"
   ]
  },
  {
   "cell_type": "code",
   "execution_count": 5,
   "metadata": {},
   "outputs": [
    {
     "data": {
      "text/latex": [
       "This a text inside a code cell, thanks to \\textbf{Markdown} package. I can \\emph{emphasize} anything. Make other things \\textbf{bold}\n",
       "\n"
      ],
      "text/markdown": [
       "This a text inside a code cell, thanks to **Markdown** package. I can *emphasize* anything. Make other things **bold**\n"
      ],
      "text/plain": [
       "  This a text inside a code cell, thanks to \u001b[1mMarkdown\u001b[22m package. I can \u001b[4memphasize\u001b[24m\n",
       "  anything. Make other things \u001b[1mbold\u001b[22m"
      ]
     },
     "execution_count": 5,
     "metadata": {},
     "output_type": "execute_result"
    }
   ],
   "source": [
    "md\"\"\"\n",
    "This a text inside a code cell, thanks to **Markdown** package. I can _emphasize_ anything. Make other things **bold**\n",
    "\"\"\""
   ]
  },
  {
   "cell_type": "markdown",
   "metadata": {},
   "source": [
    "Runnig `Julia` in Jupyer Notebookor Jupyter Lab is pretty handy. We only need to install the appropriate kernel. In order to add `Julia` kernel `IJulia` to Jupyter Notebook and/or `JupyterLab` IDEs, we begin by executing the following commands:\n",
    "```julia\n",
    "using Pkg  \n",
    "Pkg.add(\"IJulia\")\n",
    "```\n",
    "If we want to get `JupyterLab` instance running in current directory, we can do:\n",
    "```julia\n",
    "jupyterlab(dir=pwd(), detached=true)\n",
    "```"
   ]
  },
  {
   "cell_type": "markdown",
   "metadata": {},
   "source": [
    "In case things do not work, we run the two following commands from ${\\tt Julia}$ REPL which launch jupyter environment.\n",
    "```julia\n",
    "using IJulia  \n",
    "installkernel(\"Julia\")\n",
    "```"
   ]
  },
  {
   "cell_type": "markdown",
   "metadata": {},
   "source": [
    "The shell mode is also available through the REPL to evaluate some os commands. To do so, simply preface the regular command by semicolon. For instance, `pwd` prints the path to working directory and `ls` allows to list the content of the current directory."
   ]
  },
  {
   "cell_type": "code",
   "execution_count": 6,
   "metadata": {},
   "outputs": [
    {
     "name": "stdout",
     "output_type": "stream",
     "text": [
      "/home/mhamdi/MEGA/git-repos/infodev/Codes\n"
     ]
    }
   ],
   "source": [
    ";pwd"
   ]
  },
  {
   "cell_type": "code",
   "execution_count": 7,
   "metadata": {},
   "outputs": [
    {
     "name": "stdout",
     "output_type": "stream",
     "text": [
      "total 752\n",
      "drwxrwxr-x 3 mhamdi mhamdi   4096 Nov 29 21:29 .\n",
      "drwxrwxr-x 6 mhamdi mhamdi   4096 Nov 19 16:27 ..\n",
      "drwxrwxr-x 2 mhamdi mhamdi   4096 Nov 29 21:09 .ipynb_checkpoints\n",
      "-rw------- 3 mhamdi mhamdi 617224 Nov 29 21:29 julia-onramp.ipynb\n",
      "-rw------- 1 mhamdi mhamdi  34286 Jan 14  2023 Julia.png\n",
      "-rw-rw-r-- 1 mhamdi mhamdi  83778 Nov 29 21:13 Manifest.toml\n",
      "-rw-rw-r-- 1 mhamdi mhamdi    444 Nov 29 21:13 Project.toml\n",
      "-rw-rw-r-- 1 mhamdi mhamdi     20 Nov 19 16:27 README.md\n",
      "-rw-rw-r-- 1 mhamdi mhamdi     66 Nov 29 21:28 test-file.csv\n",
      "-rw------- 1 mhamdi mhamdi     18 Nov 29 21:17 .wakatime-project\n"
     ]
    }
   ],
   "source": [
    ";ls -la"
   ]
  },
  {
   "cell_type": "markdown",
   "metadata": {},
   "source": [
    "### Getting Help\n",
    "In order to seek help on a particular function. We just use the `?` mark. We can use the ${\\tt Julia}$ documentation to discover more pieces of information about ${\\tt Julia}$ features."
   ]
  },
  {
   "cell_type": "code",
   "execution_count": 8,
   "metadata": {},
   "outputs": [
    {
     "name": "stdout",
     "output_type": "stream",
     "text": [
      "search: \u001b[0m\u001b[1mc\u001b[22m\u001b[0m\u001b[1mo\u001b[22m\u001b[0m\u001b[1ms\u001b[22m \u001b[0m\u001b[1mc\u001b[22m\u001b[0m\u001b[1mo\u001b[22m\u001b[0m\u001b[1ms\u001b[22mh \u001b[0m\u001b[1mc\u001b[22m\u001b[0m\u001b[1mo\u001b[22m\u001b[0m\u001b[1ms\u001b[22md \u001b[0m\u001b[1mc\u001b[22m\u001b[0m\u001b[1mo\u001b[22m\u001b[0m\u001b[1ms\u001b[22mc \u001b[0m\u001b[1mc\u001b[22m\u001b[0m\u001b[1mo\u001b[22m\u001b[0m\u001b[1ms\u001b[22mpi a\u001b[0m\u001b[1mc\u001b[22m\u001b[0m\u001b[1mo\u001b[22m\u001b[0m\u001b[1ms\u001b[22m a\u001b[0m\u001b[1mc\u001b[22m\u001b[0m\u001b[1mo\u001b[22m\u001b[0m\u001b[1ms\u001b[22mh a\u001b[0m\u001b[1mc\u001b[22m\u001b[0m\u001b[1mo\u001b[22m\u001b[0m\u001b[1ms\u001b[22md sin\u001b[0m\u001b[1mc\u001b[22m\u001b[0m\u001b[1mo\u001b[22m\u001b[0m\u001b[1ms\u001b[22m sin\u001b[0m\u001b[1mc\u001b[22m\u001b[0m\u001b[1mo\u001b[22m\u001b[0m\u001b[1ms\u001b[22md sin\u001b[0m\u001b[1mc\u001b[22m\u001b[0m\u001b[1mo\u001b[22m\u001b[0m\u001b[1ms\u001b[22mpi \u001b[0m\u001b[1mc\u001b[22m\u001b[0m\u001b[1mo\u001b[22mn\u001b[0m\u001b[1ms\u001b[22mt\n",
      "\n"
     ]
    },
    {
     "data": {
      "text/latex": [
       "\\begin{verbatim}\n",
       "cos(x)\n",
       "\\end{verbatim}\n",
       "Compute cosine of \\texttt{x}, where \\texttt{x} is in radians.\n",
       "\n",
       "See also \\href{@ref}{\\texttt{cosd}}, \\href{@ref}{\\texttt{cospi}}, \\href{@ref}{\\texttt{sincos}}, \\href{@ref}{\\texttt{cis}}.\n",
       "\n",
       "\\rule{\\textwidth}{1pt}\n",
       "\\begin{verbatim}\n",
       "cos(A::AbstractMatrix)\n",
       "\\end{verbatim}\n",
       "Compute the matrix cosine of a square matrix \\texttt{A}.\n",
       "\n",
       "If \\texttt{A} is symmetric or Hermitian, its eigendecomposition (\\href{@ref}{\\texttt{eigen}}) is used to compute the cosine. Otherwise, the cosine is determined by calling \\href{@ref}{\\texttt{exp}}.\n",
       "\n",
       "\\section{Examples}\n",
       "\\begin{verbatim}\n",
       "julia> cos(fill(1.0, (2,2)))\n",
       "2×2 Matrix{Float64}:\n",
       "  0.291927  -0.708073\n",
       " -0.708073   0.291927\n",
       "\\end{verbatim}\n"
      ],
      "text/markdown": [
       "```\n",
       "cos(x)\n",
       "```\n",
       "\n",
       "Compute cosine of `x`, where `x` is in radians.\n",
       "\n",
       "See also [`cosd`](@ref), [`cospi`](@ref), [`sincos`](@ref), [`cis`](@ref).\n",
       "\n",
       "---\n",
       "\n",
       "```\n",
       "cos(A::AbstractMatrix)\n",
       "```\n",
       "\n",
       "Compute the matrix cosine of a square matrix `A`.\n",
       "\n",
       "If `A` is symmetric or Hermitian, its eigendecomposition ([`eigen`](@ref)) is used to compute the cosine. Otherwise, the cosine is determined by calling [`exp`](@ref).\n",
       "\n",
       "# Examples\n",
       "\n",
       "```jldoctest\n",
       "julia> cos(fill(1.0, (2,2)))\n",
       "2×2 Matrix{Float64}:\n",
       "  0.291927  -0.708073\n",
       " -0.708073   0.291927\n",
       "```\n"
      ],
      "text/plain": [
       "  \u001b[38;2;102;217;239mcos\u001b[0m(\u001b[0m\u001b[39mx\u001b[0m\u001b[39m)\u001b[0m\n",
       "\n",
       "\n",
       "  Compute cosine of \u001b[36mx\u001b[39m, where \u001b[36mx\u001b[39m is in radians.\n",
       "\n",
       "  See also \u001b[36mcosd\u001b[39m, \u001b[36mcospi\u001b[39m, \u001b[36msincos\u001b[39m, \u001b[36mcis\u001b[39m.\n",
       "\n",
       "  ────────────────────────────────────────────────────────────────────────────\n",
       "\n",
       "  \u001b[38;2;102;217;239mcos\u001b[0m(\u001b[0m\u001b[39mA\u001b[0m\u001b[38;2;249;38;114m::\u001b[0m\u001b[39mAbstractMatrix\u001b[0m\u001b[39m)\u001b[0m\n",
       "\n",
       "\n",
       "  Compute the matrix cosine of a square matrix \u001b[36mA\u001b[39m.\n",
       "\n",
       "  If \u001b[36mA\u001b[39m is symmetric or Hermitian, its eigendecomposition (\u001b[36meigen\u001b[39m) is used to\n",
       "  compute the cosine. Otherwise, the cosine is determined by calling \u001b[36mexp\u001b[39m.\n",
       "\n",
       "\u001b[1m  Examples\u001b[22m\n",
       "\u001b[1m  ≡≡≡≡≡≡≡≡≡≡\u001b[22m\n",
       "\n",
       "  \u001b[31;1mjulia> \u001b[0m\u001b[38;2;102;217;239mcos\u001b[0m(\u001b[0m\u001b[38;2;102;217;239mfill\u001b[0m(\u001b[0m\u001b[38;2;174;129;255m1.0\u001b[0m\u001b[39m,\u001b[0m \u001b[0m(\u001b[0m\u001b[38;2;174;129;255m2\u001b[0m\u001b[39m,\u001b[0m\u001b[38;2;174;129;255m2\u001b[0m\u001b[39m)\u001b[0m\u001b[39m)\u001b[0m\u001b[39m)\u001b[0m\n",
       "  \u001b[0m2×2 Matrix{Float64}:\n",
       "    0.291927  -0.708073\n",
       "   -0.708073   0.291927\n"
      ]
     },
     "execution_count": 8,
     "metadata": {},
     "output_type": "execute_result"
    }
   ],
   "source": [
    "?cos"
   ]
  },
  {
   "cell_type": "markdown",
   "metadata": {},
   "source": [
    "To print something on the standard output, it is possible to use either `print` and `println`. The last one displays the text and moves the cursor to the next line."
   ]
  },
  {
   "cell_type": "code",
   "execution_count": 9,
   "metadata": {},
   "outputs": [
    {
     "name": "stdout",
     "output_type": "stream",
     "text": [
      "Hello World"
     ]
    }
   ],
   "source": [
    "print(\"Hello\")\n",
    "print(' ')\n",
    "print(\"World\")"
   ]
  },
  {
   "cell_type": "code",
   "execution_count": 10,
   "metadata": {},
   "outputs": [
    {
     "name": "stdout",
     "output_type": "stream",
     "text": [
      "Hello\n",
      "World\n"
     ]
    }
   ],
   "source": [
    "println(\"Hello\")\n",
    "println(\"World\")"
   ]
  },
  {
   "cell_type": "markdown",
   "metadata": {},
   "source": [
    "**Data types: Dictionaries**"
   ]
  },
  {
   "cell_type": "code",
   "execution_count": 11,
   "metadata": {
    "tags": []
   },
   "outputs": [
    {
     "data": {
      "text/plain": [
       "Dict{String, Int64} with 3 entries:\n",
       "  \"Bicycle\"  => 2\n",
       "  \"Tricycle\" => 3\n",
       "  \"Unicycle\" => 1"
      ]
     },
     "execution_count": 11,
     "metadata": {},
     "output_type": "execute_result"
    }
   ],
   "source": [
    "dict = Dict(\n",
    "    # Name => # of wheels\n",
    "    \"Unicycle\" => 1,\n",
    "    \"Bicycle\" => 2,\n",
    "    \"Tricycle\" => 3\n",
    ")"
   ]
  },
  {
   "cell_type": "code",
   "execution_count": 12,
   "metadata": {
    "tags": []
   },
   "outputs": [
    {
     "data": {
      "text/plain": [
       "Dict{String, Int64}"
      ]
     },
     "execution_count": 12,
     "metadata": {},
     "output_type": "execute_result"
    }
   ],
   "source": [
    "typeof(dict)"
   ]
  },
  {
   "cell_type": "code",
   "execution_count": 13,
   "metadata": {
    "tags": []
   },
   "outputs": [
    {
     "data": {
      "text/plain": [
       "Dict{String, Int64} with 3 entries:\n",
       "  \"Bicycle\"  => 2\n",
       "  \"Tricycle\" => 3\n",
       "  \"Unicycle\" => 1"
      ]
     },
     "execution_count": 13,
     "metadata": {},
     "output_type": "execute_result"
    }
   ],
   "source": [
    "dict = Dict([(\"Unicycle\", 1), (\"Bicycle\", 2), (\"Tricycle\", 3)])"
   ]
  },
  {
   "cell_type": "code",
   "execution_count": 14,
   "metadata": {
    "tags": []
   },
   "outputs": [
    {
     "data": {
      "text/plain": [
       "2"
      ]
     },
     "execution_count": 14,
     "metadata": {},
     "output_type": "execute_result"
    }
   ],
   "source": [
    "dict[\"Bicycle\"]"
   ]
  },
  {
   "cell_type": "code",
   "execution_count": 15,
   "metadata": {
    "tags": []
   },
   "outputs": [
    {
     "data": {
      "text/plain": [
       "5-element Vector{Any}:\n",
       "    1\n",
       "     'a': ASCII/Unicode U+0061 (category Ll: Letter, lowercase)\n",
       "     \"abc\"\n",
       " true\n",
       "     ComplexF64[0.0 + 0.0im, 0.0 + 0.5im]"
      ]
     },
     "execution_count": 15,
     "metadata": {},
     "output_type": "execute_result"
    }
   ],
   "source": [
    "lst = [1, 'a', \"abc\", true, [0, .5im]]"
   ]
  },
  {
   "cell_type": "code",
   "execution_count": 16,
   "metadata": {
    "tags": []
   },
   "outputs": [
    {
     "data": {
      "text/plain": [
       "Vector{Any}\u001b[90m (alias for \u001b[39m\u001b[90mArray{Any, 1}\u001b[39m\u001b[90m)\u001b[39m"
      ]
     },
     "execution_count": 16,
     "metadata": {},
     "output_type": "execute_result"
    }
   ],
   "source": [
    "typeof(lst)"
   ]
  },
  {
   "cell_type": "code",
   "execution_count": 17,
   "metadata": {
    "tags": []
   },
   "outputs": [
    {
     "data": {
      "text/plain": [
       "2-element Vector{ComplexF64}:\n",
       " 0.0 + 0.0im\n",
       " 0.0 + 0.5im"
      ]
     },
     "execution_count": 17,
     "metadata": {},
     "output_type": "execute_result"
    }
   ],
   "source": [
    "lst[end]"
   ]
  },
  {
   "cell_type": "markdown",
   "metadata": {},
   "source": [
    "### Basic Calculations"
   ]
  },
  {
   "cell_type": "code",
   "execution_count": 18,
   "metadata": {},
   "outputs": [
    {
     "data": {
      "text/plain": [
       "(1, 1.5)"
      ]
     },
     "execution_count": 18,
     "metadata": {},
     "output_type": "execute_result"
    }
   ],
   "source": [
    "a, b = 1, 1.5"
   ]
  },
  {
   "cell_type": "code",
   "execution_count": 19,
   "metadata": {},
   "outputs": [
    {
     "name": "stdout",
     "output_type": "stream",
     "text": [
      "Int64\n",
      "Float64\n"
     ]
    }
   ],
   "source": [
    "println(typeof(a))\n",
    "println(typeof(b))"
   ]
  },
  {
   "cell_type": "code",
   "execution_count": 20,
   "metadata": {},
   "outputs": [
    {
     "data": {
      "text/latex": [
       "\\texttt{varinfo} method allows to display loaded variables.\n",
       "\n"
      ],
      "text/markdown": [
       "`varinfo` method allows to display loaded variables.\n"
      ],
      "text/plain": [
       "  \u001b[36mvarinfo\u001b[39m method allows to display loaded variables."
      ]
     },
     "execution_count": 20,
     "metadata": {},
     "output_type": "execute_result"
    }
   ],
   "source": [
    "md\"\"\"\n",
    "`varinfo` method allows to display loaded variables.\n",
    "\"\"\""
   ]
  },
  {
   "cell_type": "code",
   "execution_count": 21,
   "metadata": {},
   "outputs": [
    {
     "data": {
      "text/latex": [
       "\\begin{tabular}\n",
       "{l | r | l}\n",
       "name & size & summary \\\\\n",
       "\\hline\n",
       "Base &  & Module \\\\\n",
       "Core &  & Module \\\\\n",
       "Main &  & Module \\\\\n",
       "PLOTS\\_DEFAULTS & 456 bytes & Dict\\{Symbol, Symbol\\} with 1 entry \\\\\n",
       "a & 8 bytes & Int64 \\\\\n",
       "b & 8 bytes & Float64 \\\\\n",
       "dict & 503 bytes & Dict\\{String, Int64\\} with 3 entries \\\\\n",
       "lst & 176 bytes & 5-element Vector\\{Any\\} \\\\\n",
       "showall & 0 bytes & showall (generic function with 1 method) \\\\\n",
       "\\end{tabular}\n"
      ],
      "text/markdown": [
       "| name           |      size | summary                                  |\n",
       "|:-------------- | ---------:|:---------------------------------------- |\n",
       "| Base           |           | Module                                   |\n",
       "| Core           |           | Module                                   |\n",
       "| Main           |           | Module                                   |\n",
       "| PLOTS_DEFAULTS | 456 bytes | Dict{Symbol, Symbol} with 1 entry        |\n",
       "| a              |   8 bytes | Int64                                    |\n",
       "| b              |   8 bytes | Float64                                  |\n",
       "| dict           | 503 bytes | Dict{String, Int64} with 3 entries       |\n",
       "| lst            | 176 bytes | 5-element Vector{Any}                    |\n",
       "| showall        |   0 bytes | showall (generic function with 1 method) |\n"
      ],
      "text/plain": [
       "  name                size summary                                 \n",
       "  –––––––––––––– ––––––––– ––––––––––––––––––––––––––––––––––––––––\n",
       "  Base                     Module                                  \n",
       "  Core                     Module                                  \n",
       "  Main                     Module                                  \n",
       "  PLOTS_DEFAULTS 456 bytes Dict{Symbol, Symbol} with 1 entry       \n",
       "  a                8 bytes Int64                                   \n",
       "  b                8 bytes Float64                                 \n",
       "  dict           503 bytes Dict{String, Int64} with 3 entries      \n",
       "  lst            176 bytes 5-element Vector{Any}                   \n",
       "  showall          0 bytes showall (generic function with 1 method)"
      ]
     },
     "execution_count": 21,
     "metadata": {},
     "output_type": "execute_result"
    }
   ],
   "source": [
    "varinfo()"
   ]
  },
  {
   "cell_type": "code",
   "execution_count": 22,
   "metadata": {},
   "outputs": [
    {
     "name": "stdout",
     "output_type": "stream",
     "text": [
      "search: \u001b[0m\u001b[1mv\u001b[22m\u001b[0m\u001b[1ma\u001b[22m\u001b[0m\u001b[1mr\u001b[22m\u001b[0m\u001b[1mi\u001b[22m\u001b[0m\u001b[1mn\u001b[22m\u001b[0m\u001b[1mf\u001b[22m\u001b[0m\u001b[1mo\u001b[22m\n",
      "\n"
     ]
    },
    {
     "data": {
      "text/latex": [
       "\\begin{verbatim}\n",
       "varinfo(m::Module=Main, pattern::Regex=r\"\"; all::Bool = false, imported::Bool = false, sortby::Symbol = :name, minsize::Int = 0)\n",
       "\\end{verbatim}\n",
       "Return a markdown table giving information about exported global variables in a module, optionally restricted to those matching \\texttt{pattern}.\n",
       "\n",
       "The memory consumption estimate is an approximate lower bound on the size of the internal structure of the object.\n",
       "\n",
       "\\begin{itemize}\n",
       "\\item \\texttt{all} : also list non-exported objects defined in the module, deprecated objects, and compiler-generated objects.\n",
       "\n",
       "\n",
       "\\item \\texttt{imported} : also list objects explicitly imported from other modules.\n",
       "\n",
       "\n",
       "\\item \\texttt{recursive} : recursively include objects in sub-modules, observing the same settings in each.\n",
       "\n",
       "\n",
       "\\item \\texttt{sortby} : the column to sort results by. Options are \\texttt{:name} (default), \\texttt{:size}, and \\texttt{:summary}.\n",
       "\n",
       "\n",
       "\\item \\texttt{minsize} : only includes objects with size at least \\texttt{minsize} bytes. Defaults to \\texttt{0}.\n",
       "\n",
       "\\end{itemize}\n"
      ],
      "text/markdown": [
       "```\n",
       "varinfo(m::Module=Main, pattern::Regex=r\"\"; all::Bool = false, imported::Bool = false, sortby::Symbol = :name, minsize::Int = 0)\n",
       "```\n",
       "\n",
       "Return a markdown table giving information about exported global variables in a module, optionally restricted to those matching `pattern`.\n",
       "\n",
       "The memory consumption estimate is an approximate lower bound on the size of the internal structure of the object.\n",
       "\n",
       "  * `all` : also list non-exported objects defined in the module, deprecated objects, and compiler-generated objects.\n",
       "  * `imported` : also list objects explicitly imported from other modules.\n",
       "  * `recursive` : recursively include objects in sub-modules, observing the same settings in each.\n",
       "  * `sortby` : the column to sort results by. Options are `:name` (default), `:size`, and `:summary`.\n",
       "  * `minsize` : only includes objects with size at least `minsize` bytes. Defaults to `0`.\n"
      ],
      "text/plain": [
       "  \u001b[38;2;102;217;239mvarinfo\u001b[0m(\u001b[0m\u001b[39mm\u001b[0m\u001b[38;2;249;38;114m::\u001b[0m\u001b[39mModule\u001b[0m\u001b[38;2;249;38;114m=\u001b[0m\u001b[39mMain\u001b[0m\u001b[39m,\u001b[0m \u001b[0m\u001b[39mpattern\u001b[0m\u001b[38;2;249;38;114m::\u001b[0m\u001b[39mRegex\u001b[0m\u001b[38;2;249;38;114m=\u001b[0m\u001b[39mr\u001b[0m\u001b[39m\"\u001b[0m\u001b[38;2;230;219;116m\u001b[0m\u001b[39m\"\u001b[0m\u001b[39m;\u001b[0m \u001b[0m\u001b[39mall\u001b[0m\u001b[38;2;249;38;114m::\u001b[0m\u001b[39mBool\u001b[0m \u001b[0m\u001b[38;2;249;38;114m=\u001b[0m \u001b[0m\u001b[38;2;249;38;114mfalse\u001b[0m\u001b[39m,\u001b[0m \u001b[0m\u001b[39mimported\u001b[0m\u001b[38;2;249;38;114m::\u001b[0m\u001b[39mBool\u001b[0m \u001b[0m\u001b[38;2;249;38;114m=\u001b[0m \u001b[0m\u001b[38;2;249;38;114mfalse\u001b[0m\u001b[39m,\u001b[0m \u001b[0m\u001b[39msortby\u001b[0m\u001b[38;2;249;38;114m::\u001b[0m\u001b[39mSymbol\u001b[0m \u001b[0m\u001b[38;2;249;38;114m=\u001b[0m \u001b[0m\u001b[38;2;174;129;255m:\u001b[0m\u001b[38;2;174;129;255mname\u001b[0m\u001b[39m,\u001b[0m \u001b[0m\u001b[39mminsize\u001b[0m\u001b[38;2;249;38;114m::\u001b[0m\u001b[39mInt\u001b[0m \u001b[0m\u001b[38;2;249;38;114m=\u001b[0m \u001b[0m\u001b[38;2;174;129;255m0\u001b[0m\u001b[39m)\u001b[0m\n",
       "\n",
       "\n",
       "  Return a markdown table giving information about exported global variables\n",
       "  in a module, optionally restricted to those matching \u001b[36mpattern\u001b[39m.\n",
       "\n",
       "  The memory consumption estimate is an approximate lower bound on the size of\n",
       "  the internal structure of the object.\n",
       "\n",
       "    •  \u001b[36mall\u001b[39m : also list non-exported objects defined in the module,\n",
       "       deprecated objects, and compiler-generated objects.\n",
       "\n",
       "    •  \u001b[36mimported\u001b[39m : also list objects explicitly imported from other\n",
       "       modules.\n",
       "\n",
       "    •  \u001b[36mrecursive\u001b[39m : recursively include objects in sub-modules, observing\n",
       "       the same settings in each.\n",
       "\n",
       "    •  \u001b[36msortby\u001b[39m : the column to sort results by. Options are \u001b[36m:name\u001b[39m\n",
       "       (default), \u001b[36m:size\u001b[39m, and \u001b[36m:summary\u001b[39m.\n",
       "\n",
       "    •  \u001b[36mminsize\u001b[39m : only includes objects with size at least \u001b[36mminsize\u001b[39m bytes.\n",
       "       Defaults to \u001b[36m0\u001b[39m."
      ]
     },
     "execution_count": 22,
     "metadata": {},
     "output_type": "execute_result"
    }
   ],
   "source": [
    "?varinfo"
   ]
  },
  {
   "cell_type": "code",
   "execution_count": 23,
   "metadata": {},
   "outputs": [
    {
     "name": "stdout",
     "output_type": "stream",
     "text": [
      "Sum of 1 and 1.5 is 2.5\n"
     ]
    }
   ],
   "source": [
    "println(\"Sum of $a and $b is $(a+b)\")"
   ]
  },
  {
   "cell_type": "markdown",
   "metadata": {},
   "source": [
    "Addition, subtraction, multiplication, division, exponent"
   ]
  },
  {
   "cell_type": "code",
   "execution_count": 24,
   "metadata": {},
   "outputs": [
    {
     "data": {
      "text/plain": [
       "(2.5, -0.5, 1.5, 0.0, 1.0)"
      ]
     },
     "execution_count": 24,
     "metadata": {},
     "output_type": "execute_result"
    }
   ],
   "source": [
    "a+b, a-b, a*b, a÷b, a^b"
   ]
  },
  {
   "cell_type": "code",
   "execution_count": 25,
   "metadata": {},
   "outputs": [
    {
     "data": {
      "text/latex": [
       "\\textbf{Unicode support} \n",
       "\n",
       "\\begin{itemize}\n",
       "\\item[1. ] We can use π instead of \\texttt{pi}\n",
       "\n",
       "\n",
       "\\item[2. ] Greek letters improe comprehension: α \\emph{(alpha)}, β \\emph{(beta)}, ...\n",
       "\n",
       "\n",
       "\\item[3. ] Symbols: ≥ \\emph{(>=)}, ≤ \\emph{(<=)}, ∈ \\emph{(in)}, ... \n",
       "\n",
       "\n",
       "\\item[4. ] ...\n",
       "\n",
       "\\end{itemize}\n"
      ],
      "text/markdown": [
       "**Unicode support** \n",
       "\n",
       "1. We can use π instead of `pi`\n",
       "2. Greek letters improe comprehension: α *(alpha)*, β *(beta)*, ...\n",
       "3. Symbols: ≥ *(>=)*, ≤ *(<=)*, ∈ *(in)*, ...\n",
       "4. ...\n"
      ],
      "text/plain": [
       "  \u001b[1mUnicode support\u001b[22m\n",
       "\n",
       "    1. We can use π instead of \u001b[36mpi\u001b[39m\n",
       "\n",
       "    2. Greek letters improe comprehension: α \u001b[4m(alpha)\u001b[24m, β \u001b[4m(beta)\u001b[24m, ...\n",
       "\n",
       "    3. Symbols: ≥ \u001b[4m(>=)\u001b[24m, ≤ \u001b[4m(<=)\u001b[24m, ∈ \u001b[4m(in)\u001b[24m, ...\n",
       "\n",
       "    4. ..."
      ]
     },
     "execution_count": 25,
     "metadata": {},
     "output_type": "execute_result"
    }
   ],
   "source": [
    "md\"\"\"\n",
    "**Unicode support** \n",
    "1. We can use π instead of `pi`\n",
    "1. Greek letters improe comprehension: α _(alpha)_, β _(beta)_, ...\n",
    "1. Symbols: ≥ _(>=)_, ≤ _(<=)_, ∈ _(in)_, ... \n",
    "1. ...\n",
    "\"\"\""
   ]
  },
  {
   "cell_type": "code",
   "execution_count": 26,
   "metadata": {},
   "outputs": [
    {
     "data": {
      "text/plain": [
       "true"
      ]
     },
     "execution_count": 26,
     "metadata": {},
     "output_type": "execute_result"
    }
   ],
   "source": [
    "3 ≤ π "
   ]
  },
  {
   "cell_type": "code",
   "execution_count": 27,
   "metadata": {},
   "outputs": [
    {
     "data": {
      "text/plain": [
       "Float64"
      ]
     },
     "execution_count": 27,
     "metadata": {},
     "output_type": "execute_result"
    }
   ],
   "source": [
    "typeof(3.14)"
   ]
  },
  {
   "cell_type": "code",
   "execution_count": 28,
   "metadata": {},
   "outputs": [
    {
     "data": {
      "text/plain": [
       "Any"
      ]
     },
     "execution_count": 28,
     "metadata": {},
     "output_type": "execute_result"
    }
   ],
   "source": [
    "Float64 |> supertype |> supertype |> supertype |> supertype "
   ]
  },
  {
   "cell_type": "code",
   "execution_count": 29,
   "metadata": {},
   "outputs": [
    {
     "data": {
      "text/plain": [
       "3-element Vector{Any}:\n",
       " Bool\n",
       " Signed\n",
       " Unsigned"
      ]
     },
     "execution_count": 29,
     "metadata": {},
     "output_type": "execute_result"
    }
   ],
   "source": [
    "Integer |> subtypes"
   ]
  },
  {
   "cell_type": "code",
   "execution_count": 30,
   "metadata": {},
   "outputs": [
    {
     "data": {
      "text/plain": [
       "6-element Vector{Any}:\n",
       " BigInt\n",
       " Int128\n",
       " Int16\n",
       " Int32\n",
       " Int64\n",
       " Int8"
      ]
     },
     "execution_count": 30,
     "metadata": {},
     "output_type": "execute_result"
    }
   ],
   "source": [
    "Signed |> subtypes"
   ]
  },
  {
   "cell_type": "code",
   "execution_count": 31,
   "metadata": {},
   "outputs": [
    {
     "data": {
      "text/plain": [
       "true"
      ]
     },
     "execution_count": 31,
     "metadata": {},
     "output_type": "execute_result"
    }
   ],
   "source": [
    "UInt8 <: Unsigned # UInt8 is one subtype of Unsigned"
   ]
  },
  {
   "cell_type": "code",
   "execution_count": 32,
   "metadata": {},
   "outputs": [
    {
     "data": {
      "text/plain": [
       "true"
      ]
     },
     "execution_count": 32,
     "metadata": {},
     "output_type": "execute_result"
    }
   ],
   "source": [
    "Signed >: Int8 # Signed is supertype of Int8"
   ]
  },
  {
   "cell_type": "code",
   "execution_count": 33,
   "metadata": {},
   "outputs": [
    {
     "data": {
      "text/plain": [
       "Int64"
      ]
     },
     "execution_count": 33,
     "metadata": {},
     "output_type": "execute_result"
    }
   ],
   "source": [
    "typeof(3)"
   ]
  },
  {
   "cell_type": "code",
   "execution_count": 34,
   "metadata": {},
   "outputs": [
    {
     "data": {
      "text/plain": [
       "UInt8"
      ]
     },
     "execution_count": 34,
     "metadata": {},
     "output_type": "execute_result"
    }
   ],
   "source": [
    "tmp::UInt8 = 3\n",
    "typeof(tmp)"
   ]
  },
  {
   "cell_type": "markdown",
   "metadata": {},
   "source": [
    "### Mathematical Notation\n"
   ]
  },
  {
   "cell_type": "code",
   "execution_count": 35,
   "metadata": {},
   "outputs": [
    {
     "name": "stdout",
     "output_type": "stream",
     "text": [
      "3\n",
      "3\n"
     ]
    }
   ],
   "source": [
    "println(1+2)\n",
    "println(+(1, 2))"
   ]
  },
  {
   "cell_type": "code",
   "execution_count": 36,
   "metadata": {},
   "outputs": [
    {
     "name": "stdout",
     "output_type": "stream",
     "text": [
      "-1\n",
      "-1\n"
     ]
    }
   ],
   "source": [
    "println(1-2)\n",
    "println(-(1, 2))"
   ]
  },
  {
   "cell_type": "code",
   "execution_count": 37,
   "metadata": {},
   "outputs": [
    {
     "name": "stdout",
     "output_type": "stream",
     "text": [
      "2\n",
      "2\n"
     ]
    }
   ],
   "source": [
    "println(1*2)\n",
    "println(*(1, 2))"
   ]
  },
  {
   "cell_type": "code",
   "execution_count": 38,
   "metadata": {},
   "outputs": [
    {
     "name": "stdout",
     "output_type": "stream",
     "text": [
      "0.5\n",
      "0.5\n"
     ]
    }
   ],
   "source": [
    "println(1/2)\n",
    "println(/(1, 2))"
   ]
  },
  {
   "cell_type": "code",
   "execution_count": 39,
   "metadata": {},
   "outputs": [
    {
     "name": "stdout",
     "output_type": "stream",
     "text": [
      "2.15\n",
      "43//20\n"
     ]
    }
   ],
   "source": [
    "println(3/4+7/5)\n",
    "println(3//4+7//5)"
   ]
  },
  {
   "cell_type": "markdown",
   "metadata": {},
   "source": [
    "### Array Transformations\n",
    "Perform calculations on entire arrays at once."
   ]
  },
  {
   "cell_type": "code",
   "execution_count": 40,
   "metadata": {},
   "outputs": [
    {
     "data": {
      "text/plain": [
       "3×2 Matrix{Float64}:\n",
       " 0.0  0.0\n",
       " 0.0  0.0\n",
       " 0.0  0.0"
      ]
     },
     "execution_count": 40,
     "metadata": {},
     "output_type": "execute_result"
    }
   ],
   "source": [
    "zeros(3, 2)"
   ]
  },
  {
   "cell_type": "code",
   "execution_count": 41,
   "metadata": {},
   "outputs": [
    {
     "data": {
      "text/plain": [
       "3×3×2 Array{Float64, 3}:\n",
       "[:, :, 1] =\n",
       " 1.0  1.0  1.0\n",
       " 1.0  1.0  1.0\n",
       " 1.0  1.0  1.0\n",
       "\n",
       "[:, :, 2] =\n",
       " 1.0  1.0  1.0\n",
       " 1.0  1.0  1.0\n",
       " 1.0  1.0  1.0"
      ]
     },
     "execution_count": 41,
     "metadata": {},
     "output_type": "execute_result"
    }
   ],
   "source": [
    "ones(3, 3, 2)"
   ]
  },
  {
   "cell_type": "code",
   "execution_count": 42,
   "metadata": {},
   "outputs": [
    {
     "data": {
      "text/plain": [
       "2×2 Matrix{Irrational{:π}}:\n",
       " π  π\n",
       " π  π"
      ]
     },
     "execution_count": 42,
     "metadata": {},
     "output_type": "execute_result"
    }
   ],
   "source": [
    "fill(π, (2, 2))"
   ]
  },
  {
   "cell_type": "code",
   "execution_count": 43,
   "metadata": {},
   "outputs": [
    {
     "data": {
      "text/plain": [
       "2×2 Matrix{Float64}:\n",
       " 3.14159  3.14159\n",
       " 3.14159  3.14159"
      ]
     },
     "execution_count": 43,
     "metadata": {},
     "output_type": "execute_result"
    }
   ],
   "source": [
    "π .* ones(2, 2)"
   ]
  },
  {
   "cell_type": "code",
   "execution_count": 44,
   "metadata": {},
   "outputs": [
    {
     "data": {
      "text/latex": [
       "Creates a \\texttt{BitArray} with all values set to \\texttt{true}\n",
       "\n"
      ],
      "text/markdown": [
       "Creates a `BitArray` with all values set to `true`\n"
      ],
      "text/plain": [
       "  Creates a \u001b[36mBitArray\u001b[39m with all values set to \u001b[36mtrue\u001b[39m"
      ]
     },
     "execution_count": 44,
     "metadata": {},
     "output_type": "execute_result"
    }
   ],
   "source": [
    "md\"Creates a `BitArray` with all values set to `true`\""
   ]
  },
  {
   "cell_type": "code",
   "execution_count": 45,
   "metadata": {},
   "outputs": [
    {
     "name": "stdout",
     "output_type": "stream",
     "text": [
      "Bool[1 1 1 1; 1 1 1 1]\n"
     ]
    },
    {
     "data": {
      "text/plain": [
       "BitMatrix\u001b[90m (alias for \u001b[39m\u001b[90mBitArray{2}\u001b[39m\u001b[90m)\u001b[39m"
      ]
     },
     "execution_count": 45,
     "metadata": {},
     "output_type": "execute_result"
    }
   ],
   "source": [
    "var = trues(2, 4)\n",
    "println(var)\n",
    "typeof(var)"
   ]
  },
  {
   "cell_type": "code",
   "execution_count": 46,
   "metadata": {},
   "outputs": [
    {
     "data": {
      "text/latex": [
       "Creates a \\texttt{BitArray} with all values set to \\texttt{false}\n",
       "\n"
      ],
      "text/markdown": [
       "Creates a `BitArray` with all values set to `false`\n"
      ],
      "text/plain": [
       "  Creates a \u001b[36mBitArray\u001b[39m with all values set to \u001b[36mfalse\u001b[39m"
      ]
     },
     "execution_count": 46,
     "metadata": {},
     "output_type": "execute_result"
    }
   ],
   "source": [
    "md\"Creates a `BitArray` with all values set to `false`\""
   ]
  },
  {
   "cell_type": "code",
   "execution_count": 47,
   "metadata": {},
   "outputs": [
    {
     "name": "stdout",
     "output_type": "stream",
     "text": [
      "Bool[0 0 0 0; 0 0 0 0]\n"
     ]
    },
    {
     "data": {
      "text/plain": [
       "BitMatrix\u001b[90m (alias for \u001b[39m\u001b[90mBitArray{2}\u001b[39m\u001b[90m)\u001b[39m"
      ]
     },
     "execution_count": 47,
     "metadata": {},
     "output_type": "execute_result"
    }
   ],
   "source": [
    "var = falses(2, 4)\n",
    "println(var)\n",
    "typeof(var)"
   ]
  },
  {
   "cell_type": "code",
   "execution_count": 48,
   "metadata": {},
   "outputs": [
    {
     "data": {
      "text/latex": [
       "\\textbf{Comprehension}\n",
       "\n"
      ],
      "text/markdown": [
       "**Comprehension**\n"
      ],
      "text/plain": [
       "  \u001b[1mComprehension\u001b[22m"
      ]
     },
     "execution_count": 48,
     "metadata": {},
     "output_type": "execute_result"
    }
   ],
   "source": [
    "md\"**Comprehension**\""
   ]
  },
  {
   "cell_type": "code",
   "execution_count": 49,
   "metadata": {},
   "outputs": [
    {
     "name": "stdout",
     "output_type": "stream",
     "text": [
      "H\n",
      "e\n",
      "l\n",
      "l\n",
      "o\n",
      " \n",
      "J\n",
      "u\n",
      "l\n",
      "i\n",
      "a\n"
     ]
    }
   ],
   "source": [
    "str = \"Hello Julia\"\n",
    "[println(el) for el in str];"
   ]
  },
  {
   "cell_type": "markdown",
   "metadata": {},
   "source": [
    "### Calling Functions\n",
    "Call functions to obtain multiple outputs."
   ]
  },
  {
   "cell_type": "code",
   "execution_count": 50,
   "metadata": {},
   "outputs": [
    {
     "data": {
      "text/latex": [
       "\\href{https://docs.julialang.org/en/v1/manual/functions/}{Functions in ${\\tt Julia}$}\n",
       "\n"
      ],
      "text/markdown": [
       "[Functions in ${\\tt Julia}$](https://docs.julialang.org/en/v1/manual/functions/)\n"
      ],
      "text/plain": [
       "  Functions in \u001b[35m{\\tt Julia}\u001b[39m\n",
       "  (https://docs.julialang.org/en/v1/manual/functions/)"
      ]
     },
     "execution_count": 50,
     "metadata": {},
     "output_type": "execute_result"
    }
   ],
   "source": [
    "md\"\"\"\n",
    "[Functions in ${\\tt Julia}$](https://docs.julialang.org/en/v1/manual/functions/)\n",
    "\"\"\""
   ]
  },
  {
   "cell_type": "code",
   "execution_count": 51,
   "metadata": {},
   "outputs": [
    {
     "data": {
      "text/latex": [
       "\\textbf{Spreading Arguments}\n",
       "\n"
      ],
      "text/markdown": [
       "**Spreading Arguments**\n"
      ],
      "text/plain": [
       "  \u001b[1mSpreading Arguments\u001b[22m"
      ]
     },
     "execution_count": 51,
     "metadata": {},
     "output_type": "execute_result"
    }
   ],
   "source": [
    "md\"**Spreading Arguments**\""
   ]
  },
  {
   "cell_type": "markdown",
   "metadata": {},
   "source": [
    "_Optional positional arguments_"
   ]
  },
  {
   "cell_type": "code",
   "execution_count": 52,
   "metadata": {},
   "outputs": [
    {
     "data": {
      "text/plain": [
       "foo (generic function with 4 methods)"
      ]
     },
     "execution_count": 52,
     "metadata": {},
     "output_type": "execute_result"
    }
   ],
   "source": [
    "foo(x=0, y=0, z=0) = x+y+z"
   ]
  },
  {
   "cell_type": "code",
   "execution_count": 53,
   "metadata": {},
   "outputs": [
    {
     "data": {
      "text/plain": [
       "(0, 6)"
      ]
     },
     "execution_count": 53,
     "metadata": {},
     "output_type": "execute_result"
    }
   ],
   "source": [
    "foo(), foo(1, 2, 3)"
   ]
  },
  {
   "cell_type": "code",
   "execution_count": 54,
   "metadata": {},
   "outputs": [
    {
     "data": {
      "text/plain": [
       "6"
      ]
     },
     "execution_count": 54,
     "metadata": {},
     "output_type": "execute_result"
    }
   ],
   "source": [
    "foo([1, 2, 3]...) # Splat `...` operator"
   ]
  },
  {
   "cell_type": "markdown",
   "metadata": {},
   "source": [
    "_Keywords arguments_"
   ]
  },
  {
   "cell_type": "code",
   "execution_count": 55,
   "metadata": {},
   "outputs": [
    {
     "data": {
      "text/plain": [
       "bar (generic function with 1 method)"
      ]
     },
     "execution_count": 55,
     "metadata": {},
     "output_type": "execute_result"
    }
   ],
   "source": [
    "bar(; a::Real=0, b::Real=0, c::Real=0) = a+b+c"
   ]
  },
  {
   "cell_type": "code",
   "execution_count": 56,
   "metadata": {},
   "outputs": [
    {
     "data": {
      "text/plain": [
       "0"
      ]
     },
     "execution_count": 56,
     "metadata": {},
     "output_type": "execute_result"
    }
   ],
   "source": [
    "bar()"
   ]
  },
  {
   "cell_type": "code",
   "execution_count": 57,
   "metadata": {},
   "outputs": [
    {
     "data": {
      "text/plain": [
       "7.2"
      ]
     },
     "execution_count": 57,
     "metadata": {},
     "output_type": "execute_result"
    }
   ],
   "source": [
    "bar(; Dict(:a => 3, :b => 5.4, :c => -1.2)... ) # ; kwargs..."
   ]
  },
  {
   "cell_type": "code",
   "execution_count": 58,
   "metadata": {},
   "outputs": [
    {
     "name": "stdout",
     "output_type": "stream",
     "text": [
      "MethodError(bar, (1, 2, 3), 0x00000000000082db)\n"
     ]
    }
   ],
   "source": [
    "# THROW AN ERROR \n",
    "try bar([1, 2, 3]...)\n",
    "catch error\n",
    "    println(error)\n",
    "end"
   ]
  },
  {
   "cell_type": "code",
   "execution_count": 59,
   "metadata": {},
   "outputs": [
    {
     "data": {
      "text/latex": [
       "\\textbf{Multiple Dispatch}\n",
       "\n"
      ],
      "text/markdown": [
       "**Multiple Dispatch**\n"
      ],
      "text/plain": [
       "  \u001b[1mMultiple Dispatch\u001b[22m"
      ]
     },
     "execution_count": 59,
     "metadata": {},
     "output_type": "execute_result"
    }
   ],
   "source": [
    "md\"**Multiple Dispatch**\""
   ]
  },
  {
   "cell_type": "code",
   "execution_count": 60,
   "metadata": {},
   "outputs": [
    {
     "data": {
      "text/plain": [
       "f (generic function with 1 method)"
      ]
     },
     "execution_count": 60,
     "metadata": {},
     "output_type": "execute_result"
    }
   ],
   "source": [
    "# 1st method signature\n",
    "function f(x::Int)\n",
    "    x^2\n",
    "end"
   ]
  },
  {
   "cell_type": "code",
   "execution_count": 61,
   "metadata": {},
   "outputs": [
    {
     "data": {
      "text/plain": [
       "f (generic function with 2 methods)"
      ]
     },
     "execution_count": 61,
     "metadata": {},
     "output_type": "execute_result"
    }
   ],
   "source": [
    "# 2nd method signature\n",
    "f(x::Float64) = x^2+1"
   ]
  },
  {
   "cell_type": "code",
   "execution_count": 62,
   "metadata": {},
   "outputs": [
    {
     "data": {
      "text/plain": [
       "f (generic function with 4 methods)"
      ]
     },
     "execution_count": 62,
     "metadata": {},
     "output_type": "execute_result"
    }
   ],
   "source": [
    "# 3rd method signature\n",
    "f(x::Char) = x*'y'*'z'\n",
    "# 4th mehod signature\n",
    "f(x::String) = x*x "
   ]
  },
  {
   "cell_type": "code",
   "execution_count": 63,
   "metadata": {},
   "outputs": [
    {
     "data": {
      "text/html": [
       "# 4 methods for generic function <b>f</b> from \u001b[35mMain\u001b[39m:<ul><li> f(x::<b>Int64</b>) in Main at In[60]:2</li> <li> f(x::<b>Float64</b>) in Main at In[61]:2</li> <li> f(x::<b>Char</b>) in Main at In[62]:2</li> <li> f(x::<b>String</b>) in Main at In[62]:4</li> </ul>"
      ],
      "text/plain": [
       "# 4 methods for generic function \"f\" from \u001b[35mMain\u001b[39m:\n",
       " [1] f(\u001b[90mx\u001b[39m::\u001b[1mInt64\u001b[22m)\n",
       "\u001b[90m     @\u001b[39m \u001b[90m\u001b[4mIn[60]:2\u001b[24m\u001b[39m\n",
       " [2] f(\u001b[90mx\u001b[39m::\u001b[1mFloat64\u001b[22m)\n",
       "\u001b[90m     @\u001b[39m \u001b[90m\u001b[4mIn[61]:2\u001b[24m\u001b[39m\n",
       " [3] f(\u001b[90mx\u001b[39m::\u001b[1mChar\u001b[22m)\n",
       "\u001b[90m     @\u001b[39m \u001b[90m\u001b[4mIn[62]:2\u001b[24m\u001b[39m\n",
       " [4] f(\u001b[90mx\u001b[39m::\u001b[1mString\u001b[22m)\n",
       "\u001b[90m     @\u001b[39m \u001b[90m\u001b[4mIn[62]:4\u001b[24m\u001b[39m"
      ]
     },
     "execution_count": 63,
     "metadata": {},
     "output_type": "execute_result"
    }
   ],
   "source": [
    "methods(f)"
   ]
  },
  {
   "cell_type": "code",
   "execution_count": 64,
   "metadata": {},
   "outputs": [
    {
     "data": {
      "text/plain": [
       "(1, 2.0, \"xyz\", \"abcabc\")"
      ]
     },
     "execution_count": 64,
     "metadata": {},
     "output_type": "execute_result"
    }
   ],
   "source": [
    "f(1), f(1.), f('x'), f(\"abc\")"
   ]
  },
  {
   "cell_type": "code",
   "execution_count": 65,
   "metadata": {},
   "outputs": [
    {
     "data": {
      "text/plain": [
       "mycos (generic function with 2 methods)"
      ]
     },
     "execution_count": 65,
     "metadata": {},
     "output_type": "execute_result"
    }
   ],
   "source": [
    "mycos(x) = cos(x)\n",
    "mycos(adj, hyp) = adj/hyp # Extension to `mycos` function"
   ]
  },
  {
   "cell_type": "code",
   "execution_count": 66,
   "metadata": {
    "scrolled": true
   },
   "outputs": [
    {
     "data": {
      "text/html": [
       "# 2 methods for generic function <b>mycos</b> from \u001b[35mMain\u001b[39m:<ul><li> mycos(x) in Main at In[65]:1</li> <li> mycos(adj, hyp) in Main at In[65]:2</li> </ul>"
      ],
      "text/plain": [
       "# 2 methods for generic function \"mycos\" from \u001b[35mMain\u001b[39m:\n",
       " [1] mycos(\u001b[90mx\u001b[39m)\n",
       "\u001b[90m     @\u001b[39m \u001b[90m\u001b[4mIn[65]:1\u001b[24m\u001b[39m\n",
       " [2] mycos(\u001b[90madj\u001b[39m, \u001b[90mhyp\u001b[39m)\n",
       "\u001b[90m     @\u001b[39m \u001b[90m\u001b[4mIn[65]:2\u001b[24m\u001b[39m"
      ]
     },
     "execution_count": 66,
     "metadata": {},
     "output_type": "execute_result"
    }
   ],
   "source": [
    "methods(mycos)"
   ]
  },
  {
   "cell_type": "code",
   "execution_count": 67,
   "metadata": {
    "scrolled": true
   },
   "outputs": [
    {
     "data": {
      "text/html": [
       "mycos(x) in Main at In[65]:1"
      ],
      "text/plain": [
       "mycos(\u001b[90mx\u001b[39m)\n",
       "\u001b[90m     @\u001b[39m \u001b[90mMain\u001b[39m \u001b[90m\u001b[4mIn[65]:1\u001b[24m\u001b[39m"
      ]
     },
     "execution_count": 67,
     "metadata": {},
     "output_type": "execute_result"
    }
   ],
   "source": [
    "@which mycos(π)"
   ]
  },
  {
   "cell_type": "code",
   "execution_count": 68,
   "metadata": {
    "scrolled": true
   },
   "outputs": [
    {
     "data": {
      "text/html": [
       "mycos(adj, hyp) in Main at In[65]:2"
      ],
      "text/plain": [
       "mycos(\u001b[90madj\u001b[39m, \u001b[90mhyp\u001b[39m)\n",
       "\u001b[90m     @\u001b[39m \u001b[90mMain\u001b[39m \u001b[90m\u001b[4mIn[65]:2\u001b[24m\u001b[39m"
      ]
     },
     "execution_count": 68,
     "metadata": {},
     "output_type": "execute_result"
    }
   ],
   "source": [
    "@which mycos(5, 3)"
   ]
  },
  {
   "cell_type": "code",
   "execution_count": 69,
   "metadata": {},
   "outputs": [
    {
     "data": {
      "text/plain": [
       "mycos (generic function with 2 methods)"
      ]
     },
     "execution_count": 69,
     "metadata": {},
     "output_type": "execute_result"
    }
   ],
   "source": [
    "mycos(adj, hyp=10) = adj/hyp"
   ]
  },
  {
   "cell_type": "code",
   "execution_count": 70,
   "metadata": {},
   "outputs": [
    {
     "data": {
      "text/html": [
       "mycos(adj) in Main at In[69]:1"
      ],
      "text/plain": [
       "mycos(\u001b[90madj\u001b[39m)\n",
       "\u001b[90m     @\u001b[39m \u001b[90mMain\u001b[39m \u001b[90m\u001b[4mIn[69]:1\u001b[24m\u001b[39m"
      ]
     },
     "execution_count": 70,
     "metadata": {},
     "output_type": "execute_result"
    }
   ],
   "source": [
    "@which mycos(π)"
   ]
  },
  {
   "cell_type": "markdown",
   "metadata": {},
   "source": [
    "**Function Chaining** applies a function to the preceding argument."
   ]
  },
  {
   "cell_type": "code",
   "execution_count": 71,
   "metadata": {},
   "outputs": [
    {
     "data": {
      "text/plain": [
       "9"
      ]
     },
     "execution_count": 71,
     "metadata": {},
     "output_type": "execute_result"
    }
   ],
   "source": [
    "g(x) = x+1\n",
    "h(x) = x^2\n",
    "x = 2 |> g |> h"
   ]
  },
  {
   "cell_type": "code",
   "execution_count": 72,
   "metadata": {},
   "outputs": [
    {
     "data": {
      "text/latex": [
       "Another pssible way is t use \\texttt{∘}\\emph{{\\textbackslash}circ\\{tab\\}} symbol\n",
       "\n"
      ],
      "text/markdown": [
       "Another pssible way is t use `∘`*\\circ{tab}* symbol\n"
      ],
      "text/plain": [
       "  Another pssible way is t use \u001b[36m∘\u001b[39m\u001b[4m\\circ{tab}\u001b[24m symbol"
      ]
     },
     "execution_count": 72,
     "metadata": {},
     "output_type": "execute_result"
    }
   ],
   "source": [
    "md\"Another pssible way is t use `∘`_\\circ{tab}_ symbol\""
   ]
  },
  {
   "cell_type": "code",
   "execution_count": 73,
   "metadata": {},
   "outputs": [
    {
     "data": {
      "text/plain": [
       "9"
      ]
     },
     "execution_count": 73,
     "metadata": {},
     "output_type": "execute_result"
    }
   ],
   "source": [
    "(h∘g)(2)"
   ]
  },
  {
   "cell_type": "code",
   "execution_count": 74,
   "metadata": {},
   "outputs": [
    {
     "data": {
      "text/latex": [
       "Definition of a function can be done on the fly\n",
       "\n"
      ],
      "text/markdown": [
       "Definition of a function can be done on the fly\n"
      ],
      "text/plain": [
       "  Definition of a function can be done on the fly"
      ]
     },
     "execution_count": 74,
     "metadata": {},
     "output_type": "execute_result"
    }
   ],
   "source": [
    "md\"Definition of a function can be done on the fly\""
   ]
  },
  {
   "cell_type": "code",
   "execution_count": 75,
   "metadata": {},
   "outputs": [
    {
     "data": {
      "text/plain": [
       "5.0"
      ]
     },
     "execution_count": 75,
     "metadata": {},
     "output_type": "execute_result"
    }
   ],
   "source": [
    "y = 5 |> (x->x^2) |> √"
   ]
  },
  {
   "cell_type": "code",
   "execution_count": 76,
   "metadata": {},
   "outputs": [
    {
     "data": {
      "text/latex": [
       "\\textbf{Metaprogramming:} Code is optimized by nature in ${\\tt Julia}$\n",
       "\n"
      ],
      "text/markdown": [
       "**Metaprogramming:** Code is optimized by nature in ${\\tt Julia}$\n"
      ],
      "text/plain": [
       "  \u001b[1mMetaprogramming:\u001b[22m Code is optimized by nature in \u001b[35m{\\tt Julia}\u001b[39m"
      ]
     },
     "execution_count": 76,
     "metadata": {},
     "output_type": "execute_result"
    }
   ],
   "source": [
    "md\"\"\"\n",
    "**Metaprogramming:** Code is optimized by nature in ${\\tt Julia}$\n",
    "\"\"\""
   ]
  },
  {
   "cell_type": "code",
   "execution_count": 77,
   "metadata": {},
   "outputs": [
    {
     "data": {
      "text/plain": [
       "Foo (generic function with 1 method)"
      ]
     },
     "execution_count": 77,
     "metadata": {},
     "output_type": "execute_result"
    }
   ],
   "source": [
    "function Foo(x::Integer)\n",
    "    y = x\n",
    "    for i=1:100\n",
    "        y += i^2\n",
    "    end\n",
    "    return y\n",
    "end"
   ]
  },
  {
   "cell_type": "code",
   "execution_count": 78,
   "metadata": {},
   "outputs": [
    {
     "name": "stdout",
     "output_type": "stream",
     "text": [
      "\u001b[90m;  @ In[77]:1 within `Foo`\u001b[39m\n",
      "\u001b[95mdefine\u001b[39m \u001b[36mi64\u001b[39m \u001b[93m@julia_Foo_4232\u001b[39m\u001b[33m(\u001b[39m\u001b[36mi64\u001b[39m \u001b[95msignext\u001b[39m \u001b[0m%0\u001b[33m)\u001b[39m \u001b[0m#0 \u001b[33m{\u001b[39m\n",
      "\u001b[91mtop:\u001b[39m\n",
      "\u001b[90m;  @ In[77]:3 within `Foo`\u001b[39m\n",
      "  \u001b[0m%1 \u001b[0m= \u001b[96m\u001b[1madd\u001b[22m\u001b[39m \u001b[36mi64\u001b[39m \u001b[0m%0\u001b[0m, \u001b[33m338350\u001b[39m\n",
      "\u001b[90m;  @ In[77]:6 within `Foo`\u001b[39m\n",
      "  \u001b[96m\u001b[1mret\u001b[22m\u001b[39m \u001b[36mi64\u001b[39m \u001b[0m%1\n",
      "\u001b[33m}\u001b[39m\n"
     ]
    }
   ],
   "source": [
    "@code_llvm Foo(3)"
   ]
  },
  {
   "cell_type": "code",
   "execution_count": 79,
   "metadata": {},
   "outputs": [
    {
     "data": {
      "text/latex": [
       "\\begin{verbatim}\n",
       "@code_llvm\n",
       "\\end{verbatim}\n",
       "Evaluates the arguments to the function or macro call, determines their types, and calls \\href{@ref}{\\texttt{code\\_llvm}} on the resulting expression. Set the optional keyword arguments \\texttt{raw}, \\texttt{dump\\_module}, \\texttt{debuginfo}, \\texttt{optimize} by putting them and their value before the function call, like this:\n",
       "\n",
       "\\begin{verbatim}\n",
       "@code_llvm raw=true dump_module=true debuginfo=:default f(x)\n",
       "@code_llvm optimize=false f(x)\n",
       "\\end{verbatim}\n",
       "\\texttt{optimize} controls whether additional optimizations, such as inlining, are also applied. \\texttt{raw} makes all metadata and dbg.* calls visible. \\texttt{debuginfo} may be one of \\texttt{:source} (default) or \\texttt{:none},  to specify the verbosity of code comments. \\texttt{dump\\_module} prints the entire module that encapsulates the function.\n",
       "\n"
      ],
      "text/markdown": [
       "```\n",
       "@code_llvm\n",
       "```\n",
       "\n",
       "Evaluates the arguments to the function or macro call, determines their types, and calls [`code_llvm`](@ref) on the resulting expression. Set the optional keyword arguments `raw`, `dump_module`, `debuginfo`, `optimize` by putting them and their value before the function call, like this:\n",
       "\n",
       "```\n",
       "@code_llvm raw=true dump_module=true debuginfo=:default f(x)\n",
       "@code_llvm optimize=false f(x)\n",
       "```\n",
       "\n",
       "`optimize` controls whether additional optimizations, such as inlining, are also applied. `raw` makes all metadata and dbg.* calls visible. `debuginfo` may be one of `:source` (default) or `:none`,  to specify the verbosity of code comments. `dump_module` prints the entire module that encapsulates the function.\n"
      ],
      "text/plain": [
       "  \u001b[39m@\u001b[0m\u001b[39mcode_llvm\u001b[0m\n",
       "\n",
       "\n",
       "  Evaluates the arguments to the function or macro call, determines their\n",
       "  types, and calls \u001b[36mcode_llvm\u001b[39m on the resulting expression. Set the optional\n",
       "  keyword arguments \u001b[36mraw\u001b[39m, \u001b[36mdump_module\u001b[39m, \u001b[36mdebuginfo\u001b[39m, \u001b[36moptimize\u001b[39m by putting them and\n",
       "  their value before the function call, like this:\n",
       "\n",
       "  \u001b[39m@\u001b[0m\u001b[39mcode_llvm\u001b[0m \u001b[0m\u001b[39mraw\u001b[0m\u001b[38;2;249;38;114m=\u001b[0m\u001b[38;2;249;38;114mtrue\u001b[0m \u001b[0m\u001b[39mdump_module\u001b[0m\u001b[38;2;249;38;114m=\u001b[0m\u001b[38;2;249;38;114mtrue\u001b[0m \u001b[0m\u001b[39mdebuginfo\u001b[0m\u001b[38;2;249;38;114m=\u001b[0m\u001b[38;2;174;129;255m:\u001b[0m\u001b[38;2;174;129;255mdefault\u001b[0m \u001b[0m\u001b[38;2;102;217;239mf\u001b[0m(\u001b[0m\u001b[39mx\u001b[0m\u001b[39m)\u001b[0m\n",
       "  \u001b[0m\u001b[39m@\u001b[0m\u001b[39mcode_llvm\u001b[0m \u001b[0m\u001b[39moptimize\u001b[0m\u001b[38;2;249;38;114m=\u001b[0m\u001b[38;2;249;38;114mfalse\u001b[0m \u001b[0m\u001b[38;2;102;217;239mf\u001b[0m(\u001b[0m\u001b[39mx\u001b[0m\u001b[39m)\u001b[0m\n",
       "\n",
       "\n",
       "  \u001b[36moptimize\u001b[39m controls whether additional optimizations, such as inlining, are\n",
       "  also applied. \u001b[36mraw\u001b[39m makes all metadata and dbg.* calls visible. \u001b[36mdebuginfo\u001b[39m may\n",
       "  be one of \u001b[36m:source\u001b[39m (default) or \u001b[36m:none\u001b[39m, to specify the verbosity of code\n",
       "  comments. \u001b[36mdump_module\u001b[39m prints the entire module that encapsulates the\n",
       "  function."
      ]
     },
     "execution_count": 79,
     "metadata": {},
     "output_type": "execute_result"
    }
   ],
   "source": [
    "?@code_llvm"
   ]
  },
  {
   "cell_type": "markdown",
   "metadata": {},
   "source": [
    "### Plotting Data\n",
    "Visualize variables using ${\\tt Julia}$'s plotting functions."
   ]
  },
  {
   "cell_type": "code",
   "execution_count": 80,
   "metadata": {},
   "outputs": [
    {
     "name": "stderr",
     "output_type": "stream",
     "text": [
      "\u001b[32m\u001b[1m   Resolving\u001b[22m\u001b[39m package versions...\n",
      "\u001b[32m\u001b[1m  No Changes\u001b[22m\u001b[39m to `~/MEGA/git-repos/infodev/Codes/Project.toml`\n",
      "\u001b[32m\u001b[1m  No Changes\u001b[22m\u001b[39m to `~/MEGA/git-repos/infodev/Codes/Manifest.toml`\n"
     ]
    }
   ],
   "source": [
    "]add Plots"
   ]
  },
  {
   "cell_type": "code",
   "execution_count": 81,
   "metadata": {},
   "outputs": [
    {
     "name": "stderr",
     "output_type": "stream",
     "text": [
      "WARNING: using Plots.bar in module Main conflicts with an existing identifier.\n"
     ]
    }
   ],
   "source": [
    "using Plots # GR is the default backend"
   ]
  },
  {
   "cell_type": "code",
   "execution_count": 82,
   "metadata": {},
   "outputs": [
    {
     "data": {
      "image/png": "[encoded data removed]",
      "image/svg+xml": [
       "<?xml version=\"1.0\" encoding=\"utf-8\"?>\n",
       "<svg xmlns=\"http://www.w3.org/2000/svg\" xmlns:xlink=\"http://www.w3.org/1999/xlink\" width=\"600\" height=\"400\" viewBox=\"0 0 2400 1600\">\n",
       "<defs>\n",
       "  <clipPath id=\"clip510\">\n",
       "    <rect x=\"0\" y=\"0\" width=\"2400\" height=\"1600\"/>\n",
       "  </clipPath>\n",
       "</defs>\n",
       "<path clip-path=\"url(#clip510)\" d=\"M0 1600 L2400 1600 L2400 0 L0 0  Z\" fill=\"#282a36\" fill-rule=\"evenodd\" fill-opacity=\"1\"/>\n",
       "<defs>\n",
       "  <clipPath id=\"clip511\">\n",
       "    <rect x=\"480\" y=\"0\" width=\"1681\" height=\"1600\"/>\n",
       "  </clipPath>\n",
       "</defs>\n",
       "<path clip-path=\"url(#clip510)\" d=\"M193.936 1486.45 L2352.76 1486.45 L2352.76 47.2441 L193.936 47.2441  Z\" fill=\"#30343b\" fill-rule=\"evenodd\" fill-opacity=\"1\"/>\n",
       "<defs>\n",
       "  <clipPath id=\"clip512\">\n",
       "    <rect x=\"193\" y=\"47\" width=\"2160\" height=\"1440\"/>\n",
       "  </clipPath>\n",
       "</defs>\n",
       "<polyline clip-path=\"url(#clip512)\" style=\"stroke:#f8f8f2; stroke-linecap:round; stroke-linejoin:round; stroke-width:2; stroke-opacity:0.1; fill:none\" points=\"481.326,1486.45 481.326,47.2441 \"/>\n",
       "<polyline clip-path=\"url(#clip512)\" style=\"stroke:#f8f8f2; stroke-linecap:round; stroke-linejoin:round; stroke-width:2; stroke-opacity:0.1; fill:none\" points=\"933.909,1486.45 933.909,47.2441 \"/>\n",
       "<polyline clip-path=\"url(#clip512)\" style=\"stroke:#f8f8f2; stroke-linecap:round; stroke-linejoin:round; stroke-width:2; stroke-opacity:0.1; fill:none\" points=\"1386.49,1486.45 1386.49,47.2441 \"/>\n",
       "<polyline clip-path=\"url(#clip512)\" style=\"stroke:#f8f8f2; stroke-linecap:round; stroke-linejoin:round; stroke-width:2; stroke-opacity:0.1; fill:none\" points=\"1839.07,1486.45 1839.07,47.2441 \"/>\n",
       "<polyline clip-path=\"url(#clip512)\" style=\"stroke:#f8f8f2; stroke-linecap:round; stroke-linejoin:round; stroke-width:2; stroke-opacity:0.1; fill:none\" points=\"2291.66,1486.45 2291.66,47.2441 \"/>\n",
       "<polyline clip-path=\"url(#clip510)\" style=\"stroke:#f8f8f2; stroke-linecap:round; stroke-linejoin:round; stroke-width:4; stroke-opacity:1; fill:none\" points=\"193.936,1486.45 2352.76,1486.45 \"/>\n",
       "<polyline clip-path=\"url(#clip510)\" style=\"stroke:#f8f8f2; stroke-linecap:round; stroke-linejoin:round; stroke-width:4; stroke-opacity:1; fill:none\" points=\"481.326,1486.45 481.326,1467.55 \"/>\n",
       "<polyline clip-path=\"url(#clip510)\" style=\"stroke:#f8f8f2; stroke-linecap:round; stroke-linejoin:round; stroke-width:4; stroke-opacity:1; fill:none\" points=\"933.909,1486.45 933.909,1467.55 \"/>\n",
       "<polyline clip-path=\"url(#clip510)\" style=\"stroke:#f8f8f2; stroke-linecap:round; stroke-linejoin:round; stroke-width:4; stroke-opacity:1; fill:none\" points=\"1386.49,1486.45 1386.49,1467.55 \"/>\n",
       "<polyline clip-path=\"url(#clip510)\" style=\"stroke:#f8f8f2; stroke-linecap:round; stroke-linejoin:round; stroke-width:4; stroke-opacity:1; fill:none\" points=\"1839.07,1486.45 1839.07,1467.55 \"/>\n",
       "<polyline clip-path=\"url(#clip510)\" style=\"stroke:#f8f8f2; stroke-linecap:round; stroke-linejoin:round; stroke-width:4; stroke-opacity:1; fill:none\" points=\"2291.66,1486.45 2291.66,1467.55 \"/>\n",
       "<path clip-path=\"url(#clip510)\" d=\"M475.979 1544.91 L492.298 1544.91 L492.298 1548.85 L470.354 1548.85 L470.354 1544.91 Q473.016 1542.16 477.599 1537.53 Q482.206 1532.88 483.386 1531.53 Q485.632 1529.01 486.511 1527.27 Q487.414 1525.51 487.414 1523.82 Q487.414 1521.07 485.47 1519.33 Q483.548 1517.6 480.446 1517.6 Q478.247 1517.6 475.794 1518.36 Q473.363 1519.13 470.585 1520.68 L470.585 1515.95 Q473.409 1514.82 475.863 1514.24 Q478.317 1513.66 480.354 1513.66 Q485.724 1513.66 488.919 1516.35 Q492.113 1519.03 492.113 1523.52 Q492.113 1525.65 491.303 1527.57 Q490.516 1529.47 488.409 1532.07 Q487.831 1532.74 484.729 1535.95 Q481.627 1539.15 475.979 1544.91 Z\" fill=\"#f8f8f2\" fill-rule=\"nonzero\" fill-opacity=\"1\" /><path clip-path=\"url(#clip510)\" d=\"M936.918 1518.36 L925.113 1536.81 L936.918 1536.81 L936.918 1518.36 M935.691 1514.29 L941.571 1514.29 L941.571 1536.81 L946.501 1536.81 L946.501 1540.7 L941.571 1540.7 L941.571 1548.85 L936.918 1548.85 L936.918 1540.7 L921.316 1540.7 L921.316 1536.19 L935.691 1514.29 Z\" fill=\"#f8f8f2\" fill-rule=\"nonzero\" fill-opacity=\"1\" /><path clip-path=\"url(#clip510)\" d=\"M1386.9 1529.7 Q1383.75 1529.7 1381.9 1531.86 Q1380.07 1534.01 1380.07 1537.76 Q1380.07 1541.49 1381.9 1543.66 Q1383.75 1545.82 1386.9 1545.82 Q1390.04 1545.82 1391.87 1543.66 Q1393.73 1541.49 1393.73 1537.76 Q1393.73 1534.01 1391.87 1531.86 Q1390.04 1529.7 1386.9 1529.7 M1396.18 1515.05 L1396.18 1519.31 Q1394.42 1518.48 1392.61 1518.04 Q1390.83 1517.6 1389.07 1517.6 Q1384.44 1517.6 1381.99 1520.72 Q1379.56 1523.85 1379.21 1530.17 Q1380.58 1528.15 1382.64 1527.09 Q1384.7 1526 1387.17 1526 Q1392.38 1526 1395.39 1529.17 Q1398.42 1532.32 1398.42 1537.76 Q1398.42 1543.08 1395.28 1546.3 Q1392.13 1549.52 1386.9 1549.52 Q1380.9 1549.52 1377.73 1544.94 Q1374.56 1540.33 1374.56 1531.6 Q1374.56 1523.41 1378.45 1518.55 Q1382.34 1513.66 1388.89 1513.66 Q1390.65 1513.66 1392.43 1514.01 Q1394.23 1514.36 1396.18 1515.05 Z\" fill=\"#f8f8f2\" fill-rule=\"nonzero\" fill-opacity=\"1\" /><path clip-path=\"url(#clip510)\" d=\"M1839.07 1532.44 Q1835.74 1532.44 1833.82 1534.22 Q1831.92 1536 1831.92 1539.13 Q1831.92 1542.25 1833.82 1544.03 Q1835.74 1545.82 1839.07 1545.82 Q1842.41 1545.82 1844.33 1544.03 Q1846.25 1542.23 1846.25 1539.13 Q1846.25 1536 1844.33 1534.22 Q1842.43 1532.44 1839.07 1532.44 M1834.4 1530.45 Q1831.39 1529.7 1829.7 1527.64 Q1828.03 1525.58 1828.03 1522.62 Q1828.03 1518.48 1830.97 1516.07 Q1833.94 1513.66 1839.07 1513.66 Q1844.24 1513.66 1847.18 1516.07 Q1850.12 1518.48 1850.12 1522.62 Q1850.12 1525.58 1848.43 1527.64 Q1846.76 1529.7 1843.77 1530.45 Q1847.15 1531.23 1849.03 1533.52 Q1850.93 1535.82 1850.93 1539.13 Q1850.93 1544.15 1847.85 1546.83 Q1844.79 1549.52 1839.07 1549.52 Q1833.36 1549.52 1830.28 1546.83 Q1827.22 1544.15 1827.22 1539.13 Q1827.22 1535.82 1829.12 1533.52 Q1831.02 1531.23 1834.4 1530.45 M1832.69 1523.06 Q1832.69 1525.75 1834.35 1527.25 Q1836.04 1528.76 1839.07 1528.76 Q1842.08 1528.76 1843.77 1527.25 Q1845.49 1525.75 1845.49 1523.06 Q1845.49 1520.38 1843.77 1518.87 Q1842.08 1517.37 1839.07 1517.37 Q1836.04 1517.37 1834.35 1518.87 Q1832.69 1520.38 1832.69 1523.06 Z\" fill=\"#f8f8f2\" fill-rule=\"nonzero\" fill-opacity=\"1\" /><path clip-path=\"url(#clip510)\" d=\"M2266.34 1544.91 L2273.98 1544.91 L2273.98 1518.55 L2265.67 1520.21 L2265.67 1515.95 L2273.94 1514.29 L2278.61 1514.29 L2278.61 1544.91 L2286.25 1544.91 L2286.25 1548.85 L2266.34 1548.85 L2266.34 1544.91 Z\" fill=\"#f8f8f2\" fill-rule=\"nonzero\" fill-opacity=\"1\" /><path clip-path=\"url(#clip510)\" d=\"M2305.7 1517.37 Q2302.09 1517.37 2300.26 1520.93 Q2298.45 1524.47 2298.45 1531.6 Q2298.45 1538.71 2300.26 1542.27 Q2302.09 1545.82 2305.7 1545.82 Q2309.33 1545.82 2311.14 1542.27 Q2312.96 1538.71 2312.96 1531.6 Q2312.96 1524.47 2311.14 1520.93 Q2309.33 1517.37 2305.7 1517.37 M2305.7 1513.66 Q2311.51 1513.66 2314.56 1518.27 Q2317.64 1522.85 2317.64 1531.6 Q2317.64 1540.33 2314.56 1544.94 Q2311.51 1549.52 2305.7 1549.52 Q2299.89 1549.52 2296.81 1544.94 Q2293.75 1540.33 2293.75 1531.6 Q2293.75 1522.85 2296.81 1518.27 Q2299.89 1513.66 2305.7 1513.66 Z\" fill=\"#f8f8f2\" fill-rule=\"nonzero\" fill-opacity=\"1\" /><polyline clip-path=\"url(#clip512)\" style=\"stroke:#f8f8f2; stroke-linecap:round; stroke-linejoin:round; stroke-width:2; stroke-opacity:0.1; fill:none\" points=\"193.936,1445.77 2352.76,1445.77 \"/>\n",
       "<polyline clip-path=\"url(#clip512)\" style=\"stroke:#f8f8f2; stroke-linecap:round; stroke-linejoin:round; stroke-width:2; stroke-opacity:0.1; fill:none\" points=\"193.936,1106.3 2352.76,1106.3 \"/>\n",
       "<polyline clip-path=\"url(#clip512)\" style=\"stroke:#f8f8f2; stroke-linecap:round; stroke-linejoin:round; stroke-width:2; stroke-opacity:0.1; fill:none\" points=\"193.936,766.824 2352.76,766.824 \"/>\n",
       "<polyline clip-path=\"url(#clip512)\" style=\"stroke:#f8f8f2; stroke-linecap:round; stroke-linejoin:round; stroke-width:2; stroke-opacity:0.1; fill:none\" points=\"193.936,427.352 2352.76,427.352 \"/>\n",
       "<polyline clip-path=\"url(#clip512)\" style=\"stroke:#f8f8f2; stroke-linecap:round; stroke-linejoin:round; stroke-width:2; stroke-opacity:0.1; fill:none\" points=\"193.936,87.8803 2352.76,87.8803 \"/>\n",
       "<polyline clip-path=\"url(#clip510)\" style=\"stroke:#f8f8f2; stroke-linecap:round; stroke-linejoin:round; stroke-width:4; stroke-opacity:1; fill:none\" points=\"193.936,1486.45 193.936,47.2441 \"/>\n",
       "<polyline clip-path=\"url(#clip510)\" style=\"stroke:#f8f8f2; stroke-linecap:round; stroke-linejoin:round; stroke-width:4; stroke-opacity:1; fill:none\" points=\"193.936,1445.77 212.834,1445.77 \"/>\n",
       "<polyline clip-path=\"url(#clip510)\" style=\"stroke:#f8f8f2; stroke-linecap:round; stroke-linejoin:round; stroke-width:4; stroke-opacity:1; fill:none\" points=\"193.936,1106.3 212.834,1106.3 \"/>\n",
       "<polyline clip-path=\"url(#clip510)\" style=\"stroke:#f8f8f2; stroke-linecap:round; stroke-linejoin:round; stroke-width:4; stroke-opacity:1; fill:none\" points=\"193.936,766.824 212.834,766.824 \"/>\n",
       "<polyline clip-path=\"url(#clip510)\" style=\"stroke:#f8f8f2; stroke-linecap:round; stroke-linejoin:round; stroke-width:4; stroke-opacity:1; fill:none\" points=\"193.936,427.352 212.834,427.352 \"/>\n",
       "<polyline clip-path=\"url(#clip510)\" style=\"stroke:#f8f8f2; stroke-linecap:round; stroke-linejoin:round; stroke-width:4; stroke-opacity:1; fill:none\" points=\"193.936,87.8803 212.834,87.8803 \"/>\n",
       "<path clip-path=\"url(#clip510)\" d=\"M50.9921 1446.22 L80.6679 1446.22 L80.6679 1450.15 L50.9921 1450.15 L50.9921 1446.22 Z\" fill=\"#f8f8f2\" fill-rule=\"nonzero\" fill-opacity=\"1\" /><path clip-path=\"url(#clip510)\" d=\"M91.5706 1459.11 L99.2095 1459.11 L99.2095 1432.75 L90.8993 1434.41 L90.8993 1430.15 L99.1632 1428.49 L103.839 1428.49 L103.839 1459.11 L111.478 1459.11 L111.478 1463.05 L91.5706 1463.05 L91.5706 1459.11 Z\" fill=\"#f8f8f2\" fill-rule=\"nonzero\" fill-opacity=\"1\" /><path clip-path=\"url(#clip510)\" d=\"M120.922 1457.17 L125.807 1457.17 L125.807 1463.05 L120.922 1463.05 L120.922 1457.17 Z\" fill=\"#f8f8f2\" fill-rule=\"nonzero\" fill-opacity=\"1\" /><path clip-path=\"url(#clip510)\" d=\"M145.992 1431.57 Q142.381 1431.57 140.552 1435.13 Q138.746 1438.67 138.746 1445.8 Q138.746 1452.91 140.552 1456.47 Q142.381 1460.02 145.992 1460.02 Q149.626 1460.02 151.431 1456.47 Q153.26 1452.91 153.26 1445.8 Q153.26 1438.67 151.431 1435.13 Q149.626 1431.57 145.992 1431.57 M145.992 1427.86 Q151.802 1427.86 154.857 1432.47 Q157.936 1437.05 157.936 1445.8 Q157.936 1454.53 154.857 1459.14 Q151.802 1463.72 145.992 1463.72 Q140.181 1463.72 137.103 1459.14 Q134.047 1454.53 134.047 1445.8 Q134.047 1437.05 137.103 1432.47 Q140.181 1427.86 145.992 1427.86 Z\" fill=\"#f8f8f2\" fill-rule=\"nonzero\" fill-opacity=\"1\" /><path clip-path=\"url(#clip510)\" d=\"M51.9875 1106.75 L81.6633 1106.75 L81.6633 1110.68 L51.9875 1110.68 L51.9875 1106.75 Z\" fill=\"#f8f8f2\" fill-rule=\"nonzero\" fill-opacity=\"1\" /><path clip-path=\"url(#clip510)\" d=\"M101.756 1092.09 Q98.1447 1092.09 96.316 1095.66 Q94.5104 1099.2 94.5104 1106.33 Q94.5104 1113.44 96.316 1117 Q98.1447 1120.54 101.756 1120.54 Q105.39 1120.54 107.196 1117 Q109.024 1113.44 109.024 1106.33 Q109.024 1099.2 107.196 1095.66 Q105.39 1092.09 101.756 1092.09 M101.756 1088.39 Q107.566 1088.39 110.621 1093 Q113.7 1097.58 113.7 1106.33 Q113.7 1115.06 110.621 1119.66 Q107.566 1124.25 101.756 1124.25 Q95.9456 1124.25 92.8669 1119.66 Q89.8114 1115.06 89.8114 1106.33 Q89.8114 1097.58 92.8669 1093 Q95.9456 1088.39 101.756 1088.39 Z\" fill=\"#f8f8f2\" fill-rule=\"nonzero\" fill-opacity=\"1\" /><path clip-path=\"url(#clip510)\" d=\"M121.918 1117.7 L126.802 1117.7 L126.802 1123.58 L121.918 1123.58 L121.918 1117.7 Z\" fill=\"#f8f8f2\" fill-rule=\"nonzero\" fill-opacity=\"1\" /><path clip-path=\"url(#clip510)\" d=\"M137.033 1089.02 L155.39 1089.02 L155.39 1092.95 L141.316 1092.95 L141.316 1101.42 Q142.334 1101.08 143.353 1100.91 Q144.371 1100.73 145.39 1100.73 Q151.177 1100.73 154.556 1103.9 Q157.936 1107.07 157.936 1112.49 Q157.936 1118.07 154.464 1121.17 Q150.992 1124.25 144.672 1124.25 Q142.496 1124.25 140.228 1123.88 Q137.982 1123.51 135.575 1122.77 L135.575 1118.07 Q137.658 1119.2 139.881 1119.76 Q142.103 1120.31 144.58 1120.31 Q148.584 1120.31 150.922 1118.21 Q153.26 1116.1 153.26 1112.49 Q153.26 1108.88 150.922 1106.77 Q148.584 1104.66 144.58 1104.66 Q142.705 1104.66 140.83 1105.08 Q138.978 1105.5 137.033 1106.38 L137.033 1089.02 Z\" fill=\"#f8f8f2\" fill-rule=\"nonzero\" fill-opacity=\"1\" /><path clip-path=\"url(#clip510)\" d=\"M100.76 752.623 Q97.1493 752.623 95.3206 756.188 Q93.515 759.729 93.515 766.859 Q93.515 773.965 95.3206 777.53 Q97.1493 781.072 100.76 781.072 Q104.395 781.072 106.2 777.53 Q108.029 773.965 108.029 766.859 Q108.029 759.729 106.2 756.188 Q104.395 752.623 100.76 752.623 M100.76 748.919 Q106.571 748.919 109.626 753.526 Q112.705 758.109 112.705 766.859 Q112.705 775.586 109.626 780.192 Q106.571 784.775 100.76 784.775 Q94.9502 784.775 91.8715 780.192 Q88.816 775.586 88.816 766.859 Q88.816 758.109 91.8715 753.526 Q94.9502 748.919 100.76 748.919 Z\" fill=\"#f8f8f2\" fill-rule=\"nonzero\" fill-opacity=\"1\" /><path clip-path=\"url(#clip510)\" d=\"M120.922 778.224 L125.807 778.224 L125.807 784.104 L120.922 784.104 L120.922 778.224 Z\" fill=\"#f8f8f2\" fill-rule=\"nonzero\" fill-opacity=\"1\" /><path clip-path=\"url(#clip510)\" d=\"M145.992 752.623 Q142.381 752.623 140.552 756.188 Q138.746 759.729 138.746 766.859 Q138.746 773.965 140.552 777.53 Q142.381 781.072 145.992 781.072 Q149.626 781.072 151.431 777.53 Q153.26 773.965 153.26 766.859 Q153.26 759.729 151.431 756.188 Q149.626 752.623 145.992 752.623 M145.992 748.919 Q151.802 748.919 154.857 753.526 Q157.936 758.109 157.936 766.859 Q157.936 775.586 154.857 780.192 Q151.802 784.775 145.992 784.775 Q140.181 784.775 137.103 780.192 Q134.047 775.586 134.047 766.859 Q134.047 758.109 137.103 753.526 Q140.181 748.919 145.992 748.919 Z\" fill=\"#f8f8f2\" fill-rule=\"nonzero\" fill-opacity=\"1\" /><path clip-path=\"url(#clip510)\" d=\"M101.756 413.151 Q98.1447 413.151 96.316 416.716 Q94.5104 420.257 94.5104 427.387 Q94.5104 434.493 96.316 438.058 Q98.1447 441.6 101.756 441.6 Q105.39 441.6 107.196 438.058 Q109.024 434.493 109.024 427.387 Q109.024 420.257 107.196 416.716 Q105.39 413.151 101.756 413.151 M101.756 409.447 Q107.566 409.447 110.621 414.054 Q113.7 418.637 113.7 427.387 Q113.7 436.114 110.621 440.72 Q107.566 445.303 101.756 445.303 Q95.9456 445.303 92.8669 440.72 Q89.8114 436.114 89.8114 427.387 Q89.8114 418.637 92.8669 414.054 Q95.9456 409.447 101.756 409.447 Z\" fill=\"#f8f8f2\" fill-rule=\"nonzero\" fill-opacity=\"1\" /><path clip-path=\"url(#clip510)\" d=\"M121.918 438.753 L126.802 438.753 L126.802 444.632 L121.918 444.632 L121.918 438.753 Z\" fill=\"#f8f8f2\" fill-rule=\"nonzero\" fill-opacity=\"1\" /><path clip-path=\"url(#clip510)\" d=\"M137.033 410.072 L155.39 410.072 L155.39 414.007 L141.316 414.007 L141.316 422.48 Q142.334 422.132 143.353 421.97 Q144.371 421.785 145.39 421.785 Q151.177 421.785 154.556 424.956 Q157.936 428.128 157.936 433.544 Q157.936 439.123 154.464 442.225 Q150.992 445.303 144.672 445.303 Q142.496 445.303 140.228 444.933 Q137.982 444.563 135.575 443.822 L135.575 439.123 Q137.658 440.257 139.881 440.813 Q142.103 441.368 144.58 441.368 Q148.584 441.368 150.922 439.262 Q153.26 437.155 153.26 433.544 Q153.26 429.933 150.922 427.827 Q148.584 425.72 144.58 425.72 Q142.705 425.72 140.83 426.137 Q138.978 426.554 137.033 427.433 L137.033 410.072 Z\" fill=\"#f8f8f2\" fill-rule=\"nonzero\" fill-opacity=\"1\" /><path clip-path=\"url(#clip510)\" d=\"M91.5706 101.225 L99.2095 101.225 L99.2095 74.8595 L90.8993 76.5262 L90.8993 72.267 L99.1632 70.6003 L103.839 70.6003 L103.839 101.225 L111.478 101.225 L111.478 105.16 L91.5706 105.16 L91.5706 101.225 Z\" fill=\"#f8f8f2\" fill-rule=\"nonzero\" fill-opacity=\"1\" /><path clip-path=\"url(#clip510)\" d=\"M120.922 99.2807 L125.807 99.2807 L125.807 105.16 L120.922 105.16 L120.922 99.2807 Z\" fill=\"#f8f8f2\" fill-rule=\"nonzero\" fill-opacity=\"1\" /><path clip-path=\"url(#clip510)\" d=\"M145.992 73.679 Q142.381 73.679 140.552 77.2438 Q138.746 80.7854 138.746 87.915 Q138.746 95.0215 140.552 98.5863 Q142.381 102.128 145.992 102.128 Q149.626 102.128 151.431 98.5863 Q153.26 95.0215 153.26 87.915 Q153.26 80.7854 151.431 77.2438 Q149.626 73.679 145.992 73.679 M145.992 69.9753 Q151.802 69.9753 154.857 74.5818 Q157.936 79.1651 157.936 87.915 Q157.936 96.6418 154.857 101.248 Q151.802 105.832 145.992 105.832 Q140.181 105.832 137.103 101.248 Q134.047 96.6418 134.047 87.915 Q134.047 79.1651 137.103 74.5818 Q140.181 69.9753 145.992 69.9753 Z\" fill=\"#f8f8f2\" fill-rule=\"nonzero\" fill-opacity=\"1\" /><polyline clip-path=\"url(#clip512)\" style=\"stroke:#8be9fd; stroke-linecap:round; stroke-linejoin:round; stroke-width:4; stroke-opacity:1; fill:none\" points=\"255.035,195.513 277.664,161.744 300.293,134.022 322.922,112.622 345.551,97.7591 368.18,89.5811 390.81,88.1698 413.439,93.5394 436.068,105.636 458.697,124.34 481.326,149.462 503.955,180.753 526.584,217.9 549.213,260.532 571.843,308.223 594.472,360.495 617.101,416.828 639.73,476.657 662.359,539.386 684.988,604.387 707.617,671.011 730.247,738.593 752.876,806.457 775.505,873.925 798.134,940.322 820.763,1004.99 843.392,1067.27 866.021,1126.55 888.651,1182.24 911.28,1233.78 933.909,1280.65 956.538,1322.39 979.167,1358.57 1001.8,1388.85 1024.43,1412.91 1047.05,1430.51 1069.68,1441.48 1092.31,1445.72 1114.94,1443.16 1137.57,1433.85 1160.2,1417.88 1182.83,1395.4 1205.46,1366.64 1228.09,1331.89 1250.72,1291.49 1273.35,1245.85 1295.98,1195.42 1318.6,1140.71 1341.23,1082.26 1363.86,1020.67 1386.49,956.531 1409.12,890.502 1431.75,823.237 1454.38,755.408 1477.01,687.694 1499.64,620.77 1522.27,555.305 1544.9,491.954 1567.52,431.349 1590.15,374.096 1612.78,320.767 1635.41,271.895 1658.04,227.968 1680.67,189.425 1703.3,156.652 1725.93,129.975 1748.56,109.661 1771.19,95.9134 1793.82,88.8693 1816.45,88.5991 1839.07,95.1055 1861.7,108.323 1884.33,128.121 1906.96,154.3 1929.59,186.599 1952.22,224.696 1974.85,268.21 1997.48,316.705 2020.11,369.698 2042.74,426.659 2065.37,487.019 2087.99,550.174 2110.62,615.494 2133.25,682.326 2155.88,750.003 2178.51,817.847 2201.14,885.182 2223.77,951.334 2246.4,1015.64 2269.03,1077.47 2291.66,1136.18 \"/>\n",
       "<polyline clip-path=\"url(#clip512)\" style=\"stroke:#ff79c6; stroke-linecap:round; stroke-linejoin:round; stroke-width:4; stroke-opacity:1; fill:none\" points=\"255.035,399.989 277.664,458.858 300.293,520.804 322.922,585.207 345.551,651.426 368.18,718.797 390.81,786.649 413.439,854.302 436.068,921.081 458.697,986.319 481.326,1049.36 503.955,1109.59 526.584,1166.38 549.213,1219.19 571.843,1267.47 594.472,1310.76 617.101,1348.6 639.73,1380.64 662.359,1406.54 684.988,1426.05 707.617,1438.97 730.247,1445.18 752.876,1444.61 775.505,1437.27 798.134,1423.23 820.763,1402.63 843.392,1375.67 866.021,1342.64 888.651,1303.85 911.28,1259.69 933.909,1210.61 956.538,1157.1 979.167,1099.68 1001.8,1038.94 1024.43,975.486 1047.05,909.943 1069.68,842.969 1092.31,775.235 1114.94,707.417 1137.57,640.193 1160.2,574.233 1182.83,510.198 1205.46,448.728 1228.09,390.435 1250.72,335.903 1273.35,285.677 1295.98,240.258 1318.6,200.101 1341.23,165.606 1363.86,137.118 1386.49,114.922 1409.12,99.2401 1431.75,90.228 1454.38,87.9763 1477.01,92.5074 1499.64,103.776 1522.27,121.67 1544.9,146.009 1567.52,176.552 1590.15,212.993 1612.78,254.967 1635.41,302.055 1658.04,353.788 1680.67,409.647 1703.3,469.075 1725.93,531.478 1748.56,596.233 1771.19,662.692 1793.82,730.191 1816.45,798.057 1839.07,865.61 1861.7,932.177 1884.33,997.091 1906.96,1059.7 1929.59,1119.39 1952.22,1175.56 1974.85,1227.64 1997.48,1275.11 2020.11,1317.51 2042.74,1354.41 2065.37,1385.43 2087.99,1410.27 2110.62,1428.69 2133.25,1440.49 2155.88,1445.56 2178.51,1443.85 2201.14,1435.37 2223.77,1420.22 2246.4,1398.53 2269.03,1370.53 2291.66,1336.51 \"/>\n",
       "<path clip-path=\"url(#clip510)\" d=\"M1926.79 250.738 L2280.8 250.738 L2280.8 95.2176 L1926.79 95.2176  Z\" fill=\"#282a36\" fill-rule=\"evenodd\" fill-opacity=\"1\"/>\n",
       "<polyline clip-path=\"url(#clip510)\" style=\"stroke:#f8f8f2; stroke-linecap:round; stroke-linejoin:round; stroke-width:4; stroke-opacity:1; fill:none\" points=\"1926.79,250.738 2280.8,250.738 2280.8,95.2176 1926.79,95.2176 1926.79,250.738 \"/>\n",
       "<polyline clip-path=\"url(#clip510)\" style=\"stroke:#8be9fd; stroke-linecap:round; stroke-linejoin:round; stroke-width:4; stroke-opacity:1; fill:none\" points=\"1950.78,147.058 2094.7,147.058 \"/>\n",
       "<path clip-path=\"url(#clip510)\" d=\"M2137.11 139.176 L2137.11 143.203 Q2135.3 142.277 2133.36 141.815 Q2131.42 141.352 2129.33 141.352 Q2126.16 141.352 2124.56 142.324 Q2122.99 143.296 2122.99 145.24 Q2122.99 146.722 2124.12 147.578 Q2125.26 148.412 2128.68 149.176 L2130.14 149.5 Q2134.68 150.472 2136.58 152.254 Q2138.5 154.014 2138.5 157.185 Q2138.5 160.796 2135.63 162.902 Q2132.78 165.009 2127.78 165.009 Q2125.7 165.009 2123.43 164.592 Q2121.18 164.199 2118.68 163.388 L2118.68 158.99 Q2121.05 160.217 2123.34 160.842 Q2125.63 161.444 2127.87 161.444 Q2130.88 161.444 2132.5 160.426 Q2134.12 159.384 2134.12 157.509 Q2134.12 155.773 2132.94 154.847 Q2131.79 153.921 2127.83 153.064 L2126.35 152.717 Q2122.39 151.884 2120.63 150.171 Q2118.87 148.435 2118.87 145.426 Q2118.87 141.768 2121.46 139.778 Q2124.05 137.787 2128.82 137.787 Q2131.18 137.787 2133.27 138.134 Q2135.35 138.481 2137.11 139.176 Z\" fill=\"#f8f8f2\" fill-rule=\"nonzero\" fill-opacity=\"1\" /><path clip-path=\"url(#clip510)\" d=\"M2145.28 138.412 L2149.54 138.412 L2149.54 164.338 L2145.28 164.338 L2145.28 138.412 M2145.28 128.319 L2149.54 128.319 L2149.54 133.713 L2145.28 133.713 L2145.28 128.319 Z\" fill=\"#f8f8f2\" fill-rule=\"nonzero\" fill-opacity=\"1\" /><path clip-path=\"url(#clip510)\" d=\"M2180 148.689 L2180 164.338 L2175.74 164.338 L2175.74 148.828 Q2175.74 145.148 2174.31 143.319 Q2172.87 141.49 2170 141.49 Q2166.55 141.49 2164.56 143.69 Q2162.57 145.889 2162.57 149.685 L2162.57 164.338 L2158.29 164.338 L2158.29 138.412 L2162.57 138.412 L2162.57 142.44 Q2164.1 140.102 2166.16 138.944 Q2168.24 137.787 2170.95 137.787 Q2175.42 137.787 2177.71 140.565 Q2180 143.319 2180 148.689 Z\" fill=\"#f8f8f2\" fill-rule=\"nonzero\" fill-opacity=\"1\" /><path clip-path=\"url(#clip510)\" d=\"M2198.73 128.366 Q2195.63 133.69 2194.12 138.898 Q2192.62 144.106 2192.62 149.453 Q2192.62 154.801 2194.12 160.055 Q2195.65 165.287 2198.73 170.588 L2195.03 170.588 Q2191.55 165.148 2189.82 159.893 Q2188.11 154.639 2188.11 149.453 Q2188.11 144.291 2189.82 139.06 Q2191.53 133.828 2195.03 128.366 L2198.73 128.366 Z\" fill=\"#f8f8f2\" fill-rule=\"nonzero\" fill-opacity=\"1\" /><path clip-path=\"url(#clip510)\" d=\"M2228.54 138.412 L2219.17 151.027 L2229.03 164.338 L2224.01 164.338 L2216.46 154.152 L2208.92 164.338 L2203.89 164.338 L2213.96 150.773 L2204.75 138.412 L2209.77 138.412 L2216.65 147.648 L2223.52 138.412 L2228.54 138.412 Z\" fill=\"#f8f8f2\" fill-rule=\"nonzero\" fill-opacity=\"1\" /><path clip-path=\"url(#clip510)\" d=\"M2234.38 128.366 L2238.08 128.366 Q2241.55 133.828 2243.27 139.06 Q2245 144.291 2245 149.453 Q2245 154.639 2243.27 159.893 Q2241.55 165.148 2238.08 170.588 L2234.38 170.588 Q2237.46 165.287 2238.96 160.055 Q2240.49 154.801 2240.49 149.453 Q2240.49 144.106 2238.96 138.898 Q2237.46 133.69 2234.38 128.366 Z\" fill=\"#f8f8f2\" fill-rule=\"nonzero\" fill-opacity=\"1\" /><polyline clip-path=\"url(#clip510)\" style=\"stroke:#ff79c6; stroke-linecap:round; stroke-linejoin:round; stroke-width:4; stroke-opacity:1; fill:none\" points=\"1950.78,198.898 2094.7,198.898 \"/>\n",
       "<path clip-path=\"url(#clip510)\" d=\"M2139.19 191.247 L2139.19 195.229 Q2137.39 194.233 2135.56 193.747 Q2133.75 193.238 2131.9 193.238 Q2127.76 193.238 2125.47 195.877 Q2123.17 198.492 2123.17 203.238 Q2123.17 207.983 2125.47 210.622 Q2127.76 213.238 2131.9 213.238 Q2133.75 213.238 2135.56 212.752 Q2137.39 212.242 2139.19 211.247 L2139.19 215.182 Q2137.41 216.016 2135.49 216.432 Q2133.59 216.849 2131.44 216.849 Q2125.58 216.849 2122.13 213.168 Q2118.68 209.488 2118.68 203.238 Q2118.68 196.895 2122.16 193.261 Q2125.65 189.627 2131.72 189.627 Q2133.68 189.627 2135.56 190.043 Q2137.43 190.437 2139.19 191.247 Z\" fill=\"#f8f8f2\" fill-rule=\"nonzero\" fill-opacity=\"1\" /><path clip-path=\"url(#clip510)\" d=\"M2156.65 193.238 Q2153.22 193.238 2151.23 195.923 Q2149.24 198.585 2149.24 203.238 Q2149.24 207.891 2151.21 210.576 Q2153.2 213.238 2156.65 213.238 Q2160.05 213.238 2162.04 210.553 Q2164.03 207.867 2164.03 203.238 Q2164.03 198.631 2162.04 195.946 Q2160.05 193.238 2156.65 193.238 M2156.65 189.627 Q2162.2 189.627 2165.37 193.238 Q2168.54 196.849 2168.54 203.238 Q2168.54 209.604 2165.37 213.238 Q2162.2 216.849 2156.65 216.849 Q2151.07 216.849 2147.9 213.238 Q2144.75 209.604 2144.75 203.238 Q2144.75 196.849 2147.9 193.238 Q2151.07 189.627 2156.65 189.627 Z\" fill=\"#f8f8f2\" fill-rule=\"nonzero\" fill-opacity=\"1\" /><path clip-path=\"url(#clip510)\" d=\"M2192.13 191.016 L2192.13 195.043 Q2190.33 194.117 2188.38 193.655 Q2186.44 193.192 2184.36 193.192 Q2181.18 193.192 2179.59 194.164 Q2178.01 195.136 2178.01 197.08 Q2178.01 198.562 2179.15 199.418 Q2180.28 200.252 2183.71 201.016 L2185.17 201.34 Q2189.7 202.312 2191.6 204.094 Q2193.52 205.854 2193.52 209.025 Q2193.52 212.636 2190.65 214.742 Q2187.8 216.849 2182.8 216.849 Q2180.72 216.849 2178.45 216.432 Q2176.21 216.039 2173.71 215.228 L2173.71 210.83 Q2176.07 212.057 2178.36 212.682 Q2180.65 213.284 2182.9 213.284 Q2185.91 213.284 2187.53 212.266 Q2189.15 211.224 2189.15 209.349 Q2189.15 207.613 2187.97 206.687 Q2186.81 205.761 2182.85 204.904 L2181.37 204.557 Q2177.41 203.724 2175.65 202.011 Q2173.89 200.275 2173.89 197.266 Q2173.89 193.608 2176.48 191.618 Q2179.08 189.627 2183.85 189.627 Q2186.21 189.627 2188.29 189.974 Q2190.37 190.321 2192.13 191.016 Z\" fill=\"#f8f8f2\" fill-rule=\"nonzero\" fill-opacity=\"1\" /><path clip-path=\"url(#clip510)\" d=\"M2210.54 180.206 Q2207.43 185.53 2205.93 190.738 Q2204.42 195.946 2204.42 201.293 Q2204.42 206.641 2205.93 211.895 Q2207.46 217.127 2210.54 222.428 L2206.83 222.428 Q2203.36 216.988 2201.62 211.733 Q2199.91 206.479 2199.91 201.293 Q2199.91 196.131 2201.62 190.9 Q2203.34 185.668 2206.83 180.206 L2210.54 180.206 Z\" fill=\"#f8f8f2\" fill-rule=\"nonzero\" fill-opacity=\"1\" /><path clip-path=\"url(#clip510)\" d=\"M2240.35 190.252 L2230.98 202.867 L2240.84 216.178 L2235.81 216.178 L2228.27 205.992 L2220.72 216.178 L2215.7 216.178 L2225.77 202.613 L2216.55 190.252 L2221.58 190.252 L2228.45 199.488 L2235.33 190.252 L2240.35 190.252 Z\" fill=\"#f8f8f2\" fill-rule=\"nonzero\" fill-opacity=\"1\" /><path clip-path=\"url(#clip510)\" d=\"M2246.18 180.206 L2249.89 180.206 Q2253.36 185.668 2255.07 190.9 Q2256.81 196.131 2256.81 201.293 Q2256.81 206.479 2255.07 211.733 Q2253.36 216.988 2249.89 222.428 L2246.18 222.428 Q2249.26 217.127 2250.77 211.895 Q2252.29 206.641 2252.29 201.293 Q2252.29 195.946 2250.77 190.738 Q2249.26 185.53 2246.18 180.206 Z\" fill=\"#f8f8f2\" fill-rule=\"nonzero\" fill-opacity=\"1\" /></svg>\n"
      ],
      "text/html": [
       "<?xml version=\"1.0\" encoding=\"utf-8\"?>\n",
       "<svg xmlns=\"http://www.w3.org/2000/svg\" xmlns:xlink=\"http://www.w3.org/1999/xlink\" width=\"600\" height=\"400\" viewBox=\"0 0 2400 1600\">\n",
       "<defs>\n",
       "  <clipPath id=\"clip560\">\n",
       "    <rect x=\"0\" y=\"0\" width=\"2400\" height=\"1600\"/>\n",
       "  </clipPath>\n",
       "</defs>\n",
       "<path clip-path=\"url(#clip560)\" d=\"M0 1600 L2400 1600 L2400 0 L0 0  Z\" fill=\"#282a36\" fill-rule=\"evenodd\" fill-opacity=\"1\"/>\n",
       "<defs>\n",
       "  <clipPath id=\"clip561\">\n",
       "    <rect x=\"480\" y=\"0\" width=\"1681\" height=\"1600\"/>\n",
       "  </clipPath>\n",
       "</defs>\n",
       "<path clip-path=\"url(#clip560)\" d=\"M193.936 1486.45 L2352.76 1486.45 L2352.76 47.2441 L193.936 47.2441  Z\" fill=\"#30343b\" fill-rule=\"evenodd\" fill-opacity=\"1\"/>\n",
       "<defs>\n",
       "  <clipPath id=\"clip562\">\n",
       "    <rect x=\"193\" y=\"47\" width=\"2160\" height=\"1440\"/>\n",
       "  </clipPath>\n",
       "</defs>\n",
       "<polyline clip-path=\"url(#clip562)\" style=\"stroke:#f8f8f2; stroke-linecap:round; stroke-linejoin:round; stroke-width:2; stroke-opacity:0.1; fill:none\" points=\"481.326,1486.45 481.326,47.2441 \"/>\n",
       "<polyline clip-path=\"url(#clip562)\" style=\"stroke:#f8f8f2; stroke-linecap:round; stroke-linejoin:round; stroke-width:2; stroke-opacity:0.1; fill:none\" points=\"933.909,1486.45 933.909,47.2441 \"/>\n",
       "<polyline clip-path=\"url(#clip562)\" style=\"stroke:#f8f8f2; stroke-linecap:round; stroke-linejoin:round; stroke-width:2; stroke-opacity:0.1; fill:none\" points=\"1386.49,1486.45 1386.49,47.2441 \"/>\n",
       "<polyline clip-path=\"url(#clip562)\" style=\"stroke:#f8f8f2; stroke-linecap:round; stroke-linejoin:round; stroke-width:2; stroke-opacity:0.1; fill:none\" points=\"1839.07,1486.45 1839.07,47.2441 \"/>\n",
       "<polyline clip-path=\"url(#clip562)\" style=\"stroke:#f8f8f2; stroke-linecap:round; stroke-linejoin:round; stroke-width:2; stroke-opacity:0.1; fill:none\" points=\"2291.66,1486.45 2291.66,47.2441 \"/>\n",
       "<polyline clip-path=\"url(#clip560)\" style=\"stroke:#f8f8f2; stroke-linecap:round; stroke-linejoin:round; stroke-width:4; stroke-opacity:1; fill:none\" points=\"193.936,1486.45 2352.76,1486.45 \"/>\n",
       "<polyline clip-path=\"url(#clip560)\" style=\"stroke:#f8f8f2; stroke-linecap:round; stroke-linejoin:round; stroke-width:4; stroke-opacity:1; fill:none\" points=\"481.326,1486.45 481.326,1467.55 \"/>\n",
       "<polyline clip-path=\"url(#clip560)\" style=\"stroke:#f8f8f2; stroke-linecap:round; stroke-linejoin:round; stroke-width:4; stroke-opacity:1; fill:none\" points=\"933.909,1486.45 933.909,1467.55 \"/>\n",
       "<polyline clip-path=\"url(#clip560)\" style=\"stroke:#f8f8f2; stroke-linecap:round; stroke-linejoin:round; stroke-width:4; stroke-opacity:1; fill:none\" points=\"1386.49,1486.45 1386.49,1467.55 \"/>\n",
       "<polyline clip-path=\"url(#clip560)\" style=\"stroke:#f8f8f2; stroke-linecap:round; stroke-linejoin:round; stroke-width:4; stroke-opacity:1; fill:none\" points=\"1839.07,1486.45 1839.07,1467.55 \"/>\n",
       "<polyline clip-path=\"url(#clip560)\" style=\"stroke:#f8f8f2; stroke-linecap:round; stroke-linejoin:round; stroke-width:4; stroke-opacity:1; fill:none\" points=\"2291.66,1486.45 2291.66,1467.55 \"/>\n",
       "<path clip-path=\"url(#clip560)\" d=\"M475.979 1544.91 L492.298 1544.91 L492.298 1548.85 L470.354 1548.85 L470.354 1544.91 Q473.016 1542.16 477.599 1537.53 Q482.206 1532.88 483.386 1531.53 Q485.632 1529.01 486.511 1527.27 Q487.414 1525.51 487.414 1523.82 Q487.414 1521.07 485.47 1519.33 Q483.548 1517.6 480.446 1517.6 Q478.247 1517.6 475.794 1518.36 Q473.363 1519.13 470.585 1520.68 L470.585 1515.95 Q473.409 1514.82 475.863 1514.24 Q478.317 1513.66 480.354 1513.66 Q485.724 1513.66 488.919 1516.35 Q492.113 1519.03 492.113 1523.52 Q492.113 1525.65 491.303 1527.57 Q490.516 1529.47 488.409 1532.07 Q487.831 1532.74 484.729 1535.95 Q481.627 1539.15 475.979 1544.91 Z\" fill=\"#f8f8f2\" fill-rule=\"nonzero\" fill-opacity=\"1\" /><path clip-path=\"url(#clip560)\" d=\"M936.918 1518.36 L925.113 1536.81 L936.918 1536.81 L936.918 1518.36 M935.691 1514.29 L941.571 1514.29 L941.571 1536.81 L946.501 1536.81 L946.501 1540.7 L941.571 1540.7 L941.571 1548.85 L936.918 1548.85 L936.918 1540.7 L921.316 1540.7 L921.316 1536.19 L935.691 1514.29 Z\" fill=\"#f8f8f2\" fill-rule=\"nonzero\" fill-opacity=\"1\" /><path clip-path=\"url(#clip560)\" d=\"M1386.9 1529.7 Q1383.75 1529.7 1381.9 1531.86 Q1380.07 1534.01 1380.07 1537.76 Q1380.07 1541.49 1381.9 1543.66 Q1383.75 1545.82 1386.9 1545.82 Q1390.04 1545.82 1391.87 1543.66 Q1393.73 1541.49 1393.73 1537.76 Q1393.73 1534.01 1391.87 1531.86 Q1390.04 1529.7 1386.9 1529.7 M1396.18 1515.05 L1396.18 1519.31 Q1394.42 1518.48 1392.61 1518.04 Q1390.83 1517.6 1389.07 1517.6 Q1384.44 1517.6 1381.99 1520.72 Q1379.56 1523.85 1379.21 1530.17 Q1380.58 1528.15 1382.64 1527.09 Q1384.7 1526 1387.17 1526 Q1392.38 1526 1395.39 1529.17 Q1398.42 1532.32 1398.42 1537.76 Q1398.42 1543.08 1395.28 1546.3 Q1392.13 1549.52 1386.9 1549.52 Q1380.9 1549.52 1377.73 1544.94 Q1374.56 1540.33 1374.56 1531.6 Q1374.56 1523.41 1378.45 1518.55 Q1382.34 1513.66 1388.89 1513.66 Q1390.65 1513.66 1392.43 1514.01 Q1394.23 1514.36 1396.18 1515.05 Z\" fill=\"#f8f8f2\" fill-rule=\"nonzero\" fill-opacity=\"1\" /><path clip-path=\"url(#clip560)\" d=\"M1839.07 1532.44 Q1835.74 1532.44 1833.82 1534.22 Q1831.92 1536 1831.92 1539.13 Q1831.92 1542.25 1833.82 1544.03 Q1835.74 1545.82 1839.07 1545.82 Q1842.41 1545.82 1844.33 1544.03 Q1846.25 1542.23 1846.25 1539.13 Q1846.25 1536 1844.33 1534.22 Q1842.43 1532.44 1839.07 1532.44 M1834.4 1530.45 Q1831.39 1529.7 1829.7 1527.64 Q1828.03 1525.58 1828.03 1522.62 Q1828.03 1518.48 1830.97 1516.07 Q1833.94 1513.66 1839.07 1513.66 Q1844.24 1513.66 1847.18 1516.07 Q1850.12 1518.48 1850.12 1522.62 Q1850.12 1525.58 1848.43 1527.64 Q1846.76 1529.7 1843.77 1530.45 Q1847.15 1531.23 1849.03 1533.52 Q1850.93 1535.82 1850.93 1539.13 Q1850.93 1544.15 1847.85 1546.83 Q1844.79 1549.52 1839.07 1549.52 Q1833.36 1549.52 1830.28 1546.83 Q1827.22 1544.15 1827.22 1539.13 Q1827.22 1535.82 1829.12 1533.52 Q1831.02 1531.23 1834.4 1530.45 M1832.69 1523.06 Q1832.69 1525.75 1834.35 1527.25 Q1836.04 1528.76 1839.07 1528.76 Q1842.08 1528.76 1843.77 1527.25 Q1845.49 1525.75 1845.49 1523.06 Q1845.49 1520.38 1843.77 1518.87 Q1842.08 1517.37 1839.07 1517.37 Q1836.04 1517.37 1834.35 1518.87 Q1832.69 1520.38 1832.69 1523.06 Z\" fill=\"#f8f8f2\" fill-rule=\"nonzero\" fill-opacity=\"1\" /><path clip-path=\"url(#clip560)\" d=\"M2266.34 1544.91 L2273.98 1544.91 L2273.98 1518.55 L2265.67 1520.21 L2265.67 1515.95 L2273.94 1514.29 L2278.61 1514.29 L2278.61 1544.91 L2286.25 1544.91 L2286.25 1548.85 L2266.34 1548.85 L2266.34 1544.91 Z\" fill=\"#f8f8f2\" fill-rule=\"nonzero\" fill-opacity=\"1\" /><path clip-path=\"url(#clip560)\" d=\"M2305.7 1517.37 Q2302.09 1517.37 2300.26 1520.93 Q2298.45 1524.47 2298.45 1531.6 Q2298.45 1538.71 2300.26 1542.27 Q2302.09 1545.82 2305.7 1545.82 Q2309.33 1545.82 2311.14 1542.27 Q2312.96 1538.71 2312.96 1531.6 Q2312.96 1524.47 2311.14 1520.93 Q2309.33 1517.37 2305.7 1517.37 M2305.7 1513.66 Q2311.51 1513.66 2314.56 1518.27 Q2317.64 1522.85 2317.64 1531.6 Q2317.64 1540.33 2314.56 1544.94 Q2311.51 1549.52 2305.7 1549.52 Q2299.89 1549.52 2296.81 1544.94 Q2293.75 1540.33 2293.75 1531.6 Q2293.75 1522.85 2296.81 1518.27 Q2299.89 1513.66 2305.7 1513.66 Z\" fill=\"#f8f8f2\" fill-rule=\"nonzero\" fill-opacity=\"1\" /><polyline clip-path=\"url(#clip562)\" style=\"stroke:#f8f8f2; stroke-linecap:round; stroke-linejoin:round; stroke-width:2; stroke-opacity:0.1; fill:none\" points=\"193.936,1445.77 2352.76,1445.77 \"/>\n",
       "<polyline clip-path=\"url(#clip562)\" style=\"stroke:#f8f8f2; stroke-linecap:round; stroke-linejoin:round; stroke-width:2; stroke-opacity:0.1; fill:none\" points=\"193.936,1106.3 2352.76,1106.3 \"/>\n",
       "<polyline clip-path=\"url(#clip562)\" style=\"stroke:#f8f8f2; stroke-linecap:round; stroke-linejoin:round; stroke-width:2; stroke-opacity:0.1; fill:none\" points=\"193.936,766.824 2352.76,766.824 \"/>\n",
       "<polyline clip-path=\"url(#clip562)\" style=\"stroke:#f8f8f2; stroke-linecap:round; stroke-linejoin:round; stroke-width:2; stroke-opacity:0.1; fill:none\" points=\"193.936,427.352 2352.76,427.352 \"/>\n",
       "<polyline clip-path=\"url(#clip562)\" style=\"stroke:#f8f8f2; stroke-linecap:round; stroke-linejoin:round; stroke-width:2; stroke-opacity:0.1; fill:none\" points=\"193.936,87.8803 2352.76,87.8803 \"/>\n",
       "<polyline clip-path=\"url(#clip560)\" style=\"stroke:#f8f8f2; stroke-linecap:round; stroke-linejoin:round; stroke-width:4; stroke-opacity:1; fill:none\" points=\"193.936,1486.45 193.936,47.2441 \"/>\n",
       "<polyline clip-path=\"url(#clip560)\" style=\"stroke:#f8f8f2; stroke-linecap:round; stroke-linejoin:round; stroke-width:4; stroke-opacity:1; fill:none\" points=\"193.936,1445.77 212.834,1445.77 \"/>\n",
       "<polyline clip-path=\"url(#clip560)\" style=\"stroke:#f8f8f2; stroke-linecap:round; stroke-linejoin:round; stroke-width:4; stroke-opacity:1; fill:none\" points=\"193.936,1106.3 212.834,1106.3 \"/>\n",
       "<polyline clip-path=\"url(#clip560)\" style=\"stroke:#f8f8f2; stroke-linecap:round; stroke-linejoin:round; stroke-width:4; stroke-opacity:1; fill:none\" points=\"193.936,766.824 212.834,766.824 \"/>\n",
       "<polyline clip-path=\"url(#clip560)\" style=\"stroke:#f8f8f2; stroke-linecap:round; stroke-linejoin:round; stroke-width:4; stroke-opacity:1; fill:none\" points=\"193.936,427.352 212.834,427.352 \"/>\n",
       "<polyline clip-path=\"url(#clip560)\" style=\"stroke:#f8f8f2; stroke-linecap:round; stroke-linejoin:round; stroke-width:4; stroke-opacity:1; fill:none\" points=\"193.936,87.8803 212.834,87.8803 \"/>\n",
       "<path clip-path=\"url(#clip560)\" d=\"M50.9921 1446.22 L80.6679 1446.22 L80.6679 1450.15 L50.9921 1450.15 L50.9921 1446.22 Z\" fill=\"#f8f8f2\" fill-rule=\"nonzero\" fill-opacity=\"1\" /><path clip-path=\"url(#clip560)\" d=\"M91.5706 1459.11 L99.2095 1459.11 L99.2095 1432.75 L90.8993 1434.41 L90.8993 1430.15 L99.1632 1428.49 L103.839 1428.49 L103.839 1459.11 L111.478 1459.11 L111.478 1463.05 L91.5706 1463.05 L91.5706 1459.11 Z\" fill=\"#f8f8f2\" fill-rule=\"nonzero\" fill-opacity=\"1\" /><path clip-path=\"url(#clip560)\" d=\"M120.922 1457.17 L125.807 1457.17 L125.807 1463.05 L120.922 1463.05 L120.922 1457.17 Z\" fill=\"#f8f8f2\" fill-rule=\"nonzero\" fill-opacity=\"1\" /><path clip-path=\"url(#clip560)\" d=\"M145.992 1431.57 Q142.381 1431.57 140.552 1435.13 Q138.746 1438.67 138.746 1445.8 Q138.746 1452.91 140.552 1456.47 Q142.381 1460.02 145.992 1460.02 Q149.626 1460.02 151.431 1456.47 Q153.26 1452.91 153.26 1445.8 Q153.26 1438.67 151.431 1435.13 Q149.626 1431.57 145.992 1431.57 M145.992 1427.86 Q151.802 1427.86 154.857 1432.47 Q157.936 1437.05 157.936 1445.8 Q157.936 1454.53 154.857 1459.14 Q151.802 1463.72 145.992 1463.72 Q140.181 1463.72 137.103 1459.14 Q134.047 1454.53 134.047 1445.8 Q134.047 1437.05 137.103 1432.47 Q140.181 1427.86 145.992 1427.86 Z\" fill=\"#f8f8f2\" fill-rule=\"nonzero\" fill-opacity=\"1\" /><path clip-path=\"url(#clip560)\" d=\"M51.9875 1106.75 L81.6633 1106.75 L81.6633 1110.68 L51.9875 1110.68 L51.9875 1106.75 Z\" fill=\"#f8f8f2\" fill-rule=\"nonzero\" fill-opacity=\"1\" /><path clip-path=\"url(#clip560)\" d=\"M101.756 1092.09 Q98.1447 1092.09 96.316 1095.66 Q94.5104 1099.2 94.5104 1106.33 Q94.5104 1113.44 96.316 1117 Q98.1447 1120.54 101.756 1120.54 Q105.39 1120.54 107.196 1117 Q109.024 1113.44 109.024 1106.33 Q109.024 1099.2 107.196 1095.66 Q105.39 1092.09 101.756 1092.09 M101.756 1088.39 Q107.566 1088.39 110.621 1093 Q113.7 1097.58 113.7 1106.33 Q113.7 1115.06 110.621 1119.66 Q107.566 1124.25 101.756 1124.25 Q95.9456 1124.25 92.8669 1119.66 Q89.8114 1115.06 89.8114 1106.33 Q89.8114 1097.58 92.8669 1093 Q95.9456 1088.39 101.756 1088.39 Z\" fill=\"#f8f8f2\" fill-rule=\"nonzero\" fill-opacity=\"1\" /><path clip-path=\"url(#clip560)\" d=\"M121.918 1117.7 L126.802 1117.7 L126.802 1123.58 L121.918 1123.58 L121.918 1117.7 Z\" fill=\"#f8f8f2\" fill-rule=\"nonzero\" fill-opacity=\"1\" /><path clip-path=\"url(#clip560)\" d=\"M137.033 1089.02 L155.39 1089.02 L155.39 1092.95 L141.316 1092.95 L141.316 1101.42 Q142.334 1101.08 143.353 1100.91 Q144.371 1100.73 145.39 1100.73 Q151.177 1100.73 154.556 1103.9 Q157.936 1107.07 157.936 1112.49 Q157.936 1118.07 154.464 1121.17 Q150.992 1124.25 144.672 1124.25 Q142.496 1124.25 140.228 1123.88 Q137.982 1123.51 135.575 1122.77 L135.575 1118.07 Q137.658 1119.2 139.881 1119.76 Q142.103 1120.31 144.58 1120.31 Q148.584 1120.31 150.922 1118.21 Q153.26 1116.1 153.26 1112.49 Q153.26 1108.88 150.922 1106.77 Q148.584 1104.66 144.58 1104.66 Q142.705 1104.66 140.83 1105.08 Q138.978 1105.5 137.033 1106.38 L137.033 1089.02 Z\" fill=\"#f8f8f2\" fill-rule=\"nonzero\" fill-opacity=\"1\" /><path clip-path=\"url(#clip560)\" d=\"M100.76 752.623 Q97.1493 752.623 95.3206 756.188 Q93.515 759.729 93.515 766.859 Q93.515 773.965 95.3206 777.53 Q97.1493 781.072 100.76 781.072 Q104.395 781.072 106.2 777.53 Q108.029 773.965 108.029 766.859 Q108.029 759.729 106.2 756.188 Q104.395 752.623 100.76 752.623 M100.76 748.919 Q106.571 748.919 109.626 753.526 Q112.705 758.109 112.705 766.859 Q112.705 775.586 109.626 780.192 Q106.571 784.775 100.76 784.775 Q94.9502 784.775 91.8715 780.192 Q88.816 775.586 88.816 766.859 Q88.816 758.109 91.8715 753.526 Q94.9502 748.919 100.76 748.919 Z\" fill=\"#f8f8f2\" fill-rule=\"nonzero\" fill-opacity=\"1\" /><path clip-path=\"url(#clip560)\" d=\"M120.922 778.224 L125.807 778.224 L125.807 784.104 L120.922 784.104 L120.922 778.224 Z\" fill=\"#f8f8f2\" fill-rule=\"nonzero\" fill-opacity=\"1\" /><path clip-path=\"url(#clip560)\" d=\"M145.992 752.623 Q142.381 752.623 140.552 756.188 Q138.746 759.729 138.746 766.859 Q138.746 773.965 140.552 777.53 Q142.381 781.072 145.992 781.072 Q149.626 781.072 151.431 777.53 Q153.26 773.965 153.26 766.859 Q153.26 759.729 151.431 756.188 Q149.626 752.623 145.992 752.623 M145.992 748.919 Q151.802 748.919 154.857 753.526 Q157.936 758.109 157.936 766.859 Q157.936 775.586 154.857 780.192 Q151.802 784.775 145.992 784.775 Q140.181 784.775 137.103 780.192 Q134.047 775.586 134.047 766.859 Q134.047 758.109 137.103 753.526 Q140.181 748.919 145.992 748.919 Z\" fill=\"#f8f8f2\" fill-rule=\"nonzero\" fill-opacity=\"1\" /><path clip-path=\"url(#clip560)\" d=\"M101.756 413.151 Q98.1447 413.151 96.316 416.716 Q94.5104 420.257 94.5104 427.387 Q94.5104 434.493 96.316 438.058 Q98.1447 441.6 101.756 441.6 Q105.39 441.6 107.196 438.058 Q109.024 434.493 109.024 427.387 Q109.024 420.257 107.196 416.716 Q105.39 413.151 101.756 413.151 M101.756 409.447 Q107.566 409.447 110.621 414.054 Q113.7 418.637 113.7 427.387 Q113.7 436.114 110.621 440.72 Q107.566 445.303 101.756 445.303 Q95.9456 445.303 92.8669 440.72 Q89.8114 436.114 89.8114 427.387 Q89.8114 418.637 92.8669 414.054 Q95.9456 409.447 101.756 409.447 Z\" fill=\"#f8f8f2\" fill-rule=\"nonzero\" fill-opacity=\"1\" /><path clip-path=\"url(#clip560)\" d=\"M121.918 438.753 L126.802 438.753 L126.802 444.632 L121.918 444.632 L121.918 438.753 Z\" fill=\"#f8f8f2\" fill-rule=\"nonzero\" fill-opacity=\"1\" /><path clip-path=\"url(#clip560)\" d=\"M137.033 410.072 L155.39 410.072 L155.39 414.007 L141.316 414.007 L141.316 422.48 Q142.334 422.132 143.353 421.97 Q144.371 421.785 145.39 421.785 Q151.177 421.785 154.556 424.956 Q157.936 428.128 157.936 433.544 Q157.936 439.123 154.464 442.225 Q150.992 445.303 144.672 445.303 Q142.496 445.303 140.228 444.933 Q137.982 444.563 135.575 443.822 L135.575 439.123 Q137.658 440.257 139.881 440.813 Q142.103 441.368 144.58 441.368 Q148.584 441.368 150.922 439.262 Q153.26 437.155 153.26 433.544 Q153.26 429.933 150.922 427.827 Q148.584 425.72 144.58 425.72 Q142.705 425.72 140.83 426.137 Q138.978 426.554 137.033 427.433 L137.033 410.072 Z\" fill=\"#f8f8f2\" fill-rule=\"nonzero\" fill-opacity=\"1\" /><path clip-path=\"url(#clip560)\" d=\"M91.5706 101.225 L99.2095 101.225 L99.2095 74.8595 L90.8993 76.5262 L90.8993 72.267 L99.1632 70.6003 L103.839 70.6003 L103.839 101.225 L111.478 101.225 L111.478 105.16 L91.5706 105.16 L91.5706 101.225 Z\" fill=\"#f8f8f2\" fill-rule=\"nonzero\" fill-opacity=\"1\" /><path clip-path=\"url(#clip560)\" d=\"M120.922 99.2807 L125.807 99.2807 L125.807 105.16 L120.922 105.16 L120.922 99.2807 Z\" fill=\"#f8f8f2\" fill-rule=\"nonzero\" fill-opacity=\"1\" /><path clip-path=\"url(#clip560)\" d=\"M145.992 73.679 Q142.381 73.679 140.552 77.2438 Q138.746 80.7854 138.746 87.915 Q138.746 95.0215 140.552 98.5863 Q142.381 102.128 145.992 102.128 Q149.626 102.128 151.431 98.5863 Q153.26 95.0215 153.26 87.915 Q153.26 80.7854 151.431 77.2438 Q149.626 73.679 145.992 73.679 M145.992 69.9753 Q151.802 69.9753 154.857 74.5818 Q157.936 79.1651 157.936 87.915 Q157.936 96.6418 154.857 101.248 Q151.802 105.832 145.992 105.832 Q140.181 105.832 137.103 101.248 Q134.047 96.6418 134.047 87.915 Q134.047 79.1651 137.103 74.5818 Q140.181 69.9753 145.992 69.9753 Z\" fill=\"#f8f8f2\" fill-rule=\"nonzero\" fill-opacity=\"1\" /><polyline clip-path=\"url(#clip562)\" style=\"stroke:#8be9fd; stroke-linecap:round; stroke-linejoin:round; stroke-width:4; stroke-opacity:1; fill:none\" points=\"255.035,195.513 277.664,161.744 300.293,134.022 322.922,112.622 345.551,97.7591 368.18,89.5811 390.81,88.1698 413.439,93.5394 436.068,105.636 458.697,124.34 481.326,149.462 503.955,180.753 526.584,217.9 549.213,260.532 571.843,308.223 594.472,360.495 617.101,416.828 639.73,476.657 662.359,539.386 684.988,604.387 707.617,671.011 730.247,738.593 752.876,806.457 775.505,873.925 798.134,940.322 820.763,1004.99 843.392,1067.27 866.021,1126.55 888.651,1182.24 911.28,1233.78 933.909,1280.65 956.538,1322.39 979.167,1358.57 1001.8,1388.85 1024.43,1412.91 1047.05,1430.51 1069.68,1441.48 1092.31,1445.72 1114.94,1443.16 1137.57,1433.85 1160.2,1417.88 1182.83,1395.4 1205.46,1366.64 1228.09,1331.89 1250.72,1291.49 1273.35,1245.85 1295.98,1195.42 1318.6,1140.71 1341.23,1082.26 1363.86,1020.67 1386.49,956.531 1409.12,890.502 1431.75,823.237 1454.38,755.408 1477.01,687.694 1499.64,620.77 1522.27,555.305 1544.9,491.954 1567.52,431.349 1590.15,374.096 1612.78,320.767 1635.41,271.895 1658.04,227.968 1680.67,189.425 1703.3,156.652 1725.93,129.975 1748.56,109.661 1771.19,95.9134 1793.82,88.8693 1816.45,88.5991 1839.07,95.1055 1861.7,108.323 1884.33,128.121 1906.96,154.3 1929.59,186.599 1952.22,224.696 1974.85,268.21 1997.48,316.705 2020.11,369.698 2042.74,426.659 2065.37,487.019 2087.99,550.174 2110.62,615.494 2133.25,682.326 2155.88,750.003 2178.51,817.847 2201.14,885.182 2223.77,951.334 2246.4,1015.64 2269.03,1077.47 2291.66,1136.18 \"/>\n",
       "<polyline clip-path=\"url(#clip562)\" style=\"stroke:#ff79c6; stroke-linecap:round; stroke-linejoin:round; stroke-width:4; stroke-opacity:1; fill:none\" points=\"255.035,399.989 277.664,458.858 300.293,520.804 322.922,585.207 345.551,651.426 368.18,718.797 390.81,786.649 413.439,854.302 436.068,921.081 458.697,986.319 481.326,1049.36 503.955,1109.59 526.584,1166.38 549.213,1219.19 571.843,1267.47 594.472,1310.76 617.101,1348.6 639.73,1380.64 662.359,1406.54 684.988,1426.05 707.617,1438.97 730.247,1445.18 752.876,1444.61 775.505,1437.27 798.134,1423.23 820.763,1402.63 843.392,1375.67 866.021,1342.64 888.651,1303.85 911.28,1259.69 933.909,1210.61 956.538,1157.1 979.167,1099.68 1001.8,1038.94 1024.43,975.486 1047.05,909.943 1069.68,842.969 1092.31,775.235 1114.94,707.417 1137.57,640.193 1160.2,574.233 1182.83,510.198 1205.46,448.728 1228.09,390.435 1250.72,335.903 1273.35,285.677 1295.98,240.258 1318.6,200.101 1341.23,165.606 1363.86,137.118 1386.49,114.922 1409.12,99.2401 1431.75,90.228 1454.38,87.9763 1477.01,92.5074 1499.64,103.776 1522.27,121.67 1544.9,146.009 1567.52,176.552 1590.15,212.993 1612.78,254.967 1635.41,302.055 1658.04,353.788 1680.67,409.647 1703.3,469.075 1725.93,531.478 1748.56,596.233 1771.19,662.692 1793.82,730.191 1816.45,798.057 1839.07,865.61 1861.7,932.177 1884.33,997.091 1906.96,1059.7 1929.59,1119.39 1952.22,1175.56 1974.85,1227.64 1997.48,1275.11 2020.11,1317.51 2042.74,1354.41 2065.37,1385.43 2087.99,1410.27 2110.62,1428.69 2133.25,1440.49 2155.88,1445.56 2178.51,1443.85 2201.14,1435.37 2223.77,1420.22 2246.4,1398.53 2269.03,1370.53 2291.66,1336.51 \"/>\n",
       "<path clip-path=\"url(#clip560)\" d=\"M1926.79 250.738 L2280.8 250.738 L2280.8 95.2176 L1926.79 95.2176  Z\" fill=\"#282a36\" fill-rule=\"evenodd\" fill-opacity=\"1\"/>\n",
       "<polyline clip-path=\"url(#clip560)\" style=\"stroke:#f8f8f2; stroke-linecap:round; stroke-linejoin:round; stroke-width:4; stroke-opacity:1; fill:none\" points=\"1926.79,250.738 2280.8,250.738 2280.8,95.2176 1926.79,95.2176 1926.79,250.738 \"/>\n",
       "<polyline clip-path=\"url(#clip560)\" style=\"stroke:#8be9fd; stroke-linecap:round; stroke-linejoin:round; stroke-width:4; stroke-opacity:1; fill:none\" points=\"1950.78,147.058 2094.7,147.058 \"/>\n",
       "<path clip-path=\"url(#clip560)\" d=\"M2137.11 139.176 L2137.11 143.203 Q2135.3 142.277 2133.36 141.815 Q2131.42 141.352 2129.33 141.352 Q2126.16 141.352 2124.56 142.324 Q2122.99 143.296 2122.99 145.24 Q2122.99 146.722 2124.12 147.578 Q2125.26 148.412 2128.68 149.176 L2130.14 149.5 Q2134.68 150.472 2136.58 152.254 Q2138.5 154.014 2138.5 157.185 Q2138.5 160.796 2135.63 162.902 Q2132.78 165.009 2127.78 165.009 Q2125.7 165.009 2123.43 164.592 Q2121.18 164.199 2118.68 163.388 L2118.68 158.99 Q2121.05 160.217 2123.34 160.842 Q2125.63 161.444 2127.87 161.444 Q2130.88 161.444 2132.5 160.426 Q2134.12 159.384 2134.12 157.509 Q2134.12 155.773 2132.94 154.847 Q2131.79 153.921 2127.83 153.064 L2126.35 152.717 Q2122.39 151.884 2120.63 150.171 Q2118.87 148.435 2118.87 145.426 Q2118.87 141.768 2121.46 139.778 Q2124.05 137.787 2128.82 137.787 Q2131.18 137.787 2133.27 138.134 Q2135.35 138.481 2137.11 139.176 Z\" fill=\"#f8f8f2\" fill-rule=\"nonzero\" fill-opacity=\"1\" /><path clip-path=\"url(#clip560)\" d=\"M2145.28 138.412 L2149.54 138.412 L2149.54 164.338 L2145.28 164.338 L2145.28 138.412 M2145.28 128.319 L2149.54 128.319 L2149.54 133.713 L2145.28 133.713 L2145.28 128.319 Z\" fill=\"#f8f8f2\" fill-rule=\"nonzero\" fill-opacity=\"1\" /><path clip-path=\"url(#clip560)\" d=\"M2180 148.689 L2180 164.338 L2175.74 164.338 L2175.74 148.828 Q2175.74 145.148 2174.31 143.319 Q2172.87 141.49 2170 141.49 Q2166.55 141.49 2164.56 143.69 Q2162.57 145.889 2162.57 149.685 L2162.57 164.338 L2158.29 164.338 L2158.29 138.412 L2162.57 138.412 L2162.57 142.44 Q2164.1 140.102 2166.16 138.944 Q2168.24 137.787 2170.95 137.787 Q2175.42 137.787 2177.71 140.565 Q2180 143.319 2180 148.689 Z\" fill=\"#f8f8f2\" fill-rule=\"nonzero\" fill-opacity=\"1\" /><path clip-path=\"url(#clip560)\" d=\"M2198.73 128.366 Q2195.63 133.69 2194.12 138.898 Q2192.62 144.106 2192.62 149.453 Q2192.62 154.801 2194.12 160.055 Q2195.65 165.287 2198.73 170.588 L2195.03 170.588 Q2191.55 165.148 2189.82 159.893 Q2188.11 154.639 2188.11 149.453 Q2188.11 144.291 2189.82 139.06 Q2191.53 133.828 2195.03 128.366 L2198.73 128.366 Z\" fill=\"#f8f8f2\" fill-rule=\"nonzero\" fill-opacity=\"1\" /><path clip-path=\"url(#clip560)\" d=\"M2228.54 138.412 L2219.17 151.027 L2229.03 164.338 L2224.01 164.338 L2216.46 154.152 L2208.92 164.338 L2203.89 164.338 L2213.96 150.773 L2204.75 138.412 L2209.77 138.412 L2216.65 147.648 L2223.52 138.412 L2228.54 138.412 Z\" fill=\"#f8f8f2\" fill-rule=\"nonzero\" fill-opacity=\"1\" /><path clip-path=\"url(#clip560)\" d=\"M2234.38 128.366 L2238.08 128.366 Q2241.55 133.828 2243.27 139.06 Q2245 144.291 2245 149.453 Q2245 154.639 2243.27 159.893 Q2241.55 165.148 2238.08 170.588 L2234.38 170.588 Q2237.46 165.287 2238.96 160.055 Q2240.49 154.801 2240.49 149.453 Q2240.49 144.106 2238.96 138.898 Q2237.46 133.69 2234.38 128.366 Z\" fill=\"#f8f8f2\" fill-rule=\"nonzero\" fill-opacity=\"1\" /><polyline clip-path=\"url(#clip560)\" style=\"stroke:#ff79c6; stroke-linecap:round; stroke-linejoin:round; stroke-width:4; stroke-opacity:1; fill:none\" points=\"1950.78,198.898 2094.7,198.898 \"/>\n",
       "<path clip-path=\"url(#clip560)\" d=\"M2139.19 191.247 L2139.19 195.229 Q2137.39 194.233 2135.56 193.747 Q2133.75 193.238 2131.9 193.238 Q2127.76 193.238 2125.47 195.877 Q2123.17 198.492 2123.17 203.238 Q2123.17 207.983 2125.47 210.622 Q2127.76 213.238 2131.9 213.238 Q2133.75 213.238 2135.56 212.752 Q2137.39 212.242 2139.19 211.247 L2139.19 215.182 Q2137.41 216.016 2135.49 216.432 Q2133.59 216.849 2131.44 216.849 Q2125.58 216.849 2122.13 213.168 Q2118.68 209.488 2118.68 203.238 Q2118.68 196.895 2122.16 193.261 Q2125.65 189.627 2131.72 189.627 Q2133.68 189.627 2135.56 190.043 Q2137.43 190.437 2139.19 191.247 Z\" fill=\"#f8f8f2\" fill-rule=\"nonzero\" fill-opacity=\"1\" /><path clip-path=\"url(#clip560)\" d=\"M2156.65 193.238 Q2153.22 193.238 2151.23 195.923 Q2149.24 198.585 2149.24 203.238 Q2149.24 207.891 2151.21 210.576 Q2153.2 213.238 2156.65 213.238 Q2160.05 213.238 2162.04 210.553 Q2164.03 207.867 2164.03 203.238 Q2164.03 198.631 2162.04 195.946 Q2160.05 193.238 2156.65 193.238 M2156.65 189.627 Q2162.2 189.627 2165.37 193.238 Q2168.54 196.849 2168.54 203.238 Q2168.54 209.604 2165.37 213.238 Q2162.2 216.849 2156.65 216.849 Q2151.07 216.849 2147.9 213.238 Q2144.75 209.604 2144.75 203.238 Q2144.75 196.849 2147.9 193.238 Q2151.07 189.627 2156.65 189.627 Z\" fill=\"#f8f8f2\" fill-rule=\"nonzero\" fill-opacity=\"1\" /><path clip-path=\"url(#clip560)\" d=\"M2192.13 191.016 L2192.13 195.043 Q2190.33 194.117 2188.38 193.655 Q2186.44 193.192 2184.36 193.192 Q2181.18 193.192 2179.59 194.164 Q2178.01 195.136 2178.01 197.08 Q2178.01 198.562 2179.15 199.418 Q2180.28 200.252 2183.71 201.016 L2185.17 201.34 Q2189.7 202.312 2191.6 204.094 Q2193.52 205.854 2193.52 209.025 Q2193.52 212.636 2190.65 214.742 Q2187.8 216.849 2182.8 216.849 Q2180.72 216.849 2178.45 216.432 Q2176.21 216.039 2173.71 215.228 L2173.71 210.83 Q2176.07 212.057 2178.36 212.682 Q2180.65 213.284 2182.9 213.284 Q2185.91 213.284 2187.53 212.266 Q2189.15 211.224 2189.15 209.349 Q2189.15 207.613 2187.97 206.687 Q2186.81 205.761 2182.85 204.904 L2181.37 204.557 Q2177.41 203.724 2175.65 202.011 Q2173.89 200.275 2173.89 197.266 Q2173.89 193.608 2176.48 191.618 Q2179.08 189.627 2183.85 189.627 Q2186.21 189.627 2188.29 189.974 Q2190.37 190.321 2192.13 191.016 Z\" fill=\"#f8f8f2\" fill-rule=\"nonzero\" fill-opacity=\"1\" /><path clip-path=\"url(#clip560)\" d=\"M2210.54 180.206 Q2207.43 185.53 2205.93 190.738 Q2204.42 195.946 2204.42 201.293 Q2204.42 206.641 2205.93 211.895 Q2207.46 217.127 2210.54 222.428 L2206.83 222.428 Q2203.36 216.988 2201.62 211.733 Q2199.91 206.479 2199.91 201.293 Q2199.91 196.131 2201.62 190.9 Q2203.34 185.668 2206.83 180.206 L2210.54 180.206 Z\" fill=\"#f8f8f2\" fill-rule=\"nonzero\" fill-opacity=\"1\" /><path clip-path=\"url(#clip560)\" d=\"M2240.35 190.252 L2230.98 202.867 L2240.84 216.178 L2235.81 216.178 L2228.27 205.992 L2220.72 216.178 L2215.7 216.178 L2225.77 202.613 L2216.55 190.252 L2221.58 190.252 L2228.45 199.488 L2235.33 190.252 L2240.35 190.252 Z\" fill=\"#f8f8f2\" fill-rule=\"nonzero\" fill-opacity=\"1\" /><path clip-path=\"url(#clip560)\" d=\"M2246.18 180.206 L2249.89 180.206 Q2253.36 185.668 2255.07 190.9 Q2256.81 196.131 2256.81 201.293 Q2256.81 206.479 2255.07 211.733 Q2253.36 216.988 2249.89 222.428 L2246.18 222.428 Q2249.26 217.127 2250.77 211.895 Q2252.29 206.641 2252.29 201.293 Q2252.29 195.946 2250.77 190.738 Q2249.26 185.53 2246.18 180.206 Z\" fill=\"#f8f8f2\" fill-rule=\"nonzero\" fill-opacity=\"1\" /></svg>\n"
      ]
     },
     "execution_count": 82,
     "metadata": {},
     "output_type": "execute_result"
    }
   ],
   "source": [
    "x = 1:.1:10\n",
    "y = sin.(x)\n",
    "z = cos.(x)\n",
    "\n",
    "plot(x, y, label=\"sin(x)\")\n",
    "plot!(x, z, label=\"cos(x)\") # Hold on the previous plot"
   ]
  },
  {
   "cell_type": "code",
   "execution_count": 83,
   "metadata": {},
   "outputs": [
    {
     "data": {
      "text/latex": [
       "\\textbf{Scatter Plot}\n",
       "\n"
      ],
      "text/markdown": [
       "**Scatter Plot**\n"
      ],
      "text/plain": [
       "  \u001b[1mScatter Plot\u001b[22m"
      ]
     },
     "execution_count": 83,
     "metadata": {},
     "output_type": "execute_result"
    }
   ],
   "source": [
    "md\"**Scatter Plot**\""
   ]
  },
  {
   "cell_type": "code",
   "execution_count": 84,
   "metadata": {},
   "outputs": [
    {
     "data": {
      "image/png": "[encoded data removed]",
      "image/svg+xml": [
       "<?xml version=\"1.0\" encoding=\"utf-8\"?>\n",
       "<svg xmlns=\"http://www.w3.org/2000/svg\" xmlns:xlink=\"http://www.w3.org/1999/xlink\" width=\"600\" height=\"400\" viewBox=\"0 0 2400 1600\">\n",
       "<defs>\n",
       "  <clipPath id=\"clip600\">\n",
       "    <rect x=\"0\" y=\"0\" width=\"2400\" height=\"1600\"/>\n",
       "  </clipPath>\n",
       "</defs>\n",
       "<path clip-path=\"url(#clip600)\" d=\"M0 1600 L2400 1600 L2400 0 L0 0  Z\" fill=\"#282a36\" fill-rule=\"evenodd\" fill-opacity=\"1\"/>\n",
       "<defs>\n",
       "  <clipPath id=\"clip601\">\n",
       "    <rect x=\"480\" y=\"0\" width=\"1681\" height=\"1600\"/>\n",
       "  </clipPath>\n",
       "</defs>\n",
       "<path clip-path=\"url(#clip600)\" d=\"M193.936 1486.45 L2352.76 1486.45 L2352.76 47.2441 L193.936 47.2441  Z\" fill=\"#30343b\" fill-rule=\"evenodd\" fill-opacity=\"1\"/>\n",
       "<defs>\n",
       "  <clipPath id=\"clip602\">\n",
       "    <rect x=\"193\" y=\"47\" width=\"2160\" height=\"1440\"/>\n",
       "  </clipPath>\n",
       "</defs>\n",
       "<polyline clip-path=\"url(#clip602)\" style=\"stroke:#f8f8f2; stroke-linecap:round; stroke-linejoin:round; stroke-width:2; stroke-opacity:0.1; fill:none\" points=\"481.326,1486.45 481.326,47.2441 \"/>\n",
       "<polyline clip-path=\"url(#clip602)\" style=\"stroke:#f8f8f2; stroke-linecap:round; stroke-linejoin:round; stroke-width:2; stroke-opacity:0.1; fill:none\" points=\"933.909,1486.45 933.909,47.2441 \"/>\n",
       "<polyline clip-path=\"url(#clip602)\" style=\"stroke:#f8f8f2; stroke-linecap:round; stroke-linejoin:round; stroke-width:2; stroke-opacity:0.1; fill:none\" points=\"1386.49,1486.45 1386.49,47.2441 \"/>\n",
       "<polyline clip-path=\"url(#clip602)\" style=\"stroke:#f8f8f2; stroke-linecap:round; stroke-linejoin:round; stroke-width:2; stroke-opacity:0.1; fill:none\" points=\"1839.07,1486.45 1839.07,47.2441 \"/>\n",
       "<polyline clip-path=\"url(#clip602)\" style=\"stroke:#f8f8f2; stroke-linecap:round; stroke-linejoin:round; stroke-width:2; stroke-opacity:0.1; fill:none\" points=\"2291.66,1486.45 2291.66,47.2441 \"/>\n",
       "<polyline clip-path=\"url(#clip600)\" style=\"stroke:#f8f8f2; stroke-linecap:round; stroke-linejoin:round; stroke-width:4; stroke-opacity:1; fill:none\" points=\"193.936,1486.45 2352.76,1486.45 \"/>\n",
       "<polyline clip-path=\"url(#clip600)\" style=\"stroke:#f8f8f2; stroke-linecap:round; stroke-linejoin:round; stroke-width:4; stroke-opacity:1; fill:none\" points=\"481.326,1486.45 481.326,1467.55 \"/>\n",
       "<polyline clip-path=\"url(#clip600)\" style=\"stroke:#f8f8f2; stroke-linecap:round; stroke-linejoin:round; stroke-width:4; stroke-opacity:1; fill:none\" points=\"933.909,1486.45 933.909,1467.55 \"/>\n",
       "<polyline clip-path=\"url(#clip600)\" style=\"stroke:#f8f8f2; stroke-linecap:round; stroke-linejoin:round; stroke-width:4; stroke-opacity:1; fill:none\" points=\"1386.49,1486.45 1386.49,1467.55 \"/>\n",
       "<polyline clip-path=\"url(#clip600)\" style=\"stroke:#f8f8f2; stroke-linecap:round; stroke-linejoin:round; stroke-width:4; stroke-opacity:1; fill:none\" points=\"1839.07,1486.45 1839.07,1467.55 \"/>\n",
       "<polyline clip-path=\"url(#clip600)\" style=\"stroke:#f8f8f2; stroke-linecap:round; stroke-linejoin:round; stroke-width:4; stroke-opacity:1; fill:none\" points=\"2291.66,1486.45 2291.66,1467.55 \"/>\n",
       "<path clip-path=\"url(#clip600)\" d=\"M475.979 1544.91 L492.298 1544.91 L492.298 1548.85 L470.354 1548.85 L470.354 1544.91 Q473.016 1542.16 477.599 1537.53 Q482.206 1532.88 483.386 1531.53 Q485.632 1529.01 486.511 1527.27 Q487.414 1525.51 487.414 1523.82 Q487.414 1521.07 485.47 1519.33 Q483.548 1517.6 480.446 1517.6 Q478.247 1517.6 475.794 1518.36 Q473.363 1519.13 470.585 1520.68 L470.585 1515.95 Q473.409 1514.82 475.863 1514.24 Q478.317 1513.66 480.354 1513.66 Q485.724 1513.66 488.919 1516.35 Q492.113 1519.03 492.113 1523.52 Q492.113 1525.65 491.303 1527.57 Q490.516 1529.47 488.409 1532.07 Q487.831 1532.74 484.729 1535.95 Q481.627 1539.15 475.979 1544.91 Z\" fill=\"#f8f8f2\" fill-rule=\"nonzero\" fill-opacity=\"1\" /><path clip-path=\"url(#clip600)\" d=\"M936.918 1518.36 L925.113 1536.81 L936.918 1536.81 L936.918 1518.36 M935.691 1514.29 L941.571 1514.29 L941.571 1536.81 L946.501 1536.81 L946.501 1540.7 L941.571 1540.7 L941.571 1548.85 L936.918 1548.85 L936.918 1540.7 L921.316 1540.7 L921.316 1536.19 L935.691 1514.29 Z\" fill=\"#f8f8f2\" fill-rule=\"nonzero\" fill-opacity=\"1\" /><path clip-path=\"url(#clip600)\" d=\"M1386.9 1529.7 Q1383.75 1529.7 1381.9 1531.86 Q1380.07 1534.01 1380.07 1537.76 Q1380.07 1541.49 1381.9 1543.66 Q1383.75 1545.82 1386.9 1545.82 Q1390.04 1545.82 1391.87 1543.66 Q1393.73 1541.49 1393.73 1537.76 Q1393.73 1534.01 1391.87 1531.86 Q1390.04 1529.7 1386.9 1529.7 M1396.18 1515.05 L1396.18 1519.31 Q1394.42 1518.48 1392.61 1518.04 Q1390.83 1517.6 1389.07 1517.6 Q1384.44 1517.6 1381.99 1520.72 Q1379.56 1523.85 1379.21 1530.17 Q1380.58 1528.15 1382.64 1527.09 Q1384.7 1526 1387.17 1526 Q1392.38 1526 1395.39 1529.17 Q1398.42 1532.32 1398.42 1537.76 Q1398.42 1543.08 1395.28 1546.3 Q1392.13 1549.52 1386.9 1549.52 Q1380.9 1549.52 1377.73 1544.94 Q1374.56 1540.33 1374.56 1531.6 Q1374.56 1523.41 1378.45 1518.55 Q1382.34 1513.66 1388.89 1513.66 Q1390.65 1513.66 1392.43 1514.01 Q1394.23 1514.36 1396.18 1515.05 Z\" fill=\"#f8f8f2\" fill-rule=\"nonzero\" fill-opacity=\"1\" /><path clip-path=\"url(#clip600)\" d=\"M1839.07 1532.44 Q1835.74 1532.44 1833.82 1534.22 Q1831.92 1536 1831.92 1539.13 Q1831.92 1542.25 1833.82 1544.03 Q1835.74 1545.82 1839.07 1545.82 Q1842.41 1545.82 1844.33 1544.03 Q1846.25 1542.23 1846.25 1539.13 Q1846.25 1536 1844.33 1534.22 Q1842.43 1532.44 1839.07 1532.44 M1834.4 1530.45 Q1831.39 1529.7 1829.7 1527.64 Q1828.03 1525.58 1828.03 1522.62 Q1828.03 1518.48 1830.97 1516.07 Q1833.94 1513.66 1839.07 1513.66 Q1844.24 1513.66 1847.18 1516.07 Q1850.12 1518.48 1850.12 1522.62 Q1850.12 1525.58 1848.43 1527.64 Q1846.76 1529.7 1843.77 1530.45 Q1847.15 1531.23 1849.03 1533.52 Q1850.93 1535.82 1850.93 1539.13 Q1850.93 1544.15 1847.85 1546.83 Q1844.79 1549.52 1839.07 1549.52 Q1833.36 1549.52 1830.28 1546.83 Q1827.22 1544.15 1827.22 1539.13 Q1827.22 1535.82 1829.12 1533.52 Q1831.02 1531.23 1834.4 1530.45 M1832.69 1523.06 Q1832.69 1525.75 1834.35 1527.25 Q1836.04 1528.76 1839.07 1528.76 Q1842.08 1528.76 1843.77 1527.25 Q1845.49 1525.75 1845.49 1523.06 Q1845.49 1520.38 1843.77 1518.87 Q1842.08 1517.37 1839.07 1517.37 Q1836.04 1517.37 1834.35 1518.87 Q1832.69 1520.38 1832.69 1523.06 Z\" fill=\"#f8f8f2\" fill-rule=\"nonzero\" fill-opacity=\"1\" /><path clip-path=\"url(#clip600)\" d=\"M2266.34 1544.91 L2273.98 1544.91 L2273.98 1518.55 L2265.67 1520.21 L2265.67 1515.95 L2273.94 1514.29 L2278.61 1514.29 L2278.61 1544.91 L2286.25 1544.91 L2286.25 1548.85 L2266.34 1548.85 L2266.34 1544.91 Z\" fill=\"#f8f8f2\" fill-rule=\"nonzero\" fill-opacity=\"1\" /><path clip-path=\"url(#clip600)\" d=\"M2305.7 1517.37 Q2302.09 1517.37 2300.26 1520.93 Q2298.45 1524.47 2298.45 1531.6 Q2298.45 1538.71 2300.26 1542.27 Q2302.09 1545.82 2305.7 1545.82 Q2309.33 1545.82 2311.14 1542.27 Q2312.96 1538.71 2312.96 1531.6 Q2312.96 1524.47 2311.14 1520.93 Q2309.33 1517.37 2305.7 1517.37 M2305.7 1513.66 Q2311.51 1513.66 2314.56 1518.27 Q2317.64 1522.85 2317.64 1531.6 Q2317.64 1540.33 2314.56 1544.94 Q2311.51 1549.52 2305.7 1549.52 Q2299.89 1549.52 2296.81 1544.94 Q2293.75 1540.33 2293.75 1531.6 Q2293.75 1522.85 2296.81 1518.27 Q2299.89 1513.66 2305.7 1513.66 Z\" fill=\"#f8f8f2\" fill-rule=\"nonzero\" fill-opacity=\"1\" /><polyline clip-path=\"url(#clip602)\" style=\"stroke:#f8f8f2; stroke-linecap:round; stroke-linejoin:round; stroke-width:2; stroke-opacity:0.1; fill:none\" points=\"193.936,1447.88 2352.76,1447.88 \"/>\n",
       "<polyline clip-path=\"url(#clip602)\" style=\"stroke:#f8f8f2; stroke-linecap:round; stroke-linejoin:round; stroke-width:2; stroke-opacity:0.1; fill:none\" points=\"193.936,1105.97 2352.76,1105.97 \"/>\n",
       "<polyline clip-path=\"url(#clip602)\" style=\"stroke:#f8f8f2; stroke-linecap:round; stroke-linejoin:round; stroke-width:2; stroke-opacity:0.1; fill:none\" points=\"193.936,764.064 2352.76,764.064 \"/>\n",
       "<polyline clip-path=\"url(#clip602)\" style=\"stroke:#f8f8f2; stroke-linecap:round; stroke-linejoin:round; stroke-width:2; stroke-opacity:0.1; fill:none\" points=\"193.936,422.155 2352.76,422.155 \"/>\n",
       "<polyline clip-path=\"url(#clip602)\" style=\"stroke:#f8f8f2; stroke-linecap:round; stroke-linejoin:round; stroke-width:2; stroke-opacity:0.1; fill:none\" points=\"193.936,80.2461 2352.76,80.2461 \"/>\n",
       "<polyline clip-path=\"url(#clip600)\" style=\"stroke:#f8f8f2; stroke-linecap:round; stroke-linejoin:round; stroke-width:4; stroke-opacity:1; fill:none\" points=\"193.936,1486.45 193.936,47.2441 \"/>\n",
       "<polyline clip-path=\"url(#clip600)\" style=\"stroke:#f8f8f2; stroke-linecap:round; stroke-linejoin:round; stroke-width:4; stroke-opacity:1; fill:none\" points=\"193.936,1447.88 212.834,1447.88 \"/>\n",
       "<polyline clip-path=\"url(#clip600)\" style=\"stroke:#f8f8f2; stroke-linecap:round; stroke-linejoin:round; stroke-width:4; stroke-opacity:1; fill:none\" points=\"193.936,1105.97 212.834,1105.97 \"/>\n",
       "<polyline clip-path=\"url(#clip600)\" style=\"stroke:#f8f8f2; stroke-linecap:round; stroke-linejoin:round; stroke-width:4; stroke-opacity:1; fill:none\" points=\"193.936,764.064 212.834,764.064 \"/>\n",
       "<polyline clip-path=\"url(#clip600)\" style=\"stroke:#f8f8f2; stroke-linecap:round; stroke-linejoin:round; stroke-width:4; stroke-opacity:1; fill:none\" points=\"193.936,422.155 212.834,422.155 \"/>\n",
       "<polyline clip-path=\"url(#clip600)\" style=\"stroke:#f8f8f2; stroke-linecap:round; stroke-linejoin:round; stroke-width:4; stroke-opacity:1; fill:none\" points=\"193.936,80.2461 212.834,80.2461 \"/>\n",
       "<path clip-path=\"url(#clip600)\" d=\"M50.9921 1448.33 L80.6679 1448.33 L80.6679 1452.27 L50.9921 1452.27 L50.9921 1448.33 Z\" fill=\"#f8f8f2\" fill-rule=\"nonzero\" fill-opacity=\"1\" /><path clip-path=\"url(#clip600)\" d=\"M91.5706 1461.23 L99.2095 1461.23 L99.2095 1434.86 L90.8993 1436.53 L90.8993 1432.27 L99.1632 1430.6 L103.839 1430.6 L103.839 1461.23 L111.478 1461.23 L111.478 1465.16 L91.5706 1465.16 L91.5706 1461.23 Z\" fill=\"#f8f8f2\" fill-rule=\"nonzero\" fill-opacity=\"1\" /><path clip-path=\"url(#clip600)\" d=\"M120.922 1459.28 L125.807 1459.28 L125.807 1465.16 L120.922 1465.16 L120.922 1459.28 Z\" fill=\"#f8f8f2\" fill-rule=\"nonzero\" fill-opacity=\"1\" /><path clip-path=\"url(#clip600)\" d=\"M145.992 1433.68 Q142.381 1433.68 140.552 1437.24 Q138.746 1440.79 138.746 1447.92 Q138.746 1455.02 140.552 1458.59 Q142.381 1462.13 145.992 1462.13 Q149.626 1462.13 151.431 1458.59 Q153.26 1455.02 153.26 1447.92 Q153.26 1440.79 151.431 1437.24 Q149.626 1433.68 145.992 1433.68 M145.992 1429.98 Q151.802 1429.98 154.857 1434.58 Q157.936 1439.17 157.936 1447.92 Q157.936 1456.64 154.857 1461.25 Q151.802 1465.83 145.992 1465.83 Q140.181 1465.83 137.103 1461.25 Q134.047 1456.64 134.047 1447.92 Q134.047 1439.17 137.103 1434.58 Q140.181 1429.98 145.992 1429.98 Z\" fill=\"#f8f8f2\" fill-rule=\"nonzero\" fill-opacity=\"1\" /><path clip-path=\"url(#clip600)\" d=\"M51.9875 1106.42 L81.6633 1106.42 L81.6633 1110.36 L51.9875 1110.36 L51.9875 1106.42 Z\" fill=\"#f8f8f2\" fill-rule=\"nonzero\" fill-opacity=\"1\" /><path clip-path=\"url(#clip600)\" d=\"M101.756 1091.77 Q98.1447 1091.77 96.316 1095.34 Q94.5104 1098.88 94.5104 1106.01 Q94.5104 1113.11 96.316 1116.68 Q98.1447 1120.22 101.756 1120.22 Q105.39 1120.22 107.196 1116.68 Q109.024 1113.11 109.024 1106.01 Q109.024 1098.88 107.196 1095.34 Q105.39 1091.77 101.756 1091.77 M101.756 1088.07 Q107.566 1088.07 110.621 1092.67 Q113.7 1097.26 113.7 1106.01 Q113.7 1114.73 110.621 1119.34 Q107.566 1123.92 101.756 1123.92 Q95.9456 1123.92 92.8669 1119.34 Q89.8114 1114.73 89.8114 1106.01 Q89.8114 1097.26 92.8669 1092.67 Q95.9456 1088.07 101.756 1088.07 Z\" fill=\"#f8f8f2\" fill-rule=\"nonzero\" fill-opacity=\"1\" /><path clip-path=\"url(#clip600)\" d=\"M121.918 1117.37 L126.802 1117.37 L126.802 1123.25 L121.918 1123.25 L121.918 1117.37 Z\" fill=\"#f8f8f2\" fill-rule=\"nonzero\" fill-opacity=\"1\" /><path clip-path=\"url(#clip600)\" d=\"M137.033 1088.69 L155.39 1088.69 L155.39 1092.63 L141.316 1092.63 L141.316 1101.1 Q142.334 1100.75 143.353 1100.59 Q144.371 1100.41 145.39 1100.41 Q151.177 1100.41 154.556 1103.58 Q157.936 1106.75 157.936 1112.16 Q157.936 1117.74 154.464 1120.84 Q150.992 1123.92 144.672 1123.92 Q142.496 1123.92 140.228 1123.55 Q137.982 1123.18 135.575 1122.44 L135.575 1117.74 Q137.658 1118.88 139.881 1119.43 Q142.103 1119.99 144.58 1119.99 Q148.584 1119.99 150.922 1117.88 Q153.26 1115.78 153.26 1112.16 Q153.26 1108.55 150.922 1106.45 Q148.584 1104.34 144.58 1104.34 Q142.705 1104.34 140.83 1104.76 Q138.978 1105.17 137.033 1106.05 L137.033 1088.69 Z\" fill=\"#f8f8f2\" fill-rule=\"nonzero\" fill-opacity=\"1\" /><path clip-path=\"url(#clip600)\" d=\"M100.76 749.862 Q97.1493 749.862 95.3206 753.427 Q93.515 756.969 93.515 764.098 Q93.515 771.205 95.3206 774.77 Q97.1493 778.311 100.76 778.311 Q104.395 778.311 106.2 774.77 Q108.029 771.205 108.029 764.098 Q108.029 756.969 106.2 753.427 Q104.395 749.862 100.76 749.862 M100.76 746.159 Q106.571 746.159 109.626 750.765 Q112.705 755.348 112.705 764.098 Q112.705 772.825 109.626 777.432 Q106.571 782.015 100.76 782.015 Q94.9502 782.015 91.8715 777.432 Q88.816 772.825 88.816 764.098 Q88.816 755.348 91.8715 750.765 Q94.9502 746.159 100.76 746.159 Z\" fill=\"#f8f8f2\" fill-rule=\"nonzero\" fill-opacity=\"1\" /><path clip-path=\"url(#clip600)\" d=\"M120.922 775.464 L125.807 775.464 L125.807 781.344 L120.922 781.344 L120.922 775.464 Z\" fill=\"#f8f8f2\" fill-rule=\"nonzero\" fill-opacity=\"1\" /><path clip-path=\"url(#clip600)\" d=\"M145.992 749.862 Q142.381 749.862 140.552 753.427 Q138.746 756.969 138.746 764.098 Q138.746 771.205 140.552 774.77 Q142.381 778.311 145.992 778.311 Q149.626 778.311 151.431 774.77 Q153.26 771.205 153.26 764.098 Q153.26 756.969 151.431 753.427 Q149.626 749.862 145.992 749.862 M145.992 746.159 Q151.802 746.159 154.857 750.765 Q157.936 755.348 157.936 764.098 Q157.936 772.825 154.857 777.432 Q151.802 782.015 145.992 782.015 Q140.181 782.015 137.103 777.432 Q134.047 772.825 134.047 764.098 Q134.047 755.348 137.103 750.765 Q140.181 746.159 145.992 746.159 Z\" fill=\"#f8f8f2\" fill-rule=\"nonzero\" fill-opacity=\"1\" /><path clip-path=\"url(#clip600)\" d=\"M101.756 407.954 Q98.1447 407.954 96.316 411.518 Q94.5104 415.06 94.5104 422.19 Q94.5104 429.296 96.316 432.861 Q98.1447 436.402 101.756 436.402 Q105.39 436.402 107.196 432.861 Q109.024 429.296 109.024 422.19 Q109.024 415.06 107.196 411.518 Q105.39 407.954 101.756 407.954 M101.756 404.25 Q107.566 404.25 110.621 408.856 Q113.7 413.44 113.7 422.19 Q113.7 430.916 110.621 435.523 Q107.566 440.106 101.756 440.106 Q95.9456 440.106 92.8669 435.523 Q89.8114 430.916 89.8114 422.19 Q89.8114 413.44 92.8669 408.856 Q95.9456 404.25 101.756 404.25 Z\" fill=\"#f8f8f2\" fill-rule=\"nonzero\" fill-opacity=\"1\" /><path clip-path=\"url(#clip600)\" d=\"M121.918 433.555 L126.802 433.555 L126.802 439.435 L121.918 439.435 L121.918 433.555 Z\" fill=\"#f8f8f2\" fill-rule=\"nonzero\" fill-opacity=\"1\" /><path clip-path=\"url(#clip600)\" d=\"M137.033 404.875 L155.39 404.875 L155.39 408.81 L141.316 408.81 L141.316 417.282 Q142.334 416.935 143.353 416.773 Q144.371 416.588 145.39 416.588 Q151.177 416.588 154.556 419.759 Q157.936 422.93 157.936 428.347 Q157.936 433.926 154.464 437.027 Q150.992 440.106 144.672 440.106 Q142.496 440.106 140.228 439.736 Q137.982 439.365 135.575 438.625 L135.575 433.926 Q137.658 435.06 139.881 435.615 Q142.103 436.171 144.58 436.171 Q148.584 436.171 150.922 434.065 Q153.26 431.958 153.26 428.347 Q153.26 424.736 150.922 422.629 Q148.584 420.523 144.58 420.523 Q142.705 420.523 140.83 420.94 Q138.978 421.356 137.033 422.236 L137.033 404.875 Z\" fill=\"#f8f8f2\" fill-rule=\"nonzero\" fill-opacity=\"1\" /><path clip-path=\"url(#clip600)\" d=\"M91.5706 93.591 L99.2095 93.591 L99.2095 67.2254 L90.8993 68.892 L90.8993 64.6328 L99.1632 62.9661 L103.839 62.9661 L103.839 93.591 L111.478 93.591 L111.478 97.5261 L91.5706 97.5261 L91.5706 93.591 Z\" fill=\"#f8f8f2\" fill-rule=\"nonzero\" fill-opacity=\"1\" /><path clip-path=\"url(#clip600)\" d=\"M120.922 91.6465 L125.807 91.6465 L125.807 97.5261 L120.922 97.5261 L120.922 91.6465 Z\" fill=\"#f8f8f2\" fill-rule=\"nonzero\" fill-opacity=\"1\" /><path clip-path=\"url(#clip600)\" d=\"M145.992 66.0448 Q142.381 66.0448 140.552 69.6096 Q138.746 73.1512 138.746 80.2808 Q138.746 87.3873 140.552 90.9521 Q142.381 94.4937 145.992 94.4937 Q149.626 94.4937 151.431 90.9521 Q153.26 87.3873 153.26 80.2808 Q153.26 73.1512 151.431 69.6096 Q149.626 66.0448 145.992 66.0448 M145.992 62.3411 Q151.802 62.3411 154.857 66.9476 Q157.936 71.5309 157.936 80.2808 Q157.936 89.0076 154.857 93.6141 Q151.802 98.1974 145.992 98.1974 Q140.181 98.1974 137.103 93.6141 Q134.047 89.0076 134.047 80.2808 Q134.047 71.5309 137.103 66.9476 Q140.181 62.3411 145.992 62.3411 Z\" fill=\"#f8f8f2\" fill-rule=\"nonzero\" fill-opacity=\"1\" /><circle clip-path=\"url(#clip602)\" cx=\"255.035\" cy=\"394.595\" r=\"14.4\" fill=\"#8be9fd\" fill-rule=\"evenodd\" fill-opacity=\"1\" stroke=\"#f8f8f2\" stroke-opacity=\"1\" stroke-width=\"3.2\"/>\n",
       "<circle clip-path=\"url(#clip602)\" cx=\"481.326\" cy=\"863.559\" r=\"14.4\" fill=\"#8be9fd\" fill-rule=\"evenodd\" fill-opacity=\"1\" stroke=\"#f8f8f2\" stroke-opacity=\"1\" stroke-width=\"3.2\"/>\n",
       "<circle clip-path=\"url(#clip602)\" cx=\"707.617\" cy=\"963.833\" r=\"14.4\" fill=\"#8be9fd\" fill-rule=\"evenodd\" fill-opacity=\"1\" stroke=\"#f8f8f2\" stroke-opacity=\"1\" stroke-width=\"3.2\"/>\n",
       "<circle clip-path=\"url(#clip602)\" cx=\"933.909\" cy=\"496.105\" r=\"14.4\" fill=\"#8be9fd\" fill-rule=\"evenodd\" fill-opacity=\"1\" stroke=\"#f8f8f2\" stroke-opacity=\"1\" stroke-width=\"3.2\"/>\n",
       "<circle clip-path=\"url(#clip602)\" cx=\"1160.2\" cy=\"225.411\" r=\"14.4\" fill=\"#8be9fd\" fill-rule=\"evenodd\" fill-opacity=\"1\" stroke=\"#f8f8f2\" stroke-opacity=\"1\" stroke-width=\"3.2\"/>\n",
       "<circle clip-path=\"url(#clip602)\" cx=\"1386.49\" cy=\"1255.03\" r=\"14.4\" fill=\"#8be9fd\" fill-rule=\"evenodd\" fill-opacity=\"1\" stroke=\"#f8f8f2\" stroke-opacity=\"1\" stroke-width=\"3.2\"/>\n",
       "<circle clip-path=\"url(#clip602)\" cx=\"1612.78\" cy=\"1341.09\" r=\"14.4\" fill=\"#8be9fd\" fill-rule=\"evenodd\" fill-opacity=\"1\" stroke=\"#f8f8f2\" stroke-opacity=\"1\" stroke-width=\"3.2\"/>\n",
       "<circle clip-path=\"url(#clip602)\" cx=\"1839.07\" cy=\"1445.72\" r=\"14.4\" fill=\"#8be9fd\" fill-rule=\"evenodd\" fill-opacity=\"1\" stroke=\"#f8f8f2\" stroke-opacity=\"1\" stroke-width=\"3.2\"/>\n",
       "<circle clip-path=\"url(#clip602)\" cx=\"2065.37\" cy=\"87.9763\" r=\"14.4\" fill=\"#8be9fd\" fill-rule=\"evenodd\" fill-opacity=\"1\" stroke=\"#f8f8f2\" stroke-opacity=\"1\" stroke-width=\"3.2\"/>\n",
       "<circle clip-path=\"url(#clip602)\" cx=\"2291.66\" cy=\"379.499\" r=\"14.4\" fill=\"#8be9fd\" fill-rule=\"evenodd\" fill-opacity=\"1\" stroke=\"#f8f8f2\" stroke-opacity=\"1\" stroke-width=\"3.2\"/>\n",
       "</svg>\n"
      ],
      "text/html": [
       "<?xml version=\"1.0\" encoding=\"utf-8\"?>\n",
       "<svg xmlns=\"http://www.w3.org/2000/svg\" xmlns:xlink=\"http://www.w3.org/1999/xlink\" width=\"600\" height=\"400\" viewBox=\"0 0 2400 1600\">\n",
       "<defs>\n",
       "  <clipPath id=\"clip650\">\n",
       "    <rect x=\"0\" y=\"0\" width=\"2400\" height=\"1600\"/>\n",
       "  </clipPath>\n",
       "</defs>\n",
       "<path clip-path=\"url(#clip650)\" d=\"M0 1600 L2400 1600 L2400 0 L0 0  Z\" fill=\"#282a36\" fill-rule=\"evenodd\" fill-opacity=\"1\"/>\n",
       "<defs>\n",
       "  <clipPath id=\"clip651\">\n",
       "    <rect x=\"480\" y=\"0\" width=\"1681\" height=\"1600\"/>\n",
       "  </clipPath>\n",
       "</defs>\n",
       "<path clip-path=\"url(#clip650)\" d=\"M193.936 1486.45 L2352.76 1486.45 L2352.76 47.2441 L193.936 47.2441  Z\" fill=\"#30343b\" fill-rule=\"evenodd\" fill-opacity=\"1\"/>\n",
       "<defs>\n",
       "  <clipPath id=\"clip652\">\n",
       "    <rect x=\"193\" y=\"47\" width=\"2160\" height=\"1440\"/>\n",
       "  </clipPath>\n",
       "</defs>\n",
       "<polyline clip-path=\"url(#clip652)\" style=\"stroke:#f8f8f2; stroke-linecap:round; stroke-linejoin:round; stroke-width:2; stroke-opacity:0.1; fill:none\" points=\"481.326,1486.45 481.326,47.2441 \"/>\n",
       "<polyline clip-path=\"url(#clip652)\" style=\"stroke:#f8f8f2; stroke-linecap:round; stroke-linejoin:round; stroke-width:2; stroke-opacity:0.1; fill:none\" points=\"933.909,1486.45 933.909,47.2441 \"/>\n",
       "<polyline clip-path=\"url(#clip652)\" style=\"stroke:#f8f8f2; stroke-linecap:round; stroke-linejoin:round; stroke-width:2; stroke-opacity:0.1; fill:none\" points=\"1386.49,1486.45 1386.49,47.2441 \"/>\n",
       "<polyline clip-path=\"url(#clip652)\" style=\"stroke:#f8f8f2; stroke-linecap:round; stroke-linejoin:round; stroke-width:2; stroke-opacity:0.1; fill:none\" points=\"1839.07,1486.45 1839.07,47.2441 \"/>\n",
       "<polyline clip-path=\"url(#clip652)\" style=\"stroke:#f8f8f2; stroke-linecap:round; stroke-linejoin:round; stroke-width:2; stroke-opacity:0.1; fill:none\" points=\"2291.66,1486.45 2291.66,47.2441 \"/>\n",
       "<polyline clip-path=\"url(#clip650)\" style=\"stroke:#f8f8f2; stroke-linecap:round; stroke-linejoin:round; stroke-width:4; stroke-opacity:1; fill:none\" points=\"193.936,1486.45 2352.76,1486.45 \"/>\n",
       "<polyline clip-path=\"url(#clip650)\" style=\"stroke:#f8f8f2; stroke-linecap:round; stroke-linejoin:round; stroke-width:4; stroke-opacity:1; fill:none\" points=\"481.326,1486.45 481.326,1467.55 \"/>\n",
       "<polyline clip-path=\"url(#clip650)\" style=\"stroke:#f8f8f2; stroke-linecap:round; stroke-linejoin:round; stroke-width:4; stroke-opacity:1; fill:none\" points=\"933.909,1486.45 933.909,1467.55 \"/>\n",
       "<polyline clip-path=\"url(#clip650)\" style=\"stroke:#f8f8f2; stroke-linecap:round; stroke-linejoin:round; stroke-width:4; stroke-opacity:1; fill:none\" points=\"1386.49,1486.45 1386.49,1467.55 \"/>\n",
       "<polyline clip-path=\"url(#clip650)\" style=\"stroke:#f8f8f2; stroke-linecap:round; stroke-linejoin:round; stroke-width:4; stroke-opacity:1; fill:none\" points=\"1839.07,1486.45 1839.07,1467.55 \"/>\n",
       "<polyline clip-path=\"url(#clip650)\" style=\"stroke:#f8f8f2; stroke-linecap:round; stroke-linejoin:round; stroke-width:4; stroke-opacity:1; fill:none\" points=\"2291.66,1486.45 2291.66,1467.55 \"/>\n",
       "<path clip-path=\"url(#clip650)\" d=\"M475.979 1544.91 L492.298 1544.91 L492.298 1548.85 L470.354 1548.85 L470.354 1544.91 Q473.016 1542.16 477.599 1537.53 Q482.206 1532.88 483.386 1531.53 Q485.632 1529.01 486.511 1527.27 Q487.414 1525.51 487.414 1523.82 Q487.414 1521.07 485.47 1519.33 Q483.548 1517.6 480.446 1517.6 Q478.247 1517.6 475.794 1518.36 Q473.363 1519.13 470.585 1520.68 L470.585 1515.95 Q473.409 1514.82 475.863 1514.24 Q478.317 1513.66 480.354 1513.66 Q485.724 1513.66 488.919 1516.35 Q492.113 1519.03 492.113 1523.52 Q492.113 1525.65 491.303 1527.57 Q490.516 1529.47 488.409 1532.07 Q487.831 1532.74 484.729 1535.95 Q481.627 1539.15 475.979 1544.91 Z\" fill=\"#f8f8f2\" fill-rule=\"nonzero\" fill-opacity=\"1\" /><path clip-path=\"url(#clip650)\" d=\"M936.918 1518.36 L925.113 1536.81 L936.918 1536.81 L936.918 1518.36 M935.691 1514.29 L941.571 1514.29 L941.571 1536.81 L946.501 1536.81 L946.501 1540.7 L941.571 1540.7 L941.571 1548.85 L936.918 1548.85 L936.918 1540.7 L921.316 1540.7 L921.316 1536.19 L935.691 1514.29 Z\" fill=\"#f8f8f2\" fill-rule=\"nonzero\" fill-opacity=\"1\" /><path clip-path=\"url(#clip650)\" d=\"M1386.9 1529.7 Q1383.75 1529.7 1381.9 1531.86 Q1380.07 1534.01 1380.07 1537.76 Q1380.07 1541.49 1381.9 1543.66 Q1383.75 1545.82 1386.9 1545.82 Q1390.04 1545.82 1391.87 1543.66 Q1393.73 1541.49 1393.73 1537.76 Q1393.73 1534.01 1391.87 1531.86 Q1390.04 1529.7 1386.9 1529.7 M1396.18 1515.05 L1396.18 1519.31 Q1394.42 1518.48 1392.61 1518.04 Q1390.83 1517.6 1389.07 1517.6 Q1384.44 1517.6 1381.99 1520.72 Q1379.56 1523.85 1379.21 1530.17 Q1380.58 1528.15 1382.64 1527.09 Q1384.7 1526 1387.17 1526 Q1392.38 1526 1395.39 1529.17 Q1398.42 1532.32 1398.42 1537.76 Q1398.42 1543.08 1395.28 1546.3 Q1392.13 1549.52 1386.9 1549.52 Q1380.9 1549.52 1377.73 1544.94 Q1374.56 1540.33 1374.56 1531.6 Q1374.56 1523.41 1378.45 1518.55 Q1382.34 1513.66 1388.89 1513.66 Q1390.65 1513.66 1392.43 1514.01 Q1394.23 1514.36 1396.18 1515.05 Z\" fill=\"#f8f8f2\" fill-rule=\"nonzero\" fill-opacity=\"1\" /><path clip-path=\"url(#clip650)\" d=\"M1839.07 1532.44 Q1835.74 1532.44 1833.82 1534.22 Q1831.92 1536 1831.92 1539.13 Q1831.92 1542.25 1833.82 1544.03 Q1835.74 1545.82 1839.07 1545.82 Q1842.41 1545.82 1844.33 1544.03 Q1846.25 1542.23 1846.25 1539.13 Q1846.25 1536 1844.33 1534.22 Q1842.43 1532.44 1839.07 1532.44 M1834.4 1530.45 Q1831.39 1529.7 1829.7 1527.64 Q1828.03 1525.58 1828.03 1522.62 Q1828.03 1518.48 1830.97 1516.07 Q1833.94 1513.66 1839.07 1513.66 Q1844.24 1513.66 1847.18 1516.07 Q1850.12 1518.48 1850.12 1522.62 Q1850.12 1525.58 1848.43 1527.64 Q1846.76 1529.7 1843.77 1530.45 Q1847.15 1531.23 1849.03 1533.52 Q1850.93 1535.82 1850.93 1539.13 Q1850.93 1544.15 1847.85 1546.83 Q1844.79 1549.52 1839.07 1549.52 Q1833.36 1549.52 1830.28 1546.83 Q1827.22 1544.15 1827.22 1539.13 Q1827.22 1535.82 1829.12 1533.52 Q1831.02 1531.23 1834.4 1530.45 M1832.69 1523.06 Q1832.69 1525.75 1834.35 1527.25 Q1836.04 1528.76 1839.07 1528.76 Q1842.08 1528.76 1843.77 1527.25 Q1845.49 1525.75 1845.49 1523.06 Q1845.49 1520.38 1843.77 1518.87 Q1842.08 1517.37 1839.07 1517.37 Q1836.04 1517.37 1834.35 1518.87 Q1832.69 1520.38 1832.69 1523.06 Z\" fill=\"#f8f8f2\" fill-rule=\"nonzero\" fill-opacity=\"1\" /><path clip-path=\"url(#clip650)\" d=\"M2266.34 1544.91 L2273.98 1544.91 L2273.98 1518.55 L2265.67 1520.21 L2265.67 1515.95 L2273.94 1514.29 L2278.61 1514.29 L2278.61 1544.91 L2286.25 1544.91 L2286.25 1548.85 L2266.34 1548.85 L2266.34 1544.91 Z\" fill=\"#f8f8f2\" fill-rule=\"nonzero\" fill-opacity=\"1\" /><path clip-path=\"url(#clip650)\" d=\"M2305.7 1517.37 Q2302.09 1517.37 2300.26 1520.93 Q2298.45 1524.47 2298.45 1531.6 Q2298.45 1538.71 2300.26 1542.27 Q2302.09 1545.82 2305.7 1545.82 Q2309.33 1545.82 2311.14 1542.27 Q2312.96 1538.71 2312.96 1531.6 Q2312.96 1524.47 2311.14 1520.93 Q2309.33 1517.37 2305.7 1517.37 M2305.7 1513.66 Q2311.51 1513.66 2314.56 1518.27 Q2317.64 1522.85 2317.64 1531.6 Q2317.64 1540.33 2314.56 1544.94 Q2311.51 1549.52 2305.7 1549.52 Q2299.89 1549.52 2296.81 1544.94 Q2293.75 1540.33 2293.75 1531.6 Q2293.75 1522.85 2296.81 1518.27 Q2299.89 1513.66 2305.7 1513.66 Z\" fill=\"#f8f8f2\" fill-rule=\"nonzero\" fill-opacity=\"1\" /><polyline clip-path=\"url(#clip652)\" style=\"stroke:#f8f8f2; stroke-linecap:round; stroke-linejoin:round; stroke-width:2; stroke-opacity:0.1; fill:none\" points=\"193.936,1447.88 2352.76,1447.88 \"/>\n",
       "<polyline clip-path=\"url(#clip652)\" style=\"stroke:#f8f8f2; stroke-linecap:round; stroke-linejoin:round; stroke-width:2; stroke-opacity:0.1; fill:none\" points=\"193.936,1105.97 2352.76,1105.97 \"/>\n",
       "<polyline clip-path=\"url(#clip652)\" style=\"stroke:#f8f8f2; stroke-linecap:round; stroke-linejoin:round; stroke-width:2; stroke-opacity:0.1; fill:none\" points=\"193.936,764.064 2352.76,764.064 \"/>\n",
       "<polyline clip-path=\"url(#clip652)\" style=\"stroke:#f8f8f2; stroke-linecap:round; stroke-linejoin:round; stroke-width:2; stroke-opacity:0.1; fill:none\" points=\"193.936,422.155 2352.76,422.155 \"/>\n",
       "<polyline clip-path=\"url(#clip652)\" style=\"stroke:#f8f8f2; stroke-linecap:round; stroke-linejoin:round; stroke-width:2; stroke-opacity:0.1; fill:none\" points=\"193.936,80.2461 2352.76,80.2461 \"/>\n",
       "<polyline clip-path=\"url(#clip650)\" style=\"stroke:#f8f8f2; stroke-linecap:round; stroke-linejoin:round; stroke-width:4; stroke-opacity:1; fill:none\" points=\"193.936,1486.45 193.936,47.2441 \"/>\n",
       "<polyline clip-path=\"url(#clip650)\" style=\"stroke:#f8f8f2; stroke-linecap:round; stroke-linejoin:round; stroke-width:4; stroke-opacity:1; fill:none\" points=\"193.936,1447.88 212.834,1447.88 \"/>\n",
       "<polyline clip-path=\"url(#clip650)\" style=\"stroke:#f8f8f2; stroke-linecap:round; stroke-linejoin:round; stroke-width:4; stroke-opacity:1; fill:none\" points=\"193.936,1105.97 212.834,1105.97 \"/>\n",
       "<polyline clip-path=\"url(#clip650)\" style=\"stroke:#f8f8f2; stroke-linecap:round; stroke-linejoin:round; stroke-width:4; stroke-opacity:1; fill:none\" points=\"193.936,764.064 212.834,764.064 \"/>\n",
       "<polyline clip-path=\"url(#clip650)\" style=\"stroke:#f8f8f2; stroke-linecap:round; stroke-linejoin:round; stroke-width:4; stroke-opacity:1; fill:none\" points=\"193.936,422.155 212.834,422.155 \"/>\n",
       "<polyline clip-path=\"url(#clip650)\" style=\"stroke:#f8f8f2; stroke-linecap:round; stroke-linejoin:round; stroke-width:4; stroke-opacity:1; fill:none\" points=\"193.936,80.2461 212.834,80.2461 \"/>\n",
       "<path clip-path=\"url(#clip650)\" d=\"M50.9921 1448.33 L80.6679 1448.33 L80.6679 1452.27 L50.9921 1452.27 L50.9921 1448.33 Z\" fill=\"#f8f8f2\" fill-rule=\"nonzero\" fill-opacity=\"1\" /><path clip-path=\"url(#clip650)\" d=\"M91.5706 1461.23 L99.2095 1461.23 L99.2095 1434.86 L90.8993 1436.53 L90.8993 1432.27 L99.1632 1430.6 L103.839 1430.6 L103.839 1461.23 L111.478 1461.23 L111.478 1465.16 L91.5706 1465.16 L91.5706 1461.23 Z\" fill=\"#f8f8f2\" fill-rule=\"nonzero\" fill-opacity=\"1\" /><path clip-path=\"url(#clip650)\" d=\"M120.922 1459.28 L125.807 1459.28 L125.807 1465.16 L120.922 1465.16 L120.922 1459.28 Z\" fill=\"#f8f8f2\" fill-rule=\"nonzero\" fill-opacity=\"1\" /><path clip-path=\"url(#clip650)\" d=\"M145.992 1433.68 Q142.381 1433.68 140.552 1437.24 Q138.746 1440.79 138.746 1447.92 Q138.746 1455.02 140.552 1458.59 Q142.381 1462.13 145.992 1462.13 Q149.626 1462.13 151.431 1458.59 Q153.26 1455.02 153.26 1447.92 Q153.26 1440.79 151.431 1437.24 Q149.626 1433.68 145.992 1433.68 M145.992 1429.98 Q151.802 1429.98 154.857 1434.58 Q157.936 1439.17 157.936 1447.92 Q157.936 1456.64 154.857 1461.25 Q151.802 1465.83 145.992 1465.83 Q140.181 1465.83 137.103 1461.25 Q134.047 1456.64 134.047 1447.92 Q134.047 1439.17 137.103 1434.58 Q140.181 1429.98 145.992 1429.98 Z\" fill=\"#f8f8f2\" fill-rule=\"nonzero\" fill-opacity=\"1\" /><path clip-path=\"url(#clip650)\" d=\"M51.9875 1106.42 L81.6633 1106.42 L81.6633 1110.36 L51.9875 1110.36 L51.9875 1106.42 Z\" fill=\"#f8f8f2\" fill-rule=\"nonzero\" fill-opacity=\"1\" /><path clip-path=\"url(#clip650)\" d=\"M101.756 1091.77 Q98.1447 1091.77 96.316 1095.34 Q94.5104 1098.88 94.5104 1106.01 Q94.5104 1113.11 96.316 1116.68 Q98.1447 1120.22 101.756 1120.22 Q105.39 1120.22 107.196 1116.68 Q109.024 1113.11 109.024 1106.01 Q109.024 1098.88 107.196 1095.34 Q105.39 1091.77 101.756 1091.77 M101.756 1088.07 Q107.566 1088.07 110.621 1092.67 Q113.7 1097.26 113.7 1106.01 Q113.7 1114.73 110.621 1119.34 Q107.566 1123.92 101.756 1123.92 Q95.9456 1123.92 92.8669 1119.34 Q89.8114 1114.73 89.8114 1106.01 Q89.8114 1097.26 92.8669 1092.67 Q95.9456 1088.07 101.756 1088.07 Z\" fill=\"#f8f8f2\" fill-rule=\"nonzero\" fill-opacity=\"1\" /><path clip-path=\"url(#clip650)\" d=\"M121.918 1117.37 L126.802 1117.37 L126.802 1123.25 L121.918 1123.25 L121.918 1117.37 Z\" fill=\"#f8f8f2\" fill-rule=\"nonzero\" fill-opacity=\"1\" /><path clip-path=\"url(#clip650)\" d=\"M137.033 1088.69 L155.39 1088.69 L155.39 1092.63 L141.316 1092.63 L141.316 1101.1 Q142.334 1100.75 143.353 1100.59 Q144.371 1100.41 145.39 1100.41 Q151.177 1100.41 154.556 1103.58 Q157.936 1106.75 157.936 1112.16 Q157.936 1117.74 154.464 1120.84 Q150.992 1123.92 144.672 1123.92 Q142.496 1123.92 140.228 1123.55 Q137.982 1123.18 135.575 1122.44 L135.575 1117.74 Q137.658 1118.88 139.881 1119.43 Q142.103 1119.99 144.58 1119.99 Q148.584 1119.99 150.922 1117.88 Q153.26 1115.78 153.26 1112.16 Q153.26 1108.55 150.922 1106.45 Q148.584 1104.34 144.58 1104.34 Q142.705 1104.34 140.83 1104.76 Q138.978 1105.17 137.033 1106.05 L137.033 1088.69 Z\" fill=\"#f8f8f2\" fill-rule=\"nonzero\" fill-opacity=\"1\" /><path clip-path=\"url(#clip650)\" d=\"M100.76 749.862 Q97.1493 749.862 95.3206 753.427 Q93.515 756.969 93.515 764.098 Q93.515 771.205 95.3206 774.77 Q97.1493 778.311 100.76 778.311 Q104.395 778.311 106.2 774.77 Q108.029 771.205 108.029 764.098 Q108.029 756.969 106.2 753.427 Q104.395 749.862 100.76 749.862 M100.76 746.159 Q106.571 746.159 109.626 750.765 Q112.705 755.348 112.705 764.098 Q112.705 772.825 109.626 777.432 Q106.571 782.015 100.76 782.015 Q94.9502 782.015 91.8715 777.432 Q88.816 772.825 88.816 764.098 Q88.816 755.348 91.8715 750.765 Q94.9502 746.159 100.76 746.159 Z\" fill=\"#f8f8f2\" fill-rule=\"nonzero\" fill-opacity=\"1\" /><path clip-path=\"url(#clip650)\" d=\"M120.922 775.464 L125.807 775.464 L125.807 781.344 L120.922 781.344 L120.922 775.464 Z\" fill=\"#f8f8f2\" fill-rule=\"nonzero\" fill-opacity=\"1\" /><path clip-path=\"url(#clip650)\" d=\"M145.992 749.862 Q142.381 749.862 140.552 753.427 Q138.746 756.969 138.746 764.098 Q138.746 771.205 140.552 774.77 Q142.381 778.311 145.992 778.311 Q149.626 778.311 151.431 774.77 Q153.26 771.205 153.26 764.098 Q153.26 756.969 151.431 753.427 Q149.626 749.862 145.992 749.862 M145.992 746.159 Q151.802 746.159 154.857 750.765 Q157.936 755.348 157.936 764.098 Q157.936 772.825 154.857 777.432 Q151.802 782.015 145.992 782.015 Q140.181 782.015 137.103 777.432 Q134.047 772.825 134.047 764.098 Q134.047 755.348 137.103 750.765 Q140.181 746.159 145.992 746.159 Z\" fill=\"#f8f8f2\" fill-rule=\"nonzero\" fill-opacity=\"1\" /><path clip-path=\"url(#clip650)\" d=\"M101.756 407.954 Q98.1447 407.954 96.316 411.518 Q94.5104 415.06 94.5104 422.19 Q94.5104 429.296 96.316 432.861 Q98.1447 436.402 101.756 436.402 Q105.39 436.402 107.196 432.861 Q109.024 429.296 109.024 422.19 Q109.024 415.06 107.196 411.518 Q105.39 407.954 101.756 407.954 M101.756 404.25 Q107.566 404.25 110.621 408.856 Q113.7 413.44 113.7 422.19 Q113.7 430.916 110.621 435.523 Q107.566 440.106 101.756 440.106 Q95.9456 440.106 92.8669 435.523 Q89.8114 430.916 89.8114 422.19 Q89.8114 413.44 92.8669 408.856 Q95.9456 404.25 101.756 404.25 Z\" fill=\"#f8f8f2\" fill-rule=\"nonzero\" fill-opacity=\"1\" /><path clip-path=\"url(#clip650)\" d=\"M121.918 433.555 L126.802 433.555 L126.802 439.435 L121.918 439.435 L121.918 433.555 Z\" fill=\"#f8f8f2\" fill-rule=\"nonzero\" fill-opacity=\"1\" /><path clip-path=\"url(#clip650)\" d=\"M137.033 404.875 L155.39 404.875 L155.39 408.81 L141.316 408.81 L141.316 417.282 Q142.334 416.935 143.353 416.773 Q144.371 416.588 145.39 416.588 Q151.177 416.588 154.556 419.759 Q157.936 422.93 157.936 428.347 Q157.936 433.926 154.464 437.027 Q150.992 440.106 144.672 440.106 Q142.496 440.106 140.228 439.736 Q137.982 439.365 135.575 438.625 L135.575 433.926 Q137.658 435.06 139.881 435.615 Q142.103 436.171 144.58 436.171 Q148.584 436.171 150.922 434.065 Q153.26 431.958 153.26 428.347 Q153.26 424.736 150.922 422.629 Q148.584 420.523 144.58 420.523 Q142.705 420.523 140.83 420.94 Q138.978 421.356 137.033 422.236 L137.033 404.875 Z\" fill=\"#f8f8f2\" fill-rule=\"nonzero\" fill-opacity=\"1\" /><path clip-path=\"url(#clip650)\" d=\"M91.5706 93.591 L99.2095 93.591 L99.2095 67.2254 L90.8993 68.892 L90.8993 64.6328 L99.1632 62.9661 L103.839 62.9661 L103.839 93.591 L111.478 93.591 L111.478 97.5261 L91.5706 97.5261 L91.5706 93.591 Z\" fill=\"#f8f8f2\" fill-rule=\"nonzero\" fill-opacity=\"1\" /><path clip-path=\"url(#clip650)\" d=\"M120.922 91.6465 L125.807 91.6465 L125.807 97.5261 L120.922 97.5261 L120.922 91.6465 Z\" fill=\"#f8f8f2\" fill-rule=\"nonzero\" fill-opacity=\"1\" /><path clip-path=\"url(#clip650)\" d=\"M145.992 66.0448 Q142.381 66.0448 140.552 69.6096 Q138.746 73.1512 138.746 80.2808 Q138.746 87.3873 140.552 90.9521 Q142.381 94.4937 145.992 94.4937 Q149.626 94.4937 151.431 90.9521 Q153.26 87.3873 153.26 80.2808 Q153.26 73.1512 151.431 69.6096 Q149.626 66.0448 145.992 66.0448 M145.992 62.3411 Q151.802 62.3411 154.857 66.9476 Q157.936 71.5309 157.936 80.2808 Q157.936 89.0076 154.857 93.6141 Q151.802 98.1974 145.992 98.1974 Q140.181 98.1974 137.103 93.6141 Q134.047 89.0076 134.047 80.2808 Q134.047 71.5309 137.103 66.9476 Q140.181 62.3411 145.992 62.3411 Z\" fill=\"#f8f8f2\" fill-rule=\"nonzero\" fill-opacity=\"1\" /><circle clip-path=\"url(#clip652)\" cx=\"255.035\" cy=\"394.595\" r=\"14.4\" fill=\"#8be9fd\" fill-rule=\"evenodd\" fill-opacity=\"1\" stroke=\"#f8f8f2\" stroke-opacity=\"1\" stroke-width=\"3.2\"/>\n",
       "<circle clip-path=\"url(#clip652)\" cx=\"481.326\" cy=\"863.559\" r=\"14.4\" fill=\"#8be9fd\" fill-rule=\"evenodd\" fill-opacity=\"1\" stroke=\"#f8f8f2\" stroke-opacity=\"1\" stroke-width=\"3.2\"/>\n",
       "<circle clip-path=\"url(#clip652)\" cx=\"707.617\" cy=\"963.833\" r=\"14.4\" fill=\"#8be9fd\" fill-rule=\"evenodd\" fill-opacity=\"1\" stroke=\"#f8f8f2\" stroke-opacity=\"1\" stroke-width=\"3.2\"/>\n",
       "<circle clip-path=\"url(#clip652)\" cx=\"933.909\" cy=\"496.105\" r=\"14.4\" fill=\"#8be9fd\" fill-rule=\"evenodd\" fill-opacity=\"1\" stroke=\"#f8f8f2\" stroke-opacity=\"1\" stroke-width=\"3.2\"/>\n",
       "<circle clip-path=\"url(#clip652)\" cx=\"1160.2\" cy=\"225.411\" r=\"14.4\" fill=\"#8be9fd\" fill-rule=\"evenodd\" fill-opacity=\"1\" stroke=\"#f8f8f2\" stroke-opacity=\"1\" stroke-width=\"3.2\"/>\n",
       "<circle clip-path=\"url(#clip652)\" cx=\"1386.49\" cy=\"1255.03\" r=\"14.4\" fill=\"#8be9fd\" fill-rule=\"evenodd\" fill-opacity=\"1\" stroke=\"#f8f8f2\" stroke-opacity=\"1\" stroke-width=\"3.2\"/>\n",
       "<circle clip-path=\"url(#clip652)\" cx=\"1612.78\" cy=\"1341.09\" r=\"14.4\" fill=\"#8be9fd\" fill-rule=\"evenodd\" fill-opacity=\"1\" stroke=\"#f8f8f2\" stroke-opacity=\"1\" stroke-width=\"3.2\"/>\n",
       "<circle clip-path=\"url(#clip652)\" cx=\"1839.07\" cy=\"1445.72\" r=\"14.4\" fill=\"#8be9fd\" fill-rule=\"evenodd\" fill-opacity=\"1\" stroke=\"#f8f8f2\" stroke-opacity=\"1\" stroke-width=\"3.2\"/>\n",
       "<circle clip-path=\"url(#clip652)\" cx=\"2065.37\" cy=\"87.9763\" r=\"14.4\" fill=\"#8be9fd\" fill-rule=\"evenodd\" fill-opacity=\"1\" stroke=\"#f8f8f2\" stroke-opacity=\"1\" stroke-width=\"3.2\"/>\n",
       "<circle clip-path=\"url(#clip652)\" cx=\"2291.66\" cy=\"379.499\" r=\"14.4\" fill=\"#8be9fd\" fill-rule=\"evenodd\" fill-opacity=\"1\" stroke=\"#f8f8f2\" stroke-opacity=\"1\" stroke-width=\"3.2\"/>\n",
       "</svg>\n"
      ]
     },
     "execution_count": 84,
     "metadata": {},
     "output_type": "execute_result"
    }
   ],
   "source": [
    "x = range(1, 10)\n",
    "y = cos.(x.^3)\n",
    "scatter(x, y, legend=false)"
   ]
  },
  {
   "cell_type": "code",
   "execution_count": 85,
   "metadata": {},
   "outputs": [
    {
     "data": {
      "text/latex": [
       "\\textbf{Uniform Distribtion}\n",
       "\n"
      ],
      "text/markdown": [
       "**Uniform Distribtion**\n"
      ],
      "text/plain": [
       "  \u001b[1mUniform Distribtion\u001b[22m"
      ]
     },
     "execution_count": 85,
     "metadata": {},
     "output_type": "execute_result"
    }
   ],
   "source": [
    "md\"**Uniform Distribtion**\""
   ]
  },
  {
   "cell_type": "code",
   "execution_count": 86,
   "metadata": {},
   "outputs": [],
   "source": [
    "?rand;"
   ]
  },
  {
   "cell_type": "code",
   "execution_count": 87,
   "metadata": {},
   "outputs": [
    {
     "data": {
      "image/png": "[encoded data removed]",
      "image/svg+xml": [
       "<?xml version=\"1.0\" encoding=\"utf-8\"?>\n",
       "<svg xmlns=\"http://www.w3.org/2000/svg\" xmlns:xlink=\"http://www.w3.org/1999/xlink\" width=\"600\" height=\"400\" viewBox=\"0 0 2400 1600\">\n",
       "<defs>\n",
       "  <clipPath id=\"clip690\">\n",
       "    <rect x=\"0\" y=\"0\" width=\"2400\" height=\"1600\"/>\n",
       "  </clipPath>\n",
       "</defs>\n",
       "<path clip-path=\"url(#clip690)\" d=\"M0 1600 L2400 1600 L2400 0 L0 0  Z\" fill=\"#282a36\" fill-rule=\"evenodd\" fill-opacity=\"1\"/>\n",
       "<defs>\n",
       "  <clipPath id=\"clip691\">\n",
       "    <rect x=\"480\" y=\"0\" width=\"1681\" height=\"1600\"/>\n",
       "  </clipPath>\n",
       "</defs>\n",
       "<path clip-path=\"url(#clip690)\" d=\"M201.019 1486.45 L2352.76 1486.45 L2352.76 47.2441 L201.019 47.2441  Z\" fill=\"#30343b\" fill-rule=\"evenodd\" fill-opacity=\"1\"/>\n",
       "<defs>\n",
       "  <clipPath id=\"clip692\">\n",
       "    <rect x=\"201\" y=\"47\" width=\"2153\" height=\"1440\"/>\n",
       "  </clipPath>\n",
       "</defs>\n",
       "<polyline clip-path=\"url(#clip692)\" style=\"stroke:#f8f8f2; stroke-linecap:round; stroke-linejoin:round; stroke-width:2; stroke-opacity:0.1; fill:none\" points=\"319.369,1486.45 319.369,47.2441 \"/>\n",
       "<polyline clip-path=\"url(#clip692)\" style=\"stroke:#f8f8f2; stroke-linecap:round; stroke-linejoin:round; stroke-width:2; stroke-opacity:0.1; fill:none\" points=\"798.128,1486.45 798.128,47.2441 \"/>\n",
       "<polyline clip-path=\"url(#clip692)\" style=\"stroke:#f8f8f2; stroke-linecap:round; stroke-linejoin:round; stroke-width:2; stroke-opacity:0.1; fill:none\" points=\"1276.89,1486.45 1276.89,47.2441 \"/>\n",
       "<polyline clip-path=\"url(#clip692)\" style=\"stroke:#f8f8f2; stroke-linecap:round; stroke-linejoin:round; stroke-width:2; stroke-opacity:0.1; fill:none\" points=\"1755.65,1486.45 1755.65,47.2441 \"/>\n",
       "<polyline clip-path=\"url(#clip692)\" style=\"stroke:#f8f8f2; stroke-linecap:round; stroke-linejoin:round; stroke-width:2; stroke-opacity:0.1; fill:none\" points=\"2234.41,1486.45 2234.41,47.2441 \"/>\n",
       "<polyline clip-path=\"url(#clip690)\" style=\"stroke:#f8f8f2; stroke-linecap:round; stroke-linejoin:round; stroke-width:4; stroke-opacity:1; fill:none\" points=\"201.019,1486.45 2352.76,1486.45 \"/>\n",
       "<polyline clip-path=\"url(#clip690)\" style=\"stroke:#f8f8f2; stroke-linecap:round; stroke-linejoin:round; stroke-width:4; stroke-opacity:1; fill:none\" points=\"319.369,1486.45 319.369,1467.55 \"/>\n",
       "<polyline clip-path=\"url(#clip690)\" style=\"stroke:#f8f8f2; stroke-linecap:round; stroke-linejoin:round; stroke-width:4; stroke-opacity:1; fill:none\" points=\"798.128,1486.45 798.128,1467.55 \"/>\n",
       "<polyline clip-path=\"url(#clip690)\" style=\"stroke:#f8f8f2; stroke-linecap:round; stroke-linejoin:round; stroke-width:4; stroke-opacity:1; fill:none\" points=\"1276.89,1486.45 1276.89,1467.55 \"/>\n",
       "<polyline clip-path=\"url(#clip690)\" style=\"stroke:#f8f8f2; stroke-linecap:round; stroke-linejoin:round; stroke-width:4; stroke-opacity:1; fill:none\" points=\"1755.65,1486.45 1755.65,1467.55 \"/>\n",
       "<polyline clip-path=\"url(#clip690)\" style=\"stroke:#f8f8f2; stroke-linecap:round; stroke-linejoin:round; stroke-width:4; stroke-opacity:1; fill:none\" points=\"2234.41,1486.45 2234.41,1467.55 \"/>\n",
       "<path clip-path=\"url(#clip690)\" d=\"M281.672 1517.37 Q278.061 1517.37 276.232 1520.93 Q274.427 1524.47 274.427 1531.6 Q274.427 1538.71 276.232 1542.27 Q278.061 1545.82 281.672 1545.82 Q285.306 1545.82 287.112 1542.27 Q288.941 1538.71 288.941 1531.6 Q288.941 1524.47 287.112 1520.93 Q285.306 1517.37 281.672 1517.37 M281.672 1513.66 Q287.482 1513.66 290.538 1518.27 Q293.616 1522.85 293.616 1531.6 Q293.616 1540.33 290.538 1544.94 Q287.482 1549.52 281.672 1549.52 Q275.862 1549.52 272.783 1544.94 Q269.728 1540.33 269.728 1531.6 Q269.728 1522.85 272.783 1518.27 Q275.862 1513.66 281.672 1513.66 Z\" fill=\"#f8f8f2\" fill-rule=\"nonzero\" fill-opacity=\"1\" /><path clip-path=\"url(#clip690)\" d=\"M301.834 1542.97 L306.718 1542.97 L306.718 1548.85 L301.834 1548.85 L301.834 1542.97 Z\" fill=\"#f8f8f2\" fill-rule=\"nonzero\" fill-opacity=\"1\" /><path clip-path=\"url(#clip690)\" d=\"M326.903 1517.37 Q323.292 1517.37 321.464 1520.93 Q319.658 1524.47 319.658 1531.6 Q319.658 1538.71 321.464 1542.27 Q323.292 1545.82 326.903 1545.82 Q330.538 1545.82 332.343 1542.27 Q334.172 1538.71 334.172 1531.6 Q334.172 1524.47 332.343 1520.93 Q330.538 1517.37 326.903 1517.37 M326.903 1513.66 Q332.713 1513.66 335.769 1518.27 Q338.848 1522.85 338.848 1531.6 Q338.848 1540.33 335.769 1544.94 Q332.713 1549.52 326.903 1549.52 Q321.093 1549.52 318.014 1544.94 Q314.959 1540.33 314.959 1531.6 Q314.959 1522.85 318.014 1518.27 Q321.093 1513.66 326.903 1513.66 Z\" fill=\"#f8f8f2\" fill-rule=\"nonzero\" fill-opacity=\"1\" /><path clip-path=\"url(#clip690)\" d=\"M357.065 1517.37 Q353.454 1517.37 351.625 1520.93 Q349.82 1524.47 349.82 1531.6 Q349.82 1538.71 351.625 1542.27 Q353.454 1545.82 357.065 1545.82 Q360.699 1545.82 362.505 1542.27 Q364.334 1538.71 364.334 1531.6 Q364.334 1524.47 362.505 1520.93 Q360.699 1517.37 357.065 1517.37 M357.065 1513.66 Q362.875 1513.66 365.931 1518.27 Q369.01 1522.85 369.01 1531.6 Q369.01 1540.33 365.931 1544.94 Q362.875 1549.52 357.065 1549.52 Q351.255 1549.52 348.176 1544.94 Q345.121 1540.33 345.121 1531.6 Q345.121 1522.85 348.176 1518.27 Q351.255 1513.66 357.065 1513.66 Z\" fill=\"#f8f8f2\" fill-rule=\"nonzero\" fill-opacity=\"1\" /><path clip-path=\"url(#clip690)\" d=\"M760.929 1517.37 Q757.318 1517.37 755.489 1520.93 Q753.684 1524.47 753.684 1531.6 Q753.684 1538.71 755.489 1542.27 Q757.318 1545.82 760.929 1545.82 Q764.563 1545.82 766.369 1542.27 Q768.198 1538.71 768.198 1531.6 Q768.198 1524.47 766.369 1520.93 Q764.563 1517.37 760.929 1517.37 M760.929 1513.66 Q766.739 1513.66 769.795 1518.27 Q772.874 1522.85 772.874 1531.6 Q772.874 1540.33 769.795 1544.94 Q766.739 1549.52 760.929 1549.52 Q755.119 1549.52 752.04 1544.94 Q748.985 1540.33 748.985 1531.6 Q748.985 1522.85 752.04 1518.27 Q755.119 1513.66 760.929 1513.66 Z\" fill=\"#f8f8f2\" fill-rule=\"nonzero\" fill-opacity=\"1\" /><path clip-path=\"url(#clip690)\" d=\"M781.091 1542.97 L785.975 1542.97 L785.975 1548.85 L781.091 1548.85 L781.091 1542.97 Z\" fill=\"#f8f8f2\" fill-rule=\"nonzero\" fill-opacity=\"1\" /><path clip-path=\"url(#clip690)\" d=\"M800.188 1544.91 L816.508 1544.91 L816.508 1548.85 L794.563 1548.85 L794.563 1544.91 Q797.225 1542.16 801.809 1537.53 Q806.415 1532.88 807.596 1531.53 Q809.841 1529.01 810.721 1527.27 Q811.623 1525.51 811.623 1523.82 Q811.623 1521.07 809.679 1519.33 Q807.758 1517.6 804.656 1517.6 Q802.457 1517.6 800.003 1518.36 Q797.573 1519.13 794.795 1520.68 L794.795 1515.95 Q797.619 1514.82 800.073 1514.24 Q802.526 1513.66 804.563 1513.66 Q809.934 1513.66 813.128 1516.35 Q816.322 1519.03 816.322 1523.52 Q816.322 1525.65 815.512 1527.57 Q814.725 1529.47 812.619 1532.07 Q812.04 1532.74 808.938 1535.95 Q805.836 1539.15 800.188 1544.91 Z\" fill=\"#f8f8f2\" fill-rule=\"nonzero\" fill-opacity=\"1\" /><path clip-path=\"url(#clip690)\" d=\"M826.369 1514.29 L844.725 1514.29 L844.725 1518.22 L830.651 1518.22 L830.651 1526.7 Q831.67 1526.35 832.688 1526.19 Q833.707 1526 834.725 1526 Q840.512 1526 843.892 1529.17 Q847.271 1532.34 847.271 1537.76 Q847.271 1543.34 843.799 1546.44 Q840.327 1549.52 834.008 1549.52 Q831.832 1549.52 829.563 1549.15 Q827.318 1548.78 824.91 1548.04 L824.91 1543.34 Q826.994 1544.47 829.216 1545.03 Q831.438 1545.58 833.915 1545.58 Q837.92 1545.58 840.258 1543.48 Q842.595 1541.37 842.595 1537.76 Q842.595 1534.15 840.258 1532.04 Q837.92 1529.94 833.915 1529.94 Q832.04 1529.94 830.165 1530.35 Q828.313 1530.77 826.369 1531.65 L826.369 1514.29 Z\" fill=\"#f8f8f2\" fill-rule=\"nonzero\" fill-opacity=\"1\" /><path clip-path=\"url(#clip690)\" d=\"M1239.19 1517.37 Q1235.58 1517.37 1233.75 1520.93 Q1231.95 1524.47 1231.95 1531.6 Q1231.95 1538.71 1233.75 1542.27 Q1235.58 1545.82 1239.19 1545.82 Q1242.83 1545.82 1244.63 1542.27 Q1246.46 1538.71 1246.46 1531.6 Q1246.46 1524.47 1244.63 1520.93 Q1242.83 1517.37 1239.19 1517.37 M1239.19 1513.66 Q1245 1513.66 1248.06 1518.27 Q1251.14 1522.85 1251.14 1531.6 Q1251.14 1540.33 1248.06 1544.94 Q1245 1549.52 1239.19 1549.52 Q1233.38 1549.52 1230.3 1544.94 Q1227.25 1540.33 1227.25 1531.6 Q1227.25 1522.85 1230.3 1518.27 Q1233.38 1513.66 1239.19 1513.66 Z\" fill=\"#f8f8f2\" fill-rule=\"nonzero\" fill-opacity=\"1\" /><path clip-path=\"url(#clip690)\" d=\"M1259.35 1542.97 L1264.24 1542.97 L1264.24 1548.85 L1259.35 1548.85 L1259.35 1542.97 Z\" fill=\"#f8f8f2\" fill-rule=\"nonzero\" fill-opacity=\"1\" /><path clip-path=\"url(#clip690)\" d=\"M1274.47 1514.29 L1292.83 1514.29 L1292.83 1518.22 L1278.75 1518.22 L1278.75 1526.7 Q1279.77 1526.35 1280.79 1526.19 Q1281.81 1526 1282.83 1526 Q1288.61 1526 1291.99 1529.17 Q1295.37 1532.34 1295.37 1537.76 Q1295.37 1543.34 1291.9 1546.44 Q1288.43 1549.52 1282.11 1549.52 Q1279.93 1549.52 1277.66 1549.15 Q1275.42 1548.78 1273.01 1548.04 L1273.01 1543.34 Q1275.09 1544.47 1277.32 1545.03 Q1279.54 1545.58 1282.01 1545.58 Q1286.02 1545.58 1288.36 1543.48 Q1290.7 1541.37 1290.7 1537.76 Q1290.7 1534.15 1288.36 1532.04 Q1286.02 1529.94 1282.01 1529.94 Q1280.14 1529.94 1278.26 1530.35 Q1276.41 1530.77 1274.47 1531.65 L1274.47 1514.29 Z\" fill=\"#f8f8f2\" fill-rule=\"nonzero\" fill-opacity=\"1\" /><path clip-path=\"url(#clip690)\" d=\"M1314.58 1517.37 Q1310.97 1517.37 1309.14 1520.93 Q1307.34 1524.47 1307.34 1531.6 Q1307.34 1538.71 1309.14 1542.27 Q1310.97 1545.82 1314.58 1545.82 Q1318.22 1545.82 1320.02 1542.27 Q1321.85 1538.71 1321.85 1531.6 Q1321.85 1524.47 1320.02 1520.93 Q1318.22 1517.37 1314.58 1517.37 M1314.58 1513.66 Q1320.39 1513.66 1323.45 1518.27 Q1326.53 1522.85 1326.53 1531.6 Q1326.53 1540.33 1323.45 1544.94 Q1320.39 1549.52 1314.58 1549.52 Q1308.77 1549.52 1305.7 1544.94 Q1302.64 1540.33 1302.64 1531.6 Q1302.64 1522.85 1305.7 1518.27 Q1308.77 1513.66 1314.58 1513.66 Z\" fill=\"#f8f8f2\" fill-rule=\"nonzero\" fill-opacity=\"1\" /><path clip-path=\"url(#clip690)\" d=\"M1718.45 1517.37 Q1714.84 1517.37 1713.01 1520.93 Q1711.2 1524.47 1711.2 1531.6 Q1711.2 1538.71 1713.01 1542.27 Q1714.84 1545.82 1718.45 1545.82 Q1722.08 1545.82 1723.89 1542.27 Q1725.72 1538.71 1725.72 1531.6 Q1725.72 1524.47 1723.89 1520.93 Q1722.08 1517.37 1718.45 1517.37 M1718.45 1513.66 Q1724.26 1513.66 1727.31 1518.27 Q1730.39 1522.85 1730.39 1531.6 Q1730.39 1540.33 1727.31 1544.94 Q1724.26 1549.52 1718.45 1549.52 Q1712.64 1549.52 1709.56 1544.94 Q1706.5 1540.33 1706.5 1531.6 Q1706.5 1522.85 1709.56 1518.27 Q1712.64 1513.66 1718.45 1513.66 Z\" fill=\"#f8f8f2\" fill-rule=\"nonzero\" fill-opacity=\"1\" /><path clip-path=\"url(#clip690)\" d=\"M1738.61 1542.97 L1743.49 1542.97 L1743.49 1548.85 L1738.61 1548.85 L1738.61 1542.97 Z\" fill=\"#f8f8f2\" fill-rule=\"nonzero\" fill-opacity=\"1\" /><path clip-path=\"url(#clip690)\" d=\"M1752.5 1514.29 L1774.72 1514.29 L1774.72 1516.28 L1762.17 1548.85 L1757.29 1548.85 L1769.1 1518.22 L1752.5 1518.22 L1752.5 1514.29 Z\" fill=\"#f8f8f2\" fill-rule=\"nonzero\" fill-opacity=\"1\" /><path clip-path=\"url(#clip690)\" d=\"M1783.89 1514.29 L1802.24 1514.29 L1802.24 1518.22 L1788.17 1518.22 L1788.17 1526.7 Q1789.19 1526.35 1790.21 1526.19 Q1791.23 1526 1792.24 1526 Q1798.03 1526 1801.41 1529.17 Q1804.79 1532.34 1804.79 1537.76 Q1804.79 1543.34 1801.32 1546.44 Q1797.85 1549.52 1791.53 1549.52 Q1789.35 1549.52 1787.08 1549.15 Q1784.84 1548.78 1782.43 1548.04 L1782.43 1543.34 Q1784.51 1544.47 1786.73 1545.03 Q1788.96 1545.58 1791.43 1545.58 Q1795.44 1545.58 1797.78 1543.48 Q1800.11 1541.37 1800.11 1537.76 Q1800.11 1534.15 1797.78 1532.04 Q1795.44 1529.94 1791.43 1529.94 Q1789.56 1529.94 1787.68 1530.35 Q1785.83 1530.77 1783.89 1531.65 L1783.89 1514.29 Z\" fill=\"#f8f8f2\" fill-rule=\"nonzero\" fill-opacity=\"1\" /><path clip-path=\"url(#clip690)\" d=\"M2186.48 1544.91 L2194.12 1544.91 L2194.12 1518.55 L2185.81 1520.21 L2185.81 1515.95 L2194.07 1514.29 L2198.75 1514.29 L2198.75 1544.91 L2206.39 1544.91 L2206.39 1548.85 L2186.48 1548.85 L2186.48 1544.91 Z\" fill=\"#f8f8f2\" fill-rule=\"nonzero\" fill-opacity=\"1\" /><path clip-path=\"url(#clip690)\" d=\"M2215.83 1542.97 L2220.71 1542.97 L2220.71 1548.85 L2215.83 1548.85 L2215.83 1542.97 Z\" fill=\"#f8f8f2\" fill-rule=\"nonzero\" fill-opacity=\"1\" /><path clip-path=\"url(#clip690)\" d=\"M2240.9 1517.37 Q2237.29 1517.37 2235.46 1520.93 Q2233.65 1524.47 2233.65 1531.6 Q2233.65 1538.71 2235.46 1542.27 Q2237.29 1545.82 2240.9 1545.82 Q2244.53 1545.82 2246.34 1542.27 Q2248.17 1538.71 2248.17 1531.6 Q2248.17 1524.47 2246.34 1520.93 Q2244.53 1517.37 2240.9 1517.37 M2240.9 1513.66 Q2246.71 1513.66 2249.77 1518.27 Q2252.84 1522.85 2252.84 1531.6 Q2252.84 1540.33 2249.77 1544.94 Q2246.71 1549.52 2240.9 1549.52 Q2235.09 1549.52 2232.01 1544.94 Q2228.96 1540.33 2228.96 1531.6 Q2228.96 1522.85 2232.01 1518.27 Q2235.09 1513.66 2240.9 1513.66 Z\" fill=\"#f8f8f2\" fill-rule=\"nonzero\" fill-opacity=\"1\" /><path clip-path=\"url(#clip690)\" d=\"M2271.06 1517.37 Q2267.45 1517.37 2265.62 1520.93 Q2263.82 1524.47 2263.82 1531.6 Q2263.82 1538.71 2265.62 1542.27 Q2267.45 1545.82 2271.06 1545.82 Q2274.7 1545.82 2276.5 1542.27 Q2278.33 1538.71 2278.33 1531.6 Q2278.33 1524.47 2276.5 1520.93 Q2274.7 1517.37 2271.06 1517.37 M2271.06 1513.66 Q2276.87 1513.66 2279.93 1518.27 Q2283.01 1522.85 2283.01 1531.6 Q2283.01 1540.33 2279.93 1544.94 Q2276.87 1549.52 2271.06 1549.52 Q2265.25 1549.52 2262.17 1544.94 Q2259.12 1540.33 2259.12 1531.6 Q2259.12 1522.85 2262.17 1518.27 Q2265.25 1513.66 2271.06 1513.66 Z\" fill=\"#f8f8f2\" fill-rule=\"nonzero\" fill-opacity=\"1\" /><polyline clip-path=\"url(#clip692)\" style=\"stroke:#f8f8f2; stroke-linecap:round; stroke-linejoin:round; stroke-width:2; stroke-opacity:0.1; fill:none\" points=\"201.019,1486.45 2352.76,1486.45 \"/>\n",
       "<polyline clip-path=\"url(#clip692)\" style=\"stroke:#f8f8f2; stroke-linecap:round; stroke-linejoin:round; stroke-width:2; stroke-opacity:0.1; fill:none\" points=\"201.019,1146.21 2352.76,1146.21 \"/>\n",
       "<polyline clip-path=\"url(#clip692)\" style=\"stroke:#f8f8f2; stroke-linecap:round; stroke-linejoin:round; stroke-width:2; stroke-opacity:0.1; fill:none\" points=\"201.019,805.973 2352.76,805.973 \"/>\n",
       "<polyline clip-path=\"url(#clip692)\" style=\"stroke:#f8f8f2; stroke-linecap:round; stroke-linejoin:round; stroke-width:2; stroke-opacity:0.1; fill:none\" points=\"201.019,465.736 2352.76,465.736 \"/>\n",
       "<polyline clip-path=\"url(#clip692)\" style=\"stroke:#f8f8f2; stroke-linecap:round; stroke-linejoin:round; stroke-width:2; stroke-opacity:0.1; fill:none\" points=\"201.019,125.499 2352.76,125.499 \"/>\n",
       "<polyline clip-path=\"url(#clip690)\" style=\"stroke:#f8f8f2; stroke-linecap:round; stroke-linejoin:round; stroke-width:4; stroke-opacity:1; fill:none\" points=\"201.019,1486.45 201.019,47.2441 \"/>\n",
       "<polyline clip-path=\"url(#clip690)\" style=\"stroke:#f8f8f2; stroke-linecap:round; stroke-linejoin:round; stroke-width:4; stroke-opacity:1; fill:none\" points=\"201.019,1486.45 219.917,1486.45 \"/>\n",
       "<polyline clip-path=\"url(#clip690)\" style=\"stroke:#f8f8f2; stroke-linecap:round; stroke-linejoin:round; stroke-width:4; stroke-opacity:1; fill:none\" points=\"201.019,1146.21 219.917,1146.21 \"/>\n",
       "<polyline clip-path=\"url(#clip690)\" style=\"stroke:#f8f8f2; stroke-linecap:round; stroke-linejoin:round; stroke-width:4; stroke-opacity:1; fill:none\" points=\"201.019,805.973 219.917,805.973 \"/>\n",
       "<polyline clip-path=\"url(#clip690)\" style=\"stroke:#f8f8f2; stroke-linecap:round; stroke-linejoin:round; stroke-width:4; stroke-opacity:1; fill:none\" points=\"201.019,465.736 219.917,465.736 \"/>\n",
       "<polyline clip-path=\"url(#clip690)\" style=\"stroke:#f8f8f2; stroke-linecap:round; stroke-linejoin:round; stroke-width:4; stroke-opacity:1; fill:none\" points=\"201.019,125.499 219.917,125.499 \"/>\n",
       "<path clip-path=\"url(#clip690)\" d=\"M153.075 1472.25 Q149.464 1472.25 147.635 1475.81 Q145.83 1479.35 145.83 1486.48 Q145.83 1493.59 147.635 1497.15 Q149.464 1500.7 153.075 1500.7 Q156.709 1500.7 158.515 1497.15 Q160.343 1493.59 160.343 1486.48 Q160.343 1479.35 158.515 1475.81 Q156.709 1472.25 153.075 1472.25 M153.075 1468.54 Q158.885 1468.54 161.941 1473.15 Q165.019 1477.73 165.019 1486.48 Q165.019 1495.21 161.941 1499.82 Q158.885 1504.4 153.075 1504.4 Q147.265 1504.4 144.186 1499.82 Q141.131 1495.21 141.131 1486.48 Q141.131 1477.73 144.186 1473.15 Q147.265 1468.54 153.075 1468.54 Z\" fill=\"#f8f8f2\" fill-rule=\"nonzero\" fill-opacity=\"1\" /><path clip-path=\"url(#clip690)\" d=\"M82.7975 1128.93 L101.154 1128.93 L101.154 1132.87 L87.0799 1132.87 L87.0799 1141.34 Q88.0984 1140.99 89.1169 1140.83 Q90.1354 1140.64 91.1539 1140.64 Q96.941 1140.64 100.321 1143.81 Q103.7 1146.99 103.7 1152.4 Q103.7 1157.98 100.228 1161.08 Q96.7558 1164.16 90.4364 1164.16 Q88.2604 1164.16 85.9919 1163.79 Q83.7466 1163.42 81.3392 1162.68 L81.3392 1157.98 Q83.4225 1159.12 85.6447 1159.67 Q87.8669 1160.23 90.3438 1160.23 Q94.3484 1160.23 96.6863 1158.12 Q99.0243 1156.01 99.0243 1152.4 Q99.0243 1148.79 96.6863 1146.69 Q94.3484 1144.58 90.3438 1144.58 Q88.4688 1144.58 86.5938 1145 Q84.7419 1145.41 82.7975 1146.29 L82.7975 1128.93 Z\" fill=\"#f8f8f2\" fill-rule=\"nonzero\" fill-opacity=\"1\" /><path clip-path=\"url(#clip690)\" d=\"M122.913 1132.01 Q119.302 1132.01 117.473 1135.57 Q115.668 1139.12 115.668 1146.25 Q115.668 1153.35 117.473 1156.92 Q119.302 1160.46 122.913 1160.46 Q126.547 1160.46 128.353 1156.92 Q130.182 1153.35 130.182 1146.25 Q130.182 1139.12 128.353 1135.57 Q126.547 1132.01 122.913 1132.01 M122.913 1128.31 Q128.723 1128.31 131.779 1132.91 Q134.857 1137.5 134.857 1146.25 Q134.857 1154.97 131.779 1159.58 Q128.723 1164.16 122.913 1164.16 Q117.103 1164.16 114.024 1159.58 Q110.969 1154.97 110.969 1146.25 Q110.969 1137.5 114.024 1132.91 Q117.103 1128.31 122.913 1128.31 Z\" fill=\"#f8f8f2\" fill-rule=\"nonzero\" fill-opacity=\"1\" /><path clip-path=\"url(#clip690)\" d=\"M153.075 1132.01 Q149.464 1132.01 147.635 1135.57 Q145.83 1139.12 145.83 1146.25 Q145.83 1153.35 147.635 1156.92 Q149.464 1160.46 153.075 1160.46 Q156.709 1160.46 158.515 1156.92 Q160.343 1153.35 160.343 1146.25 Q160.343 1139.12 158.515 1135.57 Q156.709 1132.01 153.075 1132.01 M153.075 1128.31 Q158.885 1128.31 161.941 1132.91 Q165.019 1137.5 165.019 1146.25 Q165.019 1154.97 161.941 1159.58 Q158.885 1164.16 153.075 1164.16 Q147.265 1164.16 144.186 1159.58 Q141.131 1154.97 141.131 1146.25 Q141.131 1137.5 144.186 1132.91 Q147.265 1128.31 153.075 1128.31 Z\" fill=\"#f8f8f2\" fill-rule=\"nonzero\" fill-opacity=\"1\" /><path clip-path=\"url(#clip690)\" d=\"M53.3995 819.318 L61.0384 819.318 L61.0384 792.953 L52.7282 794.619 L52.7282 790.36 L60.9921 788.693 L65.668 788.693 L65.668 819.318 L73.3068 819.318 L73.3068 823.253 L53.3995 823.253 L53.3995 819.318 Z\" fill=\"#f8f8f2\" fill-rule=\"nonzero\" fill-opacity=\"1\" /><path clip-path=\"url(#clip690)\" d=\"M92.7512 791.772 Q89.1401 791.772 87.3114 795.337 Q85.5058 798.878 85.5058 806.008 Q85.5058 813.114 87.3114 816.679 Q89.1401 820.221 92.7512 820.221 Q96.3854 820.221 98.1909 816.679 Q100.02 813.114 100.02 806.008 Q100.02 798.878 98.1909 795.337 Q96.3854 791.772 92.7512 791.772 M92.7512 788.068 Q98.5613 788.068 101.617 792.675 Q104.696 797.258 104.696 806.008 Q104.696 814.735 101.617 819.341 Q98.5613 823.925 92.7512 823.925 Q86.941 823.925 83.8623 819.341 Q80.8068 814.735 80.8068 806.008 Q80.8068 797.258 83.8623 792.675 Q86.941 788.068 92.7512 788.068 Z\" fill=\"#f8f8f2\" fill-rule=\"nonzero\" fill-opacity=\"1\" /><path clip-path=\"url(#clip690)\" d=\"M122.913 791.772 Q119.302 791.772 117.473 795.337 Q115.668 798.878 115.668 806.008 Q115.668 813.114 117.473 816.679 Q119.302 820.221 122.913 820.221 Q126.547 820.221 128.353 816.679 Q130.182 813.114 130.182 806.008 Q130.182 798.878 128.353 795.337 Q126.547 791.772 122.913 791.772 M122.913 788.068 Q128.723 788.068 131.779 792.675 Q134.857 797.258 134.857 806.008 Q134.857 814.735 131.779 819.341 Q128.723 823.925 122.913 823.925 Q117.103 823.925 114.024 819.341 Q110.969 814.735 110.969 806.008 Q110.969 797.258 114.024 792.675 Q117.103 788.068 122.913 788.068 Z\" fill=\"#f8f8f2\" fill-rule=\"nonzero\" fill-opacity=\"1\" /><path clip-path=\"url(#clip690)\" d=\"M153.075 791.772 Q149.464 791.772 147.635 795.337 Q145.83 798.878 145.83 806.008 Q145.83 813.114 147.635 816.679 Q149.464 820.221 153.075 820.221 Q156.709 820.221 158.515 816.679 Q160.343 813.114 160.343 806.008 Q160.343 798.878 158.515 795.337 Q156.709 791.772 153.075 791.772 M153.075 788.068 Q158.885 788.068 161.941 792.675 Q165.019 797.258 165.019 806.008 Q165.019 814.735 161.941 819.341 Q158.885 823.925 153.075 823.925 Q147.265 823.925 144.186 819.341 Q141.131 814.735 141.131 806.008 Q141.131 797.258 144.186 792.675 Q147.265 788.068 153.075 788.068 Z\" fill=\"#f8f8f2\" fill-rule=\"nonzero\" fill-opacity=\"1\" /><path clip-path=\"url(#clip690)\" d=\"M53.3995 479.081 L61.0384 479.081 L61.0384 452.715 L52.7282 454.382 L52.7282 450.123 L60.9921 448.456 L65.668 448.456 L65.668 479.081 L73.3068 479.081 L73.3068 483.016 L53.3995 483.016 L53.3995 479.081 Z\" fill=\"#f8f8f2\" fill-rule=\"nonzero\" fill-opacity=\"1\" /><path clip-path=\"url(#clip690)\" d=\"M82.7975 448.456 L101.154 448.456 L101.154 452.391 L87.0799 452.391 L87.0799 460.863 Q88.0984 460.516 89.1169 460.354 Q90.1354 460.169 91.1539 460.169 Q96.941 460.169 100.321 463.34 Q103.7 466.511 103.7 471.928 Q103.7 477.507 100.228 480.609 Q96.7558 483.687 90.4364 483.687 Q88.2604 483.687 85.9919 483.317 Q83.7466 482.947 81.3392 482.206 L81.3392 477.507 Q83.4225 478.641 85.6447 479.197 Q87.8669 479.752 90.3438 479.752 Q94.3484 479.752 96.6863 477.646 Q99.0243 475.539 99.0243 471.928 Q99.0243 468.317 96.6863 466.211 Q94.3484 464.104 90.3438 464.104 Q88.4688 464.104 86.5938 464.521 Q84.7419 464.937 82.7975 465.817 L82.7975 448.456 Z\" fill=\"#f8f8f2\" fill-rule=\"nonzero\" fill-opacity=\"1\" /><path clip-path=\"url(#clip690)\" d=\"M122.913 451.535 Q119.302 451.535 117.473 455.099 Q115.668 458.641 115.668 465.771 Q115.668 472.877 117.473 476.442 Q119.302 479.984 122.913 479.984 Q126.547 479.984 128.353 476.442 Q130.182 472.877 130.182 465.771 Q130.182 458.641 128.353 455.099 Q126.547 451.535 122.913 451.535 M122.913 447.831 Q128.723 447.831 131.779 452.437 Q134.857 457.021 134.857 465.771 Q134.857 474.498 131.779 479.104 Q128.723 483.687 122.913 483.687 Q117.103 483.687 114.024 479.104 Q110.969 474.498 110.969 465.771 Q110.969 457.021 114.024 452.437 Q117.103 447.831 122.913 447.831 Z\" fill=\"#f8f8f2\" fill-rule=\"nonzero\" fill-opacity=\"1\" /><path clip-path=\"url(#clip690)\" d=\"M153.075 451.535 Q149.464 451.535 147.635 455.099 Q145.83 458.641 145.83 465.771 Q145.83 472.877 147.635 476.442 Q149.464 479.984 153.075 479.984 Q156.709 479.984 158.515 476.442 Q160.343 472.877 160.343 465.771 Q160.343 458.641 158.515 455.099 Q156.709 451.535 153.075 451.535 M153.075 447.831 Q158.885 447.831 161.941 452.437 Q165.019 457.021 165.019 465.771 Q165.019 474.498 161.941 479.104 Q158.885 483.687 153.075 483.687 Q147.265 483.687 144.186 479.104 Q141.131 474.498 141.131 465.771 Q141.131 457.021 144.186 452.437 Q147.265 447.831 153.075 447.831 Z\" fill=\"#f8f8f2\" fill-rule=\"nonzero\" fill-opacity=\"1\" /><path clip-path=\"url(#clip690)\" d=\"M56.6171 138.844 L72.9365 138.844 L72.9365 142.779 L50.9921 142.779 L50.9921 138.844 Q53.6541 136.089 58.2375 131.459 Q62.8439 126.807 64.0245 125.464 Q66.2698 122.941 67.1494 121.205 Q68.0522 119.445 68.0522 117.756 Q68.0522 115.001 66.1078 113.265 Q64.1865 111.529 61.0847 111.529 Q58.8856 111.529 56.4319 112.293 Q54.0014 113.057 51.2236 114.608 L51.2236 109.885 Q54.0477 108.751 56.5014 108.172 Q58.955 107.594 60.9921 107.594 Q66.3624 107.594 69.5568 110.279 Q72.7513 112.964 72.7513 117.455 Q72.7513 119.584 71.9411 121.506 Q71.1541 123.404 69.0476 125.996 Q68.4689 126.668 65.367 129.885 Q62.2652 133.08 56.6171 138.844 Z\" fill=\"#f8f8f2\" fill-rule=\"nonzero\" fill-opacity=\"1\" /><path clip-path=\"url(#clip690)\" d=\"M92.7512 111.297 Q89.1401 111.297 87.3114 114.862 Q85.5058 118.404 85.5058 125.533 Q85.5058 132.64 87.3114 136.205 Q89.1401 139.746 92.7512 139.746 Q96.3854 139.746 98.1909 136.205 Q100.02 132.64 100.02 125.533 Q100.02 118.404 98.1909 114.862 Q96.3854 111.297 92.7512 111.297 M92.7512 107.594 Q98.5613 107.594 101.617 112.2 Q104.696 116.783 104.696 125.533 Q104.696 134.26 101.617 138.867 Q98.5613 143.45 92.7512 143.45 Q86.941 143.45 83.8623 138.867 Q80.8068 134.26 80.8068 125.533 Q80.8068 116.783 83.8623 112.2 Q86.941 107.594 92.7512 107.594 Z\" fill=\"#f8f8f2\" fill-rule=\"nonzero\" fill-opacity=\"1\" /><path clip-path=\"url(#clip690)\" d=\"M122.913 111.297 Q119.302 111.297 117.473 114.862 Q115.668 118.404 115.668 125.533 Q115.668 132.64 117.473 136.205 Q119.302 139.746 122.913 139.746 Q126.547 139.746 128.353 136.205 Q130.182 132.64 130.182 125.533 Q130.182 118.404 128.353 114.862 Q126.547 111.297 122.913 111.297 M122.913 107.594 Q128.723 107.594 131.779 112.2 Q134.857 116.783 134.857 125.533 Q134.857 134.26 131.779 138.867 Q128.723 143.45 122.913 143.45 Q117.103 143.45 114.024 138.867 Q110.969 134.26 110.969 125.533 Q110.969 116.783 114.024 112.2 Q117.103 107.594 122.913 107.594 Z\" fill=\"#f8f8f2\" fill-rule=\"nonzero\" fill-opacity=\"1\" /><path clip-path=\"url(#clip690)\" d=\"M153.075 111.297 Q149.464 111.297 147.635 114.862 Q145.83 118.404 145.83 125.533 Q145.83 132.64 147.635 136.205 Q149.464 139.746 153.075 139.746 Q156.709 139.746 158.515 136.205 Q160.343 132.64 160.343 125.533 Q160.343 118.404 158.515 114.862 Q156.709 111.297 153.075 111.297 M153.075 107.594 Q158.885 107.594 161.941 112.2 Q165.019 116.783 165.019 125.533 Q165.019 134.26 161.941 138.867 Q158.885 143.45 153.075 143.45 Q147.265 143.45 144.186 138.867 Q141.131 134.26 141.131 125.533 Q141.131 116.783 144.186 112.2 Q147.265 107.594 153.075 107.594 Z\" fill=\"#f8f8f2\" fill-rule=\"nonzero\" fill-opacity=\"1\" /><path clip-path=\"url(#clip692)\" d=\"M319.369 93.5164 L319.369 1486.45 L357.669 1486.45 L357.669 93.5164 L319.369 93.5164 L319.369 93.5164  Z\" fill=\"#8be9fd\" fill-rule=\"evenodd\" fill-opacity=\"1\"/>\n",
       "<polyline clip-path=\"url(#clip692)\" style=\"stroke:#f8f8f2; stroke-linecap:round; stroke-linejoin:round; stroke-width:4; stroke-opacity:1; fill:none\" points=\"319.369,93.5164 319.369,1486.45 357.669,1486.45 357.669,93.5164 319.369,93.5164 \"/>\n",
       "<path clip-path=\"url(#clip692)\" d=\"M357.669 161.564 L357.669 1486.45 L395.97 1486.45 L395.97 161.564 L357.669 161.564 L357.669 161.564  Z\" fill=\"#8be9fd\" fill-rule=\"evenodd\" fill-opacity=\"1\"/>\n",
       "<polyline clip-path=\"url(#clip692)\" style=\"stroke:#f8f8f2; stroke-linecap:round; stroke-linejoin:round; stroke-width:4; stroke-opacity:1; fill:none\" points=\"357.669,161.564 357.669,1486.45 395.97,1486.45 395.97,161.564 357.669,161.564 \"/>\n",
       "<path clip-path=\"url(#clip692)\" d=\"M395.97 109.848 L395.97 1486.45 L434.271 1486.45 L434.271 109.848 L395.97 109.848 L395.97 109.848  Z\" fill=\"#8be9fd\" fill-rule=\"evenodd\" fill-opacity=\"1\"/>\n",
       "<polyline clip-path=\"url(#clip692)\" style=\"stroke:#f8f8f2; stroke-linecap:round; stroke-linejoin:round; stroke-width:4; stroke-opacity:1; fill:none\" points=\"395.97,109.848 395.97,1486.45 434.271,1486.45 434.271,109.848 395.97,109.848 \"/>\n",
       "<path clip-path=\"url(#clip692)\" d=\"M434.271 113.931 L434.271 1486.45 L472.572 1486.45 L472.572 113.931 L434.271 113.931 L434.271 113.931  Z\" fill=\"#8be9fd\" fill-rule=\"evenodd\" fill-opacity=\"1\"/>\n",
       "<polyline clip-path=\"url(#clip692)\" style=\"stroke:#f8f8f2; stroke-linecap:round; stroke-linejoin:round; stroke-width:4; stroke-opacity:1; fill:none\" points=\"434.271,113.931 434.271,1486.45 472.572,1486.45 472.572,113.931 434.271,113.931 \"/>\n",
       "<path clip-path=\"url(#clip692)\" d=\"M472.572 71.0607 L472.572 1486.45 L510.872 1486.45 L510.872 71.0607 L472.572 71.0607 L472.572 71.0607  Z\" fill=\"#8be9fd\" fill-rule=\"evenodd\" fill-opacity=\"1\"/>\n",
       "<polyline clip-path=\"url(#clip692)\" style=\"stroke:#f8f8f2; stroke-linecap:round; stroke-linejoin:round; stroke-width:4; stroke-opacity:1; fill:none\" points=\"472.572,71.0607 472.572,1486.45 510.872,1486.45 510.872,71.0607 472.572,71.0607 \"/>\n",
       "<path clip-path=\"url(#clip692)\" d=\"M510.872 130.262 L510.872 1486.45 L549.173 1486.45 L549.173 130.262 L510.872 130.262 L510.872 130.262  Z\" fill=\"#8be9fd\" fill-rule=\"evenodd\" fill-opacity=\"1\"/>\n",
       "<polyline clip-path=\"url(#clip692)\" style=\"stroke:#f8f8f2; stroke-linecap:round; stroke-linejoin:round; stroke-width:4; stroke-opacity:1; fill:none\" points=\"510.872,130.262 510.872,1486.45 549.173,1486.45 549.173,130.262 510.872,130.262 \"/>\n",
       "<path clip-path=\"url(#clip692)\" d=\"M549.173 175.854 L549.173 1486.45 L587.474 1486.45 L587.474 175.854 L549.173 175.854 L549.173 175.854  Z\" fill=\"#8be9fd\" fill-rule=\"evenodd\" fill-opacity=\"1\"/>\n",
       "<polyline clip-path=\"url(#clip692)\" style=\"stroke:#f8f8f2; stroke-linecap:round; stroke-linejoin:round; stroke-width:4; stroke-opacity:1; fill:none\" points=\"549.173,175.854 549.173,1486.45 587.474,1486.45 587.474,175.854 549.173,175.854 \"/>\n",
       "<path clip-path=\"url(#clip692)\" d=\"M587.474 77.185 L587.474 1486.45 L625.775 1486.45 L625.775 77.185 L587.474 77.185 L587.474 77.185  Z\" fill=\"#8be9fd\" fill-rule=\"evenodd\" fill-opacity=\"1\"/>\n",
       "<polyline clip-path=\"url(#clip692)\" style=\"stroke:#f8f8f2; stroke-linecap:round; stroke-linejoin:round; stroke-width:4; stroke-opacity:1; fill:none\" points=\"587.474,77.185 587.474,1486.45 625.775,1486.45 625.775,77.185 587.474,77.185 \"/>\n",
       "<path clip-path=\"url(#clip692)\" d=\"M625.775 47.2441 L625.775 1486.45 L664.075 1486.45 L664.075 47.2441 L625.775 47.2441 L625.775 47.2441  Z\" fill=\"#8be9fd\" fill-rule=\"evenodd\" fill-opacity=\"1\"/>\n",
       "<polyline clip-path=\"url(#clip692)\" style=\"stroke:#f8f8f2; stroke-linecap:round; stroke-linejoin:round; stroke-width:4; stroke-opacity:1; fill:none\" points=\"625.775,47.2441 625.775,1486.45 664.075,1486.45 664.075,47.2441 625.775,47.2441 \"/>\n",
       "<path clip-path=\"url(#clip692)\" d=\"M664.075 113.931 L664.075 1486.45 L702.376 1486.45 L702.376 113.931 L664.075 113.931 L664.075 113.931  Z\" fill=\"#8be9fd\" fill-rule=\"evenodd\" fill-opacity=\"1\"/>\n",
       "<polyline clip-path=\"url(#clip692)\" style=\"stroke:#f8f8f2; stroke-linecap:round; stroke-linejoin:round; stroke-width:4; stroke-opacity:1; fill:none\" points=\"664.075,113.931 664.075,1486.45 702.376,1486.45 702.376,113.931 664.075,113.931 \"/>\n",
       "<path clip-path=\"url(#clip692)\" d=\"M702.376 125.499 L702.376 1486.45 L740.677 1486.45 L740.677 125.499 L702.376 125.499 L702.376 125.499  Z\" fill=\"#8be9fd\" fill-rule=\"evenodd\" fill-opacity=\"1\"/>\n",
       "<polyline clip-path=\"url(#clip692)\" style=\"stroke:#f8f8f2; stroke-linecap:round; stroke-linejoin:round; stroke-width:4; stroke-opacity:1; fill:none\" points=\"702.376,125.499 702.376,1486.45 740.677,1486.45 740.677,125.499 702.376,125.499 \"/>\n",
       "<path clip-path=\"url(#clip692)\" d=\"M740.677 143.871 L740.677 1486.45 L778.978 1486.45 L778.978 143.871 L740.677 143.871 L740.677 143.871  Z\" fill=\"#8be9fd\" fill-rule=\"evenodd\" fill-opacity=\"1\"/>\n",
       "<polyline clip-path=\"url(#clip692)\" style=\"stroke:#f8f8f2; stroke-linecap:round; stroke-linejoin:round; stroke-width:4; stroke-opacity:1; fill:none\" points=\"740.677,143.871 740.677,1486.45 778.978,1486.45 778.978,143.871 740.677,143.871 \"/>\n",
       "<path clip-path=\"url(#clip692)\" d=\"M778.978 88.0726 L778.978 1486.45 L817.278 1486.45 L817.278 88.0726 L778.978 88.0726 L778.978 88.0726  Z\" fill=\"#8be9fd\" fill-rule=\"evenodd\" fill-opacity=\"1\"/>\n",
       "<polyline clip-path=\"url(#clip692)\" style=\"stroke:#f8f8f2; stroke-linecap:round; stroke-linejoin:round; stroke-width:4; stroke-opacity:1; fill:none\" points=\"778.978,88.0726 778.978,1486.45 817.278,1486.45 817.278,88.0726 778.978,88.0726 \"/>\n",
       "<path clip-path=\"url(#clip692)\" d=\"M817.278 139.789 L817.278 1486.45 L855.579 1486.45 L855.579 139.789 L817.278 139.789 L817.278 139.789  Z\" fill=\"#8be9fd\" fill-rule=\"evenodd\" fill-opacity=\"1\"/>\n",
       "<polyline clip-path=\"url(#clip692)\" style=\"stroke:#f8f8f2; stroke-linecap:round; stroke-linejoin:round; stroke-width:4; stroke-opacity:1; fill:none\" points=\"817.278,139.789 817.278,1486.45 855.579,1486.45 855.579,139.789 817.278,139.789 \"/>\n",
       "<path clip-path=\"url(#clip692)\" d=\"M855.579 147.954 L855.579 1486.45 L893.88 1486.45 L893.88 147.954 L855.579 147.954 L855.579 147.954  Z\" fill=\"#8be9fd\" fill-rule=\"evenodd\" fill-opacity=\"1\"/>\n",
       "<polyline clip-path=\"url(#clip692)\" style=\"stroke:#f8f8f2; stroke-linecap:round; stroke-linejoin:round; stroke-width:4; stroke-opacity:1; fill:none\" points=\"855.579,147.954 855.579,1486.45 893.88,1486.45 893.88,147.954 855.579,147.954 \"/>\n",
       "<path clip-path=\"url(#clip692)\" d=\"M893.88 102.363 L893.88 1486.45 L932.181 1486.45 L932.181 102.363 L893.88 102.363 L893.88 102.363  Z\" fill=\"#8be9fd\" fill-rule=\"evenodd\" fill-opacity=\"1\"/>\n",
       "<polyline clip-path=\"url(#clip692)\" style=\"stroke:#f8f8f2; stroke-linecap:round; stroke-linejoin:round; stroke-width:4; stroke-opacity:1; fill:none\" points=\"893.88,102.363 893.88,1486.45 932.181,1486.45 932.181,102.363 893.88,102.363 \"/>\n",
       "<path clip-path=\"url(#clip692)\" d=\"M932.181 169.049 L932.181 1486.45 L970.482 1486.45 L970.482 169.049 L932.181 169.049 L932.181 169.049  Z\" fill=\"#8be9fd\" fill-rule=\"evenodd\" fill-opacity=\"1\"/>\n",
       "<polyline clip-path=\"url(#clip692)\" style=\"stroke:#f8f8f2; stroke-linecap:round; stroke-linejoin:round; stroke-width:4; stroke-opacity:1; fill:none\" points=\"932.181,169.049 932.181,1486.45 970.482,1486.45 970.482,169.049 932.181,169.049 \"/>\n",
       "<path clip-path=\"url(#clip692)\" d=\"M970.482 134.345 L970.482 1486.45 L1008.78 1486.45 L1008.78 134.345 L970.482 134.345 L970.482 134.345  Z\" fill=\"#8be9fd\" fill-rule=\"evenodd\" fill-opacity=\"1\"/>\n",
       "<polyline clip-path=\"url(#clip692)\" style=\"stroke:#f8f8f2; stroke-linecap:round; stroke-linejoin:round; stroke-width:4; stroke-opacity:1; fill:none\" points=\"970.482,134.345 970.482,1486.45 1008.78,1486.45 1008.78,134.345 970.482,134.345 \"/>\n",
       "<path clip-path=\"url(#clip692)\" d=\"M1008.78 97.5992 L1008.78 1486.45 L1047.08 1486.45 L1047.08 97.5992 L1008.78 97.5992 L1008.78 97.5992  Z\" fill=\"#8be9fd\" fill-rule=\"evenodd\" fill-opacity=\"1\"/>\n",
       "<polyline clip-path=\"url(#clip692)\" style=\"stroke:#f8f8f2; stroke-linecap:round; stroke-linejoin:round; stroke-width:4; stroke-opacity:1; fill:none\" points=\"1008.78,97.5992 1008.78,1486.45 1047.08,1486.45 1047.08,97.5992 1008.78,97.5992 \"/>\n",
       "<path clip-path=\"url(#clip692)\" d=\"M1047.08 75.824 L1047.08 1486.45 L1085.38 1486.45 L1085.38 75.824 L1047.08 75.824 L1047.08 75.824  Z\" fill=\"#8be9fd\" fill-rule=\"evenodd\" fill-opacity=\"1\"/>\n",
       "<polyline clip-path=\"url(#clip692)\" style=\"stroke:#f8f8f2; stroke-linecap:round; stroke-linejoin:round; stroke-width:4; stroke-opacity:1; fill:none\" points=\"1047.08,75.824 1047.08,1486.45 1085.38,1486.45 1085.38,75.824 1047.08,75.824 \"/>\n",
       "<path clip-path=\"url(#clip692)\" d=\"M1085.38 167.008 L1085.38 1486.45 L1123.68 1486.45 L1123.68 167.008 L1085.38 167.008 L1085.38 167.008  Z\" fill=\"#8be9fd\" fill-rule=\"evenodd\" fill-opacity=\"1\"/>\n",
       "<polyline clip-path=\"url(#clip692)\" style=\"stroke:#f8f8f2; stroke-linecap:round; stroke-linejoin:round; stroke-width:4; stroke-opacity:1; fill:none\" points=\"1085.38,167.008 1085.38,1486.45 1123.68,1486.45 1123.68,167.008 1085.38,167.008 \"/>\n",
       "<path clip-path=\"url(#clip692)\" d=\"M1123.68 120.735 L1123.68 1486.45 L1161.99 1486.45 L1161.99 120.735 L1123.68 120.735 L1123.68 120.735  Z\" fill=\"#8be9fd\" fill-rule=\"evenodd\" fill-opacity=\"1\"/>\n",
       "<polyline clip-path=\"url(#clip692)\" style=\"stroke:#f8f8f2; stroke-linecap:round; stroke-linejoin:round; stroke-width:4; stroke-opacity:1; fill:none\" points=\"1123.68,120.735 1123.68,1486.45 1161.99,1486.45 1161.99,120.735 1123.68,120.735 \"/>\n",
       "<path clip-path=\"url(#clip692)\" d=\"M1161.99 91.4749 L1161.99 1486.45 L1200.29 1486.45 L1200.29 91.4749 L1161.99 91.4749 L1161.99 91.4749  Z\" fill=\"#8be9fd\" fill-rule=\"evenodd\" fill-opacity=\"1\"/>\n",
       "<polyline clip-path=\"url(#clip692)\" style=\"stroke:#f8f8f2; stroke-linecap:round; stroke-linejoin:round; stroke-width:4; stroke-opacity:1; fill:none\" points=\"1161.99,91.4749 1161.99,1486.45 1200.29,1486.45 1200.29,91.4749 1161.99,91.4749 \"/>\n",
       "<path clip-path=\"url(#clip692)\" d=\"M1200.29 87.3921 L1200.29 1486.45 L1238.59 1486.45 L1238.59 87.3921 L1200.29 87.3921 L1200.29 87.3921  Z\" fill=\"#8be9fd\" fill-rule=\"evenodd\" fill-opacity=\"1\"/>\n",
       "<polyline clip-path=\"url(#clip692)\" style=\"stroke:#f8f8f2; stroke-linecap:round; stroke-linejoin:round; stroke-width:4; stroke-opacity:1; fill:none\" points=\"1200.29,87.3921 1200.29,1486.45 1238.59,1486.45 1238.59,87.3921 1200.29,87.3921 \"/>\n",
       "<path clip-path=\"url(#clip692)\" d=\"M1238.59 160.203 L1238.59 1486.45 L1276.89 1486.45 L1276.89 160.203 L1238.59 160.203 L1238.59 160.203  Z\" fill=\"#8be9fd\" fill-rule=\"evenodd\" fill-opacity=\"1\"/>\n",
       "<polyline clip-path=\"url(#clip692)\" style=\"stroke:#f8f8f2; stroke-linecap:round; stroke-linejoin:round; stroke-width:4; stroke-opacity:1; fill:none\" points=\"1238.59,160.203 1238.59,1486.45 1276.89,1486.45 1276.89,160.203 1238.59,160.203 \"/>\n",
       "<path clip-path=\"url(#clip692)\" d=\"M1276.89 87.3921 L1276.89 1486.45 L1315.19 1486.45 L1315.19 87.3921 L1276.89 87.3921 L1276.89 87.3921  Z\" fill=\"#8be9fd\" fill-rule=\"evenodd\" fill-opacity=\"1\"/>\n",
       "<polyline clip-path=\"url(#clip692)\" style=\"stroke:#f8f8f2; stroke-linecap:round; stroke-linejoin:round; stroke-width:4; stroke-opacity:1; fill:none\" points=\"1276.89,87.3921 1276.89,1486.45 1315.19,1486.45 1315.19,87.3921 1276.89,87.3921 \"/>\n",
       "<path clip-path=\"url(#clip692)\" d=\"M1315.19 107.806 L1315.19 1486.45 L1353.49 1486.45 L1353.49 107.806 L1315.19 107.806 L1315.19 107.806  Z\" fill=\"#8be9fd\" fill-rule=\"evenodd\" fill-opacity=\"1\"/>\n",
       "<polyline clip-path=\"url(#clip692)\" style=\"stroke:#f8f8f2; stroke-linecap:round; stroke-linejoin:round; stroke-width:4; stroke-opacity:1; fill:none\" points=\"1315.19,107.806 1315.19,1486.45 1353.49,1486.45 1353.49,107.806 1315.19,107.806 \"/>\n",
       "<path clip-path=\"url(#clip692)\" d=\"M1353.49 124.138 L1353.49 1486.45 L1391.79 1486.45 L1391.79 124.138 L1353.49 124.138 L1353.49 124.138  Z\" fill=\"#8be9fd\" fill-rule=\"evenodd\" fill-opacity=\"1\"/>\n",
       "<polyline clip-path=\"url(#clip692)\" style=\"stroke:#f8f8f2; stroke-linecap:round; stroke-linejoin:round; stroke-width:4; stroke-opacity:1; fill:none\" points=\"1353.49,124.138 1353.49,1486.45 1391.79,1486.45 1391.79,124.138 1353.49,124.138 \"/>\n",
       "<path clip-path=\"url(#clip692)\" d=\"M1391.79 159.522 L1391.79 1486.45 L1430.09 1486.45 L1430.09 159.522 L1391.79 159.522 L1391.79 159.522  Z\" fill=\"#8be9fd\" fill-rule=\"evenodd\" fill-opacity=\"1\"/>\n",
       "<polyline clip-path=\"url(#clip692)\" style=\"stroke:#f8f8f2; stroke-linecap:round; stroke-linejoin:round; stroke-width:4; stroke-opacity:1; fill:none\" points=\"1391.79,159.522 1391.79,1486.45 1430.09,1486.45 1430.09,159.522 1391.79,159.522 \"/>\n",
       "<path clip-path=\"url(#clip692)\" d=\"M1430.09 147.274 L1430.09 1486.45 L1468.39 1486.45 L1468.39 147.274 L1430.09 147.274 L1430.09 147.274  Z\" fill=\"#8be9fd\" fill-rule=\"evenodd\" fill-opacity=\"1\"/>\n",
       "<polyline clip-path=\"url(#clip692)\" style=\"stroke:#f8f8f2; stroke-linecap:round; stroke-linejoin:round; stroke-width:4; stroke-opacity:1; fill:none\" points=\"1430.09,147.274 1430.09,1486.45 1468.39,1486.45 1468.39,147.274 1430.09,147.274 \"/>\n",
       "<path clip-path=\"url(#clip692)\" d=\"M1468.39 128.221 L1468.39 1486.45 L1506.69 1486.45 L1506.69 128.221 L1468.39 128.221 L1468.39 128.221  Z\" fill=\"#8be9fd\" fill-rule=\"evenodd\" fill-opacity=\"1\"/>\n",
       "<polyline clip-path=\"url(#clip692)\" style=\"stroke:#f8f8f2; stroke-linecap:round; stroke-linejoin:round; stroke-width:4; stroke-opacity:1; fill:none\" points=\"1468.39,128.221 1468.39,1486.45 1506.69,1486.45 1506.69,128.221 1468.39,128.221 \"/>\n",
       "<path clip-path=\"url(#clip692)\" d=\"M1506.69 166.327 L1506.69 1486.45 L1544.99 1486.45 L1544.99 166.327 L1506.69 166.327 L1506.69 166.327  Z\" fill=\"#8be9fd\" fill-rule=\"evenodd\" fill-opacity=\"1\"/>\n",
       "<polyline clip-path=\"url(#clip692)\" style=\"stroke:#f8f8f2; stroke-linecap:round; stroke-linejoin:round; stroke-width:4; stroke-opacity:1; fill:none\" points=\"1506.69,166.327 1506.69,1486.45 1544.99,1486.45 1544.99,166.327 1506.69,166.327 \"/>\n",
       "<path clip-path=\"url(#clip692)\" d=\"M1544.99 135.706 L1544.99 1486.45 L1583.29 1486.45 L1583.29 135.706 L1544.99 135.706 L1544.99 135.706  Z\" fill=\"#8be9fd\" fill-rule=\"evenodd\" fill-opacity=\"1\"/>\n",
       "<polyline clip-path=\"url(#clip692)\" style=\"stroke:#f8f8f2; stroke-linecap:round; stroke-linejoin:round; stroke-width:4; stroke-opacity:1; fill:none\" points=\"1544.99,135.706 1544.99,1486.45 1583.29,1486.45 1583.29,135.706 1544.99,135.706 \"/>\n",
       "<path clip-path=\"url(#clip692)\" d=\"M1583.29 117.333 L1583.29 1486.45 L1621.59 1486.45 L1621.59 117.333 L1583.29 117.333 L1583.29 117.333  Z\" fill=\"#8be9fd\" fill-rule=\"evenodd\" fill-opacity=\"1\"/>\n",
       "<polyline clip-path=\"url(#clip692)\" style=\"stroke:#f8f8f2; stroke-linecap:round; stroke-linejoin:round; stroke-width:4; stroke-opacity:1; fill:none\" points=\"1583.29,117.333 1583.29,1486.45 1621.59,1486.45 1621.59,117.333 1583.29,117.333 \"/>\n",
       "<path clip-path=\"url(#clip692)\" d=\"M1621.59 141.15 L1621.59 1486.45 L1659.9 1486.45 L1659.9 141.15 L1621.59 141.15 L1621.59 141.15  Z\" fill=\"#8be9fd\" fill-rule=\"evenodd\" fill-opacity=\"1\"/>\n",
       "<polyline clip-path=\"url(#clip692)\" style=\"stroke:#f8f8f2; stroke-linecap:round; stroke-linejoin:round; stroke-width:4; stroke-opacity:1; fill:none\" points=\"1621.59,141.15 1621.59,1486.45 1659.9,1486.45 1659.9,141.15 1621.59,141.15 \"/>\n",
       "<path clip-path=\"url(#clip692)\" d=\"M1659.9 86.7116 L1659.9 1486.45 L1698.2 1486.45 L1698.2 86.7116 L1659.9 86.7116 L1659.9 86.7116  Z\" fill=\"#8be9fd\" fill-rule=\"evenodd\" fill-opacity=\"1\"/>\n",
       "<polyline clip-path=\"url(#clip692)\" style=\"stroke:#f8f8f2; stroke-linecap:round; stroke-linejoin:round; stroke-width:4; stroke-opacity:1; fill:none\" points=\"1659.9,86.7116 1659.9,1486.45 1698.2,1486.45 1698.2,86.7116 1659.9,86.7116 \"/>\n",
       "<path clip-path=\"url(#clip692)\" d=\"M1698.2 162.244 L1698.2 1486.45 L1736.5 1486.45 L1736.5 162.244 L1698.2 162.244 L1698.2 162.244  Z\" fill=\"#8be9fd\" fill-rule=\"evenodd\" fill-opacity=\"1\"/>\n",
       "<polyline clip-path=\"url(#clip692)\" style=\"stroke:#f8f8f2; stroke-linecap:round; stroke-linejoin:round; stroke-width:4; stroke-opacity:1; fill:none\" points=\"1698.2,162.244 1698.2,1486.45 1736.5,1486.45 1736.5,162.244 1698.2,162.244 \"/>\n",
       "<path clip-path=\"url(#clip692)\" d=\"M1736.5 120.735 L1736.5 1486.45 L1774.8 1486.45 L1774.8 120.735 L1736.5 120.735 L1736.5 120.735  Z\" fill=\"#8be9fd\" fill-rule=\"evenodd\" fill-opacity=\"1\"/>\n",
       "<polyline clip-path=\"url(#clip692)\" style=\"stroke:#f8f8f2; stroke-linecap:round; stroke-linejoin:round; stroke-width:4; stroke-opacity:1; fill:none\" points=\"1736.5,120.735 1736.5,1486.45 1774.8,1486.45 1774.8,120.735 1736.5,120.735 \"/>\n",
       "<path clip-path=\"url(#clip692)\" d=\"M1774.8 74.4631 L1774.8 1486.45 L1813.1 1486.45 L1813.1 74.4631 L1774.8 74.4631 L1774.8 74.4631  Z\" fill=\"#8be9fd\" fill-rule=\"evenodd\" fill-opacity=\"1\"/>\n",
       "<polyline clip-path=\"url(#clip692)\" style=\"stroke:#f8f8f2; stroke-linecap:round; stroke-linejoin:round; stroke-width:4; stroke-opacity:1; fill:none\" points=\"1774.8,74.4631 1774.8,1486.45 1813.1,1486.45 1813.1,74.4631 1774.8,74.4631 \"/>\n",
       "<path clip-path=\"url(#clip692)\" d=\"M1813.1 147.954 L1813.1 1486.45 L1851.4 1486.45 L1851.4 147.954 L1813.1 147.954 L1813.1 147.954  Z\" fill=\"#8be9fd\" fill-rule=\"evenodd\" fill-opacity=\"1\"/>\n",
       "<polyline clip-path=\"url(#clip692)\" style=\"stroke:#f8f8f2; stroke-linecap:round; stroke-linejoin:round; stroke-width:4; stroke-opacity:1; fill:none\" points=\"1813.1,147.954 1813.1,1486.45 1851.4,1486.45 1851.4,147.954 1813.1,147.954 \"/>\n",
       "<path clip-path=\"url(#clip692)\" d=\"M1851.4 124.138 L1851.4 1486.45 L1889.7 1486.45 L1889.7 124.138 L1851.4 124.138 L1851.4 124.138  Z\" fill=\"#8be9fd\" fill-rule=\"evenodd\" fill-opacity=\"1\"/>\n",
       "<polyline clip-path=\"url(#clip692)\" style=\"stroke:#f8f8f2; stroke-linecap:round; stroke-linejoin:round; stroke-width:4; stroke-opacity:1; fill:none\" points=\"1851.4,124.138 1851.4,1486.45 1889.7,1486.45 1889.7,124.138 1851.4,124.138 \"/>\n",
       "<path clip-path=\"url(#clip692)\" d=\"M1889.7 156.12 L1889.7 1486.45 L1928 1486.45 L1928 156.12 L1889.7 156.12 L1889.7 156.12  Z\" fill=\"#8be9fd\" fill-rule=\"evenodd\" fill-opacity=\"1\"/>\n",
       "<polyline clip-path=\"url(#clip692)\" style=\"stroke:#f8f8f2; stroke-linecap:round; stroke-linejoin:round; stroke-width:4; stroke-opacity:1; fill:none\" points=\"1889.7,156.12 1889.7,1486.45 1928,1486.45 1928,156.12 1889.7,156.12 \"/>\n",
       "<path clip-path=\"url(#clip692)\" d=\"M1928 118.694 L1928 1486.45 L1966.3 1486.45 L1966.3 118.694 L1928 118.694 L1928 118.694  Z\" fill=\"#8be9fd\" fill-rule=\"evenodd\" fill-opacity=\"1\"/>\n",
       "<polyline clip-path=\"url(#clip692)\" style=\"stroke:#f8f8f2; stroke-linecap:round; stroke-linejoin:round; stroke-width:4; stroke-opacity:1; fill:none\" points=\"1928,118.694 1928,1486.45 1966.3,1486.45 1966.3,118.694 1928,118.694 \"/>\n",
       "<path clip-path=\"url(#clip692)\" d=\"M1966.3 151.357 L1966.3 1486.45 L2004.6 1486.45 L2004.6 151.357 L1966.3 151.357 L1966.3 151.357  Z\" fill=\"#8be9fd\" fill-rule=\"evenodd\" fill-opacity=\"1\"/>\n",
       "<polyline clip-path=\"url(#clip692)\" style=\"stroke:#f8f8f2; stroke-linecap:round; stroke-linejoin:round; stroke-width:4; stroke-opacity:1; fill:none\" points=\"1966.3,151.357 1966.3,1486.45 2004.6,1486.45 2004.6,151.357 1966.3,151.357 \"/>\n",
       "<path clip-path=\"url(#clip692)\" d=\"M2004.6 123.457 L2004.6 1486.45 L2042.9 1486.45 L2042.9 123.457 L2004.6 123.457 L2004.6 123.457  Z\" fill=\"#8be9fd\" fill-rule=\"evenodd\" fill-opacity=\"1\"/>\n",
       "<polyline clip-path=\"url(#clip692)\" style=\"stroke:#f8f8f2; stroke-linecap:round; stroke-linejoin:round; stroke-width:4; stroke-opacity:1; fill:none\" points=\"2004.6,123.457 2004.6,1486.45 2042.9,1486.45 2042.9,123.457 2004.6,123.457 \"/>\n",
       "<path clip-path=\"url(#clip692)\" d=\"M2042.9 205.795 L2042.9 1486.45 L2081.2 1486.45 L2081.2 205.795 L2042.9 205.795 L2042.9 205.795  Z\" fill=\"#8be9fd\" fill-rule=\"evenodd\" fill-opacity=\"1\"/>\n",
       "<polyline clip-path=\"url(#clip692)\" style=\"stroke:#f8f8f2; stroke-linecap:round; stroke-linejoin:round; stroke-width:4; stroke-opacity:1; fill:none\" points=\"2042.9,205.795 2042.9,1486.45 2081.2,1486.45 2081.2,205.795 2042.9,205.795 \"/>\n",
       "<path clip-path=\"url(#clip692)\" d=\"M2081.2 139.108 L2081.2 1486.45 L2119.5 1486.45 L2119.5 139.108 L2081.2 139.108 L2081.2 139.108  Z\" fill=\"#8be9fd\" fill-rule=\"evenodd\" fill-opacity=\"1\"/>\n",
       "<polyline clip-path=\"url(#clip692)\" style=\"stroke:#f8f8f2; stroke-linecap:round; stroke-linejoin:round; stroke-width:4; stroke-opacity:1; fill:none\" points=\"2081.2,139.108 2081.2,1486.45 2119.5,1486.45 2119.5,139.108 2081.2,139.108 \"/>\n",
       "<path clip-path=\"url(#clip692)\" d=\"M2119.5 137.067 L2119.5 1486.45 L2157.81 1486.45 L2157.81 137.067 L2119.5 137.067 L2119.5 137.067  Z\" fill=\"#8be9fd\" fill-rule=\"evenodd\" fill-opacity=\"1\"/>\n",
       "<polyline clip-path=\"url(#clip692)\" style=\"stroke:#f8f8f2; stroke-linecap:round; stroke-linejoin:round; stroke-width:4; stroke-opacity:1; fill:none\" points=\"2119.5,137.067 2119.5,1486.45 2157.81,1486.45 2157.81,137.067 2119.5,137.067 \"/>\n",
       "<path clip-path=\"url(#clip692)\" d=\"M2157.81 109.848 L2157.81 1486.45 L2196.11 1486.45 L2196.11 109.848 L2157.81 109.848 L2157.81 109.848  Z\" fill=\"#8be9fd\" fill-rule=\"evenodd\" fill-opacity=\"1\"/>\n",
       "<polyline clip-path=\"url(#clip692)\" style=\"stroke:#f8f8f2; stroke-linecap:round; stroke-linejoin:round; stroke-width:4; stroke-opacity:1; fill:none\" points=\"2157.81,109.848 2157.81,1486.45 2196.11,1486.45 2196.11,109.848 2157.81,109.848 \"/>\n",
       "<path clip-path=\"url(#clip692)\" d=\"M2196.11 156.801 L2196.11 1486.45 L2234.41 1486.45 L2234.41 156.801 L2196.11 156.801 L2196.11 156.801  Z\" fill=\"#8be9fd\" fill-rule=\"evenodd\" fill-opacity=\"1\"/>\n",
       "<polyline clip-path=\"url(#clip692)\" style=\"stroke:#f8f8f2; stroke-linecap:round; stroke-linejoin:round; stroke-width:4; stroke-opacity:1; fill:none\" points=\"2196.11,156.801 2196.11,1486.45 2234.41,1486.45 2234.41,156.801 2196.11,156.801 \"/>\n",
       "<circle clip-path=\"url(#clip692)\" style=\"fill:#8be9fd; stroke:none; fill-opacity:0\" cx=\"338.519\" cy=\"93.5164\" r=\"2\"/>\n",
       "<circle clip-path=\"url(#clip692)\" style=\"fill:#8be9fd; stroke:none; fill-opacity:0\" cx=\"376.82\" cy=\"161.564\" r=\"2\"/>\n",
       "<circle clip-path=\"url(#clip692)\" style=\"fill:#8be9fd; stroke:none; fill-opacity:0\" cx=\"415.121\" cy=\"109.848\" r=\"2\"/>\n",
       "<circle clip-path=\"url(#clip692)\" style=\"fill:#8be9fd; stroke:none; fill-opacity:0\" cx=\"453.421\" cy=\"113.931\" r=\"2\"/>\n",
       "<circle clip-path=\"url(#clip692)\" style=\"fill:#8be9fd; stroke:none; fill-opacity:0\" cx=\"491.722\" cy=\"71.0607\" r=\"2\"/>\n",
       "<circle clip-path=\"url(#clip692)\" style=\"fill:#8be9fd; stroke:none; fill-opacity:0\" cx=\"530.023\" cy=\"130.262\" r=\"2\"/>\n",
       "<circle clip-path=\"url(#clip692)\" style=\"fill:#8be9fd; stroke:none; fill-opacity:0\" cx=\"568.324\" cy=\"175.854\" r=\"2\"/>\n",
       "<circle clip-path=\"url(#clip692)\" style=\"fill:#8be9fd; stroke:none; fill-opacity:0\" cx=\"606.624\" cy=\"77.185\" r=\"2\"/>\n",
       "<circle clip-path=\"url(#clip692)\" style=\"fill:#8be9fd; stroke:none; fill-opacity:0\" cx=\"644.925\" cy=\"47.2441\" r=\"2\"/>\n",
       "<circle clip-path=\"url(#clip692)\" style=\"fill:#8be9fd; stroke:none; fill-opacity:0\" cx=\"683.226\" cy=\"113.931\" r=\"2\"/>\n",
       "<circle clip-path=\"url(#clip692)\" style=\"fill:#8be9fd; stroke:none; fill-opacity:0\" cx=\"721.527\" cy=\"125.499\" r=\"2\"/>\n",
       "<circle clip-path=\"url(#clip692)\" style=\"fill:#8be9fd; stroke:none; fill-opacity:0\" cx=\"759.827\" cy=\"143.871\" r=\"2\"/>\n",
       "<circle clip-path=\"url(#clip692)\" style=\"fill:#8be9fd; stroke:none; fill-opacity:0\" cx=\"798.128\" cy=\"88.0726\" r=\"2\"/>\n",
       "<circle clip-path=\"url(#clip692)\" style=\"fill:#8be9fd; stroke:none; fill-opacity:0\" cx=\"836.429\" cy=\"139.789\" r=\"2\"/>\n",
       "<circle clip-path=\"url(#clip692)\" style=\"fill:#8be9fd; stroke:none; fill-opacity:0\" cx=\"874.73\" cy=\"147.954\" r=\"2\"/>\n",
       "<circle clip-path=\"url(#clip692)\" style=\"fill:#8be9fd; stroke:none; fill-opacity:0\" cx=\"913.03\" cy=\"102.363\" r=\"2\"/>\n",
       "<circle clip-path=\"url(#clip692)\" style=\"fill:#8be9fd; stroke:none; fill-opacity:0\" cx=\"951.331\" cy=\"169.049\" r=\"2\"/>\n",
       "<circle clip-path=\"url(#clip692)\" style=\"fill:#8be9fd; stroke:none; fill-opacity:0\" cx=\"989.632\" cy=\"134.345\" r=\"2\"/>\n",
       "<circle clip-path=\"url(#clip692)\" style=\"fill:#8be9fd; stroke:none; fill-opacity:0\" cx=\"1027.93\" cy=\"97.5992\" r=\"2\"/>\n",
       "<circle clip-path=\"url(#clip692)\" style=\"fill:#8be9fd; stroke:none; fill-opacity:0\" cx=\"1066.23\" cy=\"75.824\" r=\"2\"/>\n",
       "<circle clip-path=\"url(#clip692)\" style=\"fill:#8be9fd; stroke:none; fill-opacity:0\" cx=\"1104.53\" cy=\"167.008\" r=\"2\"/>\n",
       "<circle clip-path=\"url(#clip692)\" style=\"fill:#8be9fd; stroke:none; fill-opacity:0\" cx=\"1142.83\" cy=\"120.735\" r=\"2\"/>\n",
       "<circle clip-path=\"url(#clip692)\" style=\"fill:#8be9fd; stroke:none; fill-opacity:0\" cx=\"1181.14\" cy=\"91.4749\" r=\"2\"/>\n",
       "<circle clip-path=\"url(#clip692)\" style=\"fill:#8be9fd; stroke:none; fill-opacity:0\" cx=\"1219.44\" cy=\"87.3921\" r=\"2\"/>\n",
       "<circle clip-path=\"url(#clip692)\" style=\"fill:#8be9fd; stroke:none; fill-opacity:0\" cx=\"1257.74\" cy=\"160.203\" r=\"2\"/>\n",
       "<circle clip-path=\"url(#clip692)\" style=\"fill:#8be9fd; stroke:none; fill-opacity:0\" cx=\"1296.04\" cy=\"87.3921\" r=\"2\"/>\n",
       "<circle clip-path=\"url(#clip692)\" style=\"fill:#8be9fd; stroke:none; fill-opacity:0\" cx=\"1334.34\" cy=\"107.806\" r=\"2\"/>\n",
       "<circle clip-path=\"url(#clip692)\" style=\"fill:#8be9fd; stroke:none; fill-opacity:0\" cx=\"1372.64\" cy=\"124.138\" r=\"2\"/>\n",
       "<circle clip-path=\"url(#clip692)\" style=\"fill:#8be9fd; stroke:none; fill-opacity:0\" cx=\"1410.94\" cy=\"159.522\" r=\"2\"/>\n",
       "<circle clip-path=\"url(#clip692)\" style=\"fill:#8be9fd; stroke:none; fill-opacity:0\" cx=\"1449.24\" cy=\"147.274\" r=\"2\"/>\n",
       "<circle clip-path=\"url(#clip692)\" style=\"fill:#8be9fd; stroke:none; fill-opacity:0\" cx=\"1487.54\" cy=\"128.221\" r=\"2\"/>\n",
       "<circle clip-path=\"url(#clip692)\" style=\"fill:#8be9fd; stroke:none; fill-opacity:0\" cx=\"1525.84\" cy=\"166.327\" r=\"2\"/>\n",
       "<circle clip-path=\"url(#clip692)\" style=\"fill:#8be9fd; stroke:none; fill-opacity:0\" cx=\"1564.14\" cy=\"135.706\" r=\"2\"/>\n",
       "<circle clip-path=\"url(#clip692)\" style=\"fill:#8be9fd; stroke:none; fill-opacity:0\" cx=\"1602.44\" cy=\"117.333\" r=\"2\"/>\n",
       "<circle clip-path=\"url(#clip692)\" style=\"fill:#8be9fd; stroke:none; fill-opacity:0\" cx=\"1640.74\" cy=\"141.15\" r=\"2\"/>\n",
       "<circle clip-path=\"url(#clip692)\" style=\"fill:#8be9fd; stroke:none; fill-opacity:0\" cx=\"1679.05\" cy=\"86.7116\" r=\"2\"/>\n",
       "<circle clip-path=\"url(#clip692)\" style=\"fill:#8be9fd; stroke:none; fill-opacity:0\" cx=\"1717.35\" cy=\"162.244\" r=\"2\"/>\n",
       "<circle clip-path=\"url(#clip692)\" style=\"fill:#8be9fd; stroke:none; fill-opacity:0\" cx=\"1755.65\" cy=\"120.735\" r=\"2\"/>\n",
       "<circle clip-path=\"url(#clip692)\" style=\"fill:#8be9fd; stroke:none; fill-opacity:0\" cx=\"1793.95\" cy=\"74.4631\" r=\"2\"/>\n",
       "<circle clip-path=\"url(#clip692)\" style=\"fill:#8be9fd; stroke:none; fill-opacity:0\" cx=\"1832.25\" cy=\"147.954\" r=\"2\"/>\n",
       "<circle clip-path=\"url(#clip692)\" style=\"fill:#8be9fd; stroke:none; fill-opacity:0\" cx=\"1870.55\" cy=\"124.138\" r=\"2\"/>\n",
       "<circle clip-path=\"url(#clip692)\" style=\"fill:#8be9fd; stroke:none; fill-opacity:0\" cx=\"1908.85\" cy=\"156.12\" r=\"2\"/>\n",
       "<circle clip-path=\"url(#clip692)\" style=\"fill:#8be9fd; stroke:none; fill-opacity:0\" cx=\"1947.15\" cy=\"118.694\" r=\"2\"/>\n",
       "<circle clip-path=\"url(#clip692)\" style=\"fill:#8be9fd; stroke:none; fill-opacity:0\" cx=\"1985.45\" cy=\"151.357\" r=\"2\"/>\n",
       "<circle clip-path=\"url(#clip692)\" style=\"fill:#8be9fd; stroke:none; fill-opacity:0\" cx=\"2023.75\" cy=\"123.457\" r=\"2\"/>\n",
       "<circle clip-path=\"url(#clip692)\" style=\"fill:#8be9fd; stroke:none; fill-opacity:0\" cx=\"2062.05\" cy=\"205.795\" r=\"2\"/>\n",
       "<circle clip-path=\"url(#clip692)\" style=\"fill:#8be9fd; stroke:none; fill-opacity:0\" cx=\"2100.35\" cy=\"139.108\" r=\"2\"/>\n",
       "<circle clip-path=\"url(#clip692)\" style=\"fill:#8be9fd; stroke:none; fill-opacity:0\" cx=\"2138.65\" cy=\"137.067\" r=\"2\"/>\n",
       "<circle clip-path=\"url(#clip692)\" style=\"fill:#8be9fd; stroke:none; fill-opacity:0\" cx=\"2176.96\" cy=\"109.848\" r=\"2\"/>\n",
       "<circle clip-path=\"url(#clip692)\" style=\"fill:#8be9fd; stroke:none; fill-opacity:0\" cx=\"2215.26\" cy=\"156.801\" r=\"2\"/>\n",
       "</svg>\n"
      ],
      "text/html": [
       "<?xml version=\"1.0\" encoding=\"utf-8\"?>\n",
       "<svg xmlns=\"http://www.w3.org/2000/svg\" xmlns:xlink=\"http://www.w3.org/1999/xlink\" width=\"600\" height=\"400\" viewBox=\"0 0 2400 1600\">\n",
       "<defs>\n",
       "  <clipPath id=\"clip740\">\n",
       "    <rect x=\"0\" y=\"0\" width=\"2400\" height=\"1600\"/>\n",
       "  </clipPath>\n",
       "</defs>\n",
       "<path clip-path=\"url(#clip740)\" d=\"M0 1600 L2400 1600 L2400 0 L0 0  Z\" fill=\"#282a36\" fill-rule=\"evenodd\" fill-opacity=\"1\"/>\n",
       "<defs>\n",
       "  <clipPath id=\"clip741\">\n",
       "    <rect x=\"480\" y=\"0\" width=\"1681\" height=\"1600\"/>\n",
       "  </clipPath>\n",
       "</defs>\n",
       "<path clip-path=\"url(#clip740)\" d=\"M201.019 1486.45 L2352.76 1486.45 L2352.76 47.2441 L201.019 47.2441  Z\" fill=\"#30343b\" fill-rule=\"evenodd\" fill-opacity=\"1\"/>\n",
       "<defs>\n",
       "  <clipPath id=\"clip742\">\n",
       "    <rect x=\"201\" y=\"47\" width=\"2153\" height=\"1440\"/>\n",
       "  </clipPath>\n",
       "</defs>\n",
       "<polyline clip-path=\"url(#clip742)\" style=\"stroke:#f8f8f2; stroke-linecap:round; stroke-linejoin:round; stroke-width:2; stroke-opacity:0.1; fill:none\" points=\"319.369,1486.45 319.369,47.2441 \"/>\n",
       "<polyline clip-path=\"url(#clip742)\" style=\"stroke:#f8f8f2; stroke-linecap:round; stroke-linejoin:round; stroke-width:2; stroke-opacity:0.1; fill:none\" points=\"798.128,1486.45 798.128,47.2441 \"/>\n",
       "<polyline clip-path=\"url(#clip742)\" style=\"stroke:#f8f8f2; stroke-linecap:round; stroke-linejoin:round; stroke-width:2; stroke-opacity:0.1; fill:none\" points=\"1276.89,1486.45 1276.89,47.2441 \"/>\n",
       "<polyline clip-path=\"url(#clip742)\" style=\"stroke:#f8f8f2; stroke-linecap:round; stroke-linejoin:round; stroke-width:2; stroke-opacity:0.1; fill:none\" points=\"1755.65,1486.45 1755.65,47.2441 \"/>\n",
       "<polyline clip-path=\"url(#clip742)\" style=\"stroke:#f8f8f2; stroke-linecap:round; stroke-linejoin:round; stroke-width:2; stroke-opacity:0.1; fill:none\" points=\"2234.41,1486.45 2234.41,47.2441 \"/>\n",
       "<polyline clip-path=\"url(#clip740)\" style=\"stroke:#f8f8f2; stroke-linecap:round; stroke-linejoin:round; stroke-width:4; stroke-opacity:1; fill:none\" points=\"201.019,1486.45 2352.76,1486.45 \"/>\n",
       "<polyline clip-path=\"url(#clip740)\" style=\"stroke:#f8f8f2; stroke-linecap:round; stroke-linejoin:round; stroke-width:4; stroke-opacity:1; fill:none\" points=\"319.369,1486.45 319.369,1467.55 \"/>\n",
       "<polyline clip-path=\"url(#clip740)\" style=\"stroke:#f8f8f2; stroke-linecap:round; stroke-linejoin:round; stroke-width:4; stroke-opacity:1; fill:none\" points=\"798.128,1486.45 798.128,1467.55 \"/>\n",
       "<polyline clip-path=\"url(#clip740)\" style=\"stroke:#f8f8f2; stroke-linecap:round; stroke-linejoin:round; stroke-width:4; stroke-opacity:1; fill:none\" points=\"1276.89,1486.45 1276.89,1467.55 \"/>\n",
       "<polyline clip-path=\"url(#clip740)\" style=\"stroke:#f8f8f2; stroke-linecap:round; stroke-linejoin:round; stroke-width:4; stroke-opacity:1; fill:none\" points=\"1755.65,1486.45 1755.65,1467.55 \"/>\n",
       "<polyline clip-path=\"url(#clip740)\" style=\"stroke:#f8f8f2; stroke-linecap:round; stroke-linejoin:round; stroke-width:4; stroke-opacity:1; fill:none\" points=\"2234.41,1486.45 2234.41,1467.55 \"/>\n",
       "<path clip-path=\"url(#clip740)\" d=\"M281.672 1517.37 Q278.061 1517.37 276.232 1520.93 Q274.427 1524.47 274.427 1531.6 Q274.427 1538.71 276.232 1542.27 Q278.061 1545.82 281.672 1545.82 Q285.306 1545.82 287.112 1542.27 Q288.941 1538.71 288.941 1531.6 Q288.941 1524.47 287.112 1520.93 Q285.306 1517.37 281.672 1517.37 M281.672 1513.66 Q287.482 1513.66 290.538 1518.27 Q293.616 1522.85 293.616 1531.6 Q293.616 1540.33 290.538 1544.94 Q287.482 1549.52 281.672 1549.52 Q275.862 1549.52 272.783 1544.94 Q269.728 1540.33 269.728 1531.6 Q269.728 1522.85 272.783 1518.27 Q275.862 1513.66 281.672 1513.66 Z\" fill=\"#f8f8f2\" fill-rule=\"nonzero\" fill-opacity=\"1\" /><path clip-path=\"url(#clip740)\" d=\"M301.834 1542.97 L306.718 1542.97 L306.718 1548.85 L301.834 1548.85 L301.834 1542.97 Z\" fill=\"#f8f8f2\" fill-rule=\"nonzero\" fill-opacity=\"1\" /><path clip-path=\"url(#clip740)\" d=\"M326.903 1517.37 Q323.292 1517.37 321.464 1520.93 Q319.658 1524.47 319.658 1531.6 Q319.658 1538.71 321.464 1542.27 Q323.292 1545.82 326.903 1545.82 Q330.538 1545.82 332.343 1542.27 Q334.172 1538.71 334.172 1531.6 Q334.172 1524.47 332.343 1520.93 Q330.538 1517.37 326.903 1517.37 M326.903 1513.66 Q332.713 1513.66 335.769 1518.27 Q338.848 1522.85 338.848 1531.6 Q338.848 1540.33 335.769 1544.94 Q332.713 1549.52 326.903 1549.52 Q321.093 1549.52 318.014 1544.94 Q314.959 1540.33 314.959 1531.6 Q314.959 1522.85 318.014 1518.27 Q321.093 1513.66 326.903 1513.66 Z\" fill=\"#f8f8f2\" fill-rule=\"nonzero\" fill-opacity=\"1\" /><path clip-path=\"url(#clip740)\" d=\"M357.065 1517.37 Q353.454 1517.37 351.625 1520.93 Q349.82 1524.47 349.82 1531.6 Q349.82 1538.71 351.625 1542.27 Q353.454 1545.82 357.065 1545.82 Q360.699 1545.82 362.505 1542.27 Q364.334 1538.71 364.334 1531.6 Q364.334 1524.47 362.505 1520.93 Q360.699 1517.37 357.065 1517.37 M357.065 1513.66 Q362.875 1513.66 365.931 1518.27 Q369.01 1522.85 369.01 1531.6 Q369.01 1540.33 365.931 1544.94 Q362.875 1549.52 357.065 1549.52 Q351.255 1549.52 348.176 1544.94 Q345.121 1540.33 345.121 1531.6 Q345.121 1522.85 348.176 1518.27 Q351.255 1513.66 357.065 1513.66 Z\" fill=\"#f8f8f2\" fill-rule=\"nonzero\" fill-opacity=\"1\" /><path clip-path=\"url(#clip740)\" d=\"M760.929 1517.37 Q757.318 1517.37 755.489 1520.93 Q753.684 1524.47 753.684 1531.6 Q753.684 1538.71 755.489 1542.27 Q757.318 1545.82 760.929 1545.82 Q764.563 1545.82 766.369 1542.27 Q768.198 1538.71 768.198 1531.6 Q768.198 1524.47 766.369 1520.93 Q764.563 1517.37 760.929 1517.37 M760.929 1513.66 Q766.739 1513.66 769.795 1518.27 Q772.874 1522.85 772.874 1531.6 Q772.874 1540.33 769.795 1544.94 Q766.739 1549.52 760.929 1549.52 Q755.119 1549.52 752.04 1544.94 Q748.985 1540.33 748.985 1531.6 Q748.985 1522.85 752.04 1518.27 Q755.119 1513.66 760.929 1513.66 Z\" fill=\"#f8f8f2\" fill-rule=\"nonzero\" fill-opacity=\"1\" /><path clip-path=\"url(#clip740)\" d=\"M781.091 1542.97 L785.975 1542.97 L785.975 1548.85 L781.091 1548.85 L781.091 1542.97 Z\" fill=\"#f8f8f2\" fill-rule=\"nonzero\" fill-opacity=\"1\" /><path clip-path=\"url(#clip740)\" d=\"M800.188 1544.91 L816.508 1544.91 L816.508 1548.85 L794.563 1548.85 L794.563 1544.91 Q797.225 1542.16 801.809 1537.53 Q806.415 1532.88 807.596 1531.53 Q809.841 1529.01 810.721 1527.27 Q811.623 1525.51 811.623 1523.82 Q811.623 1521.07 809.679 1519.33 Q807.758 1517.6 804.656 1517.6 Q802.457 1517.6 800.003 1518.36 Q797.573 1519.13 794.795 1520.68 L794.795 1515.95 Q797.619 1514.82 800.073 1514.24 Q802.526 1513.66 804.563 1513.66 Q809.934 1513.66 813.128 1516.35 Q816.322 1519.03 816.322 1523.52 Q816.322 1525.65 815.512 1527.57 Q814.725 1529.47 812.619 1532.07 Q812.04 1532.74 808.938 1535.95 Q805.836 1539.15 800.188 1544.91 Z\" fill=\"#f8f8f2\" fill-rule=\"nonzero\" fill-opacity=\"1\" /><path clip-path=\"url(#clip740)\" d=\"M826.369 1514.29 L844.725 1514.29 L844.725 1518.22 L830.651 1518.22 L830.651 1526.7 Q831.67 1526.35 832.688 1526.19 Q833.707 1526 834.725 1526 Q840.512 1526 843.892 1529.17 Q847.271 1532.34 847.271 1537.76 Q847.271 1543.34 843.799 1546.44 Q840.327 1549.52 834.008 1549.52 Q831.832 1549.52 829.563 1549.15 Q827.318 1548.78 824.91 1548.04 L824.91 1543.34 Q826.994 1544.47 829.216 1545.03 Q831.438 1545.58 833.915 1545.58 Q837.92 1545.58 840.258 1543.48 Q842.595 1541.37 842.595 1537.76 Q842.595 1534.15 840.258 1532.04 Q837.92 1529.94 833.915 1529.94 Q832.04 1529.94 830.165 1530.35 Q828.313 1530.77 826.369 1531.65 L826.369 1514.29 Z\" fill=\"#f8f8f2\" fill-rule=\"nonzero\" fill-opacity=\"1\" /><path clip-path=\"url(#clip740)\" d=\"M1239.19 1517.37 Q1235.58 1517.37 1233.75 1520.93 Q1231.95 1524.47 1231.95 1531.6 Q1231.95 1538.71 1233.75 1542.27 Q1235.58 1545.82 1239.19 1545.82 Q1242.83 1545.82 1244.63 1542.27 Q1246.46 1538.71 1246.46 1531.6 Q1246.46 1524.47 1244.63 1520.93 Q1242.83 1517.37 1239.19 1517.37 M1239.19 1513.66 Q1245 1513.66 1248.06 1518.27 Q1251.14 1522.85 1251.14 1531.6 Q1251.14 1540.33 1248.06 1544.94 Q1245 1549.52 1239.19 1549.52 Q1233.38 1549.52 1230.3 1544.94 Q1227.25 1540.33 1227.25 1531.6 Q1227.25 1522.85 1230.3 1518.27 Q1233.38 1513.66 1239.19 1513.66 Z\" fill=\"#f8f8f2\" fill-rule=\"nonzero\" fill-opacity=\"1\" /><path clip-path=\"url(#clip740)\" d=\"M1259.35 1542.97 L1264.24 1542.97 L1264.24 1548.85 L1259.35 1548.85 L1259.35 1542.97 Z\" fill=\"#f8f8f2\" fill-rule=\"nonzero\" fill-opacity=\"1\" /><path clip-path=\"url(#clip740)\" d=\"M1274.47 1514.29 L1292.83 1514.29 L1292.83 1518.22 L1278.75 1518.22 L1278.75 1526.7 Q1279.77 1526.35 1280.79 1526.19 Q1281.81 1526 1282.83 1526 Q1288.61 1526 1291.99 1529.17 Q1295.37 1532.34 1295.37 1537.76 Q1295.37 1543.34 1291.9 1546.44 Q1288.43 1549.52 1282.11 1549.52 Q1279.93 1549.52 1277.66 1549.15 Q1275.42 1548.78 1273.01 1548.04 L1273.01 1543.34 Q1275.09 1544.47 1277.32 1545.03 Q1279.54 1545.58 1282.01 1545.58 Q1286.02 1545.58 1288.36 1543.48 Q1290.7 1541.37 1290.7 1537.76 Q1290.7 1534.15 1288.36 1532.04 Q1286.02 1529.94 1282.01 1529.94 Q1280.14 1529.94 1278.26 1530.35 Q1276.41 1530.77 1274.47 1531.65 L1274.47 1514.29 Z\" fill=\"#f8f8f2\" fill-rule=\"nonzero\" fill-opacity=\"1\" /><path clip-path=\"url(#clip740)\" d=\"M1314.58 1517.37 Q1310.97 1517.37 1309.14 1520.93 Q1307.34 1524.47 1307.34 1531.6 Q1307.34 1538.71 1309.14 1542.27 Q1310.97 1545.82 1314.58 1545.82 Q1318.22 1545.82 1320.02 1542.27 Q1321.85 1538.71 1321.85 1531.6 Q1321.85 1524.47 1320.02 1520.93 Q1318.22 1517.37 1314.58 1517.37 M1314.58 1513.66 Q1320.39 1513.66 1323.45 1518.27 Q1326.53 1522.85 1326.53 1531.6 Q1326.53 1540.33 1323.45 1544.94 Q1320.39 1549.52 1314.58 1549.52 Q1308.77 1549.52 1305.7 1544.94 Q1302.64 1540.33 1302.64 1531.6 Q1302.64 1522.85 1305.7 1518.27 Q1308.77 1513.66 1314.58 1513.66 Z\" fill=\"#f8f8f2\" fill-rule=\"nonzero\" fill-opacity=\"1\" /><path clip-path=\"url(#clip740)\" d=\"M1718.45 1517.37 Q1714.84 1517.37 1713.01 1520.93 Q1711.2 1524.47 1711.2 1531.6 Q1711.2 1538.71 1713.01 1542.27 Q1714.84 1545.82 1718.45 1545.82 Q1722.08 1545.82 1723.89 1542.27 Q1725.72 1538.71 1725.72 1531.6 Q1725.72 1524.47 1723.89 1520.93 Q1722.08 1517.37 1718.45 1517.37 M1718.45 1513.66 Q1724.26 1513.66 1727.31 1518.27 Q1730.39 1522.85 1730.39 1531.6 Q1730.39 1540.33 1727.31 1544.94 Q1724.26 1549.52 1718.45 1549.52 Q1712.64 1549.52 1709.56 1544.94 Q1706.5 1540.33 1706.5 1531.6 Q1706.5 1522.85 1709.56 1518.27 Q1712.64 1513.66 1718.45 1513.66 Z\" fill=\"#f8f8f2\" fill-rule=\"nonzero\" fill-opacity=\"1\" /><path clip-path=\"url(#clip740)\" d=\"M1738.61 1542.97 L1743.49 1542.97 L1743.49 1548.85 L1738.61 1548.85 L1738.61 1542.97 Z\" fill=\"#f8f8f2\" fill-rule=\"nonzero\" fill-opacity=\"1\" /><path clip-path=\"url(#clip740)\" d=\"M1752.5 1514.29 L1774.72 1514.29 L1774.72 1516.28 L1762.17 1548.85 L1757.29 1548.85 L1769.1 1518.22 L1752.5 1518.22 L1752.5 1514.29 Z\" fill=\"#f8f8f2\" fill-rule=\"nonzero\" fill-opacity=\"1\" /><path clip-path=\"url(#clip740)\" d=\"M1783.89 1514.29 L1802.24 1514.29 L1802.24 1518.22 L1788.17 1518.22 L1788.17 1526.7 Q1789.19 1526.35 1790.21 1526.19 Q1791.23 1526 1792.24 1526 Q1798.03 1526 1801.41 1529.17 Q1804.79 1532.34 1804.79 1537.76 Q1804.79 1543.34 1801.32 1546.44 Q1797.85 1549.52 1791.53 1549.52 Q1789.35 1549.52 1787.08 1549.15 Q1784.84 1548.78 1782.43 1548.04 L1782.43 1543.34 Q1784.51 1544.47 1786.73 1545.03 Q1788.96 1545.58 1791.43 1545.58 Q1795.44 1545.58 1797.78 1543.48 Q1800.11 1541.37 1800.11 1537.76 Q1800.11 1534.15 1797.78 1532.04 Q1795.44 1529.94 1791.43 1529.94 Q1789.56 1529.94 1787.68 1530.35 Q1785.83 1530.77 1783.89 1531.65 L1783.89 1514.29 Z\" fill=\"#f8f8f2\" fill-rule=\"nonzero\" fill-opacity=\"1\" /><path clip-path=\"url(#clip740)\" d=\"M2186.48 1544.91 L2194.12 1544.91 L2194.12 1518.55 L2185.81 1520.21 L2185.81 1515.95 L2194.07 1514.29 L2198.75 1514.29 L2198.75 1544.91 L2206.39 1544.91 L2206.39 1548.85 L2186.48 1548.85 L2186.48 1544.91 Z\" fill=\"#f8f8f2\" fill-rule=\"nonzero\" fill-opacity=\"1\" /><path clip-path=\"url(#clip740)\" d=\"M2215.83 1542.97 L2220.71 1542.97 L2220.71 1548.85 L2215.83 1548.85 L2215.83 1542.97 Z\" fill=\"#f8f8f2\" fill-rule=\"nonzero\" fill-opacity=\"1\" /><path clip-path=\"url(#clip740)\" d=\"M2240.9 1517.37 Q2237.29 1517.37 2235.46 1520.93 Q2233.65 1524.47 2233.65 1531.6 Q2233.65 1538.71 2235.46 1542.27 Q2237.29 1545.82 2240.9 1545.82 Q2244.53 1545.82 2246.34 1542.27 Q2248.17 1538.71 2248.17 1531.6 Q2248.17 1524.47 2246.34 1520.93 Q2244.53 1517.37 2240.9 1517.37 M2240.9 1513.66 Q2246.71 1513.66 2249.77 1518.27 Q2252.84 1522.85 2252.84 1531.6 Q2252.84 1540.33 2249.77 1544.94 Q2246.71 1549.52 2240.9 1549.52 Q2235.09 1549.52 2232.01 1544.94 Q2228.96 1540.33 2228.96 1531.6 Q2228.96 1522.85 2232.01 1518.27 Q2235.09 1513.66 2240.9 1513.66 Z\" fill=\"#f8f8f2\" fill-rule=\"nonzero\" fill-opacity=\"1\" /><path clip-path=\"url(#clip740)\" d=\"M2271.06 1517.37 Q2267.45 1517.37 2265.62 1520.93 Q2263.82 1524.47 2263.82 1531.6 Q2263.82 1538.71 2265.62 1542.27 Q2267.45 1545.82 2271.06 1545.82 Q2274.7 1545.82 2276.5 1542.27 Q2278.33 1538.71 2278.33 1531.6 Q2278.33 1524.47 2276.5 1520.93 Q2274.7 1517.37 2271.06 1517.37 M2271.06 1513.66 Q2276.87 1513.66 2279.93 1518.27 Q2283.01 1522.85 2283.01 1531.6 Q2283.01 1540.33 2279.93 1544.94 Q2276.87 1549.52 2271.06 1549.52 Q2265.25 1549.52 2262.17 1544.94 Q2259.12 1540.33 2259.12 1531.6 Q2259.12 1522.85 2262.17 1518.27 Q2265.25 1513.66 2271.06 1513.66 Z\" fill=\"#f8f8f2\" fill-rule=\"nonzero\" fill-opacity=\"1\" /><polyline clip-path=\"url(#clip742)\" style=\"stroke:#f8f8f2; stroke-linecap:round; stroke-linejoin:round; stroke-width:2; stroke-opacity:0.1; fill:none\" points=\"201.019,1486.45 2352.76,1486.45 \"/>\n",
       "<polyline clip-path=\"url(#clip742)\" style=\"stroke:#f8f8f2; stroke-linecap:round; stroke-linejoin:round; stroke-width:2; stroke-opacity:0.1; fill:none\" points=\"201.019,1146.21 2352.76,1146.21 \"/>\n",
       "<polyline clip-path=\"url(#clip742)\" style=\"stroke:#f8f8f2; stroke-linecap:round; stroke-linejoin:round; stroke-width:2; stroke-opacity:0.1; fill:none\" points=\"201.019,805.973 2352.76,805.973 \"/>\n",
       "<polyline clip-path=\"url(#clip742)\" style=\"stroke:#f8f8f2; stroke-linecap:round; stroke-linejoin:round; stroke-width:2; stroke-opacity:0.1; fill:none\" points=\"201.019,465.736 2352.76,465.736 \"/>\n",
       "<polyline clip-path=\"url(#clip742)\" style=\"stroke:#f8f8f2; stroke-linecap:round; stroke-linejoin:round; stroke-width:2; stroke-opacity:0.1; fill:none\" points=\"201.019,125.499 2352.76,125.499 \"/>\n",
       "<polyline clip-path=\"url(#clip740)\" style=\"stroke:#f8f8f2; stroke-linecap:round; stroke-linejoin:round; stroke-width:4; stroke-opacity:1; fill:none\" points=\"201.019,1486.45 201.019,47.2441 \"/>\n",
       "<polyline clip-path=\"url(#clip740)\" style=\"stroke:#f8f8f2; stroke-linecap:round; stroke-linejoin:round; stroke-width:4; stroke-opacity:1; fill:none\" points=\"201.019,1486.45 219.917,1486.45 \"/>\n",
       "<polyline clip-path=\"url(#clip740)\" style=\"stroke:#f8f8f2; stroke-linecap:round; stroke-linejoin:round; stroke-width:4; stroke-opacity:1; fill:none\" points=\"201.019,1146.21 219.917,1146.21 \"/>\n",
       "<polyline clip-path=\"url(#clip740)\" style=\"stroke:#f8f8f2; stroke-linecap:round; stroke-linejoin:round; stroke-width:4; stroke-opacity:1; fill:none\" points=\"201.019,805.973 219.917,805.973 \"/>\n",
       "<polyline clip-path=\"url(#clip740)\" style=\"stroke:#f8f8f2; stroke-linecap:round; stroke-linejoin:round; stroke-width:4; stroke-opacity:1; fill:none\" points=\"201.019,465.736 219.917,465.736 \"/>\n",
       "<polyline clip-path=\"url(#clip740)\" style=\"stroke:#f8f8f2; stroke-linecap:round; stroke-linejoin:round; stroke-width:4; stroke-opacity:1; fill:none\" points=\"201.019,125.499 219.917,125.499 \"/>\n",
       "<path clip-path=\"url(#clip740)\" d=\"M153.075 1472.25 Q149.464 1472.25 147.635 1475.81 Q145.83 1479.35 145.83 1486.48 Q145.83 1493.59 147.635 1497.15 Q149.464 1500.7 153.075 1500.7 Q156.709 1500.7 158.515 1497.15 Q160.343 1493.59 160.343 1486.48 Q160.343 1479.35 158.515 1475.81 Q156.709 1472.25 153.075 1472.25 M153.075 1468.54 Q158.885 1468.54 161.941 1473.15 Q165.019 1477.73 165.019 1486.48 Q165.019 1495.21 161.941 1499.82 Q158.885 1504.4 153.075 1504.4 Q147.265 1504.4 144.186 1499.82 Q141.131 1495.21 141.131 1486.48 Q141.131 1477.73 144.186 1473.15 Q147.265 1468.54 153.075 1468.54 Z\" fill=\"#f8f8f2\" fill-rule=\"nonzero\" fill-opacity=\"1\" /><path clip-path=\"url(#clip740)\" d=\"M82.7975 1128.93 L101.154 1128.93 L101.154 1132.87 L87.0799 1132.87 L87.0799 1141.34 Q88.0984 1140.99 89.1169 1140.83 Q90.1354 1140.64 91.1539 1140.64 Q96.941 1140.64 100.321 1143.81 Q103.7 1146.99 103.7 1152.4 Q103.7 1157.98 100.228 1161.08 Q96.7558 1164.16 90.4364 1164.16 Q88.2604 1164.16 85.9919 1163.79 Q83.7466 1163.42 81.3392 1162.68 L81.3392 1157.98 Q83.4225 1159.12 85.6447 1159.67 Q87.8669 1160.23 90.3438 1160.23 Q94.3484 1160.23 96.6863 1158.12 Q99.0243 1156.01 99.0243 1152.4 Q99.0243 1148.79 96.6863 1146.69 Q94.3484 1144.58 90.3438 1144.58 Q88.4688 1144.58 86.5938 1145 Q84.7419 1145.41 82.7975 1146.29 L82.7975 1128.93 Z\" fill=\"#f8f8f2\" fill-rule=\"nonzero\" fill-opacity=\"1\" /><path clip-path=\"url(#clip740)\" d=\"M122.913 1132.01 Q119.302 1132.01 117.473 1135.57 Q115.668 1139.12 115.668 1146.25 Q115.668 1153.35 117.473 1156.92 Q119.302 1160.46 122.913 1160.46 Q126.547 1160.46 128.353 1156.92 Q130.182 1153.35 130.182 1146.25 Q130.182 1139.12 128.353 1135.57 Q126.547 1132.01 122.913 1132.01 M122.913 1128.31 Q128.723 1128.31 131.779 1132.91 Q134.857 1137.5 134.857 1146.25 Q134.857 1154.97 131.779 1159.58 Q128.723 1164.16 122.913 1164.16 Q117.103 1164.16 114.024 1159.58 Q110.969 1154.97 110.969 1146.25 Q110.969 1137.5 114.024 1132.91 Q117.103 1128.31 122.913 1128.31 Z\" fill=\"#f8f8f2\" fill-rule=\"nonzero\" fill-opacity=\"1\" /><path clip-path=\"url(#clip740)\" d=\"M153.075 1132.01 Q149.464 1132.01 147.635 1135.57 Q145.83 1139.12 145.83 1146.25 Q145.83 1153.35 147.635 1156.92 Q149.464 1160.46 153.075 1160.46 Q156.709 1160.46 158.515 1156.92 Q160.343 1153.35 160.343 1146.25 Q160.343 1139.12 158.515 1135.57 Q156.709 1132.01 153.075 1132.01 M153.075 1128.31 Q158.885 1128.31 161.941 1132.91 Q165.019 1137.5 165.019 1146.25 Q165.019 1154.97 161.941 1159.58 Q158.885 1164.16 153.075 1164.16 Q147.265 1164.16 144.186 1159.58 Q141.131 1154.97 141.131 1146.25 Q141.131 1137.5 144.186 1132.91 Q147.265 1128.31 153.075 1128.31 Z\" fill=\"#f8f8f2\" fill-rule=\"nonzero\" fill-opacity=\"1\" /><path clip-path=\"url(#clip740)\" d=\"M53.3995 819.318 L61.0384 819.318 L61.0384 792.953 L52.7282 794.619 L52.7282 790.36 L60.9921 788.693 L65.668 788.693 L65.668 819.318 L73.3068 819.318 L73.3068 823.253 L53.3995 823.253 L53.3995 819.318 Z\" fill=\"#f8f8f2\" fill-rule=\"nonzero\" fill-opacity=\"1\" /><path clip-path=\"url(#clip740)\" d=\"M92.7512 791.772 Q89.1401 791.772 87.3114 795.337 Q85.5058 798.878 85.5058 806.008 Q85.5058 813.114 87.3114 816.679 Q89.1401 820.221 92.7512 820.221 Q96.3854 820.221 98.1909 816.679 Q100.02 813.114 100.02 806.008 Q100.02 798.878 98.1909 795.337 Q96.3854 791.772 92.7512 791.772 M92.7512 788.068 Q98.5613 788.068 101.617 792.675 Q104.696 797.258 104.696 806.008 Q104.696 814.735 101.617 819.341 Q98.5613 823.925 92.7512 823.925 Q86.941 823.925 83.8623 819.341 Q80.8068 814.735 80.8068 806.008 Q80.8068 797.258 83.8623 792.675 Q86.941 788.068 92.7512 788.068 Z\" fill=\"#f8f8f2\" fill-rule=\"nonzero\" fill-opacity=\"1\" /><path clip-path=\"url(#clip740)\" d=\"M122.913 791.772 Q119.302 791.772 117.473 795.337 Q115.668 798.878 115.668 806.008 Q115.668 813.114 117.473 816.679 Q119.302 820.221 122.913 820.221 Q126.547 820.221 128.353 816.679 Q130.182 813.114 130.182 806.008 Q130.182 798.878 128.353 795.337 Q126.547 791.772 122.913 791.772 M122.913 788.068 Q128.723 788.068 131.779 792.675 Q134.857 797.258 134.857 806.008 Q134.857 814.735 131.779 819.341 Q128.723 823.925 122.913 823.925 Q117.103 823.925 114.024 819.341 Q110.969 814.735 110.969 806.008 Q110.969 797.258 114.024 792.675 Q117.103 788.068 122.913 788.068 Z\" fill=\"#f8f8f2\" fill-rule=\"nonzero\" fill-opacity=\"1\" /><path clip-path=\"url(#clip740)\" d=\"M153.075 791.772 Q149.464 791.772 147.635 795.337 Q145.83 798.878 145.83 806.008 Q145.83 813.114 147.635 816.679 Q149.464 820.221 153.075 820.221 Q156.709 820.221 158.515 816.679 Q160.343 813.114 160.343 806.008 Q160.343 798.878 158.515 795.337 Q156.709 791.772 153.075 791.772 M153.075 788.068 Q158.885 788.068 161.941 792.675 Q165.019 797.258 165.019 806.008 Q165.019 814.735 161.941 819.341 Q158.885 823.925 153.075 823.925 Q147.265 823.925 144.186 819.341 Q141.131 814.735 141.131 806.008 Q141.131 797.258 144.186 792.675 Q147.265 788.068 153.075 788.068 Z\" fill=\"#f8f8f2\" fill-rule=\"nonzero\" fill-opacity=\"1\" /><path clip-path=\"url(#clip740)\" d=\"M53.3995 479.081 L61.0384 479.081 L61.0384 452.715 L52.7282 454.382 L52.7282 450.123 L60.9921 448.456 L65.668 448.456 L65.668 479.081 L73.3068 479.081 L73.3068 483.016 L53.3995 483.016 L53.3995 479.081 Z\" fill=\"#f8f8f2\" fill-rule=\"nonzero\" fill-opacity=\"1\" /><path clip-path=\"url(#clip740)\" d=\"M82.7975 448.456 L101.154 448.456 L101.154 452.391 L87.0799 452.391 L87.0799 460.863 Q88.0984 460.516 89.1169 460.354 Q90.1354 460.169 91.1539 460.169 Q96.941 460.169 100.321 463.34 Q103.7 466.511 103.7 471.928 Q103.7 477.507 100.228 480.609 Q96.7558 483.687 90.4364 483.687 Q88.2604 483.687 85.9919 483.317 Q83.7466 482.947 81.3392 482.206 L81.3392 477.507 Q83.4225 478.641 85.6447 479.197 Q87.8669 479.752 90.3438 479.752 Q94.3484 479.752 96.6863 477.646 Q99.0243 475.539 99.0243 471.928 Q99.0243 468.317 96.6863 466.211 Q94.3484 464.104 90.3438 464.104 Q88.4688 464.104 86.5938 464.521 Q84.7419 464.937 82.7975 465.817 L82.7975 448.456 Z\" fill=\"#f8f8f2\" fill-rule=\"nonzero\" fill-opacity=\"1\" /><path clip-path=\"url(#clip740)\" d=\"M122.913 451.535 Q119.302 451.535 117.473 455.099 Q115.668 458.641 115.668 465.771 Q115.668 472.877 117.473 476.442 Q119.302 479.984 122.913 479.984 Q126.547 479.984 128.353 476.442 Q130.182 472.877 130.182 465.771 Q130.182 458.641 128.353 455.099 Q126.547 451.535 122.913 451.535 M122.913 447.831 Q128.723 447.831 131.779 452.437 Q134.857 457.021 134.857 465.771 Q134.857 474.498 131.779 479.104 Q128.723 483.687 122.913 483.687 Q117.103 483.687 114.024 479.104 Q110.969 474.498 110.969 465.771 Q110.969 457.021 114.024 452.437 Q117.103 447.831 122.913 447.831 Z\" fill=\"#f8f8f2\" fill-rule=\"nonzero\" fill-opacity=\"1\" /><path clip-path=\"url(#clip740)\" d=\"M153.075 451.535 Q149.464 451.535 147.635 455.099 Q145.83 458.641 145.83 465.771 Q145.83 472.877 147.635 476.442 Q149.464 479.984 153.075 479.984 Q156.709 479.984 158.515 476.442 Q160.343 472.877 160.343 465.771 Q160.343 458.641 158.515 455.099 Q156.709 451.535 153.075 451.535 M153.075 447.831 Q158.885 447.831 161.941 452.437 Q165.019 457.021 165.019 465.771 Q165.019 474.498 161.941 479.104 Q158.885 483.687 153.075 483.687 Q147.265 483.687 144.186 479.104 Q141.131 474.498 141.131 465.771 Q141.131 457.021 144.186 452.437 Q147.265 447.831 153.075 447.831 Z\" fill=\"#f8f8f2\" fill-rule=\"nonzero\" fill-opacity=\"1\" /><path clip-path=\"url(#clip740)\" d=\"M56.6171 138.844 L72.9365 138.844 L72.9365 142.779 L50.9921 142.779 L50.9921 138.844 Q53.6541 136.089 58.2375 131.459 Q62.8439 126.807 64.0245 125.464 Q66.2698 122.941 67.1494 121.205 Q68.0522 119.445 68.0522 117.756 Q68.0522 115.001 66.1078 113.265 Q64.1865 111.529 61.0847 111.529 Q58.8856 111.529 56.4319 112.293 Q54.0014 113.057 51.2236 114.608 L51.2236 109.885 Q54.0477 108.751 56.5014 108.172 Q58.955 107.594 60.9921 107.594 Q66.3624 107.594 69.5568 110.279 Q72.7513 112.964 72.7513 117.455 Q72.7513 119.584 71.9411 121.506 Q71.1541 123.404 69.0476 125.996 Q68.4689 126.668 65.367 129.885 Q62.2652 133.08 56.6171 138.844 Z\" fill=\"#f8f8f2\" fill-rule=\"nonzero\" fill-opacity=\"1\" /><path clip-path=\"url(#clip740)\" d=\"M92.7512 111.297 Q89.1401 111.297 87.3114 114.862 Q85.5058 118.404 85.5058 125.533 Q85.5058 132.64 87.3114 136.205 Q89.1401 139.746 92.7512 139.746 Q96.3854 139.746 98.1909 136.205 Q100.02 132.64 100.02 125.533 Q100.02 118.404 98.1909 114.862 Q96.3854 111.297 92.7512 111.297 M92.7512 107.594 Q98.5613 107.594 101.617 112.2 Q104.696 116.783 104.696 125.533 Q104.696 134.26 101.617 138.867 Q98.5613 143.45 92.7512 143.45 Q86.941 143.45 83.8623 138.867 Q80.8068 134.26 80.8068 125.533 Q80.8068 116.783 83.8623 112.2 Q86.941 107.594 92.7512 107.594 Z\" fill=\"#f8f8f2\" fill-rule=\"nonzero\" fill-opacity=\"1\" /><path clip-path=\"url(#clip740)\" d=\"M122.913 111.297 Q119.302 111.297 117.473 114.862 Q115.668 118.404 115.668 125.533 Q115.668 132.64 117.473 136.205 Q119.302 139.746 122.913 139.746 Q126.547 139.746 128.353 136.205 Q130.182 132.64 130.182 125.533 Q130.182 118.404 128.353 114.862 Q126.547 111.297 122.913 111.297 M122.913 107.594 Q128.723 107.594 131.779 112.2 Q134.857 116.783 134.857 125.533 Q134.857 134.26 131.779 138.867 Q128.723 143.45 122.913 143.45 Q117.103 143.45 114.024 138.867 Q110.969 134.26 110.969 125.533 Q110.969 116.783 114.024 112.2 Q117.103 107.594 122.913 107.594 Z\" fill=\"#f8f8f2\" fill-rule=\"nonzero\" fill-opacity=\"1\" /><path clip-path=\"url(#clip740)\" d=\"M153.075 111.297 Q149.464 111.297 147.635 114.862 Q145.83 118.404 145.83 125.533 Q145.83 132.64 147.635 136.205 Q149.464 139.746 153.075 139.746 Q156.709 139.746 158.515 136.205 Q160.343 132.64 160.343 125.533 Q160.343 118.404 158.515 114.862 Q156.709 111.297 153.075 111.297 M153.075 107.594 Q158.885 107.594 161.941 112.2 Q165.019 116.783 165.019 125.533 Q165.019 134.26 161.941 138.867 Q158.885 143.45 153.075 143.45 Q147.265 143.45 144.186 138.867 Q141.131 134.26 141.131 125.533 Q141.131 116.783 144.186 112.2 Q147.265 107.594 153.075 107.594 Z\" fill=\"#f8f8f2\" fill-rule=\"nonzero\" fill-opacity=\"1\" /><path clip-path=\"url(#clip742)\" d=\"M319.369 93.5164 L319.369 1486.45 L357.669 1486.45 L357.669 93.5164 L319.369 93.5164 L319.369 93.5164  Z\" fill=\"#8be9fd\" fill-rule=\"evenodd\" fill-opacity=\"1\"/>\n",
       "<polyline clip-path=\"url(#clip742)\" style=\"stroke:#f8f8f2; stroke-linecap:round; stroke-linejoin:round; stroke-width:4; stroke-opacity:1; fill:none\" points=\"319.369,93.5164 319.369,1486.45 357.669,1486.45 357.669,93.5164 319.369,93.5164 \"/>\n",
       "<path clip-path=\"url(#clip742)\" d=\"M357.669 161.564 L357.669 1486.45 L395.97 1486.45 L395.97 161.564 L357.669 161.564 L357.669 161.564  Z\" fill=\"#8be9fd\" fill-rule=\"evenodd\" fill-opacity=\"1\"/>\n",
       "<polyline clip-path=\"url(#clip742)\" style=\"stroke:#f8f8f2; stroke-linecap:round; stroke-linejoin:round; stroke-width:4; stroke-opacity:1; fill:none\" points=\"357.669,161.564 357.669,1486.45 395.97,1486.45 395.97,161.564 357.669,161.564 \"/>\n",
       "<path clip-path=\"url(#clip742)\" d=\"M395.97 109.848 L395.97 1486.45 L434.271 1486.45 L434.271 109.848 L395.97 109.848 L395.97 109.848  Z\" fill=\"#8be9fd\" fill-rule=\"evenodd\" fill-opacity=\"1\"/>\n",
       "<polyline clip-path=\"url(#clip742)\" style=\"stroke:#f8f8f2; stroke-linecap:round; stroke-linejoin:round; stroke-width:4; stroke-opacity:1; fill:none\" points=\"395.97,109.848 395.97,1486.45 434.271,1486.45 434.271,109.848 395.97,109.848 \"/>\n",
       "<path clip-path=\"url(#clip742)\" d=\"M434.271 113.931 L434.271 1486.45 L472.572 1486.45 L472.572 113.931 L434.271 113.931 L434.271 113.931  Z\" fill=\"#8be9fd\" fill-rule=\"evenodd\" fill-opacity=\"1\"/>\n",
       "<polyline clip-path=\"url(#clip742)\" style=\"stroke:#f8f8f2; stroke-linecap:round; stroke-linejoin:round; stroke-width:4; stroke-opacity:1; fill:none\" points=\"434.271,113.931 434.271,1486.45 472.572,1486.45 472.572,113.931 434.271,113.931 \"/>\n",
       "<path clip-path=\"url(#clip742)\" d=\"M472.572 71.0607 L472.572 1486.45 L510.872 1486.45 L510.872 71.0607 L472.572 71.0607 L472.572 71.0607  Z\" fill=\"#8be9fd\" fill-rule=\"evenodd\" fill-opacity=\"1\"/>\n",
       "<polyline clip-path=\"url(#clip742)\" style=\"stroke:#f8f8f2; stroke-linecap:round; stroke-linejoin:round; stroke-width:4; stroke-opacity:1; fill:none\" points=\"472.572,71.0607 472.572,1486.45 510.872,1486.45 510.872,71.0607 472.572,71.0607 \"/>\n",
       "<path clip-path=\"url(#clip742)\" d=\"M510.872 130.262 L510.872 1486.45 L549.173 1486.45 L549.173 130.262 L510.872 130.262 L510.872 130.262  Z\" fill=\"#8be9fd\" fill-rule=\"evenodd\" fill-opacity=\"1\"/>\n",
       "<polyline clip-path=\"url(#clip742)\" style=\"stroke:#f8f8f2; stroke-linecap:round; stroke-linejoin:round; stroke-width:4; stroke-opacity:1; fill:none\" points=\"510.872,130.262 510.872,1486.45 549.173,1486.45 549.173,130.262 510.872,130.262 \"/>\n",
       "<path clip-path=\"url(#clip742)\" d=\"M549.173 175.854 L549.173 1486.45 L587.474 1486.45 L587.474 175.854 L549.173 175.854 L549.173 175.854  Z\" fill=\"#8be9fd\" fill-rule=\"evenodd\" fill-opacity=\"1\"/>\n",
       "<polyline clip-path=\"url(#clip742)\" style=\"stroke:#f8f8f2; stroke-linecap:round; stroke-linejoin:round; stroke-width:4; stroke-opacity:1; fill:none\" points=\"549.173,175.854 549.173,1486.45 587.474,1486.45 587.474,175.854 549.173,175.854 \"/>\n",
       "<path clip-path=\"url(#clip742)\" d=\"M587.474 77.185 L587.474 1486.45 L625.775 1486.45 L625.775 77.185 L587.474 77.185 L587.474 77.185  Z\" fill=\"#8be9fd\" fill-rule=\"evenodd\" fill-opacity=\"1\"/>\n",
       "<polyline clip-path=\"url(#clip742)\" style=\"stroke:#f8f8f2; stroke-linecap:round; stroke-linejoin:round; stroke-width:4; stroke-opacity:1; fill:none\" points=\"587.474,77.185 587.474,1486.45 625.775,1486.45 625.775,77.185 587.474,77.185 \"/>\n",
       "<path clip-path=\"url(#clip742)\" d=\"M625.775 47.2441 L625.775 1486.45 L664.075 1486.45 L664.075 47.2441 L625.775 47.2441 L625.775 47.2441  Z\" fill=\"#8be9fd\" fill-rule=\"evenodd\" fill-opacity=\"1\"/>\n",
       "<polyline clip-path=\"url(#clip742)\" style=\"stroke:#f8f8f2; stroke-linecap:round; stroke-linejoin:round; stroke-width:4; stroke-opacity:1; fill:none\" points=\"625.775,47.2441 625.775,1486.45 664.075,1486.45 664.075,47.2441 625.775,47.2441 \"/>\n",
       "<path clip-path=\"url(#clip742)\" d=\"M664.075 113.931 L664.075 1486.45 L702.376 1486.45 L702.376 113.931 L664.075 113.931 L664.075 113.931  Z\" fill=\"#8be9fd\" fill-rule=\"evenodd\" fill-opacity=\"1\"/>\n",
       "<polyline clip-path=\"url(#clip742)\" style=\"stroke:#f8f8f2; stroke-linecap:round; stroke-linejoin:round; stroke-width:4; stroke-opacity:1; fill:none\" points=\"664.075,113.931 664.075,1486.45 702.376,1486.45 702.376,113.931 664.075,113.931 \"/>\n",
       "<path clip-path=\"url(#clip742)\" d=\"M702.376 125.499 L702.376 1486.45 L740.677 1486.45 L740.677 125.499 L702.376 125.499 L702.376 125.499  Z\" fill=\"#8be9fd\" fill-rule=\"evenodd\" fill-opacity=\"1\"/>\n",
       "<polyline clip-path=\"url(#clip742)\" style=\"stroke:#f8f8f2; stroke-linecap:round; stroke-linejoin:round; stroke-width:4; stroke-opacity:1; fill:none\" points=\"702.376,125.499 702.376,1486.45 740.677,1486.45 740.677,125.499 702.376,125.499 \"/>\n",
       "<path clip-path=\"url(#clip742)\" d=\"M740.677 143.871 L740.677 1486.45 L778.978 1486.45 L778.978 143.871 L740.677 143.871 L740.677 143.871  Z\" fill=\"#8be9fd\" fill-rule=\"evenodd\" fill-opacity=\"1\"/>\n",
       "<polyline clip-path=\"url(#clip742)\" style=\"stroke:#f8f8f2; stroke-linecap:round; stroke-linejoin:round; stroke-width:4; stroke-opacity:1; fill:none\" points=\"740.677,143.871 740.677,1486.45 778.978,1486.45 778.978,143.871 740.677,143.871 \"/>\n",
       "<path clip-path=\"url(#clip742)\" d=\"M778.978 88.0726 L778.978 1486.45 L817.278 1486.45 L817.278 88.0726 L778.978 88.0726 L778.978 88.0726  Z\" fill=\"#8be9fd\" fill-rule=\"evenodd\" fill-opacity=\"1\"/>\n",
       "<polyline clip-path=\"url(#clip742)\" style=\"stroke:#f8f8f2; stroke-linecap:round; stroke-linejoin:round; stroke-width:4; stroke-opacity:1; fill:none\" points=\"778.978,88.0726 778.978,1486.45 817.278,1486.45 817.278,88.0726 778.978,88.0726 \"/>\n",
       "<path clip-path=\"url(#clip742)\" d=\"M817.278 139.789 L817.278 1486.45 L855.579 1486.45 L855.579 139.789 L817.278 139.789 L817.278 139.789  Z\" fill=\"#8be9fd\" fill-rule=\"evenodd\" fill-opacity=\"1\"/>\n",
       "<polyline clip-path=\"url(#clip742)\" style=\"stroke:#f8f8f2; stroke-linecap:round; stroke-linejoin:round; stroke-width:4; stroke-opacity:1; fill:none\" points=\"817.278,139.789 817.278,1486.45 855.579,1486.45 855.579,139.789 817.278,139.789 \"/>\n",
       "<path clip-path=\"url(#clip742)\" d=\"M855.579 147.954 L855.579 1486.45 L893.88 1486.45 L893.88 147.954 L855.579 147.954 L855.579 147.954  Z\" fill=\"#8be9fd\" fill-rule=\"evenodd\" fill-opacity=\"1\"/>\n",
       "<polyline clip-path=\"url(#clip742)\" style=\"stroke:#f8f8f2; stroke-linecap:round; stroke-linejoin:round; stroke-width:4; stroke-opacity:1; fill:none\" points=\"855.579,147.954 855.579,1486.45 893.88,1486.45 893.88,147.954 855.579,147.954 \"/>\n",
       "<path clip-path=\"url(#clip742)\" d=\"M893.88 102.363 L893.88 1486.45 L932.181 1486.45 L932.181 102.363 L893.88 102.363 L893.88 102.363  Z\" fill=\"#8be9fd\" fill-rule=\"evenodd\" fill-opacity=\"1\"/>\n",
       "<polyline clip-path=\"url(#clip742)\" style=\"stroke:#f8f8f2; stroke-linecap:round; stroke-linejoin:round; stroke-width:4; stroke-opacity:1; fill:none\" points=\"893.88,102.363 893.88,1486.45 932.181,1486.45 932.181,102.363 893.88,102.363 \"/>\n",
       "<path clip-path=\"url(#clip742)\" d=\"M932.181 169.049 L932.181 1486.45 L970.482 1486.45 L970.482 169.049 L932.181 169.049 L932.181 169.049  Z\" fill=\"#8be9fd\" fill-rule=\"evenodd\" fill-opacity=\"1\"/>\n",
       "<polyline clip-path=\"url(#clip742)\" style=\"stroke:#f8f8f2; stroke-linecap:round; stroke-linejoin:round; stroke-width:4; stroke-opacity:1; fill:none\" points=\"932.181,169.049 932.181,1486.45 970.482,1486.45 970.482,169.049 932.181,169.049 \"/>\n",
       "<path clip-path=\"url(#clip742)\" d=\"M970.482 134.345 L970.482 1486.45 L1008.78 1486.45 L1008.78 134.345 L970.482 134.345 L970.482 134.345  Z\" fill=\"#8be9fd\" fill-rule=\"evenodd\" fill-opacity=\"1\"/>\n",
       "<polyline clip-path=\"url(#clip742)\" style=\"stroke:#f8f8f2; stroke-linecap:round; stroke-linejoin:round; stroke-width:4; stroke-opacity:1; fill:none\" points=\"970.482,134.345 970.482,1486.45 1008.78,1486.45 1008.78,134.345 970.482,134.345 \"/>\n",
       "<path clip-path=\"url(#clip742)\" d=\"M1008.78 97.5992 L1008.78 1486.45 L1047.08 1486.45 L1047.08 97.5992 L1008.78 97.5992 L1008.78 97.5992  Z\" fill=\"#8be9fd\" fill-rule=\"evenodd\" fill-opacity=\"1\"/>\n",
       "<polyline clip-path=\"url(#clip742)\" style=\"stroke:#f8f8f2; stroke-linecap:round; stroke-linejoin:round; stroke-width:4; stroke-opacity:1; fill:none\" points=\"1008.78,97.5992 1008.78,1486.45 1047.08,1486.45 1047.08,97.5992 1008.78,97.5992 \"/>\n",
       "<path clip-path=\"url(#clip742)\" d=\"M1047.08 75.824 L1047.08 1486.45 L1085.38 1486.45 L1085.38 75.824 L1047.08 75.824 L1047.08 75.824  Z\" fill=\"#8be9fd\" fill-rule=\"evenodd\" fill-opacity=\"1\"/>\n",
       "<polyline clip-path=\"url(#clip742)\" style=\"stroke:#f8f8f2; stroke-linecap:round; stroke-linejoin:round; stroke-width:4; stroke-opacity:1; fill:none\" points=\"1047.08,75.824 1047.08,1486.45 1085.38,1486.45 1085.38,75.824 1047.08,75.824 \"/>\n",
       "<path clip-path=\"url(#clip742)\" d=\"M1085.38 167.008 L1085.38 1486.45 L1123.68 1486.45 L1123.68 167.008 L1085.38 167.008 L1085.38 167.008  Z\" fill=\"#8be9fd\" fill-rule=\"evenodd\" fill-opacity=\"1\"/>\n",
       "<polyline clip-path=\"url(#clip742)\" style=\"stroke:#f8f8f2; stroke-linecap:round; stroke-linejoin:round; stroke-width:4; stroke-opacity:1; fill:none\" points=\"1085.38,167.008 1085.38,1486.45 1123.68,1486.45 1123.68,167.008 1085.38,167.008 \"/>\n",
       "<path clip-path=\"url(#clip742)\" d=\"M1123.68 120.735 L1123.68 1486.45 L1161.99 1486.45 L1161.99 120.735 L1123.68 120.735 L1123.68 120.735  Z\" fill=\"#8be9fd\" fill-rule=\"evenodd\" fill-opacity=\"1\"/>\n",
       "<polyline clip-path=\"url(#clip742)\" style=\"stroke:#f8f8f2; stroke-linecap:round; stroke-linejoin:round; stroke-width:4; stroke-opacity:1; fill:none\" points=\"1123.68,120.735 1123.68,1486.45 1161.99,1486.45 1161.99,120.735 1123.68,120.735 \"/>\n",
       "<path clip-path=\"url(#clip742)\" d=\"M1161.99 91.4749 L1161.99 1486.45 L1200.29 1486.45 L1200.29 91.4749 L1161.99 91.4749 L1161.99 91.4749  Z\" fill=\"#8be9fd\" fill-rule=\"evenodd\" fill-opacity=\"1\"/>\n",
       "<polyline clip-path=\"url(#clip742)\" style=\"stroke:#f8f8f2; stroke-linecap:round; stroke-linejoin:round; stroke-width:4; stroke-opacity:1; fill:none\" points=\"1161.99,91.4749 1161.99,1486.45 1200.29,1486.45 1200.29,91.4749 1161.99,91.4749 \"/>\n",
       "<path clip-path=\"url(#clip742)\" d=\"M1200.29 87.3921 L1200.29 1486.45 L1238.59 1486.45 L1238.59 87.3921 L1200.29 87.3921 L1200.29 87.3921  Z\" fill=\"#8be9fd\" fill-rule=\"evenodd\" fill-opacity=\"1\"/>\n",
       "<polyline clip-path=\"url(#clip742)\" style=\"stroke:#f8f8f2; stroke-linecap:round; stroke-linejoin:round; stroke-width:4; stroke-opacity:1; fill:none\" points=\"1200.29,87.3921 1200.29,1486.45 1238.59,1486.45 1238.59,87.3921 1200.29,87.3921 \"/>\n",
       "<path clip-path=\"url(#clip742)\" d=\"M1238.59 160.203 L1238.59 1486.45 L1276.89 1486.45 L1276.89 160.203 L1238.59 160.203 L1238.59 160.203  Z\" fill=\"#8be9fd\" fill-rule=\"evenodd\" fill-opacity=\"1\"/>\n",
       "<polyline clip-path=\"url(#clip742)\" style=\"stroke:#f8f8f2; stroke-linecap:round; stroke-linejoin:round; stroke-width:4; stroke-opacity:1; fill:none\" points=\"1238.59,160.203 1238.59,1486.45 1276.89,1486.45 1276.89,160.203 1238.59,160.203 \"/>\n",
       "<path clip-path=\"url(#clip742)\" d=\"M1276.89 87.3921 L1276.89 1486.45 L1315.19 1486.45 L1315.19 87.3921 L1276.89 87.3921 L1276.89 87.3921  Z\" fill=\"#8be9fd\" fill-rule=\"evenodd\" fill-opacity=\"1\"/>\n",
       "<polyline clip-path=\"url(#clip742)\" style=\"stroke:#f8f8f2; stroke-linecap:round; stroke-linejoin:round; stroke-width:4; stroke-opacity:1; fill:none\" points=\"1276.89,87.3921 1276.89,1486.45 1315.19,1486.45 1315.19,87.3921 1276.89,87.3921 \"/>\n",
       "<path clip-path=\"url(#clip742)\" d=\"M1315.19 107.806 L1315.19 1486.45 L1353.49 1486.45 L1353.49 107.806 L1315.19 107.806 L1315.19 107.806  Z\" fill=\"#8be9fd\" fill-rule=\"evenodd\" fill-opacity=\"1\"/>\n",
       "<polyline clip-path=\"url(#clip742)\" style=\"stroke:#f8f8f2; stroke-linecap:round; stroke-linejoin:round; stroke-width:4; stroke-opacity:1; fill:none\" points=\"1315.19,107.806 1315.19,1486.45 1353.49,1486.45 1353.49,107.806 1315.19,107.806 \"/>\n",
       "<path clip-path=\"url(#clip742)\" d=\"M1353.49 124.138 L1353.49 1486.45 L1391.79 1486.45 L1391.79 124.138 L1353.49 124.138 L1353.49 124.138  Z\" fill=\"#8be9fd\" fill-rule=\"evenodd\" fill-opacity=\"1\"/>\n",
       "<polyline clip-path=\"url(#clip742)\" style=\"stroke:#f8f8f2; stroke-linecap:round; stroke-linejoin:round; stroke-width:4; stroke-opacity:1; fill:none\" points=\"1353.49,124.138 1353.49,1486.45 1391.79,1486.45 1391.79,124.138 1353.49,124.138 \"/>\n",
       "<path clip-path=\"url(#clip742)\" d=\"M1391.79 159.522 L1391.79 1486.45 L1430.09 1486.45 L1430.09 159.522 L1391.79 159.522 L1391.79 159.522  Z\" fill=\"#8be9fd\" fill-rule=\"evenodd\" fill-opacity=\"1\"/>\n",
       "<polyline clip-path=\"url(#clip742)\" style=\"stroke:#f8f8f2; stroke-linecap:round; stroke-linejoin:round; stroke-width:4; stroke-opacity:1; fill:none\" points=\"1391.79,159.522 1391.79,1486.45 1430.09,1486.45 1430.09,159.522 1391.79,159.522 \"/>\n",
       "<path clip-path=\"url(#clip742)\" d=\"M1430.09 147.274 L1430.09 1486.45 L1468.39 1486.45 L1468.39 147.274 L1430.09 147.274 L1430.09 147.274  Z\" fill=\"#8be9fd\" fill-rule=\"evenodd\" fill-opacity=\"1\"/>\n",
       "<polyline clip-path=\"url(#clip742)\" style=\"stroke:#f8f8f2; stroke-linecap:round; stroke-linejoin:round; stroke-width:4; stroke-opacity:1; fill:none\" points=\"1430.09,147.274 1430.09,1486.45 1468.39,1486.45 1468.39,147.274 1430.09,147.274 \"/>\n",
       "<path clip-path=\"url(#clip742)\" d=\"M1468.39 128.221 L1468.39 1486.45 L1506.69 1486.45 L1506.69 128.221 L1468.39 128.221 L1468.39 128.221  Z\" fill=\"#8be9fd\" fill-rule=\"evenodd\" fill-opacity=\"1\"/>\n",
       "<polyline clip-path=\"url(#clip742)\" style=\"stroke:#f8f8f2; stroke-linecap:round; stroke-linejoin:round; stroke-width:4; stroke-opacity:1; fill:none\" points=\"1468.39,128.221 1468.39,1486.45 1506.69,1486.45 1506.69,128.221 1468.39,128.221 \"/>\n",
       "<path clip-path=\"url(#clip742)\" d=\"M1506.69 166.327 L1506.69 1486.45 L1544.99 1486.45 L1544.99 166.327 L1506.69 166.327 L1506.69 166.327  Z\" fill=\"#8be9fd\" fill-rule=\"evenodd\" fill-opacity=\"1\"/>\n",
       "<polyline clip-path=\"url(#clip742)\" style=\"stroke:#f8f8f2; stroke-linecap:round; stroke-linejoin:round; stroke-width:4; stroke-opacity:1; fill:none\" points=\"1506.69,166.327 1506.69,1486.45 1544.99,1486.45 1544.99,166.327 1506.69,166.327 \"/>\n",
       "<path clip-path=\"url(#clip742)\" d=\"M1544.99 135.706 L1544.99 1486.45 L1583.29 1486.45 L1583.29 135.706 L1544.99 135.706 L1544.99 135.706  Z\" fill=\"#8be9fd\" fill-rule=\"evenodd\" fill-opacity=\"1\"/>\n",
       "<polyline clip-path=\"url(#clip742)\" style=\"stroke:#f8f8f2; stroke-linecap:round; stroke-linejoin:round; stroke-width:4; stroke-opacity:1; fill:none\" points=\"1544.99,135.706 1544.99,1486.45 1583.29,1486.45 1583.29,135.706 1544.99,135.706 \"/>\n",
       "<path clip-path=\"url(#clip742)\" d=\"M1583.29 117.333 L1583.29 1486.45 L1621.59 1486.45 L1621.59 117.333 L1583.29 117.333 L1583.29 117.333  Z\" fill=\"#8be9fd\" fill-rule=\"evenodd\" fill-opacity=\"1\"/>\n",
       "<polyline clip-path=\"url(#clip742)\" style=\"stroke:#f8f8f2; stroke-linecap:round; stroke-linejoin:round; stroke-width:4; stroke-opacity:1; fill:none\" points=\"1583.29,117.333 1583.29,1486.45 1621.59,1486.45 1621.59,117.333 1583.29,117.333 \"/>\n",
       "<path clip-path=\"url(#clip742)\" d=\"M1621.59 141.15 L1621.59 1486.45 L1659.9 1486.45 L1659.9 141.15 L1621.59 141.15 L1621.59 141.15  Z\" fill=\"#8be9fd\" fill-rule=\"evenodd\" fill-opacity=\"1\"/>\n",
       "<polyline clip-path=\"url(#clip742)\" style=\"stroke:#f8f8f2; stroke-linecap:round; stroke-linejoin:round; stroke-width:4; stroke-opacity:1; fill:none\" points=\"1621.59,141.15 1621.59,1486.45 1659.9,1486.45 1659.9,141.15 1621.59,141.15 \"/>\n",
       "<path clip-path=\"url(#clip742)\" d=\"M1659.9 86.7116 L1659.9 1486.45 L1698.2 1486.45 L1698.2 86.7116 L1659.9 86.7116 L1659.9 86.7116  Z\" fill=\"#8be9fd\" fill-rule=\"evenodd\" fill-opacity=\"1\"/>\n",
       "<polyline clip-path=\"url(#clip742)\" style=\"stroke:#f8f8f2; stroke-linecap:round; stroke-linejoin:round; stroke-width:4; stroke-opacity:1; fill:none\" points=\"1659.9,86.7116 1659.9,1486.45 1698.2,1486.45 1698.2,86.7116 1659.9,86.7116 \"/>\n",
       "<path clip-path=\"url(#clip742)\" d=\"M1698.2 162.244 L1698.2 1486.45 L1736.5 1486.45 L1736.5 162.244 L1698.2 162.244 L1698.2 162.244  Z\" fill=\"#8be9fd\" fill-rule=\"evenodd\" fill-opacity=\"1\"/>\n",
       "<polyline clip-path=\"url(#clip742)\" style=\"stroke:#f8f8f2; stroke-linecap:round; stroke-linejoin:round; stroke-width:4; stroke-opacity:1; fill:none\" points=\"1698.2,162.244 1698.2,1486.45 1736.5,1486.45 1736.5,162.244 1698.2,162.244 \"/>\n",
       "<path clip-path=\"url(#clip742)\" d=\"M1736.5 120.735 L1736.5 1486.45 L1774.8 1486.45 L1774.8 120.735 L1736.5 120.735 L1736.5 120.735  Z\" fill=\"#8be9fd\" fill-rule=\"evenodd\" fill-opacity=\"1\"/>\n",
       "<polyline clip-path=\"url(#clip742)\" style=\"stroke:#f8f8f2; stroke-linecap:round; stroke-linejoin:round; stroke-width:4; stroke-opacity:1; fill:none\" points=\"1736.5,120.735 1736.5,1486.45 1774.8,1486.45 1774.8,120.735 1736.5,120.735 \"/>\n",
       "<path clip-path=\"url(#clip742)\" d=\"M1774.8 74.4631 L1774.8 1486.45 L1813.1 1486.45 L1813.1 74.4631 L1774.8 74.4631 L1774.8 74.4631  Z\" fill=\"#8be9fd\" fill-rule=\"evenodd\" fill-opacity=\"1\"/>\n",
       "<polyline clip-path=\"url(#clip742)\" style=\"stroke:#f8f8f2; stroke-linecap:round; stroke-linejoin:round; stroke-width:4; stroke-opacity:1; fill:none\" points=\"1774.8,74.4631 1774.8,1486.45 1813.1,1486.45 1813.1,74.4631 1774.8,74.4631 \"/>\n",
       "<path clip-path=\"url(#clip742)\" d=\"M1813.1 147.954 L1813.1 1486.45 L1851.4 1486.45 L1851.4 147.954 L1813.1 147.954 L1813.1 147.954  Z\" fill=\"#8be9fd\" fill-rule=\"evenodd\" fill-opacity=\"1\"/>\n",
       "<polyline clip-path=\"url(#clip742)\" style=\"stroke:#f8f8f2; stroke-linecap:round; stroke-linejoin:round; stroke-width:4; stroke-opacity:1; fill:none\" points=\"1813.1,147.954 1813.1,1486.45 1851.4,1486.45 1851.4,147.954 1813.1,147.954 \"/>\n",
       "<path clip-path=\"url(#clip742)\" d=\"M1851.4 124.138 L1851.4 1486.45 L1889.7 1486.45 L1889.7 124.138 L1851.4 124.138 L1851.4 124.138  Z\" fill=\"#8be9fd\" fill-rule=\"evenodd\" fill-opacity=\"1\"/>\n",
       "<polyline clip-path=\"url(#clip742)\" style=\"stroke:#f8f8f2; stroke-linecap:round; stroke-linejoin:round; stroke-width:4; stroke-opacity:1; fill:none\" points=\"1851.4,124.138 1851.4,1486.45 1889.7,1486.45 1889.7,124.138 1851.4,124.138 \"/>\n",
       "<path clip-path=\"url(#clip742)\" d=\"M1889.7 156.12 L1889.7 1486.45 L1928 1486.45 L1928 156.12 L1889.7 156.12 L1889.7 156.12  Z\" fill=\"#8be9fd\" fill-rule=\"evenodd\" fill-opacity=\"1\"/>\n",
       "<polyline clip-path=\"url(#clip742)\" style=\"stroke:#f8f8f2; stroke-linecap:round; stroke-linejoin:round; stroke-width:4; stroke-opacity:1; fill:none\" points=\"1889.7,156.12 1889.7,1486.45 1928,1486.45 1928,156.12 1889.7,156.12 \"/>\n",
       "<path clip-path=\"url(#clip742)\" d=\"M1928 118.694 L1928 1486.45 L1966.3 1486.45 L1966.3 118.694 L1928 118.694 L1928 118.694  Z\" fill=\"#8be9fd\" fill-rule=\"evenodd\" fill-opacity=\"1\"/>\n",
       "<polyline clip-path=\"url(#clip742)\" style=\"stroke:#f8f8f2; stroke-linecap:round; stroke-linejoin:round; stroke-width:4; stroke-opacity:1; fill:none\" points=\"1928,118.694 1928,1486.45 1966.3,1486.45 1966.3,118.694 1928,118.694 \"/>\n",
       "<path clip-path=\"url(#clip742)\" d=\"M1966.3 151.357 L1966.3 1486.45 L2004.6 1486.45 L2004.6 151.357 L1966.3 151.357 L1966.3 151.357  Z\" fill=\"#8be9fd\" fill-rule=\"evenodd\" fill-opacity=\"1\"/>\n",
       "<polyline clip-path=\"url(#clip742)\" style=\"stroke:#f8f8f2; stroke-linecap:round; stroke-linejoin:round; stroke-width:4; stroke-opacity:1; fill:none\" points=\"1966.3,151.357 1966.3,1486.45 2004.6,1486.45 2004.6,151.357 1966.3,151.357 \"/>\n",
       "<path clip-path=\"url(#clip742)\" d=\"M2004.6 123.457 L2004.6 1486.45 L2042.9 1486.45 L2042.9 123.457 L2004.6 123.457 L2004.6 123.457  Z\" fill=\"#8be9fd\" fill-rule=\"evenodd\" fill-opacity=\"1\"/>\n",
       "<polyline clip-path=\"url(#clip742)\" style=\"stroke:#f8f8f2; stroke-linecap:round; stroke-linejoin:round; stroke-width:4; stroke-opacity:1; fill:none\" points=\"2004.6,123.457 2004.6,1486.45 2042.9,1486.45 2042.9,123.457 2004.6,123.457 \"/>\n",
       "<path clip-path=\"url(#clip742)\" d=\"M2042.9 205.795 L2042.9 1486.45 L2081.2 1486.45 L2081.2 205.795 L2042.9 205.795 L2042.9 205.795  Z\" fill=\"#8be9fd\" fill-rule=\"evenodd\" fill-opacity=\"1\"/>\n",
       "<polyline clip-path=\"url(#clip742)\" style=\"stroke:#f8f8f2; stroke-linecap:round; stroke-linejoin:round; stroke-width:4; stroke-opacity:1; fill:none\" points=\"2042.9,205.795 2042.9,1486.45 2081.2,1486.45 2081.2,205.795 2042.9,205.795 \"/>\n",
       "<path clip-path=\"url(#clip742)\" d=\"M2081.2 139.108 L2081.2 1486.45 L2119.5 1486.45 L2119.5 139.108 L2081.2 139.108 L2081.2 139.108  Z\" fill=\"#8be9fd\" fill-rule=\"evenodd\" fill-opacity=\"1\"/>\n",
       "<polyline clip-path=\"url(#clip742)\" style=\"stroke:#f8f8f2; stroke-linecap:round; stroke-linejoin:round; stroke-width:4; stroke-opacity:1; fill:none\" points=\"2081.2,139.108 2081.2,1486.45 2119.5,1486.45 2119.5,139.108 2081.2,139.108 \"/>\n",
       "<path clip-path=\"url(#clip742)\" d=\"M2119.5 137.067 L2119.5 1486.45 L2157.81 1486.45 L2157.81 137.067 L2119.5 137.067 L2119.5 137.067  Z\" fill=\"#8be9fd\" fill-rule=\"evenodd\" fill-opacity=\"1\"/>\n",
       "<polyline clip-path=\"url(#clip742)\" style=\"stroke:#f8f8f2; stroke-linecap:round; stroke-linejoin:round; stroke-width:4; stroke-opacity:1; fill:none\" points=\"2119.5,137.067 2119.5,1486.45 2157.81,1486.45 2157.81,137.067 2119.5,137.067 \"/>\n",
       "<path clip-path=\"url(#clip742)\" d=\"M2157.81 109.848 L2157.81 1486.45 L2196.11 1486.45 L2196.11 109.848 L2157.81 109.848 L2157.81 109.848  Z\" fill=\"#8be9fd\" fill-rule=\"evenodd\" fill-opacity=\"1\"/>\n",
       "<polyline clip-path=\"url(#clip742)\" style=\"stroke:#f8f8f2; stroke-linecap:round; stroke-linejoin:round; stroke-width:4; stroke-opacity:1; fill:none\" points=\"2157.81,109.848 2157.81,1486.45 2196.11,1486.45 2196.11,109.848 2157.81,109.848 \"/>\n",
       "<path clip-path=\"url(#clip742)\" d=\"M2196.11 156.801 L2196.11 1486.45 L2234.41 1486.45 L2234.41 156.801 L2196.11 156.801 L2196.11 156.801  Z\" fill=\"#8be9fd\" fill-rule=\"evenodd\" fill-opacity=\"1\"/>\n",
       "<polyline clip-path=\"url(#clip742)\" style=\"stroke:#f8f8f2; stroke-linecap:round; stroke-linejoin:round; stroke-width:4; stroke-opacity:1; fill:none\" points=\"2196.11,156.801 2196.11,1486.45 2234.41,1486.45 2234.41,156.801 2196.11,156.801 \"/>\n",
       "<circle clip-path=\"url(#clip742)\" style=\"fill:#8be9fd; stroke:none; fill-opacity:0\" cx=\"338.519\" cy=\"93.5164\" r=\"2\"/>\n",
       "<circle clip-path=\"url(#clip742)\" style=\"fill:#8be9fd; stroke:none; fill-opacity:0\" cx=\"376.82\" cy=\"161.564\" r=\"2\"/>\n",
       "<circle clip-path=\"url(#clip742)\" style=\"fill:#8be9fd; stroke:none; fill-opacity:0\" cx=\"415.121\" cy=\"109.848\" r=\"2\"/>\n",
       "<circle clip-path=\"url(#clip742)\" style=\"fill:#8be9fd; stroke:none; fill-opacity:0\" cx=\"453.421\" cy=\"113.931\" r=\"2\"/>\n",
       "<circle clip-path=\"url(#clip742)\" style=\"fill:#8be9fd; stroke:none; fill-opacity:0\" cx=\"491.722\" cy=\"71.0607\" r=\"2\"/>\n",
       "<circle clip-path=\"url(#clip742)\" style=\"fill:#8be9fd; stroke:none; fill-opacity:0\" cx=\"530.023\" cy=\"130.262\" r=\"2\"/>\n",
       "<circle clip-path=\"url(#clip742)\" style=\"fill:#8be9fd; stroke:none; fill-opacity:0\" cx=\"568.324\" cy=\"175.854\" r=\"2\"/>\n",
       "<circle clip-path=\"url(#clip742)\" style=\"fill:#8be9fd; stroke:none; fill-opacity:0\" cx=\"606.624\" cy=\"77.185\" r=\"2\"/>\n",
       "<circle clip-path=\"url(#clip742)\" style=\"fill:#8be9fd; stroke:none; fill-opacity:0\" cx=\"644.925\" cy=\"47.2441\" r=\"2\"/>\n",
       "<circle clip-path=\"url(#clip742)\" style=\"fill:#8be9fd; stroke:none; fill-opacity:0\" cx=\"683.226\" cy=\"113.931\" r=\"2\"/>\n",
       "<circle clip-path=\"url(#clip742)\" style=\"fill:#8be9fd; stroke:none; fill-opacity:0\" cx=\"721.527\" cy=\"125.499\" r=\"2\"/>\n",
       "<circle clip-path=\"url(#clip742)\" style=\"fill:#8be9fd; stroke:none; fill-opacity:0\" cx=\"759.827\" cy=\"143.871\" r=\"2\"/>\n",
       "<circle clip-path=\"url(#clip742)\" style=\"fill:#8be9fd; stroke:none; fill-opacity:0\" cx=\"798.128\" cy=\"88.0726\" r=\"2\"/>\n",
       "<circle clip-path=\"url(#clip742)\" style=\"fill:#8be9fd; stroke:none; fill-opacity:0\" cx=\"836.429\" cy=\"139.789\" r=\"2\"/>\n",
       "<circle clip-path=\"url(#clip742)\" style=\"fill:#8be9fd; stroke:none; fill-opacity:0\" cx=\"874.73\" cy=\"147.954\" r=\"2\"/>\n",
       "<circle clip-path=\"url(#clip742)\" style=\"fill:#8be9fd; stroke:none; fill-opacity:0\" cx=\"913.03\" cy=\"102.363\" r=\"2\"/>\n",
       "<circle clip-path=\"url(#clip742)\" style=\"fill:#8be9fd; stroke:none; fill-opacity:0\" cx=\"951.331\" cy=\"169.049\" r=\"2\"/>\n",
       "<circle clip-path=\"url(#clip742)\" style=\"fill:#8be9fd; stroke:none; fill-opacity:0\" cx=\"989.632\" cy=\"134.345\" r=\"2\"/>\n",
       "<circle clip-path=\"url(#clip742)\" style=\"fill:#8be9fd; stroke:none; fill-opacity:0\" cx=\"1027.93\" cy=\"97.5992\" r=\"2\"/>\n",
       "<circle clip-path=\"url(#clip742)\" style=\"fill:#8be9fd; stroke:none; fill-opacity:0\" cx=\"1066.23\" cy=\"75.824\" r=\"2\"/>\n",
       "<circle clip-path=\"url(#clip742)\" style=\"fill:#8be9fd; stroke:none; fill-opacity:0\" cx=\"1104.53\" cy=\"167.008\" r=\"2\"/>\n",
       "<circle clip-path=\"url(#clip742)\" style=\"fill:#8be9fd; stroke:none; fill-opacity:0\" cx=\"1142.83\" cy=\"120.735\" r=\"2\"/>\n",
       "<circle clip-path=\"url(#clip742)\" style=\"fill:#8be9fd; stroke:none; fill-opacity:0\" cx=\"1181.14\" cy=\"91.4749\" r=\"2\"/>\n",
       "<circle clip-path=\"url(#clip742)\" style=\"fill:#8be9fd; stroke:none; fill-opacity:0\" cx=\"1219.44\" cy=\"87.3921\" r=\"2\"/>\n",
       "<circle clip-path=\"url(#clip742)\" style=\"fill:#8be9fd; stroke:none; fill-opacity:0\" cx=\"1257.74\" cy=\"160.203\" r=\"2\"/>\n",
       "<circle clip-path=\"url(#clip742)\" style=\"fill:#8be9fd; stroke:none; fill-opacity:0\" cx=\"1296.04\" cy=\"87.3921\" r=\"2\"/>\n",
       "<circle clip-path=\"url(#clip742)\" style=\"fill:#8be9fd; stroke:none; fill-opacity:0\" cx=\"1334.34\" cy=\"107.806\" r=\"2\"/>\n",
       "<circle clip-path=\"url(#clip742)\" style=\"fill:#8be9fd; stroke:none; fill-opacity:0\" cx=\"1372.64\" cy=\"124.138\" r=\"2\"/>\n",
       "<circle clip-path=\"url(#clip742)\" style=\"fill:#8be9fd; stroke:none; fill-opacity:0\" cx=\"1410.94\" cy=\"159.522\" r=\"2\"/>\n",
       "<circle clip-path=\"url(#clip742)\" style=\"fill:#8be9fd; stroke:none; fill-opacity:0\" cx=\"1449.24\" cy=\"147.274\" r=\"2\"/>\n",
       "<circle clip-path=\"url(#clip742)\" style=\"fill:#8be9fd; stroke:none; fill-opacity:0\" cx=\"1487.54\" cy=\"128.221\" r=\"2\"/>\n",
       "<circle clip-path=\"url(#clip742)\" style=\"fill:#8be9fd; stroke:none; fill-opacity:0\" cx=\"1525.84\" cy=\"166.327\" r=\"2\"/>\n",
       "<circle clip-path=\"url(#clip742)\" style=\"fill:#8be9fd; stroke:none; fill-opacity:0\" cx=\"1564.14\" cy=\"135.706\" r=\"2\"/>\n",
       "<circle clip-path=\"url(#clip742)\" style=\"fill:#8be9fd; stroke:none; fill-opacity:0\" cx=\"1602.44\" cy=\"117.333\" r=\"2\"/>\n",
       "<circle clip-path=\"url(#clip742)\" style=\"fill:#8be9fd; stroke:none; fill-opacity:0\" cx=\"1640.74\" cy=\"141.15\" r=\"2\"/>\n",
       "<circle clip-path=\"url(#clip742)\" style=\"fill:#8be9fd; stroke:none; fill-opacity:0\" cx=\"1679.05\" cy=\"86.7116\" r=\"2\"/>\n",
       "<circle clip-path=\"url(#clip742)\" style=\"fill:#8be9fd; stroke:none; fill-opacity:0\" cx=\"1717.35\" cy=\"162.244\" r=\"2\"/>\n",
       "<circle clip-path=\"url(#clip742)\" style=\"fill:#8be9fd; stroke:none; fill-opacity:0\" cx=\"1755.65\" cy=\"120.735\" r=\"2\"/>\n",
       "<circle clip-path=\"url(#clip742)\" style=\"fill:#8be9fd; stroke:none; fill-opacity:0\" cx=\"1793.95\" cy=\"74.4631\" r=\"2\"/>\n",
       "<circle clip-path=\"url(#clip742)\" style=\"fill:#8be9fd; stroke:none; fill-opacity:0\" cx=\"1832.25\" cy=\"147.954\" r=\"2\"/>\n",
       "<circle clip-path=\"url(#clip742)\" style=\"fill:#8be9fd; stroke:none; fill-opacity:0\" cx=\"1870.55\" cy=\"124.138\" r=\"2\"/>\n",
       "<circle clip-path=\"url(#clip742)\" style=\"fill:#8be9fd; stroke:none; fill-opacity:0\" cx=\"1908.85\" cy=\"156.12\" r=\"2\"/>\n",
       "<circle clip-path=\"url(#clip742)\" style=\"fill:#8be9fd; stroke:none; fill-opacity:0\" cx=\"1947.15\" cy=\"118.694\" r=\"2\"/>\n",
       "<circle clip-path=\"url(#clip742)\" style=\"fill:#8be9fd; stroke:none; fill-opacity:0\" cx=\"1985.45\" cy=\"151.357\" r=\"2\"/>\n",
       "<circle clip-path=\"url(#clip742)\" style=\"fill:#8be9fd; stroke:none; fill-opacity:0\" cx=\"2023.75\" cy=\"123.457\" r=\"2\"/>\n",
       "<circle clip-path=\"url(#clip742)\" style=\"fill:#8be9fd; stroke:none; fill-opacity:0\" cx=\"2062.05\" cy=\"205.795\" r=\"2\"/>\n",
       "<circle clip-path=\"url(#clip742)\" style=\"fill:#8be9fd; stroke:none; fill-opacity:0\" cx=\"2100.35\" cy=\"139.108\" r=\"2\"/>\n",
       "<circle clip-path=\"url(#clip742)\" style=\"fill:#8be9fd; stroke:none; fill-opacity:0\" cx=\"2138.65\" cy=\"137.067\" r=\"2\"/>\n",
       "<circle clip-path=\"url(#clip742)\" style=\"fill:#8be9fd; stroke:none; fill-opacity:0\" cx=\"2176.96\" cy=\"109.848\" r=\"2\"/>\n",
       "<circle clip-path=\"url(#clip742)\" style=\"fill:#8be9fd; stroke:none; fill-opacity:0\" cx=\"2215.26\" cy=\"156.801\" r=\"2\"/>\n",
       "</svg>\n"
      ]
     },
     "execution_count": 87,
     "metadata": {},
     "output_type": "execute_result"
    }
   ],
   "source": [
    "x = rand(10^5)\n",
    "histogram(x, bins=64, legend=false)"
   ]
  },
  {
   "cell_type": "code",
   "execution_count": 88,
   "metadata": {},
   "outputs": [
    {
     "data": {
      "text/latex": [
       "\\textbf{Normal Distribution}\n",
       "\n"
      ],
      "text/markdown": [
       "**Normal Distribution**\n"
      ],
      "text/plain": [
       "  \u001b[1mNormal Distribution\u001b[22m"
      ]
     },
     "execution_count": 88,
     "metadata": {},
     "output_type": "execute_result"
    }
   ],
   "source": [
    "md\"**Normal Distribution**\""
   ]
  },
  {
   "cell_type": "code",
   "execution_count": 89,
   "metadata": {},
   "outputs": [],
   "source": [
    "?randn;"
   ]
  },
  {
   "cell_type": "code",
   "execution_count": 90,
   "metadata": {},
   "outputs": [
    {
     "data": {
      "image/png": "[encoded data removed]",
      "image/svg+xml": [
       "<?xml version=\"1.0\" encoding=\"utf-8\"?>\n",
       "<svg xmlns=\"http://www.w3.org/2000/svg\" xmlns:xlink=\"http://www.w3.org/1999/xlink\" width=\"600\" height=\"400\" viewBox=\"0 0 2400 1600\">\n",
       "<defs>\n",
       "  <clipPath id=\"clip780\">\n",
       "    <rect x=\"0\" y=\"0\" width=\"2400\" height=\"1600\"/>\n",
       "  </clipPath>\n",
       "</defs>\n",
       "<path clip-path=\"url(#clip780)\" d=\"M0 1600 L2400 1600 L2400 0 L0 0  Z\" fill=\"#282a36\" fill-rule=\"evenodd\" fill-opacity=\"1\"/>\n",
       "<defs>\n",
       "  <clipPath id=\"clip781\">\n",
       "    <rect x=\"480\" y=\"0\" width=\"1681\" height=\"1600\"/>\n",
       "  </clipPath>\n",
       "</defs>\n",
       "<path clip-path=\"url(#clip780)\" d=\"M202.177 1486.45 L2352.76 1486.45 L2352.76 47.2441 L202.177 47.2441  Z\" fill=\"#30343b\" fill-rule=\"evenodd\" fill-opacity=\"1\"/>\n",
       "<defs>\n",
       "  <clipPath id=\"clip782\">\n",
       "    <rect x=\"202\" y=\"47\" width=\"2152\" height=\"1440\"/>\n",
       "  </clipPath>\n",
       "</defs>\n",
       "<polyline clip-path=\"url(#clip782)\" style=\"stroke:#f8f8f2; stroke-linecap:round; stroke-linejoin:round; stroke-width:2; stroke-opacity:0.1; fill:none\" points=\"442.633,1486.45 442.633,47.2441 \"/>\n",
       "<polyline clip-path=\"url(#clip782)\" style=\"stroke:#f8f8f2; stroke-linecap:round; stroke-linejoin:round; stroke-width:2; stroke-opacity:0.1; fill:none\" points=\"849.869,1486.45 849.869,47.2441 \"/>\n",
       "<polyline clip-path=\"url(#clip782)\" style=\"stroke:#f8f8f2; stroke-linecap:round; stroke-linejoin:round; stroke-width:2; stroke-opacity:0.1; fill:none\" points=\"1257.1,1486.45 1257.1,47.2441 \"/>\n",
       "<polyline clip-path=\"url(#clip782)\" style=\"stroke:#f8f8f2; stroke-linecap:round; stroke-linejoin:round; stroke-width:2; stroke-opacity:0.1; fill:none\" points=\"1664.34,1486.45 1664.34,47.2441 \"/>\n",
       "<polyline clip-path=\"url(#clip782)\" style=\"stroke:#f8f8f2; stroke-linecap:round; stroke-linejoin:round; stroke-width:2; stroke-opacity:0.1; fill:none\" points=\"2071.58,1486.45 2071.58,47.2441 \"/>\n",
       "<polyline clip-path=\"url(#clip780)\" style=\"stroke:#f8f8f2; stroke-linecap:round; stroke-linejoin:round; stroke-width:4; stroke-opacity:1; fill:none\" points=\"202.177,1486.45 2352.76,1486.45 \"/>\n",
       "<polyline clip-path=\"url(#clip780)\" style=\"stroke:#f8f8f2; stroke-linecap:round; stroke-linejoin:round; stroke-width:4; stroke-opacity:1; fill:none\" points=\"442.633,1486.45 442.633,1467.55 \"/>\n",
       "<polyline clip-path=\"url(#clip780)\" style=\"stroke:#f8f8f2; stroke-linecap:round; stroke-linejoin:round; stroke-width:4; stroke-opacity:1; fill:none\" points=\"849.869,1486.45 849.869,1467.55 \"/>\n",
       "<polyline clip-path=\"url(#clip780)\" style=\"stroke:#f8f8f2; stroke-linecap:round; stroke-linejoin:round; stroke-width:4; stroke-opacity:1; fill:none\" points=\"1257.1,1486.45 1257.1,1467.55 \"/>\n",
       "<polyline clip-path=\"url(#clip780)\" style=\"stroke:#f8f8f2; stroke-linecap:round; stroke-linejoin:round; stroke-width:4; stroke-opacity:1; fill:none\" points=\"1664.34,1486.45 1664.34,1467.55 \"/>\n",
       "<polyline clip-path=\"url(#clip780)\" style=\"stroke:#f8f8f2; stroke-linecap:round; stroke-linejoin:round; stroke-width:4; stroke-opacity:1; fill:none\" points=\"2071.58,1486.45 2071.58,1467.55 \"/>\n",
       "<path clip-path=\"url(#clip780)\" d=\"M411.534 1532.02 L441.209 1532.02 L441.209 1535.95 L411.534 1535.95 L411.534 1532.02 Z\" fill=\"#f8f8f2\" fill-rule=\"nonzero\" fill-opacity=\"1\" /><path clip-path=\"url(#clip780)\" d=\"M464.149 1518.36 L452.344 1536.81 L464.149 1536.81 L464.149 1518.36 M462.922 1514.29 L468.802 1514.29 L468.802 1536.81 L473.732 1536.81 L473.732 1540.7 L468.802 1540.7 L468.802 1548.85 L464.149 1548.85 L464.149 1540.7 L448.547 1540.7 L448.547 1536.19 L462.922 1514.29 Z\" fill=\"#f8f8f2\" fill-rule=\"nonzero\" fill-opacity=\"1\" /><path clip-path=\"url(#clip780)\" d=\"M819.811 1532.02 L849.487 1532.02 L849.487 1535.95 L819.811 1535.95 L819.811 1532.02 Z\" fill=\"#f8f8f2\" fill-rule=\"nonzero\" fill-opacity=\"1\" /><path clip-path=\"url(#clip780)\" d=\"M863.607 1544.91 L879.927 1544.91 L879.927 1548.85 L857.982 1548.85 L857.982 1544.91 Q860.644 1542.16 865.228 1537.53 Q869.834 1532.88 871.015 1531.53 Q873.26 1529.01 874.14 1527.27 Q875.042 1525.51 875.042 1523.82 Q875.042 1521.07 873.098 1519.33 Q871.177 1517.6 868.075 1517.6 Q865.876 1517.6 863.422 1518.36 Q860.991 1519.13 858.214 1520.68 L858.214 1515.95 Q861.038 1514.82 863.491 1514.24 Q865.945 1513.66 867.982 1513.66 Q873.352 1513.66 876.547 1516.35 Q879.741 1519.03 879.741 1523.52 Q879.741 1525.65 878.931 1527.57 Q878.144 1529.47 876.038 1532.07 Q875.459 1532.74 872.357 1535.95 Q869.255 1539.15 863.607 1544.91 Z\" fill=\"#f8f8f2\" fill-rule=\"nonzero\" fill-opacity=\"1\" /><path clip-path=\"url(#clip780)\" d=\"M1257.1 1517.37 Q1253.49 1517.37 1251.66 1520.93 Q1249.86 1524.47 1249.86 1531.6 Q1249.86 1538.71 1251.66 1542.27 Q1253.49 1545.82 1257.1 1545.82 Q1260.74 1545.82 1262.54 1542.27 Q1264.37 1538.71 1264.37 1531.6 Q1264.37 1524.47 1262.54 1520.93 Q1260.74 1517.37 1257.1 1517.37 M1257.1 1513.66 Q1262.91 1513.66 1265.97 1518.27 Q1269.05 1522.85 1269.05 1531.6 Q1269.05 1540.33 1265.97 1544.94 Q1262.91 1549.52 1257.1 1549.52 Q1251.29 1549.52 1248.22 1544.94 Q1245.16 1540.33 1245.16 1531.6 Q1245.16 1522.85 1248.22 1518.27 Q1251.29 1513.66 1257.1 1513.66 Z\" fill=\"#f8f8f2\" fill-rule=\"nonzero\" fill-opacity=\"1\" /><path clip-path=\"url(#clip780)\" d=\"M1658.99 1544.91 L1675.31 1544.91 L1675.31 1548.85 L1653.37 1548.85 L1653.37 1544.91 Q1656.03 1542.16 1660.61 1537.53 Q1665.22 1532.88 1666.4 1531.53 Q1668.65 1529.01 1669.53 1527.27 Q1670.43 1525.51 1670.43 1523.82 Q1670.43 1521.07 1668.48 1519.33 Q1666.56 1517.6 1663.46 1517.6 Q1661.26 1517.6 1658.81 1518.36 Q1656.38 1519.13 1653.6 1520.68 L1653.6 1515.95 Q1656.42 1514.82 1658.88 1514.24 Q1661.33 1513.66 1663.37 1513.66 Q1668.74 1513.66 1671.93 1516.35 Q1675.13 1519.03 1675.13 1523.52 Q1675.13 1525.65 1674.32 1527.57 Q1673.53 1529.47 1671.42 1532.07 Q1670.84 1532.74 1667.74 1535.95 Q1664.64 1539.15 1658.99 1544.91 Z\" fill=\"#f8f8f2\" fill-rule=\"nonzero\" fill-opacity=\"1\" /><path clip-path=\"url(#clip780)\" d=\"M2074.59 1518.36 L2062.78 1536.81 L2074.59 1536.81 L2074.59 1518.36 M2073.36 1514.29 L2079.24 1514.29 L2079.24 1536.81 L2084.17 1536.81 L2084.17 1540.7 L2079.24 1540.7 L2079.24 1548.85 L2074.59 1548.85 L2074.59 1540.7 L2058.98 1540.7 L2058.98 1536.19 L2073.36 1514.29 Z\" fill=\"#f8f8f2\" fill-rule=\"nonzero\" fill-opacity=\"1\" /><polyline clip-path=\"url(#clip782)\" style=\"stroke:#f8f8f2; stroke-linecap:round; stroke-linejoin:round; stroke-width:2; stroke-opacity:0.1; fill:none\" points=\"202.177,1486.45 2352.76,1486.45 \"/>\n",
       "<polyline clip-path=\"url(#clip782)\" style=\"stroke:#f8f8f2; stroke-linecap:round; stroke-linejoin:round; stroke-width:2; stroke-opacity:0.1; fill:none\" points=\"202.177,1125.56 2352.76,1125.56 \"/>\n",
       "<polyline clip-path=\"url(#clip782)\" style=\"stroke:#f8f8f2; stroke-linecap:round; stroke-linejoin:round; stroke-width:2; stroke-opacity:0.1; fill:none\" points=\"202.177,764.681 2352.76,764.681 \"/>\n",
       "<polyline clip-path=\"url(#clip782)\" style=\"stroke:#f8f8f2; stroke-linecap:round; stroke-linejoin:round; stroke-width:2; stroke-opacity:0.1; fill:none\" points=\"202.177,403.797 2352.76,403.797 \"/>\n",
       "<polyline clip-path=\"url(#clip780)\" style=\"stroke:#f8f8f2; stroke-linecap:round; stroke-linejoin:round; stroke-width:4; stroke-opacity:1; fill:none\" points=\"202.177,1486.45 202.177,47.2441 \"/>\n",
       "<polyline clip-path=\"url(#clip780)\" style=\"stroke:#f8f8f2; stroke-linecap:round; stroke-linejoin:round; stroke-width:4; stroke-opacity:1; fill:none\" points=\"202.177,1486.45 221.074,1486.45 \"/>\n",
       "<polyline clip-path=\"url(#clip780)\" style=\"stroke:#f8f8f2; stroke-linecap:round; stroke-linejoin:round; stroke-width:4; stroke-opacity:1; fill:none\" points=\"202.177,1125.56 221.074,1125.56 \"/>\n",
       "<polyline clip-path=\"url(#clip780)\" style=\"stroke:#f8f8f2; stroke-linecap:round; stroke-linejoin:round; stroke-width:4; stroke-opacity:1; fill:none\" points=\"202.177,764.681 221.074,764.681 \"/>\n",
       "<polyline clip-path=\"url(#clip780)\" style=\"stroke:#f8f8f2; stroke-linecap:round; stroke-linejoin:round; stroke-width:4; stroke-opacity:1; fill:none\" points=\"202.177,403.797 221.074,403.797 \"/>\n",
       "<path clip-path=\"url(#clip780)\" d=\"M154.232 1472.25 Q150.621 1472.25 148.793 1475.81 Q146.987 1479.35 146.987 1486.48 Q146.987 1493.59 148.793 1497.15 Q150.621 1500.7 154.232 1500.7 Q157.867 1500.7 159.672 1497.15 Q161.501 1493.59 161.501 1486.48 Q161.501 1479.35 159.672 1475.81 Q157.867 1472.25 154.232 1472.25 M154.232 1468.54 Q160.042 1468.54 163.098 1473.15 Q166.177 1477.73 166.177 1486.48 Q166.177 1495.21 163.098 1499.82 Q160.042 1504.4 154.232 1504.4 Q148.422 1504.4 145.343 1499.82 Q142.288 1495.21 142.288 1486.48 Q142.288 1477.73 145.343 1473.15 Q148.422 1468.54 154.232 1468.54 Z\" fill=\"#f8f8f2\" fill-rule=\"nonzero\" fill-opacity=\"1\" /><path clip-path=\"url(#clip780)\" d=\"M57.7745 1138.91 L74.0939 1138.91 L74.0939 1142.84 L52.1495 1142.84 L52.1495 1138.91 Q54.8115 1136.15 59.3949 1131.52 Q64.0013 1126.87 65.1819 1125.53 Q67.4272 1123.01 68.3068 1121.27 Q69.2096 1119.51 69.2096 1117.82 Q69.2096 1115.07 67.2652 1113.33 Q65.3439 1111.59 62.2421 1111.59 Q60.043 1111.59 57.5893 1112.36 Q55.1588 1113.12 52.381 1114.67 L52.381 1109.95 Q55.2051 1108.82 57.6588 1108.24 Q60.1124 1107.66 62.1495 1107.66 Q67.5198 1107.66 70.7142 1110.34 Q73.9087 1113.03 73.9087 1117.52 Q73.9087 1119.65 73.0985 1121.57 Q72.3115 1123.47 70.205 1126.06 Q69.6263 1126.73 66.5245 1129.95 Q63.4226 1133.15 57.7745 1138.91 Z\" fill=\"#f8f8f2\" fill-rule=\"nonzero\" fill-opacity=\"1\" /><path clip-path=\"url(#clip780)\" d=\"M93.9086 1111.36 Q90.2975 1111.36 88.4688 1114.93 Q86.6632 1118.47 86.6632 1125.6 Q86.6632 1132.71 88.4688 1136.27 Q90.2975 1139.81 93.9086 1139.81 Q97.5428 1139.81 99.3483 1136.27 Q101.177 1132.71 101.177 1125.6 Q101.177 1118.47 99.3483 1114.93 Q97.5428 1111.36 93.9086 1111.36 M93.9086 1107.66 Q99.7187 1107.66 102.774 1112.27 Q105.853 1116.85 105.853 1125.6 Q105.853 1134.33 102.774 1138.93 Q99.7187 1143.52 93.9086 1143.52 Q88.0984 1143.52 85.0197 1138.93 Q81.9642 1134.33 81.9642 1125.6 Q81.9642 1116.85 85.0197 1112.27 Q88.0984 1107.66 93.9086 1107.66 Z\" fill=\"#f8f8f2\" fill-rule=\"nonzero\" fill-opacity=\"1\" /><path clip-path=\"url(#clip780)\" d=\"M124.07 1111.36 Q120.459 1111.36 118.631 1114.93 Q116.825 1118.47 116.825 1125.6 Q116.825 1132.71 118.631 1136.27 Q120.459 1139.81 124.07 1139.81 Q127.705 1139.81 129.51 1136.27 Q131.339 1132.71 131.339 1125.6 Q131.339 1118.47 129.51 1114.93 Q127.705 1111.36 124.07 1111.36 M124.07 1107.66 Q129.881 1107.66 132.936 1112.27 Q136.015 1116.85 136.015 1125.6 Q136.015 1134.33 132.936 1138.93 Q129.881 1143.52 124.07 1143.52 Q118.26 1143.52 115.182 1138.93 Q112.126 1134.33 112.126 1125.6 Q112.126 1116.85 115.182 1112.27 Q118.26 1107.66 124.07 1107.66 Z\" fill=\"#f8f8f2\" fill-rule=\"nonzero\" fill-opacity=\"1\" /><path clip-path=\"url(#clip780)\" d=\"M154.232 1111.36 Q150.621 1111.36 148.793 1114.93 Q146.987 1118.47 146.987 1125.6 Q146.987 1132.71 148.793 1136.27 Q150.621 1139.81 154.232 1139.81 Q157.867 1139.81 159.672 1136.27 Q161.501 1132.71 161.501 1125.6 Q161.501 1118.47 159.672 1114.93 Q157.867 1111.36 154.232 1111.36 M154.232 1107.66 Q160.042 1107.66 163.098 1112.27 Q166.177 1116.85 166.177 1125.6 Q166.177 1134.33 163.098 1138.93 Q160.042 1143.52 154.232 1143.52 Q148.422 1143.52 145.343 1138.93 Q142.288 1134.33 142.288 1125.6 Q142.288 1116.85 145.343 1112.27 Q148.422 1107.66 154.232 1107.66 Z\" fill=\"#f8f8f2\" fill-rule=\"nonzero\" fill-opacity=\"1\" /><path clip-path=\"url(#clip780)\" d=\"M66.5939 751.475 L54.7884 769.924 L66.5939 769.924 L66.5939 751.475 M65.367 747.401 L71.2466 747.401 L71.2466 769.924 L76.1772 769.924 L76.1772 773.813 L71.2466 773.813 L71.2466 781.961 L66.5939 781.961 L66.5939 773.813 L50.9921 773.813 L50.9921 769.299 L65.367 747.401 Z\" fill=\"#f8f8f2\" fill-rule=\"nonzero\" fill-opacity=\"1\" /><path clip-path=\"url(#clip780)\" d=\"M93.9086 750.479 Q90.2975 750.479 88.4688 754.044 Q86.6632 757.586 86.6632 764.715 Q86.6632 771.822 88.4688 775.387 Q90.2975 778.928 93.9086 778.928 Q97.5428 778.928 99.3483 775.387 Q101.177 771.822 101.177 764.715 Q101.177 757.586 99.3483 754.044 Q97.5428 750.479 93.9086 750.479 M93.9086 746.776 Q99.7187 746.776 102.774 751.382 Q105.853 755.965 105.853 764.715 Q105.853 773.442 102.774 778.049 Q99.7187 782.632 93.9086 782.632 Q88.0984 782.632 85.0197 778.049 Q81.9642 773.442 81.9642 764.715 Q81.9642 755.965 85.0197 751.382 Q88.0984 746.776 93.9086 746.776 Z\" fill=\"#f8f8f2\" fill-rule=\"nonzero\" fill-opacity=\"1\" /><path clip-path=\"url(#clip780)\" d=\"M124.07 750.479 Q120.459 750.479 118.631 754.044 Q116.825 757.586 116.825 764.715 Q116.825 771.822 118.631 775.387 Q120.459 778.928 124.07 778.928 Q127.705 778.928 129.51 775.387 Q131.339 771.822 131.339 764.715 Q131.339 757.586 129.51 754.044 Q127.705 750.479 124.07 750.479 M124.07 746.776 Q129.881 746.776 132.936 751.382 Q136.015 755.965 136.015 764.715 Q136.015 773.442 132.936 778.049 Q129.881 782.632 124.07 782.632 Q118.26 782.632 115.182 778.049 Q112.126 773.442 112.126 764.715 Q112.126 755.965 115.182 751.382 Q118.26 746.776 124.07 746.776 Z\" fill=\"#f8f8f2\" fill-rule=\"nonzero\" fill-opacity=\"1\" /><path clip-path=\"url(#clip780)\" d=\"M154.232 750.479 Q150.621 750.479 148.793 754.044 Q146.987 757.586 146.987 764.715 Q146.987 771.822 148.793 775.387 Q150.621 778.928 154.232 778.928 Q157.867 778.928 159.672 775.387 Q161.501 771.822 161.501 764.715 Q161.501 757.586 159.672 754.044 Q157.867 750.479 154.232 750.479 M154.232 746.776 Q160.042 746.776 163.098 751.382 Q166.177 755.965 166.177 764.715 Q166.177 773.442 163.098 778.049 Q160.042 782.632 154.232 782.632 Q148.422 782.632 145.343 778.049 Q142.288 773.442 142.288 764.715 Q142.288 755.965 145.343 751.382 Q148.422 746.776 154.232 746.776 Z\" fill=\"#f8f8f2\" fill-rule=\"nonzero\" fill-opacity=\"1\" /><path clip-path=\"url(#clip780)\" d=\"M64.3254 401.934 Q61.1773 401.934 59.3254 404.086 Q57.4967 406.239 57.4967 409.989 Q57.4967 413.716 59.3254 415.892 Q61.1773 418.045 64.3254 418.045 Q67.4735 418.045 69.3022 415.892 Q71.1541 413.716 71.1541 409.989 Q71.1541 406.239 69.3022 404.086 Q67.4735 401.934 64.3254 401.934 M73.6077 387.281 L73.6077 391.54 Q71.8485 390.707 70.0429 390.267 Q68.2606 389.827 66.5013 389.827 Q61.8717 389.827 59.418 392.952 Q56.9875 396.077 56.6402 402.397 Q58.006 400.383 60.0662 399.318 Q62.1263 398.23 64.6032 398.23 Q69.8115 398.23 72.8207 401.401 Q75.8531 404.549 75.8531 409.989 Q75.8531 415.313 72.705 418.531 Q69.5568 421.748 64.3254 421.748 Q58.33 421.748 55.1588 417.165 Q51.9875 412.559 51.9875 403.832 Q51.9875 395.637 55.8764 390.776 Q59.7652 385.892 66.3161 385.892 Q68.0754 385.892 69.8578 386.239 Q71.6633 386.587 73.6077 387.281 Z\" fill=\"#f8f8f2\" fill-rule=\"nonzero\" fill-opacity=\"1\" /><path clip-path=\"url(#clip780)\" d=\"M93.9086 389.596 Q90.2975 389.596 88.4688 393.161 Q86.6632 396.702 86.6632 403.832 Q86.6632 410.938 88.4688 414.503 Q90.2975 418.045 93.9086 418.045 Q97.5428 418.045 99.3483 414.503 Q101.177 410.938 101.177 403.832 Q101.177 396.702 99.3483 393.161 Q97.5428 389.596 93.9086 389.596 M93.9086 385.892 Q99.7187 385.892 102.774 390.499 Q105.853 395.082 105.853 403.832 Q105.853 412.559 102.774 417.165 Q99.7187 421.748 93.9086 421.748 Q88.0984 421.748 85.0197 417.165 Q81.9642 412.559 81.9642 403.832 Q81.9642 395.082 85.0197 390.499 Q88.0984 385.892 93.9086 385.892 Z\" fill=\"#f8f8f2\" fill-rule=\"nonzero\" fill-opacity=\"1\" /><path clip-path=\"url(#clip780)\" d=\"M124.07 389.596 Q120.459 389.596 118.631 393.161 Q116.825 396.702 116.825 403.832 Q116.825 410.938 118.631 414.503 Q120.459 418.045 124.07 418.045 Q127.705 418.045 129.51 414.503 Q131.339 410.938 131.339 403.832 Q131.339 396.702 129.51 393.161 Q127.705 389.596 124.07 389.596 M124.07 385.892 Q129.881 385.892 132.936 390.499 Q136.015 395.082 136.015 403.832 Q136.015 412.559 132.936 417.165 Q129.881 421.748 124.07 421.748 Q118.26 421.748 115.182 417.165 Q112.126 412.559 112.126 403.832 Q112.126 395.082 115.182 390.499 Q118.26 385.892 124.07 385.892 Z\" fill=\"#f8f8f2\" fill-rule=\"nonzero\" fill-opacity=\"1\" /><path clip-path=\"url(#clip780)\" d=\"M154.232 389.596 Q150.621 389.596 148.793 393.161 Q146.987 396.702 146.987 403.832 Q146.987 410.938 148.793 414.503 Q150.621 418.045 154.232 418.045 Q157.867 418.045 159.672 414.503 Q161.501 410.938 161.501 403.832 Q161.501 396.702 159.672 393.161 Q157.867 389.596 154.232 389.596 M154.232 385.892 Q160.042 385.892 163.098 390.499 Q166.177 395.082 166.177 403.832 Q166.177 412.559 163.098 417.165 Q160.042 421.748 154.232 421.748 Q148.422 421.748 145.343 417.165 Q142.288 412.559 142.288 403.832 Q142.288 395.082 145.343 390.499 Q148.422 385.892 154.232 385.892 Z\" fill=\"#f8f8f2\" fill-rule=\"nonzero\" fill-opacity=\"1\" /><path clip-path=\"url(#clip782)\" d=\"M320.462 1486.27 L320.462 1486.45 L361.186 1486.45 L361.186 1486.27 L320.462 1486.27 L320.462 1486.27  Z\" fill=\"#8be9fd\" fill-rule=\"evenodd\" fill-opacity=\"1\"/>\n",
       "<polyline clip-path=\"url(#clip782)\" style=\"stroke:#f8f8f2; stroke-linecap:round; stroke-linejoin:round; stroke-width:4; stroke-opacity:1; fill:none\" points=\"320.462,1486.27 320.462,1486.45 361.186,1486.45 361.186,1486.27 320.462,1486.27 \"/>\n",
       "<path clip-path=\"url(#clip782)\" d=\"M361.186 1486.27 L361.186 1486.45 L401.91 1486.45 L401.91 1486.27 L361.186 1486.27 L361.186 1486.27  Z\" fill=\"#8be9fd\" fill-rule=\"evenodd\" fill-opacity=\"1\"/>\n",
       "<polyline clip-path=\"url(#clip782)\" style=\"stroke:#f8f8f2; stroke-linecap:round; stroke-linejoin:round; stroke-width:4; stroke-opacity:1; fill:none\" points=\"361.186,1486.27 361.186,1486.45 401.91,1486.45 401.91,1486.27 361.186,1486.27 \"/>\n",
       "<path clip-path=\"url(#clip782)\" d=\"M401.91 1486.45 L401.91 1486.45 L442.633 1486.45 L442.633 1486.45 L401.91 1486.45 L401.91 1486.45  Z\" fill=\"#8be9fd\" fill-rule=\"evenodd\" fill-opacity=\"1\"/>\n",
       "<polyline clip-path=\"url(#clip782)\" style=\"stroke:#f8f8f2; stroke-linecap:round; stroke-linejoin:round; stroke-width:4; stroke-opacity:1; fill:none\" points=\"401.91,1486.45 401.91,1486.45 442.633,1486.45 401.91,1486.45 \"/>\n",
       "<path clip-path=\"url(#clip782)\" d=\"M442.633 1485.73 L442.633 1486.45 L483.357 1486.45 L483.357 1485.73 L442.633 1485.73 L442.633 1485.73  Z\" fill=\"#8be9fd\" fill-rule=\"evenodd\" fill-opacity=\"1\"/>\n",
       "<polyline clip-path=\"url(#clip782)\" style=\"stroke:#f8f8f2; stroke-linecap:round; stroke-linejoin:round; stroke-width:4; stroke-opacity:1; fill:none\" points=\"442.633,1485.73 442.633,1486.45 483.357,1486.45 483.357,1485.73 442.633,1485.73 \"/>\n",
       "<path clip-path=\"url(#clip782)\" d=\"M483.357 1485.55 L483.357 1486.45 L524.08 1486.45 L524.08 1485.55 L483.357 1485.55 L483.357 1485.55  Z\" fill=\"#8be9fd\" fill-rule=\"evenodd\" fill-opacity=\"1\"/>\n",
       "<polyline clip-path=\"url(#clip782)\" style=\"stroke:#f8f8f2; stroke-linecap:round; stroke-linejoin:round; stroke-width:4; stroke-opacity:1; fill:none\" points=\"483.357,1485.55 483.357,1486.45 524.08,1486.45 524.08,1485.55 483.357,1485.55 \"/>\n",
       "<path clip-path=\"url(#clip782)\" d=\"M524.08 1483.74 L524.08 1486.45 L564.804 1486.45 L564.804 1483.74 L524.08 1483.74 L524.08 1483.74  Z\" fill=\"#8be9fd\" fill-rule=\"evenodd\" fill-opacity=\"1\"/>\n",
       "<polyline clip-path=\"url(#clip782)\" style=\"stroke:#f8f8f2; stroke-linecap:round; stroke-linejoin:round; stroke-width:4; stroke-opacity:1; fill:none\" points=\"524.08,1483.74 524.08,1486.45 564.804,1486.45 564.804,1483.74 524.08,1483.74 \"/>\n",
       "<path clip-path=\"url(#clip782)\" d=\"M564.804 1479.41 L564.804 1486.45 L605.527 1486.45 L605.527 1479.41 L564.804 1479.41 L564.804 1479.41  Z\" fill=\"#8be9fd\" fill-rule=\"evenodd\" fill-opacity=\"1\"/>\n",
       "<polyline clip-path=\"url(#clip782)\" style=\"stroke:#f8f8f2; stroke-linecap:round; stroke-linejoin:round; stroke-width:4; stroke-opacity:1; fill:none\" points=\"564.804,1479.41 564.804,1486.45 605.527,1486.45 605.527,1479.41 564.804,1479.41 \"/>\n",
       "<path clip-path=\"url(#clip782)\" d=\"M605.527 1475.08 L605.527 1486.45 L646.251 1486.45 L646.251 1475.08 L605.527 1475.08 L605.527 1475.08  Z\" fill=\"#8be9fd\" fill-rule=\"evenodd\" fill-opacity=\"1\"/>\n",
       "<polyline clip-path=\"url(#clip782)\" style=\"stroke:#f8f8f2; stroke-linecap:round; stroke-linejoin:round; stroke-width:4; stroke-opacity:1; fill:none\" points=\"605.527,1475.08 605.527,1486.45 646.251,1486.45 646.251,1475.08 605.527,1475.08 \"/>\n",
       "<path clip-path=\"url(#clip782)\" d=\"M646.251 1464.98 L646.251 1486.45 L686.975 1486.45 L686.975 1464.98 L646.251 1464.98 L646.251 1464.98  Z\" fill=\"#8be9fd\" fill-rule=\"evenodd\" fill-opacity=\"1\"/>\n",
       "<polyline clip-path=\"url(#clip782)\" style=\"stroke:#f8f8f2; stroke-linecap:round; stroke-linejoin:round; stroke-width:4; stroke-opacity:1; fill:none\" points=\"646.251,1464.98 646.251,1486.45 686.975,1486.45 686.975,1464.98 646.251,1464.98 \"/>\n",
       "<path clip-path=\"url(#clip782)\" d=\"M686.975 1449.28 L686.975 1486.45 L727.698 1486.45 L727.698 1449.28 L686.975 1449.28 L686.975 1449.28  Z\" fill=\"#8be9fd\" fill-rule=\"evenodd\" fill-opacity=\"1\"/>\n",
       "<polyline clip-path=\"url(#clip782)\" style=\"stroke:#f8f8f2; stroke-linecap:round; stroke-linejoin:round; stroke-width:4; stroke-opacity:1; fill:none\" points=\"686.975,1449.28 686.975,1486.45 727.698,1486.45 727.698,1449.28 686.975,1449.28 \"/>\n",
       "<path clip-path=\"url(#clip782)\" d=\"M727.698 1426.18 L727.698 1486.45 L768.422 1486.45 L768.422 1426.18 L727.698 1426.18 L727.698 1426.18  Z\" fill=\"#8be9fd\" fill-rule=\"evenodd\" fill-opacity=\"1\"/>\n",
       "<polyline clip-path=\"url(#clip782)\" style=\"stroke:#f8f8f2; stroke-linecap:round; stroke-linejoin:round; stroke-width:4; stroke-opacity:1; fill:none\" points=\"727.698,1426.18 727.698,1486.45 768.422,1486.45 768.422,1426.18 727.698,1426.18 \"/>\n",
       "<path clip-path=\"url(#clip782)\" d=\"M768.422 1387.75 L768.422 1486.45 L809.145 1486.45 L809.145 1387.75 L768.422 1387.75 L768.422 1387.75  Z\" fill=\"#8be9fd\" fill-rule=\"evenodd\" fill-opacity=\"1\"/>\n",
       "<polyline clip-path=\"url(#clip782)\" style=\"stroke:#f8f8f2; stroke-linecap:round; stroke-linejoin:round; stroke-width:4; stroke-opacity:1; fill:none\" points=\"768.422,1387.75 768.422,1486.45 809.145,1486.45 809.145,1387.75 768.422,1387.75 \"/>\n",
       "<path clip-path=\"url(#clip782)\" d=\"M809.145 1334.34 L809.145 1486.45 L849.869 1486.45 L849.869 1334.34 L809.145 1334.34 L809.145 1334.34  Z\" fill=\"#8be9fd\" fill-rule=\"evenodd\" fill-opacity=\"1\"/>\n",
       "<polyline clip-path=\"url(#clip782)\" style=\"stroke:#f8f8f2; stroke-linecap:round; stroke-linejoin:round; stroke-width:4; stroke-opacity:1; fill:none\" points=\"809.145,1334.34 809.145,1486.45 849.869,1486.45 849.869,1334.34 809.145,1334.34 \"/>\n",
       "<path clip-path=\"url(#clip782)\" d=\"M849.869 1258.19 L849.869 1486.45 L890.592 1486.45 L890.592 1258.19 L849.869 1258.19 L849.869 1258.19  Z\" fill=\"#8be9fd\" fill-rule=\"evenodd\" fill-opacity=\"1\"/>\n",
       "<polyline clip-path=\"url(#clip782)\" style=\"stroke:#f8f8f2; stroke-linecap:round; stroke-linejoin:round; stroke-width:4; stroke-opacity:1; fill:none\" points=\"849.869,1258.19 849.869,1486.45 890.592,1486.45 890.592,1258.19 849.869,1258.19 \"/>\n",
       "<path clip-path=\"url(#clip782)\" d=\"M890.592 1135.13 L890.592 1486.45 L931.316 1486.45 L931.316 1135.13 L890.592 1135.13 L890.592 1135.13  Z\" fill=\"#8be9fd\" fill-rule=\"evenodd\" fill-opacity=\"1\"/>\n",
       "<polyline clip-path=\"url(#clip782)\" style=\"stroke:#f8f8f2; stroke-linecap:round; stroke-linejoin:round; stroke-width:4; stroke-opacity:1; fill:none\" points=\"890.592,1135.13 890.592,1486.45 931.316,1486.45 931.316,1135.13 890.592,1135.13 \"/>\n",
       "<path clip-path=\"url(#clip782)\" d=\"M931.316 1009.18 L931.316 1486.45 L972.04 1486.45 L972.04 1009.18 L931.316 1009.18 L931.316 1009.18  Z\" fill=\"#8be9fd\" fill-rule=\"evenodd\" fill-opacity=\"1\"/>\n",
       "<polyline clip-path=\"url(#clip782)\" style=\"stroke:#f8f8f2; stroke-linecap:round; stroke-linejoin:round; stroke-width:4; stroke-opacity:1; fill:none\" points=\"931.316,1009.18 931.316,1486.45 972.04,1486.45 972.04,1009.18 931.316,1009.18 \"/>\n",
       "<path clip-path=\"url(#clip782)\" d=\"M972.04 860.495 L972.04 1486.45 L1012.76 1486.45 L1012.76 860.495 L972.04 860.495 L972.04 860.495  Z\" fill=\"#8be9fd\" fill-rule=\"evenodd\" fill-opacity=\"1\"/>\n",
       "<polyline clip-path=\"url(#clip782)\" style=\"stroke:#f8f8f2; stroke-linecap:round; stroke-linejoin:round; stroke-width:4; stroke-opacity:1; fill:none\" points=\"972.04,860.495 972.04,1486.45 1012.76,1486.45 1012.76,860.495 972.04,860.495 \"/>\n",
       "<path clip-path=\"url(#clip782)\" d=\"M1012.76 690.339 L1012.76 1486.45 L1053.49 1486.45 L1053.49 690.339 L1012.76 690.339 L1012.76 690.339  Z\" fill=\"#8be9fd\" fill-rule=\"evenodd\" fill-opacity=\"1\"/>\n",
       "<polyline clip-path=\"url(#clip782)\" style=\"stroke:#f8f8f2; stroke-linecap:round; stroke-linejoin:round; stroke-width:4; stroke-opacity:1; fill:none\" points=\"1012.76,690.339 1012.76,1486.45 1053.49,1486.45 1053.49,690.339 1012.76,690.339 \"/>\n",
       "<path clip-path=\"url(#clip782)\" d=\"M1053.49 540.031 L1053.49 1486.45 L1094.21 1486.45 L1094.21 540.031 L1053.49 540.031 L1053.49 540.031  Z\" fill=\"#8be9fd\" fill-rule=\"evenodd\" fill-opacity=\"1\"/>\n",
       "<polyline clip-path=\"url(#clip782)\" style=\"stroke:#f8f8f2; stroke-linecap:round; stroke-linejoin:round; stroke-width:4; stroke-opacity:1; fill:none\" points=\"1053.49,540.031 1053.49,1486.45 1094.21,1486.45 1094.21,540.031 1053.49,540.031 \"/>\n",
       "<path clip-path=\"url(#clip782)\" d=\"M1094.21 371.498 L1094.21 1486.45 L1134.93 1486.45 L1134.93 371.498 L1094.21 371.498 L1094.21 371.498  Z\" fill=\"#8be9fd\" fill-rule=\"evenodd\" fill-opacity=\"1\"/>\n",
       "<polyline clip-path=\"url(#clip782)\" style=\"stroke:#f8f8f2; stroke-linecap:round; stroke-linejoin:round; stroke-width:4; stroke-opacity:1; fill:none\" points=\"1094.21,371.498 1094.21,1486.45 1134.93,1486.45 1134.93,371.498 1094.21,371.498 \"/>\n",
       "<path clip-path=\"url(#clip782)\" d=\"M1134.93 193.222 L1134.93 1486.45 L1175.66 1486.45 L1175.66 193.222 L1134.93 193.222 L1134.93 193.222  Z\" fill=\"#8be9fd\" fill-rule=\"evenodd\" fill-opacity=\"1\"/>\n",
       "<polyline clip-path=\"url(#clip782)\" style=\"stroke:#f8f8f2; stroke-linecap:round; stroke-linejoin:round; stroke-width:4; stroke-opacity:1; fill:none\" points=\"1134.93,193.222 1134.93,1486.45 1175.66,1486.45 1175.66,193.222 1134.93,193.222 \"/>\n",
       "<path clip-path=\"url(#clip782)\" d=\"M1175.66 115.451 L1175.66 1486.45 L1216.38 1486.45 L1216.38 115.451 L1175.66 115.451 L1175.66 115.451  Z\" fill=\"#8be9fd\" fill-rule=\"evenodd\" fill-opacity=\"1\"/>\n",
       "<polyline clip-path=\"url(#clip782)\" style=\"stroke:#f8f8f2; stroke-linecap:round; stroke-linejoin:round; stroke-width:4; stroke-opacity:1; fill:none\" points=\"1175.66,115.451 1175.66,1486.45 1216.38,1486.45 1216.38,115.451 1175.66,115.451 \"/>\n",
       "<path clip-path=\"url(#clip782)\" d=\"M1216.38 47.2441 L1216.38 1486.45 L1257.1 1486.45 L1257.1 47.2441 L1216.38 47.2441 L1216.38 47.2441  Z\" fill=\"#8be9fd\" fill-rule=\"evenodd\" fill-opacity=\"1\"/>\n",
       "<polyline clip-path=\"url(#clip782)\" style=\"stroke:#f8f8f2; stroke-linecap:round; stroke-linejoin:round; stroke-width:4; stroke-opacity:1; fill:none\" points=\"1216.38,47.2441 1216.38,1486.45 1257.1,1486.45 1257.1,47.2441 1216.38,47.2441 \"/>\n",
       "<path clip-path=\"url(#clip782)\" d=\"M1257.1 56.4466 L1257.1 1486.45 L1297.83 1486.45 L1297.83 56.4466 L1257.1 56.4466 L1257.1 56.4466  Z\" fill=\"#8be9fd\" fill-rule=\"evenodd\" fill-opacity=\"1\"/>\n",
       "<polyline clip-path=\"url(#clip782)\" style=\"stroke:#f8f8f2; stroke-linecap:round; stroke-linejoin:round; stroke-width:4; stroke-opacity:1; fill:none\" points=\"1257.1,56.4466 1257.1,1486.45 1297.83,1486.45 1297.83,56.4466 1257.1,56.4466 \"/>\n",
       "<path clip-path=\"url(#clip782)\" d=\"M1297.83 127.541 L1297.83 1486.45 L1338.55 1486.45 L1338.55 127.541 L1297.83 127.541 L1297.83 127.541  Z\" fill=\"#8be9fd\" fill-rule=\"evenodd\" fill-opacity=\"1\"/>\n",
       "<polyline clip-path=\"url(#clip782)\" style=\"stroke:#f8f8f2; stroke-linecap:round; stroke-linejoin:round; stroke-width:4; stroke-opacity:1; fill:none\" points=\"1297.83,127.541 1297.83,1486.45 1338.55,1486.45 1338.55,127.541 1297.83,127.541 \"/>\n",
       "<path clip-path=\"url(#clip782)\" d=\"M1338.55 212.168 L1338.55 1486.45 L1379.28 1486.45 L1379.28 212.168 L1338.55 212.168 L1338.55 212.168  Z\" fill=\"#8be9fd\" fill-rule=\"evenodd\" fill-opacity=\"1\"/>\n",
       "<polyline clip-path=\"url(#clip782)\" style=\"stroke:#f8f8f2; stroke-linecap:round; stroke-linejoin:round; stroke-width:4; stroke-opacity:1; fill:none\" points=\"1338.55,212.168 1338.55,1486.45 1379.28,1486.45 1379.28,212.168 1338.55,212.168 \"/>\n",
       "<path clip-path=\"url(#clip782)\" d=\"M1379.28 366.626 L1379.28 1486.45 L1420 1486.45 L1420 366.626 L1379.28 366.626 L1379.28 366.626  Z\" fill=\"#8be9fd\" fill-rule=\"evenodd\" fill-opacity=\"1\"/>\n",
       "<polyline clip-path=\"url(#clip782)\" style=\"stroke:#f8f8f2; stroke-linecap:round; stroke-linejoin:round; stroke-width:4; stroke-opacity:1; fill:none\" points=\"1379.28,366.626 1379.28,1486.45 1420,1486.45 1420,366.626 1379.28,366.626 \"/>\n",
       "<path clip-path=\"url(#clip782)\" d=\"M1420 537.144 L1420 1486.45 L1460.72 1486.45 L1460.72 537.144 L1420 537.144 L1420 537.144  Z\" fill=\"#8be9fd\" fill-rule=\"evenodd\" fill-opacity=\"1\"/>\n",
       "<polyline clip-path=\"url(#clip782)\" style=\"stroke:#f8f8f2; stroke-linecap:round; stroke-linejoin:round; stroke-width:4; stroke-opacity:1; fill:none\" points=\"1420,537.144 1420,1486.45 1460.72,1486.45 1460.72,537.144 1420,537.144 \"/>\n",
       "<path clip-path=\"url(#clip782)\" d=\"M1460.72 702.789 L1460.72 1486.45 L1501.45 1486.45 L1501.45 702.789 L1460.72 702.789 L1460.72 702.789  Z\" fill=\"#8be9fd\" fill-rule=\"evenodd\" fill-opacity=\"1\"/>\n",
       "<polyline clip-path=\"url(#clip782)\" style=\"stroke:#f8f8f2; stroke-linecap:round; stroke-linejoin:round; stroke-width:4; stroke-opacity:1; fill:none\" points=\"1460.72,702.789 1460.72,1486.45 1501.45,1486.45 1501.45,702.789 1460.72,702.789 \"/>\n",
       "<path clip-path=\"url(#clip782)\" d=\"M1501.45 848.225 L1501.45 1486.45 L1542.17 1486.45 L1542.17 848.225 L1501.45 848.225 L1501.45 848.225  Z\" fill=\"#8be9fd\" fill-rule=\"evenodd\" fill-opacity=\"1\"/>\n",
       "<polyline clip-path=\"url(#clip782)\" style=\"stroke:#f8f8f2; stroke-linecap:round; stroke-linejoin:round; stroke-width:4; stroke-opacity:1; fill:none\" points=\"1501.45,848.225 1501.45,1486.45 1542.17,1486.45 1542.17,848.225 1501.45,848.225 \"/>\n",
       "<path clip-path=\"url(#clip782)\" d=\"M1542.17 1016.22 L1542.17 1486.45 L1582.89 1486.45 L1582.89 1016.22 L1542.17 1016.22 L1542.17 1016.22  Z\" fill=\"#8be9fd\" fill-rule=\"evenodd\" fill-opacity=\"1\"/>\n",
       "<polyline clip-path=\"url(#clip782)\" style=\"stroke:#f8f8f2; stroke-linecap:round; stroke-linejoin:round; stroke-width:4; stroke-opacity:1; fill:none\" points=\"1542.17,1016.22 1542.17,1486.45 1582.89,1486.45 1582.89,1016.22 1542.17,1016.22 \"/>\n",
       "<path clip-path=\"url(#clip782)\" d=\"M1582.89 1146.5 L1582.89 1486.45 L1623.62 1486.45 L1623.62 1146.5 L1582.89 1146.5 L1582.89 1146.5  Z\" fill=\"#8be9fd\" fill-rule=\"evenodd\" fill-opacity=\"1\"/>\n",
       "<polyline clip-path=\"url(#clip782)\" style=\"stroke:#f8f8f2; stroke-linecap:round; stroke-linejoin:round; stroke-width:4; stroke-opacity:1; fill:none\" points=\"1582.89,1146.5 1582.89,1486.45 1623.62,1486.45 1623.62,1146.5 1582.89,1146.5 \"/>\n",
       "<path clip-path=\"url(#clip782)\" d=\"M1623.62 1254.94 L1623.62 1486.45 L1664.34 1486.45 L1664.34 1254.94 L1623.62 1254.94 L1623.62 1254.94  Z\" fill=\"#8be9fd\" fill-rule=\"evenodd\" fill-opacity=\"1\"/>\n",
       "<polyline clip-path=\"url(#clip782)\" style=\"stroke:#f8f8f2; stroke-linecap:round; stroke-linejoin:round; stroke-width:4; stroke-opacity:1; fill:none\" points=\"1623.62,1254.94 1623.62,1486.45 1664.34,1486.45 1664.34,1254.94 1623.62,1254.94 \"/>\n",
       "<path clip-path=\"url(#clip782)\" d=\"M1664.34 1324.95 L1664.34 1486.45 L1705.06 1486.45 L1705.06 1324.95 L1664.34 1324.95 L1664.34 1324.95  Z\" fill=\"#8be9fd\" fill-rule=\"evenodd\" fill-opacity=\"1\"/>\n",
       "<polyline clip-path=\"url(#clip782)\" style=\"stroke:#f8f8f2; stroke-linecap:round; stroke-linejoin:round; stroke-width:4; stroke-opacity:1; fill:none\" points=\"1664.34,1324.95 1664.34,1486.45 1705.06,1486.45 1705.06,1324.95 1664.34,1324.95 \"/>\n",
       "<path clip-path=\"url(#clip782)\" d=\"M1705.06 1388.29 L1705.06 1486.45 L1745.79 1486.45 L1745.79 1388.29 L1705.06 1388.29 L1705.06 1388.29  Z\" fill=\"#8be9fd\" fill-rule=\"evenodd\" fill-opacity=\"1\"/>\n",
       "<polyline clip-path=\"url(#clip782)\" style=\"stroke:#f8f8f2; stroke-linecap:round; stroke-linejoin:round; stroke-width:4; stroke-opacity:1; fill:none\" points=\"1705.06,1388.29 1705.06,1486.45 1745.79,1486.45 1745.79,1388.29 1705.06,1388.29 \"/>\n",
       "<path clip-path=\"url(#clip782)\" d=\"M1745.79 1425.1 L1745.79 1486.45 L1786.51 1486.45 L1786.51 1425.1 L1745.79 1425.1 L1745.79 1425.1  Z\" fill=\"#8be9fd\" fill-rule=\"evenodd\" fill-opacity=\"1\"/>\n",
       "<polyline clip-path=\"url(#clip782)\" style=\"stroke:#f8f8f2; stroke-linecap:round; stroke-linejoin:round; stroke-width:4; stroke-opacity:1; fill:none\" points=\"1745.79,1425.1 1745.79,1486.45 1786.51,1486.45 1786.51,1425.1 1745.79,1425.1 \"/>\n",
       "<path clip-path=\"url(#clip782)\" d=\"M1786.51 1445.67 L1786.51 1486.45 L1827.23 1486.45 L1827.23 1445.67 L1786.51 1445.67 L1786.51 1445.67  Z\" fill=\"#8be9fd\" fill-rule=\"evenodd\" fill-opacity=\"1\"/>\n",
       "<polyline clip-path=\"url(#clip782)\" style=\"stroke:#f8f8f2; stroke-linecap:round; stroke-linejoin:round; stroke-width:4; stroke-opacity:1; fill:none\" points=\"1786.51,1445.67 1786.51,1486.45 1827.23,1486.45 1827.23,1445.67 1786.51,1445.67 \"/>\n",
       "<path clip-path=\"url(#clip782)\" d=\"M1827.23 1459.02 L1827.23 1486.45 L1867.96 1486.45 L1867.96 1459.02 L1827.23 1459.02 L1827.23 1459.02  Z\" fill=\"#8be9fd\" fill-rule=\"evenodd\" fill-opacity=\"1\"/>\n",
       "<polyline clip-path=\"url(#clip782)\" style=\"stroke:#f8f8f2; stroke-linecap:round; stroke-linejoin:round; stroke-width:4; stroke-opacity:1; fill:none\" points=\"1827.23,1459.02 1827.23,1486.45 1867.96,1486.45 1867.96,1459.02 1827.23,1459.02 \"/>\n",
       "<path clip-path=\"url(#clip782)\" d=\"M1867.96 1477.43 L1867.96 1486.45 L1908.68 1486.45 L1908.68 1477.43 L1867.96 1477.43 L1867.96 1477.43  Z\" fill=\"#8be9fd\" fill-rule=\"evenodd\" fill-opacity=\"1\"/>\n",
       "<polyline clip-path=\"url(#clip782)\" style=\"stroke:#f8f8f2; stroke-linecap:round; stroke-linejoin:round; stroke-width:4; stroke-opacity:1; fill:none\" points=\"1867.96,1477.43 1867.96,1486.45 1908.68,1486.45 1908.68,1477.43 1867.96,1477.43 \"/>\n",
       "<path clip-path=\"url(#clip782)\" d=\"M1908.68 1479.05 L1908.68 1486.45 L1949.41 1486.45 L1949.41 1479.05 L1908.68 1479.05 L1908.68 1479.05  Z\" fill=\"#8be9fd\" fill-rule=\"evenodd\" fill-opacity=\"1\"/>\n",
       "<polyline clip-path=\"url(#clip782)\" style=\"stroke:#f8f8f2; stroke-linecap:round; stroke-linejoin:round; stroke-width:4; stroke-opacity:1; fill:none\" points=\"1908.68,1479.05 1908.68,1486.45 1949.41,1486.45 1949.41,1479.05 1908.68,1479.05 \"/>\n",
       "<path clip-path=\"url(#clip782)\" d=\"M1949.41 1483.92 L1949.41 1486.45 L1990.13 1486.45 L1990.13 1483.92 L1949.41 1483.92 L1949.41 1483.92  Z\" fill=\"#8be9fd\" fill-rule=\"evenodd\" fill-opacity=\"1\"/>\n",
       "<polyline clip-path=\"url(#clip782)\" style=\"stroke:#f8f8f2; stroke-linecap:round; stroke-linejoin:round; stroke-width:4; stroke-opacity:1; fill:none\" points=\"1949.41,1483.92 1949.41,1486.45 1990.13,1486.45 1990.13,1483.92 1949.41,1483.92 \"/>\n",
       "<path clip-path=\"url(#clip782)\" d=\"M1990.13 1484.82 L1990.13 1486.45 L2030.85 1486.45 L2030.85 1484.82 L1990.13 1484.82 L1990.13 1484.82  Z\" fill=\"#8be9fd\" fill-rule=\"evenodd\" fill-opacity=\"1\"/>\n",
       "<polyline clip-path=\"url(#clip782)\" style=\"stroke:#f8f8f2; stroke-linecap:round; stroke-linejoin:round; stroke-width:4; stroke-opacity:1; fill:none\" points=\"1990.13,1484.82 1990.13,1486.45 2030.85,1486.45 2030.85,1484.82 1990.13,1484.82 \"/>\n",
       "<path clip-path=\"url(#clip782)\" d=\"M2030.85 1485.55 L2030.85 1486.45 L2071.58 1486.45 L2071.58 1485.55 L2030.85 1485.55 L2030.85 1485.55  Z\" fill=\"#8be9fd\" fill-rule=\"evenodd\" fill-opacity=\"1\"/>\n",
       "<polyline clip-path=\"url(#clip782)\" style=\"stroke:#f8f8f2; stroke-linecap:round; stroke-linejoin:round; stroke-width:4; stroke-opacity:1; fill:none\" points=\"2030.85,1485.55 2030.85,1486.45 2071.58,1486.45 2071.58,1485.55 2030.85,1485.55 \"/>\n",
       "<path clip-path=\"url(#clip782)\" d=\"M2071.58 1485.91 L2071.58 1486.45 L2112.3 1486.45 L2112.3 1485.91 L2071.58 1485.91 L2071.58 1485.91  Z\" fill=\"#8be9fd\" fill-rule=\"evenodd\" fill-opacity=\"1\"/>\n",
       "<polyline clip-path=\"url(#clip782)\" style=\"stroke:#f8f8f2; stroke-linecap:round; stroke-linejoin:round; stroke-width:4; stroke-opacity:1; fill:none\" points=\"2071.58,1485.91 2071.58,1486.45 2112.3,1486.45 2112.3,1485.91 2071.58,1485.91 \"/>\n",
       "<path clip-path=\"url(#clip782)\" d=\"M2112.3 1486.09 L2112.3 1486.45 L2153.02 1486.45 L2153.02 1486.09 L2112.3 1486.09 L2112.3 1486.09  Z\" fill=\"#8be9fd\" fill-rule=\"evenodd\" fill-opacity=\"1\"/>\n",
       "<polyline clip-path=\"url(#clip782)\" style=\"stroke:#f8f8f2; stroke-linecap:round; stroke-linejoin:round; stroke-width:4; stroke-opacity:1; fill:none\" points=\"2112.3,1486.09 2112.3,1486.45 2153.02,1486.45 2153.02,1486.09 2112.3,1486.09 \"/>\n",
       "<path clip-path=\"url(#clip782)\" d=\"M2153.02 1486.45 L2153.02 1486.45 L2193.75 1486.45 L2193.75 1486.45 L2153.02 1486.45 L2153.02 1486.45  Z\" fill=\"#8be9fd\" fill-rule=\"evenodd\" fill-opacity=\"1\"/>\n",
       "<polyline clip-path=\"url(#clip782)\" style=\"stroke:#f8f8f2; stroke-linecap:round; stroke-linejoin:round; stroke-width:4; stroke-opacity:1; fill:none\" points=\"2153.02,1486.45 2153.02,1486.45 2193.75,1486.45 2153.02,1486.45 \"/>\n",
       "<path clip-path=\"url(#clip782)\" d=\"M2193.75 1486.27 L2193.75 1486.45 L2234.47 1486.45 L2234.47 1486.27 L2193.75 1486.27 L2193.75 1486.27  Z\" fill=\"#8be9fd\" fill-rule=\"evenodd\" fill-opacity=\"1\"/>\n",
       "<polyline clip-path=\"url(#clip782)\" style=\"stroke:#f8f8f2; stroke-linecap:round; stroke-linejoin:round; stroke-width:4; stroke-opacity:1; fill:none\" points=\"2193.75,1486.27 2193.75,1486.45 2234.47,1486.45 2234.47,1486.27 2193.75,1486.27 \"/>\n",
       "<circle clip-path=\"url(#clip782)\" style=\"fill:#8be9fd; stroke:none; fill-opacity:0\" cx=\"340.824\" cy=\"1486.27\" r=\"2\"/>\n",
       "<circle clip-path=\"url(#clip782)\" style=\"fill:#8be9fd; stroke:none; fill-opacity:0\" cx=\"381.548\" cy=\"1486.27\" r=\"2\"/>\n",
       "<circle clip-path=\"url(#clip782)\" style=\"fill:#8be9fd; stroke:none; fill-opacity:0\" cx=\"422.271\" cy=\"1486.45\" r=\"2\"/>\n",
       "<circle clip-path=\"url(#clip782)\" style=\"fill:#8be9fd; stroke:none; fill-opacity:0\" cx=\"462.995\" cy=\"1485.73\" r=\"2\"/>\n",
       "<circle clip-path=\"url(#clip782)\" style=\"fill:#8be9fd; stroke:none; fill-opacity:0\" cx=\"503.718\" cy=\"1485.55\" r=\"2\"/>\n",
       "<circle clip-path=\"url(#clip782)\" style=\"fill:#8be9fd; stroke:none; fill-opacity:0\" cx=\"544.442\" cy=\"1483.74\" r=\"2\"/>\n",
       "<circle clip-path=\"url(#clip782)\" style=\"fill:#8be9fd; stroke:none; fill-opacity:0\" cx=\"585.166\" cy=\"1479.41\" r=\"2\"/>\n",
       "<circle clip-path=\"url(#clip782)\" style=\"fill:#8be9fd; stroke:none; fill-opacity:0\" cx=\"625.889\" cy=\"1475.08\" r=\"2\"/>\n",
       "<circle clip-path=\"url(#clip782)\" style=\"fill:#8be9fd; stroke:none; fill-opacity:0\" cx=\"666.613\" cy=\"1464.98\" r=\"2\"/>\n",
       "<circle clip-path=\"url(#clip782)\" style=\"fill:#8be9fd; stroke:none; fill-opacity:0\" cx=\"707.336\" cy=\"1449.28\" r=\"2\"/>\n",
       "<circle clip-path=\"url(#clip782)\" style=\"fill:#8be9fd; stroke:none; fill-opacity:0\" cx=\"748.06\" cy=\"1426.18\" r=\"2\"/>\n",
       "<circle clip-path=\"url(#clip782)\" style=\"fill:#8be9fd; stroke:none; fill-opacity:0\" cx=\"788.783\" cy=\"1387.75\" r=\"2\"/>\n",
       "<circle clip-path=\"url(#clip782)\" style=\"fill:#8be9fd; stroke:none; fill-opacity:0\" cx=\"829.507\" cy=\"1334.34\" r=\"2\"/>\n",
       "<circle clip-path=\"url(#clip782)\" style=\"fill:#8be9fd; stroke:none; fill-opacity:0\" cx=\"870.231\" cy=\"1258.19\" r=\"2\"/>\n",
       "<circle clip-path=\"url(#clip782)\" style=\"fill:#8be9fd; stroke:none; fill-opacity:0\" cx=\"910.954\" cy=\"1135.13\" r=\"2\"/>\n",
       "<circle clip-path=\"url(#clip782)\" style=\"fill:#8be9fd; stroke:none; fill-opacity:0\" cx=\"951.678\" cy=\"1009.18\" r=\"2\"/>\n",
       "<circle clip-path=\"url(#clip782)\" style=\"fill:#8be9fd; stroke:none; fill-opacity:0\" cx=\"992.401\" cy=\"860.495\" r=\"2\"/>\n",
       "<circle clip-path=\"url(#clip782)\" style=\"fill:#8be9fd; stroke:none; fill-opacity:0\" cx=\"1033.12\" cy=\"690.339\" r=\"2\"/>\n",
       "<circle clip-path=\"url(#clip782)\" style=\"fill:#8be9fd; stroke:none; fill-opacity:0\" cx=\"1073.85\" cy=\"540.031\" r=\"2\"/>\n",
       "<circle clip-path=\"url(#clip782)\" style=\"fill:#8be9fd; stroke:none; fill-opacity:0\" cx=\"1114.57\" cy=\"371.498\" r=\"2\"/>\n",
       "<circle clip-path=\"url(#clip782)\" style=\"fill:#8be9fd; stroke:none; fill-opacity:0\" cx=\"1155.3\" cy=\"193.222\" r=\"2\"/>\n",
       "<circle clip-path=\"url(#clip782)\" style=\"fill:#8be9fd; stroke:none; fill-opacity:0\" cx=\"1196.02\" cy=\"115.451\" r=\"2\"/>\n",
       "<circle clip-path=\"url(#clip782)\" style=\"fill:#8be9fd; stroke:none; fill-opacity:0\" cx=\"1236.74\" cy=\"47.2441\" r=\"2\"/>\n",
       "<circle clip-path=\"url(#clip782)\" style=\"fill:#8be9fd; stroke:none; fill-opacity:0\" cx=\"1277.47\" cy=\"56.4466\" r=\"2\"/>\n",
       "<circle clip-path=\"url(#clip782)\" style=\"fill:#8be9fd; stroke:none; fill-opacity:0\" cx=\"1318.19\" cy=\"127.541\" r=\"2\"/>\n",
       "<circle clip-path=\"url(#clip782)\" style=\"fill:#8be9fd; stroke:none; fill-opacity:0\" cx=\"1358.91\" cy=\"212.168\" r=\"2\"/>\n",
       "<circle clip-path=\"url(#clip782)\" style=\"fill:#8be9fd; stroke:none; fill-opacity:0\" cx=\"1399.64\" cy=\"366.626\" r=\"2\"/>\n",
       "<circle clip-path=\"url(#clip782)\" style=\"fill:#8be9fd; stroke:none; fill-opacity:0\" cx=\"1440.36\" cy=\"537.144\" r=\"2\"/>\n",
       "<circle clip-path=\"url(#clip782)\" style=\"fill:#8be9fd; stroke:none; fill-opacity:0\" cx=\"1481.08\" cy=\"702.789\" r=\"2\"/>\n",
       "<circle clip-path=\"url(#clip782)\" style=\"fill:#8be9fd; stroke:none; fill-opacity:0\" cx=\"1521.81\" cy=\"848.225\" r=\"2\"/>\n",
       "<circle clip-path=\"url(#clip782)\" style=\"fill:#8be9fd; stroke:none; fill-opacity:0\" cx=\"1562.53\" cy=\"1016.22\" r=\"2\"/>\n",
       "<circle clip-path=\"url(#clip782)\" style=\"fill:#8be9fd; stroke:none; fill-opacity:0\" cx=\"1603.25\" cy=\"1146.5\" r=\"2\"/>\n",
       "<circle clip-path=\"url(#clip782)\" style=\"fill:#8be9fd; stroke:none; fill-opacity:0\" cx=\"1643.98\" cy=\"1254.94\" r=\"2\"/>\n",
       "<circle clip-path=\"url(#clip782)\" style=\"fill:#8be9fd; stroke:none; fill-opacity:0\" cx=\"1684.7\" cy=\"1324.95\" r=\"2\"/>\n",
       "<circle clip-path=\"url(#clip782)\" style=\"fill:#8be9fd; stroke:none; fill-opacity:0\" cx=\"1725.43\" cy=\"1388.29\" r=\"2\"/>\n",
       "<circle clip-path=\"url(#clip782)\" style=\"fill:#8be9fd; stroke:none; fill-opacity:0\" cx=\"1766.15\" cy=\"1425.1\" r=\"2\"/>\n",
       "<circle clip-path=\"url(#clip782)\" style=\"fill:#8be9fd; stroke:none; fill-opacity:0\" cx=\"1806.87\" cy=\"1445.67\" r=\"2\"/>\n",
       "<circle clip-path=\"url(#clip782)\" style=\"fill:#8be9fd; stroke:none; fill-opacity:0\" cx=\"1847.6\" cy=\"1459.02\" r=\"2\"/>\n",
       "<circle clip-path=\"url(#clip782)\" style=\"fill:#8be9fd; stroke:none; fill-opacity:0\" cx=\"1888.32\" cy=\"1477.43\" r=\"2\"/>\n",
       "<circle clip-path=\"url(#clip782)\" style=\"fill:#8be9fd; stroke:none; fill-opacity:0\" cx=\"1929.04\" cy=\"1479.05\" r=\"2\"/>\n",
       "<circle clip-path=\"url(#clip782)\" style=\"fill:#8be9fd; stroke:none; fill-opacity:0\" cx=\"1969.77\" cy=\"1483.92\" r=\"2\"/>\n",
       "<circle clip-path=\"url(#clip782)\" style=\"fill:#8be9fd; stroke:none; fill-opacity:0\" cx=\"2010.49\" cy=\"1484.82\" r=\"2\"/>\n",
       "<circle clip-path=\"url(#clip782)\" style=\"fill:#8be9fd; stroke:none; fill-opacity:0\" cx=\"2051.21\" cy=\"1485.55\" r=\"2\"/>\n",
       "<circle clip-path=\"url(#clip782)\" style=\"fill:#8be9fd; stroke:none; fill-opacity:0\" cx=\"2091.94\" cy=\"1485.91\" r=\"2\"/>\n",
       "<circle clip-path=\"url(#clip782)\" style=\"fill:#8be9fd; stroke:none; fill-opacity:0\" cx=\"2132.66\" cy=\"1486.09\" r=\"2\"/>\n",
       "<circle clip-path=\"url(#clip782)\" style=\"fill:#8be9fd; stroke:none; fill-opacity:0\" cx=\"2173.38\" cy=\"1486.45\" r=\"2\"/>\n",
       "<circle clip-path=\"url(#clip782)\" style=\"fill:#8be9fd; stroke:none; fill-opacity:0\" cx=\"2214.11\" cy=\"1486.27\" r=\"2\"/>\n",
       "</svg>\n"
      ],
      "text/html": [
       "<?xml version=\"1.0\" encoding=\"utf-8\"?>\n",
       "<svg xmlns=\"http://www.w3.org/2000/svg\" xmlns:xlink=\"http://www.w3.org/1999/xlink\" width=\"600\" height=\"400\" viewBox=\"0 0 2400 1600\">\n",
       "<defs>\n",
       "  <clipPath id=\"clip830\">\n",
       "    <rect x=\"0\" y=\"0\" width=\"2400\" height=\"1600\"/>\n",
       "  </clipPath>\n",
       "</defs>\n",
       "<path clip-path=\"url(#clip830)\" d=\"M0 1600 L2400 1600 L2400 0 L0 0  Z\" fill=\"#282a36\" fill-rule=\"evenodd\" fill-opacity=\"1\"/>\n",
       "<defs>\n",
       "  <clipPath id=\"clip831\">\n",
       "    <rect x=\"480\" y=\"0\" width=\"1681\" height=\"1600\"/>\n",
       "  </clipPath>\n",
       "</defs>\n",
       "<path clip-path=\"url(#clip830)\" d=\"M202.177 1486.45 L2352.76 1486.45 L2352.76 47.2441 L202.177 47.2441  Z\" fill=\"#30343b\" fill-rule=\"evenodd\" fill-opacity=\"1\"/>\n",
       "<defs>\n",
       "  <clipPath id=\"clip832\">\n",
       "    <rect x=\"202\" y=\"47\" width=\"2152\" height=\"1440\"/>\n",
       "  </clipPath>\n",
       "</defs>\n",
       "<polyline clip-path=\"url(#clip832)\" style=\"stroke:#f8f8f2; stroke-linecap:round; stroke-linejoin:round; stroke-width:2; stroke-opacity:0.1; fill:none\" points=\"442.633,1486.45 442.633,47.2441 \"/>\n",
       "<polyline clip-path=\"url(#clip832)\" style=\"stroke:#f8f8f2; stroke-linecap:round; stroke-linejoin:round; stroke-width:2; stroke-opacity:0.1; fill:none\" points=\"849.869,1486.45 849.869,47.2441 \"/>\n",
       "<polyline clip-path=\"url(#clip832)\" style=\"stroke:#f8f8f2; stroke-linecap:round; stroke-linejoin:round; stroke-width:2; stroke-opacity:0.1; fill:none\" points=\"1257.1,1486.45 1257.1,47.2441 \"/>\n",
       "<polyline clip-path=\"url(#clip832)\" style=\"stroke:#f8f8f2; stroke-linecap:round; stroke-linejoin:round; stroke-width:2; stroke-opacity:0.1; fill:none\" points=\"1664.34,1486.45 1664.34,47.2441 \"/>\n",
       "<polyline clip-path=\"url(#clip832)\" style=\"stroke:#f8f8f2; stroke-linecap:round; stroke-linejoin:round; stroke-width:2; stroke-opacity:0.1; fill:none\" points=\"2071.58,1486.45 2071.58,47.2441 \"/>\n",
       "<polyline clip-path=\"url(#clip830)\" style=\"stroke:#f8f8f2; stroke-linecap:round; stroke-linejoin:round; stroke-width:4; stroke-opacity:1; fill:none\" points=\"202.177,1486.45 2352.76,1486.45 \"/>\n",
       "<polyline clip-path=\"url(#clip830)\" style=\"stroke:#f8f8f2; stroke-linecap:round; stroke-linejoin:round; stroke-width:4; stroke-opacity:1; fill:none\" points=\"442.633,1486.45 442.633,1467.55 \"/>\n",
       "<polyline clip-path=\"url(#clip830)\" style=\"stroke:#f8f8f2; stroke-linecap:round; stroke-linejoin:round; stroke-width:4; stroke-opacity:1; fill:none\" points=\"849.869,1486.45 849.869,1467.55 \"/>\n",
       "<polyline clip-path=\"url(#clip830)\" style=\"stroke:#f8f8f2; stroke-linecap:round; stroke-linejoin:round; stroke-width:4; stroke-opacity:1; fill:none\" points=\"1257.1,1486.45 1257.1,1467.55 \"/>\n",
       "<polyline clip-path=\"url(#clip830)\" style=\"stroke:#f8f8f2; stroke-linecap:round; stroke-linejoin:round; stroke-width:4; stroke-opacity:1; fill:none\" points=\"1664.34,1486.45 1664.34,1467.55 \"/>\n",
       "<polyline clip-path=\"url(#clip830)\" style=\"stroke:#f8f8f2; stroke-linecap:round; stroke-linejoin:round; stroke-width:4; stroke-opacity:1; fill:none\" points=\"2071.58,1486.45 2071.58,1467.55 \"/>\n",
       "<path clip-path=\"url(#clip830)\" d=\"M411.534 1532.02 L441.209 1532.02 L441.209 1535.95 L411.534 1535.95 L411.534 1532.02 Z\" fill=\"#f8f8f2\" fill-rule=\"nonzero\" fill-opacity=\"1\" /><path clip-path=\"url(#clip830)\" d=\"M464.149 1518.36 L452.344 1536.81 L464.149 1536.81 L464.149 1518.36 M462.922 1514.29 L468.802 1514.29 L468.802 1536.81 L473.732 1536.81 L473.732 1540.7 L468.802 1540.7 L468.802 1548.85 L464.149 1548.85 L464.149 1540.7 L448.547 1540.7 L448.547 1536.19 L462.922 1514.29 Z\" fill=\"#f8f8f2\" fill-rule=\"nonzero\" fill-opacity=\"1\" /><path clip-path=\"url(#clip830)\" d=\"M819.811 1532.02 L849.487 1532.02 L849.487 1535.95 L819.811 1535.95 L819.811 1532.02 Z\" fill=\"#f8f8f2\" fill-rule=\"nonzero\" fill-opacity=\"1\" /><path clip-path=\"url(#clip830)\" d=\"M863.607 1544.91 L879.927 1544.91 L879.927 1548.85 L857.982 1548.85 L857.982 1544.91 Q860.644 1542.16 865.228 1537.53 Q869.834 1532.88 871.015 1531.53 Q873.26 1529.01 874.14 1527.27 Q875.042 1525.51 875.042 1523.82 Q875.042 1521.07 873.098 1519.33 Q871.177 1517.6 868.075 1517.6 Q865.876 1517.6 863.422 1518.36 Q860.991 1519.13 858.214 1520.68 L858.214 1515.95 Q861.038 1514.82 863.491 1514.24 Q865.945 1513.66 867.982 1513.66 Q873.352 1513.66 876.547 1516.35 Q879.741 1519.03 879.741 1523.52 Q879.741 1525.65 878.931 1527.57 Q878.144 1529.47 876.038 1532.07 Q875.459 1532.74 872.357 1535.95 Q869.255 1539.15 863.607 1544.91 Z\" fill=\"#f8f8f2\" fill-rule=\"nonzero\" fill-opacity=\"1\" /><path clip-path=\"url(#clip830)\" d=\"M1257.1 1517.37 Q1253.49 1517.37 1251.66 1520.93 Q1249.86 1524.47 1249.86 1531.6 Q1249.86 1538.71 1251.66 1542.27 Q1253.49 1545.82 1257.1 1545.82 Q1260.74 1545.82 1262.54 1542.27 Q1264.37 1538.71 1264.37 1531.6 Q1264.37 1524.47 1262.54 1520.93 Q1260.74 1517.37 1257.1 1517.37 M1257.1 1513.66 Q1262.91 1513.66 1265.97 1518.27 Q1269.05 1522.85 1269.05 1531.6 Q1269.05 1540.33 1265.97 1544.94 Q1262.91 1549.52 1257.1 1549.52 Q1251.29 1549.52 1248.22 1544.94 Q1245.16 1540.33 1245.16 1531.6 Q1245.16 1522.85 1248.22 1518.27 Q1251.29 1513.66 1257.1 1513.66 Z\" fill=\"#f8f8f2\" fill-rule=\"nonzero\" fill-opacity=\"1\" /><path clip-path=\"url(#clip830)\" d=\"M1658.99 1544.91 L1675.31 1544.91 L1675.31 1548.85 L1653.37 1548.85 L1653.37 1544.91 Q1656.03 1542.16 1660.61 1537.53 Q1665.22 1532.88 1666.4 1531.53 Q1668.65 1529.01 1669.53 1527.27 Q1670.43 1525.51 1670.43 1523.82 Q1670.43 1521.07 1668.48 1519.33 Q1666.56 1517.6 1663.46 1517.6 Q1661.26 1517.6 1658.81 1518.36 Q1656.38 1519.13 1653.6 1520.68 L1653.6 1515.95 Q1656.42 1514.82 1658.88 1514.24 Q1661.33 1513.66 1663.37 1513.66 Q1668.74 1513.66 1671.93 1516.35 Q1675.13 1519.03 1675.13 1523.52 Q1675.13 1525.65 1674.32 1527.57 Q1673.53 1529.47 1671.42 1532.07 Q1670.84 1532.74 1667.74 1535.95 Q1664.64 1539.15 1658.99 1544.91 Z\" fill=\"#f8f8f2\" fill-rule=\"nonzero\" fill-opacity=\"1\" /><path clip-path=\"url(#clip830)\" d=\"M2074.59 1518.36 L2062.78 1536.81 L2074.59 1536.81 L2074.59 1518.36 M2073.36 1514.29 L2079.24 1514.29 L2079.24 1536.81 L2084.17 1536.81 L2084.17 1540.7 L2079.24 1540.7 L2079.24 1548.85 L2074.59 1548.85 L2074.59 1540.7 L2058.98 1540.7 L2058.98 1536.19 L2073.36 1514.29 Z\" fill=\"#f8f8f2\" fill-rule=\"nonzero\" fill-opacity=\"1\" /><polyline clip-path=\"url(#clip832)\" style=\"stroke:#f8f8f2; stroke-linecap:round; stroke-linejoin:round; stroke-width:2; stroke-opacity:0.1; fill:none\" points=\"202.177,1486.45 2352.76,1486.45 \"/>\n",
       "<polyline clip-path=\"url(#clip832)\" style=\"stroke:#f8f8f2; stroke-linecap:round; stroke-linejoin:round; stroke-width:2; stroke-opacity:0.1; fill:none\" points=\"202.177,1125.56 2352.76,1125.56 \"/>\n",
       "<polyline clip-path=\"url(#clip832)\" style=\"stroke:#f8f8f2; stroke-linecap:round; stroke-linejoin:round; stroke-width:2; stroke-opacity:0.1; fill:none\" points=\"202.177,764.681 2352.76,764.681 \"/>\n",
       "<polyline clip-path=\"url(#clip832)\" style=\"stroke:#f8f8f2; stroke-linecap:round; stroke-linejoin:round; stroke-width:2; stroke-opacity:0.1; fill:none\" points=\"202.177,403.797 2352.76,403.797 \"/>\n",
       "<polyline clip-path=\"url(#clip830)\" style=\"stroke:#f8f8f2; stroke-linecap:round; stroke-linejoin:round; stroke-width:4; stroke-opacity:1; fill:none\" points=\"202.177,1486.45 202.177,47.2441 \"/>\n",
       "<polyline clip-path=\"url(#clip830)\" style=\"stroke:#f8f8f2; stroke-linecap:round; stroke-linejoin:round; stroke-width:4; stroke-opacity:1; fill:none\" points=\"202.177,1486.45 221.074,1486.45 \"/>\n",
       "<polyline clip-path=\"url(#clip830)\" style=\"stroke:#f8f8f2; stroke-linecap:round; stroke-linejoin:round; stroke-width:4; stroke-opacity:1; fill:none\" points=\"202.177,1125.56 221.074,1125.56 \"/>\n",
       "<polyline clip-path=\"url(#clip830)\" style=\"stroke:#f8f8f2; stroke-linecap:round; stroke-linejoin:round; stroke-width:4; stroke-opacity:1; fill:none\" points=\"202.177,764.681 221.074,764.681 \"/>\n",
       "<polyline clip-path=\"url(#clip830)\" style=\"stroke:#f8f8f2; stroke-linecap:round; stroke-linejoin:round; stroke-width:4; stroke-opacity:1; fill:none\" points=\"202.177,403.797 221.074,403.797 \"/>\n",
       "<path clip-path=\"url(#clip830)\" d=\"M154.232 1472.25 Q150.621 1472.25 148.793 1475.81 Q146.987 1479.35 146.987 1486.48 Q146.987 1493.59 148.793 1497.15 Q150.621 1500.7 154.232 1500.7 Q157.867 1500.7 159.672 1497.15 Q161.501 1493.59 161.501 1486.48 Q161.501 1479.35 159.672 1475.81 Q157.867 1472.25 154.232 1472.25 M154.232 1468.54 Q160.042 1468.54 163.098 1473.15 Q166.177 1477.73 166.177 1486.48 Q166.177 1495.21 163.098 1499.82 Q160.042 1504.4 154.232 1504.4 Q148.422 1504.4 145.343 1499.82 Q142.288 1495.21 142.288 1486.48 Q142.288 1477.73 145.343 1473.15 Q148.422 1468.54 154.232 1468.54 Z\" fill=\"#f8f8f2\" fill-rule=\"nonzero\" fill-opacity=\"1\" /><path clip-path=\"url(#clip830)\" d=\"M57.7745 1138.91 L74.0939 1138.91 L74.0939 1142.84 L52.1495 1142.84 L52.1495 1138.91 Q54.8115 1136.15 59.3949 1131.52 Q64.0013 1126.87 65.1819 1125.53 Q67.4272 1123.01 68.3068 1121.27 Q69.2096 1119.51 69.2096 1117.82 Q69.2096 1115.07 67.2652 1113.33 Q65.3439 1111.59 62.2421 1111.59 Q60.043 1111.59 57.5893 1112.36 Q55.1588 1113.12 52.381 1114.67 L52.381 1109.95 Q55.2051 1108.82 57.6588 1108.24 Q60.1124 1107.66 62.1495 1107.66 Q67.5198 1107.66 70.7142 1110.34 Q73.9087 1113.03 73.9087 1117.52 Q73.9087 1119.65 73.0985 1121.57 Q72.3115 1123.47 70.205 1126.06 Q69.6263 1126.73 66.5245 1129.95 Q63.4226 1133.15 57.7745 1138.91 Z\" fill=\"#f8f8f2\" fill-rule=\"nonzero\" fill-opacity=\"1\" /><path clip-path=\"url(#clip830)\" d=\"M93.9086 1111.36 Q90.2975 1111.36 88.4688 1114.93 Q86.6632 1118.47 86.6632 1125.6 Q86.6632 1132.71 88.4688 1136.27 Q90.2975 1139.81 93.9086 1139.81 Q97.5428 1139.81 99.3483 1136.27 Q101.177 1132.71 101.177 1125.6 Q101.177 1118.47 99.3483 1114.93 Q97.5428 1111.36 93.9086 1111.36 M93.9086 1107.66 Q99.7187 1107.66 102.774 1112.27 Q105.853 1116.85 105.853 1125.6 Q105.853 1134.33 102.774 1138.93 Q99.7187 1143.52 93.9086 1143.52 Q88.0984 1143.52 85.0197 1138.93 Q81.9642 1134.33 81.9642 1125.6 Q81.9642 1116.85 85.0197 1112.27 Q88.0984 1107.66 93.9086 1107.66 Z\" fill=\"#f8f8f2\" fill-rule=\"nonzero\" fill-opacity=\"1\" /><path clip-path=\"url(#clip830)\" d=\"M124.07 1111.36 Q120.459 1111.36 118.631 1114.93 Q116.825 1118.47 116.825 1125.6 Q116.825 1132.71 118.631 1136.27 Q120.459 1139.81 124.07 1139.81 Q127.705 1139.81 129.51 1136.27 Q131.339 1132.71 131.339 1125.6 Q131.339 1118.47 129.51 1114.93 Q127.705 1111.36 124.07 1111.36 M124.07 1107.66 Q129.881 1107.66 132.936 1112.27 Q136.015 1116.85 136.015 1125.6 Q136.015 1134.33 132.936 1138.93 Q129.881 1143.52 124.07 1143.52 Q118.26 1143.52 115.182 1138.93 Q112.126 1134.33 112.126 1125.6 Q112.126 1116.85 115.182 1112.27 Q118.26 1107.66 124.07 1107.66 Z\" fill=\"#f8f8f2\" fill-rule=\"nonzero\" fill-opacity=\"1\" /><path clip-path=\"url(#clip830)\" d=\"M154.232 1111.36 Q150.621 1111.36 148.793 1114.93 Q146.987 1118.47 146.987 1125.6 Q146.987 1132.71 148.793 1136.27 Q150.621 1139.81 154.232 1139.81 Q157.867 1139.81 159.672 1136.27 Q161.501 1132.71 161.501 1125.6 Q161.501 1118.47 159.672 1114.93 Q157.867 1111.36 154.232 1111.36 M154.232 1107.66 Q160.042 1107.66 163.098 1112.27 Q166.177 1116.85 166.177 1125.6 Q166.177 1134.33 163.098 1138.93 Q160.042 1143.52 154.232 1143.52 Q148.422 1143.52 145.343 1138.93 Q142.288 1134.33 142.288 1125.6 Q142.288 1116.85 145.343 1112.27 Q148.422 1107.66 154.232 1107.66 Z\" fill=\"#f8f8f2\" fill-rule=\"nonzero\" fill-opacity=\"1\" /><path clip-path=\"url(#clip830)\" d=\"M66.5939 751.475 L54.7884 769.924 L66.5939 769.924 L66.5939 751.475 M65.367 747.401 L71.2466 747.401 L71.2466 769.924 L76.1772 769.924 L76.1772 773.813 L71.2466 773.813 L71.2466 781.961 L66.5939 781.961 L66.5939 773.813 L50.9921 773.813 L50.9921 769.299 L65.367 747.401 Z\" fill=\"#f8f8f2\" fill-rule=\"nonzero\" fill-opacity=\"1\" /><path clip-path=\"url(#clip830)\" d=\"M93.9086 750.479 Q90.2975 750.479 88.4688 754.044 Q86.6632 757.586 86.6632 764.715 Q86.6632 771.822 88.4688 775.387 Q90.2975 778.928 93.9086 778.928 Q97.5428 778.928 99.3483 775.387 Q101.177 771.822 101.177 764.715 Q101.177 757.586 99.3483 754.044 Q97.5428 750.479 93.9086 750.479 M93.9086 746.776 Q99.7187 746.776 102.774 751.382 Q105.853 755.965 105.853 764.715 Q105.853 773.442 102.774 778.049 Q99.7187 782.632 93.9086 782.632 Q88.0984 782.632 85.0197 778.049 Q81.9642 773.442 81.9642 764.715 Q81.9642 755.965 85.0197 751.382 Q88.0984 746.776 93.9086 746.776 Z\" fill=\"#f8f8f2\" fill-rule=\"nonzero\" fill-opacity=\"1\" /><path clip-path=\"url(#clip830)\" d=\"M124.07 750.479 Q120.459 750.479 118.631 754.044 Q116.825 757.586 116.825 764.715 Q116.825 771.822 118.631 775.387 Q120.459 778.928 124.07 778.928 Q127.705 778.928 129.51 775.387 Q131.339 771.822 131.339 764.715 Q131.339 757.586 129.51 754.044 Q127.705 750.479 124.07 750.479 M124.07 746.776 Q129.881 746.776 132.936 751.382 Q136.015 755.965 136.015 764.715 Q136.015 773.442 132.936 778.049 Q129.881 782.632 124.07 782.632 Q118.26 782.632 115.182 778.049 Q112.126 773.442 112.126 764.715 Q112.126 755.965 115.182 751.382 Q118.26 746.776 124.07 746.776 Z\" fill=\"#f8f8f2\" fill-rule=\"nonzero\" fill-opacity=\"1\" /><path clip-path=\"url(#clip830)\" d=\"M154.232 750.479 Q150.621 750.479 148.793 754.044 Q146.987 757.586 146.987 764.715 Q146.987 771.822 148.793 775.387 Q150.621 778.928 154.232 778.928 Q157.867 778.928 159.672 775.387 Q161.501 771.822 161.501 764.715 Q161.501 757.586 159.672 754.044 Q157.867 750.479 154.232 750.479 M154.232 746.776 Q160.042 746.776 163.098 751.382 Q166.177 755.965 166.177 764.715 Q166.177 773.442 163.098 778.049 Q160.042 782.632 154.232 782.632 Q148.422 782.632 145.343 778.049 Q142.288 773.442 142.288 764.715 Q142.288 755.965 145.343 751.382 Q148.422 746.776 154.232 746.776 Z\" fill=\"#f8f8f2\" fill-rule=\"nonzero\" fill-opacity=\"1\" /><path clip-path=\"url(#clip830)\" d=\"M64.3254 401.934 Q61.1773 401.934 59.3254 404.086 Q57.4967 406.239 57.4967 409.989 Q57.4967 413.716 59.3254 415.892 Q61.1773 418.045 64.3254 418.045 Q67.4735 418.045 69.3022 415.892 Q71.1541 413.716 71.1541 409.989 Q71.1541 406.239 69.3022 404.086 Q67.4735 401.934 64.3254 401.934 M73.6077 387.281 L73.6077 391.54 Q71.8485 390.707 70.0429 390.267 Q68.2606 389.827 66.5013 389.827 Q61.8717 389.827 59.418 392.952 Q56.9875 396.077 56.6402 402.397 Q58.006 400.383 60.0662 399.318 Q62.1263 398.23 64.6032 398.23 Q69.8115 398.23 72.8207 401.401 Q75.8531 404.549 75.8531 409.989 Q75.8531 415.313 72.705 418.531 Q69.5568 421.748 64.3254 421.748 Q58.33 421.748 55.1588 417.165 Q51.9875 412.559 51.9875 403.832 Q51.9875 395.637 55.8764 390.776 Q59.7652 385.892 66.3161 385.892 Q68.0754 385.892 69.8578 386.239 Q71.6633 386.587 73.6077 387.281 Z\" fill=\"#f8f8f2\" fill-rule=\"nonzero\" fill-opacity=\"1\" /><path clip-path=\"url(#clip830)\" d=\"M93.9086 389.596 Q90.2975 389.596 88.4688 393.161 Q86.6632 396.702 86.6632 403.832 Q86.6632 410.938 88.4688 414.503 Q90.2975 418.045 93.9086 418.045 Q97.5428 418.045 99.3483 414.503 Q101.177 410.938 101.177 403.832 Q101.177 396.702 99.3483 393.161 Q97.5428 389.596 93.9086 389.596 M93.9086 385.892 Q99.7187 385.892 102.774 390.499 Q105.853 395.082 105.853 403.832 Q105.853 412.559 102.774 417.165 Q99.7187 421.748 93.9086 421.748 Q88.0984 421.748 85.0197 417.165 Q81.9642 412.559 81.9642 403.832 Q81.9642 395.082 85.0197 390.499 Q88.0984 385.892 93.9086 385.892 Z\" fill=\"#f8f8f2\" fill-rule=\"nonzero\" fill-opacity=\"1\" /><path clip-path=\"url(#clip830)\" d=\"M124.07 389.596 Q120.459 389.596 118.631 393.161 Q116.825 396.702 116.825 403.832 Q116.825 410.938 118.631 414.503 Q120.459 418.045 124.07 418.045 Q127.705 418.045 129.51 414.503 Q131.339 410.938 131.339 403.832 Q131.339 396.702 129.51 393.161 Q127.705 389.596 124.07 389.596 M124.07 385.892 Q129.881 385.892 132.936 390.499 Q136.015 395.082 136.015 403.832 Q136.015 412.559 132.936 417.165 Q129.881 421.748 124.07 421.748 Q118.26 421.748 115.182 417.165 Q112.126 412.559 112.126 403.832 Q112.126 395.082 115.182 390.499 Q118.26 385.892 124.07 385.892 Z\" fill=\"#f8f8f2\" fill-rule=\"nonzero\" fill-opacity=\"1\" /><path clip-path=\"url(#clip830)\" d=\"M154.232 389.596 Q150.621 389.596 148.793 393.161 Q146.987 396.702 146.987 403.832 Q146.987 410.938 148.793 414.503 Q150.621 418.045 154.232 418.045 Q157.867 418.045 159.672 414.503 Q161.501 410.938 161.501 403.832 Q161.501 396.702 159.672 393.161 Q157.867 389.596 154.232 389.596 M154.232 385.892 Q160.042 385.892 163.098 390.499 Q166.177 395.082 166.177 403.832 Q166.177 412.559 163.098 417.165 Q160.042 421.748 154.232 421.748 Q148.422 421.748 145.343 417.165 Q142.288 412.559 142.288 403.832 Q142.288 395.082 145.343 390.499 Q148.422 385.892 154.232 385.892 Z\" fill=\"#f8f8f2\" fill-rule=\"nonzero\" fill-opacity=\"1\" /><path clip-path=\"url(#clip832)\" d=\"M320.462 1486.27 L320.462 1486.45 L361.186 1486.45 L361.186 1486.27 L320.462 1486.27 L320.462 1486.27  Z\" fill=\"#8be9fd\" fill-rule=\"evenodd\" fill-opacity=\"1\"/>\n",
       "<polyline clip-path=\"url(#clip832)\" style=\"stroke:#f8f8f2; stroke-linecap:round; stroke-linejoin:round; stroke-width:4; stroke-opacity:1; fill:none\" points=\"320.462,1486.27 320.462,1486.45 361.186,1486.45 361.186,1486.27 320.462,1486.27 \"/>\n",
       "<path clip-path=\"url(#clip832)\" d=\"M361.186 1486.27 L361.186 1486.45 L401.91 1486.45 L401.91 1486.27 L361.186 1486.27 L361.186 1486.27  Z\" fill=\"#8be9fd\" fill-rule=\"evenodd\" fill-opacity=\"1\"/>\n",
       "<polyline clip-path=\"url(#clip832)\" style=\"stroke:#f8f8f2; stroke-linecap:round; stroke-linejoin:round; stroke-width:4; stroke-opacity:1; fill:none\" points=\"361.186,1486.27 361.186,1486.45 401.91,1486.45 401.91,1486.27 361.186,1486.27 \"/>\n",
       "<path clip-path=\"url(#clip832)\" d=\"M401.91 1486.45 L401.91 1486.45 L442.633 1486.45 L442.633 1486.45 L401.91 1486.45 L401.91 1486.45  Z\" fill=\"#8be9fd\" fill-rule=\"evenodd\" fill-opacity=\"1\"/>\n",
       "<polyline clip-path=\"url(#clip832)\" style=\"stroke:#f8f8f2; stroke-linecap:round; stroke-linejoin:round; stroke-width:4; stroke-opacity:1; fill:none\" points=\"401.91,1486.45 401.91,1486.45 442.633,1486.45 401.91,1486.45 \"/>\n",
       "<path clip-path=\"url(#clip832)\" d=\"M442.633 1485.73 L442.633 1486.45 L483.357 1486.45 L483.357 1485.73 L442.633 1485.73 L442.633 1485.73  Z\" fill=\"#8be9fd\" fill-rule=\"evenodd\" fill-opacity=\"1\"/>\n",
       "<polyline clip-path=\"url(#clip832)\" style=\"stroke:#f8f8f2; stroke-linecap:round; stroke-linejoin:round; stroke-width:4; stroke-opacity:1; fill:none\" points=\"442.633,1485.73 442.633,1486.45 483.357,1486.45 483.357,1485.73 442.633,1485.73 \"/>\n",
       "<path clip-path=\"url(#clip832)\" d=\"M483.357 1485.55 L483.357 1486.45 L524.08 1486.45 L524.08 1485.55 L483.357 1485.55 L483.357 1485.55  Z\" fill=\"#8be9fd\" fill-rule=\"evenodd\" fill-opacity=\"1\"/>\n",
       "<polyline clip-path=\"url(#clip832)\" style=\"stroke:#f8f8f2; stroke-linecap:round; stroke-linejoin:round; stroke-width:4; stroke-opacity:1; fill:none\" points=\"483.357,1485.55 483.357,1486.45 524.08,1486.45 524.08,1485.55 483.357,1485.55 \"/>\n",
       "<path clip-path=\"url(#clip832)\" d=\"M524.08 1483.74 L524.08 1486.45 L564.804 1486.45 L564.804 1483.74 L524.08 1483.74 L524.08 1483.74  Z\" fill=\"#8be9fd\" fill-rule=\"evenodd\" fill-opacity=\"1\"/>\n",
       "<polyline clip-path=\"url(#clip832)\" style=\"stroke:#f8f8f2; stroke-linecap:round; stroke-linejoin:round; stroke-width:4; stroke-opacity:1; fill:none\" points=\"524.08,1483.74 524.08,1486.45 564.804,1486.45 564.804,1483.74 524.08,1483.74 \"/>\n",
       "<path clip-path=\"url(#clip832)\" d=\"M564.804 1479.41 L564.804 1486.45 L605.527 1486.45 L605.527 1479.41 L564.804 1479.41 L564.804 1479.41  Z\" fill=\"#8be9fd\" fill-rule=\"evenodd\" fill-opacity=\"1\"/>\n",
       "<polyline clip-path=\"url(#clip832)\" style=\"stroke:#f8f8f2; stroke-linecap:round; stroke-linejoin:round; stroke-width:4; stroke-opacity:1; fill:none\" points=\"564.804,1479.41 564.804,1486.45 605.527,1486.45 605.527,1479.41 564.804,1479.41 \"/>\n",
       "<path clip-path=\"url(#clip832)\" d=\"M605.527 1475.08 L605.527 1486.45 L646.251 1486.45 L646.251 1475.08 L605.527 1475.08 L605.527 1475.08  Z\" fill=\"#8be9fd\" fill-rule=\"evenodd\" fill-opacity=\"1\"/>\n",
       "<polyline clip-path=\"url(#clip832)\" style=\"stroke:#f8f8f2; stroke-linecap:round; stroke-linejoin:round; stroke-width:4; stroke-opacity:1; fill:none\" points=\"605.527,1475.08 605.527,1486.45 646.251,1486.45 646.251,1475.08 605.527,1475.08 \"/>\n",
       "<path clip-path=\"url(#clip832)\" d=\"M646.251 1464.98 L646.251 1486.45 L686.975 1486.45 L686.975 1464.98 L646.251 1464.98 L646.251 1464.98  Z\" fill=\"#8be9fd\" fill-rule=\"evenodd\" fill-opacity=\"1\"/>\n",
       "<polyline clip-path=\"url(#clip832)\" style=\"stroke:#f8f8f2; stroke-linecap:round; stroke-linejoin:round; stroke-width:4; stroke-opacity:1; fill:none\" points=\"646.251,1464.98 646.251,1486.45 686.975,1486.45 686.975,1464.98 646.251,1464.98 \"/>\n",
       "<path clip-path=\"url(#clip832)\" d=\"M686.975 1449.28 L686.975 1486.45 L727.698 1486.45 L727.698 1449.28 L686.975 1449.28 L686.975 1449.28  Z\" fill=\"#8be9fd\" fill-rule=\"evenodd\" fill-opacity=\"1\"/>\n",
       "<polyline clip-path=\"url(#clip832)\" style=\"stroke:#f8f8f2; stroke-linecap:round; stroke-linejoin:round; stroke-width:4; stroke-opacity:1; fill:none\" points=\"686.975,1449.28 686.975,1486.45 727.698,1486.45 727.698,1449.28 686.975,1449.28 \"/>\n",
       "<path clip-path=\"url(#clip832)\" d=\"M727.698 1426.18 L727.698 1486.45 L768.422 1486.45 L768.422 1426.18 L727.698 1426.18 L727.698 1426.18  Z\" fill=\"#8be9fd\" fill-rule=\"evenodd\" fill-opacity=\"1\"/>\n",
       "<polyline clip-path=\"url(#clip832)\" style=\"stroke:#f8f8f2; stroke-linecap:round; stroke-linejoin:round; stroke-width:4; stroke-opacity:1; fill:none\" points=\"727.698,1426.18 727.698,1486.45 768.422,1486.45 768.422,1426.18 727.698,1426.18 \"/>\n",
       "<path clip-path=\"url(#clip832)\" d=\"M768.422 1387.75 L768.422 1486.45 L809.145 1486.45 L809.145 1387.75 L768.422 1387.75 L768.422 1387.75  Z\" fill=\"#8be9fd\" fill-rule=\"evenodd\" fill-opacity=\"1\"/>\n",
       "<polyline clip-path=\"url(#clip832)\" style=\"stroke:#f8f8f2; stroke-linecap:round; stroke-linejoin:round; stroke-width:4; stroke-opacity:1; fill:none\" points=\"768.422,1387.75 768.422,1486.45 809.145,1486.45 809.145,1387.75 768.422,1387.75 \"/>\n",
       "<path clip-path=\"url(#clip832)\" d=\"M809.145 1334.34 L809.145 1486.45 L849.869 1486.45 L849.869 1334.34 L809.145 1334.34 L809.145 1334.34  Z\" fill=\"#8be9fd\" fill-rule=\"evenodd\" fill-opacity=\"1\"/>\n",
       "<polyline clip-path=\"url(#clip832)\" style=\"stroke:#f8f8f2; stroke-linecap:round; stroke-linejoin:round; stroke-width:4; stroke-opacity:1; fill:none\" points=\"809.145,1334.34 809.145,1486.45 849.869,1486.45 849.869,1334.34 809.145,1334.34 \"/>\n",
       "<path clip-path=\"url(#clip832)\" d=\"M849.869 1258.19 L849.869 1486.45 L890.592 1486.45 L890.592 1258.19 L849.869 1258.19 L849.869 1258.19  Z\" fill=\"#8be9fd\" fill-rule=\"evenodd\" fill-opacity=\"1\"/>\n",
       "<polyline clip-path=\"url(#clip832)\" style=\"stroke:#f8f8f2; stroke-linecap:round; stroke-linejoin:round; stroke-width:4; stroke-opacity:1; fill:none\" points=\"849.869,1258.19 849.869,1486.45 890.592,1486.45 890.592,1258.19 849.869,1258.19 \"/>\n",
       "<path clip-path=\"url(#clip832)\" d=\"M890.592 1135.13 L890.592 1486.45 L931.316 1486.45 L931.316 1135.13 L890.592 1135.13 L890.592 1135.13  Z\" fill=\"#8be9fd\" fill-rule=\"evenodd\" fill-opacity=\"1\"/>\n",
       "<polyline clip-path=\"url(#clip832)\" style=\"stroke:#f8f8f2; stroke-linecap:round; stroke-linejoin:round; stroke-width:4; stroke-opacity:1; fill:none\" points=\"890.592,1135.13 890.592,1486.45 931.316,1486.45 931.316,1135.13 890.592,1135.13 \"/>\n",
       "<path clip-path=\"url(#clip832)\" d=\"M931.316 1009.18 L931.316 1486.45 L972.04 1486.45 L972.04 1009.18 L931.316 1009.18 L931.316 1009.18  Z\" fill=\"#8be9fd\" fill-rule=\"evenodd\" fill-opacity=\"1\"/>\n",
       "<polyline clip-path=\"url(#clip832)\" style=\"stroke:#f8f8f2; stroke-linecap:round; stroke-linejoin:round; stroke-width:4; stroke-opacity:1; fill:none\" points=\"931.316,1009.18 931.316,1486.45 972.04,1486.45 972.04,1009.18 931.316,1009.18 \"/>\n",
       "<path clip-path=\"url(#clip832)\" d=\"M972.04 860.495 L972.04 1486.45 L1012.76 1486.45 L1012.76 860.495 L972.04 860.495 L972.04 860.495  Z\" fill=\"#8be9fd\" fill-rule=\"evenodd\" fill-opacity=\"1\"/>\n",
       "<polyline clip-path=\"url(#clip832)\" style=\"stroke:#f8f8f2; stroke-linecap:round; stroke-linejoin:round; stroke-width:4; stroke-opacity:1; fill:none\" points=\"972.04,860.495 972.04,1486.45 1012.76,1486.45 1012.76,860.495 972.04,860.495 \"/>\n",
       "<path clip-path=\"url(#clip832)\" d=\"M1012.76 690.339 L1012.76 1486.45 L1053.49 1486.45 L1053.49 690.339 L1012.76 690.339 L1012.76 690.339  Z\" fill=\"#8be9fd\" fill-rule=\"evenodd\" fill-opacity=\"1\"/>\n",
       "<polyline clip-path=\"url(#clip832)\" style=\"stroke:#f8f8f2; stroke-linecap:round; stroke-linejoin:round; stroke-width:4; stroke-opacity:1; fill:none\" points=\"1012.76,690.339 1012.76,1486.45 1053.49,1486.45 1053.49,690.339 1012.76,690.339 \"/>\n",
       "<path clip-path=\"url(#clip832)\" d=\"M1053.49 540.031 L1053.49 1486.45 L1094.21 1486.45 L1094.21 540.031 L1053.49 540.031 L1053.49 540.031  Z\" fill=\"#8be9fd\" fill-rule=\"evenodd\" fill-opacity=\"1\"/>\n",
       "<polyline clip-path=\"url(#clip832)\" style=\"stroke:#f8f8f2; stroke-linecap:round; stroke-linejoin:round; stroke-width:4; stroke-opacity:1; fill:none\" points=\"1053.49,540.031 1053.49,1486.45 1094.21,1486.45 1094.21,540.031 1053.49,540.031 \"/>\n",
       "<path clip-path=\"url(#clip832)\" d=\"M1094.21 371.498 L1094.21 1486.45 L1134.93 1486.45 L1134.93 371.498 L1094.21 371.498 L1094.21 371.498  Z\" fill=\"#8be9fd\" fill-rule=\"evenodd\" fill-opacity=\"1\"/>\n",
       "<polyline clip-path=\"url(#clip832)\" style=\"stroke:#f8f8f2; stroke-linecap:round; stroke-linejoin:round; stroke-width:4; stroke-opacity:1; fill:none\" points=\"1094.21,371.498 1094.21,1486.45 1134.93,1486.45 1134.93,371.498 1094.21,371.498 \"/>\n",
       "<path clip-path=\"url(#clip832)\" d=\"M1134.93 193.222 L1134.93 1486.45 L1175.66 1486.45 L1175.66 193.222 L1134.93 193.222 L1134.93 193.222  Z\" fill=\"#8be9fd\" fill-rule=\"evenodd\" fill-opacity=\"1\"/>\n",
       "<polyline clip-path=\"url(#clip832)\" style=\"stroke:#f8f8f2; stroke-linecap:round; stroke-linejoin:round; stroke-width:4; stroke-opacity:1; fill:none\" points=\"1134.93,193.222 1134.93,1486.45 1175.66,1486.45 1175.66,193.222 1134.93,193.222 \"/>\n",
       "<path clip-path=\"url(#clip832)\" d=\"M1175.66 115.451 L1175.66 1486.45 L1216.38 1486.45 L1216.38 115.451 L1175.66 115.451 L1175.66 115.451  Z\" fill=\"#8be9fd\" fill-rule=\"evenodd\" fill-opacity=\"1\"/>\n",
       "<polyline clip-path=\"url(#clip832)\" style=\"stroke:#f8f8f2; stroke-linecap:round; stroke-linejoin:round; stroke-width:4; stroke-opacity:1; fill:none\" points=\"1175.66,115.451 1175.66,1486.45 1216.38,1486.45 1216.38,115.451 1175.66,115.451 \"/>\n",
       "<path clip-path=\"url(#clip832)\" d=\"M1216.38 47.2441 L1216.38 1486.45 L1257.1 1486.45 L1257.1 47.2441 L1216.38 47.2441 L1216.38 47.2441  Z\" fill=\"#8be9fd\" fill-rule=\"evenodd\" fill-opacity=\"1\"/>\n",
       "<polyline clip-path=\"url(#clip832)\" style=\"stroke:#f8f8f2; stroke-linecap:round; stroke-linejoin:round; stroke-width:4; stroke-opacity:1; fill:none\" points=\"1216.38,47.2441 1216.38,1486.45 1257.1,1486.45 1257.1,47.2441 1216.38,47.2441 \"/>\n",
       "<path clip-path=\"url(#clip832)\" d=\"M1257.1 56.4466 L1257.1 1486.45 L1297.83 1486.45 L1297.83 56.4466 L1257.1 56.4466 L1257.1 56.4466  Z\" fill=\"#8be9fd\" fill-rule=\"evenodd\" fill-opacity=\"1\"/>\n",
       "<polyline clip-path=\"url(#clip832)\" style=\"stroke:#f8f8f2; stroke-linecap:round; stroke-linejoin:round; stroke-width:4; stroke-opacity:1; fill:none\" points=\"1257.1,56.4466 1257.1,1486.45 1297.83,1486.45 1297.83,56.4466 1257.1,56.4466 \"/>\n",
       "<path clip-path=\"url(#clip832)\" d=\"M1297.83 127.541 L1297.83 1486.45 L1338.55 1486.45 L1338.55 127.541 L1297.83 127.541 L1297.83 127.541  Z\" fill=\"#8be9fd\" fill-rule=\"evenodd\" fill-opacity=\"1\"/>\n",
       "<polyline clip-path=\"url(#clip832)\" style=\"stroke:#f8f8f2; stroke-linecap:round; stroke-linejoin:round; stroke-width:4; stroke-opacity:1; fill:none\" points=\"1297.83,127.541 1297.83,1486.45 1338.55,1486.45 1338.55,127.541 1297.83,127.541 \"/>\n",
       "<path clip-path=\"url(#clip832)\" d=\"M1338.55 212.168 L1338.55 1486.45 L1379.28 1486.45 L1379.28 212.168 L1338.55 212.168 L1338.55 212.168  Z\" fill=\"#8be9fd\" fill-rule=\"evenodd\" fill-opacity=\"1\"/>\n",
       "<polyline clip-path=\"url(#clip832)\" style=\"stroke:#f8f8f2; stroke-linecap:round; stroke-linejoin:round; stroke-width:4; stroke-opacity:1; fill:none\" points=\"1338.55,212.168 1338.55,1486.45 1379.28,1486.45 1379.28,212.168 1338.55,212.168 \"/>\n",
       "<path clip-path=\"url(#clip832)\" d=\"M1379.28 366.626 L1379.28 1486.45 L1420 1486.45 L1420 366.626 L1379.28 366.626 L1379.28 366.626  Z\" fill=\"#8be9fd\" fill-rule=\"evenodd\" fill-opacity=\"1\"/>\n",
       "<polyline clip-path=\"url(#clip832)\" style=\"stroke:#f8f8f2; stroke-linecap:round; stroke-linejoin:round; stroke-width:4; stroke-opacity:1; fill:none\" points=\"1379.28,366.626 1379.28,1486.45 1420,1486.45 1420,366.626 1379.28,366.626 \"/>\n",
       "<path clip-path=\"url(#clip832)\" d=\"M1420 537.144 L1420 1486.45 L1460.72 1486.45 L1460.72 537.144 L1420 537.144 L1420 537.144  Z\" fill=\"#8be9fd\" fill-rule=\"evenodd\" fill-opacity=\"1\"/>\n",
       "<polyline clip-path=\"url(#clip832)\" style=\"stroke:#f8f8f2; stroke-linecap:round; stroke-linejoin:round; stroke-width:4; stroke-opacity:1; fill:none\" points=\"1420,537.144 1420,1486.45 1460.72,1486.45 1460.72,537.144 1420,537.144 \"/>\n",
       "<path clip-path=\"url(#clip832)\" d=\"M1460.72 702.789 L1460.72 1486.45 L1501.45 1486.45 L1501.45 702.789 L1460.72 702.789 L1460.72 702.789  Z\" fill=\"#8be9fd\" fill-rule=\"evenodd\" fill-opacity=\"1\"/>\n",
       "<polyline clip-path=\"url(#clip832)\" style=\"stroke:#f8f8f2; stroke-linecap:round; stroke-linejoin:round; stroke-width:4; stroke-opacity:1; fill:none\" points=\"1460.72,702.789 1460.72,1486.45 1501.45,1486.45 1501.45,702.789 1460.72,702.789 \"/>\n",
       "<path clip-path=\"url(#clip832)\" d=\"M1501.45 848.225 L1501.45 1486.45 L1542.17 1486.45 L1542.17 848.225 L1501.45 848.225 L1501.45 848.225  Z\" fill=\"#8be9fd\" fill-rule=\"evenodd\" fill-opacity=\"1\"/>\n",
       "<polyline clip-path=\"url(#clip832)\" style=\"stroke:#f8f8f2; stroke-linecap:round; stroke-linejoin:round; stroke-width:4; stroke-opacity:1; fill:none\" points=\"1501.45,848.225 1501.45,1486.45 1542.17,1486.45 1542.17,848.225 1501.45,848.225 \"/>\n",
       "<path clip-path=\"url(#clip832)\" d=\"M1542.17 1016.22 L1542.17 1486.45 L1582.89 1486.45 L1582.89 1016.22 L1542.17 1016.22 L1542.17 1016.22  Z\" fill=\"#8be9fd\" fill-rule=\"evenodd\" fill-opacity=\"1\"/>\n",
       "<polyline clip-path=\"url(#clip832)\" style=\"stroke:#f8f8f2; stroke-linecap:round; stroke-linejoin:round; stroke-width:4; stroke-opacity:1; fill:none\" points=\"1542.17,1016.22 1542.17,1486.45 1582.89,1486.45 1582.89,1016.22 1542.17,1016.22 \"/>\n",
       "<path clip-path=\"url(#clip832)\" d=\"M1582.89 1146.5 L1582.89 1486.45 L1623.62 1486.45 L1623.62 1146.5 L1582.89 1146.5 L1582.89 1146.5  Z\" fill=\"#8be9fd\" fill-rule=\"evenodd\" fill-opacity=\"1\"/>\n",
       "<polyline clip-path=\"url(#clip832)\" style=\"stroke:#f8f8f2; stroke-linecap:round; stroke-linejoin:round; stroke-width:4; stroke-opacity:1; fill:none\" points=\"1582.89,1146.5 1582.89,1486.45 1623.62,1486.45 1623.62,1146.5 1582.89,1146.5 \"/>\n",
       "<path clip-path=\"url(#clip832)\" d=\"M1623.62 1254.94 L1623.62 1486.45 L1664.34 1486.45 L1664.34 1254.94 L1623.62 1254.94 L1623.62 1254.94  Z\" fill=\"#8be9fd\" fill-rule=\"evenodd\" fill-opacity=\"1\"/>\n",
       "<polyline clip-path=\"url(#clip832)\" style=\"stroke:#f8f8f2; stroke-linecap:round; stroke-linejoin:round; stroke-width:4; stroke-opacity:1; fill:none\" points=\"1623.62,1254.94 1623.62,1486.45 1664.34,1486.45 1664.34,1254.94 1623.62,1254.94 \"/>\n",
       "<path clip-path=\"url(#clip832)\" d=\"M1664.34 1324.95 L1664.34 1486.45 L1705.06 1486.45 L1705.06 1324.95 L1664.34 1324.95 L1664.34 1324.95  Z\" fill=\"#8be9fd\" fill-rule=\"evenodd\" fill-opacity=\"1\"/>\n",
       "<polyline clip-path=\"url(#clip832)\" style=\"stroke:#f8f8f2; stroke-linecap:round; stroke-linejoin:round; stroke-width:4; stroke-opacity:1; fill:none\" points=\"1664.34,1324.95 1664.34,1486.45 1705.06,1486.45 1705.06,1324.95 1664.34,1324.95 \"/>\n",
       "<path clip-path=\"url(#clip832)\" d=\"M1705.06 1388.29 L1705.06 1486.45 L1745.79 1486.45 L1745.79 1388.29 L1705.06 1388.29 L1705.06 1388.29  Z\" fill=\"#8be9fd\" fill-rule=\"evenodd\" fill-opacity=\"1\"/>\n",
       "<polyline clip-path=\"url(#clip832)\" style=\"stroke:#f8f8f2; stroke-linecap:round; stroke-linejoin:round; stroke-width:4; stroke-opacity:1; fill:none\" points=\"1705.06,1388.29 1705.06,1486.45 1745.79,1486.45 1745.79,1388.29 1705.06,1388.29 \"/>\n",
       "<path clip-path=\"url(#clip832)\" d=\"M1745.79 1425.1 L1745.79 1486.45 L1786.51 1486.45 L1786.51 1425.1 L1745.79 1425.1 L1745.79 1425.1  Z\" fill=\"#8be9fd\" fill-rule=\"evenodd\" fill-opacity=\"1\"/>\n",
       "<polyline clip-path=\"url(#clip832)\" style=\"stroke:#f8f8f2; stroke-linecap:round; stroke-linejoin:round; stroke-width:4; stroke-opacity:1; fill:none\" points=\"1745.79,1425.1 1745.79,1486.45 1786.51,1486.45 1786.51,1425.1 1745.79,1425.1 \"/>\n",
       "<path clip-path=\"url(#clip832)\" d=\"M1786.51 1445.67 L1786.51 1486.45 L1827.23 1486.45 L1827.23 1445.67 L1786.51 1445.67 L1786.51 1445.67  Z\" fill=\"#8be9fd\" fill-rule=\"evenodd\" fill-opacity=\"1\"/>\n",
       "<polyline clip-path=\"url(#clip832)\" style=\"stroke:#f8f8f2; stroke-linecap:round; stroke-linejoin:round; stroke-width:4; stroke-opacity:1; fill:none\" points=\"1786.51,1445.67 1786.51,1486.45 1827.23,1486.45 1827.23,1445.67 1786.51,1445.67 \"/>\n",
       "<path clip-path=\"url(#clip832)\" d=\"M1827.23 1459.02 L1827.23 1486.45 L1867.96 1486.45 L1867.96 1459.02 L1827.23 1459.02 L1827.23 1459.02  Z\" fill=\"#8be9fd\" fill-rule=\"evenodd\" fill-opacity=\"1\"/>\n",
       "<polyline clip-path=\"url(#clip832)\" style=\"stroke:#f8f8f2; stroke-linecap:round; stroke-linejoin:round; stroke-width:4; stroke-opacity:1; fill:none\" points=\"1827.23,1459.02 1827.23,1486.45 1867.96,1486.45 1867.96,1459.02 1827.23,1459.02 \"/>\n",
       "<path clip-path=\"url(#clip832)\" d=\"M1867.96 1477.43 L1867.96 1486.45 L1908.68 1486.45 L1908.68 1477.43 L1867.96 1477.43 L1867.96 1477.43  Z\" fill=\"#8be9fd\" fill-rule=\"evenodd\" fill-opacity=\"1\"/>\n",
       "<polyline clip-path=\"url(#clip832)\" style=\"stroke:#f8f8f2; stroke-linecap:round; stroke-linejoin:round; stroke-width:4; stroke-opacity:1; fill:none\" points=\"1867.96,1477.43 1867.96,1486.45 1908.68,1486.45 1908.68,1477.43 1867.96,1477.43 \"/>\n",
       "<path clip-path=\"url(#clip832)\" d=\"M1908.68 1479.05 L1908.68 1486.45 L1949.41 1486.45 L1949.41 1479.05 L1908.68 1479.05 L1908.68 1479.05  Z\" fill=\"#8be9fd\" fill-rule=\"evenodd\" fill-opacity=\"1\"/>\n",
       "<polyline clip-path=\"url(#clip832)\" style=\"stroke:#f8f8f2; stroke-linecap:round; stroke-linejoin:round; stroke-width:4; stroke-opacity:1; fill:none\" points=\"1908.68,1479.05 1908.68,1486.45 1949.41,1486.45 1949.41,1479.05 1908.68,1479.05 \"/>\n",
       "<path clip-path=\"url(#clip832)\" d=\"M1949.41 1483.92 L1949.41 1486.45 L1990.13 1486.45 L1990.13 1483.92 L1949.41 1483.92 L1949.41 1483.92  Z\" fill=\"#8be9fd\" fill-rule=\"evenodd\" fill-opacity=\"1\"/>\n",
       "<polyline clip-path=\"url(#clip832)\" style=\"stroke:#f8f8f2; stroke-linecap:round; stroke-linejoin:round; stroke-width:4; stroke-opacity:1; fill:none\" points=\"1949.41,1483.92 1949.41,1486.45 1990.13,1486.45 1990.13,1483.92 1949.41,1483.92 \"/>\n",
       "<path clip-path=\"url(#clip832)\" d=\"M1990.13 1484.82 L1990.13 1486.45 L2030.85 1486.45 L2030.85 1484.82 L1990.13 1484.82 L1990.13 1484.82  Z\" fill=\"#8be9fd\" fill-rule=\"evenodd\" fill-opacity=\"1\"/>\n",
       "<polyline clip-path=\"url(#clip832)\" style=\"stroke:#f8f8f2; stroke-linecap:round; stroke-linejoin:round; stroke-width:4; stroke-opacity:1; fill:none\" points=\"1990.13,1484.82 1990.13,1486.45 2030.85,1486.45 2030.85,1484.82 1990.13,1484.82 \"/>\n",
       "<path clip-path=\"url(#clip832)\" d=\"M2030.85 1485.55 L2030.85 1486.45 L2071.58 1486.45 L2071.58 1485.55 L2030.85 1485.55 L2030.85 1485.55  Z\" fill=\"#8be9fd\" fill-rule=\"evenodd\" fill-opacity=\"1\"/>\n",
       "<polyline clip-path=\"url(#clip832)\" style=\"stroke:#f8f8f2; stroke-linecap:round; stroke-linejoin:round; stroke-width:4; stroke-opacity:1; fill:none\" points=\"2030.85,1485.55 2030.85,1486.45 2071.58,1486.45 2071.58,1485.55 2030.85,1485.55 \"/>\n",
       "<path clip-path=\"url(#clip832)\" d=\"M2071.58 1485.91 L2071.58 1486.45 L2112.3 1486.45 L2112.3 1485.91 L2071.58 1485.91 L2071.58 1485.91  Z\" fill=\"#8be9fd\" fill-rule=\"evenodd\" fill-opacity=\"1\"/>\n",
       "<polyline clip-path=\"url(#clip832)\" style=\"stroke:#f8f8f2; stroke-linecap:round; stroke-linejoin:round; stroke-width:4; stroke-opacity:1; fill:none\" points=\"2071.58,1485.91 2071.58,1486.45 2112.3,1486.45 2112.3,1485.91 2071.58,1485.91 \"/>\n",
       "<path clip-path=\"url(#clip832)\" d=\"M2112.3 1486.09 L2112.3 1486.45 L2153.02 1486.45 L2153.02 1486.09 L2112.3 1486.09 L2112.3 1486.09  Z\" fill=\"#8be9fd\" fill-rule=\"evenodd\" fill-opacity=\"1\"/>\n",
       "<polyline clip-path=\"url(#clip832)\" style=\"stroke:#f8f8f2; stroke-linecap:round; stroke-linejoin:round; stroke-width:4; stroke-opacity:1; fill:none\" points=\"2112.3,1486.09 2112.3,1486.45 2153.02,1486.45 2153.02,1486.09 2112.3,1486.09 \"/>\n",
       "<path clip-path=\"url(#clip832)\" d=\"M2153.02 1486.45 L2153.02 1486.45 L2193.75 1486.45 L2193.75 1486.45 L2153.02 1486.45 L2153.02 1486.45  Z\" fill=\"#8be9fd\" fill-rule=\"evenodd\" fill-opacity=\"1\"/>\n",
       "<polyline clip-path=\"url(#clip832)\" style=\"stroke:#f8f8f2; stroke-linecap:round; stroke-linejoin:round; stroke-width:4; stroke-opacity:1; fill:none\" points=\"2153.02,1486.45 2153.02,1486.45 2193.75,1486.45 2153.02,1486.45 \"/>\n",
       "<path clip-path=\"url(#clip832)\" d=\"M2193.75 1486.27 L2193.75 1486.45 L2234.47 1486.45 L2234.47 1486.27 L2193.75 1486.27 L2193.75 1486.27  Z\" fill=\"#8be9fd\" fill-rule=\"evenodd\" fill-opacity=\"1\"/>\n",
       "<polyline clip-path=\"url(#clip832)\" style=\"stroke:#f8f8f2; stroke-linecap:round; stroke-linejoin:round; stroke-width:4; stroke-opacity:1; fill:none\" points=\"2193.75,1486.27 2193.75,1486.45 2234.47,1486.45 2234.47,1486.27 2193.75,1486.27 \"/>\n",
       "<circle clip-path=\"url(#clip832)\" style=\"fill:#8be9fd; stroke:none; fill-opacity:0\" cx=\"340.824\" cy=\"1486.27\" r=\"2\"/>\n",
       "<circle clip-path=\"url(#clip832)\" style=\"fill:#8be9fd; stroke:none; fill-opacity:0\" cx=\"381.548\" cy=\"1486.27\" r=\"2\"/>\n",
       "<circle clip-path=\"url(#clip832)\" style=\"fill:#8be9fd; stroke:none; fill-opacity:0\" cx=\"422.271\" cy=\"1486.45\" r=\"2\"/>\n",
       "<circle clip-path=\"url(#clip832)\" style=\"fill:#8be9fd; stroke:none; fill-opacity:0\" cx=\"462.995\" cy=\"1485.73\" r=\"2\"/>\n",
       "<circle clip-path=\"url(#clip832)\" style=\"fill:#8be9fd; stroke:none; fill-opacity:0\" cx=\"503.718\" cy=\"1485.55\" r=\"2\"/>\n",
       "<circle clip-path=\"url(#clip832)\" style=\"fill:#8be9fd; stroke:none; fill-opacity:0\" cx=\"544.442\" cy=\"1483.74\" r=\"2\"/>\n",
       "<circle clip-path=\"url(#clip832)\" style=\"fill:#8be9fd; stroke:none; fill-opacity:0\" cx=\"585.166\" cy=\"1479.41\" r=\"2\"/>\n",
       "<circle clip-path=\"url(#clip832)\" style=\"fill:#8be9fd; stroke:none; fill-opacity:0\" cx=\"625.889\" cy=\"1475.08\" r=\"2\"/>\n",
       "<circle clip-path=\"url(#clip832)\" style=\"fill:#8be9fd; stroke:none; fill-opacity:0\" cx=\"666.613\" cy=\"1464.98\" r=\"2\"/>\n",
       "<circle clip-path=\"url(#clip832)\" style=\"fill:#8be9fd; stroke:none; fill-opacity:0\" cx=\"707.336\" cy=\"1449.28\" r=\"2\"/>\n",
       "<circle clip-path=\"url(#clip832)\" style=\"fill:#8be9fd; stroke:none; fill-opacity:0\" cx=\"748.06\" cy=\"1426.18\" r=\"2\"/>\n",
       "<circle clip-path=\"url(#clip832)\" style=\"fill:#8be9fd; stroke:none; fill-opacity:0\" cx=\"788.783\" cy=\"1387.75\" r=\"2\"/>\n",
       "<circle clip-path=\"url(#clip832)\" style=\"fill:#8be9fd; stroke:none; fill-opacity:0\" cx=\"829.507\" cy=\"1334.34\" r=\"2\"/>\n",
       "<circle clip-path=\"url(#clip832)\" style=\"fill:#8be9fd; stroke:none; fill-opacity:0\" cx=\"870.231\" cy=\"1258.19\" r=\"2\"/>\n",
       "<circle clip-path=\"url(#clip832)\" style=\"fill:#8be9fd; stroke:none; fill-opacity:0\" cx=\"910.954\" cy=\"1135.13\" r=\"2\"/>\n",
       "<circle clip-path=\"url(#clip832)\" style=\"fill:#8be9fd; stroke:none; fill-opacity:0\" cx=\"951.678\" cy=\"1009.18\" r=\"2\"/>\n",
       "<circle clip-path=\"url(#clip832)\" style=\"fill:#8be9fd; stroke:none; fill-opacity:0\" cx=\"992.401\" cy=\"860.495\" r=\"2\"/>\n",
       "<circle clip-path=\"url(#clip832)\" style=\"fill:#8be9fd; stroke:none; fill-opacity:0\" cx=\"1033.12\" cy=\"690.339\" r=\"2\"/>\n",
       "<circle clip-path=\"url(#clip832)\" style=\"fill:#8be9fd; stroke:none; fill-opacity:0\" cx=\"1073.85\" cy=\"540.031\" r=\"2\"/>\n",
       "<circle clip-path=\"url(#clip832)\" style=\"fill:#8be9fd; stroke:none; fill-opacity:0\" cx=\"1114.57\" cy=\"371.498\" r=\"2\"/>\n",
       "<circle clip-path=\"url(#clip832)\" style=\"fill:#8be9fd; stroke:none; fill-opacity:0\" cx=\"1155.3\" cy=\"193.222\" r=\"2\"/>\n",
       "<circle clip-path=\"url(#clip832)\" style=\"fill:#8be9fd; stroke:none; fill-opacity:0\" cx=\"1196.02\" cy=\"115.451\" r=\"2\"/>\n",
       "<circle clip-path=\"url(#clip832)\" style=\"fill:#8be9fd; stroke:none; fill-opacity:0\" cx=\"1236.74\" cy=\"47.2441\" r=\"2\"/>\n",
       "<circle clip-path=\"url(#clip832)\" style=\"fill:#8be9fd; stroke:none; fill-opacity:0\" cx=\"1277.47\" cy=\"56.4466\" r=\"2\"/>\n",
       "<circle clip-path=\"url(#clip832)\" style=\"fill:#8be9fd; stroke:none; fill-opacity:0\" cx=\"1318.19\" cy=\"127.541\" r=\"2\"/>\n",
       "<circle clip-path=\"url(#clip832)\" style=\"fill:#8be9fd; stroke:none; fill-opacity:0\" cx=\"1358.91\" cy=\"212.168\" r=\"2\"/>\n",
       "<circle clip-path=\"url(#clip832)\" style=\"fill:#8be9fd; stroke:none; fill-opacity:0\" cx=\"1399.64\" cy=\"366.626\" r=\"2\"/>\n",
       "<circle clip-path=\"url(#clip832)\" style=\"fill:#8be9fd; stroke:none; fill-opacity:0\" cx=\"1440.36\" cy=\"537.144\" r=\"2\"/>\n",
       "<circle clip-path=\"url(#clip832)\" style=\"fill:#8be9fd; stroke:none; fill-opacity:0\" cx=\"1481.08\" cy=\"702.789\" r=\"2\"/>\n",
       "<circle clip-path=\"url(#clip832)\" style=\"fill:#8be9fd; stroke:none; fill-opacity:0\" cx=\"1521.81\" cy=\"848.225\" r=\"2\"/>\n",
       "<circle clip-path=\"url(#clip832)\" style=\"fill:#8be9fd; stroke:none; fill-opacity:0\" cx=\"1562.53\" cy=\"1016.22\" r=\"2\"/>\n",
       "<circle clip-path=\"url(#clip832)\" style=\"fill:#8be9fd; stroke:none; fill-opacity:0\" cx=\"1603.25\" cy=\"1146.5\" r=\"2\"/>\n",
       "<circle clip-path=\"url(#clip832)\" style=\"fill:#8be9fd; stroke:none; fill-opacity:0\" cx=\"1643.98\" cy=\"1254.94\" r=\"2\"/>\n",
       "<circle clip-path=\"url(#clip832)\" style=\"fill:#8be9fd; stroke:none; fill-opacity:0\" cx=\"1684.7\" cy=\"1324.95\" r=\"2\"/>\n",
       "<circle clip-path=\"url(#clip832)\" style=\"fill:#8be9fd; stroke:none; fill-opacity:0\" cx=\"1725.43\" cy=\"1388.29\" r=\"2\"/>\n",
       "<circle clip-path=\"url(#clip832)\" style=\"fill:#8be9fd; stroke:none; fill-opacity:0\" cx=\"1766.15\" cy=\"1425.1\" r=\"2\"/>\n",
       "<circle clip-path=\"url(#clip832)\" style=\"fill:#8be9fd; stroke:none; fill-opacity:0\" cx=\"1806.87\" cy=\"1445.67\" r=\"2\"/>\n",
       "<circle clip-path=\"url(#clip832)\" style=\"fill:#8be9fd; stroke:none; fill-opacity:0\" cx=\"1847.6\" cy=\"1459.02\" r=\"2\"/>\n",
       "<circle clip-path=\"url(#clip832)\" style=\"fill:#8be9fd; stroke:none; fill-opacity:0\" cx=\"1888.32\" cy=\"1477.43\" r=\"2\"/>\n",
       "<circle clip-path=\"url(#clip832)\" style=\"fill:#8be9fd; stroke:none; fill-opacity:0\" cx=\"1929.04\" cy=\"1479.05\" r=\"2\"/>\n",
       "<circle clip-path=\"url(#clip832)\" style=\"fill:#8be9fd; stroke:none; fill-opacity:0\" cx=\"1969.77\" cy=\"1483.92\" r=\"2\"/>\n",
       "<circle clip-path=\"url(#clip832)\" style=\"fill:#8be9fd; stroke:none; fill-opacity:0\" cx=\"2010.49\" cy=\"1484.82\" r=\"2\"/>\n",
       "<circle clip-path=\"url(#clip832)\" style=\"fill:#8be9fd; stroke:none; fill-opacity:0\" cx=\"2051.21\" cy=\"1485.55\" r=\"2\"/>\n",
       "<circle clip-path=\"url(#clip832)\" style=\"fill:#8be9fd; stroke:none; fill-opacity:0\" cx=\"2091.94\" cy=\"1485.91\" r=\"2\"/>\n",
       "<circle clip-path=\"url(#clip832)\" style=\"fill:#8be9fd; stroke:none; fill-opacity:0\" cx=\"2132.66\" cy=\"1486.09\" r=\"2\"/>\n",
       "<circle clip-path=\"url(#clip832)\" style=\"fill:#8be9fd; stroke:none; fill-opacity:0\" cx=\"2173.38\" cy=\"1486.45\" r=\"2\"/>\n",
       "<circle clip-path=\"url(#clip832)\" style=\"fill:#8be9fd; stroke:none; fill-opacity:0\" cx=\"2214.11\" cy=\"1486.27\" r=\"2\"/>\n",
       "</svg>\n"
      ]
     },
     "execution_count": 90,
     "metadata": {},
     "output_type": "execute_result"
    }
   ],
   "source": [
    "x = randn(10^5)\n",
    "histogram(x, bins=64, legend=false)"
   ]
  },
  {
   "cell_type": "code",
   "execution_count": 91,
   "metadata": {},
   "outputs": [
    {
     "data": {
      "text/latex": [
       "\\textbf{Histogram in 2D}\n",
       "\n"
      ],
      "text/markdown": [
       "**Histogram in 2D**\n"
      ],
      "text/plain": [
       "  \u001b[1mHistogram in 2D\u001b[22m"
      ]
     },
     "execution_count": 91,
     "metadata": {},
     "output_type": "execute_result"
    }
   ],
   "source": [
    "md\"**Histogram in 2D**\""
   ]
  },
  {
   "cell_type": "code",
   "execution_count": 92,
   "metadata": {},
   "outputs": [
    {
     "data": {
      "image/png": "[encoded data removed]",
      "image/svg+xml": [
       "<?xml version=\"1.0\" encoding=\"utf-8\"?>\n",
       "<svg xmlns=\"http://www.w3.org/2000/svg\" xmlns:xlink=\"http://www.w3.org/1999/xlink\" width=\"600\" height=\"400\" viewBox=\"0 0 2400 1600\">\n",
       "<defs>\n",
       "  <clipPath id=\"clip870\">\n",
       "    <rect x=\"0\" y=\"0\" width=\"2400\" height=\"1600\"/>\n",
       "  </clipPath>\n",
       "</defs>\n",
       "<path clip-path=\"url(#clip870)\" d=\"M0 1600 L2400 1600 L2400 0 L0 0  Z\" fill=\"#282a36\" fill-rule=\"evenodd\" fill-opacity=\"1\"/>\n",
       "<defs>\n",
       "  <clipPath id=\"clip871\">\n",
       "    <rect x=\"480\" y=\"0\" width=\"1681\" height=\"1600\"/>\n",
       "  </clipPath>\n",
       "</defs>\n",
       "<path clip-path=\"url(#clip870)\" d=\"M149.191 1486.45 L2112.76 1486.45 L2112.76 47.2441 L149.191 47.2441  Z\" fill=\"#30343b\" fill-rule=\"evenodd\" fill-opacity=\"1\"/>\n",
       "<defs>\n",
       "  <clipPath id=\"clip872\">\n",
       "    <rect x=\"149\" y=\"47\" width=\"1965\" height=\"1440\"/>\n",
       "  </clipPath>\n",
       "</defs>\n",
       "<polyline clip-path=\"url(#clip872)\" style=\"stroke:#f8f8f2; stroke-linecap:round; stroke-linejoin:round; stroke-width:2; stroke-opacity:0.1; fill:none\" points=\"236.46,1486.45 236.46,47.2441 \"/>\n",
       "<polyline clip-path=\"url(#clip872)\" style=\"stroke:#f8f8f2; stroke-linecap:round; stroke-linejoin:round; stroke-width:2; stroke-opacity:0.1; fill:none\" points=\"672.808,1486.45 672.808,47.2441 \"/>\n",
       "<polyline clip-path=\"url(#clip872)\" style=\"stroke:#f8f8f2; stroke-linecap:round; stroke-linejoin:round; stroke-width:2; stroke-opacity:0.1; fill:none\" points=\"1109.16,1486.45 1109.16,47.2441 \"/>\n",
       "<polyline clip-path=\"url(#clip872)\" style=\"stroke:#f8f8f2; stroke-linecap:round; stroke-linejoin:round; stroke-width:2; stroke-opacity:0.1; fill:none\" points=\"1545.5,1486.45 1545.5,47.2441 \"/>\n",
       "<polyline clip-path=\"url(#clip872)\" style=\"stroke:#f8f8f2; stroke-linecap:round; stroke-linejoin:round; stroke-width:2; stroke-opacity:0.1; fill:none\" points=\"1981.85,1486.45 1981.85,47.2441 \"/>\n",
       "<polyline clip-path=\"url(#clip870)\" style=\"stroke:#f8f8f2; stroke-linecap:round; stroke-linejoin:round; stroke-width:4; stroke-opacity:1; fill:none\" points=\"149.191,1486.45 2112.76,1486.45 \"/>\n",
       "<polyline clip-path=\"url(#clip870)\" style=\"stroke:#f8f8f2; stroke-linecap:round; stroke-linejoin:round; stroke-width:4; stroke-opacity:1; fill:none\" points=\"236.46,1486.45 236.46,1467.55 \"/>\n",
       "<polyline clip-path=\"url(#clip870)\" style=\"stroke:#f8f8f2; stroke-linecap:round; stroke-linejoin:round; stroke-width:4; stroke-opacity:1; fill:none\" points=\"672.808,1486.45 672.808,1467.55 \"/>\n",
       "<polyline clip-path=\"url(#clip870)\" style=\"stroke:#f8f8f2; stroke-linecap:round; stroke-linejoin:round; stroke-width:4; stroke-opacity:1; fill:none\" points=\"1109.16,1486.45 1109.16,1467.55 \"/>\n",
       "<polyline clip-path=\"url(#clip870)\" style=\"stroke:#f8f8f2; stroke-linecap:round; stroke-linejoin:round; stroke-width:4; stroke-opacity:1; fill:none\" points=\"1545.5,1486.45 1545.5,1467.55 \"/>\n",
       "<polyline clip-path=\"url(#clip870)\" style=\"stroke:#f8f8f2; stroke-linecap:round; stroke-linejoin:round; stroke-width:4; stroke-opacity:1; fill:none\" points=\"1981.85,1486.45 1981.85,1467.55 \"/>\n",
       "<path clip-path=\"url(#clip870)\" d=\"M205.361 1532.02 L235.037 1532.02 L235.037 1535.95 L205.361 1535.95 L205.361 1532.02 Z\" fill=\"#f8f8f2\" fill-rule=\"nonzero\" fill-opacity=\"1\" /><path clip-path=\"url(#clip870)\" d=\"M257.977 1518.36 L246.171 1536.81 L257.977 1536.81 L257.977 1518.36 M256.75 1514.29 L262.629 1514.29 L262.629 1536.81 L267.56 1536.81 L267.56 1540.7 L262.629 1540.7 L262.629 1548.85 L257.977 1548.85 L257.977 1540.7 L242.375 1540.7 L242.375 1536.19 L256.75 1514.29 Z\" fill=\"#f8f8f2\" fill-rule=\"nonzero\" fill-opacity=\"1\" /><path clip-path=\"url(#clip870)\" d=\"M642.751 1532.02 L672.426 1532.02 L672.426 1535.95 L642.751 1535.95 L642.751 1532.02 Z\" fill=\"#f8f8f2\" fill-rule=\"nonzero\" fill-opacity=\"1\" /><path clip-path=\"url(#clip870)\" d=\"M686.547 1544.91 L702.866 1544.91 L702.866 1548.85 L680.922 1548.85 L680.922 1544.91 Q683.584 1542.16 688.167 1537.53 Q692.773 1532.88 693.954 1531.53 Q696.199 1529.01 697.079 1527.27 Q697.982 1525.51 697.982 1523.82 Q697.982 1521.07 696.037 1519.33 Q694.116 1517.6 691.014 1517.6 Q688.815 1517.6 686.361 1518.36 Q683.931 1519.13 681.153 1520.68 L681.153 1515.95 Q683.977 1514.82 686.431 1514.24 Q688.885 1513.66 690.922 1513.66 Q696.292 1513.66 699.486 1516.35 Q702.681 1519.03 702.681 1523.52 Q702.681 1525.65 701.871 1527.57 Q701.084 1529.47 698.977 1532.07 Q698.398 1532.74 695.297 1535.95 Q692.195 1539.15 686.547 1544.91 Z\" fill=\"#f8f8f2\" fill-rule=\"nonzero\" fill-opacity=\"1\" /><path clip-path=\"url(#clip870)\" d=\"M1109.16 1517.37 Q1105.54 1517.37 1103.72 1520.93 Q1101.91 1524.47 1101.91 1531.6 Q1101.91 1538.71 1103.72 1542.27 Q1105.54 1545.82 1109.16 1545.82 Q1112.79 1545.82 1114.6 1542.27 Q1116.42 1538.71 1116.42 1531.6 Q1116.42 1524.47 1114.6 1520.93 Q1112.79 1517.37 1109.16 1517.37 M1109.16 1513.66 Q1114.97 1513.66 1118.02 1518.27 Q1121.1 1522.85 1121.1 1531.6 Q1121.1 1540.33 1118.02 1544.94 Q1114.97 1549.52 1109.16 1549.52 Q1103.35 1549.52 1100.27 1544.94 Q1097.21 1540.33 1097.21 1531.6 Q1097.21 1522.85 1100.27 1518.27 Q1103.35 1513.66 1109.16 1513.66 Z\" fill=\"#f8f8f2\" fill-rule=\"nonzero\" fill-opacity=\"1\" /><path clip-path=\"url(#clip870)\" d=\"M1540.16 1544.91 L1556.48 1544.91 L1556.48 1548.85 L1534.53 1548.85 L1534.53 1544.91 Q1537.19 1542.16 1541.78 1537.53 Q1546.38 1532.88 1547.56 1531.53 Q1549.81 1529.01 1550.69 1527.27 Q1551.59 1525.51 1551.59 1523.82 Q1551.59 1521.07 1549.65 1519.33 Q1547.73 1517.6 1544.62 1517.6 Q1542.43 1517.6 1539.97 1518.36 Q1537.54 1519.13 1534.76 1520.68 L1534.76 1515.95 Q1537.59 1514.82 1540.04 1514.24 Q1542.49 1513.66 1544.53 1513.66 Q1549.9 1513.66 1553.1 1516.35 Q1556.29 1519.03 1556.29 1523.52 Q1556.29 1525.65 1555.48 1527.57 Q1554.69 1529.47 1552.59 1532.07 Q1552.01 1532.74 1548.91 1535.95 Q1545.8 1539.15 1540.16 1544.91 Z\" fill=\"#f8f8f2\" fill-rule=\"nonzero\" fill-opacity=\"1\" /><path clip-path=\"url(#clip870)\" d=\"M1984.86 1518.36 L1973.06 1536.81 L1984.86 1536.81 L1984.86 1518.36 M1983.63 1514.29 L1989.51 1514.29 L1989.51 1536.81 L1994.44 1536.81 L1994.44 1540.7 L1989.51 1540.7 L1989.51 1548.85 L1984.86 1548.85 L1984.86 1540.7 L1969.26 1540.7 L1969.26 1536.19 L1983.63 1514.29 Z\" fill=\"#f8f8f2\" fill-rule=\"nonzero\" fill-opacity=\"1\" /><polyline clip-path=\"url(#clip872)\" style=\"stroke:#f8f8f2; stroke-linecap:round; stroke-linejoin:round; stroke-width:2; stroke-opacity:0.1; fill:none\" points=\"149.191,1422.48 2112.76,1422.48 \"/>\n",
       "<polyline clip-path=\"url(#clip872)\" style=\"stroke:#f8f8f2; stroke-linecap:round; stroke-linejoin:round; stroke-width:2; stroke-opacity:0.1; fill:none\" points=\"149.191,1102.66 2112.76,1102.66 \"/>\n",
       "<polyline clip-path=\"url(#clip872)\" style=\"stroke:#f8f8f2; stroke-linecap:round; stroke-linejoin:round; stroke-width:2; stroke-opacity:0.1; fill:none\" points=\"149.191,782.837 2112.76,782.837 \"/>\n",
       "<polyline clip-path=\"url(#clip872)\" style=\"stroke:#f8f8f2; stroke-linecap:round; stroke-linejoin:round; stroke-width:2; stroke-opacity:0.1; fill:none\" points=\"149.191,463.014 2112.76,463.014 \"/>\n",
       "<polyline clip-path=\"url(#clip872)\" style=\"stroke:#f8f8f2; stroke-linecap:round; stroke-linejoin:round; stroke-width:2; stroke-opacity:0.1; fill:none\" points=\"149.191,143.191 2112.76,143.191 \"/>\n",
       "<polyline clip-path=\"url(#clip870)\" style=\"stroke:#f8f8f2; stroke-linecap:round; stroke-linejoin:round; stroke-width:4; stroke-opacity:1; fill:none\" points=\"149.191,1486.45 149.191,47.2441 \"/>\n",
       "<polyline clip-path=\"url(#clip870)\" style=\"stroke:#f8f8f2; stroke-linecap:round; stroke-linejoin:round; stroke-width:4; stroke-opacity:1; fill:none\" points=\"149.191,1422.48 166.03,1422.48 \"/>\n",
       "<polyline clip-path=\"url(#clip870)\" style=\"stroke:#f8f8f2; stroke-linecap:round; stroke-linejoin:round; stroke-width:4; stroke-opacity:1; fill:none\" points=\"149.191,1102.66 166.03,1102.66 \"/>\n",
       "<polyline clip-path=\"url(#clip870)\" style=\"stroke:#f8f8f2; stroke-linecap:round; stroke-linejoin:round; stroke-width:4; stroke-opacity:1; fill:none\" points=\"149.191,782.837 166.03,782.837 \"/>\n",
       "<polyline clip-path=\"url(#clip870)\" style=\"stroke:#f8f8f2; stroke-linecap:round; stroke-linejoin:round; stroke-width:4; stroke-opacity:1; fill:none\" points=\"149.191,463.014 166.03,463.014 \"/>\n",
       "<polyline clip-path=\"url(#clip870)\" style=\"stroke:#f8f8f2; stroke-linecap:round; stroke-linejoin:round; stroke-width:4; stroke-opacity:1; fill:none\" points=\"149.191,143.191 166.03,143.191 \"/>\n",
       "<path clip-path=\"url(#clip870)\" d=\"M50.9921 1422.93 L80.6679 1422.93 L80.6679 1426.87 L50.9921 1426.87 L50.9921 1422.93 Z\" fill=\"#f8f8f2\" fill-rule=\"nonzero\" fill-opacity=\"1\" /><path clip-path=\"url(#clip870)\" d=\"M103.608 1409.28 L91.8021 1427.73 L103.608 1427.73 L103.608 1409.28 M102.381 1405.2 L108.26 1405.2 L108.26 1427.73 L113.191 1427.73 L113.191 1431.62 L108.26 1431.62 L108.26 1439.76 L103.608 1439.76 L103.608 1431.62 L88.0058 1431.62 L88.0058 1427.1 L102.381 1405.2 Z\" fill=\"#f8f8f2\" fill-rule=\"nonzero\" fill-opacity=\"1\" /><path clip-path=\"url(#clip870)\" d=\"M53.0754 1103.11 L82.7512 1103.11 L82.7512 1107.05 L53.0754 1107.05 L53.0754 1103.11 Z\" fill=\"#f8f8f2\" fill-rule=\"nonzero\" fill-opacity=\"1\" /><path clip-path=\"url(#clip870)\" d=\"M96.8715 1116.01 L113.191 1116.01 L113.191 1119.94 L91.2465 1119.94 L91.2465 1116.01 Q93.9086 1113.25 98.4919 1108.62 Q103.098 1103.97 104.279 1102.63 Q106.524 1100.1 107.404 1098.37 Q108.307 1096.61 108.307 1094.92 Q108.307 1092.16 106.362 1090.43 Q104.441 1088.69 101.339 1088.69 Q99.14 1088.69 96.6863 1089.45 Q94.2558 1090.22 91.478 1091.77 L91.478 1087.05 Q94.3021 1085.91 96.7558 1085.33 Q99.2095 1084.76 101.246 1084.76 Q106.617 1084.76 109.811 1087.44 Q113.006 1090.13 113.006 1094.62 Q113.006 1096.75 112.196 1098.67 Q111.408 1100.57 109.302 1103.16 Q108.723 1103.83 105.621 1107.05 Q102.52 1110.24 96.8715 1116.01 Z\" fill=\"#f8f8f2\" fill-rule=\"nonzero\" fill-opacity=\"1\" /><path clip-path=\"url(#clip870)\" d=\"M101.246 768.636 Q97.6354 768.636 95.8067 772.201 Q94.0012 775.742 94.0012 782.872 Q94.0012 789.978 95.8067 793.543 Q97.6354 797.085 101.246 797.085 Q104.881 797.085 106.686 793.543 Q108.515 789.978 108.515 782.872 Q108.515 775.742 106.686 772.201 Q104.881 768.636 101.246 768.636 M101.246 764.932 Q107.057 764.932 110.112 769.539 Q113.191 774.122 113.191 782.872 Q113.191 791.599 110.112 796.205 Q107.057 800.788 101.246 800.788 Q95.4363 800.788 92.3576 796.205 Q89.3021 791.599 89.3021 782.872 Q89.3021 774.122 92.3576 769.539 Q95.4363 764.932 101.246 764.932 Z\" fill=\"#f8f8f2\" fill-rule=\"nonzero\" fill-opacity=\"1\" /><path clip-path=\"url(#clip870)\" d=\"M96.8715 476.359 L113.191 476.359 L113.191 480.294 L91.2465 480.294 L91.2465 476.359 Q93.9086 473.604 98.4919 468.975 Q103.098 464.322 104.279 462.979 Q106.524 460.456 107.404 458.72 Q108.307 456.961 108.307 455.271 Q108.307 452.516 106.362 450.78 Q104.441 449.044 101.339 449.044 Q99.14 449.044 96.6863 449.808 Q94.2558 450.572 91.478 452.123 L91.478 447.401 Q94.3021 446.266 96.7558 445.688 Q99.2095 445.109 101.246 445.109 Q106.617 445.109 109.811 447.794 Q113.006 450.479 113.006 454.97 Q113.006 457.1 112.196 459.021 Q111.408 460.919 109.302 463.512 Q108.723 464.183 105.621 467.401 Q102.52 470.595 96.8715 476.359 Z\" fill=\"#f8f8f2\" fill-rule=\"nonzero\" fill-opacity=\"1\" /><path clip-path=\"url(#clip870)\" d=\"M103.608 129.985 L91.8021 148.434 L103.608 148.434 L103.608 129.985 M102.381 125.911 L108.26 125.911 L108.26 148.434 L113.191 148.434 L113.191 152.323 L108.26 152.323 L108.26 160.471 L103.608 160.471 L103.608 152.323 L88.0058 152.323 L88.0058 147.809 L102.381 125.911 Z\" fill=\"#f8f8f2\" fill-rule=\"nonzero\" fill-opacity=\"1\" /><g clip-path=\"url(#clip872)\">\n",
       "<image width=\"1964\" height=\"1439\" xlink:href=\"data:image/png;base64,\n",
       "iVBORw0KGgoAAAANSUhEUgAAB6wAAAWfCAYAAAAf3Aj/AAAgAElEQVR4nOzbXW4c6XmG4fqapDSS\n",
       "hQnsNfUSqEUG4g7M3eTcSAJ7Rj9kVw4GTg7sAF2J6VsvdV0reFD4qqq7b3JtAAAAfDfO636vNxzx\n",
       "uD+segMAAAAw16keAAAAAAAAAMCPSbAGAAAAAAAAICFYAwAAAAAAAJAQrAEAAAAAAABICNYAAAAA\n",
       "AAAAJARrAAAAAAAAABKCNQAAAAAAAAAJwRoAAAAAAACAhGANAAAAAAAAQEKwBgAAAAAAACAhWAMA\n",
       "AAAAAACQEKwBAAAAAAAASAjWAAAAAAAAACQEawAAAAAAAAASgjUAAAAAAAAACcEaAAAAAAAAgIRg\n",
       "DQAAAAAAAEBCsAYAAAAAAAAgIVgDAAAAAAAAkBCsAQAAAAAAAEgI1gAAAAAAAAAkBGsAAAAAAAAA\n",
       "EoI1AAAAAAAAAAnBGgAAAAAAAICEYA0AAAAAAABAQrAGAAAAAAAAICFYAwAAAAAAAJAQrAEAAAAA\n",
       "AABICNYAAAAAAAAAJARrAAAAAAAAABKCNQAAAAAAAAAAAAAAAAAAAAAAAAAAAAAAAAAAAAAAAAAA\n",
       "AAAAAAAAAAAAAAAAAAAAAAAAAAAAAAAAAAAAAAAAAAAAAAAAAAAAAAAAAAAAAAAAAAAAAAAAAAAA\n",
       "AAAAAAAAAAAAAAAAAAAAAAAAAAAAAAAAAAAAAAAAAAAAAAAAAAAAAAAAAAAAAAAAAAAAAAAAAAAA\n",
       "AAAAAAAAAAAAAAAAAAAAAAAAAAAAAAAAAAAAAAAAAAAAAAAAAAAAAAAAAAAAAAAAAAAAAAAAAAAA\n",
       "AAAAAAAAAAAAAAAAAAAAAAAAAAAAAAAAAAAAAAAAAAAAAAAAAAAAAAAAAAAAAADww1r1AACAH915\n",
       "3e/1hms97g8+PwLwd016n22bdxoAAMD34lQPAAAAAAAAAODHJFgDAAAAAAAAkBCsAQAAAAAAAEgI\n",
       "1gAAAAAAAAAkBGsAAAAAAAAAEoI1AAAAAAAAAAnBGgAAAAAAAICEYA0AAAAAAABAQrAGAAAAAAAA\n",
       "ICFYAwAAAAAAAJAQrAEAAAAAAABICNYAAAAAAAAAJARrAAAAAAAAABKCNQAAAAAAAAAJwRoAAAAA\n",
       "AACAhGANAAAAAAAAQEKwBgAAAAAAACAhWAMAAAAAAACQEKwBAAAAAAAASAjWAAAAAAAAACQEawAA\n",
       "AAAAAAASgjUAAAAAAAAACcEaAAAAAAAAgIRgDQAAAAAAAEBCsAYAAAAAAAAgIVgDAAAAAAAAkBCs\n",
       "AQAAAAAAAEgI1gAAAAAAAAAkBGsAAAAAAAAAEoI1AAAAAAAAAAnBGgAAAAAAAIDEbT0AAACA/3Fe\n",
       "93u94YjH/WHVG+D/YtK9Nu0+m3Rtt23e9QUAgNfGf1gDAAAAAAAAkBCsAQAAAAAAAEgI1gAAAAAA\n",
       "AAAkBGsAAAAAAAAAEoI1AAAAAAAAAAnBGgAAAAAAAICEYA0AAAAAAABAQrAGAAAAAAAAICFYAwAA\n",
       "AAAAAJAQrAEAAAAAAABICNYAAAAAAAAAJARrAAAAAAAAABKCNQAAAAAAAAAJwRoAAAAAAACAhGAN\n",
       "AAAAAAAAQEKwBgAAAAAAACAhWAMAAAAAAACQEKwBAAAAAAAASAjWAAAAAAAAACQEawAAAAAAAAAS\n",
       "gjUAAAAAAAAACcEaAAAAAAAAgIRgDQAAAAAAAEBCsAYAAAAAAAAgIVgDAAAAAAAAkBCsAQAAAAAA\n",
       "AEgI1gAAAAAAAAAkBGsAAAAAAAAAEoI1AAAAAAAAAAnBGgAAAAAAAICEYA0AAAAAAABAYtUDAADg\n",
       "pZzX/V5veK0e9wffJdi2bdvOp4+j7rPHy6cxZ9e15a+8z/gr718AAF4j/2ENAAAAAAAAQEKwBgAA\n",
       "AAAAACAhWAMAAAAAAACQEKwBAAAAAAAASAjWAAAAAAAAACQEawAAAAAAAAASgjUAAAAAAAAACcEa\n",
       "AAAAAAAAgIRgDQAAAAAAAEBCsAYAAAAAAAAgIVgDAAAAAAAAkBCsAQAAAAAAAEgI1gAAAAAAAAAk\n",
       "BGsAAAAAAAAAEoI1AAAAAAAAAAnBGgAAAAAAAICEYA0AAAAAAABAQrAGAAAAAAAAICFYAwAAAAAA\n",
       "AJAQrAEAAAAAAABICNYAAAAAAAAAJARrAAAAAAAAABKCNQAAAAAAAAAJwRoAAAAAAACAhGANAAAA\n",
       "AAAAQEKwBgAAAAAAACAhWAMAAAAAAACQEKwBAAAAAAAASAjWAAAAAAAAACQEawAAAAAAAAASgjUA\n",
       "AAAAAAAAiVUPAABgjvO63+sNhywfd1/MPusoPO4PYw7D+fRx1sUddhY8Fxhp2n02zaDnwuPl05yx\n",
       "vKhpn8snfRYDAP75/Ic1AAAAAAAAAAnBGgAAAAAAAICEYA0AAAAAAABAQrAGAAAAAAAAICFYAwAA\n",
       "AAAAAJAQrAEAAAAAAABICNYAAAAAAAAAJARrAAAAAAAAABKCNQAAAAAAAAAJwRoAAAAAAACAhGAN\n",
       "AAAAAAAAQEKwBgAAAAAAACAhWAMAAAAAAACQEKwBAAAAAAAASAjWAAAAAAAAACQEawAAAAAAAAAS\n",
       "gjUAAAAAAAAACcEaAAAAAAAAgIRgDQAAAAAAAEBCsAYAAAAAAAAgIVgDAAAAAAAAkBCsAQAAAAAA\n",
       "AEgI1gAAAAAAAAAkBGsAAAAAAAAAEoI1AAAAAAAAAAnBGgAAAAAAAICEYA0AAAAAAABAQrAGAAAA\n",
       "AAAAICFYAwAAAAAAAJAQrAEAAAAAAABICNYAAAAAAAAAJFY9AAB+VOd1v9cbrraGfWTY51zabdu2\n",
       "x/1h2AWe43z6OOYwrGH32X651BOOGXR9p52FSdd22wae3UGmnd190ueFSVu3eZ9tJn0un3ZtAQDg\n",
       "Gv7DGgAAAAAAAICEYA0AAAAAAABAQrAGAAAAAAAAICFYAwAAAAAAAJAQrAEAAAAAAABICNYAAAAA\n",
       "AAAAJARrAAAAAAAAABKCNQAAAAAAAAAJwRoAAAAAAACAhGANAAAAAAAAQEKwBgAAAAAAACAhWAMA\n",
       "AAAAAACQEKwBAAAAAAAASAjWAAAAAAAAACQEawAAAAAAAAASgjUAAAAAAAAACcEaAAAAAAAAgIRg\n",
       "DQAAAAAAAEBCsAYAAAAAAAAgIVgDAAAAAAAAkBCsAQAAAAAAAEgI1gAAAAAAAAAkBGsAAAAAAAAA\n",
       "EoI1AAAAAAAAAAnBGgAAAAAAAICEYA0AAAAAAABAQrAGAAAAAAAAICFYAwAAAAAAAJAQrAEAAAAA\n",
       "AABICNYAAAAAAAAAJARrAAAAAAAAABKrHgAA/yjn08e93nDIPmvuKMtHnBcz7dw6Cwy0pp3bNezv\n",
       "oPdLveDV2oe9I0bda6dh99nFffZS9mnXdtJ9NuwZ9rg/DLq423Ze92Mu8LRrCwCvwbBvPAAAAAAA\n",
       "AAC8FoI1AAAAAAAAAAnBGgAAAAAAAICEYA0AAAAAAABAQrAGAAAAAAAAICFYAwAAAAAAAJAQrAEA\n",
       "AAAAAABICNYAAAAAAAAAJARrAAAAAAAAABKCNQAAAAAAAAAJwRoAAAAAAACAhGANAAAAAAAAQEKw\n",
       "BgAAAAAAACAhWAMAAAAAAACQEKwBAAAAAAAASAjWAAAAAAAAACQEawAAAAAAAAASgjUAAAAAAAAA\n",
       "CcEaAAAAAAAAgIRgDQAAAAAAAEBCsAYAAAAAAAAgIVgDAAAAAAAAkBCsAQAAAAAAAEgI1gAAAAAA\n",
       "AAAkBGsAAAAAAAAAEoI1AAAAAAAAAAnBGgAAAAAAAICEYA0AAAAAAABAQrAGAAAAAAAAICFYAwAA\n",
       "AAAAAJAQrAEAAAAAAABIrHoAAPyjnNf9Xm/g+7BubuoJh+yXSz3hamvN+vi47u7qCVfbv32rJxyz\n",
       "hv3t66yjO8s+7PU7ae+w99k26NJOsz8/1RMOWadh74hJz4VhJn3OfdwffFoAAIgM+wYBAAAAAAAA\n",
       "wGshWAMAAAAAAACQEKwBAAAAAAAASAjWAAAAAAAAACQEawAAAAAAAAASgjUAAAAAAAAACcEaAAAA\n",
       "AAAAgIRgDQAAAAAAAEBCsAYAAAAAAAAgIVgDAAAAAAAAkBCsAQAAAAAAAEgI1gAAAAAAAAAkBGsA\n",
       "AAAAAAAAEoI1AAAAAAAAAAnBGgAAAAAAAICEYA0AAAAAAABAQrAGAAAAAAAAICFYAwAAAAAAAJAQ\n",
       "rAEAAAAAAABICNYAAAAAAAAAJARrAAAAAAAAABKCNQAAAAAAAAAJwRoAAAAAAACAhGANAAAAAAAA\n",
       "QEKwBgAAAAAAACAhWAMAAAAAAACQEKwBAAAAAAAASAjWAAAAAAAAACQEawAAAAAAAAASgjUAAAAA\n",
       "AAAACcEaAAAAAAAAgMSqBwD8aM7rfq83XOtxf/CeeEHn08cxZ4GXtU6D/oZwn3Vs191dPeF6a9gj\n",
       "d9ZRmHV2b2/qBcdcLvWCYybda8+zru0+6T7btm3d3dYTrvf8XC84ZH+atXeSNewdcfn6tZ5wtcfL\n",
       "p0EvCN8nX9K4szDod6Zt81sTAH/foF9HAQAAAAAAAHhNBGsAAAAAAAAAEoI1AAAAAAAAAAnBGgAA\n",
       "AAAAAICEYA0AAAAAAABAQrAGAAAAAAAAICFYAwAAAAAAAJAQrAEAAAAAAABICNYAAAAAAAAAJARr\n",
       "AAAAAAAAABKCNQAAAAAAAAAJwRoAAAAAAACAhGANAAAAAAAAQEKwBgAAAAAAACAhWAMAAAAAAACQ\n",
       "EKwBAAAAAAAASAjWAAAAAAAAACQEawAAAAAAAAASgjUAAAAAAAAACcEaAAAAAAAAgIRgDQAAAAAA\n",
       "AEBCsAYAAAAAAAAgIVgDAAAAAAAAkBCsAQAAAAAAAEgI1gAAAAAAAAAkBGsAAAAAAAAAEoI1AAAA\n",
       "AAAAAAnBGgAAAAAAAICEYA0AAAAAAABAQrAGAAAAAAAAICFYAwAAAAAAAJBY9QDg+3Ne93u9ge/D\n",
       "4/4w6j1xPn0cdXbXadDfjZ1u6gXHPD/VC44ZdBbWzW094ZhBT7H17qd6wjHPl3rBMYPOwrCx27qd\n",
       "9VzYv36tJ1zvZtr797lecMwadK9dZj1z92F7J51d15b/NukZtm3bH5/+dczgab8tPF4+jbm2APC/\n",
       "mfPrKAAAAAAAAACvimANAAAAAAAAQEKwBgAAAAAAACAhWAMAAAAAAACQEKwBAAAAAAAASAjWAAAA\n",
       "AAAAACQEawAAAAAAAAASgjUAAAAAAAAACcEaAAAAAAAAgIRgDQAAAAAAAEBCsAYAAAAAAAAgIVgD\n",
       "AAAAAAAAkBCsAQAAAAAAAEgI1gAAAAAAAAAkBGsAAAAAAAAAEoI1AAAAAAAAAAnBGgAAAAAAAICE\n",
       "YA0AAAAAAABAQrAGAAAAAAAAICFYAwAAAAAAAJAQrAEAAAAAAABICNYAAAAAAAAAJARrAAAAAAAA\n",
       "ABKCNQAAAAAAAAAJwRoAAAAAAACAhGANAAAAAAAAQEKwBgAAAAAAACAhWAMAAAAAAACQEKwBAAAA\n",
       "AAAASAjWAAAAAAAAACQEawAAAAAAAAASqx4A8P91Xvd7veGQNejRu8+6tKOu7bZt6/a2nnC95+d6\n",
       "wTE3N/WCQ9bdXT3haus07O8dBz0X1ps552Dbtm1bw87CzaC9l0u94JhJ77Ntm7V32FnY//yXesIh\n",
       "6927esLV9l9/rSccM+f1+5tvT/WCq+3TngvfvtUTrjfs+++0s7AGfS6fZtpZeNwfHAYA/sagX20A\n",
       "AAAAAAAAeE0EawAAAAAAAAASgjUAAAAAAAAACcEaAAAAAAAAgIRgDQAAAAAAAEBCsAYAAAAAAAAg\n",
       "IVgDAAAAAAAAkBCsAQAAAAAAAEgI1gAAAAAAAAAkBGsAAAAAAAAAEoI1AAAAAAAAAAnBGgAAAAAA\n",
       "AICEYA0AAAAAAABAQrAGAAAAAAAAICFYAwAAAAAAAJAQrAEAAAAAAABICNYAAAAAAAAAJARrAAAA\n",
       "AAAAABKCNQAAAAAAAAAJwRoAAAAAAACAhGANAAAAAAAAQEKwBgAAAAAAACAhWAMAAAAAAACQEKwB\n",
       "AAAAAAAASAjWAAAAAAAAACQEawAAAAAAAAASgjUAAAAAAAAACcEaAAAAAAAAgIRgDQAAAAAAAEBC\n",
       "sAYAAAAAAAAgIVgDAAAAAAAAkFj1AL4f53W/1xtes8f9Ycz9Nu4srDGX9jf7oMs77NquYXtHubmt\n",
       "Fxxy+ultPeHVWu/f1ROOWYP+PvN20NaJbm7qBVfbf/5dPeGQ9e2pnnDM86VecL1p13aaSWfh+ble\n",
       "cMj+6+d6wiFr0Dvi8ssv9YRjJn3/nbR127b927d6wiH7Zc4z9/HyadSPC+fTx2GHd9ZcXs6k38uB\n",
       "l+dXMQAAAAAAAAASgjUAAAAAAAAACcEaAAAAAAAAgIRgDQAAAAAAAEBCsAYAAAAAAAAgIVgDAAAA\n",
       "AAAAkBCsAQAAAAAAAEgI1gAAAAAAAAAkBGsAAAAAAAAAEoI1AAAAAAAAAAnBGgAAAAAAAICEYA0A\n",
       "AAAAAABAQrAGAAAAAAAAICFYAwAAAAAAAJAQrAEAAAAAAABICNYAAAAAAAAAJARrAAAAAAAAABKC\n",
       "NQAAAAAAAAAJwRoAAAAAAACAhGANAAAAAAAAQEKwBgAAAAAAACAhWAMAAAAAAACQEKwBAAAAAAAA\n",
       "SAjWAAAAAAAAACQEawAAAAAAAAASgjUAAAAAAAAACcEaAAAAAAAAgIRgDQAAAAAAAEBCsAYAAAAA\n",
       "AAAgIVgDAAAAAAAAkBCsAQAAAAAAAEisesBR53W/1xuOeNwfxl3jKaadBV7Qcpvxm3Ua9ndYg87u\n",
       "6d27esIx+6xXxHo/6Pre3dULjrm7rRdc7+2besEh+9tZZ2Ef9Mx9/jDrLJy+PtcTDtnvbuoJVzv9\n",
       "8rWecMj+Zs613bZtW1/mnN3Tn/6jnnDMu5/qBcf8+Zd6wfW+DnsufP5ST3i19m9P9YRD9uc5z9zt\n",
       "Mmjrtm375VJPeLX8tg/wzzPsl30AAAAAAAAAXgvBGgAAAAAAAICEYA0AAAAAAABAQrAGAAAAAAAA\n",
       "ICFYAwAAAAAAAJAQrAEAAAAAAABICNYAAAAAAAAAJARrAAAAAAAAABKCNQAAAAAAAAAJwRoAAAAA\n",
       "AACAhGANAAAAAAAAQEKwBgAAAAAAACAhWAMAAAAAAACQEKwBAAAAAAAASAjWAAAAAAAAACQEawAA\n",
       "AAAAAAASgjUAAAAAAAAACcEaAAAAAAAAgIRgDQAAAAAAAEBCsAYAAAAAAAAgIVgDAAAAAAAAkBCs\n",
       "AQAAAAAAAEgI1gAAAAAAAAAkBGsAAAAAAAAAEoI1AAAAAAAAAAnBGgAAAAAAAICEYA0AAAAAAABA\n",
       "QrAGAAAAAAAAICFYAwAAAAAAAJAQrAEAAAAAAABICNYAAAAAAAAAJG7rAUc97g+r3vBandf9Xm84\n",
       "wll4OefTx1FnYa1ZR2HfR13eWaZd2zXn78b25+d6wiGnDx/qCce8vasXXO/9u3rBMYPeEZffva0n\n",
       "HHJ5O+urxNP7OXsvb+a8H7Zt29Zl1vv3cjvnubD9/k294JBpZ+HuL0/1hKut/ed6wiHry7d6wjFv\n",
       "B91rN8PeEYMeC/uXL/WEQ/bLrO9o6zTn7E773WbQTwvbtg27voOmAkw37HUGAAAAAAAAwGshWAMA\n",
       "AAAAAACQEKwBAAAAAAAASAjWAAAAAAAAACQEawAAAAAAAAASgjUAAAAAAAAACcEaAAAAAAAAgIRg\n",
       "DQAAAAAAAEBCsAYAAAAAAAAgIVgDAAAAAAAAkBCsAQAAAAAAAEgI1gAAAAAAAAAkBGsAAAAAAAAA\n",
       "EoI1AAAAAAAAAAnBGgAAAAAAAICEYA0AAAAAAABAQrAGAAAAAAAAICFYAwAAAAAAAJAQrAEAAAAA\n",
       "AABICNYAAAAAAAAAJARrAAAAAAAAABKCNQAAAAAAAAAJwRoAAAAAAACAhGANAAAAAAAAQEKwBgAA\n",
       "AAAAACAhWAMAAAAAAACQEKwBAAAAAAAASAjWAAAAAAAAACQEawAAAAAAAAASgjUAAAAAAAAACcEa\n",
       "AAAAAAAAgMSqB8CP4nz6uNcbrrXWsEeDvS9mvXlTTzjmcqkXHLJub+sJ17u9qRccsj58qCccsv/h\n",
       "53rC1S4/3dUTDrm8mXN2n97P2bpt27ad5rzPtm3bPv9+zvW9+VovOObLv8w6C/ugz2K3n8d8hdi2\n",
       "bdtOT7P2TvLh3z7XE163Qd8jbv/9l3rCMX/6z3rB1fZff60nHLI/P9cTjnmec5/tz0/1hGOmvX73\n",
       "QWdhn3VxHy+f5nzQ5UWd1/2ow/u4Pzi7+A9rAAAAAAAAABqCNQAAAAAAAAAJwRoAAAAAAACAhGAN\n",
       "AAAAAAAAQEKwBgAAAAAAACAhWAMAAAAAAACQEKwBAAAAAAAASAjWAAAAAAAAACQEawAAAAAAAAAS\n",
       "gjUAAAAAAAAACcEaAAAAAAAAgIRgDQAAAAAAAEBCsAYAAAAAAAAgIVgDAAAAAAAAkBCsAQAAAAAA\n",
       "AEgI1gAAAAAAAAAkBGsAAAAAAAAAEoI1AAAAAAAAAAnBGgAAAAAAAICEYA0AAAAAAABAQrAGAAAA\n",
       "AAAAICFYAwAAAAAAAJAQrAEAAAAAAABICNYA/Bf79rJj2XmXcfhb+1C7Dt1lu7ttxzEIQhAoQiID\n",
       "xIhpZRDG3YJ77B4wZFADJCRuAJFEASXhkAQTO+6urqqu2oe1mDBguD4j6/W/eJ4reLW09jr9qgAA\n",
       "AAAAACIEawAAAAAAAAAiBGsAAAAAAAAAIgRrAAAAAAAAACIEawAAAAAAAAAiBGsAAAAAAAAAIgRr\n",
       "AAAAAAAAACIEawAAAAAAAAAihvQA+P/iYng+pTfMNSyK/S3Lcple0OdwSC+YbTg+Tk/oMhyt0xP6\n",
       "7AudC++dpyf0Oa117h4+OEtPmG1a1brmvvt4k54w2+6k1v13+7jWq8S0Si+Y7+5ZekGfYZ9e0KnQ\n",
       "qbvYpRf0Of48vaDPVOiWdvZZnefG1lprU5nX39Zaa+u3dS5k66ttekKXxWe/TU+Y777WsZ12xW4S\n",
       "hzG9YLbx7j49oc9Y59i21to0FrqnFbuftaHQg25r7XJ8WWsw8LWq9VUMAAAAAAAAgAdDsAYAAAAA\n",
       "AAAgQrAGAAAAAAAAIEKwBgAAAAAAACBCsAYAAAAAAAAgQrAGAAAAAAAAIEKwBgAAAAAAACBCsAYA\n",
       "AAAAAAAgQrAGAAAAAAAAIEKwBgAAAAAAACBCsAYAAAAAAAAgQrAGAAAAAAAAIEKwBgAAAAAAACBC\n",
       "sAYAAAAAAAAgQrAGAAAAAAAAIEKwBgAAAAAAACBCsAYAAAAAAAAgQrAGAAAAAAAAIEKwBgAAAAAA\n",
       "ACBCsAYAAAAAAAAgQrAGAAAAAAAAIEKwBgAAAAAAACBCsAYAAAAAAAAgQrAGAAAAAAAAIEKwBgAA\n",
       "AAAAACBCsAYAAAAAAAAgQrAGAAAAAAAAIEKwBgAAAAAAACBCsAYAAAAAAAAgQrAGAAAAAAAAIEKw\n",
       "BgAAAAAAACBiSA/gm+NieD6lNzxoQ52f27BYpic8aMOq0PEtdN621srtHU5O0hNmG568n57QZTo5\n",
       "Sk/oMm5W6Qmz7T44Tk/ocv3pOj1htu2jWtewu2fpBQ/X/rTWY/n06V16QpfDTZ3rwtHnde4PrbV2\n",
       "2NQ6d08+q3PdXdX6mbX3/3mXntBlsa9z7q6uax3b5ds6J+/w5iY9oc9U57xtrbXpzVV6wmzju3fp\n",
       "CX1qnQq1isQ4phd0mYpdFyq5HF9WOnOhJP9hDQAAAAAAAECEYA0AAAAAAABAhGANAAAAAAAAQIRg\n",
       "DQAAAAAAAECEYA0AAAAAAABAhGANAAAAAAAAQIRgDQAAAAAAAECEYA0AAAAAAABAhGANAAAAAAAA\n",
       "QIRgDQAAAAAAAECEYA0AAAAAAABAhGANAAAAAAAAQIRgDQAAAAAAAECEYA0AAAAAAABAhGANAAAA\n",
       "AAAAQIRgDQAAAAAAAECEYA0AAAAAAABAhGANAAAAAAAAQIRgDQAAAAAAAECEYA0AAAAAAABAhGAN\n",
       "AAAAAAAAQIRgDQAAAAAAAECEYA0AAAAAAABAhGANAAAAAAAAQIRgDQAAAAAAAECEYA0AAAAAAABA\n",
       "hGANAAAAAAAAQIRgDQAAAAAAAECEYA0AAAAAAABAhGANAAAAAAAAQIRgDQAAAAAAAEDEKj2Ab47L\n",
       "6dWQ3vCQXQwvpvSG2aYxvaDLNNU5tK21NizW6Qnz1Tq0bXF+np7Qp9BvbToudN621sZNrb3vPjlJ\n",
       "T5jtsKn1947vntV5vNkVu4QdjtIL+uwfH9ITZjv++DY9oct3nn2RntDlfl/nNfjXT4tdGPbL9IIu\n",
       "N8fH6QmzbX5T69i+/d1az2JH13VefI6Oaj2LbdIDOqyu36Un9Cn2LaQt6py7i7PT9IQu402xc7fO\n",
       "Kxpft2rXsUIuhuelDq42RWv+wxoAAAAAAACAEMEaAAAAAAAAgAjBGgAAAAAAAIAIwRoAAAAAAACA\n",
       "CMEaAAAAAAAAgAjBGgAAAAAAAIAIwRoAAAAAAACACMEaAAAAAAAAgAjBGgAAAAAAAIAIwRoAAAAA\n",
       "AACACMEaAAAAAAAAgAjBGgAAAAAAAIAIwRoAAAAAAACACMEaAAAAAAAAgAjBGgAAAAAAAIAIwRoA\n",
       "AAAAAACACMEaAAAAAAAAgAjBGgAAAAAAAIAIwRoAAAAAAACACMEaAAAAAAAAgAjBGgAAAAAAAIAI\n",
       "wRoAAAAAAACACMEaAAAAAAAAgAjBGgAAAAAAAIAIwRoAAAAAAACACMEaAAAAAAAAgAjBGgAAAAAA\n",
       "AIAIwRoAAAAAAACACMEaAAAAAAAAgAjBGgAAAAAAAIAIwRoAAAAAAACAiFV6wEN3MTyf0hvmupxe\n",
       "DekN8FUsNsfpCV2m/T49YbbFZpOe0Gc8pBf0OTpKL5ht2qzTE7rsH9fau7ob0xNmu/601uPj9r30\n",
       "gvm2z2pdw44/vE1P6PJnn/wyPWG2odhT+elym57QZTsu0xNm+87jL9ITuvz9v343PaHL8oM65+7h\n",
       "utY7z93TWheycV1n7/o6vaDPMJb5LNbaSVtt2o0AACAASURBVLH339u79IIuw+Oz9ITZpqtiP7Rq\n",
       "xjrvv9NU6BoG/4vWQ0X+wxoAAAAAAACACMEaAAAAAAAAgAjBGgAAAAAAAIAIwRoAAAAAAACACMEa\n",
       "AAAAAAAAgAjBGgAAAAAAAIAIwRoAAAAAAACACMEaAAAAAAAAgAjBGgAAAAAAAIAIwRoAAAAAAACA\n",
       "CMEaAAAAAAAAgAjBGgAAAAAAAIAIwRoAAAAAAACACMEaAAAAAAAAgAjBGgAAAAAAAIAIwRoAAAAA\n",
       "AACACMEaAAAAAAAAgAjBGgAAAAAAAIAIwRoAAAAAAACACMEaAAAAAAAAgAjBGgAAAAAAAIAIwRoA\n",
       "AAAAAACACMEaAAAAAAAAgAjBGgAAAAAAAIAIwRoAAAAAAACACMEaAAAAAAAAgAjBGgAAAAAAAIAI\n",
       "wRoAAAAAAACACMEaAAAAAAAAgAjBGgAAAAAAAIAIwRoAAAAAAACAiFV6wEN3Ob0a0hvmuhieT+kN\n",
       "PSod22qmqdSp0Np+l17QZbHZpCfMV+1cGMf0gj6bo/SC+YqdC+O61t/kbc/rPJLtT9IL+hxO6py7\n",
       "w9k+PaHLo5O79IQu3z//j/SE2d5f3aYndHm6vE5P6PLz7YfpCbMdplr3s2//8ev0hC5/8/PvpyfM\n",
       "dn1a6B2itbbf1XpdXxS6Be9Pa10XDid1nnOHfa3f2eLqJj2hz+GQXjDbtC90UWitDctlekKXaV/o\n",
       "HW1R65o7VfsuBgXpaF+fWldcAAAAAAAAAB4MwRoAAAAAAACACMEaAAAAAAAAgAjBGgAAAAAAAIAI\n",
       "wRoAAAAAAACACMEaAAAAAAAAgAjBGgAAAAAAAIAIwRoAAAAAAACACMEaAAAAAAAAgAjBGgAAAAAA\n",
       "AIAIwRoAAAAAAACACMEaAAAAAAAAgAjBGgAAAAAAAIAIwRoAAAAAAACACMEaAAAAAAAAgAjBGgAA\n",
       "AAAAAIAIwRoAAAAAAACACMEaAAAAAAAAgAjBGgAAAAAAAIAIwRoAAAAAAACACMEaAAAAAAAAgAjB\n",
       "GgAAAAAAAIAIwRoAAAAAAACACMEaAAAAAAAAgAjBGgAAAAAAAIAIwRoAAAAAAACACMEaAAAAAAAA\n",
       "gAjBGgAAAAAAAIAIwRoAAAAAAACACMEaAAAAAAAAgAjBGgAAAAAAAICIVXoA3xyX06shvaHHxeLF\n",
       "lN7QYxhKHd5iah3baapz6g6LYn/XtD5KL+hzVOc2vLi9T0/oMi1P0xO63D2p81s7HKcX9Fne1blH\n",
       "jK3O/aG11k7Xu/SELvupzu/sbbEf2serN+kJXf7i9KfpCbP93c330hO6/MHxb9ITunznyW/TE2b7\n",
       "0d06PaHLdlHrOra+WqYnzHZY1Xm2aa21qdC3kGlZZ2trrbWzk/SCPlc36QWzLU5rvU+ON3WObWut\n",
       "tULXBajqYnhe6gNDpTZVaWs1db7aAAAAAAAAAPCgCNYAAAAAAAAARAjWAAAAAAAAAEQI1gAAAAAA\n",
       "AABECNYAAAAAAAAARAjWAAAAAAAAAEQI1gAAAAAAAABECNYAAAAAAAAARAjWAAAAAAAAAEQI1gAA\n",
       "AAAAAABECNYAAAAAAAAARAjWAAAAAAAAAEQI1gAAAAAAAABECNYAAAAAAAAARAjWAAAAAAAAAEQI\n",
       "1gAAAAAAAABECNYAAAAAAAAARAjWAAAAAAAAAEQI1gAAAAAAAABECNYAAAAAAAAARAjWAAAAAAAA\n",
       "AEQI1gAAAAAAAABECNYAAAAAAAAARAjWAAAAAAAAAEQI1gAAAAAAAABECNYAAAAAAAAARAjWAAAA\n",
       "AAAAAEQI1gAAAAAAAABECNYAAAAAAAAARAjWAAAAAAAAAEQI1gAAAAAAAABErNID4CubpvSCLpXW\n",
       "DsOQntCn2LnQxkJ7q/1Z0zimF/S5eZdeMNvu9z9KT+gyrmudvEOhU3exSy/os322T0+Y7cmTm/SE\n",
       "Lp+cXaUndPnh+T+mJ8x2N9Z6TfvTo/v0hC5vpzrXhZ+s36QnPGhX2016wmyrVaGHhdba4bzWA8Nh\n",
       "s0xPmG13Vut9fX9a59iuvzykJ3SZVnWObWutDas672jTttY1t9x3sVKXsVJjy33TrXTmXrTnleaW\n",
       "czHUOb6X06taP7RC6jwpAAAAAAAAAPCgCNYAAAAAAAAARAjWAAAAAAAAAEQI1gAAAAAAAABECNYA\n",
       "AAAAAAAARAjWAAAAAAAAAEQI1gAAAAAAAABECNYAAAAAAAAARAjWAAAAAAAAAEQI1gAAAAAAAABE\n",
       "CNYAAAAAAAAARAjWAAAAAAAAAEQI1gAAAAAAAABECNYAAAAAAAAARAjWAAAAAAAAAEQI1gAAAAAA\n",
       "AABECNYAAAAAAAAARAjWAAAAAAAAAEQI1gAAAAAAAABECNYAAAAAAAAARAjWAAAAAAAAAEQI1gAA\n",
       "AAAAAABECNYAAAAAAAAARAjWAAAAAAAAAEQI1gAAAAAAAABECNYAAAAAAAAARAjWAAAAAAAAAEQI\n",
       "1gAAAAAAAABECNYAAAAAAAAARAjWAAAAAAAAAEQI1gAAAAAAAABErNID+Oa4GJ5P6Q0P2bBYpifM\n",
       "No2H9IQuw2JIT+gzjukF803F/q5pWWzvyXF6wWzDvtB521pb3tfaO4x1zt39abFrbiHTVOvYbsda\n",
       "rxL/cPuH6Qmz/fDsR+kJXR4vHqUndLk+XKcnzPY76y/SE7psp1rXhUfr+/SE2darWu9odzcn6Qld\n",
       "xnV6wXxH17U+3Ux1PoW0aVPrGra4uk1P6FPpnXKq9Tsb1oUuYq21NtY5vtN+l57QZar0zbGYy+lV\n",
       "qRf2i8WLOj+01trl+LLU8eXrUefrKAAAAAAAAAAPimANAAAAAAAAQIRgDQAAAAAAAECEYA0AAAAA\n",
       "AABAhGANAAAAAAAAQIRgDQAAAAAAAECEYA0AAAAAAABAhGANAAAAAAAAQIRgDQAAAAAAAECEYA0A\n",
       "AAAAAABAhGANAAAAAAAAQIRgDQAAAAAAAECEYA0AAAAAAABAhGANAAAAAAAAQIRgDQAAAAAAAECE\n",
       "YA0AAAAAAABAhGANAAAAAAAAQIRgDQAAAAAAAECEYA0AAAAAAABAhGANAAAAAAAAQIRgDQAAAAAA\n",
       "AECEYA0AAAAAAABAhGANAAAAAAAAQIRgDQAAAAAAAECEYA0AAAAAAABAhGANAAAAAAAAQIRgDQAA\n",
       "AAAAAECEYA0AAAAAAABAhGANAAAAAAAAQIRgDQAAAAAAAECEYA0AAAAAAABAxCo94KG7WLyY0hvm\n",
       "uhxfDukND9nFWOdcGIZip8JU5tC21lqbCu0d1sVuE2OdY9taa21/SC+YbSh2bA+bWn+Tt9ilF8w3\n",
       "jOkFfRY3y/SE2d7dr9MTujzd3KQndJlaneebv735XnpCl7989OP0hC4fLeo832ynOltba+1Xuw/S\n",
       "E7qcr+/SE2Y729ynJ3S5Wp6lJ3Q5/XV6wXz7kzr3s9Za27xJL3jAFrXeedq6znN5u6v1/jvt9ukJ\n",
       "Xaaxzktlpa0VXU6vytzULobnpS4MWg8VFXuyAQAAAAAAAOChEKwBAAAAAAAAiBCsAQAAAAAAAIgQ\n",
       "rAEAAAAAAACIEKwBAAAAAAAAiBCsAQAAAAAAAIgQrAEAAAAAAACIEKwBAAAAAAAAiBCsAQAAAAAA\n",
       "AIgQrAEAAAAAAACIEKwBAAAAAAAAiBCsAQAAAAAAAIgQrAEAAAAAAACIEKwBAAAAAAAAiBCsAQAA\n",
       "AAAAAIgQrAEAAAAAAACIEKwBAAAAAAAAiBCsAQAAAAAAAIgQrAEAAAAAAACIEKwBAAAAAAAAiBCs\n",
       "AQAAAAAAAIgQrAEAAAAAAACIEKwBAAAAAAAAiBCsAQAAAAAAAIgQrAEAAAAAAACIEKwBAAAAAAAA\n",
       "iBCsAQAAAAAAAIgQrAEAAAAAAACIEKwBAAAAAAAAiBCsAQAAAAAAAIgQrAEAAAAAAACIWKUHPHjT\n",
       "lF4w28XwvM7Y1trl9GpIb+hS6FxoQ61DW82wXKYnPFzjIb2gz7LO340tbrfpCV2W2016Qpf1bZ3r\n",
       "7rCvs7W11pb3dfbe/fosPaHLT9/7MD2hy5+c/TI9YbbVYkxP6PJ6XKcndHlW6Phup1qv7P9082l6\n",
       "Qpd/eV3nOvb5l4/SE7qc/Hut68LhJL1gvvVNoW8LrbXlXZ13tGFXZ2trrbVDtb117r+lvuG11tpY\n",
       "6Ni21qbDPj1htmFR57tNa61Nxc7di1aoR1T7Xl7nyLbWarWpcl2qkFpXXAAAAAAAAAAeDMEaAAAA\n",
       "AAAAgAjBGgAAAAAAAIAIwRoAAAAAAACACMEaAAAAAAAAgAjBGgAAAAAAAIAIwRoAAAAAAACACMEa\n",
       "AAAAAAAAgAjBGgAAAAAAAIAIwRoAAAAAAACACMEaAAAAAAAAgAjBGgAAAAAAAIAIwRoAAAAAAACA\n",
       "CMEaAAAAAAAAgAjBGgAAAAAAAIAIwRoAAAAAAACACMEaAAAAAAAAgAjBGgAAAAAAAIAIwRoAAAAA\n",
       "AACACMEaAAAAAAAAgAjBGgAAAAAAAIAIwRoAAAAAAACACMEaAAAAAAAAgAjBGgAAAAAAAIAIwRoA\n",
       "AAAAAACACMEaAAAAAAAAgAjBGgAAAAAAAIAIwRoAAAAAAACACMEaAAAAAAAAgAjBGgAAAAAAAIAI\n",
       "wRoAAAAAAACAiCE9AL6qi8WLKb2hy1Ro7lDr0jAsiv3tzVBn72JzlJ7QZ71KL+gyPH2SnjDfeple\n",
       "0GX7rfP0hC7vntX5rd1+XOca1lpr17+bXjDf/tGYntBl/eG79IQuf/Txf6UnzPb6/iQ9oct33/s8\n",
       "PaHLn5//Ij1htp/efis9ocvPrp+mJ3T5+W/rPIvdvq51XXj04zrPNq21tix0Szv/t0N6Qpf1zT49\n",
       "Ybaj/7xOT+gyfP5lekKfQ51n3enuLj2hy3h3n57QqdA30mL5ZNrv0hP6FPoGfTm+rDMWiqr1xREA\n",
       "AAAAAACAB0OwBgAAAAAAACBCsAYAAAAAAAAgQrAGAAAAAAAAIEKwBgAAAAAAACBCsAYAAAAAAAAg\n",
       "QrAGAAAAAAAAIEKwBgAAAAAAACBCsAYAAAAAAAAgQrAGAAAAAAAAIEKwBgAAAAAAACBCsAYAAAAA\n",
       "AAAgQrAGAAAAAAAAIEKwBgAAAAAAACBCsAYAAAAAAAAgQrAGAAAAAAAAIEKwBgAAAAAAACBCsAYA\n",
       "AAAAAAAgQrAGAAAAAAAAIEKwBgAAAAAAACBCsAYAAAAAAAAgQrAGAAAAAAAAIEKwBgAAAAAAACBC\n",
       "sAYAAAAAAAAgQrAGAAAAAAAAIEKwBgAAAAAAACBCsAYAAAAAAAAgQrAGAAAAAAAAIEKwBgAAAAAA\n",
       "ACBCsAYAAAAAAAAgQrAGAAAAAAAAIGJ1MTyf0iN6XE6vhvQGviGmUqduqXP3YnhR6+AulukFXab9\n",
       "Lj1htmlX6++ahs0mPaHP/Ta9oMNRekCX1eu79IQuR5s617HdozK3s9Zaa+c/q7P3/v1a19y7u9P0\n",
       "hC4/2n6SnjDb8Wml+0Nrn1/9XnpCl5+cfZSeMNuXb8/SE7rsfnOcntBl2Ne5Rxy9rXWPWN2mF/Q5\n",
       "elvnFXj9ts77ZGutLe8O6QnzFfvO1I6Lvf/e1nlHmw6FztvWWqtzO/sfde5plb7hVXQ5vix39kK1\n",
       "plpJnbsDAAAAAAAAAA+KYA0AAAAAAABAhGANAAAAAAAAQIRgDQAAAAAAAECEYA0AAAAAAABAhGAN\n",
       "AAAAAAAAQIRgDQAAAAAAAECEYA0AAAAAAABAhGANAAAAAAAAQIRgDQAAAAAAAECEYA0AAAAAAABA\n",
       "hGANAAAAAAAAQIRgDQAAAAAAAECEYA0AAAAAAABAhGANAAAAAAAAQIRgDQAAAAAAAECEYA0AAAAA\n",
       "AABAhGANAAAAAAAAQIRgDQAAAAAAAECEYA0AAAAAAABAhGANAAAAAAAAQIRgDQAAAAAAAECEYA0A\n",
       "AAAAAABAhGANAAAAAAAAQIRgDQAAAAAAAECEYA0AAAAAAABAhGANAAAAAAAAQIRgDQAAAAAAAECE\n",
       "YA0AAAAAAABAhGANAAAAAAAAQIRgDQAAAAAAAEDEkB4AX9XF4sWU3tBlKjR3qHVpGBbF/vZmqLN3\n",
       "cXKcntBntUwv6FPpsvD0/fSEPsWuY/uP3ktPmO3m28WuC4VOhZuP69wfWmvtsEkv6LN/lF4w3/a9\n",
       "QjeI1tp4PKYn9FnUOb6Lm1rPNsv7Qhfd1tr6Kr1gvuU2vaDPUaFj21pr57+oc4CX94f0hC7rzwqd\n",
       "DPtax7ZdvU0v6DIVOr7Tu7v0hC7TWOxZ7LBPL3iwyp0LhVxOr2o96EJBtb6KAQAAAAAAAPBgCNYA\n",
       "AAAAAAAARAjWAAAAAAAAAEQI1gAAAAAAAABECNYAAAAAAAAARAjWAAAAAAAAAEQI1gAAAAAAAABE\n",
       "CNYAAAAAAAAARAjWAAAAAAAAAEQI1gAAAAAAAABECNYAAAAAAAAARAjWAAAAAAAAAEQI1gAAAAAA\n",
       "AABECNYAAAAAAAAARAjWAAAAAAAAAEQI1gAAAAAAAABECNYAAAAAAAAARAjWAAAAAAAAAEQI1gAA\n",
       "AAAAAABECNYAAAAAAAAARAjWAAAAAAAAAEQI1gAAAAAAAABECNYAAAAAAAAARAjWAAAAAAAAAEQI\n",
       "1gAAAAAAAABECNYAAAAAAAAARAjWAAAAAAAAAEQI1gAAAAAAAABECNYAAAAAAAAARAjWAAAAAAAA\n",
       "AEQI1gAAAAAAAABEDOkBAP9XP1j99ZTe0GVR6dJbaWtri+NNekKXYXOUnjDfep1e0KfYuTCdn6Yn\n",
       "zLZ/fJye0OVwskxPmG37uM7W1lrbPq71t6+336pzT1ts0wv6jLUuuW04pBfMN9X6mbX12/SCPpXO\n",
       "haPrWq88q7sxPaHL6a/u0hNmW17fpyd0Gd7epifMN9X6nU2vr9ITuky7XXrCbNNun57wsB3qHN9p\n",
       "rHU/a0Odd57WWrscX9YaDHytir3+AgAAAAAAAPBQCNYAAAAAAAAARAjWAAAAAAAAAEQI1gAAAAAA\n",
       "AABECNYAAAAAAAAARAjWAAAAAAAAAEQI1gAAAAAAAABECNYAAAAAAAAARAjWAAAAAAAAAEQI1gAA\n",
       "AAAAAABECNYAAAAAAAAARAjWAAAAAAAAAEQI1gAAAAAAAABECNYAAAAAAAAARAjWAAAAAAAAAEQI\n",
       "1gAAAAAAAABECNYAAAAAAAAARAjWAAAAAAAAAEQI1gAAAAAAAABECNYAAAAAAAAARAjWAAAAAAAA\n",
       "AEQI1gAAAAAAAABECNYAAAAAAAAARAjWAAAAAAAAAEQI1gAAAAAAAABECNYAAAAAAAAARAjWAAAA\n",
       "AAAAAEQI1gAAAAAAAABECNYAAAAAAAAARAjWAAAAAAAAAEQI1gAAAAAAAABEDOkBfHNcDM+n9IYH\n",
       "bajzc7scX9YZW9APVn9V57e2qPV3TcNylZ7QZVjWOb7D2Wl6Qp/NJr2gz0mdvdNqmZ7QZf/kLD1h\n",
       "tu376/SELsOYXtBnd1bnmjvW+pm13eM6x7a11lqdJ7G2vC80trW2uqu1dyr01rN5c0hP6HL0xbv0\n",
       "hC6LbZ3jO7y5Tk/oM9a5Lkw3t+kJfbbb9II+U6FzYbdPT+gy7XfpCV2mQudCNb7pApUV+7IAAAAA\n",
       "AAAAwEMhWAMAAAAAAAAQIVgDAAAAAAAAECFYAwAAAAAAABAhWAMAAAAAAAAQIVgDAAAAAAAAECFY\n",
       "AwAAAAAAABAhWAMAAAAAAAAQIVgDAAAAAAAAECFYAwAAAAAAABAhWAMAAAAAAAAQIVgDAAAAAAAA\n",
       "ECFYAwAAAAAAABAhWAMAAAAAAAAQIVgDAAAAAAAAECFYA/Df7dtbjhtZdkDRG8xUSdWNNmB4SvQM\n",
       "UoDHWMoZFGfUMOBnl5QPRn80DH8ZZqCR2nVSa43g4OJEBBmbBAAAAAAASAjWAAAAAAAAACQEawAA\n",
       "AAAAAAASgjUAAAAAAAAACcEaAAAAAAAAgIRgDQAAAAAAAEBCsAYAAAAAAAAgIVgDAAAAAAAAkBCs\n",
       "AQAAAAAAAEgI1gAAAAAAAAAkBGsAAAAAAAAAEoI1AAAAAAAAAAnBGgAAAAAAAICEYA0AAAAAAABA\n",
       "QrAGAAAAAAAAICFYAwAAAAAAAJDY6gHgR3HeHvZ6hptts24N27B5933QKpzu6hHete3DfT3Czbaf\n",
       "P9UjHLKdhv0m727OLqx//Id6gkP2u0G7MGnWtdbzP/2hHuGQ109znmmn52s9wiEvP88527XWev04\n",
       "57Pj/V9m7cLdt1nzTrrWTl9f6hEOufvPr/UIxzw91xPc7ttTPcExz3POdv9t1t7uk/Z2rbVf59xz\n",
       "1+use+6k90xrzXqP9+vrL3OGXcPeP6+1LvvjqPMF3tast2IAAAAAAAAAvBuCNQAAAAAAAAAJwRoA\n",
       "AAAAAACAhGANAAAAAAAAQEKwBgAAAAAAACAhWAMAAAAAAACQEKwBAAAAAAAASAjWAAAAAAAAACQE\n",
       "awAAAAAAAAASgjUAAAAAAAAACcEaAAAAAAAAgIRgDQAAAAAAAEBCsAYAAAAAAAAgIVgDAAAAAAAA\n",
       "kBCsAQAAAAAAAEgI1gAAAAAAAAAkBGsAAAAAAAAAEoI1AAAAAAAAAAnBGgAAAAAAAICEYA0AAAAA\n",
       "AABAQrAGAAAAAAAAICFYAwAAAAAAAJAQrAEAAAAAAABICNYAAAAAAAAAJARrAAAAAAAAABKCNQAA\n",
       "AAAAAAAJwRoAAAAAAACAhGANAAAAAAAAQEKwBgAAAAAAACAhWAMAAAAAAACQEKwBAAAAAAAASNzX\n",
       "A/D7cd4e9noGfh8u1y9bPcMR03Z3Ow36rdB+rSc4Zht0tmutNWlzn57rCQ657pMOd63tw5yPZNu/\n",
       "jXpErO3+rh7hdoP2YK217n+aNe+HPz/VI9zs9U+f6hEO2V5m3XM//utrPcLNTk9zZp1o+zbn8832\n",
       "dc6sa621rsO+R3yb84zY//0/6hGOGfS5fB8060ivL/UEN5u2C+Pe450+zzpgAL6LYW/2AQAAAAAA\n",
       "AHgvBGsAAAAAAAAAEoI1AAAAAAAAAAnBGgAAAAAAAICEYA0AAAAAAABAQrAGAAAAAAAAICFYAwAA\n",
       "AAAAAJAQrAEAAAAAAABICNYAAAAAAAAAJARrAAAAAAAAABKCNQAAAAAAAAAJwRoAAAAAAACAhGAN\n",
       "AAAAAAAAQEKwBgAAAAAAACAhWAMAAAAAAACQEKwBAAAAAAAASAjWAAAAAAAAACQEawAAAAAAAAAS\n",
       "gjUAAAAAAAAACcEaAAAAAAAAgIRgDQAAAAAAAEBCsAYAAAAAAAAgIVgDAAAAAAAAkBCsAQAAAAAA\n",
       "AEgI1gAAAAAAAAAkBGsAAAAAAAAAEoI1AAAAAAAAAAnBGgAAAAAAAICEYA0AAAAAAABAQrAGAAAA\n",
       "AAAAICFYAwAAAAAAAJDY6gEAfjTn7WGvZ7jVZX8c9Zz45w//MuZsxxl2stuHD/UIxwy60rZPn+oR\n",
       "Dtk+3Ncj3O7nWWe7Jp3tWmttgy60l9d6gmM+/VRPcMh+f1ePcLvXaz3BIdt//VaPcMzdoN/w//df\n",
       "6gmOmXTPXWvtT0/1CLe7zrovTLqPXb99q0c45jrsS9qgL5X7sOtsG3bP/fX1l1kDDzLpneNa8947\n",
       "Am9r0LczAAAAAAAAAN4TwRoAAAAAAACAhGANAAAAAAAAQEKwBgAAAAAAACAhWAMAAAAAAACQEKwB\n",
       "AAAAAAAASAjWAAAAAAAAACQEawAAAAAAAAASgjUAAAAAAAAACcEaAAAAAAAAgIRgDQAAAAAAAEBC\n",
       "sAYAAAAAAAAgIVgDAAAAAAAAkBCsAQAAAAAAAEgI1gAAAAAAAAAkBGsAAAAAAAAAEoI1AAAAAAAA\n",
       "AAnBGgAAAAAAAICEYA0AAAAAAABAQrAGAAAAAAAAICFYAwAAAAAAAJAQrAEAAAAAAABICNYAAAAA\n",
       "AAAAJARrAAAAAAAAABKCNQAAAAAAAAAJwRoAAAAAAACAhGANAAAAAAAAQEKwBgAAAAAAACAhWAMA\n",
       "AAAAAACQEKwBAAAAAAAASAjWAAAAAAAAACS2egDg9+e8Pez1DEdc9kf3sjcybRe2k99hMdP24ad6\n",
       "hNvdzbrOtru7eoTbbbMeZ9sf/1CPcMx10CPtNGsX1j7obNda6+Oge+7Xp3qCY15f6gmOmfSMeJl1\n",
       "ttffvtYjHLINegbv12s9wiH7t2/1CLc7DbonrLXW9bWe4JB92ueFQS7XL3NuYsNMey/mHSkw2aw3\n",
       "jgAAAAAAAAC8G4I1AAAAAAAAAAnBGgAAAAAAAICEYA0AAAAAAABAQrAGAAAAAAAAICFYAwAAAAAA\n",
       "AJAQrAEAAAAAAABICNYAAAAAAAAAJARrAAAAAAAAABKCNQAAAAAAAAAJwRoAAAAAAACAhGANAAAA\n",
       "AAAAQEKwBgAAAAAAACAhWAMAAAAAAACQEKwBAAAAAAAASAjWAAAAAAAAACQEawAAAAAAAAASgjUA\n",
       "AAAAAAAACcEaAAAAAAAAgIRgDQAAAAAAAEBCsAYAAAAAAAAgIVgDAAAAAAAAkBCsAQAAAAAAAEgI\n",
       "1gAAAAAAAAAkBGsAAAAAAAAAEoI1AAAAAAAAAAnBGgAAAAAAAICEYA0AAAAAAABAQrAGAAAAAAAA\n",
       "ICFYAwAAAAAAAJAQrAEAAAAAAABIbPUA8KM4bw97PcOtLvvjqHvDpLNda975TnI+fR61C9s2aBUm\n",
       "zbrWWqe7eoJDtrs5vyHcX6/1CO/W6dPHeoRj7u/rCY7ZBz0i9mHX2TbnHrbWmvUteNLerrXWtGfE\n",
       "ac4y7M8v9QjHvLzWExxjF1hr7ddhe8ubuVy/zLkpLO/F+F92AZhs2JsFAAAAAAAAAN4LwRoAAAAA\n",
       "AACAhGANAAAAAAAAQEKwBgAAAAAAACAhWAMAAAAAAACQEKwBAAAAAAAASAjWAAAAAAAAACQEawAA\n",
       "AAAAAAASgjUAAAAAAAAACcEaAAAAAAAAgIRgDQAAAAAAAEBCsAYAAAAAAAAgIVgDAAAAAAAAkBCs\n",
       "AQAAAAAAAEgI1gAAAAAAAAAkBGsAezgjNQAADcpJREFUAAAAAAAAEoI1AAAAAAAAAAnBGgAAAAAA\n",
       "AICEYA0AAAAAAABAQrAGAAAAAAAAICFYAwAAAAAAAJAQrAEAAAAAAABICNYAAAAAAAAAJARrAAAA\n",
       "AAAAABKCNQAAAAAAAAAJwRoAAAAAAACAhGANAAAAAAAAQEKwBgAAAAAAACAhWAMAAAAAAACQEKwB\n",
       "AAAAAAAASAjWAAAAAAAAACS2egCAH815e9jrGd6ry/7oufZGzqfPo/Z226zCmxl3toPm3a/1BIds\n",
       "Hz/WIxxzHXQbG7S2a621TsN+B/3yWk9ws30ftLdrrTVs3u1u0u7OujHsz0/1CIdMutZ8zn1D0852\n",
       "0N6utdavr78MO2AA4Hua9O0MAAAAAAAAgHdEsAYAAAAAAAAgIVgDAAAAAAAAkBCsAQAAAAAAAEgI\n",
       "1gAAAAAAAAAkBGsAAAAAAAAAEoI1AAAAAAAAAAnBGgAAAAAAAICEYA0AAAAAAABAQrAGAAAAAAAA\n",
       "ICFYAwAAAAAAAJAQrAEAAAAAAABICNYAAAAAAAAAJARrAAAAAAAAABKCNQAAAAAAAAAJwRoAAAAA\n",
       "AACAhGANAAAAAAAAQEKwBgAAAAAAACAhWAMAAAAAAACQEKwBAAAAAAAASAjWAAAAAAAAACQEawAA\n",
       "AAAAAAASgjUAAAAAAAAACcEaAAAAAAAAgIRgDQAAAAAAAEBCsAYAAAAAAAAgIVgDAAAAAAAAkBCs\n",
       "AQAAAAAAAEgI1gAAAAAAAAAkBGsAAAAAAAAAEoI1AAAAAAAAAIn7egCAv9d5e9jrGY647I9bPcOt\n",
       "pp0t/I99t7pvZdvG3ML+Zr/WE9zuNOu3pPvTcz3CMac5u7u/vNQjHLLdDftaeX2tJ7jZtOfZNu0+\n",
       "9jLoGTHNNmsXtmUXWGt/nfN8WGvWuwUAgP/PrG8QAAAAAAAAALwbgjUAAAAAAAAACcEaAAAAAAAA\n",
       "gIRgDQAAAAAAAEBCsAYAAAAAAAAgIVgDAAAAAAAAkBCsAQAAAAAAAEgI1gAAAAAAAAAkBGsAAAAA\n",
       "AAAAEoI1AAAAAAAAAAnBGgAAAAAAAICEYA0AAAAAAABAQrAGAAAAAAAAICFYAwAAAAAAAJAQrAEA\n",
       "AAAAAABICNYAAAAAAAAAJARrAAAAAAAAABKCNQAAAAAAAAAJwRoAAAAAAACAhGANAAAAAAAAQEKw\n",
       "BgAAAAAAACAhWAMAAAAAAACQEKwBAAAAAAAASAjWAAAAAAAAACQEawAAAAAAAAASgjUAAAAAAAAA\n",
       "CcEaAAAAAAAAgIRgDQAAAAAAAEBCsAYAAAAAAAAgIVgDAAAAAAAAkBCsAQAAAAAAAEhs9QDwozhv\n",
       "D3s9w60u+6N7A2utWXu71lprG7a6+5zjnXZfOJ8+zznctUbtwrjrbJJJe7DWuF3YTn6r+2ZOd/UE\n",
       "h+wvz/UIN9uGXWf7tPsYb2faLgy71ngj0/Z2mEnfKae9C5l0tgDwf/HWBgAAAAAAAICEYA0AAAAA\n",
       "AABAQrAGAAAAAAAAICFYAwAAAAAAAJAQrAEAAAAAAABICNYAAAAAAAAAJARrAAAAAAAAABKCNQAA\n",
       "AAAAAAAJwRoAAAAAAACAhGANAAAAAAAAQEKwBgAAAAAAACAhWAMAAAAAAACQEKwBAAAAAAAASAjW\n",
       "AAAAAAAAACQEawAAAAAAAAASgjUAAAAAAAAACcEaAAAAAAAAgIRgDQAAAAAAAEBCsAYAAAAAAAAg\n",
       "IVgDAAAAAAAAkBCsAQAAAAAAAEgI1gAAAAAAAAAkBGsAAAAAAAAAEoI1AAAAAAAAAAnBGgAAAAAA\n",
       "AICEYA0AAAAAAABAQrAGAAAAAAAAICFYAwAAAAAAAJAQrAEAAAAAAABICNYAAAAAAAAAJARrAAAA\n",
       "AAAAABJbPQAAwI/uvD3s9Qw323x8fDP7nDVYa63tNOu3r/ug892GXWeTzpY3ZhfezrD7wjiTdnfY\n",
       "LlyuX2YNPMio7xDDXPZHewsA39mst0wAAAAAAAAAvBuCNQAAAAAAAAAJwRoAAAAAAACAhGANAAAA\n",
       "AAAAQEKwBgAAAAAAACAhWAMAAAAAAACQEKwBAAAAAAAASAjWAAAAAAAAACQEawAAAAAAAAASgjUA\n",
       "AAAAAAAACcEaAAAAAAAAgIRgDQAAAAAAAEBCsAYAAAAAAAAgIVgDAAAAAAAAkBCsAQAAAAAAAEgI\n",
       "1gAAAAAAAAAkBGsAAAAAAAAAEoI1AAAAAAAAAAnBGgAAAAAAAICEYA0AAAAAAABAQrAGAAAAAAAA\n",
       "ICFYAwAAAAAAAJAQrAEAAAAAAABICNYAAAAAAAAAJARrAAAAAAAAABKCNQAAAAAAAAAJwRoAAAAA\n",
       "AACAhGANAAAAAAAAQEKwBgAAAAAAACAhWAMAAAAAAACQEKwBAAAAAAAASGz1AADA7995e9jrGY64\n",
       "7I8+47DWWut8+jxnd/c5o6611tpmXWaX65cxA4/a27XG7e6kZ8S0XZh0ncFU0+4L054Ro/gsBgC8\n",
       "I/5hDQAAAAAAAEBCsAYAAAAAAAAgIVgDAAAAAAAAkBCsAQAAAAAAAEgI1gAAAAAAAAAkBGsAAAAA\n",
       "AAAAEoI1AAAAAAAAAAnBGgAAAAAAAICEYA0AAAAAAABAQrAGAAAAAAAAICFYAwAAAAAAAJAQrAEA\n",
       "AAAAAABICNYAAAAAAAAAJARrAAAAAAAAABKCNQAAAAAAAAAJwRoAAAAAAACAhGANAAAAAAAAQEKw\n",
       "BgAAAAAAACAhWAMAAAAAAACQEKwBAAAAAAAASAjWAAAAAAAAACQEawAAAAAAAAASgjUAAAAAAAAA\n",
       "CcEaAAAAAAAAgIRgDQAAAAAAAEBCsAYAAAAAAAAgIVgDAAAAAAAAkBCsAQAAAAAAAEgI1gAAAAAA\n",
       "AAAkBGsAAAAAAAAAEoI1AAAAAAAAAImtHgAA4Ed33h72eoZbXfbHUZ8fJ53tNON24fR5zi7sc0ad\n",
       "aNruwloDn2fbrMvscv0ya2DexLTrzPMMAHhP/MMaAAAAAAAAgIRgDQAAAAAAAEBCsAYAAAAAAAAg\n",
       "IVgDAAAAAAAAkBCsAQAAAAAAAEgI1gAAAAAAAAAkBGsAAAAAAAAAEoI1AAAAAAAAAAnBGgAAAAAA\n",
       "AICEYA0AAAAAAABAQrAGAAAAAAAAICFYAwAAAAAAAJAQrAEAAAAAAABICNYAAAAAAAAAJARrAAAA\n",
       "AAAAABKCNQAAAAAAAAAJwRoAAAAAAACAhGANAAAAAAAAQEKwBgAAAAAAACAhWAMAAAAAAACQEKwB\n",
       "AAAAAAAASAjWAAAAAAAAACQEawAAAAAAAAASgjUAAAAAAAAACcEaAAAAAAAAgIRgDQAAAAAAAEBC\n",
       "sAYAAAAAAAAgIVgDAAAAAAAAkBCsAQAAAAAAAEgI1gAAAAAAAAAkBGsAAAAAAAAAEls9AAAAMM95\n",
       "e9jrGY647I9jvvucT59nne31y5izBb4Pz4i342wBAHiP/MMaAAAAAAAAgIRgDQAAAAAAAEBCsAYA\n",
       "AAAAAAAgIVgDAAAAAAAAkBCsAQAAAAAAAEgI1gAAAAAAAAAkBGsAAAAAAAAAEoI1AAAAAAAAAAnB\n",
       "GgAAAAAAAICEYA0AAAAAAABAQrAGAAAAAAAAICFYAwAAAAAAAJAQrAEAAAAAAABICNYAAAAAAAAA\n",
       "JARrAAAAAAAAABKCNQAAAAAAAAAJwRoAAAAAAACAhGANAAAAAAAAQEKwBgAAAAAAACAhWAMAAAAA\n",
       "AACQEKwBAAAAAAAASAjWAAAAAAAAACQEawAAAAAAAAASgjUAAAAAAAAACcEaAAAAAAAAgIRgDQAA\n",
       "AAAAAEBCsAYAAAAAAAAgIVgDAAAAAAAAkBCsAQAAAAAAAEgI1gAAAAAAAAAkBGsAAAAAAAAAEls9\n",
       "AAAAAADvx3l72OsZjrjsj96PAQBAyD+sAQAAAAAAAEgI1gAAAAAAAAAkBGsAAAAAAAAAEoI1AAAA\n",
       "AAAAAAnBGgAAAAAAAICEYA0AAAAAAABAQrAGAAAAAAAAICFYAwAAAAAAAJAQrAEAAAAAAABICNYA\n",
       "AAAAAAAAJARrAAAAAAAAABKCNQAAAAAAAAAJwRoAAAAAAACAhGANAAAAAAAAQEKwBgAAAAAAACAh\n",
       "WAMAAAAAAACQEKwBAAAAAAAASAjWAAAAAAAAACQEawAAAAAAAAASgjUAAAAAAAAACcEaAAAAAAAA\n",
       "gIRgDQAAAAAAAEBCsAYAAAAAAAAgIVgDAAAAAAAAkBCsAQAAAAAAAEgI1gAAAAAAAAAkBGsAAAAA\n",
       "AAAAEoI1AAAAAAAAAAnBGgAAAAAAAICEYA0AAAAAAABAQrAGAAAAAAAAILHVAwAAAMD3ct4e9noG\n",
       "OOqyP3p/AwAAvFv+YQ0AAAAAAABAQrAGAAAAAAAAICFYAwAAAAAAAJAQrAEAAAAAAABICNYAAAAA\n",
       "AAAAJARrAAAAAAAAABKCNQAAAAAAAAAJwRoAAAAAAACAhGANAAAAAAAAQEKwBgAAAAAAACAhWAMA\n",
       "AAAAAACQEKwBAAAAAAAASAjWAAAAAAAAACQEawAAAAAAAAASgjUAAAAAAAAACcEaAAAAAAAAgIRg\n",
       "DQAAAAAAAEBCsAYAAAAAAAAgIVgDAAAAAAAAkBCsAQAAAAAAAEgI1gAAAAAAAAAkBGsAAAAAAAAA\n",
       "EoI1AAAAAAAAAAnBGgAAAAAAAICEYA0AAAAAAABAQrAGAAAAAAAAICFYAwAAAAAAAJAQrAEAAAAA\n",
       "AABICNYAAAAAAAAAJARrAAAAAAAAABJ/BcsFGkd8aEQMAAAAAElFTkSuQmCC\n",
       "\" transform=\"translate(149, 47)\"/>\n",
       "</g>\n",
       "<defs>\n",
       "  <clipPath id=\"clip873\">\n",
       "    <rect x=\"2160\" y=\"47\" width=\"73\" height=\"1440\"/>\n",
       "  </clipPath>\n",
       "</defs>\n",
       "<g clip-path=\"url(#clip873)\">\n",
       "<image width=\"72\" height=\"1439\" xlink:href=\"data:image/png;base64,\n",
       "iVBORw0KGgoAAAANSUhEUgAAAEgAAAWfCAYAAAAI7rB3AAAMJ0lEQVR4nO3dwa3cSBAFQVIoU9Z/\n",
       "t2QFm7JgK4+cQ4QFQuJhiG7OfN3P3//ei//15+t/wK8TKAgUBAoChXne8/W/4adZUBAoCBQECgKF\n",
       "OZej2MaCgkBBoCBQmHM5amwsKAgUBAoCBYHCPK+jxsaCgkBBoCBQECg4iwULCgIFgYJAYR5vNVYW\n",
       "FAQKAgWBgkBhjguzlQUFgYJAQaDgqBEsKAgUBAoCBYHCeKexs6AgUBAoCBQECr5hFiwoCBQECgKF\n",
       "eb7+F/w4CwoCBYGCQEGg4MIsWFAQKAgUBAoChXncl60sKAgUBAoCBUeNYEFBoCBQECgIFOa57q//\n",
       "DT/NgoJAQaAgUJjn9SG9saAgUBAoCBQECnMcNVYWFAQKAgWBgkDBhVmwoCBQECgIFOa4MFtZUBAo\n",
       "CBQECgIFR41gQUGgIFAQKAgUPMWCBQWBgkBBoDDn1WijThAoCBQECgIFR41gQUGgIFAQKMyj0Uqd\n",
       "IFAQKAgUBAouzII6QaAgUBAoCBRcmAULCgIFgYJAYR5HjZU6QaAgUBAoCBTmaLRSJwgUBAoCBYGC\n",
       "C7NgQUGgIFAQKLgwC+oEgYJAQaAgUHBhFtQJAgWBgkDBUSOoEwQKAgWBgkDBW41gQUGgIFAQKAgU\n",
       "/CQzqBMECgIFgYK//hLUCQIFgYJAQaAwj/9fbGVBQaAgUBAo+AJVUCcIFAQKAgWBgm+YBXWCQEGg\n",
       "IFAQKHjtE9QJAgWBgkBhjrcaKwsKAgWBgkBBoOCoEdQJAgWBgkBBoODHLEGdIFAQKAgU/G4+WFAQ\n",
       "KAgUBAoCBUeNoE4QKAgUBAqOGsGCgkBBoCBQECg4agR1gkBBoCBQECj4SWZQJwgUBAoChTkuzFYW\n",
       "FAQKAgWBgkDBUSOoEwQKAgWBgkDBWSxYUBAoCBQECo4aQZ0gUBAoCBQECv6GWbCgIFAQKAgU/Imu\n",
       "oE4QKAgUBAoCBUeNYEFBoCBQECgIFDzFggUFgYJAQaDgwiyoEwQKAgWBgkDBUSNYUBAoCBQECgIF\n",
       "f8MsqBMECgIFgYJfHAYLCgIFgYJAQaAwjwuzlQUFgYJAQaDgPiioEwQKAgWBgkDBu/lgQUGgIFAQ\n",
       "KAgUvPYJFhQECgIFgYK3GsGCgkBBoCBQECh47RPUCQIFgYJAwVuNYEFBoCBQECgIFLzVCBYUBAoC\n",
       "BYGCQMFZLFhQECgIFAQKPqSDBQWBgkBBoCBQ8BQLFhQECgIFgYJAwTfMgjpBoCBQECh4Nx8sKAgU\n",
       "BAoCBYGCC7NgQUGgIFAQKPiQDhYUBAoCBYGCQMFTLFhQECgIFAQKAoV5PcVWFhQECgIFgYJ388GC\n",
       "gkBBoCBQECi4MAsWFAQKAgWBgkDBUyxYUBAoCBQECt5qBAsKAgWBgkBBoOCoESwoCBQECgIFH9LB\n",
       "goJAQaAgUBAozPv1v+DHWVAQKAgUBAoCBWexYEFBoCBQECh4Nx8sKAgUBAoCBYGCo0awoCBQECgI\n",
       "FAQKzmLBgoJAQaAgUJjj5fzKgoJAQaAgUBAoOGoECwoCBYGCQMGHdLCgIFAQKAgUBArezQcLCgIF\n",
       "gYJAQaDgJ5nBgoJAQaAgUHBhFiwoCBQECgIFgYKnWLCgIFAQKAgUBArzujFbWVAQKAgUBAqOGsGC\n",
       "gkBBoCBQECh4igULCgIFgYJAwX1QsKAgUBAoCBQECo4awYKCQEGgIFAQKDiLBQsKAgWBgkBhLkeN\n",
       "lQUFgYJAQaAgUHBhFiwoCBQECgIFf9wkWFAQKAgUBAoCBRdmwYKCQEGgIFAQKHg3HywoCBQECgKF\n",
       "uXxIrywoCBQECgIFgYJ388GCgkBBoCBQECg4iwULCgIFgYJAwbv5YEFBoCBQECgIFLybDxYUBAoC\n",
       "BYGCo0awoCBQECgIFAQK3moECwoCBYGCQEGg4CkWLCgIFAQKAgUXZsGCgkBBoCBQECg4agQLCgIF\n",
       "gYJAQaDgKRYsKAgUBAoCBRdmwYKCQEGgIFAQKAgUBAoCBYGCQMF9ULCgIFAQKAgUBAqeYsGCgkBB\n",
       "oCBQECjM7bXPyoKCQEGgIFBw1AgWFAQKAgWBgkDBUyxYUBAoCBQECgIFT7FgQUGgIFAQKPgxS7Cg\n",
       "IFAQKAgUBApzO2qsLCgIFAQKAgX3QcGCgkBBoCBQECh4igULCgIFgYJAQaDgwixYUBAoCBQECo4a\n",
       "wYKCQEGgIFAQKPiGWbCgIFAQKAgU3AcFCwoCBYGCQEGg4MIsWFAQKAgUBAoCBU+xYEFBoCBQECiM\n",
       "dxo7CwoCBYGCQEGg4KgRLCgIFAQKAgWBgqdYsKAgUBAoCBR8wyxYUBAoCBQECgIFR41gQUGgIFAQ\n",
       "KPiQDhYUBAoCBYGCQMGFWbCgIFAQKAgUBAr++kuwoCBQECgIFBw1ggUFgYJAQaAgUPDaJ1hQECgI\n",
       "FAQKAgVPsWBBQaAgUBAouDALFhQECgIFgYJAwVEjWFAQKAgUBAo+pIMFBYGCQEGgIFBwYRYsKAgU\n",
       "BAoCBYGCs1iwoCBQECgIFAQKAgWBgkBBoCBQcGEWLCgIFAQKAgWBgguzYEFBoCBQECg4agQLCgIF\n",
       "gYJAQaDgqBEsKAgUBAoCBR/SwYKCQEGgIFAQKLgwCxYUBAoCBYGCQMFZLFhQECgIFAQKjhrBgoJA\n",
       "QaAgUBAoOGoECwoCBYGCQMGHdLCgIFAQKAgUBAouzIIFBYGCQEGgIFBwFgsWFAQKAgWBgqNGsKAg\n",
       "UBAoCBQECo4awYKCQEGgIFAQKHiKBQsKAgWBgkBh7ten9MaCgkBBoCBQECg4agQLCgIFgYJAwbv5\n",
       "YEFBoCBQECgIFBw1ggUFgYJAQaAgUHAWCxYUBAoCBYGCo0awoCBQECgIFAQKnmLBgoJAQaAgUBAo\n",
       "uDALFhQECgIFgYKjRrCgIFAQKAgUBAqOGsGCgkBBoCBQcNQIFhQECgIFgYJAwVEjWFAQKAgUBAoC\n",
       "BWexYEFBoCBQECj4Q5PBgoJAQaAgUBAoOGoECwoCBYGCQEGg4LVPsKAgUBAoCBQcNYIFBYGCQEGg\n",
       "IFBw1AgWFAQKAgWBgqNGsKAgUBAoCBQECo4awYKCQEGgIFAQKMzle9IrCwoCBYGCQMFRI1hQECgI\n",
       "FAQKAgWvfYIFBYGCQEGgIFBwFgsWFAQKAgWBgqNGsKAgUBAoCBQECv6GWbCgIFAQKAgUHDWCBQWB\n",
       "gkBBoCBQmPt8/U/4bRYUBAoCBYGCQMFZLFhQECgIFAQK3moECwoCBYGCQEGg4KgRLCgIFAQKAgUf\n",
       "0sGCgkBBoCBQECj4xWGwoCBQECgIFAQK/tBksKAgUBAoCBQcNYIFBYGCQEGgIFCY63iMbSwoCBQE\n",
       "CgIFgYKzWLCgIFAQKAgUfMMsWFAQKAgUBAoCBT/JDBYUBAoCBYGCo0awoCBQECgIFAQKjhrBgoJA\n",
       "QaAgUBAozOXPJa8sKAgUBAoCBb84DBYUBAoCBYGCQMHXgIMFBYGCQEGgIFBwFgsWFAQKAgWBgm+Y\n",
       "BQsKAgWBgkBBoOAbZsGCgkBBoCBQ8Ce6ggUFgYJAQaAgUPBuPlhQECgIFAQKAgXv5oMFBYGCQEGg\n",
       "4EM6WFAQKAgUBAoCBb+bDxYUBAoCBYGCQME3zIIFBYGCQEGg4MIsWFAQKAgUBAoCBU+xYEFBoCBQ\n",
       "ECh4qxEsKAgUBAoCBYGCtxrBgoJAQaAgUBAouDALFhQECgIFgYIP6WBBQaAgUBAoCBT8DbNgQUGg\n",
       "IFAQKDhqBAsKAgWBgkBBoOApFiwoCBQECgIFgYKnWLCgIFAQKAgU5vZWY2VBQaAgUBAoCBQcNYIF\n",
       "BYGCQEGgIFDwFAsWFAQKAgWBgg/pYEFBoCBQECgIFPyYJVhQECgIFAQKjhrBgoJAQaAgUBAoeIoF\n",
       "CwoCBYGCQEGgMNfxV/83FhQECgIFgYKjRrCgIFAQKAgUBArzeoqtLCgIFAQKAgWBgm+YBQsKAgWB\n",
       "gkBhrtdbjY0FBYGCQEGgIFDw2idYUBAoCBQECu6DggUFgYJAQaAgUHBhFiwoCBQECgIFgYKzWLCg\n",
       "IFAQKAgUfA04WFAQKAgUBAoCBb+bDxYUBAoCBYGCQME3zIIFBYGCQEGg4KgRLCgIFAQKAgWBgtc+\n",
       "wYKCQEGgIFDwBapgQUGgIFAQKAgU/JglWFAQKAgUBAoChXmdxVYWFAQKAgWBgqNGsKAgUBAoCBQE\n",
       "Cr4GHCwoCBQECgKFf4jrjN/mS6F7AAAAAElFTkSuQmCC\n",
       "\" transform=\"translate(2161, 47)\"/>\n",
       "</g>\n",
       "<path clip-path=\"url(#clip870)\" d=\"M2269.43 1276.62 L2277.07 1276.62 L2277.07 1250.26 L2268.76 1251.93 L2268.76 1247.67 L2277.02 1246 L2281.7 1246 L2281.7 1276.62 L2289.33 1276.62 L2289.33 1280.56 L2269.43 1280.56 L2269.43 1276.62 Z\" fill=\"#f8f8f2\" fill-rule=\"nonzero\" fill-opacity=\"1\" /><path clip-path=\"url(#clip870)\" d=\"M2308.78 1249.08 Q2305.17 1249.08 2303.34 1252.64 Q2301.53 1256.18 2301.53 1263.31 Q2301.53 1270.42 2303.34 1273.99 Q2305.17 1277.53 2308.78 1277.53 Q2312.41 1277.53 2314.22 1273.99 Q2316.05 1270.42 2316.05 1263.31 Q2316.05 1256.18 2314.22 1252.64 Q2312.41 1249.08 2308.78 1249.08 M2308.78 1245.37 Q2314.59 1245.37 2317.64 1249.98 Q2320.72 1254.56 2320.72 1263.31 Q2320.72 1272.04 2317.64 1276.65 Q2314.59 1281.23 2308.78 1281.23 Q2302.97 1281.23 2299.89 1276.65 Q2296.83 1272.04 2296.83 1263.31 Q2296.83 1254.56 2299.89 1249.98 Q2302.97 1245.37 2308.78 1245.37 Z\" fill=\"#f8f8f2\" fill-rule=\"nonzero\" fill-opacity=\"1\" /><path clip-path=\"url(#clip870)\" d=\"M2338.94 1249.08 Q2335.33 1249.08 2333.5 1252.64 Q2331.7 1256.18 2331.7 1263.31 Q2331.7 1270.42 2333.5 1273.99 Q2335.33 1277.53 2338.94 1277.53 Q2342.57 1277.53 2344.38 1273.99 Q2346.21 1270.42 2346.21 1263.31 Q2346.21 1256.18 2344.38 1252.64 Q2342.57 1249.08 2338.94 1249.08 M2338.94 1245.37 Q2344.75 1245.37 2347.81 1249.98 Q2350.89 1254.56 2350.89 1263.31 Q2350.89 1272.04 2347.81 1276.65 Q2344.75 1281.23 2338.94 1281.23 Q2333.13 1281.23 2330.05 1276.65 Q2327 1272.04 2327 1263.31 Q2327 1254.56 2330.05 1249.98 Q2333.13 1245.37 2338.94 1245.37 Z\" fill=\"#f8f8f2\" fill-rule=\"nonzero\" fill-opacity=\"1\" /><path clip-path=\"url(#clip870)\" d=\"M2274.38 1054.87 L2290.7 1054.87 L2290.7 1058.8 L2268.76 1058.8 L2268.76 1054.87 Q2271.42 1052.11 2276 1047.48 Q2280.61 1042.83 2281.79 1041.49 Q2284.03 1038.96 2284.91 1037.23 Q2285.82 1035.47 2285.82 1033.78 Q2285.82 1031.02 2283.87 1029.29 Q2281.95 1027.55 2278.85 1027.55 Q2276.65 1027.55 2274.2 1028.32 Q2271.77 1029.08 2268.99 1030.63 L2268.99 1025.91 Q2271.81 1024.77 2274.27 1024.2 Q2276.72 1023.62 2278.76 1023.62 Q2284.13 1023.62 2287.32 1026.3 Q2290.52 1028.99 2290.52 1033.48 Q2290.52 1035.61 2289.7 1037.53 Q2288.92 1039.43 2286.81 1042.02 Q2286.23 1042.69 2283.13 1045.91 Q2280.03 1049.1 2274.38 1054.87 Z\" fill=\"#f8f8f2\" fill-rule=\"nonzero\" fill-opacity=\"1\" /><path clip-path=\"url(#clip870)\" d=\"M2310.51 1027.32 Q2306.9 1027.32 2305.08 1030.89 Q2303.27 1034.43 2303.27 1041.56 Q2303.27 1048.66 2305.08 1052.23 Q2306.9 1055.77 2310.51 1055.77 Q2314.15 1055.77 2315.95 1052.23 Q2317.78 1048.66 2317.78 1041.56 Q2317.78 1034.43 2315.95 1030.89 Q2314.15 1027.32 2310.51 1027.32 M2310.51 1023.62 Q2316.33 1023.62 2319.38 1028.22 Q2322.46 1032.81 2322.46 1041.56 Q2322.46 1050.28 2319.38 1054.89 Q2316.33 1059.47 2310.51 1059.47 Q2304.7 1059.47 2301.63 1054.89 Q2298.57 1050.28 2298.57 1041.56 Q2298.57 1032.81 2301.63 1028.22 Q2304.7 1023.62 2310.51 1023.62 Z\" fill=\"#f8f8f2\" fill-rule=\"nonzero\" fill-opacity=\"1\" /><path clip-path=\"url(#clip870)\" d=\"M2340.68 1027.32 Q2337.07 1027.32 2335.24 1030.89 Q2333.43 1034.43 2333.43 1041.56 Q2333.43 1048.66 2335.24 1052.23 Q2337.07 1055.77 2340.68 1055.77 Q2344.31 1055.77 2346.12 1052.23 Q2347.95 1048.66 2347.95 1041.56 Q2347.95 1034.43 2346.12 1030.89 Q2344.31 1027.32 2340.68 1027.32 M2340.68 1023.62 Q2346.49 1023.62 2349.54 1028.22 Q2352.62 1032.81 2352.62 1041.56 Q2352.62 1050.28 2349.54 1054.89 Q2346.49 1059.47 2340.68 1059.47 Q2334.87 1059.47 2331.79 1054.89 Q2328.73 1050.28 2328.73 1041.56 Q2328.73 1032.81 2331.79 1028.22 Q2334.87 1023.62 2340.68 1023.62 Z\" fill=\"#f8f8f2\" fill-rule=\"nonzero\" fill-opacity=\"1\" /><path clip-path=\"url(#clip870)\" d=\"M2284.38 818.411 Q2287.74 819.129 2289.61 821.397 Q2291.51 823.666 2291.51 826.999 Q2291.51 832.115 2287.99 834.916 Q2284.47 837.717 2277.99 837.717 Q2275.82 837.717 2273.5 837.277 Q2271.21 836.86 2268.76 836.004 L2268.76 831.49 Q2270.7 832.624 2273.02 833.203 Q2275.33 833.781 2277.85 833.781 Q2282.25 833.781 2284.54 832.045 Q2286.86 830.309 2286.86 826.999 Q2286.86 823.943 2284.7 822.231 Q2282.58 820.494 2278.76 820.494 L2274.73 820.494 L2274.73 816.652 L2278.94 816.652 Q2282.39 816.652 2284.22 815.286 Q2286.05 813.897 2286.05 811.305 Q2286.05 808.643 2284.15 807.231 Q2282.27 805.795 2278.76 805.795 Q2276.83 805.795 2274.64 806.212 Q2272.44 806.629 2269.8 807.508 L2269.8 803.342 Q2272.46 802.601 2274.77 802.231 Q2277.11 801.86 2279.17 801.86 Q2284.5 801.86 2287.6 804.291 Q2290.7 806.698 2290.7 810.819 Q2290.7 813.689 2289.06 815.68 Q2287.41 817.647 2284.38 818.411 Z\" fill=\"#f8f8f2\" fill-rule=\"nonzero\" fill-opacity=\"1\" /><path clip-path=\"url(#clip870)\" d=\"M2310.38 805.564 Q2306.76 805.564 2304.94 809.129 Q2303.13 812.67 2303.13 819.8 Q2303.13 826.906 2304.94 830.471 Q2306.76 834.013 2310.38 834.013 Q2314.01 834.013 2315.82 830.471 Q2317.64 826.906 2317.64 819.8 Q2317.64 812.67 2315.82 809.129 Q2314.01 805.564 2310.38 805.564 M2310.38 801.86 Q2316.19 801.86 2319.24 806.467 Q2322.32 811.05 2322.32 819.8 Q2322.32 828.527 2319.24 833.133 Q2316.19 837.717 2310.38 837.717 Q2304.57 837.717 2301.49 833.133 Q2298.43 828.527 2298.43 819.8 Q2298.43 811.05 2301.49 806.467 Q2304.57 801.86 2310.38 801.86 Z\" fill=\"#f8f8f2\" fill-rule=\"nonzero\" fill-opacity=\"1\" /><path clip-path=\"url(#clip870)\" d=\"M2340.54 805.564 Q2336.93 805.564 2335.1 809.129 Q2333.29 812.67 2333.29 819.8 Q2333.29 826.906 2335.1 830.471 Q2336.93 834.013 2340.54 834.013 Q2344.17 834.013 2345.98 830.471 Q2347.81 826.906 2347.81 819.8 Q2347.81 812.67 2345.98 809.129 Q2344.17 805.564 2340.54 805.564 M2340.54 801.86 Q2346.35 801.86 2349.4 806.467 Q2352.48 811.05 2352.48 819.8 Q2352.48 828.527 2349.4 833.133 Q2346.35 837.717 2340.54 837.717 Q2334.73 837.717 2331.65 833.133 Q2328.59 828.527 2328.59 819.8 Q2328.59 811.05 2331.65 806.467 Q2334.73 801.86 2340.54 801.86 Z\" fill=\"#f8f8f2\" fill-rule=\"nonzero\" fill-opacity=\"1\" /><path clip-path=\"url(#clip870)\" d=\"M2284.36 584.802 L2272.55 603.251 L2284.36 603.251 L2284.36 584.802 M2283.13 580.728 L2289.01 580.728 L2289.01 603.251 L2293.94 603.251 L2293.94 607.14 L2289.01 607.14 L2289.01 615.288 L2284.36 615.288 L2284.36 607.14 L2268.76 607.14 L2268.76 602.626 L2283.13 580.728 Z\" fill=\"#f8f8f2\" fill-rule=\"nonzero\" fill-opacity=\"1\" /><path clip-path=\"url(#clip870)\" d=\"M2311.67 583.807 Q2308.06 583.807 2306.23 587.372 Q2304.43 590.913 2304.43 598.043 Q2304.43 605.149 2306.23 608.714 Q2308.06 612.256 2311.67 612.256 Q2315.31 612.256 2317.11 608.714 Q2318.94 605.149 2318.94 598.043 Q2318.94 590.913 2317.11 587.372 Q2315.31 583.807 2311.67 583.807 M2311.67 580.103 Q2317.48 580.103 2320.54 584.71 Q2323.62 589.293 2323.62 598.043 Q2323.62 606.77 2320.54 611.376 Q2317.48 615.959 2311.67 615.959 Q2305.86 615.959 2302.78 611.376 Q2299.73 606.77 2299.73 598.043 Q2299.73 589.293 2302.78 584.71 Q2305.86 580.103 2311.67 580.103 Z\" fill=\"#f8f8f2\" fill-rule=\"nonzero\" fill-opacity=\"1\" /><path clip-path=\"url(#clip870)\" d=\"M2341.83 583.807 Q2338.22 583.807 2336.39 587.372 Q2334.59 590.913 2334.59 598.043 Q2334.59 605.149 2336.39 608.714 Q2338.22 612.256 2341.83 612.256 Q2345.47 612.256 2347.27 608.714 Q2349.1 605.149 2349.1 598.043 Q2349.1 590.913 2347.27 587.372 Q2345.47 583.807 2341.83 583.807 M2341.83 580.103 Q2347.64 580.103 2350.7 584.71 Q2353.78 589.293 2353.78 598.043 Q2353.78 606.77 2350.7 611.376 Q2347.64 615.959 2341.83 615.959 Q2336.02 615.959 2332.95 611.376 Q2329.89 606.77 2329.89 598.043 Q2329.89 589.293 2332.95 584.71 Q2336.02 580.103 2341.83 580.103 Z\" fill=\"#f8f8f2\" fill-rule=\"nonzero\" fill-opacity=\"1\" /><path clip-path=\"url(#clip870)\" d=\"M2270.21 358.971 L2288.57 358.971 L2288.57 362.906 L2274.5 362.906 L2274.5 371.378 Q2275.52 371.031 2276.53 370.869 Q2277.55 370.684 2278.57 370.684 Q2284.36 370.684 2287.74 373.855 Q2291.12 377.026 2291.12 382.443 Q2291.12 388.022 2287.64 391.124 Q2284.17 394.202 2277.85 394.202 Q2275.68 394.202 2273.41 393.832 Q2271.16 393.462 2268.76 392.721 L2268.76 388.022 Q2270.84 389.156 2273.06 389.712 Q2275.28 390.267 2277.76 390.267 Q2281.77 390.267 2284.1 388.161 Q2286.44 386.054 2286.44 382.443 Q2286.44 378.832 2284.1 376.726 Q2281.77 374.619 2277.76 374.619 Q2275.89 374.619 2274.01 375.036 Q2272.16 375.452 2270.21 376.332 L2270.21 358.971 Z\" fill=\"#f8f8f2\" fill-rule=\"nonzero\" fill-opacity=\"1\" /><path clip-path=\"url(#clip870)\" d=\"M2310.33 362.05 Q2306.72 362.05 2304.89 365.614 Q2303.08 369.156 2303.08 376.286 Q2303.08 383.392 2304.89 386.957 Q2306.72 390.499 2310.33 390.499 Q2313.96 390.499 2315.77 386.957 Q2317.6 383.392 2317.6 376.286 Q2317.6 369.156 2315.77 365.614 Q2313.96 362.05 2310.33 362.05 M2310.33 358.346 Q2316.14 358.346 2319.2 362.952 Q2322.27 367.536 2322.27 376.286 Q2322.27 385.013 2319.2 389.619 Q2316.14 394.202 2310.33 394.202 Q2304.52 394.202 2301.44 389.619 Q2298.39 385.013 2298.39 376.286 Q2298.39 367.536 2301.44 362.952 Q2304.52 358.346 2310.33 358.346 Z\" fill=\"#f8f8f2\" fill-rule=\"nonzero\" fill-opacity=\"1\" /><path clip-path=\"url(#clip870)\" d=\"M2340.49 362.05 Q2336.88 362.05 2335.05 365.614 Q2333.25 369.156 2333.25 376.286 Q2333.25 383.392 2335.05 386.957 Q2336.88 390.499 2340.49 390.499 Q2344.13 390.499 2345.93 386.957 Q2347.76 383.392 2347.76 376.286 Q2347.76 369.156 2345.93 365.614 Q2344.13 362.05 2340.49 362.05 M2340.49 358.346 Q2346.3 358.346 2349.36 362.952 Q2352.44 367.536 2352.44 376.286 Q2352.44 385.013 2349.36 389.619 Q2346.3 394.202 2340.49 394.202 Q2334.68 394.202 2331.6 389.619 Q2328.55 385.013 2328.55 376.286 Q2328.55 367.536 2331.6 362.952 Q2334.68 358.346 2340.49 358.346 Z\" fill=\"#f8f8f2\" fill-rule=\"nonzero\" fill-opacity=\"1\" /><path clip-path=\"url(#clip870)\" d=\"M2281.09 152.63 Q2277.95 152.63 2276.09 154.783 Q2274.27 156.936 2274.27 160.686 Q2274.27 164.413 2276.09 166.589 Q2277.95 168.741 2281.09 168.741 Q2284.24 168.741 2286.07 166.589 Q2287.92 164.413 2287.92 160.686 Q2287.92 156.936 2286.07 154.783 Q2284.24 152.63 2281.09 152.63 M2290.38 137.978 L2290.38 142.237 Q2288.62 141.404 2286.81 140.964 Q2285.03 140.524 2283.27 140.524 Q2278.64 140.524 2276.19 143.649 Q2273.76 146.774 2273.41 153.093 Q2274.77 151.08 2276.83 150.015 Q2278.89 148.927 2281.37 148.927 Q2286.58 148.927 2289.59 152.098 Q2292.62 155.246 2292.62 160.686 Q2292.62 166.01 2289.47 169.228 Q2286.33 172.445 2281.09 172.445 Q2275.1 172.445 2271.93 167.862 Q2268.76 163.255 2268.76 154.529 Q2268.76 146.334 2272.64 141.473 Q2276.53 136.589 2283.08 136.589 Q2284.84 136.589 2286.63 136.936 Q2288.43 137.283 2290.38 137.978 Z\" fill=\"#f8f8f2\" fill-rule=\"nonzero\" fill-opacity=\"1\" /><path clip-path=\"url(#clip870)\" d=\"M2310.68 140.293 Q2307.07 140.293 2305.24 143.857 Q2303.43 147.399 2303.43 154.529 Q2303.43 161.635 2305.24 165.2 Q2307.07 168.741 2310.68 168.741 Q2314.31 168.741 2316.12 165.2 Q2317.95 161.635 2317.95 154.529 Q2317.95 147.399 2316.12 143.857 Q2314.31 140.293 2310.68 140.293 M2310.68 136.589 Q2316.49 136.589 2319.54 141.195 Q2322.62 145.779 2322.62 154.529 Q2322.62 163.255 2319.54 167.862 Q2316.49 172.445 2310.68 172.445 Q2304.87 172.445 2301.79 167.862 Q2298.73 163.255 2298.73 154.529 Q2298.73 145.779 2301.79 141.195 Q2304.87 136.589 2310.68 136.589 Z\" fill=\"#f8f8f2\" fill-rule=\"nonzero\" fill-opacity=\"1\" /><path clip-path=\"url(#clip870)\" d=\"M2340.84 140.293 Q2337.23 140.293 2335.4 143.857 Q2333.59 147.399 2333.59 154.529 Q2333.59 161.635 2335.4 165.2 Q2337.23 168.741 2340.84 168.741 Q2344.47 168.741 2346.28 165.2 Q2348.11 161.635 2348.11 154.529 Q2348.11 147.399 2346.28 143.857 Q2344.47 140.293 2340.84 140.293 M2340.84 136.589 Q2346.65 136.589 2349.7 141.195 Q2352.78 145.779 2352.78 154.529 Q2352.78 163.255 2349.7 167.862 Q2346.65 172.445 2340.84 172.445 Q2335.03 172.445 2331.95 167.862 Q2328.89 163.255 2328.89 154.529 Q2328.89 145.779 2331.95 141.195 Q2335.03 136.589 2340.84 136.589 Z\" fill=\"#f8f8f2\" fill-rule=\"nonzero\" fill-opacity=\"1\" /><polyline clip-path=\"url(#clip870)\" style=\"stroke:#000000; stroke-linecap:round; stroke-linejoin:round; stroke-width:4; stroke-opacity:1; fill:none\" points=\"2232.76,1486.45 2232.76,1266.91 2256.76,1266.91 2232.76,1266.91 2232.76,1045.15 2256.76,1045.15 2232.76,1045.15 2232.76,823.394 2256.76,823.394 2232.76,823.394 2232.76,601.637 2256.76,601.637 2232.76,601.637 2232.76,379.88 2256.76,379.88 2232.76,379.88 2232.76,158.123 2256.76,158.123 2232.76,158.123 2232.76,47.2441 \"/>\n",
       "</svg>\n"
      ],
      "text/html": [
       "<?xml version=\"1.0\" encoding=\"utf-8\"?>\n",
       "<svg xmlns=\"http://www.w3.org/2000/svg\" xmlns:xlink=\"http://www.w3.org/1999/xlink\" width=\"600\" height=\"400\" viewBox=\"0 0 2400 1600\">\n",
       "<defs>\n",
       "  <clipPath id=\"clip920\">\n",
       "    <rect x=\"0\" y=\"0\" width=\"2400\" height=\"1600\"/>\n",
       "  </clipPath>\n",
       "</defs>\n",
       "<path clip-path=\"url(#clip920)\" d=\"M0 1600 L2400 1600 L2400 0 L0 0  Z\" fill=\"#282a36\" fill-rule=\"evenodd\" fill-opacity=\"1\"/>\n",
       "<defs>\n",
       "  <clipPath id=\"clip921\">\n",
       "    <rect x=\"480\" y=\"0\" width=\"1681\" height=\"1600\"/>\n",
       "  </clipPath>\n",
       "</defs>\n",
       "<path clip-path=\"url(#clip920)\" d=\"M149.191 1486.45 L2112.76 1486.45 L2112.76 47.2441 L149.191 47.2441  Z\" fill=\"#30343b\" fill-rule=\"evenodd\" fill-opacity=\"1\"/>\n",
       "<defs>\n",
       "  <clipPath id=\"clip922\">\n",
       "    <rect x=\"149\" y=\"47\" width=\"1965\" height=\"1440\"/>\n",
       "  </clipPath>\n",
       "</defs>\n",
       "<polyline clip-path=\"url(#clip922)\" style=\"stroke:#f8f8f2; stroke-linecap:round; stroke-linejoin:round; stroke-width:2; stroke-opacity:0.1; fill:none\" points=\"236.46,1486.45 236.46,47.2441 \"/>\n",
       "<polyline clip-path=\"url(#clip922)\" style=\"stroke:#f8f8f2; stroke-linecap:round; stroke-linejoin:round; stroke-width:2; stroke-opacity:0.1; fill:none\" points=\"672.808,1486.45 672.808,47.2441 \"/>\n",
       "<polyline clip-path=\"url(#clip922)\" style=\"stroke:#f8f8f2; stroke-linecap:round; stroke-linejoin:round; stroke-width:2; stroke-opacity:0.1; fill:none\" points=\"1109.16,1486.45 1109.16,47.2441 \"/>\n",
       "<polyline clip-path=\"url(#clip922)\" style=\"stroke:#f8f8f2; stroke-linecap:round; stroke-linejoin:round; stroke-width:2; stroke-opacity:0.1; fill:none\" points=\"1545.5,1486.45 1545.5,47.2441 \"/>\n",
       "<polyline clip-path=\"url(#clip922)\" style=\"stroke:#f8f8f2; stroke-linecap:round; stroke-linejoin:round; stroke-width:2; stroke-opacity:0.1; fill:none\" points=\"1981.85,1486.45 1981.85,47.2441 \"/>\n",
       "<polyline clip-path=\"url(#clip920)\" style=\"stroke:#f8f8f2; stroke-linecap:round; stroke-linejoin:round; stroke-width:4; stroke-opacity:1; fill:none\" points=\"149.191,1486.45 2112.76,1486.45 \"/>\n",
       "<polyline clip-path=\"url(#clip920)\" style=\"stroke:#f8f8f2; stroke-linecap:round; stroke-linejoin:round; stroke-width:4; stroke-opacity:1; fill:none\" points=\"236.46,1486.45 236.46,1467.55 \"/>\n",
       "<polyline clip-path=\"url(#clip920)\" style=\"stroke:#f8f8f2; stroke-linecap:round; stroke-linejoin:round; stroke-width:4; stroke-opacity:1; fill:none\" points=\"672.808,1486.45 672.808,1467.55 \"/>\n",
       "<polyline clip-path=\"url(#clip920)\" style=\"stroke:#f8f8f2; stroke-linecap:round; stroke-linejoin:round; stroke-width:4; stroke-opacity:1; fill:none\" points=\"1109.16,1486.45 1109.16,1467.55 \"/>\n",
       "<polyline clip-path=\"url(#clip920)\" style=\"stroke:#f8f8f2; stroke-linecap:round; stroke-linejoin:round; stroke-width:4; stroke-opacity:1; fill:none\" points=\"1545.5,1486.45 1545.5,1467.55 \"/>\n",
       "<polyline clip-path=\"url(#clip920)\" style=\"stroke:#f8f8f2; stroke-linecap:round; stroke-linejoin:round; stroke-width:4; stroke-opacity:1; fill:none\" points=\"1981.85,1486.45 1981.85,1467.55 \"/>\n",
       "<path clip-path=\"url(#clip920)\" d=\"M205.361 1532.02 L235.037 1532.02 L235.037 1535.95 L205.361 1535.95 L205.361 1532.02 Z\" fill=\"#f8f8f2\" fill-rule=\"nonzero\" fill-opacity=\"1\" /><path clip-path=\"url(#clip920)\" d=\"M257.977 1518.36 L246.171 1536.81 L257.977 1536.81 L257.977 1518.36 M256.75 1514.29 L262.629 1514.29 L262.629 1536.81 L267.56 1536.81 L267.56 1540.7 L262.629 1540.7 L262.629 1548.85 L257.977 1548.85 L257.977 1540.7 L242.375 1540.7 L242.375 1536.19 L256.75 1514.29 Z\" fill=\"#f8f8f2\" fill-rule=\"nonzero\" fill-opacity=\"1\" /><path clip-path=\"url(#clip920)\" d=\"M642.751 1532.02 L672.426 1532.02 L672.426 1535.95 L642.751 1535.95 L642.751 1532.02 Z\" fill=\"#f8f8f2\" fill-rule=\"nonzero\" fill-opacity=\"1\" /><path clip-path=\"url(#clip920)\" d=\"M686.547 1544.91 L702.866 1544.91 L702.866 1548.85 L680.922 1548.85 L680.922 1544.91 Q683.584 1542.16 688.167 1537.53 Q692.773 1532.88 693.954 1531.53 Q696.199 1529.01 697.079 1527.27 Q697.982 1525.51 697.982 1523.82 Q697.982 1521.07 696.037 1519.33 Q694.116 1517.6 691.014 1517.6 Q688.815 1517.6 686.361 1518.36 Q683.931 1519.13 681.153 1520.68 L681.153 1515.95 Q683.977 1514.82 686.431 1514.24 Q688.885 1513.66 690.922 1513.66 Q696.292 1513.66 699.486 1516.35 Q702.681 1519.03 702.681 1523.52 Q702.681 1525.65 701.871 1527.57 Q701.084 1529.47 698.977 1532.07 Q698.398 1532.74 695.297 1535.95 Q692.195 1539.15 686.547 1544.91 Z\" fill=\"#f8f8f2\" fill-rule=\"nonzero\" fill-opacity=\"1\" /><path clip-path=\"url(#clip920)\" d=\"M1109.16 1517.37 Q1105.54 1517.37 1103.72 1520.93 Q1101.91 1524.47 1101.91 1531.6 Q1101.91 1538.71 1103.72 1542.27 Q1105.54 1545.82 1109.16 1545.82 Q1112.79 1545.82 1114.6 1542.27 Q1116.42 1538.71 1116.42 1531.6 Q1116.42 1524.47 1114.6 1520.93 Q1112.79 1517.37 1109.16 1517.37 M1109.16 1513.66 Q1114.97 1513.66 1118.02 1518.27 Q1121.1 1522.85 1121.1 1531.6 Q1121.1 1540.33 1118.02 1544.94 Q1114.97 1549.52 1109.16 1549.52 Q1103.35 1549.52 1100.27 1544.94 Q1097.21 1540.33 1097.21 1531.6 Q1097.21 1522.85 1100.27 1518.27 Q1103.35 1513.66 1109.16 1513.66 Z\" fill=\"#f8f8f2\" fill-rule=\"nonzero\" fill-opacity=\"1\" /><path clip-path=\"url(#clip920)\" d=\"M1540.16 1544.91 L1556.48 1544.91 L1556.48 1548.85 L1534.53 1548.85 L1534.53 1544.91 Q1537.19 1542.16 1541.78 1537.53 Q1546.38 1532.88 1547.56 1531.53 Q1549.81 1529.01 1550.69 1527.27 Q1551.59 1525.51 1551.59 1523.82 Q1551.59 1521.07 1549.65 1519.33 Q1547.73 1517.6 1544.62 1517.6 Q1542.43 1517.6 1539.97 1518.36 Q1537.54 1519.13 1534.76 1520.68 L1534.76 1515.95 Q1537.59 1514.82 1540.04 1514.24 Q1542.49 1513.66 1544.53 1513.66 Q1549.9 1513.66 1553.1 1516.35 Q1556.29 1519.03 1556.29 1523.52 Q1556.29 1525.65 1555.48 1527.57 Q1554.69 1529.47 1552.59 1532.07 Q1552.01 1532.74 1548.91 1535.95 Q1545.8 1539.15 1540.16 1544.91 Z\" fill=\"#f8f8f2\" fill-rule=\"nonzero\" fill-opacity=\"1\" /><path clip-path=\"url(#clip920)\" d=\"M1984.86 1518.36 L1973.06 1536.81 L1984.86 1536.81 L1984.86 1518.36 M1983.63 1514.29 L1989.51 1514.29 L1989.51 1536.81 L1994.44 1536.81 L1994.44 1540.7 L1989.51 1540.7 L1989.51 1548.85 L1984.86 1548.85 L1984.86 1540.7 L1969.26 1540.7 L1969.26 1536.19 L1983.63 1514.29 Z\" fill=\"#f8f8f2\" fill-rule=\"nonzero\" fill-opacity=\"1\" /><polyline clip-path=\"url(#clip922)\" style=\"stroke:#f8f8f2; stroke-linecap:round; stroke-linejoin:round; stroke-width:2; stroke-opacity:0.1; fill:none\" points=\"149.191,1422.48 2112.76,1422.48 \"/>\n",
       "<polyline clip-path=\"url(#clip922)\" style=\"stroke:#f8f8f2; stroke-linecap:round; stroke-linejoin:round; stroke-width:2; stroke-opacity:0.1; fill:none\" points=\"149.191,1102.66 2112.76,1102.66 \"/>\n",
       "<polyline clip-path=\"url(#clip922)\" style=\"stroke:#f8f8f2; stroke-linecap:round; stroke-linejoin:round; stroke-width:2; stroke-opacity:0.1; fill:none\" points=\"149.191,782.837 2112.76,782.837 \"/>\n",
       "<polyline clip-path=\"url(#clip922)\" style=\"stroke:#f8f8f2; stroke-linecap:round; stroke-linejoin:round; stroke-width:2; stroke-opacity:0.1; fill:none\" points=\"149.191,463.014 2112.76,463.014 \"/>\n",
       "<polyline clip-path=\"url(#clip922)\" style=\"stroke:#f8f8f2; stroke-linecap:round; stroke-linejoin:round; stroke-width:2; stroke-opacity:0.1; fill:none\" points=\"149.191,143.191 2112.76,143.191 \"/>\n",
       "<polyline clip-path=\"url(#clip920)\" style=\"stroke:#f8f8f2; stroke-linecap:round; stroke-linejoin:round; stroke-width:4; stroke-opacity:1; fill:none\" points=\"149.191,1486.45 149.191,47.2441 \"/>\n",
       "<polyline clip-path=\"url(#clip920)\" style=\"stroke:#f8f8f2; stroke-linecap:round; stroke-linejoin:round; stroke-width:4; stroke-opacity:1; fill:none\" points=\"149.191,1422.48 166.03,1422.48 \"/>\n",
       "<polyline clip-path=\"url(#clip920)\" style=\"stroke:#f8f8f2; stroke-linecap:round; stroke-linejoin:round; stroke-width:4; stroke-opacity:1; fill:none\" points=\"149.191,1102.66 166.03,1102.66 \"/>\n",
       "<polyline clip-path=\"url(#clip920)\" style=\"stroke:#f8f8f2; stroke-linecap:round; stroke-linejoin:round; stroke-width:4; stroke-opacity:1; fill:none\" points=\"149.191,782.837 166.03,782.837 \"/>\n",
       "<polyline clip-path=\"url(#clip920)\" style=\"stroke:#f8f8f2; stroke-linecap:round; stroke-linejoin:round; stroke-width:4; stroke-opacity:1; fill:none\" points=\"149.191,463.014 166.03,463.014 \"/>\n",
       "<polyline clip-path=\"url(#clip920)\" style=\"stroke:#f8f8f2; stroke-linecap:round; stroke-linejoin:round; stroke-width:4; stroke-opacity:1; fill:none\" points=\"149.191,143.191 166.03,143.191 \"/>\n",
       "<path clip-path=\"url(#clip920)\" d=\"M50.9921 1422.93 L80.6679 1422.93 L80.6679 1426.87 L50.9921 1426.87 L50.9921 1422.93 Z\" fill=\"#f8f8f2\" fill-rule=\"nonzero\" fill-opacity=\"1\" /><path clip-path=\"url(#clip920)\" d=\"M103.608 1409.28 L91.8021 1427.73 L103.608 1427.73 L103.608 1409.28 M102.381 1405.2 L108.26 1405.2 L108.26 1427.73 L113.191 1427.73 L113.191 1431.62 L108.26 1431.62 L108.26 1439.76 L103.608 1439.76 L103.608 1431.62 L88.0058 1431.62 L88.0058 1427.1 L102.381 1405.2 Z\" fill=\"#f8f8f2\" fill-rule=\"nonzero\" fill-opacity=\"1\" /><path clip-path=\"url(#clip920)\" d=\"M53.0754 1103.11 L82.7512 1103.11 L82.7512 1107.05 L53.0754 1107.05 L53.0754 1103.11 Z\" fill=\"#f8f8f2\" fill-rule=\"nonzero\" fill-opacity=\"1\" /><path clip-path=\"url(#clip920)\" d=\"M96.8715 1116.01 L113.191 1116.01 L113.191 1119.94 L91.2465 1119.94 L91.2465 1116.01 Q93.9086 1113.25 98.4919 1108.62 Q103.098 1103.97 104.279 1102.63 Q106.524 1100.1 107.404 1098.37 Q108.307 1096.61 108.307 1094.92 Q108.307 1092.16 106.362 1090.43 Q104.441 1088.69 101.339 1088.69 Q99.14 1088.69 96.6863 1089.45 Q94.2558 1090.22 91.478 1091.77 L91.478 1087.05 Q94.3021 1085.91 96.7558 1085.33 Q99.2095 1084.76 101.246 1084.76 Q106.617 1084.76 109.811 1087.44 Q113.006 1090.13 113.006 1094.62 Q113.006 1096.75 112.196 1098.67 Q111.408 1100.57 109.302 1103.16 Q108.723 1103.83 105.621 1107.05 Q102.52 1110.24 96.8715 1116.01 Z\" fill=\"#f8f8f2\" fill-rule=\"nonzero\" fill-opacity=\"1\" /><path clip-path=\"url(#clip920)\" d=\"M101.246 768.636 Q97.6354 768.636 95.8067 772.201 Q94.0012 775.742 94.0012 782.872 Q94.0012 789.978 95.8067 793.543 Q97.6354 797.085 101.246 797.085 Q104.881 797.085 106.686 793.543 Q108.515 789.978 108.515 782.872 Q108.515 775.742 106.686 772.201 Q104.881 768.636 101.246 768.636 M101.246 764.932 Q107.057 764.932 110.112 769.539 Q113.191 774.122 113.191 782.872 Q113.191 791.599 110.112 796.205 Q107.057 800.788 101.246 800.788 Q95.4363 800.788 92.3576 796.205 Q89.3021 791.599 89.3021 782.872 Q89.3021 774.122 92.3576 769.539 Q95.4363 764.932 101.246 764.932 Z\" fill=\"#f8f8f2\" fill-rule=\"nonzero\" fill-opacity=\"1\" /><path clip-path=\"url(#clip920)\" d=\"M96.8715 476.359 L113.191 476.359 L113.191 480.294 L91.2465 480.294 L91.2465 476.359 Q93.9086 473.604 98.4919 468.975 Q103.098 464.322 104.279 462.979 Q106.524 460.456 107.404 458.72 Q108.307 456.961 108.307 455.271 Q108.307 452.516 106.362 450.78 Q104.441 449.044 101.339 449.044 Q99.14 449.044 96.6863 449.808 Q94.2558 450.572 91.478 452.123 L91.478 447.401 Q94.3021 446.266 96.7558 445.688 Q99.2095 445.109 101.246 445.109 Q106.617 445.109 109.811 447.794 Q113.006 450.479 113.006 454.97 Q113.006 457.1 112.196 459.021 Q111.408 460.919 109.302 463.512 Q108.723 464.183 105.621 467.401 Q102.52 470.595 96.8715 476.359 Z\" fill=\"#f8f8f2\" fill-rule=\"nonzero\" fill-opacity=\"1\" /><path clip-path=\"url(#clip920)\" d=\"M103.608 129.985 L91.8021 148.434 L103.608 148.434 L103.608 129.985 M102.381 125.911 L108.26 125.911 L108.26 148.434 L113.191 148.434 L113.191 152.323 L108.26 152.323 L108.26 160.471 L103.608 160.471 L103.608 152.323 L88.0058 152.323 L88.0058 147.809 L102.381 125.911 Z\" fill=\"#f8f8f2\" fill-rule=\"nonzero\" fill-opacity=\"1\" /><g clip-path=\"url(#clip922)\">\n",
       "<image width=\"1964\" height=\"1439\" xlink:href=\"data:image/png;base64,\n",
       "iVBORw0KGgoAAAANSUhEUgAAB6wAAAWfCAYAAAAf3Aj/AAAgAElEQVR4nOzbXW4c6XmG4fqapDSS\n",
       "hQnsNfUSqEUG4g7M3eTcSAJ7Rj9kVw4GTg7sAF2J6VsvdV0reFD4qqq7b3JtAAAAfDfO636vNxzx\n",
       "uD+segMAAAAw16keAAAAAAAAAMCPSbAGAAAAAAAAICFYAwAAAAAAAJAQrAEAAAAAAABICNYAAAAA\n",
       "AAAAJARrAAAAAAAAABKCNQAAAAAAAAAJwRoAAAAAAACAhGANAAAAAAAAQEKwBgAAAAAAACAhWAMA\n",
       "AAAAAACQEKwBAAAAAAAASAjWAAAAAAAAACQEawAAAAAAAAASgjUAAAAAAAAACcEaAAAAAAAAgIRg\n",
       "DQAAAAAAAEBCsAYAAAAAAAAgIVgDAAAAAAAAkBCsAQAAAAAAAEgI1gAAAAAAAAAkBGsAAAAAAAAA\n",
       "EoI1AAAAAAAAAAnBGgAAAAAAAICEYA0AAAAAAABAQrAGAAAAAAAAICFYAwAAAAAAAJAQrAEAAAAA\n",
       "AABICNYAAAAAAAAAJARrAAAAAAAAABKCNQAAAAAAAAAAAAAAAAAAAAAAAAAAAAAAAAAAAAAAAAAA\n",
       "AAAAAAAAAAAAAAAAAAAAAAAAAAAAAAAAAAAAAAAAAAAAAAAAAAAAAAAAAAAAAAAAAAAAAAAAAAAA\n",
       "AAAAAAAAAAAAAAAAAAAAAAAAAAAAAAAAAAAAAAAAAAAAAAAAAAAAAAAAAAAAAAAAAAAAAAAAAAAA\n",
       "AAAAAAAAAAAAAAAAAAAAAAAAAAAAAAAAAAAAAAAAAAAAAAAAAAAAAAAAAAAAAAAAAAAAAAAAAAAA\n",
       "AAAAAAAAAAAAAAAAAAAAAAAAAAAAAAAAAAAAAAAAAAAAAAAAAAAAAAAAAAAAAADww1r1AACAH915\n",
       "3e/1hms97g8+PwLwd016n22bdxoAAMD34lQPAAAAAAAAAODHJFgDAAAAAAAAkBCsAQAAAAAAAEgI\n",
       "1gAAAAAAAAAkBGsAAAAAAAAAEoI1AAAAAAAAAAnBGgAAAAAAAICEYA0AAAAAAABAQrAGAAAAAAAA\n",
       "ICFYAwAAAAAAAJAQrAEAAAAAAABICNYAAAAAAAAAJARrAAAAAAAAABKCNQAAAAAAAAAJwRoAAAAA\n",
       "AACAhGANAAAAAAAAQEKwBgAAAAAAACAhWAMAAAAAAACQEKwBAAAAAAAASAjWAAAAAAAAACQEawAA\n",
       "AAAAAAASgjUAAAAAAAAACcEaAAAAAAAAgIRgDQAAAAAAAEBCsAYAAAAAAAAgIVgDAAAAAAAAkBCs\n",
       "AQAAAAAAAEgI1gAAAAAAAAAkBGsAAAAAAAAAEoI1AAAAAAAAAAnBGgAAAAAAAIDEbT0AAACA/3Fe\n",
       "93u94YjH/WHVG+D/YtK9Nu0+m3Rtt23e9QUAgNfGf1gDAAAAAAAAkBCsAQAAAAAAAEgI1gAAAAAA\n",
       "AAAkBGsAAAAAAAAAEoI1AAAAAAAAAAnBGgAAAAAAAICEYA0AAAAAAABAQrAGAAAAAAAAICFYAwAA\n",
       "AAAAAJAQrAEAAAAAAABICNYAAAAAAAAAJARrAAAAAAAAABKCNQAAAAAAAAAJwRoAAAAAAACAhGAN\n",
       "AAAAAAAAQEKwBgAAAAAAACAhWAMAAAAAAACQEKwBAAAAAAAASAjWAAAAAAAAACQEawAAAAAAAAAS\n",
       "gjUAAAAAAAAACcEaAAAAAAAAgIRgDQAAAAAAAEBCsAYAAAAAAAAgIVgDAAAAAAAAkBCsAQAAAAAA\n",
       "AEgI1gAAAAAAAAAkBGsAAAAAAAAAEoI1AAAAAAAAAAnBGgAAAAAAAICEYA0AAAAAAABAYtUDAADg\n",
       "pZzX/V5veK0e9wffJdi2bdvOp4+j7rPHy6cxZ9e15a+8z/gr718AAF4j/2ENAAAAAAAAQEKwBgAA\n",
       "AAAAACAhWAMAAAAAAACQEKwBAAAAAAAASAjWAAAAAAAAACQEawAAAAAAAAASgjUAAAAAAAAACcEa\n",
       "AAAAAAAAgIRgDQAAAAAAAEBCsAYAAAAAAAAgIVgDAAAAAAAAkBCsAQAAAAAAAEgI1gAAAAAAAAAk\n",
       "BGsAAAAAAAAAEoI1AAAAAAAAAAnBGgAAAAAAAICEYA0AAAAAAABAQrAGAAAAAAAAICFYAwAAAAAA\n",
       "AJAQrAEAAAAAAABICNYAAAAAAAAAJARrAAAAAAAAABKCNQAAAAAAAAAJwRoAAAAAAACAhGANAAAA\n",
       "AAAAQEKwBgAAAAAAACAhWAMAAAAAAACQEKwBAAAAAAAASAjWAAAAAAAAACQEawAAAAAAAAASgjUA\n",
       "AAAAAAAAiVUPAABgjvO63+sNhywfd1/MPusoPO4PYw7D+fRx1sUddhY8Fxhp2n02zaDnwuPl05yx\n",
       "vKhpn8snfRYDAP75/Ic1AAAAAAAAAAnBGgAAAAAAAICEYA0AAAAAAABAQrAGAAAAAAAAICFYAwAA\n",
       "AAAAAJAQrAEAAAAAAABICNYAAAAAAAAAJARrAAAAAAAAABKCNQAAAAAAAAAJwRoAAAAAAACAhGAN\n",
       "AAAAAAAAQEKwBgAAAAAAACAhWAMAAAAAAACQEKwBAAAAAAAASAjWAAAAAAAAACQEawAAAAAAAAAS\n",
       "gjUAAAAAAAAACcEaAAAAAAAAgIRgDQAAAAAAAEBCsAYAAAAAAAAgIVgDAAAAAAAAkBCsAQAAAAAA\n",
       "AEgI1gAAAAAAAAAkBGsAAAAAAAAAEoI1AAAAAAAAAAnBGgAAAAAAAICEYA0AAAAAAABAQrAGAAAA\n",
       "AAAAICFYAwAAAAAAAJAQrAEAAAAAAABICNYAAAAAAAAAJFY9AAB+VOd1v9cbrraGfWTY51zabdu2\n",
       "x/1h2AWe43z6OOYwrGH32X651BOOGXR9p52FSdd22wae3UGmnd190ueFSVu3eZ9tJn0un3ZtAQDg\n",
       "Gv7DGgAAAAAAAICEYA0AAAAAAABAQrAGAAAAAAAAICFYAwAAAAAAAJAQrAEAAAAAAABICNYAAAAA\n",
       "AAAAJARrAAAAAAAAABKCNQAAAAAAAAAJwRoAAAAAAACAhGANAAAAAAAAQEKwBgAAAAAAACAhWAMA\n",
       "AAAAAACQEKwBAAAAAAAASAjWAAAAAAAAACQEawAAAAAAAAASgjUAAAAAAAAACcEaAAAAAAAAgIRg\n",
       "DQAAAAAAAEBCsAYAAAAAAAAgIVgDAAAAAAAAkBCsAQAAAAAAAEgI1gAAAAAAAAAkBGsAAAAAAAAA\n",
       "EoI1AAAAAAAAAAnBGgAAAAAAAICEYA0AAAAAAABAQrAGAAAAAAAAICFYAwAAAAAAAJAQrAEAAAAA\n",
       "AABICNYAAAAAAAAAJARrAAAAAAAAABKrHgAA/yjn08e93nDIPmvuKMtHnBcz7dw6Cwy0pp3bNezv\n",
       "oPdLveDV2oe9I0bda6dh99nFffZS9mnXdtJ9NuwZ9rg/DLq423Ze92Mu8LRrCwCvwbBvPAAAAAAA\n",
       "AAC8FoI1AAAAAAAAAAnBGgAAAAAAAICEYA0AAAAAAABAQrAGAAAAAAAAICFYAwAAAAAAAJAQrAEA\n",
       "AAAAAABICNYAAAAAAAAAJARrAAAAAAAAABKCNQAAAAAAAAAJwRoAAAAAAACAhGANAAAAAAAAQEKw\n",
       "BgAAAAAAACAhWAMAAAAAAACQEKwBAAAAAAAASAjWAAAAAAAAACQEawAAAAAAAAASgjUAAAAAAAAA\n",
       "CcEaAAAAAAAAgIRgDQAAAAAAAEBCsAYAAAAAAAAgIVgDAAAAAAAAkBCsAQAAAAAAAEgI1gAAAAAA\n",
       "AAAkBGsAAAAAAAAAEoI1AAAAAAAAAAnBGgAAAAAAAICEYA0AAAAAAABAQrAGAAAAAAAAICFYAwAA\n",
       "AAAAAJAQrAEAAAAAAABIrHoAAPyjnNf9Xm/g+7BubuoJh+yXSz3hamvN+vi47u7qCVfbv32rJxyz\n",
       "hv3t66yjO8s+7PU7ae+w99k26NJOsz8/1RMOWadh74hJz4VhJn3OfdwffFoAAIgM+wYBAAAAAAAA\n",
       "wGshWAMAAAAAAACQEKwBAAAAAAAASAjWAAAAAAAAACQEawAAAAAAAAASgjUAAAAAAAAACcEaAAAA\n",
       "AAAAgIRgDQAAAAAAAEBCsAYAAAAAAAAgIVgDAAAAAAAAkBCsAQAAAAAAAEgI1gAAAAAAAAAkBGsA\n",
       "AAAAAAAAEoI1AAAAAAAAAAnBGgAAAAAAAICEYA0AAAAAAABAQrAGAAAAAAAAICFYAwAAAAAAAJAQ\n",
       "rAEAAAAAAABICNYAAAAAAAAAJARrAAAAAAAAABKCNQAAAAAAAAAJwRoAAAAAAACAhGANAAAAAAAA\n",
       "QEKwBgAAAAAAACAhWAMAAAAAAACQEKwBAAAAAAAASAjWAAAAAAAAACQEawAAAAAAAAASgjUAAAAA\n",
       "AAAACcEaAAAAAAAAgMSqBwD8aM7rfq83XOtxf/CeeEHn08cxZ4GXtU6D/oZwn3Vs191dPeF6a9gj\n",
       "d9ZRmHV2b2/qBcdcLvWCYybda8+zru0+6T7btm3d3dYTrvf8XC84ZH+atXeSNewdcfn6tZ5wtcfL\n",
       "p0EvCN8nX9K4szDod6Zt81sTAH/foF9HAQAAAAAAAHhNBGsAAAAAAAAAEoI1AAAAAAAAAAnBGgAA\n",
       "AAAAAICEYA0AAAAAAABAQrAGAAAAAAAAICFYAwAAAAAAAJAQrAEAAAAAAABICNYAAAAAAAAAJARr\n",
       "AAAAAAAAABKCNQAAAAAAAAAJwRoAAAAAAACAhGANAAAAAAAAQEKwBgAAAAAAACAhWAMAAAAAAACQ\n",
       "EKwBAAAAAAAASAjWAAAAAAAAACQEawAAAAAAAAASgjUAAAAAAAAACcEaAAAAAAAAgIRgDQAAAAAA\n",
       "AEBCsAYAAAAAAAAgIVgDAAAAAAAAkBCsAQAAAAAAAEgI1gAAAAAAAAAkBGsAAAAAAAAAEoI1AAAA\n",
       "AAAAAAnBGgAAAAAAAICEYA0AAAAAAABAQrAGAAAAAAAAICFYAwAAAAAAAJBY9QDg+3Ne93u9ge/D\n",
       "4/4w6j1xPn0cdXbXadDfjZ1u6gXHPD/VC44ZdBbWzW094ZhBT7H17qd6wjHPl3rBMYPOwrCx27qd\n",
       "9VzYv36tJ1zvZtr797lecMwadK9dZj1z92F7J51d15b/NukZtm3bH5/+dczgab8tPF4+jbm2APC/\n",
       "mfPrKAAAAAAAAACvimANAAAAAAAAQEKwBgAAAAAAACAhWAMAAAAAAACQEKwBAAAAAAAASAjWAAAA\n",
       "AAAAACQEawAAAAAAAAASgjUAAAAAAAAACcEaAAAAAAAAgIRgDQAAAAAAAEBCsAYAAAAAAAAgIVgD\n",
       "AAAAAAAAkBCsAQAAAAAAAEgI1gAAAAAAAAAkBGsAAAAAAAAAEoI1AAAAAAAAAAnBGgAAAAAAAICE\n",
       "YA0AAAAAAABAQrAGAAAAAAAAICFYAwAAAAAAAJAQrAEAAAAAAABICNYAAAAAAAAAJARrAAAAAAAA\n",
       "ABKCNQAAAAAAAAAJwRoAAAAAAACAhGANAAAAAAAAQEKwBgAAAAAAACAhWAMAAAAAAACQEKwBAAAA\n",
       "AAAASAjWAAAAAAAAACQEawAAAAAAAAASqx4A8P91Xvd7veGQNejRu8+6tKOu7bZt6/a2nnC95+d6\n",
       "wTE3N/WCQ9bdXT3haus07O8dBz0X1ps552Dbtm1bw87CzaC9l0u94JhJ77Ntm7V32FnY//yXesIh\n",
       "6927esLV9l9/rSccM+f1+5tvT/WCq+3TngvfvtUTrjfs+++0s7AGfS6fZtpZeNwfHAYA/sagX20A\n",
       "AAAAAAAAeE0EawAAAAAAAAASgjUAAAAAAAAACcEaAAAAAAAAgIRgDQAAAAAAAEBCsAYAAAAAAAAg\n",
       "IVgDAAAAAAAAkBCsAQAAAAAAAEgI1gAAAAAAAAAkBGsAAAAAAAAAEoI1AAAAAAAAAAnBGgAAAAAA\n",
       "AICEYA0AAAAAAABAQrAGAAAAAAAAICFYAwAAAAAAAJAQrAEAAAAAAABICNYAAAAAAAAAJARrAAAA\n",
       "AAAAABKCNQAAAAAAAAAJwRoAAAAAAACAhGANAAAAAAAAQEKwBgAAAAAAACAhWAMAAAAAAACQEKwB\n",
       "AAAAAAAASAjWAAAAAAAAACQEawAAAAAAAAASgjUAAAAAAAAACcEaAAAAAAAAgIRgDQAAAAAAAEBC\n",
       "sAYAAAAAAAAgIVgDAAAAAAAAkFj1AL4f53W/1xtes8f9Ycz9Nu4srDGX9jf7oMs77NquYXtHubmt\n",
       "Fxxy+ultPeHVWu/f1ROOWYP+PvN20NaJbm7qBVfbf/5dPeGQ9e2pnnDM86VecL1p13aaSWfh+ble\n",
       "cMj+6+d6wiFr0Dvi8ssv9YRjJn3/nbR127b927d6wiH7Zc4z9/HyadSPC+fTx2GHd9ZcXs6k38uB\n",
       "l+dXMQAAAAAAAAASgjUAAAAAAAAACcEaAAAAAAAAgIRgDQAAAAAAAEBCsAYAAAAAAAAgIVgDAAAA\n",
       "AAAAkBCsAQAAAAAAAEgI1gAAAAAAAAAkBGsAAAAAAAAAEoI1AAAAAAAAAAnBGgAAAAAAAICEYA0A\n",
       "AAAAAABAQrAGAAAAAAAAICFYAwAAAAAAAJAQrAEAAAAAAABICNYAAAAAAAAAJARrAAAAAAAAABKC\n",
       "NQAAAAAAAAAJwRoAAAAAAACAhGANAAAAAAAAQEKwBgAAAAAAACAhWAMAAAAAAACQEKwBAAAAAAAA\n",
       "SAjWAAAAAAAAACQEawAAAAAAAAASgjUAAAAAAAAACcEaAAAAAAAAgIRgDQAAAAAAAEBCsAYAAAAA\n",
       "AAAgIVgDAAAAAAAAkBCsAQAAAAAAAEisesBR53W/1xuOeNwfxl3jKaadBV7Qcpvxm3Ua9ndYg87u\n",
       "6d27esIx+6xXxHo/6Pre3dULjrm7rRdc7+2besEh+9tZZ2Ef9Mx9/jDrLJy+PtcTDtnvbuoJVzv9\n",
       "8rWecMj+Zs613bZtW1/mnN3Tn/6jnnDMu5/qBcf8+Zd6wfW+DnsufP5ST3i19m9P9YRD9uc5z9zt\n",
       "Mmjrtm375VJPeLX8tg/wzzPsl30AAAAAAAAAXgvBGgAAAAAAAICEYA0AAAAAAABAQrAGAAAAAAAA\n",
       "ICFYAwAAAAAAAJAQrAEAAAAAAABICNYAAAAAAAAAJARrAAAAAAAAABKCNQAAAAAAAAAJwRoAAAAA\n",
       "AACAhGANAAAAAAAAQEKwBgAAAAAAACAhWAMAAAAAAACQEKwBAAAAAAAASAjWAAAAAAAAACQEawAA\n",
       "AAAAAAASgjUAAAAAAAAACcEaAAAAAAAAgIRgDQAAAAAAAEBCsAYAAAAAAAAgIVgDAAAAAAAAkBCs\n",
       "AQAAAAAAAEgI1gAAAAAAAAAkBGsAAAAAAAAAEoI1AAAAAAAAAAnBGgAAAAAAAICEYA0AAAAAAABA\n",
       "QrAGAAAAAAAAICFYAwAAAAAAAJAQrAEAAAAAAABICNYAAAAAAAAAJG7rAUc97g+r3vBandf9Xm84\n",
       "wll4OefTx1FnYa1ZR2HfR13eWaZd2zXn78b25+d6wiGnDx/qCce8vasXXO/9u3rBMYPeEZffva0n\n",
       "HHJ5O+urxNP7OXsvb+a8H7Zt29Zl1vv3cjvnubD9/k294JBpZ+HuL0/1hKut/ed6wiHry7d6wjFv\n",
       "B91rN8PeEYMeC/uXL/WEQ/bLrO9o6zTn7E773WbQTwvbtg27voOmAkw37HUGAAAAAAAAwGshWAMA\n",
       "AAAAAACQEKwBAAAAAAAASAjWAAAAAAAAACQEawAAAAAAAAASgjUAAAAAAAAACcEaAAAAAAAAgIRg\n",
       "DQAAAAAAAEBCsAYAAAAAAAAgIVgDAAAAAAAAkBCsAQAAAAAAAEgI1gAAAAAAAAAkBGsAAAAAAAAA\n",
       "EoI1AAAAAAAAAAnBGgAAAAAAAICEYA0AAAAAAABAQrAGAAAAAAAAICFYAwAAAAAAAJAQrAEAAAAA\n",
       "AABICNYAAAAAAAAAJARrAAAAAAAAABKCNQAAAAAAAAAJwRoAAAAAAACAhGANAAAAAAAAQEKwBgAA\n",
       "AAAAACAhWAMAAAAAAACQEKwBAAAAAAAASAjWAAAAAAAAACQEawAAAAAAAAASgjUAAAAAAAAACcEa\n",
       "AAAAAAAAgMSqB8CP4nz6uNcbrrXWsEeDvS9mvXlTTzjmcqkXHLJub+sJ17u9qRccsj58qCccsv/h\n",
       "53rC1S4/3dUTDrm8mXN2n97P2bpt27ad5rzPtm3bPv9+zvW9+VovOObLv8w6C/ugz2K3n8d8hdi2\n",
       "bdtOT7P2TvLh3z7XE163Qd8jbv/9l3rCMX/6z3rB1fZff60nHLI/P9cTjnmec5/tz0/1hGOmvX73\n",
       "QWdhn3VxHy+f5nzQ5UWd1/2ow/u4Pzi7+A9rAAAAAAAAABqCNQAAAAAAAAAJwRoAAAAAAACAhGAN\n",
       "AAAAAAAAQEKwBgAAAAAAACAhWAMAAAAAAACQEKwBAAAAAAAASAjWAAAAAAAAACQEawAAAAAAAAAS\n",
       "gjUAAAAAAAAACcEaAAAAAAAAgIRgDQAAAAAAAEBCsAYAAAAAAAAgIVgDAAAAAAAAkBCsAQAAAAAA\n",
       "AEgI1gAAAAAAAAAkBGsAAAAAAAAAEoI1AAAAAAAAAAnBGgAAAAAAAICEYA0AAAAAAABAQrAGAAAA\n",
       "AAAAICFYAwAAAAAAAJAQrAEAAAAAAABICNYA/Bf79rJj2XmXcfhb+1C7Dt1lu7ttxzEIQhAoQiID\n",
       "xIhpZRDG3YJ77B4wZFADJCRuAJFEASXhkAQTO+6urqqu2oe1mDBguD4j6/W/eJ4reLW09jr9qgAA\n",
       "AAAAACIEawAAAAAAAAAiBGsAAAAAAAAAIgRrAAAAAAAAACIEawAAAAAAAAAiBGsAAAAAAAAAIgRr\n",
       "AAAAAAAAACIEawAAAAAAAAAihvQA+P/iYng+pTfMNSyK/S3Lcple0OdwSC+YbTg+Tk/oMhyt0xP6\n",
       "7AudC++dpyf0Oa117h4+OEtPmG1a1brmvvt4k54w2+6k1v13+7jWq8S0Si+Y7+5ZekGfYZ9e0KnQ\n",
       "qbvYpRf0Of48vaDPVOiWdvZZnefG1lprU5nX39Zaa+u3dS5k66ttekKXxWe/TU+Y777WsZ12xW4S\n",
       "hzG9YLbx7j49oc9Y59i21to0FrqnFbuftaHQg25r7XJ8WWsw8LWq9VUMAAAAAAAAgAdDsAYAAAAA\n",
       "AAAgQrAGAAAAAAAAIEKwBgAAAAAAACBCsAYAAAAAAAAgQrAGAAAAAAAAIEKwBgAAAAAAACBCsAYA\n",
       "AAAAAAAgQrAGAAAAAAAAIEKwBgAAAAAAACBCsAYAAAAAAAAgQrAGAAAAAAAAIEKwBgAAAAAAACBC\n",
       "sAYAAAAAAAAgQrAGAAAAAAAAIEKwBgAAAAAAACBCsAYAAAAAAAAgQrAGAAAAAAAAIEKwBgAAAAAA\n",
       "ACBCsAYAAAAAAAAgQrAGAAAAAAAAIEKwBgAAAAAAACBCsAYAAAAAAAAgQrAGAAAAAAAAIEKwBgAA\n",
       "AAAAACBCsAYAAAAAAAAgQrAGAAAAAAAAIEKwBgAAAAAAACBCsAYAAAAAAAAgQrAGAAAAAAAAIEKw\n",
       "BgAAAAAAACBiSA/gm+NieD6lNzxoQ52f27BYpic8aMOq0PEtdN621srtHU5O0hNmG568n57QZTo5\n",
       "Sk/oMm5W6Qmz7T44Tk/ocv3pOj1htu2jWtewu2fpBQ/X/rTWY/n06V16QpfDTZ3rwtHnde4PrbV2\n",
       "2NQ6d08+q3PdXdX6mbX3/3mXntBlsa9z7q6uax3b5ds6J+/w5iY9oc9U57xtrbXpzVV6wmzju3fp\n",
       "CX1qnQq1isQ4phd0mYpdFyq5HF9WOnOhJP9hDQAAAAAAAECEYA0AAAAAAABAhGANAAAAAAAAQIRg\n",
       "DQAAAAAAAECEYA0AAAAAAABAhGANAAAAAAAAQIRgDQAAAAAAAECEYA0AAAAAAABAhGANAAAAAAAA\n",
       "QIRgDQAAAAAAAECEYA0AAAAAAABAhGANAAAAAAAAQIRgDQAAAAAAAECEYA0AAAAAAABAhGANAAAA\n",
       "AAAAQIRgDQAAAAAAAECEYA0AAAAAAABAhGANAAAAAAAAQIRgDQAAAAAAAECEYA0AAAAAAABAhGAN\n",
       "AAAAAAAAQIRgDQAAAAAAAECEYA0AAAAAAABAhGANAAAAAAAAQIRgDQAAAAAAAECEYA0AAAAAAABA\n",
       "hGANAAAAAAAAQIRgDQAAAAAAAECEYA0AAAAAAABAhGANAAAAAAAAQIRgDQAAAAAAAEDEKj2Ab47L\n",
       "6dWQ3vCQXQwvpvSG2aYxvaDLNNU5tK21NizW6Qnz1Tq0bXF+np7Qp9BvbToudN621sZNrb3vPjlJ\n",
       "T5jtsKn1947vntV5vNkVu4QdjtIL+uwfH9ITZjv++DY9oct3nn2RntDlfl/nNfjXT4tdGPbL9IIu\n",
       "N8fH6QmzbX5T69i+/d1az2JH13VefI6Oaj2LbdIDOqyu36Un9Cn2LaQt6py7i7PT9IQu402xc7fO\n",
       "Kxpft2rXsUIuhuelDq42RWv+wxoAAAAAAACAEMEaAAAAAAAAgAjBGgAAAAAAAIAIwRoAAAAAAACA\n",
       "CMEaAAAAAAAAgAjBGgAAAAAAAIAIwRoAAAAAAACACMEaAAAAAAAAgAjBGgAAAAAAAIAIwRoAAAAA\n",
       "AACACMEaAAAAAAAAgAjBGgAAAAAAAIAIwRoAAAAAAACACMEaAAAAAAAAgAjBGgAAAAAAAIAIwRoA\n",
       "AAAAAACACMEaAAAAAAAAgAjBGgAAAAAAAIAIwRoAAAAAAACACMEaAAAAAAAAgAjBGgAAAAAAAIAI\n",
       "wRoAAAAAAACACMEaAAAAAAAAgAjBGgAAAAAAAIAIwRoAAAAAAACACMEaAAAAAAAAgAjBGgAAAAAA\n",
       "AIAIwRoAAAAAAACACMEaAAAAAAAAgAjBGgAAAAAAAIAIwRoAAAAAAACAiFV6wEN3MTyf0hvmupxe\n",
       "DekN8FUsNsfpCV2m/T49YbbFZpOe0Gc8pBf0OTpKL5ht2qzTE7rsH9fau7ob0xNmu/601uPj9r30\n",
       "gvm2z2pdw44/vE1P6PJnn/wyPWG2odhT+elym57QZTsu0xNm+87jL9ITuvz9v343PaHL8oM65+7h\n",
       "utY7z93TWheycV1n7/o6vaDPMJb5LNbaSVtt2o0AACAASURBVLH339u79IIuw+Oz9ITZpqtiP7Rq\n",
       "xjrvv9NU6BoG/4vWQ0X+wxoAAAAAAACACMEaAAAAAAAAgAjBGgAAAAAAAIAIwRoAAAAAAACACMEa\n",
       "AAAAAAAAgAjBGgAAAAAAAIAIwRoAAAAAAACACMEaAAAAAAAAgAjBGgAAAAAAAIAIwRoAAAAAAACA\n",
       "CMEaAAAAAAAAgAjBGgAAAAAAAIAIwRoAAAAAAACACMEaAAAAAAAAgAjBGgAAAAAAAIAIwRoAAAAA\n",
       "AACACMEaAAAAAAAAgAjBGgAAAAAAAIAIwRoAAAAAAACACMEaAAAAAAAAgAjBGgAAAAAAAIAIwRoA\n",
       "AAAAAACACMEaAAAAAAAAgAjBGgAAAAAAAIAIwRoAAAAAAACACMEaAAAAAAAAgAjBGgAAAAAAAIAI\n",
       "wRoAAAAAAACACMEaAAAAAAAAgAjBGgAAAAAAAIAIwRoAAAAAAACAiFV6wEN3Ob0a0hvmuhieT+kN\n",
       "PSod22qmqdSp0Np+l17QZbHZpCfMV+1cGMf0gj6bo/SC+YqdC+O61t/kbc/rPJLtT9IL+hxO6py7\n",
       "w9k+PaHLo5O79IQu3z//j/SE2d5f3aYndHm6vE5P6PLz7YfpCbMdplr3s2//8ev0hC5/8/PvpyfM\n",
       "dn1a6B2itbbf1XpdXxS6Be9Pa10XDid1nnOHfa3f2eLqJj2hz+GQXjDbtC90UWitDctlekKXaV/o\n",
       "HW1R65o7VfsuBgXpaF+fWldcAAAAAAAAAB4MwRoAAAAAAACACMEaAAAAAAAAgAjBGgAAAAAAAIAI\n",
       "wRoAAAAAAACACMEaAAAAAAAAgAjBGgAAAAAAAIAIwRoAAAAAAACACMEaAAAAAAAAgAjBGgAAAAAA\n",
       "AIAIwRoAAAAAAACACMEaAAAAAAAAgAjBGgAAAAAAAIAIwRoAAAAAAACACMEaAAAAAAAAgAjBGgAA\n",
       "AAAAAIAIwRoAAAAAAACACMEaAAAAAAAAgAjBGgAAAAAAAIAIwRoAAAAAAACACMEaAAAAAAAAgAjB\n",
       "GgAAAAAAAIAIwRoAAAAAAACACMEaAAAAAAAAgAjBGgAAAAAAAIAIwRoAAAAAAACACMEaAAAAAAAA\n",
       "gAjBGgAAAAAAAIAIwRoAAAAAAACACMEaAAAAAAAAgAjBGgAAAAAAAICIVXoA3xyX06shvaHHxeLF\n",
       "lN7QYxhKHd5iah3baapz6g6LYn/XtD5KL+hzVOc2vLi9T0/oMi1P0xO63D2p81s7HKcX9Fne1blH\n",
       "jK3O/aG11k7Xu/SELvupzu/sbbEf2serN+kJXf7i9KfpCbP93c330hO6/MHxb9ITunznyW/TE2b7\n",
       "0d06PaHLdlHrOra+WqYnzHZY1Xm2aa21qdC3kGlZZ2trrbWzk/SCPlc36QWzLU5rvU+ON3WObWut\n",
       "tULXBajqYnhe6gNDpTZVaWs1db7aAAAAAAAAAPCgCNYAAAAAAAAARAjWAAAAAAAAAEQI1gAAAAAA\n",
       "AABECNYAAAAAAAAARAjWAAAAAAAAAEQI1gAAAAAAAABECNYAAAAAAAAARAjWAAAAAAAAAEQI1gAA\n",
       "AAAAAABECNYAAAAAAAAARAjWAAAAAAAAAEQI1gAAAAAAAABECNYAAAAAAAAARAjWAAAAAAAAAEQI\n",
       "1gAAAAAAAABECNYAAAAAAAAARAjWAAAAAAAAAEQI1gAAAAAAAABECNYAAAAAAAAARAjWAAAAAAAA\n",
       "AEQI1gAAAAAAAABECNYAAAAAAAAARAjWAAAAAAAAAEQI1gAAAAAAAABECNYAAAAAAAAARAjWAAAA\n",
       "AAAAAEQI1gAAAAAAAABECNYAAAAAAAAARAjWAAAAAAAAAEQI1gAAAAAAAABErNID4CubpvSCLpXW\n",
       "DsOQntCn2LnQxkJ7q/1Z0zimF/S5eZdeMNvu9z9KT+gyrmudvEOhU3exSy/os322T0+Y7cmTm/SE\n",
       "Lp+cXaUndPnh+T+mJ8x2N9Z6TfvTo/v0hC5vpzrXhZ+s36QnPGhX2016wmyrVaGHhdba4bzWA8Nh\n",
       "s0xPmG13Vut9fX9a59iuvzykJ3SZVnWObWutDas672jTttY1t9x3sVKXsVJjy33TrXTmXrTnleaW\n",
       "czHUOb6X06taP7RC6jwpAAAAAAAAAPCgCNYAAAAAAAAARAjWAAAAAAAAAEQI1gAAAAAAAABECNYA\n",
       "AAAAAAAARAjWAAAAAAAAAEQI1gAAAAAAAABECNYAAAAAAAAARAjWAAAAAAAAAEQI1gAAAAAAAABE\n",
       "CNYAAAAAAAAARAjWAAAAAAAAAEQI1gAAAAAAAABECNYAAAAAAAAARAjWAAAAAAAAAEQI1gAAAAAA\n",
       "AABECNYAAAAAAAAARAjWAAAAAAAAAEQI1gAAAAAAAABECNYAAAAAAAAARAjWAAAAAAAAAEQI1gAA\n",
       "AAAAAABECNYAAAAAAAAARAjWAAAAAAAAAEQI1gAAAAAAAABECNYAAAAAAAAARAjWAAAAAAAAAEQI\n",
       "1gAAAAAAAABECNYAAAAAAAAARAjWAAAAAAAAAEQI1gAAAAAAAABErNID+Oa4GJ5P6Q0P2bBYpifM\n",
       "No2H9IQuw2JIT+gzjukF803F/q5pWWzvyXF6wWzDvtB521pb3tfaO4x1zt39abFrbiHTVOvYbsda\n",
       "rxL/cPuH6Qmz/fDsR+kJXR4vHqUndLk+XKcnzPY76y/SE7psp1rXhUfr+/SE2darWu9odzcn6Qld\n",
       "xnV6wXxH17U+3Ux1PoW0aVPrGra4uk1P6FPpnXKq9Tsb1oUuYq21NtY5vtN+l57QZar0zbGYy+lV\n",
       "qRf2i8WLOj+01trl+LLU8eXrUefrKAAAAAAAAAAPimANAAAAAAAAQIRgDQAAAAAAAECEYA0AAAAA\n",
       "AABAhGANAAAAAAAAQIRgDQAAAAAAAECEYA0AAAAAAABAhGANAAAAAAAAQIRgDQAAAAAAAECEYA0A\n",
       "AAAAAABAhGANAAAAAAAAQIRgDQAAAAAAAECEYA0AAAAAAABAhGANAAAAAAAAQIRgDQAAAAAAAECE\n",
       "YA0AAAAAAABAhGANAAAAAAAAQIRgDQAAAAAAAECEYA0AAAAAAABAhGANAAAAAAAAQIRgDQAAAAAA\n",
       "AECEYA0AAAAAAABAhGANAAAAAAAAQIRgDQAAAAAAAECEYA0AAAAAAABAhGANAAAAAAAAQIRgDQAA\n",
       "AAAAAECEYA0AAAAAAABAhGANAAAAAAAAQIRgDQAAAAAAAECEYA0AAAAAAABAxCo94KG7WLyY0hvm\n",
       "uhxfDukND9nFWOdcGIZip8JU5tC21lqbCu0d1sVuE2OdY9taa21/SC+YbSh2bA+bWn+Tt9ilF8w3\n",
       "jOkFfRY3y/SE2d7dr9MTujzd3KQndJlaneebv735XnpCl7989OP0hC4fLeo832ynOltba+1Xuw/S\n",
       "E7qcr+/SE2Y729ynJ3S5Wp6lJ3Q5/XV6wXz7kzr3s9Za27xJL3jAFrXeedq6znN5u6v1/jvt9ukJ\n",
       "Xaaxzktlpa0VXU6vytzULobnpS4MWg8VFXuyAQAAAAAAAOChEKwBAAAAAAAAiBCsAQAAAAAAAIgQ\n",
       "rAEAAAAAAACIEKwBAAAAAAAAiBCsAQAAAAAAAIgQrAEAAAAAAACIEKwBAAAAAAAAiBCsAQAAAAAA\n",
       "AIgQrAEAAAAAAACIEKwBAAAAAAAAiBCsAQAAAAAAAIgQrAEAAAAAAACIEKwBAAAAAAAAiBCsAQAA\n",
       "AAAAAIgQrAEAAAAAAACIEKwBAAAAAAAAiBCsAQAAAAAAAIgQrAEAAAAAAACIEKwBAAAAAAAAiBCs\n",
       "AQAAAAAAAIgQrAEAAAAAAACIEKwBAAAAAAAAiBCsAQAAAAAAAIgQrAEAAAAAAACIEKwBAAAAAAAA\n",
       "iBCsAQAAAAAAAIgQrAEAAAAAAACIEKwBAAAAAAAAiBCsAQAAAAAAAIgQrAEAAAAAAACIWKUHPHjT\n",
       "lF4w28XwvM7Y1trl9GpIb+hS6FxoQ61DW82wXKYnPFzjIb2gz7LO340tbrfpCV2W2016Qpf1bZ3r\n",
       "7rCvs7W11pb3dfbe/fosPaHLT9/7MD2hy5+c/TI9YbbVYkxP6PJ6XKcndHlW6Phup1qv7P9082l6\n",
       "Qpd/eV3nOvb5l4/SE7qc/Hut68LhJL1gvvVNoW8LrbXlXZ13tGFXZ2trrbVDtb117r+lvuG11tpY\n",
       "6Ni21qbDPj1htmFR57tNa61Nxc7di1aoR1T7Xl7nyLbWarWpcl2qkFpXXAAAAAAAAAAeDMEaAAAA\n",
       "AAAAgAjBGgAAAAAAAIAIwRoAAAAAAACACMEaAAAAAAAAgAjBGgAAAAAAAIAIwRoAAAAAAACACMEa\n",
       "AAAAAAAAgAjBGgAAAAAAAIAIwRoAAAAAAACACMEaAAAAAAAAgAjBGgAAAAAAAIAIwRoAAAAAAACA\n",
       "CMEaAAAAAAAAgAjBGgAAAAAAAIAIwRoAAAAAAACACMEaAAAAAAAAgAjBGgAAAAAAAIAIwRoAAAAA\n",
       "AACACMEaAAAAAAAAgAjBGgAAAAAAAIAIwRoAAAAAAACACMEaAAAAAAAAgAjBGgAAAAAAAIAIwRoA\n",
       "AAAAAACACMEaAAAAAAAAgAjBGgAAAAAAAIAIwRoAAAAAAACACMEaAAAAAAAAgAjBGgAAAAAAAIAI\n",
       "wRoAAAAAAACAiCE9AL6qi8WLKb2hy1Ro7lDr0jAsiv3tzVBn72JzlJ7QZ71KL+gyPH2SnjDfeple\n",
       "0GX7rfP0hC7vntX5rd1+XOca1lpr17+bXjDf/tGYntBl/eG79IQuf/Txf6UnzPb6/iQ9oct33/s8\n",
       "PaHLn5//Ij1htp/efis9ocvPrp+mJ3T5+W/rPIvdvq51XXj04zrPNq21tix0Szv/t0N6Qpf1zT49\n",
       "Ybaj/7xOT+gyfP5lekKfQ51n3enuLj2hy3h3n57QqdA30mL5ZNrv0hP6FPoGfTm+rDMWiqr1xREA\n",
       "AAAAAACAB0OwBgAAAAAAACBCsAYAAAAAAAAgQrAGAAAAAAAAIEKwBgAAAAAAACBCsAYAAAAAAAAg\n",
       "QrAGAAAAAAAAIEKwBgAAAAAAACBCsAYAAAAAAAAgQrAGAAAAAAAAIEKwBgAAAAAAACBCsAYAAAAA\n",
       "AAAgQrAGAAAAAAAAIEKwBgAAAAAAACBCsAYAAAAAAAAgQrAGAAAAAAAAIEKwBgAAAAAAACBCsAYA\n",
       "AAAAAAAgQrAGAAAAAAAAIEKwBgAAAAAAACBCsAYAAAAAAAAgQrAGAAAAAAAAIEKwBgAAAAAAACBC\n",
       "sAYAAAAAAAAgQrAGAAAAAAAAIEKwBgAAAAAAACBCsAYAAAAAAAAgQrAGAAAAAAAAIEKwBgAAAAAA\n",
       "ACBCsAYAAAAAAAAgQrAGAAAAAAAAIGJ1MTyf0iN6XE6vhvQGviGmUqduqXP3YnhR6+AulukFXab9\n",
       "Lj1htmlX6++ahs0mPaHP/Ta9oMNRekCX1eu79IQuR5s617HdozK3s9Zaa+c/q7P3/v1a19y7u9P0\n",
       "hC4/2n6SnjDb8Wml+0Nrn1/9XnpCl5+cfZSeMNuXb8/SE7rsfnOcntBl2Ne5Rxy9rXWPWN2mF/Q5\n",
       "elvnFXj9ts77ZGutLe8O6QnzFfvO1I6Lvf/e1nlHmw6FztvWWqtzO/sfde5plb7hVXQ5vix39kK1\n",
       "plpJnbsDAAAAAAAAAA+KYA0AAAAAAABAhGANAAAAAAAAQIRgDQAAAAAAAECEYA0AAAAAAABAhGAN\n",
       "AAAAAAAAQIRgDQAAAAAAAECEYA0AAAAAAABAhGANAAAAAAAAQIRgDQAAAAAAAECEYA0AAAAAAABA\n",
       "hGANAAAAAAAAQIRgDQAAAAAAAECEYA0AAAAAAABAhGANAAAAAAAAQIRgDQAAAAAAAECEYA0AAAAA\n",
       "AABAhGANAAAAAAAAQIRgDQAAAAAAAECEYA0AAAAAAABAhGANAAAAAAAAQIRgDQAAAAAAAECEYA0A\n",
       "AAAAAABAhGANAAAAAAAAQIRgDQAAAAAAAECEYA0AAAAAAABAhGANAAAAAAAAQIRgDQAAAAAAAECE\n",
       "YA0AAAAAAABAhGANAAAAAAAAQIRgDQAAAAAAAEDEkB4AX9XF4sWU3tBlKjR3qHVpGBbF/vZmqLN3\n",
       "cXKcntBntUwv6FPpsvD0/fSEPsWuY/uP3ktPmO3m28WuC4VOhZuP69wfWmvtsEkv6LN/lF4w3/a9\n",
       "QjeI1tp4PKYn9FnUOb6Lm1rPNsv7Qhfd1tr6Kr1gvuU2vaDPUaFj21pr57+oc4CX94f0hC7rzwqd\n",
       "DPtax7ZdvU0v6DIVOr7Tu7v0hC7TWOxZ7LBPL3iwyp0LhVxOr2o96EJBtb6KAQAAAAAAAPBgCNYA\n",
       "AAAAAAAARAjWAAAAAAAAAEQI1gAAAAAAAABECNYAAAAAAAAARAjWAAAAAAAAAEQI1gAAAAAAAABE\n",
       "CNYAAAAAAAAARAjWAAAAAAAAAEQI1gAAAAAAAABECNYAAAAAAAAARAjWAAAAAAAAAEQI1gAAAAAA\n",
       "AABECNYAAAAAAAAARAjWAAAAAAAAAEQI1gAAAAAAAABECNYAAAAAAAAARAjWAAAAAAAAAEQI1gAA\n",
       "AAAAAABECNYAAAAAAAAARAjWAAAAAAAAAEQI1gAAAAAAAABECNYAAAAAAAAARAjWAAAAAAAAAEQI\n",
       "1gAAAAAAAABECNYAAAAAAAAARAjWAAAAAAAAAEQI1gAAAAAAAABECNYAAAAAAAAARAjWAAAAAAAA\n",
       "AEQI1gAAAAAAAABEDOkBAP9XP1j99ZTe0GVR6dJbaWtri+NNekKXYXOUnjDfep1e0KfYuTCdn6Yn\n",
       "zLZ/fJye0OVwskxPmG37uM7W1lrbPq71t6+336pzT1ts0wv6jLUuuW04pBfMN9X6mbX12/SCPpXO\n",
       "haPrWq88q7sxPaHL6a/u0hNmW17fpyd0Gd7epifMN9X6nU2vr9ITuky7XXrCbNNun57wsB3qHN9p\n",
       "rHU/a0Odd57WWrscX9YaDHytir3+AgAAAAAAAPBQCNYAAAAAAAAARAjWAAAAAAAAAEQI1gAAAAAA\n",
       "AABECNYAAAAAAAAARAjWAAAAAAAAAEQI1gAAAAAAAABECNYAAAAAAAAARAjWAAAAAAAAAEQI1gAA\n",
       "AAAAAABECNYAAAAAAAAARAjWAAAAAAAAAEQI1gAAAAAAAABECNYAAAAAAAAARAjWAAAAAAAAAEQI\n",
       "1gAAAAAAAABECNYAAAAAAAAARAjWAAAAAAAAAEQI1gAAAAAAAABECNYAAAAAAAAARAjWAAAAAAAA\n",
       "AEQI1gAAAAAAAABECNYAAAAAAAAARAjWAAAAAAAAAEQI1gAAAAAAAABECNYAAAAAAAAARAjWAAAA\n",
       "AAAAAEQI1gAAAAAAAABECNYAAAAAAAAARAjWAAAAAAAAAEQI1gAAAAAAAABEDOkBfHNcDM+n9IYH\n",
       "bajzc7scX9YZW9APVn9V57e2qPV3TcNylZ7QZVjWOb7D2Wl6Qp/NJr2gz0mdvdNqmZ7QZf/kLD1h\n",
       "tu376/SELsOYXtBnd1bnmjvW+pm13eM6x7a11lqdJ7G2vC80trW2uqu1dyr01rN5c0hP6HL0xbv0\n",
       "hC6LbZ3jO7y5Tk/oM9a5Lkw3t+kJfbbb9II+U6FzYbdPT+gy7XfpCV2mQudCNb7pApUV+7IAAAAA\n",
       "AAAAwEMhWAMAAAAAAAAQIVgDAAAAAAAAECFYAwAAAAAAABAhWAMAAAAAAAAQIVgDAAAAAAAAECFY\n",
       "AwAAAAAAABAhWAMAAAAAAAAQIVgDAAAAAAAAECFYAwAAAAAAABAhWAMAAAAAAAAQIVgDAAAAAAAA\n",
       "ECFYAwAAAAAAABAhWAMAAAAAAAAQIVgDAAAAAAAAECFYA/Df7dtbjhtZdkDRG8xUSdWNNmB4SvQM\n",
       "UoDHWMoZFGfUMOBnl5QPRn80DH8ZZqCR2nVSa43g4OJEBBmbBAAAAAAASAjWAAAAAAAAACQEawAA\n",
       "AAAAAAASgjUAAAAAAAAACcEaAAAAAAAAgIRgDQAAAAAAAEBCsAYAAAAAAAAgIVgDAAAAAAAAkBCs\n",
       "AQAAAAAAAEgI1gAAAAAAAAAkBGsAAAAAAAAAEoI1AAAAAAAAAAnBGgAAAAAAAICEYA0AAAAAAABA\n",
       "QrAGAAAAAAAAICFYAwAAAAAAAJDY6gHgR3HeHvZ6hptts24N27B5933QKpzu6hHete3DfT3Czbaf\n",
       "P9UjHLKdhv0m727OLqx//Id6gkP2u0G7MGnWtdbzP/2hHuGQ109znmmn52s9wiEvP88527XWev04\n",
       "57Pj/V9m7cLdt1nzTrrWTl9f6hEOufvPr/UIxzw91xPc7ttTPcExz3POdv9t1t7uk/Z2rbVf59xz\n",
       "1+use+6k90xrzXqP9+vrL3OGXcPeP6+1LvvjqPMF3tast2IAAAAAAAAAvBuCNQAAAAAAAAAJwRoA\n",
       "AAAAAACAhGANAAAAAAAAQEKwBgAAAAAAACAhWAMAAAAAAACQEKwBAAAAAAAASAjWAAAAAAAAACQE\n",
       "awAAAAAAAAASgjUAAAAAAAAACcEaAAAAAAAAgIRgDQAAAAAAAEBCsAYAAAAAAAAgIVgDAAAAAAAA\n",
       "kBCsAQAAAAAAAEgI1gAAAAAAAAAkBGsAAAAAAAAAEoI1AAAAAAAAAAnBGgAAAAAAAICEYA0AAAAA\n",
       "AABAQrAGAAAAAAAAICFYAwAAAAAAAJAQrAEAAAAAAABICNYAAAAAAAAAJARrAAAAAAAAABKCNQAA\n",
       "AAAAAAAJwRoAAAAAAACAhGANAAAAAAAAQEKwBgAAAAAAACAhWAMAAAAAAACQEKwBAAAAAAAASNzX\n",
       "A/D7cd4e9noGfh8u1y9bPcMR03Z3Ow36rdB+rSc4Zht0tmutNWlzn57rCQ657pMOd63tw5yPZNu/\n",
       "jXpErO3+rh7hdoP2YK217n+aNe+HPz/VI9zs9U+f6hEO2V5m3XM//utrPcLNTk9zZp1o+zbn8832\n",
       "dc6sa621rsO+R3yb84zY//0/6hGOGfS5fB8060ivL/UEN5u2C+Pe450+zzpgAL6LYW/2AQAAAAAA\n",
       "AHgvBGsAAAAAAAAAEoI1AAAAAAAAAAnBGgAAAAAAAICEYA0AAAAAAABAQrAGAAAAAAAAICFYAwAA\n",
       "AAAAAJAQrAEAAAAAAABICNYAAAAAAAAAJARrAAAAAAAAABKCNQAAAAAAAAAJwRoAAAAAAACAhGAN\n",
       "AAAAAAAAQEKwBgAAAAAAACAhWAMAAAAAAACQEKwBAAAAAAAASAjWAAAAAAAAACQEawAAAAAAAAAS\n",
       "gjUAAAAAAAAACcEaAAAAAAAAgIRgDQAAAAAAAEBCsAYAAAAAAAAgIVgDAAAAAAAAkBCsAQAAAAAA\n",
       "AEgI1gAAAAAAAAAkBGsAAAAAAAAAEoI1AAAAAAAAAAnBGgAAAAAAAICEYA0AAAAAAABAQrAGAAAA\n",
       "AAAAICFYAwAAAAAAAJDY6gEAfjTn7WGvZ7jVZX8c9Zz45w//MuZsxxl2stuHD/UIxwy60rZPn+oR\n",
       "Dtk+3Ncj3O7nWWe7Jp3tWmttgy60l9d6gmM+/VRPcMh+f1ePcLvXaz3BIdt//VaPcMzdoN/w//df\n",
       "6gmOmXTPXWvtT0/1CLe7zrovTLqPXb99q0c45jrsS9qgL5X7sOtsG3bP/fX1l1kDDzLpneNa8947\n",
       "Am9r0LczAAAAAAAAAN4TwRoAAAAAAACAhGANAAAAAAAAQEKwBgAAAAAAACAhWAMAAAAAAACQEKwB\n",
       "AAAAAAAASAjWAAAAAAAAACQEawAAAAAAAAASgjUAAAAAAAAACcEaAAAAAAAAgIRgDQAAAAAAAEBC\n",
       "sAYAAAAAAAAgIVgDAAAAAAAAkBCsAQAAAAAAAEgI1gAAAAAAAAAkBGsAAAAAAAAAEoI1AAAAAAAA\n",
       "AAnBGgAAAAAAAICEYA0AAAAAAABAQrAGAAAAAAAAICFYAwAAAAAAAJAQrAEAAAAAAABICNYAAAAA\n",
       "AAAAJARrAAAAAAAAABKCNQAAAAAAAAAJwRoAAAAAAACAhGANAAAAAAAAQEKwBgAAAAAAACAhWAMA\n",
       "AAAAAACQEKwBAAAAAAAASAjWAAAAAAAAACS2egDg9+e8Pez1DEdc9kf3sjcybRe2k99hMdP24ad6\n",
       "hNvdzbrOtru7eoTbbbMeZ9sf/1CPcMx10CPtNGsX1j7obNda6+Oge+7Xp3qCY15f6gmOmfSMeJl1\n",
       "ttffvtYjHLINegbv12s9wiH7t2/1CLc7DbonrLXW9bWe4JB92ueFQS7XL3NuYsNMey/mHSkw2aw3\n",
       "jgAAAAAAAAC8G4I1AAAAAAAAAAnBGgAAAAAAAICEYA0AAAAAAABAQrAGAAAAAAAAICFYAwAAAAAA\n",
       "AJAQrAEAAAAAAABICNYAAAAAAAAAJARrAAAAAAAAABKCNQAAAAAAAAAJwRoAAAAAAACAhGANAAAA\n",
       "AAAAQEKwBgAAAAAAACAhWAMAAAAAAACQEKwBAAAAAAAASAjWAAAAAAAAACQEawAAAAAAAAASgjUA\n",
       "AAAAAAAACcEaAAAAAAAAgIRgDQAAAAAAAEBCsAYAAAAAAAAgIVgDAAAAAAAAkBCsAQAAAAAAAEgI\n",
       "1gAAAAAAAAAkBGsAAAAAAAAAEoI1AAAAAAAAAAnBGgAAAAAAAICEYA0AAAAAAABAQrAGAAAAAAAA\n",
       "ICFYAwAAAAAAAJAQrAEAAAAAAABIbPUA8KM4bw97PcOtLvvjqHvDpLNda975TnI+fR61C9s2aBUm\n",
       "zbrWWqe7eoJDtrs5vyHcX6/1CO/W6dPHeoRj7u/rCY7ZBz0i9mHX2TbnHrbWmvUteNLerrXWtGfE\n",
       "ac4y7M8v9QjHvLzWExxjF1hr7ddhe8ubuVy/zLkpLO/F+F92AZhs2JsFAAAAAAAAAN4LwRoAAAAA\n",
       "AACAhGANAAAAAAAAQEKwBgAAAAAAACAhWAMAAAAAAACQEKwBAAAAAAAASAjWAAAAAAAAACQEawAA\n",
       "AAAAAAASgjUAAAAAAAAACcEaAAAAAAAAgIRgDQAAAAAAAEBCsAYAAAAAAAAgIVgDAAAAAAAAkBCs\n",
       "AQAAAAAAAEgI1gAAAAAAAAAkBGsAezgjNQAADcpJREFUAAAAAAAAEoI1AAAAAAAAAAnBGgAAAAAA\n",
       "AICEYA0AAAAAAABAQrAGAAAAAAAAICFYAwAAAAAAAJAQrAEAAAAAAABICNYAAAAAAAAAJARrAAAA\n",
       "AAAAABKCNQAAAAAAAAAJwRoAAAAAAACAhGANAAAAAAAAQEKwBgAAAAAAACAhWAMAAAAAAACQEKwB\n",
       "AAAAAAAASAjWAAAAAAAAACS2egCAH815e9jrGd6ry/7oufZGzqfPo/Z226zCmxl3toPm3a/1BIds\n",
       "Hz/WIxxzHXQbG7S2a621TsN+B/3yWk9ws30ftLdrrTVs3u1u0u7OujHsz0/1CIdMutZ8zn1D0852\n",
       "0N6utdavr78MO2AA4Hua9O0MAAAAAAAAgHdEsAYAAAAAAAAgIVgDAAAAAAAAkBCsAQAAAAAAAEgI\n",
       "1gAAAAAAAAAkBGsAAAAAAAAAEoI1AAAAAAAAAAnBGgAAAAAAAICEYA0AAAAAAABAQrAGAAAAAAAA\n",
       "ICFYAwAAAAAAAJAQrAEAAAAAAABICNYAAAAAAAAAJARrAAAAAAAAABKCNQAAAAAAAAAJwRoAAAAA\n",
       "AACAhGANAAAAAAAAQEKwBgAAAAAAACAhWAMAAAAAAACQEKwBAAAAAAAASAjWAAAAAAAAACQEawAA\n",
       "AAAAAAASgjUAAAAAAAAACcEaAAAAAAAAgIRgDQAAAAAAAEBCsAYAAAAAAAAgIVgDAAAAAAAAkBCs\n",
       "AQAAAAAAAEgI1gAAAAAAAAAkBGsAAAAAAAAAEoI1AAAAAAAAAIn7egCAv9d5e9jrGY647I9bPcOt\n",
       "pp0t/I99t7pvZdvG3ML+Zr/WE9zuNOu3pPvTcz3CMac5u7u/vNQjHLLdDftaeX2tJ7jZtOfZNu0+\n",
       "9jLoGTHNNmsXtmUXWGt/nfN8WGvWuwUAgP/PrG8QAAAAAAAAALwbgjUAAAAAAAAACcEaAAAAAAAA\n",
       "gIRgDQAAAAAAAEBCsAYAAAAAAAAgIVgDAAAAAAAAkBCsAQAAAAAAAEgI1gAAAAAAAAAkBGsAAAAA\n",
       "AAAAEoI1AAAAAAAAAAnBGgAAAAAAAICEYA0AAAAAAABAQrAGAAAAAAAAICFYAwAAAAAAAJAQrAEA\n",
       "AAAAAABICNYAAAAAAAAAJARrAAAAAAAAABKCNQAAAAAAAAAJwRoAAAAAAACAhGANAAAAAAAAQEKw\n",
       "BgAAAAAAACAhWAMAAAAAAACQEKwBAAAAAAAASAjWAAAAAAAAACQEawAAAAAAAAASgjUAAAAAAAAA\n",
       "CcEaAAAAAAAAgIRgDQAAAAAAAEBCsAYAAAAAAAAgIVgDAAAAAAAAkBCsAQAAAAAAAEhs9QDwozhv\n",
       "D3s9w60u+6N7A2utWXu71lprG7a6+5zjnXZfOJ8+zznctUbtwrjrbJJJe7DWuF3YTn6r+2ZOd/UE\n",
       "h+wvz/UIN9uGXWf7tPsYb2faLgy71ngj0/Z2mEnfKae9C5l0tgDwf/HWBgAAAAAAAICEYA0AAAAA\n",
       "AABAQrAGAAAAAAAAICFYAwAAAAAAAJAQrAEAAAAAAABICNYAAAAAAAAAJARrAAAAAAAAABKCNQAA\n",
       "AAAAAAAJwRoAAAAAAACAhGANAAAAAAAAQEKwBgAAAAAAACAhWAMAAAAAAACQEKwBAAAAAAAASAjW\n",
       "AAAAAAAAACQEawAAAAAAAAASgjUAAAAAAAAACcEaAAAAAAAAgIRgDQAAAAAAAEBCsAYAAAAAAAAg\n",
       "IVgDAAAAAAAAkBCsAQAAAAAAAEgI1gAAAAAAAAAkBGsAAAAAAAAAEoI1AAAAAAAAAAnBGgAAAAAA\n",
       "AICEYA0AAAAAAABAQrAGAAAAAAAAICFYAwAAAAAAAJAQrAEAAAAAAABICNYAAAAAAAAAJARrAAAA\n",
       "AAAAABJbPQAAwI/uvD3s9Qw323x8fDP7nDVYa63tNOu3r/ug892GXWeTzpY3ZhfezrD7wjiTdnfY\n",
       "LlyuX2YNPMio7xDDXPZHewsA39mst0wAAAAAAAAAvBuCNQAAAAAAAAAJwRoAAAAAAACAhGANAAAA\n",
       "AAAAQEKwBgAAAAAAACAhWAMAAAAAAACQEKwBAAAAAAAASAjWAAAAAAAAACQEawAAAAAAAAASgjUA\n",
       "AAAAAAAACcEaAAAAAAAAgIRgDQAAAAAAAEBCsAYAAAAAAAAgIVgDAAAAAAAAkBCsAQAAAAAAAEgI\n",
       "1gAAAAAAAAAkBGsAAAAAAAAAEoI1AAAAAAAAAAnBGgAAAAAAAICEYA0AAAAAAABAQrAGAAAAAAAA\n",
       "ICFYAwAAAAAAAJAQrAEAAAAAAABICNYAAAAAAAAAJARrAAAAAAAAABKCNQAAAAAAAAAJwRoAAAAA\n",
       "AACAhGANAAAAAAAAQEKwBgAAAAAAACAhWAMAAAAAAACQEKwBAAAAAAAASGz1AADA7995e9jrGY64\n",
       "7I8+47DWWut8+jxnd/c5o6611tpmXWaX65cxA4/a27XG7e6kZ8S0XZh0ncFU0+4L054Ro/gsBgC8\n",
       "I/5hDQAAAAAAAEBCsAYAAAAAAAAgIVgDAAAAAAAAkBCsAQAAAAAAAEgI1gAAAAAAAAAkBGsAAAAA\n",
       "AAAAEoI1AAAAAAAAAAnBGgAAAAAAAICEYA0AAAAAAABAQrAGAAAAAAAAICFYAwAAAAAAAJAQrAEA\n",
       "AAAAAABICNYAAAAAAAAAJARrAAAAAAAAABKCNQAAAAAAAAAJwRoAAAAAAACAhGANAAAAAAAAQEKw\n",
       "BgAAAAAAACAhWAMAAAAAAACQEKwBAAAAAAAASAjWAAAAAAAAACQEawAAAAAAAAASgjUAAAAAAAAA\n",
       "CcEaAAAAAAAAgIRgDQAAAAAAAEBCsAYAAAAAAAAgIVgDAAAAAAAAkBCsAQAAAAAAAEgI1gAAAAAA\n",
       "AAAkBGsAAAAAAAAAEoI1AAAAAAAAAImtHgAA4Ed33h72eoZbXfbHUZ8fJ53tNON24fR5zi7sc0ad\n",
       "aNruwloDn2fbrMvscv0ya2DexLTrzPMMAHhP/MMaAAAAAAAAgIRgDQAAAAAAAEBCsAYAAAAAAAAg\n",
       "IVgDAAAAAAAAkBCsAQAAAAAAAEgI1gAAAAAAAAAkBGsAAAAAAAAAEoI1AAAAAAAAAAnBGgAAAAAA\n",
       "AICEYA0AAAAAAABAQrAGAAAAAAAAICFYAwAAAAAAAJAQrAEAAAAAAABICNYAAAAAAAAAJARrAAAA\n",
       "AAAAABKCNQAAAAAAAAAJwRoAAAAAAACAhGANAAAAAAAAQEKwBgAAAAAAACAhWAMAAAAAAACQEKwB\n",
       "AAAAAAAASAjWAAAAAAAAACQEawAAAAAAAAASgjUAAAAAAAAACcEaAAAAAAAAgIRgDQAAAAAAAEBC\n",
       "sAYAAAAAAAAgIVgDAAAAAAAAkBCsAQAAAAAAAEgI1gAAAAAAAAAkBGsAAAAAAAAAEls9AAAAMM95\n",
       "e9jrGY647I9jvvucT59nne31y5izBb4Pz4i342wBAHiP/MMaAAAAAAAAgIRgDQAAAAAAAEBCsAYA\n",
       "AAAAAAAgIVgDAAAAAAAAkBCsAQAAAAAAAEgI1gAAAAAAAAAkBGsAAAAAAAAAEoI1AAAAAAAAAAnB\n",
       "GgAAAAAAAICEYA0AAAAAAABAQrAGAAAAAAAAICFYAwAAAAAAAJAQrAEAAAAAAABICNYAAAAAAAAA\n",
       "JARrAAAAAAAAABKCNQAAAAAAAAAJwRoAAAAAAACAhGANAAAAAAAAQEKwBgAAAAAAACAhWAMAAAAA\n",
       "AACQEKwBAAAAAAAASAjWAAAAAAAAACQEawAAAAAAAAASgjUAAAAAAAAACcEaAAAAAAAAgIRgDQAA\n",
       "AAAAAEBCsAYAAAAAAAAgIVgDAAAAAAAAkBCsAQAAAAAAAEgI1gAAAAAAAAAkBGsAAAAAAAAAEls9\n",
       "AAAAAADvx3l72OsZjrjsj96PAQBAyD+sAQAAAAAAAEgI1gAAAAAAAAAkBGsAAAAAAAAAEoI1AAAA\n",
       "AAAAAAnBGgAAAAAAAICEYA0AAAAAAABAQrAGAAAAAAAAICFYAwAAAAAAAJAQrAEAAAAAAABICNYA\n",
       "AAAAAAAAJARrAAAAAAAAABKCNQAAAAAAAAAJwRoAAAAAAACAhGANAAAAAAAAQEKwBgAAAAAAACAh\n",
       "WAMAAAAAAACQEKwBAAAAAAAASAjWAAAAAAAAACQEawAAAAAAAAASgjUAAAAAAAAACcEaAAAAAAAA\n",
       "gIRgDQAAAAAAAEBCsAYAAAAAAAAgIVgDAAAAAAAAkBCsAQAAAAAAAEgI1gAAAAAAAAAkBGsAAAAA\n",
       "AAAAEoI1AAAAAAAAAAnBGgAAAAAAAICEYA0AAAAAAABAQrAGAAAAAAAAILHVAwAAAMD3ct4e9noG\n",
       "OOqyP3p/AwAAvFv+YQ0AAAAAAABAQrAGAAAAAAAAICFYAwAAAAAAAJAQrAEAAAAAAABICNYAAAAA\n",
       "AAAAJARrAAAAAAAAABKCNQAAAAAAAAAJwRoAAAAAAACAhGANAAAAAAAAQEKwBgAAAAAAACAhWAMA\n",
       "AAAAAACQEKwBAAAAAAAASAjWAAAAAAAAACQEawAAAAAAAAASgjUAAAAAAAAACcEaAAAAAAAAgIRg\n",
       "DQAAAAAAAEBCsAYAAAAAAAAgIVgDAAAAAAAAkBCsAQAAAAAAAEgI1gAAAAAAAAAkBGsAAAAAAAAA\n",
       "EoI1AAAAAAAAAAnBGgAAAAAAAICEYA0AAAAAAABAQrAGAAAAAAAAICFYAwAAAAAAAJAQrAEAAAAA\n",
       "AABICNYAAAAAAAAAJARrAAAAAAAAABJ/BcsFGkd8aEQMAAAAAElFTkSuQmCC\n",
       "\" transform=\"translate(149, 47)\"/>\n",
       "</g>\n",
       "<defs>\n",
       "  <clipPath id=\"clip923\">\n",
       "    <rect x=\"2160\" y=\"47\" width=\"73\" height=\"1440\"/>\n",
       "  </clipPath>\n",
       "</defs>\n",
       "<g clip-path=\"url(#clip923)\">\n",
       "<image width=\"72\" height=\"1439\" xlink:href=\"data:image/png;base64,\n",
       "iVBORw0KGgoAAAANSUhEUgAAAEgAAAWfCAYAAAAI7rB3AAAMJ0lEQVR4nO3dwa3cSBAFQVIoU9Z/\n",
       "t2QFm7JgK4+cQ4QFQuJhiG7OfN3P3//ei//15+t/wK8TKAgUBAoChXne8/W/4adZUBAoCBQECgKF\n",
       "OZej2MaCgkBBoCBQmHM5amwsKAgUBAoCBYHCPK+jxsaCgkBBoCBQECg4iwULCgIFgYJAYR5vNVYW\n",
       "FAQKAgWBgkBhjguzlQUFgYJAQaDgqBEsKAgUBAoCBYHCeKexs6AgUBAoCBQECr5hFiwoCBQECgKF\n",
       "eb7+F/w4CwoCBYGCQEGg4MIsWFAQKAgUBAoChXncl60sKAgUBAoCBUeNYEFBoCBQECgIFOa57q//\n",
       "DT/NgoJAQaAgUJjn9SG9saAgUBAoCBQECnMcNVYWFAQKAgWBgkDBhVmwoCBQECgIFOa4MFtZUBAo\n",
       "CBQECgIFR41gQUGgIFAQKAgUPMWCBQWBgkBBoDDn1WijThAoCBQECgIFR41gQUGgIFAQKMyj0Uqd\n",
       "IFAQKAgUBAouzII6QaAgUBAoCBRcmAULCgIFgYJAYR5HjZU6QaAgUBAoCBTmaLRSJwgUBAoCBYGC\n",
       "C7NgQUGgIFAQKLgwC+oEgYJAQaAgUHBhFtQJAgWBgkDBUSOoEwQKAgWBgkDBW41gQUGgIFAQKAgU\n",
       "/CQzqBMECgIFgYK//hLUCQIFgYJAQaAwj/9fbGVBQaAgUBAo+AJVUCcIFAQKAgWBgm+YBXWCQEGg\n",
       "IFAQKHjtE9QJAgWBgkBhjrcaKwsKAgWBgkBBoOCoEdQJAgWBgkBBoODHLEGdIFAQKAgU/G4+WFAQ\n",
       "KAgUBAoCBUeNoE4QKAgUBAqOGsGCgkBBoCBQECg4agR1gkBBoCBQECj4SWZQJwgUBAoChTkuzFYW\n",
       "FAQKAgWBgkDBUSOoEwQKAgWBgkDBWSxYUBAoCBQECo4aQZ0gUBAoCBQECv6GWbCgIFAQKAgU/Imu\n",
       "oE4QKAgUBAoCBUeNYEFBoCBQECgIFDzFggUFgYJAQaDgwiyoEwQKAgWBgkDBUSNYUBAoCBQECgIF\n",
       "f8MsqBMECgIFgYJfHAYLCgIFgYJAQaAwjwuzlQUFgYJAQaDgPiioEwQKAgWBgkDBu/lgQUGgIFAQ\n",
       "KAgUvPYJFhQECgIFgYK3GsGCgkBBoCBQECh47RPUCQIFgYJAwVuNYEFBoCBQECgIFLzVCBYUBAoC\n",
       "BYGCQMFZLFhQECgIFAQKPqSDBQWBgkBBoCBQ8BQLFhQECgIFgYJAwTfMgjpBoCBQECh4Nx8sKAgU\n",
       "BAoCBYGCC7NgQUGgIFAQKPiQDhYUBAoCBYGCQMFTLFhQECgIFAQKAoV5PcVWFhQECgIFgYJ388GC\n",
       "gkBBoCBQECi4MAsWFAQKAgWBgkDBUyxYUBAoCBQECt5qBAsKAgWBgkBBoOCoESwoCBQECgIFH9LB\n",
       "goJAQaAgUBAozPv1v+DHWVAQKAgUBAoCBWexYEFBoCBQECh4Nx8sKAgUBAoCBYGCo0awoCBQECgI\n",
       "FAQKzmLBgoJAQaAgUJjj5fzKgoJAQaAgUBAoOGoECwoCBYGCQMGHdLCgIFAQKAgUBArezQcLCgIF\n",
       "gYJAQaDgJ5nBgoJAQaAgUHBhFiwoCBQECgIFgYKnWLCgIFAQKAgUBArzujFbWVAQKAgUBAqOGsGC\n",
       "gkBBoCBQECh4igULCgIFgYJAwX1QsKAgUBAoCBQECo4awYKCQEGgIFAQKDiLBQsKAgWBgkBhLkeN\n",
       "lQUFgYJAQaAgUHBhFiwoCBQECgIFf9wkWFAQKAgUBAoCBRdmwYKCQEGgIFAQKHg3HywoCBQECgKF\n",
       "uXxIrywoCBQECgIFgYJ388GCgkBBoCBQECg4iwULCgIFgYJAwbv5YEFBoCBQECgIFLybDxYUBAoC\n",
       "BYGCo0awoCBQECgIFAQK3moECwoCBYGCQEGg4CkWLCgIFAQKAgUXZsGCgkBBoCBQECg4agQLCgIF\n",
       "gYJAQaDgKRYsKAgUBAoCBRdmwYKCQEGgIFAQKAgUBAoCBYGCQMF9ULCgIFAQKAgUBAqeYsGCgkBB\n",
       "oCBQECjM7bXPyoKCQEGgIFBw1AgWFAQKAgWBgkDBUyxYUBAoCBQECgIFT7FgQUGgIFAQKPgxS7Cg\n",
       "IFAQKAgUBApzO2qsLCgIFAQKAgX3QcGCgkBBoCBQECh4igULCgIFgYJAQaDgwixYUBAoCBQECo4a\n",
       "wYKCQEGgIFAQKPiGWbCgIFAQKAgU3AcFCwoCBYGCQEGg4MIsWFAQKAgUBAoCBU+xYEFBoCBQECiM\n",
       "dxo7CwoCBYGCQEGg4KgRLCgIFAQKAgWBgqdYsKAgUBAoCBR8wyxYUBAoCBQECgIFR41gQUGgIFAQ\n",
       "KPiQDhYUBAoCBYGCQMGFWbCgIFAQKAgUBAr++kuwoCBQECgIFBw1ggUFgYJAQaAgUPDaJ1hQECgI\n",
       "FAQKAgVPsWBBQaAgUBAouDALFhQECgIFgYJAwVEjWFAQKAgUBAo+pIMFBYGCQEGgIFBwYRYsKAgU\n",
       "BAoCBYGCs1iwoCBQECgIFAQKAgWBgkBBoCBQcGEWLCgIFAQKAgWBgguzYEFBoCBQECg4agQLCgIF\n",
       "gYJAQaDgqBEsKAgUBAoCBR/SwYKCQEGgIFAQKLgwCxYUBAoCBYGCQMFZLFhQECgIFAQKjhrBgoJA\n",
       "QaAgUBAoOGoECwoCBYGCQMGHdLCgIFAQKAgUBAouzIIFBYGCQEGgIFBwFgsWFAQKAgWBgqNGsKAg\n",
       "UBAoCBQECo4awYKCQEGgIFAQKHiKBQsKAgWBgkBh7ten9MaCgkBBoCBQECg4agQLCgIFgYJAwbv5\n",
       "YEFBoCBQECgIFBw1ggUFgYJAQaAgUHAWCxYUBAoCBYGCo0awoCBQECgIFAQKnmLBgoJAQaAgUBAo\n",
       "uDALFhQECgIFgYKjRrCgIFAQKAgUBAqOGsGCgkBBoCBQcNQIFhQECgIFgYJAwVEjWFAQKAgUBAoC\n",
       "BWexYEFBoCBQECj4Q5PBgoJAQaAgUBAoOGoECwoCBYGCQEGg4LVPsKAgUBAoCBQcNYIFBYGCQEGg\n",
       "IFBw1AgWFAQKAgWBgqNGsKAgUBAoCBQECo4awYKCQEGgIFAQKMzle9IrCwoCBYGCQMFRI1hQECgI\n",
       "FAQKAgWvfYIFBYGCQEGgIFBwFgsWFAQKAgWBgqNGsKAgUBAoCBQECv6GWbCgIFAQKAgUHDWCBQWB\n",
       "gkBBoCBQmPt8/U/4bRYUBAoCBYGCQMFZLFhQECgIFAQK3moECwoCBYGCQEGg4KgRLCgIFAQKAgUf\n",
       "0sGCgkBBoCBQECj4xWGwoCBQECgIFAQK/tBksKAgUBAoCBQcNYIFBYGCQEGgIFCY63iMbSwoCBQE\n",
       "CgIFgYKzWLCgIFAQKAgUfMMsWFAQKAgUBAoCBT/JDBYUBAoCBYGCo0awoCBQECgIFAQKjhrBgoJA\n",
       "QaAgUBAozOXPJa8sKAgUBAoCBb84DBYUBAoCBYGCQMHXgIMFBYGCQEGgIFBwFgsWFAQKAgWBgm+Y\n",
       "BQsKAgWBgkBBoOAbZsGCgkBBoCBQ8Ce6ggUFgYJAQaAgUPBuPlhQECgIFAQKAgXv5oMFBYGCQEGg\n",
       "4EM6WFAQKAgUBAoCBb+bDxYUBAoCBYGCQME3zIIFBYGCQEGg4MIsWFAQKAgUBAoCBU+xYEFBoCBQ\n",
       "ECh4qxEsKAgUBAoCBYGCtxrBgoJAQaAgUBAouDALFhQECgIFgYIP6WBBQaAgUBAoCBT8DbNgQUGg\n",
       "IFAQKDhqBAsKAgWBgkBBoOApFiwoCBQECgIFgYKnWLCgIFAQKAgU5vZWY2VBQaAgUBAoCBQcNYIF\n",
       "BYGCQEGgIFDwFAsWFAQKAgWBgg/pYEFBoCBQECgIFPyYJVhQECgIFAQKjhrBgoJAQaAgUBAoeIoF\n",
       "CwoCBYGCQEGgMNfxV/83FhQECgIFgYKjRrCgIFAQKAgUBArzeoqtLCgIFAQKAgWBgm+YBQsKAgWB\n",
       "gkBhrtdbjY0FBYGCQEGgIFDw2idYUBAoCBQECu6DggUFgYJAQaAgUHBhFiwoCBQECgIFgYKzWLCg\n",
       "IFAQKAgUfA04WFAQKAgUBAoCBb+bDxYUBAoCBYGCQME3zIIFBYGCQEGg4KgRLCgIFAQKAgWBgtc+\n",
       "wYKCQEGgIFDwBapgQUGgIFAQKAgU/JglWFAQKAgUBAoChXmdxVYWFAQKAgWBgqNGsKAgUBAoCBQE\n",
       "Cr4GHCwoCBQECgKFf4jrjN/mS6F7AAAAAElFTkSuQmCC\n",
       "\" transform=\"translate(2161, 47)\"/>\n",
       "</g>\n",
       "<path clip-path=\"url(#clip920)\" d=\"M2269.43 1276.62 L2277.07 1276.62 L2277.07 1250.26 L2268.76 1251.93 L2268.76 1247.67 L2277.02 1246 L2281.7 1246 L2281.7 1276.62 L2289.33 1276.62 L2289.33 1280.56 L2269.43 1280.56 L2269.43 1276.62 Z\" fill=\"#f8f8f2\" fill-rule=\"nonzero\" fill-opacity=\"1\" /><path clip-path=\"url(#clip920)\" d=\"M2308.78 1249.08 Q2305.17 1249.08 2303.34 1252.64 Q2301.53 1256.18 2301.53 1263.31 Q2301.53 1270.42 2303.34 1273.99 Q2305.17 1277.53 2308.78 1277.53 Q2312.41 1277.53 2314.22 1273.99 Q2316.05 1270.42 2316.05 1263.31 Q2316.05 1256.18 2314.22 1252.64 Q2312.41 1249.08 2308.78 1249.08 M2308.78 1245.37 Q2314.59 1245.37 2317.64 1249.98 Q2320.72 1254.56 2320.72 1263.31 Q2320.72 1272.04 2317.64 1276.65 Q2314.59 1281.23 2308.78 1281.23 Q2302.97 1281.23 2299.89 1276.65 Q2296.83 1272.04 2296.83 1263.31 Q2296.83 1254.56 2299.89 1249.98 Q2302.97 1245.37 2308.78 1245.37 Z\" fill=\"#f8f8f2\" fill-rule=\"nonzero\" fill-opacity=\"1\" /><path clip-path=\"url(#clip920)\" d=\"M2338.94 1249.08 Q2335.33 1249.08 2333.5 1252.64 Q2331.7 1256.18 2331.7 1263.31 Q2331.7 1270.42 2333.5 1273.99 Q2335.33 1277.53 2338.94 1277.53 Q2342.57 1277.53 2344.38 1273.99 Q2346.21 1270.42 2346.21 1263.31 Q2346.21 1256.18 2344.38 1252.64 Q2342.57 1249.08 2338.94 1249.08 M2338.94 1245.37 Q2344.75 1245.37 2347.81 1249.98 Q2350.89 1254.56 2350.89 1263.31 Q2350.89 1272.04 2347.81 1276.65 Q2344.75 1281.23 2338.94 1281.23 Q2333.13 1281.23 2330.05 1276.65 Q2327 1272.04 2327 1263.31 Q2327 1254.56 2330.05 1249.98 Q2333.13 1245.37 2338.94 1245.37 Z\" fill=\"#f8f8f2\" fill-rule=\"nonzero\" fill-opacity=\"1\" /><path clip-path=\"url(#clip920)\" d=\"M2274.38 1054.87 L2290.7 1054.87 L2290.7 1058.8 L2268.76 1058.8 L2268.76 1054.87 Q2271.42 1052.11 2276 1047.48 Q2280.61 1042.83 2281.79 1041.49 Q2284.03 1038.96 2284.91 1037.23 Q2285.82 1035.47 2285.82 1033.78 Q2285.82 1031.02 2283.87 1029.29 Q2281.95 1027.55 2278.85 1027.55 Q2276.65 1027.55 2274.2 1028.32 Q2271.77 1029.08 2268.99 1030.63 L2268.99 1025.91 Q2271.81 1024.77 2274.27 1024.2 Q2276.72 1023.62 2278.76 1023.62 Q2284.13 1023.62 2287.32 1026.3 Q2290.52 1028.99 2290.52 1033.48 Q2290.52 1035.61 2289.7 1037.53 Q2288.92 1039.43 2286.81 1042.02 Q2286.23 1042.69 2283.13 1045.91 Q2280.03 1049.1 2274.38 1054.87 Z\" fill=\"#f8f8f2\" fill-rule=\"nonzero\" fill-opacity=\"1\" /><path clip-path=\"url(#clip920)\" d=\"M2310.51 1027.32 Q2306.9 1027.32 2305.08 1030.89 Q2303.27 1034.43 2303.27 1041.56 Q2303.27 1048.66 2305.08 1052.23 Q2306.9 1055.77 2310.51 1055.77 Q2314.15 1055.77 2315.95 1052.23 Q2317.78 1048.66 2317.78 1041.56 Q2317.78 1034.43 2315.95 1030.89 Q2314.15 1027.32 2310.51 1027.32 M2310.51 1023.62 Q2316.33 1023.62 2319.38 1028.22 Q2322.46 1032.81 2322.46 1041.56 Q2322.46 1050.28 2319.38 1054.89 Q2316.33 1059.47 2310.51 1059.47 Q2304.7 1059.47 2301.63 1054.89 Q2298.57 1050.28 2298.57 1041.56 Q2298.57 1032.81 2301.63 1028.22 Q2304.7 1023.62 2310.51 1023.62 Z\" fill=\"#f8f8f2\" fill-rule=\"nonzero\" fill-opacity=\"1\" /><path clip-path=\"url(#clip920)\" d=\"M2340.68 1027.32 Q2337.07 1027.32 2335.24 1030.89 Q2333.43 1034.43 2333.43 1041.56 Q2333.43 1048.66 2335.24 1052.23 Q2337.07 1055.77 2340.68 1055.77 Q2344.31 1055.77 2346.12 1052.23 Q2347.95 1048.66 2347.95 1041.56 Q2347.95 1034.43 2346.12 1030.89 Q2344.31 1027.32 2340.68 1027.32 M2340.68 1023.62 Q2346.49 1023.62 2349.54 1028.22 Q2352.62 1032.81 2352.62 1041.56 Q2352.62 1050.28 2349.54 1054.89 Q2346.49 1059.47 2340.68 1059.47 Q2334.87 1059.47 2331.79 1054.89 Q2328.73 1050.28 2328.73 1041.56 Q2328.73 1032.81 2331.79 1028.22 Q2334.87 1023.62 2340.68 1023.62 Z\" fill=\"#f8f8f2\" fill-rule=\"nonzero\" fill-opacity=\"1\" /><path clip-path=\"url(#clip920)\" d=\"M2284.38 818.411 Q2287.74 819.129 2289.61 821.397 Q2291.51 823.666 2291.51 826.999 Q2291.51 832.115 2287.99 834.916 Q2284.47 837.717 2277.99 837.717 Q2275.82 837.717 2273.5 837.277 Q2271.21 836.86 2268.76 836.004 L2268.76 831.49 Q2270.7 832.624 2273.02 833.203 Q2275.33 833.781 2277.85 833.781 Q2282.25 833.781 2284.54 832.045 Q2286.86 830.309 2286.86 826.999 Q2286.86 823.943 2284.7 822.231 Q2282.58 820.494 2278.76 820.494 L2274.73 820.494 L2274.73 816.652 L2278.94 816.652 Q2282.39 816.652 2284.22 815.286 Q2286.05 813.897 2286.05 811.305 Q2286.05 808.643 2284.15 807.231 Q2282.27 805.795 2278.76 805.795 Q2276.83 805.795 2274.64 806.212 Q2272.44 806.629 2269.8 807.508 L2269.8 803.342 Q2272.46 802.601 2274.77 802.231 Q2277.11 801.86 2279.17 801.86 Q2284.5 801.86 2287.6 804.291 Q2290.7 806.698 2290.7 810.819 Q2290.7 813.689 2289.06 815.68 Q2287.41 817.647 2284.38 818.411 Z\" fill=\"#f8f8f2\" fill-rule=\"nonzero\" fill-opacity=\"1\" /><path clip-path=\"url(#clip920)\" d=\"M2310.38 805.564 Q2306.76 805.564 2304.94 809.129 Q2303.13 812.67 2303.13 819.8 Q2303.13 826.906 2304.94 830.471 Q2306.76 834.013 2310.38 834.013 Q2314.01 834.013 2315.82 830.471 Q2317.64 826.906 2317.64 819.8 Q2317.64 812.67 2315.82 809.129 Q2314.01 805.564 2310.38 805.564 M2310.38 801.86 Q2316.19 801.86 2319.24 806.467 Q2322.32 811.05 2322.32 819.8 Q2322.32 828.527 2319.24 833.133 Q2316.19 837.717 2310.38 837.717 Q2304.57 837.717 2301.49 833.133 Q2298.43 828.527 2298.43 819.8 Q2298.43 811.05 2301.49 806.467 Q2304.57 801.86 2310.38 801.86 Z\" fill=\"#f8f8f2\" fill-rule=\"nonzero\" fill-opacity=\"1\" /><path clip-path=\"url(#clip920)\" d=\"M2340.54 805.564 Q2336.93 805.564 2335.1 809.129 Q2333.29 812.67 2333.29 819.8 Q2333.29 826.906 2335.1 830.471 Q2336.93 834.013 2340.54 834.013 Q2344.17 834.013 2345.98 830.471 Q2347.81 826.906 2347.81 819.8 Q2347.81 812.67 2345.98 809.129 Q2344.17 805.564 2340.54 805.564 M2340.54 801.86 Q2346.35 801.86 2349.4 806.467 Q2352.48 811.05 2352.48 819.8 Q2352.48 828.527 2349.4 833.133 Q2346.35 837.717 2340.54 837.717 Q2334.73 837.717 2331.65 833.133 Q2328.59 828.527 2328.59 819.8 Q2328.59 811.05 2331.65 806.467 Q2334.73 801.86 2340.54 801.86 Z\" fill=\"#f8f8f2\" fill-rule=\"nonzero\" fill-opacity=\"1\" /><path clip-path=\"url(#clip920)\" d=\"M2284.36 584.802 L2272.55 603.251 L2284.36 603.251 L2284.36 584.802 M2283.13 580.728 L2289.01 580.728 L2289.01 603.251 L2293.94 603.251 L2293.94 607.14 L2289.01 607.14 L2289.01 615.288 L2284.36 615.288 L2284.36 607.14 L2268.76 607.14 L2268.76 602.626 L2283.13 580.728 Z\" fill=\"#f8f8f2\" fill-rule=\"nonzero\" fill-opacity=\"1\" /><path clip-path=\"url(#clip920)\" d=\"M2311.67 583.807 Q2308.06 583.807 2306.23 587.372 Q2304.43 590.913 2304.43 598.043 Q2304.43 605.149 2306.23 608.714 Q2308.06 612.256 2311.67 612.256 Q2315.31 612.256 2317.11 608.714 Q2318.94 605.149 2318.94 598.043 Q2318.94 590.913 2317.11 587.372 Q2315.31 583.807 2311.67 583.807 M2311.67 580.103 Q2317.48 580.103 2320.54 584.71 Q2323.62 589.293 2323.62 598.043 Q2323.62 606.77 2320.54 611.376 Q2317.48 615.959 2311.67 615.959 Q2305.86 615.959 2302.78 611.376 Q2299.73 606.77 2299.73 598.043 Q2299.73 589.293 2302.78 584.71 Q2305.86 580.103 2311.67 580.103 Z\" fill=\"#f8f8f2\" fill-rule=\"nonzero\" fill-opacity=\"1\" /><path clip-path=\"url(#clip920)\" d=\"M2341.83 583.807 Q2338.22 583.807 2336.39 587.372 Q2334.59 590.913 2334.59 598.043 Q2334.59 605.149 2336.39 608.714 Q2338.22 612.256 2341.83 612.256 Q2345.47 612.256 2347.27 608.714 Q2349.1 605.149 2349.1 598.043 Q2349.1 590.913 2347.27 587.372 Q2345.47 583.807 2341.83 583.807 M2341.83 580.103 Q2347.64 580.103 2350.7 584.71 Q2353.78 589.293 2353.78 598.043 Q2353.78 606.77 2350.7 611.376 Q2347.64 615.959 2341.83 615.959 Q2336.02 615.959 2332.95 611.376 Q2329.89 606.77 2329.89 598.043 Q2329.89 589.293 2332.95 584.71 Q2336.02 580.103 2341.83 580.103 Z\" fill=\"#f8f8f2\" fill-rule=\"nonzero\" fill-opacity=\"1\" /><path clip-path=\"url(#clip920)\" d=\"M2270.21 358.971 L2288.57 358.971 L2288.57 362.906 L2274.5 362.906 L2274.5 371.378 Q2275.52 371.031 2276.53 370.869 Q2277.55 370.684 2278.57 370.684 Q2284.36 370.684 2287.74 373.855 Q2291.12 377.026 2291.12 382.443 Q2291.12 388.022 2287.64 391.124 Q2284.17 394.202 2277.85 394.202 Q2275.68 394.202 2273.41 393.832 Q2271.16 393.462 2268.76 392.721 L2268.76 388.022 Q2270.84 389.156 2273.06 389.712 Q2275.28 390.267 2277.76 390.267 Q2281.77 390.267 2284.1 388.161 Q2286.44 386.054 2286.44 382.443 Q2286.44 378.832 2284.1 376.726 Q2281.77 374.619 2277.76 374.619 Q2275.89 374.619 2274.01 375.036 Q2272.16 375.452 2270.21 376.332 L2270.21 358.971 Z\" fill=\"#f8f8f2\" fill-rule=\"nonzero\" fill-opacity=\"1\" /><path clip-path=\"url(#clip920)\" d=\"M2310.33 362.05 Q2306.72 362.05 2304.89 365.614 Q2303.08 369.156 2303.08 376.286 Q2303.08 383.392 2304.89 386.957 Q2306.72 390.499 2310.33 390.499 Q2313.96 390.499 2315.77 386.957 Q2317.6 383.392 2317.6 376.286 Q2317.6 369.156 2315.77 365.614 Q2313.96 362.05 2310.33 362.05 M2310.33 358.346 Q2316.14 358.346 2319.2 362.952 Q2322.27 367.536 2322.27 376.286 Q2322.27 385.013 2319.2 389.619 Q2316.14 394.202 2310.33 394.202 Q2304.52 394.202 2301.44 389.619 Q2298.39 385.013 2298.39 376.286 Q2298.39 367.536 2301.44 362.952 Q2304.52 358.346 2310.33 358.346 Z\" fill=\"#f8f8f2\" fill-rule=\"nonzero\" fill-opacity=\"1\" /><path clip-path=\"url(#clip920)\" d=\"M2340.49 362.05 Q2336.88 362.05 2335.05 365.614 Q2333.25 369.156 2333.25 376.286 Q2333.25 383.392 2335.05 386.957 Q2336.88 390.499 2340.49 390.499 Q2344.13 390.499 2345.93 386.957 Q2347.76 383.392 2347.76 376.286 Q2347.76 369.156 2345.93 365.614 Q2344.13 362.05 2340.49 362.05 M2340.49 358.346 Q2346.3 358.346 2349.36 362.952 Q2352.44 367.536 2352.44 376.286 Q2352.44 385.013 2349.36 389.619 Q2346.3 394.202 2340.49 394.202 Q2334.68 394.202 2331.6 389.619 Q2328.55 385.013 2328.55 376.286 Q2328.55 367.536 2331.6 362.952 Q2334.68 358.346 2340.49 358.346 Z\" fill=\"#f8f8f2\" fill-rule=\"nonzero\" fill-opacity=\"1\" /><path clip-path=\"url(#clip920)\" d=\"M2281.09 152.63 Q2277.95 152.63 2276.09 154.783 Q2274.27 156.936 2274.27 160.686 Q2274.27 164.413 2276.09 166.589 Q2277.95 168.741 2281.09 168.741 Q2284.24 168.741 2286.07 166.589 Q2287.92 164.413 2287.92 160.686 Q2287.92 156.936 2286.07 154.783 Q2284.24 152.63 2281.09 152.63 M2290.38 137.978 L2290.38 142.237 Q2288.62 141.404 2286.81 140.964 Q2285.03 140.524 2283.27 140.524 Q2278.64 140.524 2276.19 143.649 Q2273.76 146.774 2273.41 153.093 Q2274.77 151.08 2276.83 150.015 Q2278.89 148.927 2281.37 148.927 Q2286.58 148.927 2289.59 152.098 Q2292.62 155.246 2292.62 160.686 Q2292.62 166.01 2289.47 169.228 Q2286.33 172.445 2281.09 172.445 Q2275.1 172.445 2271.93 167.862 Q2268.76 163.255 2268.76 154.529 Q2268.76 146.334 2272.64 141.473 Q2276.53 136.589 2283.08 136.589 Q2284.84 136.589 2286.63 136.936 Q2288.43 137.283 2290.38 137.978 Z\" fill=\"#f8f8f2\" fill-rule=\"nonzero\" fill-opacity=\"1\" /><path clip-path=\"url(#clip920)\" d=\"M2310.68 140.293 Q2307.07 140.293 2305.24 143.857 Q2303.43 147.399 2303.43 154.529 Q2303.43 161.635 2305.24 165.2 Q2307.07 168.741 2310.68 168.741 Q2314.31 168.741 2316.12 165.2 Q2317.95 161.635 2317.95 154.529 Q2317.95 147.399 2316.12 143.857 Q2314.31 140.293 2310.68 140.293 M2310.68 136.589 Q2316.49 136.589 2319.54 141.195 Q2322.62 145.779 2322.62 154.529 Q2322.62 163.255 2319.54 167.862 Q2316.49 172.445 2310.68 172.445 Q2304.87 172.445 2301.79 167.862 Q2298.73 163.255 2298.73 154.529 Q2298.73 145.779 2301.79 141.195 Q2304.87 136.589 2310.68 136.589 Z\" fill=\"#f8f8f2\" fill-rule=\"nonzero\" fill-opacity=\"1\" /><path clip-path=\"url(#clip920)\" d=\"M2340.84 140.293 Q2337.23 140.293 2335.4 143.857 Q2333.59 147.399 2333.59 154.529 Q2333.59 161.635 2335.4 165.2 Q2337.23 168.741 2340.84 168.741 Q2344.47 168.741 2346.28 165.2 Q2348.11 161.635 2348.11 154.529 Q2348.11 147.399 2346.28 143.857 Q2344.47 140.293 2340.84 140.293 M2340.84 136.589 Q2346.65 136.589 2349.7 141.195 Q2352.78 145.779 2352.78 154.529 Q2352.78 163.255 2349.7 167.862 Q2346.65 172.445 2340.84 172.445 Q2335.03 172.445 2331.95 167.862 Q2328.89 163.255 2328.89 154.529 Q2328.89 145.779 2331.95 141.195 Q2335.03 136.589 2340.84 136.589 Z\" fill=\"#f8f8f2\" fill-rule=\"nonzero\" fill-opacity=\"1\" /><polyline clip-path=\"url(#clip920)\" style=\"stroke:#000000; stroke-linecap:round; stroke-linejoin:round; stroke-width:4; stroke-opacity:1; fill:none\" points=\"2232.76,1486.45 2232.76,1266.91 2256.76,1266.91 2232.76,1266.91 2232.76,1045.15 2256.76,1045.15 2232.76,1045.15 2232.76,823.394 2256.76,823.394 2232.76,823.394 2232.76,601.637 2256.76,601.637 2232.76,601.637 2232.76,379.88 2256.76,379.88 2232.76,379.88 2232.76,158.123 2256.76,158.123 2232.76,158.123 2232.76,47.2441 \"/>\n",
       "</svg>\n"
      ]
     },
     "execution_count": 92,
     "metadata": {},
     "output_type": "execute_result"
    }
   ],
   "source": [
    "x = randn(10^5)\n",
    "y = randn(10^5)\n",
    "histogram2d(x, y, bins=(64, 64))"
   ]
  },
  {
   "cell_type": "markdown",
   "metadata": {},
   "source": [
    "### Importing Data\n",
    "Bring data from external files into ${\\tt Julia}$."
   ]
  },
  {
   "cell_type": "markdown",
   "metadata": {},
   "source": [
    "Data is typically stored in files, such as _CSV_ or _JSON_ files. In order to train and test machine learning models, the data needs to be loaded into the program. Additionally, the results of the training and testing process, such as model weights and performance metrics, also need to be saved to files. Therefore, the ability to manipulate files is essential for loading and saving data and model information in the machine learning process."
   ]
  },
  {
   "cell_type": "code",
   "execution_count": 93,
   "metadata": {},
   "outputs": [
    {
     "name": "stderr",
     "output_type": "stream",
     "text": [
      "\u001b[32m\u001b[1m   Resolving\u001b[22m\u001b[39m package versions...\n",
      "\u001b[32m\u001b[1m  No Changes\u001b[22m\u001b[39m to `~/MEGA/git-repos/infodev/Codes/Project.toml`\n",
      "\u001b[32m\u001b[1m  No Changes\u001b[22m\u001b[39m to `~/MEGA/git-repos/infodev/Codes/Manifest.toml`\n",
      "\u001b[32m\u001b[1m   Resolving\u001b[22m\u001b[39m package versions...\n",
      "\u001b[32m\u001b[1m  No Changes\u001b[22m\u001b[39m to `~/MEGA/git-repos/infodev/Codes/Project.toml`\n",
      "\u001b[32m\u001b[1m  No Changes\u001b[22m\u001b[39m to `~/MEGA/git-repos/infodev/Codes/Manifest.toml`\n"
     ]
    }
   ],
   "source": [
    "using Pkg\n",
    "Pkg.add(\"DataFrames\")\n",
    "Pkg.add(\"CSV\")"
   ]
  },
  {
   "cell_type": "code",
   "execution_count": 94,
   "metadata": {},
   "outputs": [
    {
     "data": {
      "text/latex": [
       "Create new CSV file\n",
       "\n"
      ],
      "text/markdown": [
       "Create new CSV file\n"
      ],
      "text/plain": [
       "  Create new CSV file"
      ]
     },
     "execution_count": 94,
     "metadata": {},
     "output_type": "execute_result"
    }
   ],
   "source": [
    "md\"Create new CSV file\""
   ]
  },
  {
   "cell_type": "code",
   "execution_count": 95,
   "metadata": {},
   "outputs": [],
   "source": [
    "using CSV, DataFrames"
   ]
  },
  {
   "cell_type": "code",
   "execution_count": 96,
   "metadata": {},
   "outputs": [
    {
     "data": {
      "text/latex": [
       "\\texttt{touch} command allows to create a file if it doesn't exist. Otherwise, it changes the file timestamps.\n",
       "\n"
      ],
      "text/markdown": [
       "`touch` command allows to create a file if it doesn't exist. Otherwise, it changes the file timestamps.\n"
      ],
      "text/plain": [
       "  \u001b[36mtouch\u001b[39m command allows to create a file if it doesn't exist. Otherwise, it\n",
       "  changes the file timestamps."
      ]
     },
     "execution_count": 96,
     "metadata": {},
     "output_type": "execute_result"
    }
   ],
   "source": [
    "md\"`touch` command allows to create a file if it doesn't exist. Otherwise, it changes the file timestamps.\""
   ]
  },
  {
   "cell_type": "code",
   "execution_count": 97,
   "metadata": {},
   "outputs": [
    {
     "data": {
      "text/plain": [
       "\"test-file.csv\""
      ]
     },
     "execution_count": 97,
     "metadata": {},
     "output_type": "execute_result"
    }
   ],
   "source": [
    "touch(\"test-file.csv\")"
   ]
  },
  {
   "cell_type": "code",
   "execution_count": 98,
   "metadata": {},
   "outputs": [
    {
     "name": "stdout",
     "output_type": "stream",
     "text": [
      "-rw-rw-r-- 1 mhamdi mhamdi 66 Nov 29 21:36 test-file.csv\n"
     ]
    }
   ],
   "source": [
    ";ls -la test-file.csv"
   ]
  },
  {
   "cell_type": "code",
   "execution_count": 99,
   "metadata": {},
   "outputs": [
    {
     "data": {
      "text/plain": [
       "IOStream(<file test-file.csv>)"
      ]
     },
     "execution_count": 99,
     "metadata": {},
     "output_type": "execute_result"
    }
   ],
   "source": [
    "file = open(\"test-file.csv\", \"w\")"
   ]
  },
  {
   "cell_type": "code",
   "execution_count": 100,
   "metadata": {},
   "outputs": [
    {
     "data": {
      "text/latex": [
       "Let's create some imaginary data\n",
       "\n"
      ],
      "text/markdown": [
       "Let's create some imaginary data\n"
      ],
      "text/plain": [
       "  Let's create some imaginary data"
      ]
     },
     "execution_count": 100,
     "metadata": {},
     "output_type": "execute_result"
    }
   ],
   "source": [
    "md\"Let's create some imaginary data\""
   ]
  },
  {
   "cell_type": "code",
   "execution_count": 101,
   "metadata": {},
   "outputs": [
    {
     "data": {
      "text/html": [
       "<div><div style = \"float: left;\"><span>4×3 DataFrame</span></div><div style = \"clear: both;\"></div></div><div class = \"data-frame\" style = \"overflow-x: scroll;\"><table class = \"data-frame\" style = \"margin-bottom: 6px;\"><thead><tr class = \"header\"><th class = \"rowNumber\" style = \"font-weight: bold; text-align: right;\">Row</th><th style = \"text-align: left;\">Student</th><th style = \"text-align: left;\">Id</th><th style = \"text-align: left;\">Marks</th></tr><tr class = \"subheader headerLastRow\"><th class = \"rowNumber\" style = \"font-weight: bold; text-align: right;\"></th><th title = \"String\" style = \"text-align: left;\">String</th><th title = \"Int64\" style = \"text-align: left;\">Int64</th><th title = \"Float64\" style = \"text-align: left;\">Float64</th></tr></thead><tbody><tr><td class = \"rowNumber\" style = \"font-weight: bold; text-align: right;\">1</td><td style = \"text-align: left;\">Mohamed</td><td style = \"text-align: right;\">1</td><td style = \"text-align: right;\">18.0</td></tr><tr><td class = \"rowNumber\" style = \"font-weight: bold; text-align: right;\">2</td><td style = \"text-align: left;\">Aymen</td><td style = \"text-align: right;\">2</td><td style = \"text-align: right;\">7.0</td></tr><tr><td class = \"rowNumber\" style = \"font-weight: bold; text-align: right;\">3</td><td style = \"text-align: left;\">Rami</td><td style = \"text-align: right;\">3</td><td style = \"text-align: right;\">12.0</td></tr><tr><td class = \"rowNumber\" style = \"font-weight: bold; text-align: right;\">4</td><td style = \"text-align: left;\">Ala</td><td style = \"text-align: right;\">4</td><td style = \"text-align: right;\">5.5</td></tr></tbody></table></div>"
      ],
      "text/latex": [
       "\\begin{tabular}{r|ccc}\n",
       "\t& Student & Id & Marks\\\\\n",
       "\t\\hline\n",
       "\t& String & Int64 & Float64\\\\\n",
       "\t\\hline\n",
       "\t1 & Mohamed & 1 & 18.0 \\\\\n",
       "\t2 & Aymen & 2 & 7.0 \\\\\n",
       "\t3 & Rami & 3 & 12.0 \\\\\n",
       "\t4 & Ala & 4 & 5.5 \\\\\n",
       "\\end{tabular}\n"
      ],
      "text/plain": [
       "\u001b[1m4×3 DataFrame\u001b[0m\n",
       "\u001b[1m Row \u001b[0m│\u001b[1m Student \u001b[0m\u001b[1m Id    \u001b[0m\u001b[1m Marks   \u001b[0m\n",
       "     │\u001b[90m String  \u001b[0m\u001b[90m Int64 \u001b[0m\u001b[90m Float64 \u001b[0m\n",
       "─────┼─────────────────────────\n",
       "   1 │ Mohamed      1     18.0\n",
       "   2 │ Aymen        2      7.0\n",
       "   3 │ Rami         3     12.0\n",
       "   4 │ Ala          4      5.5"
      ]
     },
     "execution_count": 101,
     "metadata": {},
     "output_type": "execute_result"
    }
   ],
   "source": [
    "df = DataFrame(\n",
    "        Student = [\"Mohamed\", \"Aymen\", \"Rami\", \"Ala\"],\n",
    "        Id = [1, 2, 3, 4],\n",
    "        Marks = [18, 7, 12, 5.5]\n",
    "        )"
   ]
  },
  {
   "cell_type": "code",
   "execution_count": 102,
   "metadata": {},
   "outputs": [
    {
     "data": {
      "text/latex": [
       "Write \\texttt{df} to file\n",
       "\n"
      ],
      "text/markdown": [
       "Write `df` to file\n"
      ],
      "text/plain": [
       "  Write \u001b[36mdf\u001b[39m to file"
      ]
     },
     "execution_count": 102,
     "metadata": {},
     "output_type": "execute_result"
    }
   ],
   "source": [
    "md\"Write `df` to file\""
   ]
  },
  {
   "cell_type": "code",
   "execution_count": 103,
   "metadata": {},
   "outputs": [
    {
     "data": {
      "text/plain": [
       "\"test-file.csv\""
      ]
     },
     "execution_count": 103,
     "metadata": {},
     "output_type": "execute_result"
    }
   ],
   "source": [
    "CSV.write(\"test-file.csv\", df)"
   ]
  },
  {
   "cell_type": "code",
   "execution_count": 104,
   "metadata": {},
   "outputs": [
    {
     "data": {
      "text/latex": [
       "Open the CSV file and add some contents. See what happens when we load it again.\n",
       "\n"
      ],
      "text/markdown": [
       "Open the CSV file and add some contents. See what happens when we load it again.\n"
      ],
      "text/plain": [
       "  Open the CSV file and add some contents. See what happens when we load it\n",
       "  again."
      ]
     },
     "execution_count": 104,
     "metadata": {},
     "output_type": "execute_result"
    }
   ],
   "source": [
    "md\"Open the CSV file and add some contents. See what happens when we load it again.\""
   ]
  },
  {
   "cell_type": "code",
   "execution_count": 105,
   "metadata": {},
   "outputs": [
    {
     "data": {
      "text/html": [
       "<div><div style = \"float: left;\"><span>4×3 DataFrame</span></div><div style = \"clear: both;\"></div></div><div class = \"data-frame\" style = \"overflow-x: scroll;\"><table class = \"data-frame\" style = \"margin-bottom: 6px;\"><thead><tr class = \"header\"><th class = \"rowNumber\" style = \"font-weight: bold; text-align: right;\">Row</th><th style = \"text-align: left;\">Student</th><th style = \"text-align: left;\">Id</th><th style = \"text-align: left;\">Marks</th></tr><tr class = \"subheader headerLastRow\"><th class = \"rowNumber\" style = \"font-weight: bold; text-align: right;\"></th><th title = \"String7\" style = \"text-align: left;\">String7</th><th title = \"Int64\" style = \"text-align: left;\">Int64</th><th title = \"Float64\" style = \"text-align: left;\">Float64</th></tr></thead><tbody><tr><td class = \"rowNumber\" style = \"font-weight: bold; text-align: right;\">1</td><td style = \"text-align: left;\">Mohamed</td><td style = \"text-align: right;\">1</td><td style = \"text-align: right;\">18.0</td></tr><tr><td class = \"rowNumber\" style = \"font-weight: bold; text-align: right;\">2</td><td style = \"text-align: left;\">Aymen</td><td style = \"text-align: right;\">2</td><td style = \"text-align: right;\">7.0</td></tr><tr><td class = \"rowNumber\" style = \"font-weight: bold; text-align: right;\">3</td><td style = \"text-align: left;\">Rami</td><td style = \"text-align: right;\">3</td><td style = \"text-align: right;\">12.0</td></tr><tr><td class = \"rowNumber\" style = \"font-weight: bold; text-align: right;\">4</td><td style = \"text-align: left;\">Ala</td><td style = \"text-align: right;\">4</td><td style = \"text-align: right;\">5.5</td></tr></tbody></table></div>"
      ],
      "text/latex": [
       "\\begin{tabular}{r|ccc}\n",
       "\t& Student & Id & Marks\\\\\n",
       "\t\\hline\n",
       "\t& String7 & Int64 & Float64\\\\\n",
       "\t\\hline\n",
       "\t1 & Mohamed & 1 & 18.0 \\\\\n",
       "\t2 & Aymen & 2 & 7.0 \\\\\n",
       "\t3 & Rami & 3 & 12.0 \\\\\n",
       "\t4 & Ala & 4 & 5.5 \\\\\n",
       "\\end{tabular}\n"
      ],
      "text/plain": [
       "\u001b[1m4×3 DataFrame\u001b[0m\n",
       "\u001b[1m Row \u001b[0m│\u001b[1m Student \u001b[0m\u001b[1m Id    \u001b[0m\u001b[1m Marks   \u001b[0m\n",
       "     │\u001b[90m String7 \u001b[0m\u001b[90m Int64 \u001b[0m\u001b[90m Float64 \u001b[0m\n",
       "─────┼─────────────────────────\n",
       "   1 │ Mohamed      1     18.0\n",
       "   2 │ Aymen        2      7.0\n",
       "   3 │ Rami         3     12.0\n",
       "   4 │ Ala          4      5.5"
      ]
     },
     "execution_count": 105,
     "metadata": {},
     "output_type": "execute_result"
    }
   ],
   "source": [
    "CSV.read(\"test-file.csv\", DataFrame)"
   ]
  },
  {
   "cell_type": "markdown",
   "metadata": {},
   "source": [
    "### Logical Arrays\n",
    "Use logical expressions to help extracting elements of interest from ${\\tt Julia}$ arrays."
   ]
  },
  {
   "cell_type": "code",
   "execution_count": 106,
   "metadata": {},
   "outputs": [
    {
     "name": "stdout",
     "output_type": "stream",
     "text": [
      "ComplexF64[1.0 + 0.0im, 2.0 + 0.0im, -5.0 + 0.0im, 7.2 + 0.0im, 0.0 + 3.0im]\n"
     ]
    },
    {
     "data": {
      "text/plain": [
       "Vector{ComplexF64}\u001b[90m (alias for \u001b[39m\u001b[90mArray{Complex{Float64}, 1}\u001b[39m\u001b[90m)\u001b[39m"
      ]
     },
     "execution_count": 106,
     "metadata": {},
     "output_type": "execute_result"
    }
   ],
   "source": [
    "x = [1, 2, -5, 7.2, 3im]\n",
    "println(x)\n",
    "typeof(x)"
   ]
  },
  {
   "cell_type": "code",
   "execution_count": 107,
   "metadata": {},
   "outputs": [
    {
     "name": "stdout",
     "output_type": "stream",
     "text": [
      "ComplexF64[2.0 + 0.0im, 0.0 + 3.0im]"
     ]
    }
   ],
   "source": [
    "idx = [false, true, false, false, true]\n",
    "print(x[idx])"
   ]
  },
  {
   "cell_type": "code",
   "execution_count": 108,
   "metadata": {},
   "outputs": [
    {
     "data": {
      "text/plain": [
       "5×4 Matrix{Float64}:\n",
       " 6.90677e-310  6.90677e-310  6.90677e-310  6.90676e-310\n",
       " 6.90677e-310  6.90677e-310  6.90677e-310  6.90676e-310\n",
       " 6.90677e-310  6.90677e-310  6.90676e-310  6.90676e-310\n",
       " 6.90677e-310  6.90677e-310  6.90676e-310  6.90676e-310\n",
       " 6.90677e-310  6.90677e-310  6.90677e-310  6.90677e-310"
      ]
     },
     "execution_count": 108,
     "metadata": {},
     "output_type": "execute_result"
    }
   ],
   "source": [
    "M = Array{Float64, 2}(undef, 5, 4)"
   ]
  },
  {
   "cell_type": "code",
   "execution_count": 109,
   "metadata": {},
   "outputs": [],
   "source": [
    "row_idx = [true, false, true, true, false];\n",
    "col_idx = [false, true, true, false];"
   ]
  },
  {
   "cell_type": "code",
   "execution_count": 110,
   "metadata": {},
   "outputs": [
    {
     "data": {
      "text/plain": [
       "3×4 Matrix{Float64}:\n",
       " 6.90677e-310  6.90677e-310  6.90677e-310  6.90676e-310\n",
       " 6.90677e-310  6.90677e-310  6.90676e-310  6.90676e-310\n",
       " 6.90677e-310  6.90677e-310  6.90676e-310  6.90676e-310"
      ]
     },
     "execution_count": 110,
     "metadata": {},
     "output_type": "execute_result"
    }
   ],
   "source": [
    "M[row_idx, :]"
   ]
  },
  {
   "cell_type": "code",
   "execution_count": 111,
   "metadata": {},
   "outputs": [
    {
     "data": {
      "text/plain": [
       "5×2 Matrix{Float64}:\n",
       " 6.90677e-310  6.90677e-310\n",
       " 6.90677e-310  6.90677e-310\n",
       " 6.90677e-310  6.90676e-310\n",
       " 6.90677e-310  6.90676e-310\n",
       " 6.90677e-310  6.90677e-310"
      ]
     },
     "execution_count": 111,
     "metadata": {},
     "output_type": "execute_result"
    }
   ],
   "source": [
    "M[:, col_idx]"
   ]
  },
  {
   "cell_type": "code",
   "execution_count": 112,
   "metadata": {},
   "outputs": [
    {
     "data": {
      "text/plain": [
       "3×2 Matrix{Float64}:\n",
       " 6.90677e-310  6.90677e-310\n",
       " 6.90677e-310  6.90676e-310\n",
       " 6.90677e-310  6.90676e-310"
      ]
     },
     "execution_count": 112,
     "metadata": {},
     "output_type": "execute_result"
    }
   ],
   "source": [
    "M[row_idx, col_idx]"
   ]
  },
  {
   "cell_type": "markdown",
   "metadata": {},
   "source": [
    "### Programming\n",
    "Write programs that execute code based on some condition."
   ]
  },
  {
   "cell_type": "code",
   "execution_count": 113,
   "metadata": {},
   "outputs": [
    {
     "data": {
      "text/latex": [
       "\\textbf{Conditional Evaluation}\n",
       "\n"
      ],
      "text/markdown": [
       "**Conditional Evaluation**\n"
      ],
      "text/plain": [
       "  \u001b[1mConditional Evaluation\u001b[22m"
      ]
     },
     "execution_count": 113,
     "metadata": {},
     "output_type": "execute_result"
    }
   ],
   "source": [
    "md\"**Conditional Evaluation**\""
   ]
  },
  {
   "cell_type": "code",
   "execution_count": 114,
   "metadata": {},
   "outputs": [
    {
     "name": "stdout",
     "output_type": "stream",
     "text": [
      "π is equal to π\n"
     ]
    }
   ],
   "source": [
    "a, b = π, π\n",
    "if a < b\n",
    "    println(\"$a is less than $b\")\n",
    "elseif a > b\n",
    "    println(\"$a is greater than $b\")\n",
    "else\n",
    "    println(\"$a is equal to $b\")\n",
    "end"
   ]
  },
  {
   "cell_type": "code",
   "execution_count": 115,
   "metadata": {},
   "outputs": [
    {
     "data": {
      "text/latex": [
       "\\textbf{\\texttt{While} Loop}\n",
       "\n"
      ],
      "text/markdown": [
       "**`While` Loop**\n"
      ],
      "text/plain": [
       "  \u001b[1m\u001b[36mWhile\u001b[39m Loop\u001b[22m"
      ]
     },
     "execution_count": 115,
     "metadata": {},
     "output_type": "execute_result"
    }
   ],
   "source": [
    "md\"**`While` Loop**\""
   ]
  },
  {
   "cell_type": "code",
   "execution_count": 116,
   "metadata": {},
   "outputs": [
    {
     "name": "stdout",
     "output_type": "stream",
     "text": [
      "Item #1 is Blueberry\n",
      "Item #2 is Orange\n",
      "Item #3 is Banana\n",
      "Item #4 is Raspberry\n",
      "Item #5 is Strawberry\n"
     ]
    }
   ],
   "source": [
    "fruits = [\"Blueberry\", \"Orange\", \"Banana\", \"Raspberry\", \"Strawberry\"]\n",
    "iter = 1\n",
    "while iter ≤ length(fruits)\n",
    "    println(\"Item #$iter is $(fruits[iter])\")\n",
    "    iter +=1\n",
    "end"
   ]
  },
  {
   "cell_type": "code",
   "execution_count": 117,
   "metadata": {},
   "outputs": [
    {
     "data": {
      "text/latex": [
       "\\textbf{\\texttt{For} Loop}\n",
       "\n"
      ],
      "text/markdown": [
       "**`For` Loop**\n"
      ],
      "text/plain": [
       "  \u001b[1m\u001b[36mFor\u001b[39m Loop\u001b[22m"
      ]
     },
     "execution_count": 117,
     "metadata": {},
     "output_type": "execute_result"
    }
   ],
   "source": [
    "md\"**`For` Loop**\""
   ]
  },
  {
   "cell_type": "code",
   "execution_count": 118,
   "metadata": {},
   "outputs": [
    {
     "name": "stdout",
     "output_type": "stream",
     "text": [
      "Item #1 is Broccoli\n",
      "Item #2 is Garlic\n",
      "Item #3 is Mushrooms\n",
      "Item #4 is Potatoes\n",
      "Item #5 is Tomatoes\n"
     ]
    }
   ],
   "source": [
    "vegetables = [\"Broccoli\", \"Garlic\", \"Mushrooms\", \"Potatoes\", \"Tomatoes\"]\n",
    "i = 1\n",
    "for item in vegetables\n",
    "    println(\"Item #$i is $item\")\n",
    "    i += 1\n",
    "end"
   ]
  },
  {
   "cell_type": "markdown",
   "metadata": {},
   "source": [
    "### Final Project\n",
    "Bring together concepts that you have learned with a project."
   ]
  },
  {
   "cell_type": "markdown",
   "metadata": {},
   "source": [
    "This simple project consists of implementing a basic calculator. This latter could have the ability to perform basic arithmetic operations like _addition_, _subtraction_, _multiplication_, and _division_.\n",
    "\n",
    "Here are the steps to be followed:\n",
    "1. Create a function called `calculator()` that takes two arguments, `x` and `y`, and a char operation that specifies which operation to perform.\n",
    "1. Use an `if-else` statement to check the value of operation. Depending on the value of operation, call the appropriate function to perform the calculation.\n",
    "1. Test the calculator function by calling it with different values for `x`, `y`, and operation and printing the result.\n",
    "1. Once the basic calculator is working, we can improve it by adding more functionality such as handling decimals and negative numbers, or implementing more advanced operations such as square root, power, trigonometry and so on.\n",
    "1. Finally, we could also experiment with different input types, such as command line arguments or a graphical user interface."
   ]
  },
  {
   "cell_type": "code",
   "execution_count": 119,
   "metadata": {},
   "outputs": [
    {
     "data": {
      "text/latex": [
       "Here is an example of how the basic calculator function could look like:\n",
       "\n"
      ],
      "text/markdown": [
       "Here is an example of how the basic calculator function could look like:\n"
      ],
      "text/plain": [
       "  Here is an example of how the basic calculator function could look like:"
      ]
     },
     "execution_count": 119,
     "metadata": {},
     "output_type": "execute_result"
    }
   ],
   "source": [
    "md\"Here is an example of how the basic calculator function could look like:\""
   ]
  },
  {
   "cell_type": "code",
   "execution_count": 120,
   "metadata": {},
   "outputs": [
    {
     "data": {
      "text/plain": [
       "calculator (generic function with 1 method)"
      ]
     },
     "execution_count": 120,
     "metadata": {},
     "output_type": "execute_result"
    }
   ],
   "source": [
    "function calculator(x::Number, y::Number, op::Char)\n",
    "    if op == '+'\n",
    "        return x + y\n",
    "    elseif op == '-'\n",
    "        return x - y\n",
    "    elseif op == '*'\n",
    "        return x * y\n",
    "    elseif op in ['/', '÷']\n",
    "        return x / y\n",
    "    else\n",
    "        return \"INVALID OPERATION\"\n",
    "    end\n",
    "end"
   ]
  },
  {
   "cell_type": "code",
   "execution_count": 121,
   "metadata": {},
   "outputs": [
    {
     "name": "stdout",
     "output_type": "stream",
     "text": [
      "Summation is 8\n",
      "Subtraction is 2\n",
      "Multiplication is 15\n",
      "Division is 1.6666666666666667\n",
      "INVALID OPERATION\n"
     ]
    }
   ],
   "source": [
    "println(\"Summation is $(calculator(5, 3, '+'))\")\n",
    "println(\"Subtraction is $(calculator(5, 3, '-'))\")\n",
    "println(\"Multiplication is $(calculator(5, 3, '*'))\")\n",
    "println(\"Division is $(calculator(5, 3, '÷'))\")\n",
    "println(calculator(5, 3, '×'))"
   ]
  },
  {
   "cell_type": "markdown",
   "metadata": {},
   "source": [
    "**Miscallenous**"
   ]
  },
  {
   "cell_type": "code",
   "execution_count": 122,
   "metadata": {
    "tags": []
   },
   "outputs": [
    {
     "name": "stdout",
     "output_type": "stream",
     "text": [
      "Julia Version 1.9.3\n",
      "Commit bed2cd540a (2023-08-24 14:43 UTC)\n",
      "Build Info:\n",
      "\n",
      "    Note: This is an unofficial build, please report bugs to the project\n",
      "    responsible for this build and not to the Julia project unless you can\n",
      "    reproduce the issue using official builds available at https://julialang.org/downloads\n",
      "\n",
      "Platform Info:\n",
      "  OS: Linux (x86_64-linux-gnu)\n",
      "  CPU: 8 × Intel(R) Core(TM) i7-8565U CPU @ 1.80GHz\n",
      "  WORD_SIZE: 64\n",
      "  LIBM: libopenlibm\n",
      "  LLVM: libLLVM-14.0.6 (ORCJIT, skylake)\n",
      "  Threads: 2 on 8 virtual cores\n"
     ]
    }
   ],
   "source": [
    "md\"Check your version of Julia\"\n",
    "versioninfo()"
   ]
  },
  {
   "cell_type": "code",
   "execution_count": 123,
   "metadata": {
    "tags": []
   },
   "outputs": [
    {
     "data": {
      "text/latex": [
       "The macro \\texttt{@edit} shows the defintion of a function when invoked with specific arguments\n",
       "\n"
      ],
      "text/markdown": [
       "The macro `@edit` shows the defintion of a function when invoked with specific arguments\n"
      ],
      "text/plain": [
       "  The macro \u001b[36m@edit\u001b[39m shows the defintion of a function when invoked with specific\n",
       "  arguments"
      ]
     },
     "execution_count": 123,
     "metadata": {},
     "output_type": "execute_result"
    }
   ],
   "source": [
    "md\"The macro `@edit` shows the defintion of a function when invoked with specific arguments\"\n",
    "# @edit maximum([-1, 0, 1])"
   ]
  },
  {
   "cell_type": "code",
   "execution_count": 124,
   "metadata": {
    "tags": []
   },
   "outputs": [
    {
     "data": {
      "text/latex": [
       "\\begin{tabular}\n",
       "{l | r | l}\n",
       "name & size & summary \\\\\n",
       "\\hline\n",
       "Base &  & Module \\\\\n",
       "Core &  & Module \\\\\n",
       "Foo & 0 bytes & Foo (generic function with 1 method) \\\\\n",
       "M & 200 bytes & 5×4 Matrix\\{Float64\\} \\\\\n",
       "Main &  & Module \\\\\n",
       "PLOTS\\_DEFAULTS & 456 bytes & Dict\\{Symbol, Symbol\\} with 1 entry \\\\\n",
       "a & 0 bytes & Irrational\\{:π\\} \\\\\n",
       "b & 0 bytes & Irrational\\{:π\\} \\\\\n",
       "bar & 0 bytes & bar (generic function with 1 method) \\\\\n",
       "calculator & 0 bytes & calculator (generic function with 1 method) \\\\\n",
       "col\\_idx & 44 bytes & 4-element Vector\\{Bool\\} \\\\\n",
       "df & 915 bytes & 4×3 DataFrame \\\\\n",
       "dict & 503 bytes & Dict\\{String, Int64\\} with 3 entries \\\\\n",
       "f & 0 bytes & f (generic function with 4 methods) \\\\\n",
       "file & 372 bytes & IOStream \\\\\n",
       "foo & 0 bytes & foo (generic function with 4 methods) \\\\\n",
       "fruits & 160 bytes & 5-element Vector\\{String\\} \\\\\n",
       "g & 0 bytes & g (generic function with 1 method) \\\\\n",
       "h & 0 bytes & h (generic function with 1 method) \\\\\n",
       "i & 8 bytes & Int64 \\\\\n",
       "idx & 45 bytes & 5-element Vector\\{Bool\\} \\\\\n",
       "iter & 8 bytes & Int64 \\\\\n",
       "lst & 176 bytes & 5-element Vector\\{Any\\} \\\\\n",
       "mycos & 0 bytes & mycos (generic function with 2 methods) \\\\\n",
       "row\\_idx & 45 bytes & 5-element Vector\\{Bool\\} \\\\\n",
       "showall & 0 bytes & showall (generic function with 1 method) \\\\\n",
       "str & 19 bytes & 11-codeunit String \\\\\n",
       "tmp & 1 byte & UInt8 \\\\\n",
       "var & 80 bytes & 2×4 BitMatrix \\\\\n",
       "vegetables & 159 bytes & 5-element Vector\\{String\\} \\\\\n",
       "x & 120 bytes & 5-element Vector\\{ComplexF64\\} \\\\\n",
       "y & 781.289 KiB & 100000-element Vector\\{Float64\\} \\\\\n",
       "z & 768 bytes & 91-element Vector\\{Float64\\} \\\\\n",
       "\\end{tabular}\n"
      ],
      "text/markdown": [
       "| name           |        size | summary                                     |\n",
       "|:-------------- | -----------:|:------------------------------------------- |\n",
       "| Base           |             | Module                                      |\n",
       "| Core           |             | Module                                      |\n",
       "| Foo            |     0 bytes | Foo (generic function with 1 method)        |\n",
       "| M              |   200 bytes | 5×4 Matrix{Float64}                         |\n",
       "| Main           |             | Module                                      |\n",
       "| PLOTS_DEFAULTS |   456 bytes | Dict{Symbol, Symbol} with 1 entry           |\n",
       "| a              |     0 bytes | Irrational{:π}                              |\n",
       "| b              |     0 bytes | Irrational{:π}                              |\n",
       "| bar            |     0 bytes | bar (generic function with 1 method)        |\n",
       "| calculator     |     0 bytes | calculator (generic function with 1 method) |\n",
       "| col_idx        |    44 bytes | 4-element Vector{Bool}                      |\n",
       "| df             |   915 bytes | 4×3 DataFrame                               |\n",
       "| dict           |   503 bytes | Dict{String, Int64} with 3 entries          |\n",
       "| f              |     0 bytes | f (generic function with 4 methods)         |\n",
       "| file           |   372 bytes | IOStream                                    |\n",
       "| foo            |     0 bytes | foo (generic function with 4 methods)       |\n",
       "| fruits         |   160 bytes | 5-element Vector{String}                    |\n",
       "| g              |     0 bytes | g (generic function with 1 method)          |\n",
       "| h              |     0 bytes | h (generic function with 1 method)          |\n",
       "| i              |     8 bytes | Int64                                       |\n",
       "| idx            |    45 bytes | 5-element Vector{Bool}                      |\n",
       "| iter           |     8 bytes | Int64                                       |\n",
       "| lst            |   176 bytes | 5-element Vector{Any}                       |\n",
       "| mycos          |     0 bytes | mycos (generic function with 2 methods)     |\n",
       "| row_idx        |    45 bytes | 5-element Vector{Bool}                      |\n",
       "| showall        |     0 bytes | showall (generic function with 1 method)    |\n",
       "| str            |    19 bytes | 11-codeunit String                          |\n",
       "| tmp            |      1 byte | UInt8                                       |\n",
       "| var            |    80 bytes | 2×4 BitMatrix                               |\n",
       "| vegetables     |   159 bytes | 5-element Vector{String}                    |\n",
       "| x              |   120 bytes | 5-element Vector{ComplexF64}                |\n",
       "| y              | 781.289 KiB | 100000-element Vector{Float64}              |\n",
       "| z              |   768 bytes | 91-element Vector{Float64}                  |\n"
      ],
      "text/plain": [
       "  name                  size summary                                    \n",
       "  –––––––––––––– ––––––––––– –––––––––––––––––––––––––––––––––––––––––––\n",
       "  Base                       Module                                     \n",
       "  Core                       Module                                     \n",
       "  Foo                0 bytes Foo (generic function with 1 method)       \n",
       "  M                200 bytes 5×4 Matrix{Float64}                        \n",
       "  Main                       Module                                     \n",
       "  PLOTS_DEFAULTS   456 bytes Dict{Symbol, Symbol} with 1 entry          \n",
       "  a                  0 bytes Irrational{:π}                             \n",
       "  b                  0 bytes Irrational{:π}                             \n",
       "  bar                0 bytes bar (generic function with 1 method)       \n",
       "  calculator         0 bytes calculator (generic function with 1 method)\n",
       "  col_idx           44 bytes 4-element Vector{Bool}                     \n",
       "  df               915 bytes 4×3 DataFrame                              \n",
       "  dict             503 bytes Dict{String, Int64} with 3 entries         \n",
       "  f                  0 bytes f (generic function with 4 methods)        \n",
       "  file             372 bytes IOStream                                   \n",
       "  foo                0 bytes foo (generic function with 4 methods)      \n",
       "  fruits           160 bytes 5-element Vector{String}                   \n",
       "  g                  0 bytes g (generic function with 1 method)         \n",
       "  h                  0 bytes h (generic function with 1 method)         \n",
       "  i                  8 bytes Int64                                      \n",
       "  idx               45 bytes 5-element Vector{Bool}                     \n",
       "  iter               8 bytes Int64                                      \n",
       "  lst              176 bytes 5-element Vector{Any}                      \n",
       "  mycos              0 bytes mycos (generic function with 2 methods)    \n",
       "  row_idx           45 bytes 5-element Vector{Bool}                     \n",
       "  showall            0 bytes showall (generic function with 1 method)   \n",
       "  str               19 bytes 11-codeunit String                         \n",
       "  tmp                 1 byte UInt8                                      \n",
       "  var               80 bytes 2×4 BitMatrix                              \n",
       "  vegetables       159 bytes 5-element Vector{String}                   \n",
       "  x                120 bytes 5-element Vector{ComplexF64}               \n",
       "  y              781.289 KiB 100000-element Vector{Float64}             \n",
       "  z                768 bytes 91-element Vector{Float64}                 "
      ]
     },
     "execution_count": 124,
     "metadata": {},
     "output_type": "execute_result"
    }
   ],
   "source": [
    "md\"`varinfo` lists all global variables and their corresponding types in the current scope\"\n",
    "varinfo()"
   ]
  },
  {
   "cell_type": "markdown",
   "metadata": {
    "tags": []
   },
   "source": [
    "_Modules_"
   ]
  },
  {
   "cell_type": "code",
   "execution_count": 125,
   "metadata": {
    "tags": []
   },
   "outputs": [
    {
     "data": {
      "text/plain": [
       "Main.MyModule"
      ]
     },
     "execution_count": 125,
     "metadata": {},
     "output_type": "execute_result"
    }
   ],
   "source": [
    "module MyModule\n",
    "export a\n",
    "a = 0\n",
    "b = true\n",
    "end"
   ]
  },
  {
   "cell_type": "code",
   "execution_count": 126,
   "metadata": {
    "tags": []
   },
   "outputs": [
    {
     "data": {
      "text/latex": [
       "\\begin{tabular}\n",
       "{l | r | l}\n",
       "name & size & summary \\\\\n",
       "\\hline\n",
       "MyModule & 2.304 KiB & Module \\\\\n",
       "a & 8 bytes & Int64 \\\\\n",
       "\\end{tabular}\n"
      ],
      "text/markdown": [
       "| name     |      size | summary |\n",
       "|:-------- | ---------:|:------- |\n",
       "| MyModule | 2.304 KiB | Module  |\n",
       "| a        |   8 bytes | Int64   |\n"
      ],
      "text/plain": [
       "  name          size summary\n",
       "  –––––––– ––––––––– –––––––\n",
       "  MyModule 2.304 KiB Module \n",
       "  a          8 bytes Int64  "
      ]
     },
     "execution_count": 126,
     "metadata": {},
     "output_type": "execute_result"
    }
   ],
   "source": [
    "varinfo(MyModule)"
   ]
  },
  {
   "cell_type": "code",
   "execution_count": 127,
   "metadata": {
    "tags": []
   },
   "outputs": [
    {
     "data": {
      "text/plain": [
       "π = 3.1415926535897..."
      ]
     },
     "execution_count": 127,
     "metadata": {},
     "output_type": "execute_result"
    }
   ],
   "source": [
    "a"
   ]
  },
  {
   "cell_type": "code",
   "execution_count": 128,
   "metadata": {
    "tags": []
   },
   "outputs": [
    {
     "data": {
      "text/plain": [
       "0"
      ]
     },
     "execution_count": 128,
     "metadata": {},
     "output_type": "execute_result"
    }
   ],
   "source": [
    "MyModule.a"
   ]
  },
  {
   "cell_type": "code",
   "execution_count": 129,
   "metadata": {
    "tags": []
   },
   "outputs": [
    {
     "data": {
      "text/plain": [
       "true"
      ]
     },
     "execution_count": 129,
     "metadata": {},
     "output_type": "execute_result"
    }
   ],
   "source": [
    "MyModule.b"
   ]
  },
  {
   "cell_type": "code",
   "execution_count": null,
   "metadata": {},
   "outputs": [],
   "source": []
  }
 ],
 "metadata": {
  "kernelspec": {
   "display_name": "Julia 1.9.3",
   "language": "julia",
   "name": "julia-1.9"
  },
  "language_info": {
   "file_extension": ".jl",
   "mimetype": "application/julia",
   "name": "julia",
   "version": "1.9.3"
  }
 },
 "nbformat": 4,
 "nbformat_minor": 4
}
