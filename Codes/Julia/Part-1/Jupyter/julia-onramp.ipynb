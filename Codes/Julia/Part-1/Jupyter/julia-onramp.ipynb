{
 "cells": [
  {
   "cell_type": "markdown",
   "metadata": {},
   "source": [
    "# `Julia` ONRAMP\n",
    "---"
   ]
  },
  {
   "cell_type": "markdown",
   "metadata": {},
   "source": [
    "### GOALS\n",
    "- Enter commands in ${\\tt Julia}$ REPL to create variables and perform calculations;\n",
    "- Write and save programs;\n",
    "- Use indexing to extract and modify rows, columns, and elements of ${\\tt Julia}$ tensors."
   ]
  },
  {
   "cell_type": "markdown",
   "metadata": {},
   "source": [
    "${\\tt Julia}$ is a standalone program which can be downloaded from [https://julialang.org/downloads/](https://julialang.org/downloads/)"
   ]
  },
  {
   "cell_type": "markdown",
   "metadata": {
    "tags": []
   },
   "source": [
    "**Getting around**"
   ]
  },
  {
   "cell_type": "markdown",
   "metadata": {},
   "source": [
    "By default, Julia runs in an interactive terminal called the REPL. In this mode, Some useful commands are:\n",
    "1. `^C` aborts execution\n",
    "1. `^D` exits Julia\n",
    "1. `?` enters help mode\n",
    "1. `;` enters system shell mode\n",
    "1. `]` enters package manager mode\n",
    "1. `^l` clears screen"
   ]
  },
  {
   "cell_type": "markdown",
   "metadata": {},
   "source": [
    "We begin first by activating the environement within the desired folder."
   ]
  },
  {
   "cell_type": "markdown",
   "metadata": {},
   "source": [
    "From the REPL interface, either type\n",
    "```julia\n",
    "using Pkg  \n",
    "pkg\"activate .\"\n",
    "```\n",
    "or access the package mode by typing `]` and simply write\n",
    "```julia\n",
    "activate .\n",
    "```\n",
    "Always within the package mode, to see the full list of installed packages\n",
    "```julia\n",
    "st\n",
    "```"
   ]
  },
  {
   "cell_type": "code",
   "execution_count": 134,
   "metadata": {
    "scrolled": true
   },
   "outputs": [
    {
     "name": "stderr",
     "output_type": "stream",
     "text": [
      "\u001b[32m\u001b[1m  Activating\u001b[22m\u001b[39m project at `~/Work/git-repos/AI-ML-DL/jlai/Codes/Julia/Part-1`\n"
     ]
    }
   ],
   "source": [
    "using Pkg; pkg\"activate ..\""
   ]
  },
  {
   "cell_type": "code",
   "execution_count": 135,
   "metadata": {},
   "outputs": [
    {
     "name": "stdout",
     "output_type": "stream",
     "text": [
      "\u001b[32m\u001b[1mStatus\u001b[22m\u001b[39m `~/Work/git-repos/AI-ML-DL/jlai/Codes/Julia/Part-1/Project.toml`\n",
      "  \u001b[90m[336ed68f] \u001b[39mCSV v0.10.15\n",
      "  \u001b[90m[a93c6f00] \u001b[39mDataFrames v1.7.0\n",
      "  \u001b[90m[587475ba] \u001b[39mFlux v0.16.0\n",
      "  \u001b[90m[a9166f1b] \u001b[39mFuzzy v0.3.1\n",
      "  \u001b[90m[d8c32880] \u001b[39mImageInTerminal v0.5.4\n",
      "  \u001b[90m[add582a8] \u001b[39mMLJ v0.20.7\n",
      "  \u001b[90m[91a5bcdd] \u001b[39mPlots v1.40.9\n",
      "  \u001b[90m[c3e4b0f8] \u001b[39mPluto v0.20.4\n",
      "  \u001b[90m[7f904dfe] \u001b[39mPlutoUI v0.7.60\n",
      "  \u001b[90m[92933f4c] \u001b[39mProgressMeter v1.10.2\n",
      "  \u001b[90m[d6f4376e] \u001b[39mMarkdown v1.11.0\n"
     ]
    }
   ],
   "source": [
    "using Pkg; pkg\"status\""
   ]
  },
  {
   "cell_type": "markdown",
   "metadata": {},
   "source": [
    "To add the **Markdown** package for instance, we write"
   ]
  },
  {
   "cell_type": "code",
   "execution_count": 136,
   "metadata": {
    "tags": []
   },
   "outputs": [
    {
     "name": "stderr",
     "output_type": "stream",
     "text": [
      "\u001b[32m\u001b[1m   Resolving\u001b[22m\u001b[39m package versions...\n",
      "\u001b[32m\u001b[1m  No Changes\u001b[22m\u001b[39m to `~/Work/git-repos/AI-ML-DL/jlai/Codes/Julia/Part-1/Project.toml`\n",
      "\u001b[32m\u001b[1m  No Changes\u001b[22m\u001b[39m to `~/Work/git-repos/AI-ML-DL/jlai/Codes/Julia/Part-1/Manifest.toml`\n"
     ]
    }
   ],
   "source": [
    "using Pkg; pkg\"add Markdown\""
   ]
  },
  {
   "cell_type": "markdown",
   "metadata": {},
   "source": [
    "To be able to use it, we do as follows"
   ]
  },
  {
   "cell_type": "code",
   "execution_count": 137,
   "metadata": {},
   "outputs": [],
   "source": [
    "using Markdown"
   ]
  },
  {
   "cell_type": "code",
   "execution_count": 138,
   "metadata": {},
   "outputs": [
    {
     "data": {
      "text/latex": [
       "This a text inside a code cell, thanks to \\textbf{Markdown} package. I can \\emph{emphasize} anything. Make other things \\textbf{bold}\n",
       "\n"
      ],
      "text/markdown": [
       "This a text inside a code cell, thanks to **Markdown** package. I can *emphasize* anything. Make other things **bold**\n"
      ],
      "text/plain": [
       "  This a text inside a code cell, thanks to \u001b[1mMarkdown\u001b[22m package. I can \u001b[4memphasize\u001b[24m\n",
       "  anything. Make other things \u001b[1mbold\u001b[22m"
      ]
     },
     "execution_count": 138,
     "metadata": {},
     "output_type": "execute_result"
    }
   ],
   "source": [
    "md\"\"\"\n",
    "This a text inside a code cell, thanks to **Markdown** package. I can _emphasize_ anything. Make other things **bold**\n",
    "\"\"\""
   ]
  },
  {
   "cell_type": "markdown",
   "metadata": {},
   "source": [
    "Jupyter Lab is pretty handy. We only need to install the appropriate kernel. In order to add `Julia` kernel `IJulia` to Jupyter Notebook and/or `JupyterLab` IDEs, we begin by executing the following commands:\n",
    "```julia\n",
    "using Pkg  \n",
    "Pkg.add(\"IJulia\") \n",
    "```\n",
    "If we want to get `JupyterLab` instance running in current directory, we can do:\n",
    "```julia\n",
    "jupyterlab(dir=pwd(), detached=true)\n",
    "```"
   ]
  },
  {
   "cell_type": "markdown",
   "metadata": {},
   "source": [
    "In case things do not work, we run the two following commands from ${\\tt Julia}$ REPL which launch jupyter environment.\n",
    "```julia\n",
    "using IJulia  \n",
    "installkernel(\"Julia\") \n",
    "```"
   ]
  },
  {
   "cell_type": "markdown",
   "metadata": {},
   "source": [
    "The shell mode is also available through the REPL to evaluate some os commands. To do so, simply preface the regular command by semicolon. For instance, `pwd` prints the path to working directory and `ls` allows to list the content of the current directory."
   ]
  },
  {
   "cell_type": "code",
   "execution_count": 139,
   "metadata": {},
   "outputs": [
    {
     "name": "stdout",
     "output_type": "stream",
     "text": [
      "/home/mhamdi/Work/git-repos/AI-ML-DL/jlai/Codes/Julia/Part-1/Jupyter\n"
     ]
    }
   ],
   "source": [
    ";pwd"
   ]
  },
  {
   "cell_type": "code",
   "execution_count": 140,
   "metadata": {
    "scrolled": true
   },
   "outputs": [
    {
     "name": "stdout",
     "output_type": "stream",
     "text": [
      "total 4924\n",
      "drwxrwxr-x 3 mhamdi mhamdi    4096 Dec 22 15:11 .\n",
      "drwx------ 4 mhamdi mhamdi    4096 Dec 22 14:53 ..\n",
      "-rw-rw-r-- 1 mhamdi mhamdi  711291 Dec 22 15:11 classifier-ann.ipynb\n",
      "drwxrwxr-x 2 mhamdi mhamdi    4096 Dec 22 15:09 .ipynb_checkpoints\n",
      "-rw------- 1 mhamdi mhamdi  652496 Dec 22 15:11 julia-onramp.ipynb\n",
      "-rw-r--r-- 1 mhamdi mhamdi   11002 Dec 17 22:24 jupyter.svg\n",
      "-rw-rw-r-- 1 mhamdi mhamdi      26 Dec 18 01:24 README.md\n",
      "-rw-rw-r-- 1 mhamdi mhamdi  648221 Dec 22 15:11 selection-process.ipynb\n",
      "-rw-rw-r-- 1 mhamdi mhamdi      66 Dec 22 15:11 test-file.csv\n",
      "-rw-rw-r-- 1 mhamdi mhamdi  335131 Dec 22 15:11 tipper.ipynb\n",
      "-rw-r--r-- 1 mhamdi mhamdi      15 Dec 18 01:23 .wakatime-project\n",
      "-rw-rw-r-- 1 mhamdi mhamdi 2649684 Dec 22 15:11 xor-gate.ipynb\n"
     ]
    }
   ],
   "source": [
    ";ls -la"
   ]
  },
  {
   "cell_type": "markdown",
   "metadata": {},
   "source": [
    "### Getting Help\n",
    "In order to seek help on a particular function. We just use the `?` mark. We can use the ${\\tt Julia}$ documentation to discover more pieces of information about ${\\tt Julia}$ features."
   ]
  },
  {
   "cell_type": "code",
   "execution_count": 141,
   "metadata": {},
   "outputs": [
    {
     "name": "stdout",
     "output_type": "stream",
     "text": [
      "search: \u001b[0m\u001b[1mc\u001b[22m\u001b[0m\u001b[1mo\u001b[22m\u001b[0m\u001b[1ms\u001b[22m a\u001b[0m\u001b[1mc\u001b[22m\u001b[0m\u001b[1mo\u001b[22m\u001b[0m\u001b[1ms\u001b[22m \u001b[0m\u001b[1mc\u001b[22m\u001b[0m\u001b[1mo\u001b[22m\u001b[0m\u001b[1ms\u001b[22md \u001b[0m\u001b[1mc\u001b[22m\u001b[0m\u001b[1mo\u001b[22m\u001b[0m\u001b[1ms\u001b[22mc \u001b[0m\u001b[1mc\u001b[22m\u001b[0m\u001b[1mo\u001b[22m\u001b[0m\u001b[1ms\u001b[22mh \u001b[0m\u001b[1mc\u001b[22mis \u001b[0m\u001b[1mc\u001b[22m\u001b[0m\u001b[1mo\u001b[22mt a\u001b[0m\u001b[1mc\u001b[22m\u001b[0m\u001b[1mo\u001b[22m\u001b[0m\u001b[1ms\u001b[22mh \u001b[0m\u001b[1mc\u001b[22ml\u001b[0m\u001b[1mo\u001b[22m\u001b[0m\u001b[1ms\u001b[22me \u001b[0m\u001b[1mc\u001b[22m\u001b[0m\u001b[1mo\u001b[22mn\u001b[0m\u001b[1ms\u001b[22mt my\u001b[0m\u001b[1mc\u001b[22m\u001b[0m\u001b[1mo\u001b[22m\u001b[0m\u001b[1ms\u001b[22m a\u001b[0m\u001b[1mc\u001b[22m\u001b[0m\u001b[1mo\u001b[22m\u001b[0m\u001b[1ms\u001b[22md \u001b[0m\u001b[1mc\u001b[22m\u001b[0m\u001b[1mo\u001b[22m\u001b[0m\u001b[1ms\u001b[22mpi a\u001b[0m\u001b[1mc\u001b[22m\u001b[0m\u001b[1mo\u001b[22mt\n",
      "\n"
     ]
    },
    {
     "data": {
      "text/latex": [
       "\\begin{verbatim}\n",
       "cos(x)\n",
       "\\end{verbatim}\n",
       "Compute cosine of \\texttt{x}, where \\texttt{x} is in radians.\n",
       "\n",
       "See also \\href{@ref}{\\texttt{cosd}}, \\href{@ref}{\\texttt{cospi}}, \\href{@ref}{\\texttt{sincos}}, \\href{@ref}{\\texttt{cis}}.\n",
       "\n",
       "\\rule{\\textwidth}{1pt}\n",
       "\\begin{verbatim}\n",
       "cos(A::AbstractMatrix)\n",
       "\\end{verbatim}\n",
       "Compute the matrix cosine of a square matrix \\texttt{A}.\n",
       "\n",
       "If \\texttt{A} is symmetric or Hermitian, its eigendecomposition (\\href{@ref}{\\texttt{eigen}}) is used to compute the cosine. Otherwise, the cosine is determined by calling \\href{@ref}{\\texttt{exp}}.\n",
       "\n",
       "\\section{Examples}\n",
       "\\begin{verbatim}\n",
       "julia> cos(fill(1.0, (2,2)))\n",
       "2×2 Matrix{Float64}:\n",
       "  0.291927  -0.708073\n",
       " -0.708073   0.291927\n",
       "\\end{verbatim}\n"
      ],
      "text/markdown": [
       "```\n",
       "cos(x)\n",
       "```\n",
       "\n",
       "Compute cosine of `x`, where `x` is in radians.\n",
       "\n",
       "See also [`cosd`](@ref), [`cospi`](@ref), [`sincos`](@ref), [`cis`](@ref).\n",
       "\n",
       "---\n",
       "\n",
       "```\n",
       "cos(A::AbstractMatrix)\n",
       "```\n",
       "\n",
       "Compute the matrix cosine of a square matrix `A`.\n",
       "\n",
       "If `A` is symmetric or Hermitian, its eigendecomposition ([`eigen`](@ref)) is used to compute the cosine. Otherwise, the cosine is determined by calling [`exp`](@ref).\n",
       "\n",
       "# Examples\n",
       "\n",
       "```jldoctest\n",
       "julia> cos(fill(1.0, (2,2)))\n",
       "2×2 Matrix{Float64}:\n",
       "  0.291927  -0.708073\n",
       " -0.708073   0.291927\n",
       "```\n"
      ],
      "text/plain": [
       "  \u001b[38;2;102;217;239mcos\u001b[0m(\u001b[0m\u001b[39mx\u001b[0m\u001b[39m)\u001b[0m\n",
       "\n",
       "  Compute cosine of \u001b[36mx\u001b[39m, where \u001b[36mx\u001b[39m is in radians.\n",
       "\n",
       "  See also \u001b[36mcosd\u001b[39m, \u001b[36mcospi\u001b[39m, \u001b[36msincos\u001b[39m, \u001b[36mcis\u001b[39m.\n",
       "\n",
       "  ────────────────────────────────────────────────────────────────────────────\n",
       "\n",
       "  \u001b[38;2;102;217;239mcos\u001b[0m(\u001b[0m\u001b[39mA\u001b[0m\u001b[38;2;102;217;239m::\u001b[0m\u001b[38;2;102;217;239mAbstractMatrix\u001b[0m\u001b[39m)\u001b[0m\n",
       "\n",
       "  Compute the matrix cosine of a square matrix \u001b[36mA\u001b[39m.\n",
       "\n",
       "  If \u001b[36mA\u001b[39m is symmetric or Hermitian, its eigendecomposition (\u001b[36meigen\u001b[39m) is used to\n",
       "  compute the cosine. Otherwise, the cosine is determined by calling \u001b[36mexp\u001b[39m.\n",
       "\n",
       "\u001b[1m  Examples\u001b[22m\n",
       "\u001b[1m  ≡≡≡≡≡≡≡≡\u001b[22m\n",
       "\n",
       "  \u001b[31;1mjulia> \u001b[0m\u001b[38;2;102;217;239mcos\u001b[0m(\u001b[0m\u001b[38;2;102;217;239mfill\u001b[0m(\u001b[0m\u001b[38;2;174;129;255m1.0\u001b[0m\u001b[39m,\u001b[0m \u001b[0m(\u001b[0m\u001b[38;2;174;129;255m2\u001b[0m\u001b[39m,\u001b[0m\u001b[38;2;174;129;255m2\u001b[0m\u001b[39m)\u001b[0m\u001b[39m)\u001b[0m\u001b[39m)\u001b[0m\n",
       "  \u001b[0m2×2 Matrix{Float64}:\n",
       "    0.291927  -0.708073\n",
       "   -0.708073   0.291927"
      ]
     },
     "execution_count": 141,
     "metadata": {},
     "output_type": "execute_result"
    }
   ],
   "source": [
    "?cos"
   ]
  },
  {
   "cell_type": "markdown",
   "metadata": {},
   "source": [
    "To print something on the standard output, it is possible to use either `print` and `println`. The last one displays the text and moves the cursor to the next line."
   ]
  },
  {
   "cell_type": "code",
   "execution_count": 142,
   "metadata": {},
   "outputs": [
    {
     "name": "stdout",
     "output_type": "stream",
     "text": [
      "Hello World"
     ]
    }
   ],
   "source": [
    "print(\"Hello\")\n",
    "print(' ')\n",
    "print(\"World\")"
   ]
  },
  {
   "cell_type": "code",
   "execution_count": 143,
   "metadata": {},
   "outputs": [
    {
     "name": "stdout",
     "output_type": "stream",
     "text": [
      "Hello\n",
      "World\n"
     ]
    }
   ],
   "source": [
    "println(\"Hello\")\n",
    "println(\"World\")"
   ]
  },
  {
   "cell_type": "markdown",
   "metadata": {},
   "source": [
    "**Data types: Dictionaries**"
   ]
  },
  {
   "cell_type": "code",
   "execution_count": 144,
   "metadata": {
    "tags": []
   },
   "outputs": [
    {
     "data": {
      "text/plain": [
       "Dict{String, Int64} with 3 entries:\n",
       "  \"Bicycle\"  => 2\n",
       "  \"Tricycle\" => 3\n",
       "  \"Unicycle\" => 1"
      ]
     },
     "execution_count": 144,
     "metadata": {},
     "output_type": "execute_result"
    }
   ],
   "source": [
    "dict = Dict(\n",
    "    # Name => # of wheels\n",
    "    \"Unicycle\" => 1,\n",
    "    \"Bicycle\" => 2,\n",
    "    \"Tricycle\" => 3\n",
    ")"
   ]
  },
  {
   "cell_type": "code",
   "execution_count": 145,
   "metadata": {
    "tags": []
   },
   "outputs": [
    {
     "data": {
      "text/plain": [
       "Dict{String, Int64}"
      ]
     },
     "execution_count": 145,
     "metadata": {},
     "output_type": "execute_result"
    }
   ],
   "source": [
    "typeof(dict)"
   ]
  },
  {
   "cell_type": "code",
   "execution_count": 146,
   "metadata": {
    "tags": []
   },
   "outputs": [
    {
     "data": {
      "text/plain": [
       "Dict{String, Int64} with 3 entries:\n",
       "  \"Bicycle\"  => 2\n",
       "  \"Tricycle\" => 3\n",
       "  \"Unicycle\" => 1"
      ]
     },
     "execution_count": 146,
     "metadata": {},
     "output_type": "execute_result"
    }
   ],
   "source": [
    "dict = Dict([(\"Unicycle\", 1), (\"Bicycle\", 2), (\"Tricycle\", 3)])"
   ]
  },
  {
   "cell_type": "code",
   "execution_count": 147,
   "metadata": {
    "tags": []
   },
   "outputs": [
    {
     "data": {
      "text/plain": [
       "2"
      ]
     },
     "execution_count": 147,
     "metadata": {},
     "output_type": "execute_result"
    }
   ],
   "source": [
    "dict[\"Bicycle\"]"
   ]
  },
  {
   "cell_type": "code",
   "execution_count": 148,
   "metadata": {
    "tags": []
   },
   "outputs": [
    {
     "data": {
      "text/plain": [
       "5-element Vector{Any}:\n",
       "    1\n",
       "     'a': ASCII/Unicode U+0061 (category Ll: Letter, lowercase)\n",
       "     \"abc\"\n",
       " true\n",
       "     ComplexF64[0.0 + 0.0im, 0.0 + 0.5im]"
      ]
     },
     "execution_count": 148,
     "metadata": {},
     "output_type": "execute_result"
    }
   ],
   "source": [
    "lst = [1, 'a', \"abc\", true, [0, .5im]]"
   ]
  },
  {
   "cell_type": "code",
   "execution_count": 149,
   "metadata": {
    "tags": []
   },
   "outputs": [
    {
     "data": {
      "text/plain": [
       "Vector{Any}\u001b[90m (alias for \u001b[39m\u001b[90mArray{Any, 1}\u001b[39m\u001b[90m)\u001b[39m"
      ]
     },
     "execution_count": 149,
     "metadata": {},
     "output_type": "execute_result"
    }
   ],
   "source": [
    "typeof(lst)"
   ]
  },
  {
   "cell_type": "code",
   "execution_count": 150,
   "metadata": {
    "tags": []
   },
   "outputs": [
    {
     "data": {
      "text/plain": [
       "2-element Vector{ComplexF64}:\n",
       " 0.0 + 0.0im\n",
       " 0.0 + 0.5im"
      ]
     },
     "execution_count": 150,
     "metadata": {},
     "output_type": "execute_result"
    }
   ],
   "source": [
    "lst[end]"
   ]
  },
  {
   "cell_type": "markdown",
   "metadata": {},
   "source": [
    "### Basic Calculations"
   ]
  },
  {
   "cell_type": "code",
   "execution_count": 151,
   "metadata": {},
   "outputs": [
    {
     "data": {
      "text/plain": [
       "(1, 1.5)"
      ]
     },
     "execution_count": 151,
     "metadata": {},
     "output_type": "execute_result"
    }
   ],
   "source": [
    "a, b = 1, 1.5"
   ]
  },
  {
   "cell_type": "code",
   "execution_count": 152,
   "metadata": {},
   "outputs": [
    {
     "name": "stdout",
     "output_type": "stream",
     "text": [
      "Int64\n",
      "Float64\n"
     ]
    }
   ],
   "source": [
    "println(typeof(a))\n",
    "println(typeof(b))"
   ]
  },
  {
   "cell_type": "code",
   "execution_count": 153,
   "metadata": {},
   "outputs": [
    {
     "data": {
      "text/latex": [
       "\\texttt{varinfo} method allows to display loaded variables.\n",
       "\n"
      ],
      "text/markdown": [
       "`varinfo` method allows to display loaded variables.\n"
      ],
      "text/plain": [
       "  \u001b[36mvarinfo\u001b[39m method allows to display loaded variables."
      ]
     },
     "execution_count": 153,
     "metadata": {},
     "output_type": "execute_result"
    }
   ],
   "source": [
    "md\"\"\"\n",
    "`varinfo` method allows to display loaded variables.\n",
    "\"\"\""
   ]
  },
  {
   "cell_type": "code",
   "execution_count": 154,
   "metadata": {},
   "outputs": [
    {
     "data": {
      "text/latex": [
       "\\begin{tabular}\n",
       "{l | r | l}\n",
       "name & size & summary \\\\\n",
       "\\hline\n",
       "Base &  & Module \\\\\n",
       "Core &  & Module \\\\\n",
       "Foo & 0 bytes & Foo (generic function with 1 method) \\\\\n",
       "M & 208 bytes & 5×4 Matrix\\{Float64\\} \\\\\n",
       "Main &  & Module \\\\\n",
       "MyModule & 2.234 KiB & Module \\\\\n",
       "PLOTS\\_DEFAULTS & 384 bytes & Dict\\{Symbol, Symbol\\} with 1 entry \\\\\n",
       "a & 8 bytes & Int64 \\\\\n",
       "b & 8 bytes & Float64 \\\\\n",
       "bar & 0 bytes & bar (generic function with 1 method) \\\\\n",
       "calculator & 0 bytes & calculator (generic function with 1 method) \\\\\n",
       "col\\_idx & 44 bytes & 4-element Vector\\{Bool\\} \\\\\n",
       "df & 827 bytes & 4×3 DataFrame \\\\\n",
       "dict & 431 bytes & Dict\\{String, Int64\\} with 3 entries \\\\\n",
       "docs & 6.474 KiB & Markdown.MD \\\\\n",
       "f & 0 bytes & f (generic function with 4 methods) \\\\\n",
       "file & 380 bytes & IOStream \\\\\n",
       "foo & 0 bytes & foo (generic function with 4 methods) \\\\\n",
       "fruits & 160 bytes & 5-element Vector\\{String\\} \\\\\n",
       "g & 0 bytes & g (generic function with 1 method) \\\\\n",
       "h & 0 bytes & h (generic function with 1 method) \\\\\n",
       "i & 8 bytes & Int64 \\\\\n",
       "idx & 45 bytes & 5-element Vector\\{Bool\\} \\\\\n",
       "iter & 8 bytes & Int64 \\\\\n",
       "lst & 176 bytes & 5-element Vector\\{Any\\} \\\\\n",
       "mycos & 0 bytes & mycos (generic function with 2 methods) \\\\\n",
       "row\\_idx & 45 bytes & 5-element Vector\\{Bool\\} \\\\\n",
       "showall & 0 bytes & showall (generic function with 1 method) \\\\\n",
       "str & 19 bytes & 11-codeunit String \\\\\n",
       "tmp & 1 byte & UInt8 \\\\\n",
       "var & 80 bytes & 2×4 BitMatrix \\\\\n",
       "vegetables & 135 bytes & 4-element Vector\\{String\\} \\\\\n",
       "x & 120 bytes & 5-element Vector\\{ComplexF64\\} \\\\\n",
       "y & 781.289 KiB & 100000-element Vector\\{Float64\\} \\\\\n",
       "z & 768 bytes & 91-element Vector\\{Float64\\} \\\\\n",
       "\\end{tabular}\n"
      ],
      "text/markdown": [
       "| name           |        size | summary                                     |\n",
       "|:-------------- | -----------:|:------------------------------------------- |\n",
       "| Base           |             | Module                                      |\n",
       "| Core           |             | Module                                      |\n",
       "| Foo            |     0 bytes | Foo (generic function with 1 method)        |\n",
       "| M              |   208 bytes | 5×4 Matrix{Float64}                         |\n",
       "| Main           |             | Module                                      |\n",
       "| MyModule       |   2.234 KiB | Module                                      |\n",
       "| PLOTS_DEFAULTS |   384 bytes | Dict{Symbol, Symbol} with 1 entry           |\n",
       "| a              |     8 bytes | Int64                                       |\n",
       "| b              |     8 bytes | Float64                                     |\n",
       "| bar            |     0 bytes | bar (generic function with 1 method)        |\n",
       "| calculator     |     0 bytes | calculator (generic function with 1 method) |\n",
       "| col_idx        |    44 bytes | 4-element Vector{Bool}                      |\n",
       "| df             |   827 bytes | 4×3 DataFrame                               |\n",
       "| dict           |   431 bytes | Dict{String, Int64} with 3 entries          |\n",
       "| docs           |   6.474 KiB | Markdown.MD                                 |\n",
       "| f              |     0 bytes | f (generic function with 4 methods)         |\n",
       "| file           |   380 bytes | IOStream                                    |\n",
       "| foo            |     0 bytes | foo (generic function with 4 methods)       |\n",
       "| fruits         |   160 bytes | 5-element Vector{String}                    |\n",
       "| g              |     0 bytes | g (generic function with 1 method)          |\n",
       "| h              |     0 bytes | h (generic function with 1 method)          |\n",
       "| i              |     8 bytes | Int64                                       |\n",
       "| idx            |    45 bytes | 5-element Vector{Bool}                      |\n",
       "| iter           |     8 bytes | Int64                                       |\n",
       "| lst            |   176 bytes | 5-element Vector{Any}                       |\n",
       "| mycos          |     0 bytes | mycos (generic function with 2 methods)     |\n",
       "| row_idx        |    45 bytes | 5-element Vector{Bool}                      |\n",
       "| showall        |     0 bytes | showall (generic function with 1 method)    |\n",
       "| str            |    19 bytes | 11-codeunit String                          |\n",
       "| tmp            |      1 byte | UInt8                                       |\n",
       "| var            |    80 bytes | 2×4 BitMatrix                               |\n",
       "| vegetables     |   135 bytes | 4-element Vector{String}                    |\n",
       "| x              |   120 bytes | 5-element Vector{ComplexF64}                |\n",
       "| y              | 781.289 KiB | 100000-element Vector{Float64}              |\n",
       "| z              |   768 bytes | 91-element Vector{Float64}                  |\n"
      ],
      "text/plain": [
       "  name                  size summary                                    \n",
       "  –––––––––––––– ––––––––––– –––––––––––––––––––––––––––––––––––––––––––\n",
       "  Base                       Module                                     \n",
       "  Core                       Module                                     \n",
       "  Foo                0 bytes Foo (generic function with 1 method)       \n",
       "  M                208 bytes 5×4 Matrix{Float64}                        \n",
       "  Main                       Module                                     \n",
       "  MyModule         2.234 KiB Module                                     \n",
       "  PLOTS_DEFAULTS   384 bytes Dict{Symbol, Symbol} with 1 entry          \n",
       "  a                  8 bytes Int64                                      \n",
       "  b                  8 bytes Float64                                    \n",
       "  bar                0 bytes bar (generic function with 1 method)       \n",
       "  calculator         0 bytes calculator (generic function with 1 method)\n",
       "  col_idx           44 bytes 4-element Vector{Bool}                     \n",
       "  df               827 bytes 4×3 DataFrame                              \n",
       "  dict             431 bytes Dict{String, Int64} with 3 entries         \n",
       "  docs             6.474 KiB Markdown.MD                                \n",
       "  f                  0 bytes f (generic function with 4 methods)        \n",
       "  file             380 bytes IOStream                                   \n",
       "  foo                0 bytes foo (generic function with 4 methods)      \n",
       "  fruits           160 bytes 5-element Vector{String}                   \n",
       "  g                  0 bytes g (generic function with 1 method)         \n",
       "  h                  0 bytes h (generic function with 1 method)         \n",
       "  i                  8 bytes Int64                                      \n",
       "  idx               45 bytes 5-element Vector{Bool}                     \n",
       "  iter               8 bytes Int64                                      \n",
       "  lst              176 bytes 5-element Vector{Any}                      \n",
       "  mycos              0 bytes mycos (generic function with 2 methods)    \n",
       "  row_idx           45 bytes 5-element Vector{Bool}                     \n",
       "  showall            0 bytes showall (generic function with 1 method)   \n",
       "  str               19 bytes 11-codeunit String                         \n",
       "  tmp                 1 byte UInt8                                      \n",
       "  var               80 bytes 2×4 BitMatrix                              \n",
       "  vegetables       135 bytes 4-element Vector{String}                   \n",
       "  x                120 bytes 5-element Vector{ComplexF64}               \n",
       "  y              781.289 KiB 100000-element Vector{Float64}             \n",
       "  z                768 bytes 91-element Vector{Float64}                 "
      ]
     },
     "execution_count": 154,
     "metadata": {},
     "output_type": "execute_result"
    }
   ],
   "source": [
    "varinfo()"
   ]
  },
  {
   "cell_type": "code",
   "execution_count": 155,
   "metadata": {},
   "outputs": [
    {
     "name": "stdout",
     "output_type": "stream",
     "text": [
      "search: \u001b[0m\u001b[1mv\u001b[22m\u001b[0m\u001b[1ma\u001b[22m\u001b[0m\u001b[1mr\u001b[22m\u001b[0m\u001b[1mi\u001b[22m\u001b[0m\u001b[1mn\u001b[22m\u001b[0m\u001b[1mf\u001b[22m\u001b[0m\u001b[1mo\u001b[22m @info \u001b[0m\u001b[1mv\u001b[22mersioninfo\n",
      "\n"
     ]
    },
    {
     "data": {
      "text/latex": [
       "\\begin{verbatim}\n",
       "varinfo(m::Module=Main, pattern::Regex=r\"\"; all=false, imported=false, recursive=false, sortby::Symbol=:name, minsize::Int=0)\n",
       "\\end{verbatim}\n",
       "Return a markdown table giving information about public global variables in a module, optionally restricted to those matching \\texttt{pattern}.\n",
       "\n",
       "The memory consumption estimate is an approximate lower bound on the size of the internal structure of the object.\n",
       "\n",
       "\\begin{itemize}\n",
       "\\item \\texttt{all} : also list non-public objects defined in the module, deprecated objects, and compiler-generated objects.\n",
       "\n",
       "\n",
       "\\item \\texttt{imported} : also list objects explicitly imported from other modules.\n",
       "\n",
       "\n",
       "\\item \\texttt{recursive} : recursively include objects in sub-modules, observing the same settings in each.\n",
       "\n",
       "\n",
       "\\item \\texttt{sortby} : the column to sort results by. Options are \\texttt{:name} (default), \\texttt{:size}, and \\texttt{:summary}.\n",
       "\n",
       "\n",
       "\\item \\texttt{minsize} : only includes objects with size at least \\texttt{minsize} bytes. Defaults to \\texttt{0}.\n",
       "\n",
       "\\end{itemize}\n",
       "The output of \\texttt{varinfo} is intended for display purposes only.  See also \\href{@ref}{\\texttt{names}} to get an array of symbols defined in a module, which is suitable for more general manipulations.\n",
       "\n"
      ],
      "text/markdown": [
       "```\n",
       "varinfo(m::Module=Main, pattern::Regex=r\"\"; all=false, imported=false, recursive=false, sortby::Symbol=:name, minsize::Int=0)\n",
       "```\n",
       "\n",
       "Return a markdown table giving information about public global variables in a module, optionally restricted to those matching `pattern`.\n",
       "\n",
       "The memory consumption estimate is an approximate lower bound on the size of the internal structure of the object.\n",
       "\n",
       "  * `all` : also list non-public objects defined in the module, deprecated objects, and compiler-generated objects.\n",
       "  * `imported` : also list objects explicitly imported from other modules.\n",
       "  * `recursive` : recursively include objects in sub-modules, observing the same settings in each.\n",
       "  * `sortby` : the column to sort results by. Options are `:name` (default), `:size`, and `:summary`.\n",
       "  * `minsize` : only includes objects with size at least `minsize` bytes. Defaults to `0`.\n",
       "\n",
       "The output of `varinfo` is intended for display purposes only.  See also [`names`](@ref) to get an array of symbols defined in a module, which is suitable for more general manipulations.\n"
      ],
      "text/plain": [
       "  \u001b[38;2;102;217;239mvarinfo\u001b[0m(\u001b[0m\u001b[39mm\u001b[0m\u001b[38;2;102;217;239m::\u001b[0m\u001b[38;2;102;217;239mModule\u001b[0m\u001b[38;2;249;38;114m=\u001b[0m\u001b[39mMain\u001b[0m\u001b[39m,\u001b[0m \u001b[0m\u001b[39mpattern\u001b[0m\u001b[38;2;102;217;239m::\u001b[0m\u001b[38;2;102;217;239mRegex\u001b[0m\u001b[38;2;249;38;114m=\u001b[0m\u001b[39mr\u001b[0m\u001b[39m\"\u001b[0m\u001b[38;2;230;219;116m\u001b[0m\u001b[39m\"\u001b[0m\u001b[39m;\u001b[0m \u001b[0m\u001b[39mall\u001b[0m\u001b[38;2;249;38;114m=\u001b[0m\u001b[38;2;249;38;114mfalse\u001b[0m\u001b[39m,\u001b[0m \u001b[0m\u001b[39mimported\u001b[0m\u001b[38;2;249;38;114m=\u001b[0m\u001b[38;2;249;38;114mfalse\u001b[0m\u001b[39m,\u001b[0m \u001b[0m\u001b[39mrecursive\u001b[0m\u001b[38;2;249;38;114m=\u001b[0m\u001b[38;2;249;38;114mfalse\u001b[0m\u001b[39m,\u001b[0m \u001b[0m\u001b[39msortby\u001b[0m\u001b[38;2;102;217;239m::\u001b[0m\u001b[38;2;102;217;239mSymbol\u001b[0m\u001b[38;2;249;38;114m=\u001b[0m\u001b[38;2;174;129;255m:\u001b[0m\u001b[38;2;174;129;255mname\u001b[0m\u001b[39m,\u001b[0m \u001b[0m\u001b[39mminsize\u001b[0m\u001b[38;2;102;217;239m::\u001b[0m\u001b[38;2;102;217;239mInt\u001b[0m\u001b[38;2;249;38;114m=\u001b[0m\u001b[38;2;174;129;255m0\u001b[0m\u001b[39m)\u001b[0m\n",
       "\n",
       "  Return a markdown table giving information about public global variables in\n",
       "  a module, optionally restricted to those matching \u001b[36mpattern\u001b[39m.\n",
       "\n",
       "  The memory consumption estimate is an approximate lower bound on the size of\n",
       "  the internal structure of the object.\n",
       "\n",
       "    •  \u001b[36mall\u001b[39m : also list non-public objects defined in the module,\n",
       "       deprecated objects, and compiler-generated objects.\n",
       "\n",
       "    •  \u001b[36mimported\u001b[39m : also list objects explicitly imported from other\n",
       "       modules.\n",
       "\n",
       "    •  \u001b[36mrecursive\u001b[39m : recursively include objects in sub-modules, observing\n",
       "       the same settings in each.\n",
       "\n",
       "    •  \u001b[36msortby\u001b[39m : the column to sort results by. Options are \u001b[36m:name\u001b[39m\n",
       "       (default), \u001b[36m:size\u001b[39m, and \u001b[36m:summary\u001b[39m.\n",
       "\n",
       "    •  \u001b[36mminsize\u001b[39m : only includes objects with size at least \u001b[36mminsize\u001b[39m bytes.\n",
       "       Defaults to \u001b[36m0\u001b[39m.\n",
       "\n",
       "  The output of \u001b[36mvarinfo\u001b[39m is intended for display purposes only. See also \u001b[36mnames\u001b[39m\n",
       "  to get an array of symbols defined in a module, which is suitable for more\n",
       "  general manipulations."
      ]
     },
     "execution_count": 155,
     "metadata": {},
     "output_type": "execute_result"
    }
   ],
   "source": [
    "?varinfo"
   ]
  },
  {
   "cell_type": "code",
   "execution_count": 156,
   "metadata": {},
   "outputs": [
    {
     "name": "stdout",
     "output_type": "stream",
     "text": [
      "Sum of 1 and 1.5 is 2.5\n"
     ]
    }
   ],
   "source": [
    "println(\"Sum of $a and $b is $(a+b)\")"
   ]
  },
  {
   "cell_type": "markdown",
   "metadata": {},
   "source": [
    "Addition, subtraction, multiplication, division, exponent"
   ]
  },
  {
   "cell_type": "code",
   "execution_count": 157,
   "metadata": {},
   "outputs": [
    {
     "data": {
      "text/plain": [
       "(2.5, -0.5, 1.5, 0.0, 1.0)"
      ]
     },
     "execution_count": 157,
     "metadata": {},
     "output_type": "execute_result"
    }
   ],
   "source": [
    "a+b, a-b, a*b, a÷b, a^b"
   ]
  },
  {
   "cell_type": "code",
   "execution_count": 158,
   "metadata": {},
   "outputs": [
    {
     "data": {
      "text/latex": [
       "\\textbf{Unicode support} \n",
       "\n",
       "\\begin{itemize}\n",
       "\\item[1. ] We can use π instead of \\texttt{pi}\n",
       "\n",
       "\n",
       "\\item[2. ] Greek letters improe comprehension: α \\emph{(alpha)}, β \\emph{(beta)}, ...\n",
       "\n",
       "\n",
       "\\item[3. ] Symbols: ≥ \\emph{(>=)}, ≤ \\emph{(<=)}, ∈ \\emph{(in)}, ... \n",
       "\n",
       "\n",
       "\\item[4. ] ...\n",
       "\n",
       "\\end{itemize}\n"
      ],
      "text/markdown": [
       "**Unicode support** \n",
       "\n",
       "1. We can use π instead of `pi`\n",
       "2. Greek letters improe comprehension: α *(alpha)*, β *(beta)*, ...\n",
       "3. Symbols: ≥ *(>=)*, ≤ *(<=)*, ∈ *(in)*, ...\n",
       "4. ...\n"
      ],
      "text/plain": [
       "  \u001b[1mUnicode support\u001b[22m\n",
       "\n",
       "    1. We can use π instead of \u001b[36mpi\u001b[39m\n",
       "\n",
       "    2. Greek letters improe comprehension: α \u001b[4m(alpha)\u001b[24m, β \u001b[4m(beta)\u001b[24m, ...\n",
       "\n",
       "    3. Symbols: ≥ \u001b[4m(>=)\u001b[24m, ≤ \u001b[4m(<=)\u001b[24m, ∈ \u001b[4m(in)\u001b[24m, ...\n",
       "\n",
       "    4. ..."
      ]
     },
     "execution_count": 158,
     "metadata": {},
     "output_type": "execute_result"
    }
   ],
   "source": [
    "md\"\"\"\n",
    "**Unicode support** \n",
    "1. We can use π instead of `pi`\n",
    "1. Greek letters improe comprehension: α _(alpha)_, β _(beta)_, ...\n",
    "1. Symbols: ≥ _(>=)_, ≤ _(<=)_, ∈ _(in)_, ... \n",
    "1. ...\n",
    "\"\"\""
   ]
  },
  {
   "cell_type": "code",
   "execution_count": 159,
   "metadata": {},
   "outputs": [
    {
     "data": {
      "text/plain": [
       "true"
      ]
     },
     "execution_count": 159,
     "metadata": {},
     "output_type": "execute_result"
    }
   ],
   "source": [
    "3 ≤ π "
   ]
  },
  {
   "cell_type": "code",
   "execution_count": 160,
   "metadata": {},
   "outputs": [
    {
     "data": {
      "text/plain": [
       "Float64"
      ]
     },
     "execution_count": 160,
     "metadata": {},
     "output_type": "execute_result"
    }
   ],
   "source": [
    "typeof(3.14)"
   ]
  },
  {
   "cell_type": "code",
   "execution_count": 161,
   "metadata": {},
   "outputs": [
    {
     "data": {
      "text/plain": [
       "Any"
      ]
     },
     "execution_count": 161,
     "metadata": {},
     "output_type": "execute_result"
    }
   ],
   "source": [
    "Float64 |> supertype |> supertype |> supertype |> supertype "
   ]
  },
  {
   "cell_type": "code",
   "execution_count": 162,
   "metadata": {},
   "outputs": [
    {
     "data": {
      "text/plain": [
       "4-element Vector{Any}:\n",
       " Bool\n",
       " SentinelArrays.ChainedVectorIndex\n",
       " Signed\n",
       " Unsigned"
      ]
     },
     "execution_count": 162,
     "metadata": {},
     "output_type": "execute_result"
    }
   ],
   "source": [
    "Integer |> subtypes"
   ]
  },
  {
   "cell_type": "code",
   "execution_count": 163,
   "metadata": {},
   "outputs": [
    {
     "data": {
      "text/plain": [
       "6-element Vector{Any}:\n",
       " BigInt\n",
       " Int128\n",
       " Int16\n",
       " Int32\n",
       " Int64\n",
       " Int8"
      ]
     },
     "execution_count": 163,
     "metadata": {},
     "output_type": "execute_result"
    }
   ],
   "source": [
    "Signed |> subtypes"
   ]
  },
  {
   "cell_type": "code",
   "execution_count": 164,
   "metadata": {},
   "outputs": [
    {
     "data": {
      "text/plain": [
       "true"
      ]
     },
     "execution_count": 164,
     "metadata": {},
     "output_type": "execute_result"
    }
   ],
   "source": [
    "UInt8 <: Unsigned # UInt8 is one subtype of Unsigned"
   ]
  },
  {
   "cell_type": "code",
   "execution_count": 165,
   "metadata": {},
   "outputs": [
    {
     "data": {
      "text/plain": [
       "true"
      ]
     },
     "execution_count": 165,
     "metadata": {},
     "output_type": "execute_result"
    }
   ],
   "source": [
    "Signed >: Int8 # Signed is supertype of Int8"
   ]
  },
  {
   "cell_type": "code",
   "execution_count": 166,
   "metadata": {},
   "outputs": [
    {
     "data": {
      "text/plain": [
       "Int64"
      ]
     },
     "execution_count": 166,
     "metadata": {},
     "output_type": "execute_result"
    }
   ],
   "source": [
    "typeof(3)"
   ]
  },
  {
   "cell_type": "code",
   "execution_count": 167,
   "metadata": {},
   "outputs": [
    {
     "data": {
      "text/plain": [
       "UInt8"
      ]
     },
     "execution_count": 167,
     "metadata": {},
     "output_type": "execute_result"
    }
   ],
   "source": [
    "tmp::UInt8 = 3\n",
    "typeof(tmp)"
   ]
  },
  {
   "cell_type": "markdown",
   "metadata": {},
   "source": [
    "### Mathematical Notation\n"
   ]
  },
  {
   "cell_type": "code",
   "execution_count": 168,
   "metadata": {},
   "outputs": [
    {
     "name": "stdout",
     "output_type": "stream",
     "text": [
      "3\n",
      "3\n"
     ]
    }
   ],
   "source": [
    "println(1+2)\n",
    "println(+(1, 2))"
   ]
  },
  {
   "cell_type": "code",
   "execution_count": 169,
   "metadata": {},
   "outputs": [
    {
     "name": "stdout",
     "output_type": "stream",
     "text": [
      "-1\n",
      "-1\n"
     ]
    }
   ],
   "source": [
    "println(1-2)\n",
    "println(-(1, 2))"
   ]
  },
  {
   "cell_type": "code",
   "execution_count": 170,
   "metadata": {},
   "outputs": [
    {
     "name": "stdout",
     "output_type": "stream",
     "text": [
      "2\n",
      "2\n"
     ]
    }
   ],
   "source": [
    "println(1*2)\n",
    "println(*(1, 2))"
   ]
  },
  {
   "cell_type": "code",
   "execution_count": 171,
   "metadata": {},
   "outputs": [
    {
     "name": "stdout",
     "output_type": "stream",
     "text": [
      "0.5\n",
      "0.5\n"
     ]
    }
   ],
   "source": [
    "println(1/2)\n",
    "println(/(1, 2))"
   ]
  },
  {
   "cell_type": "code",
   "execution_count": 172,
   "metadata": {},
   "outputs": [
    {
     "name": "stdout",
     "output_type": "stream",
     "text": [
      "2.15\n",
      "43//20\n"
     ]
    }
   ],
   "source": [
    "println(3/4+7/5)\n",
    "println(3//4+7//5)"
   ]
  },
  {
   "cell_type": "markdown",
   "metadata": {},
   "source": [
    "### Array Transformations\n",
    "Perform calculations on entire arrays at once."
   ]
  },
  {
   "cell_type": "code",
   "execution_count": 173,
   "metadata": {},
   "outputs": [
    {
     "data": {
      "text/plain": [
       "3×2 Matrix{Float64}:\n",
       " 0.0  0.0\n",
       " 0.0  0.0\n",
       " 0.0  0.0"
      ]
     },
     "execution_count": 173,
     "metadata": {},
     "output_type": "execute_result"
    }
   ],
   "source": [
    "zeros(3, 2)"
   ]
  },
  {
   "cell_type": "code",
   "execution_count": 174,
   "metadata": {},
   "outputs": [
    {
     "data": {
      "text/plain": [
       "3×3×2 Array{Float64, 3}:\n",
       "[:, :, 1] =\n",
       " 1.0  1.0  1.0\n",
       " 1.0  1.0  1.0\n",
       " 1.0  1.0  1.0\n",
       "\n",
       "[:, :, 2] =\n",
       " 1.0  1.0  1.0\n",
       " 1.0  1.0  1.0\n",
       " 1.0  1.0  1.0"
      ]
     },
     "execution_count": 174,
     "metadata": {},
     "output_type": "execute_result"
    }
   ],
   "source": [
    "ones(3, 3, 2)"
   ]
  },
  {
   "cell_type": "code",
   "execution_count": 175,
   "metadata": {},
   "outputs": [
    {
     "data": {
      "text/plain": [
       "2×2 Matrix{Irrational{:π}}:\n",
       " π  π\n",
       " π  π"
      ]
     },
     "execution_count": 175,
     "metadata": {},
     "output_type": "execute_result"
    }
   ],
   "source": [
    "fill(π, (2, 2))"
   ]
  },
  {
   "cell_type": "code",
   "execution_count": 176,
   "metadata": {},
   "outputs": [
    {
     "data": {
      "text/plain": [
       "2×2 Matrix{Float64}:\n",
       " 3.14159  3.14159\n",
       " 3.14159  3.14159"
      ]
     },
     "execution_count": 176,
     "metadata": {},
     "output_type": "execute_result"
    }
   ],
   "source": [
    "π .* ones(2, 2)"
   ]
  },
  {
   "cell_type": "code",
   "execution_count": 177,
   "metadata": {},
   "outputs": [
    {
     "data": {
      "text/latex": [
       "Creates a \\texttt{BitArray} with all values set to \\texttt{true}\n",
       "\n"
      ],
      "text/markdown": [
       "Creates a `BitArray` with all values set to `true`\n"
      ],
      "text/plain": [
       "  Creates a \u001b[36mBitArray\u001b[39m with all values set to \u001b[36mtrue\u001b[39m"
      ]
     },
     "execution_count": 177,
     "metadata": {},
     "output_type": "execute_result"
    }
   ],
   "source": [
    "md\"Creates a `BitArray` with all values set to `true`\""
   ]
  },
  {
   "cell_type": "code",
   "execution_count": 178,
   "metadata": {},
   "outputs": [
    {
     "name": "stdout",
     "output_type": "stream",
     "text": [
      "Bool[1 1 1 1; 1 1 1 1]\n"
     ]
    },
    {
     "data": {
      "text/plain": [
       "BitMatrix\u001b[90m (alias for \u001b[39m\u001b[90mBitArray{2}\u001b[39m\u001b[90m)\u001b[39m"
      ]
     },
     "execution_count": 178,
     "metadata": {},
     "output_type": "execute_result"
    }
   ],
   "source": [
    "var = trues(2, 4)\n",
    "println(var)\n",
    "typeof(var)"
   ]
  },
  {
   "cell_type": "code",
   "execution_count": 179,
   "metadata": {},
   "outputs": [
    {
     "data": {
      "text/latex": [
       "Creates a \\texttt{BitArray} with all values set to \\texttt{false}\n",
       "\n"
      ],
      "text/markdown": [
       "Creates a `BitArray` with all values set to `false`\n"
      ],
      "text/plain": [
       "  Creates a \u001b[36mBitArray\u001b[39m with all values set to \u001b[36mfalse\u001b[39m"
      ]
     },
     "execution_count": 179,
     "metadata": {},
     "output_type": "execute_result"
    }
   ],
   "source": [
    "md\"Creates a `BitArray` with all values set to `false`\""
   ]
  },
  {
   "cell_type": "code",
   "execution_count": 180,
   "metadata": {},
   "outputs": [
    {
     "name": "stdout",
     "output_type": "stream",
     "text": [
      "Bool[0 0 0 0; 0 0 0 0]\n"
     ]
    },
    {
     "data": {
      "text/plain": [
       "BitMatrix\u001b[90m (alias for \u001b[39m\u001b[90mBitArray{2}\u001b[39m\u001b[90m)\u001b[39m"
      ]
     },
     "execution_count": 180,
     "metadata": {},
     "output_type": "execute_result"
    }
   ],
   "source": [
    "var = falses(2, 4)\n",
    "println(var)\n",
    "typeof(var)"
   ]
  },
  {
   "cell_type": "code",
   "execution_count": 181,
   "metadata": {},
   "outputs": [
    {
     "data": {
      "text/latex": [
       "\\textbf{Comprehension}\n",
       "\n"
      ],
      "text/markdown": [
       "**Comprehension**\n"
      ],
      "text/plain": [
       "  \u001b[1mComprehension\u001b[22m"
      ]
     },
     "execution_count": 181,
     "metadata": {},
     "output_type": "execute_result"
    }
   ],
   "source": [
    "md\"**Comprehension**\""
   ]
  },
  {
   "cell_type": "code",
   "execution_count": 182,
   "metadata": {},
   "outputs": [
    {
     "name": "stdout",
     "output_type": "stream",
     "text": [
      "H\n",
      "e\n",
      "l\n",
      "l\n",
      "o\n",
      " \n",
      "J\n",
      "u\n",
      "l\n",
      "i\n",
      "a\n"
     ]
    }
   ],
   "source": [
    "str = \"Hello Julia\"\n",
    "[println(el) for el in str];"
   ]
  },
  {
   "cell_type": "markdown",
   "metadata": {},
   "source": [
    "### Calling Functions\n",
    "Call functions to obtain multiple outputs."
   ]
  },
  {
   "cell_type": "code",
   "execution_count": 183,
   "metadata": {},
   "outputs": [
    {
     "data": {
      "text/latex": [
       "\\href{https://docs.julialang.org/en/v1/manual/functions/}{Functions in ${\\tt Julia}$}\n",
       "\n"
      ],
      "text/markdown": [
       "[Functions in ${\\tt Julia}$](https://docs.julialang.org/en/v1/manual/functions/)\n"
      ],
      "text/plain": [
       "  Functions in \u001b[35m{\\tt Julia}\u001b[39m\n",
       "  (https://docs.julialang.org/en/v1/manual/functions/)"
      ]
     },
     "execution_count": 183,
     "metadata": {},
     "output_type": "execute_result"
    }
   ],
   "source": [
    "md\"\"\"\n",
    "[Functions in ${\\tt Julia}$](https://docs.julialang.org/en/v1/manual/functions/)\n",
    "\"\"\""
   ]
  },
  {
   "cell_type": "code",
   "execution_count": 184,
   "metadata": {},
   "outputs": [
    {
     "data": {
      "text/latex": [
       "\\textbf{Spreading Arguments}\n",
       "\n"
      ],
      "text/markdown": [
       "**Spreading Arguments**\n"
      ],
      "text/plain": [
       "  \u001b[1mSpreading Arguments\u001b[22m"
      ]
     },
     "execution_count": 184,
     "metadata": {},
     "output_type": "execute_result"
    }
   ],
   "source": [
    "md\"**Spreading Arguments**\""
   ]
  },
  {
   "cell_type": "markdown",
   "metadata": {},
   "source": [
    "_Optional positional arguments_"
   ]
  },
  {
   "cell_type": "code",
   "execution_count": 185,
   "metadata": {},
   "outputs": [
    {
     "data": {
      "text/plain": [
       "foo (generic function with 4 methods)"
      ]
     },
     "execution_count": 185,
     "metadata": {},
     "output_type": "execute_result"
    }
   ],
   "source": [
    "foo(x=0, y=0, z=0) = x+y+z"
   ]
  },
  {
   "cell_type": "code",
   "execution_count": 186,
   "metadata": {},
   "outputs": [
    {
     "data": {
      "text/plain": [
       "(0, 6)"
      ]
     },
     "execution_count": 186,
     "metadata": {},
     "output_type": "execute_result"
    }
   ],
   "source": [
    "foo(), foo(1, 2, 3)"
   ]
  },
  {
   "cell_type": "code",
   "execution_count": 187,
   "metadata": {},
   "outputs": [
    {
     "data": {
      "text/plain": [
       "6"
      ]
     },
     "execution_count": 187,
     "metadata": {},
     "output_type": "execute_result"
    }
   ],
   "source": [
    "foo([1, 2, 3]...) # Splat `...` operator"
   ]
  },
  {
   "cell_type": "markdown",
   "metadata": {},
   "source": [
    "_Keywords arguments_"
   ]
  },
  {
   "cell_type": "code",
   "execution_count": 188,
   "metadata": {},
   "outputs": [
    {
     "data": {
      "text/plain": [
       "bar (generic function with 1 method)"
      ]
     },
     "execution_count": 188,
     "metadata": {},
     "output_type": "execute_result"
    }
   ],
   "source": [
    "bar(; a::Real=0, b::Real=0, c::Real=0) = a+b+c"
   ]
  },
  {
   "cell_type": "code",
   "execution_count": 189,
   "metadata": {},
   "outputs": [
    {
     "data": {
      "text/plain": [
       "0"
      ]
     },
     "execution_count": 189,
     "metadata": {},
     "output_type": "execute_result"
    }
   ],
   "source": [
    "bar()"
   ]
  },
  {
   "cell_type": "code",
   "execution_count": 190,
   "metadata": {},
   "outputs": [
    {
     "data": {
      "text/plain": [
       "7.2"
      ]
     },
     "execution_count": 190,
     "metadata": {},
     "output_type": "execute_result"
    }
   ],
   "source": [
    "bar(; Dict(:a => 3, :b => 5.4, :c => -1.2)... ) # ; kwargs..."
   ]
  },
  {
   "cell_type": "code",
   "execution_count": 191,
   "metadata": {},
   "outputs": [
    {
     "name": "stdout",
     "output_type": "stream",
     "text": [
      "MethodError(Main.bar, (1, 2, 3), 0x0000000000006918)\n"
     ]
    }
   ],
   "source": [
    "# THROW AN ERROR \n",
    "try bar([1, 2, 3]...)\n",
    "catch error\n",
    "    println(error)\n",
    "end"
   ]
  },
  {
   "cell_type": "code",
   "execution_count": 192,
   "metadata": {},
   "outputs": [
    {
     "data": {
      "text/latex": [
       "\\textbf{Multiple Dispatch}\n",
       "\n"
      ],
      "text/markdown": [
       "**Multiple Dispatch**\n"
      ],
      "text/plain": [
       "  \u001b[1mMultiple Dispatch\u001b[22m"
      ]
     },
     "execution_count": 192,
     "metadata": {},
     "output_type": "execute_result"
    }
   ],
   "source": [
    "md\"**Multiple Dispatch**\""
   ]
  },
  {
   "cell_type": "code",
   "execution_count": 193,
   "metadata": {},
   "outputs": [
    {
     "data": {
      "text/plain": [
       "f (generic function with 4 methods)"
      ]
     },
     "execution_count": 193,
     "metadata": {},
     "output_type": "execute_result"
    }
   ],
   "source": [
    "# 1st method signature\n",
    "function f(x::Int)\n",
    "    x^2\n",
    "end"
   ]
  },
  {
   "cell_type": "code",
   "execution_count": 194,
   "metadata": {},
   "outputs": [
    {
     "data": {
      "text/plain": [
       "f (generic function with 4 methods)"
      ]
     },
     "execution_count": 194,
     "metadata": {},
     "output_type": "execute_result"
    }
   ],
   "source": [
    "# 2nd method signature\n",
    "f(x::Float64) = x^2+1"
   ]
  },
  {
   "cell_type": "code",
   "execution_count": 195,
   "metadata": {},
   "outputs": [
    {
     "data": {
      "text/plain": [
       "f (generic function with 4 methods)"
      ]
     },
     "execution_count": 195,
     "metadata": {},
     "output_type": "execute_result"
    }
   ],
   "source": [
    "# 3rd method signature\n",
    "f(x::Char) = x*'y'*'z'\n",
    "# 4th mehod signature\n",
    "f(x::String) = x*x "
   ]
  },
  {
   "cell_type": "code",
   "execution_count": 196,
   "metadata": {},
   "outputs": [
    {
     "data": {
      "text/html": [
       "# 4 methods for generic function <b>f</b> from \u001b[35mMain\u001b[39m:<ul><li> f(x::<b>String</b>) in Main at In[195]:4</li> <li> f(x::<b>Float64</b>) in Main at In[194]:2</li> <li> f(x::<b>Int64</b>) in Main at In[193]:2</li> <li> f(x::<b>Char</b>) in Main at In[195]:2</li> </ul>"
      ],
      "text/plain": [
       "# 4 methods for generic function \"f\" from \u001b[35mMain\u001b[39m:\n",
       " [1] f(\u001b[90mx\u001b[39m::\u001b[1mString\u001b[22m)\n",
       "\u001b[90m     @\u001b[39m \u001b[90m\u001b[4mIn[195]:4\u001b[24m\u001b[39m\n",
       " [2] f(\u001b[90mx\u001b[39m::\u001b[1mFloat64\u001b[22m)\n",
       "\u001b[90m     @\u001b[39m \u001b[90m\u001b[4mIn[194]:2\u001b[24m\u001b[39m\n",
       " [3] f(\u001b[90mx\u001b[39m::\u001b[1mInt64\u001b[22m)\n",
       "\u001b[90m     @\u001b[39m \u001b[90m\u001b[4mIn[193]:2\u001b[24m\u001b[39m\n",
       " [4] f(\u001b[90mx\u001b[39m::\u001b[1mChar\u001b[22m)\n",
       "\u001b[90m     @\u001b[39m \u001b[90m\u001b[4mIn[195]:2\u001b[24m\u001b[39m"
      ]
     },
     "execution_count": 196,
     "metadata": {},
     "output_type": "execute_result"
    }
   ],
   "source": [
    "methods(f)"
   ]
  },
  {
   "cell_type": "code",
   "execution_count": 197,
   "metadata": {},
   "outputs": [
    {
     "data": {
      "text/plain": [
       "(1, 2.0, \"xyz\", \"abcabc\")"
      ]
     },
     "execution_count": 197,
     "metadata": {},
     "output_type": "execute_result"
    }
   ],
   "source": [
    "f(1), f(1.), f('x'), f(\"abc\")"
   ]
  },
  {
   "cell_type": "code",
   "execution_count": 198,
   "metadata": {},
   "outputs": [
    {
     "data": {
      "text/plain": [
       "mycos (generic function with 2 methods)"
      ]
     },
     "execution_count": 198,
     "metadata": {},
     "output_type": "execute_result"
    }
   ],
   "source": [
    "mycos(x) = cos(x)\n",
    "mycos(adj, hyp) = adj/hyp # Extension to `mycos` function"
   ]
  },
  {
   "cell_type": "code",
   "execution_count": 199,
   "metadata": {
    "scrolled": true
   },
   "outputs": [
    {
     "data": {
      "text/html": [
       "# 2 methods for generic function <b>mycos</b> from \u001b[35mMain\u001b[39m:<ul><li> mycos(adj, hyp) in Main at In[198]:2</li> <li> mycos(x) in Main at In[198]:1</li> </ul>"
      ],
      "text/plain": [
       "# 2 methods for generic function \"mycos\" from \u001b[35mMain\u001b[39m:\n",
       " [1] mycos(\u001b[90madj\u001b[39m, \u001b[90mhyp\u001b[39m)\n",
       "\u001b[90m     @\u001b[39m \u001b[90m\u001b[4mIn[198]:2\u001b[24m\u001b[39m\n",
       " [2] mycos(\u001b[90mx\u001b[39m)\n",
       "\u001b[90m     @\u001b[39m \u001b[90m\u001b[4mIn[198]:1\u001b[24m\u001b[39m"
      ]
     },
     "execution_count": 199,
     "metadata": {},
     "output_type": "execute_result"
    }
   ],
   "source": [
    "methods(mycos)"
   ]
  },
  {
   "cell_type": "code",
   "execution_count": 200,
   "metadata": {
    "scrolled": true
   },
   "outputs": [
    {
     "data": {
      "text/html": [
       "mycos(x) in Main at In[198]:1"
      ],
      "text/plain": [
       "mycos(\u001b[90mx\u001b[39m)\n",
       "\u001b[90m     @\u001b[39m \u001b[90mMain\u001b[39m \u001b[90m\u001b[4mIn[198]:1\u001b[24m\u001b[39m"
      ]
     },
     "execution_count": 200,
     "metadata": {},
     "output_type": "execute_result"
    }
   ],
   "source": [
    "@which mycos(π)"
   ]
  },
  {
   "cell_type": "code",
   "execution_count": 201,
   "metadata": {
    "scrolled": true
   },
   "outputs": [
    {
     "data": {
      "text/html": [
       "mycos(adj, hyp) in Main at In[198]:2"
      ],
      "text/plain": [
       "mycos(\u001b[90madj\u001b[39m, \u001b[90mhyp\u001b[39m)\n",
       "\u001b[90m     @\u001b[39m \u001b[90mMain\u001b[39m \u001b[90m\u001b[4mIn[198]:2\u001b[24m\u001b[39m"
      ]
     },
     "execution_count": 201,
     "metadata": {},
     "output_type": "execute_result"
    }
   ],
   "source": [
    "@which mycos(5, 3)"
   ]
  },
  {
   "cell_type": "code",
   "execution_count": 202,
   "metadata": {},
   "outputs": [
    {
     "data": {
      "text/plain": [
       "mycos (generic function with 2 methods)"
      ]
     },
     "execution_count": 202,
     "metadata": {},
     "output_type": "execute_result"
    }
   ],
   "source": [
    "mycos(adj, hyp=10) = adj/hyp"
   ]
  },
  {
   "cell_type": "code",
   "execution_count": 203,
   "metadata": {},
   "outputs": [
    {
     "data": {
      "text/html": [
       "mycos(adj) in Main at In[202]:1"
      ],
      "text/plain": [
       "mycos(\u001b[90madj\u001b[39m)\n",
       "\u001b[90m     @\u001b[39m \u001b[90mMain\u001b[39m \u001b[90m\u001b[4mIn[202]:1\u001b[24m\u001b[39m"
      ]
     },
     "execution_count": 203,
     "metadata": {},
     "output_type": "execute_result"
    }
   ],
   "source": [
    "@which mycos(π)"
   ]
  },
  {
   "cell_type": "markdown",
   "metadata": {},
   "source": [
    "**Function Chaining** applies a function to the preceding argument."
   ]
  },
  {
   "cell_type": "code",
   "execution_count": 204,
   "metadata": {},
   "outputs": [
    {
     "data": {
      "text/plain": [
       "9"
      ]
     },
     "execution_count": 204,
     "metadata": {},
     "output_type": "execute_result"
    }
   ],
   "source": [
    "g(x) = x+1\n",
    "h(x) = x^2\n",
    "x = 2 |> g |> h"
   ]
  },
  {
   "cell_type": "code",
   "execution_count": 205,
   "metadata": {},
   "outputs": [
    {
     "data": {
      "text/latex": [
       "Another pssible way is t use \\texttt{∘}\\emph{{\\textbackslash}circ\\{tab\\}} symbol\n",
       "\n"
      ],
      "text/markdown": [
       "Another pssible way is t use `∘`*\\circ{tab}* symbol\n"
      ],
      "text/plain": [
       "  Another pssible way is t use \u001b[36m∘\u001b[39m\u001b[4m\\circ{tab}\u001b[24m symbol"
      ]
     },
     "execution_count": 205,
     "metadata": {},
     "output_type": "execute_result"
    }
   ],
   "source": [
    "md\"Another pssible way is t use `∘`_\\circ{tab}_ symbol\""
   ]
  },
  {
   "cell_type": "code",
   "execution_count": 206,
   "metadata": {},
   "outputs": [
    {
     "data": {
      "text/plain": [
       "9"
      ]
     },
     "execution_count": 206,
     "metadata": {},
     "output_type": "execute_result"
    }
   ],
   "source": [
    "(h∘g)(2)"
   ]
  },
  {
   "cell_type": "code",
   "execution_count": 207,
   "metadata": {},
   "outputs": [
    {
     "data": {
      "text/latex": [
       "Definition of a function can be done on the fly\n",
       "\n"
      ],
      "text/markdown": [
       "Definition of a function can be done on the fly\n"
      ],
      "text/plain": [
       "  Definition of a function can be done on the fly"
      ]
     },
     "execution_count": 207,
     "metadata": {},
     "output_type": "execute_result"
    }
   ],
   "source": [
    "md\"Definition of a function can be done on the fly\""
   ]
  },
  {
   "cell_type": "code",
   "execution_count": 208,
   "metadata": {},
   "outputs": [
    {
     "data": {
      "text/plain": [
       "5.0"
      ]
     },
     "execution_count": 208,
     "metadata": {},
     "output_type": "execute_result"
    }
   ],
   "source": [
    "y = 5 |> (x->x^2) |> √"
   ]
  },
  {
   "cell_type": "code",
   "execution_count": 209,
   "metadata": {},
   "outputs": [
    {
     "data": {
      "text/latex": [
       "\\textbf{Metaprogramming:} Code is optimized by nature in ${\\tt Julia}$\n",
       "\n"
      ],
      "text/markdown": [
       "**Metaprogramming:** Code is optimized by nature in ${\\tt Julia}$\n"
      ],
      "text/plain": [
       "  \u001b[1mMetaprogramming:\u001b[22m Code is optimized by nature in \u001b[35m{\\tt Julia}\u001b[39m"
      ]
     },
     "execution_count": 209,
     "metadata": {},
     "output_type": "execute_result"
    }
   ],
   "source": [
    "md\"\"\"\n",
    "**Metaprogramming:** Code is optimized by nature in ${\\tt Julia}$\n",
    "\"\"\""
   ]
  },
  {
   "cell_type": "code",
   "execution_count": 210,
   "metadata": {},
   "outputs": [
    {
     "data": {
      "text/plain": [
       "Foo (generic function with 1 method)"
      ]
     },
     "execution_count": 210,
     "metadata": {},
     "output_type": "execute_result"
    }
   ],
   "source": [
    "function Foo(x::Integer)\n",
    "    y = x\n",
    "    for i=1:100\n",
    "        y += i^2\n",
    "    end\n",
    "    return y\n",
    "end"
   ]
  },
  {
   "cell_type": "code",
   "execution_count": 211,
   "metadata": {},
   "outputs": [
    {
     "name": "stdout",
     "output_type": "stream",
     "text": [
      "\u001b[90m; Function Signature: Foo(Int64)\u001b[39m\n",
      "\u001b[90m;  @ In[210]:1 within `Foo`\u001b[39m\n",
      "\u001b[95mdefine\u001b[39m \u001b[36mi64\u001b[39m \u001b[93m@julia_Foo_43516\u001b[39m\u001b[33m(\u001b[39m\u001b[36mi64\u001b[39m \u001b[95msignext\u001b[39m \u001b[0m%\"x::Int64\"\u001b[33m)\u001b[39m \u001b[0m#0 \u001b[33m{\u001b[39m\n",
      "\u001b[91mtop:\u001b[39m\n",
      "  \u001b[0m%0 \u001b[0m= \u001b[96m\u001b[1madd\u001b[22m\u001b[39m \u001b[36mi64\u001b[39m \u001b[0m%\"x::Int64\"\u001b[0m, \u001b[33m338350\u001b[39m\n",
      "\u001b[90m;  @ In[210]:6 within `Foo`\u001b[39m\n",
      "  \u001b[96m\u001b[1mret\u001b[22m\u001b[39m \u001b[36mi64\u001b[39m \u001b[0m%0\n",
      "\u001b[33m}\u001b[39m\n"
     ]
    }
   ],
   "source": [
    "@code_llvm Foo(3)"
   ]
  },
  {
   "cell_type": "code",
   "execution_count": 212,
   "metadata": {},
   "outputs": [
    {
     "data": {
      "text/latex": [
       "\\begin{verbatim}\n",
       "@code_llvm\n",
       "\\end{verbatim}\n",
       "Evaluates the arguments to the function or macro call, determines their types, and calls \\href{@ref}{\\texttt{code\\_llvm}} on the resulting expression. Set the optional keyword arguments \\texttt{raw}, \\texttt{dump\\_module}, \\texttt{debuginfo}, \\texttt{optimize} by putting them and their value before the function call, like this:\n",
       "\n",
       "\\begin{verbatim}\n",
       "@code_llvm raw=true dump_module=true debuginfo=:default f(x)\n",
       "@code_llvm optimize=false f(x)\n",
       "\\end{verbatim}\n",
       "\\texttt{optimize} controls whether additional optimizations, such as inlining, are also applied. \\texttt{raw} makes all metadata and dbg.* calls visible. \\texttt{debuginfo} may be one of \\texttt{:source} (default) or \\texttt{:none},  to specify the verbosity of code comments. \\texttt{dump\\_module} prints the entire module that encapsulates the function.\n",
       "\n",
       "See also: \\href{@ref}{\\texttt{code\\_llvm}}, \\href{@ref}{\\texttt{@code\\_warntype}}, \\href{@ref}{\\texttt{@code\\_typed}}, \\href{@ref}{\\texttt{@code\\_lowered}}, \\href{@ref}{\\texttt{@code\\_native}}.\n",
       "\n"
      ],
      "text/markdown": [
       "```\n",
       "@code_llvm\n",
       "```\n",
       "\n",
       "Evaluates the arguments to the function or macro call, determines their types, and calls [`code_llvm`](@ref) on the resulting expression. Set the optional keyword arguments `raw`, `dump_module`, `debuginfo`, `optimize` by putting them and their value before the function call, like this:\n",
       "\n",
       "```\n",
       "@code_llvm raw=true dump_module=true debuginfo=:default f(x)\n",
       "@code_llvm optimize=false f(x)\n",
       "```\n",
       "\n",
       "`optimize` controls whether additional optimizations, such as inlining, are also applied. `raw` makes all metadata and dbg.* calls visible. `debuginfo` may be one of `:source` (default) or `:none`,  to specify the verbosity of code comments. `dump_module` prints the entire module that encapsulates the function.\n",
       "\n",
       "See also: [`code_llvm`](@ref), [`@code_warntype`](@ref), [`@code_typed`](@ref), [`@code_lowered`](@ref), [`@code_native`](@ref).\n"
      ],
      "text/plain": [
       "  \u001b[38;2;102;217;239m@\u001b[0m\u001b[38;2;102;217;239mcode_llvm\u001b[0m\n",
       "\n",
       "  Evaluates the arguments to the function or macro call, determines their\n",
       "  types, and calls \u001b[36mcode_llvm\u001b[39m on the resulting expression. Set the optional\n",
       "  keyword arguments \u001b[36mraw\u001b[39m, \u001b[36mdump_module\u001b[39m, \u001b[36mdebuginfo\u001b[39m, \u001b[36moptimize\u001b[39m by putting them and\n",
       "  their value before the function call, like this:\n",
       "\n",
       "  \u001b[38;2;102;217;239m@\u001b[0m\u001b[38;2;102;217;239mcode_llvm\u001b[0m \u001b[0m\u001b[39mraw\u001b[0m\u001b[38;2;249;38;114m=\u001b[0m\u001b[38;2;249;38;114mtrue\u001b[0m \u001b[0m\u001b[39mdump_module\u001b[0m\u001b[38;2;249;38;114m=\u001b[0m\u001b[38;2;249;38;114mtrue\u001b[0m \u001b[0m\u001b[39mdebuginfo\u001b[0m\u001b[38;2;249;38;114m=\u001b[0m\u001b[38;2;174;129;255m:\u001b[0m\u001b[38;2;174;129;255mdefault\u001b[0m \u001b[0m\u001b[38;2;102;217;239mf\u001b[0m(\u001b[0m\u001b[39mx\u001b[0m\u001b[39m)\u001b[0m\n",
       "  \u001b[0m\u001b[38;2;102;217;239m@\u001b[0m\u001b[38;2;102;217;239mcode_llvm\u001b[0m \u001b[0m\u001b[39moptimize\u001b[0m\u001b[38;2;249;38;114m=\u001b[0m\u001b[38;2;249;38;114mfalse\u001b[0m \u001b[0m\u001b[38;2;102;217;239mf\u001b[0m(\u001b[0m\u001b[39mx\u001b[0m\u001b[39m)\u001b[0m\n",
       "\n",
       "  \u001b[36moptimize\u001b[39m controls whether additional optimizations, such as inlining, are\n",
       "  also applied. \u001b[36mraw\u001b[39m makes all metadata and dbg.* calls visible. \u001b[36mdebuginfo\u001b[39m may\n",
       "  be one of \u001b[36m:source\u001b[39m (default) or \u001b[36m:none\u001b[39m, to specify the verbosity of code\n",
       "  comments. \u001b[36mdump_module\u001b[39m prints the entire module that encapsulates the\n",
       "  function.\n",
       "\n",
       "  See also: \u001b[36mcode_llvm\u001b[39m, \u001b[36m@code_warntype\u001b[39m, \u001b[36m@code_typed\u001b[39m, \u001b[36m@code_lowered\u001b[39m,\n",
       "  \u001b[36m@code_native\u001b[39m."
      ]
     },
     "execution_count": 212,
     "metadata": {},
     "output_type": "execute_result"
    }
   ],
   "source": [
    "?@code_llvm"
   ]
  },
  {
   "cell_type": "markdown",
   "metadata": {},
   "source": [
    "### Plotting Data\n",
    "Visualize variables using ${\\tt Julia}$'s plotting functions."
   ]
  },
  {
   "cell_type": "code",
   "execution_count": 213,
   "metadata": {},
   "outputs": [
    {
     "name": "stderr",
     "output_type": "stream",
     "text": [
      "\u001b[32m\u001b[1m   Resolving\u001b[22m\u001b[39m package versions...\n",
      "\u001b[32m\u001b[1m  No Changes\u001b[22m\u001b[39m to `~/Work/git-repos/AI-ML-DL/jlai/Codes/Julia/Part-1/Project.toml`\n",
      "\u001b[32m\u001b[1m  No Changes\u001b[22m\u001b[39m to `~/Work/git-repos/AI-ML-DL/jlai/Codes/Julia/Part-1/Manifest.toml`\n"
     ]
    }
   ],
   "source": [
    "]add Plots"
   ]
  },
  {
   "cell_type": "code",
   "execution_count": 214,
   "metadata": {},
   "outputs": [],
   "source": [
    "using Plots # GR is the default backend"
   ]
  },
  {
   "cell_type": "code",
   "execution_count": 215,
   "metadata": {},
   "outputs": [
    {
     "data": {
      "image/png": "[encoded data removed]",
      "image/svg+xml": [
       "<?xml version=\"1.0\" encoding=\"utf-8\"?>\n",
       "<svg xmlns=\"http://www.w3.org/2000/svg\" xmlns:xlink=\"http://www.w3.org/1999/xlink\" width=\"600\" height=\"400\" viewBox=\"0 0 2400 1600\">\n",
       "<defs>\n",
       "  <clipPath id=\"clip710\">\n",
       "    <rect x=\"0\" y=\"0\" width=\"2400\" height=\"1600\"/>\n",
       "  </clipPath>\n",
       "</defs>\n",
       "<path clip-path=\"url(#clip710)\" d=\"M0 1600 L2400 1600 L2400 0 L0 0  Z\" fill=\"#282a36\" fill-rule=\"evenodd\" fill-opacity=\"1\"/>\n",
       "<defs>\n",
       "  <clipPath id=\"clip711\">\n",
       "    <rect x=\"480\" y=\"0\" width=\"1681\" height=\"1600\"/>\n",
       "  </clipPath>\n",
       "</defs>\n",
       "<path clip-path=\"url(#clip710)\" d=\"M193.936 1486.45 L2352.76 1486.45 L2352.76 47.2441 L193.936 47.2441  Z\" fill=\"#30343b\" fill-rule=\"evenodd\" fill-opacity=\"1\"/>\n",
       "<defs>\n",
       "  <clipPath id=\"clip712\">\n",
       "    <rect x=\"193\" y=\"47\" width=\"2160\" height=\"1440\"/>\n",
       "  </clipPath>\n",
       "</defs>\n",
       "<polyline clip-path=\"url(#clip712)\" style=\"stroke:#f8f8f2; stroke-linecap:round; stroke-linejoin:round; stroke-width:2; stroke-opacity:0.1; fill:none\" points=\"481.326,1486.45 481.326,47.2441 \"/>\n",
       "<polyline clip-path=\"url(#clip712)\" style=\"stroke:#f8f8f2; stroke-linecap:round; stroke-linejoin:round; stroke-width:2; stroke-opacity:0.1; fill:none\" points=\"933.909,1486.45 933.909,47.2441 \"/>\n",
       "<polyline clip-path=\"url(#clip712)\" style=\"stroke:#f8f8f2; stroke-linecap:round; stroke-linejoin:round; stroke-width:2; stroke-opacity:0.1; fill:none\" points=\"1386.49,1486.45 1386.49,47.2441 \"/>\n",
       "<polyline clip-path=\"url(#clip712)\" style=\"stroke:#f8f8f2; stroke-linecap:round; stroke-linejoin:round; stroke-width:2; stroke-opacity:0.1; fill:none\" points=\"1839.07,1486.45 1839.07,47.2441 \"/>\n",
       "<polyline clip-path=\"url(#clip712)\" style=\"stroke:#f8f8f2; stroke-linecap:round; stroke-linejoin:round; stroke-width:2; stroke-opacity:0.1; fill:none\" points=\"2291.66,1486.45 2291.66,47.2441 \"/>\n",
       "<polyline clip-path=\"url(#clip712)\" style=\"stroke:#f8f8f2; stroke-linecap:round; stroke-linejoin:round; stroke-width:2; stroke-opacity:0.1; fill:none\" points=\"193.936,1445.77 2352.76,1445.77 \"/>\n",
       "<polyline clip-path=\"url(#clip712)\" style=\"stroke:#f8f8f2; stroke-linecap:round; stroke-linejoin:round; stroke-width:2; stroke-opacity:0.1; fill:none\" points=\"193.936,1106.3 2352.76,1106.3 \"/>\n",
       "<polyline clip-path=\"url(#clip712)\" style=\"stroke:#f8f8f2; stroke-linecap:round; stroke-linejoin:round; stroke-width:2; stroke-opacity:0.1; fill:none\" points=\"193.936,766.824 2352.76,766.824 \"/>\n",
       "<polyline clip-path=\"url(#clip712)\" style=\"stroke:#f8f8f2; stroke-linecap:round; stroke-linejoin:round; stroke-width:2; stroke-opacity:0.1; fill:none\" points=\"193.936,427.352 2352.76,427.352 \"/>\n",
       "<polyline clip-path=\"url(#clip712)\" style=\"stroke:#f8f8f2; stroke-linecap:round; stroke-linejoin:round; stroke-width:2; stroke-opacity:0.1; fill:none\" points=\"193.936,87.8803 2352.76,87.8803 \"/>\n",
       "<polyline clip-path=\"url(#clip710)\" style=\"stroke:#f8f8f2; stroke-linecap:round; stroke-linejoin:round; stroke-width:4; stroke-opacity:1; fill:none\" points=\"193.936,1486.45 2352.76,1486.45 \"/>\n",
       "<polyline clip-path=\"url(#clip710)\" style=\"stroke:#f8f8f2; stroke-linecap:round; stroke-linejoin:round; stroke-width:4; stroke-opacity:1; fill:none\" points=\"481.326,1486.45 481.326,1467.55 \"/>\n",
       "<polyline clip-path=\"url(#clip710)\" style=\"stroke:#f8f8f2; stroke-linecap:round; stroke-linejoin:round; stroke-width:4; stroke-opacity:1; fill:none\" points=\"933.909,1486.45 933.909,1467.55 \"/>\n",
       "<polyline clip-path=\"url(#clip710)\" style=\"stroke:#f8f8f2; stroke-linecap:round; stroke-linejoin:round; stroke-width:4; stroke-opacity:1; fill:none\" points=\"1386.49,1486.45 1386.49,1467.55 \"/>\n",
       "<polyline clip-path=\"url(#clip710)\" style=\"stroke:#f8f8f2; stroke-linecap:round; stroke-linejoin:round; stroke-width:4; stroke-opacity:1; fill:none\" points=\"1839.07,1486.45 1839.07,1467.55 \"/>\n",
       "<polyline clip-path=\"url(#clip710)\" style=\"stroke:#f8f8f2; stroke-linecap:round; stroke-linejoin:round; stroke-width:4; stroke-opacity:1; fill:none\" points=\"2291.66,1486.45 2291.66,1467.55 \"/>\n",
       "<path clip-path=\"url(#clip710)\" d=\"M475.979 1544.91 L492.298 1544.91 L492.298 1548.85 L470.354 1548.85 L470.354 1544.91 Q473.016 1542.16 477.599 1537.53 Q482.206 1532.88 483.386 1531.53 Q485.632 1529.01 486.511 1527.27 Q487.414 1525.51 487.414 1523.82 Q487.414 1521.07 485.47 1519.33 Q483.548 1517.6 480.446 1517.6 Q478.247 1517.6 475.794 1518.36 Q473.363 1519.13 470.585 1520.68 L470.585 1515.95 Q473.409 1514.82 475.863 1514.24 Q478.317 1513.66 480.354 1513.66 Q485.724 1513.66 488.919 1516.35 Q492.113 1519.03 492.113 1523.52 Q492.113 1525.65 491.303 1527.57 Q490.516 1529.47 488.409 1532.07 Q487.831 1532.74 484.729 1535.95 Q481.627 1539.15 475.979 1544.91 Z\" fill=\"#f8f8f2\" fill-rule=\"nonzero\" fill-opacity=\"1\" /><path clip-path=\"url(#clip710)\" d=\"M936.918 1518.36 L925.113 1536.81 L936.918 1536.81 L936.918 1518.36 M935.691 1514.29 L941.571 1514.29 L941.571 1536.81 L946.501 1536.81 L946.501 1540.7 L941.571 1540.7 L941.571 1548.85 L936.918 1548.85 L936.918 1540.7 L921.316 1540.7 L921.316 1536.19 L935.691 1514.29 Z\" fill=\"#f8f8f2\" fill-rule=\"nonzero\" fill-opacity=\"1\" /><path clip-path=\"url(#clip710)\" d=\"M1386.9 1529.7 Q1383.75 1529.7 1381.9 1531.86 Q1380.07 1534.01 1380.07 1537.76 Q1380.07 1541.49 1381.9 1543.66 Q1383.75 1545.82 1386.9 1545.82 Q1390.04 1545.82 1391.87 1543.66 Q1393.73 1541.49 1393.73 1537.76 Q1393.73 1534.01 1391.87 1531.86 Q1390.04 1529.7 1386.9 1529.7 M1396.18 1515.05 L1396.18 1519.31 Q1394.42 1518.48 1392.61 1518.04 Q1390.83 1517.6 1389.07 1517.6 Q1384.44 1517.6 1381.99 1520.72 Q1379.56 1523.85 1379.21 1530.17 Q1380.58 1528.15 1382.64 1527.09 Q1384.7 1526 1387.17 1526 Q1392.38 1526 1395.39 1529.17 Q1398.42 1532.32 1398.42 1537.76 Q1398.42 1543.08 1395.28 1546.3 Q1392.13 1549.52 1386.9 1549.52 Q1380.9 1549.52 1377.73 1544.94 Q1374.56 1540.33 1374.56 1531.6 Q1374.56 1523.41 1378.45 1518.55 Q1382.34 1513.66 1388.89 1513.66 Q1390.65 1513.66 1392.43 1514.01 Q1394.23 1514.36 1396.18 1515.05 Z\" fill=\"#f8f8f2\" fill-rule=\"nonzero\" fill-opacity=\"1\" /><path clip-path=\"url(#clip710)\" d=\"M1839.07 1532.44 Q1835.74 1532.44 1833.82 1534.22 Q1831.92 1536 1831.92 1539.13 Q1831.92 1542.25 1833.82 1544.03 Q1835.74 1545.82 1839.07 1545.82 Q1842.41 1545.82 1844.33 1544.03 Q1846.25 1542.23 1846.25 1539.13 Q1846.25 1536 1844.33 1534.22 Q1842.43 1532.44 1839.07 1532.44 M1834.4 1530.45 Q1831.39 1529.7 1829.7 1527.64 Q1828.03 1525.58 1828.03 1522.62 Q1828.03 1518.48 1830.97 1516.07 Q1833.94 1513.66 1839.07 1513.66 Q1844.24 1513.66 1847.18 1516.07 Q1850.12 1518.48 1850.12 1522.62 Q1850.12 1525.58 1848.43 1527.64 Q1846.76 1529.7 1843.77 1530.45 Q1847.15 1531.23 1849.03 1533.52 Q1850.93 1535.82 1850.93 1539.13 Q1850.93 1544.15 1847.85 1546.83 Q1844.79 1549.52 1839.07 1549.52 Q1833.36 1549.52 1830.28 1546.83 Q1827.22 1544.15 1827.22 1539.13 Q1827.22 1535.82 1829.12 1533.52 Q1831.02 1531.23 1834.4 1530.45 M1832.69 1523.06 Q1832.69 1525.75 1834.35 1527.25 Q1836.04 1528.76 1839.07 1528.76 Q1842.08 1528.76 1843.77 1527.25 Q1845.49 1525.75 1845.49 1523.06 Q1845.49 1520.38 1843.77 1518.87 Q1842.08 1517.37 1839.07 1517.37 Q1836.04 1517.37 1834.35 1518.87 Q1832.69 1520.38 1832.69 1523.06 Z\" fill=\"#f8f8f2\" fill-rule=\"nonzero\" fill-opacity=\"1\" /><path clip-path=\"url(#clip710)\" d=\"M2266.34 1544.91 L2273.98 1544.91 L2273.98 1518.55 L2265.67 1520.21 L2265.67 1515.95 L2273.94 1514.29 L2278.61 1514.29 L2278.61 1544.91 L2286.25 1544.91 L2286.25 1548.85 L2266.34 1548.85 L2266.34 1544.91 Z\" fill=\"#f8f8f2\" fill-rule=\"nonzero\" fill-opacity=\"1\" /><path clip-path=\"url(#clip710)\" d=\"M2305.7 1517.37 Q2302.09 1517.37 2300.26 1520.93 Q2298.45 1524.47 2298.45 1531.6 Q2298.45 1538.71 2300.26 1542.27 Q2302.09 1545.82 2305.7 1545.82 Q2309.33 1545.82 2311.14 1542.27 Q2312.96 1538.71 2312.96 1531.6 Q2312.96 1524.47 2311.14 1520.93 Q2309.33 1517.37 2305.7 1517.37 M2305.7 1513.66 Q2311.51 1513.66 2314.56 1518.27 Q2317.64 1522.85 2317.64 1531.6 Q2317.64 1540.33 2314.56 1544.94 Q2311.51 1549.52 2305.7 1549.52 Q2299.89 1549.52 2296.81 1544.94 Q2293.75 1540.33 2293.75 1531.6 Q2293.75 1522.85 2296.81 1518.27 Q2299.89 1513.66 2305.7 1513.66 Z\" fill=\"#f8f8f2\" fill-rule=\"nonzero\" fill-opacity=\"1\" /><polyline clip-path=\"url(#clip710)\" style=\"stroke:#f8f8f2; stroke-linecap:round; stroke-linejoin:round; stroke-width:4; stroke-opacity:1; fill:none\" points=\"193.936,1486.45 193.936,47.2441 \"/>\n",
       "<polyline clip-path=\"url(#clip710)\" style=\"stroke:#f8f8f2; stroke-linecap:round; stroke-linejoin:round; stroke-width:4; stroke-opacity:1; fill:none\" points=\"193.936,1445.77 212.834,1445.77 \"/>\n",
       "<polyline clip-path=\"url(#clip710)\" style=\"stroke:#f8f8f2; stroke-linecap:round; stroke-linejoin:round; stroke-width:4; stroke-opacity:1; fill:none\" points=\"193.936,1106.3 212.834,1106.3 \"/>\n",
       "<polyline clip-path=\"url(#clip710)\" style=\"stroke:#f8f8f2; stroke-linecap:round; stroke-linejoin:round; stroke-width:4; stroke-opacity:1; fill:none\" points=\"193.936,766.824 212.834,766.824 \"/>\n",
       "<polyline clip-path=\"url(#clip710)\" style=\"stroke:#f8f8f2; stroke-linecap:round; stroke-linejoin:round; stroke-width:4; stroke-opacity:1; fill:none\" points=\"193.936,427.352 212.834,427.352 \"/>\n",
       "<polyline clip-path=\"url(#clip710)\" style=\"stroke:#f8f8f2; stroke-linecap:round; stroke-linejoin:round; stroke-width:4; stroke-opacity:1; fill:none\" points=\"193.936,87.8803 212.834,87.8803 \"/>\n",
       "<path clip-path=\"url(#clip710)\" d=\"M50.9921 1446.22 L80.6679 1446.22 L80.6679 1450.15 L50.9921 1450.15 L50.9921 1446.22 Z\" fill=\"#f8f8f2\" fill-rule=\"nonzero\" fill-opacity=\"1\" /><path clip-path=\"url(#clip710)\" d=\"M91.5706 1459.11 L99.2095 1459.11 L99.2095 1432.75 L90.8993 1434.41 L90.8993 1430.15 L99.1632 1428.49 L103.839 1428.49 L103.839 1459.11 L111.478 1459.11 L111.478 1463.05 L91.5706 1463.05 L91.5706 1459.11 Z\" fill=\"#f8f8f2\" fill-rule=\"nonzero\" fill-opacity=\"1\" /><path clip-path=\"url(#clip710)\" d=\"M120.922 1457.17 L125.807 1457.17 L125.807 1463.05 L120.922 1463.05 L120.922 1457.17 Z\" fill=\"#f8f8f2\" fill-rule=\"nonzero\" fill-opacity=\"1\" /><path clip-path=\"url(#clip710)\" d=\"M145.992 1431.57 Q142.381 1431.57 140.552 1435.13 Q138.746 1438.67 138.746 1445.8 Q138.746 1452.91 140.552 1456.47 Q142.381 1460.02 145.992 1460.02 Q149.626 1460.02 151.431 1456.47 Q153.26 1452.91 153.26 1445.8 Q153.26 1438.67 151.431 1435.13 Q149.626 1431.57 145.992 1431.57 M145.992 1427.86 Q151.802 1427.86 154.857 1432.47 Q157.936 1437.05 157.936 1445.8 Q157.936 1454.53 154.857 1459.14 Q151.802 1463.72 145.992 1463.72 Q140.181 1463.72 137.103 1459.14 Q134.047 1454.53 134.047 1445.8 Q134.047 1437.05 137.103 1432.47 Q140.181 1427.86 145.992 1427.86 Z\" fill=\"#f8f8f2\" fill-rule=\"nonzero\" fill-opacity=\"1\" /><path clip-path=\"url(#clip710)\" d=\"M51.9875 1106.75 L81.6633 1106.75 L81.6633 1110.68 L51.9875 1110.68 L51.9875 1106.75 Z\" fill=\"#f8f8f2\" fill-rule=\"nonzero\" fill-opacity=\"1\" /><path clip-path=\"url(#clip710)\" d=\"M101.756 1092.09 Q98.1447 1092.09 96.316 1095.66 Q94.5104 1099.2 94.5104 1106.33 Q94.5104 1113.44 96.316 1117 Q98.1447 1120.54 101.756 1120.54 Q105.39 1120.54 107.196 1117 Q109.024 1113.44 109.024 1106.33 Q109.024 1099.2 107.196 1095.66 Q105.39 1092.09 101.756 1092.09 M101.756 1088.39 Q107.566 1088.39 110.621 1093 Q113.7 1097.58 113.7 1106.33 Q113.7 1115.06 110.621 1119.66 Q107.566 1124.25 101.756 1124.25 Q95.9456 1124.25 92.8669 1119.66 Q89.8114 1115.06 89.8114 1106.33 Q89.8114 1097.58 92.8669 1093 Q95.9456 1088.39 101.756 1088.39 Z\" fill=\"#f8f8f2\" fill-rule=\"nonzero\" fill-opacity=\"1\" /><path clip-path=\"url(#clip710)\" d=\"M121.918 1117.7 L126.802 1117.7 L126.802 1123.58 L121.918 1123.58 L121.918 1117.7 Z\" fill=\"#f8f8f2\" fill-rule=\"nonzero\" fill-opacity=\"1\" /><path clip-path=\"url(#clip710)\" d=\"M137.033 1089.02 L155.39 1089.02 L155.39 1092.95 L141.316 1092.95 L141.316 1101.42 Q142.334 1101.08 143.353 1100.91 Q144.371 1100.73 145.39 1100.73 Q151.177 1100.73 154.556 1103.9 Q157.936 1107.07 157.936 1112.49 Q157.936 1118.07 154.464 1121.17 Q150.992 1124.25 144.672 1124.25 Q142.496 1124.25 140.228 1123.88 Q137.982 1123.51 135.575 1122.77 L135.575 1118.07 Q137.658 1119.2 139.881 1119.76 Q142.103 1120.31 144.58 1120.31 Q148.584 1120.31 150.922 1118.21 Q153.26 1116.1 153.26 1112.49 Q153.26 1108.88 150.922 1106.77 Q148.584 1104.66 144.58 1104.66 Q142.705 1104.66 140.83 1105.08 Q138.978 1105.5 137.033 1106.38 L137.033 1089.02 Z\" fill=\"#f8f8f2\" fill-rule=\"nonzero\" fill-opacity=\"1\" /><path clip-path=\"url(#clip710)\" d=\"M100.76 752.623 Q97.1493 752.623 95.3206 756.188 Q93.515 759.729 93.515 766.859 Q93.515 773.965 95.3206 777.53 Q97.1493 781.072 100.76 781.072 Q104.395 781.072 106.2 777.53 Q108.029 773.965 108.029 766.859 Q108.029 759.729 106.2 756.188 Q104.395 752.623 100.76 752.623 M100.76 748.919 Q106.571 748.919 109.626 753.526 Q112.705 758.109 112.705 766.859 Q112.705 775.586 109.626 780.192 Q106.571 784.775 100.76 784.775 Q94.9502 784.775 91.8715 780.192 Q88.816 775.586 88.816 766.859 Q88.816 758.109 91.8715 753.526 Q94.9502 748.919 100.76 748.919 Z\" fill=\"#f8f8f2\" fill-rule=\"nonzero\" fill-opacity=\"1\" /><path clip-path=\"url(#clip710)\" d=\"M120.922 778.224 L125.807 778.224 L125.807 784.104 L120.922 784.104 L120.922 778.224 Z\" fill=\"#f8f8f2\" fill-rule=\"nonzero\" fill-opacity=\"1\" /><path clip-path=\"url(#clip710)\" d=\"M145.992 752.623 Q142.381 752.623 140.552 756.188 Q138.746 759.729 138.746 766.859 Q138.746 773.965 140.552 777.53 Q142.381 781.072 145.992 781.072 Q149.626 781.072 151.431 777.53 Q153.26 773.965 153.26 766.859 Q153.26 759.729 151.431 756.188 Q149.626 752.623 145.992 752.623 M145.992 748.919 Q151.802 748.919 154.857 753.526 Q157.936 758.109 157.936 766.859 Q157.936 775.586 154.857 780.192 Q151.802 784.775 145.992 784.775 Q140.181 784.775 137.103 780.192 Q134.047 775.586 134.047 766.859 Q134.047 758.109 137.103 753.526 Q140.181 748.919 145.992 748.919 Z\" fill=\"#f8f8f2\" fill-rule=\"nonzero\" fill-opacity=\"1\" /><path clip-path=\"url(#clip710)\" d=\"M101.756 413.151 Q98.1447 413.151 96.316 416.716 Q94.5104 420.257 94.5104 427.387 Q94.5104 434.493 96.316 438.058 Q98.1447 441.6 101.756 441.6 Q105.39 441.6 107.196 438.058 Q109.024 434.493 109.024 427.387 Q109.024 420.257 107.196 416.716 Q105.39 413.151 101.756 413.151 M101.756 409.447 Q107.566 409.447 110.621 414.054 Q113.7 418.637 113.7 427.387 Q113.7 436.114 110.621 440.72 Q107.566 445.303 101.756 445.303 Q95.9456 445.303 92.8669 440.72 Q89.8114 436.114 89.8114 427.387 Q89.8114 418.637 92.8669 414.054 Q95.9456 409.447 101.756 409.447 Z\" fill=\"#f8f8f2\" fill-rule=\"nonzero\" fill-opacity=\"1\" /><path clip-path=\"url(#clip710)\" d=\"M121.918 438.753 L126.802 438.753 L126.802 444.632 L121.918 444.632 L121.918 438.753 Z\" fill=\"#f8f8f2\" fill-rule=\"nonzero\" fill-opacity=\"1\" /><path clip-path=\"url(#clip710)\" d=\"M137.033 410.072 L155.39 410.072 L155.39 414.007 L141.316 414.007 L141.316 422.48 Q142.334 422.132 143.353 421.97 Q144.371 421.785 145.39 421.785 Q151.177 421.785 154.556 424.956 Q157.936 428.128 157.936 433.544 Q157.936 439.123 154.464 442.225 Q150.992 445.303 144.672 445.303 Q142.496 445.303 140.228 444.933 Q137.982 444.563 135.575 443.822 L135.575 439.123 Q137.658 440.257 139.881 440.813 Q142.103 441.368 144.58 441.368 Q148.584 441.368 150.922 439.262 Q153.26 437.155 153.26 433.544 Q153.26 429.933 150.922 427.827 Q148.584 425.72 144.58 425.72 Q142.705 425.72 140.83 426.137 Q138.978 426.554 137.033 427.433 L137.033 410.072 Z\" fill=\"#f8f8f2\" fill-rule=\"nonzero\" fill-opacity=\"1\" /><path clip-path=\"url(#clip710)\" d=\"M91.5706 101.225 L99.2095 101.225 L99.2095 74.8595 L90.8993 76.5262 L90.8993 72.267 L99.1632 70.6003 L103.839 70.6003 L103.839 101.225 L111.478 101.225 L111.478 105.16 L91.5706 105.16 L91.5706 101.225 Z\" fill=\"#f8f8f2\" fill-rule=\"nonzero\" fill-opacity=\"1\" /><path clip-path=\"url(#clip710)\" d=\"M120.922 99.2807 L125.807 99.2807 L125.807 105.16 L120.922 105.16 L120.922 99.2807 Z\" fill=\"#f8f8f2\" fill-rule=\"nonzero\" fill-opacity=\"1\" /><path clip-path=\"url(#clip710)\" d=\"M145.992 73.679 Q142.381 73.679 140.552 77.2438 Q138.746 80.7854 138.746 87.915 Q138.746 95.0215 140.552 98.5863 Q142.381 102.128 145.992 102.128 Q149.626 102.128 151.431 98.5863 Q153.26 95.0215 153.26 87.915 Q153.26 80.7854 151.431 77.2438 Q149.626 73.679 145.992 73.679 M145.992 69.9753 Q151.802 69.9753 154.857 74.5818 Q157.936 79.1651 157.936 87.915 Q157.936 96.6418 154.857 101.248 Q151.802 105.832 145.992 105.832 Q140.181 105.832 137.103 101.248 Q134.047 96.6418 134.047 87.915 Q134.047 79.1651 137.103 74.5818 Q140.181 69.9753 145.992 69.9753 Z\" fill=\"#f8f8f2\" fill-rule=\"nonzero\" fill-opacity=\"1\" /><polyline clip-path=\"url(#clip712)\" style=\"stroke:#8be9fd; stroke-linecap:round; stroke-linejoin:round; stroke-width:4; stroke-opacity:1; fill:none\" points=\"255.035,195.513 277.664,161.744 300.293,134.022 322.922,112.622 345.551,97.7591 368.18,89.5811 390.81,88.1698 413.439,93.5394 436.068,105.636 458.697,124.34 481.326,149.462 503.955,180.753 526.584,217.9 549.213,260.532 571.843,308.223 594.472,360.495 617.101,416.828 639.73,476.657 662.359,539.386 684.988,604.387 707.617,671.011 730.247,738.593 752.876,806.457 775.505,873.925 798.134,940.322 820.763,1004.99 843.392,1067.27 866.021,1126.55 888.651,1182.24 911.28,1233.78 933.909,1280.65 956.538,1322.39 979.167,1358.57 1001.8,1388.85 1024.43,1412.91 1047.05,1430.51 1069.68,1441.48 1092.31,1445.72 1114.94,1443.16 1137.57,1433.85 1160.2,1417.88 1182.83,1395.4 1205.46,1366.64 1228.09,1331.89 1250.72,1291.49 1273.35,1245.85 1295.98,1195.42 1318.6,1140.71 1341.23,1082.26 1363.86,1020.67 1386.49,956.531 1409.12,890.502 1431.75,823.237 1454.38,755.408 1477.01,687.694 1499.64,620.77 1522.27,555.305 1544.9,491.954 1567.52,431.349 1590.15,374.096 1612.78,320.767 1635.41,271.895 1658.04,227.968 1680.67,189.425 1703.3,156.652 1725.93,129.975 1748.56,109.661 1771.19,95.9134 1793.82,88.8693 1816.45,88.5991 1839.07,95.1055 1861.7,108.323 1884.33,128.121 1906.96,154.3 1929.59,186.599 1952.22,224.696 1974.85,268.21 1997.48,316.705 2020.11,369.698 2042.74,426.659 2065.37,487.019 2087.99,550.174 2110.62,615.494 2133.25,682.326 2155.88,750.003 2178.51,817.847 2201.14,885.182 2223.77,951.334 2246.4,1015.64 2269.03,1077.47 2291.66,1136.18 \"/>\n",
       "<polyline clip-path=\"url(#clip712)\" style=\"stroke:#ff79c6; stroke-linecap:round; stroke-linejoin:round; stroke-width:4; stroke-opacity:1; fill:none\" points=\"255.035,399.989 277.664,458.858 300.293,520.804 322.922,585.207 345.551,651.426 368.18,718.797 390.81,786.649 413.439,854.302 436.068,921.081 458.697,986.319 481.326,1049.36 503.955,1109.59 526.584,1166.38 549.213,1219.19 571.843,1267.47 594.472,1310.76 617.101,1348.6 639.73,1380.64 662.359,1406.54 684.988,1426.05 707.617,1438.97 730.247,1445.18 752.876,1444.61 775.505,1437.27 798.134,1423.23 820.763,1402.63 843.392,1375.67 866.021,1342.64 888.651,1303.85 911.28,1259.69 933.909,1210.61 956.538,1157.1 979.167,1099.68 1001.8,1038.94 1024.43,975.486 1047.05,909.943 1069.68,842.969 1092.31,775.235 1114.94,707.417 1137.57,640.193 1160.2,574.233 1182.83,510.198 1205.46,448.728 1228.09,390.435 1250.72,335.903 1273.35,285.677 1295.98,240.258 1318.6,200.101 1341.23,165.606 1363.86,137.118 1386.49,114.922 1409.12,99.2401 1431.75,90.228 1454.38,87.9763 1477.01,92.5074 1499.64,103.776 1522.27,121.67 1544.9,146.009 1567.52,176.552 1590.15,212.993 1612.78,254.967 1635.41,302.055 1658.04,353.788 1680.67,409.647 1703.3,469.075 1725.93,531.478 1748.56,596.233 1771.19,662.692 1793.82,730.191 1816.45,798.057 1839.07,865.61 1861.7,932.177 1884.33,997.091 1906.96,1059.7 1929.59,1119.39 1952.22,1175.56 1974.85,1227.64 1997.48,1275.11 2020.11,1317.51 2042.74,1354.41 2065.37,1385.43 2087.99,1410.27 2110.62,1428.69 2133.25,1440.49 2155.88,1445.56 2178.51,1443.85 2201.14,1435.37 2223.77,1420.22 2246.4,1398.53 2269.03,1370.53 2291.66,1336.51 \"/>\n",
       "<path clip-path=\"url(#clip710)\" d=\"M1926.79 250.738 L2280.8 250.738 L2280.8 95.2176 L1926.79 95.2176  Z\" fill=\"#282a36\" fill-rule=\"evenodd\" fill-opacity=\"1\"/>\n",
       "<polyline clip-path=\"url(#clip710)\" style=\"stroke:#f8f8f2; stroke-linecap:round; stroke-linejoin:round; stroke-width:4; stroke-opacity:1; fill:none\" points=\"1926.79,250.738 2280.8,250.738 2280.8,95.2176 1926.79,95.2176 1926.79,250.738 \"/>\n",
       "<polyline clip-path=\"url(#clip710)\" style=\"stroke:#8be9fd; stroke-linecap:round; stroke-linejoin:round; stroke-width:4; stroke-opacity:1; fill:none\" points=\"1950.78,147.058 2094.7,147.058 \"/>\n",
       "<path clip-path=\"url(#clip710)\" d=\"M2137.11 139.176 L2137.11 143.203 Q2135.3 142.277 2133.36 141.815 Q2131.42 141.352 2129.33 141.352 Q2126.16 141.352 2124.56 142.324 Q2122.99 143.296 2122.99 145.24 Q2122.99 146.722 2124.12 147.578 Q2125.26 148.412 2128.68 149.176 L2130.14 149.5 Q2134.68 150.472 2136.58 152.254 Q2138.5 154.014 2138.5 157.185 Q2138.5 160.796 2135.63 162.902 Q2132.78 165.009 2127.78 165.009 Q2125.7 165.009 2123.43 164.592 Q2121.18 164.199 2118.68 163.388 L2118.68 158.99 Q2121.05 160.217 2123.34 160.842 Q2125.63 161.444 2127.87 161.444 Q2130.88 161.444 2132.5 160.426 Q2134.12 159.384 2134.12 157.509 Q2134.12 155.773 2132.94 154.847 Q2131.79 153.921 2127.83 153.064 L2126.35 152.717 Q2122.39 151.884 2120.63 150.171 Q2118.87 148.435 2118.87 145.426 Q2118.87 141.768 2121.46 139.778 Q2124.05 137.787 2128.82 137.787 Q2131.18 137.787 2133.27 138.134 Q2135.35 138.481 2137.11 139.176 Z\" fill=\"#f8f8f2\" fill-rule=\"nonzero\" fill-opacity=\"1\" /><path clip-path=\"url(#clip710)\" d=\"M2145.28 138.412 L2149.54 138.412 L2149.54 164.338 L2145.28 164.338 L2145.28 138.412 M2145.28 128.319 L2149.54 128.319 L2149.54 133.713 L2145.28 133.713 L2145.28 128.319 Z\" fill=\"#f8f8f2\" fill-rule=\"nonzero\" fill-opacity=\"1\" /><path clip-path=\"url(#clip710)\" d=\"M2180 148.689 L2180 164.338 L2175.74 164.338 L2175.74 148.828 Q2175.74 145.148 2174.31 143.319 Q2172.87 141.49 2170 141.49 Q2166.55 141.49 2164.56 143.69 Q2162.57 145.889 2162.57 149.685 L2162.57 164.338 L2158.29 164.338 L2158.29 138.412 L2162.57 138.412 L2162.57 142.44 Q2164.1 140.102 2166.16 138.944 Q2168.24 137.787 2170.95 137.787 Q2175.42 137.787 2177.71 140.565 Q2180 143.319 2180 148.689 Z\" fill=\"#f8f8f2\" fill-rule=\"nonzero\" fill-opacity=\"1\" /><path clip-path=\"url(#clip710)\" d=\"M2198.73 128.366 Q2195.63 133.69 2194.12 138.898 Q2192.62 144.106 2192.62 149.453 Q2192.62 154.801 2194.12 160.055 Q2195.65 165.287 2198.73 170.588 L2195.03 170.588 Q2191.55 165.148 2189.82 159.893 Q2188.11 154.639 2188.11 149.453 Q2188.11 144.291 2189.82 139.06 Q2191.53 133.828 2195.03 128.366 L2198.73 128.366 Z\" fill=\"#f8f8f2\" fill-rule=\"nonzero\" fill-opacity=\"1\" /><path clip-path=\"url(#clip710)\" d=\"M2228.54 138.412 L2219.17 151.027 L2229.03 164.338 L2224.01 164.338 L2216.46 154.152 L2208.92 164.338 L2203.89 164.338 L2213.96 150.773 L2204.75 138.412 L2209.77 138.412 L2216.65 147.648 L2223.52 138.412 L2228.54 138.412 Z\" fill=\"#f8f8f2\" fill-rule=\"nonzero\" fill-opacity=\"1\" /><path clip-path=\"url(#clip710)\" d=\"M2234.38 128.366 L2238.08 128.366 Q2241.55 133.828 2243.27 139.06 Q2245 144.291 2245 149.453 Q2245 154.639 2243.27 159.893 Q2241.55 165.148 2238.08 170.588 L2234.38 170.588 Q2237.46 165.287 2238.96 160.055 Q2240.49 154.801 2240.49 149.453 Q2240.49 144.106 2238.96 138.898 Q2237.46 133.69 2234.38 128.366 Z\" fill=\"#f8f8f2\" fill-rule=\"nonzero\" fill-opacity=\"1\" /><polyline clip-path=\"url(#clip710)\" style=\"stroke:#ff79c6; stroke-linecap:round; stroke-linejoin:round; stroke-width:4; stroke-opacity:1; fill:none\" points=\"1950.78,198.898 2094.7,198.898 \"/>\n",
       "<path clip-path=\"url(#clip710)\" d=\"M2139.19 191.247 L2139.19 195.229 Q2137.39 194.233 2135.56 193.747 Q2133.75 193.238 2131.9 193.238 Q2127.76 193.238 2125.47 195.877 Q2123.17 198.492 2123.17 203.238 Q2123.17 207.983 2125.47 210.622 Q2127.76 213.238 2131.9 213.238 Q2133.75 213.238 2135.56 212.752 Q2137.39 212.242 2139.19 211.247 L2139.19 215.182 Q2137.41 216.016 2135.49 216.432 Q2133.59 216.849 2131.44 216.849 Q2125.58 216.849 2122.13 213.168 Q2118.68 209.488 2118.68 203.238 Q2118.68 196.895 2122.16 193.261 Q2125.65 189.627 2131.72 189.627 Q2133.68 189.627 2135.56 190.043 Q2137.43 190.437 2139.19 191.247 Z\" fill=\"#f8f8f2\" fill-rule=\"nonzero\" fill-opacity=\"1\" /><path clip-path=\"url(#clip710)\" d=\"M2156.65 193.238 Q2153.22 193.238 2151.23 195.923 Q2149.24 198.585 2149.24 203.238 Q2149.24 207.891 2151.21 210.576 Q2153.2 213.238 2156.65 213.238 Q2160.05 213.238 2162.04 210.553 Q2164.03 207.867 2164.03 203.238 Q2164.03 198.631 2162.04 195.946 Q2160.05 193.238 2156.65 193.238 M2156.65 189.627 Q2162.2 189.627 2165.37 193.238 Q2168.54 196.849 2168.54 203.238 Q2168.54 209.604 2165.37 213.238 Q2162.2 216.849 2156.65 216.849 Q2151.07 216.849 2147.9 213.238 Q2144.75 209.604 2144.75 203.238 Q2144.75 196.849 2147.9 193.238 Q2151.07 189.627 2156.65 189.627 Z\" fill=\"#f8f8f2\" fill-rule=\"nonzero\" fill-opacity=\"1\" /><path clip-path=\"url(#clip710)\" d=\"M2192.13 191.016 L2192.13 195.043 Q2190.33 194.117 2188.38 193.655 Q2186.44 193.192 2184.36 193.192 Q2181.18 193.192 2179.59 194.164 Q2178.01 195.136 2178.01 197.08 Q2178.01 198.562 2179.15 199.418 Q2180.28 200.252 2183.71 201.016 L2185.17 201.34 Q2189.7 202.312 2191.6 204.094 Q2193.52 205.854 2193.52 209.025 Q2193.52 212.636 2190.65 214.742 Q2187.8 216.849 2182.8 216.849 Q2180.72 216.849 2178.45 216.432 Q2176.21 216.039 2173.71 215.228 L2173.71 210.83 Q2176.07 212.057 2178.36 212.682 Q2180.65 213.284 2182.9 213.284 Q2185.91 213.284 2187.53 212.266 Q2189.15 211.224 2189.15 209.349 Q2189.15 207.613 2187.97 206.687 Q2186.81 205.761 2182.85 204.904 L2181.37 204.557 Q2177.41 203.724 2175.65 202.011 Q2173.89 200.275 2173.89 197.266 Q2173.89 193.608 2176.48 191.618 Q2179.08 189.627 2183.85 189.627 Q2186.21 189.627 2188.29 189.974 Q2190.37 190.321 2192.13 191.016 Z\" fill=\"#f8f8f2\" fill-rule=\"nonzero\" fill-opacity=\"1\" /><path clip-path=\"url(#clip710)\" d=\"M2210.54 180.206 Q2207.43 185.53 2205.93 190.738 Q2204.42 195.946 2204.42 201.293 Q2204.42 206.641 2205.93 211.895 Q2207.46 217.127 2210.54 222.428 L2206.83 222.428 Q2203.36 216.988 2201.62 211.733 Q2199.91 206.479 2199.91 201.293 Q2199.91 196.131 2201.62 190.9 Q2203.34 185.668 2206.83 180.206 L2210.54 180.206 Z\" fill=\"#f8f8f2\" fill-rule=\"nonzero\" fill-opacity=\"1\" /><path clip-path=\"url(#clip710)\" d=\"M2240.35 190.252 L2230.98 202.867 L2240.84 216.178 L2235.81 216.178 L2228.27 205.992 L2220.72 216.178 L2215.7 216.178 L2225.77 202.613 L2216.55 190.252 L2221.58 190.252 L2228.45 199.488 L2235.33 190.252 L2240.35 190.252 Z\" fill=\"#f8f8f2\" fill-rule=\"nonzero\" fill-opacity=\"1\" /><path clip-path=\"url(#clip710)\" d=\"M2246.18 180.206 L2249.89 180.206 Q2253.36 185.668 2255.07 190.9 Q2256.81 196.131 2256.81 201.293 Q2256.81 206.479 2255.07 211.733 Q2253.36 216.988 2249.89 222.428 L2246.18 222.428 Q2249.26 217.127 2250.77 211.895 Q2252.29 206.641 2252.29 201.293 Q2252.29 195.946 2250.77 190.738 Q2249.26 185.53 2246.18 180.206 Z\" fill=\"#f8f8f2\" fill-rule=\"nonzero\" fill-opacity=\"1\" /></svg>\n"
      ],
      "text/html": [
       "<?xml version=\"1.0\" encoding=\"utf-8\"?>\n",
       "<svg xmlns=\"http://www.w3.org/2000/svg\" xmlns:xlink=\"http://www.w3.org/1999/xlink\" width=\"600\" height=\"400\" viewBox=\"0 0 2400 1600\">\n",
       "<defs>\n",
       "  <clipPath id=\"clip760\">\n",
       "    <rect x=\"0\" y=\"0\" width=\"2400\" height=\"1600\"/>\n",
       "  </clipPath>\n",
       "</defs>\n",
       "<path clip-path=\"url(#clip760)\" d=\"M0 1600 L2400 1600 L2400 0 L0 0  Z\" fill=\"#282a36\" fill-rule=\"evenodd\" fill-opacity=\"1\"/>\n",
       "<defs>\n",
       "  <clipPath id=\"clip761\">\n",
       "    <rect x=\"480\" y=\"0\" width=\"1681\" height=\"1600\"/>\n",
       "  </clipPath>\n",
       "</defs>\n",
       "<path clip-path=\"url(#clip760)\" d=\"M193.936 1486.45 L2352.76 1486.45 L2352.76 47.2441 L193.936 47.2441  Z\" fill=\"#30343b\" fill-rule=\"evenodd\" fill-opacity=\"1\"/>\n",
       "<defs>\n",
       "  <clipPath id=\"clip762\">\n",
       "    <rect x=\"193\" y=\"47\" width=\"2160\" height=\"1440\"/>\n",
       "  </clipPath>\n",
       "</defs>\n",
       "<polyline clip-path=\"url(#clip762)\" style=\"stroke:#f8f8f2; stroke-linecap:round; stroke-linejoin:round; stroke-width:2; stroke-opacity:0.1; fill:none\" points=\"481.326,1486.45 481.326,47.2441 \"/>\n",
       "<polyline clip-path=\"url(#clip762)\" style=\"stroke:#f8f8f2; stroke-linecap:round; stroke-linejoin:round; stroke-width:2; stroke-opacity:0.1; fill:none\" points=\"933.909,1486.45 933.909,47.2441 \"/>\n",
       "<polyline clip-path=\"url(#clip762)\" style=\"stroke:#f8f8f2; stroke-linecap:round; stroke-linejoin:round; stroke-width:2; stroke-opacity:0.1; fill:none\" points=\"1386.49,1486.45 1386.49,47.2441 \"/>\n",
       "<polyline clip-path=\"url(#clip762)\" style=\"stroke:#f8f8f2; stroke-linecap:round; stroke-linejoin:round; stroke-width:2; stroke-opacity:0.1; fill:none\" points=\"1839.07,1486.45 1839.07,47.2441 \"/>\n",
       "<polyline clip-path=\"url(#clip762)\" style=\"stroke:#f8f8f2; stroke-linecap:round; stroke-linejoin:round; stroke-width:2; stroke-opacity:0.1; fill:none\" points=\"2291.66,1486.45 2291.66,47.2441 \"/>\n",
       "<polyline clip-path=\"url(#clip762)\" style=\"stroke:#f8f8f2; stroke-linecap:round; stroke-linejoin:round; stroke-width:2; stroke-opacity:0.1; fill:none\" points=\"193.936,1445.77 2352.76,1445.77 \"/>\n",
       "<polyline clip-path=\"url(#clip762)\" style=\"stroke:#f8f8f2; stroke-linecap:round; stroke-linejoin:round; stroke-width:2; stroke-opacity:0.1; fill:none\" points=\"193.936,1106.3 2352.76,1106.3 \"/>\n",
       "<polyline clip-path=\"url(#clip762)\" style=\"stroke:#f8f8f2; stroke-linecap:round; stroke-linejoin:round; stroke-width:2; stroke-opacity:0.1; fill:none\" points=\"193.936,766.824 2352.76,766.824 \"/>\n",
       "<polyline clip-path=\"url(#clip762)\" style=\"stroke:#f8f8f2; stroke-linecap:round; stroke-linejoin:round; stroke-width:2; stroke-opacity:0.1; fill:none\" points=\"193.936,427.352 2352.76,427.352 \"/>\n",
       "<polyline clip-path=\"url(#clip762)\" style=\"stroke:#f8f8f2; stroke-linecap:round; stroke-linejoin:round; stroke-width:2; stroke-opacity:0.1; fill:none\" points=\"193.936,87.8803 2352.76,87.8803 \"/>\n",
       "<polyline clip-path=\"url(#clip760)\" style=\"stroke:#f8f8f2; stroke-linecap:round; stroke-linejoin:round; stroke-width:4; stroke-opacity:1; fill:none\" points=\"193.936,1486.45 2352.76,1486.45 \"/>\n",
       "<polyline clip-path=\"url(#clip760)\" style=\"stroke:#f8f8f2; stroke-linecap:round; stroke-linejoin:round; stroke-width:4; stroke-opacity:1; fill:none\" points=\"481.326,1486.45 481.326,1467.55 \"/>\n",
       "<polyline clip-path=\"url(#clip760)\" style=\"stroke:#f8f8f2; stroke-linecap:round; stroke-linejoin:round; stroke-width:4; stroke-opacity:1; fill:none\" points=\"933.909,1486.45 933.909,1467.55 \"/>\n",
       "<polyline clip-path=\"url(#clip760)\" style=\"stroke:#f8f8f2; stroke-linecap:round; stroke-linejoin:round; stroke-width:4; stroke-opacity:1; fill:none\" points=\"1386.49,1486.45 1386.49,1467.55 \"/>\n",
       "<polyline clip-path=\"url(#clip760)\" style=\"stroke:#f8f8f2; stroke-linecap:round; stroke-linejoin:round; stroke-width:4; stroke-opacity:1; fill:none\" points=\"1839.07,1486.45 1839.07,1467.55 \"/>\n",
       "<polyline clip-path=\"url(#clip760)\" style=\"stroke:#f8f8f2; stroke-linecap:round; stroke-linejoin:round; stroke-width:4; stroke-opacity:1; fill:none\" points=\"2291.66,1486.45 2291.66,1467.55 \"/>\n",
       "<path clip-path=\"url(#clip760)\" d=\"M475.979 1544.91 L492.298 1544.91 L492.298 1548.85 L470.354 1548.85 L470.354 1544.91 Q473.016 1542.16 477.599 1537.53 Q482.206 1532.88 483.386 1531.53 Q485.632 1529.01 486.511 1527.27 Q487.414 1525.51 487.414 1523.82 Q487.414 1521.07 485.47 1519.33 Q483.548 1517.6 480.446 1517.6 Q478.247 1517.6 475.794 1518.36 Q473.363 1519.13 470.585 1520.68 L470.585 1515.95 Q473.409 1514.82 475.863 1514.24 Q478.317 1513.66 480.354 1513.66 Q485.724 1513.66 488.919 1516.35 Q492.113 1519.03 492.113 1523.52 Q492.113 1525.65 491.303 1527.57 Q490.516 1529.47 488.409 1532.07 Q487.831 1532.74 484.729 1535.95 Q481.627 1539.15 475.979 1544.91 Z\" fill=\"#f8f8f2\" fill-rule=\"nonzero\" fill-opacity=\"1\" /><path clip-path=\"url(#clip760)\" d=\"M936.918 1518.36 L925.113 1536.81 L936.918 1536.81 L936.918 1518.36 M935.691 1514.29 L941.571 1514.29 L941.571 1536.81 L946.501 1536.81 L946.501 1540.7 L941.571 1540.7 L941.571 1548.85 L936.918 1548.85 L936.918 1540.7 L921.316 1540.7 L921.316 1536.19 L935.691 1514.29 Z\" fill=\"#f8f8f2\" fill-rule=\"nonzero\" fill-opacity=\"1\" /><path clip-path=\"url(#clip760)\" d=\"M1386.9 1529.7 Q1383.75 1529.7 1381.9 1531.86 Q1380.07 1534.01 1380.07 1537.76 Q1380.07 1541.49 1381.9 1543.66 Q1383.75 1545.82 1386.9 1545.82 Q1390.04 1545.82 1391.87 1543.66 Q1393.73 1541.49 1393.73 1537.76 Q1393.73 1534.01 1391.87 1531.86 Q1390.04 1529.7 1386.9 1529.7 M1396.18 1515.05 L1396.18 1519.31 Q1394.42 1518.48 1392.61 1518.04 Q1390.83 1517.6 1389.07 1517.6 Q1384.44 1517.6 1381.99 1520.72 Q1379.56 1523.85 1379.21 1530.17 Q1380.58 1528.15 1382.64 1527.09 Q1384.7 1526 1387.17 1526 Q1392.38 1526 1395.39 1529.17 Q1398.42 1532.32 1398.42 1537.76 Q1398.42 1543.08 1395.28 1546.3 Q1392.13 1549.52 1386.9 1549.52 Q1380.9 1549.52 1377.73 1544.94 Q1374.56 1540.33 1374.56 1531.6 Q1374.56 1523.41 1378.45 1518.55 Q1382.34 1513.66 1388.89 1513.66 Q1390.65 1513.66 1392.43 1514.01 Q1394.23 1514.36 1396.18 1515.05 Z\" fill=\"#f8f8f2\" fill-rule=\"nonzero\" fill-opacity=\"1\" /><path clip-path=\"url(#clip760)\" d=\"M1839.07 1532.44 Q1835.74 1532.44 1833.82 1534.22 Q1831.92 1536 1831.92 1539.13 Q1831.92 1542.25 1833.82 1544.03 Q1835.74 1545.82 1839.07 1545.82 Q1842.41 1545.82 1844.33 1544.03 Q1846.25 1542.23 1846.25 1539.13 Q1846.25 1536 1844.33 1534.22 Q1842.43 1532.44 1839.07 1532.44 M1834.4 1530.45 Q1831.39 1529.7 1829.7 1527.64 Q1828.03 1525.58 1828.03 1522.62 Q1828.03 1518.48 1830.97 1516.07 Q1833.94 1513.66 1839.07 1513.66 Q1844.24 1513.66 1847.18 1516.07 Q1850.12 1518.48 1850.12 1522.62 Q1850.12 1525.58 1848.43 1527.64 Q1846.76 1529.7 1843.77 1530.45 Q1847.15 1531.23 1849.03 1533.52 Q1850.93 1535.82 1850.93 1539.13 Q1850.93 1544.15 1847.85 1546.83 Q1844.79 1549.52 1839.07 1549.52 Q1833.36 1549.52 1830.28 1546.83 Q1827.22 1544.15 1827.22 1539.13 Q1827.22 1535.82 1829.12 1533.52 Q1831.02 1531.23 1834.4 1530.45 M1832.69 1523.06 Q1832.69 1525.75 1834.35 1527.25 Q1836.04 1528.76 1839.07 1528.76 Q1842.08 1528.76 1843.77 1527.25 Q1845.49 1525.75 1845.49 1523.06 Q1845.49 1520.38 1843.77 1518.87 Q1842.08 1517.37 1839.07 1517.37 Q1836.04 1517.37 1834.35 1518.87 Q1832.69 1520.38 1832.69 1523.06 Z\" fill=\"#f8f8f2\" fill-rule=\"nonzero\" fill-opacity=\"1\" /><path clip-path=\"url(#clip760)\" d=\"M2266.34 1544.91 L2273.98 1544.91 L2273.98 1518.55 L2265.67 1520.21 L2265.67 1515.95 L2273.94 1514.29 L2278.61 1514.29 L2278.61 1544.91 L2286.25 1544.91 L2286.25 1548.85 L2266.34 1548.85 L2266.34 1544.91 Z\" fill=\"#f8f8f2\" fill-rule=\"nonzero\" fill-opacity=\"1\" /><path clip-path=\"url(#clip760)\" d=\"M2305.7 1517.37 Q2302.09 1517.37 2300.26 1520.93 Q2298.45 1524.47 2298.45 1531.6 Q2298.45 1538.71 2300.26 1542.27 Q2302.09 1545.82 2305.7 1545.82 Q2309.33 1545.82 2311.14 1542.27 Q2312.96 1538.71 2312.96 1531.6 Q2312.96 1524.47 2311.14 1520.93 Q2309.33 1517.37 2305.7 1517.37 M2305.7 1513.66 Q2311.51 1513.66 2314.56 1518.27 Q2317.64 1522.85 2317.64 1531.6 Q2317.64 1540.33 2314.56 1544.94 Q2311.51 1549.52 2305.7 1549.52 Q2299.89 1549.52 2296.81 1544.94 Q2293.75 1540.33 2293.75 1531.6 Q2293.75 1522.85 2296.81 1518.27 Q2299.89 1513.66 2305.7 1513.66 Z\" fill=\"#f8f8f2\" fill-rule=\"nonzero\" fill-opacity=\"1\" /><polyline clip-path=\"url(#clip760)\" style=\"stroke:#f8f8f2; stroke-linecap:round; stroke-linejoin:round; stroke-width:4; stroke-opacity:1; fill:none\" points=\"193.936,1486.45 193.936,47.2441 \"/>\n",
       "<polyline clip-path=\"url(#clip760)\" style=\"stroke:#f8f8f2; stroke-linecap:round; stroke-linejoin:round; stroke-width:4; stroke-opacity:1; fill:none\" points=\"193.936,1445.77 212.834,1445.77 \"/>\n",
       "<polyline clip-path=\"url(#clip760)\" style=\"stroke:#f8f8f2; stroke-linecap:round; stroke-linejoin:round; stroke-width:4; stroke-opacity:1; fill:none\" points=\"193.936,1106.3 212.834,1106.3 \"/>\n",
       "<polyline clip-path=\"url(#clip760)\" style=\"stroke:#f8f8f2; stroke-linecap:round; stroke-linejoin:round; stroke-width:4; stroke-opacity:1; fill:none\" points=\"193.936,766.824 212.834,766.824 \"/>\n",
       "<polyline clip-path=\"url(#clip760)\" style=\"stroke:#f8f8f2; stroke-linecap:round; stroke-linejoin:round; stroke-width:4; stroke-opacity:1; fill:none\" points=\"193.936,427.352 212.834,427.352 \"/>\n",
       "<polyline clip-path=\"url(#clip760)\" style=\"stroke:#f8f8f2; stroke-linecap:round; stroke-linejoin:round; stroke-width:4; stroke-opacity:1; fill:none\" points=\"193.936,87.8803 212.834,87.8803 \"/>\n",
       "<path clip-path=\"url(#clip760)\" d=\"M50.9921 1446.22 L80.6679 1446.22 L80.6679 1450.15 L50.9921 1450.15 L50.9921 1446.22 Z\" fill=\"#f8f8f2\" fill-rule=\"nonzero\" fill-opacity=\"1\" /><path clip-path=\"url(#clip760)\" d=\"M91.5706 1459.11 L99.2095 1459.11 L99.2095 1432.75 L90.8993 1434.41 L90.8993 1430.15 L99.1632 1428.49 L103.839 1428.49 L103.839 1459.11 L111.478 1459.11 L111.478 1463.05 L91.5706 1463.05 L91.5706 1459.11 Z\" fill=\"#f8f8f2\" fill-rule=\"nonzero\" fill-opacity=\"1\" /><path clip-path=\"url(#clip760)\" d=\"M120.922 1457.17 L125.807 1457.17 L125.807 1463.05 L120.922 1463.05 L120.922 1457.17 Z\" fill=\"#f8f8f2\" fill-rule=\"nonzero\" fill-opacity=\"1\" /><path clip-path=\"url(#clip760)\" d=\"M145.992 1431.57 Q142.381 1431.57 140.552 1435.13 Q138.746 1438.67 138.746 1445.8 Q138.746 1452.91 140.552 1456.47 Q142.381 1460.02 145.992 1460.02 Q149.626 1460.02 151.431 1456.47 Q153.26 1452.91 153.26 1445.8 Q153.26 1438.67 151.431 1435.13 Q149.626 1431.57 145.992 1431.57 M145.992 1427.86 Q151.802 1427.86 154.857 1432.47 Q157.936 1437.05 157.936 1445.8 Q157.936 1454.53 154.857 1459.14 Q151.802 1463.72 145.992 1463.72 Q140.181 1463.72 137.103 1459.14 Q134.047 1454.53 134.047 1445.8 Q134.047 1437.05 137.103 1432.47 Q140.181 1427.86 145.992 1427.86 Z\" fill=\"#f8f8f2\" fill-rule=\"nonzero\" fill-opacity=\"1\" /><path clip-path=\"url(#clip760)\" d=\"M51.9875 1106.75 L81.6633 1106.75 L81.6633 1110.68 L51.9875 1110.68 L51.9875 1106.75 Z\" fill=\"#f8f8f2\" fill-rule=\"nonzero\" fill-opacity=\"1\" /><path clip-path=\"url(#clip760)\" d=\"M101.756 1092.09 Q98.1447 1092.09 96.316 1095.66 Q94.5104 1099.2 94.5104 1106.33 Q94.5104 1113.44 96.316 1117 Q98.1447 1120.54 101.756 1120.54 Q105.39 1120.54 107.196 1117 Q109.024 1113.44 109.024 1106.33 Q109.024 1099.2 107.196 1095.66 Q105.39 1092.09 101.756 1092.09 M101.756 1088.39 Q107.566 1088.39 110.621 1093 Q113.7 1097.58 113.7 1106.33 Q113.7 1115.06 110.621 1119.66 Q107.566 1124.25 101.756 1124.25 Q95.9456 1124.25 92.8669 1119.66 Q89.8114 1115.06 89.8114 1106.33 Q89.8114 1097.58 92.8669 1093 Q95.9456 1088.39 101.756 1088.39 Z\" fill=\"#f8f8f2\" fill-rule=\"nonzero\" fill-opacity=\"1\" /><path clip-path=\"url(#clip760)\" d=\"M121.918 1117.7 L126.802 1117.7 L126.802 1123.58 L121.918 1123.58 L121.918 1117.7 Z\" fill=\"#f8f8f2\" fill-rule=\"nonzero\" fill-opacity=\"1\" /><path clip-path=\"url(#clip760)\" d=\"M137.033 1089.02 L155.39 1089.02 L155.39 1092.95 L141.316 1092.95 L141.316 1101.42 Q142.334 1101.08 143.353 1100.91 Q144.371 1100.73 145.39 1100.73 Q151.177 1100.73 154.556 1103.9 Q157.936 1107.07 157.936 1112.49 Q157.936 1118.07 154.464 1121.17 Q150.992 1124.25 144.672 1124.25 Q142.496 1124.25 140.228 1123.88 Q137.982 1123.51 135.575 1122.77 L135.575 1118.07 Q137.658 1119.2 139.881 1119.76 Q142.103 1120.31 144.58 1120.31 Q148.584 1120.31 150.922 1118.21 Q153.26 1116.1 153.26 1112.49 Q153.26 1108.88 150.922 1106.77 Q148.584 1104.66 144.58 1104.66 Q142.705 1104.66 140.83 1105.08 Q138.978 1105.5 137.033 1106.38 L137.033 1089.02 Z\" fill=\"#f8f8f2\" fill-rule=\"nonzero\" fill-opacity=\"1\" /><path clip-path=\"url(#clip760)\" d=\"M100.76 752.623 Q97.1493 752.623 95.3206 756.188 Q93.515 759.729 93.515 766.859 Q93.515 773.965 95.3206 777.53 Q97.1493 781.072 100.76 781.072 Q104.395 781.072 106.2 777.53 Q108.029 773.965 108.029 766.859 Q108.029 759.729 106.2 756.188 Q104.395 752.623 100.76 752.623 M100.76 748.919 Q106.571 748.919 109.626 753.526 Q112.705 758.109 112.705 766.859 Q112.705 775.586 109.626 780.192 Q106.571 784.775 100.76 784.775 Q94.9502 784.775 91.8715 780.192 Q88.816 775.586 88.816 766.859 Q88.816 758.109 91.8715 753.526 Q94.9502 748.919 100.76 748.919 Z\" fill=\"#f8f8f2\" fill-rule=\"nonzero\" fill-opacity=\"1\" /><path clip-path=\"url(#clip760)\" d=\"M120.922 778.224 L125.807 778.224 L125.807 784.104 L120.922 784.104 L120.922 778.224 Z\" fill=\"#f8f8f2\" fill-rule=\"nonzero\" fill-opacity=\"1\" /><path clip-path=\"url(#clip760)\" d=\"M145.992 752.623 Q142.381 752.623 140.552 756.188 Q138.746 759.729 138.746 766.859 Q138.746 773.965 140.552 777.53 Q142.381 781.072 145.992 781.072 Q149.626 781.072 151.431 777.53 Q153.26 773.965 153.26 766.859 Q153.26 759.729 151.431 756.188 Q149.626 752.623 145.992 752.623 M145.992 748.919 Q151.802 748.919 154.857 753.526 Q157.936 758.109 157.936 766.859 Q157.936 775.586 154.857 780.192 Q151.802 784.775 145.992 784.775 Q140.181 784.775 137.103 780.192 Q134.047 775.586 134.047 766.859 Q134.047 758.109 137.103 753.526 Q140.181 748.919 145.992 748.919 Z\" fill=\"#f8f8f2\" fill-rule=\"nonzero\" fill-opacity=\"1\" /><path clip-path=\"url(#clip760)\" d=\"M101.756 413.151 Q98.1447 413.151 96.316 416.716 Q94.5104 420.257 94.5104 427.387 Q94.5104 434.493 96.316 438.058 Q98.1447 441.6 101.756 441.6 Q105.39 441.6 107.196 438.058 Q109.024 434.493 109.024 427.387 Q109.024 420.257 107.196 416.716 Q105.39 413.151 101.756 413.151 M101.756 409.447 Q107.566 409.447 110.621 414.054 Q113.7 418.637 113.7 427.387 Q113.7 436.114 110.621 440.72 Q107.566 445.303 101.756 445.303 Q95.9456 445.303 92.8669 440.72 Q89.8114 436.114 89.8114 427.387 Q89.8114 418.637 92.8669 414.054 Q95.9456 409.447 101.756 409.447 Z\" fill=\"#f8f8f2\" fill-rule=\"nonzero\" fill-opacity=\"1\" /><path clip-path=\"url(#clip760)\" d=\"M121.918 438.753 L126.802 438.753 L126.802 444.632 L121.918 444.632 L121.918 438.753 Z\" fill=\"#f8f8f2\" fill-rule=\"nonzero\" fill-opacity=\"1\" /><path clip-path=\"url(#clip760)\" d=\"M137.033 410.072 L155.39 410.072 L155.39 414.007 L141.316 414.007 L141.316 422.48 Q142.334 422.132 143.353 421.97 Q144.371 421.785 145.39 421.785 Q151.177 421.785 154.556 424.956 Q157.936 428.128 157.936 433.544 Q157.936 439.123 154.464 442.225 Q150.992 445.303 144.672 445.303 Q142.496 445.303 140.228 444.933 Q137.982 444.563 135.575 443.822 L135.575 439.123 Q137.658 440.257 139.881 440.813 Q142.103 441.368 144.58 441.368 Q148.584 441.368 150.922 439.262 Q153.26 437.155 153.26 433.544 Q153.26 429.933 150.922 427.827 Q148.584 425.72 144.58 425.72 Q142.705 425.72 140.83 426.137 Q138.978 426.554 137.033 427.433 L137.033 410.072 Z\" fill=\"#f8f8f2\" fill-rule=\"nonzero\" fill-opacity=\"1\" /><path clip-path=\"url(#clip760)\" d=\"M91.5706 101.225 L99.2095 101.225 L99.2095 74.8595 L90.8993 76.5262 L90.8993 72.267 L99.1632 70.6003 L103.839 70.6003 L103.839 101.225 L111.478 101.225 L111.478 105.16 L91.5706 105.16 L91.5706 101.225 Z\" fill=\"#f8f8f2\" fill-rule=\"nonzero\" fill-opacity=\"1\" /><path clip-path=\"url(#clip760)\" d=\"M120.922 99.2807 L125.807 99.2807 L125.807 105.16 L120.922 105.16 L120.922 99.2807 Z\" fill=\"#f8f8f2\" fill-rule=\"nonzero\" fill-opacity=\"1\" /><path clip-path=\"url(#clip760)\" d=\"M145.992 73.679 Q142.381 73.679 140.552 77.2438 Q138.746 80.7854 138.746 87.915 Q138.746 95.0215 140.552 98.5863 Q142.381 102.128 145.992 102.128 Q149.626 102.128 151.431 98.5863 Q153.26 95.0215 153.26 87.915 Q153.26 80.7854 151.431 77.2438 Q149.626 73.679 145.992 73.679 M145.992 69.9753 Q151.802 69.9753 154.857 74.5818 Q157.936 79.1651 157.936 87.915 Q157.936 96.6418 154.857 101.248 Q151.802 105.832 145.992 105.832 Q140.181 105.832 137.103 101.248 Q134.047 96.6418 134.047 87.915 Q134.047 79.1651 137.103 74.5818 Q140.181 69.9753 145.992 69.9753 Z\" fill=\"#f8f8f2\" fill-rule=\"nonzero\" fill-opacity=\"1\" /><polyline clip-path=\"url(#clip762)\" style=\"stroke:#8be9fd; stroke-linecap:round; stroke-linejoin:round; stroke-width:4; stroke-opacity:1; fill:none\" points=\"255.035,195.513 277.664,161.744 300.293,134.022 322.922,112.622 345.551,97.7591 368.18,89.5811 390.81,88.1698 413.439,93.5394 436.068,105.636 458.697,124.34 481.326,149.462 503.955,180.753 526.584,217.9 549.213,260.532 571.843,308.223 594.472,360.495 617.101,416.828 639.73,476.657 662.359,539.386 684.988,604.387 707.617,671.011 730.247,738.593 752.876,806.457 775.505,873.925 798.134,940.322 820.763,1004.99 843.392,1067.27 866.021,1126.55 888.651,1182.24 911.28,1233.78 933.909,1280.65 956.538,1322.39 979.167,1358.57 1001.8,1388.85 1024.43,1412.91 1047.05,1430.51 1069.68,1441.48 1092.31,1445.72 1114.94,1443.16 1137.57,1433.85 1160.2,1417.88 1182.83,1395.4 1205.46,1366.64 1228.09,1331.89 1250.72,1291.49 1273.35,1245.85 1295.98,1195.42 1318.6,1140.71 1341.23,1082.26 1363.86,1020.67 1386.49,956.531 1409.12,890.502 1431.75,823.237 1454.38,755.408 1477.01,687.694 1499.64,620.77 1522.27,555.305 1544.9,491.954 1567.52,431.349 1590.15,374.096 1612.78,320.767 1635.41,271.895 1658.04,227.968 1680.67,189.425 1703.3,156.652 1725.93,129.975 1748.56,109.661 1771.19,95.9134 1793.82,88.8693 1816.45,88.5991 1839.07,95.1055 1861.7,108.323 1884.33,128.121 1906.96,154.3 1929.59,186.599 1952.22,224.696 1974.85,268.21 1997.48,316.705 2020.11,369.698 2042.74,426.659 2065.37,487.019 2087.99,550.174 2110.62,615.494 2133.25,682.326 2155.88,750.003 2178.51,817.847 2201.14,885.182 2223.77,951.334 2246.4,1015.64 2269.03,1077.47 2291.66,1136.18 \"/>\n",
       "<polyline clip-path=\"url(#clip762)\" style=\"stroke:#ff79c6; stroke-linecap:round; stroke-linejoin:round; stroke-width:4; stroke-opacity:1; fill:none\" points=\"255.035,399.989 277.664,458.858 300.293,520.804 322.922,585.207 345.551,651.426 368.18,718.797 390.81,786.649 413.439,854.302 436.068,921.081 458.697,986.319 481.326,1049.36 503.955,1109.59 526.584,1166.38 549.213,1219.19 571.843,1267.47 594.472,1310.76 617.101,1348.6 639.73,1380.64 662.359,1406.54 684.988,1426.05 707.617,1438.97 730.247,1445.18 752.876,1444.61 775.505,1437.27 798.134,1423.23 820.763,1402.63 843.392,1375.67 866.021,1342.64 888.651,1303.85 911.28,1259.69 933.909,1210.61 956.538,1157.1 979.167,1099.68 1001.8,1038.94 1024.43,975.486 1047.05,909.943 1069.68,842.969 1092.31,775.235 1114.94,707.417 1137.57,640.193 1160.2,574.233 1182.83,510.198 1205.46,448.728 1228.09,390.435 1250.72,335.903 1273.35,285.677 1295.98,240.258 1318.6,200.101 1341.23,165.606 1363.86,137.118 1386.49,114.922 1409.12,99.2401 1431.75,90.228 1454.38,87.9763 1477.01,92.5074 1499.64,103.776 1522.27,121.67 1544.9,146.009 1567.52,176.552 1590.15,212.993 1612.78,254.967 1635.41,302.055 1658.04,353.788 1680.67,409.647 1703.3,469.075 1725.93,531.478 1748.56,596.233 1771.19,662.692 1793.82,730.191 1816.45,798.057 1839.07,865.61 1861.7,932.177 1884.33,997.091 1906.96,1059.7 1929.59,1119.39 1952.22,1175.56 1974.85,1227.64 1997.48,1275.11 2020.11,1317.51 2042.74,1354.41 2065.37,1385.43 2087.99,1410.27 2110.62,1428.69 2133.25,1440.49 2155.88,1445.56 2178.51,1443.85 2201.14,1435.37 2223.77,1420.22 2246.4,1398.53 2269.03,1370.53 2291.66,1336.51 \"/>\n",
       "<path clip-path=\"url(#clip760)\" d=\"M1926.79 250.738 L2280.8 250.738 L2280.8 95.2176 L1926.79 95.2176  Z\" fill=\"#282a36\" fill-rule=\"evenodd\" fill-opacity=\"1\"/>\n",
       "<polyline clip-path=\"url(#clip760)\" style=\"stroke:#f8f8f2; stroke-linecap:round; stroke-linejoin:round; stroke-width:4; stroke-opacity:1; fill:none\" points=\"1926.79,250.738 2280.8,250.738 2280.8,95.2176 1926.79,95.2176 1926.79,250.738 \"/>\n",
       "<polyline clip-path=\"url(#clip760)\" style=\"stroke:#8be9fd; stroke-linecap:round; stroke-linejoin:round; stroke-width:4; stroke-opacity:1; fill:none\" points=\"1950.78,147.058 2094.7,147.058 \"/>\n",
       "<path clip-path=\"url(#clip760)\" d=\"M2137.11 139.176 L2137.11 143.203 Q2135.3 142.277 2133.36 141.815 Q2131.42 141.352 2129.33 141.352 Q2126.16 141.352 2124.56 142.324 Q2122.99 143.296 2122.99 145.24 Q2122.99 146.722 2124.12 147.578 Q2125.26 148.412 2128.68 149.176 L2130.14 149.5 Q2134.68 150.472 2136.58 152.254 Q2138.5 154.014 2138.5 157.185 Q2138.5 160.796 2135.63 162.902 Q2132.78 165.009 2127.78 165.009 Q2125.7 165.009 2123.43 164.592 Q2121.18 164.199 2118.68 163.388 L2118.68 158.99 Q2121.05 160.217 2123.34 160.842 Q2125.63 161.444 2127.87 161.444 Q2130.88 161.444 2132.5 160.426 Q2134.12 159.384 2134.12 157.509 Q2134.12 155.773 2132.94 154.847 Q2131.79 153.921 2127.83 153.064 L2126.35 152.717 Q2122.39 151.884 2120.63 150.171 Q2118.87 148.435 2118.87 145.426 Q2118.87 141.768 2121.46 139.778 Q2124.05 137.787 2128.82 137.787 Q2131.18 137.787 2133.27 138.134 Q2135.35 138.481 2137.11 139.176 Z\" fill=\"#f8f8f2\" fill-rule=\"nonzero\" fill-opacity=\"1\" /><path clip-path=\"url(#clip760)\" d=\"M2145.28 138.412 L2149.54 138.412 L2149.54 164.338 L2145.28 164.338 L2145.28 138.412 M2145.28 128.319 L2149.54 128.319 L2149.54 133.713 L2145.28 133.713 L2145.28 128.319 Z\" fill=\"#f8f8f2\" fill-rule=\"nonzero\" fill-opacity=\"1\" /><path clip-path=\"url(#clip760)\" d=\"M2180 148.689 L2180 164.338 L2175.74 164.338 L2175.74 148.828 Q2175.74 145.148 2174.31 143.319 Q2172.87 141.49 2170 141.49 Q2166.55 141.49 2164.56 143.69 Q2162.57 145.889 2162.57 149.685 L2162.57 164.338 L2158.29 164.338 L2158.29 138.412 L2162.57 138.412 L2162.57 142.44 Q2164.1 140.102 2166.16 138.944 Q2168.24 137.787 2170.95 137.787 Q2175.42 137.787 2177.71 140.565 Q2180 143.319 2180 148.689 Z\" fill=\"#f8f8f2\" fill-rule=\"nonzero\" fill-opacity=\"1\" /><path clip-path=\"url(#clip760)\" d=\"M2198.73 128.366 Q2195.63 133.69 2194.12 138.898 Q2192.62 144.106 2192.62 149.453 Q2192.62 154.801 2194.12 160.055 Q2195.65 165.287 2198.73 170.588 L2195.03 170.588 Q2191.55 165.148 2189.82 159.893 Q2188.11 154.639 2188.11 149.453 Q2188.11 144.291 2189.82 139.06 Q2191.53 133.828 2195.03 128.366 L2198.73 128.366 Z\" fill=\"#f8f8f2\" fill-rule=\"nonzero\" fill-opacity=\"1\" /><path clip-path=\"url(#clip760)\" d=\"M2228.54 138.412 L2219.17 151.027 L2229.03 164.338 L2224.01 164.338 L2216.46 154.152 L2208.92 164.338 L2203.89 164.338 L2213.96 150.773 L2204.75 138.412 L2209.77 138.412 L2216.65 147.648 L2223.52 138.412 L2228.54 138.412 Z\" fill=\"#f8f8f2\" fill-rule=\"nonzero\" fill-opacity=\"1\" /><path clip-path=\"url(#clip760)\" d=\"M2234.38 128.366 L2238.08 128.366 Q2241.55 133.828 2243.27 139.06 Q2245 144.291 2245 149.453 Q2245 154.639 2243.27 159.893 Q2241.55 165.148 2238.08 170.588 L2234.38 170.588 Q2237.46 165.287 2238.96 160.055 Q2240.49 154.801 2240.49 149.453 Q2240.49 144.106 2238.96 138.898 Q2237.46 133.69 2234.38 128.366 Z\" fill=\"#f8f8f2\" fill-rule=\"nonzero\" fill-opacity=\"1\" /><polyline clip-path=\"url(#clip760)\" style=\"stroke:#ff79c6; stroke-linecap:round; stroke-linejoin:round; stroke-width:4; stroke-opacity:1; fill:none\" points=\"1950.78,198.898 2094.7,198.898 \"/>\n",
       "<path clip-path=\"url(#clip760)\" d=\"M2139.19 191.247 L2139.19 195.229 Q2137.39 194.233 2135.56 193.747 Q2133.75 193.238 2131.9 193.238 Q2127.76 193.238 2125.47 195.877 Q2123.17 198.492 2123.17 203.238 Q2123.17 207.983 2125.47 210.622 Q2127.76 213.238 2131.9 213.238 Q2133.75 213.238 2135.56 212.752 Q2137.39 212.242 2139.19 211.247 L2139.19 215.182 Q2137.41 216.016 2135.49 216.432 Q2133.59 216.849 2131.44 216.849 Q2125.58 216.849 2122.13 213.168 Q2118.68 209.488 2118.68 203.238 Q2118.68 196.895 2122.16 193.261 Q2125.65 189.627 2131.72 189.627 Q2133.68 189.627 2135.56 190.043 Q2137.43 190.437 2139.19 191.247 Z\" fill=\"#f8f8f2\" fill-rule=\"nonzero\" fill-opacity=\"1\" /><path clip-path=\"url(#clip760)\" d=\"M2156.65 193.238 Q2153.22 193.238 2151.23 195.923 Q2149.24 198.585 2149.24 203.238 Q2149.24 207.891 2151.21 210.576 Q2153.2 213.238 2156.65 213.238 Q2160.05 213.238 2162.04 210.553 Q2164.03 207.867 2164.03 203.238 Q2164.03 198.631 2162.04 195.946 Q2160.05 193.238 2156.65 193.238 M2156.65 189.627 Q2162.2 189.627 2165.37 193.238 Q2168.54 196.849 2168.54 203.238 Q2168.54 209.604 2165.37 213.238 Q2162.2 216.849 2156.65 216.849 Q2151.07 216.849 2147.9 213.238 Q2144.75 209.604 2144.75 203.238 Q2144.75 196.849 2147.9 193.238 Q2151.07 189.627 2156.65 189.627 Z\" fill=\"#f8f8f2\" fill-rule=\"nonzero\" fill-opacity=\"1\" /><path clip-path=\"url(#clip760)\" d=\"M2192.13 191.016 L2192.13 195.043 Q2190.33 194.117 2188.38 193.655 Q2186.44 193.192 2184.36 193.192 Q2181.18 193.192 2179.59 194.164 Q2178.01 195.136 2178.01 197.08 Q2178.01 198.562 2179.15 199.418 Q2180.28 200.252 2183.71 201.016 L2185.17 201.34 Q2189.7 202.312 2191.6 204.094 Q2193.52 205.854 2193.52 209.025 Q2193.52 212.636 2190.65 214.742 Q2187.8 216.849 2182.8 216.849 Q2180.72 216.849 2178.45 216.432 Q2176.21 216.039 2173.71 215.228 L2173.71 210.83 Q2176.07 212.057 2178.36 212.682 Q2180.65 213.284 2182.9 213.284 Q2185.91 213.284 2187.53 212.266 Q2189.15 211.224 2189.15 209.349 Q2189.15 207.613 2187.97 206.687 Q2186.81 205.761 2182.85 204.904 L2181.37 204.557 Q2177.41 203.724 2175.65 202.011 Q2173.89 200.275 2173.89 197.266 Q2173.89 193.608 2176.48 191.618 Q2179.08 189.627 2183.85 189.627 Q2186.21 189.627 2188.29 189.974 Q2190.37 190.321 2192.13 191.016 Z\" fill=\"#f8f8f2\" fill-rule=\"nonzero\" fill-opacity=\"1\" /><path clip-path=\"url(#clip760)\" d=\"M2210.54 180.206 Q2207.43 185.53 2205.93 190.738 Q2204.42 195.946 2204.42 201.293 Q2204.42 206.641 2205.93 211.895 Q2207.46 217.127 2210.54 222.428 L2206.83 222.428 Q2203.36 216.988 2201.62 211.733 Q2199.91 206.479 2199.91 201.293 Q2199.91 196.131 2201.62 190.9 Q2203.34 185.668 2206.83 180.206 L2210.54 180.206 Z\" fill=\"#f8f8f2\" fill-rule=\"nonzero\" fill-opacity=\"1\" /><path clip-path=\"url(#clip760)\" d=\"M2240.35 190.252 L2230.98 202.867 L2240.84 216.178 L2235.81 216.178 L2228.27 205.992 L2220.72 216.178 L2215.7 216.178 L2225.77 202.613 L2216.55 190.252 L2221.58 190.252 L2228.45 199.488 L2235.33 190.252 L2240.35 190.252 Z\" fill=\"#f8f8f2\" fill-rule=\"nonzero\" fill-opacity=\"1\" /><path clip-path=\"url(#clip760)\" d=\"M2246.18 180.206 L2249.89 180.206 Q2253.36 185.668 2255.07 190.9 Q2256.81 196.131 2256.81 201.293 Q2256.81 206.479 2255.07 211.733 Q2253.36 216.988 2249.89 222.428 L2246.18 222.428 Q2249.26 217.127 2250.77 211.895 Q2252.29 206.641 2252.29 201.293 Q2252.29 195.946 2250.77 190.738 Q2249.26 185.53 2246.18 180.206 Z\" fill=\"#f8f8f2\" fill-rule=\"nonzero\" fill-opacity=\"1\" /></svg>\n"
      ]
     },
     "execution_count": 215,
     "metadata": {},
     "output_type": "execute_result"
    }
   ],
   "source": [
    "x = 1:.1:10\n",
    "y = sin.(x)\n",
    "z = cos.(x)\n",
    "\n",
    "plot(x, y, label=\"sin(x)\")\n",
    "plot!(x, z, label=\"cos(x)\") # Hold on the previous plot"
   ]
  },
  {
   "cell_type": "code",
   "execution_count": 216,
   "metadata": {},
   "outputs": [
    {
     "data": {
      "text/latex": [
       "\\textbf{Scatter Plot}\n",
       "\n"
      ],
      "text/markdown": [
       "**Scatter Plot**\n"
      ],
      "text/plain": [
       "  \u001b[1mScatter Plot\u001b[22m"
      ]
     },
     "execution_count": 216,
     "metadata": {},
     "output_type": "execute_result"
    }
   ],
   "source": [
    "md\"**Scatter Plot**\""
   ]
  },
  {
   "cell_type": "code",
   "execution_count": 217,
   "metadata": {},
   "outputs": [
    {
     "data": {
      "image/png": "[encoded data removed]",
      "image/svg+xml": [
       "<?xml version=\"1.0\" encoding=\"utf-8\"?>\n",
       "<svg xmlns=\"http://www.w3.org/2000/svg\" xmlns:xlink=\"http://www.w3.org/1999/xlink\" width=\"600\" height=\"400\" viewBox=\"0 0 2400 1600\">\n",
       "<defs>\n",
       "  <clipPath id=\"clip800\">\n",
       "    <rect x=\"0\" y=\"0\" width=\"2400\" height=\"1600\"/>\n",
       "  </clipPath>\n",
       "</defs>\n",
       "<path clip-path=\"url(#clip800)\" d=\"M0 1600 L2400 1600 L2400 0 L0 0  Z\" fill=\"#282a36\" fill-rule=\"evenodd\" fill-opacity=\"1\"/>\n",
       "<defs>\n",
       "  <clipPath id=\"clip801\">\n",
       "    <rect x=\"480\" y=\"0\" width=\"1681\" height=\"1600\"/>\n",
       "  </clipPath>\n",
       "</defs>\n",
       "<path clip-path=\"url(#clip800)\" d=\"M193.936 1486.45 L2352.76 1486.45 L2352.76 47.2441 L193.936 47.2441  Z\" fill=\"#30343b\" fill-rule=\"evenodd\" fill-opacity=\"1\"/>\n",
       "<defs>\n",
       "  <clipPath id=\"clip802\">\n",
       "    <rect x=\"193\" y=\"47\" width=\"2160\" height=\"1440\"/>\n",
       "  </clipPath>\n",
       "</defs>\n",
       "<polyline clip-path=\"url(#clip802)\" style=\"stroke:#f8f8f2; stroke-linecap:round; stroke-linejoin:round; stroke-width:2; stroke-opacity:0.1; fill:none\" points=\"481.326,1486.45 481.326,47.2441 \"/>\n",
       "<polyline clip-path=\"url(#clip802)\" style=\"stroke:#f8f8f2; stroke-linecap:round; stroke-linejoin:round; stroke-width:2; stroke-opacity:0.1; fill:none\" points=\"933.909,1486.45 933.909,47.2441 \"/>\n",
       "<polyline clip-path=\"url(#clip802)\" style=\"stroke:#f8f8f2; stroke-linecap:round; stroke-linejoin:round; stroke-width:2; stroke-opacity:0.1; fill:none\" points=\"1386.49,1486.45 1386.49,47.2441 \"/>\n",
       "<polyline clip-path=\"url(#clip802)\" style=\"stroke:#f8f8f2; stroke-linecap:round; stroke-linejoin:round; stroke-width:2; stroke-opacity:0.1; fill:none\" points=\"1839.07,1486.45 1839.07,47.2441 \"/>\n",
       "<polyline clip-path=\"url(#clip802)\" style=\"stroke:#f8f8f2; stroke-linecap:round; stroke-linejoin:round; stroke-width:2; stroke-opacity:0.1; fill:none\" points=\"2291.66,1486.45 2291.66,47.2441 \"/>\n",
       "<polyline clip-path=\"url(#clip802)\" style=\"stroke:#f8f8f2; stroke-linecap:round; stroke-linejoin:round; stroke-width:2; stroke-opacity:0.1; fill:none\" points=\"193.936,1447.88 2352.76,1447.88 \"/>\n",
       "<polyline clip-path=\"url(#clip802)\" style=\"stroke:#f8f8f2; stroke-linecap:round; stroke-linejoin:round; stroke-width:2; stroke-opacity:0.1; fill:none\" points=\"193.936,1105.97 2352.76,1105.97 \"/>\n",
       "<polyline clip-path=\"url(#clip802)\" style=\"stroke:#f8f8f2; stroke-linecap:round; stroke-linejoin:round; stroke-width:2; stroke-opacity:0.1; fill:none\" points=\"193.936,764.064 2352.76,764.064 \"/>\n",
       "<polyline clip-path=\"url(#clip802)\" style=\"stroke:#f8f8f2; stroke-linecap:round; stroke-linejoin:round; stroke-width:2; stroke-opacity:0.1; fill:none\" points=\"193.936,422.155 2352.76,422.155 \"/>\n",
       "<polyline clip-path=\"url(#clip802)\" style=\"stroke:#f8f8f2; stroke-linecap:round; stroke-linejoin:round; stroke-width:2; stroke-opacity:0.1; fill:none\" points=\"193.936,80.2461 2352.76,80.2461 \"/>\n",
       "<polyline clip-path=\"url(#clip800)\" style=\"stroke:#f8f8f2; stroke-linecap:round; stroke-linejoin:round; stroke-width:4; stroke-opacity:1; fill:none\" points=\"193.936,1486.45 2352.76,1486.45 \"/>\n",
       "<polyline clip-path=\"url(#clip800)\" style=\"stroke:#f8f8f2; stroke-linecap:round; stroke-linejoin:round; stroke-width:4; stroke-opacity:1; fill:none\" points=\"481.326,1486.45 481.326,1467.55 \"/>\n",
       "<polyline clip-path=\"url(#clip800)\" style=\"stroke:#f8f8f2; stroke-linecap:round; stroke-linejoin:round; stroke-width:4; stroke-opacity:1; fill:none\" points=\"933.909,1486.45 933.909,1467.55 \"/>\n",
       "<polyline clip-path=\"url(#clip800)\" style=\"stroke:#f8f8f2; stroke-linecap:round; stroke-linejoin:round; stroke-width:4; stroke-opacity:1; fill:none\" points=\"1386.49,1486.45 1386.49,1467.55 \"/>\n",
       "<polyline clip-path=\"url(#clip800)\" style=\"stroke:#f8f8f2; stroke-linecap:round; stroke-linejoin:round; stroke-width:4; stroke-opacity:1; fill:none\" points=\"1839.07,1486.45 1839.07,1467.55 \"/>\n",
       "<polyline clip-path=\"url(#clip800)\" style=\"stroke:#f8f8f2; stroke-linecap:round; stroke-linejoin:round; stroke-width:4; stroke-opacity:1; fill:none\" points=\"2291.66,1486.45 2291.66,1467.55 \"/>\n",
       "<path clip-path=\"url(#clip800)\" d=\"M475.979 1544.91 L492.298 1544.91 L492.298 1548.85 L470.354 1548.85 L470.354 1544.91 Q473.016 1542.16 477.599 1537.53 Q482.206 1532.88 483.386 1531.53 Q485.632 1529.01 486.511 1527.27 Q487.414 1525.51 487.414 1523.82 Q487.414 1521.07 485.47 1519.33 Q483.548 1517.6 480.446 1517.6 Q478.247 1517.6 475.794 1518.36 Q473.363 1519.13 470.585 1520.68 L470.585 1515.95 Q473.409 1514.82 475.863 1514.24 Q478.317 1513.66 480.354 1513.66 Q485.724 1513.66 488.919 1516.35 Q492.113 1519.03 492.113 1523.52 Q492.113 1525.65 491.303 1527.57 Q490.516 1529.47 488.409 1532.07 Q487.831 1532.74 484.729 1535.95 Q481.627 1539.15 475.979 1544.91 Z\" fill=\"#f8f8f2\" fill-rule=\"nonzero\" fill-opacity=\"1\" /><path clip-path=\"url(#clip800)\" d=\"M936.918 1518.36 L925.113 1536.81 L936.918 1536.81 L936.918 1518.36 M935.691 1514.29 L941.571 1514.29 L941.571 1536.81 L946.501 1536.81 L946.501 1540.7 L941.571 1540.7 L941.571 1548.85 L936.918 1548.85 L936.918 1540.7 L921.316 1540.7 L921.316 1536.19 L935.691 1514.29 Z\" fill=\"#f8f8f2\" fill-rule=\"nonzero\" fill-opacity=\"1\" /><path clip-path=\"url(#clip800)\" d=\"M1386.9 1529.7 Q1383.75 1529.7 1381.9 1531.86 Q1380.07 1534.01 1380.07 1537.76 Q1380.07 1541.49 1381.9 1543.66 Q1383.75 1545.82 1386.9 1545.82 Q1390.04 1545.82 1391.87 1543.66 Q1393.73 1541.49 1393.73 1537.76 Q1393.73 1534.01 1391.87 1531.86 Q1390.04 1529.7 1386.9 1529.7 M1396.18 1515.05 L1396.18 1519.31 Q1394.42 1518.48 1392.61 1518.04 Q1390.83 1517.6 1389.07 1517.6 Q1384.44 1517.6 1381.99 1520.72 Q1379.56 1523.85 1379.21 1530.17 Q1380.58 1528.15 1382.64 1527.09 Q1384.7 1526 1387.17 1526 Q1392.38 1526 1395.39 1529.17 Q1398.42 1532.32 1398.42 1537.76 Q1398.42 1543.08 1395.28 1546.3 Q1392.13 1549.52 1386.9 1549.52 Q1380.9 1549.52 1377.73 1544.94 Q1374.56 1540.33 1374.56 1531.6 Q1374.56 1523.41 1378.45 1518.55 Q1382.34 1513.66 1388.89 1513.66 Q1390.65 1513.66 1392.43 1514.01 Q1394.23 1514.36 1396.18 1515.05 Z\" fill=\"#f8f8f2\" fill-rule=\"nonzero\" fill-opacity=\"1\" /><path clip-path=\"url(#clip800)\" d=\"M1839.07 1532.44 Q1835.74 1532.44 1833.82 1534.22 Q1831.92 1536 1831.92 1539.13 Q1831.92 1542.25 1833.82 1544.03 Q1835.74 1545.82 1839.07 1545.82 Q1842.41 1545.82 1844.33 1544.03 Q1846.25 1542.23 1846.25 1539.13 Q1846.25 1536 1844.33 1534.22 Q1842.43 1532.44 1839.07 1532.44 M1834.4 1530.45 Q1831.39 1529.7 1829.7 1527.64 Q1828.03 1525.58 1828.03 1522.62 Q1828.03 1518.48 1830.97 1516.07 Q1833.94 1513.66 1839.07 1513.66 Q1844.24 1513.66 1847.18 1516.07 Q1850.12 1518.48 1850.12 1522.62 Q1850.12 1525.58 1848.43 1527.64 Q1846.76 1529.7 1843.77 1530.45 Q1847.15 1531.23 1849.03 1533.52 Q1850.93 1535.82 1850.93 1539.13 Q1850.93 1544.15 1847.85 1546.83 Q1844.79 1549.52 1839.07 1549.52 Q1833.36 1549.52 1830.28 1546.83 Q1827.22 1544.15 1827.22 1539.13 Q1827.22 1535.82 1829.12 1533.52 Q1831.02 1531.23 1834.4 1530.45 M1832.69 1523.06 Q1832.69 1525.75 1834.35 1527.25 Q1836.04 1528.76 1839.07 1528.76 Q1842.08 1528.76 1843.77 1527.25 Q1845.49 1525.75 1845.49 1523.06 Q1845.49 1520.38 1843.77 1518.87 Q1842.08 1517.37 1839.07 1517.37 Q1836.04 1517.37 1834.35 1518.87 Q1832.69 1520.38 1832.69 1523.06 Z\" fill=\"#f8f8f2\" fill-rule=\"nonzero\" fill-opacity=\"1\" /><path clip-path=\"url(#clip800)\" d=\"M2266.34 1544.91 L2273.98 1544.91 L2273.98 1518.55 L2265.67 1520.21 L2265.67 1515.95 L2273.94 1514.29 L2278.61 1514.29 L2278.61 1544.91 L2286.25 1544.91 L2286.25 1548.85 L2266.34 1548.85 L2266.34 1544.91 Z\" fill=\"#f8f8f2\" fill-rule=\"nonzero\" fill-opacity=\"1\" /><path clip-path=\"url(#clip800)\" d=\"M2305.7 1517.37 Q2302.09 1517.37 2300.26 1520.93 Q2298.45 1524.47 2298.45 1531.6 Q2298.45 1538.71 2300.26 1542.27 Q2302.09 1545.82 2305.7 1545.82 Q2309.33 1545.82 2311.14 1542.27 Q2312.96 1538.71 2312.96 1531.6 Q2312.96 1524.47 2311.14 1520.93 Q2309.33 1517.37 2305.7 1517.37 M2305.7 1513.66 Q2311.51 1513.66 2314.56 1518.27 Q2317.64 1522.85 2317.64 1531.6 Q2317.64 1540.33 2314.56 1544.94 Q2311.51 1549.52 2305.7 1549.52 Q2299.89 1549.52 2296.81 1544.94 Q2293.75 1540.33 2293.75 1531.6 Q2293.75 1522.85 2296.81 1518.27 Q2299.89 1513.66 2305.7 1513.66 Z\" fill=\"#f8f8f2\" fill-rule=\"nonzero\" fill-opacity=\"1\" /><polyline clip-path=\"url(#clip800)\" style=\"stroke:#f8f8f2; stroke-linecap:round; stroke-linejoin:round; stroke-width:4; stroke-opacity:1; fill:none\" points=\"193.936,1486.45 193.936,47.2441 \"/>\n",
       "<polyline clip-path=\"url(#clip800)\" style=\"stroke:#f8f8f2; stroke-linecap:round; stroke-linejoin:round; stroke-width:4; stroke-opacity:1; fill:none\" points=\"193.936,1447.88 212.834,1447.88 \"/>\n",
       "<polyline clip-path=\"url(#clip800)\" style=\"stroke:#f8f8f2; stroke-linecap:round; stroke-linejoin:round; stroke-width:4; stroke-opacity:1; fill:none\" points=\"193.936,1105.97 212.834,1105.97 \"/>\n",
       "<polyline clip-path=\"url(#clip800)\" style=\"stroke:#f8f8f2; stroke-linecap:round; stroke-linejoin:round; stroke-width:4; stroke-opacity:1; fill:none\" points=\"193.936,764.064 212.834,764.064 \"/>\n",
       "<polyline clip-path=\"url(#clip800)\" style=\"stroke:#f8f8f2; stroke-linecap:round; stroke-linejoin:round; stroke-width:4; stroke-opacity:1; fill:none\" points=\"193.936,422.155 212.834,422.155 \"/>\n",
       "<polyline clip-path=\"url(#clip800)\" style=\"stroke:#f8f8f2; stroke-linecap:round; stroke-linejoin:round; stroke-width:4; stroke-opacity:1; fill:none\" points=\"193.936,80.2461 212.834,80.2461 \"/>\n",
       "<path clip-path=\"url(#clip800)\" d=\"M50.9921 1448.33 L80.6679 1448.33 L80.6679 1452.27 L50.9921 1452.27 L50.9921 1448.33 Z\" fill=\"#f8f8f2\" fill-rule=\"nonzero\" fill-opacity=\"1\" /><path clip-path=\"url(#clip800)\" d=\"M91.5706 1461.23 L99.2095 1461.23 L99.2095 1434.86 L90.8993 1436.53 L90.8993 1432.27 L99.1632 1430.6 L103.839 1430.6 L103.839 1461.23 L111.478 1461.23 L111.478 1465.16 L91.5706 1465.16 L91.5706 1461.23 Z\" fill=\"#f8f8f2\" fill-rule=\"nonzero\" fill-opacity=\"1\" /><path clip-path=\"url(#clip800)\" d=\"M120.922 1459.28 L125.807 1459.28 L125.807 1465.16 L120.922 1465.16 L120.922 1459.28 Z\" fill=\"#f8f8f2\" fill-rule=\"nonzero\" fill-opacity=\"1\" /><path clip-path=\"url(#clip800)\" d=\"M145.992 1433.68 Q142.381 1433.68 140.552 1437.24 Q138.746 1440.79 138.746 1447.92 Q138.746 1455.02 140.552 1458.59 Q142.381 1462.13 145.992 1462.13 Q149.626 1462.13 151.431 1458.59 Q153.26 1455.02 153.26 1447.92 Q153.26 1440.79 151.431 1437.24 Q149.626 1433.68 145.992 1433.68 M145.992 1429.98 Q151.802 1429.98 154.857 1434.58 Q157.936 1439.17 157.936 1447.92 Q157.936 1456.64 154.857 1461.25 Q151.802 1465.83 145.992 1465.83 Q140.181 1465.83 137.103 1461.25 Q134.047 1456.64 134.047 1447.92 Q134.047 1439.17 137.103 1434.58 Q140.181 1429.98 145.992 1429.98 Z\" fill=\"#f8f8f2\" fill-rule=\"nonzero\" fill-opacity=\"1\" /><path clip-path=\"url(#clip800)\" d=\"M51.9875 1106.42 L81.6633 1106.42 L81.6633 1110.36 L51.9875 1110.36 L51.9875 1106.42 Z\" fill=\"#f8f8f2\" fill-rule=\"nonzero\" fill-opacity=\"1\" /><path clip-path=\"url(#clip800)\" d=\"M101.756 1091.77 Q98.1447 1091.77 96.316 1095.34 Q94.5104 1098.88 94.5104 1106.01 Q94.5104 1113.11 96.316 1116.68 Q98.1447 1120.22 101.756 1120.22 Q105.39 1120.22 107.196 1116.68 Q109.024 1113.11 109.024 1106.01 Q109.024 1098.88 107.196 1095.34 Q105.39 1091.77 101.756 1091.77 M101.756 1088.07 Q107.566 1088.07 110.621 1092.67 Q113.7 1097.26 113.7 1106.01 Q113.7 1114.73 110.621 1119.34 Q107.566 1123.92 101.756 1123.92 Q95.9456 1123.92 92.8669 1119.34 Q89.8114 1114.73 89.8114 1106.01 Q89.8114 1097.26 92.8669 1092.67 Q95.9456 1088.07 101.756 1088.07 Z\" fill=\"#f8f8f2\" fill-rule=\"nonzero\" fill-opacity=\"1\" /><path clip-path=\"url(#clip800)\" d=\"M121.918 1117.37 L126.802 1117.37 L126.802 1123.25 L121.918 1123.25 L121.918 1117.37 Z\" fill=\"#f8f8f2\" fill-rule=\"nonzero\" fill-opacity=\"1\" /><path clip-path=\"url(#clip800)\" d=\"M137.033 1088.69 L155.39 1088.69 L155.39 1092.63 L141.316 1092.63 L141.316 1101.1 Q142.334 1100.75 143.353 1100.59 Q144.371 1100.41 145.39 1100.41 Q151.177 1100.41 154.556 1103.58 Q157.936 1106.75 157.936 1112.16 Q157.936 1117.74 154.464 1120.84 Q150.992 1123.92 144.672 1123.92 Q142.496 1123.92 140.228 1123.55 Q137.982 1123.18 135.575 1122.44 L135.575 1117.74 Q137.658 1118.88 139.881 1119.43 Q142.103 1119.99 144.58 1119.99 Q148.584 1119.99 150.922 1117.88 Q153.26 1115.78 153.26 1112.16 Q153.26 1108.55 150.922 1106.45 Q148.584 1104.34 144.58 1104.34 Q142.705 1104.34 140.83 1104.76 Q138.978 1105.17 137.033 1106.05 L137.033 1088.69 Z\" fill=\"#f8f8f2\" fill-rule=\"nonzero\" fill-opacity=\"1\" /><path clip-path=\"url(#clip800)\" d=\"M100.76 749.862 Q97.1493 749.862 95.3206 753.427 Q93.515 756.969 93.515 764.098 Q93.515 771.205 95.3206 774.77 Q97.1493 778.311 100.76 778.311 Q104.395 778.311 106.2 774.77 Q108.029 771.205 108.029 764.098 Q108.029 756.969 106.2 753.427 Q104.395 749.862 100.76 749.862 M100.76 746.159 Q106.571 746.159 109.626 750.765 Q112.705 755.348 112.705 764.098 Q112.705 772.825 109.626 777.432 Q106.571 782.015 100.76 782.015 Q94.9502 782.015 91.8715 777.432 Q88.816 772.825 88.816 764.098 Q88.816 755.348 91.8715 750.765 Q94.9502 746.159 100.76 746.159 Z\" fill=\"#f8f8f2\" fill-rule=\"nonzero\" fill-opacity=\"1\" /><path clip-path=\"url(#clip800)\" d=\"M120.922 775.464 L125.807 775.464 L125.807 781.344 L120.922 781.344 L120.922 775.464 Z\" fill=\"#f8f8f2\" fill-rule=\"nonzero\" fill-opacity=\"1\" /><path clip-path=\"url(#clip800)\" d=\"M145.992 749.862 Q142.381 749.862 140.552 753.427 Q138.746 756.969 138.746 764.098 Q138.746 771.205 140.552 774.77 Q142.381 778.311 145.992 778.311 Q149.626 778.311 151.431 774.77 Q153.26 771.205 153.26 764.098 Q153.26 756.969 151.431 753.427 Q149.626 749.862 145.992 749.862 M145.992 746.159 Q151.802 746.159 154.857 750.765 Q157.936 755.348 157.936 764.098 Q157.936 772.825 154.857 777.432 Q151.802 782.015 145.992 782.015 Q140.181 782.015 137.103 777.432 Q134.047 772.825 134.047 764.098 Q134.047 755.348 137.103 750.765 Q140.181 746.159 145.992 746.159 Z\" fill=\"#f8f8f2\" fill-rule=\"nonzero\" fill-opacity=\"1\" /><path clip-path=\"url(#clip800)\" d=\"M101.756 407.954 Q98.1447 407.954 96.316 411.518 Q94.5104 415.06 94.5104 422.19 Q94.5104 429.296 96.316 432.861 Q98.1447 436.402 101.756 436.402 Q105.39 436.402 107.196 432.861 Q109.024 429.296 109.024 422.19 Q109.024 415.06 107.196 411.518 Q105.39 407.954 101.756 407.954 M101.756 404.25 Q107.566 404.25 110.621 408.856 Q113.7 413.44 113.7 422.19 Q113.7 430.916 110.621 435.523 Q107.566 440.106 101.756 440.106 Q95.9456 440.106 92.8669 435.523 Q89.8114 430.916 89.8114 422.19 Q89.8114 413.44 92.8669 408.856 Q95.9456 404.25 101.756 404.25 Z\" fill=\"#f8f8f2\" fill-rule=\"nonzero\" fill-opacity=\"1\" /><path clip-path=\"url(#clip800)\" d=\"M121.918 433.555 L126.802 433.555 L126.802 439.435 L121.918 439.435 L121.918 433.555 Z\" fill=\"#f8f8f2\" fill-rule=\"nonzero\" fill-opacity=\"1\" /><path clip-path=\"url(#clip800)\" d=\"M137.033 404.875 L155.39 404.875 L155.39 408.81 L141.316 408.81 L141.316 417.282 Q142.334 416.935 143.353 416.773 Q144.371 416.588 145.39 416.588 Q151.177 416.588 154.556 419.759 Q157.936 422.93 157.936 428.347 Q157.936 433.926 154.464 437.027 Q150.992 440.106 144.672 440.106 Q142.496 440.106 140.228 439.736 Q137.982 439.365 135.575 438.625 L135.575 433.926 Q137.658 435.06 139.881 435.615 Q142.103 436.171 144.58 436.171 Q148.584 436.171 150.922 434.065 Q153.26 431.958 153.26 428.347 Q153.26 424.736 150.922 422.629 Q148.584 420.523 144.58 420.523 Q142.705 420.523 140.83 420.94 Q138.978 421.356 137.033 422.236 L137.033 404.875 Z\" fill=\"#f8f8f2\" fill-rule=\"nonzero\" fill-opacity=\"1\" /><path clip-path=\"url(#clip800)\" d=\"M91.5706 93.591 L99.2095 93.591 L99.2095 67.2254 L90.8993 68.892 L90.8993 64.6328 L99.1632 62.9661 L103.839 62.9661 L103.839 93.591 L111.478 93.591 L111.478 97.5261 L91.5706 97.5261 L91.5706 93.591 Z\" fill=\"#f8f8f2\" fill-rule=\"nonzero\" fill-opacity=\"1\" /><path clip-path=\"url(#clip800)\" d=\"M120.922 91.6465 L125.807 91.6465 L125.807 97.5261 L120.922 97.5261 L120.922 91.6465 Z\" fill=\"#f8f8f2\" fill-rule=\"nonzero\" fill-opacity=\"1\" /><path clip-path=\"url(#clip800)\" d=\"M145.992 66.0448 Q142.381 66.0448 140.552 69.6096 Q138.746 73.1512 138.746 80.2808 Q138.746 87.3873 140.552 90.9521 Q142.381 94.4937 145.992 94.4937 Q149.626 94.4937 151.431 90.9521 Q153.26 87.3873 153.26 80.2808 Q153.26 73.1512 151.431 69.6096 Q149.626 66.0448 145.992 66.0448 M145.992 62.3411 Q151.802 62.3411 154.857 66.9476 Q157.936 71.5309 157.936 80.2808 Q157.936 89.0076 154.857 93.6141 Q151.802 98.1974 145.992 98.1974 Q140.181 98.1974 137.103 93.6141 Q134.047 89.0076 134.047 80.2808 Q134.047 71.5309 137.103 66.9476 Q140.181 62.3411 145.992 62.3411 Z\" fill=\"#f8f8f2\" fill-rule=\"nonzero\" fill-opacity=\"1\" /><circle clip-path=\"url(#clip802)\" cx=\"255.035\" cy=\"394.595\" r=\"14.4\" fill=\"#8be9fd\" fill-rule=\"evenodd\" fill-opacity=\"1\" stroke=\"#f8f8f2\" stroke-opacity=\"1\" stroke-width=\"3.2\"/>\n",
       "<circle clip-path=\"url(#clip802)\" cx=\"481.326\" cy=\"863.559\" r=\"14.4\" fill=\"#8be9fd\" fill-rule=\"evenodd\" fill-opacity=\"1\" stroke=\"#f8f8f2\" stroke-opacity=\"1\" stroke-width=\"3.2\"/>\n",
       "<circle clip-path=\"url(#clip802)\" cx=\"707.617\" cy=\"963.833\" r=\"14.4\" fill=\"#8be9fd\" fill-rule=\"evenodd\" fill-opacity=\"1\" stroke=\"#f8f8f2\" stroke-opacity=\"1\" stroke-width=\"3.2\"/>\n",
       "<circle clip-path=\"url(#clip802)\" cx=\"933.909\" cy=\"496.105\" r=\"14.4\" fill=\"#8be9fd\" fill-rule=\"evenodd\" fill-opacity=\"1\" stroke=\"#f8f8f2\" stroke-opacity=\"1\" stroke-width=\"3.2\"/>\n",
       "<circle clip-path=\"url(#clip802)\" cx=\"1160.2\" cy=\"225.411\" r=\"14.4\" fill=\"#8be9fd\" fill-rule=\"evenodd\" fill-opacity=\"1\" stroke=\"#f8f8f2\" stroke-opacity=\"1\" stroke-width=\"3.2\"/>\n",
       "<circle clip-path=\"url(#clip802)\" cx=\"1386.49\" cy=\"1255.03\" r=\"14.4\" fill=\"#8be9fd\" fill-rule=\"evenodd\" fill-opacity=\"1\" stroke=\"#f8f8f2\" stroke-opacity=\"1\" stroke-width=\"3.2\"/>\n",
       "<circle clip-path=\"url(#clip802)\" cx=\"1612.78\" cy=\"1341.09\" r=\"14.4\" fill=\"#8be9fd\" fill-rule=\"evenodd\" fill-opacity=\"1\" stroke=\"#f8f8f2\" stroke-opacity=\"1\" stroke-width=\"3.2\"/>\n",
       "<circle clip-path=\"url(#clip802)\" cx=\"1839.07\" cy=\"1445.72\" r=\"14.4\" fill=\"#8be9fd\" fill-rule=\"evenodd\" fill-opacity=\"1\" stroke=\"#f8f8f2\" stroke-opacity=\"1\" stroke-width=\"3.2\"/>\n",
       "<circle clip-path=\"url(#clip802)\" cx=\"2065.37\" cy=\"87.9763\" r=\"14.4\" fill=\"#8be9fd\" fill-rule=\"evenodd\" fill-opacity=\"1\" stroke=\"#f8f8f2\" stroke-opacity=\"1\" stroke-width=\"3.2\"/>\n",
       "<circle clip-path=\"url(#clip802)\" cx=\"2291.66\" cy=\"379.499\" r=\"14.4\" fill=\"#8be9fd\" fill-rule=\"evenodd\" fill-opacity=\"1\" stroke=\"#f8f8f2\" stroke-opacity=\"1\" stroke-width=\"3.2\"/>\n",
       "</svg>\n"
      ],
      "text/html": [
       "<?xml version=\"1.0\" encoding=\"utf-8\"?>\n",
       "<svg xmlns=\"http://www.w3.org/2000/svg\" xmlns:xlink=\"http://www.w3.org/1999/xlink\" width=\"600\" height=\"400\" viewBox=\"0 0 2400 1600\">\n",
       "<defs>\n",
       "  <clipPath id=\"clip850\">\n",
       "    <rect x=\"0\" y=\"0\" width=\"2400\" height=\"1600\"/>\n",
       "  </clipPath>\n",
       "</defs>\n",
       "<path clip-path=\"url(#clip850)\" d=\"M0 1600 L2400 1600 L2400 0 L0 0  Z\" fill=\"#282a36\" fill-rule=\"evenodd\" fill-opacity=\"1\"/>\n",
       "<defs>\n",
       "  <clipPath id=\"clip851\">\n",
       "    <rect x=\"480\" y=\"0\" width=\"1681\" height=\"1600\"/>\n",
       "  </clipPath>\n",
       "</defs>\n",
       "<path clip-path=\"url(#clip850)\" d=\"M193.936 1486.45 L2352.76 1486.45 L2352.76 47.2441 L193.936 47.2441  Z\" fill=\"#30343b\" fill-rule=\"evenodd\" fill-opacity=\"1\"/>\n",
       "<defs>\n",
       "  <clipPath id=\"clip852\">\n",
       "    <rect x=\"193\" y=\"47\" width=\"2160\" height=\"1440\"/>\n",
       "  </clipPath>\n",
       "</defs>\n",
       "<polyline clip-path=\"url(#clip852)\" style=\"stroke:#f8f8f2; stroke-linecap:round; stroke-linejoin:round; stroke-width:2; stroke-opacity:0.1; fill:none\" points=\"481.326,1486.45 481.326,47.2441 \"/>\n",
       "<polyline clip-path=\"url(#clip852)\" style=\"stroke:#f8f8f2; stroke-linecap:round; stroke-linejoin:round; stroke-width:2; stroke-opacity:0.1; fill:none\" points=\"933.909,1486.45 933.909,47.2441 \"/>\n",
       "<polyline clip-path=\"url(#clip852)\" style=\"stroke:#f8f8f2; stroke-linecap:round; stroke-linejoin:round; stroke-width:2; stroke-opacity:0.1; fill:none\" points=\"1386.49,1486.45 1386.49,47.2441 \"/>\n",
       "<polyline clip-path=\"url(#clip852)\" style=\"stroke:#f8f8f2; stroke-linecap:round; stroke-linejoin:round; stroke-width:2; stroke-opacity:0.1; fill:none\" points=\"1839.07,1486.45 1839.07,47.2441 \"/>\n",
       "<polyline clip-path=\"url(#clip852)\" style=\"stroke:#f8f8f2; stroke-linecap:round; stroke-linejoin:round; stroke-width:2; stroke-opacity:0.1; fill:none\" points=\"2291.66,1486.45 2291.66,47.2441 \"/>\n",
       "<polyline clip-path=\"url(#clip852)\" style=\"stroke:#f8f8f2; stroke-linecap:round; stroke-linejoin:round; stroke-width:2; stroke-opacity:0.1; fill:none\" points=\"193.936,1447.88 2352.76,1447.88 \"/>\n",
       "<polyline clip-path=\"url(#clip852)\" style=\"stroke:#f8f8f2; stroke-linecap:round; stroke-linejoin:round; stroke-width:2; stroke-opacity:0.1; fill:none\" points=\"193.936,1105.97 2352.76,1105.97 \"/>\n",
       "<polyline clip-path=\"url(#clip852)\" style=\"stroke:#f8f8f2; stroke-linecap:round; stroke-linejoin:round; stroke-width:2; stroke-opacity:0.1; fill:none\" points=\"193.936,764.064 2352.76,764.064 \"/>\n",
       "<polyline clip-path=\"url(#clip852)\" style=\"stroke:#f8f8f2; stroke-linecap:round; stroke-linejoin:round; stroke-width:2; stroke-opacity:0.1; fill:none\" points=\"193.936,422.155 2352.76,422.155 \"/>\n",
       "<polyline clip-path=\"url(#clip852)\" style=\"stroke:#f8f8f2; stroke-linecap:round; stroke-linejoin:round; stroke-width:2; stroke-opacity:0.1; fill:none\" points=\"193.936,80.2461 2352.76,80.2461 \"/>\n",
       "<polyline clip-path=\"url(#clip850)\" style=\"stroke:#f8f8f2; stroke-linecap:round; stroke-linejoin:round; stroke-width:4; stroke-opacity:1; fill:none\" points=\"193.936,1486.45 2352.76,1486.45 \"/>\n",
       "<polyline clip-path=\"url(#clip850)\" style=\"stroke:#f8f8f2; stroke-linecap:round; stroke-linejoin:round; stroke-width:4; stroke-opacity:1; fill:none\" points=\"481.326,1486.45 481.326,1467.55 \"/>\n",
       "<polyline clip-path=\"url(#clip850)\" style=\"stroke:#f8f8f2; stroke-linecap:round; stroke-linejoin:round; stroke-width:4; stroke-opacity:1; fill:none\" points=\"933.909,1486.45 933.909,1467.55 \"/>\n",
       "<polyline clip-path=\"url(#clip850)\" style=\"stroke:#f8f8f2; stroke-linecap:round; stroke-linejoin:round; stroke-width:4; stroke-opacity:1; fill:none\" points=\"1386.49,1486.45 1386.49,1467.55 \"/>\n",
       "<polyline clip-path=\"url(#clip850)\" style=\"stroke:#f8f8f2; stroke-linecap:round; stroke-linejoin:round; stroke-width:4; stroke-opacity:1; fill:none\" points=\"1839.07,1486.45 1839.07,1467.55 \"/>\n",
       "<polyline clip-path=\"url(#clip850)\" style=\"stroke:#f8f8f2; stroke-linecap:round; stroke-linejoin:round; stroke-width:4; stroke-opacity:1; fill:none\" points=\"2291.66,1486.45 2291.66,1467.55 \"/>\n",
       "<path clip-path=\"url(#clip850)\" d=\"M475.979 1544.91 L492.298 1544.91 L492.298 1548.85 L470.354 1548.85 L470.354 1544.91 Q473.016 1542.16 477.599 1537.53 Q482.206 1532.88 483.386 1531.53 Q485.632 1529.01 486.511 1527.27 Q487.414 1525.51 487.414 1523.82 Q487.414 1521.07 485.47 1519.33 Q483.548 1517.6 480.446 1517.6 Q478.247 1517.6 475.794 1518.36 Q473.363 1519.13 470.585 1520.68 L470.585 1515.95 Q473.409 1514.82 475.863 1514.24 Q478.317 1513.66 480.354 1513.66 Q485.724 1513.66 488.919 1516.35 Q492.113 1519.03 492.113 1523.52 Q492.113 1525.65 491.303 1527.57 Q490.516 1529.47 488.409 1532.07 Q487.831 1532.74 484.729 1535.95 Q481.627 1539.15 475.979 1544.91 Z\" fill=\"#f8f8f2\" fill-rule=\"nonzero\" fill-opacity=\"1\" /><path clip-path=\"url(#clip850)\" d=\"M936.918 1518.36 L925.113 1536.81 L936.918 1536.81 L936.918 1518.36 M935.691 1514.29 L941.571 1514.29 L941.571 1536.81 L946.501 1536.81 L946.501 1540.7 L941.571 1540.7 L941.571 1548.85 L936.918 1548.85 L936.918 1540.7 L921.316 1540.7 L921.316 1536.19 L935.691 1514.29 Z\" fill=\"#f8f8f2\" fill-rule=\"nonzero\" fill-opacity=\"1\" /><path clip-path=\"url(#clip850)\" d=\"M1386.9 1529.7 Q1383.75 1529.7 1381.9 1531.86 Q1380.07 1534.01 1380.07 1537.76 Q1380.07 1541.49 1381.9 1543.66 Q1383.75 1545.82 1386.9 1545.82 Q1390.04 1545.82 1391.87 1543.66 Q1393.73 1541.49 1393.73 1537.76 Q1393.73 1534.01 1391.87 1531.86 Q1390.04 1529.7 1386.9 1529.7 M1396.18 1515.05 L1396.18 1519.31 Q1394.42 1518.48 1392.61 1518.04 Q1390.83 1517.6 1389.07 1517.6 Q1384.44 1517.6 1381.99 1520.72 Q1379.56 1523.85 1379.21 1530.17 Q1380.58 1528.15 1382.64 1527.09 Q1384.7 1526 1387.17 1526 Q1392.38 1526 1395.39 1529.17 Q1398.42 1532.32 1398.42 1537.76 Q1398.42 1543.08 1395.28 1546.3 Q1392.13 1549.52 1386.9 1549.52 Q1380.9 1549.52 1377.73 1544.94 Q1374.56 1540.33 1374.56 1531.6 Q1374.56 1523.41 1378.45 1518.55 Q1382.34 1513.66 1388.89 1513.66 Q1390.65 1513.66 1392.43 1514.01 Q1394.23 1514.36 1396.18 1515.05 Z\" fill=\"#f8f8f2\" fill-rule=\"nonzero\" fill-opacity=\"1\" /><path clip-path=\"url(#clip850)\" d=\"M1839.07 1532.44 Q1835.74 1532.44 1833.82 1534.22 Q1831.92 1536 1831.92 1539.13 Q1831.92 1542.25 1833.82 1544.03 Q1835.74 1545.82 1839.07 1545.82 Q1842.41 1545.82 1844.33 1544.03 Q1846.25 1542.23 1846.25 1539.13 Q1846.25 1536 1844.33 1534.22 Q1842.43 1532.44 1839.07 1532.44 M1834.4 1530.45 Q1831.39 1529.7 1829.7 1527.64 Q1828.03 1525.58 1828.03 1522.62 Q1828.03 1518.48 1830.97 1516.07 Q1833.94 1513.66 1839.07 1513.66 Q1844.24 1513.66 1847.18 1516.07 Q1850.12 1518.48 1850.12 1522.62 Q1850.12 1525.58 1848.43 1527.64 Q1846.76 1529.7 1843.77 1530.45 Q1847.15 1531.23 1849.03 1533.52 Q1850.93 1535.82 1850.93 1539.13 Q1850.93 1544.15 1847.85 1546.83 Q1844.79 1549.52 1839.07 1549.52 Q1833.36 1549.52 1830.28 1546.83 Q1827.22 1544.15 1827.22 1539.13 Q1827.22 1535.82 1829.12 1533.52 Q1831.02 1531.23 1834.4 1530.45 M1832.69 1523.06 Q1832.69 1525.75 1834.35 1527.25 Q1836.04 1528.76 1839.07 1528.76 Q1842.08 1528.76 1843.77 1527.25 Q1845.49 1525.75 1845.49 1523.06 Q1845.49 1520.38 1843.77 1518.87 Q1842.08 1517.37 1839.07 1517.37 Q1836.04 1517.37 1834.35 1518.87 Q1832.69 1520.38 1832.69 1523.06 Z\" fill=\"#f8f8f2\" fill-rule=\"nonzero\" fill-opacity=\"1\" /><path clip-path=\"url(#clip850)\" d=\"M2266.34 1544.91 L2273.98 1544.91 L2273.98 1518.55 L2265.67 1520.21 L2265.67 1515.95 L2273.94 1514.29 L2278.61 1514.29 L2278.61 1544.91 L2286.25 1544.91 L2286.25 1548.85 L2266.34 1548.85 L2266.34 1544.91 Z\" fill=\"#f8f8f2\" fill-rule=\"nonzero\" fill-opacity=\"1\" /><path clip-path=\"url(#clip850)\" d=\"M2305.7 1517.37 Q2302.09 1517.37 2300.26 1520.93 Q2298.45 1524.47 2298.45 1531.6 Q2298.45 1538.71 2300.26 1542.27 Q2302.09 1545.82 2305.7 1545.82 Q2309.33 1545.82 2311.14 1542.27 Q2312.96 1538.71 2312.96 1531.6 Q2312.96 1524.47 2311.14 1520.93 Q2309.33 1517.37 2305.7 1517.37 M2305.7 1513.66 Q2311.51 1513.66 2314.56 1518.27 Q2317.64 1522.85 2317.64 1531.6 Q2317.64 1540.33 2314.56 1544.94 Q2311.51 1549.52 2305.7 1549.52 Q2299.89 1549.52 2296.81 1544.94 Q2293.75 1540.33 2293.75 1531.6 Q2293.75 1522.85 2296.81 1518.27 Q2299.89 1513.66 2305.7 1513.66 Z\" fill=\"#f8f8f2\" fill-rule=\"nonzero\" fill-opacity=\"1\" /><polyline clip-path=\"url(#clip850)\" style=\"stroke:#f8f8f2; stroke-linecap:round; stroke-linejoin:round; stroke-width:4; stroke-opacity:1; fill:none\" points=\"193.936,1486.45 193.936,47.2441 \"/>\n",
       "<polyline clip-path=\"url(#clip850)\" style=\"stroke:#f8f8f2; stroke-linecap:round; stroke-linejoin:round; stroke-width:4; stroke-opacity:1; fill:none\" points=\"193.936,1447.88 212.834,1447.88 \"/>\n",
       "<polyline clip-path=\"url(#clip850)\" style=\"stroke:#f8f8f2; stroke-linecap:round; stroke-linejoin:round; stroke-width:4; stroke-opacity:1; fill:none\" points=\"193.936,1105.97 212.834,1105.97 \"/>\n",
       "<polyline clip-path=\"url(#clip850)\" style=\"stroke:#f8f8f2; stroke-linecap:round; stroke-linejoin:round; stroke-width:4; stroke-opacity:1; fill:none\" points=\"193.936,764.064 212.834,764.064 \"/>\n",
       "<polyline clip-path=\"url(#clip850)\" style=\"stroke:#f8f8f2; stroke-linecap:round; stroke-linejoin:round; stroke-width:4; stroke-opacity:1; fill:none\" points=\"193.936,422.155 212.834,422.155 \"/>\n",
       "<polyline clip-path=\"url(#clip850)\" style=\"stroke:#f8f8f2; stroke-linecap:round; stroke-linejoin:round; stroke-width:4; stroke-opacity:1; fill:none\" points=\"193.936,80.2461 212.834,80.2461 \"/>\n",
       "<path clip-path=\"url(#clip850)\" d=\"M50.9921 1448.33 L80.6679 1448.33 L80.6679 1452.27 L50.9921 1452.27 L50.9921 1448.33 Z\" fill=\"#f8f8f2\" fill-rule=\"nonzero\" fill-opacity=\"1\" /><path clip-path=\"url(#clip850)\" d=\"M91.5706 1461.23 L99.2095 1461.23 L99.2095 1434.86 L90.8993 1436.53 L90.8993 1432.27 L99.1632 1430.6 L103.839 1430.6 L103.839 1461.23 L111.478 1461.23 L111.478 1465.16 L91.5706 1465.16 L91.5706 1461.23 Z\" fill=\"#f8f8f2\" fill-rule=\"nonzero\" fill-opacity=\"1\" /><path clip-path=\"url(#clip850)\" d=\"M120.922 1459.28 L125.807 1459.28 L125.807 1465.16 L120.922 1465.16 L120.922 1459.28 Z\" fill=\"#f8f8f2\" fill-rule=\"nonzero\" fill-opacity=\"1\" /><path clip-path=\"url(#clip850)\" d=\"M145.992 1433.68 Q142.381 1433.68 140.552 1437.24 Q138.746 1440.79 138.746 1447.92 Q138.746 1455.02 140.552 1458.59 Q142.381 1462.13 145.992 1462.13 Q149.626 1462.13 151.431 1458.59 Q153.26 1455.02 153.26 1447.92 Q153.26 1440.79 151.431 1437.24 Q149.626 1433.68 145.992 1433.68 M145.992 1429.98 Q151.802 1429.98 154.857 1434.58 Q157.936 1439.17 157.936 1447.92 Q157.936 1456.64 154.857 1461.25 Q151.802 1465.83 145.992 1465.83 Q140.181 1465.83 137.103 1461.25 Q134.047 1456.64 134.047 1447.92 Q134.047 1439.17 137.103 1434.58 Q140.181 1429.98 145.992 1429.98 Z\" fill=\"#f8f8f2\" fill-rule=\"nonzero\" fill-opacity=\"1\" /><path clip-path=\"url(#clip850)\" d=\"M51.9875 1106.42 L81.6633 1106.42 L81.6633 1110.36 L51.9875 1110.36 L51.9875 1106.42 Z\" fill=\"#f8f8f2\" fill-rule=\"nonzero\" fill-opacity=\"1\" /><path clip-path=\"url(#clip850)\" d=\"M101.756 1091.77 Q98.1447 1091.77 96.316 1095.34 Q94.5104 1098.88 94.5104 1106.01 Q94.5104 1113.11 96.316 1116.68 Q98.1447 1120.22 101.756 1120.22 Q105.39 1120.22 107.196 1116.68 Q109.024 1113.11 109.024 1106.01 Q109.024 1098.88 107.196 1095.34 Q105.39 1091.77 101.756 1091.77 M101.756 1088.07 Q107.566 1088.07 110.621 1092.67 Q113.7 1097.26 113.7 1106.01 Q113.7 1114.73 110.621 1119.34 Q107.566 1123.92 101.756 1123.92 Q95.9456 1123.92 92.8669 1119.34 Q89.8114 1114.73 89.8114 1106.01 Q89.8114 1097.26 92.8669 1092.67 Q95.9456 1088.07 101.756 1088.07 Z\" fill=\"#f8f8f2\" fill-rule=\"nonzero\" fill-opacity=\"1\" /><path clip-path=\"url(#clip850)\" d=\"M121.918 1117.37 L126.802 1117.37 L126.802 1123.25 L121.918 1123.25 L121.918 1117.37 Z\" fill=\"#f8f8f2\" fill-rule=\"nonzero\" fill-opacity=\"1\" /><path clip-path=\"url(#clip850)\" d=\"M137.033 1088.69 L155.39 1088.69 L155.39 1092.63 L141.316 1092.63 L141.316 1101.1 Q142.334 1100.75 143.353 1100.59 Q144.371 1100.41 145.39 1100.41 Q151.177 1100.41 154.556 1103.58 Q157.936 1106.75 157.936 1112.16 Q157.936 1117.74 154.464 1120.84 Q150.992 1123.92 144.672 1123.92 Q142.496 1123.92 140.228 1123.55 Q137.982 1123.18 135.575 1122.44 L135.575 1117.74 Q137.658 1118.88 139.881 1119.43 Q142.103 1119.99 144.58 1119.99 Q148.584 1119.99 150.922 1117.88 Q153.26 1115.78 153.26 1112.16 Q153.26 1108.55 150.922 1106.45 Q148.584 1104.34 144.58 1104.34 Q142.705 1104.34 140.83 1104.76 Q138.978 1105.17 137.033 1106.05 L137.033 1088.69 Z\" fill=\"#f8f8f2\" fill-rule=\"nonzero\" fill-opacity=\"1\" /><path clip-path=\"url(#clip850)\" d=\"M100.76 749.862 Q97.1493 749.862 95.3206 753.427 Q93.515 756.969 93.515 764.098 Q93.515 771.205 95.3206 774.77 Q97.1493 778.311 100.76 778.311 Q104.395 778.311 106.2 774.77 Q108.029 771.205 108.029 764.098 Q108.029 756.969 106.2 753.427 Q104.395 749.862 100.76 749.862 M100.76 746.159 Q106.571 746.159 109.626 750.765 Q112.705 755.348 112.705 764.098 Q112.705 772.825 109.626 777.432 Q106.571 782.015 100.76 782.015 Q94.9502 782.015 91.8715 777.432 Q88.816 772.825 88.816 764.098 Q88.816 755.348 91.8715 750.765 Q94.9502 746.159 100.76 746.159 Z\" fill=\"#f8f8f2\" fill-rule=\"nonzero\" fill-opacity=\"1\" /><path clip-path=\"url(#clip850)\" d=\"M120.922 775.464 L125.807 775.464 L125.807 781.344 L120.922 781.344 L120.922 775.464 Z\" fill=\"#f8f8f2\" fill-rule=\"nonzero\" fill-opacity=\"1\" /><path clip-path=\"url(#clip850)\" d=\"M145.992 749.862 Q142.381 749.862 140.552 753.427 Q138.746 756.969 138.746 764.098 Q138.746 771.205 140.552 774.77 Q142.381 778.311 145.992 778.311 Q149.626 778.311 151.431 774.77 Q153.26 771.205 153.26 764.098 Q153.26 756.969 151.431 753.427 Q149.626 749.862 145.992 749.862 M145.992 746.159 Q151.802 746.159 154.857 750.765 Q157.936 755.348 157.936 764.098 Q157.936 772.825 154.857 777.432 Q151.802 782.015 145.992 782.015 Q140.181 782.015 137.103 777.432 Q134.047 772.825 134.047 764.098 Q134.047 755.348 137.103 750.765 Q140.181 746.159 145.992 746.159 Z\" fill=\"#f8f8f2\" fill-rule=\"nonzero\" fill-opacity=\"1\" /><path clip-path=\"url(#clip850)\" d=\"M101.756 407.954 Q98.1447 407.954 96.316 411.518 Q94.5104 415.06 94.5104 422.19 Q94.5104 429.296 96.316 432.861 Q98.1447 436.402 101.756 436.402 Q105.39 436.402 107.196 432.861 Q109.024 429.296 109.024 422.19 Q109.024 415.06 107.196 411.518 Q105.39 407.954 101.756 407.954 M101.756 404.25 Q107.566 404.25 110.621 408.856 Q113.7 413.44 113.7 422.19 Q113.7 430.916 110.621 435.523 Q107.566 440.106 101.756 440.106 Q95.9456 440.106 92.8669 435.523 Q89.8114 430.916 89.8114 422.19 Q89.8114 413.44 92.8669 408.856 Q95.9456 404.25 101.756 404.25 Z\" fill=\"#f8f8f2\" fill-rule=\"nonzero\" fill-opacity=\"1\" /><path clip-path=\"url(#clip850)\" d=\"M121.918 433.555 L126.802 433.555 L126.802 439.435 L121.918 439.435 L121.918 433.555 Z\" fill=\"#f8f8f2\" fill-rule=\"nonzero\" fill-opacity=\"1\" /><path clip-path=\"url(#clip850)\" d=\"M137.033 404.875 L155.39 404.875 L155.39 408.81 L141.316 408.81 L141.316 417.282 Q142.334 416.935 143.353 416.773 Q144.371 416.588 145.39 416.588 Q151.177 416.588 154.556 419.759 Q157.936 422.93 157.936 428.347 Q157.936 433.926 154.464 437.027 Q150.992 440.106 144.672 440.106 Q142.496 440.106 140.228 439.736 Q137.982 439.365 135.575 438.625 L135.575 433.926 Q137.658 435.06 139.881 435.615 Q142.103 436.171 144.58 436.171 Q148.584 436.171 150.922 434.065 Q153.26 431.958 153.26 428.347 Q153.26 424.736 150.922 422.629 Q148.584 420.523 144.58 420.523 Q142.705 420.523 140.83 420.94 Q138.978 421.356 137.033 422.236 L137.033 404.875 Z\" fill=\"#f8f8f2\" fill-rule=\"nonzero\" fill-opacity=\"1\" /><path clip-path=\"url(#clip850)\" d=\"M91.5706 93.591 L99.2095 93.591 L99.2095 67.2254 L90.8993 68.892 L90.8993 64.6328 L99.1632 62.9661 L103.839 62.9661 L103.839 93.591 L111.478 93.591 L111.478 97.5261 L91.5706 97.5261 L91.5706 93.591 Z\" fill=\"#f8f8f2\" fill-rule=\"nonzero\" fill-opacity=\"1\" /><path clip-path=\"url(#clip850)\" d=\"M120.922 91.6465 L125.807 91.6465 L125.807 97.5261 L120.922 97.5261 L120.922 91.6465 Z\" fill=\"#f8f8f2\" fill-rule=\"nonzero\" fill-opacity=\"1\" /><path clip-path=\"url(#clip850)\" d=\"M145.992 66.0448 Q142.381 66.0448 140.552 69.6096 Q138.746 73.1512 138.746 80.2808 Q138.746 87.3873 140.552 90.9521 Q142.381 94.4937 145.992 94.4937 Q149.626 94.4937 151.431 90.9521 Q153.26 87.3873 153.26 80.2808 Q153.26 73.1512 151.431 69.6096 Q149.626 66.0448 145.992 66.0448 M145.992 62.3411 Q151.802 62.3411 154.857 66.9476 Q157.936 71.5309 157.936 80.2808 Q157.936 89.0076 154.857 93.6141 Q151.802 98.1974 145.992 98.1974 Q140.181 98.1974 137.103 93.6141 Q134.047 89.0076 134.047 80.2808 Q134.047 71.5309 137.103 66.9476 Q140.181 62.3411 145.992 62.3411 Z\" fill=\"#f8f8f2\" fill-rule=\"nonzero\" fill-opacity=\"1\" /><circle clip-path=\"url(#clip852)\" cx=\"255.035\" cy=\"394.595\" r=\"14.4\" fill=\"#8be9fd\" fill-rule=\"evenodd\" fill-opacity=\"1\" stroke=\"#f8f8f2\" stroke-opacity=\"1\" stroke-width=\"3.2\"/>\n",
       "<circle clip-path=\"url(#clip852)\" cx=\"481.326\" cy=\"863.559\" r=\"14.4\" fill=\"#8be9fd\" fill-rule=\"evenodd\" fill-opacity=\"1\" stroke=\"#f8f8f2\" stroke-opacity=\"1\" stroke-width=\"3.2\"/>\n",
       "<circle clip-path=\"url(#clip852)\" cx=\"707.617\" cy=\"963.833\" r=\"14.4\" fill=\"#8be9fd\" fill-rule=\"evenodd\" fill-opacity=\"1\" stroke=\"#f8f8f2\" stroke-opacity=\"1\" stroke-width=\"3.2\"/>\n",
       "<circle clip-path=\"url(#clip852)\" cx=\"933.909\" cy=\"496.105\" r=\"14.4\" fill=\"#8be9fd\" fill-rule=\"evenodd\" fill-opacity=\"1\" stroke=\"#f8f8f2\" stroke-opacity=\"1\" stroke-width=\"3.2\"/>\n",
       "<circle clip-path=\"url(#clip852)\" cx=\"1160.2\" cy=\"225.411\" r=\"14.4\" fill=\"#8be9fd\" fill-rule=\"evenodd\" fill-opacity=\"1\" stroke=\"#f8f8f2\" stroke-opacity=\"1\" stroke-width=\"3.2\"/>\n",
       "<circle clip-path=\"url(#clip852)\" cx=\"1386.49\" cy=\"1255.03\" r=\"14.4\" fill=\"#8be9fd\" fill-rule=\"evenodd\" fill-opacity=\"1\" stroke=\"#f8f8f2\" stroke-opacity=\"1\" stroke-width=\"3.2\"/>\n",
       "<circle clip-path=\"url(#clip852)\" cx=\"1612.78\" cy=\"1341.09\" r=\"14.4\" fill=\"#8be9fd\" fill-rule=\"evenodd\" fill-opacity=\"1\" stroke=\"#f8f8f2\" stroke-opacity=\"1\" stroke-width=\"3.2\"/>\n",
       "<circle clip-path=\"url(#clip852)\" cx=\"1839.07\" cy=\"1445.72\" r=\"14.4\" fill=\"#8be9fd\" fill-rule=\"evenodd\" fill-opacity=\"1\" stroke=\"#f8f8f2\" stroke-opacity=\"1\" stroke-width=\"3.2\"/>\n",
       "<circle clip-path=\"url(#clip852)\" cx=\"2065.37\" cy=\"87.9763\" r=\"14.4\" fill=\"#8be9fd\" fill-rule=\"evenodd\" fill-opacity=\"1\" stroke=\"#f8f8f2\" stroke-opacity=\"1\" stroke-width=\"3.2\"/>\n",
       "<circle clip-path=\"url(#clip852)\" cx=\"2291.66\" cy=\"379.499\" r=\"14.4\" fill=\"#8be9fd\" fill-rule=\"evenodd\" fill-opacity=\"1\" stroke=\"#f8f8f2\" stroke-opacity=\"1\" stroke-width=\"3.2\"/>\n",
       "</svg>\n"
      ]
     },
     "execution_count": 217,
     "metadata": {},
     "output_type": "execute_result"
    }
   ],
   "source": [
    "x = range(1, 10)\n",
    "y = cos.(x.^3)\n",
    "scatter(x, y, legend=false)"
   ]
  },
  {
   "cell_type": "code",
   "execution_count": 218,
   "metadata": {},
   "outputs": [
    {
     "data": {
      "text/latex": [
       "\\textbf{Uniform Distribtion}\n",
       "\n"
      ],
      "text/markdown": [
       "**Uniform Distribtion**\n"
      ],
      "text/plain": [
       "  \u001b[1mUniform Distribtion\u001b[22m"
      ]
     },
     "execution_count": 218,
     "metadata": {},
     "output_type": "execute_result"
    }
   ],
   "source": [
    "md\"**Uniform Distribtion**\""
   ]
  },
  {
   "cell_type": "code",
   "execution_count": 219,
   "metadata": {},
   "outputs": [],
   "source": [
    "?rand;"
   ]
  },
  {
   "cell_type": "code",
   "execution_count": 220,
   "metadata": {},
   "outputs": [
    {
     "data": {
      "image/png": "[encoded data removed]",
      "image/svg+xml": [
       "<?xml version=\"1.0\" encoding=\"utf-8\"?>\n",
       "<svg xmlns=\"http://www.w3.org/2000/svg\" xmlns:xlink=\"http://www.w3.org/1999/xlink\" width=\"600\" height=\"400\" viewBox=\"0 0 2400 1600\">\n",
       "<defs>\n",
       "  <clipPath id=\"clip890\">\n",
       "    <rect x=\"0\" y=\"0\" width=\"2400\" height=\"1600\"/>\n",
       "  </clipPath>\n",
       "</defs>\n",
       "<path clip-path=\"url(#clip890)\" d=\"M0 1600 L2400 1600 L2400 0 L0 0  Z\" fill=\"#282a36\" fill-rule=\"evenodd\" fill-opacity=\"1\"/>\n",
       "<defs>\n",
       "  <clipPath id=\"clip891\">\n",
       "    <rect x=\"480\" y=\"0\" width=\"1681\" height=\"1600\"/>\n",
       "  </clipPath>\n",
       "</defs>\n",
       "<path clip-path=\"url(#clip890)\" d=\"M201.019 1486.45 L2352.76 1486.45 L2352.76 47.2441 L201.019 47.2441  Z\" fill=\"#30343b\" fill-rule=\"evenodd\" fill-opacity=\"1\"/>\n",
       "<defs>\n",
       "  <clipPath id=\"clip892\">\n",
       "    <rect x=\"201\" y=\"47\" width=\"2153\" height=\"1440\"/>\n",
       "  </clipPath>\n",
       "</defs>\n",
       "<polyline clip-path=\"url(#clip892)\" style=\"stroke:#f8f8f2; stroke-linecap:round; stroke-linejoin:round; stroke-width:2; stroke-opacity:0.1; fill:none\" points=\"319.369,1486.45 319.369,47.2441 \"/>\n",
       "<polyline clip-path=\"url(#clip892)\" style=\"stroke:#f8f8f2; stroke-linecap:round; stroke-linejoin:round; stroke-width:2; stroke-opacity:0.1; fill:none\" points=\"798.128,1486.45 798.128,47.2441 \"/>\n",
       "<polyline clip-path=\"url(#clip892)\" style=\"stroke:#f8f8f2; stroke-linecap:round; stroke-linejoin:round; stroke-width:2; stroke-opacity:0.1; fill:none\" points=\"1276.89,1486.45 1276.89,47.2441 \"/>\n",
       "<polyline clip-path=\"url(#clip892)\" style=\"stroke:#f8f8f2; stroke-linecap:round; stroke-linejoin:round; stroke-width:2; stroke-opacity:0.1; fill:none\" points=\"1755.65,1486.45 1755.65,47.2441 \"/>\n",
       "<polyline clip-path=\"url(#clip892)\" style=\"stroke:#f8f8f2; stroke-linecap:round; stroke-linejoin:round; stroke-width:2; stroke-opacity:0.1; fill:none\" points=\"2234.41,1486.45 2234.41,47.2441 \"/>\n",
       "<polyline clip-path=\"url(#clip892)\" style=\"stroke:#f8f8f2; stroke-linecap:round; stroke-linejoin:round; stroke-width:2; stroke-opacity:0.1; fill:none\" points=\"201.019,1486.45 2352.76,1486.45 \"/>\n",
       "<polyline clip-path=\"url(#clip892)\" style=\"stroke:#f8f8f2; stroke-linecap:round; stroke-linejoin:round; stroke-width:2; stroke-opacity:0.1; fill:none\" points=\"201.019,1143.94 2352.76,1143.94 \"/>\n",
       "<polyline clip-path=\"url(#clip892)\" style=\"stroke:#f8f8f2; stroke-linecap:round; stroke-linejoin:round; stroke-width:2; stroke-opacity:0.1; fill:none\" points=\"201.019,801.439 2352.76,801.439 \"/>\n",
       "<polyline clip-path=\"url(#clip892)\" style=\"stroke:#f8f8f2; stroke-linecap:round; stroke-linejoin:round; stroke-width:2; stroke-opacity:0.1; fill:none\" points=\"201.019,458.934 2352.76,458.934 \"/>\n",
       "<polyline clip-path=\"url(#clip892)\" style=\"stroke:#f8f8f2; stroke-linecap:round; stroke-linejoin:round; stroke-width:2; stroke-opacity:0.1; fill:none\" points=\"201.019,116.43 2352.76,116.43 \"/>\n",
       "<polyline clip-path=\"url(#clip890)\" style=\"stroke:#f8f8f2; stroke-linecap:round; stroke-linejoin:round; stroke-width:4; stroke-opacity:1; fill:none\" points=\"201.019,1486.45 2352.76,1486.45 \"/>\n",
       "<polyline clip-path=\"url(#clip890)\" style=\"stroke:#f8f8f2; stroke-linecap:round; stroke-linejoin:round; stroke-width:4; stroke-opacity:1; fill:none\" points=\"319.369,1486.45 319.369,1467.55 \"/>\n",
       "<polyline clip-path=\"url(#clip890)\" style=\"stroke:#f8f8f2; stroke-linecap:round; stroke-linejoin:round; stroke-width:4; stroke-opacity:1; fill:none\" points=\"798.128,1486.45 798.128,1467.55 \"/>\n",
       "<polyline clip-path=\"url(#clip890)\" style=\"stroke:#f8f8f2; stroke-linecap:round; stroke-linejoin:round; stroke-width:4; stroke-opacity:1; fill:none\" points=\"1276.89,1486.45 1276.89,1467.55 \"/>\n",
       "<polyline clip-path=\"url(#clip890)\" style=\"stroke:#f8f8f2; stroke-linecap:round; stroke-linejoin:round; stroke-width:4; stroke-opacity:1; fill:none\" points=\"1755.65,1486.45 1755.65,1467.55 \"/>\n",
       "<polyline clip-path=\"url(#clip890)\" style=\"stroke:#f8f8f2; stroke-linecap:round; stroke-linejoin:round; stroke-width:4; stroke-opacity:1; fill:none\" points=\"2234.41,1486.45 2234.41,1467.55 \"/>\n",
       "<path clip-path=\"url(#clip890)\" d=\"M281.672 1517.37 Q278.061 1517.37 276.232 1520.93 Q274.427 1524.47 274.427 1531.6 Q274.427 1538.71 276.232 1542.27 Q278.061 1545.82 281.672 1545.82 Q285.306 1545.82 287.112 1542.27 Q288.941 1538.71 288.941 1531.6 Q288.941 1524.47 287.112 1520.93 Q285.306 1517.37 281.672 1517.37 M281.672 1513.66 Q287.482 1513.66 290.538 1518.27 Q293.616 1522.85 293.616 1531.6 Q293.616 1540.33 290.538 1544.94 Q287.482 1549.52 281.672 1549.52 Q275.862 1549.52 272.783 1544.94 Q269.728 1540.33 269.728 1531.6 Q269.728 1522.85 272.783 1518.27 Q275.862 1513.66 281.672 1513.66 Z\" fill=\"#f8f8f2\" fill-rule=\"nonzero\" fill-opacity=\"1\" /><path clip-path=\"url(#clip890)\" d=\"M301.834 1542.97 L306.718 1542.97 L306.718 1548.85 L301.834 1548.85 L301.834 1542.97 Z\" fill=\"#f8f8f2\" fill-rule=\"nonzero\" fill-opacity=\"1\" /><path clip-path=\"url(#clip890)\" d=\"M326.903 1517.37 Q323.292 1517.37 321.464 1520.93 Q319.658 1524.47 319.658 1531.6 Q319.658 1538.71 321.464 1542.27 Q323.292 1545.82 326.903 1545.82 Q330.538 1545.82 332.343 1542.27 Q334.172 1538.71 334.172 1531.6 Q334.172 1524.47 332.343 1520.93 Q330.538 1517.37 326.903 1517.37 M326.903 1513.66 Q332.713 1513.66 335.769 1518.27 Q338.848 1522.85 338.848 1531.6 Q338.848 1540.33 335.769 1544.94 Q332.713 1549.52 326.903 1549.52 Q321.093 1549.52 318.014 1544.94 Q314.959 1540.33 314.959 1531.6 Q314.959 1522.85 318.014 1518.27 Q321.093 1513.66 326.903 1513.66 Z\" fill=\"#f8f8f2\" fill-rule=\"nonzero\" fill-opacity=\"1\" /><path clip-path=\"url(#clip890)\" d=\"M357.065 1517.37 Q353.454 1517.37 351.625 1520.93 Q349.82 1524.47 349.82 1531.6 Q349.82 1538.71 351.625 1542.27 Q353.454 1545.82 357.065 1545.82 Q360.699 1545.82 362.505 1542.27 Q364.334 1538.71 364.334 1531.6 Q364.334 1524.47 362.505 1520.93 Q360.699 1517.37 357.065 1517.37 M357.065 1513.66 Q362.875 1513.66 365.931 1518.27 Q369.01 1522.85 369.01 1531.6 Q369.01 1540.33 365.931 1544.94 Q362.875 1549.52 357.065 1549.52 Q351.255 1549.52 348.176 1544.94 Q345.121 1540.33 345.121 1531.6 Q345.121 1522.85 348.176 1518.27 Q351.255 1513.66 357.065 1513.66 Z\" fill=\"#f8f8f2\" fill-rule=\"nonzero\" fill-opacity=\"1\" /><path clip-path=\"url(#clip890)\" d=\"M760.929 1517.37 Q757.318 1517.37 755.489 1520.93 Q753.684 1524.47 753.684 1531.6 Q753.684 1538.71 755.489 1542.27 Q757.318 1545.82 760.929 1545.82 Q764.563 1545.82 766.369 1542.27 Q768.198 1538.71 768.198 1531.6 Q768.198 1524.47 766.369 1520.93 Q764.563 1517.37 760.929 1517.37 M760.929 1513.66 Q766.739 1513.66 769.795 1518.27 Q772.874 1522.85 772.874 1531.6 Q772.874 1540.33 769.795 1544.94 Q766.739 1549.52 760.929 1549.52 Q755.119 1549.52 752.04 1544.94 Q748.985 1540.33 748.985 1531.6 Q748.985 1522.85 752.04 1518.27 Q755.119 1513.66 760.929 1513.66 Z\" fill=\"#f8f8f2\" fill-rule=\"nonzero\" fill-opacity=\"1\" /><path clip-path=\"url(#clip890)\" d=\"M781.091 1542.97 L785.975 1542.97 L785.975 1548.85 L781.091 1548.85 L781.091 1542.97 Z\" fill=\"#f8f8f2\" fill-rule=\"nonzero\" fill-opacity=\"1\" /><path clip-path=\"url(#clip890)\" d=\"M800.188 1544.91 L816.508 1544.91 L816.508 1548.85 L794.563 1548.85 L794.563 1544.91 Q797.225 1542.16 801.809 1537.53 Q806.415 1532.88 807.596 1531.53 Q809.841 1529.01 810.721 1527.27 Q811.623 1525.51 811.623 1523.82 Q811.623 1521.07 809.679 1519.33 Q807.758 1517.6 804.656 1517.6 Q802.457 1517.6 800.003 1518.36 Q797.573 1519.13 794.795 1520.68 L794.795 1515.95 Q797.619 1514.82 800.073 1514.24 Q802.526 1513.66 804.563 1513.66 Q809.934 1513.66 813.128 1516.35 Q816.322 1519.03 816.322 1523.52 Q816.322 1525.65 815.512 1527.57 Q814.725 1529.47 812.619 1532.07 Q812.04 1532.74 808.938 1535.95 Q805.836 1539.15 800.188 1544.91 Z\" fill=\"#f8f8f2\" fill-rule=\"nonzero\" fill-opacity=\"1\" /><path clip-path=\"url(#clip890)\" d=\"M826.369 1514.29 L844.725 1514.29 L844.725 1518.22 L830.651 1518.22 L830.651 1526.7 Q831.67 1526.35 832.688 1526.19 Q833.707 1526 834.725 1526 Q840.512 1526 843.892 1529.17 Q847.271 1532.34 847.271 1537.76 Q847.271 1543.34 843.799 1546.44 Q840.327 1549.52 834.008 1549.52 Q831.832 1549.52 829.563 1549.15 Q827.318 1548.78 824.91 1548.04 L824.91 1543.34 Q826.994 1544.47 829.216 1545.03 Q831.438 1545.58 833.915 1545.58 Q837.92 1545.58 840.258 1543.48 Q842.595 1541.37 842.595 1537.76 Q842.595 1534.15 840.258 1532.04 Q837.92 1529.94 833.915 1529.94 Q832.04 1529.94 830.165 1530.35 Q828.313 1530.77 826.369 1531.65 L826.369 1514.29 Z\" fill=\"#f8f8f2\" fill-rule=\"nonzero\" fill-opacity=\"1\" /><path clip-path=\"url(#clip890)\" d=\"M1239.19 1517.37 Q1235.58 1517.37 1233.75 1520.93 Q1231.95 1524.47 1231.95 1531.6 Q1231.95 1538.71 1233.75 1542.27 Q1235.58 1545.82 1239.19 1545.82 Q1242.83 1545.82 1244.63 1542.27 Q1246.46 1538.71 1246.46 1531.6 Q1246.46 1524.47 1244.63 1520.93 Q1242.83 1517.37 1239.19 1517.37 M1239.19 1513.66 Q1245 1513.66 1248.06 1518.27 Q1251.14 1522.85 1251.14 1531.6 Q1251.14 1540.33 1248.06 1544.94 Q1245 1549.52 1239.19 1549.52 Q1233.38 1549.52 1230.3 1544.94 Q1227.25 1540.33 1227.25 1531.6 Q1227.25 1522.85 1230.3 1518.27 Q1233.38 1513.66 1239.19 1513.66 Z\" fill=\"#f8f8f2\" fill-rule=\"nonzero\" fill-opacity=\"1\" /><path clip-path=\"url(#clip890)\" d=\"M1259.35 1542.97 L1264.24 1542.97 L1264.24 1548.85 L1259.35 1548.85 L1259.35 1542.97 Z\" fill=\"#f8f8f2\" fill-rule=\"nonzero\" fill-opacity=\"1\" /><path clip-path=\"url(#clip890)\" d=\"M1274.47 1514.29 L1292.83 1514.29 L1292.83 1518.22 L1278.75 1518.22 L1278.75 1526.7 Q1279.77 1526.35 1280.79 1526.19 Q1281.81 1526 1282.83 1526 Q1288.61 1526 1291.99 1529.17 Q1295.37 1532.34 1295.37 1537.76 Q1295.37 1543.34 1291.9 1546.44 Q1288.43 1549.52 1282.11 1549.52 Q1279.93 1549.52 1277.66 1549.15 Q1275.42 1548.78 1273.01 1548.04 L1273.01 1543.34 Q1275.09 1544.47 1277.32 1545.03 Q1279.54 1545.58 1282.01 1545.58 Q1286.02 1545.58 1288.36 1543.48 Q1290.7 1541.37 1290.7 1537.76 Q1290.7 1534.15 1288.36 1532.04 Q1286.02 1529.94 1282.01 1529.94 Q1280.14 1529.94 1278.26 1530.35 Q1276.41 1530.77 1274.47 1531.65 L1274.47 1514.29 Z\" fill=\"#f8f8f2\" fill-rule=\"nonzero\" fill-opacity=\"1\" /><path clip-path=\"url(#clip890)\" d=\"M1314.58 1517.37 Q1310.97 1517.37 1309.14 1520.93 Q1307.34 1524.47 1307.34 1531.6 Q1307.34 1538.71 1309.14 1542.27 Q1310.97 1545.82 1314.58 1545.82 Q1318.22 1545.82 1320.02 1542.27 Q1321.85 1538.71 1321.85 1531.6 Q1321.85 1524.47 1320.02 1520.93 Q1318.22 1517.37 1314.58 1517.37 M1314.58 1513.66 Q1320.39 1513.66 1323.45 1518.27 Q1326.53 1522.85 1326.53 1531.6 Q1326.53 1540.33 1323.45 1544.94 Q1320.39 1549.52 1314.58 1549.52 Q1308.77 1549.52 1305.7 1544.94 Q1302.64 1540.33 1302.64 1531.6 Q1302.64 1522.85 1305.7 1518.27 Q1308.77 1513.66 1314.58 1513.66 Z\" fill=\"#f8f8f2\" fill-rule=\"nonzero\" fill-opacity=\"1\" /><path clip-path=\"url(#clip890)\" d=\"M1718.45 1517.37 Q1714.84 1517.37 1713.01 1520.93 Q1711.2 1524.47 1711.2 1531.6 Q1711.2 1538.71 1713.01 1542.27 Q1714.84 1545.82 1718.45 1545.82 Q1722.08 1545.82 1723.89 1542.27 Q1725.72 1538.71 1725.72 1531.6 Q1725.72 1524.47 1723.89 1520.93 Q1722.08 1517.37 1718.45 1517.37 M1718.45 1513.66 Q1724.26 1513.66 1727.31 1518.27 Q1730.39 1522.85 1730.39 1531.6 Q1730.39 1540.33 1727.31 1544.94 Q1724.26 1549.52 1718.45 1549.52 Q1712.64 1549.52 1709.56 1544.94 Q1706.5 1540.33 1706.5 1531.6 Q1706.5 1522.85 1709.56 1518.27 Q1712.64 1513.66 1718.45 1513.66 Z\" fill=\"#f8f8f2\" fill-rule=\"nonzero\" fill-opacity=\"1\" /><path clip-path=\"url(#clip890)\" d=\"M1738.61 1542.97 L1743.49 1542.97 L1743.49 1548.85 L1738.61 1548.85 L1738.61 1542.97 Z\" fill=\"#f8f8f2\" fill-rule=\"nonzero\" fill-opacity=\"1\" /><path clip-path=\"url(#clip890)\" d=\"M1752.5 1514.29 L1774.72 1514.29 L1774.72 1516.28 L1762.17 1548.85 L1757.29 1548.85 L1769.1 1518.22 L1752.5 1518.22 L1752.5 1514.29 Z\" fill=\"#f8f8f2\" fill-rule=\"nonzero\" fill-opacity=\"1\" /><path clip-path=\"url(#clip890)\" d=\"M1783.89 1514.29 L1802.24 1514.29 L1802.24 1518.22 L1788.17 1518.22 L1788.17 1526.7 Q1789.19 1526.35 1790.21 1526.19 Q1791.23 1526 1792.24 1526 Q1798.03 1526 1801.41 1529.17 Q1804.79 1532.34 1804.79 1537.76 Q1804.79 1543.34 1801.32 1546.44 Q1797.85 1549.52 1791.53 1549.52 Q1789.35 1549.52 1787.08 1549.15 Q1784.84 1548.78 1782.43 1548.04 L1782.43 1543.34 Q1784.51 1544.47 1786.73 1545.03 Q1788.96 1545.58 1791.43 1545.58 Q1795.44 1545.58 1797.78 1543.48 Q1800.11 1541.37 1800.11 1537.76 Q1800.11 1534.15 1797.78 1532.04 Q1795.44 1529.94 1791.43 1529.94 Q1789.56 1529.94 1787.68 1530.35 Q1785.83 1530.77 1783.89 1531.65 L1783.89 1514.29 Z\" fill=\"#f8f8f2\" fill-rule=\"nonzero\" fill-opacity=\"1\" /><path clip-path=\"url(#clip890)\" d=\"M2186.48 1544.91 L2194.12 1544.91 L2194.12 1518.55 L2185.81 1520.21 L2185.81 1515.95 L2194.07 1514.29 L2198.75 1514.29 L2198.75 1544.91 L2206.39 1544.91 L2206.39 1548.85 L2186.48 1548.85 L2186.48 1544.91 Z\" fill=\"#f8f8f2\" fill-rule=\"nonzero\" fill-opacity=\"1\" /><path clip-path=\"url(#clip890)\" d=\"M2215.83 1542.97 L2220.71 1542.97 L2220.71 1548.85 L2215.83 1548.85 L2215.83 1542.97 Z\" fill=\"#f8f8f2\" fill-rule=\"nonzero\" fill-opacity=\"1\" /><path clip-path=\"url(#clip890)\" d=\"M2240.9 1517.37 Q2237.29 1517.37 2235.46 1520.93 Q2233.65 1524.47 2233.65 1531.6 Q2233.65 1538.71 2235.46 1542.27 Q2237.29 1545.82 2240.9 1545.82 Q2244.53 1545.82 2246.34 1542.27 Q2248.17 1538.71 2248.17 1531.6 Q2248.17 1524.47 2246.34 1520.93 Q2244.53 1517.37 2240.9 1517.37 M2240.9 1513.66 Q2246.71 1513.66 2249.77 1518.27 Q2252.84 1522.85 2252.84 1531.6 Q2252.84 1540.33 2249.77 1544.94 Q2246.71 1549.52 2240.9 1549.52 Q2235.09 1549.52 2232.01 1544.94 Q2228.96 1540.33 2228.96 1531.6 Q2228.96 1522.85 2232.01 1518.27 Q2235.09 1513.66 2240.9 1513.66 Z\" fill=\"#f8f8f2\" fill-rule=\"nonzero\" fill-opacity=\"1\" /><path clip-path=\"url(#clip890)\" d=\"M2271.06 1517.37 Q2267.45 1517.37 2265.62 1520.93 Q2263.82 1524.47 2263.82 1531.6 Q2263.82 1538.71 2265.62 1542.27 Q2267.45 1545.82 2271.06 1545.82 Q2274.7 1545.82 2276.5 1542.27 Q2278.33 1538.71 2278.33 1531.6 Q2278.33 1524.47 2276.5 1520.93 Q2274.7 1517.37 2271.06 1517.37 M2271.06 1513.66 Q2276.87 1513.66 2279.93 1518.27 Q2283.01 1522.85 2283.01 1531.6 Q2283.01 1540.33 2279.93 1544.94 Q2276.87 1549.52 2271.06 1549.52 Q2265.25 1549.52 2262.17 1544.94 Q2259.12 1540.33 2259.12 1531.6 Q2259.12 1522.85 2262.17 1518.27 Q2265.25 1513.66 2271.06 1513.66 Z\" fill=\"#f8f8f2\" fill-rule=\"nonzero\" fill-opacity=\"1\" /><polyline clip-path=\"url(#clip890)\" style=\"stroke:#f8f8f2; stroke-linecap:round; stroke-linejoin:round; stroke-width:4; stroke-opacity:1; fill:none\" points=\"201.019,1486.45 201.019,47.2441 \"/>\n",
       "<polyline clip-path=\"url(#clip890)\" style=\"stroke:#f8f8f2; stroke-linecap:round; stroke-linejoin:round; stroke-width:4; stroke-opacity:1; fill:none\" points=\"201.019,1486.45 219.917,1486.45 \"/>\n",
       "<polyline clip-path=\"url(#clip890)\" style=\"stroke:#f8f8f2; stroke-linecap:round; stroke-linejoin:round; stroke-width:4; stroke-opacity:1; fill:none\" points=\"201.019,1143.94 219.917,1143.94 \"/>\n",
       "<polyline clip-path=\"url(#clip890)\" style=\"stroke:#f8f8f2; stroke-linecap:round; stroke-linejoin:round; stroke-width:4; stroke-opacity:1; fill:none\" points=\"201.019,801.439 219.917,801.439 \"/>\n",
       "<polyline clip-path=\"url(#clip890)\" style=\"stroke:#f8f8f2; stroke-linecap:round; stroke-linejoin:round; stroke-width:4; stroke-opacity:1; fill:none\" points=\"201.019,458.934 219.917,458.934 \"/>\n",
       "<polyline clip-path=\"url(#clip890)\" style=\"stroke:#f8f8f2; stroke-linecap:round; stroke-linejoin:round; stroke-width:4; stroke-opacity:1; fill:none\" points=\"201.019,116.43 219.917,116.43 \"/>\n",
       "<path clip-path=\"url(#clip890)\" d=\"M153.075 1472.25 Q149.464 1472.25 147.635 1475.81 Q145.83 1479.35 145.83 1486.48 Q145.83 1493.59 147.635 1497.15 Q149.464 1500.7 153.075 1500.7 Q156.709 1500.7 158.515 1497.15 Q160.343 1493.59 160.343 1486.48 Q160.343 1479.35 158.515 1475.81 Q156.709 1472.25 153.075 1472.25 M153.075 1468.54 Q158.885 1468.54 161.941 1473.15 Q165.019 1477.73 165.019 1486.48 Q165.019 1495.21 161.941 1499.82 Q158.885 1504.4 153.075 1504.4 Q147.265 1504.4 144.186 1499.82 Q141.131 1495.21 141.131 1486.48 Q141.131 1477.73 144.186 1473.15 Q147.265 1468.54 153.075 1468.54 Z\" fill=\"#f8f8f2\" fill-rule=\"nonzero\" fill-opacity=\"1\" /><path clip-path=\"url(#clip890)\" d=\"M82.7975 1126.66 L101.154 1126.66 L101.154 1130.6 L87.0799 1130.6 L87.0799 1139.07 Q88.0984 1138.72 89.1169 1138.56 Q90.1354 1138.38 91.1539 1138.38 Q96.941 1138.38 100.321 1141.55 Q103.7 1144.72 103.7 1150.14 Q103.7 1155.71 100.228 1158.82 Q96.7558 1161.89 90.4364 1161.89 Q88.2604 1161.89 85.9919 1161.52 Q83.7466 1161.15 81.3392 1160.41 L81.3392 1155.71 Q83.4225 1156.85 85.6447 1157.4 Q87.8669 1157.96 90.3438 1157.96 Q94.3484 1157.96 96.6863 1155.85 Q99.0243 1153.75 99.0243 1150.14 Q99.0243 1146.52 96.6863 1144.42 Q94.3484 1142.31 90.3438 1142.31 Q88.4688 1142.31 86.5938 1142.73 Q84.7419 1143.14 82.7975 1144.02 L82.7975 1126.66 Z\" fill=\"#f8f8f2\" fill-rule=\"nonzero\" fill-opacity=\"1\" /><path clip-path=\"url(#clip890)\" d=\"M122.913 1129.74 Q119.302 1129.74 117.473 1133.31 Q115.668 1136.85 115.668 1143.98 Q115.668 1151.08 117.473 1154.65 Q119.302 1158.19 122.913 1158.19 Q126.547 1158.19 128.353 1154.65 Q130.182 1151.08 130.182 1143.98 Q130.182 1136.85 128.353 1133.31 Q126.547 1129.74 122.913 1129.74 M122.913 1126.04 Q128.723 1126.04 131.779 1130.64 Q134.857 1135.23 134.857 1143.98 Q134.857 1152.7 131.779 1157.31 Q128.723 1161.89 122.913 1161.89 Q117.103 1161.89 114.024 1157.31 Q110.969 1152.7 110.969 1143.98 Q110.969 1135.23 114.024 1130.64 Q117.103 1126.04 122.913 1126.04 Z\" fill=\"#f8f8f2\" fill-rule=\"nonzero\" fill-opacity=\"1\" /><path clip-path=\"url(#clip890)\" d=\"M153.075 1129.74 Q149.464 1129.74 147.635 1133.31 Q145.83 1136.85 145.83 1143.98 Q145.83 1151.08 147.635 1154.65 Q149.464 1158.19 153.075 1158.19 Q156.709 1158.19 158.515 1154.65 Q160.343 1151.08 160.343 1143.98 Q160.343 1136.85 158.515 1133.31 Q156.709 1129.74 153.075 1129.74 M153.075 1126.04 Q158.885 1126.04 161.941 1130.64 Q165.019 1135.23 165.019 1143.98 Q165.019 1152.7 161.941 1157.31 Q158.885 1161.89 153.075 1161.89 Q147.265 1161.89 144.186 1157.31 Q141.131 1152.7 141.131 1143.98 Q141.131 1135.23 144.186 1130.64 Q147.265 1126.04 153.075 1126.04 Z\" fill=\"#f8f8f2\" fill-rule=\"nonzero\" fill-opacity=\"1\" /><path clip-path=\"url(#clip890)\" d=\"M53.3995 814.784 L61.0384 814.784 L61.0384 788.418 L52.7282 790.085 L52.7282 785.826 L60.9921 784.159 L65.668 784.159 L65.668 814.784 L73.3068 814.784 L73.3068 818.719 L53.3995 818.719 L53.3995 814.784 Z\" fill=\"#f8f8f2\" fill-rule=\"nonzero\" fill-opacity=\"1\" /><path clip-path=\"url(#clip890)\" d=\"M92.7512 787.238 Q89.1401 787.238 87.3114 790.802 Q85.5058 794.344 85.5058 801.474 Q85.5058 808.58 87.3114 812.145 Q89.1401 815.687 92.7512 815.687 Q96.3854 815.687 98.1909 812.145 Q100.02 808.58 100.02 801.474 Q100.02 794.344 98.1909 790.802 Q96.3854 787.238 92.7512 787.238 M92.7512 783.534 Q98.5613 783.534 101.617 788.14 Q104.696 792.724 104.696 801.474 Q104.696 810.2 101.617 814.807 Q98.5613 819.39 92.7512 819.39 Q86.941 819.39 83.8623 814.807 Q80.8068 810.2 80.8068 801.474 Q80.8068 792.724 83.8623 788.14 Q86.941 783.534 92.7512 783.534 Z\" fill=\"#f8f8f2\" fill-rule=\"nonzero\" fill-opacity=\"1\" /><path clip-path=\"url(#clip890)\" d=\"M122.913 787.238 Q119.302 787.238 117.473 790.802 Q115.668 794.344 115.668 801.474 Q115.668 808.58 117.473 812.145 Q119.302 815.687 122.913 815.687 Q126.547 815.687 128.353 812.145 Q130.182 808.58 130.182 801.474 Q130.182 794.344 128.353 790.802 Q126.547 787.238 122.913 787.238 M122.913 783.534 Q128.723 783.534 131.779 788.14 Q134.857 792.724 134.857 801.474 Q134.857 810.2 131.779 814.807 Q128.723 819.39 122.913 819.39 Q117.103 819.39 114.024 814.807 Q110.969 810.2 110.969 801.474 Q110.969 792.724 114.024 788.14 Q117.103 783.534 122.913 783.534 Z\" fill=\"#f8f8f2\" fill-rule=\"nonzero\" fill-opacity=\"1\" /><path clip-path=\"url(#clip890)\" d=\"M153.075 787.238 Q149.464 787.238 147.635 790.802 Q145.83 794.344 145.83 801.474 Q145.83 808.58 147.635 812.145 Q149.464 815.687 153.075 815.687 Q156.709 815.687 158.515 812.145 Q160.343 808.58 160.343 801.474 Q160.343 794.344 158.515 790.802 Q156.709 787.238 153.075 787.238 M153.075 783.534 Q158.885 783.534 161.941 788.14 Q165.019 792.724 165.019 801.474 Q165.019 810.2 161.941 814.807 Q158.885 819.39 153.075 819.39 Q147.265 819.39 144.186 814.807 Q141.131 810.2 141.131 801.474 Q141.131 792.724 144.186 788.14 Q147.265 783.534 153.075 783.534 Z\" fill=\"#f8f8f2\" fill-rule=\"nonzero\" fill-opacity=\"1\" /><path clip-path=\"url(#clip890)\" d=\"M53.3995 472.279 L61.0384 472.279 L61.0384 445.914 L52.7282 447.58 L52.7282 443.321 L60.9921 441.654 L65.668 441.654 L65.668 472.279 L73.3068 472.279 L73.3068 476.214 L53.3995 476.214 L53.3995 472.279 Z\" fill=\"#f8f8f2\" fill-rule=\"nonzero\" fill-opacity=\"1\" /><path clip-path=\"url(#clip890)\" d=\"M82.7975 441.654 L101.154 441.654 L101.154 445.59 L87.0799 445.59 L87.0799 454.062 Q88.0984 453.715 89.1169 453.553 Q90.1354 453.367 91.1539 453.367 Q96.941 453.367 100.321 456.539 Q103.7 459.71 103.7 465.127 Q103.7 470.705 100.228 473.807 Q96.7558 476.886 90.4364 476.886 Q88.2604 476.886 85.9919 476.515 Q83.7466 476.145 81.3392 475.404 L81.3392 470.705 Q83.4225 471.839 85.6447 472.395 Q87.8669 472.951 90.3438 472.951 Q94.3484 472.951 96.6863 470.844 Q99.0243 468.738 99.0243 465.127 Q99.0243 461.515 96.6863 459.409 Q94.3484 457.303 90.3438 457.303 Q88.4688 457.303 86.5938 457.719 Q84.7419 458.136 82.7975 459.015 L82.7975 441.654 Z\" fill=\"#f8f8f2\" fill-rule=\"nonzero\" fill-opacity=\"1\" /><path clip-path=\"url(#clip890)\" d=\"M122.913 444.733 Q119.302 444.733 117.473 448.298 Q115.668 451.84 115.668 458.969 Q115.668 466.076 117.473 469.64 Q119.302 473.182 122.913 473.182 Q126.547 473.182 128.353 469.64 Q130.182 466.076 130.182 458.969 Q130.182 451.84 128.353 448.298 Q126.547 444.733 122.913 444.733 M122.913 441.029 Q128.723 441.029 131.779 445.636 Q134.857 450.219 134.857 458.969 Q134.857 467.696 131.779 472.302 Q128.723 476.886 122.913 476.886 Q117.103 476.886 114.024 472.302 Q110.969 467.696 110.969 458.969 Q110.969 450.219 114.024 445.636 Q117.103 441.029 122.913 441.029 Z\" fill=\"#f8f8f2\" fill-rule=\"nonzero\" fill-opacity=\"1\" /><path clip-path=\"url(#clip890)\" d=\"M153.075 444.733 Q149.464 444.733 147.635 448.298 Q145.83 451.84 145.83 458.969 Q145.83 466.076 147.635 469.64 Q149.464 473.182 153.075 473.182 Q156.709 473.182 158.515 469.64 Q160.343 466.076 160.343 458.969 Q160.343 451.84 158.515 448.298 Q156.709 444.733 153.075 444.733 M153.075 441.029 Q158.885 441.029 161.941 445.636 Q165.019 450.219 165.019 458.969 Q165.019 467.696 161.941 472.302 Q158.885 476.886 153.075 476.886 Q147.265 476.886 144.186 472.302 Q141.131 467.696 141.131 458.969 Q141.131 450.219 144.186 445.636 Q147.265 441.029 153.075 441.029 Z\" fill=\"#f8f8f2\" fill-rule=\"nonzero\" fill-opacity=\"1\" /><path clip-path=\"url(#clip890)\" d=\"M56.6171 129.775 L72.9365 129.775 L72.9365 133.71 L50.9921 133.71 L50.9921 129.775 Q53.6541 127.02 58.2375 122.391 Q62.8439 117.738 64.0245 116.395 Q66.2698 113.872 67.1494 112.136 Q68.0522 110.377 68.0522 108.687 Q68.0522 105.932 66.1078 104.196 Q64.1865 102.46 61.0847 102.46 Q58.8856 102.46 56.4319 103.224 Q54.0014 103.988 51.2236 105.539 L51.2236 100.817 Q54.0477 99.6824 56.5014 99.1037 Q58.955 98.525 60.9921 98.525 Q66.3624 98.525 69.5568 101.21 Q72.7513 103.895 72.7513 108.386 Q72.7513 110.516 71.9411 112.437 Q71.1541 114.335 69.0476 116.928 Q68.4689 117.599 65.367 120.817 Q62.2652 124.011 56.6171 129.775 Z\" fill=\"#f8f8f2\" fill-rule=\"nonzero\" fill-opacity=\"1\" /><path clip-path=\"url(#clip890)\" d=\"M92.7512 102.229 Q89.1401 102.229 87.3114 105.793 Q85.5058 109.335 85.5058 116.465 Q85.5058 123.571 87.3114 127.136 Q89.1401 130.678 92.7512 130.678 Q96.3854 130.678 98.1909 127.136 Q100.02 123.571 100.02 116.465 Q100.02 109.335 98.1909 105.793 Q96.3854 102.229 92.7512 102.229 M92.7512 98.525 Q98.5613 98.525 101.617 103.131 Q104.696 107.715 104.696 116.465 Q104.696 125.192 101.617 129.798 Q98.5613 134.381 92.7512 134.381 Q86.941 134.381 83.8623 129.798 Q80.8068 125.192 80.8068 116.465 Q80.8068 107.715 83.8623 103.131 Q86.941 98.525 92.7512 98.525 Z\" fill=\"#f8f8f2\" fill-rule=\"nonzero\" fill-opacity=\"1\" /><path clip-path=\"url(#clip890)\" d=\"M122.913 102.229 Q119.302 102.229 117.473 105.793 Q115.668 109.335 115.668 116.465 Q115.668 123.571 117.473 127.136 Q119.302 130.678 122.913 130.678 Q126.547 130.678 128.353 127.136 Q130.182 123.571 130.182 116.465 Q130.182 109.335 128.353 105.793 Q126.547 102.229 122.913 102.229 M122.913 98.525 Q128.723 98.525 131.779 103.131 Q134.857 107.715 134.857 116.465 Q134.857 125.192 131.779 129.798 Q128.723 134.381 122.913 134.381 Q117.103 134.381 114.024 129.798 Q110.969 125.192 110.969 116.465 Q110.969 107.715 114.024 103.131 Q117.103 98.525 122.913 98.525 Z\" fill=\"#f8f8f2\" fill-rule=\"nonzero\" fill-opacity=\"1\" /><path clip-path=\"url(#clip890)\" d=\"M153.075 102.229 Q149.464 102.229 147.635 105.793 Q145.83 109.335 145.83 116.465 Q145.83 123.571 147.635 127.136 Q149.464 130.678 153.075 130.678 Q156.709 130.678 158.515 127.136 Q160.343 123.571 160.343 116.465 Q160.343 109.335 158.515 105.793 Q156.709 102.229 153.075 102.229 M153.075 98.525 Q158.885 98.525 161.941 103.131 Q165.019 107.715 165.019 116.465 Q165.019 125.192 161.941 129.798 Q158.885 134.381 153.075 134.381 Q147.265 134.381 144.186 129.798 Q141.131 125.192 141.131 116.465 Q141.131 107.715 144.186 103.131 Q147.265 98.525 153.075 98.525 Z\" fill=\"#f8f8f2\" fill-rule=\"nonzero\" fill-opacity=\"1\" /><path clip-path=\"url(#clip892)\" d=\"M319.369 82.8646 L319.369 1486.45 L357.669 1486.45 L357.669 82.8646 L319.369 82.8646 L319.369 82.8646  Z\" fill=\"#8be9fd\" fill-rule=\"evenodd\" fill-opacity=\"1\"/>\n",
       "<polyline clip-path=\"url(#clip892)\" style=\"stroke:#f8f8f2; stroke-linecap:round; stroke-linejoin:round; stroke-width:4; stroke-opacity:1; fill:none\" points=\"319.369,82.8646 319.369,1486.45 357.669,1486.45 357.669,82.8646 319.369,82.8646 \"/>\n",
       "<path clip-path=\"url(#clip892)\" d=\"M357.669 100.675 L357.669 1486.45 L395.97 1486.45 L395.97 100.675 L357.669 100.675 L357.669 100.675  Z\" fill=\"#8be9fd\" fill-rule=\"evenodd\" fill-opacity=\"1\"/>\n",
       "<polyline clip-path=\"url(#clip892)\" style=\"stroke:#f8f8f2; stroke-linecap:round; stroke-linejoin:round; stroke-width:4; stroke-opacity:1; fill:none\" points=\"357.669,100.675 357.669,1486.45 395.97,1486.45 395.97,100.675 357.669,100.675 \"/>\n",
       "<path clip-path=\"url(#clip892)\" d=\"M395.97 71.9044 L395.97 1486.45 L434.271 1486.45 L434.271 71.9044 L395.97 71.9044 L395.97 71.9044  Z\" fill=\"#8be9fd\" fill-rule=\"evenodd\" fill-opacity=\"1\"/>\n",
       "<polyline clip-path=\"url(#clip892)\" style=\"stroke:#f8f8f2; stroke-linecap:round; stroke-linejoin:round; stroke-width:4; stroke-opacity:1; fill:none\" points=\"395.97,71.9044 395.97,1486.45 434.271,1486.45 434.271,71.9044 395.97,71.9044 \"/>\n",
       "<path clip-path=\"url(#clip892)\" d=\"M434.271 108.21 L434.271 1486.45 L472.572 1486.45 L472.572 108.21 L434.271 108.21 L434.271 108.21  Z\" fill=\"#8be9fd\" fill-rule=\"evenodd\" fill-opacity=\"1\"/>\n",
       "<polyline clip-path=\"url(#clip892)\" style=\"stroke:#f8f8f2; stroke-linecap:round; stroke-linejoin:round; stroke-width:4; stroke-opacity:1; fill:none\" points=\"434.271,108.21 434.271,1486.45 472.572,1486.45 472.572,108.21 434.271,108.21 \"/>\n",
       "<path clip-path=\"url(#clip892)\" d=\"M472.572 99.3048 L472.572 1486.45 L510.872 1486.45 L510.872 99.3048 L472.572 99.3048 L472.572 99.3048  Z\" fill=\"#8be9fd\" fill-rule=\"evenodd\" fill-opacity=\"1\"/>\n",
       "<polyline clip-path=\"url(#clip892)\" style=\"stroke:#f8f8f2; stroke-linecap:round; stroke-linejoin:round; stroke-width:4; stroke-opacity:1; fill:none\" points=\"472.572,99.3048 472.572,1486.45 510.872,1486.45 510.872,99.3048 472.572,99.3048 \"/>\n",
       "<path clip-path=\"url(#clip892)\" d=\"M510.872 143.145 L510.872 1486.45 L549.173 1486.45 L549.173 143.145 L510.872 143.145 L510.872 143.145  Z\" fill=\"#8be9fd\" fill-rule=\"evenodd\" fill-opacity=\"1\"/>\n",
       "<polyline clip-path=\"url(#clip892)\" style=\"stroke:#f8f8f2; stroke-linecap:round; stroke-linejoin:round; stroke-width:4; stroke-opacity:1; fill:none\" points=\"510.872,143.145 510.872,1486.45 549.173,1486.45 549.173,143.145 510.872,143.145 \"/>\n",
       "<path clip-path=\"url(#clip892)\" d=\"M549.173 68.4794 L549.173 1486.45 L587.474 1486.45 L587.474 68.4794 L549.173 68.4794 L549.173 68.4794  Z\" fill=\"#8be9fd\" fill-rule=\"evenodd\" fill-opacity=\"1\"/>\n",
       "<polyline clip-path=\"url(#clip892)\" style=\"stroke:#f8f8f2; stroke-linecap:round; stroke-linejoin:round; stroke-width:4; stroke-opacity:1; fill:none\" points=\"549.173,68.4794 549.173,1486.45 587.474,1486.45 587.474,68.4794 549.173,68.4794 \"/>\n",
       "<path clip-path=\"url(#clip892)\" d=\"M587.474 140.405 L587.474 1486.45 L625.775 1486.45 L625.775 140.405 L587.474 140.405 L587.474 140.405  Z\" fill=\"#8be9fd\" fill-rule=\"evenodd\" fill-opacity=\"1\"/>\n",
       "<polyline clip-path=\"url(#clip892)\" style=\"stroke:#f8f8f2; stroke-linecap:round; stroke-linejoin:round; stroke-width:4; stroke-opacity:1; fill:none\" points=\"587.474,140.405 587.474,1486.45 625.775,1486.45 625.775,140.405 587.474,140.405 \"/>\n",
       "<path clip-path=\"url(#clip892)\" d=\"M625.775 148.625 L625.775 1486.45 L664.075 1486.45 L664.075 148.625 L625.775 148.625 L625.775 148.625  Z\" fill=\"#8be9fd\" fill-rule=\"evenodd\" fill-opacity=\"1\"/>\n",
       "<polyline clip-path=\"url(#clip892)\" style=\"stroke:#f8f8f2; stroke-linecap:round; stroke-linejoin:round; stroke-width:4; stroke-opacity:1; fill:none\" points=\"625.775,148.625 625.775,1486.45 664.075,1486.45 664.075,148.625 625.775,148.625 \"/>\n",
       "<path clip-path=\"url(#clip892)\" d=\"M664.075 130.815 L664.075 1486.45 L702.376 1486.45 L702.376 130.815 L664.075 130.815 L664.075 130.815  Z\" fill=\"#8be9fd\" fill-rule=\"evenodd\" fill-opacity=\"1\"/>\n",
       "<polyline clip-path=\"url(#clip892)\" style=\"stroke:#f8f8f2; stroke-linecap:round; stroke-linejoin:round; stroke-width:4; stroke-opacity:1; fill:none\" points=\"664.075,130.815 664.075,1486.45 702.376,1486.45 702.376,130.815 664.075,130.815 \"/>\n",
       "<path clip-path=\"url(#clip892)\" d=\"M702.376 144.515 L702.376 1486.45 L740.677 1486.45 L740.677 144.515 L702.376 144.515 L702.376 144.515  Z\" fill=\"#8be9fd\" fill-rule=\"evenodd\" fill-opacity=\"1\"/>\n",
       "<polyline clip-path=\"url(#clip892)\" style=\"stroke:#f8f8f2; stroke-linecap:round; stroke-linejoin:round; stroke-width:4; stroke-opacity:1; fill:none\" points=\"702.376,144.515 702.376,1486.45 740.677,1486.45 740.677,144.515 702.376,144.515 \"/>\n",
       "<path clip-path=\"url(#clip892)\" d=\"M740.677 63.6843 L740.677 1486.45 L778.978 1486.45 L778.978 63.6843 L740.677 63.6843 L740.677 63.6843  Z\" fill=\"#8be9fd\" fill-rule=\"evenodd\" fill-opacity=\"1\"/>\n",
       "<polyline clip-path=\"url(#clip892)\" style=\"stroke:#f8f8f2; stroke-linecap:round; stroke-linejoin:round; stroke-width:4; stroke-opacity:1; fill:none\" points=\"740.677,63.6843 740.677,1486.45 778.978,1486.45 778.978,63.6843 740.677,63.6843 \"/>\n",
       "<path clip-path=\"url(#clip892)\" d=\"M778.978 146.57 L778.978 1486.45 L817.278 1486.45 L817.278 146.57 L778.978 146.57 L778.978 146.57  Z\" fill=\"#8be9fd\" fill-rule=\"evenodd\" fill-opacity=\"1\"/>\n",
       "<polyline clip-path=\"url(#clip892)\" style=\"stroke:#f8f8f2; stroke-linecap:round; stroke-linejoin:round; stroke-width:4; stroke-opacity:1; fill:none\" points=\"778.978,146.57 778.978,1486.45 817.278,1486.45 817.278,146.57 778.978,146.57 \"/>\n",
       "<path clip-path=\"url(#clip892)\" d=\"M817.278 104.1 L817.278 1486.45 L855.579 1486.45 L855.579 104.1 L817.278 104.1 L817.278 104.1  Z\" fill=\"#8be9fd\" fill-rule=\"evenodd\" fill-opacity=\"1\"/>\n",
       "<polyline clip-path=\"url(#clip892)\" style=\"stroke:#f8f8f2; stroke-linecap:round; stroke-linejoin:round; stroke-width:4; stroke-opacity:1; fill:none\" points=\"817.278,104.1 817.278,1486.45 855.579,1486.45 855.579,104.1 817.278,104.1 \"/>\n",
       "<path clip-path=\"url(#clip892)\" d=\"M855.579 47.2441 L855.579 1486.45 L893.88 1486.45 L893.88 47.2441 L855.579 47.2441 L855.579 47.2441  Z\" fill=\"#8be9fd\" fill-rule=\"evenodd\" fill-opacity=\"1\"/>\n",
       "<polyline clip-path=\"url(#clip892)\" style=\"stroke:#f8f8f2; stroke-linecap:round; stroke-linejoin:round; stroke-width:4; stroke-opacity:1; fill:none\" points=\"855.579,47.2441 855.579,1486.45 893.88,1486.45 893.88,47.2441 855.579,47.2441 \"/>\n",
       "<path clip-path=\"url(#clip892)\" d=\"M893.88 150.68 L893.88 1486.45 L932.181 1486.45 L932.181 150.68 L893.88 150.68 L893.88 150.68  Z\" fill=\"#8be9fd\" fill-rule=\"evenodd\" fill-opacity=\"1\"/>\n",
       "<polyline clip-path=\"url(#clip892)\" style=\"stroke:#f8f8f2; stroke-linecap:round; stroke-linejoin:round; stroke-width:4; stroke-opacity:1; fill:none\" points=\"893.88,150.68 893.88,1486.45 932.181,1486.45 932.181,150.68 893.88,150.68 \"/>\n",
       "<path clip-path=\"url(#clip892)\" d=\"M932.181 110.265 L932.181 1486.45 L970.482 1486.45 L970.482 110.265 L932.181 110.265 L932.181 110.265  Z\" fill=\"#8be9fd\" fill-rule=\"evenodd\" fill-opacity=\"1\"/>\n",
       "<polyline clip-path=\"url(#clip892)\" style=\"stroke:#f8f8f2; stroke-linecap:round; stroke-linejoin:round; stroke-width:4; stroke-opacity:1; fill:none\" points=\"932.181,110.265 932.181,1486.45 970.482,1486.45 970.482,110.265 932.181,110.265 \"/>\n",
       "<path clip-path=\"url(#clip892)\" d=\"M970.482 111.635 L970.482 1486.45 L1008.78 1486.45 L1008.78 111.635 L970.482 111.635 L970.482 111.635  Z\" fill=\"#8be9fd\" fill-rule=\"evenodd\" fill-opacity=\"1\"/>\n",
       "<polyline clip-path=\"url(#clip892)\" style=\"stroke:#f8f8f2; stroke-linecap:round; stroke-linejoin:round; stroke-width:4; stroke-opacity:1; fill:none\" points=\"970.482,111.635 970.482,1486.45 1008.78,1486.45 1008.78,111.635 970.482,111.635 \"/>\n",
       "<path clip-path=\"url(#clip892)\" d=\"M1008.78 143.83 L1008.78 1486.45 L1047.08 1486.45 L1047.08 143.83 L1008.78 143.83 L1008.78 143.83  Z\" fill=\"#8be9fd\" fill-rule=\"evenodd\" fill-opacity=\"1\"/>\n",
       "<polyline clip-path=\"url(#clip892)\" style=\"stroke:#f8f8f2; stroke-linecap:round; stroke-linejoin:round; stroke-width:4; stroke-opacity:1; fill:none\" points=\"1008.78,143.83 1008.78,1486.45 1047.08,1486.45 1047.08,143.83 1008.78,143.83 \"/>\n",
       "<path clip-path=\"url(#clip892)\" d=\"M1047.08 112.32 L1047.08 1486.45 L1085.38 1486.45 L1085.38 112.32 L1047.08 112.32 L1047.08 112.32  Z\" fill=\"#8be9fd\" fill-rule=\"evenodd\" fill-opacity=\"1\"/>\n",
       "<polyline clip-path=\"url(#clip892)\" style=\"stroke:#f8f8f2; stroke-linecap:round; stroke-linejoin:round; stroke-width:4; stroke-opacity:1; fill:none\" points=\"1047.08,112.32 1047.08,1486.45 1085.38,1486.45 1085.38,112.32 1047.08,112.32 \"/>\n",
       "<path clip-path=\"url(#clip892)\" d=\"M1085.38 107.525 L1085.38 1486.45 L1123.68 1486.45 L1123.68 107.525 L1085.38 107.525 L1085.38 107.525  Z\" fill=\"#8be9fd\" fill-rule=\"evenodd\" fill-opacity=\"1\"/>\n",
       "<polyline clip-path=\"url(#clip892)\" style=\"stroke:#f8f8f2; stroke-linecap:round; stroke-linejoin:round; stroke-width:4; stroke-opacity:1; fill:none\" points=\"1085.38,107.525 1085.38,1486.45 1123.68,1486.45 1123.68,107.525 1085.38,107.525 \"/>\n",
       "<path clip-path=\"url(#clip892)\" d=\"M1123.68 88.3446 L1123.68 1486.45 L1161.99 1486.45 L1161.99 88.3446 L1123.68 88.3446 L1123.68 88.3446  Z\" fill=\"#8be9fd\" fill-rule=\"evenodd\" fill-opacity=\"1\"/>\n",
       "<polyline clip-path=\"url(#clip892)\" style=\"stroke:#f8f8f2; stroke-linecap:round; stroke-linejoin:round; stroke-width:4; stroke-opacity:1; fill:none\" points=\"1123.68,88.3446 1123.68,1486.45 1161.99,1486.45 1161.99,88.3446 1123.68,88.3446 \"/>\n",
       "<path clip-path=\"url(#clip892)\" d=\"M1161.99 128.76 L1161.99 1486.45 L1200.29 1486.45 L1200.29 128.76 L1161.99 128.76 L1161.99 128.76  Z\" fill=\"#8be9fd\" fill-rule=\"evenodd\" fill-opacity=\"1\"/>\n",
       "<polyline clip-path=\"url(#clip892)\" style=\"stroke:#f8f8f2; stroke-linecap:round; stroke-linejoin:round; stroke-width:4; stroke-opacity:1; fill:none\" points=\"1161.99,128.76 1161.99,1486.45 1200.29,1486.45 1200.29,128.76 1161.99,128.76 \"/>\n",
       "<path clip-path=\"url(#clip892)\" d=\"M1200.29 106.84 L1200.29 1486.45 L1238.59 1486.45 L1238.59 106.84 L1200.29 106.84 L1200.29 106.84  Z\" fill=\"#8be9fd\" fill-rule=\"evenodd\" fill-opacity=\"1\"/>\n",
       "<polyline clip-path=\"url(#clip892)\" style=\"stroke:#f8f8f2; stroke-linecap:round; stroke-linejoin:round; stroke-width:4; stroke-opacity:1; fill:none\" points=\"1200.29,106.84 1200.29,1486.45 1238.59,1486.45 1238.59,106.84 1200.29,106.84 \"/>\n",
       "<path clip-path=\"url(#clip892)\" d=\"M1238.59 133.555 L1238.59 1486.45 L1276.89 1486.45 L1276.89 133.555 L1238.59 133.555 L1238.59 133.555  Z\" fill=\"#8be9fd\" fill-rule=\"evenodd\" fill-opacity=\"1\"/>\n",
       "<polyline clip-path=\"url(#clip892)\" style=\"stroke:#f8f8f2; stroke-linecap:round; stroke-linejoin:round; stroke-width:4; stroke-opacity:1; fill:none\" points=\"1238.59,133.555 1238.59,1486.45 1276.89,1486.45 1276.89,133.555 1238.59,133.555 \"/>\n",
       "<path clip-path=\"url(#clip892)\" d=\"M1276.89 132.87 L1276.89 1486.45 L1315.19 1486.45 L1315.19 132.87 L1276.89 132.87 L1276.89 132.87  Z\" fill=\"#8be9fd\" fill-rule=\"evenodd\" fill-opacity=\"1\"/>\n",
       "<polyline clip-path=\"url(#clip892)\" style=\"stroke:#f8f8f2; stroke-linecap:round; stroke-linejoin:round; stroke-width:4; stroke-opacity:1; fill:none\" points=\"1276.89,132.87 1276.89,1486.45 1315.19,1486.45 1315.19,132.87 1276.89,132.87 \"/>\n",
       "<path clip-path=\"url(#clip892)\" d=\"M1315.19 180.821 L1315.19 1486.45 L1353.49 1486.45 L1353.49 180.821 L1315.19 180.821 L1315.19 180.821  Z\" fill=\"#8be9fd\" fill-rule=\"evenodd\" fill-opacity=\"1\"/>\n",
       "<polyline clip-path=\"url(#clip892)\" style=\"stroke:#f8f8f2; stroke-linecap:round; stroke-linejoin:round; stroke-width:4; stroke-opacity:1; fill:none\" points=\"1315.19,180.821 1315.19,1486.45 1353.49,1486.45 1353.49,180.821 1315.19,180.821 \"/>\n",
       "<path clip-path=\"url(#clip892)\" d=\"M1353.49 149.995 L1353.49 1486.45 L1391.79 1486.45 L1391.79 149.995 L1353.49 149.995 L1353.49 149.995  Z\" fill=\"#8be9fd\" fill-rule=\"evenodd\" fill-opacity=\"1\"/>\n",
       "<polyline clip-path=\"url(#clip892)\" style=\"stroke:#f8f8f2; stroke-linecap:round; stroke-linejoin:round; stroke-width:4; stroke-opacity:1; fill:none\" points=\"1353.49,149.995 1353.49,1486.45 1391.79,1486.45 1391.79,149.995 1353.49,149.995 \"/>\n",
       "<path clip-path=\"url(#clip892)\" d=\"M1391.79 133.555 L1391.79 1486.45 L1430.09 1486.45 L1430.09 133.555 L1391.79 133.555 L1391.79 133.555  Z\" fill=\"#8be9fd\" fill-rule=\"evenodd\" fill-opacity=\"1\"/>\n",
       "<polyline clip-path=\"url(#clip892)\" style=\"stroke:#f8f8f2; stroke-linecap:round; stroke-linejoin:round; stroke-width:4; stroke-opacity:1; fill:none\" points=\"1391.79,133.555 1391.79,1486.45 1430.09,1486.45 1430.09,133.555 1391.79,133.555 \"/>\n",
       "<path clip-path=\"url(#clip892)\" d=\"M1430.09 99.3048 L1430.09 1486.45 L1468.39 1486.45 L1468.39 99.3048 L1430.09 99.3048 L1430.09 99.3048  Z\" fill=\"#8be9fd\" fill-rule=\"evenodd\" fill-opacity=\"1\"/>\n",
       "<polyline clip-path=\"url(#clip892)\" style=\"stroke:#f8f8f2; stroke-linecap:round; stroke-linejoin:round; stroke-width:4; stroke-opacity:1; fill:none\" points=\"1430.09,99.3048 1430.09,1486.45 1468.39,1486.45 1468.39,99.3048 1430.09,99.3048 \"/>\n",
       "<path clip-path=\"url(#clip892)\" d=\"M1468.39 128.76 L1468.39 1486.45 L1506.69 1486.45 L1506.69 128.76 L1468.39 128.76 L1468.39 128.76  Z\" fill=\"#8be9fd\" fill-rule=\"evenodd\" fill-opacity=\"1\"/>\n",
       "<polyline clip-path=\"url(#clip892)\" style=\"stroke:#f8f8f2; stroke-linecap:round; stroke-linejoin:round; stroke-width:4; stroke-opacity:1; fill:none\" points=\"1468.39,128.76 1468.39,1486.45 1506.69,1486.45 1506.69,128.76 1468.39,128.76 \"/>\n",
       "<path clip-path=\"url(#clip892)\" d=\"M1506.69 124.65 L1506.69 1486.45 L1544.99 1486.45 L1544.99 124.65 L1506.69 124.65 L1506.69 124.65  Z\" fill=\"#8be9fd\" fill-rule=\"evenodd\" fill-opacity=\"1\"/>\n",
       "<polyline clip-path=\"url(#clip892)\" style=\"stroke:#f8f8f2; stroke-linecap:round; stroke-linejoin:round; stroke-width:4; stroke-opacity:1; fill:none\" points=\"1506.69,124.65 1506.69,1486.45 1544.99,1486.45 1544.99,124.65 1506.69,124.65 \"/>\n",
       "<path clip-path=\"url(#clip892)\" d=\"M1544.99 103.415 L1544.99 1486.45 L1583.29 1486.45 L1583.29 103.415 L1544.99 103.415 L1544.99 103.415  Z\" fill=\"#8be9fd\" fill-rule=\"evenodd\" fill-opacity=\"1\"/>\n",
       "<polyline clip-path=\"url(#clip892)\" style=\"stroke:#f8f8f2; stroke-linecap:round; stroke-linejoin:round; stroke-width:4; stroke-opacity:1; fill:none\" points=\"1544.99,103.415 1544.99,1486.45 1583.29,1486.45 1583.29,103.415 1544.99,103.415 \"/>\n",
       "<path clip-path=\"url(#clip892)\" d=\"M1583.29 109.58 L1583.29 1486.45 L1621.59 1486.45 L1621.59 109.58 L1583.29 109.58 L1583.29 109.58  Z\" fill=\"#8be9fd\" fill-rule=\"evenodd\" fill-opacity=\"1\"/>\n",
       "<polyline clip-path=\"url(#clip892)\" style=\"stroke:#f8f8f2; stroke-linecap:round; stroke-linejoin:round; stroke-width:4; stroke-opacity:1; fill:none\" points=\"1583.29,109.58 1583.29,1486.45 1621.59,1486.45 1621.59,109.58 1583.29,109.58 \"/>\n",
       "<path clip-path=\"url(#clip892)\" d=\"M1621.59 146.57 L1621.59 1486.45 L1659.9 1486.45 L1659.9 146.57 L1621.59 146.57 L1621.59 146.57  Z\" fill=\"#8be9fd\" fill-rule=\"evenodd\" fill-opacity=\"1\"/>\n",
       "<polyline clip-path=\"url(#clip892)\" style=\"stroke:#f8f8f2; stroke-linecap:round; stroke-linejoin:round; stroke-width:4; stroke-opacity:1; fill:none\" points=\"1621.59,146.57 1621.59,1486.45 1659.9,1486.45 1659.9,146.57 1621.59,146.57 \"/>\n",
       "<path clip-path=\"url(#clip892)\" d=\"M1659.9 149.995 L1659.9 1486.45 L1698.2 1486.45 L1698.2 149.995 L1659.9 149.995 L1659.9 149.995  Z\" fill=\"#8be9fd\" fill-rule=\"evenodd\" fill-opacity=\"1\"/>\n",
       "<polyline clip-path=\"url(#clip892)\" style=\"stroke:#f8f8f2; stroke-linecap:round; stroke-linejoin:round; stroke-width:4; stroke-opacity:1; fill:none\" points=\"1659.9,149.995 1659.9,1486.45 1698.2,1486.45 1698.2,149.995 1659.9,149.995 \"/>\n",
       "<path clip-path=\"url(#clip892)\" d=\"M1698.2 82.1796 L1698.2 1486.45 L1736.5 1486.45 L1736.5 82.1796 L1698.2 82.1796 L1698.2 82.1796  Z\" fill=\"#8be9fd\" fill-rule=\"evenodd\" fill-opacity=\"1\"/>\n",
       "<polyline clip-path=\"url(#clip892)\" style=\"stroke:#f8f8f2; stroke-linecap:round; stroke-linejoin:round; stroke-width:4; stroke-opacity:1; fill:none\" points=\"1698.2,82.1796 1698.2,1486.45 1736.5,1486.45 1736.5,82.1796 1698.2,82.1796 \"/>\n",
       "<path clip-path=\"url(#clip892)\" d=\"M1736.5 66.4243 L1736.5 1486.45 L1774.8 1486.45 L1774.8 66.4243 L1736.5 66.4243 L1736.5 66.4243  Z\" fill=\"#8be9fd\" fill-rule=\"evenodd\" fill-opacity=\"1\"/>\n",
       "<polyline clip-path=\"url(#clip892)\" style=\"stroke:#f8f8f2; stroke-linecap:round; stroke-linejoin:round; stroke-width:4; stroke-opacity:1; fill:none\" points=\"1736.5,66.4243 1736.5,1486.45 1774.8,1486.45 1774.8,66.4243 1736.5,66.4243 \"/>\n",
       "<path clip-path=\"url(#clip892)\" d=\"M1774.8 98.6198 L1774.8 1486.45 L1813.1 1486.45 L1813.1 98.6198 L1774.8 98.6198 L1774.8 98.6198  Z\" fill=\"#8be9fd\" fill-rule=\"evenodd\" fill-opacity=\"1\"/>\n",
       "<polyline clip-path=\"url(#clip892)\" style=\"stroke:#f8f8f2; stroke-linecap:round; stroke-linejoin:round; stroke-width:4; stroke-opacity:1; fill:none\" points=\"1774.8,98.6198 1774.8,1486.45 1813.1,1486.45 1813.1,98.6198 1774.8,98.6198 \"/>\n",
       "<path clip-path=\"url(#clip892)\" d=\"M1813.1 115.745 L1813.1 1486.45 L1851.4 1486.45 L1851.4 115.745 L1813.1 115.745 L1813.1 115.745  Z\" fill=\"#8be9fd\" fill-rule=\"evenodd\" fill-opacity=\"1\"/>\n",
       "<polyline clip-path=\"url(#clip892)\" style=\"stroke:#f8f8f2; stroke-linecap:round; stroke-linejoin:round; stroke-width:4; stroke-opacity:1; fill:none\" points=\"1813.1,115.745 1813.1,1486.45 1851.4,1486.45 1851.4,115.745 1813.1,115.745 \"/>\n",
       "<path clip-path=\"url(#clip892)\" d=\"M1851.4 114.375 L1851.4 1486.45 L1889.7 1486.45 L1889.7 114.375 L1851.4 114.375 L1851.4 114.375  Z\" fill=\"#8be9fd\" fill-rule=\"evenodd\" fill-opacity=\"1\"/>\n",
       "<polyline clip-path=\"url(#clip892)\" style=\"stroke:#f8f8f2; stroke-linecap:round; stroke-linejoin:round; stroke-width:4; stroke-opacity:1; fill:none\" points=\"1851.4,114.375 1851.4,1486.45 1889.7,1486.45 1889.7,114.375 1851.4,114.375 \"/>\n",
       "<path clip-path=\"url(#clip892)\" d=\"M1889.7 86.9746 L1889.7 1486.45 L1928 1486.45 L1928 86.9746 L1889.7 86.9746 L1889.7 86.9746  Z\" fill=\"#8be9fd\" fill-rule=\"evenodd\" fill-opacity=\"1\"/>\n",
       "<polyline clip-path=\"url(#clip892)\" style=\"stroke:#f8f8f2; stroke-linecap:round; stroke-linejoin:round; stroke-width:4; stroke-opacity:1; fill:none\" points=\"1889.7,86.9746 1889.7,1486.45 1928,1486.45 1928,86.9746 1889.7,86.9746 \"/>\n",
       "<path clip-path=\"url(#clip892)\" d=\"M1928 148.625 L1928 1486.45 L1966.3 1486.45 L1966.3 148.625 L1928 148.625 L1928 148.625  Z\" fill=\"#8be9fd\" fill-rule=\"evenodd\" fill-opacity=\"1\"/>\n",
       "<polyline clip-path=\"url(#clip892)\" style=\"stroke:#f8f8f2; stroke-linecap:round; stroke-linejoin:round; stroke-width:4; stroke-opacity:1; fill:none\" points=\"1928,148.625 1928,1486.45 1966.3,1486.45 1966.3,148.625 1928,148.625 \"/>\n",
       "<path clip-path=\"url(#clip892)\" d=\"M1966.3 152.05 L1966.3 1486.45 L2004.6 1486.45 L2004.6 152.05 L1966.3 152.05 L1966.3 152.05  Z\" fill=\"#8be9fd\" fill-rule=\"evenodd\" fill-opacity=\"1\"/>\n",
       "<polyline clip-path=\"url(#clip892)\" style=\"stroke:#f8f8f2; stroke-linecap:round; stroke-linejoin:round; stroke-width:4; stroke-opacity:1; fill:none\" points=\"1966.3,152.05 1966.3,1486.45 2004.6,1486.45 2004.6,152.05 1966.3,152.05 \"/>\n",
       "<path clip-path=\"url(#clip892)\" d=\"M2004.6 86.9746 L2004.6 1486.45 L2042.9 1486.45 L2042.9 86.9746 L2004.6 86.9746 L2004.6 86.9746  Z\" fill=\"#8be9fd\" fill-rule=\"evenodd\" fill-opacity=\"1\"/>\n",
       "<polyline clip-path=\"url(#clip892)\" style=\"stroke:#f8f8f2; stroke-linecap:round; stroke-linejoin:round; stroke-width:4; stroke-opacity:1; fill:none\" points=\"2004.6,86.9746 2004.6,1486.45 2042.9,1486.45 2042.9,86.9746 2004.6,86.9746 \"/>\n",
       "<path clip-path=\"url(#clip892)\" d=\"M2042.9 140.405 L2042.9 1486.45 L2081.2 1486.45 L2081.2 140.405 L2042.9 140.405 L2042.9 140.405  Z\" fill=\"#8be9fd\" fill-rule=\"evenodd\" fill-opacity=\"1\"/>\n",
       "<polyline clip-path=\"url(#clip892)\" style=\"stroke:#f8f8f2; stroke-linecap:round; stroke-linejoin:round; stroke-width:4; stroke-opacity:1; fill:none\" points=\"2042.9,140.405 2042.9,1486.45 2081.2,1486.45 2081.2,140.405 2042.9,140.405 \"/>\n",
       "<path clip-path=\"url(#clip892)\" d=\"M2081.2 149.31 L2081.2 1486.45 L2119.5 1486.45 L2119.5 149.31 L2081.2 149.31 L2081.2 149.31  Z\" fill=\"#8be9fd\" fill-rule=\"evenodd\" fill-opacity=\"1\"/>\n",
       "<polyline clip-path=\"url(#clip892)\" style=\"stroke:#f8f8f2; stroke-linecap:round; stroke-linejoin:round; stroke-width:4; stroke-opacity:1; fill:none\" points=\"2081.2,149.31 2081.2,1486.45 2119.5,1486.45 2119.5,149.31 2081.2,149.31 \"/>\n",
       "<path clip-path=\"url(#clip892)\" d=\"M2119.5 91.7697 L2119.5 1486.45 L2157.81 1486.45 L2157.81 91.7697 L2119.5 91.7697 L2119.5 91.7697  Z\" fill=\"#8be9fd\" fill-rule=\"evenodd\" fill-opacity=\"1\"/>\n",
       "<polyline clip-path=\"url(#clip892)\" style=\"stroke:#f8f8f2; stroke-linecap:round; stroke-linejoin:round; stroke-width:4; stroke-opacity:1; fill:none\" points=\"2119.5,91.7697 2119.5,1486.45 2157.81,1486.45 2157.81,91.7697 2119.5,91.7697 \"/>\n",
       "<path clip-path=\"url(#clip892)\" d=\"M2157.81 149.31 L2157.81 1486.45 L2196.11 1486.45 L2196.11 149.31 L2157.81 149.31 L2157.81 149.31  Z\" fill=\"#8be9fd\" fill-rule=\"evenodd\" fill-opacity=\"1\"/>\n",
       "<polyline clip-path=\"url(#clip892)\" style=\"stroke:#f8f8f2; stroke-linecap:round; stroke-linejoin:round; stroke-width:4; stroke-opacity:1; fill:none\" points=\"2157.81,149.31 2157.81,1486.45 2196.11,1486.45 2196.11,149.31 2157.81,149.31 \"/>\n",
       "<path clip-path=\"url(#clip892)\" d=\"M2196.11 84.9196 L2196.11 1486.45 L2234.41 1486.45 L2234.41 84.9196 L2196.11 84.9196 L2196.11 84.9196  Z\" fill=\"#8be9fd\" fill-rule=\"evenodd\" fill-opacity=\"1\"/>\n",
       "<polyline clip-path=\"url(#clip892)\" style=\"stroke:#f8f8f2; stroke-linecap:round; stroke-linejoin:round; stroke-width:4; stroke-opacity:1; fill:none\" points=\"2196.11,84.9196 2196.11,1486.45 2234.41,1486.45 2234.41,84.9196 2196.11,84.9196 \"/>\n",
       "<circle clip-path=\"url(#clip892)\" style=\"fill:#8be9fd; stroke:none; fill-opacity:0\" cx=\"338.519\" cy=\"82.8646\" r=\"2\"/>\n",
       "<circle clip-path=\"url(#clip892)\" style=\"fill:#8be9fd; stroke:none; fill-opacity:0\" cx=\"376.82\" cy=\"100.675\" r=\"2\"/>\n",
       "<circle clip-path=\"url(#clip892)\" style=\"fill:#8be9fd; stroke:none; fill-opacity:0\" cx=\"415.121\" cy=\"71.9044\" r=\"2\"/>\n",
       "<circle clip-path=\"url(#clip892)\" style=\"fill:#8be9fd; stroke:none; fill-opacity:0\" cx=\"453.421\" cy=\"108.21\" r=\"2\"/>\n",
       "<circle clip-path=\"url(#clip892)\" style=\"fill:#8be9fd; stroke:none; fill-opacity:0\" cx=\"491.722\" cy=\"99.3048\" r=\"2\"/>\n",
       "<circle clip-path=\"url(#clip892)\" style=\"fill:#8be9fd; stroke:none; fill-opacity:0\" cx=\"530.023\" cy=\"143.145\" r=\"2\"/>\n",
       "<circle clip-path=\"url(#clip892)\" style=\"fill:#8be9fd; stroke:none; fill-opacity:0\" cx=\"568.324\" cy=\"68.4794\" r=\"2\"/>\n",
       "<circle clip-path=\"url(#clip892)\" style=\"fill:#8be9fd; stroke:none; fill-opacity:0\" cx=\"606.624\" cy=\"140.405\" r=\"2\"/>\n",
       "<circle clip-path=\"url(#clip892)\" style=\"fill:#8be9fd; stroke:none; fill-opacity:0\" cx=\"644.925\" cy=\"148.625\" r=\"2\"/>\n",
       "<circle clip-path=\"url(#clip892)\" style=\"fill:#8be9fd; stroke:none; fill-opacity:0\" cx=\"683.226\" cy=\"130.815\" r=\"2\"/>\n",
       "<circle clip-path=\"url(#clip892)\" style=\"fill:#8be9fd; stroke:none; fill-opacity:0\" cx=\"721.527\" cy=\"144.515\" r=\"2\"/>\n",
       "<circle clip-path=\"url(#clip892)\" style=\"fill:#8be9fd; stroke:none; fill-opacity:0\" cx=\"759.827\" cy=\"63.6843\" r=\"2\"/>\n",
       "<circle clip-path=\"url(#clip892)\" style=\"fill:#8be9fd; stroke:none; fill-opacity:0\" cx=\"798.128\" cy=\"146.57\" r=\"2\"/>\n",
       "<circle clip-path=\"url(#clip892)\" style=\"fill:#8be9fd; stroke:none; fill-opacity:0\" cx=\"836.429\" cy=\"104.1\" r=\"2\"/>\n",
       "<circle clip-path=\"url(#clip892)\" style=\"fill:#8be9fd; stroke:none; fill-opacity:0\" cx=\"874.73\" cy=\"47.2441\" r=\"2\"/>\n",
       "<circle clip-path=\"url(#clip892)\" style=\"fill:#8be9fd; stroke:none; fill-opacity:0\" cx=\"913.03\" cy=\"150.68\" r=\"2\"/>\n",
       "<circle clip-path=\"url(#clip892)\" style=\"fill:#8be9fd; stroke:none; fill-opacity:0\" cx=\"951.331\" cy=\"110.265\" r=\"2\"/>\n",
       "<circle clip-path=\"url(#clip892)\" style=\"fill:#8be9fd; stroke:none; fill-opacity:0\" cx=\"989.632\" cy=\"111.635\" r=\"2\"/>\n",
       "<circle clip-path=\"url(#clip892)\" style=\"fill:#8be9fd; stroke:none; fill-opacity:0\" cx=\"1027.93\" cy=\"143.83\" r=\"2\"/>\n",
       "<circle clip-path=\"url(#clip892)\" style=\"fill:#8be9fd; stroke:none; fill-opacity:0\" cx=\"1066.23\" cy=\"112.32\" r=\"2\"/>\n",
       "<circle clip-path=\"url(#clip892)\" style=\"fill:#8be9fd; stroke:none; fill-opacity:0\" cx=\"1104.53\" cy=\"107.525\" r=\"2\"/>\n",
       "<circle clip-path=\"url(#clip892)\" style=\"fill:#8be9fd; stroke:none; fill-opacity:0\" cx=\"1142.83\" cy=\"88.3446\" r=\"2\"/>\n",
       "<circle clip-path=\"url(#clip892)\" style=\"fill:#8be9fd; stroke:none; fill-opacity:0\" cx=\"1181.14\" cy=\"128.76\" r=\"2\"/>\n",
       "<circle clip-path=\"url(#clip892)\" style=\"fill:#8be9fd; stroke:none; fill-opacity:0\" cx=\"1219.44\" cy=\"106.84\" r=\"2\"/>\n",
       "<circle clip-path=\"url(#clip892)\" style=\"fill:#8be9fd; stroke:none; fill-opacity:0\" cx=\"1257.74\" cy=\"133.555\" r=\"2\"/>\n",
       "<circle clip-path=\"url(#clip892)\" style=\"fill:#8be9fd; stroke:none; fill-opacity:0\" cx=\"1296.04\" cy=\"132.87\" r=\"2\"/>\n",
       "<circle clip-path=\"url(#clip892)\" style=\"fill:#8be9fd; stroke:none; fill-opacity:0\" cx=\"1334.34\" cy=\"180.821\" r=\"2\"/>\n",
       "<circle clip-path=\"url(#clip892)\" style=\"fill:#8be9fd; stroke:none; fill-opacity:0\" cx=\"1372.64\" cy=\"149.995\" r=\"2\"/>\n",
       "<circle clip-path=\"url(#clip892)\" style=\"fill:#8be9fd; stroke:none; fill-opacity:0\" cx=\"1410.94\" cy=\"133.555\" r=\"2\"/>\n",
       "<circle clip-path=\"url(#clip892)\" style=\"fill:#8be9fd; stroke:none; fill-opacity:0\" cx=\"1449.24\" cy=\"99.3048\" r=\"2\"/>\n",
       "<circle clip-path=\"url(#clip892)\" style=\"fill:#8be9fd; stroke:none; fill-opacity:0\" cx=\"1487.54\" cy=\"128.76\" r=\"2\"/>\n",
       "<circle clip-path=\"url(#clip892)\" style=\"fill:#8be9fd; stroke:none; fill-opacity:0\" cx=\"1525.84\" cy=\"124.65\" r=\"2\"/>\n",
       "<circle clip-path=\"url(#clip892)\" style=\"fill:#8be9fd; stroke:none; fill-opacity:0\" cx=\"1564.14\" cy=\"103.415\" r=\"2\"/>\n",
       "<circle clip-path=\"url(#clip892)\" style=\"fill:#8be9fd; stroke:none; fill-opacity:0\" cx=\"1602.44\" cy=\"109.58\" r=\"2\"/>\n",
       "<circle clip-path=\"url(#clip892)\" style=\"fill:#8be9fd; stroke:none; fill-opacity:0\" cx=\"1640.74\" cy=\"146.57\" r=\"2\"/>\n",
       "<circle clip-path=\"url(#clip892)\" style=\"fill:#8be9fd; stroke:none; fill-opacity:0\" cx=\"1679.05\" cy=\"149.995\" r=\"2\"/>\n",
       "<circle clip-path=\"url(#clip892)\" style=\"fill:#8be9fd; stroke:none; fill-opacity:0\" cx=\"1717.35\" cy=\"82.1796\" r=\"2\"/>\n",
       "<circle clip-path=\"url(#clip892)\" style=\"fill:#8be9fd; stroke:none; fill-opacity:0\" cx=\"1755.65\" cy=\"66.4243\" r=\"2\"/>\n",
       "<circle clip-path=\"url(#clip892)\" style=\"fill:#8be9fd; stroke:none; fill-opacity:0\" cx=\"1793.95\" cy=\"98.6198\" r=\"2\"/>\n",
       "<circle clip-path=\"url(#clip892)\" style=\"fill:#8be9fd; stroke:none; fill-opacity:0\" cx=\"1832.25\" cy=\"115.745\" r=\"2\"/>\n",
       "<circle clip-path=\"url(#clip892)\" style=\"fill:#8be9fd; stroke:none; fill-opacity:0\" cx=\"1870.55\" cy=\"114.375\" r=\"2\"/>\n",
       "<circle clip-path=\"url(#clip892)\" style=\"fill:#8be9fd; stroke:none; fill-opacity:0\" cx=\"1908.85\" cy=\"86.9746\" r=\"2\"/>\n",
       "<circle clip-path=\"url(#clip892)\" style=\"fill:#8be9fd; stroke:none; fill-opacity:0\" cx=\"1947.15\" cy=\"148.625\" r=\"2\"/>\n",
       "<circle clip-path=\"url(#clip892)\" style=\"fill:#8be9fd; stroke:none; fill-opacity:0\" cx=\"1985.45\" cy=\"152.05\" r=\"2\"/>\n",
       "<circle clip-path=\"url(#clip892)\" style=\"fill:#8be9fd; stroke:none; fill-opacity:0\" cx=\"2023.75\" cy=\"86.9746\" r=\"2\"/>\n",
       "<circle clip-path=\"url(#clip892)\" style=\"fill:#8be9fd; stroke:none; fill-opacity:0\" cx=\"2062.05\" cy=\"140.405\" r=\"2\"/>\n",
       "<circle clip-path=\"url(#clip892)\" style=\"fill:#8be9fd; stroke:none; fill-opacity:0\" cx=\"2100.35\" cy=\"149.31\" r=\"2\"/>\n",
       "<circle clip-path=\"url(#clip892)\" style=\"fill:#8be9fd; stroke:none; fill-opacity:0\" cx=\"2138.65\" cy=\"91.7697\" r=\"2\"/>\n",
       "<circle clip-path=\"url(#clip892)\" style=\"fill:#8be9fd; stroke:none; fill-opacity:0\" cx=\"2176.96\" cy=\"149.31\" r=\"2\"/>\n",
       "<circle clip-path=\"url(#clip892)\" style=\"fill:#8be9fd; stroke:none; fill-opacity:0\" cx=\"2215.26\" cy=\"84.9196\" r=\"2\"/>\n",
       "</svg>\n"
      ],
      "text/html": [
       "<?xml version=\"1.0\" encoding=\"utf-8\"?>\n",
       "<svg xmlns=\"http://www.w3.org/2000/svg\" xmlns:xlink=\"http://www.w3.org/1999/xlink\" width=\"600\" height=\"400\" viewBox=\"0 0 2400 1600\">\n",
       "<defs>\n",
       "  <clipPath id=\"clip940\">\n",
       "    <rect x=\"0\" y=\"0\" width=\"2400\" height=\"1600\"/>\n",
       "  </clipPath>\n",
       "</defs>\n",
       "<path clip-path=\"url(#clip940)\" d=\"M0 1600 L2400 1600 L2400 0 L0 0  Z\" fill=\"#282a36\" fill-rule=\"evenodd\" fill-opacity=\"1\"/>\n",
       "<defs>\n",
       "  <clipPath id=\"clip941\">\n",
       "    <rect x=\"480\" y=\"0\" width=\"1681\" height=\"1600\"/>\n",
       "  </clipPath>\n",
       "</defs>\n",
       "<path clip-path=\"url(#clip940)\" d=\"M201.019 1486.45 L2352.76 1486.45 L2352.76 47.2441 L201.019 47.2441  Z\" fill=\"#30343b\" fill-rule=\"evenodd\" fill-opacity=\"1\"/>\n",
       "<defs>\n",
       "  <clipPath id=\"clip942\">\n",
       "    <rect x=\"201\" y=\"47\" width=\"2153\" height=\"1440\"/>\n",
       "  </clipPath>\n",
       "</defs>\n",
       "<polyline clip-path=\"url(#clip942)\" style=\"stroke:#f8f8f2; stroke-linecap:round; stroke-linejoin:round; stroke-width:2; stroke-opacity:0.1; fill:none\" points=\"319.369,1486.45 319.369,47.2441 \"/>\n",
       "<polyline clip-path=\"url(#clip942)\" style=\"stroke:#f8f8f2; stroke-linecap:round; stroke-linejoin:round; stroke-width:2; stroke-opacity:0.1; fill:none\" points=\"798.128,1486.45 798.128,47.2441 \"/>\n",
       "<polyline clip-path=\"url(#clip942)\" style=\"stroke:#f8f8f2; stroke-linecap:round; stroke-linejoin:round; stroke-width:2; stroke-opacity:0.1; fill:none\" points=\"1276.89,1486.45 1276.89,47.2441 \"/>\n",
       "<polyline clip-path=\"url(#clip942)\" style=\"stroke:#f8f8f2; stroke-linecap:round; stroke-linejoin:round; stroke-width:2; stroke-opacity:0.1; fill:none\" points=\"1755.65,1486.45 1755.65,47.2441 \"/>\n",
       "<polyline clip-path=\"url(#clip942)\" style=\"stroke:#f8f8f2; stroke-linecap:round; stroke-linejoin:round; stroke-width:2; stroke-opacity:0.1; fill:none\" points=\"2234.41,1486.45 2234.41,47.2441 \"/>\n",
       "<polyline clip-path=\"url(#clip942)\" style=\"stroke:#f8f8f2; stroke-linecap:round; stroke-linejoin:round; stroke-width:2; stroke-opacity:0.1; fill:none\" points=\"201.019,1486.45 2352.76,1486.45 \"/>\n",
       "<polyline clip-path=\"url(#clip942)\" style=\"stroke:#f8f8f2; stroke-linecap:round; stroke-linejoin:round; stroke-width:2; stroke-opacity:0.1; fill:none\" points=\"201.019,1143.94 2352.76,1143.94 \"/>\n",
       "<polyline clip-path=\"url(#clip942)\" style=\"stroke:#f8f8f2; stroke-linecap:round; stroke-linejoin:round; stroke-width:2; stroke-opacity:0.1; fill:none\" points=\"201.019,801.439 2352.76,801.439 \"/>\n",
       "<polyline clip-path=\"url(#clip942)\" style=\"stroke:#f8f8f2; stroke-linecap:round; stroke-linejoin:round; stroke-width:2; stroke-opacity:0.1; fill:none\" points=\"201.019,458.934 2352.76,458.934 \"/>\n",
       "<polyline clip-path=\"url(#clip942)\" style=\"stroke:#f8f8f2; stroke-linecap:round; stroke-linejoin:round; stroke-width:2; stroke-opacity:0.1; fill:none\" points=\"201.019,116.43 2352.76,116.43 \"/>\n",
       "<polyline clip-path=\"url(#clip940)\" style=\"stroke:#f8f8f2; stroke-linecap:round; stroke-linejoin:round; stroke-width:4; stroke-opacity:1; fill:none\" points=\"201.019,1486.45 2352.76,1486.45 \"/>\n",
       "<polyline clip-path=\"url(#clip940)\" style=\"stroke:#f8f8f2; stroke-linecap:round; stroke-linejoin:round; stroke-width:4; stroke-opacity:1; fill:none\" points=\"319.369,1486.45 319.369,1467.55 \"/>\n",
       "<polyline clip-path=\"url(#clip940)\" style=\"stroke:#f8f8f2; stroke-linecap:round; stroke-linejoin:round; stroke-width:4; stroke-opacity:1; fill:none\" points=\"798.128,1486.45 798.128,1467.55 \"/>\n",
       "<polyline clip-path=\"url(#clip940)\" style=\"stroke:#f8f8f2; stroke-linecap:round; stroke-linejoin:round; stroke-width:4; stroke-opacity:1; fill:none\" points=\"1276.89,1486.45 1276.89,1467.55 \"/>\n",
       "<polyline clip-path=\"url(#clip940)\" style=\"stroke:#f8f8f2; stroke-linecap:round; stroke-linejoin:round; stroke-width:4; stroke-opacity:1; fill:none\" points=\"1755.65,1486.45 1755.65,1467.55 \"/>\n",
       "<polyline clip-path=\"url(#clip940)\" style=\"stroke:#f8f8f2; stroke-linecap:round; stroke-linejoin:round; stroke-width:4; stroke-opacity:1; fill:none\" points=\"2234.41,1486.45 2234.41,1467.55 \"/>\n",
       "<path clip-path=\"url(#clip940)\" d=\"M281.672 1517.37 Q278.061 1517.37 276.232 1520.93 Q274.427 1524.47 274.427 1531.6 Q274.427 1538.71 276.232 1542.27 Q278.061 1545.82 281.672 1545.82 Q285.306 1545.82 287.112 1542.27 Q288.941 1538.71 288.941 1531.6 Q288.941 1524.47 287.112 1520.93 Q285.306 1517.37 281.672 1517.37 M281.672 1513.66 Q287.482 1513.66 290.538 1518.27 Q293.616 1522.85 293.616 1531.6 Q293.616 1540.33 290.538 1544.94 Q287.482 1549.52 281.672 1549.52 Q275.862 1549.52 272.783 1544.94 Q269.728 1540.33 269.728 1531.6 Q269.728 1522.85 272.783 1518.27 Q275.862 1513.66 281.672 1513.66 Z\" fill=\"#f8f8f2\" fill-rule=\"nonzero\" fill-opacity=\"1\" /><path clip-path=\"url(#clip940)\" d=\"M301.834 1542.97 L306.718 1542.97 L306.718 1548.85 L301.834 1548.85 L301.834 1542.97 Z\" fill=\"#f8f8f2\" fill-rule=\"nonzero\" fill-opacity=\"1\" /><path clip-path=\"url(#clip940)\" d=\"M326.903 1517.37 Q323.292 1517.37 321.464 1520.93 Q319.658 1524.47 319.658 1531.6 Q319.658 1538.71 321.464 1542.27 Q323.292 1545.82 326.903 1545.82 Q330.538 1545.82 332.343 1542.27 Q334.172 1538.71 334.172 1531.6 Q334.172 1524.47 332.343 1520.93 Q330.538 1517.37 326.903 1517.37 M326.903 1513.66 Q332.713 1513.66 335.769 1518.27 Q338.848 1522.85 338.848 1531.6 Q338.848 1540.33 335.769 1544.94 Q332.713 1549.52 326.903 1549.52 Q321.093 1549.52 318.014 1544.94 Q314.959 1540.33 314.959 1531.6 Q314.959 1522.85 318.014 1518.27 Q321.093 1513.66 326.903 1513.66 Z\" fill=\"#f8f8f2\" fill-rule=\"nonzero\" fill-opacity=\"1\" /><path clip-path=\"url(#clip940)\" d=\"M357.065 1517.37 Q353.454 1517.37 351.625 1520.93 Q349.82 1524.47 349.82 1531.6 Q349.82 1538.71 351.625 1542.27 Q353.454 1545.82 357.065 1545.82 Q360.699 1545.82 362.505 1542.27 Q364.334 1538.71 364.334 1531.6 Q364.334 1524.47 362.505 1520.93 Q360.699 1517.37 357.065 1517.37 M357.065 1513.66 Q362.875 1513.66 365.931 1518.27 Q369.01 1522.85 369.01 1531.6 Q369.01 1540.33 365.931 1544.94 Q362.875 1549.52 357.065 1549.52 Q351.255 1549.52 348.176 1544.94 Q345.121 1540.33 345.121 1531.6 Q345.121 1522.85 348.176 1518.27 Q351.255 1513.66 357.065 1513.66 Z\" fill=\"#f8f8f2\" fill-rule=\"nonzero\" fill-opacity=\"1\" /><path clip-path=\"url(#clip940)\" d=\"M760.929 1517.37 Q757.318 1517.37 755.489 1520.93 Q753.684 1524.47 753.684 1531.6 Q753.684 1538.71 755.489 1542.27 Q757.318 1545.82 760.929 1545.82 Q764.563 1545.82 766.369 1542.27 Q768.198 1538.71 768.198 1531.6 Q768.198 1524.47 766.369 1520.93 Q764.563 1517.37 760.929 1517.37 M760.929 1513.66 Q766.739 1513.66 769.795 1518.27 Q772.874 1522.85 772.874 1531.6 Q772.874 1540.33 769.795 1544.94 Q766.739 1549.52 760.929 1549.52 Q755.119 1549.52 752.04 1544.94 Q748.985 1540.33 748.985 1531.6 Q748.985 1522.85 752.04 1518.27 Q755.119 1513.66 760.929 1513.66 Z\" fill=\"#f8f8f2\" fill-rule=\"nonzero\" fill-opacity=\"1\" /><path clip-path=\"url(#clip940)\" d=\"M781.091 1542.97 L785.975 1542.97 L785.975 1548.85 L781.091 1548.85 L781.091 1542.97 Z\" fill=\"#f8f8f2\" fill-rule=\"nonzero\" fill-opacity=\"1\" /><path clip-path=\"url(#clip940)\" d=\"M800.188 1544.91 L816.508 1544.91 L816.508 1548.85 L794.563 1548.85 L794.563 1544.91 Q797.225 1542.16 801.809 1537.53 Q806.415 1532.88 807.596 1531.53 Q809.841 1529.01 810.721 1527.27 Q811.623 1525.51 811.623 1523.82 Q811.623 1521.07 809.679 1519.33 Q807.758 1517.6 804.656 1517.6 Q802.457 1517.6 800.003 1518.36 Q797.573 1519.13 794.795 1520.68 L794.795 1515.95 Q797.619 1514.82 800.073 1514.24 Q802.526 1513.66 804.563 1513.66 Q809.934 1513.66 813.128 1516.35 Q816.322 1519.03 816.322 1523.52 Q816.322 1525.65 815.512 1527.57 Q814.725 1529.47 812.619 1532.07 Q812.04 1532.74 808.938 1535.95 Q805.836 1539.15 800.188 1544.91 Z\" fill=\"#f8f8f2\" fill-rule=\"nonzero\" fill-opacity=\"1\" /><path clip-path=\"url(#clip940)\" d=\"M826.369 1514.29 L844.725 1514.29 L844.725 1518.22 L830.651 1518.22 L830.651 1526.7 Q831.67 1526.35 832.688 1526.19 Q833.707 1526 834.725 1526 Q840.512 1526 843.892 1529.17 Q847.271 1532.34 847.271 1537.76 Q847.271 1543.34 843.799 1546.44 Q840.327 1549.52 834.008 1549.52 Q831.832 1549.52 829.563 1549.15 Q827.318 1548.78 824.91 1548.04 L824.91 1543.34 Q826.994 1544.47 829.216 1545.03 Q831.438 1545.58 833.915 1545.58 Q837.92 1545.58 840.258 1543.48 Q842.595 1541.37 842.595 1537.76 Q842.595 1534.15 840.258 1532.04 Q837.92 1529.94 833.915 1529.94 Q832.04 1529.94 830.165 1530.35 Q828.313 1530.77 826.369 1531.65 L826.369 1514.29 Z\" fill=\"#f8f8f2\" fill-rule=\"nonzero\" fill-opacity=\"1\" /><path clip-path=\"url(#clip940)\" d=\"M1239.19 1517.37 Q1235.58 1517.37 1233.75 1520.93 Q1231.95 1524.47 1231.95 1531.6 Q1231.95 1538.71 1233.75 1542.27 Q1235.58 1545.82 1239.19 1545.82 Q1242.83 1545.82 1244.63 1542.27 Q1246.46 1538.71 1246.46 1531.6 Q1246.46 1524.47 1244.63 1520.93 Q1242.83 1517.37 1239.19 1517.37 M1239.19 1513.66 Q1245 1513.66 1248.06 1518.27 Q1251.14 1522.85 1251.14 1531.6 Q1251.14 1540.33 1248.06 1544.94 Q1245 1549.52 1239.19 1549.52 Q1233.38 1549.52 1230.3 1544.94 Q1227.25 1540.33 1227.25 1531.6 Q1227.25 1522.85 1230.3 1518.27 Q1233.38 1513.66 1239.19 1513.66 Z\" fill=\"#f8f8f2\" fill-rule=\"nonzero\" fill-opacity=\"1\" /><path clip-path=\"url(#clip940)\" d=\"M1259.35 1542.97 L1264.24 1542.97 L1264.24 1548.85 L1259.35 1548.85 L1259.35 1542.97 Z\" fill=\"#f8f8f2\" fill-rule=\"nonzero\" fill-opacity=\"1\" /><path clip-path=\"url(#clip940)\" d=\"M1274.47 1514.29 L1292.83 1514.29 L1292.83 1518.22 L1278.75 1518.22 L1278.75 1526.7 Q1279.77 1526.35 1280.79 1526.19 Q1281.81 1526 1282.83 1526 Q1288.61 1526 1291.99 1529.17 Q1295.37 1532.34 1295.37 1537.76 Q1295.37 1543.34 1291.9 1546.44 Q1288.43 1549.52 1282.11 1549.52 Q1279.93 1549.52 1277.66 1549.15 Q1275.42 1548.78 1273.01 1548.04 L1273.01 1543.34 Q1275.09 1544.47 1277.32 1545.03 Q1279.54 1545.58 1282.01 1545.58 Q1286.02 1545.58 1288.36 1543.48 Q1290.7 1541.37 1290.7 1537.76 Q1290.7 1534.15 1288.36 1532.04 Q1286.02 1529.94 1282.01 1529.94 Q1280.14 1529.94 1278.26 1530.35 Q1276.41 1530.77 1274.47 1531.65 L1274.47 1514.29 Z\" fill=\"#f8f8f2\" fill-rule=\"nonzero\" fill-opacity=\"1\" /><path clip-path=\"url(#clip940)\" d=\"M1314.58 1517.37 Q1310.97 1517.37 1309.14 1520.93 Q1307.34 1524.47 1307.34 1531.6 Q1307.34 1538.71 1309.14 1542.27 Q1310.97 1545.82 1314.58 1545.82 Q1318.22 1545.82 1320.02 1542.27 Q1321.85 1538.71 1321.85 1531.6 Q1321.85 1524.47 1320.02 1520.93 Q1318.22 1517.37 1314.58 1517.37 M1314.58 1513.66 Q1320.39 1513.66 1323.45 1518.27 Q1326.53 1522.85 1326.53 1531.6 Q1326.53 1540.33 1323.45 1544.94 Q1320.39 1549.52 1314.58 1549.52 Q1308.77 1549.52 1305.7 1544.94 Q1302.64 1540.33 1302.64 1531.6 Q1302.64 1522.85 1305.7 1518.27 Q1308.77 1513.66 1314.58 1513.66 Z\" fill=\"#f8f8f2\" fill-rule=\"nonzero\" fill-opacity=\"1\" /><path clip-path=\"url(#clip940)\" d=\"M1718.45 1517.37 Q1714.84 1517.37 1713.01 1520.93 Q1711.2 1524.47 1711.2 1531.6 Q1711.2 1538.71 1713.01 1542.27 Q1714.84 1545.82 1718.45 1545.82 Q1722.08 1545.82 1723.89 1542.27 Q1725.72 1538.71 1725.72 1531.6 Q1725.72 1524.47 1723.89 1520.93 Q1722.08 1517.37 1718.45 1517.37 M1718.45 1513.66 Q1724.26 1513.66 1727.31 1518.27 Q1730.39 1522.85 1730.39 1531.6 Q1730.39 1540.33 1727.31 1544.94 Q1724.26 1549.52 1718.45 1549.52 Q1712.64 1549.52 1709.56 1544.94 Q1706.5 1540.33 1706.5 1531.6 Q1706.5 1522.85 1709.56 1518.27 Q1712.64 1513.66 1718.45 1513.66 Z\" fill=\"#f8f8f2\" fill-rule=\"nonzero\" fill-opacity=\"1\" /><path clip-path=\"url(#clip940)\" d=\"M1738.61 1542.97 L1743.49 1542.97 L1743.49 1548.85 L1738.61 1548.85 L1738.61 1542.97 Z\" fill=\"#f8f8f2\" fill-rule=\"nonzero\" fill-opacity=\"1\" /><path clip-path=\"url(#clip940)\" d=\"M1752.5 1514.29 L1774.72 1514.29 L1774.72 1516.28 L1762.17 1548.85 L1757.29 1548.85 L1769.1 1518.22 L1752.5 1518.22 L1752.5 1514.29 Z\" fill=\"#f8f8f2\" fill-rule=\"nonzero\" fill-opacity=\"1\" /><path clip-path=\"url(#clip940)\" d=\"M1783.89 1514.29 L1802.24 1514.29 L1802.24 1518.22 L1788.17 1518.22 L1788.17 1526.7 Q1789.19 1526.35 1790.21 1526.19 Q1791.23 1526 1792.24 1526 Q1798.03 1526 1801.41 1529.17 Q1804.79 1532.34 1804.79 1537.76 Q1804.79 1543.34 1801.32 1546.44 Q1797.85 1549.52 1791.53 1549.52 Q1789.35 1549.52 1787.08 1549.15 Q1784.84 1548.78 1782.43 1548.04 L1782.43 1543.34 Q1784.51 1544.47 1786.73 1545.03 Q1788.96 1545.58 1791.43 1545.58 Q1795.44 1545.58 1797.78 1543.48 Q1800.11 1541.37 1800.11 1537.76 Q1800.11 1534.15 1797.78 1532.04 Q1795.44 1529.94 1791.43 1529.94 Q1789.56 1529.94 1787.68 1530.35 Q1785.83 1530.77 1783.89 1531.65 L1783.89 1514.29 Z\" fill=\"#f8f8f2\" fill-rule=\"nonzero\" fill-opacity=\"1\" /><path clip-path=\"url(#clip940)\" d=\"M2186.48 1544.91 L2194.12 1544.91 L2194.12 1518.55 L2185.81 1520.21 L2185.81 1515.95 L2194.07 1514.29 L2198.75 1514.29 L2198.75 1544.91 L2206.39 1544.91 L2206.39 1548.85 L2186.48 1548.85 L2186.48 1544.91 Z\" fill=\"#f8f8f2\" fill-rule=\"nonzero\" fill-opacity=\"1\" /><path clip-path=\"url(#clip940)\" d=\"M2215.83 1542.97 L2220.71 1542.97 L2220.71 1548.85 L2215.83 1548.85 L2215.83 1542.97 Z\" fill=\"#f8f8f2\" fill-rule=\"nonzero\" fill-opacity=\"1\" /><path clip-path=\"url(#clip940)\" d=\"M2240.9 1517.37 Q2237.29 1517.37 2235.46 1520.93 Q2233.65 1524.47 2233.65 1531.6 Q2233.65 1538.71 2235.46 1542.27 Q2237.29 1545.82 2240.9 1545.82 Q2244.53 1545.82 2246.34 1542.27 Q2248.17 1538.71 2248.17 1531.6 Q2248.17 1524.47 2246.34 1520.93 Q2244.53 1517.37 2240.9 1517.37 M2240.9 1513.66 Q2246.71 1513.66 2249.77 1518.27 Q2252.84 1522.85 2252.84 1531.6 Q2252.84 1540.33 2249.77 1544.94 Q2246.71 1549.52 2240.9 1549.52 Q2235.09 1549.52 2232.01 1544.94 Q2228.96 1540.33 2228.96 1531.6 Q2228.96 1522.85 2232.01 1518.27 Q2235.09 1513.66 2240.9 1513.66 Z\" fill=\"#f8f8f2\" fill-rule=\"nonzero\" fill-opacity=\"1\" /><path clip-path=\"url(#clip940)\" d=\"M2271.06 1517.37 Q2267.45 1517.37 2265.62 1520.93 Q2263.82 1524.47 2263.82 1531.6 Q2263.82 1538.71 2265.62 1542.27 Q2267.45 1545.82 2271.06 1545.82 Q2274.7 1545.82 2276.5 1542.27 Q2278.33 1538.71 2278.33 1531.6 Q2278.33 1524.47 2276.5 1520.93 Q2274.7 1517.37 2271.06 1517.37 M2271.06 1513.66 Q2276.87 1513.66 2279.93 1518.27 Q2283.01 1522.85 2283.01 1531.6 Q2283.01 1540.33 2279.93 1544.94 Q2276.87 1549.52 2271.06 1549.52 Q2265.25 1549.52 2262.17 1544.94 Q2259.12 1540.33 2259.12 1531.6 Q2259.12 1522.85 2262.17 1518.27 Q2265.25 1513.66 2271.06 1513.66 Z\" fill=\"#f8f8f2\" fill-rule=\"nonzero\" fill-opacity=\"1\" /><polyline clip-path=\"url(#clip940)\" style=\"stroke:#f8f8f2; stroke-linecap:round; stroke-linejoin:round; stroke-width:4; stroke-opacity:1; fill:none\" points=\"201.019,1486.45 201.019,47.2441 \"/>\n",
       "<polyline clip-path=\"url(#clip940)\" style=\"stroke:#f8f8f2; stroke-linecap:round; stroke-linejoin:round; stroke-width:4; stroke-opacity:1; fill:none\" points=\"201.019,1486.45 219.917,1486.45 \"/>\n",
       "<polyline clip-path=\"url(#clip940)\" style=\"stroke:#f8f8f2; stroke-linecap:round; stroke-linejoin:round; stroke-width:4; stroke-opacity:1; fill:none\" points=\"201.019,1143.94 219.917,1143.94 \"/>\n",
       "<polyline clip-path=\"url(#clip940)\" style=\"stroke:#f8f8f2; stroke-linecap:round; stroke-linejoin:round; stroke-width:4; stroke-opacity:1; fill:none\" points=\"201.019,801.439 219.917,801.439 \"/>\n",
       "<polyline clip-path=\"url(#clip940)\" style=\"stroke:#f8f8f2; stroke-linecap:round; stroke-linejoin:round; stroke-width:4; stroke-opacity:1; fill:none\" points=\"201.019,458.934 219.917,458.934 \"/>\n",
       "<polyline clip-path=\"url(#clip940)\" style=\"stroke:#f8f8f2; stroke-linecap:round; stroke-linejoin:round; stroke-width:4; stroke-opacity:1; fill:none\" points=\"201.019,116.43 219.917,116.43 \"/>\n",
       "<path clip-path=\"url(#clip940)\" d=\"M153.075 1472.25 Q149.464 1472.25 147.635 1475.81 Q145.83 1479.35 145.83 1486.48 Q145.83 1493.59 147.635 1497.15 Q149.464 1500.7 153.075 1500.7 Q156.709 1500.7 158.515 1497.15 Q160.343 1493.59 160.343 1486.48 Q160.343 1479.35 158.515 1475.81 Q156.709 1472.25 153.075 1472.25 M153.075 1468.54 Q158.885 1468.54 161.941 1473.15 Q165.019 1477.73 165.019 1486.48 Q165.019 1495.21 161.941 1499.82 Q158.885 1504.4 153.075 1504.4 Q147.265 1504.4 144.186 1499.82 Q141.131 1495.21 141.131 1486.48 Q141.131 1477.73 144.186 1473.15 Q147.265 1468.54 153.075 1468.54 Z\" fill=\"#f8f8f2\" fill-rule=\"nonzero\" fill-opacity=\"1\" /><path clip-path=\"url(#clip940)\" d=\"M82.7975 1126.66 L101.154 1126.66 L101.154 1130.6 L87.0799 1130.6 L87.0799 1139.07 Q88.0984 1138.72 89.1169 1138.56 Q90.1354 1138.38 91.1539 1138.38 Q96.941 1138.38 100.321 1141.55 Q103.7 1144.72 103.7 1150.14 Q103.7 1155.71 100.228 1158.82 Q96.7558 1161.89 90.4364 1161.89 Q88.2604 1161.89 85.9919 1161.52 Q83.7466 1161.15 81.3392 1160.41 L81.3392 1155.71 Q83.4225 1156.85 85.6447 1157.4 Q87.8669 1157.96 90.3438 1157.96 Q94.3484 1157.96 96.6863 1155.85 Q99.0243 1153.75 99.0243 1150.14 Q99.0243 1146.52 96.6863 1144.42 Q94.3484 1142.31 90.3438 1142.31 Q88.4688 1142.31 86.5938 1142.73 Q84.7419 1143.14 82.7975 1144.02 L82.7975 1126.66 Z\" fill=\"#f8f8f2\" fill-rule=\"nonzero\" fill-opacity=\"1\" /><path clip-path=\"url(#clip940)\" d=\"M122.913 1129.74 Q119.302 1129.74 117.473 1133.31 Q115.668 1136.85 115.668 1143.98 Q115.668 1151.08 117.473 1154.65 Q119.302 1158.19 122.913 1158.19 Q126.547 1158.19 128.353 1154.65 Q130.182 1151.08 130.182 1143.98 Q130.182 1136.85 128.353 1133.31 Q126.547 1129.74 122.913 1129.74 M122.913 1126.04 Q128.723 1126.04 131.779 1130.64 Q134.857 1135.23 134.857 1143.98 Q134.857 1152.7 131.779 1157.31 Q128.723 1161.89 122.913 1161.89 Q117.103 1161.89 114.024 1157.31 Q110.969 1152.7 110.969 1143.98 Q110.969 1135.23 114.024 1130.64 Q117.103 1126.04 122.913 1126.04 Z\" fill=\"#f8f8f2\" fill-rule=\"nonzero\" fill-opacity=\"1\" /><path clip-path=\"url(#clip940)\" d=\"M153.075 1129.74 Q149.464 1129.74 147.635 1133.31 Q145.83 1136.85 145.83 1143.98 Q145.83 1151.08 147.635 1154.65 Q149.464 1158.19 153.075 1158.19 Q156.709 1158.19 158.515 1154.65 Q160.343 1151.08 160.343 1143.98 Q160.343 1136.85 158.515 1133.31 Q156.709 1129.74 153.075 1129.74 M153.075 1126.04 Q158.885 1126.04 161.941 1130.64 Q165.019 1135.23 165.019 1143.98 Q165.019 1152.7 161.941 1157.31 Q158.885 1161.89 153.075 1161.89 Q147.265 1161.89 144.186 1157.31 Q141.131 1152.7 141.131 1143.98 Q141.131 1135.23 144.186 1130.64 Q147.265 1126.04 153.075 1126.04 Z\" fill=\"#f8f8f2\" fill-rule=\"nonzero\" fill-opacity=\"1\" /><path clip-path=\"url(#clip940)\" d=\"M53.3995 814.784 L61.0384 814.784 L61.0384 788.418 L52.7282 790.085 L52.7282 785.826 L60.9921 784.159 L65.668 784.159 L65.668 814.784 L73.3068 814.784 L73.3068 818.719 L53.3995 818.719 L53.3995 814.784 Z\" fill=\"#f8f8f2\" fill-rule=\"nonzero\" fill-opacity=\"1\" /><path clip-path=\"url(#clip940)\" d=\"M92.7512 787.238 Q89.1401 787.238 87.3114 790.802 Q85.5058 794.344 85.5058 801.474 Q85.5058 808.58 87.3114 812.145 Q89.1401 815.687 92.7512 815.687 Q96.3854 815.687 98.1909 812.145 Q100.02 808.58 100.02 801.474 Q100.02 794.344 98.1909 790.802 Q96.3854 787.238 92.7512 787.238 M92.7512 783.534 Q98.5613 783.534 101.617 788.14 Q104.696 792.724 104.696 801.474 Q104.696 810.2 101.617 814.807 Q98.5613 819.39 92.7512 819.39 Q86.941 819.39 83.8623 814.807 Q80.8068 810.2 80.8068 801.474 Q80.8068 792.724 83.8623 788.14 Q86.941 783.534 92.7512 783.534 Z\" fill=\"#f8f8f2\" fill-rule=\"nonzero\" fill-opacity=\"1\" /><path clip-path=\"url(#clip940)\" d=\"M122.913 787.238 Q119.302 787.238 117.473 790.802 Q115.668 794.344 115.668 801.474 Q115.668 808.58 117.473 812.145 Q119.302 815.687 122.913 815.687 Q126.547 815.687 128.353 812.145 Q130.182 808.58 130.182 801.474 Q130.182 794.344 128.353 790.802 Q126.547 787.238 122.913 787.238 M122.913 783.534 Q128.723 783.534 131.779 788.14 Q134.857 792.724 134.857 801.474 Q134.857 810.2 131.779 814.807 Q128.723 819.39 122.913 819.39 Q117.103 819.39 114.024 814.807 Q110.969 810.2 110.969 801.474 Q110.969 792.724 114.024 788.14 Q117.103 783.534 122.913 783.534 Z\" fill=\"#f8f8f2\" fill-rule=\"nonzero\" fill-opacity=\"1\" /><path clip-path=\"url(#clip940)\" d=\"M153.075 787.238 Q149.464 787.238 147.635 790.802 Q145.83 794.344 145.83 801.474 Q145.83 808.58 147.635 812.145 Q149.464 815.687 153.075 815.687 Q156.709 815.687 158.515 812.145 Q160.343 808.58 160.343 801.474 Q160.343 794.344 158.515 790.802 Q156.709 787.238 153.075 787.238 M153.075 783.534 Q158.885 783.534 161.941 788.14 Q165.019 792.724 165.019 801.474 Q165.019 810.2 161.941 814.807 Q158.885 819.39 153.075 819.39 Q147.265 819.39 144.186 814.807 Q141.131 810.2 141.131 801.474 Q141.131 792.724 144.186 788.14 Q147.265 783.534 153.075 783.534 Z\" fill=\"#f8f8f2\" fill-rule=\"nonzero\" fill-opacity=\"1\" /><path clip-path=\"url(#clip940)\" d=\"M53.3995 472.279 L61.0384 472.279 L61.0384 445.914 L52.7282 447.58 L52.7282 443.321 L60.9921 441.654 L65.668 441.654 L65.668 472.279 L73.3068 472.279 L73.3068 476.214 L53.3995 476.214 L53.3995 472.279 Z\" fill=\"#f8f8f2\" fill-rule=\"nonzero\" fill-opacity=\"1\" /><path clip-path=\"url(#clip940)\" d=\"M82.7975 441.654 L101.154 441.654 L101.154 445.59 L87.0799 445.59 L87.0799 454.062 Q88.0984 453.715 89.1169 453.553 Q90.1354 453.367 91.1539 453.367 Q96.941 453.367 100.321 456.539 Q103.7 459.71 103.7 465.127 Q103.7 470.705 100.228 473.807 Q96.7558 476.886 90.4364 476.886 Q88.2604 476.886 85.9919 476.515 Q83.7466 476.145 81.3392 475.404 L81.3392 470.705 Q83.4225 471.839 85.6447 472.395 Q87.8669 472.951 90.3438 472.951 Q94.3484 472.951 96.6863 470.844 Q99.0243 468.738 99.0243 465.127 Q99.0243 461.515 96.6863 459.409 Q94.3484 457.303 90.3438 457.303 Q88.4688 457.303 86.5938 457.719 Q84.7419 458.136 82.7975 459.015 L82.7975 441.654 Z\" fill=\"#f8f8f2\" fill-rule=\"nonzero\" fill-opacity=\"1\" /><path clip-path=\"url(#clip940)\" d=\"M122.913 444.733 Q119.302 444.733 117.473 448.298 Q115.668 451.84 115.668 458.969 Q115.668 466.076 117.473 469.64 Q119.302 473.182 122.913 473.182 Q126.547 473.182 128.353 469.64 Q130.182 466.076 130.182 458.969 Q130.182 451.84 128.353 448.298 Q126.547 444.733 122.913 444.733 M122.913 441.029 Q128.723 441.029 131.779 445.636 Q134.857 450.219 134.857 458.969 Q134.857 467.696 131.779 472.302 Q128.723 476.886 122.913 476.886 Q117.103 476.886 114.024 472.302 Q110.969 467.696 110.969 458.969 Q110.969 450.219 114.024 445.636 Q117.103 441.029 122.913 441.029 Z\" fill=\"#f8f8f2\" fill-rule=\"nonzero\" fill-opacity=\"1\" /><path clip-path=\"url(#clip940)\" d=\"M153.075 444.733 Q149.464 444.733 147.635 448.298 Q145.83 451.84 145.83 458.969 Q145.83 466.076 147.635 469.64 Q149.464 473.182 153.075 473.182 Q156.709 473.182 158.515 469.64 Q160.343 466.076 160.343 458.969 Q160.343 451.84 158.515 448.298 Q156.709 444.733 153.075 444.733 M153.075 441.029 Q158.885 441.029 161.941 445.636 Q165.019 450.219 165.019 458.969 Q165.019 467.696 161.941 472.302 Q158.885 476.886 153.075 476.886 Q147.265 476.886 144.186 472.302 Q141.131 467.696 141.131 458.969 Q141.131 450.219 144.186 445.636 Q147.265 441.029 153.075 441.029 Z\" fill=\"#f8f8f2\" fill-rule=\"nonzero\" fill-opacity=\"1\" /><path clip-path=\"url(#clip940)\" d=\"M56.6171 129.775 L72.9365 129.775 L72.9365 133.71 L50.9921 133.71 L50.9921 129.775 Q53.6541 127.02 58.2375 122.391 Q62.8439 117.738 64.0245 116.395 Q66.2698 113.872 67.1494 112.136 Q68.0522 110.377 68.0522 108.687 Q68.0522 105.932 66.1078 104.196 Q64.1865 102.46 61.0847 102.46 Q58.8856 102.46 56.4319 103.224 Q54.0014 103.988 51.2236 105.539 L51.2236 100.817 Q54.0477 99.6824 56.5014 99.1037 Q58.955 98.525 60.9921 98.525 Q66.3624 98.525 69.5568 101.21 Q72.7513 103.895 72.7513 108.386 Q72.7513 110.516 71.9411 112.437 Q71.1541 114.335 69.0476 116.928 Q68.4689 117.599 65.367 120.817 Q62.2652 124.011 56.6171 129.775 Z\" fill=\"#f8f8f2\" fill-rule=\"nonzero\" fill-opacity=\"1\" /><path clip-path=\"url(#clip940)\" d=\"M92.7512 102.229 Q89.1401 102.229 87.3114 105.793 Q85.5058 109.335 85.5058 116.465 Q85.5058 123.571 87.3114 127.136 Q89.1401 130.678 92.7512 130.678 Q96.3854 130.678 98.1909 127.136 Q100.02 123.571 100.02 116.465 Q100.02 109.335 98.1909 105.793 Q96.3854 102.229 92.7512 102.229 M92.7512 98.525 Q98.5613 98.525 101.617 103.131 Q104.696 107.715 104.696 116.465 Q104.696 125.192 101.617 129.798 Q98.5613 134.381 92.7512 134.381 Q86.941 134.381 83.8623 129.798 Q80.8068 125.192 80.8068 116.465 Q80.8068 107.715 83.8623 103.131 Q86.941 98.525 92.7512 98.525 Z\" fill=\"#f8f8f2\" fill-rule=\"nonzero\" fill-opacity=\"1\" /><path clip-path=\"url(#clip940)\" d=\"M122.913 102.229 Q119.302 102.229 117.473 105.793 Q115.668 109.335 115.668 116.465 Q115.668 123.571 117.473 127.136 Q119.302 130.678 122.913 130.678 Q126.547 130.678 128.353 127.136 Q130.182 123.571 130.182 116.465 Q130.182 109.335 128.353 105.793 Q126.547 102.229 122.913 102.229 M122.913 98.525 Q128.723 98.525 131.779 103.131 Q134.857 107.715 134.857 116.465 Q134.857 125.192 131.779 129.798 Q128.723 134.381 122.913 134.381 Q117.103 134.381 114.024 129.798 Q110.969 125.192 110.969 116.465 Q110.969 107.715 114.024 103.131 Q117.103 98.525 122.913 98.525 Z\" fill=\"#f8f8f2\" fill-rule=\"nonzero\" fill-opacity=\"1\" /><path clip-path=\"url(#clip940)\" d=\"M153.075 102.229 Q149.464 102.229 147.635 105.793 Q145.83 109.335 145.83 116.465 Q145.83 123.571 147.635 127.136 Q149.464 130.678 153.075 130.678 Q156.709 130.678 158.515 127.136 Q160.343 123.571 160.343 116.465 Q160.343 109.335 158.515 105.793 Q156.709 102.229 153.075 102.229 M153.075 98.525 Q158.885 98.525 161.941 103.131 Q165.019 107.715 165.019 116.465 Q165.019 125.192 161.941 129.798 Q158.885 134.381 153.075 134.381 Q147.265 134.381 144.186 129.798 Q141.131 125.192 141.131 116.465 Q141.131 107.715 144.186 103.131 Q147.265 98.525 153.075 98.525 Z\" fill=\"#f8f8f2\" fill-rule=\"nonzero\" fill-opacity=\"1\" /><path clip-path=\"url(#clip942)\" d=\"M319.369 82.8646 L319.369 1486.45 L357.669 1486.45 L357.669 82.8646 L319.369 82.8646 L319.369 82.8646  Z\" fill=\"#8be9fd\" fill-rule=\"evenodd\" fill-opacity=\"1\"/>\n",
       "<polyline clip-path=\"url(#clip942)\" style=\"stroke:#f8f8f2; stroke-linecap:round; stroke-linejoin:round; stroke-width:4; stroke-opacity:1; fill:none\" points=\"319.369,82.8646 319.369,1486.45 357.669,1486.45 357.669,82.8646 319.369,82.8646 \"/>\n",
       "<path clip-path=\"url(#clip942)\" d=\"M357.669 100.675 L357.669 1486.45 L395.97 1486.45 L395.97 100.675 L357.669 100.675 L357.669 100.675  Z\" fill=\"#8be9fd\" fill-rule=\"evenodd\" fill-opacity=\"1\"/>\n",
       "<polyline clip-path=\"url(#clip942)\" style=\"stroke:#f8f8f2; stroke-linecap:round; stroke-linejoin:round; stroke-width:4; stroke-opacity:1; fill:none\" points=\"357.669,100.675 357.669,1486.45 395.97,1486.45 395.97,100.675 357.669,100.675 \"/>\n",
       "<path clip-path=\"url(#clip942)\" d=\"M395.97 71.9044 L395.97 1486.45 L434.271 1486.45 L434.271 71.9044 L395.97 71.9044 L395.97 71.9044  Z\" fill=\"#8be9fd\" fill-rule=\"evenodd\" fill-opacity=\"1\"/>\n",
       "<polyline clip-path=\"url(#clip942)\" style=\"stroke:#f8f8f2; stroke-linecap:round; stroke-linejoin:round; stroke-width:4; stroke-opacity:1; fill:none\" points=\"395.97,71.9044 395.97,1486.45 434.271,1486.45 434.271,71.9044 395.97,71.9044 \"/>\n",
       "<path clip-path=\"url(#clip942)\" d=\"M434.271 108.21 L434.271 1486.45 L472.572 1486.45 L472.572 108.21 L434.271 108.21 L434.271 108.21  Z\" fill=\"#8be9fd\" fill-rule=\"evenodd\" fill-opacity=\"1\"/>\n",
       "<polyline clip-path=\"url(#clip942)\" style=\"stroke:#f8f8f2; stroke-linecap:round; stroke-linejoin:round; stroke-width:4; stroke-opacity:1; fill:none\" points=\"434.271,108.21 434.271,1486.45 472.572,1486.45 472.572,108.21 434.271,108.21 \"/>\n",
       "<path clip-path=\"url(#clip942)\" d=\"M472.572 99.3048 L472.572 1486.45 L510.872 1486.45 L510.872 99.3048 L472.572 99.3048 L472.572 99.3048  Z\" fill=\"#8be9fd\" fill-rule=\"evenodd\" fill-opacity=\"1\"/>\n",
       "<polyline clip-path=\"url(#clip942)\" style=\"stroke:#f8f8f2; stroke-linecap:round; stroke-linejoin:round; stroke-width:4; stroke-opacity:1; fill:none\" points=\"472.572,99.3048 472.572,1486.45 510.872,1486.45 510.872,99.3048 472.572,99.3048 \"/>\n",
       "<path clip-path=\"url(#clip942)\" d=\"M510.872 143.145 L510.872 1486.45 L549.173 1486.45 L549.173 143.145 L510.872 143.145 L510.872 143.145  Z\" fill=\"#8be9fd\" fill-rule=\"evenodd\" fill-opacity=\"1\"/>\n",
       "<polyline clip-path=\"url(#clip942)\" style=\"stroke:#f8f8f2; stroke-linecap:round; stroke-linejoin:round; stroke-width:4; stroke-opacity:1; fill:none\" points=\"510.872,143.145 510.872,1486.45 549.173,1486.45 549.173,143.145 510.872,143.145 \"/>\n",
       "<path clip-path=\"url(#clip942)\" d=\"M549.173 68.4794 L549.173 1486.45 L587.474 1486.45 L587.474 68.4794 L549.173 68.4794 L549.173 68.4794  Z\" fill=\"#8be9fd\" fill-rule=\"evenodd\" fill-opacity=\"1\"/>\n",
       "<polyline clip-path=\"url(#clip942)\" style=\"stroke:#f8f8f2; stroke-linecap:round; stroke-linejoin:round; stroke-width:4; stroke-opacity:1; fill:none\" points=\"549.173,68.4794 549.173,1486.45 587.474,1486.45 587.474,68.4794 549.173,68.4794 \"/>\n",
       "<path clip-path=\"url(#clip942)\" d=\"M587.474 140.405 L587.474 1486.45 L625.775 1486.45 L625.775 140.405 L587.474 140.405 L587.474 140.405  Z\" fill=\"#8be9fd\" fill-rule=\"evenodd\" fill-opacity=\"1\"/>\n",
       "<polyline clip-path=\"url(#clip942)\" style=\"stroke:#f8f8f2; stroke-linecap:round; stroke-linejoin:round; stroke-width:4; stroke-opacity:1; fill:none\" points=\"587.474,140.405 587.474,1486.45 625.775,1486.45 625.775,140.405 587.474,140.405 \"/>\n",
       "<path clip-path=\"url(#clip942)\" d=\"M625.775 148.625 L625.775 1486.45 L664.075 1486.45 L664.075 148.625 L625.775 148.625 L625.775 148.625  Z\" fill=\"#8be9fd\" fill-rule=\"evenodd\" fill-opacity=\"1\"/>\n",
       "<polyline clip-path=\"url(#clip942)\" style=\"stroke:#f8f8f2; stroke-linecap:round; stroke-linejoin:round; stroke-width:4; stroke-opacity:1; fill:none\" points=\"625.775,148.625 625.775,1486.45 664.075,1486.45 664.075,148.625 625.775,148.625 \"/>\n",
       "<path clip-path=\"url(#clip942)\" d=\"M664.075 130.815 L664.075 1486.45 L702.376 1486.45 L702.376 130.815 L664.075 130.815 L664.075 130.815  Z\" fill=\"#8be9fd\" fill-rule=\"evenodd\" fill-opacity=\"1\"/>\n",
       "<polyline clip-path=\"url(#clip942)\" style=\"stroke:#f8f8f2; stroke-linecap:round; stroke-linejoin:round; stroke-width:4; stroke-opacity:1; fill:none\" points=\"664.075,130.815 664.075,1486.45 702.376,1486.45 702.376,130.815 664.075,130.815 \"/>\n",
       "<path clip-path=\"url(#clip942)\" d=\"M702.376 144.515 L702.376 1486.45 L740.677 1486.45 L740.677 144.515 L702.376 144.515 L702.376 144.515  Z\" fill=\"#8be9fd\" fill-rule=\"evenodd\" fill-opacity=\"1\"/>\n",
       "<polyline clip-path=\"url(#clip942)\" style=\"stroke:#f8f8f2; stroke-linecap:round; stroke-linejoin:round; stroke-width:4; stroke-opacity:1; fill:none\" points=\"702.376,144.515 702.376,1486.45 740.677,1486.45 740.677,144.515 702.376,144.515 \"/>\n",
       "<path clip-path=\"url(#clip942)\" d=\"M740.677 63.6843 L740.677 1486.45 L778.978 1486.45 L778.978 63.6843 L740.677 63.6843 L740.677 63.6843  Z\" fill=\"#8be9fd\" fill-rule=\"evenodd\" fill-opacity=\"1\"/>\n",
       "<polyline clip-path=\"url(#clip942)\" style=\"stroke:#f8f8f2; stroke-linecap:round; stroke-linejoin:round; stroke-width:4; stroke-opacity:1; fill:none\" points=\"740.677,63.6843 740.677,1486.45 778.978,1486.45 778.978,63.6843 740.677,63.6843 \"/>\n",
       "<path clip-path=\"url(#clip942)\" d=\"M778.978 146.57 L778.978 1486.45 L817.278 1486.45 L817.278 146.57 L778.978 146.57 L778.978 146.57  Z\" fill=\"#8be9fd\" fill-rule=\"evenodd\" fill-opacity=\"1\"/>\n",
       "<polyline clip-path=\"url(#clip942)\" style=\"stroke:#f8f8f2; stroke-linecap:round; stroke-linejoin:round; stroke-width:4; stroke-opacity:1; fill:none\" points=\"778.978,146.57 778.978,1486.45 817.278,1486.45 817.278,146.57 778.978,146.57 \"/>\n",
       "<path clip-path=\"url(#clip942)\" d=\"M817.278 104.1 L817.278 1486.45 L855.579 1486.45 L855.579 104.1 L817.278 104.1 L817.278 104.1  Z\" fill=\"#8be9fd\" fill-rule=\"evenodd\" fill-opacity=\"1\"/>\n",
       "<polyline clip-path=\"url(#clip942)\" style=\"stroke:#f8f8f2; stroke-linecap:round; stroke-linejoin:round; stroke-width:4; stroke-opacity:1; fill:none\" points=\"817.278,104.1 817.278,1486.45 855.579,1486.45 855.579,104.1 817.278,104.1 \"/>\n",
       "<path clip-path=\"url(#clip942)\" d=\"M855.579 47.2441 L855.579 1486.45 L893.88 1486.45 L893.88 47.2441 L855.579 47.2441 L855.579 47.2441  Z\" fill=\"#8be9fd\" fill-rule=\"evenodd\" fill-opacity=\"1\"/>\n",
       "<polyline clip-path=\"url(#clip942)\" style=\"stroke:#f8f8f2; stroke-linecap:round; stroke-linejoin:round; stroke-width:4; stroke-opacity:1; fill:none\" points=\"855.579,47.2441 855.579,1486.45 893.88,1486.45 893.88,47.2441 855.579,47.2441 \"/>\n",
       "<path clip-path=\"url(#clip942)\" d=\"M893.88 150.68 L893.88 1486.45 L932.181 1486.45 L932.181 150.68 L893.88 150.68 L893.88 150.68  Z\" fill=\"#8be9fd\" fill-rule=\"evenodd\" fill-opacity=\"1\"/>\n",
       "<polyline clip-path=\"url(#clip942)\" style=\"stroke:#f8f8f2; stroke-linecap:round; stroke-linejoin:round; stroke-width:4; stroke-opacity:1; fill:none\" points=\"893.88,150.68 893.88,1486.45 932.181,1486.45 932.181,150.68 893.88,150.68 \"/>\n",
       "<path clip-path=\"url(#clip942)\" d=\"M932.181 110.265 L932.181 1486.45 L970.482 1486.45 L970.482 110.265 L932.181 110.265 L932.181 110.265  Z\" fill=\"#8be9fd\" fill-rule=\"evenodd\" fill-opacity=\"1\"/>\n",
       "<polyline clip-path=\"url(#clip942)\" style=\"stroke:#f8f8f2; stroke-linecap:round; stroke-linejoin:round; stroke-width:4; stroke-opacity:1; fill:none\" points=\"932.181,110.265 932.181,1486.45 970.482,1486.45 970.482,110.265 932.181,110.265 \"/>\n",
       "<path clip-path=\"url(#clip942)\" d=\"M970.482 111.635 L970.482 1486.45 L1008.78 1486.45 L1008.78 111.635 L970.482 111.635 L970.482 111.635  Z\" fill=\"#8be9fd\" fill-rule=\"evenodd\" fill-opacity=\"1\"/>\n",
       "<polyline clip-path=\"url(#clip942)\" style=\"stroke:#f8f8f2; stroke-linecap:round; stroke-linejoin:round; stroke-width:4; stroke-opacity:1; fill:none\" points=\"970.482,111.635 970.482,1486.45 1008.78,1486.45 1008.78,111.635 970.482,111.635 \"/>\n",
       "<path clip-path=\"url(#clip942)\" d=\"M1008.78 143.83 L1008.78 1486.45 L1047.08 1486.45 L1047.08 143.83 L1008.78 143.83 L1008.78 143.83  Z\" fill=\"#8be9fd\" fill-rule=\"evenodd\" fill-opacity=\"1\"/>\n",
       "<polyline clip-path=\"url(#clip942)\" style=\"stroke:#f8f8f2; stroke-linecap:round; stroke-linejoin:round; stroke-width:4; stroke-opacity:1; fill:none\" points=\"1008.78,143.83 1008.78,1486.45 1047.08,1486.45 1047.08,143.83 1008.78,143.83 \"/>\n",
       "<path clip-path=\"url(#clip942)\" d=\"M1047.08 112.32 L1047.08 1486.45 L1085.38 1486.45 L1085.38 112.32 L1047.08 112.32 L1047.08 112.32  Z\" fill=\"#8be9fd\" fill-rule=\"evenodd\" fill-opacity=\"1\"/>\n",
       "<polyline clip-path=\"url(#clip942)\" style=\"stroke:#f8f8f2; stroke-linecap:round; stroke-linejoin:round; stroke-width:4; stroke-opacity:1; fill:none\" points=\"1047.08,112.32 1047.08,1486.45 1085.38,1486.45 1085.38,112.32 1047.08,112.32 \"/>\n",
       "<path clip-path=\"url(#clip942)\" d=\"M1085.38 107.525 L1085.38 1486.45 L1123.68 1486.45 L1123.68 107.525 L1085.38 107.525 L1085.38 107.525  Z\" fill=\"#8be9fd\" fill-rule=\"evenodd\" fill-opacity=\"1\"/>\n",
       "<polyline clip-path=\"url(#clip942)\" style=\"stroke:#f8f8f2; stroke-linecap:round; stroke-linejoin:round; stroke-width:4; stroke-opacity:1; fill:none\" points=\"1085.38,107.525 1085.38,1486.45 1123.68,1486.45 1123.68,107.525 1085.38,107.525 \"/>\n",
       "<path clip-path=\"url(#clip942)\" d=\"M1123.68 88.3446 L1123.68 1486.45 L1161.99 1486.45 L1161.99 88.3446 L1123.68 88.3446 L1123.68 88.3446  Z\" fill=\"#8be9fd\" fill-rule=\"evenodd\" fill-opacity=\"1\"/>\n",
       "<polyline clip-path=\"url(#clip942)\" style=\"stroke:#f8f8f2; stroke-linecap:round; stroke-linejoin:round; stroke-width:4; stroke-opacity:1; fill:none\" points=\"1123.68,88.3446 1123.68,1486.45 1161.99,1486.45 1161.99,88.3446 1123.68,88.3446 \"/>\n",
       "<path clip-path=\"url(#clip942)\" d=\"M1161.99 128.76 L1161.99 1486.45 L1200.29 1486.45 L1200.29 128.76 L1161.99 128.76 L1161.99 128.76  Z\" fill=\"#8be9fd\" fill-rule=\"evenodd\" fill-opacity=\"1\"/>\n",
       "<polyline clip-path=\"url(#clip942)\" style=\"stroke:#f8f8f2; stroke-linecap:round; stroke-linejoin:round; stroke-width:4; stroke-opacity:1; fill:none\" points=\"1161.99,128.76 1161.99,1486.45 1200.29,1486.45 1200.29,128.76 1161.99,128.76 \"/>\n",
       "<path clip-path=\"url(#clip942)\" d=\"M1200.29 106.84 L1200.29 1486.45 L1238.59 1486.45 L1238.59 106.84 L1200.29 106.84 L1200.29 106.84  Z\" fill=\"#8be9fd\" fill-rule=\"evenodd\" fill-opacity=\"1\"/>\n",
       "<polyline clip-path=\"url(#clip942)\" style=\"stroke:#f8f8f2; stroke-linecap:round; stroke-linejoin:round; stroke-width:4; stroke-opacity:1; fill:none\" points=\"1200.29,106.84 1200.29,1486.45 1238.59,1486.45 1238.59,106.84 1200.29,106.84 \"/>\n",
       "<path clip-path=\"url(#clip942)\" d=\"M1238.59 133.555 L1238.59 1486.45 L1276.89 1486.45 L1276.89 133.555 L1238.59 133.555 L1238.59 133.555  Z\" fill=\"#8be9fd\" fill-rule=\"evenodd\" fill-opacity=\"1\"/>\n",
       "<polyline clip-path=\"url(#clip942)\" style=\"stroke:#f8f8f2; stroke-linecap:round; stroke-linejoin:round; stroke-width:4; stroke-opacity:1; fill:none\" points=\"1238.59,133.555 1238.59,1486.45 1276.89,1486.45 1276.89,133.555 1238.59,133.555 \"/>\n",
       "<path clip-path=\"url(#clip942)\" d=\"M1276.89 132.87 L1276.89 1486.45 L1315.19 1486.45 L1315.19 132.87 L1276.89 132.87 L1276.89 132.87  Z\" fill=\"#8be9fd\" fill-rule=\"evenodd\" fill-opacity=\"1\"/>\n",
       "<polyline clip-path=\"url(#clip942)\" style=\"stroke:#f8f8f2; stroke-linecap:round; stroke-linejoin:round; stroke-width:4; stroke-opacity:1; fill:none\" points=\"1276.89,132.87 1276.89,1486.45 1315.19,1486.45 1315.19,132.87 1276.89,132.87 \"/>\n",
       "<path clip-path=\"url(#clip942)\" d=\"M1315.19 180.821 L1315.19 1486.45 L1353.49 1486.45 L1353.49 180.821 L1315.19 180.821 L1315.19 180.821  Z\" fill=\"#8be9fd\" fill-rule=\"evenodd\" fill-opacity=\"1\"/>\n",
       "<polyline clip-path=\"url(#clip942)\" style=\"stroke:#f8f8f2; stroke-linecap:round; stroke-linejoin:round; stroke-width:4; stroke-opacity:1; fill:none\" points=\"1315.19,180.821 1315.19,1486.45 1353.49,1486.45 1353.49,180.821 1315.19,180.821 \"/>\n",
       "<path clip-path=\"url(#clip942)\" d=\"M1353.49 149.995 L1353.49 1486.45 L1391.79 1486.45 L1391.79 149.995 L1353.49 149.995 L1353.49 149.995  Z\" fill=\"#8be9fd\" fill-rule=\"evenodd\" fill-opacity=\"1\"/>\n",
       "<polyline clip-path=\"url(#clip942)\" style=\"stroke:#f8f8f2; stroke-linecap:round; stroke-linejoin:round; stroke-width:4; stroke-opacity:1; fill:none\" points=\"1353.49,149.995 1353.49,1486.45 1391.79,1486.45 1391.79,149.995 1353.49,149.995 \"/>\n",
       "<path clip-path=\"url(#clip942)\" d=\"M1391.79 133.555 L1391.79 1486.45 L1430.09 1486.45 L1430.09 133.555 L1391.79 133.555 L1391.79 133.555  Z\" fill=\"#8be9fd\" fill-rule=\"evenodd\" fill-opacity=\"1\"/>\n",
       "<polyline clip-path=\"url(#clip942)\" style=\"stroke:#f8f8f2; stroke-linecap:round; stroke-linejoin:round; stroke-width:4; stroke-opacity:1; fill:none\" points=\"1391.79,133.555 1391.79,1486.45 1430.09,1486.45 1430.09,133.555 1391.79,133.555 \"/>\n",
       "<path clip-path=\"url(#clip942)\" d=\"M1430.09 99.3048 L1430.09 1486.45 L1468.39 1486.45 L1468.39 99.3048 L1430.09 99.3048 L1430.09 99.3048  Z\" fill=\"#8be9fd\" fill-rule=\"evenodd\" fill-opacity=\"1\"/>\n",
       "<polyline clip-path=\"url(#clip942)\" style=\"stroke:#f8f8f2; stroke-linecap:round; stroke-linejoin:round; stroke-width:4; stroke-opacity:1; fill:none\" points=\"1430.09,99.3048 1430.09,1486.45 1468.39,1486.45 1468.39,99.3048 1430.09,99.3048 \"/>\n",
       "<path clip-path=\"url(#clip942)\" d=\"M1468.39 128.76 L1468.39 1486.45 L1506.69 1486.45 L1506.69 128.76 L1468.39 128.76 L1468.39 128.76  Z\" fill=\"#8be9fd\" fill-rule=\"evenodd\" fill-opacity=\"1\"/>\n",
       "<polyline clip-path=\"url(#clip942)\" style=\"stroke:#f8f8f2; stroke-linecap:round; stroke-linejoin:round; stroke-width:4; stroke-opacity:1; fill:none\" points=\"1468.39,128.76 1468.39,1486.45 1506.69,1486.45 1506.69,128.76 1468.39,128.76 \"/>\n",
       "<path clip-path=\"url(#clip942)\" d=\"M1506.69 124.65 L1506.69 1486.45 L1544.99 1486.45 L1544.99 124.65 L1506.69 124.65 L1506.69 124.65  Z\" fill=\"#8be9fd\" fill-rule=\"evenodd\" fill-opacity=\"1\"/>\n",
       "<polyline clip-path=\"url(#clip942)\" style=\"stroke:#f8f8f2; stroke-linecap:round; stroke-linejoin:round; stroke-width:4; stroke-opacity:1; fill:none\" points=\"1506.69,124.65 1506.69,1486.45 1544.99,1486.45 1544.99,124.65 1506.69,124.65 \"/>\n",
       "<path clip-path=\"url(#clip942)\" d=\"M1544.99 103.415 L1544.99 1486.45 L1583.29 1486.45 L1583.29 103.415 L1544.99 103.415 L1544.99 103.415  Z\" fill=\"#8be9fd\" fill-rule=\"evenodd\" fill-opacity=\"1\"/>\n",
       "<polyline clip-path=\"url(#clip942)\" style=\"stroke:#f8f8f2; stroke-linecap:round; stroke-linejoin:round; stroke-width:4; stroke-opacity:1; fill:none\" points=\"1544.99,103.415 1544.99,1486.45 1583.29,1486.45 1583.29,103.415 1544.99,103.415 \"/>\n",
       "<path clip-path=\"url(#clip942)\" d=\"M1583.29 109.58 L1583.29 1486.45 L1621.59 1486.45 L1621.59 109.58 L1583.29 109.58 L1583.29 109.58  Z\" fill=\"#8be9fd\" fill-rule=\"evenodd\" fill-opacity=\"1\"/>\n",
       "<polyline clip-path=\"url(#clip942)\" style=\"stroke:#f8f8f2; stroke-linecap:round; stroke-linejoin:round; stroke-width:4; stroke-opacity:1; fill:none\" points=\"1583.29,109.58 1583.29,1486.45 1621.59,1486.45 1621.59,109.58 1583.29,109.58 \"/>\n",
       "<path clip-path=\"url(#clip942)\" d=\"M1621.59 146.57 L1621.59 1486.45 L1659.9 1486.45 L1659.9 146.57 L1621.59 146.57 L1621.59 146.57  Z\" fill=\"#8be9fd\" fill-rule=\"evenodd\" fill-opacity=\"1\"/>\n",
       "<polyline clip-path=\"url(#clip942)\" style=\"stroke:#f8f8f2; stroke-linecap:round; stroke-linejoin:round; stroke-width:4; stroke-opacity:1; fill:none\" points=\"1621.59,146.57 1621.59,1486.45 1659.9,1486.45 1659.9,146.57 1621.59,146.57 \"/>\n",
       "<path clip-path=\"url(#clip942)\" d=\"M1659.9 149.995 L1659.9 1486.45 L1698.2 1486.45 L1698.2 149.995 L1659.9 149.995 L1659.9 149.995  Z\" fill=\"#8be9fd\" fill-rule=\"evenodd\" fill-opacity=\"1\"/>\n",
       "<polyline clip-path=\"url(#clip942)\" style=\"stroke:#f8f8f2; stroke-linecap:round; stroke-linejoin:round; stroke-width:4; stroke-opacity:1; fill:none\" points=\"1659.9,149.995 1659.9,1486.45 1698.2,1486.45 1698.2,149.995 1659.9,149.995 \"/>\n",
       "<path clip-path=\"url(#clip942)\" d=\"M1698.2 82.1796 L1698.2 1486.45 L1736.5 1486.45 L1736.5 82.1796 L1698.2 82.1796 L1698.2 82.1796  Z\" fill=\"#8be9fd\" fill-rule=\"evenodd\" fill-opacity=\"1\"/>\n",
       "<polyline clip-path=\"url(#clip942)\" style=\"stroke:#f8f8f2; stroke-linecap:round; stroke-linejoin:round; stroke-width:4; stroke-opacity:1; fill:none\" points=\"1698.2,82.1796 1698.2,1486.45 1736.5,1486.45 1736.5,82.1796 1698.2,82.1796 \"/>\n",
       "<path clip-path=\"url(#clip942)\" d=\"M1736.5 66.4243 L1736.5 1486.45 L1774.8 1486.45 L1774.8 66.4243 L1736.5 66.4243 L1736.5 66.4243  Z\" fill=\"#8be9fd\" fill-rule=\"evenodd\" fill-opacity=\"1\"/>\n",
       "<polyline clip-path=\"url(#clip942)\" style=\"stroke:#f8f8f2; stroke-linecap:round; stroke-linejoin:round; stroke-width:4; stroke-opacity:1; fill:none\" points=\"1736.5,66.4243 1736.5,1486.45 1774.8,1486.45 1774.8,66.4243 1736.5,66.4243 \"/>\n",
       "<path clip-path=\"url(#clip942)\" d=\"M1774.8 98.6198 L1774.8 1486.45 L1813.1 1486.45 L1813.1 98.6198 L1774.8 98.6198 L1774.8 98.6198  Z\" fill=\"#8be9fd\" fill-rule=\"evenodd\" fill-opacity=\"1\"/>\n",
       "<polyline clip-path=\"url(#clip942)\" style=\"stroke:#f8f8f2; stroke-linecap:round; stroke-linejoin:round; stroke-width:4; stroke-opacity:1; fill:none\" points=\"1774.8,98.6198 1774.8,1486.45 1813.1,1486.45 1813.1,98.6198 1774.8,98.6198 \"/>\n",
       "<path clip-path=\"url(#clip942)\" d=\"M1813.1 115.745 L1813.1 1486.45 L1851.4 1486.45 L1851.4 115.745 L1813.1 115.745 L1813.1 115.745  Z\" fill=\"#8be9fd\" fill-rule=\"evenodd\" fill-opacity=\"1\"/>\n",
       "<polyline clip-path=\"url(#clip942)\" style=\"stroke:#f8f8f2; stroke-linecap:round; stroke-linejoin:round; stroke-width:4; stroke-opacity:1; fill:none\" points=\"1813.1,115.745 1813.1,1486.45 1851.4,1486.45 1851.4,115.745 1813.1,115.745 \"/>\n",
       "<path clip-path=\"url(#clip942)\" d=\"M1851.4 114.375 L1851.4 1486.45 L1889.7 1486.45 L1889.7 114.375 L1851.4 114.375 L1851.4 114.375  Z\" fill=\"#8be9fd\" fill-rule=\"evenodd\" fill-opacity=\"1\"/>\n",
       "<polyline clip-path=\"url(#clip942)\" style=\"stroke:#f8f8f2; stroke-linecap:round; stroke-linejoin:round; stroke-width:4; stroke-opacity:1; fill:none\" points=\"1851.4,114.375 1851.4,1486.45 1889.7,1486.45 1889.7,114.375 1851.4,114.375 \"/>\n",
       "<path clip-path=\"url(#clip942)\" d=\"M1889.7 86.9746 L1889.7 1486.45 L1928 1486.45 L1928 86.9746 L1889.7 86.9746 L1889.7 86.9746  Z\" fill=\"#8be9fd\" fill-rule=\"evenodd\" fill-opacity=\"1\"/>\n",
       "<polyline clip-path=\"url(#clip942)\" style=\"stroke:#f8f8f2; stroke-linecap:round; stroke-linejoin:round; stroke-width:4; stroke-opacity:1; fill:none\" points=\"1889.7,86.9746 1889.7,1486.45 1928,1486.45 1928,86.9746 1889.7,86.9746 \"/>\n",
       "<path clip-path=\"url(#clip942)\" d=\"M1928 148.625 L1928 1486.45 L1966.3 1486.45 L1966.3 148.625 L1928 148.625 L1928 148.625  Z\" fill=\"#8be9fd\" fill-rule=\"evenodd\" fill-opacity=\"1\"/>\n",
       "<polyline clip-path=\"url(#clip942)\" style=\"stroke:#f8f8f2; stroke-linecap:round; stroke-linejoin:round; stroke-width:4; stroke-opacity:1; fill:none\" points=\"1928,148.625 1928,1486.45 1966.3,1486.45 1966.3,148.625 1928,148.625 \"/>\n",
       "<path clip-path=\"url(#clip942)\" d=\"M1966.3 152.05 L1966.3 1486.45 L2004.6 1486.45 L2004.6 152.05 L1966.3 152.05 L1966.3 152.05  Z\" fill=\"#8be9fd\" fill-rule=\"evenodd\" fill-opacity=\"1\"/>\n",
       "<polyline clip-path=\"url(#clip942)\" style=\"stroke:#f8f8f2; stroke-linecap:round; stroke-linejoin:round; stroke-width:4; stroke-opacity:1; fill:none\" points=\"1966.3,152.05 1966.3,1486.45 2004.6,1486.45 2004.6,152.05 1966.3,152.05 \"/>\n",
       "<path clip-path=\"url(#clip942)\" d=\"M2004.6 86.9746 L2004.6 1486.45 L2042.9 1486.45 L2042.9 86.9746 L2004.6 86.9746 L2004.6 86.9746  Z\" fill=\"#8be9fd\" fill-rule=\"evenodd\" fill-opacity=\"1\"/>\n",
       "<polyline clip-path=\"url(#clip942)\" style=\"stroke:#f8f8f2; stroke-linecap:round; stroke-linejoin:round; stroke-width:4; stroke-opacity:1; fill:none\" points=\"2004.6,86.9746 2004.6,1486.45 2042.9,1486.45 2042.9,86.9746 2004.6,86.9746 \"/>\n",
       "<path clip-path=\"url(#clip942)\" d=\"M2042.9 140.405 L2042.9 1486.45 L2081.2 1486.45 L2081.2 140.405 L2042.9 140.405 L2042.9 140.405  Z\" fill=\"#8be9fd\" fill-rule=\"evenodd\" fill-opacity=\"1\"/>\n",
       "<polyline clip-path=\"url(#clip942)\" style=\"stroke:#f8f8f2; stroke-linecap:round; stroke-linejoin:round; stroke-width:4; stroke-opacity:1; fill:none\" points=\"2042.9,140.405 2042.9,1486.45 2081.2,1486.45 2081.2,140.405 2042.9,140.405 \"/>\n",
       "<path clip-path=\"url(#clip942)\" d=\"M2081.2 149.31 L2081.2 1486.45 L2119.5 1486.45 L2119.5 149.31 L2081.2 149.31 L2081.2 149.31  Z\" fill=\"#8be9fd\" fill-rule=\"evenodd\" fill-opacity=\"1\"/>\n",
       "<polyline clip-path=\"url(#clip942)\" style=\"stroke:#f8f8f2; stroke-linecap:round; stroke-linejoin:round; stroke-width:4; stroke-opacity:1; fill:none\" points=\"2081.2,149.31 2081.2,1486.45 2119.5,1486.45 2119.5,149.31 2081.2,149.31 \"/>\n",
       "<path clip-path=\"url(#clip942)\" d=\"M2119.5 91.7697 L2119.5 1486.45 L2157.81 1486.45 L2157.81 91.7697 L2119.5 91.7697 L2119.5 91.7697  Z\" fill=\"#8be9fd\" fill-rule=\"evenodd\" fill-opacity=\"1\"/>\n",
       "<polyline clip-path=\"url(#clip942)\" style=\"stroke:#f8f8f2; stroke-linecap:round; stroke-linejoin:round; stroke-width:4; stroke-opacity:1; fill:none\" points=\"2119.5,91.7697 2119.5,1486.45 2157.81,1486.45 2157.81,91.7697 2119.5,91.7697 \"/>\n",
       "<path clip-path=\"url(#clip942)\" d=\"M2157.81 149.31 L2157.81 1486.45 L2196.11 1486.45 L2196.11 149.31 L2157.81 149.31 L2157.81 149.31  Z\" fill=\"#8be9fd\" fill-rule=\"evenodd\" fill-opacity=\"1\"/>\n",
       "<polyline clip-path=\"url(#clip942)\" style=\"stroke:#f8f8f2; stroke-linecap:round; stroke-linejoin:round; stroke-width:4; stroke-opacity:1; fill:none\" points=\"2157.81,149.31 2157.81,1486.45 2196.11,1486.45 2196.11,149.31 2157.81,149.31 \"/>\n",
       "<path clip-path=\"url(#clip942)\" d=\"M2196.11 84.9196 L2196.11 1486.45 L2234.41 1486.45 L2234.41 84.9196 L2196.11 84.9196 L2196.11 84.9196  Z\" fill=\"#8be9fd\" fill-rule=\"evenodd\" fill-opacity=\"1\"/>\n",
       "<polyline clip-path=\"url(#clip942)\" style=\"stroke:#f8f8f2; stroke-linecap:round; stroke-linejoin:round; stroke-width:4; stroke-opacity:1; fill:none\" points=\"2196.11,84.9196 2196.11,1486.45 2234.41,1486.45 2234.41,84.9196 2196.11,84.9196 \"/>\n",
       "<circle clip-path=\"url(#clip942)\" style=\"fill:#8be9fd; stroke:none; fill-opacity:0\" cx=\"338.519\" cy=\"82.8646\" r=\"2\"/>\n",
       "<circle clip-path=\"url(#clip942)\" style=\"fill:#8be9fd; stroke:none; fill-opacity:0\" cx=\"376.82\" cy=\"100.675\" r=\"2\"/>\n",
       "<circle clip-path=\"url(#clip942)\" style=\"fill:#8be9fd; stroke:none; fill-opacity:0\" cx=\"415.121\" cy=\"71.9044\" r=\"2\"/>\n",
       "<circle clip-path=\"url(#clip942)\" style=\"fill:#8be9fd; stroke:none; fill-opacity:0\" cx=\"453.421\" cy=\"108.21\" r=\"2\"/>\n",
       "<circle clip-path=\"url(#clip942)\" style=\"fill:#8be9fd; stroke:none; fill-opacity:0\" cx=\"491.722\" cy=\"99.3048\" r=\"2\"/>\n",
       "<circle clip-path=\"url(#clip942)\" style=\"fill:#8be9fd; stroke:none; fill-opacity:0\" cx=\"530.023\" cy=\"143.145\" r=\"2\"/>\n",
       "<circle clip-path=\"url(#clip942)\" style=\"fill:#8be9fd; stroke:none; fill-opacity:0\" cx=\"568.324\" cy=\"68.4794\" r=\"2\"/>\n",
       "<circle clip-path=\"url(#clip942)\" style=\"fill:#8be9fd; stroke:none; fill-opacity:0\" cx=\"606.624\" cy=\"140.405\" r=\"2\"/>\n",
       "<circle clip-path=\"url(#clip942)\" style=\"fill:#8be9fd; stroke:none; fill-opacity:0\" cx=\"644.925\" cy=\"148.625\" r=\"2\"/>\n",
       "<circle clip-path=\"url(#clip942)\" style=\"fill:#8be9fd; stroke:none; fill-opacity:0\" cx=\"683.226\" cy=\"130.815\" r=\"2\"/>\n",
       "<circle clip-path=\"url(#clip942)\" style=\"fill:#8be9fd; stroke:none; fill-opacity:0\" cx=\"721.527\" cy=\"144.515\" r=\"2\"/>\n",
       "<circle clip-path=\"url(#clip942)\" style=\"fill:#8be9fd; stroke:none; fill-opacity:0\" cx=\"759.827\" cy=\"63.6843\" r=\"2\"/>\n",
       "<circle clip-path=\"url(#clip942)\" style=\"fill:#8be9fd; stroke:none; fill-opacity:0\" cx=\"798.128\" cy=\"146.57\" r=\"2\"/>\n",
       "<circle clip-path=\"url(#clip942)\" style=\"fill:#8be9fd; stroke:none; fill-opacity:0\" cx=\"836.429\" cy=\"104.1\" r=\"2\"/>\n",
       "<circle clip-path=\"url(#clip942)\" style=\"fill:#8be9fd; stroke:none; fill-opacity:0\" cx=\"874.73\" cy=\"47.2441\" r=\"2\"/>\n",
       "<circle clip-path=\"url(#clip942)\" style=\"fill:#8be9fd; stroke:none; fill-opacity:0\" cx=\"913.03\" cy=\"150.68\" r=\"2\"/>\n",
       "<circle clip-path=\"url(#clip942)\" style=\"fill:#8be9fd; stroke:none; fill-opacity:0\" cx=\"951.331\" cy=\"110.265\" r=\"2\"/>\n",
       "<circle clip-path=\"url(#clip942)\" style=\"fill:#8be9fd; stroke:none; fill-opacity:0\" cx=\"989.632\" cy=\"111.635\" r=\"2\"/>\n",
       "<circle clip-path=\"url(#clip942)\" style=\"fill:#8be9fd; stroke:none; fill-opacity:0\" cx=\"1027.93\" cy=\"143.83\" r=\"2\"/>\n",
       "<circle clip-path=\"url(#clip942)\" style=\"fill:#8be9fd; stroke:none; fill-opacity:0\" cx=\"1066.23\" cy=\"112.32\" r=\"2\"/>\n",
       "<circle clip-path=\"url(#clip942)\" style=\"fill:#8be9fd; stroke:none; fill-opacity:0\" cx=\"1104.53\" cy=\"107.525\" r=\"2\"/>\n",
       "<circle clip-path=\"url(#clip942)\" style=\"fill:#8be9fd; stroke:none; fill-opacity:0\" cx=\"1142.83\" cy=\"88.3446\" r=\"2\"/>\n",
       "<circle clip-path=\"url(#clip942)\" style=\"fill:#8be9fd; stroke:none; fill-opacity:0\" cx=\"1181.14\" cy=\"128.76\" r=\"2\"/>\n",
       "<circle clip-path=\"url(#clip942)\" style=\"fill:#8be9fd; stroke:none; fill-opacity:0\" cx=\"1219.44\" cy=\"106.84\" r=\"2\"/>\n",
       "<circle clip-path=\"url(#clip942)\" style=\"fill:#8be9fd; stroke:none; fill-opacity:0\" cx=\"1257.74\" cy=\"133.555\" r=\"2\"/>\n",
       "<circle clip-path=\"url(#clip942)\" style=\"fill:#8be9fd; stroke:none; fill-opacity:0\" cx=\"1296.04\" cy=\"132.87\" r=\"2\"/>\n",
       "<circle clip-path=\"url(#clip942)\" style=\"fill:#8be9fd; stroke:none; fill-opacity:0\" cx=\"1334.34\" cy=\"180.821\" r=\"2\"/>\n",
       "<circle clip-path=\"url(#clip942)\" style=\"fill:#8be9fd; stroke:none; fill-opacity:0\" cx=\"1372.64\" cy=\"149.995\" r=\"2\"/>\n",
       "<circle clip-path=\"url(#clip942)\" style=\"fill:#8be9fd; stroke:none; fill-opacity:0\" cx=\"1410.94\" cy=\"133.555\" r=\"2\"/>\n",
       "<circle clip-path=\"url(#clip942)\" style=\"fill:#8be9fd; stroke:none; fill-opacity:0\" cx=\"1449.24\" cy=\"99.3048\" r=\"2\"/>\n",
       "<circle clip-path=\"url(#clip942)\" style=\"fill:#8be9fd; stroke:none; fill-opacity:0\" cx=\"1487.54\" cy=\"128.76\" r=\"2\"/>\n",
       "<circle clip-path=\"url(#clip942)\" style=\"fill:#8be9fd; stroke:none; fill-opacity:0\" cx=\"1525.84\" cy=\"124.65\" r=\"2\"/>\n",
       "<circle clip-path=\"url(#clip942)\" style=\"fill:#8be9fd; stroke:none; fill-opacity:0\" cx=\"1564.14\" cy=\"103.415\" r=\"2\"/>\n",
       "<circle clip-path=\"url(#clip942)\" style=\"fill:#8be9fd; stroke:none; fill-opacity:0\" cx=\"1602.44\" cy=\"109.58\" r=\"2\"/>\n",
       "<circle clip-path=\"url(#clip942)\" style=\"fill:#8be9fd; stroke:none; fill-opacity:0\" cx=\"1640.74\" cy=\"146.57\" r=\"2\"/>\n",
       "<circle clip-path=\"url(#clip942)\" style=\"fill:#8be9fd; stroke:none; fill-opacity:0\" cx=\"1679.05\" cy=\"149.995\" r=\"2\"/>\n",
       "<circle clip-path=\"url(#clip942)\" style=\"fill:#8be9fd; stroke:none; fill-opacity:0\" cx=\"1717.35\" cy=\"82.1796\" r=\"2\"/>\n",
       "<circle clip-path=\"url(#clip942)\" style=\"fill:#8be9fd; stroke:none; fill-opacity:0\" cx=\"1755.65\" cy=\"66.4243\" r=\"2\"/>\n",
       "<circle clip-path=\"url(#clip942)\" style=\"fill:#8be9fd; stroke:none; fill-opacity:0\" cx=\"1793.95\" cy=\"98.6198\" r=\"2\"/>\n",
       "<circle clip-path=\"url(#clip942)\" style=\"fill:#8be9fd; stroke:none; fill-opacity:0\" cx=\"1832.25\" cy=\"115.745\" r=\"2\"/>\n",
       "<circle clip-path=\"url(#clip942)\" style=\"fill:#8be9fd; stroke:none; fill-opacity:0\" cx=\"1870.55\" cy=\"114.375\" r=\"2\"/>\n",
       "<circle clip-path=\"url(#clip942)\" style=\"fill:#8be9fd; stroke:none; fill-opacity:0\" cx=\"1908.85\" cy=\"86.9746\" r=\"2\"/>\n",
       "<circle clip-path=\"url(#clip942)\" style=\"fill:#8be9fd; stroke:none; fill-opacity:0\" cx=\"1947.15\" cy=\"148.625\" r=\"2\"/>\n",
       "<circle clip-path=\"url(#clip942)\" style=\"fill:#8be9fd; stroke:none; fill-opacity:0\" cx=\"1985.45\" cy=\"152.05\" r=\"2\"/>\n",
       "<circle clip-path=\"url(#clip942)\" style=\"fill:#8be9fd; stroke:none; fill-opacity:0\" cx=\"2023.75\" cy=\"86.9746\" r=\"2\"/>\n",
       "<circle clip-path=\"url(#clip942)\" style=\"fill:#8be9fd; stroke:none; fill-opacity:0\" cx=\"2062.05\" cy=\"140.405\" r=\"2\"/>\n",
       "<circle clip-path=\"url(#clip942)\" style=\"fill:#8be9fd; stroke:none; fill-opacity:0\" cx=\"2100.35\" cy=\"149.31\" r=\"2\"/>\n",
       "<circle clip-path=\"url(#clip942)\" style=\"fill:#8be9fd; stroke:none; fill-opacity:0\" cx=\"2138.65\" cy=\"91.7697\" r=\"2\"/>\n",
       "<circle clip-path=\"url(#clip942)\" style=\"fill:#8be9fd; stroke:none; fill-opacity:0\" cx=\"2176.96\" cy=\"149.31\" r=\"2\"/>\n",
       "<circle clip-path=\"url(#clip942)\" style=\"fill:#8be9fd; stroke:none; fill-opacity:0\" cx=\"2215.26\" cy=\"84.9196\" r=\"2\"/>\n",
       "</svg>\n"
      ]
     },
     "execution_count": 220,
     "metadata": {},
     "output_type": "execute_result"
    }
   ],
   "source": [
    "x = rand(10^5)\n",
    "histogram(x, bins=64, legend=false)"
   ]
  },
  {
   "cell_type": "code",
   "execution_count": 221,
   "metadata": {},
   "outputs": [
    {
     "data": {
      "text/latex": [
       "\\textbf{Normal Distribution}\n",
       "\n"
      ],
      "text/markdown": [
       "**Normal Distribution**\n"
      ],
      "text/plain": [
       "  \u001b[1mNormal Distribution\u001b[22m"
      ]
     },
     "execution_count": 221,
     "metadata": {},
     "output_type": "execute_result"
    }
   ],
   "source": [
    "md\"**Normal Distribution**\""
   ]
  },
  {
   "cell_type": "code",
   "execution_count": 222,
   "metadata": {},
   "outputs": [],
   "source": [
    "?randn;"
   ]
  },
  {
   "cell_type": "code",
   "execution_count": 223,
   "metadata": {},
   "outputs": [
    {
     "data": {
      "image/png": "[encoded data removed]",
      "image/svg+xml": [
       "<?xml version=\"1.0\" encoding=\"utf-8\"?>\n",
       "<svg xmlns=\"http://www.w3.org/2000/svg\" xmlns:xlink=\"http://www.w3.org/1999/xlink\" width=\"600\" height=\"400\" viewBox=\"0 0 2400 1600\">\n",
       "<defs>\n",
       "  <clipPath id=\"clip980\">\n",
       "    <rect x=\"0\" y=\"0\" width=\"2400\" height=\"1600\"/>\n",
       "  </clipPath>\n",
       "</defs>\n",
       "<path clip-path=\"url(#clip980)\" d=\"M0 1600 L2400 1600 L2400 0 L0 0  Z\" fill=\"#282a36\" fill-rule=\"evenodd\" fill-opacity=\"1\"/>\n",
       "<defs>\n",
       "  <clipPath id=\"clip981\">\n",
       "    <rect x=\"480\" y=\"0\" width=\"1681\" height=\"1600\"/>\n",
       "  </clipPath>\n",
       "</defs>\n",
       "<path clip-path=\"url(#clip980)\" d=\"M202.177 1486.45 L2352.76 1486.45 L2352.76 47.2441 L202.177 47.2441  Z\" fill=\"#30343b\" fill-rule=\"evenodd\" fill-opacity=\"1\"/>\n",
       "<defs>\n",
       "  <clipPath id=\"clip982\">\n",
       "    <rect x=\"202\" y=\"47\" width=\"2152\" height=\"1440\"/>\n",
       "  </clipPath>\n",
       "</defs>\n",
       "<polyline clip-path=\"url(#clip982)\" style=\"stroke:#f8f8f2; stroke-linecap:round; stroke-linejoin:round; stroke-width:2; stroke-opacity:0.1; fill:none\" points=\"364.974,1486.45 364.974,47.2441 \"/>\n",
       "<polyline clip-path=\"url(#clip982)\" style=\"stroke:#f8f8f2; stroke-linecap:round; stroke-linejoin:round; stroke-width:2; stroke-opacity:0.1; fill:none\" points=\"810.092,1486.45 810.092,47.2441 \"/>\n",
       "<polyline clip-path=\"url(#clip982)\" style=\"stroke:#f8f8f2; stroke-linecap:round; stroke-linejoin:round; stroke-width:2; stroke-opacity:0.1; fill:none\" points=\"1255.21,1486.45 1255.21,47.2441 \"/>\n",
       "<polyline clip-path=\"url(#clip982)\" style=\"stroke:#f8f8f2; stroke-linecap:round; stroke-linejoin:round; stroke-width:2; stroke-opacity:0.1; fill:none\" points=\"1700.33,1486.45 1700.33,47.2441 \"/>\n",
       "<polyline clip-path=\"url(#clip982)\" style=\"stroke:#f8f8f2; stroke-linecap:round; stroke-linejoin:round; stroke-width:2; stroke-opacity:0.1; fill:none\" points=\"2145.45,1486.45 2145.45,47.2441 \"/>\n",
       "<polyline clip-path=\"url(#clip982)\" style=\"stroke:#f8f8f2; stroke-linecap:round; stroke-linejoin:round; stroke-width:2; stroke-opacity:0.1; fill:none\" points=\"202.177,1486.45 2352.76,1486.45 \"/>\n",
       "<polyline clip-path=\"url(#clip982)\" style=\"stroke:#f8f8f2; stroke-linecap:round; stroke-linejoin:round; stroke-width:2; stroke-opacity:0.1; fill:none\" points=\"202.177,1127.01 2352.76,1127.01 \"/>\n",
       "<polyline clip-path=\"url(#clip982)\" style=\"stroke:#f8f8f2; stroke-linecap:round; stroke-linejoin:round; stroke-width:2; stroke-opacity:0.1; fill:none\" points=\"202.177,767.565 2352.76,767.565 \"/>\n",
       "<polyline clip-path=\"url(#clip982)\" style=\"stroke:#f8f8f2; stroke-linecap:round; stroke-linejoin:round; stroke-width:2; stroke-opacity:0.1; fill:none\" points=\"202.177,408.123 2352.76,408.123 \"/>\n",
       "<polyline clip-path=\"url(#clip982)\" style=\"stroke:#f8f8f2; stroke-linecap:round; stroke-linejoin:round; stroke-width:2; stroke-opacity:0.1; fill:none\" points=\"202.177,48.6819 2352.76,48.6819 \"/>\n",
       "<polyline clip-path=\"url(#clip980)\" style=\"stroke:#f8f8f2; stroke-linecap:round; stroke-linejoin:round; stroke-width:4; stroke-opacity:1; fill:none\" points=\"202.177,1486.45 2352.76,1486.45 \"/>\n",
       "<polyline clip-path=\"url(#clip980)\" style=\"stroke:#f8f8f2; stroke-linecap:round; stroke-linejoin:round; stroke-width:4; stroke-opacity:1; fill:none\" points=\"364.974,1486.45 364.974,1467.55 \"/>\n",
       "<polyline clip-path=\"url(#clip980)\" style=\"stroke:#f8f8f2; stroke-linecap:round; stroke-linejoin:round; stroke-width:4; stroke-opacity:1; fill:none\" points=\"810.092,1486.45 810.092,1467.55 \"/>\n",
       "<polyline clip-path=\"url(#clip980)\" style=\"stroke:#f8f8f2; stroke-linecap:round; stroke-linejoin:round; stroke-width:4; stroke-opacity:1; fill:none\" points=\"1255.21,1486.45 1255.21,1467.55 \"/>\n",
       "<polyline clip-path=\"url(#clip980)\" style=\"stroke:#f8f8f2; stroke-linecap:round; stroke-linejoin:round; stroke-width:4; stroke-opacity:1; fill:none\" points=\"1700.33,1486.45 1700.33,1467.55 \"/>\n",
       "<polyline clip-path=\"url(#clip980)\" style=\"stroke:#f8f8f2; stroke-linecap:round; stroke-linejoin:round; stroke-width:4; stroke-opacity:1; fill:none\" points=\"2145.45,1486.45 2145.45,1467.55 \"/>\n",
       "<path clip-path=\"url(#clip980)\" d=\"M333.875 1532.02 L363.551 1532.02 L363.551 1535.95 L333.875 1535.95 L333.875 1532.02 Z\" fill=\"#f8f8f2\" fill-rule=\"nonzero\" fill-opacity=\"1\" /><path clip-path=\"url(#clip980)\" d=\"M386.49 1518.36 L374.685 1536.81 L386.49 1536.81 L386.49 1518.36 M385.263 1514.29 L391.143 1514.29 L391.143 1536.81 L396.074 1536.81 L396.074 1540.7 L391.143 1540.7 L391.143 1548.85 L386.49 1548.85 L386.49 1540.7 L370.889 1540.7 L370.889 1536.19 L385.263 1514.29 Z\" fill=\"#f8f8f2\" fill-rule=\"nonzero\" fill-opacity=\"1\" /><path clip-path=\"url(#clip980)\" d=\"M780.035 1532.02 L809.71 1532.02 L809.71 1535.95 L780.035 1535.95 L780.035 1532.02 Z\" fill=\"#f8f8f2\" fill-rule=\"nonzero\" fill-opacity=\"1\" /><path clip-path=\"url(#clip980)\" d=\"M823.831 1544.91 L840.15 1544.91 L840.15 1548.85 L818.206 1548.85 L818.206 1544.91 Q820.868 1542.16 825.451 1537.53 Q830.057 1532.88 831.238 1531.53 Q833.483 1529.01 834.363 1527.27 Q835.266 1525.51 835.266 1523.82 Q835.266 1521.07 833.321 1519.33 Q831.4 1517.6 828.298 1517.6 Q826.099 1517.6 823.645 1518.36 Q821.215 1519.13 818.437 1520.68 L818.437 1515.95 Q821.261 1514.82 823.715 1514.24 Q826.169 1513.66 828.206 1513.66 Q833.576 1513.66 836.77 1516.35 Q839.965 1519.03 839.965 1523.52 Q839.965 1525.65 839.155 1527.57 Q838.368 1529.47 836.261 1532.07 Q835.682 1532.74 832.581 1535.95 Q829.479 1539.15 823.831 1544.91 Z\" fill=\"#f8f8f2\" fill-rule=\"nonzero\" fill-opacity=\"1\" /><path clip-path=\"url(#clip980)\" d=\"M1255.21 1517.37 Q1251.6 1517.37 1249.77 1520.93 Q1247.97 1524.47 1247.97 1531.6 Q1247.97 1538.71 1249.77 1542.27 Q1251.6 1545.82 1255.21 1545.82 Q1258.84 1545.82 1260.65 1542.27 Q1262.48 1538.71 1262.48 1531.6 Q1262.48 1524.47 1260.65 1520.93 Q1258.84 1517.37 1255.21 1517.37 M1255.21 1513.66 Q1261.02 1513.66 1264.08 1518.27 Q1267.15 1522.85 1267.15 1531.6 Q1267.15 1540.33 1264.08 1544.94 Q1261.02 1549.52 1255.21 1549.52 Q1249.4 1549.52 1246.32 1544.94 Q1243.27 1540.33 1243.27 1531.6 Q1243.27 1522.85 1246.32 1518.27 Q1249.4 1513.66 1255.21 1513.66 Z\" fill=\"#f8f8f2\" fill-rule=\"nonzero\" fill-opacity=\"1\" /><path clip-path=\"url(#clip980)\" d=\"M1694.98 1544.91 L1711.3 1544.91 L1711.3 1548.85 L1689.36 1548.85 L1689.36 1544.91 Q1692.02 1542.16 1696.6 1537.53 Q1701.21 1532.88 1702.39 1531.53 Q1704.63 1529.01 1705.51 1527.27 Q1706.42 1525.51 1706.42 1523.82 Q1706.42 1521.07 1704.47 1519.33 Q1702.55 1517.6 1699.45 1517.6 Q1697.25 1517.6 1694.8 1518.36 Q1692.37 1519.13 1689.59 1520.68 L1689.59 1515.95 Q1692.41 1514.82 1694.87 1514.24 Q1697.32 1513.66 1699.36 1513.66 Q1704.73 1513.66 1707.92 1516.35 Q1711.12 1519.03 1711.12 1523.52 Q1711.12 1525.65 1710.31 1527.57 Q1709.52 1529.47 1707.41 1532.07 Q1706.83 1532.74 1703.73 1535.95 Q1700.63 1539.15 1694.98 1544.91 Z\" fill=\"#f8f8f2\" fill-rule=\"nonzero\" fill-opacity=\"1\" /><path clip-path=\"url(#clip980)\" d=\"M2148.46 1518.36 L2136.65 1536.81 L2148.46 1536.81 L2148.46 1518.36 M2147.23 1514.29 L2153.11 1514.29 L2153.11 1536.81 L2158.04 1536.81 L2158.04 1540.7 L2153.11 1540.7 L2153.11 1548.85 L2148.46 1548.85 L2148.46 1540.7 L2132.85 1540.7 L2132.85 1536.19 L2147.23 1514.29 Z\" fill=\"#f8f8f2\" fill-rule=\"nonzero\" fill-opacity=\"1\" /><polyline clip-path=\"url(#clip980)\" style=\"stroke:#f8f8f2; stroke-linecap:round; stroke-linejoin:round; stroke-width:4; stroke-opacity:1; fill:none\" points=\"202.177,1486.45 202.177,47.2441 \"/>\n",
       "<polyline clip-path=\"url(#clip980)\" style=\"stroke:#f8f8f2; stroke-linecap:round; stroke-linejoin:round; stroke-width:4; stroke-opacity:1; fill:none\" points=\"202.177,1486.45 221.074,1486.45 \"/>\n",
       "<polyline clip-path=\"url(#clip980)\" style=\"stroke:#f8f8f2; stroke-linecap:round; stroke-linejoin:round; stroke-width:4; stroke-opacity:1; fill:none\" points=\"202.177,1127.01 221.074,1127.01 \"/>\n",
       "<polyline clip-path=\"url(#clip980)\" style=\"stroke:#f8f8f2; stroke-linecap:round; stroke-linejoin:round; stroke-width:4; stroke-opacity:1; fill:none\" points=\"202.177,767.565 221.074,767.565 \"/>\n",
       "<polyline clip-path=\"url(#clip980)\" style=\"stroke:#f8f8f2; stroke-linecap:round; stroke-linejoin:round; stroke-width:4; stroke-opacity:1; fill:none\" points=\"202.177,408.123 221.074,408.123 \"/>\n",
       "<polyline clip-path=\"url(#clip980)\" style=\"stroke:#f8f8f2; stroke-linecap:round; stroke-linejoin:round; stroke-width:4; stroke-opacity:1; fill:none\" points=\"202.177,48.6819 221.074,48.6819 \"/>\n",
       "<path clip-path=\"url(#clip980)\" d=\"M154.232 1472.25 Q150.621 1472.25 148.793 1475.81 Q146.987 1479.35 146.987 1486.48 Q146.987 1493.59 148.793 1497.15 Q150.621 1500.7 154.232 1500.7 Q157.867 1500.7 159.672 1497.15 Q161.501 1493.59 161.501 1486.48 Q161.501 1479.35 159.672 1475.81 Q157.867 1472.25 154.232 1472.25 M154.232 1468.54 Q160.042 1468.54 163.098 1473.15 Q166.177 1477.73 166.177 1486.48 Q166.177 1495.21 163.098 1499.82 Q160.042 1504.4 154.232 1504.4 Q148.422 1504.4 145.343 1499.82 Q142.288 1495.21 142.288 1486.48 Q142.288 1477.73 145.343 1473.15 Q148.422 1468.54 154.232 1468.54 Z\" fill=\"#f8f8f2\" fill-rule=\"nonzero\" fill-opacity=\"1\" /><path clip-path=\"url(#clip980)\" d=\"M57.7745 1140.35 L74.0939 1140.35 L74.0939 1144.29 L52.1495 1144.29 L52.1495 1140.35 Q54.8115 1137.6 59.3949 1132.97 Q64.0013 1128.31 65.1819 1126.97 Q67.4272 1124.45 68.3068 1122.71 Q69.2096 1120.95 69.2096 1119.26 Q69.2096 1116.51 67.2652 1114.77 Q65.3439 1113.04 62.2421 1113.04 Q60.043 1113.04 57.5893 1113.8 Q55.1588 1114.56 52.381 1116.12 L52.381 1111.39 Q55.2051 1110.26 57.6588 1109.68 Q60.1124 1109.1 62.1495 1109.1 Q67.5198 1109.1 70.7142 1111.79 Q73.9087 1114.47 73.9087 1118.96 Q73.9087 1121.09 73.0985 1123.01 Q72.3115 1124.91 70.205 1127.5 Q69.6263 1128.18 66.5245 1131.39 Q63.4226 1134.59 57.7745 1140.35 Z\" fill=\"#f8f8f2\" fill-rule=\"nonzero\" fill-opacity=\"1\" /><path clip-path=\"url(#clip980)\" d=\"M93.9086 1112.81 Q90.2975 1112.81 88.4688 1116.37 Q86.6632 1119.91 86.6632 1127.04 Q86.6632 1134.15 88.4688 1137.71 Q90.2975 1141.25 93.9086 1141.25 Q97.5428 1141.25 99.3483 1137.71 Q101.177 1134.15 101.177 1127.04 Q101.177 1119.91 99.3483 1116.37 Q97.5428 1112.81 93.9086 1112.81 M93.9086 1109.1 Q99.7187 1109.1 102.774 1113.71 Q105.853 1118.29 105.853 1127.04 Q105.853 1135.77 102.774 1140.37 Q99.7187 1144.96 93.9086 1144.96 Q88.0984 1144.96 85.0197 1140.37 Q81.9642 1135.77 81.9642 1127.04 Q81.9642 1118.29 85.0197 1113.71 Q88.0984 1109.1 93.9086 1109.1 Z\" fill=\"#f8f8f2\" fill-rule=\"nonzero\" fill-opacity=\"1\" /><path clip-path=\"url(#clip980)\" d=\"M124.07 1112.81 Q120.459 1112.81 118.631 1116.37 Q116.825 1119.91 116.825 1127.04 Q116.825 1134.15 118.631 1137.71 Q120.459 1141.25 124.07 1141.25 Q127.705 1141.25 129.51 1137.71 Q131.339 1134.15 131.339 1127.04 Q131.339 1119.91 129.51 1116.37 Q127.705 1112.81 124.07 1112.81 M124.07 1109.1 Q129.881 1109.1 132.936 1113.71 Q136.015 1118.29 136.015 1127.04 Q136.015 1135.77 132.936 1140.37 Q129.881 1144.96 124.07 1144.96 Q118.26 1144.96 115.182 1140.37 Q112.126 1135.77 112.126 1127.04 Q112.126 1118.29 115.182 1113.71 Q118.26 1109.1 124.07 1109.1 Z\" fill=\"#f8f8f2\" fill-rule=\"nonzero\" fill-opacity=\"1\" /><path clip-path=\"url(#clip980)\" d=\"M154.232 1112.81 Q150.621 1112.81 148.793 1116.37 Q146.987 1119.91 146.987 1127.04 Q146.987 1134.15 148.793 1137.71 Q150.621 1141.25 154.232 1141.25 Q157.867 1141.25 159.672 1137.71 Q161.501 1134.15 161.501 1127.04 Q161.501 1119.91 159.672 1116.37 Q157.867 1112.81 154.232 1112.81 M154.232 1109.1 Q160.042 1109.1 163.098 1113.71 Q166.177 1118.29 166.177 1127.04 Q166.177 1135.77 163.098 1140.37 Q160.042 1144.96 154.232 1144.96 Q148.422 1144.96 145.343 1140.37 Q142.288 1135.77 142.288 1127.04 Q142.288 1118.29 145.343 1113.71 Q148.422 1109.1 154.232 1109.1 Z\" fill=\"#f8f8f2\" fill-rule=\"nonzero\" fill-opacity=\"1\" /><path clip-path=\"url(#clip980)\" d=\"M66.5939 754.359 L54.7884 772.808 L66.5939 772.808 L66.5939 754.359 M65.367 750.285 L71.2466 750.285 L71.2466 772.808 L76.1772 772.808 L76.1772 776.697 L71.2466 776.697 L71.2466 784.845 L66.5939 784.845 L66.5939 776.697 L50.9921 776.697 L50.9921 772.183 L65.367 750.285 Z\" fill=\"#f8f8f2\" fill-rule=\"nonzero\" fill-opacity=\"1\" /><path clip-path=\"url(#clip980)\" d=\"M93.9086 753.364 Q90.2975 753.364 88.4688 756.928 Q86.6632 760.47 86.6632 767.6 Q86.6632 774.706 88.4688 778.271 Q90.2975 781.812 93.9086 781.812 Q97.5428 781.812 99.3483 778.271 Q101.177 774.706 101.177 767.6 Q101.177 760.47 99.3483 756.928 Q97.5428 753.364 93.9086 753.364 M93.9086 749.66 Q99.7187 749.66 102.774 754.266 Q105.853 758.85 105.853 767.6 Q105.853 776.326 102.774 780.933 Q99.7187 785.516 93.9086 785.516 Q88.0984 785.516 85.0197 780.933 Q81.9642 776.326 81.9642 767.6 Q81.9642 758.85 85.0197 754.266 Q88.0984 749.66 93.9086 749.66 Z\" fill=\"#f8f8f2\" fill-rule=\"nonzero\" fill-opacity=\"1\" /><path clip-path=\"url(#clip980)\" d=\"M124.07 753.364 Q120.459 753.364 118.631 756.928 Q116.825 760.47 116.825 767.6 Q116.825 774.706 118.631 778.271 Q120.459 781.812 124.07 781.812 Q127.705 781.812 129.51 778.271 Q131.339 774.706 131.339 767.6 Q131.339 760.47 129.51 756.928 Q127.705 753.364 124.07 753.364 M124.07 749.66 Q129.881 749.66 132.936 754.266 Q136.015 758.85 136.015 767.6 Q136.015 776.326 132.936 780.933 Q129.881 785.516 124.07 785.516 Q118.26 785.516 115.182 780.933 Q112.126 776.326 112.126 767.6 Q112.126 758.85 115.182 754.266 Q118.26 749.66 124.07 749.66 Z\" fill=\"#f8f8f2\" fill-rule=\"nonzero\" fill-opacity=\"1\" /><path clip-path=\"url(#clip980)\" d=\"M154.232 753.364 Q150.621 753.364 148.793 756.928 Q146.987 760.47 146.987 767.6 Q146.987 774.706 148.793 778.271 Q150.621 781.812 154.232 781.812 Q157.867 781.812 159.672 778.271 Q161.501 774.706 161.501 767.6 Q161.501 760.47 159.672 756.928 Q157.867 753.364 154.232 753.364 M154.232 749.66 Q160.042 749.66 163.098 754.266 Q166.177 758.85 166.177 767.6 Q166.177 776.326 163.098 780.933 Q160.042 785.516 154.232 785.516 Q148.422 785.516 145.343 780.933 Q142.288 776.326 142.288 767.6 Q142.288 758.85 145.343 754.266 Q148.422 749.66 154.232 749.66 Z\" fill=\"#f8f8f2\" fill-rule=\"nonzero\" fill-opacity=\"1\" /><path clip-path=\"url(#clip980)\" d=\"M64.3254 406.26 Q61.1773 406.26 59.3254 408.413 Q57.4967 410.565 57.4967 414.315 Q57.4967 418.042 59.3254 420.218 Q61.1773 422.371 64.3254 422.371 Q67.4735 422.371 69.3022 420.218 Q71.1541 418.042 71.1541 414.315 Q71.1541 410.565 69.3022 408.413 Q67.4735 406.26 64.3254 406.26 M73.6077 391.607 L73.6077 395.866 Q71.8485 395.033 70.0429 394.593 Q68.2606 394.154 66.5013 394.154 Q61.8717 394.154 59.418 397.279 Q56.9875 400.403 56.6402 406.723 Q58.006 404.709 60.0662 403.644 Q62.1263 402.556 64.6032 402.556 Q69.8115 402.556 72.8207 405.728 Q75.8531 408.876 75.8531 414.315 Q75.8531 419.64 72.705 422.857 Q69.5568 426.075 64.3254 426.075 Q58.33 426.075 55.1588 421.491 Q51.9875 416.885 51.9875 408.158 Q51.9875 399.964 55.8764 395.103 Q59.7652 390.218 66.3161 390.218 Q68.0754 390.218 69.8578 390.566 Q71.6633 390.913 73.6077 391.607 Z\" fill=\"#f8f8f2\" fill-rule=\"nonzero\" fill-opacity=\"1\" /><path clip-path=\"url(#clip980)\" d=\"M93.9086 393.922 Q90.2975 393.922 88.4688 397.487 Q86.6632 401.028 86.6632 408.158 Q86.6632 415.265 88.4688 418.829 Q90.2975 422.371 93.9086 422.371 Q97.5428 422.371 99.3483 418.829 Q101.177 415.265 101.177 408.158 Q101.177 401.028 99.3483 397.487 Q97.5428 393.922 93.9086 393.922 M93.9086 390.218 Q99.7187 390.218 102.774 394.825 Q105.853 399.408 105.853 408.158 Q105.853 416.885 102.774 421.491 Q99.7187 426.075 93.9086 426.075 Q88.0984 426.075 85.0197 421.491 Q81.9642 416.885 81.9642 408.158 Q81.9642 399.408 85.0197 394.825 Q88.0984 390.218 93.9086 390.218 Z\" fill=\"#f8f8f2\" fill-rule=\"nonzero\" fill-opacity=\"1\" /><path clip-path=\"url(#clip980)\" d=\"M124.07 393.922 Q120.459 393.922 118.631 397.487 Q116.825 401.028 116.825 408.158 Q116.825 415.265 118.631 418.829 Q120.459 422.371 124.07 422.371 Q127.705 422.371 129.51 418.829 Q131.339 415.265 131.339 408.158 Q131.339 401.028 129.51 397.487 Q127.705 393.922 124.07 393.922 M124.07 390.218 Q129.881 390.218 132.936 394.825 Q136.015 399.408 136.015 408.158 Q136.015 416.885 132.936 421.491 Q129.881 426.075 124.07 426.075 Q118.26 426.075 115.182 421.491 Q112.126 416.885 112.126 408.158 Q112.126 399.408 115.182 394.825 Q118.26 390.218 124.07 390.218 Z\" fill=\"#f8f8f2\" fill-rule=\"nonzero\" fill-opacity=\"1\" /><path clip-path=\"url(#clip980)\" d=\"M154.232 393.922 Q150.621 393.922 148.793 397.487 Q146.987 401.028 146.987 408.158 Q146.987 415.265 148.793 418.829 Q150.621 422.371 154.232 422.371 Q157.867 422.371 159.672 418.829 Q161.501 415.265 161.501 408.158 Q161.501 401.028 159.672 397.487 Q157.867 393.922 154.232 393.922 M154.232 390.218 Q160.042 390.218 163.098 394.825 Q166.177 399.408 166.177 408.158 Q166.177 416.885 163.098 421.491 Q160.042 426.075 154.232 426.075 Q148.422 426.075 145.343 421.491 Q142.288 416.885 142.288 408.158 Q142.288 399.408 145.343 394.825 Q148.422 390.218 154.232 390.218 Z\" fill=\"#f8f8f2\" fill-rule=\"nonzero\" fill-opacity=\"1\" /><path clip-path=\"url(#clip980)\" d=\"M63.7467 49.5499 Q60.4134 49.5499 58.4921 51.3323 Q56.5939 53.1147 56.5939 56.2397 Q56.5939 59.3647 58.4921 61.1471 Q60.4134 62.9295 63.7467 62.9295 Q67.08 62.9295 69.0013 61.1471 Q70.9226 59.3415 70.9226 56.2397 Q70.9226 53.1147 69.0013 51.3323 Q67.1032 49.5499 63.7467 49.5499 M59.0708 47.5592 Q56.0615 46.8184 54.3717 44.7583 Q52.7051 42.6981 52.7051 39.7351 Q52.7051 35.5917 55.6449 33.1843 Q58.6078 30.7769 63.7467 30.7769 Q68.9087 30.7769 71.8485 33.1843 Q74.7883 35.5917 74.7883 39.7351 Q74.7883 42.6981 73.0985 44.7583 Q71.4318 46.8184 68.4457 47.5592 Q71.8253 48.3462 73.7003 50.6379 Q75.5985 52.9295 75.5985 56.2397 Q75.5985 61.2628 72.5198 63.948 Q69.4642 66.6332 63.7467 66.6332 Q58.0291 66.6332 54.9504 63.948 Q51.8949 61.2628 51.8949 56.2397 Q51.8949 52.9295 53.793 50.6379 Q55.6912 48.3462 59.0708 47.5592 M57.3578 40.175 Q57.3578 42.8601 59.0245 44.3648 Q60.7143 45.8694 63.7467 45.8694 Q66.7559 45.8694 68.4457 44.3648 Q70.1587 42.8601 70.1587 40.175 Q70.1587 37.4898 68.4457 35.9852 Q66.7559 34.4805 63.7467 34.4805 Q60.7143 34.4805 59.0245 35.9852 Q57.3578 37.4898 57.3578 40.175 Z\" fill=\"#f8f8f2\" fill-rule=\"nonzero\" fill-opacity=\"1\" /><path clip-path=\"url(#clip980)\" d=\"M93.9086 34.4805 Q90.2975 34.4805 88.4688 38.0453 Q86.6632 41.587 86.6632 48.7166 Q86.6632 55.823 88.4688 59.3878 Q90.2975 62.9295 93.9086 62.9295 Q97.5428 62.9295 99.3483 59.3878 Q101.177 55.823 101.177 48.7166 Q101.177 41.587 99.3483 38.0453 Q97.5428 34.4805 93.9086 34.4805 M93.9086 30.7769 Q99.7187 30.7769 102.774 35.3833 Q105.853 39.9666 105.853 48.7166 Q105.853 57.4434 102.774 62.0498 Q99.7187 66.6332 93.9086 66.6332 Q88.0984 66.6332 85.0197 62.0498 Q81.9642 57.4434 81.9642 48.7166 Q81.9642 39.9666 85.0197 35.3833 Q88.0984 30.7769 93.9086 30.7769 Z\" fill=\"#f8f8f2\" fill-rule=\"nonzero\" fill-opacity=\"1\" /><path clip-path=\"url(#clip980)\" d=\"M124.07 34.4805 Q120.459 34.4805 118.631 38.0453 Q116.825 41.587 116.825 48.7166 Q116.825 55.823 118.631 59.3878 Q120.459 62.9295 124.07 62.9295 Q127.705 62.9295 129.51 59.3878 Q131.339 55.823 131.339 48.7166 Q131.339 41.587 129.51 38.0453 Q127.705 34.4805 124.07 34.4805 M124.07 30.7769 Q129.881 30.7769 132.936 35.3833 Q136.015 39.9666 136.015 48.7166 Q136.015 57.4434 132.936 62.0498 Q129.881 66.6332 124.07 66.6332 Q118.26 66.6332 115.182 62.0498 Q112.126 57.4434 112.126 48.7166 Q112.126 39.9666 115.182 35.3833 Q118.26 30.7769 124.07 30.7769 Z\" fill=\"#f8f8f2\" fill-rule=\"nonzero\" fill-opacity=\"1\" /><path clip-path=\"url(#clip980)\" d=\"M154.232 34.4805 Q150.621 34.4805 148.793 38.0453 Q146.987 41.587 146.987 48.7166 Q146.987 55.823 148.793 59.3878 Q150.621 62.9295 154.232 62.9295 Q157.867 62.9295 159.672 59.3878 Q161.501 55.823 161.501 48.7166 Q161.501 41.587 159.672 38.0453 Q157.867 34.4805 154.232 34.4805 M154.232 30.7769 Q160.042 30.7769 163.098 35.3833 Q166.177 39.9666 166.177 48.7166 Q166.177 57.4434 163.098 62.0498 Q160.042 66.6332 154.232 66.6332 Q148.422 66.6332 145.343 62.0498 Q142.288 57.4434 142.288 48.7166 Q142.288 39.9666 145.343 35.3833 Q148.422 30.7769 154.232 30.7769 Z\" fill=\"#f8f8f2\" fill-rule=\"nonzero\" fill-opacity=\"1\" /><path clip-path=\"url(#clip982)\" d=\"M320.462 1486.09 L320.462 1486.45 L364.974 1486.45 L364.974 1486.09 L320.462 1486.09 L320.462 1486.09  Z\" fill=\"#8be9fd\" fill-rule=\"evenodd\" fill-opacity=\"1\"/>\n",
       "<polyline clip-path=\"url(#clip982)\" style=\"stroke:#f8f8f2; stroke-linecap:round; stroke-linejoin:round; stroke-width:4; stroke-opacity:1; fill:none\" points=\"320.462,1486.09 320.462,1486.45 364.974,1486.45 364.974,1486.09 320.462,1486.09 \"/>\n",
       "<path clip-path=\"url(#clip982)\" d=\"M364.974 1486.09 L364.974 1486.45 L409.486 1486.45 L409.486 1486.09 L364.974 1486.09 L364.974 1486.09  Z\" fill=\"#8be9fd\" fill-rule=\"evenodd\" fill-opacity=\"1\"/>\n",
       "<polyline clip-path=\"url(#clip982)\" style=\"stroke:#f8f8f2; stroke-linecap:round; stroke-linejoin:round; stroke-width:4; stroke-opacity:1; fill:none\" points=\"364.974,1486.09 364.974,1486.45 409.486,1486.45 409.486,1486.09 364.974,1486.09 \"/>\n",
       "<path clip-path=\"url(#clip982)\" d=\"M409.486 1484.65 L409.486 1486.45 L453.998 1486.45 L453.998 1484.65 L409.486 1484.65 L409.486 1484.65  Z\" fill=\"#8be9fd\" fill-rule=\"evenodd\" fill-opacity=\"1\"/>\n",
       "<polyline clip-path=\"url(#clip982)\" style=\"stroke:#f8f8f2; stroke-linecap:round; stroke-linejoin:round; stroke-width:4; stroke-opacity:1; fill:none\" points=\"409.486,1484.65 409.486,1486.45 453.998,1486.45 453.998,1484.65 409.486,1484.65 \"/>\n",
       "<path clip-path=\"url(#clip982)\" d=\"M453.998 1483.93 L453.998 1486.45 L498.51 1486.45 L498.51 1483.93 L453.998 1483.93 L453.998 1483.93  Z\" fill=\"#8be9fd\" fill-rule=\"evenodd\" fill-opacity=\"1\"/>\n",
       "<polyline clip-path=\"url(#clip982)\" style=\"stroke:#f8f8f2; stroke-linecap:round; stroke-linejoin:round; stroke-width:4; stroke-opacity:1; fill:none\" points=\"453.998,1483.93 453.998,1486.45 498.51,1486.45 498.51,1483.93 453.998,1483.93 \"/>\n",
       "<path clip-path=\"url(#clip982)\" d=\"M498.51 1481.24 L498.51 1486.45 L543.021 1486.45 L543.021 1481.24 L498.51 1481.24 L498.51 1481.24  Z\" fill=\"#8be9fd\" fill-rule=\"evenodd\" fill-opacity=\"1\"/>\n",
       "<polyline clip-path=\"url(#clip982)\" style=\"stroke:#f8f8f2; stroke-linecap:round; stroke-linejoin:round; stroke-width:4; stroke-opacity:1; fill:none\" points=\"498.51,1481.24 498.51,1486.45 543.021,1486.45 543.021,1481.24 498.51,1481.24 \"/>\n",
       "<path clip-path=\"url(#clip982)\" d=\"M543.021 1474.77 L543.021 1486.45 L587.533 1486.45 L587.533 1474.77 L543.021 1474.77 L543.021 1474.77  Z\" fill=\"#8be9fd\" fill-rule=\"evenodd\" fill-opacity=\"1\"/>\n",
       "<polyline clip-path=\"url(#clip982)\" style=\"stroke:#f8f8f2; stroke-linecap:round; stroke-linejoin:round; stroke-width:4; stroke-opacity:1; fill:none\" points=\"543.021,1474.77 543.021,1486.45 587.533,1486.45 587.533,1474.77 543.021,1474.77 \"/>\n",
       "<path clip-path=\"url(#clip982)\" d=\"M587.533 1465.06 L587.533 1486.45 L632.045 1486.45 L632.045 1465.06 L587.533 1465.06 L587.533 1465.06  Z\" fill=\"#8be9fd\" fill-rule=\"evenodd\" fill-opacity=\"1\"/>\n",
       "<polyline clip-path=\"url(#clip982)\" style=\"stroke:#f8f8f2; stroke-linecap:round; stroke-linejoin:round; stroke-width:4; stroke-opacity:1; fill:none\" points=\"587.533,1465.06 587.533,1486.45 632.045,1486.45 632.045,1465.06 587.533,1465.06 \"/>\n",
       "<path clip-path=\"url(#clip982)\" d=\"M632.045 1447.81 L632.045 1486.45 L676.557 1486.45 L676.557 1447.81 L632.045 1447.81 L632.045 1447.81  Z\" fill=\"#8be9fd\" fill-rule=\"evenodd\" fill-opacity=\"1\"/>\n",
       "<polyline clip-path=\"url(#clip982)\" style=\"stroke:#f8f8f2; stroke-linecap:round; stroke-linejoin:round; stroke-width:4; stroke-opacity:1; fill:none\" points=\"632.045,1447.81 632.045,1486.45 676.557,1486.45 676.557,1447.81 632.045,1447.81 \"/>\n",
       "<path clip-path=\"url(#clip982)\" d=\"M676.557 1426.06 L676.557 1486.45 L721.069 1486.45 L721.069 1426.06 L676.557 1426.06 L676.557 1426.06  Z\" fill=\"#8be9fd\" fill-rule=\"evenodd\" fill-opacity=\"1\"/>\n",
       "<polyline clip-path=\"url(#clip982)\" style=\"stroke:#f8f8f2; stroke-linecap:round; stroke-linejoin:round; stroke-width:4; stroke-opacity:1; fill:none\" points=\"676.557,1426.06 676.557,1486.45 721.069,1486.45 721.069,1426.06 676.557,1426.06 \"/>\n",
       "<path clip-path=\"url(#clip982)\" d=\"M721.069 1382.21 L721.069 1486.45 L765.58 1486.45 L765.58 1382.21 L721.069 1382.21 L721.069 1382.21  Z\" fill=\"#8be9fd\" fill-rule=\"evenodd\" fill-opacity=\"1\"/>\n",
       "<polyline clip-path=\"url(#clip982)\" style=\"stroke:#f8f8f2; stroke-linecap:round; stroke-linejoin:round; stroke-width:4; stroke-opacity:1; fill:none\" points=\"721.069,1382.21 721.069,1486.45 765.58,1486.45 765.58,1382.21 721.069,1382.21 \"/>\n",
       "<path clip-path=\"url(#clip982)\" d=\"M765.58 1323.08 L765.58 1486.45 L810.092 1486.45 L810.092 1323.08 L765.58 1323.08 L765.58 1323.08  Z\" fill=\"#8be9fd\" fill-rule=\"evenodd\" fill-opacity=\"1\"/>\n",
       "<polyline clip-path=\"url(#clip982)\" style=\"stroke:#f8f8f2; stroke-linecap:round; stroke-linejoin:round; stroke-width:4; stroke-opacity:1; fill:none\" points=\"765.58,1323.08 765.58,1486.45 810.092,1486.45 810.092,1323.08 765.58,1323.08 \"/>\n",
       "<path clip-path=\"url(#clip982)\" d=\"M810.092 1248.68 L810.092 1486.45 L854.604 1486.45 L854.604 1248.68 L810.092 1248.68 L810.092 1248.68  Z\" fill=\"#8be9fd\" fill-rule=\"evenodd\" fill-opacity=\"1\"/>\n",
       "<polyline clip-path=\"url(#clip982)\" style=\"stroke:#f8f8f2; stroke-linecap:round; stroke-linejoin:round; stroke-width:4; stroke-opacity:1; fill:none\" points=\"810.092,1248.68 810.092,1486.45 854.604,1486.45 854.604,1248.68 810.092,1248.68 \"/>\n",
       "<path clip-path=\"url(#clip982)\" d=\"M854.604 1154.5 L854.604 1486.45 L899.116 1486.45 L899.116 1154.5 L854.604 1154.5 L854.604 1154.5  Z\" fill=\"#8be9fd\" fill-rule=\"evenodd\" fill-opacity=\"1\"/>\n",
       "<polyline clip-path=\"url(#clip982)\" style=\"stroke:#f8f8f2; stroke-linecap:round; stroke-linejoin:round; stroke-width:4; stroke-opacity:1; fill:none\" points=\"854.604,1154.5 854.604,1486.45 899.116,1486.45 899.116,1154.5 854.604,1154.5 \"/>\n",
       "<path clip-path=\"url(#clip982)\" d=\"M899.116 1022.77 L899.116 1486.45 L943.628 1486.45 L943.628 1022.77 L899.116 1022.77 L899.116 1022.77  Z\" fill=\"#8be9fd\" fill-rule=\"evenodd\" fill-opacity=\"1\"/>\n",
       "<polyline clip-path=\"url(#clip982)\" style=\"stroke:#f8f8f2; stroke-linecap:round; stroke-linejoin:round; stroke-width:4; stroke-opacity:1; fill:none\" points=\"899.116,1022.77 899.116,1486.45 943.628,1486.45 943.628,1022.77 899.116,1022.77 \"/>\n",
       "<path clip-path=\"url(#clip982)\" d=\"M943.628 875.397 L943.628 1486.45 L988.14 1486.45 L988.14 875.397 L943.628 875.397 L943.628 875.397  Z\" fill=\"#8be9fd\" fill-rule=\"evenodd\" fill-opacity=\"1\"/>\n",
       "<polyline clip-path=\"url(#clip982)\" style=\"stroke:#f8f8f2; stroke-linecap:round; stroke-linejoin:round; stroke-width:4; stroke-opacity:1; fill:none\" points=\"943.628,875.397 943.628,1486.45 988.14,1486.45 988.14,875.397 943.628,875.397 \"/>\n",
       "<path clip-path=\"url(#clip982)\" d=\"M988.14 711.312 L988.14 1486.45 L1032.65 1486.45 L1032.65 711.312 L988.14 711.312 L988.14 711.312  Z\" fill=\"#8be9fd\" fill-rule=\"evenodd\" fill-opacity=\"1\"/>\n",
       "<polyline clip-path=\"url(#clip982)\" style=\"stroke:#f8f8f2; stroke-linecap:round; stroke-linejoin:round; stroke-width:4; stroke-opacity:1; fill:none\" points=\"988.14,711.312 988.14,1486.45 1032.65,1486.45 1032.65,711.312 988.14,711.312 \"/>\n",
       "<path clip-path=\"url(#clip982)\" d=\"M1032.65 523.324 L1032.65 1486.45 L1077.16 1486.45 L1077.16 523.324 L1032.65 523.324 L1032.65 523.324  Z\" fill=\"#8be9fd\" fill-rule=\"evenodd\" fill-opacity=\"1\"/>\n",
       "<polyline clip-path=\"url(#clip982)\" style=\"stroke:#f8f8f2; stroke-linecap:round; stroke-linejoin:round; stroke-width:4; stroke-opacity:1; fill:none\" points=\"1032.65,523.324 1032.65,1486.45 1077.16,1486.45 1077.16,523.324 1032.65,523.324 \"/>\n",
       "<path clip-path=\"url(#clip982)\" d=\"M1077.16 359.778 L1077.16 1486.45 L1121.67 1486.45 L1121.67 359.778 L1077.16 359.778 L1077.16 359.778  Z\" fill=\"#8be9fd\" fill-rule=\"evenodd\" fill-opacity=\"1\"/>\n",
       "<polyline clip-path=\"url(#clip982)\" style=\"stroke:#f8f8f2; stroke-linecap:round; stroke-linejoin:round; stroke-width:4; stroke-opacity:1; fill:none\" points=\"1077.16,359.778 1077.16,1486.45 1121.67,1486.45 1121.67,359.778 1077.16,359.778 \"/>\n",
       "<path clip-path=\"url(#clip982)\" d=\"M1121.67 218.877 L1121.67 1486.45 L1166.19 1486.45 L1166.19 218.877 L1121.67 218.877 L1121.67 218.877  Z\" fill=\"#8be9fd\" fill-rule=\"evenodd\" fill-opacity=\"1\"/>\n",
       "<polyline clip-path=\"url(#clip982)\" style=\"stroke:#f8f8f2; stroke-linecap:round; stroke-linejoin:round; stroke-width:4; stroke-opacity:1; fill:none\" points=\"1121.67,218.877 1121.67,1486.45 1166.19,1486.45 1166.19,218.877 1121.67,218.877 \"/>\n",
       "<path clip-path=\"url(#clip982)\" d=\"M1166.19 143.395 L1166.19 1486.45 L1210.7 1486.45 L1210.7 143.395 L1166.19 143.395 L1166.19 143.395  Z\" fill=\"#8be9fd\" fill-rule=\"evenodd\" fill-opacity=\"1\"/>\n",
       "<polyline clip-path=\"url(#clip982)\" style=\"stroke:#f8f8f2; stroke-linecap:round; stroke-linejoin:round; stroke-width:4; stroke-opacity:1; fill:none\" points=\"1166.19,143.395 1166.19,1486.45 1210.7,1486.45 1210.7,143.395 1166.19,143.395 \"/>\n",
       "<path clip-path=\"url(#clip982)\" d=\"M1210.7 57.4882 L1210.7 1486.45 L1255.21 1486.45 L1255.21 57.4882 L1210.7 57.4882 L1210.7 57.4882  Z\" fill=\"#8be9fd\" fill-rule=\"evenodd\" fill-opacity=\"1\"/>\n",
       "<polyline clip-path=\"url(#clip982)\" style=\"stroke:#f8f8f2; stroke-linecap:round; stroke-linejoin:round; stroke-width:4; stroke-opacity:1; fill:none\" points=\"1210.7,57.4882 1210.7,1486.45 1255.21,1486.45 1255.21,57.4882 1210.7,57.4882 \"/>\n",
       "<path clip-path=\"url(#clip982)\" d=\"M1255.21 47.2441 L1255.21 1486.45 L1299.72 1486.45 L1299.72 47.2441 L1255.21 47.2441 L1255.21 47.2441  Z\" fill=\"#8be9fd\" fill-rule=\"evenodd\" fill-opacity=\"1\"/>\n",
       "<polyline clip-path=\"url(#clip982)\" style=\"stroke:#f8f8f2; stroke-linecap:round; stroke-linejoin:round; stroke-width:4; stroke-opacity:1; fill:none\" points=\"1255.21,47.2441 1255.21,1486.45 1299.72,1486.45 1299.72,47.2441 1255.21,47.2441 \"/>\n",
       "<path clip-path=\"url(#clip982)\" d=\"M1299.72 103.317 L1299.72 1486.45 L1344.23 1486.45 L1344.23 103.317 L1299.72 103.317 L1299.72 103.317  Z\" fill=\"#8be9fd\" fill-rule=\"evenodd\" fill-opacity=\"1\"/>\n",
       "<polyline clip-path=\"url(#clip982)\" style=\"stroke:#f8f8f2; stroke-linecap:round; stroke-linejoin:round; stroke-width:4; stroke-opacity:1; fill:none\" points=\"1299.72,103.317 1299.72,1486.45 1344.23,1486.45 1344.23,103.317 1299.72,103.317 \"/>\n",
       "<path clip-path=\"url(#clip982)\" d=\"M1344.23 244.038 L1344.23 1486.45 L1388.75 1486.45 L1388.75 244.038 L1344.23 244.038 L1344.23 244.038  Z\" fill=\"#8be9fd\" fill-rule=\"evenodd\" fill-opacity=\"1\"/>\n",
       "<polyline clip-path=\"url(#clip982)\" style=\"stroke:#f8f8f2; stroke-linecap:round; stroke-linejoin:round; stroke-width:4; stroke-opacity:1; fill:none\" points=\"1344.23,244.038 1344.23,1486.45 1388.75,1486.45 1388.75,244.038 1344.23,244.038 \"/>\n",
       "<path clip-path=\"url(#clip982)\" d=\"M1388.75 315.567 L1388.75 1486.45 L1433.26 1486.45 L1433.26 315.567 L1388.75 315.567 L1388.75 315.567  Z\" fill=\"#8be9fd\" fill-rule=\"evenodd\" fill-opacity=\"1\"/>\n",
       "<polyline clip-path=\"url(#clip982)\" style=\"stroke:#f8f8f2; stroke-linecap:round; stroke-linejoin:round; stroke-width:4; stroke-opacity:1; fill:none\" points=\"1388.75,315.567 1388.75,1486.45 1433.26,1486.45 1433.26,315.567 1388.75,315.567 \"/>\n",
       "<path clip-path=\"url(#clip982)\" d=\"M1433.26 550.462 L1433.26 1486.45 L1477.77 1486.45 L1477.77 550.462 L1433.26 550.462 L1433.26 550.462  Z\" fill=\"#8be9fd\" fill-rule=\"evenodd\" fill-opacity=\"1\"/>\n",
       "<polyline clip-path=\"url(#clip982)\" style=\"stroke:#f8f8f2; stroke-linecap:round; stroke-linejoin:round; stroke-width:4; stroke-opacity:1; fill:none\" points=\"1433.26,550.462 1433.26,1486.45 1477.77,1486.45 1477.77,550.462 1433.26,550.462 \"/>\n",
       "<path clip-path=\"url(#clip982)\" d=\"M1477.77 698.732 L1477.77 1486.45 L1522.28 1486.45 L1522.28 698.732 L1477.77 698.732 L1477.77 698.732  Z\" fill=\"#8be9fd\" fill-rule=\"evenodd\" fill-opacity=\"1\"/>\n",
       "<polyline clip-path=\"url(#clip982)\" style=\"stroke:#f8f8f2; stroke-linecap:round; stroke-linejoin:round; stroke-width:4; stroke-opacity:1; fill:none\" points=\"1477.77,698.732 1477.77,1486.45 1522.28,1486.45 1522.28,698.732 1477.77,698.732 \"/>\n",
       "<path clip-path=\"url(#clip982)\" d=\"M1522.28 871.264 L1522.28 1486.45 L1566.79 1486.45 L1566.79 871.264 L1522.28 871.264 L1522.28 871.264  Z\" fill=\"#8be9fd\" fill-rule=\"evenodd\" fill-opacity=\"1\"/>\n",
       "<polyline clip-path=\"url(#clip982)\" style=\"stroke:#f8f8f2; stroke-linecap:round; stroke-linejoin:round; stroke-width:4; stroke-opacity:1; fill:none\" points=\"1522.28,871.264 1522.28,1486.45 1566.79,1486.45 1566.79,871.264 1522.28,871.264 \"/>\n",
       "<path clip-path=\"url(#clip982)\" d=\"M1566.79 1013.6 L1566.79 1486.45 L1611.3 1486.45 L1611.3 1013.6 L1566.79 1013.6 L1566.79 1013.6  Z\" fill=\"#8be9fd\" fill-rule=\"evenodd\" fill-opacity=\"1\"/>\n",
       "<polyline clip-path=\"url(#clip982)\" style=\"stroke:#f8f8f2; stroke-linecap:round; stroke-linejoin:round; stroke-width:4; stroke-opacity:1; fill:none\" points=\"1566.79,1013.6 1566.79,1486.45 1611.3,1486.45 1611.3,1013.6 1566.79,1013.6 \"/>\n",
       "<path clip-path=\"url(#clip982)\" d=\"M1611.3 1159.36 L1611.3 1486.45 L1655.82 1486.45 L1655.82 1159.36 L1611.3 1159.36 L1611.3 1159.36  Z\" fill=\"#8be9fd\" fill-rule=\"evenodd\" fill-opacity=\"1\"/>\n",
       "<polyline clip-path=\"url(#clip982)\" style=\"stroke:#f8f8f2; stroke-linecap:round; stroke-linejoin:round; stroke-width:4; stroke-opacity:1; fill:none\" points=\"1611.3,1159.36 1611.3,1486.45 1655.82,1486.45 1655.82,1159.36 1611.3,1159.36 \"/>\n",
       "<path clip-path=\"url(#clip982)\" d=\"M1655.82 1256.23 L1655.82 1486.45 L1700.33 1486.45 L1700.33 1256.23 L1655.82 1256.23 L1655.82 1256.23  Z\" fill=\"#8be9fd\" fill-rule=\"evenodd\" fill-opacity=\"1\"/>\n",
       "<polyline clip-path=\"url(#clip982)\" style=\"stroke:#f8f8f2; stroke-linecap:round; stroke-linejoin:round; stroke-width:4; stroke-opacity:1; fill:none\" points=\"1655.82,1256.23 1655.82,1486.45 1700.33,1486.45 1700.33,1256.23 1655.82,1256.23 \"/>\n",
       "<path clip-path=\"url(#clip982)\" d=\"M1700.33 1325.6 L1700.33 1486.45 L1744.84 1486.45 L1744.84 1325.6 L1700.33 1325.6 L1700.33 1325.6  Z\" fill=\"#8be9fd\" fill-rule=\"evenodd\" fill-opacity=\"1\"/>\n",
       "<polyline clip-path=\"url(#clip982)\" style=\"stroke:#f8f8f2; stroke-linecap:round; stroke-linejoin:round; stroke-width:4; stroke-opacity:1; fill:none\" points=\"1700.33,1325.6 1700.33,1486.45 1744.84,1486.45 1744.84,1325.6 1700.33,1325.6 \"/>\n",
       "<path clip-path=\"url(#clip982)\" d=\"M1744.84 1383.65 L1744.84 1486.45 L1789.35 1486.45 L1789.35 1383.65 L1744.84 1383.65 L1744.84 1383.65  Z\" fill=\"#8be9fd\" fill-rule=\"evenodd\" fill-opacity=\"1\"/>\n",
       "<polyline clip-path=\"url(#clip982)\" style=\"stroke:#f8f8f2; stroke-linecap:round; stroke-linejoin:round; stroke-width:4; stroke-opacity:1; fill:none\" points=\"1744.84,1383.65 1744.84,1486.45 1789.35,1486.45 1789.35,1383.65 1744.84,1383.65 \"/>\n",
       "<path clip-path=\"url(#clip982)\" d=\"M1789.35 1425.34 L1789.35 1486.45 L1833.86 1486.45 L1833.86 1425.34 L1789.35 1425.34 L1789.35 1425.34  Z\" fill=\"#8be9fd\" fill-rule=\"evenodd\" fill-opacity=\"1\"/>\n",
       "<polyline clip-path=\"url(#clip982)\" style=\"stroke:#f8f8f2; stroke-linecap:round; stroke-linejoin:round; stroke-width:4; stroke-opacity:1; fill:none\" points=\"1789.35,1425.34 1789.35,1486.45 1833.86,1486.45 1833.86,1425.34 1789.35,1425.34 \"/>\n",
       "<path clip-path=\"url(#clip982)\" d=\"M1833.86 1450.68 L1833.86 1486.45 L1878.38 1486.45 L1878.38 1450.68 L1833.86 1450.68 L1833.86 1450.68  Z\" fill=\"#8be9fd\" fill-rule=\"evenodd\" fill-opacity=\"1\"/>\n",
       "<polyline clip-path=\"url(#clip982)\" style=\"stroke:#f8f8f2; stroke-linecap:round; stroke-linejoin:round; stroke-width:4; stroke-opacity:1; fill:none\" points=\"1833.86,1450.68 1833.86,1486.45 1878.38,1486.45 1878.38,1450.68 1833.86,1450.68 \"/>\n",
       "<path clip-path=\"url(#clip982)\" d=\"M1878.38 1464.7 L1878.38 1486.45 L1922.89 1486.45 L1922.89 1464.7 L1878.38 1464.7 L1878.38 1464.7  Z\" fill=\"#8be9fd\" fill-rule=\"evenodd\" fill-opacity=\"1\"/>\n",
       "<polyline clip-path=\"url(#clip982)\" style=\"stroke:#f8f8f2; stroke-linecap:round; stroke-linejoin:round; stroke-width:4; stroke-opacity:1; fill:none\" points=\"1878.38,1464.7 1878.38,1486.45 1922.89,1486.45 1922.89,1464.7 1878.38,1464.7 \"/>\n",
       "<path clip-path=\"url(#clip982)\" d=\"M1922.89 1474.41 L1922.89 1486.45 L1967.4 1486.45 L1967.4 1474.41 L1922.89 1474.41 L1922.89 1474.41  Z\" fill=\"#8be9fd\" fill-rule=\"evenodd\" fill-opacity=\"1\"/>\n",
       "<polyline clip-path=\"url(#clip982)\" style=\"stroke:#f8f8f2; stroke-linecap:round; stroke-linejoin:round; stroke-width:4; stroke-opacity:1; fill:none\" points=\"1922.89,1474.41 1922.89,1486.45 1967.4,1486.45 1967.4,1474.41 1922.89,1474.41 \"/>\n",
       "<path clip-path=\"url(#clip982)\" d=\"M1967.4 1479.44 L1967.4 1486.45 L2011.91 1486.45 L2011.91 1479.44 L1967.4 1479.44 L1967.4 1479.44  Z\" fill=\"#8be9fd\" fill-rule=\"evenodd\" fill-opacity=\"1\"/>\n",
       "<polyline clip-path=\"url(#clip982)\" style=\"stroke:#f8f8f2; stroke-linecap:round; stroke-linejoin:round; stroke-width:4; stroke-opacity:1; fill:none\" points=\"1967.4,1479.44 1967.4,1486.45 2011.91,1486.45 2011.91,1479.44 1967.4,1479.44 \"/>\n",
       "<path clip-path=\"url(#clip982)\" d=\"M2011.91 1482.85 L2011.91 1486.45 L2056.42 1486.45 L2056.42 1482.85 L2011.91 1482.85 L2011.91 1482.85  Z\" fill=\"#8be9fd\" fill-rule=\"evenodd\" fill-opacity=\"1\"/>\n",
       "<polyline clip-path=\"url(#clip982)\" style=\"stroke:#f8f8f2; stroke-linecap:round; stroke-linejoin:round; stroke-width:4; stroke-opacity:1; fill:none\" points=\"2011.91,1482.85 2011.91,1486.45 2056.42,1486.45 2056.42,1482.85 2011.91,1482.85 \"/>\n",
       "<path clip-path=\"url(#clip982)\" d=\"M2056.42 1483.93 L2056.42 1486.45 L2100.93 1486.45 L2100.93 1483.93 L2056.42 1483.93 L2056.42 1483.93  Z\" fill=\"#8be9fd\" fill-rule=\"evenodd\" fill-opacity=\"1\"/>\n",
       "<polyline clip-path=\"url(#clip982)\" style=\"stroke:#f8f8f2; stroke-linecap:round; stroke-linejoin:round; stroke-width:4; stroke-opacity:1; fill:none\" points=\"2056.42,1483.93 2056.42,1486.45 2100.93,1486.45 2100.93,1483.93 2056.42,1483.93 \"/>\n",
       "<path clip-path=\"url(#clip982)\" d=\"M2100.93 1486.09 L2100.93 1486.45 L2145.45 1486.45 L2145.45 1486.09 L2100.93 1486.09 L2100.93 1486.09  Z\" fill=\"#8be9fd\" fill-rule=\"evenodd\" fill-opacity=\"1\"/>\n",
       "<polyline clip-path=\"url(#clip982)\" style=\"stroke:#f8f8f2; stroke-linecap:round; stroke-linejoin:round; stroke-width:4; stroke-opacity:1; fill:none\" points=\"2100.93,1486.09 2100.93,1486.45 2145.45,1486.45 2145.45,1486.09 2100.93,1486.09 \"/>\n",
       "<path clip-path=\"url(#clip982)\" d=\"M2145.45 1485.91 L2145.45 1486.45 L2189.96 1486.45 L2189.96 1485.91 L2145.45 1485.91 L2145.45 1485.91  Z\" fill=\"#8be9fd\" fill-rule=\"evenodd\" fill-opacity=\"1\"/>\n",
       "<polyline clip-path=\"url(#clip982)\" style=\"stroke:#f8f8f2; stroke-linecap:round; stroke-linejoin:round; stroke-width:4; stroke-opacity:1; fill:none\" points=\"2145.45,1485.91 2145.45,1486.45 2189.96,1486.45 2189.96,1485.91 2145.45,1485.91 \"/>\n",
       "<path clip-path=\"url(#clip982)\" d=\"M2189.96 1486.27 L2189.96 1486.45 L2234.47 1486.45 L2234.47 1486.27 L2189.96 1486.27 L2189.96 1486.27  Z\" fill=\"#8be9fd\" fill-rule=\"evenodd\" fill-opacity=\"1\"/>\n",
       "<polyline clip-path=\"url(#clip982)\" style=\"stroke:#f8f8f2; stroke-linecap:round; stroke-linejoin:round; stroke-width:4; stroke-opacity:1; fill:none\" points=\"2189.96,1486.27 2189.96,1486.45 2234.47,1486.45 2234.47,1486.27 2189.96,1486.27 \"/>\n",
       "<circle clip-path=\"url(#clip982)\" style=\"fill:#8be9fd; stroke:none; fill-opacity:0\" cx=\"342.718\" cy=\"1486.09\" r=\"2\"/>\n",
       "<circle clip-path=\"url(#clip982)\" style=\"fill:#8be9fd; stroke:none; fill-opacity:0\" cx=\"387.23\" cy=\"1486.09\" r=\"2\"/>\n",
       "<circle clip-path=\"url(#clip982)\" style=\"fill:#8be9fd; stroke:none; fill-opacity:0\" cx=\"431.742\" cy=\"1484.65\" r=\"2\"/>\n",
       "<circle clip-path=\"url(#clip982)\" style=\"fill:#8be9fd; stroke:none; fill-opacity:0\" cx=\"476.254\" cy=\"1483.93\" r=\"2\"/>\n",
       "<circle clip-path=\"url(#clip982)\" style=\"fill:#8be9fd; stroke:none; fill-opacity:0\" cx=\"520.766\" cy=\"1481.24\" r=\"2\"/>\n",
       "<circle clip-path=\"url(#clip982)\" style=\"fill:#8be9fd; stroke:none; fill-opacity:0\" cx=\"565.277\" cy=\"1474.77\" r=\"2\"/>\n",
       "<circle clip-path=\"url(#clip982)\" style=\"fill:#8be9fd; stroke:none; fill-opacity:0\" cx=\"609.789\" cy=\"1465.06\" r=\"2\"/>\n",
       "<circle clip-path=\"url(#clip982)\" style=\"fill:#8be9fd; stroke:none; fill-opacity:0\" cx=\"654.301\" cy=\"1447.81\" r=\"2\"/>\n",
       "<circle clip-path=\"url(#clip982)\" style=\"fill:#8be9fd; stroke:none; fill-opacity:0\" cx=\"698.813\" cy=\"1426.06\" r=\"2\"/>\n",
       "<circle clip-path=\"url(#clip982)\" style=\"fill:#8be9fd; stroke:none; fill-opacity:0\" cx=\"743.325\" cy=\"1382.21\" r=\"2\"/>\n",
       "<circle clip-path=\"url(#clip982)\" style=\"fill:#8be9fd; stroke:none; fill-opacity:0\" cx=\"787.836\" cy=\"1323.08\" r=\"2\"/>\n",
       "<circle clip-path=\"url(#clip982)\" style=\"fill:#8be9fd; stroke:none; fill-opacity:0\" cx=\"832.348\" cy=\"1248.68\" r=\"2\"/>\n",
       "<circle clip-path=\"url(#clip982)\" style=\"fill:#8be9fd; stroke:none; fill-opacity:0\" cx=\"876.86\" cy=\"1154.5\" r=\"2\"/>\n",
       "<circle clip-path=\"url(#clip982)\" style=\"fill:#8be9fd; stroke:none; fill-opacity:0\" cx=\"921.372\" cy=\"1022.77\" r=\"2\"/>\n",
       "<circle clip-path=\"url(#clip982)\" style=\"fill:#8be9fd; stroke:none; fill-opacity:0\" cx=\"965.884\" cy=\"875.397\" r=\"2\"/>\n",
       "<circle clip-path=\"url(#clip982)\" style=\"fill:#8be9fd; stroke:none; fill-opacity:0\" cx=\"1010.4\" cy=\"711.312\" r=\"2\"/>\n",
       "<circle clip-path=\"url(#clip982)\" style=\"fill:#8be9fd; stroke:none; fill-opacity:0\" cx=\"1054.91\" cy=\"523.324\" r=\"2\"/>\n",
       "<circle clip-path=\"url(#clip982)\" style=\"fill:#8be9fd; stroke:none; fill-opacity:0\" cx=\"1099.42\" cy=\"359.778\" r=\"2\"/>\n",
       "<circle clip-path=\"url(#clip982)\" style=\"fill:#8be9fd; stroke:none; fill-opacity:0\" cx=\"1143.93\" cy=\"218.877\" r=\"2\"/>\n",
       "<circle clip-path=\"url(#clip982)\" style=\"fill:#8be9fd; stroke:none; fill-opacity:0\" cx=\"1188.44\" cy=\"143.395\" r=\"2\"/>\n",
       "<circle clip-path=\"url(#clip982)\" style=\"fill:#8be9fd; stroke:none; fill-opacity:0\" cx=\"1232.95\" cy=\"57.4882\" r=\"2\"/>\n",
       "<circle clip-path=\"url(#clip982)\" style=\"fill:#8be9fd; stroke:none; fill-opacity:0\" cx=\"1277.47\" cy=\"47.2441\" r=\"2\"/>\n",
       "<circle clip-path=\"url(#clip982)\" style=\"fill:#8be9fd; stroke:none; fill-opacity:0\" cx=\"1321.98\" cy=\"103.317\" r=\"2\"/>\n",
       "<circle clip-path=\"url(#clip982)\" style=\"fill:#8be9fd; stroke:none; fill-opacity:0\" cx=\"1366.49\" cy=\"244.038\" r=\"2\"/>\n",
       "<circle clip-path=\"url(#clip982)\" style=\"fill:#8be9fd; stroke:none; fill-opacity:0\" cx=\"1411\" cy=\"315.567\" r=\"2\"/>\n",
       "<circle clip-path=\"url(#clip982)\" style=\"fill:#8be9fd; stroke:none; fill-opacity:0\" cx=\"1455.51\" cy=\"550.462\" r=\"2\"/>\n",
       "<circle clip-path=\"url(#clip982)\" style=\"fill:#8be9fd; stroke:none; fill-opacity:0\" cx=\"1500.03\" cy=\"698.732\" r=\"2\"/>\n",
       "<circle clip-path=\"url(#clip982)\" style=\"fill:#8be9fd; stroke:none; fill-opacity:0\" cx=\"1544.54\" cy=\"871.264\" r=\"2\"/>\n",
       "<circle clip-path=\"url(#clip982)\" style=\"fill:#8be9fd; stroke:none; fill-opacity:0\" cx=\"1589.05\" cy=\"1013.6\" r=\"2\"/>\n",
       "<circle clip-path=\"url(#clip982)\" style=\"fill:#8be9fd; stroke:none; fill-opacity:0\" cx=\"1633.56\" cy=\"1159.36\" r=\"2\"/>\n",
       "<circle clip-path=\"url(#clip982)\" style=\"fill:#8be9fd; stroke:none; fill-opacity:0\" cx=\"1678.07\" cy=\"1256.23\" r=\"2\"/>\n",
       "<circle clip-path=\"url(#clip982)\" style=\"fill:#8be9fd; stroke:none; fill-opacity:0\" cx=\"1722.58\" cy=\"1325.6\" r=\"2\"/>\n",
       "<circle clip-path=\"url(#clip982)\" style=\"fill:#8be9fd; stroke:none; fill-opacity:0\" cx=\"1767.1\" cy=\"1383.65\" r=\"2\"/>\n",
       "<circle clip-path=\"url(#clip982)\" style=\"fill:#8be9fd; stroke:none; fill-opacity:0\" cx=\"1811.61\" cy=\"1425.34\" r=\"2\"/>\n",
       "<circle clip-path=\"url(#clip982)\" style=\"fill:#8be9fd; stroke:none; fill-opacity:0\" cx=\"1856.12\" cy=\"1450.68\" r=\"2\"/>\n",
       "<circle clip-path=\"url(#clip982)\" style=\"fill:#8be9fd; stroke:none; fill-opacity:0\" cx=\"1900.63\" cy=\"1464.7\" r=\"2\"/>\n",
       "<circle clip-path=\"url(#clip982)\" style=\"fill:#8be9fd; stroke:none; fill-opacity:0\" cx=\"1945.14\" cy=\"1474.41\" r=\"2\"/>\n",
       "<circle clip-path=\"url(#clip982)\" style=\"fill:#8be9fd; stroke:none; fill-opacity:0\" cx=\"1989.66\" cy=\"1479.44\" r=\"2\"/>\n",
       "<circle clip-path=\"url(#clip982)\" style=\"fill:#8be9fd; stroke:none; fill-opacity:0\" cx=\"2034.17\" cy=\"1482.85\" r=\"2\"/>\n",
       "<circle clip-path=\"url(#clip982)\" style=\"fill:#8be9fd; stroke:none; fill-opacity:0\" cx=\"2078.68\" cy=\"1483.93\" r=\"2\"/>\n",
       "<circle clip-path=\"url(#clip982)\" style=\"fill:#8be9fd; stroke:none; fill-opacity:0\" cx=\"2123.19\" cy=\"1486.09\" r=\"2\"/>\n",
       "<circle clip-path=\"url(#clip982)\" style=\"fill:#8be9fd; stroke:none; fill-opacity:0\" cx=\"2167.7\" cy=\"1485.91\" r=\"2\"/>\n",
       "<circle clip-path=\"url(#clip982)\" style=\"fill:#8be9fd; stroke:none; fill-opacity:0\" cx=\"2212.21\" cy=\"1486.27\" r=\"2\"/>\n",
       "</svg>\n"
      ],
      "text/html": [
       "<?xml version=\"1.0\" encoding=\"utf-8\"?>\n",
       "<svg xmlns=\"http://www.w3.org/2000/svg\" xmlns:xlink=\"http://www.w3.org/1999/xlink\" width=\"600\" height=\"400\" viewBox=\"0 0 2400 1600\">\n",
       "<defs>\n",
       "  <clipPath id=\"clip030\">\n",
       "    <rect x=\"0\" y=\"0\" width=\"2400\" height=\"1600\"/>\n",
       "  </clipPath>\n",
       "</defs>\n",
       "<path clip-path=\"url(#clip030)\" d=\"M0 1600 L2400 1600 L2400 0 L0 0  Z\" fill=\"#282a36\" fill-rule=\"evenodd\" fill-opacity=\"1\"/>\n",
       "<defs>\n",
       "  <clipPath id=\"clip031\">\n",
       "    <rect x=\"480\" y=\"0\" width=\"1681\" height=\"1600\"/>\n",
       "  </clipPath>\n",
       "</defs>\n",
       "<path clip-path=\"url(#clip030)\" d=\"M202.177 1486.45 L2352.76 1486.45 L2352.76 47.2441 L202.177 47.2441  Z\" fill=\"#30343b\" fill-rule=\"evenodd\" fill-opacity=\"1\"/>\n",
       "<defs>\n",
       "  <clipPath id=\"clip032\">\n",
       "    <rect x=\"202\" y=\"47\" width=\"2152\" height=\"1440\"/>\n",
       "  </clipPath>\n",
       "</defs>\n",
       "<polyline clip-path=\"url(#clip032)\" style=\"stroke:#f8f8f2; stroke-linecap:round; stroke-linejoin:round; stroke-width:2; stroke-opacity:0.1; fill:none\" points=\"364.974,1486.45 364.974,47.2441 \"/>\n",
       "<polyline clip-path=\"url(#clip032)\" style=\"stroke:#f8f8f2; stroke-linecap:round; stroke-linejoin:round; stroke-width:2; stroke-opacity:0.1; fill:none\" points=\"810.092,1486.45 810.092,47.2441 \"/>\n",
       "<polyline clip-path=\"url(#clip032)\" style=\"stroke:#f8f8f2; stroke-linecap:round; stroke-linejoin:round; stroke-width:2; stroke-opacity:0.1; fill:none\" points=\"1255.21,1486.45 1255.21,47.2441 \"/>\n",
       "<polyline clip-path=\"url(#clip032)\" style=\"stroke:#f8f8f2; stroke-linecap:round; stroke-linejoin:round; stroke-width:2; stroke-opacity:0.1; fill:none\" points=\"1700.33,1486.45 1700.33,47.2441 \"/>\n",
       "<polyline clip-path=\"url(#clip032)\" style=\"stroke:#f8f8f2; stroke-linecap:round; stroke-linejoin:round; stroke-width:2; stroke-opacity:0.1; fill:none\" points=\"2145.45,1486.45 2145.45,47.2441 \"/>\n",
       "<polyline clip-path=\"url(#clip032)\" style=\"stroke:#f8f8f2; stroke-linecap:round; stroke-linejoin:round; stroke-width:2; stroke-opacity:0.1; fill:none\" points=\"202.177,1486.45 2352.76,1486.45 \"/>\n",
       "<polyline clip-path=\"url(#clip032)\" style=\"stroke:#f8f8f2; stroke-linecap:round; stroke-linejoin:round; stroke-width:2; stroke-opacity:0.1; fill:none\" points=\"202.177,1127.01 2352.76,1127.01 \"/>\n",
       "<polyline clip-path=\"url(#clip032)\" style=\"stroke:#f8f8f2; stroke-linecap:round; stroke-linejoin:round; stroke-width:2; stroke-opacity:0.1; fill:none\" points=\"202.177,767.565 2352.76,767.565 \"/>\n",
       "<polyline clip-path=\"url(#clip032)\" style=\"stroke:#f8f8f2; stroke-linecap:round; stroke-linejoin:round; stroke-width:2; stroke-opacity:0.1; fill:none\" points=\"202.177,408.123 2352.76,408.123 \"/>\n",
       "<polyline clip-path=\"url(#clip032)\" style=\"stroke:#f8f8f2; stroke-linecap:round; stroke-linejoin:round; stroke-width:2; stroke-opacity:0.1; fill:none\" points=\"202.177,48.6819 2352.76,48.6819 \"/>\n",
       "<polyline clip-path=\"url(#clip030)\" style=\"stroke:#f8f8f2; stroke-linecap:round; stroke-linejoin:round; stroke-width:4; stroke-opacity:1; fill:none\" points=\"202.177,1486.45 2352.76,1486.45 \"/>\n",
       "<polyline clip-path=\"url(#clip030)\" style=\"stroke:#f8f8f2; stroke-linecap:round; stroke-linejoin:round; stroke-width:4; stroke-opacity:1; fill:none\" points=\"364.974,1486.45 364.974,1467.55 \"/>\n",
       "<polyline clip-path=\"url(#clip030)\" style=\"stroke:#f8f8f2; stroke-linecap:round; stroke-linejoin:round; stroke-width:4; stroke-opacity:1; fill:none\" points=\"810.092,1486.45 810.092,1467.55 \"/>\n",
       "<polyline clip-path=\"url(#clip030)\" style=\"stroke:#f8f8f2; stroke-linecap:round; stroke-linejoin:round; stroke-width:4; stroke-opacity:1; fill:none\" points=\"1255.21,1486.45 1255.21,1467.55 \"/>\n",
       "<polyline clip-path=\"url(#clip030)\" style=\"stroke:#f8f8f2; stroke-linecap:round; stroke-linejoin:round; stroke-width:4; stroke-opacity:1; fill:none\" points=\"1700.33,1486.45 1700.33,1467.55 \"/>\n",
       "<polyline clip-path=\"url(#clip030)\" style=\"stroke:#f8f8f2; stroke-linecap:round; stroke-linejoin:round; stroke-width:4; stroke-opacity:1; fill:none\" points=\"2145.45,1486.45 2145.45,1467.55 \"/>\n",
       "<path clip-path=\"url(#clip030)\" d=\"M333.875 1532.02 L363.551 1532.02 L363.551 1535.95 L333.875 1535.95 L333.875 1532.02 Z\" fill=\"#f8f8f2\" fill-rule=\"nonzero\" fill-opacity=\"1\" /><path clip-path=\"url(#clip030)\" d=\"M386.49 1518.36 L374.685 1536.81 L386.49 1536.81 L386.49 1518.36 M385.263 1514.29 L391.143 1514.29 L391.143 1536.81 L396.074 1536.81 L396.074 1540.7 L391.143 1540.7 L391.143 1548.85 L386.49 1548.85 L386.49 1540.7 L370.889 1540.7 L370.889 1536.19 L385.263 1514.29 Z\" fill=\"#f8f8f2\" fill-rule=\"nonzero\" fill-opacity=\"1\" /><path clip-path=\"url(#clip030)\" d=\"M780.035 1532.02 L809.71 1532.02 L809.71 1535.95 L780.035 1535.95 L780.035 1532.02 Z\" fill=\"#f8f8f2\" fill-rule=\"nonzero\" fill-opacity=\"1\" /><path clip-path=\"url(#clip030)\" d=\"M823.831 1544.91 L840.15 1544.91 L840.15 1548.85 L818.206 1548.85 L818.206 1544.91 Q820.868 1542.16 825.451 1537.53 Q830.057 1532.88 831.238 1531.53 Q833.483 1529.01 834.363 1527.27 Q835.266 1525.51 835.266 1523.82 Q835.266 1521.07 833.321 1519.33 Q831.4 1517.6 828.298 1517.6 Q826.099 1517.6 823.645 1518.36 Q821.215 1519.13 818.437 1520.68 L818.437 1515.95 Q821.261 1514.82 823.715 1514.24 Q826.169 1513.66 828.206 1513.66 Q833.576 1513.66 836.77 1516.35 Q839.965 1519.03 839.965 1523.52 Q839.965 1525.65 839.155 1527.57 Q838.368 1529.47 836.261 1532.07 Q835.682 1532.74 832.581 1535.95 Q829.479 1539.15 823.831 1544.91 Z\" fill=\"#f8f8f2\" fill-rule=\"nonzero\" fill-opacity=\"1\" /><path clip-path=\"url(#clip030)\" d=\"M1255.21 1517.37 Q1251.6 1517.37 1249.77 1520.93 Q1247.97 1524.47 1247.97 1531.6 Q1247.97 1538.71 1249.77 1542.27 Q1251.6 1545.82 1255.21 1545.82 Q1258.84 1545.82 1260.65 1542.27 Q1262.48 1538.71 1262.48 1531.6 Q1262.48 1524.47 1260.65 1520.93 Q1258.84 1517.37 1255.21 1517.37 M1255.21 1513.66 Q1261.02 1513.66 1264.08 1518.27 Q1267.15 1522.85 1267.15 1531.6 Q1267.15 1540.33 1264.08 1544.94 Q1261.02 1549.52 1255.21 1549.52 Q1249.4 1549.52 1246.32 1544.94 Q1243.27 1540.33 1243.27 1531.6 Q1243.27 1522.85 1246.32 1518.27 Q1249.4 1513.66 1255.21 1513.66 Z\" fill=\"#f8f8f2\" fill-rule=\"nonzero\" fill-opacity=\"1\" /><path clip-path=\"url(#clip030)\" d=\"M1694.98 1544.91 L1711.3 1544.91 L1711.3 1548.85 L1689.36 1548.85 L1689.36 1544.91 Q1692.02 1542.16 1696.6 1537.53 Q1701.21 1532.88 1702.39 1531.53 Q1704.63 1529.01 1705.51 1527.27 Q1706.42 1525.51 1706.42 1523.82 Q1706.42 1521.07 1704.47 1519.33 Q1702.55 1517.6 1699.45 1517.6 Q1697.25 1517.6 1694.8 1518.36 Q1692.37 1519.13 1689.59 1520.68 L1689.59 1515.95 Q1692.41 1514.82 1694.87 1514.24 Q1697.32 1513.66 1699.36 1513.66 Q1704.73 1513.66 1707.92 1516.35 Q1711.12 1519.03 1711.12 1523.52 Q1711.12 1525.65 1710.31 1527.57 Q1709.52 1529.47 1707.41 1532.07 Q1706.83 1532.74 1703.73 1535.95 Q1700.63 1539.15 1694.98 1544.91 Z\" fill=\"#f8f8f2\" fill-rule=\"nonzero\" fill-opacity=\"1\" /><path clip-path=\"url(#clip030)\" d=\"M2148.46 1518.36 L2136.65 1536.81 L2148.46 1536.81 L2148.46 1518.36 M2147.23 1514.29 L2153.11 1514.29 L2153.11 1536.81 L2158.04 1536.81 L2158.04 1540.7 L2153.11 1540.7 L2153.11 1548.85 L2148.46 1548.85 L2148.46 1540.7 L2132.85 1540.7 L2132.85 1536.19 L2147.23 1514.29 Z\" fill=\"#f8f8f2\" fill-rule=\"nonzero\" fill-opacity=\"1\" /><polyline clip-path=\"url(#clip030)\" style=\"stroke:#f8f8f2; stroke-linecap:round; stroke-linejoin:round; stroke-width:4; stroke-opacity:1; fill:none\" points=\"202.177,1486.45 202.177,47.2441 \"/>\n",
       "<polyline clip-path=\"url(#clip030)\" style=\"stroke:#f8f8f2; stroke-linecap:round; stroke-linejoin:round; stroke-width:4; stroke-opacity:1; fill:none\" points=\"202.177,1486.45 221.074,1486.45 \"/>\n",
       "<polyline clip-path=\"url(#clip030)\" style=\"stroke:#f8f8f2; stroke-linecap:round; stroke-linejoin:round; stroke-width:4; stroke-opacity:1; fill:none\" points=\"202.177,1127.01 221.074,1127.01 \"/>\n",
       "<polyline clip-path=\"url(#clip030)\" style=\"stroke:#f8f8f2; stroke-linecap:round; stroke-linejoin:round; stroke-width:4; stroke-opacity:1; fill:none\" points=\"202.177,767.565 221.074,767.565 \"/>\n",
       "<polyline clip-path=\"url(#clip030)\" style=\"stroke:#f8f8f2; stroke-linecap:round; stroke-linejoin:round; stroke-width:4; stroke-opacity:1; fill:none\" points=\"202.177,408.123 221.074,408.123 \"/>\n",
       "<polyline clip-path=\"url(#clip030)\" style=\"stroke:#f8f8f2; stroke-linecap:round; stroke-linejoin:round; stroke-width:4; stroke-opacity:1; fill:none\" points=\"202.177,48.6819 221.074,48.6819 \"/>\n",
       "<path clip-path=\"url(#clip030)\" d=\"M154.232 1472.25 Q150.621 1472.25 148.793 1475.81 Q146.987 1479.35 146.987 1486.48 Q146.987 1493.59 148.793 1497.15 Q150.621 1500.7 154.232 1500.7 Q157.867 1500.7 159.672 1497.15 Q161.501 1493.59 161.501 1486.48 Q161.501 1479.35 159.672 1475.81 Q157.867 1472.25 154.232 1472.25 M154.232 1468.54 Q160.042 1468.54 163.098 1473.15 Q166.177 1477.73 166.177 1486.48 Q166.177 1495.21 163.098 1499.82 Q160.042 1504.4 154.232 1504.4 Q148.422 1504.4 145.343 1499.82 Q142.288 1495.21 142.288 1486.48 Q142.288 1477.73 145.343 1473.15 Q148.422 1468.54 154.232 1468.54 Z\" fill=\"#f8f8f2\" fill-rule=\"nonzero\" fill-opacity=\"1\" /><path clip-path=\"url(#clip030)\" d=\"M57.7745 1140.35 L74.0939 1140.35 L74.0939 1144.29 L52.1495 1144.29 L52.1495 1140.35 Q54.8115 1137.6 59.3949 1132.97 Q64.0013 1128.31 65.1819 1126.97 Q67.4272 1124.45 68.3068 1122.71 Q69.2096 1120.95 69.2096 1119.26 Q69.2096 1116.51 67.2652 1114.77 Q65.3439 1113.04 62.2421 1113.04 Q60.043 1113.04 57.5893 1113.8 Q55.1588 1114.56 52.381 1116.12 L52.381 1111.39 Q55.2051 1110.26 57.6588 1109.68 Q60.1124 1109.1 62.1495 1109.1 Q67.5198 1109.1 70.7142 1111.79 Q73.9087 1114.47 73.9087 1118.96 Q73.9087 1121.09 73.0985 1123.01 Q72.3115 1124.91 70.205 1127.5 Q69.6263 1128.18 66.5245 1131.39 Q63.4226 1134.59 57.7745 1140.35 Z\" fill=\"#f8f8f2\" fill-rule=\"nonzero\" fill-opacity=\"1\" /><path clip-path=\"url(#clip030)\" d=\"M93.9086 1112.81 Q90.2975 1112.81 88.4688 1116.37 Q86.6632 1119.91 86.6632 1127.04 Q86.6632 1134.15 88.4688 1137.71 Q90.2975 1141.25 93.9086 1141.25 Q97.5428 1141.25 99.3483 1137.71 Q101.177 1134.15 101.177 1127.04 Q101.177 1119.91 99.3483 1116.37 Q97.5428 1112.81 93.9086 1112.81 M93.9086 1109.1 Q99.7187 1109.1 102.774 1113.71 Q105.853 1118.29 105.853 1127.04 Q105.853 1135.77 102.774 1140.37 Q99.7187 1144.96 93.9086 1144.96 Q88.0984 1144.96 85.0197 1140.37 Q81.9642 1135.77 81.9642 1127.04 Q81.9642 1118.29 85.0197 1113.71 Q88.0984 1109.1 93.9086 1109.1 Z\" fill=\"#f8f8f2\" fill-rule=\"nonzero\" fill-opacity=\"1\" /><path clip-path=\"url(#clip030)\" d=\"M124.07 1112.81 Q120.459 1112.81 118.631 1116.37 Q116.825 1119.91 116.825 1127.04 Q116.825 1134.15 118.631 1137.71 Q120.459 1141.25 124.07 1141.25 Q127.705 1141.25 129.51 1137.71 Q131.339 1134.15 131.339 1127.04 Q131.339 1119.91 129.51 1116.37 Q127.705 1112.81 124.07 1112.81 M124.07 1109.1 Q129.881 1109.1 132.936 1113.71 Q136.015 1118.29 136.015 1127.04 Q136.015 1135.77 132.936 1140.37 Q129.881 1144.96 124.07 1144.96 Q118.26 1144.96 115.182 1140.37 Q112.126 1135.77 112.126 1127.04 Q112.126 1118.29 115.182 1113.71 Q118.26 1109.1 124.07 1109.1 Z\" fill=\"#f8f8f2\" fill-rule=\"nonzero\" fill-opacity=\"1\" /><path clip-path=\"url(#clip030)\" d=\"M154.232 1112.81 Q150.621 1112.81 148.793 1116.37 Q146.987 1119.91 146.987 1127.04 Q146.987 1134.15 148.793 1137.71 Q150.621 1141.25 154.232 1141.25 Q157.867 1141.25 159.672 1137.71 Q161.501 1134.15 161.501 1127.04 Q161.501 1119.91 159.672 1116.37 Q157.867 1112.81 154.232 1112.81 M154.232 1109.1 Q160.042 1109.1 163.098 1113.71 Q166.177 1118.29 166.177 1127.04 Q166.177 1135.77 163.098 1140.37 Q160.042 1144.96 154.232 1144.96 Q148.422 1144.96 145.343 1140.37 Q142.288 1135.77 142.288 1127.04 Q142.288 1118.29 145.343 1113.71 Q148.422 1109.1 154.232 1109.1 Z\" fill=\"#f8f8f2\" fill-rule=\"nonzero\" fill-opacity=\"1\" /><path clip-path=\"url(#clip030)\" d=\"M66.5939 754.359 L54.7884 772.808 L66.5939 772.808 L66.5939 754.359 M65.367 750.285 L71.2466 750.285 L71.2466 772.808 L76.1772 772.808 L76.1772 776.697 L71.2466 776.697 L71.2466 784.845 L66.5939 784.845 L66.5939 776.697 L50.9921 776.697 L50.9921 772.183 L65.367 750.285 Z\" fill=\"#f8f8f2\" fill-rule=\"nonzero\" fill-opacity=\"1\" /><path clip-path=\"url(#clip030)\" d=\"M93.9086 753.364 Q90.2975 753.364 88.4688 756.928 Q86.6632 760.47 86.6632 767.6 Q86.6632 774.706 88.4688 778.271 Q90.2975 781.812 93.9086 781.812 Q97.5428 781.812 99.3483 778.271 Q101.177 774.706 101.177 767.6 Q101.177 760.47 99.3483 756.928 Q97.5428 753.364 93.9086 753.364 M93.9086 749.66 Q99.7187 749.66 102.774 754.266 Q105.853 758.85 105.853 767.6 Q105.853 776.326 102.774 780.933 Q99.7187 785.516 93.9086 785.516 Q88.0984 785.516 85.0197 780.933 Q81.9642 776.326 81.9642 767.6 Q81.9642 758.85 85.0197 754.266 Q88.0984 749.66 93.9086 749.66 Z\" fill=\"#f8f8f2\" fill-rule=\"nonzero\" fill-opacity=\"1\" /><path clip-path=\"url(#clip030)\" d=\"M124.07 753.364 Q120.459 753.364 118.631 756.928 Q116.825 760.47 116.825 767.6 Q116.825 774.706 118.631 778.271 Q120.459 781.812 124.07 781.812 Q127.705 781.812 129.51 778.271 Q131.339 774.706 131.339 767.6 Q131.339 760.47 129.51 756.928 Q127.705 753.364 124.07 753.364 M124.07 749.66 Q129.881 749.66 132.936 754.266 Q136.015 758.85 136.015 767.6 Q136.015 776.326 132.936 780.933 Q129.881 785.516 124.07 785.516 Q118.26 785.516 115.182 780.933 Q112.126 776.326 112.126 767.6 Q112.126 758.85 115.182 754.266 Q118.26 749.66 124.07 749.66 Z\" fill=\"#f8f8f2\" fill-rule=\"nonzero\" fill-opacity=\"1\" /><path clip-path=\"url(#clip030)\" d=\"M154.232 753.364 Q150.621 753.364 148.793 756.928 Q146.987 760.47 146.987 767.6 Q146.987 774.706 148.793 778.271 Q150.621 781.812 154.232 781.812 Q157.867 781.812 159.672 778.271 Q161.501 774.706 161.501 767.6 Q161.501 760.47 159.672 756.928 Q157.867 753.364 154.232 753.364 M154.232 749.66 Q160.042 749.66 163.098 754.266 Q166.177 758.85 166.177 767.6 Q166.177 776.326 163.098 780.933 Q160.042 785.516 154.232 785.516 Q148.422 785.516 145.343 780.933 Q142.288 776.326 142.288 767.6 Q142.288 758.85 145.343 754.266 Q148.422 749.66 154.232 749.66 Z\" fill=\"#f8f8f2\" fill-rule=\"nonzero\" fill-opacity=\"1\" /><path clip-path=\"url(#clip030)\" d=\"M64.3254 406.26 Q61.1773 406.26 59.3254 408.413 Q57.4967 410.565 57.4967 414.315 Q57.4967 418.042 59.3254 420.218 Q61.1773 422.371 64.3254 422.371 Q67.4735 422.371 69.3022 420.218 Q71.1541 418.042 71.1541 414.315 Q71.1541 410.565 69.3022 408.413 Q67.4735 406.26 64.3254 406.26 M73.6077 391.607 L73.6077 395.866 Q71.8485 395.033 70.0429 394.593 Q68.2606 394.154 66.5013 394.154 Q61.8717 394.154 59.418 397.279 Q56.9875 400.403 56.6402 406.723 Q58.006 404.709 60.0662 403.644 Q62.1263 402.556 64.6032 402.556 Q69.8115 402.556 72.8207 405.728 Q75.8531 408.876 75.8531 414.315 Q75.8531 419.64 72.705 422.857 Q69.5568 426.075 64.3254 426.075 Q58.33 426.075 55.1588 421.491 Q51.9875 416.885 51.9875 408.158 Q51.9875 399.964 55.8764 395.103 Q59.7652 390.218 66.3161 390.218 Q68.0754 390.218 69.8578 390.566 Q71.6633 390.913 73.6077 391.607 Z\" fill=\"#f8f8f2\" fill-rule=\"nonzero\" fill-opacity=\"1\" /><path clip-path=\"url(#clip030)\" d=\"M93.9086 393.922 Q90.2975 393.922 88.4688 397.487 Q86.6632 401.028 86.6632 408.158 Q86.6632 415.265 88.4688 418.829 Q90.2975 422.371 93.9086 422.371 Q97.5428 422.371 99.3483 418.829 Q101.177 415.265 101.177 408.158 Q101.177 401.028 99.3483 397.487 Q97.5428 393.922 93.9086 393.922 M93.9086 390.218 Q99.7187 390.218 102.774 394.825 Q105.853 399.408 105.853 408.158 Q105.853 416.885 102.774 421.491 Q99.7187 426.075 93.9086 426.075 Q88.0984 426.075 85.0197 421.491 Q81.9642 416.885 81.9642 408.158 Q81.9642 399.408 85.0197 394.825 Q88.0984 390.218 93.9086 390.218 Z\" fill=\"#f8f8f2\" fill-rule=\"nonzero\" fill-opacity=\"1\" /><path clip-path=\"url(#clip030)\" d=\"M124.07 393.922 Q120.459 393.922 118.631 397.487 Q116.825 401.028 116.825 408.158 Q116.825 415.265 118.631 418.829 Q120.459 422.371 124.07 422.371 Q127.705 422.371 129.51 418.829 Q131.339 415.265 131.339 408.158 Q131.339 401.028 129.51 397.487 Q127.705 393.922 124.07 393.922 M124.07 390.218 Q129.881 390.218 132.936 394.825 Q136.015 399.408 136.015 408.158 Q136.015 416.885 132.936 421.491 Q129.881 426.075 124.07 426.075 Q118.26 426.075 115.182 421.491 Q112.126 416.885 112.126 408.158 Q112.126 399.408 115.182 394.825 Q118.26 390.218 124.07 390.218 Z\" fill=\"#f8f8f2\" fill-rule=\"nonzero\" fill-opacity=\"1\" /><path clip-path=\"url(#clip030)\" d=\"M154.232 393.922 Q150.621 393.922 148.793 397.487 Q146.987 401.028 146.987 408.158 Q146.987 415.265 148.793 418.829 Q150.621 422.371 154.232 422.371 Q157.867 422.371 159.672 418.829 Q161.501 415.265 161.501 408.158 Q161.501 401.028 159.672 397.487 Q157.867 393.922 154.232 393.922 M154.232 390.218 Q160.042 390.218 163.098 394.825 Q166.177 399.408 166.177 408.158 Q166.177 416.885 163.098 421.491 Q160.042 426.075 154.232 426.075 Q148.422 426.075 145.343 421.491 Q142.288 416.885 142.288 408.158 Q142.288 399.408 145.343 394.825 Q148.422 390.218 154.232 390.218 Z\" fill=\"#f8f8f2\" fill-rule=\"nonzero\" fill-opacity=\"1\" /><path clip-path=\"url(#clip030)\" d=\"M63.7467 49.5499 Q60.4134 49.5499 58.4921 51.3323 Q56.5939 53.1147 56.5939 56.2397 Q56.5939 59.3647 58.4921 61.1471 Q60.4134 62.9295 63.7467 62.9295 Q67.08 62.9295 69.0013 61.1471 Q70.9226 59.3415 70.9226 56.2397 Q70.9226 53.1147 69.0013 51.3323 Q67.1032 49.5499 63.7467 49.5499 M59.0708 47.5592 Q56.0615 46.8184 54.3717 44.7583 Q52.7051 42.6981 52.7051 39.7351 Q52.7051 35.5917 55.6449 33.1843 Q58.6078 30.7769 63.7467 30.7769 Q68.9087 30.7769 71.8485 33.1843 Q74.7883 35.5917 74.7883 39.7351 Q74.7883 42.6981 73.0985 44.7583 Q71.4318 46.8184 68.4457 47.5592 Q71.8253 48.3462 73.7003 50.6379 Q75.5985 52.9295 75.5985 56.2397 Q75.5985 61.2628 72.5198 63.948 Q69.4642 66.6332 63.7467 66.6332 Q58.0291 66.6332 54.9504 63.948 Q51.8949 61.2628 51.8949 56.2397 Q51.8949 52.9295 53.793 50.6379 Q55.6912 48.3462 59.0708 47.5592 M57.3578 40.175 Q57.3578 42.8601 59.0245 44.3648 Q60.7143 45.8694 63.7467 45.8694 Q66.7559 45.8694 68.4457 44.3648 Q70.1587 42.8601 70.1587 40.175 Q70.1587 37.4898 68.4457 35.9852 Q66.7559 34.4805 63.7467 34.4805 Q60.7143 34.4805 59.0245 35.9852 Q57.3578 37.4898 57.3578 40.175 Z\" fill=\"#f8f8f2\" fill-rule=\"nonzero\" fill-opacity=\"1\" /><path clip-path=\"url(#clip030)\" d=\"M93.9086 34.4805 Q90.2975 34.4805 88.4688 38.0453 Q86.6632 41.587 86.6632 48.7166 Q86.6632 55.823 88.4688 59.3878 Q90.2975 62.9295 93.9086 62.9295 Q97.5428 62.9295 99.3483 59.3878 Q101.177 55.823 101.177 48.7166 Q101.177 41.587 99.3483 38.0453 Q97.5428 34.4805 93.9086 34.4805 M93.9086 30.7769 Q99.7187 30.7769 102.774 35.3833 Q105.853 39.9666 105.853 48.7166 Q105.853 57.4434 102.774 62.0498 Q99.7187 66.6332 93.9086 66.6332 Q88.0984 66.6332 85.0197 62.0498 Q81.9642 57.4434 81.9642 48.7166 Q81.9642 39.9666 85.0197 35.3833 Q88.0984 30.7769 93.9086 30.7769 Z\" fill=\"#f8f8f2\" fill-rule=\"nonzero\" fill-opacity=\"1\" /><path clip-path=\"url(#clip030)\" d=\"M124.07 34.4805 Q120.459 34.4805 118.631 38.0453 Q116.825 41.587 116.825 48.7166 Q116.825 55.823 118.631 59.3878 Q120.459 62.9295 124.07 62.9295 Q127.705 62.9295 129.51 59.3878 Q131.339 55.823 131.339 48.7166 Q131.339 41.587 129.51 38.0453 Q127.705 34.4805 124.07 34.4805 M124.07 30.7769 Q129.881 30.7769 132.936 35.3833 Q136.015 39.9666 136.015 48.7166 Q136.015 57.4434 132.936 62.0498 Q129.881 66.6332 124.07 66.6332 Q118.26 66.6332 115.182 62.0498 Q112.126 57.4434 112.126 48.7166 Q112.126 39.9666 115.182 35.3833 Q118.26 30.7769 124.07 30.7769 Z\" fill=\"#f8f8f2\" fill-rule=\"nonzero\" fill-opacity=\"1\" /><path clip-path=\"url(#clip030)\" d=\"M154.232 34.4805 Q150.621 34.4805 148.793 38.0453 Q146.987 41.587 146.987 48.7166 Q146.987 55.823 148.793 59.3878 Q150.621 62.9295 154.232 62.9295 Q157.867 62.9295 159.672 59.3878 Q161.501 55.823 161.501 48.7166 Q161.501 41.587 159.672 38.0453 Q157.867 34.4805 154.232 34.4805 M154.232 30.7769 Q160.042 30.7769 163.098 35.3833 Q166.177 39.9666 166.177 48.7166 Q166.177 57.4434 163.098 62.0498 Q160.042 66.6332 154.232 66.6332 Q148.422 66.6332 145.343 62.0498 Q142.288 57.4434 142.288 48.7166 Q142.288 39.9666 145.343 35.3833 Q148.422 30.7769 154.232 30.7769 Z\" fill=\"#f8f8f2\" fill-rule=\"nonzero\" fill-opacity=\"1\" /><path clip-path=\"url(#clip032)\" d=\"M320.462 1486.09 L320.462 1486.45 L364.974 1486.45 L364.974 1486.09 L320.462 1486.09 L320.462 1486.09  Z\" fill=\"#8be9fd\" fill-rule=\"evenodd\" fill-opacity=\"1\"/>\n",
       "<polyline clip-path=\"url(#clip032)\" style=\"stroke:#f8f8f2; stroke-linecap:round; stroke-linejoin:round; stroke-width:4; stroke-opacity:1; fill:none\" points=\"320.462,1486.09 320.462,1486.45 364.974,1486.45 364.974,1486.09 320.462,1486.09 \"/>\n",
       "<path clip-path=\"url(#clip032)\" d=\"M364.974 1486.09 L364.974 1486.45 L409.486 1486.45 L409.486 1486.09 L364.974 1486.09 L364.974 1486.09  Z\" fill=\"#8be9fd\" fill-rule=\"evenodd\" fill-opacity=\"1\"/>\n",
       "<polyline clip-path=\"url(#clip032)\" style=\"stroke:#f8f8f2; stroke-linecap:round; stroke-linejoin:round; stroke-width:4; stroke-opacity:1; fill:none\" points=\"364.974,1486.09 364.974,1486.45 409.486,1486.45 409.486,1486.09 364.974,1486.09 \"/>\n",
       "<path clip-path=\"url(#clip032)\" d=\"M409.486 1484.65 L409.486 1486.45 L453.998 1486.45 L453.998 1484.65 L409.486 1484.65 L409.486 1484.65  Z\" fill=\"#8be9fd\" fill-rule=\"evenodd\" fill-opacity=\"1\"/>\n",
       "<polyline clip-path=\"url(#clip032)\" style=\"stroke:#f8f8f2; stroke-linecap:round; stroke-linejoin:round; stroke-width:4; stroke-opacity:1; fill:none\" points=\"409.486,1484.65 409.486,1486.45 453.998,1486.45 453.998,1484.65 409.486,1484.65 \"/>\n",
       "<path clip-path=\"url(#clip032)\" d=\"M453.998 1483.93 L453.998 1486.45 L498.51 1486.45 L498.51 1483.93 L453.998 1483.93 L453.998 1483.93  Z\" fill=\"#8be9fd\" fill-rule=\"evenodd\" fill-opacity=\"1\"/>\n",
       "<polyline clip-path=\"url(#clip032)\" style=\"stroke:#f8f8f2; stroke-linecap:round; stroke-linejoin:round; stroke-width:4; stroke-opacity:1; fill:none\" points=\"453.998,1483.93 453.998,1486.45 498.51,1486.45 498.51,1483.93 453.998,1483.93 \"/>\n",
       "<path clip-path=\"url(#clip032)\" d=\"M498.51 1481.24 L498.51 1486.45 L543.021 1486.45 L543.021 1481.24 L498.51 1481.24 L498.51 1481.24  Z\" fill=\"#8be9fd\" fill-rule=\"evenodd\" fill-opacity=\"1\"/>\n",
       "<polyline clip-path=\"url(#clip032)\" style=\"stroke:#f8f8f2; stroke-linecap:round; stroke-linejoin:round; stroke-width:4; stroke-opacity:1; fill:none\" points=\"498.51,1481.24 498.51,1486.45 543.021,1486.45 543.021,1481.24 498.51,1481.24 \"/>\n",
       "<path clip-path=\"url(#clip032)\" d=\"M543.021 1474.77 L543.021 1486.45 L587.533 1486.45 L587.533 1474.77 L543.021 1474.77 L543.021 1474.77  Z\" fill=\"#8be9fd\" fill-rule=\"evenodd\" fill-opacity=\"1\"/>\n",
       "<polyline clip-path=\"url(#clip032)\" style=\"stroke:#f8f8f2; stroke-linecap:round; stroke-linejoin:round; stroke-width:4; stroke-opacity:1; fill:none\" points=\"543.021,1474.77 543.021,1486.45 587.533,1486.45 587.533,1474.77 543.021,1474.77 \"/>\n",
       "<path clip-path=\"url(#clip032)\" d=\"M587.533 1465.06 L587.533 1486.45 L632.045 1486.45 L632.045 1465.06 L587.533 1465.06 L587.533 1465.06  Z\" fill=\"#8be9fd\" fill-rule=\"evenodd\" fill-opacity=\"1\"/>\n",
       "<polyline clip-path=\"url(#clip032)\" style=\"stroke:#f8f8f2; stroke-linecap:round; stroke-linejoin:round; stroke-width:4; stroke-opacity:1; fill:none\" points=\"587.533,1465.06 587.533,1486.45 632.045,1486.45 632.045,1465.06 587.533,1465.06 \"/>\n",
       "<path clip-path=\"url(#clip032)\" d=\"M632.045 1447.81 L632.045 1486.45 L676.557 1486.45 L676.557 1447.81 L632.045 1447.81 L632.045 1447.81  Z\" fill=\"#8be9fd\" fill-rule=\"evenodd\" fill-opacity=\"1\"/>\n",
       "<polyline clip-path=\"url(#clip032)\" style=\"stroke:#f8f8f2; stroke-linecap:round; stroke-linejoin:round; stroke-width:4; stroke-opacity:1; fill:none\" points=\"632.045,1447.81 632.045,1486.45 676.557,1486.45 676.557,1447.81 632.045,1447.81 \"/>\n",
       "<path clip-path=\"url(#clip032)\" d=\"M676.557 1426.06 L676.557 1486.45 L721.069 1486.45 L721.069 1426.06 L676.557 1426.06 L676.557 1426.06  Z\" fill=\"#8be9fd\" fill-rule=\"evenodd\" fill-opacity=\"1\"/>\n",
       "<polyline clip-path=\"url(#clip032)\" style=\"stroke:#f8f8f2; stroke-linecap:round; stroke-linejoin:round; stroke-width:4; stroke-opacity:1; fill:none\" points=\"676.557,1426.06 676.557,1486.45 721.069,1486.45 721.069,1426.06 676.557,1426.06 \"/>\n",
       "<path clip-path=\"url(#clip032)\" d=\"M721.069 1382.21 L721.069 1486.45 L765.58 1486.45 L765.58 1382.21 L721.069 1382.21 L721.069 1382.21  Z\" fill=\"#8be9fd\" fill-rule=\"evenodd\" fill-opacity=\"1\"/>\n",
       "<polyline clip-path=\"url(#clip032)\" style=\"stroke:#f8f8f2; stroke-linecap:round; stroke-linejoin:round; stroke-width:4; stroke-opacity:1; fill:none\" points=\"721.069,1382.21 721.069,1486.45 765.58,1486.45 765.58,1382.21 721.069,1382.21 \"/>\n",
       "<path clip-path=\"url(#clip032)\" d=\"M765.58 1323.08 L765.58 1486.45 L810.092 1486.45 L810.092 1323.08 L765.58 1323.08 L765.58 1323.08  Z\" fill=\"#8be9fd\" fill-rule=\"evenodd\" fill-opacity=\"1\"/>\n",
       "<polyline clip-path=\"url(#clip032)\" style=\"stroke:#f8f8f2; stroke-linecap:round; stroke-linejoin:round; stroke-width:4; stroke-opacity:1; fill:none\" points=\"765.58,1323.08 765.58,1486.45 810.092,1486.45 810.092,1323.08 765.58,1323.08 \"/>\n",
       "<path clip-path=\"url(#clip032)\" d=\"M810.092 1248.68 L810.092 1486.45 L854.604 1486.45 L854.604 1248.68 L810.092 1248.68 L810.092 1248.68  Z\" fill=\"#8be9fd\" fill-rule=\"evenodd\" fill-opacity=\"1\"/>\n",
       "<polyline clip-path=\"url(#clip032)\" style=\"stroke:#f8f8f2; stroke-linecap:round; stroke-linejoin:round; stroke-width:4; stroke-opacity:1; fill:none\" points=\"810.092,1248.68 810.092,1486.45 854.604,1486.45 854.604,1248.68 810.092,1248.68 \"/>\n",
       "<path clip-path=\"url(#clip032)\" d=\"M854.604 1154.5 L854.604 1486.45 L899.116 1486.45 L899.116 1154.5 L854.604 1154.5 L854.604 1154.5  Z\" fill=\"#8be9fd\" fill-rule=\"evenodd\" fill-opacity=\"1\"/>\n",
       "<polyline clip-path=\"url(#clip032)\" style=\"stroke:#f8f8f2; stroke-linecap:round; stroke-linejoin:round; stroke-width:4; stroke-opacity:1; fill:none\" points=\"854.604,1154.5 854.604,1486.45 899.116,1486.45 899.116,1154.5 854.604,1154.5 \"/>\n",
       "<path clip-path=\"url(#clip032)\" d=\"M899.116 1022.77 L899.116 1486.45 L943.628 1486.45 L943.628 1022.77 L899.116 1022.77 L899.116 1022.77  Z\" fill=\"#8be9fd\" fill-rule=\"evenodd\" fill-opacity=\"1\"/>\n",
       "<polyline clip-path=\"url(#clip032)\" style=\"stroke:#f8f8f2; stroke-linecap:round; stroke-linejoin:round; stroke-width:4; stroke-opacity:1; fill:none\" points=\"899.116,1022.77 899.116,1486.45 943.628,1486.45 943.628,1022.77 899.116,1022.77 \"/>\n",
       "<path clip-path=\"url(#clip032)\" d=\"M943.628 875.397 L943.628 1486.45 L988.14 1486.45 L988.14 875.397 L943.628 875.397 L943.628 875.397  Z\" fill=\"#8be9fd\" fill-rule=\"evenodd\" fill-opacity=\"1\"/>\n",
       "<polyline clip-path=\"url(#clip032)\" style=\"stroke:#f8f8f2; stroke-linecap:round; stroke-linejoin:round; stroke-width:4; stroke-opacity:1; fill:none\" points=\"943.628,875.397 943.628,1486.45 988.14,1486.45 988.14,875.397 943.628,875.397 \"/>\n",
       "<path clip-path=\"url(#clip032)\" d=\"M988.14 711.312 L988.14 1486.45 L1032.65 1486.45 L1032.65 711.312 L988.14 711.312 L988.14 711.312  Z\" fill=\"#8be9fd\" fill-rule=\"evenodd\" fill-opacity=\"1\"/>\n",
       "<polyline clip-path=\"url(#clip032)\" style=\"stroke:#f8f8f2; stroke-linecap:round; stroke-linejoin:round; stroke-width:4; stroke-opacity:1; fill:none\" points=\"988.14,711.312 988.14,1486.45 1032.65,1486.45 1032.65,711.312 988.14,711.312 \"/>\n",
       "<path clip-path=\"url(#clip032)\" d=\"M1032.65 523.324 L1032.65 1486.45 L1077.16 1486.45 L1077.16 523.324 L1032.65 523.324 L1032.65 523.324  Z\" fill=\"#8be9fd\" fill-rule=\"evenodd\" fill-opacity=\"1\"/>\n",
       "<polyline clip-path=\"url(#clip032)\" style=\"stroke:#f8f8f2; stroke-linecap:round; stroke-linejoin:round; stroke-width:4; stroke-opacity:1; fill:none\" points=\"1032.65,523.324 1032.65,1486.45 1077.16,1486.45 1077.16,523.324 1032.65,523.324 \"/>\n",
       "<path clip-path=\"url(#clip032)\" d=\"M1077.16 359.778 L1077.16 1486.45 L1121.67 1486.45 L1121.67 359.778 L1077.16 359.778 L1077.16 359.778  Z\" fill=\"#8be9fd\" fill-rule=\"evenodd\" fill-opacity=\"1\"/>\n",
       "<polyline clip-path=\"url(#clip032)\" style=\"stroke:#f8f8f2; stroke-linecap:round; stroke-linejoin:round; stroke-width:4; stroke-opacity:1; fill:none\" points=\"1077.16,359.778 1077.16,1486.45 1121.67,1486.45 1121.67,359.778 1077.16,359.778 \"/>\n",
       "<path clip-path=\"url(#clip032)\" d=\"M1121.67 218.877 L1121.67 1486.45 L1166.19 1486.45 L1166.19 218.877 L1121.67 218.877 L1121.67 218.877  Z\" fill=\"#8be9fd\" fill-rule=\"evenodd\" fill-opacity=\"1\"/>\n",
       "<polyline clip-path=\"url(#clip032)\" style=\"stroke:#f8f8f2; stroke-linecap:round; stroke-linejoin:round; stroke-width:4; stroke-opacity:1; fill:none\" points=\"1121.67,218.877 1121.67,1486.45 1166.19,1486.45 1166.19,218.877 1121.67,218.877 \"/>\n",
       "<path clip-path=\"url(#clip032)\" d=\"M1166.19 143.395 L1166.19 1486.45 L1210.7 1486.45 L1210.7 143.395 L1166.19 143.395 L1166.19 143.395  Z\" fill=\"#8be9fd\" fill-rule=\"evenodd\" fill-opacity=\"1\"/>\n",
       "<polyline clip-path=\"url(#clip032)\" style=\"stroke:#f8f8f2; stroke-linecap:round; stroke-linejoin:round; stroke-width:4; stroke-opacity:1; fill:none\" points=\"1166.19,143.395 1166.19,1486.45 1210.7,1486.45 1210.7,143.395 1166.19,143.395 \"/>\n",
       "<path clip-path=\"url(#clip032)\" d=\"M1210.7 57.4882 L1210.7 1486.45 L1255.21 1486.45 L1255.21 57.4882 L1210.7 57.4882 L1210.7 57.4882  Z\" fill=\"#8be9fd\" fill-rule=\"evenodd\" fill-opacity=\"1\"/>\n",
       "<polyline clip-path=\"url(#clip032)\" style=\"stroke:#f8f8f2; stroke-linecap:round; stroke-linejoin:round; stroke-width:4; stroke-opacity:1; fill:none\" points=\"1210.7,57.4882 1210.7,1486.45 1255.21,1486.45 1255.21,57.4882 1210.7,57.4882 \"/>\n",
       "<path clip-path=\"url(#clip032)\" d=\"M1255.21 47.2441 L1255.21 1486.45 L1299.72 1486.45 L1299.72 47.2441 L1255.21 47.2441 L1255.21 47.2441  Z\" fill=\"#8be9fd\" fill-rule=\"evenodd\" fill-opacity=\"1\"/>\n",
       "<polyline clip-path=\"url(#clip032)\" style=\"stroke:#f8f8f2; stroke-linecap:round; stroke-linejoin:round; stroke-width:4; stroke-opacity:1; fill:none\" points=\"1255.21,47.2441 1255.21,1486.45 1299.72,1486.45 1299.72,47.2441 1255.21,47.2441 \"/>\n",
       "<path clip-path=\"url(#clip032)\" d=\"M1299.72 103.317 L1299.72 1486.45 L1344.23 1486.45 L1344.23 103.317 L1299.72 103.317 L1299.72 103.317  Z\" fill=\"#8be9fd\" fill-rule=\"evenodd\" fill-opacity=\"1\"/>\n",
       "<polyline clip-path=\"url(#clip032)\" style=\"stroke:#f8f8f2; stroke-linecap:round; stroke-linejoin:round; stroke-width:4; stroke-opacity:1; fill:none\" points=\"1299.72,103.317 1299.72,1486.45 1344.23,1486.45 1344.23,103.317 1299.72,103.317 \"/>\n",
       "<path clip-path=\"url(#clip032)\" d=\"M1344.23 244.038 L1344.23 1486.45 L1388.75 1486.45 L1388.75 244.038 L1344.23 244.038 L1344.23 244.038  Z\" fill=\"#8be9fd\" fill-rule=\"evenodd\" fill-opacity=\"1\"/>\n",
       "<polyline clip-path=\"url(#clip032)\" style=\"stroke:#f8f8f2; stroke-linecap:round; stroke-linejoin:round; stroke-width:4; stroke-opacity:1; fill:none\" points=\"1344.23,244.038 1344.23,1486.45 1388.75,1486.45 1388.75,244.038 1344.23,244.038 \"/>\n",
       "<path clip-path=\"url(#clip032)\" d=\"M1388.75 315.567 L1388.75 1486.45 L1433.26 1486.45 L1433.26 315.567 L1388.75 315.567 L1388.75 315.567  Z\" fill=\"#8be9fd\" fill-rule=\"evenodd\" fill-opacity=\"1\"/>\n",
       "<polyline clip-path=\"url(#clip032)\" style=\"stroke:#f8f8f2; stroke-linecap:round; stroke-linejoin:round; stroke-width:4; stroke-opacity:1; fill:none\" points=\"1388.75,315.567 1388.75,1486.45 1433.26,1486.45 1433.26,315.567 1388.75,315.567 \"/>\n",
       "<path clip-path=\"url(#clip032)\" d=\"M1433.26 550.462 L1433.26 1486.45 L1477.77 1486.45 L1477.77 550.462 L1433.26 550.462 L1433.26 550.462  Z\" fill=\"#8be9fd\" fill-rule=\"evenodd\" fill-opacity=\"1\"/>\n",
       "<polyline clip-path=\"url(#clip032)\" style=\"stroke:#f8f8f2; stroke-linecap:round; stroke-linejoin:round; stroke-width:4; stroke-opacity:1; fill:none\" points=\"1433.26,550.462 1433.26,1486.45 1477.77,1486.45 1477.77,550.462 1433.26,550.462 \"/>\n",
       "<path clip-path=\"url(#clip032)\" d=\"M1477.77 698.732 L1477.77 1486.45 L1522.28 1486.45 L1522.28 698.732 L1477.77 698.732 L1477.77 698.732  Z\" fill=\"#8be9fd\" fill-rule=\"evenodd\" fill-opacity=\"1\"/>\n",
       "<polyline clip-path=\"url(#clip032)\" style=\"stroke:#f8f8f2; stroke-linecap:round; stroke-linejoin:round; stroke-width:4; stroke-opacity:1; fill:none\" points=\"1477.77,698.732 1477.77,1486.45 1522.28,1486.45 1522.28,698.732 1477.77,698.732 \"/>\n",
       "<path clip-path=\"url(#clip032)\" d=\"M1522.28 871.264 L1522.28 1486.45 L1566.79 1486.45 L1566.79 871.264 L1522.28 871.264 L1522.28 871.264  Z\" fill=\"#8be9fd\" fill-rule=\"evenodd\" fill-opacity=\"1\"/>\n",
       "<polyline clip-path=\"url(#clip032)\" style=\"stroke:#f8f8f2; stroke-linecap:round; stroke-linejoin:round; stroke-width:4; stroke-opacity:1; fill:none\" points=\"1522.28,871.264 1522.28,1486.45 1566.79,1486.45 1566.79,871.264 1522.28,871.264 \"/>\n",
       "<path clip-path=\"url(#clip032)\" d=\"M1566.79 1013.6 L1566.79 1486.45 L1611.3 1486.45 L1611.3 1013.6 L1566.79 1013.6 L1566.79 1013.6  Z\" fill=\"#8be9fd\" fill-rule=\"evenodd\" fill-opacity=\"1\"/>\n",
       "<polyline clip-path=\"url(#clip032)\" style=\"stroke:#f8f8f2; stroke-linecap:round; stroke-linejoin:round; stroke-width:4; stroke-opacity:1; fill:none\" points=\"1566.79,1013.6 1566.79,1486.45 1611.3,1486.45 1611.3,1013.6 1566.79,1013.6 \"/>\n",
       "<path clip-path=\"url(#clip032)\" d=\"M1611.3 1159.36 L1611.3 1486.45 L1655.82 1486.45 L1655.82 1159.36 L1611.3 1159.36 L1611.3 1159.36  Z\" fill=\"#8be9fd\" fill-rule=\"evenodd\" fill-opacity=\"1\"/>\n",
       "<polyline clip-path=\"url(#clip032)\" style=\"stroke:#f8f8f2; stroke-linecap:round; stroke-linejoin:round; stroke-width:4; stroke-opacity:1; fill:none\" points=\"1611.3,1159.36 1611.3,1486.45 1655.82,1486.45 1655.82,1159.36 1611.3,1159.36 \"/>\n",
       "<path clip-path=\"url(#clip032)\" d=\"M1655.82 1256.23 L1655.82 1486.45 L1700.33 1486.45 L1700.33 1256.23 L1655.82 1256.23 L1655.82 1256.23  Z\" fill=\"#8be9fd\" fill-rule=\"evenodd\" fill-opacity=\"1\"/>\n",
       "<polyline clip-path=\"url(#clip032)\" style=\"stroke:#f8f8f2; stroke-linecap:round; stroke-linejoin:round; stroke-width:4; stroke-opacity:1; fill:none\" points=\"1655.82,1256.23 1655.82,1486.45 1700.33,1486.45 1700.33,1256.23 1655.82,1256.23 \"/>\n",
       "<path clip-path=\"url(#clip032)\" d=\"M1700.33 1325.6 L1700.33 1486.45 L1744.84 1486.45 L1744.84 1325.6 L1700.33 1325.6 L1700.33 1325.6  Z\" fill=\"#8be9fd\" fill-rule=\"evenodd\" fill-opacity=\"1\"/>\n",
       "<polyline clip-path=\"url(#clip032)\" style=\"stroke:#f8f8f2; stroke-linecap:round; stroke-linejoin:round; stroke-width:4; stroke-opacity:1; fill:none\" points=\"1700.33,1325.6 1700.33,1486.45 1744.84,1486.45 1744.84,1325.6 1700.33,1325.6 \"/>\n",
       "<path clip-path=\"url(#clip032)\" d=\"M1744.84 1383.65 L1744.84 1486.45 L1789.35 1486.45 L1789.35 1383.65 L1744.84 1383.65 L1744.84 1383.65  Z\" fill=\"#8be9fd\" fill-rule=\"evenodd\" fill-opacity=\"1\"/>\n",
       "<polyline clip-path=\"url(#clip032)\" style=\"stroke:#f8f8f2; stroke-linecap:round; stroke-linejoin:round; stroke-width:4; stroke-opacity:1; fill:none\" points=\"1744.84,1383.65 1744.84,1486.45 1789.35,1486.45 1789.35,1383.65 1744.84,1383.65 \"/>\n",
       "<path clip-path=\"url(#clip032)\" d=\"M1789.35 1425.34 L1789.35 1486.45 L1833.86 1486.45 L1833.86 1425.34 L1789.35 1425.34 L1789.35 1425.34  Z\" fill=\"#8be9fd\" fill-rule=\"evenodd\" fill-opacity=\"1\"/>\n",
       "<polyline clip-path=\"url(#clip032)\" style=\"stroke:#f8f8f2; stroke-linecap:round; stroke-linejoin:round; stroke-width:4; stroke-opacity:1; fill:none\" points=\"1789.35,1425.34 1789.35,1486.45 1833.86,1486.45 1833.86,1425.34 1789.35,1425.34 \"/>\n",
       "<path clip-path=\"url(#clip032)\" d=\"M1833.86 1450.68 L1833.86 1486.45 L1878.38 1486.45 L1878.38 1450.68 L1833.86 1450.68 L1833.86 1450.68  Z\" fill=\"#8be9fd\" fill-rule=\"evenodd\" fill-opacity=\"1\"/>\n",
       "<polyline clip-path=\"url(#clip032)\" style=\"stroke:#f8f8f2; stroke-linecap:round; stroke-linejoin:round; stroke-width:4; stroke-opacity:1; fill:none\" points=\"1833.86,1450.68 1833.86,1486.45 1878.38,1486.45 1878.38,1450.68 1833.86,1450.68 \"/>\n",
       "<path clip-path=\"url(#clip032)\" d=\"M1878.38 1464.7 L1878.38 1486.45 L1922.89 1486.45 L1922.89 1464.7 L1878.38 1464.7 L1878.38 1464.7  Z\" fill=\"#8be9fd\" fill-rule=\"evenodd\" fill-opacity=\"1\"/>\n",
       "<polyline clip-path=\"url(#clip032)\" style=\"stroke:#f8f8f2; stroke-linecap:round; stroke-linejoin:round; stroke-width:4; stroke-opacity:1; fill:none\" points=\"1878.38,1464.7 1878.38,1486.45 1922.89,1486.45 1922.89,1464.7 1878.38,1464.7 \"/>\n",
       "<path clip-path=\"url(#clip032)\" d=\"M1922.89 1474.41 L1922.89 1486.45 L1967.4 1486.45 L1967.4 1474.41 L1922.89 1474.41 L1922.89 1474.41  Z\" fill=\"#8be9fd\" fill-rule=\"evenodd\" fill-opacity=\"1\"/>\n",
       "<polyline clip-path=\"url(#clip032)\" style=\"stroke:#f8f8f2; stroke-linecap:round; stroke-linejoin:round; stroke-width:4; stroke-opacity:1; fill:none\" points=\"1922.89,1474.41 1922.89,1486.45 1967.4,1486.45 1967.4,1474.41 1922.89,1474.41 \"/>\n",
       "<path clip-path=\"url(#clip032)\" d=\"M1967.4 1479.44 L1967.4 1486.45 L2011.91 1486.45 L2011.91 1479.44 L1967.4 1479.44 L1967.4 1479.44  Z\" fill=\"#8be9fd\" fill-rule=\"evenodd\" fill-opacity=\"1\"/>\n",
       "<polyline clip-path=\"url(#clip032)\" style=\"stroke:#f8f8f2; stroke-linecap:round; stroke-linejoin:round; stroke-width:4; stroke-opacity:1; fill:none\" points=\"1967.4,1479.44 1967.4,1486.45 2011.91,1486.45 2011.91,1479.44 1967.4,1479.44 \"/>\n",
       "<path clip-path=\"url(#clip032)\" d=\"M2011.91 1482.85 L2011.91 1486.45 L2056.42 1486.45 L2056.42 1482.85 L2011.91 1482.85 L2011.91 1482.85  Z\" fill=\"#8be9fd\" fill-rule=\"evenodd\" fill-opacity=\"1\"/>\n",
       "<polyline clip-path=\"url(#clip032)\" style=\"stroke:#f8f8f2; stroke-linecap:round; stroke-linejoin:round; stroke-width:4; stroke-opacity:1; fill:none\" points=\"2011.91,1482.85 2011.91,1486.45 2056.42,1486.45 2056.42,1482.85 2011.91,1482.85 \"/>\n",
       "<path clip-path=\"url(#clip032)\" d=\"M2056.42 1483.93 L2056.42 1486.45 L2100.93 1486.45 L2100.93 1483.93 L2056.42 1483.93 L2056.42 1483.93  Z\" fill=\"#8be9fd\" fill-rule=\"evenodd\" fill-opacity=\"1\"/>\n",
       "<polyline clip-path=\"url(#clip032)\" style=\"stroke:#f8f8f2; stroke-linecap:round; stroke-linejoin:round; stroke-width:4; stroke-opacity:1; fill:none\" points=\"2056.42,1483.93 2056.42,1486.45 2100.93,1486.45 2100.93,1483.93 2056.42,1483.93 \"/>\n",
       "<path clip-path=\"url(#clip032)\" d=\"M2100.93 1486.09 L2100.93 1486.45 L2145.45 1486.45 L2145.45 1486.09 L2100.93 1486.09 L2100.93 1486.09  Z\" fill=\"#8be9fd\" fill-rule=\"evenodd\" fill-opacity=\"1\"/>\n",
       "<polyline clip-path=\"url(#clip032)\" style=\"stroke:#f8f8f2; stroke-linecap:round; stroke-linejoin:round; stroke-width:4; stroke-opacity:1; fill:none\" points=\"2100.93,1486.09 2100.93,1486.45 2145.45,1486.45 2145.45,1486.09 2100.93,1486.09 \"/>\n",
       "<path clip-path=\"url(#clip032)\" d=\"M2145.45 1485.91 L2145.45 1486.45 L2189.96 1486.45 L2189.96 1485.91 L2145.45 1485.91 L2145.45 1485.91  Z\" fill=\"#8be9fd\" fill-rule=\"evenodd\" fill-opacity=\"1\"/>\n",
       "<polyline clip-path=\"url(#clip032)\" style=\"stroke:#f8f8f2; stroke-linecap:round; stroke-linejoin:round; stroke-width:4; stroke-opacity:1; fill:none\" points=\"2145.45,1485.91 2145.45,1486.45 2189.96,1486.45 2189.96,1485.91 2145.45,1485.91 \"/>\n",
       "<path clip-path=\"url(#clip032)\" d=\"M2189.96 1486.27 L2189.96 1486.45 L2234.47 1486.45 L2234.47 1486.27 L2189.96 1486.27 L2189.96 1486.27  Z\" fill=\"#8be9fd\" fill-rule=\"evenodd\" fill-opacity=\"1\"/>\n",
       "<polyline clip-path=\"url(#clip032)\" style=\"stroke:#f8f8f2; stroke-linecap:round; stroke-linejoin:round; stroke-width:4; stroke-opacity:1; fill:none\" points=\"2189.96,1486.27 2189.96,1486.45 2234.47,1486.45 2234.47,1486.27 2189.96,1486.27 \"/>\n",
       "<circle clip-path=\"url(#clip032)\" style=\"fill:#8be9fd; stroke:none; fill-opacity:0\" cx=\"342.718\" cy=\"1486.09\" r=\"2\"/>\n",
       "<circle clip-path=\"url(#clip032)\" style=\"fill:#8be9fd; stroke:none; fill-opacity:0\" cx=\"387.23\" cy=\"1486.09\" r=\"2\"/>\n",
       "<circle clip-path=\"url(#clip032)\" style=\"fill:#8be9fd; stroke:none; fill-opacity:0\" cx=\"431.742\" cy=\"1484.65\" r=\"2\"/>\n",
       "<circle clip-path=\"url(#clip032)\" style=\"fill:#8be9fd; stroke:none; fill-opacity:0\" cx=\"476.254\" cy=\"1483.93\" r=\"2\"/>\n",
       "<circle clip-path=\"url(#clip032)\" style=\"fill:#8be9fd; stroke:none; fill-opacity:0\" cx=\"520.766\" cy=\"1481.24\" r=\"2\"/>\n",
       "<circle clip-path=\"url(#clip032)\" style=\"fill:#8be9fd; stroke:none; fill-opacity:0\" cx=\"565.277\" cy=\"1474.77\" r=\"2\"/>\n",
       "<circle clip-path=\"url(#clip032)\" style=\"fill:#8be9fd; stroke:none; fill-opacity:0\" cx=\"609.789\" cy=\"1465.06\" r=\"2\"/>\n",
       "<circle clip-path=\"url(#clip032)\" style=\"fill:#8be9fd; stroke:none; fill-opacity:0\" cx=\"654.301\" cy=\"1447.81\" r=\"2\"/>\n",
       "<circle clip-path=\"url(#clip032)\" style=\"fill:#8be9fd; stroke:none; fill-opacity:0\" cx=\"698.813\" cy=\"1426.06\" r=\"2\"/>\n",
       "<circle clip-path=\"url(#clip032)\" style=\"fill:#8be9fd; stroke:none; fill-opacity:0\" cx=\"743.325\" cy=\"1382.21\" r=\"2\"/>\n",
       "<circle clip-path=\"url(#clip032)\" style=\"fill:#8be9fd; stroke:none; fill-opacity:0\" cx=\"787.836\" cy=\"1323.08\" r=\"2\"/>\n",
       "<circle clip-path=\"url(#clip032)\" style=\"fill:#8be9fd; stroke:none; fill-opacity:0\" cx=\"832.348\" cy=\"1248.68\" r=\"2\"/>\n",
       "<circle clip-path=\"url(#clip032)\" style=\"fill:#8be9fd; stroke:none; fill-opacity:0\" cx=\"876.86\" cy=\"1154.5\" r=\"2\"/>\n",
       "<circle clip-path=\"url(#clip032)\" style=\"fill:#8be9fd; stroke:none; fill-opacity:0\" cx=\"921.372\" cy=\"1022.77\" r=\"2\"/>\n",
       "<circle clip-path=\"url(#clip032)\" style=\"fill:#8be9fd; stroke:none; fill-opacity:0\" cx=\"965.884\" cy=\"875.397\" r=\"2\"/>\n",
       "<circle clip-path=\"url(#clip032)\" style=\"fill:#8be9fd; stroke:none; fill-opacity:0\" cx=\"1010.4\" cy=\"711.312\" r=\"2\"/>\n",
       "<circle clip-path=\"url(#clip032)\" style=\"fill:#8be9fd; stroke:none; fill-opacity:0\" cx=\"1054.91\" cy=\"523.324\" r=\"2\"/>\n",
       "<circle clip-path=\"url(#clip032)\" style=\"fill:#8be9fd; stroke:none; fill-opacity:0\" cx=\"1099.42\" cy=\"359.778\" r=\"2\"/>\n",
       "<circle clip-path=\"url(#clip032)\" style=\"fill:#8be9fd; stroke:none; fill-opacity:0\" cx=\"1143.93\" cy=\"218.877\" r=\"2\"/>\n",
       "<circle clip-path=\"url(#clip032)\" style=\"fill:#8be9fd; stroke:none; fill-opacity:0\" cx=\"1188.44\" cy=\"143.395\" r=\"2\"/>\n",
       "<circle clip-path=\"url(#clip032)\" style=\"fill:#8be9fd; stroke:none; fill-opacity:0\" cx=\"1232.95\" cy=\"57.4882\" r=\"2\"/>\n",
       "<circle clip-path=\"url(#clip032)\" style=\"fill:#8be9fd; stroke:none; fill-opacity:0\" cx=\"1277.47\" cy=\"47.2441\" r=\"2\"/>\n",
       "<circle clip-path=\"url(#clip032)\" style=\"fill:#8be9fd; stroke:none; fill-opacity:0\" cx=\"1321.98\" cy=\"103.317\" r=\"2\"/>\n",
       "<circle clip-path=\"url(#clip032)\" style=\"fill:#8be9fd; stroke:none; fill-opacity:0\" cx=\"1366.49\" cy=\"244.038\" r=\"2\"/>\n",
       "<circle clip-path=\"url(#clip032)\" style=\"fill:#8be9fd; stroke:none; fill-opacity:0\" cx=\"1411\" cy=\"315.567\" r=\"2\"/>\n",
       "<circle clip-path=\"url(#clip032)\" style=\"fill:#8be9fd; stroke:none; fill-opacity:0\" cx=\"1455.51\" cy=\"550.462\" r=\"2\"/>\n",
       "<circle clip-path=\"url(#clip032)\" style=\"fill:#8be9fd; stroke:none; fill-opacity:0\" cx=\"1500.03\" cy=\"698.732\" r=\"2\"/>\n",
       "<circle clip-path=\"url(#clip032)\" style=\"fill:#8be9fd; stroke:none; fill-opacity:0\" cx=\"1544.54\" cy=\"871.264\" r=\"2\"/>\n",
       "<circle clip-path=\"url(#clip032)\" style=\"fill:#8be9fd; stroke:none; fill-opacity:0\" cx=\"1589.05\" cy=\"1013.6\" r=\"2\"/>\n",
       "<circle clip-path=\"url(#clip032)\" style=\"fill:#8be9fd; stroke:none; fill-opacity:0\" cx=\"1633.56\" cy=\"1159.36\" r=\"2\"/>\n",
       "<circle clip-path=\"url(#clip032)\" style=\"fill:#8be9fd; stroke:none; fill-opacity:0\" cx=\"1678.07\" cy=\"1256.23\" r=\"2\"/>\n",
       "<circle clip-path=\"url(#clip032)\" style=\"fill:#8be9fd; stroke:none; fill-opacity:0\" cx=\"1722.58\" cy=\"1325.6\" r=\"2\"/>\n",
       "<circle clip-path=\"url(#clip032)\" style=\"fill:#8be9fd; stroke:none; fill-opacity:0\" cx=\"1767.1\" cy=\"1383.65\" r=\"2\"/>\n",
       "<circle clip-path=\"url(#clip032)\" style=\"fill:#8be9fd; stroke:none; fill-opacity:0\" cx=\"1811.61\" cy=\"1425.34\" r=\"2\"/>\n",
       "<circle clip-path=\"url(#clip032)\" style=\"fill:#8be9fd; stroke:none; fill-opacity:0\" cx=\"1856.12\" cy=\"1450.68\" r=\"2\"/>\n",
       "<circle clip-path=\"url(#clip032)\" style=\"fill:#8be9fd; stroke:none; fill-opacity:0\" cx=\"1900.63\" cy=\"1464.7\" r=\"2\"/>\n",
       "<circle clip-path=\"url(#clip032)\" style=\"fill:#8be9fd; stroke:none; fill-opacity:0\" cx=\"1945.14\" cy=\"1474.41\" r=\"2\"/>\n",
       "<circle clip-path=\"url(#clip032)\" style=\"fill:#8be9fd; stroke:none; fill-opacity:0\" cx=\"1989.66\" cy=\"1479.44\" r=\"2\"/>\n",
       "<circle clip-path=\"url(#clip032)\" style=\"fill:#8be9fd; stroke:none; fill-opacity:0\" cx=\"2034.17\" cy=\"1482.85\" r=\"2\"/>\n",
       "<circle clip-path=\"url(#clip032)\" style=\"fill:#8be9fd; stroke:none; fill-opacity:0\" cx=\"2078.68\" cy=\"1483.93\" r=\"2\"/>\n",
       "<circle clip-path=\"url(#clip032)\" style=\"fill:#8be9fd; stroke:none; fill-opacity:0\" cx=\"2123.19\" cy=\"1486.09\" r=\"2\"/>\n",
       "<circle clip-path=\"url(#clip032)\" style=\"fill:#8be9fd; stroke:none; fill-opacity:0\" cx=\"2167.7\" cy=\"1485.91\" r=\"2\"/>\n",
       "<circle clip-path=\"url(#clip032)\" style=\"fill:#8be9fd; stroke:none; fill-opacity:0\" cx=\"2212.21\" cy=\"1486.27\" r=\"2\"/>\n",
       "</svg>\n"
      ]
     },
     "execution_count": 223,
     "metadata": {},
     "output_type": "execute_result"
    }
   ],
   "source": [
    "x = randn(10^5)\n",
    "histogram(x, bins=64, legend=false)"
   ]
  },
  {
   "cell_type": "code",
   "execution_count": 224,
   "metadata": {},
   "outputs": [
    {
     "data": {
      "text/latex": [
       "\\textbf{Histogram in 2D}\n",
       "\n"
      ],
      "text/markdown": [
       "**Histogram in 2D**\n"
      ],
      "text/plain": [
       "  \u001b[1mHistogram in 2D\u001b[22m"
      ]
     },
     "execution_count": 224,
     "metadata": {},
     "output_type": "execute_result"
    }
   ],
   "source": [
    "md\"**Histogram in 2D**\""
   ]
  },
  {
   "cell_type": "code",
   "execution_count": 225,
   "metadata": {},
   "outputs": [
    {
     "data": {
      "image/png": "[encoded data removed]",
      "image/svg+xml": [
       "<?xml version=\"1.0\" encoding=\"utf-8\"?>\n",
       "<svg xmlns=\"http://www.w3.org/2000/svg\" xmlns:xlink=\"http://www.w3.org/1999/xlink\" width=\"600\" height=\"400\" viewBox=\"0 0 2400 1600\">\n",
       "<defs>\n",
       "  <clipPath id=\"clip070\">\n",
       "    <rect x=\"0\" y=\"0\" width=\"2400\" height=\"1600\"/>\n",
       "  </clipPath>\n",
       "</defs>\n",
       "<path clip-path=\"url(#clip070)\" d=\"M0 1600 L2400 1600 L2400 0 L0 0  Z\" fill=\"#282a36\" fill-rule=\"evenodd\" fill-opacity=\"1\"/>\n",
       "<defs>\n",
       "  <clipPath id=\"clip071\">\n",
       "    <rect x=\"480\" y=\"0\" width=\"1681\" height=\"1600\"/>\n",
       "  </clipPath>\n",
       "</defs>\n",
       "<path clip-path=\"url(#clip070)\" d=\"M149.191 1486.45 L2112.76 1486.45 L2112.76 47.2441 L149.191 47.2441  Z\" fill=\"#30343b\" fill-rule=\"evenodd\" fill-opacity=\"1\"/>\n",
       "<defs>\n",
       "  <clipPath id=\"clip072\">\n",
       "    <rect x=\"149\" y=\"47\" width=\"1965\" height=\"1440\"/>\n",
       "  </clipPath>\n",
       "</defs>\n",
       "<polyline clip-path=\"url(#clip072)\" style=\"stroke:#f8f8f2; stroke-linecap:round; stroke-linejoin:round; stroke-width:2; stroke-opacity:0.1; fill:none\" points=\"319.936,1486.45 319.936,47.2441 \"/>\n",
       "<polyline clip-path=\"url(#clip072)\" style=\"stroke:#f8f8f2; stroke-linecap:round; stroke-linejoin:round; stroke-width:2; stroke-opacity:0.1; fill:none\" points=\"746.798,1486.45 746.798,47.2441 \"/>\n",
       "<polyline clip-path=\"url(#clip072)\" style=\"stroke:#f8f8f2; stroke-linecap:round; stroke-linejoin:round; stroke-width:2; stroke-opacity:0.1; fill:none\" points=\"1173.66,1486.45 1173.66,47.2441 \"/>\n",
       "<polyline clip-path=\"url(#clip072)\" style=\"stroke:#f8f8f2; stroke-linecap:round; stroke-linejoin:round; stroke-width:2; stroke-opacity:0.1; fill:none\" points=\"1600.52,1486.45 1600.52,47.2441 \"/>\n",
       "<polyline clip-path=\"url(#clip072)\" style=\"stroke:#f8f8f2; stroke-linecap:round; stroke-linejoin:round; stroke-width:2; stroke-opacity:0.1; fill:none\" points=\"2027.38,1486.45 2027.38,47.2441 \"/>\n",
       "<polyline clip-path=\"url(#clip072)\" style=\"stroke:#f8f8f2; stroke-linecap:round; stroke-linejoin:round; stroke-width:2; stroke-opacity:0.1; fill:none\" points=\"149.191,1427.7 2112.76,1427.7 \"/>\n",
       "<polyline clip-path=\"url(#clip072)\" style=\"stroke:#f8f8f2; stroke-linecap:round; stroke-linejoin:round; stroke-width:2; stroke-opacity:0.1; fill:none\" points=\"149.191,1133.99 2112.76,1133.99 \"/>\n",
       "<polyline clip-path=\"url(#clip072)\" style=\"stroke:#f8f8f2; stroke-linecap:round; stroke-linejoin:round; stroke-width:2; stroke-opacity:0.1; fill:none\" points=\"149.191,840.275 2112.76,840.275 \"/>\n",
       "<polyline clip-path=\"url(#clip072)\" style=\"stroke:#f8f8f2; stroke-linecap:round; stroke-linejoin:round; stroke-width:2; stroke-opacity:0.1; fill:none\" points=\"149.191,546.56 2112.76,546.56 \"/>\n",
       "<polyline clip-path=\"url(#clip072)\" style=\"stroke:#f8f8f2; stroke-linecap:round; stroke-linejoin:round; stroke-width:2; stroke-opacity:0.1; fill:none\" points=\"149.191,252.845 2112.76,252.845 \"/>\n",
       "<polyline clip-path=\"url(#clip070)\" style=\"stroke:#f8f8f2; stroke-linecap:round; stroke-linejoin:round; stroke-width:4; stroke-opacity:1; fill:none\" points=\"149.191,1486.45 2112.76,1486.45 \"/>\n",
       "<polyline clip-path=\"url(#clip070)\" style=\"stroke:#f8f8f2; stroke-linecap:round; stroke-linejoin:round; stroke-width:4; stroke-opacity:1; fill:none\" points=\"319.936,1486.45 319.936,1467.55 \"/>\n",
       "<polyline clip-path=\"url(#clip070)\" style=\"stroke:#f8f8f2; stroke-linecap:round; stroke-linejoin:round; stroke-width:4; stroke-opacity:1; fill:none\" points=\"746.798,1486.45 746.798,1467.55 \"/>\n",
       "<polyline clip-path=\"url(#clip070)\" style=\"stroke:#f8f8f2; stroke-linecap:round; stroke-linejoin:round; stroke-width:4; stroke-opacity:1; fill:none\" points=\"1173.66,1486.45 1173.66,1467.55 \"/>\n",
       "<polyline clip-path=\"url(#clip070)\" style=\"stroke:#f8f8f2; stroke-linecap:round; stroke-linejoin:round; stroke-width:4; stroke-opacity:1; fill:none\" points=\"1600.52,1486.45 1600.52,1467.55 \"/>\n",
       "<polyline clip-path=\"url(#clip070)\" style=\"stroke:#f8f8f2; stroke-linecap:round; stroke-linejoin:round; stroke-width:4; stroke-opacity:1; fill:none\" points=\"2027.38,1486.45 2027.38,1467.55 \"/>\n",
       "<path clip-path=\"url(#clip070)\" d=\"M288.836 1532.02 L318.512 1532.02 L318.512 1535.95 L288.836 1535.95 L288.836 1532.02 Z\" fill=\"#f8f8f2\" fill-rule=\"nonzero\" fill-opacity=\"1\" /><path clip-path=\"url(#clip070)\" d=\"M341.452 1518.36 L329.646 1536.81 L341.452 1536.81 L341.452 1518.36 M340.225 1514.29 L346.104 1514.29 L346.104 1536.81 L351.035 1536.81 L351.035 1540.7 L346.104 1540.7 L346.104 1548.85 L341.452 1548.85 L341.452 1540.7 L325.85 1540.7 L325.85 1536.19 L340.225 1514.29 Z\" fill=\"#f8f8f2\" fill-rule=\"nonzero\" fill-opacity=\"1\" /><path clip-path=\"url(#clip070)\" d=\"M716.74 1532.02 L746.416 1532.02 L746.416 1535.95 L716.74 1535.95 L716.74 1532.02 Z\" fill=\"#f8f8f2\" fill-rule=\"nonzero\" fill-opacity=\"1\" /><path clip-path=\"url(#clip070)\" d=\"M760.536 1544.91 L776.855 1544.91 L776.855 1548.85 L754.911 1548.85 L754.911 1544.91 Q757.573 1542.16 762.156 1537.53 Q766.763 1532.88 767.943 1531.53 Q770.189 1529.01 771.068 1527.27 Q771.971 1525.51 771.971 1523.82 Q771.971 1521.07 770.027 1519.33 Q768.105 1517.6 765.004 1517.6 Q762.804 1517.6 760.351 1518.36 Q757.92 1519.13 755.142 1520.68 L755.142 1515.95 Q757.967 1514.82 760.42 1514.24 Q762.874 1513.66 764.911 1513.66 Q770.281 1513.66 773.476 1516.35 Q776.67 1519.03 776.67 1523.52 Q776.67 1525.65 775.86 1527.57 Q775.073 1529.47 772.966 1532.07 Q772.388 1532.74 769.286 1535.95 Q766.184 1539.15 760.536 1544.91 Z\" fill=\"#f8f8f2\" fill-rule=\"nonzero\" fill-opacity=\"1\" /><path clip-path=\"url(#clip070)\" d=\"M1173.66 1517.37 Q1170.05 1517.37 1168.22 1520.93 Q1166.41 1524.47 1166.41 1531.6 Q1166.41 1538.71 1168.22 1542.27 Q1170.05 1545.82 1173.66 1545.82 Q1177.29 1545.82 1179.1 1542.27 Q1180.93 1538.71 1180.93 1531.6 Q1180.93 1524.47 1179.1 1520.93 Q1177.29 1517.37 1173.66 1517.37 M1173.66 1513.66 Q1179.47 1513.66 1182.53 1518.27 Q1185.6 1522.85 1185.6 1531.6 Q1185.6 1540.33 1182.53 1544.94 Q1179.47 1549.52 1173.66 1549.52 Q1167.85 1549.52 1164.77 1544.94 Q1161.72 1540.33 1161.72 1531.6 Q1161.72 1522.85 1164.77 1518.27 Q1167.85 1513.66 1173.66 1513.66 Z\" fill=\"#f8f8f2\" fill-rule=\"nonzero\" fill-opacity=\"1\" /><path clip-path=\"url(#clip070)\" d=\"M1595.17 1544.91 L1611.49 1544.91 L1611.49 1548.85 L1589.55 1548.85 L1589.55 1544.91 Q1592.21 1542.16 1596.79 1537.53 Q1601.4 1532.88 1602.58 1531.53 Q1604.83 1529.01 1605.71 1527.27 Q1606.61 1525.51 1606.61 1523.82 Q1606.61 1521.07 1604.67 1519.33 Q1602.74 1517.6 1599.64 1517.6 Q1597.44 1517.6 1594.99 1518.36 Q1592.56 1519.13 1589.78 1520.68 L1589.78 1515.95 Q1592.6 1514.82 1595.06 1514.24 Q1597.51 1513.66 1599.55 1513.66 Q1604.92 1513.66 1608.11 1516.35 Q1611.31 1519.03 1611.31 1523.52 Q1611.31 1525.65 1610.5 1527.57 Q1609.71 1529.47 1607.6 1532.07 Q1607.03 1532.74 1603.92 1535.95 Q1600.82 1539.15 1595.17 1544.91 Z\" fill=\"#f8f8f2\" fill-rule=\"nonzero\" fill-opacity=\"1\" /><path clip-path=\"url(#clip070)\" d=\"M2030.39 1518.36 L2018.59 1536.81 L2030.39 1536.81 L2030.39 1518.36 M2029.17 1514.29 L2035.05 1514.29 L2035.05 1536.81 L2039.98 1536.81 L2039.98 1540.7 L2035.05 1540.7 L2035.05 1548.85 L2030.39 1548.85 L2030.39 1540.7 L2014.79 1540.7 L2014.79 1536.19 L2029.17 1514.29 Z\" fill=\"#f8f8f2\" fill-rule=\"nonzero\" fill-opacity=\"1\" /><polyline clip-path=\"url(#clip070)\" style=\"stroke:#f8f8f2; stroke-linecap:round; stroke-linejoin:round; stroke-width:4; stroke-opacity:1; fill:none\" points=\"149.191,1486.45 149.191,47.2441 \"/>\n",
       "<polyline clip-path=\"url(#clip070)\" style=\"stroke:#f8f8f2; stroke-linecap:round; stroke-linejoin:round; stroke-width:4; stroke-opacity:1; fill:none\" points=\"149.191,1427.7 166.03,1427.7 \"/>\n",
       "<polyline clip-path=\"url(#clip070)\" style=\"stroke:#f8f8f2; stroke-linecap:round; stroke-linejoin:round; stroke-width:4; stroke-opacity:1; fill:none\" points=\"149.191,1133.99 166.03,1133.99 \"/>\n",
       "<polyline clip-path=\"url(#clip070)\" style=\"stroke:#f8f8f2; stroke-linecap:round; stroke-linejoin:round; stroke-width:4; stroke-opacity:1; fill:none\" points=\"149.191,840.275 166.03,840.275 \"/>\n",
       "<polyline clip-path=\"url(#clip070)\" style=\"stroke:#f8f8f2; stroke-linecap:round; stroke-linejoin:round; stroke-width:4; stroke-opacity:1; fill:none\" points=\"149.191,546.56 166.03,546.56 \"/>\n",
       "<polyline clip-path=\"url(#clip070)\" style=\"stroke:#f8f8f2; stroke-linecap:round; stroke-linejoin:round; stroke-width:4; stroke-opacity:1; fill:none\" points=\"149.191,252.845 166.03,252.845 \"/>\n",
       "<path clip-path=\"url(#clip070)\" d=\"M50.9921 1428.16 L80.6679 1428.16 L80.6679 1432.09 L50.9921 1432.09 L50.9921 1428.16 Z\" fill=\"#f8f8f2\" fill-rule=\"nonzero\" fill-opacity=\"1\" /><path clip-path=\"url(#clip070)\" d=\"M103.608 1414.5 L91.8021 1432.95 L103.608 1432.95 L103.608 1414.5 M102.381 1410.42 L108.26 1410.42 L108.26 1432.95 L113.191 1432.95 L113.191 1436.84 L108.26 1436.84 L108.26 1444.98 L103.608 1444.98 L103.608 1436.84 L88.0058 1436.84 L88.0058 1432.32 L102.381 1410.42 Z\" fill=\"#f8f8f2\" fill-rule=\"nonzero\" fill-opacity=\"1\" /><path clip-path=\"url(#clip070)\" d=\"M53.0754 1134.44 L82.7512 1134.44 L82.7512 1138.38 L53.0754 1138.38 L53.0754 1134.44 Z\" fill=\"#f8f8f2\" fill-rule=\"nonzero\" fill-opacity=\"1\" /><path clip-path=\"url(#clip070)\" d=\"M96.8715 1147.33 L113.191 1147.33 L113.191 1151.27 L91.2465 1151.27 L91.2465 1147.33 Q93.9086 1144.58 98.4919 1139.95 Q103.098 1135.3 104.279 1133.96 Q106.524 1131.43 107.404 1129.7 Q108.307 1127.94 108.307 1126.25 Q108.307 1123.49 106.362 1121.76 Q104.441 1120.02 101.339 1120.02 Q99.14 1120.02 96.6863 1120.78 Q94.2558 1121.55 91.478 1123.1 L91.478 1118.38 Q94.3021 1117.24 96.7558 1116.66 Q99.2095 1116.08 101.246 1116.08 Q106.617 1116.08 109.811 1118.77 Q113.006 1121.46 113.006 1125.95 Q113.006 1128.08 112.196 1130 Q111.408 1131.89 109.302 1134.49 Q108.723 1135.16 105.621 1138.38 Q102.52 1141.57 96.8715 1147.33 Z\" fill=\"#f8f8f2\" fill-rule=\"nonzero\" fill-opacity=\"1\" /><path clip-path=\"url(#clip070)\" d=\"M101.246 826.073 Q97.6354 826.073 95.8067 829.638 Q94.0012 833.18 94.0012 840.309 Q94.0012 847.416 95.8067 850.981 Q97.6354 854.522 101.246 854.522 Q104.881 854.522 106.686 850.981 Q108.515 847.416 108.515 840.309 Q108.515 833.18 106.686 829.638 Q104.881 826.073 101.246 826.073 M101.246 822.37 Q107.057 822.37 110.112 826.976 Q113.191 831.56 113.191 840.309 Q113.191 849.036 110.112 853.643 Q107.057 858.226 101.246 858.226 Q95.4363 858.226 92.3576 853.643 Q89.3021 849.036 89.3021 840.309 Q89.3021 831.56 92.3576 826.976 Q95.4363 822.37 101.246 822.37 Z\" fill=\"#f8f8f2\" fill-rule=\"nonzero\" fill-opacity=\"1\" /><path clip-path=\"url(#clip070)\" d=\"M96.8715 559.905 L113.191 559.905 L113.191 563.84 L91.2465 563.84 L91.2465 559.905 Q93.9086 557.15 98.4919 552.52 Q103.098 547.868 104.279 546.525 Q106.524 544.002 107.404 542.266 Q108.307 540.506 108.307 538.817 Q108.307 536.062 106.362 534.326 Q104.441 532.59 101.339 532.59 Q99.14 532.59 96.6863 533.354 Q94.2558 534.118 91.478 535.669 L91.478 530.946 Q94.3021 529.812 96.7558 529.233 Q99.2095 528.655 101.246 528.655 Q106.617 528.655 109.811 531.34 Q113.006 534.025 113.006 538.516 Q113.006 540.645 112.196 542.567 Q111.408 544.465 109.302 547.057 Q108.723 547.729 105.621 550.946 Q102.52 554.141 96.8715 559.905 Z\" fill=\"#f8f8f2\" fill-rule=\"nonzero\" fill-opacity=\"1\" /><path clip-path=\"url(#clip070)\" d=\"M103.608 239.639 L91.8021 258.088 L103.608 258.088 L103.608 239.639 M102.381 235.565 L108.26 235.565 L108.26 258.088 L113.191 258.088 L113.191 261.977 L108.26 261.977 L108.26 270.125 L103.608 270.125 L103.608 261.977 L88.0058 261.977 L88.0058 257.463 L102.381 235.565 Z\" fill=\"#f8f8f2\" fill-rule=\"nonzero\" fill-opacity=\"1\" /><g clip-path=\"url(#clip072)\">\n",
       "<image width=\"1964\" height=\"1439\" xlink:href=\"data:image/png;base64,\n",
       "iVBORw0KGgoAAAANSUhEUgAAB6wAAAWfCAYAAAAf3Aj/AAAgAElEQVR4nOzb7XHjyBmF0W6Q0mjt\n",
       "clZwBtSG6D9iBouobO94RxLRzsDqcZF19yXPieAWQHzNo+kNAAAAeAhrP430hlnbOPf0BgAAAG5v\n",
       "SQ8AAAAAAAAA4DEJ1gAAAAAAAABECNYAAAAAAAAARAjWAAAAAAAAAEQI1gAAAAAAAABECNYAAAAA\n",
       "AAAARAjWAAAAAAAAAEQI1gAAAAAAAABECNYAAAAAAAAARAjWAAAAAAAAAEQI1gAAAAAAAABECNYA\n",
       "AAAAAAAARAjWAAAAAAAAAEQI1gAAAAAAAABECNYAAAAAAAAARAjWAAAAAAAAAEQI1gAAAAAAAABE\n",
       "CNYAAAAAAAAARAjWAAAAAAAAAEQI1gAAAAAAAABECNYAAAAAAAAARAjWAAAAAAAAAEQI1gAAAAAA\n",
       "AABECNYAAAAAAAAARAjWAAAAAAAAAEQI1gAAAAAAAABECNYAAAAAAAAARAjWAAAAAAAAAEQI1gAA\n",
       "AAAAAAAAAAAAAAAAAAAAAAAAAAAAAAAAAAAAAAAAAAAAAAAAAAAAAAAAAAAAAAAAAAAAAAAAAAAA\n",
       "AAAAAAAAAAAAAAAAAAAAAAAAAAAAAAAAAAAAAAAAAAAAAAAAAAAAAAAAAAAAAAAAAAAAAAAAAAAA\n",
       "AAAAAAAAAAAAAAAAAAAAAAAAAAAAAAAAAAAAAAAAAAAAAAAAAAAAAAAAAAAAAAAAAAAAAAAAAAAA\n",
       "AAAAAAAAAAAAAAAAAAAAAAAAAAAAAAAAAAAAAAAAAAAAAAAAAAAAAAAAAAAAAAAAAAAAAAAAAAAA\n",
       "AAAAAAAAAAAAAAAAAAAAAAAAAAAAAAAAAAAAAAAAAAAAAAAAAAAAAAAAAAAAAAAAAAAAAAAAAAAA\n",
       "AAAAAAAAAAAAAAAAAAAAAAAAAAAAAAAAAAAAAAAAAAAAAAAAAAAAAAAAAAAAAAAAAAAAAAAAAAAA\n",
       "AAAAAAAAAAAAAAAAAAAAAAAAAAAAAAAAAAAAAAAAAAAAAAAAAAAAAAAAAAAAAAAAAAAAAAAAAAAA\n",
       "AAAAAAAAAAAAAAAAAAAAAAAAAAAAAAAAAAAAAAAAAAAAAAAAAAAAAAAAAAAAAAAAAAAAAAAAAAAA\n",
       "AAAAAAAAAAAAAAAAAAAAAAAAAAAAAAAAAAAAAAAAAAAAAAAAAAAAAAAAAAAAAAAAAAAAAAAAAAAA\n",
       "AAAAAAAAAAAAAAAAAAAAAAAAAAAAAAAAAAAAAAAAAAAAAAAAAAAAAAAAAAAAAAAAAAAAAAAAAAAA\n",
       "AAAAAAAAAAAAAAAAAAAAAAAAAAAAAAAAAAAAAAAAAAAAAAAAAAAAAAAAAAAAAAAAAAAAAAAAAAAA\n",
       "AAAAAAAAAAAAAAAAAAAAAAAAAAAAAAAAAAAAAAAAAAAAAAAAAAAAAAAAAAAAAAAAAAAAAAAAAAAA\n",
       "AAAAAAAAAAAAAAAAAAAAAAAAAAAAAAAAAAAAAAAAAAAAAAAAAAAAAAAAAAAAAAAAAAAAAAAAAAAA\n",
       "AAAAAAAAAAAAAAAAAAAAAAAAAAAAAAAAAAAAAAAAAAAAAAAAAAAAAAAAAAAAAAAAAAAAAAAAAAAA\n",
       "AAAAAAAAAAAAAAAAAAAAAAAAAAAAAAAAAAAAAAAAAAAAAAAAAAAAAAAAAAAAAAAAAAAAAAAAAAAA\n",
       "AAAAAAAAAAAAAAAAAAAAAAAAAAAAAAAAAAAAAAAAAAAAAAAAAAAAAAAAAAAAAAAAAAAAAAAAAAAA\n",
       "AAAAAAAAAAAAAAAAAAAAAAAAAAAAAAAAAAAAAAAAAAAAAAAAAAAAAAAAAAAAAAAAAAAAAAAAAAAA\n",
       "AAAAAAAAAAAAAAAAAAAAAAAAAAAAAAAAAAAAAAAAAAAAAAAAAAAAAAAAAAAAAAAAAAAAAAAAAAAA\n",
       "AAAAAAAAAAAAAAAAAAAAAAAAAAAAAAAAAAAAAAAAAAAAAAAAAAAAAAAAAAAAAAAAAAAAAAAAAAAA\n",
       "AAAAAAAAAAAAAAAAAAAAAAAAAAAAAAAAAAAAAAAAAAAAAAAAAAAAAAAAAAAAAAAAAAAAAAAAAAAA\n",
       "AAAAAAAAAAAAAAAAAAAAAAAAAAAAAAAAAAAAAAAAAAAAAAAAAAAAAAAAAAAAAAAAAAAAAAAAAAAA\n",
       "AAAAAAAAAAAAAAAAAAAAAAAAAAAAAAAAAAAAAAAAAAAAAAAAAAAAAAAAAAAAAAAAAAAAAAAAAAAA\n",
       "AAAAAAAAAAAAAAAAAAAAAAAAAAAAAAAAAAAAAAAAAAAAAAAAAAAAAAAAAAAAAAAAAAAAAAAAAAAA\n",
       "AAAAAAAAAAAAAAAAAAAAAAAAAAAAAAAAAAAAAAAAAAAAAFxFTw8AAID/Ze2nkd4wYxtn79bwoKrc\n",
       "p1prrfU6t6ptf6szFgAAgP/bkh4AAAAAAAAAwGMSrAEAAAAAAACIEKwBAAAAAAAAiBCsAQAAAAAA\n",
       "AIgQrAEAAAAAAACIEKwBAAAAAAAAiBCsAQAAAAAAAIgQrAEAAAAAAACIEKwBAAAAAAAAiBCsAQAA\n",
       "AAAAAIgQrAEAAAAAAACIEKwBAAAAAAAAiBCsAQAAAAAAAIgQrAEAAAAAAACIEKwBAAAAAAAAiBCs\n",
       "AQAAAAAAAIgQrAEAAAAAAACIEKwBAAAAAAAAiBCsAQAAAAAAAIgQrAEAAAAAAACIEKwBAAAAAAAA\n",
       "iBCsAQAAAAAAAIgQrAEAAAAAAACIEKwBAAAAAAAAiBCsAQAAAAAAAIgQrAEAAAAAAACIEKwBAAAA\n",
       "AAAAiBCsAQAAAAAAAIjo6QEAAF9Z+2mkN8zYxtm71QOr8jutpsp1Ven8VzmmwGNbl9cy99UyRp1D\n",
       "6lkFAPBY/A9rAAAAAAAAACIEawAAAAAAAAAiBGsAAAAAAAAAIgRrAAAAAAAAACIEawAAAAAAAAAi\n",
       "BGsAAAAAAAAAIgRrAAAAAAAAACIEawAAAAAAAAAiBGsAAAAAAAAAIgRrAAAAAAAAACIEawAAAAAA\n",
       "AAAiBGsAAAAAAAAAIgRrAAAAAAAAACIEawAAAAAAAAAiBGsAAAAAAAAAIgRrAAAAAAAAACIEawAA\n",
       "AAAAAAAiBGsAAAAAAAAAIgRrAAAAAAAAACIEawAAAAAAAAAiBGsAAAAAAAAAIgRrAAAAAAAAACIE\n",
       "awAAAAAAAAAiBGsAAAAAAAAAIgRrAAAAAAAAACIEawAAAAAAAAAiBGsAAAAAAAAAIgRrAAAAAAAA\n",
       "ACIEawAAAAAAAAAijukBAABf2ca5pzfAPal0Ta3L60hvmLHtb2WOKY9t7acS11RrrbVe57Kqcg8o\n",
       "df4Lcf6poNL5L/Wu6rgCwFX4H9YAAAAAAAAARAjWAAAAAAAAAEQI1gAAAAAAAABECNYAAAAAAAAA\n",
       "RAjWAAAAAAAAAEQI1gAAAAAAAABECNYAAAAAAAAARAjWAAAAAAAAAEQI1gAAAAAAAABECNYAAAAA\n",
       "AAAARAjWAAAAAAAAAEQI1gAAAAAAAABECNYAAAAAAAAARAjWAAAAAAAAAEQI1gAAAAAAAABECNYA\n",
       "AAAAAAAARAjWAAAAAAAAAEQI1gAAAAAAAABECNYAAAAAAAAARAjWAAAAAAAAAEQI1gAAAAAAAABE\n",
       "CNYAAAAAAAAARAjWAAAAAAAAAEQI1gAAAAAAAABECNYAAAAAAAAARAjWAAAAAAAAAEQI1gAAAAAA\n",
       "AABECNYAAAAAAAAARPT0AACAr6z9NNIb7s02zmXeA9fltcb5HzVmttZa62VOP7dQ6LfaF39j/chG\n",
       "od8qD85v9foKvats+1udsUVU+v6r9F0FAH9mvv4BAAAAAAAAiBCsAQAAAAAAAIgQrAEAAAAAAACI\n",
       "EKwBAAAAAAAAiBCsAQAAAAAAAIgQrAEAAAAAAACIEKwBAAAAAAAAiBCsAQAAAAAAAIgQrAEAAAAA\n",
       "AACIEKwBAAAAAAAAiBCsAQAAAAAAAIgQrAEAAAAAAACIEKwBAAAAAAAAiBCsAQAAAAAAAIgQrAEA\n",
       "AAAAAACIEKwBAAAAAAAAiBCsAQAAAAAAAIgQrAEAAAAAAACIEKwBAAAAAAAAiBCsAQAAAAAAAIgQ\n",
       "rAEAAAAAAACIEKwBAAAAAAAAiBCsAQAAAAAAAIgQrAEAAAAAAACIEKwBAAAAAAAAiBCsAQAAAAAA\n",
       "AIgQrAEAAAAAAACIEKwBAAAAAAAAiBCsAQAAAAAAAIjo6QEAAPfi74dfR3rDrLHv6QnTtnEu8c66\n",
       "Lq9lzn8bdaa2XuL0t15kZ2utjUrnv4h+PKYnzKt0/gttHZdLesKUvvh/C7fgvnoDjunVVXmnbq21\n",
       "tZ/8AG6hyPvqtr/VGArAVflSAQAAAAAAACBCsAYAAAAAAAAgQrAGAAAAAAAAIEKwBgAAAAAAACBC\n",
       "sAYAAAAAAAAgQrAGAAAAAAAAIEKwBgAAAAAAACBCsAYAAAAAAAAgQrAGAAAAAAAAIEKwBgAAAAAA\n",
       "ACBCsAYAAAAAAAAgQrAGAAAAAAAAIEKwBgAAAAAAACBCsAYAAAAAAAAgQrAGAAAAAAAAIEKwBgAA\n",
       "AAAAACBCsAYAAAAAAAAgQrAGAAAAAAAAIEKwBgAAAAAAACBCsAYAAAAAAAAgQrAGAAAAAAAAIEKw\n",
       "BgAAAAAAACBCsAYAAAAAAAAgQrAGAAAAAAAAIEKwBgAAAAAAACBCsAYAAAAAAAAgQrAGAAAAAAAA\n",
       "IEKwBgAAAAAAACCipwcAAHxlXV5HegPck94LfQZU2br4W+CbKHL3H5fP9IRpy/NzesK0cdnTE+7P\n",
       "fkkvmOe+en17nWtqFNrKY9vGucjLKo9u7acSb9auKXhc3v4BAAAAAAAAiBCsAQAAAAAAAIgQrAEA\n",
       "AAAAAACIEKwBAAAAAAAAiBCsAQAAAAAAAIgQrAEAAAAAAACIEKwBAAAAAAAAiBCsAQAAAAAAAIgQ\n",
       "rAEAAAAAAACIEKwBAAAAAAAAiBCsAQAAAAAAAIgQrAEAAAAAAACIEKwBAAAAAAAAiBCsAQAAAAAA\n",
       "AIgQrAEAAAAAAACIEKwBAAAAAAAAiBCsAQAAAAAAAIgQrAEAAAAAAACIEKwBAAAAAAAAiBCsAQAA\n",
       "AAAAAIgQrAEAAAAAAACIEKwBAAAAAAAAiBCsAQAAAAAAAIgQrAEAAAAAAACIEKwBAAAAAAAAiBCs\n",
       "AQAAAAAAAIgQrAEAAAAAAACIEKwBAAAAAAAAiOjpAQD3Zu2nkd4waxtnz4ErW5fXMue/km1/K/Fb\n",
       "rXT+ey9xSGtZDukF0/ri71avbnFN3cSocVsde42drbXWD3Wu/3HZ0xOmlXmuHus8q8bHZ3rCvP2S\n",
       "XjCpyO+0tdaqXFOttXEp9Fvlofmuvr4qxxSggjpfqgAAAAAAAADcFcEaAAAAAAAAgAjBGgAAAAAA\n",
       "AIAIwRoAAAAAAACACMEaAAAAAAAAgAjBGgAAAAAAAIAIwRoAAAAAAACACMEaAAAAAAAAgAjBGgAA\n",
       "AAAAAIAIwRoAAAAAAACACMEaAAAAAAAAgAjBGgAAAAAAAIAIwRoAAAAAAACACMEaAAAAAAAAgAjB\n",
       "GgAAAAAAAIAIwRoAAAAAAACACMEaAAAAAAAAgAjBGgAAAAAAAIAIwRoAAAAAAACACMEaAAAAAAAA\n",
       "gAjBGgAAAAAAAIAIwRoAAAAAAACACMEaAAAAAAAAgAjBGgAAAAAAAIAIwRoAAAAAAACACMEaAAAA\n",
       "AAAAgAjBGgAAAAAAAIAIwRoAAAAAAACACMEaAAAAAAAAgIieHgAAX1n7aaQ3TOserbfQHdeH1o/H\n",
       "9IQ5yyG9YN6hzt+tlrn+D4XO/6jzWB2XS3rClOXlJT1h2vj8TE+Y1o91rqvxx4/0hCl1rv7W2mVP\n",
       "L5hW5bc63j/SE6aNvcb9v7VW6MIqM7TWu8pe517FY9vGuciHFfCo6vxLFQAAAAAAAAB3RbAGAAAA\n",
       "AAAAIEKwBgAAAAAAACBCsAYAAAAAAAAgQrAGAAAAAAAAIEKwBgAAAAAAACBCsAYAAAAAAAAgQrAG\n",
       "AAAAAAAAIEKwBgAAAAAAACBCsAYAAAAAAAAgQrAGAAAAAAAAIEKwBgAAAAAAACBCsAYAAAAAAAAg\n",
       "QrAGAAAAAAAAIEKwBgAAAAAAACBCsAYAAAAAAAAgQrAGAAAAAAAAIEKwBgAAAAAAACBCsAYAAAAA\n",
       "AAAgQrAGAAAAAAAAIEKwBgAAAAAAACBCsAYAAAAAAAAgQrAGAAAAAAAAIEKwBgAAAAAAACBCsAYA\n",
       "AAAAAAAgQrAGAAAAAAAAIEKwBgAAAAAAACBCsAYAAAAAAAAgoqcHAMxY+2mkN8zaxrnMvXVdXmsc\n",
       "11FjJrezPH9LT5gy9j094S714yE9YUp/fkpPmHc4phfMK/IM6E+Vzn+hv1uucfpb+/xIL5j3/Jxe\n",
       "MK/QdTX++a/0hCn9pcY7VWutje/f0xN+QpFPwELvqvuP9/SEn1DlYVXkd9pa++39H2XGlvl3FW6j\n",
       "yLdKa621XuOy2va3GkOBqyv0LxUAAAAAAAAA3BPBGgAAAAAAAIAIwRoAAAAAAACACMEaAAAAAAAA\n",
       "gAjBGgAAAAAAAIAIwRoAAAAAAACACMEaAAAAAAAAgAjBGgAAAAAAAIAIwRoAAAAAAACACMEaAAAA\n",
       "AAAAgAjBGgAAAAAAAIAIwRoAAAAAAACACMEaAAAAAAAAgAjBGgAAAAAAAIAIwRoAAAAAAACACMEa\n",
       "AAAAAAAAgAjBGgAAAAAAAIAIwRoAAAAAAACACMEaAAAAAAAAgAjBGgAAAAAAAIAIwRoAAAAAAACA\n",
       "CMEaAAAAAAAAgAjBGgAAAAAAAIAIwRoAAAAAAACACMEaAAAAAAAAgAjBGgAAAAAAAIAIwRoAAAAA\n",
       "AACACMEaAAAAAAAAgIieHgBkrf000hvgnvTF34LdRK9xXPvTU3rCXepPx/SEKf3lJT3hJxR6/B9r\n",
       "nP/WC31a/e2v6QXTxqHI/f/3/6QnzKv0rBqF7lXvH+kFc4o8U1trrf379/SCeUXeVdvlkl4wbbz/\n",
       "SE+YV+RWNX68pydMG59F7qnFjErP1SoqHdMi3yvb/lZjKHB1Rd6oAQAAAAAAALg3gjUAAAAAAAAA\n",
       "EYI1AAAAAAAAABGCNQAAAAAAAAARgjUAAAAAAAAAEYI1AAAAAAAAABGCNQAAAAAAAAARgjUAAAAA\n",
       "AAAAEYI1AAAAAAAAABGCNQAAAAAAAAARgjUAAAAAAAAAEYI1AAAAAAAAABGCNQAAAAAAAAARgjUA\n",
       "AAAAAAAAEYI1AAAAAAAAABGCNQAAAAAAAAARgjUAAAAAAAAAEYI1AAAAAAAAABGCNQAAAAAAAAAR\n",
       "gjUAAAAAAAAAEYI1AAAAAAAAABGCNQAAAAAAAAARgjUAAAAAAAAAEYI1AAAAAAAAABGCNQAAAAAA\n",
       "AAARgjUAAAAAAAAAEYI1AAAAAAAAABGCNQAAAAAAAAARgjUAAAAAAAAAET09AODerP000hum9SKP\n",
       "gVHokC51/hasH4/pCfMKHdcq+uGQnjCtv3xLT5jzrcjO1urc/1tr7S+/pBdMGb88pyfMK/RcHYca\n",
       "9//xrdAzda9z/vtlT0+YV+S4Ln98pCfMey+0tcp99fOSXjCv0Pkf37+nJ0wZH5/pCdPGx3t6wryl\n",
       "zndV22vcA8Ze5/m/7W9lPqzK/HtlpW/VKs//1to2zoUOLI+qxtc/AAAAAAAAAHdHsAYAAAAAAAAg\n",
       "QrAGAAAAAAAAIEKwBgAAAAAAACBCsAYAAAAAAAAgQrAGAAAAAAAAIEKwBgAAAAAAACBCsAYAAAAA\n",
       "AAAgQrAGAAAAAAAAIEKwBgAAAAAAACBCsAYAAAAAAAAgQrAGAAAAAACA/7JvJzuS5WcZh78TQ06V\n",
       "2VXtHtzGI+MGyay4gwR2sKniFkHu2rF03oIXCAsJC4OFjdtDV3V3VVZOMRwWFvu/pWq9/qKf5wpe\n",
       "nYgzxPllAhGCNQAAAAAAAAARgjUAAAAAAAAAEYI1AAAAAAAAABGCNQAAAAAAAAARgjUAAAAAAAAA\n",
       "EYI1AAAAAAAAABGCNQAAAAAAAAARgjUAAAAAAAAAEYI1AAAAAAAAABGCNQAAAAAAAAARgjUAAAAA\n",
       "AAAAEYI1AAAAAAAAABGCNQAAAAAAAAARgjUAAAAAAAAAEYI1AAAAAAAAABGCNQAAAAAAAAARq/SA\n",
       "Q3U5PZ3TG0Zdzc+n9AYgZO5xqZoWjf6+amq0dbFMLxg39bhVTetGj1arRp//8XF6wZhGx3R+cpGe\n",
       "MGx/3OO82j1apycM25z3OKZVVcu7fXrCkN1pn/v/3OSeWlVVjaYev3hITxgyH/U5/6tO0gOGLe62\n",
       "6QlDps9epyeMO2ny/FdV07LJPeDmNr1g3L7H/b+qap77bO3zvqLPMe3UANpo8q6yqtq8q6qqqiaH\n",
       "tdM5pau9fV3uUgAAAAAAAAAcGMEaAAAAAAAAgAjBGgAAAAAAAIAIwRoAAAAAAACACMEaAAAAAAAA\n",
       "gAjBGgAAAAAAAIAIwRoAAAAAAACACMEaAAAAAAAAgAjBGgAAAAAAAIAIwRoAAAAAAACACMEaAAAA\n",
       "AAAAgAjBGgAAAAAAAIAIwRoAAAAAAACACMEaAAAAAAAAgAjBGgAAAAAAAIAIwRoAAAAAAACACMEa\n",
       "AAAAAAAAgAjBGgAAAAAAAIAIwRoAAAAAAACACMEaAAAAAAAAgAjBGgAAAAAAAIAIwRoAAAAAAACA\n",
       "CMEaAAAAAAAAgAjBGgAAAAAAAIAIwRoAAAAAAACACMEaAAAAAAAAgAjBGgAAAAAAAIAIwRoAAAAA\n",
       "AACAiFV6wKG6mp9P6Q3kXE5P5/SGUV2+q5eLZ22OaSfT1OLjr+qys6qq0dROpqN1esKYuc+lalo2\n",
       "egw8P0svGLJ75zQ9YVyj6+r19x6lJwyZ9n3O/82jPn+3PE/L9IQhc4+ZVVW1vE8vGLc7Si8Ytzk9\n",
       "Tk8Ysrrrc61a3+zSE4atX/Y4rovHPe6pVVXT9W16wrhlk5vAZpNeMG7Z51llmvs8V1eT59W5z+W/\n",
       "pi7nf1Wb9xU/3P2gz0nV45BCG33u/gAAAAAAAAAcFMEaAAAAAAAAgAjBGgAAAAAAAIAIwRoAAAAA\n",
       "AACACMEaAAAAAAAAgAjBGgAAAAAAAIAIwRoAAAAAAACACMEaAAAAAAAAgAjBGgAAAAAAAIAIwRoA\n",
       "AAAAAACACMEaAAAAAAAAgAjBGgAAAAAAAIAIwRoAAAAAAACACMEaAAAAAAAAgAjBGgAAAAAAAIAI\n",
       "wRoAAAAAAACACMEaAAAAAAAAgAjBGgAAAAAAAIAIwRoAAAAAAACACMEaAAAAAAAAgAjBGgAAAAAA\n",
       "AIAIwRoAAAAAAACACMEaAAAAAAAAgAjBGgAAAAAAAIAIwRoAAAAAAACACMEaAAAAAAAAgAjBGgAA\n",
       "AAAAAIAIwRoAAAAAAACACMEaAAAAAAAAgIgpPQDIulw8m9MbDs3V/uM219Y2n//cY2ZV1eLoKD1h\n",
       "WKPDWotHZ+kJQ6aT4/SEceeP0guGzac9zqv9WY+dVVW3H52mJwy7v+jxN7b7dXrBuLuvtXlUqcUm\n",
       "vWDM9jy9YNzyNr1g3LbH7b+qqtbX6QVjVo0+/5OX+/SEYUfXu/SEIcvbHjurqlav7tMThi1e3aQn\n",
       "jHnd5EJVVfNmm54wbL7v812tfY/r6rzrsbOqqnZ9vqtd/HD3gz4/VoC3qsfbHwAAAAAAAAAOjmAN\n",
       "AAAAAAAAQIRgDQAAAAAAAECEYA0AAAAAAABAhGANAAAAAAAAQIRgDQAAAAAAAECEYA0AAAAAAABA\n",
       "hGANAAAAAAAAQIRgDQAAAAAAAECEYA0AAAAAAABAhGANAAAAAAAAQIRgDQAAAAAAAECEYA0AAAAA\n",
       "AABAhGANAAAAAAAAQIRgDQAAAAAAAECEYA0AAAAAAABAhGANAAAAAAAAQIRgDQAAAAAAAECEYA0A\n",
       "AAAAAABAhGANAAAAAAAAQIRgDQAAAAAAAECEYA0AAAAAAABAhGANAAAAAAAAQIRgDQAAAAAAAECE\n",
       "YA0AAAAAAABAhGANAAAAAAAAQIRgDQAAAAAAAECEYA0AAAAAAABAxJQeADDicvFsTm8YNU0urW/d\n",
       "YpleMGxaNPr81+v0gmGL05P0hDFnp+kFw+aLR+kJw7bvnqUnDHl43Oecuv2gz3X14aLHdXW/Si8Y\n",
       "d/29fXrCuCZ/Yr180+N7WlW1fdzn858e+hzX1ZseX9ajz9ILxi3v0wvGnf2mx3l1dN1jZ1XV0WcP\n",
       "6QnDVi/fpCcMmR626Qnj7hpdABpt3d/dpScMmW9v0xMO0jy3ebXaxtX+4zYPq5fTU1+At+xqft7m\n",
       "8++ixy8qAAAAAAAAAA6OYA0AAAAAAABAhGANAAAAAAAAQIRgDQAAAAAAAECEYA0AAAAAAABAhGAN\n",
       "AAAAAAAAQIRgDQAAAAAAAECEYA0AAAAAAABAhGANAAAAAAAAQIRgDQAAAAAAAECEYA0AAAAAAABA\n",
       "hGANAAAAAAAAQIRgDQAAAAAAAECEYA0AAAAAAABAhGANAAAAAAAAQIRgDQAAAAAAAECEYA0AAAAA\n",
       "AABAhGANAAAAAAAAQIRgDQAAAAAAAECEYA0AAAAAAABAhGANAAAAAAAAQIRgDQAAAAAAAECEYA0A\n",
       "AAAAAABAhGANAAAAAAAAQIRgDQAAAAAAAECEYA0AAAAAAABAhGANAAAAAAAAQIRgDQAAAAAAAECE\n",
       "YA0AAAAAAABAxCo9AEZdTk/n9IZRV/PzKb2BoMnfAr11U6NTar1OLxg2HR+lJ4xrcl7N716kJwyb\n",
       "Fz2OaVXV7qTH1psPl+kJwzbnfa6r90/SC8bcv7dPTxi2+OA+PWHYcrVLTxiyWPb5/Hc3fe7/86bH\n",
       "9b+qavO4y8/V4/SAYae/Ti8Y9/BOj+/q9qTP/b/mPteqad/j/F/9+ov0hHHbHvf/qqr5vs9zVe16\n",
       "HNep0XuVudF39Wr3zy1uApeLZz0uqnwpdJWvth5P1AAAAAAAAAAcHMEaAAAAAAAAgAjBGgAAAAAA\n",
       "AIAIwRoAAAAAAACACMEaAAAAAAAAgAjBGgAAAAAAAIAIwRoAAAAAAACACMEaAAAAAAAAgAjBGgAA\n",
       "AAAAAIAIwRoAAAAAAACACMEaAAAAAAAAgBllU2MAACAASURBVAjBGgAAAAAAAIAIwRoAAAAAAACA\n",
       "CMEaAAAAAAAAgAjBGgAAAAAAAIAIwRoAAAAAAACACMEaAAAAAAAAgAjBGgAAAAAAAIAIwRoAAAAA\n",
       "AACACMEaAAAAAAAAgAjBGgAAAAAAAIAIwRoAAAAAAACACMEaAAAAAAAAgAjBGgAAAAAAAIAIwRoA\n",
       "AAAAAACACMEaAAAAAAAAgAjBGgAAAAAAAIAIwRoAAAAAAACAiCk9AA7R5eLZnN4wbO4ztYtpuUxP\n",
       "ODjTapWeMK7RObU4P09PGHd6kl4wZP/+k/SEYfNxn2vVzTfP0hOG3L/T529B33yzz8+A26/v0xPG\n",
       "vPeQXjCuySGtqnrnyU16wpBvP/48PWHYbu5zrTpa7NIThv3Hbz5MTxiyeehz/1/8d4/7f1XVYpte\n",
       "MObsk/SCcY9+1ef8P/pik54wZP3ZXXrCsMUnn6YnDJvvGz0D7npcrOaHHudUVdW87XOtqrnHj4C5\n",
       "0Xu1Tu8Au7ian/d5WcFb1+eXKgAAAAAAAAAHRbAGAAAAAAAAIEKwBgAAAAAAACBCsAYAAAAAAAAg\n",
       "QrAGAAAAAAAAIEKwBgAAAAAAACBCsAYAAAAAAAAgQrAGAAAAAAAAIEKwBgAAAAAAACBCsAYAAAAA\n",
       "AAAgQrAGAAAAAAAAIEKwBgAAAAAAACBCsAYAAAAAAAAgQrAGAAAAAAAAIEKwBgAAAAAAACBCsAYA\n",
       "AAAAAAAgQrAGAAAAAAAAIEKwBgAAAAAAACBCsAYAAAAAAAAgQrAGAAAAAAAAIEKwBgAAAAAAACBC\n",
       "sAYAAAAAAAAgQrAGAAAAAAAAIEKwBgAAAAAAACBCsAYAAAAAAAAgQrAGAAAAAAAAIEKwBgAAAAAA\n",
       "ACBCsAYAAAAAAAAgYpUeAAdpntMLxk1TesGQqcnOqqp5t0tPGDatj9ITxnQ6pY6P0xPGnTTauujx\n",
       "N3ZToy/rbr1MTxi2O+pxD7j5Ro+dVVWbR+kFv4cep3+tj7bpCcPef+c6PWHY33/r39IThvS5+ld9\n",
       "sHqdnjDsJ7cfpScMO11t0hOG/PTz99IThv32o3V6wrCjX/bYOvd5/Kv9qs9z1bxs8rCyarKzquri\n",
       "PL1g2LS4SU8YNr95k54wptV71fSAcfO+0XFt4mp+3ugbAH/4Gj2pAAAAAAAAAHBIBGsAAAAAAAAA\n",
       "IgRrAAAAAAAAACIEawAAAAAAAAAiBGsAAAAAAAAAIgRrAAAAAAAAACIEawAAAAAAAAAiBGsAAAAA\n",
       "AAAAIgRrAAAAAAAAACIEawAAAAAAAAAiBGsAAAAAAAAAIgRrAAAAAAAAACIEawAAAAAAAAAiBGsA\n",
       "AAAAAAAAIgRrAAAAAAAAACIEawAAAAAAAAAiBGsAAAAAAAAAIgRrAAAAAAAAACIEawAAAAAAAAAi\n",
       "BGsAAAAAAAAAIgRrAAAAAAAAACIEawAAAAAAAAAiBGsAAAAAAAAAIgRrAAAAAAAAACIEawAAAAAA\n",
       "AAAiBGsAAAAAAAAAIgRrAAAAAAAAACIEawAAAAAAAAAiBGsAAAAAAAAAIlbpAXCIrubnU3rDqMt6\n",
       "Oqc3jGgx8v9NbT7+qv0uvWDMqtHtarlMLxi3arT1aJ1eMGRudEznlb9bfOv26QHj5j5f1Xr07Vfp\n",
       "CUPeP3+TnjDs7z769/SEYf9w8a/pCUN+tn2SnjDsyeI2PWHYN9cv0xOG/fz0/fSEIb+6+ev0hGEv\n",
       "zzbpCcP2Rz1+r2we9fmt+nDRZ+vx5z3eWEw3D+kJ4x76nP819/j8q6pq6vEbsNMh7XJMq6qmqccP\n",
       "1rnRF+By6vFevapPr3BMv9r6XFEBAAAAAAAAOCiCNQAAAAAAAAARgjUAAAAAAAAAEYI1AAAAAAAA\n",
       "ABGCNQAAAAAAAAARgjUAAAAAAAAAEYI1AAAAAAAAABGCNQAAAAAAAAARgjUAAAAAAAAAEYI1AAAA\n",
       "AAAAABGCNQAAAAAAAAARgjUAAAAAAAAAEYI1AAAAAAAAABGCNQAAAAAAAAARgjUAAAAAAAAAEYI1\n",
       "AAAAAAAAABGCNQAAAAAAAAARgjUAAAAAAAAAEYI1AAAAAAAAABGCNQAAAAAAAAARgjUAAAAAAAAA\n",
       "EYI1AAAAAAAAABGCNQAAAAAAAAARgjUAAAAAAAAAEYI1AAAAAAAAABGCNQAAAAAAAAARgjUAAAAA\n",
       "AAAAEYI1AAAAAAAAABGr9ACAEdM0pScMm+c5PWHYtFymJ4xpdExb2WzTC8YtmnxXG9md9Pm7xe1p\n",
       "j3vA9jy9YNzu0T49Ydhm2+P8/9OLF+kJw/5o/Xl6wrCfbN5PTxjy4fJ1esKwv1z3uf//ZPsmPWHY\n",
       "m/1JesKQx0d36QnDXpw+pCcMe/XeOj1hyOmveuysqpoa/QScFz2eVefTo/SEYdPDJj1h3P19esGw\n",
       "adXjuXpaNUoW+116wbB5bvIOYNfnmFaj99XV5L56NT9vdFD7uJyetvgGNLlKAQAAAAAAAHBoBGsA\n",
       "AAAAAAAAIgRrAAAAAAAAACIEawAAAAAAAAAiBGsAAAAAAAAAIgRrAAAAAAAAACIEawAAAAAAAAAi\n",
       "BGsAAAAAAAAAIgRrAAAAAAAAACIEawAAAAAAAAAiBGsAAAAAAAAAIgRrAAAAAAAAACIEawAAAAAA\n",
       "AAAiBGsAAAAAAAAAIgRrAAAAAAAAACIEawAAAAAAAAAiBGsAAAAAAAAAIgRrAAAAAAAAACIEawAA\n",
       "AAAAAAAiBGsAAAAAAAAAIgRrAAAAAAAAACIEawAAAAAAAAAiBGsAAAAAAAAAIgRrAAAAAAAAACIE\n",
       "awAAAAAAAAAiBGsAAAAAAAAAIgRrAAAAAAAAACIEawAAAAAAAAAiVukBMOpyejqnNxyiq/n5lN4w\n",
       "4nLf6POfWhzS32mydd73+fgXx8fpCeOafP6dzMtOx7TP1mmXXjDm+EV6wbj772zTE4Zt7nr8ZPnZ\n",
       "9bvpCcP+4tHj9IRhf3X8i/SEId8/OklPGPbJ7jY9Ydi3Gt1X/+nln6UnDFkvmtxUq+r1F6fpCcMW\n",
       "18v0hCH7HrfUqqp6uOhz/p+u/T/QW7fbpxeMa/S+Yp57bJ1WPa6pVVXzfZ/7ahtNvqdVVdOiz/W/\n",
       "S1vp0iq66XJc+5xRAAAAAAAAABwUwRoAAAAAAACACMEaAAAAAAAAgAjBGgAAAAAAAIAIwRoAAAAA\n",
       "AACACMEaAAAAAAAAgAjBGgAAAAAAAIAIwRoAAAAAAACACMEaAAAAAAAAgAjBGgAAAAAAAIAIwRoA\n",
       "AAAAAACACMEaAAAAAAAAgAjBGgAAAAAAAIAIwRoAAAAAAACACMEaAAAAAAAAgAjBGgAAAAAAAIAI\n",
       "wRoAAAAAAACACMEaAAAAAAAAgAjBGgAAAAAAAIAIwRoAAAAAAACACMEaAAAAAAAAgAjBGgAAAAAA\n",
       "AIAIwRoAAAAAAACACMEaAAAAAAAAgAjBGgAAAAAAAIAIwRoAAAAAAACACMEaAAAAAAAAgAjBGgAA\n",
       "AAAAAIAIwRoAAAAAAACAiFV6AIy6mp9P6Q2j/mb5j3N6w6jL+VmLrdPU5uOveW5xSKuqat7u0hOG\n",
       "TOtGt6vtJr1g3OIovWDcssff2E0PPc6pqqrlXZ+tXR5Zd41OqcWLdXrCsJM/vktPGHK+fkhPGPbL\n",
       "+yfpCcN+tPpuesKQ0+mn6QnD/uX6++kJw76x/jw9Ydh3Tl6kJwz58RffSE8Ydnp+n54wbPPJcXrC\n",
       "kGWfQ1pnv96nJwxbbHts3Z32eKauqlo0eq/S5bdqVVXdbdMLhsybPu9V5n2j39WdzqsmOr0Dhg4a\n",
       "3VEBAAAAAAAAOCSCNQAAAAAAAAARgjUAAAAAAAAAEYI1AAAAAAAAABGCNQAAAAAAAAARgjUAAAAA\n",
       "AAAAEYI1AAAAAAAAABGCNQAAAAAAAAARgjUAAAAAAAAAEYI1AAAAAAAAABGCNQAAAAAAAAARgjUA\n",
       "AAAAAAAAEYI1AAAAAAAAABGCNQAAAAAAAAARgjUAAAAAAAAAEYI1AAAAAAAAABGCNQAAAAAAAAAR\n",
       "gjUAAAAAAAAAEYI1AAAAAAAAABGCNQAAAAAAAAARgjUAAAAAAAAAEYI1AAAAAAAAABGCNQAAAAAA\n",
       "AAARgjUAAAAAAAAAEYI1AAAAAAAAABGCNQAAAAAAAAARgjUAAAAAAAAAEYI1AAAAAAAAABGr9ADy\n",
       "Lqenc3rDoZn3+/SEcdOUXjBknvt8TafFMj3h4My7XXrCsPlhk54wbFo1egy4uU0vGPP4LL1g2Lzq\n",
       "cf2vqlo+9LgHLDd9junU57JadzdH6QlDPrm+SE8Y1uOM+p3z5X16wpC/ffSf6QnDzhYP6QnDfnr3\n",
       "YXrCsB99/t30hCHXD8fpCcPub3tc/6uqjm7SC8ZMjW4Ai0bPKtOux4Fdvu5z/a+d92pfimWP91Xz\n",
       "XY/nv266vK++mp+3Oakup2c9bgDV67jy1eU/rAEAAAAAAACIEKwBAAAAAAAAiBCsAQAAAAAAAIgQ\n",
       "rAEAAAAAAACIEKwBAAAAAAAAiBCsAQAAAAAAAIgQrAEAAAAAAACIEKwBAAAAAAAAiBCsAQAAAAAA\n",
       "AIgQrAEAAAAAAACIEKwBAAAAAAAAiBCsAQAAAAAAAIgQrAEAAAAAAACIEKwBAAAAAAAAiBCsAQAA\n",
       "AAAAAIgQrAEAAAAAAACIEKwBAAAAAAAAiBCsAQAAAAAAAIgQrAEAAAAAAACIEKwBAAAAAAAAiBCs\n",
       "AQAAAAAAAIgQrAEAAAAAAACIEKwBAAAAAAAAiBCsAQAAAAAAAIgQrAEAAAAAAACIEKwBAAAAAAAA\n",
       "iBCsAQAAAAAAAIgQrAEAAAAAAACIEKwBAAAAAAAAiFhdLp7N6RGjrvYfT+kNh+hqfu64foVd1tMe\n",
       "14Cp0dd03qcXHJxpeZSeMGy+f0hPGLfo83dr0zsX6QlDFq9u0hOGLY9X6QnDFtt1esKQ48963FKr\n",
       "qrZnfe6rD3WcnjDkN7vH6QnDru96HNOqqrsm5/9vH3rcp6qqfn7zJD1h2NeO+9xXf/Gqx3FdL7fp\n",
       "CcMWPz9JTxg2NfkJePKiz7PK3OenSi3venwBprnP59/pt2ptNukFw+aHHu8rpuUyPWHY/NDnvsrb\n",
       "16lXXU49GoBW9dXW6O4PAAAAAAAAwCERrAEAAAAAAACIEKwBAAAAAAAAiBCsAQAAAAAAAIgQrAEA\n",
       "AAAAAACIEKwBAAAAAAAAiBCsAQAAAAAAAIgQrAEAAAAAAACIEKwBAAAAAAAAiBCsAQAAAAAAAIgQ\n",
       "rAEAAAAAAACIEKwBAAAAAAAAiBCsAQAAAAAAAIgQrAEAAAAAAACIEKwBAAAAAAAAiBCsAQAAAAAA\n",
       "AIgQrAEAAAAAAACIEKwBAAAAAAAAiBCsAQAAAAAAAIgQrAEAAAAAAACIEKwBAAAAAAAAiBCsAQAA\n",
       "AAAAAIgQrAEAAAAAAACIEKwBAAAAAAAAiBCsAQAAAAAAAIgQrAEAAAAAAACIEKwBAAAAAAAAiBCs\n",
       "AQAAAAAAAIiY0gPgEF0uns3pDeRMU6NL66LH3y3Nu116wrDFep2eMGxxcZGeMO78LL1gzFGfz39/\n",
       "fpqeMOzuox6f//a0xzW1qurua8v0hGGv/iS9YMz2bJ+eMO69h/SCYevjbXrCkI+evEpPGPbp9Xl6\n",
       "wu+hz8+qN58+Sk8Ysn65Sk8Y9uh/0wvGLTbpBWOOXvU5p04+63H9r6o6+9nn6Qljbu/TC8bd9dk6\n",
       "N9pa+x7vVjod03nuc12dN01uVo1czc/bvARu0ysanVOddPmu9nmrBgAAAAAAAMBBEawBAAAAAAAA\n",
       "iBCsAQAAAAAAAIgQrAEAAAAAAACIEKwBAAAAAAAAiBCsAQAAAAAAAIgQrAEAAAAAAACIEKwBAAAA\n",
       "AAAAiBCsAQAAAAAAAIgQrAEAAAAAAACIEKwBAAAAAAAAiBCsAQAAAAAAAIgQrAEAAAAAAACIEKwB\n",
       "AAAAAAAAiBCsAQAAAAAAAIgQrAEAAAAAAACIEKwBAAAAAAAAiBCsAQAAAAAAAIgQrAEAAAAAAACI\n",
       "EKwBAAAAAAAAiBCsAQAAAAAAAIgQrAEAAAAAAACIEKwBAAAAAAAAiBCsAQAAAAAAAIgQrAEAAAAA\n",
       "AACIEKwBAAAAAAAAiBCsAQAAAAAAAIgQrAEAAAAAAACIWKUHwCG62n88pTeMupyezukNh6bVAd1u\n",
       "0wuGTMtGt6vFMr1g2LzbpSeM++J1esGQ6d3H6QnDFjf36QnDjj/t8TeW939+np4w7PiLfXrCsHf+\n",
       "q8fnf/P1HjurqnbXJ+kJw/arHk9W/3N+mp4wbNq1+alS87LH519VdfKixzPg8WfpBePmPpfVWt32\n",
       "+K6evujx+6+qavWmz9b92XF6wpDFrs/zX236fP419zj/q6rmTY93AHOTd1XdXM3PWzwEelf9JWly\n",
       "reryPeXL0ejxHwAAAAAAAIBDIlgDAAAAAAAAECFYAwAAAAAAABAhWAMAAAAAAAAQIVgDAAAAAAAA\n",
       "ECFYAwAAAAAAABAhWAMAAAAAAAAQIVgDAAAAAAAAECFYAwAAAAAAABAhWAMAAAAAAAAQIVgDAAAA\n",
       "AAAAECFYAwAAAAAAABAhWAMAAAAAAAAQIVgDAAAAAAAAECFYAwAAAAAAABAhWAMAAAAAAAAQIVgD\n",
       "AAAAAAAAECFYAwAAAAAAABAhWAMAAAAAAAAQIVgDAAAAAAAAECFYAwAAAAAAABAhWAMAAAAAAAAQ\n",
       "IVgDAAAAAAAAECFYAwAAAAAAABAhWAMAAAAAAAAQIVgDAAAAAAAAECFYAwAAAAAAABAhWAMAAAAA\n",
       "AAAQIVgDAAAAAAAAEDGlBwCMuFw8m9MbRk1Tn0vrvN+nJwyZFo3+vmqxTC8Ytjg9SU8Yt1qlFwyZ\n",
       "Oh3Tk+P0gmH7i7P0hCHzus+16u7rPY5pVdV+3eO+evNBn+v/9jS9YNzmIr1gzPIuvWDcrtHnv7pJ\n",
       "LxjXZmubX1VVZ5/u0hOGLTY9Duz6TZ9juv70Nj1h2OLlq/SEw/Omy0W1avf6Oj1h2LTs8Xtl3mzT\n",
       "E34PPa7/VVXzrsk9oNF71U6u9h87sPzB63GXAgAAAAAAAODgCNYAAAAAAAAARAjWAAAAAAAAAEQI\n",
       "1gAAAAAAAABECNYAAAAAAAAARAjWAAAAAAAAAEQI1gAAAAAAAABECNYAAAAAAAAARAjWAAAAAAAA\n",
       "AEQI1gAA/9e+veC2kZxRGK1qUvIDmCSLondAT7YY2NyBuaUAQWJbEh9d2UGmklBz56fOWcFFs1/k\n",
       "JwEAAAAAECFYAwAAAAAAABAhWAMAAAAAAAAQIVgDAAAAAAAAECFYAwAAAAAAABAhWAMAAAAAAAAQ\n",
       "IVgDAAAAAAAAECFYAwAAAAAAABAhWAMAAAAAAAAQIVgDAAAAAAAAECFYAwAAAAAAABAhWAMAAAAA\n",
       "AAAQIVgDAAAAAAAAECFYAwAAAAAAABAhWAMAAAAAAAAQIVgDAAAAAAAAECFYAwAAAAAAABAhWAMA\n",
       "AAAAAAAQIVgDAAAAAAAAELFNDwCydn0/0hvuzbfrl57eMOvT9q81Pv9RY2ZrrbVe5uNv43xOT5jW\n",
       "qxzX0ym9YN5S5+8Wl+cax3WsdV6t3/39OT1h2njYpCdMWR/epSdMu7wUuae21t79M71gzrqpc0zH\n",
       "9/SCee/+saYnTNucaryvLucaO1trbft0TU+YtjzX2Lp5qvP+v/x8SU+Y91LjXbVdL+kF09afT+kJ\n",
       "0/qmxrtqa62NS5F7wKjz/OcVFPoN8DgOdb4EQAF1fqkEAAAAAAAA4K4I1gAAAAAAAABECNYAAAAA\n",
       "AAAARAjWAAAAAAAAAEQI1gAAAAAAAABECNYAAAAAAAAARAjWAAAAAAAAAEQI1gAAAAAAAABECNYA\n",
       "AAAAAAAARAjWAAAAAAAAAEQI1gAAAAAAAABECNYAAAAAAAAARAjWAAAAAAAAAEQI1gAAAAAAAABE\n",
       "CNYAAAAAAAAARAjWAAAAAAAAAEQI1gAAAAAAAABECNYAAAAAAAAARAjWAAAAAAAAAEQI1gAAAAAA\n",
       "AABECNYAAAAAAAAARAjWAAAAAAAAAEQI1gAAAAAAAABECNYAAAAAAAAARAjWAAAAAAAAAEQI1gAA\n",
       "AAAAAABECNYAAAAAAAAARAjWAAAAAAAAAERs0wPgHu36fqQ3zDqOQ09vmFLmiNYy1jU94e706yU9\n",
       "YV6v8xqwPj2lJ0xZeo1bamut9VHjmLbWWnt+SS+Y0j++T0+Ytum/pCfMuzynF0z5sKlz/S/nOs//\n",
       "l788pidMefhR5/l/+vNDesK0fq3zJWDzUuO6GoXuVZvna3rCtOXHKT1hyvKjxjtVa621f31PL5i3\n",
       "FjlX69xSW6Wx43xOT7g/yya9YN6o8fxvrdBvwMCb5T+sAQAAAAAAAIgQrAEAAAAAAACIEKwBAAAA\n",
       "AAAAiBCsAQAAAAAAAIgQrAEAAAAAAACIEKwBAAAAAAAAiBCsAQAAAAAAAIgQrAEAAAAAAACIEKwB\n",
       "AAAAAAAAiBCsAQAAAAAAAIgQrAEAAAAAAACIEKwBAAAAAAAAiBCsAQAAAAAAAIgQrAEAAAAAAACI\n",
       "EKwBAAAAAAAAiBCsAQAAAAAAAIgQrAEAAAAAAACIEKwBAAAAAAAAiBCsAQAAAAAAAIgQrAEAAAAA\n",
       "AACIEKwBAAAAAAAAiBCsAQAAAAAAAIgQrAEAAAAAAACIEKwBAAAAAAAAiBCsAQAAAAAAAIgQrAEA\n",
       "AAAAAACIEKwBAAAAAAAAiBCsAQAAAAAAAIgQrAEAAAAAAACI6OkB92rX9yO9YdZxHJwH/OG5pl7H\n",
       "bvlc4rj2XuaQtjFKHNLWWmt9u01PmNYXf2N3c4WO6fLxQ3rCnI8f0wvmXS7pBfM+vE8vmDLeP6Yn\n",
       "TBsfC21darwDjEL31H5d0xOmjW2h43qpcVw335/TE+YVeq9uP4sc19M5vWDaOJ3SE+atNc7V8fKS\n",
       "njBtnOu8q45rna2Vflup4tv1S5mDWuU3wOP6tcwxBW6rzrc/AAAAAAAAAO6KYA0AAAAAAABAhGAN\n",
       "AAAAAAAAQIRgDQAAAAAAAECEYA0AAAAAAABAhGANAAAAAAAAQIRgDQAAAAAAAECEYA0AAAAAAABA\n",
       "hGANAAAAAAAAQIRgDQAAAAAAAECEYA0AAAAAAABAhGANAAAAAAAAQIRgDQAAAAAAAECEYA0AAAAA\n",
       "AABAhGANAAAAAAAAQIRgDQAAAAAAAECEYA0AAAAAAABAhGANAAAAAAAAQIRgDQAAAAAAAECEYA0A\n",
       "AAAAAABAhGANAAAAAAAAQIRgDQAAAAAAAECEYA0AAAAAAABAhGANAAAAAAAAQIRgDQAAAAAAAECE\n",
       "YA0AAAAAAABAhGANAAAAAAAAQIRgDQAAAAAAAEBETw8AsnZ9P9IbZhzHwf3qFVT5/Fuv8/H3QltL\n",
       "qXJce52/BewP2/SEaX27SU+YU+OO2lprrf/pl/SEeadTesGcx8f0gnkf3qcX3J+lzv2/XS7pBfO2\n",
       "dZ5V7XxOL5hU5J2qtdZeXtILpo2n5/SEKb3QvWqUuaZaG1XeVQrdU8dzneu/jTW9YNoYNb6wVPpd\n",
       "Zax1Pv8q/AYMb1edN1UAAAAAAAAA7opgDQAAAAAAAECEYA0AAAAAAABAhGANAAAAAAAAQIRgDQAA\n",
       "AAAAAECEYA0AAAAAAABAhGANAAAAAAAAQIRgDQAAAAAAAECEYA0AAAAAAABAhGANAAAAAAAAQIRg\n",
       "DQAAAAAAAECEYA0AAAAAAABAhGANAAAAAAAAQIRgDQAAAAAAAECEYA0AAAAAAABAhGANAAAAAAAA\n",
       "QIRgDQAAAAAAAECEYA0AAAAAAABAhGANAAAAAAAAQIRgDQAAAAAAAECEYA0AAAAAAABAhGANAAAA\n",
       "AAAAQIRgDQAAAAAAAECEYA0AAAAAAABAhGANAAAAAAAAQIRgDQAAAAAAAECEYA0AAAAAAABAhGAN\n",
       "AAAAAAAAQERPDwCA37Lr+5HeMK3XebT2pc7frY11TU+Y0jfb9IRpfVPn8++PD+kJU8Za6Fa1rXOu\n",
       "tiL3qr7Uuf+Xsq1x/bdKn3+hd5V2vqQX/BeKPAM2m/SCaePpOT1h3npNL5hU5/of53N6wrRxLfL5\n",
       "F/lO1Vqd73/ljCLPKl7FcRzqPASAN6nGrz8AAAAAAAAA3B3BGgAAAAAAAIAIwRoAAAAAAACACMEa\n",
       "AAAAAAAAgAjBGgAAAAAAAIAIwRoAAAAAAACACMEaAAAAAAAAgAjBGgAAAAAAAIAIwRoAAAAAAACA\n",
       "CMEaAAAAAAAAgAjBGgAAAAAAAIAIwRoAAAAAAACACMEaAAAAAAAAgAjBGgAAAAAAAIAIwRoAAAAA\n",
       "AACACMEaAAAAAAAAgAjBGgAAAAAAAIAIwRoAAAAAAACACMEaAAAAAAAAgAjBGgAAAAAAAIAIwRoA\n",
       "AAAAAACACMEaAAAAAAAAgAjBGgAAAAAAAIAIwRoAAAAAAACACMEaAAAAAAAAgAjBGgAAAAAAAIAI\n",
       "wRoAAAAAAACACMEaAAAAAAAAgAjBGgAAAAAAAICIbXoAANyVMdILpo11TU+4Q4U+/8slPWFama29\n",
       "zt+CjtMpPWFaf3xMT5hS5+pvrW8LfQ28XNML7k7fbtITpo3zOT1hXpV3wLXIztZaW3p6wbTxUuO5\n",
       "WuU0LefqWUUNx3EocWPd9b27FcAbVOdXNQAAAAAAAADuimANAAAAAAAAQIRgDQAAAAAAAECEYA0A\n",
       "AAAAAABAhGANAAAAAAAAQIRgDQAAAAAAAECEYA0AAAAAAABAhGANAAAAAAAAQIRgDQAAAAAAAECE\n",
       "YA0AAAAAAABAhGANAAAAAAAAQIRgDQAAAAAAAECEYA0AAAAAAABAhGANAAAAAAAAQIRgDQAAAAAA\n",
       "AECEYA0AAAAAAABAhGANAAAAAAAAQIRgDQAAAAAAAECEYA0AAAAAAABAhGANAAAAAAAAQIRgDQAA\n",
       "AAAAAECEYA0AAAAAAABAhGANAAAAAAAAQIRgDQAAAAAAAECEYA0AAAAAAABAhGANAAAAAAAAQIRg\n",
       "DQAAAAAAAECEYA0AAAAAAABARE8POOUynQAADFpJREFUAAAydn0/0htmHcfBO8uNVfr8+2aTnnB/\n",
       "ljrHtPcql3+ZS6qNUWdrX/yN9c31Qsd0XdML7lCd67/ST1Zl7qvXS3rBvDLP/9aGe9XNHdevZU6A\n",
       "St+ruD2/VQDcTqFvqgAAAAAAAADcE8EaAAAAAAAAgAjBGgAAAAAAAIAIwRoAAAAAAACACMEaAAAA\n",
       "AAAAgAjBGgAAAAAAAIAIwRoAAAAAAACACMEaAAAAAAAAgAjBGgAAAAAAAIAIwRoAAAAAAACACMEa\n",
       "AAAAAAAAgAjBGgAAAAAAAIAIwRoAAAAAAACACMEaAAAAAAAAgAjBGgAAAAAAAIAIwRoAAAAAAACA\n",
       "CMEaAAAAAAAAgAjBGgAAAAAAAIAIwRoAAAAAAACACMEaAAAAAAAAgAjBGgAAAAAAAIAIwRoAAAAA\n",
       "AACACMEaAAAAAAAAgAjBGgAAAAAAAIAIwRoAAAAAAACACMEaAAAAAAAAgAjBGgAAAAAAAIAIwRoA\n",
       "AAAAAACACMEaAAAAAAAAgIieHgAAv2XX9yO9YdZxHMo8Wysd1zJ6mY+/9UJbx7qmJ0zpS52/BR3D\n",
       "5X9rfbtNTyCo90rXf417amuttes1vWBemedqlZ2ttUrnKjfnXeUVVDqmZe6prdRxrfJ7RaXfKqoc\n",
       "U4AK6nyrBgAAAAAAAOCuCNYAAAAAAAAARAjWAAAAAAAAAEQI1gAAAAAAAABECNYAAAAAAAAARAjW\n",
       "AAAAAAAAAEQI1gAAAAAAAABECNYAAAAAAAAARAjWAAAAAAAAAEQI1gAAAAAAAABECNYAAAAAAAAA\n",
       "RAjWAAAAAAAAAEQI1gAAAAAAAABECNYAAAAAAAAARAjWAAAAAAAAAEQI1gAAAAAAAABECNYAAAAA\n",
       "AAAARAjWAAAAAAAAAEQI1gAAAAAAAABECNYAAAAAAAAARAjWAAAAAAAAAEQI1gAAAAAAAABECNYA\n",
       "AAAAAAAARAjWAAAAAAAAAEQI1gAAAAAAAABECNYAAAAAAAAARAjWAAAAAAAAAEQI1gAAAAAAAABE\n",
       "9PQAAHJ2fT/SG2Ycx8HzihJ2y+cS11RrrfXusrq1b9cvZQ5qpXOVt63Mvar7W/DXUedWNdY1PWFK\n",
       "mWuq1TmmrbXWCh3XMkad67/K99Uq3/9bq3NMAYDb8a0aAAAAAAAAgAjBGgAAAAAAAIAIwRoAAAAA\n",
       "AACACMEaAAAAAAAAgAjBGgAAAAAAAIAIwRoAAAAAAACACMEaAAAAAAAAgAjBGgAAAAAAAIAIwRoA\n",
       "AAAAAACACMEaAAAAAAAAgAjBGgAAAAAAAIAIwRoAAAAAAACACMEaAAAAAAAAgAjBGgAAAAAAAIAI\n",
       "wRoAAAAAAACACMEaAAAAAAAAgAjBGgAAAAAAAIAIwRoAAAAAAACACMEaAAAAAAAAgAjBGgAAAAAA\n",
       "AIAIwRoAAAAAAACACMEaAAAAAAAAgAjBGgAAAAAAAIAIwRoAAAAAAACACMEaAAAAAAAAgAjBGgAA\n",
       "AAAAAIAIwRoAAAAAAACACMEaAAAAAAAAgIieHgD3aNf3I71h1nEc3AcA+EOr9Fzl9qq8q+yWz3XO\n",
       "01FnahVVztNqPm1+rXOy9hr/D/Dt8rcy52qp538vc1jLOK5fHVQAgDekxjcqAAAAAAAAAO6OYA0A\n",
       "AAAAAABAhGANAAAAAAAAQIRgDQAAAAAAAECEYA0AAAAAAABAhGANAAAAAAAAQIRgDQAAAAAAAECE\n",
       "YA0AAAAAAABAhGANAAAAAAAAQIRgDQAAAAAAAECEYA0AAAAAAABAhGANAAAAAAAAQIRgDQAAAAAA\n",
       "AECEYA0AAAAAAABAhGANAAAAAAAAQIRgDQAAAAAAAECEYA0AAAAAAABAhGANAAAAAAAAQIRgDQAA\n",
       "AAAAAECEYA0AAAAAAABAhGANAAAAAAAAQIRgDQAAAAAAAECEYA0AAAAAAABAhGANAAAAAAAAQIRg\n",
       "DQAAAAAAAECEYA0AAAAAAABAhGANAAAAAAAAQIRgDQAAAAAAAECEYA0AAAAAAABARE8PAACA/2S3\n",
       "fB7pDTOO61fv1q9g1/clPv/W63z8lc7VT5tfS3z+Y13TE+YVOlcrqXRdcXtV3lXaqDGztdaO41Dm\n",
       "mqryrlLpmAIAb4//sAYAAAAAAAAgQrAGAAAAAAAAIEKwBgAAAAAAACBCsAYAAAAAAAAgQrAGAAAA\n",
       "AAAAIEKwBgAAAAAAACBCsAYAAAAAAAAgQrAGAAAAAAAAIEKwBgAAAAAAACBCsAYAAAAAAAAgQrAG\n",
       "AAAAAAAAIEKwBgAAAAAAACBCsAYAAAAAAAAgQrAGAAAAAAAAIEKwBgAAAAAAACBCsAYAAAAAAAAg\n",
       "QrAGAAAAAAAAIEKwBgAAAAAAACBCsAYAAAAAAAAgQrAGAAAAAAAAIEKwBgAAAAAAACBCsAYAAAAA\n",
       "AAAgQrAGAAAAAAAAIEKwBgAAAAAAACBCsAYAAAAAAAAgQrAGAAAAAAAAIEKwBgAAAAAAACBCsAYA\n",
       "AAAAAAAgoqcHANybXd+P9IZZx3HwHAC4kd3yucz9v406U1uv8ag6rl9rDOVVeP97HZWOK7dX6Vyt\n",
       "otS7SiHeAQAA/n/+wxoAAAAAAACACMEaAAAAAAAAgAjBGgAAAAAAAIAIwRoAAAAAAACACMEaAAAA\n",
       "AAAAgAjBGgAAAAAAAIAIwRoAAAAAAACACMEaAAAAAAAAgAjBGgAAAAAAAIAIwRoAAAAAAACACMEa\n",
       "AAAAAAAAgAjBGgAAAAAAAIAIwRoAAAAAAACACMEaAAAAAAAAgAjBGgAAAAAAAIAIwRoAAAAAAACA\n",
       "CMEaAAAAAAAAgAjBGgAAAAAAAIAIwRoAAAAAAACACMEaAAAAAAAAgAjBGgAAAAAAAIAIwRoAAAAA\n",
       "AACACMEaAAAAAAAAgAjBGgAAAAAAAIAIwRoAAAAAAACACMEaAAAAAAAAgAjBGgAAAAAAAIAIwRoA\n",
       "AAAAAACAiJ4eAABwL3Z9P9IbZh3HwXvgjfn8X0eV41rpmPK2VbmmWnNdvXXOVQAAeDv8hzUAAAAA\n",
       "AAAAEYI1AAAAAAAAABGCNQAAAAAAAAARgjUAAAAAAAAAEYI1AAAAAAAAABGCNQAAAAAAAAARgjUA\n",
       "AAAAAAAAEYI1AAAAAAAAABGCNQAAAAAAAAARgjUAAAAAAAAAEYI1AAAAAAAAABGCNQAAAAAAAAAR\n",
       "gjUAAAAAAAAAEYI1AAAAAAAAABGCNQAAAAAAAAARgjUAAAAAAAAAEYI1AAAAAAAAABGCNQAAAAAA\n",
       "AAARgjUAAAAAAAAAEYI1AAAAAAAAABGCNQAAAAAAAAARgjUAAAAAAAAAEYI1AAAAAAAAABGCNQAA\n",
       "AAAAAAARgjUAAAAAAAAAEYI1AAAAAAAAABGCNQAAAAAAAAARgjUAAAAAAAAAEYI1AAAAAAAAABE9\n",
       "PQAAAIDfz67vR3rDrOM4lPjO6pjC21bpHlCFe9XbVumacq4CwG34D2sAAAAAAAAAIgRrAAAAAAAA\n",
       "ACIEawAAAAAAAAAiBGsAAAAAAAAAIgRrAAAAAAAAACIEawAAAAAAAAAiBGsAAAAAAAAAIgRrAAAA\n",
       "AAAAACIEawAAAAAAAAAiBGsAAAAAAAAAIgRrAAAAAAAAACIEawAAAAAAAAAiBGsAAAAAAAAAIgRr\n",
       "AAAAAAAAACIEawAAAAAAAAAiBGsAAAAAAAAAIgRrAAAAAAAAACIEawAAAAAAAAAiBGsAAAAAAAAA\n",
       "IgRrAAAAAAAAACIEawAAAAAAAAAiBGsAAAAAAAAAIgRrAAAAAAAAACIEawAAAAAAAAAiBGsAAAAA\n",
       "AAAAIgRrAAAAAAAAACIEawAAAAAAAAAiBGsAAAAAAAAAInp6AAAAAL+fXd+P9IZ7cxwH360BAADg\n",
       "f+Q/rAEAAAAAAACIEKwBAAAAAAAAiBCsAQAAAAAAAIgQrAEAAAAAAACIEKwBAAAAAAAAiBCsAQAA\n",
       "AAAAAIgQrAEAAAAAAACIEKwBAAAAAAAAiBCsAQAAAAAAAIgQrAEAAAAAAACIEKwBAAAAAAAAiBCs\n",
       "AQAAAAAAAIgQrAEAAAAAAACIEKwBAAAAAAAAiBCsAQAAAAAAAIgQrAEAAAAAAACIEKwBAAAAAAAA\n",
       "iBCsAQAAAAAAAIgQrAEAAAAAAACIEKwBAAAAAAAAiBCsAQAAAAAAAIgQrAEAAAAAAACIEKwBAAAA\n",
       "AAAAiBCsAQAAAAAAAIgQrAEAAAAAAACIEKwBAAAAAAAAiBCsAQAAAAAAAIgQrAEAAAAAAACI+Dca\n",
       "dBT0QDNgyAAAAABJRU5ErkJggg==\n",
       "\" transform=\"translate(149, 47)\"/>\n",
       "</g>\n",
       "<defs>\n",
       "  <clipPath id=\"clip073\">\n",
       "    <rect x=\"2160\" y=\"47\" width=\"73\" height=\"1440\"/>\n",
       "  </clipPath>\n",
       "</defs>\n",
       "<g clip-path=\"url(#clip073)\">\n",
       "<image width=\"72\" height=\"1439\" xlink:href=\"data:image/png;base64,\n",
       "iVBORw0KGgoAAAANSUhEUgAAAEgAAAWfCAYAAAAI7rB3AAAMJ0lEQVR4nO3dwa3cSBAFQVIoU9Z/\n",
       "t2QFm7JgK4+cQ4QFQuJhiG7OfN3P3//ei//15+t/wK8TKAgUBAoChXne8/W/4adZUBAoCBQECgKF\n",
       "OZej2MaCgkBBoCBQmHM5amwsKAgUBAoCBYHCPK+jxsaCgkBBoCBQECg4iwULCgIFgYJAYR5vNVYW\n",
       "FAQKAgWBgkBhjguzlQUFgYJAQaDgqBEsKAgUBAoCBYHCeKexs6AgUBAoCBQECr5hFiwoCBQECgKF\n",
       "eb7+F/w4CwoCBYGCQEGg4MIsWFAQKAgUBAoChXncl60sKAgUBAoCBUeNYEFBoCBQECgIFOa57q//\n",
       "DT/NgoJAQaAgUJjn9SG9saAgUBAoCBQECnMcNVYWFAQKAgWBgkDBhVmwoCBQECgIFOa4MFtZUBAo\n",
       "CBQECgIFR41gQUGgIFAQKAgUPMWCBQWBgkBBoDDn1WijThAoCBQECgIFR41gQUGgIFAQKMyj0Uqd\n",
       "IFAQKAgUBAouzII6QaAgUBAoCBRcmAULCgIFgYJAYR5HjZU6QaAgUBAoCBTmaLRSJwgUBAoCBYGC\n",
       "C7NgQUGgIFAQKLgwC+oEgYJAQaAgUHBhFtQJAgWBgkDBUSOoEwQKAgWBgkDBW41gQUGgIFAQKAgU\n",
       "/CQzqBMECgIFgYK//hLUCQIFgYJAQaAwj/9fbGVBQaAgUBAo+AJVUCcIFAQKAgWBgm+YBXWCQEGg\n",
       "IFAQKHjtE9QJAgWBgkBhjrcaKwsKAgWBgkBBoOCoEdQJAgWBgkBBoODHLEGdIFAQKAgU/G4+WFAQ\n",
       "KAgUBAoCBUeNoE4QKAgUBAqOGsGCgkBBoCBQECg4agR1gkBBoCBQECj4SWZQJwgUBAoChTkuzFYW\n",
       "FAQKAgWBgkDBUSOoEwQKAgWBgkDBWSxYUBAoCBQECo4aQZ0gUBAoCBQECv6GWbCgIFAQKAgU/Imu\n",
       "oE4QKAgUBAoCBUeNYEFBoCBQECgIFDzFggUFgYJAQaDgwiyoEwQKAgWBgkDBUSNYUBAoCBQECgIF\n",
       "f8MsqBMECgIFgYJfHAYLCgIFgYJAQaAwjwuzlQUFgYJAQaDgPiioEwQKAgWBgkDBu/lgQUGgIFAQ\n",
       "KAgUvPYJFhQECgIFgYK3GsGCgkBBoCBQECh47RPUCQIFgYJAwVuNYEFBoCBQECgIFLzVCBYUBAoC\n",
       "BYGCQMFZLFhQECgIFAQKPqSDBQWBgkBBoCBQ8BQLFhQECgIFgYJAwTfMgjpBoCBQECh4Nx8sKAgU\n",
       "BAoCBYGCC7NgQUGgIFAQKPiQDhYUBAoCBYGCQMFTLFhQECgIFAQKAoV5PcVWFhQECgIFgYJ388GC\n",
       "gkBBoCBQECi4MAsWFAQKAgWBgkDBUyxYUBAoCBQECt5qBAsKAgWBgkBBoOCoESwoCBQECgIFH9LB\n",
       "goJAQaAgUBAozPv1v+DHWVAQKAgUBAoCBWexYEFBoCBQECh4Nx8sKAgUBAoCBYGCo0awoCBQECgI\n",
       "FAQKzmLBgoJAQaAgUJjj5fzKgoJAQaAgUBAoOGoECwoCBYGCQMGHdLCgIFAQKAgUBArezQcLCgIF\n",
       "gYJAQaDgJ5nBgoJAQaAgUHBhFiwoCBQECgIFgYKnWLCgIFAQKAgUBArzujFbWVAQKAgUBAqOGsGC\n",
       "gkBBoCBQECh4igULCgIFgYJAwX1QsKAgUBAoCBQECo4awYKCQEGgIFAQKDiLBQsKAgWBgkBhLkeN\n",
       "lQUFgYJAQaAgUHBhFiwoCBQECgIFf9wkWFAQKAgUBAoCBRdmwYKCQEGgIFAQKHg3HywoCBQECgKF\n",
       "uXxIrywoCBQECgIFgYJ388GCgkBBoCBQECg4iwULCgIFgYJAwbv5YEFBoCBQECgIFLybDxYUBAoC\n",
       "BYGCo0awoCBQECgIFAQK3moECwoCBYGCQEGg4CkWLCgIFAQKAgUXZsGCgkBBoCBQECg4agQLCgIF\n",
       "gYJAQaDgKRYsKAgUBAoCBRdmwYKCQEGgIFAQKAgUBAoCBYGCQMF9ULCgIFAQKAgUBAqeYsGCgkBB\n",
       "oCBQECjM7bXPyoKCQEGgIFBw1AgWFAQKAgWBgkDBUyxYUBAoCBQECgIFT7FgQUGgIFAQKPgxS7Cg\n",
       "IFAQKAgUBApzO2qsLCgIFAQKAgX3QcGCgkBBoCBQECh4igULCgIFgYJAQaDgwixYUBAoCBQECo4a\n",
       "wYKCQEGgIFAQKPiGWbCgIFAQKAgU3AcFCwoCBYGCQEGg4MIsWFAQKAgUBAoCBU+xYEFBoCBQECiM\n",
       "dxo7CwoCBYGCQEGg4KgRLCgIFAQKAgWBgqdYsKAgUBAoCBR8wyxYUBAoCBQECgIFR41gQUGgIFAQ\n",
       "KPiQDhYUBAoCBYGCQMGFWbCgIFAQKAgUBAr++kuwoCBQECgIFBw1ggUFgYJAQaAgUPDaJ1hQECgI\n",
       "FAQKAgVPsWBBQaAgUBAouDALFhQECgIFgYJAwVEjWFAQKAgUBAo+pIMFBYGCQEGgIFBwYRYsKAgU\n",
       "BAoCBYGCs1iwoCBQECgIFAQKAgWBgkBBoCBQcGEWLCgIFAQKAgWBgguzYEFBoCBQECg4agQLCgIF\n",
       "gYJAQaDgqBEsKAgUBAoCBR/SwYKCQEGgIFAQKLgwCxYUBAoCBYGCQMFZLFhQECgIFAQKjhrBgoJA\n",
       "QaAgUBAoOGoECwoCBYGCQMGHdLCgIFAQKAgUBAouzIIFBYGCQEGgIFBwFgsWFAQKAgWBgqNGsKAg\n",
       "UBAoCBQECo4awYKCQEGgIFAQKHiKBQsKAgWBgkBh7ten9MaCgkBBoCBQECg4agQLCgIFgYJAwbv5\n",
       "YEFBoCBQECgIFBw1ggUFgYJAQaAgUHAWCxYUBAoCBYGCo0awoCBQECgIFAQKnmLBgoJAQaAgUBAo\n",
       "uDALFhQECgIFgYKjRrCgIFAQKAgUBAqOGsGCgkBBoCBQcNQIFhQECgIFgYJAwVEjWFAQKAgUBAoC\n",
       "BWexYEFBoCBQECj4Q5PBgoJAQaAgUBAoOGoECwoCBYGCQEGg4LVPsKAgUBAoCBQcNYIFBYGCQEGg\n",
       "IFBw1AgWFAQKAgWBgqNGsKAgUBAoCBQECo4awYKCQEGgIFAQKMzle9IrCwoCBYGCQMFRI1hQECgI\n",
       "FAQKAgWvfYIFBYGCQEGgIFBwFgsWFAQKAgWBgqNGsKAgUBAoCBQECv6GWbCgIFAQKAgUHDWCBQWB\n",
       "gkBBoCBQmPt8/U/4bRYUBAoCBYGCQMFZLFhQECgIFAQK3moECwoCBYGCQEGg4KgRLCgIFAQKAgUf\n",
       "0sGCgkBBoCBQECj4xWGwoCBQECgIFAQK/tBksKAgUBAoCBQcNYIFBYGCQEGgIFCY63iMbSwoCBQE\n",
       "CgIFgYKzWLCgIFAQKAgUfMMsWFAQKAgUBAoCBT/JDBYUBAoCBYGCo0awoCBQECgIFAQKjhrBgoJA\n",
       "QaAgUBAozOXPJa8sKAgUBAoCBb84DBYUBAoCBYGCQMHXgIMFBYGCQEGgIFBwFgsWFAQKAgWBgm+Y\n",
       "BQsKAgWBgkBBoOAbZsGCgkBBoCBQ8Ce6ggUFgYJAQaAgUPBuPlhQECgIFAQKAgXv5oMFBYGCQEGg\n",
       "4EM6WFAQKAgUBAoCBb+bDxYUBAoCBYGCQME3zIIFBYGCQEGg4MIsWFAQKAgUBAoCBU+xYEFBoCBQ\n",
       "ECh4qxEsKAgUBAoCBYGCtxrBgoJAQaAgUBAouDALFhQECgIFgYIP6WBBQaAgUBAoCBT8DbNgQUGg\n",
       "IFAQKDhqBAsKAgWBgkBBoOApFiwoCBQECgIFgYKnWLCgIFAQKAgU5vZWY2VBQaAgUBAoCBQcNYIF\n",
       "BYGCQEGgIFDwFAsWFAQKAgWBgg/pYEFBoCBQECgIFPyYJVhQECgIFAQKjhrBgoJAQaAgUBAoeIoF\n",
       "CwoCBYGCQEGgMNfxV/83FhQECgIFgYKjRrCgIFAQKAgUBArzeoqtLCgIFAQKAgWBgm+YBQsKAgWB\n",
       "gkBhrtdbjY0FBYGCQEGgIFDw2idYUBAoCBQECu6DggUFgYJAQaAgUHBhFiwoCBQECgIFgYKzWLCg\n",
       "IFAQKAgUfA04WFAQKAgUBAoCBb+bDxYUBAoCBYGCQME3zIIFBYGCQEGg4KgRLCgIFAQKAgWBgtc+\n",
       "wYKCQEGgIFDwBapgQUGgIFAQKAgU/JglWFAQKAgUBAoChXmdxVYWFAQKAgWBgqNGsKAgUBAoCBQE\n",
       "Cr4GHCwoCBQECgKFf4jrjN/mS6F7AAAAAElFTkSuQmCC\n",
       "\" transform=\"translate(2161, 47)\"/>\n",
       "</g>\n",
       "<path clip-path=\"url(#clip070)\" d=\"M2269.43 1281.91 L2277.07 1281.91 L2277.07 1255.54 L2268.76 1257.21 L2268.76 1252.95 L2277.02 1251.28 L2281.7 1251.28 L2281.7 1281.91 L2289.33 1281.91 L2289.33 1285.84 L2269.43 1285.84 L2269.43 1281.91 Z\" fill=\"#f8f8f2\" fill-rule=\"nonzero\" fill-opacity=\"1\" /><path clip-path=\"url(#clip070)\" d=\"M2308.78 1254.36 Q2305.17 1254.36 2303.34 1257.93 Q2301.53 1261.47 2301.53 1268.6 Q2301.53 1275.7 2303.34 1279.27 Q2305.17 1282.81 2308.78 1282.81 Q2312.41 1282.81 2314.22 1279.27 Q2316.05 1275.7 2316.05 1268.6 Q2316.05 1261.47 2314.22 1257.93 Q2312.41 1254.36 2308.78 1254.36 M2308.78 1250.66 Q2314.59 1250.66 2317.64 1255.26 Q2320.72 1259.85 2320.72 1268.6 Q2320.72 1277.32 2317.64 1281.93 Q2314.59 1286.51 2308.78 1286.51 Q2302.97 1286.51 2299.89 1281.93 Q2296.83 1277.32 2296.83 1268.6 Q2296.83 1259.85 2299.89 1255.26 Q2302.97 1250.66 2308.78 1250.66 Z\" fill=\"#f8f8f2\" fill-rule=\"nonzero\" fill-opacity=\"1\" /><path clip-path=\"url(#clip070)\" d=\"M2338.94 1254.36 Q2335.33 1254.36 2333.5 1257.93 Q2331.7 1261.47 2331.7 1268.6 Q2331.7 1275.7 2333.5 1279.27 Q2335.33 1282.81 2338.94 1282.81 Q2342.57 1282.81 2344.38 1279.27 Q2346.21 1275.7 2346.21 1268.6 Q2346.21 1261.47 2344.38 1257.93 Q2342.57 1254.36 2338.94 1254.36 M2338.94 1250.66 Q2344.75 1250.66 2347.81 1255.26 Q2350.89 1259.85 2350.89 1268.6 Q2350.89 1277.32 2347.81 1281.93 Q2344.75 1286.51 2338.94 1286.51 Q2333.13 1286.51 2330.05 1281.93 Q2327 1277.32 2327 1268.6 Q2327 1259.85 2330.05 1255.26 Q2333.13 1250.66 2338.94 1250.66 Z\" fill=\"#f8f8f2\" fill-rule=\"nonzero\" fill-opacity=\"1\" /><polyline clip-path=\"url(#clip070)\" style=\"stroke:#000000; stroke-linecap:round; stroke-linejoin:round; stroke-width:4; stroke-opacity:1; fill:none\" points=\"2232.76,1272.19 2256.76,1272.19 \"/>\n",
       "<path clip-path=\"url(#clip070)\" d=\"M2274.38 1065.48 L2290.7 1065.48 L2290.7 1069.42 L2268.76 1069.42 L2268.76 1065.48 Q2271.42 1062.73 2276 1058.1 Q2280.61 1053.45 2281.79 1052.11 Q2284.03 1049.58 2284.91 1047.85 Q2285.82 1046.09 2285.82 1044.4 Q2285.82 1041.64 2283.87 1039.91 Q2281.95 1038.17 2278.85 1038.17 Q2276.65 1038.17 2274.2 1038.93 Q2271.77 1039.7 2268.99 1041.25 L2268.99 1036.53 Q2271.81 1035.39 2274.27 1034.81 Q2276.72 1034.24 2278.76 1034.24 Q2284.13 1034.24 2287.32 1036.92 Q2290.52 1039.61 2290.52 1044.1 Q2290.52 1046.23 2289.7 1048.15 Q2288.92 1050.05 2286.81 1052.64 Q2286.23 1053.31 2283.13 1056.53 Q2280.03 1059.72 2274.38 1065.48 Z\" fill=\"#f8f8f2\" fill-rule=\"nonzero\" fill-opacity=\"1\" /><path clip-path=\"url(#clip070)\" d=\"M2310.51 1037.94 Q2306.9 1037.94 2305.08 1041.5 Q2303.27 1045.05 2303.27 1052.17 Q2303.27 1059.28 2305.08 1062.85 Q2306.9 1066.39 2310.51 1066.39 Q2314.15 1066.39 2315.95 1062.85 Q2317.78 1059.28 2317.78 1052.17 Q2317.78 1045.05 2315.95 1041.5 Q2314.15 1037.94 2310.51 1037.94 M2310.51 1034.24 Q2316.33 1034.24 2319.38 1038.84 Q2322.46 1043.42 2322.46 1052.17 Q2322.46 1060.9 2319.38 1065.51 Q2316.33 1070.09 2310.51 1070.09 Q2304.7 1070.09 2301.63 1065.51 Q2298.57 1060.9 2298.57 1052.17 Q2298.57 1043.42 2301.63 1038.84 Q2304.7 1034.24 2310.51 1034.24 Z\" fill=\"#f8f8f2\" fill-rule=\"nonzero\" fill-opacity=\"1\" /><path clip-path=\"url(#clip070)\" d=\"M2340.68 1037.94 Q2337.07 1037.94 2335.24 1041.5 Q2333.43 1045.05 2333.43 1052.17 Q2333.43 1059.28 2335.24 1062.85 Q2337.07 1066.39 2340.68 1066.39 Q2344.31 1066.39 2346.12 1062.85 Q2347.95 1059.28 2347.95 1052.17 Q2347.95 1045.05 2346.12 1041.5 Q2344.31 1037.94 2340.68 1037.94 M2340.68 1034.24 Q2346.49 1034.24 2349.54 1038.84 Q2352.62 1043.42 2352.62 1052.17 Q2352.62 1060.9 2349.54 1065.51 Q2346.49 1070.09 2340.68 1070.09 Q2334.87 1070.09 2331.79 1065.51 Q2328.73 1060.9 2328.73 1052.17 Q2328.73 1043.42 2331.79 1038.84 Q2334.87 1034.24 2340.68 1034.24 Z\" fill=\"#f8f8f2\" fill-rule=\"nonzero\" fill-opacity=\"1\" /><polyline clip-path=\"url(#clip070)\" style=\"stroke:#000000; stroke-linecap:round; stroke-linejoin:round; stroke-width:4; stroke-opacity:1; fill:none\" points=\"2232.76,1055.77 2256.76,1055.77 \"/>\n",
       "<path clip-path=\"url(#clip070)\" d=\"M2284.38 834.364 Q2287.74 835.082 2289.61 837.35 Q2291.51 839.619 2291.51 842.952 Q2291.51 848.068 2287.99 850.869 Q2284.47 853.67 2277.99 853.67 Q2275.82 853.67 2273.5 853.23 Q2271.21 852.813 2268.76 851.957 L2268.76 847.443 Q2270.7 848.577 2273.02 849.156 Q2275.33 849.735 2277.85 849.735 Q2282.25 849.735 2284.54 847.998 Q2286.86 846.262 2286.86 842.952 Q2286.86 839.897 2284.7 838.184 Q2282.58 836.448 2278.76 836.448 L2274.73 836.448 L2274.73 832.605 L2278.94 832.605 Q2282.39 832.605 2284.22 831.239 Q2286.05 829.85 2286.05 827.258 Q2286.05 824.596 2284.15 823.184 Q2282.27 821.749 2278.76 821.749 Q2276.83 821.749 2274.64 822.165 Q2272.44 822.582 2269.8 823.462 L2269.8 819.295 Q2272.46 818.554 2274.77 818.184 Q2277.11 817.813 2279.17 817.813 Q2284.5 817.813 2287.6 820.244 Q2290.7 822.651 2290.7 826.772 Q2290.7 829.642 2289.06 831.633 Q2287.41 833.6 2284.38 834.364 Z\" fill=\"#f8f8f2\" fill-rule=\"nonzero\" fill-opacity=\"1\" /><path clip-path=\"url(#clip070)\" d=\"M2310.38 821.517 Q2306.76 821.517 2304.94 825.082 Q2303.13 828.624 2303.13 835.753 Q2303.13 842.86 2304.94 846.424 Q2306.76 849.966 2310.38 849.966 Q2314.01 849.966 2315.82 846.424 Q2317.64 842.86 2317.64 835.753 Q2317.64 828.624 2315.82 825.082 Q2314.01 821.517 2310.38 821.517 M2310.38 817.813 Q2316.19 817.813 2319.24 822.42 Q2322.32 827.003 2322.32 835.753 Q2322.32 844.48 2319.24 849.086 Q2316.19 853.67 2310.38 853.67 Q2304.57 853.67 2301.49 849.086 Q2298.43 844.48 2298.43 835.753 Q2298.43 827.003 2301.49 822.42 Q2304.57 817.813 2310.38 817.813 Z\" fill=\"#f8f8f2\" fill-rule=\"nonzero\" fill-opacity=\"1\" /><path clip-path=\"url(#clip070)\" d=\"M2340.54 821.517 Q2336.93 821.517 2335.1 825.082 Q2333.29 828.624 2333.29 835.753 Q2333.29 842.86 2335.1 846.424 Q2336.93 849.966 2340.54 849.966 Q2344.17 849.966 2345.98 846.424 Q2347.81 842.86 2347.81 835.753 Q2347.81 828.624 2345.98 825.082 Q2344.17 821.517 2340.54 821.517 M2340.54 817.813 Q2346.35 817.813 2349.4 822.42 Q2352.48 827.003 2352.48 835.753 Q2352.48 844.48 2349.4 849.086 Q2346.35 853.67 2340.54 853.67 Q2334.73 853.67 2331.65 849.086 Q2328.59 844.48 2328.59 835.753 Q2328.59 827.003 2331.65 822.42 Q2334.73 817.813 2340.54 817.813 Z\" fill=\"#f8f8f2\" fill-rule=\"nonzero\" fill-opacity=\"1\" /><polyline clip-path=\"url(#clip070)\" style=\"stroke:#000000; stroke-linecap:round; stroke-linejoin:round; stroke-width:4; stroke-opacity:1; fill:none\" points=\"2232.76,839.347 2256.76,839.347 \"/>\n",
       "<path clip-path=\"url(#clip070)\" d=\"M2284.36 606.091 L2272.55 624.54 L2284.36 624.54 L2284.36 606.091 M2283.13 602.017 L2289.01 602.017 L2289.01 624.54 L2293.94 624.54 L2293.94 628.429 L2289.01 628.429 L2289.01 636.577 L2284.36 636.577 L2284.36 628.429 L2268.76 628.429 L2268.76 623.915 L2283.13 602.017 Z\" fill=\"#f8f8f2\" fill-rule=\"nonzero\" fill-opacity=\"1\" /><path clip-path=\"url(#clip070)\" d=\"M2311.67 605.095 Q2308.06 605.095 2306.23 608.66 Q2304.43 612.202 2304.43 619.332 Q2304.43 626.438 2306.23 630.003 Q2308.06 633.544 2311.67 633.544 Q2315.31 633.544 2317.11 630.003 Q2318.94 626.438 2318.94 619.332 Q2318.94 612.202 2317.11 608.66 Q2315.31 605.095 2311.67 605.095 M2311.67 601.392 Q2317.48 601.392 2320.54 605.998 Q2323.62 610.582 2323.62 619.332 Q2323.62 628.058 2320.54 632.665 Q2317.48 637.248 2311.67 637.248 Q2305.86 637.248 2302.78 632.665 Q2299.73 628.058 2299.73 619.332 Q2299.73 610.582 2302.78 605.998 Q2305.86 601.392 2311.67 601.392 Z\" fill=\"#f8f8f2\" fill-rule=\"nonzero\" fill-opacity=\"1\" /><path clip-path=\"url(#clip070)\" d=\"M2341.83 605.095 Q2338.22 605.095 2336.39 608.66 Q2334.59 612.202 2334.59 619.332 Q2334.59 626.438 2336.39 630.003 Q2338.22 633.544 2341.83 633.544 Q2345.47 633.544 2347.27 630.003 Q2349.1 626.438 2349.1 619.332 Q2349.1 612.202 2347.27 608.66 Q2345.47 605.095 2341.83 605.095 M2341.83 601.392 Q2347.64 601.392 2350.7 605.998 Q2353.78 610.582 2353.78 619.332 Q2353.78 628.058 2350.7 632.665 Q2347.64 637.248 2341.83 637.248 Q2336.02 637.248 2332.95 632.665 Q2329.89 628.058 2329.89 619.332 Q2329.89 610.582 2332.95 605.998 Q2336.02 601.392 2341.83 601.392 Z\" fill=\"#f8f8f2\" fill-rule=\"nonzero\" fill-opacity=\"1\" /><polyline clip-path=\"url(#clip070)\" style=\"stroke:#000000; stroke-linecap:round; stroke-linejoin:round; stroke-width:4; stroke-opacity:1; fill:none\" points=\"2232.76,622.926 2256.76,622.926 \"/>\n",
       "<path clip-path=\"url(#clip070)\" d=\"M2270.21 385.595 L2288.57 385.595 L2288.57 389.53 L2274.5 389.53 L2274.5 398.003 Q2275.52 397.655 2276.53 397.493 Q2277.55 397.308 2278.57 397.308 Q2284.36 397.308 2287.74 400.479 Q2291.12 403.651 2291.12 409.067 Q2291.12 414.646 2287.64 417.748 Q2284.17 420.826 2277.85 420.826 Q2275.68 420.826 2273.41 420.456 Q2271.16 420.086 2268.76 419.345 L2268.76 414.646 Q2270.84 415.78 2273.06 416.336 Q2275.28 416.891 2277.76 416.891 Q2281.77 416.891 2284.1 414.785 Q2286.44 412.678 2286.44 409.067 Q2286.44 405.456 2284.1 403.35 Q2281.77 401.243 2277.76 401.243 Q2275.89 401.243 2274.01 401.66 Q2272.16 402.077 2270.21 402.956 L2270.21 385.595 Z\" fill=\"#f8f8f2\" fill-rule=\"nonzero\" fill-opacity=\"1\" /><path clip-path=\"url(#clip070)\" d=\"M2310.33 388.674 Q2306.72 388.674 2304.89 392.239 Q2303.08 395.78 2303.08 402.91 Q2303.08 410.016 2304.89 413.581 Q2306.72 417.123 2310.33 417.123 Q2313.96 417.123 2315.77 413.581 Q2317.6 410.016 2317.6 402.91 Q2317.6 395.78 2315.77 392.239 Q2313.96 388.674 2310.33 388.674 M2310.33 384.97 Q2316.14 384.97 2319.2 389.577 Q2322.27 394.16 2322.27 402.91 Q2322.27 411.637 2319.2 416.243 Q2316.14 420.826 2310.33 420.826 Q2304.52 420.826 2301.44 416.243 Q2298.39 411.637 2298.39 402.91 Q2298.39 394.16 2301.44 389.577 Q2304.52 384.97 2310.33 384.97 Z\" fill=\"#f8f8f2\" fill-rule=\"nonzero\" fill-opacity=\"1\" /><path clip-path=\"url(#clip070)\" d=\"M2340.49 388.674 Q2336.88 388.674 2335.05 392.239 Q2333.25 395.78 2333.25 402.91 Q2333.25 410.016 2335.05 413.581 Q2336.88 417.123 2340.49 417.123 Q2344.13 417.123 2345.93 413.581 Q2347.76 410.016 2347.76 402.91 Q2347.76 395.78 2345.93 392.239 Q2344.13 388.674 2340.49 388.674 M2340.49 384.97 Q2346.3 384.97 2349.36 389.577 Q2352.44 394.16 2352.44 402.91 Q2352.44 411.637 2349.36 416.243 Q2346.3 420.826 2340.49 420.826 Q2334.68 420.826 2331.6 416.243 Q2328.55 411.637 2328.55 402.91 Q2328.55 394.16 2331.6 389.577 Q2334.68 384.97 2340.49 384.97 Z\" fill=\"#f8f8f2\" fill-rule=\"nonzero\" fill-opacity=\"1\" /><polyline clip-path=\"url(#clip070)\" style=\"stroke:#000000; stroke-linecap:round; stroke-linejoin:round; stroke-width:4; stroke-opacity:1; fill:none\" points=\"2232.76,406.504 2256.76,406.504 \"/>\n",
       "<path clip-path=\"url(#clip070)\" d=\"M2281.09 184.59 Q2277.95 184.59 2276.09 186.743 Q2274.27 188.896 2274.27 192.646 Q2274.27 196.372 2276.09 198.548 Q2277.95 200.701 2281.09 200.701 Q2284.24 200.701 2286.07 198.548 Q2287.92 196.372 2287.92 192.646 Q2287.92 188.896 2286.07 186.743 Q2284.24 184.59 2281.09 184.59 M2290.38 169.937 L2290.38 174.197 Q2288.62 173.363 2286.81 172.924 Q2285.03 172.484 2283.27 172.484 Q2278.64 172.484 2276.19 175.609 Q2273.76 178.734 2273.41 185.053 Q2274.77 183.039 2276.83 181.974 Q2278.89 180.886 2281.37 180.886 Q2286.58 180.886 2289.59 184.058 Q2292.62 187.206 2292.62 192.646 Q2292.62 197.97 2289.47 201.187 Q2286.33 204.405 2281.09 204.405 Q2275.1 204.405 2271.93 199.822 Q2268.76 195.215 2268.76 186.488 Q2268.76 178.294 2272.64 173.433 Q2276.53 168.549 2283.08 168.549 Q2284.84 168.549 2286.63 168.896 Q2288.43 169.243 2290.38 169.937 Z\" fill=\"#f8f8f2\" fill-rule=\"nonzero\" fill-opacity=\"1\" /><path clip-path=\"url(#clip070)\" d=\"M2310.68 172.252 Q2307.07 172.252 2305.24 175.817 Q2303.43 179.359 2303.43 186.488 Q2303.43 193.595 2305.24 197.16 Q2307.07 200.701 2310.68 200.701 Q2314.31 200.701 2316.12 197.16 Q2317.95 193.595 2317.95 186.488 Q2317.95 179.359 2316.12 175.817 Q2314.31 172.252 2310.68 172.252 M2310.68 168.549 Q2316.49 168.549 2319.54 173.155 Q2322.62 177.738 2322.62 186.488 Q2322.62 195.215 2319.54 199.822 Q2316.49 204.405 2310.68 204.405 Q2304.87 204.405 2301.79 199.822 Q2298.73 195.215 2298.73 186.488 Q2298.73 177.738 2301.79 173.155 Q2304.87 168.549 2310.68 168.549 Z\" fill=\"#f8f8f2\" fill-rule=\"nonzero\" fill-opacity=\"1\" /><path clip-path=\"url(#clip070)\" d=\"M2340.84 172.252 Q2337.23 172.252 2335.4 175.817 Q2333.59 179.359 2333.59 186.488 Q2333.59 193.595 2335.4 197.16 Q2337.23 200.701 2340.84 200.701 Q2344.47 200.701 2346.28 197.16 Q2348.11 193.595 2348.11 186.488 Q2348.11 179.359 2346.28 175.817 Q2344.47 172.252 2340.84 172.252 M2340.84 168.549 Q2346.65 168.549 2349.7 173.155 Q2352.78 177.738 2352.78 186.488 Q2352.78 195.215 2349.7 199.822 Q2346.65 204.405 2340.84 204.405 Q2335.03 204.405 2331.95 199.822 Q2328.89 195.215 2328.89 186.488 Q2328.89 177.738 2331.95 173.155 Q2335.03 168.549 2340.84 168.549 Z\" fill=\"#f8f8f2\" fill-rule=\"nonzero\" fill-opacity=\"1\" /><polyline clip-path=\"url(#clip070)\" style=\"stroke:#000000; stroke-linecap:round; stroke-linejoin:round; stroke-width:4; stroke-opacity:1; fill:none\" points=\"2232.76,190.082 2256.76,190.082 \"/>\n",
       "<polyline clip-path=\"url(#clip070)\" style=\"stroke:#000000; stroke-linecap:round; stroke-linejoin:round; stroke-width:4; stroke-opacity:1; fill:none\" points=\"2232.76,1486.45 2232.76,47.2441 \"/>\n",
       "</svg>\n"
      ],
      "text/html": [
       "<?xml version=\"1.0\" encoding=\"utf-8\"?>\n",
       "<svg xmlns=\"http://www.w3.org/2000/svg\" xmlns:xlink=\"http://www.w3.org/1999/xlink\" width=\"600\" height=\"400\" viewBox=\"0 0 2400 1600\">\n",
       "<defs>\n",
       "  <clipPath id=\"clip120\">\n",
       "    <rect x=\"0\" y=\"0\" width=\"2400\" height=\"1600\"/>\n",
       "  </clipPath>\n",
       "</defs>\n",
       "<path clip-path=\"url(#clip120)\" d=\"M0 1600 L2400 1600 L2400 0 L0 0  Z\" fill=\"#282a36\" fill-rule=\"evenodd\" fill-opacity=\"1\"/>\n",
       "<defs>\n",
       "  <clipPath id=\"clip121\">\n",
       "    <rect x=\"480\" y=\"0\" width=\"1681\" height=\"1600\"/>\n",
       "  </clipPath>\n",
       "</defs>\n",
       "<path clip-path=\"url(#clip120)\" d=\"M149.191 1486.45 L2112.76 1486.45 L2112.76 47.2441 L149.191 47.2441  Z\" fill=\"#30343b\" fill-rule=\"evenodd\" fill-opacity=\"1\"/>\n",
       "<defs>\n",
       "  <clipPath id=\"clip122\">\n",
       "    <rect x=\"149\" y=\"47\" width=\"1965\" height=\"1440\"/>\n",
       "  </clipPath>\n",
       "</defs>\n",
       "<polyline clip-path=\"url(#clip122)\" style=\"stroke:#f8f8f2; stroke-linecap:round; stroke-linejoin:round; stroke-width:2; stroke-opacity:0.1; fill:none\" points=\"319.936,1486.45 319.936,47.2441 \"/>\n",
       "<polyline clip-path=\"url(#clip122)\" style=\"stroke:#f8f8f2; stroke-linecap:round; stroke-linejoin:round; stroke-width:2; stroke-opacity:0.1; fill:none\" points=\"746.798,1486.45 746.798,47.2441 \"/>\n",
       "<polyline clip-path=\"url(#clip122)\" style=\"stroke:#f8f8f2; stroke-linecap:round; stroke-linejoin:round; stroke-width:2; stroke-opacity:0.1; fill:none\" points=\"1173.66,1486.45 1173.66,47.2441 \"/>\n",
       "<polyline clip-path=\"url(#clip122)\" style=\"stroke:#f8f8f2; stroke-linecap:round; stroke-linejoin:round; stroke-width:2; stroke-opacity:0.1; fill:none\" points=\"1600.52,1486.45 1600.52,47.2441 \"/>\n",
       "<polyline clip-path=\"url(#clip122)\" style=\"stroke:#f8f8f2; stroke-linecap:round; stroke-linejoin:round; stroke-width:2; stroke-opacity:0.1; fill:none\" points=\"2027.38,1486.45 2027.38,47.2441 \"/>\n",
       "<polyline clip-path=\"url(#clip122)\" style=\"stroke:#f8f8f2; stroke-linecap:round; stroke-linejoin:round; stroke-width:2; stroke-opacity:0.1; fill:none\" points=\"149.191,1427.7 2112.76,1427.7 \"/>\n",
       "<polyline clip-path=\"url(#clip122)\" style=\"stroke:#f8f8f2; stroke-linecap:round; stroke-linejoin:round; stroke-width:2; stroke-opacity:0.1; fill:none\" points=\"149.191,1133.99 2112.76,1133.99 \"/>\n",
       "<polyline clip-path=\"url(#clip122)\" style=\"stroke:#f8f8f2; stroke-linecap:round; stroke-linejoin:round; stroke-width:2; stroke-opacity:0.1; fill:none\" points=\"149.191,840.275 2112.76,840.275 \"/>\n",
       "<polyline clip-path=\"url(#clip122)\" style=\"stroke:#f8f8f2; stroke-linecap:round; stroke-linejoin:round; stroke-width:2; stroke-opacity:0.1; fill:none\" points=\"149.191,546.56 2112.76,546.56 \"/>\n",
       "<polyline clip-path=\"url(#clip122)\" style=\"stroke:#f8f8f2; stroke-linecap:round; stroke-linejoin:round; stroke-width:2; stroke-opacity:0.1; fill:none\" points=\"149.191,252.845 2112.76,252.845 \"/>\n",
       "<polyline clip-path=\"url(#clip120)\" style=\"stroke:#f8f8f2; stroke-linecap:round; stroke-linejoin:round; stroke-width:4; stroke-opacity:1; fill:none\" points=\"149.191,1486.45 2112.76,1486.45 \"/>\n",
       "<polyline clip-path=\"url(#clip120)\" style=\"stroke:#f8f8f2; stroke-linecap:round; stroke-linejoin:round; stroke-width:4; stroke-opacity:1; fill:none\" points=\"319.936,1486.45 319.936,1467.55 \"/>\n",
       "<polyline clip-path=\"url(#clip120)\" style=\"stroke:#f8f8f2; stroke-linecap:round; stroke-linejoin:round; stroke-width:4; stroke-opacity:1; fill:none\" points=\"746.798,1486.45 746.798,1467.55 \"/>\n",
       "<polyline clip-path=\"url(#clip120)\" style=\"stroke:#f8f8f2; stroke-linecap:round; stroke-linejoin:round; stroke-width:4; stroke-opacity:1; fill:none\" points=\"1173.66,1486.45 1173.66,1467.55 \"/>\n",
       "<polyline clip-path=\"url(#clip120)\" style=\"stroke:#f8f8f2; stroke-linecap:round; stroke-linejoin:round; stroke-width:4; stroke-opacity:1; fill:none\" points=\"1600.52,1486.45 1600.52,1467.55 \"/>\n",
       "<polyline clip-path=\"url(#clip120)\" style=\"stroke:#f8f8f2; stroke-linecap:round; stroke-linejoin:round; stroke-width:4; stroke-opacity:1; fill:none\" points=\"2027.38,1486.45 2027.38,1467.55 \"/>\n",
       "<path clip-path=\"url(#clip120)\" d=\"M288.836 1532.02 L318.512 1532.02 L318.512 1535.95 L288.836 1535.95 L288.836 1532.02 Z\" fill=\"#f8f8f2\" fill-rule=\"nonzero\" fill-opacity=\"1\" /><path clip-path=\"url(#clip120)\" d=\"M341.452 1518.36 L329.646 1536.81 L341.452 1536.81 L341.452 1518.36 M340.225 1514.29 L346.104 1514.29 L346.104 1536.81 L351.035 1536.81 L351.035 1540.7 L346.104 1540.7 L346.104 1548.85 L341.452 1548.85 L341.452 1540.7 L325.85 1540.7 L325.85 1536.19 L340.225 1514.29 Z\" fill=\"#f8f8f2\" fill-rule=\"nonzero\" fill-opacity=\"1\" /><path clip-path=\"url(#clip120)\" d=\"M716.74 1532.02 L746.416 1532.02 L746.416 1535.95 L716.74 1535.95 L716.74 1532.02 Z\" fill=\"#f8f8f2\" fill-rule=\"nonzero\" fill-opacity=\"1\" /><path clip-path=\"url(#clip120)\" d=\"M760.536 1544.91 L776.855 1544.91 L776.855 1548.85 L754.911 1548.85 L754.911 1544.91 Q757.573 1542.16 762.156 1537.53 Q766.763 1532.88 767.943 1531.53 Q770.189 1529.01 771.068 1527.27 Q771.971 1525.51 771.971 1523.82 Q771.971 1521.07 770.027 1519.33 Q768.105 1517.6 765.004 1517.6 Q762.804 1517.6 760.351 1518.36 Q757.92 1519.13 755.142 1520.68 L755.142 1515.95 Q757.967 1514.82 760.42 1514.24 Q762.874 1513.66 764.911 1513.66 Q770.281 1513.66 773.476 1516.35 Q776.67 1519.03 776.67 1523.52 Q776.67 1525.65 775.86 1527.57 Q775.073 1529.47 772.966 1532.07 Q772.388 1532.74 769.286 1535.95 Q766.184 1539.15 760.536 1544.91 Z\" fill=\"#f8f8f2\" fill-rule=\"nonzero\" fill-opacity=\"1\" /><path clip-path=\"url(#clip120)\" d=\"M1173.66 1517.37 Q1170.05 1517.37 1168.22 1520.93 Q1166.41 1524.47 1166.41 1531.6 Q1166.41 1538.71 1168.22 1542.27 Q1170.05 1545.82 1173.66 1545.82 Q1177.29 1545.82 1179.1 1542.27 Q1180.93 1538.71 1180.93 1531.6 Q1180.93 1524.47 1179.1 1520.93 Q1177.29 1517.37 1173.66 1517.37 M1173.66 1513.66 Q1179.47 1513.66 1182.53 1518.27 Q1185.6 1522.85 1185.6 1531.6 Q1185.6 1540.33 1182.53 1544.94 Q1179.47 1549.52 1173.66 1549.52 Q1167.85 1549.52 1164.77 1544.94 Q1161.72 1540.33 1161.72 1531.6 Q1161.72 1522.85 1164.77 1518.27 Q1167.85 1513.66 1173.66 1513.66 Z\" fill=\"#f8f8f2\" fill-rule=\"nonzero\" fill-opacity=\"1\" /><path clip-path=\"url(#clip120)\" d=\"M1595.17 1544.91 L1611.49 1544.91 L1611.49 1548.85 L1589.55 1548.85 L1589.55 1544.91 Q1592.21 1542.16 1596.79 1537.53 Q1601.4 1532.88 1602.58 1531.53 Q1604.83 1529.01 1605.71 1527.27 Q1606.61 1525.51 1606.61 1523.82 Q1606.61 1521.07 1604.67 1519.33 Q1602.74 1517.6 1599.64 1517.6 Q1597.44 1517.6 1594.99 1518.36 Q1592.56 1519.13 1589.78 1520.68 L1589.78 1515.95 Q1592.6 1514.82 1595.06 1514.24 Q1597.51 1513.66 1599.55 1513.66 Q1604.92 1513.66 1608.11 1516.35 Q1611.31 1519.03 1611.31 1523.52 Q1611.31 1525.65 1610.5 1527.57 Q1609.71 1529.47 1607.6 1532.07 Q1607.03 1532.74 1603.92 1535.95 Q1600.82 1539.15 1595.17 1544.91 Z\" fill=\"#f8f8f2\" fill-rule=\"nonzero\" fill-opacity=\"1\" /><path clip-path=\"url(#clip120)\" d=\"M2030.39 1518.36 L2018.59 1536.81 L2030.39 1536.81 L2030.39 1518.36 M2029.17 1514.29 L2035.05 1514.29 L2035.05 1536.81 L2039.98 1536.81 L2039.98 1540.7 L2035.05 1540.7 L2035.05 1548.85 L2030.39 1548.85 L2030.39 1540.7 L2014.79 1540.7 L2014.79 1536.19 L2029.17 1514.29 Z\" fill=\"#f8f8f2\" fill-rule=\"nonzero\" fill-opacity=\"1\" /><polyline clip-path=\"url(#clip120)\" style=\"stroke:#f8f8f2; stroke-linecap:round; stroke-linejoin:round; stroke-width:4; stroke-opacity:1; fill:none\" points=\"149.191,1486.45 149.191,47.2441 \"/>\n",
       "<polyline clip-path=\"url(#clip120)\" style=\"stroke:#f8f8f2; stroke-linecap:round; stroke-linejoin:round; stroke-width:4; stroke-opacity:1; fill:none\" points=\"149.191,1427.7 166.03,1427.7 \"/>\n",
       "<polyline clip-path=\"url(#clip120)\" style=\"stroke:#f8f8f2; stroke-linecap:round; stroke-linejoin:round; stroke-width:4; stroke-opacity:1; fill:none\" points=\"149.191,1133.99 166.03,1133.99 \"/>\n",
       "<polyline clip-path=\"url(#clip120)\" style=\"stroke:#f8f8f2; stroke-linecap:round; stroke-linejoin:round; stroke-width:4; stroke-opacity:1; fill:none\" points=\"149.191,840.275 166.03,840.275 \"/>\n",
       "<polyline clip-path=\"url(#clip120)\" style=\"stroke:#f8f8f2; stroke-linecap:round; stroke-linejoin:round; stroke-width:4; stroke-opacity:1; fill:none\" points=\"149.191,546.56 166.03,546.56 \"/>\n",
       "<polyline clip-path=\"url(#clip120)\" style=\"stroke:#f8f8f2; stroke-linecap:round; stroke-linejoin:round; stroke-width:4; stroke-opacity:1; fill:none\" points=\"149.191,252.845 166.03,252.845 \"/>\n",
       "<path clip-path=\"url(#clip120)\" d=\"M50.9921 1428.16 L80.6679 1428.16 L80.6679 1432.09 L50.9921 1432.09 L50.9921 1428.16 Z\" fill=\"#f8f8f2\" fill-rule=\"nonzero\" fill-opacity=\"1\" /><path clip-path=\"url(#clip120)\" d=\"M103.608 1414.5 L91.8021 1432.95 L103.608 1432.95 L103.608 1414.5 M102.381 1410.42 L108.26 1410.42 L108.26 1432.95 L113.191 1432.95 L113.191 1436.84 L108.26 1436.84 L108.26 1444.98 L103.608 1444.98 L103.608 1436.84 L88.0058 1436.84 L88.0058 1432.32 L102.381 1410.42 Z\" fill=\"#f8f8f2\" fill-rule=\"nonzero\" fill-opacity=\"1\" /><path clip-path=\"url(#clip120)\" d=\"M53.0754 1134.44 L82.7512 1134.44 L82.7512 1138.38 L53.0754 1138.38 L53.0754 1134.44 Z\" fill=\"#f8f8f2\" fill-rule=\"nonzero\" fill-opacity=\"1\" /><path clip-path=\"url(#clip120)\" d=\"M96.8715 1147.33 L113.191 1147.33 L113.191 1151.27 L91.2465 1151.27 L91.2465 1147.33 Q93.9086 1144.58 98.4919 1139.95 Q103.098 1135.3 104.279 1133.96 Q106.524 1131.43 107.404 1129.7 Q108.307 1127.94 108.307 1126.25 Q108.307 1123.49 106.362 1121.76 Q104.441 1120.02 101.339 1120.02 Q99.14 1120.02 96.6863 1120.78 Q94.2558 1121.55 91.478 1123.1 L91.478 1118.38 Q94.3021 1117.24 96.7558 1116.66 Q99.2095 1116.08 101.246 1116.08 Q106.617 1116.08 109.811 1118.77 Q113.006 1121.46 113.006 1125.95 Q113.006 1128.08 112.196 1130 Q111.408 1131.89 109.302 1134.49 Q108.723 1135.16 105.621 1138.38 Q102.52 1141.57 96.8715 1147.33 Z\" fill=\"#f8f8f2\" fill-rule=\"nonzero\" fill-opacity=\"1\" /><path clip-path=\"url(#clip120)\" d=\"M101.246 826.073 Q97.6354 826.073 95.8067 829.638 Q94.0012 833.18 94.0012 840.309 Q94.0012 847.416 95.8067 850.981 Q97.6354 854.522 101.246 854.522 Q104.881 854.522 106.686 850.981 Q108.515 847.416 108.515 840.309 Q108.515 833.18 106.686 829.638 Q104.881 826.073 101.246 826.073 M101.246 822.37 Q107.057 822.37 110.112 826.976 Q113.191 831.56 113.191 840.309 Q113.191 849.036 110.112 853.643 Q107.057 858.226 101.246 858.226 Q95.4363 858.226 92.3576 853.643 Q89.3021 849.036 89.3021 840.309 Q89.3021 831.56 92.3576 826.976 Q95.4363 822.37 101.246 822.37 Z\" fill=\"#f8f8f2\" fill-rule=\"nonzero\" fill-opacity=\"1\" /><path clip-path=\"url(#clip120)\" d=\"M96.8715 559.905 L113.191 559.905 L113.191 563.84 L91.2465 563.84 L91.2465 559.905 Q93.9086 557.15 98.4919 552.52 Q103.098 547.868 104.279 546.525 Q106.524 544.002 107.404 542.266 Q108.307 540.506 108.307 538.817 Q108.307 536.062 106.362 534.326 Q104.441 532.59 101.339 532.59 Q99.14 532.59 96.6863 533.354 Q94.2558 534.118 91.478 535.669 L91.478 530.946 Q94.3021 529.812 96.7558 529.233 Q99.2095 528.655 101.246 528.655 Q106.617 528.655 109.811 531.34 Q113.006 534.025 113.006 538.516 Q113.006 540.645 112.196 542.567 Q111.408 544.465 109.302 547.057 Q108.723 547.729 105.621 550.946 Q102.52 554.141 96.8715 559.905 Z\" fill=\"#f8f8f2\" fill-rule=\"nonzero\" fill-opacity=\"1\" /><path clip-path=\"url(#clip120)\" d=\"M103.608 239.639 L91.8021 258.088 L103.608 258.088 L103.608 239.639 M102.381 235.565 L108.26 235.565 L108.26 258.088 L113.191 258.088 L113.191 261.977 L108.26 261.977 L108.26 270.125 L103.608 270.125 L103.608 261.977 L88.0058 261.977 L88.0058 257.463 L102.381 235.565 Z\" fill=\"#f8f8f2\" fill-rule=\"nonzero\" fill-opacity=\"1\" /><g clip-path=\"url(#clip122)\">\n",
       "<image width=\"1964\" height=\"1439\" xlink:href=\"data:image/png;base64,\n",
       "iVBORw0KGgoAAAANSUhEUgAAB6wAAAWfCAYAAAAf3Aj/AAAgAElEQVR4nOzb7XHjyBmF0W6Q0mjt\n",
       "clZwBtSG6D9iBouobO94RxLRzsDqcZF19yXPieAWQHzNo+kNAAAAeAhrP430hlnbOPf0BgAAAG5v\n",
       "SQ8AAAAAAAAA4DEJ1gAAAAAAAABECNYAAAAAAAAARAjWAAAAAAAAAEQI1gAAAAAAAABECNYAAAAA\n",
       "AAAARAjWAAAAAAAAAEQI1gAAAAAAAABECNYAAAAAAAAARAjWAAAAAAAAAEQI1gAAAAAAAABECNYA\n",
       "AAAAAAAARAjWAAAAAAAAAEQI1gAAAAAAAABECNYAAAAAAAAARAjWAAAAAAAAAEQI1gAAAAAAAABE\n",
       "CNYAAAAAAAAARAjWAAAAAAAAAEQI1gAAAAAAAABECNYAAAAAAAAARAjWAAAAAAAAAEQI1gAAAAAA\n",
       "AABECNYAAAAAAAAARAjWAAAAAAAAAEQI1gAAAAAAAABECNYAAAAAAAAARAjWAAAAAAAAAEQI1gAA\n",
       "AAAAAAAAAAAAAAAAAAAAAAAAAAAAAAAAAAAAAAAAAAAAAAAAAAAAAAAAAAAAAAAAAAAAAAAAAAAA\n",
       "AAAAAAAAAAAAAAAAAAAAAAAAAAAAAAAAAAAAAAAAAAAAAAAAAAAAAAAAAAAAAAAAAAAAAAAAAAAA\n",
       "AAAAAAAAAAAAAAAAAAAAAAAAAAAAAAAAAAAAAAAAAAAAAAAAAAAAAAAAAAAAAAAAAAAAAAAAAAAA\n",
       "AAAAAAAAAAAAAAAAAAAAAAAAAAAAAAAAAAAAAAAAAAAAAAAAAAAAAAAAAAAAAAAAAAAAAAAAAAAA\n",
       "AAAAAAAAAAAAAAAAAAAAAAAAAAAAAAAAAAAAAAAAAAAAAAAAAAAAAAAAAAAAAAAAAAAAAAAAAAAA\n",
       "AAAAAAAAAAAAAAAAAAAAAAAAAAAAAAAAAAAAAAAAAAAAAAAAAAAAAAAAAAAAAAAAAAAAAAAAAAAA\n",
       "AAAAAAAAAAAAAAAAAAAAAAAAAAAAAAAAAAAAAAAAAAAAAAAAAAAAAAAAAAAAAAAAAAAAAAAAAAAA\n",
       "AAAAAAAAAAAAAAAAAAAAAAAAAAAAAAAAAAAAAAAAAAAAAAAAAAAAAAAAAAAAAAAAAAAAAAAAAAAA\n",
       "AAAAAAAAAAAAAAAAAAAAAAAAAAAAAAAAAAAAAAAAAAAAAAAAAAAAAAAAAAAAAAAAAAAAAAAAAAAA\n",
       "AAAAAAAAAAAAAAAAAAAAAAAAAAAAAAAAAAAAAAAAAAAAAAAAAAAAAAAAAAAAAAAAAAAAAAAAAAAA\n",
       "AAAAAAAAAAAAAAAAAAAAAAAAAAAAAAAAAAAAAAAAAAAAAAAAAAAAAAAAAAAAAAAAAAAAAAAAAAAA\n",
       "AAAAAAAAAAAAAAAAAAAAAAAAAAAAAAAAAAAAAAAAAAAAAAAAAAAAAAAAAAAAAAAAAAAAAAAAAAAA\n",
       "AAAAAAAAAAAAAAAAAAAAAAAAAAAAAAAAAAAAAAAAAAAAAAAAAAAAAAAAAAAAAAAAAAAAAAAAAAAA\n",
       "AAAAAAAAAAAAAAAAAAAAAAAAAAAAAAAAAAAAAAAAAAAAAAAAAAAAAAAAAAAAAAAAAAAAAAAAAAAA\n",
       "AAAAAAAAAAAAAAAAAAAAAAAAAAAAAAAAAAAAAAAAAAAAAAAAAAAAAAAAAAAAAAAAAAAAAAAAAAAA\n",
       "AAAAAAAAAAAAAAAAAAAAAAAAAAAAAAAAAAAAAAAAAAAAAAAAAAAAAAAAAAAAAAAAAAAAAAAAAAAA\n",
       "AAAAAAAAAAAAAAAAAAAAAAAAAAAAAAAAAAAAAAAAAAAAAAAAAAAAAAAAAAAAAAAAAAAAAAAAAAAA\n",
       "AAAAAAAAAAAAAAAAAAAAAAAAAAAAAAAAAAAAAAAAAAAAAAAAAAAAAAAAAAAAAAAAAAAAAAAAAAAA\n",
       "AAAAAAAAAAAAAAAAAAAAAAAAAAAAAAAAAAAAAAAAAAAAAAAAAAAAAAAAAAAAAAAAAAAAAAAAAAAA\n",
       "AAAAAAAAAAAAAAAAAAAAAAAAAAAAAAAAAAAAAAAAAAAAAAAAAAAAAAAAAAAAAAAAAAAAAAAAAAAA\n",
       "AAAAAAAAAAAAAAAAAAAAAAAAAAAAAAAAAAAAAAAAAAAAAAAAAAAAAAAAAAAAAAAAAAAAAAAAAAAA\n",
       "AAAAAAAAAAAAAAAAAAAAAAAAAAAAAAAAAAAAAAAAAAAAAAAAAAAAAAAAAAAAAAAAAAAAAAAAAAAA\n",
       "AAAAAAAAAAAAAAAAAAAAAAAAAAAAAAAAAAAAAAAAAAAAAAAAAAAAAAAAAAAAAAAAAAAAAAAAAAAA\n",
       "AAAAAAAAAAAAAAAAAAAAAAAAAAAAAAAAAAAAAAAAAAAAAFxFTw8AAID/Ze2nkd4wYxtn79bwoKrc\n",
       "p1prrfU6t6ptf6szFgAAgP/bkh4AAAAAAAAAwGMSrAEAAAAAAACIEKwBAAAAAAAAiBCsAQAAAAAA\n",
       "AIgQrAEAAAAAAACIEKwBAAAAAAAAiBCsAQAAAAAAAIgQrAEAAAAAAACIEKwBAAAAAAAAiBCsAQAA\n",
       "AAAAAIgQrAEAAAAAAACIEKwBAAAAAAAAiBCsAQAAAAAAAIgQrAEAAAAAAACIEKwBAAAAAAAAiBCs\n",
       "AQAAAAAAAIgQrAEAAAAAAACIEKwBAAAAAAAAiBCsAQAAAAAAAIgQrAEAAAAAAACIEKwBAAAAAAAA\n",
       "iBCsAQAAAAAAAIgQrAEAAAAAAACIEKwBAAAAAAAAiBCsAQAAAAAAAIgQrAEAAAAAAACIEKwBAAAA\n",
       "AAAAiBCsAQAAAAAAAIjo6QEAAF9Z+2mkN8zYxtm71QOr8jutpsp1Ven8VzmmwGNbl9cy99UyRp1D\n",
       "6lkFAPBY/A9rAAAAAAAAACIEawAAAAAAAAAiBGsAAAAAAAAAIgRrAAAAAAAAACIEawAAAAAAAAAi\n",
       "BGsAAAAAAAAAIgRrAAAAAAAAACIEawAAAAAAAAAiBGsAAAAAAAAAIgRrAAAAAAAAACIEawAAAAAA\n",
       "AAAiBGsAAAAAAAAAIgRrAAAAAAAAACIEawAAAAAAAAAiBGsAAAAAAAAAIgRrAAAAAAAAACIEawAA\n",
       "AAAAAAAiBGsAAAAAAAAAIgRrAAAAAAAAACIEawAAAAAAAAAiBGsAAAAAAAAAIgRrAAAAAAAAACIE\n",
       "awAAAAAAAAAiBGsAAAAAAAAAIgRrAAAAAAAAACIEawAAAAAAAAAiBGsAAAAAAAAAIgRrAAAAAAAA\n",
       "ACIEawAAAAAAAAAijukBAABf2ca5pzfAPal0Ta3L60hvmLHtb2WOKY9t7acS11RrrbVe57Kqcg8o\n",
       "df4Lcf6poNL5L/Wu6rgCwFX4H9YAAAAAAAAARAjWAAAAAAAAAEQI1gAAAAAAAABECNYAAAAAAAAA\n",
       "RAjWAAAAAAAAAEQI1gAAAAAAAABECNYAAAAAAAAARAjWAAAAAAAAAEQI1gAAAAAAAABECNYAAAAA\n",
       "AAAARAjWAAAAAAAAAEQI1gAAAAAAAABECNYAAAAAAAAARAjWAAAAAAAAAEQI1gAAAAAAAABECNYA\n",
       "AAAAAAAARAjWAAAAAAAAAEQI1gAAAAAAAABECNYAAAAAAAAARAjWAAAAAAAAAEQI1gAAAAAAAABE\n",
       "CNYAAAAAAAAARAjWAAAAAAAAAEQI1gAAAAAAAABECNYAAAAAAAAARAjWAAAAAAAAAEQI1gAAAAAA\n",
       "AABECNYAAAAAAAAARPT0AACAr6z9NNIb7s02zmXeA9fltcb5HzVmttZa62VOP7dQ6LfaF39j/chG\n",
       "od8qD85v9foKvats+1udsUVU+v6r9F0FAH9mvv4BAAAAAAAAiBCsAQAAAAAAAIgQrAEAAAAAAACI\n",
       "EKwBAAAAAAAAiBCsAQAAAAAAAIgQrAEAAAAAAACIEKwBAAAAAAAAiBCsAQAAAAAAAIgQrAEAAAAA\n",
       "AACIEKwBAAAAAAAAiBCsAQAAAAAAAIgQrAEAAAAAAACIEKwBAAAAAAAAiBCsAQAAAAAAAIgQrAEA\n",
       "AAAAAACIEKwBAAAAAAAAiBCsAQAAAAAAAIgQrAEAAAAAAACIEKwBAAAAAAAAiBCsAQAAAAAAAIgQ\n",
       "rAEAAAAAAACIEKwBAAAAAAAAiBCsAQAAAAAAAIgQrAEAAAAAAACIEKwBAAAAAAAAiBCsAQAAAAAA\n",
       "AIgQrAEAAAAAAACIEKwBAAAAAAAAiBCsAQAAAAAAAIjo6QEAAPfi74dfR3rDrLHv6QnTtnEu8c66\n",
       "Lq9lzn8bdaa2XuL0t15kZ2utjUrnv4h+PKYnzKt0/gttHZdLesKUvvh/C7fgvnoDjunVVXmnbq21\n",
       "tZ/8AG6hyPvqtr/VGArAVflSAQAAAAAAACBCsAYAAAAAAAAgQrAGAAAAAAAAIEKwBgAAAAAAACBC\n",
       "sAYAAAAAAAAgQrAGAAAAAAAAIEKwBgAAAAAAACBCsAYAAAAAAAAgQrAGAAAAAAAAIEKwBgAAAAAA\n",
       "ACBCsAYAAAAAAAAgQrAGAAAAAAAAIEKwBgAAAAAAACBCsAYAAAAAAAAgQrAGAAAAAAAAIEKwBgAA\n",
       "AAAAACBCsAYAAAAAAAAgQrAGAAAAAAAAIEKwBgAAAAAAACBCsAYAAAAAAAAgQrAGAAAAAAAAIEKw\n",
       "BgAAAAAAACBCsAYAAAAAAAAgQrAGAAAAAAAAIEKwBgAAAAAAACBCsAYAAAAAAAAgQrAGAAAAAAAA\n",
       "IEKwBgAAAAAAACCipwcAAHxlXV5HegPck94LfQZU2br4W+CbKHL3H5fP9IRpy/NzesK0cdnTE+7P\n",
       "fkkvmOe+en17nWtqFNrKY9vGucjLKo9u7acSb9auKXhc3v4BAAAAAAAAiBCsAQAAAAAAAIgQrAEA\n",
       "AAAAAACIEKwBAAAAAAAAiBCsAQAAAAAAAIgQrAEAAAAAAACIEKwBAAAAAAAAiBCsAQAAAAAAAIgQ\n",
       "rAEAAAAAAACIEKwBAAAAAAAAiBCsAQAAAAAAAIgQrAEAAAAAAACIEKwBAAAAAAAAiBCsAQAAAAAA\n",
       "AIgQrAEAAAAAAACIEKwBAAAAAAAAiBCsAQAAAAAAAIgQrAEAAAAAAACIEKwBAAAAAAAAiBCsAQAA\n",
       "AAAAAIgQrAEAAAAAAACIEKwBAAAAAAAAiBCsAQAAAAAAAIgQrAEAAAAAAACIEKwBAAAAAAAAiBCs\n",
       "AQAAAAAAAIgQrAEAAAAAAACIEKwBAAAAAAAAiOjpAQD3Zu2nkd4waxtnz4ErW5fXMue/km1/K/Fb\n",
       "rXT+ey9xSGtZDukF0/ri71avbnFN3cSocVsde42drbXWD3Wu/3HZ0xOmlXmuHus8q8bHZ3rCvP2S\n",
       "XjCpyO+0tdaqXFOttXEp9Fvlofmuvr4qxxSggjpfqgAAAAAAAADcFcEaAAAAAAAAgAjBGgAAAAAA\n",
       "AIAIwRoAAAAAAACACMEaAAAAAAAAgAjBGgAAAAAAAIAIwRoAAAAAAACACMEaAAAAAAAAgAjBGgAA\n",
       "AAAAAIAIwRoAAAAAAACACMEaAAAAAAAAgAjBGgAAAAAAAIAIwRoAAAAAAACACMEaAAAAAAAAgAjB\n",
       "GgAAAAAAAIAIwRoAAAAAAACACMEaAAAAAAAAgAjBGgAAAAAAAIAIwRoAAAAAAACACMEaAAAAAAAA\n",
       "gAjBGgAAAAAAAIAIwRoAAAAAAACACMEaAAAAAAAAgAjBGgAAAAAAAIAIwRoAAAAAAACACMEaAAAA\n",
       "AAAAgAjBGgAAAAAAAIAIwRoAAAAAAACACMEaAAAAAAAAgIieHgAAX1n7aaQ3TOserbfQHdeH1o/H\n",
       "9IQ5yyG9YN6hzt+tlrn+D4XO/6jzWB2XS3rClOXlJT1h2vj8TE+Y1o91rqvxx4/0hCl1rv7W2mVP\n",
       "L5hW5bc63j/SE6aNvcb9v7VW6MIqM7TWu8pe517FY9vGuciHFfCo6vxLFQAAAAAAAAB3RbAGAAAA\n",
       "AAAAIEKwBgAAAAAAACBCsAYAAAAAAAAgQrAGAAAAAAAAIEKwBgAAAAAAACBCsAYAAAAAAAAgQrAG\n",
       "AAAAAAAAIEKwBgAAAAAAACBCsAYAAAAAAAAgQrAGAAAAAAAAIEKwBgAAAAAAACBCsAYAAAAAAAAg\n",
       "QrAGAAAAAAAAIEKwBgAAAAAAACBCsAYAAAAAAAAgQrAGAAAAAAAAIEKwBgAAAAAAACBCsAYAAAAA\n",
       "AAAgQrAGAAAAAAAAIEKwBgAAAAAAACBCsAYAAAAAAAAgQrAGAAAAAAAAIEKwBgAAAAAAACBCsAYA\n",
       "AAAAAAAgQrAGAAAAAAAAIEKwBgAAAAAAACBCsAYAAAAAAAAgoqcHAMxY+2mkN8zaxrnMvXVdXmsc\n",
       "11FjJrezPH9LT5gy9j094S714yE9YUp/fkpPmHc4phfMK/IM6E+Vzn+hv1uucfpb+/xIL5j3/Jxe\n",
       "MK/QdTX++a/0hCn9pcY7VWutje/f0xN+QpFPwELvqvuP9/SEn1DlYVXkd9pa++39H2XGlvl3FW6j\n",
       "yLdKa621XuOy2va3GkOBqyv0LxUAAAAAAAAA3BPBGgAAAAAAAIAIwRoAAAAAAACACMEaAAAAAAAA\n",
       "gAjBGgAAAAAAAIAIwRoAAAAAAACACMEaAAAAAAAAgAjBGgAAAAAAAIAIwRoAAAAAAACACMEaAAAA\n",
       "AAAAgAjBGgAAAAAAAIAIwRoAAAAAAACACMEaAAAAAAAAgAjBGgAAAAAAAIAIwRoAAAAAAACACMEa\n",
       "AAAAAAAAgAjBGgAAAAAAAIAIwRoAAAAAAACACMEaAAAAAAAAgAjBGgAAAAAAAIAIwRoAAAAAAACA\n",
       "CMEaAAAAAAAAgAjBGgAAAAAAAIAIwRoAAAAAAACACMEaAAAAAAAAgAjBGgAAAAAAAIAIwRoAAAAA\n",
       "AACACMEaAAAAAAAAgIieHgBkrf000hvgnvTF34LdRK9xXPvTU3rCXepPx/SEKf3lJT3hJxR6/B9r\n",
       "nP/WC31a/e2v6QXTxqHI/f/3/6QnzKv0rBqF7lXvH+kFc4o8U1trrf379/SCeUXeVdvlkl4wbbz/\n",
       "SE+YV+RWNX68pydMG59F7qnFjErP1SoqHdMi3yvb/lZjKHB1Rd6oAQAAAAAAALg3gjUAAAAAAAAA\n",
       "EYI1AAAAAAAAABGCNQAAAAAAAAARgjUAAAAAAAAAEYI1AAAAAAAAABGCNQAAAAAAAAARgjUAAAAA\n",
       "AAAAEYI1AAAAAAAAABGCNQAAAAAAAAARgjUAAAAAAAAAEYI1AAAAAAAAABGCNQAAAAAAAAARgjUA\n",
       "AAAAAAAAEYI1AAAAAAAAABGCNQAAAAAAAAARgjUAAAAAAAAAEYI1AAAAAAAAABGCNQAAAAAAAAAR\n",
       "gjUAAAAAAAAAEYI1AAAAAAAAABGCNQAAAAAAAAARgjUAAAAAAAAAEYI1AAAAAAAAABGCNQAAAAAA\n",
       "AAARgjUAAAAAAAAAEYI1AAAAAAAAABGCNQAAAAAAAAARgjUAAAAAAAAAET09AODerP000hum9SKP\n",
       "gVHokC51/hasH4/pCfMKHdcq+uGQnjCtv3xLT5jzrcjO1urc/1tr7S+/pBdMGb88pyfMK/RcHYca\n",
       "9//xrdAzda9z/vtlT0+YV+S4Ln98pCfMey+0tcp99fOSXjCv0Pkf37+nJ0wZH5/pCdPGx3t6wryl\n",
       "zndV22vcA8Ze5/m/7W9lPqzK/HtlpW/VKs//1to2zoUOLI+qxtc/AAAAAAAAAHdHsAYAAAAAAAAg\n",
       "QrAGAAAAAAAAIEKwBgAAAAAAACBCsAYAAAAAAAAgQrAGAAAAAAAAIEKwBgAAAAAAACBCsAYAAAAA\n",
       "AAAgQrAGAAAAAAAAIEKwBgAAAAAAACBCsAYAAAAAAAAgQrAGAAAAAACA/7JvJzuS5WcZh78TQ06V\n",
       "2VXtHtzGI+MGyay4gwR2sKniFkHu2rF03oIXCAsJC4OFjdtDV3V3VVZOMRwWFvu/pWq9/qKf5wpe\n",
       "nYgzxPllAhGCNQAAAAAAAAARgjUAAAAAAAAAEYI1AAAAAAAAABGCNQAAAAAAAAARgjUAAAAAAAAA\n",
       "EYI1AAAAAAAAABGCNQAAAAAAAAARgjUAAAAAAAAAEYI1AAAAAAAAABGCNQAAAAAAAAARgjUAAAAA\n",
       "AAAAEYI1AAAAAAAAABGCNQAAAAAAAAARgjUAAAAAAAAAEYI1AAAAAAAAABGCNQAAAAAAAAARq/SA\n",
       "Q3U5PZ3TG0Zdzc+n9AYgZO5xqZoWjf6+amq0dbFMLxg39bhVTetGj1arRp//8XF6wZhGx3R+cpGe\n",
       "MGx/3OO82j1apycM25z3OKZVVcu7fXrCkN1pn/v/3OSeWlVVjaYev3hITxgyH/U5/6tO0gOGLe62\n",
       "6QlDps9epyeMO2ny/FdV07LJPeDmNr1g3L7H/b+qap77bO3zvqLPMe3UANpo8q6yqtq8q6qqqiaH\n",
       "tdM5pau9fV3uUgAAAAAAAAAcGMEaAAAAAAAAgAjBGgAAAAAAAIAIwRoAAAAAAACACMEaAAAAAAAA\n",
       "gAjBGgAAAAAAAIAIwRoAAAAAAACACMEaAAAAAAAAgAjBGgAAAAAAAIAIwRoAAAAAAACACMEaAAAA\n",
       "AAAAgAjBGgAAAAAAAIAIwRoAAAAAAACACMEaAAAAAAAAgAjBGgAAAAAAAIAIwRoAAAAAAACACMEa\n",
       "AAAAAAAAgAjBGgAAAAAAAIAIwRoAAAAAAACACMEaAAAAAAAAgAjBGgAAAAAAAIAIwRoAAAAAAACA\n",
       "CMEaAAAAAAAAgAjBGgAAAAAAAIAIwRoAAAAAAACACMEaAAAAAAAAgAjBGgAAAAAAAIAIwRoAAAAA\n",
       "AACAiFV6wKG6mp9P6Q3kXE5P5/SGUV2+q5eLZ22OaSfT1OLjr+qys6qq0dROpqN1esKYuc+lalo2\n",
       "egw8P0svGLJ75zQ9YVyj6+r19x6lJwyZ9n3O/82jPn+3PE/L9IQhc4+ZVVW1vE8vGLc7Si8Ytzk9\n",
       "Tk8Ysrrrc61a3+zSE4atX/Y4rovHPe6pVVXT9W16wrhlk5vAZpNeMG7Z51llmvs8V1eT59W5z+W/\n",
       "pi7nf1Wb9xU/3P2gz0nV45BCG33u/gAAAAAAAAAcFMEaAAAAAAAAgAjBGgAAAAAAAIAIwRoAAAAA\n",
       "AACACMEaAAAAAAAAgAjBGgAAAAAAAIAIwRoAAAAAAACACMEaAAAAAAAAgAjBGgAAAAAAAIAIwRoA\n",
       "AAAAAACACMEaAAAAAAAAgAjBGgAAAAAAAIAIwRoAAAAAAACACMEaAAAAAAAAgAjBGgAAAAAAAIAI\n",
       "wRoAAAAAAACACMEaAAAAAAAAgAjBGgAAAAAAAIAIwRoAAAAAAACACMEaAAAAAAAAgAjBGgAAAAAA\n",
       "AIAIwRoAAAAAAACACMEaAAAAAAAAgAjBGgAAAAAAAIAIwRoAAAAAAACACMEaAAAAAAAAgAjBGgAA\n",
       "AAAAAIAIwRoAAAAAAACACMEaAAAAAAAAgIgpPQDIulw8m9MbDs3V/uM219Y2n//cY2ZV1eLoKD1h\n",
       "WKPDWotHZ+kJQ6aT4/SEceeP0guGzac9zqv9WY+dVVW3H52mJwy7v+jxN7b7dXrBuLuvtXlUqcUm\n",
       "vWDM9jy9YNzyNr1g3LbH7b+qqtbX6QVjVo0+/5OX+/SEYUfXu/SEIcvbHjurqlav7tMThi1e3aQn\n",
       "jHnd5EJVVfNmm54wbL7v812tfY/r6rzrsbOqqnZ9vqtd/HD3gz4/VoC3qsfbHwAAAAAAAAAOjmAN\n",
       "AAAAAAAAQIRgDQAAAAAAAECEYA0AAAAAAABAhGANAAAAAAAAQIRgDQAAAAAAAECEYA0AAAAAAABA\n",
       "hGANAAAAAAAAQIRgDQAAAAAAAECEYA0AAAAAAABAhGANAAAAAAAAQIRgDQAAAAAAAECEYA0AAAAA\n",
       "AABAhGANAAAAAAAAQIRgDQAAAAAAAECEYA0AAAAAAABAhGANAAAAAAAAQIRgDQAAAAAAAECEYA0A\n",
       "AAAAAABAhGANAAAAAAAAQIRgDQAAAAAAAECEYA0AAAAAAABAhGANAAAAAAAAQIRgDQAAAAAAAECE\n",
       "YA0AAAAAAABAhGANAAAAAAAAQIRgDQAAAAAAAECEYA0AAAAAAABAxJQeADDicvFsTm8YNU0urW/d\n",
       "YpleMGxaNPr81+v0gmGL05P0hDFnp+kFw+aLR+kJw7bvnqUnDHl43Oecuv2gz3X14aLHdXW/Si8Y\n",
       "d/29fXrCuCZ/Yr180+N7WlW1fdzn858e+hzX1ZseX9ajz9ILxi3v0wvGnf2mx3l1dN1jZ1XV0WcP\n",
       "6QnDVi/fpCcMmR626Qnj7hpdABpt3d/dpScMmW9v0xMO0jy3ebXaxtX+4zYPq5fTU1+At+xqft7m\n",
       "8++ixy8qAAAAAAAAAA6OYA0AAAAAAABAhGANAAAAAAAAQIRgDQAAAAAAAECEYA0AAAAAAABAhGAN\n",
       "AAAAAAAAQIRgDQAAAAAAAECEYA0AAAAAAABAhGANAAAAAAAAQIRgDQAAAAAAAECEYA0AAAAAAABA\n",
       "hGANAAAAAAAAQIRgDQAAAAAAAECEYA0AAAAAAABAhGANAAAAAAAAQIRgDQAAAAAAAECEYA0AAAAA\n",
       "AABAhGANAAAAAAAAQIRgDQAAAAAAAECEYA0AAAAAAABAhGANAAAAAAAAQIRgDQAAAAAAAECEYA0A\n",
       "AAAAAABAhGANAAAAAAAAQIRgDQAAAAAAAECEYA0AAAAAAABAhGANAAAAAAAAQIRgDQAAAAAAAECE\n",
       "YA0AAAAAAABAxCo9AEZdTk/n9IZRV/PzKb2BoMnfAr11U6NTar1OLxg2HR+lJ4xrcl7N716kJwyb\n",
       "Fz2OaVXV7qTH1psPl+kJwzbnfa6r90/SC8bcv7dPTxi2+OA+PWHYcrVLTxiyWPb5/Hc3fe7/86bH\n",
       "9b+qavO4y8/V4/SAYae/Ti8Y9/BOj+/q9qTP/b/mPteqad/j/F/9+ov0hHHbHvf/qqr5vs9zVe16\n",
       "HNep0XuVudF39Wr3zy1uApeLZz0uqnwpdJWvth5P1AAAAAAAAAAcHMEaAAAAAAAAgAjBGgAAAAAA\n",
       "AIAIwRoAAAAAAACACMEaAAAAAAAAgAjBGgAAAAAAAIAIwRoAAAAAAACACMEaAAAAAAAAgAjBGgAA\n",
       "AAAAAIAIwRoAAAAAAACACMEaAAAAAAAAgBllU2MAACAASURBVAjBGgAAAAAAAIAIwRoAAAAAAACA\n",
       "CMEaAAAAAAAAgAjBGgAAAAAAAIAIwRoAAAAAAACACMEaAAAAAAAAgAjBGgAAAAAAAIAIwRoAAAAA\n",
       "AACACMEaAAAAAAAAgAjBGgAAAAAAAIAIwRoAAAAAAACACMEaAAAAAAAAgAjBGgAAAAAAAIAIwRoA\n",
       "AAAAAACACMEaAAAAAAAAgAjBGgAAAAAAAIAIwRoAAAAAAACAiCk9AA7R5eLZnN4wbO4ztYtpuUxP\n",
       "ODjTapWeMK7RObU4P09PGHd6kl4wZP/+k/SEYfNxn2vVzTfP0hOG3L/T529B33yzz8+A26/v0xPG\n",
       "vPeQXjCuySGtqnrnyU16wpBvP/48PWHYbu5zrTpa7NIThv3Hbz5MTxiyeehz/1/8d4/7f1XVYpte\n",
       "MObsk/SCcY9+1ef8P/pik54wZP3ZXXrCsMUnn6YnDJvvGz0D7npcrOaHHudUVdW87XOtqrnHj4C5\n",
       "0Xu1Tu8Au7ian/d5WcFb1+eXKgAAAAAAAAAHRbAGAAAAAAAAIEKwBgAAAAAAACBCsAYAAAAAAAAg\n",
       "QrAGAAAAAAAAIEKwBgAAAAAAACBCsAYAAAAAAAAgQrAGAAAAAAAAIEKwBgAAAAAAACBCsAYAAAAA\n",
       "AAAgQrAGAAAAAAAAIEKwBgAAAAAAACBCsAYAAAAAAAAgQrAGAAAAAAAAIEKwBgAAAAAAACBCsAYA\n",
       "AAAAAAAgQrAGAAAAAAAAIEKwBgAAAAAAACBCsAYAAAAAAAAgQrAGAAAAAAAAIEKwBgAAAAAAACBC\n",
       "sAYAAAAAAAAgQrAGAAAAAAAAIEKwBgAAAAAAACBCsAYAAAAAAAAgQrAGAAAAAAAAIEKwBgAAAAAA\n",
       "ACBCsAYAAAAAAAAgYpUeAAdpntMLxk1TesGQqcnOqqp5t0tPGDatj9ITxnQ6pY6P0xPGnTTauujx\n",
       "N3ZToy/rbr1MTxi2O+pxD7j5Ro+dVVWbR+kFv4cep3+tj7bpCcPef+c6PWHY33/r39IThvS5+ld9\n",
       "sHqdnjDsJ7cfpScMO11t0hOG/PTz99IThv32o3V6wrCjX/bYOvd5/Kv9qs9z1bxs8rCyarKzquri\n",
       "PL1g2LS4SU8YNr95k54wptV71fSAcfO+0XFt4mp+3ugbAH/4Gj2pAAAAAAAAAHBIBGsAAAAAAAAA\n",
       "IgRrAAAAAAAAACIEawAAAAAAAAAiBGsAAAAAAAAAIgRrAAAAAAAAACIEawAAAAAAAAAiBGsAAAAA\n",
       "AAAAIgRrAAAAAAAAACIEawAAAAAAAAAiBGsAAAAAAAAAIgRrAAAAAAAAACIEawAAAAAAAAAiBGsA\n",
       "AAAAAAAAIgRrAAAAAAAAACIEawAAAAAAAAAiBGsAAAAAAAAAIgRrAAAAAAAAACIEawAAAAAAAAAi\n",
       "BGsAAAAAAAAAIgRrAAAAAAAAACIEawAAAAAAAAAiBGsAAAAAAAAAIgRrAAAAAAAAACIEawAAAAAA\n",
       "AAAiBGsAAAAAAAAAIgRrAAAAAAAAACIEawAAAAAAAAAiBGsAAAAAAAAAIlbpAXCIrubnU3rDqMt6\n",
       "Oqc3jGgx8v9NbT7+qv0uvWDMqtHtarlMLxi3arT1aJ1eMGRudEznlb9bfOv26QHj5j5f1Xr07Vfp\n",
       "CUPeP3+TnjDs7z769/SEYf9w8a/pCUN+tn2SnjDsyeI2PWHYN9cv0xOG/fz0/fSEIb+6+ev0hGEv\n",
       "zzbpCcP2Rz1+r2we9fmt+nDRZ+vx5z3eWEw3D+kJ4x76nP819/j8q6pq6vEbsNMh7XJMq6qmqccP\n",
       "1rnRF+By6vFevapPr3BMv9r6XFEBAAAAAAAAOCiCNQAAAAAAAAARgjUAAAAAAAAAEYI1AAAAAAAA\n",
       "ABGCNQAAAAAAAAARgjUAAAAAAAAAEYI1AAAAAAAAABGCNQAAAAAAAAARgjUAAAAAAAAAEYI1AAAA\n",
       "AAAAABGCNQAAAAAAAAARgjUAAAAAAAAAEYI1AAAAAAAAABGCNQAAAAAAAAARgjUAAAAAAAAAEYI1\n",
       "AAAAAAAAABGCNQAAAAAAAAARgjUAAAAAAAAAEYI1AAAAAAAAABGCNQAAAAAAAAARgjUAAAAAAAAA\n",
       "EYI1AAAAAAAAABGCNQAAAAAAAAARgjUAAAAAAAAAEYI1AAAAAAAAABGCNQAAAAAAAAARgjUAAAAA\n",
       "AAAAEYI1AAAAAAAAABGr9ACAEdM0pScMm+c5PWHYtFymJ4xpdExb2WzTC8YtmnxXG9md9Pm7xe1p\n",
       "j3vA9jy9YNzu0T49Ydhm2+P8/9OLF+kJw/5o/Xl6wrCfbN5PTxjy4fJ1esKwv1z3uf//ZPsmPWHY\n",
       "m/1JesKQx0d36QnDXpw+pCcMe/XeOj1hyOmveuysqpoa/QScFz2eVefTo/SEYdPDJj1h3P19esGw\n",
       "adXjuXpaNUoW+116wbB5bvIOYNfnmFaj99XV5L56NT9vdFD7uJyetvgGNLlKAQAAAAAAAHBoBGsA\n",
       "AAAAAAAAIgRrAAAAAAAAACIEawAAAAAAAAAiBGsAAAAAAAAAIgRrAAAAAAAAACIEawAAAAAAAAAi\n",
       "BGsAAAAAAAAAIgRrAAAAAAAAACIEawAAAAAAAAAiBGsAAAAAAAAAIgRrAAAAAAAAACIEawAAAAAA\n",
       "AAAiBGsAAAAAAAAAIgRrAAAAAAAAACIEawAAAAAAAAAiBGsAAAAAAAAAIgRrAAAAAAAAACIEawAA\n",
       "AAAAAAAiBGsAAAAAAAAAIgRrAAAAAAAAACIEawAAAAAAAAAiBGsAAAAAAAAAIgRrAAAAAAAAACIE\n",
       "awAAAAAAAAAiBGsAAAAAAAAAIgRrAAAAAAAAACIEawAAAAAAAAAiVukBMOpyejqnNxyiq/n5lN4w\n",
       "4nLf6POfWhzS32mydd73+fgXx8fpCeOafP6dzMtOx7TP1mmXXjDm+EV6wbj772zTE4Zt7nr8ZPnZ\n",
       "9bvpCcP+4tHj9IRhf3X8i/SEId8/OklPGPbJ7jY9Ydi3Gt1X/+nln6UnDFkvmtxUq+r1F6fpCcMW\n",
       "18v0hCH7HrfUqqp6uOhz/p+u/T/QW7fbpxeMa/S+Yp57bJ1WPa6pVVXzfZ/7ahtNvqdVVdOiz/W/\n",
       "S1vp0iq66XJc+5xRAAAAAAAAABwUwRoAAAAAAACACMEaAAAAAAAAgAjBGgAAAAAAAIAIwRoAAAAA\n",
       "AACACMEaAAAAAAAAgAjBGgAAAAAAAIAIwRoAAAAAAACACMEaAAAAAAAAgAjBGgAAAAAAAIAIwRoA\n",
       "AAAAAACACMEaAAAAAAAAgAjBGgAAAAAAAIAIwRoAAAAAAACACMEaAAAAAAAAgAjBGgAAAAAAAIAI\n",
       "wRoAAAAAAACACMEaAAAAAAAAgAjBGgAAAAAAAIAIwRoAAAAAAACACMEaAAAAAAAAgAjBGgAAAAAA\n",
       "AIAIwRoAAAAAAACACMEaAAAAAAAAgAjBGgAAAAAAAIAIwRoAAAAAAACACMEaAAAAAAAAgAjBGgAA\n",
       "AAAAAIAIwRoAAAAAAACAiFV6AIy6mp9P6Q2j/mb5j3N6w6jL+VmLrdPU5uOveW5xSKuqat7u0hOG\n",
       "TOtGt6vtJr1g3OIovWDcssff2E0PPc6pqqrlXZ+tXR5Zd41OqcWLdXrCsJM/vktPGHK+fkhPGPbL\n",
       "+yfpCcN+tPpuesKQ0+mn6QnD/uX6++kJw76x/jw9Ydh3Tl6kJwz58RffSE8Ydnp+n54wbPPJcXrC\n",
       "kGWfQ1pnv96nJwxbbHts3Z32eKauqlo0eq/S5bdqVVXdbdMLhsybPu9V5n2j39WdzqsmOr0Dhg4a\n",
       "3VEBAAAAAAAAOCSCNQAAAAAAAAARgjUAAAAAAAAAEYI1AAAAAAAAABGCNQAAAAAAAAARgjUAAAAA\n",
       "AAAAEYI1AAAAAAAAABGCNQAAAAAAAAARgjUAAAAAAAAAEYI1AAAAAAAAABGCNQAAAAAAAAARgjUA\n",
       "AAAAAAAAEYI1AAAAAAAAABGCNQAAAAAAAAARgjUAAAAAAAAAEYI1AAAAAAAAABGCNQAAAAAAAAAR\n",
       "gjUAAAAAAAAAEYI1AAAAAAAAABGCNQAAAAAAAAARgjUAAAAAAAAAEYI1AAAAAAAAABGCNQAAAAAA\n",
       "AAARgjUAAAAAAAAAEYI1AAAAAAAAABGCNQAAAAAAAAARgjUAAAAAAAAAEYI1AAAAAAAAABGr9ADy\n",
       "Lqenc3rDoZn3+/SEcdOUXjBknvt8TafFMj3h4My7XXrCsPlhk54wbFo1egy4uU0vGPP4LL1g2Lzq\n",
       "cf2vqlo+9LgHLDd9junU57JadzdH6QlDPrm+SE8Y1uOM+p3z5X16wpC/ffSf6QnDzhYP6QnDfnr3\n",
       "YXrCsB99/t30hCHXD8fpCcPub3tc/6uqjm7SC8ZMjW4Ai0bPKtOux4Fdvu5z/a+d92pfimWP91Xz\n",
       "XY/nv266vK++mp+3Oakup2c9bgDV67jy1eU/rAEAAAAAAACIEKwBAAAAAAAAiBCsAQAAAAAAAIgQ\n",
       "rAEAAAAAAACIEKwBAAAAAAAAiBCsAQAAAAAAAIgQrAEAAAAAAACIEKwBAAAAAAAAiBCsAQAAAAAA\n",
       "AIgQrAEAAAAAAACIEKwBAAAAAAAAiBCsAQAAAAAAAIgQrAEAAAAAAACIEKwBAAAAAAAAiBCsAQAA\n",
       "AAAAAIgQrAEAAAAAAACIEKwBAAAAAAAAiBCsAQAAAAAAAIgQrAEAAAAAAACIEKwBAAAAAAAAiBCs\n",
       "AQAAAAAAAIgQrAEAAAAAAACIEKwBAAAAAAAAiBCsAQAAAAAAAIgQrAEAAAAAAACIEKwBAAAAAAAA\n",
       "iBCsAQAAAAAAAIgQrAEAAAAAAACIEKwBAAAAAAAAiFhdLp7N6RGjrvYfT+kNh+hqfu64foVd1tMe\n",
       "14Cp0dd03qcXHJxpeZSeMGy+f0hPGLfo83dr0zsX6QlDFq9u0hOGLY9X6QnDFtt1esKQ48963FKr\n",
       "qrZnfe6rD3WcnjDkN7vH6QnDru96HNOqqrsm5/9vH3rcp6qqfn7zJD1h2NeO+9xXf/Gqx3FdL7fp\n",
       "CcMWPz9JTxg2NfkJePKiz7PK3OenSi3venwBprnP59/pt2ptNukFw+aHHu8rpuUyPWHY/NDnvsrb\n",
       "16lXXU49GoBW9dXW6O4PAAAAAAAAwCERrAEAAAAAAACIEKwBAAAAAAAAiBCsAQAAAAAAAIgQrAEA\n",
       "AAAAAACIEKwBAAAAAAAAiBCsAQAAAAAAAIgQrAEAAAAAAACIEKwBAAAAAAAAiBCsAQAAAAAAAIgQ\n",
       "rAEAAAAAAACIEKwBAAAAAAAAiBCsAQAAAAAAAIgQrAEAAAAAAACIEKwBAAAAAAAAiBCsAQAAAAAA\n",
       "AIgQrAEAAAAAAACIEKwBAAAAAAAAiBCsAQAAAAAAAIgQrAEAAAAAAACIEKwBAAAAAAAAiBCsAQAA\n",
       "AAAAAIgQrAEAAAAAAACIEKwBAAAAAAAAiBCsAQAAAAAAAIgQrAEAAAAAAACIEKwBAAAAAAAAiBCs\n",
       "AQAAAAAAAIiY0gPgEF0uns3pDeRMU6NL66LH3y3Nu116wrDFep2eMGxxcZGeMO78LL1gzFGfz39/\n",
       "fpqeMOzuox6f//a0xzW1qurua8v0hGGv/iS9YMz2bJ+eMO69h/SCYevjbXrCkI+evEpPGPbp9Xl6\n",
       "wu+hz8+qN58+Sk8Ysn65Sk8Y9uh/0wvGLTbpBWOOXvU5p04+63H9r6o6+9nn6Qljbu/TC8bd9dk6\n",
       "N9pa+x7vVjod03nuc12dN01uVo1czc/bvARu0ysanVOddPmu9nmrBgAAAAAAAMBBEawBAAAAAAAA\n",
       "iBCsAQAAAAAAAIgQrAEAAAAAAACIEKwBAAAAAAAAiBCsAQAAAAAAAIgQrAEAAAAAAACIEKwBAAAA\n",
       "AAAAiBCsAQAAAAAAAIgQrAEAAAAAAACIEKwBAAAAAAAAiBCsAQAAAAAAAIgQrAEAAAAAAACIEKwB\n",
       "AAAAAAAAiBCsAQAAAAAAAIgQrAEAAAAAAACIEKwBAAAAAAAAiBCsAQAAAAAAAIgQrAEAAAAAAACI\n",
       "EKwBAAAAAAAAiBCsAQAAAAAAAIgQrAEAAAAAAACIEKwBAAAAAAAAiBCsAQAAAAAAAIgQrAEAAAAA\n",
       "AACIEKwBAAAAAAAAiBCsAQAAAAAAAIgQrAEAAAAAAACIWKUHwCG62n88pTeMupyezukNh6bVAd1u\n",
       "0wuGTMtGt6vFMr1g2LzbpSeM++J1esGQ6d3H6QnDFjf36QnDjj/t8TeW939+np4w7PiLfXrCsHf+\n",
       "q8fnf/P1HjurqnbXJ+kJw/arHk9W/3N+mp4wbNq1+alS87LH519VdfKixzPg8WfpBePmPpfVWt32\n",
       "+K6evujx+6+qavWmz9b92XF6wpDFrs/zX236fP419zj/q6rmTY93AHOTd1XdXM3PWzwEelf9JWly\n",
       "reryPeXL0ejxHwAAAAAAAIBDIlgDAAAAAAAAECFYAwAAAAAAABAhWAMAAAAAAAAQIVgDAAAAAAAA\n",
       "ECFYAwAAAAAAABAhWAMAAAAAAAAQIVgDAAAAAAAAECFYAwAAAAAAABAhWAMAAAAAAAAQIVgDAAAA\n",
       "AAAAECFYAwAAAAAAABAhWAMAAAAAAAAQIVgDAAAAAAAAECFYAwAAAAAAABAhWAMAAAAAAAAQIVgD\n",
       "AAAAAAAAECFYAwAAAAAAABAhWAMAAAAAAAAQIVgDAAAAAAAAECFYAwAAAAAAABAhWAMAAAAAAAAQ\n",
       "IVgDAAAAAAAAECFYAwAAAAAAABAhWAMAAAAAAAAQIVgDAAAAAAAAECFYAwAAAAAAABAhWAMAAAAA\n",
       "AAAQIVgDAAAAAAAAEDGlBwCMuFw8m9MbRk1Tn0vrvN+nJwyZFo3+vmqxTC8Ytjg9SU8Yt1qlFwyZ\n",
       "Oh3Tk+P0gmH7i7P0hCHzus+16u7rPY5pVdV+3eO+evNBn+v/9jS9YNzmIr1gzPIuvWDcrtHnv7pJ\n",
       "LxjXZmubX1VVZ5/u0hOGLTY9Duz6TZ9juv70Nj1h2OLlq/SEw/Omy0W1avf6Oj1h2LTs8Xtl3mzT\n",
       "E34PPa7/VVXzrsk9oNF71U6u9h87sPzB63GXAgAAAAAAAODgCNYAAAAAAAAARAjWAAAAAAAAAEQI\n",
       "1gAAAAAAAABECNYAAAAAAAAARAjWAAAAAAAAAEQI1gAAAAAAAABECNYAAAAAAAAARAjWAAAAAAAA\n",
       "AEQI1gAA/9e+veC2kZxRGK1qUvIDmCSLondAT7YY2NyBuaUAQWJbEh9d2UGmklBz56fOWcFFs1/k\n",
       "JwEAAAAAECFYAwAAAAAAABAhWAMAAAAAAAAQIVgDAAAAAAAAECFYAwAAAAAAABAhWAMAAAAAAAAQ\n",
       "IVgDAAAAAAAAECFYAwAAAAAAABAhWAMAAAAAAAAQIVgDAAAAAAAAECFYAwAAAAAAABAhWAMAAAAA\n",
       "AAAQIVgDAAAAAAAAECFYAwAAAAAAABAhWAMAAAAAAAAQIVgDAAAAAAAAECFYAwAAAAAAABAhWAMA\n",
       "AAAAAAAQIVgDAAAAAAAAELFNDwCydn0/0hvuzbfrl57eMOvT9q81Pv9RY2ZrrbVe5uNv43xOT5jW\n",
       "qxzX0ym9YN5S5+8Wl+cax3WsdV6t3/39OT1h2njYpCdMWR/epSdMu7wUuae21t79M71gzrqpc0zH\n",
       "9/SCee/+saYnTNucaryvLucaO1trbft0TU+YtjzX2Lp5qvP+v/x8SU+Y91LjXbVdL+kF09afT+kJ\n",
       "0/qmxrtqa62NS5F7wKjz/OcVFPoN8DgOdb4EQAF1fqkEAAAAAAAA4K4I1gAAAAAAAABECNYAAAAA\n",
       "AAAARAjWAAAAAAAAAEQI1gAAAAAAAABECNYAAAAAAAAARAjWAAAAAAAAAEQI1gAAAAAAAABECNYA\n",
       "AAAAAAAARAjWAAAAAAAAAEQI1gAAAAAAAABECNYAAAAAAAAARAjWAAAAAAAAAEQI1gAAAAAAAABE\n",
       "CNYAAAAAAAAARAjWAAAAAAAAAEQI1gAAAAAAAABECNYAAAAAAAAARAjWAAAAAAAAAEQI1gAAAAAA\n",
       "AABECNYAAAAAAAAARAjWAAAAAAAAAEQI1gAAAAAAAABECNYAAAAAAAAARAjWAAAAAAAAAEQI1gAA\n",
       "AAAAAABECNYAAAAAAAAARAjWAAAAAAAAAERs0wPgHu36fqQ3zDqOQ09vmFLmiNYy1jU94e706yU9\n",
       "YV6v8xqwPj2lJ0xZeo1bamut9VHjmLbWWnt+SS+Y0j++T0+Ytum/pCfMuzynF0z5sKlz/S/nOs//\n",
       "l788pidMefhR5/l/+vNDesK0fq3zJWDzUuO6GoXuVZvna3rCtOXHKT1hyvKjxjtVa621f31PL5i3\n",
       "FjlX69xSW6Wx43xOT7g/yya9YN6o8fxvrdBvwMCb5T+sAQAAAAAAAIgQrAEAAAAAAACIEKwBAAAA\n",
       "AAAAiBCsAQAAAAAAAIgQrAEAAAAAAACIEKwBAAAAAAAAiBCsAQAAAAAAAIgQrAEAAAAAAACIEKwB\n",
       "AAAAAAAAiBCsAQAAAAAAAIgQrAEAAAAAAACIEKwBAAAAAAAAiBCsAQAAAAAAAIgQrAEAAAAAAACI\n",
       "EKwBAAAAAAAAiBCsAQAAAAAAAIgQrAEAAAAAAACIEKwBAAAAAAAAiBCsAQAAAAAAAIgQrAEAAAAA\n",
       "AACIEKwBAAAAAAAAiBCsAQAAAAAAAIgQrAEAAAAAAACIEKwBAAAAAAAAiBCsAQAAAAAAAIgQrAEA\n",
       "AAAAAACIEKwBAAAAAAAAiBCsAQAAAAAAAIgQrAEAAAAAAACI6OkB92rX9yO9YdZxHJwH/OG5pl7H\n",
       "bvlc4rj2XuaQtjFKHNLWWmt9u01PmNYXf2N3c4WO6fLxQ3rCnI8f0wvmXS7pBfM+vE8vmDLeP6Yn\n",
       "TBsfC21darwDjEL31H5d0xOmjW2h43qpcVw335/TE+YVeq9uP4sc19M5vWDaOJ3SE+atNc7V8fKS\n",
       "njBtnOu8q45rna2Vflup4tv1S5mDWuU3wOP6tcwxBW6rzrc/AAAAAAAAAO6KYA0AAAAAAABAhGAN\n",
       "AAAAAAAAQIRgDQAAAAAAAECEYA0AAAAAAABAhGANAAAAAAAAQIRgDQAAAAAAAECEYA0AAAAAAABA\n",
       "hGANAAAAAAAAQIRgDQAAAAAAAECEYA0AAAAAAABAhGANAAAAAAAAQIRgDQAAAAAAAECEYA0AAAAA\n",
       "AABAhGANAAAAAAAAQIRgDQAAAAAAAECEYA0AAAAAAABAhGANAAAAAAAAQIRgDQAAAAAAAECEYA0A\n",
       "AAAAAABAhGANAAAAAAAAQIRgDQAAAAAAAECEYA0AAAAAAABAhGANAAAAAAAAQIRgDQAAAAAAAECE\n",
       "YA0AAAAAAABAhGANAAAAAAAAQIRgDQAAAAAAAEBETw8AsnZ9P9IbZhzHwf3qFVT5/Fuv8/H3QltL\n",
       "qXJce52/BewP2/SEaX27SU+YU+OO2lprrf/pl/SEeadTesGcx8f0gnkf3qcX3J+lzv2/XS7pBfO2\n",
       "dZ5V7XxOL5hU5J2qtdZeXtILpo2n5/SEKb3QvWqUuaZaG1XeVQrdU8dzneu/jTW9YNoYNb6wVPpd\n",
       "Zax1Pv8q/AYMb1edN1UAAAAAAAAA7opgDQAAAAAAAECEYA0AAAAAAABAhGANAAAAAAAAQIRgDQAA\n",
       "AAAAAECEYA0AAAAAAABAhGANAAAAAAAAQIRgDQAAAAAAAECEYA0AAAAAAABAhGANAAAAAAAAQIRg\n",
       "DQAAAAAAAECEYA0AAAAAAABAhGANAAAAAAAAQIRgDQAAAAAAAECEYA0AAAAAAABAhGANAAAAAAAA\n",
       "QIRgDQAAAAAAAECEYA0AAAAAAABAhGANAAAAAAAAQIRgDQAAAAAAAECEYA0AAAAAAABAhGANAAAA\n",
       "AAAAQIRgDQAAAAAAAECEYA0AAAAAAABAhGANAAAAAAAAQIRgDQAAAAAAAECEYA0AAAAAAABAhGAN\n",
       "AAAAAAAAQERPDwCA37Lr+5HeMK3XebT2pc7frY11TU+Y0jfb9IRpfVPn8++PD+kJU8Za6Fa1rXOu\n",
       "tiL3qr7Uuf+Xsq1x/bdKn3+hd5V2vqQX/BeKPAM2m/SCaePpOT1h3npNL5hU5/of53N6wrRxLfL5\n",
       "F/lO1Vqd73/ljCLPKl7FcRzqPASAN6nGrz8AAAAAAAAA3B3BGgAAAAAAAIAIwRoAAAAAAACACMEa\n",
       "AAAAAAAAgAjBGgAAAAAAAIAIwRoAAAAAAACACMEaAAAAAAAAgAjBGgAAAAAAAIAIwRoAAAAAAACA\n",
       "CMEaAAAAAAAAgAjBGgAAAAAAAIAIwRoAAAAAAACACMEaAAAAAAAAgAjBGgAAAAAAAIAIwRoAAAAA\n",
       "AACACMEaAAAAAAAAgAjBGgAAAAAAAIAIwRoAAAAAAACACMEaAAAAAAAAgAjBGgAAAAAAAIAIwRoA\n",
       "AAAAAACACMEaAAAAAAAAgAjBGgAAAAAAAIAIwRoAAAAAAACACMEaAAAAAAAAgAjBGgAAAAAAAIAI\n",
       "wRoAAAAAAACACMEaAAAAAAAAgAjBGgAAAAAAAICIbXoAANyVMdILpo11TU+4Q4U+/8slPWFama29\n",
       "zt+CjtMpPWFaf3xMT5hS5+pvrW8LfQ28XNML7k7fbtITpo3zOT1hXpV3wLXIztZaW3p6wbTxUuO5\n",
       "WuU0LefqWUUNx3EocWPd9b27FcAbVOdXNQAAAAAAAADuimANAAAAAAAAQIRgDQAAAAAAAECEYA0A\n",
       "AAAAAABAhGANAAAAAAAAQIRgDQAAAAAAAECEYA0AAAAAAABAhGANAAAAAAAAQIRgDQAAAAAAAECE\n",
       "YA0AAAAAAABAhGANAAAAAAAAQIRgDQAAAAAAAECEYA0AAAAAAABAhGANAAAAAAAAQIRgDQAAAAAA\n",
       "AECEYA0AAAAAAABAhGANAAAAAAAAQIRgDQAAAAAAAECEYA0AAAAAAABAhGANAAAAAAAAQIRgDQAA\n",
       "AAAAAECEYA0AAAAAAABAhGANAAAAAAAAQIRgDQAAAAAAAECEYA0AAAAAAABAhGANAAAAAAAAQIRg\n",
       "DQAAAAAAAECEYA0AAAAAAABARE8POOUynQAADFpJREFUAAAydn0/0htmHcfBO8uNVfr8+2aTnnB/\n",
       "ljrHtPcql3+ZS6qNUWdrX/yN9c31Qsd0XdML7lCd67/ST1Zl7qvXS3rBvDLP/9aGe9XNHdevZU6A\n",
       "St+ruD2/VQDcTqFvqgAAAAAAAADcE8EaAAAAAAAAgAjBGgAAAAAAAIAIwRoAAAAAAACACMEaAAAA\n",
       "AAAAgAjBGgAAAAAAAIAIwRoAAAAAAACACMEaAAAAAAAAgAjBGgAAAAAAAIAIwRoAAAAAAACACMEa\n",
       "AAAAAAAAgAjBGgAAAAAAAIAIwRoAAAAAAACACMEaAAAAAAAAgAjBGgAAAAAAAIAIwRoAAAAAAACA\n",
       "CMEaAAAAAAAAgAjBGgAAAAAAAIAIwRoAAAAAAACACMEaAAAAAAAAgAjBGgAAAAAAAIAIwRoAAAAA\n",
       "AACACMEaAAAAAAAAgAjBGgAAAAAAAIAIwRoAAAAAAACACMEaAAAAAAAAgAjBGgAAAAAAAIAIwRoA\n",
       "AAAAAACACMEaAAAAAAAAgIieHgAAv2XX9yO9YdZxHMo8Wysd1zJ6mY+/9UJbx7qmJ0zpS52/BR3D\n",
       "5X9rfbtNTyCo90rXf417amuttes1vWBemedqlZ2ttUrnKjfnXeUVVDqmZe6prdRxrfJ7RaXfKqoc\n",
       "U4AK6nyrBgAAAAAAAOCuCNYAAAAAAAAARAjWAAAAAAAAAEQI1gAAAAAAAABECNYAAAAAAAAARAjW\n",
       "AAAAAAAAAEQI1gAAAAAAAABECNYAAAAAAAAARAjWAAAAAAAAAEQI1gAAAAAAAABECNYAAAAAAAAA\n",
       "RAjWAAAAAAAAAEQI1gAAAAAAAABECNYAAAAAAAAARAjWAAAAAAAAAEQI1gAAAAAAAABECNYAAAAA\n",
       "AAAARAjWAAAAAAAAAEQI1gAAAAAAAABECNYAAAAAAAAARAjWAAAAAAAAAEQI1gAAAAAAAABECNYA\n",
       "AAAAAAAARAjWAAAAAAAAAEQI1gAAAAAAAABECNYAAAAAAAAARAjWAAAAAAAAAEQI1gAAAAAAAABE\n",
       "9PQAAHJ2fT/SG2Ycx8HzihJ2y+cS11RrrfXusrq1b9cvZQ5qpXOVt63Mvar7W/DXUedWNdY1PWFK\n",
       "mWuq1TmmrbXWCh3XMkad67/K99Uq3/9bq3NMAYDb8a0aAAAAAAAAgAjBGgAAAAAAAIAIwRoAAAAA\n",
       "AACACMEaAAAAAAAAgAjBGgAAAAAAAIAIwRoAAAAAAACACMEaAAAAAAAAgAjBGgAAAAAAAIAIwRoA\n",
       "AAAAAACACMEaAAAAAAAAgAjBGgAAAAAAAIAIwRoAAAAAAACACMEaAAAAAAAAgAjBGgAAAAAAAIAI\n",
       "wRoAAAAAAACACMEaAAAAAAAAgAjBGgAAAAAAAIAIwRoAAAAAAACACMEaAAAAAAAAgAjBGgAAAAAA\n",
       "AIAIwRoAAAAAAACACMEaAAAAAAAAgAjBGgAAAAAAAIAIwRoAAAAAAACACMEaAAAAAAAAgAjBGgAA\n",
       "AAAAAIAIwRoAAAAAAACACMEaAAAAAAAAgIieHgD3aNf3I71h1nEc3AcA+EOr9Fzl9qq8q+yWz3XO\n",
       "01FnahVVztNqPm1+rXOy9hr/D/Dt8rcy52qp538vc1jLOK5fHVQAgDekxjcqAAAAAAAAAO6OYA0A\n",
       "AAAAAABAhGANAAAAAAAAQIRgDQAAAAAAAECEYA0AAAAAAABAhGANAAAAAAAAQIRgDQAAAAAAAECE\n",
       "YA0AAAAAAABAhGANAAAAAAAAQIRgDQAAAAAAAECEYA0AAAAAAABAhGANAAAAAAAAQIRgDQAAAAAA\n",
       "AECEYA0AAAAAAABAhGANAAAAAAAAQIRgDQAAAAAAAECEYA0AAAAAAABAhGANAAAAAAAAQIRgDQAA\n",
       "AAAAAECEYA0AAAAAAABAhGANAAAAAAAAQIRgDQAAAAAAAECEYA0AAAAAAABAhGANAAAAAAAAQIRg\n",
       "DQAAAAAAAECEYA0AAAAAAABAhGANAAAAAAAAQIRgDQAAAAAAAECEYA0AAAAAAABARE8PAACA/2S3\n",
       "fB7pDTOO61fv1q9g1/clPv/W63z8lc7VT5tfS3z+Y13TE+YVOlcrqXRdcXtV3lXaqDGztdaO41Dm\n",
       "mqryrlLpmAIAb4//sAYAAAAAAAAgQrAGAAAAAAAAIEKwBgAAAAAAACBCsAYAAAAAAAAgQrAGAAAA\n",
       "AAAAIEKwBgAAAAAAACBCsAYAAAAAAAAgQrAGAAAAAAAAIEKwBgAAAAAAACBCsAYAAAAAAAAgQrAG\n",
       "AAAAAAAAIEKwBgAAAAAAACBCsAYAAAAAAAAgQrAGAAAAAAAAIEKwBgAAAAAAACBCsAYAAAAAAAAg\n",
       "QrAGAAAAAAAAIEKwBgAAAAAAACBCsAYAAAAAAAAgQrAGAAAAAAAAIEKwBgAAAAAAACBCsAYAAAAA\n",
       "AAAgQrAGAAAAAAAAIEKwBgAAAAAAACBCsAYAAAAAAAAgQrAGAAAAAAAAIEKwBgAAAAAAACBCsAYA\n",
       "AAAAAAAgoqcHANybXd+P9IZZx3HwHAC4kd3yucz9v406U1uv8ag6rl9rDOVVeP97HZWOK7dX6Vyt\n",
       "otS7SiHeAQAA/n/+wxoAAAAAAACACMEaAAAAAAAAgAjBGgAAAAAAAIAIwRoAAAAAAACACMEaAAAA\n",
       "AAAAgAjBGgAAAAAAAIAIwRoAAAAAAACACMEaAAAAAAAAgAjBGgAAAAAAAIAIwRoAAAAAAACACMEa\n",
       "AAAAAAAAgAjBGgAAAAAAAIAIwRoAAAAAAACACMEaAAAAAAAAgAjBGgAAAAAAAIAIwRoAAAAAAACA\n",
       "CMEaAAAAAAAAgAjBGgAAAAAAAIAIwRoAAAAAAACACMEaAAAAAAAAgAjBGgAAAAAAAIAIwRoAAAAA\n",
       "AACACMEaAAAAAAAAgAjBGgAAAAAAAIAIwRoAAAAAAACACMEaAAAAAAAAgAjBGgAAAAAAAIAIwRoA\n",
       "AAAAAACAiJ4eAABwL3Z9P9IbZh3HwXvgjfn8X0eV41rpmPK2VbmmWnNdvXXOVQAAeDv8hzUAAAAA\n",
       "AAAAEYI1AAAAAAAAABGCNQAAAAAAAAARgjUAAAAAAAAAEYI1AAAAAAAAABGCNQAAAAAAAAARgjUA\n",
       "AAAAAAAAEYI1AAAAAAAAABGCNQAAAAAAAAARgjUAAAAAAAAAEYI1AAAAAAAAABGCNQAAAAAAAAAR\n",
       "gjUAAAAAAAAAEYI1AAAAAAAAABGCNQAAAAAAAAARgjUAAAAAAAAAEYI1AAAAAAAAABGCNQAAAAAA\n",
       "AAARgjUAAAAAAAAAEYI1AAAAAAAAABGCNQAAAAAAAAARgjUAAAAAAAAAEYI1AAAAAAAAABGCNQAA\n",
       "AAAAAAARgjUAAAAAAAAAEYI1AAAAAAAAABGCNQAAAAAAAAARgjUAAAAAAAAAEYI1AAAAAAAAABE9\n",
       "PQAAAIDfz67vR3rDrOM4lPjO6pjC21bpHlCFe9XbVumacq4CwG34D2sAAAAAAAAAIgRrAAAAAAAA\n",
       "ACIEawAAAAAAAAAiBGsAAAAAAAAAIgRrAAAAAAAAACIEawAAAAAAAAAiBGsAAAAAAAAAIgRrAAAA\n",
       "AAAAACIEawAAAAAAAAAiBGsAAAAAAAAAIgRrAAAAAAAAACIEawAAAAAAAAAiBGsAAAAAAAAAIgRr\n",
       "AAAAAAAAACIEawAAAAAAAAAiBGsAAAAAAAAAIgRrAAAAAAAAACIEawAAAAAAAAAiBGsAAAAAAAAA\n",
       "IgRrAAAAAAAAACIEawAAAAAAAAAiBGsAAAAAAAAAIgRrAAAAAAAAACIEawAAAAAAAAAiBGsAAAAA\n",
       "AAAAIgRrAAAAAAAAACIEawAAAAAAAAAiBGsAAAAAAAAAInp6AAAAAL+fXd+P9IZ7cxwH360BAADg\n",
       "f+Q/rAEAAAAAAACIEKwBAAAAAAAAiBCsAQAAAAAAAIgQrAEAAAAAAACIEKwBAAAAAAAAiBCsAQAA\n",
       "AAAAAIgQrAEAAAAAAACIEKwBAAAAAAAAiBCsAQAAAAAAAIgQrAEAAAAAAACIEKwBAAAAAAAAiBCs\n",
       "AQAAAAAAAIgQrAEAAAAAAACIEKwBAAAAAAAAiBCsAQAAAAAAAIgQrAEAAAAAAACIEKwBAAAAAAAA\n",
       "iBCsAQAAAAAAAIgQrAEAAAAAAACIEKwBAAAAAAAAiBCsAQAAAAAAAIgQrAEAAAAAAACIEKwBAAAA\n",
       "AAAAiBCsAQAAAAAAAIgQrAEAAAAAAACIEKwBAAAAAAAAiBCsAQAAAAAAAIgQrAEAAAAAAACI+Dca\n",
       "dBT0QDNgyAAAAABJRU5ErkJggg==\n",
       "\" transform=\"translate(149, 47)\"/>\n",
       "</g>\n",
       "<defs>\n",
       "  <clipPath id=\"clip123\">\n",
       "    <rect x=\"2160\" y=\"47\" width=\"73\" height=\"1440\"/>\n",
       "  </clipPath>\n",
       "</defs>\n",
       "<g clip-path=\"url(#clip123)\">\n",
       "<image width=\"72\" height=\"1439\" xlink:href=\"data:image/png;base64,\n",
       "iVBORw0KGgoAAAANSUhEUgAAAEgAAAWfCAYAAAAI7rB3AAAMJ0lEQVR4nO3dwa3cSBAFQVIoU9Z/\n",
       "t2QFm7JgK4+cQ4QFQuJhiG7OfN3P3//ei//15+t/wK8TKAgUBAoChXne8/W/4adZUBAoCBQECgKF\n",
       "OZej2MaCgkBBoCBQmHM5amwsKAgUBAoCBYHCPK+jxsaCgkBBoCBQECg4iwULCgIFgYJAYR5vNVYW\n",
       "FAQKAgWBgkBhjguzlQUFgYJAQaDgqBEsKAgUBAoCBYHCeKexs6AgUBAoCBQECr5hFiwoCBQECgKF\n",
       "eb7+F/w4CwoCBYGCQEGg4MIsWFAQKAgUBAoChXncl60sKAgUBAoCBUeNYEFBoCBQECgIFOa57q//\n",
       "DT/NgoJAQaAgUJjn9SG9saAgUBAoCBQECnMcNVYWFAQKAgWBgkDBhVmwoCBQECgIFOa4MFtZUBAo\n",
       "CBQECgIFR41gQUGgIFAQKAgUPMWCBQWBgkBBoDDn1WijThAoCBQECgIFR41gQUGgIFAQKMyj0Uqd\n",
       "IFAQKAgUBAouzII6QaAgUBAoCBRcmAULCgIFgYJAYR5HjZU6QaAgUBAoCBTmaLRSJwgUBAoCBYGC\n",
       "C7NgQUGgIFAQKLgwC+oEgYJAQaAgUHBhFtQJAgWBgkDBUSOoEwQKAgWBgkDBW41gQUGgIFAQKAgU\n",
       "/CQzqBMECgIFgYK//hLUCQIFgYJAQaAwj/9fbGVBQaAgUBAo+AJVUCcIFAQKAgWBgm+YBXWCQEGg\n",
       "IFAQKHjtE9QJAgWBgkBhjrcaKwsKAgWBgkBBoOCoEdQJAgWBgkBBoODHLEGdIFAQKAgU/G4+WFAQ\n",
       "KAgUBAoCBUeNoE4QKAgUBAqOGsGCgkBBoCBQECg4agR1gkBBoCBQECj4SWZQJwgUBAoChTkuzFYW\n",
       "FAQKAgWBgkDBUSOoEwQKAgWBgkDBWSxYUBAoCBQECo4aQZ0gUBAoCBQECv6GWbCgIFAQKAgU/Imu\n",
       "oE4QKAgUBAoCBUeNYEFBoCBQECgIFDzFggUFgYJAQaDgwiyoEwQKAgWBgkDBUSNYUBAoCBQECgIF\n",
       "f8MsqBMECgIFgYJfHAYLCgIFgYJAQaAwjwuzlQUFgYJAQaDgPiioEwQKAgWBgkDBu/lgQUGgIFAQ\n",
       "KAgUvPYJFhQECgIFgYK3GsGCgkBBoCBQECh47RPUCQIFgYJAwVuNYEFBoCBQECgIFLzVCBYUBAoC\n",
       "BYGCQMFZLFhQECgIFAQKPqSDBQWBgkBBoCBQ8BQLFhQECgIFgYJAwTfMgjpBoCBQECh4Nx8sKAgU\n",
       "BAoCBYGCC7NgQUGgIFAQKPiQDhYUBAoCBYGCQMFTLFhQECgIFAQKAoV5PcVWFhQECgIFgYJ388GC\n",
       "gkBBoCBQECi4MAsWFAQKAgWBgkDBUyxYUBAoCBQECt5qBAsKAgWBgkBBoOCoESwoCBQECgIFH9LB\n",
       "goJAQaAgUBAozPv1v+DHWVAQKAgUBAoCBWexYEFBoCBQECh4Nx8sKAgUBAoCBYGCo0awoCBQECgI\n",
       "FAQKzmLBgoJAQaAgUJjj5fzKgoJAQaAgUBAoOGoECwoCBYGCQMGHdLCgIFAQKAgUBArezQcLCgIF\n",
       "gYJAQaDgJ5nBgoJAQaAgUHBhFiwoCBQECgIFgYKnWLCgIFAQKAgUBArzujFbWVAQKAgUBAqOGsGC\n",
       "gkBBoCBQECh4igULCgIFgYJAwX1QsKAgUBAoCBQECo4awYKCQEGgIFAQKDiLBQsKAgWBgkBhLkeN\n",
       "lQUFgYJAQaAgUHBhFiwoCBQECgIFf9wkWFAQKAgUBAoCBRdmwYKCQEGgIFAQKHg3HywoCBQECgKF\n",
       "uXxIrywoCBQECgIFgYJ388GCgkBBoCBQECg4iwULCgIFgYJAwbv5YEFBoCBQECgIFLybDxYUBAoC\n",
       "BYGCo0awoCBQECgIFAQK3moECwoCBYGCQEGg4CkWLCgIFAQKAgUXZsGCgkBBoCBQECg4agQLCgIF\n",
       "gYJAQaDgKRYsKAgUBAoCBRdmwYKCQEGgIFAQKAgUBAoCBYGCQMF9ULCgIFAQKAgUBAqeYsGCgkBB\n",
       "oCBQECjM7bXPyoKCQEGgIFBw1AgWFAQKAgWBgkDBUyxYUBAoCBQECgIFT7FgQUGgIFAQKPgxS7Cg\n",
       "IFAQKAgUBApzO2qsLCgIFAQKAgX3QcGCgkBBoCBQECh4igULCgIFgYJAQaDgwixYUBAoCBQECo4a\n",
       "wYKCQEGgIFAQKPiGWbCgIFAQKAgU3AcFCwoCBYGCQEGg4MIsWFAQKAgUBAoCBU+xYEFBoCBQECiM\n",
       "dxo7CwoCBYGCQEGg4KgRLCgIFAQKAgWBgqdYsKAgUBAoCBR8wyxYUBAoCBQECgIFR41gQUGgIFAQ\n",
       "KPiQDhYUBAoCBYGCQMGFWbCgIFAQKAgUBAr++kuwoCBQECgIFBw1ggUFgYJAQaAgUPDaJ1hQECgI\n",
       "FAQKAgVPsWBBQaAgUBAouDALFhQECgIFgYJAwVEjWFAQKAgUBAo+pIMFBYGCQEGgIFBwYRYsKAgU\n",
       "BAoCBYGCs1iwoCBQECgIFAQKAgWBgkBBoCBQcGEWLCgIFAQKAgWBgguzYEFBoCBQECg4agQLCgIF\n",
       "gYJAQaDgqBEsKAgUBAoCBR/SwYKCQEGgIFAQKLgwCxYUBAoCBYGCQMFZLFhQECgIFAQKjhrBgoJA\n",
       "QaAgUBAoOGoECwoCBYGCQMGHdLCgIFAQKAgUBAouzIIFBYGCQEGgIFBwFgsWFAQKAgWBgqNGsKAg\n",
       "UBAoCBQECo4awYKCQEGgIFAQKHiKBQsKAgWBgkBh7ten9MaCgkBBoCBQECg4agQLCgIFgYJAwbv5\n",
       "YEFBoCBQECgIFBw1ggUFgYJAQaAgUHAWCxYUBAoCBYGCo0awoCBQECgIFAQKnmLBgoJAQaAgUBAo\n",
       "uDALFhQECgIFgYKjRrCgIFAQKAgUBAqOGsGCgkBBoCBQcNQIFhQECgIFgYJAwVEjWFAQKAgUBAoC\n",
       "BWexYEFBoCBQECj4Q5PBgoJAQaAgUBAoOGoECwoCBYGCQEGg4LVPsKAgUBAoCBQcNYIFBYGCQEGg\n",
       "IFBw1AgWFAQKAgWBgqNGsKAgUBAoCBQECo4awYKCQEGgIFAQKMzle9IrCwoCBYGCQMFRI1hQECgI\n",
       "FAQKAgWvfYIFBYGCQEGgIFBwFgsWFAQKAgWBgqNGsKAgUBAoCBQECv6GWbCgIFAQKAgUHDWCBQWB\n",
       "gkBBoCBQmPt8/U/4bRYUBAoCBYGCQMFZLFhQECgIFAQK3moECwoCBYGCQEGg4KgRLCgIFAQKAgUf\n",
       "0sGCgkBBoCBQECj4xWGwoCBQECgIFAQK/tBksKAgUBAoCBQcNYIFBYGCQEGgIFCY63iMbSwoCBQE\n",
       "CgIFgYKzWLCgIFAQKAgUfMMsWFAQKAgUBAoCBT/JDBYUBAoCBYGCo0awoCBQECgIFAQKjhrBgoJA\n",
       "QaAgUBAozOXPJa8sKAgUBAoCBb84DBYUBAoCBYGCQMHXgIMFBYGCQEGgIFBwFgsWFAQKAgWBgm+Y\n",
       "BQsKAgWBgkBBoOAbZsGCgkBBoCBQ8Ce6ggUFgYJAQaAgUPBuPlhQECgIFAQKAgXv5oMFBYGCQEGg\n",
       "4EM6WFAQKAgUBAoCBb+bDxYUBAoCBYGCQME3zIIFBYGCQEGg4MIsWFAQKAgUBAoCBU+xYEFBoCBQ\n",
       "ECh4qxEsKAgUBAoCBYGCtxrBgoJAQaAgUBAouDALFhQECgIFgYIP6WBBQaAgUBAoCBT8DbNgQUGg\n",
       "IFAQKDhqBAsKAgWBgkBBoOApFiwoCBQECgIFgYKnWLCgIFAQKAgU5vZWY2VBQaAgUBAoCBQcNYIF\n",
       "BYGCQEGgIFDwFAsWFAQKAgWBgg/pYEFBoCBQECgIFPyYJVhQECgIFAQKjhrBgoJAQaAgUBAoeIoF\n",
       "CwoCBYGCQEGgMNfxV/83FhQECgIFgYKjRrCgIFAQKAgUBArzeoqtLCgIFAQKAgWBgm+YBQsKAgWB\n",
       "gkBhrtdbjY0FBYGCQEGgIFDw2idYUBAoCBQECu6DggUFgYJAQaAgUHBhFiwoCBQECgIFgYKzWLCg\n",
       "IFAQKAgUfA04WFAQKAgUBAoCBb+bDxYUBAoCBYGCQME3zIIFBYGCQEGg4KgRLCgIFAQKAgWBgtc+\n",
       "wYKCQEGgIFDwBapgQUGgIFAQKAgU/JglWFAQKAgUBAoChXmdxVYWFAQKAgWBgqNGsKAgUBAoCBQE\n",
       "Cr4GHCwoCBQECgKFf4jrjN/mS6F7AAAAAElFTkSuQmCC\n",
       "\" transform=\"translate(2161, 47)\"/>\n",
       "</g>\n",
       "<path clip-path=\"url(#clip120)\" d=\"M2269.43 1281.91 L2277.07 1281.91 L2277.07 1255.54 L2268.76 1257.21 L2268.76 1252.95 L2277.02 1251.28 L2281.7 1251.28 L2281.7 1281.91 L2289.33 1281.91 L2289.33 1285.84 L2269.43 1285.84 L2269.43 1281.91 Z\" fill=\"#f8f8f2\" fill-rule=\"nonzero\" fill-opacity=\"1\" /><path clip-path=\"url(#clip120)\" d=\"M2308.78 1254.36 Q2305.17 1254.36 2303.34 1257.93 Q2301.53 1261.47 2301.53 1268.6 Q2301.53 1275.7 2303.34 1279.27 Q2305.17 1282.81 2308.78 1282.81 Q2312.41 1282.81 2314.22 1279.27 Q2316.05 1275.7 2316.05 1268.6 Q2316.05 1261.47 2314.22 1257.93 Q2312.41 1254.36 2308.78 1254.36 M2308.78 1250.66 Q2314.59 1250.66 2317.64 1255.26 Q2320.72 1259.85 2320.72 1268.6 Q2320.72 1277.32 2317.64 1281.93 Q2314.59 1286.51 2308.78 1286.51 Q2302.97 1286.51 2299.89 1281.93 Q2296.83 1277.32 2296.83 1268.6 Q2296.83 1259.85 2299.89 1255.26 Q2302.97 1250.66 2308.78 1250.66 Z\" fill=\"#f8f8f2\" fill-rule=\"nonzero\" fill-opacity=\"1\" /><path clip-path=\"url(#clip120)\" d=\"M2338.94 1254.36 Q2335.33 1254.36 2333.5 1257.93 Q2331.7 1261.47 2331.7 1268.6 Q2331.7 1275.7 2333.5 1279.27 Q2335.33 1282.81 2338.94 1282.81 Q2342.57 1282.81 2344.38 1279.27 Q2346.21 1275.7 2346.21 1268.6 Q2346.21 1261.47 2344.38 1257.93 Q2342.57 1254.36 2338.94 1254.36 M2338.94 1250.66 Q2344.75 1250.66 2347.81 1255.26 Q2350.89 1259.85 2350.89 1268.6 Q2350.89 1277.32 2347.81 1281.93 Q2344.75 1286.51 2338.94 1286.51 Q2333.13 1286.51 2330.05 1281.93 Q2327 1277.32 2327 1268.6 Q2327 1259.85 2330.05 1255.26 Q2333.13 1250.66 2338.94 1250.66 Z\" fill=\"#f8f8f2\" fill-rule=\"nonzero\" fill-opacity=\"1\" /><polyline clip-path=\"url(#clip120)\" style=\"stroke:#000000; stroke-linecap:round; stroke-linejoin:round; stroke-width:4; stroke-opacity:1; fill:none\" points=\"2232.76,1272.19 2256.76,1272.19 \"/>\n",
       "<path clip-path=\"url(#clip120)\" d=\"M2274.38 1065.48 L2290.7 1065.48 L2290.7 1069.42 L2268.76 1069.42 L2268.76 1065.48 Q2271.42 1062.73 2276 1058.1 Q2280.61 1053.45 2281.79 1052.11 Q2284.03 1049.58 2284.91 1047.85 Q2285.82 1046.09 2285.82 1044.4 Q2285.82 1041.64 2283.87 1039.91 Q2281.95 1038.17 2278.85 1038.17 Q2276.65 1038.17 2274.2 1038.93 Q2271.77 1039.7 2268.99 1041.25 L2268.99 1036.53 Q2271.81 1035.39 2274.27 1034.81 Q2276.72 1034.24 2278.76 1034.24 Q2284.13 1034.24 2287.32 1036.92 Q2290.52 1039.61 2290.52 1044.1 Q2290.52 1046.23 2289.7 1048.15 Q2288.92 1050.05 2286.81 1052.64 Q2286.23 1053.31 2283.13 1056.53 Q2280.03 1059.72 2274.38 1065.48 Z\" fill=\"#f8f8f2\" fill-rule=\"nonzero\" fill-opacity=\"1\" /><path clip-path=\"url(#clip120)\" d=\"M2310.51 1037.94 Q2306.9 1037.94 2305.08 1041.5 Q2303.27 1045.05 2303.27 1052.17 Q2303.27 1059.28 2305.08 1062.85 Q2306.9 1066.39 2310.51 1066.39 Q2314.15 1066.39 2315.95 1062.85 Q2317.78 1059.28 2317.78 1052.17 Q2317.78 1045.05 2315.95 1041.5 Q2314.15 1037.94 2310.51 1037.94 M2310.51 1034.24 Q2316.33 1034.24 2319.38 1038.84 Q2322.46 1043.42 2322.46 1052.17 Q2322.46 1060.9 2319.38 1065.51 Q2316.33 1070.09 2310.51 1070.09 Q2304.7 1070.09 2301.63 1065.51 Q2298.57 1060.9 2298.57 1052.17 Q2298.57 1043.42 2301.63 1038.84 Q2304.7 1034.24 2310.51 1034.24 Z\" fill=\"#f8f8f2\" fill-rule=\"nonzero\" fill-opacity=\"1\" /><path clip-path=\"url(#clip120)\" d=\"M2340.68 1037.94 Q2337.07 1037.94 2335.24 1041.5 Q2333.43 1045.05 2333.43 1052.17 Q2333.43 1059.28 2335.24 1062.85 Q2337.07 1066.39 2340.68 1066.39 Q2344.31 1066.39 2346.12 1062.85 Q2347.95 1059.28 2347.95 1052.17 Q2347.95 1045.05 2346.12 1041.5 Q2344.31 1037.94 2340.68 1037.94 M2340.68 1034.24 Q2346.49 1034.24 2349.54 1038.84 Q2352.62 1043.42 2352.62 1052.17 Q2352.62 1060.9 2349.54 1065.51 Q2346.49 1070.09 2340.68 1070.09 Q2334.87 1070.09 2331.79 1065.51 Q2328.73 1060.9 2328.73 1052.17 Q2328.73 1043.42 2331.79 1038.84 Q2334.87 1034.24 2340.68 1034.24 Z\" fill=\"#f8f8f2\" fill-rule=\"nonzero\" fill-opacity=\"1\" /><polyline clip-path=\"url(#clip120)\" style=\"stroke:#000000; stroke-linecap:round; stroke-linejoin:round; stroke-width:4; stroke-opacity:1; fill:none\" points=\"2232.76,1055.77 2256.76,1055.77 \"/>\n",
       "<path clip-path=\"url(#clip120)\" d=\"M2284.38 834.364 Q2287.74 835.082 2289.61 837.35 Q2291.51 839.619 2291.51 842.952 Q2291.51 848.068 2287.99 850.869 Q2284.47 853.67 2277.99 853.67 Q2275.82 853.67 2273.5 853.23 Q2271.21 852.813 2268.76 851.957 L2268.76 847.443 Q2270.7 848.577 2273.02 849.156 Q2275.33 849.735 2277.85 849.735 Q2282.25 849.735 2284.54 847.998 Q2286.86 846.262 2286.86 842.952 Q2286.86 839.897 2284.7 838.184 Q2282.58 836.448 2278.76 836.448 L2274.73 836.448 L2274.73 832.605 L2278.94 832.605 Q2282.39 832.605 2284.22 831.239 Q2286.05 829.85 2286.05 827.258 Q2286.05 824.596 2284.15 823.184 Q2282.27 821.749 2278.76 821.749 Q2276.83 821.749 2274.64 822.165 Q2272.44 822.582 2269.8 823.462 L2269.8 819.295 Q2272.46 818.554 2274.77 818.184 Q2277.11 817.813 2279.17 817.813 Q2284.5 817.813 2287.6 820.244 Q2290.7 822.651 2290.7 826.772 Q2290.7 829.642 2289.06 831.633 Q2287.41 833.6 2284.38 834.364 Z\" fill=\"#f8f8f2\" fill-rule=\"nonzero\" fill-opacity=\"1\" /><path clip-path=\"url(#clip120)\" d=\"M2310.38 821.517 Q2306.76 821.517 2304.94 825.082 Q2303.13 828.624 2303.13 835.753 Q2303.13 842.86 2304.94 846.424 Q2306.76 849.966 2310.38 849.966 Q2314.01 849.966 2315.82 846.424 Q2317.64 842.86 2317.64 835.753 Q2317.64 828.624 2315.82 825.082 Q2314.01 821.517 2310.38 821.517 M2310.38 817.813 Q2316.19 817.813 2319.24 822.42 Q2322.32 827.003 2322.32 835.753 Q2322.32 844.48 2319.24 849.086 Q2316.19 853.67 2310.38 853.67 Q2304.57 853.67 2301.49 849.086 Q2298.43 844.48 2298.43 835.753 Q2298.43 827.003 2301.49 822.42 Q2304.57 817.813 2310.38 817.813 Z\" fill=\"#f8f8f2\" fill-rule=\"nonzero\" fill-opacity=\"1\" /><path clip-path=\"url(#clip120)\" d=\"M2340.54 821.517 Q2336.93 821.517 2335.1 825.082 Q2333.29 828.624 2333.29 835.753 Q2333.29 842.86 2335.1 846.424 Q2336.93 849.966 2340.54 849.966 Q2344.17 849.966 2345.98 846.424 Q2347.81 842.86 2347.81 835.753 Q2347.81 828.624 2345.98 825.082 Q2344.17 821.517 2340.54 821.517 M2340.54 817.813 Q2346.35 817.813 2349.4 822.42 Q2352.48 827.003 2352.48 835.753 Q2352.48 844.48 2349.4 849.086 Q2346.35 853.67 2340.54 853.67 Q2334.73 853.67 2331.65 849.086 Q2328.59 844.48 2328.59 835.753 Q2328.59 827.003 2331.65 822.42 Q2334.73 817.813 2340.54 817.813 Z\" fill=\"#f8f8f2\" fill-rule=\"nonzero\" fill-opacity=\"1\" /><polyline clip-path=\"url(#clip120)\" style=\"stroke:#000000; stroke-linecap:round; stroke-linejoin:round; stroke-width:4; stroke-opacity:1; fill:none\" points=\"2232.76,839.347 2256.76,839.347 \"/>\n",
       "<path clip-path=\"url(#clip120)\" d=\"M2284.36 606.091 L2272.55 624.54 L2284.36 624.54 L2284.36 606.091 M2283.13 602.017 L2289.01 602.017 L2289.01 624.54 L2293.94 624.54 L2293.94 628.429 L2289.01 628.429 L2289.01 636.577 L2284.36 636.577 L2284.36 628.429 L2268.76 628.429 L2268.76 623.915 L2283.13 602.017 Z\" fill=\"#f8f8f2\" fill-rule=\"nonzero\" fill-opacity=\"1\" /><path clip-path=\"url(#clip120)\" d=\"M2311.67 605.095 Q2308.06 605.095 2306.23 608.66 Q2304.43 612.202 2304.43 619.332 Q2304.43 626.438 2306.23 630.003 Q2308.06 633.544 2311.67 633.544 Q2315.31 633.544 2317.11 630.003 Q2318.94 626.438 2318.94 619.332 Q2318.94 612.202 2317.11 608.66 Q2315.31 605.095 2311.67 605.095 M2311.67 601.392 Q2317.48 601.392 2320.54 605.998 Q2323.62 610.582 2323.62 619.332 Q2323.62 628.058 2320.54 632.665 Q2317.48 637.248 2311.67 637.248 Q2305.86 637.248 2302.78 632.665 Q2299.73 628.058 2299.73 619.332 Q2299.73 610.582 2302.78 605.998 Q2305.86 601.392 2311.67 601.392 Z\" fill=\"#f8f8f2\" fill-rule=\"nonzero\" fill-opacity=\"1\" /><path clip-path=\"url(#clip120)\" d=\"M2341.83 605.095 Q2338.22 605.095 2336.39 608.66 Q2334.59 612.202 2334.59 619.332 Q2334.59 626.438 2336.39 630.003 Q2338.22 633.544 2341.83 633.544 Q2345.47 633.544 2347.27 630.003 Q2349.1 626.438 2349.1 619.332 Q2349.1 612.202 2347.27 608.66 Q2345.47 605.095 2341.83 605.095 M2341.83 601.392 Q2347.64 601.392 2350.7 605.998 Q2353.78 610.582 2353.78 619.332 Q2353.78 628.058 2350.7 632.665 Q2347.64 637.248 2341.83 637.248 Q2336.02 637.248 2332.95 632.665 Q2329.89 628.058 2329.89 619.332 Q2329.89 610.582 2332.95 605.998 Q2336.02 601.392 2341.83 601.392 Z\" fill=\"#f8f8f2\" fill-rule=\"nonzero\" fill-opacity=\"1\" /><polyline clip-path=\"url(#clip120)\" style=\"stroke:#000000; stroke-linecap:round; stroke-linejoin:round; stroke-width:4; stroke-opacity:1; fill:none\" points=\"2232.76,622.926 2256.76,622.926 \"/>\n",
       "<path clip-path=\"url(#clip120)\" d=\"M2270.21 385.595 L2288.57 385.595 L2288.57 389.53 L2274.5 389.53 L2274.5 398.003 Q2275.52 397.655 2276.53 397.493 Q2277.55 397.308 2278.57 397.308 Q2284.36 397.308 2287.74 400.479 Q2291.12 403.651 2291.12 409.067 Q2291.12 414.646 2287.64 417.748 Q2284.17 420.826 2277.85 420.826 Q2275.68 420.826 2273.41 420.456 Q2271.16 420.086 2268.76 419.345 L2268.76 414.646 Q2270.84 415.78 2273.06 416.336 Q2275.28 416.891 2277.76 416.891 Q2281.77 416.891 2284.1 414.785 Q2286.44 412.678 2286.44 409.067 Q2286.44 405.456 2284.1 403.35 Q2281.77 401.243 2277.76 401.243 Q2275.89 401.243 2274.01 401.66 Q2272.16 402.077 2270.21 402.956 L2270.21 385.595 Z\" fill=\"#f8f8f2\" fill-rule=\"nonzero\" fill-opacity=\"1\" /><path clip-path=\"url(#clip120)\" d=\"M2310.33 388.674 Q2306.72 388.674 2304.89 392.239 Q2303.08 395.78 2303.08 402.91 Q2303.08 410.016 2304.89 413.581 Q2306.72 417.123 2310.33 417.123 Q2313.96 417.123 2315.77 413.581 Q2317.6 410.016 2317.6 402.91 Q2317.6 395.78 2315.77 392.239 Q2313.96 388.674 2310.33 388.674 M2310.33 384.97 Q2316.14 384.97 2319.2 389.577 Q2322.27 394.16 2322.27 402.91 Q2322.27 411.637 2319.2 416.243 Q2316.14 420.826 2310.33 420.826 Q2304.52 420.826 2301.44 416.243 Q2298.39 411.637 2298.39 402.91 Q2298.39 394.16 2301.44 389.577 Q2304.52 384.97 2310.33 384.97 Z\" fill=\"#f8f8f2\" fill-rule=\"nonzero\" fill-opacity=\"1\" /><path clip-path=\"url(#clip120)\" d=\"M2340.49 388.674 Q2336.88 388.674 2335.05 392.239 Q2333.25 395.78 2333.25 402.91 Q2333.25 410.016 2335.05 413.581 Q2336.88 417.123 2340.49 417.123 Q2344.13 417.123 2345.93 413.581 Q2347.76 410.016 2347.76 402.91 Q2347.76 395.78 2345.93 392.239 Q2344.13 388.674 2340.49 388.674 M2340.49 384.97 Q2346.3 384.97 2349.36 389.577 Q2352.44 394.16 2352.44 402.91 Q2352.44 411.637 2349.36 416.243 Q2346.3 420.826 2340.49 420.826 Q2334.68 420.826 2331.6 416.243 Q2328.55 411.637 2328.55 402.91 Q2328.55 394.16 2331.6 389.577 Q2334.68 384.97 2340.49 384.97 Z\" fill=\"#f8f8f2\" fill-rule=\"nonzero\" fill-opacity=\"1\" /><polyline clip-path=\"url(#clip120)\" style=\"stroke:#000000; stroke-linecap:round; stroke-linejoin:round; stroke-width:4; stroke-opacity:1; fill:none\" points=\"2232.76,406.504 2256.76,406.504 \"/>\n",
       "<path clip-path=\"url(#clip120)\" d=\"M2281.09 184.59 Q2277.95 184.59 2276.09 186.743 Q2274.27 188.896 2274.27 192.646 Q2274.27 196.372 2276.09 198.548 Q2277.95 200.701 2281.09 200.701 Q2284.24 200.701 2286.07 198.548 Q2287.92 196.372 2287.92 192.646 Q2287.92 188.896 2286.07 186.743 Q2284.24 184.59 2281.09 184.59 M2290.38 169.937 L2290.38 174.197 Q2288.62 173.363 2286.81 172.924 Q2285.03 172.484 2283.27 172.484 Q2278.64 172.484 2276.19 175.609 Q2273.76 178.734 2273.41 185.053 Q2274.77 183.039 2276.83 181.974 Q2278.89 180.886 2281.37 180.886 Q2286.58 180.886 2289.59 184.058 Q2292.62 187.206 2292.62 192.646 Q2292.62 197.97 2289.47 201.187 Q2286.33 204.405 2281.09 204.405 Q2275.1 204.405 2271.93 199.822 Q2268.76 195.215 2268.76 186.488 Q2268.76 178.294 2272.64 173.433 Q2276.53 168.549 2283.08 168.549 Q2284.84 168.549 2286.63 168.896 Q2288.43 169.243 2290.38 169.937 Z\" fill=\"#f8f8f2\" fill-rule=\"nonzero\" fill-opacity=\"1\" /><path clip-path=\"url(#clip120)\" d=\"M2310.68 172.252 Q2307.07 172.252 2305.24 175.817 Q2303.43 179.359 2303.43 186.488 Q2303.43 193.595 2305.24 197.16 Q2307.07 200.701 2310.68 200.701 Q2314.31 200.701 2316.12 197.16 Q2317.95 193.595 2317.95 186.488 Q2317.95 179.359 2316.12 175.817 Q2314.31 172.252 2310.68 172.252 M2310.68 168.549 Q2316.49 168.549 2319.54 173.155 Q2322.62 177.738 2322.62 186.488 Q2322.62 195.215 2319.54 199.822 Q2316.49 204.405 2310.68 204.405 Q2304.87 204.405 2301.79 199.822 Q2298.73 195.215 2298.73 186.488 Q2298.73 177.738 2301.79 173.155 Q2304.87 168.549 2310.68 168.549 Z\" fill=\"#f8f8f2\" fill-rule=\"nonzero\" fill-opacity=\"1\" /><path clip-path=\"url(#clip120)\" d=\"M2340.84 172.252 Q2337.23 172.252 2335.4 175.817 Q2333.59 179.359 2333.59 186.488 Q2333.59 193.595 2335.4 197.16 Q2337.23 200.701 2340.84 200.701 Q2344.47 200.701 2346.28 197.16 Q2348.11 193.595 2348.11 186.488 Q2348.11 179.359 2346.28 175.817 Q2344.47 172.252 2340.84 172.252 M2340.84 168.549 Q2346.65 168.549 2349.7 173.155 Q2352.78 177.738 2352.78 186.488 Q2352.78 195.215 2349.7 199.822 Q2346.65 204.405 2340.84 204.405 Q2335.03 204.405 2331.95 199.822 Q2328.89 195.215 2328.89 186.488 Q2328.89 177.738 2331.95 173.155 Q2335.03 168.549 2340.84 168.549 Z\" fill=\"#f8f8f2\" fill-rule=\"nonzero\" fill-opacity=\"1\" /><polyline clip-path=\"url(#clip120)\" style=\"stroke:#000000; stroke-linecap:round; stroke-linejoin:round; stroke-width:4; stroke-opacity:1; fill:none\" points=\"2232.76,190.082 2256.76,190.082 \"/>\n",
       "<polyline clip-path=\"url(#clip120)\" style=\"stroke:#000000; stroke-linecap:round; stroke-linejoin:round; stroke-width:4; stroke-opacity:1; fill:none\" points=\"2232.76,1486.45 2232.76,47.2441 \"/>\n",
       "</svg>\n"
      ]
     },
     "execution_count": 225,
     "metadata": {},
     "output_type": "execute_result"
    }
   ],
   "source": [
    "x = randn(10^5)\n",
    "y = randn(10^5)\n",
    "histogram2d(x, y, bins=(64, 64))"
   ]
  },
  {
   "cell_type": "markdown",
   "metadata": {},
   "source": [
    "### Importing Data\n",
    "Bring data from external files into ${\\tt Julia}$."
   ]
  },
  {
   "cell_type": "markdown",
   "metadata": {},
   "source": [
    "Data is typically stored in files, such as _CSV_ or _JSON_ files. In order to train and test machine learning models, the data needs to be loaded into the program. Additionally, the results of the training and testing process, such as model weights and performance metrics, also need to be saved to files. Therefore, the ability to manipulate files is essential for loading and saving data and model information in the machine learning process."
   ]
  },
  {
   "cell_type": "code",
   "execution_count": 226,
   "metadata": {},
   "outputs": [
    {
     "name": "stderr",
     "output_type": "stream",
     "text": [
      "\u001b[32m\u001b[1m   Resolving\u001b[22m\u001b[39m package versions...\n",
      "\u001b[32m\u001b[1m  No Changes\u001b[22m\u001b[39m to `~/Work/git-repos/AI-ML-DL/jlai/Codes/Julia/Part-1/Project.toml`\n",
      "\u001b[32m\u001b[1m  No Changes\u001b[22m\u001b[39m to `~/Work/git-repos/AI-ML-DL/jlai/Codes/Julia/Part-1/Manifest.toml`\n",
      "\u001b[32m\u001b[1m   Resolving\u001b[22m\u001b[39m package versions...\n",
      "\u001b[32m\u001b[1m  No Changes\u001b[22m\u001b[39m to `~/Work/git-repos/AI-ML-DL/jlai/Codes/Julia/Part-1/Project.toml`\n",
      "\u001b[32m\u001b[1m  No Changes\u001b[22m\u001b[39m to `~/Work/git-repos/AI-ML-DL/jlai/Codes/Julia/Part-1/Manifest.toml`\n"
     ]
    }
   ],
   "source": [
    "using Pkg\n",
    "Pkg.add(\"DataFrames\")\n",
    "Pkg.add(\"CSV\")"
   ]
  },
  {
   "cell_type": "code",
   "execution_count": 227,
   "metadata": {},
   "outputs": [
    {
     "data": {
      "text/latex": [
       "Create new CSV file\n",
       "\n"
      ],
      "text/markdown": [
       "Create new CSV file\n"
      ],
      "text/plain": [
       "  Create new CSV file"
      ]
     },
     "execution_count": 227,
     "metadata": {},
     "output_type": "execute_result"
    }
   ],
   "source": [
    "md\"Create new CSV file\""
   ]
  },
  {
   "cell_type": "code",
   "execution_count": 228,
   "metadata": {},
   "outputs": [],
   "source": [
    "using CSV, DataFrames"
   ]
  },
  {
   "cell_type": "code",
   "execution_count": 229,
   "metadata": {},
   "outputs": [
    {
     "data": {
      "text/latex": [
       "\\texttt{touch} command allows to create a file if it doesn't exist. Otherwise, it changes the file timestamps.\n",
       "\n"
      ],
      "text/markdown": [
       "`touch` command allows to create a file if it doesn't exist. Otherwise, it changes the file timestamps.\n"
      ],
      "text/plain": [
       "  \u001b[36mtouch\u001b[39m command allows to create a file if it doesn't exist. Otherwise, it\n",
       "  changes the file timestamps."
      ]
     },
     "execution_count": 229,
     "metadata": {},
     "output_type": "execute_result"
    }
   ],
   "source": [
    "md\"`touch` command allows to create a file if it doesn't exist. Otherwise, it changes the file timestamps.\""
   ]
  },
  {
   "cell_type": "code",
   "execution_count": 230,
   "metadata": {},
   "outputs": [
    {
     "data": {
      "text/plain": [
       "\"test-file.csv\""
      ]
     },
     "execution_count": 230,
     "metadata": {},
     "output_type": "execute_result"
    }
   ],
   "source": [
    "touch(\"test-file.csv\")"
   ]
  },
  {
   "cell_type": "code",
   "execution_count": 231,
   "metadata": {},
   "outputs": [
    {
     "name": "stdout",
     "output_type": "stream",
     "text": [
      "-rw-rw-r-- 1 mhamdi mhamdi 66 Dec 22 15:12 test-file.csv\n"
     ]
    }
   ],
   "source": [
    ";ls -la test-file.csv"
   ]
  },
  {
   "cell_type": "code",
   "execution_count": 232,
   "metadata": {},
   "outputs": [
    {
     "data": {
      "text/plain": [
       "IOStream(<file test-file.csv>)"
      ]
     },
     "execution_count": 232,
     "metadata": {},
     "output_type": "execute_result"
    }
   ],
   "source": [
    "file = open(\"test-file.csv\", \"w\")"
   ]
  },
  {
   "cell_type": "code",
   "execution_count": 233,
   "metadata": {},
   "outputs": [
    {
     "data": {
      "text/latex": [
       "Let's create some imaginary data\n",
       "\n"
      ],
      "text/markdown": [
       "Let's create some imaginary data\n"
      ],
      "text/plain": [
       "  Let's create some imaginary data"
      ]
     },
     "execution_count": 233,
     "metadata": {},
     "output_type": "execute_result"
    }
   ],
   "source": [
    "md\"Let's create some imaginary data\""
   ]
  },
  {
   "cell_type": "code",
   "execution_count": 234,
   "metadata": {},
   "outputs": [
    {
     "data": {
      "text/html": [
       "<div><div style = \"float: left;\"><span>4×3 DataFrame</span></div><div style = \"clear: both;\"></div></div><div class = \"data-frame\" style = \"overflow-x: scroll;\"><table class = \"data-frame\" style = \"margin-bottom: 6px;\"><thead><tr class = \"header\"><th class = \"rowNumber\" style = \"font-weight: bold; text-align: right;\">Row</th><th style = \"text-align: left;\">Student</th><th style = \"text-align: left;\">Id</th><th style = \"text-align: left;\">Marks</th></tr><tr class = \"subheader headerLastRow\"><th class = \"rowNumber\" style = \"font-weight: bold; text-align: right;\"></th><th title = \"String\" style = \"text-align: left;\">String</th><th title = \"Int64\" style = \"text-align: left;\">Int64</th><th title = \"Float64\" style = \"text-align: left;\">Float64</th></tr></thead><tbody><tr><td class = \"rowNumber\" style = \"font-weight: bold; text-align: right;\">1</td><td style = \"text-align: left;\">Mohamed</td><td style = \"text-align: right;\">1</td><td style = \"text-align: right;\">18.0</td></tr><tr><td class = \"rowNumber\" style = \"font-weight: bold; text-align: right;\">2</td><td style = \"text-align: left;\">Aymen</td><td style = \"text-align: right;\">2</td><td style = \"text-align: right;\">7.0</td></tr><tr><td class = \"rowNumber\" style = \"font-weight: bold; text-align: right;\">3</td><td style = \"text-align: left;\">Rami</td><td style = \"text-align: right;\">3</td><td style = \"text-align: right;\">12.0</td></tr><tr><td class = \"rowNumber\" style = \"font-weight: bold; text-align: right;\">4</td><td style = \"text-align: left;\">Ala</td><td style = \"text-align: right;\">4</td><td style = \"text-align: right;\">5.5</td></tr></tbody></table></div>"
      ],
      "text/latex": [
       "\\begin{tabular}{r|ccc}\n",
       "\t& Student & Id & Marks\\\\\n",
       "\t\\hline\n",
       "\t& String & Int64 & Float64\\\\\n",
       "\t\\hline\n",
       "\t1 & Mohamed & 1 & 18.0 \\\\\n",
       "\t2 & Aymen & 2 & 7.0 \\\\\n",
       "\t3 & Rami & 3 & 12.0 \\\\\n",
       "\t4 & Ala & 4 & 5.5 \\\\\n",
       "\\end{tabular}\n"
      ],
      "text/plain": [
       "\u001b[1m4×3 DataFrame\u001b[0m\n",
       "\u001b[1m Row \u001b[0m│\u001b[1m Student \u001b[0m\u001b[1m Id    \u001b[0m\u001b[1m Marks   \u001b[0m\n",
       "     │\u001b[90m String  \u001b[0m\u001b[90m Int64 \u001b[0m\u001b[90m Float64 \u001b[0m\n",
       "─────┼─────────────────────────\n",
       "   1 │ Mohamed      1     18.0\n",
       "   2 │ Aymen        2      7.0\n",
       "   3 │ Rami         3     12.0\n",
       "   4 │ Ala          4      5.5"
      ]
     },
     "execution_count": 234,
     "metadata": {},
     "output_type": "execute_result"
    }
   ],
   "source": [
    "df = DataFrame(\n",
    "        Student = [\"Mohamed\", \"Aymen\", \"Rami\", \"Ala\"],\n",
    "        Id = [1, 2, 3, 4],\n",
    "        Marks = [18, 7, 12, 5.5]\n",
    "        )"
   ]
  },
  {
   "cell_type": "code",
   "execution_count": 235,
   "metadata": {},
   "outputs": [
    {
     "data": {
      "text/latex": [
       "Write \\texttt{df} to file\n",
       "\n"
      ],
      "text/markdown": [
       "Write `df` to file\n"
      ],
      "text/plain": [
       "  Write \u001b[36mdf\u001b[39m to file"
      ]
     },
     "execution_count": 235,
     "metadata": {},
     "output_type": "execute_result"
    }
   ],
   "source": [
    "md\"Write `df` to file\""
   ]
  },
  {
   "cell_type": "code",
   "execution_count": 236,
   "metadata": {},
   "outputs": [
    {
     "data": {
      "text/plain": [
       "\"test-file.csv\""
      ]
     },
     "execution_count": 236,
     "metadata": {},
     "output_type": "execute_result"
    }
   ],
   "source": [
    "CSV.write(\"test-file.csv\", df)"
   ]
  },
  {
   "cell_type": "code",
   "execution_count": 237,
   "metadata": {},
   "outputs": [
    {
     "data": {
      "text/latex": [
       "Open the CSV file and add some contents. See what happens when we load it again.\n",
       "\n"
      ],
      "text/markdown": [
       "Open the CSV file and add some contents. See what happens when we load it again.\n"
      ],
      "text/plain": [
       "  Open the CSV file and add some contents. See what happens when we load it\n",
       "  again."
      ]
     },
     "execution_count": 237,
     "metadata": {},
     "output_type": "execute_result"
    }
   ],
   "source": [
    "md\"Open the CSV file and add some contents. See what happens when we load it again.\""
   ]
  },
  {
   "cell_type": "code",
   "execution_count": 238,
   "metadata": {},
   "outputs": [
    {
     "data": {
      "text/html": [
       "<div><div style = \"float: left;\"><span>4×3 DataFrame</span></div><div style = \"clear: both;\"></div></div><div class = \"data-frame\" style = \"overflow-x: scroll;\"><table class = \"data-frame\" style = \"margin-bottom: 6px;\"><thead><tr class = \"header\"><th class = \"rowNumber\" style = \"font-weight: bold; text-align: right;\">Row</th><th style = \"text-align: left;\">Student</th><th style = \"text-align: left;\">Id</th><th style = \"text-align: left;\">Marks</th></tr><tr class = \"subheader headerLastRow\"><th class = \"rowNumber\" style = \"font-weight: bold; text-align: right;\"></th><th title = \"String7\" style = \"text-align: left;\">String7</th><th title = \"Int64\" style = \"text-align: left;\">Int64</th><th title = \"Float64\" style = \"text-align: left;\">Float64</th></tr></thead><tbody><tr><td class = \"rowNumber\" style = \"font-weight: bold; text-align: right;\">1</td><td style = \"text-align: left;\">Mohamed</td><td style = \"text-align: right;\">1</td><td style = \"text-align: right;\">18.0</td></tr><tr><td class = \"rowNumber\" style = \"font-weight: bold; text-align: right;\">2</td><td style = \"text-align: left;\">Aymen</td><td style = \"text-align: right;\">2</td><td style = \"text-align: right;\">7.0</td></tr><tr><td class = \"rowNumber\" style = \"font-weight: bold; text-align: right;\">3</td><td style = \"text-align: left;\">Rami</td><td style = \"text-align: right;\">3</td><td style = \"text-align: right;\">12.0</td></tr><tr><td class = \"rowNumber\" style = \"font-weight: bold; text-align: right;\">4</td><td style = \"text-align: left;\">Ala</td><td style = \"text-align: right;\">4</td><td style = \"text-align: right;\">5.5</td></tr></tbody></table></div>"
      ],
      "text/latex": [
       "\\begin{tabular}{r|ccc}\n",
       "\t& Student & Id & Marks\\\\\n",
       "\t\\hline\n",
       "\t& String7 & Int64 & Float64\\\\\n",
       "\t\\hline\n",
       "\t1 & Mohamed & 1 & 18.0 \\\\\n",
       "\t2 & Aymen & 2 & 7.0 \\\\\n",
       "\t3 & Rami & 3 & 12.0 \\\\\n",
       "\t4 & Ala & 4 & 5.5 \\\\\n",
       "\\end{tabular}\n"
      ],
      "text/plain": [
       "\u001b[1m4×3 DataFrame\u001b[0m\n",
       "\u001b[1m Row \u001b[0m│\u001b[1m Student \u001b[0m\u001b[1m Id    \u001b[0m\u001b[1m Marks   \u001b[0m\n",
       "     │\u001b[90m String7 \u001b[0m\u001b[90m Int64 \u001b[0m\u001b[90m Float64 \u001b[0m\n",
       "─────┼─────────────────────────\n",
       "   1 │ Mohamed      1     18.0\n",
       "   2 │ Aymen        2      7.0\n",
       "   3 │ Rami         3     12.0\n",
       "   4 │ Ala          4      5.5"
      ]
     },
     "execution_count": 238,
     "metadata": {},
     "output_type": "execute_result"
    }
   ],
   "source": [
    "CSV.read(\"test-file.csv\", DataFrame)"
   ]
  },
  {
   "cell_type": "markdown",
   "metadata": {},
   "source": [
    "### Logical Arrays\n",
    "Use logical expressions to help extracting elements of interest from ${\\tt Julia}$ arrays."
   ]
  },
  {
   "cell_type": "code",
   "execution_count": 239,
   "metadata": {},
   "outputs": [
    {
     "name": "stdout",
     "output_type": "stream",
     "text": [
      "ComplexF64[1.0 + 0.0im, 2.0 + 0.0im, -5.0 + 0.0im, 7.2 + 0.0im, 0.0 + 3.0im]\n"
     ]
    },
    {
     "data": {
      "text/plain": [
       "Vector{ComplexF64}\u001b[90m (alias for \u001b[39m\u001b[90mArray{Complex{Float64}, 1}\u001b[39m\u001b[90m)\u001b[39m"
      ]
     },
     "execution_count": 239,
     "metadata": {},
     "output_type": "execute_result"
    }
   ],
   "source": [
    "x = [1, 2, -5, 7.2, 3im]\n",
    "println(x)\n",
    "typeof(x)"
   ]
  },
  {
   "cell_type": "code",
   "execution_count": 240,
   "metadata": {},
   "outputs": [
    {
     "name": "stdout",
     "output_type": "stream",
     "text": [
      "ComplexF64[2.0 + 0.0im, 0.0 + 3.0im]"
     ]
    }
   ],
   "source": [
    "idx = [false, true, false, false, true]\n",
    "print(x[idx])"
   ]
  },
  {
   "cell_type": "code",
   "execution_count": 241,
   "metadata": {},
   "outputs": [
    {
     "data": {
      "text/plain": [
       "5×4 Matrix{Float64}:\n",
       " 1.013e-320   0.0           0.0           6.73161e-310\n",
       " 8.3463e-320  8.04083e-317  0.0           8.46618e-315\n",
       " 2.5e-323     2.0237e-320   8.57142e-315  6.73182e-310\n",
       " 4.94e-321    2.0237e-320   6.73182e-310  8.39058e-315\n",
       " 4.94e-321    4.0e-323      8.46618e-315  6.73182e-310"
      ]
     },
     "execution_count": 241,
     "metadata": {},
     "output_type": "execute_result"
    }
   ],
   "source": [
    "M = Array{Float64, 2}(undef, 5, 4)"
   ]
  },
  {
   "cell_type": "code",
   "execution_count": 242,
   "metadata": {},
   "outputs": [],
   "source": [
    "row_idx = [true, false, true, true, false];\n",
    "col_idx = [false, true, true, false];"
   ]
  },
  {
   "cell_type": "code",
   "execution_count": 243,
   "metadata": {},
   "outputs": [
    {
     "data": {
      "text/plain": [
       "3×4 Matrix{Float64}:\n",
       " 1.013e-320  0.0          0.0           6.73161e-310\n",
       " 2.5e-323    2.0237e-320  8.57142e-315  6.73182e-310\n",
       " 4.94e-321   2.0237e-320  6.73182e-310  8.39058e-315"
      ]
     },
     "execution_count": 243,
     "metadata": {},
     "output_type": "execute_result"
    }
   ],
   "source": [
    "M[row_idx, :]"
   ]
  },
  {
   "cell_type": "code",
   "execution_count": 244,
   "metadata": {},
   "outputs": [
    {
     "data": {
      "text/plain": [
       "5×2 Matrix{Float64}:\n",
       " 0.0           0.0\n",
       " 8.04083e-317  0.0\n",
       " 2.0237e-320   8.57142e-315\n",
       " 2.0237e-320   6.73182e-310\n",
       " 4.0e-323      8.46618e-315"
      ]
     },
     "execution_count": 244,
     "metadata": {},
     "output_type": "execute_result"
    }
   ],
   "source": [
    "M[:, col_idx]"
   ]
  },
  {
   "cell_type": "code",
   "execution_count": 245,
   "metadata": {},
   "outputs": [
    {
     "data": {
      "text/plain": [
       "3×2 Matrix{Float64}:\n",
       " 0.0          0.0\n",
       " 2.0237e-320  8.57142e-315\n",
       " 2.0237e-320  6.73182e-310"
      ]
     },
     "execution_count": 245,
     "metadata": {},
     "output_type": "execute_result"
    }
   ],
   "source": [
    "M[row_idx, col_idx]"
   ]
  },
  {
   "cell_type": "markdown",
   "metadata": {},
   "source": [
    "### Programming\n",
    "Write programs that execute code based on some condition."
   ]
  },
  {
   "cell_type": "code",
   "execution_count": 246,
   "metadata": {},
   "outputs": [
    {
     "data": {
      "text/latex": [
       "\\textbf{Conditional Evaluation}\n",
       "\n"
      ],
      "text/markdown": [
       "**Conditional Evaluation**\n"
      ],
      "text/plain": [
       "  \u001b[1mConditional Evaluation\u001b[22m"
      ]
     },
     "execution_count": 246,
     "metadata": {},
     "output_type": "execute_result"
    }
   ],
   "source": [
    "md\"**Conditional Evaluation**\""
   ]
  },
  {
   "cell_type": "code",
   "execution_count": 247,
   "metadata": {},
   "outputs": [
    {
     "name": "stdout",
     "output_type": "stream",
     "text": [
      "π is equal to π\n"
     ]
    }
   ],
   "source": [
    "a, b = π, π\n",
    "if a < b\n",
    "    println(\"$a is less than $b\")\n",
    "elseif a > b\n",
    "    println(\"$a is greater than $b\")\n",
    "else\n",
    "    println(\"$a is equal to $b\")\n",
    "end"
   ]
  },
  {
   "cell_type": "code",
   "execution_count": 248,
   "metadata": {},
   "outputs": [
    {
     "data": {
      "text/latex": [
       "\\textbf{\\texttt{While} Loop}\n",
       "\n"
      ],
      "text/markdown": [
       "**`While` Loop**\n"
      ],
      "text/plain": [
       "  \u001b[1m\u001b[36mWhile\u001b[39m Loop\u001b[22m"
      ]
     },
     "execution_count": 248,
     "metadata": {},
     "output_type": "execute_result"
    }
   ],
   "source": [
    "md\"**`While` Loop**\""
   ]
  },
  {
   "cell_type": "code",
   "execution_count": 249,
   "metadata": {},
   "outputs": [
    {
     "name": "stdout",
     "output_type": "stream",
     "text": [
      "Item #1 is Blueberry\n",
      "Item #2 is Orange\n",
      "Item #3 is Banana\n",
      "Item #4 is Raspberry\n",
      "Item #5 is Strawberry\n"
     ]
    }
   ],
   "source": [
    "fruits = [\"Blueberry\", \"Orange\", \"Banana\", \"Raspberry\", \"Strawberry\"]\n",
    "iter = 1\n",
    "while iter ≤ length(fruits)\n",
    "    println(\"Item #$iter is $(fruits[iter])\")\n",
    "    iter +=1\n",
    "end"
   ]
  },
  {
   "cell_type": "code",
   "execution_count": 250,
   "metadata": {},
   "outputs": [
    {
     "data": {
      "text/latex": [
       "\\textbf{\\texttt{For} Loop}\n",
       "\n"
      ],
      "text/markdown": [
       "**`For` Loop**\n"
      ],
      "text/plain": [
       "  \u001b[1m\u001b[36mFor\u001b[39m Loop\u001b[22m"
      ]
     },
     "execution_count": 250,
     "metadata": {},
     "output_type": "execute_result"
    }
   ],
   "source": [
    "md\"**`For` Loop**\""
   ]
  },
  {
   "cell_type": "code",
   "execution_count": 251,
   "metadata": {},
   "outputs": [
    {
     "name": "stdout",
     "output_type": "stream",
     "text": [
      "Item #1 is Broccoli\n",
      "Item #2 is Garlic\n",
      "Item #3 is Mushrooms\n",
      "Item #4 is Potatoes\n"
     ]
    }
   ],
   "source": [
    "vegetables = [\"Broccoli\", \"Garlic\", \"Mushrooms\", \"Potatoes\"]\n",
    "i = 1\n",
    "for item in vegetables\n",
    "    println(\"Item #$i is $item\")\n",
    "    i += 1\n",
    "end"
   ]
  },
  {
   "cell_type": "markdown",
   "metadata": {},
   "source": [
    "### Final Project\n",
    "Bring together concepts that you have learned with a project."
   ]
  },
  {
   "cell_type": "markdown",
   "metadata": {},
   "source": [
    "This simple project consists of implementing a basic calculator. This latter could have the ability to perform basic arithmetic operations like _addition_, _subtraction_, _multiplication_, and _division_.\n",
    "\n",
    "Here are the steps to be followed:\n",
    "1. Create a function called `calculator()` that takes two arguments, `x` and `y`, and a char operation that specifies which operation to perform.\n",
    "1. Use an `if-else` statement to check the value of operation. Depending on the value of operation, call the appropriate function to perform the calculation.\n",
    "1. Test the calculator function by calling it with different values for `x`, `y`, and operation and printing the result.\n",
    "1. Once the basic calculator is working, we can improve it by adding more functionality such as handling decimals and negative numbers, or implementing more advanced operations such as square root, power, trigonometry and so on.\n",
    "1. Finally, we could also experiment with different input types, such as command line arguments or a graphical user interface."
   ]
  },
  {
   "cell_type": "code",
   "execution_count": 252,
   "metadata": {},
   "outputs": [
    {
     "data": {
      "text/latex": [
       "Here is an example of how the basic calculator function could look like:\n",
       "\n"
      ],
      "text/markdown": [
       "Here is an example of how the basic calculator function could look like:\n"
      ],
      "text/plain": [
       "  Here is an example of how the basic calculator function could look like:"
      ]
     },
     "execution_count": 252,
     "metadata": {},
     "output_type": "execute_result"
    }
   ],
   "source": [
    "md\"Here is an example of how the basic calculator function could look like:\""
   ]
  },
  {
   "cell_type": "code",
   "execution_count": 253,
   "metadata": {},
   "outputs": [
    {
     "data": {
      "text/plain": [
       "calculator (generic function with 1 method)"
      ]
     },
     "execution_count": 253,
     "metadata": {},
     "output_type": "execute_result"
    }
   ],
   "source": [
    "function calculator(x::Number, y::Number, op::Char)\n",
    "    if op == '+'\n",
    "        return x + y\n",
    "    elseif op == '-'\n",
    "        return x - y\n",
    "    elseif op == '*'\n",
    "        return x * y\n",
    "    elseif op in ['/', '÷']\n",
    "        return x / y\n",
    "    else\n",
    "        return \"INVALID OPERATION\"\n",
    "    end\n",
    "end"
   ]
  },
  {
   "cell_type": "code",
   "execution_count": 254,
   "metadata": {},
   "outputs": [
    {
     "name": "stdout",
     "output_type": "stream",
     "text": [
      "Summation is 8\n",
      "Subtraction is 2\n",
      "Multiplication is 15\n",
      "Division is 1.6666666666666667\n",
      "INVALID OPERATION\n"
     ]
    }
   ],
   "source": [
    "println(\"Summation is $(calculator(5, 3, '+'))\")\n",
    "println(\"Subtraction is $(calculator(5, 3, '-'))\")\n",
    "println(\"Multiplication is $(calculator(5, 3, '*'))\")\n",
    "println(\"Division is $(calculator(5, 3, '÷'))\")\n",
    "println(calculator(5, 3, '×'))"
   ]
  },
  {
   "cell_type": "markdown",
   "metadata": {},
   "source": [
    "**Miscallenous**"
   ]
  },
  {
   "cell_type": "code",
   "execution_count": 255,
   "metadata": {
    "tags": []
   },
   "outputs": [
    {
     "name": "stdout",
     "output_type": "stream",
     "text": [
      "Julia Version 1.11.2\n",
      "Commit 5e9a32e7af2 (2024-12-01 20:02 UTC)\n",
      "Build Info:\n",
      "  Official https://julialang.org/ release\n",
      "Platform Info:\n",
      "  OS: Linux (x86_64-linux-gnu)\n",
      "  CPU: 8 × Intel(R) Core(TM) i7-8565U CPU @ 1.80GHz\n",
      "  WORD_SIZE: 64\n",
      "  LLVM: libLLVM-16.0.6 (ORCJIT, skylake)\n",
      "Threads: 1 default, 0 interactive, 1 GC (on 8 virtual cores)\n",
      "Environment:\n",
      "  LD_LIBRARY_PATH = /home/mhamdi/torch/install/lib:/home/mhamdi/torch/install/lib:/home/mhamdi/torch/install/lib:\n",
      "  DYLD_LIBRARY_PATH = /home/mhamdi/torch/install/lib:/home/mhamdi/torch/install/lib:/home/mhamdi/torch/install/lib:\n",
      "  JULIA_NUM_THREADS = 8\n"
     ]
    }
   ],
   "source": [
    "md\"Check your version of Julia\"\n",
    "versioninfo()"
   ]
  },
  {
   "cell_type": "code",
   "execution_count": 256,
   "metadata": {
    "tags": []
   },
   "outputs": [
    {
     "data": {
      "text/latex": [
       "The macro \\texttt{@edit} shows the defintion of a function when invoked with specific arguments\n",
       "\n"
      ],
      "text/markdown": [
       "The macro `@edit` shows the defintion of a function when invoked with specific arguments\n"
      ],
      "text/plain": [
       "  The macro \u001b[36m@edit\u001b[39m shows the defintion of a function when invoked with specific\n",
       "  arguments"
      ]
     },
     "execution_count": 256,
     "metadata": {},
     "output_type": "execute_result"
    }
   ],
   "source": [
    "md\"The macro `@edit` shows the defintion of a function when invoked with specific arguments\"\n",
    "# @edit maximum([-1, 0, 1])"
   ]
  },
  {
   "cell_type": "code",
   "execution_count": 257,
   "metadata": {
    "tags": []
   },
   "outputs": [
    {
     "data": {
      "text/latex": [
       "\\begin{tabular}\n",
       "{l | r | l}\n",
       "name & size & summary \\\\\n",
       "\\hline\n",
       "Base &  & Module \\\\\n",
       "Core &  & Module \\\\\n",
       "Foo & 0 bytes & Foo (generic function with 1 method) \\\\\n",
       "M & 208 bytes & 5×4 Matrix\\{Float64\\} \\\\\n",
       "Main &  & Module \\\\\n",
       "MyModule & 2.234 KiB & Module \\\\\n",
       "PLOTS\\_DEFAULTS & 384 bytes & Dict\\{Symbol, Symbol\\} with 1 entry \\\\\n",
       "a & 0 bytes & Irrational\\{:π\\} \\\\\n",
       "b & 0 bytes & Irrational\\{:π\\} \\\\\n",
       "bar & 0 bytes & bar (generic function with 1 method) \\\\\n",
       "calculator & 0 bytes & calculator (generic function with 1 method) \\\\\n",
       "col\\_idx & 44 bytes & 4-element Vector\\{Bool\\} \\\\\n",
       "df & 827 bytes & 4×3 DataFrame \\\\\n",
       "dict & 431 bytes & Dict\\{String, Int64\\} with 3 entries \\\\\n",
       "docs & 7.446 KiB & Markdown.MD \\\\\n",
       "f & 0 bytes & f (generic function with 4 methods) \\\\\n",
       "file & 380 bytes & IOStream \\\\\n",
       "foo & 0 bytes & foo (generic function with 4 methods) \\\\\n",
       "fruits & 160 bytes & 5-element Vector\\{String\\} \\\\\n",
       "g & 0 bytes & g (generic function with 1 method) \\\\\n",
       "h & 0 bytes & h (generic function with 1 method) \\\\\n",
       "i & 8 bytes & Int64 \\\\\n",
       "idx & 45 bytes & 5-element Vector\\{Bool\\} \\\\\n",
       "iter & 8 bytes & Int64 \\\\\n",
       "lst & 176 bytes & 5-element Vector\\{Any\\} \\\\\n",
       "mycos & 0 bytes & mycos (generic function with 2 methods) \\\\\n",
       "row\\_idx & 45 bytes & 5-element Vector\\{Bool\\} \\\\\n",
       "showall & 0 bytes & showall (generic function with 1 method) \\\\\n",
       "str & 19 bytes & 11-codeunit String \\\\\n",
       "tmp & 1 byte & UInt8 \\\\\n",
       "var & 80 bytes & 2×4 BitMatrix \\\\\n",
       "vegetables & 135 bytes & 4-element Vector\\{String\\} \\\\\n",
       "x & 120 bytes & 5-element Vector\\{ComplexF64\\} \\\\\n",
       "y & 781.289 KiB & 100000-element Vector\\{Float64\\} \\\\\n",
       "z & 768 bytes & 91-element Vector\\{Float64\\} \\\\\n",
       "\\end{tabular}\n"
      ],
      "text/markdown": [
       "| name           |        size | summary                                     |\n",
       "|:-------------- | -----------:|:------------------------------------------- |\n",
       "| Base           |             | Module                                      |\n",
       "| Core           |             | Module                                      |\n",
       "| Foo            |     0 bytes | Foo (generic function with 1 method)        |\n",
       "| M              |   208 bytes | 5×4 Matrix{Float64}                         |\n",
       "| Main           |             | Module                                      |\n",
       "| MyModule       |   2.234 KiB | Module                                      |\n",
       "| PLOTS_DEFAULTS |   384 bytes | Dict{Symbol, Symbol} with 1 entry           |\n",
       "| a              |     0 bytes | Irrational{:π}                              |\n",
       "| b              |     0 bytes | Irrational{:π}                              |\n",
       "| bar            |     0 bytes | bar (generic function with 1 method)        |\n",
       "| calculator     |     0 bytes | calculator (generic function with 1 method) |\n",
       "| col_idx        |    44 bytes | 4-element Vector{Bool}                      |\n",
       "| df             |   827 bytes | 4×3 DataFrame                               |\n",
       "| dict           |   431 bytes | Dict{String, Int64} with 3 entries          |\n",
       "| docs           |   7.446 KiB | Markdown.MD                                 |\n",
       "| f              |     0 bytes | f (generic function with 4 methods)         |\n",
       "| file           |   380 bytes | IOStream                                    |\n",
       "| foo            |     0 bytes | foo (generic function with 4 methods)       |\n",
       "| fruits         |   160 bytes | 5-element Vector{String}                    |\n",
       "| g              |     0 bytes | g (generic function with 1 method)          |\n",
       "| h              |     0 bytes | h (generic function with 1 method)          |\n",
       "| i              |     8 bytes | Int64                                       |\n",
       "| idx            |    45 bytes | 5-element Vector{Bool}                      |\n",
       "| iter           |     8 bytes | Int64                                       |\n",
       "| lst            |   176 bytes | 5-element Vector{Any}                       |\n",
       "| mycos          |     0 bytes | mycos (generic function with 2 methods)     |\n",
       "| row_idx        |    45 bytes | 5-element Vector{Bool}                      |\n",
       "| showall        |     0 bytes | showall (generic function with 1 method)    |\n",
       "| str            |    19 bytes | 11-codeunit String                          |\n",
       "| tmp            |      1 byte | UInt8                                       |\n",
       "| var            |    80 bytes | 2×4 BitMatrix                               |\n",
       "| vegetables     |   135 bytes | 4-element Vector{String}                    |\n",
       "| x              |   120 bytes | 5-element Vector{ComplexF64}                |\n",
       "| y              | 781.289 KiB | 100000-element Vector{Float64}              |\n",
       "| z              |   768 bytes | 91-element Vector{Float64}                  |\n"
      ],
      "text/plain": [
       "  name                  size summary                                    \n",
       "  –––––––––––––– ––––––––––– –––––––––––––––––––––––––––––––––––––––––––\n",
       "  Base                       Module                                     \n",
       "  Core                       Module                                     \n",
       "  Foo                0 bytes Foo (generic function with 1 method)       \n",
       "  M                208 bytes 5×4 Matrix{Float64}                        \n",
       "  Main                       Module                                     \n",
       "  MyModule         2.234 KiB Module                                     \n",
       "  PLOTS_DEFAULTS   384 bytes Dict{Symbol, Symbol} with 1 entry          \n",
       "  a                  0 bytes Irrational{:π}                             \n",
       "  b                  0 bytes Irrational{:π}                             \n",
       "  bar                0 bytes bar (generic function with 1 method)       \n",
       "  calculator         0 bytes calculator (generic function with 1 method)\n",
       "  col_idx           44 bytes 4-element Vector{Bool}                     \n",
       "  df               827 bytes 4×3 DataFrame                              \n",
       "  dict             431 bytes Dict{String, Int64} with 3 entries         \n",
       "  docs             7.446 KiB Markdown.MD                                \n",
       "  f                  0 bytes f (generic function with 4 methods)        \n",
       "  file             380 bytes IOStream                                   \n",
       "  foo                0 bytes foo (generic function with 4 methods)      \n",
       "  fruits           160 bytes 5-element Vector{String}                   \n",
       "  g                  0 bytes g (generic function with 1 method)         \n",
       "  h                  0 bytes h (generic function with 1 method)         \n",
       "  i                  8 bytes Int64                                      \n",
       "  idx               45 bytes 5-element Vector{Bool}                     \n",
       "  iter               8 bytes Int64                                      \n",
       "  lst              176 bytes 5-element Vector{Any}                      \n",
       "  mycos              0 bytes mycos (generic function with 2 methods)    \n",
       "  row_idx           45 bytes 5-element Vector{Bool}                     \n",
       "  showall            0 bytes showall (generic function with 1 method)   \n",
       "  str               19 bytes 11-codeunit String                         \n",
       "  tmp                 1 byte UInt8                                      \n",
       "  var               80 bytes 2×4 BitMatrix                              \n",
       "  vegetables       135 bytes 4-element Vector{String}                   \n",
       "  x                120 bytes 5-element Vector{ComplexF64}               \n",
       "  y              781.289 KiB 100000-element Vector{Float64}             \n",
       "  z                768 bytes 91-element Vector{Float64}                 "
      ]
     },
     "execution_count": 257,
     "metadata": {},
     "output_type": "execute_result"
    }
   ],
   "source": [
    "md\"`varinfo` lists all global variables and their corresponding types in the current scope\"\n",
    "varinfo()"
   ]
  },
  {
   "cell_type": "markdown",
   "metadata": {
    "tags": []
   },
   "source": [
    "_Modules_"
   ]
  },
  {
   "cell_type": "code",
   "execution_count": 258,
   "metadata": {
    "tags": []
   },
   "outputs": [
    {
     "name": "stderr",
     "output_type": "stream",
     "text": [
      "WARNING: replacing module MyModule.\n"
     ]
    },
    {
     "data": {
      "text/plain": [
       "Main.MyModule"
      ]
     },
     "execution_count": 258,
     "metadata": {},
     "output_type": "execute_result"
    }
   ],
   "source": [
    "module MyModule\n",
    "export a\n",
    "a = 0\n",
    "b = true\n",
    "end"
   ]
  },
  {
   "cell_type": "code",
   "execution_count": 259,
   "metadata": {
    "tags": []
   },
   "outputs": [
    {
     "data": {
      "text/latex": [
       "\\begin{tabular}\n",
       "{l | r | l}\n",
       "name & size & summary \\\\\n",
       "\\hline\n",
       "MyModule & 2.234 KiB & Module \\\\\n",
       "a & 8 bytes & Int64 \\\\\n",
       "\\end{tabular}\n"
      ],
      "text/markdown": [
       "| name     |      size | summary |\n",
       "|:-------- | ---------:|:------- |\n",
       "| MyModule | 2.234 KiB | Module  |\n",
       "| a        |   8 bytes | Int64   |\n"
      ],
      "text/plain": [
       "  name          size summary\n",
       "  –––––––– ––––––––– –––––––\n",
       "  MyModule 2.234 KiB Module \n",
       "  a          8 bytes Int64  "
      ]
     },
     "execution_count": 259,
     "metadata": {},
     "output_type": "execute_result"
    }
   ],
   "source": [
    "varinfo(MyModule)"
   ]
  },
  {
   "cell_type": "code",
   "execution_count": 260,
   "metadata": {
    "tags": []
   },
   "outputs": [
    {
     "data": {
      "text/plain": [
       "π = 3.1415926535897..."
      ]
     },
     "execution_count": 260,
     "metadata": {},
     "output_type": "execute_result"
    }
   ],
   "source": [
    "a"
   ]
  },
  {
   "cell_type": "code",
   "execution_count": 261,
   "metadata": {
    "tags": []
   },
   "outputs": [
    {
     "data": {
      "text/plain": [
       "0"
      ]
     },
     "execution_count": 261,
     "metadata": {},
     "output_type": "execute_result"
    }
   ],
   "source": [
    "MyModule.a"
   ]
  },
  {
   "cell_type": "code",
   "execution_count": 262,
   "metadata": {
    "tags": []
   },
   "outputs": [
    {
     "data": {
      "text/plain": [
       "true"
      ]
     },
     "execution_count": 262,
     "metadata": {},
     "output_type": "execute_result"
    }
   ],
   "source": [
    "MyModule.b"
   ]
  },
  {
   "cell_type": "code",
   "execution_count": 263,
   "metadata": {},
   "outputs": [
    {
     "name": "stderr",
     "output_type": "stream",
     "text": [
      "WARNING: using MyModule.a in module Main conflicts with an existing identifier.\n"
     ]
    }
   ],
   "source": [
    "using .MyModule"
   ]
  },
  {
   "cell_type": "code",
   "execution_count": 264,
   "metadata": {},
   "outputs": [
    {
     "data": {
      "text/plain": [
       "(π, π)"
      ]
     },
     "execution_count": 264,
     "metadata": {},
     "output_type": "execute_result"
    }
   ],
   "source": [
    "a, b"
   ]
  },
  {
   "cell_type": "code",
   "execution_count": 265,
   "metadata": {},
   "outputs": [
    {
     "name": "stderr",
     "output_type": "stream",
     "text": [
      "WARNING: import of MyModule.b into Main conflicts with an existing identifier; ignored.\n"
     ]
    }
   ],
   "source": [
    "using .MyModule: b"
   ]
  },
  {
   "cell_type": "code",
   "execution_count": 266,
   "metadata": {},
   "outputs": [
    {
     "data": {
      "text/plain": [
       "π = 3.1415926535897..."
      ]
     },
     "execution_count": 266,
     "metadata": {},
     "output_type": "execute_result"
    }
   ],
   "source": [
    "b"
   ]
  }
 ],
 "metadata": {
  "kernelspec": {
   "display_name": "IJulia 1.11.2",
   "language": "julia",
   "name": "ijulia-1.11"
  },
  "language_info": {
   "file_extension": ".jl",
   "mimetype": "application/julia",
   "name": "julia",
   "version": "1.11.2"
  }
 },
 "nbformat": 4,
 "nbformat_minor": 4
}
