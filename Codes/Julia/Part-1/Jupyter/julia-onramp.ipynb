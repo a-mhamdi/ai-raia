{
 "cells": [
  {
   "cell_type": "markdown",
   "metadata": {},
   "source": [
    "# `Julia` ONRAMP\n",
    "---"
   ]
  },
  {
   "cell_type": "markdown",
   "metadata": {},
   "source": [
    "### GOALS\n",
    "- Enter commands in ${\\tt Julia}$ REPL to create variables and perform calculations;\n",
    "- Write and save programs;\n",
    "- Use indexing to extract and modify rows, columns, and elements of ${\\tt Julia}$ tensors."
   ]
  },
  {
   "cell_type": "markdown",
   "metadata": {},
   "source": [
    "${\\tt Julia}$ is a standalone program which can be downloaded from [https://julialang.org/downloads/](https://julialang.org/downloads/)"
   ]
  },
  {
   "cell_type": "markdown",
   "metadata": {
    "tags": []
   },
   "source": [
    "**Getting around**"
   ]
  },
  {
   "cell_type": "markdown",
   "metadata": {},
   "source": [
    "By default, Julia runs in an interactive terminal called the REPL. In this mode, Some useful commands are:\n",
    "1. `^C` aborts execution\n",
    "1. `^D` exits Julia\n",
    "1. `?` enters help mode\n",
    "1. `;` enters system shell mode\n",
    "1. `]` enters package manager mode\n",
    "1. `^l` clears screen"
   ]
  },
  {
   "cell_type": "markdown",
   "metadata": {},
   "source": [
    "We begin first by activating the environement within the desired folder."
   ]
  },
  {
   "cell_type": "markdown",
   "metadata": {},
   "source": [
    "From the REPL interface, either type\n",
    "```julia\n",
    "using Pkg  \n",
    "pkg\"activate .\"\n",
    "```\n",
    "or access the package mode by typing `]` and simply write\n",
    "```julia\n",
    "activate .\n",
    "```\n",
    "Always within the package mode, to see the full list of installed packages\n",
    "```julia\n",
    "st\n",
    "```"
   ]
  },
  {
   "cell_type": "code",
   "execution_count": 1,
   "metadata": {
    "scrolled": true
   },
   "outputs": [
    {
     "name": "stderr",
     "output_type": "stream",
     "text": [
      "\u001b[32m\u001b[1m  Activating\u001b[22m\u001b[39m project at `~/Work/git-repos/AI-ML-DL/jlai/Codes/Julia/Part-1`\n"
     ]
    }
   ],
   "source": [
    "using Pkg; pkg\"activate ..\""
   ]
  },
  {
   "cell_type": "code",
   "execution_count": 2,
   "metadata": {},
   "outputs": [
    {
     "name": "stdout",
     "output_type": "stream",
     "text": [
      "\u001b[32m\u001b[1mStatus\u001b[22m\u001b[39m `~/Work/git-repos/AI-ML-DL/jlai/Codes/Julia/Part-1/Project.toml`\n",
      "  \u001b[90m[336ed68f] \u001b[39mCSV v0.10.15\n",
      "  \u001b[90m[8f4d0f93] \u001b[39mConda v1.10.2\n",
      "  \u001b[90m[a93c6f00] \u001b[39mDataFrames v1.7.0\n",
      "\u001b[32m⌃\u001b[39m \u001b[90m[587475ba] \u001b[39mFlux v0.14.25\n",
      "  \u001b[90m[a9166f1b] \u001b[39mFuzzy v0.3.1\n",
      "  \u001b[90m[7073ff75] \u001b[39mIJulia v1.26.0\n",
      "  \u001b[90m[d8c32880] \u001b[39mImageInTerminal v0.5.4\n",
      "  \u001b[90m[add582a8] \u001b[39mMLJ v0.20.7\n",
      "  \u001b[90m[91a5bcdd] \u001b[39mPlots v1.40.9\n",
      "  \u001b[90m[c3e4b0f8] \u001b[39mPluto v0.20.3\n",
      "  \u001b[90m[92933f4c] \u001b[39mProgressMeter v1.10.2\n",
      "  \u001b[90m[d6f4376e] \u001b[39mMarkdown v1.11.0\n",
      "\u001b[36m\u001b[1mInfo\u001b[22m\u001b[39m Packages marked with \u001b[32m⌃\u001b[39m have new versions available and may be upgradable.\n"
     ]
    }
   ],
   "source": [
    "using Pkg; pkg\"status\""
   ]
  },
  {
   "cell_type": "markdown",
   "metadata": {},
   "source": [
    "To add the **Markdown** package for instance, we write"
   ]
  },
  {
   "cell_type": "code",
   "execution_count": 3,
   "metadata": {
    "tags": []
   },
   "outputs": [
    {
     "name": "stderr",
     "output_type": "stream",
     "text": [
      "\u001b[32m\u001b[1m   Resolving\u001b[22m\u001b[39m package versions...\n",
      "\u001b[32m\u001b[1m  No Changes\u001b[22m\u001b[39m to `~/Work/git-repos/AI-ML-DL/jlai/Codes/Julia/Part-1/Project.toml`\n",
      "\u001b[32m\u001b[1m  No Changes\u001b[22m\u001b[39m to `~/Work/git-repos/AI-ML-DL/jlai/Codes/Julia/Part-1/Manifest.toml`\n"
     ]
    }
   ],
   "source": [
    "using Pkg; pkg\"add Markdown\""
   ]
  },
  {
   "cell_type": "markdown",
   "metadata": {},
   "source": [
    "To be able to use it, we do as follows"
   ]
  },
  {
   "cell_type": "code",
   "execution_count": 4,
   "metadata": {},
   "outputs": [],
   "source": [
    "using Markdown"
   ]
  },
  {
   "cell_type": "code",
   "execution_count": 5,
   "metadata": {},
   "outputs": [
    {
     "data": {
      "text/latex": [
       "This a text inside a code cell, thanks to \\textbf{Markdown} package. I can \\emph{emphasize} anything. Make other things \\textbf{bold}\n",
       "\n"
      ],
      "text/markdown": [
       "This a text inside a code cell, thanks to **Markdown** package. I can *emphasize* anything. Make other things **bold**\n"
      ],
      "text/plain": [
       "  This a text inside a code cell, thanks to \u001b[1mMarkdown\u001b[22m package. I can \u001b[4memphasize\u001b[24m\n",
       "  anything. Make other things \u001b[1mbold\u001b[22m"
      ]
     },
     "execution_count": 5,
     "metadata": {},
     "output_type": "execute_result"
    }
   ],
   "source": [
    "md\"\"\"\n",
    "This a text inside a code cell, thanks to **Markdown** package. I can _emphasize_ anything. Make other things **bold**\n",
    "\"\"\""
   ]
  },
  {
   "cell_type": "markdown",
   "metadata": {},
   "source": [
    "Jupyter Lab is pretty handy. We only need to install the appropriate kernel. In order to add `Julia` kernel `IJulia` to Jupyter Notebook and/or `JupyterLab` IDEs, we begin by executing the following commands:\n",
    "```julia\n",
    "using Pkg  \n",
    "Pkg.add(\"IJulia\") \n",
    "```\n",
    "If we want to get `JupyterLab` instance running in current directory, we can do:\n",
    "```julia\n",
    "jupyterlab(dir=pwd(), detached=true)\n",
    "```"
   ]
  },
  {
   "cell_type": "markdown",
   "metadata": {},
   "source": [
    "In case things do not work, we run the two following commands from ${\\tt Julia}$ REPL which launch jupyter environment.\n",
    "```julia\n",
    "using IJulia  \n",
    "installkernel(\"Julia\") \n",
    "```"
   ]
  },
  {
   "cell_type": "markdown",
   "metadata": {},
   "source": [
    "The shell mode is also available through the REPL to evaluate some os commands. To do so, simply preface the regular command by semicolon. For instance, `pwd` prints the path to working directory and `ls` allows to list the content of the current directory."
   ]
  },
  {
   "cell_type": "code",
   "execution_count": 6,
   "metadata": {},
   "outputs": [
    {
     "name": "stdout",
     "output_type": "stream",
     "text": [
      "/home/mhamdi/Work/git-repos/AI-ML-DL/jlai/Codes/Julia/Part-1/Jupyter\n"
     ]
    }
   ],
   "source": [
    ";pwd"
   ]
  },
  {
   "cell_type": "code",
   "execution_count": 7,
   "metadata": {
    "scrolled": true
   },
   "outputs": [
    {
     "name": "stdout",
     "output_type": "stream",
     "text": [
      "total 3732\n",
      "drwxrwxr-x 4 mhamdi mhamdi    4096 Dec 18 23:58 .\n",
      "drwx------ 5 mhamdi mhamdi    4096 Dec 18 23:45 ..\n",
      "-rw-rw-r-- 1 mhamdi mhamdi  109434 Dec 18 23:56 classifier-ann.ipynb\n",
      "drwxrwxr-x 2 mhamdi mhamdi    4096 Dec 18 23:13 .ipynb_checkpoints\n",
      "-rw------- 1 mhamdi mhamdi   32315 Dec 18 23:58 julia-onramp.ipynb\n",
      "drwxrwxr-x 3 mhamdi mhamdi    4096 Dec 18 23:53 Jupyter\n",
      "-rw-r--r-- 1 mhamdi mhamdi   11002 Dec 17 22:24 jupyter.svg\n",
      "-rw-rw-r-- 1 mhamdi mhamdi     362 Dec 18 23:57 Manifest.toml\n",
      "-rw-rw-r-- 1 mhamdi mhamdi      57 Dec 18 23:57 Project.toml\n",
      "-rw-rw-r-- 1 mhamdi mhamdi      26 Dec 18 01:24 README.md\n",
      "-rw-rw-r-- 1 mhamdi mhamdi  648219 Dec 18 23:56 selection-process.ipynb\n",
      "-rw-rw-r-- 1 mhamdi mhamdi  334840 Dec 18 23:52 tipper.ipynb\n",
      "-rw-r--r-- 1 mhamdi mhamdi      15 Dec 18 01:23 .wakatime-project\n",
      "-rw-rw-r-- 1 mhamdi mhamdi 2644955 Dec 18 23:55 xor-gate.ipynb\n"
     ]
    }
   ],
   "source": [
    ";ls -la"
   ]
  },
  {
   "cell_type": "markdown",
   "metadata": {},
   "source": [
    "### Getting Help\n",
    "In order to seek help on a particular function. We just use the `?` mark. We can use the ${\\tt Julia}$ documentation to discover more pieces of information about ${\\tt Julia}$ features."
   ]
  },
  {
   "cell_type": "code",
   "execution_count": 8,
   "metadata": {},
   "outputs": [
    {
     "name": "stdout",
     "output_type": "stream",
     "text": [
      "search: \u001b[0m\u001b[1mc\u001b[22m\u001b[0m\u001b[1mo\u001b[22m\u001b[0m\u001b[1ms\u001b[22m \u001b[0m\u001b[1mc\u001b[22m\u001b[0m\u001b[1mo\u001b[22m\u001b[0m\u001b[1ms\u001b[22md a\u001b[0m\u001b[1mc\u001b[22m\u001b[0m\u001b[1mo\u001b[22m\u001b[0m\u001b[1ms\u001b[22m \u001b[0m\u001b[1mc\u001b[22m\u001b[0m\u001b[1mo\u001b[22m\u001b[0m\u001b[1ms\u001b[22mc \u001b[0m\u001b[1mc\u001b[22m\u001b[0m\u001b[1mo\u001b[22m\u001b[0m\u001b[1ms\u001b[22mh \u001b[0m\u001b[1mc\u001b[22mis \u001b[0m\u001b[1mc\u001b[22m\u001b[0m\u001b[1mo\u001b[22mt a\u001b[0m\u001b[1mc\u001b[22m\u001b[0m\u001b[1mo\u001b[22m\u001b[0m\u001b[1ms\u001b[22mh \u001b[0m\u001b[1mc\u001b[22ml\u001b[0m\u001b[1mo\u001b[22m\u001b[0m\u001b[1ms\u001b[22me \u001b[0m\u001b[1mc\u001b[22m\u001b[0m\u001b[1mo\u001b[22m\u001b[0m\u001b[1ms\u001b[22mpi a\u001b[0m\u001b[1mc\u001b[22m\u001b[0m\u001b[1mo\u001b[22m\u001b[0m\u001b[1ms\u001b[22md \u001b[0m\u001b[1mc\u001b[22m\u001b[0m\u001b[1mo\u001b[22mn\u001b[0m\u001b[1ms\u001b[22mt \u001b[0m\u001b[1mc\u001b[22m\u001b[0m\u001b[1mo\u001b[22mth \u001b[0m\u001b[1mc\u001b[22m\u001b[0m\u001b[1mo\u001b[22mpy\n",
      "\n"
     ]
    },
    {
     "data": {
      "text/latex": [
       "\\begin{verbatim}\n",
       "cos(x)\n",
       "\\end{verbatim}\n",
       "Compute cosine of \\texttt{x}, where \\texttt{x} is in radians.\n",
       "\n",
       "See also \\href{@ref}{\\texttt{cosd}}, \\href{@ref}{\\texttt{cospi}}, \\href{@ref}{\\texttt{sincos}}, \\href{@ref}{\\texttt{cis}}.\n",
       "\n",
       "\\rule{\\textwidth}{1pt}\n",
       "\\begin{verbatim}\n",
       "cos(A::AbstractMatrix)\n",
       "\\end{verbatim}\n",
       "Compute the matrix cosine of a square matrix \\texttt{A}.\n",
       "\n",
       "If \\texttt{A} is symmetric or Hermitian, its eigendecomposition (\\href{@ref}{\\texttt{eigen}}) is used to compute the cosine. Otherwise, the cosine is determined by calling \\href{@ref}{\\texttt{exp}}.\n",
       "\n",
       "\\section{Examples}\n",
       "\\begin{verbatim}\n",
       "julia> cos(fill(1.0, (2,2)))\n",
       "2×2 Matrix{Float64}:\n",
       "  0.291927  -0.708073\n",
       " -0.708073   0.291927\n",
       "\\end{verbatim}\n"
      ],
      "text/markdown": [
       "```\n",
       "cos(x)\n",
       "```\n",
       "\n",
       "Compute cosine of `x`, where `x` is in radians.\n",
       "\n",
       "See also [`cosd`](@ref), [`cospi`](@ref), [`sincos`](@ref), [`cis`](@ref).\n",
       "\n",
       "---\n",
       "\n",
       "```\n",
       "cos(A::AbstractMatrix)\n",
       "```\n",
       "\n",
       "Compute the matrix cosine of a square matrix `A`.\n",
       "\n",
       "If `A` is symmetric or Hermitian, its eigendecomposition ([`eigen`](@ref)) is used to compute the cosine. Otherwise, the cosine is determined by calling [`exp`](@ref).\n",
       "\n",
       "# Examples\n",
       "\n",
       "```jldoctest\n",
       "julia> cos(fill(1.0, (2,2)))\n",
       "2×2 Matrix{Float64}:\n",
       "  0.291927  -0.708073\n",
       " -0.708073   0.291927\n",
       "```\n"
      ],
      "text/plain": [
       "  \u001b[38;2;102;217;239mcos\u001b[0m(\u001b[0m\u001b[39mx\u001b[0m\u001b[39m)\u001b[0m\n",
       "\n",
       "  Compute cosine of \u001b[36mx\u001b[39m, where \u001b[36mx\u001b[39m is in radians.\n",
       "\n",
       "  See also \u001b[36mcosd\u001b[39m, \u001b[36mcospi\u001b[39m, \u001b[36msincos\u001b[39m, \u001b[36mcis\u001b[39m.\n",
       "\n",
       "  ────────────────────────────────────────────────────────────────────────────\n",
       "\n",
       "  \u001b[38;2;102;217;239mcos\u001b[0m(\u001b[0m\u001b[39mA\u001b[0m\u001b[38;2;102;217;239m::\u001b[0m\u001b[38;2;102;217;239mAbstractMatrix\u001b[0m\u001b[39m)\u001b[0m\n",
       "\n",
       "  Compute the matrix cosine of a square matrix \u001b[36mA\u001b[39m.\n",
       "\n",
       "  If \u001b[36mA\u001b[39m is symmetric or Hermitian, its eigendecomposition (\u001b[36meigen\u001b[39m) is used to\n",
       "  compute the cosine. Otherwise, the cosine is determined by calling \u001b[36mexp\u001b[39m.\n",
       "\n",
       "\u001b[1m  Examples\u001b[22m\n",
       "\u001b[1m  ≡≡≡≡≡≡≡≡\u001b[22m\n",
       "\n",
       "  \u001b[31;1mjulia> \u001b[0m\u001b[38;2;102;217;239mcos\u001b[0m(\u001b[0m\u001b[38;2;102;217;239mfill\u001b[0m(\u001b[0m\u001b[38;2;174;129;255m1.0\u001b[0m\u001b[39m,\u001b[0m \u001b[0m(\u001b[0m\u001b[38;2;174;129;255m2\u001b[0m\u001b[39m,\u001b[0m\u001b[38;2;174;129;255m2\u001b[0m\u001b[39m)\u001b[0m\u001b[39m)\u001b[0m\u001b[39m)\u001b[0m\n",
       "  \u001b[0m2×2 Matrix{Float64}:\n",
       "    0.291927  -0.708073\n",
       "   -0.708073   0.291927"
      ]
     },
     "execution_count": 8,
     "metadata": {},
     "output_type": "execute_result"
    }
   ],
   "source": [
    "?cos"
   ]
  },
  {
   "cell_type": "markdown",
   "metadata": {},
   "source": [
    "To print something on the standard output, it is possible to use either `print` and `println`. The last one displays the text and moves the cursor to the next line."
   ]
  },
  {
   "cell_type": "code",
   "execution_count": 9,
   "metadata": {},
   "outputs": [
    {
     "name": "stdout",
     "output_type": "stream",
     "text": [
      "Hello World"
     ]
    }
   ],
   "source": [
    "print(\"Hello\")\n",
    "print(' ')\n",
    "print(\"World\")"
   ]
  },
  {
   "cell_type": "code",
   "execution_count": 10,
   "metadata": {},
   "outputs": [
    {
     "name": "stdout",
     "output_type": "stream",
     "text": [
      "Hello\n",
      "World\n"
     ]
    }
   ],
   "source": [
    "println(\"Hello\")\n",
    "println(\"World\")"
   ]
  },
  {
   "cell_type": "markdown",
   "metadata": {},
   "source": [
    "**Data types: Dictionaries**"
   ]
  },
  {
   "cell_type": "code",
   "execution_count": 11,
   "metadata": {
    "tags": []
   },
   "outputs": [
    {
     "data": {
      "text/plain": [
       "Dict{String, Int64} with 3 entries:\n",
       "  \"Bicycle\"  => 2\n",
       "  \"Tricycle\" => 3\n",
       "  \"Unicycle\" => 1"
      ]
     },
     "execution_count": 11,
     "metadata": {},
     "output_type": "execute_result"
    }
   ],
   "source": [
    "dict = Dict(\n",
    "    # Name => # of wheels\n",
    "    \"Unicycle\" => 1,\n",
    "    \"Bicycle\" => 2,\n",
    "    \"Tricycle\" => 3\n",
    ")"
   ]
  },
  {
   "cell_type": "code",
   "execution_count": 12,
   "metadata": {
    "tags": []
   },
   "outputs": [
    {
     "data": {
      "text/plain": [
       "Dict{String, Int64}"
      ]
     },
     "execution_count": 12,
     "metadata": {},
     "output_type": "execute_result"
    }
   ],
   "source": [
    "typeof(dict)"
   ]
  },
  {
   "cell_type": "code",
   "execution_count": 13,
   "metadata": {
    "tags": []
   },
   "outputs": [
    {
     "data": {
      "text/plain": [
       "Dict{String, Int64} with 3 entries:\n",
       "  \"Bicycle\"  => 2\n",
       "  \"Tricycle\" => 3\n",
       "  \"Unicycle\" => 1"
      ]
     },
     "execution_count": 13,
     "metadata": {},
     "output_type": "execute_result"
    }
   ],
   "source": [
    "dict = Dict([(\"Unicycle\", 1), (\"Bicycle\", 2), (\"Tricycle\", 3)])"
   ]
  },
  {
   "cell_type": "code",
   "execution_count": 14,
   "metadata": {
    "tags": []
   },
   "outputs": [
    {
     "data": {
      "text/plain": [
       "2"
      ]
     },
     "execution_count": 14,
     "metadata": {},
     "output_type": "execute_result"
    }
   ],
   "source": [
    "dict[\"Bicycle\"]"
   ]
  },
  {
   "cell_type": "code",
   "execution_count": 15,
   "metadata": {
    "tags": []
   },
   "outputs": [
    {
     "data": {
      "text/plain": [
       "5-element Vector{Any}:\n",
       "    1\n",
       "     'a': ASCII/Unicode U+0061 (category Ll: Letter, lowercase)\n",
       "     \"abc\"\n",
       " true\n",
       "     ComplexF64[0.0 + 0.0im, 0.0 + 0.5im]"
      ]
     },
     "execution_count": 15,
     "metadata": {},
     "output_type": "execute_result"
    }
   ],
   "source": [
    "lst = [1, 'a', \"abc\", true, [0, .5im]]"
   ]
  },
  {
   "cell_type": "code",
   "execution_count": 16,
   "metadata": {
    "tags": []
   },
   "outputs": [
    {
     "data": {
      "text/plain": [
       "Vector{Any}\u001b[90m (alias for \u001b[39m\u001b[90mArray{Any, 1}\u001b[39m\u001b[90m)\u001b[39m"
      ]
     },
     "execution_count": 16,
     "metadata": {},
     "output_type": "execute_result"
    }
   ],
   "source": [
    "typeof(lst)"
   ]
  },
  {
   "cell_type": "code",
   "execution_count": 17,
   "metadata": {
    "tags": []
   },
   "outputs": [
    {
     "data": {
      "text/plain": [
       "2-element Vector{ComplexF64}:\n",
       " 0.0 + 0.0im\n",
       " 0.0 + 0.5im"
      ]
     },
     "execution_count": 17,
     "metadata": {},
     "output_type": "execute_result"
    }
   ],
   "source": [
    "lst[end]"
   ]
  },
  {
   "cell_type": "markdown",
   "metadata": {},
   "source": [
    "### Basic Calculations"
   ]
  },
  {
   "cell_type": "code",
   "execution_count": 18,
   "metadata": {},
   "outputs": [
    {
     "data": {
      "text/plain": [
       "(1, 1.5)"
      ]
     },
     "execution_count": 18,
     "metadata": {},
     "output_type": "execute_result"
    }
   ],
   "source": [
    "a, b = 1, 1.5"
   ]
  },
  {
   "cell_type": "code",
   "execution_count": 19,
   "metadata": {},
   "outputs": [
    {
     "name": "stdout",
     "output_type": "stream",
     "text": [
      "Int64\n",
      "Float64\n"
     ]
    }
   ],
   "source": [
    "println(typeof(a))\n",
    "println(typeof(b))"
   ]
  },
  {
   "cell_type": "code",
   "execution_count": 20,
   "metadata": {},
   "outputs": [
    {
     "data": {
      "text/latex": [
       "\\texttt{varinfo} method allows to display loaded variables.\n",
       "\n"
      ],
      "text/markdown": [
       "`varinfo` method allows to display loaded variables.\n"
      ],
      "text/plain": [
       "  \u001b[36mvarinfo\u001b[39m method allows to display loaded variables."
      ]
     },
     "execution_count": 20,
     "metadata": {},
     "output_type": "execute_result"
    }
   ],
   "source": [
    "md\"\"\"\n",
    "`varinfo` method allows to display loaded variables.\n",
    "\"\"\""
   ]
  },
  {
   "cell_type": "code",
   "execution_count": 21,
   "metadata": {},
   "outputs": [
    {
     "data": {
      "text/latex": [
       "\\begin{tabular}\n",
       "{l | r | l}\n",
       "name & size & summary \\\\\n",
       "\\hline\n",
       "Base &  & Module \\\\\n",
       "Core &  & Module \\\\\n",
       "Main &  & Module \\\\\n",
       "PLOTS\\_DEFAULTS & 384 bytes & Dict\\{Symbol, Symbol\\} with 1 entry \\\\\n",
       "a & 8 bytes & Int64 \\\\\n",
       "b & 8 bytes & Float64 \\\\\n",
       "dict & 431 bytes & Dict\\{String, Int64\\} with 3 entries \\\\\n",
       "docs & 6.466 KiB & Markdown.MD \\\\\n",
       "lst & 176 bytes & 5-element Vector\\{Any\\} \\\\\n",
       "showall & 0 bytes & showall (generic function with 1 method) \\\\\n",
       "\\end{tabular}\n"
      ],
      "text/markdown": [
       "| name           |      size | summary                                  |\n",
       "|:-------------- | ---------:|:---------------------------------------- |\n",
       "| Base           |           | Module                                   |\n",
       "| Core           |           | Module                                   |\n",
       "| Main           |           | Module                                   |\n",
       "| PLOTS_DEFAULTS | 384 bytes | Dict{Symbol, Symbol} with 1 entry        |\n",
       "| a              |   8 bytes | Int64                                    |\n",
       "| b              |   8 bytes | Float64                                  |\n",
       "| dict           | 431 bytes | Dict{String, Int64} with 3 entries       |\n",
       "| docs           | 6.466 KiB | Markdown.MD                              |\n",
       "| lst            | 176 bytes | 5-element Vector{Any}                    |\n",
       "| showall        |   0 bytes | showall (generic function with 1 method) |\n"
      ],
      "text/plain": [
       "  name                size summary                                 \n",
       "  –––––––––––––– ––––––––– ––––––––––––––––––––––––––––––––––––––––\n",
       "  Base                     Module                                  \n",
       "  Core                     Module                                  \n",
       "  Main                     Module                                  \n",
       "  PLOTS_DEFAULTS 384 bytes Dict{Symbol, Symbol} with 1 entry       \n",
       "  a                8 bytes Int64                                   \n",
       "  b                8 bytes Float64                                 \n",
       "  dict           431 bytes Dict{String, Int64} with 3 entries      \n",
       "  docs           6.466 KiB Markdown.MD                             \n",
       "  lst            176 bytes 5-element Vector{Any}                   \n",
       "  showall          0 bytes showall (generic function with 1 method)"
      ]
     },
     "execution_count": 21,
     "metadata": {},
     "output_type": "execute_result"
    }
   ],
   "source": [
    "varinfo()"
   ]
  },
  {
   "cell_type": "code",
   "execution_count": 22,
   "metadata": {},
   "outputs": [
    {
     "name": "stdout",
     "output_type": "stream",
     "text": [
      "search: \u001b[0m\u001b[1mv\u001b[22m\u001b[0m\u001b[1ma\u001b[22m\u001b[0m\u001b[1mr\u001b[22m\u001b[0m\u001b[1mi\u001b[22m\u001b[0m\u001b[1mn\u001b[22m\u001b[0m\u001b[1mf\u001b[22m\u001b[0m\u001b[1mo\u001b[22m @info \u001b[0m\u001b[1mv\u001b[22mersioninfo\n",
      "\n"
     ]
    },
    {
     "data": {
      "text/latex": [
       "\\begin{verbatim}\n",
       "varinfo(m::Module=Main, pattern::Regex=r\"\"; all=false, imported=false, recursive=false, sortby::Symbol=:name, minsize::Int=0)\n",
       "\\end{verbatim}\n",
       "Return a markdown table giving information about public global variables in a module, optionally restricted to those matching \\texttt{pattern}.\n",
       "\n",
       "The memory consumption estimate is an approximate lower bound on the size of the internal structure of the object.\n",
       "\n",
       "\\begin{itemize}\n",
       "\\item \\texttt{all} : also list non-public objects defined in the module, deprecated objects, and compiler-generated objects.\n",
       "\n",
       "\n",
       "\\item \\texttt{imported} : also list objects explicitly imported from other modules.\n",
       "\n",
       "\n",
       "\\item \\texttt{recursive} : recursively include objects in sub-modules, observing the same settings in each.\n",
       "\n",
       "\n",
       "\\item \\texttt{sortby} : the column to sort results by. Options are \\texttt{:name} (default), \\texttt{:size}, and \\texttt{:summary}.\n",
       "\n",
       "\n",
       "\\item \\texttt{minsize} : only includes objects with size at least \\texttt{minsize} bytes. Defaults to \\texttt{0}.\n",
       "\n",
       "\\end{itemize}\n",
       "The output of \\texttt{varinfo} is intended for display purposes only.  See also \\href{@ref}{\\texttt{names}} to get an array of symbols defined in a module, which is suitable for more general manipulations.\n",
       "\n"
      ],
      "text/markdown": [
       "```\n",
       "varinfo(m::Module=Main, pattern::Regex=r\"\"; all=false, imported=false, recursive=false, sortby::Symbol=:name, minsize::Int=0)\n",
       "```\n",
       "\n",
       "Return a markdown table giving information about public global variables in a module, optionally restricted to those matching `pattern`.\n",
       "\n",
       "The memory consumption estimate is an approximate lower bound on the size of the internal structure of the object.\n",
       "\n",
       "  * `all` : also list non-public objects defined in the module, deprecated objects, and compiler-generated objects.\n",
       "  * `imported` : also list objects explicitly imported from other modules.\n",
       "  * `recursive` : recursively include objects in sub-modules, observing the same settings in each.\n",
       "  * `sortby` : the column to sort results by. Options are `:name` (default), `:size`, and `:summary`.\n",
       "  * `minsize` : only includes objects with size at least `minsize` bytes. Defaults to `0`.\n",
       "\n",
       "The output of `varinfo` is intended for display purposes only.  See also [`names`](@ref) to get an array of symbols defined in a module, which is suitable for more general manipulations.\n"
      ],
      "text/plain": [
       "  \u001b[38;2;102;217;239mvarinfo\u001b[0m(\u001b[0m\u001b[39mm\u001b[0m\u001b[38;2;102;217;239m::\u001b[0m\u001b[38;2;102;217;239mModule\u001b[0m\u001b[38;2;249;38;114m=\u001b[0m\u001b[39mMain\u001b[0m\u001b[39m,\u001b[0m \u001b[0m\u001b[39mpattern\u001b[0m\u001b[38;2;102;217;239m::\u001b[0m\u001b[38;2;102;217;239mRegex\u001b[0m\u001b[38;2;249;38;114m=\u001b[0m\u001b[39mr\u001b[0m\u001b[39m\"\u001b[0m\u001b[38;2;230;219;116m\u001b[0m\u001b[39m\"\u001b[0m\u001b[39m;\u001b[0m \u001b[0m\u001b[39mall\u001b[0m\u001b[38;2;249;38;114m=\u001b[0m\u001b[38;2;249;38;114mfalse\u001b[0m\u001b[39m,\u001b[0m \u001b[0m\u001b[39mimported\u001b[0m\u001b[38;2;249;38;114m=\u001b[0m\u001b[38;2;249;38;114mfalse\u001b[0m\u001b[39m,\u001b[0m \u001b[0m\u001b[39mrecursive\u001b[0m\u001b[38;2;249;38;114m=\u001b[0m\u001b[38;2;249;38;114mfalse\u001b[0m\u001b[39m,\u001b[0m \u001b[0m\u001b[39msortby\u001b[0m\u001b[38;2;102;217;239m::\u001b[0m\u001b[38;2;102;217;239mSymbol\u001b[0m\u001b[38;2;249;38;114m=\u001b[0m\u001b[38;2;174;129;255m:\u001b[0m\u001b[38;2;174;129;255mname\u001b[0m\u001b[39m,\u001b[0m \u001b[0m\u001b[39mminsize\u001b[0m\u001b[38;2;102;217;239m::\u001b[0m\u001b[38;2;102;217;239mInt\u001b[0m\u001b[38;2;249;38;114m=\u001b[0m\u001b[38;2;174;129;255m0\u001b[0m\u001b[39m)\u001b[0m\n",
       "\n",
       "  Return a markdown table giving information about public global variables in\n",
       "  a module, optionally restricted to those matching \u001b[36mpattern\u001b[39m.\n",
       "\n",
       "  The memory consumption estimate is an approximate lower bound on the size of\n",
       "  the internal structure of the object.\n",
       "\n",
       "    •  \u001b[36mall\u001b[39m : also list non-public objects defined in the module,\n",
       "       deprecated objects, and compiler-generated objects.\n",
       "\n",
       "    •  \u001b[36mimported\u001b[39m : also list objects explicitly imported from other\n",
       "       modules.\n",
       "\n",
       "    •  \u001b[36mrecursive\u001b[39m : recursively include objects in sub-modules, observing\n",
       "       the same settings in each.\n",
       "\n",
       "    •  \u001b[36msortby\u001b[39m : the column to sort results by. Options are \u001b[36m:name\u001b[39m\n",
       "       (default), \u001b[36m:size\u001b[39m, and \u001b[36m:summary\u001b[39m.\n",
       "\n",
       "    •  \u001b[36mminsize\u001b[39m : only includes objects with size at least \u001b[36mminsize\u001b[39m bytes.\n",
       "       Defaults to \u001b[36m0\u001b[39m.\n",
       "\n",
       "  The output of \u001b[36mvarinfo\u001b[39m is intended for display purposes only. See also \u001b[36mnames\u001b[39m\n",
       "  to get an array of symbols defined in a module, which is suitable for more\n",
       "  general manipulations."
      ]
     },
     "execution_count": 22,
     "metadata": {},
     "output_type": "execute_result"
    }
   ],
   "source": [
    "?varinfo"
   ]
  },
  {
   "cell_type": "code",
   "execution_count": 23,
   "metadata": {},
   "outputs": [
    {
     "name": "stdout",
     "output_type": "stream",
     "text": [
      "Sum of 1 and 1.5 is 2.5\n"
     ]
    }
   ],
   "source": [
    "println(\"Sum of $a and $b is $(a+b)\")"
   ]
  },
  {
   "cell_type": "markdown",
   "metadata": {},
   "source": [
    "Addition, subtraction, multiplication, division, exponent"
   ]
  },
  {
   "cell_type": "code",
   "execution_count": 24,
   "metadata": {},
   "outputs": [
    {
     "data": {
      "text/plain": [
       "(2.5, -0.5, 1.5, 0.0, 1.0)"
      ]
     },
     "execution_count": 24,
     "metadata": {},
     "output_type": "execute_result"
    }
   ],
   "source": [
    "a+b, a-b, a*b, a÷b, a^b"
   ]
  },
  {
   "cell_type": "code",
   "execution_count": 25,
   "metadata": {},
   "outputs": [
    {
     "data": {
      "text/latex": [
       "\\textbf{Unicode support} \n",
       "\n",
       "\\begin{itemize}\n",
       "\\item[1. ] We can use π instead of \\texttt{pi}\n",
       "\n",
       "\n",
       "\\item[2. ] Greek letters improe comprehension: α \\emph{(alpha)}, β \\emph{(beta)}, ...\n",
       "\n",
       "\n",
       "\\item[3. ] Symbols: ≥ \\emph{(>=)}, ≤ \\emph{(<=)}, ∈ \\emph{(in)}, ... \n",
       "\n",
       "\n",
       "\\item[4. ] ...\n",
       "\n",
       "\\end{itemize}\n"
      ],
      "text/markdown": [
       "**Unicode support** \n",
       "\n",
       "1. We can use π instead of `pi`\n",
       "2. Greek letters improe comprehension: α *(alpha)*, β *(beta)*, ...\n",
       "3. Symbols: ≥ *(>=)*, ≤ *(<=)*, ∈ *(in)*, ...\n",
       "4. ...\n"
      ],
      "text/plain": [
       "  \u001b[1mUnicode support\u001b[22m\n",
       "\n",
       "    1. We can use π instead of \u001b[36mpi\u001b[39m\n",
       "\n",
       "    2. Greek letters improe comprehension: α \u001b[4m(alpha)\u001b[24m, β \u001b[4m(beta)\u001b[24m, ...\n",
       "\n",
       "    3. Symbols: ≥ \u001b[4m(>=)\u001b[24m, ≤ \u001b[4m(<=)\u001b[24m, ∈ \u001b[4m(in)\u001b[24m, ...\n",
       "\n",
       "    4. ..."
      ]
     },
     "execution_count": 25,
     "metadata": {},
     "output_type": "execute_result"
    }
   ],
   "source": [
    "md\"\"\"\n",
    "**Unicode support** \n",
    "1. We can use π instead of `pi`\n",
    "1. Greek letters improe comprehension: α _(alpha)_, β _(beta)_, ...\n",
    "1. Symbols: ≥ _(>=)_, ≤ _(<=)_, ∈ _(in)_, ... \n",
    "1. ...\n",
    "\"\"\""
   ]
  },
  {
   "cell_type": "code",
   "execution_count": 26,
   "metadata": {},
   "outputs": [
    {
     "data": {
      "text/plain": [
       "true"
      ]
     },
     "execution_count": 26,
     "metadata": {},
     "output_type": "execute_result"
    }
   ],
   "source": [
    "3 ≤ π "
   ]
  },
  {
   "cell_type": "code",
   "execution_count": 27,
   "metadata": {},
   "outputs": [
    {
     "data": {
      "text/plain": [
       "Float64"
      ]
     },
     "execution_count": 27,
     "metadata": {},
     "output_type": "execute_result"
    }
   ],
   "source": [
    "typeof(3.14)"
   ]
  },
  {
   "cell_type": "code",
   "execution_count": 28,
   "metadata": {},
   "outputs": [
    {
     "data": {
      "text/plain": [
       "Any"
      ]
     },
     "execution_count": 28,
     "metadata": {},
     "output_type": "execute_result"
    }
   ],
   "source": [
    "Float64 |> supertype |> supertype |> supertype |> supertype "
   ]
  },
  {
   "cell_type": "code",
   "execution_count": 29,
   "metadata": {},
   "outputs": [
    {
     "data": {
      "text/plain": [
       "3-element Vector{Any}:\n",
       " Bool\n",
       " Signed\n",
       " Unsigned"
      ]
     },
     "execution_count": 29,
     "metadata": {},
     "output_type": "execute_result"
    }
   ],
   "source": [
    "Integer |> subtypes"
   ]
  },
  {
   "cell_type": "code",
   "execution_count": 30,
   "metadata": {},
   "outputs": [
    {
     "data": {
      "text/plain": [
       "6-element Vector{Any}:\n",
       " BigInt\n",
       " Int128\n",
       " Int16\n",
       " Int32\n",
       " Int64\n",
       " Int8"
      ]
     },
     "execution_count": 30,
     "metadata": {},
     "output_type": "execute_result"
    }
   ],
   "source": [
    "Signed |> subtypes"
   ]
  },
  {
   "cell_type": "code",
   "execution_count": 31,
   "metadata": {},
   "outputs": [
    {
     "data": {
      "text/plain": [
       "true"
      ]
     },
     "execution_count": 31,
     "metadata": {},
     "output_type": "execute_result"
    }
   ],
   "source": [
    "UInt8 <: Unsigned # UInt8 is one subtype of Unsigned"
   ]
  },
  {
   "cell_type": "code",
   "execution_count": 32,
   "metadata": {},
   "outputs": [
    {
     "data": {
      "text/plain": [
       "true"
      ]
     },
     "execution_count": 32,
     "metadata": {},
     "output_type": "execute_result"
    }
   ],
   "source": [
    "Signed >: Int8 # Signed is supertype of Int8"
   ]
  },
  {
   "cell_type": "code",
   "execution_count": 33,
   "metadata": {},
   "outputs": [
    {
     "data": {
      "text/plain": [
       "Int64"
      ]
     },
     "execution_count": 33,
     "metadata": {},
     "output_type": "execute_result"
    }
   ],
   "source": [
    "typeof(3)"
   ]
  },
  {
   "cell_type": "code",
   "execution_count": 34,
   "metadata": {},
   "outputs": [
    {
     "data": {
      "text/plain": [
       "UInt8"
      ]
     },
     "execution_count": 34,
     "metadata": {},
     "output_type": "execute_result"
    }
   ],
   "source": [
    "tmp::UInt8 = 3\n",
    "typeof(tmp)"
   ]
  },
  {
   "cell_type": "markdown",
   "metadata": {},
   "source": [
    "### Mathematical Notation\n"
   ]
  },
  {
   "cell_type": "code",
   "execution_count": 35,
   "metadata": {},
   "outputs": [
    {
     "name": "stdout",
     "output_type": "stream",
     "text": [
      "3\n",
      "3\n"
     ]
    }
   ],
   "source": [
    "println(1+2)\n",
    "println(+(1, 2))"
   ]
  },
  {
   "cell_type": "code",
   "execution_count": 36,
   "metadata": {},
   "outputs": [
    {
     "name": "stdout",
     "output_type": "stream",
     "text": [
      "-1\n",
      "-1\n"
     ]
    }
   ],
   "source": [
    "println(1-2)\n",
    "println(-(1, 2))"
   ]
  },
  {
   "cell_type": "code",
   "execution_count": 37,
   "metadata": {},
   "outputs": [
    {
     "name": "stdout",
     "output_type": "stream",
     "text": [
      "2\n",
      "2\n"
     ]
    }
   ],
   "source": [
    "println(1*2)\n",
    "println(*(1, 2))"
   ]
  },
  {
   "cell_type": "code",
   "execution_count": 38,
   "metadata": {},
   "outputs": [
    {
     "name": "stdout",
     "output_type": "stream",
     "text": [
      "0.5\n",
      "0.5\n"
     ]
    }
   ],
   "source": [
    "println(1/2)\n",
    "println(/(1, 2))"
   ]
  },
  {
   "cell_type": "code",
   "execution_count": 39,
   "metadata": {},
   "outputs": [
    {
     "name": "stdout",
     "output_type": "stream",
     "text": [
      "2.15\n",
      "20//\n"
     ]
    }
   ],
   "source": [
    "println(3/4+7/5)\n",
    "println(3//4+7//5)"
   ]
  },
  {
   "cell_type": "markdown",
   "metadata": {},
   "source": [
    "### Array Transformations\n",
    "Perform calculations on entire arrays at once."
   ]
  },
  {
   "cell_type": "code",
   "execution_count": 40,
   "metadata": {},
   "outputs": [
    {
     "data": {
      "text/plain": [
       "3×2 Matrix{Float64}:\n",
       " 0.0  0.0\n",
       " 0.0  0.0\n",
       " 0.0  0.0"
      ]
     },
     "execution_count": 40,
     "metadata": {},
     "output_type": "execute_result"
    }
   ],
   "source": [
    "zeros(3, 2)"
   ]
  },
  {
   "cell_type": "code",
   "execution_count": 41,
   "metadata": {},
   "outputs": [
    {
     "data": {
      "text/plain": [
       "3×3×2 Array{Float64, 3}:\n",
       "[:, :, 1] =\n",
       " 1.0  1.0  1.0\n",
       " 1.0  1.0  1.0\n",
       " 1.0  1.0  1.0\n",
       "\n",
       "[:, :, 2] =\n",
       " 1.0  1.0  1.0\n",
       " 1.0  1.0  1.0\n",
       " 1.0  1.0  1.0"
      ]
     },
     "execution_count": 41,
     "metadata": {},
     "output_type": "execute_result"
    }
   ],
   "source": [
    "ones(3, 3, 2)"
   ]
  },
  {
   "cell_type": "code",
   "execution_count": 42,
   "metadata": {},
   "outputs": [
    {
     "data": {
      "text/plain": [
       "2×2 Matrix{Irrational{:π}}:\n",
       " π  π\n",
       " π  π"
      ]
     },
     "execution_count": 42,
     "metadata": {},
     "output_type": "execute_result"
    }
   ],
   "source": [
    "fill(π, (2, 2))"
   ]
  },
  {
   "cell_type": "code",
   "execution_count": 43,
   "metadata": {},
   "outputs": [
    {
     "data": {
      "text/plain": [
       "2×2 Matrix{Float64}:\n",
       " 3.14159  3.14159\n",
       " 3.14159  3.14159"
      ]
     },
     "execution_count": 43,
     "metadata": {},
     "output_type": "execute_result"
    }
   ],
   "source": [
    "π .* ones(2, 2)"
   ]
  },
  {
   "cell_type": "code",
   "execution_count": 44,
   "metadata": {},
   "outputs": [
    {
     "data": {
      "text/latex": [
       "Creates a \\texttt{BitArray} with all values set to \\texttt{true}\n",
       "\n"
      ],
      "text/markdown": [
       "Creates a `BitArray` with all values set to `true`\n"
      ],
      "text/plain": [
       "  Creates a \u001b[36mBitArray\u001b[39m with all values set to \u001b[36mtrue\u001b[39m"
      ]
     },
     "execution_count": 44,
     "metadata": {},
     "output_type": "execute_result"
    }
   ],
   "source": [
    "md\"Creates a `BitArray` with all values set to `true`\""
   ]
  },
  {
   "cell_type": "code",
   "execution_count": 45,
   "metadata": {},
   "outputs": [
    {
     "name": "stdout",
     "output_type": "stream",
     "text": [
      "Bool[1 1 1 1; 1 1 1 1]\n"
     ]
    },
    {
     "data": {
      "text/plain": [
       "BitMatrix\u001b[90m (alias for \u001b[39m\u001b[90mBitArray{2}\u001b[39m\u001b[90m)\u001b[39m"
      ]
     },
     "execution_count": 45,
     "metadata": {},
     "output_type": "execute_result"
    }
   ],
   "source": [
    "var = trues(2, 4)\n",
    "println(var)\n",
    "typeof(var)"
   ]
  },
  {
   "cell_type": "code",
   "execution_count": 46,
   "metadata": {},
   "outputs": [
    {
     "data": {
      "text/latex": [
       "Creates a \\texttt{BitArray} with all values set to \\texttt{false}\n",
       "\n"
      ],
      "text/markdown": [
       "Creates a `BitArray` with all values set to `false`\n"
      ],
      "text/plain": [
       "  Creates a \u001b[36mBitArray\u001b[39m with all values set to \u001b[36mfalse\u001b[39m"
      ]
     },
     "execution_count": 46,
     "metadata": {},
     "output_type": "execute_result"
    }
   ],
   "source": [
    "md\"Creates a `BitArray` with all values set to `false`\""
   ]
  },
  {
   "cell_type": "code",
   "execution_count": 47,
   "metadata": {},
   "outputs": [
    {
     "name": "stdout",
     "output_type": "stream",
     "text": [
      "Bool[0 0 0 0; 0 0 0 0]\n"
     ]
    },
    {
     "data": {
      "text/plain": [
       "BitMatrix\u001b[90m (alias for \u001b[39m\u001b[90mBitArray{2}\u001b[39m\u001b[90m)\u001b[39m"
      ]
     },
     "execution_count": 47,
     "metadata": {},
     "output_type": "execute_result"
    }
   ],
   "source": [
    "var = falses(2, 4)\n",
    "println(var)\n",
    "typeof(var)"
   ]
  },
  {
   "cell_type": "code",
   "execution_count": 48,
   "metadata": {},
   "outputs": [
    {
     "data": {
      "text/latex": [
       "\\textbf{Comprehension}\n",
       "\n"
      ],
      "text/markdown": [
       "**Comprehension**\n"
      ],
      "text/plain": [
       "  \u001b[1mComprehension\u001b[22m"
      ]
     },
     "execution_count": 48,
     "metadata": {},
     "output_type": "execute_result"
    }
   ],
   "source": [
    "md\"**Comprehension**\""
   ]
  },
  {
   "cell_type": "code",
   "execution_count": 49,
   "metadata": {},
   "outputs": [
    {
     "name": "stdout",
     "output_type": "stream",
     "text": [
      "H\n",
      "e\n",
      "l\n",
      "l\n",
      "o\n",
      " \n",
      "J\n",
      "u\n",
      "l\n",
      "i\n",
      "a\n"
     ]
    }
   ],
   "source": [
    "str = \"Hello Julia\"\n",
    "[println(el) for el in str];"
   ]
  },
  {
   "cell_type": "markdown",
   "metadata": {},
   "source": [
    "### Calling Functions\n",
    "Call functions to obtain multiple outputs."
   ]
  },
  {
   "cell_type": "code",
   "execution_count": 50,
   "metadata": {},
   "outputs": [
    {
     "data": {
      "text/latex": [
       "\\href{https://docs.julialang.org/en/v1/manual/functions/}{Functions in ${\\tt Julia}$}\n",
       "\n"
      ],
      "text/markdown": [
       "[Functions in ${\\tt Julia}$](https://docs.julialang.org/en/v1/manual/functions/)\n"
      ],
      "text/plain": [
       "  Functions in \u001b[35m{\\tt Julia}\u001b[39m\n",
       "  (https://docs.julialang.org/en/v1/manual/functions/)"
      ]
     },
     "execution_count": 50,
     "metadata": {},
     "output_type": "execute_result"
    }
   ],
   "source": [
    "md\"\"\"\n",
    "[Functions in ${\\tt Julia}$](https://docs.julialang.org/en/v1/manual/functions/)\n",
    "\"\"\""
   ]
  },
  {
   "cell_type": "code",
   "execution_count": 51,
   "metadata": {},
   "outputs": [
    {
     "data": {
      "text/latex": [
       "\\textbf{Spreading Arguments}\n",
       "\n"
      ],
      "text/markdown": [
       "**Spreading Arguments**\n"
      ],
      "text/plain": [
       "  \u001b[1mSpreading Arguments\u001b[22m"
      ]
     },
     "execution_count": 51,
     "metadata": {},
     "output_type": "execute_result"
    }
   ],
   "source": [
    "md\"**Spreading Arguments**\""
   ]
  },
  {
   "cell_type": "markdown",
   "metadata": {},
   "source": [
    "_Optional positional arguments_"
   ]
  },
  {
   "cell_type": "code",
   "execution_count": 52,
   "metadata": {},
   "outputs": [
    {
     "data": {
      "text/plain": [
       "foo (generic function with 4 methods)"
      ]
     },
     "execution_count": 52,
     "metadata": {},
     "output_type": "execute_result"
    }
   ],
   "source": [
    "foo(x=0, y=0, z=0) = x+y+z"
   ]
  },
  {
   "cell_type": "code",
   "execution_count": 53,
   "metadata": {},
   "outputs": [
    {
     "data": {
      "text/plain": [
       "(0, 6)"
      ]
     },
     "execution_count": 53,
     "metadata": {},
     "output_type": "execute_result"
    }
   ],
   "source": [
    "foo(), foo(1, 2, 3)"
   ]
  },
  {
   "cell_type": "code",
   "execution_count": 54,
   "metadata": {},
   "outputs": [
    {
     "data": {
      "text/plain": [
       "6"
      ]
     },
     "execution_count": 54,
     "metadata": {},
     "output_type": "execute_result"
    }
   ],
   "source": [
    "foo([1, 2, 3]...) # Splat `...` operator"
   ]
  },
  {
   "cell_type": "markdown",
   "metadata": {},
   "source": [
    "_Keywords arguments_"
   ]
  },
  {
   "cell_type": "code",
   "execution_count": 55,
   "metadata": {},
   "outputs": [
    {
     "data": {
      "text/plain": [
       "bar (generic function with 1 method)"
      ]
     },
     "execution_count": 55,
     "metadata": {},
     "output_type": "execute_result"
    }
   ],
   "source": [
    "bar(; a::Real=0, b::Real=0, c::Real=0) = a+b+c"
   ]
  },
  {
   "cell_type": "code",
   "execution_count": 56,
   "metadata": {},
   "outputs": [
    {
     "data": {
      "text/plain": [
       "0"
      ]
     },
     "execution_count": 56,
     "metadata": {},
     "output_type": "execute_result"
    }
   ],
   "source": [
    "bar()"
   ]
  },
  {
   "cell_type": "code",
   "execution_count": 57,
   "metadata": {},
   "outputs": [
    {
     "data": {
      "text/plain": [
       "7.2"
      ]
     },
     "execution_count": 57,
     "metadata": {},
     "output_type": "execute_result"
    }
   ],
   "source": [
    "bar(; Dict(:a => 3, :b => 5.4, :c => -1.2)... ) # ; kwargs..."
   ]
  },
  {
   "cell_type": "code",
   "execution_count": 58,
   "metadata": {},
   "outputs": [
    {
     "name": "stdout",
     "output_type": "stream",
     "text": [
      "MethodError(Main.bar, (1, 2, 3), 0x000000000000683c)\n"
     ]
    }
   ],
   "source": [
    "# THROW AN ERROR \n",
    "try bar([1, 2, 3]...)\n",
    "catch error\n",
    "    println(error)\n",
    "end"
   ]
  },
  {
   "cell_type": "code",
   "execution_count": 59,
   "metadata": {},
   "outputs": [
    {
     "data": {
      "text/latex": [
       "\\textbf{Multiple Dispatch}\n",
       "\n"
      ],
      "text/markdown": [
       "**Multiple Dispatch**\n"
      ],
      "text/plain": [
       "  \u001b[1mMultiple Dispatch\u001b[22m"
      ]
     },
     "execution_count": 59,
     "metadata": {},
     "output_type": "execute_result"
    }
   ],
   "source": [
    "md\"**Multiple Dispatch**\""
   ]
  },
  {
   "cell_type": "code",
   "execution_count": 60,
   "metadata": {},
   "outputs": [
    {
     "data": {
      "text/plain": [
       "f (generic function with 1 method)"
      ]
     },
     "execution_count": 60,
     "metadata": {},
     "output_type": "execute_result"
    }
   ],
   "source": [
    "# 1st method signature\n",
    "function f(x::Int)\n",
    "    x^2\n",
    "end"
   ]
  },
  {
   "cell_type": "code",
   "execution_count": 61,
   "metadata": {},
   "outputs": [
    {
     "data": {
      "text/plain": [
       "f (generic function with 2 methods)"
      ]
     },
     "execution_count": 61,
     "metadata": {},
     "output_type": "execute_result"
    }
   ],
   "source": [
    "# 2nd method signature\n",
    "f(x::Float64) = x^2+1"
   ]
  },
  {
   "cell_type": "code",
   "execution_count": 62,
   "metadata": {},
   "outputs": [
    {
     "data": {
      "text/plain": [
       "f (generic function with 4 methods)"
      ]
     },
     "execution_count": 62,
     "metadata": {},
     "output_type": "execute_result"
    }
   ],
   "source": [
    "# 3rd method signature\n",
    "f(x::Char) = x*'y'*'z'\n",
    "# 4th mehod signature\n",
    "f(x::String) = x*x "
   ]
  },
  {
   "cell_type": "code",
   "execution_count": 63,
   "metadata": {},
   "outputs": [
    {
     "data": {
      "text/html": [
       "# 4 methods for generic function <b>f</b> from \u001b[35mMain\u001b[39m:<ul><li> f(x::<b>String</b>) in Main at In[62]:4</li> <li> f(x::<b>Char</b>) in Main at In[62]:2</li> <li> f(x::<b>Float64</b>) in Main at In[61]:2</li> <li> f(x::<b>Int64</b>) in Main at In[60]:2</li> </ul>"
      ],
      "text/plain": [
       "# 4 methods for generic function \"f\" from \u001b[35mMain\u001b[39m:\n",
       " [1] f(\u001b[90mx\u001b[39m::\u001b[1mString\u001b[22m)\n",
       "\u001b[90m     @\u001b[39m \u001b[90m\u001b[4mIn[62]:4\u001b[24m\u001b[39m\n",
       " [2] f(\u001b[90mx\u001b[39m::\u001b[1mChar\u001b[22m)\n",
       "\u001b[90m     @\u001b[39m \u001b[90m\u001b[4mIn[62]:2\u001b[24m\u001b[39m\n",
       " [3] f(\u001b[90mx\u001b[39m::\u001b[1mFloat64\u001b[22m)\n",
       "\u001b[90m     @\u001b[39m \u001b[90m\u001b[4mIn[61]:2\u001b[24m\u001b[39m\n",
       " [4] f(\u001b[90mx\u001b[39m::\u001b[1mInt64\u001b[22m)\n",
       "\u001b[90m     @\u001b[39m \u001b[90m\u001b[4mIn[60]:2\u001b[24m\u001b[39m"
      ]
     },
     "execution_count": 63,
     "metadata": {},
     "output_type": "execute_result"
    }
   ],
   "source": [
    "methods(f)"
   ]
  },
  {
   "cell_type": "code",
   "execution_count": 64,
   "metadata": {},
   "outputs": [
    {
     "data": {
      "text/plain": [
       "(1, 2.0, \"xyz\", \"abcabc\")"
      ]
     },
     "execution_count": 64,
     "metadata": {},
     "output_type": "execute_result"
    }
   ],
   "source": [
    "f(1), f(1.), f('x'), f(\"abc\")"
   ]
  },
  {
   "cell_type": "code",
   "execution_count": 65,
   "metadata": {},
   "outputs": [
    {
     "data": {
      "text/plain": [
       "mycos (generic function with 2 methods)"
      ]
     },
     "execution_count": 65,
     "metadata": {},
     "output_type": "execute_result"
    }
   ],
   "source": [
    "mycos(x) = cos(x)\n",
    "mycos(adj, hyp) = adj/hyp # Extension to `mycos` function"
   ]
  },
  {
   "cell_type": "code",
   "execution_count": 66,
   "metadata": {
    "scrolled": true
   },
   "outputs": [
    {
     "data": {
      "text/html": [
       "# 2 methods for generic function <b>mycos</b> from \u001b[35mMain\u001b[39m:<ul><li> mycos(adj, hyp) in Main at In[65]:2</li> <li> mycos(x) in Main at In[65]:1</li> </ul>"
      ],
      "text/plain": [
       "# 2 methods for generic function \"mycos\" from \u001b[35mMain\u001b[39m:\n",
       " [1] mycos(\u001b[90madj\u001b[39m, \u001b[90mhyp\u001b[39m)\n",
       "\u001b[90m     @\u001b[39m \u001b[90m\u001b[4mIn[65]:2\u001b[24m\u001b[39m\n",
       " [2] mycos(\u001b[90mx\u001b[39m)\n",
       "\u001b[90m     @\u001b[39m \u001b[90m\u001b[4mIn[65]:1\u001b[24m\u001b[39m"
      ]
     },
     "execution_count": 66,
     "metadata": {},
     "output_type": "execute_result"
    }
   ],
   "source": [
    "methods(mycos)"
   ]
  },
  {
   "cell_type": "code",
   "execution_count": 67,
   "metadata": {
    "scrolled": true
   },
   "outputs": [
    {
     "data": {
      "text/html": [
       "mycos(x) in Main at In[65]:1"
      ],
      "text/plain": [
       "mycos(\u001b[90mx\u001b[39m)\n",
       "\u001b[90m     @\u001b[39m \u001b[90mMain\u001b[39m \u001b[90m\u001b[4mIn[65]:1\u001b[24m\u001b[39m"
      ]
     },
     "execution_count": 67,
     "metadata": {},
     "output_type": "execute_result"
    }
   ],
   "source": [
    "@which mycos(π)"
   ]
  },
  {
   "cell_type": "code",
   "execution_count": 68,
   "metadata": {
    "scrolled": true
   },
   "outputs": [
    {
     "data": {
      "text/html": [
       "mycos(adj, hyp) in Main at In[65]:2"
      ],
      "text/plain": [
       "mycos(\u001b[90madj\u001b[39m, \u001b[90mhyp\u001b[39m)\n",
       "\u001b[90m     @\u001b[39m \u001b[90mMain\u001b[39m \u001b[90m\u001b[4mIn[65]:2\u001b[24m\u001b[39m"
      ]
     },
     "execution_count": 68,
     "metadata": {},
     "output_type": "execute_result"
    }
   ],
   "source": [
    "@which mycos(5, 3)"
   ]
  },
  {
   "cell_type": "code",
   "execution_count": 69,
   "metadata": {},
   "outputs": [
    {
     "data": {
      "text/plain": [
       "mycos (generic function with 2 methods)"
      ]
     },
     "execution_count": 69,
     "metadata": {},
     "output_type": "execute_result"
    }
   ],
   "source": [
    "mycos(adj, hyp=10) = adj/hyp"
   ]
  },
  {
   "cell_type": "code",
   "execution_count": 70,
   "metadata": {},
   "outputs": [
    {
     "data": {
      "text/html": [
       "mycos(adj) in Main at In[69]:1"
      ],
      "text/plain": [
       "mycos(\u001b[90madj\u001b[39m)\n",
       "\u001b[90m     @\u001b[39m \u001b[90mMain\u001b[39m \u001b[90m\u001b[4mIn[69]:1\u001b[24m\u001b[39m"
      ]
     },
     "execution_count": 70,
     "metadata": {},
     "output_type": "execute_result"
    }
   ],
   "source": [
    "@which mycos(π)"
   ]
  },
  {
   "cell_type": "markdown",
   "metadata": {},
   "source": [
    "**Function Chaining** applies a function to the preceding argument."
   ]
  },
  {
   "cell_type": "code",
   "execution_count": 71,
   "metadata": {},
   "outputs": [
    {
     "data": {
      "text/plain": [
       "9"
      ]
     },
     "execution_count": 71,
     "metadata": {},
     "output_type": "execute_result"
    }
   ],
   "source": [
    "g(x) = x+1\n",
    "h(x) = x^2\n",
    "x = 2 |> g |> h"
   ]
  },
  {
   "cell_type": "code",
   "execution_count": 72,
   "metadata": {},
   "outputs": [
    {
     "data": {
      "text/latex": [
       "Another pssible way is t use \\texttt{∘}\\emph{{\\textbackslash}circ\\{tab\\}} symbol\n",
       "\n"
      ],
      "text/markdown": [
       "Another pssible way is t use `∘`*\\circ{tab}* symbol\n"
      ],
      "text/plain": [
       "  Another pssible way is t use \u001b[36m∘\u001b[39m\u001b[4m\\circ{tab}\u001b[24m symbol"
      ]
     },
     "execution_count": 72,
     "metadata": {},
     "output_type": "execute_result"
    }
   ],
   "source": [
    "md\"Another pssible way is t use `∘`_\\circ{tab}_ symbol\""
   ]
  },
  {
   "cell_type": "code",
   "execution_count": 73,
   "metadata": {},
   "outputs": [
    {
     "data": {
      "text/plain": [
       "9"
      ]
     },
     "execution_count": 73,
     "metadata": {},
     "output_type": "execute_result"
    }
   ],
   "source": [
    "(h∘g)(2)"
   ]
  },
  {
   "cell_type": "code",
   "execution_count": 74,
   "metadata": {},
   "outputs": [
    {
     "data": {
      "text/latex": [
       "Definition of a function can be done on the fly\n",
       "\n"
      ],
      "text/markdown": [
       "Definition of a function can be done on the fly\n"
      ],
      "text/plain": [
       "  Definition of a function can be done on the fly"
      ]
     },
     "execution_count": 74,
     "metadata": {},
     "output_type": "execute_result"
    }
   ],
   "source": [
    "md\"Definition of a function can be done on the fly\""
   ]
  },
  {
   "cell_type": "code",
   "execution_count": 75,
   "metadata": {},
   "outputs": [
    {
     "data": {
      "text/plain": [
       "5.0"
      ]
     },
     "execution_count": 75,
     "metadata": {},
     "output_type": "execute_result"
    }
   ],
   "source": [
    "y = 5 |> (x->x^2) |> √"
   ]
  },
  {
   "cell_type": "code",
   "execution_count": 76,
   "metadata": {},
   "outputs": [
    {
     "data": {
      "text/latex": [
       "\\textbf{Metaprogramming:} Code is optimized by nature in ${\\tt Julia}$\n",
       "\n"
      ],
      "text/markdown": [
       "**Metaprogramming:** Code is optimized by nature in ${\\tt Julia}$\n"
      ],
      "text/plain": [
       "  \u001b[1mMetaprogramming:\u001b[22m Code is optimized by nature in \u001b[35m{\\tt Julia}\u001b[39m"
      ]
     },
     "execution_count": 76,
     "metadata": {},
     "output_type": "execute_result"
    }
   ],
   "source": [
    "md\"\"\"\n",
    "**Metaprogramming:** Code is optimized by nature in ${\\tt Julia}$\n",
    "\"\"\""
   ]
  },
  {
   "cell_type": "code",
   "execution_count": 77,
   "metadata": {},
   "outputs": [
    {
     "data": {
      "text/plain": [
       "Foo (generic function with 1 method)"
      ]
     },
     "execution_count": 77,
     "metadata": {},
     "output_type": "execute_result"
    }
   ],
   "source": [
    "function Foo(x::Integer)\n",
    "    y = x\n",
    "    for i=1:100\n",
    "        y += i^2\n",
    "    end\n",
    "    return y\n",
    "end"
   ]
  },
  {
   "cell_type": "code",
   "execution_count": 78,
   "metadata": {},
   "outputs": [
    {
     "name": "stdout",
     "output_type": "stream",
     "text": [
      "\u001b[90m; Function Signature: Foo(Int64)\u001b[39m\n",
      "\u001b[90m;  @ In[77]:1 within `Foo`\u001b[39m\n",
      "\u001b[95mdefine\u001b[39m \u001b[36mi64\u001b[39m \u001b[93m@julia_Foo_22518\u001b[39m\u001b[33m(\u001b[39m\u001b[36mi64\u001b[39m \u001b[95msignext\u001b[39m \u001b[0m%\"x::Int64\"\u001b[33m)\u001b[39m \u001b[0m#0 \u001b[33m{\u001b[39m\n",
      "\u001b[91mtop:\u001b[39m\n",
      "  \u001b[0m%0 \u001b[0m= \u001b[96m\u001b[1madd\u001b[22m\u001b[39m \u001b[36mi64\u001b[39m \u001b[0m%\"x::Int64\"\u001b[0m, \u001b[33m338350\u001b[39m\n",
      "\u001b[90m;  @ In[77]:6 within `Foo`\u001b[39m\n",
      "  \u001b[96m\u001b[1mret\u001b[22m\u001b[39m \u001b[36mi64\u001b[39m \u001b[0m%0\n",
      "\u001b[33m}\u001b[39m\n"
     ]
    }
   ],
   "source": [
    "@code_llvm Foo(3)"
   ]
  },
  {
   "cell_type": "code",
   "execution_count": 79,
   "metadata": {},
   "outputs": [
    {
     "data": {
      "text/latex": [
       "\\begin{verbatim}\n",
       "@code_llvm\n",
       "\\end{verbatim}\n",
       "Evaluates the arguments to the function or macro call, determines their types, and calls \\href{@ref}{\\texttt{code\\_llvm}} on the resulting expression. Set the optional keyword arguments \\texttt{raw}, \\texttt{dump\\_module}, \\texttt{debuginfo}, \\texttt{optimize} by putting them and their value before the function call, like this:\n",
       "\n",
       "\\begin{verbatim}\n",
       "@code_llvm raw=true dump_module=true debuginfo=:default f(x)\n",
       "@code_llvm optimize=false f(x)\n",
       "\\end{verbatim}\n",
       "\\texttt{optimize} controls whether additional optimizations, such as inlining, are also applied. \\texttt{raw} makes all metadata and dbg.* calls visible. \\texttt{debuginfo} may be one of \\texttt{:source} (default) or \\texttt{:none},  to specify the verbosity of code comments. \\texttt{dump\\_module} prints the entire module that encapsulates the function.\n",
       "\n",
       "See also: \\href{@ref}{\\texttt{code\\_llvm}}, \\href{@ref}{\\texttt{@code\\_warntype}}, \\href{@ref}{\\texttt{@code\\_typed}}, \\href{@ref}{\\texttt{@code\\_lowered}}, \\href{@ref}{\\texttt{@code\\_native}}.\n",
       "\n"
      ],
      "text/markdown": [
       "```\n",
       "@code_llvm\n",
       "```\n",
       "\n",
       "Evaluates the arguments to the function or macro call, determines their types, and calls [`code_llvm`](@ref) on the resulting expression. Set the optional keyword arguments `raw`, `dump_module`, `debuginfo`, `optimize` by putting them and their value before the function call, like this:\n",
       "\n",
       "```\n",
       "@code_llvm raw=true dump_module=true debuginfo=:default f(x)\n",
       "@code_llvm optimize=false f(x)\n",
       "```\n",
       "\n",
       "`optimize` controls whether additional optimizations, such as inlining, are also applied. `raw` makes all metadata and dbg.* calls visible. `debuginfo` may be one of `:source` (default) or `:none`,  to specify the verbosity of code comments. `dump_module` prints the entire module that encapsulates the function.\n",
       "\n",
       "See also: [`code_llvm`](@ref), [`@code_warntype`](@ref), [`@code_typed`](@ref), [`@code_lowered`](@ref), [`@code_native`](@ref).\n"
      ],
      "text/plain": [
       "  \u001b[38;2;102;217;239m@\u001b[0m\u001b[38;2;102;217;239mcode_llvm\u001b[0m\n",
       "\n",
       "  Evaluates the arguments to the function or macro call, determines their\n",
       "  types, and calls \u001b[36mcode_llvm\u001b[39m on the resulting expression. Set the optional\n",
       "  keyword arguments \u001b[36mraw\u001b[39m, \u001b[36mdump_module\u001b[39m, \u001b[36mdebuginfo\u001b[39m, \u001b[36moptimize\u001b[39m by putting them and\n",
       "  their value before the function call, like this:\n",
       "\n",
       "  \u001b[38;2;102;217;239m@\u001b[0m\u001b[38;2;102;217;239mcode_llvm\u001b[0m \u001b[0m\u001b[39mraw\u001b[0m\u001b[38;2;249;38;114m=\u001b[0m\u001b[38;2;249;38;114mtrue\u001b[0m \u001b[0m\u001b[39mdump_module\u001b[0m\u001b[38;2;249;38;114m=\u001b[0m\u001b[38;2;249;38;114mtrue\u001b[0m \u001b[0m\u001b[39mdebuginfo\u001b[0m\u001b[38;2;249;38;114m=\u001b[0m\u001b[38;2;174;129;255m:\u001b[0m\u001b[38;2;174;129;255mdefault\u001b[0m \u001b[0m\u001b[38;2;102;217;239mf\u001b[0m(\u001b[0m\u001b[39mx\u001b[0m\u001b[39m)\u001b[0m\n",
       "  \u001b[0m\u001b[38;2;102;217;239m@\u001b[0m\u001b[38;2;102;217;239mcode_llvm\u001b[0m \u001b[0m\u001b[39moptimize\u001b[0m\u001b[38;2;249;38;114m=\u001b[0m\u001b[38;2;249;38;114mfalse\u001b[0m \u001b[0m\u001b[38;2;102;217;239mf\u001b[0m(\u001b[0m\u001b[39mx\u001b[0m\u001b[39m)\u001b[0m\n",
       "\n",
       "  \u001b[36moptimize\u001b[39m controls whether additional optimizations, such as inlining, are\n",
       "  also applied. \u001b[36mraw\u001b[39m makes all metadata and dbg.* calls visible. \u001b[36mdebuginfo\u001b[39m may\n",
       "  be one of \u001b[36m:source\u001b[39m (default) or \u001b[36m:none\u001b[39m, to specify the verbosity of code\n",
       "  comments. \u001b[36mdump_module\u001b[39m prints the entire module that encapsulates the\n",
       "  function.\n",
       "\n",
       "  See also: \u001b[36mcode_llvm\u001b[39m, \u001b[36m@code_warntype\u001b[39m, \u001b[36m@code_typed\u001b[39m, \u001b[36m@code_lowered\u001b[39m,\n",
       "  \u001b[36m@code_native\u001b[39m."
      ]
     },
     "execution_count": 79,
     "metadata": {},
     "output_type": "execute_result"
    }
   ],
   "source": [
    "?@code_llvm"
   ]
  },
  {
   "cell_type": "markdown",
   "metadata": {},
   "source": [
    "### Plotting Data\n",
    "Visualize variables using ${\\tt Julia}$'s plotting functions."
   ]
  },
  {
   "cell_type": "code",
   "execution_count": 80,
   "metadata": {},
   "outputs": [
    {
     "name": "stderr",
     "output_type": "stream",
     "text": [
      "\u001b[32m\u001b[1m   Resolving\u001b[22m\u001b[39m package versions...\n",
      "\u001b[32m\u001b[1m  No Changes\u001b[22m\u001b[39m to `~/Work/git-repos/AI-ML-DL/jlai/Codes/Julia/Part-1/Project.toml`\n",
      "\u001b[32m\u001b[1m  No Changes\u001b[22m\u001b[39m to `~/Work/git-repos/AI-ML-DL/jlai/Codes/Julia/Part-1/Manifest.toml`\n"
     ]
    }
   ],
   "source": [
    "]add Plots"
   ]
  },
  {
   "cell_type": "code",
   "execution_count": 81,
   "metadata": {},
   "outputs": [
    {
     "name": "stderr",
     "output_type": "stream",
     "text": [
      "WARNING: using Plots.bar in module Main conflicts with an existing identifier.\n"
     ]
    }
   ],
   "source": [
    "using Plots # GR is the default backend"
   ]
  },
  {
   "cell_type": "code",
   "execution_count": 82,
   "metadata": {},
   "outputs": [
    {
     "data": {
      "image/png": "[encoded data removed]",
      "image/svg+xml": [
       "<?xml version=\"1.0\" encoding=\"utf-8\"?>\n",
       "<svg xmlns=\"http://www.w3.org/2000/svg\" xmlns:xlink=\"http://www.w3.org/1999/xlink\" width=\"600\" height=\"400\" viewBox=\"0 0 2400 1600\">\n",
       "<defs>\n",
       "  <clipPath id=\"clip270\">\n",
       "    <rect x=\"0\" y=\"0\" width=\"2400\" height=\"1600\"/>\n",
       "  </clipPath>\n",
       "</defs>\n",
       "<path clip-path=\"url(#clip270)\" d=\"M0 1600 L2400 1600 L2400 0 L0 0  Z\" fill=\"#282a36\" fill-rule=\"evenodd\" fill-opacity=\"1\"/>\n",
       "<defs>\n",
       "  <clipPath id=\"clip271\">\n",
       "    <rect x=\"480\" y=\"0\" width=\"1681\" height=\"1600\"/>\n",
       "  </clipPath>\n",
       "</defs>\n",
       "<path clip-path=\"url(#clip270)\" d=\"M193.936 1486.45 L2352.76 1486.45 L2352.76 47.2441 L193.936 47.2441  Z\" fill=\"#30343b\" fill-rule=\"evenodd\" fill-opacity=\"1\"/>\n",
       "<defs>\n",
       "  <clipPath id=\"clip272\">\n",
       "    <rect x=\"193\" y=\"47\" width=\"2160\" height=\"1440\"/>\n",
       "  </clipPath>\n",
       "</defs>\n",
       "<polyline clip-path=\"url(#clip272)\" style=\"stroke:#f8f8f2; stroke-linecap:round; stroke-linejoin:round; stroke-width:2; stroke-opacity:0.1; fill:none\" points=\"481.326,1486.45 481.326,47.2441 \"/>\n",
       "<polyline clip-path=\"url(#clip272)\" style=\"stroke:#f8f8f2; stroke-linecap:round; stroke-linejoin:round; stroke-width:2; stroke-opacity:0.1; fill:none\" points=\"933.909,1486.45 933.909,47.2441 \"/>\n",
       "<polyline clip-path=\"url(#clip272)\" style=\"stroke:#f8f8f2; stroke-linecap:round; stroke-linejoin:round; stroke-width:2; stroke-opacity:0.1; fill:none\" points=\"1386.49,1486.45 1386.49,47.2441 \"/>\n",
       "<polyline clip-path=\"url(#clip272)\" style=\"stroke:#f8f8f2; stroke-linecap:round; stroke-linejoin:round; stroke-width:2; stroke-opacity:0.1; fill:none\" points=\"1839.07,1486.45 1839.07,47.2441 \"/>\n",
       "<polyline clip-path=\"url(#clip272)\" style=\"stroke:#f8f8f2; stroke-linecap:round; stroke-linejoin:round; stroke-width:2; stroke-opacity:0.1; fill:none\" points=\"2291.66,1486.45 2291.66,47.2441 \"/>\n",
       "<polyline clip-path=\"url(#clip272)\" style=\"stroke:#f8f8f2; stroke-linecap:round; stroke-linejoin:round; stroke-width:2; stroke-opacity:0.1; fill:none\" points=\"193.936,1445.77 2352.76,1445.77 \"/>\n",
       "<polyline clip-path=\"url(#clip272)\" style=\"stroke:#f8f8f2; stroke-linecap:round; stroke-linejoin:round; stroke-width:2; stroke-opacity:0.1; fill:none\" points=\"193.936,1106.3 2352.76,1106.3 \"/>\n",
       "<polyline clip-path=\"url(#clip272)\" style=\"stroke:#f8f8f2; stroke-linecap:round; stroke-linejoin:round; stroke-width:2; stroke-opacity:0.1; fill:none\" points=\"193.936,766.824 2352.76,766.824 \"/>\n",
       "<polyline clip-path=\"url(#clip272)\" style=\"stroke:#f8f8f2; stroke-linecap:round; stroke-linejoin:round; stroke-width:2; stroke-opacity:0.1; fill:none\" points=\"193.936,427.352 2352.76,427.352 \"/>\n",
       "<polyline clip-path=\"url(#clip272)\" style=\"stroke:#f8f8f2; stroke-linecap:round; stroke-linejoin:round; stroke-width:2; stroke-opacity:0.1; fill:none\" points=\"193.936,87.8803 2352.76,87.8803 \"/>\n",
       "<polyline clip-path=\"url(#clip270)\" style=\"stroke:#f8f8f2; stroke-linecap:round; stroke-linejoin:round; stroke-width:4; stroke-opacity:1; fill:none\" points=\"193.936,1486.45 2352.76,1486.45 \"/>\n",
       "<polyline clip-path=\"url(#clip270)\" style=\"stroke:#f8f8f2; stroke-linecap:round; stroke-linejoin:round; stroke-width:4; stroke-opacity:1; fill:none\" points=\"481.326,1486.45 481.326,1467.55 \"/>\n",
       "<polyline clip-path=\"url(#clip270)\" style=\"stroke:#f8f8f2; stroke-linecap:round; stroke-linejoin:round; stroke-width:4; stroke-opacity:1; fill:none\" points=\"933.909,1486.45 933.909,1467.55 \"/>\n",
       "<polyline clip-path=\"url(#clip270)\" style=\"stroke:#f8f8f2; stroke-linecap:round; stroke-linejoin:round; stroke-width:4; stroke-opacity:1; fill:none\" points=\"1386.49,1486.45 1386.49,1467.55 \"/>\n",
       "<polyline clip-path=\"url(#clip270)\" style=\"stroke:#f8f8f2; stroke-linecap:round; stroke-linejoin:round; stroke-width:4; stroke-opacity:1; fill:none\" points=\"1839.07,1486.45 1839.07,1467.55 \"/>\n",
       "<polyline clip-path=\"url(#clip270)\" style=\"stroke:#f8f8f2; stroke-linecap:round; stroke-linejoin:round; stroke-width:4; stroke-opacity:1; fill:none\" points=\"2291.66,1486.45 2291.66,1467.55 \"/>\n",
       "<path clip-path=\"url(#clip270)\" d=\"M475.979 1544.91 L492.298 1544.91 L492.298 1548.85 L470.354 1548.85 L470.354 1544.91 Q473.016 1542.16 477.599 1537.53 Q482.206 1532.88 483.386 1531.53 Q485.632 1529.01 486.511 1527.27 Q487.414 1525.51 487.414 1523.82 Q487.414 1521.07 485.47 1519.33 Q483.548 1517.6 480.446 1517.6 Q478.247 1517.6 475.794 1518.36 Q473.363 1519.13 470.585 1520.68 L470.585 1515.95 Q473.409 1514.82 475.863 1514.24 Q478.317 1513.66 480.354 1513.66 Q485.724 1513.66 488.919 1516.35 Q492.113 1519.03 492.113 1523.52 Q492.113 1525.65 491.303 1527.57 Q490.516 1529.47 488.409 1532.07 Q487.831 1532.74 484.729 1535.95 Q481.627 1539.15 475.979 1544.91 Z\" fill=\"#f8f8f2\" fill-rule=\"nonzero\" fill-opacity=\"1\" /><path clip-path=\"url(#clip270)\" d=\"M936.918 1518.36 L925.113 1536.81 L936.918 1536.81 L936.918 1518.36 M935.691 1514.29 L941.571 1514.29 L941.571 1536.81 L946.501 1536.81 L946.501 1540.7 L941.571 1540.7 L941.571 1548.85 L936.918 1548.85 L936.918 1540.7 L921.316 1540.7 L921.316 1536.19 L935.691 1514.29 Z\" fill=\"#f8f8f2\" fill-rule=\"nonzero\" fill-opacity=\"1\" /><path clip-path=\"url(#clip270)\" d=\"M1386.9 1529.7 Q1383.75 1529.7 1381.9 1531.86 Q1380.07 1534.01 1380.07 1537.76 Q1380.07 1541.49 1381.9 1543.66 Q1383.75 1545.82 1386.9 1545.82 Q1390.04 1545.82 1391.87 1543.66 Q1393.73 1541.49 1393.73 1537.76 Q1393.73 1534.01 1391.87 1531.86 Q1390.04 1529.7 1386.9 1529.7 M1396.18 1515.05 L1396.18 1519.31 Q1394.42 1518.48 1392.61 1518.04 Q1390.83 1517.6 1389.07 1517.6 Q1384.44 1517.6 1381.99 1520.72 Q1379.56 1523.85 1379.21 1530.17 Q1380.58 1528.15 1382.64 1527.09 Q1384.7 1526 1387.17 1526 Q1392.38 1526 1395.39 1529.17 Q1398.42 1532.32 1398.42 1537.76 Q1398.42 1543.08 1395.28 1546.3 Q1392.13 1549.52 1386.9 1549.52 Q1380.9 1549.52 1377.73 1544.94 Q1374.56 1540.33 1374.56 1531.6 Q1374.56 1523.41 1378.45 1518.55 Q1382.34 1513.66 1388.89 1513.66 Q1390.65 1513.66 1392.43 1514.01 Q1394.23 1514.36 1396.18 1515.05 Z\" fill=\"#f8f8f2\" fill-rule=\"nonzero\" fill-opacity=\"1\" /><path clip-path=\"url(#clip270)\" d=\"M1839.07 1532.44 Q1835.74 1532.44 1833.82 1534.22 Q1831.92 1536 1831.92 1539.13 Q1831.92 1542.25 1833.82 1544.03 Q1835.74 1545.82 1839.07 1545.82 Q1842.41 1545.82 1844.33 1544.03 Q1846.25 1542.23 1846.25 1539.13 Q1846.25 1536 1844.33 1534.22 Q1842.43 1532.44 1839.07 1532.44 M1834.4 1530.45 Q1831.39 1529.7 1829.7 1527.64 Q1828.03 1525.58 1828.03 1522.62 Q1828.03 1518.48 1830.97 1516.07 Q1833.94 1513.66 1839.07 1513.66 Q1844.24 1513.66 1847.18 1516.07 Q1850.12 1518.48 1850.12 1522.62 Q1850.12 1525.58 1848.43 1527.64 Q1846.76 1529.7 1843.77 1530.45 Q1847.15 1531.23 1849.03 1533.52 Q1850.93 1535.82 1850.93 1539.13 Q1850.93 1544.15 1847.85 1546.83 Q1844.79 1549.52 1839.07 1549.52 Q1833.36 1549.52 1830.28 1546.83 Q1827.22 1544.15 1827.22 1539.13 Q1827.22 1535.82 1829.12 1533.52 Q1831.02 1531.23 1834.4 1530.45 M1832.69 1523.06 Q1832.69 1525.75 1834.35 1527.25 Q1836.04 1528.76 1839.07 1528.76 Q1842.08 1528.76 1843.77 1527.25 Q1845.49 1525.75 1845.49 1523.06 Q1845.49 1520.38 1843.77 1518.87 Q1842.08 1517.37 1839.07 1517.37 Q1836.04 1517.37 1834.35 1518.87 Q1832.69 1520.38 1832.69 1523.06 Z\" fill=\"#f8f8f2\" fill-rule=\"nonzero\" fill-opacity=\"1\" /><path clip-path=\"url(#clip270)\" d=\"M2266.34 1544.91 L2273.98 1544.91 L2273.98 1518.55 L2265.67 1520.21 L2265.67 1515.95 L2273.94 1514.29 L2278.61 1514.29 L2278.61 1544.91 L2286.25 1544.91 L2286.25 1548.85 L2266.34 1548.85 L2266.34 1544.91 Z\" fill=\"#f8f8f2\" fill-rule=\"nonzero\" fill-opacity=\"1\" /><path clip-path=\"url(#clip270)\" d=\"M2305.7 1517.37 Q2302.09 1517.37 2300.26 1520.93 Q2298.45 1524.47 2298.45 1531.6 Q2298.45 1538.71 2300.26 1542.27 Q2302.09 1545.82 2305.7 1545.82 Q2309.33 1545.82 2311.14 1542.27 Q2312.96 1538.71 2312.96 1531.6 Q2312.96 1524.47 2311.14 1520.93 Q2309.33 1517.37 2305.7 1517.37 M2305.7 1513.66 Q2311.51 1513.66 2314.56 1518.27 Q2317.64 1522.85 2317.64 1531.6 Q2317.64 1540.33 2314.56 1544.94 Q2311.51 1549.52 2305.7 1549.52 Q2299.89 1549.52 2296.81 1544.94 Q2293.75 1540.33 2293.75 1531.6 Q2293.75 1522.85 2296.81 1518.27 Q2299.89 1513.66 2305.7 1513.66 Z\" fill=\"#f8f8f2\" fill-rule=\"nonzero\" fill-opacity=\"1\" /><polyline clip-path=\"url(#clip270)\" style=\"stroke:#f8f8f2; stroke-linecap:round; stroke-linejoin:round; stroke-width:4; stroke-opacity:1; fill:none\" points=\"193.936,1486.45 193.936,47.2441 \"/>\n",
       "<polyline clip-path=\"url(#clip270)\" style=\"stroke:#f8f8f2; stroke-linecap:round; stroke-linejoin:round; stroke-width:4; stroke-opacity:1; fill:none\" points=\"193.936,1445.77 212.834,1445.77 \"/>\n",
       "<polyline clip-path=\"url(#clip270)\" style=\"stroke:#f8f8f2; stroke-linecap:round; stroke-linejoin:round; stroke-width:4; stroke-opacity:1; fill:none\" points=\"193.936,1106.3 212.834,1106.3 \"/>\n",
       "<polyline clip-path=\"url(#clip270)\" style=\"stroke:#f8f8f2; stroke-linecap:round; stroke-linejoin:round; stroke-width:4; stroke-opacity:1; fill:none\" points=\"193.936,766.824 212.834,766.824 \"/>\n",
       "<polyline clip-path=\"url(#clip270)\" style=\"stroke:#f8f8f2; stroke-linecap:round; stroke-linejoin:round; stroke-width:4; stroke-opacity:1; fill:none\" points=\"193.936,427.352 212.834,427.352 \"/>\n",
       "<polyline clip-path=\"url(#clip270)\" style=\"stroke:#f8f8f2; stroke-linecap:round; stroke-linejoin:round; stroke-width:4; stroke-opacity:1; fill:none\" points=\"193.936,87.8803 212.834,87.8803 \"/>\n",
       "<path clip-path=\"url(#clip270)\" d=\"M50.9921 1446.22 L80.6679 1446.22 L80.6679 1450.15 L50.9921 1450.15 L50.9921 1446.22 Z\" fill=\"#f8f8f2\" fill-rule=\"nonzero\" fill-opacity=\"1\" /><path clip-path=\"url(#clip270)\" d=\"M91.5706 1459.11 L99.2095 1459.11 L99.2095 1432.75 L90.8993 1434.41 L90.8993 1430.15 L99.1632 1428.49 L103.839 1428.49 L103.839 1459.11 L111.478 1459.11 L111.478 1463.05 L91.5706 1463.05 L91.5706 1459.11 Z\" fill=\"#f8f8f2\" fill-rule=\"nonzero\" fill-opacity=\"1\" /><path clip-path=\"url(#clip270)\" d=\"M120.922 1457.17 L125.807 1457.17 L125.807 1463.05 L120.922 1463.05 L120.922 1457.17 Z\" fill=\"#f8f8f2\" fill-rule=\"nonzero\" fill-opacity=\"1\" /><path clip-path=\"url(#clip270)\" d=\"M145.992 1431.57 Q142.381 1431.57 140.552 1435.13 Q138.746 1438.67 138.746 1445.8 Q138.746 1452.91 140.552 1456.47 Q142.381 1460.02 145.992 1460.02 Q149.626 1460.02 151.431 1456.47 Q153.26 1452.91 153.26 1445.8 Q153.26 1438.67 151.431 1435.13 Q149.626 1431.57 145.992 1431.57 M145.992 1427.86 Q151.802 1427.86 154.857 1432.47 Q157.936 1437.05 157.936 1445.8 Q157.936 1454.53 154.857 1459.14 Q151.802 1463.72 145.992 1463.72 Q140.181 1463.72 137.103 1459.14 Q134.047 1454.53 134.047 1445.8 Q134.047 1437.05 137.103 1432.47 Q140.181 1427.86 145.992 1427.86 Z\" fill=\"#f8f8f2\" fill-rule=\"nonzero\" fill-opacity=\"1\" /><path clip-path=\"url(#clip270)\" d=\"M51.9875 1106.75 L81.6633 1106.75 L81.6633 1110.68 L51.9875 1110.68 L51.9875 1106.75 Z\" fill=\"#f8f8f2\" fill-rule=\"nonzero\" fill-opacity=\"1\" /><path clip-path=\"url(#clip270)\" d=\"M101.756 1092.09 Q98.1447 1092.09 96.316 1095.66 Q94.5104 1099.2 94.5104 1106.33 Q94.5104 1113.44 96.316 1117 Q98.1447 1120.54 101.756 1120.54 Q105.39 1120.54 107.196 1117 Q109.024 1113.44 109.024 1106.33 Q109.024 1099.2 107.196 1095.66 Q105.39 1092.09 101.756 1092.09 M101.756 1088.39 Q107.566 1088.39 110.621 1093 Q113.7 1097.58 113.7 1106.33 Q113.7 1115.06 110.621 1119.66 Q107.566 1124.25 101.756 1124.25 Q95.9456 1124.25 92.8669 1119.66 Q89.8114 1115.06 89.8114 1106.33 Q89.8114 1097.58 92.8669 1093 Q95.9456 1088.39 101.756 1088.39 Z\" fill=\"#f8f8f2\" fill-rule=\"nonzero\" fill-opacity=\"1\" /><path clip-path=\"url(#clip270)\" d=\"M121.918 1117.7 L126.802 1117.7 L126.802 1123.58 L121.918 1123.58 L121.918 1117.7 Z\" fill=\"#f8f8f2\" fill-rule=\"nonzero\" fill-opacity=\"1\" /><path clip-path=\"url(#clip270)\" d=\"M137.033 1089.02 L155.39 1089.02 L155.39 1092.95 L141.316 1092.95 L141.316 1101.42 Q142.334 1101.08 143.353 1100.91 Q144.371 1100.73 145.39 1100.73 Q151.177 1100.73 154.556 1103.9 Q157.936 1107.07 157.936 1112.49 Q157.936 1118.07 154.464 1121.17 Q150.992 1124.25 144.672 1124.25 Q142.496 1124.25 140.228 1123.88 Q137.982 1123.51 135.575 1122.77 L135.575 1118.07 Q137.658 1119.2 139.881 1119.76 Q142.103 1120.31 144.58 1120.31 Q148.584 1120.31 150.922 1118.21 Q153.26 1116.1 153.26 1112.49 Q153.26 1108.88 150.922 1106.77 Q148.584 1104.66 144.58 1104.66 Q142.705 1104.66 140.83 1105.08 Q138.978 1105.5 137.033 1106.38 L137.033 1089.02 Z\" fill=\"#f8f8f2\" fill-rule=\"nonzero\" fill-opacity=\"1\" /><path clip-path=\"url(#clip270)\" d=\"M100.76 752.623 Q97.1493 752.623 95.3206 756.188 Q93.515 759.729 93.515 766.859 Q93.515 773.965 95.3206 777.53 Q97.1493 781.072 100.76 781.072 Q104.395 781.072 106.2 777.53 Q108.029 773.965 108.029 766.859 Q108.029 759.729 106.2 756.188 Q104.395 752.623 100.76 752.623 M100.76 748.919 Q106.571 748.919 109.626 753.526 Q112.705 758.109 112.705 766.859 Q112.705 775.586 109.626 780.192 Q106.571 784.775 100.76 784.775 Q94.9502 784.775 91.8715 780.192 Q88.816 775.586 88.816 766.859 Q88.816 758.109 91.8715 753.526 Q94.9502 748.919 100.76 748.919 Z\" fill=\"#f8f8f2\" fill-rule=\"nonzero\" fill-opacity=\"1\" /><path clip-path=\"url(#clip270)\" d=\"M120.922 778.224 L125.807 778.224 L125.807 784.104 L120.922 784.104 L120.922 778.224 Z\" fill=\"#f8f8f2\" fill-rule=\"nonzero\" fill-opacity=\"1\" /><path clip-path=\"url(#clip270)\" d=\"M145.992 752.623 Q142.381 752.623 140.552 756.188 Q138.746 759.729 138.746 766.859 Q138.746 773.965 140.552 777.53 Q142.381 781.072 145.992 781.072 Q149.626 781.072 151.431 777.53 Q153.26 773.965 153.26 766.859 Q153.26 759.729 151.431 756.188 Q149.626 752.623 145.992 752.623 M145.992 748.919 Q151.802 748.919 154.857 753.526 Q157.936 758.109 157.936 766.859 Q157.936 775.586 154.857 780.192 Q151.802 784.775 145.992 784.775 Q140.181 784.775 137.103 780.192 Q134.047 775.586 134.047 766.859 Q134.047 758.109 137.103 753.526 Q140.181 748.919 145.992 748.919 Z\" fill=\"#f8f8f2\" fill-rule=\"nonzero\" fill-opacity=\"1\" /><path clip-path=\"url(#clip270)\" d=\"M101.756 413.151 Q98.1447 413.151 96.316 416.716 Q94.5104 420.257 94.5104 427.387 Q94.5104 434.493 96.316 438.058 Q98.1447 441.6 101.756 441.6 Q105.39 441.6 107.196 438.058 Q109.024 434.493 109.024 427.387 Q109.024 420.257 107.196 416.716 Q105.39 413.151 101.756 413.151 M101.756 409.447 Q107.566 409.447 110.621 414.054 Q113.7 418.637 113.7 427.387 Q113.7 436.114 110.621 440.72 Q107.566 445.303 101.756 445.303 Q95.9456 445.303 92.8669 440.72 Q89.8114 436.114 89.8114 427.387 Q89.8114 418.637 92.8669 414.054 Q95.9456 409.447 101.756 409.447 Z\" fill=\"#f8f8f2\" fill-rule=\"nonzero\" fill-opacity=\"1\" /><path clip-path=\"url(#clip270)\" d=\"M121.918 438.753 L126.802 438.753 L126.802 444.632 L121.918 444.632 L121.918 438.753 Z\" fill=\"#f8f8f2\" fill-rule=\"nonzero\" fill-opacity=\"1\" /><path clip-path=\"url(#clip270)\" d=\"M137.033 410.072 L155.39 410.072 L155.39 414.007 L141.316 414.007 L141.316 422.48 Q142.334 422.132 143.353 421.97 Q144.371 421.785 145.39 421.785 Q151.177 421.785 154.556 424.956 Q157.936 428.128 157.936 433.544 Q157.936 439.123 154.464 442.225 Q150.992 445.303 144.672 445.303 Q142.496 445.303 140.228 444.933 Q137.982 444.563 135.575 443.822 L135.575 439.123 Q137.658 440.257 139.881 440.813 Q142.103 441.368 144.58 441.368 Q148.584 441.368 150.922 439.262 Q153.26 437.155 153.26 433.544 Q153.26 429.933 150.922 427.827 Q148.584 425.72 144.58 425.72 Q142.705 425.72 140.83 426.137 Q138.978 426.554 137.033 427.433 L137.033 410.072 Z\" fill=\"#f8f8f2\" fill-rule=\"nonzero\" fill-opacity=\"1\" /><path clip-path=\"url(#clip270)\" d=\"M91.5706 101.225 L99.2095 101.225 L99.2095 74.8595 L90.8993 76.5262 L90.8993 72.267 L99.1632 70.6003 L103.839 70.6003 L103.839 101.225 L111.478 101.225 L111.478 105.16 L91.5706 105.16 L91.5706 101.225 Z\" fill=\"#f8f8f2\" fill-rule=\"nonzero\" fill-opacity=\"1\" /><path clip-path=\"url(#clip270)\" d=\"M120.922 99.2807 L125.807 99.2807 L125.807 105.16 L120.922 105.16 L120.922 99.2807 Z\" fill=\"#f8f8f2\" fill-rule=\"nonzero\" fill-opacity=\"1\" /><path clip-path=\"url(#clip270)\" d=\"M145.992 73.679 Q142.381 73.679 140.552 77.2438 Q138.746 80.7854 138.746 87.915 Q138.746 95.0215 140.552 98.5863 Q142.381 102.128 145.992 102.128 Q149.626 102.128 151.431 98.5863 Q153.26 95.0215 153.26 87.915 Q153.26 80.7854 151.431 77.2438 Q149.626 73.679 145.992 73.679 M145.992 69.9753 Q151.802 69.9753 154.857 74.5818 Q157.936 79.1651 157.936 87.915 Q157.936 96.6418 154.857 101.248 Q151.802 105.832 145.992 105.832 Q140.181 105.832 137.103 101.248 Q134.047 96.6418 134.047 87.915 Q134.047 79.1651 137.103 74.5818 Q140.181 69.9753 145.992 69.9753 Z\" fill=\"#f8f8f2\" fill-rule=\"nonzero\" fill-opacity=\"1\" /><polyline clip-path=\"url(#clip272)\" style=\"stroke:#8be9fd; stroke-linecap:round; stroke-linejoin:round; stroke-width:4; stroke-opacity:1; fill:none\" points=\"255.035,195.513 277.664,161.744 300.293,134.022 322.922,112.622 345.551,97.7591 368.18,89.5811 390.81,88.1698 413.439,93.5394 436.068,105.636 458.697,124.34 481.326,149.462 503.955,180.753 526.584,217.9 549.213,260.532 571.843,308.223 594.472,360.495 617.101,416.828 639.73,476.657 662.359,539.386 684.988,604.387 707.617,671.011 730.247,738.593 752.876,806.457 775.505,873.925 798.134,940.322 820.763,1004.99 843.392,1067.27 866.021,1126.55 888.651,1182.24 911.28,1233.78 933.909,1280.65 956.538,1322.39 979.167,1358.57 1001.8,1388.85 1024.43,1412.91 1047.05,1430.51 1069.68,1441.48 1092.31,1445.72 1114.94,1443.16 1137.57,1433.85 1160.2,1417.88 1182.83,1395.4 1205.46,1366.64 1228.09,1331.89 1250.72,1291.49 1273.35,1245.85 1295.98,1195.42 1318.6,1140.71 1341.23,1082.26 1363.86,1020.67 1386.49,956.531 1409.12,890.502 1431.75,823.237 1454.38,755.408 1477.01,687.694 1499.64,620.77 1522.27,555.305 1544.9,491.954 1567.52,431.349 1590.15,374.096 1612.78,320.767 1635.41,271.895 1658.04,227.968 1680.67,189.425 1703.3,156.652 1725.93,129.975 1748.56,109.661 1771.19,95.9134 1793.82,88.8693 1816.45,88.5991 1839.07,95.1055 1861.7,108.323 1884.33,128.121 1906.96,154.3 1929.59,186.599 1952.22,224.696 1974.85,268.21 1997.48,316.705 2020.11,369.698 2042.74,426.659 2065.37,487.019 2087.99,550.174 2110.62,615.494 2133.25,682.326 2155.88,750.003 2178.51,817.847 2201.14,885.182 2223.77,951.334 2246.4,1015.64 2269.03,1077.47 2291.66,1136.18 \"/>\n",
       "<polyline clip-path=\"url(#clip272)\" style=\"stroke:#ff79c6; stroke-linecap:round; stroke-linejoin:round; stroke-width:4; stroke-opacity:1; fill:none\" points=\"255.035,399.989 277.664,458.858 300.293,520.804 322.922,585.207 345.551,651.426 368.18,718.797 390.81,786.649 413.439,854.302 436.068,921.081 458.697,986.319 481.326,1049.36 503.955,1109.59 526.584,1166.38 549.213,1219.19 571.843,1267.47 594.472,1310.76 617.101,1348.6 639.73,1380.64 662.359,1406.54 684.988,1426.05 707.617,1438.97 730.247,1445.18 752.876,1444.61 775.505,1437.27 798.134,1423.23 820.763,1402.63 843.392,1375.67 866.021,1342.64 888.651,1303.85 911.28,1259.69 933.909,1210.61 956.538,1157.1 979.167,1099.68 1001.8,1038.94 1024.43,975.486 1047.05,909.943 1069.68,842.969 1092.31,775.235 1114.94,707.417 1137.57,640.193 1160.2,574.233 1182.83,510.198 1205.46,448.728 1228.09,390.435 1250.72,335.903 1273.35,285.677 1295.98,240.258 1318.6,200.101 1341.23,165.606 1363.86,137.118 1386.49,114.922 1409.12,99.2401 1431.75,90.228 1454.38,87.9763 1477.01,92.5074 1499.64,103.776 1522.27,121.67 1544.9,146.009 1567.52,176.552 1590.15,212.993 1612.78,254.967 1635.41,302.055 1658.04,353.788 1680.67,409.647 1703.3,469.075 1725.93,531.478 1748.56,596.233 1771.19,662.692 1793.82,730.191 1816.45,798.057 1839.07,865.61 1861.7,932.177 1884.33,997.091 1906.96,1059.7 1929.59,1119.39 1952.22,1175.56 1974.85,1227.64 1997.48,1275.11 2020.11,1317.51 2042.74,1354.41 2065.37,1385.43 2087.99,1410.27 2110.62,1428.69 2133.25,1440.49 2155.88,1445.56 2178.51,1443.85 2201.14,1435.37 2223.77,1420.22 2246.4,1398.53 2269.03,1370.53 2291.66,1336.51 \"/>\n",
       "<path clip-path=\"url(#clip270)\" d=\"M1926.79 250.738 L2280.8 250.738 L2280.8 95.2176 L1926.79 95.2176  Z\" fill=\"#282a36\" fill-rule=\"evenodd\" fill-opacity=\"1\"/>\n",
       "<polyline clip-path=\"url(#clip270)\" style=\"stroke:#f8f8f2; stroke-linecap:round; stroke-linejoin:round; stroke-width:4; stroke-opacity:1; fill:none\" points=\"1926.79,250.738 2280.8,250.738 2280.8,95.2176 1926.79,95.2176 1926.79,250.738 \"/>\n",
       "<polyline clip-path=\"url(#clip270)\" style=\"stroke:#8be9fd; stroke-linecap:round; stroke-linejoin:round; stroke-width:4; stroke-opacity:1; fill:none\" points=\"1950.78,147.058 2094.7,147.058 \"/>\n",
       "<path clip-path=\"url(#clip270)\" d=\"M2137.11 139.176 L2137.11 143.203 Q2135.3 142.277 2133.36 141.815 Q2131.42 141.352 2129.33 141.352 Q2126.16 141.352 2124.56 142.324 Q2122.99 143.296 2122.99 145.24 Q2122.99 146.722 2124.12 147.578 Q2125.26 148.412 2128.68 149.176 L2130.14 149.5 Q2134.68 150.472 2136.58 152.254 Q2138.5 154.014 2138.5 157.185 Q2138.5 160.796 2135.63 162.902 Q2132.78 165.009 2127.78 165.009 Q2125.7 165.009 2123.43 164.592 Q2121.18 164.199 2118.68 163.388 L2118.68 158.99 Q2121.05 160.217 2123.34 160.842 Q2125.63 161.444 2127.87 161.444 Q2130.88 161.444 2132.5 160.426 Q2134.12 159.384 2134.12 157.509 Q2134.12 155.773 2132.94 154.847 Q2131.79 153.921 2127.83 153.064 L2126.35 152.717 Q2122.39 151.884 2120.63 150.171 Q2118.87 148.435 2118.87 145.426 Q2118.87 141.768 2121.46 139.778 Q2124.05 137.787 2128.82 137.787 Q2131.18 137.787 2133.27 138.134 Q2135.35 138.481 2137.11 139.176 Z\" fill=\"#f8f8f2\" fill-rule=\"nonzero\" fill-opacity=\"1\" /><path clip-path=\"url(#clip270)\" d=\"M2145.28 138.412 L2149.54 138.412 L2149.54 164.338 L2145.28 164.338 L2145.28 138.412 M2145.28 128.319 L2149.54 128.319 L2149.54 133.713 L2145.28 133.713 L2145.28 128.319 Z\" fill=\"#f8f8f2\" fill-rule=\"nonzero\" fill-opacity=\"1\" /><path clip-path=\"url(#clip270)\" d=\"M2180 148.689 L2180 164.338 L2175.74 164.338 L2175.74 148.828 Q2175.74 145.148 2174.31 143.319 Q2172.87 141.49 2170 141.49 Q2166.55 141.49 2164.56 143.69 Q2162.57 145.889 2162.57 149.685 L2162.57 164.338 L2158.29 164.338 L2158.29 138.412 L2162.57 138.412 L2162.57 142.44 Q2164.1 140.102 2166.16 138.944 Q2168.24 137.787 2170.95 137.787 Q2175.42 137.787 2177.71 140.565 Q2180 143.319 2180 148.689 Z\" fill=\"#f8f8f2\" fill-rule=\"nonzero\" fill-opacity=\"1\" /><path clip-path=\"url(#clip270)\" d=\"M2198.73 128.366 Q2195.63 133.69 2194.12 138.898 Q2192.62 144.106 2192.62 149.453 Q2192.62 154.801 2194.12 160.055 Q2195.65 165.287 2198.73 170.588 L2195.03 170.588 Q2191.55 165.148 2189.82 159.893 Q2188.11 154.639 2188.11 149.453 Q2188.11 144.291 2189.82 139.06 Q2191.53 133.828 2195.03 128.366 L2198.73 128.366 Z\" fill=\"#f8f8f2\" fill-rule=\"nonzero\" fill-opacity=\"1\" /><path clip-path=\"url(#clip270)\" d=\"M2228.54 138.412 L2219.17 151.027 L2229.03 164.338 L2224.01 164.338 L2216.46 154.152 L2208.92 164.338 L2203.89 164.338 L2213.96 150.773 L2204.75 138.412 L2209.77 138.412 L2216.65 147.648 L2223.52 138.412 L2228.54 138.412 Z\" fill=\"#f8f8f2\" fill-rule=\"nonzero\" fill-opacity=\"1\" /><path clip-path=\"url(#clip270)\" d=\"M2234.38 128.366 L2238.08 128.366 Q2241.55 133.828 2243.27 139.06 Q2245 144.291 2245 149.453 Q2245 154.639 2243.27 159.893 Q2241.55 165.148 2238.08 170.588 L2234.38 170.588 Q2237.46 165.287 2238.96 160.055 Q2240.49 154.801 2240.49 149.453 Q2240.49 144.106 2238.96 138.898 Q2237.46 133.69 2234.38 128.366 Z\" fill=\"#f8f8f2\" fill-rule=\"nonzero\" fill-opacity=\"1\" /><polyline clip-path=\"url(#clip270)\" style=\"stroke:#ff79c6; stroke-linecap:round; stroke-linejoin:round; stroke-width:4; stroke-opacity:1; fill:none\" points=\"1950.78,198.898 2094.7,198.898 \"/>\n",
       "<path clip-path=\"url(#clip270)\" d=\"M2139.19 191.247 L2139.19 195.229 Q2137.39 194.233 2135.56 193.747 Q2133.75 193.238 2131.9 193.238 Q2127.76 193.238 2125.47 195.877 Q2123.17 198.492 2123.17 203.238 Q2123.17 207.983 2125.47 210.622 Q2127.76 213.238 2131.9 213.238 Q2133.75 213.238 2135.56 212.752 Q2137.39 212.242 2139.19 211.247 L2139.19 215.182 Q2137.41 216.016 2135.49 216.432 Q2133.59 216.849 2131.44 216.849 Q2125.58 216.849 2122.13 213.168 Q2118.68 209.488 2118.68 203.238 Q2118.68 196.895 2122.16 193.261 Q2125.65 189.627 2131.72 189.627 Q2133.68 189.627 2135.56 190.043 Q2137.43 190.437 2139.19 191.247 Z\" fill=\"#f8f8f2\" fill-rule=\"nonzero\" fill-opacity=\"1\" /><path clip-path=\"url(#clip270)\" d=\"M2156.65 193.238 Q2153.22 193.238 2151.23 195.923 Q2149.24 198.585 2149.24 203.238 Q2149.24 207.891 2151.21 210.576 Q2153.2 213.238 2156.65 213.238 Q2160.05 213.238 2162.04 210.553 Q2164.03 207.867 2164.03 203.238 Q2164.03 198.631 2162.04 195.946 Q2160.05 193.238 2156.65 193.238 M2156.65 189.627 Q2162.2 189.627 2165.37 193.238 Q2168.54 196.849 2168.54 203.238 Q2168.54 209.604 2165.37 213.238 Q2162.2 216.849 2156.65 216.849 Q2151.07 216.849 2147.9 213.238 Q2144.75 209.604 2144.75 203.238 Q2144.75 196.849 2147.9 193.238 Q2151.07 189.627 2156.65 189.627 Z\" fill=\"#f8f8f2\" fill-rule=\"nonzero\" fill-opacity=\"1\" /><path clip-path=\"url(#clip270)\" d=\"M2192.13 191.016 L2192.13 195.043 Q2190.33 194.117 2188.38 193.655 Q2186.44 193.192 2184.36 193.192 Q2181.18 193.192 2179.59 194.164 Q2178.01 195.136 2178.01 197.08 Q2178.01 198.562 2179.15 199.418 Q2180.28 200.252 2183.71 201.016 L2185.17 201.34 Q2189.7 202.312 2191.6 204.094 Q2193.52 205.854 2193.52 209.025 Q2193.52 212.636 2190.65 214.742 Q2187.8 216.849 2182.8 216.849 Q2180.72 216.849 2178.45 216.432 Q2176.21 216.039 2173.71 215.228 L2173.71 210.83 Q2176.07 212.057 2178.36 212.682 Q2180.65 213.284 2182.9 213.284 Q2185.91 213.284 2187.53 212.266 Q2189.15 211.224 2189.15 209.349 Q2189.15 207.613 2187.97 206.687 Q2186.81 205.761 2182.85 204.904 L2181.37 204.557 Q2177.41 203.724 2175.65 202.011 Q2173.89 200.275 2173.89 197.266 Q2173.89 193.608 2176.48 191.618 Q2179.08 189.627 2183.85 189.627 Q2186.21 189.627 2188.29 189.974 Q2190.37 190.321 2192.13 191.016 Z\" fill=\"#f8f8f2\" fill-rule=\"nonzero\" fill-opacity=\"1\" /><path clip-path=\"url(#clip270)\" d=\"M2210.54 180.206 Q2207.43 185.53 2205.93 190.738 Q2204.42 195.946 2204.42 201.293 Q2204.42 206.641 2205.93 211.895 Q2207.46 217.127 2210.54 222.428 L2206.83 222.428 Q2203.36 216.988 2201.62 211.733 Q2199.91 206.479 2199.91 201.293 Q2199.91 196.131 2201.62 190.9 Q2203.34 185.668 2206.83 180.206 L2210.54 180.206 Z\" fill=\"#f8f8f2\" fill-rule=\"nonzero\" fill-opacity=\"1\" /><path clip-path=\"url(#clip270)\" d=\"M2240.35 190.252 L2230.98 202.867 L2240.84 216.178 L2235.81 216.178 L2228.27 205.992 L2220.72 216.178 L2215.7 216.178 L2225.77 202.613 L2216.55 190.252 L2221.58 190.252 L2228.45 199.488 L2235.33 190.252 L2240.35 190.252 Z\" fill=\"#f8f8f2\" fill-rule=\"nonzero\" fill-opacity=\"1\" /><path clip-path=\"url(#clip270)\" d=\"M2246.18 180.206 L2249.89 180.206 Q2253.36 185.668 2255.07 190.9 Q2256.81 196.131 2256.81 201.293 Q2256.81 206.479 2255.07 211.733 Q2253.36 216.988 2249.89 222.428 L2246.18 222.428 Q2249.26 217.127 2250.77 211.895 Q2252.29 206.641 2252.29 201.293 Q2252.29 195.946 2250.77 190.738 Q2249.26 185.53 2246.18 180.206 Z\" fill=\"#f8f8f2\" fill-rule=\"nonzero\" fill-opacity=\"1\" /></svg>\n"
      ],
      "text/html": [
       "<?xml version=\"1.0\" encoding=\"utf-8\"?>\n",
       "<svg xmlns=\"http://www.w3.org/2000/svg\" xmlns:xlink=\"http://www.w3.org/1999/xlink\" width=\"600\" height=\"400\" viewBox=\"0 0 2400 1600\">\n",
       "<defs>\n",
       "  <clipPath id=\"clip320\">\n",
       "    <rect x=\"0\" y=\"0\" width=\"2400\" height=\"1600\"/>\n",
       "  </clipPath>\n",
       "</defs>\n",
       "<path clip-path=\"url(#clip320)\" d=\"M0 1600 L2400 1600 L2400 0 L0 0  Z\" fill=\"#282a36\" fill-rule=\"evenodd\" fill-opacity=\"1\"/>\n",
       "<defs>\n",
       "  <clipPath id=\"clip321\">\n",
       "    <rect x=\"480\" y=\"0\" width=\"1681\" height=\"1600\"/>\n",
       "  </clipPath>\n",
       "</defs>\n",
       "<path clip-path=\"url(#clip320)\" d=\"M193.936 1486.45 L2352.76 1486.45 L2352.76 47.2441 L193.936 47.2441  Z\" fill=\"#30343b\" fill-rule=\"evenodd\" fill-opacity=\"1\"/>\n",
       "<defs>\n",
       "  <clipPath id=\"clip322\">\n",
       "    <rect x=\"193\" y=\"47\" width=\"2160\" height=\"1440\"/>\n",
       "  </clipPath>\n",
       "</defs>\n",
       "<polyline clip-path=\"url(#clip322)\" style=\"stroke:#f8f8f2; stroke-linecap:round; stroke-linejoin:round; stroke-width:2; stroke-opacity:0.1; fill:none\" points=\"481.326,1486.45 481.326,47.2441 \"/>\n",
       "<polyline clip-path=\"url(#clip322)\" style=\"stroke:#f8f8f2; stroke-linecap:round; stroke-linejoin:round; stroke-width:2; stroke-opacity:0.1; fill:none\" points=\"933.909,1486.45 933.909,47.2441 \"/>\n",
       "<polyline clip-path=\"url(#clip322)\" style=\"stroke:#f8f8f2; stroke-linecap:round; stroke-linejoin:round; stroke-width:2; stroke-opacity:0.1; fill:none\" points=\"1386.49,1486.45 1386.49,47.2441 \"/>\n",
       "<polyline clip-path=\"url(#clip322)\" style=\"stroke:#f8f8f2; stroke-linecap:round; stroke-linejoin:round; stroke-width:2; stroke-opacity:0.1; fill:none\" points=\"1839.07,1486.45 1839.07,47.2441 \"/>\n",
       "<polyline clip-path=\"url(#clip322)\" style=\"stroke:#f8f8f2; stroke-linecap:round; stroke-linejoin:round; stroke-width:2; stroke-opacity:0.1; fill:none\" points=\"2291.66,1486.45 2291.66,47.2441 \"/>\n",
       "<polyline clip-path=\"url(#clip322)\" style=\"stroke:#f8f8f2; stroke-linecap:round; stroke-linejoin:round; stroke-width:2; stroke-opacity:0.1; fill:none\" points=\"193.936,1445.77 2352.76,1445.77 \"/>\n",
       "<polyline clip-path=\"url(#clip322)\" style=\"stroke:#f8f8f2; stroke-linecap:round; stroke-linejoin:round; stroke-width:2; stroke-opacity:0.1; fill:none\" points=\"193.936,1106.3 2352.76,1106.3 \"/>\n",
       "<polyline clip-path=\"url(#clip322)\" style=\"stroke:#f8f8f2; stroke-linecap:round; stroke-linejoin:round; stroke-width:2; stroke-opacity:0.1; fill:none\" points=\"193.936,766.824 2352.76,766.824 \"/>\n",
       "<polyline clip-path=\"url(#clip322)\" style=\"stroke:#f8f8f2; stroke-linecap:round; stroke-linejoin:round; stroke-width:2; stroke-opacity:0.1; fill:none\" points=\"193.936,427.352 2352.76,427.352 \"/>\n",
       "<polyline clip-path=\"url(#clip322)\" style=\"stroke:#f8f8f2; stroke-linecap:round; stroke-linejoin:round; stroke-width:2; stroke-opacity:0.1; fill:none\" points=\"193.936,87.8803 2352.76,87.8803 \"/>\n",
       "<polyline clip-path=\"url(#clip320)\" style=\"stroke:#f8f8f2; stroke-linecap:round; stroke-linejoin:round; stroke-width:4; stroke-opacity:1; fill:none\" points=\"193.936,1486.45 2352.76,1486.45 \"/>\n",
       "<polyline clip-path=\"url(#clip320)\" style=\"stroke:#f8f8f2; stroke-linecap:round; stroke-linejoin:round; stroke-width:4; stroke-opacity:1; fill:none\" points=\"481.326,1486.45 481.326,1467.55 \"/>\n",
       "<polyline clip-path=\"url(#clip320)\" style=\"stroke:#f8f8f2; stroke-linecap:round; stroke-linejoin:round; stroke-width:4; stroke-opacity:1; fill:none\" points=\"933.909,1486.45 933.909,1467.55 \"/>\n",
       "<polyline clip-path=\"url(#clip320)\" style=\"stroke:#f8f8f2; stroke-linecap:round; stroke-linejoin:round; stroke-width:4; stroke-opacity:1; fill:none\" points=\"1386.49,1486.45 1386.49,1467.55 \"/>\n",
       "<polyline clip-path=\"url(#clip320)\" style=\"stroke:#f8f8f2; stroke-linecap:round; stroke-linejoin:round; stroke-width:4; stroke-opacity:1; fill:none\" points=\"1839.07,1486.45 1839.07,1467.55 \"/>\n",
       "<polyline clip-path=\"url(#clip320)\" style=\"stroke:#f8f8f2; stroke-linecap:round; stroke-linejoin:round; stroke-width:4; stroke-opacity:1; fill:none\" points=\"2291.66,1486.45 2291.66,1467.55 \"/>\n",
       "<path clip-path=\"url(#clip320)\" d=\"M475.979 1544.91 L492.298 1544.91 L492.298 1548.85 L470.354 1548.85 L470.354 1544.91 Q473.016 1542.16 477.599 1537.53 Q482.206 1532.88 483.386 1531.53 Q485.632 1529.01 486.511 1527.27 Q487.414 1525.51 487.414 1523.82 Q487.414 1521.07 485.47 1519.33 Q483.548 1517.6 480.446 1517.6 Q478.247 1517.6 475.794 1518.36 Q473.363 1519.13 470.585 1520.68 L470.585 1515.95 Q473.409 1514.82 475.863 1514.24 Q478.317 1513.66 480.354 1513.66 Q485.724 1513.66 488.919 1516.35 Q492.113 1519.03 492.113 1523.52 Q492.113 1525.65 491.303 1527.57 Q490.516 1529.47 488.409 1532.07 Q487.831 1532.74 484.729 1535.95 Q481.627 1539.15 475.979 1544.91 Z\" fill=\"#f8f8f2\" fill-rule=\"nonzero\" fill-opacity=\"1\" /><path clip-path=\"url(#clip320)\" d=\"M936.918 1518.36 L925.113 1536.81 L936.918 1536.81 L936.918 1518.36 M935.691 1514.29 L941.571 1514.29 L941.571 1536.81 L946.501 1536.81 L946.501 1540.7 L941.571 1540.7 L941.571 1548.85 L936.918 1548.85 L936.918 1540.7 L921.316 1540.7 L921.316 1536.19 L935.691 1514.29 Z\" fill=\"#f8f8f2\" fill-rule=\"nonzero\" fill-opacity=\"1\" /><path clip-path=\"url(#clip320)\" d=\"M1386.9 1529.7 Q1383.75 1529.7 1381.9 1531.86 Q1380.07 1534.01 1380.07 1537.76 Q1380.07 1541.49 1381.9 1543.66 Q1383.75 1545.82 1386.9 1545.82 Q1390.04 1545.82 1391.87 1543.66 Q1393.73 1541.49 1393.73 1537.76 Q1393.73 1534.01 1391.87 1531.86 Q1390.04 1529.7 1386.9 1529.7 M1396.18 1515.05 L1396.18 1519.31 Q1394.42 1518.48 1392.61 1518.04 Q1390.83 1517.6 1389.07 1517.6 Q1384.44 1517.6 1381.99 1520.72 Q1379.56 1523.85 1379.21 1530.17 Q1380.58 1528.15 1382.64 1527.09 Q1384.7 1526 1387.17 1526 Q1392.38 1526 1395.39 1529.17 Q1398.42 1532.32 1398.42 1537.76 Q1398.42 1543.08 1395.28 1546.3 Q1392.13 1549.52 1386.9 1549.52 Q1380.9 1549.52 1377.73 1544.94 Q1374.56 1540.33 1374.56 1531.6 Q1374.56 1523.41 1378.45 1518.55 Q1382.34 1513.66 1388.89 1513.66 Q1390.65 1513.66 1392.43 1514.01 Q1394.23 1514.36 1396.18 1515.05 Z\" fill=\"#f8f8f2\" fill-rule=\"nonzero\" fill-opacity=\"1\" /><path clip-path=\"url(#clip320)\" d=\"M1839.07 1532.44 Q1835.74 1532.44 1833.82 1534.22 Q1831.92 1536 1831.92 1539.13 Q1831.92 1542.25 1833.82 1544.03 Q1835.74 1545.82 1839.07 1545.82 Q1842.41 1545.82 1844.33 1544.03 Q1846.25 1542.23 1846.25 1539.13 Q1846.25 1536 1844.33 1534.22 Q1842.43 1532.44 1839.07 1532.44 M1834.4 1530.45 Q1831.39 1529.7 1829.7 1527.64 Q1828.03 1525.58 1828.03 1522.62 Q1828.03 1518.48 1830.97 1516.07 Q1833.94 1513.66 1839.07 1513.66 Q1844.24 1513.66 1847.18 1516.07 Q1850.12 1518.48 1850.12 1522.62 Q1850.12 1525.58 1848.43 1527.64 Q1846.76 1529.7 1843.77 1530.45 Q1847.15 1531.23 1849.03 1533.52 Q1850.93 1535.82 1850.93 1539.13 Q1850.93 1544.15 1847.85 1546.83 Q1844.79 1549.52 1839.07 1549.52 Q1833.36 1549.52 1830.28 1546.83 Q1827.22 1544.15 1827.22 1539.13 Q1827.22 1535.82 1829.12 1533.52 Q1831.02 1531.23 1834.4 1530.45 M1832.69 1523.06 Q1832.69 1525.75 1834.35 1527.25 Q1836.04 1528.76 1839.07 1528.76 Q1842.08 1528.76 1843.77 1527.25 Q1845.49 1525.75 1845.49 1523.06 Q1845.49 1520.38 1843.77 1518.87 Q1842.08 1517.37 1839.07 1517.37 Q1836.04 1517.37 1834.35 1518.87 Q1832.69 1520.38 1832.69 1523.06 Z\" fill=\"#f8f8f2\" fill-rule=\"nonzero\" fill-opacity=\"1\" /><path clip-path=\"url(#clip320)\" d=\"M2266.34 1544.91 L2273.98 1544.91 L2273.98 1518.55 L2265.67 1520.21 L2265.67 1515.95 L2273.94 1514.29 L2278.61 1514.29 L2278.61 1544.91 L2286.25 1544.91 L2286.25 1548.85 L2266.34 1548.85 L2266.34 1544.91 Z\" fill=\"#f8f8f2\" fill-rule=\"nonzero\" fill-opacity=\"1\" /><path clip-path=\"url(#clip320)\" d=\"M2305.7 1517.37 Q2302.09 1517.37 2300.26 1520.93 Q2298.45 1524.47 2298.45 1531.6 Q2298.45 1538.71 2300.26 1542.27 Q2302.09 1545.82 2305.7 1545.82 Q2309.33 1545.82 2311.14 1542.27 Q2312.96 1538.71 2312.96 1531.6 Q2312.96 1524.47 2311.14 1520.93 Q2309.33 1517.37 2305.7 1517.37 M2305.7 1513.66 Q2311.51 1513.66 2314.56 1518.27 Q2317.64 1522.85 2317.64 1531.6 Q2317.64 1540.33 2314.56 1544.94 Q2311.51 1549.52 2305.7 1549.52 Q2299.89 1549.52 2296.81 1544.94 Q2293.75 1540.33 2293.75 1531.6 Q2293.75 1522.85 2296.81 1518.27 Q2299.89 1513.66 2305.7 1513.66 Z\" fill=\"#f8f8f2\" fill-rule=\"nonzero\" fill-opacity=\"1\" /><polyline clip-path=\"url(#clip320)\" style=\"stroke:#f8f8f2; stroke-linecap:round; stroke-linejoin:round; stroke-width:4; stroke-opacity:1; fill:none\" points=\"193.936,1486.45 193.936,47.2441 \"/>\n",
       "<polyline clip-path=\"url(#clip320)\" style=\"stroke:#f8f8f2; stroke-linecap:round; stroke-linejoin:round; stroke-width:4; stroke-opacity:1; fill:none\" points=\"193.936,1445.77 212.834,1445.77 \"/>\n",
       "<polyline clip-path=\"url(#clip320)\" style=\"stroke:#f8f8f2; stroke-linecap:round; stroke-linejoin:round; stroke-width:4; stroke-opacity:1; fill:none\" points=\"193.936,1106.3 212.834,1106.3 \"/>\n",
       "<polyline clip-path=\"url(#clip320)\" style=\"stroke:#f8f8f2; stroke-linecap:round; stroke-linejoin:round; stroke-width:4; stroke-opacity:1; fill:none\" points=\"193.936,766.824 212.834,766.824 \"/>\n",
       "<polyline clip-path=\"url(#clip320)\" style=\"stroke:#f8f8f2; stroke-linecap:round; stroke-linejoin:round; stroke-width:4; stroke-opacity:1; fill:none\" points=\"193.936,427.352 212.834,427.352 \"/>\n",
       "<polyline clip-path=\"url(#clip320)\" style=\"stroke:#f8f8f2; stroke-linecap:round; stroke-linejoin:round; stroke-width:4; stroke-opacity:1; fill:none\" points=\"193.936,87.8803 212.834,87.8803 \"/>\n",
       "<path clip-path=\"url(#clip320)\" d=\"M50.9921 1446.22 L80.6679 1446.22 L80.6679 1450.15 L50.9921 1450.15 L50.9921 1446.22 Z\" fill=\"#f8f8f2\" fill-rule=\"nonzero\" fill-opacity=\"1\" /><path clip-path=\"url(#clip320)\" d=\"M91.5706 1459.11 L99.2095 1459.11 L99.2095 1432.75 L90.8993 1434.41 L90.8993 1430.15 L99.1632 1428.49 L103.839 1428.49 L103.839 1459.11 L111.478 1459.11 L111.478 1463.05 L91.5706 1463.05 L91.5706 1459.11 Z\" fill=\"#f8f8f2\" fill-rule=\"nonzero\" fill-opacity=\"1\" /><path clip-path=\"url(#clip320)\" d=\"M120.922 1457.17 L125.807 1457.17 L125.807 1463.05 L120.922 1463.05 L120.922 1457.17 Z\" fill=\"#f8f8f2\" fill-rule=\"nonzero\" fill-opacity=\"1\" /><path clip-path=\"url(#clip320)\" d=\"M145.992 1431.57 Q142.381 1431.57 140.552 1435.13 Q138.746 1438.67 138.746 1445.8 Q138.746 1452.91 140.552 1456.47 Q142.381 1460.02 145.992 1460.02 Q149.626 1460.02 151.431 1456.47 Q153.26 1452.91 153.26 1445.8 Q153.26 1438.67 151.431 1435.13 Q149.626 1431.57 145.992 1431.57 M145.992 1427.86 Q151.802 1427.86 154.857 1432.47 Q157.936 1437.05 157.936 1445.8 Q157.936 1454.53 154.857 1459.14 Q151.802 1463.72 145.992 1463.72 Q140.181 1463.72 137.103 1459.14 Q134.047 1454.53 134.047 1445.8 Q134.047 1437.05 137.103 1432.47 Q140.181 1427.86 145.992 1427.86 Z\" fill=\"#f8f8f2\" fill-rule=\"nonzero\" fill-opacity=\"1\" /><path clip-path=\"url(#clip320)\" d=\"M51.9875 1106.75 L81.6633 1106.75 L81.6633 1110.68 L51.9875 1110.68 L51.9875 1106.75 Z\" fill=\"#f8f8f2\" fill-rule=\"nonzero\" fill-opacity=\"1\" /><path clip-path=\"url(#clip320)\" d=\"M101.756 1092.09 Q98.1447 1092.09 96.316 1095.66 Q94.5104 1099.2 94.5104 1106.33 Q94.5104 1113.44 96.316 1117 Q98.1447 1120.54 101.756 1120.54 Q105.39 1120.54 107.196 1117 Q109.024 1113.44 109.024 1106.33 Q109.024 1099.2 107.196 1095.66 Q105.39 1092.09 101.756 1092.09 M101.756 1088.39 Q107.566 1088.39 110.621 1093 Q113.7 1097.58 113.7 1106.33 Q113.7 1115.06 110.621 1119.66 Q107.566 1124.25 101.756 1124.25 Q95.9456 1124.25 92.8669 1119.66 Q89.8114 1115.06 89.8114 1106.33 Q89.8114 1097.58 92.8669 1093 Q95.9456 1088.39 101.756 1088.39 Z\" fill=\"#f8f8f2\" fill-rule=\"nonzero\" fill-opacity=\"1\" /><path clip-path=\"url(#clip320)\" d=\"M121.918 1117.7 L126.802 1117.7 L126.802 1123.58 L121.918 1123.58 L121.918 1117.7 Z\" fill=\"#f8f8f2\" fill-rule=\"nonzero\" fill-opacity=\"1\" /><path clip-path=\"url(#clip320)\" d=\"M137.033 1089.02 L155.39 1089.02 L155.39 1092.95 L141.316 1092.95 L141.316 1101.42 Q142.334 1101.08 143.353 1100.91 Q144.371 1100.73 145.39 1100.73 Q151.177 1100.73 154.556 1103.9 Q157.936 1107.07 157.936 1112.49 Q157.936 1118.07 154.464 1121.17 Q150.992 1124.25 144.672 1124.25 Q142.496 1124.25 140.228 1123.88 Q137.982 1123.51 135.575 1122.77 L135.575 1118.07 Q137.658 1119.2 139.881 1119.76 Q142.103 1120.31 144.58 1120.31 Q148.584 1120.31 150.922 1118.21 Q153.26 1116.1 153.26 1112.49 Q153.26 1108.88 150.922 1106.77 Q148.584 1104.66 144.58 1104.66 Q142.705 1104.66 140.83 1105.08 Q138.978 1105.5 137.033 1106.38 L137.033 1089.02 Z\" fill=\"#f8f8f2\" fill-rule=\"nonzero\" fill-opacity=\"1\" /><path clip-path=\"url(#clip320)\" d=\"M100.76 752.623 Q97.1493 752.623 95.3206 756.188 Q93.515 759.729 93.515 766.859 Q93.515 773.965 95.3206 777.53 Q97.1493 781.072 100.76 781.072 Q104.395 781.072 106.2 777.53 Q108.029 773.965 108.029 766.859 Q108.029 759.729 106.2 756.188 Q104.395 752.623 100.76 752.623 M100.76 748.919 Q106.571 748.919 109.626 753.526 Q112.705 758.109 112.705 766.859 Q112.705 775.586 109.626 780.192 Q106.571 784.775 100.76 784.775 Q94.9502 784.775 91.8715 780.192 Q88.816 775.586 88.816 766.859 Q88.816 758.109 91.8715 753.526 Q94.9502 748.919 100.76 748.919 Z\" fill=\"#f8f8f2\" fill-rule=\"nonzero\" fill-opacity=\"1\" /><path clip-path=\"url(#clip320)\" d=\"M120.922 778.224 L125.807 778.224 L125.807 784.104 L120.922 784.104 L120.922 778.224 Z\" fill=\"#f8f8f2\" fill-rule=\"nonzero\" fill-opacity=\"1\" /><path clip-path=\"url(#clip320)\" d=\"M145.992 752.623 Q142.381 752.623 140.552 756.188 Q138.746 759.729 138.746 766.859 Q138.746 773.965 140.552 777.53 Q142.381 781.072 145.992 781.072 Q149.626 781.072 151.431 777.53 Q153.26 773.965 153.26 766.859 Q153.26 759.729 151.431 756.188 Q149.626 752.623 145.992 752.623 M145.992 748.919 Q151.802 748.919 154.857 753.526 Q157.936 758.109 157.936 766.859 Q157.936 775.586 154.857 780.192 Q151.802 784.775 145.992 784.775 Q140.181 784.775 137.103 780.192 Q134.047 775.586 134.047 766.859 Q134.047 758.109 137.103 753.526 Q140.181 748.919 145.992 748.919 Z\" fill=\"#f8f8f2\" fill-rule=\"nonzero\" fill-opacity=\"1\" /><path clip-path=\"url(#clip320)\" d=\"M101.756 413.151 Q98.1447 413.151 96.316 416.716 Q94.5104 420.257 94.5104 427.387 Q94.5104 434.493 96.316 438.058 Q98.1447 441.6 101.756 441.6 Q105.39 441.6 107.196 438.058 Q109.024 434.493 109.024 427.387 Q109.024 420.257 107.196 416.716 Q105.39 413.151 101.756 413.151 M101.756 409.447 Q107.566 409.447 110.621 414.054 Q113.7 418.637 113.7 427.387 Q113.7 436.114 110.621 440.72 Q107.566 445.303 101.756 445.303 Q95.9456 445.303 92.8669 440.72 Q89.8114 436.114 89.8114 427.387 Q89.8114 418.637 92.8669 414.054 Q95.9456 409.447 101.756 409.447 Z\" fill=\"#f8f8f2\" fill-rule=\"nonzero\" fill-opacity=\"1\" /><path clip-path=\"url(#clip320)\" d=\"M121.918 438.753 L126.802 438.753 L126.802 444.632 L121.918 444.632 L121.918 438.753 Z\" fill=\"#f8f8f2\" fill-rule=\"nonzero\" fill-opacity=\"1\" /><path clip-path=\"url(#clip320)\" d=\"M137.033 410.072 L155.39 410.072 L155.39 414.007 L141.316 414.007 L141.316 422.48 Q142.334 422.132 143.353 421.97 Q144.371 421.785 145.39 421.785 Q151.177 421.785 154.556 424.956 Q157.936 428.128 157.936 433.544 Q157.936 439.123 154.464 442.225 Q150.992 445.303 144.672 445.303 Q142.496 445.303 140.228 444.933 Q137.982 444.563 135.575 443.822 L135.575 439.123 Q137.658 440.257 139.881 440.813 Q142.103 441.368 144.58 441.368 Q148.584 441.368 150.922 439.262 Q153.26 437.155 153.26 433.544 Q153.26 429.933 150.922 427.827 Q148.584 425.72 144.58 425.72 Q142.705 425.72 140.83 426.137 Q138.978 426.554 137.033 427.433 L137.033 410.072 Z\" fill=\"#f8f8f2\" fill-rule=\"nonzero\" fill-opacity=\"1\" /><path clip-path=\"url(#clip320)\" d=\"M91.5706 101.225 L99.2095 101.225 L99.2095 74.8595 L90.8993 76.5262 L90.8993 72.267 L99.1632 70.6003 L103.839 70.6003 L103.839 101.225 L111.478 101.225 L111.478 105.16 L91.5706 105.16 L91.5706 101.225 Z\" fill=\"#f8f8f2\" fill-rule=\"nonzero\" fill-opacity=\"1\" /><path clip-path=\"url(#clip320)\" d=\"M120.922 99.2807 L125.807 99.2807 L125.807 105.16 L120.922 105.16 L120.922 99.2807 Z\" fill=\"#f8f8f2\" fill-rule=\"nonzero\" fill-opacity=\"1\" /><path clip-path=\"url(#clip320)\" d=\"M145.992 73.679 Q142.381 73.679 140.552 77.2438 Q138.746 80.7854 138.746 87.915 Q138.746 95.0215 140.552 98.5863 Q142.381 102.128 145.992 102.128 Q149.626 102.128 151.431 98.5863 Q153.26 95.0215 153.26 87.915 Q153.26 80.7854 151.431 77.2438 Q149.626 73.679 145.992 73.679 M145.992 69.9753 Q151.802 69.9753 154.857 74.5818 Q157.936 79.1651 157.936 87.915 Q157.936 96.6418 154.857 101.248 Q151.802 105.832 145.992 105.832 Q140.181 105.832 137.103 101.248 Q134.047 96.6418 134.047 87.915 Q134.047 79.1651 137.103 74.5818 Q140.181 69.9753 145.992 69.9753 Z\" fill=\"#f8f8f2\" fill-rule=\"nonzero\" fill-opacity=\"1\" /><polyline clip-path=\"url(#clip322)\" style=\"stroke:#8be9fd; stroke-linecap:round; stroke-linejoin:round; stroke-width:4; stroke-opacity:1; fill:none\" points=\"255.035,195.513 277.664,161.744 300.293,134.022 322.922,112.622 345.551,97.7591 368.18,89.5811 390.81,88.1698 413.439,93.5394 436.068,105.636 458.697,124.34 481.326,149.462 503.955,180.753 526.584,217.9 549.213,260.532 571.843,308.223 594.472,360.495 617.101,416.828 639.73,476.657 662.359,539.386 684.988,604.387 707.617,671.011 730.247,738.593 752.876,806.457 775.505,873.925 798.134,940.322 820.763,1004.99 843.392,1067.27 866.021,1126.55 888.651,1182.24 911.28,1233.78 933.909,1280.65 956.538,1322.39 979.167,1358.57 1001.8,1388.85 1024.43,1412.91 1047.05,1430.51 1069.68,1441.48 1092.31,1445.72 1114.94,1443.16 1137.57,1433.85 1160.2,1417.88 1182.83,1395.4 1205.46,1366.64 1228.09,1331.89 1250.72,1291.49 1273.35,1245.85 1295.98,1195.42 1318.6,1140.71 1341.23,1082.26 1363.86,1020.67 1386.49,956.531 1409.12,890.502 1431.75,823.237 1454.38,755.408 1477.01,687.694 1499.64,620.77 1522.27,555.305 1544.9,491.954 1567.52,431.349 1590.15,374.096 1612.78,320.767 1635.41,271.895 1658.04,227.968 1680.67,189.425 1703.3,156.652 1725.93,129.975 1748.56,109.661 1771.19,95.9134 1793.82,88.8693 1816.45,88.5991 1839.07,95.1055 1861.7,108.323 1884.33,128.121 1906.96,154.3 1929.59,186.599 1952.22,224.696 1974.85,268.21 1997.48,316.705 2020.11,369.698 2042.74,426.659 2065.37,487.019 2087.99,550.174 2110.62,615.494 2133.25,682.326 2155.88,750.003 2178.51,817.847 2201.14,885.182 2223.77,951.334 2246.4,1015.64 2269.03,1077.47 2291.66,1136.18 \"/>\n",
       "<polyline clip-path=\"url(#clip322)\" style=\"stroke:#ff79c6; stroke-linecap:round; stroke-linejoin:round; stroke-width:4; stroke-opacity:1; fill:none\" points=\"255.035,399.989 277.664,458.858 300.293,520.804 322.922,585.207 345.551,651.426 368.18,718.797 390.81,786.649 413.439,854.302 436.068,921.081 458.697,986.319 481.326,1049.36 503.955,1109.59 526.584,1166.38 549.213,1219.19 571.843,1267.47 594.472,1310.76 617.101,1348.6 639.73,1380.64 662.359,1406.54 684.988,1426.05 707.617,1438.97 730.247,1445.18 752.876,1444.61 775.505,1437.27 798.134,1423.23 820.763,1402.63 843.392,1375.67 866.021,1342.64 888.651,1303.85 911.28,1259.69 933.909,1210.61 956.538,1157.1 979.167,1099.68 1001.8,1038.94 1024.43,975.486 1047.05,909.943 1069.68,842.969 1092.31,775.235 1114.94,707.417 1137.57,640.193 1160.2,574.233 1182.83,510.198 1205.46,448.728 1228.09,390.435 1250.72,335.903 1273.35,285.677 1295.98,240.258 1318.6,200.101 1341.23,165.606 1363.86,137.118 1386.49,114.922 1409.12,99.2401 1431.75,90.228 1454.38,87.9763 1477.01,92.5074 1499.64,103.776 1522.27,121.67 1544.9,146.009 1567.52,176.552 1590.15,212.993 1612.78,254.967 1635.41,302.055 1658.04,353.788 1680.67,409.647 1703.3,469.075 1725.93,531.478 1748.56,596.233 1771.19,662.692 1793.82,730.191 1816.45,798.057 1839.07,865.61 1861.7,932.177 1884.33,997.091 1906.96,1059.7 1929.59,1119.39 1952.22,1175.56 1974.85,1227.64 1997.48,1275.11 2020.11,1317.51 2042.74,1354.41 2065.37,1385.43 2087.99,1410.27 2110.62,1428.69 2133.25,1440.49 2155.88,1445.56 2178.51,1443.85 2201.14,1435.37 2223.77,1420.22 2246.4,1398.53 2269.03,1370.53 2291.66,1336.51 \"/>\n",
       "<path clip-path=\"url(#clip320)\" d=\"M1926.79 250.738 L2280.8 250.738 L2280.8 95.2176 L1926.79 95.2176  Z\" fill=\"#282a36\" fill-rule=\"evenodd\" fill-opacity=\"1\"/>\n",
       "<polyline clip-path=\"url(#clip320)\" style=\"stroke:#f8f8f2; stroke-linecap:round; stroke-linejoin:round; stroke-width:4; stroke-opacity:1; fill:none\" points=\"1926.79,250.738 2280.8,250.738 2280.8,95.2176 1926.79,95.2176 1926.79,250.738 \"/>\n",
       "<polyline clip-path=\"url(#clip320)\" style=\"stroke:#8be9fd; stroke-linecap:round; stroke-linejoin:round; stroke-width:4; stroke-opacity:1; fill:none\" points=\"1950.78,147.058 2094.7,147.058 \"/>\n",
       "<path clip-path=\"url(#clip320)\" d=\"M2137.11 139.176 L2137.11 143.203 Q2135.3 142.277 2133.36 141.815 Q2131.42 141.352 2129.33 141.352 Q2126.16 141.352 2124.56 142.324 Q2122.99 143.296 2122.99 145.24 Q2122.99 146.722 2124.12 147.578 Q2125.26 148.412 2128.68 149.176 L2130.14 149.5 Q2134.68 150.472 2136.58 152.254 Q2138.5 154.014 2138.5 157.185 Q2138.5 160.796 2135.63 162.902 Q2132.78 165.009 2127.78 165.009 Q2125.7 165.009 2123.43 164.592 Q2121.18 164.199 2118.68 163.388 L2118.68 158.99 Q2121.05 160.217 2123.34 160.842 Q2125.63 161.444 2127.87 161.444 Q2130.88 161.444 2132.5 160.426 Q2134.12 159.384 2134.12 157.509 Q2134.12 155.773 2132.94 154.847 Q2131.79 153.921 2127.83 153.064 L2126.35 152.717 Q2122.39 151.884 2120.63 150.171 Q2118.87 148.435 2118.87 145.426 Q2118.87 141.768 2121.46 139.778 Q2124.05 137.787 2128.82 137.787 Q2131.18 137.787 2133.27 138.134 Q2135.35 138.481 2137.11 139.176 Z\" fill=\"#f8f8f2\" fill-rule=\"nonzero\" fill-opacity=\"1\" /><path clip-path=\"url(#clip320)\" d=\"M2145.28 138.412 L2149.54 138.412 L2149.54 164.338 L2145.28 164.338 L2145.28 138.412 M2145.28 128.319 L2149.54 128.319 L2149.54 133.713 L2145.28 133.713 L2145.28 128.319 Z\" fill=\"#f8f8f2\" fill-rule=\"nonzero\" fill-opacity=\"1\" /><path clip-path=\"url(#clip320)\" d=\"M2180 148.689 L2180 164.338 L2175.74 164.338 L2175.74 148.828 Q2175.74 145.148 2174.31 143.319 Q2172.87 141.49 2170 141.49 Q2166.55 141.49 2164.56 143.69 Q2162.57 145.889 2162.57 149.685 L2162.57 164.338 L2158.29 164.338 L2158.29 138.412 L2162.57 138.412 L2162.57 142.44 Q2164.1 140.102 2166.16 138.944 Q2168.24 137.787 2170.95 137.787 Q2175.42 137.787 2177.71 140.565 Q2180 143.319 2180 148.689 Z\" fill=\"#f8f8f2\" fill-rule=\"nonzero\" fill-opacity=\"1\" /><path clip-path=\"url(#clip320)\" d=\"M2198.73 128.366 Q2195.63 133.69 2194.12 138.898 Q2192.62 144.106 2192.62 149.453 Q2192.62 154.801 2194.12 160.055 Q2195.65 165.287 2198.73 170.588 L2195.03 170.588 Q2191.55 165.148 2189.82 159.893 Q2188.11 154.639 2188.11 149.453 Q2188.11 144.291 2189.82 139.06 Q2191.53 133.828 2195.03 128.366 L2198.73 128.366 Z\" fill=\"#f8f8f2\" fill-rule=\"nonzero\" fill-opacity=\"1\" /><path clip-path=\"url(#clip320)\" d=\"M2228.54 138.412 L2219.17 151.027 L2229.03 164.338 L2224.01 164.338 L2216.46 154.152 L2208.92 164.338 L2203.89 164.338 L2213.96 150.773 L2204.75 138.412 L2209.77 138.412 L2216.65 147.648 L2223.52 138.412 L2228.54 138.412 Z\" fill=\"#f8f8f2\" fill-rule=\"nonzero\" fill-opacity=\"1\" /><path clip-path=\"url(#clip320)\" d=\"M2234.38 128.366 L2238.08 128.366 Q2241.55 133.828 2243.27 139.06 Q2245 144.291 2245 149.453 Q2245 154.639 2243.27 159.893 Q2241.55 165.148 2238.08 170.588 L2234.38 170.588 Q2237.46 165.287 2238.96 160.055 Q2240.49 154.801 2240.49 149.453 Q2240.49 144.106 2238.96 138.898 Q2237.46 133.69 2234.38 128.366 Z\" fill=\"#f8f8f2\" fill-rule=\"nonzero\" fill-opacity=\"1\" /><polyline clip-path=\"url(#clip320)\" style=\"stroke:#ff79c6; stroke-linecap:round; stroke-linejoin:round; stroke-width:4; stroke-opacity:1; fill:none\" points=\"1950.78,198.898 2094.7,198.898 \"/>\n",
       "<path clip-path=\"url(#clip320)\" d=\"M2139.19 191.247 L2139.19 195.229 Q2137.39 194.233 2135.56 193.747 Q2133.75 193.238 2131.9 193.238 Q2127.76 193.238 2125.47 195.877 Q2123.17 198.492 2123.17 203.238 Q2123.17 207.983 2125.47 210.622 Q2127.76 213.238 2131.9 213.238 Q2133.75 213.238 2135.56 212.752 Q2137.39 212.242 2139.19 211.247 L2139.19 215.182 Q2137.41 216.016 2135.49 216.432 Q2133.59 216.849 2131.44 216.849 Q2125.58 216.849 2122.13 213.168 Q2118.68 209.488 2118.68 203.238 Q2118.68 196.895 2122.16 193.261 Q2125.65 189.627 2131.72 189.627 Q2133.68 189.627 2135.56 190.043 Q2137.43 190.437 2139.19 191.247 Z\" fill=\"#f8f8f2\" fill-rule=\"nonzero\" fill-opacity=\"1\" /><path clip-path=\"url(#clip320)\" d=\"M2156.65 193.238 Q2153.22 193.238 2151.23 195.923 Q2149.24 198.585 2149.24 203.238 Q2149.24 207.891 2151.21 210.576 Q2153.2 213.238 2156.65 213.238 Q2160.05 213.238 2162.04 210.553 Q2164.03 207.867 2164.03 203.238 Q2164.03 198.631 2162.04 195.946 Q2160.05 193.238 2156.65 193.238 M2156.65 189.627 Q2162.2 189.627 2165.37 193.238 Q2168.54 196.849 2168.54 203.238 Q2168.54 209.604 2165.37 213.238 Q2162.2 216.849 2156.65 216.849 Q2151.07 216.849 2147.9 213.238 Q2144.75 209.604 2144.75 203.238 Q2144.75 196.849 2147.9 193.238 Q2151.07 189.627 2156.65 189.627 Z\" fill=\"#f8f8f2\" fill-rule=\"nonzero\" fill-opacity=\"1\" /><path clip-path=\"url(#clip320)\" d=\"M2192.13 191.016 L2192.13 195.043 Q2190.33 194.117 2188.38 193.655 Q2186.44 193.192 2184.36 193.192 Q2181.18 193.192 2179.59 194.164 Q2178.01 195.136 2178.01 197.08 Q2178.01 198.562 2179.15 199.418 Q2180.28 200.252 2183.71 201.016 L2185.17 201.34 Q2189.7 202.312 2191.6 204.094 Q2193.52 205.854 2193.52 209.025 Q2193.52 212.636 2190.65 214.742 Q2187.8 216.849 2182.8 216.849 Q2180.72 216.849 2178.45 216.432 Q2176.21 216.039 2173.71 215.228 L2173.71 210.83 Q2176.07 212.057 2178.36 212.682 Q2180.65 213.284 2182.9 213.284 Q2185.91 213.284 2187.53 212.266 Q2189.15 211.224 2189.15 209.349 Q2189.15 207.613 2187.97 206.687 Q2186.81 205.761 2182.85 204.904 L2181.37 204.557 Q2177.41 203.724 2175.65 202.011 Q2173.89 200.275 2173.89 197.266 Q2173.89 193.608 2176.48 191.618 Q2179.08 189.627 2183.85 189.627 Q2186.21 189.627 2188.29 189.974 Q2190.37 190.321 2192.13 191.016 Z\" fill=\"#f8f8f2\" fill-rule=\"nonzero\" fill-opacity=\"1\" /><path clip-path=\"url(#clip320)\" d=\"M2210.54 180.206 Q2207.43 185.53 2205.93 190.738 Q2204.42 195.946 2204.42 201.293 Q2204.42 206.641 2205.93 211.895 Q2207.46 217.127 2210.54 222.428 L2206.83 222.428 Q2203.36 216.988 2201.62 211.733 Q2199.91 206.479 2199.91 201.293 Q2199.91 196.131 2201.62 190.9 Q2203.34 185.668 2206.83 180.206 L2210.54 180.206 Z\" fill=\"#f8f8f2\" fill-rule=\"nonzero\" fill-opacity=\"1\" /><path clip-path=\"url(#clip320)\" d=\"M2240.35 190.252 L2230.98 202.867 L2240.84 216.178 L2235.81 216.178 L2228.27 205.992 L2220.72 216.178 L2215.7 216.178 L2225.77 202.613 L2216.55 190.252 L2221.58 190.252 L2228.45 199.488 L2235.33 190.252 L2240.35 190.252 Z\" fill=\"#f8f8f2\" fill-rule=\"nonzero\" fill-opacity=\"1\" /><path clip-path=\"url(#clip320)\" d=\"M2246.18 180.206 L2249.89 180.206 Q2253.36 185.668 2255.07 190.9 Q2256.81 196.131 2256.81 201.293 Q2256.81 206.479 2255.07 211.733 Q2253.36 216.988 2249.89 222.428 L2246.18 222.428 Q2249.26 217.127 2250.77 211.895 Q2252.29 206.641 2252.29 201.293 Q2252.29 195.946 2250.77 190.738 Q2249.26 185.53 2246.18 180.206 Z\" fill=\"#f8f8f2\" fill-rule=\"nonzero\" fill-opacity=\"1\" /></svg>\n"
      ]
     },
     "execution_count": 82,
     "metadata": {},
     "output_type": "execute_result"
    }
   ],
   "source": [
    "x = 1:.1:10\n",
    "y = sin.(x)\n",
    "z = cos.(x)\n",
    "\n",
    "plot(x, y, label=\"sin(x)\")\n",
    "plot!(x, z, label=\"cos(x)\") # Hold on the previous plot"
   ]
  },
  {
   "cell_type": "code",
   "execution_count": 83,
   "metadata": {},
   "outputs": [
    {
     "data": {
      "text/latex": [
       "\\textbf{Scatter Plot}\n",
       "\n"
      ],
      "text/markdown": [
       "**Scatter Plot**\n"
      ],
      "text/plain": [
       "  \u001b[1mScatter Plot\u001b[22m"
      ]
     },
     "execution_count": 83,
     "metadata": {},
     "output_type": "execute_result"
    }
   ],
   "source": [
    "md\"**Scatter Plot**\""
   ]
  },
  {
   "cell_type": "code",
   "execution_count": 84,
   "metadata": {},
   "outputs": [
    {
     "data": {
      "image/png": "[encoded data removed]",
      "image/svg+xml": [
       "<?xml version=\"1.0\" encoding=\"utf-8\"?>\n",
       "<svg xmlns=\"http://www.w3.org/2000/svg\" xmlns:xlink=\"http://www.w3.org/1999/xlink\" width=\"600\" height=\"400\" viewBox=\"0 0 2400 1600\">\n",
       "<defs>\n",
       "  <clipPath id=\"clip360\">\n",
       "    <rect x=\"0\" y=\"0\" width=\"2400\" height=\"1600\"/>\n",
       "  </clipPath>\n",
       "</defs>\n",
       "<path clip-path=\"url(#clip360)\" d=\"M0 1600 L2400 1600 L2400 0 L0 0  Z\" fill=\"#282a36\" fill-rule=\"evenodd\" fill-opacity=\"1\"/>\n",
       "<defs>\n",
       "  <clipPath id=\"clip361\">\n",
       "    <rect x=\"480\" y=\"0\" width=\"1681\" height=\"1600\"/>\n",
       "  </clipPath>\n",
       "</defs>\n",
       "<path clip-path=\"url(#clip360)\" d=\"M193.936 1486.45 L2352.76 1486.45 L2352.76 47.2441 L193.936 47.2441  Z\" fill=\"#30343b\" fill-rule=\"evenodd\" fill-opacity=\"1\"/>\n",
       "<defs>\n",
       "  <clipPath id=\"clip362\">\n",
       "    <rect x=\"193\" y=\"47\" width=\"2160\" height=\"1440\"/>\n",
       "  </clipPath>\n",
       "</defs>\n",
       "<polyline clip-path=\"url(#clip362)\" style=\"stroke:#f8f8f2; stroke-linecap:round; stroke-linejoin:round; stroke-width:2; stroke-opacity:0.1; fill:none\" points=\"481.326,1486.45 481.326,47.2441 \"/>\n",
       "<polyline clip-path=\"url(#clip362)\" style=\"stroke:#f8f8f2; stroke-linecap:round; stroke-linejoin:round; stroke-width:2; stroke-opacity:0.1; fill:none\" points=\"933.909,1486.45 933.909,47.2441 \"/>\n",
       "<polyline clip-path=\"url(#clip362)\" style=\"stroke:#f8f8f2; stroke-linecap:round; stroke-linejoin:round; stroke-width:2; stroke-opacity:0.1; fill:none\" points=\"1386.49,1486.45 1386.49,47.2441 \"/>\n",
       "<polyline clip-path=\"url(#clip362)\" style=\"stroke:#f8f8f2; stroke-linecap:round; stroke-linejoin:round; stroke-width:2; stroke-opacity:0.1; fill:none\" points=\"1839.07,1486.45 1839.07,47.2441 \"/>\n",
       "<polyline clip-path=\"url(#clip362)\" style=\"stroke:#f8f8f2; stroke-linecap:round; stroke-linejoin:round; stroke-width:2; stroke-opacity:0.1; fill:none\" points=\"2291.66,1486.45 2291.66,47.2441 \"/>\n",
       "<polyline clip-path=\"url(#clip362)\" style=\"stroke:#f8f8f2; stroke-linecap:round; stroke-linejoin:round; stroke-width:2; stroke-opacity:0.1; fill:none\" points=\"193.936,1447.88 2352.76,1447.88 \"/>\n",
       "<polyline clip-path=\"url(#clip362)\" style=\"stroke:#f8f8f2; stroke-linecap:round; stroke-linejoin:round; stroke-width:2; stroke-opacity:0.1; fill:none\" points=\"193.936,1105.97 2352.76,1105.97 \"/>\n",
       "<polyline clip-path=\"url(#clip362)\" style=\"stroke:#f8f8f2; stroke-linecap:round; stroke-linejoin:round; stroke-width:2; stroke-opacity:0.1; fill:none\" points=\"193.936,764.064 2352.76,764.064 \"/>\n",
       "<polyline clip-path=\"url(#clip362)\" style=\"stroke:#f8f8f2; stroke-linecap:round; stroke-linejoin:round; stroke-width:2; stroke-opacity:0.1; fill:none\" points=\"193.936,422.155 2352.76,422.155 \"/>\n",
       "<polyline clip-path=\"url(#clip362)\" style=\"stroke:#f8f8f2; stroke-linecap:round; stroke-linejoin:round; stroke-width:2; stroke-opacity:0.1; fill:none\" points=\"193.936,80.2461 2352.76,80.2461 \"/>\n",
       "<polyline clip-path=\"url(#clip360)\" style=\"stroke:#f8f8f2; stroke-linecap:round; stroke-linejoin:round; stroke-width:4; stroke-opacity:1; fill:none\" points=\"193.936,1486.45 2352.76,1486.45 \"/>\n",
       "<polyline clip-path=\"url(#clip360)\" style=\"stroke:#f8f8f2; stroke-linecap:round; stroke-linejoin:round; stroke-width:4; stroke-opacity:1; fill:none\" points=\"481.326,1486.45 481.326,1467.55 \"/>\n",
       "<polyline clip-path=\"url(#clip360)\" style=\"stroke:#f8f8f2; stroke-linecap:round; stroke-linejoin:round; stroke-width:4; stroke-opacity:1; fill:none\" points=\"933.909,1486.45 933.909,1467.55 \"/>\n",
       "<polyline clip-path=\"url(#clip360)\" style=\"stroke:#f8f8f2; stroke-linecap:round; stroke-linejoin:round; stroke-width:4; stroke-opacity:1; fill:none\" points=\"1386.49,1486.45 1386.49,1467.55 \"/>\n",
       "<polyline clip-path=\"url(#clip360)\" style=\"stroke:#f8f8f2; stroke-linecap:round; stroke-linejoin:round; stroke-width:4; stroke-opacity:1; fill:none\" points=\"1839.07,1486.45 1839.07,1467.55 \"/>\n",
       "<polyline clip-path=\"url(#clip360)\" style=\"stroke:#f8f8f2; stroke-linecap:round; stroke-linejoin:round; stroke-width:4; stroke-opacity:1; fill:none\" points=\"2291.66,1486.45 2291.66,1467.55 \"/>\n",
       "<path clip-path=\"url(#clip360)\" d=\"M475.979 1544.91 L492.298 1544.91 L492.298 1548.85 L470.354 1548.85 L470.354 1544.91 Q473.016 1542.16 477.599 1537.53 Q482.206 1532.88 483.386 1531.53 Q485.632 1529.01 486.511 1527.27 Q487.414 1525.51 487.414 1523.82 Q487.414 1521.07 485.47 1519.33 Q483.548 1517.6 480.446 1517.6 Q478.247 1517.6 475.794 1518.36 Q473.363 1519.13 470.585 1520.68 L470.585 1515.95 Q473.409 1514.82 475.863 1514.24 Q478.317 1513.66 480.354 1513.66 Q485.724 1513.66 488.919 1516.35 Q492.113 1519.03 492.113 1523.52 Q492.113 1525.65 491.303 1527.57 Q490.516 1529.47 488.409 1532.07 Q487.831 1532.74 484.729 1535.95 Q481.627 1539.15 475.979 1544.91 Z\" fill=\"#f8f8f2\" fill-rule=\"nonzero\" fill-opacity=\"1\" /><path clip-path=\"url(#clip360)\" d=\"M936.918 1518.36 L925.113 1536.81 L936.918 1536.81 L936.918 1518.36 M935.691 1514.29 L941.571 1514.29 L941.571 1536.81 L946.501 1536.81 L946.501 1540.7 L941.571 1540.7 L941.571 1548.85 L936.918 1548.85 L936.918 1540.7 L921.316 1540.7 L921.316 1536.19 L935.691 1514.29 Z\" fill=\"#f8f8f2\" fill-rule=\"nonzero\" fill-opacity=\"1\" /><path clip-path=\"url(#clip360)\" d=\"M1386.9 1529.7 Q1383.75 1529.7 1381.9 1531.86 Q1380.07 1534.01 1380.07 1537.76 Q1380.07 1541.49 1381.9 1543.66 Q1383.75 1545.82 1386.9 1545.82 Q1390.04 1545.82 1391.87 1543.66 Q1393.73 1541.49 1393.73 1537.76 Q1393.73 1534.01 1391.87 1531.86 Q1390.04 1529.7 1386.9 1529.7 M1396.18 1515.05 L1396.18 1519.31 Q1394.42 1518.48 1392.61 1518.04 Q1390.83 1517.6 1389.07 1517.6 Q1384.44 1517.6 1381.99 1520.72 Q1379.56 1523.85 1379.21 1530.17 Q1380.58 1528.15 1382.64 1527.09 Q1384.7 1526 1387.17 1526 Q1392.38 1526 1395.39 1529.17 Q1398.42 1532.32 1398.42 1537.76 Q1398.42 1543.08 1395.28 1546.3 Q1392.13 1549.52 1386.9 1549.52 Q1380.9 1549.52 1377.73 1544.94 Q1374.56 1540.33 1374.56 1531.6 Q1374.56 1523.41 1378.45 1518.55 Q1382.34 1513.66 1388.89 1513.66 Q1390.65 1513.66 1392.43 1514.01 Q1394.23 1514.36 1396.18 1515.05 Z\" fill=\"#f8f8f2\" fill-rule=\"nonzero\" fill-opacity=\"1\" /><path clip-path=\"url(#clip360)\" d=\"M1839.07 1532.44 Q1835.74 1532.44 1833.82 1534.22 Q1831.92 1536 1831.92 1539.13 Q1831.92 1542.25 1833.82 1544.03 Q1835.74 1545.82 1839.07 1545.82 Q1842.41 1545.82 1844.33 1544.03 Q1846.25 1542.23 1846.25 1539.13 Q1846.25 1536 1844.33 1534.22 Q1842.43 1532.44 1839.07 1532.44 M1834.4 1530.45 Q1831.39 1529.7 1829.7 1527.64 Q1828.03 1525.58 1828.03 1522.62 Q1828.03 1518.48 1830.97 1516.07 Q1833.94 1513.66 1839.07 1513.66 Q1844.24 1513.66 1847.18 1516.07 Q1850.12 1518.48 1850.12 1522.62 Q1850.12 1525.58 1848.43 1527.64 Q1846.76 1529.7 1843.77 1530.45 Q1847.15 1531.23 1849.03 1533.52 Q1850.93 1535.82 1850.93 1539.13 Q1850.93 1544.15 1847.85 1546.83 Q1844.79 1549.52 1839.07 1549.52 Q1833.36 1549.52 1830.28 1546.83 Q1827.22 1544.15 1827.22 1539.13 Q1827.22 1535.82 1829.12 1533.52 Q1831.02 1531.23 1834.4 1530.45 M1832.69 1523.06 Q1832.69 1525.75 1834.35 1527.25 Q1836.04 1528.76 1839.07 1528.76 Q1842.08 1528.76 1843.77 1527.25 Q1845.49 1525.75 1845.49 1523.06 Q1845.49 1520.38 1843.77 1518.87 Q1842.08 1517.37 1839.07 1517.37 Q1836.04 1517.37 1834.35 1518.87 Q1832.69 1520.38 1832.69 1523.06 Z\" fill=\"#f8f8f2\" fill-rule=\"nonzero\" fill-opacity=\"1\" /><path clip-path=\"url(#clip360)\" d=\"M2266.34 1544.91 L2273.98 1544.91 L2273.98 1518.55 L2265.67 1520.21 L2265.67 1515.95 L2273.94 1514.29 L2278.61 1514.29 L2278.61 1544.91 L2286.25 1544.91 L2286.25 1548.85 L2266.34 1548.85 L2266.34 1544.91 Z\" fill=\"#f8f8f2\" fill-rule=\"nonzero\" fill-opacity=\"1\" /><path clip-path=\"url(#clip360)\" d=\"M2305.7 1517.37 Q2302.09 1517.37 2300.26 1520.93 Q2298.45 1524.47 2298.45 1531.6 Q2298.45 1538.71 2300.26 1542.27 Q2302.09 1545.82 2305.7 1545.82 Q2309.33 1545.82 2311.14 1542.27 Q2312.96 1538.71 2312.96 1531.6 Q2312.96 1524.47 2311.14 1520.93 Q2309.33 1517.37 2305.7 1517.37 M2305.7 1513.66 Q2311.51 1513.66 2314.56 1518.27 Q2317.64 1522.85 2317.64 1531.6 Q2317.64 1540.33 2314.56 1544.94 Q2311.51 1549.52 2305.7 1549.52 Q2299.89 1549.52 2296.81 1544.94 Q2293.75 1540.33 2293.75 1531.6 Q2293.75 1522.85 2296.81 1518.27 Q2299.89 1513.66 2305.7 1513.66 Z\" fill=\"#f8f8f2\" fill-rule=\"nonzero\" fill-opacity=\"1\" /><polyline clip-path=\"url(#clip360)\" style=\"stroke:#f8f8f2; stroke-linecap:round; stroke-linejoin:round; stroke-width:4; stroke-opacity:1; fill:none\" points=\"193.936,1486.45 193.936,47.2441 \"/>\n",
       "<polyline clip-path=\"url(#clip360)\" style=\"stroke:#f8f8f2; stroke-linecap:round; stroke-linejoin:round; stroke-width:4; stroke-opacity:1; fill:none\" points=\"193.936,1447.88 212.834,1447.88 \"/>\n",
       "<polyline clip-path=\"url(#clip360)\" style=\"stroke:#f8f8f2; stroke-linecap:round; stroke-linejoin:round; stroke-width:4; stroke-opacity:1; fill:none\" points=\"193.936,1105.97 212.834,1105.97 \"/>\n",
       "<polyline clip-path=\"url(#clip360)\" style=\"stroke:#f8f8f2; stroke-linecap:round; stroke-linejoin:round; stroke-width:4; stroke-opacity:1; fill:none\" points=\"193.936,764.064 212.834,764.064 \"/>\n",
       "<polyline clip-path=\"url(#clip360)\" style=\"stroke:#f8f8f2; stroke-linecap:round; stroke-linejoin:round; stroke-width:4; stroke-opacity:1; fill:none\" points=\"193.936,422.155 212.834,422.155 \"/>\n",
       "<polyline clip-path=\"url(#clip360)\" style=\"stroke:#f8f8f2; stroke-linecap:round; stroke-linejoin:round; stroke-width:4; stroke-opacity:1; fill:none\" points=\"193.936,80.2461 212.834,80.2461 \"/>\n",
       "<path clip-path=\"url(#clip360)\" d=\"M50.9921 1448.33 L80.6679 1448.33 L80.6679 1452.27 L50.9921 1452.27 L50.9921 1448.33 Z\" fill=\"#f8f8f2\" fill-rule=\"nonzero\" fill-opacity=\"1\" /><path clip-path=\"url(#clip360)\" d=\"M91.5706 1461.23 L99.2095 1461.23 L99.2095 1434.86 L90.8993 1436.53 L90.8993 1432.27 L99.1632 1430.6 L103.839 1430.6 L103.839 1461.23 L111.478 1461.23 L111.478 1465.16 L91.5706 1465.16 L91.5706 1461.23 Z\" fill=\"#f8f8f2\" fill-rule=\"nonzero\" fill-opacity=\"1\" /><path clip-path=\"url(#clip360)\" d=\"M120.922 1459.28 L125.807 1459.28 L125.807 1465.16 L120.922 1465.16 L120.922 1459.28 Z\" fill=\"#f8f8f2\" fill-rule=\"nonzero\" fill-opacity=\"1\" /><path clip-path=\"url(#clip360)\" d=\"M145.992 1433.68 Q142.381 1433.68 140.552 1437.24 Q138.746 1440.79 138.746 1447.92 Q138.746 1455.02 140.552 1458.59 Q142.381 1462.13 145.992 1462.13 Q149.626 1462.13 151.431 1458.59 Q153.26 1455.02 153.26 1447.92 Q153.26 1440.79 151.431 1437.24 Q149.626 1433.68 145.992 1433.68 M145.992 1429.98 Q151.802 1429.98 154.857 1434.58 Q157.936 1439.17 157.936 1447.92 Q157.936 1456.64 154.857 1461.25 Q151.802 1465.83 145.992 1465.83 Q140.181 1465.83 137.103 1461.25 Q134.047 1456.64 134.047 1447.92 Q134.047 1439.17 137.103 1434.58 Q140.181 1429.98 145.992 1429.98 Z\" fill=\"#f8f8f2\" fill-rule=\"nonzero\" fill-opacity=\"1\" /><path clip-path=\"url(#clip360)\" d=\"M51.9875 1106.42 L81.6633 1106.42 L81.6633 1110.36 L51.9875 1110.36 L51.9875 1106.42 Z\" fill=\"#f8f8f2\" fill-rule=\"nonzero\" fill-opacity=\"1\" /><path clip-path=\"url(#clip360)\" d=\"M101.756 1091.77 Q98.1447 1091.77 96.316 1095.34 Q94.5104 1098.88 94.5104 1106.01 Q94.5104 1113.11 96.316 1116.68 Q98.1447 1120.22 101.756 1120.22 Q105.39 1120.22 107.196 1116.68 Q109.024 1113.11 109.024 1106.01 Q109.024 1098.88 107.196 1095.34 Q105.39 1091.77 101.756 1091.77 M101.756 1088.07 Q107.566 1088.07 110.621 1092.67 Q113.7 1097.26 113.7 1106.01 Q113.7 1114.73 110.621 1119.34 Q107.566 1123.92 101.756 1123.92 Q95.9456 1123.92 92.8669 1119.34 Q89.8114 1114.73 89.8114 1106.01 Q89.8114 1097.26 92.8669 1092.67 Q95.9456 1088.07 101.756 1088.07 Z\" fill=\"#f8f8f2\" fill-rule=\"nonzero\" fill-opacity=\"1\" /><path clip-path=\"url(#clip360)\" d=\"M121.918 1117.37 L126.802 1117.37 L126.802 1123.25 L121.918 1123.25 L121.918 1117.37 Z\" fill=\"#f8f8f2\" fill-rule=\"nonzero\" fill-opacity=\"1\" /><path clip-path=\"url(#clip360)\" d=\"M137.033 1088.69 L155.39 1088.69 L155.39 1092.63 L141.316 1092.63 L141.316 1101.1 Q142.334 1100.75 143.353 1100.59 Q144.371 1100.41 145.39 1100.41 Q151.177 1100.41 154.556 1103.58 Q157.936 1106.75 157.936 1112.16 Q157.936 1117.74 154.464 1120.84 Q150.992 1123.92 144.672 1123.92 Q142.496 1123.92 140.228 1123.55 Q137.982 1123.18 135.575 1122.44 L135.575 1117.74 Q137.658 1118.88 139.881 1119.43 Q142.103 1119.99 144.58 1119.99 Q148.584 1119.99 150.922 1117.88 Q153.26 1115.78 153.26 1112.16 Q153.26 1108.55 150.922 1106.45 Q148.584 1104.34 144.58 1104.34 Q142.705 1104.34 140.83 1104.76 Q138.978 1105.17 137.033 1106.05 L137.033 1088.69 Z\" fill=\"#f8f8f2\" fill-rule=\"nonzero\" fill-opacity=\"1\" /><path clip-path=\"url(#clip360)\" d=\"M100.76 749.862 Q97.1493 749.862 95.3206 753.427 Q93.515 756.969 93.515 764.098 Q93.515 771.205 95.3206 774.77 Q97.1493 778.311 100.76 778.311 Q104.395 778.311 106.2 774.77 Q108.029 771.205 108.029 764.098 Q108.029 756.969 106.2 753.427 Q104.395 749.862 100.76 749.862 M100.76 746.159 Q106.571 746.159 109.626 750.765 Q112.705 755.348 112.705 764.098 Q112.705 772.825 109.626 777.432 Q106.571 782.015 100.76 782.015 Q94.9502 782.015 91.8715 777.432 Q88.816 772.825 88.816 764.098 Q88.816 755.348 91.8715 750.765 Q94.9502 746.159 100.76 746.159 Z\" fill=\"#f8f8f2\" fill-rule=\"nonzero\" fill-opacity=\"1\" /><path clip-path=\"url(#clip360)\" d=\"M120.922 775.464 L125.807 775.464 L125.807 781.344 L120.922 781.344 L120.922 775.464 Z\" fill=\"#f8f8f2\" fill-rule=\"nonzero\" fill-opacity=\"1\" /><path clip-path=\"url(#clip360)\" d=\"M145.992 749.862 Q142.381 749.862 140.552 753.427 Q138.746 756.969 138.746 764.098 Q138.746 771.205 140.552 774.77 Q142.381 778.311 145.992 778.311 Q149.626 778.311 151.431 774.77 Q153.26 771.205 153.26 764.098 Q153.26 756.969 151.431 753.427 Q149.626 749.862 145.992 749.862 M145.992 746.159 Q151.802 746.159 154.857 750.765 Q157.936 755.348 157.936 764.098 Q157.936 772.825 154.857 777.432 Q151.802 782.015 145.992 782.015 Q140.181 782.015 137.103 777.432 Q134.047 772.825 134.047 764.098 Q134.047 755.348 137.103 750.765 Q140.181 746.159 145.992 746.159 Z\" fill=\"#f8f8f2\" fill-rule=\"nonzero\" fill-opacity=\"1\" /><path clip-path=\"url(#clip360)\" d=\"M101.756 407.954 Q98.1447 407.954 96.316 411.518 Q94.5104 415.06 94.5104 422.19 Q94.5104 429.296 96.316 432.861 Q98.1447 436.402 101.756 436.402 Q105.39 436.402 107.196 432.861 Q109.024 429.296 109.024 422.19 Q109.024 415.06 107.196 411.518 Q105.39 407.954 101.756 407.954 M101.756 404.25 Q107.566 404.25 110.621 408.856 Q113.7 413.44 113.7 422.19 Q113.7 430.916 110.621 435.523 Q107.566 440.106 101.756 440.106 Q95.9456 440.106 92.8669 435.523 Q89.8114 430.916 89.8114 422.19 Q89.8114 413.44 92.8669 408.856 Q95.9456 404.25 101.756 404.25 Z\" fill=\"#f8f8f2\" fill-rule=\"nonzero\" fill-opacity=\"1\" /><path clip-path=\"url(#clip360)\" d=\"M121.918 433.555 L126.802 433.555 L126.802 439.435 L121.918 439.435 L121.918 433.555 Z\" fill=\"#f8f8f2\" fill-rule=\"nonzero\" fill-opacity=\"1\" /><path clip-path=\"url(#clip360)\" d=\"M137.033 404.875 L155.39 404.875 L155.39 408.81 L141.316 408.81 L141.316 417.282 Q142.334 416.935 143.353 416.773 Q144.371 416.588 145.39 416.588 Q151.177 416.588 154.556 419.759 Q157.936 422.93 157.936 428.347 Q157.936 433.926 154.464 437.027 Q150.992 440.106 144.672 440.106 Q142.496 440.106 140.228 439.736 Q137.982 439.365 135.575 438.625 L135.575 433.926 Q137.658 435.06 139.881 435.615 Q142.103 436.171 144.58 436.171 Q148.584 436.171 150.922 434.065 Q153.26 431.958 153.26 428.347 Q153.26 424.736 150.922 422.629 Q148.584 420.523 144.58 420.523 Q142.705 420.523 140.83 420.94 Q138.978 421.356 137.033 422.236 L137.033 404.875 Z\" fill=\"#f8f8f2\" fill-rule=\"nonzero\" fill-opacity=\"1\" /><path clip-path=\"url(#clip360)\" d=\"M91.5706 93.591 L99.2095 93.591 L99.2095 67.2254 L90.8993 68.892 L90.8993 64.6328 L99.1632 62.9661 L103.839 62.9661 L103.839 93.591 L111.478 93.591 L111.478 97.5261 L91.5706 97.5261 L91.5706 93.591 Z\" fill=\"#f8f8f2\" fill-rule=\"nonzero\" fill-opacity=\"1\" /><path clip-path=\"url(#clip360)\" d=\"M120.922 91.6465 L125.807 91.6465 L125.807 97.5261 L120.922 97.5261 L120.922 91.6465 Z\" fill=\"#f8f8f2\" fill-rule=\"nonzero\" fill-opacity=\"1\" /><path clip-path=\"url(#clip360)\" d=\"M145.992 66.0448 Q142.381 66.0448 140.552 69.6096 Q138.746 73.1512 138.746 80.2808 Q138.746 87.3873 140.552 90.9521 Q142.381 94.4937 145.992 94.4937 Q149.626 94.4937 151.431 90.9521 Q153.26 87.3873 153.26 80.2808 Q153.26 73.1512 151.431 69.6096 Q149.626 66.0448 145.992 66.0448 M145.992 62.3411 Q151.802 62.3411 154.857 66.9476 Q157.936 71.5309 157.936 80.2808 Q157.936 89.0076 154.857 93.6141 Q151.802 98.1974 145.992 98.1974 Q140.181 98.1974 137.103 93.6141 Q134.047 89.0076 134.047 80.2808 Q134.047 71.5309 137.103 66.9476 Q140.181 62.3411 145.992 62.3411 Z\" fill=\"#f8f8f2\" fill-rule=\"nonzero\" fill-opacity=\"1\" /><circle clip-path=\"url(#clip362)\" cx=\"255.035\" cy=\"394.595\" r=\"14.4\" fill=\"#8be9fd\" fill-rule=\"evenodd\" fill-opacity=\"1\" stroke=\"#f8f8f2\" stroke-opacity=\"1\" stroke-width=\"3.2\"/>\n",
       "<circle clip-path=\"url(#clip362)\" cx=\"481.326\" cy=\"863.559\" r=\"14.4\" fill=\"#8be9fd\" fill-rule=\"evenodd\" fill-opacity=\"1\" stroke=\"#f8f8f2\" stroke-opacity=\"1\" stroke-width=\"3.2\"/>\n",
       "<circle clip-path=\"url(#clip362)\" cx=\"707.617\" cy=\"963.833\" r=\"14.4\" fill=\"#8be9fd\" fill-rule=\"evenodd\" fill-opacity=\"1\" stroke=\"#f8f8f2\" stroke-opacity=\"1\" stroke-width=\"3.2\"/>\n",
       "<circle clip-path=\"url(#clip362)\" cx=\"933.909\" cy=\"496.105\" r=\"14.4\" fill=\"#8be9fd\" fill-rule=\"evenodd\" fill-opacity=\"1\" stroke=\"#f8f8f2\" stroke-opacity=\"1\" stroke-width=\"3.2\"/>\n",
       "<circle clip-path=\"url(#clip362)\" cx=\"1160.2\" cy=\"225.411\" r=\"14.4\" fill=\"#8be9fd\" fill-rule=\"evenodd\" fill-opacity=\"1\" stroke=\"#f8f8f2\" stroke-opacity=\"1\" stroke-width=\"3.2\"/>\n",
       "<circle clip-path=\"url(#clip362)\" cx=\"1386.49\" cy=\"1255.03\" r=\"14.4\" fill=\"#8be9fd\" fill-rule=\"evenodd\" fill-opacity=\"1\" stroke=\"#f8f8f2\" stroke-opacity=\"1\" stroke-width=\"3.2\"/>\n",
       "<circle clip-path=\"url(#clip362)\" cx=\"1612.78\" cy=\"1341.09\" r=\"14.4\" fill=\"#8be9fd\" fill-rule=\"evenodd\" fill-opacity=\"1\" stroke=\"#f8f8f2\" stroke-opacity=\"1\" stroke-width=\"3.2\"/>\n",
       "<circle clip-path=\"url(#clip362)\" cx=\"1839.07\" cy=\"1445.72\" r=\"14.4\" fill=\"#8be9fd\" fill-rule=\"evenodd\" fill-opacity=\"1\" stroke=\"#f8f8f2\" stroke-opacity=\"1\" stroke-width=\"3.2\"/>\n",
       "<circle clip-path=\"url(#clip362)\" cx=\"2065.37\" cy=\"87.9763\" r=\"14.4\" fill=\"#8be9fd\" fill-rule=\"evenodd\" fill-opacity=\"1\" stroke=\"#f8f8f2\" stroke-opacity=\"1\" stroke-width=\"3.2\"/>\n",
       "<circle clip-path=\"url(#clip362)\" cx=\"2291.66\" cy=\"379.499\" r=\"14.4\" fill=\"#8be9fd\" fill-rule=\"evenodd\" fill-opacity=\"1\" stroke=\"#f8f8f2\" stroke-opacity=\"1\" stroke-width=\"3.2\"/>\n",
       "</svg>\n"
      ],
      "text/html": [
       "<?xml version=\"1.0\" encoding=\"utf-8\"?>\n",
       "<svg xmlns=\"http://www.w3.org/2000/svg\" xmlns:xlink=\"http://www.w3.org/1999/xlink\" width=\"600\" height=\"400\" viewBox=\"0 0 2400 1600\">\n",
       "<defs>\n",
       "  <clipPath id=\"clip410\">\n",
       "    <rect x=\"0\" y=\"0\" width=\"2400\" height=\"1600\"/>\n",
       "  </clipPath>\n",
       "</defs>\n",
       "<path clip-path=\"url(#clip410)\" d=\"M0 1600 L2400 1600 L2400 0 L0 0  Z\" fill=\"#282a36\" fill-rule=\"evenodd\" fill-opacity=\"1\"/>\n",
       "<defs>\n",
       "  <clipPath id=\"clip411\">\n",
       "    <rect x=\"480\" y=\"0\" width=\"1681\" height=\"1600\"/>\n",
       "  </clipPath>\n",
       "</defs>\n",
       "<path clip-path=\"url(#clip410)\" d=\"M193.936 1486.45 L2352.76 1486.45 L2352.76 47.2441 L193.936 47.2441  Z\" fill=\"#30343b\" fill-rule=\"evenodd\" fill-opacity=\"1\"/>\n",
       "<defs>\n",
       "  <clipPath id=\"clip412\">\n",
       "    <rect x=\"193\" y=\"47\" width=\"2160\" height=\"1440\"/>\n",
       "  </clipPath>\n",
       "</defs>\n",
       "<polyline clip-path=\"url(#clip412)\" style=\"stroke:#f8f8f2; stroke-linecap:round; stroke-linejoin:round; stroke-width:2; stroke-opacity:0.1; fill:none\" points=\"481.326,1486.45 481.326,47.2441 \"/>\n",
       "<polyline clip-path=\"url(#clip412)\" style=\"stroke:#f8f8f2; stroke-linecap:round; stroke-linejoin:round; stroke-width:2; stroke-opacity:0.1; fill:none\" points=\"933.909,1486.45 933.909,47.2441 \"/>\n",
       "<polyline clip-path=\"url(#clip412)\" style=\"stroke:#f8f8f2; stroke-linecap:round; stroke-linejoin:round; stroke-width:2; stroke-opacity:0.1; fill:none\" points=\"1386.49,1486.45 1386.49,47.2441 \"/>\n",
       "<polyline clip-path=\"url(#clip412)\" style=\"stroke:#f8f8f2; stroke-linecap:round; stroke-linejoin:round; stroke-width:2; stroke-opacity:0.1; fill:none\" points=\"1839.07,1486.45 1839.07,47.2441 \"/>\n",
       "<polyline clip-path=\"url(#clip412)\" style=\"stroke:#f8f8f2; stroke-linecap:round; stroke-linejoin:round; stroke-width:2; stroke-opacity:0.1; fill:none\" points=\"2291.66,1486.45 2291.66,47.2441 \"/>\n",
       "<polyline clip-path=\"url(#clip412)\" style=\"stroke:#f8f8f2; stroke-linecap:round; stroke-linejoin:round; stroke-width:2; stroke-opacity:0.1; fill:none\" points=\"193.936,1447.88 2352.76,1447.88 \"/>\n",
       "<polyline clip-path=\"url(#clip412)\" style=\"stroke:#f8f8f2; stroke-linecap:round; stroke-linejoin:round; stroke-width:2; stroke-opacity:0.1; fill:none\" points=\"193.936,1105.97 2352.76,1105.97 \"/>\n",
       "<polyline clip-path=\"url(#clip412)\" style=\"stroke:#f8f8f2; stroke-linecap:round; stroke-linejoin:round; stroke-width:2; stroke-opacity:0.1; fill:none\" points=\"193.936,764.064 2352.76,764.064 \"/>\n",
       "<polyline clip-path=\"url(#clip412)\" style=\"stroke:#f8f8f2; stroke-linecap:round; stroke-linejoin:round; stroke-width:2; stroke-opacity:0.1; fill:none\" points=\"193.936,422.155 2352.76,422.155 \"/>\n",
       "<polyline clip-path=\"url(#clip412)\" style=\"stroke:#f8f8f2; stroke-linecap:round; stroke-linejoin:round; stroke-width:2; stroke-opacity:0.1; fill:none\" points=\"193.936,80.2461 2352.76,80.2461 \"/>\n",
       "<polyline clip-path=\"url(#clip410)\" style=\"stroke:#f8f8f2; stroke-linecap:round; stroke-linejoin:round; stroke-width:4; stroke-opacity:1; fill:none\" points=\"193.936,1486.45 2352.76,1486.45 \"/>\n",
       "<polyline clip-path=\"url(#clip410)\" style=\"stroke:#f8f8f2; stroke-linecap:round; stroke-linejoin:round; stroke-width:4; stroke-opacity:1; fill:none\" points=\"481.326,1486.45 481.326,1467.55 \"/>\n",
       "<polyline clip-path=\"url(#clip410)\" style=\"stroke:#f8f8f2; stroke-linecap:round; stroke-linejoin:round; stroke-width:4; stroke-opacity:1; fill:none\" points=\"933.909,1486.45 933.909,1467.55 \"/>\n",
       "<polyline clip-path=\"url(#clip410)\" style=\"stroke:#f8f8f2; stroke-linecap:round; stroke-linejoin:round; stroke-width:4; stroke-opacity:1; fill:none\" points=\"1386.49,1486.45 1386.49,1467.55 \"/>\n",
       "<polyline clip-path=\"url(#clip410)\" style=\"stroke:#f8f8f2; stroke-linecap:round; stroke-linejoin:round; stroke-width:4; stroke-opacity:1; fill:none\" points=\"1839.07,1486.45 1839.07,1467.55 \"/>\n",
       "<polyline clip-path=\"url(#clip410)\" style=\"stroke:#f8f8f2; stroke-linecap:round; stroke-linejoin:round; stroke-width:4; stroke-opacity:1; fill:none\" points=\"2291.66,1486.45 2291.66,1467.55 \"/>\n",
       "<path clip-path=\"url(#clip410)\" d=\"M475.979 1544.91 L492.298 1544.91 L492.298 1548.85 L470.354 1548.85 L470.354 1544.91 Q473.016 1542.16 477.599 1537.53 Q482.206 1532.88 483.386 1531.53 Q485.632 1529.01 486.511 1527.27 Q487.414 1525.51 487.414 1523.82 Q487.414 1521.07 485.47 1519.33 Q483.548 1517.6 480.446 1517.6 Q478.247 1517.6 475.794 1518.36 Q473.363 1519.13 470.585 1520.68 L470.585 1515.95 Q473.409 1514.82 475.863 1514.24 Q478.317 1513.66 480.354 1513.66 Q485.724 1513.66 488.919 1516.35 Q492.113 1519.03 492.113 1523.52 Q492.113 1525.65 491.303 1527.57 Q490.516 1529.47 488.409 1532.07 Q487.831 1532.74 484.729 1535.95 Q481.627 1539.15 475.979 1544.91 Z\" fill=\"#f8f8f2\" fill-rule=\"nonzero\" fill-opacity=\"1\" /><path clip-path=\"url(#clip410)\" d=\"M936.918 1518.36 L925.113 1536.81 L936.918 1536.81 L936.918 1518.36 M935.691 1514.29 L941.571 1514.29 L941.571 1536.81 L946.501 1536.81 L946.501 1540.7 L941.571 1540.7 L941.571 1548.85 L936.918 1548.85 L936.918 1540.7 L921.316 1540.7 L921.316 1536.19 L935.691 1514.29 Z\" fill=\"#f8f8f2\" fill-rule=\"nonzero\" fill-opacity=\"1\" /><path clip-path=\"url(#clip410)\" d=\"M1386.9 1529.7 Q1383.75 1529.7 1381.9 1531.86 Q1380.07 1534.01 1380.07 1537.76 Q1380.07 1541.49 1381.9 1543.66 Q1383.75 1545.82 1386.9 1545.82 Q1390.04 1545.82 1391.87 1543.66 Q1393.73 1541.49 1393.73 1537.76 Q1393.73 1534.01 1391.87 1531.86 Q1390.04 1529.7 1386.9 1529.7 M1396.18 1515.05 L1396.18 1519.31 Q1394.42 1518.48 1392.61 1518.04 Q1390.83 1517.6 1389.07 1517.6 Q1384.44 1517.6 1381.99 1520.72 Q1379.56 1523.85 1379.21 1530.17 Q1380.58 1528.15 1382.64 1527.09 Q1384.7 1526 1387.17 1526 Q1392.38 1526 1395.39 1529.17 Q1398.42 1532.32 1398.42 1537.76 Q1398.42 1543.08 1395.28 1546.3 Q1392.13 1549.52 1386.9 1549.52 Q1380.9 1549.52 1377.73 1544.94 Q1374.56 1540.33 1374.56 1531.6 Q1374.56 1523.41 1378.45 1518.55 Q1382.34 1513.66 1388.89 1513.66 Q1390.65 1513.66 1392.43 1514.01 Q1394.23 1514.36 1396.18 1515.05 Z\" fill=\"#f8f8f2\" fill-rule=\"nonzero\" fill-opacity=\"1\" /><path clip-path=\"url(#clip410)\" d=\"M1839.07 1532.44 Q1835.74 1532.44 1833.82 1534.22 Q1831.92 1536 1831.92 1539.13 Q1831.92 1542.25 1833.82 1544.03 Q1835.74 1545.82 1839.07 1545.82 Q1842.41 1545.82 1844.33 1544.03 Q1846.25 1542.23 1846.25 1539.13 Q1846.25 1536 1844.33 1534.22 Q1842.43 1532.44 1839.07 1532.44 M1834.4 1530.45 Q1831.39 1529.7 1829.7 1527.64 Q1828.03 1525.58 1828.03 1522.62 Q1828.03 1518.48 1830.97 1516.07 Q1833.94 1513.66 1839.07 1513.66 Q1844.24 1513.66 1847.18 1516.07 Q1850.12 1518.48 1850.12 1522.62 Q1850.12 1525.58 1848.43 1527.64 Q1846.76 1529.7 1843.77 1530.45 Q1847.15 1531.23 1849.03 1533.52 Q1850.93 1535.82 1850.93 1539.13 Q1850.93 1544.15 1847.85 1546.83 Q1844.79 1549.52 1839.07 1549.52 Q1833.36 1549.52 1830.28 1546.83 Q1827.22 1544.15 1827.22 1539.13 Q1827.22 1535.82 1829.12 1533.52 Q1831.02 1531.23 1834.4 1530.45 M1832.69 1523.06 Q1832.69 1525.75 1834.35 1527.25 Q1836.04 1528.76 1839.07 1528.76 Q1842.08 1528.76 1843.77 1527.25 Q1845.49 1525.75 1845.49 1523.06 Q1845.49 1520.38 1843.77 1518.87 Q1842.08 1517.37 1839.07 1517.37 Q1836.04 1517.37 1834.35 1518.87 Q1832.69 1520.38 1832.69 1523.06 Z\" fill=\"#f8f8f2\" fill-rule=\"nonzero\" fill-opacity=\"1\" /><path clip-path=\"url(#clip410)\" d=\"M2266.34 1544.91 L2273.98 1544.91 L2273.98 1518.55 L2265.67 1520.21 L2265.67 1515.95 L2273.94 1514.29 L2278.61 1514.29 L2278.61 1544.91 L2286.25 1544.91 L2286.25 1548.85 L2266.34 1548.85 L2266.34 1544.91 Z\" fill=\"#f8f8f2\" fill-rule=\"nonzero\" fill-opacity=\"1\" /><path clip-path=\"url(#clip410)\" d=\"M2305.7 1517.37 Q2302.09 1517.37 2300.26 1520.93 Q2298.45 1524.47 2298.45 1531.6 Q2298.45 1538.71 2300.26 1542.27 Q2302.09 1545.82 2305.7 1545.82 Q2309.33 1545.82 2311.14 1542.27 Q2312.96 1538.71 2312.96 1531.6 Q2312.96 1524.47 2311.14 1520.93 Q2309.33 1517.37 2305.7 1517.37 M2305.7 1513.66 Q2311.51 1513.66 2314.56 1518.27 Q2317.64 1522.85 2317.64 1531.6 Q2317.64 1540.33 2314.56 1544.94 Q2311.51 1549.52 2305.7 1549.52 Q2299.89 1549.52 2296.81 1544.94 Q2293.75 1540.33 2293.75 1531.6 Q2293.75 1522.85 2296.81 1518.27 Q2299.89 1513.66 2305.7 1513.66 Z\" fill=\"#f8f8f2\" fill-rule=\"nonzero\" fill-opacity=\"1\" /><polyline clip-path=\"url(#clip410)\" style=\"stroke:#f8f8f2; stroke-linecap:round; stroke-linejoin:round; stroke-width:4; stroke-opacity:1; fill:none\" points=\"193.936,1486.45 193.936,47.2441 \"/>\n",
       "<polyline clip-path=\"url(#clip410)\" style=\"stroke:#f8f8f2; stroke-linecap:round; stroke-linejoin:round; stroke-width:4; stroke-opacity:1; fill:none\" points=\"193.936,1447.88 212.834,1447.88 \"/>\n",
       "<polyline clip-path=\"url(#clip410)\" style=\"stroke:#f8f8f2; stroke-linecap:round; stroke-linejoin:round; stroke-width:4; stroke-opacity:1; fill:none\" points=\"193.936,1105.97 212.834,1105.97 \"/>\n",
       "<polyline clip-path=\"url(#clip410)\" style=\"stroke:#f8f8f2; stroke-linecap:round; stroke-linejoin:round; stroke-width:4; stroke-opacity:1; fill:none\" points=\"193.936,764.064 212.834,764.064 \"/>\n",
       "<polyline clip-path=\"url(#clip410)\" style=\"stroke:#f8f8f2; stroke-linecap:round; stroke-linejoin:round; stroke-width:4; stroke-opacity:1; fill:none\" points=\"193.936,422.155 212.834,422.155 \"/>\n",
       "<polyline clip-path=\"url(#clip410)\" style=\"stroke:#f8f8f2; stroke-linecap:round; stroke-linejoin:round; stroke-width:4; stroke-opacity:1; fill:none\" points=\"193.936,80.2461 212.834,80.2461 \"/>\n",
       "<path clip-path=\"url(#clip410)\" d=\"M50.9921 1448.33 L80.6679 1448.33 L80.6679 1452.27 L50.9921 1452.27 L50.9921 1448.33 Z\" fill=\"#f8f8f2\" fill-rule=\"nonzero\" fill-opacity=\"1\" /><path clip-path=\"url(#clip410)\" d=\"M91.5706 1461.23 L99.2095 1461.23 L99.2095 1434.86 L90.8993 1436.53 L90.8993 1432.27 L99.1632 1430.6 L103.839 1430.6 L103.839 1461.23 L111.478 1461.23 L111.478 1465.16 L91.5706 1465.16 L91.5706 1461.23 Z\" fill=\"#f8f8f2\" fill-rule=\"nonzero\" fill-opacity=\"1\" /><path clip-path=\"url(#clip410)\" d=\"M120.922 1459.28 L125.807 1459.28 L125.807 1465.16 L120.922 1465.16 L120.922 1459.28 Z\" fill=\"#f8f8f2\" fill-rule=\"nonzero\" fill-opacity=\"1\" /><path clip-path=\"url(#clip410)\" d=\"M145.992 1433.68 Q142.381 1433.68 140.552 1437.24 Q138.746 1440.79 138.746 1447.92 Q138.746 1455.02 140.552 1458.59 Q142.381 1462.13 145.992 1462.13 Q149.626 1462.13 151.431 1458.59 Q153.26 1455.02 153.26 1447.92 Q153.26 1440.79 151.431 1437.24 Q149.626 1433.68 145.992 1433.68 M145.992 1429.98 Q151.802 1429.98 154.857 1434.58 Q157.936 1439.17 157.936 1447.92 Q157.936 1456.64 154.857 1461.25 Q151.802 1465.83 145.992 1465.83 Q140.181 1465.83 137.103 1461.25 Q134.047 1456.64 134.047 1447.92 Q134.047 1439.17 137.103 1434.58 Q140.181 1429.98 145.992 1429.98 Z\" fill=\"#f8f8f2\" fill-rule=\"nonzero\" fill-opacity=\"1\" /><path clip-path=\"url(#clip410)\" d=\"M51.9875 1106.42 L81.6633 1106.42 L81.6633 1110.36 L51.9875 1110.36 L51.9875 1106.42 Z\" fill=\"#f8f8f2\" fill-rule=\"nonzero\" fill-opacity=\"1\" /><path clip-path=\"url(#clip410)\" d=\"M101.756 1091.77 Q98.1447 1091.77 96.316 1095.34 Q94.5104 1098.88 94.5104 1106.01 Q94.5104 1113.11 96.316 1116.68 Q98.1447 1120.22 101.756 1120.22 Q105.39 1120.22 107.196 1116.68 Q109.024 1113.11 109.024 1106.01 Q109.024 1098.88 107.196 1095.34 Q105.39 1091.77 101.756 1091.77 M101.756 1088.07 Q107.566 1088.07 110.621 1092.67 Q113.7 1097.26 113.7 1106.01 Q113.7 1114.73 110.621 1119.34 Q107.566 1123.92 101.756 1123.92 Q95.9456 1123.92 92.8669 1119.34 Q89.8114 1114.73 89.8114 1106.01 Q89.8114 1097.26 92.8669 1092.67 Q95.9456 1088.07 101.756 1088.07 Z\" fill=\"#f8f8f2\" fill-rule=\"nonzero\" fill-opacity=\"1\" /><path clip-path=\"url(#clip410)\" d=\"M121.918 1117.37 L126.802 1117.37 L126.802 1123.25 L121.918 1123.25 L121.918 1117.37 Z\" fill=\"#f8f8f2\" fill-rule=\"nonzero\" fill-opacity=\"1\" /><path clip-path=\"url(#clip410)\" d=\"M137.033 1088.69 L155.39 1088.69 L155.39 1092.63 L141.316 1092.63 L141.316 1101.1 Q142.334 1100.75 143.353 1100.59 Q144.371 1100.41 145.39 1100.41 Q151.177 1100.41 154.556 1103.58 Q157.936 1106.75 157.936 1112.16 Q157.936 1117.74 154.464 1120.84 Q150.992 1123.92 144.672 1123.92 Q142.496 1123.92 140.228 1123.55 Q137.982 1123.18 135.575 1122.44 L135.575 1117.74 Q137.658 1118.88 139.881 1119.43 Q142.103 1119.99 144.58 1119.99 Q148.584 1119.99 150.922 1117.88 Q153.26 1115.78 153.26 1112.16 Q153.26 1108.55 150.922 1106.45 Q148.584 1104.34 144.58 1104.34 Q142.705 1104.34 140.83 1104.76 Q138.978 1105.17 137.033 1106.05 L137.033 1088.69 Z\" fill=\"#f8f8f2\" fill-rule=\"nonzero\" fill-opacity=\"1\" /><path clip-path=\"url(#clip410)\" d=\"M100.76 749.862 Q97.1493 749.862 95.3206 753.427 Q93.515 756.969 93.515 764.098 Q93.515 771.205 95.3206 774.77 Q97.1493 778.311 100.76 778.311 Q104.395 778.311 106.2 774.77 Q108.029 771.205 108.029 764.098 Q108.029 756.969 106.2 753.427 Q104.395 749.862 100.76 749.862 M100.76 746.159 Q106.571 746.159 109.626 750.765 Q112.705 755.348 112.705 764.098 Q112.705 772.825 109.626 777.432 Q106.571 782.015 100.76 782.015 Q94.9502 782.015 91.8715 777.432 Q88.816 772.825 88.816 764.098 Q88.816 755.348 91.8715 750.765 Q94.9502 746.159 100.76 746.159 Z\" fill=\"#f8f8f2\" fill-rule=\"nonzero\" fill-opacity=\"1\" /><path clip-path=\"url(#clip410)\" d=\"M120.922 775.464 L125.807 775.464 L125.807 781.344 L120.922 781.344 L120.922 775.464 Z\" fill=\"#f8f8f2\" fill-rule=\"nonzero\" fill-opacity=\"1\" /><path clip-path=\"url(#clip410)\" d=\"M145.992 749.862 Q142.381 749.862 140.552 753.427 Q138.746 756.969 138.746 764.098 Q138.746 771.205 140.552 774.77 Q142.381 778.311 145.992 778.311 Q149.626 778.311 151.431 774.77 Q153.26 771.205 153.26 764.098 Q153.26 756.969 151.431 753.427 Q149.626 749.862 145.992 749.862 M145.992 746.159 Q151.802 746.159 154.857 750.765 Q157.936 755.348 157.936 764.098 Q157.936 772.825 154.857 777.432 Q151.802 782.015 145.992 782.015 Q140.181 782.015 137.103 777.432 Q134.047 772.825 134.047 764.098 Q134.047 755.348 137.103 750.765 Q140.181 746.159 145.992 746.159 Z\" fill=\"#f8f8f2\" fill-rule=\"nonzero\" fill-opacity=\"1\" /><path clip-path=\"url(#clip410)\" d=\"M101.756 407.954 Q98.1447 407.954 96.316 411.518 Q94.5104 415.06 94.5104 422.19 Q94.5104 429.296 96.316 432.861 Q98.1447 436.402 101.756 436.402 Q105.39 436.402 107.196 432.861 Q109.024 429.296 109.024 422.19 Q109.024 415.06 107.196 411.518 Q105.39 407.954 101.756 407.954 M101.756 404.25 Q107.566 404.25 110.621 408.856 Q113.7 413.44 113.7 422.19 Q113.7 430.916 110.621 435.523 Q107.566 440.106 101.756 440.106 Q95.9456 440.106 92.8669 435.523 Q89.8114 430.916 89.8114 422.19 Q89.8114 413.44 92.8669 408.856 Q95.9456 404.25 101.756 404.25 Z\" fill=\"#f8f8f2\" fill-rule=\"nonzero\" fill-opacity=\"1\" /><path clip-path=\"url(#clip410)\" d=\"M121.918 433.555 L126.802 433.555 L126.802 439.435 L121.918 439.435 L121.918 433.555 Z\" fill=\"#f8f8f2\" fill-rule=\"nonzero\" fill-opacity=\"1\" /><path clip-path=\"url(#clip410)\" d=\"M137.033 404.875 L155.39 404.875 L155.39 408.81 L141.316 408.81 L141.316 417.282 Q142.334 416.935 143.353 416.773 Q144.371 416.588 145.39 416.588 Q151.177 416.588 154.556 419.759 Q157.936 422.93 157.936 428.347 Q157.936 433.926 154.464 437.027 Q150.992 440.106 144.672 440.106 Q142.496 440.106 140.228 439.736 Q137.982 439.365 135.575 438.625 L135.575 433.926 Q137.658 435.06 139.881 435.615 Q142.103 436.171 144.58 436.171 Q148.584 436.171 150.922 434.065 Q153.26 431.958 153.26 428.347 Q153.26 424.736 150.922 422.629 Q148.584 420.523 144.58 420.523 Q142.705 420.523 140.83 420.94 Q138.978 421.356 137.033 422.236 L137.033 404.875 Z\" fill=\"#f8f8f2\" fill-rule=\"nonzero\" fill-opacity=\"1\" /><path clip-path=\"url(#clip410)\" d=\"M91.5706 93.591 L99.2095 93.591 L99.2095 67.2254 L90.8993 68.892 L90.8993 64.6328 L99.1632 62.9661 L103.839 62.9661 L103.839 93.591 L111.478 93.591 L111.478 97.5261 L91.5706 97.5261 L91.5706 93.591 Z\" fill=\"#f8f8f2\" fill-rule=\"nonzero\" fill-opacity=\"1\" /><path clip-path=\"url(#clip410)\" d=\"M120.922 91.6465 L125.807 91.6465 L125.807 97.5261 L120.922 97.5261 L120.922 91.6465 Z\" fill=\"#f8f8f2\" fill-rule=\"nonzero\" fill-opacity=\"1\" /><path clip-path=\"url(#clip410)\" d=\"M145.992 66.0448 Q142.381 66.0448 140.552 69.6096 Q138.746 73.1512 138.746 80.2808 Q138.746 87.3873 140.552 90.9521 Q142.381 94.4937 145.992 94.4937 Q149.626 94.4937 151.431 90.9521 Q153.26 87.3873 153.26 80.2808 Q153.26 73.1512 151.431 69.6096 Q149.626 66.0448 145.992 66.0448 M145.992 62.3411 Q151.802 62.3411 154.857 66.9476 Q157.936 71.5309 157.936 80.2808 Q157.936 89.0076 154.857 93.6141 Q151.802 98.1974 145.992 98.1974 Q140.181 98.1974 137.103 93.6141 Q134.047 89.0076 134.047 80.2808 Q134.047 71.5309 137.103 66.9476 Q140.181 62.3411 145.992 62.3411 Z\" fill=\"#f8f8f2\" fill-rule=\"nonzero\" fill-opacity=\"1\" /><circle clip-path=\"url(#clip412)\" cx=\"255.035\" cy=\"394.595\" r=\"14.4\" fill=\"#8be9fd\" fill-rule=\"evenodd\" fill-opacity=\"1\" stroke=\"#f8f8f2\" stroke-opacity=\"1\" stroke-width=\"3.2\"/>\n",
       "<circle clip-path=\"url(#clip412)\" cx=\"481.326\" cy=\"863.559\" r=\"14.4\" fill=\"#8be9fd\" fill-rule=\"evenodd\" fill-opacity=\"1\" stroke=\"#f8f8f2\" stroke-opacity=\"1\" stroke-width=\"3.2\"/>\n",
       "<circle clip-path=\"url(#clip412)\" cx=\"707.617\" cy=\"963.833\" r=\"14.4\" fill=\"#8be9fd\" fill-rule=\"evenodd\" fill-opacity=\"1\" stroke=\"#f8f8f2\" stroke-opacity=\"1\" stroke-width=\"3.2\"/>\n",
       "<circle clip-path=\"url(#clip412)\" cx=\"933.909\" cy=\"496.105\" r=\"14.4\" fill=\"#8be9fd\" fill-rule=\"evenodd\" fill-opacity=\"1\" stroke=\"#f8f8f2\" stroke-opacity=\"1\" stroke-width=\"3.2\"/>\n",
       "<circle clip-path=\"url(#clip412)\" cx=\"1160.2\" cy=\"225.411\" r=\"14.4\" fill=\"#8be9fd\" fill-rule=\"evenodd\" fill-opacity=\"1\" stroke=\"#f8f8f2\" stroke-opacity=\"1\" stroke-width=\"3.2\"/>\n",
       "<circle clip-path=\"url(#clip412)\" cx=\"1386.49\" cy=\"1255.03\" r=\"14.4\" fill=\"#8be9fd\" fill-rule=\"evenodd\" fill-opacity=\"1\" stroke=\"#f8f8f2\" stroke-opacity=\"1\" stroke-width=\"3.2\"/>\n",
       "<circle clip-path=\"url(#clip412)\" cx=\"1612.78\" cy=\"1341.09\" r=\"14.4\" fill=\"#8be9fd\" fill-rule=\"evenodd\" fill-opacity=\"1\" stroke=\"#f8f8f2\" stroke-opacity=\"1\" stroke-width=\"3.2\"/>\n",
       "<circle clip-path=\"url(#clip412)\" cx=\"1839.07\" cy=\"1445.72\" r=\"14.4\" fill=\"#8be9fd\" fill-rule=\"evenodd\" fill-opacity=\"1\" stroke=\"#f8f8f2\" stroke-opacity=\"1\" stroke-width=\"3.2\"/>\n",
       "<circle clip-path=\"url(#clip412)\" cx=\"2065.37\" cy=\"87.9763\" r=\"14.4\" fill=\"#8be9fd\" fill-rule=\"evenodd\" fill-opacity=\"1\" stroke=\"#f8f8f2\" stroke-opacity=\"1\" stroke-width=\"3.2\"/>\n",
       "<circle clip-path=\"url(#clip412)\" cx=\"2291.66\" cy=\"379.499\" r=\"14.4\" fill=\"#8be9fd\" fill-rule=\"evenodd\" fill-opacity=\"1\" stroke=\"#f8f8f2\" stroke-opacity=\"1\" stroke-width=\"3.2\"/>\n",
       "</svg>\n"
      ]
     },
     "execution_count": 84,
     "metadata": {},
     "output_type": "execute_result"
    }
   ],
   "source": [
    "x = range(1, 10)\n",
    "y = cos.(x.^3)\n",
    "scatter(x, y, legend=false)"
   ]
  },
  {
   "cell_type": "code",
   "execution_count": 85,
   "metadata": {},
   "outputs": [
    {
     "data": {
      "text/latex": [
       "\\textbf{Uniform Distribtion}\n",
       "\n"
      ],
      "text/markdown": [
       "**Uniform Distribtion**\n"
      ],
      "text/plain": [
       "  \u001b[1mUniform Distribtion\u001b[22m"
      ]
     },
     "execution_count": 85,
     "metadata": {},
     "output_type": "execute_result"
    }
   ],
   "source": [
    "md\"**Uniform Distribtion**\""
   ]
  },
  {
   "cell_type": "code",
   "execution_count": 86,
   "metadata": {},
   "outputs": [],
   "source": [
    "?rand;"
   ]
  },
  {
   "cell_type": "code",
   "execution_count": 87,
   "metadata": {},
   "outputs": [
    {
     "data": {
      "image/png": "[encoded data removed]",
      "image/svg+xml": [
       "<?xml version=\"1.0\" encoding=\"utf-8\"?>\n",
       "<svg xmlns=\"http://www.w3.org/2000/svg\" xmlns:xlink=\"http://www.w3.org/1999/xlink\" width=\"600\" height=\"400\" viewBox=\"0 0 2400 1600\">\n",
       "<defs>\n",
       "  <clipPath id=\"clip450\">\n",
       "    <rect x=\"0\" y=\"0\" width=\"2400\" height=\"1600\"/>\n",
       "  </clipPath>\n",
       "</defs>\n",
       "<path clip-path=\"url(#clip450)\" d=\"M0 1600 L2400 1600 L2400 0 L0 0  Z\" fill=\"#282a36\" fill-rule=\"evenodd\" fill-opacity=\"1\"/>\n",
       "<defs>\n",
       "  <clipPath id=\"clip451\">\n",
       "    <rect x=\"480\" y=\"0\" width=\"1681\" height=\"1600\"/>\n",
       "  </clipPath>\n",
       "</defs>\n",
       "<path clip-path=\"url(#clip450)\" d=\"M201.019 1486.45 L2352.76 1486.45 L2352.76 47.2441 L201.019 47.2441  Z\" fill=\"#30343b\" fill-rule=\"evenodd\" fill-opacity=\"1\"/>\n",
       "<defs>\n",
       "  <clipPath id=\"clip452\">\n",
       "    <rect x=\"201\" y=\"47\" width=\"2153\" height=\"1440\"/>\n",
       "  </clipPath>\n",
       "</defs>\n",
       "<polyline clip-path=\"url(#clip452)\" style=\"stroke:#f8f8f2; stroke-linecap:round; stroke-linejoin:round; stroke-width:2; stroke-opacity:0.1; fill:none\" points=\"319.369,1486.45 319.369,47.2441 \"/>\n",
       "<polyline clip-path=\"url(#clip452)\" style=\"stroke:#f8f8f2; stroke-linecap:round; stroke-linejoin:round; stroke-width:2; stroke-opacity:0.1; fill:none\" points=\"798.128,1486.45 798.128,47.2441 \"/>\n",
       "<polyline clip-path=\"url(#clip452)\" style=\"stroke:#f8f8f2; stroke-linecap:round; stroke-linejoin:round; stroke-width:2; stroke-opacity:0.1; fill:none\" points=\"1276.89,1486.45 1276.89,47.2441 \"/>\n",
       "<polyline clip-path=\"url(#clip452)\" style=\"stroke:#f8f8f2; stroke-linecap:round; stroke-linejoin:round; stroke-width:2; stroke-opacity:0.1; fill:none\" points=\"1755.65,1486.45 1755.65,47.2441 \"/>\n",
       "<polyline clip-path=\"url(#clip452)\" style=\"stroke:#f8f8f2; stroke-linecap:round; stroke-linejoin:round; stroke-width:2; stroke-opacity:0.1; fill:none\" points=\"2234.41,1486.45 2234.41,47.2441 \"/>\n",
       "<polyline clip-path=\"url(#clip452)\" style=\"stroke:#f8f8f2; stroke-linecap:round; stroke-linejoin:round; stroke-width:2; stroke-opacity:0.1; fill:none\" points=\"201.019,1486.45 2352.76,1486.45 \"/>\n",
       "<polyline clip-path=\"url(#clip452)\" style=\"stroke:#f8f8f2; stroke-linecap:round; stroke-linejoin:round; stroke-width:2; stroke-opacity:0.1; fill:none\" points=\"201.019,1148.29 2352.76,1148.29 \"/>\n",
       "<polyline clip-path=\"url(#clip452)\" style=\"stroke:#f8f8f2; stroke-linecap:round; stroke-linejoin:round; stroke-width:2; stroke-opacity:0.1; fill:none\" points=\"201.019,810.13 2352.76,810.13 \"/>\n",
       "<polyline clip-path=\"url(#clip452)\" style=\"stroke:#f8f8f2; stroke-linecap:round; stroke-linejoin:round; stroke-width:2; stroke-opacity:0.1; fill:none\" points=\"201.019,471.972 2352.76,471.972 \"/>\n",
       "<polyline clip-path=\"url(#clip452)\" style=\"stroke:#f8f8f2; stroke-linecap:round; stroke-linejoin:round; stroke-width:2; stroke-opacity:0.1; fill:none\" points=\"201.019,133.813 2352.76,133.813 \"/>\n",
       "<polyline clip-path=\"url(#clip450)\" style=\"stroke:#f8f8f2; stroke-linecap:round; stroke-linejoin:round; stroke-width:4; stroke-opacity:1; fill:none\" points=\"201.019,1486.45 2352.76,1486.45 \"/>\n",
       "<polyline clip-path=\"url(#clip450)\" style=\"stroke:#f8f8f2; stroke-linecap:round; stroke-linejoin:round; stroke-width:4; stroke-opacity:1; fill:none\" points=\"319.369,1486.45 319.369,1467.55 \"/>\n",
       "<polyline clip-path=\"url(#clip450)\" style=\"stroke:#f8f8f2; stroke-linecap:round; stroke-linejoin:round; stroke-width:4; stroke-opacity:1; fill:none\" points=\"798.128,1486.45 798.128,1467.55 \"/>\n",
       "<polyline clip-path=\"url(#clip450)\" style=\"stroke:#f8f8f2; stroke-linecap:round; stroke-linejoin:round; stroke-width:4; stroke-opacity:1; fill:none\" points=\"1276.89,1486.45 1276.89,1467.55 \"/>\n",
       "<polyline clip-path=\"url(#clip450)\" style=\"stroke:#f8f8f2; stroke-linecap:round; stroke-linejoin:round; stroke-width:4; stroke-opacity:1; fill:none\" points=\"1755.65,1486.45 1755.65,1467.55 \"/>\n",
       "<polyline clip-path=\"url(#clip450)\" style=\"stroke:#f8f8f2; stroke-linecap:round; stroke-linejoin:round; stroke-width:4; stroke-opacity:1; fill:none\" points=\"2234.41,1486.45 2234.41,1467.55 \"/>\n",
       "<path clip-path=\"url(#clip450)\" d=\"M281.672 1517.37 Q278.061 1517.37 276.232 1520.93 Q274.427 1524.47 274.427 1531.6 Q274.427 1538.71 276.232 1542.27 Q278.061 1545.82 281.672 1545.82 Q285.306 1545.82 287.112 1542.27 Q288.941 1538.71 288.941 1531.6 Q288.941 1524.47 287.112 1520.93 Q285.306 1517.37 281.672 1517.37 M281.672 1513.66 Q287.482 1513.66 290.538 1518.27 Q293.616 1522.85 293.616 1531.6 Q293.616 1540.33 290.538 1544.94 Q287.482 1549.52 281.672 1549.52 Q275.862 1549.52 272.783 1544.94 Q269.728 1540.33 269.728 1531.6 Q269.728 1522.85 272.783 1518.27 Q275.862 1513.66 281.672 1513.66 Z\" fill=\"#f8f8f2\" fill-rule=\"nonzero\" fill-opacity=\"1\" /><path clip-path=\"url(#clip450)\" d=\"M301.834 1542.97 L306.718 1542.97 L306.718 1548.85 L301.834 1548.85 L301.834 1542.97 Z\" fill=\"#f8f8f2\" fill-rule=\"nonzero\" fill-opacity=\"1\" /><path clip-path=\"url(#clip450)\" d=\"M326.903 1517.37 Q323.292 1517.37 321.464 1520.93 Q319.658 1524.47 319.658 1531.6 Q319.658 1538.71 321.464 1542.27 Q323.292 1545.82 326.903 1545.82 Q330.538 1545.82 332.343 1542.27 Q334.172 1538.71 334.172 1531.6 Q334.172 1524.47 332.343 1520.93 Q330.538 1517.37 326.903 1517.37 M326.903 1513.66 Q332.713 1513.66 335.769 1518.27 Q338.848 1522.85 338.848 1531.6 Q338.848 1540.33 335.769 1544.94 Q332.713 1549.52 326.903 1549.52 Q321.093 1549.52 318.014 1544.94 Q314.959 1540.33 314.959 1531.6 Q314.959 1522.85 318.014 1518.27 Q321.093 1513.66 326.903 1513.66 Z\" fill=\"#f8f8f2\" fill-rule=\"nonzero\" fill-opacity=\"1\" /><path clip-path=\"url(#clip450)\" d=\"M357.065 1517.37 Q353.454 1517.37 351.625 1520.93 Q349.82 1524.47 349.82 1531.6 Q349.82 1538.71 351.625 1542.27 Q353.454 1545.82 357.065 1545.82 Q360.699 1545.82 362.505 1542.27 Q364.334 1538.71 364.334 1531.6 Q364.334 1524.47 362.505 1520.93 Q360.699 1517.37 357.065 1517.37 M357.065 1513.66 Q362.875 1513.66 365.931 1518.27 Q369.01 1522.85 369.01 1531.6 Q369.01 1540.33 365.931 1544.94 Q362.875 1549.52 357.065 1549.52 Q351.255 1549.52 348.176 1544.94 Q345.121 1540.33 345.121 1531.6 Q345.121 1522.85 348.176 1518.27 Q351.255 1513.66 357.065 1513.66 Z\" fill=\"#f8f8f2\" fill-rule=\"nonzero\" fill-opacity=\"1\" /><path clip-path=\"url(#clip450)\" d=\"M760.929 1517.37 Q757.318 1517.37 755.489 1520.93 Q753.684 1524.47 753.684 1531.6 Q753.684 1538.71 755.489 1542.27 Q757.318 1545.82 760.929 1545.82 Q764.563 1545.82 766.369 1542.27 Q768.198 1538.71 768.198 1531.6 Q768.198 1524.47 766.369 1520.93 Q764.563 1517.37 760.929 1517.37 M760.929 1513.66 Q766.739 1513.66 769.795 1518.27 Q772.874 1522.85 772.874 1531.6 Q772.874 1540.33 769.795 1544.94 Q766.739 1549.52 760.929 1549.52 Q755.119 1549.52 752.04 1544.94 Q748.985 1540.33 748.985 1531.6 Q748.985 1522.85 752.04 1518.27 Q755.119 1513.66 760.929 1513.66 Z\" fill=\"#f8f8f2\" fill-rule=\"nonzero\" fill-opacity=\"1\" /><path clip-path=\"url(#clip450)\" d=\"M781.091 1542.97 L785.975 1542.97 L785.975 1548.85 L781.091 1548.85 L781.091 1542.97 Z\" fill=\"#f8f8f2\" fill-rule=\"nonzero\" fill-opacity=\"1\" /><path clip-path=\"url(#clip450)\" d=\"M800.188 1544.91 L816.508 1544.91 L816.508 1548.85 L794.563 1548.85 L794.563 1544.91 Q797.225 1542.16 801.809 1537.53 Q806.415 1532.88 807.596 1531.53 Q809.841 1529.01 810.721 1527.27 Q811.623 1525.51 811.623 1523.82 Q811.623 1521.07 809.679 1519.33 Q807.758 1517.6 804.656 1517.6 Q802.457 1517.6 800.003 1518.36 Q797.573 1519.13 794.795 1520.68 L794.795 1515.95 Q797.619 1514.82 800.073 1514.24 Q802.526 1513.66 804.563 1513.66 Q809.934 1513.66 813.128 1516.35 Q816.322 1519.03 816.322 1523.52 Q816.322 1525.65 815.512 1527.57 Q814.725 1529.47 812.619 1532.07 Q812.04 1532.74 808.938 1535.95 Q805.836 1539.15 800.188 1544.91 Z\" fill=\"#f8f8f2\" fill-rule=\"nonzero\" fill-opacity=\"1\" /><path clip-path=\"url(#clip450)\" d=\"M826.369 1514.29 L844.725 1514.29 L844.725 1518.22 L830.651 1518.22 L830.651 1526.7 Q831.67 1526.35 832.688 1526.19 Q833.707 1526 834.725 1526 Q840.512 1526 843.892 1529.17 Q847.271 1532.34 847.271 1537.76 Q847.271 1543.34 843.799 1546.44 Q840.327 1549.52 834.008 1549.52 Q831.832 1549.52 829.563 1549.15 Q827.318 1548.78 824.91 1548.04 L824.91 1543.34 Q826.994 1544.47 829.216 1545.03 Q831.438 1545.58 833.915 1545.58 Q837.92 1545.58 840.258 1543.48 Q842.595 1541.37 842.595 1537.76 Q842.595 1534.15 840.258 1532.04 Q837.92 1529.94 833.915 1529.94 Q832.04 1529.94 830.165 1530.35 Q828.313 1530.77 826.369 1531.65 L826.369 1514.29 Z\" fill=\"#f8f8f2\" fill-rule=\"nonzero\" fill-opacity=\"1\" /><path clip-path=\"url(#clip450)\" d=\"M1239.19 1517.37 Q1235.58 1517.37 1233.75 1520.93 Q1231.95 1524.47 1231.95 1531.6 Q1231.95 1538.71 1233.75 1542.27 Q1235.58 1545.82 1239.19 1545.82 Q1242.83 1545.82 1244.63 1542.27 Q1246.46 1538.71 1246.46 1531.6 Q1246.46 1524.47 1244.63 1520.93 Q1242.83 1517.37 1239.19 1517.37 M1239.19 1513.66 Q1245 1513.66 1248.06 1518.27 Q1251.14 1522.85 1251.14 1531.6 Q1251.14 1540.33 1248.06 1544.94 Q1245 1549.52 1239.19 1549.52 Q1233.38 1549.52 1230.3 1544.94 Q1227.25 1540.33 1227.25 1531.6 Q1227.25 1522.85 1230.3 1518.27 Q1233.38 1513.66 1239.19 1513.66 Z\" fill=\"#f8f8f2\" fill-rule=\"nonzero\" fill-opacity=\"1\" /><path clip-path=\"url(#clip450)\" d=\"M1259.35 1542.97 L1264.24 1542.97 L1264.24 1548.85 L1259.35 1548.85 L1259.35 1542.97 Z\" fill=\"#f8f8f2\" fill-rule=\"nonzero\" fill-opacity=\"1\" /><path clip-path=\"url(#clip450)\" d=\"M1274.47 1514.29 L1292.83 1514.29 L1292.83 1518.22 L1278.75 1518.22 L1278.75 1526.7 Q1279.77 1526.35 1280.79 1526.19 Q1281.81 1526 1282.83 1526 Q1288.61 1526 1291.99 1529.17 Q1295.37 1532.34 1295.37 1537.76 Q1295.37 1543.34 1291.9 1546.44 Q1288.43 1549.52 1282.11 1549.52 Q1279.93 1549.52 1277.66 1549.15 Q1275.42 1548.78 1273.01 1548.04 L1273.01 1543.34 Q1275.09 1544.47 1277.32 1545.03 Q1279.54 1545.58 1282.01 1545.58 Q1286.02 1545.58 1288.36 1543.48 Q1290.7 1541.37 1290.7 1537.76 Q1290.7 1534.15 1288.36 1532.04 Q1286.02 1529.94 1282.01 1529.94 Q1280.14 1529.94 1278.26 1530.35 Q1276.41 1530.77 1274.47 1531.65 L1274.47 1514.29 Z\" fill=\"#f8f8f2\" fill-rule=\"nonzero\" fill-opacity=\"1\" /><path clip-path=\"url(#clip450)\" d=\"M1314.58 1517.37 Q1310.97 1517.37 1309.14 1520.93 Q1307.34 1524.47 1307.34 1531.6 Q1307.34 1538.71 1309.14 1542.27 Q1310.97 1545.82 1314.58 1545.82 Q1318.22 1545.82 1320.02 1542.27 Q1321.85 1538.71 1321.85 1531.6 Q1321.85 1524.47 1320.02 1520.93 Q1318.22 1517.37 1314.58 1517.37 M1314.58 1513.66 Q1320.39 1513.66 1323.45 1518.27 Q1326.53 1522.85 1326.53 1531.6 Q1326.53 1540.33 1323.45 1544.94 Q1320.39 1549.52 1314.58 1549.52 Q1308.77 1549.52 1305.7 1544.94 Q1302.64 1540.33 1302.64 1531.6 Q1302.64 1522.85 1305.7 1518.27 Q1308.77 1513.66 1314.58 1513.66 Z\" fill=\"#f8f8f2\" fill-rule=\"nonzero\" fill-opacity=\"1\" /><path clip-path=\"url(#clip450)\" d=\"M1718.45 1517.37 Q1714.84 1517.37 1713.01 1520.93 Q1711.2 1524.47 1711.2 1531.6 Q1711.2 1538.71 1713.01 1542.27 Q1714.84 1545.82 1718.45 1545.82 Q1722.08 1545.82 1723.89 1542.27 Q1725.72 1538.71 1725.72 1531.6 Q1725.72 1524.47 1723.89 1520.93 Q1722.08 1517.37 1718.45 1517.37 M1718.45 1513.66 Q1724.26 1513.66 1727.31 1518.27 Q1730.39 1522.85 1730.39 1531.6 Q1730.39 1540.33 1727.31 1544.94 Q1724.26 1549.52 1718.45 1549.52 Q1712.64 1549.52 1709.56 1544.94 Q1706.5 1540.33 1706.5 1531.6 Q1706.5 1522.85 1709.56 1518.27 Q1712.64 1513.66 1718.45 1513.66 Z\" fill=\"#f8f8f2\" fill-rule=\"nonzero\" fill-opacity=\"1\" /><path clip-path=\"url(#clip450)\" d=\"M1738.61 1542.97 L1743.49 1542.97 L1743.49 1548.85 L1738.61 1548.85 L1738.61 1542.97 Z\" fill=\"#f8f8f2\" fill-rule=\"nonzero\" fill-opacity=\"1\" /><path clip-path=\"url(#clip450)\" d=\"M1752.5 1514.29 L1774.72 1514.29 L1774.72 1516.28 L1762.17 1548.85 L1757.29 1548.85 L1769.1 1518.22 L1752.5 1518.22 L1752.5 1514.29 Z\" fill=\"#f8f8f2\" fill-rule=\"nonzero\" fill-opacity=\"1\" /><path clip-path=\"url(#clip450)\" d=\"M1783.89 1514.29 L1802.24 1514.29 L1802.24 1518.22 L1788.17 1518.22 L1788.17 1526.7 Q1789.19 1526.35 1790.21 1526.19 Q1791.23 1526 1792.24 1526 Q1798.03 1526 1801.41 1529.17 Q1804.79 1532.34 1804.79 1537.76 Q1804.79 1543.34 1801.32 1546.44 Q1797.85 1549.52 1791.53 1549.52 Q1789.35 1549.52 1787.08 1549.15 Q1784.84 1548.78 1782.43 1548.04 L1782.43 1543.34 Q1784.51 1544.47 1786.73 1545.03 Q1788.96 1545.58 1791.43 1545.58 Q1795.44 1545.58 1797.78 1543.48 Q1800.11 1541.37 1800.11 1537.76 Q1800.11 1534.15 1797.78 1532.04 Q1795.44 1529.94 1791.43 1529.94 Q1789.56 1529.94 1787.68 1530.35 Q1785.83 1530.77 1783.89 1531.65 L1783.89 1514.29 Z\" fill=\"#f8f8f2\" fill-rule=\"nonzero\" fill-opacity=\"1\" /><path clip-path=\"url(#clip450)\" d=\"M2186.48 1544.91 L2194.12 1544.91 L2194.12 1518.55 L2185.81 1520.21 L2185.81 1515.95 L2194.07 1514.29 L2198.75 1514.29 L2198.75 1544.91 L2206.39 1544.91 L2206.39 1548.85 L2186.48 1548.85 L2186.48 1544.91 Z\" fill=\"#f8f8f2\" fill-rule=\"nonzero\" fill-opacity=\"1\" /><path clip-path=\"url(#clip450)\" d=\"M2215.83 1542.97 L2220.71 1542.97 L2220.71 1548.85 L2215.83 1548.85 L2215.83 1542.97 Z\" fill=\"#f8f8f2\" fill-rule=\"nonzero\" fill-opacity=\"1\" /><path clip-path=\"url(#clip450)\" d=\"M2240.9 1517.37 Q2237.29 1517.37 2235.46 1520.93 Q2233.65 1524.47 2233.65 1531.6 Q2233.65 1538.71 2235.46 1542.27 Q2237.29 1545.82 2240.9 1545.82 Q2244.53 1545.82 2246.34 1542.27 Q2248.17 1538.71 2248.17 1531.6 Q2248.17 1524.47 2246.34 1520.93 Q2244.53 1517.37 2240.9 1517.37 M2240.9 1513.66 Q2246.71 1513.66 2249.77 1518.27 Q2252.84 1522.85 2252.84 1531.6 Q2252.84 1540.33 2249.77 1544.94 Q2246.71 1549.52 2240.9 1549.52 Q2235.09 1549.52 2232.01 1544.94 Q2228.96 1540.33 2228.96 1531.6 Q2228.96 1522.85 2232.01 1518.27 Q2235.09 1513.66 2240.9 1513.66 Z\" fill=\"#f8f8f2\" fill-rule=\"nonzero\" fill-opacity=\"1\" /><path clip-path=\"url(#clip450)\" d=\"M2271.06 1517.37 Q2267.45 1517.37 2265.62 1520.93 Q2263.82 1524.47 2263.82 1531.6 Q2263.82 1538.71 2265.62 1542.27 Q2267.45 1545.82 2271.06 1545.82 Q2274.7 1545.82 2276.5 1542.27 Q2278.33 1538.71 2278.33 1531.6 Q2278.33 1524.47 2276.5 1520.93 Q2274.7 1517.37 2271.06 1517.37 M2271.06 1513.66 Q2276.87 1513.66 2279.93 1518.27 Q2283.01 1522.85 2283.01 1531.6 Q2283.01 1540.33 2279.93 1544.94 Q2276.87 1549.52 2271.06 1549.52 Q2265.25 1549.52 2262.17 1544.94 Q2259.12 1540.33 2259.12 1531.6 Q2259.12 1522.85 2262.17 1518.27 Q2265.25 1513.66 2271.06 1513.66 Z\" fill=\"#f8f8f2\" fill-rule=\"nonzero\" fill-opacity=\"1\" /><polyline clip-path=\"url(#clip450)\" style=\"stroke:#f8f8f2; stroke-linecap:round; stroke-linejoin:round; stroke-width:4; stroke-opacity:1; fill:none\" points=\"201.019,1486.45 201.019,47.2441 \"/>\n",
       "<polyline clip-path=\"url(#clip450)\" style=\"stroke:#f8f8f2; stroke-linecap:round; stroke-linejoin:round; stroke-width:4; stroke-opacity:1; fill:none\" points=\"201.019,1486.45 219.917,1486.45 \"/>\n",
       "<polyline clip-path=\"url(#clip450)\" style=\"stroke:#f8f8f2; stroke-linecap:round; stroke-linejoin:round; stroke-width:4; stroke-opacity:1; fill:none\" points=\"201.019,1148.29 219.917,1148.29 \"/>\n",
       "<polyline clip-path=\"url(#clip450)\" style=\"stroke:#f8f8f2; stroke-linecap:round; stroke-linejoin:round; stroke-width:4; stroke-opacity:1; fill:none\" points=\"201.019,810.13 219.917,810.13 \"/>\n",
       "<polyline clip-path=\"url(#clip450)\" style=\"stroke:#f8f8f2; stroke-linecap:round; stroke-linejoin:round; stroke-width:4; stroke-opacity:1; fill:none\" points=\"201.019,471.972 219.917,471.972 \"/>\n",
       "<polyline clip-path=\"url(#clip450)\" style=\"stroke:#f8f8f2; stroke-linecap:round; stroke-linejoin:round; stroke-width:4; stroke-opacity:1; fill:none\" points=\"201.019,133.813 219.917,133.813 \"/>\n",
       "<path clip-path=\"url(#clip450)\" d=\"M153.075 1472.25 Q149.464 1472.25 147.635 1475.81 Q145.83 1479.35 145.83 1486.48 Q145.83 1493.59 147.635 1497.15 Q149.464 1500.7 153.075 1500.7 Q156.709 1500.7 158.515 1497.15 Q160.343 1493.59 160.343 1486.48 Q160.343 1479.35 158.515 1475.81 Q156.709 1472.25 153.075 1472.25 M153.075 1468.54 Q158.885 1468.54 161.941 1473.15 Q165.019 1477.73 165.019 1486.48 Q165.019 1495.21 161.941 1499.82 Q158.885 1504.4 153.075 1504.4 Q147.265 1504.4 144.186 1499.82 Q141.131 1495.21 141.131 1486.48 Q141.131 1477.73 144.186 1473.15 Q147.265 1468.54 153.075 1468.54 Z\" fill=\"#f8f8f2\" fill-rule=\"nonzero\" fill-opacity=\"1\" /><path clip-path=\"url(#clip450)\" d=\"M82.7975 1131.01 L101.154 1131.01 L101.154 1134.94 L87.0799 1134.94 L87.0799 1143.42 Q88.0984 1143.07 89.1169 1142.91 Q90.1354 1142.72 91.1539 1142.72 Q96.941 1142.72 100.321 1145.89 Q103.7 1149.06 103.7 1154.48 Q103.7 1160.06 100.228 1163.16 Q96.7558 1166.24 90.4364 1166.24 Q88.2604 1166.24 85.9919 1165.87 Q83.7466 1165.5 81.3392 1164.76 L81.3392 1160.06 Q83.4225 1161.19 85.6447 1161.75 Q87.8669 1162.31 90.3438 1162.31 Q94.3484 1162.31 96.6863 1160.2 Q99.0243 1158.09 99.0243 1154.48 Q99.0243 1150.87 96.6863 1148.76 Q94.3484 1146.66 90.3438 1146.66 Q88.4688 1146.66 86.5938 1147.07 Q84.7419 1147.49 82.7975 1148.37 L82.7975 1131.01 Z\" fill=\"#f8f8f2\" fill-rule=\"nonzero\" fill-opacity=\"1\" /><path clip-path=\"url(#clip450)\" d=\"M122.913 1134.09 Q119.302 1134.09 117.473 1137.65 Q115.668 1141.19 115.668 1148.32 Q115.668 1155.43 117.473 1159 Q119.302 1162.54 122.913 1162.54 Q126.547 1162.54 128.353 1159 Q130.182 1155.43 130.182 1148.32 Q130.182 1141.19 128.353 1137.65 Q126.547 1134.09 122.913 1134.09 M122.913 1130.38 Q128.723 1130.38 131.779 1134.99 Q134.857 1139.57 134.857 1148.32 Q134.857 1157.05 131.779 1161.66 Q128.723 1166.24 122.913 1166.24 Q117.103 1166.24 114.024 1161.66 Q110.969 1157.05 110.969 1148.32 Q110.969 1139.57 114.024 1134.99 Q117.103 1130.38 122.913 1130.38 Z\" fill=\"#f8f8f2\" fill-rule=\"nonzero\" fill-opacity=\"1\" /><path clip-path=\"url(#clip450)\" d=\"M153.075 1134.09 Q149.464 1134.09 147.635 1137.65 Q145.83 1141.19 145.83 1148.32 Q145.83 1155.43 147.635 1159 Q149.464 1162.54 153.075 1162.54 Q156.709 1162.54 158.515 1159 Q160.343 1155.43 160.343 1148.32 Q160.343 1141.19 158.515 1137.65 Q156.709 1134.09 153.075 1134.09 M153.075 1130.38 Q158.885 1130.38 161.941 1134.99 Q165.019 1139.57 165.019 1148.32 Q165.019 1157.05 161.941 1161.66 Q158.885 1166.24 153.075 1166.24 Q147.265 1166.24 144.186 1161.66 Q141.131 1157.05 141.131 1148.32 Q141.131 1139.57 144.186 1134.99 Q147.265 1130.38 153.075 1130.38 Z\" fill=\"#f8f8f2\" fill-rule=\"nonzero\" fill-opacity=\"1\" /><path clip-path=\"url(#clip450)\" d=\"M53.3995 823.475 L61.0384 823.475 L61.0384 797.11 L52.7282 798.776 L52.7282 794.517 L60.9921 792.85 L65.668 792.85 L65.668 823.475 L73.3068 823.475 L73.3068 827.41 L53.3995 827.41 L53.3995 823.475 Z\" fill=\"#f8f8f2\" fill-rule=\"nonzero\" fill-opacity=\"1\" /><path clip-path=\"url(#clip450)\" d=\"M92.7512 795.929 Q89.1401 795.929 87.3114 799.494 Q85.5058 803.035 85.5058 810.165 Q85.5058 817.271 87.3114 820.836 Q89.1401 824.378 92.7512 824.378 Q96.3854 824.378 98.1909 820.836 Q100.02 817.271 100.02 810.165 Q100.02 803.035 98.1909 799.494 Q96.3854 795.929 92.7512 795.929 M92.7512 792.225 Q98.5613 792.225 101.617 796.832 Q104.696 801.415 104.696 810.165 Q104.696 818.892 101.617 823.498 Q98.5613 828.082 92.7512 828.082 Q86.941 828.082 83.8623 823.498 Q80.8068 818.892 80.8068 810.165 Q80.8068 801.415 83.8623 796.832 Q86.941 792.225 92.7512 792.225 Z\" fill=\"#f8f8f2\" fill-rule=\"nonzero\" fill-opacity=\"1\" /><path clip-path=\"url(#clip450)\" d=\"M122.913 795.929 Q119.302 795.929 117.473 799.494 Q115.668 803.035 115.668 810.165 Q115.668 817.271 117.473 820.836 Q119.302 824.378 122.913 824.378 Q126.547 824.378 128.353 820.836 Q130.182 817.271 130.182 810.165 Q130.182 803.035 128.353 799.494 Q126.547 795.929 122.913 795.929 M122.913 792.225 Q128.723 792.225 131.779 796.832 Q134.857 801.415 134.857 810.165 Q134.857 818.892 131.779 823.498 Q128.723 828.082 122.913 828.082 Q117.103 828.082 114.024 823.498 Q110.969 818.892 110.969 810.165 Q110.969 801.415 114.024 796.832 Q117.103 792.225 122.913 792.225 Z\" fill=\"#f8f8f2\" fill-rule=\"nonzero\" fill-opacity=\"1\" /><path clip-path=\"url(#clip450)\" d=\"M153.075 795.929 Q149.464 795.929 147.635 799.494 Q145.83 803.035 145.83 810.165 Q145.83 817.271 147.635 820.836 Q149.464 824.378 153.075 824.378 Q156.709 824.378 158.515 820.836 Q160.343 817.271 160.343 810.165 Q160.343 803.035 158.515 799.494 Q156.709 795.929 153.075 795.929 M153.075 792.225 Q158.885 792.225 161.941 796.832 Q165.019 801.415 165.019 810.165 Q165.019 818.892 161.941 823.498 Q158.885 828.082 153.075 828.082 Q147.265 828.082 144.186 823.498 Q141.131 818.892 141.131 810.165 Q141.131 801.415 144.186 796.832 Q147.265 792.225 153.075 792.225 Z\" fill=\"#f8f8f2\" fill-rule=\"nonzero\" fill-opacity=\"1\" /><path clip-path=\"url(#clip450)\" d=\"M53.3995 485.316 L61.0384 485.316 L61.0384 458.951 L52.7282 460.617 L52.7282 456.358 L60.9921 454.692 L65.668 454.692 L65.668 485.316 L73.3068 485.316 L73.3068 489.252 L53.3995 489.252 L53.3995 485.316 Z\" fill=\"#f8f8f2\" fill-rule=\"nonzero\" fill-opacity=\"1\" /><path clip-path=\"url(#clip450)\" d=\"M82.7975 454.692 L101.154 454.692 L101.154 458.627 L87.0799 458.627 L87.0799 467.099 Q88.0984 466.752 89.1169 466.59 Q90.1354 466.404 91.1539 466.404 Q96.941 466.404 100.321 469.576 Q103.7 472.747 103.7 478.164 Q103.7 483.742 100.228 486.844 Q96.7558 489.923 90.4364 489.923 Q88.2604 489.923 85.9919 489.552 Q83.7466 489.182 81.3392 488.441 L81.3392 483.742 Q83.4225 484.877 85.6447 485.432 Q87.8669 485.988 90.3438 485.988 Q94.3484 485.988 96.6863 483.881 Q99.0243 481.775 99.0243 478.164 Q99.0243 474.553 96.6863 472.446 Q94.3484 470.34 90.3438 470.34 Q88.4688 470.34 86.5938 470.756 Q84.7419 471.173 82.7975 472.053 L82.7975 454.692 Z\" fill=\"#f8f8f2\" fill-rule=\"nonzero\" fill-opacity=\"1\" /><path clip-path=\"url(#clip450)\" d=\"M122.913 457.77 Q119.302 457.77 117.473 461.335 Q115.668 464.877 115.668 472.006 Q115.668 479.113 117.473 482.677 Q119.302 486.219 122.913 486.219 Q126.547 486.219 128.353 482.677 Q130.182 479.113 130.182 472.006 Q130.182 464.877 128.353 461.335 Q126.547 457.77 122.913 457.77 M122.913 454.067 Q128.723 454.067 131.779 458.673 Q134.857 463.256 134.857 472.006 Q134.857 480.733 131.779 485.34 Q128.723 489.923 122.913 489.923 Q117.103 489.923 114.024 485.34 Q110.969 480.733 110.969 472.006 Q110.969 463.256 114.024 458.673 Q117.103 454.067 122.913 454.067 Z\" fill=\"#f8f8f2\" fill-rule=\"nonzero\" fill-opacity=\"1\" /><path clip-path=\"url(#clip450)\" d=\"M153.075 457.77 Q149.464 457.77 147.635 461.335 Q145.83 464.877 145.83 472.006 Q145.83 479.113 147.635 482.677 Q149.464 486.219 153.075 486.219 Q156.709 486.219 158.515 482.677 Q160.343 479.113 160.343 472.006 Q160.343 464.877 158.515 461.335 Q156.709 457.77 153.075 457.77 M153.075 454.067 Q158.885 454.067 161.941 458.673 Q165.019 463.256 165.019 472.006 Q165.019 480.733 161.941 485.34 Q158.885 489.923 153.075 489.923 Q147.265 489.923 144.186 485.34 Q141.131 480.733 141.131 472.006 Q141.131 463.256 144.186 458.673 Q147.265 454.067 153.075 454.067 Z\" fill=\"#f8f8f2\" fill-rule=\"nonzero\" fill-opacity=\"1\" /><path clip-path=\"url(#clip450)\" d=\"M56.6171 147.158 L72.9365 147.158 L72.9365 151.093 L50.9921 151.093 L50.9921 147.158 Q53.6541 144.403 58.2375 139.773 Q62.8439 135.121 64.0245 133.778 Q66.2698 131.255 67.1494 129.519 Q68.0522 127.76 68.0522 126.07 Q68.0522 123.315 66.1078 121.579 Q64.1865 119.843 61.0847 119.843 Q58.8856 119.843 56.4319 120.607 Q54.0014 121.371 51.2236 122.922 L51.2236 118.199 Q54.0477 117.065 56.5014 116.486 Q58.955 115.908 60.9921 115.908 Q66.3624 115.908 69.5568 118.593 Q72.7513 121.278 72.7513 125.769 Q72.7513 127.898 71.9411 129.82 Q71.1541 131.718 69.0476 134.31 Q68.4689 134.982 65.367 138.199 Q62.2652 141.394 56.6171 147.158 Z\" fill=\"#f8f8f2\" fill-rule=\"nonzero\" fill-opacity=\"1\" /><path clip-path=\"url(#clip450)\" d=\"M92.7512 119.611 Q89.1401 119.611 87.3114 123.176 Q85.5058 126.718 85.5058 133.847 Q85.5058 140.954 87.3114 144.519 Q89.1401 148.06 92.7512 148.06 Q96.3854 148.06 98.1909 144.519 Q100.02 140.954 100.02 133.847 Q100.02 126.718 98.1909 123.176 Q96.3854 119.611 92.7512 119.611 M92.7512 115.908 Q98.5613 115.908 101.617 120.514 Q104.696 125.098 104.696 133.847 Q104.696 142.574 101.617 147.181 Q98.5613 151.764 92.7512 151.764 Q86.941 151.764 83.8623 147.181 Q80.8068 142.574 80.8068 133.847 Q80.8068 125.098 83.8623 120.514 Q86.941 115.908 92.7512 115.908 Z\" fill=\"#f8f8f2\" fill-rule=\"nonzero\" fill-opacity=\"1\" /><path clip-path=\"url(#clip450)\" d=\"M122.913 119.611 Q119.302 119.611 117.473 123.176 Q115.668 126.718 115.668 133.847 Q115.668 140.954 117.473 144.519 Q119.302 148.06 122.913 148.06 Q126.547 148.06 128.353 144.519 Q130.182 140.954 130.182 133.847 Q130.182 126.718 128.353 123.176 Q126.547 119.611 122.913 119.611 M122.913 115.908 Q128.723 115.908 131.779 120.514 Q134.857 125.098 134.857 133.847 Q134.857 142.574 131.779 147.181 Q128.723 151.764 122.913 151.764 Q117.103 151.764 114.024 147.181 Q110.969 142.574 110.969 133.847 Q110.969 125.098 114.024 120.514 Q117.103 115.908 122.913 115.908 Z\" fill=\"#f8f8f2\" fill-rule=\"nonzero\" fill-opacity=\"1\" /><path clip-path=\"url(#clip450)\" d=\"M153.075 119.611 Q149.464 119.611 147.635 123.176 Q145.83 126.718 145.83 133.847 Q145.83 140.954 147.635 144.519 Q149.464 148.06 153.075 148.06 Q156.709 148.06 158.515 144.519 Q160.343 140.954 160.343 133.847 Q160.343 126.718 158.515 123.176 Q156.709 119.611 153.075 119.611 M153.075 115.908 Q158.885 115.908 161.941 120.514 Q165.019 125.098 165.019 133.847 Q165.019 142.574 161.941 147.181 Q158.885 151.764 153.075 151.764 Q147.265 151.764 144.186 147.181 Q141.131 142.574 141.131 133.847 Q141.131 125.098 144.186 120.514 Q147.265 115.908 153.075 115.908 Z\" fill=\"#f8f8f2\" fill-rule=\"nonzero\" fill-opacity=\"1\" /><path clip-path=\"url(#clip452)\" d=\"M319.369 152.073 L319.369 1486.45 L357.669 1486.45 L357.669 152.073 L319.369 152.073 L319.369 152.073  Z\" fill=\"#8be9fd\" fill-rule=\"evenodd\" fill-opacity=\"1\"/>\n",
       "<polyline clip-path=\"url(#clip452)\" style=\"stroke:#f8f8f2; stroke-linecap:round; stroke-linejoin:round; stroke-width:4; stroke-opacity:1; fill:none\" points=\"319.369,152.073 319.369,1486.45 357.669,1486.45 357.669,152.073 319.369,152.073 \"/>\n",
       "<path clip-path=\"url(#clip452)\" d=\"M357.669 123.668 L357.669 1486.45 L395.97 1486.45 L395.97 123.668 L357.669 123.668 L357.669 123.668  Z\" fill=\"#8be9fd\" fill-rule=\"evenodd\" fill-opacity=\"1\"/>\n",
       "<polyline clip-path=\"url(#clip452)\" style=\"stroke:#f8f8f2; stroke-linecap:round; stroke-linejoin:round; stroke-width:4; stroke-opacity:1; fill:none\" points=\"357.669,123.668 357.669,1486.45 395.97,1486.45 395.97,123.668 357.669,123.668 \"/>\n",
       "<path clip-path=\"url(#clip452)\" d=\"M395.97 64.152 L395.97 1486.45 L434.271 1486.45 L434.271 64.152 L395.97 64.152 L395.97 64.152  Z\" fill=\"#8be9fd\" fill-rule=\"evenodd\" fill-opacity=\"1\"/>\n",
       "<polyline clip-path=\"url(#clip452)\" style=\"stroke:#f8f8f2; stroke-linecap:round; stroke-linejoin:round; stroke-width:4; stroke-opacity:1; fill:none\" points=\"395.97,64.152 395.97,1486.45 434.271,1486.45 434.271,64.152 395.97,64.152 \"/>\n",
       "<path clip-path=\"url(#clip452)\" d=\"M434.271 148.692 L434.271 1486.45 L472.572 1486.45 L472.572 148.692 L434.271 148.692 L434.271 148.692  Z\" fill=\"#8be9fd\" fill-rule=\"evenodd\" fill-opacity=\"1\"/>\n",
       "<polyline clip-path=\"url(#clip452)\" style=\"stroke:#f8f8f2; stroke-linecap:round; stroke-linejoin:round; stroke-width:4; stroke-opacity:1; fill:none\" points=\"434.271,148.692 434.271,1486.45 472.572,1486.45 472.572,148.692 434.271,148.692 \"/>\n",
       "<path clip-path=\"url(#clip452)\" d=\"M472.572 138.547 L472.572 1486.45 L510.872 1486.45 L510.872 138.547 L472.572 138.547 L472.572 138.547  Z\" fill=\"#8be9fd\" fill-rule=\"evenodd\" fill-opacity=\"1\"/>\n",
       "<polyline clip-path=\"url(#clip452)\" style=\"stroke:#f8f8f2; stroke-linecap:round; stroke-linejoin:round; stroke-width:4; stroke-opacity:1; fill:none\" points=\"472.572,138.547 472.572,1486.45 510.872,1486.45 510.872,138.547 472.572,138.547 \"/>\n",
       "<path clip-path=\"url(#clip452)\" d=\"M510.872 124.344 L510.872 1486.45 L549.173 1486.45 L549.173 124.344 L510.872 124.344 L510.872 124.344  Z\" fill=\"#8be9fd\" fill-rule=\"evenodd\" fill-opacity=\"1\"/>\n",
       "<polyline clip-path=\"url(#clip452)\" style=\"stroke:#f8f8f2; stroke-linecap:round; stroke-linejoin:round; stroke-width:4; stroke-opacity:1; fill:none\" points=\"510.872,124.344 510.872,1486.45 549.173,1486.45 549.173,124.344 510.872,124.344 \"/>\n",
       "<path clip-path=\"url(#clip452)\" d=\"M549.173 92.5574 L549.173 1486.45 L587.474 1486.45 L587.474 92.5574 L549.173 92.5574 L549.173 92.5574  Z\" fill=\"#8be9fd\" fill-rule=\"evenodd\" fill-opacity=\"1\"/>\n",
       "<polyline clip-path=\"url(#clip452)\" style=\"stroke:#f8f8f2; stroke-linecap:round; stroke-linejoin:round; stroke-width:4; stroke-opacity:1; fill:none\" points=\"549.173,92.5574 549.173,1486.45 587.474,1486.45 587.474,92.5574 549.173,92.5574 \"/>\n",
       "<path clip-path=\"url(#clip452)\" d=\"M587.474 120.963 L587.474 1486.45 L625.775 1486.45 L625.775 120.963 L587.474 120.963 L587.474 120.963  Z\" fill=\"#8be9fd\" fill-rule=\"evenodd\" fill-opacity=\"1\"/>\n",
       "<polyline clip-path=\"url(#clip452)\" style=\"stroke:#f8f8f2; stroke-linecap:round; stroke-linejoin:round; stroke-width:4; stroke-opacity:1; fill:none\" points=\"587.474,120.963 587.474,1486.45 625.775,1486.45 625.775,120.963 587.474,120.963 \"/>\n",
       "<path clip-path=\"url(#clip452)\" d=\"M625.775 168.981 L625.775 1486.45 L664.075 1486.45 L664.075 168.981 L625.775 168.981 L625.775 168.981  Z\" fill=\"#8be9fd\" fill-rule=\"evenodd\" fill-opacity=\"1\"/>\n",
       "<polyline clip-path=\"url(#clip452)\" style=\"stroke:#f8f8f2; stroke-linecap:round; stroke-linejoin:round; stroke-width:4; stroke-opacity:1; fill:none\" points=\"625.775,168.981 625.775,1486.45 664.075,1486.45 664.075,168.981 625.775,168.981 \"/>\n",
       "<path clip-path=\"url(#clip452)\" d=\"M664.075 144.634 L664.075 1486.45 L702.376 1486.45 L702.376 144.634 L664.075 144.634 L664.075 144.634  Z\" fill=\"#8be9fd\" fill-rule=\"evenodd\" fill-opacity=\"1\"/>\n",
       "<polyline clip-path=\"url(#clip452)\" style=\"stroke:#f8f8f2; stroke-linecap:round; stroke-linejoin:round; stroke-width:4; stroke-opacity:1; fill:none\" points=\"664.075,144.634 664.075,1486.45 702.376,1486.45 702.376,144.634 664.075,144.634 \"/>\n",
       "<path clip-path=\"url(#clip452)\" d=\"M702.376 97.9679 L702.376 1486.45 L740.677 1486.45 L740.677 97.9679 L702.376 97.9679 L702.376 97.9679  Z\" fill=\"#8be9fd\" fill-rule=\"evenodd\" fill-opacity=\"1\"/>\n",
       "<polyline clip-path=\"url(#clip452)\" style=\"stroke:#f8f8f2; stroke-linecap:round; stroke-linejoin:round; stroke-width:4; stroke-opacity:1; fill:none\" points=\"702.376,97.9679 702.376,1486.45 740.677,1486.45 740.677,97.9679 702.376,97.9679 \"/>\n",
       "<path clip-path=\"url(#clip452)\" d=\"M740.677 76.3257 L740.677 1486.45 L778.978 1486.45 L778.978 76.3257 L740.677 76.3257 L740.677 76.3257  Z\" fill=\"#8be9fd\" fill-rule=\"evenodd\" fill-opacity=\"1\"/>\n",
       "<polyline clip-path=\"url(#clip452)\" style=\"stroke:#f8f8f2; stroke-linecap:round; stroke-linejoin:round; stroke-width:4; stroke-opacity:1; fill:none\" points=\"740.677,76.3257 740.677,1486.45 778.978,1486.45 778.978,76.3257 740.677,76.3257 \"/>\n",
       "<path clip-path=\"url(#clip452)\" d=\"M778.978 93.2337 L778.978 1486.45 L817.278 1486.45 L817.278 93.2337 L778.978 93.2337 L778.978 93.2337  Z\" fill=\"#8be9fd\" fill-rule=\"evenodd\" fill-opacity=\"1\"/>\n",
       "<polyline clip-path=\"url(#clip452)\" style=\"stroke:#f8f8f2; stroke-linecap:round; stroke-linejoin:round; stroke-width:4; stroke-opacity:1; fill:none\" points=\"778.978,93.2337 778.978,1486.45 817.278,1486.45 817.278,93.2337 778.978,93.2337 \"/>\n",
       "<path clip-path=\"url(#clip452)\" d=\"M817.278 88.4995 L817.278 1486.45 L855.579 1486.45 L855.579 88.4995 L817.278 88.4995 L817.278 88.4995  Z\" fill=\"#8be9fd\" fill-rule=\"evenodd\" fill-opacity=\"1\"/>\n",
       "<polyline clip-path=\"url(#clip452)\" style=\"stroke:#f8f8f2; stroke-linecap:round; stroke-linejoin:round; stroke-width:4; stroke-opacity:1; fill:none\" points=\"817.278,88.4995 817.278,1486.45 855.579,1486.45 855.579,88.4995 817.278,88.4995 \"/>\n",
       "<path clip-path=\"url(#clip452)\" d=\"M855.579 158.16 L855.579 1486.45 L893.88 1486.45 L893.88 158.16 L855.579 158.16 L855.579 158.16  Z\" fill=\"#8be9fd\" fill-rule=\"evenodd\" fill-opacity=\"1\"/>\n",
       "<polyline clip-path=\"url(#clip452)\" style=\"stroke:#f8f8f2; stroke-linecap:round; stroke-linejoin:round; stroke-width:4; stroke-opacity:1; fill:none\" points=\"855.579,158.16 855.579,1486.45 893.88,1486.45 893.88,158.16 855.579,158.16 \"/>\n",
       "<path clip-path=\"url(#clip452)\" d=\"M893.88 140.576 L893.88 1486.45 L932.181 1486.45 L932.181 140.576 L893.88 140.576 L893.88 140.576  Z\" fill=\"#8be9fd\" fill-rule=\"evenodd\" fill-opacity=\"1\"/>\n",
       "<polyline clip-path=\"url(#clip452)\" style=\"stroke:#f8f8f2; stroke-linecap:round; stroke-linejoin:round; stroke-width:4; stroke-opacity:1; fill:none\" points=\"893.88,140.576 893.88,1486.45 932.181,1486.45 932.181,140.576 893.88,140.576 \"/>\n",
       "<path clip-path=\"url(#clip452)\" d=\"M932.181 191.976 L932.181 1486.45 L970.482 1486.45 L970.482 191.976 L932.181 191.976 L932.181 191.976  Z\" fill=\"#8be9fd\" fill-rule=\"evenodd\" fill-opacity=\"1\"/>\n",
       "<polyline clip-path=\"url(#clip452)\" style=\"stroke:#f8f8f2; stroke-linecap:round; stroke-linejoin:round; stroke-width:4; stroke-opacity:1; fill:none\" points=\"932.181,191.976 932.181,1486.45 970.482,1486.45 970.482,191.976 932.181,191.976 \"/>\n",
       "<path clip-path=\"url(#clip452)\" d=\"M970.482 214.295 L970.482 1486.45 L1008.78 1486.45 L1008.78 214.295 L970.482 214.295 L970.482 214.295  Z\" fill=\"#8be9fd\" fill-rule=\"evenodd\" fill-opacity=\"1\"/>\n",
       "<polyline clip-path=\"url(#clip452)\" style=\"stroke:#f8f8f2; stroke-linecap:round; stroke-linejoin:round; stroke-width:4; stroke-opacity:1; fill:none\" points=\"970.482,214.295 970.482,1486.45 1008.78,1486.45 1008.78,214.295 970.482,214.295 \"/>\n",
       "<path clip-path=\"url(#clip452)\" d=\"M1008.78 129.755 L1008.78 1486.45 L1047.08 1486.45 L1047.08 129.755 L1008.78 129.755 L1008.78 129.755  Z\" fill=\"#8be9fd\" fill-rule=\"evenodd\" fill-opacity=\"1\"/>\n",
       "<polyline clip-path=\"url(#clip452)\" style=\"stroke:#f8f8f2; stroke-linecap:round; stroke-linejoin:round; stroke-width:4; stroke-opacity:1; fill:none\" points=\"1008.78,129.755 1008.78,1486.45 1047.08,1486.45 1047.08,129.755 1008.78,129.755 \"/>\n",
       "<path clip-path=\"url(#clip452)\" d=\"M1047.08 136.518 L1047.08 1486.45 L1085.38 1486.45 L1085.38 136.518 L1047.08 136.518 L1047.08 136.518  Z\" fill=\"#8be9fd\" fill-rule=\"evenodd\" fill-opacity=\"1\"/>\n",
       "<polyline clip-path=\"url(#clip452)\" style=\"stroke:#f8f8f2; stroke-linecap:round; stroke-linejoin:round; stroke-width:4; stroke-opacity:1; fill:none\" points=\"1047.08,136.518 1047.08,1486.45 1085.38,1486.45 1085.38,136.518 1047.08,136.518 \"/>\n",
       "<path clip-path=\"url(#clip452)\" d=\"M1085.38 140.576 L1085.38 1486.45 L1123.68 1486.45 L1123.68 140.576 L1085.38 140.576 L1085.38 140.576  Z\" fill=\"#8be9fd\" fill-rule=\"evenodd\" fill-opacity=\"1\"/>\n",
       "<polyline clip-path=\"url(#clip452)\" style=\"stroke:#f8f8f2; stroke-linecap:round; stroke-linejoin:round; stroke-width:4; stroke-opacity:1; fill:none\" points=\"1085.38,140.576 1085.38,1486.45 1123.68,1486.45 1123.68,140.576 1085.38,140.576 \"/>\n",
       "<path clip-path=\"url(#clip452)\" d=\"M1123.68 165.6 L1123.68 1486.45 L1161.99 1486.45 L1161.99 165.6 L1123.68 165.6 L1123.68 165.6  Z\" fill=\"#8be9fd\" fill-rule=\"evenodd\" fill-opacity=\"1\"/>\n",
       "<polyline clip-path=\"url(#clip452)\" style=\"stroke:#f8f8f2; stroke-linecap:round; stroke-linejoin:round; stroke-width:4; stroke-opacity:1; fill:none\" points=\"1123.68,165.6 1123.68,1486.45 1161.99,1486.45 1161.99,165.6 1123.68,165.6 \"/>\n",
       "<path clip-path=\"url(#clip452)\" d=\"M1161.99 198.739 L1161.99 1486.45 L1200.29 1486.45 L1200.29 198.739 L1161.99 198.739 L1161.99 198.739  Z\" fill=\"#8be9fd\" fill-rule=\"evenodd\" fill-opacity=\"1\"/>\n",
       "<polyline clip-path=\"url(#clip452)\" style=\"stroke:#f8f8f2; stroke-linecap:round; stroke-linejoin:round; stroke-width:4; stroke-opacity:1; fill:none\" points=\"1161.99,198.739 1161.99,1486.45 1200.29,1486.45 1200.29,198.739 1161.99,198.739 \"/>\n",
       "<path clip-path=\"url(#clip452)\" d=\"M1200.29 171.01 L1200.29 1486.45 L1238.59 1486.45 L1238.59 171.01 L1200.29 171.01 L1200.29 171.01  Z\" fill=\"#8be9fd\" fill-rule=\"evenodd\" fill-opacity=\"1\"/>\n",
       "<polyline clip-path=\"url(#clip452)\" style=\"stroke:#f8f8f2; stroke-linecap:round; stroke-linejoin:round; stroke-width:4; stroke-opacity:1; fill:none\" points=\"1200.29,171.01 1200.29,1486.45 1238.59,1486.45 1238.59,171.01 1200.29,171.01 \"/>\n",
       "<path clip-path=\"url(#clip452)\" d=\"M1238.59 173.715 L1238.59 1486.45 L1276.89 1486.45 L1276.89 173.715 L1238.59 173.715 L1238.59 173.715  Z\" fill=\"#8be9fd\" fill-rule=\"evenodd\" fill-opacity=\"1\"/>\n",
       "<polyline clip-path=\"url(#clip452)\" style=\"stroke:#f8f8f2; stroke-linecap:round; stroke-linejoin:round; stroke-width:4; stroke-opacity:1; fill:none\" points=\"1238.59,173.715 1238.59,1486.45 1276.89,1486.45 1276.89,173.715 1238.59,173.715 \"/>\n",
       "<path clip-path=\"url(#clip452)\" d=\"M1276.89 123.668 L1276.89 1486.45 L1315.19 1486.45 L1315.19 123.668 L1276.89 123.668 L1276.89 123.668  Z\" fill=\"#8be9fd\" fill-rule=\"evenodd\" fill-opacity=\"1\"/>\n",
       "<polyline clip-path=\"url(#clip452)\" style=\"stroke:#f8f8f2; stroke-linecap:round; stroke-linejoin:round; stroke-width:4; stroke-opacity:1; fill:none\" points=\"1276.89,123.668 1276.89,1486.45 1315.19,1486.45 1315.19,123.668 1276.89,123.668 \"/>\n",
       "<path clip-path=\"url(#clip452)\" d=\"M1315.19 118.257 L1315.19 1486.45 L1353.49 1486.45 L1353.49 118.257 L1315.19 118.257 L1315.19 118.257  Z\" fill=\"#8be9fd\" fill-rule=\"evenodd\" fill-opacity=\"1\"/>\n",
       "<polyline clip-path=\"url(#clip452)\" style=\"stroke:#f8f8f2; stroke-linecap:round; stroke-linejoin:round; stroke-width:4; stroke-opacity:1; fill:none\" points=\"1315.19,118.257 1315.19,1486.45 1353.49,1486.45 1353.49,118.257 1315.19,118.257 \"/>\n",
       "<path clip-path=\"url(#clip452)\" d=\"M1353.49 129.755 L1353.49 1486.45 L1391.79 1486.45 L1391.79 129.755 L1353.49 129.755 L1353.49 129.755  Z\" fill=\"#8be9fd\" fill-rule=\"evenodd\" fill-opacity=\"1\"/>\n",
       "<polyline clip-path=\"url(#clip452)\" style=\"stroke:#f8f8f2; stroke-linecap:round; stroke-linejoin:round; stroke-width:4; stroke-opacity:1; fill:none\" points=\"1353.49,129.755 1353.49,1486.45 1391.79,1486.45 1391.79,129.755 1353.49,129.755 \"/>\n",
       "<path clip-path=\"url(#clip452)\" d=\"M1391.79 99.9969 L1391.79 1486.45 L1430.09 1486.45 L1430.09 99.9969 L1391.79 99.9969 L1391.79 99.9969  Z\" fill=\"#8be9fd\" fill-rule=\"evenodd\" fill-opacity=\"1\"/>\n",
       "<polyline clip-path=\"url(#clip452)\" style=\"stroke:#f8f8f2; stroke-linecap:round; stroke-linejoin:round; stroke-width:4; stroke-opacity:1; fill:none\" points=\"1391.79,99.9969 1391.79,1486.45 1430.09,1486.45 1430.09,99.9969 1391.79,99.9969 \"/>\n",
       "<path clip-path=\"url(#clip452)\" d=\"M1430.09 161.542 L1430.09 1486.45 L1468.39 1486.45 L1468.39 161.542 L1430.09 161.542 L1430.09 161.542  Z\" fill=\"#8be9fd\" fill-rule=\"evenodd\" fill-opacity=\"1\"/>\n",
       "<polyline clip-path=\"url(#clip452)\" style=\"stroke:#f8f8f2; stroke-linecap:round; stroke-linejoin:round; stroke-width:4; stroke-opacity:1; fill:none\" points=\"1430.09,161.542 1430.09,1486.45 1468.39,1486.45 1468.39,161.542 1430.09,161.542 \"/>\n",
       "<path clip-path=\"url(#clip452)\" d=\"M1468.39 176.421 L1468.39 1486.45 L1506.69 1486.45 L1506.69 176.421 L1468.39 176.421 L1468.39 176.421  Z\" fill=\"#8be9fd\" fill-rule=\"evenodd\" fill-opacity=\"1\"/>\n",
       "<polyline clip-path=\"url(#clip452)\" style=\"stroke:#f8f8f2; stroke-linecap:round; stroke-linejoin:round; stroke-width:4; stroke-opacity:1; fill:none\" points=\"1468.39,176.421 1468.39,1486.45 1506.69,1486.45 1506.69,176.421 1468.39,176.421 \"/>\n",
       "<path clip-path=\"url(#clip452)\" d=\"M1506.69 151.397 L1506.69 1486.45 L1544.99 1486.45 L1544.99 151.397 L1506.69 151.397 L1506.69 151.397  Z\" fill=\"#8be9fd\" fill-rule=\"evenodd\" fill-opacity=\"1\"/>\n",
       "<polyline clip-path=\"url(#clip452)\" style=\"stroke:#f8f8f2; stroke-linecap:round; stroke-linejoin:round; stroke-width:4; stroke-opacity:1; fill:none\" points=\"1506.69,151.397 1506.69,1486.45 1544.99,1486.45 1544.99,151.397 1506.69,151.397 \"/>\n",
       "<path clip-path=\"url(#clip452)\" d=\"M1544.99 152.75 L1544.99 1486.45 L1583.29 1486.45 L1583.29 152.75 L1544.99 152.75 L1544.99 152.75  Z\" fill=\"#8be9fd\" fill-rule=\"evenodd\" fill-opacity=\"1\"/>\n",
       "<polyline clip-path=\"url(#clip452)\" style=\"stroke:#f8f8f2; stroke-linecap:round; stroke-linejoin:round; stroke-width:4; stroke-opacity:1; fill:none\" points=\"1544.99,152.75 1544.99,1486.45 1583.29,1486.45 1583.29,152.75 1544.99,152.75 \"/>\n",
       "<path clip-path=\"url(#clip452)\" d=\"M1583.29 103.378 L1583.29 1486.45 L1621.59 1486.45 L1621.59 103.378 L1583.29 103.378 L1583.29 103.378  Z\" fill=\"#8be9fd\" fill-rule=\"evenodd\" fill-opacity=\"1\"/>\n",
       "<polyline clip-path=\"url(#clip452)\" style=\"stroke:#f8f8f2; stroke-linecap:round; stroke-linejoin:round; stroke-width:4; stroke-opacity:1; fill:none\" points=\"1583.29,103.378 1583.29,1486.45 1621.59,1486.45 1621.59,103.378 1583.29,103.378 \"/>\n",
       "<path clip-path=\"url(#clip452)\" d=\"M1621.59 133.136 L1621.59 1486.45 L1659.9 1486.45 L1659.9 133.136 L1621.59 133.136 L1621.59 133.136  Z\" fill=\"#8be9fd\" fill-rule=\"evenodd\" fill-opacity=\"1\"/>\n",
       "<polyline clip-path=\"url(#clip452)\" style=\"stroke:#f8f8f2; stroke-linecap:round; stroke-linejoin:round; stroke-width:4; stroke-opacity:1; fill:none\" points=\"1621.59,133.136 1621.59,1486.45 1659.9,1486.45 1659.9,133.136 1621.59,133.136 \"/>\n",
       "<path clip-path=\"url(#clip452)\" d=\"M1659.9 175.744 L1659.9 1486.45 L1698.2 1486.45 L1698.2 175.744 L1659.9 175.744 L1659.9 175.744  Z\" fill=\"#8be9fd\" fill-rule=\"evenodd\" fill-opacity=\"1\"/>\n",
       "<polyline clip-path=\"url(#clip452)\" style=\"stroke:#f8f8f2; stroke-linecap:round; stroke-linejoin:round; stroke-width:4; stroke-opacity:1; fill:none\" points=\"1659.9,175.744 1659.9,1486.45 1698.2,1486.45 1698.2,175.744 1659.9,175.744 \"/>\n",
       "<path clip-path=\"url(#clip452)\" d=\"M1698.2 105.407 L1698.2 1486.45 L1736.5 1486.45 L1736.5 105.407 L1698.2 105.407 L1698.2 105.407  Z\" fill=\"#8be9fd\" fill-rule=\"evenodd\" fill-opacity=\"1\"/>\n",
       "<polyline clip-path=\"url(#clip452)\" style=\"stroke:#f8f8f2; stroke-linecap:round; stroke-linejoin:round; stroke-width:4; stroke-opacity:1; fill:none\" points=\"1698.2,105.407 1698.2,1486.45 1736.5,1486.45 1736.5,105.407 1698.2,105.407 \"/>\n",
       "<path clip-path=\"url(#clip452)\" d=\"M1736.5 133.813 L1736.5 1486.45 L1774.8 1486.45 L1774.8 133.813 L1736.5 133.813 L1736.5 133.813  Z\" fill=\"#8be9fd\" fill-rule=\"evenodd\" fill-opacity=\"1\"/>\n",
       "<polyline clip-path=\"url(#clip452)\" style=\"stroke:#f8f8f2; stroke-linecap:round; stroke-linejoin:round; stroke-width:4; stroke-opacity:1; fill:none\" points=\"1736.5,133.813 1736.5,1486.45 1774.8,1486.45 1774.8,133.813 1736.5,133.813 \"/>\n",
       "<path clip-path=\"url(#clip452)\" d=\"M1774.8 148.015 L1774.8 1486.45 L1813.1 1486.45 L1813.1 148.015 L1774.8 148.015 L1774.8 148.015  Z\" fill=\"#8be9fd\" fill-rule=\"evenodd\" fill-opacity=\"1\"/>\n",
       "<polyline clip-path=\"url(#clip452)\" style=\"stroke:#f8f8f2; stroke-linecap:round; stroke-linejoin:round; stroke-width:4; stroke-opacity:1; fill:none\" points=\"1774.8,148.015 1774.8,1486.45 1813.1,1486.45 1813.1,148.015 1774.8,148.015 \"/>\n",
       "<path clip-path=\"url(#clip452)\" d=\"M1813.1 123.668 L1813.1 1486.45 L1851.4 1486.45 L1851.4 123.668 L1813.1 123.668 L1813.1 123.668  Z\" fill=\"#8be9fd\" fill-rule=\"evenodd\" fill-opacity=\"1\"/>\n",
       "<polyline clip-path=\"url(#clip452)\" style=\"stroke:#f8f8f2; stroke-linecap:round; stroke-linejoin:round; stroke-width:4; stroke-opacity:1; fill:none\" points=\"1813.1,123.668 1813.1,1486.45 1851.4,1486.45 1851.4,123.668 1813.1,123.668 \"/>\n",
       "<path clip-path=\"url(#clip452)\" d=\"M1851.4 47.2441 L1851.4 1486.45 L1889.7 1486.45 L1889.7 47.2441 L1851.4 47.2441 L1851.4 47.2441  Z\" fill=\"#8be9fd\" fill-rule=\"evenodd\" fill-opacity=\"1\"/>\n",
       "<polyline clip-path=\"url(#clip452)\" style=\"stroke:#f8f8f2; stroke-linecap:round; stroke-linejoin:round; stroke-width:4; stroke-opacity:1; fill:none\" points=\"1851.4,47.2441 1851.4,1486.45 1889.7,1486.45 1889.7,47.2441 1851.4,47.2441 \"/>\n",
       "<path clip-path=\"url(#clip452)\" d=\"M1889.7 89.1758 L1889.7 1486.45 L1928 1486.45 L1928 89.1758 L1889.7 89.1758 L1889.7 89.1758  Z\" fill=\"#8be9fd\" fill-rule=\"evenodd\" fill-opacity=\"1\"/>\n",
       "<polyline clip-path=\"url(#clip452)\" style=\"stroke:#f8f8f2; stroke-linecap:round; stroke-linejoin:round; stroke-width:4; stroke-opacity:1; fill:none\" points=\"1889.7,89.1758 1889.7,1486.45 1928,1486.45 1928,89.1758 1889.7,89.1758 \"/>\n",
       "<path clip-path=\"url(#clip452)\" d=\"M1928 160.865 L1928 1486.45 L1966.3 1486.45 L1966.3 160.865 L1928 160.865 L1928 160.865  Z\" fill=\"#8be9fd\" fill-rule=\"evenodd\" fill-opacity=\"1\"/>\n",
       "<polyline clip-path=\"url(#clip452)\" style=\"stroke:#f8f8f2; stroke-linecap:round; stroke-linejoin:round; stroke-width:4; stroke-opacity:1; fill:none\" points=\"1928,160.865 1928,1486.45 1966.3,1486.45 1966.3,160.865 1928,160.865 \"/>\n",
       "<path clip-path=\"url(#clip452)\" d=\"M1966.3 171.687 L1966.3 1486.45 L2004.6 1486.45 L2004.6 171.687 L1966.3 171.687 L1966.3 171.687  Z\" fill=\"#8be9fd\" fill-rule=\"evenodd\" fill-opacity=\"1\"/>\n",
       "<polyline clip-path=\"url(#clip452)\" style=\"stroke:#f8f8f2; stroke-linecap:round; stroke-linejoin:round; stroke-width:4; stroke-opacity:1; fill:none\" points=\"1966.3,171.687 1966.3,1486.45 2004.6,1486.45 2004.6,171.687 1966.3,171.687 \"/>\n",
       "<path clip-path=\"url(#clip452)\" d=\"M2004.6 166.952 L2004.6 1486.45 L2042.9 1486.45 L2042.9 166.952 L2004.6 166.952 L2004.6 166.952  Z\" fill=\"#8be9fd\" fill-rule=\"evenodd\" fill-opacity=\"1\"/>\n",
       "<polyline clip-path=\"url(#clip452)\" style=\"stroke:#f8f8f2; stroke-linecap:round; stroke-linejoin:round; stroke-width:4; stroke-opacity:1; fill:none\" points=\"2004.6,166.952 2004.6,1486.45 2042.9,1486.45 2042.9,166.952 2004.6,166.952 \"/>\n",
       "<path clip-path=\"url(#clip452)\" d=\"M2042.9 112.847 L2042.9 1486.45 L2081.2 1486.45 L2081.2 112.847 L2042.9 112.847 L2042.9 112.847  Z\" fill=\"#8be9fd\" fill-rule=\"evenodd\" fill-opacity=\"1\"/>\n",
       "<polyline clip-path=\"url(#clip452)\" style=\"stroke:#f8f8f2; stroke-linecap:round; stroke-linejoin:round; stroke-width:4; stroke-opacity:1; fill:none\" points=\"2042.9,112.847 2042.9,1486.45 2081.2,1486.45 2081.2,112.847 2042.9,112.847 \"/>\n",
       "<path clip-path=\"url(#clip452)\" d=\"M2081.2 143.958 L2081.2 1486.45 L2119.5 1486.45 L2119.5 143.958 L2081.2 143.958 L2081.2 143.958  Z\" fill=\"#8be9fd\" fill-rule=\"evenodd\" fill-opacity=\"1\"/>\n",
       "<polyline clip-path=\"url(#clip452)\" style=\"stroke:#f8f8f2; stroke-linecap:round; stroke-linejoin:round; stroke-width:4; stroke-opacity:1; fill:none\" points=\"2081.2,143.958 2081.2,1486.45 2119.5,1486.45 2119.5,143.958 2081.2,143.958 \"/>\n",
       "<path clip-path=\"url(#clip452)\" d=\"M2119.5 123.668 L2119.5 1486.45 L2157.81 1486.45 L2157.81 123.668 L2119.5 123.668 L2119.5 123.668  Z\" fill=\"#8be9fd\" fill-rule=\"evenodd\" fill-opacity=\"1\"/>\n",
       "<polyline clip-path=\"url(#clip452)\" style=\"stroke:#f8f8f2; stroke-linecap:round; stroke-linejoin:round; stroke-width:4; stroke-opacity:1; fill:none\" points=\"2119.5,123.668 2119.5,1486.45 2157.81,1486.45 2157.81,123.668 2119.5,123.668 \"/>\n",
       "<path clip-path=\"url(#clip452)\" d=\"M2157.81 113.523 L2157.81 1486.45 L2196.11 1486.45 L2196.11 113.523 L2157.81 113.523 L2157.81 113.523  Z\" fill=\"#8be9fd\" fill-rule=\"evenodd\" fill-opacity=\"1\"/>\n",
       "<polyline clip-path=\"url(#clip452)\" style=\"stroke:#f8f8f2; stroke-linecap:round; stroke-linejoin:round; stroke-width:4; stroke-opacity:1; fill:none\" points=\"2157.81,113.523 2157.81,1486.45 2196.11,1486.45 2196.11,113.523 2157.81,113.523 \"/>\n",
       "<path clip-path=\"url(#clip452)\" d=\"M2196.11 68.2099 L2196.11 1486.45 L2234.41 1486.45 L2234.41 68.2099 L2196.11 68.2099 L2196.11 68.2099  Z\" fill=\"#8be9fd\" fill-rule=\"evenodd\" fill-opacity=\"1\"/>\n",
       "<polyline clip-path=\"url(#clip452)\" style=\"stroke:#f8f8f2; stroke-linecap:round; stroke-linejoin:round; stroke-width:4; stroke-opacity:1; fill:none\" points=\"2196.11,68.2099 2196.11,1486.45 2234.41,1486.45 2234.41,68.2099 2196.11,68.2099 \"/>\n",
       "<circle clip-path=\"url(#clip452)\" style=\"fill:#8be9fd; stroke:none; fill-opacity:0\" cx=\"338.519\" cy=\"152.073\" r=\"2\"/>\n",
       "<circle clip-path=\"url(#clip452)\" style=\"fill:#8be9fd; stroke:none; fill-opacity:0\" cx=\"376.82\" cy=\"123.668\" r=\"2\"/>\n",
       "<circle clip-path=\"url(#clip452)\" style=\"fill:#8be9fd; stroke:none; fill-opacity:0\" cx=\"415.121\" cy=\"64.152\" r=\"2\"/>\n",
       "<circle clip-path=\"url(#clip452)\" style=\"fill:#8be9fd; stroke:none; fill-opacity:0\" cx=\"453.421\" cy=\"148.692\" r=\"2\"/>\n",
       "<circle clip-path=\"url(#clip452)\" style=\"fill:#8be9fd; stroke:none; fill-opacity:0\" cx=\"491.722\" cy=\"138.547\" r=\"2\"/>\n",
       "<circle clip-path=\"url(#clip452)\" style=\"fill:#8be9fd; stroke:none; fill-opacity:0\" cx=\"530.023\" cy=\"124.344\" r=\"2\"/>\n",
       "<circle clip-path=\"url(#clip452)\" style=\"fill:#8be9fd; stroke:none; fill-opacity:0\" cx=\"568.324\" cy=\"92.5574\" r=\"2\"/>\n",
       "<circle clip-path=\"url(#clip452)\" style=\"fill:#8be9fd; stroke:none; fill-opacity:0\" cx=\"606.624\" cy=\"120.963\" r=\"2\"/>\n",
       "<circle clip-path=\"url(#clip452)\" style=\"fill:#8be9fd; stroke:none; fill-opacity:0\" cx=\"644.925\" cy=\"168.981\" r=\"2\"/>\n",
       "<circle clip-path=\"url(#clip452)\" style=\"fill:#8be9fd; stroke:none; fill-opacity:0\" cx=\"683.226\" cy=\"144.634\" r=\"2\"/>\n",
       "<circle clip-path=\"url(#clip452)\" style=\"fill:#8be9fd; stroke:none; fill-opacity:0\" cx=\"721.527\" cy=\"97.9679\" r=\"2\"/>\n",
       "<circle clip-path=\"url(#clip452)\" style=\"fill:#8be9fd; stroke:none; fill-opacity:0\" cx=\"759.827\" cy=\"76.3257\" r=\"2\"/>\n",
       "<circle clip-path=\"url(#clip452)\" style=\"fill:#8be9fd; stroke:none; fill-opacity:0\" cx=\"798.128\" cy=\"93.2337\" r=\"2\"/>\n",
       "<circle clip-path=\"url(#clip452)\" style=\"fill:#8be9fd; stroke:none; fill-opacity:0\" cx=\"836.429\" cy=\"88.4995\" r=\"2\"/>\n",
       "<circle clip-path=\"url(#clip452)\" style=\"fill:#8be9fd; stroke:none; fill-opacity:0\" cx=\"874.73\" cy=\"158.16\" r=\"2\"/>\n",
       "<circle clip-path=\"url(#clip452)\" style=\"fill:#8be9fd; stroke:none; fill-opacity:0\" cx=\"913.03\" cy=\"140.576\" r=\"2\"/>\n",
       "<circle clip-path=\"url(#clip452)\" style=\"fill:#8be9fd; stroke:none; fill-opacity:0\" cx=\"951.331\" cy=\"191.976\" r=\"2\"/>\n",
       "<circle clip-path=\"url(#clip452)\" style=\"fill:#8be9fd; stroke:none; fill-opacity:0\" cx=\"989.632\" cy=\"214.295\" r=\"2\"/>\n",
       "<circle clip-path=\"url(#clip452)\" style=\"fill:#8be9fd; stroke:none; fill-opacity:0\" cx=\"1027.93\" cy=\"129.755\" r=\"2\"/>\n",
       "<circle clip-path=\"url(#clip452)\" style=\"fill:#8be9fd; stroke:none; fill-opacity:0\" cx=\"1066.23\" cy=\"136.518\" r=\"2\"/>\n",
       "<circle clip-path=\"url(#clip452)\" style=\"fill:#8be9fd; stroke:none; fill-opacity:0\" cx=\"1104.53\" cy=\"140.576\" r=\"2\"/>\n",
       "<circle clip-path=\"url(#clip452)\" style=\"fill:#8be9fd; stroke:none; fill-opacity:0\" cx=\"1142.83\" cy=\"165.6\" r=\"2\"/>\n",
       "<circle clip-path=\"url(#clip452)\" style=\"fill:#8be9fd; stroke:none; fill-opacity:0\" cx=\"1181.14\" cy=\"198.739\" r=\"2\"/>\n",
       "<circle clip-path=\"url(#clip452)\" style=\"fill:#8be9fd; stroke:none; fill-opacity:0\" cx=\"1219.44\" cy=\"171.01\" r=\"2\"/>\n",
       "<circle clip-path=\"url(#clip452)\" style=\"fill:#8be9fd; stroke:none; fill-opacity:0\" cx=\"1257.74\" cy=\"173.715\" r=\"2\"/>\n",
       "<circle clip-path=\"url(#clip452)\" style=\"fill:#8be9fd; stroke:none; fill-opacity:0\" cx=\"1296.04\" cy=\"123.668\" r=\"2\"/>\n",
       "<circle clip-path=\"url(#clip452)\" style=\"fill:#8be9fd; stroke:none; fill-opacity:0\" cx=\"1334.34\" cy=\"118.257\" r=\"2\"/>\n",
       "<circle clip-path=\"url(#clip452)\" style=\"fill:#8be9fd; stroke:none; fill-opacity:0\" cx=\"1372.64\" cy=\"129.755\" r=\"2\"/>\n",
       "<circle clip-path=\"url(#clip452)\" style=\"fill:#8be9fd; stroke:none; fill-opacity:0\" cx=\"1410.94\" cy=\"99.9969\" r=\"2\"/>\n",
       "<circle clip-path=\"url(#clip452)\" style=\"fill:#8be9fd; stroke:none; fill-opacity:0\" cx=\"1449.24\" cy=\"161.542\" r=\"2\"/>\n",
       "<circle clip-path=\"url(#clip452)\" style=\"fill:#8be9fd; stroke:none; fill-opacity:0\" cx=\"1487.54\" cy=\"176.421\" r=\"2\"/>\n",
       "<circle clip-path=\"url(#clip452)\" style=\"fill:#8be9fd; stroke:none; fill-opacity:0\" cx=\"1525.84\" cy=\"151.397\" r=\"2\"/>\n",
       "<circle clip-path=\"url(#clip452)\" style=\"fill:#8be9fd; stroke:none; fill-opacity:0\" cx=\"1564.14\" cy=\"152.75\" r=\"2\"/>\n",
       "<circle clip-path=\"url(#clip452)\" style=\"fill:#8be9fd; stroke:none; fill-opacity:0\" cx=\"1602.44\" cy=\"103.378\" r=\"2\"/>\n",
       "<circle clip-path=\"url(#clip452)\" style=\"fill:#8be9fd; stroke:none; fill-opacity:0\" cx=\"1640.74\" cy=\"133.136\" r=\"2\"/>\n",
       "<circle clip-path=\"url(#clip452)\" style=\"fill:#8be9fd; stroke:none; fill-opacity:0\" cx=\"1679.05\" cy=\"175.744\" r=\"2\"/>\n",
       "<circle clip-path=\"url(#clip452)\" style=\"fill:#8be9fd; stroke:none; fill-opacity:0\" cx=\"1717.35\" cy=\"105.407\" r=\"2\"/>\n",
       "<circle clip-path=\"url(#clip452)\" style=\"fill:#8be9fd; stroke:none; fill-opacity:0\" cx=\"1755.65\" cy=\"133.813\" r=\"2\"/>\n",
       "<circle clip-path=\"url(#clip452)\" style=\"fill:#8be9fd; stroke:none; fill-opacity:0\" cx=\"1793.95\" cy=\"148.015\" r=\"2\"/>\n",
       "<circle clip-path=\"url(#clip452)\" style=\"fill:#8be9fd; stroke:none; fill-opacity:0\" cx=\"1832.25\" cy=\"123.668\" r=\"2\"/>\n",
       "<circle clip-path=\"url(#clip452)\" style=\"fill:#8be9fd; stroke:none; fill-opacity:0\" cx=\"1870.55\" cy=\"47.2441\" r=\"2\"/>\n",
       "<circle clip-path=\"url(#clip452)\" style=\"fill:#8be9fd; stroke:none; fill-opacity:0\" cx=\"1908.85\" cy=\"89.1758\" r=\"2\"/>\n",
       "<circle clip-path=\"url(#clip452)\" style=\"fill:#8be9fd; stroke:none; fill-opacity:0\" cx=\"1947.15\" cy=\"160.865\" r=\"2\"/>\n",
       "<circle clip-path=\"url(#clip452)\" style=\"fill:#8be9fd; stroke:none; fill-opacity:0\" cx=\"1985.45\" cy=\"171.687\" r=\"2\"/>\n",
       "<circle clip-path=\"url(#clip452)\" style=\"fill:#8be9fd; stroke:none; fill-opacity:0\" cx=\"2023.75\" cy=\"166.952\" r=\"2\"/>\n",
       "<circle clip-path=\"url(#clip452)\" style=\"fill:#8be9fd; stroke:none; fill-opacity:0\" cx=\"2062.05\" cy=\"112.847\" r=\"2\"/>\n",
       "<circle clip-path=\"url(#clip452)\" style=\"fill:#8be9fd; stroke:none; fill-opacity:0\" cx=\"2100.35\" cy=\"143.958\" r=\"2\"/>\n",
       "<circle clip-path=\"url(#clip452)\" style=\"fill:#8be9fd; stroke:none; fill-opacity:0\" cx=\"2138.65\" cy=\"123.668\" r=\"2\"/>\n",
       "<circle clip-path=\"url(#clip452)\" style=\"fill:#8be9fd; stroke:none; fill-opacity:0\" cx=\"2176.96\" cy=\"113.523\" r=\"2\"/>\n",
       "<circle clip-path=\"url(#clip452)\" style=\"fill:#8be9fd; stroke:none; fill-opacity:0\" cx=\"2215.26\" cy=\"68.2099\" r=\"2\"/>\n",
       "</svg>\n"
      ],
      "text/html": [
       "<?xml version=\"1.0\" encoding=\"utf-8\"?>\n",
       "<svg xmlns=\"http://www.w3.org/2000/svg\" xmlns:xlink=\"http://www.w3.org/1999/xlink\" width=\"600\" height=\"400\" viewBox=\"0 0 2400 1600\">\n",
       "<defs>\n",
       "  <clipPath id=\"clip500\">\n",
       "    <rect x=\"0\" y=\"0\" width=\"2400\" height=\"1600\"/>\n",
       "  </clipPath>\n",
       "</defs>\n",
       "<path clip-path=\"url(#clip500)\" d=\"M0 1600 L2400 1600 L2400 0 L0 0  Z\" fill=\"#282a36\" fill-rule=\"evenodd\" fill-opacity=\"1\"/>\n",
       "<defs>\n",
       "  <clipPath id=\"clip501\">\n",
       "    <rect x=\"480\" y=\"0\" width=\"1681\" height=\"1600\"/>\n",
       "  </clipPath>\n",
       "</defs>\n",
       "<path clip-path=\"url(#clip500)\" d=\"M201.019 1486.45 L2352.76 1486.45 L2352.76 47.2441 L201.019 47.2441  Z\" fill=\"#30343b\" fill-rule=\"evenodd\" fill-opacity=\"1\"/>\n",
       "<defs>\n",
       "  <clipPath id=\"clip502\">\n",
       "    <rect x=\"201\" y=\"47\" width=\"2153\" height=\"1440\"/>\n",
       "  </clipPath>\n",
       "</defs>\n",
       "<polyline clip-path=\"url(#clip502)\" style=\"stroke:#f8f8f2; stroke-linecap:round; stroke-linejoin:round; stroke-width:2; stroke-opacity:0.1; fill:none\" points=\"319.369,1486.45 319.369,47.2441 \"/>\n",
       "<polyline clip-path=\"url(#clip502)\" style=\"stroke:#f8f8f2; stroke-linecap:round; stroke-linejoin:round; stroke-width:2; stroke-opacity:0.1; fill:none\" points=\"798.128,1486.45 798.128,47.2441 \"/>\n",
       "<polyline clip-path=\"url(#clip502)\" style=\"stroke:#f8f8f2; stroke-linecap:round; stroke-linejoin:round; stroke-width:2; stroke-opacity:0.1; fill:none\" points=\"1276.89,1486.45 1276.89,47.2441 \"/>\n",
       "<polyline clip-path=\"url(#clip502)\" style=\"stroke:#f8f8f2; stroke-linecap:round; stroke-linejoin:round; stroke-width:2; stroke-opacity:0.1; fill:none\" points=\"1755.65,1486.45 1755.65,47.2441 \"/>\n",
       "<polyline clip-path=\"url(#clip502)\" style=\"stroke:#f8f8f2; stroke-linecap:round; stroke-linejoin:round; stroke-width:2; stroke-opacity:0.1; fill:none\" points=\"2234.41,1486.45 2234.41,47.2441 \"/>\n",
       "<polyline clip-path=\"url(#clip502)\" style=\"stroke:#f8f8f2; stroke-linecap:round; stroke-linejoin:round; stroke-width:2; stroke-opacity:0.1; fill:none\" points=\"201.019,1486.45 2352.76,1486.45 \"/>\n",
       "<polyline clip-path=\"url(#clip502)\" style=\"stroke:#f8f8f2; stroke-linecap:round; stroke-linejoin:round; stroke-width:2; stroke-opacity:0.1; fill:none\" points=\"201.019,1148.29 2352.76,1148.29 \"/>\n",
       "<polyline clip-path=\"url(#clip502)\" style=\"stroke:#f8f8f2; stroke-linecap:round; stroke-linejoin:round; stroke-width:2; stroke-opacity:0.1; fill:none\" points=\"201.019,810.13 2352.76,810.13 \"/>\n",
       "<polyline clip-path=\"url(#clip502)\" style=\"stroke:#f8f8f2; stroke-linecap:round; stroke-linejoin:round; stroke-width:2; stroke-opacity:0.1; fill:none\" points=\"201.019,471.972 2352.76,471.972 \"/>\n",
       "<polyline clip-path=\"url(#clip502)\" style=\"stroke:#f8f8f2; stroke-linecap:round; stroke-linejoin:round; stroke-width:2; stroke-opacity:0.1; fill:none\" points=\"201.019,133.813 2352.76,133.813 \"/>\n",
       "<polyline clip-path=\"url(#clip500)\" style=\"stroke:#f8f8f2; stroke-linecap:round; stroke-linejoin:round; stroke-width:4; stroke-opacity:1; fill:none\" points=\"201.019,1486.45 2352.76,1486.45 \"/>\n",
       "<polyline clip-path=\"url(#clip500)\" style=\"stroke:#f8f8f2; stroke-linecap:round; stroke-linejoin:round; stroke-width:4; stroke-opacity:1; fill:none\" points=\"319.369,1486.45 319.369,1467.55 \"/>\n",
       "<polyline clip-path=\"url(#clip500)\" style=\"stroke:#f8f8f2; stroke-linecap:round; stroke-linejoin:round; stroke-width:4; stroke-opacity:1; fill:none\" points=\"798.128,1486.45 798.128,1467.55 \"/>\n",
       "<polyline clip-path=\"url(#clip500)\" style=\"stroke:#f8f8f2; stroke-linecap:round; stroke-linejoin:round; stroke-width:4; stroke-opacity:1; fill:none\" points=\"1276.89,1486.45 1276.89,1467.55 \"/>\n",
       "<polyline clip-path=\"url(#clip500)\" style=\"stroke:#f8f8f2; stroke-linecap:round; stroke-linejoin:round; stroke-width:4; stroke-opacity:1; fill:none\" points=\"1755.65,1486.45 1755.65,1467.55 \"/>\n",
       "<polyline clip-path=\"url(#clip500)\" style=\"stroke:#f8f8f2; stroke-linecap:round; stroke-linejoin:round; stroke-width:4; stroke-opacity:1; fill:none\" points=\"2234.41,1486.45 2234.41,1467.55 \"/>\n",
       "<path clip-path=\"url(#clip500)\" d=\"M281.672 1517.37 Q278.061 1517.37 276.232 1520.93 Q274.427 1524.47 274.427 1531.6 Q274.427 1538.71 276.232 1542.27 Q278.061 1545.82 281.672 1545.82 Q285.306 1545.82 287.112 1542.27 Q288.941 1538.71 288.941 1531.6 Q288.941 1524.47 287.112 1520.93 Q285.306 1517.37 281.672 1517.37 M281.672 1513.66 Q287.482 1513.66 290.538 1518.27 Q293.616 1522.85 293.616 1531.6 Q293.616 1540.33 290.538 1544.94 Q287.482 1549.52 281.672 1549.52 Q275.862 1549.52 272.783 1544.94 Q269.728 1540.33 269.728 1531.6 Q269.728 1522.85 272.783 1518.27 Q275.862 1513.66 281.672 1513.66 Z\" fill=\"#f8f8f2\" fill-rule=\"nonzero\" fill-opacity=\"1\" /><path clip-path=\"url(#clip500)\" d=\"M301.834 1542.97 L306.718 1542.97 L306.718 1548.85 L301.834 1548.85 L301.834 1542.97 Z\" fill=\"#f8f8f2\" fill-rule=\"nonzero\" fill-opacity=\"1\" /><path clip-path=\"url(#clip500)\" d=\"M326.903 1517.37 Q323.292 1517.37 321.464 1520.93 Q319.658 1524.47 319.658 1531.6 Q319.658 1538.71 321.464 1542.27 Q323.292 1545.82 326.903 1545.82 Q330.538 1545.82 332.343 1542.27 Q334.172 1538.71 334.172 1531.6 Q334.172 1524.47 332.343 1520.93 Q330.538 1517.37 326.903 1517.37 M326.903 1513.66 Q332.713 1513.66 335.769 1518.27 Q338.848 1522.85 338.848 1531.6 Q338.848 1540.33 335.769 1544.94 Q332.713 1549.52 326.903 1549.52 Q321.093 1549.52 318.014 1544.94 Q314.959 1540.33 314.959 1531.6 Q314.959 1522.85 318.014 1518.27 Q321.093 1513.66 326.903 1513.66 Z\" fill=\"#f8f8f2\" fill-rule=\"nonzero\" fill-opacity=\"1\" /><path clip-path=\"url(#clip500)\" d=\"M357.065 1517.37 Q353.454 1517.37 351.625 1520.93 Q349.82 1524.47 349.82 1531.6 Q349.82 1538.71 351.625 1542.27 Q353.454 1545.82 357.065 1545.82 Q360.699 1545.82 362.505 1542.27 Q364.334 1538.71 364.334 1531.6 Q364.334 1524.47 362.505 1520.93 Q360.699 1517.37 357.065 1517.37 M357.065 1513.66 Q362.875 1513.66 365.931 1518.27 Q369.01 1522.85 369.01 1531.6 Q369.01 1540.33 365.931 1544.94 Q362.875 1549.52 357.065 1549.52 Q351.255 1549.52 348.176 1544.94 Q345.121 1540.33 345.121 1531.6 Q345.121 1522.85 348.176 1518.27 Q351.255 1513.66 357.065 1513.66 Z\" fill=\"#f8f8f2\" fill-rule=\"nonzero\" fill-opacity=\"1\" /><path clip-path=\"url(#clip500)\" d=\"M760.929 1517.37 Q757.318 1517.37 755.489 1520.93 Q753.684 1524.47 753.684 1531.6 Q753.684 1538.71 755.489 1542.27 Q757.318 1545.82 760.929 1545.82 Q764.563 1545.82 766.369 1542.27 Q768.198 1538.71 768.198 1531.6 Q768.198 1524.47 766.369 1520.93 Q764.563 1517.37 760.929 1517.37 M760.929 1513.66 Q766.739 1513.66 769.795 1518.27 Q772.874 1522.85 772.874 1531.6 Q772.874 1540.33 769.795 1544.94 Q766.739 1549.52 760.929 1549.52 Q755.119 1549.52 752.04 1544.94 Q748.985 1540.33 748.985 1531.6 Q748.985 1522.85 752.04 1518.27 Q755.119 1513.66 760.929 1513.66 Z\" fill=\"#f8f8f2\" fill-rule=\"nonzero\" fill-opacity=\"1\" /><path clip-path=\"url(#clip500)\" d=\"M781.091 1542.97 L785.975 1542.97 L785.975 1548.85 L781.091 1548.85 L781.091 1542.97 Z\" fill=\"#f8f8f2\" fill-rule=\"nonzero\" fill-opacity=\"1\" /><path clip-path=\"url(#clip500)\" d=\"M800.188 1544.91 L816.508 1544.91 L816.508 1548.85 L794.563 1548.85 L794.563 1544.91 Q797.225 1542.16 801.809 1537.53 Q806.415 1532.88 807.596 1531.53 Q809.841 1529.01 810.721 1527.27 Q811.623 1525.51 811.623 1523.82 Q811.623 1521.07 809.679 1519.33 Q807.758 1517.6 804.656 1517.6 Q802.457 1517.6 800.003 1518.36 Q797.573 1519.13 794.795 1520.68 L794.795 1515.95 Q797.619 1514.82 800.073 1514.24 Q802.526 1513.66 804.563 1513.66 Q809.934 1513.66 813.128 1516.35 Q816.322 1519.03 816.322 1523.52 Q816.322 1525.65 815.512 1527.57 Q814.725 1529.47 812.619 1532.07 Q812.04 1532.74 808.938 1535.95 Q805.836 1539.15 800.188 1544.91 Z\" fill=\"#f8f8f2\" fill-rule=\"nonzero\" fill-opacity=\"1\" /><path clip-path=\"url(#clip500)\" d=\"M826.369 1514.29 L844.725 1514.29 L844.725 1518.22 L830.651 1518.22 L830.651 1526.7 Q831.67 1526.35 832.688 1526.19 Q833.707 1526 834.725 1526 Q840.512 1526 843.892 1529.17 Q847.271 1532.34 847.271 1537.76 Q847.271 1543.34 843.799 1546.44 Q840.327 1549.52 834.008 1549.52 Q831.832 1549.52 829.563 1549.15 Q827.318 1548.78 824.91 1548.04 L824.91 1543.34 Q826.994 1544.47 829.216 1545.03 Q831.438 1545.58 833.915 1545.58 Q837.92 1545.58 840.258 1543.48 Q842.595 1541.37 842.595 1537.76 Q842.595 1534.15 840.258 1532.04 Q837.92 1529.94 833.915 1529.94 Q832.04 1529.94 830.165 1530.35 Q828.313 1530.77 826.369 1531.65 L826.369 1514.29 Z\" fill=\"#f8f8f2\" fill-rule=\"nonzero\" fill-opacity=\"1\" /><path clip-path=\"url(#clip500)\" d=\"M1239.19 1517.37 Q1235.58 1517.37 1233.75 1520.93 Q1231.95 1524.47 1231.95 1531.6 Q1231.95 1538.71 1233.75 1542.27 Q1235.58 1545.82 1239.19 1545.82 Q1242.83 1545.82 1244.63 1542.27 Q1246.46 1538.71 1246.46 1531.6 Q1246.46 1524.47 1244.63 1520.93 Q1242.83 1517.37 1239.19 1517.37 M1239.19 1513.66 Q1245 1513.66 1248.06 1518.27 Q1251.14 1522.85 1251.14 1531.6 Q1251.14 1540.33 1248.06 1544.94 Q1245 1549.52 1239.19 1549.52 Q1233.38 1549.52 1230.3 1544.94 Q1227.25 1540.33 1227.25 1531.6 Q1227.25 1522.85 1230.3 1518.27 Q1233.38 1513.66 1239.19 1513.66 Z\" fill=\"#f8f8f2\" fill-rule=\"nonzero\" fill-opacity=\"1\" /><path clip-path=\"url(#clip500)\" d=\"M1259.35 1542.97 L1264.24 1542.97 L1264.24 1548.85 L1259.35 1548.85 L1259.35 1542.97 Z\" fill=\"#f8f8f2\" fill-rule=\"nonzero\" fill-opacity=\"1\" /><path clip-path=\"url(#clip500)\" d=\"M1274.47 1514.29 L1292.83 1514.29 L1292.83 1518.22 L1278.75 1518.22 L1278.75 1526.7 Q1279.77 1526.35 1280.79 1526.19 Q1281.81 1526 1282.83 1526 Q1288.61 1526 1291.99 1529.17 Q1295.37 1532.34 1295.37 1537.76 Q1295.37 1543.34 1291.9 1546.44 Q1288.43 1549.52 1282.11 1549.52 Q1279.93 1549.52 1277.66 1549.15 Q1275.42 1548.78 1273.01 1548.04 L1273.01 1543.34 Q1275.09 1544.47 1277.32 1545.03 Q1279.54 1545.58 1282.01 1545.58 Q1286.02 1545.58 1288.36 1543.48 Q1290.7 1541.37 1290.7 1537.76 Q1290.7 1534.15 1288.36 1532.04 Q1286.02 1529.94 1282.01 1529.94 Q1280.14 1529.94 1278.26 1530.35 Q1276.41 1530.77 1274.47 1531.65 L1274.47 1514.29 Z\" fill=\"#f8f8f2\" fill-rule=\"nonzero\" fill-opacity=\"1\" /><path clip-path=\"url(#clip500)\" d=\"M1314.58 1517.37 Q1310.97 1517.37 1309.14 1520.93 Q1307.34 1524.47 1307.34 1531.6 Q1307.34 1538.71 1309.14 1542.27 Q1310.97 1545.82 1314.58 1545.82 Q1318.22 1545.82 1320.02 1542.27 Q1321.85 1538.71 1321.85 1531.6 Q1321.85 1524.47 1320.02 1520.93 Q1318.22 1517.37 1314.58 1517.37 M1314.58 1513.66 Q1320.39 1513.66 1323.45 1518.27 Q1326.53 1522.85 1326.53 1531.6 Q1326.53 1540.33 1323.45 1544.94 Q1320.39 1549.52 1314.58 1549.52 Q1308.77 1549.52 1305.7 1544.94 Q1302.64 1540.33 1302.64 1531.6 Q1302.64 1522.85 1305.7 1518.27 Q1308.77 1513.66 1314.58 1513.66 Z\" fill=\"#f8f8f2\" fill-rule=\"nonzero\" fill-opacity=\"1\" /><path clip-path=\"url(#clip500)\" d=\"M1718.45 1517.37 Q1714.84 1517.37 1713.01 1520.93 Q1711.2 1524.47 1711.2 1531.6 Q1711.2 1538.71 1713.01 1542.27 Q1714.84 1545.82 1718.45 1545.82 Q1722.08 1545.82 1723.89 1542.27 Q1725.72 1538.71 1725.72 1531.6 Q1725.72 1524.47 1723.89 1520.93 Q1722.08 1517.37 1718.45 1517.37 M1718.45 1513.66 Q1724.26 1513.66 1727.31 1518.27 Q1730.39 1522.85 1730.39 1531.6 Q1730.39 1540.33 1727.31 1544.94 Q1724.26 1549.52 1718.45 1549.52 Q1712.64 1549.52 1709.56 1544.94 Q1706.5 1540.33 1706.5 1531.6 Q1706.5 1522.85 1709.56 1518.27 Q1712.64 1513.66 1718.45 1513.66 Z\" fill=\"#f8f8f2\" fill-rule=\"nonzero\" fill-opacity=\"1\" /><path clip-path=\"url(#clip500)\" d=\"M1738.61 1542.97 L1743.49 1542.97 L1743.49 1548.85 L1738.61 1548.85 L1738.61 1542.97 Z\" fill=\"#f8f8f2\" fill-rule=\"nonzero\" fill-opacity=\"1\" /><path clip-path=\"url(#clip500)\" d=\"M1752.5 1514.29 L1774.72 1514.29 L1774.72 1516.28 L1762.17 1548.85 L1757.29 1548.85 L1769.1 1518.22 L1752.5 1518.22 L1752.5 1514.29 Z\" fill=\"#f8f8f2\" fill-rule=\"nonzero\" fill-opacity=\"1\" /><path clip-path=\"url(#clip500)\" d=\"M1783.89 1514.29 L1802.24 1514.29 L1802.24 1518.22 L1788.17 1518.22 L1788.17 1526.7 Q1789.19 1526.35 1790.21 1526.19 Q1791.23 1526 1792.24 1526 Q1798.03 1526 1801.41 1529.17 Q1804.79 1532.34 1804.79 1537.76 Q1804.79 1543.34 1801.32 1546.44 Q1797.85 1549.52 1791.53 1549.52 Q1789.35 1549.52 1787.08 1549.15 Q1784.84 1548.78 1782.43 1548.04 L1782.43 1543.34 Q1784.51 1544.47 1786.73 1545.03 Q1788.96 1545.58 1791.43 1545.58 Q1795.44 1545.58 1797.78 1543.48 Q1800.11 1541.37 1800.11 1537.76 Q1800.11 1534.15 1797.78 1532.04 Q1795.44 1529.94 1791.43 1529.94 Q1789.56 1529.94 1787.68 1530.35 Q1785.83 1530.77 1783.89 1531.65 L1783.89 1514.29 Z\" fill=\"#f8f8f2\" fill-rule=\"nonzero\" fill-opacity=\"1\" /><path clip-path=\"url(#clip500)\" d=\"M2186.48 1544.91 L2194.12 1544.91 L2194.12 1518.55 L2185.81 1520.21 L2185.81 1515.95 L2194.07 1514.29 L2198.75 1514.29 L2198.75 1544.91 L2206.39 1544.91 L2206.39 1548.85 L2186.48 1548.85 L2186.48 1544.91 Z\" fill=\"#f8f8f2\" fill-rule=\"nonzero\" fill-opacity=\"1\" /><path clip-path=\"url(#clip500)\" d=\"M2215.83 1542.97 L2220.71 1542.97 L2220.71 1548.85 L2215.83 1548.85 L2215.83 1542.97 Z\" fill=\"#f8f8f2\" fill-rule=\"nonzero\" fill-opacity=\"1\" /><path clip-path=\"url(#clip500)\" d=\"M2240.9 1517.37 Q2237.29 1517.37 2235.46 1520.93 Q2233.65 1524.47 2233.65 1531.6 Q2233.65 1538.71 2235.46 1542.27 Q2237.29 1545.82 2240.9 1545.82 Q2244.53 1545.82 2246.34 1542.27 Q2248.17 1538.71 2248.17 1531.6 Q2248.17 1524.47 2246.34 1520.93 Q2244.53 1517.37 2240.9 1517.37 M2240.9 1513.66 Q2246.71 1513.66 2249.77 1518.27 Q2252.84 1522.85 2252.84 1531.6 Q2252.84 1540.33 2249.77 1544.94 Q2246.71 1549.52 2240.9 1549.52 Q2235.09 1549.52 2232.01 1544.94 Q2228.96 1540.33 2228.96 1531.6 Q2228.96 1522.85 2232.01 1518.27 Q2235.09 1513.66 2240.9 1513.66 Z\" fill=\"#f8f8f2\" fill-rule=\"nonzero\" fill-opacity=\"1\" /><path clip-path=\"url(#clip500)\" d=\"M2271.06 1517.37 Q2267.45 1517.37 2265.62 1520.93 Q2263.82 1524.47 2263.82 1531.6 Q2263.82 1538.71 2265.62 1542.27 Q2267.45 1545.82 2271.06 1545.82 Q2274.7 1545.82 2276.5 1542.27 Q2278.33 1538.71 2278.33 1531.6 Q2278.33 1524.47 2276.5 1520.93 Q2274.7 1517.37 2271.06 1517.37 M2271.06 1513.66 Q2276.87 1513.66 2279.93 1518.27 Q2283.01 1522.85 2283.01 1531.6 Q2283.01 1540.33 2279.93 1544.94 Q2276.87 1549.52 2271.06 1549.52 Q2265.25 1549.52 2262.17 1544.94 Q2259.12 1540.33 2259.12 1531.6 Q2259.12 1522.85 2262.17 1518.27 Q2265.25 1513.66 2271.06 1513.66 Z\" fill=\"#f8f8f2\" fill-rule=\"nonzero\" fill-opacity=\"1\" /><polyline clip-path=\"url(#clip500)\" style=\"stroke:#f8f8f2; stroke-linecap:round; stroke-linejoin:round; stroke-width:4; stroke-opacity:1; fill:none\" points=\"201.019,1486.45 201.019,47.2441 \"/>\n",
       "<polyline clip-path=\"url(#clip500)\" style=\"stroke:#f8f8f2; stroke-linecap:round; stroke-linejoin:round; stroke-width:4; stroke-opacity:1; fill:none\" points=\"201.019,1486.45 219.917,1486.45 \"/>\n",
       "<polyline clip-path=\"url(#clip500)\" style=\"stroke:#f8f8f2; stroke-linecap:round; stroke-linejoin:round; stroke-width:4; stroke-opacity:1; fill:none\" points=\"201.019,1148.29 219.917,1148.29 \"/>\n",
       "<polyline clip-path=\"url(#clip500)\" style=\"stroke:#f8f8f2; stroke-linecap:round; stroke-linejoin:round; stroke-width:4; stroke-opacity:1; fill:none\" points=\"201.019,810.13 219.917,810.13 \"/>\n",
       "<polyline clip-path=\"url(#clip500)\" style=\"stroke:#f8f8f2; stroke-linecap:round; stroke-linejoin:round; stroke-width:4; stroke-opacity:1; fill:none\" points=\"201.019,471.972 219.917,471.972 \"/>\n",
       "<polyline clip-path=\"url(#clip500)\" style=\"stroke:#f8f8f2; stroke-linecap:round; stroke-linejoin:round; stroke-width:4; stroke-opacity:1; fill:none\" points=\"201.019,133.813 219.917,133.813 \"/>\n",
       "<path clip-path=\"url(#clip500)\" d=\"M153.075 1472.25 Q149.464 1472.25 147.635 1475.81 Q145.83 1479.35 145.83 1486.48 Q145.83 1493.59 147.635 1497.15 Q149.464 1500.7 153.075 1500.7 Q156.709 1500.7 158.515 1497.15 Q160.343 1493.59 160.343 1486.48 Q160.343 1479.35 158.515 1475.81 Q156.709 1472.25 153.075 1472.25 M153.075 1468.54 Q158.885 1468.54 161.941 1473.15 Q165.019 1477.73 165.019 1486.48 Q165.019 1495.21 161.941 1499.82 Q158.885 1504.4 153.075 1504.4 Q147.265 1504.4 144.186 1499.82 Q141.131 1495.21 141.131 1486.48 Q141.131 1477.73 144.186 1473.15 Q147.265 1468.54 153.075 1468.54 Z\" fill=\"#f8f8f2\" fill-rule=\"nonzero\" fill-opacity=\"1\" /><path clip-path=\"url(#clip500)\" d=\"M82.7975 1131.01 L101.154 1131.01 L101.154 1134.94 L87.0799 1134.94 L87.0799 1143.42 Q88.0984 1143.07 89.1169 1142.91 Q90.1354 1142.72 91.1539 1142.72 Q96.941 1142.72 100.321 1145.89 Q103.7 1149.06 103.7 1154.48 Q103.7 1160.06 100.228 1163.16 Q96.7558 1166.24 90.4364 1166.24 Q88.2604 1166.24 85.9919 1165.87 Q83.7466 1165.5 81.3392 1164.76 L81.3392 1160.06 Q83.4225 1161.19 85.6447 1161.75 Q87.8669 1162.31 90.3438 1162.31 Q94.3484 1162.31 96.6863 1160.2 Q99.0243 1158.09 99.0243 1154.48 Q99.0243 1150.87 96.6863 1148.76 Q94.3484 1146.66 90.3438 1146.66 Q88.4688 1146.66 86.5938 1147.07 Q84.7419 1147.49 82.7975 1148.37 L82.7975 1131.01 Z\" fill=\"#f8f8f2\" fill-rule=\"nonzero\" fill-opacity=\"1\" /><path clip-path=\"url(#clip500)\" d=\"M122.913 1134.09 Q119.302 1134.09 117.473 1137.65 Q115.668 1141.19 115.668 1148.32 Q115.668 1155.43 117.473 1159 Q119.302 1162.54 122.913 1162.54 Q126.547 1162.54 128.353 1159 Q130.182 1155.43 130.182 1148.32 Q130.182 1141.19 128.353 1137.65 Q126.547 1134.09 122.913 1134.09 M122.913 1130.38 Q128.723 1130.38 131.779 1134.99 Q134.857 1139.57 134.857 1148.32 Q134.857 1157.05 131.779 1161.66 Q128.723 1166.24 122.913 1166.24 Q117.103 1166.24 114.024 1161.66 Q110.969 1157.05 110.969 1148.32 Q110.969 1139.57 114.024 1134.99 Q117.103 1130.38 122.913 1130.38 Z\" fill=\"#f8f8f2\" fill-rule=\"nonzero\" fill-opacity=\"1\" /><path clip-path=\"url(#clip500)\" d=\"M153.075 1134.09 Q149.464 1134.09 147.635 1137.65 Q145.83 1141.19 145.83 1148.32 Q145.83 1155.43 147.635 1159 Q149.464 1162.54 153.075 1162.54 Q156.709 1162.54 158.515 1159 Q160.343 1155.43 160.343 1148.32 Q160.343 1141.19 158.515 1137.65 Q156.709 1134.09 153.075 1134.09 M153.075 1130.38 Q158.885 1130.38 161.941 1134.99 Q165.019 1139.57 165.019 1148.32 Q165.019 1157.05 161.941 1161.66 Q158.885 1166.24 153.075 1166.24 Q147.265 1166.24 144.186 1161.66 Q141.131 1157.05 141.131 1148.32 Q141.131 1139.57 144.186 1134.99 Q147.265 1130.38 153.075 1130.38 Z\" fill=\"#f8f8f2\" fill-rule=\"nonzero\" fill-opacity=\"1\" /><path clip-path=\"url(#clip500)\" d=\"M53.3995 823.475 L61.0384 823.475 L61.0384 797.11 L52.7282 798.776 L52.7282 794.517 L60.9921 792.85 L65.668 792.85 L65.668 823.475 L73.3068 823.475 L73.3068 827.41 L53.3995 827.41 L53.3995 823.475 Z\" fill=\"#f8f8f2\" fill-rule=\"nonzero\" fill-opacity=\"1\" /><path clip-path=\"url(#clip500)\" d=\"M92.7512 795.929 Q89.1401 795.929 87.3114 799.494 Q85.5058 803.035 85.5058 810.165 Q85.5058 817.271 87.3114 820.836 Q89.1401 824.378 92.7512 824.378 Q96.3854 824.378 98.1909 820.836 Q100.02 817.271 100.02 810.165 Q100.02 803.035 98.1909 799.494 Q96.3854 795.929 92.7512 795.929 M92.7512 792.225 Q98.5613 792.225 101.617 796.832 Q104.696 801.415 104.696 810.165 Q104.696 818.892 101.617 823.498 Q98.5613 828.082 92.7512 828.082 Q86.941 828.082 83.8623 823.498 Q80.8068 818.892 80.8068 810.165 Q80.8068 801.415 83.8623 796.832 Q86.941 792.225 92.7512 792.225 Z\" fill=\"#f8f8f2\" fill-rule=\"nonzero\" fill-opacity=\"1\" /><path clip-path=\"url(#clip500)\" d=\"M122.913 795.929 Q119.302 795.929 117.473 799.494 Q115.668 803.035 115.668 810.165 Q115.668 817.271 117.473 820.836 Q119.302 824.378 122.913 824.378 Q126.547 824.378 128.353 820.836 Q130.182 817.271 130.182 810.165 Q130.182 803.035 128.353 799.494 Q126.547 795.929 122.913 795.929 M122.913 792.225 Q128.723 792.225 131.779 796.832 Q134.857 801.415 134.857 810.165 Q134.857 818.892 131.779 823.498 Q128.723 828.082 122.913 828.082 Q117.103 828.082 114.024 823.498 Q110.969 818.892 110.969 810.165 Q110.969 801.415 114.024 796.832 Q117.103 792.225 122.913 792.225 Z\" fill=\"#f8f8f2\" fill-rule=\"nonzero\" fill-opacity=\"1\" /><path clip-path=\"url(#clip500)\" d=\"M153.075 795.929 Q149.464 795.929 147.635 799.494 Q145.83 803.035 145.83 810.165 Q145.83 817.271 147.635 820.836 Q149.464 824.378 153.075 824.378 Q156.709 824.378 158.515 820.836 Q160.343 817.271 160.343 810.165 Q160.343 803.035 158.515 799.494 Q156.709 795.929 153.075 795.929 M153.075 792.225 Q158.885 792.225 161.941 796.832 Q165.019 801.415 165.019 810.165 Q165.019 818.892 161.941 823.498 Q158.885 828.082 153.075 828.082 Q147.265 828.082 144.186 823.498 Q141.131 818.892 141.131 810.165 Q141.131 801.415 144.186 796.832 Q147.265 792.225 153.075 792.225 Z\" fill=\"#f8f8f2\" fill-rule=\"nonzero\" fill-opacity=\"1\" /><path clip-path=\"url(#clip500)\" d=\"M53.3995 485.316 L61.0384 485.316 L61.0384 458.951 L52.7282 460.617 L52.7282 456.358 L60.9921 454.692 L65.668 454.692 L65.668 485.316 L73.3068 485.316 L73.3068 489.252 L53.3995 489.252 L53.3995 485.316 Z\" fill=\"#f8f8f2\" fill-rule=\"nonzero\" fill-opacity=\"1\" /><path clip-path=\"url(#clip500)\" d=\"M82.7975 454.692 L101.154 454.692 L101.154 458.627 L87.0799 458.627 L87.0799 467.099 Q88.0984 466.752 89.1169 466.59 Q90.1354 466.404 91.1539 466.404 Q96.941 466.404 100.321 469.576 Q103.7 472.747 103.7 478.164 Q103.7 483.742 100.228 486.844 Q96.7558 489.923 90.4364 489.923 Q88.2604 489.923 85.9919 489.552 Q83.7466 489.182 81.3392 488.441 L81.3392 483.742 Q83.4225 484.877 85.6447 485.432 Q87.8669 485.988 90.3438 485.988 Q94.3484 485.988 96.6863 483.881 Q99.0243 481.775 99.0243 478.164 Q99.0243 474.553 96.6863 472.446 Q94.3484 470.34 90.3438 470.34 Q88.4688 470.34 86.5938 470.756 Q84.7419 471.173 82.7975 472.053 L82.7975 454.692 Z\" fill=\"#f8f8f2\" fill-rule=\"nonzero\" fill-opacity=\"1\" /><path clip-path=\"url(#clip500)\" d=\"M122.913 457.77 Q119.302 457.77 117.473 461.335 Q115.668 464.877 115.668 472.006 Q115.668 479.113 117.473 482.677 Q119.302 486.219 122.913 486.219 Q126.547 486.219 128.353 482.677 Q130.182 479.113 130.182 472.006 Q130.182 464.877 128.353 461.335 Q126.547 457.77 122.913 457.77 M122.913 454.067 Q128.723 454.067 131.779 458.673 Q134.857 463.256 134.857 472.006 Q134.857 480.733 131.779 485.34 Q128.723 489.923 122.913 489.923 Q117.103 489.923 114.024 485.34 Q110.969 480.733 110.969 472.006 Q110.969 463.256 114.024 458.673 Q117.103 454.067 122.913 454.067 Z\" fill=\"#f8f8f2\" fill-rule=\"nonzero\" fill-opacity=\"1\" /><path clip-path=\"url(#clip500)\" d=\"M153.075 457.77 Q149.464 457.77 147.635 461.335 Q145.83 464.877 145.83 472.006 Q145.83 479.113 147.635 482.677 Q149.464 486.219 153.075 486.219 Q156.709 486.219 158.515 482.677 Q160.343 479.113 160.343 472.006 Q160.343 464.877 158.515 461.335 Q156.709 457.77 153.075 457.77 M153.075 454.067 Q158.885 454.067 161.941 458.673 Q165.019 463.256 165.019 472.006 Q165.019 480.733 161.941 485.34 Q158.885 489.923 153.075 489.923 Q147.265 489.923 144.186 485.34 Q141.131 480.733 141.131 472.006 Q141.131 463.256 144.186 458.673 Q147.265 454.067 153.075 454.067 Z\" fill=\"#f8f8f2\" fill-rule=\"nonzero\" fill-opacity=\"1\" /><path clip-path=\"url(#clip500)\" d=\"M56.6171 147.158 L72.9365 147.158 L72.9365 151.093 L50.9921 151.093 L50.9921 147.158 Q53.6541 144.403 58.2375 139.773 Q62.8439 135.121 64.0245 133.778 Q66.2698 131.255 67.1494 129.519 Q68.0522 127.76 68.0522 126.07 Q68.0522 123.315 66.1078 121.579 Q64.1865 119.843 61.0847 119.843 Q58.8856 119.843 56.4319 120.607 Q54.0014 121.371 51.2236 122.922 L51.2236 118.199 Q54.0477 117.065 56.5014 116.486 Q58.955 115.908 60.9921 115.908 Q66.3624 115.908 69.5568 118.593 Q72.7513 121.278 72.7513 125.769 Q72.7513 127.898 71.9411 129.82 Q71.1541 131.718 69.0476 134.31 Q68.4689 134.982 65.367 138.199 Q62.2652 141.394 56.6171 147.158 Z\" fill=\"#f8f8f2\" fill-rule=\"nonzero\" fill-opacity=\"1\" /><path clip-path=\"url(#clip500)\" d=\"M92.7512 119.611 Q89.1401 119.611 87.3114 123.176 Q85.5058 126.718 85.5058 133.847 Q85.5058 140.954 87.3114 144.519 Q89.1401 148.06 92.7512 148.06 Q96.3854 148.06 98.1909 144.519 Q100.02 140.954 100.02 133.847 Q100.02 126.718 98.1909 123.176 Q96.3854 119.611 92.7512 119.611 M92.7512 115.908 Q98.5613 115.908 101.617 120.514 Q104.696 125.098 104.696 133.847 Q104.696 142.574 101.617 147.181 Q98.5613 151.764 92.7512 151.764 Q86.941 151.764 83.8623 147.181 Q80.8068 142.574 80.8068 133.847 Q80.8068 125.098 83.8623 120.514 Q86.941 115.908 92.7512 115.908 Z\" fill=\"#f8f8f2\" fill-rule=\"nonzero\" fill-opacity=\"1\" /><path clip-path=\"url(#clip500)\" d=\"M122.913 119.611 Q119.302 119.611 117.473 123.176 Q115.668 126.718 115.668 133.847 Q115.668 140.954 117.473 144.519 Q119.302 148.06 122.913 148.06 Q126.547 148.06 128.353 144.519 Q130.182 140.954 130.182 133.847 Q130.182 126.718 128.353 123.176 Q126.547 119.611 122.913 119.611 M122.913 115.908 Q128.723 115.908 131.779 120.514 Q134.857 125.098 134.857 133.847 Q134.857 142.574 131.779 147.181 Q128.723 151.764 122.913 151.764 Q117.103 151.764 114.024 147.181 Q110.969 142.574 110.969 133.847 Q110.969 125.098 114.024 120.514 Q117.103 115.908 122.913 115.908 Z\" fill=\"#f8f8f2\" fill-rule=\"nonzero\" fill-opacity=\"1\" /><path clip-path=\"url(#clip500)\" d=\"M153.075 119.611 Q149.464 119.611 147.635 123.176 Q145.83 126.718 145.83 133.847 Q145.83 140.954 147.635 144.519 Q149.464 148.06 153.075 148.06 Q156.709 148.06 158.515 144.519 Q160.343 140.954 160.343 133.847 Q160.343 126.718 158.515 123.176 Q156.709 119.611 153.075 119.611 M153.075 115.908 Q158.885 115.908 161.941 120.514 Q165.019 125.098 165.019 133.847 Q165.019 142.574 161.941 147.181 Q158.885 151.764 153.075 151.764 Q147.265 151.764 144.186 147.181 Q141.131 142.574 141.131 133.847 Q141.131 125.098 144.186 120.514 Q147.265 115.908 153.075 115.908 Z\" fill=\"#f8f8f2\" fill-rule=\"nonzero\" fill-opacity=\"1\" /><path clip-path=\"url(#clip502)\" d=\"M319.369 152.073 L319.369 1486.45 L357.669 1486.45 L357.669 152.073 L319.369 152.073 L319.369 152.073  Z\" fill=\"#8be9fd\" fill-rule=\"evenodd\" fill-opacity=\"1\"/>\n",
       "<polyline clip-path=\"url(#clip502)\" style=\"stroke:#f8f8f2; stroke-linecap:round; stroke-linejoin:round; stroke-width:4; stroke-opacity:1; fill:none\" points=\"319.369,152.073 319.369,1486.45 357.669,1486.45 357.669,152.073 319.369,152.073 \"/>\n",
       "<path clip-path=\"url(#clip502)\" d=\"M357.669 123.668 L357.669 1486.45 L395.97 1486.45 L395.97 123.668 L357.669 123.668 L357.669 123.668  Z\" fill=\"#8be9fd\" fill-rule=\"evenodd\" fill-opacity=\"1\"/>\n",
       "<polyline clip-path=\"url(#clip502)\" style=\"stroke:#f8f8f2; stroke-linecap:round; stroke-linejoin:round; stroke-width:4; stroke-opacity:1; fill:none\" points=\"357.669,123.668 357.669,1486.45 395.97,1486.45 395.97,123.668 357.669,123.668 \"/>\n",
       "<path clip-path=\"url(#clip502)\" d=\"M395.97 64.152 L395.97 1486.45 L434.271 1486.45 L434.271 64.152 L395.97 64.152 L395.97 64.152  Z\" fill=\"#8be9fd\" fill-rule=\"evenodd\" fill-opacity=\"1\"/>\n",
       "<polyline clip-path=\"url(#clip502)\" style=\"stroke:#f8f8f2; stroke-linecap:round; stroke-linejoin:round; stroke-width:4; stroke-opacity:1; fill:none\" points=\"395.97,64.152 395.97,1486.45 434.271,1486.45 434.271,64.152 395.97,64.152 \"/>\n",
       "<path clip-path=\"url(#clip502)\" d=\"M434.271 148.692 L434.271 1486.45 L472.572 1486.45 L472.572 148.692 L434.271 148.692 L434.271 148.692  Z\" fill=\"#8be9fd\" fill-rule=\"evenodd\" fill-opacity=\"1\"/>\n",
       "<polyline clip-path=\"url(#clip502)\" style=\"stroke:#f8f8f2; stroke-linecap:round; stroke-linejoin:round; stroke-width:4; stroke-opacity:1; fill:none\" points=\"434.271,148.692 434.271,1486.45 472.572,1486.45 472.572,148.692 434.271,148.692 \"/>\n",
       "<path clip-path=\"url(#clip502)\" d=\"M472.572 138.547 L472.572 1486.45 L510.872 1486.45 L510.872 138.547 L472.572 138.547 L472.572 138.547  Z\" fill=\"#8be9fd\" fill-rule=\"evenodd\" fill-opacity=\"1\"/>\n",
       "<polyline clip-path=\"url(#clip502)\" style=\"stroke:#f8f8f2; stroke-linecap:round; stroke-linejoin:round; stroke-width:4; stroke-opacity:1; fill:none\" points=\"472.572,138.547 472.572,1486.45 510.872,1486.45 510.872,138.547 472.572,138.547 \"/>\n",
       "<path clip-path=\"url(#clip502)\" d=\"M510.872 124.344 L510.872 1486.45 L549.173 1486.45 L549.173 124.344 L510.872 124.344 L510.872 124.344  Z\" fill=\"#8be9fd\" fill-rule=\"evenodd\" fill-opacity=\"1\"/>\n",
       "<polyline clip-path=\"url(#clip502)\" style=\"stroke:#f8f8f2; stroke-linecap:round; stroke-linejoin:round; stroke-width:4; stroke-opacity:1; fill:none\" points=\"510.872,124.344 510.872,1486.45 549.173,1486.45 549.173,124.344 510.872,124.344 \"/>\n",
       "<path clip-path=\"url(#clip502)\" d=\"M549.173 92.5574 L549.173 1486.45 L587.474 1486.45 L587.474 92.5574 L549.173 92.5574 L549.173 92.5574  Z\" fill=\"#8be9fd\" fill-rule=\"evenodd\" fill-opacity=\"1\"/>\n",
       "<polyline clip-path=\"url(#clip502)\" style=\"stroke:#f8f8f2; stroke-linecap:round; stroke-linejoin:round; stroke-width:4; stroke-opacity:1; fill:none\" points=\"549.173,92.5574 549.173,1486.45 587.474,1486.45 587.474,92.5574 549.173,92.5574 \"/>\n",
       "<path clip-path=\"url(#clip502)\" d=\"M587.474 120.963 L587.474 1486.45 L625.775 1486.45 L625.775 120.963 L587.474 120.963 L587.474 120.963  Z\" fill=\"#8be9fd\" fill-rule=\"evenodd\" fill-opacity=\"1\"/>\n",
       "<polyline clip-path=\"url(#clip502)\" style=\"stroke:#f8f8f2; stroke-linecap:round; stroke-linejoin:round; stroke-width:4; stroke-opacity:1; fill:none\" points=\"587.474,120.963 587.474,1486.45 625.775,1486.45 625.775,120.963 587.474,120.963 \"/>\n",
       "<path clip-path=\"url(#clip502)\" d=\"M625.775 168.981 L625.775 1486.45 L664.075 1486.45 L664.075 168.981 L625.775 168.981 L625.775 168.981  Z\" fill=\"#8be9fd\" fill-rule=\"evenodd\" fill-opacity=\"1\"/>\n",
       "<polyline clip-path=\"url(#clip502)\" style=\"stroke:#f8f8f2; stroke-linecap:round; stroke-linejoin:round; stroke-width:4; stroke-opacity:1; fill:none\" points=\"625.775,168.981 625.775,1486.45 664.075,1486.45 664.075,168.981 625.775,168.981 \"/>\n",
       "<path clip-path=\"url(#clip502)\" d=\"M664.075 144.634 L664.075 1486.45 L702.376 1486.45 L702.376 144.634 L664.075 144.634 L664.075 144.634  Z\" fill=\"#8be9fd\" fill-rule=\"evenodd\" fill-opacity=\"1\"/>\n",
       "<polyline clip-path=\"url(#clip502)\" style=\"stroke:#f8f8f2; stroke-linecap:round; stroke-linejoin:round; stroke-width:4; stroke-opacity:1; fill:none\" points=\"664.075,144.634 664.075,1486.45 702.376,1486.45 702.376,144.634 664.075,144.634 \"/>\n",
       "<path clip-path=\"url(#clip502)\" d=\"M702.376 97.9679 L702.376 1486.45 L740.677 1486.45 L740.677 97.9679 L702.376 97.9679 L702.376 97.9679  Z\" fill=\"#8be9fd\" fill-rule=\"evenodd\" fill-opacity=\"1\"/>\n",
       "<polyline clip-path=\"url(#clip502)\" style=\"stroke:#f8f8f2; stroke-linecap:round; stroke-linejoin:round; stroke-width:4; stroke-opacity:1; fill:none\" points=\"702.376,97.9679 702.376,1486.45 740.677,1486.45 740.677,97.9679 702.376,97.9679 \"/>\n",
       "<path clip-path=\"url(#clip502)\" d=\"M740.677 76.3257 L740.677 1486.45 L778.978 1486.45 L778.978 76.3257 L740.677 76.3257 L740.677 76.3257  Z\" fill=\"#8be9fd\" fill-rule=\"evenodd\" fill-opacity=\"1\"/>\n",
       "<polyline clip-path=\"url(#clip502)\" style=\"stroke:#f8f8f2; stroke-linecap:round; stroke-linejoin:round; stroke-width:4; stroke-opacity:1; fill:none\" points=\"740.677,76.3257 740.677,1486.45 778.978,1486.45 778.978,76.3257 740.677,76.3257 \"/>\n",
       "<path clip-path=\"url(#clip502)\" d=\"M778.978 93.2337 L778.978 1486.45 L817.278 1486.45 L817.278 93.2337 L778.978 93.2337 L778.978 93.2337  Z\" fill=\"#8be9fd\" fill-rule=\"evenodd\" fill-opacity=\"1\"/>\n",
       "<polyline clip-path=\"url(#clip502)\" style=\"stroke:#f8f8f2; stroke-linecap:round; stroke-linejoin:round; stroke-width:4; stroke-opacity:1; fill:none\" points=\"778.978,93.2337 778.978,1486.45 817.278,1486.45 817.278,93.2337 778.978,93.2337 \"/>\n",
       "<path clip-path=\"url(#clip502)\" d=\"M817.278 88.4995 L817.278 1486.45 L855.579 1486.45 L855.579 88.4995 L817.278 88.4995 L817.278 88.4995  Z\" fill=\"#8be9fd\" fill-rule=\"evenodd\" fill-opacity=\"1\"/>\n",
       "<polyline clip-path=\"url(#clip502)\" style=\"stroke:#f8f8f2; stroke-linecap:round; stroke-linejoin:round; stroke-width:4; stroke-opacity:1; fill:none\" points=\"817.278,88.4995 817.278,1486.45 855.579,1486.45 855.579,88.4995 817.278,88.4995 \"/>\n",
       "<path clip-path=\"url(#clip502)\" d=\"M855.579 158.16 L855.579 1486.45 L893.88 1486.45 L893.88 158.16 L855.579 158.16 L855.579 158.16  Z\" fill=\"#8be9fd\" fill-rule=\"evenodd\" fill-opacity=\"1\"/>\n",
       "<polyline clip-path=\"url(#clip502)\" style=\"stroke:#f8f8f2; stroke-linecap:round; stroke-linejoin:round; stroke-width:4; stroke-opacity:1; fill:none\" points=\"855.579,158.16 855.579,1486.45 893.88,1486.45 893.88,158.16 855.579,158.16 \"/>\n",
       "<path clip-path=\"url(#clip502)\" d=\"M893.88 140.576 L893.88 1486.45 L932.181 1486.45 L932.181 140.576 L893.88 140.576 L893.88 140.576  Z\" fill=\"#8be9fd\" fill-rule=\"evenodd\" fill-opacity=\"1\"/>\n",
       "<polyline clip-path=\"url(#clip502)\" style=\"stroke:#f8f8f2; stroke-linecap:round; stroke-linejoin:round; stroke-width:4; stroke-opacity:1; fill:none\" points=\"893.88,140.576 893.88,1486.45 932.181,1486.45 932.181,140.576 893.88,140.576 \"/>\n",
       "<path clip-path=\"url(#clip502)\" d=\"M932.181 191.976 L932.181 1486.45 L970.482 1486.45 L970.482 191.976 L932.181 191.976 L932.181 191.976  Z\" fill=\"#8be9fd\" fill-rule=\"evenodd\" fill-opacity=\"1\"/>\n",
       "<polyline clip-path=\"url(#clip502)\" style=\"stroke:#f8f8f2; stroke-linecap:round; stroke-linejoin:round; stroke-width:4; stroke-opacity:1; fill:none\" points=\"932.181,191.976 932.181,1486.45 970.482,1486.45 970.482,191.976 932.181,191.976 \"/>\n",
       "<path clip-path=\"url(#clip502)\" d=\"M970.482 214.295 L970.482 1486.45 L1008.78 1486.45 L1008.78 214.295 L970.482 214.295 L970.482 214.295  Z\" fill=\"#8be9fd\" fill-rule=\"evenodd\" fill-opacity=\"1\"/>\n",
       "<polyline clip-path=\"url(#clip502)\" style=\"stroke:#f8f8f2; stroke-linecap:round; stroke-linejoin:round; stroke-width:4; stroke-opacity:1; fill:none\" points=\"970.482,214.295 970.482,1486.45 1008.78,1486.45 1008.78,214.295 970.482,214.295 \"/>\n",
       "<path clip-path=\"url(#clip502)\" d=\"M1008.78 129.755 L1008.78 1486.45 L1047.08 1486.45 L1047.08 129.755 L1008.78 129.755 L1008.78 129.755  Z\" fill=\"#8be9fd\" fill-rule=\"evenodd\" fill-opacity=\"1\"/>\n",
       "<polyline clip-path=\"url(#clip502)\" style=\"stroke:#f8f8f2; stroke-linecap:round; stroke-linejoin:round; stroke-width:4; stroke-opacity:1; fill:none\" points=\"1008.78,129.755 1008.78,1486.45 1047.08,1486.45 1047.08,129.755 1008.78,129.755 \"/>\n",
       "<path clip-path=\"url(#clip502)\" d=\"M1047.08 136.518 L1047.08 1486.45 L1085.38 1486.45 L1085.38 136.518 L1047.08 136.518 L1047.08 136.518  Z\" fill=\"#8be9fd\" fill-rule=\"evenodd\" fill-opacity=\"1\"/>\n",
       "<polyline clip-path=\"url(#clip502)\" style=\"stroke:#f8f8f2; stroke-linecap:round; stroke-linejoin:round; stroke-width:4; stroke-opacity:1; fill:none\" points=\"1047.08,136.518 1047.08,1486.45 1085.38,1486.45 1085.38,136.518 1047.08,136.518 \"/>\n",
       "<path clip-path=\"url(#clip502)\" d=\"M1085.38 140.576 L1085.38 1486.45 L1123.68 1486.45 L1123.68 140.576 L1085.38 140.576 L1085.38 140.576  Z\" fill=\"#8be9fd\" fill-rule=\"evenodd\" fill-opacity=\"1\"/>\n",
       "<polyline clip-path=\"url(#clip502)\" style=\"stroke:#f8f8f2; stroke-linecap:round; stroke-linejoin:round; stroke-width:4; stroke-opacity:1; fill:none\" points=\"1085.38,140.576 1085.38,1486.45 1123.68,1486.45 1123.68,140.576 1085.38,140.576 \"/>\n",
       "<path clip-path=\"url(#clip502)\" d=\"M1123.68 165.6 L1123.68 1486.45 L1161.99 1486.45 L1161.99 165.6 L1123.68 165.6 L1123.68 165.6  Z\" fill=\"#8be9fd\" fill-rule=\"evenodd\" fill-opacity=\"1\"/>\n",
       "<polyline clip-path=\"url(#clip502)\" style=\"stroke:#f8f8f2; stroke-linecap:round; stroke-linejoin:round; stroke-width:4; stroke-opacity:1; fill:none\" points=\"1123.68,165.6 1123.68,1486.45 1161.99,1486.45 1161.99,165.6 1123.68,165.6 \"/>\n",
       "<path clip-path=\"url(#clip502)\" d=\"M1161.99 198.739 L1161.99 1486.45 L1200.29 1486.45 L1200.29 198.739 L1161.99 198.739 L1161.99 198.739  Z\" fill=\"#8be9fd\" fill-rule=\"evenodd\" fill-opacity=\"1\"/>\n",
       "<polyline clip-path=\"url(#clip502)\" style=\"stroke:#f8f8f2; stroke-linecap:round; stroke-linejoin:round; stroke-width:4; stroke-opacity:1; fill:none\" points=\"1161.99,198.739 1161.99,1486.45 1200.29,1486.45 1200.29,198.739 1161.99,198.739 \"/>\n",
       "<path clip-path=\"url(#clip502)\" d=\"M1200.29 171.01 L1200.29 1486.45 L1238.59 1486.45 L1238.59 171.01 L1200.29 171.01 L1200.29 171.01  Z\" fill=\"#8be9fd\" fill-rule=\"evenodd\" fill-opacity=\"1\"/>\n",
       "<polyline clip-path=\"url(#clip502)\" style=\"stroke:#f8f8f2; stroke-linecap:round; stroke-linejoin:round; stroke-width:4; stroke-opacity:1; fill:none\" points=\"1200.29,171.01 1200.29,1486.45 1238.59,1486.45 1238.59,171.01 1200.29,171.01 \"/>\n",
       "<path clip-path=\"url(#clip502)\" d=\"M1238.59 173.715 L1238.59 1486.45 L1276.89 1486.45 L1276.89 173.715 L1238.59 173.715 L1238.59 173.715  Z\" fill=\"#8be9fd\" fill-rule=\"evenodd\" fill-opacity=\"1\"/>\n",
       "<polyline clip-path=\"url(#clip502)\" style=\"stroke:#f8f8f2; stroke-linecap:round; stroke-linejoin:round; stroke-width:4; stroke-opacity:1; fill:none\" points=\"1238.59,173.715 1238.59,1486.45 1276.89,1486.45 1276.89,173.715 1238.59,173.715 \"/>\n",
       "<path clip-path=\"url(#clip502)\" d=\"M1276.89 123.668 L1276.89 1486.45 L1315.19 1486.45 L1315.19 123.668 L1276.89 123.668 L1276.89 123.668  Z\" fill=\"#8be9fd\" fill-rule=\"evenodd\" fill-opacity=\"1\"/>\n",
       "<polyline clip-path=\"url(#clip502)\" style=\"stroke:#f8f8f2; stroke-linecap:round; stroke-linejoin:round; stroke-width:4; stroke-opacity:1; fill:none\" points=\"1276.89,123.668 1276.89,1486.45 1315.19,1486.45 1315.19,123.668 1276.89,123.668 \"/>\n",
       "<path clip-path=\"url(#clip502)\" d=\"M1315.19 118.257 L1315.19 1486.45 L1353.49 1486.45 L1353.49 118.257 L1315.19 118.257 L1315.19 118.257  Z\" fill=\"#8be9fd\" fill-rule=\"evenodd\" fill-opacity=\"1\"/>\n",
       "<polyline clip-path=\"url(#clip502)\" style=\"stroke:#f8f8f2; stroke-linecap:round; stroke-linejoin:round; stroke-width:4; stroke-opacity:1; fill:none\" points=\"1315.19,118.257 1315.19,1486.45 1353.49,1486.45 1353.49,118.257 1315.19,118.257 \"/>\n",
       "<path clip-path=\"url(#clip502)\" d=\"M1353.49 129.755 L1353.49 1486.45 L1391.79 1486.45 L1391.79 129.755 L1353.49 129.755 L1353.49 129.755  Z\" fill=\"#8be9fd\" fill-rule=\"evenodd\" fill-opacity=\"1\"/>\n",
       "<polyline clip-path=\"url(#clip502)\" style=\"stroke:#f8f8f2; stroke-linecap:round; stroke-linejoin:round; stroke-width:4; stroke-opacity:1; fill:none\" points=\"1353.49,129.755 1353.49,1486.45 1391.79,1486.45 1391.79,129.755 1353.49,129.755 \"/>\n",
       "<path clip-path=\"url(#clip502)\" d=\"M1391.79 99.9969 L1391.79 1486.45 L1430.09 1486.45 L1430.09 99.9969 L1391.79 99.9969 L1391.79 99.9969  Z\" fill=\"#8be9fd\" fill-rule=\"evenodd\" fill-opacity=\"1\"/>\n",
       "<polyline clip-path=\"url(#clip502)\" style=\"stroke:#f8f8f2; stroke-linecap:round; stroke-linejoin:round; stroke-width:4; stroke-opacity:1; fill:none\" points=\"1391.79,99.9969 1391.79,1486.45 1430.09,1486.45 1430.09,99.9969 1391.79,99.9969 \"/>\n",
       "<path clip-path=\"url(#clip502)\" d=\"M1430.09 161.542 L1430.09 1486.45 L1468.39 1486.45 L1468.39 161.542 L1430.09 161.542 L1430.09 161.542  Z\" fill=\"#8be9fd\" fill-rule=\"evenodd\" fill-opacity=\"1\"/>\n",
       "<polyline clip-path=\"url(#clip502)\" style=\"stroke:#f8f8f2; stroke-linecap:round; stroke-linejoin:round; stroke-width:4; stroke-opacity:1; fill:none\" points=\"1430.09,161.542 1430.09,1486.45 1468.39,1486.45 1468.39,161.542 1430.09,161.542 \"/>\n",
       "<path clip-path=\"url(#clip502)\" d=\"M1468.39 176.421 L1468.39 1486.45 L1506.69 1486.45 L1506.69 176.421 L1468.39 176.421 L1468.39 176.421  Z\" fill=\"#8be9fd\" fill-rule=\"evenodd\" fill-opacity=\"1\"/>\n",
       "<polyline clip-path=\"url(#clip502)\" style=\"stroke:#f8f8f2; stroke-linecap:round; stroke-linejoin:round; stroke-width:4; stroke-opacity:1; fill:none\" points=\"1468.39,176.421 1468.39,1486.45 1506.69,1486.45 1506.69,176.421 1468.39,176.421 \"/>\n",
       "<path clip-path=\"url(#clip502)\" d=\"M1506.69 151.397 L1506.69 1486.45 L1544.99 1486.45 L1544.99 151.397 L1506.69 151.397 L1506.69 151.397  Z\" fill=\"#8be9fd\" fill-rule=\"evenodd\" fill-opacity=\"1\"/>\n",
       "<polyline clip-path=\"url(#clip502)\" style=\"stroke:#f8f8f2; stroke-linecap:round; stroke-linejoin:round; stroke-width:4; stroke-opacity:1; fill:none\" points=\"1506.69,151.397 1506.69,1486.45 1544.99,1486.45 1544.99,151.397 1506.69,151.397 \"/>\n",
       "<path clip-path=\"url(#clip502)\" d=\"M1544.99 152.75 L1544.99 1486.45 L1583.29 1486.45 L1583.29 152.75 L1544.99 152.75 L1544.99 152.75  Z\" fill=\"#8be9fd\" fill-rule=\"evenodd\" fill-opacity=\"1\"/>\n",
       "<polyline clip-path=\"url(#clip502)\" style=\"stroke:#f8f8f2; stroke-linecap:round; stroke-linejoin:round; stroke-width:4; stroke-opacity:1; fill:none\" points=\"1544.99,152.75 1544.99,1486.45 1583.29,1486.45 1583.29,152.75 1544.99,152.75 \"/>\n",
       "<path clip-path=\"url(#clip502)\" d=\"M1583.29 103.378 L1583.29 1486.45 L1621.59 1486.45 L1621.59 103.378 L1583.29 103.378 L1583.29 103.378  Z\" fill=\"#8be9fd\" fill-rule=\"evenodd\" fill-opacity=\"1\"/>\n",
       "<polyline clip-path=\"url(#clip502)\" style=\"stroke:#f8f8f2; stroke-linecap:round; stroke-linejoin:round; stroke-width:4; stroke-opacity:1; fill:none\" points=\"1583.29,103.378 1583.29,1486.45 1621.59,1486.45 1621.59,103.378 1583.29,103.378 \"/>\n",
       "<path clip-path=\"url(#clip502)\" d=\"M1621.59 133.136 L1621.59 1486.45 L1659.9 1486.45 L1659.9 133.136 L1621.59 133.136 L1621.59 133.136  Z\" fill=\"#8be9fd\" fill-rule=\"evenodd\" fill-opacity=\"1\"/>\n",
       "<polyline clip-path=\"url(#clip502)\" style=\"stroke:#f8f8f2; stroke-linecap:round; stroke-linejoin:round; stroke-width:4; stroke-opacity:1; fill:none\" points=\"1621.59,133.136 1621.59,1486.45 1659.9,1486.45 1659.9,133.136 1621.59,133.136 \"/>\n",
       "<path clip-path=\"url(#clip502)\" d=\"M1659.9 175.744 L1659.9 1486.45 L1698.2 1486.45 L1698.2 175.744 L1659.9 175.744 L1659.9 175.744  Z\" fill=\"#8be9fd\" fill-rule=\"evenodd\" fill-opacity=\"1\"/>\n",
       "<polyline clip-path=\"url(#clip502)\" style=\"stroke:#f8f8f2; stroke-linecap:round; stroke-linejoin:round; stroke-width:4; stroke-opacity:1; fill:none\" points=\"1659.9,175.744 1659.9,1486.45 1698.2,1486.45 1698.2,175.744 1659.9,175.744 \"/>\n",
       "<path clip-path=\"url(#clip502)\" d=\"M1698.2 105.407 L1698.2 1486.45 L1736.5 1486.45 L1736.5 105.407 L1698.2 105.407 L1698.2 105.407  Z\" fill=\"#8be9fd\" fill-rule=\"evenodd\" fill-opacity=\"1\"/>\n",
       "<polyline clip-path=\"url(#clip502)\" style=\"stroke:#f8f8f2; stroke-linecap:round; stroke-linejoin:round; stroke-width:4; stroke-opacity:1; fill:none\" points=\"1698.2,105.407 1698.2,1486.45 1736.5,1486.45 1736.5,105.407 1698.2,105.407 \"/>\n",
       "<path clip-path=\"url(#clip502)\" d=\"M1736.5 133.813 L1736.5 1486.45 L1774.8 1486.45 L1774.8 133.813 L1736.5 133.813 L1736.5 133.813  Z\" fill=\"#8be9fd\" fill-rule=\"evenodd\" fill-opacity=\"1\"/>\n",
       "<polyline clip-path=\"url(#clip502)\" style=\"stroke:#f8f8f2; stroke-linecap:round; stroke-linejoin:round; stroke-width:4; stroke-opacity:1; fill:none\" points=\"1736.5,133.813 1736.5,1486.45 1774.8,1486.45 1774.8,133.813 1736.5,133.813 \"/>\n",
       "<path clip-path=\"url(#clip502)\" d=\"M1774.8 148.015 L1774.8 1486.45 L1813.1 1486.45 L1813.1 148.015 L1774.8 148.015 L1774.8 148.015  Z\" fill=\"#8be9fd\" fill-rule=\"evenodd\" fill-opacity=\"1\"/>\n",
       "<polyline clip-path=\"url(#clip502)\" style=\"stroke:#f8f8f2; stroke-linecap:round; stroke-linejoin:round; stroke-width:4; stroke-opacity:1; fill:none\" points=\"1774.8,148.015 1774.8,1486.45 1813.1,1486.45 1813.1,148.015 1774.8,148.015 \"/>\n",
       "<path clip-path=\"url(#clip502)\" d=\"M1813.1 123.668 L1813.1 1486.45 L1851.4 1486.45 L1851.4 123.668 L1813.1 123.668 L1813.1 123.668  Z\" fill=\"#8be9fd\" fill-rule=\"evenodd\" fill-opacity=\"1\"/>\n",
       "<polyline clip-path=\"url(#clip502)\" style=\"stroke:#f8f8f2; stroke-linecap:round; stroke-linejoin:round; stroke-width:4; stroke-opacity:1; fill:none\" points=\"1813.1,123.668 1813.1,1486.45 1851.4,1486.45 1851.4,123.668 1813.1,123.668 \"/>\n",
       "<path clip-path=\"url(#clip502)\" d=\"M1851.4 47.2441 L1851.4 1486.45 L1889.7 1486.45 L1889.7 47.2441 L1851.4 47.2441 L1851.4 47.2441  Z\" fill=\"#8be9fd\" fill-rule=\"evenodd\" fill-opacity=\"1\"/>\n",
       "<polyline clip-path=\"url(#clip502)\" style=\"stroke:#f8f8f2; stroke-linecap:round; stroke-linejoin:round; stroke-width:4; stroke-opacity:1; fill:none\" points=\"1851.4,47.2441 1851.4,1486.45 1889.7,1486.45 1889.7,47.2441 1851.4,47.2441 \"/>\n",
       "<path clip-path=\"url(#clip502)\" d=\"M1889.7 89.1758 L1889.7 1486.45 L1928 1486.45 L1928 89.1758 L1889.7 89.1758 L1889.7 89.1758  Z\" fill=\"#8be9fd\" fill-rule=\"evenodd\" fill-opacity=\"1\"/>\n",
       "<polyline clip-path=\"url(#clip502)\" style=\"stroke:#f8f8f2; stroke-linecap:round; stroke-linejoin:round; stroke-width:4; stroke-opacity:1; fill:none\" points=\"1889.7,89.1758 1889.7,1486.45 1928,1486.45 1928,89.1758 1889.7,89.1758 \"/>\n",
       "<path clip-path=\"url(#clip502)\" d=\"M1928 160.865 L1928 1486.45 L1966.3 1486.45 L1966.3 160.865 L1928 160.865 L1928 160.865  Z\" fill=\"#8be9fd\" fill-rule=\"evenodd\" fill-opacity=\"1\"/>\n",
       "<polyline clip-path=\"url(#clip502)\" style=\"stroke:#f8f8f2; stroke-linecap:round; stroke-linejoin:round; stroke-width:4; stroke-opacity:1; fill:none\" points=\"1928,160.865 1928,1486.45 1966.3,1486.45 1966.3,160.865 1928,160.865 \"/>\n",
       "<path clip-path=\"url(#clip502)\" d=\"M1966.3 171.687 L1966.3 1486.45 L2004.6 1486.45 L2004.6 171.687 L1966.3 171.687 L1966.3 171.687  Z\" fill=\"#8be9fd\" fill-rule=\"evenodd\" fill-opacity=\"1\"/>\n",
       "<polyline clip-path=\"url(#clip502)\" style=\"stroke:#f8f8f2; stroke-linecap:round; stroke-linejoin:round; stroke-width:4; stroke-opacity:1; fill:none\" points=\"1966.3,171.687 1966.3,1486.45 2004.6,1486.45 2004.6,171.687 1966.3,171.687 \"/>\n",
       "<path clip-path=\"url(#clip502)\" d=\"M2004.6 166.952 L2004.6 1486.45 L2042.9 1486.45 L2042.9 166.952 L2004.6 166.952 L2004.6 166.952  Z\" fill=\"#8be9fd\" fill-rule=\"evenodd\" fill-opacity=\"1\"/>\n",
       "<polyline clip-path=\"url(#clip502)\" style=\"stroke:#f8f8f2; stroke-linecap:round; stroke-linejoin:round; stroke-width:4; stroke-opacity:1; fill:none\" points=\"2004.6,166.952 2004.6,1486.45 2042.9,1486.45 2042.9,166.952 2004.6,166.952 \"/>\n",
       "<path clip-path=\"url(#clip502)\" d=\"M2042.9 112.847 L2042.9 1486.45 L2081.2 1486.45 L2081.2 112.847 L2042.9 112.847 L2042.9 112.847  Z\" fill=\"#8be9fd\" fill-rule=\"evenodd\" fill-opacity=\"1\"/>\n",
       "<polyline clip-path=\"url(#clip502)\" style=\"stroke:#f8f8f2; stroke-linecap:round; stroke-linejoin:round; stroke-width:4; stroke-opacity:1; fill:none\" points=\"2042.9,112.847 2042.9,1486.45 2081.2,1486.45 2081.2,112.847 2042.9,112.847 \"/>\n",
       "<path clip-path=\"url(#clip502)\" d=\"M2081.2 143.958 L2081.2 1486.45 L2119.5 1486.45 L2119.5 143.958 L2081.2 143.958 L2081.2 143.958  Z\" fill=\"#8be9fd\" fill-rule=\"evenodd\" fill-opacity=\"1\"/>\n",
       "<polyline clip-path=\"url(#clip502)\" style=\"stroke:#f8f8f2; stroke-linecap:round; stroke-linejoin:round; stroke-width:4; stroke-opacity:1; fill:none\" points=\"2081.2,143.958 2081.2,1486.45 2119.5,1486.45 2119.5,143.958 2081.2,143.958 \"/>\n",
       "<path clip-path=\"url(#clip502)\" d=\"M2119.5 123.668 L2119.5 1486.45 L2157.81 1486.45 L2157.81 123.668 L2119.5 123.668 L2119.5 123.668  Z\" fill=\"#8be9fd\" fill-rule=\"evenodd\" fill-opacity=\"1\"/>\n",
       "<polyline clip-path=\"url(#clip502)\" style=\"stroke:#f8f8f2; stroke-linecap:round; stroke-linejoin:round; stroke-width:4; stroke-opacity:1; fill:none\" points=\"2119.5,123.668 2119.5,1486.45 2157.81,1486.45 2157.81,123.668 2119.5,123.668 \"/>\n",
       "<path clip-path=\"url(#clip502)\" d=\"M2157.81 113.523 L2157.81 1486.45 L2196.11 1486.45 L2196.11 113.523 L2157.81 113.523 L2157.81 113.523  Z\" fill=\"#8be9fd\" fill-rule=\"evenodd\" fill-opacity=\"1\"/>\n",
       "<polyline clip-path=\"url(#clip502)\" style=\"stroke:#f8f8f2; stroke-linecap:round; stroke-linejoin:round; stroke-width:4; stroke-opacity:1; fill:none\" points=\"2157.81,113.523 2157.81,1486.45 2196.11,1486.45 2196.11,113.523 2157.81,113.523 \"/>\n",
       "<path clip-path=\"url(#clip502)\" d=\"M2196.11 68.2099 L2196.11 1486.45 L2234.41 1486.45 L2234.41 68.2099 L2196.11 68.2099 L2196.11 68.2099  Z\" fill=\"#8be9fd\" fill-rule=\"evenodd\" fill-opacity=\"1\"/>\n",
       "<polyline clip-path=\"url(#clip502)\" style=\"stroke:#f8f8f2; stroke-linecap:round; stroke-linejoin:round; stroke-width:4; stroke-opacity:1; fill:none\" points=\"2196.11,68.2099 2196.11,1486.45 2234.41,1486.45 2234.41,68.2099 2196.11,68.2099 \"/>\n",
       "<circle clip-path=\"url(#clip502)\" style=\"fill:#8be9fd; stroke:none; fill-opacity:0\" cx=\"338.519\" cy=\"152.073\" r=\"2\"/>\n",
       "<circle clip-path=\"url(#clip502)\" style=\"fill:#8be9fd; stroke:none; fill-opacity:0\" cx=\"376.82\" cy=\"123.668\" r=\"2\"/>\n",
       "<circle clip-path=\"url(#clip502)\" style=\"fill:#8be9fd; stroke:none; fill-opacity:0\" cx=\"415.121\" cy=\"64.152\" r=\"2\"/>\n",
       "<circle clip-path=\"url(#clip502)\" style=\"fill:#8be9fd; stroke:none; fill-opacity:0\" cx=\"453.421\" cy=\"148.692\" r=\"2\"/>\n",
       "<circle clip-path=\"url(#clip502)\" style=\"fill:#8be9fd; stroke:none; fill-opacity:0\" cx=\"491.722\" cy=\"138.547\" r=\"2\"/>\n",
       "<circle clip-path=\"url(#clip502)\" style=\"fill:#8be9fd; stroke:none; fill-opacity:0\" cx=\"530.023\" cy=\"124.344\" r=\"2\"/>\n",
       "<circle clip-path=\"url(#clip502)\" style=\"fill:#8be9fd; stroke:none; fill-opacity:0\" cx=\"568.324\" cy=\"92.5574\" r=\"2\"/>\n",
       "<circle clip-path=\"url(#clip502)\" style=\"fill:#8be9fd; stroke:none; fill-opacity:0\" cx=\"606.624\" cy=\"120.963\" r=\"2\"/>\n",
       "<circle clip-path=\"url(#clip502)\" style=\"fill:#8be9fd; stroke:none; fill-opacity:0\" cx=\"644.925\" cy=\"168.981\" r=\"2\"/>\n",
       "<circle clip-path=\"url(#clip502)\" style=\"fill:#8be9fd; stroke:none; fill-opacity:0\" cx=\"683.226\" cy=\"144.634\" r=\"2\"/>\n",
       "<circle clip-path=\"url(#clip502)\" style=\"fill:#8be9fd; stroke:none; fill-opacity:0\" cx=\"721.527\" cy=\"97.9679\" r=\"2\"/>\n",
       "<circle clip-path=\"url(#clip502)\" style=\"fill:#8be9fd; stroke:none; fill-opacity:0\" cx=\"759.827\" cy=\"76.3257\" r=\"2\"/>\n",
       "<circle clip-path=\"url(#clip502)\" style=\"fill:#8be9fd; stroke:none; fill-opacity:0\" cx=\"798.128\" cy=\"93.2337\" r=\"2\"/>\n",
       "<circle clip-path=\"url(#clip502)\" style=\"fill:#8be9fd; stroke:none; fill-opacity:0\" cx=\"836.429\" cy=\"88.4995\" r=\"2\"/>\n",
       "<circle clip-path=\"url(#clip502)\" style=\"fill:#8be9fd; stroke:none; fill-opacity:0\" cx=\"874.73\" cy=\"158.16\" r=\"2\"/>\n",
       "<circle clip-path=\"url(#clip502)\" style=\"fill:#8be9fd; stroke:none; fill-opacity:0\" cx=\"913.03\" cy=\"140.576\" r=\"2\"/>\n",
       "<circle clip-path=\"url(#clip502)\" style=\"fill:#8be9fd; stroke:none; fill-opacity:0\" cx=\"951.331\" cy=\"191.976\" r=\"2\"/>\n",
       "<circle clip-path=\"url(#clip502)\" style=\"fill:#8be9fd; stroke:none; fill-opacity:0\" cx=\"989.632\" cy=\"214.295\" r=\"2\"/>\n",
       "<circle clip-path=\"url(#clip502)\" style=\"fill:#8be9fd; stroke:none; fill-opacity:0\" cx=\"1027.93\" cy=\"129.755\" r=\"2\"/>\n",
       "<circle clip-path=\"url(#clip502)\" style=\"fill:#8be9fd; stroke:none; fill-opacity:0\" cx=\"1066.23\" cy=\"136.518\" r=\"2\"/>\n",
       "<circle clip-path=\"url(#clip502)\" style=\"fill:#8be9fd; stroke:none; fill-opacity:0\" cx=\"1104.53\" cy=\"140.576\" r=\"2\"/>\n",
       "<circle clip-path=\"url(#clip502)\" style=\"fill:#8be9fd; stroke:none; fill-opacity:0\" cx=\"1142.83\" cy=\"165.6\" r=\"2\"/>\n",
       "<circle clip-path=\"url(#clip502)\" style=\"fill:#8be9fd; stroke:none; fill-opacity:0\" cx=\"1181.14\" cy=\"198.739\" r=\"2\"/>\n",
       "<circle clip-path=\"url(#clip502)\" style=\"fill:#8be9fd; stroke:none; fill-opacity:0\" cx=\"1219.44\" cy=\"171.01\" r=\"2\"/>\n",
       "<circle clip-path=\"url(#clip502)\" style=\"fill:#8be9fd; stroke:none; fill-opacity:0\" cx=\"1257.74\" cy=\"173.715\" r=\"2\"/>\n",
       "<circle clip-path=\"url(#clip502)\" style=\"fill:#8be9fd; stroke:none; fill-opacity:0\" cx=\"1296.04\" cy=\"123.668\" r=\"2\"/>\n",
       "<circle clip-path=\"url(#clip502)\" style=\"fill:#8be9fd; stroke:none; fill-opacity:0\" cx=\"1334.34\" cy=\"118.257\" r=\"2\"/>\n",
       "<circle clip-path=\"url(#clip502)\" style=\"fill:#8be9fd; stroke:none; fill-opacity:0\" cx=\"1372.64\" cy=\"129.755\" r=\"2\"/>\n",
       "<circle clip-path=\"url(#clip502)\" style=\"fill:#8be9fd; stroke:none; fill-opacity:0\" cx=\"1410.94\" cy=\"99.9969\" r=\"2\"/>\n",
       "<circle clip-path=\"url(#clip502)\" style=\"fill:#8be9fd; stroke:none; fill-opacity:0\" cx=\"1449.24\" cy=\"161.542\" r=\"2\"/>\n",
       "<circle clip-path=\"url(#clip502)\" style=\"fill:#8be9fd; stroke:none; fill-opacity:0\" cx=\"1487.54\" cy=\"176.421\" r=\"2\"/>\n",
       "<circle clip-path=\"url(#clip502)\" style=\"fill:#8be9fd; stroke:none; fill-opacity:0\" cx=\"1525.84\" cy=\"151.397\" r=\"2\"/>\n",
       "<circle clip-path=\"url(#clip502)\" style=\"fill:#8be9fd; stroke:none; fill-opacity:0\" cx=\"1564.14\" cy=\"152.75\" r=\"2\"/>\n",
       "<circle clip-path=\"url(#clip502)\" style=\"fill:#8be9fd; stroke:none; fill-opacity:0\" cx=\"1602.44\" cy=\"103.378\" r=\"2\"/>\n",
       "<circle clip-path=\"url(#clip502)\" style=\"fill:#8be9fd; stroke:none; fill-opacity:0\" cx=\"1640.74\" cy=\"133.136\" r=\"2\"/>\n",
       "<circle clip-path=\"url(#clip502)\" style=\"fill:#8be9fd; stroke:none; fill-opacity:0\" cx=\"1679.05\" cy=\"175.744\" r=\"2\"/>\n",
       "<circle clip-path=\"url(#clip502)\" style=\"fill:#8be9fd; stroke:none; fill-opacity:0\" cx=\"1717.35\" cy=\"105.407\" r=\"2\"/>\n",
       "<circle clip-path=\"url(#clip502)\" style=\"fill:#8be9fd; stroke:none; fill-opacity:0\" cx=\"1755.65\" cy=\"133.813\" r=\"2\"/>\n",
       "<circle clip-path=\"url(#clip502)\" style=\"fill:#8be9fd; stroke:none; fill-opacity:0\" cx=\"1793.95\" cy=\"148.015\" r=\"2\"/>\n",
       "<circle clip-path=\"url(#clip502)\" style=\"fill:#8be9fd; stroke:none; fill-opacity:0\" cx=\"1832.25\" cy=\"123.668\" r=\"2\"/>\n",
       "<circle clip-path=\"url(#clip502)\" style=\"fill:#8be9fd; stroke:none; fill-opacity:0\" cx=\"1870.55\" cy=\"47.2441\" r=\"2\"/>\n",
       "<circle clip-path=\"url(#clip502)\" style=\"fill:#8be9fd; stroke:none; fill-opacity:0\" cx=\"1908.85\" cy=\"89.1758\" r=\"2\"/>\n",
       "<circle clip-path=\"url(#clip502)\" style=\"fill:#8be9fd; stroke:none; fill-opacity:0\" cx=\"1947.15\" cy=\"160.865\" r=\"2\"/>\n",
       "<circle clip-path=\"url(#clip502)\" style=\"fill:#8be9fd; stroke:none; fill-opacity:0\" cx=\"1985.45\" cy=\"171.687\" r=\"2\"/>\n",
       "<circle clip-path=\"url(#clip502)\" style=\"fill:#8be9fd; stroke:none; fill-opacity:0\" cx=\"2023.75\" cy=\"166.952\" r=\"2\"/>\n",
       "<circle clip-path=\"url(#clip502)\" style=\"fill:#8be9fd; stroke:none; fill-opacity:0\" cx=\"2062.05\" cy=\"112.847\" r=\"2\"/>\n",
       "<circle clip-path=\"url(#clip502)\" style=\"fill:#8be9fd; stroke:none; fill-opacity:0\" cx=\"2100.35\" cy=\"143.958\" r=\"2\"/>\n",
       "<circle clip-path=\"url(#clip502)\" style=\"fill:#8be9fd; stroke:none; fill-opacity:0\" cx=\"2138.65\" cy=\"123.668\" r=\"2\"/>\n",
       "<circle clip-path=\"url(#clip502)\" style=\"fill:#8be9fd; stroke:none; fill-opacity:0\" cx=\"2176.96\" cy=\"113.523\" r=\"2\"/>\n",
       "<circle clip-path=\"url(#clip502)\" style=\"fill:#8be9fd; stroke:none; fill-opacity:0\" cx=\"2215.26\" cy=\"68.2099\" r=\"2\"/>\n",
       "</svg>\n"
      ]
     },
     "execution_count": 87,
     "metadata": {},
     "output_type": "execute_result"
    }
   ],
   "source": [
    "x = rand(10^5)\n",
    "histogram(x, bins=64, legend=false)"
   ]
  },
  {
   "cell_type": "code",
   "execution_count": 88,
   "metadata": {},
   "outputs": [
    {
     "data": {
      "text/latex": [
       "\\textbf{Normal Distribution}\n",
       "\n"
      ],
      "text/markdown": [
       "**Normal Distribution**\n"
      ],
      "text/plain": [
       "  \u001b[1mNormal Distribution\u001b[22m"
      ]
     },
     "execution_count": 88,
     "metadata": {},
     "output_type": "execute_result"
    }
   ],
   "source": [
    "md\"**Normal Distribution**\""
   ]
  },
  {
   "cell_type": "code",
   "execution_count": 89,
   "metadata": {},
   "outputs": [],
   "source": [
    "?randn;"
   ]
  },
  {
   "cell_type": "code",
   "execution_count": 90,
   "metadata": {},
   "outputs": [
    {
     "data": {
      "image/png": "[encoded data removed]",
      "image/svg+xml": [
       "<?xml version=\"1.0\" encoding=\"utf-8\"?>\n",
       "<svg xmlns=\"http://www.w3.org/2000/svg\" xmlns:xlink=\"http://www.w3.org/1999/xlink\" width=\"600\" height=\"400\" viewBox=\"0 0 2400 1600\">\n",
       "<defs>\n",
       "  <clipPath id=\"clip540\">\n",
       "    <rect x=\"0\" y=\"0\" width=\"2400\" height=\"1600\"/>\n",
       "  </clipPath>\n",
       "</defs>\n",
       "<path clip-path=\"url(#clip540)\" d=\"M0 1600 L2400 1600 L2400 0 L0 0  Z\" fill=\"#282a36\" fill-rule=\"evenodd\" fill-opacity=\"1\"/>\n",
       "<defs>\n",
       "  <clipPath id=\"clip541\">\n",
       "    <rect x=\"480\" y=\"0\" width=\"1681\" height=\"1600\"/>\n",
       "  </clipPath>\n",
       "</defs>\n",
       "<path clip-path=\"url(#clip540)\" d=\"M202.177 1486.45 L2352.76 1486.45 L2352.76 47.2441 L202.177 47.2441  Z\" fill=\"#30343b\" fill-rule=\"evenodd\" fill-opacity=\"1\"/>\n",
       "<defs>\n",
       "  <clipPath id=\"clip542\">\n",
       "    <rect x=\"202\" y=\"47\" width=\"2152\" height=\"1440\"/>\n",
       "  </clipPath>\n",
       "</defs>\n",
       "<polyline clip-path=\"url(#clip542)\" style=\"stroke:#f8f8f2; stroke-linecap:round; stroke-linejoin:round; stroke-width:2; stroke-opacity:0.1; fill:none\" points=\"450.963,1486.45 450.963,47.2441 \"/>\n",
       "<polyline clip-path=\"url(#clip542)\" style=\"stroke:#f8f8f2; stroke-linecap:round; stroke-linejoin:round; stroke-width:2; stroke-opacity:0.1; fill:none\" points=\"885.965,1486.45 885.965,47.2441 \"/>\n",
       "<polyline clip-path=\"url(#clip542)\" style=\"stroke:#f8f8f2; stroke-linecap:round; stroke-linejoin:round; stroke-width:2; stroke-opacity:0.1; fill:none\" points=\"1320.97,1486.45 1320.97,47.2441 \"/>\n",
       "<polyline clip-path=\"url(#clip542)\" style=\"stroke:#f8f8f2; stroke-linecap:round; stroke-linejoin:round; stroke-width:2; stroke-opacity:0.1; fill:none\" points=\"1755.97,1486.45 1755.97,47.2441 \"/>\n",
       "<polyline clip-path=\"url(#clip542)\" style=\"stroke:#f8f8f2; stroke-linecap:round; stroke-linejoin:round; stroke-width:2; stroke-opacity:0.1; fill:none\" points=\"2190.97,1486.45 2190.97,47.2441 \"/>\n",
       "<polyline clip-path=\"url(#clip542)\" style=\"stroke:#f8f8f2; stroke-linecap:round; stroke-linejoin:round; stroke-width:2; stroke-opacity:0.1; fill:none\" points=\"202.177,1486.45 2352.76,1486.45 \"/>\n",
       "<polyline clip-path=\"url(#clip542)\" style=\"stroke:#f8f8f2; stroke-linecap:round; stroke-linejoin:round; stroke-width:2; stroke-opacity:0.1; fill:none\" points=\"202.177,1118.37 2352.76,1118.37 \"/>\n",
       "<polyline clip-path=\"url(#clip542)\" style=\"stroke:#f8f8f2; stroke-linecap:round; stroke-linejoin:round; stroke-width:2; stroke-opacity:0.1; fill:none\" points=\"202.177,750.282 2352.76,750.282 \"/>\n",
       "<polyline clip-path=\"url(#clip542)\" style=\"stroke:#f8f8f2; stroke-linecap:round; stroke-linejoin:round; stroke-width:2; stroke-opacity:0.1; fill:none\" points=\"202.177,382.199 2352.76,382.199 \"/>\n",
       "<polyline clip-path=\"url(#clip540)\" style=\"stroke:#f8f8f2; stroke-linecap:round; stroke-linejoin:round; stroke-width:4; stroke-opacity:1; fill:none\" points=\"202.177,1486.45 2352.76,1486.45 \"/>\n",
       "<polyline clip-path=\"url(#clip540)\" style=\"stroke:#f8f8f2; stroke-linecap:round; stroke-linejoin:round; stroke-width:4; stroke-opacity:1; fill:none\" points=\"450.963,1486.45 450.963,1467.55 \"/>\n",
       "<polyline clip-path=\"url(#clip540)\" style=\"stroke:#f8f8f2; stroke-linecap:round; stroke-linejoin:round; stroke-width:4; stroke-opacity:1; fill:none\" points=\"885.965,1486.45 885.965,1467.55 \"/>\n",
       "<polyline clip-path=\"url(#clip540)\" style=\"stroke:#f8f8f2; stroke-linecap:round; stroke-linejoin:round; stroke-width:4; stroke-opacity:1; fill:none\" points=\"1320.97,1486.45 1320.97,1467.55 \"/>\n",
       "<polyline clip-path=\"url(#clip540)\" style=\"stroke:#f8f8f2; stroke-linecap:round; stroke-linejoin:round; stroke-width:4; stroke-opacity:1; fill:none\" points=\"1755.97,1486.45 1755.97,1467.55 \"/>\n",
       "<polyline clip-path=\"url(#clip540)\" style=\"stroke:#f8f8f2; stroke-linecap:round; stroke-linejoin:round; stroke-width:4; stroke-opacity:1; fill:none\" points=\"2190.97,1486.45 2190.97,1467.55 \"/>\n",
       "<path clip-path=\"url(#clip540)\" d=\"M419.864 1532.02 L449.539 1532.02 L449.539 1535.95 L419.864 1535.95 L419.864 1532.02 Z\" fill=\"#f8f8f2\" fill-rule=\"nonzero\" fill-opacity=\"1\" /><path clip-path=\"url(#clip540)\" d=\"M472.479 1518.36 L460.674 1536.81 L472.479 1536.81 L472.479 1518.36 M471.252 1514.29 L477.132 1514.29 L477.132 1536.81 L482.062 1536.81 L482.062 1540.7 L477.132 1540.7 L477.132 1548.85 L472.479 1548.85 L472.479 1540.7 L456.877 1540.7 L456.877 1536.19 L471.252 1514.29 Z\" fill=\"#f8f8f2\" fill-rule=\"nonzero\" fill-opacity=\"1\" /><path clip-path=\"url(#clip540)\" d=\"M855.907 1532.02 L885.583 1532.02 L885.583 1535.95 L855.907 1535.95 L855.907 1532.02 Z\" fill=\"#f8f8f2\" fill-rule=\"nonzero\" fill-opacity=\"1\" /><path clip-path=\"url(#clip540)\" d=\"M899.703 1544.91 L916.022 1544.91 L916.022 1548.85 L894.078 1548.85 L894.078 1544.91 Q896.74 1542.16 901.323 1537.53 Q905.93 1532.88 907.11 1531.53 Q909.356 1529.01 910.235 1527.27 Q911.138 1525.51 911.138 1523.82 Q911.138 1521.07 909.194 1519.33 Q907.272 1517.6 904.171 1517.6 Q901.972 1517.6 899.518 1518.36 Q897.087 1519.13 894.31 1520.68 L894.31 1515.95 Q897.134 1514.82 899.587 1514.24 Q902.041 1513.66 904.078 1513.66 Q909.448 1513.66 912.643 1516.35 Q915.837 1519.03 915.837 1523.52 Q915.837 1525.65 915.027 1527.57 Q914.24 1529.47 912.134 1532.07 Q911.555 1532.74 908.453 1535.95 Q905.351 1539.15 899.703 1544.91 Z\" fill=\"#f8f8f2\" fill-rule=\"nonzero\" fill-opacity=\"1\" /><path clip-path=\"url(#clip540)\" d=\"M1320.97 1517.37 Q1317.36 1517.37 1315.53 1520.93 Q1313.72 1524.47 1313.72 1531.6 Q1313.72 1538.71 1315.53 1542.27 Q1317.36 1545.82 1320.97 1545.82 Q1324.6 1545.82 1326.41 1542.27 Q1328.23 1538.71 1328.23 1531.6 Q1328.23 1524.47 1326.41 1520.93 Q1324.6 1517.37 1320.97 1517.37 M1320.97 1513.66 Q1326.78 1513.66 1329.83 1518.27 Q1332.91 1522.85 1332.91 1531.6 Q1332.91 1540.33 1329.83 1544.94 Q1326.78 1549.52 1320.97 1549.52 Q1315.16 1549.52 1312.08 1544.94 Q1309.02 1540.33 1309.02 1531.6 Q1309.02 1522.85 1312.08 1518.27 Q1315.16 1513.66 1320.97 1513.66 Z\" fill=\"#f8f8f2\" fill-rule=\"nonzero\" fill-opacity=\"1\" /><path clip-path=\"url(#clip540)\" d=\"M1750.62 1544.91 L1766.94 1544.91 L1766.94 1548.85 L1745 1548.85 L1745 1544.91 Q1747.66 1542.16 1752.24 1537.53 Q1756.85 1532.88 1758.03 1531.53 Q1760.27 1529.01 1761.15 1527.27 Q1762.06 1525.51 1762.06 1523.82 Q1762.06 1521.07 1760.11 1519.33 Q1758.19 1517.6 1755.09 1517.6 Q1752.89 1517.6 1750.44 1518.36 Q1748.01 1519.13 1745.23 1520.68 L1745.23 1515.95 Q1748.05 1514.82 1750.51 1514.24 Q1752.96 1513.66 1755 1513.66 Q1760.37 1513.66 1763.56 1516.35 Q1766.76 1519.03 1766.76 1523.52 Q1766.76 1525.65 1765.95 1527.57 Q1765.16 1529.47 1763.05 1532.07 Q1762.47 1532.74 1759.37 1535.95 Q1756.27 1539.15 1750.62 1544.91 Z\" fill=\"#f8f8f2\" fill-rule=\"nonzero\" fill-opacity=\"1\" /><path clip-path=\"url(#clip540)\" d=\"M2193.98 1518.36 L2182.17 1536.81 L2193.98 1536.81 L2193.98 1518.36 M2192.75 1514.29 L2198.63 1514.29 L2198.63 1536.81 L2203.56 1536.81 L2203.56 1540.7 L2198.63 1540.7 L2198.63 1548.85 L2193.98 1548.85 L2193.98 1540.7 L2178.38 1540.7 L2178.38 1536.19 L2192.75 1514.29 Z\" fill=\"#f8f8f2\" fill-rule=\"nonzero\" fill-opacity=\"1\" /><polyline clip-path=\"url(#clip540)\" style=\"stroke:#f8f8f2; stroke-linecap:round; stroke-linejoin:round; stroke-width:4; stroke-opacity:1; fill:none\" points=\"202.177,1486.45 202.177,47.2441 \"/>\n",
       "<polyline clip-path=\"url(#clip540)\" style=\"stroke:#f8f8f2; stroke-linecap:round; stroke-linejoin:round; stroke-width:4; stroke-opacity:1; fill:none\" points=\"202.177,1486.45 221.074,1486.45 \"/>\n",
       "<polyline clip-path=\"url(#clip540)\" style=\"stroke:#f8f8f2; stroke-linecap:round; stroke-linejoin:round; stroke-width:4; stroke-opacity:1; fill:none\" points=\"202.177,1118.37 221.074,1118.37 \"/>\n",
       "<polyline clip-path=\"url(#clip540)\" style=\"stroke:#f8f8f2; stroke-linecap:round; stroke-linejoin:round; stroke-width:4; stroke-opacity:1; fill:none\" points=\"202.177,750.282 221.074,750.282 \"/>\n",
       "<polyline clip-path=\"url(#clip540)\" style=\"stroke:#f8f8f2; stroke-linecap:round; stroke-linejoin:round; stroke-width:4; stroke-opacity:1; fill:none\" points=\"202.177,382.199 221.074,382.199 \"/>\n",
       "<path clip-path=\"url(#clip540)\" d=\"M154.232 1472.25 Q150.621 1472.25 148.793 1475.81 Q146.987 1479.35 146.987 1486.48 Q146.987 1493.59 148.793 1497.15 Q150.621 1500.7 154.232 1500.7 Q157.867 1500.7 159.672 1497.15 Q161.501 1493.59 161.501 1486.48 Q161.501 1479.35 159.672 1475.81 Q157.867 1472.25 154.232 1472.25 M154.232 1468.54 Q160.042 1468.54 163.098 1473.15 Q166.177 1477.73 166.177 1486.48 Q166.177 1495.21 163.098 1499.82 Q160.042 1504.4 154.232 1504.4 Q148.422 1504.4 145.343 1499.82 Q142.288 1495.21 142.288 1486.48 Q142.288 1477.73 145.343 1473.15 Q148.422 1468.54 154.232 1468.54 Z\" fill=\"#f8f8f2\" fill-rule=\"nonzero\" fill-opacity=\"1\" /><path clip-path=\"url(#clip540)\" d=\"M57.7745 1131.71 L74.0939 1131.71 L74.0939 1135.65 L52.1495 1135.65 L52.1495 1131.71 Q54.8115 1128.96 59.3949 1124.33 Q64.0013 1119.67 65.1819 1118.33 Q67.4272 1115.81 68.3068 1114.07 Q69.2096 1112.31 69.2096 1110.62 Q69.2096 1107.87 67.2652 1106.13 Q65.3439 1104.4 62.2421 1104.4 Q60.043 1104.4 57.5893 1105.16 Q55.1588 1105.92 52.381 1107.47 L52.381 1102.75 Q55.2051 1101.62 57.6588 1101.04 Q60.1124 1100.46 62.1495 1100.46 Q67.5198 1100.46 70.7142 1103.15 Q73.9087 1105.83 73.9087 1110.32 Q73.9087 1112.45 73.0985 1114.37 Q72.3115 1116.27 70.205 1118.86 Q69.6263 1119.53 66.5245 1122.75 Q63.4226 1125.95 57.7745 1131.71 Z\" fill=\"#f8f8f2\" fill-rule=\"nonzero\" fill-opacity=\"1\" /><path clip-path=\"url(#clip540)\" d=\"M93.9086 1104.16 Q90.2975 1104.16 88.4688 1107.73 Q86.6632 1111.27 86.6632 1118.4 Q86.6632 1125.51 88.4688 1129.07 Q90.2975 1132.61 93.9086 1132.61 Q97.5428 1132.61 99.3483 1129.07 Q101.177 1125.51 101.177 1118.4 Q101.177 1111.27 99.3483 1107.73 Q97.5428 1104.16 93.9086 1104.16 M93.9086 1100.46 Q99.7187 1100.46 102.774 1105.07 Q105.853 1109.65 105.853 1118.4 Q105.853 1127.13 102.774 1131.73 Q99.7187 1136.32 93.9086 1136.32 Q88.0984 1136.32 85.0197 1131.73 Q81.9642 1127.13 81.9642 1118.4 Q81.9642 1109.65 85.0197 1105.07 Q88.0984 1100.46 93.9086 1100.46 Z\" fill=\"#f8f8f2\" fill-rule=\"nonzero\" fill-opacity=\"1\" /><path clip-path=\"url(#clip540)\" d=\"M124.07 1104.16 Q120.459 1104.16 118.631 1107.73 Q116.825 1111.27 116.825 1118.4 Q116.825 1125.51 118.631 1129.07 Q120.459 1132.61 124.07 1132.61 Q127.705 1132.61 129.51 1129.07 Q131.339 1125.51 131.339 1118.4 Q131.339 1111.27 129.51 1107.73 Q127.705 1104.16 124.07 1104.16 M124.07 1100.46 Q129.881 1100.46 132.936 1105.07 Q136.015 1109.65 136.015 1118.4 Q136.015 1127.13 132.936 1131.73 Q129.881 1136.32 124.07 1136.32 Q118.26 1136.32 115.182 1131.73 Q112.126 1127.13 112.126 1118.4 Q112.126 1109.65 115.182 1105.07 Q118.26 1100.46 124.07 1100.46 Z\" fill=\"#f8f8f2\" fill-rule=\"nonzero\" fill-opacity=\"1\" /><path clip-path=\"url(#clip540)\" d=\"M154.232 1104.16 Q150.621 1104.16 148.793 1107.73 Q146.987 1111.27 146.987 1118.4 Q146.987 1125.51 148.793 1129.07 Q150.621 1132.61 154.232 1132.61 Q157.867 1132.61 159.672 1129.07 Q161.501 1125.51 161.501 1118.4 Q161.501 1111.27 159.672 1107.73 Q157.867 1104.16 154.232 1104.16 M154.232 1100.46 Q160.042 1100.46 163.098 1105.07 Q166.177 1109.65 166.177 1118.4 Q166.177 1127.13 163.098 1131.73 Q160.042 1136.32 154.232 1136.32 Q148.422 1136.32 145.343 1131.73 Q142.288 1127.13 142.288 1118.4 Q142.288 1109.65 145.343 1105.07 Q148.422 1100.46 154.232 1100.46 Z\" fill=\"#f8f8f2\" fill-rule=\"nonzero\" fill-opacity=\"1\" /><path clip-path=\"url(#clip540)\" d=\"M66.5939 737.076 L54.7884 755.525 L66.5939 755.525 L66.5939 737.076 M65.367 733.002 L71.2466 733.002 L71.2466 755.525 L76.1772 755.525 L76.1772 759.414 L71.2466 759.414 L71.2466 767.562 L66.5939 767.562 L66.5939 759.414 L50.9921 759.414 L50.9921 754.9 L65.367 733.002 Z\" fill=\"#f8f8f2\" fill-rule=\"nonzero\" fill-opacity=\"1\" /><path clip-path=\"url(#clip540)\" d=\"M93.9086 736.081 Q90.2975 736.081 88.4688 739.646 Q86.6632 743.187 86.6632 750.317 Q86.6632 757.423 88.4688 760.988 Q90.2975 764.53 93.9086 764.53 Q97.5428 764.53 99.3483 760.988 Q101.177 757.423 101.177 750.317 Q101.177 743.187 99.3483 739.646 Q97.5428 736.081 93.9086 736.081 M93.9086 732.377 Q99.7187 732.377 102.774 736.984 Q105.853 741.567 105.853 750.317 Q105.853 759.044 102.774 763.65 Q99.7187 768.234 93.9086 768.234 Q88.0984 768.234 85.0197 763.65 Q81.9642 759.044 81.9642 750.317 Q81.9642 741.567 85.0197 736.984 Q88.0984 732.377 93.9086 732.377 Z\" fill=\"#f8f8f2\" fill-rule=\"nonzero\" fill-opacity=\"1\" /><path clip-path=\"url(#clip540)\" d=\"M124.07 736.081 Q120.459 736.081 118.631 739.646 Q116.825 743.187 116.825 750.317 Q116.825 757.423 118.631 760.988 Q120.459 764.53 124.07 764.53 Q127.705 764.53 129.51 760.988 Q131.339 757.423 131.339 750.317 Q131.339 743.187 129.51 739.646 Q127.705 736.081 124.07 736.081 M124.07 732.377 Q129.881 732.377 132.936 736.984 Q136.015 741.567 136.015 750.317 Q136.015 759.044 132.936 763.65 Q129.881 768.234 124.07 768.234 Q118.26 768.234 115.182 763.65 Q112.126 759.044 112.126 750.317 Q112.126 741.567 115.182 736.984 Q118.26 732.377 124.07 732.377 Z\" fill=\"#f8f8f2\" fill-rule=\"nonzero\" fill-opacity=\"1\" /><path clip-path=\"url(#clip540)\" d=\"M154.232 736.081 Q150.621 736.081 148.793 739.646 Q146.987 743.187 146.987 750.317 Q146.987 757.423 148.793 760.988 Q150.621 764.53 154.232 764.53 Q157.867 764.53 159.672 760.988 Q161.501 757.423 161.501 750.317 Q161.501 743.187 159.672 739.646 Q157.867 736.081 154.232 736.081 M154.232 732.377 Q160.042 732.377 163.098 736.984 Q166.177 741.567 166.177 750.317 Q166.177 759.044 163.098 763.65 Q160.042 768.234 154.232 768.234 Q148.422 768.234 145.343 763.65 Q142.288 759.044 142.288 750.317 Q142.288 741.567 145.343 736.984 Q148.422 732.377 154.232 732.377 Z\" fill=\"#f8f8f2\" fill-rule=\"nonzero\" fill-opacity=\"1\" /><path clip-path=\"url(#clip540)\" d=\"M64.3254 380.336 Q61.1773 380.336 59.3254 382.489 Q57.4967 384.642 57.4967 388.392 Q57.4967 392.118 59.3254 394.294 Q61.1773 396.447 64.3254 396.447 Q67.4735 396.447 69.3022 394.294 Q71.1541 392.118 71.1541 388.392 Q71.1541 384.642 69.3022 382.489 Q67.4735 380.336 64.3254 380.336 M73.6077 365.683 L73.6077 369.943 Q71.8485 369.109 70.0429 368.669 Q68.2606 368.23 66.5013 368.23 Q61.8717 368.23 59.418 371.355 Q56.9875 374.48 56.6402 380.799 Q58.006 378.785 60.0662 377.72 Q62.1263 376.632 64.6032 376.632 Q69.8115 376.632 72.8207 379.804 Q75.8531 382.952 75.8531 388.392 Q75.8531 393.716 72.705 396.933 Q69.5568 400.151 64.3254 400.151 Q58.33 400.151 55.1588 395.567 Q51.9875 390.961 51.9875 382.234 Q51.9875 374.04 55.8764 369.179 Q59.7652 364.294 66.3161 364.294 Q68.0754 364.294 69.8578 364.642 Q71.6633 364.989 73.6077 365.683 Z\" fill=\"#f8f8f2\" fill-rule=\"nonzero\" fill-opacity=\"1\" /><path clip-path=\"url(#clip540)\" d=\"M93.9086 367.998 Q90.2975 367.998 88.4688 371.563 Q86.6632 375.105 86.6632 382.234 Q86.6632 389.341 88.4688 392.905 Q90.2975 396.447 93.9086 396.447 Q97.5428 396.447 99.3483 392.905 Q101.177 389.341 101.177 382.234 Q101.177 375.105 99.3483 371.563 Q97.5428 367.998 93.9086 367.998 M93.9086 364.294 Q99.7187 364.294 102.774 368.901 Q105.853 373.484 105.853 382.234 Q105.853 390.961 102.774 395.567 Q99.7187 400.151 93.9086 400.151 Q88.0984 400.151 85.0197 395.567 Q81.9642 390.961 81.9642 382.234 Q81.9642 373.484 85.0197 368.901 Q88.0984 364.294 93.9086 364.294 Z\" fill=\"#f8f8f2\" fill-rule=\"nonzero\" fill-opacity=\"1\" /><path clip-path=\"url(#clip540)\" d=\"M124.07 367.998 Q120.459 367.998 118.631 371.563 Q116.825 375.105 116.825 382.234 Q116.825 389.341 118.631 392.905 Q120.459 396.447 124.07 396.447 Q127.705 396.447 129.51 392.905 Q131.339 389.341 131.339 382.234 Q131.339 375.105 129.51 371.563 Q127.705 367.998 124.07 367.998 M124.07 364.294 Q129.881 364.294 132.936 368.901 Q136.015 373.484 136.015 382.234 Q136.015 390.961 132.936 395.567 Q129.881 400.151 124.07 400.151 Q118.26 400.151 115.182 395.567 Q112.126 390.961 112.126 382.234 Q112.126 373.484 115.182 368.901 Q118.26 364.294 124.07 364.294 Z\" fill=\"#f8f8f2\" fill-rule=\"nonzero\" fill-opacity=\"1\" /><path clip-path=\"url(#clip540)\" d=\"M154.232 367.998 Q150.621 367.998 148.793 371.563 Q146.987 375.105 146.987 382.234 Q146.987 389.341 148.793 392.905 Q150.621 396.447 154.232 396.447 Q157.867 396.447 159.672 392.905 Q161.501 389.341 161.501 382.234 Q161.501 375.105 159.672 371.563 Q157.867 367.998 154.232 367.998 M154.232 364.294 Q160.042 364.294 163.098 368.901 Q166.177 373.484 166.177 382.234 Q166.177 390.961 163.098 395.567 Q160.042 400.151 154.232 400.151 Q148.422 400.151 145.343 395.567 Q142.288 390.961 142.288 382.234 Q142.288 373.484 145.343 368.901 Q148.422 364.294 154.232 364.294 Z\" fill=\"#f8f8f2\" fill-rule=\"nonzero\" fill-opacity=\"1\" /><path clip-path=\"url(#clip542)\" d=\"M320.462 1486.26 L320.462 1486.45 L363.963 1486.45 L363.963 1486.26 L320.462 1486.26 L320.462 1486.26  Z\" fill=\"#8be9fd\" fill-rule=\"evenodd\" fill-opacity=\"1\"/>\n",
       "<polyline clip-path=\"url(#clip542)\" style=\"stroke:#f8f8f2; stroke-linecap:round; stroke-linejoin:round; stroke-width:4; stroke-opacity:1; fill:none\" points=\"320.462,1486.26 320.462,1486.45 363.963,1486.45 363.963,1486.26 320.462,1486.26 \"/>\n",
       "<path clip-path=\"url(#clip542)\" d=\"M363.963 1486.45 L363.963 1486.45 L407.463 1486.45 L407.463 1486.45 L363.963 1486.45 L363.963 1486.45  Z\" fill=\"#8be9fd\" fill-rule=\"evenodd\" fill-opacity=\"1\"/>\n",
       "<polyline clip-path=\"url(#clip542)\" style=\"stroke:#f8f8f2; stroke-linecap:round; stroke-linejoin:round; stroke-width:4; stroke-opacity:1; fill:none\" points=\"363.963,1486.45 363.963,1486.45 407.463,1486.45 363.963,1486.45 \"/>\n",
       "<path clip-path=\"url(#clip542)\" d=\"M407.463 1486.08 L407.463 1486.45 L450.963 1486.45 L450.963 1486.08 L407.463 1486.08 L407.463 1486.08  Z\" fill=\"#8be9fd\" fill-rule=\"evenodd\" fill-opacity=\"1\"/>\n",
       "<polyline clip-path=\"url(#clip542)\" style=\"stroke:#f8f8f2; stroke-linecap:round; stroke-linejoin:round; stroke-width:4; stroke-opacity:1; fill:none\" points=\"407.463,1486.08 407.463,1486.45 450.963,1486.45 450.963,1486.08 407.463,1486.08 \"/>\n",
       "<path clip-path=\"url(#clip542)\" d=\"M450.963 1486.08 L450.963 1486.45 L494.463 1486.45 L494.463 1486.08 L450.963 1486.08 L450.963 1486.08  Z\" fill=\"#8be9fd\" fill-rule=\"evenodd\" fill-opacity=\"1\"/>\n",
       "<polyline clip-path=\"url(#clip542)\" style=\"stroke:#f8f8f2; stroke-linecap:round; stroke-linejoin:round; stroke-width:4; stroke-opacity:1; fill:none\" points=\"450.963,1486.08 450.963,1486.45 494.463,1486.45 494.463,1486.08 450.963,1486.08 \"/>\n",
       "<path clip-path=\"url(#clip542)\" d=\"M494.463 1484.06 L494.463 1486.45 L537.963 1486.45 L537.963 1484.06 L494.463 1484.06 L494.463 1484.06  Z\" fill=\"#8be9fd\" fill-rule=\"evenodd\" fill-opacity=\"1\"/>\n",
       "<polyline clip-path=\"url(#clip542)\" style=\"stroke:#f8f8f2; stroke-linecap:round; stroke-linejoin:round; stroke-width:4; stroke-opacity:1; fill:none\" points=\"494.463,1484.06 494.463,1486.45 537.963,1486.45 537.963,1484.06 494.463,1484.06 \"/>\n",
       "<path clip-path=\"url(#clip542)\" d=\"M537.963 1482.4 L537.963 1486.45 L581.463 1486.45 L581.463 1482.4 L537.963 1482.4 L537.963 1482.4  Z\" fill=\"#8be9fd\" fill-rule=\"evenodd\" fill-opacity=\"1\"/>\n",
       "<polyline clip-path=\"url(#clip542)\" style=\"stroke:#f8f8f2; stroke-linecap:round; stroke-linejoin:round; stroke-width:4; stroke-opacity:1; fill:none\" points=\"537.963,1482.4 537.963,1486.45 581.463,1486.45 581.463,1482.4 537.963,1482.4 \"/>\n",
       "<path clip-path=\"url(#clip542)\" d=\"M581.463 1477.61 L581.463 1486.45 L624.964 1486.45 L624.964 1477.61 L581.463 1477.61 L581.463 1477.61  Z\" fill=\"#8be9fd\" fill-rule=\"evenodd\" fill-opacity=\"1\"/>\n",
       "<polyline clip-path=\"url(#clip542)\" style=\"stroke:#f8f8f2; stroke-linecap:round; stroke-linejoin:round; stroke-width:4; stroke-opacity:1; fill:none\" points=\"581.463,1477.61 581.463,1486.45 624.964,1486.45 624.964,1477.61 581.463,1477.61 \"/>\n",
       "<path clip-path=\"url(#clip542)\" d=\"M624.964 1473.75 L624.964 1486.45 L668.464 1486.45 L668.464 1473.75 L624.964 1473.75 L624.964 1473.75  Z\" fill=\"#8be9fd\" fill-rule=\"evenodd\" fill-opacity=\"1\"/>\n",
       "<polyline clip-path=\"url(#clip542)\" style=\"stroke:#f8f8f2; stroke-linecap:round; stroke-linejoin:round; stroke-width:4; stroke-opacity:1; fill:none\" points=\"624.964,1473.75 624.964,1486.45 668.464,1486.45 668.464,1473.75 624.964,1473.75 \"/>\n",
       "<path clip-path=\"url(#clip542)\" d=\"M668.464 1462.15 L668.464 1486.45 L711.964 1486.45 L711.964 1462.15 L668.464 1462.15 L668.464 1462.15  Z\" fill=\"#8be9fd\" fill-rule=\"evenodd\" fill-opacity=\"1\"/>\n",
       "<polyline clip-path=\"url(#clip542)\" style=\"stroke:#f8f8f2; stroke-linecap:round; stroke-linejoin:round; stroke-width:4; stroke-opacity:1; fill:none\" points=\"668.464,1462.15 668.464,1486.45 711.964,1486.45 711.964,1462.15 668.464,1462.15 \"/>\n",
       "<path clip-path=\"url(#clip542)\" d=\"M711.964 1446.14 L711.964 1486.45 L755.464 1486.45 L755.464 1446.14 L711.964 1446.14 L711.964 1446.14  Z\" fill=\"#8be9fd\" fill-rule=\"evenodd\" fill-opacity=\"1\"/>\n",
       "<polyline clip-path=\"url(#clip542)\" style=\"stroke:#f8f8f2; stroke-linecap:round; stroke-linejoin:round; stroke-width:4; stroke-opacity:1; fill:none\" points=\"711.964,1446.14 711.964,1486.45 755.464,1486.45 755.464,1446.14 711.964,1446.14 \"/>\n",
       "<path clip-path=\"url(#clip542)\" d=\"M755.464 1412.46 L755.464 1486.45 L798.964 1486.45 L798.964 1412.46 L755.464 1412.46 L755.464 1412.46  Z\" fill=\"#8be9fd\" fill-rule=\"evenodd\" fill-opacity=\"1\"/>\n",
       "<polyline clip-path=\"url(#clip542)\" style=\"stroke:#f8f8f2; stroke-linecap:round; stroke-linejoin:round; stroke-width:4; stroke-opacity:1; fill:none\" points=\"755.464,1412.46 755.464,1486.45 798.964,1486.45 798.964,1412.46 755.464,1412.46 \"/>\n",
       "<path clip-path=\"url(#clip542)\" d=\"M798.964 1382.28 L798.964 1486.45 L842.465 1486.45 L842.465 1382.28 L798.964 1382.28 L798.964 1382.28  Z\" fill=\"#8be9fd\" fill-rule=\"evenodd\" fill-opacity=\"1\"/>\n",
       "<polyline clip-path=\"url(#clip542)\" style=\"stroke:#f8f8f2; stroke-linecap:round; stroke-linejoin:round; stroke-width:4; stroke-opacity:1; fill:none\" points=\"798.964,1382.28 798.964,1486.45 842.465,1486.45 842.465,1382.28 798.964,1382.28 \"/>\n",
       "<path clip-path=\"url(#clip542)\" d=\"M842.465 1323.76 L842.465 1486.45 L885.965 1486.45 L885.965 1323.76 L842.465 1323.76 L842.465 1323.76  Z\" fill=\"#8be9fd\" fill-rule=\"evenodd\" fill-opacity=\"1\"/>\n",
       "<polyline clip-path=\"url(#clip542)\" style=\"stroke:#f8f8f2; stroke-linecap:round; stroke-linejoin:round; stroke-width:4; stroke-opacity:1; fill:none\" points=\"842.465,1323.76 842.465,1486.45 885.965,1486.45 885.965,1323.76 842.465,1323.76 \"/>\n",
       "<path clip-path=\"url(#clip542)\" d=\"M885.965 1237.99 L885.965 1486.45 L929.465 1486.45 L929.465 1237.99 L885.965 1237.99 L885.965 1237.99  Z\" fill=\"#8be9fd\" fill-rule=\"evenodd\" fill-opacity=\"1\"/>\n",
       "<polyline clip-path=\"url(#clip542)\" style=\"stroke:#f8f8f2; stroke-linecap:round; stroke-linejoin:round; stroke-width:4; stroke-opacity:1; fill:none\" points=\"885.965,1237.99 885.965,1486.45 929.465,1486.45 929.465,1237.99 885.965,1237.99 \"/>\n",
       "<path clip-path=\"url(#clip542)\" d=\"M929.465 1143.95 L929.465 1486.45 L972.965 1486.45 L972.965 1143.95 L929.465 1143.95 L929.465 1143.95  Z\" fill=\"#8be9fd\" fill-rule=\"evenodd\" fill-opacity=\"1\"/>\n",
       "<polyline clip-path=\"url(#clip542)\" style=\"stroke:#f8f8f2; stroke-linecap:round; stroke-linejoin:round; stroke-width:4; stroke-opacity:1; fill:none\" points=\"929.465,1143.95 929.465,1486.45 972.965,1486.45 972.965,1143.95 929.465,1143.95 \"/>\n",
       "<path clip-path=\"url(#clip542)\" d=\"M972.965 993.401 L972.965 1486.45 L1016.47 1486.45 L1016.47 993.401 L972.965 993.401 L972.965 993.401  Z\" fill=\"#8be9fd\" fill-rule=\"evenodd\" fill-opacity=\"1\"/>\n",
       "<polyline clip-path=\"url(#clip542)\" style=\"stroke:#f8f8f2; stroke-linecap:round; stroke-linejoin:round; stroke-width:4; stroke-opacity:1; fill:none\" points=\"972.965,993.401 972.965,1486.45 1016.47,1486.45 1016.47,993.401 972.965,993.401 \"/>\n",
       "<path clip-path=\"url(#clip542)\" d=\"M1016.47 859.787 L1016.47 1486.45 L1059.97 1486.45 L1059.97 859.787 L1016.47 859.787 L1016.47 859.787  Z\" fill=\"#8be9fd\" fill-rule=\"evenodd\" fill-opacity=\"1\"/>\n",
       "<polyline clip-path=\"url(#clip542)\" style=\"stroke:#f8f8f2; stroke-linecap:round; stroke-linejoin:round; stroke-width:4; stroke-opacity:1; fill:none\" points=\"1016.47,859.787 1016.47,1486.45 1059.97,1486.45 1059.97,859.787 1016.47,859.787 \"/>\n",
       "<path clip-path=\"url(#clip542)\" d=\"M1059.97 668.936 L1059.97 1486.45 L1103.47 1486.45 L1103.47 668.936 L1059.97 668.936 L1059.97 668.936  Z\" fill=\"#8be9fd\" fill-rule=\"evenodd\" fill-opacity=\"1\"/>\n",
       "<polyline clip-path=\"url(#clip542)\" style=\"stroke:#f8f8f2; stroke-linecap:round; stroke-linejoin:round; stroke-width:4; stroke-opacity:1; fill:none\" points=\"1059.97,668.936 1059.97,1486.45 1103.47,1486.45 1103.47,668.936 1059.97,668.936 \"/>\n",
       "<path clip-path=\"url(#clip542)\" d=\"M1103.47 505.139 L1103.47 1486.45 L1146.97 1486.45 L1146.97 505.139 L1103.47 505.139 L1103.47 505.139  Z\" fill=\"#8be9fd\" fill-rule=\"evenodd\" fill-opacity=\"1\"/>\n",
       "<polyline clip-path=\"url(#clip542)\" style=\"stroke:#f8f8f2; stroke-linecap:round; stroke-linejoin:round; stroke-width:4; stroke-opacity:1; fill:none\" points=\"1103.47,505.139 1103.47,1486.45 1146.97,1486.45 1146.97,505.139 1103.47,505.139 \"/>\n",
       "<path clip-path=\"url(#clip542)\" d=\"M1146.97 317.417 L1146.97 1486.45 L1190.47 1486.45 L1190.47 317.417 L1146.97 317.417 L1146.97 317.417  Z\" fill=\"#8be9fd\" fill-rule=\"evenodd\" fill-opacity=\"1\"/>\n",
       "<polyline clip-path=\"url(#clip542)\" style=\"stroke:#f8f8f2; stroke-linecap:round; stroke-linejoin:round; stroke-width:4; stroke-opacity:1; fill:none\" points=\"1146.97,317.417 1146.97,1486.45 1190.47,1486.45 1190.47,317.417 1146.97,317.417 \"/>\n",
       "<path clip-path=\"url(#clip542)\" d=\"M1190.47 227.421 L1190.47 1486.45 L1233.97 1486.45 L1233.97 227.421 L1190.47 227.421 L1190.47 227.421  Z\" fill=\"#8be9fd\" fill-rule=\"evenodd\" fill-opacity=\"1\"/>\n",
       "<polyline clip-path=\"url(#clip542)\" style=\"stroke:#f8f8f2; stroke-linecap:round; stroke-linejoin:round; stroke-width:4; stroke-opacity:1; fill:none\" points=\"1190.47,227.421 1190.47,1486.45 1233.97,1486.45 1233.97,227.421 1190.47,227.421 \"/>\n",
       "<path clip-path=\"url(#clip542)\" d=\"M1233.97 82.58 L1233.97 1486.45 L1277.47 1486.45 L1277.47 82.58 L1233.97 82.58 L1233.97 82.58  Z\" fill=\"#8be9fd\" fill-rule=\"evenodd\" fill-opacity=\"1\"/>\n",
       "<polyline clip-path=\"url(#clip542)\" style=\"stroke:#f8f8f2; stroke-linecap:round; stroke-linejoin:round; stroke-width:4; stroke-opacity:1; fill:none\" points=\"1233.97,82.58 1233.97,1486.45 1277.47,1486.45 1277.47,82.58 1233.97,82.58 \"/>\n",
       "<path clip-path=\"url(#clip542)\" d=\"M1277.47 47.2441 L1277.47 1486.45 L1320.97 1486.45 L1320.97 47.2441 L1277.47 47.2441 L1277.47 47.2441  Z\" fill=\"#8be9fd\" fill-rule=\"evenodd\" fill-opacity=\"1\"/>\n",
       "<polyline clip-path=\"url(#clip542)\" style=\"stroke:#f8f8f2; stroke-linecap:round; stroke-linejoin:round; stroke-width:4; stroke-opacity:1; fill:none\" points=\"1277.47,47.2441 1277.47,1486.45 1320.97,1486.45 1320.97,47.2441 1277.47,47.2441 \"/>\n",
       "<path clip-path=\"url(#clip542)\" d=\"M1320.97 53.6855 L1320.97 1486.45 L1364.47 1486.45 L1364.47 53.6855 L1320.97 53.6855 L1320.97 53.6855  Z\" fill=\"#8be9fd\" fill-rule=\"evenodd\" fill-opacity=\"1\"/>\n",
       "<polyline clip-path=\"url(#clip542)\" style=\"stroke:#f8f8f2; stroke-linecap:round; stroke-linejoin:round; stroke-width:4; stroke-opacity:1; fill:none\" points=\"1320.97,53.6855 1320.97,1486.45 1364.47,1486.45 1364.47,53.6855 1320.97,53.6855 \"/>\n",
       "<path clip-path=\"url(#clip542)\" d=\"M1364.47 96.5672 L1364.47 1486.45 L1407.97 1486.45 L1407.97 96.5672 L1364.47 96.5672 L1364.47 96.5672  Z\" fill=\"#8be9fd\" fill-rule=\"evenodd\" fill-opacity=\"1\"/>\n",
       "<polyline clip-path=\"url(#clip542)\" style=\"stroke:#f8f8f2; stroke-linecap:round; stroke-linejoin:round; stroke-width:4; stroke-opacity:1; fill:none\" points=\"1364.47,96.5672 1364.47,1486.45 1407.97,1486.45 1407.97,96.5672 1364.47,96.5672 \"/>\n",
       "<path clip-path=\"url(#clip542)\" d=\"M1407.97 202.391 L1407.97 1486.45 L1451.47 1486.45 L1451.47 202.391 L1407.97 202.391 L1407.97 202.391  Z\" fill=\"#8be9fd\" fill-rule=\"evenodd\" fill-opacity=\"1\"/>\n",
       "<polyline clip-path=\"url(#clip542)\" style=\"stroke:#f8f8f2; stroke-linecap:round; stroke-linejoin:round; stroke-width:4; stroke-opacity:1; fill:none\" points=\"1407.97,202.391 1407.97,1486.45 1451.47,1486.45 1451.47,202.391 1407.97,202.391 \"/>\n",
       "<path clip-path=\"url(#clip542)\" d=\"M1451.47 337.293 L1451.47 1486.45 L1494.97 1486.45 L1494.97 337.293 L1451.47 337.293 L1451.47 337.293  Z\" fill=\"#8be9fd\" fill-rule=\"evenodd\" fill-opacity=\"1\"/>\n",
       "<polyline clip-path=\"url(#clip542)\" style=\"stroke:#f8f8f2; stroke-linecap:round; stroke-linejoin:round; stroke-width:4; stroke-opacity:1; fill:none\" points=\"1451.47,337.293 1451.47,1486.45 1494.97,1486.45 1494.97,337.293 1451.47,337.293 \"/>\n",
       "<path clip-path=\"url(#clip542)\" d=\"M1494.97 480.662 L1494.97 1486.45 L1538.47 1486.45 L1538.47 480.662 L1494.97 480.662 L1494.97 480.662  Z\" fill=\"#8be9fd\" fill-rule=\"evenodd\" fill-opacity=\"1\"/>\n",
       "<polyline clip-path=\"url(#clip542)\" style=\"stroke:#f8f8f2; stroke-linecap:round; stroke-linejoin:round; stroke-width:4; stroke-opacity:1; fill:none\" points=\"1494.97,480.662 1494.97,1486.45 1538.47,1486.45 1538.47,480.662 1494.97,480.662 \"/>\n",
       "<path clip-path=\"url(#clip542)\" d=\"M1538.47 678.138 L1538.47 1486.45 L1581.97 1486.45 L1581.97 678.138 L1538.47 678.138 L1538.47 678.138  Z\" fill=\"#8be9fd\" fill-rule=\"evenodd\" fill-opacity=\"1\"/>\n",
       "<polyline clip-path=\"url(#clip542)\" style=\"stroke:#f8f8f2; stroke-linecap:round; stroke-linejoin:round; stroke-width:4; stroke-opacity:1; fill:none\" points=\"1538.47,678.138 1538.47,1486.45 1581.97,1486.45 1581.97,678.138 1538.47,678.138 \"/>\n",
       "<path clip-path=\"url(#clip542)\" d=\"M1581.97 857.026 L1581.97 1486.45 L1625.47 1486.45 L1625.47 857.026 L1581.97 857.026 L1581.97 857.026  Z\" fill=\"#8be9fd\" fill-rule=\"evenodd\" fill-opacity=\"1\"/>\n",
       "<polyline clip-path=\"url(#clip542)\" style=\"stroke:#f8f8f2; stroke-linecap:round; stroke-linejoin:round; stroke-width:4; stroke-opacity:1; fill:none\" points=\"1581.97,857.026 1581.97,1486.45 1625.47,1486.45 1625.47,857.026 1581.97,857.026 \"/>\n",
       "<path clip-path=\"url(#clip542)\" d=\"M1625.47 1002.42 L1625.47 1486.45 L1668.97 1486.45 L1668.97 1002.42 L1625.47 1002.42 L1625.47 1002.42  Z\" fill=\"#8be9fd\" fill-rule=\"evenodd\" fill-opacity=\"1\"/>\n",
       "<polyline clip-path=\"url(#clip542)\" style=\"stroke:#f8f8f2; stroke-linecap:round; stroke-linejoin:round; stroke-width:4; stroke-opacity:1; fill:none\" points=\"1625.47,1002.42 1625.47,1486.45 1668.97,1486.45 1668.97,1002.42 1625.47,1002.42 \"/>\n",
       "<path clip-path=\"url(#clip542)\" d=\"M1668.97 1144.13 L1668.97 1486.45 L1712.47 1486.45 L1712.47 1144.13 L1668.97 1144.13 L1668.97 1144.13  Z\" fill=\"#8be9fd\" fill-rule=\"evenodd\" fill-opacity=\"1\"/>\n",
       "<polyline clip-path=\"url(#clip542)\" style=\"stroke:#f8f8f2; stroke-linecap:round; stroke-linejoin:round; stroke-width:4; stroke-opacity:1; fill:none\" points=\"1668.97,1144.13 1668.97,1486.45 1712.47,1486.45 1712.47,1144.13 1668.97,1144.13 \"/>\n",
       "<path clip-path=\"url(#clip542)\" d=\"M1712.47 1246.64 L1712.47 1486.45 L1755.97 1486.45 L1755.97 1246.64 L1712.47 1246.64 L1712.47 1246.64  Z\" fill=\"#8be9fd\" fill-rule=\"evenodd\" fill-opacity=\"1\"/>\n",
       "<polyline clip-path=\"url(#clip542)\" style=\"stroke:#f8f8f2; stroke-linecap:round; stroke-linejoin:round; stroke-width:4; stroke-opacity:1; fill:none\" points=\"1712.47,1246.64 1712.47,1486.45 1755.97,1486.45 1755.97,1246.64 1712.47,1246.64 \"/>\n",
       "<path clip-path=\"url(#clip542)\" d=\"M1755.97 1325.04 L1755.97 1486.45 L1799.47 1486.45 L1799.47 1325.04 L1755.97 1325.04 L1755.97 1325.04  Z\" fill=\"#8be9fd\" fill-rule=\"evenodd\" fill-opacity=\"1\"/>\n",
       "<polyline clip-path=\"url(#clip542)\" style=\"stroke:#f8f8f2; stroke-linecap:round; stroke-linejoin:round; stroke-width:4; stroke-opacity:1; fill:none\" points=\"1755.97,1325.04 1755.97,1486.45 1799.47,1486.45 1799.47,1325.04 1755.97,1325.04 \"/>\n",
       "<path clip-path=\"url(#clip542)\" d=\"M1799.47 1378.78 L1799.47 1486.45 L1842.97 1486.45 L1842.97 1378.78 L1799.47 1378.78 L1799.47 1378.78  Z\" fill=\"#8be9fd\" fill-rule=\"evenodd\" fill-opacity=\"1\"/>\n",
       "<polyline clip-path=\"url(#clip542)\" style=\"stroke:#f8f8f2; stroke-linecap:round; stroke-linejoin:round; stroke-width:4; stroke-opacity:1; fill:none\" points=\"1799.47,1378.78 1799.47,1486.45 1842.97,1486.45 1842.97,1378.78 1799.47,1378.78 \"/>\n",
       "<path clip-path=\"url(#clip542)\" d=\"M1842.97 1423.87 L1842.97 1486.45 L1886.47 1486.45 L1886.47 1423.87 L1842.97 1423.87 L1842.97 1423.87  Z\" fill=\"#8be9fd\" fill-rule=\"evenodd\" fill-opacity=\"1\"/>\n",
       "<polyline clip-path=\"url(#clip542)\" style=\"stroke:#f8f8f2; stroke-linecap:round; stroke-linejoin:round; stroke-width:4; stroke-opacity:1; fill:none\" points=\"1842.97,1423.87 1842.97,1486.45 1886.47,1486.45 1886.47,1423.87 1842.97,1423.87 \"/>\n",
       "<path clip-path=\"url(#clip542)\" d=\"M1886.47 1444.49 L1886.47 1486.45 L1929.97 1486.45 L1929.97 1444.49 L1886.47 1444.49 L1886.47 1444.49  Z\" fill=\"#8be9fd\" fill-rule=\"evenodd\" fill-opacity=\"1\"/>\n",
       "<polyline clip-path=\"url(#clip542)\" style=\"stroke:#f8f8f2; stroke-linecap:round; stroke-linejoin:round; stroke-width:4; stroke-opacity:1; fill:none\" points=\"1886.47,1444.49 1886.47,1486.45 1929.97,1486.45 1929.97,1444.49 1886.47,1444.49 \"/>\n",
       "<path clip-path=\"url(#clip542)\" d=\"M1929.97 1465.65 L1929.97 1486.45 L1973.47 1486.45 L1973.47 1465.65 L1929.97 1465.65 L1929.97 1465.65  Z\" fill=\"#8be9fd\" fill-rule=\"evenodd\" fill-opacity=\"1\"/>\n",
       "<polyline clip-path=\"url(#clip542)\" style=\"stroke:#f8f8f2; stroke-linecap:round; stroke-linejoin:round; stroke-width:4; stroke-opacity:1; fill:none\" points=\"1929.97,1465.65 1929.97,1486.45 1973.47,1486.45 1973.47,1465.65 1929.97,1465.65 \"/>\n",
       "<path clip-path=\"url(#clip542)\" d=\"M1973.47 1470.07 L1973.47 1486.45 L2016.97 1486.45 L2016.97 1470.07 L1973.47 1470.07 L1973.47 1470.07  Z\" fill=\"#8be9fd\" fill-rule=\"evenodd\" fill-opacity=\"1\"/>\n",
       "<polyline clip-path=\"url(#clip542)\" style=\"stroke:#f8f8f2; stroke-linecap:round; stroke-linejoin:round; stroke-width:4; stroke-opacity:1; fill:none\" points=\"1973.47,1470.07 1973.47,1486.45 2016.97,1486.45 2016.97,1470.07 1973.47,1470.07 \"/>\n",
       "<path clip-path=\"url(#clip542)\" d=\"M2016.97 1478.53 L2016.97 1486.45 L2060.47 1486.45 L2060.47 1478.53 L2016.97 1478.53 L2016.97 1478.53  Z\" fill=\"#8be9fd\" fill-rule=\"evenodd\" fill-opacity=\"1\"/>\n",
       "<polyline clip-path=\"url(#clip542)\" style=\"stroke:#f8f8f2; stroke-linecap:round; stroke-linejoin:round; stroke-width:4; stroke-opacity:1; fill:none\" points=\"2016.97,1478.53 2016.97,1486.45 2060.47,1486.45 2060.47,1478.53 2016.97,1478.53 \"/>\n",
       "<path clip-path=\"url(#clip542)\" d=\"M2060.47 1483.87 L2060.47 1486.45 L2103.97 1486.45 L2103.97 1483.87 L2060.47 1483.87 L2060.47 1483.87  Z\" fill=\"#8be9fd\" fill-rule=\"evenodd\" fill-opacity=\"1\"/>\n",
       "<polyline clip-path=\"url(#clip542)\" style=\"stroke:#f8f8f2; stroke-linecap:round; stroke-linejoin:round; stroke-width:4; stroke-opacity:1; fill:none\" points=\"2060.47,1483.87 2060.47,1486.45 2103.97,1486.45 2103.97,1483.87 2060.47,1483.87 \"/>\n",
       "<path clip-path=\"url(#clip542)\" d=\"M2103.97 1484.98 L2103.97 1486.45 L2147.47 1486.45 L2147.47 1484.98 L2103.97 1484.98 L2103.97 1484.98  Z\" fill=\"#8be9fd\" fill-rule=\"evenodd\" fill-opacity=\"1\"/>\n",
       "<polyline clip-path=\"url(#clip542)\" style=\"stroke:#f8f8f2; stroke-linecap:round; stroke-linejoin:round; stroke-width:4; stroke-opacity:1; fill:none\" points=\"2103.97,1484.98 2103.97,1486.45 2147.47,1486.45 2147.47,1484.98 2103.97,1484.98 \"/>\n",
       "<path clip-path=\"url(#clip542)\" d=\"M2147.47 1486.26 L2147.47 1486.45 L2190.97 1486.45 L2190.97 1486.26 L2147.47 1486.26 L2147.47 1486.26  Z\" fill=\"#8be9fd\" fill-rule=\"evenodd\" fill-opacity=\"1\"/>\n",
       "<polyline clip-path=\"url(#clip542)\" style=\"stroke:#f8f8f2; stroke-linecap:round; stroke-linejoin:round; stroke-width:4; stroke-opacity:1; fill:none\" points=\"2147.47,1486.26 2147.47,1486.45 2190.97,1486.45 2190.97,1486.26 2147.47,1486.26 \"/>\n",
       "<path clip-path=\"url(#clip542)\" d=\"M2190.97 1485.71 L2190.97 1486.45 L2234.47 1486.45 L2234.47 1485.71 L2190.97 1485.71 L2190.97 1485.71  Z\" fill=\"#8be9fd\" fill-rule=\"evenodd\" fill-opacity=\"1\"/>\n",
       "<polyline clip-path=\"url(#clip542)\" style=\"stroke:#f8f8f2; stroke-linecap:round; stroke-linejoin:round; stroke-width:4; stroke-opacity:1; fill:none\" points=\"2190.97,1485.71 2190.97,1486.45 2234.47,1486.45 2234.47,1485.71 2190.97,1485.71 \"/>\n",
       "<circle clip-path=\"url(#clip542)\" style=\"fill:#8be9fd; stroke:none; fill-opacity:0\" cx=\"342.212\" cy=\"1486.26\" r=\"2\"/>\n",
       "<circle clip-path=\"url(#clip542)\" style=\"fill:#8be9fd; stroke:none; fill-opacity:0\" cx=\"385.713\" cy=\"1486.45\" r=\"2\"/>\n",
       "<circle clip-path=\"url(#clip542)\" style=\"fill:#8be9fd; stroke:none; fill-opacity:0\" cx=\"429.213\" cy=\"1486.08\" r=\"2\"/>\n",
       "<circle clip-path=\"url(#clip542)\" style=\"fill:#8be9fd; stroke:none; fill-opacity:0\" cx=\"472.713\" cy=\"1486.08\" r=\"2\"/>\n",
       "<circle clip-path=\"url(#clip542)\" style=\"fill:#8be9fd; stroke:none; fill-opacity:0\" cx=\"516.213\" cy=\"1484.06\" r=\"2\"/>\n",
       "<circle clip-path=\"url(#clip542)\" style=\"fill:#8be9fd; stroke:none; fill-opacity:0\" cx=\"559.713\" cy=\"1482.4\" r=\"2\"/>\n",
       "<circle clip-path=\"url(#clip542)\" style=\"fill:#8be9fd; stroke:none; fill-opacity:0\" cx=\"603.214\" cy=\"1477.61\" r=\"2\"/>\n",
       "<circle clip-path=\"url(#clip542)\" style=\"fill:#8be9fd; stroke:none; fill-opacity:0\" cx=\"646.714\" cy=\"1473.75\" r=\"2\"/>\n",
       "<circle clip-path=\"url(#clip542)\" style=\"fill:#8be9fd; stroke:none; fill-opacity:0\" cx=\"690.214\" cy=\"1462.15\" r=\"2\"/>\n",
       "<circle clip-path=\"url(#clip542)\" style=\"fill:#8be9fd; stroke:none; fill-opacity:0\" cx=\"733.714\" cy=\"1446.14\" r=\"2\"/>\n",
       "<circle clip-path=\"url(#clip542)\" style=\"fill:#8be9fd; stroke:none; fill-opacity:0\" cx=\"777.214\" cy=\"1412.46\" r=\"2\"/>\n",
       "<circle clip-path=\"url(#clip542)\" style=\"fill:#8be9fd; stroke:none; fill-opacity:0\" cx=\"820.714\" cy=\"1382.28\" r=\"2\"/>\n",
       "<circle clip-path=\"url(#clip542)\" style=\"fill:#8be9fd; stroke:none; fill-opacity:0\" cx=\"864.215\" cy=\"1323.76\" r=\"2\"/>\n",
       "<circle clip-path=\"url(#clip542)\" style=\"fill:#8be9fd; stroke:none; fill-opacity:0\" cx=\"907.715\" cy=\"1237.99\" r=\"2\"/>\n",
       "<circle clip-path=\"url(#clip542)\" style=\"fill:#8be9fd; stroke:none; fill-opacity:0\" cx=\"951.215\" cy=\"1143.95\" r=\"2\"/>\n",
       "<circle clip-path=\"url(#clip542)\" style=\"fill:#8be9fd; stroke:none; fill-opacity:0\" cx=\"994.715\" cy=\"993.401\" r=\"2\"/>\n",
       "<circle clip-path=\"url(#clip542)\" style=\"fill:#8be9fd; stroke:none; fill-opacity:0\" cx=\"1038.22\" cy=\"859.787\" r=\"2\"/>\n",
       "<circle clip-path=\"url(#clip542)\" style=\"fill:#8be9fd; stroke:none; fill-opacity:0\" cx=\"1081.72\" cy=\"668.936\" r=\"2\"/>\n",
       "<circle clip-path=\"url(#clip542)\" style=\"fill:#8be9fd; stroke:none; fill-opacity:0\" cx=\"1125.22\" cy=\"505.139\" r=\"2\"/>\n",
       "<circle clip-path=\"url(#clip542)\" style=\"fill:#8be9fd; stroke:none; fill-opacity:0\" cx=\"1168.72\" cy=\"317.417\" r=\"2\"/>\n",
       "<circle clip-path=\"url(#clip542)\" style=\"fill:#8be9fd; stroke:none; fill-opacity:0\" cx=\"1212.22\" cy=\"227.421\" r=\"2\"/>\n",
       "<circle clip-path=\"url(#clip542)\" style=\"fill:#8be9fd; stroke:none; fill-opacity:0\" cx=\"1255.72\" cy=\"82.58\" r=\"2\"/>\n",
       "<circle clip-path=\"url(#clip542)\" style=\"fill:#8be9fd; stroke:none; fill-opacity:0\" cx=\"1299.22\" cy=\"47.2441\" r=\"2\"/>\n",
       "<circle clip-path=\"url(#clip542)\" style=\"fill:#8be9fd; stroke:none; fill-opacity:0\" cx=\"1342.72\" cy=\"53.6855\" r=\"2\"/>\n",
       "<circle clip-path=\"url(#clip542)\" style=\"fill:#8be9fd; stroke:none; fill-opacity:0\" cx=\"1386.22\" cy=\"96.5672\" r=\"2\"/>\n",
       "<circle clip-path=\"url(#clip542)\" style=\"fill:#8be9fd; stroke:none; fill-opacity:0\" cx=\"1429.72\" cy=\"202.391\" r=\"2\"/>\n",
       "<circle clip-path=\"url(#clip542)\" style=\"fill:#8be9fd; stroke:none; fill-opacity:0\" cx=\"1473.22\" cy=\"337.293\" r=\"2\"/>\n",
       "<circle clip-path=\"url(#clip542)\" style=\"fill:#8be9fd; stroke:none; fill-opacity:0\" cx=\"1516.72\" cy=\"480.662\" r=\"2\"/>\n",
       "<circle clip-path=\"url(#clip542)\" style=\"fill:#8be9fd; stroke:none; fill-opacity:0\" cx=\"1560.22\" cy=\"678.138\" r=\"2\"/>\n",
       "<circle clip-path=\"url(#clip542)\" style=\"fill:#8be9fd; stroke:none; fill-opacity:0\" cx=\"1603.72\" cy=\"857.026\" r=\"2\"/>\n",
       "<circle clip-path=\"url(#clip542)\" style=\"fill:#8be9fd; stroke:none; fill-opacity:0\" cx=\"1647.22\" cy=\"1002.42\" r=\"2\"/>\n",
       "<circle clip-path=\"url(#clip542)\" style=\"fill:#8be9fd; stroke:none; fill-opacity:0\" cx=\"1690.72\" cy=\"1144.13\" r=\"2\"/>\n",
       "<circle clip-path=\"url(#clip542)\" style=\"fill:#8be9fd; stroke:none; fill-opacity:0\" cx=\"1734.22\" cy=\"1246.64\" r=\"2\"/>\n",
       "<circle clip-path=\"url(#clip542)\" style=\"fill:#8be9fd; stroke:none; fill-opacity:0\" cx=\"1777.72\" cy=\"1325.04\" r=\"2\"/>\n",
       "<circle clip-path=\"url(#clip542)\" style=\"fill:#8be9fd; stroke:none; fill-opacity:0\" cx=\"1821.22\" cy=\"1378.78\" r=\"2\"/>\n",
       "<circle clip-path=\"url(#clip542)\" style=\"fill:#8be9fd; stroke:none; fill-opacity:0\" cx=\"1864.72\" cy=\"1423.87\" r=\"2\"/>\n",
       "<circle clip-path=\"url(#clip542)\" style=\"fill:#8be9fd; stroke:none; fill-opacity:0\" cx=\"1908.22\" cy=\"1444.49\" r=\"2\"/>\n",
       "<circle clip-path=\"url(#clip542)\" style=\"fill:#8be9fd; stroke:none; fill-opacity:0\" cx=\"1951.72\" cy=\"1465.65\" r=\"2\"/>\n",
       "<circle clip-path=\"url(#clip542)\" style=\"fill:#8be9fd; stroke:none; fill-opacity:0\" cx=\"1995.22\" cy=\"1470.07\" r=\"2\"/>\n",
       "<circle clip-path=\"url(#clip542)\" style=\"fill:#8be9fd; stroke:none; fill-opacity:0\" cx=\"2038.72\" cy=\"1478.53\" r=\"2\"/>\n",
       "<circle clip-path=\"url(#clip542)\" style=\"fill:#8be9fd; stroke:none; fill-opacity:0\" cx=\"2082.22\" cy=\"1483.87\" r=\"2\"/>\n",
       "<circle clip-path=\"url(#clip542)\" style=\"fill:#8be9fd; stroke:none; fill-opacity:0\" cx=\"2125.72\" cy=\"1484.98\" r=\"2\"/>\n",
       "<circle clip-path=\"url(#clip542)\" style=\"fill:#8be9fd; stroke:none; fill-opacity:0\" cx=\"2169.22\" cy=\"1486.26\" r=\"2\"/>\n",
       "<circle clip-path=\"url(#clip542)\" style=\"fill:#8be9fd; stroke:none; fill-opacity:0\" cx=\"2212.72\" cy=\"1485.71\" r=\"2\"/>\n",
       "</svg>\n"
      ],
      "text/html": [
       "<?xml version=\"1.0\" encoding=\"utf-8\"?>\n",
       "<svg xmlns=\"http://www.w3.org/2000/svg\" xmlns:xlink=\"http://www.w3.org/1999/xlink\" width=\"600\" height=\"400\" viewBox=\"0 0 2400 1600\">\n",
       "<defs>\n",
       "  <clipPath id=\"clip590\">\n",
       "    <rect x=\"0\" y=\"0\" width=\"2400\" height=\"1600\"/>\n",
       "  </clipPath>\n",
       "</defs>\n",
       "<path clip-path=\"url(#clip590)\" d=\"M0 1600 L2400 1600 L2400 0 L0 0  Z\" fill=\"#282a36\" fill-rule=\"evenodd\" fill-opacity=\"1\"/>\n",
       "<defs>\n",
       "  <clipPath id=\"clip591\">\n",
       "    <rect x=\"480\" y=\"0\" width=\"1681\" height=\"1600\"/>\n",
       "  </clipPath>\n",
       "</defs>\n",
       "<path clip-path=\"url(#clip590)\" d=\"M202.177 1486.45 L2352.76 1486.45 L2352.76 47.2441 L202.177 47.2441  Z\" fill=\"#30343b\" fill-rule=\"evenodd\" fill-opacity=\"1\"/>\n",
       "<defs>\n",
       "  <clipPath id=\"clip592\">\n",
       "    <rect x=\"202\" y=\"47\" width=\"2152\" height=\"1440\"/>\n",
       "  </clipPath>\n",
       "</defs>\n",
       "<polyline clip-path=\"url(#clip592)\" style=\"stroke:#f8f8f2; stroke-linecap:round; stroke-linejoin:round; stroke-width:2; stroke-opacity:0.1; fill:none\" points=\"450.963,1486.45 450.963,47.2441 \"/>\n",
       "<polyline clip-path=\"url(#clip592)\" style=\"stroke:#f8f8f2; stroke-linecap:round; stroke-linejoin:round; stroke-width:2; stroke-opacity:0.1; fill:none\" points=\"885.965,1486.45 885.965,47.2441 \"/>\n",
       "<polyline clip-path=\"url(#clip592)\" style=\"stroke:#f8f8f2; stroke-linecap:round; stroke-linejoin:round; stroke-width:2; stroke-opacity:0.1; fill:none\" points=\"1320.97,1486.45 1320.97,47.2441 \"/>\n",
       "<polyline clip-path=\"url(#clip592)\" style=\"stroke:#f8f8f2; stroke-linecap:round; stroke-linejoin:round; stroke-width:2; stroke-opacity:0.1; fill:none\" points=\"1755.97,1486.45 1755.97,47.2441 \"/>\n",
       "<polyline clip-path=\"url(#clip592)\" style=\"stroke:#f8f8f2; stroke-linecap:round; stroke-linejoin:round; stroke-width:2; stroke-opacity:0.1; fill:none\" points=\"2190.97,1486.45 2190.97,47.2441 \"/>\n",
       "<polyline clip-path=\"url(#clip592)\" style=\"stroke:#f8f8f2; stroke-linecap:round; stroke-linejoin:round; stroke-width:2; stroke-opacity:0.1; fill:none\" points=\"202.177,1486.45 2352.76,1486.45 \"/>\n",
       "<polyline clip-path=\"url(#clip592)\" style=\"stroke:#f8f8f2; stroke-linecap:round; stroke-linejoin:round; stroke-width:2; stroke-opacity:0.1; fill:none\" points=\"202.177,1118.37 2352.76,1118.37 \"/>\n",
       "<polyline clip-path=\"url(#clip592)\" style=\"stroke:#f8f8f2; stroke-linecap:round; stroke-linejoin:round; stroke-width:2; stroke-opacity:0.1; fill:none\" points=\"202.177,750.282 2352.76,750.282 \"/>\n",
       "<polyline clip-path=\"url(#clip592)\" style=\"stroke:#f8f8f2; stroke-linecap:round; stroke-linejoin:round; stroke-width:2; stroke-opacity:0.1; fill:none\" points=\"202.177,382.199 2352.76,382.199 \"/>\n",
       "<polyline clip-path=\"url(#clip590)\" style=\"stroke:#f8f8f2; stroke-linecap:round; stroke-linejoin:round; stroke-width:4; stroke-opacity:1; fill:none\" points=\"202.177,1486.45 2352.76,1486.45 \"/>\n",
       "<polyline clip-path=\"url(#clip590)\" style=\"stroke:#f8f8f2; stroke-linecap:round; stroke-linejoin:round; stroke-width:4; stroke-opacity:1; fill:none\" points=\"450.963,1486.45 450.963,1467.55 \"/>\n",
       "<polyline clip-path=\"url(#clip590)\" style=\"stroke:#f8f8f2; stroke-linecap:round; stroke-linejoin:round; stroke-width:4; stroke-opacity:1; fill:none\" points=\"885.965,1486.45 885.965,1467.55 \"/>\n",
       "<polyline clip-path=\"url(#clip590)\" style=\"stroke:#f8f8f2; stroke-linecap:round; stroke-linejoin:round; stroke-width:4; stroke-opacity:1; fill:none\" points=\"1320.97,1486.45 1320.97,1467.55 \"/>\n",
       "<polyline clip-path=\"url(#clip590)\" style=\"stroke:#f8f8f2; stroke-linecap:round; stroke-linejoin:round; stroke-width:4; stroke-opacity:1; fill:none\" points=\"1755.97,1486.45 1755.97,1467.55 \"/>\n",
       "<polyline clip-path=\"url(#clip590)\" style=\"stroke:#f8f8f2; stroke-linecap:round; stroke-linejoin:round; stroke-width:4; stroke-opacity:1; fill:none\" points=\"2190.97,1486.45 2190.97,1467.55 \"/>\n",
       "<path clip-path=\"url(#clip590)\" d=\"M419.864 1532.02 L449.539 1532.02 L449.539 1535.95 L419.864 1535.95 L419.864 1532.02 Z\" fill=\"#f8f8f2\" fill-rule=\"nonzero\" fill-opacity=\"1\" /><path clip-path=\"url(#clip590)\" d=\"M472.479 1518.36 L460.674 1536.81 L472.479 1536.81 L472.479 1518.36 M471.252 1514.29 L477.132 1514.29 L477.132 1536.81 L482.062 1536.81 L482.062 1540.7 L477.132 1540.7 L477.132 1548.85 L472.479 1548.85 L472.479 1540.7 L456.877 1540.7 L456.877 1536.19 L471.252 1514.29 Z\" fill=\"#f8f8f2\" fill-rule=\"nonzero\" fill-opacity=\"1\" /><path clip-path=\"url(#clip590)\" d=\"M855.907 1532.02 L885.583 1532.02 L885.583 1535.95 L855.907 1535.95 L855.907 1532.02 Z\" fill=\"#f8f8f2\" fill-rule=\"nonzero\" fill-opacity=\"1\" /><path clip-path=\"url(#clip590)\" d=\"M899.703 1544.91 L916.022 1544.91 L916.022 1548.85 L894.078 1548.85 L894.078 1544.91 Q896.74 1542.16 901.323 1537.53 Q905.93 1532.88 907.11 1531.53 Q909.356 1529.01 910.235 1527.27 Q911.138 1525.51 911.138 1523.82 Q911.138 1521.07 909.194 1519.33 Q907.272 1517.6 904.171 1517.6 Q901.972 1517.6 899.518 1518.36 Q897.087 1519.13 894.31 1520.68 L894.31 1515.95 Q897.134 1514.82 899.587 1514.24 Q902.041 1513.66 904.078 1513.66 Q909.448 1513.66 912.643 1516.35 Q915.837 1519.03 915.837 1523.52 Q915.837 1525.65 915.027 1527.57 Q914.24 1529.47 912.134 1532.07 Q911.555 1532.74 908.453 1535.95 Q905.351 1539.15 899.703 1544.91 Z\" fill=\"#f8f8f2\" fill-rule=\"nonzero\" fill-opacity=\"1\" /><path clip-path=\"url(#clip590)\" d=\"M1320.97 1517.37 Q1317.36 1517.37 1315.53 1520.93 Q1313.72 1524.47 1313.72 1531.6 Q1313.72 1538.71 1315.53 1542.27 Q1317.36 1545.82 1320.97 1545.82 Q1324.6 1545.82 1326.41 1542.27 Q1328.23 1538.71 1328.23 1531.6 Q1328.23 1524.47 1326.41 1520.93 Q1324.6 1517.37 1320.97 1517.37 M1320.97 1513.66 Q1326.78 1513.66 1329.83 1518.27 Q1332.91 1522.85 1332.91 1531.6 Q1332.91 1540.33 1329.83 1544.94 Q1326.78 1549.52 1320.97 1549.52 Q1315.16 1549.52 1312.08 1544.94 Q1309.02 1540.33 1309.02 1531.6 Q1309.02 1522.85 1312.08 1518.27 Q1315.16 1513.66 1320.97 1513.66 Z\" fill=\"#f8f8f2\" fill-rule=\"nonzero\" fill-opacity=\"1\" /><path clip-path=\"url(#clip590)\" d=\"M1750.62 1544.91 L1766.94 1544.91 L1766.94 1548.85 L1745 1548.85 L1745 1544.91 Q1747.66 1542.16 1752.24 1537.53 Q1756.85 1532.88 1758.03 1531.53 Q1760.27 1529.01 1761.15 1527.27 Q1762.06 1525.51 1762.06 1523.82 Q1762.06 1521.07 1760.11 1519.33 Q1758.19 1517.6 1755.09 1517.6 Q1752.89 1517.6 1750.44 1518.36 Q1748.01 1519.13 1745.23 1520.68 L1745.23 1515.95 Q1748.05 1514.82 1750.51 1514.24 Q1752.96 1513.66 1755 1513.66 Q1760.37 1513.66 1763.56 1516.35 Q1766.76 1519.03 1766.76 1523.52 Q1766.76 1525.65 1765.95 1527.57 Q1765.16 1529.47 1763.05 1532.07 Q1762.47 1532.74 1759.37 1535.95 Q1756.27 1539.15 1750.62 1544.91 Z\" fill=\"#f8f8f2\" fill-rule=\"nonzero\" fill-opacity=\"1\" /><path clip-path=\"url(#clip590)\" d=\"M2193.98 1518.36 L2182.17 1536.81 L2193.98 1536.81 L2193.98 1518.36 M2192.75 1514.29 L2198.63 1514.29 L2198.63 1536.81 L2203.56 1536.81 L2203.56 1540.7 L2198.63 1540.7 L2198.63 1548.85 L2193.98 1548.85 L2193.98 1540.7 L2178.38 1540.7 L2178.38 1536.19 L2192.75 1514.29 Z\" fill=\"#f8f8f2\" fill-rule=\"nonzero\" fill-opacity=\"1\" /><polyline clip-path=\"url(#clip590)\" style=\"stroke:#f8f8f2; stroke-linecap:round; stroke-linejoin:round; stroke-width:4; stroke-opacity:1; fill:none\" points=\"202.177,1486.45 202.177,47.2441 \"/>\n",
       "<polyline clip-path=\"url(#clip590)\" style=\"stroke:#f8f8f2; stroke-linecap:round; stroke-linejoin:round; stroke-width:4; stroke-opacity:1; fill:none\" points=\"202.177,1486.45 221.074,1486.45 \"/>\n",
       "<polyline clip-path=\"url(#clip590)\" style=\"stroke:#f8f8f2; stroke-linecap:round; stroke-linejoin:round; stroke-width:4; stroke-opacity:1; fill:none\" points=\"202.177,1118.37 221.074,1118.37 \"/>\n",
       "<polyline clip-path=\"url(#clip590)\" style=\"stroke:#f8f8f2; stroke-linecap:round; stroke-linejoin:round; stroke-width:4; stroke-opacity:1; fill:none\" points=\"202.177,750.282 221.074,750.282 \"/>\n",
       "<polyline clip-path=\"url(#clip590)\" style=\"stroke:#f8f8f2; stroke-linecap:round; stroke-linejoin:round; stroke-width:4; stroke-opacity:1; fill:none\" points=\"202.177,382.199 221.074,382.199 \"/>\n",
       "<path clip-path=\"url(#clip590)\" d=\"M154.232 1472.25 Q150.621 1472.25 148.793 1475.81 Q146.987 1479.35 146.987 1486.48 Q146.987 1493.59 148.793 1497.15 Q150.621 1500.7 154.232 1500.7 Q157.867 1500.7 159.672 1497.15 Q161.501 1493.59 161.501 1486.48 Q161.501 1479.35 159.672 1475.81 Q157.867 1472.25 154.232 1472.25 M154.232 1468.54 Q160.042 1468.54 163.098 1473.15 Q166.177 1477.73 166.177 1486.48 Q166.177 1495.21 163.098 1499.82 Q160.042 1504.4 154.232 1504.4 Q148.422 1504.4 145.343 1499.82 Q142.288 1495.21 142.288 1486.48 Q142.288 1477.73 145.343 1473.15 Q148.422 1468.54 154.232 1468.54 Z\" fill=\"#f8f8f2\" fill-rule=\"nonzero\" fill-opacity=\"1\" /><path clip-path=\"url(#clip590)\" d=\"M57.7745 1131.71 L74.0939 1131.71 L74.0939 1135.65 L52.1495 1135.65 L52.1495 1131.71 Q54.8115 1128.96 59.3949 1124.33 Q64.0013 1119.67 65.1819 1118.33 Q67.4272 1115.81 68.3068 1114.07 Q69.2096 1112.31 69.2096 1110.62 Q69.2096 1107.87 67.2652 1106.13 Q65.3439 1104.4 62.2421 1104.4 Q60.043 1104.4 57.5893 1105.16 Q55.1588 1105.92 52.381 1107.47 L52.381 1102.75 Q55.2051 1101.62 57.6588 1101.04 Q60.1124 1100.46 62.1495 1100.46 Q67.5198 1100.46 70.7142 1103.15 Q73.9087 1105.83 73.9087 1110.32 Q73.9087 1112.45 73.0985 1114.37 Q72.3115 1116.27 70.205 1118.86 Q69.6263 1119.53 66.5245 1122.75 Q63.4226 1125.95 57.7745 1131.71 Z\" fill=\"#f8f8f2\" fill-rule=\"nonzero\" fill-opacity=\"1\" /><path clip-path=\"url(#clip590)\" d=\"M93.9086 1104.16 Q90.2975 1104.16 88.4688 1107.73 Q86.6632 1111.27 86.6632 1118.4 Q86.6632 1125.51 88.4688 1129.07 Q90.2975 1132.61 93.9086 1132.61 Q97.5428 1132.61 99.3483 1129.07 Q101.177 1125.51 101.177 1118.4 Q101.177 1111.27 99.3483 1107.73 Q97.5428 1104.16 93.9086 1104.16 M93.9086 1100.46 Q99.7187 1100.46 102.774 1105.07 Q105.853 1109.65 105.853 1118.4 Q105.853 1127.13 102.774 1131.73 Q99.7187 1136.32 93.9086 1136.32 Q88.0984 1136.32 85.0197 1131.73 Q81.9642 1127.13 81.9642 1118.4 Q81.9642 1109.65 85.0197 1105.07 Q88.0984 1100.46 93.9086 1100.46 Z\" fill=\"#f8f8f2\" fill-rule=\"nonzero\" fill-opacity=\"1\" /><path clip-path=\"url(#clip590)\" d=\"M124.07 1104.16 Q120.459 1104.16 118.631 1107.73 Q116.825 1111.27 116.825 1118.4 Q116.825 1125.51 118.631 1129.07 Q120.459 1132.61 124.07 1132.61 Q127.705 1132.61 129.51 1129.07 Q131.339 1125.51 131.339 1118.4 Q131.339 1111.27 129.51 1107.73 Q127.705 1104.16 124.07 1104.16 M124.07 1100.46 Q129.881 1100.46 132.936 1105.07 Q136.015 1109.65 136.015 1118.4 Q136.015 1127.13 132.936 1131.73 Q129.881 1136.32 124.07 1136.32 Q118.26 1136.32 115.182 1131.73 Q112.126 1127.13 112.126 1118.4 Q112.126 1109.65 115.182 1105.07 Q118.26 1100.46 124.07 1100.46 Z\" fill=\"#f8f8f2\" fill-rule=\"nonzero\" fill-opacity=\"1\" /><path clip-path=\"url(#clip590)\" d=\"M154.232 1104.16 Q150.621 1104.16 148.793 1107.73 Q146.987 1111.27 146.987 1118.4 Q146.987 1125.51 148.793 1129.07 Q150.621 1132.61 154.232 1132.61 Q157.867 1132.61 159.672 1129.07 Q161.501 1125.51 161.501 1118.4 Q161.501 1111.27 159.672 1107.73 Q157.867 1104.16 154.232 1104.16 M154.232 1100.46 Q160.042 1100.46 163.098 1105.07 Q166.177 1109.65 166.177 1118.4 Q166.177 1127.13 163.098 1131.73 Q160.042 1136.32 154.232 1136.32 Q148.422 1136.32 145.343 1131.73 Q142.288 1127.13 142.288 1118.4 Q142.288 1109.65 145.343 1105.07 Q148.422 1100.46 154.232 1100.46 Z\" fill=\"#f8f8f2\" fill-rule=\"nonzero\" fill-opacity=\"1\" /><path clip-path=\"url(#clip590)\" d=\"M66.5939 737.076 L54.7884 755.525 L66.5939 755.525 L66.5939 737.076 M65.367 733.002 L71.2466 733.002 L71.2466 755.525 L76.1772 755.525 L76.1772 759.414 L71.2466 759.414 L71.2466 767.562 L66.5939 767.562 L66.5939 759.414 L50.9921 759.414 L50.9921 754.9 L65.367 733.002 Z\" fill=\"#f8f8f2\" fill-rule=\"nonzero\" fill-opacity=\"1\" /><path clip-path=\"url(#clip590)\" d=\"M93.9086 736.081 Q90.2975 736.081 88.4688 739.646 Q86.6632 743.187 86.6632 750.317 Q86.6632 757.423 88.4688 760.988 Q90.2975 764.53 93.9086 764.53 Q97.5428 764.53 99.3483 760.988 Q101.177 757.423 101.177 750.317 Q101.177 743.187 99.3483 739.646 Q97.5428 736.081 93.9086 736.081 M93.9086 732.377 Q99.7187 732.377 102.774 736.984 Q105.853 741.567 105.853 750.317 Q105.853 759.044 102.774 763.65 Q99.7187 768.234 93.9086 768.234 Q88.0984 768.234 85.0197 763.65 Q81.9642 759.044 81.9642 750.317 Q81.9642 741.567 85.0197 736.984 Q88.0984 732.377 93.9086 732.377 Z\" fill=\"#f8f8f2\" fill-rule=\"nonzero\" fill-opacity=\"1\" /><path clip-path=\"url(#clip590)\" d=\"M124.07 736.081 Q120.459 736.081 118.631 739.646 Q116.825 743.187 116.825 750.317 Q116.825 757.423 118.631 760.988 Q120.459 764.53 124.07 764.53 Q127.705 764.53 129.51 760.988 Q131.339 757.423 131.339 750.317 Q131.339 743.187 129.51 739.646 Q127.705 736.081 124.07 736.081 M124.07 732.377 Q129.881 732.377 132.936 736.984 Q136.015 741.567 136.015 750.317 Q136.015 759.044 132.936 763.65 Q129.881 768.234 124.07 768.234 Q118.26 768.234 115.182 763.65 Q112.126 759.044 112.126 750.317 Q112.126 741.567 115.182 736.984 Q118.26 732.377 124.07 732.377 Z\" fill=\"#f8f8f2\" fill-rule=\"nonzero\" fill-opacity=\"1\" /><path clip-path=\"url(#clip590)\" d=\"M154.232 736.081 Q150.621 736.081 148.793 739.646 Q146.987 743.187 146.987 750.317 Q146.987 757.423 148.793 760.988 Q150.621 764.53 154.232 764.53 Q157.867 764.53 159.672 760.988 Q161.501 757.423 161.501 750.317 Q161.501 743.187 159.672 739.646 Q157.867 736.081 154.232 736.081 M154.232 732.377 Q160.042 732.377 163.098 736.984 Q166.177 741.567 166.177 750.317 Q166.177 759.044 163.098 763.65 Q160.042 768.234 154.232 768.234 Q148.422 768.234 145.343 763.65 Q142.288 759.044 142.288 750.317 Q142.288 741.567 145.343 736.984 Q148.422 732.377 154.232 732.377 Z\" fill=\"#f8f8f2\" fill-rule=\"nonzero\" fill-opacity=\"1\" /><path clip-path=\"url(#clip590)\" d=\"M64.3254 380.336 Q61.1773 380.336 59.3254 382.489 Q57.4967 384.642 57.4967 388.392 Q57.4967 392.118 59.3254 394.294 Q61.1773 396.447 64.3254 396.447 Q67.4735 396.447 69.3022 394.294 Q71.1541 392.118 71.1541 388.392 Q71.1541 384.642 69.3022 382.489 Q67.4735 380.336 64.3254 380.336 M73.6077 365.683 L73.6077 369.943 Q71.8485 369.109 70.0429 368.669 Q68.2606 368.23 66.5013 368.23 Q61.8717 368.23 59.418 371.355 Q56.9875 374.48 56.6402 380.799 Q58.006 378.785 60.0662 377.72 Q62.1263 376.632 64.6032 376.632 Q69.8115 376.632 72.8207 379.804 Q75.8531 382.952 75.8531 388.392 Q75.8531 393.716 72.705 396.933 Q69.5568 400.151 64.3254 400.151 Q58.33 400.151 55.1588 395.567 Q51.9875 390.961 51.9875 382.234 Q51.9875 374.04 55.8764 369.179 Q59.7652 364.294 66.3161 364.294 Q68.0754 364.294 69.8578 364.642 Q71.6633 364.989 73.6077 365.683 Z\" fill=\"#f8f8f2\" fill-rule=\"nonzero\" fill-opacity=\"1\" /><path clip-path=\"url(#clip590)\" d=\"M93.9086 367.998 Q90.2975 367.998 88.4688 371.563 Q86.6632 375.105 86.6632 382.234 Q86.6632 389.341 88.4688 392.905 Q90.2975 396.447 93.9086 396.447 Q97.5428 396.447 99.3483 392.905 Q101.177 389.341 101.177 382.234 Q101.177 375.105 99.3483 371.563 Q97.5428 367.998 93.9086 367.998 M93.9086 364.294 Q99.7187 364.294 102.774 368.901 Q105.853 373.484 105.853 382.234 Q105.853 390.961 102.774 395.567 Q99.7187 400.151 93.9086 400.151 Q88.0984 400.151 85.0197 395.567 Q81.9642 390.961 81.9642 382.234 Q81.9642 373.484 85.0197 368.901 Q88.0984 364.294 93.9086 364.294 Z\" fill=\"#f8f8f2\" fill-rule=\"nonzero\" fill-opacity=\"1\" /><path clip-path=\"url(#clip590)\" d=\"M124.07 367.998 Q120.459 367.998 118.631 371.563 Q116.825 375.105 116.825 382.234 Q116.825 389.341 118.631 392.905 Q120.459 396.447 124.07 396.447 Q127.705 396.447 129.51 392.905 Q131.339 389.341 131.339 382.234 Q131.339 375.105 129.51 371.563 Q127.705 367.998 124.07 367.998 M124.07 364.294 Q129.881 364.294 132.936 368.901 Q136.015 373.484 136.015 382.234 Q136.015 390.961 132.936 395.567 Q129.881 400.151 124.07 400.151 Q118.26 400.151 115.182 395.567 Q112.126 390.961 112.126 382.234 Q112.126 373.484 115.182 368.901 Q118.26 364.294 124.07 364.294 Z\" fill=\"#f8f8f2\" fill-rule=\"nonzero\" fill-opacity=\"1\" /><path clip-path=\"url(#clip590)\" d=\"M154.232 367.998 Q150.621 367.998 148.793 371.563 Q146.987 375.105 146.987 382.234 Q146.987 389.341 148.793 392.905 Q150.621 396.447 154.232 396.447 Q157.867 396.447 159.672 392.905 Q161.501 389.341 161.501 382.234 Q161.501 375.105 159.672 371.563 Q157.867 367.998 154.232 367.998 M154.232 364.294 Q160.042 364.294 163.098 368.901 Q166.177 373.484 166.177 382.234 Q166.177 390.961 163.098 395.567 Q160.042 400.151 154.232 400.151 Q148.422 400.151 145.343 395.567 Q142.288 390.961 142.288 382.234 Q142.288 373.484 145.343 368.901 Q148.422 364.294 154.232 364.294 Z\" fill=\"#f8f8f2\" fill-rule=\"nonzero\" fill-opacity=\"1\" /><path clip-path=\"url(#clip592)\" d=\"M320.462 1486.26 L320.462 1486.45 L363.963 1486.45 L363.963 1486.26 L320.462 1486.26 L320.462 1486.26  Z\" fill=\"#8be9fd\" fill-rule=\"evenodd\" fill-opacity=\"1\"/>\n",
       "<polyline clip-path=\"url(#clip592)\" style=\"stroke:#f8f8f2; stroke-linecap:round; stroke-linejoin:round; stroke-width:4; stroke-opacity:1; fill:none\" points=\"320.462,1486.26 320.462,1486.45 363.963,1486.45 363.963,1486.26 320.462,1486.26 \"/>\n",
       "<path clip-path=\"url(#clip592)\" d=\"M363.963 1486.45 L363.963 1486.45 L407.463 1486.45 L407.463 1486.45 L363.963 1486.45 L363.963 1486.45  Z\" fill=\"#8be9fd\" fill-rule=\"evenodd\" fill-opacity=\"1\"/>\n",
       "<polyline clip-path=\"url(#clip592)\" style=\"stroke:#f8f8f2; stroke-linecap:round; stroke-linejoin:round; stroke-width:4; stroke-opacity:1; fill:none\" points=\"363.963,1486.45 363.963,1486.45 407.463,1486.45 363.963,1486.45 \"/>\n",
       "<path clip-path=\"url(#clip592)\" d=\"M407.463 1486.08 L407.463 1486.45 L450.963 1486.45 L450.963 1486.08 L407.463 1486.08 L407.463 1486.08  Z\" fill=\"#8be9fd\" fill-rule=\"evenodd\" fill-opacity=\"1\"/>\n",
       "<polyline clip-path=\"url(#clip592)\" style=\"stroke:#f8f8f2; stroke-linecap:round; stroke-linejoin:round; stroke-width:4; stroke-opacity:1; fill:none\" points=\"407.463,1486.08 407.463,1486.45 450.963,1486.45 450.963,1486.08 407.463,1486.08 \"/>\n",
       "<path clip-path=\"url(#clip592)\" d=\"M450.963 1486.08 L450.963 1486.45 L494.463 1486.45 L494.463 1486.08 L450.963 1486.08 L450.963 1486.08  Z\" fill=\"#8be9fd\" fill-rule=\"evenodd\" fill-opacity=\"1\"/>\n",
       "<polyline clip-path=\"url(#clip592)\" style=\"stroke:#f8f8f2; stroke-linecap:round; stroke-linejoin:round; stroke-width:4; stroke-opacity:1; fill:none\" points=\"450.963,1486.08 450.963,1486.45 494.463,1486.45 494.463,1486.08 450.963,1486.08 \"/>\n",
       "<path clip-path=\"url(#clip592)\" d=\"M494.463 1484.06 L494.463 1486.45 L537.963 1486.45 L537.963 1484.06 L494.463 1484.06 L494.463 1484.06  Z\" fill=\"#8be9fd\" fill-rule=\"evenodd\" fill-opacity=\"1\"/>\n",
       "<polyline clip-path=\"url(#clip592)\" style=\"stroke:#f8f8f2; stroke-linecap:round; stroke-linejoin:round; stroke-width:4; stroke-opacity:1; fill:none\" points=\"494.463,1484.06 494.463,1486.45 537.963,1486.45 537.963,1484.06 494.463,1484.06 \"/>\n",
       "<path clip-path=\"url(#clip592)\" d=\"M537.963 1482.4 L537.963 1486.45 L581.463 1486.45 L581.463 1482.4 L537.963 1482.4 L537.963 1482.4  Z\" fill=\"#8be9fd\" fill-rule=\"evenodd\" fill-opacity=\"1\"/>\n",
       "<polyline clip-path=\"url(#clip592)\" style=\"stroke:#f8f8f2; stroke-linecap:round; stroke-linejoin:round; stroke-width:4; stroke-opacity:1; fill:none\" points=\"537.963,1482.4 537.963,1486.45 581.463,1486.45 581.463,1482.4 537.963,1482.4 \"/>\n",
       "<path clip-path=\"url(#clip592)\" d=\"M581.463 1477.61 L581.463 1486.45 L624.964 1486.45 L624.964 1477.61 L581.463 1477.61 L581.463 1477.61  Z\" fill=\"#8be9fd\" fill-rule=\"evenodd\" fill-opacity=\"1\"/>\n",
       "<polyline clip-path=\"url(#clip592)\" style=\"stroke:#f8f8f2; stroke-linecap:round; stroke-linejoin:round; stroke-width:4; stroke-opacity:1; fill:none\" points=\"581.463,1477.61 581.463,1486.45 624.964,1486.45 624.964,1477.61 581.463,1477.61 \"/>\n",
       "<path clip-path=\"url(#clip592)\" d=\"M624.964 1473.75 L624.964 1486.45 L668.464 1486.45 L668.464 1473.75 L624.964 1473.75 L624.964 1473.75  Z\" fill=\"#8be9fd\" fill-rule=\"evenodd\" fill-opacity=\"1\"/>\n",
       "<polyline clip-path=\"url(#clip592)\" style=\"stroke:#f8f8f2; stroke-linecap:round; stroke-linejoin:round; stroke-width:4; stroke-opacity:1; fill:none\" points=\"624.964,1473.75 624.964,1486.45 668.464,1486.45 668.464,1473.75 624.964,1473.75 \"/>\n",
       "<path clip-path=\"url(#clip592)\" d=\"M668.464 1462.15 L668.464 1486.45 L711.964 1486.45 L711.964 1462.15 L668.464 1462.15 L668.464 1462.15  Z\" fill=\"#8be9fd\" fill-rule=\"evenodd\" fill-opacity=\"1\"/>\n",
       "<polyline clip-path=\"url(#clip592)\" style=\"stroke:#f8f8f2; stroke-linecap:round; stroke-linejoin:round; stroke-width:4; stroke-opacity:1; fill:none\" points=\"668.464,1462.15 668.464,1486.45 711.964,1486.45 711.964,1462.15 668.464,1462.15 \"/>\n",
       "<path clip-path=\"url(#clip592)\" d=\"M711.964 1446.14 L711.964 1486.45 L755.464 1486.45 L755.464 1446.14 L711.964 1446.14 L711.964 1446.14  Z\" fill=\"#8be9fd\" fill-rule=\"evenodd\" fill-opacity=\"1\"/>\n",
       "<polyline clip-path=\"url(#clip592)\" style=\"stroke:#f8f8f2; stroke-linecap:round; stroke-linejoin:round; stroke-width:4; stroke-opacity:1; fill:none\" points=\"711.964,1446.14 711.964,1486.45 755.464,1486.45 755.464,1446.14 711.964,1446.14 \"/>\n",
       "<path clip-path=\"url(#clip592)\" d=\"M755.464 1412.46 L755.464 1486.45 L798.964 1486.45 L798.964 1412.46 L755.464 1412.46 L755.464 1412.46  Z\" fill=\"#8be9fd\" fill-rule=\"evenodd\" fill-opacity=\"1\"/>\n",
       "<polyline clip-path=\"url(#clip592)\" style=\"stroke:#f8f8f2; stroke-linecap:round; stroke-linejoin:round; stroke-width:4; stroke-opacity:1; fill:none\" points=\"755.464,1412.46 755.464,1486.45 798.964,1486.45 798.964,1412.46 755.464,1412.46 \"/>\n",
       "<path clip-path=\"url(#clip592)\" d=\"M798.964 1382.28 L798.964 1486.45 L842.465 1486.45 L842.465 1382.28 L798.964 1382.28 L798.964 1382.28  Z\" fill=\"#8be9fd\" fill-rule=\"evenodd\" fill-opacity=\"1\"/>\n",
       "<polyline clip-path=\"url(#clip592)\" style=\"stroke:#f8f8f2; stroke-linecap:round; stroke-linejoin:round; stroke-width:4; stroke-opacity:1; fill:none\" points=\"798.964,1382.28 798.964,1486.45 842.465,1486.45 842.465,1382.28 798.964,1382.28 \"/>\n",
       "<path clip-path=\"url(#clip592)\" d=\"M842.465 1323.76 L842.465 1486.45 L885.965 1486.45 L885.965 1323.76 L842.465 1323.76 L842.465 1323.76  Z\" fill=\"#8be9fd\" fill-rule=\"evenodd\" fill-opacity=\"1\"/>\n",
       "<polyline clip-path=\"url(#clip592)\" style=\"stroke:#f8f8f2; stroke-linecap:round; stroke-linejoin:round; stroke-width:4; stroke-opacity:1; fill:none\" points=\"842.465,1323.76 842.465,1486.45 885.965,1486.45 885.965,1323.76 842.465,1323.76 \"/>\n",
       "<path clip-path=\"url(#clip592)\" d=\"M885.965 1237.99 L885.965 1486.45 L929.465 1486.45 L929.465 1237.99 L885.965 1237.99 L885.965 1237.99  Z\" fill=\"#8be9fd\" fill-rule=\"evenodd\" fill-opacity=\"1\"/>\n",
       "<polyline clip-path=\"url(#clip592)\" style=\"stroke:#f8f8f2; stroke-linecap:round; stroke-linejoin:round; stroke-width:4; stroke-opacity:1; fill:none\" points=\"885.965,1237.99 885.965,1486.45 929.465,1486.45 929.465,1237.99 885.965,1237.99 \"/>\n",
       "<path clip-path=\"url(#clip592)\" d=\"M929.465 1143.95 L929.465 1486.45 L972.965 1486.45 L972.965 1143.95 L929.465 1143.95 L929.465 1143.95  Z\" fill=\"#8be9fd\" fill-rule=\"evenodd\" fill-opacity=\"1\"/>\n",
       "<polyline clip-path=\"url(#clip592)\" style=\"stroke:#f8f8f2; stroke-linecap:round; stroke-linejoin:round; stroke-width:4; stroke-opacity:1; fill:none\" points=\"929.465,1143.95 929.465,1486.45 972.965,1486.45 972.965,1143.95 929.465,1143.95 \"/>\n",
       "<path clip-path=\"url(#clip592)\" d=\"M972.965 993.401 L972.965 1486.45 L1016.47 1486.45 L1016.47 993.401 L972.965 993.401 L972.965 993.401  Z\" fill=\"#8be9fd\" fill-rule=\"evenodd\" fill-opacity=\"1\"/>\n",
       "<polyline clip-path=\"url(#clip592)\" style=\"stroke:#f8f8f2; stroke-linecap:round; stroke-linejoin:round; stroke-width:4; stroke-opacity:1; fill:none\" points=\"972.965,993.401 972.965,1486.45 1016.47,1486.45 1016.47,993.401 972.965,993.401 \"/>\n",
       "<path clip-path=\"url(#clip592)\" d=\"M1016.47 859.787 L1016.47 1486.45 L1059.97 1486.45 L1059.97 859.787 L1016.47 859.787 L1016.47 859.787  Z\" fill=\"#8be9fd\" fill-rule=\"evenodd\" fill-opacity=\"1\"/>\n",
       "<polyline clip-path=\"url(#clip592)\" style=\"stroke:#f8f8f2; stroke-linecap:round; stroke-linejoin:round; stroke-width:4; stroke-opacity:1; fill:none\" points=\"1016.47,859.787 1016.47,1486.45 1059.97,1486.45 1059.97,859.787 1016.47,859.787 \"/>\n",
       "<path clip-path=\"url(#clip592)\" d=\"M1059.97 668.936 L1059.97 1486.45 L1103.47 1486.45 L1103.47 668.936 L1059.97 668.936 L1059.97 668.936  Z\" fill=\"#8be9fd\" fill-rule=\"evenodd\" fill-opacity=\"1\"/>\n",
       "<polyline clip-path=\"url(#clip592)\" style=\"stroke:#f8f8f2; stroke-linecap:round; stroke-linejoin:round; stroke-width:4; stroke-opacity:1; fill:none\" points=\"1059.97,668.936 1059.97,1486.45 1103.47,1486.45 1103.47,668.936 1059.97,668.936 \"/>\n",
       "<path clip-path=\"url(#clip592)\" d=\"M1103.47 505.139 L1103.47 1486.45 L1146.97 1486.45 L1146.97 505.139 L1103.47 505.139 L1103.47 505.139  Z\" fill=\"#8be9fd\" fill-rule=\"evenodd\" fill-opacity=\"1\"/>\n",
       "<polyline clip-path=\"url(#clip592)\" style=\"stroke:#f8f8f2; stroke-linecap:round; stroke-linejoin:round; stroke-width:4; stroke-opacity:1; fill:none\" points=\"1103.47,505.139 1103.47,1486.45 1146.97,1486.45 1146.97,505.139 1103.47,505.139 \"/>\n",
       "<path clip-path=\"url(#clip592)\" d=\"M1146.97 317.417 L1146.97 1486.45 L1190.47 1486.45 L1190.47 317.417 L1146.97 317.417 L1146.97 317.417  Z\" fill=\"#8be9fd\" fill-rule=\"evenodd\" fill-opacity=\"1\"/>\n",
       "<polyline clip-path=\"url(#clip592)\" style=\"stroke:#f8f8f2; stroke-linecap:round; stroke-linejoin:round; stroke-width:4; stroke-opacity:1; fill:none\" points=\"1146.97,317.417 1146.97,1486.45 1190.47,1486.45 1190.47,317.417 1146.97,317.417 \"/>\n",
       "<path clip-path=\"url(#clip592)\" d=\"M1190.47 227.421 L1190.47 1486.45 L1233.97 1486.45 L1233.97 227.421 L1190.47 227.421 L1190.47 227.421  Z\" fill=\"#8be9fd\" fill-rule=\"evenodd\" fill-opacity=\"1\"/>\n",
       "<polyline clip-path=\"url(#clip592)\" style=\"stroke:#f8f8f2; stroke-linecap:round; stroke-linejoin:round; stroke-width:4; stroke-opacity:1; fill:none\" points=\"1190.47,227.421 1190.47,1486.45 1233.97,1486.45 1233.97,227.421 1190.47,227.421 \"/>\n",
       "<path clip-path=\"url(#clip592)\" d=\"M1233.97 82.58 L1233.97 1486.45 L1277.47 1486.45 L1277.47 82.58 L1233.97 82.58 L1233.97 82.58  Z\" fill=\"#8be9fd\" fill-rule=\"evenodd\" fill-opacity=\"1\"/>\n",
       "<polyline clip-path=\"url(#clip592)\" style=\"stroke:#f8f8f2; stroke-linecap:round; stroke-linejoin:round; stroke-width:4; stroke-opacity:1; fill:none\" points=\"1233.97,82.58 1233.97,1486.45 1277.47,1486.45 1277.47,82.58 1233.97,82.58 \"/>\n",
       "<path clip-path=\"url(#clip592)\" d=\"M1277.47 47.2441 L1277.47 1486.45 L1320.97 1486.45 L1320.97 47.2441 L1277.47 47.2441 L1277.47 47.2441  Z\" fill=\"#8be9fd\" fill-rule=\"evenodd\" fill-opacity=\"1\"/>\n",
       "<polyline clip-path=\"url(#clip592)\" style=\"stroke:#f8f8f2; stroke-linecap:round; stroke-linejoin:round; stroke-width:4; stroke-opacity:1; fill:none\" points=\"1277.47,47.2441 1277.47,1486.45 1320.97,1486.45 1320.97,47.2441 1277.47,47.2441 \"/>\n",
       "<path clip-path=\"url(#clip592)\" d=\"M1320.97 53.6855 L1320.97 1486.45 L1364.47 1486.45 L1364.47 53.6855 L1320.97 53.6855 L1320.97 53.6855  Z\" fill=\"#8be9fd\" fill-rule=\"evenodd\" fill-opacity=\"1\"/>\n",
       "<polyline clip-path=\"url(#clip592)\" style=\"stroke:#f8f8f2; stroke-linecap:round; stroke-linejoin:round; stroke-width:4; stroke-opacity:1; fill:none\" points=\"1320.97,53.6855 1320.97,1486.45 1364.47,1486.45 1364.47,53.6855 1320.97,53.6855 \"/>\n",
       "<path clip-path=\"url(#clip592)\" d=\"M1364.47 96.5672 L1364.47 1486.45 L1407.97 1486.45 L1407.97 96.5672 L1364.47 96.5672 L1364.47 96.5672  Z\" fill=\"#8be9fd\" fill-rule=\"evenodd\" fill-opacity=\"1\"/>\n",
       "<polyline clip-path=\"url(#clip592)\" style=\"stroke:#f8f8f2; stroke-linecap:round; stroke-linejoin:round; stroke-width:4; stroke-opacity:1; fill:none\" points=\"1364.47,96.5672 1364.47,1486.45 1407.97,1486.45 1407.97,96.5672 1364.47,96.5672 \"/>\n",
       "<path clip-path=\"url(#clip592)\" d=\"M1407.97 202.391 L1407.97 1486.45 L1451.47 1486.45 L1451.47 202.391 L1407.97 202.391 L1407.97 202.391  Z\" fill=\"#8be9fd\" fill-rule=\"evenodd\" fill-opacity=\"1\"/>\n",
       "<polyline clip-path=\"url(#clip592)\" style=\"stroke:#f8f8f2; stroke-linecap:round; stroke-linejoin:round; stroke-width:4; stroke-opacity:1; fill:none\" points=\"1407.97,202.391 1407.97,1486.45 1451.47,1486.45 1451.47,202.391 1407.97,202.391 \"/>\n",
       "<path clip-path=\"url(#clip592)\" d=\"M1451.47 337.293 L1451.47 1486.45 L1494.97 1486.45 L1494.97 337.293 L1451.47 337.293 L1451.47 337.293  Z\" fill=\"#8be9fd\" fill-rule=\"evenodd\" fill-opacity=\"1\"/>\n",
       "<polyline clip-path=\"url(#clip592)\" style=\"stroke:#f8f8f2; stroke-linecap:round; stroke-linejoin:round; stroke-width:4; stroke-opacity:1; fill:none\" points=\"1451.47,337.293 1451.47,1486.45 1494.97,1486.45 1494.97,337.293 1451.47,337.293 \"/>\n",
       "<path clip-path=\"url(#clip592)\" d=\"M1494.97 480.662 L1494.97 1486.45 L1538.47 1486.45 L1538.47 480.662 L1494.97 480.662 L1494.97 480.662  Z\" fill=\"#8be9fd\" fill-rule=\"evenodd\" fill-opacity=\"1\"/>\n",
       "<polyline clip-path=\"url(#clip592)\" style=\"stroke:#f8f8f2; stroke-linecap:round; stroke-linejoin:round; stroke-width:4; stroke-opacity:1; fill:none\" points=\"1494.97,480.662 1494.97,1486.45 1538.47,1486.45 1538.47,480.662 1494.97,480.662 \"/>\n",
       "<path clip-path=\"url(#clip592)\" d=\"M1538.47 678.138 L1538.47 1486.45 L1581.97 1486.45 L1581.97 678.138 L1538.47 678.138 L1538.47 678.138  Z\" fill=\"#8be9fd\" fill-rule=\"evenodd\" fill-opacity=\"1\"/>\n",
       "<polyline clip-path=\"url(#clip592)\" style=\"stroke:#f8f8f2; stroke-linecap:round; stroke-linejoin:round; stroke-width:4; stroke-opacity:1; fill:none\" points=\"1538.47,678.138 1538.47,1486.45 1581.97,1486.45 1581.97,678.138 1538.47,678.138 \"/>\n",
       "<path clip-path=\"url(#clip592)\" d=\"M1581.97 857.026 L1581.97 1486.45 L1625.47 1486.45 L1625.47 857.026 L1581.97 857.026 L1581.97 857.026  Z\" fill=\"#8be9fd\" fill-rule=\"evenodd\" fill-opacity=\"1\"/>\n",
       "<polyline clip-path=\"url(#clip592)\" style=\"stroke:#f8f8f2; stroke-linecap:round; stroke-linejoin:round; stroke-width:4; stroke-opacity:1; fill:none\" points=\"1581.97,857.026 1581.97,1486.45 1625.47,1486.45 1625.47,857.026 1581.97,857.026 \"/>\n",
       "<path clip-path=\"url(#clip592)\" d=\"M1625.47 1002.42 L1625.47 1486.45 L1668.97 1486.45 L1668.97 1002.42 L1625.47 1002.42 L1625.47 1002.42  Z\" fill=\"#8be9fd\" fill-rule=\"evenodd\" fill-opacity=\"1\"/>\n",
       "<polyline clip-path=\"url(#clip592)\" style=\"stroke:#f8f8f2; stroke-linecap:round; stroke-linejoin:round; stroke-width:4; stroke-opacity:1; fill:none\" points=\"1625.47,1002.42 1625.47,1486.45 1668.97,1486.45 1668.97,1002.42 1625.47,1002.42 \"/>\n",
       "<path clip-path=\"url(#clip592)\" d=\"M1668.97 1144.13 L1668.97 1486.45 L1712.47 1486.45 L1712.47 1144.13 L1668.97 1144.13 L1668.97 1144.13  Z\" fill=\"#8be9fd\" fill-rule=\"evenodd\" fill-opacity=\"1\"/>\n",
       "<polyline clip-path=\"url(#clip592)\" style=\"stroke:#f8f8f2; stroke-linecap:round; stroke-linejoin:round; stroke-width:4; stroke-opacity:1; fill:none\" points=\"1668.97,1144.13 1668.97,1486.45 1712.47,1486.45 1712.47,1144.13 1668.97,1144.13 \"/>\n",
       "<path clip-path=\"url(#clip592)\" d=\"M1712.47 1246.64 L1712.47 1486.45 L1755.97 1486.45 L1755.97 1246.64 L1712.47 1246.64 L1712.47 1246.64  Z\" fill=\"#8be9fd\" fill-rule=\"evenodd\" fill-opacity=\"1\"/>\n",
       "<polyline clip-path=\"url(#clip592)\" style=\"stroke:#f8f8f2; stroke-linecap:round; stroke-linejoin:round; stroke-width:4; stroke-opacity:1; fill:none\" points=\"1712.47,1246.64 1712.47,1486.45 1755.97,1486.45 1755.97,1246.64 1712.47,1246.64 \"/>\n",
       "<path clip-path=\"url(#clip592)\" d=\"M1755.97 1325.04 L1755.97 1486.45 L1799.47 1486.45 L1799.47 1325.04 L1755.97 1325.04 L1755.97 1325.04  Z\" fill=\"#8be9fd\" fill-rule=\"evenodd\" fill-opacity=\"1\"/>\n",
       "<polyline clip-path=\"url(#clip592)\" style=\"stroke:#f8f8f2; stroke-linecap:round; stroke-linejoin:round; stroke-width:4; stroke-opacity:1; fill:none\" points=\"1755.97,1325.04 1755.97,1486.45 1799.47,1486.45 1799.47,1325.04 1755.97,1325.04 \"/>\n",
       "<path clip-path=\"url(#clip592)\" d=\"M1799.47 1378.78 L1799.47 1486.45 L1842.97 1486.45 L1842.97 1378.78 L1799.47 1378.78 L1799.47 1378.78  Z\" fill=\"#8be9fd\" fill-rule=\"evenodd\" fill-opacity=\"1\"/>\n",
       "<polyline clip-path=\"url(#clip592)\" style=\"stroke:#f8f8f2; stroke-linecap:round; stroke-linejoin:round; stroke-width:4; stroke-opacity:1; fill:none\" points=\"1799.47,1378.78 1799.47,1486.45 1842.97,1486.45 1842.97,1378.78 1799.47,1378.78 \"/>\n",
       "<path clip-path=\"url(#clip592)\" d=\"M1842.97 1423.87 L1842.97 1486.45 L1886.47 1486.45 L1886.47 1423.87 L1842.97 1423.87 L1842.97 1423.87  Z\" fill=\"#8be9fd\" fill-rule=\"evenodd\" fill-opacity=\"1\"/>\n",
       "<polyline clip-path=\"url(#clip592)\" style=\"stroke:#f8f8f2; stroke-linecap:round; stroke-linejoin:round; stroke-width:4; stroke-opacity:1; fill:none\" points=\"1842.97,1423.87 1842.97,1486.45 1886.47,1486.45 1886.47,1423.87 1842.97,1423.87 \"/>\n",
       "<path clip-path=\"url(#clip592)\" d=\"M1886.47 1444.49 L1886.47 1486.45 L1929.97 1486.45 L1929.97 1444.49 L1886.47 1444.49 L1886.47 1444.49  Z\" fill=\"#8be9fd\" fill-rule=\"evenodd\" fill-opacity=\"1\"/>\n",
       "<polyline clip-path=\"url(#clip592)\" style=\"stroke:#f8f8f2; stroke-linecap:round; stroke-linejoin:round; stroke-width:4; stroke-opacity:1; fill:none\" points=\"1886.47,1444.49 1886.47,1486.45 1929.97,1486.45 1929.97,1444.49 1886.47,1444.49 \"/>\n",
       "<path clip-path=\"url(#clip592)\" d=\"M1929.97 1465.65 L1929.97 1486.45 L1973.47 1486.45 L1973.47 1465.65 L1929.97 1465.65 L1929.97 1465.65  Z\" fill=\"#8be9fd\" fill-rule=\"evenodd\" fill-opacity=\"1\"/>\n",
       "<polyline clip-path=\"url(#clip592)\" style=\"stroke:#f8f8f2; stroke-linecap:round; stroke-linejoin:round; stroke-width:4; stroke-opacity:1; fill:none\" points=\"1929.97,1465.65 1929.97,1486.45 1973.47,1486.45 1973.47,1465.65 1929.97,1465.65 \"/>\n",
       "<path clip-path=\"url(#clip592)\" d=\"M1973.47 1470.07 L1973.47 1486.45 L2016.97 1486.45 L2016.97 1470.07 L1973.47 1470.07 L1973.47 1470.07  Z\" fill=\"#8be9fd\" fill-rule=\"evenodd\" fill-opacity=\"1\"/>\n",
       "<polyline clip-path=\"url(#clip592)\" style=\"stroke:#f8f8f2; stroke-linecap:round; stroke-linejoin:round; stroke-width:4; stroke-opacity:1; fill:none\" points=\"1973.47,1470.07 1973.47,1486.45 2016.97,1486.45 2016.97,1470.07 1973.47,1470.07 \"/>\n",
       "<path clip-path=\"url(#clip592)\" d=\"M2016.97 1478.53 L2016.97 1486.45 L2060.47 1486.45 L2060.47 1478.53 L2016.97 1478.53 L2016.97 1478.53  Z\" fill=\"#8be9fd\" fill-rule=\"evenodd\" fill-opacity=\"1\"/>\n",
       "<polyline clip-path=\"url(#clip592)\" style=\"stroke:#f8f8f2; stroke-linecap:round; stroke-linejoin:round; stroke-width:4; stroke-opacity:1; fill:none\" points=\"2016.97,1478.53 2016.97,1486.45 2060.47,1486.45 2060.47,1478.53 2016.97,1478.53 \"/>\n",
       "<path clip-path=\"url(#clip592)\" d=\"M2060.47 1483.87 L2060.47 1486.45 L2103.97 1486.45 L2103.97 1483.87 L2060.47 1483.87 L2060.47 1483.87  Z\" fill=\"#8be9fd\" fill-rule=\"evenodd\" fill-opacity=\"1\"/>\n",
       "<polyline clip-path=\"url(#clip592)\" style=\"stroke:#f8f8f2; stroke-linecap:round; stroke-linejoin:round; stroke-width:4; stroke-opacity:1; fill:none\" points=\"2060.47,1483.87 2060.47,1486.45 2103.97,1486.45 2103.97,1483.87 2060.47,1483.87 \"/>\n",
       "<path clip-path=\"url(#clip592)\" d=\"M2103.97 1484.98 L2103.97 1486.45 L2147.47 1486.45 L2147.47 1484.98 L2103.97 1484.98 L2103.97 1484.98  Z\" fill=\"#8be9fd\" fill-rule=\"evenodd\" fill-opacity=\"1\"/>\n",
       "<polyline clip-path=\"url(#clip592)\" style=\"stroke:#f8f8f2; stroke-linecap:round; stroke-linejoin:round; stroke-width:4; stroke-opacity:1; fill:none\" points=\"2103.97,1484.98 2103.97,1486.45 2147.47,1486.45 2147.47,1484.98 2103.97,1484.98 \"/>\n",
       "<path clip-path=\"url(#clip592)\" d=\"M2147.47 1486.26 L2147.47 1486.45 L2190.97 1486.45 L2190.97 1486.26 L2147.47 1486.26 L2147.47 1486.26  Z\" fill=\"#8be9fd\" fill-rule=\"evenodd\" fill-opacity=\"1\"/>\n",
       "<polyline clip-path=\"url(#clip592)\" style=\"stroke:#f8f8f2; stroke-linecap:round; stroke-linejoin:round; stroke-width:4; stroke-opacity:1; fill:none\" points=\"2147.47,1486.26 2147.47,1486.45 2190.97,1486.45 2190.97,1486.26 2147.47,1486.26 \"/>\n",
       "<path clip-path=\"url(#clip592)\" d=\"M2190.97 1485.71 L2190.97 1486.45 L2234.47 1486.45 L2234.47 1485.71 L2190.97 1485.71 L2190.97 1485.71  Z\" fill=\"#8be9fd\" fill-rule=\"evenodd\" fill-opacity=\"1\"/>\n",
       "<polyline clip-path=\"url(#clip592)\" style=\"stroke:#f8f8f2; stroke-linecap:round; stroke-linejoin:round; stroke-width:4; stroke-opacity:1; fill:none\" points=\"2190.97,1485.71 2190.97,1486.45 2234.47,1486.45 2234.47,1485.71 2190.97,1485.71 \"/>\n",
       "<circle clip-path=\"url(#clip592)\" style=\"fill:#8be9fd; stroke:none; fill-opacity:0\" cx=\"342.212\" cy=\"1486.26\" r=\"2\"/>\n",
       "<circle clip-path=\"url(#clip592)\" style=\"fill:#8be9fd; stroke:none; fill-opacity:0\" cx=\"385.713\" cy=\"1486.45\" r=\"2\"/>\n",
       "<circle clip-path=\"url(#clip592)\" style=\"fill:#8be9fd; stroke:none; fill-opacity:0\" cx=\"429.213\" cy=\"1486.08\" r=\"2\"/>\n",
       "<circle clip-path=\"url(#clip592)\" style=\"fill:#8be9fd; stroke:none; fill-opacity:0\" cx=\"472.713\" cy=\"1486.08\" r=\"2\"/>\n",
       "<circle clip-path=\"url(#clip592)\" style=\"fill:#8be9fd; stroke:none; fill-opacity:0\" cx=\"516.213\" cy=\"1484.06\" r=\"2\"/>\n",
       "<circle clip-path=\"url(#clip592)\" style=\"fill:#8be9fd; stroke:none; fill-opacity:0\" cx=\"559.713\" cy=\"1482.4\" r=\"2\"/>\n",
       "<circle clip-path=\"url(#clip592)\" style=\"fill:#8be9fd; stroke:none; fill-opacity:0\" cx=\"603.214\" cy=\"1477.61\" r=\"2\"/>\n",
       "<circle clip-path=\"url(#clip592)\" style=\"fill:#8be9fd; stroke:none; fill-opacity:0\" cx=\"646.714\" cy=\"1473.75\" r=\"2\"/>\n",
       "<circle clip-path=\"url(#clip592)\" style=\"fill:#8be9fd; stroke:none; fill-opacity:0\" cx=\"690.214\" cy=\"1462.15\" r=\"2\"/>\n",
       "<circle clip-path=\"url(#clip592)\" style=\"fill:#8be9fd; stroke:none; fill-opacity:0\" cx=\"733.714\" cy=\"1446.14\" r=\"2\"/>\n",
       "<circle clip-path=\"url(#clip592)\" style=\"fill:#8be9fd; stroke:none; fill-opacity:0\" cx=\"777.214\" cy=\"1412.46\" r=\"2\"/>\n",
       "<circle clip-path=\"url(#clip592)\" style=\"fill:#8be9fd; stroke:none; fill-opacity:0\" cx=\"820.714\" cy=\"1382.28\" r=\"2\"/>\n",
       "<circle clip-path=\"url(#clip592)\" style=\"fill:#8be9fd; stroke:none; fill-opacity:0\" cx=\"864.215\" cy=\"1323.76\" r=\"2\"/>\n",
       "<circle clip-path=\"url(#clip592)\" style=\"fill:#8be9fd; stroke:none; fill-opacity:0\" cx=\"907.715\" cy=\"1237.99\" r=\"2\"/>\n",
       "<circle clip-path=\"url(#clip592)\" style=\"fill:#8be9fd; stroke:none; fill-opacity:0\" cx=\"951.215\" cy=\"1143.95\" r=\"2\"/>\n",
       "<circle clip-path=\"url(#clip592)\" style=\"fill:#8be9fd; stroke:none; fill-opacity:0\" cx=\"994.715\" cy=\"993.401\" r=\"2\"/>\n",
       "<circle clip-path=\"url(#clip592)\" style=\"fill:#8be9fd; stroke:none; fill-opacity:0\" cx=\"1038.22\" cy=\"859.787\" r=\"2\"/>\n",
       "<circle clip-path=\"url(#clip592)\" style=\"fill:#8be9fd; stroke:none; fill-opacity:0\" cx=\"1081.72\" cy=\"668.936\" r=\"2\"/>\n",
       "<circle clip-path=\"url(#clip592)\" style=\"fill:#8be9fd; stroke:none; fill-opacity:0\" cx=\"1125.22\" cy=\"505.139\" r=\"2\"/>\n",
       "<circle clip-path=\"url(#clip592)\" style=\"fill:#8be9fd; stroke:none; fill-opacity:0\" cx=\"1168.72\" cy=\"317.417\" r=\"2\"/>\n",
       "<circle clip-path=\"url(#clip592)\" style=\"fill:#8be9fd; stroke:none; fill-opacity:0\" cx=\"1212.22\" cy=\"227.421\" r=\"2\"/>\n",
       "<circle clip-path=\"url(#clip592)\" style=\"fill:#8be9fd; stroke:none; fill-opacity:0\" cx=\"1255.72\" cy=\"82.58\" r=\"2\"/>\n",
       "<circle clip-path=\"url(#clip592)\" style=\"fill:#8be9fd; stroke:none; fill-opacity:0\" cx=\"1299.22\" cy=\"47.2441\" r=\"2\"/>\n",
       "<circle clip-path=\"url(#clip592)\" style=\"fill:#8be9fd; stroke:none; fill-opacity:0\" cx=\"1342.72\" cy=\"53.6855\" r=\"2\"/>\n",
       "<circle clip-path=\"url(#clip592)\" style=\"fill:#8be9fd; stroke:none; fill-opacity:0\" cx=\"1386.22\" cy=\"96.5672\" r=\"2\"/>\n",
       "<circle clip-path=\"url(#clip592)\" style=\"fill:#8be9fd; stroke:none; fill-opacity:0\" cx=\"1429.72\" cy=\"202.391\" r=\"2\"/>\n",
       "<circle clip-path=\"url(#clip592)\" style=\"fill:#8be9fd; stroke:none; fill-opacity:0\" cx=\"1473.22\" cy=\"337.293\" r=\"2\"/>\n",
       "<circle clip-path=\"url(#clip592)\" style=\"fill:#8be9fd; stroke:none; fill-opacity:0\" cx=\"1516.72\" cy=\"480.662\" r=\"2\"/>\n",
       "<circle clip-path=\"url(#clip592)\" style=\"fill:#8be9fd; stroke:none; fill-opacity:0\" cx=\"1560.22\" cy=\"678.138\" r=\"2\"/>\n",
       "<circle clip-path=\"url(#clip592)\" style=\"fill:#8be9fd; stroke:none; fill-opacity:0\" cx=\"1603.72\" cy=\"857.026\" r=\"2\"/>\n",
       "<circle clip-path=\"url(#clip592)\" style=\"fill:#8be9fd; stroke:none; fill-opacity:0\" cx=\"1647.22\" cy=\"1002.42\" r=\"2\"/>\n",
       "<circle clip-path=\"url(#clip592)\" style=\"fill:#8be9fd; stroke:none; fill-opacity:0\" cx=\"1690.72\" cy=\"1144.13\" r=\"2\"/>\n",
       "<circle clip-path=\"url(#clip592)\" style=\"fill:#8be9fd; stroke:none; fill-opacity:0\" cx=\"1734.22\" cy=\"1246.64\" r=\"2\"/>\n",
       "<circle clip-path=\"url(#clip592)\" style=\"fill:#8be9fd; stroke:none; fill-opacity:0\" cx=\"1777.72\" cy=\"1325.04\" r=\"2\"/>\n",
       "<circle clip-path=\"url(#clip592)\" style=\"fill:#8be9fd; stroke:none; fill-opacity:0\" cx=\"1821.22\" cy=\"1378.78\" r=\"2\"/>\n",
       "<circle clip-path=\"url(#clip592)\" style=\"fill:#8be9fd; stroke:none; fill-opacity:0\" cx=\"1864.72\" cy=\"1423.87\" r=\"2\"/>\n",
       "<circle clip-path=\"url(#clip592)\" style=\"fill:#8be9fd; stroke:none; fill-opacity:0\" cx=\"1908.22\" cy=\"1444.49\" r=\"2\"/>\n",
       "<circle clip-path=\"url(#clip592)\" style=\"fill:#8be9fd; stroke:none; fill-opacity:0\" cx=\"1951.72\" cy=\"1465.65\" r=\"2\"/>\n",
       "<circle clip-path=\"url(#clip592)\" style=\"fill:#8be9fd; stroke:none; fill-opacity:0\" cx=\"1995.22\" cy=\"1470.07\" r=\"2\"/>\n",
       "<circle clip-path=\"url(#clip592)\" style=\"fill:#8be9fd; stroke:none; fill-opacity:0\" cx=\"2038.72\" cy=\"1478.53\" r=\"2\"/>\n",
       "<circle clip-path=\"url(#clip592)\" style=\"fill:#8be9fd; stroke:none; fill-opacity:0\" cx=\"2082.22\" cy=\"1483.87\" r=\"2\"/>\n",
       "<circle clip-path=\"url(#clip592)\" style=\"fill:#8be9fd; stroke:none; fill-opacity:0\" cx=\"2125.72\" cy=\"1484.98\" r=\"2\"/>\n",
       "<circle clip-path=\"url(#clip592)\" style=\"fill:#8be9fd; stroke:none; fill-opacity:0\" cx=\"2169.22\" cy=\"1486.26\" r=\"2\"/>\n",
       "<circle clip-path=\"url(#clip592)\" style=\"fill:#8be9fd; stroke:none; fill-opacity:0\" cx=\"2212.72\" cy=\"1485.71\" r=\"2\"/>\n",
       "</svg>\n"
      ]
     },
     "execution_count": 90,
     "metadata": {},
     "output_type": "execute_result"
    }
   ],
   "source": [
    "x = randn(10^5)\n",
    "histogram(x, bins=64, legend=false)"
   ]
  },
  {
   "cell_type": "code",
   "execution_count": 91,
   "metadata": {},
   "outputs": [
    {
     "data": {
      "text/latex": [
       "\\textbf{Histogram in 2D}\n",
       "\n"
      ],
      "text/markdown": [
       "**Histogram in 2D**\n"
      ],
      "text/plain": [
       "  \u001b[1mHistogram in 2D\u001b[22m"
      ]
     },
     "execution_count": 91,
     "metadata": {},
     "output_type": "execute_result"
    }
   ],
   "source": [
    "md\"**Histogram in 2D**\""
   ]
  },
  {
   "cell_type": "code",
   "execution_count": 92,
   "metadata": {},
   "outputs": [
    {
     "data": {
      "image/png": "[encoded data removed]",
      "image/svg+xml": [
       "<?xml version=\"1.0\" encoding=\"utf-8\"?>\n",
       "<svg xmlns=\"http://www.w3.org/2000/svg\" xmlns:xlink=\"http://www.w3.org/1999/xlink\" width=\"600\" height=\"400\" viewBox=\"0 0 2400 1600\">\n",
       "<defs>\n",
       "  <clipPath id=\"clip630\">\n",
       "    <rect x=\"0\" y=\"0\" width=\"2400\" height=\"1600\"/>\n",
       "  </clipPath>\n",
       "</defs>\n",
       "<path clip-path=\"url(#clip630)\" d=\"M0 1600 L2400 1600 L2400 0 L0 0  Z\" fill=\"#282a36\" fill-rule=\"evenodd\" fill-opacity=\"1\"/>\n",
       "<defs>\n",
       "  <clipPath id=\"clip631\">\n",
       "    <rect x=\"480\" y=\"0\" width=\"1681\" height=\"1600\"/>\n",
       "  </clipPath>\n",
       "</defs>\n",
       "<path clip-path=\"url(#clip630)\" d=\"M149.191 1486.45 L2112.76 1486.45 L2112.76 47.2441 L149.191 47.2441  Z\" fill=\"#30343b\" fill-rule=\"evenodd\" fill-opacity=\"1\"/>\n",
       "<defs>\n",
       "  <clipPath id=\"clip632\">\n",
       "    <rect x=\"149\" y=\"47\" width=\"1965\" height=\"1440\"/>\n",
       "  </clipPath>\n",
       "</defs>\n",
       "<polyline clip-path=\"url(#clip632)\" style=\"stroke:#f8f8f2; stroke-linecap:round; stroke-linejoin:round; stroke-width:2; stroke-opacity:0.1; fill:none\" points=\"238.444,1486.45 238.444,47.2441 \"/>\n",
       "<polyline clip-path=\"url(#clip632)\" style=\"stroke:#f8f8f2; stroke-linecap:round; stroke-linejoin:round; stroke-width:2; stroke-opacity:0.1; fill:none\" points=\"684.709,1486.45 684.709,47.2441 \"/>\n",
       "<polyline clip-path=\"url(#clip632)\" style=\"stroke:#f8f8f2; stroke-linecap:round; stroke-linejoin:round; stroke-width:2; stroke-opacity:0.1; fill:none\" points=\"1130.97,1486.45 1130.97,47.2441 \"/>\n",
       "<polyline clip-path=\"url(#clip632)\" style=\"stroke:#f8f8f2; stroke-linecap:round; stroke-linejoin:round; stroke-width:2; stroke-opacity:0.1; fill:none\" points=\"1577.24,1486.45 1577.24,47.2441 \"/>\n",
       "<polyline clip-path=\"url(#clip632)\" style=\"stroke:#f8f8f2; stroke-linecap:round; stroke-linejoin:round; stroke-width:2; stroke-opacity:0.1; fill:none\" points=\"2023.5,1486.45 2023.5,47.2441 \"/>\n",
       "<polyline clip-path=\"url(#clip632)\" style=\"stroke:#f8f8f2; stroke-linecap:round; stroke-linejoin:round; stroke-width:2; stroke-opacity:0.1; fill:none\" points=\"149.191,1452.18 2112.76,1452.18 \"/>\n",
       "<polyline clip-path=\"url(#clip632)\" style=\"stroke:#f8f8f2; stroke-linecap:round; stroke-linejoin:round; stroke-width:2; stroke-opacity:0.1; fill:none\" points=\"149.191,1109.51 2112.76,1109.51 \"/>\n",
       "<polyline clip-path=\"url(#clip632)\" style=\"stroke:#f8f8f2; stroke-linecap:round; stroke-linejoin:round; stroke-width:2; stroke-opacity:0.1; fill:none\" points=\"149.191,766.846 2112.76,766.846 \"/>\n",
       "<polyline clip-path=\"url(#clip632)\" style=\"stroke:#f8f8f2; stroke-linecap:round; stroke-linejoin:round; stroke-width:2; stroke-opacity:0.1; fill:none\" points=\"149.191,424.178 2112.76,424.178 \"/>\n",
       "<polyline clip-path=\"url(#clip632)\" style=\"stroke:#f8f8f2; stroke-linecap:round; stroke-linejoin:round; stroke-width:2; stroke-opacity:0.1; fill:none\" points=\"149.191,81.5109 2112.76,81.5109 \"/>\n",
       "<polyline clip-path=\"url(#clip630)\" style=\"stroke:#f8f8f2; stroke-linecap:round; stroke-linejoin:round; stroke-width:4; stroke-opacity:1; fill:none\" points=\"149.191,1486.45 2112.76,1486.45 \"/>\n",
       "<polyline clip-path=\"url(#clip630)\" style=\"stroke:#f8f8f2; stroke-linecap:round; stroke-linejoin:round; stroke-width:4; stroke-opacity:1; fill:none\" points=\"238.444,1486.45 238.444,1467.55 \"/>\n",
       "<polyline clip-path=\"url(#clip630)\" style=\"stroke:#f8f8f2; stroke-linecap:round; stroke-linejoin:round; stroke-width:4; stroke-opacity:1; fill:none\" points=\"684.709,1486.45 684.709,1467.55 \"/>\n",
       "<polyline clip-path=\"url(#clip630)\" style=\"stroke:#f8f8f2; stroke-linecap:round; stroke-linejoin:round; stroke-width:4; stroke-opacity:1; fill:none\" points=\"1130.97,1486.45 1130.97,1467.55 \"/>\n",
       "<polyline clip-path=\"url(#clip630)\" style=\"stroke:#f8f8f2; stroke-linecap:round; stroke-linejoin:round; stroke-width:4; stroke-opacity:1; fill:none\" points=\"1577.24,1486.45 1577.24,1467.55 \"/>\n",
       "<polyline clip-path=\"url(#clip630)\" style=\"stroke:#f8f8f2; stroke-linecap:round; stroke-linejoin:round; stroke-width:4; stroke-opacity:1; fill:none\" points=\"2023.5,1486.45 2023.5,1467.55 \"/>\n",
       "<path clip-path=\"url(#clip630)\" d=\"M207.344 1532.02 L237.02 1532.02 L237.02 1535.95 L207.344 1535.95 L207.344 1532.02 Z\" fill=\"#f8f8f2\" fill-rule=\"nonzero\" fill-opacity=\"1\" /><path clip-path=\"url(#clip630)\" d=\"M259.96 1518.36 L248.154 1536.81 L259.96 1536.81 L259.96 1518.36 M258.733 1514.29 L264.613 1514.29 L264.613 1536.81 L269.543 1536.81 L269.543 1540.7 L264.613 1540.7 L264.613 1548.85 L259.96 1548.85 L259.96 1540.7 L244.358 1540.7 L244.358 1536.19 L258.733 1514.29 Z\" fill=\"#f8f8f2\" fill-rule=\"nonzero\" fill-opacity=\"1\" /><path clip-path=\"url(#clip630)\" d=\"M654.651 1532.02 L684.327 1532.02 L684.327 1535.95 L654.651 1535.95 L654.651 1532.02 Z\" fill=\"#f8f8f2\" fill-rule=\"nonzero\" fill-opacity=\"1\" /><path clip-path=\"url(#clip630)\" d=\"M698.447 1544.91 L714.766 1544.91 L714.766 1548.85 L692.822 1548.85 L692.822 1544.91 Q695.484 1542.16 700.067 1537.53 Q704.674 1532.88 705.854 1531.53 Q708.1 1529.01 708.979 1527.27 Q709.882 1525.51 709.882 1523.82 Q709.882 1521.07 707.938 1519.33 Q706.016 1517.6 702.915 1517.6 Q700.715 1517.6 698.262 1518.36 Q695.831 1519.13 693.053 1520.68 L693.053 1515.95 Q695.878 1514.82 698.331 1514.24 Q700.785 1513.66 702.822 1513.66 Q708.192 1513.66 711.387 1516.35 Q714.581 1519.03 714.581 1523.52 Q714.581 1525.65 713.771 1527.57 Q712.984 1529.47 710.877 1532.07 Q710.299 1532.74 707.197 1535.95 Q704.095 1539.15 698.447 1544.91 Z\" fill=\"#f8f8f2\" fill-rule=\"nonzero\" fill-opacity=\"1\" /><path clip-path=\"url(#clip630)\" d=\"M1130.97 1517.37 Q1127.36 1517.37 1125.53 1520.93 Q1123.73 1524.47 1123.73 1531.6 Q1123.73 1538.71 1125.53 1542.27 Q1127.36 1545.82 1130.97 1545.82 Q1134.61 1545.82 1136.41 1542.27 Q1138.24 1538.71 1138.24 1531.6 Q1138.24 1524.47 1136.41 1520.93 Q1134.61 1517.37 1130.97 1517.37 M1130.97 1513.66 Q1136.78 1513.66 1139.84 1518.27 Q1142.92 1522.85 1142.92 1531.6 Q1142.92 1540.33 1139.84 1544.94 Q1136.78 1549.52 1130.97 1549.52 Q1125.16 1549.52 1122.08 1544.94 Q1119.03 1540.33 1119.03 1531.6 Q1119.03 1522.85 1122.08 1518.27 Q1125.16 1513.66 1130.97 1513.66 Z\" fill=\"#f8f8f2\" fill-rule=\"nonzero\" fill-opacity=\"1\" /><path clip-path=\"url(#clip630)\" d=\"M1571.89 1544.91 L1588.21 1544.91 L1588.21 1548.85 L1566.27 1548.85 L1566.27 1544.91 Q1568.93 1542.16 1573.51 1537.53 Q1578.12 1532.88 1579.3 1531.53 Q1581.54 1529.01 1582.42 1527.27 Q1583.33 1525.51 1583.33 1523.82 Q1583.33 1521.07 1581.38 1519.33 Q1579.46 1517.6 1576.36 1517.6 Q1574.16 1517.6 1571.71 1518.36 Q1569.28 1519.13 1566.5 1520.68 L1566.5 1515.95 Q1569.32 1514.82 1571.78 1514.24 Q1574.23 1513.66 1576.27 1513.66 Q1581.64 1513.66 1584.83 1516.35 Q1588.03 1519.03 1588.03 1523.52 Q1588.03 1525.65 1587.21 1527.57 Q1586.43 1529.47 1584.32 1532.07 Q1583.74 1532.74 1580.64 1535.95 Q1577.54 1539.15 1571.89 1544.91 Z\" fill=\"#f8f8f2\" fill-rule=\"nonzero\" fill-opacity=\"1\" /><path clip-path=\"url(#clip630)\" d=\"M2026.51 1518.36 L2014.71 1536.81 L2026.51 1536.81 L2026.51 1518.36 M2025.29 1514.29 L2031.16 1514.29 L2031.16 1536.81 L2036.1 1536.81 L2036.1 1540.7 L2031.16 1540.7 L2031.16 1548.85 L2026.51 1548.85 L2026.51 1540.7 L2010.91 1540.7 L2010.91 1536.19 L2025.29 1514.29 Z\" fill=\"#f8f8f2\" fill-rule=\"nonzero\" fill-opacity=\"1\" /><polyline clip-path=\"url(#clip630)\" style=\"stroke:#f8f8f2; stroke-linecap:round; stroke-linejoin:round; stroke-width:4; stroke-opacity:1; fill:none\" points=\"149.191,1486.45 149.191,47.2441 \"/>\n",
       "<polyline clip-path=\"url(#clip630)\" style=\"stroke:#f8f8f2; stroke-linecap:round; stroke-linejoin:round; stroke-width:4; stroke-opacity:1; fill:none\" points=\"149.191,1452.18 166.03,1452.18 \"/>\n",
       "<polyline clip-path=\"url(#clip630)\" style=\"stroke:#f8f8f2; stroke-linecap:round; stroke-linejoin:round; stroke-width:4; stroke-opacity:1; fill:none\" points=\"149.191,1109.51 166.03,1109.51 \"/>\n",
       "<polyline clip-path=\"url(#clip630)\" style=\"stroke:#f8f8f2; stroke-linecap:round; stroke-linejoin:round; stroke-width:4; stroke-opacity:1; fill:none\" points=\"149.191,766.846 166.03,766.846 \"/>\n",
       "<polyline clip-path=\"url(#clip630)\" style=\"stroke:#f8f8f2; stroke-linecap:round; stroke-linejoin:round; stroke-width:4; stroke-opacity:1; fill:none\" points=\"149.191,424.178 166.03,424.178 \"/>\n",
       "<polyline clip-path=\"url(#clip630)\" style=\"stroke:#f8f8f2; stroke-linecap:round; stroke-linejoin:round; stroke-width:4; stroke-opacity:1; fill:none\" points=\"149.191,81.5109 166.03,81.5109 \"/>\n",
       "<path clip-path=\"url(#clip630)\" d=\"M50.9921 1452.63 L80.6679 1452.63 L80.6679 1456.57 L50.9921 1456.57 L50.9921 1452.63 Z\" fill=\"#f8f8f2\" fill-rule=\"nonzero\" fill-opacity=\"1\" /><path clip-path=\"url(#clip630)\" d=\"M103.608 1438.98 L91.8021 1457.42 L103.608 1457.42 L103.608 1438.98 M102.381 1434.9 L108.26 1434.9 L108.26 1457.42 L113.191 1457.42 L113.191 1461.31 L108.26 1461.31 L108.26 1469.46 L103.608 1469.46 L103.608 1461.31 L88.0058 1461.31 L88.0058 1456.8 L102.381 1434.9 Z\" fill=\"#f8f8f2\" fill-rule=\"nonzero\" fill-opacity=\"1\" /><path clip-path=\"url(#clip630)\" d=\"M53.0754 1109.96 L82.7512 1109.96 L82.7512 1113.9 L53.0754 1113.9 L53.0754 1109.96 Z\" fill=\"#f8f8f2\" fill-rule=\"nonzero\" fill-opacity=\"1\" /><path clip-path=\"url(#clip630)\" d=\"M96.8715 1122.86 L113.191 1122.86 L113.191 1126.79 L91.2465 1126.79 L91.2465 1122.86 Q93.9086 1120.1 98.4919 1115.47 Q103.098 1110.82 104.279 1109.48 Q106.524 1106.96 107.404 1105.22 Q108.307 1103.46 108.307 1101.77 Q108.307 1099.02 106.362 1097.28 Q104.441 1095.54 101.339 1095.54 Q99.14 1095.54 96.6863 1096.31 Q94.2558 1097.07 91.478 1098.62 L91.478 1093.9 Q94.3021 1092.77 96.7558 1092.19 Q99.2095 1091.61 101.246 1091.61 Q106.617 1091.61 109.811 1094.29 Q113.006 1096.98 113.006 1101.47 Q113.006 1103.6 112.196 1105.52 Q111.408 1107.42 109.302 1110.01 Q108.723 1110.68 105.621 1113.9 Q102.52 1117.09 96.8715 1122.86 Z\" fill=\"#f8f8f2\" fill-rule=\"nonzero\" fill-opacity=\"1\" /><path clip-path=\"url(#clip630)\" d=\"M101.246 752.645 Q97.6354 752.645 95.8067 756.209 Q94.0012 759.751 94.0012 766.881 Q94.0012 773.987 95.8067 777.552 Q97.6354 781.094 101.246 781.094 Q104.881 781.094 106.686 777.552 Q108.515 773.987 108.515 766.881 Q108.515 759.751 106.686 756.209 Q104.881 752.645 101.246 752.645 M101.246 748.941 Q107.057 748.941 110.112 753.547 Q113.191 758.131 113.191 766.881 Q113.191 775.608 110.112 780.214 Q107.057 784.797 101.246 784.797 Q95.4363 784.797 92.3576 780.214 Q89.3021 775.608 89.3021 766.881 Q89.3021 758.131 92.3576 753.547 Q95.4363 748.941 101.246 748.941 Z\" fill=\"#f8f8f2\" fill-rule=\"nonzero\" fill-opacity=\"1\" /><path clip-path=\"url(#clip630)\" d=\"M96.8715 437.523 L113.191 437.523 L113.191 441.458 L91.2465 441.458 L91.2465 437.523 Q93.9086 434.769 98.4919 430.139 Q103.098 425.486 104.279 424.144 Q106.524 421.621 107.404 419.884 Q108.307 418.125 108.307 416.435 Q108.307 413.681 106.362 411.945 Q104.441 410.209 101.339 410.209 Q99.14 410.209 96.6863 410.972 Q94.2558 411.736 91.478 413.287 L91.478 408.565 Q94.3021 407.431 96.7558 406.852 Q99.2095 406.273 101.246 406.273 Q106.617 406.273 109.811 408.959 Q113.006 411.644 113.006 416.134 Q113.006 418.264 112.196 420.185 Q111.408 422.084 109.302 424.676 Q108.723 425.347 105.621 428.565 Q102.52 431.759 96.8715 437.523 Z\" fill=\"#f8f8f2\" fill-rule=\"nonzero\" fill-opacity=\"1\" /><path clip-path=\"url(#clip630)\" d=\"M103.608 68.3049 L91.8021 86.7539 L103.608 86.7539 L103.608 68.3049 M102.381 64.2309 L108.26 64.2309 L108.26 86.7539 L113.191 86.7539 L113.191 90.6427 L108.26 90.6427 L108.26 98.7909 L103.608 98.7909 L103.608 90.6427 L88.0058 90.6427 L88.0058 86.1289 L102.381 64.2309 Z\" fill=\"#f8f8f2\" fill-rule=\"nonzero\" fill-opacity=\"1\" /><g clip-path=\"url(#clip632)\">\n",
       "<image width=\"1964\" height=\"1439\" xlink:href=\"data:image/png;base64,\n",
       "iVBORw0KGgoAAAANSUhEUgAAB6wAAAWfCAYAAAAf3Aj/AAAgAElEQVR4nOzbXW5b1xmG0W/zR7YT\n",
       "Jw0QdEbMDOR0kNIQOKMAbeHAjiyR3L3oVQCjyE4jv/rotUbw4mDznEM+0igAAAAAAABetMO4nekN\n",
       "q47zfqQ3AC/fJj0AAAAAAAAAgK+TYA0AAAAAAABAhGANAAAAAAAAQIRgDQAAAAAAAECEYA0AAAAA\n",
       "AABAhGANAAAAAAAAQIRgDQAAAAAAAECEYA0AAAAAAABAhGANAAAAAAAAQIRgDQAAAAAAAECEYA0A\n",
       "AAAAAABAhGANAAAAAAAAQIRgDQAAAAAAAECEYA0AAAAAAABAhGANAAAAAAAAQIRgDQAAAAAAAECE\n",
       "YA0AAAAAAABAhGANAAAAAAAAQIRgDQAAAAAAAECEYA0AAAAAAABAhGANAAAAAAAAQIRgDQAAAAAA\n",
       "AECEYA0AAAAAAABAhGANAAAAAAAAQIRgDQAAAAAAAECEYA0AAAAAAABAhGANAAAAAAAAQIRgDQAA\n",
       "AAAAAECEYA0AAAAAAABAhGANAAAAAAAAQIRgDQAAAAAAAECEYA0AAAAAAABAhGANAAAAAAAAQIRg\n",
       "DQAAAAAAAEDESA8AAICX6jBuZ3rDiuO8934P8EJ0e4ZUeY7weR3Pcjc+e8+v4zl2LgD4mvgPawAA\n",
       "AAAAAAAiBGsAAAAAAAAAIgRrAAAAAAAAACIEawAAAAAAAAAiBGsAAAAAAAAAIgRrAAAAAAAAACIE\n",
       "awAAAAAAAAAiBGsAAAAAAAAAIgRrAAAAAAAAACIEawAAAAAAAAAiBGsAAAAAAAAAIgRrAAAAAAAA\n",
       "ACIEawAAAAAAAAAiBGsAAAAAAAAAIgRrAAAAAAAAACIEawAAAAAAAAAiBGsAAAAAAAAAIgRrAAAA\n",
       "AAAAACIEawAAAAAAAAAiBGsAAAAAAAAAIgRrAAAAAAAAACIEawAAAAAAAAAiBGsAAAAAAAAAIgRr\n",
       "AAAAAAAAACIEawAAAAAAAAAiBGsAAAAAAAAAIgRrAAAAAAAAACIEawAAAAAAAAAiBGsAAAAAAAAA\n",
       "IgRrAAAAAAAAACIEawAAAAAAAAAiBGsAAAAAAAAAIgRrAAAAAAAAACJGegAAAEAnh827md6w4ni5\n",
       "a/e97zBue13jed/uGvP8up3jtkavj1/He3JH3T5/HZ8jrjEA8FfyH9YAAAAAAAAARAjWAAAAAAAA\n",
       "AEQI1gAAAAAAAABECNYAAAAAAAAARAjWAAAAAAAAAEQI1gAAAAAAAABECNYAAAAAAAAARAjWAAAA\n",
       "AAAAAEQI1gAAAAAAAABECNYAAAAAAAAARAjWAAAAAAAAAEQI1gAAAAAAAABECNYAAAAAAAAARAjW\n",
       "AAAAAAAAAEQI1gAAAAAAAABECNYAAAAAAAAARAjWAAAAAAAAAEQI1gAAAAAAAABECNYAAAAAAAAA\n",
       "RAjWAAAAAAAAAEQI1gAAAAAAAABECNYAAAAAAAAARAjWAAAAAAAAAEQI1gAAAAAAAABECNYAAAAA\n",
       "AAAARAjWAAAAAAAAAEQI1gAAAAAAAABECNYAAAAAAAAARAjWAAAAAAAAAEQI1gAAAAAAAABECNYA\n",
       "AAAAAAAARAjWAAAAAAAAAEQI1gAAAAAAAABEjPQAAAB4qQ7jdqY3LBn9Xu9Hw81z9joWLXW7xg3P\n",
       "sc8en3O83PU7GM20e7eoquO8dy4AAHhW/sMaAAAAAAAAgAjBGgAAAAAAAIAIwRoAAAAAAACACMEa\n",
       "AAAAAAAAgAjBGgAAAAAAAIAIwRoAAAAAAACACMEaAAAAAAAAgAjBGgAAAAAAAIAIwRoAAAAAAACA\n",
       "CMEaAAAAAAAAgAjBGgAAAAAAAIAIwRoAAAAAAACACMEaAAAAAAAAgAjBGgAAAAAAAIAIwRoAAAAA\n",
       "AACACMEaAAAAAAAAgAjBGgAAAAAAAIAIwRoAAAAAAACACMEaAAAAAAAAgAjBGgAAAAAAAIAIwRoA\n",
       "AAAAAACACMEaAAAAAAAAgAjBGgAAAAAAAIAIwRoAAAAAAACACMEaAAAAAAAAgAjBGgAAAAAAAIAI\n",
       "wRoAAAAAAACACMEaAAAAAAAAgAjBGgAAAAAAAIAIwRoAAAAAAACACMEaAAAAAAAAgAjBGgAAAAAA\n",
       "AIAIwRoAAAAAAACACMEaAAAAAAAAgIhdegAAv3cYtzO9YcVx3o/0BvgrdPvs1ej30Tte7vqNbqbj\n",
       "NT5s3vX67DXU8Vz8tP251bmYs9VcvpDR8Fnd8Z7c8R7XTcdzUc3uy75XAwBfO/9hDQAAAAAAAECE\n",
       "YA0AAAAAAABAhGANAAAAAAAAQIRgDQAAAAAAAECEYA0AAAAAAABAhGANAAAAAAAAQIRgDQAAAAAA\n",
       "AECEYA0AAAAAAABAhGANAAAAAAAAQIRgDQAAAAAAAECEYA0AAAAAAABAhGANAAAAAAAAQIRgDQAA\n",
       "AAAAAECEYA0AAAAAAABAhGANAAAAAAAAQIRgDQAAAAAAAECEYA0AAAAAAABAhGANAAAAAAAAQIRg\n",
       "DQAAAAAAAECEYA0AAAAAAABAhGANAAAAAAAAQIRgDQAAAAAAAECEYA0AAAAAAABAhGANAAAAAAAA\n",
       "QIRgDQAAAAAAAECEYA0AAAAAAABAhGANAAAAAAAAQIRgDQAAAAAAAECEYA0AAAAAAABAhGANAAAA\n",
       "AAAAQIRgDQAAAAAAAECEYA0AAAAAAABAhGANAAAAAAAAQMRIDwAAeAkO43amNywZXuO+iNnsWGz8\n",
       "PeoX0e3z121vVdXlkl5w9Waz+1tHHe/J02fv+XX87HV8jnS8zs0c533DgwEAvFT9vj0BAAAAAAAA\n",
       "cBUEawAAAAAAAAAiBGsAAAAAAAAAIgRrAAAAAAAAACIEawAAAAAAAAAiBGsAAAAAAAAAIgRrAAAA\n",
       "AAAAACIEawAAAAAAAAAiBGsAAAAAAAAAIgRrAAAAAAAAACIEawAAAAAAAAAiBGsAAAAAAAAAIgRr\n",
       "AAAAAAAAACIEawAAAAAAAAAiBGsAAAAAAAAAIgRrAAAAAAAAACIEawAAAAAAAAAiBGsAAAAAAAAA\n",
       "IgRrAAAAAAAAACIEawAAAAAAAAAiBGsAAAAAAAAAIgRrAAAAAAAAACIEawAAAAAAAAAiBGsAAAAA\n",
       "AAAAIgRrAAAAAAAAACIEawAAAAAAAAAiBGsAAAAAAAAAIgRrAAAAAAAAACIEawAAAAAAAAAiBGsA\n",
       "AAAAAAAAIgRrAAAAAAAAACIEawAAAAAAAAAiBGsAAAAAAAAAIkZ6AADwvx3G7UxvWDa8Yjy72fBY\n",
       "bLfpCcvm5ZKesGRs+v096tju0hOWdTsXHY1Nr+fIPJ3SE9Zt+t2Tq7o9+3qd46qqmg3vbw3fibqZ\n",
       "rjFX4Hi5a3dT7vhbwHHet7rOrjHAy9HvFy0AAAAAAAAAroJgDQAAAAAAAECEYA0AAAAAAABAhGAN\n",
       "AAAAAAAAQIRgDQAAAAAAAECEYA0AAAAAAABAhGANAAAAAAAAQIRgDQAAAAAAAECEYA0AAAAAAABA\n",
       "hGANAAAAAAAAQIRgDQAAAAAAAECEYA0AAAAAAABAhGANAAAAAAAAQIRgDQAAAAAAAECEYA0AAAAA\n",
       "AABAhGANAAAAAAAAQIRgDQAAAAAAAECEYA0AAAAAAABAhGANAAAAAAAAQIRgDQAAAAAAAECEYA0A\n",
       "AAAAAABAhGANAAAAAAAAQIRgDQAAAAAAAECEYA0AAAAAAABAhGANAAAAAAAAQIRgDQAAAAAAAECE\n",
       "YA0AAAAAAABAhGANAAAAAAAAQIRgDQAAAAAAAECEYA0AAAAAAABAhGANAAAAAAAAQIRgDQAAAAAA\n",
       "AECEYA0AAAAAAABAxC49AOjjsHk30xtWHS93I71h1WHctrrOx3nf7xo3PMvdjNHuWNScvY7F2G7T\n",
       "E5Z13FzNzvLYNLzGDY1Nr3NRm35/pzxPp/SEJWPX76v1+OZNesKy+fCYnrBkns/pCetGv/tFdbzO\n",
       "zYyOz5HLJT0B/m8df29pp9n3vaqq6vXTBcAf1u+NEwAAAAAAAICrIFgDAAAAAAAAECFYAwAAAAAA\n",
       "ABAhWAMAAAAAAAAQIVgDAAAAAAAAECFYAwAAAAAAABAhWAMAAAAAAAAQIVgDAAAAAAAAECFYAwAA\n",
       "AAAAABAhWAMAAAAAAAAQIVgDAAAAAAAAECFYAwAAAAAAABAhWAMAAAAAAAAQIVgDAAAAAAAAECFY\n",
       "AwAAAAAAABAhWAMAAAAAAAAQIVgDAAAAAAAAECFYAwAAAAAAABAhWAMAAAAAAAAQIVgDAAAAAAAA\n",
       "ECFYAwAAAAAAABAhWAMAAAAAAAAQIVgDAAAAAAAAECFYAwAAAAAAABAhWAMAAAAAAAAQIVgDAAAA\n",
       "AAAAECFYAwAAAAAAABAhWAMAAAAAAAAQIVgDAAAAAAAAECFYAwAAAAAAABAhWAMAAAAAAAAQIVgD\n",
       "AAAAAAAAECFYAwAAAAAAABAhWAMAAAAAAAAQMdIDAJ7TYfNupjcsm70mH+e9Z8kza3mOeXZjt09P\n",
       "WDZGw9vFbptesKbZM6SqamybXeOqqm2zv/vtdyyqNr2u8Wi2t6rq8vCQnnD1Ot7f5umcnrBuXtIL\n",
       "FvV7H5qnU3rCn9Dr4TfPDT978BnHy12/mxzP7jBuW92U/dYJGf2+VQMAAAAAAABwFQRrAAAAAAAA\n",
       "ACIEawAAAAAAAAAiBGsAAAAAAAAAIgRrAAAAAAAAACIEawAAAAAAAAAiBGsAAAAAAAAAIgRrAAAA\n",
       "AAAAACIEawAAAAAAAAAiBGsAAAAAAAAAIgRrAAAAAAAAACIEawAAAAAAAAAiBGsAAAAAAAAAIgRr\n",
       "AAAAAAAAACIEawAAAAAAAAAiBGsAAAAAAAAAIgRrAAAAAAAAACIEawAAAAAAAAAiBGsAAAAAAAAA\n",
       "IgRrAAAAAAAAACIEawAAAAAAAAAiBGsAAAAAAAAAIgRrAAAAAAAAACIEawAAAAAAAAAiBGsAAAAA\n",
       "AAAAIgRrAAAAAAAAACIEawAAAAAAAAAiBGsAAAAAAAAAIgRrAAAAAAAAACIEawAAAAAAAAAiBGsA\n",
       "AAAAAAAAIgRrAAAAAAAAACIEawAAAAAAAAAiRnoAfM0O43amN1y747xvd59zLr6A0e5YtDN2u/SE\n",
       "ZWPT7O/4Ot4pts2ucUPj9av0hK/CuLlJT1jzdEovWHezTy9YMxvelDtuvlzSC9Y0fOecT0/pCctm\n",
       "t3vcqdneqqqG7/bV7CzPjueimdnxuddRs+vc8XfDjrr91ulcQIZfDQEAAAAAAACIEKwBAAAAAAAA\n",
       "iBCsAQAAAAAAAIgQrAEAAAAAAACIEKwBAAAAAAAAiBCsAQAAAAAAAIgQrAEAAAAAAACIEKwBAAAA\n",
       "AAAAiBCsAQAAAAAAAIgQrAEAAAAAAACIEKwBAAAAAAAAiBCsAQAAAAAAAIgQrAEAAAAAAACIEKwB\n",
       "AAAAAAAAiBCsAQAAAAAAAIgQrAEAAAAAAACIEKwBAAAAAAAAiBCsAQAAAAAAAIgQrAEAAAAAAACI\n",
       "EKwBAAAAAAAAiBCsAQAAAAAAAIgQrAEAAAAAAACIEKwBAAAAAAAAiBCsAQAAAAAAAIgQrAEAAAAA\n",
       "AACIEKwBAAAAAAAAiBCsAQAAAAAAAIgQrAEAAAAAAACIEKwBAAAAAAAAiBCsAQAAAAAAAIgQrAEA\n",
       "AAAAAACIEKwBAAAAAAAAiBCsAQAAAAAAAIgY6QFAH4dxO9MbVh3nfbv73E/bn1td5zlbzW1pjHbH\n",
       "uMZun56wbNw027xp+HeHu216wbpmt7jx3dv0hHWbfve4+vSYXrBm2+9+MX/4Lj1hyXj/IT1hXcfn\n",
       "yH6XXrDm6ZResO7UcHMz8/2v6Ql/Qr9n9Xxs9qwe/e7J8/SUnrDmfE4v+Cq0+42o297q+VsnwB/R\n",
       "720IAAAAAAAAgKsgWAMAAAAAAAAQIVgDAAAAAAAAECFYAwAAAAAAABAhWAMAAAAAAAAQIVgDAAAA\n",
       "AAAAECFYAwAAAAAAABAhWAMAAAAAAAAQIVgDAAAAAAAAECFYAwAAAAAAABAhWAMAAAAAAAAQIVgD\n",
       "AAAAAAAAECFYAwAAAAAAABAhWAMAAAAAAAAQIVgDAAAAAAAAECFYAwAAAAAAABAhWAMAAAAAAAAQ\n",
       "IVgDAAAAAAAAECFYAwAAAAAAABAhWAMAAAAAAAAQIVgDAAAAAAAAECFYAwAAAAAAABAhWAMAAAAA\n",
       "AAAQIVgDAAAAAAAAECFYAwAAAAAAABAhWAMAAAAAAAAQIVgDAAAAAAAAECFYAwAAAAAAABAhWAMA\n",
       "AAAAAAAQIVgDAAAAAAAAECFYAwAAAAAAABAhWAMAAAAAAAAQIVgDAAAAAAAAEDHSA+Brdhi3M71h\n",
       "xXHet7tnHDbvWl3jqqqavSaP/U16wrpm17ijcbNPT1g2dtv0hDW7XXrBsrHvdy7aXedts3NcVfXm\n",
       "VXrBsnnT7Fy0e4Orms3uyd32VlVtHp7SE9Y9ndMLlozLJT1hWbv7W1WNX/6VnnD15sOn9IR1zb7z\n",
       "zd9+S09YNptd42o2t6t5PqUnLDle7tq9KXf7Pbmqqkavy9zxXMA18B/WAAAAAAAAAEQI1gAAAAAA\n",
       "AABECNYAAAAAAAAARAjWAAAAAAAAAEQI1gAAAAAAAABECNYAAAAAAAAARAjWAAAAAAAAAEQI1gAA\n",
       "AAAAAABECNYAAAAAAAAARAjWAAAAAAAAAEQI1gAAAAAAAABECNYAAAAAAAAARAjWAAAAAAAAAEQI\n",
       "1gAAAAAAAABECNYAAAAAAAAARAjWAAAAAAAAAEQI1gAAAAAAAABECNYAAAAAAAAARAjWAAAAAAAA\n",
       "AEQI1gAAAAAAAABECNYAAAAAAAAARAjWAAAAAAAAAEQI1gAAAAAAAABECNYAAAAAAAAARAjWAAAA\n",
       "AAAAAEQI1gAAAAAAAABECNYAAAAAAAAARAjWAAAAAAAAAEQI1gAAAAAAAABECNYAAAAAAAAARAjW\n",
       "AAAAAAAAAEQI1gAAAAAAAABECNYAAAAAAAAARAjWAAAAAAAAAESM9AD4qxw272Z6w6rj5a7VZ/Aw\n",
       "bttd447GptffEs3Z71hsbm7SE5bM8yU9Ydnm2zfpCcvGbpeesKbZOa6qqlcNN+97nYvTj2/TE9Y1\n",
       "e+5VVZ1fb9MTlsxtq1fOqqp6+rbXNd5/PKcnLLs0PBf7X0/pCWv63d5q++EpPWHZ5uOn9IQ1j83O\n",
       "cVXPXw///T69YMl8aHaOq2qeez375qnX3qqqmv1+C+h2Llpq+Dvccd53fJIAX1jDr08AAAAAAAAA\n",
       "XAPBGgAAAAAAAIAIwRoAAAAAAACACMEaAAAAAAAAgAjBGgAAAAAAAIAIwRoAAAAAAACACMEaAAAA\n",
       "AAAAgAjBGgAAAAAAAIAIwRoAAAAAAACACMEaAAAAAAAAgAjBGgAAAAAAAIAIwRoAAAAAAACACMEa\n",
       "AAAAAAAAgAjBGgAAAAAAAIAIwRoAAAAAAACACMEaAAAAAAAAgAjBGgAAAAAAAIAIwRoAAAAAAACA\n",
       "CMEaAAAAAAAAgAjBGgAAAAAAAIAIwRoAAAAAAACACMEaAAAAAAAAgAjBGgAAAAAAAIAIwRoAAAAA\n",
       "AACACMEaAAAAAAAAgAjBGgAAAAAAAIAIwRoAAAAAAACACMEaAAAAAAAAgAjBGgAAAAAAAIAIwRoA\n",
       "AAAAAACACMEaAAAAAAAAgAjBGgAAAAAAAIAIwRoAAAAAAACAiF16ANDIGOkFvECb/U16wtXbvH6V\n",
       "nrBus00vWPfd2/SC63ezTy9Ydvqx17k4ve13jR+/73e/OO97vRP1WvtfT296rf70Q7+/Bd9/mOkJ\n",
       "y+au17kY537X+PH7fs+Rm/e9Nu/++TE9Ydn48JCesG7T7L68b/gT7ex1jxvjnJ6wrNklbmk0/K1z\n",
       "Ohh8xmHctjsYx3nf7wPIs2r29gYAAAAAAADAtRCsAQAAAAAAAIgQrAEAAAAAAACIEKwBAAAAAAAA\n",
       "iBCsAQAAAAAAAIgQrAEAAAAAAACIEKwBAAAAAAAAiBCsAQAAAAAAAIgQrAEAAAAAAACIEKwBAAAA\n",
       "AAAAiBCsAQAAAAAAAIgQrAEAAAAAAACIEKwBAAAAAAAAiBCsAQAAAAAAAIgQrAEAAAAAAACIEKwB\n",
       "AAAAAAAAiBCsAQAAAAAAAIgQrAEAAAAAAACIEKwBAAAAAAAAiBCsAQAAAAAAAIgQrAEAAAAAAACI\n",
       "EKwBAAAAAAAAiBCsAQAAAAAAAIgQrAEAAAAAAACIEKwBAAAAAAAAiBCsAQAAAAAAAIgQrAEAAAAA\n",
       "AACIEKwBAAAAAAAAiBCsAQAAAAAAAIgQrAEAAAAAAACIEKwBAAAAAAAAiBCsAQAAAAAAAIgQrAEA\n",
       "AAAAAACI2KUH8DIdxu1Mb1g2+03m+R0vdyO9YdVPu3/0OsztrnDVePM6PWHJuLlJT1g2T6f0hHXb\n",
       "Zn/Ht2m2t6ou379JT1j29Lden7+Pf+/3ev/ph34PkrlNL1gz+13iOr9KL1jU75Zcm8d+B2P/odeF\n",
       "7vjZ++aXS3rCsnOzd+W3H57SE9ade31Fraoam14fwPHbp/SEdd1+h9s1e4GrqvnxIT1h2dg0Oxfd\n",
       "znFV1eh1f6uqqmaXuWMbOc77hgcDfq/Xtz0AAAAAAAAAroZgDQAAAAAAAECEYA0AAAAAAABAhGAN\n",
       "AAAAAAAAQIRgDQAAAAAAAECEYA0AAAAAAABAhGANAAAAAAAAQIRgDQAAAAAAAECEYA0AAAAAAABA\n",
       "hGANAAAAAAAAQIRgDQAAAAAAAECEYA0AAAAAAABAhGANAAAAAAAAQIRgDQAAAAAAAECEYA0AAAAA\n",
       "AABAhGANAAAAAAAAQIRgDQAAAAAAAECEYA0AAAAAAABAhGANAAAAAAAAQIRgDQAAAP9h3152LLvP\n",
       "Mg5/ax9qV/Up7SR2YisKiCCFCUKZMmJQiDlqi3viEriEuC8AKTUHBiEDRBSESASykjh27E4f6rT3\n",
       "XotBGAVl8I/cfvsrP88VvFpap71+VQAAAECEYA0AAAAAAABAhGANAAAAAAAAQIRgDQAAAAAAAECE\n",
       "YA0AAAAAAABAhGANAAAAAAAAQIRgDQAAAAAAAECEYA0AAAAAAABAhGANAAAAAAAAQIRgDQAAAAAA\n",
       "AECEYA0AAAAAAABAhGANAAAAAAAAQIRgDQAAAAAAAECEYA0AAAAAAABAxJQeAJ+X8+nJkt5w5039\n",
       "bhnTyt/lvG7TepOeMGw62aYnDJlOd+kJ4x49TC8YNj+8l54wZL7f6zyuqppP1ukJw15+q9f1dzjr\n",
       "96y+eju9YNzS7PXi0Ov2VlVV+68e0hPG7Ob0gnFX/e7J2896bd6+Si8Yd/pJesG4k5e9PgVsXx7T\n",
       "E4adfXSdnjBs9eomPWHI9LzhDePVZXrBkPmy33lc1ev+VlVVx17vRMvS7xgvh316wrhmx/liedrv\n",
       "hzXcAc0+tQAAAAAAAABwVwjWAAAAAAAAAEQI1gAAAAAAAABECNYAAAAAAAAARAjWAAAAAAAAAEQI\n",
       "1gAAAAAAAABECNYAAAAAAAAARAjWAAAAAAAAAEQI1gAAAAAAAABECNYAAAAAAAAARAjWAAAAAAAA\n",
       "AEQI1gAAAAAAAABECNYAAAAAAAAARAjWAAAAAAAAAEQI1gAAAAAAAABECNYAAAAAAAAARAjWAAAA\n",
       "AAAAAEQI1gAAAAAAAABECNYAAAAAAAAARAjWAAAAAAAAAEQI1gAAAAAAAABECNYAAAAAAAAARAjW\n",
       "AAAAAAAAAEQI1gAAAAAAAABECNYAAAAAAAAARAjWAAAAAAAAAEQI1gAAAAAAAABECNYAAAAAAAAA\n",
       "RAjWAAAAAAAAAEQI1gAAAAAAAABECNYAAAAAAAAARAjWAAAAAAAAAEQI1gAAAAAAAABECNYAAAAA\n",
       "AAAARGzSA74szqcnS3rDXXexPJ3SG0Z1Oy+mqd0hrlpaHeLfWnX7W6KGx/hkm14wpuO119Bysk5P\n",
       "GHLc9dpbVXXz1ZP0hGFLs8vv6uvpBeOuvjmnJ4x7fJteMGSzO6YnDHt02usY7w/97snTV9ILxl3u\n",
       "ztIThuyvu73XVx2bvQ9VVU0f9npYby577a2qOtxr9vupqjbNfqaubw/pCeP2vTZPc793zuW61/tQ\n",
       "VVWtmt3jmp3HVT2/zy7Nvs+er97vNbiqLuYP+p0Y8Dv6/XoCAAAAAAAA4E4QrAEAAAAAAACIEKwB\n",
       "AAAAAAAAiBCsAQAAAAAAAIgQrAEAAAAAAACIEKwBAAAAAAAAiBCsAQAAAAAAAIgQrAEAAAAAAACI\n",
       "EKwBAAAAAAAAiBCsAQAAAAAAAIgQrAEAAAAAAACIEKwBAAAAAAAAiBCsAQAAAAAAAIgQrAEAAAAA\n",
       "AACIEKwBAAAAAAAAiBCsAQAAAAAAAIgQrAEAAAAAAACIEKwBAAAAAAAAiBCsAQAAAAAAAIgQrAEA\n",
       "AAAAAACIEKwBAAAAAAAAiBCsAQAAAAAAAIgQrAEAAAAAAACIEKwBAAAAAAAAiBCsAQAAAAAAAIgQ\n",
       "rAEAAAAAAACIEKwBAAAAAAAAiBCsAQAAAAAAAIgQrAEAAAAAAACIEKwBAAAAAAAAiBCsAQAAAAAA\n",
       "AIgQrAEAAAAAAACIEKwBAAAAAAAAiNikB3xZXCxPp/SGu+589f6S3sAbaLVOLxg2rXr9LdF0tktP\n",
       "GDZVs1vy2Wl6wbh1v2uvm2Xb615RVXX7oNm1V1Uv/rjX5qXfaVHLvWN6wrB33/lNesKQ7brfMX50\n",
       "cp2eMOQbpy/SE4Z9ePk4PWHY/PhZesKQ//zZu+kJww73+z1ILr/R61m9vu13jDt+Pty8vE1PGNPs\n",
       "O0BVVW16/ebr9q2lqqpOtukFw5abm/SEMYvPyV+Iqdez+mL+oNdg+D3OpyetbnINn9QAAAAAAAAA\n",
       "3AWCNQAAAAAAAAARgjUAAAAAAAAAEYI1AAAAAAAAABGCNQAAAAAAAAARgjUAAAAAAAAAEYI1AAAA\n",
       "AAAAABGCNQAAAAAAAAARgjUAAAAAAAAAEYI1AAAAAAAAABGCNQAAAAAAAAARgjUAAAAAAAAAEYI1\n",
       "AAAAAAAAABGCNQAAAAAAAAARgjUAAAAAAKMWkjkAACAASURBVAAAEYI1AAAAAAAAABGCNQAAAAAA\n",
       "AAARgjUAAAAAAAAAEYI1AAAAAAAAABGCNQAAAAAAAAARgjUAAAAAAAAAEYI1AAAAAAAAABGCNQAA\n",
       "AAAAAAARgjUAAAAAAAAAEYI1AAAAAAAAABGCNQAAAAAAAAARgjUAAAAAAAAAEYI1AAAAAAAAABGC\n",
       "NQAAAAAAAAARgjUAAAAAAAAAEYI1AAAAAAAAABGCNQAAAAAAAAARgjUAAAAAAAAAEdP59GRJjxh1\n",
       "sTyd0hvuuo7nRUtTr1N5ara3qqpW/f4uZ9ps0hOGTLtdesKw6WSbnjDm/r30gmHz4wfpCcOu372f\n",
       "njDk8p1e94qqqquv93uO3L6VXjDm9u1DesKwx+89T08Y9pfv/iw9Ych7u2fpCcM+un2UnjDke/f/\n",
       "Jz1h2Iv5ND1h2D89+056wpAff/yN9IRhL56fpSeM+/QkvWDIw//q9xv18U/7vV+sr47pCUN2H71M\n",
       "Txg2Xe/TE8ZcX6cXDFue9XtPXo69rr06zukFw+b9bXoCb6CL+YN+H1zgd/R7SwYAAAAAAADgThCs\n",
       "AQAAAAAAAIgQrAEAAAAAAACIEKwBAAAAAAAAiBCsAQAAAAAAAIgQrAEAAAAAAACIEKwBAAAAAAAA\n",
       "iBCsAQAAAAAAAIgQrAEAAAAAAACIEKwBAAAAAAAAiBCsAQAAAAAAAIgQrAEAAAAAAACIEKwBAAAA\n",
       "AAAAiBCsAQAAAAAAAIgQrAEAAAAAAACIEKwBAAAAAAAAiBCsAQAAAAAAAIgQrAEAAAAAAACIEKwB\n",
       "AAAAAAAAiBCsAQAAAAAAAIgQrAEAAAAAAACIEKwBAAAAAAAAiBCsAQAAAAAAAIgQrAEAAAAAAACI\n",
       "EKwBAAAAAAAAiBCsAQAAAAAAAIgQrAEAAAAAAACIEKwBAAAAAAAAiBCsAQAAAAAAAIgQrAEAAAAA\n",
       "AACIEKwBAAAAAAAAiBCsAQAAAAAAAIgQrAEAAAAAAACI2FwsT6f0CN48zosvxvn0/pLecOctDQ/x\n",
       "PKcXDFkOh/SEYdP9e+kJYya35C/C9kWvc3n62iY9YdjSb3Idd82eI7tjesGws+0+PWHYfl6nJww5\n",
       "f/Dv6QnDvnfS69m3nfrd4P7hN++lJwx7tLlOTxiyXfe7J7fU7F8x5pP0gnHHXa97clXV+iq9YMx8\n",
       "f5eeMGx9dZOeMOay1zOkqqo2vd45q6rqtte7/XLs9R2gqmpaNXvwVdXS7Ftny+/JcAf0u7sBAAAA\n",
       "AAAAcCcI1gAAAAAAAABECNYAAAAAAAAARAjWAAAAAAAAAEQI1gAAAAAAAABECNYAAAAAAAAARAjW\n",
       "AAAAAAAAAEQI1gAAAAAAAABECNYAAAAAAAAARAjWAAAAAAAAAEQI1gAAAAAAAABECNYAAAAAAAAA\n",
       "RAjWAAAAAAAAAEQI1gAAAAAAAABECNYAAAAAAAAARAjWAAAAAAAAAEQI1gAAAAAAAABECNYAAAAA\n",
       "AAAARAjWAAAAAAAAAEQI1gAAAAAAAABECNYAAAAAAAAARAjWAAAAAAAAAEQI1gAAAAAAAABECNYA\n",
       "AAAAAAAARAjWAAAAAAAAAEQI1gAAAAAAAABECNYAAAAAAAAARAjWAAAAAAAAAEQI1gAAAAAAAABE\n",
       "CNYAAAAAAAAARAjWAAAAAAAAAEQI1gAAAAAAAABECNYAAAAAAAAARAjWAAAAAAAAAERs0gPg83K+\n",
       "en9Jb+ANtHQ8Lab0gCG91v6f4zG9YMyq4VHe9PubuNuvbNMThhzO+p0Xc8M3z2WdXjBmWvd77r33\n",
       "4Hl6wrC//doP0xOGbKc5PWHYZ/M+PWHI2dTsZlFV3939Ij1h2Hvbz9IThuxWh/SEYf94+WfpCcPm\n",
       "6116wph+r3B1OO33br9d9zrQ077Zb9SqqqnXMa5twx8jt/3e4WrT7J1obnjtzQ3Pi5bfZ4EvWr83\n",
       "TgAAAAAAAADuBMEaAAAAAAAAgAjBGgAAAAAAAIAIwRoAAAAAAACACMEaAAAAAAAAgAjBGgAAAAAA\n",
       "AIAIwRoAAAAAAACACMEaAAAAAAAAgAjBGgAAAAAAAIAIwRoAAAAAAACACMEaAAAAAAAAgAjBGgAA\n",
       "AAAAAIAIwRoAAAAAAACACMEaAAAAAAAAgAjBGgAAAAAAAIAIwRoAAAAAAACACMEaAAAAAAAAgAjB\n",
       "GgAAAAAAAIAIwRoAAAAAAACACMEaAAAAAAAAgAjBGgAAAAAAAIAIwRoAAAAAAACACMEaAAAAAAAA\n",
       "gAjBGgAAAAAAAIAIwRoAAAAAAACACMEaAAAAAAAAgAjBGgAAAAAAAIAIwRoAAAAAAACACMEaAAAA\n",
       "AAAAgAjBGgAAAAAAAIAIwRoAAAAAAACACMEaAAAAAAAAgAjBGgAAAAAAAICIzfn0ZEmPGHWxPJ3S\n",
       "G+66judFLf0mT+t1esKYVbO91fAYV1Utc3rBmE3DY7zZpBeMmRr+fdmx3z25nYZvQ+ub9II/QLNT\n",
       "eb09picM28/9niM/vPzj9IQh3z39ZXrCsIfTz9MThvz4eC89YdiH+6+mJwz75xffSU8Y8vH1w/SE\n",
       "YQ1fL2re9npYz9t+R3maex3jjpZ1v998y8k2PWFIvyuvaur27aKqlsur9IQxDb8nd/w+2/I4N3Ne\n",
       "DXtOM7rk69fvbQgAAAAAAACAO0GwBgAAAAAAACBCsAYAAAAAAAAgQrAGAAAAAAAAIEKwBgAAAAAA\n",
       "ACBCsAYAAAAAAAAgQrAGAAAAAAAAIEKwBgAAAAAAACBCsAYAAAAAAAAgQrAGAAAAAAAAIEKwBgAA\n",
       "AAAAACBCsAYAAAAAAAAgQrAGAAAAAAAAIEKwBgAAAAAAACBCsAYAAAAAAAAgQrAGAAAAAAAAIEKw\n",
       "BgAAAAAAACBCsAYAAAAAAAAgQrAGAAAAAAAAIEKwBgAAAAAAACBCsAYAAAAAAAAgQrAGAAAAAAAA\n",
       "IEKwBgAAAAAAACBCsAYAAAAAAAAgQrAGAAAAAAAAIEKwBgAAAAAAACBCsAYAAAAAAAAgQrAGAAAA\n",
       "AAAAIEKwBgAAAAAAACBCsAYAAAAAAAAgQrAGAAAAAAAAIEKwBgAAAAAAACBCsAYAAAAAAAAgYnOx\n",
       "PJ3SI3jzdDwvzlfvL+kNw5Zek5fDPj1h2DS1O5Wr1uv0gjFTw799muf0gjGrfufxfLZNTxi2NLv0\n",
       "Vre9niFVVcu64bl82ut+0fAQ18nqkJ4w7JP9w/SEIUv1OzH+dPur9IQhh24Pkap6tL5KTxj2V49+\n",
       "kp4w5O8/+pv0hGE3z07TE4ZNZ72e1avbfr+fpl6HuKqqDvd73ZdPP+r3PjRd3aQnjFn1u/bafbuo\n",
       "qur4Ha6b+ZheMK7ZN/CObQTugoZPagAAAAAAAADuAsEaAAAAAAAAgAjBGgAAAAAAAIAIwRoAAAAA\n",
       "AACACMEaAAAAAAAAgAjBGgAAAAAAAIAIwRoAAAAAAACACMEaAAAAAAAAgAjBGgAAAAAAAIAIwRoA\n",
       "AAAAAACACMEaAAAAAAAAgAjBGgAAAAAAAIAIwRoAAAAAAACACMEaAAAAAAAAgAjBGgAAAAAAAIAI\n",
       "wRoAAAAAAACACMEaAAAAAAAAgAjBGgAAAAAAAIAIwRoAAAAAAACACMEaAAAAAAAAgAjBGgAAAAAA\n",
       "AIAIwRoAAAAAAACACMEaAAAAAAAAgAjBGgAAAAAAAIAIwRoAAAAAAACACMEaAAAAAAAAgAjBGgAA\n",
       "AAAAAIAIwRoAAAAAAACACMEaAAAAAAAAgAjBGgAAAAAAAIAIwRoAAAAAAACACMEaAAAAAAAAgAjB\n",
       "GgAAAAAAAIAIwRoAAAAAAACAiE16wJfF+fRkSW8YcbE8ndIbhi2tDnFVVfVb3FHDo3w8phcMWfb7\n",
       "9IRh072z9IQxN7fpBcM2v36ZnjBst36YnjBk/2CdnjBs91l6wbjrt3v9fef+cpueMOwnn7yTnjDs\n",
       "wTdv0hOG/PrmfnrCsH/Z/El6wpB/e/Wt9IRh+7nfc+T5YZeeMGS3OaQnDJvW/X4/bX/V69m36vdq\n",
       "X6t9w/PiebPrr98h7ue238W3NPwWUPOcXjBm1e99aDn0+w5XU6/UcF69Wg5fjJbNrJleX+AAAAAA\n",
       "AAAAuDMEawAAAAAAAAAiBGsAAAAAAAAAIgRrAAAAAAAAACIEawAAAAAAAAAiBGsAAAAAAAAAIgRr\n",
       "AAAAAAAAACIEawAAAAAAAAAiBGsAAAAAAAAAIgRrAAAAAAAAACIEawAAAAAAAAAiBGsAAAAAAAAA\n",
       "IgRrAAAAAAAAACIEawAAAAAAAAAiBGsAAAAAAAAAIgRrAAAAAAAAACIEawAAAAAAAAAiBGsAAAAA\n",
       "AAAAIgRrAAAAAAAAACIEawAAAAAAAAAiBGsAAAAAAAAAIgRrAAAAAAAAACIEawAAAAAAAAAiBGsA\n",
       "AAAAAAAAIgRrAAAAAAAAACIEawAAAAAAAAAiBGsAAAAAAAAAIgRrAAAAAAAAACIEawAAAAAAAAAi\n",
       "BGsAAAAAAAAAIgRrAAAAAAAAACIEawAAAAAAAAAiBGsAAAAAAAAAIjbpAbyZzqcnS3rDsGlKLxg2\n",
       "NdzczTLP6QnDpk2vW3PLs7jbebFq+Pdlc8PHyKHXebF7dkhPGHY47XV/q6paXza7y83b9IJhL+te\n",
       "esKw/zh9Jz1hyHrqdX+rqnp2++fpCUMenVynJwy7ndfpCcP+9b+/nZ4w5HjZ77k3vep3XmxepheM\n",
       "We/TC8atDv3e7TdXvd6Vp+vb9IRx+2Yn87rf/a2lZt+06rbftdfxe/IPjt/vNxr4wjX8Ag4AAAAA\n",
       "AADAXSBYAwAAAAAAABAhWAMAAAAAAAAQIVgDAAAAAAAAECFYAwAAAAAAABAhWAMAAAAAAAAQIVgD\n",
       "AAAAAAAAECFYAwAAAAAAABAhWAMAAAAAAAAQIVgDAAAAAAAAECFYAwAAAAAAABAhWAMAAAAAAAAQ\n",
       "IVgDAAAAAAAAECFYAwAAAAAAABAhWAMAAAAAAAAQIVgDAAAAAAAAECFYAwAAAAAAABAhWAMAAAAA\n",
       "AAAQIVgDAAAAAAAAECFYAwAAAAAAABAhWAMAAAAAAAAQIVgDAAAAAAAAECFYAwAAAAAAABAhWAMA\n",
       "AAAAAAAQIVgDAAAAAAAAECFYAwAAAAAAABAhWAMAAAAAAAAQIVgDAAAAAAAAECFYAwAAAAAAABAh\n",
       "WAMAAAAAAAAQIVgDAAAAAAAAECFYAwAAAAAAABAhWAMAAAAAAAAQMaUH8GY6n54s6Q3DJqcz/9+0\n",
       "3qQn/AGaXX5Tv799Wp2dpicMmR49SE8Yd3KSXjBs/+7j9IQh8+k6PWHYy/f6nRc3b/V6v9jfSy8Y\n",
       "d/12s+deVS0nvTZPb92kJwz7iz/6MD1hyI9++u30hGEn9/bpCcNun+/SE4ZML/o9q3ef9nu3Xze7\n",
       "xd3/ea9nSFXVvY8P6QnDTn59nZ4wZP2by/SEcZe9jnFdN9tbVct1sxtcVS23vd4vlvmYnjBuntML\n",
       "hi0NN/P6XSxPe31w4bXr90sEAAAAAAAAgDtBsAYAAAAAAAAgQrAGAAAAAAAAIEKwBgAAAAAAACBC\n",
       "sAYAAAAAAAAgQrAGAAAAAAAAIEKwBgAAAAAAACBCsAYAAAAAAAAgQrAGAAAAAAAAIEKwBgAAAAAA\n",
       "ACBCsAYAAAAAAAAgQrAGAAAAAAAAIEKwBgAAAAAAACBCsAYAAAAAAAAgQrAGAAAAAAAAIEKwBgAA\n",
       "AAAAACBCsAYAAAAAAAAgQrAGAAAAAAAAIEKwBgAAAAAAACBCsAYAAAAAAAAgQrAGAAAAAAAAIEKw\n",
       "BgAAAAAAACBCsAYAAAAAAAAgQrAGAAAAAAAAIEKwBgAAAAAAACBCsAYAAAAAAAAgQrAGAAAAAAAA\n",
       "IEKwBgAAAAAAACBCsAYAAAAAAAAgQrAGAAAAAAAAIEKwBgAAAAAAACBCsAYAAAAAAAAgQrAGAAAA\n",
       "AAAAIGKTHvBlcT49WdIbRlwsT6f0hmGtjvBvdTsvWlrm9II7b9qs0xPGTc1ucdc36QXjVv3Oi82z\n",
       "q/SEIfP9k/SEYfd/0ezaq6rVodfr8vpRv79HXd/0Oy9u3+q1eX55lp4w7EfHb6cnDJmeb9MThs2/\n",
       "7Pcc2V31uvaO9/r93Nt9ml4w7v4ve/3mW+/7nRcnn/b7PbK63qcnjHnV67dIVdXy8lV6wphVv/fk\n",
       "5djr/lZVtSzN7nGzY/yFaPYd7mL+oNdg+D269ad+T2oAAAAAAAAA7gTBGgAAAAAAAIAIwRoAAAAA\n",
       "AACACMEaAAAAAAAAgAjBGgAAAAAAAIAIwRoAAAAAAACACMEaAAAAAAAAgAjBGgAAAAAAAIAIwRoA\n",
       "AAAAAACACMEaAAAAAAAAgAjBGgAAAAAAAIAIwRoAAAAAAACACMEaAAAAAAAAgAjBGgAAAAAAAIAI\n",
       "wRoAAAAAAACACMEaAAAAAAAAgAjBGgAAAAAAAIAIwRoAAAAAAACACMEaAAAAAAAAgAjBGgAAAAAA\n",
       "AIAIwRoAAAAAAACACMEaAAAAAAAAgAjBGgAAAAAAAIAIwRoAAAAAAACACMEaAAAAAAAAgAjBGgAA\n",
       "AAAAAIAIwRoAAAAAAACACMEaAAAAAAAAgAjBGgAAAAAAAIAIwRoAAAAAAACACMEaAAAAAAAAgAjB\n",
       "GgAAAAAAAIAIwRoAAAAAAACACMEaAAAAAAAAgIgpPQA+L+fTkyW9YdS06vU3Iz84fr/dPeOvN3/X\n",
       "7ryo1Tq9YMx8TC8YNp3s0hOGTLttesKw6d699IRxu5P0giHz4wfpCcPm3SY9YdjhQa/r7/KdXnur\n",
       "qo69bslVVXXzVq9Xopu30gvGra/SC8as+r0OVfV7S66TF+kFY7Yv+x3kaU4vGHf66SE9Ycjpx81u\n",
       "cFU13fa7yU3PX6UnjNn3Oo+rqurqOr1gyLLfpycMW25v0xOGLcdeD5Ll2PDaW/q9X3RzsTzt9YOv\n",
       "eraRjseZ16tXLQMAAAAAAADgzhCsAQAAAAAAAIgQrAEAAAAAAACIEKwBAAAAAAAAiBCsAQAAAAAA\n",
       "AIgQrAEAAAAAAACIEKwBAAAAAAAAiBCsAQAAAAAAAIgQrAEAAAAAAACIEKwBAAAAAAAAiBCsAQAA\n",
       "AAAAAIgQrAEAAAAAAACIEKwBAAAAAAAAiBCsAQAAAAAAAIgQrAEAAAAAAACIEKwBAAAAAAAAiBCs\n",
       "AQAAAAAAAIgQrAEAAAAAAACIEKwBAAAAAAAAiBCsAQAAAAAAAIgQrAEAAAAAAACIEKwBAAAAAAAA\n",
       "iBCsAQAAAAAAAIgQrAEAAAAAAACIEKwBAAAAAAAAiBCsAQAAAAAAAIgQrAEAAAAAAACIEKwBAAAA\n",
       "AAAAiBCsAQAAAAAAAIgQrAEAAAAAAACIEKwBAAAAAAAAiBCsAQAAAAAAAIgQrAEAAAAAAACImNID\n",
       "4PNyPj1Z0huGTc0uwaXfIW53jKtqWvlbotdtOtmlJwyZNuv0hGHT7iQ9YdzDB+kFYxre35azXtde\n",
       "VdXhrXvpCUP2DzfpCcOOu37PvaXZ5Xe47xi/boezZoOran3b791+dZteMObkxTE9Ydjmek5PGHby\n",
       "yVV6wpDVVbMTuapq7nde1Kte50Xd3KQXDFtue53Ly6HfPXm5vk5P4A20dPw+23FzMxfL034/SOB3\n",
       "9PtyAQAAAAAAAMCdIFgDAAAAAAAAECFYAwAAAAAAABAhWAMAAAAAAAAQIVgDAAAAAAAAECFYAwAA\n",
       "AAAAABAhWAMAAAAAAAAQIVgDAAAAAAAAECFYAwAAAAAAABAhWAMAAAAAAAAQIVgDAAAAAAAAECFY\n",
       "AwAAAAAAABAhWAMAAAAAAAAQIVgDAAAAAAAAECFYAwAAAAAAABAhWAMAAAD/27695UaSXQcUvZF8\n",
       "dLdkQJNKz4DlQXZxBso5SdYD3VVkZuhHP7IbMEIwa9ch1xrBwcWNG4+dCQAAAAnBGgAAAAAAAICE\n",
       "YA0AAAAAAABAQrAGAAAAAAAAICFYAwAAAAAAAJAQrAEAAAAAAABICNYAAAAAAAAAJARrAAAAAAAA\n",
       "ABKCNQAAAAAAAAAJwRoAAAAAAACAhGANAAAAAAAAQEKwBgAAAAAAACAhWAMAAAAAAACQEKwBAAAA\n",
       "AAAASAjWAAAAAAAAACQEawAAAAAAAAASgjUAAAAAAAAACcEaAAAAAAAAgMRWDwAf2Xl72usZjrjs\n",
       "z86Mb+B8+jRqX2zbwG0xbObthx/qEY7bR23jtdZa248/1iMcsj0+1CMc99OsNV5rrf33P9UjHHL7\n",
       "3WM9wnGnWWfyWmu9/u6+HuGQr3+Yd148/uW1HuHd2+/nXXvrVg9wzOOffq1HOG7gM9y6zZr59N9/\n",
       "r0c47uWlnuC4r7Nm3n+Zd17sL7Pu1fv1Wo/wb5h1vq211v46a1+MNPFePczEb+DTOsNaM9eZt+Uf\n",
       "1gAAAAAAAAAkBGsAAAAAAAAAEoI1AAAAAAAAAAnBGgAAAAAAAICEYA0AAAAAAABAQrAGAAAAAAAA\n",
       "ICFYAwAAAAAAAJAQrAEAAAAAAABICNYAAAAAAAAAJARrAAAAAAAAABKCNQAAAAAAAAAJwRoAAAAA\n",
       "AACAhGANAAAAAAAAQEKwBgAAAAAAACAhWAMAAAAAAACQEKwBAAAAAAAASAjWAAAAAAAAACQEawAA\n",
       "AAAAAAASgjUAAAAAAAAACcEaAAAAAAAAgIRgDQAAAAAAAEBCsAYAAAAAAAAgIVgDAAAAAAAAkBCs\n",
       "AQAAAAAAAEgI1gAAAAAAAAAkBGsAAAAAAAAAEoI1AAAAAAAAAAnBGgAAAAAAAICEYA0AAAAAAABA\n",
       "QrAGAAAAAAAAICFYAwAAAAAAAJAQrAEAAAAAAABICNYAAAAAAAAAJO7rAYA5ztvTXs/wIeyzlnnW\n",
       "tP80bI3Xy0s9wWHb/UM9wnH7rZ7gmNfXeoLjXubNvP3ypR7hkLuv886L/X7eK8nD11ln3MOfZ+3j\n",
       "tdZaWz3AMdvrsHvIWuv6H4/1CIfd/WXWXt5+/VqPcNw27OJba60vs/bFmnivnrbGa417Ud0HPiev\n",
       "27B73+1aT/AhbMPuI/u070Nrre007z+If7z+PGtjAIl5pxsAAAAAAAAA74JgDQAAAAAAAEBCsAYA\n",
       "AAAAAAAgIVgDAAAAAAAAkBCsAQAAAAAAAEgI1gAAAAAAAAAkBGsAAAAAAAAAEoI1AAAAAAAAAAnB\n",
       "GgAAAAAAAICEYA0AAAAAAABAQrAGAAAAAAAAICFYAwAAAAAAAJAQrAEAAAAAAABICNYAAAAAAAAA\n",
       "JARrAAAAAAAAABKCNQAAAAAAAAAJwRoAAAAAAACAhGANAAAAAAAAQEKwBgAAAAAAACAhWAMAAAAA\n",
       "AACQEKwBAAAAAAAASAjWAAAAAAAAACQEawAAAAAAAAASgjUAAAAAAAAACcEaAAAAAAAAgIRgDQAA\n",
       "AAAAAEBCsAYAAAAAAAAgIVgDAAAAAAAAkBCsAQAAAAAAAEgI1gAAAAAAAAAkBGsAAAAAAAAAEoI1\n",
       "AAAAAAAAAAnBGgAAAAAAAICEYA0AAAAAAABAYqsHAOBfnU+f9noGvi/bad7vy7aHh3qEw/bXaz3C\n",
       "IRPX+PT7n+oRjpt2/d3d1RMcN3FfDDsv1uO882J/vK9HOGT7+lqPcNzLwJlPwz5hfHmpJzjudqsn\n",
       "OO5l1jrvv36pRzhsfx14Xlxn7eX9OnCNt1nPySPXePd5iPfhsj+Peog7b0/jLr5pawy/ZdaTBQAA\n",
       "AAAAAADvhmANAAAAAAAAQEKwBgAAAAAAACAhWAMAAAAAAACQEKwBAAAAAAAASAjWAAAAAAAAACQE\n",
       "awAAAAAAAAASgjUAAAAAAAAACcEaAAAAAAAAgIRgDQAAAAAAAEBCsAYAAAAAAAAgIVgDAAAAAAAA\n",
       "kBCsAQAAAAAAAEgI1gAAAAAAAAAkBGsAAAAAAAAAEoI1AAAAAAAAAAnBGgAAAAAAAICEYA0AAAAA\n",
       "AABAQrAGAAAAAAAAICFYAwAAAAAAAJAQrAEAAAAAAABICNYAAAAAAAAAJARrAAAAAAAAABKCNQAA\n",
       "AAAAAAAJwRoAAAAAAACAhGANAAAAAAAAQEKwBgAAAAAAACAhWAMAAAAAAACQEKwBAAAAAAAASAjW\n",
       "AAAAAAAAACQEawAAAAAAAAASgjUAAAAAAAAACcEaAAAAAAAAgMRWDwDwls6nT3s9w2H7vJHH2Wbd\n",
       "/rZh8661xq3xWmttj4/1CIdsp3m/O5x4uk3bydsPP9QjHPfjwJlfXuoJjhm4xvtf/1aPcMj28FCP\n",
       "cNzEma/XeoJjBj7X79POt7XG7YvbL1/qET6G26x9sSY+27++1iMcM/BMHmngt4BxBu7ly/5sYwD/\n",
       "p3lPQwAAAAAAAAC8C4I1AAAAAAAAAAnBGgAAAAAAAICEYA0AAAAAAABAQrAGAAAAAAAAICFYAwAA\n",
       "AAAAAJAQrAEAAAAAAABICNYAAAAAAAAAJARrAAAAAAAAABKCNQAAAAAAAAAJwRoAAAAAAACAhGAN\n",
       "AAAAAAAAQEKwBgAAAAAAACAhWAMAAAAAAACQEKwBAAAAAAAASAjWAAAAAAAAACQEawAAAAAAAAAS\n",
       "gjUAAAAAAAAACcEaAAAAAAAAgIRgDQAAAAAAAEBCsAYAAAAAAAAgIVgDAAAAAAAAkBCsAQAAAAAA\n",
       "AEgI1gAAAAAAAAAkBGsAAAAAAAAAEoI1AAAAAAAAAAnBGgAAAAAAAICEYA0AAAAAAABAQrAGAAAA\n",
       "AAAAICFYAwAAAAAAAJAQrAEAAAAAAABICNYAAAAAAAAAJARrAAAAAAAAABJbPQAAs51Pn/Z6Br4/\n",
       "2+YR463t+7xL7/TwWI9w3N2w33dOvPau13qCw7bHYXv54b6e4LjbsDPu9bWe4LjTwPNi2hm3DbuH\n",
       "rLX2X7/UIxw3bF/sry/1CIdtE/fydda5vN9u9QiHbadZ+2If+Mw57Xxba63L7fOooc/b07CHzrUu\n",
       "+/OoNV5r3jpPXGN4D2Y9WQAAAAAAAADwbgjWAAAAAAAAACQEawAAAAAAAAASgjUAAAAAAAAACcEa\n",
       "AAAAAAAAgIRgDQAAAAAAAEBCsAYA3HTUkwAADZhJREFUAAAAAAAgIVgDAAAAAAAAkBCsAQAAAAAA\n",
       "AEgI1gAAAAAAAAAkBGsAAAAAAAAAEoI1AAAAAAAAAAnBGgAAAAAAAICEYA0AAAAAAABAQrAGAAAA\n",
       "AAAAICFYAwAAAAAAAJAQrAEAAAAAAABICNYAAAAAAAAAJARrAAAAAAAAABKCNQAAAAAAAAAJwRoA\n",
       "AAAAAACAhGANAAAAAAAAQEKwBgAAAAAAACAhWAMAAAAAAACQEKwBAAAAAAAASAjWAAAAAAAAACQE\n",
       "awAAAAAAAAASgjUAAAAAAAAACcEaAAAAAAAAgIRgDQAAAAAAAEBCsAYAAAAAAAAgIVgDAAAAAAAA\n",
       "kBCsAQAAAAAAAEhs9QAA/Kvz9rTXMxxx2Z/dS97Yf97916g9MdW+W+a3tm0Dj4tpM5/u6gmOG3jt\n",
       "bffD1vlu2LxrrXW91hPwPbrd6gkO2Qfu4+3xsR7hsP31tR7hmGH7eK219oEzT3vu9C7Cb7ncPs/a\n",
       "yMs3LQD+ff5hDQAAAAAAAEBCsAYAAAAAAAAgIVgDAAAAAAAAkBCsAQAAAAAAAEgI1gAAAAAAAAAk\n",
       "BGsAAAAAAAAAEoI1AAAAAAAAAAnBGgAAAAAAAICEYA0AAAAAAABAQrAGAAAAAAAAICFYAwAAAAAA\n",
       "AJAQrAEAAAAAAABICNYAAAAAAAAAJARrAAAAAAAAABKCNQAAAAAAAAAJwRoAAAAAAACAhGANAAAA\n",
       "AAAAQEKwBgAAAAAAACAhWAMAAAAAAACQEKwBAAAAAAAASAjWAAAAAAAAACQEawAAAAAAAAASgjUA\n",
       "AAAAAAAACcEaAAAAAAAAgIRgDQAAAAAAAEBCsAYAAAAAAAAgIVgDAAAAAAAAkBCsAQAAAAAAAEgI\n",
       "1gAAAAAAAAAkBGsAAAAAAAAAEoI1AAAAAAAAAAnBGgAAAAAAAICEYA0AAAAAAABAQrAGAAAAAAAA\n",
       "ILHVAwAw23l72usZjrrsz+5/b2zivphmO/nd4Tdxd19PcMztWk9w3O64eHMTz4tp+2IbuMYjDdsX\n",
       "E0279tZa++1Wj3DINu3ZYq2Rzxd/vP7sne+NnU+f5h0Yw1xun+1jAD4Mb9UAAAAAAAAAJARrAAAA\n",
       "AAAAABKCNQAAAAAAAAAJwRoAAAAAAACAhGANAAAAAAAAQEKwBgAAAAAAACAhWAMAAAAAAACQEKwB\n",
       "AAAAAAAASAjWAAAAAAAAACQEawAAAAAAAAASgjUAAAAAAAAACcEaAAAAAAAAgIRgDQAAAAAAAEBC\n",
       "sAYAAAAAAAAgIVgDAAAAAAAAkBCsAQAAAAAAAEgI1gAAAAAAAAAkBGsAAAAAAAAAEoI1AAAAAAAA\n",
       "AAnBGgAAAAAAAICEYA0AAAAAAABAQrAGAAAAAAAAICFYAwAAAAAAAJAQrAEAAAAAAABICNYAAAAA\n",
       "AAAAJARrAAAAAAAAABKCNQAAAAAAAAAJwRoAAAAAAACAhGANAAAAAAAAQEKwBgAAAAAAACAhWAMA\n",
       "AAAAAACQEKwBAAAAAAAASAjWAAAAAAAAACTu6wGAOc7b017PcNRlf97qGYAhtlnHxb6PO5Jnevla\n",
       "T3DIdvJ7VH7DxPNi3My3eoCPYdi+mHivdh/5Bm7XeoLDJu7l8+nTqKEvt8+zXkbWGncmT/w+5Dsc\n",
       "AB+JNxEAAAAAAAAAEoI1AAAAAAAAAAnBGgAAAAAAAICEYA0AAAAAAABAQrAGAAAAAAAAICFYAwAA\n",
       "AAAAAJAQrAEAAAAAAABICNYAAAAAAAAAJARrAAAAAAAAABKCNQAAAAAAAAAJwRoAAAAAAACAhGAN\n",
       "AAAAAAAAQEKwBgAAAAAAACAhWAMAAAAAAACQEKwBAAAAAAAASAjWAAAAAAAAACQEawAAAAAAAAAS\n",
       "gjUAAAAAAAAACcEaAAAAAAAAgIRgDQAAAAAAAEBCsAYAAAAAAAAgIVgDAAAAAAAAkBCsAQAAAAAA\n",
       "AEgI1gAAAAAAAAAkBGsAAAAAAAAAEoI1AAAAAAAAAAnBGgAAAAAAAICEYA0AAAAAAABAQrAGAAAA\n",
       "AAAAICFYAwAAAAAAAJAQrAEAAAAAAABICNYAAAAAAAAAJARrAAAAAAAAABJbPQAAfGvn7WmvZzji\n",
       "sj+Pu19PW+O1Zq4zb+98+jRuL4+zD1zibdZxsZ3m/U55v17rEY4ZtifWWmsbOPM+8byYZuAae4bj\n",
       "t4x7Hxl4Jk87L5wVAPB9m/flAgAAAAAAAIB3QbAGAAAAAAAAICFYAwAAAAAAAJAQrAEAAAAAAABI\n",
       "CNYAAAAAAAAAJARrAAAAAAAAABKCNQAAAAAAAAAJwRoAAAAAAACAhGANAAAAAAAAQEKwBgAAAAAA\n",
       "ACAhWAMAAAAAAACQEKwBAAAAAAAASAjWAAAAAAAAACQEawAAAAAAAAASgjUAAAAAAAAACcEaAAAA\n",
       "AAAAgIRgDQAAAAAAAEBCsAYAAAAAAAAgIVgDAAAAAAAAkBCsAQAAAAAAAEgI1gAAAAAAAAAkBGsA\n",
       "AAAAAAAAEoI1AAAAAAAAAAnBGgAAAAAAAICEYA0AAAAAAABAQrAGAAAAAAAAICFYAwAAAAAAAJAQ\n",
       "rAEAAAAAAABICNYAAAAAAAAAJARrAAAAAAAAABKCNQAAAAAAAAAJwRoAAAAAAACAhGANAAAAAAAA\n",
       "QGKrBwCAb+28Pe31DEdc9mf362/AvuA9mLaP11prbQO38j5smQeu8TZs5v12q0c4btgaT3S5fbbI\n",
       "/C8T79WeOwEAeGv+YQ0AAAAAAABAQrAGAAAAAAAAICFYAwAAAAAAAJAQrAEAAAAAAABICNYAAAAA\n",
       "AAAAJARrAAAAAAAAABKCNQAAAAAAAAAJwRoAAAAAAACAhGANAAAAAAAAQEKwBgAAAAAAACAhWAMA\n",
       "AAAAAACQEKwBAAAAAAAASAjWAAAAAAAAACQEawAAAAAAAAASgjUAAAAAAAAACcEaAAAAAAAAgIRg\n",
       "DQAAAAAAAEBCsAYAAAAAAAAgIVgDAAAAAAAAkBCsAQAAAAAAAEgI1gAAAAAAAAAkBGsAAAAAAAAA\n",
       "EoI1AAAAAAAAAAnBGgAAAAAAAICEYA0AAAAAAABAQrAGAAAAAAAAICFYAwAAAAAAAJAQrAEAAAAA\n",
       "AABICNYAAAAAAAAAJARrAAAAAAAAABKCNQAAAAAAAAAJwRoAAAAAAACAhGANAAAAAAAAQEKwBgAA\n",
       "AAAAACCx1QMAAAD/P87b017PcNRlfx73TnI+fRq1zpfb53lrPGwvj9zHw9Z4rXnrPO2sWGuttc8b\n",
       "eZpp+3gt5wUAAG/PP6wBAAAAAAAASAjWAAAAAAAAACQEawAAAAAAAAASgjUAAAAAAAAACcEaAAAA\n",
       "AAAAgIRgDQAAAAAAAEBCsAYAAAAAAAAgIVgDAAAAAAAAkBCsAQAAAAAAAEgI1gAAAAAAAAAkBGsA\n",
       "AAAAAAAAEoI1AAAAAAAAAAnBGgAAAAAAAICEYA0AAAAAAABAQrAGAAAAAAAAICFYAwAAAAAAAJAQ\n",
       "rAEAAAAAAABICNYAAAAAAAAAJARrAAAAAAAAABKCNQAAAAAAAAAJwRoAAAAAAACAhGANAAAAAAAA\n",
       "QEKwBgAAAAAAACAhWAMAAAAAAACQEKwBAAAAAAAASAjWAAAAAAAAACQEawAAAAAAAAASgjUAAAAA\n",
       "AAAACcEaAAAAAAAAgIRgDQAAAAAAAEBCsAYAAAAAAAAgIVgDAAAAAAAAkBCsAQAAAAAAAEhs9QAA\n",
       "AMDHdd6e9nqGwzavUfwP+7xtfNmfbWQITLzvOS8AAHhr/mENAAAAAAAAQEKwBgAAAAAAACAhWAMA\n",
       "AAAAAACQEKwBAAAAAAAASAjWAAAAAAAAACQEawAAAAAAAAASgjUAAAAAAAAACcEaAAAAAAAAgIRg\n",
       "DQAAAAAAAEBCsAYAAAAAAAAgIVgDAAAAAAAAkBCsAQAAAAAAAEgI1gAAAAAAAAAkBGsAAAAAAAAA\n",
       "EoI1AAAAAAAAAAnBGgAAAAAAAICEYA0AAAAAAABAQrAGAAAAAAAAICFYAwAAAAAAAJAQrAEAAAAA\n",
       "AABICNYAAAAAAAAAJARrAAAAAAAAABKCNQAAAAAAAAAJwRoAAAAAAACAhGANAAAAAAAAQEKwBgAA\n",
       "AAAAACAhWAMAAAAAAACQEKwBAAAAAAAASAjWAAAAAAAAACQEawAAAAAAAAASgjUAAAAAAAAACcEa\n",
       "AAAAAAAAgIRgDQAAAAAAAEBiqwcAAIDv1Xl72usZjrjsz57veRdcewAAAPBx+Ic1AAAAAAAAAAnB\n",
       "GgAAAAAAAICEYA0AAAAAAABAQrAGAAAAAAAAICFYAwAAAAAAAJAQrAEAAAAAAABICNYAAAAAAAAA\n",
       "JARrAAAAAAAAABKCNQAAAAAAAAAJwRoAAAAAAACAhGANAAAAAAAAQEKwBgAAAAAAACAhWAMAAAAA\n",
       "AACQEKwBAAAAAAAASAjWAAAAAAAAACQEawAAAAAAAAASgjUAAAAAAAAACcEaAAAAAAAAgIRgDQAA\n",
       "AAAAAEBCsAYAAAAAAAAgIVgDAAAAAAAAkBCsAQAAAAAAAEgI1gAAAAAAAAAkBGsAAAAAAAAAEoI1\n",
       "AAAAAAAAAAnBGgAAAAAAAICEYA0AAAAAAABAQrAGAAAAAAAAICFYAwAAAAAAAJAQrAEAAAAAAABI\n",
       "CNYAAAAAAAAAJARrAAAAAAAAABKCNQAAAAAAAACJfwAfUN6GZ/w11AAAAABJRU5ErkJggg==\n",
       "\" transform=\"translate(149, 47)\"/>\n",
       "</g>\n",
       "<defs>\n",
       "  <clipPath id=\"clip633\">\n",
       "    <rect x=\"2160\" y=\"47\" width=\"73\" height=\"1440\"/>\n",
       "  </clipPath>\n",
       "</defs>\n",
       "<g clip-path=\"url(#clip633)\">\n",
       "<image width=\"72\" height=\"1439\" xlink:href=\"data:image/png;base64,\n",
       "iVBORw0KGgoAAAANSUhEUgAAAEgAAAWfCAYAAAAI7rB3AAAMJ0lEQVR4nO3dwa3cSBAFQVIoU9Z/\n",
       "t2QFm7JgK4+cQ4QFQuJhiG7OfN3P3//ei//15+t/wK8TKAgUBAoChXne8/W/4adZUBAoCBQECgKF\n",
       "OZej2MaCgkBBoCBQmHM5amwsKAgUBAoCBYHCPK+jxsaCgkBBoCBQECg4iwULCgIFgYJAYR5vNVYW\n",
       "FAQKAgWBgkBhjguzlQUFgYJAQaDgqBEsKAgUBAoCBYHCeKexs6AgUBAoCBQECr5hFiwoCBQECgKF\n",
       "eb7+F/w4CwoCBYGCQEGg4MIsWFAQKAgUBAoChXncl60sKAgUBAoCBUeNYEFBoCBQECgIFOa57q//\n",
       "DT/NgoJAQaAgUJjn9SG9saAgUBAoCBQECnMcNVYWFAQKAgWBgkDBhVmwoCBQECgIFOa4MFtZUBAo\n",
       "CBQECgIFR41gQUGgIFAQKAgUPMWCBQWBgkBBoDDn1WijThAoCBQECgIFR41gQUGgIFAQKMyj0Uqd\n",
       "IFAQKAgUBAouzII6QaAgUBAoCBRcmAULCgIFgYJAYR5HjZU6QaAgUBAoCBTmaLRSJwgUBAoCBYGC\n",
       "C7NgQUGgIFAQKLgwC+oEgYJAQaAgUHBhFtQJAgWBgkDBUSOoEwQKAgWBgkDBW41gQUGgIFAQKAgU\n",
       "/CQzqBMECgIFgYK//hLUCQIFgYJAQaAwj/9fbGVBQaAgUBAo+AJVUCcIFAQKAgWBgm+YBXWCQEGg\n",
       "IFAQKHjtE9QJAgWBgkBhjrcaKwsKAgWBgkBBoOCoEdQJAgWBgkBBoODHLEGdIFAQKAgU/G4+WFAQ\n",
       "KAgUBAoCBUeNoE4QKAgUBAqOGsGCgkBBoCBQECg4agR1gkBBoCBQECj4SWZQJwgUBAoChTkuzFYW\n",
       "FAQKAgWBgkDBUSOoEwQKAgWBgkDBWSxYUBAoCBQECo4aQZ0gUBAoCBQECv6GWbCgIFAQKAgU/Imu\n",
       "oE4QKAgUBAoCBUeNYEFBoCBQECgIFDzFggUFgYJAQaDgwiyoEwQKAgWBgkDBUSNYUBAoCBQECgIF\n",
       "f8MsqBMECgIFgYJfHAYLCgIFgYJAQaAwjwuzlQUFgYJAQaDgPiioEwQKAgWBgkDBu/lgQUGgIFAQ\n",
       "KAgUvPYJFhQECgIFgYK3GsGCgkBBoCBQECh47RPUCQIFgYJAwVuNYEFBoCBQECgIFLzVCBYUBAoC\n",
       "BYGCQMFZLFhQECgIFAQKPqSDBQWBgkBBoCBQ8BQLFhQECgIFgYJAwTfMgjpBoCBQECh4Nx8sKAgU\n",
       "BAoCBYGCC7NgQUGgIFAQKPiQDhYUBAoCBYGCQMFTLFhQECgIFAQKAoV5PcVWFhQECgIFgYJ388GC\n",
       "gkBBoCBQECi4MAsWFAQKAgWBgkDBUyxYUBAoCBQECt5qBAsKAgWBgkBBoOCoESwoCBQECgIFH9LB\n",
       "goJAQaAgUBAozPv1v+DHWVAQKAgUBAoCBWexYEFBoCBQECh4Nx8sKAgUBAoCBYGCo0awoCBQECgI\n",
       "FAQKzmLBgoJAQaAgUJjj5fzKgoJAQaAgUBAoOGoECwoCBYGCQMGHdLCgIFAQKAgUBArezQcLCgIF\n",
       "gYJAQaDgJ5nBgoJAQaAgUHBhFiwoCBQECgIFgYKnWLCgIFAQKAgUBArzujFbWVAQKAgUBAqOGsGC\n",
       "gkBBoCBQECh4igULCgIFgYJAwX1QsKAgUBAoCBQECo4awYKCQEGgIFAQKDiLBQsKAgWBgkBhLkeN\n",
       "lQUFgYJAQaAgUHBhFiwoCBQECgIFf9wkWFAQKAgUBAoCBRdmwYKCQEGgIFAQKHg3HywoCBQECgKF\n",
       "uXxIrywoCBQECgIFgYJ388GCgkBBoCBQECg4iwULCgIFgYJAwbv5YEFBoCBQECgIFLybDxYUBAoC\n",
       "BYGCo0awoCBQECgIFAQK3moECwoCBYGCQEGg4CkWLCgIFAQKAgUXZsGCgkBBoCBQECg4agQLCgIF\n",
       "gYJAQaDgKRYsKAgUBAoCBRdmwYKCQEGgIFAQKAgUBAoCBYGCQMF9ULCgIFAQKAgUBAqeYsGCgkBB\n",
       "oCBQECjM7bXPyoKCQEGgIFBw1AgWFAQKAgWBgkDBUyxYUBAoCBQECgIFT7FgQUGgIFAQKPgxS7Cg\n",
       "IFAQKAgUBApzO2qsLCgIFAQKAgX3QcGCgkBBoCBQECh4igULCgIFgYJAQaDgwixYUBAoCBQECo4a\n",
       "wYKCQEGgIFAQKPiGWbCgIFAQKAgU3AcFCwoCBYGCQEGg4MIsWFAQKAgUBAoCBU+xYEFBoCBQECiM\n",
       "dxo7CwoCBYGCQEGg4KgRLCgIFAQKAgWBgqdYsKAgUBAoCBR8wyxYUBAoCBQECgIFR41gQUGgIFAQ\n",
       "KPiQDhYUBAoCBYGCQMGFWbCgIFAQKAgUBAr++kuwoCBQECgIFBw1ggUFgYJAQaAgUPDaJ1hQECgI\n",
       "FAQKAgVPsWBBQaAgUBAouDALFhQECgIFgYJAwVEjWFAQKAgUBAo+pIMFBYGCQEGgIFBwYRYsKAgU\n",
       "BAoCBYGCs1iwoCBQECgIFAQKAgWBgkBBoCBQcGEWLCgIFAQKAgWBgguzYEFBoCBQECg4agQLCgIF\n",
       "gYJAQaDgqBEsKAgUBAoCBR/SwYKCQEGgIFAQKLgwCxYUBAoCBYGCQMFZLFhQECgIFAQKjhrBgoJA\n",
       "QaAgUBAoOGoECwoCBYGCQMGHdLCgIFAQKAgUBAouzIIFBYGCQEGgIFBwFgsWFAQKAgWBgqNGsKAg\n",
       "UBAoCBQECo4awYKCQEGgIFAQKHiKBQsKAgWBgkBh7ten9MaCgkBBoCBQECg4agQLCgIFgYJAwbv5\n",
       "YEFBoCBQECgIFBw1ggUFgYJAQaAgUHAWCxYUBAoCBYGCo0awoCBQECgIFAQKnmLBgoJAQaAgUBAo\n",
       "uDALFhQECgIFgYKjRrCgIFAQKAgUBAqOGsGCgkBBoCBQcNQIFhQECgIFgYJAwVEjWFAQKAgUBAoC\n",
       "BWexYEFBoCBQECj4Q5PBgoJAQaAgUBAoOGoECwoCBYGCQEGg4LVPsKAgUBAoCBQcNYIFBYGCQEGg\n",
       "IFBw1AgWFAQKAgWBgqNGsKAgUBAoCBQECo4awYKCQEGgIFAQKMzle9IrCwoCBYGCQMFRI1hQECgI\n",
       "FAQKAgWvfYIFBYGCQEGgIFBwFgsWFAQKAgWBgqNGsKAgUBAoCBQECv6GWbCgIFAQKAgUHDWCBQWB\n",
       "gkBBoCBQmPt8/U/4bRYUBAoCBYGCQMFZLFhQECgIFAQK3moECwoCBYGCQEGg4KgRLCgIFAQKAgUf\n",
       "0sGCgkBBoCBQECj4xWGwoCBQECgIFAQK/tBksKAgUBAoCBQcNYIFBYGCQEGgIFCY63iMbSwoCBQE\n",
       "CgIFgYKzWLCgIFAQKAgUfMMsWFAQKAgUBAoCBT/JDBYUBAoCBYGCo0awoCBQECgIFAQKjhrBgoJA\n",
       "QaAgUBAozOXPJa8sKAgUBAoCBb84DBYUBAoCBYGCQMHXgIMFBYGCQEGgIFBwFgsWFAQKAgWBgm+Y\n",
       "BQsKAgWBgkBBoOAbZsGCgkBBoCBQ8Ce6ggUFgYJAQaAgUPBuPlhQECgIFAQKAgXv5oMFBYGCQEGg\n",
       "4EM6WFAQKAgUBAoCBb+bDxYUBAoCBYGCQME3zIIFBYGCQEGg4MIsWFAQKAgUBAoCBU+xYEFBoCBQ\n",
       "ECh4qxEsKAgUBAoCBYGCtxrBgoJAQaAgUBAouDALFhQECgIFgYIP6WBBQaAgUBAoCBT8DbNgQUGg\n",
       "IFAQKDhqBAsKAgWBgkBBoOApFiwoCBQECgIFgYKnWLCgIFAQKAgU5vZWY2VBQaAgUBAoCBQcNYIF\n",
       "BYGCQEGgIFDwFAsWFAQKAgWBgg/pYEFBoCBQECgIFPyYJVhQECgIFAQKjhrBgoJAQaAgUBAoeIoF\n",
       "CwoCBYGCQEGgMNfxV/83FhQECgIFgYKjRrCgIFAQKAgUBArzeoqtLCgIFAQKAgWBgm+YBQsKAgWB\n",
       "gkBhrtdbjY0FBYGCQEGgIFDw2idYUBAoCBQECu6DggUFgYJAQaAgUHBhFiwoCBQECgIFgYKzWLCg\n",
       "IFAQKAgUfA04WFAQKAgUBAoCBb+bDxYUBAoCBYGCQME3zIIFBYGCQEGg4KgRLCgIFAQKAgWBgtc+\n",
       "wYKCQEGgIFDwBapgQUGgIFAQKAgU/JglWFAQKAgUBAoChXmdxVYWFAQKAgWBgqNGsKAgUBAoCBQE\n",
       "Cr4GHCwoCBQECgKFf4jrjN/mS6F7AAAAAElFTkSuQmCC\n",
       "\" transform=\"translate(2161, 47)\"/>\n",
       "</g>\n",
       "<path clip-path=\"url(#clip630)\" d=\"M2269.43 1283.82 L2277.07 1283.82 L2277.07 1257.46 L2268.76 1259.12 L2268.76 1254.86 L2277.02 1253.2 L2281.7 1253.2 L2281.7 1283.82 L2289.33 1283.82 L2289.33 1287.76 L2269.43 1287.76 L2269.43 1283.82 Z\" fill=\"#f8f8f2\" fill-rule=\"nonzero\" fill-opacity=\"1\" /><path clip-path=\"url(#clip630)\" d=\"M2308.78 1256.28 Q2305.17 1256.28 2303.34 1259.84 Q2301.53 1263.38 2301.53 1270.51 Q2301.53 1277.62 2303.34 1281.18 Q2305.17 1284.73 2308.78 1284.73 Q2312.41 1284.73 2314.22 1281.18 Q2316.05 1277.62 2316.05 1270.51 Q2316.05 1263.38 2314.22 1259.84 Q2312.41 1256.28 2308.78 1256.28 M2308.78 1252.57 Q2314.59 1252.57 2317.64 1257.18 Q2320.72 1261.76 2320.72 1270.51 Q2320.72 1279.24 2317.64 1283.85 Q2314.59 1288.43 2308.78 1288.43 Q2302.97 1288.43 2299.89 1283.85 Q2296.83 1279.24 2296.83 1270.51 Q2296.83 1261.76 2299.89 1257.18 Q2302.97 1252.57 2308.78 1252.57 Z\" fill=\"#f8f8f2\" fill-rule=\"nonzero\" fill-opacity=\"1\" /><path clip-path=\"url(#clip630)\" d=\"M2338.94 1256.28 Q2335.33 1256.28 2333.5 1259.84 Q2331.7 1263.38 2331.7 1270.51 Q2331.7 1277.62 2333.5 1281.18 Q2335.33 1284.73 2338.94 1284.73 Q2342.57 1284.73 2344.38 1281.18 Q2346.21 1277.62 2346.21 1270.51 Q2346.21 1263.38 2344.38 1259.84 Q2342.57 1256.28 2338.94 1256.28 M2338.94 1252.57 Q2344.75 1252.57 2347.81 1257.18 Q2350.89 1261.76 2350.89 1270.51 Q2350.89 1279.24 2347.81 1283.85 Q2344.75 1288.43 2338.94 1288.43 Q2333.13 1288.43 2330.05 1283.85 Q2327 1279.24 2327 1270.51 Q2327 1261.76 2330.05 1257.18 Q2333.13 1252.57 2338.94 1252.57 Z\" fill=\"#f8f8f2\" fill-rule=\"nonzero\" fill-opacity=\"1\" /><polyline clip-path=\"url(#clip630)\" style=\"stroke:#000000; stroke-linecap:round; stroke-linejoin:round; stroke-width:4; stroke-opacity:1; fill:none\" points=\"2232.76,1274.11 2256.76,1274.11 \"/>\n",
       "<path clip-path=\"url(#clip630)\" d=\"M2274.38 1069.34 L2290.7 1069.34 L2290.7 1073.27 L2268.76 1073.27 L2268.76 1069.34 Q2271.42 1066.58 2276 1061.95 Q2280.61 1057.3 2281.79 1055.96 Q2284.03 1053.43 2284.91 1051.7 Q2285.82 1049.94 2285.82 1048.25 Q2285.82 1045.49 2283.87 1043.76 Q2281.95 1042.02 2278.85 1042.02 Q2276.65 1042.02 2274.2 1042.79 Q2271.77 1043.55 2268.99 1045.1 L2268.99 1040.38 Q2271.81 1039.24 2274.27 1038.66 Q2276.72 1038.09 2278.76 1038.09 Q2284.13 1038.09 2287.32 1040.77 Q2290.52 1043.46 2290.52 1047.95 Q2290.52 1050.08 2289.7 1052 Q2288.92 1053.9 2286.81 1056.49 Q2286.23 1057.16 2283.13 1060.38 Q2280.03 1063.57 2274.38 1069.34 Z\" fill=\"#f8f8f2\" fill-rule=\"nonzero\" fill-opacity=\"1\" /><path clip-path=\"url(#clip630)\" d=\"M2310.51 1041.79 Q2306.9 1041.79 2305.08 1045.35 Q2303.27 1048.9 2303.27 1056.03 Q2303.27 1063.13 2305.08 1066.7 Q2306.9 1070.24 2310.51 1070.24 Q2314.15 1070.24 2315.95 1066.7 Q2317.78 1063.13 2317.78 1056.03 Q2317.78 1048.9 2315.95 1045.35 Q2314.15 1041.79 2310.51 1041.79 M2310.51 1038.09 Q2316.33 1038.09 2319.38 1042.69 Q2322.46 1047.28 2322.46 1056.03 Q2322.46 1064.75 2319.38 1069.36 Q2316.33 1073.94 2310.51 1073.94 Q2304.7 1073.94 2301.63 1069.36 Q2298.57 1064.75 2298.57 1056.03 Q2298.57 1047.28 2301.63 1042.69 Q2304.7 1038.09 2310.51 1038.09 Z\" fill=\"#f8f8f2\" fill-rule=\"nonzero\" fill-opacity=\"1\" /><path clip-path=\"url(#clip630)\" d=\"M2340.68 1041.79 Q2337.07 1041.79 2335.24 1045.35 Q2333.43 1048.9 2333.43 1056.03 Q2333.43 1063.13 2335.24 1066.7 Q2337.07 1070.24 2340.68 1070.24 Q2344.31 1070.24 2346.12 1066.7 Q2347.95 1063.13 2347.95 1056.03 Q2347.95 1048.9 2346.12 1045.35 Q2344.31 1041.79 2340.68 1041.79 M2340.68 1038.09 Q2346.49 1038.09 2349.54 1042.69 Q2352.62 1047.28 2352.62 1056.03 Q2352.62 1064.75 2349.54 1069.36 Q2346.49 1073.94 2340.68 1073.94 Q2334.87 1073.94 2331.79 1069.36 Q2328.73 1064.75 2328.73 1056.03 Q2328.73 1047.28 2331.79 1042.69 Q2334.87 1038.09 2340.68 1038.09 Z\" fill=\"#f8f8f2\" fill-rule=\"nonzero\" fill-opacity=\"1\" /><polyline clip-path=\"url(#clip630)\" style=\"stroke:#000000; stroke-linecap:round; stroke-linejoin:round; stroke-width:4; stroke-opacity:1; fill:none\" points=\"2232.76,1059.62 2256.76,1059.62 \"/>\n",
       "<path clip-path=\"url(#clip630)\" d=\"M2284.38 840.151 Q2287.74 840.868 2289.61 843.137 Q2291.51 845.405 2291.51 848.738 Q2291.51 853.854 2287.99 856.655 Q2284.47 859.456 2277.99 859.456 Q2275.82 859.456 2273.5 859.016 Q2271.21 858.6 2268.76 857.743 L2268.76 853.229 Q2270.7 854.363 2273.02 854.942 Q2275.33 855.521 2277.85 855.521 Q2282.25 855.521 2284.54 853.785 Q2286.86 852.049 2286.86 848.738 Q2286.86 845.683 2284.7 843.97 Q2282.58 842.234 2278.76 842.234 L2274.73 842.234 L2274.73 838.391 L2278.94 838.391 Q2282.39 838.391 2284.22 837.026 Q2286.05 835.637 2286.05 833.044 Q2286.05 830.382 2284.15 828.97 Q2282.27 827.535 2278.76 827.535 Q2276.83 827.535 2274.64 827.952 Q2272.44 828.368 2269.8 829.248 L2269.8 825.081 Q2272.46 824.34 2274.77 823.97 Q2277.11 823.6 2279.17 823.6 Q2284.5 823.6 2287.6 826.03 Q2290.7 828.438 2290.7 832.558 Q2290.7 835.428 2289.06 837.419 Q2287.41 839.387 2284.38 840.151 Z\" fill=\"#f8f8f2\" fill-rule=\"nonzero\" fill-opacity=\"1\" /><path clip-path=\"url(#clip630)\" d=\"M2310.38 827.303 Q2306.76 827.303 2304.94 830.868 Q2303.13 834.41 2303.13 841.539 Q2303.13 848.646 2304.94 852.211 Q2306.76 855.752 2310.38 855.752 Q2314.01 855.752 2315.82 852.211 Q2317.64 848.646 2317.64 841.539 Q2317.64 834.41 2315.82 830.868 Q2314.01 827.303 2310.38 827.303 M2310.38 823.6 Q2316.19 823.6 2319.24 828.206 Q2322.32 832.789 2322.32 841.539 Q2322.32 850.266 2319.24 854.873 Q2316.19 859.456 2310.38 859.456 Q2304.57 859.456 2301.49 854.873 Q2298.43 850.266 2298.43 841.539 Q2298.43 832.789 2301.49 828.206 Q2304.57 823.6 2310.38 823.6 Z\" fill=\"#f8f8f2\" fill-rule=\"nonzero\" fill-opacity=\"1\" /><path clip-path=\"url(#clip630)\" d=\"M2340.54 827.303 Q2336.93 827.303 2335.1 830.868 Q2333.29 834.41 2333.29 841.539 Q2333.29 848.646 2335.1 852.211 Q2336.93 855.752 2340.54 855.752 Q2344.17 855.752 2345.98 852.211 Q2347.81 848.646 2347.81 841.539 Q2347.81 834.41 2345.98 830.868 Q2344.17 827.303 2340.54 827.303 M2340.54 823.6 Q2346.35 823.6 2349.4 828.206 Q2352.48 832.789 2352.48 841.539 Q2352.48 850.266 2349.4 854.873 Q2346.35 859.456 2340.54 859.456 Q2334.73 859.456 2331.65 854.873 Q2328.59 850.266 2328.59 841.539 Q2328.59 832.789 2331.65 828.206 Q2334.73 823.6 2340.54 823.6 Z\" fill=\"#f8f8f2\" fill-rule=\"nonzero\" fill-opacity=\"1\" /><polyline clip-path=\"url(#clip630)\" style=\"stroke:#000000; stroke-linecap:round; stroke-linejoin:round; stroke-width:4; stroke-opacity:1; fill:none\" points=\"2232.76,845.134 2256.76,845.134 \"/>\n",
       "<path clip-path=\"url(#clip630)\" d=\"M2284.36 613.812 L2272.55 632.261 L2284.36 632.261 L2284.36 613.812 M2283.13 609.738 L2289.01 609.738 L2289.01 632.261 L2293.94 632.261 L2293.94 636.15 L2289.01 636.15 L2289.01 644.298 L2284.36 644.298 L2284.36 636.15 L2268.76 636.15 L2268.76 631.636 L2283.13 609.738 Z\" fill=\"#f8f8f2\" fill-rule=\"nonzero\" fill-opacity=\"1\" /><path clip-path=\"url(#clip630)\" d=\"M2311.67 612.817 Q2308.06 612.817 2306.23 616.382 Q2304.43 619.923 2304.43 627.053 Q2304.43 634.159 2306.23 637.724 Q2308.06 641.266 2311.67 641.266 Q2315.31 641.266 2317.11 637.724 Q2318.94 634.159 2318.94 627.053 Q2318.94 619.923 2317.11 616.382 Q2315.31 612.817 2311.67 612.817 M2311.67 609.113 Q2317.48 609.113 2320.54 613.72 Q2323.62 618.303 2323.62 627.053 Q2323.62 635.78 2320.54 640.386 Q2317.48 644.97 2311.67 644.97 Q2305.86 644.97 2302.78 640.386 Q2299.73 635.78 2299.73 627.053 Q2299.73 618.303 2302.78 613.72 Q2305.86 609.113 2311.67 609.113 Z\" fill=\"#f8f8f2\" fill-rule=\"nonzero\" fill-opacity=\"1\" /><path clip-path=\"url(#clip630)\" d=\"M2341.83 612.817 Q2338.22 612.817 2336.39 616.382 Q2334.59 619.923 2334.59 627.053 Q2334.59 634.159 2336.39 637.724 Q2338.22 641.266 2341.83 641.266 Q2345.47 641.266 2347.27 637.724 Q2349.1 634.159 2349.1 627.053 Q2349.1 619.923 2347.27 616.382 Q2345.47 612.817 2341.83 612.817 M2341.83 609.113 Q2347.64 609.113 2350.7 613.72 Q2353.78 618.303 2353.78 627.053 Q2353.78 635.78 2350.7 640.386 Q2347.64 644.97 2341.83 644.97 Q2336.02 644.97 2332.95 640.386 Q2329.89 635.78 2329.89 627.053 Q2329.89 618.303 2332.95 613.72 Q2336.02 609.113 2341.83 609.113 Z\" fill=\"#f8f8f2\" fill-rule=\"nonzero\" fill-opacity=\"1\" /><polyline clip-path=\"url(#clip630)\" style=\"stroke:#000000; stroke-linecap:round; stroke-linejoin:round; stroke-width:4; stroke-opacity:1; fill:none\" points=\"2232.76,630.647 2256.76,630.647 \"/>\n",
       "<path clip-path=\"url(#clip630)\" d=\"M2270.21 395.252 L2288.57 395.252 L2288.57 399.187 L2274.5 399.187 L2274.5 407.659 Q2275.52 407.312 2276.53 407.15 Q2277.55 406.965 2278.57 406.965 Q2284.36 406.965 2287.74 410.136 Q2291.12 413.307 2291.12 418.724 Q2291.12 424.303 2287.64 427.405 Q2284.17 430.483 2277.85 430.483 Q2275.68 430.483 2273.41 430.113 Q2271.16 429.742 2268.76 429.002 L2268.76 424.303 Q2270.84 425.437 2273.06 425.992 Q2275.28 426.548 2277.76 426.548 Q2281.77 426.548 2284.1 424.442 Q2286.44 422.335 2286.44 418.724 Q2286.44 415.113 2284.1 413.006 Q2281.77 410.9 2277.76 410.9 Q2275.89 410.9 2274.01 411.317 Q2272.16 411.733 2270.21 412.613 L2270.21 395.252 Z\" fill=\"#f8f8f2\" fill-rule=\"nonzero\" fill-opacity=\"1\" /><path clip-path=\"url(#clip630)\" d=\"M2310.33 398.331 Q2306.72 398.331 2304.89 401.895 Q2303.08 405.437 2303.08 412.567 Q2303.08 419.673 2304.89 423.238 Q2306.72 426.78 2310.33 426.78 Q2313.96 426.78 2315.77 423.238 Q2317.6 419.673 2317.6 412.567 Q2317.6 405.437 2315.77 401.895 Q2313.96 398.331 2310.33 398.331 M2310.33 394.627 Q2316.14 394.627 2319.2 399.233 Q2322.27 403.817 2322.27 412.567 Q2322.27 421.293 2319.2 425.9 Q2316.14 430.483 2310.33 430.483 Q2304.52 430.483 2301.44 425.9 Q2298.39 421.293 2298.39 412.567 Q2298.39 403.817 2301.44 399.233 Q2304.52 394.627 2310.33 394.627 Z\" fill=\"#f8f8f2\" fill-rule=\"nonzero\" fill-opacity=\"1\" /><path clip-path=\"url(#clip630)\" d=\"M2340.49 398.331 Q2336.88 398.331 2335.05 401.895 Q2333.25 405.437 2333.25 412.567 Q2333.25 419.673 2335.05 423.238 Q2336.88 426.78 2340.49 426.78 Q2344.13 426.78 2345.93 423.238 Q2347.76 419.673 2347.76 412.567 Q2347.76 405.437 2345.93 401.895 Q2344.13 398.331 2340.49 398.331 M2340.49 394.627 Q2346.3 394.627 2349.36 399.233 Q2352.44 403.817 2352.44 412.567 Q2352.44 421.293 2349.36 425.9 Q2346.3 430.483 2340.49 430.483 Q2334.68 430.483 2331.6 425.9 Q2328.55 421.293 2328.55 412.567 Q2328.55 403.817 2331.6 399.233 Q2334.68 394.627 2340.49 394.627 Z\" fill=\"#f8f8f2\" fill-rule=\"nonzero\" fill-opacity=\"1\" /><polyline clip-path=\"url(#clip630)\" style=\"stroke:#000000; stroke-linecap:round; stroke-linejoin:round; stroke-width:4; stroke-opacity:1; fill:none\" points=\"2232.76,416.161 2256.76,416.161 \"/>\n",
       "<path clip-path=\"url(#clip630)\" d=\"M2281.09 196.182 Q2277.95 196.182 2276.09 198.335 Q2274.27 200.488 2274.27 204.238 Q2274.27 207.964 2276.09 210.14 Q2277.95 212.293 2281.09 212.293 Q2284.24 212.293 2286.07 210.14 Q2287.92 207.964 2287.92 204.238 Q2287.92 200.488 2286.07 198.335 Q2284.24 196.182 2281.09 196.182 M2290.38 181.529 L2290.38 185.789 Q2288.62 184.955 2286.81 184.515 Q2285.03 184.076 2283.27 184.076 Q2278.64 184.076 2276.19 187.201 Q2273.76 190.326 2273.41 196.645 Q2274.77 194.631 2276.83 193.566 Q2278.89 192.478 2281.37 192.478 Q2286.58 192.478 2289.59 195.65 Q2292.62 198.798 2292.62 204.238 Q2292.62 209.562 2289.47 212.779 Q2286.33 215.997 2281.09 215.997 Q2275.1 215.997 2271.93 211.413 Q2268.76 206.807 2268.76 198.08 Q2268.76 189.886 2272.64 185.025 Q2276.53 180.141 2283.08 180.141 Q2284.84 180.141 2286.63 180.488 Q2288.43 180.835 2290.38 181.529 Z\" fill=\"#f8f8f2\" fill-rule=\"nonzero\" fill-opacity=\"1\" /><path clip-path=\"url(#clip630)\" d=\"M2310.68 183.844 Q2307.07 183.844 2305.24 187.409 Q2303.43 190.951 2303.43 198.08 Q2303.43 205.187 2305.24 208.751 Q2307.07 212.293 2310.68 212.293 Q2314.31 212.293 2316.12 208.751 Q2317.95 205.187 2317.95 198.08 Q2317.95 190.951 2316.12 187.409 Q2314.31 183.844 2310.68 183.844 M2310.68 180.141 Q2316.49 180.141 2319.54 184.747 Q2322.62 189.33 2322.62 198.08 Q2322.62 206.807 2319.54 211.413 Q2316.49 215.997 2310.68 215.997 Q2304.87 215.997 2301.79 211.413 Q2298.73 206.807 2298.73 198.08 Q2298.73 189.33 2301.79 184.747 Q2304.87 180.141 2310.68 180.141 Z\" fill=\"#f8f8f2\" fill-rule=\"nonzero\" fill-opacity=\"1\" /><path clip-path=\"url(#clip630)\" d=\"M2340.84 183.844 Q2337.23 183.844 2335.4 187.409 Q2333.59 190.951 2333.59 198.08 Q2333.59 205.187 2335.4 208.751 Q2337.23 212.293 2340.84 212.293 Q2344.47 212.293 2346.28 208.751 Q2348.11 205.187 2348.11 198.08 Q2348.11 190.951 2346.28 187.409 Q2344.47 183.844 2340.84 183.844 M2340.84 180.141 Q2346.65 180.141 2349.7 184.747 Q2352.78 189.33 2352.78 198.08 Q2352.78 206.807 2349.7 211.413 Q2346.65 215.997 2340.84 215.997 Q2335.03 215.997 2331.95 211.413 Q2328.89 206.807 2328.89 198.08 Q2328.89 189.33 2331.95 184.747 Q2335.03 180.141 2340.84 180.141 Z\" fill=\"#f8f8f2\" fill-rule=\"nonzero\" fill-opacity=\"1\" /><polyline clip-path=\"url(#clip630)\" style=\"stroke:#000000; stroke-linecap:round; stroke-linejoin:round; stroke-width:4; stroke-opacity:1; fill:none\" points=\"2232.76,201.674 2256.76,201.674 \"/>\n",
       "<polyline clip-path=\"url(#clip630)\" style=\"stroke:#000000; stroke-linecap:round; stroke-linejoin:round; stroke-width:4; stroke-opacity:1; fill:none\" points=\"2232.76,1486.45 2232.76,47.2441 \"/>\n",
       "</svg>\n"
      ],
      "text/html": [
       "<?xml version=\"1.0\" encoding=\"utf-8\"?>\n",
       "<svg xmlns=\"http://www.w3.org/2000/svg\" xmlns:xlink=\"http://www.w3.org/1999/xlink\" width=\"600\" height=\"400\" viewBox=\"0 0 2400 1600\">\n",
       "<defs>\n",
       "  <clipPath id=\"clip680\">\n",
       "    <rect x=\"0\" y=\"0\" width=\"2400\" height=\"1600\"/>\n",
       "  </clipPath>\n",
       "</defs>\n",
       "<path clip-path=\"url(#clip680)\" d=\"M0 1600 L2400 1600 L2400 0 L0 0  Z\" fill=\"#282a36\" fill-rule=\"evenodd\" fill-opacity=\"1\"/>\n",
       "<defs>\n",
       "  <clipPath id=\"clip681\">\n",
       "    <rect x=\"480\" y=\"0\" width=\"1681\" height=\"1600\"/>\n",
       "  </clipPath>\n",
       "</defs>\n",
       "<path clip-path=\"url(#clip680)\" d=\"M149.191 1486.45 L2112.76 1486.45 L2112.76 47.2441 L149.191 47.2441  Z\" fill=\"#30343b\" fill-rule=\"evenodd\" fill-opacity=\"1\"/>\n",
       "<defs>\n",
       "  <clipPath id=\"clip682\">\n",
       "    <rect x=\"149\" y=\"47\" width=\"1965\" height=\"1440\"/>\n",
       "  </clipPath>\n",
       "</defs>\n",
       "<polyline clip-path=\"url(#clip682)\" style=\"stroke:#f8f8f2; stroke-linecap:round; stroke-linejoin:round; stroke-width:2; stroke-opacity:0.1; fill:none\" points=\"238.444,1486.45 238.444,47.2441 \"/>\n",
       "<polyline clip-path=\"url(#clip682)\" style=\"stroke:#f8f8f2; stroke-linecap:round; stroke-linejoin:round; stroke-width:2; stroke-opacity:0.1; fill:none\" points=\"684.709,1486.45 684.709,47.2441 \"/>\n",
       "<polyline clip-path=\"url(#clip682)\" style=\"stroke:#f8f8f2; stroke-linecap:round; stroke-linejoin:round; stroke-width:2; stroke-opacity:0.1; fill:none\" points=\"1130.97,1486.45 1130.97,47.2441 \"/>\n",
       "<polyline clip-path=\"url(#clip682)\" style=\"stroke:#f8f8f2; stroke-linecap:round; stroke-linejoin:round; stroke-width:2; stroke-opacity:0.1; fill:none\" points=\"1577.24,1486.45 1577.24,47.2441 \"/>\n",
       "<polyline clip-path=\"url(#clip682)\" style=\"stroke:#f8f8f2; stroke-linecap:round; stroke-linejoin:round; stroke-width:2; stroke-opacity:0.1; fill:none\" points=\"2023.5,1486.45 2023.5,47.2441 \"/>\n",
       "<polyline clip-path=\"url(#clip682)\" style=\"stroke:#f8f8f2; stroke-linecap:round; stroke-linejoin:round; stroke-width:2; stroke-opacity:0.1; fill:none\" points=\"149.191,1452.18 2112.76,1452.18 \"/>\n",
       "<polyline clip-path=\"url(#clip682)\" style=\"stroke:#f8f8f2; stroke-linecap:round; stroke-linejoin:round; stroke-width:2; stroke-opacity:0.1; fill:none\" points=\"149.191,1109.51 2112.76,1109.51 \"/>\n",
       "<polyline clip-path=\"url(#clip682)\" style=\"stroke:#f8f8f2; stroke-linecap:round; stroke-linejoin:round; stroke-width:2; stroke-opacity:0.1; fill:none\" points=\"149.191,766.846 2112.76,766.846 \"/>\n",
       "<polyline clip-path=\"url(#clip682)\" style=\"stroke:#f8f8f2; stroke-linecap:round; stroke-linejoin:round; stroke-width:2; stroke-opacity:0.1; fill:none\" points=\"149.191,424.178 2112.76,424.178 \"/>\n",
       "<polyline clip-path=\"url(#clip682)\" style=\"stroke:#f8f8f2; stroke-linecap:round; stroke-linejoin:round; stroke-width:2; stroke-opacity:0.1; fill:none\" points=\"149.191,81.5109 2112.76,81.5109 \"/>\n",
       "<polyline clip-path=\"url(#clip680)\" style=\"stroke:#f8f8f2; stroke-linecap:round; stroke-linejoin:round; stroke-width:4; stroke-opacity:1; fill:none\" points=\"149.191,1486.45 2112.76,1486.45 \"/>\n",
       "<polyline clip-path=\"url(#clip680)\" style=\"stroke:#f8f8f2; stroke-linecap:round; stroke-linejoin:round; stroke-width:4; stroke-opacity:1; fill:none\" points=\"238.444,1486.45 238.444,1467.55 \"/>\n",
       "<polyline clip-path=\"url(#clip680)\" style=\"stroke:#f8f8f2; stroke-linecap:round; stroke-linejoin:round; stroke-width:4; stroke-opacity:1; fill:none\" points=\"684.709,1486.45 684.709,1467.55 \"/>\n",
       "<polyline clip-path=\"url(#clip680)\" style=\"stroke:#f8f8f2; stroke-linecap:round; stroke-linejoin:round; stroke-width:4; stroke-opacity:1; fill:none\" points=\"1130.97,1486.45 1130.97,1467.55 \"/>\n",
       "<polyline clip-path=\"url(#clip680)\" style=\"stroke:#f8f8f2; stroke-linecap:round; stroke-linejoin:round; stroke-width:4; stroke-opacity:1; fill:none\" points=\"1577.24,1486.45 1577.24,1467.55 \"/>\n",
       "<polyline clip-path=\"url(#clip680)\" style=\"stroke:#f8f8f2; stroke-linecap:round; stroke-linejoin:round; stroke-width:4; stroke-opacity:1; fill:none\" points=\"2023.5,1486.45 2023.5,1467.55 \"/>\n",
       "<path clip-path=\"url(#clip680)\" d=\"M207.344 1532.02 L237.02 1532.02 L237.02 1535.95 L207.344 1535.95 L207.344 1532.02 Z\" fill=\"#f8f8f2\" fill-rule=\"nonzero\" fill-opacity=\"1\" /><path clip-path=\"url(#clip680)\" d=\"M259.96 1518.36 L248.154 1536.81 L259.96 1536.81 L259.96 1518.36 M258.733 1514.29 L264.613 1514.29 L264.613 1536.81 L269.543 1536.81 L269.543 1540.7 L264.613 1540.7 L264.613 1548.85 L259.96 1548.85 L259.96 1540.7 L244.358 1540.7 L244.358 1536.19 L258.733 1514.29 Z\" fill=\"#f8f8f2\" fill-rule=\"nonzero\" fill-opacity=\"1\" /><path clip-path=\"url(#clip680)\" d=\"M654.651 1532.02 L684.327 1532.02 L684.327 1535.95 L654.651 1535.95 L654.651 1532.02 Z\" fill=\"#f8f8f2\" fill-rule=\"nonzero\" fill-opacity=\"1\" /><path clip-path=\"url(#clip680)\" d=\"M698.447 1544.91 L714.766 1544.91 L714.766 1548.85 L692.822 1548.85 L692.822 1544.91 Q695.484 1542.16 700.067 1537.53 Q704.674 1532.88 705.854 1531.53 Q708.1 1529.01 708.979 1527.27 Q709.882 1525.51 709.882 1523.82 Q709.882 1521.07 707.938 1519.33 Q706.016 1517.6 702.915 1517.6 Q700.715 1517.6 698.262 1518.36 Q695.831 1519.13 693.053 1520.68 L693.053 1515.95 Q695.878 1514.82 698.331 1514.24 Q700.785 1513.66 702.822 1513.66 Q708.192 1513.66 711.387 1516.35 Q714.581 1519.03 714.581 1523.52 Q714.581 1525.65 713.771 1527.57 Q712.984 1529.47 710.877 1532.07 Q710.299 1532.74 707.197 1535.95 Q704.095 1539.15 698.447 1544.91 Z\" fill=\"#f8f8f2\" fill-rule=\"nonzero\" fill-opacity=\"1\" /><path clip-path=\"url(#clip680)\" d=\"M1130.97 1517.37 Q1127.36 1517.37 1125.53 1520.93 Q1123.73 1524.47 1123.73 1531.6 Q1123.73 1538.71 1125.53 1542.27 Q1127.36 1545.82 1130.97 1545.82 Q1134.61 1545.82 1136.41 1542.27 Q1138.24 1538.71 1138.24 1531.6 Q1138.24 1524.47 1136.41 1520.93 Q1134.61 1517.37 1130.97 1517.37 M1130.97 1513.66 Q1136.78 1513.66 1139.84 1518.27 Q1142.92 1522.85 1142.92 1531.6 Q1142.92 1540.33 1139.84 1544.94 Q1136.78 1549.52 1130.97 1549.52 Q1125.16 1549.52 1122.08 1544.94 Q1119.03 1540.33 1119.03 1531.6 Q1119.03 1522.85 1122.08 1518.27 Q1125.16 1513.66 1130.97 1513.66 Z\" fill=\"#f8f8f2\" fill-rule=\"nonzero\" fill-opacity=\"1\" /><path clip-path=\"url(#clip680)\" d=\"M1571.89 1544.91 L1588.21 1544.91 L1588.21 1548.85 L1566.27 1548.85 L1566.27 1544.91 Q1568.93 1542.16 1573.51 1537.53 Q1578.12 1532.88 1579.3 1531.53 Q1581.54 1529.01 1582.42 1527.27 Q1583.33 1525.51 1583.33 1523.82 Q1583.33 1521.07 1581.38 1519.33 Q1579.46 1517.6 1576.36 1517.6 Q1574.16 1517.6 1571.71 1518.36 Q1569.28 1519.13 1566.5 1520.68 L1566.5 1515.95 Q1569.32 1514.82 1571.78 1514.24 Q1574.23 1513.66 1576.27 1513.66 Q1581.64 1513.66 1584.83 1516.35 Q1588.03 1519.03 1588.03 1523.52 Q1588.03 1525.65 1587.21 1527.57 Q1586.43 1529.47 1584.32 1532.07 Q1583.74 1532.74 1580.64 1535.95 Q1577.54 1539.15 1571.89 1544.91 Z\" fill=\"#f8f8f2\" fill-rule=\"nonzero\" fill-opacity=\"1\" /><path clip-path=\"url(#clip680)\" d=\"M2026.51 1518.36 L2014.71 1536.81 L2026.51 1536.81 L2026.51 1518.36 M2025.29 1514.29 L2031.16 1514.29 L2031.16 1536.81 L2036.1 1536.81 L2036.1 1540.7 L2031.16 1540.7 L2031.16 1548.85 L2026.51 1548.85 L2026.51 1540.7 L2010.91 1540.7 L2010.91 1536.19 L2025.29 1514.29 Z\" fill=\"#f8f8f2\" fill-rule=\"nonzero\" fill-opacity=\"1\" /><polyline clip-path=\"url(#clip680)\" style=\"stroke:#f8f8f2; stroke-linecap:round; stroke-linejoin:round; stroke-width:4; stroke-opacity:1; fill:none\" points=\"149.191,1486.45 149.191,47.2441 \"/>\n",
       "<polyline clip-path=\"url(#clip680)\" style=\"stroke:#f8f8f2; stroke-linecap:round; stroke-linejoin:round; stroke-width:4; stroke-opacity:1; fill:none\" points=\"149.191,1452.18 166.03,1452.18 \"/>\n",
       "<polyline clip-path=\"url(#clip680)\" style=\"stroke:#f8f8f2; stroke-linecap:round; stroke-linejoin:round; stroke-width:4; stroke-opacity:1; fill:none\" points=\"149.191,1109.51 166.03,1109.51 \"/>\n",
       "<polyline clip-path=\"url(#clip680)\" style=\"stroke:#f8f8f2; stroke-linecap:round; stroke-linejoin:round; stroke-width:4; stroke-opacity:1; fill:none\" points=\"149.191,766.846 166.03,766.846 \"/>\n",
       "<polyline clip-path=\"url(#clip680)\" style=\"stroke:#f8f8f2; stroke-linecap:round; stroke-linejoin:round; stroke-width:4; stroke-opacity:1; fill:none\" points=\"149.191,424.178 166.03,424.178 \"/>\n",
       "<polyline clip-path=\"url(#clip680)\" style=\"stroke:#f8f8f2; stroke-linecap:round; stroke-linejoin:round; stroke-width:4; stroke-opacity:1; fill:none\" points=\"149.191,81.5109 166.03,81.5109 \"/>\n",
       "<path clip-path=\"url(#clip680)\" d=\"M50.9921 1452.63 L80.6679 1452.63 L80.6679 1456.57 L50.9921 1456.57 L50.9921 1452.63 Z\" fill=\"#f8f8f2\" fill-rule=\"nonzero\" fill-opacity=\"1\" /><path clip-path=\"url(#clip680)\" d=\"M103.608 1438.98 L91.8021 1457.42 L103.608 1457.42 L103.608 1438.98 M102.381 1434.9 L108.26 1434.9 L108.26 1457.42 L113.191 1457.42 L113.191 1461.31 L108.26 1461.31 L108.26 1469.46 L103.608 1469.46 L103.608 1461.31 L88.0058 1461.31 L88.0058 1456.8 L102.381 1434.9 Z\" fill=\"#f8f8f2\" fill-rule=\"nonzero\" fill-opacity=\"1\" /><path clip-path=\"url(#clip680)\" d=\"M53.0754 1109.96 L82.7512 1109.96 L82.7512 1113.9 L53.0754 1113.9 L53.0754 1109.96 Z\" fill=\"#f8f8f2\" fill-rule=\"nonzero\" fill-opacity=\"1\" /><path clip-path=\"url(#clip680)\" d=\"M96.8715 1122.86 L113.191 1122.86 L113.191 1126.79 L91.2465 1126.79 L91.2465 1122.86 Q93.9086 1120.1 98.4919 1115.47 Q103.098 1110.82 104.279 1109.48 Q106.524 1106.96 107.404 1105.22 Q108.307 1103.46 108.307 1101.77 Q108.307 1099.02 106.362 1097.28 Q104.441 1095.54 101.339 1095.54 Q99.14 1095.54 96.6863 1096.31 Q94.2558 1097.07 91.478 1098.62 L91.478 1093.9 Q94.3021 1092.77 96.7558 1092.19 Q99.2095 1091.61 101.246 1091.61 Q106.617 1091.61 109.811 1094.29 Q113.006 1096.98 113.006 1101.47 Q113.006 1103.6 112.196 1105.52 Q111.408 1107.42 109.302 1110.01 Q108.723 1110.68 105.621 1113.9 Q102.52 1117.09 96.8715 1122.86 Z\" fill=\"#f8f8f2\" fill-rule=\"nonzero\" fill-opacity=\"1\" /><path clip-path=\"url(#clip680)\" d=\"M101.246 752.645 Q97.6354 752.645 95.8067 756.209 Q94.0012 759.751 94.0012 766.881 Q94.0012 773.987 95.8067 777.552 Q97.6354 781.094 101.246 781.094 Q104.881 781.094 106.686 777.552 Q108.515 773.987 108.515 766.881 Q108.515 759.751 106.686 756.209 Q104.881 752.645 101.246 752.645 M101.246 748.941 Q107.057 748.941 110.112 753.547 Q113.191 758.131 113.191 766.881 Q113.191 775.608 110.112 780.214 Q107.057 784.797 101.246 784.797 Q95.4363 784.797 92.3576 780.214 Q89.3021 775.608 89.3021 766.881 Q89.3021 758.131 92.3576 753.547 Q95.4363 748.941 101.246 748.941 Z\" fill=\"#f8f8f2\" fill-rule=\"nonzero\" fill-opacity=\"1\" /><path clip-path=\"url(#clip680)\" d=\"M96.8715 437.523 L113.191 437.523 L113.191 441.458 L91.2465 441.458 L91.2465 437.523 Q93.9086 434.769 98.4919 430.139 Q103.098 425.486 104.279 424.144 Q106.524 421.621 107.404 419.884 Q108.307 418.125 108.307 416.435 Q108.307 413.681 106.362 411.945 Q104.441 410.209 101.339 410.209 Q99.14 410.209 96.6863 410.972 Q94.2558 411.736 91.478 413.287 L91.478 408.565 Q94.3021 407.431 96.7558 406.852 Q99.2095 406.273 101.246 406.273 Q106.617 406.273 109.811 408.959 Q113.006 411.644 113.006 416.134 Q113.006 418.264 112.196 420.185 Q111.408 422.084 109.302 424.676 Q108.723 425.347 105.621 428.565 Q102.52 431.759 96.8715 437.523 Z\" fill=\"#f8f8f2\" fill-rule=\"nonzero\" fill-opacity=\"1\" /><path clip-path=\"url(#clip680)\" d=\"M103.608 68.3049 L91.8021 86.7539 L103.608 86.7539 L103.608 68.3049 M102.381 64.2309 L108.26 64.2309 L108.26 86.7539 L113.191 86.7539 L113.191 90.6427 L108.26 90.6427 L108.26 98.7909 L103.608 98.7909 L103.608 90.6427 L88.0058 90.6427 L88.0058 86.1289 L102.381 64.2309 Z\" fill=\"#f8f8f2\" fill-rule=\"nonzero\" fill-opacity=\"1\" /><g clip-path=\"url(#clip682)\">\n",
       "<image width=\"1964\" height=\"1439\" xlink:href=\"data:image/png;base64,\n",
       "iVBORw0KGgoAAAANSUhEUgAAB6wAAAWfCAYAAAAf3Aj/AAAgAElEQVR4nOzbXW5b1xmG0W/zR7YT\n",
       "Jw0QdEbMDOR0kNIQOKMAbeHAjiyR3L3oVQCjyE4jv/rotUbw4mDznEM+0igAAAAAAABetMO4nekN\n",
       "q47zfqQ3AC/fJj0AAAAAAAAAgK+TYA0AAAAAAABAhGANAAAAAAAAQIRgDQAAAAAAAECEYA0AAAAA\n",
       "AABAhGANAAAAAAAAQIRgDQAAAAAAAECEYA0AAAAAAABAhGANAAAAAAAAQIRgDQAAAAAAAECEYA0A\n",
       "AAAAAABAhGANAAAAAAAAQIRgDQAAAAAAAECEYA0AAAAAAABAhGANAAAAAAAAQIRgDQAAAAAAAECE\n",
       "YA0AAAAAAABAhGANAAAAAAAAQIRgDQAAAAAAAECEYA0AAAAAAABAhGANAAAAAAAAQIRgDQAAAAAA\n",
       "AECEYA0AAAAAAABAhGANAAAAAAAAQIRgDQAAAAAAAECEYA0AAAAAAABAhGANAAAAAAAAQIRgDQAA\n",
       "AAAAAECEYA0AAAAAAABAhGANAAAAAAAAQIRgDQAAAAAAAECEYA0AAAAAAABAhGANAAAAAAAAQIRg\n",
       "DQAAAAAAAEDESA8AAICX6jBuZ3rDiuO8934P8EJ0e4ZUeY7weR3Pcjc+e8+v4zl2LgD4mvgPawAA\n",
       "AAAAAAAiBGsAAAAAAAAAIgRrAAAAAAAAACIEawAAAAAAAAAiBGsAAAAAAAAAIgRrAAAAAAAAACIE\n",
       "awAAAAAAAAAiBGsAAAAAAAAAIgRrAAAAAAAAACIEawAAAAAAAAAiBGsAAAAAAAAAIgRrAAAAAAAA\n",
       "ACIEawAAAAAAAAAiBGsAAAAAAAAAIgRrAAAAAAAAACIEawAAAAAAAAAiBGsAAAAAAAAAIgRrAAAA\n",
       "AAAAACIEawAAAAAAAAAiBGsAAAAAAAAAIgRrAAAAAAAAACIEawAAAAAAAAAiBGsAAAAAAAAAIgRr\n",
       "AAAAAAAAACIEawAAAAAAAAAiBGsAAAAAAAAAIgRrAAAAAAAAACIEawAAAAAAAAAiBGsAAAAAAAAA\n",
       "IgRrAAAAAAAAACIEawAAAAAAAAAiBGsAAAAAAAAAIgRrAAAAAAAAACJGegAAAEAnh827md6w4ni5\n",
       "a/e97zBue13jed/uGvP8up3jtkavj1/He3JH3T5/HZ8jrjEA8FfyH9YAAAAAAAAARAjWAAAAAAAA\n",
       "AEQI1gAAAAAAAABECNYAAAAAAAAARAjWAAAAAAAAAEQI1gAAAAAAAABECNYAAAAAAAAARAjWAAAA\n",
       "AAAAAEQI1gAAAAAAAABECNYAAAAAAAAARAjWAAAAAAAAAEQI1gAAAAAAAABECNYAAAAAAAAARAjW\n",
       "AAAAAAAAAEQI1gAAAAAAAABECNYAAAAAAAAARAjWAAAAAAAAAEQI1gAAAAAAAABECNYAAAAAAAAA\n",
       "RAjWAAAAAAAAAEQI1gAAAAAAAABECNYAAAAAAAAARAjWAAAAAAAAAEQI1gAAAAAAAABECNYAAAAA\n",
       "AAAARAjWAAAAAAAAAEQI1gAAAAAAAABECNYAAAAAAAAARAjWAAAAAAAAAEQI1gAAAAAAAABECNYA\n",
       "AAAAAAAARAjWAAAAAAAAAEQI1gAAAAAAAABEjPQAAAB4qQ7jdqY3LBn9Xu9Hw81z9joWLXW7xg3P\n",
       "sc8en3O83PU7GM20e7eoquO8dy4AAHhW/sMaAAAAAAAAgAjBGgAAAAAAAIAIwRoAAAAAAACACMEa\n",
       "AAAAAAAAgAjBGgAAAAAAAIAIwRoAAAAAAACACMEaAAAAAAAAgAjBGgAAAAAAAIAIwRoAAAAAAACA\n",
       "CMEaAAAAAAAAgAjBGgAAAAAAAIAIwRoAAAAAAACACMEaAAAAAAAAgAjBGgAAAAAAAIAIwRoAAAAA\n",
       "AACACMEaAAAAAAAAgAjBGgAAAAAAAIAIwRoAAAAAAACACMEaAAAAAAAAgAjBGgAAAAAAAIAIwRoA\n",
       "AAAAAACACMEaAAAAAAAAgAjBGgAAAAAAAIAIwRoAAAAAAACACMEaAAAAAAAAgAjBGgAAAAAAAIAI\n",
       "wRoAAAAAAACACMEaAAAAAAAAgAjBGgAAAAAAAIAIwRoAAAAAAACACMEaAAAAAAAAgAjBGgAAAAAA\n",
       "AIAIwRoAAAAAAACACMEaAAAAAAAAgIhdegAAv3cYtzO9YcVx3o/0BvgrdPvs1ej30Tte7vqNbqbj\n",
       "NT5s3vX67DXU8Vz8tP251bmYs9VcvpDR8Fnd8Z7c8R7XTcdzUc3uy75XAwBfO/9hDQAAAAAAAECE\n",
       "YA0AAAAAAABAhGANAAAAAAAAQIRgDQAAAAAAAECEYA0AAAAAAABAhGANAAAAAAAAQIRgDQAAAAAA\n",
       "AECEYA0AAAAAAABAhGANAAAAAAAAQIRgDQAAAAAAAECEYA0AAAAAAABAhGANAAAAAAAAQIRgDQAA\n",
       "AAAAAECEYA0AAAAAAABAhGANAAAAAAAAQIRgDQAAAAAAAECEYA0AAAAAAABAhGANAAAAAAAAQIRg\n",
       "DQAAAAAAAECEYA0AAAAAAABAhGANAAAAAAAAQIRgDQAAAAAAAECEYA0AAAAAAABAhGANAAAAAAAA\n",
       "QIRgDQAAAAAAAECEYA0AAAAAAABAhGANAAAAAAAAQIRgDQAAAAAAAECEYA0AAAAAAABAhGANAAAA\n",
       "AAAAQIRgDQAAAAAAAECEYA0AAAAAAABAhGANAAAAAAAAQMRIDwAAeAkO43amNywZXuO+iNnsWGz8\n",
       "PeoX0e3z121vVdXlkl5w9Waz+1tHHe/J02fv+XX87HV8jnS8zs0c533DgwEAvFT9vj0BAAAAAAAA\n",
       "cBUEawAAAAAAAAAiBGsAAAAAAAAAIgRrAAAAAAAAACIEawAAAAAAAAAiBGsAAAAAAAAAIgRrAAAA\n",
       "AAAAACIEawAAAAAAAAAiBGsAAAAAAAAAIgRrAAAAAAAAACIEawAAAAAAAAAiBGsAAAAAAAAAIgRr\n",
       "AAAAAAAAACIEawAAAAAAAAAiBGsAAAAAAAAAIgRrAAAAAAAAACIEawAAAAAAAAAiBGsAAAAAAAAA\n",
       "IgRrAAAAAAAAACIEawAAAAAAAAAiBGsAAAAAAAAAIgRrAAAAAAAAACIEawAAAAAAAAAiBGsAAAAA\n",
       "AAAAIgRrAAAAAAAAACIEawAAAAAAAAAiBGsAAAAAAAAAIgRrAAAAAAAAACIEawAAAAAAAAAiBGsA\n",
       "AAAAAAAAIgRrAAAAAAAAACIEawAAAAAAAAAiBGsAAAAAAAAAIkZ6AADwvx3G7UxvWDa8Yjy72fBY\n",
       "bLfpCcvm5ZKesGRs+v096tju0hOWdTsXHY1Nr+fIPJ3SE9Zt+t2Tq7o9+3qd46qqmg3vbw3fibqZ\n",
       "rjFX4Hi5a3dT7vhbwHHet7rOrjHAy9HvFy0AAAAAAAAAroJgDQAAAAAAAECEYA0AAAAAAABAhGAN\n",
       "AAAAAAAAQIRgDQAAAAAAAECEYA0AAAAAAABAhGANAAAAAAAAQIRgDQAAAAAAAECEYA0AAAAAAABA\n",
       "hGANAAAAAAAAQIRgDQAAAAAAAECEYA0AAAAAAABAhGANAAAAAAAAQIRgDQAAAAAAAECEYA0AAAAA\n",
       "AABAhGANAAAAAAAAQIRgDQAAAAAAAECEYA0AAAAAAABAhGANAAAAAAAAQIRgDQAAAAAAAECEYA0A\n",
       "AAAAAABAhGANAAAAAAAAQIRgDQAAAAAAAECEYA0AAAAAAABAhGANAAAAAAAAQIRgDQAAAAAAAECE\n",
       "YA0AAAAAAABAhGANAAAAAAAAQIRgDQAAAAAAAECEYA0AAAAAAABAhGANAAAAAAAAQIRgDQAAAAAA\n",
       "AECEYA0AAAAAAABAxC49AOjjsHk30xtWHS93I71h1WHctrrOx3nf7xo3PMvdjNHuWNScvY7F2G7T\n",
       "E5Z13FzNzvLYNLzGDY1Nr3NRm35/pzxPp/SEJWPX76v1+OZNesKy+fCYnrBkns/pCetGv/tFdbzO\n",
       "zYyOz5HLJT0B/m8df29pp9n3vaqq6vXTBcAf1u+NEwAAAAAAAICrIFgDAAAAAAAAECFYAwAAAAAA\n",
       "ABAhWAMAAAAAAAAQIVgDAAAAAAAAECFYAwAAAAAAABAhWAMAAAAAAAAQIVgDAAAAAAAAECFYAwAA\n",
       "AAAAABAhWAMAAAAAAAAQIVgDAAAAAAAAECFYAwAAAAAAABAhWAMAAAAAAAAQIVgDAAAAAAAAECFY\n",
       "AwAAAAAAABAhWAMAAAAAAAAQIVgDAAAAAAAAECFYAwAAAAAAABAhWAMAAAAAAAAQIVgDAAAAAAAA\n",
       "ECFYAwAAAAAAABAhWAMAAAAAAAAQIVgDAAAAAAAAECFYAwAAAAAAABAhWAMAAAAAAAAQIVgDAAAA\n",
       "AAAAECFYAwAAAAAAABAhWAMAAAAAAAAQIVgDAAAAAAAAECFYAwAAAAAAABAhWAMAAAAAAAAQIVgD\n",
       "AAAAAAAAECFYAwAAAAAAABAhWAMAAAAAAAAQMdIDAJ7TYfNupjcsm70mH+e9Z8kza3mOeXZjt09P\n",
       "WDZGw9vFbptesKbZM6SqamybXeOqqm2zv/vtdyyqNr2u8Wi2t6rq8vCQnnD1Ot7f5umcnrBuXtIL\n",
       "FvV7H5qnU3rCn9Dr4TfPDT978BnHy12/mxzP7jBuW92U/dYJGf2+VQMAAAAAAABwFQRrAAAAAAAA\n",
       "ACIEawAAAAAAAAAiBGsAAAAAAAAAIgRrAAAAAAAAACIEawAAAAAAAAAiBGsAAAAAAAAAIgRrAAAA\n",
       "AAAAACIEawAAAAAAAAAiBGsAAAAAAAAAIgRrAAAAAAAAACIEawAAAAAAAAAiBGsAAAAAAAAAIgRr\n",
       "AAAAAAAAACIEawAAAAAAAAAiBGsAAAAAAAAAIgRrAAAAAAAAACIEawAAAAAAAAAiBGsAAAAAAAAA\n",
       "IgRrAAAAAAAAACIEawAAAAAAAAAiBGsAAAAAAAAAIgRrAAAAAAAAACIEawAAAAAAAAAiBGsAAAAA\n",
       "AAAAIgRrAAAAAAAAACIEawAAAAAAAAAiBGsAAAAAAAAAIgRrAAAAAAAAACIEawAAAAAAAAAiBGsA\n",
       "AAAAAAAAIgRrAAAAAAAAACIEawAAAAAAAAAiRnoAfM0O43amN1y747xvd59zLr6A0e5YtDN2u/SE\n",
       "ZWPT7O/4Ot4pts2ucUPj9av0hK/CuLlJT1jzdEovWHezTy9YMxvelDtuvlzSC9Y0fOecT0/pCctm\n",
       "t3vcqdneqqqG7/bV7CzPjueimdnxuddRs+vc8XfDjrr91ulcQIZfDQEAAAAAAACIEKwBAAAAAAAA\n",
       "iBCsAQAAAAAAAIgQrAEAAAAAAACIEKwBAAAAAAAAiBCsAQAAAAAAAIgQrAEAAAAAAACIEKwBAAAA\n",
       "AAAAiBCsAQAAAAAAAIgQrAEAAAAAAACIEKwBAAAAAAAAiBCsAQAAAAAAAIgQrAEAAAAAAACIEKwB\n",
       "AAAAAAAAiBCsAQAAAAAAAIgQrAEAAAAAAACIEKwBAAAAAAAAiBCsAQAAAAAAAIgQrAEAAAAAAACI\n",
       "EKwBAAAAAAAAiBCsAQAAAAAAAIgQrAEAAAAAAACIEKwBAAAAAAAAiBCsAQAAAAAAAIgQrAEAAAAA\n",
       "AACIEKwBAAAAAAAAiBCsAQAAAAAAAIgQrAEAAAAAAACIEKwBAAAAAAAAiBCsAQAAAAAAAIgQrAEA\n",
       "AAAAAACIEKwBAAAAAAAAiBCsAQAAAAAAAIgY6QFAH4dxO9MbVh3nfbv73E/bn1td5zlbzW1pjHbH\n",
       "uMZun56wbNw027xp+HeHu216wbpmt7jx3dv0hHWbfve4+vSYXrBm2+9+MX/4Lj1hyXj/IT1hXcfn\n",
       "yH6XXrDm6ZResO7UcHMz8/2v6Ql/Qr9n9Xxs9qwe/e7J8/SUnrDmfE4v+Cq0+42o297q+VsnwB/R\n",
       "720IAAAAAAAAgKsgWAMAAAAAAAAQIVgDAAAAAAAAECFYAwAAAAAAABAhWAMAAAAAAAAQIVgDAAAA\n",
       "AAAAECFYAwAAAAAAABAhWAMAAAAAAAAQIVgDAAAAAAAAECFYAwAAAAAAABAhWAMAAAAAAAAQIVgD\n",
       "AAAAAAAAECFYAwAAAAAAABAhWAMAAAAAAAAQIVgDAAAAAAAAECFYAwAAAAAAABAhWAMAAAAAAAAQ\n",
       "IVgDAAAAAAAAECFYAwAAAAAAABAhWAMAAAAAAAAQIVgDAAAAAAAAECFYAwAAAAAAABAhWAMAAAAA\n",
       "AAAQIVgDAAAAAAAAECFYAwAAAAAAABAhWAMAAAAAAAAQIVgDAAAAAAAAECFYAwAAAAAAABAhWAMA\n",
       "AAAAAAAQIVgDAAAAAAAAECFYAwAAAAAAABAhWAMAAAAAAAAQIVgDAAAAAAAAEDHSA+Brdhi3M71h\n",
       "xXHet7tnHDbvWl3jqqqavSaP/U16wrpm17ijcbNPT1g2dtv0hDW7XXrBsrHvdy7aXedts3NcVfXm\n",
       "VXrBsnnT7Fy0e4Orms3uyd32VlVtHp7SE9Y9ndMLlozLJT1hWbv7W1WNX/6VnnD15sOn9IR1zb7z\n",
       "zd9+S09YNptd42o2t6t5PqUnLDle7tq9KXf7Pbmqqkavy9zxXMA18B/WAAAAAAAAAEQI1gAAAAAA\n",
       "AABECNYAAAAAAAAARAjWAAAAAAAAAEQI1gAAAAAAAABECNYAAAAAAAAARAjWAAAAAAAAAEQI1gAA\n",
       "AAAAAABECNYAAAAAAAAARAjWAAAAAAAAAEQI1gAAAAAAAABECNYAAAAAAAAARAjWAAAAAAAAAEQI\n",
       "1gAAAAAAAABECNYAAAAAAAAARAjWAAAAAAAAAEQI1gAAAAAAAABECNYAAAAAAAAARAjWAAAAAAAA\n",
       "AEQI1gAAAAAAAABECNYAAAAAAAAARAjWAAAAAAAAAEQI1gAAAAAAAABECNYAAAAAAAAARAjWAAAA\n",
       "AAAAAEQI1gAAAAAAAABECNYAAAAAAAAARAjWAAAAAAAAAEQI1gAAAAAAAABECNYAAAAAAAAARAjW\n",
       "AAAAAAAAAEQI1gAAAAAAAABECNYAAAAAAAAARAjWAAAAAAAAAESM9AD4qxw272Z6w6rj5a7VZ/Aw\n",
       "bttd447GptffEs3Z71hsbm7SE5bM8yU9Ydnm2zfpCcvGbpeesKbZOa6qqlcNN+97nYvTj2/TE9Y1\n",
       "e+5VVZ1fb9MTlsxtq1fOqqp6+rbXNd5/PKcnLLs0PBf7X0/pCWv63d5q++EpPWHZ5uOn9IQ1j83O\n",
       "cVXPXw///T69YMl8aHaOq2qeez375qnX3qqqmv1+C+h2Llpq+Dvccd53fJIAX1jDr08AAAAAAAAA\n",
       "XAPBGgAAAAAAAIAIwRoAAAAAAACACMEaAAAAAAAAgAjBGgAAAAAAAIAIwRoAAAAAAACACMEaAAAA\n",
       "AAAAgAjBGgAAAAAAAIAIwRoAAAAAAACACMEaAAAAAAAAgAjBGgAAAAAAAIAIwRoAAAAAAACACMEa\n",
       "AAAAAAAAgAjBGgAAAAAAAIAIwRoAAAAAAACACMEaAAAAAAAAgAjBGgAAAAAAAIAIwRoAAAAAAACA\n",
       "CMEaAAAAAAAAgAjBGgAAAAAAAIAIwRoAAAAAAACACMEaAAAAAAAAgAjBGgAAAAAAAIAIwRoAAAAA\n",
       "AACACMEaAAAAAAAAgAjBGgAAAAAAAIAIwRoAAAAAAACACMEaAAAAAAAAgAjBGgAAAAAAAIAIwRoA\n",
       "AAAAAACACMEaAAAAAAAAgAjBGgAAAAAAAIAIwRoAAAAAAACAiF16ANDIGOkFvECb/U16wtXbvH6V\n",
       "nrBus00vWPfd2/SC63ezTy9Ydvqx17k4ve13jR+/73e/OO97vRP1WvtfT296rf70Q7+/Bd9/mOkJ\n",
       "y+au17kY537X+PH7fs+Rm/e9Nu/++TE9Ydn48JCesG7T7L68b/gT7ex1jxvjnJ6wrNklbmk0/K1z\n",
       "Ohh8xmHctjsYx3nf7wPIs2r29gYAAAAAAADAtRCsAQAAAAAAAIgQrAEAAAAAAACIEKwBAAAAAAAA\n",
       "iBCsAQAAAAAAAIgQrAEAAAAAAACIEKwBAAAAAAAAiBCsAQAAAAAAAIgQrAEAAAAAAACIEKwBAAAA\n",
       "AAAAiBCsAQAAAAAAAIgQrAEAAAAAAACIEKwBAAAAAAAAiBCsAQAAAAAAAIgQrAEAAAAAAACIEKwB\n",
       "AAAAAAAAiBCsAQAAAAAAAIgQrAEAAAAAAACIEKwBAAAAAAAAiBCsAQAAAAAAAIgQrAEAAAAAAACI\n",
       "EKwBAAAAAAAAiBCsAQAAAAAAAIgQrAEAAAAAAACIEKwBAAAAAAAAiBCsAQAAAAAAAIgQrAEAAAAA\n",
       "AACIEKwBAAAAAAAAiBCsAQAAAAAAAIgQrAEAAAAAAACIEKwBAAAAAAAAiBCsAQAAAAAAAIgQrAEA\n",
       "AAAAAACI2KUH8DIdxu1Mb1g2+03m+R0vdyO9YdVPu3/0OsztrnDVePM6PWHJuLlJT1g2T6f0hHXb\n",
       "Zn/Ht2m2t6ou379JT1j29Lden7+Pf+/3ev/ph34PkrlNL1gz+13iOr9KL1jU75Zcm8d+B2P/odeF\n",
       "7vjZ++aXS3rCsnOzd+W3H57SE9ade31Fraoam14fwPHbp/SEdd1+h9s1e4GrqvnxIT1h2dg0Oxfd\n",
       "znFV1eh1f6uqqmaXuWMbOc77hgcDfq/Xtz0AAAAAAAAAroZgDQAAAAAAAECEYA0AAAAAAABAhGAN\n",
       "AAAAAAAAQIRgDQAAAAAAAECEYA0AAAAAAABAhGANAAAAAAAAQIRgDQAAAAAAAECEYA0AAAAAAABA\n",
       "hGANAAAAAAAAQIRgDQAAAAAAAECEYA0AAAAAAABAhGANAAAAAAAAQIRgDQAAAAAAAECEYA0AAAAA\n",
       "AABAhGANAAAAAAAAQIRgDQAAAAAAAECEYA0AAAAAAABAhGANAAAAAAAAQIRgDQAAAP9h3152LLvP\n",
       "Mg5/ax9qV/Up7SR2YisKiCCFCUKZMmJQiDlqi3viEriEuC8AKTUHBiEDRBSESASykjh27E4f6rT3\n",
       "XotBGAVl8I/cfvsrP88VvFpap71+VQAAAECEYA0AAAAAAABAhGANAAAAAAAAQIRgDQAAAAAAAECE\n",
       "YA0AAAAAAABAhGANAAAAAAAAQIRgDQAAAAAAAECEYA0AAAAAAABAhGANAAAAAAAAQIRgDQAAAAAA\n",
       "AECEYA0AAAAAAABAhGANAAAAAAAAQIRgDQAAAAAAAECEYA0AAAAAAABAxJQeAJ+X8+nJkt5w5039\n",
       "bhnTyt/lvG7TepOeMGw62aYnDJlOd+kJ4x49TC8YNj+8l54wZL7f6zyuqppP1ukJw15+q9f1dzjr\n",
       "96y+eju9YNzS7PXi0Ov2VlVV+68e0hPG7Ob0gnFX/e7J2896bd6+Si8Yd/pJesG4k5e9PgVsXx7T\n",
       "E4adfXSdnjBs9eomPWHI9LzhDePVZXrBkPmy33lc1ev+VlVVx17vRMvS7xgvh316wrhmx/liedrv\n",
       "hzXcAc0+tQAAAAAAAABwVwjWAAAAAAAAAEQI1gAAAAAAAABECNYAAAAAAAAARAjWAAAAAAAAAEQI\n",
       "1gAAAAAAAABECNYAAAAAAAAARAjWAAAAAAAAAEQI1gAAAAAAAABECNYAAAAAAAAARAjWAAAAAAAA\n",
       "AEQI1gAAAAAAAABECNYAAAAAAAAARAjWAAAAAAAAAEQI1gAAAAAAAABECNYAAAAAAAAARAjWAAAA\n",
       "AAAAAEQI1gAAAAAAAABECNYAAAAAAAAARAjWAAAAAAAAAEQI1gAAAAAAAABECNYAAAAAAAAARAjW\n",
       "AAAAAAAAAEQI1gAAAAAAAABECNYAAAAAAAAARAjWAAAAAAAAAEQI1gAAAAAAAABECNYAAAAAAAAA\n",
       "RAjWAAAAAAAAAEQI1gAAAAAAAABECNYAAAAAAAAARAjWAAAAAAAAAEQI1gAAAAAAAABECNYAAAAA\n",
       "AAAARGzSA74szqcnS3rDXXexPJ3SG0Z1Oy+mqd0hrlpaHeLfWnX7W6KGx/hkm14wpuO119Bysk5P\n",
       "GHLc9dpbVXXz1ZP0hGFLs8vv6uvpBeOuvjmnJ4x7fJteMGSzO6YnDHt02usY7w/97snTV9ILxl3u\n",
       "ztIThuyvu73XVx2bvQ9VVU0f9npYby577a2qOtxr9vupqjbNfqaubw/pCeP2vTZPc793zuW61/tQ\n",
       "VVWtmt3jmp3HVT2/zy7Nvs+er97vNbiqLuYP+p0Y8Dv6/XoCAAAAAAAA4E4QrAEAAAAAAACIEKwB\n",
       "AAAAAAAAiBCsAQAAAAAAAIgQrAEAAAAAAACIEKwBAAAAAAAAiBCsAQAAAAAAAIgQrAEAAAAAAACI\n",
       "EKwBAAAAAAAAiBCsAQAAAAAAAIgQrAEAAAAAAACIEKwBAAAAAAAAiBCsAQAAAAAAAIgQrAEAAAAA\n",
       "AACIEKwBAAAAAAAAiBCsAQAAAAAAAIgQrAEAAAAAAACIEKwBAAAAAAAAiBCsAQAAAAAAAIgQrAEA\n",
       "AAAAAACIEKwBAAAAAAAAiBCsAQAAAAAAAIgQrAEAAAAAAACIEKwBAAAAAAAAiBCsAQAAAAAAAIgQ\n",
       "rAEAAAAAAACIEKwBAAAAAAAAiBCsAQAAAAAAAIgQrAEAAAAAAACIEKwBAAAAAAAAiBCsAQAAAAAA\n",
       "AIgQrAEAAAAAAACIEKwBAAAAAAAAiNikB3xZXCxPp/SGu+589f6S3sAbaLVOLxg2rXr9LdF0tktP\n",
       "GDZVs1vy2Wl6wbh1v2uvm2Xb615RVXX7oNm1V1Uv/rjX5qXfaVHLvWN6wrB33/lNesKQ7brfMX50\n",
       "cp2eMOQbpy/SE4Z9ePk4PWHY/PhZesKQ//zZu+kJww73+z1ILr/R61m9vu13jDt+Pty8vE1PGNPs\n",
       "O0BVVW16/ebr9q2lqqpOtukFw5abm/SEMYvPyV+Iqdez+mL+oNdg+D3OpyetbnINn9QAAAAAAAAA\n",
       "3AWCNQAAAAAAAAARgjUAAAAAAAAAEYI1AAAAAAAAABGCNQAAAAAAAAARgjUAAAAAAAAAEYI1AAAA\n",
       "AAAAABGCNQAAAAAAAAARgjUAAAAAAAAAEYI1AAAAAAAAABGCNQAAAAAAAAARgjUAAAAAAAAAEYI1\n",
       "AAAAAAAAABGCNQAAAAAAAAARgjUAAAAAAKMWkjkAACAASURBVAAAEYI1AAAAAAAAABGCNQAAAAAA\n",
       "AAARgjUAAAAAAAAAEYI1AAAAAAAAABGCNQAAAAAAAAARgjUAAAAAAAAAEYI1AAAAAAAAABGCNQAA\n",
       "AAAAAAARgjUAAAAAAAAAEYI1AAAAAAAAABGCNQAAAAAAAAARgjUAAAAAAAAAEYI1AAAAAAAAABGC\n",
       "NQAAAAAAAAARgjUAAAAAAAAAEYI1AAAAAAAAABGCNQAAAAAAAAARgjUAAAAAAAAAEdP59GRJjxh1\n",
       "sTyd0hvuuo7nRUtTr1N5ara3qqpW/f4uZ9ps0hOGTLtdesKw6WSbnjDm/r30gmHz4wfpCcOu372f\n",
       "njDk8p1e94qqqquv93uO3L6VXjDm9u1DesKwx+89T08Y9pfv/iw9Ych7u2fpCcM+un2UnjDke/f/\n",
       "Jz1h2Iv5ND1h2D89+056wpAff/yN9IRhL56fpSeM+/QkvWDIw//q9xv18U/7vV+sr47pCUN2H71M\n",
       "Txg2Xe/TE8ZcX6cXDFue9XtPXo69rr06zukFw+b9bXoCb6CL+YN+H1zgd/R7SwYAAAAAAADgThCs\n",
       "AQAAAAAAAIgQrAEAAAAAAACIEKwBAAAAAAAAiBCsAQAAAAAAAIgQrAEAAAAAAACIEKwBAAAAAAAA\n",
       "iBCsAQAAAAAAAIgQrAEAAAAAAACIEKwBAAAAAAAAiBCsAQAAAAAAAIgQrAEAAAAAAACIEKwBAAAA\n",
       "AAAAiBCsAQAAAAAAAIgQrAEAAAAAAACIEKwBAAAAAAAAiBCsAQAAAAAAAIgQrAEAAAAAAACIEKwB\n",
       "AAAAAAAAiBCsAQAAAAAAAIgQrAEAAAAAAACIEKwBAAAAAAAAiBCsAQAAAAAAAIgQrAEAAAAAAACI\n",
       "EKwBAAAAAAAAiBCsAQAAAAAAAIgQrAEAAAAAAACIEKwBAAAAAAAAiBCsAQAAAAAAAIgQrAEAAAAA\n",
       "AACIEKwBAAAAAAAAiBCsAQAAAAAAAIgQrAEAAAAAAACI2FwsT6f0CN48zosvxvn0/pLecOctDQ/x\n",
       "PKcXDFkOh/SEYdP9e+kJYya35C/C9kWvc3n62iY9YdjSb3Idd82eI7tjesGws+0+PWHYfl6nJww5\n",
       "f/Dv6QnDvnfS69m3nfrd4P7hN++lJwx7tLlOTxiyXfe7J7fU7F8x5pP0gnHHXa97clXV+iq9YMx8\n",
       "f5eeMGx9dZOeMOay1zOkqqo2vd45q6rqtte7/XLs9R2gqmpaNXvwVdXS7Ftny+/JcAf0u7sBAAAA\n",
       "AAAAcCcI1gAAAAAAAABECNYAAAAAAAAARAjWAAAAAAAAAEQI1gAAAAAAAABECNYAAAAAAAAARAjW\n",
       "AAAAAAAAAEQI1gAAAAAAAABECNYAAAAAAAAARAjWAAAAAAAAAEQI1gAAAAAAAABECNYAAAAAAAAA\n",
       "RAjWAAAAAAAAAEQI1gAAAAAAAABECNYAAAAAAAAARAjWAAAAAAAAAEQI1gAAAAAAAABECNYAAAAA\n",
       "AAAARAjWAAAAAAAAAEQI1gAAAAAAAABECNYAAAAAAAAARAjWAAAAAAAAAEQI1gAAAAAAAABECNYA\n",
       "AAAAAAAARAjWAAAAAAAAAEQI1gAAAAAAAABECNYAAAAAAAAARAjWAAAAAAAAAEQI1gAAAAAAAABE\n",
       "CNYAAAAAAAAARAjWAAAAAAAAAEQI1gAAAAAAAABECNYAAAAAAAAARAjWAAAAAAAAAERs0gPg83K+\n",
       "en9Jb+ANtHQ8Lab0gCG91v6f4zG9YMyq4VHe9PubuNuvbNMThhzO+p0Xc8M3z2WdXjBmWvd77r33\n",
       "4Hl6wrC//doP0xOGbKc5PWHYZ/M+PWHI2dTsZlFV3939Ij1h2Hvbz9IThuxWh/SEYf94+WfpCcPm\n",
       "6116wph+r3B1OO33br9d9zrQ077Zb9SqqqnXMa5twx8jt/3e4WrT7J1obnjtzQ3Pi5bfZ4EvWr83\n",
       "TgAAAAAAAADuBMEaAAAAAAAAgAjBGgAAAAAAAIAIwRoAAAAAAACACMEaAAAAAAAAgAjBGgAAAAAA\n",
       "AIAIwRoAAAAAAACACMEaAAAAAAAAgAjBGgAAAAAAAIAIwRoAAAAAAACACMEaAAAAAAAAgAjBGgAA\n",
       "AAAAAIAIwRoAAAAAAACACMEaAAAAAAAAgAjBGgAAAAAAAIAIwRoAAAAAAACACMEaAAAAAAAAgAjB\n",
       "GgAAAAAAAIAIwRoAAAAAAACACMEaAAAAAAAAgAjBGgAAAAAAAIAIwRoAAAAAAACACMEaAAAAAAAA\n",
       "gAjBGgAAAAAAAIAIwRoAAAAAAACACMEaAAAAAAAAgAjBGgAAAAAAAIAIwRoAAAAAAACACMEaAAAA\n",
       "AAAAgAjBGgAAAAAAAIAIwRoAAAAAAACACMEaAAAAAAAAgAjBGgAAAAAAAICIzfn0ZEmPGHWxPJ3S\n",
       "G+66judFLf0mT+t1esKYVbO91fAYV1Utc3rBmE3DY7zZpBeMmRr+fdmx3z25nYZvQ+ub9II/QLNT\n",
       "eb09picM28/9niM/vPzj9IQh3z39ZXrCsIfTz9MThvz4eC89YdiH+6+mJwz75xffSU8Y8vH1w/SE\n",
       "YQ1fL2re9npYz9t+R3maex3jjpZ1v998y8k2PWFIvyuvaur27aKqlsur9IQxDb8nd/w+2/I4N3Ne\n",
       "DXtOM7rk69fvbQgAAAAAAACAO0GwBgAAAAAAACBCsAYAAAAAAAAgQrAGAAAAAAAAIEKwBgAAAAAA\n",
       "ACBCsAYAAAAAAAAgQrAGAAAAAAAAIEKwBgAAAAAAACBCsAYAAAAAAAAgQrAGAAAAAAAAIEKwBgAA\n",
       "AAAAACBCsAYAAAAAAAAgQrAGAAAAAAAAIEKwBgAAAAAAACBCsAYAAAAAAAAgQrAGAAAAAAAAIEKw\n",
       "BgAAAAAAACBCsAYAAAAAAAAgQrAGAAAAAAAAIEKwBgAAAAAAACBCsAYAAAAAAAAgQrAGAAAAAAAA\n",
       "IEKwBgAAAAAAACBCsAYAAAAAAAAgQrAGAAAAAAAAIEKwBgAAAAAAACBCsAYAAAAAAAAgQrAGAAAA\n",
       "AAAAIEKwBgAAAAAAACBCsAYAAAAAAAAgQrAGAAAAAAAAIEKwBgAAAAAAACBCsAYAAAAAAAAgYnOx\n",
       "PJ3SI3jzdDwvzlfvL+kNw5Zek5fDPj1h2DS1O5Wr1uv0gjFTw799muf0gjGrfufxfLZNTxi2NLv0\n",
       "Vre9niFVVcu64bl82ut+0fAQ18nqkJ4w7JP9w/SEIUv1OzH+dPur9IQhh24Pkap6tL5KTxj2V49+\n",
       "kp4w5O8/+pv0hGE3z07TE4ZNZ72e1avbfr+fpl6HuKqqDvd73ZdPP+r3PjRd3aQnjFn1u/bafbuo\n",
       "qur4Ha6b+ZheMK7ZN/CObQTugoZPagAAAAAAAADuAsEaAAAAAAAAgAjBGgAAAAAAAIAIwRoAAAAA\n",
       "AACACMEaAAAAAAAAgAjBGgAAAAAAAIAIwRoAAAAAAACACMEaAAAAAAAAgAjBGgAAAAAAAIAIwRoA\n",
       "AAAAAACACMEaAAAAAAAAgAjBGgAAAAAAAIAIwRoAAAAAAACACMEaAAAAAAAAgAjBGgAAAAAAAIAI\n",
       "wRoAAAAAAACACMEaAAAAAAAAgAjBGgAAAAAAAIAIwRoAAAAAAACACMEaAAAAAAAAgAjBGgAAAAAA\n",
       "AIAIwRoAAAAAAACACMEaAAAAAAAAgAjBGgAAAAAAAIAIwRoAAAAAAACACMEaAAAAAAAAgAjBGgAA\n",
       "AAAAAIAIwRoAAAAAAACACMEaAAAAAAAAgAjBGgAAAAAAAIAIwRoAAAAAAACACMEaAAAAAAAAgAjB\n",
       "GgAAAAAAAIAIwRoAAAAAAACAiE16wJfF+fRkSW8YcbE8ndIbhi2tDnFVVfVb3FHDo3w8phcMWfb7\n",
       "9IRh072z9IQxN7fpBcM2v36ZnjBst36YnjBk/2CdnjBs91l6wbjrt3v9fef+cpueMOwnn7yTnjDs\n",
       "wTdv0hOG/PrmfnrCsH/Z/El6wpB/e/Wt9IRh+7nfc+T5YZeeMGS3OaQnDJvW/X4/bX/V69m36vdq\n",
       "X6t9w/PiebPrr98h7ue238W3NPwWUPOcXjBm1e99aDn0+w5XU6/UcF69Wg5fjJbNrJleX+AAAAAA\n",
       "AAAAuDMEawAAAAAAAAAiBGsAAAAAAAAAIgRrAAAAAAAAACIEawAAAAAAAAAiBGsAAAAAAAAAIgRr\n",
       "AAAAAAAAACIEawAAAAAAAAAiBGsAAAAAAAAAIgRrAAAAAAAAACIEawAAAAAAAAAiBGsAAAAAAAAA\n",
       "IgRrAAAAAAAAACIEawAAAAAAAAAiBGsAAAAAAAAAIgRrAAAAAAAAACIEawAAAAAAAAAiBGsAAAAA\n",
       "AAAAIgRrAAAAAAAAACIEawAAAAAAAAAiBGsAAAAAAAAAIgRrAAAAAAAAACIEawAAAAAAAAAiBGsA\n",
       "AAAAAAAAIgRrAAAAAAAAACIEawAAAAAAAAAiBGsAAAAAAAAAIgRrAAAAAAAAACIEawAAAAAAAAAi\n",
       "BGsAAAAAAAAAIgRrAAAAAAAAACIEawAAAAAAAAAiBGsAAAAAAAAAIjbpAbyZzqcnS3rDsGlKLxg2\n",
       "NdzczTLP6QnDpk2vW3PLs7jbebFq+Pdlc8PHyKHXebF7dkhPGHY47XV/q6paXza7y83b9IJhL+te\n",
       "esKw/zh9Jz1hyHrqdX+rqnp2++fpCUMenVynJwy7ndfpCcP+9b+/nZ4w5HjZ77k3vep3XmxepheM\n",
       "We/TC8atDv3e7TdXvd6Vp+vb9IRx+2Yn87rf/a2lZt+06rbftdfxe/IPjt/vNxr4wjX8Ag4AAAAA\n",
       "AADAXSBYAwAAAAAAABAhWAMAAAAAAAAQIVgDAAAAAAAAECFYAwAAAAAAABAhWAMAAAAAAAAQIVgD\n",
       "AAAAAAAAECFYAwAAAAAAABAhWAMAAAAAAAAQIVgDAAAAAAAAECFYAwAAAAAAABAhWAMAAAAAAAAQ\n",
       "IVgDAAAAAAAAECFYAwAAAAAAABAhWAMAAAAAAAAQIVgDAAAAAAAAECFYAwAAAAAAABAhWAMAAAAA\n",
       "AAAQIVgDAAAAAAAAECFYAwAAAAAAABAhWAMAAAAAAAAQIVgDAAAAAAAAECFYAwAAAAAAABAhWAMA\n",
       "AAAAAAAQIVgDAAAAAAAAECFYAwAAAAAAABAhWAMAAAAAAAAQIVgDAAAAAAAAECFYAwAAAAAAABAh\n",
       "WAMAAAAAAAAQIVgDAAAAAAAAECFYAwAAAAAAABAhWAMAAAAAAAAQMaUH8GY6n54s6Q3DJqcz/9+0\n",
       "3qQn/AGaXX5Tv799Wp2dpicMmR49SE8Yd3KSXjBs/+7j9IQh8+k6PWHYy/f6nRc3b/V6v9jfSy8Y\n",
       "d/12s+deVS0nvTZPb92kJwz7iz/6MD1hyI9++u30hGEn9/bpCcNun+/SE4ZML/o9q3ef9nu3Xze7\n",
       "xd3/ea9nSFXVvY8P6QnDTn59nZ4wZP2by/SEcZe9jnFdN9tbVct1sxtcVS23vd4vlvmYnjBuntML\n",
       "hi0NN/P6XSxPe31w4bXr90sEAAAAAAAAgDtBsAYAAAAAAAAgQrAGAAAAAAAAIEKwBgAAAAAAACBC\n",
       "sAYAAAAAAAAgQrAGAAAAAAAAIEKwBgAAAAAAACBCsAYAAAAAAAAgQrAGAAAAAAAAIEKwBgAAAAAA\n",
       "ACBCsAYAAAAAAAAgQrAGAAAAAAAAIEKwBgAAAAAAACBCsAYAAAAAAAAgQrAGAAAAAAAAIEKwBgAA\n",
       "AAAAACBCsAYAAAAAAAAgQrAGAAAAAAAAIEKwBgAAAAAAACBCsAYAAAAAAAAgQrAGAAAAAAAAIEKw\n",
       "BgAAAAAAACBCsAYAAAAAAAAgQrAGAAAAAAAAIEKwBgAAAAAAACBCsAYAAAAAAAAgQrAGAAAAAAAA\n",
       "IEKwBgAAAAAAACBCsAYAAAAAAAAgQrAGAAAAAAAAIEKwBgAAAAAAACBCsAYAAAAAAAAgQrAGAAAA\n",
       "AAAAIGKTHvBlcT49WdIbRlwsT6f0hmGtjvBvdTsvWlrm9II7b9qs0xPGTc1ucdc36QXjVv3Oi82z\n",
       "q/SEIfP9k/SEYfd/0ezaq6rVodfr8vpRv79HXd/0Oy9u3+q1eX55lp4w7EfHb6cnDJmeb9MThs2/\n",
       "7Pcc2V31uvaO9/r93Nt9ml4w7v4ve/3mW+/7nRcnn/b7PbK63qcnjHnV67dIVdXy8lV6wphVv/fk\n",
       "5djr/lZVtSzN7nGzY/yFaPYd7mL+oNdg+D269ad+T2oAAAAAAAAA7gTBGgAAAAAAAIAIwRoAAAAA\n",
       "AACACMEaAAAAAAAAgAjBGgAAAAAAAIAIwRoAAAAAAACACMEaAAAAAAAAgAjBGgAAAAAAAIAIwRoA\n",
       "AAAAAACACMEaAAAAAAAAgAjBGgAAAAAAAIAIwRoAAAAAAACACMEaAAAAAAAAgAjBGgAAAAAAAIAI\n",
       "wRoAAAAAAACACMEaAAAAAAAAgAjBGgAAAAAAAIAIwRoAAAAAAACACMEaAAAAAAAAgAjBGgAAAAAA\n",
       "AIAIwRoAAAAAAACACMEaAAAAAAAAgAjBGgAAAAAAAIAIwRoAAAAAAACACMEaAAAAAAAAgAjBGgAA\n",
       "AAAAAIAIwRoAAAAAAACACMEaAAAAAAAAgAjBGgAAAAAAAIAIwRoAAAAAAACACMEaAAAAAAAAgAjB\n",
       "GgAAAAAAAIAIwRoAAAAAAACACMEaAAAAAAAAgIgpPQA+L+fTkyW9YdS06vU3Iz84fr/dPeOvN3/X\n",
       "7ryo1Tq9YMx8TC8YNp3s0hOGTLttesKw6d699IRxu5P0giHz4wfpCcPm3SY9YdjhQa/r7/KdXnur\n",
       "qo69bslVVXXzVq9Xopu30gvGra/SC8as+r0OVfV7S66TF+kFY7Yv+x3kaU4vGHf66SE9Ycjpx81u\n",
       "cFU13fa7yU3PX6UnjNn3Oo+rqurqOr1gyLLfpycMW25v0xOGLcdeD5Ll2PDaW/q9X3RzsTzt9YOv\n",
       "eraRjseZ16tXLQMAAAAAAADgzhCsAQAAAAAAAIgQrAEAAAAAAACIEKwBAAAAAAAAiBCsAQAAAAAA\n",
       "AIgQrAEAAAAAAACIEKwBAAAAAAAAiBCsAQAAAAAAAIgQrAEAAAAAAACIEKwBAAAAAAAAiBCsAQAA\n",
       "AAAAAIgQrAEAAAAAAACIEKwBAAAAAAAAiBCsAQAAAAAAAIgQrAEAAAAAAACIEKwBAAAAAAAAiBCs\n",
       "AQAAAAAAAIgQrAEAAAAAAACIEKwBAAAAAAAAiBCsAQAAAAAAAIgQrAEAAAAAAACIEKwBAAAAAAAA\n",
       "iBCsAQAAAAAAAIgQrAEAAAAAAACIEKwBAAAAAAAAiBCsAQAAAAAAAIgQrAEAAAAAAACIEKwBAAAA\n",
       "AAAAiBCsAQAAAAAAAIgQrAEAAAAAAACIEKwBAAAAAAAAiBCsAQAAAAAAAIgQrAEAAAAAAACImNID\n",
       "4PNyPj1Z0huGTc0uwaXfIW53jKtqWvlbotdtOtmlJwyZNuv0hGHT7iQ9YdzDB+kFYxre35azXtde\n",
       "VdXhrXvpCUP2DzfpCcOOu37PvaXZ5Xe47xi/boezZoOran3b791+dZteMObkxTE9Ydjmek5PGHby\n",
       "yVV6wpDVVbMTuapq7nde1Kte50Xd3KQXDFtue53Ly6HfPXm5vk5P4A20dPw+23FzMxfL034/SOB3\n",
       "9PtyAQAAAAAAAMCdIFgDAAAAAAAAECFYAwAAAAAAABAhWAMAAAAAAAAQIVgDAAAAAAAAECFYAwAA\n",
       "AAAAABAhWAMAAAAAAAAQIVgDAAAAAAAAECFYAwAAAAAAABAhWAMAAAAAAAAQIVgDAAAAAAAAECFY\n",
       "AwAAAAAAABAhWAMAAAAAAAAQIVgDAAAAAAAAECFYAwAAAAAAABAhWAMAAAD/27695UaSXQcUvZF8\n",
       "dLdkQJNKz4DlQXZxBso5SdYD3VVkZuhHP7IbMEIwa9ch1xrBwcWNG4+dCQAAAAnBGgAAAAAAAICE\n",
       "YA0AAAAAAABAQrAGAAAAAAAAICFYAwAAAAAAAJAQrAEAAAAAAABICNYAAAAAAAAAJARrAAAAAAAA\n",
       "ABKCNQAAAAAAAAAJwRoAAAAAAACAhGANAAAAAAAAQEKwBgAAAAAAACAhWAMAAAAAAACQEKwBAAAA\n",
       "AAAASAjWAAAAAAAAACQEawAAAAAAAAASgjUAAAAAAAAACcEaAAAAAAAAgMRWDwAf2Xl72usZjrjs\n",
       "z86Mb+B8+jRqX2zbwG0xbObthx/qEY7bR23jtdZa248/1iMcsj0+1CMc99OsNV5rrf33P9UjHHL7\n",
       "3WM9wnGnWWfyWmu9/u6+HuGQr3+Yd148/uW1HuHd2+/nXXvrVg9wzOOffq1HOG7gM9y6zZr59N9/\n",
       "r0c47uWlnuC4r7Nm3n+Zd17sL7Pu1fv1Wo/wb5h1vq211v46a1+MNPFePczEb+DTOsNaM9eZt+Uf\n",
       "1gAAAAAAAAAkBGsAAAAAAAAAEoI1AAAAAAAAAAnBGgAAAAAAAICEYA0AAAAAAABAQrAGAAAAAAAA\n",
       "ICFYAwAAAAAAAJAQrAEAAAAAAABICNYAAAAAAAAAJARrAAAAAAAAABKCNQAAAAAAAAAJwRoAAAAA\n",
       "AACAhGANAAAAAAAAQEKwBgAAAAAAACAhWAMAAAAAAACQEKwBAAAAAAAASAjWAAAAAAAAACQEawAA\n",
       "AAAAAAASgjUAAAAAAAAACcEaAAAAAAAAgIRgDQAAAAAAAEBCsAYAAAAAAAAgIVgDAAAAAAAAkBCs\n",
       "AQAAAAAAAEgI1gAAAAAAAAAkBGsAAAAAAAAAEoI1AAAAAAAAAAnBGgAAAAAAAICEYA0AAAAAAABA\n",
       "QrAGAAAAAAAAICFYAwAAAAAAAJAQrAEAAAAAAABICNYAAAAAAAAAJO7rAYA5ztvTXs/wIeyzlnnW\n",
       "tP80bI3Xy0s9wWHb/UM9wnH7rZ7gmNfXeoLjXubNvP3ypR7hkLuv886L/X7eK8nD11ln3MOfZ+3j\n",
       "tdZaWz3AMdvrsHvIWuv6H4/1CIfd/WXWXt5+/VqPcNw27OJba60vs/bFmnivnrbGa417Ud0HPiev\n",
       "27B73+1aT/AhbMPuI/u070Nrre007z+If7z+PGtjAIl5pxsAAAAAAAAA74JgDQAAAAAAAEBCsAYA\n",
       "AAAAAAAgIVgDAAAAAAAAkBCsAQAAAAAAAEgI1gAAAAAAAAAkBGsAAAAAAAAAEoI1AAAAAAAAAAnB\n",
       "GgAAAAAAAICEYA0AAAAAAABAQrAGAAAAAAAAICFYAwAAAAAAAJAQrAEAAAAAAABICNYAAAAAAAAA\n",
       "JARrAAAAAAAAABKCNQAAAAAAAAAJwRoAAAAAAACAhGANAAAAAAAAQEKwBgAAAAAAACAhWAMAAAAA\n",
       "AACQEKwBAAAAAAAASAjWAAAAAAAAACQEawAAAAAAAAASgjUAAAAAAAAACcEaAAAAAAAAgIRgDQAA\n",
       "AAAAAEBCsAYAAAAAAAAgIVgDAAAAAAAAkBCsAQAAAAAAAEgI1gAAAAAAAAAkBGsAAAAAAAAAEoI1\n",
       "AAAAAAAAAAnBGgAAAAAAAICEYA0AAAAAAABAYqsHAOBfnU+f9noGvi/bad7vy7aHh3qEw/bXaz3C\n",
       "IRPX+PT7n+oRjpt2/d3d1RMcN3FfDDsv1uO882J/vK9HOGT7+lqPcNzLwJlPwz5hfHmpJzjudqsn\n",
       "OO5l1jrvv36pRzhsfx14Xlxn7eX9OnCNt1nPySPXePd5iPfhsj+Peog7b0/jLr5pawy/ZdaTBQAA\n",
       "AAAAAADvhmANAAAAAAAAQEKwBgAAAAAAACAhWAMAAAAAAACQEKwBAAAAAAAASAjWAAAAAAAAACQE\n",
       "awAAAAAAAAASgjUAAAAAAAAACcEaAAAAAAAAgIRgDQAAAAAAAEBCsAYAAAAAAAAgIVgDAAAAAAAA\n",
       "kBCsAQAAAAAAAEgI1gAAAAAAAAAkBGsAAAAAAAAAEoI1AAAAAAAAAAnBGgAAAAAAAICEYA0AAAAA\n",
       "AABAQrAGAAAAAAAAICFYAwAAAAAAAJAQrAEAAAAAAABICNYAAAAAAAAAJARrAAAAAAAAABKCNQAA\n",
       "AAAAAAAJwRoAAAAAAACAhGANAAAAAAAAQEKwBgAAAAAAACAhWAMAAAAAAACQEKwBAAAAAAAASAjW\n",
       "AAAAAAAAACQEawAAAAAAAAASgjUAAAAAAAAACcEaAAAAAAAAgMRWDwDwls6nT3s9w2H7vJHH2Wbd\n",
       "/rZh8661xq3xWmttj4/1CIdsp3m/O5x4uk3bydsPP9QjHPfjwJlfXuoJjhm4xvtf/1aPcMj28FCP\n",
       "cNzEma/XeoJjBj7X79POt7XG7YvbL1/qET6G26x9sSY+27++1iMcM/BMHmngt4BxBu7ly/5sYwD/\n",
       "p3lPQwAAAAAAAAC8C4I1AAAAAAAAAAnBGgAAAAAAAICEYA0AAAAAAABAQrAGAAAAAAAAICFYAwAA\n",
       "AAAAAJAQrAEAAAAAAABICNYAAAAAAAAAJARrAAAAAAAAABKCNQAAAAAAAAAJwRoAAAAAAACAhGAN\n",
       "AAAAAAAAQEKwBgAAAAAAACAhWAMAAAAAAACQEKwBAAAAAAAASAjWAAAAAAAAACQEawAAAAAAAAAS\n",
       "gjUAAAAAAAAACcEaAAAAAAAAgIRgDQAAAAAAAEBCsAYAAAAAAAAgIVgDAAAAAAAAkBCsAQAAAAAA\n",
       "AEgI1gAAAAAAAAAkBGsAAAAAAAAAEoI1AAAAAAAAAAnBGgAAAAAAAICEYA0AAAAAAABAQrAGAAAA\n",
       "AAAAICFYAwAAAAAAAJAQrAEAAAAAAABICNYAAAAAAAAAJARrAAAAAAAAABJbPQAAs51Pn/Z6Br4/\n",
       "2+YR463t+7xL7/TwWI9w3N2w33dOvPau13qCw7bHYXv54b6e4LjbsDPu9bWe4LjTwPNi2hm3DbuH\n",
       "rLX2X7/UIxw3bF/sry/1CIdtE/fydda5vN9u9QiHbadZ+2If+Mw57Xxba63L7fOooc/b07CHzrUu\n",
       "+/OoNV5r3jpPXGN4D2Y9WQAAAAAAAADwbgjWAAAAAAAAACQEawAAAAAAAAASgjUAAAAAAAAACcEa\n",
       "AAAAAAAAgIRgDQAAAAAAAEBCsAYA3HTUkwAADZhJREFUAAAAAAAgIVgDAAAAAAAAkBCsAQAAAAAA\n",
       "AEgI1gAAAAAAAAAkBGsAAAAAAAAAEoI1AAAAAAAAAAnBGgAAAAAAAICEYA0AAAAAAABAQrAGAAAA\n",
       "AAAAICFYAwAAAAAAAJAQrAEAAAAAAABICNYAAAAAAAAAJARrAAAAAAAAABKCNQAAAAAAAAAJwRoA\n",
       "AAAAAACAhGANAAAAAAAAQEKwBgAAAAAAACAhWAMAAAAAAACQEKwBAAAAAAAASAjWAAAAAAAAACQE\n",
       "awAAAAAAAAASgjUAAAAAAAAACcEaAAAAAAAAgIRgDQAAAAAAAEBCsAYAAAAAAAAgIVgDAAAAAAAA\n",
       "kBCsAQAAAAAAAEhs9QAA/Kvz9rTXMxxx2Z/dS97Yf97916g9MdW+W+a3tm0Dj4tpM5/u6gmOG3jt\n",
       "bffD1vlu2LxrrXW91hPwPbrd6gkO2Qfu4+3xsR7hsP31tR7hmGH7eK219oEzT3vu9C7Cb7ncPs/a\n",
       "yMs3LQD+ff5hDQAAAAAAAEBCsAYAAAAAAAAgIVgDAAAAAAAAkBCsAQAAAAAAAEgI1gAAAAAAAAAk\n",
       "BGsAAAAAAAAAEoI1AAAAAAAAAAnBGgAAAAAAAICEYA0AAAAAAABAQrAGAAAAAAAAICFYAwAAAAAA\n",
       "AJAQrAEAAAAAAABICNYAAAAAAAAAJARrAAAAAAAAABKCNQAAAAAAAAAJwRoAAAAAAACAhGANAAAA\n",
       "AAAAQEKwBgAAAAAAACAhWAMAAAAAAACQEKwBAAAAAAAASAjWAAAAAAAAACQEawAAAAAAAAASgjUA\n",
       "AAAAAAAACcEaAAAAAAAAgIRgDQAAAAAAAEBCsAYAAAAAAAAgIVgDAAAAAAAAkBCsAQAAAAAAAEgI\n",
       "1gAAAAAAAAAkBGsAAAAAAAAAEoI1AAAAAAAAAAnBGgAAAAAAAICEYA0AAAAAAABAQrAGAAAAAAAA\n",
       "ILHVAwAw23l72usZjrrsz+5/b2zivphmO/nd4Tdxd19PcMztWk9w3O64eHMTz4tp+2IbuMYjDdsX\n",
       "E0279tZa++1Wj3DINu3ZYq2Rzxd/vP7sne+NnU+f5h0Yw1xun+1jAD4Mb9UAAAAAAAAAJARrAAAA\n",
       "AAAAABKCNQAAAAAAAAAJwRoAAAAAAACAhGANAAAAAAAAQEKwBgAAAAAAACAhWAMAAAAAAACQEKwB\n",
       "AAAAAAAASAjWAAAAAAAAACQEawAAAAAAAAASgjUAAAAAAAAACcEaAAAAAAAAgIRgDQAAAAAAAEBC\n",
       "sAYAAAAAAAAgIVgDAAAAAAAAkBCsAQAAAAAAAEgI1gAAAAAAAAAkBGsAAAAAAAAAEoI1AAAAAAAA\n",
       "AAnBGgAAAAAAAICEYA0AAAAAAABAQrAGAAAAAAAAICFYAwAAAAAAAJAQrAEAAAAAAABICNYAAAAA\n",
       "AAAAJARrAAAAAAAAABKCNQAAAAAAAAAJwRoAAAAAAACAhGANAAAAAAAAQEKwBgAAAAAAACAhWAMA\n",
       "AAAAAACQEKwBAAAAAAAASAjWAAAAAAAAACTu6wGAOc7b017PcNRlf97qGYAhtlnHxb6PO5Jnevla\n",
       "T3DIdvJ7VH7DxPNi3My3eoCPYdi+mHivdh/5Bm7XeoLDJu7l8+nTqKEvt8+zXkbWGncmT/w+5Dsc\n",
       "AB+JNxEAAAAAAAAAEoI1AAAAAAAAAAnBGgAAAAAAAICEYA0AAAAAAABAQrAGAAAAAAAAICFYAwAA\n",
       "AAAAAJAQrAEAAAAAAABICNYAAAAAAAAAJARrAAAAAAAAABKCNQAAAAAAAAAJwRoAAAAAAACAhGAN\n",
       "AAAAAAAAQEKwBgAAAAAAACAhWAMAAAAAAACQEKwBAAAAAAAASAjWAAAAAAAAACQEawAAAAAAAAAS\n",
       "gjUAAAAAAAAACcEaAAAAAAAAgIRgDQAAAAAAAEBCsAYAAAAAAAAgIVgDAAAAAAAAkBCsAQAAAAAA\n",
       "AEgI1gAAAAAAAAAkBGsAAAAAAAAAEoI1AAAAAAAAAAnBGgAAAAAAAICEYA0AAAAAAABAQrAGAAAA\n",
       "AAAAICFYAwAAAAAAAJAQrAEAAAAAAABICNYAAAAAAAAAJARrAAAAAAAAABJbPQAAfGvn7WmvZzji\n",
       "sj+Pu19PW+O1Zq4zb+98+jRuL4+zD1zibdZxsZ3m/U55v17rEY4ZtifWWmsbOPM+8byYZuAae4bj\n",
       "t4x7Hxl4Jk87L5wVAPB9m/flAgAAAAAAAIB3QbAGAAAAAAAAICFYAwAAAAAAAJAQrAEAAAAAAABI\n",
       "CNYAAAAAAAAAJARrAAAAAAAAABKCNQAAAAAAAAAJwRoAAAAAAACAhGANAAAAAAAAQEKwBgAAAAAA\n",
       "ACAhWAMAAAAAAACQEKwBAAAAAAAASAjWAAAAAAAAACQEawAAAAAAAAASgjUAAAAAAAAACcEaAAAA\n",
       "AAAAgIRgDQAAAAAAAEBCsAYAAAAAAAAgIVgDAAAAAAAAkBCsAQAAAAAAAEgI1gAAAAAAAAAkBGsA\n",
       "AAAAAAAAEoI1AAAAAAAAAAnBGgAAAAAAAICEYA0AAAAAAABAQrAGAAAAAAAAICFYAwAAAAAAAJAQ\n",
       "rAEAAAAAAABICNYAAAAAAAAAJARrAAAAAAAAABKCNQAAAAAAAAAJwRoAAAAAAACAhGANAAAAAAAA\n",
       "QGKrBwCAb+28Pe31DEdc9mf362/AvuA9mLaP11prbQO38j5smQeu8TZs5v12q0c4btgaT3S5fbbI\n",
       "/C8T79WeOwEAeGv+YQ0AAAAAAABAQrAGAAAAAAAAICFYAwAAAAAAAJAQrAEAAAAAAABICNYAAAAA\n",
       "AAAAJARrAAAAAAAAABKCNQAAAAAAAAAJwRoAAAAAAACAhGANAAAAAAAAQEKwBgAAAAAAACAhWAMA\n",
       "AAAAAACQEKwBAAAAAAAASAjWAAAAAAAAACQEawAAAAAAAAASgjUAAAAAAAAACcEaAAAAAAAAgIRg\n",
       "DQAAAAAAAEBCsAYAAAAAAAAgIVgDAAAAAAAAkBCsAQAAAAAAAEgI1gAAAAAAAAAkBGsAAAAAAAAA\n",
       "EoI1AAAAAAAAAAnBGgAAAAAAAICEYA0AAAAAAABAQrAGAAAAAAAAICFYAwAAAAAAAJAQrAEAAAAA\n",
       "AABICNYAAAAAAAAAJARrAAAAAAAAABKCNQAAAAAAAAAJwRoAAAAAAACAhGANAAAAAAAAQEKwBgAA\n",
       "AAAAACCx1QMAAAD/P87b017PcNRlfx73TnI+fRq1zpfb53lrPGwvj9zHw9Z4rXnrPO2sWGuttc8b\n",
       "eZpp+3gt5wUAAG/PP6wBAAAAAAAASAjWAAAAAAAAACQEawAAAAAAAAASgjUAAAAAAAAACcEaAAAA\n",
       "AAAAgIRgDQAAAAAAAEBCsAYAAAAAAAAgIVgDAAAAAAAAkBCsAQAAAAAAAEgI1gAAAAAAAAAkBGsA\n",
       "AAAAAAAAEoI1AAAAAAAAAAnBGgAAAAAAAICEYA0AAAAAAABAQrAGAAAAAAAAICFYAwAAAAAAAJAQ\n",
       "rAEAAAAAAABICNYAAAAAAAAAJARrAAAAAAAAABKCNQAAAAAAAAAJwRoAAAAAAACAhGANAAAAAAAA\n",
       "QEKwBgAAAAAAACAhWAMAAAAAAACQEKwBAAAAAAAASAjWAAAAAAAAACQEawAAAAAAAAASgjUAAAAA\n",
       "AAAACcEaAAAAAAAAgIRgDQAAAAAAAEBCsAYAAAAAAAAgIVgDAAAAAAAAkBCsAQAAAAAAAEhs9QAA\n",
       "AMDHdd6e9nqGwzavUfwP+7xtfNmfbWQITLzvOS8AAHhr/mENAAAAAAAAQEKwBgAAAAAAACAhWAMA\n",
       "AAAAAACQEKwBAAAAAAAASAjWAAAAAAAAACQEawAAAAAAAAASgjUAAAAAAAAACcEaAAAAAAAAgIRg\n",
       "DQAAAAAAAEBCsAYAAAAAAAAgIVgDAAAAAAAAkBCsAQAAAAAAAEgI1gAAAAAAAAAkBGsAAAAAAAAA\n",
       "EoI1AAAAAAAAAAnBGgAAAAAAAICEYA0AAAAAAABAQrAGAAAAAAAAICFYAwAAAAAAAJAQrAEAAAAA\n",
       "AABICNYAAAAAAAAAJARrAAAAAAAAABKCNQAAAAAAAAAJwRoAAAAAAACAhGANAAAAAAAAQEKwBgAA\n",
       "AAAAACAhWAMAAAAAAACQEKwBAAAAAAAASAjWAAAAAAAAACQEawAAAAAAAAASgjUAAAAAAAAACcEa\n",
       "AAAAAAAAgIRgDQAAAAAAAEBiqwcAAIDv1Xl72usZjrjsz57veRdcewAAAPBx+Ic1AAAAAAAAAAnB\n",
       "GgAAAAAAAICEYA0AAAAAAABAQrAGAAAAAAAAICFYAwAAAAAAAJAQrAEAAAAAAABICNYAAAAAAAAA\n",
       "JARrAAAAAAAAABKCNQAAAAAAAAAJwRoAAAAAAACAhGANAAAAAAAAQEKwBgAAAAAAACAhWAMAAAAA\n",
       "AACQEKwBAAAAAAAASAjWAAAAAAAAACQEawAAAAAAAAASgjUAAAAAAAAACcEaAAAAAAAAgIRgDQAA\n",
       "AAAAAEBCsAYAAAAAAAAgIVgDAAAAAAAAkBCsAQAAAAAAAEgI1gAAAAAAAAAkBGsAAAAAAAAAEoI1\n",
       "AAAAAAAAAAnBGgAAAAAAAICEYA0AAAAAAABAQrAGAAAAAAAAICFYAwAAAAAAAJAQrAEAAAAAAABI\n",
       "CNYAAAAAAAAAJARrAAAAAAAAABKCNQAAAAAAAACJfwAfUN6GZ/w11AAAAABJRU5ErkJggg==\n",
       "\" transform=\"translate(149, 47)\"/>\n",
       "</g>\n",
       "<defs>\n",
       "  <clipPath id=\"clip683\">\n",
       "    <rect x=\"2160\" y=\"47\" width=\"73\" height=\"1440\"/>\n",
       "  </clipPath>\n",
       "</defs>\n",
       "<g clip-path=\"url(#clip683)\">\n",
       "<image width=\"72\" height=\"1439\" xlink:href=\"data:image/png;base64,\n",
       "iVBORw0KGgoAAAANSUhEUgAAAEgAAAWfCAYAAAAI7rB3AAAMJ0lEQVR4nO3dwa3cSBAFQVIoU9Z/\n",
       "t2QFm7JgK4+cQ4QFQuJhiG7OfN3P3//ei//15+t/wK8TKAgUBAoChXne8/W/4adZUBAoCBQECgKF\n",
       "OZej2MaCgkBBoCBQmHM5amwsKAgUBAoCBYHCPK+jxsaCgkBBoCBQECg4iwULCgIFgYJAYR5vNVYW\n",
       "FAQKAgWBgkBhjguzlQUFgYJAQaDgqBEsKAgUBAoCBYHCeKexs6AgUBAoCBQECr5hFiwoCBQECgKF\n",
       "eb7+F/w4CwoCBYGCQEGg4MIsWFAQKAgUBAoChXncl60sKAgUBAoCBUeNYEFBoCBQECgIFOa57q//\n",
       "DT/NgoJAQaAgUJjn9SG9saAgUBAoCBQECnMcNVYWFAQKAgWBgkDBhVmwoCBQECgIFOa4MFtZUBAo\n",
       "CBQECgIFR41gQUGgIFAQKAgUPMWCBQWBgkBBoDDn1WijThAoCBQECgIFR41gQUGgIFAQKMyj0Uqd\n",
       "IFAQKAgUBAouzII6QaAgUBAoCBRcmAULCgIFgYJAYR5HjZU6QaAgUBAoCBTmaLRSJwgUBAoCBYGC\n",
       "C7NgQUGgIFAQKLgwC+oEgYJAQaAgUHBhFtQJAgWBgkDBUSOoEwQKAgWBgkDBW41gQUGgIFAQKAgU\n",
       "/CQzqBMECgIFgYK//hLUCQIFgYJAQaAwj/9fbGVBQaAgUBAo+AJVUCcIFAQKAgWBgm+YBXWCQEGg\n",
       "IFAQKHjtE9QJAgWBgkBhjrcaKwsKAgWBgkBBoOCoEdQJAgWBgkBBoODHLEGdIFAQKAgU/G4+WFAQ\n",
       "KAgUBAoCBUeNoE4QKAgUBAqOGsGCgkBBoCBQECg4agR1gkBBoCBQECj4SWZQJwgUBAoChTkuzFYW\n",
       "FAQKAgWBgkDBUSOoEwQKAgWBgkDBWSxYUBAoCBQECo4aQZ0gUBAoCBQECv6GWbCgIFAQKAgU/Imu\n",
       "oE4QKAgUBAoCBUeNYEFBoCBQECgIFDzFggUFgYJAQaDgwiyoEwQKAgWBgkDBUSNYUBAoCBQECgIF\n",
       "f8MsqBMECgIFgYJfHAYLCgIFgYJAQaAwjwuzlQUFgYJAQaDgPiioEwQKAgWBgkDBu/lgQUGgIFAQ\n",
       "KAgUvPYJFhQECgIFgYK3GsGCgkBBoCBQECh47RPUCQIFgYJAwVuNYEFBoCBQECgIFLzVCBYUBAoC\n",
       "BYGCQMFZLFhQECgIFAQKPqSDBQWBgkBBoCBQ8BQLFhQECgIFgYJAwTfMgjpBoCBQECh4Nx8sKAgU\n",
       "BAoCBYGCC7NgQUGgIFAQKPiQDhYUBAoCBYGCQMFTLFhQECgIFAQKAoV5PcVWFhQECgIFgYJ388GC\n",
       "gkBBoCBQECi4MAsWFAQKAgWBgkDBUyxYUBAoCBQECt5qBAsKAgWBgkBBoOCoESwoCBQECgIFH9LB\n",
       "goJAQaAgUBAozPv1v+DHWVAQKAgUBAoCBWexYEFBoCBQECh4Nx8sKAgUBAoCBYGCo0awoCBQECgI\n",
       "FAQKzmLBgoJAQaAgUJjj5fzKgoJAQaAgUBAoOGoECwoCBYGCQMGHdLCgIFAQKAgUBArezQcLCgIF\n",
       "gYJAQaDgJ5nBgoJAQaAgUHBhFiwoCBQECgIFgYKnWLCgIFAQKAgUBArzujFbWVAQKAgUBAqOGsGC\n",
       "gkBBoCBQECh4igULCgIFgYJAwX1QsKAgUBAoCBQECo4awYKCQEGgIFAQKDiLBQsKAgWBgkBhLkeN\n",
       "lQUFgYJAQaAgUHBhFiwoCBQECgIFf9wkWFAQKAgUBAoCBRdmwYKCQEGgIFAQKHg3HywoCBQECgKF\n",
       "uXxIrywoCBQECgIFgYJ388GCgkBBoCBQECg4iwULCgIFgYJAwbv5YEFBoCBQECgIFLybDxYUBAoC\n",
       "BYGCo0awoCBQECgIFAQK3moECwoCBYGCQEGg4CkWLCgIFAQKAgUXZsGCgkBBoCBQECg4agQLCgIF\n",
       "gYJAQaDgKRYsKAgUBAoCBRdmwYKCQEGgIFAQKAgUBAoCBYGCQMF9ULCgIFAQKAgUBAqeYsGCgkBB\n",
       "oCBQECjM7bXPyoKCQEGgIFBw1AgWFAQKAgWBgkDBUyxYUBAoCBQECgIFT7FgQUGgIFAQKPgxS7Cg\n",
       "IFAQKAgUBApzO2qsLCgIFAQKAgX3QcGCgkBBoCBQECh4igULCgIFgYJAQaDgwixYUBAoCBQECo4a\n",
       "wYKCQEGgIFAQKPiGWbCgIFAQKAgU3AcFCwoCBYGCQEGg4MIsWFAQKAgUBAoCBU+xYEFBoCBQECiM\n",
       "dxo7CwoCBYGCQEGg4KgRLCgIFAQKAgWBgqdYsKAgUBAoCBR8wyxYUBAoCBQECgIFR41gQUGgIFAQ\n",
       "KPiQDhYUBAoCBYGCQMGFWbCgIFAQKAgUBAr++kuwoCBQECgIFBw1ggUFgYJAQaAgUPDaJ1hQECgI\n",
       "FAQKAgVPsWBBQaAgUBAouDALFhQECgIFgYJAwVEjWFAQKAgUBAo+pIMFBYGCQEGgIFBwYRYsKAgU\n",
       "BAoCBYGCs1iwoCBQECgIFAQKAgWBgkBBoCBQcGEWLCgIFAQKAgWBgguzYEFBoCBQECg4agQLCgIF\n",
       "gYJAQaDgqBEsKAgUBAoCBR/SwYKCQEGgIFAQKLgwCxYUBAoCBYGCQMFZLFhQECgIFAQKjhrBgoJA\n",
       "QaAgUBAoOGoECwoCBYGCQMGHdLCgIFAQKAgUBAouzIIFBYGCQEGgIFBwFgsWFAQKAgWBgqNGsKAg\n",
       "UBAoCBQECo4awYKCQEGgIFAQKHiKBQsKAgWBgkBh7ten9MaCgkBBoCBQECg4agQLCgIFgYJAwbv5\n",
       "YEFBoCBQECgIFBw1ggUFgYJAQaAgUHAWCxYUBAoCBYGCo0awoCBQECgIFAQKnmLBgoJAQaAgUBAo\n",
       "uDALFhQECgIFgYKjRrCgIFAQKAgUBAqOGsGCgkBBoCBQcNQIFhQECgIFgYJAwVEjWFAQKAgUBAoC\n",
       "BWexYEFBoCBQECj4Q5PBgoJAQaAgUBAoOGoECwoCBYGCQEGg4LVPsKAgUBAoCBQcNYIFBYGCQEGg\n",
       "IFBw1AgWFAQKAgWBgqNGsKAgUBAoCBQECo4awYKCQEGgIFAQKMzle9IrCwoCBYGCQMFRI1hQECgI\n",
       "FAQKAgWvfYIFBYGCQEGgIFBwFgsWFAQKAgWBgqNGsKAgUBAoCBQECv6GWbCgIFAQKAgUHDWCBQWB\n",
       "gkBBoCBQmPt8/U/4bRYUBAoCBYGCQMFZLFhQECgIFAQK3moECwoCBYGCQEGg4KgRLCgIFAQKAgUf\n",
       "0sGCgkBBoCBQECj4xWGwoCBQECgIFAQK/tBksKAgUBAoCBQcNYIFBYGCQEGgIFCY63iMbSwoCBQE\n",
       "CgIFgYKzWLCgIFAQKAgUfMMsWFAQKAgUBAoCBT/JDBYUBAoCBYGCo0awoCBQECgIFAQKjhrBgoJA\n",
       "QaAgUBAozOXPJa8sKAgUBAoCBb84DBYUBAoCBYGCQMHXgIMFBYGCQEGgIFBwFgsWFAQKAgWBgm+Y\n",
       "BQsKAgWBgkBBoOAbZsGCgkBBoCBQ8Ce6ggUFgYJAQaAgUPBuPlhQECgIFAQKAgXv5oMFBYGCQEGg\n",
       "4EM6WFAQKAgUBAoCBb+bDxYUBAoCBYGCQME3zIIFBYGCQEGg4MIsWFAQKAgUBAoCBU+xYEFBoCBQ\n",
       "ECh4qxEsKAgUBAoCBYGCtxrBgoJAQaAgUBAouDALFhQECgIFgYIP6WBBQaAgUBAoCBT8DbNgQUGg\n",
       "IFAQKDhqBAsKAgWBgkBBoOApFiwoCBQECgIFgYKnWLCgIFAQKAgU5vZWY2VBQaAgUBAoCBQcNYIF\n",
       "BYGCQEGgIFDwFAsWFAQKAgWBgg/pYEFBoCBQECgIFPyYJVhQECgIFAQKjhrBgoJAQaAgUBAoeIoF\n",
       "CwoCBYGCQEGgMNfxV/83FhQECgIFgYKjRrCgIFAQKAgUBArzeoqtLCgIFAQKAgWBgm+YBQsKAgWB\n",
       "gkBhrtdbjY0FBYGCQEGgIFDw2idYUBAoCBQECu6DggUFgYJAQaAgUHBhFiwoCBQECgIFgYKzWLCg\n",
       "IFAQKAgUfA04WFAQKAgUBAoCBb+bDxYUBAoCBYGCQME3zIIFBYGCQEGg4KgRLCgIFAQKAgWBgtc+\n",
       "wYKCQEGgIFDwBapgQUGgIFAQKAgU/JglWFAQKAgUBAoChXmdxVYWFAQKAgWBgqNGsKAgUBAoCBQE\n",
       "Cr4GHCwoCBQECgKFf4jrjN/mS6F7AAAAAElFTkSuQmCC\n",
       "\" transform=\"translate(2161, 47)\"/>\n",
       "</g>\n",
       "<path clip-path=\"url(#clip680)\" d=\"M2269.43 1283.82 L2277.07 1283.82 L2277.07 1257.46 L2268.76 1259.12 L2268.76 1254.86 L2277.02 1253.2 L2281.7 1253.2 L2281.7 1283.82 L2289.33 1283.82 L2289.33 1287.76 L2269.43 1287.76 L2269.43 1283.82 Z\" fill=\"#f8f8f2\" fill-rule=\"nonzero\" fill-opacity=\"1\" /><path clip-path=\"url(#clip680)\" d=\"M2308.78 1256.28 Q2305.17 1256.28 2303.34 1259.84 Q2301.53 1263.38 2301.53 1270.51 Q2301.53 1277.62 2303.34 1281.18 Q2305.17 1284.73 2308.78 1284.73 Q2312.41 1284.73 2314.22 1281.18 Q2316.05 1277.62 2316.05 1270.51 Q2316.05 1263.38 2314.22 1259.84 Q2312.41 1256.28 2308.78 1256.28 M2308.78 1252.57 Q2314.59 1252.57 2317.64 1257.18 Q2320.72 1261.76 2320.72 1270.51 Q2320.72 1279.24 2317.64 1283.85 Q2314.59 1288.43 2308.78 1288.43 Q2302.97 1288.43 2299.89 1283.85 Q2296.83 1279.24 2296.83 1270.51 Q2296.83 1261.76 2299.89 1257.18 Q2302.97 1252.57 2308.78 1252.57 Z\" fill=\"#f8f8f2\" fill-rule=\"nonzero\" fill-opacity=\"1\" /><path clip-path=\"url(#clip680)\" d=\"M2338.94 1256.28 Q2335.33 1256.28 2333.5 1259.84 Q2331.7 1263.38 2331.7 1270.51 Q2331.7 1277.62 2333.5 1281.18 Q2335.33 1284.73 2338.94 1284.73 Q2342.57 1284.73 2344.38 1281.18 Q2346.21 1277.62 2346.21 1270.51 Q2346.21 1263.38 2344.38 1259.84 Q2342.57 1256.28 2338.94 1256.28 M2338.94 1252.57 Q2344.75 1252.57 2347.81 1257.18 Q2350.89 1261.76 2350.89 1270.51 Q2350.89 1279.24 2347.81 1283.85 Q2344.75 1288.43 2338.94 1288.43 Q2333.13 1288.43 2330.05 1283.85 Q2327 1279.24 2327 1270.51 Q2327 1261.76 2330.05 1257.18 Q2333.13 1252.57 2338.94 1252.57 Z\" fill=\"#f8f8f2\" fill-rule=\"nonzero\" fill-opacity=\"1\" /><polyline clip-path=\"url(#clip680)\" style=\"stroke:#000000; stroke-linecap:round; stroke-linejoin:round; stroke-width:4; stroke-opacity:1; fill:none\" points=\"2232.76,1274.11 2256.76,1274.11 \"/>\n",
       "<path clip-path=\"url(#clip680)\" d=\"M2274.38 1069.34 L2290.7 1069.34 L2290.7 1073.27 L2268.76 1073.27 L2268.76 1069.34 Q2271.42 1066.58 2276 1061.95 Q2280.61 1057.3 2281.79 1055.96 Q2284.03 1053.43 2284.91 1051.7 Q2285.82 1049.94 2285.82 1048.25 Q2285.82 1045.49 2283.87 1043.76 Q2281.95 1042.02 2278.85 1042.02 Q2276.65 1042.02 2274.2 1042.79 Q2271.77 1043.55 2268.99 1045.1 L2268.99 1040.38 Q2271.81 1039.24 2274.27 1038.66 Q2276.72 1038.09 2278.76 1038.09 Q2284.13 1038.09 2287.32 1040.77 Q2290.52 1043.46 2290.52 1047.95 Q2290.52 1050.08 2289.7 1052 Q2288.92 1053.9 2286.81 1056.49 Q2286.23 1057.16 2283.13 1060.38 Q2280.03 1063.57 2274.38 1069.34 Z\" fill=\"#f8f8f2\" fill-rule=\"nonzero\" fill-opacity=\"1\" /><path clip-path=\"url(#clip680)\" d=\"M2310.51 1041.79 Q2306.9 1041.79 2305.08 1045.35 Q2303.27 1048.9 2303.27 1056.03 Q2303.27 1063.13 2305.08 1066.7 Q2306.9 1070.24 2310.51 1070.24 Q2314.15 1070.24 2315.95 1066.7 Q2317.78 1063.13 2317.78 1056.03 Q2317.78 1048.9 2315.95 1045.35 Q2314.15 1041.79 2310.51 1041.79 M2310.51 1038.09 Q2316.33 1038.09 2319.38 1042.69 Q2322.46 1047.28 2322.46 1056.03 Q2322.46 1064.75 2319.38 1069.36 Q2316.33 1073.94 2310.51 1073.94 Q2304.7 1073.94 2301.63 1069.36 Q2298.57 1064.75 2298.57 1056.03 Q2298.57 1047.28 2301.63 1042.69 Q2304.7 1038.09 2310.51 1038.09 Z\" fill=\"#f8f8f2\" fill-rule=\"nonzero\" fill-opacity=\"1\" /><path clip-path=\"url(#clip680)\" d=\"M2340.68 1041.79 Q2337.07 1041.79 2335.24 1045.35 Q2333.43 1048.9 2333.43 1056.03 Q2333.43 1063.13 2335.24 1066.7 Q2337.07 1070.24 2340.68 1070.24 Q2344.31 1070.24 2346.12 1066.7 Q2347.95 1063.13 2347.95 1056.03 Q2347.95 1048.9 2346.12 1045.35 Q2344.31 1041.79 2340.68 1041.79 M2340.68 1038.09 Q2346.49 1038.09 2349.54 1042.69 Q2352.62 1047.28 2352.62 1056.03 Q2352.62 1064.75 2349.54 1069.36 Q2346.49 1073.94 2340.68 1073.94 Q2334.87 1073.94 2331.79 1069.36 Q2328.73 1064.75 2328.73 1056.03 Q2328.73 1047.28 2331.79 1042.69 Q2334.87 1038.09 2340.68 1038.09 Z\" fill=\"#f8f8f2\" fill-rule=\"nonzero\" fill-opacity=\"1\" /><polyline clip-path=\"url(#clip680)\" style=\"stroke:#000000; stroke-linecap:round; stroke-linejoin:round; stroke-width:4; stroke-opacity:1; fill:none\" points=\"2232.76,1059.62 2256.76,1059.62 \"/>\n",
       "<path clip-path=\"url(#clip680)\" d=\"M2284.38 840.151 Q2287.74 840.868 2289.61 843.137 Q2291.51 845.405 2291.51 848.738 Q2291.51 853.854 2287.99 856.655 Q2284.47 859.456 2277.99 859.456 Q2275.82 859.456 2273.5 859.016 Q2271.21 858.6 2268.76 857.743 L2268.76 853.229 Q2270.7 854.363 2273.02 854.942 Q2275.33 855.521 2277.85 855.521 Q2282.25 855.521 2284.54 853.785 Q2286.86 852.049 2286.86 848.738 Q2286.86 845.683 2284.7 843.97 Q2282.58 842.234 2278.76 842.234 L2274.73 842.234 L2274.73 838.391 L2278.94 838.391 Q2282.39 838.391 2284.22 837.026 Q2286.05 835.637 2286.05 833.044 Q2286.05 830.382 2284.15 828.97 Q2282.27 827.535 2278.76 827.535 Q2276.83 827.535 2274.64 827.952 Q2272.44 828.368 2269.8 829.248 L2269.8 825.081 Q2272.46 824.34 2274.77 823.97 Q2277.11 823.6 2279.17 823.6 Q2284.5 823.6 2287.6 826.03 Q2290.7 828.438 2290.7 832.558 Q2290.7 835.428 2289.06 837.419 Q2287.41 839.387 2284.38 840.151 Z\" fill=\"#f8f8f2\" fill-rule=\"nonzero\" fill-opacity=\"1\" /><path clip-path=\"url(#clip680)\" d=\"M2310.38 827.303 Q2306.76 827.303 2304.94 830.868 Q2303.13 834.41 2303.13 841.539 Q2303.13 848.646 2304.94 852.211 Q2306.76 855.752 2310.38 855.752 Q2314.01 855.752 2315.82 852.211 Q2317.64 848.646 2317.64 841.539 Q2317.64 834.41 2315.82 830.868 Q2314.01 827.303 2310.38 827.303 M2310.38 823.6 Q2316.19 823.6 2319.24 828.206 Q2322.32 832.789 2322.32 841.539 Q2322.32 850.266 2319.24 854.873 Q2316.19 859.456 2310.38 859.456 Q2304.57 859.456 2301.49 854.873 Q2298.43 850.266 2298.43 841.539 Q2298.43 832.789 2301.49 828.206 Q2304.57 823.6 2310.38 823.6 Z\" fill=\"#f8f8f2\" fill-rule=\"nonzero\" fill-opacity=\"1\" /><path clip-path=\"url(#clip680)\" d=\"M2340.54 827.303 Q2336.93 827.303 2335.1 830.868 Q2333.29 834.41 2333.29 841.539 Q2333.29 848.646 2335.1 852.211 Q2336.93 855.752 2340.54 855.752 Q2344.17 855.752 2345.98 852.211 Q2347.81 848.646 2347.81 841.539 Q2347.81 834.41 2345.98 830.868 Q2344.17 827.303 2340.54 827.303 M2340.54 823.6 Q2346.35 823.6 2349.4 828.206 Q2352.48 832.789 2352.48 841.539 Q2352.48 850.266 2349.4 854.873 Q2346.35 859.456 2340.54 859.456 Q2334.73 859.456 2331.65 854.873 Q2328.59 850.266 2328.59 841.539 Q2328.59 832.789 2331.65 828.206 Q2334.73 823.6 2340.54 823.6 Z\" fill=\"#f8f8f2\" fill-rule=\"nonzero\" fill-opacity=\"1\" /><polyline clip-path=\"url(#clip680)\" style=\"stroke:#000000; stroke-linecap:round; stroke-linejoin:round; stroke-width:4; stroke-opacity:1; fill:none\" points=\"2232.76,845.134 2256.76,845.134 \"/>\n",
       "<path clip-path=\"url(#clip680)\" d=\"M2284.36 613.812 L2272.55 632.261 L2284.36 632.261 L2284.36 613.812 M2283.13 609.738 L2289.01 609.738 L2289.01 632.261 L2293.94 632.261 L2293.94 636.15 L2289.01 636.15 L2289.01 644.298 L2284.36 644.298 L2284.36 636.15 L2268.76 636.15 L2268.76 631.636 L2283.13 609.738 Z\" fill=\"#f8f8f2\" fill-rule=\"nonzero\" fill-opacity=\"1\" /><path clip-path=\"url(#clip680)\" d=\"M2311.67 612.817 Q2308.06 612.817 2306.23 616.382 Q2304.43 619.923 2304.43 627.053 Q2304.43 634.159 2306.23 637.724 Q2308.06 641.266 2311.67 641.266 Q2315.31 641.266 2317.11 637.724 Q2318.94 634.159 2318.94 627.053 Q2318.94 619.923 2317.11 616.382 Q2315.31 612.817 2311.67 612.817 M2311.67 609.113 Q2317.48 609.113 2320.54 613.72 Q2323.62 618.303 2323.62 627.053 Q2323.62 635.78 2320.54 640.386 Q2317.48 644.97 2311.67 644.97 Q2305.86 644.97 2302.78 640.386 Q2299.73 635.78 2299.73 627.053 Q2299.73 618.303 2302.78 613.72 Q2305.86 609.113 2311.67 609.113 Z\" fill=\"#f8f8f2\" fill-rule=\"nonzero\" fill-opacity=\"1\" /><path clip-path=\"url(#clip680)\" d=\"M2341.83 612.817 Q2338.22 612.817 2336.39 616.382 Q2334.59 619.923 2334.59 627.053 Q2334.59 634.159 2336.39 637.724 Q2338.22 641.266 2341.83 641.266 Q2345.47 641.266 2347.27 637.724 Q2349.1 634.159 2349.1 627.053 Q2349.1 619.923 2347.27 616.382 Q2345.47 612.817 2341.83 612.817 M2341.83 609.113 Q2347.64 609.113 2350.7 613.72 Q2353.78 618.303 2353.78 627.053 Q2353.78 635.78 2350.7 640.386 Q2347.64 644.97 2341.83 644.97 Q2336.02 644.97 2332.95 640.386 Q2329.89 635.78 2329.89 627.053 Q2329.89 618.303 2332.95 613.72 Q2336.02 609.113 2341.83 609.113 Z\" fill=\"#f8f8f2\" fill-rule=\"nonzero\" fill-opacity=\"1\" /><polyline clip-path=\"url(#clip680)\" style=\"stroke:#000000; stroke-linecap:round; stroke-linejoin:round; stroke-width:4; stroke-opacity:1; fill:none\" points=\"2232.76,630.647 2256.76,630.647 \"/>\n",
       "<path clip-path=\"url(#clip680)\" d=\"M2270.21 395.252 L2288.57 395.252 L2288.57 399.187 L2274.5 399.187 L2274.5 407.659 Q2275.52 407.312 2276.53 407.15 Q2277.55 406.965 2278.57 406.965 Q2284.36 406.965 2287.74 410.136 Q2291.12 413.307 2291.12 418.724 Q2291.12 424.303 2287.64 427.405 Q2284.17 430.483 2277.85 430.483 Q2275.68 430.483 2273.41 430.113 Q2271.16 429.742 2268.76 429.002 L2268.76 424.303 Q2270.84 425.437 2273.06 425.992 Q2275.28 426.548 2277.76 426.548 Q2281.77 426.548 2284.1 424.442 Q2286.44 422.335 2286.44 418.724 Q2286.44 415.113 2284.1 413.006 Q2281.77 410.9 2277.76 410.9 Q2275.89 410.9 2274.01 411.317 Q2272.16 411.733 2270.21 412.613 L2270.21 395.252 Z\" fill=\"#f8f8f2\" fill-rule=\"nonzero\" fill-opacity=\"1\" /><path clip-path=\"url(#clip680)\" d=\"M2310.33 398.331 Q2306.72 398.331 2304.89 401.895 Q2303.08 405.437 2303.08 412.567 Q2303.08 419.673 2304.89 423.238 Q2306.72 426.78 2310.33 426.78 Q2313.96 426.78 2315.77 423.238 Q2317.6 419.673 2317.6 412.567 Q2317.6 405.437 2315.77 401.895 Q2313.96 398.331 2310.33 398.331 M2310.33 394.627 Q2316.14 394.627 2319.2 399.233 Q2322.27 403.817 2322.27 412.567 Q2322.27 421.293 2319.2 425.9 Q2316.14 430.483 2310.33 430.483 Q2304.52 430.483 2301.44 425.9 Q2298.39 421.293 2298.39 412.567 Q2298.39 403.817 2301.44 399.233 Q2304.52 394.627 2310.33 394.627 Z\" fill=\"#f8f8f2\" fill-rule=\"nonzero\" fill-opacity=\"1\" /><path clip-path=\"url(#clip680)\" d=\"M2340.49 398.331 Q2336.88 398.331 2335.05 401.895 Q2333.25 405.437 2333.25 412.567 Q2333.25 419.673 2335.05 423.238 Q2336.88 426.78 2340.49 426.78 Q2344.13 426.78 2345.93 423.238 Q2347.76 419.673 2347.76 412.567 Q2347.76 405.437 2345.93 401.895 Q2344.13 398.331 2340.49 398.331 M2340.49 394.627 Q2346.3 394.627 2349.36 399.233 Q2352.44 403.817 2352.44 412.567 Q2352.44 421.293 2349.36 425.9 Q2346.3 430.483 2340.49 430.483 Q2334.68 430.483 2331.6 425.9 Q2328.55 421.293 2328.55 412.567 Q2328.55 403.817 2331.6 399.233 Q2334.68 394.627 2340.49 394.627 Z\" fill=\"#f8f8f2\" fill-rule=\"nonzero\" fill-opacity=\"1\" /><polyline clip-path=\"url(#clip680)\" style=\"stroke:#000000; stroke-linecap:round; stroke-linejoin:round; stroke-width:4; stroke-opacity:1; fill:none\" points=\"2232.76,416.161 2256.76,416.161 \"/>\n",
       "<path clip-path=\"url(#clip680)\" d=\"M2281.09 196.182 Q2277.95 196.182 2276.09 198.335 Q2274.27 200.488 2274.27 204.238 Q2274.27 207.964 2276.09 210.14 Q2277.95 212.293 2281.09 212.293 Q2284.24 212.293 2286.07 210.14 Q2287.92 207.964 2287.92 204.238 Q2287.92 200.488 2286.07 198.335 Q2284.24 196.182 2281.09 196.182 M2290.38 181.529 L2290.38 185.789 Q2288.62 184.955 2286.81 184.515 Q2285.03 184.076 2283.27 184.076 Q2278.64 184.076 2276.19 187.201 Q2273.76 190.326 2273.41 196.645 Q2274.77 194.631 2276.83 193.566 Q2278.89 192.478 2281.37 192.478 Q2286.58 192.478 2289.59 195.65 Q2292.62 198.798 2292.62 204.238 Q2292.62 209.562 2289.47 212.779 Q2286.33 215.997 2281.09 215.997 Q2275.1 215.997 2271.93 211.413 Q2268.76 206.807 2268.76 198.08 Q2268.76 189.886 2272.64 185.025 Q2276.53 180.141 2283.08 180.141 Q2284.84 180.141 2286.63 180.488 Q2288.43 180.835 2290.38 181.529 Z\" fill=\"#f8f8f2\" fill-rule=\"nonzero\" fill-opacity=\"1\" /><path clip-path=\"url(#clip680)\" d=\"M2310.68 183.844 Q2307.07 183.844 2305.24 187.409 Q2303.43 190.951 2303.43 198.08 Q2303.43 205.187 2305.24 208.751 Q2307.07 212.293 2310.68 212.293 Q2314.31 212.293 2316.12 208.751 Q2317.95 205.187 2317.95 198.08 Q2317.95 190.951 2316.12 187.409 Q2314.31 183.844 2310.68 183.844 M2310.68 180.141 Q2316.49 180.141 2319.54 184.747 Q2322.62 189.33 2322.62 198.08 Q2322.62 206.807 2319.54 211.413 Q2316.49 215.997 2310.68 215.997 Q2304.87 215.997 2301.79 211.413 Q2298.73 206.807 2298.73 198.08 Q2298.73 189.33 2301.79 184.747 Q2304.87 180.141 2310.68 180.141 Z\" fill=\"#f8f8f2\" fill-rule=\"nonzero\" fill-opacity=\"1\" /><path clip-path=\"url(#clip680)\" d=\"M2340.84 183.844 Q2337.23 183.844 2335.4 187.409 Q2333.59 190.951 2333.59 198.08 Q2333.59 205.187 2335.4 208.751 Q2337.23 212.293 2340.84 212.293 Q2344.47 212.293 2346.28 208.751 Q2348.11 205.187 2348.11 198.08 Q2348.11 190.951 2346.28 187.409 Q2344.47 183.844 2340.84 183.844 M2340.84 180.141 Q2346.65 180.141 2349.7 184.747 Q2352.78 189.33 2352.78 198.08 Q2352.78 206.807 2349.7 211.413 Q2346.65 215.997 2340.84 215.997 Q2335.03 215.997 2331.95 211.413 Q2328.89 206.807 2328.89 198.08 Q2328.89 189.33 2331.95 184.747 Q2335.03 180.141 2340.84 180.141 Z\" fill=\"#f8f8f2\" fill-rule=\"nonzero\" fill-opacity=\"1\" /><polyline clip-path=\"url(#clip680)\" style=\"stroke:#000000; stroke-linecap:round; stroke-linejoin:round; stroke-width:4; stroke-opacity:1; fill:none\" points=\"2232.76,201.674 2256.76,201.674 \"/>\n",
       "<polyline clip-path=\"url(#clip680)\" style=\"stroke:#000000; stroke-linecap:round; stroke-linejoin:round; stroke-width:4; stroke-opacity:1; fill:none\" points=\"2232.76,1486.45 2232.76,47.2441 \"/>\n",
       "</svg>\n"
      ]
     },
     "execution_count": 92,
     "metadata": {},
     "output_type": "execute_result"
    }
   ],
   "source": [
    "x = randn(10^5)\n",
    "y = randn(10^5)\n",
    "histogram2d(x, y, bins=(64, 64))"
   ]
  },
  {
   "cell_type": "markdown",
   "metadata": {},
   "source": [
    "### Importing Data\n",
    "Bring data from external files into ${\\tt Julia}$."
   ]
  },
  {
   "cell_type": "markdown",
   "metadata": {},
   "source": [
    "Data is typically stored in files, such as _CSV_ or _JSON_ files. In order to train and test machine learning models, the data needs to be loaded into the program. Additionally, the results of the training and testing process, such as model weights and performance metrics, also need to be saved to files. Therefore, the ability to manipulate files is essential for loading and saving data and model information in the machine learning process."
   ]
  },
  {
   "cell_type": "code",
   "execution_count": 93,
   "metadata": {},
   "outputs": [
    {
     "name": "stderr",
     "output_type": "stream",
     "text": [
      "\u001b[32m\u001b[1m   Resolving\u001b[22m\u001b[39m package versions...\n",
      "\u001b[32m\u001b[1m  No Changes\u001b[22m\u001b[39m to `~/Work/git-repos/AI-ML-DL/jlai/Codes/Julia/Part-1/Project.toml`\n",
      "\u001b[32m\u001b[1m  No Changes\u001b[22m\u001b[39m to `~/Work/git-repos/AI-ML-DL/jlai/Codes/Julia/Part-1/Manifest.toml`\n",
      "\u001b[32m\u001b[1m   Resolving\u001b[22m\u001b[39m package versions...\n",
      "\u001b[32m\u001b[1m  No Changes\u001b[22m\u001b[39m to `~/Work/git-repos/AI-ML-DL/jlai/Codes/Julia/Part-1/Project.toml`\n",
      "\u001b[32m\u001b[1m  No Changes\u001b[22m\u001b[39m to `~/Work/git-repos/AI-ML-DL/jlai/Codes/Julia/Part-1/Manifest.toml`\n"
     ]
    }
   ],
   "source": [
    "using Pkg\n",
    "Pkg.add(\"DataFrames\")\n",
    "Pkg.add(\"CSV\")"
   ]
  },
  {
   "cell_type": "code",
   "execution_count": 94,
   "metadata": {},
   "outputs": [
    {
     "data": {
      "text/latex": [
       "Create new CSV file\n",
       "\n"
      ],
      "text/markdown": [
       "Create new CSV file\n"
      ],
      "text/plain": [
       "  Create new CSV file"
      ]
     },
     "execution_count": 94,
     "metadata": {},
     "output_type": "execute_result"
    }
   ],
   "source": [
    "md\"Create new CSV file\""
   ]
  },
  {
   "cell_type": "code",
   "execution_count": 95,
   "metadata": {},
   "outputs": [],
   "source": [
    "using CSV, DataFrames"
   ]
  },
  {
   "cell_type": "code",
   "execution_count": 96,
   "metadata": {},
   "outputs": [
    {
     "data": {
      "text/latex": [
       "\\texttt{touch} command allows to create a file if it doesn't exist. Otherwise, it changes the file timestamps.\n",
       "\n"
      ],
      "text/markdown": [
       "`touch` command allows to create a file if it doesn't exist. Otherwise, it changes the file timestamps.\n"
      ],
      "text/plain": [
       "  \u001b[36mtouch\u001b[39m command allows to create a file if it doesn't exist. Otherwise, it\n",
       "  changes the file timestamps."
      ]
     },
     "execution_count": 96,
     "metadata": {},
     "output_type": "execute_result"
    }
   ],
   "source": [
    "md\"`touch` command allows to create a file if it doesn't exist. Otherwise, it changes the file timestamps.\""
   ]
  },
  {
   "cell_type": "code",
   "execution_count": 97,
   "metadata": {},
   "outputs": [
    {
     "data": {
      "text/plain": [
       "\"test-file.csv\""
      ]
     },
     "execution_count": 97,
     "metadata": {},
     "output_type": "execute_result"
    }
   ],
   "source": [
    "touch(\"test-file.csv\")"
   ]
  },
  {
   "cell_type": "code",
   "execution_count": 98,
   "metadata": {},
   "outputs": [
    {
     "name": "stdout",
     "output_type": "stream",
     "text": [
      "-rw-rw-r-- 1 mhamdi mhamdi 0 Dec 18 23:59 test-file.csv\n"
     ]
    }
   ],
   "source": [
    ";ls -la test-file.csv"
   ]
  },
  {
   "cell_type": "code",
   "execution_count": 99,
   "metadata": {},
   "outputs": [
    {
     "data": {
      "text/plain": [
       "IOStream(<file test-file.csv>)"
      ]
     },
     "execution_count": 99,
     "metadata": {},
     "output_type": "execute_result"
    }
   ],
   "source": [
    "file = open(\"test-file.csv\", \"w\")"
   ]
  },
  {
   "cell_type": "code",
   "execution_count": 100,
   "metadata": {},
   "outputs": [
    {
     "data": {
      "text/latex": [
       "Let's create some imaginary data\n",
       "\n"
      ],
      "text/markdown": [
       "Let's create some imaginary data\n"
      ],
      "text/plain": [
       "  Let's create some imaginary data"
      ]
     },
     "execution_count": 100,
     "metadata": {},
     "output_type": "execute_result"
    }
   ],
   "source": [
    "md\"Let's create some imaginary data\""
   ]
  },
  {
   "cell_type": "code",
   "execution_count": 101,
   "metadata": {},
   "outputs": [
    {
     "data": {
      "text/html": [
       "<div><div style = \"float: left;\"><span>4×3 DataFrame</span></div><div style = \"clear: both;\"></div></div><div class = \"data-frame\" style = \"overflow-x: scroll;\"><table class = \"data-frame\" style = \"margin-bottom: 6px;\"><thead><tr class = \"header\"><th class = \"rowNumber\" style = \"font-weight: bold; text-align: right;\">Row</th><th style = \"text-align: left;\">Student</th><th style = \"text-align: left;\">Id</th><th style = \"text-align: left;\">Marks</th></tr><tr class = \"subheader headerLastRow\"><th class = \"rowNumber\" style = \"font-weight: bold; text-align: right;\"></th><th title = \"String\" style = \"text-align: left;\">String</th><th title = \"Int64\" style = \"text-align: left;\">Int64</th><th title = \"Float64\" style = \"text-align: left;\">Float64</th></tr></thead><tbody><tr><td class = \"rowNumber\" style = \"font-weight: bold; text-align: right;\">1</td><td style = \"text-align: left;\">Mohamed</td><td style = \"text-align: right;\">1</td><td style = \"text-align: right;\">18.0</td></tr><tr><td class = \"rowNumber\" style = \"font-weight: bold; text-align: right;\">2</td><td style = \"text-align: left;\">Aymen</td><td style = \"text-align: right;\">2</td><td style = \"text-align: right;\">7.0</td></tr><tr><td class = \"rowNumber\" style = \"font-weight: bold; text-align: right;\">3</td><td style = \"text-align: left;\">Rami</td><td style = \"text-align: right;\">3</td><td style = \"text-align: right;\">12.0</td></tr><tr><td class = \"rowNumber\" style = \"font-weight: bold; text-align: right;\">4</td><td style = \"text-align: left;\">Ala</td><td style = \"text-align: right;\">4</td><td style = \"text-align: right;\">5.5</td></tr></tbody></table></div>"
      ],
      "text/latex": [
       "\\begin{tabular}{r|ccc}\n",
       "\t& Student & Id & Marks\\\\\n",
       "\t\\hline\n",
       "\t& String & Int64 & Float64\\\\\n",
       "\t\\hline\n",
       "\t1 & Mohamed & 1 & 18.0 \\\\\n",
       "\t2 & Aymen & 2 & 7.0 \\\\\n",
       "\t3 & Rami & 3 & 12.0 \\\\\n",
       "\t4 & Ala & 4 & 5.5 \\\\\n",
       "\\end{tabular}\n"
      ],
      "text/plain": [
       "\u001b[1m4×3 DataFrame\u001b[0m\n",
       "\u001b[1m Row \u001b[0m│\u001b[1m Student \u001b[0m\u001b[1m Id    \u001b[0m\u001b[1m Marks   \u001b[0m\n",
       "     │\u001b[90m String  \u001b[0m\u001b[90m Int64 \u001b[0m\u001b[90m Float64 \u001b[0m\n",
       "─────┼─────────────────────────\n",
       "   1 │ Mohamed      1     18.0\n",
       "   2 │ Aymen        2      7.0\n",
       "   3 │ Rami         3     12.0\n",
       "   4 │ Ala          4      5.5"
      ]
     },
     "execution_count": 101,
     "metadata": {},
     "output_type": "execute_result"
    }
   ],
   "source": [
    "df = DataFrame(\n",
    "        Student = [\"Mohamed\", \"Aymen\", \"Rami\", \"Ala\"],\n",
    "        Id = [1, 2, 3, 4],\n",
    "        Marks = [18, 7, 12, 5.5]\n",
    "        )"
   ]
  },
  {
   "cell_type": "code",
   "execution_count": 102,
   "metadata": {},
   "outputs": [
    {
     "data": {
      "text/latex": [
       "Write \\texttt{df} to file\n",
       "\n"
      ],
      "text/markdown": [
       "Write `df` to file\n"
      ],
      "text/plain": [
       "  Write \u001b[36mdf\u001b[39m to file"
      ]
     },
     "execution_count": 102,
     "metadata": {},
     "output_type": "execute_result"
    }
   ],
   "source": [
    "md\"Write `df` to file\""
   ]
  },
  {
   "cell_type": "code",
   "execution_count": 103,
   "metadata": {},
   "outputs": [
    {
     "data": {
      "text/plain": [
       "\"test-file.csv\""
      ]
     },
     "execution_count": 103,
     "metadata": {},
     "output_type": "execute_result"
    }
   ],
   "source": [
    "CSV.write(\"test-file.csv\", df)"
   ]
  },
  {
   "cell_type": "code",
   "execution_count": 104,
   "metadata": {},
   "outputs": [
    {
     "data": {
      "text/latex": [
       "Open the CSV file and add some contents. See what happens when we load it again.\n",
       "\n"
      ],
      "text/markdown": [
       "Open the CSV file and add some contents. See what happens when we load it again.\n"
      ],
      "text/plain": [
       "  Open the CSV file and add some contents. See what happens when we load it\n",
       "  again."
      ]
     },
     "execution_count": 104,
     "metadata": {},
     "output_type": "execute_result"
    }
   ],
   "source": [
    "md\"Open the CSV file and add some contents. See what happens when we load it again.\""
   ]
  },
  {
   "cell_type": "code",
   "execution_count": 105,
   "metadata": {},
   "outputs": [
    {
     "data": {
      "text/html": [
       "<div><div style = \"float: left;\"><span>4×3 DataFrame</span></div><div style = \"clear: both;\"></div></div><div class = \"data-frame\" style = \"overflow-x: scroll;\"><table class = \"data-frame\" style = \"margin-bottom: 6px;\"><thead><tr class = \"header\"><th class = \"rowNumber\" style = \"font-weight: bold; text-align: right;\">Row</th><th style = \"text-align: left;\">Student</th><th style = \"text-align: left;\">Id</th><th style = \"text-align: left;\">Marks</th></tr><tr class = \"subheader headerLastRow\"><th class = \"rowNumber\" style = \"font-weight: bold; text-align: right;\"></th><th title = \"String7\" style = \"text-align: left;\">String7</th><th title = \"Int64\" style = \"text-align: left;\">Int64</th><th title = \"Float64\" style = \"text-align: left;\">Float64</th></tr></thead><tbody><tr><td class = \"rowNumber\" style = \"font-weight: bold; text-align: right;\">1</td><td style = \"text-align: left;\">Mohamed</td><td style = \"text-align: right;\">1</td><td style = \"text-align: right;\">18.0</td></tr><tr><td class = \"rowNumber\" style = \"font-weight: bold; text-align: right;\">2</td><td style = \"text-align: left;\">Aymen</td><td style = \"text-align: right;\">2</td><td style = \"text-align: right;\">7.0</td></tr><tr><td class = \"rowNumber\" style = \"font-weight: bold; text-align: right;\">3</td><td style = \"text-align: left;\">Rami</td><td style = \"text-align: right;\">3</td><td style = \"text-align: right;\">12.0</td></tr><tr><td class = \"rowNumber\" style = \"font-weight: bold; text-align: right;\">4</td><td style = \"text-align: left;\">Ala</td><td style = \"text-align: right;\">4</td><td style = \"text-align: right;\">5.5</td></tr></tbody></table></div>"
      ],
      "text/latex": [
       "\\begin{tabular}{r|ccc}\n",
       "\t& Student & Id & Marks\\\\\n",
       "\t\\hline\n",
       "\t& String7 & Int64 & Float64\\\\\n",
       "\t\\hline\n",
       "\t1 & Mohamed & 1 & 18.0 \\\\\n",
       "\t2 & Aymen & 2 & 7.0 \\\\\n",
       "\t3 & Rami & 3 & 12.0 \\\\\n",
       "\t4 & Ala & 4 & 5.5 \\\\\n",
       "\\end{tabular}\n"
      ],
      "text/plain": [
       "\u001b[1m4×3 DataFrame\u001b[0m\n",
       "\u001b[1m Row \u001b[0m│\u001b[1m Student \u001b[0m\u001b[1m Id    \u001b[0m\u001b[1m Marks   \u001b[0m\n",
       "     │\u001b[90m String7 \u001b[0m\u001b[90m Int64 \u001b[0m\u001b[90m Float64 \u001b[0m\n",
       "─────┼─────────────────────────\n",
       "   1 │ Mohamed      1     18.0\n",
       "   2 │ Aymen        2      7.0\n",
       "   3 │ Rami         3     12.0\n",
       "   4 │ Ala          4      5.5"
      ]
     },
     "execution_count": 105,
     "metadata": {},
     "output_type": "execute_result"
    }
   ],
   "source": [
    "CSV.read(\"test-file.csv\", DataFrame)"
   ]
  },
  {
   "cell_type": "markdown",
   "metadata": {},
   "source": [
    "### Logical Arrays\n",
    "Use logical expressions to help extracting elements of interest from ${\\tt Julia}$ arrays."
   ]
  },
  {
   "cell_type": "code",
   "execution_count": 106,
   "metadata": {},
   "outputs": [
    {
     "name": "stdout",
     "output_type": "stream",
     "text": [
      "ComplexF64[1.0 + 0.0im, 2.0 + 0.0im, -5.0 + 0.0im, 7.2 + 0.0im, 0.0 + 3.0im]\n"
     ]
    },
    {
     "data": {
      "text/plain": [
       "Vector{ComplexF64}\u001b[90m (alias for \u001b[39m\u001b[90mArray{Complex{Float64}, 1}\u001b[39m\u001b[90m)\u001b[39m"
      ]
     },
     "execution_count": 106,
     "metadata": {},
     "output_type": "execute_result"
    }
   ],
   "source": [
    "x = [1, 2, -5, 7.2, 3im]\n",
    "println(x)\n",
    "typeof(x)"
   ]
  },
  {
   "cell_type": "code",
   "execution_count": 107,
   "metadata": {},
   "outputs": [
    {
     "name": "stdout",
     "output_type": "stream",
     "text": [
      "ComplexF64[2.0 + 0.0im, 0.0 + 3.0im]"
     ]
    }
   ],
   "source": [
    "idx = [false, true, false, false, true]\n",
    "print(x[idx])"
   ]
  },
  {
   "cell_type": "code",
   "execution_count": 108,
   "metadata": {},
   "outputs": [
    {
     "data": {
      "text/plain": [
       "5×4 Matrix{Float64}:\n",
       " 5.0e-324      4.4e-323      6.29019e-310  6.29019e-310\n",
       " 3.0e-323      6.29019e-310  6.29019e-310  6.4e-323\n",
       " 6.29019e-310  6.29019e-310  6.0e-323      7.0e-323\n",
       " 6.29019e-310  5.0e-323      6.0e-323      6.29019e-310\n",
       " 3.5e-323      5.4e-323      6.29019e-310  6.29019e-310"
      ]
     },
     "execution_count": 108,
     "metadata": {},
     "output_type": "execute_result"
    }
   ],
   "source": [
    "M = Array{Float64, 2}(undef, 5, 4)"
   ]
  },
  {
   "cell_type": "code",
   "execution_count": 109,
   "metadata": {},
   "outputs": [],
   "source": [
    "row_idx = [true, false, true, true, false];\n",
    "col_idx = [false, true, true, false];"
   ]
  },
  {
   "cell_type": "code",
   "execution_count": 110,
   "metadata": {},
   "outputs": [
    {
     "data": {
      "text/plain": [
       "3×4 Matrix{Float64}:\n",
       " 5.0e-324      4.4e-323      6.29019e-310  6.29019e-310\n",
       " 6.29019e-310  6.29019e-310  6.0e-323      7.0e-323\n",
       " 6.29019e-310  5.0e-323      6.0e-323      6.29019e-310"
      ]
     },
     "execution_count": 110,
     "metadata": {},
     "output_type": "execute_result"
    }
   ],
   "source": [
    "M[row_idx, :]"
   ]
  },
  {
   "cell_type": "code",
   "execution_count": 111,
   "metadata": {},
   "outputs": [
    {
     "data": {
      "text/plain": [
       "5×2 Matrix{Float64}:\n",
       " 4.4e-323      6.29019e-310\n",
       " 6.29019e-310  6.29019e-310\n",
       " 6.29019e-310  6.0e-323\n",
       " 5.0e-323      6.0e-323\n",
       " 5.4e-323      6.29019e-310"
      ]
     },
     "execution_count": 111,
     "metadata": {},
     "output_type": "execute_result"
    }
   ],
   "source": [
    "M[:, col_idx]"
   ]
  },
  {
   "cell_type": "code",
   "execution_count": 112,
   "metadata": {},
   "outputs": [
    {
     "data": {
      "text/plain": [
       "3×2 Matrix{Float64}:\n",
       " 4.4e-323      6.29019e-310\n",
       " 6.29019e-310  6.0e-323\n",
       " 5.0e-323      6.0e-323"
      ]
     },
     "execution_count": 112,
     "metadata": {},
     "output_type": "execute_result"
    }
   ],
   "source": [
    "M[row_idx, col_idx]"
   ]
  },
  {
   "cell_type": "markdown",
   "metadata": {},
   "source": [
    "### Programming\n",
    "Write programs that execute code based on some condition."
   ]
  },
  {
   "cell_type": "code",
   "execution_count": 113,
   "metadata": {},
   "outputs": [
    {
     "data": {
      "text/latex": [
       "\\textbf{Conditional Evaluation}\n",
       "\n"
      ],
      "text/markdown": [
       "**Conditional Evaluation**\n"
      ],
      "text/plain": [
       "  \u001b[1mConditional Evaluation\u001b[22m"
      ]
     },
     "execution_count": 113,
     "metadata": {},
     "output_type": "execute_result"
    }
   ],
   "source": [
    "md\"**Conditional Evaluation**\""
   ]
  },
  {
   "cell_type": "code",
   "execution_count": 114,
   "metadata": {},
   "outputs": [
    {
     "name": "stdout",
     "output_type": "stream",
     "text": [
      "π is equal to π\n"
     ]
    }
   ],
   "source": [
    "a, b = π, π\n",
    "if a < b\n",
    "    println(\"$a is less than $b\")\n",
    "elseif a > b\n",
    "    println(\"$a is greater than $b\")\n",
    "else\n",
    "    println(\"$a is equal to $b\")\n",
    "end"
   ]
  },
  {
   "cell_type": "code",
   "execution_count": 115,
   "metadata": {},
   "outputs": [
    {
     "data": {
      "text/latex": [
       "\\textbf{\\texttt{While} Loop}\n",
       "\n"
      ],
      "text/markdown": [
       "**`While` Loop**\n"
      ],
      "text/plain": [
       "  \u001b[1m\u001b[36mWhile\u001b[39m Loop\u001b[22m"
      ]
     },
     "execution_count": 115,
     "metadata": {},
     "output_type": "execute_result"
    }
   ],
   "source": [
    "md\"**`While` Loop**\""
   ]
  },
  {
   "cell_type": "code",
   "execution_count": 116,
   "metadata": {},
   "outputs": [
    {
     "name": "stdout",
     "output_type": "stream",
     "text": [
      "Item #1 is Blueberry\n",
      "Item #2 is Orange\n",
      "Item #3 is Banana\n",
      "Item #4 is Raspberry\n",
      "Item #5 is Strawberry\n"
     ]
    }
   ],
   "source": [
    "fruits = [\"Blueberry\", \"Orange\", \"Banana\", \"Raspberry\", \"Strawberry\"]\n",
    "iter = 1\n",
    "while iter ≤ length(fruits)\n",
    "    println(\"Item #$iter is $(fruits[iter])\")\n",
    "    iter +=1\n",
    "end"
   ]
  },
  {
   "cell_type": "code",
   "execution_count": 117,
   "metadata": {},
   "outputs": [
    {
     "data": {
      "text/latex": [
       "\\textbf{\\texttt{For} Loop}\n",
       "\n"
      ],
      "text/markdown": [
       "**`For` Loop**\n"
      ],
      "text/plain": [
       "  \u001b[1m\u001b[36mFor\u001b[39m Loop\u001b[22m"
      ]
     },
     "execution_count": 117,
     "metadata": {},
     "output_type": "execute_result"
    }
   ],
   "source": [
    "md\"**`For` Loop**\""
   ]
  },
  {
   "cell_type": "code",
   "execution_count": 118,
   "metadata": {},
   "outputs": [
    {
     "name": "stdout",
     "output_type": "stream",
     "text": [
      "Item #1 is Broccoli\n",
      "Item #2 is Garlic\n",
      "Item #3 is Mushrooms\n",
      "Item #4 is Potatoes\n",
      "Item #5 is Tomatoes\n"
     ]
    }
   ],
   "source": [
    "vegetables = [\"Broccoli\", \"Garlic\", \"Mushrooms\", \"Potatoes\", \"Tomatoes\"]\n",
    "i = 1\n",
    "for item in vegetables\n",
    "    println(\"Item #$i is $item\")\n",
    "    i += 1\n",
    "end"
   ]
  },
  {
   "cell_type": "markdown",
   "metadata": {},
   "source": [
    "### Final Project\n",
    "Bring together concepts that you have learned with a project."
   ]
  },
  {
   "cell_type": "markdown",
   "metadata": {},
   "source": [
    "This simple project consists of implementing a basic calculator. This latter could have the ability to perform basic arithmetic operations like _addition_, _subtraction_, _multiplication_, and _division_.\n",
    "\n",
    "Here are the steps to be followed:\n",
    "1. Create a function called `calculator()` that takes two arguments, `x` and `y`, and a char operation that specifies which operation to perform.\n",
    "1. Use an `if-else` statement to check the value of operation. Depending on the value of operation, call the appropriate function to perform the calculation.\n",
    "1. Test the calculator function by calling it with different values for `x`, `y`, and operation and printing the result.\n",
    "1. Once the basic calculator is working, we can improve it by adding more functionality such as handling decimals and negative numbers, or implementing more advanced operations such as square root, power, trigonometry and so on.\n",
    "1. Finally, we could also experiment with different input types, such as command line arguments or a graphical user interface."
   ]
  },
  {
   "cell_type": "code",
   "execution_count": 119,
   "metadata": {},
   "outputs": [
    {
     "data": {
      "text/latex": [
       "Here is an example of how the basic calculator function could look like:\n",
       "\n"
      ],
      "text/markdown": [
       "Here is an example of how the basic calculator function could look like:\n"
      ],
      "text/plain": [
       "  Here is an example of how the basic calculator function could look like:"
      ]
     },
     "execution_count": 119,
     "metadata": {},
     "output_type": "execute_result"
    }
   ],
   "source": [
    "md\"Here is an example of how the basic calculator function could look like:\""
   ]
  },
  {
   "cell_type": "code",
   "execution_count": 120,
   "metadata": {},
   "outputs": [
    {
     "data": {
      "text/plain": [
       "calculator (generic function with 1 method)"
      ]
     },
     "execution_count": 120,
     "metadata": {},
     "output_type": "execute_result"
    }
   ],
   "source": [
    "function calculator(x::Number, y::Number, op::Char)\n",
    "    if op == '+'\n",
    "        return x + y\n",
    "    elseif op == '-'\n",
    "        return x - y\n",
    "    elseif op == '*'\n",
    "        return x * y\n",
    "    elseif op in ['/', '÷']\n",
    "        return x / y\n",
    "    else\n",
    "        return \"INVALID OPERATION\"\n",
    "    end\n",
    "end"
   ]
  },
  {
   "cell_type": "code",
   "execution_count": 121,
   "metadata": {},
   "outputs": [
    {
     "name": "stdout",
     "output_type": "stream",
     "text": [
      "Summation is 8\n",
      "Subtraction is 2\n",
      "Multiplication is 15\n",
      "Division is 1.6666666666666667\n",
      "INVALID OPERATION\n"
     ]
    }
   ],
   "source": [
    "println(\"Summation is $(calculator(5, 3, '+'))\")\n",
    "println(\"Subtraction is $(calculator(5, 3, '-'))\")\n",
    "println(\"Multiplication is $(calculator(5, 3, '*'))\")\n",
    "println(\"Division is $(calculator(5, 3, '÷'))\")\n",
    "println(calculator(5, 3, '×'))"
   ]
  },
  {
   "cell_type": "markdown",
   "metadata": {},
   "source": [
    "**Miscallenous**"
   ]
  },
  {
   "cell_type": "code",
   "execution_count": 122,
   "metadata": {
    "tags": []
   },
   "outputs": [
    {
     "name": "stdout",
     "output_type": "stream",
     "text": [
      "Julia Version 1.11.1\n",
      "Commit 8f5b7ca12ad (2024-10-16 10:53 UTC)\n",
      "Build Info:\n",
      "  Official https://julialang.org/ release\n",
      "Platform Info:\n",
      "  OS: Linux (x86_64-linux-gnu)\n",
      "  CPU: 8 × Intel(R) Core(TM) i7-8565U CPU @ 1.80GHz\n",
      "  WORD_SIZE: 64\n",
      "  LLVM: libLLVM-16.0.6 (ORCJIT, skylake)\n",
      "Threads: 1 default, 0 interactive, 1 GC (on 8 virtual cores)\n",
      "Environment:\n",
      "  LD_LIBRARY_PATH = /home/mhamdi/torch/install/lib:/home/mhamdi/torch/install/lib:/home/mhamdi/torch/install/lib:\n",
      "  DYLD_LIBRARY_PATH = /home/mhamdi/torch/install/lib:/home/mhamdi/torch/install/lib:/home/mhamdi/torch/install/lib:\n",
      "  JULIA_NUM_THREADS = 8\n"
     ]
    }
   ],
   "source": [
    "md\"Check your version of Julia\"\n",
    "versioninfo()"
   ]
  },
  {
   "cell_type": "code",
   "execution_count": 123,
   "metadata": {
    "tags": []
   },
   "outputs": [
    {
     "data": {
      "text/latex": [
       "The macro \\texttt{@edit} shows the defintion of a function when invoked with specific arguments\n",
       "\n"
      ],
      "text/markdown": [
       "The macro `@edit` shows the defintion of a function when invoked with specific arguments\n"
      ],
      "text/plain": [
       "  The macro \u001b[36m@edit\u001b[39m shows the defintion of a function when invoked with specific\n",
       "  arguments"
      ]
     },
     "execution_count": 123,
     "metadata": {},
     "output_type": "execute_result"
    }
   ],
   "source": [
    "md\"The macro `@edit` shows the defintion of a function when invoked with specific arguments\"\n",
    "# @edit maximum([-1, 0, 1])"
   ]
  },
  {
   "cell_type": "code",
   "execution_count": 124,
   "metadata": {
    "tags": []
   },
   "outputs": [
    {
     "data": {
      "text/latex": [
       "\\begin{tabular}\n",
       "{l | r | l}\n",
       "name & size & summary \\\\\n",
       "\\hline\n",
       "Base &  & Module \\\\\n",
       "Core &  & Module \\\\\n",
       "Foo & 0 bytes & Foo (generic function with 1 method) \\\\\n",
       "M & 208 bytes & 5×4 Matrix\\{Float64\\} \\\\\n",
       "Main &  & Module \\\\\n",
       "PLOTS\\_DEFAULTS & 384 bytes & Dict\\{Symbol, Symbol\\} with 1 entry \\\\\n",
       "a & 0 bytes & Irrational\\{:π\\} \\\\\n",
       "b & 0 bytes & Irrational\\{:π\\} \\\\\n",
       "bar & 0 bytes & bar (generic function with 1 method) \\\\\n",
       "calculator & 0 bytes & calculator (generic function with 1 method) \\\\\n",
       "col\\_idx & 44 bytes & 4-element Vector\\{Bool\\} \\\\\n",
       "df & 827 bytes & 4×3 DataFrame \\\\\n",
       "dict & 431 bytes & Dict\\{String, Int64\\} with 3 entries \\\\\n",
       "docs & 7.438 KiB & Markdown.MD \\\\\n",
       "f & 0 bytes & f (generic function with 4 methods) \\\\\n",
       "file & 380 bytes & IOStream \\\\\n",
       "foo & 0 bytes & foo (generic function with 4 methods) \\\\\n",
       "fruits & 160 bytes & 5-element Vector\\{String\\} \\\\\n",
       "g & 0 bytes & g (generic function with 1 method) \\\\\n",
       "h & 0 bytes & h (generic function with 1 method) \\\\\n",
       "i & 8 bytes & Int64 \\\\\n",
       "idx & 45 bytes & 5-element Vector\\{Bool\\} \\\\\n",
       "iter & 8 bytes & Int64 \\\\\n",
       "lst & 176 bytes & 5-element Vector\\{Any\\} \\\\\n",
       "mycos & 0 bytes & mycos (generic function with 2 methods) \\\\\n",
       "row\\_idx & 45 bytes & 5-element Vector\\{Bool\\} \\\\\n",
       "showall & 0 bytes & showall (generic function with 1 method) \\\\\n",
       "str & 19 bytes & 11-codeunit String \\\\\n",
       "tmp & 1 byte & UInt8 \\\\\n",
       "var & 80 bytes & 2×4 BitMatrix \\\\\n",
       "vegetables & 159 bytes & 5-element Vector\\{String\\} \\\\\n",
       "x & 120 bytes & 5-element Vector\\{ComplexF64\\} \\\\\n",
       "y & 781.289 KiB & 100000-element Vector\\{Float64\\} \\\\\n",
       "z & 768 bytes & 91-element Vector\\{Float64\\} \\\\\n",
       "\\end{tabular}\n"
      ],
      "text/markdown": [
       "| name           |        size | summary                                     |\n",
       "|:-------------- | -----------:|:------------------------------------------- |\n",
       "| Base           |             | Module                                      |\n",
       "| Core           |             | Module                                      |\n",
       "| Foo            |     0 bytes | Foo (generic function with 1 method)        |\n",
       "| M              |   208 bytes | 5×4 Matrix{Float64}                         |\n",
       "| Main           |             | Module                                      |\n",
       "| PLOTS_DEFAULTS |   384 bytes | Dict{Symbol, Symbol} with 1 entry           |\n",
       "| a              |     0 bytes | Irrational{:π}                              |\n",
       "| b              |     0 bytes | Irrational{:π}                              |\n",
       "| bar            |     0 bytes | bar (generic function with 1 method)        |\n",
       "| calculator     |     0 bytes | calculator (generic function with 1 method) |\n",
       "| col_idx        |    44 bytes | 4-element Vector{Bool}                      |\n",
       "| df             |   827 bytes | 4×3 DataFrame                               |\n",
       "| dict           |   431 bytes | Dict{String, Int64} with 3 entries          |\n",
       "| docs           |   7.438 KiB | Markdown.MD                                 |\n",
       "| f              |     0 bytes | f (generic function with 4 methods)         |\n",
       "| file           |   380 bytes | IOStream                                    |\n",
       "| foo            |     0 bytes | foo (generic function with 4 methods)       |\n",
       "| fruits         |   160 bytes | 5-element Vector{String}                    |\n",
       "| g              |     0 bytes | g (generic function with 1 method)          |\n",
       "| h              |     0 bytes | h (generic function with 1 method)          |\n",
       "| i              |     8 bytes | Int64                                       |\n",
       "| idx            |    45 bytes | 5-element Vector{Bool}                      |\n",
       "| iter           |     8 bytes | Int64                                       |\n",
       "| lst            |   176 bytes | 5-element Vector{Any}                       |\n",
       "| mycos          |     0 bytes | mycos (generic function with 2 methods)     |\n",
       "| row_idx        |    45 bytes | 5-element Vector{Bool}                      |\n",
       "| showall        |     0 bytes | showall (generic function with 1 method)    |\n",
       "| str            |    19 bytes | 11-codeunit String                          |\n",
       "| tmp            |      1 byte | UInt8                                       |\n",
       "| var            |    80 bytes | 2×4 BitMatrix                               |\n",
       "| vegetables     |   159 bytes | 5-element Vector{String}                    |\n",
       "| x              |   120 bytes | 5-element Vector{ComplexF64}                |\n",
       "| y              | 781.289 KiB | 100000-element Vector{Float64}              |\n",
       "| z              |   768 bytes | 91-element Vector{Float64}                  |\n"
      ],
      "text/plain": [
       "  name                  size summary                                    \n",
       "  –––––––––––––– ––––––––––– –––––––––––––––––––––––––––––––––––––––––––\n",
       "  Base                       Module                                     \n",
       "  Core                       Module                                     \n",
       "  Foo                0 bytes Foo (generic function with 1 method)       \n",
       "  M                208 bytes 5×4 Matrix{Float64}                        \n",
       "  Main                       Module                                     \n",
       "  PLOTS_DEFAULTS   384 bytes Dict{Symbol, Symbol} with 1 entry          \n",
       "  a                  0 bytes Irrational{:π}                             \n",
       "  b                  0 bytes Irrational{:π}                             \n",
       "  bar                0 bytes bar (generic function with 1 method)       \n",
       "  calculator         0 bytes calculator (generic function with 1 method)\n",
       "  col_idx           44 bytes 4-element Vector{Bool}                     \n",
       "  df               827 bytes 4×3 DataFrame                              \n",
       "  dict             431 bytes Dict{String, Int64} with 3 entries         \n",
       "  docs             7.438 KiB Markdown.MD                                \n",
       "  f                  0 bytes f (generic function with 4 methods)        \n",
       "  file             380 bytes IOStream                                   \n",
       "  foo                0 bytes foo (generic function with 4 methods)      \n",
       "  fruits           160 bytes 5-element Vector{String}                   \n",
       "  g                  0 bytes g (generic function with 1 method)         \n",
       "  h                  0 bytes h (generic function with 1 method)         \n",
       "  i                  8 bytes Int64                                      \n",
       "  idx               45 bytes 5-element Vector{Bool}                     \n",
       "  iter               8 bytes Int64                                      \n",
       "  lst              176 bytes 5-element Vector{Any}                      \n",
       "  mycos              0 bytes mycos (generic function with 2 methods)    \n",
       "  row_idx           45 bytes 5-element Vector{Bool}                     \n",
       "  showall            0 bytes showall (generic function with 1 method)   \n",
       "  str               19 bytes 11-codeunit String                         \n",
       "  tmp                 1 byte UInt8                                      \n",
       "  var               80 bytes 2×4 BitMatrix                              \n",
       "  vegetables       159 bytes 5-element Vector{String}                   \n",
       "  x                120 bytes 5-element Vector{ComplexF64}               \n",
       "  y              781.289 KiB 100000-element Vector{Float64}             \n",
       "  z                768 bytes 91-element Vector{Float64}                 "
      ]
     },
     "execution_count": 124,
     "metadata": {},
     "output_type": "execute_result"
    }
   ],
   "source": [
    "md\"`varinfo` lists all global variables and their corresponding types in the current scope\"\n",
    "varinfo()"
   ]
  },
  {
   "cell_type": "markdown",
   "metadata": {
    "tags": []
   },
   "source": [
    "_Modules_"
   ]
  },
  {
   "cell_type": "code",
   "execution_count": 125,
   "metadata": {
    "tags": []
   },
   "outputs": [
    {
     "data": {
      "text/plain": [
       "Main.MyModule"
      ]
     },
     "execution_count": 125,
     "metadata": {},
     "output_type": "execute_result"
    }
   ],
   "source": [
    "module MyModule\n",
    "export a\n",
    "a = 0\n",
    "b = true\n",
    "end"
   ]
  },
  {
   "cell_type": "code",
   "execution_count": 126,
   "metadata": {
    "tags": []
   },
   "outputs": [
    {
     "data": {
      "text/latex": [
       "\\begin{tabular}\n",
       "{l | r | l}\n",
       "name & size & summary \\\\\n",
       "\\hline\n",
       "MyModule & 2.234 KiB & Module \\\\\n",
       "a & 8 bytes & Int64 \\\\\n",
       "\\end{tabular}\n"
      ],
      "text/markdown": [
       "| name     |      size | summary |\n",
       "|:-------- | ---------:|:------- |\n",
       "| MyModule | 2.234 KiB | Module  |\n",
       "| a        |   8 bytes | Int64   |\n"
      ],
      "text/plain": [
       "  name          size summary\n",
       "  –––––––– ––––––––– –––––––\n",
       "  MyModule 2.234 KiB Module \n",
       "  a          8 bytes Int64  "
      ]
     },
     "execution_count": 126,
     "metadata": {},
     "output_type": "execute_result"
    }
   ],
   "source": [
    "varinfo(MyModule)"
   ]
  },
  {
   "cell_type": "code",
   "execution_count": 127,
   "metadata": {
    "tags": []
   },
   "outputs": [
    {
     "data": {
      "text/plain": [
       "π = 3.1415926535897..."
      ]
     },
     "execution_count": 127,
     "metadata": {},
     "output_type": "execute_result"
    }
   ],
   "source": [
    "a"
   ]
  },
  {
   "cell_type": "code",
   "execution_count": 128,
   "metadata": {
    "tags": []
   },
   "outputs": [
    {
     "data": {
      "text/plain": [
       "0"
      ]
     },
     "execution_count": 128,
     "metadata": {},
     "output_type": "execute_result"
    }
   ],
   "source": [
    "MyModule.a"
   ]
  },
  {
   "cell_type": "code",
   "execution_count": 129,
   "metadata": {
    "tags": []
   },
   "outputs": [
    {
     "data": {
      "text/plain": [
       "true"
      ]
     },
     "execution_count": 129,
     "metadata": {},
     "output_type": "execute_result"
    }
   ],
   "source": [
    "MyModule.b"
   ]
  },
  {
   "cell_type": "code",
   "execution_count": 130,
   "metadata": {},
   "outputs": [
    {
     "name": "stderr",
     "output_type": "stream",
     "text": [
      "WARNING: using MyModule.a in module Main conflicts with an existing identifier.\n"
     ]
    }
   ],
   "source": [
    "using .MyModule"
   ]
  },
  {
   "cell_type": "code",
   "execution_count": 131,
   "metadata": {},
   "outputs": [
    {
     "data": {
      "text/plain": [
       "(π, π)"
      ]
     },
     "execution_count": 131,
     "metadata": {},
     "output_type": "execute_result"
    }
   ],
   "source": [
    "a, b"
   ]
  },
  {
   "cell_type": "code",
   "execution_count": 132,
   "metadata": {},
   "outputs": [
    {
     "name": "stderr",
     "output_type": "stream",
     "text": [
      "WARNING: import of MyModule.b into Main conflicts with an existing identifier; ignored.\n"
     ]
    }
   ],
   "source": [
    "using .MyModule: b"
   ]
  },
  {
   "cell_type": "code",
   "execution_count": 133,
   "metadata": {},
   "outputs": [
    {
     "data": {
      "text/plain": [
       "π = 3.1415926535897..."
      ]
     },
     "execution_count": 133,
     "metadata": {},
     "output_type": "execute_result"
    }
   ],
   "source": [
    "b"
   ]
  }
 ],
 "metadata": {
  "kernelspec": {
   "display_name": "Julia 1.11.1",
   "language": "julia",
   "name": "julia-1.11"
  },
  "language_info": {
   "file_extension": ".jl",
   "mimetype": "application/julia",
   "name": "julia",
   "version": "1.11.1"
  }
 },
 "nbformat": 4,
 "nbformat_minor": 4
}
