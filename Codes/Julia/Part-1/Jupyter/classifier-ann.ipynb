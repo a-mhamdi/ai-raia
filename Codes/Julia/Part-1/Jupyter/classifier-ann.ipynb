{
 "cells": [
  {
   "cell_type": "markdown",
   "id": "5684bda6-fa6e-4513-9af3-4dfef7c92f77",
   "metadata": {},
   "source": [
    "# BINARY CLASSIFIER USING ANN: _CHURN MODELLING_\n",
    "---"
   ]
  },
  {
   "cell_type": "markdown",
   "id": "4f68724a-1ef3-4e01-b367-e4e4cb9b4a74",
   "metadata": {},
   "source": [
    "```julia\n",
    "versioninfo() # -> v\"1.11.1\"\n",
    "```"
   ]
  },
  {
   "cell_type": "code",
   "execution_count": 1,
   "id": "09302c8a-f8a7-4b16-9899-e9f5ebcc7a02",
   "metadata": {},
   "outputs": [],
   "source": [
    "cd(@__DIR__)"
   ]
  },
  {
   "cell_type": "code",
   "execution_count": 2,
   "id": "32a8a532-0ec9-45e8-a639-c7fb38537ad9",
   "metadata": {},
   "outputs": [
    {
     "name": "stderr",
     "output_type": "stream",
     "text": [
      "\u001b[32m\u001b[1m  Activating\u001b[22m\u001b[39m project at `~/Work/git-repos/AI-ML-DL/jlai/Codes/Julia/Part-1`\n"
     ]
    }
   ],
   "source": [
    "import Pkg; Pkg.activate(\"..\")"
   ]
  },
  {
   "cell_type": "markdown",
   "id": "9bd328e9-e599-46d3-9f5a-6775463d01e7",
   "metadata": {},
   "source": [
    "Import the required librairies"
   ]
  },
  {
   "cell_type": "code",
   "execution_count": 3,
   "id": "d6216baa-535b-4dba-ab81-1f7bcd05d5a6",
   "metadata": {},
   "outputs": [],
   "source": [
    "using CSV, DataFrames\n",
    "using MLJ\n",
    "using Flux"
   ]
  },
  {
   "cell_type": "markdown",
   "id": "2db8d68b-aa94-4fda-a6e2-74ee32886d74",
   "metadata": {},
   "source": [
    "Hyperparameters tuning"
   ]
  },
  {
   "cell_type": "code",
   "execution_count": 4,
   "id": "ac30a9a7-b52a-4d12-af4c-73c667330d02",
   "metadata": {},
   "outputs": [
    {
     "data": {
      "text/plain": [
       "(0.001, 100, 64)"
      ]
     },
     "execution_count": 4,
     "metadata": {},
     "output_type": "execute_result"
    }
   ],
   "source": [
    "η, epochs, batchsize = .001, 1_00, 64"
   ]
  },
  {
   "cell_type": "markdown",
   "id": "297fb7e2-efcf-4b78-827a-798fd36cc7e8",
   "metadata": {},
   "source": [
    "Load data for csv file"
   ]
  },
  {
   "cell_type": "code",
   "execution_count": 5,
   "id": "595844a3-4467-47d6-9f3b-4fe1ec36a55c",
   "metadata": {},
   "outputs": [
    {
     "data": {
      "text/html": [
       "<div><div style = \"float: left;\"><span>10000×14 DataFrame</span></div><div style = \"float: right;\"><span style = \"font-style: italic;\">9975 rows omitted</span></div><div style = \"clear: both;\"></div></div><div class = \"data-frame\" style = \"overflow-x: scroll;\"><table class = \"data-frame\" style = \"margin-bottom: 6px;\"><thead><tr class = \"header\"><th class = \"rowNumber\" style = \"font-weight: bold; text-align: right;\">Row</th><th style = \"text-align: left;\">RowNumber</th><th style = \"text-align: left;\">CustomerId</th><th style = \"text-align: left;\">Surname</th><th style = \"text-align: left;\">CreditScore</th><th style = \"text-align: left;\">Geography</th><th style = \"text-align: left;\">Gender</th><th style = \"text-align: left;\">Age</th><th style = \"text-align: left;\">Tenure</th><th style = \"text-align: left;\">Balance</th><th style = \"text-align: left;\">NumOfProducts</th><th style = \"text-align: left;\">HasCrCard</th><th style = \"text-align: left;\">IsActiveMember</th><th style = \"text-align: left;\">EstimatedSalary</th><th style = \"text-align: left;\">Exited</th></tr><tr class = \"subheader headerLastRow\"><th class = \"rowNumber\" style = \"font-weight: bold; text-align: right;\"></th><th title = \"Int64\" style = \"text-align: left;\">Int64</th><th title = \"Int64\" style = \"text-align: left;\">Int64</th><th title = \"String31\" style = \"text-align: left;\">String31</th><th title = \"Int64\" style = \"text-align: left;\">Int64</th><th title = \"String7\" style = \"text-align: left;\">String7</th><th title = \"String7\" style = \"text-align: left;\">String7</th><th title = \"Int64\" style = \"text-align: left;\">Int64</th><th title = \"Int64\" style = \"text-align: left;\">Int64</th><th title = \"Float64\" style = \"text-align: left;\">Float64</th><th title = \"Int64\" style = \"text-align: left;\">Int64</th><th title = \"Int64\" style = \"text-align: left;\">Int64</th><th title = \"Int64\" style = \"text-align: left;\">Int64</th><th title = \"Float64\" style = \"text-align: left;\">Float64</th><th title = \"Int64\" style = \"text-align: left;\">Int64</th></tr></thead><tbody><tr><td class = \"rowNumber\" style = \"font-weight: bold; text-align: right;\">1</td><td style = \"text-align: right;\">1</td><td style = \"text-align: right;\">15634602</td><td style = \"text-align: left;\">Hargrave</td><td style = \"text-align: right;\">619</td><td style = \"text-align: left;\">France</td><td style = \"text-align: left;\">Female</td><td style = \"text-align: right;\">42</td><td style = \"text-align: right;\">2</td><td style = \"text-align: right;\">0.0</td><td style = \"text-align: right;\">1</td><td style = \"text-align: right;\">1</td><td style = \"text-align: right;\">1</td><td style = \"text-align: right;\">1.01349e5</td><td style = \"text-align: right;\">1</td></tr><tr><td class = \"rowNumber\" style = \"font-weight: bold; text-align: right;\">2</td><td style = \"text-align: right;\">2</td><td style = \"text-align: right;\">15647311</td><td style = \"text-align: left;\">Hill</td><td style = \"text-align: right;\">608</td><td style = \"text-align: left;\">Spain</td><td style = \"text-align: left;\">Female</td><td style = \"text-align: right;\">41</td><td style = \"text-align: right;\">1</td><td style = \"text-align: right;\">83807.9</td><td style = \"text-align: right;\">1</td><td style = \"text-align: right;\">0</td><td style = \"text-align: right;\">1</td><td style = \"text-align: right;\">1.12543e5</td><td style = \"text-align: right;\">0</td></tr><tr><td class = \"rowNumber\" style = \"font-weight: bold; text-align: right;\">3</td><td style = \"text-align: right;\">3</td><td style = \"text-align: right;\">15619304</td><td style = \"text-align: left;\">Onio</td><td style = \"text-align: right;\">502</td><td style = \"text-align: left;\">France</td><td style = \"text-align: left;\">Female</td><td style = \"text-align: right;\">42</td><td style = \"text-align: right;\">8</td><td style = \"text-align: right;\">1.59661e5</td><td style = \"text-align: right;\">3</td><td style = \"text-align: right;\">1</td><td style = \"text-align: right;\">0</td><td style = \"text-align: right;\">1.13932e5</td><td style = \"text-align: right;\">1</td></tr><tr><td class = \"rowNumber\" style = \"font-weight: bold; text-align: right;\">4</td><td style = \"text-align: right;\">4</td><td style = \"text-align: right;\">15701354</td><td style = \"text-align: left;\">Boni</td><td style = \"text-align: right;\">699</td><td style = \"text-align: left;\">France</td><td style = \"text-align: left;\">Female</td><td style = \"text-align: right;\">39</td><td style = \"text-align: right;\">1</td><td style = \"text-align: right;\">0.0</td><td style = \"text-align: right;\">2</td><td style = \"text-align: right;\">0</td><td style = \"text-align: right;\">0</td><td style = \"text-align: right;\">93826.6</td><td style = \"text-align: right;\">0</td></tr><tr><td class = \"rowNumber\" style = \"font-weight: bold; text-align: right;\">5</td><td style = \"text-align: right;\">5</td><td style = \"text-align: right;\">15737888</td><td style = \"text-align: left;\">Mitchell</td><td style = \"text-align: right;\">850</td><td style = \"text-align: left;\">Spain</td><td style = \"text-align: left;\">Female</td><td style = \"text-align: right;\">43</td><td style = \"text-align: right;\">2</td><td style = \"text-align: right;\">1.25511e5</td><td style = \"text-align: right;\">1</td><td style = \"text-align: right;\">1</td><td style = \"text-align: right;\">1</td><td style = \"text-align: right;\">79084.1</td><td style = \"text-align: right;\">0</td></tr><tr><td class = \"rowNumber\" style = \"font-weight: bold; text-align: right;\">6</td><td style = \"text-align: right;\">6</td><td style = \"text-align: right;\">15574012</td><td style = \"text-align: left;\">Chu</td><td style = \"text-align: right;\">645</td><td style = \"text-align: left;\">Spain</td><td style = \"text-align: left;\">Male</td><td style = \"text-align: right;\">44</td><td style = \"text-align: right;\">8</td><td style = \"text-align: right;\">1.13756e5</td><td style = \"text-align: right;\">2</td><td style = \"text-align: right;\">1</td><td style = \"text-align: right;\">0</td><td style = \"text-align: right;\">1.49757e5</td><td style = \"text-align: right;\">1</td></tr><tr><td class = \"rowNumber\" style = \"font-weight: bold; text-align: right;\">7</td><td style = \"text-align: right;\">7</td><td style = \"text-align: right;\">15592531</td><td style = \"text-align: left;\">Bartlett</td><td style = \"text-align: right;\">822</td><td style = \"text-align: left;\">France</td><td style = \"text-align: left;\">Male</td><td style = \"text-align: right;\">50</td><td style = \"text-align: right;\">7</td><td style = \"text-align: right;\">0.0</td><td style = \"text-align: right;\">2</td><td style = \"text-align: right;\">1</td><td style = \"text-align: right;\">1</td><td style = \"text-align: right;\">10062.8</td><td style = \"text-align: right;\">0</td></tr><tr><td class = \"rowNumber\" style = \"font-weight: bold; text-align: right;\">8</td><td style = \"text-align: right;\">8</td><td style = \"text-align: right;\">15656148</td><td style = \"text-align: left;\">Obinna</td><td style = \"text-align: right;\">376</td><td style = \"text-align: left;\">Germany</td><td style = \"text-align: left;\">Female</td><td style = \"text-align: right;\">29</td><td style = \"text-align: right;\">4</td><td style = \"text-align: right;\">1.15047e5</td><td style = \"text-align: right;\">4</td><td style = \"text-align: right;\">1</td><td style = \"text-align: right;\">0</td><td style = \"text-align: right;\">1.19347e5</td><td style = \"text-align: right;\">1</td></tr><tr><td class = \"rowNumber\" style = \"font-weight: bold; text-align: right;\">9</td><td style = \"text-align: right;\">9</td><td style = \"text-align: right;\">15792365</td><td style = \"text-align: left;\">He</td><td style = \"text-align: right;\">501</td><td style = \"text-align: left;\">France</td><td style = \"text-align: left;\">Male</td><td style = \"text-align: right;\">44</td><td style = \"text-align: right;\">4</td><td style = \"text-align: right;\">1.42051e5</td><td style = \"text-align: right;\">2</td><td style = \"text-align: right;\">0</td><td style = \"text-align: right;\">1</td><td style = \"text-align: right;\">74940.5</td><td style = \"text-align: right;\">0</td></tr><tr><td class = \"rowNumber\" style = \"font-weight: bold; text-align: right;\">10</td><td style = \"text-align: right;\">10</td><td style = \"text-align: right;\">15592389</td><td style = \"text-align: left;\">H?</td><td style = \"text-align: right;\">684</td><td style = \"text-align: left;\">France</td><td style = \"text-align: left;\">Male</td><td style = \"text-align: right;\">27</td><td style = \"text-align: right;\">2</td><td style = \"text-align: right;\">1.34604e5</td><td style = \"text-align: right;\">1</td><td style = \"text-align: right;\">1</td><td style = \"text-align: right;\">1</td><td style = \"text-align: right;\">71725.7</td><td style = \"text-align: right;\">0</td></tr><tr><td class = \"rowNumber\" style = \"font-weight: bold; text-align: right;\">11</td><td style = \"text-align: right;\">11</td><td style = \"text-align: right;\">15767821</td><td style = \"text-align: left;\">Bearce</td><td style = \"text-align: right;\">528</td><td style = \"text-align: left;\">France</td><td style = \"text-align: left;\">Male</td><td style = \"text-align: right;\">31</td><td style = \"text-align: right;\">6</td><td style = \"text-align: right;\">1.02017e5</td><td style = \"text-align: right;\">2</td><td style = \"text-align: right;\">0</td><td style = \"text-align: right;\">0</td><td style = \"text-align: right;\">80181.1</td><td style = \"text-align: right;\">0</td></tr><tr><td class = \"rowNumber\" style = \"font-weight: bold; text-align: right;\">12</td><td style = \"text-align: right;\">12</td><td style = \"text-align: right;\">15737173</td><td style = \"text-align: left;\">Andrews</td><td style = \"text-align: right;\">497</td><td style = \"text-align: left;\">Spain</td><td style = \"text-align: left;\">Male</td><td style = \"text-align: right;\">24</td><td style = \"text-align: right;\">3</td><td style = \"text-align: right;\">0.0</td><td style = \"text-align: right;\">2</td><td style = \"text-align: right;\">1</td><td style = \"text-align: right;\">0</td><td style = \"text-align: right;\">76390.0</td><td style = \"text-align: right;\">0</td></tr><tr><td class = \"rowNumber\" style = \"font-weight: bold; text-align: right;\">13</td><td style = \"text-align: right;\">13</td><td style = \"text-align: right;\">15632264</td><td style = \"text-align: left;\">Kay</td><td style = \"text-align: right;\">476</td><td style = \"text-align: left;\">France</td><td style = \"text-align: left;\">Female</td><td style = \"text-align: right;\">34</td><td style = \"text-align: right;\">10</td><td style = \"text-align: right;\">0.0</td><td style = \"text-align: right;\">2</td><td style = \"text-align: right;\">1</td><td style = \"text-align: right;\">0</td><td style = \"text-align: right;\">26261.0</td><td style = \"text-align: right;\">0</td></tr><tr><td style = \"text-align: right;\">&vellip;</td><td style = \"text-align: right;\">&vellip;</td><td style = \"text-align: right;\">&vellip;</td><td style = \"text-align: right;\">&vellip;</td><td style = \"text-align: right;\">&vellip;</td><td style = \"text-align: right;\">&vellip;</td><td style = \"text-align: right;\">&vellip;</td><td style = \"text-align: right;\">&vellip;</td><td style = \"text-align: right;\">&vellip;</td><td style = \"text-align: right;\">&vellip;</td><td style = \"text-align: right;\">&vellip;</td><td style = \"text-align: right;\">&vellip;</td><td style = \"text-align: right;\">&vellip;</td><td style = \"text-align: right;\">&vellip;</td><td style = \"text-align: right;\">&vellip;</td></tr><tr><td class = \"rowNumber\" style = \"font-weight: bold; text-align: right;\">9989</td><td style = \"text-align: right;\">9989</td><td style = \"text-align: right;\">15589329</td><td style = \"text-align: left;\">Pirozzi</td><td style = \"text-align: right;\">775</td><td style = \"text-align: left;\">France</td><td style = \"text-align: left;\">Male</td><td style = \"text-align: right;\">30</td><td style = \"text-align: right;\">4</td><td style = \"text-align: right;\">0.0</td><td style = \"text-align: right;\">2</td><td style = \"text-align: right;\">1</td><td style = \"text-align: right;\">0</td><td style = \"text-align: right;\">49337.8</td><td style = \"text-align: right;\">0</td></tr><tr><td class = \"rowNumber\" style = \"font-weight: bold; text-align: right;\">9990</td><td style = \"text-align: right;\">9990</td><td style = \"text-align: right;\">15605622</td><td style = \"text-align: left;\">McMillan</td><td style = \"text-align: right;\">841</td><td style = \"text-align: left;\">Spain</td><td style = \"text-align: left;\">Male</td><td style = \"text-align: right;\">28</td><td style = \"text-align: right;\">4</td><td style = \"text-align: right;\">0.0</td><td style = \"text-align: right;\">2</td><td style = \"text-align: right;\">1</td><td style = \"text-align: right;\">1</td><td style = \"text-align: right;\">1.79437e5</td><td style = \"text-align: right;\">0</td></tr><tr><td class = \"rowNumber\" style = \"font-weight: bold; text-align: right;\">9991</td><td style = \"text-align: right;\">9991</td><td style = \"text-align: right;\">15798964</td><td style = \"text-align: left;\">Nkemakonam</td><td style = \"text-align: right;\">714</td><td style = \"text-align: left;\">Germany</td><td style = \"text-align: left;\">Male</td><td style = \"text-align: right;\">33</td><td style = \"text-align: right;\">3</td><td style = \"text-align: right;\">35016.6</td><td style = \"text-align: right;\">1</td><td style = \"text-align: right;\">1</td><td style = \"text-align: right;\">0</td><td style = \"text-align: right;\">53667.1</td><td style = \"text-align: right;\">0</td></tr><tr><td class = \"rowNumber\" style = \"font-weight: bold; text-align: right;\">9992</td><td style = \"text-align: right;\">9992</td><td style = \"text-align: right;\">15769959</td><td style = \"text-align: left;\">Ajuluchukwu</td><td style = \"text-align: right;\">597</td><td style = \"text-align: left;\">France</td><td style = \"text-align: left;\">Female</td><td style = \"text-align: right;\">53</td><td style = \"text-align: right;\">4</td><td style = \"text-align: right;\">88381.2</td><td style = \"text-align: right;\">1</td><td style = \"text-align: right;\">1</td><td style = \"text-align: right;\">0</td><td style = \"text-align: right;\">69384.7</td><td style = \"text-align: right;\">1</td></tr><tr><td class = \"rowNumber\" style = \"font-weight: bold; text-align: right;\">9993</td><td style = \"text-align: right;\">9993</td><td style = \"text-align: right;\">15657105</td><td style = \"text-align: left;\">Chukwualuka</td><td style = \"text-align: right;\">726</td><td style = \"text-align: left;\">Spain</td><td style = \"text-align: left;\">Male</td><td style = \"text-align: right;\">36</td><td style = \"text-align: right;\">2</td><td style = \"text-align: right;\">0.0</td><td style = \"text-align: right;\">1</td><td style = \"text-align: right;\">1</td><td style = \"text-align: right;\">0</td><td style = \"text-align: right;\">1.95192e5</td><td style = \"text-align: right;\">0</td></tr><tr><td class = \"rowNumber\" style = \"font-weight: bold; text-align: right;\">9994</td><td style = \"text-align: right;\">9994</td><td style = \"text-align: right;\">15569266</td><td style = \"text-align: left;\">Rahman</td><td style = \"text-align: right;\">644</td><td style = \"text-align: left;\">France</td><td style = \"text-align: left;\">Male</td><td style = \"text-align: right;\">28</td><td style = \"text-align: right;\">7</td><td style = \"text-align: right;\">1.5506e5</td><td style = \"text-align: right;\">1</td><td style = \"text-align: right;\">1</td><td style = \"text-align: right;\">0</td><td style = \"text-align: right;\">29179.5</td><td style = \"text-align: right;\">0</td></tr><tr><td class = \"rowNumber\" style = \"font-weight: bold; text-align: right;\">9995</td><td style = \"text-align: right;\">9995</td><td style = \"text-align: right;\">15719294</td><td style = \"text-align: left;\">Wood</td><td style = \"text-align: right;\">800</td><td style = \"text-align: left;\">France</td><td style = \"text-align: left;\">Female</td><td style = \"text-align: right;\">29</td><td style = \"text-align: right;\">2</td><td style = \"text-align: right;\">0.0</td><td style = \"text-align: right;\">2</td><td style = \"text-align: right;\">0</td><td style = \"text-align: right;\">0</td><td style = \"text-align: right;\">1.67774e5</td><td style = \"text-align: right;\">0</td></tr><tr><td class = \"rowNumber\" style = \"font-weight: bold; text-align: right;\">9996</td><td style = \"text-align: right;\">9996</td><td style = \"text-align: right;\">15606229</td><td style = \"text-align: left;\">Obijiaku</td><td style = \"text-align: right;\">771</td><td style = \"text-align: left;\">France</td><td style = \"text-align: left;\">Male</td><td style = \"text-align: right;\">39</td><td style = \"text-align: right;\">5</td><td style = \"text-align: right;\">0.0</td><td style = \"text-align: right;\">2</td><td style = \"text-align: right;\">1</td><td style = \"text-align: right;\">0</td><td style = \"text-align: right;\">96270.6</td><td style = \"text-align: right;\">0</td></tr><tr><td class = \"rowNumber\" style = \"font-weight: bold; text-align: right;\">9997</td><td style = \"text-align: right;\">9997</td><td style = \"text-align: right;\">15569892</td><td style = \"text-align: left;\">Johnstone</td><td style = \"text-align: right;\">516</td><td style = \"text-align: left;\">France</td><td style = \"text-align: left;\">Male</td><td style = \"text-align: right;\">35</td><td style = \"text-align: right;\">10</td><td style = \"text-align: right;\">57369.6</td><td style = \"text-align: right;\">1</td><td style = \"text-align: right;\">1</td><td style = \"text-align: right;\">1</td><td style = \"text-align: right;\">1.017e5</td><td style = \"text-align: right;\">0</td></tr><tr><td class = \"rowNumber\" style = \"font-weight: bold; text-align: right;\">9998</td><td style = \"text-align: right;\">9998</td><td style = \"text-align: right;\">15584532</td><td style = \"text-align: left;\">Liu</td><td style = \"text-align: right;\">709</td><td style = \"text-align: left;\">France</td><td style = \"text-align: left;\">Female</td><td style = \"text-align: right;\">36</td><td style = \"text-align: right;\">7</td><td style = \"text-align: right;\">0.0</td><td style = \"text-align: right;\">1</td><td style = \"text-align: right;\">0</td><td style = \"text-align: right;\">1</td><td style = \"text-align: right;\">42085.6</td><td style = \"text-align: right;\">1</td></tr><tr><td class = \"rowNumber\" style = \"font-weight: bold; text-align: right;\">9999</td><td style = \"text-align: right;\">9999</td><td style = \"text-align: right;\">15682355</td><td style = \"text-align: left;\">Sabbatini</td><td style = \"text-align: right;\">772</td><td style = \"text-align: left;\">Germany</td><td style = \"text-align: left;\">Male</td><td style = \"text-align: right;\">42</td><td style = \"text-align: right;\">3</td><td style = \"text-align: right;\">75075.3</td><td style = \"text-align: right;\">2</td><td style = \"text-align: right;\">1</td><td style = \"text-align: right;\">0</td><td style = \"text-align: right;\">92888.5</td><td style = \"text-align: right;\">1</td></tr><tr><td class = \"rowNumber\" style = \"font-weight: bold; text-align: right;\">10000</td><td style = \"text-align: right;\">10000</td><td style = \"text-align: right;\">15628319</td><td style = \"text-align: left;\">Walker</td><td style = \"text-align: right;\">792</td><td style = \"text-align: left;\">France</td><td style = \"text-align: left;\">Female</td><td style = \"text-align: right;\">28</td><td style = \"text-align: right;\">4</td><td style = \"text-align: right;\">1.30143e5</td><td style = \"text-align: right;\">1</td><td style = \"text-align: right;\">1</td><td style = \"text-align: right;\">0</td><td style = \"text-align: right;\">38190.8</td><td style = \"text-align: right;\">0</td></tr></tbody></table></div>"
      ],
      "text/latex": [
       "\\begin{tabular}{r|ccccccccc}\n",
       "\t& RowNumber & CustomerId & Surname & CreditScore & Geography & Gender & Age & Tenure & \\\\\n",
       "\t\\hline\n",
       "\t& Int64 & Int64 & String31 & Int64 & String7 & String7 & Int64 & Int64 & \\\\\n",
       "\t\\hline\n",
       "\t1 & 1 & 15634602 & Hargrave & 619 & France & Female & 42 & 2 & $\\dots$ \\\\\n",
       "\t2 & 2 & 15647311 & Hill & 608 & Spain & Female & 41 & 1 & $\\dots$ \\\\\n",
       "\t3 & 3 & 15619304 & Onio & 502 & France & Female & 42 & 8 & $\\dots$ \\\\\n",
       "\t4 & 4 & 15701354 & Boni & 699 & France & Female & 39 & 1 & $\\dots$ \\\\\n",
       "\t5 & 5 & 15737888 & Mitchell & 850 & Spain & Female & 43 & 2 & $\\dots$ \\\\\n",
       "\t6 & 6 & 15574012 & Chu & 645 & Spain & Male & 44 & 8 & $\\dots$ \\\\\n",
       "\t7 & 7 & 15592531 & Bartlett & 822 & France & Male & 50 & 7 & $\\dots$ \\\\\n",
       "\t8 & 8 & 15656148 & Obinna & 376 & Germany & Female & 29 & 4 & $\\dots$ \\\\\n",
       "\t9 & 9 & 15792365 & He & 501 & France & Male & 44 & 4 & $\\dots$ \\\\\n",
       "\t10 & 10 & 15592389 & H? & 684 & France & Male & 27 & 2 & $\\dots$ \\\\\n",
       "\t11 & 11 & 15767821 & Bearce & 528 & France & Male & 31 & 6 & $\\dots$ \\\\\n",
       "\t12 & 12 & 15737173 & Andrews & 497 & Spain & Male & 24 & 3 & $\\dots$ \\\\\n",
       "\t13 & 13 & 15632264 & Kay & 476 & France & Female & 34 & 10 & $\\dots$ \\\\\n",
       "\t14 & 14 & 15691483 & Chin & 549 & France & Female & 25 & 5 & $\\dots$ \\\\\n",
       "\t15 & 15 & 15600882 & Scott & 635 & Spain & Female & 35 & 7 & $\\dots$ \\\\\n",
       "\t16 & 16 & 15643966 & Goforth & 616 & Germany & Male & 45 & 3 & $\\dots$ \\\\\n",
       "\t17 & 17 & 15737452 & Romeo & 653 & Germany & Male & 58 & 1 & $\\dots$ \\\\\n",
       "\t18 & 18 & 15788218 & Henderson & 549 & Spain & Female & 24 & 9 & $\\dots$ \\\\\n",
       "\t19 & 19 & 15661507 & Muldrow & 587 & Spain & Male & 45 & 6 & $\\dots$ \\\\\n",
       "\t20 & 20 & 15568982 & Hao & 726 & France & Female & 24 & 6 & $\\dots$ \\\\\n",
       "\t21 & 21 & 15577657 & McDonald & 732 & France & Male & 41 & 8 & $\\dots$ \\\\\n",
       "\t22 & 22 & 15597945 & Dellucci & 636 & Spain & Female & 32 & 8 & $\\dots$ \\\\\n",
       "\t23 & 23 & 15699309 & Gerasimov & 510 & Spain & Female & 38 & 4 & $\\dots$ \\\\\n",
       "\t24 & 24 & 15725737 & Mosman & 669 & France & Male & 46 & 3 & $\\dots$ \\\\\n",
       "\t25 & 25 & 15625047 & Yen & 846 & France & Female & 38 & 5 & $\\dots$ \\\\\n",
       "\t26 & 26 & 15738191 & Maclean & 577 & France & Male & 25 & 3 & $\\dots$ \\\\\n",
       "\t27 & 27 & 15736816 & Young & 756 & Germany & Male & 36 & 2 & $\\dots$ \\\\\n",
       "\t28 & 28 & 15700772 & Nebechi & 571 & France & Male & 44 & 9 & $\\dots$ \\\\\n",
       "\t29 & 29 & 15728693 & McWilliams & 574 & Germany & Female & 43 & 3 & $\\dots$ \\\\\n",
       "\t30 & 30 & 15656300 & Lucciano & 411 & France & Male & 29 & 0 & $\\dots$ \\\\\n",
       "\t$\\dots$ & $\\dots$ & $\\dots$ & $\\dots$ & $\\dots$ & $\\dots$ & $\\dots$ & $\\dots$ & $\\dots$ &  \\\\\n",
       "\\end{tabular}\n"
      ],
      "text/plain": [
       "\u001b[1m10000×14 DataFrame\u001b[0m\n",
       "\u001b[1m   Row \u001b[0m│\u001b[1m RowNumber \u001b[0m\u001b[1m CustomerId \u001b[0m\u001b[1m Surname     \u001b[0m\u001b[1m CreditScore \u001b[0m\u001b[1m Geography \u001b[0m\u001b[1m Gender  \u001b[0m\u001b[1m \u001b[0m ⋯\n",
       "       │\u001b[90m Int64     \u001b[0m\u001b[90m Int64      \u001b[0m\u001b[90m String31    \u001b[0m\u001b[90m Int64       \u001b[0m\u001b[90m String7   \u001b[0m\u001b[90m String7 \u001b[0m\u001b[90m \u001b[0m ⋯\n",
       "───────┼────────────────────────────────────────────────────────────────────────\n",
       "     1 │         1    15634602  Hargrave             619  France     Female    ⋯\n",
       "     2 │         2    15647311  Hill                 608  Spain      Female\n",
       "     3 │         3    15619304  Onio                 502  France     Female\n",
       "     4 │         4    15701354  Boni                 699  France     Female\n",
       "     5 │         5    15737888  Mitchell             850  Spain      Female    ⋯\n",
       "     6 │         6    15574012  Chu                  645  Spain      Male\n",
       "     7 │         7    15592531  Bartlett             822  France     Male\n",
       "     8 │         8    15656148  Obinna               376  Germany    Female\n",
       "     9 │         9    15792365  He                   501  France     Male      ⋯\n",
       "    10 │        10    15592389  H?                   684  France     Male\n",
       "    11 │        11    15767821  Bearce               528  France     Male\n",
       "   ⋮   │     ⋮          ⋮            ⋮            ⋮           ⋮         ⋮      ⋱\n",
       "  9991 │      9991    15798964  Nkemakonam           714  Germany    Male\n",
       "  9992 │      9992    15769959  Ajuluchukwu          597  France     Female    ⋯\n",
       "  9993 │      9993    15657105  Chukwualuka          726  Spain      Male\n",
       "  9994 │      9994    15569266  Rahman               644  France     Male\n",
       "  9995 │      9995    15719294  Wood                 800  France     Female\n",
       "  9996 │      9996    15606229  Obijiaku             771  France     Male      ⋯\n",
       "  9997 │      9997    15569892  Johnstone            516  France     Male\n",
       "  9998 │      9998    15584532  Liu                  709  France     Female\n",
       "  9999 │      9999    15682355  Sabbatini            772  Germany    Male\n",
       " 10000 │     10000    15628319  Walker               792  France     Female    ⋯\n",
       "\u001b[36m                                                 8 columns and 9979 rows omitted\u001b[0m"
      ]
     },
     "execution_count": 5,
     "metadata": {},
     "output_type": "execute_result"
    }
   ],
   "source": [
    "df = CSV.read(\"../../Datasets/Churn_Modelling.csv\", DataFrame)"
   ]
  },
  {
   "cell_type": "markdown",
   "id": "659c1636-8d64-49d9-96af-aab3eaf90ed3",
   "metadata": {},
   "source": [
    "Choose the target vector `y`"
   ]
  },
  {
   "cell_type": "code",
   "execution_count": 6,
   "id": "18a7c132-539e-4fbc-b7d3-b7afbc6d4d6d",
   "metadata": {},
   "outputs": [
    {
     "data": {
      "text/plain": [
       "5-element Vector{Int64}:\n",
       " 1\n",
       " 0\n",
       " 1\n",
       " 0\n",
       " 0"
      ]
     },
     "execution_count": 6,
     "metadata": {},
     "output_type": "execute_result"
    }
   ],
   "source": [
    "ydf = select(df, :Exited)\n",
    "#coerce!(ydf, :Exited => Multiclass)\n",
    "y = ydf.Exited\n",
    "first(y, 5)"
   ]
  },
  {
   "cell_type": "markdown",
   "id": "32c96371-1f10-46a2-9bde-39d5cd3f4451",
   "metadata": {},
   "source": [
    "Specify the features matrix `X`"
   ]
  },
  {
   "cell_type": "code",
   "execution_count": 7,
   "id": "3e5cb008-7673-412e-902b-2ea651aace9a",
   "metadata": {},
   "outputs": [
    {
     "data": {
      "text/html": [
       "<div><div style = \"float: left;\"><span>10000×10 DataFrame</span></div><div style = \"float: right;\"><span style = \"font-style: italic;\">9975 rows omitted</span></div><div style = \"clear: both;\"></div></div><div class = \"data-frame\" style = \"overflow-x: scroll;\"><table class = \"data-frame\" style = \"margin-bottom: 6px;\"><thead><tr class = \"header\"><th class = \"rowNumber\" style = \"font-weight: bold; text-align: right;\">Row</th><th style = \"text-align: left;\">CreditScore</th><th style = \"text-align: left;\">Geography</th><th style = \"text-align: left;\">Gender</th><th style = \"text-align: left;\">Age</th><th style = \"text-align: left;\">Tenure</th><th style = \"text-align: left;\">Balance</th><th style = \"text-align: left;\">NumOfProducts</th><th style = \"text-align: left;\">HasCrCard</th><th style = \"text-align: left;\">IsActiveMember</th><th style = \"text-align: left;\">EstimatedSalary</th></tr><tr class = \"subheader headerLastRow\"><th class = \"rowNumber\" style = \"font-weight: bold; text-align: right;\"></th><th title = \"Int64\" style = \"text-align: left;\">Int64</th><th title = \"CategoricalArrays.CategoricalValue{String7, UInt32}\" style = \"text-align: left;\">Cat…</th><th title = \"CategoricalArrays.CategoricalValue{String7, UInt32}\" style = \"text-align: left;\">Cat…</th><th title = \"Int64\" style = \"text-align: left;\">Int64</th><th title = \"Int64\" style = \"text-align: left;\">Int64</th><th title = \"Float64\" style = \"text-align: left;\">Float64</th><th title = \"Int64\" style = \"text-align: left;\">Int64</th><th title = \"Int64\" style = \"text-align: left;\">Int64</th><th title = \"Int64\" style = \"text-align: left;\">Int64</th><th title = \"Float64\" style = \"text-align: left;\">Float64</th></tr></thead><tbody><tr><td class = \"rowNumber\" style = \"font-weight: bold; text-align: right;\">1</td><td style = \"text-align: right;\">619</td><td style = \"text-align: left;\">France</td><td style = \"text-align: left;\">Female</td><td style = \"text-align: right;\">42</td><td style = \"text-align: right;\">2</td><td style = \"text-align: right;\">0.0</td><td style = \"text-align: right;\">1</td><td style = \"text-align: right;\">1</td><td style = \"text-align: right;\">1</td><td style = \"text-align: right;\">1.01349e5</td></tr><tr><td class = \"rowNumber\" style = \"font-weight: bold; text-align: right;\">2</td><td style = \"text-align: right;\">608</td><td style = \"text-align: left;\">Spain</td><td style = \"text-align: left;\">Female</td><td style = \"text-align: right;\">41</td><td style = \"text-align: right;\">1</td><td style = \"text-align: right;\">83807.9</td><td style = \"text-align: right;\">1</td><td style = \"text-align: right;\">0</td><td style = \"text-align: right;\">1</td><td style = \"text-align: right;\">1.12543e5</td></tr><tr><td class = \"rowNumber\" style = \"font-weight: bold; text-align: right;\">3</td><td style = \"text-align: right;\">502</td><td style = \"text-align: left;\">France</td><td style = \"text-align: left;\">Female</td><td style = \"text-align: right;\">42</td><td style = \"text-align: right;\">8</td><td style = \"text-align: right;\">1.59661e5</td><td style = \"text-align: right;\">3</td><td style = \"text-align: right;\">1</td><td style = \"text-align: right;\">0</td><td style = \"text-align: right;\">1.13932e5</td></tr><tr><td class = \"rowNumber\" style = \"font-weight: bold; text-align: right;\">4</td><td style = \"text-align: right;\">699</td><td style = \"text-align: left;\">France</td><td style = \"text-align: left;\">Female</td><td style = \"text-align: right;\">39</td><td style = \"text-align: right;\">1</td><td style = \"text-align: right;\">0.0</td><td style = \"text-align: right;\">2</td><td style = \"text-align: right;\">0</td><td style = \"text-align: right;\">0</td><td style = \"text-align: right;\">93826.6</td></tr><tr><td class = \"rowNumber\" style = \"font-weight: bold; text-align: right;\">5</td><td style = \"text-align: right;\">850</td><td style = \"text-align: left;\">Spain</td><td style = \"text-align: left;\">Female</td><td style = \"text-align: right;\">43</td><td style = \"text-align: right;\">2</td><td style = \"text-align: right;\">1.25511e5</td><td style = \"text-align: right;\">1</td><td style = \"text-align: right;\">1</td><td style = \"text-align: right;\">1</td><td style = \"text-align: right;\">79084.1</td></tr><tr><td class = \"rowNumber\" style = \"font-weight: bold; text-align: right;\">6</td><td style = \"text-align: right;\">645</td><td style = \"text-align: left;\">Spain</td><td style = \"text-align: left;\">Male</td><td style = \"text-align: right;\">44</td><td style = \"text-align: right;\">8</td><td style = \"text-align: right;\">1.13756e5</td><td style = \"text-align: right;\">2</td><td style = \"text-align: right;\">1</td><td style = \"text-align: right;\">0</td><td style = \"text-align: right;\">1.49757e5</td></tr><tr><td class = \"rowNumber\" style = \"font-weight: bold; text-align: right;\">7</td><td style = \"text-align: right;\">822</td><td style = \"text-align: left;\">France</td><td style = \"text-align: left;\">Male</td><td style = \"text-align: right;\">50</td><td style = \"text-align: right;\">7</td><td style = \"text-align: right;\">0.0</td><td style = \"text-align: right;\">2</td><td style = \"text-align: right;\">1</td><td style = \"text-align: right;\">1</td><td style = \"text-align: right;\">10062.8</td></tr><tr><td class = \"rowNumber\" style = \"font-weight: bold; text-align: right;\">8</td><td style = \"text-align: right;\">376</td><td style = \"text-align: left;\">Germany</td><td style = \"text-align: left;\">Female</td><td style = \"text-align: right;\">29</td><td style = \"text-align: right;\">4</td><td style = \"text-align: right;\">1.15047e5</td><td style = \"text-align: right;\">4</td><td style = \"text-align: right;\">1</td><td style = \"text-align: right;\">0</td><td style = \"text-align: right;\">1.19347e5</td></tr><tr><td class = \"rowNumber\" style = \"font-weight: bold; text-align: right;\">9</td><td style = \"text-align: right;\">501</td><td style = \"text-align: left;\">France</td><td style = \"text-align: left;\">Male</td><td style = \"text-align: right;\">44</td><td style = \"text-align: right;\">4</td><td style = \"text-align: right;\">1.42051e5</td><td style = \"text-align: right;\">2</td><td style = \"text-align: right;\">0</td><td style = \"text-align: right;\">1</td><td style = \"text-align: right;\">74940.5</td></tr><tr><td class = \"rowNumber\" style = \"font-weight: bold; text-align: right;\">10</td><td style = \"text-align: right;\">684</td><td style = \"text-align: left;\">France</td><td style = \"text-align: left;\">Male</td><td style = \"text-align: right;\">27</td><td style = \"text-align: right;\">2</td><td style = \"text-align: right;\">1.34604e5</td><td style = \"text-align: right;\">1</td><td style = \"text-align: right;\">1</td><td style = \"text-align: right;\">1</td><td style = \"text-align: right;\">71725.7</td></tr><tr><td class = \"rowNumber\" style = \"font-weight: bold; text-align: right;\">11</td><td style = \"text-align: right;\">528</td><td style = \"text-align: left;\">France</td><td style = \"text-align: left;\">Male</td><td style = \"text-align: right;\">31</td><td style = \"text-align: right;\">6</td><td style = \"text-align: right;\">1.02017e5</td><td style = \"text-align: right;\">2</td><td style = \"text-align: right;\">0</td><td style = \"text-align: right;\">0</td><td style = \"text-align: right;\">80181.1</td></tr><tr><td class = \"rowNumber\" style = \"font-weight: bold; text-align: right;\">12</td><td style = \"text-align: right;\">497</td><td style = \"text-align: left;\">Spain</td><td style = \"text-align: left;\">Male</td><td style = \"text-align: right;\">24</td><td style = \"text-align: right;\">3</td><td style = \"text-align: right;\">0.0</td><td style = \"text-align: right;\">2</td><td style = \"text-align: right;\">1</td><td style = \"text-align: right;\">0</td><td style = \"text-align: right;\">76390.0</td></tr><tr><td class = \"rowNumber\" style = \"font-weight: bold; text-align: right;\">13</td><td style = \"text-align: right;\">476</td><td style = \"text-align: left;\">France</td><td style = \"text-align: left;\">Female</td><td style = \"text-align: right;\">34</td><td style = \"text-align: right;\">10</td><td style = \"text-align: right;\">0.0</td><td style = \"text-align: right;\">2</td><td style = \"text-align: right;\">1</td><td style = \"text-align: right;\">0</td><td style = \"text-align: right;\">26261.0</td></tr><tr><td style = \"text-align: right;\">&vellip;</td><td style = \"text-align: right;\">&vellip;</td><td style = \"text-align: right;\">&vellip;</td><td style = \"text-align: right;\">&vellip;</td><td style = \"text-align: right;\">&vellip;</td><td style = \"text-align: right;\">&vellip;</td><td style = \"text-align: right;\">&vellip;</td><td style = \"text-align: right;\">&vellip;</td><td style = \"text-align: right;\">&vellip;</td><td style = \"text-align: right;\">&vellip;</td><td style = \"text-align: right;\">&vellip;</td></tr><tr><td class = \"rowNumber\" style = \"font-weight: bold; text-align: right;\">9989</td><td style = \"text-align: right;\">775</td><td style = \"text-align: left;\">France</td><td style = \"text-align: left;\">Male</td><td style = \"text-align: right;\">30</td><td style = \"text-align: right;\">4</td><td style = \"text-align: right;\">0.0</td><td style = \"text-align: right;\">2</td><td style = \"text-align: right;\">1</td><td style = \"text-align: right;\">0</td><td style = \"text-align: right;\">49337.8</td></tr><tr><td class = \"rowNumber\" style = \"font-weight: bold; text-align: right;\">9990</td><td style = \"text-align: right;\">841</td><td style = \"text-align: left;\">Spain</td><td style = \"text-align: left;\">Male</td><td style = \"text-align: right;\">28</td><td style = \"text-align: right;\">4</td><td style = \"text-align: right;\">0.0</td><td style = \"text-align: right;\">2</td><td style = \"text-align: right;\">1</td><td style = \"text-align: right;\">1</td><td style = \"text-align: right;\">1.79437e5</td></tr><tr><td class = \"rowNumber\" style = \"font-weight: bold; text-align: right;\">9991</td><td style = \"text-align: right;\">714</td><td style = \"text-align: left;\">Germany</td><td style = \"text-align: left;\">Male</td><td style = \"text-align: right;\">33</td><td style = \"text-align: right;\">3</td><td style = \"text-align: right;\">35016.6</td><td style = \"text-align: right;\">1</td><td style = \"text-align: right;\">1</td><td style = \"text-align: right;\">0</td><td style = \"text-align: right;\">53667.1</td></tr><tr><td class = \"rowNumber\" style = \"font-weight: bold; text-align: right;\">9992</td><td style = \"text-align: right;\">597</td><td style = \"text-align: left;\">France</td><td style = \"text-align: left;\">Female</td><td style = \"text-align: right;\">53</td><td style = \"text-align: right;\">4</td><td style = \"text-align: right;\">88381.2</td><td style = \"text-align: right;\">1</td><td style = \"text-align: right;\">1</td><td style = \"text-align: right;\">0</td><td style = \"text-align: right;\">69384.7</td></tr><tr><td class = \"rowNumber\" style = \"font-weight: bold; text-align: right;\">9993</td><td style = \"text-align: right;\">726</td><td style = \"text-align: left;\">Spain</td><td style = \"text-align: left;\">Male</td><td style = \"text-align: right;\">36</td><td style = \"text-align: right;\">2</td><td style = \"text-align: right;\">0.0</td><td style = \"text-align: right;\">1</td><td style = \"text-align: right;\">1</td><td style = \"text-align: right;\">0</td><td style = \"text-align: right;\">1.95192e5</td></tr><tr><td class = \"rowNumber\" style = \"font-weight: bold; text-align: right;\">9994</td><td style = \"text-align: right;\">644</td><td style = \"text-align: left;\">France</td><td style = \"text-align: left;\">Male</td><td style = \"text-align: right;\">28</td><td style = \"text-align: right;\">7</td><td style = \"text-align: right;\">1.5506e5</td><td style = \"text-align: right;\">1</td><td style = \"text-align: right;\">1</td><td style = \"text-align: right;\">0</td><td style = \"text-align: right;\">29179.5</td></tr><tr><td class = \"rowNumber\" style = \"font-weight: bold; text-align: right;\">9995</td><td style = \"text-align: right;\">800</td><td style = \"text-align: left;\">France</td><td style = \"text-align: left;\">Female</td><td style = \"text-align: right;\">29</td><td style = \"text-align: right;\">2</td><td style = \"text-align: right;\">0.0</td><td style = \"text-align: right;\">2</td><td style = \"text-align: right;\">0</td><td style = \"text-align: right;\">0</td><td style = \"text-align: right;\">1.67774e5</td></tr><tr><td class = \"rowNumber\" style = \"font-weight: bold; text-align: right;\">9996</td><td style = \"text-align: right;\">771</td><td style = \"text-align: left;\">France</td><td style = \"text-align: left;\">Male</td><td style = \"text-align: right;\">39</td><td style = \"text-align: right;\">5</td><td style = \"text-align: right;\">0.0</td><td style = \"text-align: right;\">2</td><td style = \"text-align: right;\">1</td><td style = \"text-align: right;\">0</td><td style = \"text-align: right;\">96270.6</td></tr><tr><td class = \"rowNumber\" style = \"font-weight: bold; text-align: right;\">9997</td><td style = \"text-align: right;\">516</td><td style = \"text-align: left;\">France</td><td style = \"text-align: left;\">Male</td><td style = \"text-align: right;\">35</td><td style = \"text-align: right;\">10</td><td style = \"text-align: right;\">57369.6</td><td style = \"text-align: right;\">1</td><td style = \"text-align: right;\">1</td><td style = \"text-align: right;\">1</td><td style = \"text-align: right;\">1.017e5</td></tr><tr><td class = \"rowNumber\" style = \"font-weight: bold; text-align: right;\">9998</td><td style = \"text-align: right;\">709</td><td style = \"text-align: left;\">France</td><td style = \"text-align: left;\">Female</td><td style = \"text-align: right;\">36</td><td style = \"text-align: right;\">7</td><td style = \"text-align: right;\">0.0</td><td style = \"text-align: right;\">1</td><td style = \"text-align: right;\">0</td><td style = \"text-align: right;\">1</td><td style = \"text-align: right;\">42085.6</td></tr><tr><td class = \"rowNumber\" style = \"font-weight: bold; text-align: right;\">9999</td><td style = \"text-align: right;\">772</td><td style = \"text-align: left;\">Germany</td><td style = \"text-align: left;\">Male</td><td style = \"text-align: right;\">42</td><td style = \"text-align: right;\">3</td><td style = \"text-align: right;\">75075.3</td><td style = \"text-align: right;\">2</td><td style = \"text-align: right;\">1</td><td style = \"text-align: right;\">0</td><td style = \"text-align: right;\">92888.5</td></tr><tr><td class = \"rowNumber\" style = \"font-weight: bold; text-align: right;\">10000</td><td style = \"text-align: right;\">792</td><td style = \"text-align: left;\">France</td><td style = \"text-align: left;\">Female</td><td style = \"text-align: right;\">28</td><td style = \"text-align: right;\">4</td><td style = \"text-align: right;\">1.30143e5</td><td style = \"text-align: right;\">1</td><td style = \"text-align: right;\">1</td><td style = \"text-align: right;\">0</td><td style = \"text-align: right;\">38190.8</td></tr></tbody></table></div>"
      ],
      "text/latex": [
       "\\begin{tabular}{r|ccccccccc}\n",
       "\t& CreditScore & Geography & Gender & Age & Tenure & Balance & NumOfProducts & HasCrCard & \\\\\n",
       "\t\\hline\n",
       "\t& Int64 & Cat… & Cat… & Int64 & Int64 & Float64 & Int64 & Int64 & \\\\\n",
       "\t\\hline\n",
       "\t1 & 619 & France & Female & 42 & 2 & 0.0 & 1 & 1 & $\\dots$ \\\\\n",
       "\t2 & 608 & Spain & Female & 41 & 1 & 83807.9 & 1 & 0 & $\\dots$ \\\\\n",
       "\t3 & 502 & France & Female & 42 & 8 & 1.59661e5 & 3 & 1 & $\\dots$ \\\\\n",
       "\t4 & 699 & France & Female & 39 & 1 & 0.0 & 2 & 0 & $\\dots$ \\\\\n",
       "\t5 & 850 & Spain & Female & 43 & 2 & 1.25511e5 & 1 & 1 & $\\dots$ \\\\\n",
       "\t6 & 645 & Spain & Male & 44 & 8 & 1.13756e5 & 2 & 1 & $\\dots$ \\\\\n",
       "\t7 & 822 & France & Male & 50 & 7 & 0.0 & 2 & 1 & $\\dots$ \\\\\n",
       "\t8 & 376 & Germany & Female & 29 & 4 & 1.15047e5 & 4 & 1 & $\\dots$ \\\\\n",
       "\t9 & 501 & France & Male & 44 & 4 & 1.42051e5 & 2 & 0 & $\\dots$ \\\\\n",
       "\t10 & 684 & France & Male & 27 & 2 & 1.34604e5 & 1 & 1 & $\\dots$ \\\\\n",
       "\t11 & 528 & France & Male & 31 & 6 & 1.02017e5 & 2 & 0 & $\\dots$ \\\\\n",
       "\t12 & 497 & Spain & Male & 24 & 3 & 0.0 & 2 & 1 & $\\dots$ \\\\\n",
       "\t13 & 476 & France & Female & 34 & 10 & 0.0 & 2 & 1 & $\\dots$ \\\\\n",
       "\t14 & 549 & France & Female & 25 & 5 & 0.0 & 2 & 0 & $\\dots$ \\\\\n",
       "\t15 & 635 & Spain & Female & 35 & 7 & 0.0 & 2 & 1 & $\\dots$ \\\\\n",
       "\t16 & 616 & Germany & Male & 45 & 3 & 1.43129e5 & 2 & 0 & $\\dots$ \\\\\n",
       "\t17 & 653 & Germany & Male & 58 & 1 & 1.32603e5 & 1 & 1 & $\\dots$ \\\\\n",
       "\t18 & 549 & Spain & Female & 24 & 9 & 0.0 & 2 & 1 & $\\dots$ \\\\\n",
       "\t19 & 587 & Spain & Male & 45 & 6 & 0.0 & 1 & 0 & $\\dots$ \\\\\n",
       "\t20 & 726 & France & Female & 24 & 6 & 0.0 & 2 & 1 & $\\dots$ \\\\\n",
       "\t21 & 732 & France & Male & 41 & 8 & 0.0 & 2 & 1 & $\\dots$ \\\\\n",
       "\t22 & 636 & Spain & Female & 32 & 8 & 0.0 & 2 & 1 & $\\dots$ \\\\\n",
       "\t23 & 510 & Spain & Female & 38 & 4 & 0.0 & 1 & 1 & $\\dots$ \\\\\n",
       "\t24 & 669 & France & Male & 46 & 3 & 0.0 & 2 & 0 & $\\dots$ \\\\\n",
       "\t25 & 846 & France & Female & 38 & 5 & 0.0 & 1 & 1 & $\\dots$ \\\\\n",
       "\t26 & 577 & France & Male & 25 & 3 & 0.0 & 2 & 0 & $\\dots$ \\\\\n",
       "\t27 & 756 & Germany & Male & 36 & 2 & 1.36816e5 & 1 & 1 & $\\dots$ \\\\\n",
       "\t28 & 571 & France & Male & 44 & 9 & 0.0 & 2 & 0 & $\\dots$ \\\\\n",
       "\t29 & 574 & Germany & Female & 43 & 3 & 1.41349e5 & 1 & 1 & $\\dots$ \\\\\n",
       "\t30 & 411 & France & Male & 29 & 0 & 59697.2 & 2 & 1 & $\\dots$ \\\\\n",
       "\t$\\dots$ & $\\dots$ & $\\dots$ & $\\dots$ & $\\dots$ & $\\dots$ & $\\dots$ & $\\dots$ & $\\dots$ &  \\\\\n",
       "\\end{tabular}\n"
      ],
      "text/plain": [
       "\u001b[1m10000×10 DataFrame\u001b[0m\n",
       "\u001b[1m   Row \u001b[0m│\u001b[1m CreditScore \u001b[0m\u001b[1m Geography \u001b[0m\u001b[1m Gender \u001b[0m\u001b[1m Age   \u001b[0m\u001b[1m Tenure \u001b[0m\u001b[1m Balance       \u001b[0m\u001b[1m NumOfPr\u001b[0m ⋯\n",
       "       │\u001b[90m Int64       \u001b[0m\u001b[90m Cat…      \u001b[0m\u001b[90m Cat…   \u001b[0m\u001b[90m Int64 \u001b[0m\u001b[90m Int64  \u001b[0m\u001b[90m Float64       \u001b[0m\u001b[90m Int64  \u001b[0m ⋯\n",
       "───────┼────────────────────────────────────────────────────────────────────────\n",
       "     1 │         619  France     Female     42       2      0.0                ⋯\n",
       "     2 │         608  Spain      Female     41       1  83807.9\n",
       "     3 │         502  France     Female     42       8      1.59661e5\n",
       "     4 │         699  France     Female     39       1      0.0\n",
       "     5 │         850  Spain      Female     43       2      1.25511e5          ⋯\n",
       "     6 │         645  Spain      Male       44       8      1.13756e5\n",
       "     7 │         822  France     Male       50       7      0.0\n",
       "     8 │         376  Germany    Female     29       4      1.15047e5\n",
       "     9 │         501  France     Male       44       4      1.42051e5          ⋯\n",
       "    10 │         684  France     Male       27       2      1.34604e5\n",
       "    11 │         528  France     Male       31       6      1.02017e5\n",
       "   ⋮   │      ⋮           ⋮        ⋮       ⋮      ⋮           ⋮              ⋮ ⋱\n",
       "  9991 │         714  Germany    Male       33       3  35016.6\n",
       "  9992 │         597  France     Female     53       4  88381.2                ⋯\n",
       "  9993 │         726  Spain      Male       36       2      0.0\n",
       "  9994 │         644  France     Male       28       7      1.5506e5\n",
       "  9995 │         800  France     Female     29       2      0.0\n",
       "  9996 │         771  France     Male       39       5      0.0                ⋯\n",
       "  9997 │         516  France     Male       35      10  57369.6\n",
       "  9998 │         709  France     Female     36       7      0.0\n",
       "  9999 │         772  Germany    Male       42       3  75075.3\n",
       " 10000 │         792  France     Female     28       4      1.30143e5          ⋯\n",
       "\u001b[36m                                                 4 columns and 9979 rows omitted\u001b[0m"
      ]
     },
     "execution_count": 7,
     "metadata": {},
     "output_type": "execute_result"
    }
   ],
   "source": [
    "Xdf = select(df, Not([:RowNumber, :CustomerId, :Surname, :Exited]))\n",
    "coerce!(Xdf,\n",
    "    :Geography => Multiclass,\n",
    "    :Gender => Multiclass\n",
    ")"
   ]
  },
  {
   "cell_type": "markdown",
   "id": "fc264f84-99c9-425f-8234-dd253d1b8e98",
   "metadata": {},
   "source": [
    "Onehotencoding of multiclass variables"
   ]
  },
  {
   "cell_type": "code",
   "execution_count": 8,
   "id": "643da3b6-e7da-40d2-909d-621ec7810517",
   "metadata": {},
   "outputs": [
    {
     "name": "stderr",
     "output_type": "stream",
     "text": [
      "\u001b[36m\u001b[1m[ \u001b[22m\u001b[39m\u001b[36m\u001b[1mInfo: \u001b[22m\u001b[39mTraining machine(ContinuousEncoder(drop_last = true, …), …).\n"
     ]
    },
    {
     "data": {
      "text/html": [
       "<div><div style = \"float: left;\"><span>10000×11 DataFrame</span></div><div style = \"float: right;\"><span style = \"font-style: italic;\">9975 rows omitted</span></div><div style = \"clear: both;\"></div></div><div class = \"data-frame\" style = \"overflow-x: scroll;\"><table class = \"data-frame\" style = \"margin-bottom: 6px;\"><thead><tr class = \"header\"><th class = \"rowNumber\" style = \"font-weight: bold; text-align: right;\">Row</th><th style = \"text-align: left;\">CreditScore</th><th style = \"text-align: left;\">Geography__France</th><th style = \"text-align: left;\">Geography__Germany</th><th style = \"text-align: left;\">Gender__Female</th><th style = \"text-align: left;\">Age</th><th style = \"text-align: left;\">Tenure</th><th style = \"text-align: left;\">Balance</th><th style = \"text-align: left;\">NumOfProducts</th><th style = \"text-align: left;\">HasCrCard</th><th style = \"text-align: left;\">IsActiveMember</th><th style = \"text-align: left;\">EstimatedSalary</th></tr><tr class = \"subheader headerLastRow\"><th class = \"rowNumber\" style = \"font-weight: bold; text-align: right;\"></th><th title = \"Float64\" style = \"text-align: left;\">Float64</th><th title = \"Float64\" style = \"text-align: left;\">Float64</th><th title = \"Float64\" style = \"text-align: left;\">Float64</th><th title = \"Float64\" style = \"text-align: left;\">Float64</th><th title = \"Float64\" style = \"text-align: left;\">Float64</th><th title = \"Float64\" style = \"text-align: left;\">Float64</th><th title = \"Float64\" style = \"text-align: left;\">Float64</th><th title = \"Float64\" style = \"text-align: left;\">Float64</th><th title = \"Float64\" style = \"text-align: left;\">Float64</th><th title = \"Float64\" style = \"text-align: left;\">Float64</th><th title = \"Float64\" style = \"text-align: left;\">Float64</th></tr></thead><tbody><tr><td class = \"rowNumber\" style = \"font-weight: bold; text-align: right;\">1</td><td style = \"text-align: right;\">619.0</td><td style = \"text-align: right;\">1.0</td><td style = \"text-align: right;\">0.0</td><td style = \"text-align: right;\">1.0</td><td style = \"text-align: right;\">42.0</td><td style = \"text-align: right;\">2.0</td><td style = \"text-align: right;\">0.0</td><td style = \"text-align: right;\">1.0</td><td style = \"text-align: right;\">1.0</td><td style = \"text-align: right;\">1.0</td><td style = \"text-align: right;\">1.01349e5</td></tr><tr><td class = \"rowNumber\" style = \"font-weight: bold; text-align: right;\">2</td><td style = \"text-align: right;\">608.0</td><td style = \"text-align: right;\">0.0</td><td style = \"text-align: right;\">0.0</td><td style = \"text-align: right;\">1.0</td><td style = \"text-align: right;\">41.0</td><td style = \"text-align: right;\">1.0</td><td style = \"text-align: right;\">83807.9</td><td style = \"text-align: right;\">1.0</td><td style = \"text-align: right;\">0.0</td><td style = \"text-align: right;\">1.0</td><td style = \"text-align: right;\">1.12543e5</td></tr><tr><td class = \"rowNumber\" style = \"font-weight: bold; text-align: right;\">3</td><td style = \"text-align: right;\">502.0</td><td style = \"text-align: right;\">1.0</td><td style = \"text-align: right;\">0.0</td><td style = \"text-align: right;\">1.0</td><td style = \"text-align: right;\">42.0</td><td style = \"text-align: right;\">8.0</td><td style = \"text-align: right;\">1.59661e5</td><td style = \"text-align: right;\">3.0</td><td style = \"text-align: right;\">1.0</td><td style = \"text-align: right;\">0.0</td><td style = \"text-align: right;\">1.13932e5</td></tr><tr><td class = \"rowNumber\" style = \"font-weight: bold; text-align: right;\">4</td><td style = \"text-align: right;\">699.0</td><td style = \"text-align: right;\">1.0</td><td style = \"text-align: right;\">0.0</td><td style = \"text-align: right;\">1.0</td><td style = \"text-align: right;\">39.0</td><td style = \"text-align: right;\">1.0</td><td style = \"text-align: right;\">0.0</td><td style = \"text-align: right;\">2.0</td><td style = \"text-align: right;\">0.0</td><td style = \"text-align: right;\">0.0</td><td style = \"text-align: right;\">93826.6</td></tr><tr><td class = \"rowNumber\" style = \"font-weight: bold; text-align: right;\">5</td><td style = \"text-align: right;\">850.0</td><td style = \"text-align: right;\">0.0</td><td style = \"text-align: right;\">0.0</td><td style = \"text-align: right;\">1.0</td><td style = \"text-align: right;\">43.0</td><td style = \"text-align: right;\">2.0</td><td style = \"text-align: right;\">1.25511e5</td><td style = \"text-align: right;\">1.0</td><td style = \"text-align: right;\">1.0</td><td style = \"text-align: right;\">1.0</td><td style = \"text-align: right;\">79084.1</td></tr><tr><td class = \"rowNumber\" style = \"font-weight: bold; text-align: right;\">6</td><td style = \"text-align: right;\">645.0</td><td style = \"text-align: right;\">0.0</td><td style = \"text-align: right;\">0.0</td><td style = \"text-align: right;\">0.0</td><td style = \"text-align: right;\">44.0</td><td style = \"text-align: right;\">8.0</td><td style = \"text-align: right;\">1.13756e5</td><td style = \"text-align: right;\">2.0</td><td style = \"text-align: right;\">1.0</td><td style = \"text-align: right;\">0.0</td><td style = \"text-align: right;\">1.49757e5</td></tr><tr><td class = \"rowNumber\" style = \"font-weight: bold; text-align: right;\">7</td><td style = \"text-align: right;\">822.0</td><td style = \"text-align: right;\">1.0</td><td style = \"text-align: right;\">0.0</td><td style = \"text-align: right;\">0.0</td><td style = \"text-align: right;\">50.0</td><td style = \"text-align: right;\">7.0</td><td style = \"text-align: right;\">0.0</td><td style = \"text-align: right;\">2.0</td><td style = \"text-align: right;\">1.0</td><td style = \"text-align: right;\">1.0</td><td style = \"text-align: right;\">10062.8</td></tr><tr><td class = \"rowNumber\" style = \"font-weight: bold; text-align: right;\">8</td><td style = \"text-align: right;\">376.0</td><td style = \"text-align: right;\">0.0</td><td style = \"text-align: right;\">1.0</td><td style = \"text-align: right;\">1.0</td><td style = \"text-align: right;\">29.0</td><td style = \"text-align: right;\">4.0</td><td style = \"text-align: right;\">1.15047e5</td><td style = \"text-align: right;\">4.0</td><td style = \"text-align: right;\">1.0</td><td style = \"text-align: right;\">0.0</td><td style = \"text-align: right;\">1.19347e5</td></tr><tr><td class = \"rowNumber\" style = \"font-weight: bold; text-align: right;\">9</td><td style = \"text-align: right;\">501.0</td><td style = \"text-align: right;\">1.0</td><td style = \"text-align: right;\">0.0</td><td style = \"text-align: right;\">0.0</td><td style = \"text-align: right;\">44.0</td><td style = \"text-align: right;\">4.0</td><td style = \"text-align: right;\">1.42051e5</td><td style = \"text-align: right;\">2.0</td><td style = \"text-align: right;\">0.0</td><td style = \"text-align: right;\">1.0</td><td style = \"text-align: right;\">74940.5</td></tr><tr><td class = \"rowNumber\" style = \"font-weight: bold; text-align: right;\">10</td><td style = \"text-align: right;\">684.0</td><td style = \"text-align: right;\">1.0</td><td style = \"text-align: right;\">0.0</td><td style = \"text-align: right;\">0.0</td><td style = \"text-align: right;\">27.0</td><td style = \"text-align: right;\">2.0</td><td style = \"text-align: right;\">1.34604e5</td><td style = \"text-align: right;\">1.0</td><td style = \"text-align: right;\">1.0</td><td style = \"text-align: right;\">1.0</td><td style = \"text-align: right;\">71725.7</td></tr><tr><td class = \"rowNumber\" style = \"font-weight: bold; text-align: right;\">11</td><td style = \"text-align: right;\">528.0</td><td style = \"text-align: right;\">1.0</td><td style = \"text-align: right;\">0.0</td><td style = \"text-align: right;\">0.0</td><td style = \"text-align: right;\">31.0</td><td style = \"text-align: right;\">6.0</td><td style = \"text-align: right;\">1.02017e5</td><td style = \"text-align: right;\">2.0</td><td style = \"text-align: right;\">0.0</td><td style = \"text-align: right;\">0.0</td><td style = \"text-align: right;\">80181.1</td></tr><tr><td class = \"rowNumber\" style = \"font-weight: bold; text-align: right;\">12</td><td style = \"text-align: right;\">497.0</td><td style = \"text-align: right;\">0.0</td><td style = \"text-align: right;\">0.0</td><td style = \"text-align: right;\">0.0</td><td style = \"text-align: right;\">24.0</td><td style = \"text-align: right;\">3.0</td><td style = \"text-align: right;\">0.0</td><td style = \"text-align: right;\">2.0</td><td style = \"text-align: right;\">1.0</td><td style = \"text-align: right;\">0.0</td><td style = \"text-align: right;\">76390.0</td></tr><tr><td class = \"rowNumber\" style = \"font-weight: bold; text-align: right;\">13</td><td style = \"text-align: right;\">476.0</td><td style = \"text-align: right;\">1.0</td><td style = \"text-align: right;\">0.0</td><td style = \"text-align: right;\">1.0</td><td style = \"text-align: right;\">34.0</td><td style = \"text-align: right;\">10.0</td><td style = \"text-align: right;\">0.0</td><td style = \"text-align: right;\">2.0</td><td style = \"text-align: right;\">1.0</td><td style = \"text-align: right;\">0.0</td><td style = \"text-align: right;\">26261.0</td></tr><tr><td style = \"text-align: right;\">&vellip;</td><td style = \"text-align: right;\">&vellip;</td><td style = \"text-align: right;\">&vellip;</td><td style = \"text-align: right;\">&vellip;</td><td style = \"text-align: right;\">&vellip;</td><td style = \"text-align: right;\">&vellip;</td><td style = \"text-align: right;\">&vellip;</td><td style = \"text-align: right;\">&vellip;</td><td style = \"text-align: right;\">&vellip;</td><td style = \"text-align: right;\">&vellip;</td><td style = \"text-align: right;\">&vellip;</td><td style = \"text-align: right;\">&vellip;</td></tr><tr><td class = \"rowNumber\" style = \"font-weight: bold; text-align: right;\">9989</td><td style = \"text-align: right;\">775.0</td><td style = \"text-align: right;\">1.0</td><td style = \"text-align: right;\">0.0</td><td style = \"text-align: right;\">0.0</td><td style = \"text-align: right;\">30.0</td><td style = \"text-align: right;\">4.0</td><td style = \"text-align: right;\">0.0</td><td style = \"text-align: right;\">2.0</td><td style = \"text-align: right;\">1.0</td><td style = \"text-align: right;\">0.0</td><td style = \"text-align: right;\">49337.8</td></tr><tr><td class = \"rowNumber\" style = \"font-weight: bold; text-align: right;\">9990</td><td style = \"text-align: right;\">841.0</td><td style = \"text-align: right;\">0.0</td><td style = \"text-align: right;\">0.0</td><td style = \"text-align: right;\">0.0</td><td style = \"text-align: right;\">28.0</td><td style = \"text-align: right;\">4.0</td><td style = \"text-align: right;\">0.0</td><td style = \"text-align: right;\">2.0</td><td style = \"text-align: right;\">1.0</td><td style = \"text-align: right;\">1.0</td><td style = \"text-align: right;\">1.79437e5</td></tr><tr><td class = \"rowNumber\" style = \"font-weight: bold; text-align: right;\">9991</td><td style = \"text-align: right;\">714.0</td><td style = \"text-align: right;\">0.0</td><td style = \"text-align: right;\">1.0</td><td style = \"text-align: right;\">0.0</td><td style = \"text-align: right;\">33.0</td><td style = \"text-align: right;\">3.0</td><td style = \"text-align: right;\">35016.6</td><td style = \"text-align: right;\">1.0</td><td style = \"text-align: right;\">1.0</td><td style = \"text-align: right;\">0.0</td><td style = \"text-align: right;\">53667.1</td></tr><tr><td class = \"rowNumber\" style = \"font-weight: bold; text-align: right;\">9992</td><td style = \"text-align: right;\">597.0</td><td style = \"text-align: right;\">1.0</td><td style = \"text-align: right;\">0.0</td><td style = \"text-align: right;\">1.0</td><td style = \"text-align: right;\">53.0</td><td style = \"text-align: right;\">4.0</td><td style = \"text-align: right;\">88381.2</td><td style = \"text-align: right;\">1.0</td><td style = \"text-align: right;\">1.0</td><td style = \"text-align: right;\">0.0</td><td style = \"text-align: right;\">69384.7</td></tr><tr><td class = \"rowNumber\" style = \"font-weight: bold; text-align: right;\">9993</td><td style = \"text-align: right;\">726.0</td><td style = \"text-align: right;\">0.0</td><td style = \"text-align: right;\">0.0</td><td style = \"text-align: right;\">0.0</td><td style = \"text-align: right;\">36.0</td><td style = \"text-align: right;\">2.0</td><td style = \"text-align: right;\">0.0</td><td style = \"text-align: right;\">1.0</td><td style = \"text-align: right;\">1.0</td><td style = \"text-align: right;\">0.0</td><td style = \"text-align: right;\">1.95192e5</td></tr><tr><td class = \"rowNumber\" style = \"font-weight: bold; text-align: right;\">9994</td><td style = \"text-align: right;\">644.0</td><td style = \"text-align: right;\">1.0</td><td style = \"text-align: right;\">0.0</td><td style = \"text-align: right;\">0.0</td><td style = \"text-align: right;\">28.0</td><td style = \"text-align: right;\">7.0</td><td style = \"text-align: right;\">1.5506e5</td><td style = \"text-align: right;\">1.0</td><td style = \"text-align: right;\">1.0</td><td style = \"text-align: right;\">0.0</td><td style = \"text-align: right;\">29179.5</td></tr><tr><td class = \"rowNumber\" style = \"font-weight: bold; text-align: right;\">9995</td><td style = \"text-align: right;\">800.0</td><td style = \"text-align: right;\">1.0</td><td style = \"text-align: right;\">0.0</td><td style = \"text-align: right;\">1.0</td><td style = \"text-align: right;\">29.0</td><td style = \"text-align: right;\">2.0</td><td style = \"text-align: right;\">0.0</td><td style = \"text-align: right;\">2.0</td><td style = \"text-align: right;\">0.0</td><td style = \"text-align: right;\">0.0</td><td style = \"text-align: right;\">1.67774e5</td></tr><tr><td class = \"rowNumber\" style = \"font-weight: bold; text-align: right;\">9996</td><td style = \"text-align: right;\">771.0</td><td style = \"text-align: right;\">1.0</td><td style = \"text-align: right;\">0.0</td><td style = \"text-align: right;\">0.0</td><td style = \"text-align: right;\">39.0</td><td style = \"text-align: right;\">5.0</td><td style = \"text-align: right;\">0.0</td><td style = \"text-align: right;\">2.0</td><td style = \"text-align: right;\">1.0</td><td style = \"text-align: right;\">0.0</td><td style = \"text-align: right;\">96270.6</td></tr><tr><td class = \"rowNumber\" style = \"font-weight: bold; text-align: right;\">9997</td><td style = \"text-align: right;\">516.0</td><td style = \"text-align: right;\">1.0</td><td style = \"text-align: right;\">0.0</td><td style = \"text-align: right;\">0.0</td><td style = \"text-align: right;\">35.0</td><td style = \"text-align: right;\">10.0</td><td style = \"text-align: right;\">57369.6</td><td style = \"text-align: right;\">1.0</td><td style = \"text-align: right;\">1.0</td><td style = \"text-align: right;\">1.0</td><td style = \"text-align: right;\">1.017e5</td></tr><tr><td class = \"rowNumber\" style = \"font-weight: bold; text-align: right;\">9998</td><td style = \"text-align: right;\">709.0</td><td style = \"text-align: right;\">1.0</td><td style = \"text-align: right;\">0.0</td><td style = \"text-align: right;\">1.0</td><td style = \"text-align: right;\">36.0</td><td style = \"text-align: right;\">7.0</td><td style = \"text-align: right;\">0.0</td><td style = \"text-align: right;\">1.0</td><td style = \"text-align: right;\">0.0</td><td style = \"text-align: right;\">1.0</td><td style = \"text-align: right;\">42085.6</td></tr><tr><td class = \"rowNumber\" style = \"font-weight: bold; text-align: right;\">9999</td><td style = \"text-align: right;\">772.0</td><td style = \"text-align: right;\">0.0</td><td style = \"text-align: right;\">1.0</td><td style = \"text-align: right;\">0.0</td><td style = \"text-align: right;\">42.0</td><td style = \"text-align: right;\">3.0</td><td style = \"text-align: right;\">75075.3</td><td style = \"text-align: right;\">2.0</td><td style = \"text-align: right;\">1.0</td><td style = \"text-align: right;\">0.0</td><td style = \"text-align: right;\">92888.5</td></tr><tr><td class = \"rowNumber\" style = \"font-weight: bold; text-align: right;\">10000</td><td style = \"text-align: right;\">792.0</td><td style = \"text-align: right;\">1.0</td><td style = \"text-align: right;\">0.0</td><td style = \"text-align: right;\">1.0</td><td style = \"text-align: right;\">28.0</td><td style = \"text-align: right;\">4.0</td><td style = \"text-align: right;\">1.30143e5</td><td style = \"text-align: right;\">1.0</td><td style = \"text-align: right;\">1.0</td><td style = \"text-align: right;\">0.0</td><td style = \"text-align: right;\">38190.8</td></tr></tbody></table></div>"
      ],
      "text/latex": [
       "\\begin{tabular}{r|ccccccc}\n",
       "\t& CreditScore & Geography\\_\\_France & Geography\\_\\_Germany & Gender\\_\\_Female & Age & Tenure & \\\\\n",
       "\t\\hline\n",
       "\t& Float64 & Float64 & Float64 & Float64 & Float64 & Float64 & \\\\\n",
       "\t\\hline\n",
       "\t1 & 619.0 & 1.0 & 0.0 & 1.0 & 42.0 & 2.0 & $\\dots$ \\\\\n",
       "\t2 & 608.0 & 0.0 & 0.0 & 1.0 & 41.0 & 1.0 & $\\dots$ \\\\\n",
       "\t3 & 502.0 & 1.0 & 0.0 & 1.0 & 42.0 & 8.0 & $\\dots$ \\\\\n",
       "\t4 & 699.0 & 1.0 & 0.0 & 1.0 & 39.0 & 1.0 & $\\dots$ \\\\\n",
       "\t5 & 850.0 & 0.0 & 0.0 & 1.0 & 43.0 & 2.0 & $\\dots$ \\\\\n",
       "\t6 & 645.0 & 0.0 & 0.0 & 0.0 & 44.0 & 8.0 & $\\dots$ \\\\\n",
       "\t7 & 822.0 & 1.0 & 0.0 & 0.0 & 50.0 & 7.0 & $\\dots$ \\\\\n",
       "\t8 & 376.0 & 0.0 & 1.0 & 1.0 & 29.0 & 4.0 & $\\dots$ \\\\\n",
       "\t9 & 501.0 & 1.0 & 0.0 & 0.0 & 44.0 & 4.0 & $\\dots$ \\\\\n",
       "\t10 & 684.0 & 1.0 & 0.0 & 0.0 & 27.0 & 2.0 & $\\dots$ \\\\\n",
       "\t11 & 528.0 & 1.0 & 0.0 & 0.0 & 31.0 & 6.0 & $\\dots$ \\\\\n",
       "\t12 & 497.0 & 0.0 & 0.0 & 0.0 & 24.0 & 3.0 & $\\dots$ \\\\\n",
       "\t13 & 476.0 & 1.0 & 0.0 & 1.0 & 34.0 & 10.0 & $\\dots$ \\\\\n",
       "\t14 & 549.0 & 1.0 & 0.0 & 1.0 & 25.0 & 5.0 & $\\dots$ \\\\\n",
       "\t15 & 635.0 & 0.0 & 0.0 & 1.0 & 35.0 & 7.0 & $\\dots$ \\\\\n",
       "\t16 & 616.0 & 0.0 & 1.0 & 0.0 & 45.0 & 3.0 & $\\dots$ \\\\\n",
       "\t17 & 653.0 & 0.0 & 1.0 & 0.0 & 58.0 & 1.0 & $\\dots$ \\\\\n",
       "\t18 & 549.0 & 0.0 & 0.0 & 1.0 & 24.0 & 9.0 & $\\dots$ \\\\\n",
       "\t19 & 587.0 & 0.0 & 0.0 & 0.0 & 45.0 & 6.0 & $\\dots$ \\\\\n",
       "\t20 & 726.0 & 1.0 & 0.0 & 1.0 & 24.0 & 6.0 & $\\dots$ \\\\\n",
       "\t21 & 732.0 & 1.0 & 0.0 & 0.0 & 41.0 & 8.0 & $\\dots$ \\\\\n",
       "\t22 & 636.0 & 0.0 & 0.0 & 1.0 & 32.0 & 8.0 & $\\dots$ \\\\\n",
       "\t23 & 510.0 & 0.0 & 0.0 & 1.0 & 38.0 & 4.0 & $\\dots$ \\\\\n",
       "\t24 & 669.0 & 1.0 & 0.0 & 0.0 & 46.0 & 3.0 & $\\dots$ \\\\\n",
       "\t25 & 846.0 & 1.0 & 0.0 & 1.0 & 38.0 & 5.0 & $\\dots$ \\\\\n",
       "\t26 & 577.0 & 1.0 & 0.0 & 0.0 & 25.0 & 3.0 & $\\dots$ \\\\\n",
       "\t27 & 756.0 & 0.0 & 1.0 & 0.0 & 36.0 & 2.0 & $\\dots$ \\\\\n",
       "\t28 & 571.0 & 1.0 & 0.0 & 0.0 & 44.0 & 9.0 & $\\dots$ \\\\\n",
       "\t29 & 574.0 & 0.0 & 1.0 & 1.0 & 43.0 & 3.0 & $\\dots$ \\\\\n",
       "\t30 & 411.0 & 1.0 & 0.0 & 0.0 & 29.0 & 0.0 & $\\dots$ \\\\\n",
       "\t$\\dots$ & $\\dots$ & $\\dots$ & $\\dots$ & $\\dots$ & $\\dots$ & $\\dots$ &  \\\\\n",
       "\\end{tabular}\n"
      ],
      "text/plain": [
       "\u001b[1m10000×11 DataFrame\u001b[0m\n",
       "\u001b[1m   Row \u001b[0m│\u001b[1m CreditScore \u001b[0m\u001b[1m Geography__France \u001b[0m\u001b[1m Geography__Germany \u001b[0m\u001b[1m Gender__Female \u001b[0m\u001b[1m A\u001b[0m ⋯\n",
       "       │\u001b[90m Float64     \u001b[0m\u001b[90m Float64           \u001b[0m\u001b[90m Float64            \u001b[0m\u001b[90m Float64        \u001b[0m\u001b[90m F\u001b[0m ⋯\n",
       "───────┼────────────────────────────────────────────────────────────────────────\n",
       "     1 │       619.0                1.0                 0.0             1.0    ⋯\n",
       "     2 │       608.0                0.0                 0.0             1.0\n",
       "     3 │       502.0                1.0                 0.0             1.0\n",
       "     4 │       699.0                1.0                 0.0             1.0\n",
       "     5 │       850.0                0.0                 0.0             1.0    ⋯\n",
       "     6 │       645.0                0.0                 0.0             0.0\n",
       "     7 │       822.0                1.0                 0.0             0.0\n",
       "     8 │       376.0                0.0                 1.0             1.0\n",
       "     9 │       501.0                1.0                 0.0             0.0    ⋯\n",
       "    10 │       684.0                1.0                 0.0             0.0\n",
       "    11 │       528.0                1.0                 0.0             0.0\n",
       "   ⋮   │      ⋮               ⋮                  ⋮                 ⋮           ⋱\n",
       "  9991 │       714.0                0.0                 1.0             0.0\n",
       "  9992 │       597.0                1.0                 0.0             1.0    ⋯\n",
       "  9993 │       726.0                0.0                 0.0             0.0\n",
       "  9994 │       644.0                1.0                 0.0             0.0\n",
       "  9995 │       800.0                1.0                 0.0             1.0\n",
       "  9996 │       771.0                1.0                 0.0             0.0    ⋯\n",
       "  9997 │       516.0                1.0                 0.0             0.0\n",
       "  9998 │       709.0                1.0                 0.0             1.0\n",
       "  9999 │       772.0                0.0                 1.0             0.0\n",
       " 10000 │       792.0                1.0                 0.0             1.0    ⋯\n",
       "\u001b[36m                                                 7 columns and 9979 rows omitted\u001b[0m"
      ]
     },
     "execution_count": 8,
     "metadata": {},
     "output_type": "execute_result"
    }
   ],
   "source": [
    "ce = ContinuousEncoder(drop_last=true)\n",
    "Xdf = machine(ce, Xdf) |> fit! |> MLJ.transform"
   ]
  },
  {
   "cell_type": "markdown",
   "id": "6f8aed87-74b7-491c-9f12-465abc8e9b3c",
   "metadata": {},
   "source": [
    "Features scaling"
   ]
  },
  {
   "cell_type": "code",
   "execution_count": 9,
   "id": "559be1eb-010f-4a32-8bfd-81dfcc165628",
   "metadata": {},
   "outputs": [
    {
     "name": "stderr",
     "output_type": "stream",
     "text": [
      "\u001b[36m\u001b[1m[ \u001b[22m\u001b[39m\u001b[36m\u001b[1mInfo: \u001b[22m\u001b[39mTraining machine(Standardizer(features = Symbol[], …), …).\n"
     ]
    },
    {
     "data": {
      "text/html": [
       "<div><div style = \"float: left;\"><span>10000×11 DataFrame</span></div><div style = \"float: right;\"><span style = \"font-style: italic;\">9975 rows omitted</span></div><div style = \"clear: both;\"></div></div><div class = \"data-frame\" style = \"overflow-x: scroll;\"><table class = \"data-frame\" style = \"margin-bottom: 6px;\"><thead><tr class = \"header\"><th class = \"rowNumber\" style = \"font-weight: bold; text-align: right;\">Row</th><th style = \"text-align: left;\">CreditScore</th><th style = \"text-align: left;\">Geography__France</th><th style = \"text-align: left;\">Geography__Germany</th><th style = \"text-align: left;\">Gender__Female</th><th style = \"text-align: left;\">Age</th><th style = \"text-align: left;\">Tenure</th><th style = \"text-align: left;\">Balance</th><th style = \"text-align: left;\">NumOfProducts</th><th style = \"text-align: left;\">HasCrCard</th><th style = \"text-align: left;\">IsActiveMember</th><th style = \"text-align: left;\">EstimatedSalary</th></tr><tr class = \"subheader headerLastRow\"><th class = \"rowNumber\" style = \"font-weight: bold; text-align: right;\"></th><th title = \"Float64\" style = \"text-align: left;\">Float64</th><th title = \"Float64\" style = \"text-align: left;\">Float64</th><th title = \"Float64\" style = \"text-align: left;\">Float64</th><th title = \"Float64\" style = \"text-align: left;\">Float64</th><th title = \"Float64\" style = \"text-align: left;\">Float64</th><th title = \"Float64\" style = \"text-align: left;\">Float64</th><th title = \"Float64\" style = \"text-align: left;\">Float64</th><th title = \"Float64\" style = \"text-align: left;\">Float64</th><th title = \"Float64\" style = \"text-align: left;\">Float64</th><th title = \"Float64\" style = \"text-align: left;\">Float64</th><th title = \"Float64\" style = \"text-align: left;\">Float64</th></tr></thead><tbody><tr><td class = \"rowNumber\" style = \"font-weight: bold; text-align: right;\">1</td><td style = \"text-align: right;\">-0.326205</td><td style = \"text-align: right;\">0.997154</td><td style = \"text-align: right;\">-0.578707</td><td style = \"text-align: right;\">1.09593</td><td style = \"text-align: right;\">0.293503</td><td style = \"text-align: right;\">-1.04171</td><td style = \"text-align: right;\">-1.22579</td><td style = \"text-align: right;\">-0.911538</td><td style = \"text-align: right;\">0.646059</td><td style = \"text-align: right;\">0.970194</td><td style = \"text-align: right;\">0.0218854</td></tr><tr><td class = \"rowNumber\" style = \"font-weight: bold; text-align: right;\">2</td><td style = \"text-align: right;\">-0.440014</td><td style = \"text-align: right;\">-1.00275</td><td style = \"text-align: right;\">-0.578707</td><td style = \"text-align: right;\">1.09593</td><td style = \"text-align: right;\">0.198154</td><td style = \"text-align: right;\">-1.38747</td><td style = \"text-align: right;\">0.117344</td><td style = \"text-align: right;\">-0.911538</td><td style = \"text-align: right;\">-1.54769</td><td style = \"text-align: right;\">0.970194</td><td style = \"text-align: right;\">0.216523</td></tr><tr><td class = \"rowNumber\" style = \"font-weight: bold; text-align: right;\">3</td><td style = \"text-align: right;\">-1.53672</td><td style = \"text-align: right;\">0.997154</td><td style = \"text-align: right;\">-0.578707</td><td style = \"text-align: right;\">1.09593</td><td style = \"text-align: right;\">0.293503</td><td style = \"text-align: right;\">1.03286</td><td style = \"text-align: right;\">1.33299</td><td style = \"text-align: right;\">2.52693</td><td style = \"text-align: right;\">0.646059</td><td style = \"text-align: right;\">-1.03062</td><td style = \"text-align: right;\">0.240675</td></tr><tr><td class = \"rowNumber\" style = \"font-weight: bold; text-align: right;\">4</td><td style = \"text-align: right;\">0.501496</td><td style = \"text-align: right;\">0.997154</td><td style = \"text-align: right;\">-0.578707</td><td style = \"text-align: right;\">1.09593</td><td style = \"text-align: right;\">0.00745628</td><td style = \"text-align: right;\">-1.38747</td><td style = \"text-align: right;\">-1.22579</td><td style = \"text-align: right;\">0.807696</td><td style = \"text-align: right;\">-1.54769</td><td style = \"text-align: right;\">-1.03062</td><td style = \"text-align: right;\">-0.108912</td></tr><tr><td class = \"rowNumber\" style = \"font-weight: bold; text-align: right;\">5</td><td style = \"text-align: right;\">2.06378</td><td style = \"text-align: right;\">-1.00275</td><td style = \"text-align: right;\">-0.578707</td><td style = \"text-align: right;\">1.09593</td><td style = \"text-align: right;\">0.388852</td><td style = \"text-align: right;\">-1.04171</td><td style = \"text-align: right;\">0.785689</td><td style = \"text-align: right;\">-0.911538</td><td style = \"text-align: right;\">0.646059</td><td style = \"text-align: right;\">0.970194</td><td style = \"text-align: right;\">-0.365258</td></tr><tr><td class = \"rowNumber\" style = \"font-weight: bold; text-align: right;\">6</td><td style = \"text-align: right;\">-0.0572024</td><td style = \"text-align: right;\">-1.00275</td><td style = \"text-align: right;\">-0.578707</td><td style = \"text-align: right;\">-0.912374</td><td style = \"text-align: right;\">0.4842</td><td style = \"text-align: right;\">1.03286</td><td style = \"text-align: right;\">0.597299</td><td style = \"text-align: right;\">0.807696</td><td style = \"text-align: right;\">0.646059</td><td style = \"text-align: right;\">-1.03062</td><td style = \"text-align: right;\">0.863607</td></tr><tr><td class = \"rowNumber\" style = \"font-weight: bold; text-align: right;\">7</td><td style = \"text-align: right;\">1.77409</td><td style = \"text-align: right;\">0.997154</td><td style = \"text-align: right;\">-0.578707</td><td style = \"text-align: right;\">-0.912374</td><td style = \"text-align: right;\">1.05629</td><td style = \"text-align: right;\">0.687096</td><td style = \"text-align: right;\">-1.22579</td><td style = \"text-align: right;\">0.807696</td><td style = \"text-align: right;\">0.646059</td><td style = \"text-align: right;\">0.970194</td><td style = \"text-align: right;\">-1.56541</td></tr><tr><td class = \"rowNumber\" style = \"font-weight: bold; text-align: right;\">8</td><td style = \"text-align: right;\">-2.84035</td><td style = \"text-align: right;\">-1.00275</td><td style = \"text-align: right;\">1.72782</td><td style = \"text-align: right;\">1.09593</td><td style = \"text-align: right;\">-0.946032</td><td style = \"text-align: right;\">-0.350186</td><td style = \"text-align: right;\">0.617988</td><td style = \"text-align: right;\">4.24616</td><td style = \"text-align: right;\">0.646059</td><td style = \"text-align: right;\">-1.03062</td><td style = \"text-align: right;\">0.334837</td></tr><tr><td class = \"rowNumber\" style = \"font-weight: bold; text-align: right;\">9</td><td style = \"text-align: right;\">-1.54706</td><td style = \"text-align: right;\">0.997154</td><td style = \"text-align: right;\">-0.578707</td><td style = \"text-align: right;\">-0.912374</td><td style = \"text-align: right;\">0.4842</td><td style = \"text-align: right;\">-0.350186</td><td style = \"text-align: right;\">1.05077</td><td style = \"text-align: right;\">0.807696</td><td style = \"text-align: right;\">-1.54769</td><td style = \"text-align: right;\">0.970194</td><td style = \"text-align: right;\">-0.437307</td></tr><tr><td class = \"rowNumber\" style = \"font-weight: bold; text-align: right;\">10</td><td style = \"text-align: right;\">0.346302</td><td style = \"text-align: right;\">0.997154</td><td style = \"text-align: right;\">-0.578707</td><td style = \"text-align: right;\">-0.912374</td><td style = \"text-align: right;\">-1.13673</td><td style = \"text-align: right;\">-1.04171</td><td style = \"text-align: right;\">0.931417</td><td style = \"text-align: right;\">-0.911538</td><td style = \"text-align: right;\">0.646059</td><td style = \"text-align: right;\">0.970194</td><td style = \"text-align: right;\">-0.493206</td></tr><tr><td class = \"rowNumber\" style = \"font-weight: bold; text-align: right;\">11</td><td style = \"text-align: right;\">-1.26771</td><td style = \"text-align: right;\">0.997154</td><td style = \"text-align: right;\">-0.578707</td><td style = \"text-align: right;\">-0.912374</td><td style = \"text-align: right;\">-0.755334</td><td style = \"text-align: right;\">0.341335</td><td style = \"text-align: right;\">0.409165</td><td style = \"text-align: right;\">0.807696</td><td style = \"text-align: right;\">-1.54769</td><td style = \"text-align: right;\">-1.03062</td><td style = \"text-align: right;\">-0.346182</td></tr><tr><td class = \"rowNumber\" style = \"font-weight: bold; text-align: right;\">12</td><td style = \"text-align: right;\">-1.58845</td><td style = \"text-align: right;\">-1.00275</td><td style = \"text-align: right;\">-0.578707</td><td style = \"text-align: right;\">-0.912374</td><td style = \"text-align: right;\">-1.42278</td><td style = \"text-align: right;\">-0.695947</td><td style = \"text-align: right;\">-1.22579</td><td style = \"text-align: right;\">0.807696</td><td style = \"text-align: right;\">0.646059</td><td style = \"text-align: right;\">-1.03062</td><td style = \"text-align: right;\">-0.412103</td></tr><tr><td class = \"rowNumber\" style = \"font-weight: bold; text-align: right;\">13</td><td style = \"text-align: right;\">-1.80572</td><td style = \"text-align: right;\">0.997154</td><td style = \"text-align: right;\">-0.578707</td><td style = \"text-align: right;\">1.09593</td><td style = \"text-align: right;\">-0.469288</td><td style = \"text-align: right;\">1.72438</td><td style = \"text-align: right;\">-1.22579</td><td style = \"text-align: right;\">0.807696</td><td style = \"text-align: right;\">0.646059</td><td style = \"text-align: right;\">-1.03062</td><td style = \"text-align: right;\">-1.28375</td></tr><tr><td style = \"text-align: right;\">&vellip;</td><td style = \"text-align: right;\">&vellip;</td><td style = \"text-align: right;\">&vellip;</td><td style = \"text-align: right;\">&vellip;</td><td style = \"text-align: right;\">&vellip;</td><td style = \"text-align: right;\">&vellip;</td><td style = \"text-align: right;\">&vellip;</td><td style = \"text-align: right;\">&vellip;</td><td style = \"text-align: right;\">&vellip;</td><td style = \"text-align: right;\">&vellip;</td><td style = \"text-align: right;\">&vellip;</td><td style = \"text-align: right;\">&vellip;</td></tr><tr><td class = \"rowNumber\" style = \"font-weight: bold; text-align: right;\">9989</td><td style = \"text-align: right;\">1.28781</td><td style = \"text-align: right;\">0.997154</td><td style = \"text-align: right;\">-0.578707</td><td style = \"text-align: right;\">-0.912374</td><td style = \"text-align: right;\">-0.850683</td><td style = \"text-align: right;\">-0.350186</td><td style = \"text-align: right;\">-1.22579</td><td style = \"text-align: right;\">0.807696</td><td style = \"text-align: right;\">0.646059</td><td style = \"text-align: right;\">-1.03062</td><td style = \"text-align: right;\">-0.882489</td></tr><tr><td class = \"rowNumber\" style = \"font-weight: bold; text-align: right;\">9990</td><td style = \"text-align: right;\">1.97066</td><td style = \"text-align: right;\">-1.00275</td><td style = \"text-align: right;\">-0.578707</td><td style = \"text-align: right;\">-0.912374</td><td style = \"text-align: right;\">-1.04138</td><td style = \"text-align: right;\">-0.350186</td><td style = \"text-align: right;\">-1.22579</td><td style = \"text-align: right;\">0.807696</td><td style = \"text-align: right;\">0.646059</td><td style = \"text-align: right;\">0.970194</td><td style = \"text-align: right;\">1.37968</td></tr><tr><td class = \"rowNumber\" style = \"font-weight: bold; text-align: right;\">9991</td><td style = \"text-align: right;\">0.656689</td><td style = \"text-align: right;\">-1.00275</td><td style = \"text-align: right;\">1.72782</td><td style = \"text-align: right;\">-0.912374</td><td style = \"text-align: right;\">-0.564637</td><td style = \"text-align: right;\">-0.695947</td><td style = \"text-align: right;\">-0.6646</td><td style = \"text-align: right;\">-0.911538</td><td style = \"text-align: right;\">0.646059</td><td style = \"text-align: right;\">-1.03062</td><td style = \"text-align: right;\">-0.807212</td></tr><tr><td class = \"rowNumber\" style = \"font-weight: bold; text-align: right;\">9992</td><td style = \"text-align: right;\">-0.553823</td><td style = \"text-align: right;\">0.997154</td><td style = \"text-align: right;\">-0.578707</td><td style = \"text-align: right;\">1.09593</td><td style = \"text-align: right;\">1.34234</td><td style = \"text-align: right;\">-0.350186</td><td style = \"text-align: right;\">0.190638</td><td style = \"text-align: right;\">-0.911538</td><td style = \"text-align: right;\">0.646059</td><td style = \"text-align: right;\">-1.03062</td><td style = \"text-align: right;\">-0.533912</td></tr><tr><td class = \"rowNumber\" style = \"font-weight: bold; text-align: right;\">9993</td><td style = \"text-align: right;\">0.780845</td><td style = \"text-align: right;\">-1.00275</td><td style = \"text-align: right;\">-0.578707</td><td style = \"text-align: right;\">-0.912374</td><td style = \"text-align: right;\">-0.27859</td><td style = \"text-align: right;\">-1.04171</td><td style = \"text-align: right;\">-1.22579</td><td style = \"text-align: right;\">-0.911538</td><td style = \"text-align: right;\">0.646059</td><td style = \"text-align: right;\">-1.03062</td><td style = \"text-align: right;\">1.65365</td></tr><tr><td class = \"rowNumber\" style = \"font-weight: bold; text-align: right;\">9994</td><td style = \"text-align: right;\">-0.0675487</td><td style = \"text-align: right;\">0.997154</td><td style = \"text-align: right;\">-0.578707</td><td style = \"text-align: right;\">-0.912374</td><td style = \"text-align: right;\">-1.04138</td><td style = \"text-align: right;\">0.687096</td><td style = \"text-align: right;\">1.25926</td><td style = \"text-align: right;\">-0.911538</td><td style = \"text-align: right;\">0.646059</td><td style = \"text-align: right;\">-1.03062</td><td style = \"text-align: right;\">-1.233</td></tr><tr><td class = \"rowNumber\" style = \"font-weight: bold; text-align: right;\">9995</td><td style = \"text-align: right;\">1.54647</td><td style = \"text-align: right;\">0.997154</td><td style = \"text-align: right;\">-0.578707</td><td style = \"text-align: right;\">1.09593</td><td style = \"text-align: right;\">-0.946032</td><td style = \"text-align: right;\">-1.04171</td><td style = \"text-align: right;\">-1.22579</td><td style = \"text-align: right;\">0.807696</td><td style = \"text-align: right;\">-1.54769</td><td style = \"text-align: right;\">-1.03062</td><td style = \"text-align: right;\">1.17689</td></tr><tr><td class = \"rowNumber\" style = \"font-weight: bold; text-align: right;\">9996</td><td style = \"text-align: right;\">1.24643</td><td style = \"text-align: right;\">0.997154</td><td style = \"text-align: right;\">-0.578707</td><td style = \"text-align: right;\">-0.912374</td><td style = \"text-align: right;\">0.00745628</td><td style = \"text-align: right;\">-0.00442574</td><td style = \"text-align: right;\">-1.22579</td><td style = \"text-align: right;\">0.807696</td><td style = \"text-align: right;\">0.646059</td><td style = \"text-align: right;\">-1.03062</td><td style = \"text-align: right;\">-0.0664157</td></tr><tr><td class = \"rowNumber\" style = \"font-weight: bold; text-align: right;\">9997</td><td style = \"text-align: right;\">-1.39187</td><td style = \"text-align: right;\">0.997154</td><td style = \"text-align: right;\">-0.578707</td><td style = \"text-align: right;\">-0.912374</td><td style = \"text-align: right;\">-0.373939</td><td style = \"text-align: right;\">1.72438</td><td style = \"text-align: right;\">-0.306363</td><td style = \"text-align: right;\">-0.911538</td><td style = \"text-align: right;\">0.646059</td><td style = \"text-align: right;\">0.970194</td><td style = \"text-align: right;\">0.0279867</td></tr><tr><td class = \"rowNumber\" style = \"font-weight: bold; text-align: right;\">9998</td><td style = \"text-align: right;\">0.604958</td><td style = \"text-align: right;\">0.997154</td><td style = \"text-align: right;\">-0.578707</td><td style = \"text-align: right;\">1.09593</td><td style = \"text-align: right;\">-0.27859</td><td style = \"text-align: right;\">0.687096</td><td style = \"text-align: right;\">-1.22579</td><td style = \"text-align: right;\">-0.911538</td><td style = \"text-align: right;\">-1.54769</td><td style = \"text-align: right;\">0.970194</td><td style = \"text-align: right;\">-1.00859</td></tr><tr><td class = \"rowNumber\" style = \"font-weight: bold; text-align: right;\">9999</td><td style = \"text-align: right;\">1.25677</td><td style = \"text-align: right;\">-1.00275</td><td style = \"text-align: right;\">1.72782</td><td style = \"text-align: right;\">-0.912374</td><td style = \"text-align: right;\">0.293503</td><td style = \"text-align: right;\">-0.695947</td><td style = \"text-align: right;\">-0.0226064</td><td style = \"text-align: right;\">0.807696</td><td style = \"text-align: right;\">0.646059</td><td style = \"text-align: right;\">-1.03062</td><td style = \"text-align: right;\">-0.125224</td></tr><tr><td class = \"rowNumber\" style = \"font-weight: bold; text-align: right;\">10000</td><td style = \"text-align: right;\">1.4637</td><td style = \"text-align: right;\">0.997154</td><td style = \"text-align: right;\">-0.578707</td><td style = \"text-align: right;\">1.09593</td><td style = \"text-align: right;\">-1.04138</td><td style = \"text-align: right;\">-0.350186</td><td style = \"text-align: right;\">0.859922</td><td style = \"text-align: right;\">-0.911538</td><td style = \"text-align: right;\">0.646059</td><td style = \"text-align: right;\">-1.03062</td><td style = \"text-align: right;\">-1.07632</td></tr></tbody></table></div>"
      ],
      "text/latex": [
       "\\begin{tabular}{r|cccccc}\n",
       "\t& CreditScore & Geography\\_\\_France & Geography\\_\\_Germany & Gender\\_\\_Female & Age & \\\\\n",
       "\t\\hline\n",
       "\t& Float64 & Float64 & Float64 & Float64 & Float64 & \\\\\n",
       "\t\\hline\n",
       "\t1 & -0.326205 & 0.997154 & -0.578707 & 1.09593 & 0.293503 & $\\dots$ \\\\\n",
       "\t2 & -0.440014 & -1.00275 & -0.578707 & 1.09593 & 0.198154 & $\\dots$ \\\\\n",
       "\t3 & -1.53672 & 0.997154 & -0.578707 & 1.09593 & 0.293503 & $\\dots$ \\\\\n",
       "\t4 & 0.501496 & 0.997154 & -0.578707 & 1.09593 & 0.00745628 & $\\dots$ \\\\\n",
       "\t5 & 2.06378 & -1.00275 & -0.578707 & 1.09593 & 0.388852 & $\\dots$ \\\\\n",
       "\t6 & -0.0572024 & -1.00275 & -0.578707 & -0.912374 & 0.4842 & $\\dots$ \\\\\n",
       "\t7 & 1.77409 & 0.997154 & -0.578707 & -0.912374 & 1.05629 & $\\dots$ \\\\\n",
       "\t8 & -2.84035 & -1.00275 & 1.72782 & 1.09593 & -0.946032 & $\\dots$ \\\\\n",
       "\t9 & -1.54706 & 0.997154 & -0.578707 & -0.912374 & 0.4842 & $\\dots$ \\\\\n",
       "\t10 & 0.346302 & 0.997154 & -0.578707 & -0.912374 & -1.13673 & $\\dots$ \\\\\n",
       "\t11 & -1.26771 & 0.997154 & -0.578707 & -0.912374 & -0.755334 & $\\dots$ \\\\\n",
       "\t12 & -1.58845 & -1.00275 & -0.578707 & -0.912374 & -1.42278 & $\\dots$ \\\\\n",
       "\t13 & -1.80572 & 0.997154 & -0.578707 & 1.09593 & -0.469288 & $\\dots$ \\\\\n",
       "\t14 & -1.05044 & 0.997154 & -0.578707 & 1.09593 & -1.32743 & $\\dots$ \\\\\n",
       "\t15 & -0.160665 & -1.00275 & -0.578707 & 1.09593 & -0.373939 & $\\dots$ \\\\\n",
       "\t16 & -0.357244 & -1.00275 & 1.72782 & -0.912374 & 0.579549 & $\\dots$ \\\\\n",
       "\t17 & 0.0255677 & -1.00275 & 1.72782 & -0.912374 & 1.81908 & $\\dots$ \\\\\n",
       "\t18 & -1.05044 & -1.00275 & -0.578707 & 1.09593 & -1.42278 & $\\dots$ \\\\\n",
       "\t19 & -0.657285 & -1.00275 & -0.578707 & -0.912374 & 0.579549 & $\\dots$ \\\\\n",
       "\t20 & 0.780845 & 0.997154 & -0.578707 & 1.09593 & -1.42278 & $\\dots$ \\\\\n",
       "\t21 & 0.842922 & 0.997154 & -0.578707 & -0.912374 & 0.198154 & $\\dots$ \\\\\n",
       "\t22 & -0.150319 & -1.00275 & -0.578707 & 1.09593 & -0.659985 & $\\dots$ \\\\\n",
       "\t23 & -1.45395 & -1.00275 & -0.578707 & 1.09593 & -0.0878925 & $\\dots$ \\\\\n",
       "\t24 & 0.191108 & 0.997154 & -0.578707 & -0.912374 & 0.674898 & $\\dots$ \\\\\n",
       "\t25 & 2.0224 & 0.997154 & -0.578707 & 1.09593 & -0.0878925 & $\\dots$ \\\\\n",
       "\t26 & -0.760748 & 0.997154 & -0.578707 & -0.912374 & -1.32743 & $\\dots$ \\\\\n",
       "\t27 & 1.09123 & -1.00275 & 1.72782 & -0.912374 & -0.27859 & $\\dots$ \\\\\n",
       "\t28 & -0.822826 & 0.997154 & -0.578707 & -0.912374 & 0.4842 & $\\dots$ \\\\\n",
       "\t29 & -0.791787 & -1.00275 & 1.72782 & 1.09593 & 0.388852 & $\\dots$ \\\\\n",
       "\t30 & -2.47823 & 0.997154 & -0.578707 & -0.912374 & -0.946032 & $\\dots$ \\\\\n",
       "\t$\\dots$ & $\\dots$ & $\\dots$ & $\\dots$ & $\\dots$ & $\\dots$ &  \\\\\n",
       "\\end{tabular}\n"
      ],
      "text/plain": [
       "\u001b[1m10000×11 DataFrame\u001b[0m\n",
       "\u001b[1m   Row \u001b[0m│\u001b[1m CreditScore \u001b[0m\u001b[1m Geography__France \u001b[0m\u001b[1m Geography__Germany \u001b[0m\u001b[1m Gender__Female \u001b[0m\u001b[1m A\u001b[0m ⋯\n",
       "       │\u001b[90m Float64     \u001b[0m\u001b[90m Float64           \u001b[0m\u001b[90m Float64            \u001b[0m\u001b[90m Float64        \u001b[0m\u001b[90m F\u001b[0m ⋯\n",
       "───────┼────────────────────────────────────────────────────────────────────────\n",
       "     1 │  -0.326205            0.997154           -0.578707        1.09593     ⋯\n",
       "     2 │  -0.440014           -1.00275            -0.578707        1.09593\n",
       "     3 │  -1.53672             0.997154           -0.578707        1.09593\n",
       "     4 │   0.501496            0.997154           -0.578707        1.09593\n",
       "     5 │   2.06378            -1.00275            -0.578707        1.09593     ⋯\n",
       "     6 │  -0.0572024          -1.00275            -0.578707       -0.912374\n",
       "     7 │   1.77409             0.997154           -0.578707       -0.912374\n",
       "     8 │  -2.84035            -1.00275             1.72782         1.09593   -\n",
       "     9 │  -1.54706             0.997154           -0.578707       -0.912374    ⋯\n",
       "    10 │   0.346302            0.997154           -0.578707       -0.912374  -\n",
       "    11 │  -1.26771             0.997154           -0.578707       -0.912374  -\n",
       "   ⋮   │      ⋮               ⋮                  ⋮                 ⋮           ⋱\n",
       "  9991 │   0.656689           -1.00275             1.72782        -0.912374  -\n",
       "  9992 │  -0.553823            0.997154           -0.578707        1.09593     ⋯\n",
       "  9993 │   0.780845           -1.00275            -0.578707       -0.912374  -\n",
       "  9994 │  -0.0675487           0.997154           -0.578707       -0.912374  -\n",
       "  9995 │   1.54647             0.997154           -0.578707        1.09593   -\n",
       "  9996 │   1.24643             0.997154           -0.578707       -0.912374    ⋯\n",
       "  9997 │  -1.39187             0.997154           -0.578707       -0.912374  -\n",
       "  9998 │   0.604958            0.997154           -0.578707        1.09593   -\n",
       "  9999 │   1.25677            -1.00275             1.72782        -0.912374\n",
       " 10000 │   1.4637              0.997154           -0.578707        1.09593   - ⋯\n",
       "\u001b[36m                                                 7 columns and 9979 rows omitted\u001b[0m"
      ]
     },
     "execution_count": 9,
     "metadata": {},
     "output_type": "execute_result"
    }
   ],
   "source": [
    "sc = Standardizer()\n",
    "Xdf = machine(sc, Xdf) |> fit! |> MLJ.transform"
   ]
  },
  {
   "cell_type": "markdown",
   "id": "23528572-1be4-4a49-91f2-a063fcfe9989",
   "metadata": {},
   "source": [
    "Extract only the values for `X`, i.e, rm the headers."
   ]
  },
  {
   "cell_type": "code",
   "execution_count": 10,
   "id": "a03d111e-fe5e-4431-8aa9-bb2e7649085b",
   "metadata": {},
   "outputs": [],
   "source": [
    "n, m = size(Xdf)\n",
    "X = Array{Float32, 2}(undef, (n, m));\n",
    "for i in 1:m\n",
    "    X[:, i] = Xdf[!, i];\n",
    "end"
   ]
  },
  {
   "cell_type": "markdown",
   "id": "a3255f5b-c70a-4fe8-b8ab-c06090e0e305",
   "metadata": {},
   "source": [
    "Design the architecture of the classifier, denoted hereafter by `clf`"
   ]
  },
  {
   "cell_type": "code",
   "execution_count": 11,
   "id": "7396f3af-0067-4bf4-91e4-a6025f2a354d",
   "metadata": {},
   "outputs": [
    {
     "data": {
      "text/plain": [
       "Chain(\n",
       "  Dense(11 => 8, relu),                 \u001b[90m# 96 parameters\u001b[39m\n",
       "  Dense(8 => 8, relu),                  \u001b[90m# 72 parameters\u001b[39m\n",
       "  Dense(8 => 8, relu),                  \u001b[90m# 72 parameters\u001b[39m\n",
       "  Dense(8 => 1),                        \u001b[90m# 9 parameters\u001b[39m\n",
       ") \u001b[90m                  # Total: 8 arrays, \u001b[39m249 parameters, 1.379 KiB."
      ]
     },
     "execution_count": 11,
     "metadata": {},
     "output_type": "execute_result"
    }
   ],
   "source": [
    "clf = Chain(\n",
    "            Dense( 11 => 8, relu ),\n",
    "            Dense(  8 => 8, relu ),\n",
    "            Dense(  8 => 8, relu ),\n",
    "            Dense(  8 => 1 )\n",
    "            )"
   ]
  },
  {
   "cell_type": "markdown",
   "id": "fda9d56c-2bc5-4ce4-81ce-3a4fe7fc6bbc",
   "metadata": {},
   "source": [
    "Permute dims: ROW => features and COL => observation"
   ]
  },
  {
   "cell_type": "code",
   "execution_count": 12,
   "id": "dab64d8f-c1cf-4a4b-b7c1-6898da01104c",
   "metadata": {},
   "outputs": [],
   "source": [
    "X = X'; # permutedims(X)\n",
    "y = y'; # permutedims(y)"
   ]
  },
  {
   "cell_type": "markdown",
   "id": "3c87f420-b760-48f6-adff-3bdce94a8bce",
   "metadata": {},
   "source": [
    "Optimizers and data loader"
   ]
  },
  {
   "cell_type": "code",
   "execution_count": 13,
   "id": "219002cd-5d61-4385-ae70-b05277ee92c0",
   "metadata": {},
   "outputs": [
    {
     "data": {
      "text/plain": [
       "Any[]"
      ]
     },
     "execution_count": 13,
     "metadata": {},
     "output_type": "execute_result"
    }
   ],
   "source": [
    "opt = Flux.Adam(η);\n",
    "state = Flux.setup(opt, clf);\n",
    "loader = Flux.DataLoader((X, y); batchsize=batchsize, shuffle=true);\n",
    "vec_loss = []"
   ]
  },
  {
   "cell_type": "markdown",
   "id": "9f2913f7-6c65-4501-aaa1-8f6930aac403",
   "metadata": {},
   "source": [
    "**Training phase**"
   ]
  },
  {
   "cell_type": "code",
   "execution_count": 14,
   "id": "627ea459-20be-4a2a-a81b-7eea53d562d1",
   "metadata": {},
   "outputs": [],
   "source": [
    "using ProgressMeter"
   ]
  },
  {
   "cell_type": "code",
   "execution_count": 15,
   "id": "b2659b30-d34f-4342-b25c-bf33d96f0714",
   "metadata": {},
   "outputs": [
    {
     "name": "stderr",
     "output_type": "stream",
     "text": [
      "\u001b[32mProgress: 100%|█████████████████████████████████████████| Time: 0:00:22\u001b[39m\n"
     ]
    }
   ],
   "source": [
    "@showprogress for _ in 1:epochs\n",
    "    for (X, y) in loader\n",
    "        loss, grads = Flux.withgradient(clf) do mdl\n",
    "            ŷ_ = mdl(X);\n",
    "            Flux.Losses.logitbinarycrossentropy(ŷ_, y);\n",
    "        end\n",
    "        Flux.update!(state, clf, grads[1]); # Upd `W` and `b`\n",
    "        push!(vec_loss, loss); # Log `loss` to the vector `vec_loss`\n",
    "    end\n",
    "end"
   ]
  },
  {
   "cell_type": "markdown",
   "id": "657d0772-42c2-4008-b7ca-3a8f6fd5a9c4",
   "metadata": {},
   "source": [
    "Plot the loss vector `vec_loss`"
   ]
  },
  {
   "cell_type": "code",
   "execution_count": 16,
   "id": "1ea5ee51-3e85-4a73-b5db-d6f20edb7754",
   "metadata": {},
   "outputs": [],
   "source": [
    "using Plots"
   ]
  },
  {
   "cell_type": "code",
   "execution_count": 17,
   "id": "eb34ce14-a1b6-4028-ae6b-e6c8963d499d",
   "metadata": {},
   "outputs": [
    {
     "data": {
      "text/plain": [
       "(0.087101184f0, 0.843641f0)"
      ]
     },
     "execution_count": 17,
     "metadata": {},
     "output_type": "execute_result"
    }
   ],
   "source": [
    "plot(vec_loss, label=\"Loss\")\n",
    "extrema(vec_loss)"
   ]
  },
  {
   "cell_type": "markdown",
   "id": "8a1cea8e-3adb-48ad-a17d-693058b58ae3",
   "metadata": {},
   "source": [
    "Some metrics"
   ]
  },
  {
   "cell_type": "code",
   "execution_count": 18,
   "id": "ae89082d-4831-48b1-86d2-6a9898c3b9cb",
   "metadata": {},
   "outputs": [],
   "source": [
    "ŷ = clf(X) |> σ;\n",
    "ŷ = (ŷ .≥ .5);"
   ]
  },
  {
   "cell_type": "markdown",
   "id": "812a9a60-ad57-4437-9efb-2de7c61ac6ff",
   "metadata": {},
   "source": [
    "Basic way to compute the accuracy"
   ]
  },
  {
   "cell_type": "code",
   "execution_count": 19,
   "id": "ebbbe8e5-e4c9-4651-9446-a5291c30261c",
   "metadata": {},
   "outputs": [
    {
     "data": {
      "text/plain": [
       "0.8663"
      ]
     },
     "execution_count": 19,
     "metadata": {},
     "output_type": "execute_result"
    }
   ],
   "source": [
    "accuracy = mean( ŷ .== y )"
   ]
  },
  {
   "cell_type": "markdown",
   "id": "5db99a17-a21e-412b-9fb3-0188d4bd806a",
   "metadata": {},
   "source": [
    "Confusion Matrix"
   ]
  },
  {
   "cell_type": "code",
   "execution_count": 20,
   "id": "36b9da32-4a4c-49ee-af03-f77dd4ca0f5d",
   "metadata": {},
   "outputs": [
    {
     "data": {
      "text/plain": [
       "2×2 Matrix{Int64}:\n",
       "  913   213\n",
       " 1124  7750"
      ]
     },
     "execution_count": 20,
     "metadata": {},
     "output_type": "execute_result"
    }
   ],
   "source": [
    "displayed_cm = MLJ.ConfusionMatrix(levels=[1, 0])(ŷ, y)\n",
    "cm = ConfusionMatrices.matrix(displayed_cm)"
   ]
  },
  {
   "cell_type": "markdown",
   "id": "c546b9d0-e340-479f-8058-0960743f57da",
   "metadata": {},
   "source": [
    "Other metrics"
   ]
  },
  {
   "cell_type": "code",
   "execution_count": 21,
   "id": "e020928e-16ed-403a-8229-b8dc6c4a6656",
   "metadata": {},
   "outputs": [],
   "source": [
    "TP, TN, FP, FN = cm[2, 2], cm[1, 1], cm[2, 1], cm[1, 2];"
   ]
  },
  {
   "cell_type": "markdown",
   "id": "2f0458f7-dca2-48ba-bee7-e29b2a2ba80b",
   "metadata": {},
   "source": [
    "`Accuracy` denotes the ratio of how much we got right over all cases:\n",
    "$$ \\text{Accuracy} \\;=\\; \\dfrac{\\text{TP}+\\text{TN}}{\\text{TP}+\\text{FP}+\\text{TN}+\\text{FN}} $$"
   ]
  },
  {
   "cell_type": "code",
   "execution_count": 22,
   "id": "83b54e94-3967-4b46-bef1-1d7c64b384d2",
   "metadata": {
    "scrolled": true
   },
   "outputs": [
    {
     "data": {
      "text/plain": [
       "0.8663"
      ]
     },
     "execution_count": 22,
     "metadata": {},
     "output_type": "execute_result"
    }
   ],
   "source": [
    "accuracy_ = (TP+TN)/(TP+TN+FP+FN) # MLJ.accuracy(cm)"
   ]
  },
  {
   "cell_type": "markdown",
   "id": "2fbfaff5-8c1a-4f03-8ca5-0c9d6fd4d2bb",
   "metadata": {},
   "source": [
    "`Precision` designates how much positives do we get right over all positive predictions:\n",
    "$$ \\text{Precision} \\;=\\; \\dfrac{\\text{TP}}{\\text{TP}+\\text{FP}} $$"
   ]
  },
  {
   "cell_type": "code",
   "execution_count": 23,
   "id": "a931dc9e-1f78-4105-8ee6-f5c19e889c42",
   "metadata": {},
   "outputs": [
    {
     "data": {
      "text/plain": [
       "0.8733378408834799"
      ]
     },
     "execution_count": 23,
     "metadata": {},
     "output_type": "execute_result"
    }
   ],
   "source": [
    "precision_ = TP/(TP+FP) # MLJ.precision(cm)"
   ]
  },
  {
   "cell_type": "markdown",
   "id": "20073cdd-304c-4464-9647-e2d26931f15d",
   "metadata": {},
   "source": [
    "`Recall` is the ratio of how much positives we got\n",
    "right over all actual positive cases:\n",
    "$$ \\text{Recall} \\;=\\; \\dfrac{\\text{TP}}{\\text{TP}+\\text{FN}} $$"
   ]
  },
  {
   "cell_type": "code",
   "execution_count": 24,
   "id": "dea25d3f-d757-4aed-9b88-8c9a30212570",
   "metadata": {},
   "outputs": [
    {
     "data": {
      "text/plain": [
       "0.9732512872033153"
      ]
     },
     "execution_count": 24,
     "metadata": {},
     "output_type": "execute_result"
    }
   ],
   "source": [
    "recall_ = TP/(TP+FN) # MLJ.recall(cm)"
   ]
  },
  {
   "cell_type": "markdown",
   "id": "517a9efd-806b-48fe-9015-e44947b7662b",
   "metadata": {},
   "source": [
    "`f1-score` denotes the <u>Harmonic Mean</u> of `Precision` & `Recall`:\n",
    "$$ \\text{f1-score} \\;=\\; \\dfrac{2}{\\dfrac{1}{\\text{Precision}}+\\dfrac{1}{\\text{Recall}}} $$"
   ]
  },
  {
   "cell_type": "code",
   "execution_count": 25,
   "id": "dde45637-cf3b-41ab-8f65-3ebb6a9caf9c",
   "metadata": {},
   "outputs": [
    {
     "data": {
      "text/plain": [
       "0.9205915543149019"
      ]
     },
     "execution_count": 25,
     "metadata": {},
     "output_type": "execute_result"
    }
   ],
   "source": [
    "f1score_ = 2/(1/precision_ + 1/recall_) # MLJ.f1score(cm)"
   ]
  }
 ],
 "metadata": {
  "kernelspec": {
   "display_name": "Julia 1.11.1",
   "language": "julia",
   "name": "julia-1.11"
  },
  "language_info": {
   "file_extension": ".jl",
   "mimetype": "application/julia",
   "name": "julia",
   "version": "1.11.1"
  }
 },
 "nbformat": 4,
 "nbformat_minor": 5
}
